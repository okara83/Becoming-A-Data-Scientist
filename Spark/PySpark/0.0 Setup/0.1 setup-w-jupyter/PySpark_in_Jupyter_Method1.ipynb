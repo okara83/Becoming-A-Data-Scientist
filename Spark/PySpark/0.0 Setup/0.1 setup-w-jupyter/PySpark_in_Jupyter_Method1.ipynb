{
 "cells": [
  {
   "cell_type": "markdown",
   "id": "compressed-prime",
   "metadata": {},
   "source": [
    "First In terminal carry ou the following commands:"
   ]
  },
  {
   "cell_type": "markdown",
   "id": "olive-programming",
   "metadata": {},
   "source": [
    "\\\\$ echo export SPARK_HOME=/opt/spark >> ~/.zshrc         (or ~/.bashrc) "
   ]
  },
  {
   "cell_type": "markdown",
   "id": "green-absolute",
   "metadata": {},
   "source": [
    "\\\\$ echo export PATH=\\\\$SPARK_HOME/bin:\\\\$PATH >> ~/.zshrc   (or ~/.bashrc)"
   ]
  },
  {
   "cell_type": "markdown",
   "id": "finite-humor",
   "metadata": {},
   "source": [
    "# Now launch jupyter notebook with the command:"
   ]
  },
  {
   "cell_type": "markdown",
   "id": "economic-honey",
   "metadata": {},
   "source": [
    "\\\\$ pyspark"
   ]
  },
  {
   "cell_type": "code",
   "execution_count": null,
   "id": "textile-istanbul",
   "metadata": {},
   "outputs": [],
   "source": []
  }
 ],
 "metadata": {
  "kernelspec": {
   "display_name": "Python 3",
   "language": "python",
   "name": "python3"
  },
  "language_info": {
   "codemirror_mode": {
    "name": "ipython",
    "version": 3
   },
   "file_extension": ".py",
   "mimetype": "text/x-python",
   "name": "python",
   "nbconvert_exporter": "python",
   "pygments_lexer": "ipython3",
   "version": "3.8.2"
  }
 },
 "nbformat": 4,
 "nbformat_minor": 5
}
