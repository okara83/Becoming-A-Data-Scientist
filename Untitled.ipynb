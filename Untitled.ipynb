{
 "cells": [
  {
   "cell_type": "code",
   "execution_count": 21,
   "id": "d2607a40",
   "metadata": {},
   "outputs": [],
   "source": [
    "import re \n",
    "import requests\n",
    "import pandas as pd"
   ]
  },
  {
   "cell_type": "code",
   "execution_count": 2,
   "id": "5f5a9f28",
   "metadata": {},
   "outputs": [],
   "source": [
    "url = \"https://people.sc.fsu.edu/~jburkardt/data/csv/csv.html\"\n",
    "page = requests.get(url).text"
   ]
  },
  {
   "cell_type": "code",
   "execution_count": null,
   "id": "e4f8e7e3",
   "metadata": {},
   "outputs": [],
   "source": [
    "page"
   ]
  },
  {
   "cell_type": "code",
   "execution_count": 17,
   "id": "e1ffc406",
   "metadata": {},
   "outputs": [],
   "source": [
    "ret = re.findall(r\"<a href\\s=\\s\\\"([^<>]*?\\.csv)\\\"\",page,re.DOTALL)"
   ]
  },
  {
   "cell_type": "code",
   "execution_count": 18,
   "id": "c2030dc1",
   "metadata": {},
   "outputs": [
    {
     "data": {
      "text/plain": [
       "['addresses.csv',\n",
       " 'airtravel.csv',\n",
       " 'biostats.csv',\n",
       " 'cities.csv',\n",
       " 'crash_catalonia.csv',\n",
       " 'deniro.csv',\n",
       " 'example.csv',\n",
       " 'ford_escort.csv',\n",
       " 'faithful.csv',\n",
       " 'freshman_kgs.csv',\n",
       " 'freshman_lbs.csv',\n",
       " 'grades.csv',\n",
       " 'homes.csv',\n",
       " 'hooke.csv',\n",
       " 'hurricanes.csv',\n",
       " 'hw_200.csv',\n",
       " 'hw_25000.csv',\n",
       " 'lead_shot.csv',\n",
       " 'letter_frequency.csv',\n",
       " 'mlb_players.csv',\n",
       " 'mlb_teams_2012.csv',\n",
       " 'news_decline.csv',\n",
       " 'nile.csv',\n",
       " 'oscar_age_female.csv',\n",
       " 'oscar_age_male.csv',\n",
       " 'snakes_count_10.csv',\n",
       " 'snakes_count_100.csv',\n",
       " 'snakes_count_1000.csv',\n",
       " 'snakes_count_10000.csv',\n",
       " 'tally_cab.csv',\n",
       " 'taxables.csv',\n",
       " 'trees.csv',\n",
       " 'zillow.csv']"
      ]
     },
     "execution_count": 18,
     "metadata": {},
     "output_type": "execute_result"
    }
   ],
   "source": [
    "ret"
   ]
  },
  {
   "cell_type": "code",
   "execution_count": 27,
   "id": "c006c80b",
   "metadata": {},
   "outputs": [],
   "source": [
    "for i in ret:\n",
    "    new_url = \"https://people.sc.fsu.edu/~jburkardt/data/csv/\"+i\n",
    "    try:\n",
    "        page = pd.read_csv(new_url)\n",
    "        page.to_csv(f\"sample-data/{i}\")\n",
    "    except:\n",
    "        pass"
   ]
  },
  {
   "cell_type": "code",
   "execution_count": 22,
   "id": "b162a552",
   "metadata": {},
   "outputs": [],
   "source": []
  },
  {
   "cell_type": "code",
   "execution_count": 23,
   "id": "3379a96c",
   "metadata": {},
   "outputs": [
    {
     "data": {
      "text/html": [
       "<div>\n",
       "<style scoped>\n",
       "    .dataframe tbody tr th:only-of-type {\n",
       "        vertical-align: middle;\n",
       "    }\n",
       "\n",
       "    .dataframe tbody tr th {\n",
       "        vertical-align: top;\n",
       "    }\n",
       "\n",
       "    .dataframe thead th {\n",
       "        text-align: right;\n",
       "    }\n",
       "</style>\n",
       "<table border=\"1\" class=\"dataframe\">\n",
       "  <thead>\n",
       "    <tr style=\"text-align: right;\">\n",
       "      <th></th>\n",
       "      <th>Year</th>\n",
       "      <th>\"Flood\"</th>\n",
       "    </tr>\n",
       "  </thead>\n",
       "  <tbody>\n",
       "    <tr>\n",
       "      <th>0</th>\n",
       "      <td>1</td>\n",
       "      <td>9.9974</td>\n",
       "    </tr>\n",
       "    <tr>\n",
       "      <th>1</th>\n",
       "      <td>2</td>\n",
       "      <td>10.5556</td>\n",
       "    </tr>\n",
       "    <tr>\n",
       "      <th>2</th>\n",
       "      <td>3</td>\n",
       "      <td>9.9014</td>\n",
       "    </tr>\n",
       "    <tr>\n",
       "      <th>3</th>\n",
       "      <td>4</td>\n",
       "      <td>11.4800</td>\n",
       "    </tr>\n",
       "    <tr>\n",
       "      <th>4</th>\n",
       "      <td>5</td>\n",
       "      <td>12.8460</td>\n",
       "    </tr>\n",
       "    <tr>\n",
       "      <th>...</th>\n",
       "      <td>...</td>\n",
       "      <td>...</td>\n",
       "    </tr>\n",
       "    <tr>\n",
       "      <th>565</th>\n",
       "      <td>566</td>\n",
       "      <td>11.3840</td>\n",
       "    </tr>\n",
       "    <tr>\n",
       "      <th>566</th>\n",
       "      <td>567</td>\n",
       "      <td>9.8630</td>\n",
       "    </tr>\n",
       "    <tr>\n",
       "      <th>567</th>\n",
       "      <td>568</td>\n",
       "      <td>10.8450</td>\n",
       "    </tr>\n",
       "    <tr>\n",
       "      <th>568</th>\n",
       "      <td>569</td>\n",
       "      <td>10.4020</td>\n",
       "    </tr>\n",
       "    <tr>\n",
       "      <th>569</th>\n",
       "      <td>570</td>\n",
       "      <td>10.3060</td>\n",
       "    </tr>\n",
       "  </tbody>\n",
       "</table>\n",
       "<p>570 rows × 2 columns</p>\n",
       "</div>"
      ],
      "text/plain": [
       "     Year   \"Flood\"\n",
       "0       1    9.9974\n",
       "1       2   10.5556\n",
       "2       3    9.9014\n",
       "3       4   11.4800\n",
       "4       5   12.8460\n",
       "..    ...       ...\n",
       "565   566   11.3840\n",
       "566   567    9.8630\n",
       "567   568   10.8450\n",
       "568   569   10.4020\n",
       "569   570   10.3060\n",
       "\n",
       "[570 rows x 2 columns]"
      ]
     },
     "execution_count": 23,
     "metadata": {},
     "output_type": "execute_result"
    }
   ],
   "source": []
  },
  {
   "cell_type": "code",
   "execution_count": null,
   "id": "b77b375b",
   "metadata": {},
   "outputs": [],
   "source": []
  }
 ],
 "metadata": {
  "kernelspec": {
   "display_name": "Python 3 (ipykernel)",
   "language": "python",
   "name": "python3"
  },
  "language_info": {
   "codemirror_mode": {
    "name": "ipython",
    "version": 3
   },
   "file_extension": ".py",
   "mimetype": "text/x-python",
   "name": "python",
   "nbconvert_exporter": "python",
   "pygments_lexer": "ipython3",
   "version": "3.9.12"
  }
 },
 "nbformat": 4,
 "nbformat_minor": 5
}
