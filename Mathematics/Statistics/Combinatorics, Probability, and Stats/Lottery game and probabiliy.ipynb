{
 "cells": [
  {
   "cell_type": "markdown",
   "metadata": {},
   "source": [
    "# What lottery can teach us about probability? \n",
    "\n",
    "Lottery is an amazing concept and it touches intensively our emotions. Why say not to an idea that promises huge prizes with a minimum effort? This is the simple concept behind lottery, at least, for our first thought. \n",
    "\n",
    "In this notebook, let's find out some probability and combinatorics concepts applied in lottery.  \n",
    "\n",
    "\n",
    "## Context\n",
    "\n",
    "Give a try to play lottery is not bad at all. Simply, it demonstrates our willing to play with random events and, of course, our curiosity to non-deterministic results. The problem is when lottery it is a source of addiction and many people have financial, personal, professional or relationships problems.\n",
    "\n",
    "So, our main goal is to demsotrate to those people with mathematical fundations that lottery is a representation of a random event and the true potential to win in this game is not in our favor. \n",
    "\n",
    "To create the simulation, we use available and real data from 6/49 lottery game in Canada. This dataset can be found in Kaggle: https://www.kaggle.com/datascienceai/lottery-dataset\n",
    "\n",
    "\n",
    "## Basic concepts\n",
    "\n",
    "Combinations are our friends when we want to count groups of elements in a set without replacement and without any given order.\n",
    "\n",
    "The kind of lottery that we will be using during this project says \"6 numbers are drawn from a set of 49 possible numbers\"\n",
    "\n",
    "So, our first math definition:\n",
    "\n",
    "A combination take only k objects from a group of n objects (order doesn't matter and without replacement). The formule is: n! /  k!(n-k)!\n"
   ]
  },
  {
   "cell_type": "code",
   "execution_count": 1,
   "metadata": {},
   "outputs": [],
   "source": [
    "# Factorial iterative function\n",
    "def factorial(n):\n",
    "    result = 1\n",
    "    for i in range(n, 0, -1):\n",
    "        result *= i\n",
    "    return result\n",
    "# Combinatorial function\n",
    "def combination(n, k):\n",
    "    return factorial(n)/(factorial(k) * factorial(n-k))"
   ]
  },
  {
   "cell_type": "markdown",
   "metadata": {},
   "source": [
    "## Winning the big prize\n",
    "\n",
    "To win the big prize, our 6 numbers need to be exactly as the 6 win numbers. Let's calculate this probability. Before that, what probability does it mean? and Why is so important?\n",
    "\n",
    "A probability is a number between 0 and 1 that tell us the \"frequency\" or \"belief degree\" a random variable take some specific or set numbers. It's important to say that there are different approaches in probability such as frequentist and bayesian.\n",
    "\n",
    "Probability is an awesome discipline because it can give us objective and scientific data from randomness processes.\n",
    "\n",
    "Now, let's create a function to achieve this:"
   ]
  },
  {
   "cell_type": "code",
   "execution_count": 2,
   "metadata": {},
   "outputs": [
    {
     "name": "stdout",
     "output_type": "stream",
     "text": [
      "The probability to win the big prize with your numbers [10, 20, 30, 40, 43, 44] is 7.151123842018516e-06%\n",
      "The probability to win the big prize with your numbers [1, 3, 6, 7, 21, 41] is 7.151123842018516e-06%\n"
     ]
    }
   ],
   "source": [
    "def big_prize_proba(my_numbers):\n",
    "    proba =  (1 / int(combination(49, 6))) * 100\n",
    "    print('''The probability to win the big prize with your numbers {} is {}%'''.format(my_numbers,proba))\n",
    "# Some random examples\n",
    "big_prize_proba([10,20,30,40,43,44])\n",
    "big_prize_proba([1,3,6,7,21,41])"
   ]
  },
  {
   "cell_type": "markdown",
   "metadata": {},
   "source": [
    "As we can see, it doesn't matter which numbers we chose, the probability is the same. So, why so many people believe that some numbers are magic, lucky? Are there compelling reasons to still believe that? \n",
    "Let's find out.\n",
    "\n",
    "## What happen if I had played in ....?\n",
    "Now, with the help of our dataset, let's propose a game called \"What happen if I had played...\" Obviously, let's assume all the considerations that we have talked about: Canada location and 6/49 lottery type.  \n",
    "\n",
    "The goal is only recreative and fun but there's something else. It can allow us to demonstrate that every realization of this random experience is new without any kind of dependency. We are, then, talking about independent random variables.\n",
    "\n",
    "First of all, let's check the anatomy of our data with the help of head() function."
   ]
  },
  {
   "cell_type": "code",
   "execution_count": 3,
   "metadata": {},
   "outputs": [
    {
     "data": {
      "text/html": [
       "<div>\n",
       "<style scoped>\n",
       "    .dataframe tbody tr th:only-of-type {\n",
       "        vertical-align: middle;\n",
       "    }\n",
       "\n",
       "    .dataframe tbody tr th {\n",
       "        vertical-align: top;\n",
       "    }\n",
       "\n",
       "    .dataframe thead th {\n",
       "        text-align: right;\n",
       "    }\n",
       "</style>\n",
       "<table border=\"1\" class=\"dataframe\">\n",
       "  <thead>\n",
       "    <tr style=\"text-align: right;\">\n",
       "      <th></th>\n",
       "      <th>PRODUCT</th>\n",
       "      <th>DRAW NUMBER</th>\n",
       "      <th>SEQUENCE NUMBER</th>\n",
       "      <th>DRAW DATE</th>\n",
       "      <th>NUMBER DRAWN 1</th>\n",
       "      <th>NUMBER DRAWN 2</th>\n",
       "      <th>NUMBER DRAWN 3</th>\n",
       "      <th>NUMBER DRAWN 4</th>\n",
       "      <th>NUMBER DRAWN 5</th>\n",
       "      <th>NUMBER DRAWN 6</th>\n",
       "      <th>BONUS NUMBER</th>\n",
       "    </tr>\n",
       "  </thead>\n",
       "  <tbody>\n",
       "    <tr>\n",
       "      <th>0</th>\n",
       "      <td>649</td>\n",
       "      <td>1</td>\n",
       "      <td>0</td>\n",
       "      <td>6/12/1982</td>\n",
       "      <td>3</td>\n",
       "      <td>11</td>\n",
       "      <td>12</td>\n",
       "      <td>14</td>\n",
       "      <td>41</td>\n",
       "      <td>43</td>\n",
       "      <td>13</td>\n",
       "    </tr>\n",
       "    <tr>\n",
       "      <th>1</th>\n",
       "      <td>649</td>\n",
       "      <td>2</td>\n",
       "      <td>0</td>\n",
       "      <td>6/19/1982</td>\n",
       "      <td>8</td>\n",
       "      <td>33</td>\n",
       "      <td>36</td>\n",
       "      <td>37</td>\n",
       "      <td>39</td>\n",
       "      <td>41</td>\n",
       "      <td>9</td>\n",
       "    </tr>\n",
       "    <tr>\n",
       "      <th>2</th>\n",
       "      <td>649</td>\n",
       "      <td>3</td>\n",
       "      <td>0</td>\n",
       "      <td>6/26/1982</td>\n",
       "      <td>1</td>\n",
       "      <td>6</td>\n",
       "      <td>23</td>\n",
       "      <td>24</td>\n",
       "      <td>27</td>\n",
       "      <td>39</td>\n",
       "      <td>34</td>\n",
       "    </tr>\n",
       "    <tr>\n",
       "      <th>3</th>\n",
       "      <td>649</td>\n",
       "      <td>4</td>\n",
       "      <td>0</td>\n",
       "      <td>7/3/1982</td>\n",
       "      <td>3</td>\n",
       "      <td>9</td>\n",
       "      <td>10</td>\n",
       "      <td>13</td>\n",
       "      <td>20</td>\n",
       "      <td>43</td>\n",
       "      <td>34</td>\n",
       "    </tr>\n",
       "    <tr>\n",
       "      <th>4</th>\n",
       "      <td>649</td>\n",
       "      <td>5</td>\n",
       "      <td>0</td>\n",
       "      <td>7/10/1982</td>\n",
       "      <td>5</td>\n",
       "      <td>14</td>\n",
       "      <td>21</td>\n",
       "      <td>31</td>\n",
       "      <td>34</td>\n",
       "      <td>47</td>\n",
       "      <td>45</td>\n",
       "    </tr>\n",
       "  </tbody>\n",
       "</table>\n",
       "</div>"
      ],
      "text/plain": [
       "   PRODUCT  DRAW NUMBER  SEQUENCE NUMBER  DRAW DATE  NUMBER DRAWN 1  \\\n",
       "0      649            1                0  6/12/1982               3   \n",
       "1      649            2                0  6/19/1982               8   \n",
       "2      649            3                0  6/26/1982               1   \n",
       "3      649            4                0   7/3/1982               3   \n",
       "4      649            5                0  7/10/1982               5   \n",
       "\n",
       "   NUMBER DRAWN 2  NUMBER DRAWN 3  NUMBER DRAWN 4  NUMBER DRAWN 5  \\\n",
       "0              11              12              14              41   \n",
       "1              33              36              37              39   \n",
       "2               6              23              24              27   \n",
       "3               9              10              13              20   \n",
       "4              14              21              31              34   \n",
       "\n",
       "   NUMBER DRAWN 6  BONUS NUMBER  \n",
       "0              43            13  \n",
       "1              41             9  \n",
       "2              39            34  \n",
       "3              43            34  \n",
       "4              47            45  "
      ]
     },
     "execution_count": 3,
     "metadata": {},
     "output_type": "execute_result"
    }
   ],
   "source": [
    "import pandas as pd\n",
    "lottery = pd.read_csv('649.csv')\n",
    "lottery.head()"
   ]
  },
  {
   "cell_type": "markdown",
   "metadata": {},
   "source": [
    "We have interesting data in the dataset, but there are columns that don't help in our analysis such as \"product, draw number and sequence number\". So let's extract relevant data to work with them"
   ]
  },
  {
   "cell_type": "code",
   "execution_count": 4,
   "metadata": {},
   "outputs": [
    {
     "data": {
      "text/plain": [
       "0    {3, 41, 11, 12, 43, 14}\n",
       "1    {33, 36, 37, 39, 8, 41}\n",
       "2     {1, 6, 39, 23, 24, 27}\n",
       "3     {3, 9, 10, 43, 13, 20}\n",
       "4    {34, 5, 14, 47, 21, 31}\n",
       "dtype: object"
      ]
     },
     "execution_count": 4,
     "metadata": {},
     "output_type": "execute_result"
    }
   ],
   "source": [
    "def winners_numbers_historic(data):\n",
    "    data = data[4:10]\n",
    "    #Set can help handle unordered data\n",
    "    data = set(data.values)\n",
    "    return data\n",
    "\n",
    "lucky_numbers = lottery.apply(winners_numbers_historic, axis=1)\n",
    "lucky_numbers.head()"
   ]
  },
  {
   "cell_type": "code",
   "execution_count": 5,
   "metadata": {},
   "outputs": [
    {
     "name": "stdout",
     "output_type": "stream",
     "text": [
      "Your set of numbers {1, 6, 39, 23, 24, 27} had happened 1 times in the past (3665 independent games)\n",
      "Your set of numbers {7, 8, 9, 42, 11, 17, 19} has never happen\n"
     ]
    }
   ],
   "source": [
    "def historic(my_numbers, lucky_past_numbers): \n",
    "    my_numbers = set(my_numbers)\n",
    "    check_numbers = lucky_past_numbers == my_numbers\n",
    "    n_occurrences = check_numbers.sum()\n",
    "    \n",
    "    if n_occurrences == 0:\n",
    "        print('''Your set of numbers {} has never happen'''.format(my_numbers))\n",
    "    else:\n",
    "        print('''Your set of numbers {} had happened {} times in the past (3665 independent games)'''.format(my_numbers,\n",
    "        n_occurrences ))\n",
    "        \n",
    "historic([1, 6, 39, 23, 24, 27], lucky_numbers)\n",
    "historic([19,17,42,7,8,9,11], lucky_numbers)\n"
   ]
  },
  {
   "cell_type": "markdown",
   "metadata": {},
   "source": [
    "As we can see, it's so difficult to find a combination that repeat twice or more times in this dataset. "
   ]
  },
  {
   "cell_type": "markdown",
   "metadata": {},
   "source": [
    "## Small prizes: There are something beyond big prize\n",
    "\n",
    "As we can see, for this type of lottery we have 13,983,816 options to create combinations. In other words, just one from this options will be the winner. \n",
    "\n",
    "For this reason, it's motivating to think in give some small prizes for less correct numbers. At the end, these games are strongly based on Expected value concept. It has to be always positive, and that ensure that one side always win in long-term. Also, it has to mantain a certain logical balance (dopamine principle). If not, nobody will play.\n",
    "\n",
    "For this reason, let's give a quick view about how probabilities change when we have less exact numbers. It's amazing to see the behaviour."
   ]
  },
  {
   "cell_type": "code",
   "execution_count": 6,
   "metadata": {},
   "outputs": [
    {
     "name": "stdout",
     "output_type": "stream",
     "text": [
      "1 winning numbers: 0.4130194504847604\n",
      "2 winning numbers: 0.13237802900152576\n",
      "3 winning numbers: 0.017650403866870102\n",
      "4 winning numbers: 0.000968619724401408\n",
      "5 winning numbers: 1.8449899512407772e-05\n"
     ]
    }
   ],
   "source": [
    "for i in range(1,6):\n",
    "    print('''{} winning numbers: {}'''.format(i, combination(6,i)*combination(49-6,6-i)/combination(49,6)))     "
   ]
  },
  {
   "cell_type": "markdown",
   "metadata": {},
   "source": [
    "## Final thoughts\n",
    "\n",
    "Knowing probability is really helpful to take better and informed decisions. Probability is part of Measure Theory and it quantifies and compares values under a normalized scale. Obviously, it can happen interesting phenomens. For example, Mr. Richard Lustig, an american man who won large prizes in seven state-sponsored lottery games from 1993 to 2010.\n",
    "\n",
    "There are lots of concepts and interesting facts related to Probability that can be a surprise for our minds. But, I hope with this work, I can boost a little more your probabilistic thinking. \n",
    " "
   ]
  },
  {
   "cell_type": "code",
   "execution_count": null,
   "metadata": {},
   "outputs": [],
   "source": []
  },
  {
   "cell_type": "code",
   "execution_count": null,
   "metadata": {},
   "outputs": [],
   "source": []
  }
 ],
 "metadata": {
  "kernelspec": {
   "display_name": "Python 3 (ipykernel)",
   "language": "python",
   "name": "python3"
  },
  "language_info": {
   "codemirror_mode": {
    "name": "ipython",
    "version": 3
   },
   "file_extension": ".py",
   "mimetype": "text/x-python",
   "name": "python",
   "nbconvert_exporter": "python",
   "pygments_lexer": "ipython3",
   "version": "3.9.10"
  }
 },
 "nbformat": 4,
 "nbformat_minor": 2
}
