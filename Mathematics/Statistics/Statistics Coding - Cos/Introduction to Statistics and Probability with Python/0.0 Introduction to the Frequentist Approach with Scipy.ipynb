{
 "cells": [
  {
   "cell_type": "markdown",
   "metadata": {},
   "source": [
    "# Frequentist Statistics with Scipy  "
   ]
  },
  {
   "cell_type": "code",
   "execution_count": 58,
   "metadata": {},
   "outputs": [],
   "source": [
    "import numpy as np\n",
    "from scipy import stats\n",
    "import pandas as pd\n",
    "\n",
    "from tkinter import filedialog\n",
    "\n",
    "%matplotlib inline\n",
    "import matplotlib.pyplot as plt\n",
    "import seaborn as sns\n",
    "sns.set()"
   ]
  },
  {
   "cell_type": "code",
   "execution_count": 59,
   "metadata": {},
   "outputs": [],
   "source": [
    "data_file = \"iris_dataset.csv\""
   ]
  },
  {
   "cell_type": "markdown",
   "metadata": {},
   "source": [
    "  "
   ]
  },
  {
   "cell_type": "markdown",
   "metadata": {},
   "source": [
    "### Loading the dataset"
   ]
  },
  {
   "cell_type": "code",
   "execution_count": 60,
   "metadata": {},
   "outputs": [
    {
     "data": {
      "text/plain": [
       "(150, 5)"
      ]
     },
     "execution_count": 60,
     "metadata": {},
     "output_type": "execute_result"
    }
   ],
   "source": [
    "dataset = pd.read_csv(data_file, sep=',', na_values=[\".\",\" \",\"na\"]) # Can use lists for possible missing values\n",
    "dataset.shape"
   ]
  },
  {
   "cell_type": "code",
   "execution_count": 61,
   "metadata": {},
   "outputs": [
    {
     "data": {
      "text/plain": [
       "Index(['Type', 'Petal_Width', 'Petal_Length', 'Sepal_Width', 'Sepal_Length'], dtype='object')"
      ]
     },
     "execution_count": 61,
     "metadata": {},
     "output_type": "execute_result"
    }
   ],
   "source": [
    "dataset.columns"
   ]
  },
  {
   "cell_type": "code",
   "execution_count": 62,
   "metadata": {
    "scrolled": true
   },
   "outputs": [
    {
     "data": {
      "text/html": [
       "<div>\n",
       "<style scoped>\n",
       "    .dataframe tbody tr th:only-of-type {\n",
       "        vertical-align: middle;\n",
       "    }\n",
       "\n",
       "    .dataframe tbody tr th {\n",
       "        vertical-align: top;\n",
       "    }\n",
       "\n",
       "    .dataframe thead th {\n",
       "        text-align: right;\n",
       "    }\n",
       "</style>\n",
       "<table border=\"1\" class=\"dataframe\">\n",
       "  <thead>\n",
       "    <tr style=\"text-align: right;\">\n",
       "      <th></th>\n",
       "      <th>Type</th>\n",
       "      <th>Petal_Width</th>\n",
       "      <th>Petal_Length</th>\n",
       "      <th>Sepal_Width</th>\n",
       "      <th>Sepal_Length</th>\n",
       "    </tr>\n",
       "  </thead>\n",
       "  <tbody>\n",
       "    <tr>\n",
       "      <th>0</th>\n",
       "      <td>setosa</td>\n",
       "      <td>2</td>\n",
       "      <td>14</td>\n",
       "      <td>33</td>\n",
       "      <td>50</td>\n",
       "    </tr>\n",
       "    <tr>\n",
       "      <th>1</th>\n",
       "      <td>virginica</td>\n",
       "      <td>24</td>\n",
       "      <td>56</td>\n",
       "      <td>31</td>\n",
       "      <td>67</td>\n",
       "    </tr>\n",
       "    <tr>\n",
       "      <th>2</th>\n",
       "      <td>virginica</td>\n",
       "      <td>23</td>\n",
       "      <td>51</td>\n",
       "      <td>31</td>\n",
       "      <td>69</td>\n",
       "    </tr>\n",
       "    <tr>\n",
       "      <th>3</th>\n",
       "      <td>setosa</td>\n",
       "      <td>2</td>\n",
       "      <td>10</td>\n",
       "      <td>36</td>\n",
       "      <td>46</td>\n",
       "    </tr>\n",
       "    <tr>\n",
       "      <th>4</th>\n",
       "      <td>virginica</td>\n",
       "      <td>20</td>\n",
       "      <td>52</td>\n",
       "      <td>30</td>\n",
       "      <td>65</td>\n",
       "    </tr>\n",
       "    <tr>\n",
       "      <th>5</th>\n",
       "      <td>virginica</td>\n",
       "      <td>19</td>\n",
       "      <td>51</td>\n",
       "      <td>27</td>\n",
       "      <td>58</td>\n",
       "    </tr>\n",
       "    <tr>\n",
       "      <th>6</th>\n",
       "      <td>versicolor</td>\n",
       "      <td>13</td>\n",
       "      <td>45</td>\n",
       "      <td>28</td>\n",
       "      <td>57</td>\n",
       "    </tr>\n",
       "    <tr>\n",
       "      <th>7</th>\n",
       "      <td>versicolor</td>\n",
       "      <td>16</td>\n",
       "      <td>47</td>\n",
       "      <td>33</td>\n",
       "      <td>63</td>\n",
       "    </tr>\n",
       "    <tr>\n",
       "      <th>8</th>\n",
       "      <td>virginica</td>\n",
       "      <td>17</td>\n",
       "      <td>45</td>\n",
       "      <td>25</td>\n",
       "      <td>49</td>\n",
       "    </tr>\n",
       "    <tr>\n",
       "      <th>9</th>\n",
       "      <td>versicolor</td>\n",
       "      <td>14</td>\n",
       "      <td>47</td>\n",
       "      <td>32</td>\n",
       "      <td>70</td>\n",
       "    </tr>\n",
       "  </tbody>\n",
       "</table>\n",
       "</div>"
      ],
      "text/plain": [
       "         Type  Petal_Width  Petal_Length  Sepal_Width  Sepal_Length\n",
       "0      setosa            2            14           33            50\n",
       "1   virginica           24            56           31            67\n",
       "2   virginica           23            51           31            69\n",
       "3      setosa            2            10           36            46\n",
       "4   virginica           20            52           30            65\n",
       "5   virginica           19            51           27            58\n",
       "6  versicolor           13            45           28            57\n",
       "7  versicolor           16            47           33            63\n",
       "8   virginica           17            45           25            49\n",
       "9  versicolor           14            47           32            70"
      ]
     },
     "execution_count": 62,
     "metadata": {},
     "output_type": "execute_result"
    }
   ],
   "source": [
    "dataset.head(n=10)"
   ]
  },
  {
   "cell_type": "markdown",
   "metadata": {},
   "source": [
    "  "
   ]
  },
  {
   "cell_type": "markdown",
   "metadata": {},
   "source": [
    "### Exploratory analysis"
   ]
  },
  {
   "cell_type": "code",
   "execution_count": 63,
   "metadata": {},
   "outputs": [
    {
     "data": {
      "text/html": [
       "<div>\n",
       "<style scoped>\n",
       "    .dataframe tbody tr th:only-of-type {\n",
       "        vertical-align: middle;\n",
       "    }\n",
       "\n",
       "    .dataframe tbody tr th {\n",
       "        vertical-align: top;\n",
       "    }\n",
       "\n",
       "    .dataframe thead th {\n",
       "        text-align: right;\n",
       "    }\n",
       "</style>\n",
       "<table border=\"1\" class=\"dataframe\">\n",
       "  <thead>\n",
       "    <tr style=\"text-align: right;\">\n",
       "      <th></th>\n",
       "      <th>Type</th>\n",
       "      <th>Petal_Width</th>\n",
       "      <th>Petal_Length</th>\n",
       "      <th>Sepal_Width</th>\n",
       "      <th>Sepal_Length</th>\n",
       "    </tr>\n",
       "  </thead>\n",
       "  <tbody>\n",
       "    <tr>\n",
       "      <th>count</th>\n",
       "      <td>150</td>\n",
       "      <td>150.000000</td>\n",
       "      <td>150.000000</td>\n",
       "      <td>150.000000</td>\n",
       "      <td>150.000000</td>\n",
       "    </tr>\n",
       "    <tr>\n",
       "      <th>unique</th>\n",
       "      <td>3</td>\n",
       "      <td>NaN</td>\n",
       "      <td>NaN</td>\n",
       "      <td>NaN</td>\n",
       "      <td>NaN</td>\n",
       "    </tr>\n",
       "    <tr>\n",
       "      <th>top</th>\n",
       "      <td>setosa</td>\n",
       "      <td>NaN</td>\n",
       "      <td>NaN</td>\n",
       "      <td>NaN</td>\n",
       "      <td>NaN</td>\n",
       "    </tr>\n",
       "    <tr>\n",
       "      <th>freq</th>\n",
       "      <td>50</td>\n",
       "      <td>NaN</td>\n",
       "      <td>NaN</td>\n",
       "      <td>NaN</td>\n",
       "      <td>NaN</td>\n",
       "    </tr>\n",
       "    <tr>\n",
       "      <th>mean</th>\n",
       "      <td>NaN</td>\n",
       "      <td>11.926667</td>\n",
       "      <td>37.786667</td>\n",
       "      <td>30.553333</td>\n",
       "      <td>58.446667</td>\n",
       "    </tr>\n",
       "    <tr>\n",
       "      <th>std</th>\n",
       "      <td>NaN</td>\n",
       "      <td>7.569008</td>\n",
       "      <td>17.776233</td>\n",
       "      <td>4.372791</td>\n",
       "      <td>8.268592</td>\n",
       "    </tr>\n",
       "    <tr>\n",
       "      <th>min</th>\n",
       "      <td>NaN</td>\n",
       "      <td>1.000000</td>\n",
       "      <td>10.000000</td>\n",
       "      <td>20.000000</td>\n",
       "      <td>43.000000</td>\n",
       "    </tr>\n",
       "    <tr>\n",
       "      <th>25%</th>\n",
       "      <td>NaN</td>\n",
       "      <td>3.000000</td>\n",
       "      <td>16.000000</td>\n",
       "      <td>28.000000</td>\n",
       "      <td>51.000000</td>\n",
       "    </tr>\n",
       "    <tr>\n",
       "      <th>50%</th>\n",
       "      <td>NaN</td>\n",
       "      <td>13.000000</td>\n",
       "      <td>44.000000</td>\n",
       "      <td>30.000000</td>\n",
       "      <td>58.000000</td>\n",
       "    </tr>\n",
       "    <tr>\n",
       "      <th>75%</th>\n",
       "      <td>NaN</td>\n",
       "      <td>18.000000</td>\n",
       "      <td>51.000000</td>\n",
       "      <td>33.000000</td>\n",
       "      <td>64.000000</td>\n",
       "    </tr>\n",
       "    <tr>\n",
       "      <th>max</th>\n",
       "      <td>NaN</td>\n",
       "      <td>25.000000</td>\n",
       "      <td>69.000000</td>\n",
       "      <td>44.000000</td>\n",
       "      <td>79.000000</td>\n",
       "    </tr>\n",
       "  </tbody>\n",
       "</table>\n",
       "</div>"
      ],
      "text/plain": [
       "          Type  Petal_Width  Petal_Length  Sepal_Width  Sepal_Length\n",
       "count      150   150.000000    150.000000   150.000000    150.000000\n",
       "unique       3          NaN           NaN          NaN           NaN\n",
       "top     setosa          NaN           NaN          NaN           NaN\n",
       "freq        50          NaN           NaN          NaN           NaN\n",
       "mean       NaN    11.926667     37.786667    30.553333     58.446667\n",
       "std        NaN     7.569008     17.776233     4.372791      8.268592\n",
       "min        NaN     1.000000     10.000000    20.000000     43.000000\n",
       "25%        NaN     3.000000     16.000000    28.000000     51.000000\n",
       "50%        NaN    13.000000     44.000000    30.000000     58.000000\n",
       "75%        NaN    18.000000     51.000000    33.000000     64.000000\n",
       "max        NaN    25.000000     69.000000    44.000000     79.000000"
      ]
     },
     "execution_count": 63,
     "metadata": {},
     "output_type": "execute_result"
    }
   ],
   "source": [
    "dataset.describe(percentiles=[.25, .5, .75], include='all')"
   ]
  },
  {
   "cell_type": "code",
   "execution_count": 65,
   "metadata": {},
   "outputs": [
    {
     "name": "stdout",
     "output_type": "stream",
     "text": [
      "<class 'pandas.core.frame.DataFrame'>\n",
      "RangeIndex: 150 entries, 0 to 149\n",
      "Data columns (total 5 columns):\n",
      " #   Column        Non-Null Count  Dtype \n",
      "---  ------        --------------  ----- \n",
      " 0   Type          150 non-null    object\n",
      " 1   Petal_Width   150 non-null    int64 \n",
      " 2   Petal_Length  150 non-null    int64 \n",
      " 3   Sepal_Width   150 non-null    int64 \n",
      " 4   Sepal_Length  150 non-null    int64 \n",
      "dtypes: int64(4), object(1)\n",
      "memory usage: 6.0+ KB\n"
     ]
    }
   ],
   "source": [
    "dataset.info()"
   ]
  },
  {
   "cell_type": "code",
   "execution_count": 8,
   "metadata": {},
   "outputs": [
    {
     "data": {
      "text/html": [
       "<div>\n",
       "<style scoped>\n",
       "    .dataframe tbody tr th:only-of-type {\n",
       "        vertical-align: middle;\n",
       "    }\n",
       "\n",
       "    .dataframe tbody tr th {\n",
       "        vertical-align: top;\n",
       "    }\n",
       "\n",
       "    .dataframe thead th {\n",
       "        text-align: right;\n",
       "    }\n",
       "</style>\n",
       "<table border=\"1\" class=\"dataframe\">\n",
       "  <thead>\n",
       "    <tr style=\"text-align: right;\">\n",
       "      <th></th>\n",
       "      <th>Petal_Width</th>\n",
       "      <th>Petal_Length</th>\n",
       "      <th>Sepal_Width</th>\n",
       "      <th>Sepal_Length</th>\n",
       "    </tr>\n",
       "    <tr>\n",
       "      <th>Type</th>\n",
       "      <th></th>\n",
       "      <th></th>\n",
       "      <th></th>\n",
       "      <th></th>\n",
       "    </tr>\n",
       "  </thead>\n",
       "  <tbody>\n",
       "    <tr>\n",
       "      <th>setosa</th>\n",
       "      <td>2.46</td>\n",
       "      <td>14.62</td>\n",
       "      <td>34.28</td>\n",
       "      <td>50.10</td>\n",
       "    </tr>\n",
       "    <tr>\n",
       "      <th>versicolor</th>\n",
       "      <td>13.26</td>\n",
       "      <td>43.22</td>\n",
       "      <td>27.64</td>\n",
       "      <td>59.36</td>\n",
       "    </tr>\n",
       "    <tr>\n",
       "      <th>virginica</th>\n",
       "      <td>20.06</td>\n",
       "      <td>55.52</td>\n",
       "      <td>29.74</td>\n",
       "      <td>65.88</td>\n",
       "    </tr>\n",
       "  </tbody>\n",
       "</table>\n",
       "</div>"
      ],
      "text/plain": [
       "            Petal_Width  Petal_Length  Sepal_Width  Sepal_Length\n",
       "Type                                                            \n",
       "setosa             2.46         14.62        34.28         50.10\n",
       "versicolor        13.26         43.22        27.64         59.36\n",
       "virginica         20.06         55.52        29.74         65.88"
      ]
     },
     "execution_count": 8,
     "metadata": {},
     "output_type": "execute_result"
    }
   ],
   "source": [
    "grouped_iris = dataset.groupby('Type')\n",
    "grouped_iris.mean()"
   ]
  },
  {
   "cell_type": "markdown",
   "metadata": {},
   "source": [
    "  "
   ]
  },
  {
   "cell_type": "markdown",
   "metadata": {},
   "source": [
    "#### Exercise  \n",
    "Create a table that describes the grouped_iris data frame, including the 25th, 50th, and 75th percentiles"
   ]
  },
  {
   "cell_type": "markdown",
   "metadata": {},
   "source": [
    "  "
   ]
  },
  {
   "cell_type": "code",
   "execution_count": null,
   "metadata": {},
   "outputs": [],
   "source": []
  },
  {
   "cell_type": "markdown",
   "metadata": {},
   "source": [
    "  "
   ]
  },
  {
   "cell_type": "markdown",
   "metadata": {},
   "source": [
    "  "
   ]
  },
  {
   "cell_type": "markdown",
   "metadata": {},
   "source": [
    "  "
   ]
  },
  {
   "cell_type": "code",
   "execution_count": 9,
   "metadata": {
    "scrolled": false
   },
   "outputs": [
    {
     "data": {
      "text/html": [
       "<div>\n",
       "<style scoped>\n",
       "    .dataframe tbody tr th:only-of-type {\n",
       "        vertical-align: middle;\n",
       "    }\n",
       "\n",
       "    .dataframe tbody tr th {\n",
       "        vertical-align: top;\n",
       "    }\n",
       "\n",
       "    .dataframe thead tr th {\n",
       "        text-align: left;\n",
       "    }\n",
       "\n",
       "    .dataframe thead tr:last-of-type th {\n",
       "        text-align: right;\n",
       "    }\n",
       "</style>\n",
       "<table border=\"1\" class=\"dataframe\">\n",
       "  <thead>\n",
       "    <tr>\n",
       "      <th></th>\n",
       "      <th colspan=\"8\" halign=\"left\">Petal_Width</th>\n",
       "      <th colspan=\"2\" halign=\"left\">Petal_Length</th>\n",
       "      <th>...</th>\n",
       "      <th colspan=\"2\" halign=\"left\">Sepal_Width</th>\n",
       "      <th colspan=\"8\" halign=\"left\">Sepal_Length</th>\n",
       "    </tr>\n",
       "    <tr>\n",
       "      <th></th>\n",
       "      <th>count</th>\n",
       "      <th>mean</th>\n",
       "      <th>std</th>\n",
       "      <th>min</th>\n",
       "      <th>25%</th>\n",
       "      <th>50%</th>\n",
       "      <th>75%</th>\n",
       "      <th>max</th>\n",
       "      <th>count</th>\n",
       "      <th>mean</th>\n",
       "      <th>...</th>\n",
       "      <th>75%</th>\n",
       "      <th>max</th>\n",
       "      <th>count</th>\n",
       "      <th>mean</th>\n",
       "      <th>std</th>\n",
       "      <th>min</th>\n",
       "      <th>25%</th>\n",
       "      <th>50%</th>\n",
       "      <th>75%</th>\n",
       "      <th>max</th>\n",
       "    </tr>\n",
       "    <tr>\n",
       "      <th>Type</th>\n",
       "      <th></th>\n",
       "      <th></th>\n",
       "      <th></th>\n",
       "      <th></th>\n",
       "      <th></th>\n",
       "      <th></th>\n",
       "      <th></th>\n",
       "      <th></th>\n",
       "      <th></th>\n",
       "      <th></th>\n",
       "      <th></th>\n",
       "      <th></th>\n",
       "      <th></th>\n",
       "      <th></th>\n",
       "      <th></th>\n",
       "      <th></th>\n",
       "      <th></th>\n",
       "      <th></th>\n",
       "      <th></th>\n",
       "      <th></th>\n",
       "      <th></th>\n",
       "    </tr>\n",
       "  </thead>\n",
       "  <tbody>\n",
       "    <tr>\n",
       "      <th>setosa</th>\n",
       "      <td>50.0</td>\n",
       "      <td>2.46</td>\n",
       "      <td>1.053856</td>\n",
       "      <td>1.0</td>\n",
       "      <td>2.0</td>\n",
       "      <td>2.0</td>\n",
       "      <td>3.00</td>\n",
       "      <td>6.0</td>\n",
       "      <td>50.0</td>\n",
       "      <td>14.62</td>\n",
       "      <td>...</td>\n",
       "      <td>36.75</td>\n",
       "      <td>44.0</td>\n",
       "      <td>50.0</td>\n",
       "      <td>50.10</td>\n",
       "      <td>3.535534</td>\n",
       "      <td>43.0</td>\n",
       "      <td>48.00</td>\n",
       "      <td>50.0</td>\n",
       "      <td>52.0</td>\n",
       "      <td>58.0</td>\n",
       "    </tr>\n",
       "    <tr>\n",
       "      <th>versicolor</th>\n",
       "      <td>50.0</td>\n",
       "      <td>13.26</td>\n",
       "      <td>1.977527</td>\n",
       "      <td>10.0</td>\n",
       "      <td>12.0</td>\n",
       "      <td>13.0</td>\n",
       "      <td>15.00</td>\n",
       "      <td>18.0</td>\n",
       "      <td>50.0</td>\n",
       "      <td>43.22</td>\n",
       "      <td>...</td>\n",
       "      <td>30.00</td>\n",
       "      <td>34.0</td>\n",
       "      <td>50.0</td>\n",
       "      <td>59.36</td>\n",
       "      <td>5.161711</td>\n",
       "      <td>49.0</td>\n",
       "      <td>56.00</td>\n",
       "      <td>59.0</td>\n",
       "      <td>63.0</td>\n",
       "      <td>70.0</td>\n",
       "    </tr>\n",
       "    <tr>\n",
       "      <th>virginica</th>\n",
       "      <td>50.0</td>\n",
       "      <td>20.06</td>\n",
       "      <td>2.902567</td>\n",
       "      <td>13.0</td>\n",
       "      <td>18.0</td>\n",
       "      <td>20.0</td>\n",
       "      <td>22.75</td>\n",
       "      <td>25.0</td>\n",
       "      <td>50.0</td>\n",
       "      <td>55.52</td>\n",
       "      <td>...</td>\n",
       "      <td>31.75</td>\n",
       "      <td>38.0</td>\n",
       "      <td>50.0</td>\n",
       "      <td>65.88</td>\n",
       "      <td>6.358796</td>\n",
       "      <td>49.0</td>\n",
       "      <td>62.25</td>\n",
       "      <td>65.0</td>\n",
       "      <td>69.0</td>\n",
       "      <td>79.0</td>\n",
       "    </tr>\n",
       "  </tbody>\n",
       "</table>\n",
       "<p>3 rows × 32 columns</p>\n",
       "</div>"
      ],
      "text/plain": [
       "           Petal_Width                                                  \\\n",
       "                 count   mean       std   min   25%   50%    75%   max   \n",
       "Type                                                                     \n",
       "setosa            50.0   2.46  1.053856   1.0   2.0   2.0   3.00   6.0   \n",
       "versicolor        50.0  13.26  1.977527  10.0  12.0  13.0  15.00  18.0   \n",
       "virginica         50.0  20.06  2.902567  13.0  18.0  20.0  22.75  25.0   \n",
       "\n",
       "           Petal_Length         ... Sepal_Width       Sepal_Length         \\\n",
       "                  count   mean  ...         75%   max        count   mean   \n",
       "Type                            ...                                         \n",
       "setosa             50.0  14.62  ...       36.75  44.0         50.0  50.10   \n",
       "versicolor         50.0  43.22  ...       30.00  34.0         50.0  59.36   \n",
       "virginica          50.0  55.52  ...       31.75  38.0         50.0  65.88   \n",
       "\n",
       "                                                     \n",
       "                 std   min    25%   50%   75%   max  \n",
       "Type                                                 \n",
       "setosa      3.535534  43.0  48.00  50.0  52.0  58.0  \n",
       "versicolor  5.161711  49.0  56.00  59.0  63.0  70.0  \n",
       "virginica   6.358796  49.0  62.25  65.0  69.0  79.0  \n",
       "\n",
       "[3 rows x 32 columns]"
      ]
     },
     "execution_count": 9,
     "metadata": {},
     "output_type": "execute_result"
    }
   ],
   "source": [
    "grouped_iris.describe(percentiles=[.25, .5, .75], include='all')"
   ]
  },
  {
   "cell_type": "code",
   "execution_count": 10,
   "metadata": {},
   "outputs": [
    {
     "data": {
      "text/plain": [
       "Type\n",
       "setosa        AxesSubplot(0.125,0.125;0.775x0.755)\n",
       "versicolor    AxesSubplot(0.125,0.125;0.775x0.755)\n",
       "virginica     AxesSubplot(0.125,0.125;0.775x0.755)\n",
       "Name: Petal_Width, dtype: object"
      ]
     },
     "execution_count": 10,
     "metadata": {},
     "output_type": "execute_result"
    },
    {
     "data": {
      "image/png": "[encoded data removed]",
      "text/plain": [
       "<Figure size 432x288 with 1 Axes>"
      ]
     },
     "metadata": {},
     "output_type": "display_data"
    }
   ],
   "source": [
    "grouped_iris['Petal_Width'].hist()"
   ]
  },
  {
   "cell_type": "code",
   "execution_count": 11,
   "metadata": {
    "scrolled": false
   },
   "outputs": [
    {
     "data": {
      "text/plain": [
       "<seaborn.axisgrid.PairGrid at 0x14017e5b0>"
      ]
     },
     "execution_count": 11,
     "metadata": {},
     "output_type": "execute_result"
    },
    {
     "data": {
      "image/png": "[encoded data removed]",
      "text/plain": [
       "<Figure size 720x720 with 20 Axes>"
      ]
     },
     "metadata": {},
     "output_type": "display_data"
    }
   ],
   "source": [
    "sns.pairplot(dataset, kind='reg')"
   ]
  },
  {
   "cell_type": "markdown",
   "metadata": {},
   "source": [
    "  "
   ]
  },
  {
   "cell_type": "markdown",
   "metadata": {},
   "source": [
    "### Data Extraction\n",
    "For the statistical functions we will have to specify the dependent data variable and the independent data variable as two separate arrays"
   ]
  },
  {
   "cell_type": "code",
   "execution_count": 12,
   "metadata": {},
   "outputs": [
    {
     "data": {
      "text/plain": [
       "<pandas.core.groupby.generic.SeriesGroupBy object at 0x140a8e9a0>"
      ]
     },
     "execution_count": 12,
     "metadata": {},
     "output_type": "execute_result"
    }
   ],
   "source": [
    "grouped_iris['Type'] # .groupby function returns a GroupBy object that is lazily executed"
   ]
  },
  {
   "cell_type": "code",
   "execution_count": 13,
   "metadata": {},
   "outputs": [
    {
     "data": {
      "text/html": [
       "<div>\n",
       "<style scoped>\n",
       "    .dataframe tbody tr th:only-of-type {\n",
       "        vertical-align: middle;\n",
       "    }\n",
       "\n",
       "    .dataframe tbody tr th {\n",
       "        vertical-align: top;\n",
       "    }\n",
       "\n",
       "    .dataframe thead th {\n",
       "        text-align: right;\n",
       "    }\n",
       "</style>\n",
       "<table border=\"1\" class=\"dataframe\">\n",
       "  <thead>\n",
       "    <tr style=\"text-align: right;\">\n",
       "      <th></th>\n",
       "      <th>Type</th>\n",
       "      <th>Petal_Width</th>\n",
       "      <th>Petal_Length</th>\n",
       "      <th>Sepal_Width</th>\n",
       "      <th>Sepal_Length</th>\n",
       "    </tr>\n",
       "  </thead>\n",
       "  <tbody>\n",
       "    <tr>\n",
       "      <th>0</th>\n",
       "      <td>setosa</td>\n",
       "      <td>2</td>\n",
       "      <td>14</td>\n",
       "      <td>33</td>\n",
       "      <td>50</td>\n",
       "    </tr>\n",
       "    <tr>\n",
       "      <th>3</th>\n",
       "      <td>setosa</td>\n",
       "      <td>2</td>\n",
       "      <td>10</td>\n",
       "      <td>36</td>\n",
       "      <td>46</td>\n",
       "    </tr>\n",
       "    <tr>\n",
       "      <th>10</th>\n",
       "      <td>setosa</td>\n",
       "      <td>2</td>\n",
       "      <td>16</td>\n",
       "      <td>31</td>\n",
       "      <td>48</td>\n",
       "    </tr>\n",
       "    <tr>\n",
       "      <th>12</th>\n",
       "      <td>setosa</td>\n",
       "      <td>1</td>\n",
       "      <td>14</td>\n",
       "      <td>36</td>\n",
       "      <td>49</td>\n",
       "    </tr>\n",
       "    <tr>\n",
       "      <th>13</th>\n",
       "      <td>setosa</td>\n",
       "      <td>2</td>\n",
       "      <td>13</td>\n",
       "      <td>32</td>\n",
       "      <td>44</td>\n",
       "    </tr>\n",
       "    <tr>\n",
       "      <th>17</th>\n",
       "      <td>setosa</td>\n",
       "      <td>2</td>\n",
       "      <td>16</td>\n",
       "      <td>38</td>\n",
       "      <td>51</td>\n",
       "    </tr>\n",
       "    <tr>\n",
       "      <th>18</th>\n",
       "      <td>setosa</td>\n",
       "      <td>2</td>\n",
       "      <td>16</td>\n",
       "      <td>30</td>\n",
       "      <td>50</td>\n",
       "    </tr>\n",
       "    <tr>\n",
       "      <th>20</th>\n",
       "      <td>setosa</td>\n",
       "      <td>4</td>\n",
       "      <td>19</td>\n",
       "      <td>38</td>\n",
       "      <td>51</td>\n",
       "    </tr>\n",
       "    <tr>\n",
       "      <th>21</th>\n",
       "      <td>setosa</td>\n",
       "      <td>2</td>\n",
       "      <td>14</td>\n",
       "      <td>30</td>\n",
       "      <td>49</td>\n",
       "    </tr>\n",
       "    <tr>\n",
       "      <th>24</th>\n",
       "      <td>setosa</td>\n",
       "      <td>2</td>\n",
       "      <td>14</td>\n",
       "      <td>36</td>\n",
       "      <td>50</td>\n",
       "    </tr>\n",
       "  </tbody>\n",
       "</table>\n",
       "</div>"
      ],
      "text/plain": [
       "      Type  Petal_Width  Petal_Length  Sepal_Width  Sepal_Length\n",
       "0   setosa            2            14           33            50\n",
       "3   setosa            2            10           36            46\n",
       "10  setosa            2            16           31            48\n",
       "12  setosa            1            14           36            49\n",
       "13  setosa            2            13           32            44\n",
       "17  setosa            2            16           38            51\n",
       "18  setosa            2            16           30            50\n",
       "20  setosa            4            19           38            51\n",
       "21  setosa            2            14           30            49\n",
       "24  setosa            2            14           36            50"
      ]
     },
     "execution_count": 13,
     "metadata": {},
     "output_type": "execute_result"
    }
   ],
   "source": [
    "dataset[dataset['Type']=='setosa'].head(n=10) # Better to use the original dataset"
   ]
  },
  {
   "cell_type": "markdown",
   "metadata": {},
   "source": [
    "  "
   ]
  },
  {
   "cell_type": "markdown",
   "metadata": {},
   "source": [
    "#### Exercise  \n",
    "How would you make separate variables containing the petal and sepal characteristics of each iris type?"
   ]
  },
  {
   "cell_type": "markdown",
   "metadata": {},
   "source": [
    "  "
   ]
  },
  {
   "cell_type": "markdown",
   "metadata": {
    "collapsed": true
   },
   "source": [
    "  "
   ]
  },
  {
   "cell_type": "markdown",
   "metadata": {},
   "source": [
    "  "
   ]
  },
  {
   "cell_type": "markdown",
   "metadata": {},
   "source": [
    "  "
   ]
  },
  {
   "cell_type": "code",
   "execution_count": 14,
   "metadata": {
    "scrolled": true
   },
   "outputs": [
    {
     "data": {
      "text/plain": [
       "0     14\n",
       "3     10\n",
       "10    16\n",
       "12    14\n",
       "13    13\n",
       "17    16\n",
       "18    16\n",
       "20    19\n",
       "21    14\n",
       "24    14\n",
       "Name: Petal_Length, dtype: int64"
      ]
     },
     "execution_count": 14,
     "metadata": {},
     "output_type": "execute_result"
    }
   ],
   "source": [
    "dataset[dataset['Type']=='setosa']['Petal_Length'].head(n=10)"
   ]
  },
  {
   "cell_type": "code",
   "execution_count": 15,
   "metadata": {},
   "outputs": [],
   "source": [
    "pl_setosa = dataset[dataset['Type']=='setosa']['Petal_Length']\n",
    "pl_virginica = dataset[dataset['Type']=='virginica']['Petal_Length']\n",
    "pl_versicolor = dataset[dataset['Type']=='versicolor']['Petal_Length']\n",
    "\n",
    "pw_setosa = dataset[dataset['Type']=='setosa']['Petal_Width']\n",
    "pw_virginica = dataset[dataset['Type']=='virginica']['Petal_Width']\n",
    "pw_versicolor = dataset[dataset['Type']=='versicolor']['Petal_Width']\n",
    "\n",
    "sl_setosa = dataset[dataset['Type']=='setosa']['Sepal_Length']\n",
    "sl_virginica = dataset[dataset['Type']=='virginica']['Sepal_Length']\n",
    "sl_versicolor = dataset[dataset['Type']=='versicolor']['Sepal_Length']\n",
    "\n",
    "sw_setosa = dataset[dataset['Type']=='setosa']['Sepal_Width']\n",
    "sw_virginica = dataset[dataset['Type']=='virginica']['Sepal_Width']\n",
    "sw_versicolor = dataset[dataset['Type']=='versicolor']['Sepal_Width']"
   ]
  },
  {
   "cell_type": "code",
   "execution_count": 16,
   "metadata": {},
   "outputs": [
    {
     "data": {
      "text/plain": [
       "pandas.core.series.Series"
      ]
     },
     "execution_count": 16,
     "metadata": {},
     "output_type": "execute_result"
    }
   ],
   "source": [
    "type(sw_setosa)"
   ]
  },
  {
   "cell_type": "code",
   "execution_count": 17,
   "metadata": {
    "scrolled": true
   },
   "outputs": [
    {
     "data": {
      "text/plain": [
       "<matplotlib.legend.Legend at 0x140a80850>"
      ]
     },
     "execution_count": 17,
     "metadata": {},
     "output_type": "execute_result"
    },
    {
     "data": {
      "image/png": "[encoded data removed]",
      "text/plain": [
       "<Figure size 432x288 with 1 Axes>"
      ]
     },
     "metadata": {},
     "output_type": "display_data"
    }
   ],
   "source": [
    "plt.hist(sw_versicolor, label='Versicolor', alpha=0.5)\n",
    "plt.hist(sw_virginica, label='Virginica', alpha=0.5)\n",
    "plt.hist(sw_setosa, label='Setosa', alpha=0.5)\n",
    "plt.legend(loc='best')"
   ]
  },
  {
   "cell_type": "markdown",
   "metadata": {},
   "source": [
    "  "
   ]
  },
  {
   "cell_type": "markdown",
   "metadata": {},
   "source": [
    "### Normality Testing"
   ]
  },
  {
   "cell_type": "code",
   "execution_count": 18,
   "metadata": {},
   "outputs": [
    {
     "data": {
      "text/plain": [
       "7.440151952041566e-44"
      ]
     },
     "execution_count": 18,
     "metadata": {},
     "output_type": "execute_result"
    }
   ],
   "source": [
    "# Kolmogorov-Smirnov test: Fairly conservative\n",
    "ks_pl_setosa = stats.kstest(pl_setosa, 'norm', mode='asymp') # mode opts: 'approx'. Dist can be any in scipy.stats\n",
    "ks_pl_setosa[1]"
   ]
  },
  {
   "cell_type": "code",
   "execution_count": 19,
   "metadata": {},
   "outputs": [
    {
     "data": {
      "text/plain": [
       "ShapiroResult(statistic=0.7997642159461975, pvalue=8.65842082475865e-07)"
      ]
     },
     "execution_count": 19,
     "metadata": {},
     "output_type": "execute_result"
    }
   ],
   "source": [
    "# Shapiro test\n",
    "shapiro_pw_setosa = stats.shapiro(pw_setosa)\n",
    "shapiro_pw_setosa"
   ]
  },
  {
   "cell_type": "code",
   "execution_count": 20,
   "metadata": {},
   "outputs": [
    {
     "data": {
      "text/plain": [
       "NormaltestResult(statistic=0.16963916001883134, pvalue=0.9186780173294777)"
      ]
     },
     "execution_count": 20,
     "metadata": {},
     "output_type": "execute_result"
    }
   ],
   "source": [
    "# Normal test: Combines skew and kurtosis measurement. Allows management of NaN\n",
    "nt_sl_setosa = stats.normaltest(sl_setosa, nan_policy='omit') #nan_policy opts: 'propagate', 'raise'\n",
    "nt_sl_setosa"
   ]
  },
  {
   "cell_type": "code",
   "execution_count": 21,
   "metadata": {},
   "outputs": [
    {
     "data": {
      "text/plain": [
       "AndersonResult(statistic=0.49095595829555094, critical_values=array([0.538, 0.613, 0.736, 0.858, 1.021]), significance_level=array([15. , 10. ,  5. ,  2.5,  1. ]))"
      ]
     },
     "execution_count": 21,
     "metadata": {},
     "output_type": "execute_result"
    }
   ],
   "source": [
    "# Anderson test: Modified KS, returns critical values for a list of significance levels\n",
    "anderson_sw_setosa = stats.anderson(sw_setosa, dist='norm')\n",
    "anderson_sw_setosa"
   ]
  },
  {
   "cell_type": "markdown",
   "metadata": {},
   "source": [
    "  "
   ]
  },
  {
   "cell_type": "markdown",
   "metadata": {},
   "source": [
    "#### Exercise  \n",
    "- What do the outputs mean?\n",
    "- How would you extract only the *p*-value of a given test?"
   ]
  },
  {
   "cell_type": "markdown",
   "metadata": {},
   "source": [
    "  "
   ]
  },
  {
   "cell_type": "markdown",
   "metadata": {
    "collapsed": true
   },
   "source": [
    "  "
   ]
  },
  {
   "cell_type": "markdown",
   "metadata": {},
   "source": [
    "  "
   ]
  },
  {
   "cell_type": "markdown",
   "metadata": {},
   "source": [
    "  "
   ]
  },
  {
   "cell_type": "code",
   "execution_count": 22,
   "metadata": {},
   "outputs": [
    {
     "name": "stdout",
     "output_type": "stream",
     "text": [
      "KS:  KstestResult(statistic=1.0, pvalue=7.440151952041566e-44)\n",
      "Shapiro:  ShapiroResult(statistic=0.7997642159461975, pvalue=8.65842082475865e-07)\n",
      "Normal:  NormaltestResult(statistic=0.16963916001883134, pvalue=0.9186780173294777)\n",
      "Anderson:  AndersonResult(statistic=0.49095595829555094, critical_values=array([0.538, 0.613, 0.736, 0.858, 1.021]), significance_level=array([15. , 10. ,  5. ,  2.5,  1. ]))\n"
     ]
    }
   ],
   "source": [
    "print('KS: ', ks_pl_setosa)\n",
    "print('Shapiro: ', shapiro_pw_setosa)\n",
    "print('Normal: ', nt_sl_setosa)\n",
    "print('Anderson: ', anderson_sw_setosa)"
   ]
  },
  {
   "cell_type": "markdown",
   "metadata": {},
   "source": [
    "All of the outputs are the test value and associated *p*-value, except for Anderson test in which the test value is provided along with a table of critical values for given significances"
   ]
  },
  {
   "cell_type": "code",
   "execution_count": 23,
   "metadata": {},
   "outputs": [
    {
     "name": "stdout",
     "output_type": "stream",
     "text": [
      "KS p-value using index:  7.440151952041566e-44\n",
      "KS p-value using multiple variable assignment:  7.440151952041566e-44\n"
     ]
    }
   ],
   "source": [
    "print('KS p-value using index: ', ks_pl_setosa[1])\n",
    "# or\n",
    "_ , p_ks_pl_setosa = stats.kstest(pl_setosa, 'norm', mode='asymp')\n",
    "print('KS p-value using multiple variable assignment: ', p_ks_pl_setosa)"
   ]
  },
  {
   "cell_type": "markdown",
   "metadata": {},
   "source": [
    "  "
   ]
  },
  {
   "cell_type": "markdown",
   "metadata": {},
   "source": [
    "### Homogeneity of Variance"
   ]
  },
  {
   "cell_type": "code",
   "execution_count": 24,
   "metadata": {},
   "outputs": [
    {
     "name": "stdout",
     "output_type": "stream",
     "text": [
      "BartlettResult(statistic=0.06998884643065259, pvalue=0.7913530203660736)\n"
     ]
    }
   ],
   "source": [
    "# Bartlett test: Requires normal populations\n",
    "bartlett_length_versicolor = stats.bartlett(pl_versicolor, sl_versicolor)\n",
    "print(bartlett_length_versicolor)"
   ]
  },
  {
   "cell_type": "code",
   "execution_count": 25,
   "metadata": {},
   "outputs": [
    {
     "name": "stdout",
     "output_type": "stream",
     "text": [
      "LeveneResult(statistic=0.719721200761525, pvalue=0.3984861012481271)\n"
     ]
    }
   ],
   "source": [
    "# Levene test: more robust than Bartlett if samples are non-normal. Can define what central tendency measure is used\n",
    "levene_length_virginica = stats.levene(pl_virginica, sl_virginica, center='trimmed') # For heavy-tailed distributions\n",
    "print(levene_length_virginica)"
   ]
  },
  {
   "cell_type": "code",
   "execution_count": 26,
   "metadata": {},
   "outputs": [
    {
     "name": "stdout",
     "output_type": "stream",
     "text": [
      "FlignerResult(statistic=0.7480415863980018, pvalue=0.3870969853096242)\n"
     ]
    }
   ],
   "source": [
    "# Fligner-Killeen's test: Non-parametric\n",
    "fk_length_setosa = stats.fligner(pl_virginica, sl_virginica, center='mean') # For normal distributions\n",
    "                                                                            # Use 'median' for skewed distributions\n",
    "print(fk_length_setosa)"
   ]
  },
  {
   "cell_type": "markdown",
   "metadata": {},
   "source": [
    "  "
   ]
  },
  {
   "cell_type": "markdown",
   "metadata": {},
   "source": [
    "### Comparing 2 samples of a continuous measure: Parametric tests   \n",
    "*t*-tests"
   ]
  },
  {
   "cell_type": "code",
   "execution_count": 27,
   "metadata": {},
   "outputs": [
    {
     "name": "stdout",
     "output_type": "stream",
     "text": [
      "Ttest_indResult(statistic=9.537093207617902, pvalue=1.224078036914692e-15)\n"
     ]
    }
   ],
   "source": [
    "# t-test of 2 independent samples\n",
    "ttest_sw_set_ver = stats.ttest_ind(sw_setosa, sw_versicolor, equal_var=True, nan_policy='omit') # equal_var default: T\n",
    "print(ttest_sw_set_ver)"
   ]
  },
  {
   "cell_type": "code",
   "execution_count": 28,
   "metadata": {},
   "outputs": [
    {
     "name": "stdout",
     "output_type": "stream",
     "text": [
      "Ttest_relResult(statistic=-60.96725246979008, pvalue=7.212365087348317e-48)\n"
     ]
    }
   ],
   "source": [
    "# t-test of paired samples\n",
    "ttest_width_setosa = stats.ttest_rel(pw_setosa, sw_setosa, nan_policy='omit')\n",
    "print(ttest_width_setosa)"
   ]
  },
  {
   "cell_type": "code",
   "execution_count": 29,
   "metadata": {},
   "outputs": [
    {
     "name": "stdout",
     "output_type": "stream",
     "text": [
      "Ttest_indResult(statistic=13.6933602626047, pvalue=2.3071043100383677e-23)\n"
     ]
    }
   ],
   "source": [
    "# t-test from descriptive statistics: mean, SD, n from each sample\n",
    "ttest_pw_vir_ver = stats.ttest_ind_from_stats(20.06, 2.902, 50, 13.26, 1.977, 50, equal_var=False)\n",
    "print(ttest_pw_vir_ver)"
   ]
  },
  {
   "cell_type": "markdown",
   "metadata": {},
   "source": [
    "**Effect sizes**  \n",
    "Cohen's *d*"
   ]
  },
  {
   "cell_type": "markdown",
   "metadata": {},
   "source": [
    "*d* = $\\frac{\\overline{x_1} - \\overline{x_2}}{SDp}$  \n",
    "  \n",
    "*d*=0.2 small effect size, 0.5 medium, 0.8 large    \n",
    "  \n",
    "$SD_p$ (Pooled standard deviation) = $\\sqrt[2]{\\frac{(N_1-1)(SD_1^2)+(N_2-1)(SD_2^2)}{N_1+N_2-2}}$"
   ]
  },
  {
   "cell_type": "markdown",
   "metadata": {},
   "source": [
    "  "
   ]
  },
  {
   "cell_type": "markdown",
   "metadata": {},
   "source": [
    "#### Exercise  \n",
    "What is the value of Cohen's *d*?"
   ]
  },
  {
   "cell_type": "markdown",
   "metadata": {},
   "source": [
    "  "
   ]
  },
  {
   "cell_type": "markdown",
   "metadata": {
    "collapsed": true
   },
   "source": [
    "  "
   ]
  },
  {
   "cell_type": "markdown",
   "metadata": {},
   "source": [
    "  "
   ]
  },
  {
   "cell_type": "markdown",
   "metadata": {},
   "source": [
    "  "
   ]
  },
  {
   "cell_type": "code",
   "execution_count": 30,
   "metadata": {},
   "outputs": [
    {
     "name": "stdout",
     "output_type": "stream",
     "text": [
      "Cohen's d:  1.9074186415235803\n"
     ]
    }
   ],
   "source": [
    "# Calculate pooled STD\n",
    "std_sw_set_ver = np.sqrt( ( (sw_setosa.size-1)*(sw_setosa.std()**2) + (sw_versicolor.size-1)*(sw_versicolor.std()**2) ) \n",
    "                         / (sw_setosa.size + sw_versicolor.size - 2) )\n",
    "# Calculate Cohen's d\n",
    "cohend_sw_set_ver = (sw_setosa.mean() - sw_versicolor.mean()) / std_sw_set_ver\n",
    "print('Cohen\\'s d: ', cohend_sw_set_ver) # d=0.2 small effect size, 0.5 medium, 0.8 large"
   ]
  },
  {
   "cell_type": "markdown",
   "metadata": {},
   "source": [
    "Pearson's correlation coefficient can also be used as a measure of effect size (see below)"
   ]
  },
  {
   "cell_type": "code",
   "execution_count": 31,
   "metadata": {},
   "outputs": [
    {
     "data": {
      "text/plain": [
       "0.0"
      ]
     },
     "execution_count": 31,
     "metadata": {},
     "output_type": "execute_result"
    }
   ],
   "source": [
    "1-stats.norm.cdf(ttest_pw_vir_ver[0]) # one-side p-value if I know the test value"
   ]
  },
  {
   "cell_type": "code",
   "execution_count": 32,
   "metadata": {},
   "outputs": [
    {
     "data": {
      "text/plain": [
       "-9.889697326376915"
      ]
     },
     "execution_count": 32,
     "metadata": {},
     "output_type": "execute_result"
    }
   ],
   "source": [
    "stats.norm.ppf(ttest_pw_vir_ver[1]) # What is the test value given the p-value"
   ]
  },
  {
   "cell_type": "markdown",
   "metadata": {},
   "source": [
    "  "
   ]
  },
  {
   "cell_type": "markdown",
   "metadata": {},
   "source": [
    "### Comparing 2 samples of a continuous measure: Non-Parametric tests \n",
    "Wilcoxon rank-sum  \n",
    "Mann-Whitney U  \n",
    "Wilcoxon"
   ]
  },
  {
   "cell_type": "code",
   "execution_count": 33,
   "metadata": {},
   "outputs": [
    {
     "name": "stdout",
     "output_type": "stream",
     "text": [
      "RanksumsResult(statistic=7.324683617673182, pvalue=2.394629812904166e-13)\n"
     ]
    }
   ],
   "source": [
    "# Wilcoxon rank-sum test: Can use if n < 20\n",
    "wrk_sw_set_ver = stats.ranksums(sw_setosa, sw_versicolor)\n",
    "print(wrk_sw_set_ver)"
   ]
  },
  {
   "cell_type": "code",
   "execution_count": 34,
   "metadata": {},
   "outputs": [
    {
     "name": "stdout",
     "output_type": "stream",
     "text": [
      "MannwhitneyuResult(statistic=2312.5, pvalue=1.048170076223835e-13)\n"
     ]
    }
   ],
   "source": [
    "# Mann-Whitney U test: More robust than Wilcoxon rank-sum, use if n > 20\n",
    "mwu_sw_set_ver = stats.mannwhitneyu(sw_setosa, sw_versicolor, use_continuity=True, alternative='greater')\n",
    "                                    # alternative options: 'less', 'two-sided'. 'None' is deprecated\n",
    "print(mwu_sw_set_ver)"
   ]
  },
  {
   "cell_type": "code",
   "execution_count": 35,
   "metadata": {},
   "outputs": [
    {
     "name": "stdout",
     "output_type": "stream",
     "text": [
      "WilcoxonResult(statistic=0.0, pvalue=7.07734543582959e-10)\n"
     ]
    }
   ],
   "source": [
    "# Wilcoxon test: For paired samples\n",
    "wilcoxon_width_setosa = stats.wilcoxon(pw_setosa, sw_setosa, zero_method='wilcox', correction=False)\n",
    "                        # zero_method is how zero-differences are handled. Options: 'pratt', 'zsplit'\n",
    "                        # correction is if statistic is corrected towards the mean during calculation. Default: F\n",
    "print(wilcoxon_width_setosa)"
   ]
  },
  {
   "cell_type": "markdown",
   "metadata": {},
   "source": [
    "  "
   ]
  },
  {
   "cell_type": "markdown",
   "metadata": {},
   "source": [
    "**Comparing multiple groups**  \n",
    "ANOVA  \n",
    "Kruskal-Wallis H"
   ]
  },
  {
   "cell_type": "code",
   "execution_count": 36,
   "metadata": {},
   "outputs": [
    {
     "name": "stdout",
     "output_type": "stream",
     "text": [
      "F_onewayResult(statistic=49.882289862245315, pvalue=2.91767359510435e-17)\n"
     ]
    }
   ],
   "source": [
    "# 1-way ANOVA: Parametric\n",
    "anova_sw = stats.f_oneway(sw_setosa, sw_versicolor, sw_virginica)\n",
    "print(anova_sw)"
   ]
  },
  {
   "cell_type": "markdown",
   "metadata": {},
   "source": [
    "*What about post-*hoc* tests, DF, and other results?*  \n",
    "Not available in the Scipy.stats implementation  \n",
    "Use of linear regression with the **statsmodels** module allows access to some of that data  "
   ]
  },
  {
   "cell_type": "code",
   "execution_count": 37,
   "metadata": {},
   "outputs": [
    {
     "name": "stdout",
     "output_type": "stream",
     "text": [
      "KruskalResult(statistic=63.92045179729184, pvalue=1.3178022715901975e-14)\n"
     ]
    }
   ],
   "source": [
    "# Kruskal-Wallis H test: Non-parametric\n",
    "kw_sw = stats.kruskal(sw_setosa, sw_versicolor, sw_virginica, nan_policy='omit')\n",
    "print(kw_sw)"
   ]
  },
  {
   "cell_type": "markdown",
   "metadata": {},
   "source": [
    "  "
   ]
  },
  {
   "cell_type": "markdown",
   "metadata": {},
   "source": [
    "### Contingency Tables   \n",
    "Chi square  \n",
    "Fisher's exact test"
   ]
  },
  {
   "cell_type": "markdown",
   "metadata": {},
   "source": [
    "**pd.crosstab(vector1, vector2)** creates a contingency table from two binary vectors"
   ]
  },
  {
   "cell_type": "markdown",
   "metadata": {},
   "source": [
    "  "
   ]
  },
  {
   "cell_type": "markdown",
   "metadata": {},
   "source": [
    "#### Exercise  \n",
    "Create a contingency table from counts of big and small petal width and sepal width using the mean as cutoff"
   ]
  },
  {
   "cell_type": "markdown",
   "metadata": {},
   "source": [
    "  "
   ]
  },
  {
   "cell_type": "markdown",
   "metadata": {
    "collapsed": true
   },
   "source": [
    "  "
   ]
  },
  {
   "cell_type": "markdown",
   "metadata": {},
   "source": [
    "  "
   ]
  },
  {
   "cell_type": "code",
   "execution_count": 38,
   "metadata": {},
   "outputs": [
    {
     "data": {
      "text/html": [
       "<div>\n",
       "<style scoped>\n",
       "    .dataframe tbody tr th:only-of-type {\n",
       "        vertical-align: middle;\n",
       "    }\n",
       "\n",
       "    .dataframe tbody tr th {\n",
       "        vertical-align: top;\n",
       "    }\n",
       "\n",
       "    .dataframe thead th {\n",
       "        text-align: right;\n",
       "    }\n",
       "</style>\n",
       "<table border=\"1\" class=\"dataframe\">\n",
       "  <thead>\n",
       "    <tr style=\"text-align: right;\">\n",
       "      <th>Sepal_Width</th>\n",
       "      <th>False</th>\n",
       "      <th>True</th>\n",
       "    </tr>\n",
       "    <tr>\n",
       "      <th>Petal_Width</th>\n",
       "      <th></th>\n",
       "      <th></th>\n",
       "    </tr>\n",
       "  </thead>\n",
       "  <tbody>\n",
       "    <tr>\n",
       "      <th>False</th>\n",
       "      <td>18</td>\n",
       "      <td>42</td>\n",
       "    </tr>\n",
       "    <tr>\n",
       "      <th>True</th>\n",
       "      <td>65</td>\n",
       "      <td>25</td>\n",
       "    </tr>\n",
       "  </tbody>\n",
       "</table>\n",
       "</div>"
      ],
      "text/plain": [
       "Sepal_Width  False  True\n",
       "Petal_Width             \n",
       "False           18    42\n",
       "True            65    25"
      ]
     },
     "execution_count": 38,
     "metadata": {},
     "output_type": "execute_result"
    }
   ],
   "source": [
    "mean_pw = dataset['Petal_Width'].mean()\n",
    "mean_sw = dataset['Sepal_Width'].mean()\n",
    "\n",
    "width_table = pd.crosstab(dataset.Petal_Width > mean_pw, dataset.Sepal_Width > mean_sw)\n",
    "width_table"
   ]
  },
  {
   "cell_type": "code",
   "execution_count": 39,
   "metadata": {},
   "outputs": [
    {
     "name": "stdout",
     "output_type": "stream",
     "text": [
      "(25.966552778277293, 3.473840254460744e-07, 1, array([[33.2, 26.8],\n",
      "       [49.8, 40.2]]))\n",
      "\n",
      "\n",
      " Chi-square value:  25.966552778277293 \n",
      " p-value:  3.473840254460744e-07 \n",
      " Degrees of freedom:  1 \n",
      " Expected frequencies:  [[33.2 26.8]\n",
      " [49.8 40.2]] \n",
      "\n"
     ]
    }
   ],
   "source": [
    "# Chi square: Requires a matrix composed of individual arrays or a pd.crosstab result as input \n",
    "chi2_width = stats.chi2_contingency(width_table, correction=False) # Correction: Yates'\n",
    "                                     # Another optional argument: lambda_='pearson'/'log-likelihood'/'freeman-tukey'/\n",
    "                                     # 'mod-log-likelihood'/'neyman'/'cressie-read'\n",
    "                                     # lambda_ default is None which computes Pearson's chi2\n",
    "print(chi2_width)\n",
    "print('\\n')\n",
    "print(' Chi-square value: ', chi2_width[0], '\\n',\n",
    "      'p-value: ', chi2_width[1], '\\n',\n",
    "      'Degrees of freedom: ', chi2_width[2], '\\n',\n",
    "      'Expected frequencies: ', chi2_width[3], '\\n')"
   ]
  },
  {
   "cell_type": "code",
   "execution_count": 40,
   "metadata": {},
   "outputs": [
    {
     "name": "stdout",
     "output_type": "stream",
     "text": [
      "(0.16483516483516483, 3.90295578087731e-07)\n",
      "\n",
      "\n",
      " Odds ratio:  0.16483516483516483 \n",
      " p-value:  3.90295578087731e-07\n"
     ]
    }
   ],
   "source": [
    "# Fisher's exact test: Use if any expected frequency is < 5\n",
    "fisher_width = stats.fisher_exact([[18,42],\n",
    "                                   [65,25]], alternative='two-sided') # alternative options: 'less', 'greater'\n",
    "print(fisher_width)\n",
    "print('\\n')\n",
    "print(' Odds ratio: ', fisher_width[0], '\\n',\n",
    "      'p-value: ', fisher_width[1])"
   ]
  },
  {
   "cell_type": "markdown",
   "metadata": {},
   "source": [
    "  "
   ]
  },
  {
   "cell_type": "markdown",
   "metadata": {},
   "source": [
    "### Correlation  \n",
    "Pearson's correlation coefficient *r*  \n",
    "Spearman rank-order correlation coefficient *rho*  \n",
    "Point-biserial correlation coefficient  \n",
    "Kendall's *Tau*"
   ]
  },
  {
   "cell_type": "code",
   "execution_count": 41,
   "metadata": {},
   "outputs": [
    {
     "name": "stdout",
     "output_type": "stream",
     "text": [
      "(0.9559018929491592, 1.2082268268084072e-80) \n",
      "\n",
      "Pearson's correlation coefficient:  0.9559018929491592\n",
      "p-value:  1.2082268268084072e-80\n"
     ]
    }
   ],
   "source": [
    "# Pearson correlation coefficient: Parametric\n",
    "pearson_petal = stats.pearsonr(dataset['Petal_Width'], dataset['Petal_Length'])\n",
    "print(pearson_petal,'\\n')\n",
    "print('Pearson\\'s correlation coefficient: ', pearson_petal[0])\n",
    "print('p-value: ', pearson_petal[1]) # p-value is not so useful or reliable"
   ]
  },
  {
   "cell_type": "code",
   "execution_count": 42,
   "metadata": {},
   "outputs": [
    {
     "name": "stdout",
     "output_type": "stream",
     "text": [
      "SpearmanrResult(correlation=-0.16365863235158412, pvalue=0.04537660724195031)\n"
     ]
    }
   ],
   "source": [
    "# Spearman rank-order correlation coefficient: Non-parametric\n",
    "spearman_sepal = stats.spearmanr(dataset['Sepal_Width'], dataset['Sepal_Length'], nan_policy='omit')\n",
    "print(spearman_sepal)"
   ]
  },
  {
   "cell_type": "code",
   "execution_count": 43,
   "metadata": {},
   "outputs": [
    {
     "name": "stdout",
     "output_type": "stream",
     "text": [
      "PointbiserialrResult(correlation=0.6046434695018529, pvalue=2.5402737509750014e-16)\n"
     ]
    }
   ],
   "source": [
    "# Point-biserial correlation coefficient: Measures correlation between a binary and a continuous variable\n",
    "setosa_type = dataset['Type']=='setosa' #Binary variable\n",
    "pbs_setosa_sw = stats.pointbiserialr(setosa_type, dataset['Sepal_Width'])\n",
    "print(pbs_setosa_sw)"
   ]
  },
  {
   "cell_type": "code",
   "execution_count": 44,
   "metadata": {},
   "outputs": [
    {
     "name": "stdout",
     "output_type": "stream",
     "text": [
      "KendalltauResult(correlation=0.536118435288325, pvalue=4.4140131467923024e-07)\n"
     ]
    }
   ],
   "source": [
    "# Kendall's Tau: Non-parametric. Arguments for use: Ordinal data, more robust than Spearman, non-linear relations\n",
    "ktau_versicolor = stats.kendalltau(pw_versicolor, pl_versicolor, initial_lexsort=None, nan_policy='omit') \n",
    "                  # initial_lexsort=False uses quicksort\n",
    "print(ktau_versicolor)"
   ]
  },
  {
   "cell_type": "markdown",
   "metadata": {},
   "source": [
    "  "
   ]
  },
  {
   "cell_type": "markdown",
   "metadata": {},
   "source": [
    "### Linear Regression"
   ]
  },
  {
   "cell_type": "code",
   "execution_count": 45,
   "metadata": {},
   "outputs": [
    {
     "data": {
      "text/plain": [
       "<seaborn.axisgrid.FacetGrid at 0x140b3f820>"
      ]
     },
     "execution_count": 45,
     "metadata": {},
     "output_type": "execute_result"
    },
    {
     "data": {
      "image/png": "[encoded data removed]",
      "text/plain": [
       "<Figure size 360x360 with 1 Axes>"
      ]
     },
     "metadata": {},
     "output_type": "display_data"
    }
   ],
   "source": [
    "# Scatterplot of variables to include in regression\n",
    "sns.lmplot(y='Petal_Width', x='Sepal_Width', data=dataset) # Add hue='Type' to observe subgroups"
   ]
  },
  {
   "cell_type": "code",
   "execution_count": 46,
   "metadata": {},
   "outputs": [
    {
     "name": "stdout",
     "output_type": "stream",
     "text": [
      "LinregressResult(slope=-0.6352638635720149, intercept=31.33609524500363, rvalue=-0.36700657444549384, pvalue=3.846024974557698e-06, stderr=0.13235317105294284, intercept_stderr=4.0847628080588105)\n"
     ]
    }
   ],
   "source": [
    "# Scipy linear regression using least-squares. Only works for univariate\n",
    "scipy_linreg_width = stats.linregress(dataset['Sepal_Width'], dataset['Petal_Width']) # order of x,y != from lmplot\n",
    "print(scipy_linreg_width)"
   ]
  },
  {
   "cell_type": "markdown",
   "metadata": {},
   "source": [
    "**stats.linregress** provides limited information, and the library lacks a logistic regression function.  \n",
    "Use the **statsmodels** library for regression"
   ]
  },
  {
   "cell_type": "code",
   "execution_count": 47,
   "metadata": {},
   "outputs": [],
   "source": [
    "import statsmodels.formula.api as smf "
   ]
  },
  {
   "cell_type": "code",
   "execution_count": 48,
   "metadata": {
    "scrolled": false
   },
   "outputs": [
    {
     "data": {
      "text/html": [
       "<table class=\"simpletable\">\n",
       "<caption>OLS Regression Results</caption>\n",
       "<tr>\n",
       "  <th>Dep. Variable:</th>       <td>Petal_Width</td>   <th>  R-squared:         </th> <td>   0.135</td>\n",
       "</tr>\n",
       "<tr>\n",
       "  <th>Model:</th>                   <td>OLS</td>       <th>  Adj. R-squared:    </th> <td>   0.129</td>\n",
       "</tr>\n",
       "<tr>\n",
       "  <th>Method:</th>             <td>Least Squares</td>  <th>  F-statistic:       </th> <td>   23.04</td>\n",
       "</tr>\n",
       "<tr>\n",
       "  <th>Date:</th>             <td>Thu, 30 Jun 2022</td> <th>  Prob (F-statistic):</th> <td>3.85e-06</td>\n",
       "</tr>\n",
       "<tr>\n",
       "  <th>Time:</th>                 <td>20:05:50</td>     <th>  Log-Likelihood:    </th> <td> -505.10</td>\n",
       "</tr>\n",
       "<tr>\n",
       "  <th>No. Observations:</th>      <td>   150</td>      <th>  AIC:               </th> <td>   1014.</td>\n",
       "</tr>\n",
       "<tr>\n",
       "  <th>Df Residuals:</th>          <td>   148</td>      <th>  BIC:               </th> <td>   1020.</td>\n",
       "</tr>\n",
       "<tr>\n",
       "  <th>Df Model:</th>              <td>     1</td>      <th>                     </th>     <td> </td>   \n",
       "</tr>\n",
       "<tr>\n",
       "  <th>Covariance Type:</th>      <td>nonrobust</td>    <th>                     </th>     <td> </td>   \n",
       "</tr>\n",
       "</table>\n",
       "<table class=\"simpletable\">\n",
       "<tr>\n",
       "       <td></td>          <th>coef</th>     <th>std err</th>      <th>t</th>      <th>P>|t|</th>  <th>[0.025</th>    <th>0.975]</th>  \n",
       "</tr>\n",
       "<tr>\n",
       "  <th>Intercept</th>   <td>   31.3361</td> <td>    4.085</td> <td>    7.671</td> <td> 0.000</td> <td>   23.264</td> <td>   39.408</td>\n",
       "</tr>\n",
       "<tr>\n",
       "  <th>Sepal_Width</th> <td>   -0.6353</td> <td>    0.132</td> <td>   -4.800</td> <td> 0.000</td> <td>   -0.897</td> <td>   -0.374</td>\n",
       "</tr>\n",
       "</table>\n",
       "<table class=\"simpletable\">\n",
       "<tr>\n",
       "  <th>Omnibus:</th>       <td>12.432</td> <th>  Durbin-Watson:     </th> <td>   1.902</td>\n",
       "</tr>\n",
       "<tr>\n",
       "  <th>Prob(Omnibus):</th> <td> 0.002</td> <th>  Jarque-Bera (JB):  </th> <td>   6.318</td>\n",
       "</tr>\n",
       "<tr>\n",
       "  <th>Skew:</th>          <td> 0.300</td> <th>  Prob(JB):          </th> <td>  0.0425</td>\n",
       "</tr>\n",
       "<tr>\n",
       "  <th>Kurtosis:</th>      <td> 2.193</td> <th>  Cond. No.          </th> <td>    219.</td>\n",
       "</tr>\n",
       "</table><br/><br/>Notes:<br/>[1] Standard Errors assume that the covariance matrix of the errors is correctly specified."
      ],
      "text/plain": [
       "<class 'statsmodels.iolib.summary.Summary'>\n",
       "\"\"\"\n",
       "                            OLS Regression Results                            \n",
       "==============================================================================\n",
       "Dep. Variable:            Petal_Width   R-squared:                       0.135\n",
       "Model:                            OLS   Adj. R-squared:                  0.129\n",
       "Method:                 Least Squares   F-statistic:                     23.04\n",
       "Date:                Thu, 30 Jun 2022   Prob (F-statistic):           3.85e-06\n",
       "Time:                        20:05:50   Log-Likelihood:                -505.10\n",
       "No. Observations:                 150   AIC:                             1014.\n",
       "Df Residuals:                     148   BIC:                             1020.\n",
       "Df Model:                           1                                         \n",
       "Covariance Type:            nonrobust                                         \n",
       "===============================================================================\n",
       "                  coef    std err          t      P>|t|      [0.025      0.975]\n",
       "-------------------------------------------------------------------------------\n",
       "Intercept      31.3361      4.085      7.671      0.000      23.264      39.408\n",
       "Sepal_Width    -0.6353      0.132     -4.800      0.000      -0.897      -0.374\n",
       "==============================================================================\n",
       "Omnibus:                       12.432   Durbin-Watson:                   1.902\n",
       "Prob(Omnibus):                  0.002   Jarque-Bera (JB):                6.318\n",
       "Skew:                           0.300   Prob(JB):                       0.0425\n",
       "Kurtosis:                       2.193   Cond. No.                         219.\n",
       "==============================================================================\n",
       "\n",
       "Notes:\n",
       "[1] Standard Errors assume that the covariance matrix of the errors is correctly specified.\n",
       "\"\"\""
      ]
     },
     "execution_count": 48,
     "metadata": {},
     "output_type": "execute_result"
    }
   ],
   "source": [
    "reg_width = smf.ols(formula='Petal_Width ~ Sepal_Width', data=dataset)\n",
    "reg_width_model = reg_width.fit()\n",
    "reg_width_model.summary()"
   ]
  },
  {
   "cell_type": "code",
   "execution_count": 49,
   "metadata": {},
   "outputs": [
    {
     "name": "stdout",
     "output_type": "stream",
     "text": [
      "                            OLS Regression Results                            \n",
      "==============================================================================\n",
      "Dep. Variable:            Petal_Width   R-squared:                       0.135\n",
      "Model:                            OLS   Adj. R-squared:                  0.129\n",
      "Method:                 Least Squares   F-statistic:                     23.04\n",
      "Date:                Thu, 30 Jun 2022   Prob (F-statistic):           3.85e-06\n",
      "Time:                        20:05:50   Log-Likelihood:                -505.10\n",
      "No. Observations:                 150   AIC:                             1014.\n",
      "Df Residuals:                     148   BIC:                             1020.\n",
      "Df Model:                           1                                         \n",
      "Covariance Type:            nonrobust                                         \n",
      "===============================================================================\n",
      "                  coef    std err          t      P>|t|      [0.025      0.975]\n",
      "-------------------------------------------------------------------------------\n",
      "Intercept      31.3361      4.085      7.671      0.000      23.264      39.408\n",
      "Sepal_Width    -0.6353      0.132     -4.800      0.000      -0.897      -0.374\n",
      "==============================================================================\n",
      "Omnibus:                       12.432   Durbin-Watson:                   1.902\n",
      "Prob(Omnibus):                  0.002   Jarque-Bera (JB):                6.318\n",
      "Skew:                           0.300   Prob(JB):                       0.0425\n",
      "Kurtosis:                       2.193   Cond. No.                         219.\n",
      "==============================================================================\n",
      "\n",
      "Notes:\n",
      "[1] Standard Errors assume that the covariance matrix of the errors is correctly specified.\n"
     ]
    }
   ],
   "source": [
    "print(reg_width_model.summary()) # This way is better to obtain warnings"
   ]
  },
  {
   "cell_type": "code",
   "execution_count": 50,
   "metadata": {
    "scrolled": true
   },
   "outputs": [
    {
     "name": "stdout",
     "output_type": "stream",
     "text": [
      "['HC0_se', 'HC1_se', 'HC2_se', 'HC3_se', '_HCCM', '__class__', '__delattr__', '__dict__', '__dir__', '__doc__', '__eq__', '__format__', '__ge__', '__getattribute__', '__gt__', '__hash__', '__init__', '__init_subclass__', '__le__', '__lt__', '__module__', '__ne__', '__new__', '__reduce__', '__reduce_ex__', '__repr__', '__setattr__', '__sizeof__', '__str__', '__subclasshook__', '__weakref__', '_abat_diagonal', '_cache', '_data_attr', '_data_in_cache', '_get_robustcov_results', '_is_nested', '_use_t', '_wexog_singular_values', 'aic', 'bic', 'bse', 'centered_tss', 'compare_f_test', 'compare_lm_test', 'compare_lr_test', 'condition_number', 'conf_int', 'conf_int_el', 'cov_HC0', 'cov_HC1', 'cov_HC2', 'cov_HC3', 'cov_kwds', 'cov_params', 'cov_type', 'df_model', 'df_resid', 'diagn', 'eigenvals', 'el_test', 'ess', 'f_pvalue', 'f_test', 'fittedvalues', 'fvalue', 'get_influence', 'get_prediction', 'get_robustcov_results', 'info_criteria', 'initialize', 'k_constant', 'llf', 'load', 'model', 'mse_model', 'mse_resid', 'mse_total', 'nobs', 'normalized_cov_params', 'outlier_test', 'params', 'predict', 'pvalues', 'remove_data', 'resid', 'resid_pearson', 'rsquared', 'rsquared_adj', 'save', 'scale', 'ssr', 'summary', 'summary2', 't_test', 't_test_pairwise', 'tvalues', 'uncentered_tss', 'use_t', 'wald_test', 'wald_test_terms', 'wresid']\n"
     ]
    }
   ],
   "source": [
    "print( dir(reg_width_model) )"
   ]
  },
  {
   "cell_type": "markdown",
   "metadata": {},
   "source": [
    "To plot residuals, an important quality control step, we need to use the predict() method. This function takes as input a matrix of predictive variables plus a new column for the intercept. To create this compound matrix we need to use the add_constant() function from the other statsmodels api: **statsmodels.api**"
   ]
  },
  {
   "cell_type": "code",
   "execution_count": 51,
   "metadata": {},
   "outputs": [],
   "source": [
    "import statsmodels.api as sm\n",
    "\n",
    "pred_var_matrix = dataset['Sepal_Width']\n",
    "pred_var_matrix = sm.add_constant(pred_var_matrix)\n",
    "sm_reg_width = sm.OLS( dataset['Petal_Width'], pred_var_matrix) # Note the difference from smf.ols\n",
    "sm_reg_width_model = sm_reg_width.fit()"
   ]
  },
  {
   "cell_type": "code",
   "execution_count": 52,
   "metadata": {
    "scrolled": true
   },
   "outputs": [
    {
     "data": {
      "text/plain": [
       "Text(0, 0.5, 'Standardized Predicted Value')"
      ]
     },
     "execution_count": 52,
     "metadata": {},
     "output_type": "execute_result"
    },
    {
     "data": {
      "image/png": "[encoded data removed]",
      "text/plain": [
       "<Figure size 432x288 with 1 Axes>"
      ]
     },
     "metadata": {},
     "output_type": "display_data"
    }
   ],
   "source": [
    "# Plotting residuals:\n",
    "# Obtain predicted values for dependent variable\n",
    "predicted_values = reg_width_model.predict(pred_var_matrix) # dataset['Sepal_Width'] is not valid input\n",
    "sm_predicted_values = sm_reg_width_model.predict(pred_var_matrix)\n",
    "\n",
    "residuals = dataset['Petal_Width'] - sm_predicted_values\n",
    "normalized_residuals = (residuals - np.mean(residuals)) / np.std(residuals)\n",
    "normalized_predicted = (sm_predicted_values - np.mean(sm_predicted_values)) / np.std(sm_predicted_values)\n",
    "\n",
    "plt.plot(normalized_residuals, normalized_predicted, 'o')\n",
    "plt.xlabel('Standardized Residuals')\n",
    "plt.ylabel('Standardized Predicted Value')"
   ]
  },
  {
   "cell_type": "code",
   "execution_count": 53,
   "metadata": {},
   "outputs": [
    {
     "name": "stdout",
     "output_type": "stream",
     "text": [
      "   dfb_const  dfb_Sepal_Width\n",
      "0   0.040527        -0.054882\n",
      "1   0.005757         0.014842\n",
      "2   0.005282         0.013618\n",
      "3   0.083296        -0.094980\n",
      "4   0.023999        -0.011416\n"
     ]
    }
   ],
   "source": [
    "influence = sm_reg_width_model.get_influence()\n",
    "influence_dbetas = influence.summary_frame().filter(regex='dfb')\n",
    "print(influence_dbetas.head(5))"
   ]
  },
  {
   "cell_type": "markdown",
   "metadata": {},
   "source": [
    "DFBeta measures the influence a given sample exerts over the model. The maximum value allowed can be calculated as:  \n",
    "$2^{\\sqrt{N}}$"
   ]
  },
  {
   "cell_type": "markdown",
   "metadata": {},
   "source": [
    "  "
   ]
  },
  {
   "cell_type": "markdown",
   "metadata": {},
   "source": [
    "#### Exercise  \n",
    "Find if any sample exerts an excessive influence over our model"
   ]
  },
  {
   "cell_type": "markdown",
   "metadata": {},
   "source": [
    "  "
   ]
  },
  {
   "cell_type": "markdown",
   "metadata": {
    "collapsed": true
   },
   "source": [
    "  "
   ]
  },
  {
   "cell_type": "markdown",
   "metadata": {},
   "source": [
    "  "
   ]
  },
  {
   "cell_type": "markdown",
   "metadata": {},
   "source": [
    "  "
   ]
  },
  {
   "cell_type": "code",
   "execution_count": 54,
   "metadata": {},
   "outputs": [
    {
     "name": "stdout",
     "output_type": "stream",
     "text": [
      "Maximum value of DFBeta:  4862.386010607465\n"
     ]
    },
    {
     "data": {
      "text/plain": [
       "False"
      ]
     },
     "execution_count": 54,
     "metadata": {},
     "output_type": "execute_result"
    }
   ],
   "source": [
    "influence_max = 2**(np.sqrt(sm_reg_width_model.nobs)) \n",
    "print('Maximum value of DFBeta: ', influence_max)\n",
    "any(influence_dbetas['dfb_Sepal_Width'] > influence_max)"
   ]
  },
  {
   "cell_type": "markdown",
   "metadata": {},
   "source": [
    "  "
   ]
  },
  {
   "cell_type": "markdown",
   "metadata": {},
   "source": [
    "### Logistic Regression"
   ]
  },
  {
   "cell_type": "code",
   "execution_count": 55,
   "metadata": {},
   "outputs": [
    {
     "name": "stdout",
     "output_type": "stream",
     "text": [
      "Optimization terminated successfully.\n",
      "         Current function value: 0.412015\n",
      "         Iterations 7\n",
      "                           Logit Regression Results                           \n",
      "==============================================================================\n",
      "Dep. Variable:                   Type   No. Observations:                  150\n",
      "Model:                          Logit   Df Residuals:                      148\n",
      "Method:                           MLE   Df Model:                            1\n",
      "Date:                Thu, 30 Jun 2022   Pseudo R-squ.:                  0.3527\n",
      "Time:                        20:05:52   Log-Likelihood:                -61.802\n",
      "converged:                       True   LL-Null:                       -95.477\n",
      "Covariance Type:            nonrobust   LLR p-value:                 2.274e-16\n",
      "===============================================================================\n",
      "                  coef    std err          z      P>|z|      [0.025      0.975]\n",
      "-------------------------------------------------------------------------------\n",
      "const         -15.6790      2.614     -5.999      0.000     -20.802     -10.556\n",
      "Sepal_Width     0.4779      0.082      5.813      0.000       0.317       0.639\n",
      "===============================================================================\n"
     ]
    }
   ],
   "source": [
    "logregr_setosa_sw = sm.Logit(setosa_type, pred_var_matrix)\n",
    "logregr_setosa_sw_model = logregr_setosa_sw.fit()\n",
    "print(logregr_setosa_sw_model.summary())"
   ]
  },
  {
   "cell_type": "code",
   "execution_count": 56,
   "metadata": {},
   "outputs": [
    {
     "name": "stdout",
     "output_type": "stream",
     "text": [
      "const          1.551280e-07\n",
      "Sepal_Width    1.612628e+00\n",
      "dtype: float64\n"
     ]
    }
   ],
   "source": [
    "# Calculate odds ratio\n",
    "print(np.exp(logregr_setosa_sw_model.params))"
   ]
  },
  {
   "cell_type": "markdown",
   "metadata": {},
   "source": [
    "  "
   ]
  },
  {
   "cell_type": "markdown",
   "metadata": {},
   "source": [
    "#### Exercise  \n",
    "Plot the data against the values predicted by the model"
   ]
  },
  {
   "cell_type": "markdown",
   "metadata": {},
   "source": [
    "  "
   ]
  },
  {
   "cell_type": "markdown",
   "metadata": {
    "collapsed": true
   },
   "source": [
    "  "
   ]
  },
  {
   "cell_type": "markdown",
   "metadata": {},
   "source": [
    "  "
   ]
  },
  {
   "cell_type": "markdown",
   "metadata": {},
   "source": [
    "  "
   ]
  },
  {
   "cell_type": "code",
   "execution_count": 57,
   "metadata": {},
   "outputs": [
    {
     "data": {
      "text/plain": [
       "(-0.05, 1.05)"
      ]
     },
     "execution_count": 57,
     "metadata": {},
     "output_type": "execute_result"
    },
    {
     "data": {
      "image/png": "[encoded data removed]",
      "text/plain": [
       "<Figure size 432x288 with 1 Axes>"
      ]
     },
     "metadata": {},
     "output_type": "display_data"
    }
   ],
   "source": [
    "# Plot predicted values vs. data\n",
    "logregr_predicted_values = logregr_setosa_sw_model.predict(pred_var_matrix)\n",
    "plt.plot(dataset['Sepal_Width'], setosa_type, 'o')\n",
    "plt.plot(dataset['Sepal_Width'], logregr_predicted_values,'ok')\n",
    "plt.xlabel('Sepal Width')\n",
    "plt.ylabel('Setosa type')\n",
    "plt.ylim(-0.05, 1.05)"
   ]
  },
  {
   "cell_type": "code",
   "execution_count": null,
   "metadata": {
    "collapsed": true
   },
   "outputs": [],
   "source": []
  }
 ],
 "metadata": {
  "kernelspec": {
   "display_name": "Python 3 (ipykernel)",
   "language": "python",
   "name": "python3"
  },
  "language_info": {
   "codemirror_mode": {
    "name": "ipython",
    "version": 3
   },
   "file_extension": ".py",
   "mimetype": "text/x-python",
   "name": "python",
   "nbconvert_exporter": "python",
   "pygments_lexer": "ipython3",
   "version": "3.9.13"
  }
 },
 "nbformat": 4,
 "nbformat_minor": 1
}
