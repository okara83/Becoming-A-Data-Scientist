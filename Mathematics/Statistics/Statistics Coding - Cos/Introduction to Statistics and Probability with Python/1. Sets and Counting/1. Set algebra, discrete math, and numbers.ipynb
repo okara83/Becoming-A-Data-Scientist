{
 "cells": [
  {
   "cell_type": "markdown",
   "metadata": {},
   "source": [
    "# Concept of set, definition of set relationships, and null set\n",
    "Set theory is a branch of mathematical logic that studies sets, which informally are collections of objects. Although any type of object can be collected into a set, set theory is applied most often to objects that are relevant to mathematics. The language of set theory can be used in the definitions of nearly all mathematical objects.\n",
    "\n",
    "**Set theory is commonly employed as a foundational system for modern mathematics**, particularly in the form of [**Zermelo–Fraenkel set theory**](https://en.wikipedia.org/wiki/Zermelo-Fraenkel_set_theory) with the [axiom of choice](https://en.wikipedia.org/wiki/Axiom_of_choice)."
   ]
  },
  {
   "cell_type": "markdown",
   "metadata": {},
   "source": [
    "###  Creating a set using Python with the `set` and `{...}`"
   ]
  },
  {
   "cell_type": "code",
   "execution_count": 126,
   "metadata": {},
   "outputs": [
    {
     "name": "stdout",
     "output_type": "stream",
     "text": [
      "{1, 2}\n"
     ]
    }
   ],
   "source": [
    "# Directly with curly braces\n",
    "Set1 = {1,2}\n",
    "print (Set1)"
   ]
  },
  {
   "cell_type": "code",
   "execution_count": 127,
   "metadata": {},
   "outputs": [
    {
     "data": {
      "text/plain": [
       "set"
      ]
     },
     "execution_count": 127,
     "metadata": {},
     "output_type": "execute_result"
    }
   ],
   "source": [
    "type(Set1)"
   ]
  },
  {
   "cell_type": "code",
   "execution_count": 3,
   "metadata": {},
   "outputs": [
    {
     "name": "stdout",
     "output_type": "stream",
     "text": [
      "{2, 3}\n"
     ]
    }
   ],
   "source": [
    "# By calling the 'set' function i.e. typecasting\n",
    "Set2 = set({2,3})\n",
    "print(Set2)"
   ]
  },
  {
   "cell_type": "code",
   "execution_count": 4,
   "metadata": {},
   "outputs": [
    {
     "name": "stdout",
     "output_type": "stream",
     "text": [
      "{1, 2, 3, 4}\n"
     ]
    }
   ],
   "source": [
    "# By typecasting from another Python object e.g. list\n",
    "my_list=[1,2,3,4]\n",
    "my_set_from_list = set(my_list)\n",
    "print(my_set_from_list)"
   ]
  },
  {
   "cell_type": "markdown",
   "metadata": {},
   "source": [
    "#### Let's check the size of a set using `len` function"
   ]
  },
  {
   "cell_type": "code",
   "execution_count": 5,
   "metadata": {},
   "outputs": [
    {
     "name": "stdout",
     "output_type": "stream",
     "text": [
      "Size of the set created from the list with 4 elements: 4\n"
     ]
    }
   ],
   "source": [
    "print(\"Size of the set created from the list with 4 elements:\",len(my_set_from_list))"
   ]
  },
  {
   "cell_type": "markdown",
   "metadata": {},
   "source": [
    "### Empty (Null) set is a special set\n",
    "Null set is a set which has no element.\n",
    "\n",
    "$$ \\forall x, x \\notin \\varnothing $$ "
   ]
  },
  {
   "cell_type": "markdown",
   "metadata": {},
   "source": [
    "#### Do not try to create the empty set by declaring an empty {}. That denotes an empty dictionary object "
   ]
  },
  {
   "cell_type": "code",
   "execution_count": 6,
   "metadata": {},
   "outputs": [
    {
     "name": "stdout",
     "output_type": "stream",
     "text": [
      "<class 'dict'>\n"
     ]
    }
   ],
   "source": [
    "null_set = {}\n",
    "print(type(null_set))"
   ]
  },
  {
   "cell_type": "markdown",
   "metadata": {},
   "source": [
    "#### Instead, use the `set()` function to create the empty (null) set from any empty data type e.g. dictionary or list"
   ]
  },
  {
   "cell_type": "code",
   "execution_count": 7,
   "metadata": {},
   "outputs": [
    {
     "name": "stdout",
     "output_type": "stream",
     "text": [
      "Type of 'a': <class 'dict'>\n",
      "Type after casting: <class 'set'>\n",
      "Type of 'b': <class 'list'>\n",
      "Type after casting: <class 'set'>\n"
     ]
    }
   ],
   "source": [
    "a = {}\n",
    "print(\"Type of 'a':\",type(a))\n",
    "null_set = set(a)\n",
    "print(\"Type after casting:\",type(null_set))\n",
    "b = []\n",
    "print(\"Type of 'b':\",type(b))\n",
    "null_set_2 = set(b)\n",
    "print(\"Type after casting:\",type(null_set_2))"
   ]
  },
  {
   "cell_type": "markdown",
   "metadata": {},
   "source": [
    "#### Check the size of a Null set"
   ]
  },
  {
   "cell_type": "code",
   "execution_count": 8,
   "metadata": {},
   "outputs": [
    {
     "name": "stdout",
     "output_type": "stream",
     "text": [
      "Size of a null set: 0\n"
     ]
    }
   ],
   "source": [
    "print(\"Size of a null set:\",len(null_set_2))"
   ]
  },
  {
   "cell_type": "markdown",
   "metadata": {},
   "source": [
    "### Subset and Superset\n",
    "A set `A` is called a **subset** of another set `B` (or equivalently `B` is called the **superset** of `A`) if all the elements of `A` is also contained by `B`. Note, `B` may contain additional elements.\n",
    "\n",
    "Subset/superset relationship is shown as follows,\n",
    "\n",
    "$$ {\\displaystyle A\\subseteq B} $$\n",
    "$$ {\\displaystyle B\\supseteq A} $$"
   ]
  },
  {
   "cell_type": "markdown",
   "metadata": {},
   "source": [
    "#### Let us define two sets using the list comprehension technique of Python. One set will be all integeres from 1 to 10 and another will be only the odd integers between 1 and 10 (inclusive)."
   ]
  },
  {
   "cell_type": "code",
   "execution_count": 9,
   "metadata": {},
   "outputs": [
    {
     "name": "stdout",
     "output_type": "stream",
     "text": [
      "set_A:  {1, 3, 5, 7, 9}\n",
      "set_B:  {1, 2, 3, 4, 5, 6, 7, 8, 9, 10}\n"
     ]
    }
   ],
   "source": [
    "set_A = set([i for i in range(1,11) if i%2==1])\n",
    "set_B = set([i for i in range(1,11)])\n",
    "\n",
    "print(\"set_A: \",set_A)\n",
    "print(\"set_B: \",set_B)"
   ]
  },
  {
   "cell_type": "markdown",
   "metadata": {},
   "source": [
    "#### Python's set objects provide built-in methods (functions) to check for subset or superset property. Use `issubset` or `issuperset` method for this."
   ]
  },
  {
   "cell_type": "code",
   "execution_count": 10,
   "metadata": {},
   "outputs": [
    {
     "data": {
      "text/plain": [
       "True"
      ]
     },
     "execution_count": 10,
     "metadata": {},
     "output_type": "execute_result"
    }
   ],
   "source": [
    "set_A.issubset(set_B)"
   ]
  },
  {
   "cell_type": "code",
   "execution_count": 11,
   "metadata": {},
   "outputs": [
    {
     "data": {
      "text/plain": [
       "False"
      ]
     },
     "execution_count": 11,
     "metadata": {},
     "output_type": "execute_result"
    }
   ],
   "source": [
    "set_B.issubset(set_A)"
   ]
  },
  {
   "cell_type": "code",
   "execution_count": 12,
   "metadata": {},
   "outputs": [
    {
     "data": {
      "text/plain": [
       "True"
      ]
     },
     "execution_count": 12,
     "metadata": {},
     "output_type": "execute_result"
    }
   ],
   "source": [
    "set_B.issuperset(set_A)"
   ]
  },
  {
   "cell_type": "markdown",
   "metadata": {},
   "source": [
    "#### Alternatively, operators like `<=` or `>` can be used to check relations"
   ]
  },
  {
   "cell_type": "code",
   "execution_count": 13,
   "metadata": {},
   "outputs": [
    {
     "data": {
      "text/plain": [
       "False"
      ]
     },
     "execution_count": 13,
     "metadata": {},
     "output_type": "execute_result"
    }
   ],
   "source": [
    "set_A > set_B"
   ]
  },
  {
   "cell_type": "code",
   "execution_count": 14,
   "metadata": {},
   "outputs": [
    {
     "data": {
      "text/plain": [
       "True"
      ]
     },
     "execution_count": 14,
     "metadata": {},
     "output_type": "execute_result"
    }
   ],
   "source": [
    "set_B >= set_A"
   ]
  },
  {
   "cell_type": "markdown",
   "metadata": {},
   "source": [
    "#### Every set is both subset and superset of itself"
   ]
  },
  {
   "cell_type": "code",
   "execution_count": 15,
   "metadata": {},
   "outputs": [
    {
     "data": {
      "text/plain": [
       "True"
      ]
     },
     "execution_count": 15,
     "metadata": {},
     "output_type": "execute_result"
    }
   ],
   "source": [
    "set_A.issubset(set_A)"
   ]
  },
  {
   "cell_type": "code",
   "execution_count": 16,
   "metadata": {},
   "outputs": [
    {
     "data": {
      "text/plain": [
       "True"
      ]
     },
     "execution_count": 16,
     "metadata": {},
     "output_type": "execute_result"
    }
   ],
   "source": [
    "set_B.issuperset(set_B)"
   ]
  },
  {
   "cell_type": "markdown",
   "metadata": {},
   "source": [
    "#### Null set if subset to every other set (and every set is superset to the null set)"
   ]
  },
  {
   "cell_type": "code",
   "execution_count": 17,
   "metadata": {},
   "outputs": [
    {
     "data": {
      "text/plain": [
       "True"
      ]
     },
     "execution_count": 17,
     "metadata": {},
     "output_type": "execute_result"
    }
   ],
   "source": [
    "null_set.issubset(set_A)"
   ]
  },
  {
   "cell_type": "code",
   "execution_count": 18,
   "metadata": {},
   "outputs": [
    {
     "data": {
      "text/plain": [
       "True"
      ]
     },
     "execution_count": 18,
     "metadata": {},
     "output_type": "execute_result"
    }
   ],
   "source": [
    "set_B.issuperset(null_set_2)"
   ]
  },
  {
   "cell_type": "markdown",
   "metadata": {},
   "source": [
    "### Membership testing using `in` and `not in`\n",
    "We can test whether an element belongs to a set or not using familiar Python keyword `in` or `not in`"
   ]
  },
  {
   "cell_type": "code",
   "execution_count": 19,
   "metadata": {},
   "outputs": [
    {
     "data": {
      "text/plain": [
       "False"
      ]
     },
     "execution_count": 19,
     "metadata": {},
     "output_type": "execute_result"
    }
   ],
   "source": [
    "2 in set_A"
   ]
  },
  {
   "cell_type": "code",
   "execution_count": 20,
   "metadata": {},
   "outputs": [
    {
     "data": {
      "text/plain": [
       "False"
      ]
     },
     "execution_count": 20,
     "metadata": {},
     "output_type": "execute_result"
    }
   ],
   "source": [
    "11 in set_B"
   ]
  },
  {
   "cell_type": "code",
   "execution_count": 21,
   "metadata": {},
   "outputs": [
    {
     "data": {
      "text/plain": [
       "True"
      ]
     },
     "execution_count": 21,
     "metadata": {},
     "output_type": "execute_result"
    }
   ],
   "source": [
    "5 in set_A"
   ]
  },
  {
   "cell_type": "markdown",
   "metadata": {},
   "source": [
    "### Disjoint\n",
    "Two sets are said to be disjoint sets if they have **no element in common**. Equivalently, disjoint sets are sets whose **intersection** is the null set. We will study interesection little later but as the name implies it simply means the common cross-section between two sets. If there is no common element then the degree of commonality is zero and those two sets are disjoint."
   ]
  },
  {
   "cell_type": "code",
   "execution_count": 22,
   "metadata": {},
   "outputs": [
    {
     "name": "stdout",
     "output_type": "stream",
     "text": [
      "{2, 4, 6, 8, 10}\n"
     ]
    }
   ],
   "source": [
    "set_C = set([i for i in range(1,11) if i%2==0])\n",
    "print(set_C)"
   ]
  },
  {
   "cell_type": "code",
   "execution_count": 23,
   "metadata": {},
   "outputs": [
    {
     "data": {
      "text/plain": [
       "True"
      ]
     },
     "execution_count": 23,
     "metadata": {},
     "output_type": "execute_result"
    }
   ],
   "source": [
    "set_A.isdisjoint(set_C)"
   ]
  },
  {
   "cell_type": "markdown",
   "metadata": {},
   "source": [
    "# Properties of sets and basic set algebra\n",
    "In this section, we will study basic properties of set and the fundamental operations associated with them."
   ]
  },
  {
   "cell_type": "markdown",
   "metadata": {},
   "source": [
    "### Algebra of inclusion\n",
    "If ***`A`***, ***`B`*** and ***`C`*** are sets then the following hold:\n",
    "\n",
    "**Reflexivity:**\n",
    "\n",
    "$$ {\\displaystyle A\\subseteq A} $$\n",
    "\n",
    "**Antisymmetry:**\n",
    "\n",
    "$$ A\\subseteq B\\ \\ and\\ B\\subseteq A\\ \\text if\\ and\\ only\\ if\\ A=B $$\n",
    "\n",
    "**Transitivity:**\n",
    "\n",
    "$$If\\ {\\displaystyle A\\subseteq B}\\ and \\ {\\displaystyle B\\subseteq C}, then\\ A ⊆ C $$"
   ]
  },
  {
   "cell_type": "markdown",
   "metadata": {},
   "source": [
    "### Write a short python program to verify the transivity rule"
   ]
  },
  {
   "cell_type": "code",
   "execution_count": 24,
   "metadata": {},
   "outputs": [
    {
     "name": "stdout",
     "output_type": "stream",
     "text": [
      "A: {1, 5}\n",
      "B: {1, 2, 3, 4, 5}\n",
      "C: {1, 2, 3, 4, 5, 6, 7, 8, 9, 10}\n"
     ]
    }
   ],
   "source": [
    "A = {1,5}\n",
    "B = {1,2,3,4,5}\n",
    "C = set([i for i in range(1,11)])\n",
    "\n",
    "print(\"A:\",A)\n",
    "print(\"B:\",B)\n",
    "print(\"C:\",C)"
   ]
  },
  {
   "cell_type": "code",
   "execution_count": 25,
   "metadata": {},
   "outputs": [
    {
     "data": {
      "text/plain": [
       "True"
      ]
     },
     "execution_count": 25,
     "metadata": {},
     "output_type": "execute_result"
    }
   ],
   "source": [
    "A.issubset(B)"
   ]
  },
  {
   "cell_type": "code",
   "execution_count": 26,
   "metadata": {},
   "outputs": [
    {
     "data": {
      "text/plain": [
       "True"
      ]
     },
     "execution_count": 26,
     "metadata": {},
     "output_type": "execute_result"
    }
   ],
   "source": [
    "B.issubset(C)"
   ]
  },
  {
   "cell_type": "code",
   "execution_count": 27,
   "metadata": {},
   "outputs": [
    {
     "data": {
      "text/plain": [
       "True"
      ]
     },
     "execution_count": 27,
     "metadata": {},
     "output_type": "execute_result"
    }
   ],
   "source": [
    "A.issubset(C)"
   ]
  },
  {
   "cell_type": "markdown",
   "metadata": {},
   "source": [
    "### Equality"
   ]
  },
  {
   "cell_type": "code",
   "execution_count": 28,
   "metadata": {},
   "outputs": [
    {
     "name": "stdout",
     "output_type": "stream",
     "text": [
      "S1 and S2 are equal because order or repetition of elements do not matter for sets\n",
      "S1==S2: True\n"
     ]
    }
   ],
   "source": [
    "S1 = {1,2}\n",
    "S2 = {2,2,1,1,2}\n",
    "print (\"S1 and S2 are equal because order or repetition of elements do not matter for sets\\nS1==S2:\", S1==S2)"
   ]
  },
  {
   "cell_type": "code",
   "execution_count": 29,
   "metadata": {},
   "outputs": [
    {
     "name": "stdout",
     "output_type": "stream",
     "text": [
      "S3 and S4 are NOT equal because at least one element is different\n",
      "S3==S4: False\n"
     ]
    }
   ],
   "source": [
    "S3 = {1,2,3,4,5,6}\n",
    "S4 = {1,2,3,4,0,6}\n",
    "print (\"S3 and S4 are NOT equal because at least one element is different\\nS3==S4:\", S3==S4)"
   ]
  },
  {
   "cell_type": "markdown",
   "metadata": {},
   "source": [
    "### Intersection of sets\n",
    "The intersection `A ∩ B` of two sets `A` and `B` is the set that contains all elements of `A` that also belong to `B` (or equivalently, all elements of `B` that also belong to `A`), but no other elements. Formally,\n",
    "\n",
    "$$  {\\displaystyle A\\cap B=\\{x:x\\in A{\\text{ and }}x\\in B\\}.} $$\n",
    "\n",
    "![Set intersection](https://upload.wikimedia.org/wikipedia/commons/5/5a/PolygonsSetIntersection.svg)"
   ]
  },
  {
   "cell_type": "code",
   "execution_count": 30,
   "metadata": {},
   "outputs": [
    {
     "name": "stdout",
     "output_type": "stream",
     "text": [
      "S5: {9, 3, 6}\n"
     ]
    }
   ],
   "source": [
    "# Define a set using list comprehension\n",
    "S5 = set([x for x in range(1,11) if x%3==0])\n",
    "print(\"S5:\", S5)"
   ]
  },
  {
   "cell_type": "code",
   "execution_count": 31,
   "metadata": {},
   "outputs": [
    {
     "name": "stdout",
     "output_type": "stream",
     "text": [
      "S6: {1, 2, 3, 4}\n"
     ]
    }
   ],
   "source": [
    "S6 = set([x for x in range(1,5)])\n",
    "print(\"S6:\", S6)"
   ]
  },
  {
   "cell_type": "markdown",
   "metadata": {},
   "source": [
    "#### Using `intersection` method"
   ]
  },
  {
   "cell_type": "code",
   "execution_count": 32,
   "metadata": {},
   "outputs": [
    {
     "name": "stdout",
     "output_type": "stream",
     "text": [
      "Intersection of S5 and S6: {3}\n"
     ]
    }
   ],
   "source": [
    "S_intersection = S5.intersection(S6)\n",
    "print(\"Intersection of S5 and S6:\", S_intersection)"
   ]
  },
  {
   "cell_type": "markdown",
   "metadata": {},
   "source": [
    "#### Using `&` operator"
   ]
  },
  {
   "cell_type": "code",
   "execution_count": 33,
   "metadata": {},
   "outputs": [
    {
     "name": "stdout",
     "output_type": "stream",
     "text": [
      "Intersection of S5 and S6: {3}\n"
     ]
    }
   ],
   "source": [
    "S_intersection = S5 & S6\n",
    "print(\"Intersection of S5 and S6:\", S_intersection)"
   ]
  },
  {
   "cell_type": "markdown",
   "metadata": {},
   "source": [
    "#### We can chain the methods to get intersection between more than two sets"
   ]
  },
  {
   "cell_type": "code",
   "execution_count": 34,
   "metadata": {},
   "outputs": [
    {
     "name": "stdout",
     "output_type": "stream",
     "text": [
      "S7: {4, 5, 6, 7, 8, 9}\n"
     ]
    }
   ],
   "source": [
    "S7 = set([x for x in range(4,10)])\n",
    "print(\"S7:\", S7)"
   ]
  },
  {
   "cell_type": "code",
   "execution_count": 35,
   "metadata": {},
   "outputs": [
    {
     "name": "stdout",
     "output_type": "stream",
     "text": [
      "Intersection of S5, S6, and S7: set()\n"
     ]
    }
   ],
   "source": [
    "S5_S6_S7 = S5.intersection(S6).intersection(S7)\n",
    "print(\"Intersection of S5, S6, and S7:\", S5_S6_S7)"
   ]
  },
  {
   "cell_type": "markdown",
   "metadata": {},
   "source": [
    "#### Now modify `S7` to contain 3 and repeat the exercise above"
   ]
  },
  {
   "cell_type": "code",
   "execution_count": 36,
   "metadata": {},
   "outputs": [
    {
     "name": "stdout",
     "output_type": "stream",
     "text": [
      "Intersection of S5, S6, and S7: {3}\n"
     ]
    }
   ],
   "source": [
    "S7 = set([x for x in range(3,10)])\n",
    "S5_S6_S7 = S5.intersection(S6).intersection(S7)\n",
    "print(\"Intersection of S5, S6, and S7:\", S5_S6_S7)"
   ]
  },
  {
   "cell_type": "markdown",
   "metadata": {},
   "source": [
    "#### The symbol '&' can be used for intersection"
   ]
  },
  {
   "cell_type": "code",
   "execution_count": 37,
   "metadata": {},
   "outputs": [
    {
     "name": "stdout",
     "output_type": "stream",
     "text": [
      "Intersection of {1, 2, 3} and {1, 3, 5} is: {1, 3} with size 2\n"
     ]
    }
   ],
   "source": [
    "A = {1, 2, 3}\n",
    "B = {5,3,1}\n",
    "print(\"Intersection of {} and {} is: {} with size {}\".format(A,B,A&B,len(A&B)))"
   ]
  },
  {
   "cell_type": "markdown",
   "metadata": {},
   "source": [
    "### Union of sets\n",
    "In set theory, the union (denoted by ∪) of a collection of sets is the set of all elements in the collection. It is one of the fundamental operations through which sets can be combined and related to each other. Formally,\n",
    "\n",
    "$$ {\\displaystyle A\\cup B=\\{x:x\\in A{\\text{ or }}x\\in B\\}}$$"
   ]
  },
  {
   "cell_type": "markdown",
   "metadata": {},
   "source": [
    "#### Both `union` method or `|` can be used"
   ]
  },
  {
   "cell_type": "code",
   "execution_count": 38,
   "metadata": {},
   "outputs": [
    {
     "name": "stdout",
     "output_type": "stream",
     "text": [
      "S1: {9, 3, 6}\n",
      "S2: {1, 2, 3, 4}\n",
      "Union of S1 and S2: {1, 2, 3, 4, 6, 9}\n",
      "Union of S1 and S2: {1, 2, 3, 4, 6, 9}\n"
     ]
    }
   ],
   "source": [
    "S1 = set([x for x in range(1,11) if x%3==0])\n",
    "print(\"S1:\", S1)\n",
    "S2 = set([x for x in range(1,5)])\n",
    "print(\"S2:\", S2)\n",
    "\n",
    "S_union = S1.union(S2)\n",
    "print(\"Union of S1 and S2:\", S_union)\n",
    "S_union = S1 | S2\n",
    "print(\"Union of S1 and S2:\", S_union)"
   ]
  },
  {
   "cell_type": "markdown",
   "metadata": {},
   "source": [
    "#### Just like intersection, chaining can be done to combine more than two sets"
   ]
  },
  {
   "cell_type": "code",
   "execution_count": 39,
   "metadata": {},
   "outputs": [
    {
     "name": "stdout",
     "output_type": "stream",
     "text": [
      "S3: {10, 5}\n",
      "S4: {8, 7}\n",
      "Union of S1, S2, S3, and S4: {1, 2, 3, 4, 5, 6, 7, 8, 9, 10}\n"
     ]
    }
   ],
   "source": [
    "S3 = set([5*x for x in range(1,3)])\n",
    "print(\"S3:\", S3)\n",
    "S4 = set ([7,8])\n",
    "print(\"S4:\", S4)\n",
    "S1_S2_S3_S4 = S1.union(S2).union(S3).union(S4)\n",
    "print(\"Union of S1, S2, S3, and S4:\", S1_S2_S3_S4)"
   ]
  },
  {
   "cell_type": "markdown",
   "metadata": {},
   "source": [
    "### Some algebraic identities (laws)\n",
    "For any three sets `A`, `B`, and `C`, following laws hold,\n",
    "\n",
    "**Commutative law:** \n",
    "$$ {\\displaystyle A\\cap B=B\\cap A} $$\n",
    "$$ {\\displaystyle A\\cup B=B\\cup A} $$\n",
    "\n",
    "**Associative law:**\n",
    "$$ {\\displaystyle (A\\cap B)\\cap C=A\\cap (B\\cap C)} $$\n",
    "$$ {\\displaystyle A\\cup (B\\cup C)=(A\\cup B)\\cup C} $$\n",
    "\n",
    "** Distributive law:**\n",
    "$$ {\\displaystyle A\\cap (B\\cup C)=(A\\cap B)\\cup (A\\cap C)} $$\n",
    "$$ {\\displaystyle A\\cup (B\\cap C)=(A\\cup B)\\cap (A\\cup C)} $$ "
   ]
  },
  {
   "cell_type": "markdown",
   "metadata": {},
   "source": [
    "### More algebra of inclusion involving union and intersection\n",
    "If `A`, `B` and `C` are subsets of a set `S` then the following hold:\n",
    "\n",
    "**Existence of a least element and a greatest element:**\n",
    "\n",
    "$$ {\\displaystyle \\varnothing \\subseteq A\\subseteq S} $$\n",
    "\n",
    "**Existence of joins:**\n",
    "\n",
    "$$ {\\displaystyle A\\subseteq A\\cup B} $$\n",
    "            \n",
    "$$ If\\ {\\displaystyle A\\subseteq C}\\ and\\ {\\displaystyle B\\subseteq C,}\\ then\\ {\\displaystyle A\\cup B\\subseteq C} $$\n",
    "\n",
    "**Existence of meets:**\n",
    "$$ {\\displaystyle A\\cap B\\subseteq A} $$\n",
    "\n",
    "$$ If\\ {\\displaystyle C\\subseteq A}\\ and\\ {\\displaystyle C\\subseteq B,}\\ then\\ {\\displaystyle C\\subseteq A\\cap B} $$\n"
   ]
  },
  {
   "cell_type": "markdown",
   "metadata": {},
   "source": [
    "### Let's write a short Python program to verify the *existence of joins*"
   ]
  },
  {
   "cell_type": "code",
   "execution_count": 40,
   "metadata": {},
   "outputs": [
    {
     "name": "stdout",
     "output_type": "stream",
     "text": [
      "A: {1, 5}\n",
      "B: {1, 3, 4}\n",
      "S: {1, 2, 3, 4, 5, 6, 7, 8, 9, 10}\n"
     ]
    }
   ],
   "source": [
    "A = {1,5}\n",
    "B = {1,3,4}\n",
    "S = set([i for i in range(1,11)])\n",
    "\n",
    "print(\"A:\",A)\n",
    "print(\"B:\",B)\n",
    "print(\"S:\",S)"
   ]
  },
  {
   "cell_type": "code",
   "execution_count": 41,
   "metadata": {},
   "outputs": [
    {
     "name": "stdout",
     "output_type": "stream",
     "text": [
      "{1, 3, 4, 5}\n"
     ]
    }
   ],
   "source": [
    "A_union_B=A.union(B)\n",
    "print(A_union_B)"
   ]
  },
  {
   "cell_type": "code",
   "execution_count": 42,
   "metadata": {},
   "outputs": [
    {
     "data": {
      "text/plain": [
       "True"
      ]
     },
     "execution_count": 42,
     "metadata": {},
     "output_type": "execute_result"
    }
   ],
   "source": [
    "A_union_B.issubset(S)"
   ]
  },
  {
   "cell_type": "markdown",
   "metadata": {},
   "source": [
    "### Venn diagrams\n",
    "A Venn diagram, named after English mathematician John Venn, is an extremely useful and intuitive visual tool for representing sets and their inter-relationships."
   ]
  },
  {
   "cell_type": "code",
   "execution_count": 48,
   "metadata": {},
   "outputs": [
    {
     "data": {
      "image/png": "[encoded data removed]",
      "text/plain": [
       "<Figure size 432x288 with 1 Axes>"
      ]
     },
     "metadata": {},
     "output_type": "display_data"
    }
   ],
   "source": [
    "import matplotlib.pyplot as plt\n",
    "import matplotlib_venn as venn\n",
    "S = {1, 2, 3}\n",
    "T = {0, 2, -1, 5}\n",
    "venn.venn2([S, T], set_labels=('S','T'))\n",
    "plt.show()"
   ]
  },
  {
   "cell_type": "code",
   "execution_count": 50,
   "metadata": {},
   "outputs": [
    {
     "data": {
      "image/png": "[encoded data removed]",
      "text/plain": [
       "<Figure size 432x288 with 1 Axes>"
      ]
     },
     "metadata": {},
     "output_type": "display_data"
    }
   ],
   "source": [
    "venn.venn3(subsets = (1, 1, 1, 2, 1, 2, 2), set_labels = ('Set1', 'Set2', 'Set3'))\n",
    "plt.show()"
   ]
  },
  {
   "cell_type": "markdown",
   "metadata": {},
   "source": [
    "#### Three sets' intersection shown in a Venn diagram\n",
    "![3 sets intersection](https://upload.wikimedia.org/wikipedia/commons/3/3e/Venn_0000_0001.svg)"
   ]
  },
  {
   "cell_type": "markdown",
   "metadata": {},
   "source": [
    "#### Union of three sets shown in this Venn diagram\n",
    "![Union of sets](https://upload.wikimedia.org/wikipedia/commons/e/ee/Venn_0111_1111.svg)"
   ]
  },
  {
   "cell_type": "markdown",
   "metadata": {},
   "source": [
    "### Complement of a set\n",
    "If `A` is a set, then the absolute complement of `A` (or simply the complement of A) is the **set of all elements that are not in `A`**. In other words, if `U` is the universe that contains all the elements under study (and there is no need to mention it because it is obvious and unique), then the absolute complement of `A` is the relative complement of `A` in `U`. Formally,\n",
    "\n",
    "$$ {\\displaystyle A^{\\complement }=\\{x\\in U\\mid x\\notin A\\}.} $$"
   ]
  },
  {
   "cell_type": "code",
   "execution_count": 51,
   "metadata": {},
   "outputs": [
    {
     "name": "stdout",
     "output_type": "stream",
     "text": [
      "S is the set of even numbers between 0 and 20: {0, 2, 4, 6, 8, 10, 12, 14, 16, 18, 20}\n"
     ]
    }
   ],
   "source": [
    "S=set([x for x in range (21) if x%2==0])\n",
    "print (\"S is the set of even numbers between 0 and 20:\", S)"
   ]
  },
  {
   "cell_type": "code",
   "execution_count": 52,
   "metadata": {},
   "outputs": [
    {
     "name": "stdout",
     "output_type": "stream",
     "text": [
      "S_complement is the set of odd numbers between 0 and 20: {1, 3, 5, 7, 9, 11, 13, 15, 17, 19}\n"
     ]
    }
   ],
   "source": [
    "S_complement = set([x for x in range (21) if x%2!=0])\n",
    "print (\"S_complement is the set of odd numbers between 0 and 20:\", S_complement)"
   ]
  },
  {
   "cell_type": "markdown",
   "metadata": {},
   "source": [
    "You can take the union of two sets and if that is equal to the universal set (in the context of your problem), then you have found the right complement."
   ]
  },
  {
   "cell_type": "code",
   "execution_count": 53,
   "metadata": {},
   "outputs": [
    {
     "name": "stdout",
     "output_type": "stream",
     "text": [
      "Is the union of S and S_complement equal to all numbers between 0 and 20? True\n"
     ]
    }
   ],
   "source": [
    "print (\"Is the union of S and S_complement equal to all numbers between 0 and 20?\", \n",
    "       S.union(S_complement)==set([x for x in range (21)]))"
   ]
  },
  {
   "cell_type": "markdown",
   "metadata": {},
   "source": [
    "### Set algebra related to complements\n",
    "\n",
    "** De Morgan's laws:**\n",
    "\n",
    "$$ {\\displaystyle \\left(A\\cup B\\right)^{\\complement }=A^{\\complement }\\cap B^{\\complement }.} $$\n",
    "$$ {\\displaystyle \\left(A\\cap B\\right)^{\\complement }=A^{\\complement }\\cup B^{\\complement }.} $$\n",
    "\n",
    "** Complement laws **\n",
    "\n",
    "$$ {\\displaystyle A\\cup A^{\\complement }=U.} $$\n",
    "$$ {\\displaystyle A\\cap A^{\\complement }=\\varnothing .} $$\n",
    "$$ {\\displaystyle \\varnothing ^{\\complement }=U.} $$\n",
    "$$ {\\displaystyle U^{\\complement }=\\varnothing .} $$\n",
    "$$ {\\displaystyle {\\text{If }}A\\subset B{\\text{, then }}B^{\\complement }\\subset A^{\\complement }.} $$"
   ]
  },
  {
   "cell_type": "markdown",
   "metadata": {},
   "source": [
    "### Verification of De Morgan's law using a simple Python program"
   ]
  },
  {
   "cell_type": "code",
   "execution_count": 54,
   "metadata": {},
   "outputs": [
    {
     "name": "stdout",
     "output_type": "stream",
     "text": [
      "U: {-4, 3, 4, 5, -6, 12, 13, -2}\n"
     ]
    }
   ],
   "source": [
    "A={-6,3,4,5}\n",
    "B={-6,5,13}\n",
    "U=A|B|{12,-2,-4}\n",
    "print(\"U:\",U)"
   ]
  },
  {
   "cell_type": "markdown",
   "metadata": {},
   "source": [
    "#### Function to compute complement of union"
   ]
  },
  {
   "cell_type": "code",
   "execution_count": 55,
   "metadata": {},
   "outputs": [],
   "source": [
    "def complement_of_union(S1,S2,S3):\n",
    "    Su = S1|S2\n",
    "    S4 = set()\n",
    "    for item in S3:\n",
    "        if item not in Su:\n",
    "            S4.add(item)\n",
    "    return S4"
   ]
  },
  {
   "cell_type": "markdown",
   "metadata": {},
   "source": [
    "#### Function to compute intersection of the complements"
   ]
  },
  {
   "cell_type": "code",
   "execution_count": 56,
   "metadata": {},
   "outputs": [],
   "source": [
    "def intersection_of_complement(S1,S2,S3):\n",
    "    S1C = set()\n",
    "    S2C = set()\n",
    "    for item in S3:\n",
    "        if item not in S1:\n",
    "            S1C.add(item)\n",
    "    for item in S3:\n",
    "        if item not in S2:\n",
    "            S2C.add(item)\n",
    "    return (S1C & S2C)"
   ]
  },
  {
   "cell_type": "code",
   "execution_count": 57,
   "metadata": {},
   "outputs": [
    {
     "data": {
      "text/plain": [
       "True"
      ]
     },
     "execution_count": 57,
     "metadata": {},
     "output_type": "execute_result"
    }
   ],
   "source": [
    "complement_of_union(A,B,U) == intersection_of_complement(A,B,U)"
   ]
  },
  {
   "cell_type": "code",
   "execution_count": 58,
   "metadata": {},
   "outputs": [
    {
     "data": {
      "text/plain": [
       "{-4, -2, 12}"
      ]
     },
     "execution_count": 58,
     "metadata": {},
     "output_type": "execute_result"
    }
   ],
   "source": [
    "complement_of_union(A,B,U)"
   ]
  },
  {
   "cell_type": "code",
   "execution_count": 59,
   "metadata": {},
   "outputs": [
    {
     "data": {
      "text/plain": [
       "{-4, -2, 12}"
      ]
     },
     "execution_count": 59,
     "metadata": {},
     "output_type": "execute_result"
    }
   ],
   "source": [
    "intersection_of_complement(A,B,U)"
   ]
  },
  {
   "cell_type": "markdown",
   "metadata": {},
   "source": [
    "### Difference between sets\n",
    "If `A` and `B` are two sets, then the relative complement of `A` in `B`, also termed the **set-theoretic difference of B and A**, is the **set of elements in B but not in A**.\n",
    "\n",
    "$$ {\\displaystyle B\\setminus A=\\{x\\in B\\mid x\\notin A\\}.} $$\n",
    "\n",
    "![Set difference](https://upload.wikimedia.org/wikipedia/commons/5/5a/Venn0010.svg)"
   ]
  },
  {
   "cell_type": "code",
   "execution_count": 60,
   "metadata": {},
   "outputs": [
    {
     "name": "stdout",
     "output_type": "stream",
     "text": [
      "Set S1: {0, 3, 6, 9, 12, 15, 18, 21, 24, 27, 30}\n",
      "Set S2: {0, 5, 10, 15, 20, 25, 30}\n"
     ]
    }
   ],
   "source": [
    "S1 = set([x for x in range(31) if x%3==0])\n",
    "print (\"Set S1:\", S1)\n",
    "S2 = set([x for x in range(31) if x%5==0])\n",
    "print (\"Set S2:\", S2)"
   ]
  },
  {
   "cell_type": "markdown",
   "metadata": {},
   "source": [
    "#### Both the `difference` method or `-` operator can be used to compute set-theoretic difference in Python"
   ]
  },
  {
   "cell_type": "code",
   "execution_count": 61,
   "metadata": {},
   "outputs": [
    {
     "name": "stdout",
     "output_type": "stream",
     "text": [
      "Difference of S2 and S1 i.e. S2\\S1: {25, 10, 20, 5}\n",
      "Difference of S1 and S2 i.e. S1\\S2: {3, 6, 9, 12, 18, 21, 24, 27}\n"
     ]
    }
   ],
   "source": [
    "S2_difference_S1 = S2-S1\n",
    "print(\"Difference of S2 and S1 i.e. S2\\S1:\", S2_difference_S1)\n",
    "\n",
    "S1_difference_S2 = S1.difference(S2)\n",
    "print(\"Difference of S1 and S2 i.e. S1\\S2:\", S1_difference_S2)"
   ]
  },
  {
   "cell_type": "markdown",
   "metadata": {},
   "source": [
    "### Set algebraic identities involving difference\n",
    "** Following identities can be obtained with algebraic manipulation: **\n",
    "\n",
    "$$ {\\displaystyle C\\setminus (A\\cap B)=(C\\setminus A)\\cup (C\\setminus B)} $$\n",
    "$$ {\\displaystyle C\\setminus (A\\cup B)=(C\\setminus A)\\cap (C\\setminus B)} $$\n",
    "$$ {\\displaystyle C\\setminus (B\\setminus A)=(C\\cap A)\\cup (C\\setminus B)} $$\n",
    "$$ {\\displaystyle C\\setminus (C\\setminus A)=(C\\cap A)} $$\n",
    "$$ {\\displaystyle (B\\setminus A)\\cap C=(B\\cap C)\\setminus A=B\\cap (C\\setminus A)} $$\n",
    "$$ {\\displaystyle (B\\setminus A)\\cup C=(B\\cup C)\\setminus (A\\setminus C)} $$      \n",
    "$$ {\\displaystyle A\\setminus A=\\emptyset} $$\n",
    "$$ {\\displaystyle \\emptyset \\setminus A=\\emptyset } $$\n",
    "$$ {\\displaystyle A\\setminus \\emptyset =A} $$\n",
    "$$ {\\displaystyle A\\setminus U=\\emptyset } $$"
   ]
  },
  {
   "cell_type": "markdown",
   "metadata": {},
   "source": [
    "### Symmetric difference\n",
    "In set theory, the ***symmetric difference***, also known as the ***disjunctive union***, of two sets is the **set of elements which are in either of the sets and not in their intersection**.\n",
    "$$ {\\displaystyle A\\,\\triangle \\,B=\\{x:(x\\in A)\\oplus (x\\in B)\\}}$$ \n",
    "\n",
    "$$ {\\displaystyle A\\,\\triangle \\,B=(A\\smallsetminus B)\\cup (B\\smallsetminus A)} $$\n",
    "\n",
    "$${\\displaystyle A\\,\\triangle \\,B=(A\\cup B)\\smallsetminus (A\\cap B)} $$\n",
    "\n",
    "![Symmetric difference](https://upload.wikimedia.org/wikipedia/commons/4/46/Venn0110.svg)"
   ]
  },
  {
   "cell_type": "markdown",
   "metadata": {},
   "source": [
    "#### Some identities related to symmetric difference,\n",
    "$$ {\\displaystyle A\\,\\triangle \\,B=B\\,\\triangle \\,A,} $$\n",
    "$$ {\\displaystyle (A\\,\\triangle \\,B)\\,\\triangle \\,C=A\\,\\triangle \\,(B\\,\\triangle \\,C).} $$\n",
    "\n",
    "**The empty set is neutral, and every set is its own inverse:**\n",
    "\n",
    "$$ {\\displaystyle A\\,\\triangle \\,\\varnothing =A,} $$\n",
    "$$ {\\displaystyle A\\,\\triangle \\,A=\\varnothing .} $$"
   ]
  },
  {
   "cell_type": "markdown",
   "metadata": {},
   "source": [
    "#### Symmetric difference can be computed by using `symmetric_difference` method or `^` operator"
   ]
  },
  {
   "cell_type": "code",
   "execution_count": 62,
   "metadata": {},
   "outputs": [
    {
     "name": "stdout",
     "output_type": "stream",
     "text": [
      "S1 {0, 3, 6, 9, 12, 15, 18, 21, 24, 27, 30}\n",
      "S2 {0, 5, 10, 15, 20, 25, 30}\n",
      "Symmetric difference {3, 5, 6, 9, 10, 12, 18, 20, 21, 24, 25, 27}\n",
      "Symmetric difference {3, 5, 6, 9, 10, 12, 18, 20, 21, 24, 25, 27}\n"
     ]
    }
   ],
   "source": [
    "print(\"S1\",S1)\n",
    "print(\"S2\",S2)\n",
    "print(\"Symmetric difference\", S1^S2)\n",
    "print(\"Symmetric difference\", S2.symmetric_difference(S1))"
   ]
  },
  {
   "cell_type": "markdown",
   "metadata": {},
   "source": [
    "### Cartesian product\n",
    "In set theory, a Cartesian product is a mathematical operation that returns a set (or product set or simply product) from multiple sets. That is, for sets `A` and `B`, the Cartesian product `A × B` is the set of all ordered pairs (a, b) where a ∈ `A` and b ∈ `B`.\n",
    "\n",
    "$$ {\\displaystyle A\\times B=\\{\\,(a,b)\\mid a\\in A\\ {\\mbox{ and }}\\ b\\in B\\,\\}.} $$\n",
    "\n",
    "More generally, a Cartesian product of *n* sets, also known as an n-fold Cartesian product, can be represented by an array of n dimensions, where each element is an *n-tuple*. An ordered pair is a *2-tuple* or couple. \n",
    "\n",
    "The Cartesian product is named after [René Descartes](https://en.wikipedia.org/wiki/Ren%C3%A9_Descartes) whose formulation of analytic geometry gave rise to the concept"
   ]
  },
  {
   "cell_type": "code",
   "execution_count": 63,
   "metadata": {},
   "outputs": [],
   "source": [
    "A = set(['a','b','c'])\n",
    "B = {1,2,3}"
   ]
  },
  {
   "cell_type": "markdown",
   "metadata": {},
   "source": [
    "#### Let's write a simple function in Python to compute Cartesian product of two sets"
   ]
  },
  {
   "cell_type": "code",
   "execution_count": 64,
   "metadata": {},
   "outputs": [],
   "source": [
    "def cartesian_product(S1,S2):\n",
    "    result = set()\n",
    "    for i in S1:\n",
    "        for j in S2:\n",
    "            result.add(tuple([i,j]))\n",
    "    return (result)"
   ]
  },
  {
   "cell_type": "code",
   "execution_count": 65,
   "metadata": {},
   "outputs": [
    {
     "name": "stdout",
     "output_type": "stream",
     "text": [
      "Cartesian product of A and B\n",
      "{'a', 'c', 'b'} X {1, 2, 3}: {('b', 1), ('c', 3), ('a', 2), ('b', 3), ('c', 2), ('a', 1), ('b', 2), ('a', 3), ('c', 1)}\n"
     ]
    }
   ],
   "source": [
    "C = cartesian_product(A,B)\n",
    "print(\"Cartesian product of A and B\\n{} X {}: {}\".format(A,B,C))"
   ]
  },
  {
   "cell_type": "markdown",
   "metadata": {},
   "source": [
    "#### The size of the Cartesian product is naturally the product of the individual sizes of the two sets"
   ]
  },
  {
   "cell_type": "code",
   "execution_count": 66,
   "metadata": {},
   "outputs": [
    {
     "name": "stdout",
     "output_type": "stream",
     "text": [
      "Size of A: 4\n",
      "Size of B: 2\n",
      "Size of C: 8\n"
     ]
    }
   ],
   "source": [
    "A = set(['a','b','c','d'])\n",
    "B = {1,2}\n",
    "C = cartesian_product(A,B)\n",
    "\n",
    "print(\"Size of A:\", len(A))\n",
    "print(\"Size of B:\", len(B))\n",
    "print(\"Size of C:\", len(C))"
   ]
  },
  {
   "cell_type": "markdown",
   "metadata": {},
   "source": [
    "#### Note that because these are ordered pairs, same element can be repeated inside the pair i.e. even if two sets contain some identical elements, they can be paired up in the Cartesian product"
   ]
  },
  {
   "cell_type": "code",
   "execution_count": 67,
   "metadata": {},
   "outputs": [
    {
     "name": "stdout",
     "output_type": "stream",
     "text": [
      "Cartesian product of {1, 2, 3, 4} and {2, 3, 4} is:\n",
      "{(4, 4), (2, 4), (1, 2), (3, 4), (4, 3), (1, 4), (4, 2), (2, 3), (3, 3), (2, 2), (3, 2), (1, 3)}\n"
     ]
    }
   ],
   "source": [
    "A = {1,2,3,4}\n",
    "B = {2,3,4}\n",
    "\n",
    "print (\"Cartesian product of {} and {} is:\\n{}\".format(A,B,cartesian_product(A,B)))"
   ]
  },
  {
   "cell_type": "markdown",
   "metadata": {},
   "source": [
    "#### Instead of writing functions ourselves, we could use the `itertools` library of Python. Remember to turn the resulting product object into a list for viewing and subsequent processing"
   ]
  },
  {
   "cell_type": "code",
   "execution_count": 68,
   "metadata": {},
   "outputs": [],
   "source": [
    "from itertools import product as prod"
   ]
  },
  {
   "cell_type": "code",
   "execution_count": 69,
   "metadata": {},
   "outputs": [
    {
     "name": "stdout",
     "output_type": "stream",
     "text": [
      "[('d', 2), ('d', 3), ('d', 4), ('a', 2), ('a', 3), ('a', 4), ('c', 2), ('c', 3), ('c', 4), ('b', 2), ('b', 3), ('b', 4)]\n"
     ]
    }
   ],
   "source": [
    "A = {'a','b','c','d'}\n",
    "B = {2,3,4}\n",
    "p=list(prod(A,B))\n",
    "print (p)"
   ]
  },
  {
   "cell_type": "markdown",
   "metadata": {},
   "source": [
    "### Cartesian Power\n",
    "\n",
    "The Cartesian square (or binary Cartesian product) of a set X is the Cartesian product $X^2 = X × X$. An example is the 2-dimensional plane $R^2 = R × R$ where _R_ is the set of real numbers: $R^2$ is the set of all points (_x_,_y_) where _x_ and _y_ are real numbers (see the [Cartesian coordinate system](https://en.wikipedia.org/wiki/Cartesian_coordinate_system)).\n",
    "\n",
    "The cartesian power of a set X can be defined as:\n",
    "\n",
    "${\\displaystyle X^{n}=\\underbrace {X\\times X\\times \\cdots \\times X} _{n}=\\{(x_{1},\\ldots ,x_{n})\\ |\\ x_{i}\\in X{\\text{ for all }}i=1,\\ldots ,n\\}.} $\n",
    "\n",
    "The [cardinality of a set](https://en.wikipedia.org/wiki/Cardinality) is the number of elements of the set. Cardinality of a Cartesian power set is $|S|^{n}$ where |S| is the cardinality of the set _S_ and _n_ is the power.\n",
    "\n",
    "__We can easily use itertools again for calculating Cartesian power__. The _repeat_ parameter is used as power."
   ]
  },
  {
   "cell_type": "code",
   "execution_count": 70,
   "metadata": {},
   "outputs": [
    {
     "name": "stdout",
     "output_type": "stream",
     "text": [
      "Set A: {1, 2, 3}\n",
      "\n",
      "\n",
      "Cartesian power 2 with length 9: [(1, 1), (1, 2), (1, 3), (2, 1), (2, 2), (2, 3), (3, 1), (3, 2), (3, 3)]\n",
      "\n",
      "\n",
      "Cartesian power 3 with length 27: [(1, 1, 1), (1, 1, 2), (1, 1, 3), (1, 2, 1), (1, 2, 2), (1, 2, 3), (1, 3, 1), (1, 3, 2), (1, 3, 3), (2, 1, 1), (2, 1, 2), (2, 1, 3), (2, 2, 1), (2, 2, 2), (2, 2, 3), (2, 3, 1), (2, 3, 2), (2, 3, 3), (3, 1, 1), (3, 1, 2), (3, 1, 3), (3, 2, 1), (3, 2, 2), (3, 2, 3), (3, 3, 1), (3, 3, 2), (3, 3, 3)]\n"
     ]
    }
   ],
   "source": [
    "A = {1,2,3} # 3 element set\n",
    "print(\"Set A:\",A)\n",
    "print(\"\\n\")\n",
    "p2=list(prod(A,repeat=2)) # Power set of power 2\n",
    "print(\"Cartesian power 2 with length {}: {}\".format(len(p2),p2))\n",
    "print(\"\\n\")\n",
    "p3=list(prod(A,repeat=3)) # Power set of power 3\n",
    "print(\"Cartesian power 3 with length {}: {}\".format(len(p3),p3))"
   ]
  },
  {
   "cell_type": "markdown",
   "metadata": {},
   "source": [
    "# Factorials, permutation, combination\n",
    "In this section, we will discuss the concept of factorials and thereafter move to the topics of combinatorics such as permutation and combination."
   ]
  },
  {
   "cell_type": "markdown",
   "metadata": {},
   "source": [
    "### Factorial\n",
    "Factorials are normally defined for positive integers as following,\n",
    "$$n! = 1 \\times 2 \\times 3 \\times \\ ...\\ \\times (n-1) \\times n$$"
   ]
  },
  {
   "cell_type": "markdown",
   "metadata": {},
   "source": [
    "Factorial of zero is defined as 1 and others follow naturally. For example,\n",
    "$$0!=1$$\n",
    "$$1!=1$$\n",
    "$$2!=1 \\times 2 = 2$$\n",
    "$$3!=1 \\times 2 \\times 3 = 6$$"
   ]
  },
  {
   "cell_type": "markdown",
   "metadata": {},
   "source": [
    "#### Therefore, $n!$ can be expressed in terms of $(n-1)!$ easily,\n",
    "$$n! = n \\times (n-1)!$$"
   ]
  },
  {
   "cell_type": "markdown",
   "metadata": {},
   "source": [
    "### Let us write Python functions to compute factorial of a given number in a couple of different ways"
   ]
  },
  {
   "cell_type": "code",
   "execution_count": 71,
   "metadata": {},
   "outputs": [],
   "source": [
    "def factorial_from_definition(n):\n",
    "    prod = 1\n",
    "    for i in range(1,n+1):\n",
    "        prod*=i\n",
    "    return prod"
   ]
  },
  {
   "cell_type": "code",
   "execution_count": 72,
   "metadata": {},
   "outputs": [
    {
     "data": {
      "text/plain": [
       "120"
      ]
     },
     "execution_count": 72,
     "metadata": {},
     "output_type": "execute_result"
    }
   ],
   "source": [
    "factorial_from_definition(5)"
   ]
  },
  {
   "cell_type": "code",
   "execution_count": 73,
   "metadata": {},
   "outputs": [],
   "source": [
    "def factorial_recursive(n):\n",
    "    if n==0 or n==1:\n",
    "        return 1\n",
    "    else:\n",
    "        return (n*factorial_recursive(n-1))"
   ]
  },
  {
   "cell_type": "code",
   "execution_count": 74,
   "metadata": {},
   "outputs": [
    {
     "data": {
      "text/plain": [
       "120"
      ]
     },
     "execution_count": 74,
     "metadata": {},
     "output_type": "execute_result"
    }
   ],
   "source": [
    "factorial_recursive(5)"
   ]
  },
  {
   "cell_type": "markdown",
   "metadata": {},
   "source": [
    "#### The second function definition is short and elegant using recursion. But there is a cost to that. You can write another simple Python program to compare the computation time taken by these two approaches."
   ]
  },
  {
   "cell_type": "code",
   "execution_count": 75,
   "metadata": {},
   "outputs": [],
   "source": [
    "from time import time"
   ]
  },
  {
   "cell_type": "code",
   "execution_count": 76,
   "metadata": {},
   "outputs": [
    {
     "name": "stdout",
     "output_type": "stream",
     "text": [
      "Computing factorial of 20 one million times using the straight-forward function took 1.2704620361328125 seconds\n"
     ]
    }
   ],
   "source": [
    "t1 = time()\n",
    "for i in range(1000000):\n",
    "    x = factorial_from_definition(20)\n",
    "t2 = time()\n",
    "print(\"Computing factorial of 20 one million times using the straight-forward function took {} seconds\".format(t2-t1))"
   ]
  },
  {
   "cell_type": "code",
   "execution_count": 77,
   "metadata": {},
   "outputs": [
    {
     "name": "stdout",
     "output_type": "stream",
     "text": [
      "Computing factorial of 20 one million times using the recursive function took 2.831613063812256 seconds\n"
     ]
    }
   ],
   "source": [
    "t1 = time()\n",
    "for i in range(1000000):\n",
    "    x = factorial_recursive(20)\n",
    "t2 = time()\n",
    "print(\"Computing factorial of 20 one million times using the recursive function took {} seconds\".format(t2-t1))"
   ]
  },
  {
   "cell_type": "markdown",
   "metadata": {},
   "source": [
    "### Permutations\n",
    "In mathematics, the notion of permutation relates to the act of arranging all the members of a set into some sequence or order, or if the set is already ordered, rearranging (reordering) its elements, a process called __permuting__."
   ]
  },
  {
   "cell_type": "code",
   "execution_count": 78,
   "metadata": {},
   "outputs": [],
   "source": [
    "import itertools"
   ]
  },
  {
   "cell_type": "code",
   "execution_count": 79,
   "metadata": {},
   "outputs": [],
   "source": [
    "A = {'a','b','c'}"
   ]
  },
  {
   "cell_type": "code",
   "execution_count": 80,
   "metadata": {},
   "outputs": [
    {
     "name": "stdout",
     "output_type": "stream",
     "text": [
      "Permutations of {'a', 'c', 'b'}:  \n",
      "('a', 'c', 'b')\n",
      "('b', 'a', 'c')\n",
      "('c', 'a', 'b')\n",
      "('b', 'c', 'a')\n",
      "('c', 'b', 'a')\n",
      "('a', 'b', 'c')\n",
      "\n",
      "Number of permutations:  6\n"
     ]
    }
   ],
   "source": [
    "permute_all = set(itertools.permutations(A))\n",
    "print(\"Permutations of {}:  \".format(A))\n",
    "for i in permute_all:\n",
    "    print(i)\n",
    "print (\"\\nNumber of permutations: \", len(permute_all))"
   ]
  },
  {
   "cell_type": "markdown",
   "metadata": {},
   "source": [
    "#### Finding all _k_-permutations of a set"
   ]
  },
  {
   "cell_type": "code",
   "execution_count": 81,
   "metadata": {},
   "outputs": [],
   "source": [
    "A = {'a','b','c','d'}\n",
    "k = 2"
   ]
  },
  {
   "cell_type": "code",
   "execution_count": 82,
   "metadata": {},
   "outputs": [
    {
     "name": "stdout",
     "output_type": "stream",
     "text": [
      "2-permutations of {'d', 'a', 'c', 'b'}:  \n",
      "('d', 'a')\n",
      "('d', 'c')\n",
      "('d', 'b')\n",
      "('a', 'd')\n",
      "('a', 'c')\n",
      "('a', 'b')\n",
      "('c', 'd')\n",
      "('c', 'a')\n",
      "('c', 'b')\n",
      "('b', 'd')\n",
      "('b', 'a')\n",
      "('b', 'c')\n",
      "\n",
      "Size = 4!/(4-2)! = 12\n"
     ]
    }
   ],
   "source": [
    "n = len(A)\n",
    "permute_k = list(itertools.permutations(A, k))\n",
    "print(\"{}-permutations of {}:  \".format(k,A))\n",
    "for i in permute_k:\n",
    "    print(i)\n",
    "print (\"\\nSize = {}!/({}-{})! = {}\".format(n,n,k, len(permute_k)))"
   ]
  },
  {
   "cell_type": "markdown",
   "metadata": {},
   "source": [
    "### Combinations\n",
    "\n",
    "Combinatorics is an area of mathematics primarily concerned with counting, both as a means and an end in obtaining results, and certain properties of finite structures. It is closely related to many other areas of mathematics and has many applications ranging from logic to statistical physics, from evolutionary biology to computer science, etc.\n",
    "\n",
    "Combinatorics is well known for the breadth of the problems it tackles. Combinatorial problems arise in many areas of pure mathematics, notably in algebra, [probability theory](https://en.wikipedia.org/wiki/Probability_theory), [topology](https://en.wikipedia.org/wiki/Topology), and geometry, as well as in its many application areas. \n",
    "\n",
    "Many combinatorial questions have historically been considered in isolation, giving an _ad hoc_ solution to a problem arising in some mathematical context. In the later twentieth century, however, powerful and general theoretical methods were developed, making combinatorics into an independent branch of mathematics in its own right. One of the oldest and most accessible parts of combinatorics is [graph theory](https://en.wikipedia.org/wiki/Graph_theory), which by itself has numerous natural connections to other areas. Combinatorics is used frequently in computer science to obtain formulas and estimates in the [analysis of algorithms](https://en.wikipedia.org/wiki/Analysis_of_algorithms).\n",
    "\n",
    "We find the number of $k$-combinations of $A$, first by determining the set of combinations and then by simply calculating ${|A|}\\choose{k}$."
   ]
  },
  {
   "cell_type": "code",
   "execution_count": 83,
   "metadata": {},
   "outputs": [],
   "source": [
    "A = {'a','b','c','d'}\n",
    "k = 2"
   ]
  },
  {
   "cell_type": "code",
   "execution_count": 84,
   "metadata": {},
   "outputs": [
    {
     "name": "stdout",
     "output_type": "stream",
     "text": [
      "2-combinations of {'d', 'a', 'c', 'b'}:  \n",
      "('d', 'a')\n",
      "('d', 'c')\n",
      "('d', 'b')\n",
      "('a', 'c')\n",
      "('a', 'b')\n",
      "('c', 'b')\n",
      "\n",
      "Number of combinations = 4!/(2!(4-2)!) = 6\n"
     ]
    }
   ],
   "source": [
    "choose_k = list(itertools.combinations(A,k))\n",
    "print(\"{}-combinations of {}:  \".format(k,A))\n",
    "for i in choose_k:\n",
    "    print(i)\n",
    "print(\"\\nNumber of combinations = {}!/({}!({}-{})!) = {}\".format(n,k,n,k,len(choose_k)))"
   ]
  },
  {
   "cell_type": "markdown",
   "metadata": {},
   "source": [
    "### Where in data science these concepts are used?\n",
    "Data science draws heavily from **probability and statistics** (as we will see in the next part of this book). One of the most intuitive application of combinatorics is in probability calculations. Let's think about the following problem,\n",
    "\n",
    "_\"Suppose we have two dice which we throw together. <br>\n",
    "We want to know the probability of the event that the sum of the throws is divisible by 3.\"_\n",
    "\n",
    "Let us write a simple Python program to calculate this probability."
   ]
  },
  {
   "cell_type": "markdown",
   "metadata": {},
   "source": [
    "#### First, compute all possible dice throw combinations. It is a combination of 2 samples drawn from a set of 6 elements."
   ]
  },
  {
   "cell_type": "code",
   "execution_count": 85,
   "metadata": {},
   "outputs": [
    {
     "name": "stdout",
     "output_type": "stream",
     "text": [
      "All possible dice throw permutations:  [(1, 2), (1, 3), (1, 4), (1, 5), (1, 6), (2, 1), (2, 3), (2, 4), (2, 5), (2, 6), (3, 1), (3, 2), (3, 4), (3, 5), (3, 6), (4, 1), (4, 2), (4, 3), (4, 5), (4, 6), (5, 1), (5, 2), (5, 3), (5, 4), (5, 6), (6, 1), (6, 2), (6, 3), (6, 4), (6, 5)]\n"
     ]
    }
   ],
   "source": [
    "D = {1,2,3,4,5,6}\n",
    "all_events = list(itertools.permutations(D,2))\n",
    "print(\"All possible dice throw permutations: \",all_events)"
   ]
  },
  {
   "cell_type": "markdown",
   "metadata": {},
   "source": [
    "#### How many sums of these pairs are divisible by 3? "
   ]
  },
  {
   "cell_type": "code",
   "execution_count": 86,
   "metadata": {},
   "outputs": [
    {
     "name": "stdout",
     "output_type": "stream",
     "text": [
      "Dice throw combinations where the sum is divisible by 3:  [(1, 2), (1, 5), (2, 1), (2, 4), (3, 6), (4, 2), (4, 5), (5, 1), (5, 4), (6, 3)]\n"
     ]
    }
   ],
   "source": [
    "div_by_3 = [x for x in all_events if (x[0]+x[1])%3==0]\n",
    "print(\"Dice throw combinations where the sum is divisible by 3: \",div_by_3)"
   ]
  },
  {
   "cell_type": "markdown",
   "metadata": {},
   "source": [
    "#### So, the desired probability is simply the ratio of the number of events, where the sum is divisible by 3, to the total number of events"
   ]
  },
  {
   "cell_type": "code",
   "execution_count": 87,
   "metadata": {},
   "outputs": [
    {
     "name": "stdout",
     "output_type": "stream",
     "text": [
      "Desired probability:  0.3333333333333333\n"
     ]
    }
   ],
   "source": [
    "prob = len(div_by_3)/len(all_events)\n",
    "print(\"Desired probability: \",prob)"
   ]
  }
 ],
 "metadata": {
  "kernelspec": {
   "display_name": "Python 3 (ipykernel)",
   "language": "python",
   "name": "python3"
  },
  "language_info": {
   "codemirror_mode": {
    "name": "ipython",
    "version": 3
   },
   "file_extension": ".py",
   "mimetype": "text/x-python",
   "name": "python",
   "nbconvert_exporter": "python",
   "pygments_lexer": "ipython3",
   "version": "3.9.13"
  },
  "latex_envs": {
   "LaTeX_envs_menu_present": true,
   "autoclose": false,
   "autocomplete": true,
   "bibliofile": "biblio.bib",
   "cite_by": "apalike",
   "current_citInitial": 1,
   "eqLabelWithNumbers": true,
   "eqNumInitial": 1,
   "hotkeys": {
    "equation": "Ctrl-E",
    "itemize": "Ctrl-I"
   },
   "labels_anchors": false,
   "latex_user_defs": false,
   "report_style_numbering": false,
   "user_envs_cfg": false
  }
 },
 "nbformat": 4,
 "nbformat_minor": 2
}
