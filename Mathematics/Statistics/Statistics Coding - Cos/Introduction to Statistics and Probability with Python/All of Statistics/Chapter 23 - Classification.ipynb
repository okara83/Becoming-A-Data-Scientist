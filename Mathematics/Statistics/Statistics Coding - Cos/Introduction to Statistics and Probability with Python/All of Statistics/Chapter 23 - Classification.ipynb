{
 "cells": [
  {
   "cell_type": "markdown",
   "metadata": {},
   "source": [
    "## 23. Classification"
   ]
  },
  {
   "cell_type": "markdown",
   "metadata": {},
   "source": [
    "### 23.1 Introduction"
   ]
  },
  {
   "cell_type": "markdown",
   "metadata": {},
   "source": [
    "The problem of predicting a discrete variable $Y$ from another random variable $X$ is called **classfication**, **supervised learning**, **discrimination** or **pattern recognition**.\n",
    "\n",
    "In more detail, consider IID data $(X_1, Y_1), \\dots, (X_n, Y_n)$ where\n",
    "\n",
    "$$ X_i = (X_{i1}, \\dots, X_{id}) \\in \\mathcal{X} \\subset \\mathbb{R}^d $$\n",
    "\n",
    "is a $d$-dimensional vector and $Y_i$ takes values in some finite set $\\mathcal{Y}$.  A **classification rule** is a function $h : \\mathcal{X} \\rightarrow \\mathcal{Y} $.  When we observe a new $X$, we predict $Y$ to be $h(X)$."
   ]
  },
  {
   "cell_type": "markdown",
   "metadata": {},
   "source": [
    "It is worth revisiting the vocabulary:\n",
    "\n",
    "| Statistics     | Computer Science    | Meaning                                      |\n",
    "|----------------|---------------------|----------------------------------------------|\n",
    "| classification | supervised learning | predicting a discrete $Y$ from $X$           |\n",
    "| data           | training sample     | $(X_1, Y_1), \\dots, (X_n, Y_n)$              |\n",
    "| covariates     | features            | the $X_i$'s                                  |\n",
    "| classifier     | hypothesis          | map $h: \\mathcal{X} \\rightarrow \\mathcal{Y}$ |\n",
    "| estimation     | learning            | finding a good classifier                    |\n",
    "\n",
    "In most cases with this chapter, we deal with the case $\\mathcal{Y} = \\{ 0, 1 \\}$."
   ]
  },
  {
   "cell_type": "markdown",
   "metadata": {},
   "source": [
    "### 23.2 Error Rates and The Bayes Classifier"
   ]
  },
  {
   "cell_type": "markdown",
   "metadata": {},
   "source": [
    "The **true error rate** of a classifier is \n",
    "\n",
    "$$ L(h) = \\mathbb{P}( \\{ h(X) \\neq Y\\} ) $$\n",
    "\n",
    "and the **empirical error rate** or **training error rate** is\n",
    "\n",
    "$$ \\hat{L}_n(h) = \\frac{1}{n} \\sum_{i=1}^n I(h(X_i) \\neq Y_i) $$"
   ]
  },
  {
   "cell_type": "markdown",
   "metadata": {},
   "source": [
    "Consider the special case where $\\mathcal{Y} = \\{0, 1\\}$.  Let\n",
    "\n",
    "$$ r(x) = \\frac{\\pi f_1(x)}{\\pi f_1(x) + (1 - \\pi) f_0(x)} $$\n",
    "\n",
    "where\n",
    "\n",
    "$$ f_0(x) = f(x | Y = 0)\n",
    "\\quad \\text{and} \\quad\n",
    "f_1(x) = f(x | Y = 1)$$\n",
    "\n",
    "and $\\pi = \\mathbb{P}(Y = 1)$."
   ]
  },
  {
   "cell_type": "markdown",
   "metadata": {},
   "source": [
    "The **Bayes classification rule** $h^*$ is defined to be\n",
    "\n",
    "$$\n",
    "h^*(x) = \\begin{cases}\n",
    "1 & \\text{if } r(x) > \\frac{1}{2} \\\\\n",
    "0 & \\text{otherwise}\n",
    "\\end{cases}\n",
    "$$\n",
    "\n",
    "The set $\\mathcal{D}(h) = \\{ x : \\mathbb{P}(Y = 1 | X = x) = \\mathbb{P}(Y = 0 | X = x) \\}$ is called the **decision boundary**."
   ]
  },
  {
   "cell_type": "markdown",
   "metadata": {},
   "source": [
    "**Warning**: the Bayes rule has nothing to do with Bayesian inference.  We could estimate the Bayes rule using either frequentist or Bayesian methods.\n",
    "\n",
    "The Bayes rule may be written in several different forms:\n",
    "\n",
    "$$\n",
    "h^*(x) = \\begin{cases}\n",
    "1 & \\text{if } \\mathbb{P}(Y = 1 | X = x) > \\mathbb{P}(Y = 0 | X  = x)\\\\\n",
    "0 & \\text{otherwise}\n",
    "\\end{cases}\n",
    "$$\n",
    "\n",
    "and\n",
    "\n",
    "$$\n",
    "h^*(x) = \\begin{cases}\n",
    "1 & \\text{if } \\pi f_1(x) > (1 - \\pi) f_0(x) \\\\\n",
    "0 & \\text{otherwise}\n",
    "\\end{cases}\n",
    "$$"
   ]
  },
  {
   "cell_type": "markdown",
   "metadata": {},
   "source": [
    "**Theorem 23.5**.  The Bayes rule is optimal, that is, if $h$ is any classification rule then $L(h^*) \\leq L(h)$."
   ]
  },
  {
   "cell_type": "markdown",
   "metadata": {},
   "source": [
    "The Bayes rule depends on unknown quantities so we need to use the data to find some approximation to the Bayes rule.  At the risk of oversimplifying, there are three main approaches:\n",
    "\n",
    "1. **Empirical Risk Maximization**.  Choose a set of classifiers $\\mathcal{H}$ and find $\\hat{h} \\in \\mathcal{H}$ that minimizes some estimate of $L(h)$.\n",
    "\n",
    "2. **Regression**.  Find an estimate $\\hat{r}$ of the regression function $r$ and define\n",
    "\n",
    "$$ \n",
    "\\hat{h}(x) = \\begin{cases}\n",
    "1 & \\text{if } \\hat{r} > \\frac{1}{2} \\\\\n",
    "0 & \\text{otherwise}\n",
    "\\end{cases}\n",
    "$$\n",
    "\n",
    "3. **Density Estimation**.  Estimate $f_0$ from the $X_i$'s for which $Y_i = 0$, estimate $f_1$ from the $X_i$'s for which $Y_i = 1$, and let $\\hat{\\pi} = n^{-1} \\sum_{i=1}^n Y_i$.  Define\n",
    "\n",
    "$$ \\hat{r}(x) = \\hat{\\mathbb{P}}(Y = 1 | X = x) = \\frac{\\hat{\\pi} \\hat{f}_1(x)}{\\hat{\\pi} \\hat{f}_1(x) + (1 - \\hat{\\pi}) \\hat{f}_0(x)} $$\n",
    "\n",
    "and\n",
    "\n",
    "$$ \n",
    "\\hat{h}(x) = \\begin{cases}\n",
    "1 & \\text{if } \\hat{r} > \\frac{1}{2} \\\\\n",
    "0 & \\text{otherwise}\n",
    "\\end{cases}\n",
    "$$"
   ]
  },
  {
   "cell_type": "markdown",
   "metadata": {},
   "source": [
    "Now to generalize to the case where $Y$ takes more than two values:"
   ]
  },
  {
   "cell_type": "markdown",
   "metadata": {},
   "source": [
    "**Theorem 23.6**.  Suppose that $Y \\in \\mathcal{Y} = \\{ 1, \\dots, K \\}$.  The optimal rule is\n",
    "\n",
    "$$ h(x) = \\text{argmax}_h \\mathbb{P}(Y = k | X = x) = \\text{argmax}_h \\pi_k f_k(x) $$\n",
    "\n",
    "where\n",
    "\n",
    "$$ \\mathbb{P}(Y = k | X = x) = \\frac{f_k(x) \\pi_k}{\\sum_r f_r(x) \\pi_r} $$\n",
    "\n",
    "and $ \\pi_r = \\mathbb{P}(Y = r)$, $f_r(x) = f(x | Y = r)$."
   ]
  },
  {
   "cell_type": "markdown",
   "metadata": {},
   "source": [
    "### 23.3 Gaussian and Linear Classifiers"
   ]
  },
  {
   "cell_type": "markdown",
   "metadata": {},
   "source": [
    "Perhaps the simplest approach to classification is to use the density estimation strategy and assume a parametric model for the densities.  Suppose that $\\mathcal{Y} = \\{ 0, 1 \\}$ and that $f_0(x) = f(x | Y = 0)$ and $f_1(x) = f(x | Y = 1)$ are both multivariate Gaussians:\n",
    "\n",
    "$$ f_k(x) = \\frac{1}{(2\\pi)^{d/2} | \\Sigma_k |^{1/2}} \\exp \\left\\{ -\\frac{1}{2} (x - \\mu_k)^T \\Sigma_k^{-1} (x - \\mu_k) \\right\\}, \\quad k = 0, 1$$\n",
    "\n",
    "Thus, $X | Y = 0 \\sim N(\\mu_0, \\Sigma_0)$ and $X | Y = 1 \\sim N(\\mu_1, \\Sigma_1)$."
   ]
  },
  {
   "cell_type": "markdown",
   "metadata": {},
   "source": [
    "**Theorem 23.7**.  If $X | Y = 0 \\sim N(\\mu_0, \\Sigma_0)$ and $X | Y = 1 \\sim N(\\mu_1, \\Sigma_1)$, then the Bayes rule is\n",
    "\n",
    "$$\n",
    "h^*(x) = \\begin{cases}\n",
    "1 & \\text{if } r_1^2 < r_0^2 + 2 \\log \\left( \\frac{\\pi_1}{\\pi_0} \\right) + \\log \\left( \\frac{| \\Sigma_0 | }{ | \\Sigma_1| }\n",
    "\\right) \\\\\n",
    "0 & \\text{otherwise} \n",
    "\\end{cases}\n",
    "$$\n",
    "\n",
    "where\n",
    "\n",
    "$$ r_i^2 = (x - \\mu_i)^T \\Sigma_i^{-1}(x - \\mu_i), \\quad i = 1, 2 $$\n",
    "\n",
    "is the **Manalahobis distance**.  An equivalent way of expressing Bayes' rule is \n",
    "\n",
    "$$ h(x) = \\text{argmax}_k \\delta_k(x) $$\n",
    "\n",
    "where\n",
    "\n",
    "$$ \\delta_k(x) = -\\frac{1}{2} \\log | \\Sigma_k | - \\frac{1}{2} (x - \\mu_k)^T \\Sigma_k^{-1} (x - \\mu_k) + \\log \\pi_k $$\n",
    "\n",
    "and $|A|$ denotes the determinant of matrix $A$."
   ]
  },
  {
   "cell_type": "markdown",
   "metadata": {},
   "source": [
    "The decision boundary of the above classifier is quadratic so this procedure is often called **quadratic discriminant analysis (QDA)**.  In practice, we use sample estimates of $\\pi, \\mu_0, \\mu_1, \\Sigma_0, \\Sigma_1$ in place of the true value, namely:\n",
    "\n",
    "$$\n",
    "\\begin{array}{cc}\n",
    "\\hat{\\pi}_0 = \\frac{1}{n} \\sum_{i=1}^n (1 - Y_i) & \\hat{\\pi}_1 = \\frac{1}{n} \\sum_{i=1}^n Y_i \\\\\n",
    "\\hat{\\mu}_0 = \\frac{1}{n_0} \\sum_{i: Y_i = 0} X_i & \\hat{\\mu}_1 = \\frac{1}{n_0} \\sum_{i: Y_i = 1} X_i \\\\\n",
    "S_0 = \\frac{1}{n_0} \\sum_{i: Y_i = 0} (X_i - \\hat{\\mu}_0) (X_i - \\hat{\\mu}_0)^T & \n",
    "S_1 = \\frac{1}{n_1} \\sum_{i: Y_i = 1} (X_i - \\hat{\\mu}_1) (X_i - \\hat{\\mu}_1)^T\n",
    "\\end{array}\n",
    "$$\n",
    "\n",
    "where $n_0 = \\sum_i (1 - Y_i)$ and $n_1 = \\sum_i Y_i$ are the number of $Y_i$ variables equal to 0 or 1, respectively."
   ]
  },
  {
   "cell_type": "markdown",
   "metadata": {},
   "source": [
    "A simplification occurs if we assume $\\Sigma_0 = \\Sigma_1 = \\Sigma$.  In that case, the Bayes rule is\n",
    "\n",
    "$$ h(x) = \\text{argmax}_k \\delta_k(x) $$\n",
    "\n",
    "where now\n",
    "\n",
    "$$ \\delta_k(x) = x^T \\Sigma^{-1} \\mu_k - \\frac{1}{2} \\mu_k^T \\Sigma^{-1} \\mu_k + \\log \\pi_k $$\n",
    "\n",
    "The parameters are estimated as before, except the MLE of $\\Sigma$ now is\n",
    "\n",
    "$$ S = \\frac{n_0 S_0 + n_1 S_1}{n_0 + n_1} $$\n",
    "\n",
    "The classification rule is\n",
    "\n",
    "$$\n",
    "h^*(x) = \\begin{cases}\n",
    "1 &\\text{if } \\delta_1(x) > \\delta_0(x) \\\\\n",
    "0 &\\text{otherwise}\n",
    "\\end{cases}\n",
    "$$\n",
    "\n",
    "where\n",
    "\n",
    "$$ \\delta_j(x) = x^T S \\hat{\\mu}_j - \\frac{1}{2} \\hat{\\mu}_j^T S^{-1} \\hat{\\mu}_j + \\log \\hat{\\pi}_j $$\n",
    "\n",
    "is called the **discriminant function**.  The decision boundary $ \\{ x : \\delta_0(x) = \\delta_1(x) \\}$ is linear so this method is called **linear discrimination analysis (LDA)**."
   ]
  },
  {
   "cell_type": "markdown",
   "metadata": {},
   "source": [
    "Now we generalize to the case where $Y$ takes on more than two values."
   ]
  },
  {
   "cell_type": "markdown",
   "metadata": {},
   "source": [
    "**Theorem 23.9**.  Suppose that $Y \\in \\{ 1, \\dots, K \\}$.  If $f_k(x) = f(x | Y = k)$ is Gaussian, the Bayes rule is\n",
    "\n",
    "$$ h(x) = \\text{argmax}_k \\delta_k(x) $$\n",
    "\n",
    "where\n",
    "\n",
    "$$ \\delta_k(x) = -\\frac{1}{2} \\log | \\Sigma_k | - \\frac{1}{2} (x - \\mu_k)^T \\Sigma_k^{-1} (x - \\mu_k) + \\log \\pi_k $$\n",
    "\n",
    "If the variances of the Gaussians are equal then\n",
    "\n",
    "$$ \\delta_k(x) = x^T \\Sigma_{-1} \\mu_k - \\frac{1}{2} \\mu_k^T \\Sigma^{-1} \\mu_k + \\log \\pi_k $$"
   ]
  },
  {
   "cell_type": "markdown",
   "metadata": {},
   "source": [
    "We estimate $\\delta_k(x)$ by inserting estimates of $\\mu_k$, $\\Sigma_k$, and $\\pi_k$."
   ]
  },
  {
   "cell_type": "markdown",
   "metadata": {},
   "source": [
    "There is another version of LDA due to Fisher.  The idea is to first reduce the dimension of the covariates to one dimension by projecting the data onto a line.  Algebraically, this means replacing the covariate $X = (X_1, \\dots, X_d)$ with a linear combination $U = w^T X = \\sum_{j=1}^d w_j X_j$.  The goal is to choose the vector $w = (w_1, \\dots, w_d)$ that \"best separates the data\".  Then we perform classification with the new covariate $U$ instead of $X$.\n",
    "\n",
    "We need to define what we mean by separation of the groups.  We would like the two groups to have means that are far apart relative to their spread.  Let $\\mu_j$ denote the mean of $X$ for $Y = j$ and let $\\Sigma$ be the variance matrix of $X$.  Then $\\mathbb{E}(U | Y = j) = \\mathbb{E}(w^T X | Y = j) = w^T \\mu_j$ and $\\mathbb{V}(U) = w^T \\Sigma w$.  Define the separation by\n",
    "\n",
    "$$\n",
    "\\begin{align}\n",
    "J(w) &= \\frac{(\\mathbb{E}(U | Y = 0) - \\mathbb{E}(U | Y = 1))^2}{w^T \\Sigma w} \\\\\n",
    "&= \\frac{(w^T \\mu_0 - w^T \\mu_1)^2}{w^T \\Sigma w} \\\\\n",
    "&= \\frac{w^T (\\mu_0 - \\mu_1)(\\mu_0 - \\mu_1)^T w}{w^T \\Sigma w}\n",
    "\\end{align}\n",
    "$$\n",
    "\n",
    "*The quantity $J$ arises in physics, where it is called the Rayleight coefficient.*\n",
    "\n",
    "We estimate $J$ as follows.  Let $n_j = \\sum_{i=1}^n I(Y_i = j)$ be the number of observations in group $j$, let $\\overline{X}_j = n_j^{-1} \\sum_{i: Y_i = j} X_j$ be the sample mean vetor of $X$'s for group $j$, and let $S_j = (n_j - 1)^{-1} \\sum_{i: Y_i = j} (X_i - \\overline{X}_j)(X_i - \\overline{X}_j)^T $ be the sample covariance matrix in group $j$.  Define\n",
    "\n",
    "$$ \\hat{J}(w) = \\frac{w^T S_B w}{w^T S_W w} $$\n",
    "\n",
    "where\n",
    "\n",
    "$$ \n",
    "S_B = (\\overline{X}_0 - \\overline{X}_1) (\\overline{X}_0 - \\overline{X}_1)^T\n",
    "\\quad \\text{and} \\quad\n",
    "S_W = \\frac{(n_0 - 1) S_0 + (n_1 - 1) S_1}{(n_0 - 1) + (n_1 -1)}\n",
    "$$"
   ]
  },
  {
   "cell_type": "markdown",
   "metadata": {},
   "source": [
    "**Theorem 23.10**.  The vector\n",
    "\n",
    "$$ w = S_W^{-1}(\\overline{X}_0 - \\overline{X}_1) $$\n",
    "\n",
    "is a minimizer of $\\hat{J}(w)$.  We call\n",
    "\n",
    "$$ U = w^T X = (\\overline{X}_0 - \\overline{X}_1)^T S_W^{-1} X $$\n",
    "\n",
    "the **Fisher linear discriminant function**.  The midpoint $m$ between $\\overline{X}_0$ and $\\overline{X}_1$ is\n",
    "\n",
    "$$ m = \\frac{1}{2} (\\overline{X}_0 + \\overline{X}_1) = \\frac{1}{2}  (\\overline{X}_0 - \\overline{X}_1)^T S_B^{-1}  (\\overline{X}_0 + \\overline{X}_1)$$\n",
    "\n",
    "Fisher's classification rule is\n",
    "\n",
    "$$\n",
    "h(x) = \\begin{cases}\n",
    "0 & \\text{if } w^T X \\geq m \\\\\n",
    "1 & \\text{if } w^T X < m\n",
    "\\end{cases}\n",
    "= \\begin{cases}\n",
    "0 & \\text{if } (\\overline{X}_0 - \\overline{X}_1)^T S_W^{-1}x \\geq m \\\\\n",
    "1 & \\text{if } (\\overline{X}_0 - \\overline{X}_1)^T S_W^{-1}x < m\n",
    "\\end{cases}\n",
    "$$\n",
    "\n",
    "Fisher's rule is the same as the Bayes linear classifier when $\\hat{\\pi} = 1/2$."
   ]
  },
  {
   "cell_type": "markdown",
   "metadata": {},
   "source": [
    "### 23.4 Linear Regression and Logistic Regression"
   ]
  },
  {
   "cell_type": "markdown",
   "metadata": {},
   "source": [
    "A more direct approach to classification is to estimate the regression function $r(x) = \\mathbb{E}(Y | X = x)$ without bothering to estimate the densities $f_k$.  For the rest of this section we will only consider the case where $\\mathcal{Y} = \\{ 0, 1 \\}$.  Thus, $r(x) = \\mathbb{P}(Y = 1 | X = x)$ and once we have an estimate $\\hat{r}$, we will use the classification rule\n",
    "\n",
    "$$ \n",
    "h(x) = \\begin{cases}\n",
    "1 &\\text{if } \\hat{r}(x) > \\frac{1}{2} \\\\\n",
    "0 &\\text{otherwise}\n",
    "\\end{cases} \n",
    "$$\n",
    "\n",
    "The simplest regression is the linear regression model\n",
    "\n",
    "$$ Y = r(x) + \\epsilon = \\beta_0 + \\sum_{j=1}^d \\beta_j X_j + \\epsilon $$\n",
    "\n",
    "where $\\mathbb{E}(\\epsilon) = 0$.  This model can't be correct since it doesn't force $Y \\in \\mathcal{Y}$.  Nonetheless, it can sometimes lead to a decent classifier."
   ]
  },
  {
   "cell_type": "markdown",
   "metadata": {},
   "source": [
    "Recall that the least square estimate of $\\beta = (\\beta_0, \\beta_1, \\dots, \\beta_d)^T$ minimizes the residual sum of squares\n",
    "\n",
    "$$ \\text{RSS}(\\beta) = \\sum_{i=1}^n \\left( Y_i - \\left( \\beta_0  + \\sum_{j=1}^d X_{ij} \\beta_j \\right) \\right)^2 $$\n",
    "\n",
    "Briefly reviewing this estimator:  let\n",
    "\n",
    "$$ \n",
    "X = \\begin{bmatrix}\n",
    "1 & X_{11} & \\cdots & X_{1d} \\\\\n",
    "1 & X_{21} & \\cdots & X_{2d} \\\\\n",
    "\\vdots & \\vdots & \\ddots & \\vdots \\\\\n",
    "1 & X_{n1} & \\cdots & X_{nd}\n",
    "\\end{bmatrix}\n",
    "\\quad \\text{and} \\quad\n",
    "Y = (Y_1, \\dots, Y_n)^T\n",
    "$$\n",
    "\n",
    "Then,\n",
    "\n",
    "$$ \\text{RSS}(\\beta) = (Y - X \\beta)^T (Y - X \\beta) $$\n",
    "\n",
    "and the model can be written as\n",
    "\n",
    "$$ Y = X \\beta + \\epsilon $$\n",
    "\n",
    "where $ \\epsilon = (\\epsilon_1, \\dots, \\epsilon_n)^T$.  The least squares solution $\\hat{\\beta}$ that minimizes RSS is given by\n",
    "\n",
    "$$ \\hat{\\beta} = (X^T X)^{-1} X^T Y $$\n",
    "\n",
    "and the predicted values are\n",
    "\n",
    "$$ \\hat{Y} = X \\hat{\\beta} $$\n",
    "\n",
    "Now we can use $h(x)$ to classify, by taking $\\hat{r}(x) = \\hat{\\beta}_0 + \\sum_k \\hat{\\beta}_k x_j$."
   ]
  },
  {
   "cell_type": "markdown",
   "metadata": {},
   "source": [
    "It seems sensible to use a regression model that takes into account that $Y \\in \\{ 0, 1 \\}$.  The most common method for doing so is **logistic regression**.  Recall that the model is\n",
    "\n",
    "$$ r(x) = \\mathbb{P}(Y = 1 | X = x) = \\frac{\\exp \\left\\{ \\beta_0 + \\sum_j \\beta_j x_j \\right\\} }{1 + \\exp \\left\\{ \\beta_0 + \\sum_j \\beta_j x_j \\right\\} } $$\n",
    "\n",
    "We may write this as\n",
    "\n",
    "$$ \\text{logit} \\; \\mathbb{P}(Y = 1 | X = x) = \\beta_0 + \\sum_j \\beta_j x_j $$\n",
    "\n",
    "where $\\text{logit}(a) = \\log (a / (1 - a))$.  Under this model, each $Y_i$ is a Bernoulli with success probability\n",
    "\n",
    "$$ p_i(\\beta) = \\frac{\\exp \\left\\{ \\beta_0 + \\sum_j \\beta_j X_{ij} \\right\\} }{1 + \\exp \\left\\{ \\beta_0 + \\sum_j \\beta_j X_{ij} \\right\\} } $$\n",
    "\n",
    "The likelihood function for the data set is\n",
    "\n",
    "$$ \\mathcal{L}(\\beta) = \\prod_{i=1}^n p_i(\\beta)^{Y_i} (1 - p_i(\\beta))^{1 - Y_i}$$\n",
    "\n",
    "We obtain the MLE numerically."
   ]
  },
  {
   "cell_type": "markdown",
   "metadata": {},
   "source": [
    "We can get a better classifier by fitting a richer model.  For example we could fit\n",
    "\n",
    "$$ \\text{logit} \\; \\mathbb{P}(Y = 1 | X = x) = \\beta_0 + \\sum_j \\beta_j x_j + \\sum_{j, k} \\beta_{jk} x_j x_k $$\n",
    "\n",
    "More generally, we could add terms of up to order $r$ for some integer $r$.  Large values of $r$ give a more complicated model which should fit the data better.  But there is a bias-variance tradeoff which we'll discuss later."
   ]
  },
  {
   "cell_type": "markdown",
   "metadata": {},
   "source": [
    "The logistic regression can be easily extend to $k$ groups but we shall not give the details here.\n",
    "\n",
    "*(Student note: multiple treatments are easily found searching for \"multinomial logistic regression\")*"
   ]
  },
  {
   "cell_type": "markdown",
   "metadata": {},
   "source": [
    "### 23.5  Relationship Between Logistic Regression and LDA"
   ]
  },
  {
   "cell_type": "markdown",
   "metadata": {},
   "source": [
    "LDA and logistic regression are almost the same thing.  \n",
    "\n",
    "If we assume each group is Gaussian with the same covariance matrix then\n",
    "\n",
    "$$ \n",
    "\\begin{align}\n",
    "\\log \\left( \\frac{\\mathbb{P}(Y = 1 | X = x)}{\\mathbb{P}(Y = 0 | X = x)} \\right) \n",
    "&= \\log \\left( \\frac{\\pi_0}{\\pi_1} \\right) - \\frac{1}{2} (\\mu_0 + \\mu_1)^T \\Sigma^{-1} (\\mu_1 - \\mu_0) + x^T \\Sigma^{-1}( \\mu_1 - \\mu_0) \\\\\n",
    "&\\equiv \\alpha_0 + \\alpha^T x\n",
    "\\end{align}\n",
    "$$\n",
    "\n",
    "On the other hand, the logistic model is, by assumption,\n",
    "\n",
    "$$ \\log \\left( \\frac{\\mathbb{P}(Y = 1 | X = x)}{\\mathbb{P}(Y = 0 | X = x)} \\right) = \\beta_0 + \\beta^T x $$\n",
    "\n",
    "These are the same model since they both lead to classification rules that are linear in $x$.  The difference is in how we estimate the parameters."
   ]
  },
  {
   "cell_type": "markdown",
   "metadata": {},
   "source": [
    "The joint density of a single observation is $f(x, y) = f(x | y) f(y) = f(y | x) f(x)$.  In LDA we estimated the whole distribution by estimating $f(x | y)$ and $f(y)$; specifically, we estimated $f_k(x) = f(x | Y = k)$, $\\pi_k = f_Y(k)$.  We maximized the likelihood\n",
    "\n",
    "$$ \\prod_i f(x_i, y_i) = \\underbrace{\\prod_i f(x_i | y_i)}_\\text{Gaussian} \\underbrace{ \\prod_i f(y_i) }_\\text{Bernoulli}$$\n",
    "\n",
    "In logistic regression, we maximized the conditional likelihood $\\prod_i f(y_i | x_i)$ but we ignored the second term $f(x_i)$:\n",
    "\n",
    "$$ \\prod_i f(x_i, y_i) = \\underbrace{\\prod_i f(y_i | x_i)}_\\text{logistic} \\underbrace{ \\prod_i f(x_i) }_\\text{ignored}$$\n"
   ]
  },
  {
   "cell_type": "markdown",
   "metadata": {},
   "source": [
    "Since classification requires only knowing $f(y | x)$, we don't really need to estimate the whole joint distribution.  Logistic regression leaves the marginal distribution $f(x)$ unspecified so it is more nonparametric than LDA.\n",
    "\n",
    "To summarize:  LDA and logistic regression both lead to a linear classification rule.  In LDA we estimate the whole joint distribution $f(x, y) = f(x | y) f(y)$.  In logistic regression we only estimate $f(y | x)$ and we don't bother estimating $f(x)$."
   ]
  },
  {
   "cell_type": "markdown",
   "metadata": {},
   "source": [
    "### 23.6 Density Estimation and Naive Bayes"
   ]
  },
  {
   "cell_type": "markdown",
   "metadata": {},
   "source": [
    "Recall that the Bayes rule is $h(x) = \\text{argmax}_k \\pi_k f_k(x)$.  If we can estimate $\\pi_k$ and $f_k$ then we can estimate the Bayes classification rule.  Estimating $\\pi_k$ is easy, but what about $f_k$? We did it previously by assuming $f_k$ was Gaussian.  Another strategy is to estimate $f_k$ with some nonparametric density estimator $\\hat{f}_k$ such as a kernel estimator.  But if $x = (x_1, \\dots, x_d)$ is high dimensional, nonparametric density estimation is not very reliable.  The problem is ameliorated if we assume that $X_1, \\dots, X_d$ are independent, for then $f_k(x_1, \\dots, x_d) = \\prod_{j=1}^d f_{kj}(x_j)$.  This reduces the problem to $d$ one-dimensional density estimation problems, within each of the $k$ groups.  The resulting classifier is called the **naive Bayes classifier**.  The assumption that the components of $X$ are independent is usually wrong yet the resulting classifier might still be accurate."
   ]
  },
  {
   "cell_type": "markdown",
   "metadata": {},
   "source": [
    "**Naive Bayes Classifier**\n",
    "\n",
    "1.  For each group $k$, compute an estimate $\\hat{f}_{kj}$ of the density $f_{kj}$ for $X_j$, using the data for which $Y_i = k$.\n",
    "\n",
    "2.  Let\n",
    "\n",
    "$$ \\hat{f}_k(x) = \\hat{f}_k(x_1, \\dots, x_d) = \\prod_{j=1}^d \\hat{f}_{kj}(x_j) $$\n",
    "\n",
    "3. Let\n",
    "\n",
    "$$ \\hat{\\pi}_k = \\frac{1}{n} \\sum_{i=1}^n I(Y_i = k) $$\n",
    "\n",
    "where $I(t) = 1$ if $t$ and $I(t) = 0$ otherwise.\n",
    "\n",
    "4. Let\n",
    "\n",
    "$$ h(x) = \\text{argmax}_k \\hat{\\pi}_k \\hat{f}_k(x) $$"
   ]
  },
  {
   "cell_type": "markdown",
   "metadata": {},
   "source": [
    "The naive Bayes classifier is especially popular when $x$ is high dimensional and discrete.  In that case, $\\hat{f}_{kj}(x_k)$ is especially simple."
   ]
  },
  {
   "cell_type": "markdown",
   "metadata": {},
   "source": [
    "### 23.7 Trees"
   ]
  },
  {
   "cell_type": "markdown",
   "metadata": {},
   "source": [
    "Trees are classification methods that partition the covariate space $\\mathcal{X}$ into disjoint pieces and then classify the observations according to which partition element they fall in.  As the name implies, the classifier can be represented as a tree.\n",
    "\n",
    "Here is how a tree is constructed.  For simplicity, we focus on the case where $\\mathcal{Y} = \\{ 0, 1 \\}$.  First, suppose there is a single covariate $X$.  We choose a split point $t$ that divides the real line into two sets, $A_1 = (-\\infty, t]$ and $A_2 = (t, \\infty)$.  Let $\\hat{p}_s(j)$ be the proportion of observations in $A_s$ such that $Y_i = j$:\n",
    "\n",
    "$$ \\hat{p}_s(j) = \\frac{\\sum_{i=1}^n I(Y_i = j, X_i \\in A_s)}{\\sum_{i=1}^n I(X_i \\in A_s)} $$\n",
    "\n",
    "for $s = 1, 2$ and $j = 0, 1$.  The **impurity** of the split $t$ is defined to be\n",
    "\n",
    "$$ I(t) = \\sum_{s=1}^2 \\gamma_s $$\n",
    "\n",
    "where\n",
    "\n",
    "$$ \\gamma_s = 1 - \\sum_{j=0}^1 \\hat{p}_s(j)^2 $$\n",
    "\n",
    "This measure of impurity is known as the **Gini index**.  If a partition element $A_s$ contains all 0s or all 1s, then $\\gamma_s = 0$.  Otherwise, $\\gamma_s > 0$.  We choose the split point $t$ to minimize the impurity.  (Other indices of impurity may be used besides the Gini index.)\n",
    "\n",
    "When there are several covariates, we choose whatever covariate and split that leads to the lowest impurity.  This process is continued until some stopping criteria is met.  For example, we might stop when every partition element has fewer than $n_0$ data points, where $n_0$ is some fixed number.  The bottom nodes of the tree are called **leaves**.  Each leaf is assigned a 0 or 1 depending on whether there are more data points with $Y = 0$ or $Y = 1$ in the partition element.\n",
    "\n",
    "This procedure is easily generalized to the multiclass case, $\\mathcal{Y} = \\{ 1, \\dots, K \\}$.  We simply define the impurity by\n",
    "\n",
    "$$ \\gamma_s = 1 - \\sum_{j=1}^K \\hat{p}_s(j)^2 $$\n",
    "\n",
    "where $\\hat{p}_s(j)$ is the proportion of observations in the partition element for which $Y = j$.\n",
    "\n",
    "Our description of how to build trees is incomplete.  If we keep splitting until there are few cases in each leaf of the tree, we are likely to overfit the data.  We should choose the complexity of the tree in such a way that the estimated true error rate is low.  In the next section, we discuss estimation of the error rate."
   ]
  },
  {
   "cell_type": "markdown",
   "metadata": {},
   "source": [
    "### 23.8 Assessing Error Rates and Choosing a Good Classifier"
   ]
  },
  {
   "cell_type": "markdown",
   "metadata": {},
   "source": [
    "We would like to have a classifier $h$ with a low true error rate $L(h)$.  Usually, we can't use the training error rate $\\hat{L}_n(h)$ as an estimate of the true error rate because it is biased downward.\n",
    "\n",
    "There are many ways to estimate the error rate.  We'll consider two:  **cross-validation** and **probability inequalities**."
   ]
  },
  {
   "cell_type": "markdown",
   "metadata": {},
   "source": [
    "#### Cross-validation\n",
    "\n",
    "The basic idea of cross-validation is to leave out some of the data when fitting a model.  The simplest version involves randomly splitting the data into two pieces: the **training set $\\mathcal{T}$** and the **validation set $\\mathcal{V}$**.  Often, about 10 percent of the data might be set aside as the validation set.  The classifier $h$ is constructed from the training set.  We then estimate the error by\n",
    "\n",
    "$$ \\hat{L}(h) = \\frac{1}{m} \\sum_{X_i \\in \\mathcal{V}} I(h(X_i) \\neq Y_i) $$\n",
    "\n",
    "where $m$ is the size of the validation set.\n",
    "\n",
    "Another approach to cross-validation is **K-fold cross-validation** which is obtained as follows:"
   ]
  },
  {
   "cell_type": "markdown",
   "metadata": {},
   "source": [
    "**K-fold cross-validation**\n",
    "\n",
    "1.  Randomly divide the data into $K$ chunks of approximately equal size.  A common choice is $K = 10$.\n",
    "\n",
    "2.  For $k = 1$ to $K$ do the following:\n",
    "\n",
    "   (a) Delete chunk $k$ from the data.\n",
    "   \n",
    "   (b) Compute the classifier $\\hat{h}_{(k)}$ from the rest of the data.\n",
    "   \n",
    "   (c) Use $\\hat{h}_{(k)}$ to predict the data in chunk $k$.  Let $\\hat{L}_{(k)}$ denote the observed error rate.\n",
    "   \n",
    "3. Let\n",
    "\n",
    "$$ \\hat{L}(h) = \\frac{1}{K} \\sum_{k=1}^K \\hat{L}_{(k)} $$"
   ]
  },
  {
   "cell_type": "markdown",
   "metadata": {},
   "source": [
    "Cross-validation can be applied to any classification method.  To apply it to trees, one begins by fitting an initial tree.  Smaller trees are obtained by pruning tree.  We can do this for trees of various sizes, where size refers to the number of terminal nodes on the tree.  Cross-validation is then used to estimate error rate as a function of tree size."
   ]
  },
  {
   "cell_type": "markdown",
   "metadata": {},
   "source": [
    "#### Probability Inequalities\n",
    "\n",
    "Another approach to estimating the error rate is to find a confidence interval for $\\hat{L}_n(h)$ using probability inequalities.  This method is useful in the context of **empirical risk estimation**.\n",
    "\n",
    "Let $\\mathcal{H}$ be a set of classifiers, for example, all linear classifiers.  Empirical risk minimization means choosing the classifier $\\hat{h} \\in \\mathcal{H}$ to minimize the training error $\\hat{L}_n(h)$, also called the empirical risk.  Thus,\n",
    "\n",
    "$$ \\hat{h} = \\text{argmin}_{h \\in \\mathcal{H}} \\hat{L}_n(h) \n",
    "= \\text{argmin}_{h \\in \\mathcal{H}} \\left( \\frac{1}{n} \\sum_i I(h(X_i) \\neq Y_i) \\right) $$\n",
    "\n",
    "Typically, $\\hat{L}_n(\\hat{h})$ underestimates the true error rate $L(\\hat{h})$ because $\\hat{h}$ was chosen to minimize $\\hat{L}_n(\\hat{h})$.  Our goal is to assess how much underestimation is taking place.  Our main tool for this analysis is **Hoeffding's inequality**.  Recall that if $X_1, \\dots, X_n \\sim \\text{Bernoulli}(p)$, then, for any $\\epsilon > 0$,\n",
    "\n",
    "$$ \\mathbb{P}(|\\hat{p} - p| > \\epsilon) \\leq 2 e^{ -2 n \\epsilon^2 } $$\n",
    "\n",
    "where $\\hat{p} = n^{-1} \\sum_{i=1}^n X_i$.\n",
    "\n",
    "First, suppose that $\\mathcal{H} = \\{ h_1, \\dots, h_m \\}$ consists of finitely many classifiers.  For any fixed $h$, $\\hat{L}_n(h)$ converges in almost surely to $L(h)$ by the law of large numbers.  We will now establish a stronger result."
   ]
  },
  {
   "cell_type": "markdown",
   "metadata": {},
   "source": [
    "**Theorem 23.16 (Uniform Convergence)**.  Assume $\\mathcal{H}$ is finite and has $m$ elements.  Then,\n",
    "\n",
    "$$ \\mathbb{P} \\left( \\max_{h \\in \\mathcal{H}} |\\hat{L}_n(h) - L(h) | > \\epsilon \\right) \\leq 2 m e^{-2 n \\epsilon^2} $$"
   ]
  },
  {
   "cell_type": "markdown",
   "metadata": {},
   "source": [
    "**Proof**.  We will use Hoeffding's inequality and we will also use the fact that if $A_1, \\dots, A_m$ is a set of events then $\\mathbb{P}(\\bigcup_{i=1}^m A_i) \\leq \\sum_{i=1}^m \\mathbb{P}(A_i)$.  Now,\n",
    "\n",
    "$$\n",
    "\\begin{align}\n",
    "\\mathbb{P} \\left( \\max_{h \\in \\mathcal{H}} |\\hat{L}_n(h) - L(h) | > \\epsilon \\right)\n",
    "&= \\mathbb{P} \\left( \\bigcup_{h \\in \\mathcal{H}} |\\hat{L}_n(h) - L(h) | > \\epsilon \\right) \\\\\n",
    "& \\leq \\sum_{h \\in \\mathcal{H}} \\mathbb{P} \\left( |\\hat{L}_n(h) - L(h) | > \\epsilon \\right) \\\\\n",
    "& \\leq \\sum_{h \\in \\mathcal{H}} 2 e^{-2 n \\epsilon^2} = 2 m e^{-2 n \\epsilon^2}\n",
    "\\end{align}\n",
    "$$"
   ]
  },
  {
   "cell_type": "markdown",
   "metadata": {},
   "source": [
    "**Theorem 23.17**.  Let\n",
    "\n",
    "$$ \\epsilon = \\sqrt{\\frac{2}{n} \\log \\left( \\frac{2m}{\\alpha} \\right) } $$\n",
    "\n",
    "Then $\\hat{L}_n(\\hat{h}) \\pm \\epsilon$ is a $1 - \\alpha$ confidence interval for $L(\\hat{h})$."
   ]
  },
  {
   "cell_type": "markdown",
   "metadata": {},
   "source": [
    "**Proof**.  This follows from the fact that\n",
    "\n",
    "$$\n",
    "\\mathbb{P}(|\\hat{L}_n(\\hat{h}) - L(\\hat{h})| > \\epsilon) \n",
    "\\leq \\mathbb{P}( \\max_{h \\in \\mathcal{H}} |\\hat{L}_n(h) - L(h) | > \\epsilon )\n",
    "\\leq 2 m e^{-2 n \\epsilon^2} = \\alpha\n",
    "$$"
   ]
  },
  {
   "cell_type": "markdown",
   "metadata": {},
   "source": [
    "When $\\mathcal{H}$ is large the confidence interval for $L(\\hat{h})$ is large.  The more functions there are in $\\mathcal{H}$ the more likely it is we have \"overfit\" which we compensate for by having a larger confidence interval.\n",
    "\n",
    "In practice, we usually use sets $\\mathcal{H}$ that are infinite, such as the set of linear classifiers.  To extend our analysis to these cases we want to be able to say something like\n",
    "\n",
    "$$ \\mathbb{P} \\left( \\sup_{h \\in \\mathcal{H}} |\\hat{L}_n(h) - L(h) | > \\epsilon \\right) \\leq \\text{something not too big} $$\n",
    "\n",
    "All the other results followed from this inequality.  One way to develop such a generalization is by way of the **Vapnik-Chervonenkis** or **VC dimension**.  We now consider the main ideas in VC theory."
   ]
  },
  {
   "cell_type": "markdown",
   "metadata": {},
   "source": [
    "Let $\\mathcal{A}$ be a class of sets.  Given a finite set $F = \\{ x_1, \\dots, x_n \\}$ let\n",
    "\n",
    "$$ N_\\mathcal{A}(F) = \\# \\Big\\{ F \\cap A : A \\in \\mathcal{A} \\Big\\} $$\n",
    "\n",
    "be the number of subsets F \"picked out\" by $\\mathcal{A}$.  Here $\\#(B)$ denotes the number of elements of set $B$.  The **shatter coefficient** is defined by\n",
    "\n",
    "$$ s(\\mathcal{A}, n) = \\max_{F \\in \\mathcal{F}_n} N_\\mathcal{A}(F) $$\n",
    "\n",
    "where $\\mathcal{F}_n$ consists of all finite sets of size $n$.  Now let $X_1, \\dots, X_n \\sim \\mathbb{P}$ and let\n",
    "\n",
    "$$ \\mathbb{P}_n(A) = \\frac{1}{n} \\sum_i I(X_i \\in A) $$\n",
    "\n",
    "denote the empirical probability measure.  The following remarkable theorem bounds the distance between $\\mathbb{P}$ and $\\mathbb{P}_n$."
   ]
  },
  {
   "cell_type": "markdown",
   "metadata": {},
   "source": [
    "**Theorem 23.18 (Vapnik and Chervonenkis (1971))**.  For any $\\mathbb{P}$, $n$, and $\\epsilon > 0$,\n",
    "\n",
    "$$ \\mathbb{P} \\left\\{ \\sup_{A \\in \\mathcal{A}} | \\mathbb{P}_n(A) - \\mathbb{P}(A) | > \\epsilon \\right\\} \\leq 8 s(\\mathcal{A}, n) e^{-n \\epsilon^2 / 32} $$ "
   ]
  },
  {
   "cell_type": "markdown",
   "metadata": {},
   "source": [
    "The proof, though very elegant, is long and we omit it.  If $\\mathcal{H}$ is a set of classifiers, define $\\mathcal{A}$ to be the class of sets of the form $\\{ x : h(x) = 1 \\}$.  Then we define $s(\\mathcal{H}, n) = s(\\mathcal{A}, n)$."
   ]
  },
  {
   "cell_type": "markdown",
   "metadata": {},
   "source": [
    "**Theorem 23.19**.\n",
    "\n",
    "$$ \\mathbb{P} \\left\\{ \\sup_{h \\in \\mathcal{H}} | \\hat{L}_n(h) - L(h) | > \\epsilon \\right\\} \\leq 8 s(\\mathcal{H}, n) e^{-n \\epsilon^2 / 32} $$ \n",
    "\n",
    "A $1 - \\alpha$ confidence interval for $L(\\hat{h})$ is $\\hat{L}_n(\\hat{h}) \\pm \\epsilon_n$ where\n",
    "\n",
    "$$ \\epsilon_n^2 = \\frac{32}{n} \\log \\left( \\frac{8 s(\\mathcal{H}, n)}{\\alpha} \\right) $$"
   ]
  },
  {
   "cell_type": "markdown",
   "metadata": {},
   "source": [
    "These theorems are only useful if the shatter coefficients do not grow too quickly with $n$.  This is where the VC dimension enters."
   ]
  },
  {
   "cell_type": "markdown",
   "metadata": {},
   "source": [
    "The **VC (Vapnik-Chervonenkis) dimension** of a class of sets $\\mathcal{A}$ is defined as follows.  If $s(\\mathcal{A}, n) = 2^n$ for all $n$ set $\\text{VC}(\\mathcal{A}) = \\infty$.  Otherwise, define $\\text{VC}(\\mathcal{A})$ to be the largest $k$ for which $s(\\mathcal{A}, n) = 2^k$."
   ]
  },
  {
   "cell_type": "markdown",
   "metadata": {},
   "source": [
    "Thus, the VC-dimension is the size of the largest finite set $F$ that can be **shattered by $\\mathcal{A}$**, meaning that $\\mathcal{A}$ picks out each subset of $F$.  If $\\mathcal{H}$ is a set of classifiers we define $\\text{VC}(\\mathcal{H}) = \\text{VC}(\\mathcal{A})$ where $\\mathcal{A}$ is the class of sets of the form $\\{ x : h(x) = 1 \\}$ as $h$ varies in $\\mathcal{H}$.  The following theorem shows that if $\\mathcal{A}$ has finite VC-dimension then the shatter coefficients grow as a polynomial in $n$."
   ]
  },
  {
   "cell_type": "markdown",
   "metadata": {},
   "source": [
    "**Theorem 23.21**.  If $\\mathcal{A}$ has finite VC-dimension $v$, then\n",
    "\n",
    "$$ s(\\mathcal{A}, n) \\leq n^v + 1 $$"
   ]
  },
  {
   "cell_type": "markdown",
   "metadata": {},
   "source": [
    "**Theorem 23.26**.  Let $x$ have dimension $d$ and let $\\mathcal{H}$ be the set of linear classifiers.  The VC dimension of $\\mathcal{H}$ is $d + 1$.  Hence, a $1 - \\alpha$ confidence interval for the true error rate is $\\hat{L}(\\hat{h}) \\pm \\epsilon$ where\n",
    "\n",
    "$$ \\epsilon_n^2 = \\frac{32}{n} \\log \\left( \\frac{8 (n^{d + 1} + 1)}{\\alpha} \\right) $$"
   ]
  },
  {
   "cell_type": "markdown",
   "metadata": {},
   "source": [
    "### 23.9 Support Vector Machines"
   ]
  },
  {
   "cell_type": "markdown",
   "metadata": {},
   "source": [
    "In this section we consider a class of linear classifiers called **support vector machines**.  Throughout this section, we assume that $Y$ is binary.  It will be convenient to label the outcomes as $+1$ and $-1$ instead of $0$ and $1$.  A linear classifier can then be written as\n",
    "\n",
    "$$ h(x) = \\text{sign}( H(x) ) $$\n",
    "\n",
    "where $x = (x_1, \\dots, x_d)$,\n",
    "\n",
    "$$ H(x) = a_0 + \\sum_{i=1}^d a_i x_i $$\n",
    "\n",
    "and\n",
    "\n",
    "$$ \\text{sign}(z) = \\begin{cases}\n",
    "-1 &\\text{if } z < 0 \\\\\n",
    "0  &\\text{if } z = 0 \\\\\n",
    "1  &\\text{if } z > 0\n",
    "\\end{cases}$$\n",
    "\n",
    "First, suppose that the data are **linearly separable**, that is, there exists a hyperplane that perfectly separates the two classes."
   ]
  },
  {
   "cell_type": "markdown",
   "metadata": {},
   "source": [
    "**Lemma 23.27**.  The data can be separated by some hyperplane if and only if there exists a hyperplane $H(x) = a_0 + \\sum_{i=1}^d a_i x_i $ such that \n",
    "\n",
    "$$ Y_i H(x_i) \\geq 1, \\quad i = 1, \\dots, n $$"
   ]
  },
  {
   "cell_type": "markdown",
   "metadata": {},
   "source": [
    "**Proof**.  Suppose that the data can be separated by a hyperplane $W(x) = b_0 + \\sum_{i=1}^d b_i x_i$.  It follows that there exists some constant $c$ such that $Y_i = 1$ implies$W(X_i) \\geq c$ and $Y_i = -1$ implies $W(X_i) \\leq -c$.  Therefore, $Y_i W(X_i) \\geq c$ for all i.  Let $H(x) = a_0 + \\sum_{i=1} a_i x_i$ where $a_i = b_i / c$.  Then $Y_i H(X_i) \\geq 1$ for all $i$.  The reverse direction is straightforward."
   ]
  },
  {
   "cell_type": "markdown",
   "metadata": {},
   "source": [
    "In the separable case, there will be many separating hyperplanes.  Intuitively, it seems reasonable to choose the hyperplane \"furthest\" from the data in the sense that it separates the +1s and -1s and maximizes the distance to the closest point.  This hyperplane is called the **maximum margin hyperplane**.  The margin is the distance from the hyperplane to the nearest point.  Points on the boundary of the margin are called **support vectors**."
   ]
  },
  {
   "cell_type": "markdown",
   "metadata": {},
   "source": [
    "**Theorem 23.28**.  The hyperplane $\\hat{H}(x) = \\hat{a}_0 + \\sum_{i=1}^d \\hat{a}_i x_i$ that separates the data and maximizes the margin is given by minimizing $(1/2) \\sum_{j=1}^d b_j^2$ subject to $Y_i H(x_i) \\geq 1$."
   ]
  },
  {
   "cell_type": "markdown",
   "metadata": {},
   "source": [
    "It turns out that this problem can be recast as a quadratic programming problem.  Recall that $\\langle X_i, X_k \\rangle = X_i^T X_k$ is the inner product of $X_i$ and $X_k$."
   ]
  },
  {
   "cell_type": "markdown",
   "metadata": {},
   "source": [
    "**Theorem 23.29**.  Let $\\hat{H}(x) = \\hat{a}_0 + \\sum_{i=1}^d \\hat{a}_i x_i$ denote the optimal (largest margin) hyperplane.  Then, for $j = 1, \\dots, d$,\n",
    "\n",
    "$$ \\hat{a}_j = \\sum_{i=1}^n \\hat{\\alpha}_i Y_i X_j(i) $$\n",
    "\n",
    "where $X_j(i)$ is the value of the covariate $X_j$ for the $i$-th data point, and $\\hat{\\alpha} = (\\hat{\\alpha}_1, \\dots, \\hat{\\alpha}_n)$ is the vector that maximizes\n",
    "\n",
    "$$ \\sum_{i=1}^n \\alpha_i - \\frac{1}{2} \\sum_{i=1}^n \\sum_{k=1}^n \\alpha_i \\alpha_j Y_i Y_k \\langle X_i, X_k \\rangle $$\n",
    "\n",
    "subject to\n",
    "\n",
    "$$ \\alpha_i \\geq 0 $$\n",
    "\n",
    "and\n",
    "\n",
    "$$ 0 = \\sum_i \\alpha_i Y_i $$\n",
    "\n",
    "The points $X_i$ for which $\\hat{\\alpha}_i \\neq 0$ are called **support vectors**.  $\\hat{\\alpha}_0$ can be found by solving\n",
    "\n",
    "$$ \\hat{\\alpha_i}(Y_i (X_i^T \\hat{\\alpha} + \\hat{\\beta}_0)) = 0$$\n",
    "\n",
    "for any support point $X_i$.  $\\hat{H}$ may be written as\n",
    "\n",
    "$$ \\hat{H}(x) = \\hat{a}_0 + \\sum_{i=1}^n \\hat{\\alpha}_i Y_i \\langle x, X_i \\rangle $$"
   ]
  },
  {
   "cell_type": "markdown",
   "metadata": {},
   "source": [
    "There are many software packages that will solve this problem quickly.  If there is no perfect linear classifier, then one allows overlap between the groups by replacing the condition $Y_i H(x_i) \\geq 1$ with\n",
    "\n",
    "$$ Y_i H(x_i) \\geq 1 - \\xi_i,\n",
    "\\quad \\xi_i \\geq 0,\n",
    "\\quad i = 1, \\dots, n\n",
    "$$ \n",
    "\n",
    "The variables $\\xi_1, \\dots, \\xi_n$ are called **slack variables**.\n",
    "\n",
    "We now maximize $\\sum_{i=1}^n \\alpha_i - \\frac{1}{2} \\sum_{i=1}^n \\sum_{k=1}^n \\alpha_i \\alpha_j Y_i Y_k \\langle X_i, X_k \\rangle$ subject to\n",
    "\n",
    "$$ 0 \\leq \\xi_i \\leq c, \\quad i = 1, \\dots, n $$\n",
    "\n",
    "and\n",
    "\n",
    "$$ \\sum_{i=1}^n \\alpha_i Y_i = 0 $$\n",
    "\n",
    "The constant $c$ is a tuning parameter that controls the amount of overlap."
   ]
  },
  {
   "cell_type": "markdown",
   "metadata": {},
   "source": [
    "### 23.10 Kernelization"
   ]
  },
  {
   "cell_type": "markdown",
   "metadata": {},
   "source": [
    "There is a trick for improving a computationally simpler classifier $h$ called **kernelization**.  The idea is to map the covariate $X$ -- which takes values in $\\mathcal{X}$ -- into a higher dimensional space $\\mathcal{Z}$ and apply the classifier in the bigger space $Z$.  This can yield a more flexible classifier while retaining computational complexity.\n",
    "\n",
    "The standard example of this is illustrated in the figure below.  Let the covariate be $x = (x_1, x_2)$.  The $Y_i$'s can be separated into two groups using an ellipse.  Define a mapping $\\phi$  by\n",
    "\n",
    "$$ z = (z_1, z_2, z_3) = \\phi(x) = (x_1^2, \\sqrt{2} x_1 x_2, x_2^2) $$\n",
    "\n",
    "This $\\phi$ maps $\\mathcal{X} = \\mathbb{R}^2$ into $\\mathcal{Z} = \\mathbb{R}^3$.  In the higher dimensional space $\\mathcal{Z}$, the $Y_i$'s are separable by a linear decision boundary.  In other words, a linear classifier in a higher dimensional space corresponds to a non-linear classifier in the original space."
   ]
  },
  {
   "cell_type": "code",
   "execution_count": 1,
   "metadata": {},
   "outputs": [],
   "source": [
    "import numpy as np\n",
    "\n",
    "\n",
    "# Fixing random state for reproducibility\n",
    "np.random.seed(0)\n",
    "\n",
    "# Generate data\n",
    "X = np.random.uniform(low=-1, high=1, size=(2, 200))\n",
    "\n",
    "def true_classifier(xx):\n",
    "    return xx[0]**2 + 2 * xx[1]**2 <= 1\n",
    "\n",
    "indexes = true_classifier(X)\n",
    "A = X.T[indexes].T\n",
    "B = X.T[~indexes].T\n",
    "\n",
    "def phi(X):\n",
    "    xx, yy = X[0].reshape(-1, 1), X[1].reshape(-1, 1)\n",
    "    return np.concatenate([xx**2, np.sqrt(2) * xx * yy, yy**2], axis=1).T\n",
    "\n",
    "phi_A, phi_B = phi(A), phi(B)"
   ]
  },
  {
   "cell_type": "code",
   "execution_count": 2,
   "metadata": {},
   "outputs": [
    {
     "data": {
      "image/png": "[encoded data removed]",
      "text/plain": [
       "<Figure size 1080x576 with 2 Axes>"
      ]
     },
     "metadata": {
      "needs_background": "light"
     },
     "output_type": "display_data"
    }
   ],
   "source": [
    "import matplotlib.pyplot as plt\n",
    "from matplotlib.patches import Ellipse\n",
    "from mpl_toolkits.mplot3d import Axes3D  # Registers 3D projection\n",
    "\n",
    "%matplotlib inline\n",
    "\n",
    "fig = plt.figure(figsize=(15, 8))\n",
    "ax = plt.subplot(1, 2, 1)\n",
    "\n",
    "ax.scatter(A[0], A[1], color='C0', marker='x')\n",
    "ax.scatter(B[0], B[1], color='C1', marker='x')\n",
    "ellipse = Ellipse(xy=[0,0], width=2, height=np.sqrt(2), angle=0,\n",
    "              edgecolor='C0', lw=4, facecolor='none')\n",
    "ax.add_patch(ellipse)\n",
    "ax.set_xlabel(r'$x_1$')\n",
    "ax.set_ylabel(r'$x_2$')\n",
    "\n",
    "ax = plt.subplot(1, 2, 2, projection='3d')\n",
    "\n",
    "ax.scatter(phi_A[0], phi_A[1], phi_A[2], marker='x')\n",
    "ax.scatter(phi_B[0], phi_B[1], phi_B[2], marker='x')\n",
    "\n",
    "xx, yy = np.meshgrid(np.arange(0, 1, step=0.1), np.arange(-1, 1, step=0.1))\n",
    "zz = (1 - xx) / 2\n",
    "\n",
    "ax.plot_surface(xx, yy, zz, alpha=0.2)\n",
    "\n",
    "ax.set_xlabel(r'$x_1^2$')\n",
    "ax.set_ylabel(r'$\\sqrt{2} x_1 x_2$')\n",
    "ax.set_zlabel(r'$x_2^2$')\n",
    "\n",
    "plt.show()"
   ]
  },
  {
   "cell_type": "markdown",
   "metadata": {},
   "source": [
    "There is a potential drawback.  If we significantly expand the dimension of the problem, we might increase the computational burden.  For example, if $x$ has dimension $d = 256$ and we wanted to use all fourth order terms, then $z = \\phi(x)$ has dimension 183,181,376.  What saves us is two observations.  First, many classifiers do not require that we know the values of the individual points but, rather, just the inner product between pairs of points.  Second, notice in our example that the inner product in $\\mathcal{Z}$ can be written\n",
    "\n",
    "$$ \n",
    "\\begin{align}\n",
    "\\langle z, \\tilde{z} \\rangle &= \\langle \\phi(x), \\phi(\\tilde{x}) \\rangle \\\\\n",
    "&= x_1^2 \\tilde{x}_1^2 + 2 x_1 \\tilde{x_1} x_2 \\tilde{x}_2 + x_2^2 \\tilde{x}_2^2 \\\\\n",
    "&= ( \\langle x, \\tilde{x} \\rangle )^2 \\\\\n",
    "&\\equiv K(x, \\tilde{x})\n",
    "\\end{align}\n",
    "$$\n",
    "\n",
    "Thus, we can compute $\\langle z, \\tilde{z} \\rangle$ without ever computing $Z_i = \\phi(X_i)$."
   ]
  },
  {
   "cell_type": "markdown",
   "metadata": {},
   "source": [
    "To summarize, kernelization means finding a mapping $\\phi: \\mathcal{X} \\rightarrow \\mathcal{Z}$ such that:\n",
    "\n",
    "1. $\\mathcal{Z}$ has higher dimension that $\\mathcal{X}$ and so leads to a richer set of classifiers.\n",
    "\n",
    "2. The classifier only requires computing inner products.\n",
    "\n",
    "3. There is a function $K$, called a kernel, such that $\\langle \\phi(x), \\phi(\\tilde{x}) \\rangle = K(x, \\tilde{x})$\n",
    "\n",
    "Then, everywhere the term $\\langle x, \\tilde{x} \\rangle$ appears in the algorithm, replace it with $K(x, \\tilde{x})$.\n",
    "\n",
    "In fact, we never need to construct the mapping $\\phi$ at all.  We only need to specify a kernel $K(x, \\tilde{x})$ that corresponds to $\\langle \\phi(x), \\phi(\\tilde{x}) \\rangle$ for some $\\phi$.  This raises an interesting question:  given a function of two variables $K(x, y)$, does exist a function $\\phi(x)$ such that $K(x, y) = \\langle \\phi(x), \\phi(\\tilde{x}) \\rangle$ ?  The answer is provided by **Mercer's theorem** which says, roughly, that if $K$ is positive definite -- meaning that\n",
    "\n",
    "$$ \\int \\int K(x, y) f(x) f(y) dx dy \\geq 0 $$\n",
    "\n",
    "for square integrable functions $f$ -- then such a $\\phi$ exists.  Examples of commonly used kernels are:\n",
    "\n",
    "- polynomial: $K(x, \\tilde{x}) = (\\langle x, \\tilde{x} \\rangle + a)^r$\n",
    "- sigmoid: $K(x, \\tilde{x}) = \\text{tanh} (a \\langle x, \\tilde{x} \\rangle + b)$\n",
    "- Gaussian: $K(x, \\tilde{x}) = -\\exp \\left( - \\Vert x - \\tilde{x} \\Vert^2 / (2 \\sigma^2) \\right)$"
   ]
  },
  {
   "cell_type": "markdown",
   "metadata": {},
   "source": [
    "Let us now see how we can use this trick in LDA and in support vector machines."
   ]
  },
  {
   "cell_type": "markdown",
   "metadata": {},
   "source": [
    "Recall that the Fisher linear discriminant method replaces $X$ with $U = w^T X$ where $w$ is chosen to maximize the Rayleigh coefficient\n",
    "\n",
    "$$ J(w) = \\frac{w^T S_B w}{w^T S_W w} $$\n",
    "\n",
    "where\n",
    "\n",
    "$$ S_B = (\\overline{X}_0 - \\overline{X}_1)(\\overline{X}_0 - \\overline{X}_1)^T $$\n",
    "\n",
    "and\n",
    "\n",
    "$$ S_W = \\left( \\frac{(n_0 - 1) S_0}{(n_0 - 1) + (n_1 - 1)} \\right) + \\left( \\frac{(n_1 - 1) S_1}{(n_0 - 1) + (n_1 - 1)} \\right) $$\n",
    "\n",
    "In the kernelized version, we replace $X_i$ with $Z_i = \\phi(X_i)$ and find $w$ to maximize\n",
    "\n",
    "$$ J(w) = \\frac{w^T S_B w}{w^T S_W w} $$\n",
    "\n",
    "where\n",
    "\n",
    "$$ S_B = (\\overline{Z}_0 - \\overline{Z}_1)(\\overline{Z}_0 - \\overline{Z}_1)^T $$\n",
    "\n",
    "and\n",
    "\n",
    "$$ S_W = \\left( \\frac{(n_0 - 1) \\tilde{S}_0}{(n_0 - 1) + (n_1 - 1)} \\right) + \\left( \\frac{(n_1 - 1) \\tilde{S}_1}{(n_0 - 1) + (n_1 - 1)} \\right) $$\n",
    "\n",
    "Here, $\\tilde{S}_j$ is the sample covariance of the $Z_i$'s for which $Y_i = j$.  However, to take advantage of kernelization, we need to reexpress this in terms of inner products and then replace the inner products with kernels."
   ]
  },
  {
   "cell_type": "markdown",
   "metadata": {},
   "source": [
    "It can be shown that the maximizing vector $w$ is a linear combination of the $Z_i$'s.  Then we can write\n",
    "\n",
    "$$ w = \\sum_{i=1}^n \\alpha_i Z_i $$\n",
    "\n",
    "Also,\n",
    "\n",
    "$$ \\overline{Z}_j = \\frac{1}{n_j} \\sum_{i=1}^n \\phi(X_i) I(Y_i = j) $$\n",
    "\n",
    "Therefore,\n",
    "\n",
    "$$\n",
    "\\begin{align}\n",
    "w^T \\overline{Z}_j &= \\left( \\sum_{i=1}^n \\alpha_i Z_i \\right)^T \\left( \\frac{1}{n_j} \\sum_{i=1}^n \\phi(X_i) I(Y_i = j) \\right) \\\\\n",
    "&= \\frac{1}{n_j} \\sum_{i=1}^n \\sum_{s=1}^n \\alpha_i I(Y_s = j) Z_i^T Z_s \\\\\n",
    "&= \\frac{1}{n_j} \\sum_{i=1}^n \\alpha_i \\sum_{s=1}^n I(Y_s = j) \\phi(X_i)^T \\phi(X_s) \\\\\n",
    "&= \\frac{1}{n_j} \\sum_{i=1}^n \\alpha_i \\sum_{s=1}^n I(Y_s = j) K(X_i, X_s) \\\\\n",
    "&= \\alpha^T M_j\n",
    "\\end{align}\n",
    "$$\n",
    "\n",
    "where $M_j$ is a vector whose $i$-th component is\n",
    "\n",
    "$$ M_j(i) = \\frac{1}{n_j} \\sum_{s=1}^n K(X_i, X_s) I(Y_s = j) $$\n",
    "\n",
    "It follows that\n",
    "\n",
    "$$ w^T \\tilde{S}_B w = \\alpha^T M \\alpha $$\n",
    "\n",
    "where $M = (M_0 - M_1)(M_0 - M_1)^T$.  By similar calculations, we can write\n",
    "\n",
    "$$ w^T \\tilde{S}_W w = \\alpha^T N \\alpha $$\n",
    "\n",
    "where\n",
    "\n",
    "$$ N = K_0\\left( I - \\frac{1}{n_0}\\mathbf{1}\\right) K_0^T + K_1\\left( I - \\frac{1}{n_1}\\mathbf{1}\\right) K_1^T$$\n",
    "\n",
    "$I$ is the identity matrix, $\\mathbf{1}$ is a matrix of all 1s, and $K_j$ is the $n \\times n_j$ matrix with entries $(K_j)_{rs} = K(x_r, x_s)$ with $x_s$ varying over the observations in group $j$.  Hence, we now find $\\alpha$ to maximize\n",
    "\n",
    "$$ J(\\alpha) = \\frac{\\alpha^T M \\alpha}{\\alpha^T N \\alpha} $$\n",
    "\n",
    "Notice that all the quantities are expressed in terms of the kernel.  Formally, the solution is $\\alpha = N^{-1}(M_0 - M_1)$.  However, $N$ might be non-invertible.  In this case, one replaces $N$ by $N + bI$ for some constant $b$.  Finally, the projection onto the new subspace can be written as\n",
    "\n",
    "$$ U = w^T \\phi(x) = \\sum_{i=1}^N \\alpha_i K(x_i, x) $$"
   ]
  },
  {
   "cell_type": "markdown",
   "metadata": {},
   "source": [
    "The support vector machine can be similarly kernelized.  We simply replace $\\langle X_i, X_j \\rangle$ with $K(X_i, X_j)$.  The hyperplane can be written as $\\hat{H}(X) = \\hat{\\alpha}_0 + \\sum_{i=1}^n \\hat{\\alpha}_i Y_i K(X, X_i)$."
   ]
  },
  {
   "cell_type": "markdown",
   "metadata": {},
   "source": [
    "### 23.11 Other Classifiers"
   ]
  },
  {
   "cell_type": "markdown",
   "metadata": {},
   "source": [
    "There are many other classifiers and space precludes a full discussion of them.  Let us briefly mention a few.\n",
    "\n",
    "The **k-nearest neighbors** classifier is very simple.  Given a point $x$, find the $k$ data points closest to $x$.  Classify $x$ using the majority vote of these $k$ neighbors.  Ties can be broken randomly; the parameter $k$ can be chosen by cross-validation.\n",
    "\n",
    "**Bagging** is a method for reducing the variability of a classifier.  It is most helpful for highly non-linear classifiers such as a tree.  We draw $B$ bootstrap samples from the data.  The $b$-th bootstrap sample yields a classifier $h_b$.  The final classifier is\n",
    "\n",
    "$$ \n",
    "\\hat{x} = \\begin{cases}\n",
    "1 & \\text{if } \\frac{1}{B} \\sum_{b=1}^B h_b(x) \\geq \\frac{1}{2} \\\\\n",
    "0 & \\text{otherwise}\n",
    "\\end{cases}\n",
    "$$\n",
    "\n",
    "**Boosting** is a method for starting with a simple classifier and gradually improving it by refitting the data giving higher weight to misclassified samples.  Suppose that $\\mathcal{H}$ is a collection of classifiers, for example, trees with only one split.  Assume that $Y_i \\in \\{ -1, 1 \\}$ and that each tree classifier $h$ is such that $h(x) \\in \\{ -1, 1 \\}$.  We usually give equal weight to all data points in the methods we have discussed.  But one can incorporate unequal weights quite easily in most algorithms.  For example, in constructing a tree, we could replace the impurity measure with a weighted impurity measure.  The original version of boosting, called AdaBoost, is as follows.\n",
    "\n",
    "1. Set the weights $w_i = 1 / n$, $i = 1, \\dots, n$.\n",
    "\n",
    "2. For $j = 1, \\dots, J$, do the following steps:\n",
    "\n",
    "    (a) Construct a classifier $h_J$ from the data using weights $w_1, \\dots, w_n$.\n",
    "    \n",
    "    (b) Compute the weighted error estimate:\n",
    "    \n",
    "    $$ \\hat{L}_j = \\frac{\\sum_{i=1}^n w_i I(Y_i \\neq h_j(X_i) }{\\sum_{i=1}^n w_i} $$\n",
    "    \n",
    "    (c) Let $\\alpha_j = \\log (( 1 - \\hat{L}_j) / \\hat{L}_j)$\n",
    "    \n",
    "    (d) Update the weights:\n",
    "    \n",
    "    $$ w_i \\leftarrow w_i e^{\\alpha_j I(Y_i \\neq h_j(X_i)} $$\n",
    "    \n",
    "3. The final classifier is\n",
    "\n",
    "    $$ \\hat{h}(x) = \\text{sign} \\left( \\sum_{j=1}^J \\alpha_j h_j(x) \\right) $$\n",
    "    \n",
    "There is an enormous literature trying to explain and improve on boosting.  Whereas bagging is a variance reduction technique,  boosting can be thought of as a bias reduction technique.  We starting with a simple -- and hence highly biased -- classifier, and we gradually reduce the bias.  The disadvantage of boosting is that the  final classifier is quite complicated."
   ]
  },
  {
   "cell_type": "markdown",
   "metadata": {},
   "source": [
    "### 23.13 Exercises"
   ]
  },
  {
   "cell_type": "markdown",
   "metadata": {},
   "source": [
    "**Exercise 23.13.1**.  Prove Theorem 23.5.\n",
    "\n",
    "The Bayes rule is optimal, that is, if $h$ is any classification rule then $L(h^*) \\leq L(h)$."
   ]
  },
  {
   "cell_type": "markdown",
   "metadata": {},
   "source": [
    "**Solution**.  We have:\n",
    "\n",
    "$$ \n",
    "L(h) - L(h^*) = \\mathbb{P}(h(X) \\neq Y) - \\mathbb{P}(h^*(X) \\neq Y) \n",
    "= \\int_\\mathcal{X} \\left( \\mathbb{P}(h(X) \\neq Y | X = x) - \\mathbb{P}(h^*(X) \\neq Y | X = x) \\right) d\\mathbb{P}_X(x)\n",
    "$$\n",
    "\n",
    "We will show that the integrand is non-negative,\n",
    "\n",
    "$$ \\mathbb{P}(h(X) \\neq Y | X = x) - \\mathbb{P}(h^*(X) \\neq Y | X = x) \\geq 0 $$\n",
    "\n",
    "For any classifier $h$,\n",
    "\n",
    "$$ \n",
    "\\begin{align}\n",
    "\\mathbb{P}(h(X) \\neq Y | X = x) &= \\mathbb{P}(h(X) = 0, Y = 1 | X = x) + \\mathbb{P}(h(X) = 1, Y = 0 | X = x) \\\\\n",
    "&= I(h(x) = 0) \\mathbb{P}(Y = 1 | X = x) + I(h(x) = 1) \\mathbb{P}(Y = 0 | X = x) \\\\\n",
    "&= I(h(x) = 0) r(x) + (1 - I(h(x) = 0)) (1 - r(x)) \\\\\n",
    "&= I(h(x) = 0) (2 r(x) - 1) + (1 - r(x))\n",
    "\\end{align}\n",
    "$$\n",
    "\n",
    "where $r(x) = \\mathbb{E}(Y | X = x)$.  We can then write:\n",
    "\n",
    "$$ \n",
    "\\begin{align}\n",
    "&\\mathbb{P}(h(X) \\neq Y | X = x) - \\mathbb{P}(h^*(X) \\neq Y | X = x) \\\\\n",
    "&= \\left(I(h(x) = 0) (2 r(x) - 1) + (1 - r(x)) \\right) - \\left(I(h^*(x) = 0) (2 r(x) - 1) + (1 - r(x)) \\right) \\\\\n",
    "&= (2 r(x) - 1) \\left( I(h(x) = 0) - I(h^*(x) = 0) \\right)\n",
    "\\end{align}\n",
    "$$\n",
    "\n",
    "Now:\n",
    "\n",
    "- If $h(x) = h^*(x)$, the second term in this product is 0, so the integrand is zero (and thus non-negative).\n",
    "- If $h(x) = 0$ and $h^*(x) = 1$, then $r(x) \\geq 1/2$, so the integrand is non-negative.\n",
    "- If $h(x)=  1$ and $h^*(x) = 0$, then $r(x) \\leq 1/2$, so the integrand is non-negative.\n",
    "\n",
    "Since the integrand is always non-negative, the integral is non-negative, and $L(h^*) \\leq L(h)$."
   ]
  },
  {
   "cell_type": "markdown",
   "metadata": {},
   "source": [
    "**Exercise 23.13.2**.  Prove Theorem 23.7.\n",
    "\n",
    "If $X | Y = 0 \\sim N(\\mu_0, \\Sigma_0)$ and $X | Y = 1 \\sim N(\\mu_1, \\Sigma_1)$, then the Bayes rule is\n",
    "\n",
    "$$\n",
    "h^*(x) = \\begin{cases}\n",
    "1 & \\text{if } r_1^2 < r_0^2 + 2 \\log \\left( \\frac{\\pi_1}{\\pi_0} \\right) + \\log \\left( \\frac{| \\Sigma_0 | }{ | \\Sigma_1| }\n",
    "\\right) \\\\\n",
    "0 & \\text{otherwise} \n",
    "\\end{cases}\n",
    "$$\n",
    "\n",
    "where\n",
    "\n",
    "$$ r_i^2 = (x - \\mu_i)^T \\Sigma_i^{-1}(x - \\mu_i), \\quad i = 1, 2 $$\n",
    "\n",
    "is the **Manalahobis distance**.  An equivalent way of expressing Bayes' rule is \n",
    "\n",
    "$$ h(x) = \\text{argmax}_k \\delta_k(x) $$\n",
    "\n",
    "where\n",
    "\n",
    "$$ \\delta_k(x) = -\\frac{1}{2} \\log | \\Sigma_k | - \\frac{1}{2} (x - \\mu_k)^T \\Sigma_k^{-1} (x - \\mu_k) + \\log \\pi_k $$\n",
    "\n",
    "and $|A|$ denotes the determinant of matrix $A$."
   ]
  },
  {
   "cell_type": "markdown",
   "metadata": {},
   "source": [
    "**Solution**.  The joint distribution of $X, Y$ is:\n",
    "\n",
    "$$\n",
    "\\begin{align}\n",
    "f_{X, Y}(x, y) &= f_{X | Y}(x | y) f_Y(y) \\\\\n",
    "&= \\sum_j \\left( (2 \\pi)^{k / 2} |\\Sigma_j|^{-1/2} \\exp \\left\\{ -\\frac{1}{2} (x - \\mu_j)^T \\Sigma_j^{-1} (x - \\mu_j) \\right\\} \\right) \\left( I(y = j) \\pi_j \\right)\n",
    "\\end{align}\n",
    "$$\n",
    "\n",
    "so the distribution of $Y | X$ is\n",
    "\n",
    "$$\n",
    "\\begin{align}\n",
    "f_{Y | X}(y | x) &= \\frac{f_{X, Y}(x, y)}{f_X(x)} = \\frac{f_{X, Y}(x, y)}{\\sum_{y_j} f_{X, Y}(x, y_j)} \\\\\n",
    "&= \\frac{\\sum_j I(y = j) \\pi_j (2 \\pi)^{k / 2} |\\Sigma_j|^{-1/2} \\exp \\left\\{ -\\frac{1}{2} (x - \\mu_j)^T \\Sigma_j^{-1} (x - \\mu_j) \\right\\}}{\\sum_j \\pi_j (2 \\pi)^{k / 2} |\\Sigma_j|^{-1/2} \\exp \\left\\{ -\\frac{1}{2} (x - \\mu_j)^T \\Sigma_j^{-1} (x - \\mu_j) \\right\\}} \\\\\n",
    "&= \\frac{\\sum_j I(y = j) \\pi_j |\\Sigma_j|^{-1/2} \\exp \\left\\{ -\\frac{1}{2} (x - \\mu_j)^T \\Sigma_j^{-1} (x - \\mu_j) \\right\\}}{\\sum_j \\pi_j |\\Sigma_j|^{-1/2} \\exp \\left\\{ -\\frac{1}{2} (x - \\mu_j)^T \\Sigma_j^{-1} (x - \\mu_j) \\right\\}}\n",
    "\\end{align}\n",
    "$$\n",
    "\n",
    "Let\n",
    "\n",
    "$$ a_j(x) = \\pi_j |\\Sigma_j|^{-1/2} \\exp \\left\\{ -\\frac{1}{2} (x - \\mu_j)^T \\Sigma_j^{-1} (x - \\mu_j) \\right\\} $$\n",
    "\n",
    "Then we can write:\n",
    "\n",
    "$$\n",
    "f_{Y | X}(y | x) = \\frac{a_y(x)}{a_0(x) + a_1(x)}\n",
    "$$\n",
    "\n",
    "Now,\n",
    "\n",
    "$$ r(x) = \\mathbb{E}[Y | X = x] = \\sum_{y \\in \\mathcal{Y}} y \\mathbb{P}(Y = y | X = x) = \\mathbb{P}(Y = 1 | X = x) = \\frac{a_1(x)}{a_0(x) + a_1(x)}$$\n",
    "\n",
    "so $r(x) > \\frac{1}{2}$ is equivalent to $a_1(x) > a_0(x)$, or\n",
    "\n",
    "$$\n",
    "\\begin{align}\n",
    "\\pi_1 |\\Sigma_1|^{-1/2} \\exp \\left\\{ -\\frac{1}{2} (x - \\mu_1)^T \\Sigma_1^{-1} (x - \\mu_1) \\right\\}\n",
    "&>\n",
    "\\pi_0 |\\Sigma_0|^{-1/2} \\exp \\left\\{ -\\frac{1}{2} (x - \\mu_1)^T \\Sigma_0^{-1} (x - \\mu_0) \\right\\} \\\\\n",
    "\\log \\pi_1 - \\frac{1}{2} \\log |\\Sigma_1| - \\frac{1}{2} r_1^2\n",
    "&>\n",
    "\\log \\pi_0 - \\frac{1}{2} \\log |\\Sigma_0| -\\frac{1}{2} r_0^2 \\\\\n",
    "r_1^2 &< r_0^2 + 2 \\log \\left( \\frac{\\pi_1}{\\pi_0} \\right) + \\log \\left( \\frac{| \\Sigma_0 | }{ | \\Sigma_1| }\n",
    "\\right)\n",
    "\\end{align}\n",
    "$$\n",
    "\n",
    "which is the desired result.  The inequalities above also show that the two formulations of the rule are equivalent."
   ]
  },
  {
   "cell_type": "markdown",
   "metadata": {},
   "source": [
    "**Exercise 23.13.3**.  Download the spam data from:\n",
    "\n",
    "http://www-stat.stanford.edu/~tibs/ElemStatLearn/index.htm\n",
    "\n",
    "The data file can also be found on the course web page. The data contain 57 covariates relating to email messages. Each email message was classified as spam (Y=1) or not spam (Y=0). The outcome Y is the last column in the file. The goal is to predict whether an email is spam or not.\n",
    "\n",
    "**(a)**  Construct classification rules using (i) LDA, (ii) QDA, (iii) logistic regression and (iv) a classification tree. For each, report the observed misclassification error rate and construct a 2-by-2 table of the form\n",
    "\n",
    "$$\n",
    "\\begin{array}{c|cc}\n",
    " & \\hat{h}(x) = 0 & \\hat{h}(x) = 1 \\\\\n",
    "\\hline\n",
    "Y = 0 \\\\\n",
    "Y = 1\n",
    "\\end{array}\n",
    "$$\n",
    "\n",
    "**(b)**  Use 5-fold cross-validation to estimate the prediction accuracy of LDA and logistic regression.\n",
    "\n",
    "**(c)**  Sometimes it helps to reduce the number of covariates. One strategy is to compare $X_i$ for the spam and email group.  For each of the 57 covariates, test whether the mean of the covariate is the same or different between the two groups.  Keep the 10 covariates with the smallest p-values. Try LDA and logistic regression using only these 10 variables."
   ]
  },
  {
   "cell_type": "markdown",
   "metadata": {},
   "source": [
    "**Solution**."
   ]
  },
  {
   "cell_type": "code",
   "execution_count": 3,
   "metadata": {},
   "outputs": [],
   "source": [
    "import numpy as np\n",
    "import pandas as pd\n",
    "\n",
    "data = pd.read_csv('data/spam.txt', header=None, delim_whitespace=True)\n",
    "X, Y = data.loc[:, data.columns != 57].to_numpy(), data.loc[:, 57].to_numpy()"
   ]
  },
  {
   "cell_type": "markdown",
   "metadata": {},
   "source": [
    "**(a)**"
   ]
  },
  {
   "cell_type": "code",
   "execution_count": 4,
   "metadata": {},
   "outputs": [],
   "source": [
    "def run_classifier(classifier, X, Y):\n",
    "    classifier.fit(X, Y)\n",
    "    Y_pred = classifier.predict(X)\n",
    "    n = len(Y)\n",
    "    \n",
    "    true_positives = np.sum((Y_pred == 1) & (Y == 1))\n",
    "    false_positives = np.sum((Y_pred == 1) & (Y == 0))\n",
    "    false_negatives = np.sum((Y_pred == 0) & (Y == 1))\n",
    "    true_negatives = np.sum((Y_pred == 0) & (Y == 0))\n",
    "\n",
    "    return {\n",
    "        'misclassification_rate': (false_positives + false_negatives) / n,\n",
    "        'confusion_matrix': np.array([[true_positives, false_positives], [false_negatives, true_negatives]])\n",
    "    }\n",
    "\n",
    "def print_results(classifier_name, results):\n",
    "    print('%s misclassification rate: %.3f' % (classifier_name, results['misclassification_rate']))\n",
    "    print('%s confusion matrix:' % classifier_name)\n",
    "    print(results['confusion_matrix'])"
   ]
  },
  {
   "cell_type": "code",
   "execution_count": 5,
   "metadata": {},
   "outputs": [
    {
     "name": "stdout",
     "output_type": "stream",
     "text": [
      "LDA misclassification rate: 0.111\n",
      "LDA confusion matrix:\n",
      "[[1426  125]\n",
      " [ 387 2663]]\n"
     ]
    }
   ],
   "source": [
    "from sklearn.discriminant_analysis import LinearDiscriminantAnalysis\n",
    "\n",
    "classifier_name = 'LDA'\n",
    "classifier = LinearDiscriminantAnalysis()\n",
    "results = run_classifier(classifier, X, Y)\n",
    "print_results(classifier_name, results)"
   ]
  },
  {
   "cell_type": "code",
   "execution_count": 6,
   "metadata": {},
   "outputs": [
    {
     "name": "stdout",
     "output_type": "stream",
     "text": [
      "QDA misclassification rate: 0.167\n",
      "QDA confusion matrix:\n",
      "[[1731  687]\n",
      " [  82 2101]]\n"
     ]
    }
   ],
   "source": [
    "from sklearn.discriminant_analysis import QuadraticDiscriminantAnalysis\n",
    "\n",
    "classifier_name = 'QDA'\n",
    "classifier = QuadraticDiscriminantAnalysis()\n",
    "results = run_classifier(classifier, X, Y)\n",
    "print_results(classifier_name, results)"
   ]
  },
  {
   "cell_type": "code",
   "execution_count": 7,
   "metadata": {},
   "outputs": [
    {
     "name": "stdout",
     "output_type": "stream",
     "text": [
      "Logistic Regression misclassification rate: 0.068\n",
      "Logistic Regression confusion matrix:\n",
      "[[1623  122]\n",
      " [ 190 2666]]\n"
     ]
    }
   ],
   "source": [
    "from sklearn.linear_model import LogisticRegression\n",
    "\n",
    "classifier_name = 'Logistic Regression'\n",
    "classifier = LogisticRegression(max_iter=2000, random_state=0)\n",
    "results = run_classifier(classifier, X, Y)\n",
    "print_results(classifier_name, results)"
   ]
  },
  {
   "cell_type": "code",
   "execution_count": 8,
   "metadata": {},
   "outputs": [
    {
     "name": "stdout",
     "output_type": "stream",
     "text": [
      "Decision Tree Classifier misclassification rate: 0.001\n",
      "Decision Tree Classifier confusion matrix:\n",
      "[[1810    0]\n",
      " [   3 2788]]\n"
     ]
    }
   ],
   "source": [
    "from sklearn.tree import DecisionTreeClassifier\n",
    "\n",
    "classifier_name = 'Decision Tree Classifier'\n",
    "classifier = DecisionTreeClassifier(random_state=0)\n",
    "results = run_classifier(classifier, X, Y)\n",
    "print_results(classifier_name, results)"
   ]
  },
  {
   "cell_type": "markdown",
   "metadata": {},
   "source": [
    "**(b)**"
   ]
  },
  {
   "cell_type": "code",
   "execution_count": 9,
   "metadata": {},
   "outputs": [],
   "source": [
    "from sklearn.model_selection import KFold\n",
    "\n",
    "def run_classifier_kfold(classifier, X, Y, n_splits=5):\n",
    "    kf = KFold(n_splits=n_splits, shuffle=False)\n",
    "    accuracy = np.empty(n_splits)\n",
    "    for i, (train_index, test_index) in enumerate(kf.split(X)):\n",
    "        classifier.fit(X[train_index], Y[train_index])\n",
    "        Y_pred = classifier.predict(X[test_index])\n",
    "        accuracy[i] = np.sum(Y_pred == Y[test_index]) / len(Y_pred)\n",
    "    \n",
    "    return accuracy.mean()"
   ]
  },
  {
   "cell_type": "code",
   "execution_count": 10,
   "metadata": {},
   "outputs": [
    {
     "name": "stdout",
     "output_type": "stream",
     "text": [
      "LDA accuracy (5-fold): 0.816\n"
     ]
    }
   ],
   "source": [
    "classifier_name = 'LDA'\n",
    "classifier = LinearDiscriminantAnalysis()\n",
    "\n",
    "accuracy = run_classifier_kfold(classifier, X, Y, n_splits=5)\n",
    "\n",
    "print('%s accuracy (5-fold): %.3f' % (classifier_name, accuracy))"
   ]
  },
  {
   "cell_type": "code",
   "execution_count": 11,
   "metadata": {},
   "outputs": [
    {
     "name": "stdout",
     "output_type": "stream",
     "text": [
      "Logistic Regression accuracy (5-fold): 0.859\n"
     ]
    }
   ],
   "source": [
    "classifier_name = 'Logistic Regression'\n",
    "classifier = LogisticRegression(max_iter=2000, random_state=0)\n",
    "\n",
    "accuracy = run_classifier_kfold(classifier, X, Y, n_splits=5)\n",
    "\n",
    "print('%s accuracy (5-fold): %.3f' % (classifier_name, accuracy))"
   ]
  },
  {
   "cell_type": "markdown",
   "metadata": {},
   "source": [
    "**(c)**"
   ]
  },
  {
   "cell_type": "code",
   "execution_count": 12,
   "metadata": {},
   "outputs": [],
   "source": [
    "from scipy.stats import ttest_ind\n",
    "\n",
    "X0 = X[Y == 0]\n",
    "X1 = X[Y == 1]\n",
    "\n",
    "num_features = X.shape[1]\n",
    "num_selected = 10\n",
    "\n",
    "pvalues = np.empty(num_features)\n",
    "\n",
    "for k in range(num_features):\n",
    "    _, pvalues[k] = ttest_ind(X0[:, k], X1[:, k])\n",
    "    \n",
    "selected_features = np.argpartition(pvalues, num_selected)[:num_selected]\n",
    "\n",
    "X_filtered = X[:, selected_features]"
   ]
  },
  {
   "cell_type": "code",
   "execution_count": 13,
   "metadata": {},
   "outputs": [
    {
     "name": "stdout",
     "output_type": "stream",
     "text": [
      "LDA misclassification rate: 0.159\n",
      "LDA confusion matrix:\n",
      "[[1229  149]\n",
      " [ 584 2639]]\n"
     ]
    }
   ],
   "source": [
    "from sklearn.discriminant_analysis import LinearDiscriminantAnalysis\n",
    "\n",
    "classifier_name = 'LDA'\n",
    "classifier = LinearDiscriminantAnalysis()\n",
    "results = run_classifier(classifier, X_filtered, Y)\n",
    "print_results(classifier_name, results)"
   ]
  },
  {
   "cell_type": "code",
   "execution_count": 14,
   "metadata": {},
   "outputs": [
    {
     "name": "stdout",
     "output_type": "stream",
     "text": [
      "Logistic Regression misclassification rate: 0.121\n",
      "Logistic Regression confusion matrix:\n",
      "[[1413  156]\n",
      " [ 400 2632]]\n"
     ]
    }
   ],
   "source": [
    "from sklearn.linear_model import LogisticRegression\n",
    "\n",
    "classifier_name = 'Logistic Regression'\n",
    "classifier = LogisticRegression(max_iter=2000, random_state=0)\n",
    "results = run_classifier(classifier, X_filtered, Y)\n",
    "print_results(classifier_name, results)"
   ]
  },
  {
   "cell_type": "code",
   "execution_count": 15,
   "metadata": {},
   "outputs": [
    {
     "name": "stdout",
     "output_type": "stream",
     "text": [
      "LDA accuracy (5-fold): 0.780\n"
     ]
    }
   ],
   "source": [
    "classifier_name = 'LDA'\n",
    "classifier = LinearDiscriminantAnalysis()\n",
    "\n",
    "accuracy = run_classifier_kfold(classifier, X_filtered, Y, n_splits=5)\n",
    "\n",
    "print('%s accuracy (5-fold): %.3f' % (classifier_name, accuracy))"
   ]
  },
  {
   "cell_type": "code",
   "execution_count": 16,
   "metadata": {},
   "outputs": [
    {
     "name": "stdout",
     "output_type": "stream",
     "text": [
      "Logistic Regression accuracy (5-fold): 0.817\n"
     ]
    }
   ],
   "source": [
    "classifier_name = 'Logistic Regression'\n",
    "classifier = LogisticRegression(max_iter=2000, random_state=0)\n",
    "\n",
    "accuracy = run_classifier_kfold(classifier, X_filtered, Y, n_splits=5)\n",
    "\n",
    "print('%s accuracy (5-fold): %.3f' % (classifier_name, accuracy))"
   ]
  },
  {
   "cell_type": "markdown",
   "metadata": {},
   "source": [
    "**Exercise 23.13.4**.  Let $\\mathcal{A}$ be the set of two-dimensional spheres.  That is, $A \\in \\mathcal{A}$ if $A = \\{ (x, y) : (x - a)^2 + (y - b)^2 \\leq c \\}$ for some $a, b, c$.  Find the VC dimension of $\\mathcal{A}$."
   ]
  },
  {
   "cell_type": "markdown",
   "metadata": {},
   "source": [
    "**Solution**.  The VC dimension is 3.\n",
    "\n",
    "Note that $\\mathcal{A}$ shatters any set of 3 non-collinear points in a plane:\n",
    "\n",
    "- A sufficiently small circle centered at any point will select just it, so we can always separate sets of size 1.\n",
    "- For separating a set of size 2, consider all circles with center $C$ equidistant from points $X$ and $Y$, on the half plane that does not contain $Z$.  Any circle with radius $r$ such that $|CZ| > r > |CX| = |CY|$ will separate $\\{ X, Y \\}$ from $Z$.  Note that for sufficiently far away center $C$ this will be the case, since $|CX| = |CY|$ converges monotonically to $|C\\overline{X}|$ and $|CZ|$ converges monotonically to $|C\\overline{Z}|$, where $\\overline{Q}$ is the projection of point $Q$ on the line containing the centers / the line equidistant from $X$ and $Y$.  Since $|C\\overline{X}| < |C\\overline{Z}|$, such circles must exist.\n",
    "\n",
    "For 4 points, note that:\n",
    "\n",
    "- If the 4 points are not in a convex hull, they cannot be shattered by $\\mathcal{A}$: any circle containing the 3 outermost points will need to contain all points inside the triangle set by them, so it will also need to contain the fourth point.\n",
    "- If the 4 points are in a convex hull, they form a convex quadrilateral.  Let the points be $X, Y, Z, W$, and assume without loss of generality that $\\angle X + \\angle Z \\leq 180^\\circ$.  Note that there is no circle that contains $X, Z$ but not $Y$ nor $W$: we can reduce the radius of the circle and shift its center until $X$ and $Y$ are on its circumference.  Assuming that both $Y$ and $W$ are outside of the circle implies that $\\angle Y + \\angle W < 180^\\circ$, which is a contradiction with the quadrilateral being convex.\n",
    "\n",
    "Yet another argument can be build based on the fact that the VC dimension of half-planes is also 3:  Assume there is a set of 4 points $U$ that can be shattered by circles.  Then for any set $S \\subset U$, there exists a circle $C$ such that $C \\cap U = S$ and a circle $C'$ such that $C' \\cap U = U \\setminus S$.  Therefore, $C \\cap C'$ contains no points of $U$.   If $C \\cap C' = \\emptyset$, $C$ and $C'$ can be separated by a line.  Otherwise, there is a line that passes through the intersection of $C$ and $C'$, and it separates $S$ from $U \\setminus S$.  This implies that $U$ can be shattered by half-planes, a contradiction.\n",
    "\n",
    "Reference for second argument: https://cstheory.stackexchange.com/a/11089  (applied to spheres and half-spaces in $\\mathbb{R}^3$, instead of circles and half-planes in $\\mathbb{R}^2$)"
   ]
  },
  {
   "cell_type": "markdown",
   "metadata": {},
   "source": [
    "**Exercise 23.13.5**.  Classify the spam data using support vector machines.\n",
    "\n",
    "*(instructions on using SVM software for R omitted)*"
   ]
  },
  {
   "cell_type": "markdown",
   "metadata": {},
   "source": [
    "**Solution**."
   ]
  },
  {
   "cell_type": "code",
   "execution_count": 17,
   "metadata": {},
   "outputs": [],
   "source": [
    "import numpy as np\n",
    "import pandas as pd\n",
    "\n",
    "data = pd.read_csv('data/spam.txt', header=None, delim_whitespace=True)\n",
    "X, Y = data.loc[:, data.columns != 57].to_numpy(), data.loc[:, 57].to_numpy()"
   ]
  },
  {
   "cell_type": "code",
   "execution_count": 18,
   "metadata": {},
   "outputs": [],
   "source": [
    "def run_classifier(classifier, X, Y):\n",
    "    classifier.fit(X, Y)\n",
    "    Y_pred = classifier.predict(X)\n",
    "    n = len(Y)\n",
    "    \n",
    "    true_positives = np.sum((Y_pred == 1) & (Y == 1))\n",
    "    false_positives = np.sum((Y_pred == 1) & (Y == 0))\n",
    "    false_negatives = np.sum((Y_pred == 0) & (Y == 1))\n",
    "    true_negatives = np.sum((Y_pred == 0) & (Y == 0))\n",
    "\n",
    "    return {\n",
    "        'misclassification_rate': (false_positives + false_negatives) / n,\n",
    "        'confusion_matrix': np.array([[true_positives, false_positives], [false_negatives, true_negatives]])\n",
    "    }\n",
    "\n",
    "def print_results(classifier_name, results):\n",
    "    print('%s misclassification rate: %.3f' % (classifier_name, results['misclassification_rate']))\n",
    "    print('%s confusion matrix:' % classifier_name)\n",
    "    print(results['confusion_matrix'])"
   ]
  },
  {
   "cell_type": "code",
   "execution_count": 19,
   "metadata": {},
   "outputs": [
    {
     "name": "stdout",
     "output_type": "stream",
     "text": [
      "SVC misclassification rate: 0.073\n",
      "SVC confusion matrix:\n",
      "[[1603  124]\n",
      " [ 210 2664]]\n"
     ]
    }
   ],
   "source": [
    "from sklearn.svm import LinearSVC\n",
    "from sklearn.preprocessing import StandardScaler\n",
    "\n",
    "classifier_name = 'SVC'\n",
    "classifier = LinearSVC(max_iter=100000, random_state=0)\n",
    "results = run_classifier(classifier, StandardScaler().fit_transform(X), Y)\n",
    "print_results(classifier_name, results)"
   ]
  },
  {
   "cell_type": "markdown",
   "metadata": {},
   "source": [
    "**Exercise 23.13.6**.  Use VC theory to get a confidence interval on the true error rate of the LDA classifier in question 3.  Suppose that the covariate $X = (X_1, \\dots, X_d)$ has $d$ dimensions.  Assume that each variable has a continuous distribution."
   ]
  },
  {
   "cell_type": "markdown",
   "metadata": {},
   "source": [
    "**Solution**.  Using Theorem 23.19, a $1 - \\alpha$ confidence interval for $L(\\hat{h})$ is $\\hat{L}_n(\\hat{h}) \\pm \\epsilon_n$ where\n",
    "\n",
    "$$ \\epsilon_n^2 = \\frac{32}{n} \\log \\left( \\frac{8 s(\\mathcal{H}, n)}{\\alpha} \\right) $$\n",
    "\n",
    "From theorem 23.21, and assuming the VC dimension is $v = d$,\n",
    "\n",
    "$$ s(\\mathcal{H}, n) \\leq n^d + 1 $$\n",
    "\n",
    "This gives us\n",
    "\n",
    "$$ \\epsilon_n^2 \\leq \\frac{32}{n} \\log \\left( \\frac{8 (n^d + 1)}{\\alpha} \\right) \\approx \\frac{32}{n} \\left( \\log \\left( \\frac{8}{\\alpha} \\right) + d \\log n\\right) $$"
   ]
  },
  {
   "cell_type": "code",
   "execution_count": 20,
   "metadata": {},
   "outputs": [],
   "source": [
    "import numpy as np\n",
    "import pandas as pd\n",
    "\n",
    "data = pd.read_csv('data/spam.txt', header=None, delim_whitespace=True)\n",
    "X, Y = data.loc[:, data.columns != 57].to_numpy(), data.loc[:, 57].to_numpy()"
   ]
  },
  {
   "cell_type": "code",
   "execution_count": 21,
   "metadata": {},
   "outputs": [],
   "source": [
    "n, d = X.shape\n",
    "alpha = 0.05"
   ]
  },
  {
   "cell_type": "code",
   "execution_count": 22,
   "metadata": {},
   "outputs": [
    {
     "name": "stdout",
     "output_type": "stream",
     "text": [
      "1.8381639894860362\n"
     ]
    }
   ],
   "source": [
    "epsilon = np.sqrt((np.log(8 / alpha) + d * np.log(n)) * 32 / n)\n",
    "print(epsilon)"
   ]
  },
  {
   "cell_type": "markdown",
   "metadata": {},
   "source": [
    "... which is as large as to be useless, since we already know that the loss function is bound between 0 and 1.\n",
    "\n",
    "If instead we limit ourselves to only 10 dimensions,"
   ]
  },
  {
   "cell_type": "code",
   "execution_count": 23,
   "metadata": {},
   "outputs": [
    {
     "name": "stdout",
     "output_type": "stream",
     "text": [
      "0.7885971226771238\n"
     ]
    }
   ],
   "source": [
    "epsilon = np.sqrt((np.log(8 / alpha) + 10 * np.log(n)) * 32 / n)\n",
    "print(epsilon)"
   ]
  },
  {
   "cell_type": "markdown",
   "metadata": {},
   "source": [
    "... which is still rather large, but at least it doesn't cover the whole interval.  Given the initial error rate estimate of $L(\\hat{h}) = 0.159$, this gives a 95% confidence interval of $[0, .947)$."
   ]
  },
  {
   "cell_type": "markdown",
   "metadata": {},
   "source": [
    "**Exercise 23.13.7**.  Suppose that $X_i \\in \\mathbb{R}$ and that $Y_i = 1$ whenever $|X_i| \\leq 1$ and $Y_i = 0$ whenever $|X_i| > 1$.  Show that no linear classifier can perfectly classify these data.  Show that the kernelized data $Z_i = (X_i, X_i^2)$ can be linearly separated."
   ]
  },
  {
   "cell_type": "markdown",
   "metadata": {},
   "source": [
    "**Solution**.  No linear classifier can perfectly classify this data; any linear classifier in 1 dimension will be of the form $h(x) = I(x \\geq c)$,  $h(x) = I(x > c)$, $h(x) = I(x \\leq c)$, or $h(x) = I(x < c)$ for some constant $c$.  Therefore, whenever $|X_i| > \\max \\{ 1, c \\}$, $Y_i = 1$, but the classifier will necessarily mark the positive and the negative $X_i$s with distinct labels.\n",
    "\n",
    "The kernelized data can be trivially separated:  use $h(x_1, x_2) = I(x_2 \\leq 1)$.  Due to the mapping $\\phi(x) = (x,  x^2)$, $x_2 = x^2$, so $|X_i| \\leq 1$ if and only if $Z_{i2} = X_i^2 \\leq 1$."
   ]
  },
  {
   "cell_type": "markdown",
   "metadata": {},
   "source": [
    "**Exercise 23.13.8**.  Repeat question 5 using the kernel $K(x, \\tilde{x}) = (1 + x^T\\tilde{x})^p$.  Choose $p$ by cross-validation."
   ]
  },
  {
   "cell_type": "markdown",
   "metadata": {},
   "source": [
    "**Solution**."
   ]
  },
  {
   "cell_type": "code",
   "execution_count": 24,
   "metadata": {},
   "outputs": [],
   "source": [
    "import numpy as np\n",
    "import pandas as pd\n",
    "\n",
    "data = pd.read_csv('data/spam.txt', header=None, delim_whitespace=True)\n",
    "X, Y = data.loc[:, data.columns != 57].to_numpy(), data.loc[:, 57].to_numpy()"
   ]
  },
  {
   "cell_type": "code",
   "execution_count": 25,
   "metadata": {},
   "outputs": [],
   "source": [
    "from sklearn.model_selection import KFold\n",
    "\n",
    "def run_classifier_kfold(classifier, X, Y, n_splits=5):\n",
    "    kf = KFold(n_splits=n_splits, shuffle=False)\n",
    "    accuracy = np.empty(n_splits)\n",
    "    for i, (train_index, test_index) in enumerate(kf.split(X)):\n",
    "        classifier.fit(X[train_index], Y[train_index])\n",
    "        Y_pred = classifier.predict(X[test_index])\n",
    "        accuracy[i] = np.sum(Y_pred == Y[test_index]) / len(Y_pred)\n",
    "    \n",
    "    return accuracy.mean()"
   ]
  },
  {
   "cell_type": "code",
   "execution_count": 26,
   "metadata": {},
   "outputs": [],
   "source": [
    "# Custom kernel, K(x, y) = (1 + x^T y)^p\n",
    "def p_kernel(p):\n",
    "    def f(x, y):\n",
    "        # Help numpy handle fractional powers for negative numbers\n",
    "        a = (1 + x @ y.T)\n",
    "        return np.sign(a) * (np.abs(a))**p\n",
    "        \n",
    "    return f"
   ]
  },
  {
   "cell_type": "code",
   "execution_count": 27,
   "metadata": {},
   "outputs": [],
   "source": [
    "from sklearn.svm import SVC\n",
    "from sklearn.preprocessing import StandardScaler\n",
    "\n",
    "# Pre-scale data to assist SVC\n",
    "X_scaled = StandardScaler().fit_transform(X)\n",
    "\n",
    "# Compute accuracy based on cross-validation for a given p\n",
    "def get_accuracy(p):\n",
    "    classifier = SVC(kernel=p_kernel(p), max_iter=1000000, random_state=0)\n",
    "    return run_classifier_kfold(classifier, X_scaled, Y, n_splits=5)"
   ]
  },
  {
   "cell_type": "code",
   "execution_count": 28,
   "metadata": {},
   "outputs": [
    {
     "data": {
      "application/vnd.jupyter.widget-view+json": {
       "model_id": "15db3679bfe84247af7fc122a4b76bb1",
       "version_major": 2,
       "version_minor": 0
      },
      "text/plain": [
       "HBox(children=(IntProgress(value=0, max=61), HTML(value='')))"
      ]
     },
     "metadata": {},
     "output_type": "display_data"
    },
    {
     "name": "stdout",
     "output_type": "stream",
     "text": [
      "\n"
     ]
    }
   ],
   "source": [
    "from tqdm import tqdm_notebook\n",
    "\n",
    "accuracy_results = {}\n",
    "\n",
    "step = 0.1\n",
    "for p in tqdm_notebook(np.arange(-3, 3 + step, step=step)):\n",
    "    accuracy_results[p] = get_accuracy(p)\n",
    "    \n",
    "accuracy_results = np.array([(a, b) for a, b in accuracy_results.items()]).T"
   ]
  },
  {
   "cell_type": "code",
   "execution_count": 29,
   "metadata": {},
   "outputs": [
    {
     "data": {
      "image/png": "[encoded data removed]",
      "text/plain": [
       "<Figure size 864x576 with 1 Axes>"
      ]
     },
     "metadata": {
      "needs_background": "light"
     },
     "output_type": "display_data"
    },
    {
     "name": "stdout",
     "output_type": "stream",
     "text": [
      "Selected hyperparameter p: 1.0\n",
      "Cross-validation accuracy: 0.869\n"
     ]
    }
   ],
   "source": [
    "import matplotlib.pyplot as plt\n",
    "%matplotlib inline\n",
    "\n",
    "plt.figure(figsize=(12, 8))\n",
    "plt.plot(accuracy_results[0], accuracy_results[1])\n",
    "plt.xlabel('p')\n",
    "plt.ylabel('Accuracy')\n",
    "plt.show()\n",
    "\n",
    "selected_index = np.argmax(accuracy_results[1])\n",
    "selected_p = accuracy_results[0, selected_index]\n",
    "selected_accuracy = accuracy_results[1, selected_index]\n",
    "print('Selected hyperparameter p: %.1f' % selected_p)\n",
    "print('Cross-validation accuracy: %.3f' % selected_accuracy)"
   ]
  },
  {
   "cell_type": "markdown",
   "metadata": {},
   "source": [
    "**Exercise 23.13.9**.  Apply the $k$-nearest neighbors classifier to the \"iris data\".  Get the data in R from the command `data(iris)`.  Choose k by cross-validation."
   ]
  },
  {
   "cell_type": "markdown",
   "metadata": {},
   "source": [
    "**Solution**."
   ]
  },
  {
   "cell_type": "code",
   "execution_count": 30,
   "metadata": {},
   "outputs": [],
   "source": [
    "# Load data from Python scikit-learn\n",
    "from sklearn import datasets\n",
    "\n",
    "iris = datasets.load_iris()\n",
    "X, Y = iris.data, iris.target"
   ]
  },
  {
   "cell_type": "code",
   "execution_count": 31,
   "metadata": {},
   "outputs": [],
   "source": [
    "from sklearn.model_selection import KFold\n",
    "\n",
    "def run_classifier_kfold(classifier, X, Y, n_splits=5):\n",
    "    kf = KFold(n_splits=n_splits, shuffle=False)\n",
    "    accuracy = np.empty(n_splits)\n",
    "    for i, (train_index, test_index) in enumerate(kf.split(X)):\n",
    "        classifier.fit(X[train_index], Y[train_index])\n",
    "        Y_pred = classifier.predict(X[test_index])\n",
    "        accuracy[i] = np.sum(Y_pred == Y[test_index]) / len(Y_pred)\n",
    "    \n",
    "    return accuracy.mean()"
   ]
  },
  {
   "cell_type": "code",
   "execution_count": 32,
   "metadata": {},
   "outputs": [],
   "source": [
    "from sklearn.neighbors import KNeighborsClassifier\n",
    "from sklearn.preprocessing import StandardScaler\n",
    "\n",
    "# Pre-scale data to assist classifier\n",
    "X_scaled = StandardScaler().fit_transform(X)\n",
    "\n",
    "# Compute accuracy based on cross-validation for a given p\n",
    "def get_accuracy(k):\n",
    "    classifier = KNeighborsClassifier(n_neighbors=k)\n",
    "    return run_classifier_kfold(classifier, X_scaled, Y, n_splits=5)"
   ]
  },
  {
   "cell_type": "code",
   "execution_count": 33,
   "metadata": {},
   "outputs": [
    {
     "data": {
      "application/vnd.jupyter.widget-view+json": {
       "model_id": "ba0912e3499b428aa1df3cdf4496e5a5",
       "version_major": 2,
       "version_minor": 0
      },
      "text/plain": [
       "HBox(children=(IntProgress(value=0, max=120), HTML(value='')))"
      ]
     },
     "metadata": {},
     "output_type": "display_data"
    },
    {
     "name": "stdout",
     "output_type": "stream",
     "text": [
      "\n"
     ]
    }
   ],
   "source": [
    "from tqdm import tqdm_notebook\n",
    "\n",
    "accuracy_results = {}\n",
    "\n",
    "for k in tqdm_notebook(range(1, 121)):\n",
    "    accuracy_results[k] = get_accuracy(k)\n",
    "    \n",
    "accuracy_results = np.array([(a, b) for a, b in accuracy_results.items()]).T"
   ]
  },
  {
   "cell_type": "code",
   "execution_count": 34,
   "metadata": {},
   "outputs": [
    {
     "data": {
      "image/png": "[encoded data removed]",
      "text/plain": [
       "<Figure size 864x576 with 1 Axes>"
      ]
     },
     "metadata": {
      "needs_background": "light"
     },
     "output_type": "display_data"
    },
    {
     "name": "stdout",
     "output_type": "stream",
     "text": [
      "Selected hyperparameter k: 1\n",
      "Cross-validation accuracy: 0.913\n"
     ]
    }
   ],
   "source": [
    "import matplotlib.pyplot as plt\n",
    "%matplotlib inline\n",
    "\n",
    "plt.figure(figsize=(12, 8))\n",
    "plt.plot(accuracy_results[0], accuracy_results[1])\n",
    "plt.xlabel('k')\n",
    "plt.ylabel('Accuracy')\n",
    "plt.show()\n",
    "\n",
    "selected_index = np.argmax(accuracy_results[1])\n",
    "selected_k = accuracy_results[0, selected_index]\n",
    "selected_accuracy = accuracy_results[1, selected_index]\n",
    "print('Selected hyperparameter k: %i' % selected_k)\n",
    "print('Cross-validation accuracy: %.3f' % selected_accuracy)"
   ]
  },
  {
   "cell_type": "markdown",
   "metadata": {},
   "source": [
    "**Exercise 21.13.10  (Curse of Dimensionality)**.  Suppose that $X$ has a uniform distribution on the $d$-dimensional cube $[-1/2, 1/2]^d$.  Let $R$ be the distance from the origin to the closest neighbor.  Show that the median of $R$ is\n",
    "\n",
    "$$ \\left( \\frac{1 - \\left(\\frac{1}{2}\\right)^{1/n}}{v_d(1)} \\right)^{1/d}$$\n",
    "\n",
    "where\n",
    "\n",
    "$$ v_d(r) = r^d \\frac{\\pi^{d/2}}{\\Gamma((d/2) + 1)} $$\n",
    "\n",
    "is the volume of a sphere of radius $r$.  When does $R$ exceed the edge of the cube when $n = 100, 1000, 10000$?"
   ]
  },
  {
   "cell_type": "markdown",
   "metadata": {},
   "source": [
    "**Solution**.\n",
    "\n",
    "The probability that $R$ is greater than or equal to some variable $x$ is the probability that all $X_i$ are at a distance greater than to $x$ from the origin,\n",
    "\n",
    "$$\n",
    "\\begin{align}\n",
    "\\mathbb{P}(R > x) &= \\mathbb{P}(\\{ d(X_i, 0) > x : i = 1, \\dots, n \\}) \\\\\n",
    "&= \\prod_{i=1}^n \\mathbb{P}( d(X_i, 0) > x  ) \\\\\n",
    "&= \\prod_{i=1}^n \\mathbb{P}\\left( \\sum_{j=1}^d X_{ij}^2 > x^2  \\right) \\\\\n",
    "&= \\prod_{i=1}^n \\int \\int \\dots \\int I \\left( \\sum_{j=1}^d x_{ij}^2 > x^2 \\right) dx_{i1} dx_{i2} \\dots dx_{id} \\\\\n",
    "&= \\prod_{i=1}^n (1 - v_d(x)) \\\\\n",
    "&= \\left(1 - v_d(1) x^d\\right)^n\n",
    "\\end{align}\n",
    "$$\n",
    "\n",
    "since the integral above represents the area in the $d$-dimensional cube outside of the hypersphere of radius $x$ centered in the origin, and the $d$-sphere of radius $x$ has volume $v_d(x) = v_d(1) x^d$.\n",
    "\n",
    "This means that the cumulative distribution function for $R$ is \n",
    "\n",
    "$$F(x) = \\mathbb{P}(R \\leq x) = 1 - \\mathbb{P}(R > x) = 1 - \\left(1 - v_d(1) x^d\\right)^n$$\n",
    "\n",
    "The inverse cumulative distribution function, then, is obtained by replacing $F(x) = y$ and solving for $x = F^{-1}(y)$:\n",
    "\n",
    "$$ F^{-1}(y) = \\left( \\frac{1 - (1 - y)^{1/n}}{v_d(1)} \\right)^{1/d} $$\n",
    "\n",
    "The median value is $F^{-1}(1/2)$, so the result follows,\n",
    "\n",
    "$$ F^{-1}\\left( \\frac{1}{2} \\right) = \\left( \\frac{1 - \\left( \\frac{1}{2} \\right)^{1/n}}{v_d(1)} \\right)^{1/d}$$"
   ]
  },
  {
   "cell_type": "markdown",
   "metadata": {},
   "source": [
    "Let's also provide a proof for the volume formula, and for the surface area formula (below). \n",
    "\n",
    "$$ a_d(r) = r^d \\frac{2 \\pi^{(d + 1)/2}}{\\Gamma \\left( \\frac{d + 1}{2}\\right)}  $$\n",
    "\n",
    "Multiple proofs are available at https://en.wikipedia.org/wiki/Volume_of_an_n-ball; in keeping with the theme of this book, let's follow the proof using Gaussian integers.\n",
    "\n",
    "Consider the density function in $d$ dimensions:\n",
    "\n",
    "$$ f(x_1, \\dots, x_d) = \\exp \\left\\{ -\\frac{1}{2} \\sum_{i=1}^d x_i^2 \\right\\} $$\n",
    "\n",
    "This density function is proportional to the probability density function of a multivariate Gaussian $N(0, I_d)$ by a factor of $(2 \\pi)^{d/2}$ and a PDF integrates to 1, so its volume integral is\n",
    "\n",
    "$$ \\int_{\\mathbb{R}^d} f dV = (2 \\pi)^{d/2}$$\n",
    "\n",
    "Computing the same integral in spherical coordinates, on the $\\mathbb{S}^{d - 1}$ sphere of $d - 1$ dimensions,\n",
    "\n",
    "$$ \\int_{\\mathbb{R}^d} f dV = \\int_0^\\infty \\int_{\\mathbb{S}^{d - 1}} \\exp \\left\\{ -\\frac{1}{2} r^2 \\right\\} dA dr $$\n",
    "\n",
    "Using the fact that the surface area is proportional to the radius to the power of the dimension of its space,  $a_{d-1}(r) = a_{d-1}(1) r^{d-1}$, we get:\n",
    "\n",
    "$$ a_{d-1}(1) \\int_0^\\infty \\exp \\left\\{ -\\frac{1}{2} r^2 \\right\\} r^{d - 1} dr $$\n",
    "\n",
    "Replacing $t = r^2 / 2$ to clean up the exponent, we end up with\n",
    "\n",
    "$$ a_{d-1}(1) 2^{\\frac{d}{2} - 1} \\int_0^\\infty t^{\\frac{d}{2} - 1} e^{-t}  dt = a_{d-1}(1) 2^{\\frac{d}{2} - 1} \\Gamma \\left( \\frac{d}{2} \\right)$$\n",
    "\n",
    "Therefore, equating this to $(2 \\pi)^{d/2}$, we prove the area formula for radius 1 and dimension $d - 1$, from which the formula above for the area follows:\n",
    "\n",
    "$$ a_{d - 1}(1) = \\frac{2 \\pi^{d/2}}{\\Gamma \\left( \\frac{d}{2}\\right)} \\Longrightarrow a_d(r) = r^d \\frac{2 \\pi^{(d + 1)/2}}{\\Gamma \\left( \\frac{d + 1}{2}\\right)} $$\n",
    "\n",
    "Now, to get the volume for the $d$-dimensional ball, we integrate the surface area of dimension $d-1$ and radius $R$, and use that $\\Gamma(z + 1) = z \\Gamma(z)$:\n",
    "\n",
    "$$ v_d(R) = \\int_0^R a_{d-1}(r) dr = \\int_0^R \\frac{2 \\pi^{d/2}}{\\Gamma \\left( \\frac{d}{2}\\right)} r^{d - 1} dr = R^d \\frac{2 \\pi^{d / 2}}{d \\Gamma \\left( \\frac{d}{2} \\right) } = R^d \\frac{\\pi^{d/2}}{\\Gamma\\left(\\frac{d}{2} + 1\\right)} $$\n",
    "\n",
    "which is the desired expression."
   ]
  },
  {
   "cell_type": "markdown",
   "metadata": {},
   "source": [
    "$R$ exceeds the edge of the cube when $R > 1/2$; this occurs with probability $1 - F(1/2) = \\left(1 - v_d(1) (1/2)^d\\right)^n$ -- which is a function of $d$ and $n$.  Let's plot the curves over $n$ for a few values of $d$:"
   ]
  },
  {
   "cell_type": "code",
   "execution_count": 35,
   "metadata": {},
   "outputs": [],
   "source": [
    "import numpy as np\n",
    "from scipy.special import gamma\n",
    "\n",
    "def v(d):\n",
    "    ''' Returns the d-volume of a d-sphere of radius 1. '''\n",
    "    return np.pi**(d / 2) / gamma(d/2 + 1)\n",
    "\n",
    "def F(x, d, n):\n",
    "    return 1 - (1 - v(d) * x**d)**n"
   ]
  },
  {
   "cell_type": "code",
   "execution_count": 36,
   "metadata": {},
   "outputs": [
    {
     "data": {
      "image/png": "[encoded data removed]",
      "text/plain": [
       "<Figure size 1044x576 with 1 Axes>"
      ]
     },
     "metadata": {
      "needs_background": "light"
     },
     "output_type": "display_data"
    }
   ],
   "source": [
    "import matplotlib.pyplot as plt\n",
    "%matplotlib inline\n",
    "\n",
    "nn = np.arange(1, 10001)\n",
    "plt.figure(figsize=(14.5, 8))\n",
    "for d in range(1, 17):\n",
    "    plt.plot(nn, 1 - F(x=1/2, d=d, n=nn), label='d = %i' % d)\n",
    "\n",
    "plt.xscale('log')\n",
    "plt.xlabel('n')\n",
    "plt.ylabel('Probability of R outside cube')\n",
    "plt.legend()\n",
    "plt.show()"
   ]
  },
  {
   "cell_type": "markdown",
   "metadata": {},
   "source": [
    "Note that as $d$ increases, it takes exponentially more samples to have the probability of $R$ staying inside the hypercube.  This is the case since the volume of the hyperball of radius 1 is exponential on $n$, using Stirling's approximation on the Gamma function:\n",
    "\n",
    "$$ v_d(1) \\approx \\frac{1}{\\sqrt{n \\pi}} \\left( \\frac{2 \\pi e}{n}\\right)^{n/2} $$"
   ]
  },
  {
   "cell_type": "markdown",
   "metadata": {},
   "source": [
    "**Exercise 23.13.11**.  Fit a tree to the data in question 3.  Now apply bagging and report your results."
   ]
  },
  {
   "cell_type": "markdown",
   "metadata": {},
   "source": [
    "**Solution**.\n",
    "\n",
    "We will use 5-fold cross-validation to select a number of base decision tree classifiers to use in bagging.  "
   ]
  },
  {
   "cell_type": "code",
   "execution_count": 37,
   "metadata": {},
   "outputs": [],
   "source": [
    "import numpy as np\n",
    "import pandas as pd\n",
    "\n",
    "data = pd.read_csv('data/spam.txt', header=None, delim_whitespace=True)\n",
    "X, Y = data.loc[:, data.columns != 57].to_numpy(), data.loc[:, 57].to_numpy()"
   ]
  },
  {
   "cell_type": "code",
   "execution_count": 38,
   "metadata": {},
   "outputs": [],
   "source": [
    "from sklearn.model_selection import KFold\n",
    "\n",
    "def run_classifier_kfold(classifier, X, Y, n_splits=5):\n",
    "    kf = KFold(n_splits=n_splits, shuffle=False)\n",
    "    accuracy = np.empty(n_splits)\n",
    "    for i, (train_index, test_index) in enumerate(kf.split(X)):\n",
    "        classifier.fit(X[train_index], Y[train_index])\n",
    "        Y_pred = classifier.predict(X[test_index])\n",
    "        accuracy[i] = np.sum(Y_pred == Y[test_index]) / len(Y_pred)\n",
    "    \n",
    "    return accuracy.mean()"
   ]
  },
  {
   "cell_type": "code",
   "execution_count": 39,
   "metadata": {},
   "outputs": [],
   "source": [
    "from sklearn.tree import DecisionTreeClassifier\n",
    "from sklearn.ensemble import BaggingClassifier\n",
    "\n",
    "def run_bagging_classifier(n_estimators):\n",
    "    tree_classifier = DecisionTreeClassifier(random_state=0)\n",
    "    bagging_classifier = BaggingClassifier(base_estimator=tree_classifier, n_estimators=n_estimators, random_state=0)\n",
    "    return run_classifier_kfold(bagging_classifier, X, Y, n_splits=5)"
   ]
  },
  {
   "cell_type": "code",
   "execution_count": 40,
   "metadata": {},
   "outputs": [
    {
     "data": {
      "application/vnd.jupyter.widget-view+json": {
       "model_id": "e07bb6f427c74086b43eee106ef87529",
       "version_major": 2,
       "version_minor": 0
      },
      "text/plain": [
       "HBox(children=(IntProgress(value=0), HTML(value='')))"
      ]
     },
     "metadata": {},
     "output_type": "display_data"
    },
    {
     "name": "stdout",
     "output_type": "stream",
     "text": [
      "\n"
     ]
    }
   ],
   "source": [
    "from tqdm import tqdm_notebook\n",
    "\n",
    "accuracy_results = {}\n",
    "\n",
    "for n_estimators in tqdm_notebook(range(1, 101)):\n",
    "    accuracy_results[n_estimators] = run_bagging_classifier(n_estimators)\n",
    "    \n",
    "accuracy_results = np.array([(a, b) for a, b in accuracy_results.items()]).T"
   ]
  },
  {
   "cell_type": "code",
   "execution_count": 41,
   "metadata": {},
   "outputs": [
    {
     "data": {
      "image/png": "[encoded data removed]",
      "text/plain": [
       "<Figure size 864x576 with 1 Axes>"
      ]
     },
     "metadata": {
      "needs_background": "light"
     },
     "output_type": "display_data"
    },
    {
     "name": "stdout",
     "output_type": "stream",
     "text": [
      "Selected hyperparameter n_estimators: 34\n",
      "Cross-validation accuracy: 0.878\n"
     ]
    }
   ],
   "source": [
    "import matplotlib.pyplot as plt\n",
    "%matplotlib inline\n",
    "\n",
    "plt.figure(figsize=(12, 8))\n",
    "plt.plot(accuracy_results[0], accuracy_results[1])\n",
    "plt.xlabel('n_estimators')\n",
    "plt.ylabel('Accuracy')\n",
    "plt.show()\n",
    "\n",
    "selected_index = np.argmax(accuracy_results[1])\n",
    "selected_n = accuracy_results[0, selected_index]\n",
    "selected_accuracy = accuracy_results[1, selected_index]\n",
    "print('Selected hyperparameter n_estimators: %i' % selected_n)\n",
    "print('Cross-validation accuracy: %.3f' % selected_accuracy)"
   ]
  },
  {
   "cell_type": "markdown",
   "metadata": {},
   "source": [
    "**Exercise 23.13.12**.  Fit a tree that uses only one split in one variable to the data in question 3.  Now apply boosting."
   ]
  },
  {
   "cell_type": "markdown",
   "metadata": {},
   "source": [
    "**Solution**."
   ]
  },
  {
   "cell_type": "code",
   "execution_count": 42,
   "metadata": {},
   "outputs": [],
   "source": [
    "import numpy as np\n",
    "import pandas as pd\n",
    "\n",
    "data = pd.read_csv('data/spam.txt', header=None, delim_whitespace=True)\n",
    "X, Y = data.loc[:, data.columns != 57].to_numpy(), data.loc[:, 57].to_numpy()"
   ]
  },
  {
   "cell_type": "code",
   "execution_count": 43,
   "metadata": {},
   "outputs": [],
   "source": [
    "from sklearn.model_selection import KFold\n",
    "\n",
    "def run_classifier_kfold(classifier, X, Y, n_splits=5):\n",
    "    kf = KFold(n_splits=n_splits, shuffle=False)\n",
    "    accuracy = np.empty(n_splits)\n",
    "    for i, (train_index, test_index) in enumerate(kf.split(X)):\n",
    "        classifier.fit(X[train_index], Y[train_index])\n",
    "        Y_pred = classifier.predict(X[test_index])\n",
    "        accuracy[i] = np.sum(Y_pred == Y[test_index]) / len(Y_pred)\n",
    "    \n",
    "    return accuracy.mean()"
   ]
  },
  {
   "cell_type": "code",
   "execution_count": 44,
   "metadata": {},
   "outputs": [],
   "source": [
    "from sklearn.tree import DecisionTreeClassifier\n",
    "from sklearn.ensemble import AdaBoostClassifier\n",
    "\n",
    "def run_boosting_classifier(n_estimators):\n",
    "    tree_classifier = DecisionTreeClassifier(max_depth=2, random_state=0)\n",
    "    boosting_classifier = AdaBoostClassifier(base_estimator=tree_classifier, n_estimators=n_estimators, random_state=0)\n",
    "    return run_classifier_kfold(boosting_classifier, X, Y, n_splits=5)"
   ]
  },
  {
   "cell_type": "code",
   "execution_count": 45,
   "metadata": {},
   "outputs": [
    {
     "data": {
      "application/vnd.jupyter.widget-view+json": {
       "model_id": "e246e65d6a804c07ade1ef9315bf5253",
       "version_major": 2,
       "version_minor": 0
      },
      "text/plain": [
       "HBox(children=(IntProgress(value=0), HTML(value='')))"
      ]
     },
     "metadata": {},
     "output_type": "display_data"
    },
    {
     "name": "stdout",
     "output_type": "stream",
     "text": [
      "\n"
     ]
    }
   ],
   "source": [
    "from tqdm import tqdm_notebook\n",
    "\n",
    "accuracy_results = {}\n",
    "\n",
    "for n_estimators in tqdm_notebook(range(1, 101)):\n",
    "    accuracy_results[n_estimators] = run_boosting_classifier(n_estimators)\n",
    "    \n",
    "accuracy_results = np.array([(a, b) for a, b in accuracy_results.items()]).T"
   ]
  },
  {
   "cell_type": "code",
   "execution_count": 46,
   "metadata": {},
   "outputs": [
    {
     "data": {
      "image/png": "[encoded data removed]",
      "text/plain": [
       "<Figure size 864x576 with 1 Axes>"
      ]
     },
     "metadata": {
      "needs_background": "light"
     },
     "output_type": "display_data"
    },
    {
     "name": "stdout",
     "output_type": "stream",
     "text": [
      "Selected hyperparameter n_estimators: 55\n",
      "Cross-validation accuracy: 0.890\n"
     ]
    }
   ],
   "source": [
    "import matplotlib.pyplot as plt\n",
    "%matplotlib inline\n",
    "\n",
    "plt.figure(figsize=(12, 8))\n",
    "plt.plot(accuracy_results[0], accuracy_results[1])\n",
    "plt.xlabel('n_estimators')\n",
    "plt.ylabel('Accuracy')\n",
    "plt.show()\n",
    "\n",
    "selected_index = np.argmax(accuracy_results[1])\n",
    "selected_n = accuracy_results[0, selected_index]\n",
    "selected_accuracy = accuracy_results[1, selected_index]\n",
    "print('Selected hyperparameter n_estimators: %i' % selected_n)\n",
    "print('Cross-validation accuracy: %.3f' % selected_accuracy)"
   ]
  },
  {
   "cell_type": "markdown",
   "metadata": {},
   "source": [
    "**Exercise 23.13.13**.  Let $r(x) = \\mathbb{P}(Y = 1 | X = x)$ and let $\\hat{r}(x)$ be an estimate of $r(x)$.  Consider the classifier\n",
    "\n",
    "$$\n",
    "h(x) = \\begin{cases}\n",
    "1 &\\text{if } \\hat{r}(x) \\geq 1/2 \\\\\n",
    "0 &\\text{otherwise}\n",
    "\\end{cases}\n",
    "$$\n",
    "\n",
    "Assume that $\\hat{r}(x) \\approx N(\\overline{r}(x), \\sigma^2(x))$ for some functions $\\overline{r}(x)$ and $\\sigma^2(x)$.  Show that, for fixed $x$,\n",
    "\n",
    "$$ \\mathbb{P}(Y \\neq h(x)) \\approx \\mathbb{P}(Y \\neq h^*(x)) + \n",
    "\\left| 2 r(x) - 1 \\right| \\times \\left[ 1 - \\Phi \\left( \\frac{\\text{sign} \\left( (r(x) - 1/2) (\\overline{r}(x) - 1/2) \\right)}{\\sigma(x)} \\right) \\right]$$\n",
    "\n",
    "where $\\Phi$ is the standard normal CDF and $h^*$ is the Bayes rule.  Regard $\\text{sign} \\left( (r(x) - 1/2) (\\overline{r}(x) - 1/2) \\right)$ as a type of bias term.  Explain the implications for the bias-variance trade-off in classification.  (Friedman, 1997).\n",
    "\n",
    "Hint: First show that\n",
    "\n",
    "$$ \\mathbb{P}(Y \\neq h(x)) = |2 r(x) - 1| \\mathbb{P}(h(x) \\neq h^*(x)) + \\mathbb{P}(Y \\neq h^*(x))$$"
   ]
  },
  {
   "cell_type": "markdown",
   "metadata": {},
   "source": [
    "**Solution**.\n",
    "\n",
    "As in exercise 1, note that for any classifier $h$,\n",
    "\n",
    "$$ \n",
    "\\begin{align}\n",
    "\\mathbb{P}(h(X) \\neq Y | X = x) &= \\mathbb{P}(h(X) = 0, Y = 1 | X = x) + \\mathbb{P}(h(X) = 1, Y = 0 | X = x) \\\\\n",
    "&= I(h(x) = 0) \\mathbb{P}(Y = 1 | X = x) + I(h(x) = 1) \\mathbb{P}(Y = 0 | X = x) \\\\\n",
    "&= I(h(x) = 0) r(x) + (1 - I(h(x) = 0)) (1 - r(x)) \\\\\n",
    "&= I(h(x) = 0) (2 r(x) - 1) + (1 - r(x))\n",
    "\\end{align}\n",
    "$$\n",
    "\n",
    "Then\n",
    "\n",
    "$$\n",
    "\\mathbb{P}(Y \\neq h(X) | X = x) - \\mathbb{P}(Y \\neq h^*(X) | X = x) = (2 r(x) - 1) \\left(I(h(x) = 0) - I(h^*(x) = 0)\\right)\n",
    "$$\n",
    "\n",
    "- When $h(x) = h^*(x)$, the left term is zero, and the hint statement holds.\n",
    "- When $h(x) = 1,  h^*(x) = 0$, then $r(x) \\leq 1/2$ and $I(h(x) = 0) - I(h^*(x) = 0) = -1$, so the hint statement holds.\n",
    "- When $h(x) = 0,  h^*(x) = 1$, then $r(x) \\geq 1/2$ and $I(h(x) = 0) - I(h^*(x) = 0) = 1$, so the hint statement holds.\n",
    "\n",
    "This proves the hint statement.\n",
    "\n",
    "It now suffices to show that\n",
    "\n",
    "$$ \\mathbb{P}(h(x) \\neq h^*(x)) \\approx 1 - \\Phi \\left( \\frac{\\text{sign} \\left( (r(x) - 1/2) (\\overline{r}(x) - 1/2) \\right)}{\\sigma(x)} \\right) $$\n",
    "\n",
    "or its complement,\n",
    "\n",
    "$$ \\mathbb{P}(h(x) = h^*(x)) \\approx \\Phi \\left( \\frac{\\text{sign} \\left( (r(x) - 1/2) (\\overline{r}(x) - 1/2) \\right)}{\\sigma(x)} \\right) $$\n",
    "\n",
    "But $h(x)$ is a binomial variable, with\n",
    "\n",
    "$$ \\mathbb{P}(h(x) = 1) = \\mathbb{P}\\left(\\hat{r}(x) \\geq \\frac{1}{2} \\right) \\approx \\mathbb{P}\\left( Z \\geq \\frac{\\frac{1}{2} - \\overline{r}(x)}{\\sigma(x)} \\right) = 1 - \\Phi\\left( \\frac{\\frac{1}{2} - \\overline{r}(x)}{\\sigma(x)} \\right) = \\Phi\\left( \\frac{\\overline{r}(x) - \\frac{1}{2}}{\\sigma(x)} \\right)$$\n",
    "\n",
    "where $Z \\sim N(0, 1)$ and $\\hat{r}(x) \\approx N(\\overline{r}(x), \\sigma^2(x))$.  Similarly,\n",
    "\n",
    "$$ \\mathbb{P}(h(x) = 0) \\approx 1 - \\Phi\\left( \\frac{\\overline{r}(x) - \\frac{1}{2}}{\\sigma(x)} \\right) = \\Phi\\left( \\frac{\\frac{1}{2} - \\overline{r}(x)}{\\sigma(x)} \\right)$$\n",
    "\n",
    "The result that follows applies the sign operator to the **first** term in the product,\n",
    "\n",
    "$$ \\mathbb{P}(h(x) = h^*(x)) \\approx \\Phi \\left( \\frac{\\text{sign} \\Big\\{ r(x) - 1/2 \\Big\\} (\\overline{r}(x) - 1/2) }{\\sigma(x)} \\right) $$\n",
    "\n",
    "I assume that the provided exercise meant this and has a typo.  Alternatively, take the poor approximation of moving the term outside of the sign operator inside.\n",
    "\n",
    "Implications for bias-variance tradeoff in classification are that both better bias ($\\overline{r}(x)$ closer to $r(x)$) and smaller variance lead to better bounds on the errors -- and the tradeoff for this bound can be quantified by their ratio."
   ]
  },
  {
   "cell_type": "markdown",
   "metadata": {},
   "source": [
    "***Implementation note re: decision trees:*** *scikit-learn decision tree algorithms are good for API purposes, but if you are looking to fit decision forests in larger problems consider using a more specialized library, such as XGBoost or LightGBM, with more modern algorithms and support for GPU.  For much larger scale problems, consider cloud-based machine learning providers, such as AWS's Sagemaker or Google's ML Engine.*\n",
    "\n",
    "*Also consider more specific k-fold search strategies for problems with imbalanced classes, such as stratified k-fold, and consider a more formalized approach to hyperparameter search rather than an extensive grid search.*"
   ]
  }
 ],
 "metadata": {
  "kernelspec": {
   "display_name": "Python 3",
   "language": "python",
   "name": "python3"
  },
  "language_info": {
   "codemirror_mode": {
    "name": "ipython",
    "version": 3
   },
   "file_extension": ".py",
   "mimetype": "text/x-python",
   "name": "python",
   "nbconvert_exporter": "python",
   "pygments_lexer": "ipython3",
   "version": "3.7.3"
  }
 },
 "nbformat": 4,
 "nbformat_minor": 2
}
