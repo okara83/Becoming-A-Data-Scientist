{
 "cells": [
  {
   "cell_type": "markdown",
   "metadata": {},
   "source": [
    "## 19. Causal Inference"
   ]
  },
  {
   "cell_type": "markdown",
   "metadata": {},
   "source": [
    "In this chapter we discuss causation.  Roughly speaking \"$X$ causes $Y$\" means that changing the value of $X$ will change the distribution of $Y$.  When $X$ causes $Y$, $X$ and $Y$ will be associated but the reverse is not, in general, true.\n",
    "\n",
    "We will consider two frameworks for discussing causation.  The first uses notation of **counterfactual** random variables.  The second, used in the next chapter, uses **directed acyclic graphs**."
   ]
  },
  {
   "cell_type": "markdown",
   "metadata": {},
   "source": [
    "### 19.1 The Counterfactual Model"
   ]
  },
  {
   "cell_type": "markdown",
   "metadata": {},
   "source": [
    "Suppose that $X$ is a binary treatment variable where $X = 1$ means \"treated\" and $X = 0$ means \"not treated\".\n",
    "\n",
    "Let $Y$ be some outcome variable such as the presence or absence of disease.  To distinguish the statement \"$X$ is associated with $Y$\" from the statement \"$X$ causes $Y$\" we need to enrich our probabilistic vocabulary.  We will decompose the response $Y$ into a more fine-grained object.\n",
    "\n",
    "We introduce two new random variables $(C_0, C_1)$ called **potential outcomes** with the following interpretation: $C_0$ is the outcome if the subject is not treated ($X = 0$) and $C_1$ is the outcome if the subject is treated ($X = 1$).  Then,\n",
    "\n",
    "$$ Y = \\begin{cases}\n",
    "C_0 & \\text{if } X = 0 \\\\\n",
    "C_1 & \\text{if } X = 1\n",
    "\\end{cases}$$"
   ]
  },
  {
   "cell_type": "markdown",
   "metadata": {},
   "source": [
    "We can express the relationship between $Y$ and $(C_0, C_1)$ more succintly by\n",
    "\n",
    "$$ Y = C_X $$\n",
    "\n",
    "This equation is called the **consistency relationship**."
   ]
  },
  {
   "cell_type": "markdown",
   "metadata": {},
   "source": [
    "Here is a toy dataset to make the relationship clear:\n",
    "\n",
    "$$\n",
    "\\begin{array}{cccc}\n",
    "X & Y & C_0 & C_1 \\\\\n",
    "\\hline\n",
    "0 & 4 & 4 & * \\\\\n",
    "0 & 7 & 7 & * \\\\\n",
    "0 & 2 & 2 & * \\\\\n",
    "0 & 8 & 8 & * \\\\\n",
    "\\hline\n",
    "1 & 3 & * & 3 \\\\\n",
    "1 & 5 & * & 5 \\\\\n",
    "1 & 8 & * & 8 \\\\\n",
    "1 & 9 & * & 9\n",
    "\\end{array}\n",
    "$$\n",
    "\n",
    "The asterisks denote unobserved values.  When $X = 0$ we don't observe $C_1$ in which case we say that $C_1$ is a **counterfactual** since it is the outcome you would have had if, counter to the fact, you had been treated ($X = 1$).  Similarly, when $X = 1$ we don't observe $C_0$ and we say that $C_0$ is counterfactual."
   ]
  },
  {
   "cell_type": "markdown",
   "metadata": {},
   "source": [
    "Notice that there are four types of subjects:\n",
    "\n",
    "$$\n",
    "\\begin{array}{lcc}\n",
    "\\text{Type} & C_0 & C_1 \\\\\n",
    "\\hline\n",
    "\\text{Survivors}       & 1 & 1 \\\\\n",
    "\\text{Responders}      & 0 & 1 \\\\\n",
    "\\text{Anti-responders} & 1 & 0 \\\\\n",
    "\\text{Doomed}          & 0 & 0\n",
    "\\end{array}\n",
    "$$\n",
    "\n",
    "Think of all of the potential outcomes $(C_0, C_1)$ as hidden variables that contain all the relevant information about the subject."
   ]
  },
  {
   "cell_type": "markdown",
   "metadata": {},
   "source": [
    "Define the **average causal effect** or **average treatment effect** to be\n",
    "\n",
    "$$ \\theta = \\mathbb{E}(C_1) - \\mathbb{E}(C_0) $$\n",
    "\n",
    "The parameter $\\theta$ has the following interpretation:  $\\theta$ is the mean if everyone were treated ($X = 1$) minus the mean if everyone were not treated ($X = 0$).  There are other ways of measuring the causal effect.  For example, if $C_0$ and $C_1$ are binary, we define the **causal odds ratio**\n",
    "\n",
    "$$ \\frac{\\mathbb{P}(C_1 = 1)}{\\mathbb{P}(C_1 = 0)} \\div \\frac{\\mathbb{P}(C_0 = 1)}{\\mathbb{P}(C_0 = 0)}$$\n",
    "\n",
    "and the **causal relative risk**\n",
    "\n",
    "$$ \\frac{\\mathbb{P}(C_1 = 1)}{\\mathbb{P}(C_0 = 1)} $$\n",
    "\n",
    "The main ideas will be the same whatever causal effect we use.  For simplicity, we shall work with the average causal effect $\\theta$."
   ]
  },
  {
   "cell_type": "markdown",
   "metadata": {},
   "source": [
    "Define the **association** to be\n",
    "\n",
    "$$ \\alpha = \\mathbb{E}(Y | X = 1) - \\mathbb{E}(Y | X = 0)$$\n",
    "\n",
    "Again we could use the odds ratio or other summaries if we wish."
   ]
  },
  {
   "cell_type": "markdown",
   "metadata": {},
   "source": [
    "**Theorem 19.1 (Association is not equal to Causation)**.  In general, $\\theta \\neq \\alpha$."
   ]
  },
  {
   "cell_type": "markdown",
   "metadata": {},
   "source": [
    "**Theorem 19.3**.  Suppose we randomly assign subjects to treatment and that $\\mathbb{P}(X = 0) > 0$ and $\\mathbb{P}(X = 1) > 0$.  Then $\\alpha = \\theta$.  Hence, any consistent estimator of $\\alpha$ is a consistent estimator of $\\theta$.  In particular, a consistent estimator is\n",
    "\n",
    "$$ \\hat{\\theta} = \\hat{\\mathbb{E}}(Y | X = 1) - \\hat{\\mathbb{E}}(Y | X = 0) = \\overline{Y}_1 - \\overline{Y}_0 $$\n",
    "\n",
    "is a consistent estimator of $\\theta$, where\n",
    "\n",
    "$$\n",
    "\\begin{array}{ll}\n",
    "\\hat{Y}_1 = \\frac{1}{n_1} \\sum_{i: X_i = 1} Y_i\n",
    "&\n",
    "\\hat{Y}_0 = \\frac{1}{n_0} \\sum_{i: X_i = 0} Y_i \\\\\n",
    "n_1 = \\sum_{i=1}^n X_i\n",
    "&\n",
    "n_0 = \\sum_{i=1}^n (1 - X_i)\n",
    "\\end{array}\n",
    "$$"
   ]
  },
  {
   "cell_type": "markdown",
   "metadata": {},
   "source": [
    "**Proof**.  Since $X$ is randomly assigned, $X$ is independent of $(C_0, C_1)$.  Hence,\n",
    "\n",
    "$$\n",
    "\\begin{align}\n",
    "\\theta &= \\mathbb{E}(C_1) - \\mathbb{E}(C_0) \\\\\n",
    "&= \\mathbb{E}(C_1 | X = 1) - \\mathbb{E}(C_0 | X = 0) \\\\\n",
    "&= \\mathbb{E}(Y | X = 1) - \\mathbb{E}(Y | X = 0) \\\\\n",
    "&= \\alpha\n",
    "\\end{align}\n",
    "$$\n",
    "\n",
    "The consistency follows from the law of large numbers."
   ]
  },
  {
   "cell_type": "markdown",
   "metadata": {},
   "source": [
    "If $Z$ is a covariate, we define the **conditional causal effect** by\n",
    "\n",
    "$$ \\theta_z = \\mathbb{E}(C_1 | Z = z) - \\mathbb{E}(C_0 | Z = z) $$\n",
    "\n",
    "In a randomized experiment, $\\theta_z = \\mathbb{E}(Y | X = 1, Z = z) - \\mathbb{E}(Y | X = 0, Z = z)$ and we can estimate the conditional causal effect using appropriate sample averages."
   ]
  },
  {
   "cell_type": "markdown",
   "metadata": {},
   "source": [
    "**Summary**\n",
    "\n",
    "- Random variables: $(C_0, C_1, X, Y)$\n",
    "- Consistency relationship: $Y = C_X$\n",
    "- Causal Effect: $\\theta = \\mathbb{E}(C_1) - \\mathbb{E}(C_0)$\n",
    "- Association: $\\alpha = \\mathbb{E}(Y | X = 1) - \\mathbb{E}(Y | X = 0)$\n",
    "- Random Assignment:  $(C_0, C_1) \\text{ ⫫ } X \\Longrightarrow \\theta = \\alpha$"
   ]
  },
  {
   "cell_type": "markdown",
   "metadata": {},
   "source": [
    "### 19.2 Beyond Binary Treatments"
   ]
  },
  {
   "cell_type": "markdown",
   "metadata": {},
   "source": [
    "Suppose that $X \\in \\mathcal{X}$. The counterfactual vector $(C_0, C_1)$ now becomes the **counterfactual process**\n",
    "\n",
    "$$ \\{ C(x) : x \\in \\mathcal{X} \\} $$\n",
    "\n",
    "where $C(x)$ is the outcome a subject would have if subjected to treatment $x$.  The observed response is given by the consistency relation\n",
    "\n",
    "$$ Y \\equiv C(X) $$\n",
    "\n",
    "The **causal regression function** is \n",
    "\n",
    "$$ \\theta(x) = \\mathbb{E}(C(x)) $$\n",
    "\n",
    "The regression function, which measures association, is $r(x) = \\mathbb{E}(Y | X = x)$."
   ]
  },
  {
   "cell_type": "markdown",
   "metadata": {},
   "source": [
    "**Theorem 19.4**.  In general, $\\theta(x) \\neq r(x)$. However, when $X$ is randomly assigned, $\\theta(x) = r(x)$."
   ]
  },
  {
   "cell_type": "markdown",
   "metadata": {},
   "source": [
    "### 19.3 Observational Studies and Confounding"
   ]
  },
  {
   "cell_type": "markdown",
   "metadata": {},
   "source": [
    "A study in which treatment (or exposure) is not randomly assigned is called an **observational study**. In these studies, subjects select their own value of the exposure $X$.  Association and causation could be quite different.  This discrepancy occurs in non-randomized studies because the potential outcome $C$ is not independent of treatment $X$.\n",
    "\n",
    "However, suppose we could find groupings of subjects such that, within each group, $X$ and $\\{ C(x) : x \\in \\mathcal{X} \\}$ are independent.  This would happen if the subjects are very similar within groups.  For example, suppose we find people who are very similar in age, gender, educational background and ethnic background.  Among those people we might feel it is reasonable to assume that the choice of $X$ is essentially random.  These other variables are called **confounding variables**.  If we denote these variables collectively as $Z$, then we can express this idea by saying that\n",
    "\n",
    "$$ \\{ C(x) : x \\in \\mathcal{X} \\} \\text{ ⫫ } X | Z$$\n",
    "\n",
    "If this holds and we observe $Z$ then we say there is **no unmeasured confounding**."
   ]
  },
  {
   "cell_type": "markdown",
   "metadata": {},
   "source": [
    "**Theorem 19.17**.  Suppose that $ \\{ C(x) : x \\in \\mathcal{X} \\} \\text{ ⫫ } X | Z$.  Then,\n",
    "\n",
    "$$ \\theta(x) = \\int \\mathbb{E}(Y | X = x, Z = z) d F_Z(z) dz $$\n",
    "\n",
    "If $\\hat{r}(x, z)$ is a consistent estimate of the regression function $\\mathbb{E}(Y | X = x, Z = z)$, then a consistent estimate of $\\theta(x)$ is\n",
    "\n",
    "$$ \\hat{\\theta}(x) = \\frac{1}{n} \\sum_{i=1}^n \\hat{r}(x, Z_i) $$\n",
    "\n",
    "In particular, if $r(x, z) = \\beta_0 + \\beta_1 x + \\beta_2 z$ is linear, then a consistent estimate of $\\theta(x)$ is\n",
    "\n",
    "$$ \\hat{\\theta}(x) = \\hat{\\beta}_0 + \\hat{\\beta}_2 x + \\hat{\\beta}_2 \\overline{Z}_n $$\n",
    "\n",
    "where $(\\hat{\\beta}_0, \\hat{\\beta}_1, \\hat{\\beta}_2)$ are the least squares estimators."
   ]
  },
  {
   "cell_type": "markdown",
   "metadata": {},
   "source": [
    "Epidemiologists call this definition of $\\theta(x)$ the **adjusted treatment effect**.  The process of computing adjusted treatment effects is called **adjusting (or controlling) for confounding**.  The selection of what confounders $Z$ to measure and control for requires scientic insight.  Even after adjusting for confounders, we cannot be sure that there are not other confounding variables that we missed.  This is why observational studies must be treated with healthy skepticism.  Results from observational studies start to become believable when: (i) the results are replicated in many studies, (ii) each of the studies controlled for plausible confounding variables, (iii) there is a plausible scientic explanation for the existence of a causal relationship.\n",
    "\n",
    "A good example is smoking and cancer.  Numerous studies have shown a relationship between smoking and cancer even after adjusting for many confouding variables.  Moreover, in laboratory studies, smoking has been shown to damage lung cells.  Finally, a causal link between smoking and cancer has been found in randomized animal studies.  It is this collection of evidence over many years that makes this a convincing case.  One single observational study is not, by itself, strong evidence.  Remember that when you read the newspaper."
   ]
  },
  {
   "cell_type": "markdown",
   "metadata": {},
   "source": [
    "### 19.4 Simpson's Paradox"
   ]
  },
  {
   "cell_type": "markdown",
   "metadata": {},
   "source": [
    "Let $X$ be a binary treatment variable, $Y$ a binary outcome and $Z$ a third binary variable such as gender.  Suppose the joint distribution of $X$, $Y$, $Z$ is\n",
    "\n",
    "$$\n",
    "\\begin{array}{ccccc}\n",
    "       & Y = 1 & Y = 0 & Y = 1 & Y = 0 \\\\\n",
    "\\hline\n",
    "X = 1 & .1500 & .2250 & .1000 & .0250 \\\\\n",
    "X = 0 & .0375 & .0875 & .2625 & .1125 \\\\\n",
    "\\hline\n",
    "      & Z = 1 & & Z = 0 &\n",
    "\\end{array}\n",
    "$$\n",
    "\n",
    "The marginal distribution for $(X, Y)$ is\n",
    "\n",
    "$$\n",
    "\\begin{array}{c|cc|c}\n",
    "       & Y = 1 & Y = 0 & \\\\\n",
    "\\hline\n",
    "X = 1 & .25 & .25 & .50 \\\\\n",
    "X = 0 & .30 & .20 & .50 \\\\\n",
    "\\hline\n",
    "      & .55 & .45 & 1\n",
    "\\end{array}\n",
    "$$"
   ]
  },
  {
   "cell_type": "markdown",
   "metadata": {},
   "source": [
    "Now,\n",
    "\n",
    "$$ \n",
    "\\begin{align}\n",
    "\\mathbb{P}(Y = 1 | X = 1) - \\mathbb{P}(Y = 1 | X = 0) \n",
    "&= \\frac{\\mathbb{P}(Y = 1, X = 1)}{\\mathbb{P}(X = 1)} - \\frac{\\mathbb{P}(Y = 1, X = 0)}{\\mathbb{P}(X = 0)} \\\\\n",
    "&= \\frac{.25}{.50} - \\frac{.30}{.50} \\\\\n",
    "&= -0.1\n",
    "\\end{align}\n",
    "$$"
   ]
  },
  {
   "cell_type": "markdown",
   "metadata": {},
   "source": [
    "We might naively interpret this to mean that the treatment is bad for you since $\\mathbb{P}(Y = 1 | X = 1) < \\mathbb{P}(Y = 1 | X = 0) $.  Furthermore, among men ($Z = 1$),\n",
    "\n",
    "$$ \n",
    "\\begin{align}\n",
    "\\mathbb{P}(Y = 1 | X = 1, Z = 1) &- \\mathbb{P}(Y = 1 | X = 0, Z = 1) \\\\\n",
    "&= \\frac{\\mathbb{P}(Y = 1, X = 1, Z = 1)}{\\mathbb{P}(X = 1, Z = 1)} - \\frac{\\mathbb{P}(Y = 1, X = 0, Z = 1)}{\\mathbb{P}(X = 0, Z = 1)} \\\\\n",
    "&= \\frac{.15}{.3570} - \\frac{.0375}{.1250} \\\\\n",
    "&= 0.1\n",
    "\\end{align}\n",
    "$$"
   ]
  },
  {
   "cell_type": "markdown",
   "metadata": {},
   "source": [
    "Also, among women ($Z = 0$),\n",
    "\n",
    "$$ \n",
    "\\begin{align}\n",
    "\\mathbb{P}(Y = 1 | X = 1, Z = 0) &- \\mathbb{P}(Y = 1 | X = 0, Z = 0) \\\\\n",
    "&= \\frac{\\mathbb{P}(Y = 1, X = 1, Z = 0)}{\\mathbb{P}(X = 1, Z = 0)} - \\frac{\\mathbb{P}(Y = 1, X = 0, Z = 0)}{\\mathbb{P}(X = 0, Z = 0)} \\\\\n",
    "&= \\frac{.1}{.1250} - \\frac{.2625}{.3750} \\\\\n",
    "&= 0.1\n",
    "\\end{align}\n",
    "$$"
   ]
  },
  {
   "cell_type": "markdown",
   "metadata": {},
   "source": [
    "To summarize, it seems we have:\n",
    "\n",
    "$$\n",
    "\\begin{array}{ll}\n",
    "\\text{Mathematical Statement} & \\text{English Statement?} \\\\\n",
    "\\hline\n",
    "\\mathbb{P}(Y = 1 | X = 1) < \\mathbb{P}(Y = 1 | X = 0) & \\text{treatment is harmful} \\\\\n",
    "\\mathbb{P}(Y = 1 | X = 1, Z = 1) > \\mathbb{P}(Y = 1 | X = 0, Z = 1) & \\text{treatment is beneficial to men} \\\\\n",
    "\\mathbb{P}(Y = 1 | X = 1, Z = 0) > \\mathbb{P}(Y = 1 | X = 0, Z = 0) & \\text{treatment is beneficial to women}\n",
    "\\end{array}\n",
    "$$\n",
    "\n",
    "Clearly something is amiss.  We can't have a treatment that is good for men, good for women, but bad overall.  The problem is with the set of English statements.  **The inequality $\\mathbb{P}(Y = 1 | X = 1) < \\mathbb{P}(Y = 1 | X = 0)$ does not mean that the treatment is harmful**.\n",
    "\n",
    "The phrase \"treatment is harmful\" should be written as $\\mathbb{P}(C_1 = 1) < \\mathbb{P}(C_0 = 1)$.  The phrase \"treatment is harmful for men\" should be written $\\mathbb{P}(C_1 = 1 | Z = 1) < \\mathbb{P}(C_0 = 1 | Z = 0)$.  The three mathematical statements in the table are not contradictory, but the english statements are."
   ]
  },
  {
   "cell_type": "markdown",
   "metadata": {},
   "source": [
    "Let us now show that a real Simpson's paradox cannot happen, that is, there cannot be a treatment that is beneficial for men and women but harmful overall.  Suppose treatment is beneficial for each subgroup.  Then\n",
    "\n",
    "$$ \\mathbb{P}(C_1 = 1 | Z = z) > \\mathbb{P}(C_0 = 1 | Z = z) $$\n",
    "\n",
    "for all $z$.  It then follows that\n",
    "\n",
    "$$\\mathbb{P}(C_1 = 1) = \\sum_z \\mathbb{P}(C_1 = 1 | Z = z) \\mathbb{P}(Z = z) > \\sum_z \\mathbb{P}(C_1 = 0 | Z = z) \\mathbb{P}(Z = z) = \\mathbb{P}(C_1 = 0) $$\n",
    "\n",
    "so $\\mathbb{P}(C_1 = 1) > \\mathbb{P}(C_1 = 0)$ and the treatment is overall beneficial."
   ]
  },
  {
   "cell_type": "markdown",
   "metadata": {},
   "source": [
    "### 19.6 Exercises"
   ]
  },
  {
   "cell_type": "markdown",
   "metadata": {},
   "source": [
    "**Exercise 19.6.1**.  Create an example like Example 19.2 in which $\\alpha > 0$ and $\\theta < 0$.\n",
    "\n",
    "Example:\n",
    "\n",
    "$$\n",
    "\\begin{array}{cccc}\n",
    "X & Y & C_0 & C_1 \\\\\n",
    "\\hline\n",
    "0 & 0 & 0 & 0* \\\\\n",
    "0 & 0 & 0 & 0* \\\\\n",
    "0 & 0 & 0 & 0* \\\\\n",
    "0 & 0 & 0 & 0* \\\\\n",
    "\\hline\n",
    "1 & 1 & 1* & 1 \\\\\n",
    "1 & 1 & 1* & 1 \\\\\n",
    "1 & 1 & 1* & 1 \\\\\n",
    "1 & 1 & 1* & 1\n",
    "\\end{array}\n",
    "$$\n",
    "\n",
    "$$ \n",
    "\\begin{align}\n",
    "\\theta &= \\mathbb{E}(C_1) - \\mathbb{E}(C_0) = 1/2 - 1/2 = 0 \\\\\n",
    "\\alpha &= \\mathbb{E}(Y | X = 1) - \\mathbb{E}(Y | X = 0) = 1 - 0 = 1\n",
    "\\end{align}\n",
    "$$"
   ]
  },
  {
   "cell_type": "markdown",
   "metadata": {},
   "source": [
    "**Solution**. Consider the following data for the whole population:\n",
    "\n",
    "$$\n",
    "\\begin{array}{cccc}\n",
    "X & Y & C_0 & C_1 \\\\\n",
    "\\hline\n",
    "0 & 0 & 0 & 0* \\\\\n",
    "0 & 1 & 1 & 0* \\\\\n",
    "\\hline\n",
    "1 & 1 & 1* & 1\n",
    "\\end{array}\n",
    "$$\n",
    "\n",
    "$$ \n",
    "\\begin{align}\n",
    "\\theta &= \\mathbb{E}(C_1) - \\mathbb{E}(C_0) = 1/3 - 2/3 = -1/3 \\\\\n",
    "\\alpha &= \\mathbb{E}(Y | X = 1) - \\mathbb{E}(Y | X = 0) = 1 - 1/2 = 1/2\n",
    "\\end{align}\n",
    "$$"
   ]
  },
  {
   "cell_type": "markdown",
   "metadata": {},
   "source": [
    "**Exercise 19.6.2**.  Prove Theorem 19.4.\n",
    "\n",
    "In general, $\\theta(x) \\neq r(x)$. However, when $X$ is randomly assigned, $\\theta(x) = r(x)$."
   ]
  },
  {
   "cell_type": "markdown",
   "metadata": {},
   "source": [
    "**Solution**.  We have:\n",
    "\n",
    "$$\n",
    "\\begin{align}\n",
    "\\theta(x) &= \\mathbb{E}(C(x)) \\\\\n",
    "r(x) &= \\mathbb{E}(Y | X = x)\n",
    "\\end{align}\n",
    "$$\n",
    "\n",
    "We can show the inequality by providing an example where it holds:  \n",
    "\n",
    "Let $C_i(x) \\equiv i$ for each population sample $i$ be constant.  Then $\\theta(x) = \\frac{1}{n} \\sum_i C_i(x) = n (n+1) / 2$ is a constant that does not depend on $x$.  On the other hand, if we have samples $(X_i, Y_i) = (i, i)$, then $r(x) = x$, which does depend on $x$, and the inequality holds.\n",
    "\n",
    "Now, when $X$ is randomly assigned, we have:\n",
    "\n",
    "$$\n",
    "\\theta(x) = \\mathbb{E}(C(x)) = \\mathbb{E}(C(x) | X = x) = \\mathbb{E}(Y | X = x) = r(x)\n",
    "$$\n",
    "\n",
    "where $\\mathbb{E}(C(x)) = \\mathbb{E}(C(x) | X = x)$ since $X \\text{ ⫫  } \\{ C(x) : x \\in \\mathcal{X} \\}$ (i.e. $X$ is randomly assigned) and $\\mathbb{E}(C(x) | X = x) = \\mathbb{E}(Y | X = x)$ since $Y \\equiv C(X)$ by definition.\n",
    "\n",
    "Note that this demonstration is analogous to the demonstration for the binary case in Theorem 19.3."
   ]
  },
  {
   "cell_type": "markdown",
   "metadata": {},
   "source": [
    "**Exercise 19.6.3**.  Suppose you are given data $(X_1, Y_1), \\dots, (X_n, Y_n)$ from an observational study, where $X_i \\in \\{0, 1\\}$ and $Y_i \\in \\{0, 1\\}$.  Although it is not possible to estimate the causal effect $\\theta$, it is possible to put bounds on $\\theta$.  Find upper and lower bounds on $\\theta$ that can be consistently estimated from the data.  Show that the bounds have width 1.  \n",
    "\n",
    "Hint:  note that $\\mathbb{E}(C_1) = \\mathbb{E}(C_1 | X = 1) \\mathbb{P}(X = 1) + \\mathbb{E}(C_1 | X = 0) \\mathbb{P}(X = 0)$."
   ]
  },
  {
   "cell_type": "markdown",
   "metadata": {},
   "source": [
    "**Solution**.  We have:\n",
    "\n",
    "$$\n",
    "\\begin{align}\n",
    "\\theta &= \\mathbb{E}(C_1) - \\mathbb{E}(C_0) \\\\\n",
    "&= \\mathbb{E}(C_1 | X = 1) \\mathbb{P}(X = 1) + \\mathbb{E}(C_1 | X = 0) \\mathbb{P}(X = 0)\n",
    " - \\Big( \\mathbb{E}(C_0 | X = 1) \\mathbb{P}(X = 1) + \\mathbb{E}(C_0 | X = 0) \\mathbb{P}(X = 0) \\Big) \\\\\n",
    "&= \\mathbb{E}(C_1 | X = 1) \\mathbb{P}(X = 1) - \\mathbb{E}(C_0 | X = 0) \\mathbb{P}(X = 0)\n",
    " + \\mathbb{E}(C_1 | X = 0) \\mathbb{P}(X = 0) - \\mathbb{E}(C_0 | X = 1) \\mathbb{P}(X = 1) \\\\\n",
    "&= \\Big( \\mathbb{E}(Y | X = 1) \\mathbb{P}(X = 1) - \\mathbb{E}(Y | X = 0) \\mathbb{P}(X = 0) \\Big)\n",
    " + \\Big( \\mathbb{E}(C_1 | X = 0) \\mathbb{P}(X = 0) - \\mathbb{E}(C_0 | X = 1) \\mathbb{P}(X = 1) \\Big)\n",
    "\\end{align}\n",
    "$$"
   ]
  },
  {
   "cell_type": "markdown",
   "metadata": {},
   "source": [
    "The first terms in this expression can be estimated: $Y \\equiv C_X$, so $\\mathbb{E}(C_x | X = x) = \\mathbb{E}(Y | X = x)$.  On the other hand, the unobserved terms $\\mathbb{E}(C_1 | X = 0)$ and $\\mathbb{E}(C_0 | X = 1)$ cannot be estimated from data.  Since $C_j \\in \\{0, 1\\}$, however, we can bound these expected values to the interval $[0, 1]$.  This means that:\n",
    "\n",
    "$$ 0 \\cdot \\mathbb{P}(X = 0) - 1 \\cdot \\mathbb{P}(X = 1) \\leq \\mathbb{E}(C_1 | X = 0) \\mathbb{P}(X = 0) - \\mathbb{E}(C_0 | X = 1) \\mathbb{P}(X = 1) \\leq 1 \\cdot \\mathbb{P}(X = 0) - 0 \\cdot \\mathbb{P}(X = 1)$$\n",
    "\n",
    "or, simplifying,\n",
    "\n",
    "$$ - \\mathbb{P}(X = 1) \\leq \\mathbb{E}(C_1 | X = 0) \\mathbb{P}(X = 0) - \\mathbb{E}(C_0 | X = 1) \\mathbb{P}(X = 1) \\leq \\mathbb{P}(X = 0) $$\n",
    "\n",
    "which is a bound of width 1 (since $\\mathbb{P}(X = 0) + \\mathbb{P}(X = 1) = 1$)."
   ]
  },
  {
   "cell_type": "markdown",
   "metadata": {},
   "source": [
    "Therefore, we have\n",
    "\n",
    "$$ \\Big( \\mathbb{E}(Y | X = 1) \\mathbb{P}(X = 1) - \\mathbb{E}(Y | X = 0) \\mathbb{P}(X = 0) \\Big) - \\mathbb{P}(X = 1)\n",
    " \\leq \\theta \\leq\n",
    " \\Big( \\mathbb{E}(Y | X = 1) \\mathbb{P}(X = 1) - \\mathbb{E}(Y | X = 0) \\mathbb{P}(X = 0) \\Big) + \\mathbb{P}(X = 0)\n",
    "$$\n",
    "\n",
    "Given $Y$ is binary, we have:\n",
    "\n",
    "$$ \\mathbb{E}(Y | X = 1) \\mathbb{P}(X = 1) =  \\mathbb{P}(Y = 1 | X = 1) \\mathbb{P}(X = 1) =  \\mathbb{P}(X = 1, Y = 1) \\\\\n",
    "\\mathbb{E}(Y | X = 0) \\mathbb{P}(X = 0) =  \\mathbb{P}(Y = 0 | X = 0) \\mathbb{P}(X = 0) =  \\mathbb{P}(X = 0, Y = 0) $$\n",
    "\n",
    "and so the estimates for the bounds are:\n",
    "\n",
    "$$\n",
    "\\begin{align}\n",
    "\\Big( \\mathbb{E}(Y | X = 1) \\mathbb{P}(X = 1) - \\mathbb{E}(Y | X = 0) \\mathbb{P}(X = 0) \\Big) - \\mathbb{P}(X = 1)\n",
    "&\\approx \\frac{1}{n} \\sum_{i = 1}^n \\left( I(X_i = 1, Y_i = 1) - I(X_i = 0, Y_i = 0) - I(X_i = 1)\\right) \\\\\n",
    "\\Big( \\mathbb{E}(Y | X = 1) \\mathbb{P}(X = 1) - \\mathbb{E}(Y | X = 0) \\mathbb{P}(X = 0) \\Big) + \\mathbb{P}(X = 0)\n",
    "&\\approx \\frac{1}{n} \\sum_{i = 1}^n \\left( I(X_i = 1, Y_i = 1) - I(X_i = 0, Y_i = 0) + I(X_i = 0)\\right)\n",
    "\\end{align}\n",
    "$$"
   ]
  },
  {
   "cell_type": "markdown",
   "metadata": {},
   "source": [
    "**Exercise 19.6.4**.  Suppose that $X \\in \\mathbb{R}$ and that, for each subject $i$, $C_i(x) = \\beta_{1i}x$.  Each subject has their own slope $\\beta_{1i}$.  Construct a joint distribution on $(\\beta_1, X)$ such that $\\mathbb{P}(\\beta_1 > 0) = 1$ but $\\mathbb{E}(Y | X = x)$ is a decreasing function of $x$, where $Y = C(X)$.  Interpret.\n",
    "\n",
    "Hint: Write $f(\\beta_1, x) = f(\\beta_1)f(x | \\beta_1)$.  Choose $f(x | \\beta_1)$ so that when $\\beta_1$ is large, $x$ is small and when $\\beta_1$ is small $x$ is large."
   ]
  },
  {
   "cell_type": "markdown",
   "metadata": {},
   "source": [
    "**Solution**.\n",
    "\n",
    "Let's construct a very simple joint distribution to develop this intuition.  Let $\\beta_1$ have a probability mass function with mass 1/2 on values 1/2 and 2.  Now let's pick points $(X, \\beta_1)$ with the following mass distribution:\n",
    "\n",
    "$$\\begin{array}{c|cc}\n",
    "\\mathbb{P} & X = 1 & X = 2 \\\\\n",
    "\\hline\n",
    "\\beta_1 = 1/2 & 0 & 0.5 \\\\\n",
    "\\beta_1 = 2 & 0.5 & 0 \\\\\n",
    "\\end{array}\n",
    "\\quad \\text{or} \\quad\n",
    "\\begin{array}{c|cc}\n",
    "\\mathbb{P} & X = 1 & X = 2 \\\\\n",
    "\\hline\n",
    "Y = 1 & 0 & 0.5 \\\\\n",
    "Y = 2 & 0.5 & 0 \\\\\n",
    "\\end{array}\n",
    "$$\n",
    "\n",
    "For this toy example, $\\mathbb{E}(Y | X = x) = 3 - x$ is decreasing in $x$."
   ]
  },
  {
   "cell_type": "code",
   "execution_count": 1,
   "metadata": {},
   "outputs": [
    {
     "data": {
      "image/png": "[encoded data removed]",
      "text/plain": [
       "<Figure size 864x576 with 1 Axes>"
      ]
     },
     "metadata": {
      "needs_background": "light"
     },
     "output_type": "display_data"
    }
   ],
   "source": [
    "import matplotlib.pyplot as plt\n",
    "%matplotlib inline\n",
    "\n",
    "plt.figure(figsize=(12, 8))\n",
    "plt.plot([0, 4], [0, 2], color='darkblue', label='beta_1 = 1/2')\n",
    "plt.plot(2, 1, 'go', color='blue', label='(X, Y) = (2, 1)')\n",
    "plt.plot([0, 4], [0, 8], color='darkgreen', label='beta_1 = 2')\n",
    "plt.plot(1, 2, 'go', color='green', label='(X, Y) = (1, 2)')\n",
    "plt.plot([0, 3], [3, 0], color='red', label='E[Y | X = x]')\n",
    "plt.legend()\n",
    "plt.xlabel('X')\n",
    "plt.ylabel('Y')\n",
    "plt.show()"
   ]
  },
  {
   "cell_type": "markdown",
   "metadata": {},
   "source": [
    "Generally, what we want to do to make $r(x) = \\mathbb{E}(Y | X = x)$ is to ensure the distribution generates points that have a lower $X$ for a larger $Y$, by selecting a smaller value of $X$ when $Y$ is larger.\n",
    "\n",
    "Let's choose a joint probability distribution as $\\mathbb{P}(\\beta_1, x) = \\mathbb{P}(\\beta_1) \\mathbb{P}(x | \\beta_1)$, and let's choose distribution of $x | \\beta_1$ as a discrete probability mass function with all its mass on a single value:\n",
    "\n",
    "$$\n",
    "\\mathbb{P}(x | \\beta_1) = \\begin{cases}\n",
    "1 & \\text{if } x + y = 1, \\text{ where } y = \\beta_1 x\\\\\n",
    "0 & \\text{otherwise}\n",
    "\\end{cases}\n",
    "$$\n",
    "\n",
    "Now, by construction all points $(X, Y)$ lie on the line $X + Y = 1$, so $\\mathbb{E}(X + Y) = 1$ and $\\mathbb{E}(Y | X = x) = 1 - x$, which is decreasing in $x$."
   ]
  }
 ],
 "metadata": {
  "kernelspec": {
   "display_name": "Python 3",
   "language": "python",
   "name": "python3"
  },
  "language_info": {
   "codemirror_mode": {
    "name": "ipython",
    "version": 3
   },
   "file_extension": ".py",
   "mimetype": "text/x-python",
   "name": "python",
   "nbconvert_exporter": "python",
   "pygments_lexer": "ipython3",
   "version": "3.7.3"
  }
 },
 "nbformat": 4,
 "nbformat_minor": 2
}
