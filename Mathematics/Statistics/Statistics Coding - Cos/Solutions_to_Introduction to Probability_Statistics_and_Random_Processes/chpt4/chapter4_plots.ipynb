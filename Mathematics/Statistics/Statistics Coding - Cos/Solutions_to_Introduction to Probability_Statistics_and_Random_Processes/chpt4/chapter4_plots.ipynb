{
 "cells": [
  {
   "cell_type": "code",
   "execution_count": 2,
   "metadata": {},
   "outputs": [],
   "source": [
    "import matplotlib.mlab as mlab\n",
    "import matplotlib.pyplot as plt\n",
    "import numpy as np\n",
    "%matplotlib inline"
   ]
  },
  {
   "cell_type": "code",
   "execution_count": 10,
   "metadata": {},
   "outputs": [
    {
     "data": {
      "image/png": "[encoded data removed]",
      "text/plain": [
       "<matplotlib.figure.Figure at 0x10f43bcf8>"
      ]
     },
     "metadata": {},
     "output_type": "display_data"
    }
   ],
   "source": [
    "plt.figure(1, figsize=(7, 4))\n",
    "plt.rc('text', usetex=True)\n",
    "plt.rc('font', family='serif')\n",
    "\n",
    "eps=.02\n",
    "\n",
    "x1 = np.linspace(-5, 0, 1000)\n",
    "x2 = np.linspace(0, .25-eps, 1000)\n",
    "x3 = np.linspace(.25, .5, 1000)\n",
    "x4 = np.linspace(.5, 5, 1000)\n",
    "\n",
    "\n",
    "\n",
    "plt.plot(x1, x1*0, color='black', linewidth=2.2)\n",
    "plt.plot(x2, x2, color='black', linewidth=2.2)\n",
    "plt.plot(x3, x3+.5, color='black', linewidth=2.2)\n",
    "plt.plot(x4, x4*0+1, color='black', linewidth=2.2)\n",
    "\n",
    "\n",
    "plt.plot(.25, .25, marker=\"o\", markersize=7, fillstyle=\"none\", color=\"black\")\n",
    "plt.plot(.25, .75, marker=\"o\", markersize=7, color=\"black\")\n",
    "\n",
    "\n",
    "\n",
    "\n",
    "plt.xlim((-1.5, 2))\n",
    "plt.xlabel(r'$x$', size=20)\n",
    "plt.ylabel(r'$F_X(x)$', size=20)\n",
    "\n",
    "\n",
    "\n",
    "plt.xticks(fontsize = 15)\n",
    "plt.yticks(fontsize = 15)\n",
    "\n",
    "plt.tight_layout()\n",
    "plt.savefig('prob13.pdf', format='pdf');"
   ]
  },
  {
   "cell_type": "code",
   "execution_count": null,
   "metadata": {},
   "outputs": [],
   "source": []
  }
 ],
 "metadata": {
  "kernelspec": {
   "display_name": "Python 3",
   "language": "python",
   "name": "python3"
  },
  "language_info": {
   "codemirror_mode": {
    "name": "ipython",
    "version": 3
   },
   "file_extension": ".py",
   "mimetype": "text/x-python",
   "name": "python",
   "nbconvert_exporter": "python",
   "pygments_lexer": "ipython3",
   "version": "3.5.3"
  }
 },
 "nbformat": 4,
 "nbformat_minor": 2
}
