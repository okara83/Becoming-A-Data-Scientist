{
 "cells": [
  {
   "cell_type": "code",
   "execution_count": 13,
   "metadata": {},
   "outputs": [
    {
     "data": {
      "text/plain": [
       "('full', 'left', 'right', 'bottom', 'top', 'none')"
      ]
     },
     "execution_count": 13,
     "metadata": {},
     "output_type": "execute_result"
    }
   ],
   "source": [
    "import matplotlib.mlab as mlab\n",
    "import matplotlib.pyplot as plt\n",
    "import numpy as np\n",
    "%matplotlib inline\n",
    "from matplotlib.lines import Line2D\n",
    "Line2D.fillStyles"
   ]
  },
  {
   "cell_type": "code",
   "execution_count": 48,
   "metadata": {},
   "outputs": [
    {
     "data": {
      "image/png": "[encoded data removed]",
      "text/plain": [
       "<matplotlib.figure.Figure at 0x109078588>"
      ]
     },
     "metadata": {},
     "output_type": "display_data"
    }
   ],
   "source": [
    "plt.figure(1, figsize=(7, 4))\n",
    "plt.rc('text', usetex=True)\n",
    "plt.rc('font', family='serif')\n",
    "\n",
    "eps=.08\n",
    "\n",
    "x1 = np.linspace(-10, (-2-eps), 1000)\n",
    "x2 = np.linspace(-2, (-1-eps), 1000)\n",
    "x3 = np.linspace(-1, (0-eps), 1000)\n",
    "x4 = np.linspace(0, (1-eps), 1000)\n",
    "x5 = np.linspace(1, (2-eps), 1000)\n",
    "x6 = np.linspace(2, (5-eps), 1000)\n",
    "\n",
    "\n",
    "plt.plot(x1, x1*0, color='black', linewidth=2.2)\n",
    "plt.plot(x2, x1*0+.2, color='black', linewidth=2.2)\n",
    "plt.plot(x3, x1*0+.5, color='black', linewidth=2.2)\n",
    "plt.plot(x4, x1*0+.7, color='black', linewidth=2.2)\n",
    "plt.plot(x5, x1*0+.9, color='black', linewidth=2.2)\n",
    "plt.plot(x6, x1*0+1, color='black', linewidth=2.2)\n",
    "\n",
    "plt.plot(-2, 0, marker=\"o\", markersize=7, fillstyle=\"none\", color=\"black\")\n",
    "plt.plot(-1, .2, marker=\"o\", markersize=7, fillstyle=\"none\", color=\"black\")\n",
    "plt.plot(0, .5, marker=\"o\", markersize=7, fillstyle=\"none\", color=\"black\")\n",
    "plt.plot(1, .7, marker=\"o\", markersize=7, fillstyle=\"none\", color=\"black\")\n",
    "plt.plot(2, .9, marker=\"o\", markersize=7, fillstyle=\"none\", color=\"black\");\n",
    "\n",
    "plt.plot(-2, .2, marker=\"o\", markersize=7, color=\"black\")\n",
    "plt.plot(-1, .5, marker=\"o\", markersize=7, color=\"black\")\n",
    "plt.plot(0, .7, marker=\"o\", markersize=7, color=\"black\")\n",
    "plt.plot(1, .9, marker=\"o\", markersize=7, color=\"black\")\n",
    "plt.plot(2, 1, marker=\"o\", markersize=7, color=\"black\")\n",
    "\n",
    "plt.xlim((-4, 4))\n",
    "plt.xlabel(r'$x$', size=20);\n",
    "plt.ylabel(r'$F_X(x)$', size=20)\n",
    "\n",
    "plt.xticks(fontsize = 15)\n",
    "plt.yticks(fontsize = 15)\n",
    "\n",
    "plt.tight_layout()\n",
    "plt.savefig('prob12.pdf', format='pdf');"
   ]
  },
  {
   "cell_type": "code",
   "execution_count": 72,
   "metadata": {},
   "outputs": [],
   "source": [
    "N_arr=np.arange(1, 51)\n",
    "\n",
    "summ_N=[]\n",
    "for N in N_arr:\n",
    "    summ=0\n",
    "    for i in range(0, N):\n",
    "        summ+=1/(N-i)\n",
    "    summ_N.append(N*summ)"
   ]
  },
  {
   "cell_type": "code",
   "execution_count": 78,
   "metadata": {
    "scrolled": true
   },
   "outputs": [
    {
     "data": {
      "image/png": "[encoded data removed]",
      "text/plain": [
       "<matplotlib.figure.Figure at 0x10a3b7668>"
      ]
     },
     "metadata": {},
     "output_type": "display_data"
    }
   ],
   "source": [
    "plt.figure(1, figsize=(7, 4))\n",
    "plt.rc('text', usetex=True)\n",
    "plt.rc('font', family='serif')\n",
    "plt.scatter(N_arr, summ_N, s=10, color=\"black\")\n",
    "\n",
    "\n",
    "plt.xlabel(r'$N$', size=20);\n",
    "plt.ylabel(r'$E[X]$', size=20)\n",
    "\n",
    "plt.xticks(fontsize = 15)\n",
    "plt.yticks(fontsize = 15)\n",
    "\n",
    "plt.tight_layout()\n",
    "plt.savefig('prob21.pdf', format='pdf');"
   ]
  },
  {
   "cell_type": "code",
   "execution_count": 112,
   "metadata": {},
   "outputs": [
    {
     "data": {
      "image/png": "[encoded data removed]",
      "text/plain": [
       "<matplotlib.figure.Figure at 0x10a954978>"
      ]
     },
     "metadata": {},
     "output_type": "display_data"
    }
   ],
   "source": [
    "plt.figure(1, figsize=(7, 4))\n",
    "plt.rc('text', usetex=True)\n",
    "plt.rc('font', family='serif')\n",
    "\n",
    "eps=.06\n",
    "\n",
    "x1 = np.linspace(-10, (1-eps), 1000)\n",
    "x2 = np.linspace(1, (2-eps), 1000)\n",
    "x3 = np.linspace(2, (3-eps), 1000)\n",
    "x4 = np.linspace(3, (10-eps), 1000)\n",
    "\n",
    "\n",
    "\n",
    "plt.plot(x1, x1*0, color='black', linewidth=2.2)\n",
    "plt.plot(x2, x1*0+.4, color='black', linewidth=2.2)\n",
    "plt.plot(x3, x1*0+.7, color='black', linewidth=2.2)\n",
    "plt.plot(x4, x1*0+1, color='black', linewidth=2.2)\n",
    "\n",
    "\n",
    "plt.plot(1, 0, marker=\"o\", markersize=7, fillstyle=\"none\", color=\"black\")\n",
    "plt.plot(2, .4, marker=\"o\", markersize=7, fillstyle=\"none\", color=\"black\")\n",
    "plt.plot(3, .7, marker=\"o\", markersize=7, fillstyle=\"none\", color=\"black\")\n",
    "\n",
    "plt.plot(1, .4, marker=\"o\", markersize=7, color=\"black\")\n",
    "plt.plot(2, .7, marker=\"o\", markersize=7, color=\"black\")\n",
    "plt.plot(3, 1, marker=\"o\", markersize=7, color=\"black\")\n",
    "\n",
    "\n",
    "###########\n",
    "eps=.07\n",
    "x1 = np.linspace(-10+eps, (1), 1000)\n",
    "x2 = np.linspace(1+eps, (2), 1000)\n",
    "x3 = np.linspace(2+eps, (3), 1000)\n",
    "x4 = np.linspace(3+eps, (10), 1000)\n",
    "\n",
    "\n",
    "\n",
    "plt.plot(x1, x1*0+1, color='red', linewidth=2.2)\n",
    "plt.plot(x2, x1*0+.6, color='red', linewidth=2.2)\n",
    "plt.plot(x3, x1*0+.3, color='red', linewidth=2.2)\n",
    "plt.plot(x4, x1*0, color='red', linewidth=2.2)\n",
    "\n",
    "\n",
    "plt.plot(1, .6, marker=\"o\", markersize=7, fillstyle=\"none\", color=\"red\")\n",
    "plt.plot(2, .3, marker=\"o\", markersize=7, fillstyle=\"none\", color=\"red\")\n",
    "plt.plot(3, 0, marker=\"o\", markersize=7, fillstyle=\"none\", color=\"red\")\n",
    "\n",
    "plt.plot(1, 1, marker=\"o\", markersize=7, color=\"red\")\n",
    "plt.plot(2, .6, marker=\"o\", markersize=7, color=\"red\")\n",
    "plt.plot(3, .3, marker=\"o\", markersize=7, color=\"red\")\n",
    "\n",
    "\n",
    "\n",
    "plt.xlim((-1, 5))\n",
    "plt.xlabel(r'$x$', size=20)\n",
    "plt.title(r'$P(X \\le x), P(X \\ge x)~\\mathrm{for~the~given~PMF}$', size=20)\n",
    "plt.ylabel(r'$P(X \\le x), P(X \\ge x)$', size=20)\n",
    "\n",
    "\n",
    "plt.xticks(fontsize = 15)\n",
    "plt.yticks(fontsize = 15)\n",
    "\n",
    "plt.tight_layout()\n",
    "plt.savefig('prob25.pdf', format='pdf');"
   ]
  },
  {
   "cell_type": "code",
   "execution_count": 109,
   "metadata": {},
   "outputs": [
    {
     "data": {
      "image/png": "[encoded data removed]",
      "text/plain": [
       "<matplotlib.figure.Figure at 0x10c89e2b0>"
      ]
     },
     "metadata": {},
     "output_type": "display_data"
    }
   ],
   "source": [
    "plt.figure(1, figsize=(7, 4))\n",
    "plt.rc('text', usetex=True)\n",
    "plt.rc('font', family='serif')\n",
    "\n",
    "eps=.08\n",
    "\n",
    "x1 = np.linspace(-10, (1-eps), 1000)\n",
    "x2 = np.linspace(1, (2-eps), 1000)\n",
    "x3 = np.linspace(2, (3-eps), 1000)\n",
    "x4 = np.linspace(3, (4-eps), 1000)\n",
    "x5 = np.linspace(4, (5-eps), 1000)\n",
    "x6 = np.linspace(5, (6-eps), 1000)\n",
    "x7 = np.linspace(6, (10-eps), 1000)\n",
    "\n",
    "\n",
    "\n",
    "plt.plot(x1, x1*0, color='black', linewidth=2.2)\n",
    "plt.plot(x2, x1*0+(1/6), color='black', linewidth=2.2)\n",
    "plt.plot(x3, x1*0+2*(1/6), color='black', linewidth=2.2)\n",
    "plt.plot(x4, x1*0+3*(1/6), color='black', linewidth=2.2)\n",
    "plt.plot(x5, x1*0+4*(1/6), color='black', linewidth=2.2)\n",
    "plt.plot(x6, x1*0+5*(1/6), color='black', linewidth=2.2)\n",
    "plt.plot(x7, x1*0+6*(1/6), color='black', linewidth=2.2)\n",
    "\n",
    "\n",
    "plt.plot(1, 0, marker=\"o\", markersize=7, fillstyle=\"none\", color=\"black\")\n",
    "plt.plot(2, (1/6), marker=\"o\", markersize=7, fillstyle=\"none\", color=\"black\")\n",
    "plt.plot(3, 2*(1/6), marker=\"o\", markersize=7, fillstyle=\"none\", color=\"black\")\n",
    "plt.plot(4, 3*(1/6), marker=\"o\", markersize=7, fillstyle=\"none\", color=\"black\")\n",
    "plt.plot(5, 4*(1/6), marker=\"o\", markersize=7, fillstyle=\"none\", color=\"black\")\n",
    "plt.plot(6, 5*(1/6), marker=\"o\", markersize=7, fillstyle=\"none\", color=\"black\")\n",
    "\n",
    "plt.plot(1, (1/6), marker=\"o\", markersize=7, color=\"black\")\n",
    "plt.plot(2, 2*(1/6), marker=\"o\", markersize=7, color=\"black\")\n",
    "plt.plot(3, 3*(1/6), marker=\"o\", markersize=7, color=\"black\")\n",
    "plt.plot(4, 4*(1/6), marker=\"o\", markersize=7, color=\"black\")\n",
    "plt.plot(5, 5*(1/6), marker=\"o\", markersize=7, color=\"black\")\n",
    "plt.plot(6, 6*(1/6), marker=\"o\", markersize=7, color=\"black\")\n",
    "\n",
    "\n",
    "###########\n",
    "eps=.1\n",
    "x1 = np.linspace(-10+eps, (1), 1000)\n",
    "x2 = np.linspace(1+eps, (2), 1000)\n",
    "x3 = np.linspace(2+eps, (3), 1000)\n",
    "x4 = np.linspace(3+eps, (4), 1000)\n",
    "x5 = np.linspace(4+eps, (5), 1000)\n",
    "x6 = np.linspace(5+eps, (6), 1000)\n",
    "x7 = np.linspace(6+eps, (10), 1000)\n",
    "\n",
    "\n",
    "\n",
    "plt.plot(x1, x1*0+1, color='red', linewidth=2.2)\n",
    "plt.plot(x2, x1*0+5*(1/6), color='red', linewidth=2.2)\n",
    "plt.plot(x3, x1*0+4*(1/6), color='red', linewidth=2.2)\n",
    "plt.plot(x4, x1*0+3*(1/6), color='red', linewidth=2.2)\n",
    "plt.plot(x5, x1*0+2*(1/6), color='red', linewidth=2.2)\n",
    "plt.plot(x6, x1*0+1*(1/6), color='red', linewidth=2.2)\n",
    "plt.plot(x7, x1*0, color='red', linewidth=2.2)\n",
    "\n",
    "\n",
    "plt.plot(6, 0, marker=\"o\", markersize=7, fillstyle=\"none\", color=\"red\")\n",
    "plt.plot(5, (1/6), marker=\"o\", markersize=7, fillstyle=\"none\", color=\"red\")\n",
    "plt.plot(4, 2*(1/6), marker=\"o\", markersize=7, fillstyle=\"none\", color=\"red\")\n",
    "plt.plot(3, 3*(1/6), marker=\"o\", markersize=7, fillstyle=\"none\", color=\"red\")\n",
    "plt.plot(2, 4*(1/6), marker=\"o\", markersize=7, fillstyle=\"none\", color=\"red\")\n",
    "plt.plot(1, 5*(1/6), marker=\"o\", markersize=7, fillstyle=\"none\", color=\"red\")\n",
    "\n",
    "plt.plot(6, (1/6), marker=\"o\", markersize=7, color=\"red\")\n",
    "plt.plot(5, 2*(1/6), marker=\"o\", markersize=7, color=\"red\")\n",
    "plt.plot(4, 3*(1/6), marker=\"o\", markersize=7, color=\"red\")\n",
    "plt.plot(3, 4*(1/6), marker=\"o\", markersize=7, color=\"red\")\n",
    "plt.plot(2, 5*(1/6), marker=\"o\", markersize=7, color=\"red\")\n",
    "plt.plot(1, 6*(1/6), marker=\"o\", markersize=7, color=\"red\")\n",
    "\n",
    "\n",
    "\n",
    "plt.xlim((-1, 8))\n",
    "plt.xlabel(r'$x$', size=20);\n",
    "plt.ylabel(r'$P(X \\le x), P(X \\ge x)$', size=20)\n",
    "plt.title(r'$P(X \\le x), P(X \\ge x)~\\mathrm{for~a~die~roll}$', size=20)\n",
    "\n",
    "\n",
    "plt.xticks(fontsize = 15)\n",
    "plt.yticks(fontsize = 15)\n",
    "\n",
    "plt.tight_layout()\n",
    "plt.savefig('prob25b.pdf', format='pdf');"
   ]
  },
  {
   "cell_type": "code",
   "execution_count": null,
   "metadata": {},
   "outputs": [],
   "source": []
  }
 ],
 "metadata": {
  "kernelspec": {
   "display_name": "Python 3",
   "language": "python",
   "name": "python3"
  },
  "language_info": {
   "codemirror_mode": {
    "name": "ipython",
    "version": 3
   },
   "file_extension": ".py",
   "mimetype": "text/x-python",
   "name": "python",
   "nbconvert_exporter": "python",
   "pygments_lexer": "ipython3",
   "version": "3.5.3"
  }
 },
 "nbformat": 4,
 "nbformat_minor": 2
}
