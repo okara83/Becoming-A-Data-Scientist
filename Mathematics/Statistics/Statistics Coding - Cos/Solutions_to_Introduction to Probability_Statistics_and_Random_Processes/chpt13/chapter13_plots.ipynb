{
 "cells": [
  {
   "cell_type": "code",
   "execution_count": 1,
   "metadata": {},
   "outputs": [],
   "source": [
    "import matplotlib.mlab as mlab\n",
    "import matplotlib.pyplot as plt\n",
    "import numpy as np\n",
    "from scipy.special import binom\n",
    "%matplotlib inline"
   ]
  },
  {
   "cell_type": "code",
   "execution_count": 39,
   "metadata": {},
   "outputs": [],
   "source": [
    "import numpy as np\n",
    "from scipy.special import binom\n",
    "\n",
    "def compute_binom_recur(p, N):\n",
    "    \"\"\"\n",
    "    Compute probability that the number of heads out of N \n",
    "    coin flips (each of probability p) is divisible by 3.\n",
    "    Returns the probability computed from the binomial\n",
    "    distribution and the probability computed from recursion.\n",
    "    \"\"\"\n",
    "    \n",
    "    #compute the probability from the binomial\n",
    "    P_arr=[]\n",
    "    for n in range(1, N):\n",
    "        P = np.sum(np.array([binom(n, 3*k)*p**(3*k)*(1-p)**(n-3*k)\\\n",
    "                             for k in range(0, int(np.floor(n/3)+1))]))\n",
    "        P_arr.append(P)\n",
    "     \n",
    "    #compute the probability from recursion\n",
    "    q = 1-p\n",
    "    \n",
    "    #initialize recursion\n",
    "    an_HH = [0, 0, p]\n",
    "    an_H = [0, 0, p**2]\n",
    "    an = [q, q**2, p**3+q**3]\n",
    "    \n",
    "    for _ in range(N-4):\n",
    "        #recursion update equations\n",
    "        an_HH_new = an[-3]*p+an_HH[-1]*q\n",
    "        an_H_new = an_HH_new*p+an_H[-1]*q\n",
    "        an_new = an_H_new*p+an[-1]*q\n",
    "\n",
    "        an_HH.append(an_HH_new)\n",
    "        an_H.append(an_H_new)\n",
    "        an.append(an_new)\n",
    "        \n",
    "    return (P_arr, an)"
   ]
  },
  {
   "cell_type": "code",
   "execution_count": 40,
   "metadata": {},
   "outputs": [],
   "source": [
    "results1 = compute_binom_recur(.2, 500)\n",
    "results2 = compute_binom_recur(.5, 500)\n",
    "results3 = compute_binom_recur(.8, 500)"
   ]
  },
  {
   "cell_type": "code",
   "execution_count": 42,
   "metadata": {},
   "outputs": [
    {
     "data": {
      "image/png": "[encoded data removed]",
      "text/plain": [
       "<matplotlib.figure.Figure at 0x1138e9908>"
      ]
     },
     "metadata": {},
     "output_type": "display_data"
    }
   ],
   "source": [
    "f, (ax1, ax2, ax3) = plt.subplots(1, 3, figsize=(11.4, 4))\n",
    "\n",
    "\n",
    "plt.rc('text', usetex=True)\n",
    "plt.rc('font', family='serif')\n",
    "\n",
    "ax1.scatter(results1[0], results1[1], color='gray', s=70)\n",
    "ax2.scatter(results2[0], results2[1], color='gray', s=70)\n",
    "ax3.scatter(results3[0], results3[1], color='gray', s=70)\n",
    "\n",
    "ax1.plot([0, 1], [0, 1], color='black', linewidth=2)\n",
    "ax2.plot([0, 1], [0, 1], color='black', linewidth=2)\n",
    "ax3.plot([0, 1], [0, 1], color='black', linewidth=2)\n",
    "\n",
    "\n",
    "ax1.set_xlim((0, 1.))\n",
    "ax1.set_ylim((0, 1.))\n",
    "\n",
    "ax2.set_xlim((0, 1.))\n",
    "ax2.set_ylim((0, 1.))\n",
    "\n",
    "ax3.set_xlim((0, 1.))\n",
    "ax3.set_ylim((0, 1.))\n",
    "\n",
    "\n",
    "ax1.set_xlabel(r'$a_n$ (binomial)', size=20)\n",
    "ax1.set_ylabel(r'$a_n$ (recursion)', size=20)\n",
    "\n",
    "ax2.set_xlabel(r'$a_n$ (binomial)', size=20)\n",
    "ax2.set_ylabel(r'$a_n$ (recursion)', size=20)\n",
    "\n",
    "ax3.set_xlabel(r'$a_n$ (binomial)', size=20)\n",
    "ax3.set_ylabel(r'$a_n$ (recursion)', size=20)\n",
    "\n",
    "ax1.set_title('$p = 0.2$', size=20)\n",
    "ax2.set_title('$p = 0.5$', size=20)\n",
    "ax3.set_title('$p = 0.8$', size=20)\n",
    "\n",
    "plt.tight_layout()\n",
    "\n",
    "plt.savefig('prob4.pdf', format='pdf');"
   ]
  },
  {
   "cell_type": "code",
   "execution_count": null,
   "metadata": {},
   "outputs": [],
   "source": []
  }
 ],
 "metadata": {
  "kernelspec": {
   "display_name": "Python 3",
   "language": "python",
   "name": "python3"
  },
  "language_info": {
   "codemirror_mode": {
    "name": "ipython",
    "version": 3
   },
   "file_extension": ".py",
   "mimetype": "text/x-python",
   "name": "python",
   "nbconvert_exporter": "python",
   "pygments_lexer": "ipython3",
   "version": "3.5.3"
  }
 },
 "nbformat": 4,
 "nbformat_minor": 2
}
