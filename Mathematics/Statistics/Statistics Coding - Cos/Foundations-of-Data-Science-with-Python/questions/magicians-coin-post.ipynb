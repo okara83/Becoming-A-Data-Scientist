{
 "cells": [
  {
   "cell_type": "code",
   "execution_count": 2,
   "id": "bd1d5739-c13b-48b4-aa89-b45a20d1f908",
   "metadata": {},
   "outputs": [],
   "source": [
    "import random"
   ]
  },
  {
   "cell_type": "code",
   "execution_count": 3,
   "id": "53cd5dcd-8963-4fd0-9ace-d1bcb0702813",
   "metadata": {},
   "outputs": [],
   "source": [
    "def two_flips(num_sims=10000):\n",
    "    coins=['fair','fair','2head']\n",
    "    heads_count1=0\n",
    "    heads_count2=0\n",
    "    for sim in range(num_sims):\n",
    "        coin=random.choice(coins)\n",
    "        if coin=='fair':\n",
    "            faces=['H','T']\n",
    "        else:\n",
    "            faces=['H','H']\n",
    "        coin1_face=random.choice(faces)\n",
    "        if coin1_face =='H':\n",
    "            heads_count1+=1\n",
    "            coin2_face = random.choice(faces)\n",
    "            if coin2_face == 'H':\n",
    "                heads_count2+=1\n",
    "    print(\"Prob. of heads on second flip given heads on first flip is\",\n",
    "          heads_count2/heads_count1)"
   ]
  },
  {
   "cell_type": "code",
   "execution_count": 4,
   "id": "b16c6c84-9c46-4f4c-8b03-190838dab176",
   "metadata": {},
   "outputs": [
    {
     "name": "stdout",
     "output_type": "stream",
     "text": [
      "Prob. of heads on second flip given heads on first flip is 0.750975097509751\n"
     ]
    }
   ],
   "source": [
    "two_flips()"
   ]
  },
  {
   "cell_type": "markdown",
   "id": "51ab2507-0b97-449c-9a54-e3e4350b9edc",
   "metadata": {},
   "source": [
    "(Verified analytically.) \n",
    "\n",
    "$$\n",
    "P(H_1) = 2/3\n",
    "$$\n",
    "\n",
    "$$\n",
    "P(H_1 \\cap H_2) = 1/2\n",
    "$$"
   ]
  },
  {
   "cell_type": "code",
   "execution_count": 5,
   "id": "4b5dd9f4-765d-4f06-9052-9f4b8eb98d39",
   "metadata": {},
   "outputs": [],
   "source": [
    "def two_flips(num_sims=10000):\n",
    "    coins=['fair','2head','2head']\n",
    "    heads_count1=0\n",
    "    heads_count2=0\n",
    "    for sim in range(num_sims):\n",
    "        coin=random.choice(coins)\n",
    "        if coin=='fair':\n",
    "            faces=['H','T']\n",
    "        else:\n",
    "            faces=['H','H']\n",
    "        coin1_face=random.choice(faces)\n",
    "        if coin1_face =='H':\n",
    "            heads_count1+=1\n",
    "            coin2_face = random.choice(faces)\n",
    "            if coin2_face == 'H':\n",
    "                heads_count2+=1\n",
    "    print(\"Prob. of heads on second flip given heads on first flip is\",\n",
    "          heads_count2/heads_count1)"
   ]
  },
  {
   "cell_type": "code",
   "execution_count": 7,
   "id": "b4eddd97-52c3-46ce-ad32-c3ed3d8872d1",
   "metadata": {},
   "outputs": [
    {
     "name": "stdout",
     "output_type": "stream",
     "text": [
      "Prob. of heads on second flip given heads on first flip is 0.8988792358644523\n"
     ]
    }
   ],
   "source": [
    "two_flips(100000)"
   ]
  },
  {
   "cell_type": "markdown",
   "id": "0cc0b09e-e7ff-49f8-acce-1a43dac67414",
   "metadata": {},
   "source": [
    "(Verified analytically)\n",
    "\n",
    "$$\n",
    "P(H_1)=5/6\n",
    "$$\n",
    "\n",
    "$$\n",
    "P(H_1 \\cap H_2) = 3/4\n",
    "$$\n",
    "\n",
    "$$\n",
    "P(H_2|H_1) = 9/10\n",
    "$$"
   ]
  },
  {
   "cell_type": "code",
   "execution_count": null,
   "id": "9781c1ec-f89a-4fe3-b489-d75cb38042d1",
   "metadata": {},
   "outputs": [],
   "source": []
  }
 ],
 "metadata": {
  "kernelspec": {
   "display_name": "Python 3",
   "language": "python",
   "name": "python3"
  },
  "language_info": {
   "codemirror_mode": {
    "name": "ipython",
    "version": 3
   },
   "file_extension": ".py",
   "mimetype": "text/x-python",
   "name": "python",
   "nbconvert_exporter": "python",
   "pygments_lexer": "ipython3",
   "version": "3.7.4"
  }
 },
 "nbformat": 4,
 "nbformat_minor": 5
}
