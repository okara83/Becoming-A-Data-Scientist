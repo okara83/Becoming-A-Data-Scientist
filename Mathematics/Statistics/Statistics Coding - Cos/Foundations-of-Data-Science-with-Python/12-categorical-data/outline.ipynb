{
 "cells": [
  {
   "cell_type": "markdown",
   "metadata": {},
   "source": [
    "# Tests of Independence for Categorical Data (Outline)\n",
    "## Introduction to Categorical Data\n",
    "## Summarizing Categorical Data with Contingency Tables\n",
    "## Resampling Chi-Squared Test for Independence \n",
    "## Analytical Chi-Squared Test for Independence \n",
    "## Fisher's Exact Test and Yate's Correction for Continuity\n",
    "## Review\n",
    "## Summary\n",
    "\n"
   ]
  },
  {
   "cell_type": "code",
   "execution_count": null,
   "metadata": {},
   "outputs": [],
   "source": []
  }
 ],
 "metadata": {
  "kernelspec": {
   "display_name": "Python 3",
   "language": "python",
   "name": "python3"
  },
  "language_info": {
   "codemirror_mode": {
    "name": "ipython",
    "version": 3
   },
   "file_extension": ".py",
   "mimetype": "text/x-python",
   "name": "python",
   "nbconvert_exporter": "python",
   "pygments_lexer": "ipython3",
   "version": "3.7.4"
  }
 },
 "nbformat": 4,
 "nbformat_minor": 4
}
