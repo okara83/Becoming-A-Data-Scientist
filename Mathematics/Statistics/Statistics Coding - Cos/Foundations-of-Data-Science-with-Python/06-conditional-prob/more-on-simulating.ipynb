{
 "cells": [
  {
   "cell_type": "markdown",
   "id": "857d028a-89a2-4b08-a71c-7857b234d813",
   "metadata": {},
   "source": [
    "# More on Simulating Conditional Probabilities"
   ]
  },
  {
   "cell_type": "markdown",
   "id": "8252f522-cdbd-461c-9cab-848a437d6112",
   "metadata": {},
   "source": [
    "Simulation is a key technique used in this book to explore random phenomena. Thus, it is important to understand the simulation techniques we use for different scenarios. Consider again the Magician's Coin problem, and let $H_i$ denote the event that the coin comes up heads on the $i$th flip. In {doc}`simulating-cond-probs`, we investigated $P(H_2|H_1)$, the probability of getting Heads on a second flip of the chosen coin given that heads was observed on the first flip.  If we apply the definition of conditional probability from {doc}`definition`, then we can calculate this probability as \n",
    "\n",
    "\n",
    "<!--\n",
    "\\begin{equation}\n",
    "P(H_2|H_1) = \\frac{P(H_1 \\cap H_2)}{P(H_1)}.\n",
    "\\label{eq:p-h2-given-h1}\n",
    "\\end{equation}\n",
    "-->\n",
    "$$\n",
    "P(H_2|H_1) = \\frac{P(H_1 \\cap H_2)}{P(H_1)}.\n",
    "$$ (eq:p-h2-given-h1)\n",
    "\n",
    "However, in {doc}`simulating-cond-probs`, we did not estimate either $P(H_1 \\cap H_2)$ or $P(H_1)$.  Instead, we counted the proportion of times that we observed the outcome $H_2$ when $H_1$ was the outcome of the first flip.  Let's see why these produce the same result.\n",
    "\n",
    "Let's see how we would estimate the probabilities on the right-hand side of {eq}`eq:p-h2-given-h1`. We will use the following notation for the counters we have in the simulation:\n",
    "* $N$ is the total number of simulation trials,\n",
    "* $N_1$ is the number of simulation trials in which the outcome of flip 1 was Heads (i.e., the number of times $H_1$ occurred), and\n",
    "* $N_{12}$ is the number of simulation trials in which the outcomes of both flip 1 and flip 2 were Heads (i.e., the number of times $H_1 \\cap H_2$ was observed.  \n",
    "\n",
    "Now, we can estimate the probability of $H_1$ using its relative frequency,\n",
    "\n",
    "$$\n",
    "P(H_1) = \\frac{N_1}{N}.\n",
    "$$\n",
    "\n",
    "Similarly, we can estimate the probability of $H_1 \\cap H_2$ using its relative frequency,\n",
    "\n",
    "$$ \n",
    "P(H_1 \\cap H_2) =\\frac{N_{12}}{N}.\n",
    "$$\n",
    "\n",
    "If we substitute these into {eq}`eq:p-h2-given-h1`, we get\n",
    "\n",
    "$$\n",
    "P(H_2|H_1) = \\frac{ \\frac{N_{12}}{N} }{ \\frac{N_1}{N} }= \\frac{ N_{12} }{ N_1 }.\n",
    "$$\n",
    "\n",
    "I.e., the result is the same as the approach taken in {doc}`simulating-cond-probs`. In general, we can directly estimate the conditional probability of an event $B$ given an event $A$ using nested if statements to:\n",
    "* Count the number of trials in which $A$ occurred. Call this number $N_A$\n",
    "* Within those trials in which  $A$ occurred, count the number of trials in which $B$ also occurred. Call this number $N_{AB}$.\n",
    "* Estimate the conditional probability of $B$ occurring given that $A$ occurred as \n",
    "\n",
    "$$\n",
    "P(B|A) \\approx \\frac{N_{AB}}{N_A}\n",
    "$$"
   ]
  },
  {
   "cell_type": "markdown",
   "id": "ad409db1-cc76-4cc7-bbed-a6c25566cf64",
   "metadata": {},
   "source": [
    "```{warning}\n",
    "\n",
    "\n",
    "Note that when designing simulation to estimate conditional probabilities, you must be especially careful in selecting the number of trials to be simulated. \n",
    "\n",
    "In simulations of single events, if we think we know the approximate probability of the event, we can use that probability to estimate the number of trials needed to estimate it. For example, if we are estimating a probability $P(A)$ that we believe is close to 0.1, then we can estimate that the event $A$ occurs approximately once in every $1/P_A=10$ trials. If we capture 100 instances of $A$ occurring, we will get a good estimate of $P(A)$, so we might use this information to simulate $100/P_A=1000$ trials.\n",
    "\n",
    "This approach will not work to estimate a conditional probability!\n",
    "\n",
    "<span style=\"color:red;font-weight:bold\">It is not sufficient to use only a conditional probability to estimate the number of trials needed.</span>\n",
    "\n",
    "Let's use an example to show why this is the case. Suppose $A$ and  $B$ are events for which we wish to estimate the conditional probability $P(B|A)$. Consider the scenario where $P(A)=10^{-3}$ and $P(A \\cap B= 9 \\times 10^{-4}$. Then \n",
    "\n",
    "$$\n",
    "P(B|A) = \\frac{P(A \\cap B)}{P(A)} = \\frac{9 \\times 10^{-4}}{10^{-3}} = 0.9.\n",
    "$$\n",
    "\n",
    "If we used only the knowledge of $P(B|A)$, then we might use $100/P(B|A) \\approx 111$ trials. But remember that in the simulation, we estimate the conditional probability as\n",
    "\n",
    "$$\n",
    "P(B|A) \\approx \\frac{N_{AB}}{N_A}.\n",
    "$$\n",
    "We can estimate the values of these counters as follows. (We will formalize the meaning of these estimates later in the book when we talk about expected values/ensemble means.) $N_A$ will be approximately equal to the number of trials times $P(A)$, so it will be approximately equal to $111 P(A)= 0.11$. In other words, in 111 trials, most of the time we will not see any event $A$ occur. The estimated value of counter $N_{AB}$ will be the estimated number of trials in which we see both $A$ and $B$ occur, which will be approximately equal to $111 P(A \\cap B) \\approx 0.1$. **If we only use  the conditional probability information, we may severely underestimate the number of trials required to observe a sufficient number of events.**\n",
    "\n",
    "$\\Rightarrow$ When determining a sufficient number of trials for a simulation of a conditional probability $P(B|A)$, we must determine the required number of trials from the (estimated) value of $P(A \\cap B)$, if known. If no information about $P(A \\cap B)$ is available, the value of $N_{AB}$ should be checked at the end of the simulation to make sure that a sufficient number of events (at least 10; 100 is better) were observed.\n",
    "\n",
    "Because of this effect, some people will code their simulation to run until $N_{AB}$ reaches a specific threshold. This will bias the estimate of the $P(B|A)$ for reasons that are beyond the scope of this book. However, the bias will be small if threshold is large (>100).\n",
    "\n",
    "\n",
    "\n",
    "\n",
    "\n",
    "\n",
    "```"
   ]
  }
 ],
 "metadata": {
  "kernelspec": {
   "display_name": "Python 3 (ipykernel)",
   "language": "python",
   "name": "python3"
  },
  "language_info": {
   "codemirror_mode": {
    "name": "ipython",
    "version": 3
   },
   "file_extension": ".py",
   "mimetype": "text/x-python",
   "name": "python",
   "nbconvert_exporter": "python",
   "pygments_lexer": "ipython3",
   "version": "3.9.12"
  }
 },
 "nbformat": 4,
 "nbformat_minor": 5
}
