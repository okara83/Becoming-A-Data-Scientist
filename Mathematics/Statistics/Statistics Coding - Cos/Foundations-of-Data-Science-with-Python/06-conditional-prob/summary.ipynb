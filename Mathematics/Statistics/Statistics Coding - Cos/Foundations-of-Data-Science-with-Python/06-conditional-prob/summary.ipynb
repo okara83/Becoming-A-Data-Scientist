{
 "cells": [
  {
   "cell_type": "markdown",
   "id": "225a722c-7b09-47e8-95bb-99d97e4b9e71",
   "metadata": {},
   "source": [
    "# Summary\n",
    "\n",
    "It is often said that \"all probabilities are conditional\". I believe that most people that say this are applying what is known as the Bayesian philosophy of probability, in which randomness can often be attributed to our lack of perfect knowledge of the event being evaluated. Since we have to have some model of a random experiment to evaluate the probabilities of events in that experiment, it makes sense to say that all probabilities are conditional -- the probabilities we generate come from our model knowledge.\n",
    "\n",
    "In this chapter, I introduced fundamental notation and definitions for conditional probabilities. In addition, we learned how to estimate conditional probabilities through simulation, and I pointed out a common misunderstanding in determining how many trials of an experiment must be simulated to estimate a conditional probability. \n",
    "\n",
    "I introduced the concepts of statistical independence and conditional independence and gave examples to illustrate these concepts. Then chain rules and the Law of Total Probability were introduced, and several tricky problems were analyzed using these tools.\n",
    "\n",
    "Conditional probability is fundamental to many things data scientists and electrical engineers do, and in the next chapter, we build on these basic concepts to develop techniques for making optimal decisions about hidden features given observations that are random.\n"
   ]
  }
 ],
 "metadata": {
  "kernelspec": {
   "display_name": "Python 3",
   "language": "python",
   "name": "python3"
  },
  "language_info": {
   "codemirror_mode": {
    "name": "ipython",
    "version": 3
   },
   "file_extension": ".py",
   "mimetype": "text/x-python",
   "name": "python",
   "nbconvert_exporter": "python",
   "pygments_lexer": "ipython3",
   "version": "3.7.4"
  }
 },
 "nbformat": 4,
 "nbformat_minor": 5
}
