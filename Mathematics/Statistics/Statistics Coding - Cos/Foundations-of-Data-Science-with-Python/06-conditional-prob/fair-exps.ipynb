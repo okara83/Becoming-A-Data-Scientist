{
 "cells": [
  {
   "cell_type": "markdown",
   "id": "1bb06507-1f0a-4cfe-991f-c2d60a926277",
   "metadata": {},
   "source": [
    "# Conditional Probabilities and Independence in Fair Experiments"
   ]
  },
  {
   "cell_type": "code",
   "execution_count": 1,
   "id": "4cdce7e3-87e0-4f4c-85f4-ec56e385d333",
   "metadata": {
    "tags": [
     "remove-input"
    ]
   },
   "outputs": [],
   "source": [
    "from jupyterquiz import display_quiz\n",
    "git_path=\"https://raw.githubusercontent.com/jmshea/Foundations-of-Data-Science-with-Python/main/questions/\"\n",
    "\n",
    "#display_quiz(\"../questions/si-conditional.json\")\n",
    "#display_quiz(git_path + \"si-conditional.json\")"
   ]
  },
  {
   "cell_type": "markdown",
   "id": "d5c2e267-6834-4819-b355-56d41aea6664",
   "metadata": {},
   "source": [
    "It may be helpful to consider conditional probabilities and independence in the context of a fair experiment. Recall that for a fair experiment, the (unconditioned) probability of an event $E$ can be computed as\n",
    "\n",
    "$$\n",
    "P(E) = \\frac{|E|}{|S|}.\n",
    "$$\n",
    "\n",
    "Let's see what this means in terms of conditional probabilities and independence by using an example. Consider again the example where a dice is rolled two times and the ordered values from the top face are recorded. As before, we let $E_i$ be the event that the value on face $i$ is less than 3. We previously showed that $P(E_1) = P(E_2) = 1/3$. Let $T_i$ be the event that the total (sum) value shown on the two faces is $i$. For instance, we can write $T_7$ in terms of the outcomes of the composite experiment as \n",
    "\n",
    "$$\n",
    "T_7 =\\left\\{ (1,6),~ (2,5),~ (3,4),~ (4,3),~ (5,2),~ (6,1) \\right\\} \n",
    "$$\n",
    "\n",
    "Then \n",
    "\n",
    "$$\n",
    "P(T_7) = \\frac{|T_7|}{|S|}=\\frac{6}{36}= \\frac 1 6.\n",
    "$$\n",
    "\n",
    "In the figure below, we illustrate four events that we will discuss: $E_1, E_2, T_7,$ and $T_8$.\n",
    "\n",
    "\n",
    "<img src=\"figs/fair-cond-si-example.png\" alt=\"Diagram showing outcomes included in events $E_1$, $E_2$, and $F$.\" width=\"800px\" style=\"margin-left:auto;margin-right:auto;\">\n",
    "\n",
    "\n"
   ]
  },
  {
   "cell_type": "code",
   "execution_count": 4,
   "id": "ed2401d8-60a4-4c55-89f7-8b9a896981c8",
   "metadata": {
    "tags": [
     "remove-cell"
    ]
   },
   "outputs": [
    {
     "name": "stdout",
     "output_type": "stream",
     "text": [
      "(1, 1)   (1, 2)   (1, 3)   (1, 4)   (1, 5)   (1, 6)   \n",
      "(2, 1)   (2, 2)   (2, 3)   (2, 4)   (2, 5)   (2, 6)   \n",
      "(3, 1)   (3, 2)   (3, 3)   (3, 4)   (3, 5)   (3, 6)   \n",
      "(4, 1)   (4, 2)   (4, 3)   (4, 4)   (4, 5)   (4, 6)   \n",
      "(5, 1)   (5, 2)   (5, 3)   (5, 4)   (5, 5)   (5, 6)   \n",
      "(6, 1)   (6, 2)   (6, 3)   (6, 4)   (6, 5)   (6, 6)   \n"
     ]
    }
   ],
   "source": [
    "# Need to see if this is standard in Anaconda\n",
    "\n",
    "for j in range(1, 7):\n",
    "    for k in range(1, 7):\n",
    "        if j < 3:\n",
    "            print(\"(\" + str(j) + \", \" + str(k) + \")   \", end=\"\")\n",
    "        else:\n",
    "            print(\"(\" + str(j) + \", \" + str(k) + \")   \", end=\"\")\n",
    "    print()\n"
   ]
  },
  {
   "cell_type": "markdown",
   "id": "37b86263-b098-42aa-8a34-89c8c9ab0675",
   "metadata": {},
   "source": [
    "Now we will consider some conditional probabilities and see how the computation simplifies for fair experiments. In addition, we will see the implications of  statistical independence for fair experiments.\n",
    "\n",
    "First consider some generic events (i.e. representing any possible event) $A$ and $B$ for this experiment. Then the conditional probability of $A$ given $B$ can be written as\n",
    "\n",
    "\\begin{align}\n",
    "P(A|B) &= \\frac{ P(A \\cap B) }{ P(B)}\\\\\n",
    "&= \\frac{ \\frac{ |A \\cap B|}{|S|}}{ \\frac{|B|}{|S|} }\\\\\n",
    "&= \\frac{|A \\cap B|}{|B|}\n",
    "\\end{align}\n",
    "\n",
    "It is useful to interpret this as follows: given that $B$ occurs, $|A \\cap B|$ is the number of outcomes in $A$ that are within $B$. Then the conditional probability of $A$ given $B$ is just the proportion of outcomes of $A$ that are within $B$. This verifies the approach we took when we introduced conditional probability: the conditional probability of $A$ can be computed as the probability of $A$ within the reduced sample space, $B$. \n",
    "\n",
    "To make this more concrete, let's apply it to several of the events we have introduced. If we want to compute the conditional probability of $E_1$ given $E_2$, we can refer to the figure shown below:\n",
    "\n",
    "<img src=\"figs/Given_E2.png\" alt=\"Diagram showing the event $E_2$ and the outcomes of $E_1$ that are within $E_2$.\" width=\"200px\" style=\"margin-left:auto;margin-right:auto;\">\n",
    "\n",
    "There are 4 outcomes of $E_1$ within $E_2$, and there are 12 total outcomes in $E_2$, so is the proportion of outcomes of $E_1$ within $E_2$ is $P(E_1|E_2)=4/12 =1/3.$  \n",
    "\n"
   ]
  },
  {
   "cell_type": "markdown",
   "id": "a7ed3355-b8ce-4cf4-9bfc-87f2e4f57c20",
   "metadata": {},
   "source": [
    "Let's now consider the conditional probability of the event $T_7$ given that $E_1$ occurred by referring to the following figure:\n",
    "\n",
    "<img src=\"figs/T7_given_E1.png\" alt=\"Diagram showing the event $E_1$ and the outcomes of $T7$ that are within $E_1$.\" width=\"500px\" style=\"margin-left:auto;margin-right:auto;\">\n",
    "\n",
    "There are 2 outcomes of $T_7$ out of the 12 total outcomes that make up $E_1$, so the conditional probability of $T_7$ given $E_1$ is $P(T_7 |E_1) = 2/12 = 1/6$.\n",
    "\n",
    "Note that there are 2 outcomes of $E_1$ within the 6 total outcomes of $T_7$, so $P(E_1|T_7)=2/6=1/3$.\n",
    "\n",
    "Now consider the conditional probabilities $P(T_8|E_2)$ and $P(E_2|T_8)$. We will use the following figure for reference:\n",
    "\n",
    "<img src=\"figs/E2_and_T8.png\" alt=\"Diagram showing the events $E_2$ and $T8$.\" width=\"600px\" style=\"margin-left:auto;margin-right:auto;\">\n",
    "\n",
    "By inspection, we see that the proportion of outcomes of $T_8$ in $E_2$ is 1/12, so $P(T_8|E_2) =1/12$. Similarly, the proportion of outcomes of $E_2$ in $T_8$ is 1/5, so $P(E_2|T_8) = 1/5$."
   ]
  },
  {
   "cell_type": "markdown",
   "id": "b6cddac2-029a-445a-8866-0ba6902aa5d8",
   "metadata": {},
   "source": [
    "Now, let's consider which pairs events that we have discussed are independent and what that means in terms of the outcomes. \n",
    "* We calculated that $P(E_1|E_2) =1/3 = P(E_1)$, so $E_1$ is independent of $E_2$.\n",
    "* We calculated that $P(T_7|E_1) =1/6 = P(T_7)$, so $T_7$ is independent of $E_1$.\n",
    "* We calculated that $P(E_1|T_7) = 1/3= P(E_1)$, so $E_1$ is independent of $T_7$ (which we also could infer from the previous step).\n",
    "* We calculated that $P(T_8 | E_2) = 1/12$, but $P(T_8) =5/36$, so $T_8$ is *not* independent of $E_2$.\n",
    "* We calculated that $P(E_2 | T_8) = 1/5$, but $P(E_2)=1/3$, so $E_2$ is *not* independent of $T_8$ (again, we could have inferred this from the previous step).\n",
    "\n",
    "So, what is required for independence for fair experiments? For an event $A$ to be independent of an event $B$, the proportion of outcomes of $A$ within $B$ must equal the proportion of outcomes of $A$ within $S$ (the original sample space).  Or we could also test if the proportion of outcomes of $B$ within $A$ is equal to the proportion of outcomes of $B$ within $S$. \n",
    "\n",
    "**Please note that all these computations involving proportions do not necessarily hold (and usually do not hold) if the experiment is not fair!**"
   ]
  },
  {
   "cell_type": "markdown",
   "id": "9815b5f0-d805-434d-b23f-a96dd7c78440",
   "metadata": {},
   "source": [
    "Now, note that $E_1$ and $E_2$ are independent. And we showed $T_7$ and $E_1$ are independent. It is not hard to see that $T_7$ and $E_2$ are also independent. Combined, we can see that $E_1$, $E_2$, and $T_7$ are *pairwise statistically independent*. So, are these events independent? We only need to check if one more condition holds: does $P(E_1 \\cap E_2 \\cap T_7)$ equal $P(E_1) P(E_2) P(T_7)$?  We have\n",
    "\n",
    "\\begin{align}\n",
    "P(E_1) P(E_2) P(T_7) &= \\left( \\frac 1 3\\right) \\left(\\frac 1 3\\right) \\left(\\frac 1 6\\right)  \\\\\n",
    "&= \\frac 1 {54}\n",
    "\\end{align}\n",
    "\n",
    "Now consider $E_1 \\cap E_2 \\cap T_7$. We can find the outcomes in this event by performing the leftmost intersection first, as $\\left( E_1 \\cap E_2\\right) \\cap T_7$, as shown in the following figure:\n",
    "\n",
    "<img src=\"figs/e1_e2_t7.png\" alt=\"Diagram showing the events $E_1 \\cap E_2$ and $T_7$.\" width=\"600px\" style=\"margin-left:auto;margin-right:auto;\">\n",
    "\n",
    "The events $E_1 \\cap E_2$ and $T_7$ are mutually exclusive, so there are no outcomes in $E_1 \\cap E_2 \\cap T_7$, and $P(E_1 \\cap E_2 \\cap T_7) = 0 \\ne P(E_1) P(E_2) P(T_7)$\n",
    "\n",
    "Thus, $E_1$, $E_2$, and $T_7$ are an example of events that are pairwise s.i., but not s.i."
   ]
  }
 ],
 "metadata": {
  "kernelspec": {
   "display_name": "Python 3 (ipykernel)",
   "language": "python",
   "name": "python3"
  },
  "language_info": {
   "codemirror_mode": {
    "name": "ipython",
    "version": 3
   },
   "file_extension": ".py",
   "mimetype": "text/x-python",
   "name": "python",
   "nbconvert_exporter": "python",
   "pygments_lexer": "ipython3",
   "version": "3.9.12"
  }
 },
 "nbformat": 4,
 "nbformat_minor": 5
}
