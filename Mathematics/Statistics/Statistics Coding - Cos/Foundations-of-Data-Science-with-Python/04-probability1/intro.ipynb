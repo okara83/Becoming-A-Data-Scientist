{
 "cells": [
  {
   "cell_type": "markdown",
   "id": "5f1efcfd",
   "metadata": {},
   "source": [
    "# Introduction to Probability\n",
    "\n",
    "![ML Generated Image for Prompt \"Introduction to Probability\"](introduction-to-probability.jpg)\n",
    "\n",
    "In this chapter, I provide an introduction to probability, which is an essential mathematical foundation for data science. Until now, some of the wording has been intentionally vague because we do not yet have the correct terminology. This chapter will provide both a rigorous mathematical foundation for dealing with random phenomena as well as carefully defined terminology for describing these phenomena and how they interact."
   ]
  },
  {
   "cell_type": "code",
   "execution_count": null,
   "id": "f4ae2f71-c867-44ff-81c0-e5d354a33102",
   "metadata": {},
   "outputs": [],
   "source": []
  }
 ],
 "metadata": {
  "kernelspec": {
   "display_name": "Python 3 (ipykernel)",
   "language": "python",
   "name": "python3"
  },
  "language_info": {
   "codemirror_mode": {
    "name": "ipython",
    "version": 3
   },
   "file_extension": ".py",
   "mimetype": "text/x-python",
   "name": "python",
   "nbconvert_exporter": "python",
   "pygments_lexer": "ipython3",
   "version": "3.7.4"
  }
 },
 "nbformat": 4,
 "nbformat_minor": 5
}
