{
 "cells": [
  {
   "cell_type": "markdown",
   "id": "bcec7874-9d71-431e-8ed6-7a19134d84eb",
   "metadata": {},
   "source": [
    "# Summary\n",
    "\n",
    "The primary purpose of this chapter is to formalize our language and techniques for dealing with random phenomena. Our framework for doing that is the probability space, which consists of:\n",
    "* a sample space, which contains all of the outcomes for a random experiment,\n",
    "* an event class, which contains sets of events to which we will assign probability, and\n",
    "* a probability measure, which is a set function that assigns probabilities to the events.\n",
    "\n",
    "The properties of probability come from the three Axioms of Probability:\n",
    "\n",
    "**I.**  For every event $E$ in the eventclass $\\mathcal{F}$, $ P(E) \\ge 0$  *(the event probabilities are non-negative)*.\n",
    "\n",
    "**II.** $P(S) =1$   *(the probability that some outcome occurs is 1)*\n",
    "\n",
    "**III.** For all pairs of events $E$ and $F$ in the event class that are disjoint ($E \\cap F = \\emptyset$), \n",
    "          $P( E \\cup F) = P(E)+P(F)$ *(if two events are disjoint, then the probability that either one of the events occurs is equal to the sum of the event probabilities)*\n",
    "\n",
    "I also formalized the concept of *fair experiments*, in which each outcome is equally likely. Calculating the probabilities for a fair experiment follow a simple rule:\n",
    "* For a fair experiment with $|S|$ outcomes, the probability of an event that contains $E$ outcomes is \n",
    "\n",
    "$$\n",
    "P(E) = \\frac{|E|}{|S|}\n",
    "$$\n",
    "\n",
    "However, we saw that counting the number of outcomes in an event is sometimes nontrival, and we introduced several counting techniques from combinatorics to help with this. \n",
    "We will see some of these same formulas again when we introduce random variables.\n",
    "\n",
    "In the next chapter, we introduce conditional probability, which is used when there may be dependence between events. Because statistical techniques are often designed to test such dependence, this is one of the most important fundamental topics in this book."
   ]
  }
 ],
 "metadata": {
  "kernelspec": {
   "display_name": "Python 3 (ipykernel)",
   "language": "python",
   "name": "python3"
  },
  "language_info": {
   "codemirror_mode": {
    "name": "ipython",
    "version": 3
   },
   "file_extension": ".py",
   "mimetype": "text/x-python",
   "name": "python",
   "nbconvert_exporter": "python",
   "pygments_lexer": "ipython3",
   "version": "3.9.12"
  }
 },
 "nbformat": 4,
 "nbformat_minor": 5
}
