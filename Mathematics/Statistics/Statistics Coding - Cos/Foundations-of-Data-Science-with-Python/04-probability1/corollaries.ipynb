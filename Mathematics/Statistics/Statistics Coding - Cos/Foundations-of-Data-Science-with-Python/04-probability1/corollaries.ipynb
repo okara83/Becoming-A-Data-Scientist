{
 "cells": [
  {
   "cell_type": "markdown",
   "id": "46a1f256",
   "metadata": {},
   "source": [
    "```{index} axioms of probability; corollaries\n",
    "```\n",
    "\n",
    "# Corollaries to the Axioms of Probability\n",
    "\n",
    "Corollaries are results that can be proven from more fundamental theorems or properties. In this case, we are interested in what additional properties or relations we can develop for our probability measure, based on the Axioms of Probability. \n",
    "\n",
    "Let $A \\in \\mathcal{F}$ and $B \\in \\mathcal{F}$.  Then the following\n",
    "  properties of $P$ can be derived from the axioms and the\n",
    "  mathematical structure of $\\mathcal{F}$:\n"
   ]
  },
  {
   "cell_type": "markdown",
   "id": "fc4dc8c3",
   "metadata": {},
   "source": [
    "**Corollary 1.** Let $\\overline{A}$ denote the complement of $A$; i.e., $\\overline{A}$ contains every outcome in $S$ that is  not in $A$. Then\n",
    "\n",
    "$$\n",
    "P\\left( \\overline{A} \\right) = 1 - P\\left(A \\right).\n",
    "$$\n",
    "\n",
    "*Proof:*\n",
    "\n",
    "The proof uses Axioms II and III, as well as properties of sets. First, note that $A \\cup \\overline{A} = S$ and that $A$ and $\\overline{A}$ are disjoint by definition. Then by Axioms II and III,\n",
    "\\begin{align*}\n",
    "P(S) &= 1\\\\\n",
    "P(A \\cup \\overline{A}) &=1 \\\\\n",
    "P(A) + P(\\overline{A}) &= 1 \\\\\n",
    "P(A) &= 1 - P(\\overline{A}).\n",
    "\\end{align*}\n",
    "\n",
    "\n"
   ]
  },
  {
   "cell_type": "markdown",
   "id": "4ab776ba",
   "metadata": {},
   "source": [
    "**Example**\n",
    "\n",
    "A fair six-sided die is rolled two times and the top faces are recorded. What is the probability that neither roll is less than 3?\n",
    "\n",
    "Let $E_i$ be the event that the outcome of roll $i$ is less than 3. Then we are asked to find $P\\left(\\overline{E_1} \\cap \\overline{E_2} \\right)$. \n",
    "\n",
    "By DeMorgan's rules, \n",
    "\n",
    "$$\n",
    "P\\left(\\overline{E_1} \\cap \\overline{E_2} \\right) = P\\left(\\overline{E_1 \\cup E_2} \\right).\n",
    "$$\n",
    "\n",
    "We can apply Corollary 1 to get\n",
    "\n",
    "$$\n",
    "P\\left(\\overline{E_1 \\cup E_2} \\right) = 1 - P\\left(E_1 \\cup E_2 \\right).\n",
    "$$\n",
    "\n",
    "But we already found the probability on the right-hand side to be 5/9 in {doc}`Axiomatic Probability<axiomatic-prob>`. Thus, probability we are looking for is $1-5/9=4/9$.\n"
   ]
  },
  {
   "cell_type": "markdown",
   "id": "fcfbb07b",
   "metadata": {},
   "source": [
    "  \n",
    "**Corollary 2.** $P(A)\\le 1$ \n",
    "\n",
    "As previously noted, this restriction is not included in the axioms. \n",
    "\n",
    "*Proof:* \n",
    "\n",
    "By Corollary 1, we have\n",
    "\n",
    "$$\n",
    "P(A) = 1 - P(\\overline{A}).\n",
    "$$\n",
    "\n",
    "By Axiom I, $P(\\overline{A}) \\ge 0$, so it must be that $P(A) \\le 1$.\n"
   ]
  },
  {
   "cell_type": "markdown",
   "id": "53d7512c",
   "metadata": {},
   "source": [
    "\n",
    "**Corollary 3.** $P(\\emptyset)=0$\n",
    "\n",
    "*Proof:*\n",
    "\n",
    "By Corollary 1, we have\n",
    "\n",
    "$$\n",
    "P(\\emptyset) = 1 - P(\\overline{\\emptyset}).\n",
    "$$\n",
    "\n",
    "But $\\overline{\\emptyset} =S$. Thus, \n",
    "\\begin{align}\n",
    "P(\\emptyset) &= 1 - P(S) \\\\\n",
    "&= 1-1 \\\\\n",
    "&=0\n",
    "\\end{align}\n",
    "\n",
    "\n"
   ]
  },
  {
   "cell_type": "markdown",
   "id": "ac083fb9",
   "metadata": {},
   "source": [
    "**Corollary 4.** If $A_1, A_2, \\ldots, A_n$ are pairwise mutually \n",
    "      exclusive, then \n",
    "      \n",
    "      \\begin{eqnarray*}\n",
    "        P\\left(\\bigcup_{k=1}^{n} A_k \\right)= \\sum_{k=1}^{n} P(A_k)\n",
    "      \\end{eqnarray*}\n",
    "      \n",
    "The proof is by induction and is omitted."
   ]
  },
  {
   "cell_type": "markdown",
   "id": "29089d99",
   "metadata": {},
   "source": [
    "```{index} union; probabilities of\n",
    "```\n",
    "\n",
    "\n",
    "**Corollary 5.** $P(A \\cup B) = P(A) +P(B) - P(A \\cap B)$\n",
    "\n",
    "*Proof*\n",
    "\n",
    "The proof requires a bit of work with sets and applying Axiom III. It is based on the following Venn diagram for the event $A \\cup B$:\n",
    "\n",
    "<!--![Venn Diagram with Disjoint Parts Labeled](prob-unions.png) -->\n",
    "\n",
    "<img src=\"prob-unions.png\" alt=\"Venn Diagram with Disjoint Regions Labeled\" width=\"400px\" style=\"margin-left:auto;margin-right:auto;\">\n",
    "\n",
    "Note that the regions  $A \\cap \\overline{B}$, $A \\cap B$, and $B \\cap \\overline{A}$ are disjoint.\n",
    "\n",
    "In addition, note that we can write \n",
    "\\begin{align*}\n",
    "A \\cup B &= \\biggl(A \\cap \\overline{B} \\biggr) \\cup  \\biggl ( A \\cap B \\biggr)  \\cup \\biggl( B \\cap \\overline{A} \\biggr) \\\\\n",
    "A &=\\biggl(A \\cap \\overline{B} \\biggr) \\cup  \\biggl ( A \\cap B \\biggr), \\mbox{ and} \\\\\n",
    " B &=    \\biggl( B \\cap \\overline{A} \\biggr) \\cup \\biggl ( A \\cap B \\biggr).  \\\\\n",
    "\\end{align*}\n",
    "\n",
    "Applying Axiom III to each of these identities yields:\n",
    "\\begin{align*}\n",
    "P(A \\cup B) &= P\\biggl(A \\cap \\overline{B} \\biggr) + P\\biggl ( A \\cap B \\biggr)+ P \\biggl( B \\cap \\overline{A} \\biggr) \\\\\n",
    "P(A) &= P\\biggl(A \\cap \\overline{B} \\biggr) +  P\\biggl ( A \\cap B \\biggr), \\mbox{ and} \\\\\n",
    "P(B) &=    P\\biggl( B \\cap \\overline{A} \\biggr) + P \\biggl ( A \\cap B \\biggr).  \\\\\n",
    "\\end{align*}\n",
    "\n",
    "We can write the last two equations as\n",
    "\\begin{align*}\n",
    "P\\biggl(A \\cap \\overline{B} \\biggr) = P(A) -  P\\biggl ( A \\cap B \\biggr), \\mbox{ and} \\\\\n",
    "P\\biggl( B \\cap \\overline{A} \\biggr) = P(B) - P \\biggl ( A \\cap B \\biggr).  \n",
    "\\end{align*}\n",
    "\n",
    "Substituting into the remaining equation yields:\n",
    "\\begin{align*}\n",
    "P(A \\cup B) &= \\biggl[ P(A) -  P\\biggl ( A \\cap B \\biggr) \\biggr] + P\\biggl ( A \\cap B \\biggr)+ \\biggl[P(B) - P \\biggl ( A \\cap B \\biggr) \\biggr],\n",
    "\\end{align*}\n",
    "which simplifies to the desired result.\n",
    "\n"
   ]
  },
  {
   "cell_type": "markdown",
   "id": "0c90b580",
   "metadata": {},
   "source": [
    "**Example**\n",
    "\n",
    "In the United States, most high school students applying for college take a standardized achievement test called the SAT, which is administered by the College Board. The main test consists of a Verbal and Math part, each of which is scored on a scale from 200 to 800.  The following probability information is inferred from data found online[^sat_data].\n",
    "* The probability of getting over a 600 on the Verbal part is 0.24.\n",
    "* The probability of getting over a 600 on the Math part is 0.25.\n",
    "* The probability of getting over a 600 on both the Math and Verbal parts is 0.16.\n",
    "\n",
    "**(a)** If a college requires that a student get a score over 600 on at least one of the Math and Verbal parts of the SAT to be eligible for admission, what is the probability that a randomly chosen student will meet the college's SAT criterion for admission?\n",
    "\n",
    "Let \n",
    "\n",
    "$V$ = event that verbal score > 600\n",
    "$M$ = event that Math score > 600\n",
    "\n",
    "We are looking for $P\\left(V \\cup M \\right)$. We can apply Corollary 5,\n",
    "\\begin{align*}\n",
    "P\\left( V \\cup M \\right) &= P(V) + P(M) - P(V \\cap M) \\\\\n",
    " &= 0.24 + 0.25 -   0.16 \\\\\n",
    " &= 0.33\n",
    "\\end{align*}\n",
    "\n",
    "About 1/3 of students who take the SAT will be meet the college's criterion.\n",
    "\n",
    "[^sat_data]: Data on correlation  from https://eportfolios.macaulay.cuny.edu/liufall2013/files/2013/10/New_Perspectives.pdf .\n",
    "Data on mean and variance is from https://blog.prepscholar.com/sat-standard-deviation .\n",
    "\n",
    "\n",
    "(b) What is the probability that a randomly chosen student does not make over a 600 on either test?\n",
    "\n",
    "This probability can be written as $P( \\overline{V} \\cap \\overline{M})$.  It is the complement of the event in part (a):\n",
    "\\begin{align*}\n",
    "P( \\overline{V} \\cap \\overline{M}) &= P\\left( \\overline{V \\cup M} \\right) \\\\\n",
    "&= 1- P\\left( V \\cup M \\right) \\\\\n",
    "&= 0.67\n",
    "\\end{align*}\n",
    "\n",
    "(c) What is the probability that a randomly chosen student makes over a 600 on the Math part but a 600 or less on the Verbal part?\n",
    "\n",
    "This probability can be written as $P(M \\cap \\overline{V})$. I will provide a purely mathematical answer, but it is helpful to draw a Venn diagram to visualize this scenario. Note that\n",
    "\\begin{align*}\n",
    "P(M) &= P \\left(M \\cap V \\right) + P\\left(M \\cap \\overline{V} \\right)\\\\\n",
    "P\\left(M \\cap \\overline{V} \\right) &= P(M) - P \\left(M \\cap V \\right) \\\\\n",
    "&= 0.25 - 0.16 \\\\\n",
    "&= 0.09\n",
    "\\end{align*}\n"
   ]
  },
  {
   "cell_type": "markdown",
   "id": "a05f4772",
   "metadata": {},
   "source": [
    "**Example**\n",
    "\n",
    "**(Take 2)** A fair six-sided die is rolled twice.  What is the probability that either of the rolls is a value less than 3? \n",
    "\n",
    "As before, let $E_i$ be the event that the top face on roll $i$ is less than 3, for $i=1,2$.\n",
    "   \n",
    "Referring back to {doc}`axiomatic-prob`, note that it is much easier to calculate the number of outcomes in $E_1 \\cap E_2$ than to count the number of items in $E_1 \\cup E_2$.  (Intersections are always no bigger than the smallest constituent set, where unions are no smaller than the largest of the  constituent sets.)\n",
    "\n",
    "Here is the code that displays the intersection:"
   ]
  },
  {
   "cell_type": "code",
   "execution_count": 2,
   "id": "69242a26",
   "metadata": {},
   "outputs": [
    {
     "name": "stdout",
     "output_type": "stream",
     "text": [
      "Outcomes in both E1 and E2 are in red:\n",
      "\u001b[31m(1, 1)   \u001b[0m\u001b[31m(1, 2)   \u001b[0m(1, 3)   (1, 4)   (1, 5)   (1, 6)   \n",
      "\u001b[31m(2, 1)   \u001b[0m\u001b[31m(2, 2)   \u001b[0m(2, 3)   (2, 4)   (2, 5)   (2, 6)   \n",
      "(3, 1)   (3, 2)   (3, 3)   (3, 4)   (3, 5)   (3, 6)   \n",
      "(4, 1)   (4, 2)   (4, 3)   (4, 4)   (4, 5)   (4, 6)   \n",
      "(5, 1)   (5, 2)   (5, 3)   (5, 4)   (5, 5)   (5, 6)   \n",
      "(6, 1)   (6, 2)   (6, 3)   (6, 4)   (6, 5)   (6, 6)   \n"
     ]
    }
   ],
   "source": [
    "from termcolor import colored\n",
    "print(\"Outcomes in both E1 and E2 are in red:\")\n",
    "for j in range(1,7):\n",
    "    for k in range(1,7):\n",
    "        if j<3 and k<3:\n",
    "            print(colored(\"(\"+str(j)+\", \"+str(k)+\")   \", 'red'), end=\"\")\n",
    "        else:\n",
    "            print(\"(\"+str(j)+\", \"+str(k)+\")   \", end=\"\")\n",
    "    print()"
   ]
  },
  {
   "cell_type": "markdown",
   "id": "33245800",
   "metadata": {},
   "source": [
    "We see that $| E_1 \\cap E_2| = 4$, which means that $P(E_1 \\cap E_2) = 4/36=1/9$.  Then we can calculate the desired probability as\n",
    "\\begin{align*}\n",
    "P(E_1 \\cup E_2) &= P(E_1) + P(E_2) - P(E_1 \\cap E_2) \\\\\n",
    "&= \\frac{2}{6} + \\frac{2}{6} - \\frac{1}{9}\\\\\n",
    "&= \\frac{5}{9}\n",
    "\\end{align*}"
   ]
  },
  {
   "cell_type": "markdown",
   "id": "ae9308ef",
   "metadata": {},
   "source": [
    "**Corollary 6.**   If $A \\subset B$, then $P(A) \\le P(B)$.\n",
    "\n",
    "*Proof*\n",
    "\n",
    "It may be helpful to refer to the Venn diagram for some intuition:\n",
    "\n",
    "\n",
    "<img src=\"prob-subset.png\" alt=\"Venn Diagram of Two Sets A and B, where A is a subset of B\" width=\"250px\" style=\"margin-left:auto;margin-right:auto;\">\n",
    "\n",
    "Note that $ A \\subset B$ implies that $A \\cap B = A$. Then \n",
    "\\begin{align*}\n",
    "P(B) &= P\\left(B \\cap A \\right) + P \\left(B \\cap \\overline{A} \\right) \\\\\n",
    "     &= P\\left( A \\right) + P \\left(B \\cap \\overline{A} \\right) \\\\\n",
    "P\\left( A \\right) &= P(B) - P \\left(B \\cap \\overline{A} \\right) \n",
    "\\end{align*}\n",
    "Since $P \\left(B \\cap \\overline{A} \\right) \\ge 0$, $P(A) \\le P(B)$.\n"
   ]
  },
  {
   "cell_type": "markdown",
   "id": "19dfe8ac",
   "metadata": {},
   "source": [
    "**Corollary 7.**\n",
    "\n",
    "\\begin{eqnarray*}\n",
    "P\\left( \\bigcup_{k=1}^{n} A_k \\right) &=& \n",
    "\\sum_{k=1}^{n} P\\left(A_j\\right)\n",
    "    -\\sum_{j<k} P \\left( A_j \\cap A_k \\right) + \\cdots \\\\\n",
    "    && + \n",
    "    (-1)^{(n+1) } P\\left(A_1 \\cap A_2 \\cap \\cdots \\cap A_n \\right)\n",
    "\\end{eqnarray*} \n",
    "\n",
    "Here the ellipses indicate that the pattern should be continued until exhaustion: add all single events, subtract off all intersections of pairs of events, add in all intersections of 3 events, ...}\n",
    "\n",
    "The proof is by induction and is omitted."
   ]
  },
  {
   "cell_type": "markdown",
   "id": "7a7825ec",
   "metadata": {},
   "source": [
    "Note that the set of Corollaries is not unique, and this set is not meant to be comprehensive. Rather, this represents some common tools that we will use in our work on probability."
   ]
  }
 ],
 "metadata": {
  "kernelspec": {
   "display_name": "Python 3 (ipykernel)",
   "language": "python",
   "name": "python3"
  },
  "language_info": {
   "codemirror_mode": {
    "name": "ipython",
    "version": 3
   },
   "file_extension": ".py",
   "mimetype": "text/x-python",
   "name": "python",
   "nbconvert_exporter": "python",
   "pygments_lexer": "ipython3",
   "version": "3.9.12"
  }
 },
 "nbformat": 4,
 "nbformat_minor": 5
}
