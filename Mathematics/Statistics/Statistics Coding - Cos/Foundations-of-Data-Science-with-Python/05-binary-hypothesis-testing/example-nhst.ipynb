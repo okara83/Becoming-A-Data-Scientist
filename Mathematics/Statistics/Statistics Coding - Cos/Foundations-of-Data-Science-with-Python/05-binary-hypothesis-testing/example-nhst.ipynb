{
 "cells": [
  {
   "cell_type": "markdown",
   "id": "f819de5d-a1ee-4ca0-9e35-bdf964581258",
   "metadata": {},
   "source": [
    "# Example Null Hypothesis Significance Tests on Whether  Post-Baccalaureate Education Increases Family Wealth"
   ]
  },
  {
   "cell_type": "markdown",
   "id": "a5446abc-dec3-4180-af62-4dfa965ec2a1",
   "metadata": {},
   "source": [
    "Let's return to the example introduced in {doc}`nhst`. We want to use data from the National Longitudinal Survey of Youth 1979 (NLSY79) to answer questions about whether post-baccalaureate education increases family wealth. In particular, we asked two questions:\n",
    "1. Is the observed increase in median wealth ($\\Delta = 57,400$) between the undergrad and grad groups statistically significant?\n",
    "2. Is the observed increase in the relative frequency of millionaires between the undergrad and grad groups ($\\Delta \\approx 0.053$) statistically significant?\n",
    "\n",
    "Now that we have a more detailed understanding of how we calculate $p$-values, one- and two-sided tests, and different approaches to sample from the pooled, data, we are ready to answer these questions.\n",
    "\n",
    "First, let's load the libraries we will need:"
   ]
  },
  {
   "cell_type": "code",
   "execution_count": 37,
   "id": "c8fc103c-961f-4e20-ad92-a69fa6cfc72f",
   "metadata": {},
   "outputs": [],
   "source": [
    "import pandas as pd\n",
    "import matplotlib.pyplot as plt\n",
    "import numpy as np\n",
    "import numpy.random as npr\n"
   ]
  },
  {
   "cell_type": "markdown",
   "id": "d9bd2b7a-1260-4d3c-b117-d4f611a84faf",
   "metadata": {},
   "source": [
    "Now load the data, filter out those entries that do not have valid data, and create our `undergrad` and `grad` subsets:"
   ]
  },
  {
   "cell_type": "code",
   "execution_count": 43,
   "id": "426a9d9b-001b-46bf-974b-55a6217d88fa",
   "metadata": {},
   "outputs": [],
   "source": [
    "import pandas as pd\n",
    "repo = 'https://raw.githubusercontent.com/jmshea/Foundations-of-Data-Science-with-Python/'\n",
    "df = pd.read_csv(repo + 'main/05-binary-hypothesis-testing/nls/nls.csv')\n",
    "remap = {'R0000100':'CASE_ID',\n",
    "         'T5597600': 'GENDER',\n",
    "         'T5684500': 'NET_WEALTH',\n",
    "         'T9900000': 'HIGHEST_GRADE_EVER'\n",
    "        }\n",
    "df.rename(columns=remap, inplace=True)\n",
    "df2 = df[(df['HIGHEST_GRADE_EVER']>0 ) & (df['NET_WEALTH']>0) ].copy()\n",
    "\n",
    "# Filter on highest grade ever completed and then save the NET_WEALTH column into a new variable \n",
    "# (it will be a Pandas Series, which acts much like a DataFrame)\n",
    "undergrad = df2.query('HIGHEST_GRADE_EVER >= 16 & HIGHEST_GRADE_EVER <=17')['NET_WEALTH']                \n",
    "grad = df2.query('HIGHEST_GRADE_EVER >= 18')['NET_WEALTH']\n"
   ]
  },
  {
   "cell_type": "markdown",
   "id": "ed566fea-13c2-406d-9dfc-e5ce7113ccf0",
   "metadata": {},
   "source": [
    "Let's create the pooled data by selecting those rows where the respondent had at least 16 years of education. Because all of our tests are on the `NET_WEALTH` variable, we put only that column into our pooled data:"
   ]
  },
  {
   "cell_type": "code",
   "execution_count": 44,
   "id": "7ce1e290-0bd1-4579-aa8e-3e085f4bb4ad",
   "metadata": {},
   "outputs": [],
   "source": [
    "pooled = df2.query('HIGHEST_GRADE_EVER >= 16')['NET_WEALTH']"
   ]
  },
  {
   "cell_type": "markdown",
   "id": "799d4a83-268e-4d35-ab71-c056f92c868a",
   "metadata": {},
   "source": [
    "For research question 1, the test statistic will be the observed difference in medians for the two groups. Let's compute this difference and store it in a variable:"
   ]
  },
  {
   "cell_type": "code",
   "execution_count": 46,
   "id": "c3a31ba8-6510-41d4-80a0-4e94ec56346a",
   "metadata": {},
   "outputs": [
    {
     "name": "stdout",
     "output_type": "stream",
     "text": [
      "Observed difference in median net family wealth was 57400.0\n"
     ]
    }
   ],
   "source": [
    "delta1 = grad.median() - undergrad.median()\n",
    "print(f'Observed difference in median net family wealth was {delta1}')"
   ]
  },
  {
   "cell_type": "markdown",
   "id": "5147a5ac-d303-49f2-ab55-ddb23d6a4f38",
   "metadata": {},
   "source": [
    "For research question 2, we are computing the proportion of families with net wealth over \\$1,000,000. Because we will be computing these proportions repeatedly during our statistical test, let's make a helper function to do the computation:"
   ]
  },
  {
   "cell_type": "code",
   "execution_count": 52,
   "id": "896f7acd-032a-4a04-b443-af9c3d2f784d",
   "metadata": {},
   "outputs": [],
   "source": [
    "def find_proportion(data, thresh=1_000_000):\n",
    "  return np.sum(data >= thresh) / len(data) "
   ]
  },
  {
   "cell_type": "markdown",
   "id": "ad357a62-21b4-40fd-9b5e-47192a832d30",
   "metadata": {},
   "source": [
    "The test statistic is the difference in observed values of the proportion of millionaires between the grad and undergrad populations. Let's compute that difference and store it in a variable:"
   ]
  },
  {
   "cell_type": "code",
   "execution_count": 55,
   "id": "67146596-76ba-4d4b-a8e0-7a6a0848174c",
   "metadata": {},
   "outputs": [
    {
     "name": "stdout",
     "output_type": "stream",
     "text": [
      "Observed difference in proportion of millionaires is 0.05327386547112914\n"
     ]
    }
   ],
   "source": [
    "delta2 = find_proportion(grad) - find_proportion(undergrad)\n",
    "print(f'Observed difference in proportion of millionaires is {delta2}')"
   ]
  },
  {
   "cell_type": "markdown",
   "id": "6794419e-a164-45b7-835c-1aaf34f14292",
   "metadata": {},
   "source": [
    "Now we are ready to plan our resampling tests:\n",
    "\n",
    "**First, we need to decide whether to perform a one-sided or two-sided test.** Because the overall question is  \"Whether  Post-Baccalaureate Education Increases Family Wealth\", a one-sided test makes sense. If instead the question was \"Does Post-Baccalaureate Education Affect Family Wealth\", then a two-sided test would have been more appropriate. \n",
    "\n",
    "**Second, we need to decide how we will do resampling.** Because we are going to perform a NHST on sample values of the test statistic, a bootstrap test is justified and is the test that is most commonly used in this type of test. Thus, we will use a bootstrap test. Note, however, that a Monte Carlo permutation test is not wrong, because we are performing a test where we are trying to remove the effect of difference in treatment (the highest grade completed)."
   ]
  },
  {
   "cell_type": "markdown",
   "id": "2cf2f08b-e96d-48f1-90ed-29601b6f47e9",
   "metadata": {},
   "source": [
    "## One-sided Bootstrap Test on Difference of Medians"
   ]
  },
  {
   "cell_type": "markdown",
   "id": "8e1261ca-a434-47ca-8a6d-8a55421f22b9",
   "metadata": {},
   "source": [
    "Our simulation will follow the form in {doc}`nhst`. In each iteration, we:\n",
    "* Draw new groups from the pooled data to represent randomly chosen `undergrad` and `grad` groups. The samples are drawn *with replacement* using the default behavior of `npr.choice()`.\n",
    "* Find the sample value of the test statistic, compare it to the observed value, and increment a counter if it is as extreme as the observed value. Because we are conducting a one-sided test, we will increment the counter if the sample value of the test statistic is *at least as large* as the observed value.\n",
    "\n",
    "At the end of the simulation, we print out the relative frequency of the test statistic being as large as the value observed in the data. \n",
    "\n",
    "```{note}\n",
    "\n",
    "**Choosing the number of simulation iterations for NHST**\n",
    "\n",
    "To accurately estimate the probability of some event via simulation, we usually need to conduct enough simulations to capture around 100 occurrences of that event. If the event occurs with probability $p$, we need approximately $100/p$ iterations in our simulation.\n",
    "\n",
    "However, for a NHST, we do not necessarily need to accurate estimate the probability of the event -- we only need to determine if the probability is close to our significance threshold.  If the probability is very close to our threshold, then we want enough simulations to determine whether the probability is above or below the threshold. Since the significance threshold is usually 0.05 or 0.01, then **we need around $100/(0.01) = 10,000$ simulations**.\n",
    "```"
   ]
  },
  {
   "cell_type": "markdown",
   "id": "028fc90d-2f92-42b6-af2c-aa77007e000a",
   "metadata": {},
   "source": [
    "Here is a simulation based on the discussion above:"
   ]
  },
  {
   "cell_type": "code",
   "execution_count": 67,
   "id": "2601e399-7d1e-4b1e-9452-03640a6e63df",
   "metadata": {},
   "outputs": [
    {
     "name": "stdout",
     "output_type": "stream",
     "text": [
      "The p-value (the proportion of test statistics as extreme as observed in the data) is 0.0915\n"
     ]
    }
   ],
   "source": [
    "num_sims = 10_000\n",
    "count=0\n",
    "\n",
    "# Define these to avoid having to keep calling a function to get them in every iteration\n",
    "undergrad_len = len(undergrad)\n",
    "grad_len = len(grad)\n",
    "\n",
    "\n",
    "for sim in range(num_sims):\n",
    "  # Create random groups under H0 using bootstrap sampling:\n",
    "  undergrad_sample = npr.choice(pooled, undergrad_len)\n",
    "  grad_sample = npr.choice(pooled, grad_len)\n",
    "\n",
    "  # Calculate the sample value of the test statistic\n",
    "  sample_diff = np.median(grad_sample) - np.median(undergrad_sample)\n",
    "  \n",
    "  # Increment the counter based on the one-sided test\n",
    "  if sample_diff >= delta1:\n",
    "    count+=1\n",
    "\n",
    "\n",
    "print(f'The p-value (the proportion of test statistics as extreme as observed in the data) is {count/num_sims}')"
   ]
  },
  {
   "cell_type": "markdown",
   "id": "f5999223-7f32-4e27-8db6-824e134901d9",
   "metadata": {},
   "source": [
    "**Since  $p \\approx 0.09$ is over our threshold of 0.05, we cannot reject the null hypothesis.** This does not mean that the observed difference in median net wealth is not real; it only means that there is not enough data to be confident that the difference is simply a result of random effects and  limited sample sizes.\n",
    "\n",
    "```{note}\n",
    "\n",
    "Always report the measured $p$-value along with the conclusion. It is not sufficient to just report $p>0.05$ because the specific $p$ value gives additional insight into the results of the statistical test. \n",
    "```"
   ]
  },
  {
   "cell_type": "markdown",
   "id": "3acd4b4d-0bde-4cc0-ab3d-f3bac785e1ad",
   "metadata": {
    "tags": []
   },
   "source": [
    "## One-sided Bootstrap Test on Proportion of Millionaires\n"
   ]
  },
  {
   "cell_type": "markdown",
   "id": "f94a1cfc-b724-460a-b9c8-5b280eaaf5ae",
   "metadata": {},
   "source": [
    "The simulation for research question 2 is almost identical to that for research question 1. The only changes are in calculating the test statistic and the threshold to which the test statistic is compared."
   ]
  },
  {
   "cell_type": "code",
   "execution_count": 79,
   "id": "9361b404-2f30-4274-ad18-df15a845f111",
   "metadata": {},
   "outputs": [
    {
     "name": "stdout",
     "output_type": "stream",
     "text": [
      "The p-value (the proportion of test statistics as extreme as observed in the data) is 0.0181\n"
     ]
    }
   ],
   "source": [
    "num_sims = 10_000\n",
    "count=0\n",
    "\n",
    "# Define these to avoid having to keep calling a function to get them in every iteration\n",
    "grad_len = len(grad)\n",
    "undergrad_len = len(undergrad)\n",
    "\n",
    "for sim in range(num_sims):\n",
    "  # Create random groups under H0 using bootstrap sampling:\n",
    "  undergrad_sample = npr.choice(pooled, undergrad_len)\n",
    "  grad_sample = npr.choice(pooled, grad_len)\n",
    "  \n",
    "  # The test statistic for research question 2 is the difference in \n",
    "  # proportions of millionaires\n",
    "  sample_diff = find_proportion(grad_sample) - find_proportion(undergrad_sample)\n",
    "  \n",
    "  # The test statistic is compared to the difference in proportions of\n",
    "  # millionaires that was observed in the original data\n",
    "  if sample_diff >= delta2:\n",
    "    count+=1\n",
    "print(f'The p-value (the proportion of test statistics as extreme as observed in the data) is {count/num_sims}')"
   ]
  },
  {
   "cell_type": "markdown",
   "id": "8978a50a-9efe-4d72-b50f-f3775cc15fdc",
   "metadata": {},
   "source": [
    "Since the $p$-value is less than our specified significance threshold of 0.05, we say that we **reject the null hypothesis at the $p<0.05$ level, since $p \\approx 0.02$.** Thus, although the observed difference in median net wealth among the groups was not found to be statistically significant, the observed difference in proportions of millionaires was found to be statistically significant. \n",
    "\n",
    "\n",
    "```{note}\n",
    "\n",
    "When applying multiple NHSTs using the same data set, a stricter criteria should be applied \n",
    "to ensure statistical significance at a given level. However, the details are beyond\n",
    "the scope of this book. Observing a value of $p \\approx 0.02$ is still sufficient to ensure\n",
    "at the $p < 0.05$ level.\n",
    "```\n"
   ]
  },
  {
   "cell_type": "markdown",
   "id": "c72f0e2e-7499-4858-b429-cf14bd5bf53e",
   "metadata": {},
   "source": [
    "One (of many) criticisms of NHSTs is that they throw away a lot of information about the test by only calculating and reporting a single number, the $p$-value. In the next section, we show how we can use the entire set of sample values of the test statistic to create confidence intervals that capture more information about the statistical test "
   ]
  }
 ],
 "metadata": {
  "kernelspec": {
   "display_name": "Python 3 (ipykernel)",
   "language": "python",
   "name": "python3"
  },
  "language_info": {
   "codemirror_mode": {
    "name": "ipython",
    "version": 3
   },
   "file_extension": ".py",
   "mimetype": "text/x-python",
   "name": "python",
   "nbconvert_exporter": "python",
   "pygments_lexer": "ipython3",
   "version": "3.9.12"
  }
 },
 "nbformat": 4,
 "nbformat_minor": 5
}
