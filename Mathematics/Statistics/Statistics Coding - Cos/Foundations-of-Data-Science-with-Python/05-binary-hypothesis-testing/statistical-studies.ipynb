{
 "cells": [
  {
   "cell_type": "markdown",
   "id": "5dd0e38e-9e87-4bc2-9ba1-4a41d54130bc",
   "metadata": {
    "tags": []
   },
   "source": [
    "# Statistical Studies\n",
    "\n",
    "Suppose we are interested in determining whether the antiparisitic drug Ivermectin is effective at preventing or treating Covid-19.  Or we may want to determine the effect on family wealth of schooling beyond undergraduate college.  To answer these questions, we can use a statistical study:\n",
    "\n",
    "````{card}\n",
    "DEFINITION\n",
    "^^^\n",
    "```{glossary}\n",
    "statistical study\n",
    "    A means to answer a research question using data.\n",
    "```\n",
    "````\n",
    "\n"
   ]
  },
  {
   "cell_type": "markdown",
   "id": "7d9e53e6-6cde-4023-987d-50ab2ec436be",
   "metadata": {},
   "source": [
    "For conciseness, we will just use *study* to refer to a statistical study. This section introduces different types of studies and the trade-offs between them. A lot of new terminology is introduced to help characterize different types of studies. Studies can be classified as either *experimental* or *observational*:\n",
    "\n",
    "````{card}\n",
    "DEFINITION\n",
    "^^^\n",
    "```{glossary}\n",
    "experimental study or experiment\n",
    "    A study in which the investigator controls one or more of the variables.\n",
    "```\n",
    "````\n",
    "\n",
    "\n"
   ]
  },
  {
   "cell_type": "markdown",
   "id": "55735706-4baf-4721-a9c9-5b696f8ef20c",
   "metadata": {},
   "source": [
    "\n",
    "````{card}\n",
    "DEFINITION\n",
    "^^^\n",
    "```{glossary}\n",
    "observational study\n",
    "    A study in which data is collected about variables of interest for some participants without any attempt to control the variables for the participants. In particular, if some of the variables correspond to treatments, there is no attempt to randomize which participants receive which treatments. \n",
    "```\n",
    "````\n",
    "\n",
    "\n"
   ]
  },
  {
   "cell_type": "markdown",
   "id": "2aa305c8-a955-4fe0-b176-8c96d6daf6d9",
   "metadata": {},
   "source": [
    "## Experiments\n",
    "\n",
    "The *gold standard* experiment  is a randomized controlled trial (RCT). RCTs are most often used in the medical field, so the variable being controlled is typically called the *treatment*:\n",
    "\n",
    "\n",
    "````{card}\n",
    "DEFINITION\n",
    "^^^\n",
    "```{glossary}\n",
    "randomized control trial (RCT)\n",
    "    An experiment involving participants that are **randomly assigned** to either a *control group* or one or more *treatment groups*. The control group receives no treatment or the standard treatment. The treatment group receives the novel treatment that is to be evaluated.\n",
    "```\n",
    "````"
   ]
  },
  {
   "cell_type": "markdown",
   "id": "975737cd-a4bf-4498-9bf2-51e3b990902f",
   "metadata": {},
   "source": [
    "Typically, the researchers are *blinded* from even knowing which participant got which treatment(s) until the treatment and data collection portions of the RCT are complete.  Because researchers can directly compare the effect of a novel treatment to the effect of the standard treatment without potential biases in which participant received which treatment, statistical significance in an RCT is usually believe to indicate a *causal relationship*. That is, if the novel treatment shows a statistically significant beneficial outcome, then the presumption is that the novel treatment *causes* the beneficial outcome.\n",
    "\n",
    "Although RCTs are the gold standard, they are also the most expensive and challenging to carry out. Moreover, it is not possible to carry out RCTs for many phenomena because of ethical reasons. For instance, if we believe that a chemical may cause cancer, we cannot ethically give that chemical to some randomly chosen participants in a study. "
   ]
  },
  {
   "cell_type": "markdown",
   "id": "b58816ef-f6c3-4446-b680-4843467de553",
   "metadata": {},
   "source": [
    "## Observational Studies\n",
    "\n",
    "Consider some factor that we wish to evaluate using observational data. For instance: does smoking tobacco cause cancer? If we believe that smoking causes cancer, then we cannot ethically assign people to smoke or not smoke at random. Similarly, because many people will have a strong preference about smoking, a random assignment to smoke or not smoke is not likely to be maintained. Instead, we must rely on observational studies. Using observational data,  we can only determine whether cancer and smoking are associated; we cannot directly infer that smoking tobacco causes cancer. Any observed association may be attributable to:\n",
    "* People who have cancer are more likely to smoke, for instance, to relieve pain.\n",
    "* There may be some other factor, such as genetics, that predispose people to both cancer and the desire to smoke. \n",
    "\n",
    "Remember from {doc}`Chapter3<../03-first-data/hypothesis-testing>` that the null hypothesis was first proposed by Ronald A Fisher? Fisher was an avid smoker and argued that the strongly observed association between smoking cigarettes and cancer could be explained by other factors than smoking causing cancer. (See, for instance, his 1957 letter to the *British Medical Journal*, [\"Alleged Dangers of Cigarette-Smoking\"](https://www.york.ac.uk/depts/maths/histstat/fisher269.pdf). )\n",
    "\n",
    "Occasionally, circumstances result in a situation in which a particular treatment is applied to a portion of a population in such a way that the result can be treated as if it were applied to a random subset of the participants. For instance, from the 1970s to 1990s, twelve states had their entire prison population under court control because of litigation that alleged overcrowding. The effect of this court control was that the prison population grew more slowly than in other states. Most of these states had nearby states with similar demographics that were not affected by such a court order. Thus, the court orders controlling prison population growth created a *natural experiment*:\n",
    "\n",
    "````{card}\n",
    "DEFINITION\n",
    "^^^\n",
    "```{glossary}\n",
    "natural experiment\n",
    "    An experiment in which some participants are exposed to a novel treatment, while others are exposed to a control treatment, in a way that approximates the random assignment of a randomized control trial. \n",
    "```\n",
    "````\n",
    "\n",
    "\n",
    "\n",
    "\n",
    "\n",
    "\n"
   ]
  },
  {
   "cell_type": "markdown",
   "id": "ff0a84cf-90b7-4374-aed8-e3da6a4cd0b5",
   "metadata": {},
   "source": [
    "For the example of the court controlling prison population growth, the resulting natural experiment was used by Steven Levitt (co-author of the book *Freakonomics*) to estimate the effect of incarceration rates on crime rates; see \"The effect of prison population on crime rates: Evidence from prison overcrowding litigation,\" *The Quarterly Journal of Economics*, vol. 111, no. 2, pp. 319--351."
   ]
  },
  {
   "cell_type": "markdown",
   "id": "48fea9fc-d54d-4a8e-ba4d-f36d4aa7cb11",
   "metadata": {},
   "source": [
    "## Population Studies\n",
    "\n",
    "Much of the realm of statistics is about studying effects of groups of people. We generally will identify some group of people who share some common characteristic as the *population* to be studied:\n",
    "\n",
    "````{card}\n",
    "DEFINITION\n",
    "^^^\n",
    "```{glossary}\n",
    "population\n",
    "    *All members* of a group that share some common characteristic.\n",
    "```\n",
    "````\n"
   ]
  },
  {
   "cell_type": "markdown",
   "id": "c28e7157-13c7-45c0-bae6-aa0a83606d38",
   "metadata": {},
   "source": [
    "A study on a population is called a *population study*:\n",
    "\n",
    "\n",
    "````{card}\n",
    "DEFINITION\n",
    "^^^\n",
    "```{glossary}\n",
    "population study\n",
    "    In a *population study*, data are gathered about a group (often people) whose members share some common characteristic(s).\n",
    "```\n",
    "````\n",
    "\n"
   ]
  },
  {
   "cell_type": "markdown",
   "id": "6ef260d1-04d4-4eed-8a49-23d9cfb8c080",
   "metadata": {},
   "source": [
    "For example, the [Nurse's Health Study (NHS)](https://nurseshealthstudy.org) is one of the most well known population studies. Although the study has expanded over time, the original study focused on \"married registered nurses, aged 30 to 55 in 1976, who lived in the 11 most populous states\" (i.e., these are the \"common characteristics\" of this population). \n",
    "\n",
    "The NHS is an observational study. Note that we often want the population to have some characteristics that are **not the same**, so that we can assess the affects of such characteristics. For instance, the NHS originally focused on the health affects of contraception and/or smoking. \n",
    "\n"
   ]
  },
  {
   "cell_type": "markdown",
   "id": "e6d35801-a5c1-4dbb-a77f-46665b9c4c8a",
   "metadata": {},
   "source": [
    "Note that the NHS identifies a population (\"married registered nurses...\") but that does not mean that it collects data for *every* member of the population. Instead, data is collected from a *sample* of the total population:\n",
    "\n",
    "\n",
    "````{card}\n",
    "DEFINITION\n",
    "^^^\n",
    "```{glossary}\n",
    "sample\n",
    "    In a *population study*, a *sample* is a subset of the population for which data is collected. Ideally, the sample is large enough to provide statistical significance for issues being studied.\n",
    "```\n",
    "````\n",
    "\n"
   ]
  },
  {
   "cell_type": "markdown",
   "id": "dbc0f7bb-4c35-403d-b756-e2f1a6fa5b15",
   "metadata": {},
   "source": [
    "In many cases, the ideal is random sampling, in which the sample is chosen randomly from the population. This avoids biases from choosing samples in other ways. A common alternative that tends to be very biased is called *convenience sampling*. In convenience sampling, the sample is chosen based on access to a subset of the population. For instance, running a poll on social media uses convenience sampling, but that sample is biased toward the types of people who use social media.\n",
    "\n",
    "\n",
    "Population studies can be further categorized based on whether they collect data about a population at a single time or whether they track the sample participants across time:\n",
    "\n",
    "\n",
    "````{card}\n",
    "DEFINITION\n",
    "^^^\n",
    "```{glossary}\n",
    "cross-sectional study\n",
    "    A *cross-sectional study* is an observational study that collects data about some population at a single instance in time. \n",
    "```\n",
    "````\n",
    "\n",
    "\n",
    "\n",
    "\n"
   ]
  },
  {
   "cell_type": "markdown",
   "id": "74f32505-78fb-45cc-98cd-c7e4b998d6ee",
   "metadata": {},
   "source": [
    "The term *cross-sectional* refers to a variety of components that make up a whole. The use of this term may apply to cross-sectional studies in two ways:\n",
    "1. A cross-sectional study should have a sample that  includes the different types of members that make up a population. \n",
    "2. Cross-sectional studies are often used to analyze differences among the groups that make up a population.\n",
    "\n",
    "Since a cross-sectional study focuses on a single time, it cannot be used to analyze trends in the population over time."
   ]
  },
  {
   "cell_type": "markdown",
   "id": "65799cf7-b0b3-423e-9c75-97ebab61efda",
   "metadata": {},
   "source": [
    "By contrast, a longitudinal study can be used to track trends:\n",
    "````{card}\n",
    "DEFINITION\n",
    "^^^\n",
    "```{glossary}\n",
    "longitudinal study\n",
    "    A *longitudinal study*, involves collecting repeated observations over time for a population.\n",
    "```\n",
    "````\n",
    "Like cross-sectional studies, longitudinal studies are usually observational studies. \n"
   ]
  },
  {
   "cell_type": "markdown",
   "id": "68fed53f-ad5f-4370-8307-cdec4c2f5c6b",
   "metadata": {},
   "source": [
    "When a longitudinal study collections observations on the same participants at each time, the group of participants is called a *cohort* and the study is a *longitudinal cohort study*:\n",
    "\n",
    "````{card}\n",
    "DEFINITION\n",
    "^^^\n",
    "```{glossary}\n",
    "longitudinal cohort study\n",
    "    A *longitudinal study*, involves collecting repeated observations over time for a particular set of members (called a cohort) of a population.\n",
    "```\n",
    "````\n",
    "The NHS is an example of a longitudinal cohort study. Another example of large longitudinal studies in the United States are the [National Longitudinal Surveys](https://www.bls.gov/nls/), which are conducted by the Bureau of Labor Statistics. As of 2022, there are three active cohorts:\n",
    "* The National Longitudinal Survey of Youth 1979 (NLSY79) consists of 9,964 participants who were  14-22 when  interviewed in 1979.\n",
    "* The National Longitudinal Survey of Youth 1979 Child and Young Adult (NLSCYA) consists of more than 10,000 participants who are the children of women from the NLSY79 study.\n",
    "* The National Longitudinal Survey of Youth 1997 (NLSY97) consists of 8,984 participants who were ages 12-17 when interviewed in 1997\n",
    "\n",
    "Note that the data from each observation time is cross-sectional data."
   ]
  },
  {
   "cell_type": "markdown",
   "id": "c6f8834d-8722-466d-99be-c1bb6379762b",
   "metadata": {},
   "source": [
    "## Prospective vs Retrospective Studies"
   ]
  },
  {
   "cell_type": "markdown",
   "id": "d4e978f4-defa-488b-9dfa-a6c49405f980",
   "metadata": {},
   "source": [
    "Studies can also be classified based on the relation between 1) when and why a research question is asked, and 2) when, why, and how data was collected. Based on the relation between these factors, a study may be classified as either *prospective* or *retrospective*:\n",
    "\n",
    "````{card}\n",
    "DEFINITION\n",
    "^^^\n",
    "```{glossary}\n",
    "prospective study\n",
    "    A study in which the research question is formulated *first* and used to formulate the design of the data collection (including not only what data is to be collected, but from what subjects, and how the data is to be collected). \n",
    "```\n",
    "````\n",
    "\n"
   ]
  },
  {
   "cell_type": "markdown",
   "id": "c826ce8c-5e36-49fc-8e75-74aac93e63ba",
   "metadata": {},
   "source": [
    "````{card}\n",
    "DEFINITION\n",
    "^^^\n",
    "```{glossary}\n",
    "retrospective study\n",
    "    A study that tries to answer a research question by using data that has already been collected.\n",
    "```\n",
    "````"
   ]
  },
  {
   "cell_type": "markdown",
   "id": "ca791aa4-3ce5-40f6-8f4c-19f81f98962e",
   "metadata": {},
   "source": [
    "Results from prospective studies are generally more reliable because the study can be designed to help eliminate biases. By contract, retrospective studies may be abused by first observing some effect in the collected data and then using the study to carry out a test to confirm the significance of the observed effect. This is called *post hoc* analysis:\n",
    "\n",
    "````{card}\n",
    "DEFINITION\n",
    "^^^\n",
    "```{glossary}\n",
    "post hoc analysis\n",
    "    Retrospective analysis involving computing new statistics or searching for new effects that were not identified or hypothesized in formulating the study. \n",
    "```\n",
    "````\n"
   ]
  },
  {
   "cell_type": "markdown",
   "id": "3d9bf249-2a76-45ca-b519-def3aca6a8d7",
   "metadata": {},
   "source": [
    "\n",
    "\n",
    "\n",
    "The problem with *post hoc* analysis is that there are many different effects that **could** be observed in the data. Suppose that none of the possible effects is actually caused by  underlying differences in the sample population, but each may give an effect that appears to be statistically significant with some small probability, $q$. Then if there are $N$ possible independent effects that could be observed, the probability of observing at least one effect that appears to be significant is approximately $1 - (1-q)^N$, which is approximately $Nq$. For instance, if there are 100 possible effects, each of which has a 0.5% probability of occurring at a level that appears significant, then the overall probability of observing some significant effect is over 39%."
   ]
  },
  {
   "cell_type": "markdown",
   "id": "a15d77d5-4d00-4ef6-96d1-57791b8b645e",
   "metadata": {},
   "source": [
    "Retrospective studies are also prone to *selection bias*:\n",
    "\n",
    "````{card}\n",
    "DEFINITION\n",
    "^^^\n",
    "```{glossary}\n",
    "selection bias\n",
    "    Occurs when the sample is chosen in a way that causes it to differ from a random sample from the population being studied.\n",
    "```\n",
    "````\n",
    "\n",
    "\n"
   ]
  },
  {
   "cell_type": "markdown",
   "id": "2fe68dc2-ec01-402c-a98c-84daabfd4402",
   "metadata": {},
   "source": [
    "In a retrospective study, the sample was chosen before the research question was formulated. Thus, it is not possible to ensure that the way the sample was chosen accurately reflects the population for which the research question is being asked."
   ]
  },
  {
   "cell_type": "markdown",
   "id": "cfe5f552-144b-4705-b9ef-adb9a8348bf7",
   "metadata": {},
   "source": [
    "Although retrospective studies may be prone to biases and the dangers of *post hoc* analysis, they are still very useful and practical. Governments often fund large studies of their populations to better understand their populations and trends in those populations over time. Studies such as the [General Social Survey (GSS)](https://gss.norc.org) collect a wide variety of data over many years. For instance, the GSS celebrated its 50th anniversary in 2022 and collects data on over 500 variables. Surveys were conducted approximately annually and had approximately 1500 participants per survey.\n",
    "\n",
    "As previously mentioned, as of 2022 the NLS has three active cohorts, dating back to 1979, and each of these has many variables. For instance, NLSY79 has tens of thousands of survey variables. Below are the categories of variables for NLSY79 on [NLS Investigator](https://www.nlsinfo.org/investigator). The number of variables (some of which are computed from other variables) are shown in parentheses:\n",
    "-  Education, Training & Achievement\n",
    "Scores (983)\n",
    "-  Employment (51982)\n",
    "- Household, Geography & Demographics (2945)\n",
    " Marriage & Cohabitation (764)\n",
    "- Sexual Activity, Pregnancy & Fertility (1215)\n",
    "- Children (3733)\n",
    "- Parents, Family Process & Childhood (706)\n",
    "- Income, Assets & Program Participation (4324)\n",
    "- Health (3330)\n",
    "- Attitudes, Expectations & Non-cognitive Tests (1143) 7 Crime & Substance Use (430)\n",
    "- Survey Methodology (358)\n"
   ]
  },
  {
   "cell_type": "markdown",
   "id": "443fbc1d-32bd-4f79-a4c9-4962db0f4fbc",
   "metadata": {},
   "source": [
    "This large number of variables allows researchers to investigate many different research questions. In the next sections, we will use NLSY79 to explore one of the questions mentioned earlier in this section: **What is the effect on family wealth of schooling beyond undergraduate college?**"
   ]
  }
 ],
 "metadata": {
  "kernelspec": {
   "display_name": "Python 3 (ipykernel)",
   "language": "python",
   "name": "python3"
  },
  "language_info": {
   "codemirror_mode": {
    "name": "ipython",
    "version": 3
   },
   "file_extension": ".py",
   "mimetype": "text/x-python",
   "name": "python",
   "nbconvert_exporter": "python",
   "pygments_lexer": "ipython3",
   "version": "3.9.12"
  }
 },
 "nbformat": 4,
 "nbformat_minor": 5
}
