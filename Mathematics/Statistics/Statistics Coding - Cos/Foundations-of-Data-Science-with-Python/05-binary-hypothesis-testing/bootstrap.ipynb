{
 "cells": [
  {
   "cell_type": "markdown",
   "id": "36f458cf-92c0-4852-80d1-38425fbf390a",
   "metadata": {},
   "source": [
    "# Bootstrap Tests and Confidence Intervals\n",
    "\n"
   ]
  },
  {
   "cell_type": "markdown",
   "id": "b2ae12c0-e086-4823-baf4-18cb4416f6fd",
   "metadata": {},
   "source": [
    "Let's begin by testing our two statistical questions using NHST with bootstrap resampling. The two questions are:\n",
    "1. Does graduate education correspond to an increase in the median net family  wealth in comparison to undergraduate education?\n",
    "2. Is the relative frequency of millionaires higher among those with a graduate education in comparison to those with an undergraduate education?\n",
    "\n",
    "We will use the NLSY79 data set to answer these questions, and we present two common approaches for determining reporting results on the statistical significance of the observed differences in summary statistics. We start with the most common approach in NHST:"
   ]
  },
  {
   "cell_type": "markdown",
   "id": "6db930ef-8394-458d-8811-f334772cb1bd",
   "metadata": {},
   "source": [
    "## Statistical Significance in NHST\n",
    "\n",
    "The most common approach to determining statistical significance in NHST is to compare the $p$-value to a fixed threshold $\\alpha$, where $\\alpha>0$ and $\\alpha<< 1$ (that is shorthand for $\\alpha$ is much less than 1).  Recall that $p$ is the probability of observing such an extreme value of the test statistic **under the null hypothesis, $H_0$**. The value of $\\alpha$ should be specified before the experiment or post-hoc analysis is conducted. A value of $\\alpha=0.05$ is commonly used.  If $p < \\alpha$, then we say that we **reject the null hypothesis**; otherwise, we only say that we **fail to reject the null hypothesis**. Except where otherwise noted, we will use a $p$-value threshold of $\\alpha=0.05$ in this book.\n",
    "\n",
    "Some important points about testing statistical significance using $p$-values:\n",
    "1. **The $p$-value is not the probability that the null hypothesis is true, given the data.** The $p$-value is calculated by *assuming that $H_0$ is true.*  Thus, the $p$-value can only tell us about the probability of seeing such an extreme value of the test statistic under the assumption that $H_0$ is true; it **cannot** tell us about the probability that $H_0$ is true.\n",
    "1. **A value $p > \\alpha$ does not indicate the null hypothesis is true.** From the previous point, the $p$-value already assumes that $H_0$ is true. \n",
    "1. **A value $p > \\alpha$ does not mean that the null hypothesis is accepted.** Such a value only indicates that the data is not sufficient to determine that the observed difference is unusual. When the samples are small, there is more variation in the value of the test statistic. This is why we say we **fail to reject the null hypothesis**.  This result may just indicate that more data is needed to determine whether the observed value occurs with low probability.\n",
    "1. **A value  $p< \\alpha$ does not indicate that the alternative hypothesis is true.** Since the $p$-value is calculated under the assumption that $H_0$ is true, it cannot actually tell us anything about the alternative hypothesis.\n",
    "1. **A small value of $p$ does not indicate that the effect under the alternative hypothesis is strong.** For instance, consider an experiment comparing the performance of a medication to a placebo. The null hypothesis is that there is no difference in outcome between the placebo and the medication, and the alternative hypothesis is probably something related to an improvement in outcomes from the medication. Then a low $p$-value does **not** indicate that the medication has a particularly strong effect on the outcome. Because $p$-values are calculated under the assumption that the null hypothesis is true, they **cannot tell us anything about the alternative hypothesis**.\n",
    "\n",
    "For a more detailed and extended discussion of misconceptions, see:\n",
    "* Goodman, Steven, \"A dirty dozen: twelve p-value misconceptions,\" *Seminars in H\n",
    "Hematology*, vol. 45, no. 3, 2008."
   ]
  },
  {
   "cell_type": "markdown",
   "id": "6cf11400-e1bf-472d-85dd-1ba57eff0e3a",
   "metadata": {},
   "source": [
    "Let's carry out some statistical test using $p$-values. We start by importing the necessary libraries and loading the data:"
   ]
  },
  {
   "cell_type": "code",
   "execution_count": 120,
   "id": "48f4e2c3-07a9-4699-b50d-e98add7ac215",
   "metadata": {},
   "outputs": [],
   "source": [
    "import numpy as np\n",
    "import numpy.random as npr\n",
    "import pandas as pd\n",
    "\n",
    "import matplotlib.pyplot as plt\n",
    "\n"
   ]
  },
  {
   "cell_type": "code",
   "execution_count": 121,
   "id": "028f3f78-b738-4c34-bbbb-3cdaea293cf6",
   "metadata": {},
   "outputs": [],
   "source": [
    "#df = pd.read_csv('https://raw.githubusercontent.com/jmshea/Foundations-of-Data-Science-with-Python/main/05-binary-hypothesis-testing/nls/nls.csv')\n",
    "df = pd.read_csv('nls/nls.csv')\n",
    "\n",
    "\n",
    "remap = {'R0000100':'CASE_ID',\n",
    "         'T5597600': 'GENDER',\n",
    "         'T5684500': 'NET_WEALTH',\n",
    "         'T9900000': 'HIGHEST_GRADE_EVER'\n",
    "        }\n",
    "df.rename(columns=remap, inplace=True)\n",
    "df2=df.query('HIGHEST_GRADE_EVER > 0 & NET_WEALTH>0') \n",
    "undergrad = df2.query('HIGHEST_GRADE_EVER >= 16 & HIGHEST_GRADE_EVER <=17')['NET_WEALTH']                \n",
    "grad = df2.query('HIGHEST_GRADE_EVER >= 18')['NET_WEALTH']\n",
    "\n",
    "pooled = df2.query('HIGHEST_GRADE_EVER >= 16')['NET_WEALTH']"
   ]
  },
  {
   "cell_type": "code",
   "execution_count": 122,
   "id": "3eb0e541-21bf-449f-92ef-f622d34f2414",
   "metadata": {},
   "outputs": [
    {
     "name": "stdout",
     "output_type": "stream",
     "text": [
      "The number of data points in each group is:\n",
      "\tUndergrad: 821\n",
      "\tGrad: 473\n",
      "\tPooled: 1294\n"
     ]
    }
   ],
   "source": [
    "print('The number of data points in each group is:')\n",
    "print(f'\\tUndergrad: {len(undergrad)}')\n",
    "print(f'\\tGrad: {len(grad)}')\n",
    "print(f'\\tPooled: {len(pooled)}')"
   ]
  },
  {
   "cell_type": "markdown",
   "id": "8f3c721b-f67b-4c42-ab5f-082c396ce241",
   "metadata": {},
   "source": [
    "## Testing Whether Graduate Eduction Increases Median Net Family Wealth"
   ]
  },
  {
   "cell_type": "markdown",
   "id": "da7ead49-9e5d-42cc-8fd4-8050cd33913e",
   "metadata": {},
   "source": [
    "The median values of net family wealth for the undergraduate and post-baccalaureate groups are"
   ]
  },
  {
   "cell_type": "code",
   "execution_count": 123,
   "id": "44280d56-6916-4f2b-b81e-b5a97081c27d",
   "metadata": {},
   "outputs": [
    {
     "data": {
      "text/plain": [
       "427000.0"
      ]
     },
     "execution_count": 123,
     "metadata": {},
     "output_type": "execute_result"
    }
   ],
   "source": [
    "undergrad.median()"
   ]
  },
  {
   "cell_type": "code",
   "execution_count": 124,
   "id": "869ae3ad-d7f4-4701-9f5f-706c2133ffc1",
   "metadata": {},
   "outputs": [
    {
     "data": {
      "text/plain": [
       "484400.0"
      ]
     },
     "execution_count": 124,
     "metadata": {},
     "output_type": "execute_result"
    }
   ],
   "source": [
    "grad.median()"
   ]
  },
  {
   "cell_type": "markdown",
   "id": "fe6baab8-0c2d-4b12-9c68-6694e13c8065",
   "metadata": {},
   "source": [
    "Then our test statistic is the difference  between these, and the observed value of the test statistic is  "
   ]
  },
  {
   "cell_type": "code",
   "execution_count": 125,
   "id": "1e4c5db7-9e15-48f8-a43c-5f451f2a6494",
   "metadata": {},
   "outputs": [
    {
     "data": {
      "text/plain": [
       "57400.0"
      ]
     },
     "execution_count": 125,
     "metadata": {},
     "output_type": "execute_result"
    }
   ],
   "source": [
    "diff1 = grad.median() - undergrad.median()\n",
    "diff1"
   ]
  },
  {
   "cell_type": "markdown",
   "id": "a56427f0-a097-41df-bb1b-8877488dd5e5",
   "metadata": {},
   "source": [
    "Let's start with a standard NHST. We conduct a simulation for which in each iteration, we create two new sample groups by bootstrap sampling from the pooled data. We then compute the medians for each group and calculate the sample test statistic by subtracting the median for the `postbac` group from the `undergrad` group. We are evaluating whether post-baccalaureate education increases net family wealth, so we will use a one-sided test. So, we increment and counter if the test statistic exceeds the observed value. At the end of the iterations, we calculate the relative frequency of the test statistic exceeding the observed difference in median wealth. "
   ]
  },
  {
   "cell_type": "code",
   "execution_count": 55,
   "id": "ef98e585-400f-439e-a511-f54e196e5728",
   "metadata": {},
   "outputs": [
    {
     "name": "stdout",
     "output_type": "stream",
     "text": [
      "The relative frequency of observing a difference in medians as large as\n",
      "the difference in the original data (i.e., the p-value) is 0.08963\n"
     ]
    }
   ],
   "source": [
    "num_sims = 100_000\n",
    "count1 = 0\n",
    "\n",
    "for sim in range(num_sims):\n",
    "  # Bootstrap sampling\n",
    "  undergrad_sample = npr.choice(pooled, len(undergrad))\n",
    "  grad_sample = npr.choice(pooled, len(grad))\n",
    "  \n",
    "  # Compute value of test statistic\n",
    "  diff_sample = np.median(grad_sample) - np.median(undergrad_sample) \n",
    "  \n",
    "  # Compare test statistic to observed value and count\n",
    "  if diff_sample >= diff1:\n",
    "    count1+=1\n",
    "  \n",
    "print(f'The relative frequency of observing a difference in medians as large as')\n",
    "print(f'the difference in the original data (i.e., the p-value) is {count1/num_sims}')\n",
    "  \n",
    "  "
   ]
  },
  {
   "cell_type": "markdown",
   "id": "4ddbbd1a-7f03-446f-998f-ae363aabdde1",
   "metadata": {},
   "source": [
    "Recall what this value means. If the net wealth data for the two groups come from the same distribution (i.e., there is no real difference between the undergraduate and graduate groups in terms of  the probability of having a certain family wealth), then we will still see a difference as large as the one we observed approximately 8.8% of the time when we have samples of these sizes. Since 8.8% is not insignificant,  we cannot be confident that the observed difference in net family wealth is significant. We say that \"we fail to reject the null hypothesis\" because $p\\approx 0.08>0.05$.\n",
    "\n",
    "Failing to reject the null hypothesis does not mean that the null hypothesis is true. In fact, it is likely that the observed difference in the median net family wealth is a real effect. However, the data is not sufficient to be reject the null hypothesis because we are using a $p$-threshold of 0.05. A researcher who is interested in pursuing this particular statistical difference could consider collecting additional data to further aid in testing the hypothesis that graduate education increases median net family wealth.."
   ]
  },
  {
   "cell_type": "markdown",
   "id": "eb7e5e80-01e8-440e-a3ed-9b287852abae",
   "metadata": {},
   "source": [
    "## Testing Whether Graduate Education Increases Probability of Becoming a Millionaire"
   ]
  },
  {
   "cell_type": "markdown",
   "id": "dbad9e0a-b744-4702-8b40-cefd439a3fc9",
   "metadata": {},
   "source": [
    "Now consider whether post-baccalaureate education increases the probability of a family obtaining a net worth of over \\\\$1 million. We first determine the proportions of families with net wealth over \\\\$1 million in each group. If we compare each of `undergrad` and `grad` to a threshold of `1_000_000`, the output will be a Pandas Series with True and False values. Because NumPy treats True as 1 and False as 0, if we pass these to `np.sum()`, we will get a count of the number of values over 2 million:"
   ]
  },
  {
   "cell_type": "code",
   "execution_count": 126,
   "id": "dc1a3939-85ec-424b-a940-88bfff62fdba",
   "metadata": {},
   "outputs": [
    {
     "data": {
      "text/plain": [
       "201"
      ]
     },
     "execution_count": 126,
     "metadata": {},
     "output_type": "execute_result"
    }
   ],
   "source": [
    "np.sum(undergrad > 1_000_000)"
   ]
  },
  {
   "cell_type": "code",
   "execution_count": 127,
   "id": "fa3b9fe1-d1be-4850-9d94-3bcc7568992b",
   "metadata": {},
   "outputs": [
    {
     "data": {
      "text/plain": [
       "141"
      ]
     },
     "execution_count": 127,
     "metadata": {},
     "output_type": "execute_result"
    }
   ],
   "source": [
    "np.sum(grad > 1_000_000)"
   ]
  },
  {
   "cell_type": "markdown",
   "id": "1e87805b-465d-412a-8e62-ec003df9b45d",
   "metadata": {},
   "source": [
    "Since these underlying groups have different cardinalities, we determine the relative frequencies of millionaires in each group by dividing by the number of data points in the group:"
   ]
  },
  {
   "cell_type": "code",
   "execution_count": 128,
   "id": "29158f74-1bbf-40c0-8d7d-41bb2716d29b",
   "metadata": {},
   "outputs": [
    {
     "data": {
      "text/plain": [
       "0.24482338611449453"
      ]
     },
     "execution_count": 128,
     "metadata": {},
     "output_type": "execute_result"
    }
   ],
   "source": [
    "rf_undergrad = np.sum(undergrad > 1_000_000) / len(undergrad)\n",
    "rf_undergrad"
   ]
  },
  {
   "cell_type": "code",
   "execution_count": 129,
   "id": "424bb50b-3bf8-4ea4-b64a-d9f3488caa4d",
   "metadata": {},
   "outputs": [
    {
     "data": {
      "text/plain": [
       "0.29809725158562367"
      ]
     },
     "execution_count": 129,
     "metadata": {},
     "output_type": "execute_result"
    }
   ],
   "source": [
    "rf_grad = np.sum(grad > 1_000_000) / len (grad)\n",
    "rf_grad"
   ]
  },
  {
   "cell_type": "markdown",
   "id": "36459965-baac-4a1b-9d83-2be5008edab0",
   "metadata": {},
   "source": [
    "We can see that the relative frequency of multi-millionaires in the graduate group is greater by"
   ]
  },
  {
   "cell_type": "code",
   "execution_count": 130,
   "id": "ee2107be-ae5e-45a8-9559-93d0617da44d",
   "metadata": {},
   "outputs": [
    {
     "data": {
      "text/plain": [
       "0.05327386547112914"
      ]
     },
     "execution_count": 130,
     "metadata": {},
     "output_type": "execute_result"
    }
   ],
   "source": [
    "diff2 = rf_grad - rf_undergrad\n",
    "diff2"
   ]
  },
  {
   "cell_type": "markdown",
   "id": "8ff121d9-7cca-4c39-939a-d6f9e878d4f5",
   "metadata": {},
   "source": [
    "Let's conduct a NHST using bootstrap resampling to determine if the observed difference of approximately 5.3% is statistically significant at the $\\alpha=0.01$ level. The simulation is very similar to the one for median wealth; we just need to replace the use  of median as the summary statistic with the use of relative frequency of exceeding 1 million:"
   ]
  },
  {
   "cell_type": "code",
   "execution_count": 131,
   "id": "c69b7df5-a08c-44a8-97c4-b67bb24fad43",
   "metadata": {},
   "outputs": [
    {
     "name": "stdout",
     "output_type": "stream",
     "text": [
      "The relative frequency of observing a difference in medians as large as\n",
      "the difference in the original data (i.e., the p-value) is 0.01883\n"
     ]
    }
   ],
   "source": [
    "num_sims = 100_000\n",
    "wealth_threshold = 1_000_000\n",
    "count2 = 0\n",
    "\n",
    "for sim in range(num_sims):\n",
    "  # Bootstrap sampling\n",
    "  undergrad_sample = npr.choice(pooled, len(undergrad))\n",
    "  grad_sample = npr.choice(pooled, len(grad))\n",
    "\n",
    "  \n",
    "  # Compute value of test statistic\n",
    "  diff_sample = np.sum(grad_sample > wealth_threshold)/len(grad) - np.sum(undergrad_sample > wealth_threshold)/len(undergrad)\n",
    "  # Compare test statistic to observed value and count\n",
    "  if diff_sample >= diff2:\n",
    "    count2+=1\n",
    "  \n",
    "print(f'The relative frequency of observing a difference in medians as large as')\n",
    "print(f'the difference in the original data (i.e., the p-value) is {count2/num_sims}')\n",
    "  \n",
    "  "
   ]
  },
  {
   "cell_type": "markdown",
   "id": "e725b61b-f08f-4928-a528-ffe8a4e71a8d",
   "metadata": {},
   "source": [
    "For this result $p \\approx 0.019 < 0.05$, so we reject the null hypothesis at the $p < 0.05$ level.  Our conclusion is that there is a statistically significant association between having a graduate education and the probability of having a net family worth over \\$1 million."
   ]
  },
  {
   "cell_type": "markdown",
   "id": "c66bacc6-05dd-4db0-86b3-d924aa5f61e3",
   "metadata": {},
   "source": [
    "Recall again what $p \\approx 0.019$ means: that even if  there is no statistical difference between the two groups in terms of the proportion of millionaires, we will see a difference in relative frequencies as large as the one observed in the data with probability approximately equal to 0.019. If there null hypothesis were true and we conducted a similar survey many times, we would expect to see this large a difference in approximately 1.9% of the surveys."
   ]
  },
  {
   "cell_type": "markdown",
   "id": "cbf2ee4e-441b-4b82-a5a1-0cf80b75fc88",
   "metadata": {},
   "source": [
    "Note that it is best practice to report the value of $p$ found because smaller values of $p$ provide stronger evidence that the observed difference did not come from the null hypothesis.  Note again that $p \\approx 0.019$ **does not** mean that the probability that the null hypothesis is true is approximately 0.019. That is because the $p$ value is determined **under the assumption that the null hypothesis is true.**"
   ]
  },
  {
   "cell_type": "markdown",
   "id": "268c2328-9bbe-4e63-b6e8-6916a4b744e5",
   "metadata": {},
   "source": [
    "## An Alternative to $p$-values: Confidence Intervals\n",
    "\n",
    "The use of $p$-values and fixed thresholds for determining statistical significance has fallen under attack over the past decade.  "
   ]
  },
  {
   "cell_type": "code",
   "execution_count": null,
   "id": "7dfbcd82-b25c-4f0d-9185-1681b67ddaa4",
   "metadata": {},
   "outputs": [],
   "source": []
  }
 ],
 "metadata": {
  "kernelspec": {
   "display_name": "Python 3 (ipykernel)",
   "language": "python",
   "name": "python3"
  },
  "language_info": {
   "codemirror_mode": {
    "name": "ipython",
    "version": 3
   },
   "file_extension": ".py",
   "mimetype": "text/x-python",
   "name": "python",
   "nbconvert_exporter": "python",
   "pygments_lexer": "ipython3",
   "version": "3.9.12"
  }
 },
 "nbformat": 4,
 "nbformat_minor": 5
}
