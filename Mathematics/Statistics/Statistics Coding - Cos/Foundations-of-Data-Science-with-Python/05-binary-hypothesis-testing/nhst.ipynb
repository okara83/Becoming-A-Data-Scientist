{
 "cells": [
  {
   "cell_type": "markdown",
   "id": "62760acf-5ab8-45b9-9c57-efd2908dc943",
   "metadata": {},
   "source": [
    "# General Resampling Approaches for Null Hypothesis Significance Testing"
   ]
  },
  {
   "cell_type": "markdown",
   "id": "791ceb9a-2010-4692-96e1-3119b2e0c240",
   "metadata": {},
   "source": [
    "In {doc}`Section 3.3<../03-first-data/hypothesis-testing>`, I introduced Null Hypothesis Significance Testing (NHST), and we used  resampling to conduct a NHST on whether urban areas and rural areas have a significant difference in mean Covid rates. Consider again *why* we perform resampling for NHST: we have observed some difference between the groups that is captured in a test statistic, and we want to determine the probability of seeing such an extreme value of the test statistic under the null hypothesis. As discussed in  {doc}`Section 3.3<../03-first-data/hypothesis-testing>`, the test statistic comes from a random distribution, which is known as the *sampling distribution*:\n",
    "\n",
    "````{card}\n",
    "DEFINITION\n",
    "^^^\n",
    "```{glossary}\n",
    "sampling distribution\n",
    "    For some statistic of sample data, the *sampling distribution* characterizes the possible values of that statistic and the mapping of probability to those values, under some underlying assumption(s) on the population. The sampling distribution varies with the size(s) of the group(s) in the sample.\n",
    "```\n",
    "````\n",
    "\n",
    "If we knew the sampling distribution of the test statistic, we could determine the probability of seeing such an extreme value of the test statistic analytically. Since we do not know the sampling distribution, we generally have two choices:\n",
    "1. We can use a *model-based* approach, in which we assume that under $H_0$,  the test statistic can be modeled as coming from some known random distribution, and we infer the parameters of the distribution from the data. This approach is discussed more in {doc}`Chapter 8<../08-random-variables/intro>`. \n",
    "2. We can use a *model-free* approach, in which approximate the sampling distribution of the test statistic by resampling from the data.\n",
    "\n",
    "This chapter focuses on the model-free approach using resampling. \n",
    "<!--For a NHST on an  observed difference of means (or any other summary statistic), the null hypothesis, $H_0$, is that the two populations being compared do not have any difference in the random distribution of the variable being considered. I.e., for the example of Covid rates, $H_0$ is that a person from either population has the same probability of getting Covid. \n",
    "-->\n",
    "Let's consider a generic NHST resampling problem. We have data sets $\\mathcal{A}$ and $\\mathcal{B}$, each of which has some summary statistic $T_{\\mathcal{A}}$ and $T_{\\mathcal{B}}$. For example, the summary statistic is often the average (or sample mean). Suppose that we observe some difference in the summary statistics of the form $T_{\\mathcal{A}} > T_{\\mathcal{B}}$. Then we can conduct a generic NHST via resampling as follows:\n",
    "1. Choose a significance level, $\\alpha$, where $0< \\alpha$ and $\\alpha$ is much less than 1. The lower the value, the more strict our test is (in some sense that we discuss further in the next section).  \n",
    "1. Determine the conditions to be tested. We have observed a **difference in some summary statistic**. Let $\\Delta = T_{\\mathcal{A}} - T_{\\mathcal{B}}$. Then our resampling test will be to determine the **probability of seeing a difference in test statistics \"at least as extreme\" as** $\\Delta$. (Note that I am leaving this a bit open ended right now because I want to explore this step further below.)\n",
    "2. Under $H_0$, the two populations have the same random distribution for the variable of interest. Collect all the data for that variable from both populations into a single set of *pooled data*: $\\mathcal{P} = \\mathcal{A} \\cup \\mathcal{B}$.\n",
    "3. Under $H_0$, the assumption is that $\\mathcal{A}$ and $\\mathcal{B}$ are just random samples from some larger population and the observed difference $\\Delta$ is created by the fact that $\\mathcal{A}$ and $\\mathcal{B}$ are samples of limited size from  that population.  To determine the probability of such a large difference occurring, we conduct an $N$-iteration simulation to estimate the probability of seeing a difference as extreme as $\\Delta$. We first initialize a counter $C=0$.  Then in each iteration $i,$ we:\n",
    "\n",
    "    1. Create new samples $\\mathcal{A}_i$ and $\\mathcal{B}_i$, which we call *test samples*, based on $H_0$. This implies that we should draw new samples $\\mathcal{A}_i$ and $\\mathcal{B}_i$ from the original population; however, we do not have access to the original population. So, we use **resampling and draw the new samples from $\\mathcal{P}$**. (Again, I am purposefully leaving this open-ended so that we can explore this more below.)\n",
    "    2. Calculate the summary statistic for the new populations, $T_{\\mathcal{A}_i}$ and $T_{\\mathcal{B}_i}$.\n",
    "    3. Calculate and store the difference between the summary statistics for the test data, $\\Delta_i = T_{\\mathcal{A}_i} - T_{\\mathcal{B}_i}$. We will call this the *test difference*.\n",
    "4. Evaluate what the test samples tell us about the statistical significance of the observed difference in the data."
   ]
  },
  {
   "cell_type": "markdown",
   "id": "50469bf9-9170-4faa-8cfa-04c5b472cfe6",
   "metadata": {},
   "source": [
    "This procedure is quite general -- you should be able to use it as a skeleton for any NHST using resampling. However, the procedure above is purposefully vague about several things:\n",
    "\n",
    "1. What does a difference \"at least as extreme\" as $\\Delta$ mean?\n",
    "2. How should we draw test samples from the pooled data, $P$?\n",
    "3. How should we evaluate statistical significance using the test differences,  $\\Delta_i, ~i=0,1,\\ldots, N-1$?\n",
    "\n",
    "Each of these is considered in the following sections. However, to make the discussion more concrete, let's use the  National Longitudinal Survey of Youth 1979 (NLSY79) data set to try to answer the question \"What is the effect on family wealth of schooling beyond undergraduate college?\" This question is too vague to be used as a research question because it does not clearly define \"the effect\". We will consider two questions:\n",
    "1. Does post-baccalaureate education increase mediate net family wealth?\n",
    "2. Do people with post-baccalaureate education have a higher probability of becoming millionaires?"
   ]
  },
  {
   "cell_type": "markdown",
   "id": "b6af58d8-1b73-4ecc-81a3-17ade921e2b8",
   "metadata": {},
   "source": [
    "First, we consider why and how the NLSY79 might be used to answer this question. The NLSY79 is a longitudinal survey of 9,964 participants who were  14-22 when  interviewed in 1979. The survey contains detailed information on partipants' education and family wealth. In particular, the 2016 survey contains a variable T56845.00 TNFW_TRUC, which is the total net family wealth, with the top 2% of values *topcoded*. Here, *topcoded* means that the top 2% of values are each replaced with the average of those top 2% of values in order to protect the individual income values of those who lie in the to 2% of the survey group. Not that this variable is a *created* or *computed* variable, meaning that participants did not provide total family wealth directly; instead, the value is computed from answers to other survey questions about assets and liabilities. The participants in the NLSY79 cohort were 51-59. Although most people in the cohort were likely still working in 2016, most people in the cohort would have already been through the majority of their working life, and so any overall effect of post-baccalaureate education is likely to be observable in the participants.\n",
    "\n",
    "There are also reasons that NLSY79 may not be able to answer these questions. The primary reason for this is that the US economy has shifted to have much more of a service-based and high technology emphasis in the past decades. Thus, new college graduates that are considering using statistical results from NLSY79 may find themselves in very different economic circumstances."
   ]
  },
  {
   "cell_type": "markdown",
   "id": "f21de725-2264-46a3-a8c5-3cbe9807df2f",
   "metadata": {},
   "source": [
    "Note that although the NLSY79 is a longitudinal survey, we will be using it as cross-sectional data for the year 2016. As previously mentioned, this is a huge survey with thousands of variable, so we will work with only a small subset that can be used to answer our research question. These variables are:\n",
    "| Reference Number | Question Name/Description | Variable title | Survey Year |\n",
    "| --- | --- | --- | ---|\n",
    "| R00001.00 | CASEID | IDENTIFICATION CODE | 1979 |\n",
    "| T55976.00 | Q11-GENHLTH_4B | RESPONDENT GENDER | 2016 |\n",
    "| T56845.00 | TNFW_TRUNC | FAMILY NET WEALTH (TRUNC) | 2016 |\n",
    "| T99000.00 | HGC_EVER | HIGHEST GRADE EVER COMPLETED | XRND |\n",
    "\n",
    "Two notes about the data in this table:\n",
    "1. NLSY79 is a longitudinal cohort study, so each respondent has a unique IDENTIFICATION CODE that was established in the first year of the survey. This is why IDENTIFICATION CODE has Survey Year equal to 1979.\n",
    "2. Because respondents did not provide their highest grade completed in every survey year, I elected to use the HIGHEST GRADE EVER COMPLETED variable, which is collected across all survey years. According to the [NLS Glossary](https://www.nlsinfo.org/content/getting-started/intro-to-the-nls/glossary-nls-terms/glossary-nls-terms-altogether/glossary), XRND stands for \"cross-round\", which implies that the data is collected from multiple survey years. (In fact, the NLS Glossary references the highest grade ever reported for the NLSY97 cohort as an example).\n",
    "\n",
    "\n"
   ]
  },
  {
   "cell_type": "markdown",
   "id": "4e2ceb6b-3b02-431c-8a0c-a17d2d5f28b2",
   "metadata": {},
   "source": [
    "The NLSY79 data for the variables mentioned above was retrieved from NLS Investigator and can be loaded as follows: "
   ]
  },
  {
   "cell_type": "code",
   "execution_count": 1,
   "id": "19a9190e-b8d0-44f6-8921-caf29cc9daba",
   "metadata": {},
   "outputs": [],
   "source": [
    "import pandas as pd\n",
    "df = pd.read_csv('https://raw.githubusercontent.com/jmshea/Foundations-of-Data-Science-with-Python/main/05-binary-hypothesis-testing/nls/nls.csv')"
   ]
  },
  {
   "cell_type": "code",
   "execution_count": 2,
   "id": "732c8005-aa5f-427b-846b-7eed80b59b27",
   "metadata": {},
   "outputs": [
    {
     "data": {
      "text/html": [
       "<div>\n",
       "<style scoped>\n",
       "    .dataframe tbody tr th:only-of-type {\n",
       "        vertical-align: middle;\n",
       "    }\n",
       "\n",
       "    .dataframe tbody tr th {\n",
       "        vertical-align: top;\n",
       "    }\n",
       "\n",
       "    .dataframe thead th {\n",
       "        text-align: right;\n",
       "    }\n",
       "</style>\n",
       "<table border=\"1\" class=\"dataframe\">\n",
       "  <thead>\n",
       "    <tr style=\"text-align: right;\">\n",
       "      <th></th>\n",
       "      <th>R0000100</th>\n",
       "      <th>T5597600</th>\n",
       "      <th>T5684500</th>\n",
       "      <th>T9900000</th>\n",
       "    </tr>\n",
       "  </thead>\n",
       "  <tbody>\n",
       "    <tr>\n",
       "      <th>0</th>\n",
       "      <td>1</td>\n",
       "      <td>-5</td>\n",
       "      <td>-5</td>\n",
       "      <td>12</td>\n",
       "    </tr>\n",
       "    <tr>\n",
       "      <th>1</th>\n",
       "      <td>2</td>\n",
       "      <td>2</td>\n",
       "      <td>-3</td>\n",
       "      <td>12</td>\n",
       "    </tr>\n",
       "    <tr>\n",
       "      <th>2</th>\n",
       "      <td>3</td>\n",
       "      <td>2</td>\n",
       "      <td>115000</td>\n",
       "      <td>12</td>\n",
       "    </tr>\n",
       "    <tr>\n",
       "      <th>3</th>\n",
       "      <td>4</td>\n",
       "      <td>2</td>\n",
       "      <td>112850</td>\n",
       "      <td>14</td>\n",
       "    </tr>\n",
       "    <tr>\n",
       "      <th>4</th>\n",
       "      <td>5</td>\n",
       "      <td>-5</td>\n",
       "      <td>-5</td>\n",
       "      <td>18</td>\n",
       "    </tr>\n",
       "    <tr>\n",
       "      <th>...</th>\n",
       "      <td>...</td>\n",
       "      <td>...</td>\n",
       "      <td>...</td>\n",
       "      <td>...</td>\n",
       "    </tr>\n",
       "    <tr>\n",
       "      <th>12681</th>\n",
       "      <td>12682</td>\n",
       "      <td>-5</td>\n",
       "      <td>-5</td>\n",
       "      <td>12</td>\n",
       "    </tr>\n",
       "    <tr>\n",
       "      <th>12682</th>\n",
       "      <td>12683</td>\n",
       "      <td>-5</td>\n",
       "      <td>-5</td>\n",
       "      <td>12</td>\n",
       "    </tr>\n",
       "    <tr>\n",
       "      <th>12683</th>\n",
       "      <td>12684</td>\n",
       "      <td>-5</td>\n",
       "      <td>-5</td>\n",
       "      <td>12</td>\n",
       "    </tr>\n",
       "    <tr>\n",
       "      <th>12684</th>\n",
       "      <td>12685</td>\n",
       "      <td>-5</td>\n",
       "      <td>-5</td>\n",
       "      <td>14</td>\n",
       "    </tr>\n",
       "    <tr>\n",
       "      <th>12685</th>\n",
       "      <td>12686</td>\n",
       "      <td>-5</td>\n",
       "      <td>-5</td>\n",
       "      <td>12</td>\n",
       "    </tr>\n",
       "  </tbody>\n",
       "</table>\n",
       "<p>12686 rows × 4 columns</p>\n",
       "</div>"
      ],
      "text/plain": [
       "       R0000100  T5597600  T5684500  T9900000\n",
       "0             1        -5        -5        12\n",
       "1             2         2        -3        12\n",
       "2             3         2    115000        12\n",
       "3             4         2    112850        14\n",
       "4             5        -5        -5        18\n",
       "...         ...       ...       ...       ...\n",
       "12681     12682        -5        -5        12\n",
       "12682     12683        -5        -5        12\n",
       "12683     12684        -5        -5        12\n",
       "12684     12685        -5        -5        14\n",
       "12685     12686        -5        -5        12\n",
       "\n",
       "[12686 rows x 4 columns]"
      ]
     },
     "execution_count": 2,
     "metadata": {},
     "output_type": "execute_result"
    }
   ],
   "source": [
    "df"
   ]
  },
  {
   "cell_type": "markdown",
   "id": "360305d6-822a-4fc4-98ad-5b7d9f45128a",
   "metadata": {},
   "source": [
    "The column names for the data frame are the Reference Numbers with the decimal points removed. Since these are not very easy to interpret, let's rename the columns to more human-friendly versions. This can be done using the `rename()` method of the dataframe. We pass this method a dictionary that provides the map from each original column name to its new value. Here is the renaming dictionary I will use:"
   ]
  },
  {
   "cell_type": "code",
   "execution_count": 3,
   "id": "f9fed2be-c017-4222-876a-32d2c3f5fe39",
   "metadata": {},
   "outputs": [],
   "source": [
    "remap = {'R0000100':'CASE_ID',\n",
    "         'T5597600': 'GENDER',\n",
    "         'T5684500': 'NET_WEALTH',\n",
    "         'T9900000': 'HIGHEST_GRADE_EVER'\n",
    "        }"
   ]
  },
  {
   "cell_type": "markdown",
   "id": "b50a40c1-81f6-44e4-a7d5-5d9477d22bb7",
   "metadata": {},
   "source": [
    "Then to rename columns in the dataframe, we can pass `remap` using the keyword argument `columns`. We will also specify to perform this remapping in place; i.e., it will change the columns of `df` directly:"
   ]
  },
  {
   "cell_type": "code",
   "execution_count": 4,
   "id": "86a70b9f-181a-447c-9d6b-81bdbfa69b27",
   "metadata": {},
   "outputs": [],
   "source": [
    "df.rename(columns=remap, inplace=True)"
   ]
  },
  {
   "cell_type": "markdown",
   "id": "63237ef8-322e-490b-9bb2-442ae4a84d20",
   "metadata": {},
   "source": [
    "Let's take a look at the dataframe with the new column labels:"
   ]
  },
  {
   "cell_type": "code",
   "execution_count": 5,
   "id": "3663641a-c20f-4868-a08d-694c9316c308",
   "metadata": {},
   "outputs": [
    {
     "data": {
      "text/html": [
       "<div>\n",
       "<style scoped>\n",
       "    .dataframe tbody tr th:only-of-type {\n",
       "        vertical-align: middle;\n",
       "    }\n",
       "\n",
       "    .dataframe tbody tr th {\n",
       "        vertical-align: top;\n",
       "    }\n",
       "\n",
       "    .dataframe thead th {\n",
       "        text-align: right;\n",
       "    }\n",
       "</style>\n",
       "<table border=\"1\" class=\"dataframe\">\n",
       "  <thead>\n",
       "    <tr style=\"text-align: right;\">\n",
       "      <th></th>\n",
       "      <th>CASE_ID</th>\n",
       "      <th>GENDER</th>\n",
       "      <th>NET_WEALTH</th>\n",
       "      <th>HIGHEST_GRADE_EVER</th>\n",
       "    </tr>\n",
       "  </thead>\n",
       "  <tbody>\n",
       "    <tr>\n",
       "      <th>0</th>\n",
       "      <td>1</td>\n",
       "      <td>-5</td>\n",
       "      <td>-5</td>\n",
       "      <td>12</td>\n",
       "    </tr>\n",
       "    <tr>\n",
       "      <th>1</th>\n",
       "      <td>2</td>\n",
       "      <td>2</td>\n",
       "      <td>-3</td>\n",
       "      <td>12</td>\n",
       "    </tr>\n",
       "    <tr>\n",
       "      <th>2</th>\n",
       "      <td>3</td>\n",
       "      <td>2</td>\n",
       "      <td>115000</td>\n",
       "      <td>12</td>\n",
       "    </tr>\n",
       "    <tr>\n",
       "      <th>3</th>\n",
       "      <td>4</td>\n",
       "      <td>2</td>\n",
       "      <td>112850</td>\n",
       "      <td>14</td>\n",
       "    </tr>\n",
       "    <tr>\n",
       "      <th>4</th>\n",
       "      <td>5</td>\n",
       "      <td>-5</td>\n",
       "      <td>-5</td>\n",
       "      <td>18</td>\n",
       "    </tr>\n",
       "    <tr>\n",
       "      <th>...</th>\n",
       "      <td>...</td>\n",
       "      <td>...</td>\n",
       "      <td>...</td>\n",
       "      <td>...</td>\n",
       "    </tr>\n",
       "    <tr>\n",
       "      <th>12681</th>\n",
       "      <td>12682</td>\n",
       "      <td>-5</td>\n",
       "      <td>-5</td>\n",
       "      <td>12</td>\n",
       "    </tr>\n",
       "    <tr>\n",
       "      <th>12682</th>\n",
       "      <td>12683</td>\n",
       "      <td>-5</td>\n",
       "      <td>-5</td>\n",
       "      <td>12</td>\n",
       "    </tr>\n",
       "    <tr>\n",
       "      <th>12683</th>\n",
       "      <td>12684</td>\n",
       "      <td>-5</td>\n",
       "      <td>-5</td>\n",
       "      <td>12</td>\n",
       "    </tr>\n",
       "    <tr>\n",
       "      <th>12684</th>\n",
       "      <td>12685</td>\n",
       "      <td>-5</td>\n",
       "      <td>-5</td>\n",
       "      <td>14</td>\n",
       "    </tr>\n",
       "    <tr>\n",
       "      <th>12685</th>\n",
       "      <td>12686</td>\n",
       "      <td>-5</td>\n",
       "      <td>-5</td>\n",
       "      <td>12</td>\n",
       "    </tr>\n",
       "  </tbody>\n",
       "</table>\n",
       "<p>12686 rows × 4 columns</p>\n",
       "</div>"
      ],
      "text/plain": [
       "       CASE_ID  GENDER  NET_WEALTH  HIGHEST_GRADE_EVER\n",
       "0            1      -5          -5                  12\n",
       "1            2       2          -3                  12\n",
       "2            3       2      115000                  12\n",
       "3            4       2      112850                  14\n",
       "4            5      -5          -5                  18\n",
       "...        ...     ...         ...                 ...\n",
       "12681    12682      -5          -5                  12\n",
       "12682    12683      -5          -5                  12\n",
       "12683    12684      -5          -5                  12\n",
       "12684    12685      -5          -5                  14\n",
       "12685    12686      -5          -5                  12\n",
       "\n",
       "[12686 rows x 4 columns]"
      ]
     },
     "execution_count": 5,
     "metadata": {},
     "output_type": "execute_result"
    }
   ],
   "source": [
    "df"
   ]
  },
  {
   "cell_type": "markdown",
   "id": "b829e760-45c1-4b39-9f92-32f1dd160516",
   "metadata": {},
   "source": [
    "Note that some of the entries in the dataframe are less than 0. For instance, for `CASE_ID==1`:"
   ]
  },
  {
   "cell_type": "code",
   "execution_count": 6,
   "id": "4d0168c1-0785-4a48-acee-52074b6f743b",
   "metadata": {},
   "outputs": [
    {
     "data": {
      "text/html": [
       "<div>\n",
       "<style scoped>\n",
       "    .dataframe tbody tr th:only-of-type {\n",
       "        vertical-align: middle;\n",
       "    }\n",
       "\n",
       "    .dataframe tbody tr th {\n",
       "        vertical-align: top;\n",
       "    }\n",
       "\n",
       "    .dataframe thead th {\n",
       "        text-align: right;\n",
       "    }\n",
       "</style>\n",
       "<table border=\"1\" class=\"dataframe\">\n",
       "  <thead>\n",
       "    <tr style=\"text-align: right;\">\n",
       "      <th></th>\n",
       "      <th>CASE_ID</th>\n",
       "      <th>GENDER</th>\n",
       "      <th>NET_WEALTH</th>\n",
       "      <th>HIGHEST_GRADE_EVER</th>\n",
       "    </tr>\n",
       "  </thead>\n",
       "  <tbody>\n",
       "    <tr>\n",
       "      <th>0</th>\n",
       "      <td>1</td>\n",
       "      <td>-5</td>\n",
       "      <td>-5</td>\n",
       "      <td>12</td>\n",
       "    </tr>\n",
       "  </tbody>\n",
       "</table>\n",
       "</div>"
      ],
      "text/plain": [
       "   CASE_ID  GENDER  NET_WEALTH  HIGHEST_GRADE_EVER\n",
       "0        1      -5          -5                  12"
      ]
     },
     "execution_count": 6,
     "metadata": {},
     "output_type": "execute_result"
    }
   ],
   "source": [
    "df.query('CASE_ID==1')"
   ]
  },
  {
   "cell_type": "markdown",
   "id": "5d7c2604-99ed-4ca9-86ef-1f9b81ff5957",
   "metadata": {},
   "source": [
    "Both the `GENDER` and `NET_WEALTH` entries are negative. When I downloaded this data from NLS Investigator, I chose to include a *codebook* that provides information on how to interpret the results: [Codebook for NLSY79 Data on Wealth vs Education](https://raw.githubusercontent.com/jmshea/Foundations-of-Data-Science-with-Python/main/05-binary-hypothesis-testing/nls/nls.cdb). Note that -5 indicates that respondent was not interviewed in that year. A value of -3 is an \"Invalid Skip\", which indicates that the respondent should have answered the question but did not. We will filter the data to only preserve those entries that have valid values for `NET_WEALTH` and `HIGHEST_GRADE_EVER`. We do this by using a logical *and* on the conditions that the value of `NET_WEALTH` is positive and the value of `HIGHEST_GRADE_EVER` is positive:"
   ]
  },
  {
   "cell_type": "code",
   "execution_count": 7,
   "id": "40c94c46-ee7f-4877-a74e-0cc97ca0322a",
   "metadata": {},
   "outputs": [],
   "source": [
    "df2=df.query('HIGHEST_GRADE_EVER > 0 & NET_WEALTH>0') "
   ]
  },
  {
   "cell_type": "code",
   "execution_count": 8,
   "id": "9d236bf1-ab02-4ce0-9ea8-488aa94eec1b",
   "metadata": {},
   "outputs": [
    {
     "data": {
      "text/html": [
       "<div>\n",
       "<style scoped>\n",
       "    .dataframe tbody tr th:only-of-type {\n",
       "        vertical-align: middle;\n",
       "    }\n",
       "\n",
       "    .dataframe tbody tr th {\n",
       "        vertical-align: top;\n",
       "    }\n",
       "\n",
       "    .dataframe thead th {\n",
       "        text-align: right;\n",
       "    }\n",
       "</style>\n",
       "<table border=\"1\" class=\"dataframe\">\n",
       "  <thead>\n",
       "    <tr style=\"text-align: right;\">\n",
       "      <th></th>\n",
       "      <th>CASE_ID</th>\n",
       "      <th>GENDER</th>\n",
       "      <th>NET_WEALTH</th>\n",
       "      <th>HIGHEST_GRADE_EVER</th>\n",
       "    </tr>\n",
       "  </thead>\n",
       "  <tbody>\n",
       "    <tr>\n",
       "      <th>2</th>\n",
       "      <td>3</td>\n",
       "      <td>2</td>\n",
       "      <td>115000</td>\n",
       "      <td>12</td>\n",
       "    </tr>\n",
       "    <tr>\n",
       "      <th>3</th>\n",
       "      <td>4</td>\n",
       "      <td>2</td>\n",
       "      <td>112850</td>\n",
       "      <td>14</td>\n",
       "    </tr>\n",
       "    <tr>\n",
       "      <th>5</th>\n",
       "      <td>6</td>\n",
       "      <td>1</td>\n",
       "      <td>95825</td>\n",
       "      <td>16</td>\n",
       "    </tr>\n",
       "    <tr>\n",
       "      <th>7</th>\n",
       "      <td>8</td>\n",
       "      <td>2</td>\n",
       "      <td>172717</td>\n",
       "      <td>14</td>\n",
       "    </tr>\n",
       "    <tr>\n",
       "      <th>8</th>\n",
       "      <td>9</td>\n",
       "      <td>1</td>\n",
       "      <td>679000</td>\n",
       "      <td>14</td>\n",
       "    </tr>\n",
       "    <tr>\n",
       "      <th>...</th>\n",
       "      <td>...</td>\n",
       "      <td>...</td>\n",
       "      <td>...</td>\n",
       "      <td>...</td>\n",
       "    </tr>\n",
       "    <tr>\n",
       "      <th>12565</th>\n",
       "      <td>12566</td>\n",
       "      <td>2</td>\n",
       "      <td>88000</td>\n",
       "      <td>14</td>\n",
       "    </tr>\n",
       "    <tr>\n",
       "      <th>12588</th>\n",
       "      <td>12589</td>\n",
       "      <td>1</td>\n",
       "      <td>249280</td>\n",
       "      <td>13</td>\n",
       "    </tr>\n",
       "    <tr>\n",
       "      <th>12642</th>\n",
       "      <td>12643</td>\n",
       "      <td>1</td>\n",
       "      <td>26900</td>\n",
       "      <td>12</td>\n",
       "    </tr>\n",
       "    <tr>\n",
       "      <th>12662</th>\n",
       "      <td>12663</td>\n",
       "      <td>1</td>\n",
       "      <td>62000</td>\n",
       "      <td>13</td>\n",
       "    </tr>\n",
       "    <tr>\n",
       "      <th>12678</th>\n",
       "      <td>12679</td>\n",
       "      <td>1</td>\n",
       "      <td>97000</td>\n",
       "      <td>12</td>\n",
       "    </tr>\n",
       "  </tbody>\n",
       "</table>\n",
       "<p>4774 rows × 4 columns</p>\n",
       "</div>"
      ],
      "text/plain": [
       "       CASE_ID  GENDER  NET_WEALTH  HIGHEST_GRADE_EVER\n",
       "2            3       2      115000                  12\n",
       "3            4       2      112850                  14\n",
       "5            6       1       95825                  16\n",
       "7            8       2      172717                  14\n",
       "8            9       1      679000                  14\n",
       "...        ...     ...         ...                 ...\n",
       "12565    12566       2       88000                  14\n",
       "12588    12589       1      249280                  13\n",
       "12642    12643       1       26900                  12\n",
       "12662    12663       1       62000                  13\n",
       "12678    12679       1       97000                  12\n",
       "\n",
       "[4774 rows x 4 columns]"
      ]
     },
     "execution_count": 8,
     "metadata": {},
     "output_type": "execute_result"
    }
   ],
   "source": [
    "df2"
   ]
  },
  {
   "cell_type": "markdown",
   "id": "d2cbeea5-f7d3-4c75-b53b-3dec6020dc4e",
   "metadata": {},
   "source": [
    "Note that the number of rows has dropped from 12,686 to 4,774."
   ]
  },
  {
   "cell_type": "markdown",
   "id": "e3297634-4ead-489f-a1bc-3b5d4c70ddbf",
   "metadata": {},
   "source": [
    "Before carrying out any statistical tests, we will do some initial data exploration. Let's first create a scatter plot of net wealth as a function of highest grade ever completed:"
   ]
  },
  {
   "cell_type": "code",
   "execution_count": 9,
   "id": "d81b0bd3-9397-4f78-9544-e9a711a79398",
   "metadata": {},
   "outputs": [],
   "source": [
    "import matplotlib.pyplot as plt"
   ]
  },
  {
   "cell_type": "code",
   "execution_count": 10,
   "id": "b604b3d5-835d-4e28-a1dc-d3c484ef8797",
   "metadata": {},
   "outputs": [
    {
     "data": {
      "image/png": "[encoded data removed]",
      "text/plain": [
       "<Figure size 432x288 with 1 Axes>"
      ]
     },
     "metadata": {
      "needs_background": "light"
     },
     "output_type": "display_data"
    }
   ],
   "source": [
    "plt.scatter(df2['HIGHEST_GRADE_EVER'], df2['NET_WEALTH']);"
   ]
  },
  {
   "cell_type": "markdown",
   "id": "f943fe05-bc7d-45c6-9816-92488709bd20",
   "metadata": {},
   "source": [
    "To make progress toward answering our research question, let's extract the data for two groups:\n",
    "* We will consider students with 16 or 17 years of education as having undergraduate education and place their data into a dataframe called `undergrad`.\n",
    "* We will consider students with 18 or more years of education as having post-baccalaureate or graduate education and place their data into a data frame called `grad`."
   ]
  },
  {
   "cell_type": "code",
   "execution_count": 11,
   "id": "a9c24b5e-be8d-4354-8247-c2df8efcce37",
   "metadata": {},
   "outputs": [],
   "source": [
    "undergrad = df2.query('HIGHEST_GRADE_EVER >= 16 & HIGHEST_GRADE_EVER <=17')                "
   ]
  },
  {
   "cell_type": "code",
   "execution_count": 12,
   "id": "109475d4-04b0-472f-b57d-5be1477d3885",
   "metadata": {},
   "outputs": [],
   "source": [
    "grad = df2.query('HIGHEST_GRADE_EVER >= 18')"
   ]
  },
  {
   "cell_type": "code",
   "execution_count": 13,
   "id": "cbec20ed-fbc0-4748-b92e-092f553351b4",
   "metadata": {},
   "outputs": [
    {
     "data": {
      "image/png": "[encoded data removed]",
      "text/plain": [
       "<Figure size 432x288 with 1 Axes>"
      ]
     },
     "metadata": {
      "needs_background": "light"
     },
     "output_type": "display_data"
    }
   ],
   "source": [
    "plt.scatter(undergrad['HIGHEST_GRADE_EVER'], undergrad['NET_WEALTH']);\n",
    "plt.scatter(grad['HIGHEST_GRADE_EVER'], grad['NET_WEALTH']);"
   ]
  },
  {
   "cell_type": "markdown",
   "id": "ea2055dc-db71-488d-ba35-71952f0199b5",
   "metadata": {},
   "source": [
    "At first glance, the data looks very similar. Part of this is because the high values of net wealth have been top-coded, as discussed above. If we look at the maximum value for each group, we will see they are the same top-coded value (approximately $5.5 million):"
   ]
  },
  {
   "cell_type": "code",
   "execution_count": 14,
   "id": "4a3b687e-454a-425d-a9d7-2449dc63ac79",
   "metadata": {},
   "outputs": [
    {
     "data": {
      "text/plain": [
       "(5526252, 5526252)"
      ]
     },
     "execution_count": 14,
     "metadata": {},
     "output_type": "execute_result"
    }
   ],
   "source": [
    "undergrad['NET_WEALTH'].max(), grad['NET_WEALTH'].max()"
   ]
  },
  {
   "cell_type": "markdown",
   "id": "675a9b2c-2f00-4f81-bfe7-d66095aa7600",
   "metadata": {},
   "source": [
    "\n",
    "\n",
    "\n",
    "Let's check the median wealth in each of these groups:"
   ]
  },
  {
   "cell_type": "code",
   "execution_count": 15,
   "id": "4e2ee924-7b98-4177-8e7f-500290ef533d",
   "metadata": {},
   "outputs": [
    {
     "data": {
      "text/plain": [
       "(427000.0, 484400.0)"
      ]
     },
     "execution_count": 15,
     "metadata": {},
     "output_type": "execute_result"
    }
   ],
   "source": [
    "undergrad['NET_WEALTH'].median(), grad['NET_WEALTH'].median()"
   ]
  },
  {
   "cell_type": "markdown",
   "id": "67df10f7-8b65-4669-a2ba-4da8ee1034fe",
   "metadata": {},
   "source": [
    "You may wonder why I chose to use the *median* here instead of the average (or sample mean). The reason is that the top coding may cause the average value to not be accurate. In particular, let's suppose that the undergrad group has billionaires but the grad group does not. Both sets of values are top coded to the same value, but the actual sample means for the two groups could be very different."
   ]
  },
  {
   "cell_type": "markdown",
   "id": "60a17e43-1811-42d7-b623-1657730b67e4",
   "metadata": {},
   "source": [
    "The median value for the `grad` group is higher than the `undergrad` group by"
   ]
  },
  {
   "cell_type": "code",
   "execution_count": 16,
   "id": "dd531f24-6317-456d-8aa1-0826d1905b73",
   "metadata": {},
   "outputs": [
    {
     "name": "stdout",
     "output_type": "stream",
     "text": [
      "57400.0\n"
     ]
    }
   ],
   "source": [
    "delta_median = grad['NET_WEALTH'].median() -undergrad['NET_WEALTH'].median()\n",
    "print(delta_median)"
   ]
  },
  {
   "cell_type": "markdown",
   "id": "fb0f57e9-91f1-4044-b8d5-09991bd6711b",
   "metadata": {},
   "source": [
    "Let's also consider the relative frequency of millionaires in each group:"
   ]
  },
  {
   "cell_type": "code",
   "execution_count": 17,
   "id": "de557374-eea6-4a9d-b67f-e21f03510bd3",
   "metadata": {},
   "outputs": [
    {
     "name": "stdout",
     "output_type": "stream",
     "text": [
      "0.24482338611449453\n"
     ]
    }
   ],
   "source": [
    "R_undergrad = len(undergrad.query('NET_WEALTH > 1_000_000')) / len(undergrad)\n",
    "print(R_undergrad)"
   ]
  },
  {
   "cell_type": "code",
   "execution_count": 18,
   "id": "287981b9-9cd4-4109-bdd2-2ae9ebf832b0",
   "metadata": {},
   "outputs": [
    {
     "name": "stdout",
     "output_type": "stream",
     "text": [
      "0.29809725158562367\n"
     ]
    }
   ],
   "source": [
    "R_grad = len(grad.query('NET_WEALTH > 1_000_000')) / len(grad)\n",
    "print(R_grad)"
   ]
  },
  {
   "cell_type": "markdown",
   "id": "1ba23d38-55a4-4ba9-b59d-fa7f369f98cd",
   "metadata": {},
   "source": [
    "The relative frequency of millionaires in the `grad` group is higher than in the `undergrad` group by "
   ]
  },
  {
   "cell_type": "code",
   "execution_count": 19,
   "id": "1fa8506c-cdc8-4eac-a433-60c3a60ef81a",
   "metadata": {},
   "outputs": [
    {
     "name": "stdout",
     "output_type": "stream",
     "text": [
      "0.05327386547112914\n"
     ]
    }
   ],
   "source": [
    "delta_M_freq = R_grad - R_undergrad\n",
    "print(delta_M_freq)"
   ]
  },
  {
   "cell_type": "markdown",
   "id": "805ca91e-d3df-4d3e-8bd1-f64c77f297e4",
   "metadata": {},
   "source": [
    "Note that the difference is a positive value. We will always achieve this by putting the group with the larger summary statistic first in the difference equation."
   ]
  },
  {
   "cell_type": "markdown",
   "id": "38256b46-b71b-4f4f-8f4a-5fb318ffbfad",
   "metadata": {},
   "source": [
    "We can use NHST to answer the following questions:\n",
    "1. Is the observed increase in median wealth ($\\Delta = 57,400$) between the undergrad and grad groups statistically significant?\n",
    "2. Is the observed increase in the relative frequency of millionaires between the undergrad and grad groups ($\\Delta \\approx 0.053$) statistically significant?\n",
    "\n"
   ]
  },
  {
   "cell_type": "markdown",
   "id": "67714a20-109d-46f4-8993-cc8b247adee9",
   "metadata": {},
   "source": [
    "Note that for both cases, we need to sample from the same pooled data: the net family wealth from both the `undergrad` and `grad` groups. Since these correspond to all students with at least 16 years of education, we can create the pooled data as follows: "
   ]
  },
  {
   "cell_type": "code",
   "execution_count": 20,
   "id": "3f10ba5d-cd7d-4e79-b7f7-bd91ba8acdaf",
   "metadata": {},
   "outputs": [],
   "source": [
    "pooled = df2.query('HIGHEST_GRADE_EVER >= 16')"
   ]
  },
  {
   "cell_type": "markdown",
   "id": "6c43b806-d61c-4d4a-be39-5e0bd238b300",
   "metadata": {},
   "source": [
    "In the next sections, we answer both these questions by applying different approaches to resample from this pooled data, to determine whether a result is \"at least as extreme\" as the observed one, and to determine statistical significance."
   ]
  }
 ],
 "metadata": {
  "kernelspec": {
   "display_name": "Python 3 (ipykernel)",
   "language": "python",
   "name": "python3"
  },
  "language_info": {
   "codemirror_mode": {
    "name": "ipython",
    "version": 3
   },
   "file_extension": ".py",
   "mimetype": "text/x-python",
   "name": "python",
   "nbconvert_exporter": "python",
   "pygments_lexer": "ipython3",
   "version": "3.9.12"
  }
 },
 "nbformat": 4,
 "nbformat_minor": 5
}
