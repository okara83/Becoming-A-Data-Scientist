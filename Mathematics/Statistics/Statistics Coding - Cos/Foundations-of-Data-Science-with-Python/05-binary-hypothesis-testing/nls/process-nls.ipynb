{
 "cells": [
  {
   "cell_type": "code",
   "execution_count": 1,
   "id": "c8fc103c-961f-4e20-ad92-a69fa6cfc72f",
   "metadata": {},
   "outputs": [],
   "source": [
    "import pandas as pd\n",
    "import matplotlib.pyplot as plt\n",
    "import numpy as np\n",
    "import numpy.random as npr\n"
   ]
  },
  {
   "cell_type": "code",
   "execution_count": 4,
   "id": "1a39c950-db3c-465e-bdef-bcd1b6c24b3b",
   "metadata": {},
   "outputs": [
    {
     "data": {
      "text/html": [
       "<div>\n",
       "<style scoped>\n",
       "    .dataframe tbody tr th:only-of-type {\n",
       "        vertical-align: middle;\n",
       "    }\n",
       "\n",
       "    .dataframe tbody tr th {\n",
       "        vertical-align: top;\n",
       "    }\n",
       "\n",
       "    .dataframe thead th {\n",
       "        text-align: right;\n",
       "    }\n",
       "</style>\n",
       "<table border=\"1\" class=\"dataframe\">\n",
       "  <thead>\n",
       "    <tr style=\"text-align: right;\">\n",
       "      <th></th>\n",
       "      <th>R0000100</th>\n",
       "      <th>T5597600</th>\n",
       "      <th>T5684500</th>\n",
       "      <th>T9900000</th>\n",
       "    </tr>\n",
       "  </thead>\n",
       "  <tbody>\n",
       "    <tr>\n",
       "      <th>0</th>\n",
       "      <td>1</td>\n",
       "      <td>-5</td>\n",
       "      <td>-5</td>\n",
       "      <td>12</td>\n",
       "    </tr>\n",
       "    <tr>\n",
       "      <th>1</th>\n",
       "      <td>2</td>\n",
       "      <td>2</td>\n",
       "      <td>-3</td>\n",
       "      <td>12</td>\n",
       "    </tr>\n",
       "    <tr>\n",
       "      <th>2</th>\n",
       "      <td>3</td>\n",
       "      <td>2</td>\n",
       "      <td>115000</td>\n",
       "      <td>12</td>\n",
       "    </tr>\n",
       "    <tr>\n",
       "      <th>3</th>\n",
       "      <td>4</td>\n",
       "      <td>2</td>\n",
       "      <td>112850</td>\n",
       "      <td>14</td>\n",
       "    </tr>\n",
       "    <tr>\n",
       "      <th>4</th>\n",
       "      <td>5</td>\n",
       "      <td>-5</td>\n",
       "      <td>-5</td>\n",
       "      <td>18</td>\n",
       "    </tr>\n",
       "    <tr>\n",
       "      <th>...</th>\n",
       "      <td>...</td>\n",
       "      <td>...</td>\n",
       "      <td>...</td>\n",
       "      <td>...</td>\n",
       "    </tr>\n",
       "    <tr>\n",
       "      <th>12681</th>\n",
       "      <td>12682</td>\n",
       "      <td>-5</td>\n",
       "      <td>-5</td>\n",
       "      <td>12</td>\n",
       "    </tr>\n",
       "    <tr>\n",
       "      <th>12682</th>\n",
       "      <td>12683</td>\n",
       "      <td>-5</td>\n",
       "      <td>-5</td>\n",
       "      <td>12</td>\n",
       "    </tr>\n",
       "    <tr>\n",
       "      <th>12683</th>\n",
       "      <td>12684</td>\n",
       "      <td>-5</td>\n",
       "      <td>-5</td>\n",
       "      <td>12</td>\n",
       "    </tr>\n",
       "    <tr>\n",
       "      <th>12684</th>\n",
       "      <td>12685</td>\n",
       "      <td>-5</td>\n",
       "      <td>-5</td>\n",
       "      <td>14</td>\n",
       "    </tr>\n",
       "    <tr>\n",
       "      <th>12685</th>\n",
       "      <td>12686</td>\n",
       "      <td>-5</td>\n",
       "      <td>-5</td>\n",
       "      <td>12</td>\n",
       "    </tr>\n",
       "  </tbody>\n",
       "</table>\n",
       "<p>12686 rows × 4 columns</p>\n",
       "</div>"
      ],
      "text/plain": [
       "       R0000100  T5597600  T5684500  T9900000\n",
       "0             1        -5        -5        12\n",
       "1             2         2        -3        12\n",
       "2             3         2    115000        12\n",
       "3             4         2    112850        14\n",
       "4             5        -5        -5        18\n",
       "...         ...       ...       ...       ...\n",
       "12681     12682        -5        -5        12\n",
       "12682     12683        -5        -5        12\n",
       "12683     12684        -5        -5        12\n",
       "12684     12685        -5        -5        14\n",
       "12685     12686        -5        -5        12\n",
       "\n",
       "[12686 rows x 4 columns]"
      ]
     },
     "execution_count": 4,
     "metadata": {},
     "output_type": "execute_result"
    }
   ],
   "source": [
    "df = pd.read_csv('nls.csv')\n",
    "df"
   ]
  },
  {
   "cell_type": "markdown",
   "id": "4c59a8f2-c110-462a-a84a-ebb48c61e58f",
   "metadata": {},
   "source": [
    "**R00001.00** = CASEID (IDENTIFICATION CODE)\n",
    "\n",
    "**T55976.00** = Q11-GENHLTH_4B (RESPONDENT GENDER)\n",
    "\n",
    "**T56845.00** = TNFW_TRUNC (FAMILY NET WEALTH (TRUNC))\n",
    "\n",
    "**T99000.00** = HGC_EVER (HIGHEST GRADE RESPONDENT HAS EVER REPORTED COMPLETING AND GETTING CREDIT FOR)\n",
    "\n",
    "\n",
    "\n"
   ]
  },
  {
   "cell_type": "code",
   "execution_count": 5,
   "id": "f9fed2be-c017-4222-876a-32d2c3f5fe39",
   "metadata": {},
   "outputs": [],
   "source": [
    "remap = {'R0000100':'CASE_ID',\n",
    "         'T5597600': 'GENDER',\n",
    "         'T5684500': 'NET_WEALTH',\n",
    "         'T9900000': 'HIGHEST_GRADE_EVER'\n",
    "        }"
   ]
  },
  {
   "cell_type": "code",
   "execution_count": 6,
   "id": "86a70b9f-181a-447c-9d6b-81bdbfa69b27",
   "metadata": {},
   "outputs": [],
   "source": [
    "df.rename(columns=remap, inplace=True)"
   ]
  },
  {
   "cell_type": "code",
   "execution_count": 7,
   "id": "677004e3-e582-4190-8849-50f9127e8168",
   "metadata": {},
   "outputs": [],
   "source": [
    "df2 = df[(df['HIGHEST_GRADE_EVER']>0 ) & (df['NET_WEALTH']>0) ].copy()"
   ]
  },
  {
   "cell_type": "code",
   "execution_count": 8,
   "id": "9d236bf1-ab02-4ce0-9ea8-488aa94eec1b",
   "metadata": {},
   "outputs": [
    {
     "data": {
      "text/html": [
       "<div>\n",
       "<style scoped>\n",
       "    .dataframe tbody tr th:only-of-type {\n",
       "        vertical-align: middle;\n",
       "    }\n",
       "\n",
       "    .dataframe tbody tr th {\n",
       "        vertical-align: top;\n",
       "    }\n",
       "\n",
       "    .dataframe thead th {\n",
       "        text-align: right;\n",
       "    }\n",
       "</style>\n",
       "<table border=\"1\" class=\"dataframe\">\n",
       "  <thead>\n",
       "    <tr style=\"text-align: right;\">\n",
       "      <th></th>\n",
       "      <th>CASE_ID</th>\n",
       "      <th>GENDER</th>\n",
       "      <th>NET_WEALTH</th>\n",
       "      <th>HIGHEST_GRADE_EVER</th>\n",
       "    </tr>\n",
       "  </thead>\n",
       "  <tbody>\n",
       "    <tr>\n",
       "      <th>2</th>\n",
       "      <td>3</td>\n",
       "      <td>2</td>\n",
       "      <td>115000</td>\n",
       "      <td>12</td>\n",
       "    </tr>\n",
       "    <tr>\n",
       "      <th>3</th>\n",
       "      <td>4</td>\n",
       "      <td>2</td>\n",
       "      <td>112850</td>\n",
       "      <td>14</td>\n",
       "    </tr>\n",
       "    <tr>\n",
       "      <th>5</th>\n",
       "      <td>6</td>\n",
       "      <td>1</td>\n",
       "      <td>95825</td>\n",
       "      <td>16</td>\n",
       "    </tr>\n",
       "    <tr>\n",
       "      <th>7</th>\n",
       "      <td>8</td>\n",
       "      <td>2</td>\n",
       "      <td>172717</td>\n",
       "      <td>14</td>\n",
       "    </tr>\n",
       "    <tr>\n",
       "      <th>8</th>\n",
       "      <td>9</td>\n",
       "      <td>1</td>\n",
       "      <td>679000</td>\n",
       "      <td>14</td>\n",
       "    </tr>\n",
       "    <tr>\n",
       "      <th>...</th>\n",
       "      <td>...</td>\n",
       "      <td>...</td>\n",
       "      <td>...</td>\n",
       "      <td>...</td>\n",
       "    </tr>\n",
       "    <tr>\n",
       "      <th>12565</th>\n",
       "      <td>12566</td>\n",
       "      <td>2</td>\n",
       "      <td>88000</td>\n",
       "      <td>14</td>\n",
       "    </tr>\n",
       "    <tr>\n",
       "      <th>12588</th>\n",
       "      <td>12589</td>\n",
       "      <td>1</td>\n",
       "      <td>249280</td>\n",
       "      <td>13</td>\n",
       "    </tr>\n",
       "    <tr>\n",
       "      <th>12642</th>\n",
       "      <td>12643</td>\n",
       "      <td>1</td>\n",
       "      <td>26900</td>\n",
       "      <td>12</td>\n",
       "    </tr>\n",
       "    <tr>\n",
       "      <th>12662</th>\n",
       "      <td>12663</td>\n",
       "      <td>1</td>\n",
       "      <td>62000</td>\n",
       "      <td>13</td>\n",
       "    </tr>\n",
       "    <tr>\n",
       "      <th>12678</th>\n",
       "      <td>12679</td>\n",
       "      <td>1</td>\n",
       "      <td>97000</td>\n",
       "      <td>12</td>\n",
       "    </tr>\n",
       "  </tbody>\n",
       "</table>\n",
       "<p>4774 rows × 4 columns</p>\n",
       "</div>"
      ],
      "text/plain": [
       "       CASE_ID  GENDER  NET_WEALTH  HIGHEST_GRADE_EVER\n",
       "2            3       2      115000                  12\n",
       "3            4       2      112850                  14\n",
       "5            6       1       95825                  16\n",
       "7            8       2      172717                  14\n",
       "8            9       1      679000                  14\n",
       "...        ...     ...         ...                 ...\n",
       "12565    12566       2       88000                  14\n",
       "12588    12589       1      249280                  13\n",
       "12642    12643       1       26900                  12\n",
       "12662    12663       1       62000                  13\n",
       "12678    12679       1       97000                  12\n",
       "\n",
       "[4774 rows x 4 columns]"
      ]
     },
     "execution_count": 8,
     "metadata": {},
     "output_type": "execute_result"
    }
   ],
   "source": [
    "df2"
   ]
  },
  {
   "cell_type": "code",
   "execution_count": 9,
   "id": "5701bd44-d0fb-4094-9839-5a5d4a732858",
   "metadata": {},
   "outputs": [
    {
     "data": {
      "text/plain": [
       "<matplotlib.collections.PathCollection at 0x7f79779feb50>"
      ]
     },
     "execution_count": 9,
     "metadata": {},
     "output_type": "execute_result"
    },
    {
     "data": {
      "image/png": "[encoded data removed]",
      "text/plain": [
       "<Figure size 432x288 with 1 Axes>"
      ]
     },
     "metadata": {
      "needs_background": "light"
     },
     "output_type": "display_data"
    }
   ],
   "source": [
    "plt.scatter(df2['HIGHEST_GRADE_EVER'], df2['NET_WEALTH'])"
   ]
  },
  {
   "cell_type": "code",
   "execution_count": 10,
   "id": "ad5d8d6d-0744-4320-9356-3f8cb56823f1",
   "metadata": {},
   "outputs": [],
   "source": [
    "college2 = df2[(df2['HIGHEST_GRADE_EVER']>=16) & (df2['HIGHEST_GRADE_EVER']<18)].copy()"
   ]
  },
  {
   "cell_type": "code",
   "execution_count": 11,
   "id": "c8392dea-927d-432b-b2fc-ad8d8c66cc72",
   "metadata": {},
   "outputs": [],
   "source": [
    "gradschool2 = df2[ df2['HIGHEST_GRADE_EVER']>=18].copy()"
   ]
  },
  {
   "cell_type": "code",
   "execution_count": 12,
   "id": "8136f0ab-c38c-4fd0-b162-025286830e72",
   "metadata": {},
   "outputs": [
    {
     "data": {
      "text/plain": [
       "CASE_ID                 3970.0\n",
       "GENDER                     2.0\n",
       "NET_WEALTH            427000.0\n",
       "HIGHEST_GRADE_EVER        16.0\n",
       "dtype: float64"
      ]
     },
     "execution_count": 12,
     "metadata": {},
     "output_type": "execute_result"
    }
   ],
   "source": [
    "college2.median()"
   ]
  },
  {
   "cell_type": "code",
   "execution_count": 13,
   "id": "e3f6a8da-83cc-4e77-b1fd-a313061ff7e7",
   "metadata": {},
   "outputs": [
    {
     "data": {
      "text/plain": [
       "CASE_ID                 3855.0\n",
       "GENDER                     2.0\n",
       "NET_WEALTH            484400.0\n",
       "HIGHEST_GRADE_EVER        18.0\n",
       "dtype: float64"
      ]
     },
     "execution_count": 13,
     "metadata": {},
     "output_type": "execute_result"
    }
   ],
   "source": [
    "gradschool2.median()"
   ]
  },
  {
   "cell_type": "markdown",
   "id": "3f220e40-6297-405d-9761-28a6353f447d",
   "metadata": {},
   "source": [
    "##  Test on means"
   ]
  },
  {
   "cell_type": "code",
   "execution_count": 25,
   "id": "3d09aae0-933a-48a4-9efe-c06dd633a95a",
   "metadata": {},
   "outputs": [],
   "source": [
    "pooled=np.array(df2[df2['HIGHEST_GRADE_EVER']>=16]['NET_WEALTH'])"
   ]
  },
  {
   "cell_type": "code",
   "execution_count": 26,
   "id": "24734c9e-8330-4e8a-ac30-b3d252917e66",
   "metadata": {},
   "outputs": [
    {
     "name": "stdout",
     "output_type": "stream",
     "text": [
      "140006.5459489664\n",
      "0.0374\n"
     ]
    }
   ],
   "source": [
    "diff = gradschool2['NET_WEALTH'].mean() - college2['NET_WEALTH'].mean()\n",
    "print(diff)\n",
    "num_sims = 10_000\n",
    "count=0\n",
    "for sim in range(num_sims):\n",
    "  sample_diff = npr.choice(pooled, len(gradschool2)).mean() - \\\n",
    "    npr.choice(pooled, len(college2)).mean()\n",
    "  if sample_diff >= diff:\n",
    "    count+=1\n",
    "print(count/num_sims)"
   ]
  },
  {
   "cell_type": "markdown",
   "id": "9d34bbfc-5803-40f9-91db-f9b8900e7b0a",
   "metadata": {},
   "source": [
    "##  Test on medians"
   ]
  },
  {
   "cell_type": "code",
   "execution_count": 27,
   "id": "a12c3916-fd2e-4ac1-b995-6d7effb794f4",
   "metadata": {},
   "outputs": [
    {
     "name": "stdout",
     "output_type": "stream",
     "text": [
      "484400.0 427000.0\n"
     ]
    }
   ],
   "source": [
    "print(gradschool2['NET_WEALTH'].median(), college2['NET_WEALTH'].median())\n"
   ]
  },
  {
   "cell_type": "code",
   "execution_count": 28,
   "id": "2601e399-7d1e-4b1e-9452-03640a6e63df",
   "metadata": {},
   "outputs": [
    {
     "name": "stdout",
     "output_type": "stream",
     "text": [
      "0.0898\n"
     ]
    }
   ],
   "source": [
    "diff = gradschool2['NET_WEALTH'].median() - college2['NET_WEALTH'].median()\n",
    "num_sims = 10_000\n",
    "count=0\n",
    "for sim in range(num_sims):\n",
    "  sample_diff = np.median(npr.choice(pooled, len(gradschool2))) - \\\n",
    "    np.median(npr.choice(pooled, len(college2)))\n",
    "  if sample_diff >= diff:\n",
    "    count+=1\n",
    "print(count/num_sims)"
   ]
  },
  {
   "cell_type": "code",
   "execution_count": 29,
   "id": "4beb0f78-bb14-4db0-ae27-04a7961c5396",
   "metadata": {},
   "outputs": [
    {
     "data": {
      "image/png": "[encoded data removed]",
      "text/plain": [
       "<Figure size 432x288 with 1 Axes>"
      ]
     },
     "metadata": {
      "needs_background": "light"
     },
     "output_type": "display_data"
    }
   ],
   "source": [
    "plt.hist(college2['NET_WEALTH'], bins=20, alpha=0.5, density=True)\n",
    "plt.hist(gradschool2['NET_WEALTH'], bins=20, alpha=0.5, density=True);\n"
   ]
  },
  {
   "cell_type": "markdown",
   "id": "3acd4b4d-0bde-4cc0-ab3d-f3bac785e1ad",
   "metadata": {
    "tags": []
   },
   "source": [
    "## Test on millionaire/multimillionaire proportion"
   ]
  },
  {
   "cell_type": "code",
   "execution_count": 30,
   "id": "da0d68a7-5c62-4f0b-a859-7f580ae79011",
   "metadata": {},
   "outputs": [],
   "source": [
    "def find_proportion(df, index, thresh):\n",
    "  return len(df[df[index] >thresh])/len(df) "
   ]
  },
  {
   "cell_type": "code",
   "execution_count": 31,
   "id": "9361b404-2f30-4274-ad18-df15a845f111",
   "metadata": {},
   "outputs": [
    {
     "name": "stdout",
     "output_type": "stream",
     "text": [
      "0.29809725158562367 0.24482338611449453\n",
      "0.05327386547112914\n",
      "0.0188\n"
     ]
    }
   ],
   "source": [
    "thresh = 1_000_000\n",
    "diff = find_proportion(gradschool2, 'NET_WEALTH', thresh) -find_proportion(college2, 'NET_WEALTH', thresh)\n",
    "print(find_proportion(gradschool2, 'NET_WEALTH', thresh), find_proportion(college2, 'NET_WEALTH', thresh))\n",
    "print(diff)\n",
    "num_sims = 10_000\n",
    "count=0\n",
    "for sim in range(num_sims):\n",
    "  sample_diff = np.sum(npr.choice(pooled, len(gradschool2))>thresh)/len(gradschool2) - \\\n",
    "    np.sum(npr.choice(pooled, len(college2))>thresh)/len(college2) \n",
    "  if sample_diff >= diff:\n",
    "    count+=1\n",
    "print(count/num_sims)"
   ]
  },
  {
   "cell_type": "code",
   "execution_count": 32,
   "id": "bc07dde2-c23f-42e3-b527-16ab0c57ec0d",
   "metadata": {},
   "outputs": [
    {
     "name": "stdout",
     "output_type": "stream",
     "text": [
      "473 821 1294\n"
     ]
    }
   ],
   "source": [
    "print(len(gradschool2), len(college2), len(pooled))"
   ]
  },
  {
   "cell_type": "code",
   "execution_count": 33,
   "id": "2fcfbb65-0592-4a67-bcb5-da4a8b500752",
   "metadata": {},
   "outputs": [
    {
     "name": "stdout",
     "output_type": "stream",
     "text": [
      "0.013181985563936113\n",
      "0.2515\n"
     ]
    }
   ],
   "source": [
    "thresh = 2_000_000\n",
    "diff = find_proportion(gradschool2, 'NET_WEALTH', thresh) -find_proportion(college2, 'NET_WEALTH', thresh)\n",
    "print(diff)\n",
    "num_sims = 10_000\n",
    "count=0\n",
    "for sim in range(num_sims):\n",
    "  sample_diff = np.count_nonzero(npr.choice(pooled, len(gradschool2))>thresh)/len(gradschool2) - \\\n",
    "    np.count_nonzero(npr.choice(pooled, len(college2))>thresh)/len(college2) \n",
    "  if sample_diff >= diff:\n",
    "    count+=1\n",
    "print(count/num_sims)"
   ]
  },
  {
   "cell_type": "code",
   "execution_count": 34,
   "id": "0a2e3b4a-70c7-42a7-add9-d1f8f0e41dd2",
   "metadata": {},
   "outputs": [
    {
     "data": {
      "image/png": "[encoded data removed]",
      "text/plain": [
       "<Figure size 432x288 with 1 Axes>"
      ]
     },
     "metadata": {
      "needs_background": "light"
     },
     "output_type": "display_data"
    }
   ],
   "source": [
    "plt.hist(college2[college2['NET_WEALTH']>2_000_000]['NET_WEALTH'], bins=20, alpha=0.5, density=True)\n",
    "plt.hist(gradschool2[gradschool2['NET_WEALTH']>2_000_000]['NET_WEALTH'], bins=20, alpha=0.5, density=True);"
   ]
  },
  {
   "cell_type": "markdown",
   "id": "37e05a99-ea6b-4f3a-8a35-249909d50aca",
   "metadata": {},
   "source": [
    "## Male Only"
   ]
  },
  {
   "cell_type": "code",
   "execution_count": 23,
   "id": "4e637c62-70ac-4e40-be35-74eb10d4af93",
   "metadata": {},
   "outputs": [],
   "source": [
    "gradschool2m=gradschool2[gradschool2['GENDER']==1]\n",
    "college2m=college2[college2['GENDER']==1]"
   ]
  },
  {
   "cell_type": "code",
   "execution_count": 24,
   "id": "c945b744-b8fe-4876-b0c7-810689e68959",
   "metadata": {},
   "outputs": [
    {
     "data": {
      "text/plain": [
       "CASE_ID               4.667188e+03\n",
       "GENDER                1.000000e+00\n",
       "NET_WEALTH            1.308276e+06\n",
       "HIGHEST_GRADE_EVER    1.887054e+01\n",
       "dtype: float64"
      ]
     },
     "execution_count": 24,
     "metadata": {},
     "output_type": "execute_result"
    }
   ],
   "source": [
    "gradschool2m.mean()"
   ]
  },
  {
   "cell_type": "code",
   "execution_count": 25,
   "id": "24f59137-45d0-4657-b8e7-08067992b416",
   "metadata": {},
   "outputs": [
    {
     "data": {
      "text/plain": [
       "CASE_ID                 4832.046392\n",
       "GENDER                     1.000000\n",
       "NET_WEALTH            949025.646907\n",
       "HIGHEST_GRADE_EVER        16.188144\n",
       "dtype: float64"
      ]
     },
     "execution_count": 25,
     "metadata": {},
     "output_type": "execute_result"
    }
   ],
   "source": [
    "college2m.mean()"
   ]
  },
  {
   "cell_type": "code",
   "execution_count": 26,
   "id": "30fe3df0-ceb9-44d3-923a-f4e67740c8f2",
   "metadata": {},
   "outputs": [
    {
     "data": {
      "text/plain": [
       "0.05536634756995584"
      ]
     },
     "execution_count": 26,
     "metadata": {},
     "output_type": "execute_result"
    }
   ],
   "source": [
    "diff = find_proportion(gradschool2m, 'NET_WEALTH', thresh)  - \\\n",
    "    find_proportion(college2m, 'NET_WEALTH', thresh) \n",
    "diff\n"
   ]
  },
  {
   "cell_type": "code",
   "execution_count": 27,
   "id": "858ea4b6-dd6c-4fad-a1e9-42158d91c6c8",
   "metadata": {},
   "outputs": [],
   "source": [
    "pooledm = np.array(df2[(df2['HIGHEST_GRADE_EVER']>12) & (df2['GENDER']==1)]['NET_WEALTH'])"
   ]
  },
  {
   "cell_type": "code",
   "execution_count": 28,
   "id": "ecf1fbc2-ad28-494a-957f-3924ac7f3517",
   "metadata": {},
   "outputs": [
    {
     "name": "stdout",
     "output_type": "stream",
     "text": [
      "0.04\n"
     ]
    }
   ],
   "source": [
    "diff = find_proportion(gradschool2m, 'NET_WEALTH', thresh)  - \\\n",
    "      find_proportion(college2m, 'NET_WEALTH', thresh)\n",
    "num_sims = 10_0\n",
    "count=0\n",
    "for sim in range(num_sims):\n",
    "  sample_diff = np.count_nonzero(npr.choice(pooledm, len(gradschool2m))>thresh)/len(gradschool2m) - \\\n",
    "                np.count_nonzero(npr.choice(pooledm, len(college2m))>thresh)/len(college2m)  \n",
    "     \n",
    "  #print(sample_diff)  \n",
    "  if sample_diff >= diff:\n",
    "    count+=1\n",
    "print(count/num_sims)"
   ]
  },
  {
   "cell_type": "markdown",
   "id": "6146a7ee-51b0-4422-a04f-acb1e3588c47",
   "metadata": {
    "tags": []
   },
   "source": [
    "## Female only (different result for male!)"
   ]
  },
  {
   "cell_type": "code",
   "execution_count": 29,
   "id": "3b799c92-91f8-4c81-8794-be7d3d6d382e",
   "metadata": {},
   "outputs": [],
   "source": [
    "gradschool2f=gradschool2[gradschool2['GENDER']==2]\n",
    "college2f=college2[college2['GENDER']==2]"
   ]
  },
  {
   "cell_type": "code",
   "execution_count": 30,
   "id": "c874f54d-26f5-4358-bd5a-c109210a304b",
   "metadata": {},
   "outputs": [
    {
     "data": {
      "text/plain": [
       "-57377.78719496925"
      ]
     },
     "execution_count": 30,
     "metadata": {},
     "output_type": "execute_result"
    }
   ],
   "source": [
    "diff = gradschool2f['NET_WEALTH'].mean() - college2f['NET_WEALTH'].mean()\n",
    "diff"
   ]
  },
  {
   "cell_type": "code",
   "execution_count": 31,
   "id": "a8ea9b48-ff11-4c6d-8356-f1162dd31a4b",
   "metadata": {},
   "outputs": [
    {
     "data": {
      "text/plain": [
       "CASE_ID                 4255.518072\n",
       "GENDER                     2.000000\n",
       "NET_WEALTH            809320.674699\n",
       "HIGHEST_GRADE_EVER        18.734940\n",
       "dtype: float64"
      ]
     },
     "execution_count": 31,
     "metadata": {},
     "output_type": "execute_result"
    }
   ],
   "source": [
    "gradschool2f.mean()"
   ]
  },
  {
   "cell_type": "code",
   "execution_count": 32,
   "id": "29882580-b8e6-4748-993c-d195a1859190",
   "metadata": {},
   "outputs": [
    {
     "data": {
      "text/plain": [
       "CASE_ID                 4489.401848\n",
       "GENDER                     2.000000\n",
       "NET_WEALTH            866698.461894\n",
       "HIGHEST_GRADE_EVER        16.198614\n",
       "dtype: float64"
      ]
     },
     "execution_count": 32,
     "metadata": {},
     "output_type": "execute_result"
    }
   ],
   "source": [
    "college2f.mean()"
   ]
  },
  {
   "cell_type": "code",
   "execution_count": 33,
   "id": "6b35a972-fc41-40dd-9966-8a4ecad0be8b",
   "metadata": {},
   "outputs": [
    {
     "data": {
      "image/png": "[encoded data removed]",
      "text/plain": [
       "<Figure size 432x288 with 1 Axes>"
      ]
     },
     "metadata": {
      "needs_background": "light"
     },
     "output_type": "display_data"
    }
   ],
   "source": [
    "plt.hist(college2f['NET_WEALTH'], bins=20, alpha  = 0.7, density=True)\n",
    "plt.hist(gradschool2f['NET_WEALTH'], bins=20, alpha = 0.7, density=True);\n"
   ]
  },
  {
   "cell_type": "code",
   "execution_count": 34,
   "id": "978f3bb9-6c43-476e-98ab-dd7e07412b8f",
   "metadata": {},
   "outputs": [
    {
     "data": {
      "text/plain": [
       "(0.057736720554272515, 0.03614457831325301)"
      ]
     },
     "execution_count": 34,
     "metadata": {},
     "output_type": "execute_result"
    }
   ],
   "source": [
    "len(college2f[college2f['NET_WEALTH'] >5e6])/len(college2f),\\\n",
    "len(gradschool2f[gradschool2f['NET_WEALTH'] >5e6])/len(gradschool2f)"
   ]
  },
  {
   "cell_type": "code",
   "execution_count": 35,
   "id": "b6d07c9b-5c37-4677-8394-6092bfb29094",
   "metadata": {},
   "outputs": [],
   "source": [
    "pooledf = np.array(df2[(df2['HIGHEST_GRADE_EVER']>12) & (df2['GENDER']==2)]['NET_WEALTH'])"
   ]
  },
  {
   "cell_type": "code",
   "execution_count": 36,
   "id": "5087859a-0624-4733-92d6-21688c1391b3",
   "metadata": {},
   "outputs": [
    {
     "name": "stdout",
     "output_type": "stream",
     "text": [
      "0.08\n"
     ]
    }
   ],
   "source": [
    "diff = find_proportion(college2f, 'NET_WEALTH', thresh) - find_proportion(gradschool2f, 'NET_WEALTH', thresh) \n",
    "num_sims = 10_0\n",
    "count=0\n",
    "for sim in range(num_sims):\n",
    "  sample_diff = np.count_nonzero(npr.choice(pooledf, len(college2f))>thresh)/len(college2f)  - \\\n",
    "    np.count_nonzero(npr.choice(pooledf, len(gradschool2f))>thresh)/len(gradschool2f) \n",
    "  #print(sample_diff)  \n",
    "  if sample_diff >= diff:\n",
    "    count+=1\n",
    "print(count/num_sims)"
   ]
  },
  {
   "cell_type": "markdown",
   "id": "bfadf71a-5018-4721-88d9-635cda88c13f",
   "metadata": {},
   "source": [
    "## Income-based and other stuff I'm not using"
   ]
  },
  {
   "cell_type": "code",
   "execution_count": null,
   "id": "89b4f9bc-a742-4751-86df-ab30458c0aa1",
   "metadata": {},
   "outputs": [],
   "source": [
    "college = df2[(df2['HIGHEST_GRADE_EVER']>12) & (df2['HIGHEST_GRADE_EVER']<17)].copy()"
   ]
  },
  {
   "cell_type": "code",
   "execution_count": null,
   "id": "0589688d-05a3-4c54-a8c9-99b4f830d512",
   "metadata": {},
   "outputs": [],
   "source": [
    "college.mean()"
   ]
  },
  {
   "cell_type": "code",
   "execution_count": null,
   "id": "cf01f7c4-4d1a-4905-80ab-83064d5fee2e",
   "metadata": {},
   "outputs": [],
   "source": [
    "gradschool = df2[ df2['HIGHEST_GRADE_EVER']>=17].copy()"
   ]
  },
  {
   "cell_type": "code",
   "execution_count": null,
   "id": "ecab08c8-cc36-42d7-82d0-475e2fa1cf2f",
   "metadata": {},
   "outputs": [],
   "source": [
    "gradschool.mean()"
   ]
  },
  {
   "cell_type": "code",
   "execution_count": null,
   "id": "c544b630-3787-47da-ba57-eaa1f2e92abc",
   "metadata": {},
   "outputs": [],
   "source": [
    "len(college[college['INCOME'] >200000])"
   ]
  },
  {
   "cell_type": "code",
   "execution_count": null,
   "id": "992fa422-f24d-42f2-adbb-8c558167f057",
   "metadata": {},
   "outputs": [],
   "source": [
    "gradschool[gradschool['INCOME'] >200000]"
   ]
  },
  {
   "cell_type": "code",
   "execution_count": null,
   "id": "ea27d4b4-892d-4634-9c14-edae9dfef786",
   "metadata": {},
   "outputs": [],
   "source": [
    "noncollege = df2[(df2['HIGHEST_GRADE_EVER']> 0) & (df2['HIGHEST_GRADE_EVER']<=12)].copy()"
   ]
  },
  {
   "cell_type": "code",
   "execution_count": null,
   "id": "32cb281d-2b4b-4a1e-966f-597376727175",
   "metadata": {},
   "outputs": [],
   "source": [
    "noncollege.mean()"
   ]
  },
  {
   "cell_type": "code",
   "execution_count": null,
   "id": "a31eed8b-8e24-4557-b9f8-588e3d0ef48c",
   "metadata": {},
   "outputs": [],
   "source": [
    "thresh=250000"
   ]
  },
  {
   "cell_type": "code",
   "execution_count": null,
   "id": "71dcafe2-6c45-42b4-b0c6-0822c5d7b94f",
   "metadata": {},
   "outputs": [],
   "source": [
    "noncollege[noncollege['INCOME'] >thresh]"
   ]
  },
  {
   "cell_type": "code",
   "execution_count": null,
   "id": "03a97211-ba93-4fe9-a9f7-896bb71bd17c",
   "metadata": {},
   "outputs": [],
   "source": [
    "len(noncollege[noncollege['INCOME'] >thresh])/len(noncollege) "
   ]
  },
  {
   "cell_type": "code",
   "execution_count": null,
   "id": "34e768a0-77dc-4d19-a652-bebf76d3ba53",
   "metadata": {},
   "outputs": [],
   "source": [
    "len(college[college['INCOME'] >thresh]), len(college[college['INCOME'] >thresh])/len(college) "
   ]
  },
  {
   "cell_type": "code",
   "execution_count": null,
   "id": "2b3aacb3-fb22-4408-abf9-1b74c75cc8a1",
   "metadata": {},
   "outputs": [],
   "source": [
    "len(gradschool[gradschool['INCOME'] >thresh]), len(gradschool[gradschool['INCOME'] >thresh])/len(gradschool) "
   ]
  },
  {
   "cell_type": "code",
   "execution_count": null,
   "id": "eea9d96c-c9ce-4d18-8033-45dcf2f5dfcd",
   "metadata": {},
   "outputs": [],
   "source": [
    "thresh = 3_000_000\n",
    "find_proportion(noncollege, 'NET_WEALTH', thresh), \\\n",
    "  find_proportion(college, 'NET_WEALTH', thresh), \\\n",
    "  find_proportion(gradschool, 'NET_WEALTH', thresh)"
   ]
  },
  {
   "cell_type": "code",
   "execution_count": null,
   "id": "35c834ec-bf0b-452e-bdd3-412b2474a9bf",
   "metadata": {},
   "outputs": [],
   "source": [
    "len(college[college['NET_WEALTH'] >thresh]), len(college)"
   ]
  },
  {
   "cell_type": "code",
   "execution_count": null,
   "id": "ede6e5cc-a6ec-4132-adcc-ba360bb4735e",
   "metadata": {},
   "outputs": [],
   "source": [
    "len(gradschool[gradschool['NET_WEALTH'] >thresh]),len(gradschool)"
   ]
  },
  {
   "cell_type": "code",
   "execution_count": null,
   "id": "0a3f276d-8b14-4d0d-b902-69702d385e69",
   "metadata": {},
   "outputs": [],
   "source": [
    "import numpy as np\n",
    "pooled=np.array(df2[df2['HIGHEST_GRADE_EVER']>12]['NET_WEALTH'])"
   ]
  },
  {
   "cell_type": "code",
   "execution_count": null,
   "id": "7f9cee62-c592-400e-8f46-b3bd751fb2b7",
   "metadata": {},
   "outputs": [],
   "source": [
    "import numpy.random as npr"
   ]
  },
  {
   "cell_type": "code",
   "execution_count": null,
   "id": "207e81a3-b76d-4b81-9670-cb5a194e3401",
   "metadata": {},
   "outputs": [],
   "source": [
    "thresh = 2_000_000\n",
    "diff = find_proportion(gradschool, 'NET_WEALTH', thresh) -find_proportion(college, 'NET_WEALTH', thresh)\n",
    "num_sims = 100_000\n",
    "count=0\n",
    "for sim in range(num_sims):\n",
    "  sample_diff = np.count_nonzero(npr.choice(pooled, len(gradschool))>thresh)/len(gradschool) - \\\n",
    "    np.count_nonzero(npr.choice(pooled, len(college))>thresh)/len(college) \n",
    "  if sample_diff >= diff:\n",
    "    count+=1\n",
    "print(count/num_sims)"
   ]
  },
  {
   "cell_type": "code",
   "execution_count": null,
   "id": "2615d9d9-aac8-4372-a70c-6599c2f9f259",
   "metadata": {},
   "outputs": [],
   "source": [
    "df2[df2['NET_WEALTH']>2_000_000]"
   ]
  }
 ],
 "metadata": {
  "kernelspec": {
   "display_name": "Python 3 (ipykernel)",
   "language": "python",
   "name": "python3"
  },
  "language_info": {
   "codemirror_mode": {
    "name": "ipython",
    "version": 3
   },
   "file_extension": ".py",
   "mimetype": "text/x-python",
   "name": "python",
   "nbconvert_exporter": "python",
   "pygments_lexer": "ipython3",
   "version": "3.9.12"
  }
 },
 "nbformat": 4,
 "nbformat_minor": 5
}
