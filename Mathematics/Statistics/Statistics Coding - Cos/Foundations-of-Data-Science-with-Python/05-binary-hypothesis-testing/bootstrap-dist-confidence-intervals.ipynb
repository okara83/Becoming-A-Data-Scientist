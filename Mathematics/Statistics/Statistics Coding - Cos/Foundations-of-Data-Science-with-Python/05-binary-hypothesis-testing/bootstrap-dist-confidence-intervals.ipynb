{
 "cells": [
  {
   "cell_type": "markdown",
   "id": "f819de5d-a1ee-4ca0-9e35-bdf964581258",
   "metadata": {},
   "source": [
    "# Bootstrap Distribution and Confidence Intervals"
   ]
  },
  {
   "cell_type": "markdown",
   "id": "3ce39e58-4aae-41e1-920d-c9f866d39497",
   "metadata": {},
   "source": [
    "Alternatives to reporting $p$-values include providing a characterization of the full  distribution of the test statistic under the null hypothesis and reporting a confidence interval, which provides a range that characterizes the most likely values of the test statistic. We start with the distribution of the test statistic under the null hypothesis.\n",
    "\n",
    "## Bootstrap Distribution\n",
    "\n",
    "If we perform bootstrap sampling and create sample values of the test statistic, then the set of those values can be used to characterize the distribution of the test statistic.\n",
    "\n",
    "````{card}\n",
    "DEFINITION\n",
    "^^^\n",
    "```{glossary}\n",
    "bootstrap distribution\n",
    "    For some statistic of sample data, the *bootstrap distribution* is a characterization of the possible values of that statistic and the mapping of probability to those values that arises from creating values of that statistic via bootstrap sampling. Whereas the sampling distribution is based on samples from the original random distribution, the bootstrap distribution is based on resampling from a fixed set of data.\n",
    "```\n",
    "````\n",
    "(Note that the term *distribution* is defined more precisely when we define random variables in {doc}`Chapter 8<../08-random-variables/intro>`.)\n",
    "In this chapter, we will study the bootstrap distribution using histograms.  \n",
    "\n",
    "We will revisit our test on median wealth using the NLSY79 data set to illustrate these ideas. After loading the necessary libraries and data, we will modify our previous simulation to save every sample value of the test statistic. An efficient way to do this is to create an array of zeros (to preallocate all the needed storage space) and then fill in the appropriate value of the array at each iteration of the simulation:\n",
    "\n",
    "\n"
   ]
  },
  {
   "cell_type": "code",
   "execution_count": 1,
   "id": "5a47e0b7-f0ec-497b-b8f9-f00562b56043",
   "metadata": {
    "tags": [
     "hide-cell"
    ]
   },
   "outputs": [],
   "source": [
    "import pandas as pd\n",
    "import matplotlib.pyplot as plt\n",
    "import numpy as np\n",
    "import numpy.random as npr\n",
    "\n"
   ]
  },
  {
   "cell_type": "code",
   "execution_count": 4,
   "id": "d16aae7b-9fb0-41e4-b3c1-ca5f707b473d",
   "metadata": {
    "tags": [
     "hide-cell"
    ]
   },
   "outputs": [],
   "source": [
    "import pandas as pd\n",
    "repo = 'https://raw.githubusercontent.com/jmshea/Foundations-of-Data-Science-with-Python/'\n",
    "df = pd.read_csv(repo + 'main/05-binary-hypothesis-testing/nls/nls.csv')\n",
    "remap = {'R0000100':'CASE_ID',\n",
    "         'T5597600': 'GENDER',\n",
    "         'T5684500': 'NET_WEALTH',\n",
    "         'T9900000': 'HIGHEST_GRADE_EVER'\n",
    "        }\n",
    "df.rename(columns=remap, inplace=True)\n",
    "df2 = df[(df['HIGHEST_GRADE_EVER']>0 ) & (df['NET_WEALTH']>0) ].copy()\n",
    "\n",
    "# Filter on highest grade ever completed and then save the NET_WEALTH column into a new variable \n",
    "# (it will be a Pandas Series, which acts much like a DataFrame)\n",
    "undergrad = df2.query('HIGHEST_GRADE_EVER >= 16 & HIGHEST_GRADE_EVER <=17')['NET_WEALTH']                \n",
    "grad = df2.query('HIGHEST_GRADE_EVER >= 18')['NET_WEALTH']\n",
    "\n",
    "pooled = df2.query('HIGHEST_GRADE_EVER >= 16')['NET_WEALTH']                \n",
    "\n"
   ]
  },
  {
   "cell_type": "code",
   "execution_count": 5,
   "id": "d585ba34-b57a-4a9c-98a3-514243c707b0",
   "metadata": {},
   "outputs": [],
   "source": [
    "num_sims = 10_000\n",
    "test_statistics = np.zeros(num_sims)\n",
    "\n",
    "# Define these to avoid having to keep calling a function to get them in every iteration\n",
    "grad_len = len(grad)\n",
    "undergrad_len = len(undergrad)\n",
    "\n",
    "for sim in range(num_sims):\n",
    "  undergrad_sample = npr.choice(pooled, undergrad_len)\n",
    "  grad_sample = npr.choice(pooled, grad_len)\n",
    "\n",
    "  # Calculate the sample value of the test statistic\n",
    "  sample_diff = np.median(grad_sample) - np.median(undergrad_sample)\n",
    "  \n",
    "  # Now we store the value of the test statistic instead of doing a one-sided test\n",
    "  test_statistics[sim] = sample_diff"
   ]
  },
  {
   "cell_type": "markdown",
   "id": "f53967b5-88ff-49ae-ac27-1bc62852b93c",
   "metadata": {},
   "source": [
    "Given the array of test statistics, let's start by generating a histogram with 40 bins:"
   ]
  },
  {
   "cell_type": "code",
   "execution_count": 6,
   "id": "3ba99ca0-d510-4608-b600-4d0ca55e9a1f",
   "metadata": {},
   "outputs": [
    {
     "data": {
      "image/png": "[encoded data removed]",
      "text/plain": [
       "<Figure size 432x288 with 1 Axes>"
      ]
     },
     "metadata": {
      "needs_background": "light"
     },
     "output_type": "display_data"
    }
   ],
   "source": [
    "plt.hist(test_statistics, bins=40);"
   ]
  },
  {
   "cell_type": "markdown",
   "id": "481b5fbb-7ec8-49b4-849d-0fe5e63c3269",
   "metadata": {},
   "source": [
    "Because so many of the values are large, let's plot in thousands of dollars, which we will abbreviate $K:"
   ]
  },
  {
   "cell_type": "code",
   "execution_count": 7,
   "id": "6ffbacaf-b331-41de-8d05-7b8a571efd65",
   "metadata": {},
   "outputs": [
    {
     "data": {
      "image/png": "[encoded data removed]",
      "text/plain": [
       "<Figure size 432x288 with 1 Axes>"
      ]
     },
     "metadata": {
      "needs_background": "light"
     },
     "output_type": "display_data"
    }
   ],
   "source": [
    "plt.hist(test_statistics/1000, bins=40);\n",
    "plt.xlabel('Test statistic value ($K)');\n",
    "plt.ylabel('Count');"
   ]
  },
  {
   "cell_type": "markdown",
   "id": "dc3a051b-2b4a-4cb1-9845-9b1dfb859cbd",
   "metadata": {},
   "source": [
    "This is the shape of the bootstrap distribution. We can immediately make a few observations:\n",
    "* The distribution is (approximately) symmetric around zero. This should be expected, because under the null hypothesis, the two data from each group is coming from the same distribution. Thus, any differences are equally likely to be positive or negative.\n",
    "* Almost all of the values are in the interval $[-150, 150]$, with the majority of the values in $[-100, 100]$.\n",
    "\n",
    "Let's add a line to the histogram to denote the value of the test statistic that we observed in the data. We can draw a vertical line using the matplotlib function `plt.axvline()`:"
   ]
  },
  {
   "cell_type": "code",
   "execution_count": 8,
   "id": "fc7289d9-e453-4853-b865-6c397589e357",
   "metadata": {},
   "outputs": [
    {
     "data": {
      "image/png": "[encoded data removed]",
      "text/plain": [
       "<Figure size 432x288 with 1 Axes>"
      ]
     },
     "metadata": {
      "needs_background": "light"
     },
     "output_type": "display_data"
    }
   ],
   "source": [
    "plt.hist(test_statistics/1000, bins=40);\n",
    "plt.xlabel('Test statistic value ($K)');\n",
    "plt.ylabel('Count');\n",
    "# Draw a vertical line at the observed value of the test statistic\n",
    "plt.axvline(57.4, color='C1');"
   ]
  },
  {
   "cell_type": "markdown",
   "id": "afac16c3-6ea7-48ba-a351-dd20bb97e230",
   "metadata": {},
   "source": [
    "Then the $p$-value for the one-sided test is the proportion of values in the sampling distribution that are to the right of the orange line. It is hard to infer the value of $p$ from a traditional histogram. However, we can pass a couple of keyword parameters to `plt.hist()` that will make it easier to find the $p$-value:\n",
    "* `cumulative = True` will make the value accumulate from left to right, and\n",
    "* `density = True` will normalize the histogram. With the `cumulative = True` option, the results is that the $y$-axis value corresponding to any point on the $x$-axis will be the proportion of values that are less than that $x$-axis value."
   ]
  },
  {
   "cell_type": "code",
   "execution_count": 9,
   "id": "289d3777-d284-4bf4-9fb1-059fd98d7675",
   "metadata": {},
   "outputs": [
    {
     "data": {
      "image/png": "[encoded data removed]",
      "text/plain": [
       "<Figure size 432x288 with 1 Axes>"
      ]
     },
     "metadata": {
      "needs_background": "light"
     },
     "output_type": "display_data"
    }
   ],
   "source": [
    "plt.hist(test_statistics/1000, bins=40, cumulative = True, density = True);\n",
    "plt.xlabel('Test statistic value ($K)');\n",
    "plt.ylabel('Count');\n",
    "# Draw a vertical line at the observed value of the test statistic\n",
    "plt.axvline(57.4, color='C1');\n",
    "plt.grid();"
   ]
  },
  {
   "cell_type": "markdown",
   "id": "cd552548-2e99-4ab1-9fa3-1d899e24206e",
   "metadata": {},
   "source": [
    "If we zoom in to the upper right quadrant, we will see the following:"
   ]
  },
  {
   "cell_type": "code",
   "execution_count": 10,
   "id": "12710ad2-c6ea-47df-90f0-c1c6cae17d50",
   "metadata": {},
   "outputs": [
    {
     "data": {
      "text/plain": [
       "(0.5, 1.0)"
      ]
     },
     "execution_count": 10,
     "metadata": {},
     "output_type": "execute_result"
    },
    {
     "data": {
      "image/png": "[encoded data removed]",
      "text/plain": [
       "<Figure size 432x288 with 1 Axes>"
      ]
     },
     "metadata": {
      "needs_background": "light"
     },
     "output_type": "display_data"
    }
   ],
   "source": [
    "plt.hist(test_statistics/1000, bins=40, cumulative = True, density = True);\n",
    "plt.xlabel('Test statistic value ($K)');\n",
    "plt.ylabel('Count');\n",
    "# Draw a vertical line at the observed value of the test statistic\n",
    "plt.axvline(57.4, color='C1');\n",
    "plt.grid();\n",
    "plt.xlim(0,200);\n",
    "plt.ylim(0.5, 1)"
   ]
  },
  {
   "cell_type": "markdown",
   "id": "2a95e509-c33b-4fc9-bb5a-b9d3b020b385",
   "metadata": {},
   "source": [
    "The proportion less than 57,400 is approximately 0.92, which means that the probability of the test statistic being greater than 57,400 under the null hypothesis is approximately 0.08. "
   ]
  },
  {
   "cell_type": "markdown",
   "id": "c46a339f-6a8e-40c5-8c37-95dfcd5cf99f",
   "metadata": {},
   "source": [
    "We will revisit the bootstrap distribution again in {doc}`Chapter 9<../intro>` when we have the tools we need to better understand random distributions and their characterization."
   ]
  },
  {
   "cell_type": "markdown",
   "id": "2552a5c9-6b5c-4dfc-9157-2adf1b6e08a3",
   "metadata": {},
   "source": [
    "## Confidence Intervals \n",
    "\n",
    "Confidence intervals provide a method of summarizing information about the distribution of the test statistic under the null hypothesis in a way that is different than $p$-values. Confidence intervals are often suggested as a better alternative over $p$-values. However, we will see that they are actually very similar to $p$-values and, like $p$-values, are often subject to misinterpretation. In this section, I define confidence intervals, show different ways to calculate confidence intervals, and discuss their interpretation.  We begin with a definition:"
   ]
  },
  {
   "cell_type": "markdown",
   "id": "ca6733e2-6ba2-4028-9c31-405011286a66",
   "metadata": {},
   "source": [
    "````{card}\n",
    "DEFINITION\n",
    "^^^\n",
    "```{glossary}\n",
    "confidence interval (CI)\n",
    "    Given samples from a random distribution and a confidence level c%, the c% CI for some parameter is an interval that will contain the true value of the parameter c% of the time if the sampling process were repeated many times.\n",
    "```\n",
    "````\n",
    "\n",
    "A typical confidence level is 95%, and we will use that value in this section.\n",
    "\n",
    "For the purposes of this chapter, the observed value of the test statistic is the parameter of interest. We construct a confidence interval under the null hypothesis, and we can assign statistical significance to the result if it does **not** belong to the confidence interval for the null hypothesis. If the data came from the null hypothesis, then the observed value will not lie within the confidence interval  95% of the time data like this is drawn from the underlying distribution.\n",
    "\n",
    "A common *misinterpretation* is that given a particular c% confidence interval is that it has a c% chance of containing the true parameter value. This is incorrect because c% refers to the proportion of *different* confidence intervals that will contain the true parameter value.  Thus, the c% confidence level is a measure of how reliable the confidence interval estimation process is, not how reliable a particular confidence interval is.\n",
    "\n",
    "\n",
    "There are different ways to generate confidence intervals depending on the application. In the case of null hypothesis testing, the distribution of the test statistic is centered around zero. This knowledge allows us to create a c% confidence interval by finding the interval that contains c% of the bootstrapped test statistic values. (This method is sometimes called the *percentile method*, and may not be safe to apply directly in other applications.)\n",
    "\n",
    "It is easiest to understand creating confidence intervals using the percentile method from the normalized cumulative histogram. For a 95% confidence interval, we wish to find the interval that excludes 2.5% of the data in the left tail and 2.5% of the data in the right tail. The left threshold is where the normalized cumulative histogram takes on the value 0.025, and the right threshold is  where that histogram takes on the value $1-0.025 =0.975$. These thresholds are shown as lines in the figure below:"
   ]
  },
  {
   "cell_type": "code",
   "execution_count": 11,
   "id": "d53f97f8-4cec-4313-92cf-f2bacbfe3cb2",
   "metadata": {},
   "outputs": [
    {
     "data": {
      "image/png": "[encoded data removed]",
      "text/plain": [
       "<Figure size 432x288 with 1 Axes>"
      ]
     },
     "metadata": {
      "needs_background": "light"
     },
     "output_type": "display_data"
    }
   ],
   "source": [
    "plt.hist(test_statistics/1000, bins=40, cumulative = True, density = True);\n",
    "plt.xlabel('Test statistic value ($K)');\n",
    "plt.ylabel('Count');\n",
    "import matplotlib.pyplot as plt\n",
    "plt.axhline(y=0.025, color='C1', linestyle='-')\n",
    "plt.axhline(y=0.975, color='C1', linestyle='-');"
   ]
  },
  {
   "cell_type": "markdown",
   "id": "52425357-cda9-4d47-963b-dddcb0044e98",
   "metadata": {},
   "source": [
    "By looking at where the horizontal lines intersect the surface of the histogram, we can estimate that the 95% confidence interval is approximately $[-75, 70]$. We can zoom in on each of these regions to get a better estimate:"
   ]
  },
  {
   "cell_type": "code",
   "execution_count": 12,
   "id": "8f11b34a-114d-40fb-b83a-699b11dde90d",
   "metadata": {},
   "outputs": [
    {
     "data": {
      "image/png": "[encoded data removed]",
      "text/plain": [
       "<Figure size 432x288 with 2 Axes>"
      ]
     },
     "metadata": {
      "needs_background": "light"
     },
     "output_type": "display_data"
    }
   ],
   "source": [
    "xlims = [(-100, -50), (50, 100)]\n",
    "ylims = [(0, 0.1), (0.9, 1)]\n",
    "\n",
    "fig, axes = plt.subplots(1,2)\n",
    "for i, axis in enumerate(axes):\n",
    "  axis.hist(test_statistics/1000, bins=40, cumulative = True, density = True);\n",
    "  axis.set_xlabel('Test statistic value ($K)');\n",
    "  axis.set_ylabel('Count');\n",
    "  axis.axhline(y=0.025, color='C1', linestyle='-')\n",
    "  axis.axhline(y=0.975, color='C1', linestyle='-');\n",
    "  axis.set_xlim(xlims[i]);\n",
    "  axis.set_ylim(ylims[i]);\n",
    "  \n",
    "plt.tight_layout()"
   ]
  },
  {
   "cell_type": "markdown",
   "id": "ea3cd4f6-6a59-4090-a066-1c5f7b46f3fd",
   "metadata": {},
   "source": [
    "With the zoomed in values, we can see that the confidence interval is approximately $[-85, 82]$.  Since the confidence interval contains the observed value of the test statistic, ($57,400), the result is not statistically significant.\n",
    "\n",
    "Using the graphs is intuitive but also error-prone, and its resolution is limited by the number of bins used in the histogram. Fortunately, we can find these thresholds in a very simple way. We will just find the values that are 2.5% of the way through the sorted data and 97.5% of the way through the sorted data. These are called the 2.5% and 97.5% *percentiles*, and NumPy has a `np.percentile()` function that will return the values without us having to sort the data and choose the appropriate indices. We can use it to find these percentiles by passing it the array of values and a list of the desired percentiles:"
   ]
  },
  {
   "cell_type": "code",
   "execution_count": 13,
   "id": "a2a7bd3c-4d02-47a3-b47e-f1210a2cd948",
   "metadata": {},
   "outputs": [
    {
     "name": "stdout",
     "output_type": "stream",
     "text": [
      "The 95% CI is [-80.8  84.5] in $K\n"
     ]
    }
   ],
   "source": [
    "#CI = np.quantile(test_statistics, [2.5/100, 97.5/100])\n",
    "CI = np.percentile(test_statistics, [2.5, 97.5])\n",
    "\n",
    "\n",
    "print(f'The 95% CI is {np.round(CI/1000,1)} in $K')"
   ]
  },
  {
   "cell_type": "markdown",
   "id": "0f21866f-07a2-4d3a-b618-979edb35921c",
   "metadata": {},
   "source": [
    "Again, the 95% CI under the null hypothesis contains the observed value of the decision statistic, so the result is not statistically significant. "
   ]
  },
  {
   "cell_type": "markdown",
   "id": "f5e3b0cb-662c-4b72-8328-45de8c6c6d2a",
   "metadata": {},
   "source": [
    "```{note}\n",
    "\n",
    "The percentiles are closely related to quantiles. For data, the quantiles give the value that is a certain proportion of the way through the data. Thus, the 2.5 percentile value is the same as the 0.025 quantile.\n",
    "```"
   ]
  },
  {
   "cell_type": "markdown",
   "id": "590a5ba1-986e-4e13-8330-ff2440cc1f4d",
   "metadata": {},
   "source": [
    "```{warning}\n",
    "\n",
    "**Small Data Warning**\n",
    "\n",
    "Confidence intervals created using the bootstrap with small data may be too narrow. For instance, \n",
    "Hesterberg indicates that for highly skewed data that bootstrapping may be worse than more conventional approaches when the number of samples is less than or equal to 34.[^Hesterberg]\n",
    "\n",
    "[^Hesterberg]: Hesterberg, Tim C. “What Teachers Should Know About the Bootstrap: Resampling in the Undergraduate Statistics Curriculum.” The American statistician vol. 69,4 (2015): 371-386. "
   ]
  }
 ],
 "metadata": {
  "kernelspec": {
   "display_name": "Python 3 (ipykernel)",
   "language": "python",
   "name": "python3"
  },
  "language_info": {
   "codemirror_mode": {
    "name": "ipython",
    "version": 3
   },
   "file_extension": ".py",
   "mimetype": "text/x-python",
   "name": "python",
   "nbconvert_exporter": "python",
   "pygments_lexer": "ipython3",
   "version": "3.9.12"
  }
 },
 "nbformat": 4,
 "nbformat_minor": 5
}
