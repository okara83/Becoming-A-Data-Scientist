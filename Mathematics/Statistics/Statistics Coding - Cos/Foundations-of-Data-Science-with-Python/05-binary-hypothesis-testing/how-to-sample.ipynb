{
 "cells": [
  {
   "cell_type": "markdown",
   "id": "3439e04d-5539-41c7-9965-bd933ff60b1d",
   "metadata": {},
   "source": [
    "# How to Sample from the Pooled Data"
   ]
  },
  {
   "cell_type": "markdown",
   "id": "c1a0a95f-cf0d-4ad8-a8c4-dd10ff3cd8e2",
   "metadata": {},
   "source": [
    "In {doc}`Section 3.3<../03-first-data/hypothesis-testing>`, I introduced one way to sample from the pooled data, bootstrap sampling. In this section, we will delve a little bit deeper into ways to sample from the pooled data and the different implications of these different ways. In general, sampling can either be *with replacement* or *without replacement*. Sampling with replacement is called bootstrapping. Sampling without replacement is called *permutation testing*. It is easiest to see the differences among these approaches if we use a small data set with unique values. Consider whether a professor's course grades increased after the professor was promoted.  The table below shows the average course grade for the graduate course EEE 5544 Stochastic Methods for Engineering I at the University of Florida over six semesters with the same professor:\n",
    "\n",
    "\n",
    "|Year | Grade|\n",
    "|-|-|\n",
    "|2013|74.1|\n",
    "|2014|74.5|\n",
    "|2015|79.4|\n",
    "|2016|79.0|\n",
    "|2018|78.4|\n",
    "|2019|79.3|\n",
    "\n",
    "Note that the grades are all distinct. The professor was promoted between the 2014 and 2015 courses. Let's compare the average of the course grades pre- and post-promotion:"
   ]
  },
  {
   "cell_type": "code",
   "execution_count": 8,
   "id": "68587571-25ae-4a2e-b5be-825f988c6011",
   "metadata": {},
   "outputs": [],
   "source": [
    "import numpy as np\n",
    "grades1=np.array([74.1, 74.5])\n",
    "grades2=np.array([79.4,79.0, 78.4,79.3])"
   ]
  },
  {
   "cell_type": "code",
   "execution_count": 10,
   "id": "b2018fc9-2e3d-4ffe-bd56-651bffc1100f",
   "metadata": {},
   "outputs": [
    {
     "data": {
      "text/plain": [
       "(74.3, 79.025)"
      ]
     },
     "execution_count": 10,
     "metadata": {},
     "output_type": "execute_result"
    }
   ],
   "source": [
    "np.mean(grades1), np.mean(grades2)"
   ]
  },
  {
   "cell_type": "markdown",
   "id": "156dd44d-03be-4662-9407-d841ba55a41f",
   "metadata": {},
   "source": [
    "We observe that the average of the course grades increased from 74.3 before the professor's promotion to 79.025 after the professor's promotion.  We can define the test statistic as the difference between these averaged course grades:"
   ]
  },
  {
   "cell_type": "code",
   "execution_count": 78,
   "id": "23ffb889-9262-4521-a5c5-9f7581e6fe9e",
   "metadata": {},
   "outputs": [
    {
     "data": {
      "text/plain": [
       "4.725"
      ]
     },
     "execution_count": 78,
     "metadata": {},
     "output_type": "execute_result"
    }
   ],
   "source": [
    "np.round(np.mean(grades2) - np.mean(grades1),3)"
   ]
  },
  {
   "cell_type": "markdown",
   "id": "e7e46e4d-fc8c-48ca-bb31-f43631af0570",
   "metadata": {},
   "source": [
    "\n",
    "\n",
    "We will pool the data and then consider different resampling approaches below. The pooled data is"
   ]
  },
  {
   "cell_type": "code",
   "execution_count": 79,
   "id": "65191861-f13d-42b5-9c31-65c0e68d23ea",
   "metadata": {},
   "outputs": [],
   "source": [
    "pooled = np.hstack( (grades1, grades2) )"
   ]
  },
  {
   "cell_type": "markdown",
   "id": "efcd9cb9-03f3-45f4-b876-b613f9e95b49",
   "metadata": {},
   "source": [
    "## Bootstrap Sampling\n",
    "\n",
    "We begin by reconsidering bootstrap sampling, which is also simply called *bootstrapping*. **Bootstrapping is used when we want to better characterize a test statistic under a particular hypothesis.** Bootstrapping approximates drawing values from the sampling distribution of the test statistic by instead randomly sampling from the pooled data.  **Boostrapping uses sampling with replacement**, so a single value in the pooled data may appear multiple times in a test sample. As in {doc}`Section 3.3<../03-first-data/hypothesis-testing>`, we will use `npr.choice()` to sample from the pooled data; by default, `npr.choice()` samples *with replacement*. \n",
    "\n",
    "The code cell below contains a simulation that draws 20 bootstrap samples of the data. In each iteration, we construct a sample version **for each group**, and we print out the grades in each group, as well as a list of the repeated values across the two sample groups:\n"
   ]
  },
  {
   "cell_type": "code",
   "execution_count": 76,
   "id": "f7e2ca7a-3db5-48ae-b134-274b7acf4795",
   "metadata": {},
   "outputs": [
    {
     "name": "stdout",
     "output_type": "stream",
     "text": [
      " iter  pre-tenure             post-tenure           repeated values   \n",
      " ----   --------------   ----------------------   ----------------------\n",
      "  0    [74.5 74.5]       [79.3 79.3 79.  74.5]        [74.5 79.3]     \n",
      "  1    [74.5 79. ]       [79.  74.1 79.4 79.4]        [79.  79.4]     \n",
      "  2    [79.3 79. ]       [74.5 74.5 74.1 74.5]           [74.5]       \n",
      "  3    [74.1 79. ]       [79.3 78.4 78.4 74.5]           [78.4]       \n",
      "  4    [78.4 79.4]       [74.1 74.1 78.4 78.4]        [74.1 78.4]     \n",
      "  5    [79.  79.3]       [79.4 79.3 78.4 79.4]        [79.3 79.4]     \n",
      "  6    [79. 79.]         [78.4 78.4 79.  79. ]        [78.4 79. ]     \n",
      "  7    [74.1 74.1]       [74.1 79.4 79.4 74.5]        [74.1 79.4]     \n",
      "  8    [78.4 78.4]       [74.1 74.1 79.4 79. ]        [74.1 78.4]     \n",
      "  9    [79.3 74.1]       [74.5 79.4 79.  78.4]             []         \n",
      "  10   [74.1 79. ]       [74.5 79.3 74.5 78.4]           [74.5]       \n",
      "  11   [79.4 78.4]       [74.1 79.4 74.5 74.5]        [74.5 79.4]     \n",
      "  12   [79.4 79.3]       [74.1 79.  74.1 79. ]        [74.1 79. ]     \n",
      "  13   [74.5 78.4]       [74.1 78.4 74.1 74.5]      [74.1 74.5 78.4]  \n",
      "  14   [79.4 78.4]       [78.4 79.4 78.4 79.3]        [78.4 79.4]     \n",
      "  15   [78.4 79. ]       [74.5 79.4 74.5 79.4]        [74.5 79.4]     \n",
      "  16   [79.  79.4]       [78.4 79.4 79.4 79. ]        [79.  79.4]     \n",
      "  17   [78.4 74.1]       [79.4 79.  79.4 79.4]           [79.4]       \n",
      "  18   [79.3 74.1]       [74.5 79.  79.4 79.3]           [79.3]       \n",
      "  19   [74.5 74.5]       [74.1 78.4 78.4 74.1]      [74.1 74.5 78.4]  \n"
     ]
    }
   ],
   "source": [
    "\n",
    "import numpy.random as npr\n",
    "num_sims = 20\n",
    "\n",
    "\n",
    "# Don't worry about how to do all this fancy f-string formatting!\n",
    "print(f'{\"iter\":^6} {\"pre-tenure\":16} {\"post-tenure\":^24}  {\"repeated values\":^20}')\n",
    "print(f'{\"----\":^6} {\"-\"*14:^16} {\"-\"*22:^24}  {\"-\"*22:^20}')\n",
    "for sim in range(num_sims):\n",
    "  sample1 = npr.choice(pooled, len(grades1) )\n",
    "  sample2 = npr.choice(pooled, len(grades2) )\n",
    "\n",
    "  # Find the repeated values\n",
    "  vals, counts = np.unique(np.hstack( (sample1, sample2) ) , return_counts=True)\n",
    "\n",
    "  print(f'{sim:^6} {str(sample1):16} {str(sample2):^24}  {  str(vals[np.where(counts >1 )]):^20}')\n"
   ]
  },
  {
   "cell_type": "markdown",
   "id": "1a7807d0-b701-4065-9747-ebd5ba4a14b6",
   "metadata": {},
   "source": [
    "It is likely that every group has at least one repeated value. In fact, the probability of having no repeats in an iteration is about $1.5 \\times 10^{-2}$.  The probability of having at least one row with no repeats in the table is approximately 0.267, so if you run this repeatedly, you should see some rows with no repeats occasionally."
   ]
  },
  {
   "cell_type": "markdown",
   "id": "bbd6a63d-b052-4006-8ef7-5151f354d664",
   "metadata": {},
   "source": [
    "The purpose of bootstrapping is to approximate drawing from the sampling distribution of the test statistic. Our test statistic is the difference in averages of the two groups, so to create the bootstrap samples of the test statistic, we will calculate the averages for each test group and then calculate the difference:"
   ]
  },
  {
   "cell_type": "code",
   "execution_count": 85,
   "id": "3b432160-5bac-4ff5-b78c-083212913fa3",
   "metadata": {},
   "outputs": [
    {
     "name": "stdout",
     "output_type": "stream",
     "text": [
      " iter  pre-tenure avg       post-tenure avg         sample test stat  \n",
      " ----   --------------   ----------------------   ----------------------\n",
      "  0    79.0                      77.925                -1.075       \n",
      "  1    74.3                      78.875                4.575        \n",
      "  2    79.0                       77.8                  -1.2        \n",
      "  3    79.15                      77.8                 -1.35        \n",
      "  4    78.9                       77.7                  -1.2        \n",
      "  5    79.15                      79.2                  0.05        \n",
      "  6    76.9                      77.625                0.725        \n",
      "  7    76.7                      77.775                1.075        \n",
      "  8    76.75                     78.05                  1.3         \n",
      "  9    74.3                       77.8                  3.5         \n",
      "  10   79.4                       78.0                  -1.4        \n",
      "  11   76.55                     78.05                  1.5         \n",
      "  12   74.3                      78.95                  4.65        \n",
      "  13   76.9                      77.725                0.825        \n",
      "  14   76.55                      76.5                 -0.05        \n",
      "  15   76.7                       75.6                  -1.1        \n",
      "  16   79.4                       76.7                  -2.7        \n",
      "  17   79.2                      79.35                  0.15        \n",
      "  18   79.2                      79.025                -0.175       \n",
      "  19   78.85                     76.475                -2.375       \n"
     ]
    }
   ],
   "source": [
    "num_sims = 20\n",
    "\n",
    "\n",
    "# Don't worry about how to do all this fancy f-string formatting!\n",
    "print(f'{\"iter\":^6} {\"pre-tenure avg\":16} {\"post-tenure avg\":^24}  {\"sample test stat\":^20}')\n",
    "print(f'{\"----\":^6} {\"-\"*14:^16} {\"-\"*22:^24}  {\"-\"*22:^20}')\n",
    "for sim in range(num_sims):\n",
    "  sample1 = npr.choice(pooled, len(grades1) )\n",
    "  sample2 = npr.choice(pooled, len(grades2) )\n",
    "\n",
    "  print(f'{sim:^6} {str(np.round(sample1.mean(),3)):16} {str(np.round(sample2.mean(), 3)):^24}'  \\\n",
    "        + f'{ str(np.round(sample2.mean() - sample1.mean(),3)) :^20}')\n",
    "\n"
   ]
  },
  {
   "cell_type": "markdown",
   "id": "978fbb83-451a-4be5-b4ef-6210ef56da86",
   "metadata": {},
   "source": [
    "Note that we get both positive and negative values for the sample test statistic.  This should be expected under the null hypothesis, as the data from the two groups is coming from the same distribution. We can further explore this by looking at the distribution of the values of the sample test statistic using a histogram. The code below generates a histogram from 100,000 sample test statistics created using bootstrapping:"
   ]
  },
  {
   "cell_type": "code",
   "execution_count": 101,
   "id": "38bc5c36-2264-4cb2-b4d8-fd1048b548dd",
   "metadata": {},
   "outputs": [
    {
     "data": {
      "image/png": "[encoded data removed]",
      "text/plain": [
       "<Figure size 432x288 with 1 Axes>"
      ]
     },
     "metadata": {
      "needs_background": "light"
     },
     "output_type": "display_data"
    }
   ],
   "source": [
    "import matplotlib.pyplot as plt\n",
    "\n",
    "num_sims = 100_000\n",
    "diffs = np.zeros(num_sims)\n",
    "\n",
    "for sim in range(num_sims):\n",
    "  sample1 = npr.choice(pooled, len(grades1) )\n",
    "  sample2 = npr.choice(pooled, len(grades2) )\n",
    "  diffs[sim] = sample2.mean() - sample1.mean()\n",
    "\n",
    "\n",
    "plt.hist(diffs, bins = 100);"
   ]
  },
  {
   "cell_type": "markdown",
   "id": "2227733d-4c4d-4cd8-af6b-23433807b2b8",
   "metadata": {},
   "source": [
    "Although the histogram will not be completely symmetric, it should be symmetric enough to see that the actual distribution of the bootstrap test statistic is symmetric around 0. A NHST can be conducted using this distribution by determining the probability of being in a tail determined by the observed value of the test statistic. For instance, if we wish to conduct a one-sided test, we can estimate the probability of seeing a value as high as the observed difference in averages by determining the relative frequency of such events, as shown below:"
   ]
  },
  {
   "cell_type": "code",
   "execution_count": 103,
   "id": "4da4067d-d174-45ec-84d3-2b6e0473f363",
   "metadata": {},
   "outputs": [
    {
     "name": "stdout",
     "output_type": "stream",
     "text": [
      "Relative frequency of events with difference >= 4.725 is 0.01196\n"
     ]
    }
   ],
   "source": [
    "num_sims = 100_000\n",
    "count = 0\n",
    "\n",
    "observed_diff = np.round(np.mean(grades2) - np.mean(grades1),3)\n",
    "\n",
    "for sim in range(num_sims):\n",
    "  # Generate test statistic\n",
    "  sample1 = npr.choice(pooled, len(grades1) )\n",
    "  sample2 = npr.choice(pooled, len(grades2) )\n",
    "  sample_diff = sample2.mean() - sample1.mean()\n",
    "  \n",
    "  # Count if at least as large as observed test difference\n",
    "  if sample_diff >= observed_diff:\n",
    "    count += 1\n",
    "    \n",
    "print(f'Relative frequency of events with difference >= {observed_diff:.3f} is {count/num_sims}')\n",
    "\n",
    "  "
   ]
  },
  {
   "cell_type": "markdown",
   "id": "f3d50cf0-578a-4f6b-98e9-ee858eec79f1",
   "metadata": {},
   "source": [
    "If we are using $\\alpha=0.05$ as a threshold for statistical significance, then the result is  statistically significant. Even with this small data set, the difference is big enough that we **reject the null hypothesis at the $p < 0.05$ level**."
   ]
  },
  {
   "cell_type": "markdown",
   "id": "51344aab-c5ce-4330-b880-f05a04111172",
   "metadata": {},
   "source": [
    "## Permutation Tests\n",
    "\n",
    "When we carried out the bootstrap test, we observed that almost every row had repeated values of the data.  This is attributable to resampling with replacement, and the probability of at least one repeated value increases as the size of the data increases.  There is also nothing preventing the sample groups from repeating in different iterations, although the probability of repeated sample groups decreases with the size of the data. \n",
    "\n",
    "If our goal is to conduct a statistical test that directly breaks any dependence on the assignment of the data to the two groups, then it makes more sense to consider simply shuffling, or *permuting*, the data among the groups, with no repetitions allowed.  When the data is small, we can simply try every permutation of the data across the two groups. This is called an *exact permutation test*:\n",
    "\n",
    "````{card}\n",
    "DEFINITION\n",
    "^^^\n",
    "```{glossary}\n",
    "exact permutation test\n",
    "    The data is permuted among the groups in every possible order. (No data is repeated.)\n",
    "```\n",
    "````\n"
   ]
  },
  {
   "cell_type": "markdown",
   "id": "c05d895c-7baa-4d55-a866-039652cd3d39",
   "metadata": {},
   "source": [
    "For instance, with six data points, the number of permutations is $6! = 720$. If we want to carry out a NHST, we can compute the test difference for each permutation and determine the proportion of permutations that result in sample test statistics greater than our observed test difference. \n",
    "\n",
    "We will use the `itertools` library to find every permutation of the data across the two groups. Let's first see how to get every permutation of a list of sequential integers:"
   ]
  },
  {
   "cell_type": "code",
   "execution_count": 109,
   "id": "91cd4555-a1ef-49fd-972f-7a197e180829",
   "metadata": {},
   "outputs": [
    {
     "name": "stdout",
     "output_type": "stream",
     "text": [
      "(0, 1, 2)\n",
      "(0, 2, 1)\n",
      "(1, 0, 2)\n",
      "(1, 2, 0)\n",
      "(2, 0, 1)\n",
      "(2, 1, 0)\n"
     ]
    }
   ],
   "source": [
    "import itertools\n",
    "for perm in itertools.permutations(range(3)):\n",
    "  print(perm)"
   ]
  },
  {
   "cell_type": "markdown",
   "id": "da2d283d-692b-49b3-a75b-6a916aceb57a",
   "metadata": {},
   "source": [
    "For three values, we expect $3!=6$ permutations, which is what we observe.\n"
   ]
  },
  {
   "cell_type": "markdown",
   "id": "62f8e1b8-f435-4abc-a415-d28112158d9c",
   "metadata": {},
   "source": [
    "```{note}\n",
    "`itertools.permutations()` returns a special object that can be iterated over but that you can't directly get individual values from.\n",
    "Thus, we will always use `itertools.permutations()` in a `for ... in ` statement."
   ]
  },
  {
   "cell_type": "markdown",
   "id": "068f65b3-0286-4524-a4bc-970f1bdbeda1",
   "metadata": {},
   "source": [
    "\n",
    "To find permutations into two groups, we first permute the entire pooled data and then partition according to the size of the two groups. For instance, here are the first 10 permutations of the pooled data:"
   ]
  },
  {
   "cell_type": "code",
   "execution_count": 112,
   "id": "8fba4e63-d697-44c1-bb50-95ea5cd969cb",
   "metadata": {},
   "outputs": [
    {
     "name": "stdout",
     "output_type": "stream",
     "text": [
      "(74.1, 74.5, 79.4, 79.0, 78.4, 79.3)\n",
      "(74.1, 74.5, 79.4, 79.0, 79.3, 78.4)\n",
      "(74.1, 74.5, 79.4, 78.4, 79.0, 79.3)\n",
      "(74.1, 74.5, 79.4, 78.4, 79.3, 79.0)\n",
      "(74.1, 74.5, 79.4, 79.3, 79.0, 78.4)\n",
      "(74.1, 74.5, 79.4, 79.3, 78.4, 79.0)\n",
      "(74.1, 74.5, 79.0, 79.4, 78.4, 79.3)\n",
      "(74.1, 74.5, 79.0, 79.4, 79.3, 78.4)\n",
      "(74.1, 74.5, 79.0, 78.4, 79.4, 79.3)\n",
      "(74.1, 74.5, 79.0, 78.4, 79.3, 79.4)\n",
      "(74.1, 74.5, 79.0, 79.3, 79.4, 78.4)\n"
     ]
    }
   ],
   "source": [
    "\n",
    "for i,perm in enumerate(itertools.permutations(pooled)):\n",
    "  print(perm)\n",
    "  if i >=10:\n",
    "    break\n",
    "  "
   ]
  },
  {
   "cell_type": "markdown",
   "id": "eb385bf3-f2d7-438e-b745-3aa36b0c3c6e",
   "metadata": {},
   "source": [
    "To partition the data, we can simply split each returned tuple using indexing:"
   ]
  },
  {
   "cell_type": "code",
   "execution_count": 116,
   "id": "04234964-7062-480c-aa0a-3cafcd06b8f0",
   "metadata": {},
   "outputs": [
    {
     "name": "stdout",
     "output_type": "stream",
     "text": [
      "(74.1, 74.5) (79.4, 79.0, 78.4, 79.3)\n",
      "(74.1, 74.5) (79.4, 79.0, 79.3, 78.4)\n",
      "(74.1, 74.5) (79.4, 78.4, 79.0, 79.3)\n",
      "(74.1, 74.5) (79.4, 78.4, 79.3, 79.0)\n",
      "(74.1, 74.5) (79.4, 79.3, 79.0, 78.4)\n",
      "(74.1, 74.5) (79.4, 79.3, 78.4, 79.0)\n",
      "(74.1, 74.5) (79.0, 79.4, 78.4, 79.3)\n",
      "(74.1, 74.5) (79.0, 79.4, 79.3, 78.4)\n",
      "(74.1, 74.5) (79.0, 78.4, 79.4, 79.3)\n",
      "(74.1, 74.5) (79.0, 78.4, 79.3, 79.4)\n",
      "(74.1, 74.5) (79.0, 79.3, 79.4, 78.4)\n"
     ]
    }
   ],
   "source": [
    "\n",
    "for i,perm in enumerate(itertools.permutations(pooled)):\n",
    "  print(perm[:len(grades1)], perm[len(grades1):])\n",
    "  if i >=10:\n",
    "    break\n",
    "  "
   ]
  },
  {
   "cell_type": "markdown",
   "id": "59151e75-defd-44db-ab21-f86a0a383c49",
   "metadata": {},
   "source": [
    "Finally, we can carry out a NHST by determining the proportion of permutations that result in a sample test statistic as large as the observed test difference:"
   ]
  },
  {
   "cell_type": "code",
   "execution_count": 127,
   "id": "242c121c-014a-48db-ae9e-2f8195f244d8",
   "metadata": {},
   "outputs": [
    {
     "name": "stdout",
     "output_type": "stream",
     "text": [
      "After 720 permutations:\n",
      "Proportion of events with difference >= 4.725 is 0.06666666666666667\n"
     ]
    }
   ],
   "source": [
    "num_perms=0\n",
    "count = 0\n",
    "\n",
    "observed_diff = np.round(np.mean(grades2) - np.mean(grades1),3)\n",
    "\n",
    "for perm in itertools.permutations(pooled):\n",
    "  num_perms += 1\n",
    "  # Split the permuted data across the two sample groups\n",
    "  sample1 = np.array(perm[: len(grades1)] )\n",
    "  sample2 = np.array(perm[len(grades1) : ] )\n",
    "  # Compute the test statistic\n",
    "  sample_diff = sample2.mean() - sample1.mean()\n",
    "  \n",
    "  # Count if at least as large as observed test difference\n",
    "  if sample_diff >= observed_diff:\n",
    "    count += 1\n",
    "    \n",
    "print(f'After {num_perms} permutations:')\n",
    "print(f'Proportion of events with difference >= {observed_diff:.3f} is {count/num_perms}')\n",
    "\n",
    "  "
   ]
  },
  {
   "cell_type": "markdown",
   "id": "4f4a165f-7cfa-44b2-b212-bcae3418c879",
   "metadata": {},
   "source": [
    "The proportion of permutations with difference as large as that observed is 6.67%, so the null hypothesis cannot be rejected at the $\\alpha=0.05$ level. Note that the calculated $p$-value is larger than for the bootstrap test; this is typical of permutation tests. They are more conservative, in the sense that the null hypothesis is less likely to be rejected than if a bootstrap test were applied."
   ]
  },
  {
   "cell_type": "markdown",
   "id": "3b6e054a-e397-4ff0-8dac-deffc5ca519f",
   "metadata": {},
   "source": [
    "One problem with exact permutation tests is that the number of possible permutations grows exponentially with the length of the data. For 6 data points, there are only 720 permutations, but for 60 data points, there are approximately $8.3 \\times 10^{81}$ permutations, which is too large to enumerate. As an alternative, we can use a *Monte Carlo permutation test*, in which permutations are drawn at random from the set of all permutations. This is equivalent to sampling *without replacement*, which we can do in Python using `npr.choice()` with the keyword parameter `replace = False`.\n",
    "\n",
    "The simulation for a Monte Carlo permutation test is a hybrid between the simulation for bootstrapping and that for the exact permutation test. We draw the data using `npr.choice()`, but we need to get a full permutation of the data and split it among the two sample groups. An example is show below:"
   ]
  },
  {
   "cell_type": "code",
   "execution_count": 128,
   "id": "14c5710f-5a1a-47d1-be52-1ecc24d87d83",
   "metadata": {},
   "outputs": [
    {
     "name": "stdout",
     "output_type": "stream",
     "text": [
      "Relative frequency of events with difference >= 4.725 is 0.06645\n"
     ]
    }
   ],
   "source": [
    "num_sims = 100_000\n",
    "count = 0\n",
    "\n",
    "observed_diff = np.round(np.mean(grades2) - np.mean(grades1),3)\n",
    "\n",
    "for sim in range(num_sims):\n",
    "  # Get a random permutation of the pooled data:\n",
    "  perm = npr.choice(pooled, len(pooled), replace = False) \n",
    "  # Split the permuted data across the two sample groups\n",
    "  sample1 = np.array(perm[: len(grades1)] )\n",
    "  sample2 = np.array(perm[len(grades1) : ] )\n",
    "  sample_diff = sample2.mean() - sample1.mean()\n",
    "  \n",
    "  # Count if at least as large as observed test difference\n",
    "  if sample_diff >= observed_diff:\n",
    "    count += 1\n",
    "    \n",
    "print(f'Relative frequency of events with difference >= {observed_diff:.3f} is {count/num_sims}')\n",
    "\n",
    "  "
   ]
  },
  {
   "cell_type": "markdown",
   "id": "0e5a77f6-ee54-4cb3-ac7e-962eccd6579d",
   "metadata": {},
   "source": [
    "The relative frequency of the Monte Carlo test is very similar to the exact test. In this case, we have a lot of repetitions of the same permutations because there are only 720 unique permutations, but we are drawing 100,000 permutations at random. The computed relative frequency is an estimate of the proportion of permutations that meet the specified criteria."
   ]
  },
  {
   "cell_type": "markdown",
   "id": "2349b822-8dd2-42b3-995e-bd99cef97b44",
   "metadata": {},
   "source": [
    "## Which Test to Use?\n",
    "\n",
    "Some factors you should consider when determining whether to use a bootstrap or permutation test:\n",
    "* The bootstrap test is generally the most popular test, although this varies with the particular research community. \n",
    "* The goal of the bootstrap test is to approximate drawing values from the sampling distribution of the test statistic. If the reason for resampling is focused on the sampling distribution of the test statistic, then a bootstrap test should be used. We will give an example in the next section.\n",
    "* If the goal of resampling is to break up any dependence on the data from the assignment to the underlying groups, then a permutation test makes the most sense. For instance, if each group represents a treatment, then the goal of resampling may be to break up the mapping of data to treatments; this would merit the use of a permutation test.\n",
    "* When the data is small, an exact permutation test can consider every possible mapping of data to groups. \n",
    "* Permutation tests are generally more conservative than bootstrap tests in the sense that they generally produce larger $p$-values and are thus less likely to reject the null hypothesis and indicate statistical significance.\n",
    "\n",
    "In the remainder of this book, we will primarily use bootstrap tests because of their simplicity and popularity. An exception is that we will use an exact permutation test for categorical data in {doc}`Chapter 12<../12-categorical-data/intro>`.  In the following section, we apply bootstrap tests on the questions we formulated about the impact of post-baccalaureate work on family wealth with the purpose of further investigating the meaning of $p$-values and how we can use full the bootstrap distribution of the test statistic to create confidence intervals."
   ]
  }
 ],
 "metadata": {
  "kernelspec": {
   "display_name": "Python 3 (ipykernel)",
   "language": "python",
   "name": "python3"
  },
  "language_info": {
   "codemirror_mode": {
    "name": "ipython",
    "version": 3
   },
   "file_extension": ".py",
   "mimetype": "text/x-python",
   "name": "python",
   "nbconvert_exporter": "python",
   "pygments_lexer": "ipython3",
   "version": "3.9.12"
  }
 },
 "nbformat": 4,
 "nbformat_minor": 5
}
