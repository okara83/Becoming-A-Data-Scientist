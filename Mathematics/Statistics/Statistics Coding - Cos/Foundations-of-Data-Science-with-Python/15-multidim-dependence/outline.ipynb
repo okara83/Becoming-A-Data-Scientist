{
 "cells": [
  {
   "cell_type": "markdown",
   "metadata": {},
   "source": [
    "# Working with Dependent Data in Multiple Dimensions (Outline)\n",
    "## Introduction\n",
    "## Jointly Distributed Random Variables (Two-dimensions)\n",
    "## Jointly Distributed Gaussian Random Variables\n",
    "## Linear Transformations Affects on Covariance and Correlation Matrices\n",
    "## Eigendecomposition of a Linear Transformation\n",
    "## Decorrelation of Random Variables and Applications\n",
    "## Properties of Eigenvectors and the KLT\n",
    "## Principal Components Analysis (PCA) \n",
    "## Non-statistical Matrix Decomposition and Approximation: Singular Value Decomposition (SVD)\n",
    "## Review\n",
    "## Summary\n",
    "\n"
   ]
  },
  {
   "cell_type": "code",
   "execution_count": null,
   "metadata": {},
   "outputs": [],
   "source": []
  }
 ],
 "metadata": {
  "kernelspec": {
   "display_name": "Python 3",
   "language": "python",
   "name": "python3"
  },
  "language_info": {
   "codemirror_mode": {
    "name": "ipython",
    "version": 3
   },
   "file_extension": ".py",
   "mimetype": "text/x-python",
   "name": "python",
   "nbconvert_exporter": "python",
   "pygments_lexer": "ipython3",
   "version": "3.7.4"
  }
 },
 "nbformat": 4,
 "nbformat_minor": 4
}
