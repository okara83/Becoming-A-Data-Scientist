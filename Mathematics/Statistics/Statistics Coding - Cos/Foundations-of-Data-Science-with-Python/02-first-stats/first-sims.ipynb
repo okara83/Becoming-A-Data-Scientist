{
 "cells": [
  {
   "cell_type": "markdown",
   "metadata": {},
   "source": [
    "```{index} simulation; computer\n",
    "```\n",
    "\n",
    "# First Computer Simulations\n",
    "\n",
    "A **computer simulation** is a computer program that models reality and allows us to conduct experiments that:\n",
    "* would require a lot of time to carry out in real life\n",
    "* would require a lot of resources to carry out in real life\n",
    "* would not be possible to repeat in real life (for instance, simulation of the next day's weather or stock market performance)"
   ]
  },
  {
   "cell_type": "markdown",
   "metadata": {},
   "source": [
    "We will simulate the fair coin experiment using Python. We can simulate a fair coin by random choosing a result from a list that represent heads and tails, where each element in the list is equally likely to be chosen. Let's use the string 'H' to denote heads and the string 'T' to denote tails:"
   ]
  },
  {
   "cell_type": "code",
   "execution_count": 1,
   "metadata": {},
   "outputs": [],
   "source": [
    "faces = [\"H\", \"T\"]"
   ]
  },
  {
   "cell_type": "markdown",
   "metadata": {},
   "source": [
    "To randomly choose one of the faces, we will utilize the *random* module, which is one of the standard modules included with Python. We will import it in the usual way:"
   ]
  },
  {
   "cell_type": "code",
   "execution_count": 2,
   "metadata": {},
   "outputs": [],
   "source": [
    "import random"
   ]
  },
  {
   "cell_type": "markdown",
   "metadata": {},
   "source": [
    "To choose one face at random, we can use the `choice` function. Note that if you are running this instruction, the result shown may be different than what is shown below because it is random **Add footnote about pseudorandom**:"
   ]
  },
  {
   "cell_type": "code",
   "execution_count": 3,
   "metadata": {},
   "outputs": [
    {
     "data": {
      "text/plain": [
       "'T'"
      ]
     },
     "execution_count": 3,
     "metadata": {},
     "output_type": "execute_result"
    }
   ],
   "source": [
    "random.choice(faces)"
   ]
  },
  {
   "cell_type": "markdown",
   "metadata": {},
   "source": [
    "Now let's simulate the scenario described in [](random-experiments:motivating-problem). We could repeatedly choose random faces using a loop, but the `random` module offers a more efficient way to choose all 20 faces at the same time, using the `choices` function:"
   ]
  },
  {
   "cell_type": "code",
   "execution_count": 4,
   "metadata": {},
   "outputs": [
    {
     "name": "stdout",
     "output_type": "stream",
     "text": [
      "['H', 'T', 'T', 'H', 'T', 'T', 'T', 'H', 'H', 'H', 'H', 'H', 'T', 'T', 'T', 'T', 'H', 'H', 'H', 'T']\n"
     ]
    }
   ],
   "source": [
    "coins = random.choices(faces, k=20)\n",
    "print(coins)"
   ]
  },
  {
   "cell_type": "markdown",
   "metadata": {},
   "source": [
    "To count the number of 'H' results in the list, we can use the `count` method of the list object:"
   ]
  },
  {
   "cell_type": "code",
   "execution_count": 5,
   "metadata": {},
   "outputs": [
    {
     "data": {
      "text/plain": [
       "10"
      ]
     },
     "execution_count": 5,
     "metadata": {},
     "output_type": "execute_result"
    }
   ],
   "source": [
    "coins.count(\"H\")"
   ]
  },
  {
   "cell_type": "markdown",
   "metadata": {},
   "source": [
    "Every time a new list of coin faces is generated, the result will be different. To estimate the probability, we will have to run this statement many times, but running this repeatedly is a pain. Fortunately, the computer can automatically run it for us. In the simulation below, I start introducing some *best practices*:\n",
    "* The number of times to simulate the experiment is defined at the very top of the simulation as `num_sim`\n",
    "* Any parameters of the experiment are defined near the top of the simulation. In this simulation, we only need to define the number of times to flip the coin, `flips`\n",
    "\n",
    "*In the code below, I use the `end` keyword parameter of the `print` function to cause each print statement to output a space at the end instead of a new line. This is only done to make the output more concise.*"
   ]
  },
  {
   "cell_type": "code",
   "execution_count": 6,
   "metadata": {},
   "outputs": [
    {
     "name": "stdout",
     "output_type": "stream",
     "text": [
      "10 9 7 6 11 6 12 10 8 9 8 7 10 10 6 14 8 8 11 13 "
     ]
    }
   ],
   "source": [
    "num_sims = 20\n",
    "flips = 20\n",
    "for sim in range(num_sims):  # The simulation loop\n",
    "    coins = random.choices(faces, k=flips)  # Simulate all coin flips for one experiment\n",
    "    print(coins.count(\"H\"), end=\" \")"
   ]
  }
 ],
 "metadata": {
  "kernelspec": {
   "display_name": "Python 3 (ipykernel)",
   "language": "python",
   "name": "python3"
  },
  "language_info": {
   "codemirror_mode": {
    "name": "ipython",
    "version": 3
   },
   "file_extension": ".py",
   "mimetype": "text/x-python",
   "name": "python",
   "nbconvert_exporter": "python",
   "pygments_lexer": "ipython3",
   "version": "3.7.4"
  }
 },
 "nbformat": 4,
 "nbformat_minor": 4
}
