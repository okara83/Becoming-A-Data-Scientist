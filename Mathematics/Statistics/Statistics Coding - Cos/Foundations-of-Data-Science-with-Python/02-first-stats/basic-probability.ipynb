{
 "cells": [
  {
   "cell_type": "markdown",
   "metadata": {},
   "source": [
    "## Random Experiments\n",
    "\n",
    "We have seen that simulation is a simple and powerful tool to answer questions about random experiments. The coin flipping experiment involved a very simple phenomena for which the experiment could be accurately simulated inside the computer. In this book, we will show that similar techniques can be used with real data sets with unknown random behavior to answer many different kinds of statistical questions.\n",
    "\n",
    "Before we can do that, though, we need to take a step back to carefully define terminology and concepts that we will be using."
   ]
  },
  {
   "cell_type": "markdown",
   "metadata": {},
   "source": [
    "**Randomness** is surprisingly hard to define, and there are different philosophies (i.e., mental models) about what it means for something to be random! For now, we can use the following definition for a random experiment:"
   ]
  },
  {
   "cell_type": "markdown",
   "metadata": {},
   "source": [
    "````{card}\n",
    "DEFINITION\n",
    "^^^\n",
    "random experiments \n",
    ": an experiment in which the result is not completely predictable to an observer based on the observer's knowledge of the system and its inputs.\n",
    "````\n"
   ]
  },
  {
   "cell_type": "markdown",
   "metadata": {},
   "source": [
    "\n",
    "**Examples of random experiments:**\n",
    "\n",
    "* **E1** A die is rolled, and the number on the top face is noted\n",
    "* **E2** A standard coin is flipped, and the top face (heads or tails) is noted\n",
    "* **E3** The temperature in your town is to be recorded at 10 AM tomorrow\n",
    "* **E4** The value of the Dow Jones Industrial Index is to be noted at the end of the year"
   ]
  },
  {
   "cell_type": "markdown",
   "metadata": {},
   "source": [
    "Above we used the word *result* to denote something that we observe when we conduct or observe a random experiment. To be able to understand, model, simulate, and analyze random experiments we will need to introduce some much more precise language about what we can observe.  We start with defining an *outcome* of a random experiment:"
   ]
  },
  {
   "cell_type": "markdown",
   "metadata": {},
   "source": [
    "````{card}\n",
    "DEFINITION\n",
    "^^^\n",
    "outcome \n",
    ": An outcome is a non-decomposable result (or output) of a random experiment.\n",
    "````"
   ]
  },
  {
   "cell_type": "markdown",
   "metadata": {},
   "source": [
    "It is useful to have a reference for all possible outcomes of an experiment:\n",
    "````{card}\n",
    "DEFINITION\n",
    "^^^\n",
    "set\n",
    ": an unordered collection of *unique* items\n",
    "\n",
    "sample space (or universal set)\n",
    ": the set of all possible outcomes of a random experiment\n",
    "````\n",
    "\n",
    "We will denote the sample space $S$. Another common notation is $\\Omega$ (a Greek capital omega). This book assumes readers are familiar with sets and set operations. A review of basic set operations is given in **APPENDIX A (TO BE MADE)**.\n"
   ]
  },
  {
   "cell_type": "markdown",
   "metadata": {},
   "source": [
    "In the experiments above,the results are all examples of outcomes. Not everything that we might observe or ask about the result of a random experiment is an outcome, though. The following are **not** outcomes:\n",
    "* Whether the result of experiment **E1** is even \n",
    "* Whether the result of experiment **E3** is less than 70F\n",
    "* Whether the result of experiment **E4** is within 100 points of the value at the beginning of the  year\n",
    "\n",
    "Each of these examples are not outcomes because they can be decomposed into a **set** of outcomes:"
   ]
  },
  {
   "cell_type": "markdown",
   "metadata": {},
   "source": [
    "* The result of experiment **E1** being even is the same as asking whether the outcome is in the set $\\{2,4,6\\}$.\n",
    "* The results of experiment **E3** being less than 70 is the same as asking whether the outcome is in the set $\\{x \\vert x \\in \\mathbb{R}, x \\le 70 \\}$.\n",
    "* The result of experiment **E4** being greater than the value at the beginning of the year can be written as follows: Let $d_0$ denote the value of the index at the beginning of the year, which is assumed known. Then we are asking if the final value is in the set $\\left\\{x \\vert x \\in \\left[d_0-100, d_0+100\\right] \\right\\}$.  \n",
    "\n",
    "````{card}\n",
    "DEFINITION\n",
    "^^^\n",
    "event \n",
    ": any possible set of outcomes of an experiment to which we will assign probability\n",
    "````"
   ]
  },
  {
   "cell_type": "markdown",
   "metadata": {},
   "source": [
    "Although the definition of *event* may seem pretty straight-forward, there is actually a very subtle nuance. The definition does not say that every possible set of outcomes can be an event. We will only call a set of outcomes an event if we assign it probability. If we consider experiments which have an uncountably infinite **Add footnote: see Appendix A if you are not familiar with this terminology** set of outcomes, contradictions occur if we allow any possible set of outcomes to be events. Although this issue is important to achieve true mathematical rigor, the types of sets that we will not allow to be outcomes are so exotic that we can ignore this issue for the rest of the book.\n"
   ]
  },
  {
   "cell_type": "markdown",
   "metadata": {},
   "source": [
    "**EXAMPLE**\n",
    "\n",
    "Consider flipping a coin and observing the top face:\n",
    "\n",
    "**(a)** If the coin is flipped one time what is the sample space?\n",
    "\n",
    "When the outcomes of an experiment are not numbers, then it is best to introduce mathematical notation to represent the outcomes.  For a coin experiment, the outcomes are heads and tails, and almost everyone uses the notation $H$=heads and $T$=tails.  Then\n",
    "$$\n",
    "S_a= \\{H,T\\}\n",
    "$$\n",
    "\n",
    "**(b)** What if the coin is flipped four times, and the ordered sequence of heads and tails is recorded?\n",
    "\n",
    "As before, we will use $H$ and $T$ to denote the outcomes from one flip. The result of multiple flips can be recorded using a *tuple*: the mathematical object -- not the Python data type. Mathematical tuples are very similar to Python tuples: both represent ordered sequences, enclosed by parentheses, with the individual elements separated by commas.\n",
    "\n",
    "The resulting sample space is\n",
    "\\begin{align*}\n",
    "S_b= \\{&(T,T,T,T),~~ (T,T,T,H),~~ (T,T,H,T),~~ (T,T,H,H) \\\\\n",
    "&(T,H,T,T),~~ (T,H,T,H),~~ (T,H,H,T),~~ (T,H,H,H) \\\\\n",
    "&(H,T,T,T),~~ (H,T,T,H),~~ (H,T,H,T),~~ (H,T,H,H) \\\\\n",
    "&(H,H,T,T),~~ (H,H,T,H),~~ (H,H,H,T),~~ (H,H,H,H) \n",
    "\\}\n",
    "\\end{align*}\n",
    "\n",
    "**(c )** For the experiment of part (b), give a description in words of an event that is not an outcome.\n",
    "\n",
    "There is an even number of heads on the four flips.\n",
    "\n",
    "When defining events, it is again helpful to introduce mathematical notation. Thus, we can define $E$ to be the event that an even number of heads occurs. \n",
    "\n",
    "Then $E$ can be written as a set of outcomes as\n",
    "\\begin{align*}\n",
    "E= \\{&(T,T,T,T),~~ (T,T,H,H),~~  (T,H,T,H),~~ (T,H,H,T) \\\\\n",
    "&(H,T,T,H),~~ (H,T,H,T),~~ (H,H,T,T),~~ (H,H,H,H) \n",
    "\\}\n",
    "\\end{align*}"
   ]
  },
  {
   "cell_type": "markdown",
   "metadata": {},
   "source": [
    "````{card}\n",
    "DEFINITION\n",
    "^^^\n",
    "event class\n",
    ": A collection of all events to which we assign probability. For our purposes, it is a set of subsets of $S$. \n",
    "````\n",
    "If $S$ is finite, then the event class can be taken to be the power set of $S$ (the set of **all** subsets of $S$) **ADD REF TO APPENDIX**"
   ]
  },
  {
   "cell_type": "markdown",
   "metadata": {},
   "source": [
    "**Example:** What is the event class for flipping a coin and observing the top face?\n",
    "\n",
    "The sample space can be represented as $S={H,T}$. The event class is the power set of $S$, which is\n",
    "$$\n",
    "\\mathcal{F}=\\bigl\\{ \\emptyset, H, T, \\left\\{H,T\\right\\} \\bigr\\}\n",
    "$$\n",
    "\n",
    "Note that both the null set (or empty set), $\\emptyset$, and the entire sample space $S=\\{H,T\\}$ are members of the event class. \n"
   ]
  },
  {
   "cell_type": "markdown",
   "metadata": {},
   "source": [
    "**Example:** What is the event class for rolling a die and observing the top face?\n",
    "\n",
    "The sample space can be written as $S=\\{1,2,3,4,5,6\\}$. Then the event class is the power set. Because the power set contains $2^6=64$ members, we use Python to print out its members. (This implementation is based on an analogy between the members of the set and the binary representations of the numbers 0 to 63. **See Appendix A for details.**)"
   ]
  },
  {
   "cell_type": "code",
   "execution_count": 1,
   "metadata": {},
   "outputs": [
    {
     "name": "stdout",
     "output_type": "stream",
     "text": [
      "Event class contains:\n",
      "{},          {1},         {2},         {1,2},       {3},         {1,3},       {2,3},       {1,2,3},     \n",
      "{4},         {1,4},       {2,4},       {1,2,4},     {3,4},       {1,3,4},     {2,3,4},     {1,2,3,4},   \n",
      "{5},         {1,5},       {2,5},       {1,2,5},     {3,5},       {1,3,5},     {2,3,5},     {1,2,3,5},   \n",
      "{4,5},       {1,4,5},     {2,4,5},     {1,2,4,5},   {3,4,5},     {1,3,4,5},   {2,3,4,5},   {1,2,3,4,5}, \n",
      "{6},         {1,6},       {2,6},       {1,2,6},     {3,6},       {1,3,6},     {2,3,6},     {1,2,3,6},   \n",
      "{4,6},       {1,4,6},     {2,4,6},     {1,2,4,6},   {3,4,6},     {1,3,4,6},   {2,3,4,6},   {1,2,3,4,6}, \n",
      "{5,6},       {1,5,6},     {2,5,6},     {1,2,5,6},   {3,5,6},     {1,3,5,6},   {2,3,5,6},   {1,2,3,5,6}, \n",
      "{4,5,6},     {1,4,5,6},   {2,4,5,6},   {1,2,4,5,6}, {3,4,5,6},   {1,3,4,5,6}, {2,3,4,5,6}, {1,2,3,4,5,6}"
     ]
    }
   ],
   "source": [
    "set_size = 6\n",
    "table_width = 8\n",
    "\n",
    "print(\"Event class contains:\", end=\"\")\n",
    "num_entries = 2 ** set_size\n",
    "for i in range(num_entries):\n",
    "    if i % table_width == 0:\n",
    "        print()\n",
    "    result = \"{\"\n",
    "    first = True\n",
    "    for j in range(set_size):\n",
    "        if i & (2 ** j) != 0:\n",
    "            if first:\n",
    "                first = False\n",
    "            else:\n",
    "                result += \",\"\n",
    "            result += str(j + 1)\n",
    "    result += \"}\"\n",
    "    if i < num_entries - 1:\n",
    "        result += \",\"\n",
    "    entry_width = 2 * set_size + 1\n",
    "    print(f\"{result : <{entry_width}}\", end=\"\")"
   ]
  },
  {
   "cell_type": "markdown",
   "metadata": {},
   "source": [
    "## Fair Experiments\n",
    "\n",
    "Some experiments are said to be *fair*, which intuitively means that there is no bias toward one outcome over another. We can define this more precisely as follows:\n",
    "\n",
    "````{card}\n",
    "DEFINITION\n",
    "^^^\n",
    "fair experiment\n",
    ": an experiment is *fair* if every outcome has the same probability of occurring.\n",
    "````"
   ]
  },
  {
   "cell_type": "markdown",
   "metadata": {},
   "source": [
    "The following are types of experiments that people assume to be fair unless otherwise specified:\n",
    "* Flipping a coin\n",
    "* Rolling a die\n",
    "* Picking a number from 1 to 10"
   ]
  },
  {
   "cell_type": "markdown",
   "metadata": {},
   "source": [
    "We are interested in fair experiments because calculating the probabilities for such an experiment is very straight-forward. To do this, we first introduce some useful concepts, terminology, and notation."
   ]
  },
  {
   "cell_type": "markdown",
   "metadata": {},
   "source": [
    "We start with the following basic principal:\n",
    "\n",
    "**The probabilities of the outcomes of an experiment sum to 1.**"
   ]
  },
  {
   "cell_type": "markdown",
   "metadata": {},
   "source": [
    "Consider a fair experiment with $N$ outcomes, and let $p_i$ denote the probability of outcome $i$, then\n",
    "\n",
    "\\begin{align*}\n",
    "\\sum_{i=1}^{N} p_i &= 1 \\\\\n",
    "Np_1 &=1\\\\\n",
    "\\Rightarrow p_i &= \\frac 1 N\\\\\n",
    "\\end{align*}"
   ]
  },
  {
   "cell_type": "markdown",
   "metadata": {},
   "source": [
    "So, for instance, the probability of getting any number on a fair die is 1/6. Let's compare these to the relative frequencies:"
   ]
  },
  {
   "cell_type": "markdown",
   "metadata": {},
   "source": [
    "First let's see some ways to count the number of unique outcomes from rolling a fair die:"
   ]
  },
  {
   "cell_type": "code",
   "execution_count": 2,
   "metadata": {},
   "outputs": [
    {
     "name": "stdout",
     "output_type": "stream",
     "text": [
      "1 : 158\n",
      "2 : 150\n",
      "3 : 176\n",
      "4 : 173\n",
      "5 : 191\n",
      "6 : 152\n"
     ]
    }
   ],
   "source": [
    "import random\n",
    "\n",
    "num_sims = 1000\n",
    "rolls = []\n",
    "for sim in range(num_sims):\n",
    "    die = random.choice(range(1, 7))\n",
    "    rolls += [die]\n",
    "for j in range(1, 7):\n",
    "    print(j, \":\", rolls.count(j))"
   ]
  },
  {
   "cell_type": "markdown",
   "metadata": {},
   "source": [
    "Because the die is fair, we expect the counts to be close to each other. If we increase the number of simulations the relative difference between different counts will get smaller.\n"
   ]
  },
  {
   "cell_type": "markdown",
   "metadata": {},
   "source": [
    "## An Aside: Accelerating Simulations using NumPy"
   ]
  },
  {
   "cell_type": "markdown",
   "metadata": {},
   "source": [
    "The simulation above is a perfectly valid way to roll a die and tabulate the counts of each outcome. However, we are going to demonstrate that it is also relatively slow, in the sense that the same simulation can be implemented much faster. We begin by determining the execution time of the current simulation (excluding the counting and printing). \n",
    "\n",
    "To do this, let's make the actualy die roll simulation into a function:"
   ]
  },
  {
   "cell_type": "code",
   "execution_count": 3,
   "metadata": {},
   "outputs": [],
   "source": [
    "def diesim1(num_sims=1_000_000):\n",
    "    rolls = []\n",
    "    for sim in range(num_sims):\n",
    "        die = random.choice(range(1, 7))\n",
    "        rolls += [die]"
   ]
  },
  {
   "cell_type": "code",
   "execution_count": 4,
   "metadata": {},
   "outputs": [
    {
     "name": "stdout",
     "output_type": "stream",
     "text": [
      "826 ms ± 45.4 ms per loop (mean ± std. dev. of 7 runs, 1 loop each)\n"
     ]
    }
   ],
   "source": [
    "%timeit diesim1()"
   ]
  },
  {
   "cell_type": "markdown",
   "metadata": {},
   "source": [
    "When I wrote this, my computer took an average of about 1.05 to 1.1 seconds to roll the dice one million times. This is certainly fast enough for the simple cases like this, but as we build more complex simulations, the time to get accurate results will greatly increase.\n",
    "\n",
    "A general rule of thumb is that `for` loops make simulations slower. It is much better to call a function that can return all the simulated values at once:"
   ]
  },
  {
   "cell_type": "code",
   "execution_count": 5,
   "metadata": {},
   "outputs": [],
   "source": [
    "def dieroll2(num_sims=1_000_000):\n",
    "    rolls = random.choices(range(1, 7), k=num_sims)"
   ]
  },
  {
   "cell_type": "code",
   "execution_count": 6,
   "metadata": {},
   "outputs": [
    {
     "name": "stdout",
     "output_type": "stream",
     "text": [
      "162 ms ± 10.5 ms per loop (mean ± std. dev. of 7 runs, 10 loops each)\n"
     ]
    }
   ],
   "source": [
    "%timeit dieroll2()"
   ]
  },
  {
   "cell_type": "markdown",
   "metadata": {},
   "source": [
    "By eliminating the `for` loop, we have reduced the execution time to 1/4 of what it was previously. Another source of inefficiency for this simulation is `random.choices()`. Because `random.choices()` must be able to handle general lists of items, it will not be as fast as if we choose a method that is tuned for providing a list of integers. \n",
    "\n",
    "NumPy is the Numerical Python library, and it provides a broad range of functions for working with numbers. The `numpy.random` module contains those functions that generate different types of random numbers. Because we use numpy.random a lot, we will use npr for the namespace of its functions:"
   ]
  },
  {
   "cell_type": "code",
   "execution_count": 7,
   "metadata": {},
   "outputs": [],
   "source": [
    "import numpy as np\n",
    "import numpy.random as npr"
   ]
  },
  {
   "cell_type": "code",
   "execution_count": 8,
   "metadata": {},
   "outputs": [],
   "source": [
    "def dieroll3(num_sims=1_000_000):\n",
    "    rolls = npr.randint(1, 7, size=num_sims)"
   ]
  },
  {
   "cell_type": "code",
   "execution_count": 9,
   "metadata": {},
   "outputs": [
    {
     "name": "stdout",
     "output_type": "stream",
     "text": [
      "10.8 ms ± 774 µs per loop (mean ± std. dev. of 7 runs, 100 loops each)\n"
     ]
    }
   ],
   "source": [
    "%timeit dieroll3()"
   ]
  },
  {
   "cell_type": "markdown",
   "metadata": {},
   "source": [
    "The new version runs over 20 times faster than the previous and is around 100 times faster than the original version of the simulation. "
   ]
  },
  {
   "cell_type": "markdown",
   "metadata": {},
   "source": [
    "NumPy also provides efficient ways to do the counting of the results, as shown below:"
   ]
  },
  {
   "cell_type": "code",
   "execution_count": 10,
   "metadata": {},
   "outputs": [],
   "source": [
    "def dieroll4(num_sims=1_000_000):\n",
    "    rolls = npr.randint(1, 7, size=num_sims)\n",
    "    vals, counts = np.unique(rolls, return_counts=True)\n",
    "    for i, val in enumerate(vals):\n",
    "        print(val, \":\", counts[i])"
   ]
  },
  {
   "cell_type": "code",
   "execution_count": 11,
   "metadata": {},
   "outputs": [
    {
     "name": "stdout",
     "output_type": "stream",
     "text": [
      "1 : 167079\n",
      "2 : 166999\n",
      "3 : 166332\n",
      "4 : 166698\n",
      "5 : 166121\n",
      "6 : 166771\n"
     ]
    }
   ],
   "source": [
    "dieroll4()"
   ]
  },
  {
   "cell_type": "markdown",
   "metadata": {},
   "source": [
    "Let's try that for our experiment where we flip a coin 20 times:"
   ]
  },
  {
   "cell_type": "code",
   "execution_count": 12,
   "metadata": {},
   "outputs": [
    {
     "name": "stdout",
     "output_type": "stream",
     "text": [
      "1 2.3e-05\n",
      "2 0.000189\n",
      "3 0.00115\n",
      "4 0.004535\n",
      "5 0.01464\n",
      "6 0.036909\n",
      "7 0.073804\n",
      "8 0.119932\n",
      "9 0.160321\n",
      "10 0.175877\n",
      "11 0.160099\n",
      "12 0.120179\n",
      "13 0.074162\n",
      "14 0.037124\n",
      "15 0.015101\n",
      "16 0.004645\n",
      "17 0.001088\n",
      "18 0.000202\n",
      "19 1.9e-05\n",
      "20 1e-06\n"
     ]
    }
   ],
   "source": [
    "num_sims = 1000000\n",
    "faces = [\"H\", \"T\"]\n",
    "flips = 20\n",
    "counts = []\n",
    "for sim in range(num_sims):\n",
    "    coins = random.choices(faces, k=flips)\n",
    "    num_heads = coins.count(\"H\")\n",
    "    counts += [num_heads]\n",
    "\n",
    "vals, counts = np.unique(counts, return_counts=True)\n",
    "for i in range(len(vals)):\n",
    "    print(vals[i], counts[i] / num_sims)"
   ]
  },
  {
   "cell_type": "markdown",
   "metadata": {},
   "source": [
    "<!-- This is an example of **binary hypothesis testing**. In this case, we set up two hypothesis:\n",
    "\n",
    "$H_0$: (the *null hypothesis*) is that the observed effect is just caused by randomness in the sampling. It is not real in the underlying system or data. For this exampe, our null hypothesis is that the coin is actually fair\n",
    "\n",
    "$H_1$: (the *alternative hypothesis*) is that the observed effect is not just caused by random sampling. In this example, the coin is biased toward Tails.\n",
    "\n",
    "In classical statistics/hypothesis testing, we say that an effect is statistically significant if the probability of observing an effect of that size under the null hypothesis is smaller than some small value $p$. Typical values of $p$ are 0.05 or 0.01, but many argue for even smaller values now. **The threshold to determine statistical significance must always be determined before the experiment is conducted -- otherwise, there is too much temptation to adjust the threshold based on the observed $p$-value.**\n",
    "\n",
    "In classical hypothesis testing, we do *not* test the alternative hypothesis directly, nor can we utilize side information that we may already have about the two hypotheses -->"
   ]
  }
 ],
 "metadata": {
  "kernelspec": {
   "display_name": "Python 3 (ipykernel)",
   "language": "python",
   "name": "python3"
  },
  "language_info": {
   "codemirror_mode": {
    "name": "ipython",
    "version": 3
   },
   "file_extension": ".py",
   "mimetype": "text/x-python",
   "name": "python",
   "nbconvert_exporter": "python",
   "pygments_lexer": "ipython3",
   "version": "3.9.12"
  }
 },
 "nbformat": 4,
 "nbformat_minor": 4
}
