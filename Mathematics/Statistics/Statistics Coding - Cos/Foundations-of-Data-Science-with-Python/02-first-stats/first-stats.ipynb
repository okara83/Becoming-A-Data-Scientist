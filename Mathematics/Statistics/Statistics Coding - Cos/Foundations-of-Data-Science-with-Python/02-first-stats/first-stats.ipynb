{
 "cells": [
  {
   "cell_type": "code",
   "execution_count": 1,
   "metadata": {
    "tags": [
     "remove-cell"
    ]
   },
   "outputs": [],
   "source": [
    "import random\n",
    "\n",
    "faces = [\"H\", \"T\"]"
   ]
  },
  {
   "cell_type": "markdown",
   "metadata": {},
   "source": [
    "# First Statistical Tests"
   ]
  },
  {
   "cell_type": "markdown",
   "metadata": {},
   "source": [
    "Now let's focus on finding how often 6 or fewer heads occurs. Let's print information about those extreme results. To do this, we will use an `if` statement inside our simulation loop to check if the number of heads observed is less than or equal to 6 and call a `print` statement if that condition is satisfied. "
   ]
  },
  {
   "cell_type": "code",
   "execution_count": 2,
   "metadata": {},
   "outputs": [
    {
     "name": "stdout",
     "output_type": "stream",
     "text": [
      "4 :  6 Heads\n",
      "12 :  5 Heads\n",
      "14 :  5 Heads\n",
      "69 :  6 Heads\n",
      "78 :  5 Heads\n",
      "92 :  4 Heads\n"
     ]
    }
   ],
   "source": [
    "num_sims = 100\n",
    "flips = 20\n",
    "\n",
    "threshold = 6  # best practice is to put any thresholds outside the simulation loop\n",
    "\n",
    "for sim in range(num_sims):\n",
    "    coins = random.choices(faces, k=flips)\n",
    "    num_heads = coins.count(\"H\")\n",
    "    if num_heads <= threshold:\n",
    "        print(sim, \": \", num_heads, \"Heads\")"
   ]
  },
  {
   "cell_type": "markdown",
   "metadata": {},
   "source": [
    "We are going to be using variations on this basic function with different parameters later. Whenever you anticipate doing this, it is a good idea to turn the code block into a function. This is very easy in Jupyter:\n",
    "1. Copy the last version of the simulation and paste it into a new code cell\n",
    "2. Selecting the entire code block in the new Input cell, using the mouse or Command-A (Mac) or Control-A (Windows/Linux)\n",
    "3. Indent the selected block by pressing Command-] (Mac) or Control-] (Windows/Linux)\n",
    "4. Click at the very left edge of the first line of the cell and type `def coinsim_print():` and press Enter\n",
    "5. Now finish populating the function by cutting the parameters from the code block and pasting them into the function signature as parameters with default values. Put the parameters in the order shown\n",
    "6. Finally, add a docstring that explains what the function does"
   ]
  },
  {
   "cell_type": "code",
   "execution_count": 3,
   "metadata": {},
   "outputs": [],
   "source": [
    "def coinsim_print(num_sims=100, threshold=6, flips=20):\n",
    "    \"\"\"\n",
    "    Simulate multiple experiments, where each experiment involves flipping a coin\n",
    "    a specified number of times and printing the results of the experiment if the\n",
    "    number of heads observed is <= a threshold\n",
    "    \n",
    "    Inputs:\n",
    "    threshold: will print if the number of heads observed is <= this value\n",
    "    num_sims: the total number of experiments to simulate\n",
    "    flips: the number of coin flips in one experiment\n",
    "    \"\"\"\n",
    "\n",
    "    for sim in range(num_sims):\n",
    "        coins = random.choices(faces, k=flips)\n",
    "        num_heads = coins.count(\"H\")\n",
    "        if num_heads <= threshold:\n",
    "            print(sim, \": \", num_heads, \"Heads\")"
   ]
  },
  {
   "cell_type": "code",
   "execution_count": 4,
   "metadata": {},
   "outputs": [
    {
     "name": "stdout",
     "output_type": "stream",
     "text": [
      "8 :  6 Heads\n",
      "9 :  6 Heads\n",
      "12 :  5 Heads\n",
      "14 :  5 Heads\n",
      "60 :  6 Heads\n",
      "70 :  6 Heads\n",
      "74 :  6 Heads\n",
      "75 :  6 Heads\n",
      "81 :  5 Heads\n",
      "91 :  6 Heads\n"
     ]
    }
   ],
   "source": [
    "coinsim_print()"
   ]
  },
  {
   "cell_type": "markdown",
   "metadata": {},
   "source": [
    "We really don't care about the particular experiment on which those extreme results occur. Instead, our goal is to estimate the probability of seeing a result that satisfies our threshold condition, and this probabilty can be estimated using the relative frequency of those results:"
   ]
  },
  {
   "cell_type": "markdown",
   "metadata": {},
   "source": [
    "Let's create a new function that calculates the relative frequency of getting 6 or fewer heads on 20 flips of a fair coin. The primary changes are to:\n",
    "1. Add an \"event counter\" to count how many times we see an experimental result that matches our criterion\n",
    "2. Instead of printing information about the experiments that meet the criterion, increment the event counter\n",
    "3. After the simulation loop is completed, calculate and print the relative frequency\n",
    "\n",
    "```{warning}\n",
    "Note that we give the new function a different name. It is possible to reuse the same function name, but this will produce ambiguities in Jupyter. When you call the function, the function definition that is used is the last one to be run. You can go back and rerun cells in Jupyter, which can then result in you not knowing which version of a function you are running. \n",
    "\n",
    "**Best practice:** Do not reuse function names unless you are completely deleting the previous function definition.\n",
    "```"
   ]
  },
  {
   "cell_type": "code",
   "execution_count": 5,
   "metadata": {},
   "outputs": [
    {
     "name": "stdout",
     "output_type": "stream",
     "text": [
      "Relative frequency of 6 or fewer heads is 0.056\n"
     ]
    }
   ],
   "source": [
    "num_sims = 1000\n",
    "flips = 20\n",
    "\n",
    "threshold = 6\n",
    "\n",
    "event_count = 0  # count how many experiments satisfy the given criteria\n",
    "for sim in range(num_sims):\n",
    "    coins = random.choices(faces, k=flips)\n",
    "    num_heads = coins.count(\"H\")\n",
    "    if num_heads <= threshold:\n",
    "        event_count += 1\n",
    "\n",
    "print(\"Relative frequency of\", threshold, \"or fewer heads is\", event_count / num_sims)"
   ]
  },
  {
   "cell_type": "code",
   "execution_count": 6,
   "metadata": {},
   "outputs": [],
   "source": [
    "def coinsim(num_sims=1000, threshold=6, flips=20):\n",
    "    \"\"\"\n",
    "    Simulate multiple experiments, where each experiment involves flipping a coin\n",
    "    a specified number of times and printing the results of the experiment if the\n",
    "    number of heads observed is <= a threshold\n",
    "    \n",
    "    Inputs:\n",
    "    threshold: will print if the number of heads observed is <= this value\n",
    "    num_sims: the total number of experiments to simulate\n",
    "    flips: the number of coin flips in one experiment\n",
    "    \"\"\"\n",
    "\n",
    "    event_count = 0  # count how many experiments satisfy the given criteria\n",
    "    for sim in range(num_sims):\n",
    "        coins = random.choices(faces, k=flips)\n",
    "        num_heads = coins.count(\"H\")\n",
    "        if num_heads <= threshold:\n",
    "            event_count += 1\n",
    "\n",
    "    print(\n",
    "        \"Relative frequency of\", threshold, \"or fewer heads is\", event_count / num_sims\n",
    "    )"
   ]
  },
  {
   "cell_type": "code",
   "execution_count": 7,
   "metadata": {},
   "outputs": [
    {
     "name": "stdout",
     "output_type": "stream",
     "text": [
      "Relative frequency of 6 or fewer heads is 0.073\n"
     ]
    }
   ],
   "source": [
    "coinsim()"
   ]
  },
  {
   "cell_type": "markdown",
   "metadata": {},
   "source": [
    "Note that the relative frequency can change when the simulation is rerun. How much it changes depends on the experiment, the criterion that defines the result we are looking for, and the number of experiments simulated. To provide an accurate estimate of the probability, the number of experiments simulated should be sufficiently large that the relative frequency does not change significantly when the simulation is re-run. (For this experiment with a threshold of 6 heads, one million simulation experiments is sufficient.)"
   ]
  },
  {
   "cell_type": "code",
   "execution_count": 8,
   "metadata": {},
   "outputs": [
    {
     "name": "stdout",
     "output_type": "stream",
     "text": [
      "Relative frequency of 6 or fewer heads is 0.057744\n"
     ]
    }
   ],
   "source": [
    "coinsim(1_000_000)"
   ]
  },
  {
   "cell_type": "markdown",
   "metadata": {},
   "source": [
    "**So could the 6 heads be reasonable with a fair coin?** \n",
    "\n",
    "With 1,000,000 experiments in the simulation, the relative frequency is approximately 0.058. That means that with a fair coin, we will see 6 or fewer heads about 6% of the time. Since we previously decided to use a criteria that the probabilty must be less than 0.01, we cannot reject the possibility that the coin is fair."
   ]
  },
  {
   "cell_type": "markdown",
   "metadata": {},
   "source": [
    "**If we got 4 heads, could that be reasonable with a fair coin?**"
   ]
  },
  {
   "cell_type": "code",
   "execution_count": null,
   "metadata": {},
   "outputs": [],
   "source": [
    "coinsim(1_000_000, threshold=4)"
   ]
  },
  {
   "cell_type": "markdown",
   "metadata": {},
   "source": [
    "In this case, the estimate of the probability is about $6 \\times 10^{-3}$, which falls below the 0.01 threshold we selected. So, we would reject the possibility that the coin is fair. \n",
    "\n",
    "We would believe that the coin is biased towards heads but at this point have no estimate of the size of that bias."
   ]
  },
  {
   "cell_type": "markdown",
   "metadata": {},
   "source": [
    "```{index} simulation; to estimate a probability\n",
    "```\n",
    "\n",
    "## Basic Simulation to Estimate a Probability "
   ]
  },
  {
   "cell_type": "markdown",
   "metadata": {},
   "source": [
    "\n",
    "Let's use $R$ to denote some result for which we are trying to estimate the probability via computer simulation. As before, we will actually calculate the relative frequency of $R$ and use that as an estimate of the probability of $R$. \n",
    "\n",
    "Then the basic simulation structure is as follows:\n",
    "1. Initialize two counters to zero:\n",
    "    * an event counter, $N_R=0$, and \n",
    "    * a loop counter, $i=0$; in Python, the loop counter can be implicitly initialized and tracked using a `for ... in range()` statement\n",
    "    \n",
    "1. simulate the outcome of the experiment\n",
    "1. if $R$ occurred, increment the event counter: $N_R=N_R+1$\n",
    "1. increment the loop counter: $i=i+1$\n",
    "1. If $i$ matches the target number of iterations, then calculate and print the relative frequency; otherwise go to step 2.\n",
    "\n",
    "**We will be using variations on this basic computer simulation structure throughout this course!**"
   ]
  }
 ],
 "metadata": {
  "kernelspec": {
   "display_name": "Python 3 (ipykernel)",
   "language": "python",
   "name": "python3"
  },
  "language_info": {
   "codemirror_mode": {
    "name": "ipython",
    "version": 3
   },
   "file_extension": ".py",
   "mimetype": "text/x-python",
   "name": "python",
   "nbconvert_exporter": "python",
   "pygments_lexer": "ipython3",
   "version": "3.9.12"
  }
 },
 "nbformat": 4,
 "nbformat_minor": 4
}
