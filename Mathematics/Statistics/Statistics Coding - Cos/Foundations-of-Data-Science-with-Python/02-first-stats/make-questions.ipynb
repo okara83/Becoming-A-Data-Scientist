{
 "cells": [
  {
   "cell_type": "code",
   "execution_count": 1,
   "metadata": {},
   "outputs": [],
   "source": [
    "import sys\n",
    "sys.path.insert(1, \"..\")\n",
    "\n",
    "from quizlet import display_quiz"
   ]
  },
  {
   "cell_type": "code",
   "execution_count": 2,
   "metadata": {},
   "outputs": [],
   "source": [
    "questions=[]"
   ]
  },
  {
   "cell_type": "markdown",
   "metadata": {},
   "source": [
    "# Add questions here"
   ]
  },
  {
   "cell_type": "code",
   "execution_count": 3,
   "metadata": {
    "tags": [
     "remove-input"
    ]
   },
   "outputs": [
    {
     "data": {
      "text/html": [
       "<div id=\"quizWrap\" style=\"max-width: 600px; margin: 0 auto;\">\n",
       "      <!-- QUESTION -->\n",
       "      <div id=\"quizQn\" style=\"padding: 20px;\n",
       "      background: #6F78FF;\n",
       "      color: #fff;\n",
       "      font-size: 20px;\n",
       "      border-radius: 10px;\">\n",
       "      Which of these cannot be a probability?</div>\n",
       "      <!-- ANSWER -->\n",
       "      <div id=\"quizAns\" style=\"margin: 10px 0;\n",
       "      display: grid;\n",
       "      grid-template-columns: auto auto;\n",
       "      grid-gap: 10px;\">\n",
       "      <input type=\"radio\" name=\"quiz\" id=\"quizo0\" style=\"display:none;\" ><label style=\"background: #fafafa;\n",
       "      border: 1px solid #eee;  border-radius: 10px; padding: 10px;\n",
       "      font-size: 16px; cursor: pointer; text-align: center;\" \n",
       "      onclick=\"checkhpOFqEVjwHLJ()\" \n",
       "      id=\"quizo0\" data-correct=\"False\" data-feedback=\"This is a number between 0 and 1, so it can be probability.\" data-answered=0>0  </label><input type=\"radio\" name=\"quiz\" id=\"quizo1\" style=\"display:none;\" ><label style=\"background: #fafafa;\n",
       "      border: 1px solid #eee;  border-radius: 10px; padding: 10px;\n",
       "      font-size: 16px; cursor: pointer; text-align: center;\" \n",
       "      onclick=\"checkhpOFqEVjwHLJ()\" \n",
       "      id=\"quizo1\" data-correct=\"False\" data-feedback=\"This is a number between 0 and 1, so it can be probability.\" data-answered=0>0.5  </label><input type=\"radio\" name=\"quiz\" id=\"quizo2\" style=\"display:none;\" ><label style=\"background: #fafafa;\n",
       "      border: 1px solid #eee;  border-radius: 10px; padding: 10px;\n",
       "      font-size: 16px; cursor: pointer; text-align: center;\" \n",
       "      onclick=\"checkhpOFqEVjwHLJ()\" \n",
       "      id=\"quizo2\" data-correct=\"False\" data-feedback=\"This is a number between 0 and 1, so it can be probability.\" data-answered=0>1  </label><input type=\"radio\" name=\"quiz\" id=\"quizo3\" style=\"display:none;\" ><label style=\"background: #fafafa;\n",
       "      border: 1px solid #eee;  border-radius: 10px; padding: 10px;\n",
       "      font-size: 16px; cursor: pointer; text-align: center;\" \n",
       "      onclick=\"checkhpOFqEVjwHLJ()\" \n",
       "      id=\"quizo3\" data-correct=\"True\" data-feedback=\"Correct! Probabilities must be numbers between 0 and 1.\" data-answered=0>-0.5  </label>  </div></div>\n",
       "    <div id=\"hpOFqEVjwHLJ\" style=\"font-size: 20px;text-align:center;padding-bottom: 30px\" data-answeredcorrect=0 data-numcorrect=1></div>\n",
       "        <script type=\"text/Javascript\">\n",
       "\n",
       "        function checkhpOFqEVjwHLJ(){\n",
       "\n",
       "                console.log(event.srcElement.id)           \n",
       "                console.log(event.srcElement.dataset.correct)   \n",
       "                console.log(event.srcElement.dataset.feedback)\n",
       "\n",
       "                answers= event.srcElement.parentElement.children;\n",
       "                console.log(answers);\n",
       "\n",
       "                for (var i = 0; i < answers.length; i++) {\n",
       "                    child=answers[i];\n",
       "                    child.style.background=\"#fafafa\";\n",
       "                }\n",
       "                var feedback = document.getElementById(\"hpOFqEVjwHLJ\");\n",
       "                feedback.innerHTML=event.srcElement.dataset.feedback;\n",
       "                if (event.srcElement.dataset.correct==\"True\")   {\n",
       "                    event.srcElement.style.background=\"#d8ffc4\";\n",
       "                    feedback.style.color=\"#009113\";\n",
       "                } else {\n",
       "                    event.srcElement.style.background=\"#ffe8e8\";\n",
       "                    feedback.style.color=\"#DC2329\";\n",
       "                }\n",
       "\n",
       "\n",
       "\n",
       "\n",
       "            }\n",
       "\n",
       "        </script>\n",
       "        "
      ],
      "text/plain": [
       "<IPython.core.display.HTML object>"
      ]
     },
     "metadata": {},
     "output_type": "display_data"
    }
   ],
   "source": [
    "question=\"Which of these cannot be a probability?\"\n",
    "answers=[\n",
    "    {'answer':\"0.5\",\n",
    "     'correct': False,\n",
    "     'feedback': \"This is a number between 0 and 1, so it can be probability.\"\n",
    "    },\n",
    "    {'answer': \"-0.5\",\n",
    "     'correct': True,\n",
    "     'feedback': \"Correct! Probabilities must be numbers between 0 and 1.\"\n",
    "    },\n",
    "    {'answer': \"0\",\n",
    "     'correct': False,\n",
    "     'feedback': \"This is a number between 0 and 1, so it can be probability.\"\n",
    "    },\n",
    "    {'answer': \"1\",\n",
    "     'correct': False,\n",
    "     'feedback': \"This is a number between 0 and 1, so it can be probability.\"\n",
    "    }\n",
    "]\n",
    "\n",
    "questions+=[{'question':question, 'type':'multiple_choice', 'answers':answers}]\n",
    "\n",
    "display_quiz(question, answers)"
   ]
  },
  {
   "cell_type": "code",
   "execution_count": 4,
   "metadata": {
    "tags": [
     "remove-input"
    ]
   },
   "outputs": [
    {
     "data": {
      "text/html": [
       "<div id=\"quizWrap\" style=\"max-width: 600px; margin: 0 auto;\">\n",
       "      <!-- QUESTION -->\n",
       "      <div id=\"quizQn\" style=\"padding: 20px;\n",
       "      background: #6F78FF;\n",
       "      color: #fff;\n",
       "      font-size: 20px;\n",
       "      border-radius: 10px;\">\n",
       "      Determine the relative frequency of the outcome 3 in the following data set:\n",
       "\n",
       "2,3,5,2,3</div>\n",
       "      <!-- ANSWER -->\n",
       "      <div id=\"quizAns\" style=\"margin: 10px 0;\n",
       "      display: grid;\n",
       "      grid-template-columns: auto auto;\n",
       "      grid-gap: 10px;\">\n",
       "      <input type=\"radio\" name=\"quiz\" id=\"quizo0\" style=\"display:none;\" ><label style=\"background: #fafafa;\n",
       "      border: 1px solid #eee;  border-radius: 10px; padding: 10px;\n",
       "      font-size: 16px; cursor: pointer; text-align: center;\" \n",
       "      onclick=\"checkEMkdPfTxgUoK()\" \n",
       "      id=\"quizo0\" data-correct=\"False\" data-feedback=\"Relative frequency is the proportion of experiments in which an outcome occurs. Count the number of times that outcome 3 occurred and divide by the total number of experiments.\" data-answered=0>0.6  </label><input type=\"radio\" name=\"quiz\" id=\"quizo1\" style=\"display:none;\" ><label style=\"background: #fafafa;\n",
       "      border: 1px solid #eee;  border-radius: 10px; padding: 10px;\n",
       "      font-size: 16px; cursor: pointer; text-align: center;\" \n",
       "      onclick=\"checkEMkdPfTxgUoK()\" \n",
       "      id=\"quizo1\" data-correct=\"False\" data-feedback=\"Relative frequency is the proportion of experiments in which an outcome occurs. It is always between 0 and 1.\" data-answered=0>2  </label><input type=\"radio\" name=\"quiz\" id=\"quizo2\" style=\"display:none;\" ><label style=\"background: #fafafa;\n",
       "      border: 1px solid #eee;  border-radius: 10px; padding: 10px;\n",
       "      font-size: 16px; cursor: pointer; text-align: center;\" \n",
       "      onclick=\"checkEMkdPfTxgUoK()\" \n",
       "      id=\"quizo2\" data-correct=\"False\" data-feedback=\"Relative frequency is the proportion of experiments in which an outcome occurs. Since 3 occured, that proportion will not be 0.\" data-answered=0>0  </label><input type=\"radio\" name=\"quiz\" id=\"quizo3\" style=\"display:none;\" ><label style=\"background: #fafafa;\n",
       "      border: 1px solid #eee;  border-radius: 10px; padding: 10px;\n",
       "      font-size: 16px; cursor: pointer; text-align: center;\" \n",
       "      onclick=\"checkEMkdPfTxgUoK()\" \n",
       "      id=\"quizo3\" data-correct=\"True\" data-feedback=\"Correct! The outcome 3 occurred 2 times out of 5 experiments, so the relative frequency is 2/5=0.4.\" data-answered=0>0.4  </label>  </div></div>\n",
       "    <div id=\"EMkdPfTxgUoK\" style=\"font-size: 20px;text-align:center;padding-bottom: 30px\" data-answeredcorrect=0 data-numcorrect=1></div>\n",
       "        <script type=\"text/Javascript\">\n",
       "\n",
       "        function checkEMkdPfTxgUoK(){\n",
       "\n",
       "                console.log(event.srcElement.id)           \n",
       "                console.log(event.srcElement.dataset.correct)   \n",
       "                console.log(event.srcElement.dataset.feedback)\n",
       "\n",
       "                answers= event.srcElement.parentElement.children;\n",
       "                console.log(answers);\n",
       "\n",
       "                for (var i = 0; i < answers.length; i++) {\n",
       "                    child=answers[i];\n",
       "                    child.style.background=\"#fafafa\";\n",
       "                }\n",
       "                var feedback = document.getElementById(\"EMkdPfTxgUoK\");\n",
       "                feedback.innerHTML=event.srcElement.dataset.feedback;\n",
       "                if (event.srcElement.dataset.correct==\"True\")   {\n",
       "                    event.srcElement.style.background=\"#d8ffc4\";\n",
       "                    feedback.style.color=\"#009113\";\n",
       "                } else {\n",
       "                    event.srcElement.style.background=\"#ffe8e8\";\n",
       "                    feedback.style.color=\"#DC2329\";\n",
       "                }\n",
       "\n",
       "\n",
       "\n",
       "\n",
       "            }\n",
       "\n",
       "        </script>\n",
       "        "
      ],
      "text/plain": [
       "<IPython.core.display.HTML object>"
      ]
     },
     "metadata": {},
     "output_type": "display_data"
    }
   ],
   "source": [
    "question='''Determine the relative frequency of the outcome 3 in the following data set:\n",
    "\n",
    "2,3,5,2,3'''\n",
    "answers=[\n",
    "    {'answer':\"2\",\n",
    "     'correct': False,\n",
    "     'feedback': \"Relative frequency is the proportion of experiments in which an outcome occurs. It is always between 0 and 1.\"\n",
    "    },\n",
    "    {'answer': \"0\",\n",
    "     'correct': False,\n",
    "     'feedback': \"Relative frequency is the proportion of experiments in which an outcome occurs. Since 3 occured, that proportion will not be 0.\"\n",
    "    },\n",
    "    {'answer': \"0.4\",\n",
    "     'correct': True,\n",
    "     'feedback': \"Correct! The outcome 3 occurred 2 times out of 5 experiments, so the relative frequency is 2/5=0.4.\"\n",
    "    },\n",
    "    {'answer': \"0.6\",\n",
    "     'correct': False,\n",
    "     'feedback': \"Relative frequency is the proportion of experiments in which an outcome occurs. Count the number of times that outcome 3 occurred and divide by the total number of experiments.\"\n",
    "    }\n",
    "]\n",
    "\n",
    "questions+=[{'question':question, 'type':'multiple_choice', 'answers':answers}]\n",
    "\n",
    "\n",
    "\n",
    "\n",
    "display_quiz(question, answers)"
   ]
  },
  {
   "cell_type": "code",
   "execution_count": 5,
   "metadata": {},
   "outputs": [
    {
     "data": {
      "text/plain": [
       "2"
      ]
     },
     "execution_count": 5,
     "metadata": {},
     "output_type": "execute_result"
    }
   ],
   "source": [
    "len(questions)"
   ]
  },
  {
   "cell_type": "code",
   "execution_count": 6,
   "metadata": {},
   "outputs": [
    {
     "data": {
      "text/plain": [
       "[{'question': 'Which of these cannot be a probability?',\n",
       "  'type': 'multiple_choice',\n",
       "  'answers': [{'answer': '0',\n",
       "    'correct': False,\n",
       "    'feedback': 'This is a number between 0 and 1, so it can be probability.'},\n",
       "   {'answer': '0.5',\n",
       "    'correct': False,\n",
       "    'feedback': 'This is a number between 0 and 1, so it can be probability.'},\n",
       "   {'answer': '1',\n",
       "    'correct': False,\n",
       "    'feedback': 'This is a number between 0 and 1, so it can be probability.'},\n",
       "   {'answer': '-0.5',\n",
       "    'correct': True,\n",
       "    'feedback': 'Correct! Probabilities must be numbers between 0 and 1.'}]},\n",
       " {'question': 'Determine the relative frequency of the outcome 3 in the following data set:\\n\\n2,3,5,2,3',\n",
       "  'type': 'multiple_choice',\n",
       "  'answers': [{'answer': '0.6',\n",
       "    'correct': False,\n",
       "    'feedback': 'Relative frequency is the proportion of experiments in which an outcome occurs. Count the number of times that outcome 3 occurred and divide by the total number of experiments.'},\n",
       "   {'answer': '2',\n",
       "    'correct': False,\n",
       "    'feedback': 'Relative frequency is the proportion of experiments in which an outcome occurs. It is always between 0 and 1.'},\n",
       "   {'answer': '0',\n",
       "    'correct': False,\n",
       "    'feedback': 'Relative frequency is the proportion of experiments in which an outcome occurs. Since 3 occured, that proportion will not be 0.'},\n",
       "   {'answer': '0.4',\n",
       "    'correct': True,\n",
       "    'feedback': 'Correct! The outcome 3 occurred 2 times out of 5 experiments, so the relative frequency is 2/5=0.4.'}]}]"
      ]
     },
     "execution_count": 6,
     "metadata": {},
     "output_type": "execute_result"
    }
   ],
   "source": [
    "questions"
   ]
  },
  {
   "cell_type": "markdown",
   "metadata": {},
   "source": [
    "# Now write out to file"
   ]
  },
  {
   "cell_type": "code",
   "execution_count": 7,
   "metadata": {},
   "outputs": [],
   "source": [
    "import json\n",
    "with open('../questions/ch2.txt', 'w') as outfile:\n",
    "    json.dump(questions, outfile, indent=4)\n"
   ]
  },
  {
   "cell_type": "markdown",
   "metadata": {},
   "source": [
    "# Read back and display questions"
   ]
  },
  {
   "cell_type": "code",
   "execution_count": 8,
   "metadata": {},
   "outputs": [],
   "source": [
    "import json\n",
    "\n",
    "questions=[]\n",
    "with open('../questions/ch2.txt', 'r') as infile:\n",
    "    questions=json.load(infile)"
   ]
  },
  {
   "cell_type": "code",
   "execution_count": 9,
   "metadata": {},
   "outputs": [
    {
     "data": {
      "text/plain": [
       "[{'question': 'Which of these cannot be a probability?',\n",
       "  'type': 'multiple_choice',\n",
       "  'answers': [{'answer': '0',\n",
       "    'correct': False,\n",
       "    'feedback': 'This is a number between 0 and 1, so it can be probability.'},\n",
       "   {'answer': '0.5',\n",
       "    'correct': False,\n",
       "    'feedback': 'This is a number between 0 and 1, so it can be probability.'},\n",
       "   {'answer': '1',\n",
       "    'correct': False,\n",
       "    'feedback': 'This is a number between 0 and 1, so it can be probability.'},\n",
       "   {'answer': '-0.5',\n",
       "    'correct': True,\n",
       "    'feedback': 'Correct! Probabilities must be numbers between 0 and 1.'}]},\n",
       " {'question': 'Determine the relative frequency of the outcome 3 in the following data set:\\n\\n2,3,5,2,3',\n",
       "  'type': 'multiple_choice',\n",
       "  'answers': [{'answer': '0.6',\n",
       "    'correct': False,\n",
       "    'feedback': 'Relative frequency is the proportion of experiments in which an outcome occurs. Count the number of times that outcome 3 occurred and divide by the total number of experiments.'},\n",
       "   {'answer': '2',\n",
       "    'correct': False,\n",
       "    'feedback': 'Relative frequency is the proportion of experiments in which an outcome occurs. It is always between 0 and 1.'},\n",
       "   {'answer': '0',\n",
       "    'correct': False,\n",
       "    'feedback': 'Relative frequency is the proportion of experiments in which an outcome occurs. Since 3 occured, that proportion will not be 0.'},\n",
       "   {'answer': '0.4',\n",
       "    'correct': True,\n",
       "    'feedback': 'Correct! The outcome 3 occurred 2 times out of 5 experiments, so the relative frequency is 2/5=0.4.'}]}]"
      ]
     },
     "execution_count": 9,
     "metadata": {},
     "output_type": "execute_result"
    }
   ],
   "source": [
    "questions"
   ]
  },
  {
   "cell_type": "code",
   "execution_count": 10,
   "metadata": {},
   "outputs": [
    {
     "data": {
      "text/html": [
       "<div id=\"quizWrap\" style=\"max-width: 600px; margin: 0 auto;\">\n",
       "      <!-- QUESTION -->\n",
       "      <div id=\"quizQn\" style=\"padding: 20px;\n",
       "      background: #6F78FF;\n",
       "      color: #fff;\n",
       "      font-size: 20px;\n",
       "      border-radius: 10px;\">\n",
       "      Which of these cannot be a probability?</div>\n",
       "      <!-- ANSWER -->\n",
       "      <div id=\"quizAns\" style=\"margin: 10px 0;\n",
       "      display: grid;\n",
       "      grid-template-columns: auto auto;\n",
       "      grid-gap: 10px;\">\n",
       "      <input type=\"radio\" name=\"quiz\" id=\"quizo0\" style=\"display:none;\" ><label style=\"background: #fafafa;\n",
       "      border: 1px solid #eee;  border-radius: 10px; padding: 10px;\n",
       "      font-size: 16px; cursor: pointer; text-align: center;\" \n",
       "      onclick=\"checknhTzlutyhSCJ()\" \n",
       "      id=\"quizo0\" data-correct=\"True\" data-feedback=\"Correct! Probabilities must be numbers between 0 and 1.\" data-answered=0>-0.5  </label><input type=\"radio\" name=\"quiz\" id=\"quizo1\" style=\"display:none;\" ><label style=\"background: #fafafa;\n",
       "      border: 1px solid #eee;  border-radius: 10px; padding: 10px;\n",
       "      font-size: 16px; cursor: pointer; text-align: center;\" \n",
       "      onclick=\"checknhTzlutyhSCJ()\" \n",
       "      id=\"quizo1\" data-correct=\"False\" data-feedback=\"This is a number between 0 and 1, so it can be probability.\" data-answered=0>1  </label><input type=\"radio\" name=\"quiz\" id=\"quizo2\" style=\"display:none;\" ><label style=\"background: #fafafa;\n",
       "      border: 1px solid #eee;  border-radius: 10px; padding: 10px;\n",
       "      font-size: 16px; cursor: pointer; text-align: center;\" \n",
       "      onclick=\"checknhTzlutyhSCJ()\" \n",
       "      id=\"quizo2\" data-correct=\"False\" data-feedback=\"This is a number between 0 and 1, so it can be probability.\" data-answered=0>0.5  </label><input type=\"radio\" name=\"quiz\" id=\"quizo3\" style=\"display:none;\" ><label style=\"background: #fafafa;\n",
       "      border: 1px solid #eee;  border-radius: 10px; padding: 10px;\n",
       "      font-size: 16px; cursor: pointer; text-align: center;\" \n",
       "      onclick=\"checknhTzlutyhSCJ()\" \n",
       "      id=\"quizo3\" data-correct=\"False\" data-feedback=\"This is a number between 0 and 1, so it can be probability.\" data-answered=0>0  </label>  </div></div>\n",
       "    <div id=\"nhTzlutyhSCJ\" style=\"font-size: 20px;text-align:center;padding-bottom: 30px\" data-answeredcorrect=0 data-numcorrect=1></div>\n",
       "        <script type=\"text/Javascript\">\n",
       "\n",
       "        function checknhTzlutyhSCJ(){\n",
       "\n",
       "                console.log(event.srcElement.id)           \n",
       "                console.log(event.srcElement.dataset.correct)   \n",
       "                console.log(event.srcElement.dataset.feedback)\n",
       "\n",
       "                answers= event.srcElement.parentElement.children;\n",
       "                console.log(answers);\n",
       "\n",
       "                for (var i = 0; i < answers.length; i++) {\n",
       "                    child=answers[i];\n",
       "                    child.style.background=\"#fafafa\";\n",
       "                }\n",
       "                var feedback = document.getElementById(\"nhTzlutyhSCJ\");\n",
       "                feedback.innerHTML=event.srcElement.dataset.feedback;\n",
       "                if (event.srcElement.dataset.correct==\"True\")   {\n",
       "                    event.srcElement.style.background=\"#d8ffc4\";\n",
       "                    feedback.style.color=\"#009113\";\n",
       "                } else {\n",
       "                    event.srcElement.style.background=\"#ffe8e8\";\n",
       "                    feedback.style.color=\"#DC2329\";\n",
       "                }\n",
       "\n",
       "\n",
       "\n",
       "\n",
       "            }\n",
       "\n",
       "        </script>\n",
       "        "
      ],
      "text/plain": [
       "<IPython.core.display.HTML object>"
      ]
     },
     "metadata": {},
     "output_type": "display_data"
    },
    {
     "data": {
      "text/html": [
       "<div id=\"quizWrap\" style=\"max-width: 600px; margin: 0 auto;\">\n",
       "      <!-- QUESTION -->\n",
       "      <div id=\"quizQn\" style=\"padding: 20px;\n",
       "      background: #6F78FF;\n",
       "      color: #fff;\n",
       "      font-size: 20px;\n",
       "      border-radius: 10px;\">\n",
       "      Determine the relative frequency of the outcome 3 in the following data set:\n",
       "\n",
       "2,3,5,2,3</div>\n",
       "      <!-- ANSWER -->\n",
       "      <div id=\"quizAns\" style=\"margin: 10px 0;\n",
       "      display: grid;\n",
       "      grid-template-columns: auto auto;\n",
       "      grid-gap: 10px;\">\n",
       "      <input type=\"radio\" name=\"quiz\" id=\"quizo0\" style=\"display:none;\" ><label style=\"background: #fafafa;\n",
       "      border: 1px solid #eee;  border-radius: 10px; padding: 10px;\n",
       "      font-size: 16px; cursor: pointer; text-align: center;\" \n",
       "      onclick=\"checkJzLDfIUBzqIa()\" \n",
       "      id=\"quizo0\" data-correct=\"False\" data-feedback=\"Relative frequency is the proportion of experiments in which an outcome occurs. It is always between 0 and 1.\" data-answered=0>2  </label><input type=\"radio\" name=\"quiz\" id=\"quizo1\" style=\"display:none;\" ><label style=\"background: #fafafa;\n",
       "      border: 1px solid #eee;  border-radius: 10px; padding: 10px;\n",
       "      font-size: 16px; cursor: pointer; text-align: center;\" \n",
       "      onclick=\"checkJzLDfIUBzqIa()\" \n",
       "      id=\"quizo1\" data-correct=\"False\" data-feedback=\"Relative frequency is the proportion of experiments in which an outcome occurs. Count the number of times that outcome 3 occurred and divide by the total number of experiments.\" data-answered=0>0.6  </label><input type=\"radio\" name=\"quiz\" id=\"quizo2\" style=\"display:none;\" ><label style=\"background: #fafafa;\n",
       "      border: 1px solid #eee;  border-radius: 10px; padding: 10px;\n",
       "      font-size: 16px; cursor: pointer; text-align: center;\" \n",
       "      onclick=\"checkJzLDfIUBzqIa()\" \n",
       "      id=\"quizo2\" data-correct=\"True\" data-feedback=\"Correct! The outcome 3 occurred 2 times out of 5 experiments, so the relative frequency is 2/5=0.4.\" data-answered=0>0.4  </label><input type=\"radio\" name=\"quiz\" id=\"quizo3\" style=\"display:none;\" ><label style=\"background: #fafafa;\n",
       "      border: 1px solid #eee;  border-radius: 10px; padding: 10px;\n",
       "      font-size: 16px; cursor: pointer; text-align: center;\" \n",
       "      onclick=\"checkJzLDfIUBzqIa()\" \n",
       "      id=\"quizo3\" data-correct=\"False\" data-feedback=\"Relative frequency is the proportion of experiments in which an outcome occurs. Since 3 occured, that proportion will not be 0.\" data-answered=0>0  </label>  </div></div>\n",
       "    <div id=\"JzLDfIUBzqIa\" style=\"font-size: 20px;text-align:center;padding-bottom: 30px\" data-answeredcorrect=0 data-numcorrect=1></div>\n",
       "        <script type=\"text/Javascript\">\n",
       "\n",
       "        function checkJzLDfIUBzqIa(){\n",
       "\n",
       "                console.log(event.srcElement.id)           \n",
       "                console.log(event.srcElement.dataset.correct)   \n",
       "                console.log(event.srcElement.dataset.feedback)\n",
       "\n",
       "                answers= event.srcElement.parentElement.children;\n",
       "                console.log(answers);\n",
       "\n",
       "                for (var i = 0; i < answers.length; i++) {\n",
       "                    child=answers[i];\n",
       "                    child.style.background=\"#fafafa\";\n",
       "                }\n",
       "                var feedback = document.getElementById(\"JzLDfIUBzqIa\");\n",
       "                feedback.innerHTML=event.srcElement.dataset.feedback;\n",
       "                if (event.srcElement.dataset.correct==\"True\")   {\n",
       "                    event.srcElement.style.background=\"#d8ffc4\";\n",
       "                    feedback.style.color=\"#009113\";\n",
       "                } else {\n",
       "                    event.srcElement.style.background=\"#ffe8e8\";\n",
       "                    feedback.style.color=\"#DC2329\";\n",
       "                }\n",
       "\n",
       "\n",
       "\n",
       "\n",
       "            }\n",
       "\n",
       "        </script>\n",
       "        "
      ],
      "text/plain": [
       "<IPython.core.display.HTML object>"
      ]
     },
     "metadata": {},
     "output_type": "display_data"
    }
   ],
   "source": [
    "for question in questions:\n",
    "    display_quiz(question)"
   ]
  },
  {
   "cell_type": "code",
   "execution_count": 11,
   "metadata": {},
   "outputs": [
    {
     "data": {
      "text/plain": [
       "dict"
      ]
     },
     "execution_count": 11,
     "metadata": {},
     "output_type": "execute_result"
    }
   ],
   "source": [
    "type(question)"
   ]
  },
  {
   "cell_type": "code",
   "execution_count": 12,
   "metadata": {},
   "outputs": [],
   "source": [
    "import random"
   ]
  },
  {
   "cell_type": "code",
   "execution_count": 13,
   "metadata": {},
   "outputs": [
    {
     "data": {
      "text/plain": [
       "[{'question': 'Which of these cannot be a probability?',\n",
       "  'type': 'multiple_choice',\n",
       "  'answers': [{'answer': '-0.5',\n",
       "    'correct': True,\n",
       "    'feedback': 'Correct! Probabilities must be numbers between 0 and 1.'},\n",
       "   {'answer': '1',\n",
       "    'correct': False,\n",
       "    'feedback': 'This is a number between 0 and 1, so it can be probability.'},\n",
       "   {'answer': '0.5',\n",
       "    'correct': False,\n",
       "    'feedback': 'This is a number between 0 and 1, so it can be probability.'},\n",
       "   {'answer': '0',\n",
       "    'correct': False,\n",
       "    'feedback': 'This is a number between 0 and 1, so it can be probability.'}]},\n",
       " {'question': 'Determine the relative frequency of the outcome 3 in the following data set:\\n\\n2,3,5,2,3',\n",
       "  'type': 'multiple_choice',\n",
       "  'answers': [{'answer': '2',\n",
       "    'correct': False,\n",
       "    'feedback': 'Relative frequency is the proportion of experiments in which an outcome occurs. It is always between 0 and 1.'},\n",
       "   {'answer': '0.6',\n",
       "    'correct': False,\n",
       "    'feedback': 'Relative frequency is the proportion of experiments in which an outcome occurs. Count the number of times that outcome 3 occurred and divide by the total number of experiments.'},\n",
       "   {'answer': '0.4',\n",
       "    'correct': True,\n",
       "    'feedback': 'Correct! The outcome 3 occurred 2 times out of 5 experiments, so the relative frequency is 2/5=0.4.'},\n",
       "   {'answer': '0',\n",
       "    'correct': False,\n",
       "    'feedback': 'Relative frequency is the proportion of experiments in which an outcome occurs. Since 3 occured, that proportion will not be 0.'}]}]"
      ]
     },
     "execution_count": 13,
     "metadata": {},
     "output_type": "execute_result"
    }
   ],
   "source": [
    "\n",
    "random.sample(questions, k=2)"
   ]
  },
  {
   "cell_type": "code",
   "execution_count": 14,
   "metadata": {},
   "outputs": [
    {
     "data": {
      "text/plain": [
       "2"
      ]
     },
     "execution_count": 14,
     "metadata": {},
     "output_type": "execute_result"
    }
   ],
   "source": [
    "len(questions)"
   ]
  },
  {
   "cell_type": "code",
   "execution_count": 15,
   "metadata": {},
   "outputs": [
    {
     "data": {
      "text/plain": [
       "[{'question': 'Which of these cannot be a probability?',\n",
       "  'type': 'multiple_choice',\n",
       "  'answers': [{'answer': '-0.5',\n",
       "    'correct': True,\n",
       "    'feedback': 'Correct! Probabilities must be numbers between 0 and 1.'},\n",
       "   {'answer': '1',\n",
       "    'correct': False,\n",
       "    'feedback': 'This is a number between 0 and 1, so it can be probability.'},\n",
       "   {'answer': '0.5',\n",
       "    'correct': False,\n",
       "    'feedback': 'This is a number between 0 and 1, so it can be probability.'},\n",
       "   {'answer': '0',\n",
       "    'correct': False,\n",
       "    'feedback': 'This is a number between 0 and 1, so it can be probability.'}]},\n",
       " {'question': 'Determine the relative frequency of the outcome 3 in the following data set:\\n\\n2,3,5,2,3',\n",
       "  'type': 'multiple_choice',\n",
       "  'answers': [{'answer': '2',\n",
       "    'correct': False,\n",
       "    'feedback': 'Relative frequency is the proportion of experiments in which an outcome occurs. It is always between 0 and 1.'},\n",
       "   {'answer': '0.6',\n",
       "    'correct': False,\n",
       "    'feedback': 'Relative frequency is the proportion of experiments in which an outcome occurs. Count the number of times that outcome 3 occurred and divide by the total number of experiments.'},\n",
       "   {'answer': '0.4',\n",
       "    'correct': True,\n",
       "    'feedback': 'Correct! The outcome 3 occurred 2 times out of 5 experiments, so the relative frequency is 2/5=0.4.'},\n",
       "   {'answer': '0',\n",
       "    'correct': False,\n",
       "    'feedback': 'Relative frequency is the proportion of experiments in which an outcome occurs. Since 3 occured, that proportion will not be 0.'}]}]"
      ]
     },
     "execution_count": 15,
     "metadata": {},
     "output_type": "execute_result"
    }
   ],
   "source": [
    "questions"
   ]
  },
  {
   "cell_type": "code",
   "execution_count": 16,
   "metadata": {},
   "outputs": [
    {
     "data": {
      "text/plain": [
       "[{'question': 'Which of these cannot be a probability?',\n",
       "  'type': 'multiple_choice',\n",
       "  'answers': [{'answer': '-0.5',\n",
       "    'correct': True,\n",
       "    'feedback': 'Correct! Probabilities must be numbers between 0 and 1.'},\n",
       "   {'answer': '1',\n",
       "    'correct': False,\n",
       "    'feedback': 'This is a number between 0 and 1, so it can be probability.'},\n",
       "   {'answer': '0.5',\n",
       "    'correct': False,\n",
       "    'feedback': 'This is a number between 0 and 1, so it can be probability.'},\n",
       "   {'answer': '0',\n",
       "    'correct': False,\n",
       "    'feedback': 'This is a number between 0 and 1, so it can be probability.'}]},\n",
       " {'question': 'Determine the relative frequency of the outcome 3 in the following data set:\\n\\n2,3,5,2,3',\n",
       "  'type': 'multiple_choice',\n",
       "  'answers': [{'answer': '2',\n",
       "    'correct': False,\n",
       "    'feedback': 'Relative frequency is the proportion of experiments in which an outcome occurs. It is always between 0 and 1.'},\n",
       "   {'answer': '0.6',\n",
       "    'correct': False,\n",
       "    'feedback': 'Relative frequency is the proportion of experiments in which an outcome occurs. Count the number of times that outcome 3 occurred and divide by the total number of experiments.'},\n",
       "   {'answer': '0.4',\n",
       "    'correct': True,\n",
       "    'feedback': 'Correct! The outcome 3 occurred 2 times out of 5 experiments, so the relative frequency is 2/5=0.4.'},\n",
       "   {'answer': '0',\n",
       "    'correct': False,\n",
       "    'feedback': 'Relative frequency is the proportion of experiments in which an outcome occurs. Since 3 occured, that proportion will not be 0.'}]}]"
      ]
     },
     "execution_count": 16,
     "metadata": {},
     "output_type": "execute_result"
    }
   ],
   "source": [
    "questions=random.sample(questions,2)\n",
    "questions"
   ]
  },
  {
   "cell_type": "code",
   "execution_count": 21,
   "metadata": {},
   "outputs": [
    {
     "data": {
      "text/html": [
       "<div id=\"quizWrap\" style=\"max-width: 600px; margin: 0 auto;\">\n",
       "      <!-- QUESTION -->\n",
       "      <div id=\"quizQn\" style=\"padding: 20px;\n",
       "      background: #6F78FF;\n",
       "      color: #fff;\n",
       "      font-size: 20px;\n",
       "      border-radius: 10px;\">\n",
       "      Which of these cannot be a probability?</div>\n",
       "      <!-- ANSWER -->\n",
       "      <div id=\"quizAns\" style=\"margin: 10px 0;\n",
       "      display: grid;\n",
       "      grid-template-columns: auto auto;\n",
       "      grid-gap: 10px;\">\n",
       "      <input type=\"radio\" name=\"quiz\" id=\"quizo0\" style=\"display:none;\" ><label style=\"background: #fafafa;\n",
       "      border: 1px solid #eee;  border-radius: 10px; padding: 10px;\n",
       "      font-size: 16px; cursor: pointer; text-align: center;\" \n",
       "      onclick=\"checkeMbVYIBcxfkQ()\" \n",
       "      id=\"quizo0\" data-correct=\"False\" data-feedback=\"This is a number between 0 and 1, so it can be probability.\" data-answered=0>0  </label><input type=\"radio\" name=\"quiz\" id=\"quizo1\" style=\"display:none;\" ><label style=\"background: #fafafa;\n",
       "      border: 1px solid #eee;  border-radius: 10px; padding: 10px;\n",
       "      font-size: 16px; cursor: pointer; text-align: center;\" \n",
       "      onclick=\"checkeMbVYIBcxfkQ()\" \n",
       "      id=\"quizo1\" data-correct=\"False\" data-feedback=\"This is a number between 0 and 1, so it can be probability.\" data-answered=0>0.5  </label><input type=\"radio\" name=\"quiz\" id=\"quizo2\" style=\"display:none;\" ><label style=\"background: #fafafa;\n",
       "      border: 1px solid #eee;  border-radius: 10px; padding: 10px;\n",
       "      font-size: 16px; cursor: pointer; text-align: center;\" \n",
       "      onclick=\"checkeMbVYIBcxfkQ()\" \n",
       "      id=\"quizo2\" data-correct=\"False\" data-feedback=\"This is a number between 0 and 1, so it can be probability.\" data-answered=0>1  </label><input type=\"radio\" name=\"quiz\" id=\"quizo3\" style=\"display:none;\" ><label style=\"background: #fafafa;\n",
       "      border: 1px solid #eee;  border-radius: 10px; padding: 10px;\n",
       "      font-size: 16px; cursor: pointer; text-align: center;\" \n",
       "      onclick=\"checkeMbVYIBcxfkQ()\" \n",
       "      id=\"quizo3\" data-correct=\"True\" data-feedback=\"Correct! Probabilities must be numbers between 0 and 1.\" data-answered=0>-0.5  </label>  </div></div>\n",
       "    <div id=\"eMbVYIBcxfkQ\" style=\"font-size: 20px;text-align:center;padding-bottom: 30px\" data-answeredcorrect=0 data-numcorrect=1></div>\n",
       "        <script type=\"text/Javascript\">\n",
       "\n",
       "        function checkeMbVYIBcxfkQ(){\n",
       "\n",
       "                console.log(event.srcElement.id)           \n",
       "                console.log(event.srcElement.dataset.correct)   \n",
       "                console.log(event.srcElement.dataset.feedback)\n",
       "\n",
       "                answers= event.srcElement.parentElement.children;\n",
       "                console.log(answers);\n",
       "\n",
       "                for (var i = 0; i < answers.length; i++) {\n",
       "                    child=answers[i];\n",
       "                    child.style.background=\"#fafafa\";\n",
       "                }\n",
       "                var feedback = document.getElementById(\"eMbVYIBcxfkQ\");\n",
       "                feedback.innerHTML=event.srcElement.dataset.feedback;\n",
       "                if (event.srcElement.dataset.correct==\"True\")   {\n",
       "                    event.srcElement.style.background=\"#d8ffc4\";\n",
       "                    feedback.style.color=\"#009113\";\n",
       "                } else {\n",
       "                    event.srcElement.style.background=\"#ffe8e8\";\n",
       "                    feedback.style.color=\"#DC2329\";\n",
       "                }\n",
       "\n",
       "\n",
       "\n",
       "\n",
       "            }\n",
       "\n",
       "        </script>\n",
       "        "
      ],
      "text/plain": [
       "<IPython.core.display.HTML object>"
      ]
     },
     "metadata": {},
     "output_type": "display_data"
    },
    {
     "data": {
      "text/html": [
       "<div id=\"quizWrap\" style=\"max-width: 600px; margin: 0 auto;\">\n",
       "      <!-- QUESTION -->\n",
       "      <div id=\"quizQn\" style=\"padding: 20px;\n",
       "      background: #6F78FF;\n",
       "      color: #fff;\n",
       "      font-size: 20px;\n",
       "      border-radius: 10px;\">\n",
       "      Determine the relative frequency of the outcome 3 in the following data set:\n",
       "\n",
       "2,3,5,2,3</div>\n",
       "      <!-- ANSWER -->\n",
       "      <div id=\"quizAns\" style=\"margin: 10px 0;\n",
       "      display: grid;\n",
       "      grid-template-columns: auto auto;\n",
       "      grid-gap: 10px;\">\n",
       "      <input type=\"radio\" name=\"quiz\" id=\"quizo0\" style=\"display:none;\" ><label style=\"background: #fafafa;\n",
       "      border: 1px solid #eee;  border-radius: 10px; padding: 10px;\n",
       "      font-size: 16px; cursor: pointer; text-align: center;\" \n",
       "      onclick=\"checkEHVaBzZxPFBQ()\" \n",
       "      id=\"quizo0\" data-correct=\"True\" data-feedback=\"Correct! The outcome 3 occurred 2 times out of 5 experiments, so the relative frequency is 2/5=0.4.\" data-answered=0>0.4  </label><input type=\"radio\" name=\"quiz\" id=\"quizo1\" style=\"display:none;\" ><label style=\"background: #fafafa;\n",
       "      border: 1px solid #eee;  border-radius: 10px; padding: 10px;\n",
       "      font-size: 16px; cursor: pointer; text-align: center;\" \n",
       "      onclick=\"checkEHVaBzZxPFBQ()\" \n",
       "      id=\"quizo1\" data-correct=\"False\" data-feedback=\"Relative frequency is the proportion of experiments in which an outcome occurs. It is always between 0 and 1.\" data-answered=0>2  </label><input type=\"radio\" name=\"quiz\" id=\"quizo2\" style=\"display:none;\" ><label style=\"background: #fafafa;\n",
       "      border: 1px solid #eee;  border-radius: 10px; padding: 10px;\n",
       "      font-size: 16px; cursor: pointer; text-align: center;\" \n",
       "      onclick=\"checkEHVaBzZxPFBQ()\" \n",
       "      id=\"quizo2\" data-correct=\"False\" data-feedback=\"Relative frequency is the proportion of experiments in which an outcome occurs. Count the number of times that outcome 3 occurred and divide by the total number of experiments.\" data-answered=0>0.6  </label><input type=\"radio\" name=\"quiz\" id=\"quizo3\" style=\"display:none;\" ><label style=\"background: #fafafa;\n",
       "      border: 1px solid #eee;  border-radius: 10px; padding: 10px;\n",
       "      font-size: 16px; cursor: pointer; text-align: center;\" \n",
       "      onclick=\"checkEHVaBzZxPFBQ()\" \n",
       "      id=\"quizo3\" data-correct=\"False\" data-feedback=\"Relative frequency is the proportion of experiments in which an outcome occurs. Since 3 occured, that proportion will not be 0.\" data-answered=0>0  </label>  </div></div>\n",
       "    <div id=\"EHVaBzZxPFBQ\" style=\"font-size: 20px;text-align:center;padding-bottom: 30px\" data-answeredcorrect=0 data-numcorrect=1></div>\n",
       "        <script type=\"text/Javascript\">\n",
       "\n",
       "        function checkEHVaBzZxPFBQ(){\n",
       "\n",
       "                console.log(event.srcElement.id)           \n",
       "                console.log(event.srcElement.dataset.correct)   \n",
       "                console.log(event.srcElement.dataset.feedback)\n",
       "\n",
       "                answers= event.srcElement.parentElement.children;\n",
       "                console.log(answers);\n",
       "\n",
       "                for (var i = 0; i < answers.length; i++) {\n",
       "                    child=answers[i];\n",
       "                    child.style.background=\"#fafafa\";\n",
       "                }\n",
       "                var feedback = document.getElementById(\"EHVaBzZxPFBQ\");\n",
       "                feedback.innerHTML=event.srcElement.dataset.feedback;\n",
       "                if (event.srcElement.dataset.correct==\"True\")   {\n",
       "                    event.srcElement.style.background=\"#d8ffc4\";\n",
       "                    feedback.style.color=\"#009113\";\n",
       "                } else {\n",
       "                    event.srcElement.style.background=\"#ffe8e8\";\n",
       "                    feedback.style.color=\"#DC2329\";\n",
       "                }\n",
       "\n",
       "\n",
       "\n",
       "\n",
       "            }\n",
       "\n",
       "        </script>\n",
       "        "
      ],
      "text/plain": [
       "<IPython.core.display.HTML object>"
      ]
     },
     "metadata": {},
     "output_type": "display_data"
    }
   ],
   "source": [
    "from quizlet import display_multiple\n",
    "display_multiple(questions)"
   ]
  },
  {
   "cell_type": "code",
   "execution_count": 27,
   "metadata": {},
   "outputs": [
    {
     "data": {
      "text/html": [
       "<div id=\"quizWrap\" style=\"max-width: 600px; margin: 0 auto;\">\n",
       "      <!-- QUESTION -->\n",
       "      <div id=\"quizQn\" style=\"padding: 20px;\n",
       "      background: #6F78FF;\n",
       "      color: #fff;\n",
       "      font-size: 20px;\n",
       "      border-radius: 10px;\">\n",
       "      Determine the relative frequency of the outcome 3 in the following data set:\n",
       "\n",
       "2,3,5,2,3</div>\n",
       "      <!-- ANSWER -->\n",
       "      <div id=\"quizAns\" style=\"margin: 10px 0;\n",
       "      display: grid;\n",
       "      grid-template-columns: auto auto;\n",
       "      grid-gap: 10px;\">\n",
       "      <input type=\"radio\" name=\"quiz\" id=\"quizo0\" style=\"display:none;\" ><label style=\"background: #fafafa;\n",
       "      border: 1px solid #eee;  border-radius: 10px; padding: 10px;\n",
       "      font-size: 16px; cursor: pointer; text-align: center;\" \n",
       "      onclick=\"checkqkNeloOzygRU()\" \n",
       "      id=\"quizo0\" data-correct=\"False\" data-feedback=\"Relative frequency is the proportion of experiments in which an outcome occurs. It is always between 0 and 1.\" data-answered=0>2  </label><input type=\"radio\" name=\"quiz\" id=\"quizo1\" style=\"display:none;\" ><label style=\"background: #fafafa;\n",
       "      border: 1px solid #eee;  border-radius: 10px; padding: 10px;\n",
       "      font-size: 16px; cursor: pointer; text-align: center;\" \n",
       "      onclick=\"checkqkNeloOzygRU()\" \n",
       "      id=\"quizo1\" data-correct=\"True\" data-feedback=\"Correct! The outcome 3 occurred 2 times out of 5 experiments, so the relative frequency is 2/5=0.4.\" data-answered=0>0.4  </label><input type=\"radio\" name=\"quiz\" id=\"quizo2\" style=\"display:none;\" ><label style=\"background: #fafafa;\n",
       "      border: 1px solid #eee;  border-radius: 10px; padding: 10px;\n",
       "      font-size: 16px; cursor: pointer; text-align: center;\" \n",
       "      onclick=\"checkqkNeloOzygRU()\" \n",
       "      id=\"quizo2\" data-correct=\"False\" data-feedback=\"Relative frequency is the proportion of experiments in which an outcome occurs. Count the number of times that outcome 3 occurred and divide by the total number of experiments.\" data-answered=0>0.6  </label><input type=\"radio\" name=\"quiz\" id=\"quizo3\" style=\"display:none;\" ><label style=\"background: #fafafa;\n",
       "      border: 1px solid #eee;  border-radius: 10px; padding: 10px;\n",
       "      font-size: 16px; cursor: pointer; text-align: center;\" \n",
       "      onclick=\"checkqkNeloOzygRU()\" \n",
       "      id=\"quizo3\" data-correct=\"False\" data-feedback=\"Relative frequency is the proportion of experiments in which an outcome occurs. Since 3 occured, that proportion will not be 0.\" data-answered=0>0  </label>  </div></div>\n",
       "    <div id=\"qkNeloOzygRU\" style=\"font-size: 20px;text-align:center;padding-bottom: 30px\" data-answeredcorrect=0 data-numcorrect=1></div>\n",
       "        <script type=\"text/Javascript\">\n",
       "\n",
       "        function checkqkNeloOzygRU(){\n",
       "\n",
       "                console.log(event.srcElement.id)           \n",
       "                console.log(event.srcElement.dataset.correct)   \n",
       "                console.log(event.srcElement.dataset.feedback)\n",
       "\n",
       "                answers= event.srcElement.parentElement.children;\n",
       "                console.log(answers);\n",
       "\n",
       "                for (var i = 0; i < answers.length; i++) {\n",
       "                    child=answers[i];\n",
       "                    child.style.background=\"#fafafa\";\n",
       "                }\n",
       "                var feedback = document.getElementById(\"qkNeloOzygRU\");\n",
       "                feedback.innerHTML=event.srcElement.dataset.feedback;\n",
       "                if (event.srcElement.dataset.correct==\"True\")   {\n",
       "                    event.srcElement.style.background=\"#d8ffc4\";\n",
       "                    feedback.style.color=\"#009113\";\n",
       "                } else {\n",
       "                    event.srcElement.style.background=\"#ffe8e8\";\n",
       "                    feedback.style.color=\"#DC2329\";\n",
       "                }\n",
       "\n",
       "\n",
       "\n",
       "\n",
       "            }\n",
       "\n",
       "        </script>\n",
       "        "
      ],
      "text/plain": [
       "<IPython.core.display.HTML object>"
      ]
     },
     "metadata": {},
     "output_type": "display_data"
    },
    {
     "data": {
      "text/html": [
       "<div id=\"quizWrap\" style=\"max-width: 600px; margin: 0 auto;\">\n",
       "      <!-- QUESTION -->\n",
       "      <div id=\"quizQn\" style=\"padding: 20px;\n",
       "      background: #6F78FF;\n",
       "      color: #fff;\n",
       "      font-size: 20px;\n",
       "      border-radius: 10px;\">\n",
       "      Which of these cannot be a probability?</div>\n",
       "      <!-- ANSWER -->\n",
       "      <div id=\"quizAns\" style=\"margin: 10px 0;\n",
       "      display: grid;\n",
       "      grid-template-columns: auto auto;\n",
       "      grid-gap: 10px;\">\n",
       "      <input type=\"radio\" name=\"quiz\" id=\"quizo0\" style=\"display:none;\" ><label style=\"background: #fafafa;\n",
       "      border: 1px solid #eee;  border-radius: 10px; padding: 10px;\n",
       "      font-size: 16px; cursor: pointer; text-align: center;\" \n",
       "      onclick=\"checkHYiKJOiCjyzC()\" \n",
       "      id=\"quizo0\" data-correct=\"False\" data-feedback=\"This is a number between 0 and 1, so it can be probability.\" data-answered=0>0.5  </label><input type=\"radio\" name=\"quiz\" id=\"quizo1\" style=\"display:none;\" ><label style=\"background: #fafafa;\n",
       "      border: 1px solid #eee;  border-radius: 10px; padding: 10px;\n",
       "      font-size: 16px; cursor: pointer; text-align: center;\" \n",
       "      onclick=\"checkHYiKJOiCjyzC()\" \n",
       "      id=\"quizo1\" data-correct=\"True\" data-feedback=\"Correct! Probabilities must be numbers between 0 and 1.\" data-answered=0>-0.5  </label><input type=\"radio\" name=\"quiz\" id=\"quizo2\" style=\"display:none;\" ><label style=\"background: #fafafa;\n",
       "      border: 1px solid #eee;  border-radius: 10px; padding: 10px;\n",
       "      font-size: 16px; cursor: pointer; text-align: center;\" \n",
       "      onclick=\"checkHYiKJOiCjyzC()\" \n",
       "      id=\"quizo2\" data-correct=\"False\" data-feedback=\"This is a number between 0 and 1, so it can be probability.\" data-answered=0>1  </label><input type=\"radio\" name=\"quiz\" id=\"quizo3\" style=\"display:none;\" ><label style=\"background: #fafafa;\n",
       "      border: 1px solid #eee;  border-radius: 10px; padding: 10px;\n",
       "      font-size: 16px; cursor: pointer; text-align: center;\" \n",
       "      onclick=\"checkHYiKJOiCjyzC()\" \n",
       "      id=\"quizo3\" data-correct=\"False\" data-feedback=\"This is a number between 0 and 1, so it can be probability.\" data-answered=0>0  </label>  </div></div>\n",
       "    <div id=\"HYiKJOiCjyzC\" style=\"font-size: 20px;text-align:center;padding-bottom: 30px\" data-answeredcorrect=0 data-numcorrect=1></div>\n",
       "        <script type=\"text/Javascript\">\n",
       "\n",
       "        function checkHYiKJOiCjyzC(){\n",
       "\n",
       "                console.log(event.srcElement.id)           \n",
       "                console.log(event.srcElement.dataset.correct)   \n",
       "                console.log(event.srcElement.dataset.feedback)\n",
       "\n",
       "                answers= event.srcElement.parentElement.children;\n",
       "                console.log(answers);\n",
       "\n",
       "                for (var i = 0; i < answers.length; i++) {\n",
       "                    child=answers[i];\n",
       "                    child.style.background=\"#fafafa\";\n",
       "                }\n",
       "                var feedback = document.getElementById(\"HYiKJOiCjyzC\");\n",
       "                feedback.innerHTML=event.srcElement.dataset.feedback;\n",
       "                if (event.srcElement.dataset.correct==\"True\")   {\n",
       "                    event.srcElement.style.background=\"#d8ffc4\";\n",
       "                    feedback.style.color=\"#009113\";\n",
       "                } else {\n",
       "                    event.srcElement.style.background=\"#ffe8e8\";\n",
       "                    feedback.style.color=\"#DC2329\";\n",
       "                }\n",
       "\n",
       "\n",
       "\n",
       "\n",
       "            }\n",
       "\n",
       "        </script>\n",
       "        "
      ],
      "text/plain": [
       "<IPython.core.display.HTML object>"
      ]
     },
     "metadata": {},
     "output_type": "display_data"
    }
   ],
   "source": [
    "display_multiple(questions, shuffle=True)"
   ]
  },
  {
   "cell_type": "code",
   "execution_count": 36,
   "metadata": {},
   "outputs": [
    {
     "data": {
      "text/html": [
       "<div id=\"quizWrap\" style=\"max-width: 600px; margin: 0 auto;\">\n",
       "      <!-- QUESTION -->\n",
       "      <div id=\"quizQn\" style=\"padding: 20px;\n",
       "      background: #6F78FF;\n",
       "      color: #fff;\n",
       "      font-size: 20px;\n",
       "      border-radius: 10px;\">\n",
       "      Which of these cannot be a probability?</div>\n",
       "      <!-- ANSWER -->\n",
       "      <div id=\"quizAns\" style=\"margin: 10px 0;\n",
       "      display: grid;\n",
       "      grid-template-columns: auto auto;\n",
       "      grid-gap: 10px;\">\n",
       "      <input type=\"radio\" name=\"quiz\" id=\"quizo0\" style=\"display:none;\" ><label style=\"background: #fafafa;\n",
       "      border: 1px solid #eee;  border-radius: 10px; padding: 10px;\n",
       "      font-size: 16px; cursor: pointer; text-align: center;\" \n",
       "      onclick=\"checkJShWxSBYRBei()\" \n",
       "      id=\"quizo0\" data-correct=\"False\" data-feedback=\"This is a number between 0 and 1, so it can be probability.\" data-answered=0>1  </label><input type=\"radio\" name=\"quiz\" id=\"quizo1\" style=\"display:none;\" ><label style=\"background: #fafafa;\n",
       "      border: 1px solid #eee;  border-radius: 10px; padding: 10px;\n",
       "      font-size: 16px; cursor: pointer; text-align: center;\" \n",
       "      onclick=\"checkJShWxSBYRBei()\" \n",
       "      id=\"quizo1\" data-correct=\"True\" data-feedback=\"Correct! Probabilities must be numbers between 0 and 1.\" data-answered=0>-0.5  </label><input type=\"radio\" name=\"quiz\" id=\"quizo2\" style=\"display:none;\" ><label style=\"background: #fafafa;\n",
       "      border: 1px solid #eee;  border-radius: 10px; padding: 10px;\n",
       "      font-size: 16px; cursor: pointer; text-align: center;\" \n",
       "      onclick=\"checkJShWxSBYRBei()\" \n",
       "      id=\"quizo2\" data-correct=\"False\" data-feedback=\"This is a number between 0 and 1, so it can be probability.\" data-answered=0>0.5  </label><input type=\"radio\" name=\"quiz\" id=\"quizo3\" style=\"display:none;\" ><label style=\"background: #fafafa;\n",
       "      border: 1px solid #eee;  border-radius: 10px; padding: 10px;\n",
       "      font-size: 16px; cursor: pointer; text-align: center;\" \n",
       "      onclick=\"checkJShWxSBYRBei()\" \n",
       "      id=\"quizo3\" data-correct=\"False\" data-feedback=\"This is a number between 0 and 1, so it can be probability.\" data-answered=0>0  </label>  </div></div>\n",
       "    <div id=\"JShWxSBYRBei\" style=\"font-size: 20px;text-align:center;padding-bottom: 30px\" data-answeredcorrect=0 data-numcorrect=1></div>\n",
       "        <script type=\"text/Javascript\">\n",
       "\n",
       "        function checkJShWxSBYRBei(){\n",
       "\n",
       "                console.log(event.srcElement.id)           \n",
       "                console.log(event.srcElement.dataset.correct)   \n",
       "                console.log(event.srcElement.dataset.feedback)\n",
       "\n",
       "                answers= event.srcElement.parentElement.children;\n",
       "                console.log(answers);\n",
       "\n",
       "                for (var i = 0; i < answers.length; i++) {\n",
       "                    child=answers[i];\n",
       "                    child.style.background=\"#fafafa\";\n",
       "                }\n",
       "                var feedback = document.getElementById(\"JShWxSBYRBei\");\n",
       "                feedback.innerHTML=event.srcElement.dataset.feedback;\n",
       "                if (event.srcElement.dataset.correct==\"True\")   {\n",
       "                    event.srcElement.style.background=\"#d8ffc4\";\n",
       "                    feedback.style.color=\"#009113\";\n",
       "                } else {\n",
       "                    event.srcElement.style.background=\"#ffe8e8\";\n",
       "                    feedback.style.color=\"#DC2329\";\n",
       "                }\n",
       "\n",
       "\n",
       "\n",
       "\n",
       "            }\n",
       "\n",
       "        </script>\n",
       "        "
      ],
      "text/plain": [
       "<IPython.core.display.HTML object>"
      ]
     },
     "metadata": {},
     "output_type": "display_data"
    }
   ],
   "source": [
    "display_multiple(questions, 1)"
   ]
  },
  {
   "cell_type": "code",
   "execution_count": null,
   "metadata": {},
   "outputs": [],
   "source": []
  }
 ],
 "metadata": {
  "finalized": {
   "timestamp": 1622215912635,
   "trusted": true
  },
  "kernelspec": {
   "display_name": "Python 3",
   "language": "python",
   "name": "python3"
  },
  "language_info": {
   "codemirror_mode": {
    "name": "ipython",
    "version": 3
   },
   "file_extension": ".py",
   "mimetype": "text/x-python",
   "name": "python",
   "nbconvert_exporter": "python",
   "pygments_lexer": "ipython3",
   "version": "3.7.4"
  }
 },
 "nbformat": 4,
 "nbformat_minor": 4
}
