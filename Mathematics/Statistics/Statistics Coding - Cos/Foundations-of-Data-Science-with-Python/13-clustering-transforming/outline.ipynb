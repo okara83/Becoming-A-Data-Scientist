{
 "cells": [
  {
   "cell_type": "markdown",
   "metadata": {},
   "source": [
    "# Clustering and Transforming Multi-dimensional Data (Outline)\n",
    "## Norms and Distances\n",
    "## Unsupervised Clustering: K-Means Algorithm\n",
    "## Vector Correlation\n",
    "## Spanning Sets and Bases\n",
    "## Universal Representations of Vectors: FFT\n",
    "## Minimal Representations of Vectors: Gram-Schmidt Algorithm\n",
    "## Application of Alternative Bases: Feature Selection\n",
    "## Rotation Matrices and Matrix Multiplication\n",
    "## Review\n",
    "## Summary\n",
    "\n"
   ]
  },
  {
   "cell_type": "code",
   "execution_count": null,
   "metadata": {},
   "outputs": [],
   "source": []
  }
 ],
 "metadata": {
  "kernelspec": {
   "display_name": "Python 3",
   "language": "python",
   "name": "python3"
  },
  "language_info": {
   "codemirror_mode": {
    "name": "ipython",
    "version": 3
   },
   "file_extension": ".py",
   "mimetype": "text/x-python",
   "name": "python",
   "nbconvert_exporter": "python",
   "pygments_lexer": "ipython3",
   "version": "3.7.4"
  }
 },
 "nbformat": 4,
 "nbformat_minor": 4
}
