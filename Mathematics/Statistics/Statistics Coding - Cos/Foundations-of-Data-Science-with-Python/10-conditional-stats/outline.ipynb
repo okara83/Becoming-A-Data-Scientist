{
 "cells": [
  {
   "cell_type": "markdown",
   "metadata": {},
   "source": [
    "# Applications of Conditional Distributions to Statistical Tests (Outline)\n",
    "## Binary Decisions from Continuous Data\n",
    "## ROC Curves and Area Under Curve \n",
    "## Introduction to Optimal Binary Decisions with Continuous Data\n",
    "## Point Conditioning and Implications\n",
    "## ML and MAP Decisions with Continuous Data\n",
    "## Application of Optimal Decision Rules to Binary Communications\n",
    "## Review\n",
    "## Summary\n",
    "\n"
   ]
  },
  {
   "cell_type": "code",
   "execution_count": null,
   "metadata": {},
   "outputs": [],
   "source": []
  }
 ],
 "metadata": {
  "kernelspec": {
   "display_name": "Python 3",
   "language": "python",
   "name": "python3"
  },
  "language_info": {
   "codemirror_mode": {
    "name": "ipython",
    "version": 3
   },
   "file_extension": ".py",
   "mimetype": "text/x-python",
   "name": "python",
   "nbconvert_exporter": "python",
   "pygments_lexer": "ipython3",
   "version": "3.7.4"
  }
 },
 "nbformat": 4,
 "nbformat_minor": 4
}
