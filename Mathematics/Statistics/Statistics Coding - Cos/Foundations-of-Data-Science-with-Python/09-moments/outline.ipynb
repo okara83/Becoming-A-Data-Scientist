{
 "cells": [
  {
   "cell_type": "markdown",
   "metadata": {},
   "source": [
    "# Moments, Parameter Estimation, and Binary Hypothesis Tests on Sample Means (Outline)\n",
    "## Expected Value\n",
    "## Introduction to SymPy for Computerized Calculus\n",
    "## Moments and Properties\n",
    "## Classical Parameter Estimation and Properties of Estimators\n",
    "## Analytical Binary Hypothesis Testing with Sample Means (including t-tests)\n",
    "## Another Look at Sampling Distributions, Bootstrap Distributions, and Confidence Intervals\n",
    "## Review\n",
    "## Summary\n",
    "\n"
   ]
  }
 ],
 "metadata": {
  "kernelspec": {
   "display_name": "Python 3 (ipykernel)",
   "language": "python",
   "name": "python3"
  },
  "language_info": {
   "codemirror_mode": {
    "name": "ipython",
    "version": 3
   },
   "file_extension": ".py",
   "mimetype": "text/x-python",
   "name": "python",
   "nbconvert_exporter": "python",
   "pygments_lexer": "ipython3",
   "version": "3.9.12"
  }
 },
 "nbformat": 4,
 "nbformat_minor": 4
}
