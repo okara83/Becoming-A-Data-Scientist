{
 "cells": [
  {
   "cell_type": "markdown",
   "metadata": {},
   "source": [
    "# Applications of Matrices to Solving Equations, Curve Fitting, and Regression (Outline)\n",
    "## Special Types of Matrices\n",
    "## Matrix Operations and Properties\n",
    "## Writing Systems of Linear Equations Using Matrices and Vectors\n",
    "## Row-Reduced Echelon Form and Gauss-Jordan Elimination\n",
    "## Dependent vs Independent Equations\n",
    "## Matrix Determinant and Properties\n",
    "## Matrix Inverse and Application to Solving Systems of Linear Equations\n",
    "## Orthogonal Matrics, Gram Matrices, and Gram Invertibility \n",
    "## Dual Basis and Vector Representation \n",
    "## Least-Squares Fitting and Matrix Pseudo-Inverse\n",
    "## Regression \n",
    "## Review\n",
    "## Summary\n",
    "\n"
   ]
  },
  {
   "cell_type": "code",
   "execution_count": null,
   "metadata": {},
   "outputs": [],
   "source": []
  }
 ],
 "metadata": {
  "kernelspec": {
   "display_name": "Python 3",
   "language": "python",
   "name": "python3"
  },
  "language_info": {
   "codemirror_mode": {
    "name": "ipython",
    "version": 3
   },
   "file_extension": ".py",
   "mimetype": "text/x-python",
   "name": "python",
   "nbconvert_exporter": "python",
   "pygments_lexer": "ipython3",
   "version": "3.7.4"
  }
 },
 "nbformat": 4,
 "nbformat_minor": 4
}
