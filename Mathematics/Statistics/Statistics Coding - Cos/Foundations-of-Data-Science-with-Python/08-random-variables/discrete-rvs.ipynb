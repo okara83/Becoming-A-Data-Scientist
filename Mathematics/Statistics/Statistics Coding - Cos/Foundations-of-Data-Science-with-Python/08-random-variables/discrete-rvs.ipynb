{
 "cells": [
  {
   "cell_type": "markdown",
   "metadata": {},
   "source": [
    "# Discrete Random Variables\n",
    "\n",
    "As mentioned in {doc}`definition`, we classify random variables based on their range. The reason we do this is that the mathematical tools we use to work such random variables vary depending  on their range. We will start with the easiest type to understand, which is the discrete random variable:\n",
    "\n",
    "````{card}\n",
    "DEFINITION\n",
    "^^^\n",
    "```{glossary}\n",
    "discrete random variable\n",
    "    A random variable is said to be a *discrete random variable* if its range is finite or countably infinite.\n",
    "```\n",
    "````\n",
    "\n",
    "If $X$ is a discrete random variable, then we can find the probability of any subset of its values by summing over them:\n",
    "\n",
    "$$\n",
    "P(X \\in A)  = \\sum_{x \\in A} P(X = x) \\mbox{ if } A \\subset \\operatorname{Range}(X),\n",
    "$$\n",
    "where we have implicity taken advantage of the fact that the sets $\\left\\{ s \\left \\vert X(s) = x \\right. \\right\\}$ are disjoint sets, as discussed in {doc}`definition`.\n",
    "\n",
    "For any Borel set, $B$, we can express $P(B)$ as a finite sum over the values of $X$ that are in $B$ and in the range of $X$, since all other values of $X$ have probability zero:\n",
    "\n",
    "$$\n",
    "P(X \\in B) = \\sum_{x \\in B \\cap \\operatorname{Range}(X)} P(X = x) \\mbox{ if } B \\in \\mathcal{B}.\n",
    "$$\n",
    "\n",
    "Since both $x$ and $P(X=x)$ are real-valued, we define a function called the probability mass function to facilitate calculating these types of probabilities:"
   ]
  },
  {
   "cell_type": "markdown",
   "metadata": {},
   "source": [
    "## Probability Mass Functions\n",
    "\n",
    "````{card}\n",
    "DEFINITION\n",
    "^^^\n",
    "```{glossary}\n",
    "probability mass function (PMF)\n",
    "   For a discrete random variable, $X$, the *probability mass function* of $X$ is the function $p_X(x)$ such that $p_X(x) = \\operatorname{Pr}( X=x)$.\n",
    "```\n",
    "````\n",
    "\n",
    "Note that \n",
    "\n",
    "\\begin{align*}\n",
    "\\sum_{x \\in \\operatorname{Range}(X)} p_X(x) &= P\\left[ X(s) \\in \\operatorname{Range}\\left(X \\right) \\right] \\\\\n",
    "&= P\\left[\\left\\{ s \\left \\vert X(s) \\in \\operatorname{Range}\\left(X \\right) \\right.  \\right\\} \\right] \\\\\n",
    "&= P\\left[ s \\in S \\right] \\\\\n",
    "&=1,\n",
    "\\end{align*}\n",
    "\n",
    "as $x$ ranges over all possible values of $X$, the events $\\left\\{s \\left \\vert X(s)=x \\right. \\right\\}$ are mutually exclusive and form a partition S.\n",
    "\n",
    "When there is no confusion, we will drop the explicit mention of the range of $X$ and just write\n",
    "\\begin{align*}\n",
    "\\sum_{x } p_X(x) &= 1.\n",
    "\\end{align*}\n",
    "Similarly, for any set $A \\in \\operatorname{Range}(X)$, we will write\n",
    "\n",
    "$$\n",
    "P(X\\in A) = \\sum_{x\\in A} p_X(x).\n",
    "$$\n"
   ]
  },
  {
   "cell_type": "markdown",
   "metadata": {},
   "source": [
    "Given a functional definition of a random variable, we can find the probability mass function by:\n",
    "* for each value $x \\in \\operatorname{Range}(X)$, find the set of outcomes for which $X(s)=x$, which we can write as $E_x=\\left\\{ s \\left \\vert X(s) = x \\right. \\right\\}$. Then let $p_X(s) = P(E_x)$.\n",
    "* for each value of $x \\notin \\operatorname{Range}(X)$, let $p_X(s) = 0$.\n",
    "\n",
    "We illustrate this with some examples."
   ]
  },
  {
   "cell_type": "markdown",
   "metadata": {},
   "source": [
    "\n",
    "**Example 1**\n",
    "\n",
    "Find the PMF for a binary RV $X(s)$ from tossing a fair coin.  This was Example 1 in {doc}`definition`. Please refer to that example for the detailed mathematical formulation of the probability space and functional definition of the random variable. Here, I only reproduce the figure, which illustrates the sample space and the mapping of the outcomes to real values by $X(s)$:\n",
    "\n",
    "```{image} figs/binary-rv1.pdf\n",
    ":alt: Image of handwritten versions of X,Y,Z and x,y,z with upper-case letters drawn without serifs and lower-case letters drawn with curly serifs\n",
    ":width: 600px\n",
    "```\n",
    "\n",
    "From this, we see that $\\operatorname{Range}(X) = \\{ 0, 1\\}$. Hence, we calculate:\n",
    "* $p_X(0) = P\\left[ X(s) = 0 \\right] = P (\\{T\\}) = 1/2$, and\n",
    "* $p_X(1) = P\\left[ X(s) = 1 \\right] = P (\\{H\\}) = 1/2$.\n",
    "\n",
    "Then the PMF for $X$ is given by\n",
    "\n",
    "$$\n",
    "p_X(x) = \n",
    "\\begin{cases}\n",
    "\\frac 1 2, & x \\in \\{0,1\\} \\\\\n",
    "0, & \\mbox{o.w.}\n",
    "\\end{cases}.\n",
    "$$\n",
    "\n",
    "**Note that we often abbreviate \"otherwise\" in such formula as \"o.w.\".**"
   ]
  },
  {
   "cell_type": "markdown",
   "metadata": {},
   "source": [
    "When we have a very simple PMF like this, we could implement in Python it for a single value of $x$  using if statements:"
   ]
  },
  {
   "cell_type": "code",
   "execution_count": 1,
   "metadata": {},
   "outputs": [],
   "source": [
    "def p_X1(x):\n",
    "    if x == 0 or x == 1:\n",
    "        return 1/2\n",
    "    else: \n",
    "        return 0"
   ]
  },
  {
   "cell_type": "markdown",
   "metadata": {},
   "source": [
    "However, it is more useful to be able to return probabilities for a whole list or array of input values. We can use  NumPy's `piecewise()` function to provide the appropriate values by conducting these tests on a vector of values (although a single value will also still work). The call signature for `np.piecewise` is\n",
    "\n",
    "`Signature: np.piecewise(x, condlist, funclist, *args, **kw)`\n",
    "\n",
    "The `condlist` is a list of conditions, and the `funclist` is a **corresponding** list of functions. If condition $i$ from `condlist` evaluates as true for an input value, then function $i$ from `funclist` will be used to compute the output vaule. Here is how we can use it in action:"
   ]
  },
  {
   "cell_type": "code",
   "execution_count": 2,
   "metadata": {},
   "outputs": [],
   "source": [
    "import numpy as np\n",
    "def p_X(x):\n",
    "    x = np.array(x).astype(float)\n",
    "    return np.piecewise(x, [x==0, x==1], [0.5, 0.5, 0])"
   ]
  },
  {
   "cell_type": "markdown",
   "metadata": {},
   "source": [
    "Here the line `x = x.astype(float)` is required to ensure that we can return an array of float values, even if the input contains all integers"
   ]
  },
  {
   "cell_type": "markdown",
   "metadata": {},
   "source": [
    "Because PMFs generally only have values at a small subset of the reals, we use a special type of plot in which the nonzero values are drawn as sticks with balls at the values. Because of the shape of these plots, these are often called *lollipop plots*; however, these are called *stem plots* in Matplotlib. (Note that stem and leaf plots are something different). Lets plot the PMF for this random variable. As usual, we begin by importing `matplotlib.pyplot` and setting the plot  backend to render the plots inline in the notebook:"
   ]
  },
  {
   "cell_type": "code",
   "execution_count": 3,
   "metadata": {},
   "outputs": [],
   "source": [
    "import matplotlib.pyplot  as plt\n",
    "%matplotlib inline"
   ]
  },
  {
   "cell_type": "markdown",
   "metadata": {},
   "source": [
    "Now, we put the values of x in a list or vector, and the pmf values in another list or vector and call `plt.stem()`:"
   ]
  },
  {
   "cell_type": "markdown",
   "metadata": {},
   "source": [
    "We can make this much easier to interpret by adjusting the limits of the axes. First, we increase the $x$-axis to help illustrate the the PMF is zero outside the range $[0,1]$.  Because we are plotting over a larger range, we will also evaluate the PMF over a wider range, as shown for `x2` below. Second, we set the $y$-axis lower limit to zero and increase the upper limit so that it is easier to read off the maximum value of 0.5 for the PMF."
   ]
  },
  {
   "cell_type": "code",
   "execution_count": 4,
   "metadata": {},
   "outputs": [
    {
     "data": {
      "image/png": "[encoded data removed]",
      "text/plain": [
       "<Figure size 432x288 with 1 Axes>"
      ]
     },
     "metadata": {
      "needs_background": "light"
     },
     "output_type": "display_data"
    }
   ],
   "source": [
    "x2=[-1, 0, 1, 2]\n",
    "\n",
    "plt.stem(x2, p_X(x2), use_line_collection=True)\n",
    "\n",
    "plt.xlim(-0.5, 1.5)\n",
    "plt.ylim(0, 0.75)\n",
    "\n",
    "plt.xlabel('$x$')\n",
    "plt.ylabel('Probability mass function $p_X(x)$');"
   ]
  },
  {
   "cell_type": "markdown",
   "metadata": {},
   "source": [
    "**Example 2**\n",
    "\n",
    "Find the PMF of the binary RV $Y$ from Example 2 of {doc}`definition` and for which the sample space and functional mapping are illustrated below:\n",
    "\n",
    "```{image} figs/binary-rv2.pdf\n",
    ":alt: \n",
    ":width: 600px\n",
    "```\n",
    "\n",
    "The range of $Y$ is the same as the range of $X$ in Example 1, $\\operatorname{Range}(Y) = \\{0, 1\\}$.  However, the sample space and mapping from outcomes to values of the random variable is different than in Example 1. From the figure, we see that\n",
    "* $p_Y(0) = P\\left[ Y(s) = 0 \\right] = P (\\{TT\\}) = 1/4$, and\n",
    "* $p_Y(1) = P\\left[ Y(s) = 1 \\right] = P (\\{HH, TH, HT \\}) = 3/4$.\n",
    "\n",
    "The PMF for $Y$ is given by\n",
    "\n",
    "$$\n",
    "p_Y(y) = \n",
    "\\begin{cases}\n",
    "\\frac 1 4, & y =0 \\\\\n",
    "\\frac 3 4, & y =1 \\\\\n",
    "0, & \\mbox{o.w.}\n",
    "\\end{cases}.\n",
    "$$"
   ]
  },
  {
   "cell_type": "markdown",
   "metadata": {},
   "source": [
    "Here is an implementation in Python:"
   ]
  },
  {
   "cell_type": "code",
   "execution_count": 5,
   "metadata": {},
   "outputs": [],
   "source": [
    "def p_Y(y):\n",
    "    y = np.array(y).astype(float)\n",
    "    return np.piecewise(y, [y == 0, y == 1], [1/4, 3/4, 0])"
   ]
  },
  {
   "cell_type": "markdown",
   "metadata": {},
   "source": [
    "Here is a plot using the same approach as we did for Example 1:"
   ]
  },
  {
   "cell_type": "code",
   "execution_count": 6,
   "metadata": {},
   "outputs": [
    {
     "data": {
      "image/png": "[encoded data removed]",
      "text/plain": [
       "<Figure size 432x288 with 1 Axes>"
      ]
     },
     "metadata": {
      "needs_background": "light"
     },
     "output_type": "display_data"
    }
   ],
   "source": [
    "y = np.arange(-1, 3)\n",
    "plt.stem(y, p_Y(y), use_line_collection=True)\n",
    "\n",
    "plt.xlim(-0.5, 1.5)\n",
    "plt.ylim(0, 1)\n",
    "\n",
    "plt.xlabel('$y$')\n",
    "plt.ylabel('Probability mass function $p_Y(y)$');"
   ]
  },
  {
   "cell_type": "markdown",
   "metadata": {},
   "source": [
    "**Example 3**\n",
    "\n",
    "Now consider the random variable $Z$ from Example 3 in {doc}`definition`. This random variable is created using the same probability space as the random variable in Example 2, but has a different range, $\\operatorname{Range}(Z) = \\{ 0,1,2\\}$. From the figure, we see that\n",
    "* $p_Z(0) = P\\left[ Z(s) = 0 \\right] = P (\\{TT\\}) = 1/4$, and\n",
    "* $p_Z(1) = P\\left[ Z(s) = 1 \\right] = P (\\{HT, TH\\}) = 1/2$, and\n",
    "* $p_Z(2) = P\\left[ Z(s) = 2 \\right] = P (\\{HH \\}) = 1/4$.\n",
    "\n",
    "Thus, the PMF of $Z$ is\n",
    "$$\n",
    "p_Z(z) = \n",
    "\\begin{cases}\n",
    "\\frac 1 4, & z \\in \\{0,2\\} \\\\\n",
    "\\frac 1 2, & z =1 \\\\\n",
    "0, & \\mbox{o.w.}\n",
    "\\end{cases}.\n",
    "$$"
   ]
  },
  {
   "cell_type": "markdown",
   "metadata": {},
   "source": [
    "A Python implemetation is "
   ]
  },
  {
   "cell_type": "code",
   "execution_count": 7,
   "metadata": {},
   "outputs": [],
   "source": [
    "def p_Z(z):\n",
    "    z = np.array(z).astype(float)\n",
    "    return np.piecewise(z, [z == 0, z == 1, z == 2], [1/4, 1/2, 1/4, 0])"
   ]
  },
  {
   "cell_type": "markdown",
   "metadata": {},
   "source": [
    "And here is the plot of the PMF of $Z$:"
   ]
  },
  {
   "cell_type": "code",
   "execution_count": 8,
   "metadata": {},
   "outputs": [
    {
     "data": {
      "image/png": "[encoded data removed]",
      "text/plain": [
       "<Figure size 432x288 with 1 Axes>"
      ]
     },
     "metadata": {
      "needs_background": "light"
     },
     "output_type": "display_data"
    }
   ],
   "source": [
    "z= np.arange(-1, 4)\n",
    "plt.stem(z, p_Z(z), use_line_collection=True)\n",
    "\n",
    "plt.xlim(-0.5, 2.5)\n",
    "plt.ylim(0, 1)\n",
    "\n",
    "plt.xlabel('$z$')\n",
    "plt.ylabel('Probability mass function $p_Z(z)$');"
   ]
  },
  {
   "cell_type": "markdown",
   "metadata": {
    "tags": []
   },
   "source": [
    "**Example 4**\n",
    "\n",
    "In this example, we show how a random variable can be formed directly from the outcomes of a random experiment. In other words, for an experiment with a numerical outcome, we can let $X(s)=s$.\n",
    "\n",
    "Create a probability space by rolling a fair 6-sided die and observing the top face. Let the event class be the power set of the sample space. Let the RV $W$ be defined by $W(s)$ for all $s \\in S$.\n",
    "\n",
    "Then $p_W(w) = P\\left[ W(s) =w \\right] = P( \\{w\\} )$ for $w \\in \\{1,2,3,4,5,6\\}$. Since this is a fair experiment, $P(\\{w\\}) = 1/6$.  \n",
    "\n",
    "The PMF for $W$ is\n",
    "$$\n",
    "p_W(w)  =\n",
    "\\begin{cases}\n",
    "\\frac{1}{6}, & w=1,2,\\dots,6 \\\\ \n",
    "0, & \\text{o.w.}\n",
    "\\end{cases}\n",
    "$$ \n"
   ]
  },
  {
   "cell_type": "markdown",
   "metadata": {},
   "source": [
    "A Python implementation is shown below:"
   ]
  },
  {
   "cell_type": "code",
   "execution_count": 9,
   "metadata": {},
   "outputs": [],
   "source": [
    "def p_W(w):\n",
    "    w = np.array(w).astype(float)\n",
    "    return np.piecewise(w, [np.isin(w, [1,2,3,4,5,6])], [1/6, 0] )"
   ]
  },
  {
   "cell_type": "markdown",
   "metadata": {},
   "source": [
    "Here I used the `np.isin()` function to check each value of the $w$ array to see if it is in the range of $W$."
   ]
  },
  {
   "cell_type": "markdown",
   "metadata": {},
   "source": [
    "Here is the plot of the PMF of W:"
   ]
  },
  {
   "cell_type": "code",
   "execution_count": 10,
   "metadata": {},
   "outputs": [
    {
     "data": {
      "image/png": "[encoded data removed]",
      "text/plain": [
       "<Figure size 432x288 with 1 Axes>"
      ]
     },
     "metadata": {
      "needs_background": "light"
     },
     "output_type": "display_data"
    }
   ],
   "source": [
    "w = np.arange(0, 8)\n",
    "plt.stem(w, p_W(w), use_line_collection = True)\n",
    "\n",
    "plt.xlim(0,7)\n",
    "plt.ylim(0,0.2)\n",
    "\n",
    "plt.xlabel('w')\n",
    "plt.ylabel('Probability mass function $p_W(w)$');"
   ]
  },
  {
   "cell_type": "markdown",
   "metadata": {},
   "source": [
    "**Example 5**\n",
    "\n",
    "Recall that discrete random variables can either have a finite range or a countably infinite range. Let's create an example of the latter. \n",
    "\n",
    "Flip a coin until heads occurs. Record the set of outcomes. Then the sample space is \n",
    "\n",
    "$$\n",
    "S = \\left\\{ H, TH, TTH, TTH, TTTH, \\ldots \\right\\}.\n",
    "$$\n",
    "It should be clear that there is no maximum number of flips until the first $H$ occurs, and it should also be intuitive that the shorter sequences are more probable than the latter ones. We know that $P(H)=P(T) = 1/2$, and the results of different flips can be assumed to be independent.  So \n",
    "\\begin{align*}\n",
    "P(H) &= \\frac 1 2 \\\\\n",
    "P(TH) &= \\left( \\frac 1 2 \\right) \\left( \\frac 1 2 \\right)  =\\frac 1 4\\\\ \n",
    "P(TTH) &= \\left( \\frac 1 2 \\right) \\left( \\frac 1 2 \\right) \\left( \\frac 1 2 \\right)   =\\frac 1 8\\\\\n",
    "\\end{align*}\n",
    "\n",
    "Let's introduce some notation. If a given sequence has $n-1$ $T$ followed by one $H$, we will write it as $T^{n-1}H$. Then \n",
    "\n",
    "$$\n",
    "P(T^{n-1}H) = \\frac{1}{2^{n}}.\n",
    "$$\n",
    "\n",
    "Let $N$ be a random variable that is equal to the number of flips until the first H occurs. Then if $n \\in \\{1,2,3,\\ldots \\}$,\n",
    "\n",
    "\\begin{align}\n",
    "P\\left[N(s) =n \\right] &= P\\left[ T^{n-1}H \\right] \\\\\n",
    "&= \\left( \\frac {1}{2} \\right)^n.\n",
    "\\end{align}\n",
    "\n",
    "The PMF of $N$ is \n",
    "\n",
    "$$\n",
    "p_N(n) = \n",
    "\\begin{cases}\n",
    "\\left( \\frac {1}{2} \\right) ^ n, & n = 1,2,3, \\ldots\\\\\n",
    "0, & \\mbox{o.w.}\n",
    "\\end{cases}\n",
    "$$"
   ]
  },
  {
   "cell_type": "markdown",
   "metadata": {},
   "source": [
    "To implement this PMF in Python, we need a way to check whether the values of a NumPy array are positive integers. The floor function $\\lfloor x \\rfloor$ returns the largest integer that is less than or equal to $x$. Then $x - \\lfloor x \\rfloor $ is the fractional part of $x$, which is zero if and only if $x$ is an integer.  We can use the `np.floor()` function to return the floor of the elements in an array, as shown below:"
   ]
  },
  {
   "cell_type": "code",
   "execution_count": 11,
   "metadata": {},
   "outputs": [
    {
     "name": "stdout",
     "output_type": "stream",
     "text": [
      "[-1.  -0.5  0.   0.5  1.   1.5  2. ] [ True False  True False  True False  True]\n"
     ]
    }
   ],
   "source": [
    "x=np.linspace(-1,2,7)\n",
    "print(x, x-np.floor(x)==0)"
   ]
  },
  {
   "cell_type": "markdown",
   "metadata": {},
   "source": [
    "We can check that the values of the array are positive like this:"
   ]
  },
  {
   "cell_type": "code",
   "execution_count": 12,
   "metadata": {},
   "outputs": [
    {
     "data": {
      "text/plain": [
       "array([False, False, False,  True,  True,  True,  True])"
      ]
     },
     "execution_count": 12,
     "metadata": {},
     "output_type": "execute_result"
    }
   ],
   "source": [
    "x>0"
   ]
  },
  {
   "cell_type": "markdown",
   "metadata": {},
   "source": [
    "Finally, we can use the Numpy function `np.logical_and()` to find the elementwise intersection of these arrays:"
   ]
  },
  {
   "cell_type": "code",
   "execution_count": 13,
   "metadata": {},
   "outputs": [
    {
     "name": "stdout",
     "output_type": "stream",
     "text": [
      "[-1.  -0.5  0.   0.5  1.   1.5  2. ] [False False False False  True False  True]\n"
     ]
    }
   ],
   "source": [
    "print(x, np.logical_and(x-np.floor(x)==0, x>0))"
   ]
  },
  {
   "cell_type": "markdown",
   "metadata": {},
   "source": [
    "Using this approach, a Python implementation of this PMF is shown below:"
   ]
  },
  {
   "cell_type": "code",
   "execution_count": 14,
   "metadata": {},
   "outputs": [],
   "source": [
    "def p_N(n):\n",
    "    n = np.array(n).astype(float)\n",
    "    return np.piecewise(n, [np.logical_and(n - np.floor(n) == 0, n > 0)], [lambda u: (1/2)**u, 0] )"
   ]
  },
  {
   "cell_type": "code",
   "execution_count": 15,
   "metadata": {},
   "outputs": [
    {
     "data": {
      "text/plain": [
       "array([0.  , 0.  , 0.  , 0.  , 0.5 , 0.  , 0.25])"
      ]
     },
     "execution_count": 15,
     "metadata": {},
     "output_type": "execute_result"
    }
   ],
   "source": [
    "p_N(x)"
   ]
  },
  {
   "cell_type": "markdown",
   "metadata": {},
   "source": [
    "Note that this function uses one new feature that I didn't mention above. That is, I did not put `(1/2)**n` in the `funclist`. The reason is that we only want to raise $1/2$ to those values of $n$ that satisfy the conditions. Those elements that satisfy the first condition will be used as an input to the first function, and we use a *lambda function* to take that input into a variable $u$ and then apply the function (after the colon)."
   ]
  },
  {
   "cell_type": "markdown",
   "metadata": {},
   "source": [
    "Because the PMF has infinite range, we can only generate the values for it and plot it over a finite subset of its range. Because the values of the PMF get small quickly, we will plot up to $n=8$."
   ]
  },
  {
   "cell_type": "code",
   "execution_count": 16,
   "metadata": {},
   "outputs": [
    {
     "data": {
      "image/png": "[encoded data removed]",
      "text/plain": [
       "<Figure size 432x288 with 1 Axes>"
      ]
     },
     "metadata": {
      "needs_background": "light"
     },
     "output_type": "display_data"
    }
   ],
   "source": [
    "import numpy as np\n",
    "n=np.arange(1, 9)\n",
    "\n",
    "plt.stem(n, p_N(n), use_line_collection = True)\n",
    "\n",
    "plt.xlabel('$n$')\n",
    "plt.ylabel('Probability mass function $p_N(n)$');"
   ]
  },
  {
   "cell_type": "markdown",
   "metadata": {},
   "source": [
    "The probability mass function is nice because\n",
    "* Its outputs are probabilities of the values that the random variable takes on.\n",
    "* It is easy to calculate the probability of a discrete random variable taking on any of a small set of values by summing over the pmf outputs for those values.\n",
    "* We know the range of the PMF is between 0 and 1 because its outputs are probabilities.\n",
    "\n",
    "However, we will find that the probability mass function is not the best or most appropriate tool in all cases:\n",
    "* It is not as convenient if we are interested in large intervals, such as if we want to evaluate $P(3 < N  \\le 100)$. A computer can evaluate this range easily, but it is not easy to calculate by hand (even with a calculator).\n",
    "* We will soon see that the pmf does not generalize to random variables for which the range is an uncountable set of values.\n",
    "\n",
    "\n",
    "Thus, we are motivated to explore other functions  that can address these last concerns. In the next section, we introduce the *cumulative distribution function (CDF)*, which instead of computing $P(X=x)$ computes the probabilities of the form $P(X \\le x)$. We will show that the CDF resolves the problems we identified with the PMF.\n",
    "\n"
   ]
  },
  {
   "cell_type": "markdown",
   "metadata": {
    "tags": []
   },
   "source": [
    "## Terminology Review"
   ]
  },
  {
   "cell_type": "code",
   "execution_count": 17,
   "metadata": {
    "tags": [
     "remove-input"
    ]
   },
   "outputs": [
    {
     "data": {
      "text/html": [
       "<style>\n",
       ":root{\n",
       "--asparagus: #87a878ff;\n",
       "--terra-cotta: #e26d5aff;\n",
       "--cyan-process: #5bc0ebff;\n",
       "--dark-blue-gray: #666a86ff;\n",
       "--snow: #fffafbff;\n",
       "--rich-black-fogra-39: #090c08ff;\n",
       "}\n",
       "\n",
       "\n",
       "/* entire container, keeps perspective */\n",
       ".flip-container {\n",
       "\tperspective: 1000px;\n",
       "  touch-action: pinch-zoom pan-y;\n",
       "}\n",
       "\n",
       "\n",
       ".flip-container.flip .flipper {\n",
       "\ttransform: rotateY(180deg)  translateX(-10%);\n",
       "}\n",
       "\n",
       "\n",
       ".flip-container.slide .flipper.frontcard {\n",
       "    filter: brightness(90%);\n",
       "    position:absolute;\n",
       "    z-index: -20;\n",
       "}\n",
       "\n",
       ".flip-container.prepare .flipper.backcard {\n",
       "    opacity:1;\n",
       "    transform:  translateX(20px); \n",
       "    transition: display 0s;\n",
       "}\n",
       "\n",
       "\n",
       ".flip-container.slide .flipper.backcard {\n",
       "    filter: brightness(115%);\n",
       "    height: 360px;\n",
       "    opacity:1;\n",
       "\t  transform:  rotateY(3deg)  translateX(700px) translateZ(20px) scale(1, 1.05) rotate(3deg);\n",
       "    z-index: 20;\n",
       "}\n",
       "\n",
       "\n",
       "\n",
       "\n",
       ".flip-container.slideback .flipper.backcard {\n",
       "    filter: brightness(100%);\n",
       "    opacity: 1;\n",
       "\t  transform: translateX(0px) translateZ(20px) rotateY(0deg);\n",
       "    z-index: 10;\n",
       "}\n",
       "\n",
       ".flip-container.slideback .flipper.frontcard {\n",
       "    filter: brightness(90%);\n",
       "    transform: translateX(0px) translateZ(-20px);\n",
       "    z-index: -10;\n",
       "}\n",
       "\n",
       "\n",
       ".flip-container, .front, .back {\n",
       "\t  height: 300px;\n",
       "\t  width: 640px;\n",
       "}\n",
       "\n",
       ".flipper.frontcard {\n",
       "    position:absolute;\n",
       "\t  transform: translateX(0px) rotateY(0deg) translateZ(20px);\n",
       "    z-index: 10;\n",
       "}\n",
       "\n",
       ".flipper.backcard {\n",
       "    filter: brightness(90%);\n",
       "    opacity:0;\n",
       "    position:absolute;\n",
       "    transform: translateX(0px) translateZ(-20px);\n",
       "    z-index: -10;\n",
       "}\n",
       "\n",
       "\n",
       "\n",
       "\n",
       "/* flip speed goes here */\n",
       ".flipper {\n",
       "    cursor:pointer;\n",
       "\t  height: 200px;\n",
       "    margin-left:20px;\n",
       "\t  position: absolute;\n",
       "    top: 0;\n",
       "\t  transform-style: preserve-3d;\n",
       "\t  transition: 0.6s;\n",
       "    width: 600px;\n",
       "}\n",
       "\n",
       "/* hide back of pane during swap */\n",
       ".front, .back {\n",
       "    -webkit-backface-visibility: hidden;\n",
       "\t  backface-visibility: hidden;\n",
       "\t  left: 0;\n",
       "\t  position: absolute;\n",
       "\t  top: 0;\n",
       "}\n",
       "\n",
       "/* front pane, placed above back */\n",
       ".front {\n",
       "\t  backface-visibility: hidden;\n",
       "    background: var(--asparagus);\n",
       "    transform: rotateY(0deg);\n",
       "\t  z-index: 2;\n",
       "}\n",
       "\n",
       "/* back, initially hidden pane */\n",
       ".back {\n",
       "\t  backface-visibility: hidden;\n",
       "    background: var(--dark-blue-gray);\n",
       "\t  transform: rotateY(180deg);\n",
       "}\n",
       "\n",
       ".next {\n",
       "    color: var(--rich-black-fogra-39);\n",
       "    cursor:pointer;\n",
       "    font-size: 16pt;\n",
       "    left:600px;\n",
       "    opacity:0.3;\n",
       "    position:relative; \n",
       "    top:20px;\n",
       "}\n",
       "\n",
       ".next.flipped {\n",
       "    opacity:1;\n",
       "}\n",
       "\n",
       ".next.hide {\n",
       "    opacity:0;\n",
       "}\n",
       "\n",
       "\n",
       ".flashcard{\n",
       "    border-radius: 10px;\n",
       "    color: #fafafa;\n",
       "    display:block;\n",
       "    padding:10px;\n",
       "  \n",
       "}\n",
       ".flashcardtext{\n",
       "    color: var(--snow);\n",
       "    font-size: 20pt;\n",
       "    margin-left:3%;\n",
       "    position:absolute;\n",
       "    text-align:center;\n",
       "    top: 50%;\n",
       "    transform: translate(0, -50%);\n",
       "    width:90%;\n",
       "  }\n",
       "\n",
       "</style><script type=\"text/Javascript\">\n",
       "/*!\n",
       " * swiped-events.js - v1.1.4\n",
       " * Pure JavaScript swipe events\n",
       " * https://github.com/john-doherty/swiped-events\n",
       " * @inspiration https://stackoverflow.com/questions/16348031/disable-scrolling-when-touch-moving-certain-element\n",
       " * @author John Doherty <www.johndoherty.info>\n",
       " * @license MIT\n",
       " */\n",
       "!function(t,e){\"use strict\";\"function\"!=typeof t.CustomEvent&&(t.CustomEvent=function(t,n){n=n||{bubbles:!1,cancelable:!1,detail:void 0};var a=e.createEvent(\"CustomEvent\");return a.initCustomEvent(t,n.bubbles,n.cancelable,n.detail),a},t.CustomEvent.prototype=t.Event.prototype),e.addEventListener(\"touchstart\",function(t){if(\"true\"===t.target.getAttribute(\"data-swipe-ignore\"))return;s=t.target,r=Date.now(),n=t.touches[0].clientX,a=t.touches[0].clientY,u=0,i=0},!1),e.addEventListener(\"touchmove\",function(t){if(!n||!a)return;var e=t.touches[0].clientX,r=t.touches[0].clientY;u=n-e,i=a-r},!1),e.addEventListener(\"touchend\",function(t){if(s!==t.target)return;var e=parseInt(l(s,\"data-swipe-threshold\",\"20\"),10),o=parseInt(l(s,\"data-swipe-timeout\",\"500\"),10),c=Date.now()-r,d=\"\",p=t.changedTouches||t.touches||[];Math.abs(u)>Math.abs(i)?Math.abs(u)>e&&c<o&&(d=u>0?\"swiped-left\":\"swiped-right\"):Math.abs(i)>e&&c<o&&(d=i>0?\"swiped-up\":\"swiped-down\");if(\"\"!==d){var b={dir:d.replace(/swiped-/,\"\"),xStart:parseInt(n,10),xEnd:parseInt((p[0]||{}).clientX||-1,10),yStart:parseInt(a,10),yEnd:parseInt((p[0]||{}).clientY||-1,10)};s.dispatchEvent(new CustomEvent(\"swiped\",{bubbles:!0,cancelable:!0,detail:b})),s.dispatchEvent(new CustomEvent(d,{bubbles:!0,cancelable:!0,detail:b}))}n=null,a=null,r=null},!1);var n=null,a=null,u=null,i=null,r=null,s=null;function l(t,n,a){for(;t&&t!==e.documentElement;){var u=t.getAttribute(n);if(u)return u;t=t.parentNode}return a}}(window,document);\n",
       "\n",
       "function jaxify(string) {\n",
       "    var mystring = string;\n",
       "    console.log(mystring);\n",
       "\n",
       "    count = 0;\n",
       "    var loc = mystring.search(/([^\\\\]|^)(\\$)/);\n",
       "\n",
       "    count2 = 0;\n",
       "    var loc2 = mystring.search(/([^\\\\]|^)(\\$\\$)/);\n",
       "\n",
       "    //console.log(loc);\n",
       "\n",
       "    while ((loc >= 0) || (loc2 >= 0)) {\n",
       "\n",
       "        /* Have to replace all the double $$ first with current implementation */\n",
       "        if (loc2 >= 0) {\n",
       "            if (count2 % 2 == 0) {\n",
       "                mystring = mystring.replace(/([^\\\\]|^)(\\$\\$)/, \"$1\\\\[\");\n",
       "            } else {\n",
       "                mystring = mystring.replace(/([^\\\\]|^)(\\$\\$)/, \"$1\\\\]\");\n",
       "            }\n",
       "            count2++;\n",
       "        } else {\n",
       "            if (count % 2 == 0) {\n",
       "                mystring = mystring.replace(/([^\\\\]|^)(\\$)/, \"$1\\\\(\");\n",
       "            } else {\n",
       "                mystring = mystring.replace(/([^\\\\]|^)(\\$)/, \"$1\\\\)\");\n",
       "            }\n",
       "            count++;\n",
       "        }\n",
       "        loc = mystring.search(/([^\\\\]|^)(\\$)/);\n",
       "        loc2 = mystring.search(/([^\\\\]|^)(\\$\\$)/);\n",
       "        //console.log(mystring,\", loc:\",loc,\", loc2:\",loc2);\n",
       "    }\n",
       "\n",
       "    //console.log(mystring);\n",
       "    return mystring;\n",
       "}\n",
       "\n",
       "function flip(ths) {\n",
       "    console.log(ths);\n",
       "    console.log(ths.id);\n",
       "    ths.classList.toggle(\"flip\"); \n",
       "    var next=document.getElementById(ths.id+'-next');\n",
       "    next.style.pointerEvents='none';\n",
       "    next.classList.add('flipped');\n",
       "    if (typeof MathJax != 'undefined') {\n",
       "        var version = MathJax.version;\n",
       "        console.log('MathJax version', version);\n",
       "        if (version[0] == \"2\") {\n",
       "            MathJax.Hub.Queue([\"Typeset\", MathJax.Hub]);\n",
       "        } else if (version[0] == \"3\") {\n",
       "            MathJax.typeset([ths]);\n",
       "        }\n",
       "    } else {\n",
       "        console.log('MathJax not detected');\n",
       "    }\n",
       "\n",
       "\n",
       "    setTimeout(reenableNext, 700, next);\n",
       "}\n",
       "\n",
       "function reenableNext(next) {\n",
       "    next.style.pointerEvents='auto';\n",
       "}\n",
       "\n",
       "\n",
       "\n",
       "function slide2(containerId) {\n",
       "    var container = document.getElementById(containerId);\n",
       "    var next=document.getElementById(containerId+'-next');\n",
       "    var frontcard = container.children[0];\n",
       "    var backcard = container.children[1];\n",
       "    container.style.pointerEvents='none';\n",
       "    //backcard.style.pointerEvents='none';\n",
       "    next.style.pointerEvents='none';\n",
       "    next.classList.remove('flipped');\n",
       "    next.classList.add('hide');\n",
       "\n",
       "    //container.classList.add(\"prepare\");\n",
       "    \n",
       "    container.className=\"flip-container slide\";\n",
       "    backcard.parentElement.removeChild(frontcard);\n",
       "    backcard.parentElement.appendChild(frontcard);\n",
       "    setTimeout(slideback, 600, container, frontcard, backcard, next);\n",
       "    \n",
       "}\n",
       "\n",
       "\n",
       "function checkFlip(containerId) {\n",
       "    var container = document.getElementById(containerId);\n",
       "\n",
       "\n",
       "    if (container.classList.contains('flip')) {\n",
       "        container.classList.remove('flip');\n",
       "        setTimeout(slide2, 600, containerId);\n",
       "    } \n",
       "    else {\n",
       "        slide2(containerId);\n",
       "    }\n",
       "}\n",
       "\n",
       "\n",
       "function slideback(container, frontcard, backcard, next) {\n",
       "    container.className=\"flip-container slideback\";\n",
       "    setTimeout(cleanup, 600, container, frontcard, backcard, next);\n",
       "}\n",
       "\n",
       "function cleanup(container, frontcard, backcard, next) {\n",
       "    container.removeChild(frontcard);\n",
       "    backcard.className=\"flipper frontcard\";\n",
       "    container.className=\"flip-container\";\n",
       "\n",
       "    var cardnum=parseInt(container.dataset.cardnum);\n",
       "    var cards=eval('cards'+container.id);\n",
       "    var flipper=createOneCard(container, false, cards, cardnum);\n",
       "    container.append(flipper);\n",
       "    cardnum= (cardnum+1) % parseInt(container.dataset.numCards);\n",
       "    container.dataset.cardnum=cardnum;\n",
       "    if (cardnum != 1){\n",
       "        next.innerHTML=\"Next >\";\n",
       "    } else {\n",
       "        next.innerHTML=\"Reload \\\\(\\\\circlearrowleft\\\\) \";\n",
       "        if (typeof MathJax != 'undefined') {\n",
       "            var version = MathJax.version;\n",
       "            console.log('MathJax version', version);\n",
       "            if (version[0] == \"2\") {\n",
       "                MathJax.Hub.Queue([\"Typeset\", MathJax.Hub]);\n",
       "            } else if (version[0] == \"3\") {\n",
       "                MathJax.typeset([next]);\n",
       "            }\n",
       "        } else {\n",
       "            console.log('MathJax not detected');\n",
       "        }\n",
       "\n",
       "\n",
       "    }\n",
       "\n",
       "    if (typeof MathJax != 'undefined') {\n",
       "        var version = MathJax.version;\n",
       "        console.log('MathJax version', version);\n",
       "        if (version[0] == \"2\") {\n",
       "            MathJax.Hub.Queue([\"Typeset\", MathJax.Hub]);\n",
       "        } else if (version[0] == \"3\") {\n",
       "            MathJax.typeset();\n",
       "        }\n",
       "    } else {\n",
       "        console.log('MathJax not detected');\n",
       "    }\n",
       "\n",
       "\n",
       "    next.style.pointerEvents='auto';\n",
       "    container.style.pointerEvents='auto';\n",
       "    next.classList.remove('hide');\n",
       "    container.addEventListener('swiped-left', function(e) {\n",
       "        /*\n",
       "          console.log(e.detail);\n",
       "          console.log(id);\n",
       "        */\n",
       "        checkFlip(container.id);\n",
       "    }, {once: true });\n",
       "\n",
       "\n",
       "}\n",
       "\n",
       "\n",
       "function createOneCard  (mydiv, frontCard, cards, cardnum) {\n",
       "    colors=[\n",
       "        '--asparagus',\n",
       "        '--terra-cotta',\n",
       "        '--cyan-process'\n",
       "    ]\n",
       "\n",
       "    var flipper = document.createElement('div');\n",
       "    if (frontCard){\n",
       "        flipper.className=\"flipper frontcard\";    \n",
       "    }\n",
       "    else {\n",
       "        flipper.className=\"flipper backcard\";   \n",
       "    }\n",
       "\n",
       "    var front = document.createElement('div');\n",
       "    front.className='front flashcard';\n",
       "\n",
       "    var frontSpan= document.createElement('span');\n",
       "    frontSpan.className='flashcardtext';\n",
       "    frontSpan.innerHTML=jaxify(cards[cardnum]['front']);\n",
       "    //frontSpan.textContent=jaxify(cards[cardnum]['front']);\n",
       "    front.style.background='var(' + colors[cardnum % colors.length] + ')';\n",
       "\n",
       "\n",
       "    front.append(frontSpan);\n",
       "    flipper.append(front);\n",
       "\n",
       "    var back = document.createElement('div');\n",
       "    back.className='back flashcard';\n",
       "\n",
       "    var backSpan= document.createElement('span');\n",
       "    backSpan.className='flashcardtext';\n",
       "    backSpan.innerHTML=jaxify(cards[cardnum]['back']);\n",
       "    back.append(backSpan);\n",
       "\n",
       "    flipper.append(back);\n",
       "\n",
       "    return flipper;\n",
       "\n",
       "}\n",
       "\n",
       "\n",
       "\n",
       "\n",
       "\n",
       "function createCards(id) {\n",
       "    console.log(id);\n",
       "    \n",
       "    var mydiv=document.getElementById(id);\n",
       "    \n",
       "    var cards=eval('cards'+id);\n",
       "    mydiv.dataset.cardnum=0;\n",
       "    mydiv.dataset.numCards=cards.length;\n",
       "    mydiv.addEventListener('swiped-left', function(e) {\n",
       "        /*\n",
       "          console.log(e.detail);\n",
       "          console.log(id);\n",
       "        */\n",
       "        checkFlip(id);\n",
       "    }, {once: true});\n",
       "\n",
       "    var cardnum=0;\n",
       "    \n",
       "    for (var i=0; i<2; i++) {\n",
       "    \n",
       "        var flipper;\n",
       "        if (i==0){\n",
       "            flipper=createOneCard(mydiv, true, cards, cardnum);\n",
       "        }\n",
       "        else {\n",
       "            flipper=createOneCard(mydiv, false, cards, cardnum);\n",
       "        }\n",
       "\n",
       "        mydiv.append(flipper);\n",
       "        if (typeof MathJax != 'undefined') {\n",
       "            var version = MathJax.version;\n",
       "            if (typeof version == 'undefined') {\n",
       "                setTimeout(function(){\n",
       "                    var version = MathJax.version;\n",
       "                    console.log('After sleep, MathJax version', version);\n",
       "                    if (version[0] == \"2\") {\n",
       "                        MathJax.Hub.Queue([\"Typeset\", MathJax.Hub]);\n",
       "                    } else if (version[0] == \"3\") {\n",
       "                        MathJax.typeset([flipper]);\n",
       "                    }\n",
       "                }, 500);\n",
       "            } else{\n",
       "                console.log('MathJax version', version);\n",
       "                if (version[0] == \"2\") {\n",
       "                    MathJax.Hub.Queue([\"Typeset\", MathJax.Hub]);\n",
       "                } else if (version[0] == \"3\") {\n",
       "                    MathJax.typeset([flipper]);\n",
       "                }\n",
       "            }\n",
       "        } else {\n",
       "            console.log('MathJax not detected');\n",
       "        }\n",
       "\n",
       "\n",
       "        cardnum = (cardnum + 1) % mydiv.dataset.numCards;\n",
       "    }\n",
       "    mydiv.dataset.cardnum = cardnum;\n",
       "\n",
       "    var next=document.getElementById(id+'-next');\n",
       "    if (cards.length==1) {\n",
       "        // Don't show next if no other cards!\n",
       "        next.style.pointerEvents='none';\n",
       "        next.classList.add('hide');\n",
       "    } else {\n",
       "        next.innerHTML=\"Next >\";\n",
       "    }\n",
       "\n",
       "    return flipper;\n",
       "}\n",
       "\n",
       "\n",
       "\n",
       "\n",
       "\n",
       "</script><script type=\"text/Javascript\">\n",
       "    \n",
       "    cardsnbtDHEBgULGs=[\n",
       "    {\"front\": \"discrete random variable\",\n",
       "     \"back\": \"RV with a finite or countably infinite range\"\n",
       "    },\n",
       "    {\n",
       "        \"front\": \"probability mass function (PMF)\",\n",
       "        \"back\": \"Function from range of a discrete RV $X$ to probabilities, $p_X(x) = \\\\operatorname{Pr}( X=x)$.\"\n",
       "    }\n",
       "]\n",
       ";\n",
       "    \n",
       "\n",
       "        {\n",
       "        const jmscontroller = new AbortController();\n",
       "        const signal = jmscontroller.signal;\n",
       "\n",
       "        setTimeout(() => jmscontroller.abort(), 5000);\n",
       "\n",
       "        fetch(\"https://raw.githubusercontent.com/jmshea/Foundations-of-Data-Science-with-Python/main/08-random-variables/flashcards/discrete-rvs.json\", {signal})\n",
       "        .then(response => response.json())\n",
       "        .then(json => createCards(\"nbtDHEBgULGs\"))\n",
       "        .catch(err => {\n",
       "        console.log(\"Fetch error or timeout\");\n",
       "        createCards(\"nbtDHEBgULGs\");\n",
       "        });\n",
       "        }\n",
       "        </script>\n",
       "        <div style=\"height:40px\"></div><div class=\"flip-container\" id=\"nbtDHEBgULGs\" onclick=\"flip(this)\"></div><div style=\"height:40px\"></div><div class=\"next\" id=\"nbtDHEBgULGs-next\" onclick=\"checkFlip('nbtDHEBgULGs')\"> </div> <div style=\"height:40px\"></div>"
      ],
      "text/plain": [
       "<IPython.core.display.HTML object>"
      ]
     },
     "metadata": {},
     "output_type": "display_data"
    }
   ],
   "source": [
    "from jupytercards import display_flashcards\n",
    "\n",
    "#display_flashcards('flashcards/'+'discrete-rvs.json')\n",
    "\n",
    "github='https://raw.githubusercontent.com/jmshea/Foundations-of-Data-Science-with-Python/main/'\n",
    "github+='08-random-variables/flashcards/'\n",
    "display_flashcards(github+'discrete-rvs.json')\n",
    "\n",
    "\n"
   ]
  }
 ],
 "metadata": {
  "kernelspec": {
   "display_name": "Python 3 (ipykernel)",
   "language": "python",
   "name": "python3"
  },
  "language_info": {
   "codemirror_mode": {
    "name": "ipython",
    "version": 3
   },
   "file_extension": ".py",
   "mimetype": "text/x-python",
   "name": "python",
   "nbconvert_exporter": "python",
   "pygments_lexer": "ipython3",
   "version": "3.9.12"
  },
  "latex_envs": {
   "LaTeX_envs_menu_present": true,
   "autoclose": true,
   "autocomplete": true,
   "bibliofile": "biblio.bib",
   "cite_by": "apalike",
   "current_citInitial": 1,
   "eqLabelWithNumbers": true,
   "eqNumInitial": 1,
   "hotkeys": {
    "equation": "Ctrl-E",
    "itemize": "Ctrl-I"
   },
   "labels_anchors": false,
   "latex_user_defs": false,
   "report_style_numbering": false,
   "user_envs_cfg": false
  }
 },
 "nbformat": 4,
 "nbformat_minor": 4
}
