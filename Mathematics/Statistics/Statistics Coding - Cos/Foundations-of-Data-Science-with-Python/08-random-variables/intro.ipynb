{
 "cells": [
  {
   "cell_type": "markdown",
   "metadata": {},
   "source": [
    "# Random Variables"
   ]
  },
  {
   "cell_type": "markdown",
   "metadata": {},
   "source": [
    "In the previous chapters, when we have had to generate random phenomena, we have drawn values at random from a finite set.  That is a very powerful technique that can be used to model many scenarios. However, in the real world, many phenomena are not only not finite, they are not countably infinite. For example, what is the lifetime of a computer CPU? Not only do we not know how to choose an upper bound, but the actual time is not limited in resolution to just days or even seconds -- we usually just report such levels of detail for convenience.\n",
    "\n",
    "More generally, many of the data that we work with will be numerical in nature, and this is especially true in engineering and the hard sciences. All of these factors motivate the development of special approaches for working with numerically valued random phenomena. We call these random variables:\n",
    "\n",
    "````{card}\n",
    "DEFINITION\n",
    "^^^\n",
    "```{glossary}\n",
    "random variable (informal definition)\n",
    "    A random variable is an object whose value is a random number.\n",
    "```\n",
    "````\n",
    "\n",
    "Because we are working with numerical phenomena, we can develop *functions* that allow us to better visualize how the probability is distributed and to calculate probabilities and other features that depend on the probabilities.  We will use random variables as models for random phenomena and leverage these models to build analytical statistical tests."
   ]
  }
 ],
 "metadata": {
  "kernelspec": {
   "display_name": "Python 3 (ipykernel)",
   "language": "python",
   "name": "python3"
  },
  "language_info": {
   "codemirror_mode": {
    "name": "ipython",
    "version": 3
   },
   "file_extension": ".py",
   "mimetype": "text/x-python",
   "name": "python",
   "nbconvert_exporter": "python",
   "pygments_lexer": "ipython3",
   "version": "3.9.12"
  },
  "latex_envs": {
   "LaTeX_envs_menu_present": true,
   "autoclose": true,
   "autocomplete": true,
   "bibliofile": "biblio.bib",
   "cite_by": "apalike",
   "current_citInitial": 1,
   "eqLabelWithNumbers": true,
   "eqNumInitial": 1,
   "hotkeys": {
    "equation": "Ctrl-E",
    "itemize": "Ctrl-I"
   },
   "labels_anchors": false,
   "latex_user_defs": false,
   "report_style_numbering": false,
   "user_envs_cfg": false
  }
 },
 "nbformat": 4,
 "nbformat_minor": 4
}
