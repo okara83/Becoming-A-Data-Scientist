{
 "cells": [
  {
   "cell_type": "code",
   "execution_count": 1,
   "metadata": {},
   "outputs": [],
   "source": [
    "import numpy as np\n",
    "import numpy.random as npr\n",
    "import matplotlib.pyplot as plt\n",
    "%matplotlib inline\n",
    "import scipy.stats as stats"
   ]
  },
  {
   "cell_type": "markdown",
   "metadata": {},
   "source": [
    "# Continuous Random Variables"
   ]
  },
  {
   "cell_type": "markdown",
   "metadata": {
    "tags": []
   },
   "source": [
    "The discrete random variables introduced the last two sections can model many random phenomena of interest; however, there are also many phenomena that they cannot model. Let's begin with an example based on our study of the Poisson random variable in {doc}`important-discrete-rvs`. \n",
    "\n"
   ]
  },
  {
   "cell_type": "markdown",
   "metadata": {
    "tags": []
   },
   "source": [
    "\n",
    "## Motivating Example -- Poisson Events\n",
    "\n",
    "The Poisson random variable models the number of events that occur in some time period for a random phenomenon with events that occur randomly over time at some specified rate $\\lambda$. However, the Poisson random variable does not tell us **when** those events occur.\n",
    "\n",
    "Let's first try to get some insight into the distribution of the event times via simulating Poisson events. Let $P$ be the number of Poisson events in an interval. Then given $P=p$ (i.e., given the number of Poisson events is some specific value $p$ to be specified later), the $p$ events should be equally likely to be anywhere in the interval being observed.  Let's simulate this scenario for the shark attack example from {doc}`important-discrete-rvs`. The average number of shark attacks per year in Volussia County was given in the referenced article as 9. Let's treat the interval as 365 days instead of 1 year, so that the resulting times are not all small decimals. \n",
    "\n",
    "The first thing to note is that the event times are **not discrete**. There is no need to limit our model of when events can occur to just the day, hour, or minute -- the events can occur at any non-negative real value in the observation interval. Let $T_i$, $0 \\le i \\le p-1$,  be the random variable representing the time that event $i$ occurs. If $T_i$ is equally likely to be any time in that interval, then $T$ is a *uniform continuous random variable*, which is usually just called a *uniform random variable.  \n",
    "\n",
    "We are going to begin using the uniform random variable without formally defining it. Later, we will determine the important functions that characterize the uniform random variable and we will provide a careful definition at that point.\n",
    "\n",
    "We can create a SciPy.stats object representing a continuous random variable on the interval $[0,365]$ as follows:\n"
   ]
  },
  {
   "cell_type": "code",
   "execution_count": 2,
   "metadata": {},
   "outputs": [],
   "source": [
    "T = stats.uniform(0, 365)"
   ]
  },
  {
   "cell_type": "markdown",
   "metadata": {},
   "source": [
    "Let's draw 10 random times from this interval:"
   ]
  },
  {
   "cell_type": "code",
   "execution_count": 3,
   "metadata": {},
   "outputs": [
    {
     "data": {
      "text/plain": [
       "array([ 75.13706568, 221.62683359, 307.86457733, 262.02510152,\n",
       "        96.3443498 , 156.90086614, 100.01060972, 224.69665354,\n",
       "        42.69369733, 329.72337999])"
      ]
     },
     "execution_count": 3,
     "metadata": {},
     "output_type": "execute_result"
    }
   ],
   "source": [
    "T.rvs(10)"
   ]
  },
  {
   "cell_type": "markdown",
   "metadata": {},
   "source": [
    "We can note a few things:\n",
    "* Each random variable is drawn separately and independently, and the resulting values are not sorted in any way. \n",
    "* The values are not integer.\n",
    "* Although the values are meant to represent values from $[0,365]$, they are limited to values that can be represented by Python's `float` type, which has limited resolution."
   ]
  },
  {
   "cell_type": "markdown",
   "metadata": {},
   "source": [
    "Let's investigate the histogram of values drawn from this distribution. We will use 100,000 random values to allow us to create a histogram with many bins:"
   ]
  },
  {
   "cell_type": "code",
   "execution_count": 4,
   "metadata": {},
   "outputs": [
    {
     "data": {
      "image/png": "[encoded data removed]",
      "text/plain": [
       "<Figure size 432x288 with 1 Axes>"
      ]
     },
     "metadata": {
      "needs_background": "light"
     },
     "output_type": "display_data"
    }
   ],
   "source": [
    "ts = T.rvs(100_000)\n",
    "plt.hist(ts, bins = 100);\n"
   ]
  },
  {
   "cell_type": "markdown",
   "metadata": {},
   "source": [
    "The relative frequencies are approximately equal for all of the bins, which we expect if the random values are equally likely to be anywhere in the interval. \n",
    "\n",
    "Now let's plot the empirical CDF, which we can get by passing `density = True` and `cumulative = True` as parameters to `plt.hist()`:"
   ]
  },
  {
   "cell_type": "code",
   "execution_count": 5,
   "metadata": {},
   "outputs": [
    {
     "data": {
      "image/png": "[encoded data removed]",
      "text/plain": [
       "<Figure size 432x288 with 1 Axes>"
      ]
     },
     "metadata": {
      "needs_background": "light"
     },
     "output_type": "display_data"
    }
   ],
   "source": [
    "plt.hist(ts, bins = 100, density = True, cumulative = True);"
   ]
  },
  {
   "cell_type": "markdown",
   "metadata": {},
   "source": [
    "This is a very different CDF than any we encountered in {doc}`important-discrete-rvs`. The CDF for a discrete random variable is a staircase function. By contrast, this CDF appears to be a continuous function. Let's see if we can determine the CDF for $T$. If $T$ is equally likely to be any value in $[0, 365]$, then if we choose any interval $[a,b] \\subseteq [0,365]$, then the probability that $T \\in [a,b]$ should be proportional to the length $b-a$.  Since the probability that $T$ is any value in $[0, 365]$ is 1, it must be that \n",
    "\n",
    "$$\n",
    "P\\left( T \\in \\left[a,b\\right] \\right)  = \\frac{b-a}{365-0}, \\mbox{ if} [a,b] \\subseteq [0,365].\n",
    "$$\n",
    "\n",
    "In particular, note that $P(T \\le t) = P(T \\in [0,t])$ if $t \\in [0,365]$.  Thus\n",
    "\n",
    "$$\n",
    "F_t(t) = \\frac{t-0}{365} = \\frac{t}{365}, ~~ 0 \\le t \\le 365,\n",
    "$$\n",
    "which is shown below on top of the empirical CDF:"
   ]
  },
  {
   "cell_type": "code",
   "execution_count": 6,
   "metadata": {},
   "outputs": [
    {
     "data": {
      "image/png": "[encoded data removed]",
      "text/plain": [
       "<Figure size 432x288 with 1 Axes>"
      ]
     },
     "metadata": {
      "needs_background": "light"
     },
     "output_type": "display_data"
    }
   ],
   "source": [
    "# Empirical CDF\n",
    "plt.hist(ts, bins = 100, density = True, cumulative = True, alpha=0.5);\n",
    "\n",
    "# Analytical CDF\n",
    "tvals = np.linspace(0, 365, 366)\n",
    "plt.plot(tvals, tvals/365)\n",
    "plt.xlabel('$t$')\n",
    "plt.ylabel('$F_T(t)$');"
   ]
  },
  {
   "cell_type": "markdown",
   "metadata": {},
   "source": [
    "The empirical CDF and the analytical CDF match up almost exactly. So now we have a way to generate Poisson events: Generate a random value $P$ according to the Poisson distribution. Then generate $P$ random values from the uniform continuous  distribution on $[0, 365]$. Let's start by creating our SciPy.stats Python object with parameter 9:"
   ]
  },
  {
   "cell_type": "code",
   "execution_count": 7,
   "metadata": {},
   "outputs": [],
   "source": [
    "P = stats.poisson(9)"
   ]
  },
  {
   "cell_type": "markdown",
   "metadata": {},
   "source": [
    "I am including code to create the uniform time random variable for people who are running this code out of order:"
   ]
  },
  {
   "cell_type": "code",
   "execution_count": 8,
   "metadata": {},
   "outputs": [],
   "source": [
    "T = stats.uniform(0, 365)"
   ]
  },
  {
   "cell_type": "markdown",
   "metadata": {},
   "source": [
    "Now let's create six different realizations of the Poisson events for a year. For each realization, we draw a random number of events. We use our usual notation that (upper case) `P` denotes the SciPy random variable object and (lower case) $p$ denotes a particular value drawn from the random variable $P$. determine the arrival times for each of the $P$ events"
   ]
  },
  {
   "cell_type": "code",
   "execution_count": 9,
   "metadata": {},
   "outputs": [
    {
     "data": {
      "image/png": "[encoded data removed]",
      "text/plain": [
       "<Figure size 432x288 with 6 Axes>"
      ]
     },
     "metadata": {
      "needs_background": "light"
     },
     "output_type": "display_data"
    }
   ],
   "source": [
    "rows=3\n",
    "cols=2\n",
    "fig, axs = plt.subplots(rows, cols)\n",
    "for i in range(rows):\n",
    "  for j in range(cols):\n",
    "    p=P.rvs()\n",
    "    t=T.rvs(p)\n",
    "    axs[i, j].scatter(t, 0.1*np.ones(p), marker='v' )\n",
    "    axs[i, j].set_ylim(0,1)\n",
    "    # Hide most of the border\n",
    "    axs[i,j].spines['top'].set_visible(False)\n",
    "    axs[i,j].spines['left'].set_visible(False)\n",
    "    axs[i,j].spines['right'].set_visible(False)\n",
    "    axs[i,j].tick_params(axis='y',          # changes apply to the x-axis\n",
    "                         which='both',      # both major and minor ticks are affected\n",
    "                         left=False,      # ticks along the bottom edge are off\n",
    "                         right=False,         # ticks along the top edge are off\n",
    "                         labelleft=False) # labels along the bottom edge are off\n",
    "    plt.tight_layout()\n",
    "    plt.subplots_adjust(wspace=0.3)\n",
    "    #plt.show();\n"
   ]
  },
  {
   "cell_type": "markdown",
   "metadata": {},
   "source": [
    "This approach will work to generate Poisson events. However, it is not able to answer some simple questions like *what is the distribution for the first event time?*  Let's start out by finding out what the distribution for the first event time looks like by using simulation. Let's simulate 100,000 sets of Poisson events and store the *first* event time (i.e., the minimum of the randomly generated times) for each simulation iteration:"
   ]
  },
  {
   "cell_type": "code",
   "execution_count": 10,
   "metadata": {},
   "outputs": [],
   "source": [
    "num_sims = 100_000\n",
    "first_event_times=[]\n",
    "for sim in range(num_sims):\n",
    "  p = P.rvs() # a Poisson number of events\n",
    "  if p > 0:\n",
    "    ts = T.rvs(p)\n",
    "    first_event_times += [ ts.min() ]"
   ]
  },
  {
   "cell_type": "markdown",
   "metadata": {},
   "source": [
    "Now let's plot the histogram for the first event times:"
   ]
  },
  {
   "cell_type": "code",
   "execution_count": 11,
   "metadata": {},
   "outputs": [
    {
     "data": {
      "image/png": "[encoded data removed]",
      "text/plain": [
       "<Figure size 432x288 with 1 Axes>"
      ]
     },
     "metadata": {
      "needs_background": "light"
     },
     "output_type": "display_data"
    }
   ],
   "source": [
    "plt.hist(first_event_times, bins=100);"
   ]
  },
  {
   "cell_type": "markdown",
   "metadata": {},
   "source": [
    "The histogram for the first event times looks very different than the histogram for a particular event's time. It clearly is not uniformly distributed on $[0,365]$. \n",
    "\n",
    "Here is the empirical CDF:"
   ]
  },
  {
   "cell_type": "code",
   "execution_count": 12,
   "metadata": {},
   "outputs": [
    {
     "data": {
      "image/png": "[encoded data removed]",
      "text/plain": [
       "<Figure size 432x288 with 1 Axes>"
      ]
     },
     "metadata": {
      "needs_background": "light"
     },
     "output_type": "display_data"
    }
   ],
   "source": [
    "plt.hist(first_event_times, bins=100, density=True, cumulative=True);"
   ]
  },
  {
   "cell_type": "markdown",
   "metadata": {},
   "source": [
    "Again, the CDF appears to be a continuous function.\n",
    "In fact, the Poisson random variable gives us enough information to find the CDF for the first event times.  Let $T_0$ to be the time at which the first event occurs. Then suppose we want to find the probability that $T_0$ is greater than some specified value $t$. This will be true if there are no arrivals in the period $[0,t]$.  For events that occur at rate $\\lambda$, the number of events that occur in the period $[0,t]$ is a Poisson random variable with parameter $\\alpha_t= \\lambda t$; let's refer to this Poisson random variable as $N_t$.  We can use the PMF for the Poisson random variable to give\n",
    "\\begin{align}\n",
    "P(T_0 > t ) &= P\\left(N_t = 0 \\right )\\\\\n",
    "&= \\frac{\\alpha_{t}^0}{0!} e^{-\\alpha_t} \\\\\n",
    "&= e^{-\\lambda t}.\n",
    "\\end{align}\n",
    "\n",
    "For our shark example, $\\lambda =9$ attacks per year or $\\lambda=9/365$ attacks per day. The figure below shows $P(T_0 >t)$ as a function of $t$:\n",
    "\n",
    "\n"
   ]
  },
  {
   "cell_type": "code",
   "execution_count": 13,
   "metadata": {},
   "outputs": [
    {
     "data": {
      "image/png": "[encoded data removed]",
      "text/plain": [
       "<Figure size 432x288 with 1 Axes>"
      ]
     },
     "metadata": {
      "needs_background": "light"
     },
     "output_type": "display_data"
    }
   ],
   "source": [
    "t = np.linspace(0,365,366)\n",
    "plt.plot(t, np.exp(- 9/365 * t))\n",
    "plt.xlabel('t')\n",
    "plt.ylabel('Pr(First event occurs after time $t$, $P(T_0 >t)$');"
   ]
  },
  {
   "cell_type": "markdown",
   "metadata": {},
   "source": [
    "We can apply some intuition to see if this makes sense. If an average of 9 events occur, then it seems likely that the first event occurs in the first $365/9 \\approx 40.6$ days. The figure confirms this intuition. \n",
    "\n",
    "Note also that the shape of this curve resembles the shape of the histogram for the data. "
   ]
  },
  {
   "cell_type": "markdown",
   "metadata": {},
   "source": [
    "We can extend this analysis to get the histogram for $T_0$, $F_{T_0}(t) = P(T_0 \\le t) = 1 -P(t) = 1 - e^{\\lambda t}$.  Since $P(T_0 < 0) =0$, we can summarize its CDF as \n",
    "\n",
    "$$\n",
    "F_{T_0} (t) = \n",
    "\\begin{cases} \n",
    "1 -P(t) = 1 - e^{\\lambda t}, & t \\ge 0 \\\\\n",
    "0, & t < 0\n",
    "\\end{cases}.\n",
    "$$\n",
    "\n",
    "The CDF is shown below for this example, plotted on the same graph as the empirical CDF:"
   ]
  },
  {
   "cell_type": "code",
   "execution_count": 14,
   "metadata": {},
   "outputs": [
    {
     "data": {
      "image/png": "[encoded data removed]",
      "text/plain": [
       "<Figure size 432x288 with 1 Axes>"
      ]
     },
     "metadata": {
      "needs_background": "light"
     },
     "output_type": "display_data"
    }
   ],
   "source": [
    "# Empirical CDF\n",
    "plt.hist(first_event_times, bins=100, density=True, cumulative=True, alpha=0.5);\n",
    "\n",
    "# Analytical CDF\n",
    "t = np.linspace(0, 365, 366)\n",
    "plt.plot(t, 1 - np.exp(- 9/365 * t))\n",
    "\n",
    "plt.xlabel('t')\n",
    "plt.ylabel('$F_{T_0}(t) = P(T_0 >t)$');"
   ]
  },
  {
   "cell_type": "markdown",
   "metadata": {},
   "source": [
    "Again, the CDF is a continuous function, not a staircase function, and this is a very different CDF than for the uniform random variable.  In fact, this is the CDF of an *exponential random variable.* As with the uniform random variable, we will start to use the exponential distribution from SciPy.stats before we formally define the exponential random variable. \n",
    "\n",
    "Let's create a SciPy.stats object for an exponential distribution. Note that instead of the parameter $\\lambda$, we need to pass the average time before an event occurs as the `scale` parameter. The average value is simply the value $365/9 \\approx 40.6$ that we computed before. Below, we create a Scipy.stats object for an exponential distribution with this parameter and plot the CDF of this object on top of the empirical histogram:"
   ]
  },
  {
   "cell_type": "code",
   "execution_count": 15,
   "metadata": {},
   "outputs": [
    {
     "data": {
      "text/plain": [
       "[<matplotlib.lines.Line2D at 0x7fc4a006ea00>]"
      ]
     },
     "execution_count": 15,
     "metadata": {},
     "output_type": "execute_result"
    },
    {
     "data": {
      "image/png": "[encoded data removed]",
      "text/plain": [
       "<Figure size 432x288 with 1 Axes>"
      ]
     },
     "metadata": {
      "needs_background": "light"
     },
     "output_type": "display_data"
    }
   ],
   "source": [
    "X = stats.expon(scale=40.6)\n",
    "\n",
    "# Empirical CDF\n",
    "plt.hist(first_event_times, bins=100, density=True, cumulative=True, alpha=0.5);\n",
    "\n",
    "# Analytical CDF from exponential random variable object\n",
    "t = np.linspace(0, 365, 366)\n",
    "plt.plot(t, X.cdf(t) )"
   ]
  },
  {
   "cell_type": "markdown",
   "metadata": {},
   "source": [
    "## Definition and Implications\n",
    "\n",
    "For most purposes, the following definition of a continuous random variable will suffice:\n",
    "\n",
    "````{card}\n",
    "\n",
    "DEFINITION\n",
    "^^^\n",
    "```{glossary}\n",
    "continuous uniform random variable\n",
    "    A random variable $X$ that has an uncountably infinite number of values in its range \n",
    "    and for which the cumulative distribution function (CDF) $F_X(x)$ is a **continuous function of**  $x$.\n",
    "```\n",
    "````\n"
   ]
  },
  {
   "cell_type": "markdown",
   "metadata": {},
   "source": [
    "\n",
    "You should already know what a continuous function is.  Informally, it is easiest to think of how the function looks when plotted.  A continuous function has no \"breaks\" in its graph, and we can imagine drawing it without having to pick up our pencil.\n",
    "\n",
    "Mathematically, $F_X(x)$ is a continuous function at a point $x_0$ if and only \n",
    "\\begin{align}\n",
    "\\lim_{\\epsilon \\rightarrow 0} F_X(x_0-\\epsilon) &= F_X(x_0), \\mbox{ and} \\\\\n",
    "\\lim_{\\epsilon \\rightarrow 0} F_X(x_0+\\epsilon) &= F_X(x_0).\n",
    "\\end{align}\n",
    "We say that the \"limit from the left\" and the \"limit from the right\" are equal to the value of $F_X()$ at $x_0$.\n",
    "\n",
    "Then $F_X(x)$ is a continuous function if and only if it is a continuous function at every point $x$.\n",
    "\n",
    "\n",
    "If $X$ is a continuous random variable, then the fact that $F_X(x)$ is a continuous random variable has an interesting implication.  Recall from {doc}`cdfs` that $P(X=x)$ is equal to the \"height of the jump\" in $F_X(x)$ at the point $x$. For continuous functions, there are no jumps!  Mathematically, we saw that \n",
    "\n",
    "$$\n",
    "P(X=b) = F_X(b^+) - F_X(b^-).\n",
    "$$\n",
    "\n",
    "Since $F_X(x)$ is continuous, $F_X(x^+) = F_X(x) = F_X(x^-)$ for all $x$, and thus\n",
    "\n",
    "$$\n",
    "P(X=x) = F_X(x^+) - F_X(x^-) = F_X(x) -F_X(x) =0.\n",
    "$$\n",
    "\n",
    "Since this holds for all $x$, $P(X=x)=0$ for all $x$. This is a surprising and counterintuitive result: **none of the values that $X$ takes on have a non-zero probability.**\n",
    "\n",
    "This is hard to understand in the abstract, so let's consider a concrete example. For the uniform random variable on $[0,1],$ the distribution function is \n",
    "\n",
    "$$\n",
    "F_X(x) = \n",
    "\\begin{cases}\n",
    "0, & x<0 \\\\\n",
    "x, & 0 \\le x < 1 \\\\\n",
    "1, & x \\ge 1\\\\\n",
    "\\end{cases}.\n",
    "$$\n",
    "\n",
    "Consider the probability of a symmetric interval centered around 0.5, $P\\left( X \\in \\left(0.5 - \\epsilon, 0.5+ \\epsilon \\right] \\right)$. Using Property 4 of the CDF, we can calculate this probability as a function of $0 < \\epsilon \\le 0.5$ as follows\n",
    "\n",
    "\\begin{align}\n",
    " P\\left( X \\in \\left(0.5 - \\epsilon, 0.5+ \\epsilon \\right] \\right) & =  P ( 0.5 - \\epsilon < X \\le 0.5 + \\epsilon) \\\\\n",
    " & = F_X(0.5 + \\epsilon) - F_X (0.5  - \\epsilon) \\\\\n",
    " &= (0.5 + \\epsilon) - (0.5 - \\epsilon) \\\\\n",
    " &= 2 \\epsilon\n",
    "\\end{align}\n",
    "\n",
    "In fact, it is not hard to see that $P\\left( X \\in \\left(x -\\epsilon, x+ \\epsilon \\right] \\right) = 2 \\epsilon$ for any $x \\in (0,1)$ provided $\\epsilon$ is small enough that $\\left(x -\\epsilon, x+ \\epsilon \\right] \\subseteq [0,1]$.\n",
    "\n",
    "Note that $P(X=x) \\le P\\left( X \\in \\left(x -\\epsilon, x+ \\epsilon \\right] \\right) $ for all $\\epsilon > 0$. Then\n",
    "\\begin{align}\n",
    "P(X=x) & \\le \\lim_{\\epsilon \\rightarrow 0} P\\left( X \\in \\left(x -\\epsilon, x+ \\epsilon \\right] \\right)  \\\\\n",
    "& = \\lim_{\\epsilon \\rightarrow 0} 2 \\epsilon = 0.\n",
    "\\end{align}\n",
    "Since $P(X=x) \\ge 0$, it must be that $P(X=x) =0$ for all $x$.\n",
    " \n",
    "**If you have not encountered this before, it may seem to make no sense -- how can $X$ not have\n",
    "any nonzero probabilities for any values in its range?** Let's start with an analogy. Consider a rectangular wood block, such as the  one shown below:\n",
    "\n"
   ]
  },
  {
   "cell_type": "code",
   "execution_count": 16,
   "metadata": {},
   "outputs": [
    {
     "data": {
      "image/png": "[encoded data removed]",
      "text/plain": [
       "<Figure size 432x288 with 1 Axes>"
      ]
     },
     "metadata": {
      "needs_background": "light"
     },
     "output_type": "display_data"
    }
   ],
   "source": [
    "import matplotlib.pyplot as plt\n",
    "import matplotlib.image as mpimg\n",
    "img = mpimg.imread('figs/woodblock.png')\n",
    "imgplot = plt.imshow(img, extent=[0, 100, 0, 50])\n",
    "ax=plt.gca()\n",
    "ax.tick_params(axis='y',          # changes apply to the x-axis\n",
    "               which='both',      # both major and minor ticks are affected\n",
    "               left=False,      # ticks along the bottom edge are off\n",
    "               right=False,         # ticks along the top edge are off\n",
    "               labelleft=False) # labels along the bottom edge are off\n",
    "\n",
    "\n",
    "plt.show()\n"
   ]
  },
  {
   "cell_type": "markdown",
   "metadata": {},
   "source": [
    "If the wood block weighs 100 g and the mass is evenly distributed, how much mass is in the horizontal range $[0,50]$ ? That range contains half the block, so the answer is 1/2. How much mass is in the horizontal range $[0,x]$, where $0 \\le x \\le 100$? The range contains $x/100$ of the mass, so the answer is $x$ grams. But if we ask how much mass is at any point, then we are back to the same issue.  For instance, the mass at horizontal location 0 is the mass in the range $[0,0]$, which is 0 grams. \n",
    "\n",
    "The way to resolve this issue is that we do not specify the mass at any particular location on the horizontal axis -- instead we can specify the mass density. So, if the horizontal axis is in millimeters, then the mass density is 100 g/ 100 mm = 1 g/mm. Since the mass is assumed to be evenly distributed, the mass in any horizontal range $[x_0, x_1]$, where $0 \\le x_0 < x_1 \\le 100$ is then $(x_1 -x_0) \\mbox{mm} \\cdot (1  \\mbox{g/mm}) = (x_1 -x_0)$ g. If our mass is nonuniformly distributed, then we can create a function $\\rho(x)$ that gives the mass density at position $x$. Then the mass density in an interval $[x_0, x_1]$ is \n",
    "\n",
    "$$\n",
    "\\int_{x_0}^{x_1} \\rho(x) ~ dx.\n",
    "$$"
   ]
  },
  {
   "cell_type": "markdown",
   "metadata": {
    "tags": []
   },
   "source": [
    "## Density Functions \n",
    "\n",
    "We can apply the same idea as mass density in physical objects to probability distributions. The CDF for a random variable $X$ is the total probability in the range $(- \\infty, x)$. If we want to create a probability density, $f_X(x)$, then the CDF should be the *integral* of the probability density on this range:\n",
    "\n",
    "$$\n",
    "F_X(x) = \\int_{-\\infty}^{x} f(u)~du.\n",
    "$$\n",
    "\n",
    "````{warning}\n",
    "\n",
    "There are several important things to note about the equation above:\n",
    "\n",
    "* Note again the importance of distinguishing upper-case and lower-case letters: $F_X(x)$ is a distribution function (CDF), whereas $f_X(x)$ is a density function.\n",
    "* The distribution function at the point $x$ is defined as the integral of the density function from $-\\infty$ to $x$. Because $x$ is in the region of integration, we **cannot use $x$ as the variable of integration**.  You can use any unused variable as the variable of integration (here, I chose $u$) to represent a variable that is changing values as we integrate from $u = -\\infty$ to $u=x$.  **If you try to use $x$ both in the region of integration and as the variable of integration, the answer will almost sure come out wrong!**\n",
    "\n",
    "````\n",
    "\n",
    "Then we have the following definition of the probability density function (from the Fundamental Theorem of Calculus):\n",
    "\n",
    "````{card}\n",
    "\n",
    "DEFINITION\n",
    "^^^\n",
    "```{glossary}\n",
    "probability density function (pdf)\n",
    "    If $X$ is a continuous random variable with distribution function $F_X(x)$, then the probability density function $f_X(x)$ is \n",
    "    \\begin{align} f_X(x) = \\frac{d}{dx} F_X(x) \\end{align}, wherever the derivative is defined.\n",
    "```\n",
    "````\n",
    "\n",
    "````{note}\n",
    "First note the notation:\n",
    "* We will use lower-case *pdf* to denote the probability density function, in the same way that we use lower-case $f$ for this function. \n",
    "* We will use upper-case *CDF* to denote the cumulative distribution function, in the same way that we use upper-case $F$ for this function.\n",
    "\n",
    "This consistency in capitalization will make it easier to remember the differences between these functions.  Although most books follow this convention, not all do, and you may encounter PDF to mean the probability density function in some contexts.\n",
    "````\n"
   ]
  },
  {
   "cell_type": "markdown",
   "metadata": {},
   "source": [
    "**SymPy for Derivatives**\n",
    "\n",
    "Python has a powerful library for performing symbolic mathematics -- i.e., mathematics with variables instead of specific values. I will briefly demonstrate how to use this library to find density functions from distribution functions, and vice versa. As usual, the first step is to import the library. Here, we will use the short name `sp` to refer to SymPy:"
   ]
  },
  {
   "cell_type": "code",
   "execution_count": 17,
   "metadata": {},
   "outputs": [],
   "source": [
    "import sympy as sp"
   ]
  },
  {
   "cell_type": "markdown",
   "metadata": {},
   "source": [
    "The next step we will need to do is to create a variable that maps to a symbol. We can use the SymPy function `sp.symbols()` to create one or more symbols. The function `sp.symbols()` can be called with multiple different types of arguments, but we will always pass an argument that is a string containing a single variable name or a comma separated list of variable names.  The output will be a tuple that can will automatically unpack into a set of comma separated variables. We can create a SymPy symbol object for the variable $x$ as follows:"
   ]
  },
  {
   "cell_type": "code",
   "execution_count": 18,
   "metadata": {},
   "outputs": [],
   "source": [
    "x = sp.symbols('x')"
   ]
  },
  {
   "cell_type": "markdown",
   "metadata": {},
   "source": [
    "If we want to create SymPy objects for variables $y$ and $z$, we can use this:"
   ]
  },
  {
   "cell_type": "code",
   "execution_count": 19,
   "metadata": {},
   "outputs": [],
   "source": [
    "y, z = sp.symbols( 'y,z' )"
   ]
  },
  {
   "cell_type": "markdown",
   "metadata": {},
   "source": [
    "Now we can now create a function  of any of these variables. For instance, if we want to create the function $g(x) = x^2 +5x +6$, we can just do the following:"
   ]
  },
  {
   "cell_type": "code",
   "execution_count": 20,
   "metadata": {},
   "outputs": [],
   "source": [
    "g = x**2 + 5*x + 6"
   ]
  },
  {
   "cell_type": "markdown",
   "metadata": {},
   "source": [
    "We can take derivatives using `sp.diff()`. It takes two arguments: the function to take the derivative of, and the variable to differentiate. So we can get\n",
    "\n",
    "$$\n",
    "\\frac{d}{dx} g(x)\n",
    "$$\n",
    "using SymPy as follows"
   ]
  },
  {
   "cell_type": "code",
   "execution_count": 21,
   "metadata": {},
   "outputs": [
    {
     "data": {
      "text/latex": [
       "$\\displaystyle 2 x + 5$"
      ],
      "text/plain": [
       "2*x + 5"
      ]
     },
     "execution_count": 21,
     "metadata": {},
     "output_type": "execute_result"
    }
   ],
   "source": [
    "sp.diff(g, x)"
   ]
  },
  {
   "cell_type": "markdown",
   "metadata": {},
   "source": [
    "The SymPy function `sp.integrate()` performs symbolic integration. It has a similar call pattern to `sp.diff()`: the first argument is the function to integrate, and the second argument is the variable of integration:"
   ]
  },
  {
   "cell_type": "code",
   "execution_count": 22,
   "metadata": {},
   "outputs": [
    {
     "data": {
      "text/latex": [
       "$\\displaystyle x^{2} + 5 x$"
      ],
      "text/plain": [
       "x**2 + 5*x"
      ]
     },
     "execution_count": 22,
     "metadata": {},
     "output_type": "execute_result"
    }
   ],
   "source": [
    "sp.integrate(2*x+5, x)"
   ]
  },
  {
   "cell_type": "markdown",
   "metadata": {},
   "source": [
    "(Note that the integral of the derivative is only equal to the original expression up to a constant.)\n",
    "\n"
   ]
  },
  {
   "cell_type": "markdown",
   "metadata": {},
   "source": [
    "Many density and distribution functions are *piecewise functions*:\n",
    "\n",
    "\n",
    "````{card}\n",
    "\n",
    "DEFINITION\n",
    "^^^\n",
    "```{glossary}\n",
    "piecewise function\n",
    "    A *piecewise function* is a function that has a different functional relationship on different regions of its variable(s).\n",
    "```\n",
    "````"
   ]
  },
  {
   "cell_type": "markdown",
   "metadata": {},
   "source": [
    "For instance, consider again the distribution of the uniform random variable $T$ with range $[0,365]$.  We saw that if $t \\in [0, 365]$, then \n",
    "\n",
    "$$\n",
    "F_T(t) = \\frac{t}{365}.\n",
    "$$\n",
    "However, that does not generalize to outside of this interval.  For instance, since we know that the range of $T$ is $[0,365]$, then there are no values of $T$ for which $T\\le t$ if $t < 0$. For example, see below for an illustration of the relation of these regions:\n",
    "\n",
    "\n",
    "\n",
    "```{image} figs/uniform-cdf-less-than-zero.pdf\n",
    ":alt: \n",
    ":width: 320px\n",
    "```\n",
    "\n",
    "\n",
    "Thus,\n",
    "\n",
    "$$\n",
    "F_T(t) = P(T \\le t) = 0, \\mbox{ if } t<0.\n",
    "$$\n",
    "\n"
   ]
  },
  {
   "cell_type": "markdown",
   "metadata": {},
   "source": [
    "Similarly if $t> 365,$ then the region $T \\le t$ contains the region $T \\le 365$, as shown below:\n",
    "\n",
    "\n",
    "```{image} figs/uniform-cdf-greater-than-365.pdf\n",
    ":alt: \n",
    ":width: 320px\n",
    "```\n",
    "\n",
    "Thus, all of the probability of $T$ is contained in the region $T \\le t$, and \n",
    "\n",
    "$$\n",
    "F_T(t) = P (T \\le t) = 1, \\mbox{ if } t \\ge 365.\n",
    "$$\n",
    "\n",
    "(We could also have considered the region $t \\ge 365$, but we already have a functional relationship for $0 \\le t \\le 365$, which contains the pointer $t=365$.\n",
    "\n",
    "Putting all this together, $F_T(t)$ is a piecewise function given by\n",
    "\\begin{equation*}\n",
    "F_T(t) = \n",
    "\\begin{cases}\n",
    "0, & t < 0 \\\\\n",
    "\\frac{t}{365}, & 0 \\le t \\le 365 \\\\\n",
    "1, & t > 365 \n",
    "\\end{cases}\n",
    "\\end{equation*}"
   ]
  },
  {
   "cell_type": "markdown",
   "metadata": {},
   "source": [
    "We can use the `sp.Piecewise()` function to implement this in SymPy. The arguments of `sp.Piecewise()` are a sequence of tuples, where the first element of the tuple is the function, and the second element is the condition that specifies the region. Here is an implementation of the function $F_T(t)$ above:"
   ]
  },
  {
   "cell_type": "code",
   "execution_count": 23,
   "metadata": {},
   "outputs": [
    {
     "data": {
      "text/latex": [
       "$\\displaystyle \\begin{cases} 0 & \\text{for}\\: x < 0 \\\\\\frac{x}{365} & \\text{for}\\: x \\leq 365 \\\\1 & \\text{otherwise} \\end{cases}$"
      ],
      "text/plain": [
       "Piecewise((0, x < 0), (x/365, x <= 365), (1, True))"
      ]
     },
     "execution_count": 23,
     "metadata": {},
     "output_type": "execute_result"
    }
   ],
   "source": [
    "f=sp.Piecewise( (0, x<0), (x / 365, (x >=0) & (x <=365)), (1, x >365) )\n",
    "f"
   ]
  },
  {
   "cell_type": "markdown",
   "metadata": {},
   "source": [
    "Note that the region for the second \"piece\" does not match the one we specified; that is because  `sp.Piecewise()` evaluates the conditions in order, so it is not necessary to specify $x \\ge 0$ for the second \"piece\". Similarly, the last piece corresponds to every condition not covered by the first two. We could have taken advantage of this in creating SymPy version as follows:"
   ]
  },
  {
   "cell_type": "code",
   "execution_count": 24,
   "metadata": {},
   "outputs": [
    {
     "data": {
      "text/latex": [
       "$\\displaystyle \\begin{cases} 0 & \\text{for}\\: x < 0 \\\\\\frac{x}{365} & \\text{for}\\: x \\leq 365 \\\\1 & \\text{otherwise} \\end{cases}$"
      ],
      "text/plain": [
       "Piecewise((0, x < 0), (x/365, x <= 365), (1, True))"
      ]
     },
     "execution_count": 24,
     "metadata": {},
     "output_type": "execute_result"
    }
   ],
   "source": [
    "f=sp.Piecewise( (0, x<0), (x / 365, x <=365), (1, True) )\n",
    "f"
   ]
  },
  {
   "cell_type": "markdown",
   "metadata": {},
   "source": [
    "SymPy can differentiate piecewise functions, but the derivative is also piecewise. This works fine if the function being differentiated is continuous, but derivatives of functions with step discontinuities (like CDFs of discrete random variables) require using generalized functions (Dirac delta functions).\n",
    "\n",
    "Here is the density function $f_T(t)$:"
   ]
  },
  {
   "cell_type": "code",
   "execution_count": 25,
   "metadata": {},
   "outputs": [
    {
     "data": {
      "text/latex": [
       "$\\displaystyle \\begin{cases} 0 & \\text{for}\\: x < 0 \\\\\\frac{1}{365} & \\text{for}\\: x \\leq 365 \\\\0 & \\text{otherwise} \\end{cases}$"
      ],
      "text/plain": [
       "Piecewise((0, x < 0), (1/365, x <= 365), (0, True))"
      ]
     },
     "execution_count": 25,
     "metadata": {},
     "output_type": "execute_result"
    }
   ],
   "source": [
    "sp.diff(f, x)"
   ]
  },
  {
   "cell_type": "markdown",
   "metadata": {},
   "source": [
    "Note that probability densities are not probabilities. Like probabilities, they are non-negative (because a density function is the derivative of a monotonically nolen-decreasing function).  However, unlike probabilities, they are not upper-bounded by 1. For example, suppose that $U$ is a uniform random variable with range $[0, 0.1]$. Then the CDF is \n",
    "\n",
    "$$\n",
    "F_U(u) = \n",
    "\\begin{cases}\n",
    "0, & u < 0 \\\\\n",
    "\\frac{u}{0.1}, & 0 \\le u \\ 0.1 \\\\\n",
    "1, & u > 1\n",
    "\\end{cases},\n",
    "$$\n",
    "and the density function is \n",
    "\n",
    "$$\n",
    "f_u(u) = \\frac{d}{du} F_U(u) = \n",
    "\\begin{cases}\n",
    "10, & 0 \\le u \\ 0.1 \\\\\n",
    "0, & \\mbox{otherwise}\n",
    "\\end{cases}.\n",
    "$$"
   ]
  },
  {
   "cell_type": "markdown",
   "metadata": {},
   "source": [
    "Now consider the time to the first Poisson event, $T_0$, which has the CDF\n",
    "\n",
    "$$\n",
    "F_{T_0} (t) = \n",
    "\\begin{cases} \n",
    "1 -P(t) = 1 - e^{\\lambda t}, & t \\ge 0 \\\\\n",
    "0, & t < 0\n",
    "\\end{cases}.\n",
    "$$\n",
    "\n",
    "Then a SymPy implementation and derivative are shown below:"
   ]
  },
  {
   "cell_type": "code",
   "execution_count": 26,
   "metadata": {},
   "outputs": [
    {
     "data": {
      "text/latex": [
       "$\\displaystyle \\begin{cases} 0 & \\text{for}\\: t < 0 \\\\1 - e^{- l t} & \\text{otherwise} \\end{cases}$"
      ],
      "text/plain": [
       "Piecewise((0, t < 0), (1 - exp(-l*t), True))"
      ]
     },
     "execution_count": 26,
     "metadata": {},
     "output_type": "execute_result"
    }
   ],
   "source": [
    "t, l=sp.symbols('t,l')\n",
    "FT0 = sp.Piecewise( (0, t<0) , (1 - sp.exp(-l * t), t>=0))\n",
    "FT0\n",
    "                   "
   ]
  },
  {
   "cell_type": "markdown",
   "metadata": {},
   "source": [
    "Then the density function is given by\n",
    "\n",
    "$$\n",
    "f_{T_0} = \\frac{d}{dt} F_{T_0}(t),\n",
    "$$\n",
    "which is"
   ]
  },
  {
   "cell_type": "code",
   "execution_count": 27,
   "metadata": {},
   "outputs": [
    {
     "data": {
      "text/latex": [
       "$\\displaystyle \\begin{cases} 0 & \\text{for}\\: t < 0 \\\\l e^{- l t} & \\text{otherwise} \\end{cases}$"
      ],
      "text/plain": [
       "Piecewise((0, t < 0), (l*exp(-l*t), True))"
      ]
     },
     "execution_count": 27,
     "metadata": {},
     "output_type": "execute_result"
    }
   ],
   "source": [
    "fT0 = sp.diff(FT0, t)\n",
    "fT0"
   ]
  },
  {
   "cell_type": "markdown",
   "metadata": {},
   "source": [
    "## Properties of Density Functions\n",
    "\n",
    "**1.The probability density function is non-negative:** $f_X(x) \\ge 0, -\\infty < x < \\infty$\n",
    "\n",
    "*Proof:* Since the CDF, $F_X(x)$, is a nondecreasing function, its derivative is non-negative.\n",
    "\n",
    "**2. The density function integrates to 1:**\n",
    "\n",
    "*Proof:* From the Fundamental Theorem of Calculus and the fact that $P(-\\infty)=0$, \n",
    "\n",
    "$$\n",
    "F_X(x) = \\int_{-\\infty}^{x} f_X(x) dx. \n",
    "$$  \n",
    "\n",
    "Then\n",
    "\n",
    "$$\n",
    "\\int_{-\\infty}^{\\infty} f_X(x) dx = F_X(\\infty) = 1. \n",
    "$$  \n",
    "\n",
    "**3. Calculate the probability of an interval by integrating the density over it.** I.e.,\n",
    "\n",
    "$$\n",
    "P(a < X \\le b) = \\int_a^b f_X(x) dx, a \\le b\n",
    "$$ \n",
    "\n",
    "*Proof:*    \n",
    "\\begin{eqnarray*}\n",
    "P(a< X \\le b) &=& F_X(b) -F_X(a)  \\\\\n",
    "  &=& \\int_{-\\infty}^{b} f_X(x)~dx - \\int_{-\\infty}^{a} f_X(x)~dx  \\\\\n",
    "  &=& \\int_a^b f_X(x)~dx .\n",
    "\\end{eqnarray*} \n",
    "\n",
    "**4. Calculate probabilities of any Borel set by integrating the density over that set.**\n",
    "For any Borel set $B$, \n",
    "\n",
    "$$\n",
    "P(B) = \\int_B f_X(x)~dx.\n",
    "$$\n",
    "\n",
    "*Proof Sketch:*\n",
    "$B$ can be written as the union of intervals, so pdf property 3 can be used to write the pdf of each interval as an integral of the pdf over the interval. Then the integral above is short-hand notation for integrating over all the intervals that make up $B$.\n",
    "\n",
    "This is not a particularly powerful property when dealing with single random variables; however, when this property is extended to working with multiple random variables, it enables the computation of probabilities that cannot otherwise be computed.\n",
    "\n",
    "**5. Almost any nonnegative function that integrates to 1 is a valid density function for some random variable.** \n",
    "\n",
    "If $g(x)$ is a nonnegative piecewise continuous function\n",
    "    with finite integral \n",
    "    \\begin{eqnarray*}\n",
    "      \\int_{-\\infty}^{+\\infty} g(x) dx = c, -\\infty< c < +\\infty, \n",
    "    \\end{eqnarray*}\n",
    "    then $f_X(x)=\\frac{g(x)}{c}$ is a valid pdf for a random variable.\n",
    "  \n",
    "*The proof is beyond the scope of this text.*"
   ]
  },
  {
   "cell_type": "markdown",
   "metadata": {},
   "source": [
    "Now that we have been introduced to continuous random variables, along with pdfs and their properties, we are ready to learn more about important continuous random variables and how to work with them using SciPy.stats in the next section."
   ]
  },
  {
   "cell_type": "markdown",
   "metadata": {
    "tags": []
   },
   "source": [
    "## Terminology Review"
   ]
  },
  {
   "cell_type": "code",
   "execution_count": 28,
   "metadata": {
    "tags": [
     "remove-input"
    ]
   },
   "outputs": [
    {
     "data": {
      "text/html": [
       "<style>\n",
       ":root{\n",
       "--asparagus: #87a878ff;\n",
       "--terra-cotta: #e26d5aff;\n",
       "--cyan-process: #5bc0ebff;\n",
       "--dark-blue-gray: #666a86ff;\n",
       "--snow: #fffafbff;\n",
       "--rich-black-fogra-39: #090c08ff;\n",
       "}\n",
       "\n",
       "\n",
       "/* entire container, keeps perspective */\n",
       ".flip-container {\n",
       "\tperspective: 1000px;\n",
       "  touch-action: pinch-zoom pan-y;\n",
       "}\n",
       "\n",
       "\n",
       ".flip-container.flip .flipper {\n",
       "\ttransform: rotateY(180deg)  translateX(-10%);\n",
       "}\n",
       "\n",
       "\n",
       ".flip-container.slide .flipper.frontcard {\n",
       "    filter: brightness(90%);\n",
       "    position:absolute;\n",
       "    z-index: -20;\n",
       "}\n",
       "\n",
       ".flip-container.prepare .flipper.backcard {\n",
       "    opacity:1;\n",
       "    transform:  translateX(20px); \n",
       "    transition: display 0s;\n",
       "}\n",
       "\n",
       "\n",
       ".flip-container.slide .flipper.backcard {\n",
       "    filter: brightness(115%);\n",
       "    height: 360px;\n",
       "    opacity:1;\n",
       "\t  transform:  rotateY(3deg)  translateX(700px) translateZ(20px) scale(1, 1.05) rotate(3deg);\n",
       "    z-index: 20;\n",
       "}\n",
       "\n",
       "\n",
       "\n",
       "\n",
       ".flip-container.slideback .flipper.backcard {\n",
       "    filter: brightness(100%);\n",
       "    opacity: 1;\n",
       "\t  transform: translateX(0px) translateZ(20px) rotateY(0deg);\n",
       "    z-index: 10;\n",
       "}\n",
       "\n",
       ".flip-container.slideback .flipper.frontcard {\n",
       "    filter: brightness(90%);\n",
       "    transform: translateX(0px) translateZ(-20px);\n",
       "    z-index: -10;\n",
       "}\n",
       "\n",
       "\n",
       ".flip-container, .front, .back {\n",
       "\t  height: 300px;\n",
       "\t  width: 640px;\n",
       "}\n",
       "\n",
       ".flipper.frontcard {\n",
       "    position:absolute;\n",
       "\t  transform: translateX(0px) rotateY(0deg) translateZ(20px);\n",
       "    z-index: 10;\n",
       "}\n",
       "\n",
       ".flipper.backcard {\n",
       "    filter: brightness(90%);\n",
       "    opacity:0;\n",
       "    position:absolute;\n",
       "    transform: translateX(0px) translateZ(-20px);\n",
       "    z-index: -10;\n",
       "}\n",
       "\n",
       "\n",
       "\n",
       "\n",
       "/* flip speed goes here */\n",
       ".flipper {\n",
       "    cursor:pointer;\n",
       "\t  height: 200px;\n",
       "    margin-left:20px;\n",
       "\t  position: absolute;\n",
       "    top: 0;\n",
       "\t  transform-style: preserve-3d;\n",
       "\t  transition: 0.6s;\n",
       "    width: 600px;\n",
       "}\n",
       "\n",
       "/* hide back of pane during swap */\n",
       ".front, .back {\n",
       "    -webkit-backface-visibility: hidden;\n",
       "\t  backface-visibility: hidden;\n",
       "\t  left: 0;\n",
       "\t  position: absolute;\n",
       "\t  top: 0;\n",
       "}\n",
       "\n",
       "/* front pane, placed above back */\n",
       ".front {\n",
       "\t  backface-visibility: hidden;\n",
       "    background: var(--asparagus);\n",
       "    transform: rotateY(0deg);\n",
       "\t  z-index: 2;\n",
       "}\n",
       "\n",
       "/* back, initially hidden pane */\n",
       ".back {\n",
       "\t  backface-visibility: hidden;\n",
       "    background: var(--dark-blue-gray);\n",
       "\t  transform: rotateY(180deg);\n",
       "}\n",
       "\n",
       ".next {\n",
       "    color: var(--rich-black-fogra-39);\n",
       "    cursor:pointer;\n",
       "    font-size: 16pt;\n",
       "    left:600px;\n",
       "    opacity:0.3;\n",
       "    position:relative; \n",
       "    top:20px;\n",
       "}\n",
       "\n",
       ".next.flipped {\n",
       "    opacity:1;\n",
       "}\n",
       "\n",
       ".next.hide {\n",
       "    opacity:0;\n",
       "}\n",
       "\n",
       "\n",
       ".flashcard{\n",
       "    border-radius: 10px;\n",
       "    color: #fafafa;\n",
       "    display:block;\n",
       "    padding:10px;\n",
       "  \n",
       "}\n",
       ".flashcardtext{\n",
       "    color: var(--snow);\n",
       "    font-size: 20pt;\n",
       "    margin-left:3%;\n",
       "    position:absolute;\n",
       "    text-align:center;\n",
       "    top: 50%;\n",
       "    transform: translate(0, -50%);\n",
       "    width:90%;\n",
       "  }\n",
       "\n",
       "</style><script type=\"text/Javascript\">\n",
       "/*!\n",
       " * swiped-events.js - v1.1.4\n",
       " * Pure JavaScript swipe events\n",
       " * https://github.com/john-doherty/swiped-events\n",
       " * @inspiration https://stackoverflow.com/questions/16348031/disable-scrolling-when-touch-moving-certain-element\n",
       " * @author John Doherty <www.johndoherty.info>\n",
       " * @license MIT\n",
       " */\n",
       "!function(t,e){\"use strict\";\"function\"!=typeof t.CustomEvent&&(t.CustomEvent=function(t,n){n=n||{bubbles:!1,cancelable:!1,detail:void 0};var a=e.createEvent(\"CustomEvent\");return a.initCustomEvent(t,n.bubbles,n.cancelable,n.detail),a},t.CustomEvent.prototype=t.Event.prototype),e.addEventListener(\"touchstart\",function(t){if(\"true\"===t.target.getAttribute(\"data-swipe-ignore\"))return;s=t.target,r=Date.now(),n=t.touches[0].clientX,a=t.touches[0].clientY,u=0,i=0},!1),e.addEventListener(\"touchmove\",function(t){if(!n||!a)return;var e=t.touches[0].clientX,r=t.touches[0].clientY;u=n-e,i=a-r},!1),e.addEventListener(\"touchend\",function(t){if(s!==t.target)return;var e=parseInt(l(s,\"data-swipe-threshold\",\"20\"),10),o=parseInt(l(s,\"data-swipe-timeout\",\"500\"),10),c=Date.now()-r,d=\"\",p=t.changedTouches||t.touches||[];Math.abs(u)>Math.abs(i)?Math.abs(u)>e&&c<o&&(d=u>0?\"swiped-left\":\"swiped-right\"):Math.abs(i)>e&&c<o&&(d=i>0?\"swiped-up\":\"swiped-down\");if(\"\"!==d){var b={dir:d.replace(/swiped-/,\"\"),xStart:parseInt(n,10),xEnd:parseInt((p[0]||{}).clientX||-1,10),yStart:parseInt(a,10),yEnd:parseInt((p[0]||{}).clientY||-1,10)};s.dispatchEvent(new CustomEvent(\"swiped\",{bubbles:!0,cancelable:!0,detail:b})),s.dispatchEvent(new CustomEvent(d,{bubbles:!0,cancelable:!0,detail:b}))}n=null,a=null,r=null},!1);var n=null,a=null,u=null,i=null,r=null,s=null;function l(t,n,a){for(;t&&t!==e.documentElement;){var u=t.getAttribute(n);if(u)return u;t=t.parentNode}return a}}(window,document);\n",
       "\n",
       "function jaxify(string) {\n",
       "    var mystring = string;\n",
       "    console.log(mystring);\n",
       "\n",
       "    count = 0;\n",
       "    var loc = mystring.search(/([^\\\\]|^)(\\$)/);\n",
       "\n",
       "    count2 = 0;\n",
       "    var loc2 = mystring.search(/([^\\\\]|^)(\\$\\$)/);\n",
       "\n",
       "    //console.log(loc);\n",
       "\n",
       "    while ((loc >= 0) || (loc2 >= 0)) {\n",
       "\n",
       "        /* Have to replace all the double $$ first with current implementation */\n",
       "        if (loc2 >= 0) {\n",
       "            if (count2 % 2 == 0) {\n",
       "                mystring = mystring.replace(/([^\\\\]|^)(\\$\\$)/, \"$1\\\\[\");\n",
       "            } else {\n",
       "                mystring = mystring.replace(/([^\\\\]|^)(\\$\\$)/, \"$1\\\\]\");\n",
       "            }\n",
       "            count2++;\n",
       "        } else {\n",
       "            if (count % 2 == 0) {\n",
       "                mystring = mystring.replace(/([^\\\\]|^)(\\$)/, \"$1\\\\(\");\n",
       "            } else {\n",
       "                mystring = mystring.replace(/([^\\\\]|^)(\\$)/, \"$1\\\\)\");\n",
       "            }\n",
       "            count++;\n",
       "        }\n",
       "        loc = mystring.search(/([^\\\\]|^)(\\$)/);\n",
       "        loc2 = mystring.search(/([^\\\\]|^)(\\$\\$)/);\n",
       "        //console.log(mystring,\", loc:\",loc,\", loc2:\",loc2);\n",
       "    }\n",
       "\n",
       "    //console.log(mystring);\n",
       "    return mystring;\n",
       "}\n",
       "\n",
       "function flip(ths) {\n",
       "    console.log(ths);\n",
       "    console.log(ths.id);\n",
       "    ths.classList.toggle(\"flip\"); \n",
       "    var next=document.getElementById(ths.id+'-next');\n",
       "    next.style.pointerEvents='none';\n",
       "    next.classList.add('flipped');\n",
       "    if (typeof MathJax != 'undefined') {\n",
       "        var version = MathJax.version;\n",
       "        console.log('MathJax version', version);\n",
       "        if (version[0] == \"2\") {\n",
       "            MathJax.Hub.Queue([\"Typeset\", MathJax.Hub]);\n",
       "        } else if (version[0] == \"3\") {\n",
       "            MathJax.typeset([ths]);\n",
       "        }\n",
       "    } else {\n",
       "        console.log('MathJax not detected');\n",
       "    }\n",
       "\n",
       "\n",
       "    setTimeout(reenableNext, 700, next);\n",
       "}\n",
       "\n",
       "function reenableNext(next) {\n",
       "    next.style.pointerEvents='auto';\n",
       "}\n",
       "\n",
       "\n",
       "\n",
       "function slide2(containerId) {\n",
       "    var container = document.getElementById(containerId);\n",
       "    var next=document.getElementById(containerId+'-next');\n",
       "    var frontcard = container.children[0];\n",
       "    var backcard = container.children[1];\n",
       "    container.style.pointerEvents='none';\n",
       "    //backcard.style.pointerEvents='none';\n",
       "    next.style.pointerEvents='none';\n",
       "    next.classList.remove('flipped');\n",
       "    next.classList.add('hide');\n",
       "\n",
       "    //container.classList.add(\"prepare\");\n",
       "    \n",
       "    container.className=\"flip-container slide\";\n",
       "    backcard.parentElement.removeChild(frontcard);\n",
       "    backcard.parentElement.appendChild(frontcard);\n",
       "    setTimeout(slideback, 600, container, frontcard, backcard, next);\n",
       "    \n",
       "}\n",
       "\n",
       "\n",
       "function checkFlip(containerId) {\n",
       "    var container = document.getElementById(containerId);\n",
       "\n",
       "\n",
       "    if (container.classList.contains('flip')) {\n",
       "        container.classList.remove('flip');\n",
       "        setTimeout(slide2, 600, containerId);\n",
       "    } \n",
       "    else {\n",
       "        slide2(containerId);\n",
       "    }\n",
       "}\n",
       "\n",
       "\n",
       "function slideback(container, frontcard, backcard, next) {\n",
       "    container.className=\"flip-container slideback\";\n",
       "    setTimeout(cleanup, 600, container, frontcard, backcard, next);\n",
       "}\n",
       "\n",
       "function cleanup(container, frontcard, backcard, next) {\n",
       "    container.removeChild(frontcard);\n",
       "    backcard.className=\"flipper frontcard\";\n",
       "    container.className=\"flip-container\";\n",
       "\n",
       "    var cardnum=parseInt(container.dataset.cardnum);\n",
       "    var cards=eval('cards'+container.id);\n",
       "    var flipper=createOneCard(container, false, cards, cardnum);\n",
       "    container.append(flipper);\n",
       "    cardnum= (cardnum+1) % parseInt(container.dataset.numCards);\n",
       "    container.dataset.cardnum=cardnum;\n",
       "    if (cardnum != 1){\n",
       "        next.innerHTML=\"Next >\";\n",
       "    } else {\n",
       "        next.innerHTML=\"Reload \\\\(\\\\circlearrowleft\\\\) \";\n",
       "        if (typeof MathJax != 'undefined') {\n",
       "            var version = MathJax.version;\n",
       "            console.log('MathJax version', version);\n",
       "            if (version[0] == \"2\") {\n",
       "                MathJax.Hub.Queue([\"Typeset\", MathJax.Hub]);\n",
       "            } else if (version[0] == \"3\") {\n",
       "                MathJax.typeset([next]);\n",
       "            }\n",
       "        } else {\n",
       "            console.log('MathJax not detected');\n",
       "        }\n",
       "\n",
       "\n",
       "    }\n",
       "\n",
       "    if (typeof MathJax != 'undefined') {\n",
       "        var version = MathJax.version;\n",
       "        console.log('MathJax version', version);\n",
       "        if (version[0] == \"2\") {\n",
       "            MathJax.Hub.Queue([\"Typeset\", MathJax.Hub]);\n",
       "        } else if (version[0] == \"3\") {\n",
       "            MathJax.typeset();\n",
       "        }\n",
       "    } else {\n",
       "        console.log('MathJax not detected');\n",
       "    }\n",
       "\n",
       "\n",
       "    next.style.pointerEvents='auto';\n",
       "    container.style.pointerEvents='auto';\n",
       "    next.classList.remove('hide');\n",
       "    container.addEventListener('swiped-left', function(e) {\n",
       "        /*\n",
       "          console.log(e.detail);\n",
       "          console.log(id);\n",
       "        */\n",
       "        checkFlip(container.id);\n",
       "    }, {once: true });\n",
       "\n",
       "\n",
       "}\n",
       "\n",
       "\n",
       "function createOneCard  (mydiv, frontCard, cards, cardnum) {\n",
       "    colors=[\n",
       "        '--asparagus',\n",
       "        '--terra-cotta',\n",
       "        '--cyan-process'\n",
       "    ]\n",
       "\n",
       "    var flipper = document.createElement('div');\n",
       "    if (frontCard){\n",
       "        flipper.className=\"flipper frontcard\";    \n",
       "    }\n",
       "    else {\n",
       "        flipper.className=\"flipper backcard\";   \n",
       "    }\n",
       "\n",
       "    var front = document.createElement('div');\n",
       "    front.className='front flashcard';\n",
       "\n",
       "    var frontSpan= document.createElement('span');\n",
       "    frontSpan.className='flashcardtext';\n",
       "    frontSpan.innerHTML=jaxify(cards[cardnum]['front']);\n",
       "    //frontSpan.textContent=jaxify(cards[cardnum]['front']);\n",
       "    front.style.background='var(' + colors[cardnum % colors.length] + ')';\n",
       "\n",
       "\n",
       "    front.append(frontSpan);\n",
       "    flipper.append(front);\n",
       "\n",
       "    var back = document.createElement('div');\n",
       "    back.className='back flashcard';\n",
       "\n",
       "    var backSpan= document.createElement('span');\n",
       "    backSpan.className='flashcardtext';\n",
       "    backSpan.innerHTML=jaxify(cards[cardnum]['back']);\n",
       "    back.append(backSpan);\n",
       "\n",
       "    flipper.append(back);\n",
       "\n",
       "    return flipper;\n",
       "\n",
       "}\n",
       "\n",
       "\n",
       "\n",
       "\n",
       "\n",
       "function createCards(id) {\n",
       "    console.log(id);\n",
       "    \n",
       "    var mydiv=document.getElementById(id);\n",
       "    \n",
       "    var cards=eval('cards'+id);\n",
       "    mydiv.dataset.cardnum=0;\n",
       "    mydiv.dataset.numCards=cards.length;\n",
       "    mydiv.addEventListener('swiped-left', function(e) {\n",
       "        /*\n",
       "          console.log(e.detail);\n",
       "          console.log(id);\n",
       "        */\n",
       "        checkFlip(id);\n",
       "    }, {once: true});\n",
       "\n",
       "    var cardnum=0;\n",
       "    \n",
       "    for (var i=0; i<2; i++) {\n",
       "    \n",
       "        var flipper;\n",
       "        if (i==0){\n",
       "            flipper=createOneCard(mydiv, true, cards, cardnum);\n",
       "        }\n",
       "        else {\n",
       "            flipper=createOneCard(mydiv, false, cards, cardnum);\n",
       "        }\n",
       "\n",
       "        mydiv.append(flipper);\n",
       "        if (typeof MathJax != 'undefined') {\n",
       "            var version = MathJax.version;\n",
       "            if (typeof version == 'undefined') {\n",
       "                setTimeout(function(){\n",
       "                    var version = MathJax.version;\n",
       "                    console.log('After sleep, MathJax version', version);\n",
       "                    if (version[0] == \"2\") {\n",
       "                        MathJax.Hub.Queue([\"Typeset\", MathJax.Hub]);\n",
       "                    } else if (version[0] == \"3\") {\n",
       "                        MathJax.typeset([flipper]);\n",
       "                    }\n",
       "                }, 500);\n",
       "            } else{\n",
       "                console.log('MathJax version', version);\n",
       "                if (version[0] == \"2\") {\n",
       "                    MathJax.Hub.Queue([\"Typeset\", MathJax.Hub]);\n",
       "                } else if (version[0] == \"3\") {\n",
       "                    MathJax.typeset([flipper]);\n",
       "                }\n",
       "            }\n",
       "        } else {\n",
       "            console.log('MathJax not detected');\n",
       "        }\n",
       "\n",
       "\n",
       "        cardnum = (cardnum + 1) % mydiv.dataset.numCards;\n",
       "    }\n",
       "    mydiv.dataset.cardnum = cardnum;\n",
       "\n",
       "    var next=document.getElementById(id+'-next');\n",
       "    if (cards.length==1) {\n",
       "        // Don't show next if no other cards!\n",
       "        next.style.pointerEvents='none';\n",
       "        next.classList.add('hide');\n",
       "    } else {\n",
       "        next.innerHTML=\"Next >\";\n",
       "    }\n",
       "\n",
       "    return flipper;\n",
       "}\n",
       "\n",
       "\n",
       "\n",
       "\n",
       "\n",
       "</script><script type=\"text/Javascript\">\n",
       "    \n",
       "    cardszsHFfFTThrup=[\n",
       "    {\n",
       "        \"front\": \"Continuous uniform random variable\",\n",
       "        \"back\": \"RV with uncountably infinite range and continuous CDF\"\n",
       "    },\n",
       "    {\n",
       "        \"front\": \"Probability density function (pdf)\",\n",
       "        \"back\": \"For a continuous RV $X$, \\\\[f_X(x) = \\\\frac{d}{dx} F_X(x)\\\\] \"\n",
       "    },\n",
       "    {\n",
       "        \"front\": \"Piecewise function\",\n",
       "        \"back\": \"A function that has a different functional relationship on different regions of its variable(s).\"\n",
       "    }\n",
       "]\n",
       ";\n",
       "    \n",
       "\n",
       "        {\n",
       "        const jmscontroller = new AbortController();\n",
       "        const signal = jmscontroller.signal;\n",
       "\n",
       "        setTimeout(() => jmscontroller.abort(), 5000);\n",
       "\n",
       "        fetch(\"https://raw.githubusercontent.com/jmshea/Foundations-of-Data-Science-with-Python/main/08-random-variables/flashcards/continuous-rvs.json\", {signal})\n",
       "        .then(response => response.json())\n",
       "        .then(json => createCards(\"zsHFfFTThrup\"))\n",
       "        .catch(err => {\n",
       "        console.log(\"Fetch error or timeout\");\n",
       "        createCards(\"zsHFfFTThrup\");\n",
       "        });\n",
       "        }\n",
       "        </script>\n",
       "        <div style=\"height:40px\"></div><div class=\"flip-container\" id=\"zsHFfFTThrup\" onclick=\"flip(this)\"></div><div style=\"height:40px\"></div><div class=\"next\" id=\"zsHFfFTThrup-next\" onclick=\"checkFlip('zsHFfFTThrup')\"> </div> <div style=\"height:40px\"></div>"
      ],
      "text/plain": [
       "<IPython.core.display.HTML object>"
      ]
     },
     "metadata": {},
     "output_type": "display_data"
    }
   ],
   "source": [
    "from jupytercards import display_flashcards\n",
    "\n",
    "#display_flashcards('flashcards/'+'continuous-rvs.json')\n",
    "\n",
    "github='https://raw.githubusercontent.com/jmshea/Foundations-of-Data-Science-with-Python/main/'\n",
    "github+='08-random-variables/flashcards/'\n",
    "display_flashcards(github+'continuous-rvs.json')\n",
    "\n",
    "\n"
   ]
  }
 ],
 "metadata": {
  "kernelspec": {
   "display_name": "Python 3 (ipykernel)",
   "language": "python",
   "name": "python3"
  },
  "language_info": {
   "codemirror_mode": {
    "name": "ipython",
    "version": 3
   },
   "file_extension": ".py",
   "mimetype": "text/x-python",
   "name": "python",
   "nbconvert_exporter": "python",
   "pygments_lexer": "ipython3",
   "version": "3.9.12"
  }
 },
 "nbformat": 4,
 "nbformat_minor": 4
}
