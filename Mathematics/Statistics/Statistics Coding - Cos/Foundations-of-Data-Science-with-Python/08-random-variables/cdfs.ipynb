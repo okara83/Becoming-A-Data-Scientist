{
 "cells": [
  {
   "cell_type": "markdown",
   "metadata": {},
   "source": [
    "# Cumulative Distribution Functions\n",
    "\n",
    "We now introduce the *cumulative distribution function*. Recall that we wish to be able to assign probability to any of the Borel sets (of $\\mathbb{R}$. In addition, the Borel sets can be formed from the countable unions, intersections, and complements of intervals of the form $(-\\infty, x)$ for all real $x$. This motivates us to develop a function that assigns probabilities to all such sets. Noting that \n",
    "\n",
    "$$\n",
    "\\operatorname{Pr} \\bigl( X \\in (-\\infty, x] \\bigr) = \\operatorname{Pr} ( X \\le x),\n",
    "$$\n",
    "we define the cumulative distribution function as follows:\n",
    "\n",
    "````{card}\n",
    "DEFINITION\n",
    "^^^\n",
    "```{glossary}\n",
    "cumulative distribution function (CDF)\n",
    "  Let $(S,\\mathcal{F},P)$ be a probability space and $X$ be a real RV on $S$. Then the **cumulative distribution function (CDF)** is the real function $F_X(x) =P (X\\le x)$. \n",
    "```\n",
    "````\n",
    "\n",
    "As a reminder, $P(X \\le x)$ is an informal way of writing $P\\left( \\left\\{s \\left \\vert X(s) \\le x \\right . \\right\\} \\right)$.\n",
    "\n",
    "The cumulative distribution function may also just be called the *distribution function*.  Since distribution function evaluate to  probability measures of some related events, they inherit many of the properties of probability measures. \n",
    "\n",
    "```{warning}\n",
    "Be cautious about notation:\n",
    "* The distribution function is written as an upper-case $F$; we will soon introduce a related function written as a lower-case $f$.\n",
    "* We generally write the distribution function with a subscript that indicates which random variable it is associated with; i.e. $F_X()$ is the distribution function of the random variable $X$. Recall that random variables are written in upper-case.\n",
    "* The argument of the distribution function refers to a value that the random variable can take on. When we are not referring to a specific value, then we use the lower-case version of the random variable. Thus, we write $F_X(x)$ or $F_Z(z)$. \n",
    "* I will write CDF in upper-case letters when abbreviating cumulative distribution function to remind the reader that this refers to the function written with an upper-case $F$, like $F_X(x).\n",
    "* Some books call the CDF the probability distribution function, which they abbreviate as PDF. However, this is a source of much confusion for students when we introduce the probability density function, which is abbreviated pdf.\n",
    "```\n",
    "\n",
    "\n",
    "\n",
    "Note that if $X$ is a discrete random variable, then  \n",
    "```{math}\n",
    ":label: cdf-pmf\n",
    "F_X(x) = P(X \\le x) = \\sum_{k \\le x} p_X(k).\n",
    "```\n",
    "\n",
    "    "
   ]
  },
  {
   "cell_type": "markdown",
   "metadata": {},
   "source": [
    "\n",
    "\n",
    "We now show how to find and plot the CDFs for some of our example random variables. Let's prepare by importing some of the Python libraries we need:"
   ]
  },
  {
   "cell_type": "code",
   "execution_count": 1,
   "metadata": {},
   "outputs": [],
   "source": [
    "import numpy as np\n",
    "import matplotlib.pyplot as plt\n",
    "%matplotlib inline"
   ]
  },
  {
   "cell_type": "markdown",
   "metadata": {},
   "source": [
    "**Example 1**\n",
    "\n",
    "Consider again the binary random variable $X$ formed from flipping a fair coin. Again, refer to the illustration below for the sample space and an illustration of the random variable's mapping from outcomes to real values:\n",
    "\n",
    "\n",
    "```{image} figs/binary-rv1.pdf\n",
    ":alt: \n",
    ":width: 600px\n",
    "```"
   ]
  },
  {
   "cell_type": "markdown",
   "metadata": {},
   "source": [
    "Now we want to put regions of the form $(-\\infty, x]$ onto the number line. We want to shade in the number line corresponding to a region $(-\\infty, x]$. Since that is an infinite region, we will shade a part of it and then show that the region continues toward $-\\infty$. Also, note that the point $x$ is included in the region, so we will use a square bracket to indicate its inclusion.\n",
    "\n",
    "````{warning}\n",
    "Many people learning probability initially have trouble working with understanding and drawing different regions that we need to find the CDF.  The primary confusion arises because we may often have **two** simultaneous inequalities involving $x$. These two inequalities have the following forms:\n",
    "1. The CDF is $F_X(x) = P(X \\le x)$. Thus, **the first inquality that expresses the values of $X$ relative to some threshold value $x$.** This inequality will always be represented by a shaded arrow that points left, toward $-\\infty$. Thus, the first inequality will always be illustrated like:\n",
    "```{image} figs/cdf-region.pdf\n",
    ":alt: \n",
    ":width: 200px\n",
    "```\n",
    "2. **The second inequality is on the value of $x$ itself.** This inequality indicates what values of $x$ we are considering when determining the value of the CDF.  In terms of illustrating the shaded region that represents $X \\le x$, **the second inequality determines where we put the value $x$ on the real line.**\n",
    "\n",
    "The second inequality arises when we are trying to find the CDF because we often need to use different **cases** (in terms of values of $x$) because the region $X \\le x$ interacts with the probability of the random variable in different ways depending on the value of $x$.\n",
    "\n",
    "So the problem is two-fold for students:\n",
    "1. there are two different inequalities that are being considered simultaneously, and the meaning of each is sometimes confused, and\n",
    "2. it is confusing that we are illustrating regions like $X \\le x$ when the value of $x$ is not a specific value.\n",
    "\n",
    "It is hard to understand this from a general description -- the best approach is to see how this works out for specific examples.\n",
    "````\n",
    "\n"
   ]
  },
  {
   "cell_type": "markdown",
   "metadata": {},
   "source": [
    "For a general random variable $U$ whose values fall within some finite range, $\\operatorname{Range}(U) \\subseteq [a,b]$, our first case that we will usual consider will hold for any value of $U$ less than $a$.  Applying that to the random variable $X$ that we are considering here, our first case is for any value of $x$ less than 0.  Because this case turns out to be very simple, we will refer to it as case 0:\n",
    "\n",
    "**Case 0:** \n",
    "\n",
    "For $x<0$, we can illustrate the region $(-\\infty, x]$ as shown on the number line below:\n",
    "\n",
    "```{image} figs/binary-rv1-cdf1.pdf\n",
    ":alt: \n",
    ":width: 600px\n",
    "```\n",
    "\n",
    "Now we wish to determine the probability that $X \\in (-\\infty, x]$ when $x<0$. Note again that \n",
    "\n",
    "$$\n",
    "P\\bigl( X \\in \\left(-\\infty, x \\right] \\bigr) = P(X \\le x) = F_X(x).\n",
    "$$\n",
    "Then $F_X(x) = P\\left( \\left\\{s \\left \\vert X(s) \\le x \\right. \\right\\} \\right)$ . In other words, we wish to identify the outcomes $s$ that give us values of $X$ that are less than some value $x$, where we know that value $x$ is less than zero. \n",
    "Since the smallest value of $X(s)$ is $X(s)=0$, there are no values of $s$ that yield $X(s) \\le x$ when $x<0$, so\n",
    "\n",
    "$$\n",
    "F_X(x) = P(X \\le x) =0, ~~~ x<0.\n",
    "$$\n",
    "\n",
    "**Case 1**\n",
    "\n",
    "Next, we want to identify the next region of values of $x$ for which either \n",
    "* $F_X(x)$ will be constant (because all points in the region map back to the same outcomes in the sample space -- this will be what happens for discrete random variables, or\n",
    "* $F_X(x)$ can be represented by a single function of $x$ for all $x$ in that region -- this is what happens for continuous random variable.s\n",
    "\n",
    "To understand what we mean by all points in the region mapping back to the same outcomes in the sample space, consider the following:\n",
    "* let $A$ be the set of $ s \\in S$ such that $X(s) \\le 0$ \n",
    "* let $B$ be the set of $s in S$ such that $X(s) \\le 1/2$.\n",
    "\n",
    "These two regions are illustrated in the figure below:\n",
    "```{image} figs/binary-rv1-cdf2.pdf\n",
    ":alt: \n",
    ":width: 600px\n",
    "```\n",
    "Both these regions contain a single point in $\\operatorname{Range}(X)$; they contain $X=0$. Thus $A=B= X^{-1}(0) = T$. Moreover, this will hold for **any** value of $x$ in the range $[0,1)$.  So this yields our second value of $F(x)$:\n",
    "\n",
    "$$\n",
    "F_X(x) = P(T) = \\frac 1 2, ~~~ 0\\le x < 1.\n",
    "$$\n",
    "\n",
    "**Case 2**\n",
    "\n",
    "Now we consider the next value where $F_X(x)$ changes. If $x=1$, then $F_X(1) = P(X \\le 1) = 1$, since all of the values of $X$ are less than or equal to 1. If we take any value of $x\\ge 1$, then this will  still hold, because the region still includes the entire range of $X$, as shown in the figure below:\n",
    "```{image} figs/binary-rv1-cdf3.pdf\n",
    ":alt: \n",
    ":width: 600px\n",
    "```\n",
    "Since all values of $x\\ge 1$ contain $\\operatorname{Range}(X)$, then $X^{-1}\\bigl( \\left( -\\infty, x\\right] \\bigr) = S$. Thus,\n",
    "\n",
    "$$\n",
    "F_X(x) = P(S) = 1, ~~~ x \\ge 1.\n",
    "$$\n",
    "\n",
    "**Putting It Together:**\n",
    "\n",
    "When asked to find the CDF for a random variable, you should provide a function that returns the probability $P(X \\le x)$ for every $x \\in \\mathbb{R}$.  The function $F_X(x)$ can be specified piecewise to combine the different cases:\n",
    "$$\n",
    "F_X(x) = \n",
    "\\begin{cases}\n",
    "0, & x < 0 \\\\\n",
    "\\frac 1 2, & 0 \\le x < 1 \\\\\n",
    "1 , & x \\ge 1\n",
    "\\end{cases}.\n",
    "$$"
   ]
  },
  {
   "cell_type": "markdown",
   "metadata": {},
   "source": [
    "Next I want to present some useful techniques for evaluating and plotting distribution functions. Note first that the distribution function has exactly three values in three disjoint intervals.\n",
    "\n"
   ]
  },
  {
   "cell_type": "code",
   "execution_count": 2,
   "metadata": {},
   "outputs": [],
   "source": [
    "def F_X(x):\n",
    "    return np.piecewise(x, [x<0, np.logical_and(x>=0, x<1), x>=1], [0, 1/2, 1] )"
   ]
  },
  {
   "cell_type": "markdown",
   "metadata": {},
   "source": [
    "One part of this function requires some additional discussion. I needed to implement the condition $0 \\le x < 1$ for a NumPy array. However, because that is actually a combination of two conditions (i.e., $x \\ge 0$ and $x<1$), it cannot be implemented in a single logical command. Also, a single command like `x >=0` returns an array of Boolean values -- see below for an example:"
   ]
  },
  {
   "cell_type": "code",
   "execution_count": 3,
   "metadata": {},
   "outputs": [
    {
     "name": "stdout",
     "output_type": "stream",
     "text": [
      "[-2. -1.  0.  1.  2.] [False False  True  True  True]\n"
     ]
    }
   ],
   "source": [
    "x=np.linspace(-2,2,5)\n",
    "print (x, x>=0)"
   ]
  },
  {
   "cell_type": "markdown",
   "metadata": {},
   "source": [
    "Thus, we want to combine the Boolean values from the two conditions using an elementwise and operator -- that is the purpose of the `np.logical_and()`. "
   ]
  },
  {
   "cell_type": "markdown",
   "metadata": {},
   "source": [
    "Since $F_X(x)$ is defined for all $x \\in \\mathbb{R}$, you might think that you can just call `plt.plot()` to plot it. However, the results may not be satisfying:"
   ]
  },
  {
   "cell_type": "code",
   "execution_count": 4,
   "metadata": {},
   "outputs": [
    {
     "data": {
      "image/png": "[encoded data removed]",
      "text/plain": [
       "<Figure size 432x288 with 1 Axes>"
      ]
     },
     "metadata": {
      "needs_background": "light"
     },
     "output_type": "display_data"
    }
   ],
   "source": [
    "x = np.linspace(-1, 2, 20)\n",
    "plt.plot(x, F_X(x) );"
   ]
  },
  {
   "cell_type": "markdown",
   "metadata": {},
   "source": [
    "The sloped lines are where `plt.plot()` has interpolated between points. We can reduce them by increasing the number of points:"
   ]
  },
  {
   "cell_type": "code",
   "execution_count": 5,
   "metadata": {},
   "outputs": [
    {
     "data": {
      "text/plain": [
       "[<matplotlib.lines.Line2D at 0x7f98aaaecfa0>]"
      ]
     },
     "execution_count": 5,
     "metadata": {},
     "output_type": "execute_result"
    },
    {
     "data": {
      "image/png": "[encoded data removed]",
      "text/plain": [
       "<Figure size 432x288 with 1 Axes>"
      ]
     },
     "metadata": {
      "needs_background": "light"
     },
     "output_type": "display_data"
    }
   ],
   "source": [
    "x = np.linspace(-1, 2, 101)\n",
    "plt.plot(x, F_X(x) )"
   ]
  },
  {
   "cell_type": "markdown",
   "metadata": {},
   "source": [
    "However, a better way to resolve this problem is to use `plt.step()`, which changes the interpolation used by `plt.plot()`:"
   ]
  },
  {
   "cell_type": "code",
   "execution_count": 6,
   "metadata": {},
   "outputs": [
    {
     "data": {
      "image/png": "[encoded data removed]",
      "text/plain": [
       "<Figure size 432x288 with 1 Axes>"
      ]
     },
     "metadata": {
      "needs_background": "light"
     },
     "output_type": "display_data"
    }
   ],
   "source": [
    "x = np.linspace(-1, 2, 61)\n",
    "plt.step(x, F_X(x), where ='post' )\n",
    "\n",
    "plt.xlim(-1,2)\n",
    "plt.xlabel('x')\n",
    "plt.ylabel('Distribution function $F_X(x)$');"
   ]
  },
  {
   "cell_type": "markdown",
   "metadata": {},
   "source": [
    "Note that we also pass `where = 'post'` to `plt.step` this will cause the plot of the short plotting interval leading up to the points 1 and 2 to show the probabilities 0 and 1/2, respectively, because the probability is not achieved until we are at or past the values 1 and 2."
   ]
  },
  {
   "cell_type": "markdown",
   "metadata": {},
   "source": [
    "This type of function is called a *staircase function*:\n",
    "\n",
    "````{card}\n",
    "DEFINITION\n",
    "^^^\n",
    "```{glossary}\n",
    "staircase function\n",
    " A staircase function is a piecewise constant function of its argument that has at most a countable number of pieces.\n",
    "```\n",
    "````\n",
    "\n",
    "At each point that has probability greater than 0, the CDF will have a jump, and **the height of the jump is the probability at that point**. We will see that every CDF for a discrete random variable is a staircase function."
   ]
  },
  {
   "cell_type": "markdown",
   "metadata": {},
   "source": [
    "We can also find the CDF from the PMF using {eq}`cdf-pmf`. Here was the PMF for $X$:"
   ]
  },
  {
   "cell_type": "code",
   "execution_count": 7,
   "metadata": {},
   "outputs": [],
   "source": [
    "def p_X(x):\n",
    "    x = np.array(x).astype(float)\n",
    "    return np.piecewise(x, [x==0, x==1], [0.5, 0.5, 0])"
   ]
  },
  {
   "cell_type": "markdown",
   "metadata": {},
   "source": [
    "We can find the CDF by getting the values of p_X(x) on a grid of points on the real line that span the range **and** that include all of the points in the range of $X$, evaluating the PMF at all of those values, and then using Numpy's `np.cumsum()` function to return the cumulative sum up to each point:"
   ]
  },
  {
   "cell_type": "code",
   "execution_count": 8,
   "metadata": {},
   "outputs": [
    {
     "data": {
      "image/png": "[encoded data removed]",
      "text/plain": [
       "<Figure size 432x288 with 1 Axes>"
      ]
     },
     "metadata": {
      "needs_background": "light"
     },
     "output_type": "display_data"
    }
   ],
   "source": [
    "x = np.linspace(-0.5, 1.5, int((1.5--0.5)*20)+1)\n",
    "cdf_x = np.cumsum(p_X(x))\n",
    "\n",
    "plt.step(x, cdf_x, where='post')\n",
    "\n",
    "\n",
    "plt.xlim(-0.5,2)\n",
    "plt.ylim(0,1.1)\n",
    "plt.xlabel('x')\n",
    "plt.ylabel('Distribution function $F_X(x)$');"
   ]
  },
  {
   "cell_type": "markdown",
   "metadata": {},
   "source": [
    "Now, we will jump to the last two examples from the previous sections. As we progress through this material, we will use more of a mathematical approach than a graphical and intuitive approach. If you ever are confused about a result, you are encouraged to draw diagrams such as those used in Example 1 of this section."
   ]
  },
  {
   "cell_type": "markdown",
   "metadata": {},
   "source": [
    "**Example 2**\n",
    "\n",
    "Create a probability space by rolling a fair 6-sided die and observing the top face. Let the event class be the power set of the sample space. Let the RV $W$ be defined by $W(s)$ for all $s \\in S$.\n",
    "\n",
    "Then $F_W(w) = P(W \\le w)$. Since $\\operatorname{Range}(W) = \\{1,2,3,4,5,6\\}$, we know that these points will be important to find the values of the CDF. In fact, since all of the values of $W$ that have non-zero probability are in $\\operatorname{Range}(W)$, we can write\n",
    "\n",
    "\\begin{align*}\n",
    "F_W(w) & = P(W \\le w) = P\\bigl( W \\in (-\\infty, w) \\cap \\operatorname{Range}(w) \\bigr) \\\\\n",
    "& = \\sum_{k\\in \\{1,2,3,4,5,6\\} \\cap k<w} P(W=k) \\\\\n",
    "&= \\begin{cases}\n",
    "0, & w < 1 \\\\\n",
    "\\frac{\\lfloor w \\rfloor}{6}, & 1 \\le w < 6 \\\\\n",
    "1, & w \\ge 6 \n",
    "\\end{cases},\n",
    "\\end{align*}\n",
    "where $\\lfloor w \\rfloor$ denotes the *floor* of $w$, which is the largest integer that is less than or equal to $w$. Intuitively, the CDF at any points $w \\in \\{1,2,3,4,5,6\\}$ is the cumulative probability at the points up to $w$. The use of the floor function allows us to create a function that returns the proper value between the points where there are probability -- the value of the CDF between the points that have probability will be the accumulated probability up to the lower endpoint.\n",
    "\n",
    "We can again implement this function in Python, but a bit of additional care is needed because we need to evaluate the function `np.floor(w)` but we only want to evaluate that function on those values of $w$ that are in the interval $[1,6)$. To do this we use what is called a *lambda function* in the `funclist`. It takes those values of $w$ that satisfy the conditions in the `np.logical_and()` statement as input and puts them in a variable we specify; here I used, $v$. Then it applies whatever function we provide after the colon."
   ]
  },
  {
   "cell_type": "code",
   "execution_count": 9,
   "metadata": {},
   "outputs": [],
   "source": [
    "def F_W(w):\n",
    "    return np.piecewise(w, [w<1, np.logical_and(w>=1, w<6), w>=6], [0, lambda v: np.floor(v)/6, 1] )"
   ]
  },
  {
   "cell_type": "markdown",
   "metadata": {},
   "source": [
    "Here is a plot of the resulting CDF:"
   ]
  },
  {
   "cell_type": "code",
   "execution_count": 10,
   "metadata": {},
   "outputs": [
    {
     "data": {
      "image/png": "[encoded data removed]",
      "text/plain": [
       "<Figure size 432x288 with 1 Axes>"
      ]
     },
     "metadata": {
      "needs_background": "light"
     },
     "output_type": "display_data"
    }
   ],
   "source": [
    "w=np.linspace(0,8,(8-0)*20+1)\n",
    "plt.step(w, F_W(w), where ='post')\n",
    "\n",
    "plt.xlim(0, 8)\n",
    "plt.ylim(0, 1.1)\n",
    "plt.xlabel('w')\n",
    "plt.ylabel('Distribution function $F_W(w)$');\n"
   ]
  },
  {
   "cell_type": "markdown",
   "metadata": {},
   "source": [
    "We also show how to get the CDF of $W$ from its PMF:"
   ]
  },
  {
   "cell_type": "code",
   "execution_count": 11,
   "metadata": {},
   "outputs": [],
   "source": [
    "def p_W(w):\n",
    "    w = np.array(w).astype(float)\n",
    "    return np.piecewise(w, [np.isin(w, [1,2,3,4,5,6])], [1/6, 0] )"
   ]
  },
  {
   "cell_type": "code",
   "execution_count": 12,
   "metadata": {},
   "outputs": [
    {
     "data": {
      "image/png": "[encoded data removed]",
      "text/plain": [
       "<Figure size 432x288 with 1 Axes>"
      ]
     },
     "metadata": {
      "needs_background": "light"
     },
     "output_type": "display_data"
    }
   ],
   "source": [
    "w = np.linspace(0,8, (8-0)*20+1)\n",
    "cdf_w = np.cumsum(p_W(w))\n",
    "\n",
    "plt.step(w, cdf_w, where = 'post')\n",
    "\n",
    "plt.xlim(0, 8)\n",
    "plt.ylim(0, 1.1)\n",
    "plt.xlabel('w')\n",
    "plt.ylabel('Distribution function $F_W(w)$');"
   ]
  },
  {
   "cell_type": "markdown",
   "metadata": {},
   "source": [
    "**Example 3**\n",
    "\n",
    "Flip a coin until heads occurs. Let $N$ be a random variable that is equal to the number of flips until the first H occurs. \n",
    "\n",
    "I omit the mathematical derivation of the CDF as a function of $n$ and present a plot of the CDF based on applying `np.cumsum()` to the PMF:"
   ]
  },
  {
   "cell_type": "code",
   "execution_count": 13,
   "metadata": {},
   "outputs": [],
   "source": [
    "def p_N(n):\n",
    "    n = np.array(n).astype(float)\n",
    "    return np.piecewise(n, [np.logical_and(n - np.floor(n) == 0, n > 0)], [lambda u: (1/2)**u, 0] )"
   ]
  },
  {
   "cell_type": "code",
   "execution_count": 14,
   "metadata": {},
   "outputs": [
    {
     "data": {
      "image/png": "[encoded data removed]",
      "text/plain": [
       "<Figure size 432x288 with 1 Axes>"
      ]
     },
     "metadata": {
      "needs_background": "light"
     },
     "output_type": "display_data"
    }
   ],
   "source": [
    "n = np.linspace(0, 8, 20*(8-0)+1)\n",
    "cdf_n = np.cumsum(p_N(n))\n",
    "\n",
    "plt.step(n, cdf_n, where='post')\n",
    "\n",
    "plt.xlim(0,8)\n",
    "plt.xlabel('$n$')\n",
    "plt.ylabel('Distribution function $F_N(n)$');"
   ]
  },
  {
   "cell_type": "markdown",
   "metadata": {},
   "source": [
    "The CDF shows that the probability that the first heads is seen in 8 or fewer flips is over 0.99. In fact, we can easily check the last value of the vector `cdf_n`:"
   ]
  },
  {
   "cell_type": "code",
   "execution_count": 15,
   "metadata": {},
   "outputs": [
    {
     "data": {
      "text/plain": [
       "(8.0, 0.99609375)"
      ]
     },
     "execution_count": 15,
     "metadata": {},
     "output_type": "execute_result"
    }
   ],
   "source": [
    "n[-1], cdf_n[-1]"
   ]
  },
  {
   "cell_type": "markdown",
   "metadata": {},
   "source": [
    "So the probability that the first heads will be seen in 8 or fewer flips is over 0.996."
   ]
  },
  {
   "cell_type": "markdown",
   "metadata": {},
   "source": [
    "## Properties of CDFs"
   ]
  },
  {
   "cell_type": "markdown",
   "metadata": {},
   "source": [
    "**1.** $0 \\le F_X(x) \\le 1$ \n",
    "\n",
    "*Proof*: The distribution function returns a value from the probability measure of the underlying probability space.\n",
    "\n"
   ]
  },
  {
   "cell_type": "markdown",
   "metadata": {},
   "source": [
    "**2.** $F_X(-\\infty)=0$ and $F_X(\\infty)=1$ \n",
    "\n",
    "*Proof:* The proof is beyond the scope of this book. However, the basic ideas are as follows:\n",
    "\n",
    "By $F_X(-\\infty)$, we mean\n",
    "\n",
    "$$\n",
    "\\lim_{x \\rightarrow -\\infty} F_X(x).\n",
    "$$\n",
    "We can consider the events $X \\in (-\\infty, n]$ as $n$ decreases. Then the probability measure of the outcomes in $\\{s \\left \\vert X(s) \\in (-\\infty, n] \\right. \\}$ must go to zero as $n$ goes to $-\\infty$, provided that we do not allow probability at $-\\infty$. Similarly  if we consider the same events as $X$ increases, then in the limit as $n$ goes to $+\\infty$, the probability measure must go to 1 as the events cover all of the outcomes with nonzero probability (since there can be no probability at $+\\infty$.\n",
    "\n"
   ]
  },
  {
   "cell_type": "markdown",
   "metadata": {},
   "source": [
    "**3.** $F_X(x)$ is monotonically nondecreasing;\n",
    "    i.e., $F_X(a) \\le F_X(b)$ iff $a \\le b$\n",
    "    \n",
    "  \n",
    "*Proof:*\n",
    "\n",
    "\\begin{align*}\n",
    "\\operatorname{Pr}\\left\\{X \\in (- \\infty,b]\\right\\} &= \\operatorname{Pr}\\left\\{X \\in (- \\infty,a] \\cup X \\in (a, b] \\right\\}  \\\\\n",
    "& = P(X \\in (-\\infty, a])   + P( X \\in (a,b]), \\\\\n",
    "\\end{align*}\n",
    "where the last step follows from the fact that $X(s)$ is a function, and hence disjoint values in the range of $X$ must come from disjoint values in $S$. Thus,\n",
    "\n",
    "\n",
    "```{math}\n",
    ":label: distfcn1\n",
    "F_X(b) = F_X(a) + P(a <  X \\le b).\n",
    "```\n",
    "\n",
    "Since $\\operatorname{Pr}(a < X \\le b) \\ge 0$, it must be that $F_X(b) \\ge F_X(a)$.\n",
    "\n"
   ]
  },
  {
   "cell_type": "markdown",
   "metadata": {},
   "source": [
    "**4.** $P(a < X \\le b) = F_X(b)  -F_X(a)$\n",
    "\n",
    "\n",
    "*Proof:* Rewrite {eq}`distfcn1`.\n",
    "\n"
   ]
  },
  {
   "cell_type": "markdown",
   "metadata": {},
   "source": [
    "**5.** $P(X>x) =1 - F_X(x)$\n",
    "\n",
    "*Proof:*\n",
    "\n",
    "If $A = \\left\\{s \\in S \\left \\vert X(s) \\le x \\right . \\right\\}$, then for all $X(s) >x$, it must be that $s \\in \\overline{A}$.  Similarly, if $s \\in \\overline{A}$, then it must be that $X(s)>x$; otherwise, that $s$ would have to belong to $A$.  Thus, $\\left\\{s \\in S \\left \\vert X(s) > x \\right . \\right\\}= \\overline{A}$ and $A \\cup \\overline{A} = S$, so\n",
    "\n",
    "\\begin{align*}\n",
    "P(X > x) &= P\\left(\\overline{A}\\right) = 1 -P(A)  \\\\\n",
    "&= 1- P(X \\le x)= 1- F_X(x).\n",
    "\\end{align*}\n"
   ]
  },
  {
   "cell_type": "markdown",
   "metadata": {},
   "source": [
    "Probabilities of the form $P(X>x)$ arise often enough that this function is given a name:\n",
    "\n",
    "\n",
    "````{card}\n",
    "DEFINITION\n",
    "^^^\n",
    "```{glossary}\n",
    "survival function (SF)\n",
    "  Let $(S,\\mathcal{F},P)$ be a probability space and $X$ be a real RV on $S$. Then the *survival function(SF)* is the real function $S_X(x) =P (X > x)= 1 -F_X(x)$. \n",
    "```\n",
    "````\n"
   ]
  },
  {
   "cell_type": "markdown",
   "metadata": {},
   "source": [
    "**6.** When $F_X(x)$ has a jump discontinuity at a point $x=b$, then the height of the jump is $\\operatorname{Pr}(X=b)$ and $F_X(b) = F_X(b^+)$, the limiting value from the right.\n",
    "\n",
    "\n",
    "When the CDF of a random variable $X$ has a jump discontinuity, there is a value of $x$ where the CDF suddenly jumps up in value. For instance, the distribution function $F_X(x)$ shown below has a jump discontinuity at $x=0$.\n",
    "\n",
    "```{image} figs/jump-discontinuity.pdf\n",
    ":alt: \n",
    ":width: 500px\n",
    "```\n",
    "\n",
    "The height of a jump discontinuity at a point $b$ is the difference between the limit from the left, written as $F_X(b^{-})$, and the limit from the right, $F_X(b^{+})$. Then \n",
    "\n",
    "$$\n",
    "P(X=b) = F_X(b^+) - F_X(b^-).\n",
    "$$\n",
    "\n",
    "For the example shown in the figure, the CDF jumps from $F_X(0^-) \\approx 0.3$ to $F_X(0+) = 0.7$, so $P(X=0) \\approx 0.7-0.3 =0.4$.\n",
    "\n",
    "\n",
    "Since $F_X(b) = P(X \\le b)$, equality is included at $b$, and the value at the point $F_X(b) = F_X(b^+)$. For this example, $F_X(0) = 0.7$\n",
    "\n",
    "*Proof:* The proofs are outside the scope of this book."
   ]
  },
  {
   "cell_type": "markdown",
   "metadata": {},
   "source": [
    "In the following section, we introduce some common random variables, show how to create and work with such random variables using the `scipy.stats` module, and discuss their application.\n",
    "\n",
    "\n",
    "\n",
    "\n",
    "\n",
    "\n"
   ]
  },
  {
   "cell_type": "code",
   "execution_count": 16,
   "metadata": {
    "tags": [
     "remove-cell"
    ]
   },
   "outputs": [
    {
     "data": {
      "image/png": "[encoded data removed]",
      "text/plain": [
       "<Figure size 432x288 with 1 Axes>"
      ]
     },
     "metadata": {
      "needs_background": "light"
     },
     "output_type": "display_data"
    }
   ],
   "source": [
    "from scipy.stats import norm\n",
    "x1=np.linspace(-4,-1/2-1/100,350)\n",
    "x2=np.linspace(1/2,4,351)\n",
    "#plt.plot(x1+1, norm.cdf(x1))\n",
    "#plt.plot(x2-1, norm.cdf(x2))\n",
    "x=np.hstack((x1+0.5,x2-0.5))\n",
    "y=np.hstack((norm.cdf(x1), norm.cdf(x2)) )\n",
    "plt.plot(x,y);\n",
    "plt.xlabel('$x$');\n",
    "plt.ylabel('Distribution function $F_X(x)$')\n",
    "plt.grid()\n",
    "plt.savefig('figs/jump-discontinuity.pdf')"
   ]
  },
  {
   "cell_type": "markdown",
   "metadata": {},
   "source": [
    "## Terminology Review"
   ]
  },
  {
   "cell_type": "code",
   "execution_count": 17,
   "metadata": {
    "tags": [
     "remove-input"
    ]
   },
   "outputs": [
    {
     "data": {
      "text/html": [
       "<style>\n",
       ":root{\n",
       "--asparagus: #87a878ff;\n",
       "--terra-cotta: #e26d5aff;\n",
       "--cyan-process: #5bc0ebff;\n",
       "--dark-blue-gray: #666a86ff;\n",
       "--snow: #fffafbff;\n",
       "--rich-black-fogra-39: #090c08ff;\n",
       "}\n",
       "\n",
       "\n",
       "/* entire container, keeps perspective */\n",
       ".flip-container {\n",
       "\tperspective: 1000px;\n",
       "  touch-action: pinch-zoom pan-y;\n",
       "}\n",
       "\n",
       "\n",
       ".flip-container.flip .flipper {\n",
       "\ttransform: rotateY(180deg)  translateX(-10%);\n",
       "}\n",
       "\n",
       "\n",
       ".flip-container.slide .flipper.frontcard {\n",
       "    filter: brightness(90%);\n",
       "    position:absolute;\n",
       "    z-index: -20;\n",
       "}\n",
       "\n",
       ".flip-container.prepare .flipper.backcard {\n",
       "    opacity:1;\n",
       "    transform:  translateX(20px); \n",
       "    transition: display 0s;\n",
       "}\n",
       "\n",
       "\n",
       ".flip-container.slide .flipper.backcard {\n",
       "    filter: brightness(115%);\n",
       "    height: 360px;\n",
       "    opacity:1;\n",
       "\t  transform:  rotateY(3deg)  translateX(700px) translateZ(20px) scale(1, 1.05) rotate(3deg);\n",
       "    z-index: 20;\n",
       "}\n",
       "\n",
       "\n",
       "\n",
       "\n",
       ".flip-container.slideback .flipper.backcard {\n",
       "    filter: brightness(100%);\n",
       "    opacity: 1;\n",
       "\t  transform: translateX(0px) translateZ(20px) rotateY(0deg);\n",
       "    z-index: 10;\n",
       "}\n",
       "\n",
       ".flip-container.slideback .flipper.frontcard {\n",
       "    filter: brightness(90%);\n",
       "    transform: translateX(0px) translateZ(-20px);\n",
       "    z-index: -10;\n",
       "}\n",
       "\n",
       "\n",
       ".flip-container, .front, .back {\n",
       "\t  height: 300px;\n",
       "\t  width: 640px;\n",
       "}\n",
       "\n",
       ".flipper.frontcard {\n",
       "    position:absolute;\n",
       "\t  transform: translateX(0px) rotateY(0deg) translateZ(20px);\n",
       "    z-index: 10;\n",
       "}\n",
       "\n",
       ".flipper.backcard {\n",
       "    filter: brightness(90%);\n",
       "    opacity:0;\n",
       "    position:absolute;\n",
       "    transform: translateX(0px) translateZ(-20px);\n",
       "    z-index: -10;\n",
       "}\n",
       "\n",
       "\n",
       "\n",
       "\n",
       "/* flip speed goes here */\n",
       ".flipper {\n",
       "    cursor:pointer;\n",
       "\t  height: 200px;\n",
       "    margin-left:20px;\n",
       "\t  position: absolute;\n",
       "    top: 0;\n",
       "\t  transform-style: preserve-3d;\n",
       "\t  transition: 0.6s;\n",
       "    width: 600px;\n",
       "}\n",
       "\n",
       "/* hide back of pane during swap */\n",
       ".front, .back {\n",
       "    -webkit-backface-visibility: hidden;\n",
       "\t  backface-visibility: hidden;\n",
       "\t  left: 0;\n",
       "\t  position: absolute;\n",
       "\t  top: 0;\n",
       "}\n",
       "\n",
       "/* front pane, placed above back */\n",
       ".front {\n",
       "\t  backface-visibility: hidden;\n",
       "    background: var(--asparagus);\n",
       "    transform: rotateY(0deg);\n",
       "\t  z-index: 2;\n",
       "}\n",
       "\n",
       "/* back, initially hidden pane */\n",
       ".back {\n",
       "\t  backface-visibility: hidden;\n",
       "    background: var(--dark-blue-gray);\n",
       "\t  transform: rotateY(180deg);\n",
       "}\n",
       "\n",
       ".next {\n",
       "    color: var(--rich-black-fogra-39);\n",
       "    cursor:pointer;\n",
       "    font-size: 16pt;\n",
       "    left:600px;\n",
       "    opacity:0.3;\n",
       "    position:relative; \n",
       "    top:20px;\n",
       "}\n",
       "\n",
       ".next.flipped {\n",
       "    opacity:1;\n",
       "}\n",
       "\n",
       ".next.hide {\n",
       "    opacity:0;\n",
       "}\n",
       "\n",
       "\n",
       ".flashcard{\n",
       "    border-radius: 10px;\n",
       "    color: #fafafa;\n",
       "    display:block;\n",
       "    padding:10px;\n",
       "  \n",
       "}\n",
       ".flashcardtext{\n",
       "    color: var(--snow);\n",
       "    font-size: 20pt;\n",
       "    margin-left:3%;\n",
       "    position:absolute;\n",
       "    text-align:center;\n",
       "    top: 50%;\n",
       "    transform: translate(0, -50%);\n",
       "    width:90%;\n",
       "  }\n",
       "\n",
       "</style><script type=\"text/Javascript\">\n",
       "/*!\n",
       " * swiped-events.js - v1.1.4\n",
       " * Pure JavaScript swipe events\n",
       " * https://github.com/john-doherty/swiped-events\n",
       " * @inspiration https://stackoverflow.com/questions/16348031/disable-scrolling-when-touch-moving-certain-element\n",
       " * @author John Doherty <www.johndoherty.info>\n",
       " * @license MIT\n",
       " */\n",
       "!function(t,e){\"use strict\";\"function\"!=typeof t.CustomEvent&&(t.CustomEvent=function(t,n){n=n||{bubbles:!1,cancelable:!1,detail:void 0};var a=e.createEvent(\"CustomEvent\");return a.initCustomEvent(t,n.bubbles,n.cancelable,n.detail),a},t.CustomEvent.prototype=t.Event.prototype),e.addEventListener(\"touchstart\",function(t){if(\"true\"===t.target.getAttribute(\"data-swipe-ignore\"))return;s=t.target,r=Date.now(),n=t.touches[0].clientX,a=t.touches[0].clientY,u=0,i=0},!1),e.addEventListener(\"touchmove\",function(t){if(!n||!a)return;var e=t.touches[0].clientX,r=t.touches[0].clientY;u=n-e,i=a-r},!1),e.addEventListener(\"touchend\",function(t){if(s!==t.target)return;var e=parseInt(l(s,\"data-swipe-threshold\",\"20\"),10),o=parseInt(l(s,\"data-swipe-timeout\",\"500\"),10),c=Date.now()-r,d=\"\",p=t.changedTouches||t.touches||[];Math.abs(u)>Math.abs(i)?Math.abs(u)>e&&c<o&&(d=u>0?\"swiped-left\":\"swiped-right\"):Math.abs(i)>e&&c<o&&(d=i>0?\"swiped-up\":\"swiped-down\");if(\"\"!==d){var b={dir:d.replace(/swiped-/,\"\"),xStart:parseInt(n,10),xEnd:parseInt((p[0]||{}).clientX||-1,10),yStart:parseInt(a,10),yEnd:parseInt((p[0]||{}).clientY||-1,10)};s.dispatchEvent(new CustomEvent(\"swiped\",{bubbles:!0,cancelable:!0,detail:b})),s.dispatchEvent(new CustomEvent(d,{bubbles:!0,cancelable:!0,detail:b}))}n=null,a=null,r=null},!1);var n=null,a=null,u=null,i=null,r=null,s=null;function l(t,n,a){for(;t&&t!==e.documentElement;){var u=t.getAttribute(n);if(u)return u;t=t.parentNode}return a}}(window,document);\n",
       "\n",
       "function jaxify(string) {\n",
       "    var mystring = string;\n",
       "    console.log(mystring);\n",
       "\n",
       "    count = 0;\n",
       "    var loc = mystring.search(/([^\\\\]|^)(\\$)/);\n",
       "\n",
       "    count2 = 0;\n",
       "    var loc2 = mystring.search(/([^\\\\]|^)(\\$\\$)/);\n",
       "\n",
       "    //console.log(loc);\n",
       "\n",
       "    while ((loc >= 0) || (loc2 >= 0)) {\n",
       "\n",
       "        /* Have to replace all the double $$ first with current implementation */\n",
       "        if (loc2 >= 0) {\n",
       "            if (count2 % 2 == 0) {\n",
       "                mystring = mystring.replace(/([^\\\\]|^)(\\$\\$)/, \"$1\\\\[\");\n",
       "            } else {\n",
       "                mystring = mystring.replace(/([^\\\\]|^)(\\$\\$)/, \"$1\\\\]\");\n",
       "            }\n",
       "            count2++;\n",
       "        } else {\n",
       "            if (count % 2 == 0) {\n",
       "                mystring = mystring.replace(/([^\\\\]|^)(\\$)/, \"$1\\\\(\");\n",
       "            } else {\n",
       "                mystring = mystring.replace(/([^\\\\]|^)(\\$)/, \"$1\\\\)\");\n",
       "            }\n",
       "            count++;\n",
       "        }\n",
       "        loc = mystring.search(/([^\\\\]|^)(\\$)/);\n",
       "        loc2 = mystring.search(/([^\\\\]|^)(\\$\\$)/);\n",
       "        //console.log(mystring,\", loc:\",loc,\", loc2:\",loc2);\n",
       "    }\n",
       "\n",
       "    //console.log(mystring);\n",
       "    return mystring;\n",
       "}\n",
       "\n",
       "function flip(ths) {\n",
       "    console.log(ths);\n",
       "    console.log(ths.id);\n",
       "    ths.classList.toggle(\"flip\"); \n",
       "    var next=document.getElementById(ths.id+'-next');\n",
       "    next.style.pointerEvents='none';\n",
       "    next.classList.add('flipped');\n",
       "    if (typeof MathJax != 'undefined') {\n",
       "        var version = MathJax.version;\n",
       "        console.log('MathJax version', version);\n",
       "        if (version[0] == \"2\") {\n",
       "            MathJax.Hub.Queue([\"Typeset\", MathJax.Hub]);\n",
       "        } else if (version[0] == \"3\") {\n",
       "            MathJax.typeset([ths]);\n",
       "        }\n",
       "    } else {\n",
       "        console.log('MathJax not detected');\n",
       "    }\n",
       "\n",
       "\n",
       "    setTimeout(reenableNext, 700, next);\n",
       "}\n",
       "\n",
       "function reenableNext(next) {\n",
       "    next.style.pointerEvents='auto';\n",
       "}\n",
       "\n",
       "\n",
       "\n",
       "function slide2(containerId) {\n",
       "    var container = document.getElementById(containerId);\n",
       "    var next=document.getElementById(containerId+'-next');\n",
       "    var frontcard = container.children[0];\n",
       "    var backcard = container.children[1];\n",
       "    container.style.pointerEvents='none';\n",
       "    //backcard.style.pointerEvents='none';\n",
       "    next.style.pointerEvents='none';\n",
       "    next.classList.remove('flipped');\n",
       "    next.classList.add('hide');\n",
       "\n",
       "    //container.classList.add(\"prepare\");\n",
       "    \n",
       "    container.className=\"flip-container slide\";\n",
       "    backcard.parentElement.removeChild(frontcard);\n",
       "    backcard.parentElement.appendChild(frontcard);\n",
       "    setTimeout(slideback, 600, container, frontcard, backcard, next);\n",
       "    \n",
       "}\n",
       "\n",
       "\n",
       "function checkFlip(containerId) {\n",
       "    var container = document.getElementById(containerId);\n",
       "\n",
       "\n",
       "    if (container.classList.contains('flip')) {\n",
       "        container.classList.remove('flip');\n",
       "        setTimeout(slide2, 600, containerId);\n",
       "    } \n",
       "    else {\n",
       "        slide2(containerId);\n",
       "    }\n",
       "}\n",
       "\n",
       "\n",
       "function slideback(container, frontcard, backcard, next) {\n",
       "    container.className=\"flip-container slideback\";\n",
       "    setTimeout(cleanup, 600, container, frontcard, backcard, next);\n",
       "}\n",
       "\n",
       "function cleanup(container, frontcard, backcard, next) {\n",
       "    container.removeChild(frontcard);\n",
       "    backcard.className=\"flipper frontcard\";\n",
       "    container.className=\"flip-container\";\n",
       "\n",
       "    var cardnum=parseInt(container.dataset.cardnum);\n",
       "    var cards=eval('cards'+container.id);\n",
       "    var flipper=createOneCard(container, false, cards, cardnum);\n",
       "    container.append(flipper);\n",
       "    cardnum= (cardnum+1) % parseInt(container.dataset.numCards);\n",
       "    container.dataset.cardnum=cardnum;\n",
       "    if (cardnum != 1){\n",
       "        next.innerHTML=\"Next >\";\n",
       "    } else {\n",
       "        next.innerHTML=\"Reload \\\\(\\\\circlearrowleft\\\\) \";\n",
       "        if (typeof MathJax != 'undefined') {\n",
       "            var version = MathJax.version;\n",
       "            console.log('MathJax version', version);\n",
       "            if (version[0] == \"2\") {\n",
       "                MathJax.Hub.Queue([\"Typeset\", MathJax.Hub]);\n",
       "            } else if (version[0] == \"3\") {\n",
       "                MathJax.typeset([next]);\n",
       "            }\n",
       "        } else {\n",
       "            console.log('MathJax not detected');\n",
       "        }\n",
       "\n",
       "\n",
       "    }\n",
       "\n",
       "    if (typeof MathJax != 'undefined') {\n",
       "        var version = MathJax.version;\n",
       "        console.log('MathJax version', version);\n",
       "        if (version[0] == \"2\") {\n",
       "            MathJax.Hub.Queue([\"Typeset\", MathJax.Hub]);\n",
       "        } else if (version[0] == \"3\") {\n",
       "            MathJax.typeset();\n",
       "        }\n",
       "    } else {\n",
       "        console.log('MathJax not detected');\n",
       "    }\n",
       "\n",
       "\n",
       "    next.style.pointerEvents='auto';\n",
       "    container.style.pointerEvents='auto';\n",
       "    next.classList.remove('hide');\n",
       "    container.addEventListener('swiped-left', function(e) {\n",
       "        /*\n",
       "          console.log(e.detail);\n",
       "          console.log(id);\n",
       "        */\n",
       "        checkFlip(container.id);\n",
       "    }, {once: true });\n",
       "\n",
       "\n",
       "}\n",
       "\n",
       "\n",
       "function createOneCard  (mydiv, frontCard, cards, cardnum) {\n",
       "    colors=[\n",
       "        '--asparagus',\n",
       "        '--terra-cotta',\n",
       "        '--cyan-process'\n",
       "    ]\n",
       "\n",
       "    var flipper = document.createElement('div');\n",
       "    if (frontCard){\n",
       "        flipper.className=\"flipper frontcard\";    \n",
       "    }\n",
       "    else {\n",
       "        flipper.className=\"flipper backcard\";   \n",
       "    }\n",
       "\n",
       "    var front = document.createElement('div');\n",
       "    front.className='front flashcard';\n",
       "\n",
       "    var frontSpan= document.createElement('span');\n",
       "    frontSpan.className='flashcardtext';\n",
       "    frontSpan.innerHTML=jaxify(cards[cardnum]['front']);\n",
       "    //frontSpan.textContent=jaxify(cards[cardnum]['front']);\n",
       "    front.style.background='var(' + colors[cardnum % colors.length] + ')';\n",
       "\n",
       "\n",
       "    front.append(frontSpan);\n",
       "    flipper.append(front);\n",
       "\n",
       "    var back = document.createElement('div');\n",
       "    back.className='back flashcard';\n",
       "\n",
       "    var backSpan= document.createElement('span');\n",
       "    backSpan.className='flashcardtext';\n",
       "    backSpan.innerHTML=jaxify(cards[cardnum]['back']);\n",
       "    back.append(backSpan);\n",
       "\n",
       "    flipper.append(back);\n",
       "\n",
       "    return flipper;\n",
       "\n",
       "}\n",
       "\n",
       "\n",
       "\n",
       "\n",
       "\n",
       "function createCards(id) {\n",
       "    console.log(id);\n",
       "    \n",
       "    var mydiv=document.getElementById(id);\n",
       "    \n",
       "    var cards=eval('cards'+id);\n",
       "    mydiv.dataset.cardnum=0;\n",
       "    mydiv.dataset.numCards=cards.length;\n",
       "    mydiv.addEventListener('swiped-left', function(e) {\n",
       "        /*\n",
       "          console.log(e.detail);\n",
       "          console.log(id);\n",
       "        */\n",
       "        checkFlip(id);\n",
       "    }, {once: true});\n",
       "\n",
       "    var cardnum=0;\n",
       "    \n",
       "    for (var i=0; i<2; i++) {\n",
       "    \n",
       "        var flipper;\n",
       "        if (i==0){\n",
       "            flipper=createOneCard(mydiv, true, cards, cardnum);\n",
       "        }\n",
       "        else {\n",
       "            flipper=createOneCard(mydiv, false, cards, cardnum);\n",
       "        }\n",
       "\n",
       "        mydiv.append(flipper);\n",
       "        if (typeof MathJax != 'undefined') {\n",
       "            var version = MathJax.version;\n",
       "            if (typeof version == 'undefined') {\n",
       "                setTimeout(function(){\n",
       "                    var version = MathJax.version;\n",
       "                    console.log('After sleep, MathJax version', version);\n",
       "                    if (version[0] == \"2\") {\n",
       "                        MathJax.Hub.Queue([\"Typeset\", MathJax.Hub]);\n",
       "                    } else if (version[0] == \"3\") {\n",
       "                        MathJax.typeset([flipper]);\n",
       "                    }\n",
       "                }, 500);\n",
       "            } else{\n",
       "                console.log('MathJax version', version);\n",
       "                if (version[0] == \"2\") {\n",
       "                    MathJax.Hub.Queue([\"Typeset\", MathJax.Hub]);\n",
       "                } else if (version[0] == \"3\") {\n",
       "                    MathJax.typeset([flipper]);\n",
       "                }\n",
       "            }\n",
       "        } else {\n",
       "            console.log('MathJax not detected');\n",
       "        }\n",
       "\n",
       "\n",
       "        cardnum = (cardnum + 1) % mydiv.dataset.numCards;\n",
       "    }\n",
       "    mydiv.dataset.cardnum = cardnum;\n",
       "\n",
       "    var next=document.getElementById(id+'-next');\n",
       "    if (cards.length==1) {\n",
       "        // Don't show next if no other cards!\n",
       "        next.style.pointerEvents='none';\n",
       "        next.classList.add('hide');\n",
       "    } else {\n",
       "        next.innerHTML=\"Next >\";\n",
       "    }\n",
       "\n",
       "    return flipper;\n",
       "}\n",
       "\n",
       "\n",
       "\n",
       "\n",
       "\n",
       "</script><script type=\"text/Javascript\">\n",
       "    \n",
       "    cardsYBXzUrMYVGty=[\n",
       "    {\n",
       "        \"front\": \"cumulative distribution function (CDF)\",\n",
       "        \"back\": \"Let $(S,\\\\mathcal{F},P)$ be a probability space and $X$ be a real RV on $S$. Then the <i>cumulative distribution function (CDF)</i> is the real function $F_X(x) =P (X\\\\le x)$. \"\n",
       "    },\n",
       "    {\n",
       "        \"front\": \"staircase function\",\n",
       "        \"back\": \"A staircase function is a piecewise constant function of its argument that has at most a countable number of pieces.\"\n",
       "    },\n",
       "    {\n",
       "        \"front\": \"survival function (SF)\",\n",
       "        \"back\": \"Let $(S,\\\\mathcal{F},P)$ be a probability space and $X$ be a real RV on $S$. Then the <i>survival function(SF)</i> is the real function $S_X(x) =P (X > x)= 1 -F_X(x)$.\"}\n",
       "]\n",
       ";\n",
       "    \n",
       "\n",
       "        {\n",
       "        const jmscontroller = new AbortController();\n",
       "        const signal = jmscontroller.signal;\n",
       "\n",
       "        setTimeout(() => jmscontroller.abort(), 5000);\n",
       "\n",
       "        fetch(\"https://raw.githubusercontent.com/jmshea/Foundations-of-Data-Science-with-Python/main/08-random-variables/flashcards/cdfs.json\", {signal})\n",
       "        .then(response => response.json())\n",
       "        .then(json => createCards(\"YBXzUrMYVGty\"))\n",
       "        .catch(err => {\n",
       "        console.log(\"Fetch error or timeout\");\n",
       "        createCards(\"YBXzUrMYVGty\");\n",
       "        });\n",
       "        }\n",
       "        </script>\n",
       "        <div style=\"height:40px\"></div><div class=\"flip-container\" id=\"YBXzUrMYVGty\" onclick=\"flip(this)\"></div><div style=\"height:40px\"></div><div class=\"next\" id=\"YBXzUrMYVGty-next\" onclick=\"checkFlip('YBXzUrMYVGty')\"> </div> <div style=\"height:40px\"></div>"
      ],
      "text/plain": [
       "<IPython.core.display.HTML object>"
      ]
     },
     "metadata": {},
     "output_type": "display_data"
    }
   ],
   "source": [
    "from jupytercards import display_flashcards\n",
    "\n",
    "#display_flashcards('flashcards/'+'cdfs.json')\n",
    "\n",
    "github='https://raw.githubusercontent.com/jmshea/Foundations-of-Data-Science-with-Python/main/'\n",
    "github+='08-random-variables/flashcards/'\n",
    "display_flashcards(github+'cdfs.json')\n",
    "\n"
   ]
  }
 ],
 "metadata": {
  "kernelspec": {
   "display_name": "Python 3 (ipykernel)",
   "language": "python",
   "name": "python3"
  },
  "language_info": {
   "codemirror_mode": {
    "name": "ipython",
    "version": 3
   },
   "file_extension": ".py",
   "mimetype": "text/x-python",
   "name": "python",
   "nbconvert_exporter": "python",
   "pygments_lexer": "ipython3",
   "version": "3.9.12"
  },
  "latex_envs": {
   "LaTeX_envs_menu_present": true,
   "autoclose": true,
   "autocomplete": true,
   "bibliofile": "biblio.bib",
   "cite_by": "apalike",
   "current_citInitial": 1,
   "eqLabelWithNumbers": true,
   "eqNumInitial": 1,
   "hotkeys": {
    "equation": "Ctrl-E",
    "itemize": "Ctrl-I"
   },
   "labels_anchors": false,
   "latex_user_defs": false,
   "report_style_numbering": false,
   "user_envs_cfg": false
  }
 },
 "nbformat": 4,
 "nbformat_minor": 4
}
