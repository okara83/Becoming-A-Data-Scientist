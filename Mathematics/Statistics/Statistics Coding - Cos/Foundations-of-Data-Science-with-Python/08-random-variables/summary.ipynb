{
 "cells": [
  {
   "cell_type": "markdown",
   "id": "225a722c-7b09-47e8-95bb-99d97e4b9e71",
   "metadata": {},
   "source": [
    "# Summary\n",
    "\n",
    "We introduced *random variables* as tools to model numerical random phenomena. We discussed two classes of random variables and the tools (functions) to work with them:\n",
    "* *Discrete random variables* have finite or countably infinite ranges. The values in the range take on non-zero probabilities. We can work with these probabilities through the probability mass function (PMF) or cumulative distribution function (CDF). Common examples include Discrete Uniform, Bernoulli, Binomial, Geometric, and Poisson random variables.\n",
    "* *Continuous random variables* have ranges that are uncountably infinite, such as intervals of the real line. We showed that each value of a continuous random variable has zero probability, but intervals of values have nonzero probability. The values have *probability density*, and we introduced the probability density function (pdf) as one way to calculate probabilities for continuous random variables; the other way is to use the CDF. Common examples include Continuous Uniform, Exponential, Normal, Chi-Squared, and Student's $t$ random variables.\n",
    "\n",
    "We gave an example using a statistical data set on adult heights in the US that showed how random variables can be used to model statistical data and that models can be used to answer questions that cannot be answered through resampling approaches. \n",
    "\n",
    "We also introduced kernel density estimation (KDE) as an alternative to histograms that generally provides a  better estimate the shape of the pdf for continuous random variables.\n",
    "\n",
    "In the next chapter, we introduce expected values, which extend the concept of statistical averages from data to models (random variables). "
   ]
  }
 ],
 "metadata": {
  "kernelspec": {
   "display_name": "Python 3 (ipykernel)",
   "language": "python",
   "name": "python3"
  },
  "language_info": {
   "codemirror_mode": {
    "name": "ipython",
    "version": 3
   },
   "file_extension": ".py",
   "mimetype": "text/x-python",
   "name": "python",
   "nbconvert_exporter": "python",
   "pygments_lexer": "ipython3",
   "version": "3.7.4"
  }
 },
 "nbformat": 4,
 "nbformat_minor": 5
}
