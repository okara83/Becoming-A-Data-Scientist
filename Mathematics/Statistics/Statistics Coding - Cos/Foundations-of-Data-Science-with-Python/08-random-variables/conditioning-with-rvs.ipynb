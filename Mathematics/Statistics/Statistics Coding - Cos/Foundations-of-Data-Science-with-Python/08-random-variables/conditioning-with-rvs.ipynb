{
 "cells": [
  {
   "cell_type": "code",
   "execution_count": 1,
   "metadata": {
    "slideshow": {
     "slide_type": "skip"
    }
   },
   "outputs": [],
   "source": [
    "import numpy as np\n",
    "import numpy.random as npr\n",
    "import scipy.stats as stats\n",
    "\n",
    "def q(x):\n",
    "  return stats.norm.sf(x)\n",
    "\n",
    "import matplotlib.pyplot as plt\n",
    "%matplotlib inline"
   ]
  },
  {
   "cell_type": "markdown",
   "metadata": {
    "slideshow": {
     "slide_type": "slide"
    }
   },
   "source": [
    "# Conditioning with Random Variables"
   ]
  },
  {
   "cell_type": "markdown",
   "metadata": {
    "slideshow": {
     "slide_type": "subslide"
    }
   },
   "source": [
    "It is commonly said that \"all probabilities are conditional\". That is true for random variables, too.  Random variables can depend on events or on other random variables. Let's start with the simplest case. We are given a random variable for which the distribution of the random variable depends on some other event. This will be most clear through an example:"
   ]
  },
  {
   "cell_type": "markdown",
   "metadata": {
    "slideshow": {
     "slide_type": "slide"
    }
   },
   "source": [
    "**Motivating Example: Binary Communications**\n",
    "\n",
    "In a binary communication system, a transmitter attempts to communicate a stream of bits to a receiver. The received signal is a noisy version of the transmitted signal. After some signal processing, the received signal is converted into a *decision statistic*, $X$, which is a random variable that can be used to decide whether the transmitted signal was a 0 or a 1. For the decision statistic to be useful in deciding which bit was transmitted, its distribution must change depending on which bit was transmitted. In many cases, $X$ is a Normal random variable, and the standard deviation of $X$ does not depend on which bit was transmitted. The mean will change depending on which bit was transmitted. Let's use the following model:"
   ]
  },
  {
   "cell_type": "markdown",
   "metadata": {
    "slideshow": {
     "slide_type": "subslide"
    }
   },
   "source": [
    "\\begin{align*}\n",
    "  \\begin{cases}\n",
    "  X  \\sim \\mbox{Normal}(+1,\\sigma), & 0 \\mbox{ transmitted}\\\\\n",
    "  X  \\sim \\mbox{Normal}(-1,\\sigma), & 1 \\mbox{ transmitted}.\n",
    "  \\end{cases}\n",
    "\\end{align*}"
   ]
  },
  {
   "cell_type": "markdown",
   "metadata": {
    "slideshow": {
     "slide_type": "subslide"
    }
   },
   "source": [
    "Let $T_i$ denote the event that $i$ is transmitted.  Then can write a  conditional distribution function for $X$ given that $i$ was transmitted as\n",
    "\n",
    "$$\n",
    "F_X(x|T_i) = P(X \\le x | T_i).\n",
    "$$\n",
    "\n",
    "We can then easily extend this to a conditional pdf, which is defined as the derivative of the conditional cdf,\n",
    "\n",
    "$$\n",
    "f_X(x|T_i) = \\frac{d}{dx} F_X(x|T_i).\n",
    "$$\n"
   ]
  },
  {
   "cell_type": "markdown",
   "metadata": {},
   "source": [
    "An example of the conditional densities for this binary communication system example is shown below:"
   ]
  },
  {
   "cell_type": "code",
   "execution_count": 2,
   "metadata": {},
   "outputs": [
    {
     "data": {
      "image/png": "[encoded data removed]",
      "text/plain": [
       "<Figure size 432x288 with 1 Axes>"
      ]
     },
     "metadata": {
      "needs_background": "light"
     },
     "output_type": "display_data"
    }
   ],
   "source": [
    "sigma=0.75\n",
    "p0=1/2\n",
    "G0=stats.norm(loc=1,scale=sigma)\n",
    "G1=stats.norm(loc=-1,scale=sigma)\n",
    "x=np.linspace(-4,4,1001)\n",
    "p1=1-p0\n",
    "\n",
    "# plot the weighted densities:\n",
    "# these are proportional to the APPs\n",
    "plt.plot(x,p0*G0.pdf(x))\n",
    "plt.plot(x,p1*G1.pdf(x))\n",
    "\n",
    "# Fill under the regions found above\n",
    "plt.fill_between(x,p0*G0.pdf(x),alpha=0.3)\n",
    "plt.fill_between(x,p1*G1.pdf(x),alpha=0.3)\n",
    "\n",
    "ax=plt.gca()\n",
    "ax.spines['top'].set_visible(False)\n",
    "ax.spines['right'].set_visible(False)\n",
    "ax.spines['left'].set_visible(False)\n",
    "ax.get_yaxis().set_ticks([]);\n",
    "\n",
    "plt.annotate('$f_X(x|T_0)$', (2,0.2), fontsize=16)\n",
    "plt.annotate('$f_X(x|T_1)$', (-3.4,0.2), fontsize=16);"
   ]
  },
  {
   "cell_type": "markdown",
   "metadata": {
    "tags": [
     "hide-cell"
    ]
   },
   "source": [
    "Now let's see how we can use conditional densities and distributions:"
   ]
  },
  {
   "cell_type": "markdown",
   "metadata": {
    "slideshow": {
     "slide_type": "slide"
    }
   },
   "source": [
    "**Part a)** Calculate the probability that $X>2$ if $P(T_0)=0.25$ and $P(T_1)=0.75$ if $\\sigma=2$"
   ]
  },
  {
   "cell_type": "markdown",
   "metadata": {
    "slideshow": {
     "slide_type": "fragment"
    }
   },
   "source": [
    "Now that we have the concept of conditional distributions, we have the tools to solve this type of problem. The first thing to realize is that the problem is that we do not know the distribution of $X$: **we only know conditional distributions of $X$ given $T_i$**. We can consider $T_i$ to be the hidden state in this problem.  To find $P(X>2)$, we can apply the Law of Total Probability, where we condition on the hidden state:\n",
    "\n",
    "$$\n",
    "P(X>2) = P(X>2|T_0)P(T_0) + P(X>2|T_1)P(T_1).\n",
    "$$\n",
    "\n",
    "We are given $P(T_0)$ and $P(T_1)$ in the problem statement, and we know that conditioned on a particular $T_i$, $X$ is Normal with some mean $\\mu \\in \\{+1, -1\\}$ and standard deviation $\\sigma = 2$. Here are two different approaches to solve this problem using the conditional distributions:\n",
    "\n",
    "1. We can uses SciPy.stats to create each of the conditional distributions and then use the built in methods to evaluate the probability. Start by creating the two conditional distributions:\n",
    "\n"
   ]
  },
  {
   "cell_type": "code",
   "execution_count": 3,
   "metadata": {},
   "outputs": [],
   "source": [
    "XgivenT0 = stats.norm(1, 2)\n",
    "XgivenT1 = stats.norm(-1, 2)"
   ]
  },
  {
   "cell_type": "markdown",
   "metadata": {},
   "source": [
    "Then $P(X>2|T_i)$ is simply the survival function of $X$ using the conditional distribution given $T_i$. So, $P(X>2|T_0)$ can be evaluated as"
   ]
  },
  {
   "cell_type": "code",
   "execution_count": 4,
   "metadata": {},
   "outputs": [
    {
     "data": {
      "text/plain": [
       "0.3085375387259869"
      ]
     },
     "execution_count": 4,
     "metadata": {},
     "output_type": "execute_result"
    }
   ],
   "source": [
    "XgivenT0.sf(2)"
   ]
  },
  {
   "cell_type": "markdown",
   "metadata": {},
   "source": [
    "Similarly, we can evaluate $P(X>2|T_1)$ as"
   ]
  },
  {
   "cell_type": "code",
   "execution_count": 5,
   "metadata": {},
   "outputs": [
    {
     "data": {
      "text/plain": [
       "0.06680720126885807"
      ]
     },
     "execution_count": 5,
     "metadata": {},
     "output_type": "execute_result"
    }
   ],
   "source": [
    "XgivenT1.sf(2)"
   ]
  },
  {
   "cell_type": "markdown",
   "metadata": {},
   "source": [
    "Putting these values into the Total Probability expression gives the value for $P(X>2)$,"
   ]
  },
  {
   "cell_type": "code",
   "execution_count": 6,
   "metadata": {},
   "outputs": [
    {
     "data": {
      "text/plain": [
       "0.12723978563314026"
      ]
     },
     "execution_count": 6,
     "metadata": {},
     "output_type": "execute_result"
    }
   ],
   "source": [
    "XgivenT0.sf(2) * 0.25 + XgivenT1.sf(2) * 0.75"
   ]
  },
  {
   "cell_type": "markdown",
   "metadata": {},
   "source": [
    "2. Suppose that we wanted to give an expression for $P(X>2)$ in terms of the $Q()$ function instead. We could rewrite the forms $P(X>2|T_0)$ in terms of conditional distribution functions, like $P(X>2|T_0) = 1 - P(X \\le 2 |T_0) = 1- F_X(2|T_0)$.  It is more efficient to just realize that each conditional distribution is Normal, and thus we can directly apply our distance-based approaches to find the probabilities in terms of the $Q()$ function. Note that 2 is greater than either value of $\\mu$, so we are evaluating the probabilities of two right tails, as shown in the plots below:"
   ]
  },
  {
   "cell_type": "code",
   "execution_count": 7,
   "metadata": {
    "tags": [
     "remove-input"
    ]
   },
   "outputs": [
    {
     "data": {
      "image/png": "[encoded data removed]",
      "text/plain": [
       "<Figure size 864x288 with 2 Axes>"
      ]
     },
     "metadata": {
      "needs_background": "light"
     },
     "output_type": "display_data"
    }
   ],
   "source": [
    "sigma=2\n",
    "p0=1/2\n",
    "means = [1, -1]\n",
    "G0=stats.norm(loc=1,scale=sigma)\n",
    "G1=stats.norm(loc=-1,scale=sigma)\n",
    "x=np.arange(-3,7,0.1)\n",
    "greater2 = np.arange(2, 7, 0.1)\n",
    "p1=1-p0\n",
    "\n",
    "fig, axs = plt.subplots(1,2, figsize=(12,4))\n",
    "# plot the weighted densities:\n",
    "# these are proportional to the APPs\n",
    "axs[0].plot(x,p0*G0.pdf(x))\n",
    "axs[1].plot(x,p1*G1.pdf(x))\n",
    "\n",
    "# Fill under the regions found above\n",
    "axs[0].fill_between(greater2,p0*G0.pdf(greater2),alpha=0.3)\n",
    "axs[1].fill_between(greater2,p1*G1.pdf(greater2),alpha=0.3)\n",
    "\n",
    "for i, ax in enumerate(axs):\n",
    "  ax.spines['top'].set_visible(False)\n",
    "  ax.spines['right'].set_visible(False)\n",
    "  ax.spines['left'].set_visible(False)\n",
    "  ax.get_yaxis().set_ticks([]);\n",
    "  ax.axvline(2)\n",
    "  ax.axvline(means[i], color='black')\n",
    "  ax.annotate('', xy=(means[i],0.02), xytext=(2, 0.02), xycoords='data',             \n",
    "              arrowprops=dict(arrowstyle=\"<->\",\n",
    "                            connectionstyle=\"arc3\"), )\n",
    "  \n",
    "  ax.set_ylim(0, 0.1)\n",
    "\n",
    "axs[0].annotate('$d_0 = 2 - 1$', xy=(means[i],0.02), xytext=(-1.6, 0.03), xycoords='data', fontsize=14)\n",
    "axs[1].annotate('$d_1 = 2 - (-1)$', xy=(means[i],0.02), xytext=(2.4, 0.03), xycoords='data', fontsize=14)\n",
    "\n",
    "\n",
    "\n",
    "  \n",
    "plt.annotate('$f_X(x|T_0)$', (2,0.2), fontsize=16)\n",
    "plt.annotate('$f_X(x|T_1)$', (-3.4,0.2), fontsize=16);\n"
   ]
  },
  {
   "cell_type": "markdown",
   "metadata": {},
   "source": [
    "The probability $P(X>2)$ is "
   ]
  },
  {
   "cell_type": "markdown",
   "metadata": {},
   "source": [
    "\\begin{align}\n",
    "P(X>2) &= Q\\left(\\frac{d_0}{\\sigma} \\right)(0.25) +\n",
    "Q\\left(\\frac{d_1}{\\sigma} \\right)(0.75) \\\\\n",
    "&=Q\\left(\\frac{1}{2} \\right)(0.25) +\n",
    "Q\\left(\\frac{3}{2} \\right)(0.75) \n",
    "\\end{align}\n"
   ]
  },
  {
   "cell_type": "markdown",
   "metadata": {},
   "source": [
    "We can use our usual `q()` function to evaluate this probability:"
   ]
  },
  {
   "cell_type": "code",
   "execution_count": 8,
   "metadata": {
    "slideshow": {
     "slide_type": "fragment"
    }
   },
   "outputs": [
    {
     "data": {
      "text/plain": [
       "0.12723978563314026"
      ]
     },
     "execution_count": 8,
     "metadata": {},
     "output_type": "execute_result"
    }
   ],
   "source": [
    "q(1/2)*0.25+q(3/2)*0.75"
   ]
  },
  {
   "cell_type": "markdown",
   "metadata": {},
   "source": [
    "This result matches our previous answer."
   ]
  },
  {
   "cell_type": "markdown",
   "metadata": {},
   "source": [
    "**Part b)** Calculate the probability of the events $T_0$ and $T_1$ given that $X>2$ if $P(T_0)=0.25$ and $P(T_1)=0.75$ if $\\sigma=2$. \n",
    "\n",
    "*Solution*\n",
    "\n",
    "Let's just try to write down one of these probabilities and then apply our usual definition for evaluating a conditional probability,\n",
    "\n",
    "\\begin{align*}\n",
    "P(T_0 | X>2) &= \\frac{ P(T_0 \\cap X>2) }{P(X>2)}.\n",
    "\\end{align*}\n",
    "\n",
    "Since we do not directly know how to compute $P(T_0 \\cap X>2)$, we need to rewrite it using the Chain Rule in terms of probabilities that we do know: $P(T_0 \\cap X>2) = P(X>2|T_0) P(T_0)$. We have already shown how to calculate $P(X>2)$ using the Law of Total Probability. Putting these together, we get\n",
    "\n",
    "\\begin{align*}\n",
    "P(T_0 | X>2) &= \\frac{ P(X>2|T_0) P(T_0) }{P(X>2) }\\\\\n",
    "&= \\frac{ Q\\left( \\frac {2-1}{\\sigma} \\right) P(T_0) }{P(X>2)}.\n",
    "\\end{align*}\n",
    "\n",
    "Then the error probability given the specified parameters is\n"
   ]
  },
  {
   "cell_type": "code",
   "execution_count": 9,
   "metadata": {},
   "outputs": [
    {
     "data": {
      "text/plain": [
       "0.6062127839785253"
      ]
     },
     "execution_count": 9,
     "metadata": {},
     "output_type": "execute_result"
    }
   ],
   "source": [
    "q(1/2)*0.25/(q(1/2)*0.25+q(3/2)*0.75)"
   ]
  },
  {
   "cell_type": "markdown",
   "metadata": {},
   "source": [
    "The probability of $T_1$ given $X>2$ is \n",
    "\\begin{align*}\n",
    "P(T_1 | X>2) &= \\frac{ P(X>2|T_1) P(T_1) }{P(X>2) }\\\\\n",
    "&= \\frac{ Q\\left( \\frac {2-(-1)}{\\sigma} \\right) P(T_0) }{P(X>2)}.\n",
    "\\end{align*}\n",
    "\n"
   ]
  },
  {
   "cell_type": "code",
   "execution_count": 10,
   "metadata": {},
   "outputs": [
    {
     "data": {
      "text/plain": [
       "0.3937872160214748"
      ]
     },
     "execution_count": 10,
     "metadata": {},
     "output_type": "execute_result"
    }
   ],
   "source": [
    "q(3/2)*0.75/(q(1/2)*0.25+q(3/2)*0.75)"
   ]
  },
  {
   "cell_type": "markdown",
   "metadata": {},
   "source": [
    "Note that $P(T_0| X>2) + P(T_1|X>2) = 1$. This is expected, because $T_0$ and $T_1$ are complementary events."
   ]
  },
  {
   "cell_type": "markdown",
   "metadata": {},
   "source": [
    "**Part c)** Calculate the probability of the events $T_0$ and $T_1$ given that $X>=2$ if $P(T_0)=0.25$ and $P(T_1)=0.75$ if $\\sigma=2$.\n",
    "\n",
    "*Solution*\n",
    "\n",
    "This looks a lot like the previous problem. If we try to apply the same technique as in Part b), we get the following expression for $P(T_0|X=2)$:\n",
    "\n",
    "\\begin{align*}\n",
    "P(T_0 | X=2) &= \\frac{ P(X=2|T_0) P(T_0) }{P(X=2) }\\\\\n",
    "\\end{align*}\n",
    "\n",
    "This might look okay, except that $P(X=2|T_0)=0$. In addition, $P(X=2) = P(X=2|T_0)P(T_0) + P(X=2|T_1)P(T_1)=0$. So the result is $0/0$. The problem is that we are conditioning on an event that has zero probability. But keep in mind that every time that $X$ is received it takes on *some* value with zero probability. Being able to answer this type of question is important, but we don't have the math to deal with it yet. This type of conditional probability is called *point conditioning*:\n",
    "\n",
    "````{card}\n",
    "DEFINITION\n",
    "^^^\n",
    "```{glossary}\n",
    "point conditioning\n",
    "    Point conditioning occurs for a conditional probability if the conditioning statement is (or includes) the event that a random variable is equal to a particular value. I.e., $P(A|X=x)$, where $X$ is a continuous random variable.\n",
    "```\n",
    "````\n",
    "\n"
   ]
  },
  {
   "cell_type": "markdown",
   "metadata": {
    "slideshow": {
     "slide_type": "subslide"
    }
   },
   "source": [
    "We can evaluate a conditional probability with *point conditioning*, by treating it as a limit and doing some careful manipulation:\n",
    "\n",
    "\n",
    "\\begin{eqnarray*}\n",
    "P(A|X = x) \\! \\! &=& \\underset{ \\Delta x \\rightarrow 0}{\\lim} P(A| \n",
    " x < X \\le x+ \\Delta x  )   \\\\\n",
    "\\!\\!&=& \\underset{ \\Delta x \\rightarrow 0}{\\lim}\n",
    "\\frac{F_X(x + \\Delta x |A)- F_X(x|A)}{F_X(x+\\Delta x)-F_X(x)} \n",
    "P(A) \\\\\n",
    "&=& \\underset{ \\Delta x \\rightarrow 0}{\\lim}\n",
    "\\frac{\\frac{ F_X(x + \\Delta x |A)- F_X(x|A)}{ \\Delta x}}\n",
    "{ \\frac {F_X(x+\\Delta x)-F_X(x)}{ \\Delta x}} P(A) \\\\\n",
    "&=& \\frac{f_X(x|A)}{f_X(x)} P(A),\n",
    "\\end{eqnarray*}\n",
    "if $f_X(x|A)$ and $f_X(x)$ exist, and $f_X(x) \\ne 0$.\n",
    "\n",
    "(The result looks like what you would do if you didn't know any better -- treat the densities as if they were probabilities, and everything works out!)\n",
    "\n",
    "\n",
    "\n",
    "\n",
    "\n"
   ]
  },
  {
   "cell_type": "markdown",
   "metadata": {
    "slideshow": {
     "slide_type": "slide"
    }
   },
   "source": [
    "## Implications of Point Conditioning"
   ]
  },
  {
   "cell_type": "markdown",
   "metadata": {
    "slideshow": {
     "slide_type": "subslide"
    }
   },
   "source": [
    "Note that the form above is almost a Bayes' rule form: If $A$ is some input event and $f_X(x|A)$ is the likelihood of $X$ given $A$, then $P(A|X=x)$ is the *a posteriori* probability of $A$ given that the output of the system is $X=x$\n",
    "\n",
    "However, we don't know how to calculate $f_X(x)$ yet"
   ]
  },
  {
   "cell_type": "markdown",
   "metadata": {},
   "source": [
    "\n",
    "If  $\\left\\{A_i\\right\\}$ form a partition of $S$, then from our previous work on the Law of Total Probability, we have\n",
    "\\begin{align}\n",
    "F_X(x) &= P(X \\le x) \\\\\n",
    "&= \\sum_i P(X \\le x| A_i) P(A_i) \\\\\n",
    "&= \\sum_i F_X(x|A_i) P(A_i)\n",
    "\\end{align}\n",
    "    \n",
    "Since $ f_X(x) = \\frac{d}{dx} F_X(x)$ and $f_X(x|A_i) = \\frac{d}{dx} F_X(x|A_i)$,\n",
    "\\begin{align}\n",
    "f_X(x) &= \\frac{d}{dx} F_X(x) \\\\\n",
    "&= \\frac{d}{dx}\\sum_i F_X(x|A_i) P(A_i) \\\\\n",
    "&= \\sum_i \\left[\\frac{d}{dx} F_X(x|A_i) \\right]P(A_i)  \\\\\n",
    "&= \\sum_i f_X(x|A_i) P(A_i) \n",
    "\\end{align}\n",
    "   \n",
    "   **(Total Probability for Conditional Density Functions)**\n"
   ]
  },
  {
   "cell_type": "markdown",
   "metadata": {
    "slideshow": {
     "slide_type": "subslide"
    }
   },
   "source": [
    "* Note that \n",
    "\n",
    " \\begin{align*}\n",
    "   &P(A|X = x) = \\frac{f_X(x|A)}{f_X(x)} P(A) \\\\\n",
    "   \\mbox{ } \\\\\n",
    "   \\Rightarrow& P(A|X=x)f_X(x) = f_X(x|A)P(A) \\\\\n",
    "   \\mbox{ } \\\\\n",
    "   \\Rightarrow& \\int_{-\\infty}^{\\infty} P(A|X=x)f_X(x) dx \n",
    "   =  \\int_{-\\infty}^{\\infty} f_X(x|A) dx P(A) \\\\\n",
    " \\Rightarrow& P(A) =\\int_{-\\infty}^{\\infty} P(A|X=x)f_X(x) dx \n",
    " \\end{align*}\n",
    "**(Continuous Version of Law of Total Probability)** \n",
    "\n",
    " \n"
   ]
  },
  {
   "cell_type": "markdown",
   "metadata": {
    "slideshow": {
     "slide_type": "subslide"
    }
   },
   "source": [
    "\n",
    "\n",
    "**Point Conditioning Form of Baye's Rule:**\n",
    "\n",
    "  If $\\{A_i, ~i=0,1,\\ldots, n-1\\}$ form a partition of $S$, then\n",
    "\\begin{eqnarray*}\n",
    "   P(A_i|X \\!=\\! x)  &~=~& \\frac{f_X(x|A_i) P(A_i)}{\n",
    "      \\sum_{i=0}^{n-1}{f_X(x|A_i) P(A_i)}\n",
    "      }\n",
    "\\end{eqnarray*}\n",
    "\n",
    "\n"
   ]
  },
  {
   "cell_type": "markdown",
   "metadata": {},
   "source": [
    "## The Memoryless Property of the Exponential Distribution\n",
    "\n",
    "In {doc}`important-continuous-rvs`, I gave a specific example where the time that had passed since a lightbulb was first in service did not seem to affect its future lifetime. Let's try to formalize and generalize this using conditional distribution functions.\n",
    "\n",
    "Let $T$ be the lifetime of some device. (The same result applies if $T$ is instead a different type of time, such as the time waiting in a queue.) Let $T \\sim$ exponential($\\lambda$) for some $\\lambda >0$. Now suppose that we are given $T>5$. Let's first evaluate the conditional distribution for $T$ given that $T>5$:\n",
    "\n",
    "\\begin{align}\n",
    "F_T(t|T>5) &= P(T \\le t | T>5)\\\\\n",
    " &= \\frac{P(T \\le t \\cap T>5)}{P(T>5)}\\\\\n",
    "\\end{align}"
   ]
  },
  {
   "cell_type": "markdown",
   "metadata": {},
   "source": [
    "The denominator is the easy part:\n",
    "\n",
    "$$\n",
    "P(T>5) = 1 -F_T(5) = e^{-5 \\lambda}.\n",
    "$$\n"
   ]
  },
  {
   "cell_type": "markdown",
   "metadata": {},
   "source": [
    "Let's visualize the two cases that can occur for the numerator. If $t<5$, then the regions look like this:\n",
    "```{image} figs/memoryless1.pdf\n",
    ":alt: Number line illustrating events $T \\le t$ and $T>5$ when $t<5$\n",
    ":width: 300px\n",
    ":align: center\n",
    "```\n",
    "\n",
    "Since there is no overlap between these two regions, the intersection is the null set, and $F_T(t|T>5)=0$ if $t<t$. I.e., the probability that the device last less than $t$ units, where $t< 5$, is 0 if we know that the device lasted at least 5 units.\n",
    "\n",
    "\n",
    "If $t \\ge 5$, the two regions in the numerator look like this:\n",
    "```{image} figs/memoryless2.pdf\n",
    ":alt: Number line illustrating events $T \\le t$ and $T>5$ when $t\\ge5$\n",
    ":width: 300px\n",
    ":align: center\n",
    "```\n",
    "\n",
    "From the figure, we can see that the numerator can be rewritten as $P(5<T \\le t)$, which we can evaluate as\n",
    "\n",
    "\\begin{align*}\n",
    "P(5 < T \\le t) &= F_T(t) - F_T(5)\\\\\n",
    "&= 1 - e^{-\\lambda t} - \\left( 1 - e^{ -\\lambda(5)}\\right) \\\\\n",
    "&= e^{ -5\\lambda}- e^{-\\lambda t}\n",
    "\\end{align*}\n",
    "\n",
    "Thus, for $t \\ge 5$, \n",
    "\\begin{align}\n",
    "F_T(t|T>5) &= \\frac{e^{ -5\\lambda}- e^{-\\lambda t}}{ e^{ -5\\lambda} } \\\\\n",
    "&= 1- e^{-\\lambda (t-5)}\n",
    "\\end{align}\n",
    "\n",
    "Overall the conditional distribution is\n",
    "\n",
    "$$\n",
    "F_T(t|T>5) =\n",
    "\\begin{cases}\n",
    "0, & t < 5 \\\\\n",
    "1- e^{-\\lambda (t-5)}, & t \\ge 5 .\n",
    "\\end{cases}\n",
    "$$"
   ]
  },
  {
   "cell_type": "markdown",
   "metadata": {},
   "source": [
    "It is helpful to plot the distribution of $T$ (with $lambda=1$) along with the conditional distribution of $T$ given $T \\ge 5$:"
   ]
  },
  {
   "cell_type": "code",
   "execution_count": 11,
   "metadata": {},
   "outputs": [
    {
     "data": {
      "image/png": "[encoded data removed]",
      "text/plain": [
       "<Figure size 432x288 with 1 Axes>"
      ]
     },
     "metadata": {
      "needs_background": "light"
     },
     "output_type": "display_data"
    }
   ],
   "source": [
    "t=np.arange(0, 12, 0.1)\n",
    "\n",
    "T=stats.expon()\n",
    "plt.plot(t, T.cdf(t), label='$F_T(t)$')\n",
    "\n",
    "FT = np.piecewise(t, [t<5, t>=5], [0, lambda x: 1-np.exp(-(x-5))] )\n",
    "plt.plot(t, FT, label = '$F_T(t|T >5)$')\n",
    "plt.legend();"
   ]
  },
  {
   "cell_type": "markdown",
   "metadata": {},
   "source": [
    "The conditional cdf is simply a **shifted version of the original cdf**. \n",
    "\n",
    "Now we are ready to see why this creates a memoryless property. Instead of asking about the total lifetime of the device $T$ given that it has already lasted for 5 time units, let's ask about the remaining lifetime. Let $L$ be the remaining liftime. Given that the devices has lasted for time units, the remaining lifetime is $L=T-5$. Then\n",
    "\n",
    "\\begin{align}\n",
    "F_L(l| T \\ge 5) &= P(L \\le l| T \\ge 5) \\\\\n",
    "&= P(T -5 \\le l| T \\ge 5) \\\\\n",
    "&= P (T \\le l+5| T \\ge 5) \\\\\n",
    "&= F_T(l +5| T \\ge 5) \\\\\n",
    "&=\\begin{cases}\n",
    "0, & (l+5)  < 5 \\\\\n",
    "1- e^{-\\lambda ((l+5)-5)}, & (l+5) \\ge 5 \n",
    "\\end{cases}\\\\\n",
    "&=\\begin{cases}\n",
    "0, & l  < 0 \\\\\n",
    "1- e^{-\\lambda (l)}, & l \\ge 0 \n",
    "\\end{cases}\\\\\n",
    "\\end{align}"
   ]
  },
  {
   "cell_type": "markdown",
   "metadata": {},
   "source": [
    "The remaining lifetime of the device given that it has already lasted 5 time units has the same exact cdf as the original lifetime of the device. And the result does not depend on the fact that we had conditioned on it lasting for 5 time units. We would get the same result for other values of time.  **No matter how long the device has lasted, its remaining lifetime has the same distribution as its original lifetime**. This is the memoryless property, and the exponential random variable is the only continuous random variable with this property. The Geometric random variable is the only discrete random variable with this property."
   ]
  },
  {
   "cell_type": "markdown",
   "metadata": {},
   "source": [
    "## Discussion\n",
    "\n",
    "In this section, I introduced a lot of ideas and tools for working with random variables with conditioning because it is helpful to see this material while the on distribution and density functions is still fresh on your mind. I have deferred many of the examples and applications to later sections. In particular, {doc}`../10-conditional-stats/intro` uses this material for statistical tests. "
   ]
  },
  {
   "cell_type": "markdown",
   "metadata": {},
   "source": [
    "## Terminology Review"
   ]
  },
  {
   "cell_type": "code",
   "execution_count": 12,
   "metadata": {
    "tags": [
     "remove-input"
    ]
   },
   "outputs": [
    {
     "data": {
      "text/html": [
       "<style>\n",
       ":root{\n",
       "--asparagus: #87a878ff;\n",
       "--terra-cotta: #e26d5aff;\n",
       "--cyan-process: #5bc0ebff;\n",
       "--dark-blue-gray: #666a86ff;\n",
       "--snow: #fffafbff;\n",
       "--rich-black-fogra-39: #090c08ff;\n",
       "}\n",
       "\n",
       "\n",
       "/* entire container, keeps perspective */\n",
       ".flip-container {\n",
       "\tperspective: 1000px;\n",
       "  touch-action: pinch-zoom pan-y;\n",
       "}\n",
       "\n",
       "\n",
       ".flip-container.flip .flipper {\n",
       "\ttransform: rotateY(180deg)  translateX(-10%);\n",
       "}\n",
       "\n",
       "\n",
       ".flip-container.slide .flipper.frontcard {\n",
       "    filter: brightness(90%);\n",
       "    position:absolute;\n",
       "    z-index: -20;\n",
       "}\n",
       "\n",
       ".flip-container.prepare .flipper.backcard {\n",
       "    opacity:1;\n",
       "    transform:  translateX(20px); \n",
       "    transition: display 0s;\n",
       "}\n",
       "\n",
       "\n",
       ".flip-container.slide .flipper.backcard {\n",
       "    filter: brightness(115%);\n",
       "    height: 360px;\n",
       "    opacity:1;\n",
       "\t  transform:  rotateY(3deg)  translateX(700px) translateZ(20px) scale(1, 1.05) rotate(3deg);\n",
       "    z-index: 20;\n",
       "}\n",
       "\n",
       "\n",
       "\n",
       "\n",
       ".flip-container.slideback .flipper.backcard {\n",
       "    filter: brightness(100%);\n",
       "    opacity: 1;\n",
       "\t  transform: translateX(0px) translateZ(20px) rotateY(0deg);\n",
       "    z-index: 10;\n",
       "}\n",
       "\n",
       ".flip-container.slideback .flipper.frontcard {\n",
       "    filter: brightness(90%);\n",
       "    transform: translateX(0px) translateZ(-20px);\n",
       "    z-index: -10;\n",
       "}\n",
       "\n",
       "\n",
       ".flip-container, .front, .back {\n",
       "\t  height: 300px;\n",
       "\t  width: 640px;\n",
       "}\n",
       "\n",
       ".flipper.frontcard {\n",
       "    position:absolute;\n",
       "\t  transform: translateX(0px) rotateY(0deg) translateZ(20px);\n",
       "    z-index: 10;\n",
       "}\n",
       "\n",
       ".flipper.backcard {\n",
       "    filter: brightness(90%);\n",
       "    opacity:0;\n",
       "    position:absolute;\n",
       "    transform: translateX(0px) translateZ(-20px);\n",
       "    z-index: -10;\n",
       "}\n",
       "\n",
       "\n",
       "\n",
       "\n",
       "/* flip speed goes here */\n",
       ".flipper {\n",
       "    cursor:pointer;\n",
       "\t  height: 200px;\n",
       "    margin-left:20px;\n",
       "\t  position: absolute;\n",
       "    top: 0;\n",
       "\t  transform-style: preserve-3d;\n",
       "\t  transition: 0.6s;\n",
       "    width: 600px;\n",
       "}\n",
       "\n",
       "/* hide back of pane during swap */\n",
       ".front, .back {\n",
       "    -webkit-backface-visibility: hidden;\n",
       "\t  backface-visibility: hidden;\n",
       "\t  left: 0;\n",
       "\t  position: absolute;\n",
       "\t  top: 0;\n",
       "}\n",
       "\n",
       "/* front pane, placed above back */\n",
       ".front {\n",
       "\t  backface-visibility: hidden;\n",
       "    background: var(--asparagus);\n",
       "    transform: rotateY(0deg);\n",
       "\t  z-index: 2;\n",
       "}\n",
       "\n",
       "/* back, initially hidden pane */\n",
       ".back {\n",
       "\t  backface-visibility: hidden;\n",
       "    background: var(--dark-blue-gray);\n",
       "\t  transform: rotateY(180deg);\n",
       "}\n",
       "\n",
       ".next {\n",
       "    color: var(--rich-black-fogra-39);\n",
       "    cursor:pointer;\n",
       "    font-size: 16pt;\n",
       "    left:600px;\n",
       "    opacity:0.3;\n",
       "    position:relative; \n",
       "    top:20px;\n",
       "}\n",
       "\n",
       ".next.flipped {\n",
       "    opacity:1;\n",
       "}\n",
       "\n",
       ".next.hide {\n",
       "    opacity:0;\n",
       "}\n",
       "\n",
       "\n",
       ".flashcard{\n",
       "    border-radius: 10px;\n",
       "    color: #fafafa;\n",
       "    display:block;\n",
       "    padding:10px;\n",
       "  \n",
       "}\n",
       ".flashcardtext{\n",
       "    color: var(--snow);\n",
       "    font-size: 20pt;\n",
       "    margin-left:3%;\n",
       "    position:absolute;\n",
       "    text-align:center;\n",
       "    top: 50%;\n",
       "    transform: translate(0, -50%);\n",
       "    width:90%;\n",
       "  }\n",
       "\n",
       "</style><script type=\"text/Javascript\">\n",
       "/*!\n",
       " * swiped-events.js - v1.1.4\n",
       " * Pure JavaScript swipe events\n",
       " * https://github.com/john-doherty/swiped-events\n",
       " * @inspiration https://stackoverflow.com/questions/16348031/disable-scrolling-when-touch-moving-certain-element\n",
       " * @author John Doherty <www.johndoherty.info>\n",
       " * @license MIT\n",
       " */\n",
       "!function(t,e){\"use strict\";\"function\"!=typeof t.CustomEvent&&(t.CustomEvent=function(t,n){n=n||{bubbles:!1,cancelable:!1,detail:void 0};var a=e.createEvent(\"CustomEvent\");return a.initCustomEvent(t,n.bubbles,n.cancelable,n.detail),a},t.CustomEvent.prototype=t.Event.prototype),e.addEventListener(\"touchstart\",function(t){if(\"true\"===t.target.getAttribute(\"data-swipe-ignore\"))return;s=t.target,r=Date.now(),n=t.touches[0].clientX,a=t.touches[0].clientY,u=0,i=0},!1),e.addEventListener(\"touchmove\",function(t){if(!n||!a)return;var e=t.touches[0].clientX,r=t.touches[0].clientY;u=n-e,i=a-r},!1),e.addEventListener(\"touchend\",function(t){if(s!==t.target)return;var e=parseInt(l(s,\"data-swipe-threshold\",\"20\"),10),o=parseInt(l(s,\"data-swipe-timeout\",\"500\"),10),c=Date.now()-r,d=\"\",p=t.changedTouches||t.touches||[];Math.abs(u)>Math.abs(i)?Math.abs(u)>e&&c<o&&(d=u>0?\"swiped-left\":\"swiped-right\"):Math.abs(i)>e&&c<o&&(d=i>0?\"swiped-up\":\"swiped-down\");if(\"\"!==d){var b={dir:d.replace(/swiped-/,\"\"),xStart:parseInt(n,10),xEnd:parseInt((p[0]||{}).clientX||-1,10),yStart:parseInt(a,10),yEnd:parseInt((p[0]||{}).clientY||-1,10)};s.dispatchEvent(new CustomEvent(\"swiped\",{bubbles:!0,cancelable:!0,detail:b})),s.dispatchEvent(new CustomEvent(d,{bubbles:!0,cancelable:!0,detail:b}))}n=null,a=null,r=null},!1);var n=null,a=null,u=null,i=null,r=null,s=null;function l(t,n,a){for(;t&&t!==e.documentElement;){var u=t.getAttribute(n);if(u)return u;t=t.parentNode}return a}}(window,document);\n",
       "\n",
       "function jaxify(string) {\n",
       "    var mystring = string;\n",
       "    console.log(mystring);\n",
       "\n",
       "    count = 0;\n",
       "    var loc = mystring.search(/([^\\\\]|^)(\\$)/);\n",
       "\n",
       "    count2 = 0;\n",
       "    var loc2 = mystring.search(/([^\\\\]|^)(\\$\\$)/);\n",
       "\n",
       "    //console.log(loc);\n",
       "\n",
       "    while ((loc >= 0) || (loc2 >= 0)) {\n",
       "\n",
       "        /* Have to replace all the double $$ first with current implementation */\n",
       "        if (loc2 >= 0) {\n",
       "            if (count2 % 2 == 0) {\n",
       "                mystring = mystring.replace(/([^\\\\]|^)(\\$\\$)/, \"$1\\\\[\");\n",
       "            } else {\n",
       "                mystring = mystring.replace(/([^\\\\]|^)(\\$\\$)/, \"$1\\\\]\");\n",
       "            }\n",
       "            count2++;\n",
       "        } else {\n",
       "            if (count % 2 == 0) {\n",
       "                mystring = mystring.replace(/([^\\\\]|^)(\\$)/, \"$1\\\\(\");\n",
       "            } else {\n",
       "                mystring = mystring.replace(/([^\\\\]|^)(\\$)/, \"$1\\\\)\");\n",
       "            }\n",
       "            count++;\n",
       "        }\n",
       "        loc = mystring.search(/([^\\\\]|^)(\\$)/);\n",
       "        loc2 = mystring.search(/([^\\\\]|^)(\\$\\$)/);\n",
       "        //console.log(mystring,\", loc:\",loc,\", loc2:\",loc2);\n",
       "    }\n",
       "\n",
       "    //console.log(mystring);\n",
       "    return mystring;\n",
       "}\n",
       "\n",
       "function flip(ths) {\n",
       "    console.log(ths);\n",
       "    console.log(ths.id);\n",
       "    ths.classList.toggle(\"flip\"); \n",
       "    var next=document.getElementById(ths.id+'-next');\n",
       "    next.style.pointerEvents='none';\n",
       "    next.classList.add('flipped');\n",
       "    if (typeof MathJax != 'undefined') {\n",
       "        var version = MathJax.version;\n",
       "        console.log('MathJax version', version);\n",
       "        if (version[0] == \"2\") {\n",
       "            MathJax.Hub.Queue([\"Typeset\", MathJax.Hub]);\n",
       "        } else if (version[0] == \"3\") {\n",
       "            MathJax.typeset([ths]);\n",
       "        }\n",
       "    } else {\n",
       "        console.log('MathJax not detected');\n",
       "    }\n",
       "\n",
       "\n",
       "    setTimeout(reenableNext, 700, next);\n",
       "}\n",
       "\n",
       "function reenableNext(next) {\n",
       "    next.style.pointerEvents='auto';\n",
       "}\n",
       "\n",
       "\n",
       "\n",
       "function slide2(containerId) {\n",
       "    var container = document.getElementById(containerId);\n",
       "    var next=document.getElementById(containerId+'-next');\n",
       "    var frontcard = container.children[0];\n",
       "    var backcard = container.children[1];\n",
       "    container.style.pointerEvents='none';\n",
       "    //backcard.style.pointerEvents='none';\n",
       "    next.style.pointerEvents='none';\n",
       "    next.classList.remove('flipped');\n",
       "    next.classList.add('hide');\n",
       "\n",
       "    //container.classList.add(\"prepare\");\n",
       "    \n",
       "    container.className=\"flip-container slide\";\n",
       "    backcard.parentElement.removeChild(frontcard);\n",
       "    backcard.parentElement.appendChild(frontcard);\n",
       "    setTimeout(slideback, 600, container, frontcard, backcard, next);\n",
       "    \n",
       "}\n",
       "\n",
       "\n",
       "function checkFlip(containerId) {\n",
       "    var container = document.getElementById(containerId);\n",
       "\n",
       "\n",
       "    if (container.classList.contains('flip')) {\n",
       "        container.classList.remove('flip');\n",
       "        setTimeout(slide2, 600, containerId);\n",
       "    } \n",
       "    else {\n",
       "        slide2(containerId);\n",
       "    }\n",
       "}\n",
       "\n",
       "\n",
       "function slideback(container, frontcard, backcard, next) {\n",
       "    container.className=\"flip-container slideback\";\n",
       "    setTimeout(cleanup, 600, container, frontcard, backcard, next);\n",
       "}\n",
       "\n",
       "function cleanup(container, frontcard, backcard, next) {\n",
       "    container.removeChild(frontcard);\n",
       "    backcard.className=\"flipper frontcard\";\n",
       "    container.className=\"flip-container\";\n",
       "\n",
       "    var cardnum=parseInt(container.dataset.cardnum);\n",
       "    var cards=eval('cards'+container.id);\n",
       "    var flipper=createOneCard(container, false, cards, cardnum);\n",
       "    container.append(flipper);\n",
       "    cardnum= (cardnum+1) % parseInt(container.dataset.numCards);\n",
       "    container.dataset.cardnum=cardnum;\n",
       "    if (cardnum != 1){\n",
       "        next.innerHTML=\"Next >\";\n",
       "    } else {\n",
       "        next.innerHTML=\"Reload \\\\(\\\\circlearrowleft\\\\) \";\n",
       "        if (typeof MathJax != 'undefined') {\n",
       "            var version = MathJax.version;\n",
       "            console.log('MathJax version', version);\n",
       "            if (version[0] == \"2\") {\n",
       "                MathJax.Hub.Queue([\"Typeset\", MathJax.Hub]);\n",
       "            } else if (version[0] == \"3\") {\n",
       "                MathJax.typeset([next]);\n",
       "            }\n",
       "        } else {\n",
       "            console.log('MathJax not detected');\n",
       "        }\n",
       "\n",
       "\n",
       "    }\n",
       "\n",
       "    if (typeof MathJax != 'undefined') {\n",
       "        var version = MathJax.version;\n",
       "        console.log('MathJax version', version);\n",
       "        if (version[0] == \"2\") {\n",
       "            MathJax.Hub.Queue([\"Typeset\", MathJax.Hub]);\n",
       "        } else if (version[0] == \"3\") {\n",
       "            MathJax.typeset();\n",
       "        }\n",
       "    } else {\n",
       "        console.log('MathJax not detected');\n",
       "    }\n",
       "\n",
       "\n",
       "    next.style.pointerEvents='auto';\n",
       "    container.style.pointerEvents='auto';\n",
       "    next.classList.remove('hide');\n",
       "    container.addEventListener('swiped-left', function(e) {\n",
       "        /*\n",
       "          console.log(e.detail);\n",
       "          console.log(id);\n",
       "        */\n",
       "        checkFlip(container.id);\n",
       "    }, {once: true });\n",
       "\n",
       "\n",
       "}\n",
       "\n",
       "\n",
       "function createOneCard  (mydiv, frontCard, cards, cardnum) {\n",
       "    colors=[\n",
       "        '--asparagus',\n",
       "        '--terra-cotta',\n",
       "        '--cyan-process'\n",
       "    ]\n",
       "\n",
       "    var flipper = document.createElement('div');\n",
       "    if (frontCard){\n",
       "        flipper.className=\"flipper frontcard\";    \n",
       "    }\n",
       "    else {\n",
       "        flipper.className=\"flipper backcard\";   \n",
       "    }\n",
       "\n",
       "    var front = document.createElement('div');\n",
       "    front.className='front flashcard';\n",
       "\n",
       "    var frontSpan= document.createElement('span');\n",
       "    frontSpan.className='flashcardtext';\n",
       "    frontSpan.innerHTML=jaxify(cards[cardnum]['front']);\n",
       "    //frontSpan.textContent=jaxify(cards[cardnum]['front']);\n",
       "    front.style.background='var(' + colors[cardnum % colors.length] + ')';\n",
       "\n",
       "\n",
       "    front.append(frontSpan);\n",
       "    flipper.append(front);\n",
       "\n",
       "    var back = document.createElement('div');\n",
       "    back.className='back flashcard';\n",
       "\n",
       "    var backSpan= document.createElement('span');\n",
       "    backSpan.className='flashcardtext';\n",
       "    backSpan.innerHTML=jaxify(cards[cardnum]['back']);\n",
       "    back.append(backSpan);\n",
       "\n",
       "    flipper.append(back);\n",
       "\n",
       "    return flipper;\n",
       "\n",
       "}\n",
       "\n",
       "\n",
       "\n",
       "\n",
       "\n",
       "function createCards(id) {\n",
       "    console.log(id);\n",
       "    \n",
       "    var mydiv=document.getElementById(id);\n",
       "    \n",
       "    var cards=eval('cards'+id);\n",
       "    mydiv.dataset.cardnum=0;\n",
       "    mydiv.dataset.numCards=cards.length;\n",
       "    mydiv.addEventListener('swiped-left', function(e) {\n",
       "        /*\n",
       "          console.log(e.detail);\n",
       "          console.log(id);\n",
       "        */\n",
       "        checkFlip(id);\n",
       "    }, {once: true});\n",
       "\n",
       "    var cardnum=0;\n",
       "    \n",
       "    for (var i=0; i<2; i++) {\n",
       "    \n",
       "        var flipper;\n",
       "        if (i==0){\n",
       "            flipper=createOneCard(mydiv, true, cards, cardnum);\n",
       "        }\n",
       "        else {\n",
       "            flipper=createOneCard(mydiv, false, cards, cardnum);\n",
       "        }\n",
       "\n",
       "        mydiv.append(flipper);\n",
       "        if (typeof MathJax != 'undefined') {\n",
       "            var version = MathJax.version;\n",
       "            if (typeof version == 'undefined') {\n",
       "                setTimeout(function(){\n",
       "                    var version = MathJax.version;\n",
       "                    console.log('After sleep, MathJax version', version);\n",
       "                    if (version[0] == \"2\") {\n",
       "                        MathJax.Hub.Queue([\"Typeset\", MathJax.Hub]);\n",
       "                    } else if (version[0] == \"3\") {\n",
       "                        MathJax.typeset([flipper]);\n",
       "                    }\n",
       "                }, 500);\n",
       "            } else{\n",
       "                console.log('MathJax version', version);\n",
       "                if (version[0] == \"2\") {\n",
       "                    MathJax.Hub.Queue([\"Typeset\", MathJax.Hub]);\n",
       "                } else if (version[0] == \"3\") {\n",
       "                    MathJax.typeset([flipper]);\n",
       "                }\n",
       "            }\n",
       "        } else {\n",
       "            console.log('MathJax not detected');\n",
       "        }\n",
       "\n",
       "\n",
       "        cardnum = (cardnum + 1) % mydiv.dataset.numCards;\n",
       "    }\n",
       "    mydiv.dataset.cardnum = cardnum;\n",
       "\n",
       "    var next=document.getElementById(id+'-next');\n",
       "    if (cards.length==1) {\n",
       "        // Don't show next if no other cards!\n",
       "        next.style.pointerEvents='none';\n",
       "        next.classList.add('hide');\n",
       "    } else {\n",
       "        next.innerHTML=\"Next >\";\n",
       "    }\n",
       "\n",
       "    return flipper;\n",
       "}\n",
       "\n",
       "\n",
       "\n",
       "\n",
       "\n",
       "</script><script type=\"text/Javascript\">\n",
       "    \n",
       "    cardspkFsXZkXODQl=[\n",
       "    {\n",
       "        \"front\": \"Point conditioning\",\n",
       "        \"back\": \"When a conditioning statement  has a random variable equal to a particular value; i.e., $P(A|X=x)$, where $X$ is a continuous RV.\"}\n",
       "]\n",
       ";\n",
       "    \n",
       "\n",
       "        {\n",
       "        const jmscontroller = new AbortController();\n",
       "        const signal = jmscontroller.signal;\n",
       "\n",
       "        setTimeout(() => jmscontroller.abort(), 5000);\n",
       "\n",
       "        fetch(\"https://raw.githubusercontent.com/jmshea/Foundations-of-Data-Science-with-Python/main/08-random-variables/flashcards/conditioning-with-rvs.json\", {signal})\n",
       "        .then(response => response.json())\n",
       "        .then(json => createCards(\"pkFsXZkXODQl\"))\n",
       "        .catch(err => {\n",
       "        console.log(\"Fetch error or timeout\");\n",
       "        createCards(\"pkFsXZkXODQl\");\n",
       "        });\n",
       "        }\n",
       "        </script>\n",
       "        <div style=\"height:40px\"></div><div class=\"flip-container\" id=\"pkFsXZkXODQl\" onclick=\"flip(this)\"></div><div style=\"height:40px\"></div><div class=\"next\" id=\"pkFsXZkXODQl-next\" onclick=\"checkFlip('pkFsXZkXODQl')\"> </div> <div style=\"height:40px\"></div>"
      ],
      "text/plain": [
       "<IPython.core.display.HTML object>"
      ]
     },
     "metadata": {},
     "output_type": "display_data"
    }
   ],
   "source": [
    "from jupytercards import display_flashcards\n",
    "\n",
    "#display_flashcards('flashcards/'+'conditioning-with-rvs.json')\n",
    "\n",
    "github='https://raw.githubusercontent.com/jmshea/Foundations-of-Data-Science-with-Python/main/'\n",
    "github+='08-random-variables/flashcards/'\n",
    "display_flashcards(github+'conditioning-with-rvs.json')\n",
    "\n",
    "\n"
   ]
  }
 ],
 "metadata": {
  "celltoolbar": "Slideshow",
  "kernelspec": {
   "display_name": "Python 3 (ipykernel)",
   "language": "python",
   "name": "python3"
  },
  "language_info": {
   "codemirror_mode": {
    "name": "ipython",
    "version": 3
   },
   "file_extension": ".py",
   "mimetype": "text/x-python",
   "name": "python",
   "nbconvert_exporter": "python",
   "pygments_lexer": "ipython3",
   "version": "3.9.12"
  },
  "latex_envs": {
   "LaTeX_envs_menu_present": true,
   "autoclose": true,
   "autocomplete": true,
   "bibliofile": "biblio.bib",
   "cite_by": "apalike",
   "current_citInitial": 1,
   "eqLabelWithNumbers": true,
   "eqNumInitial": 1,
   "hotkeys": {
    "equation": "Ctrl-E",
    "itemize": "Ctrl-I"
   },
   "labels_anchors": false,
   "latex_user_defs": false,
   "report_style_numbering": false,
   "user_envs_cfg": false
  }
 },
 "nbformat": 4,
 "nbformat_minor": 4
}
