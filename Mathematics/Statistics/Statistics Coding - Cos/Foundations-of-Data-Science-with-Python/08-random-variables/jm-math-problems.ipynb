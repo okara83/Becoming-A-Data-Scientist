{
 "cells": [
  {
   "cell_type": "markdown",
   "id": "0eb97574-8704-4e9b-896a-de59058fcaa8",
   "metadata": {},
   "source": [
    "```{math}\n",
    "\\Phi \\left(\\frac{x-\\mu}{\\sigma} \\right)\n",
    "```"
   ]
  },
  {
   "cell_type": "markdown",
   "id": "615ac8a1-1e82-452e-996a-111f95c60225",
   "metadata": {},
   "source": [
    "```{math}\n",
    ":label: general-gaussian-cdf2\n",
    "\\Phi \\left(\\frac{x-\\mu}{\\sigma} \\right)\n",
    "```\n",
    "\n"
   ]
  }
 ],
 "metadata": {
  "kernelspec": {
   "display_name": "Python 3 (ipykernel)",
   "language": "python",
   "name": "python3"
  },
  "language_info": {
   "codemirror_mode": {
    "name": "ipython",
    "version": 3
   },
   "file_extension": ".py",
   "mimetype": "text/x-python",
   "name": "python",
   "nbconvert_exporter": "python",
   "pygments_lexer": "ipython3",
   "version": "3.7.4"
  }
 },
 "nbformat": 4,
 "nbformat_minor": 5
}
