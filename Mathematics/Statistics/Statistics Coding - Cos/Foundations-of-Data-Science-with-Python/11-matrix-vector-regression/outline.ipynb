{
 "cells": [
  {
   "cell_type": "markdown",
   "metadata": {},
   "source": [
    "# Multidimensional Data and Regression (Outline)\n",
    "## Vectors, Visualization, and Vector Operations\n",
    "## Special Vectors and Vectors with Variables\n",
    "## Introduction to Matrices via Stacked Vectors\n",
    "## Revisiting Averages, Means, Medians, and Variances\n",
    "## Covariance and Correlation\n",
    "## Linear Regression in Two Dimensions\n",
    "## Nonlinear Regression in Two Dimensions\n",
    "## Review\n",
    "## Summary\n",
    "\n"
   ]
  },
  {
   "cell_type": "code",
   "execution_count": null,
   "metadata": {},
   "outputs": [],
   "source": []
  }
 ],
 "metadata": {
  "kernelspec": {
   "display_name": "Python 3",
   "language": "python",
   "name": "python3"
  },
  "language_info": {
   "codemirror_mode": {
    "name": "ipython",
    "version": 3
   },
   "file_extension": ".py",
   "mimetype": "text/x-python",
   "name": "python",
   "nbconvert_exporter": "python",
   "pygments_lexer": "ipython3",
   "version": "3.7.4"
  }
 },
 "nbformat": 4,
 "nbformat_minor": 4
}
