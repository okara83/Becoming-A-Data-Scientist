{
 "cells": [
  {
   "cell_type": "markdown",
   "metadata": {},
   "source": [
    "# First Visualizations and Statistical Tests with Real Data\n",
    "\n",
    "![ML Generated Image for Prompt \"First Visualizations and Statistical Tests with Real Data\"](first-visualizations-and-statistical-tests-with-real-data.jpg)\n",
    "\n",
    "\n",
    "In {doc}`Chapter 2<../02-first-stats/intro>`, we considered a simple statistical question that we could study through simulation, data visualization, and estimating probabilities. However, the type of problem considered in {doc}`Chapter 2<../02-first-stats/intro>` is different than many that we encounter in data science because we had an exact model for the random experiment that we ended up simulating (repeated flips of a fair coin). \n",
    "\n",
    "In this chapter, we consider how to apply the ideas from {doc}`Chapter 2<../02-first-stats/intro>` to a real data set, where we do not know the underlying model for the experiment."
   ]
  },
  {
   "cell_type": "markdown",
   "metadata": {},
   "source": [
    "**Example: Early Numbers of Covid-19 Cases Across States**\n",
    "\n",
    "The novel coronavirus called Covid-19 spread quickly in the United States (US) during the spring of 2020 and soon became a pandemic, affecting countries throughout the world. However, the spread of Covid-19 was very different in different areas, and we would like to investigate that to see what types of socioeconomic factors might be related to the spread of Covid-19 in the US.\n",
    "\n",
    "By early summer, states were implementing a variety of different of mitigation measures, from masking to stay-at-home orders. So here we will focus on the spread of Covid-19 prior to most of these measures being put in place. We have chosen to perform our statistical analyses using the cumulative number of Covid-19 cases through the end of April 2020. "
   ]
  },
  {
   "cell_type": "markdown",
   "metadata": {},
   "source": [
    "We analyze data on the number of Covid-19 cases for each state (from a dataset maintained by the New York Times) with data about the states and their populations that comes from the US Census Bureau and the US Department of Commerce's Bureau of Economic Analysis. The goal is to investigate whether factors such as economic productivity and how urban a state is were statistically significant indicators of the number of Covid-19. \n",
    "\n",
    "All of this data is available in two common data formats:\n",
    "* **Comma Separated Values (CSV)** files have data points separated by commas. The CSV format has the benefit that it is a pure text file and is not tied to any particular company's software. On the other hand, CSV files are not ideal if any of the entries contain commas. In this case, the entry can be enclosed in quotation marks, but then special treatment can be needed to deal with entries that contain quotation marks. There is no single standard for dealing with all these cases.\n",
    "* **Excel File (.xls or .xlsx)** files are spreadsheet files for Microsoft Excel. These have become so common that many non-Microsoft products and tools can read and import data from these files."
   ]
  },
  {
   "cell_type": "markdown",
   "metadata": {},
   "source": [
    "In the next section, we begin by introducing the Pandas  library, which is one of the most common Python libraries for importing and working with tabular data."
   ]
  }
 ],
 "metadata": {
  "kernelspec": {
   "display_name": "Python 3 (ipykernel)",
   "language": "python",
   "name": "python3"
  },
  "language_info": {
   "codemirror_mode": {
    "name": "ipython",
    "version": 3
   },
   "file_extension": ".py",
   "mimetype": "text/x-python",
   "name": "python",
   "nbconvert_exporter": "python",
   "pygments_lexer": "ipython3",
   "version": "3.9.12"
  }
 },
 "nbformat": 4,
 "nbformat_minor": 4
}
