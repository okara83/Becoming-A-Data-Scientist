{
 "cells": [
  {
   "cell_type": "markdown",
   "id": "1522b09d-ff59-45bc-af6c-00ede380f909",
   "metadata": {},
   "source": [
    "# Introduction to Bayesian Methods\n",
    "\n",
    "![ML-generated image for prompt \"Introduction to Bayesian Methods\"](introduction-to-bayesian-methods.jpg)\n",
    "\n",
    "In many systems, we cannot directly observe some phenomena that we are interested in, but we have some observations that are related to that phenomena. We want to use the observation to find the probabilities for the phenomena of interest or make an optimal decision about the probabilities of interest. For example:\n",
    "* A 40 year-old woman's mammogram comes back positive for a breast cancer tumor. Given data on the accuracy of the mammogram and prevalence of breast cancer in 40 year-old women, what is the probability that the woman has breast cancer?\n",
    "* Suppose a magician has a fair coin and a two-headed coin in their pocket. They choose one at random and flip it 3 times. If it came up heads every time, what is the probability that it is the two-headed coin?\n",
    "* In a binary communication system, 0s and 1s are transmitted over a noisy channel. If we know the probability that a given bit is a 0 and we know the probabilities associated with the noisy channel, what is the optimal decision given an observation at the output of the channel?\n",
    "\n",
    "To answer these questions, we need to introduce several fundamental techniques for working with conditional probabilities. In particular, we need to use Bayesian techniques, which provide methods for taking probability information about the phenomena of interest (such as a system input or hidden state) and conditional probability information about how the observations depend on that phenomena and use those to calculate conditional probabilities of the phenomena given the observations. "
   ]
  }
 ],
 "metadata": {
  "kernelspec": {
   "display_name": "Python 3 (ipykernel)",
   "language": "python",
   "name": "python3"
  },
  "language_info": {
   "codemirror_mode": {
    "name": "ipython",
    "version": 3
   },
   "file_extension": ".py",
   "mimetype": "text/x-python",
   "name": "python",
   "nbconvert_exporter": "python",
   "pygments_lexer": "ipython3",
   "version": "3.9.12"
  }
 },
 "nbformat": 4,
 "nbformat_minor": 5
}
