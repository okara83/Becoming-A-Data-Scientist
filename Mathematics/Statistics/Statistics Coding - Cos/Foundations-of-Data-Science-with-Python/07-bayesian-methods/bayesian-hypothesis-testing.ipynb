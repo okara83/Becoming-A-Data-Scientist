{
 "cells": [
  {
   "cell_type": "code",
   "execution_count": 1,
   "metadata": {},
   "outputs": [],
   "source": [
    "%matplotlib inline\n",
    "import random\n",
    "\n",
    "import matplotlib.pyplot as plt\n",
    "import numpy as np\n",
    "import numpy.random as npr"
   ]
  },
  {
   "cell_type": "markdown",
   "metadata": {},
   "source": [
    "```{index} Bayesian hypothesis testing\n",
    "```\n",
    "\n",
    "```{index} hypothesis testing; Bayesian\n",
    "```\n",
    "\n",
    "# Bayesian Hypothesis Testing"
   ]
  },
  {
   "cell_type": "markdown",
   "metadata": {},
   "source": [
    "In Chapter 2-5, we introduced null hypothesis significance testing (NHST) via resampling.  In NHST, we assign significance to some observed statistic if the value of the statistic has a very low probability of occurring under some testable null hypothesis. This approach is very common, but it also has some problems:\n",
    "* NHST cannot utilize information from other source about the probability of a hypothesis being true;\n",
    "* NHST can only evaluate the probability of seeing such an extreme value of a statistic under the null hypothesis; it cannot assign probabilities to the null and alternative hypotheses;\n",
    "* Moreover, NHST is not easily generalized to handle multiple possible hypotheses;\n",
    "* The result of an NHST (the $p$ value) is often misinterpreted and $p$-values are often subject to manipulation through \"$p$ hacking\".\n",
    "\n",
    "NHST can be considered a *frequentist* technique because it only involves counting how often we see a certain type of value under the null hypothesis.\n",
    "\n",
    "An alternative is to use a *Bayesian hypothesis test* in which the goal is to estimate the *a posteriori* probability of the possible hypotheses.\n",
    "\n",
    "To simplify the introduction to this approach, let's use a slightly modified version of our first statistical test, which we introduced in Chapter 2:\n",
    "\n",
    "You find an odd coin. Suppose you flip the coin 8 times and it comes up tails on every flip. You would like to conduct a statistical test to determine if it is a fair coin.  If it were a fair coin, then there is one outcome of \"all tails\" among the $2^8$ possible outcomes, meaning that the probability of observing all tails is\n"
   ]
  },
  {
   "cell_type": "code",
   "execution_count": 2,
   "metadata": {},
   "outputs": [
    {
     "data": {
      "text/plain": [
       "0.00390625"
      ]
     },
     "execution_count": 2,
     "metadata": {},
     "output_type": "execute_result"
    }
   ],
   "source": [
    "1 / 2 ** 8"
   ]
  },
  {
   "cell_type": "markdown",
   "metadata": {},
   "source": [
    "Under the NHST approach, you would determine the probability of seeing an outcome that is at least this extreme under the null hypothesis, which would typically be that the coin is a fair coin. However, under a Bayesian approach we can find the *a posteriori* probability that this is a fair coin given this observation.\n",
    "\n",
    "Unlike NHST, we will have to establish a model for all the possible behaviors of the coin and assign probabilities to this model. Let's start with the simplest possible model that might fit our observations:\n",
    "**the coin is either fair or it has tails on both sides**.\n",
    "\n",
    "Now, let's establish some notation."
   ]
  },
  {
   "cell_type": "markdown",
   "metadata": {},
   "source": [
    "Let:\n",
    "\n",
    "$F$ = event the coin is fair\n",
    "\n",
    "(Then $\\overline{F}$ = even that the coin has tails on both sides.)\n",
    "\n",
    "\n",
    "$E$ = event that coin comes up tails on 8 consecutive flips\n",
    "\n",
    "\n",
    "Then we wish to estimate the APP $P(F|E)$. As usual, we do not have direct knowledge of this type of probability. In addition, we know from our previous work in this chapter that we generally need to know the *a priori* probabilities. For the model we have chosen, we need to know $P(F)$ and $P(\\overline{F}) = 1 -P(F)$."
   ]
  },
  {
   "cell_type": "markdown",
   "metadata": {},
   "source": [
    "Given the *a prioris*, we can find $P(F|E)$ in two ways:"
   ]
  },
  {
   "cell_type": "markdown",
   "metadata": {},
   "source": [
    "\n",
    "1. We can run a simulation of the system\n",
    "\n",
    "2. We can calculate it using Bayes' rule"
   ]
  },
  {
   "cell_type": "markdown",
   "metadata": {},
   "source": [
    "Although approach 2 is tractable for this simple problem, let's apply approach 1, since this approach is applicable to a larger class of problems.\n",
    "\n",
    "We need the *a priori* probabilities, but there is no way for us to know the true *a prioris*. So what to do?"
   ]
  },
  {
   "cell_type": "markdown",
   "metadata": {},
   "source": [
    "We will have to choose the *a prioris*. How? There are 2 typical approaches:\n",
    "\n",
    "1. **Uninformative prior**: We choose a prior that basically assumes as little information about the inputs as possible. For discrete inputs, this will often be equally likely probabilities\n",
    "\n",
    "2. **Informative prior**: We choose a prior based on other knowledge of the problem.\n",
    "\n",
    "Below, we consider both of these approaches and compare the effect of these assumptions on the *a posteriori* probabilities and on our conclusions:"
   ]
  },
  {
   "cell_type": "markdown",
   "metadata": {},
   "source": [
    "```{index} uninformative prior\n",
    "```\n",
    "\n",
    "```{index} prior; uninformative\n",
    "```\n",
    "\n",
    "## Uninformative Prior\n",
    "\n",
    "Let's assume that the probabilities that coin is fair or two-tailed are equally likely:"
   ]
  },
  {
   "cell_type": "code",
   "execution_count": 3,
   "metadata": {},
   "outputs": [
    {
     "name": "stdout",
     "output_type": "stream",
     "text": [
      "Prob. of fair coin given that 8 tails observed is 0.0037842329604897383\n"
     ]
    }
   ],
   "source": [
    "# How many sets of coin flip events to simulate\n",
    "num_sims = 1000000\n",
    "\n",
    "\n",
    "# This is the number of flips and the target for the event E\n",
    "flips = 8\n",
    "\n",
    "# Set up some counters. As we saw before, when we estimate a conditional probability,\n",
    "# we generally need two counters:\n",
    "event_count = 0\n",
    "fair_count = 0\n",
    "\n",
    "# We have two types of coins:\n",
    "cointypes = [\"fair\", \"twotail\"]\n",
    "\n",
    "for sim in range(num_sims):\n",
    "\n",
    "    # Choose a coin at random and set up the sample space for the coin flip:\n",
    "    cointype = random.choice(cointypes)\n",
    "    if cointype == \"fair\":\n",
    "        faces = [\"H\", \"T\"]\n",
    "    else:\n",
    "        faces = [\"T\", \"T\"]\n",
    "\n",
    "    # Now flip the coin the required number of times:\n",
    "    coins = random.choices(faces, k=flips)\n",
    "\n",
    "    # Count how many tails were observed\n",
    "    num_tails = coins.count(\"T\")\n",
    "\n",
    "    # Check if E occurred and update counter if it did\n",
    "    if num_tails == flips:\n",
    "        event_count += 1\n",
    "\n",
    "        # Now check that the event F occurred when E occurred and update the counter:\n",
    "        if cointype == \"fair\":\n",
    "            fair_count += 1\n",
    "\n",
    "\n",
    "print(\n",
    "    \"Prob. of fair coin given that\",\n",
    "    flips,\n",
    "    \"tails observed is\",\n",
    "    fair_count / event_count,\n",
    ")"
   ]
  },
  {
   "cell_type": "markdown",
   "metadata": {},
   "source": [
    "An alternative to directly counting the number of events $F$ when $E$ is observed is to instead keep a list of all the events ($F$ or $\\overline{F}$) when $E$ is observed. We will find this approach helpful if we consider a more complicated model for the behavior of the coin. Below is the code to save those events to a list:"
   ]
  },
  {
   "cell_type": "code",
   "execution_count": 4,
   "metadata": {},
   "outputs": [],
   "source": [
    "# How many sets of coin flip events to simulate\n",
    "num_sims = 1000000\n",
    "\n",
    "\n",
    "# This is the number of flips and the target for the event E\n",
    "flips = 8\n",
    "\n",
    "# Instead of counters, just keep track of the system states when\n",
    "# the output event E is observed:\n",
    "events = []\n",
    "\n",
    "# We have two types of coins:\n",
    "cointypes = [\"fair\", \"twotail\"]\n",
    "\n",
    "for sim in range(num_sims):\n",
    "\n",
    "    # Choose a coin at random and set up the sample space for the coin flip:\n",
    "    cointype = random.choice(cointypes)\n",
    "    if cointype == \"fair\":\n",
    "        faces = [\"H\", \"T\"]\n",
    "    else:\n",
    "        faces = [\"T\", \"T\"]\n",
    "\n",
    "    # Now flip the coin the required number of times:\n",
    "    coins = random.choices(faces, k=flips)\n",
    "\n",
    "    # Count how many tails were observed\n",
    "    num_tails = coins.count(\"T\")\n",
    "\n",
    "    # Check if E occurred and update counter if it did\n",
    "    if num_tails == flips:\n",
    "        events += [cointype]"
   ]
  },
  {
   "cell_type": "code",
   "execution_count": 5,
   "metadata": {},
   "outputs": [
    {
     "data": {
      "text/plain": [
       "0.0038648634627740023"
      ]
     },
     "execution_count": 5,
     "metadata": {},
     "output_type": "execute_result"
    }
   ],
   "source": [
    "events.count(\"fair\") / len(events)"
   ]
  },
  {
   "cell_type": "code",
   "execution_count": 6,
   "metadata": {},
   "outputs": [
    {
     "data": {
      "text/plain": [
       "0.996135136537226"
      ]
     },
     "execution_count": 6,
     "metadata": {},
     "output_type": "execute_result"
    }
   ],
   "source": [
    "events.count(\"twotail\") / len(events)"
   ]
  },
  {
   "cell_type": "markdown",
   "metadata": {},
   "source": [
    "We can easily create a histogram from this data. However, since the system states are not numerical, we cannot use the normal `plt.hist()` function. Instead, we will use Matplotlib's `plt.bar()` function:\n",
    "\n",
    "```{index} plot; bar\n",
    "```\n"
   ]
  },
  {
   "cell_type": "code",
   "execution_count": 7,
   "metadata": {},
   "outputs": [
    {
     "data": {
      "text/plain": [
       "\u001b[0;31mSignature:\u001b[0m\n",
       " \u001b[0mplt\u001b[0m\u001b[0;34m.\u001b[0m\u001b[0mbar\u001b[0m\u001b[0;34m(\u001b[0m\u001b[0;34m\u001b[0m\n",
       "\u001b[0;34m\u001b[0m    \u001b[0mx\u001b[0m\u001b[0;34m,\u001b[0m\u001b[0;34m\u001b[0m\n",
       "\u001b[0;34m\u001b[0m    \u001b[0mheight\u001b[0m\u001b[0;34m,\u001b[0m\u001b[0;34m\u001b[0m\n",
       "\u001b[0;34m\u001b[0m    \u001b[0mwidth\u001b[0m\u001b[0;34m=\u001b[0m\u001b[0;36m0.8\u001b[0m\u001b[0;34m,\u001b[0m\u001b[0;34m\u001b[0m\n",
       "\u001b[0;34m\u001b[0m    \u001b[0mbottom\u001b[0m\u001b[0;34m=\u001b[0m\u001b[0;32mNone\u001b[0m\u001b[0;34m,\u001b[0m\u001b[0;34m\u001b[0m\n",
       "\u001b[0;34m\u001b[0m    \u001b[0;34m*\u001b[0m\u001b[0;34m,\u001b[0m\u001b[0;34m\u001b[0m\n",
       "\u001b[0;34m\u001b[0m    \u001b[0malign\u001b[0m\u001b[0;34m=\u001b[0m\u001b[0;34m'center'\u001b[0m\u001b[0;34m,\u001b[0m\u001b[0;34m\u001b[0m\n",
       "\u001b[0;34m\u001b[0m    \u001b[0mdata\u001b[0m\u001b[0;34m=\u001b[0m\u001b[0;32mNone\u001b[0m\u001b[0;34m,\u001b[0m\u001b[0;34m\u001b[0m\n",
       "\u001b[0;34m\u001b[0m    \u001b[0;34m**\u001b[0m\u001b[0mkwargs\u001b[0m\u001b[0;34m,\u001b[0m\u001b[0;34m\u001b[0m\n",
       "\u001b[0;34m\u001b[0m\u001b[0;34m)\u001b[0m\u001b[0;34m\u001b[0m\u001b[0;34m\u001b[0m\u001b[0m\n",
       "\u001b[0;31mDocstring:\u001b[0m\n",
       "Make a bar plot.\n",
       "\n",
       "The bars are positioned at *x* with the given *align*\\ment. Their\n",
       "dimensions are given by *height* and *width*. The vertical baseline\n",
       "is *bottom* (default 0).\n",
       "\n",
       "Many parameters can take either a single value applying to all bars\n",
       "or a sequence of values, one for each bar.\n",
       "\n",
       "Parameters\n",
       "----------\n",
       "x : float or array-like\n",
       "    The x coordinates of the bars. See also *align* for the\n",
       "    alignment of the bars to the coordinates.\n",
       "\n",
       "height : float or array-like\n",
       "    The height(s) of the bars.\n",
       "\n",
       "width : float or array-like, default: 0.8\n",
       "    The width(s) of the bars.\n",
       "\n",
       "bottom : float or array-like, default: 0\n",
       "    The y coordinate(s) of the bars bases.\n",
       "\n",
       "align : {'center', 'edge'}, default: 'center'\n",
       "    Alignment of the bars to the *x* coordinates:\n",
       "\n",
       "    - 'center': Center the base on the *x* positions.\n",
       "    - 'edge': Align the left edges of the bars with the *x* positions.\n",
       "\n",
       "    To align the bars on the right edge pass a negative *width* and\n",
       "    ``align='edge'``.\n",
       "\n",
       "Returns\n",
       "-------\n",
       "`.BarContainer`\n",
       "    Container with all the bars and optionally errorbars.\n",
       "\n",
       "Other Parameters\n",
       "----------------\n",
       "color : color or list of color, optional\n",
       "    The colors of the bar faces.\n",
       "\n",
       "edgecolor : color or list of color, optional\n",
       "    The colors of the bar edges.\n",
       "\n",
       "linewidth : float or array-like, optional\n",
       "    Width of the bar edge(s). If 0, don't draw edges.\n",
       "\n",
       "tick_label : str or list of str, optional\n",
       "    The tick labels of the bars.\n",
       "    Default: None (Use default numeric labels.)\n",
       "\n",
       "xerr, yerr : float or array-like of shape(N,) or shape(2, N), optional\n",
       "    If not *None*, add horizontal / vertical errorbars to the bar tips.\n",
       "    The values are +/- sizes relative to the data:\n",
       "\n",
       "    - scalar: symmetric +/- values for all bars\n",
       "    - shape(N,): symmetric +/- values for each bar\n",
       "    - shape(2, N): Separate - and + values for each bar. First row\n",
       "      contains the lower errors, the second row contains the upper\n",
       "      errors.\n",
       "    - *None*: No errorbar. (Default)\n",
       "\n",
       "    See :doc:`/gallery/statistics/errorbar_features`\n",
       "    for an example on the usage of ``xerr`` and ``yerr``.\n",
       "\n",
       "ecolor : color or list of color, default: 'black'\n",
       "    The line color of the errorbars.\n",
       "\n",
       "capsize : float, default: :rc:`errorbar.capsize`\n",
       "   The length of the error bar caps in points.\n",
       "\n",
       "error_kw : dict, optional\n",
       "    Dictionary of kwargs to be passed to the `~.Axes.errorbar`\n",
       "    method. Values of *ecolor* or *capsize* defined here take\n",
       "    precedence over the independent kwargs.\n",
       "\n",
       "log : bool, default: False\n",
       "    If *True*, set the y-axis to be log scale.\n",
       "\n",
       "data : indexable object, optional\n",
       "    If given, all parameters also accept a string ``s``, which is\n",
       "    interpreted as ``data[s]`` (unless this raises an exception).\n",
       "\n",
       "**kwargs : `.Rectangle` properties\n",
       "\n",
       "Properties:\n",
       "    agg_filter: a filter function, which takes a (m, n, 3) float array and a dpi value, and returns a (m, n, 3) array\n",
       "    alpha: scalar or None\n",
       "    angle: unknown\n",
       "    animated: bool\n",
       "    antialiased or aa: bool or None\n",
       "    bounds: (left, bottom, width, height)\n",
       "    capstyle: `.CapStyle` or {'butt', 'projecting', 'round'}\n",
       "    clip_box: `.Bbox`\n",
       "    clip_on: bool\n",
       "    clip_path: Patch or (Path, Transform) or None\n",
       "    color: color\n",
       "    edgecolor or ec: color or None\n",
       "    facecolor or fc: color or None\n",
       "    figure: `.Figure`\n",
       "    fill: bool\n",
       "    gid: str\n",
       "    hatch: {'/', '\\\\', '|', '-', '+', 'x', 'o', 'O', '.', '*'}\n",
       "    height: unknown\n",
       "    in_layout: bool\n",
       "    joinstyle: `.JoinStyle` or {'miter', 'round', 'bevel'}\n",
       "    label: object\n",
       "    linestyle or ls: {'-', '--', '-.', ':', '', (offset, on-off-seq), ...}\n",
       "    linewidth or lw: float or None\n",
       "    path_effects: `.AbstractPathEffect`\n",
       "    picker: None or bool or float or callable\n",
       "    rasterized: bool\n",
       "    sketch_params: (scale: float, length: float, randomness: float)\n",
       "    snap: bool or None\n",
       "    transform: `.Transform`\n",
       "    url: str\n",
       "    visible: bool\n",
       "    width: unknown\n",
       "    x: unknown\n",
       "    xy: (float, float)\n",
       "    y: unknown\n",
       "    zorder: float\n",
       "\n",
       "See Also\n",
       "--------\n",
       "barh : Plot a horizontal bar plot.\n",
       "\n",
       "Notes\n",
       "-----\n",
       "Stacked bars can be achieved by passing individual *bottom* values per\n",
       "bar. See :doc:`/gallery/lines_bars_and_markers/bar_stacked`.\n",
       "\u001b[0;31mFile:\u001b[0m      /Applications/anaconda3/lib/python3.9/site-packages/matplotlib/pyplot.py\n",
       "\u001b[0;31mType:\u001b[0m      function\n"
      ]
     },
     "metadata": {},
     "output_type": "display_data"
    }
   ],
   "source": [
    "? plt.bar"
   ]
  },
  {
   "cell_type": "markdown",
   "metadata": {},
   "source": [
    "From the call signature, we can see that `plt.bar()` has two required arguments:\n",
    "* The first argument, `x`, is a sequence that contains the values\n",
    "* The second argument, `height` contains a sequence of heights for each value\n",
    "\n",
    "We will pass the `cointypes` list and a list of the estimated probabilities for each coin type, which we calculate using the relative frequencies from our simulation:"
   ]
  },
  {
   "cell_type": "code",
   "execution_count": 8,
   "metadata": {},
   "outputs": [
    {
     "data": {
      "image/png": "[encoded data removed]",
      "text/plain": [
       "<Figure size 432x288 with 1 Axes>"
      ]
     },
     "metadata": {
      "needs_background": "light"
     },
     "output_type": "display_data"
    }
   ],
   "source": [
    "plt.bar(\n",
    "    cointypes,\n",
    "    [events.count(\"fair\") / len(events), events.count(\"twotail\") / len(events)],\n",
    ")\n",
    "plt.ylabel(\"Estimated probabillity\")\n",
    "plt.title(\"A posteriori probabilities for tails observed on 8 flips of a coin\");"
   ]
  },
  {
   "cell_type": "markdown",
   "metadata": {},
   "source": [
    "Note that the value of the probability for the fair coin is so small that we cannot read it from the graph. We can overcome this by plotting these bars on a logarithmic scale. However, we should note that the heights of the bars will no longer be in proportion to the probabilities when shown on a log-scale, so we should use this with caution."
   ]
  },
  {
   "cell_type": "code",
   "execution_count": 9,
   "metadata": {},
   "outputs": [
    {
     "data": {
      "image/png": "[encoded data removed]",
      "text/plain": [
       "<Figure size 432x288 with 1 Axes>"
      ]
     },
     "metadata": {
      "needs_background": "light"
     },
     "output_type": "display_data"
    }
   ],
   "source": [
    "plt.bar(\n",
    "    cointypes,\n",
    "    [events.count(\"fair\") / len(events), events.count(\"twotail\") / len(events)],\n",
    ")\n",
    "plt.yscale(\"log\")\n",
    "plt.ylabel(\"Estimated probability\")\n",
    "plt.title(\"A posteriori probabilities for tails observed on 8 flips of a coin\");"
   ]
  },
  {
   "cell_type": "markdown",
   "metadata": {},
   "source": [
    "Now that you see this result, you can say that the chance that the coin was a fair coin was very small indeed. But would you be willing to show this job to your boss if your job were on the line? What could go wrong?\n",
    "\n",
    "The most likely thing to go wrong is that your boss would say: \"**How many coins have you found that have tails on both side?**\" I have never found a coin with two tails after handling coins for decades.  That means that you have some information that you could use to choose a prior other than the uninformative prior. We consider how to handle that next."
   ]
  },
  {
   "cell_type": "markdown",
   "metadata": {},
   "source": [
    "```{index} prior; informative\n",
    "```\n",
    "\n",
    "## Informative prior"
   ]
  },
  {
   "cell_type": "markdown",
   "metadata": {},
   "source": [
    "Given our prior experience, we can say that a randomly chosen coin has a very small probability of having tails on both sides. So, the *a priori* probabilities should not be equal to 0.5. The *a posteriori* probabilities will depend on the particular values chosen for the *a prioris*. However, if you bias these probabilities too much, then it will give someone viewing your results yet another point of criticism. So, for instance, if you say that the probability of finding a two-tailed coin is 1 in 1,000,000, then you may be forced to defend why that particular value. But, if you assume that the probability of a two-tailed coin is 1/100 and still find that there is a reasonable probability that the coin is fair, then that is much easier to defend. To make assessing this tradeoff easier, let's create a function that can simulate the *a posteriori* probabilities for any choice of the probability of a two-tailed coin.\n",
    "\n",
    "The `random.choices()` function has a `weights` keyword parameter that can be used to change the probability of the choices according to input probabilties or other weightings."
   ]
  },
  {
   "cell_type": "code",
   "execution_count": 10,
   "metadata": {},
   "outputs": [],
   "source": [
    "def coin_bayes(prob_2tails=0.5, flips=8, num_sims=1_000_000):\n",
    "    # Set up some counters. As we saw before, when we estimate a conditional probability,\n",
    "    # we generally need two counters:\n",
    "    event_count = 0\n",
    "    fair_count = 0\n",
    "\n",
    "    # We have two types of coins:\n",
    "    cointypes = [\"fair\", \"twotail\"]\n",
    "\n",
    "    for sim in range(num_sims):\n",
    "\n",
    "        # Choose a coin at random and set up the sample space for the coin flip:\n",
    "        cointype = random.choices(cointypes, weights=[1 - prob_2tails, prob_2tails])[0]\n",
    "        if cointype == \"fair\":\n",
    "            faces = [\"H\", \"T\"]\n",
    "        else:\n",
    "            faces = [\"T\", \"T\"]\n",
    "\n",
    "        # Now flip the coin the required number of times:\n",
    "        coins = random.choices(faces, k=flips)\n",
    "        # print(cointype, faces, coins)\n",
    "\n",
    "        # Count how many tails were observed\n",
    "        num_tails = coins.count(\"T\")\n",
    "\n",
    "        # Check if E occurred and update counter if it did\n",
    "        if num_tails == flips:\n",
    "            event_count += 1\n",
    "\n",
    "            # Now check that the event F occurred when E occurred and update the counter:\n",
    "            if cointype == \"fair\":\n",
    "                fair_count += 1\n",
    "\n",
    "    return fair_count / event_count"
   ]
  },
  {
   "cell_type": "markdown",
   "metadata": {},
   "source": [
    "Let's start by checking the output of our function for the uninformative prior, which uses the default value of `prob_2tails = 0.5`:"
   ]
  },
  {
   "cell_type": "code",
   "execution_count": 11,
   "metadata": {},
   "outputs": [
    {
     "data": {
      "text/plain": [
       "0.0039826126416603975"
      ]
     },
     "execution_count": 11,
     "metadata": {},
     "output_type": "execute_result"
    }
   ],
   "source": [
    "coin_bayes()"
   ]
  },
  {
   "cell_type": "markdown",
   "metadata": {},
   "source": [
    "Now, we can check how the answer varies if we set the probability of finding a two-tailed coin to 1/100:"
   ]
  },
  {
   "cell_type": "code",
   "execution_count": 12,
   "metadata": {},
   "outputs": [
    {
     "data": {
      "text/plain": [
       "0.2819341742786719"
      ]
     },
     "execution_count": 12,
     "metadata": {},
     "output_type": "execute_result"
    }
   ],
   "source": [
    "coin_bayes(prob_2tails=1 / 100)"
   ]
  },
  {
   "cell_type": "markdown",
   "metadata": {},
   "source": [
    "The *a posteriori* value of the coin being fair will increase when the probability of finding a two-tailed coin decreases:"
   ]
  },
  {
   "cell_type": "code",
   "execution_count": 13,
   "metadata": {},
   "outputs": [
    {
     "data": {
      "text/plain": [
       "0.8013616339607529"
      ]
     },
     "execution_count": 13,
     "metadata": {},
     "output_type": "execute_result"
    }
   ],
   "source": [
    "coin_bayes(prob_2tails=1 / 1000)"
   ]
  },
  {
   "cell_type": "markdown",
   "metadata": {},
   "source": [
    "Even though the chance of getting 8 heads on 8 flips of a fair coin is very small, the *a posteriori* probability of the coin being fair can be large if the *a priori* probability of the coin being two-tailed is very small. \n",
    "\n",
    "If we return to what we could be confident in telling our boss, we can say that if the probability of finding a two-tailed coin  is less than 1/100, then the probability that the coin is fair is greater than 0.28. Although this probability is still less than 1/2, it is large enough that we can't classify this as a rare occurrence. "
   ]
  },
  {
   "cell_type": "markdown",
   "metadata": {},
   "source": [
    "**Example** What prior makes it equally likely for the coin to be fair or two-headed?\n",
    "\n",
    "Let's try to analyze this using conditional probability. Let $T_i$ be the event that the coin came up tails on flip $i$. If the coin is fair, then the outcomes of the individual flips are independent, so\n",
    "\n",
    "$$\n",
    "P(E|F) = P\\left( \\bigcap_{i=0}^{7} T_i  \\right)= \\prod_{i=0}^{7} P\\left( T_i \\right) \n",
    "= \\left( \\frac 1 2  \\right) ^ 8 = \\frac{ 1} {256}\n",
    "$$"
   ]
  },
  {
   "cell_type": "markdown",
   "metadata": {},
   "source": [
    "Clearly, $P\\left(E \\left \\vert \\overline{F} \\right. \\right) = 1$. If $P(F|E) = P\\left( \\overline{F} \\left \\vert E \\right. \\right)$, then $P(F|E) = 1/2$. Let $P(F)= q$ and $P\\left( \\overline{F} \\right) = 1-q$. Then\n",
    "\n",
    "\\begin{align*}\n",
    "P(F|E) = \\frac 1 2 &= \\frac{P(E|F) P(F)}\n",
    "{P\\bigl(E \\bigl \\vert F \\bigr. \\bigr)P\\bigl(F \\bigr) + \n",
    "P\\bigl( E \\bigl \\vert \\overline{F} \\bigr. \\bigr) P \\bigl( \\overline{F} \\bigr) }\\\\\n",
    "&= \\frac{\\frac{1}{256} q}\n",
    "{\\frac{1}{256} q + (1) (1-q)} \\\\\n",
    " 1 &= \\frac{ 2q}{ q +256  - 256q} \\\\\n",
    " 256 - 255q &= 2q \\\\\n",
    "q &= \\frac{256}{257}.\n",
    "\\end{align*}\n",
    "\n",
    "So, for the *a posteriori* probability that the coin is fair to be equal to \n",
    "the *a posteriori* probability that the coin is unfair, the probability of the coin being fair must be approximately"
   ]
  },
  {
   "cell_type": "code",
   "execution_count": 14,
   "metadata": {},
   "outputs": [
    {
     "data": {
      "text/plain": [
       "0.9961089494163424"
      ]
     },
     "execution_count": 14,
     "metadata": {},
     "output_type": "execute_result"
    }
   ],
   "source": [
    "256 / 257"
   ]
  },
  {
   "cell_type": "markdown",
   "metadata": {
    "tags": []
   },
   "source": [
    "## Extending the set of a prioris"
   ]
  },
  {
   "cell_type": "markdown",
   "metadata": {},
   "source": [
    "Now suppose you believe that coins do not have to be either fair, two-headed, or two-tailed. Suppose you believe that biased coins can be made that, when flipped, are more likely to turn up heads or more likely to turn up tails. \n",
    "\n",
    "This introduces a new *model* for the coins, and we have to choose a new prior. However, this is where things may start to be a bit confusing. The reason is that the bias can be quantified as the probability that the coin comes up tails, $P(T)$. But now we want to assign probabilities to different biases for the coin. I.e., we have something like $P\\left[ P\\left( T \\right) = 0.8 \\right]$.  And probabilities of this form are *a priori* probabilities for the bias. What we really want to estimate are *a posteriori* probabilities like $P\\left [ P\\left(T \\right) = 0.8 \\left \\vert E \\right. \\right] $.  To help simplify this confusing situation, let's define the bias $B = P(T)$. Then we can write the *a priori* probabilities as $P(B=b)$ and the *a posteriori* probability $P\\left(B=b  \\left \\vert  E \\right. \\right)$ for different values of $b$ in the interval $[0,1]$.\n",
    "\n",
    "### Uninformative prior\n",
    "\n",
    "As before, we may use an uninformative prior or an informative prior. Let's begin with an uninformative prior. Because we do not yet know how to handle the case of how to estimate the *a posterior* probability when the the bias $B$ is chosen randomly from the continuous range $[0,1]$, we will instead quantize the range in steps of 0.01:"
   ]
  },
  {
   "cell_type": "code",
   "execution_count": 15,
   "metadata": {},
   "outputs": [
    {
     "data": {
      "text/plain": [
       "array([0.  , 0.01, 0.02, 0.03, 0.04, 0.05, 0.06, 0.07, 0.08, 0.09, 0.1 ,\n",
       "       0.11, 0.12, 0.13, 0.14, 0.15, 0.16, 0.17, 0.18, 0.19, 0.2 , 0.21,\n",
       "       0.22, 0.23, 0.24, 0.25, 0.26, 0.27, 0.28, 0.29, 0.3 , 0.31, 0.32,\n",
       "       0.33, 0.34, 0.35, 0.36, 0.37, 0.38, 0.39, 0.4 , 0.41, 0.42, 0.43,\n",
       "       0.44, 0.45, 0.46, 0.47, 0.48, 0.49, 0.5 , 0.51, 0.52, 0.53, 0.54,\n",
       "       0.55, 0.56, 0.57, 0.58, 0.59, 0.6 , 0.61, 0.62, 0.63, 0.64, 0.65,\n",
       "       0.66, 0.67, 0.68, 0.69, 0.7 , 0.71, 0.72, 0.73, 0.74, 0.75, 0.76,\n",
       "       0.77, 0.78, 0.79, 0.8 , 0.81, 0.82, 0.83, 0.84, 0.85, 0.86, 0.87,\n",
       "       0.88, 0.89, 0.9 , 0.91, 0.92, 0.93, 0.94, 0.95, 0.96, 0.97, 0.98,\n",
       "       0.99, 1.  ])"
      ]
     },
     "execution_count": 15,
     "metadata": {},
     "output_type": "execute_result"
    }
   ],
   "source": [
    "np.linspace(0, 1, 101)"
   ]
  },
  {
   "cell_type": "code",
   "execution_count": 16,
   "metadata": {},
   "outputs": [],
   "source": [
    "def biased_coins_u(flips=8, target=8, num_sims=100_000):\n",
    "    \"\"\" Simulate randomly choosing the bias for a coin (from 0 to 100 by 0.01) and\n",
    "    then flipping the coin 8 times. Wheneve it comes up tails 8 times, record\n",
    "    that coin's bias.  As before, the relative frequencies of the biases in the resulting set\n",
    "    approximate the *a posteriori* probability of those biases. \"\"\"\n",
    "\n",
    "    # Generate the set of possible biases\n",
    "    allcoins = np.linspace(0, 1, 101)\n",
    "\n",
    "    events = []\n",
    "    for sim in range(num_sims):\n",
    "\n",
    "        # Choose a bias for this coin\n",
    "        B = npr.choice(allcoins)\n",
    "\n",
    "        # Now generate the coins according to that bias and count the number of heads\n",
    "        coins = random.choices([\"H\", \"T\"], weights=[1 - B, B], k=flips)\n",
    "        num_tails = coins.count(\"T\")\n",
    "\n",
    "        # Record the events with the target number of tails\n",
    "        if num_tails == target:\n",
    "            events += [B]\n",
    "\n",
    "    # Use the np.unique function (introduced in Ch. 2) to return the values and their counts\n",
    "    vals, counts = np.unique(events, return_counts=True)\n",
    "\n",
    "    # Now manually generate a histogram using plt.bar\n",
    "    # The relative frequency of a given value is the count of that value divided\n",
    "    # by the total number of captured events\n",
    "    plt.bar(\n",
    "        vals, counts / len(events), width=0.01\n",
    "    )  # Note that we had to change the bar width here!!!\n",
    "    plt.title(\n",
    "        f\"Simulation of {flips} flips of a randomly biased coin, recording bias when {target} tails occurs\"\n",
    "    )\n",
    "    plt.xlabel(\"Bias (Probablity of Tails)\")\n",
    "    plt.ylabel(\"A Posteriori Probability\")\n",
    "\n",
    "    return events"
   ]
  },
  {
   "cell_type": "code",
   "execution_count": 17,
   "metadata": {},
   "outputs": [
    {
     "data": {
      "image/png": "[encoded data removed]",
      "text/plain": [
       "<Figure size 432x288 with 1 Axes>"
      ]
     },
     "metadata": {
      "needs_background": "light"
     },
     "output_type": "display_data"
    }
   ],
   "source": [
    "events = biased_coins_u()"
   ]
  },
  {
   "cell_type": "markdown",
   "metadata": {},
   "source": [
    "As might be expected,  the *a posteriori* probabilities are largest for those biases that are closest to 1, since these large biases are most likely to result in getting 8 heads on 8 flips of a biased coin. By changing the weights, we can create a much more general *a priori* model than we had before. However, we have introduced a new problem:\n",
    "\n",
    "**How can we turn the *a posteriori* probabilities into a statistical test --  i.e., how can we make a decision about whether the coin could be a fair coin based on the *a posteriori* information?**\n",
    "\n",
    "A typical approach is to find whether the fair coin ($B=0.5$) is within a certain range of values where *almost all* of the *a posteriori* probability lies. We call such a region a *credible interval*:\n",
    "\n",
    "````{card}\n",
    "DEFINITION\n",
    "^^^\n",
    "```{glossary}\n",
    "credible interval\n",
    "  A $C$% *credible interval* is an interval of values that contains $C$% of the *a posteriori* probability.\n",
    "```\n",
    "````\n",
    "\n",
    "Note that it is possible to choose possible credible intervals. In this book, we will always generate *equal-tailed intervals*. In probability, the *tails* correspond to the values above and below the region that contains most of the probability. For an equal-tail credible intervale, the set of values below the credible interval have the same probability as the set of values above the credible interval. For more discussion on types of credible intervals, see https://en.wikipedia.org/wiki/Credible_interval.\n",
    "\n",
    "```{warning}\n",
    "*Credible intervals* are generated in Bayesian statistics using *a posteriori* probabilities. Be careful not to confuse them with *confidence intervals*, which can be generated in frequentist approaches. \n",
    "\n",
    "* Credible intervals have a straight-forward interpretation: the probability that a value of interest lies withing a $C$% credible interval is $C$%. \n",
    "* Confidence intervals do not have such a straight-forward interpretation: a 95% confidence interval implies that if an experiment were run again, generating independent results, then there would be a 95% chance that resulting confidence interval would contain the true value.\n",
    "* Both confidence intervals and credible intervals can be generated using a model-based or model-free approach. If you \n",
    "* Credible intervals and confidence intervals will be the same under certain conditions, including that an uninformative prior is used that has equal probabilities (or equivalent for continuous priors).\n",
    "\n",
    "\n",
    "```\n",
    "\n"
   ]
  },
  {
   "cell_type": "markdown",
   "metadata": {},
   "source": [
    "Here are two basic approaches to finding the 95% credible interval without assuming anything about the distribution of the data (i.e., it is model-free):"
   ]
  },
  {
   "cell_type": "markdown",
   "metadata": {},
   "source": [
    "**Credible Interval Calculation -- Way 1**\n",
    "\n",
    "Consider the histogram produced by `biased_coins_u()`. To find the $C$% credible interval, we would like to find the tail regions of the histogram plot that contain $(1-C)/2$% of the probability. The histogram we created is showing (estimated) probabilities, but we are really asking about the *sums* of the probabilities in the tails of the histogram. We can overcome these issues if we instead plot a running sum of the probabilities; i.e., for each $x$, we do not plot $P(x)$, but we instead plot\n",
    "\n",
    "$$\n",
    "\\sum_{w \\le x} P(w).\n",
    "$$\n",
    "\n",
    "```{index} histogram; cumulative\n",
    "```\n",
    "\n",
    "These are also called the *cumulative probabilities*, and Matplotlib's `hist` function has a `cumulative` keyword option. When both `cumulative = True` and `density = True` are used, the histogram will show estimates of the cumulative probabilities:"
   ]
  },
  {
   "cell_type": "code",
   "execution_count": 18,
   "metadata": {},
   "outputs": [
    {
     "data": {
      "text/plain": [
       "(array([8.74737579e-05, 8.74737579e-05, 1.74947516e-04, 6.12316305e-04,\n",
       "        1.22463261e-03, 2.27431770e-03, 3.58642407e-03, 4.89853044e-03,\n",
       "        7.17284815e-03, 1.01469559e-02, 1.60076977e-02, 2.22183345e-02,\n",
       "        2.90412876e-02, 4.39993002e-02, 5.69454164e-02, 8.45871239e-02,\n",
       "        1.20276417e-01, 1.51854444e-01, 2.13086074e-01, 2.62333800e-01,\n",
       "        3.53918824e-01, 4.76557033e-01, 5.75314906e-01, 7.65307908e-01,\n",
       "        1.00000000e+00]),\n",
       " array([0.35 , 0.376, 0.402, 0.428, 0.454, 0.48 , 0.506, 0.532, 0.558,\n",
       "        0.584, 0.61 , 0.636, 0.662, 0.688, 0.714, 0.74 , 0.766, 0.792,\n",
       "        0.818, 0.844, 0.87 , 0.896, 0.922, 0.948, 0.974, 1.   ]),\n",
       " <BarContainer object of 25 artists>)"
      ]
     },
     "execution_count": 18,
     "metadata": {},
     "output_type": "execute_result"
    },
    {
     "data": {
      "image/png": "[encoded data removed]",
      "text/plain": [
       "<Figure size 432x288 with 1 Axes>"
      ]
     },
     "metadata": {
      "needs_background": "light"
     },
     "output_type": "display_data"
    }
   ],
   "source": [
    "plt.hist(events, bins=25, cumulative=True, density=True)"
   ]
  },
  {
   "cell_type": "markdown",
   "metadata": {},
   "source": [
    "Since our prior values come from a discrete set, we need to estimate the cumulative probabilities on that same set. We can do this by augmenting the set of possible prior values as the bins in the histogram using the `bins` parameter of `pyplotl.hist()`. Referring to the documentation for `pyplot.hist()`, when bin edges are specified the rightmost bin is inclusive of both endpoints -- thus if we use `allcoins` as our bins, then the last bin would include both 0.99 and 1.0. Thus, we just need to add a value higher than 1 to our list. Here we use a generic approach, where we find the spacing between the last two values and add a new value that is higher than the previous maximum value by that spacing:"
   ]
  },
  {
   "cell_type": "code",
   "execution_count": 19,
   "metadata": {},
   "outputs": [
    {
     "data": {
      "image/png": "[encoded data removed]",
      "text/plain": [
       "<Figure size 432x288 with 1 Axes>"
      ]
     },
     "metadata": {
      "needs_background": "light"
     },
     "output_type": "display_data"
    }
   ],
   "source": [
    "# Generate the set of possible biases\n",
    "allcoins = np.linspace(0, 1, 101)\n",
    "spacing = allcoins[-1] - allcoins[-2]\n",
    "coin_bins = np.hstack((allcoins, allcoins[-1] + spacing))\n",
    "\n",
    "\n",
    "plt.hist(events, bins=coin_bins, cumulative=True, density=True);"
   ]
  },
  {
   "cell_type": "markdown",
   "metadata": {},
   "source": [
    "Note that the cumulative histogram is much smoother than the regular histogram. That is usually true, and it occurs because the summing operations acts to smooth out variations in the data.\n",
    "\n",
    "Now let's add some lines to delimit the credible interval and the tails. Note that a line with  probability $x$ above it corresponds to a line with probability $1-x$ below it. Thus, for a $C$% credible interval, we want to draw lines corresponding to $(100-C)/2$% and $\\left[100 - (100-C)/2\\right]$%. For instance for a 90% credible interval, these correspond to $(100-95)/2 = 2.5$% and $100-2.5 = 97.5$%, respectively. \n",
    "\n",
    "We can easily make a line at each of these values by just repeating a value in a list:"
   ]
  },
  {
   "cell_type": "code",
   "execution_count": 20,
   "metadata": {},
   "outputs": [
    {
     "data": {
      "text/plain": [
       "[<matplotlib.lines.Line2D at 0x7fe519845eb0>]"
      ]
     },
     "execution_count": 20,
     "metadata": {},
     "output_type": "execute_result"
    },
    {
     "data": {
      "image/png": "[encoded data removed]",
      "text/plain": [
       "<Figure size 432x288 with 1 Axes>"
      ]
     },
     "metadata": {
      "needs_background": "light"
     },
     "output_type": "display_data"
    }
   ],
   "source": [
    "# Generate the set of possible biases\n",
    "allcoins = np.linspace(0, 1, 101)\n",
    "spacing = allcoins[-1] - allcoins[-2]\n",
    "coin_bins = np.hstack((allcoins, allcoins[-1] + spacing))\n",
    "\n",
    "plt.hist(events, bins=coin_bins, cumulative=True, density=True)\n",
    "plt.plot(coin_bins, [0.05] * len(coin_bins))\n",
    "plt.plot(coin_bins, [1 - 0.05] * len(coin_bins))"
   ]
  },
  {
   "cell_type": "markdown",
   "metadata": {},
   "source": [
    "And we would like to find the values that correspond to those thresholds. Since our input space is discrete, we must choose one of the values that has a cumulative relative frequency close to the target threshold; in general, we will not get that target threshold exactly, so we can just choose the closets value. To  do this, we capture the output from `plt.hist()`, which as we previously introduced, consists of the cumulative relative frequencies, the bins, and a set of patches used to construct the histogram. We only care about the first of these.\n",
    "\n",
    "Let's start by getting the relative frequencies and plotting the **absolute** differences between the relative frequencies and the thresholds for the 90% credible interval:"
   ]
  },
  {
   "cell_type": "code",
   "execution_count": 21,
   "metadata": {},
   "outputs": [
    {
     "data": {
      "text/plain": [
       "[<matplotlib.lines.Line2D at 0x7fe518f3b190>]"
      ]
     },
     "execution_count": 21,
     "metadata": {},
     "output_type": "execute_result"
    },
    {
     "data": {
      "image/png": "[encoded data removed]",
      "text/plain": [
       "<Figure size 432x288 with 1 Axes>"
      ]
     },
     "metadata": {
      "needs_background": "light"
     },
     "output_type": "display_data"
    },
    {
     "data": {
      "image/png": "[encoded data removed]",
      "text/plain": [
       "<Figure size 432x288 with 1 Axes>"
      ]
     },
     "metadata": {
      "needs_background": "light"
     },
     "output_type": "display_data"
    }
   ],
   "source": [
    "cum_probs, bins, patches = plt.hist(\n",
    "    events, bins=coin_bins, cumulative=True, density=True\n",
    ")\n",
    "plt.figure()\n",
    "# We have to\n",
    "plt.plot(coin_bins[:-1], np.abs(cum_probs - 0.05))\n",
    "plt.plot(coin_bins[:-1], np.abs(cum_probs - 0.95))"
   ]
  },
  {
   "cell_type": "markdown",
   "metadata": {},
   "source": [
    "For this set of data, can find the biases that minimize the absolute errors to the thresholds by using `np.argmin()` to find the index of the minimum value and then use that index to find the corresponding value of the bias:"
   ]
  },
  {
   "cell_type": "code",
   "execution_count": 22,
   "metadata": {},
   "outputs": [
    {
     "name": "stdout",
     "output_type": "stream",
     "text": [
      "Lower threshold = 0.72\n",
      "Upper threshold = 0.99\n"
     ]
    }
   ],
   "source": [
    "lower_index = np.abs(cum_probs - 0.05).argmin()\n",
    "upper_index = np.abs(cum_probs - 0.95).argmin()\n",
    "print(f\"Lower threshold = {coin_bins[lower_index]}\")\n",
    "print(f\"Upper threshold = {coin_bins[upper_index]}\")"
   ]
  },
  {
   "cell_type": "markdown",
   "metadata": {},
   "source": [
    "\n",
    "However, this will not work in general. For instance, if we had cumulative probabilities like this:"
   ]
  },
  {
   "cell_type": "code",
   "execution_count": 23,
   "metadata": {},
   "outputs": [
    {
     "name": "stdout",
     "output_type": "stream",
     "text": [
      "0 4\n"
     ]
    }
   ],
   "source": [
    "probs_test = np.array([0, 0, 0.5, 0.25, 0.25, 0])\n",
    "cum_probs_test = np.cumsum(probs_test)\n",
    "lower_index = np.abs(cum_probs_test - 0.05).argmin()\n",
    "upper_index = np.abs(cum_probs_test - 0.95).argmin()\n",
    "print(lower_index, upper_index)"
   ]
  },
  {
   "cell_type": "markdown",
   "metadata": {},
   "source": [
    "Then  the returned lower threshold of 0 corresponds to a value with 0 probability. The problem is that we need to only return value that have nonzero probability, which in our case corresponds to that value occurring in our data. A simple solution is to not pass in the set of **possible** biases, but instead use `np.unique()` to find the set of biases that **actually occurred**:"
   ]
  },
  {
   "cell_type": "code",
   "execution_count": 24,
   "metadata": {},
   "outputs": [
    {
     "name": "stdout",
     "output_type": "stream",
     "text": [
      "[2 3 4]\n"
     ]
    }
   ],
   "source": [
    "data_test = np.array([2, 3, 2, 4])\n",
    "values = np.unique(data_test)\n",
    "print(values)"
   ]
  },
  {
   "cell_type": "markdown",
   "metadata": {},
   "source": [
    "We can then use the set of observed values to determine the bins.\n",
    "\n",
    "Let's put this all together into a function to do all these step for any credible value, $C$. The functions inputs will be the possible values, the observed data, and a desired credible value, $C$.\n",
    "The function will plot the histogram with the threshold lines and print out the credible interval in stanard form, $[a,b]$. "
   ]
  },
  {
   "cell_type": "code",
   "execution_count": 25,
   "metadata": {},
   "outputs": [],
   "source": [
    "def credible_interval(data, C):\n",
    "    \"\"\" Find the C% credible interval given data\"\"\"\n",
    "\n",
    "    # Calculate the thresholds\n",
    "    lower_thresh = (1 - C / 100) / 2\n",
    "    upper_thresh = 1 - lower_thresh\n",
    "\n",
    "    values = np.unique(data)\n",
    "    spacing = np.min(values[1:] - values[:-1])\n",
    "    value_bins = np.hstack((values, values[-1] + spacing))\n",
    "\n",
    "    # Generate the histogram and store the cumulative relative frequencies\n",
    "    plt.figure()\n",
    "    cum_probs, bins, patches = plt.hist(\n",
    "        data, bins=value_bins, cumulative=True, density=True\n",
    "    )\n",
    "\n",
    "    # Draw the threshold lines for the credible interval\n",
    "    plt.plot(values, [lower_thresh] * len(values), \"r\")\n",
    "    plt.plot(values, [upper_thresh] * len(values), \"g\")\n",
    "\n",
    "    # Find the values that correspond to the lower and upper ends of the credible interval:\n",
    "    lower_index = np.abs(cum_probs - lower_thresh).argmin()\n",
    "    upper_index = np.abs(cum_probs - upper_thresh).argmin()\n",
    "\n",
    "    print(\n",
    "        f\"The {C}% credible interval is [{values[lower_index]}, {values[upper_index]}].\"\n",
    "    )"
   ]
  },
  {
   "cell_type": "markdown",
   "metadata": {},
   "source": [
    "Let's make sure the function is working by applying it to our observed coin data with a 90% credible interval:\n",
    "\n"
   ]
  },
  {
   "cell_type": "code",
   "execution_count": 26,
   "metadata": {},
   "outputs": [
    {
     "name": "stdout",
     "output_type": "stream",
     "text": [
      "The 90% credible interval is [0.72, 0.99].\n"
     ]
    },
    {
     "data": {
      "image/png": "[encoded data removed]",
      "text/plain": [
       "<Figure size 432x288 with 1 Axes>"
      ]
     },
     "metadata": {
      "needs_background": "light"
     },
     "output_type": "display_data"
    }
   ],
   "source": [
    "allcoins = np.linspace(0, 1, 101)\n",
    "\n",
    "credible_interval(events, 90)"
   ]
  },
  {
   "cell_type": "markdown",
   "metadata": {},
   "source": [
    "If we increase the credible value to 95%, then we get the following:"
   ]
  },
  {
   "cell_type": "code",
   "execution_count": 27,
   "metadata": {},
   "outputs": [
    {
     "name": "stdout",
     "output_type": "stream",
     "text": [
      "The 95% credible interval is [0.67, 1.0].\n"
     ]
    },
    {
     "data": {
      "image/png": "[encoded data removed]",
      "text/plain": [
       "<Figure size 432x288 with 1 Axes>"
      ]
     },
     "metadata": {
      "needs_background": "light"
     },
     "output_type": "display_data"
    }
   ],
   "source": [
    "credible_interval(events, 95)"
   ]
  },
  {
   "cell_type": "markdown",
   "metadata": {},
   "source": [
    "As $C$ increases, the confidence interval gets wider:"
   ]
  },
  {
   "cell_type": "code",
   "execution_count": 28,
   "metadata": {},
   "outputs": [
    {
     "name": "stdout",
     "output_type": "stream",
     "text": [
      "The 99% credible interval is [0.55, 1.0].\n"
     ]
    },
    {
     "data": {
      "image/png": "[encoded data removed]",
      "text/plain": [
       "<Figure size 432x288 with 1 Axes>"
      ]
     },
     "metadata": {
      "needs_background": "light"
     },
     "output_type": "display_data"
    }
   ],
   "source": [
    "credible_interval(events, 99)"
   ]
  },
  {
   "cell_type": "markdown",
   "metadata": {},
   "source": [
    "Now we return to our original question: how can we use this to conduct a statistical test for whether the coin could be unbiased? The approach we will use is to evaluate if the unbiased coin is in a $C$% credible interval, where typically $C$% is 95% or 99%. For either the 95% credible interval or 99% credible interval, the the unbiased coin ($b=0.5$) is not within the credible interval, so we reject the possibility that the coin is unbiased because it does not belong to the respective credible interval. \n",
    "\n",
    "Before we consider an informative prior, we present a short-cut technique to finding a credible interval from *a posteriori* observations of a statistic:\n",
    "\n",
    "\n"
   ]
  },
  {
   "cell_type": "markdown",
   "metadata": {},
   "source": [
    "**Credible Interval Calculation -- Way 2**\n",
    "\n",
    "Finding the credible interval from the cumulative histogram has the advantages that it is intuitive and it provides a graphical check of the computed credible interval. However, it also has the disadvantage that it does a lot of manipulation in doing the counting and plotting of the histogram if that is not necessarily desired.\n",
    "\n",
    "A more direct approach is that if we want to find a threshold that $x$% of the data is less than or equal to, we can simply sort the data and then find the value that is $x$% through the sorted data. Similarly, the value that defines the upper end of the confidence interval can be found as that value that is $x$% from the upper end of the sorted data. If there are $N$ points, then the value that is $C/2$% of the way through the sorted data is the value closest to the index $Nx/100$. A function that finds the credible interval based on this technique is below:\n"
   ]
  },
  {
   "cell_type": "code",
   "execution_count": 29,
   "metadata": {},
   "outputs": [],
   "source": [
    "def credible_interval2(data, C):\n",
    "    \"\"\" Find the C% confidence interval given data\"\"\"\n",
    "\n",
    "    # probability to be in each tail of the data\n",
    "    tail_prob = (1 - C / 100) / 2\n",
    "\n",
    "    datalen = len(data)\n",
    "    tail_length = int(datalen * tail_prob)\n",
    "\n",
    "    sorted = np.sort(data)\n",
    "\n",
    "    # Note that position 0 is the first element from the left, but position -1 is the\n",
    "    # first element from the right, so we have to subtract 1 from -tail_length to get\n",
    "    # the correct value  on the right-hand side:\n",
    "\n",
    "    print(\n",
    "        f\"The {C}% confidence interval is [{sorted[tail_length]}, {sorted[-tail_length-1]}]\"\n",
    "    )"
   ]
  },
  {
   "cell_type": "markdown",
   "metadata": {},
   "source": [
    "Note the the results may have very slight differences at the endpoints of the intervals:"
   ]
  },
  {
   "cell_type": "code",
   "execution_count": 30,
   "metadata": {},
   "outputs": [
    {
     "name": "stdout",
     "output_type": "stream",
     "text": [
      "The 90% confidence interval is [0.73, 1.0]\n",
      "The 95% confidence interval is [0.67, 1.0]\n",
      "The 99% confidence interval is [0.56, 1.0]\n"
     ]
    }
   ],
   "source": [
    "for C in [90, 95, 99]:\n",
    "    credible_interval2(events, C)"
   ]
  },
  {
   "cell_type": "markdown",
   "metadata": {},
   "source": [
    "### Informative prior\n",
    "\n",
    "Now let's again assume that at least 99% of the coins in circulation are fair coins (i.e., with bias $B=0.5$). We will assign $P(B=0.5)=0.99$. Then we still have to choose a model for how the remaining 0.01 probability will be distributed among the other biases. Let's just assign it evenly. There are 100 other biases, so we will assign each one a probability of $0.01/100 = 10^{-4}$:"
   ]
  },
  {
   "cell_type": "code",
   "execution_count": 31,
   "metadata": {
    "tags": []
   },
   "outputs": [
    {
     "name": "stdout",
     "output_type": "stream",
     "text": [
      "0.9999999999999999\n"
     ]
    }
   ],
   "source": [
    "bias_probs = np.full(101, 1e-4)\n",
    "bias_probs[np.where(allcoins == 0.5)] = 0.99\n",
    "print(np.sum(bias_probs))"
   ]
  },
  {
   "cell_type": "markdown",
   "metadata": {},
   "source": [
    "Because of floating point approximations, the sum computes to ever so slightly less than 1, but we know that it is in fact 1, and this numerical error will not have any significant effect on our statistical test. \n",
    "\n",
    "Now, let's use `random.choices()` to choose values according to these probabilities and then  plot the probabilities. Since we are dealing with four orders of magnitude (from close to 1 down to $10^{-4}$), we will use a logarithmic $y$-axis by calling the Matplotlib function `plt.semilogy()`:"
   ]
  },
  {
   "cell_type": "code",
   "execution_count": 32,
   "metadata": {},
   "outputs": [
    {
     "data": {
      "image/png": "[encoded data removed]",
      "text/plain": [
       "<Figure size 432x288 with 1 Axes>"
      ]
     },
     "metadata": {
      "needs_background": "light"
     },
     "output_type": "display_data"
    }
   ],
   "source": [
    "num_pts = 1_000_000\n",
    "test = np.array(random.choices(allcoins, weights=bias_probs, k=num_pts))\n",
    "\n",
    "values, counts = np.unique(test, return_counts=True)\n",
    "\n",
    "plt.semilogy(values, counts / num_pts)\n",
    "plt.xlabel(\"Bias, $B$\")\n",
    "plt.ylabel(\"Relative Frequency\");"
   ]
  },
  {
   "cell_type": "markdown",
   "metadata": {},
   "source": [
    "The relative frequencies closely match the probabilities, so we are ready to carry out a statistical test using this informative prior."
   ]
  },
  {
   "cell_type": "markdown",
   "metadata": {},
   "source": [
    "Copy the function `biased_coins_u()` from above and change the name to `biased_coins_i`, where the *u* and *i* stand for uninformative and informative, respectively. Make the function have a keyword parameter called `a_prioris` as its first argument. Then change the coin generation to use `random.choices()` as shown above. The resulting code follows:"
   ]
  },
  {
   "cell_type": "code",
   "execution_count": 33,
   "metadata": {},
   "outputs": [],
   "source": [
    "def biased_coins_i(a_prioris, flips=8, target=8, num_sims=100_000):\n",
    "    \"\"\" Simulate randomly choosing the bias for a coin (from 0 to 100 by 0.01) and\n",
    "    then flipping the coin 8 times. Wheneve it comes up tails 8 times, record\n",
    "    that coin's bias.  As before, the relative frequencies of the biases in the resulting set\n",
    "    approximate the *a posteriori* probability of those biases. \"\"\"\n",
    "\n",
    "    # Generate the set of possible biases\n",
    "    allcoins = np.linspace(0, 1, 101)\n",
    "\n",
    "    events = []\n",
    "    for sim in range(num_sims):\n",
    "\n",
    "        # Choose a bias for this coin\n",
    "        B = random.choices(allcoins, weights=a_prioris)[0]\n",
    "\n",
    "        # Now generate the coins according to that bias and count the number of heads\n",
    "        coins = random.choices([\"H\", \"T\"], weights=[1 - B, B], k=flips)\n",
    "        num_tails = coins.count(\"T\")\n",
    "\n",
    "        # Record the events with the target number of tails\n",
    "        if num_tails == target:\n",
    "            events += [B]\n",
    "\n",
    "    # Use the np.unique function (introduced in Ch. 2) to return the values and their counts\n",
    "    vals, counts = np.unique(events, return_counts=True)\n",
    "\n",
    "    # Now manually generate a histogram using plt.bar\n",
    "    # The relative frequency of a given value is the count of that value divided\n",
    "    # by the total number of captured events\n",
    "    plt.bar(\n",
    "        vals, counts / len(events), width=0.01\n",
    "    )  # Note that we had to change the bar width here!!!\n",
    "    plt.title(\n",
    "        f\"Simulation of {flips} flips of a randomly biased coin, recording bias when {target} tails occurs\"\n",
    "    )\n",
    "    plt.xlabel(\"Bias (Probablity of Tails)\")\n",
    "    plt.ylabel(\"A Posteriori Probability\")\n",
    "\n",
    "    return events"
   ]
  },
  {
   "cell_type": "code",
   "execution_count": 34,
   "metadata": {},
   "outputs": [
    {
     "data": {
      "image/png": "[encoded data removed]",
      "text/plain": [
       "<Figure size 432x288 with 1 Axes>"
      ]
     },
     "metadata": {
      "needs_background": "light"
     },
     "output_type": "display_data"
    }
   ],
   "source": [
    "events2 = biased_coins_i(bias_probs)"
   ]
  },
  {
   "cell_type": "markdown",
   "metadata": {},
   "source": [
    "Even before we generate the confidence intervals, we can see that with the *a priori* probability of a fair coin being 0.99, most of the coins that result in 8 tails on 8 flips of the coin are actually fair coins. Thus, we expect that any confidence intervals that we consider will include the fair coin.\n",
    "\n",
    "We can directly pass `events2` to our function `credible_interval` to generate the plots and credible intervals:"
   ]
  },
  {
   "cell_type": "code",
   "execution_count": 35,
   "metadata": {},
   "outputs": [
    {
     "name": "stdout",
     "output_type": "stream",
     "text": [
      "The 90% credible interval is [0.48, 0.98].\n",
      "The 95% credible interval is [0.48, 0.99].\n",
      "The 99% credible interval is [0.48, 1.0].\n"
     ]
    },
    {
     "data": {
      "image/png": "[encoded data removed]",
      "text/plain": [
       "<Figure size 432x288 with 1 Axes>"
      ]
     },
     "metadata": {
      "needs_background": "light"
     },
     "output_type": "display_data"
    },
    {
     "data": {
      "image/png": "[encoded data removed]",
      "text/plain": [
       "<Figure size 432x288 with 1 Axes>"
      ]
     },
     "metadata": {
      "needs_background": "light"
     },
     "output_type": "display_data"
    },
    {
     "data": {
      "image/png": "[encoded data removed]",
      "text/plain": [
       "<Figure size 432x288 with 1 Axes>"
      ]
     },
     "metadata": {
      "needs_background": "light"
     },
     "output_type": "display_data"
    }
   ],
   "source": [
    "for C in [90, 95, 99]:\n",
    "    credible_interval(events2, C)"
   ]
  },
  {
   "cell_type": "markdown",
   "metadata": {},
   "source": [
    "Since the credible interval contains 0.5 in each of these cases, we cannot reject the possibility that the coin is fair. We can easily estimate the *a posteriori* probability of the coin being fair:"
   ]
  },
  {
   "cell_type": "code",
   "execution_count": 36,
   "metadata": {},
   "outputs": [
    {
     "data": {
      "text/plain": [
       "0.7390350877192983"
      ]
     },
     "execution_count": 36,
     "metadata": {},
     "output_type": "execute_result"
    }
   ],
   "source": [
    "np.count_nonzero(np.array(events2) == 0.5) / len(events2)"
   ]
  },
  {
   "cell_type": "markdown",
   "metadata": {},
   "source": [
    "Thus, even given that we observed 8 tails on 8 flips of the coin, the probability that the coin is a fair coin is almost 0.8. This is because of the large prevalence of fair coins in our model for the *a priori* probabilities."
   ]
  },
  {
   "cell_type": "code",
   "execution_count": 37,
   "metadata": {
    "tags": [
     "remove-input"
    ]
   },
   "outputs": [
    {
     "data": {
      "text/html": [
       "<style>\n",
       ":root{\n",
       "--asparagus: #87a878ff;\n",
       "--terra-cotta: #e26d5aff;\n",
       "--cyan-process: #5bc0ebff;\n",
       "--dark-blue-gray: #666a86ff;\n",
       "--snow: #fffafbff;\n",
       "--rich-black-fogra-39: #090c08ff;\n",
       "}\n",
       "\n",
       "\n",
       "/* entire container, keeps perspective */\n",
       ".flip-container {\n",
       "\tperspective: 1000px;\n",
       "  touch-action: pinch-zoom pan-y;\n",
       "}\n",
       "\n",
       "\n",
       ".flip-container.flip .flipper {\n",
       "\ttransform: rotateY(180deg)  translateX(-10%);\n",
       "}\n",
       "\n",
       "\n",
       ".flip-container.slide .flipper.frontcard {\n",
       "    filter: brightness(90%);\n",
       "    position:absolute;\n",
       "    z-index: -20;\n",
       "}\n",
       "\n",
       ".flip-container.prepare .flipper.backcard {\n",
       "    opacity:1;\n",
       "    transform:  translateX(20px); \n",
       "    transition: display 0s;\n",
       "}\n",
       "\n",
       "\n",
       ".flip-container.slide .flipper.backcard {\n",
       "    filter: brightness(115%);\n",
       "    height: 360px;\n",
       "    opacity:1;\n",
       "\t  transform:  rotateY(3deg)  translateX(700px) translateZ(20px) scale(1, 1.05) rotate(3deg);\n",
       "    z-index: 20;\n",
       "}\n",
       "\n",
       "\n",
       "\n",
       "\n",
       ".flip-container.slideback .flipper.backcard {\n",
       "    filter: brightness(100%);\n",
       "    opacity: 1;\n",
       "\t  transform: translateX(0px) translateZ(20px) rotateY(0deg);\n",
       "    z-index: 10;\n",
       "}\n",
       "\n",
       ".flip-container.slideback .flipper.frontcard {\n",
       "    filter: brightness(90%);\n",
       "    transform: translateX(0px) translateZ(-20px);\n",
       "    z-index: -10;\n",
       "}\n",
       "\n",
       "\n",
       ".flip-container, .front, .back {\n",
       "\t  height: 300px;\n",
       "\t  width: 640px;\n",
       "}\n",
       "\n",
       ".flipper.frontcard {\n",
       "    position:absolute;\n",
       "\t  transform: translateX(0px) rotateY(0deg) translateZ(20px);\n",
       "    z-index: 10;\n",
       "}\n",
       "\n",
       ".flipper.backcard {\n",
       "    filter: brightness(90%);\n",
       "    opacity:0;\n",
       "    position:absolute;\n",
       "    transform: translateX(0px) translateZ(-20px);\n",
       "    z-index: -10;\n",
       "}\n",
       "\n",
       "\n",
       "\n",
       "\n",
       "/* flip speed goes here */\n",
       ".flipper {\n",
       "    cursor:pointer;\n",
       "\t  height: 200px;\n",
       "    margin-left:20px;\n",
       "\t  position: absolute;\n",
       "    top: 0;\n",
       "\t  transform-style: preserve-3d;\n",
       "\t  transition: 0.6s;\n",
       "    width: 600px;\n",
       "}\n",
       "\n",
       "/* hide back of pane during swap */\n",
       ".front, .back {\n",
       "    -webkit-backface-visibility: hidden;\n",
       "\t  backface-visibility: hidden;\n",
       "\t  left: 0;\n",
       "\t  position: absolute;\n",
       "\t  top: 0;\n",
       "}\n",
       "\n",
       "/* front pane, placed above back */\n",
       ".front {\n",
       "\t  backface-visibility: hidden;\n",
       "    background: var(--asparagus);\n",
       "    transform: rotateY(0deg);\n",
       "\t  z-index: 2;\n",
       "}\n",
       "\n",
       "/* back, initially hidden pane */\n",
       ".back {\n",
       "\t  backface-visibility: hidden;\n",
       "    background: var(--dark-blue-gray);\n",
       "\t  transform: rotateY(180deg);\n",
       "}\n",
       "\n",
       ".next {\n",
       "    color: var(--rich-black-fogra-39);\n",
       "    cursor:pointer;\n",
       "    font-size: 16pt;\n",
       "    left:600px;\n",
       "    opacity:0.3;\n",
       "    position:relative; \n",
       "    top:20px;\n",
       "}\n",
       "\n",
       ".next.flipped {\n",
       "    opacity:1;\n",
       "}\n",
       "\n",
       ".next.hide {\n",
       "    opacity:0;\n",
       "}\n",
       "\n",
       "\n",
       ".flashcard{\n",
       "    border-radius: 10px;\n",
       "    color: #fafafa;\n",
       "    display:block;\n",
       "    padding:10px;\n",
       "  \n",
       "}\n",
       ".flashcardtext{\n",
       "    color: var(--snow);\n",
       "    font-size: 20pt;\n",
       "    margin-left:3%;\n",
       "    position:absolute;\n",
       "    text-align:center;\n",
       "    top: 50%;\n",
       "    transform: translate(0, -50%);\n",
       "    width:90%;\n",
       "  }\n",
       "\n",
       "</style><script type=\"text/Javascript\">\n",
       "/*!\n",
       " * swiped-events.js - v1.1.4\n",
       " * Pure JavaScript swipe events\n",
       " * https://github.com/john-doherty/swiped-events\n",
       " * @inspiration https://stackoverflow.com/questions/16348031/disable-scrolling-when-touch-moving-certain-element\n",
       " * @author John Doherty <www.johndoherty.info>\n",
       " * @license MIT\n",
       " */\n",
       "!function(t,e){\"use strict\";\"function\"!=typeof t.CustomEvent&&(t.CustomEvent=function(t,n){n=n||{bubbles:!1,cancelable:!1,detail:void 0};var a=e.createEvent(\"CustomEvent\");return a.initCustomEvent(t,n.bubbles,n.cancelable,n.detail),a},t.CustomEvent.prototype=t.Event.prototype),e.addEventListener(\"touchstart\",function(t){if(\"true\"===t.target.getAttribute(\"data-swipe-ignore\"))return;s=t.target,r=Date.now(),n=t.touches[0].clientX,a=t.touches[0].clientY,u=0,i=0},!1),e.addEventListener(\"touchmove\",function(t){if(!n||!a)return;var e=t.touches[0].clientX,r=t.touches[0].clientY;u=n-e,i=a-r},!1),e.addEventListener(\"touchend\",function(t){if(s!==t.target)return;var e=parseInt(l(s,\"data-swipe-threshold\",\"20\"),10),o=parseInt(l(s,\"data-swipe-timeout\",\"500\"),10),c=Date.now()-r,d=\"\",p=t.changedTouches||t.touches||[];Math.abs(u)>Math.abs(i)?Math.abs(u)>e&&c<o&&(d=u>0?\"swiped-left\":\"swiped-right\"):Math.abs(i)>e&&c<o&&(d=i>0?\"swiped-up\":\"swiped-down\");if(\"\"!==d){var b={dir:d.replace(/swiped-/,\"\"),xStart:parseInt(n,10),xEnd:parseInt((p[0]||{}).clientX||-1,10),yStart:parseInt(a,10),yEnd:parseInt((p[0]||{}).clientY||-1,10)};s.dispatchEvent(new CustomEvent(\"swiped\",{bubbles:!0,cancelable:!0,detail:b})),s.dispatchEvent(new CustomEvent(d,{bubbles:!0,cancelable:!0,detail:b}))}n=null,a=null,r=null},!1);var n=null,a=null,u=null,i=null,r=null,s=null;function l(t,n,a){for(;t&&t!==e.documentElement;){var u=t.getAttribute(n);if(u)return u;t=t.parentNode}return a}}(window,document);\n",
       "\n",
       "function jaxify(string) {\n",
       "    var mystring = string;\n",
       "    console.log(mystring);\n",
       "\n",
       "    count = 0;\n",
       "    var loc = mystring.search(/([^\\\\]|^)(\\$)/);\n",
       "\n",
       "    count2 = 0;\n",
       "    var loc2 = mystring.search(/([^\\\\]|^)(\\$\\$)/);\n",
       "\n",
       "    //console.log(loc);\n",
       "\n",
       "    while ((loc >= 0) || (loc2 >= 0)) {\n",
       "\n",
       "        /* Have to replace all the double $$ first with current implementation */\n",
       "        if (loc2 >= 0) {\n",
       "            if (count2 % 2 == 0) {\n",
       "                mystring = mystring.replace(/([^\\\\]|^)(\\$\\$)/, \"$1\\\\[\");\n",
       "            } else {\n",
       "                mystring = mystring.replace(/([^\\\\]|^)(\\$\\$)/, \"$1\\\\]\");\n",
       "            }\n",
       "            count2++;\n",
       "        } else {\n",
       "            if (count % 2 == 0) {\n",
       "                mystring = mystring.replace(/([^\\\\]|^)(\\$)/, \"$1\\\\(\");\n",
       "            } else {\n",
       "                mystring = mystring.replace(/([^\\\\]|^)(\\$)/, \"$1\\\\)\");\n",
       "            }\n",
       "            count++;\n",
       "        }\n",
       "        loc = mystring.search(/([^\\\\]|^)(\\$)/);\n",
       "        loc2 = mystring.search(/([^\\\\]|^)(\\$\\$)/);\n",
       "        //console.log(mystring,\", loc:\",loc,\", loc2:\",loc2);\n",
       "    }\n",
       "\n",
       "    //console.log(mystring);\n",
       "    return mystring;\n",
       "}\n",
       "\n",
       "function flip(ths) {\n",
       "    console.log(ths);\n",
       "    console.log(ths.id);\n",
       "    ths.classList.toggle(\"flip\"); \n",
       "    var next=document.getElementById(ths.id+'-next');\n",
       "    next.style.pointerEvents='none';\n",
       "    next.classList.add('flipped');\n",
       "    if (typeof MathJax != 'undefined') {\n",
       "        var version = MathJax.version;\n",
       "        console.log('MathJax version', version);\n",
       "        if (version[0] == \"2\") {\n",
       "            MathJax.Hub.Queue([\"Typeset\", MathJax.Hub]);\n",
       "        } else if (version[0] == \"3\") {\n",
       "            MathJax.typeset([ths]);\n",
       "        }\n",
       "    } else {\n",
       "        console.log('MathJax not detected');\n",
       "    }\n",
       "\n",
       "\n",
       "    setTimeout(reenableNext, 700, next);\n",
       "}\n",
       "\n",
       "function reenableNext(next) {\n",
       "    next.style.pointerEvents='auto';\n",
       "}\n",
       "\n",
       "\n",
       "\n",
       "function slide2(containerId) {\n",
       "    var container = document.getElementById(containerId);\n",
       "    var next=document.getElementById(containerId+'-next');\n",
       "    var frontcard = container.children[0];\n",
       "    var backcard = container.children[1];\n",
       "    container.style.pointerEvents='none';\n",
       "    //backcard.style.pointerEvents='none';\n",
       "    next.style.pointerEvents='none';\n",
       "    next.classList.remove('flipped');\n",
       "    next.classList.add('hide');\n",
       "\n",
       "    //container.classList.add(\"prepare\");\n",
       "    \n",
       "    container.className=\"flip-container slide\";\n",
       "    backcard.parentElement.removeChild(frontcard);\n",
       "    backcard.parentElement.appendChild(frontcard);\n",
       "    setTimeout(slideback, 600, container, frontcard, backcard, next);\n",
       "    \n",
       "}\n",
       "\n",
       "\n",
       "function checkFlip(containerId) {\n",
       "    var container = document.getElementById(containerId);\n",
       "\n",
       "\n",
       "    if (container.classList.contains('flip')) {\n",
       "        container.classList.remove('flip');\n",
       "        setTimeout(slide2, 600, containerId);\n",
       "    } \n",
       "    else {\n",
       "        slide2(containerId);\n",
       "    }\n",
       "}\n",
       "\n",
       "\n",
       "function slideback(container, frontcard, backcard, next) {\n",
       "    container.className=\"flip-container slideback\";\n",
       "    setTimeout(cleanup, 600, container, frontcard, backcard, next);\n",
       "}\n",
       "\n",
       "function cleanup(container, frontcard, backcard, next) {\n",
       "    container.removeChild(frontcard);\n",
       "    backcard.className=\"flipper frontcard\";\n",
       "    container.className=\"flip-container\";\n",
       "\n",
       "    var cardnum=parseInt(container.dataset.cardnum);\n",
       "    var cards=eval('cards'+container.id);\n",
       "    var flipper=createOneCard(container, false, cards, cardnum);\n",
       "    container.append(flipper);\n",
       "    cardnum= (cardnum+1) % parseInt(container.dataset.numCards);\n",
       "    container.dataset.cardnum=cardnum;\n",
       "    if (cardnum != 1){\n",
       "        next.innerHTML=\"Next >\";\n",
       "    } else {\n",
       "        next.innerHTML=\"Reload \\\\(\\\\circlearrowleft\\\\) \";\n",
       "        if (typeof MathJax != 'undefined') {\n",
       "            var version = MathJax.version;\n",
       "            console.log('MathJax version', version);\n",
       "            if (version[0] == \"2\") {\n",
       "                MathJax.Hub.Queue([\"Typeset\", MathJax.Hub]);\n",
       "            } else if (version[0] == \"3\") {\n",
       "                MathJax.typeset([next]);\n",
       "            }\n",
       "        } else {\n",
       "            console.log('MathJax not detected');\n",
       "        }\n",
       "\n",
       "\n",
       "    }\n",
       "\n",
       "    if (typeof MathJax != 'undefined') {\n",
       "        var version = MathJax.version;\n",
       "        console.log('MathJax version', version);\n",
       "        if (version[0] == \"2\") {\n",
       "            MathJax.Hub.Queue([\"Typeset\", MathJax.Hub]);\n",
       "        } else if (version[0] == \"3\") {\n",
       "            MathJax.typeset();\n",
       "        }\n",
       "    } else {\n",
       "        console.log('MathJax not detected');\n",
       "    }\n",
       "\n",
       "\n",
       "    next.style.pointerEvents='auto';\n",
       "    container.style.pointerEvents='auto';\n",
       "    next.classList.remove('hide');\n",
       "    container.addEventListener('swiped-left', function(e) {\n",
       "        /*\n",
       "          console.log(e.detail);\n",
       "          console.log(id);\n",
       "        */\n",
       "        checkFlip(container.id);\n",
       "    }, {once: true });\n",
       "\n",
       "\n",
       "}\n",
       "\n",
       "\n",
       "function createOneCard  (mydiv, frontCard, cards, cardnum) {\n",
       "    colors=[\n",
       "        '--asparagus',\n",
       "        '--terra-cotta',\n",
       "        '--cyan-process'\n",
       "    ]\n",
       "\n",
       "    var flipper = document.createElement('div');\n",
       "    if (frontCard){\n",
       "        flipper.className=\"flipper frontcard\";    \n",
       "    }\n",
       "    else {\n",
       "        flipper.className=\"flipper backcard\";   \n",
       "    }\n",
       "\n",
       "    var front = document.createElement('div');\n",
       "    front.className='front flashcard';\n",
       "\n",
       "    var frontSpan= document.createElement('span');\n",
       "    frontSpan.className='flashcardtext';\n",
       "    frontSpan.innerHTML=jaxify(cards[cardnum]['front']);\n",
       "    //frontSpan.textContent=jaxify(cards[cardnum]['front']);\n",
       "    front.style.background='var(' + colors[cardnum % colors.length] + ')';\n",
       "\n",
       "\n",
       "    front.append(frontSpan);\n",
       "    flipper.append(front);\n",
       "\n",
       "    var back = document.createElement('div');\n",
       "    back.className='back flashcard';\n",
       "\n",
       "    var backSpan= document.createElement('span');\n",
       "    backSpan.className='flashcardtext';\n",
       "    backSpan.innerHTML=jaxify(cards[cardnum]['back']);\n",
       "    back.append(backSpan);\n",
       "\n",
       "    flipper.append(back);\n",
       "\n",
       "    return flipper;\n",
       "\n",
       "}\n",
       "\n",
       "\n",
       "\n",
       "\n",
       "\n",
       "function createCards(id) {\n",
       "    console.log(id);\n",
       "    \n",
       "    var mydiv=document.getElementById(id);\n",
       "    \n",
       "    var cards=eval('cards'+id);\n",
       "    mydiv.dataset.cardnum=0;\n",
       "    mydiv.dataset.numCards=cards.length;\n",
       "    mydiv.addEventListener('swiped-left', function(e) {\n",
       "        /*\n",
       "          console.log(e.detail);\n",
       "          console.log(id);\n",
       "        */\n",
       "        checkFlip(id);\n",
       "    }, {once: true});\n",
       "\n",
       "    var cardnum=0;\n",
       "    \n",
       "    for (var i=0; i<2; i++) {\n",
       "    \n",
       "        var flipper;\n",
       "        if (i==0){\n",
       "            flipper=createOneCard(mydiv, true, cards, cardnum);\n",
       "        }\n",
       "        else {\n",
       "            flipper=createOneCard(mydiv, false, cards, cardnum);\n",
       "        }\n",
       "\n",
       "        mydiv.append(flipper);\n",
       "        if (typeof MathJax != 'undefined') {\n",
       "            var version = MathJax.version;\n",
       "            if (typeof version == 'undefined') {\n",
       "                setTimeout(function(){\n",
       "                    var version = MathJax.version;\n",
       "                    console.log('After sleep, MathJax version', version);\n",
       "                    if (version[0] == \"2\") {\n",
       "                        MathJax.Hub.Queue([\"Typeset\", MathJax.Hub]);\n",
       "                    } else if (version[0] == \"3\") {\n",
       "                        MathJax.typeset([flipper]);\n",
       "                    }\n",
       "                }, 500);\n",
       "            } else{\n",
       "                console.log('MathJax version', version);\n",
       "                if (version[0] == \"2\") {\n",
       "                    MathJax.Hub.Queue([\"Typeset\", MathJax.Hub]);\n",
       "                } else if (version[0] == \"3\") {\n",
       "                    MathJax.typeset([flipper]);\n",
       "                }\n",
       "            }\n",
       "        } else {\n",
       "            console.log('MathJax not detected');\n",
       "        }\n",
       "\n",
       "\n",
       "        cardnum = (cardnum + 1) % mydiv.dataset.numCards;\n",
       "    }\n",
       "    mydiv.dataset.cardnum = cardnum;\n",
       "\n",
       "    var next=document.getElementById(id+'-next');\n",
       "    if (cards.length==1) {\n",
       "        // Don't show next if no other cards!\n",
       "        next.style.pointerEvents='none';\n",
       "        next.classList.add('hide');\n",
       "    } else {\n",
       "        next.innerHTML=\"Next >\";\n",
       "    }\n",
       "\n",
       "    return flipper;\n",
       "}\n",
       "\n",
       "\n",
       "\n",
       "\n",
       "\n",
       "</script><script type=\"text/Javascript\">\n",
       "    \n",
       "    cardsDOTVNEpkLEmM=[\n",
       "    {\n",
       "        \"front\": \"uninformative prior\",\n",
       "        \"back\": \"A collection of <i>a priori</i> probabilities that do not give preference to any of the outcomes; usually flat (constant) across the set of outcomes.\"\n",
       "    },\n",
       "    {\n",
       "        \"front\": \"informative prior\",\n",
       "        \"back\": \"A collection of <i>a priori</i> probabilities that are based on information that are external to the data and that are usually not flat (constant) across the set of outcomes.\"\n",
       "    },\n",
       "    {\n",
       "        \"front\": \"credible interval\", \n",
       "        \"back\": \"A $C$% <i>credible interval</i> is an interval of values that contains $C$% of the <i>a posteriori</i> probability.\"\n",
       "    }\n",
       "]\n",
       ";\n",
       "    \n",
       "\n",
       "        {\n",
       "        const jmscontroller = new AbortController();\n",
       "        const signal = jmscontroller.signal;\n",
       "\n",
       "        setTimeout(() => jmscontroller.abort(), 5000);\n",
       "\n",
       "        fetch(\"https://raw.githubusercontent.com/jmshea/Foundations-of-Data-Science-with-Python/main/07-bayesian-methods/flashcards//bayesian-hypothesis-testing.json\", {signal})\n",
       "        .then(response => response.json())\n",
       "        .then(json => createCards(\"DOTVNEpkLEmM\"))\n",
       "        .catch(err => {\n",
       "        console.log(\"Fetch error or timeout\");\n",
       "        createCards(\"DOTVNEpkLEmM\");\n",
       "        });\n",
       "        }\n",
       "        </script>\n",
       "        <div style=\"height:40px\"></div><div class=\"flip-container\" id=\"DOTVNEpkLEmM\" onclick=\"flip(this)\"></div><div style=\"height:40px\"></div><div class=\"next\" id=\"DOTVNEpkLEmM-next\" onclick=\"checkFlip('DOTVNEpkLEmM')\"> </div> <div style=\"height:40px\"></div>"
      ],
      "text/plain": [
       "<IPython.core.display.HTML object>"
      ]
     },
     "metadata": {},
     "output_type": "display_data"
    }
   ],
   "source": [
    "from jupytercards import display_flashcards\n",
    "\n",
    "# display_flashcards(\"flashcards/bayesian-hypothesis-testing.json\")\n",
    "\n",
    "github = \"https://raw.githubusercontent.com/jmshea/Foundations-of-Data-Science-with-Python/main/\"\n",
    "github += \"07-bayesian-methods/flashcards/\"\n",
    "display_flashcards(github + \"/bayesian-hypothesis-testing.json\")"
   ]
  },
  {
   "cell_type": "markdown",
   "metadata": {
    "tags": []
   },
   "source": [
    "## Remaining Items\n",
    "\n",
    "1. Add example with real data - may wait until we have RVs to serve as models\n",
    "1. Talk about Likelihood ratio/Bayes factors and interpretation\n",
    "1. Add JupyterQuiz questions on credible intervals, other simple random experiments with Bayesian tests "
   ]
  }
 ],
 "metadata": {
  "kernelspec": {
   "display_name": "Python 3 (ipykernel)",
   "language": "python",
   "name": "python3"
  },
  "language_info": {
   "codemirror_mode": {
    "name": "ipython",
    "version": 3
   },
   "file_extension": ".py",
   "mimetype": "text/x-python",
   "name": "python",
   "nbconvert_exporter": "python",
   "pygments_lexer": "ipython3",
   "version": "3.9.12"
  }
 },
 "nbformat": 4,
 "nbformat_minor": 4
}
