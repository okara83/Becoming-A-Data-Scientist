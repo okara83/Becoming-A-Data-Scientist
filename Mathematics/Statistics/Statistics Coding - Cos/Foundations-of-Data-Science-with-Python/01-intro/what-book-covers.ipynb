{
 "cells": [
  {
   "cell_type": "markdown",
   "metadata": {},
   "source": [
    "# What data science topics does this book cover?\n",
    "\n",
    "Data science is a very broad topic. Data scientists use many different tools in making sense of data, from programming for data cleaning to advanced machine learning algorithms.\n",
    "\n",
    "![Data science tools covered in this class](tools.png)\n",
    "\n",
    "This book focuses on some of the fundamental tools used to create meaning from data, and the focus is also on tools that are generally useful for engineers in other contexts. The topics that are focused on in this book include:\n",
    "\n",
    "* **Simulation** is used to carry out statistical tests and to model random phenomena.\n",
    "* **Visualization** is used to transform data into graphical forms that help to understand the data or tell a story about the data.\n",
    "* **Statistics** is used to determine whether observations made from the data are meaningful or could just be attributed to randomness in the data.\n",
    "* **Probability** is used to create mathematical models for random phenomena; these models can be used to develop optimal estimators and decisions.\n",
    "* **Linear algebra** is used to transform data or find relationships among data.\n",
    "\n",
    "Throughout this book, we use two key tools to enable our computational approach:\n",
    "\n",
    "* **Jupyter** is a web-based notebook environment. Jupyter notebooks can include text, mathematics, graphics, executable program code, interactive widgets, and more.\n",
    "* **Python** is a general-purpose computing language that has a rich set of libraries that support data science activities."
   ]
  }
 ],
 "metadata": {
  "finalized": {
   "timestamp": 1617199748724,
   "trusted": true
  },
  "kernelspec": {
   "display_name": "Python 3",
   "language": "python",
   "name": "python3"
  },
  "language_info": {
   "codemirror_mode": {
    "name": "ipython",
    "version": 3
   },
   "file_extension": ".py",
   "mimetype": "text/x-python",
   "name": "python",
   "nbconvert_exporter": "python",
   "pygments_lexer": "ipython3",
   "version": "3.7.4"
  }
 },
 "nbformat": 4,
 "nbformat_minor": 4
}
