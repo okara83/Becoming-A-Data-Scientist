{
 "cells": [
  {
   "cell_type": "markdown",
   "metadata": {},
   "source": [
    "# Why learn data science from this book?\n",
    "\n",
    "This book uses a **computational first** approach to data science. We take advantage of the power of modern computers to visualize, transform, and simulate data. In particular, we use an approach to statistics in which statistical tests are conducted by carrying out simulations that draw samples from the data being analyzed. This approach has the following benefits:\n",
    "* **We start working with real data sets quickly** because this approach does not require a lot of mathematical background and the computer does all the mathematical manipulation and plotting.\n",
    "* **Simulation models are easy for students to create and understand.** The results do not rely on any arcane formulas but only the ability to build very simple simulations that draw from the experimental data.\n",
    "* **This approach is more general than the traditional approach.** It does not rely on the data coming from specific probability distributions, and the same simulation can be used to generate frequentist or Bayesian statistics. \n",
    "\n",
    "\n",
    "Each chapter has self-assessment quizzes to help learners check their understanding. When viewed as an E-Book, these quizzes provide instantaneous feedback. In addition, this book uses spaced repetition to help readers better retain  knowledge as they progress through the book. In this book, starting with Chapter 2, readers are also given a random subset of review problems from earlier chapters. Research has shown that when spaced repetition occurs over time, it improves retention of the material.\n",
    "\n",
    "Each chapter of the book ends with \"take-aways\" that help summarize the important points from the chapter. These take-aways are targeted to address common questions in interviews for data science jobs."
   ]
  }
 ],
 "metadata": {
  "finalized": {
   "timestamp": 1617199748724,
   "trusted": true
  },
  "kernelspec": {
   "display_name": "Python 3 (ipykernel)",
   "language": "python",
   "name": "python3"
  },
  "language_info": {
   "codemirror_mode": {
    "name": "ipython",
    "version": 3
   },
   "file_extension": ".py",
   "mimetype": "text/x-python",
   "name": "python",
   "nbconvert_exporter": "python",
   "pygments_lexer": "ipython3",
   "version": "3.7.4"
  }
 },
 "nbformat": 4,
 "nbformat_minor": 4
}
