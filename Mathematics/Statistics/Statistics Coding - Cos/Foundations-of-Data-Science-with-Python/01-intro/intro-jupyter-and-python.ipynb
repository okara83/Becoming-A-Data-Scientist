{
 "cells": [
  {
   "cell_type": "markdown",
   "metadata": {
    "slideshow": {
     "slide_type": "slide"
    }
   },
   "source": [
    "# Extremely Brief Intro to Jupyter and Python\n",
    "\n",
    "The purpose of this and the following two sections is to briefly introduce users to Jupyter and Python. The content here should be treated as an introduction to explore further and is not meant to be comprehensive. There are a broad variety of tutorials on the web for both of these topics, and links are provided for users that need additional instruction.\n",
    "\n",
    "If you are already familiar with Jupyter and/or Python 3, feel free to skip ahead."
   ]
  },
  {
   "cell_type": "markdown",
   "metadata": {},
   "source": [
    "```{index} Jupyter\n",
    "```\n",
    "\n",
    "\n",
    "\n",
    "## Why Jupyter notebooks?\n",
    "\n",
    "\n",
    "<img src=\"jupyter-logo.svg\" alt=\"Project Jupyter logo\" style=\"width: 150px;\"/>\n",
    "\n",
    "\n",
    "According to the [Project Jupyter web page (https://jupyter.org)](https://jupyter.org), \"The Jupyter Notebook is an open-source web application that allows you to create and share documents that contain live code, equations, visualizations and narrative text. Uses include: data cleaning and transformation, numerical simulation, statistical modeling, data visualization, machine learning, and much more.\"\n",
    "\n",
    "The reason that Jupyter notebook was chosen for this book:\n",
    "\n",
    "* Jupyter notebooks can integrate text, mathematics, code, and visualization in a single document, which is very helpful when conveying information about data. In fact, this book was written in a series of Juypter notebooks.\n",
    "* Jupyter notebooks allow for an *evolutionary approach* to code development. Programs can start as small blocks of code that then can be modified and evolved to create more complex functions.\n",
    "* Jupyter notebooks are commonly used in the data science field for exploratory data analysis.\n"
   ]
  },
  {
   "cell_type": "markdown",
   "metadata": {},
   "source": [
    "## Why Python?\n",
    "\n",
    "Python is a general purpose programming language that was originally created by Guido van Rossum. Python was chosen for this book for many reasons:\n",
    "\n",
    "* **Python is very easy to learn.** Python has simple syntax that is very similar to C, which many engineers will be familiar with. It is also easy to transition to Python from MATLAB scripting, which most electrical engineers will know.\n",
    "* **Python is an interpreted language,** which means that programmers can run the code directly without having to go through extra steps of compiling their programs.\n",
    "* **Python interpreters are freely available and easy to install.** In addition, Python and Jupyter are available on all major operating systems, including Windows, MacOS, and Linux.\n",
    "* **Python is popular for data science and machine learning.** Python is widely used for data science and machine learning in both industry and universities.\n",
    "* **Python has rich libraries for data science.** Python has many powerful libraries for data science and machine learning. In addition, Python has powerful libraries for a broad array of tasks that making learning Python have additional benefits for other uses."
   ]
  },
  {
   "cell_type": "markdown",
   "metadata": {},
   "source": [
    "## How to get started with Juypter and Python\n",
    "\n",
    "Python and Jupyter are often packaged together in a *software distribution*, and the creators of several distributions include additional Python software libraries, such as for scientific computing. This book assumes the use of the Anaconda distribution, which its creators bill as \"The World's Most Popular Data Science Platform\" **Add footnote with reference to web page here**. Anaconda's *Individual Edition* is freely available for download from the Anaconda web site:\n",
    "\n",
    "```{index} Anaconda Python distribution\n",
    "```\n",
    "\n",
    "\n",
    "\n",
    "[![Anaconda Logo](anaconda.png)](https://www.anaconda.com/products/individual)\n",
    "\n",
    "[Anaconda Individual Edition (https://www.anaconda.com/products/individual)](https://www.anaconda.com/products/individual)\n",
    "\n",
    "Choose the proper download based on your computer's operating system. You may also have to select a version of Python. This book is based on **Python 3**, which means that any version of Python that starts with the number 3 should work with the code included in this book. For instance, as of January 2021, the Anaconda distribution included Python version 3.8. \n",
    "\n",
    "```{warning}\n",
    "Python version 2 or Python versions after 3 may have syntax changes that cause the programs in this book to not run without modification.\n",
    "```\n",
    "\n",
    "After downloading, install Python in the usual way (for instance, by double-clicking on the downloaded file). Anaconda will install Python and many useful modules for data science, as well as Jupyter notebook and JupyterLab.\n",
    "\n",
    "**Add Insert explaining Jupyter notebook vs JupyterLab**\n",
    "\n",
    "```{note}\n",
    "The term \"Jupyter notebook\" can refer both to a file format (with *.ipynb* extension) and to an application with a web interface to work with those files. To help avoid confusion, I will write *Jupyter notebook file* whenever referring to such a file, and we will use JuypterLab as the web application for opening and working with such files. As of January 2001, JupyterLab is the \"is the next-generation web-based user interface for Project Jupyter.\" (ref https://jupyterlab.readthedocs.io/en/stable/). Jupyter notebook has a very similar interface, and most users will be able to use either one interchangeably.\n",
    "```\n"
   ]
  },
  {
   "cell_type": "markdown",
   "metadata": {
    "slideshow": {
     "slide_type": "slide"
    }
   },
   "source": [
    "## Getting organized\n",
    "\n",
    "We are almost ready to start using Jupyter and Python. Before you begin to do that, I recommend to take a minute to think about how you will organize your files. To learn data science requires actually working with data and performing analyses. This will result in you generating a lot of Jupyter notebook files, as well as a lot of data files. I suggest that you create a folder for this data-science book (or for the course, if you are using this as a course textbook). This folder should be easily accessible from your home directory because that is the location where JupyterLab will open by default. You may wish to add additional structure underneath that folder. If you create a separate folder for data, I would suggest to make it a subfolder of the one containing your notebooks to make it easiest to access that data.\n",
    "\n",
    "```{note}\n",
    "Your user directory will be referred to by a tilde (~). \n",
    "```\n",
    "\n",
    "\n",
    "One possible organization of your files is shown below:\n",
    "**Turn this into a prettier image**\n",
    "\n",
    "\\begin{align*}\n",
    "&\\mbox{~} \\\\\n",
    "& |\\\\\n",
    "&\\longrightarrow && \\mbox{data-science} \\\\\n",
    "&&& | \\\\\n",
    "&&& \\longrightarrow  &&\\mbox{notebooks} \\\\\n",
    "&&&&& | \\\\\n",
    "&&&&& \\longrightarrow  &&\\mbox{data} \\\\\n",
    "\\end{align*}\n",
    "\n",
    "Within the *notebooks* directory, you may wish to add subfolders, for instance by chapter, topic, or lecture.  "
   ]
  }
 ],
 "metadata": {
  "celltoolbar": "Slideshow",
  "finalized": {
   "timestamp": 1610567379588,
   "trusted": true
  },
  "kernelspec": {
   "display_name": "Python 3 (ipykernel)",
   "language": "python",
   "name": "python3"
  },
  "language_info": {
   "codemirror_mode": {
    "name": "ipython",
    "version": 3
   },
   "file_extension": ".py",
   "mimetype": "text/x-python",
   "name": "python",
   "nbconvert_exporter": "python",
   "pygments_lexer": "ipython3",
   "version": "3.7.4"
  }
 },
 "nbformat": 4,
 "nbformat_minor": 4
}
