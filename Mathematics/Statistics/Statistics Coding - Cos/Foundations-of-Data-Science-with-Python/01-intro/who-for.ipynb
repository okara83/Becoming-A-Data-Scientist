{
 "cells": [
  {
   "cell_type": "markdown",
   "metadata": {},
   "source": [
    "# Who is this book for?\n",
    "\n",
    "This book is targeted toward engineers, whether working or still in school. It is written by an Electrical and Computer Engineer, and it is generally designed toward engineers with the following assumptions. \n",
    "\n",
    "**Background Knowledge**\n",
    "This book assumes the reader has a basic working knowledge of \n",
    "* Computer-programming (knowing Python is helpful, but not required)\n",
    "* One-dimensional differential and integral calculus\n",
    "* Complex numbers\n",
    "\n",
    "\n",
    "This book was designed as the primary textbook for a 4-credit, semester-long course for engineers, which is taught in the Department of Electrical and Computer Engineering at the University of Florida. It is designed to be a broad introduction to data science, but it is also designed to replace courses in *Engineering Statistics* and *Computational Linear Algebra*"
   ]
  }
 ],
 "metadata": {
  "finalized": {
   "timestamp": 1617199748724,
   "trusted": true
  },
  "kernelspec": {
   "display_name": "Python 3",
   "language": "python",
   "name": "python3"
  },
  "language_info": {
   "codemirror_mode": {
    "name": "ipython",
    "version": 3
   },
   "file_extension": ".py",
   "mimetype": "text/x-python",
   "name": "python",
   "nbconvert_exporter": "python",
   "pygments_lexer": "ipython3",
   "version": "3.7.4"
  }
 },
 "nbformat": 4,
 "nbformat_minor": 4
}
