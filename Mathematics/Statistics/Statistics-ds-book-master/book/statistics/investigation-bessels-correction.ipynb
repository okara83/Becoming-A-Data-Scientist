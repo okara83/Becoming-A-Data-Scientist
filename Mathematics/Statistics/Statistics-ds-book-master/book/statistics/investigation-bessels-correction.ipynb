{
 "cells": [
  {
   "cell_type": "markdown",
   "metadata": {},
   "source": [
    "# Investigation of Bessel's correction\n",
    "\n",
    "We consider the role of [Bessel's correction](https://en.wikipedia.org/wiki/Bessel%27s_correction).\n",
    "Check the documentation [numpy.std](https://numpy.org/doc/stable/reference/generated/numpy.std.html#numpy.std) and [numpy.var](https://numpy.org/doc/stable/reference/generated/numpy.var) and you will find the following\n",
    "\n",
    "$$\n",
    "\\texttt{np.var(x,ddof=0)} = S_N^2 = {\\color{#DC2830}{\\frac{1}{N}}} \\sum_{i=1}^N (x_i - \\bar{x})^2\n",
    "$$\n",
    "\n",
    "$$\n",
    "\\texttt{np.var(x,ddof=1)} = S^2 = {\\color{#0271AE}{\\frac{1}{N-1}}} \\sum_{i=1}^N (x_i - \\bar{x})^2\n",
    "$$\n",
    "\n",
    "\n",
    "$$\n",
    "\\texttt{np.std(x,ddof=0)} = \\sqrt{S_N^2} = \\sqrt{{\\color{#DC2830}{\\frac{1}{N}}} \\sum_{i=1}^N (x_i - \\bar{x})^2}\n",
    "$$\n",
    "\n",
    "\n",
    "$$\n",
    "\\texttt{np.std(x,ddof=1)} = \\sqrt{S^2} = \\sqrt{{\\color{#0271AE}{\\frac{1}{N-1}}} \\sum_{i=1}^N (x_i - \\bar{x})^2}\n",
    "$$"
   ]
  },
  {
   "cell_type": "code",
   "execution_count": 54,
   "metadata": {},
   "outputs": [],
   "source": [
    "import numpy as np\n",
    "import matplotlib.pyplot as plt"
   ]
  },
  {
   "cell_type": "code",
   "execution_count": 55,
   "metadata": {},
   "outputs": [],
   "source": [
    "# generate many trials, and for each draw a data set with N entries, and calculate estimators\n",
    "N_trials = 100000\n",
    "N = 10\n",
    "\n",
    "x = np.random.normal(size=N_trials*N_per_trial).reshape(N_trials,-1)\n",
    "\n",
    "var_0 = x.var(axis=1, ddof=0)\n",
    "var_1 = x.var(axis=1, ddof=1)\n",
    "\n",
    "std_0 = x.std(axis=1, ddof=0)\n",
    "std_1 = x.std(axis=1, ddof=1)"
   ]
  },
  {
   "cell_type": "markdown",
   "metadata": {},
   "source": [
    "## Compare variance estimators"
   ]
  },
  {
   "cell_type": "code",
   "execution_count": 56,
   "metadata": {},
   "outputs": [
    {
     "name": "stdout",
     "output_type": "stream",
     "text": [
      "mean of var_0 = 0.9004618194480143 +/- 0.001340946493285875, which is -74.22979294876703 sigma from true value\n"
     ]
    }
   ],
   "source": [
    "print(\"mean of var_0 = {0} +/- {1}, which is {2} sigma from true value\".format(\n",
    "    np.mean(var_0),\n",
    "    np.std(var_0)/np.sqrt(N_trials),\n",
    "    (np.mean(var_0)-1.)/(np.std(var_0)/np.sqrt(N_trials))\n",
    "    ))"
   ]
  },
  {
   "cell_type": "code",
   "execution_count": 57,
   "metadata": {},
   "outputs": [
    {
     "name": "stdout",
     "output_type": "stream",
     "text": [
      "mean of var_1 = 1.0005131327200156 +/- 0.0014899405480954166, which is 0.34439811754339117 sigma from true value\n"
     ]
    }
   ],
   "source": [
    "print(\"mean of var_1 = {0} +/- {1}, which is {2} sigma from true value\".format(\n",
    "    np.mean(var_1),\n",
    "    np.std(var_1)/np.sqrt(N_trials),\n",
    "    (np.mean(var_1)-1.)/(np.std(var_1)/np.sqrt(N_trials))\n",
    "    ))"
   ]
  },
  {
   "cell_type": "code",
   "execution_count": 64,
   "metadata": {},
   "outputs": [
    {
     "data": {
      "image/png": "[encoded data removed]",
      "text/plain": [
       "<Figure size 432x288 with 1 Axes>"
      ]
     },
     "metadata": {
      "needs_background": "light"
     },
     "output_type": "display_data"
    }
   ],
   "source": [
    "bins = np.linspace(var_1.min(),var_1.max(),100)\n",
    "_ = plt.hist(var_0, bins=bins, density=True, alpha=.3, label='var(x, ddof=0)')\n",
    "_ = plt.hist(var_1, bins=bins, density=True, alpha=.3, label='var(x, ddof=1)')\n",
    "plt.xlabel('variance estimator')\n",
    "plt.vlines(np.mean(var_0),0,1, label='mean var(x, ddof=0)')\n",
    "plt.vlines(np.mean(var_1),0,1, color='r', label='mean var(x, ddof=1)')\n",
    "plt.vlines(1,0,1, color='black', ls='dashed',label='true variance')\n",
    "plt.legend();"
   ]
  },
  {
   "cell_type": "markdown",
   "metadata": {},
   "source": [
    "## Standard Deviation Estimators"
   ]
  },
  {
   "cell_type": "code",
   "execution_count": 60,
   "metadata": {},
   "outputs": [
    {
     "name": "stdout",
     "output_type": "stream",
     "text": [
      "mean of std_0 = 0.9230369910725107 +/- 0.0006961647259077399, which is -110.5528706975724 sigma from true value\n"
     ]
    }
   ],
   "source": [
    "print(\"mean of std_0 = {0} +/- {1}, which is {2} sigma from true value\".format(\n",
    "    np.mean(std_0),\n",
    "    np.std(std_0)/np.sqrt(N_trials),\n",
    "    (np.mean(std_0)-1.)/(np.std(std_0)/np.sqrt(N_trials))\n",
    "    ))"
   ]
  },
  {
   "cell_type": "code",
   "execution_count": 61,
   "metadata": {},
   "outputs": [
    {
     "name": "stdout",
     "output_type": "stream",
     "text": [
      "mean of std_1 = 0.9729664187925469 +/- 0.000733822053511763, which is -36.83942323357797 sigma from true value\n"
     ]
    }
   ],
   "source": [
    "print(\"mean of std_1 = {0} +/- {1}, which is {2} sigma from true value\".format(\n",
    "    np.mean(std_1),\n",
    "    np.std(std_1)/np.sqrt(N_trials),\n",
    "    (np.mean(std_1)-1.)/(np.std(std_1)/np.sqrt(N_trials))\n",
    "    ))"
   ]
  },
  {
   "cell_type": "code",
   "execution_count": 63,
   "metadata": {},
   "outputs": [
    {
     "data": {
      "image/png": "[encoded data removed]",
      "text/plain": [
       "<Figure size 432x288 with 1 Axes>"
      ]
     },
     "metadata": {
      "needs_background": "light"
     },
     "output_type": "display_data"
    }
   ],
   "source": [
    "bins = np.linspace(std_1.min(),std_1.max(),100)\n",
    "_ = plt.hist(std_0, bins=bins, density=True, alpha=.3, label='std(x, ddof=0)')\n",
    "_ = plt.hist(std_1, bins=bins, density=True, alpha=.3, label='std(x, ddof=1)')\n",
    "plt.vlines(np.mean(std_0),0,1, label='mean std(x, ddof=0)')\n",
    "plt.vlines(np.mean(std_1),0,1, color='r', label='mean std(x, ddof=1)')\n",
    "plt.vlines(1,0,1, color='black', ls='dashed',label='true standard deviation')\n",
    "plt.xlabel('standard deviation estimator')\n",
    "plt.legend();"
   ]
  },
  {
   "cell_type": "markdown",
   "metadata": {},
   "source": [
    "**Warning** The bias estimator is not equivariant to transformation of the estimator/estimand. This follows from the transformation properties of the the distribution when changing random variables, the Jacobian factor influences the mean.  \n",
    "\n",
    "**Corrolary** What is the motivation for $\\texttt{np.std(x,ddof=1)} = \\sqrt{S^2} = \\sqrt{{\\color{#0271AE}{\\frac{1}{N-1}}} \\sum_{i=1}^N (x_i - \\bar{x})^2}$?\n",
    "\n",
    "\n"
   ]
  },
  {
   "cell_type": "code",
   "execution_count": null,
   "metadata": {},
   "outputs": [],
   "source": []
  }
 ],
 "metadata": {
  "kernelspec": {
   "display_name": "Python 3",
   "language": "python",
   "name": "python3"
  },
  "language_info": {
   "codemirror_mode": {
    "name": "ipython",
    "version": 3
   },
   "file_extension": ".py",
   "mimetype": "text/x-python",
   "name": "python",
   "nbconvert_exporter": "python",
   "pygments_lexer": "ipython3",
   "version": "3.8.5"
  }
 },
 "nbformat": 4,
 "nbformat_minor": 4
}
