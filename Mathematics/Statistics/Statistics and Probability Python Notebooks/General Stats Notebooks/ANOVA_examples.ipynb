{
 "cells": [
  {
   "cell_type": "markdown",
   "id": "sharp-blank",
   "metadata": {},
   "source": [
    "# Create data"
   ]
  },
  {
   "cell_type": "code",
   "execution_count": 1,
   "id": "artistic-arctic",
   "metadata": {
    "ExecuteTime": {
     "end_time": "2021-03-11T12:42:41.481895Z",
     "start_time": "2021-03-11T12:42:40.979319Z"
    }
   },
   "outputs": [],
   "source": [
    "import pandas as pd\n",
    "import numpy as np\n",
    "from scipy.stats import f_oneway\n",
    "from statsmodels.formula.api import ols\n",
    "from statsmodels.stats.anova import anova_lm\n",
    "from statsmodels.stats.multicomp import MultiComparison\n",
    "from statsmodels.graphics.gofplots import qqplot\n",
    "import warnings\n",
    "from IPython.display import display, Math, Latex, Markdown\n",
    "\n",
    "warnings.filterwarnings(\"ignore\")"
   ]
  },
  {
   "cell_type": "code",
   "execution_count": 2,
   "id": "drawn-system",
   "metadata": {
    "ExecuteTime": {
     "end_time": "2021-03-11T12:42:41.522414Z",
     "start_time": "2021-03-11T12:42:41.483144Z"
    }
   },
   "outputs": [],
   "source": [
    "cotton_weight_percent = [\n",
    "    15,\n",
    "    15,\n",
    "    15,\n",
    "    15,\n",
    "    15,\n",
    "    20,\n",
    "    20,\n",
    "    20,\n",
    "    20,\n",
    "    20,\n",
    "    25,\n",
    "    25,\n",
    "    25,\n",
    "    25,\n",
    "    25,\n",
    "    30,\n",
    "    30,\n",
    "    30,\n",
    "    30,\n",
    "    30,\n",
    "    35,\n",
    "    35,\n",
    "    35,\n",
    "    35,\n",
    "    35,\n",
    "]\n",
    "observations = [\n",
    "    7,\n",
    "    7,\n",
    "    15,\n",
    "    11,\n",
    "    9,\n",
    "    12,\n",
    "    16,\n",
    "    12,\n",
    "    18,\n",
    "    18,\n",
    "    14,\n",
    "    19,\n",
    "    19,\n",
    "    18,\n",
    "    18,\n",
    "    19,\n",
    "    25,\n",
    "    22,\n",
    "    19,\n",
    "    23,\n",
    "    7,\n",
    "    10,\n",
    "    11,\n",
    "    15,\n",
    "    11,\n",
    "]"
   ]
  },
  {
   "cell_type": "code",
   "execution_count": 3,
   "id": "pending-graph",
   "metadata": {
    "ExecuteTime": {
     "end_time": "2021-03-11T12:42:41.528331Z",
     "start_time": "2021-03-11T12:42:41.523408Z"
    }
   },
   "outputs": [],
   "source": [
    "df = pd.DataFrame(\n",
    "    {\"observations\": observations, \"cotton_weight_percent\": cotton_weight_percent}\n",
    ")"
   ]
  },
  {
   "cell_type": "code",
   "execution_count": 4,
   "id": "statewide-valuation",
   "metadata": {
    "ExecuteTime": {
     "end_time": "2021-03-11T12:42:41.543020Z",
     "start_time": "2021-03-11T12:42:41.529300Z"
    }
   },
   "outputs": [
    {
     "data": {
      "text/html": [
       "<div>\n",
       "<style scoped>\n",
       "    .dataframe tbody tr th:only-of-type {\n",
       "        vertical-align: middle;\n",
       "    }\n",
       "\n",
       "    .dataframe tbody tr th {\n",
       "        vertical-align: top;\n",
       "    }\n",
       "\n",
       "    .dataframe thead th {\n",
       "        text-align: right;\n",
       "    }\n",
       "</style>\n",
       "<table border=\"1\" class=\"dataframe\">\n",
       "  <thead>\n",
       "    <tr style=\"text-align: right;\">\n",
       "      <th></th>\n",
       "      <th>observations</th>\n",
       "      <th>cotton_weight_percent</th>\n",
       "    </tr>\n",
       "  </thead>\n",
       "  <tbody>\n",
       "    <tr>\n",
       "      <th>0</th>\n",
       "      <td>7</td>\n",
       "      <td>15</td>\n",
       "    </tr>\n",
       "    <tr>\n",
       "      <th>1</th>\n",
       "      <td>7</td>\n",
       "      <td>15</td>\n",
       "    </tr>\n",
       "    <tr>\n",
       "      <th>2</th>\n",
       "      <td>15</td>\n",
       "      <td>15</td>\n",
       "    </tr>\n",
       "    <tr>\n",
       "      <th>3</th>\n",
       "      <td>11</td>\n",
       "      <td>15</td>\n",
       "    </tr>\n",
       "    <tr>\n",
       "      <th>4</th>\n",
       "      <td>9</td>\n",
       "      <td>15</td>\n",
       "    </tr>\n",
       "    <tr>\n",
       "      <th>5</th>\n",
       "      <td>12</td>\n",
       "      <td>20</td>\n",
       "    </tr>\n",
       "    <tr>\n",
       "      <th>6</th>\n",
       "      <td>16</td>\n",
       "      <td>20</td>\n",
       "    </tr>\n",
       "    <tr>\n",
       "      <th>7</th>\n",
       "      <td>12</td>\n",
       "      <td>20</td>\n",
       "    </tr>\n",
       "    <tr>\n",
       "      <th>8</th>\n",
       "      <td>18</td>\n",
       "      <td>20</td>\n",
       "    </tr>\n",
       "    <tr>\n",
       "      <th>9</th>\n",
       "      <td>18</td>\n",
       "      <td>20</td>\n",
       "    </tr>\n",
       "    <tr>\n",
       "      <th>10</th>\n",
       "      <td>14</td>\n",
       "      <td>25</td>\n",
       "    </tr>\n",
       "    <tr>\n",
       "      <th>11</th>\n",
       "      <td>19</td>\n",
       "      <td>25</td>\n",
       "    </tr>\n",
       "    <tr>\n",
       "      <th>12</th>\n",
       "      <td>19</td>\n",
       "      <td>25</td>\n",
       "    </tr>\n",
       "    <tr>\n",
       "      <th>13</th>\n",
       "      <td>18</td>\n",
       "      <td>25</td>\n",
       "    </tr>\n",
       "    <tr>\n",
       "      <th>14</th>\n",
       "      <td>18</td>\n",
       "      <td>25</td>\n",
       "    </tr>\n",
       "    <tr>\n",
       "      <th>15</th>\n",
       "      <td>19</td>\n",
       "      <td>30</td>\n",
       "    </tr>\n",
       "    <tr>\n",
       "      <th>16</th>\n",
       "      <td>25</td>\n",
       "      <td>30</td>\n",
       "    </tr>\n",
       "    <tr>\n",
       "      <th>17</th>\n",
       "      <td>22</td>\n",
       "      <td>30</td>\n",
       "    </tr>\n",
       "    <tr>\n",
       "      <th>18</th>\n",
       "      <td>19</td>\n",
       "      <td>30</td>\n",
       "    </tr>\n",
       "    <tr>\n",
       "      <th>19</th>\n",
       "      <td>23</td>\n",
       "      <td>30</td>\n",
       "    </tr>\n",
       "    <tr>\n",
       "      <th>20</th>\n",
       "      <td>7</td>\n",
       "      <td>35</td>\n",
       "    </tr>\n",
       "    <tr>\n",
       "      <th>21</th>\n",
       "      <td>10</td>\n",
       "      <td>35</td>\n",
       "    </tr>\n",
       "    <tr>\n",
       "      <th>22</th>\n",
       "      <td>11</td>\n",
       "      <td>35</td>\n",
       "    </tr>\n",
       "    <tr>\n",
       "      <th>23</th>\n",
       "      <td>15</td>\n",
       "      <td>35</td>\n",
       "    </tr>\n",
       "    <tr>\n",
       "      <th>24</th>\n",
       "      <td>11</td>\n",
       "      <td>35</td>\n",
       "    </tr>\n",
       "  </tbody>\n",
       "</table>\n",
       "</div>"
      ],
      "text/plain": [
       "    observations  cotton_weight_percent\n",
       "0              7                     15\n",
       "1              7                     15\n",
       "2             15                     15\n",
       "3             11                     15\n",
       "4              9                     15\n",
       "5             12                     20\n",
       "6             16                     20\n",
       "7             12                     20\n",
       "8             18                     20\n",
       "9             18                     20\n",
       "10            14                     25\n",
       "11            19                     25\n",
       "12            19                     25\n",
       "13            18                     25\n",
       "14            18                     25\n",
       "15            19                     30\n",
       "16            25                     30\n",
       "17            22                     30\n",
       "18            19                     30\n",
       "19            23                     30\n",
       "20             7                     35\n",
       "21            10                     35\n",
       "22            11                     35\n",
       "23            15                     35\n",
       "24            11                     35"
      ]
     },
     "execution_count": 4,
     "metadata": {},
     "output_type": "execute_result"
    }
   ],
   "source": [
    "df"
   ]
  },
  {
   "cell_type": "markdown",
   "id": "romance-issue",
   "metadata": {},
   "source": [
    "# One-way ANOVA"
   ]
  },
  {
   "cell_type": "code",
   "execution_count": 5,
   "id": "rough-advertising",
   "metadata": {
    "ExecuteTime": {
     "end_time": "2021-03-11T12:42:41.566655Z",
     "start_time": "2021-03-11T12:42:41.544017Z"
    }
   },
   "outputs": [
    {
     "data": {
      "text/html": [
       "<table class=\"simpletable\">\n",
       "<caption>OLS Regression Results</caption>\n",
       "<tr>\n",
       "  <th>Dep. Variable:</th>      <td>observations</td>   <th>  R-squared:         </th> <td>   0.750</td>\n",
       "</tr>\n",
       "<tr>\n",
       "  <th>Model:</th>                   <td>OLS</td>       <th>  Adj. R-squared:    </th> <td>   0.699</td>\n",
       "</tr>\n",
       "<tr>\n",
       "  <th>Method:</th>             <td>Least Squares</td>  <th>  F-statistic:       </th> <td>   14.96</td>\n",
       "</tr>\n",
       "<tr>\n",
       "  <th>Date:</th>             <td>Thu, 03 Feb 2022</td> <th>  Prob (F-statistic):</th> <td>8.26e-06</td>\n",
       "</tr>\n",
       "<tr>\n",
       "  <th>Time:</th>                 <td>22:48:54</td>     <th>  Log-Likelihood:    </th> <td> -58.583</td>\n",
       "</tr>\n",
       "<tr>\n",
       "  <th>No. Observations:</th>      <td>    25</td>      <th>  AIC:               </th> <td>   127.2</td>\n",
       "</tr>\n",
       "<tr>\n",
       "  <th>Df Residuals:</th>          <td>    20</td>      <th>  BIC:               </th> <td>   133.3</td>\n",
       "</tr>\n",
       "<tr>\n",
       "  <th>Df Model:</th>              <td>     4</td>      <th>                     </th>     <td> </td>   \n",
       "</tr>\n",
       "<tr>\n",
       "  <th>Covariance Type:</th>      <td>nonrobust</td>    <th>                     </th>     <td> </td>   \n",
       "</tr>\n",
       "</table>\n",
       "<table class=\"simpletable\">\n",
       "<tr>\n",
       "                 <td></td>                   <th>coef</th>     <th>std err</th>      <th>t</th>      <th>P>|t|</th>  <th>[0.025</th>    <th>0.975]</th>  \n",
       "</tr>\n",
       "<tr>\n",
       "  <th>Intercept</th>                      <td>    9.8000</td> <td>    1.260</td> <td>    7.777</td> <td> 0.000</td> <td>    7.171</td> <td>   12.429</td>\n",
       "</tr>\n",
       "<tr>\n",
       "  <th>C(cotton_weight_percent)[T.20]</th> <td>    5.4000</td> <td>    1.782</td> <td>    3.030</td> <td> 0.007</td> <td>    1.683</td> <td>    9.117</td>\n",
       "</tr>\n",
       "<tr>\n",
       "  <th>C(cotton_weight_percent)[T.25]</th> <td>    7.8000</td> <td>    1.782</td> <td>    4.377</td> <td> 0.000</td> <td>    4.083</td> <td>   11.517</td>\n",
       "</tr>\n",
       "<tr>\n",
       "  <th>C(cotton_weight_percent)[T.30]</th> <td>   11.8000</td> <td>    1.782</td> <td>    6.621</td> <td> 0.000</td> <td>    8.083</td> <td>   15.517</td>\n",
       "</tr>\n",
       "<tr>\n",
       "  <th>C(cotton_weight_percent)[T.35]</th> <td>    1.0000</td> <td>    1.782</td> <td>    0.561</td> <td> 0.581</td> <td>   -2.717</td> <td>    4.717</td>\n",
       "</tr>\n",
       "</table>\n",
       "<table class=\"simpletable\">\n",
       "<tr>\n",
       "  <th>Omnibus:</th>       <td> 1.322</td> <th>  Durbin-Watson:     </th> <td>   2.347</td>\n",
       "</tr>\n",
       "<tr>\n",
       "  <th>Prob(Omnibus):</th> <td> 0.516</td> <th>  Jarque-Bera (JB):  </th> <td>   0.949</td>\n",
       "</tr>\n",
       "<tr>\n",
       "  <th>Skew:</th>          <td> 0.154</td> <th>  Prob(JB):          </th> <td>   0.622</td>\n",
       "</tr>\n",
       "<tr>\n",
       "  <th>Kurtosis:</th>      <td> 2.096</td> <th>  Cond. No.          </th> <td>    5.83</td>\n",
       "</tr>\n",
       "</table><br/><br/>Notes:<br/>[1] Standard Errors assume that the covariance matrix of the errors is correctly specified."
      ],
      "text/plain": [
       "<class 'statsmodels.iolib.summary.Summary'>\n",
       "\"\"\"\n",
       "                            OLS Regression Results                            \n",
       "==============================================================================\n",
       "Dep. Variable:           observations   R-squared:                       0.750\n",
       "Model:                            OLS   Adj. R-squared:                  0.699\n",
       "Method:                 Least Squares   F-statistic:                     14.96\n",
       "Date:                Thu, 03 Feb 2022   Prob (F-statistic):           8.26e-06\n",
       "Time:                        22:48:54   Log-Likelihood:                -58.583\n",
       "No. Observations:                  25   AIC:                             127.2\n",
       "Df Residuals:                      20   BIC:                             133.3\n",
       "Df Model:                           4                                         \n",
       "Covariance Type:            nonrobust                                         \n",
       "==================================================================================================\n",
       "                                     coef    std err          t      P>|t|      [0.025      0.975]\n",
       "--------------------------------------------------------------------------------------------------\n",
       "Intercept                          9.8000      1.260      7.777      0.000       7.171      12.429\n",
       "C(cotton_weight_percent)[T.20]     5.4000      1.782      3.030      0.007       1.683       9.117\n",
       "C(cotton_weight_percent)[T.25]     7.8000      1.782      4.377      0.000       4.083      11.517\n",
       "C(cotton_weight_percent)[T.30]    11.8000      1.782      6.621      0.000       8.083      15.517\n",
       "C(cotton_weight_percent)[T.35]     1.0000      1.782      0.561      0.581      -2.717       4.717\n",
       "==============================================================================\n",
       "Omnibus:                        1.322   Durbin-Watson:                   2.347\n",
       "Prob(Omnibus):                  0.516   Jarque-Bera (JB):                0.949\n",
       "Skew:                           0.154   Prob(JB):                        0.622\n",
       "Kurtosis:                       2.096   Cond. No.                         5.83\n",
       "==============================================================================\n",
       "\n",
       "Notes:\n",
       "[1] Standard Errors assume that the covariance matrix of the errors is correctly specified.\n",
       "\"\"\""
      ]
     },
     "execution_count": 5,
     "metadata": {},
     "output_type": "execute_result"
    }
   ],
   "source": [
    "model = ols(\"observations ~ C(cotton_weight_percent)\", df).fit()\n",
    "model.summary()"
   ]
  },
  {
   "cell_type": "code",
   "execution_count": 6,
   "id": "upset-carrier",
   "metadata": {
    "ExecuteTime": {
     "end_time": "2021-03-11T12:42:41.575744Z",
     "start_time": "2021-03-11T12:42:41.568652Z"
    }
   },
   "outputs": [],
   "source": [
    "res = anova_lm(model, typ=1)"
   ]
  },
  {
   "cell_type": "code",
   "execution_count": 7,
   "id": "painted-creature",
   "metadata": {
    "ExecuteTime": {
     "end_time": "2021-03-11T12:42:41.589563Z",
     "start_time": "2021-03-11T12:42:41.577282Z"
    }
   },
   "outputs": [],
   "source": [
    "def model_evaluation(\n",
    "    model,\n",
    "    independent_name: str = \"cotton\",\n",
    "    dependent_name: str = \"tensile strength\",\n",
    "    alpha=0.5,\n",
    "):\n",
    "    p_value = model.f_pvalue\n",
    "    display(\n",
    "        Markdown(\n",
    "            f\"\"\"\n",
    "**Null hypothesis**: All means are equal.<br>\n",
    "**Alternative hypothesis**: Not all mean are equal<br>\n",
    "**Significance level**: α = {alpha}\n",
    "\n",
    "The F-statistic of the model is {round(model.fvalue, 6)}. The p-value of the model is {round(p_value, 6)}.\"\"\"\n",
    "        )\n",
    "    )\n",
    "    if p_value > alpha:\n",
    "        display(\n",
    "            Markdown(\n",
    "                f\"\"\"Since the p-value is greater than the significance level of {alpha}, the differences between the means are not statistically significant.\"\"\"\n",
    "            )\n",
    "        )\n",
    "    else:\n",
    "        display(\n",
    "            Markdown(\n",
    "                f\"\"\"Since the p-value is less than the significance level of {alpha}, there is enough evidence to claim that the differences between some of the means are statistically significant.\"\"\"\n",
    "            )\n",
    "        )"
   ]
  },
  {
   "cell_type": "code",
   "execution_count": 8,
   "id": "executed-shakespeare",
   "metadata": {
    "ExecuteTime": {
     "end_time": "2021-03-11T12:42:41.599988Z",
     "start_time": "2021-03-11T12:42:41.590634Z"
    }
   },
   "outputs": [
    {
     "data": {
      "text/markdown": [
       "\n",
       "**Null hypothesis**: All means are equal.<br>\n",
       "**Alternative hypothesis**: Not all mean are equal<br>\n",
       "**Significance level**: α = 0.5\n",
       "\n",
       "The F-statistic of the model is 14.962217. The p-value of the model is 8e-06."
      ],
      "text/plain": [
       "<IPython.core.display.Markdown object>"
      ]
     },
     "metadata": {},
     "output_type": "display_data"
    },
    {
     "data": {
      "text/markdown": [
       "Since the p-value is less than the significance level of 0.5, there is enough evidence to claim that the differences between some of the means are statistically significant."
      ],
      "text/plain": [
       "<IPython.core.display.Markdown object>"
      ]
     },
     "metadata": {},
     "output_type": "display_data"
    }
   ],
   "source": [
    "model_evaluation(model)"
   ]
  },
  {
   "cell_type": "markdown",
   "id": "linear-reaction",
   "metadata": {},
   "source": [
    "# Compare Each Pair of Means Using Tukey's HSD"
   ]
  },
  {
   "cell_type": "code",
   "execution_count": 9,
   "id": "rotary-anniversary",
   "metadata": {
    "ExecuteTime": {
     "end_time": "2021-03-11T12:42:41.654383Z",
     "start_time": "2021-03-11T12:42:41.601439Z"
    }
   },
   "outputs": [],
   "source": [
    "comparison = MultiComparison(df[\"observations\"], df[\"cotton_weight_percent\"])\n",
    "comparison_results = comparison.tukeyhsd()"
   ]
  },
  {
   "cell_type": "code",
   "execution_count": 10,
   "id": "canadian-accent",
   "metadata": {
    "ExecuteTime": {
     "end_time": "2021-03-11T12:42:41.662076Z",
     "start_time": "2021-03-11T12:42:41.655612Z"
    }
   },
   "outputs": [
    {
     "data": {
      "text/html": [
       "<table class=\"simpletable\">\n",
       "<caption>Multiple Comparison of Means - Tukey HSD, FWER=0.05</caption>\n",
       "<tr>\n",
       "  <th>group1</th> <th>group2</th> <th>meandiff</th>  <th>p-adj</th>   <th>lower</th>   <th>upper</th>  <th>reject</th>\n",
       "</tr>\n",
       "<tr>\n",
       "    <td>15</td>     <td>20</td>      <td>5.4</td>   <td>0.0463</td>  <td>0.0668</td>  <td>10.7332</td>  <td>True</td> \n",
       "</tr>\n",
       "<tr>\n",
       "    <td>15</td>     <td>25</td>      <td>7.8</td>   <td>0.0024</td>  <td>2.4668</td>  <td>13.1332</td>  <td>True</td> \n",
       "</tr>\n",
       "<tr>\n",
       "    <td>15</td>     <td>30</td>     <td>11.8</td>    <td>0.001</td>  <td>6.4668</td>  <td>17.1332</td>  <td>True</td> \n",
       "</tr>\n",
       "<tr>\n",
       "    <td>15</td>     <td>35</td>      <td>1.0</td>     <td>0.9</td>   <td>-4.3332</td> <td>6.3332</td>   <td>False</td>\n",
       "</tr>\n",
       "<tr>\n",
       "    <td>20</td>     <td>25</td>      <td>2.4</td>   <td>0.6493</td>  <td>-2.9332</td> <td>7.7332</td>   <td>False</td>\n",
       "</tr>\n",
       "<tr>\n",
       "    <td>20</td>     <td>30</td>      <td>6.4</td>    <td>0.014</td>  <td>1.0668</td>  <td>11.7332</td>  <td>True</td> \n",
       "</tr>\n",
       "<tr>\n",
       "    <td>20</td>     <td>35</td>     <td>-4.4</td>   <td>0.1379</td>  <td>-9.7332</td> <td>0.9332</td>   <td>False</td>\n",
       "</tr>\n",
       "<tr>\n",
       "    <td>25</td>     <td>30</td>      <td>4.0</td>   <td>0.2043</td>  <td>-1.3332</td> <td>9.3332</td>   <td>False</td>\n",
       "</tr>\n",
       "<tr>\n",
       "    <td>25</td>     <td>35</td>     <td>-6.8</td>   <td>0.0085</td> <td>-12.1332</td> <td>-1.4668</td>  <td>True</td> \n",
       "</tr>\n",
       "<tr>\n",
       "    <td>30</td>     <td>35</td>     <td>-10.8</td>   <td>0.001</td> <td>-16.1332</td> <td>-5.4668</td>  <td>True</td> \n",
       "</tr>\n",
       "</table>"
      ],
      "text/plain": [
       "<class 'statsmodels.iolib.table.SimpleTable'>"
      ]
     },
     "execution_count": 10,
     "metadata": {},
     "output_type": "execute_result"
    }
   ],
   "source": [
    "comparison_results.summary()"
   ]
  },
  {
   "cell_type": "code",
   "execution_count": 11,
   "id": "actual-recall",
   "metadata": {
    "ExecuteTime": {
     "end_time": "2021-03-11T12:42:41.930238Z",
     "start_time": "2021-03-11T12:42:41.663347Z"
    }
   },
   "outputs": [
    {
     "data": {
      "image/png": "[encoded data removed]",
      "text/plain": [
       "<Figure size 720x432 with 1 Axes>"
      ]
     },
     "metadata": {
      "needs_background": "light"
     },
     "output_type": "display_data"
    }
   ],
   "source": [
    "fig_15 = comparison_results.plot_simultaneous(comparison_name=15)"
   ]
  },
  {
   "cell_type": "code",
   "execution_count": 12,
   "id": "current-dakota",
   "metadata": {
    "ExecuteTime": {
     "end_time": "2021-03-11T12:42:42.035571Z",
     "start_time": "2021-03-11T12:42:41.931222Z"
    }
   },
   "outputs": [
    {
     "data": {
      "image/png": "[encoded data removed]",
      "text/plain": [
       "<Figure size 720x432 with 1 Axes>"
      ]
     },
     "metadata": {
      "needs_background": "light"
     },
     "output_type": "display_data"
    }
   ],
   "source": [
    "fig_20 = comparison_results.plot_simultaneous(comparison_name=20)"
   ]
  },
  {
   "cell_type": "code",
   "execution_count": 13,
   "id": "entire-soviet",
   "metadata": {
    "ExecuteTime": {
     "end_time": "2021-03-11T12:42:42.175621Z",
     "start_time": "2021-03-11T12:42:42.036487Z"
    }
   },
   "outputs": [
    {
     "data": {
      "image/png": "[encoded data removed]",
      "text/plain": [
       "<Figure size 720x432 with 1 Axes>"
      ]
     },
     "metadata": {
      "needs_background": "light"
     },
     "output_type": "display_data"
    }
   ],
   "source": [
    "fig_25 = comparison_results.plot_simultaneous(comparison_name=25)"
   ]
  },
  {
   "cell_type": "code",
   "execution_count": 14,
   "id": "tamil-couple",
   "metadata": {
    "ExecuteTime": {
     "end_time": "2021-03-11T12:42:42.349773Z",
     "start_time": "2021-03-11T12:42:42.176582Z"
    }
   },
   "outputs": [
    {
     "data": {
      "image/png": "[encoded data removed]",
      "text/plain": [
       "<Figure size 720x432 with 1 Axes>"
      ]
     },
     "metadata": {
      "needs_background": "light"
     },
     "output_type": "display_data"
    }
   ],
   "source": [
    "fig_30 = comparison_results.plot_simultaneous(comparison_name=30)"
   ]
  },
  {
   "cell_type": "code",
   "execution_count": 15,
   "id": "color-nickel",
   "metadata": {
    "ExecuteTime": {
     "end_time": "2021-03-11T12:42:42.453807Z",
     "start_time": "2021-03-11T12:42:42.351095Z"
    }
   },
   "outputs": [
    {
     "data": {
      "image/png": "[encoded data removed]",
      "text/plain": [
       "<Figure size 720x432 with 1 Axes>"
      ]
     },
     "metadata": {
      "needs_background": "light"
     },
     "output_type": "display_data"
    }
   ],
   "source": [
    "fig_35 = comparison_results.plot_simultaneous(comparison_name=35)"
   ]
  },
  {
   "cell_type": "markdown",
   "id": "incorrect-document",
   "metadata": {},
   "source": [
    "# Check model assumptions"
   ]
  },
  {
   "cell_type": "code",
   "execution_count": 16,
   "id": "weighted-period",
   "metadata": {
    "ExecuteTime": {
     "end_time": "2021-03-11T12:42:42.547920Z",
     "start_time": "2021-03-11T12:42:42.455001Z"
    }
   },
   "outputs": [
    {
     "data": {
      "image/png": "[encoded data removed]",
      "text/plain": [
       "<Figure size 432x288 with 1 Axes>"
      ]
     },
     "metadata": {
      "needs_background": "light"
     },
     "output_type": "display_data"
    }
   ],
   "source": [
    "residuals = model.resid\n",
    "plot = qqplot(residuals, line=\"s\")"
   ]
  },
  {
   "cell_type": "code",
   "execution_count": null,
   "id": "rubber-action",
   "metadata": {},
   "outputs": [],
   "source": []
  },
  {
   "cell_type": "code",
   "execution_count": null,
   "id": "71bc5daf",
   "metadata": {},
   "outputs": [],
   "source": []
  },
  {
   "cell_type": "code",
   "execution_count": null,
   "id": "90ab37d9",
   "metadata": {},
   "outputs": [],
   "source": []
  },
  {
   "cell_type": "code",
   "execution_count": null,
   "id": "6329d361",
   "metadata": {},
   "outputs": [],
   "source": []
  },
  {
   "cell_type": "code",
   "execution_count": null,
   "id": "b62d46e4",
   "metadata": {},
   "outputs": [],
   "source": []
  }
 ],
 "metadata": {
  "kernelspec": {
   "display_name": "Python 3 (ipykernel)",
   "language": "python",
   "name": "python3"
  },
  "language_info": {
   "codemirror_mode": {
    "name": "ipython",
    "version": 3
   },
   "file_extension": ".py",
   "mimetype": "text/x-python",
   "name": "python",
   "nbconvert_exporter": "python",
   "pygments_lexer": "ipython3",
   "version": "3.9.9"
  },
  "toc": {
   "base_numbering": 1,
   "nav_menu": {},
   "number_sections": true,
   "sideBar": true,
   "skip_h1_title": false,
   "title_cell": "Table of Contents",
   "title_sidebar": "Contents",
   "toc_cell": false,
   "toc_position": {},
   "toc_section_display": true,
   "toc_window_display": false
  },
  "varInspector": {
   "cols": {
    "lenName": 16,
    "lenType": 16,
    "lenVar": 40
   },
   "kernels_config": {
    "python": {
     "delete_cmd_postfix": "",
     "delete_cmd_prefix": "del ",
     "library": "var_list.py",
     "varRefreshCmd": "print(var_dic_list())"
    },
    "r": {
     "delete_cmd_postfix": ") ",
     "delete_cmd_prefix": "rm(",
     "library": "var_list.r",
     "varRefreshCmd": "cat(var_dic_list()) "
    }
   },
   "types_to_exclude": [
    "module",
    "function",
    "builtin_function_or_method",
    "instance",
    "_Feature"
   ],
   "window_display": false
  }
 },
 "nbformat": 4,
 "nbformat_minor": 5
}
