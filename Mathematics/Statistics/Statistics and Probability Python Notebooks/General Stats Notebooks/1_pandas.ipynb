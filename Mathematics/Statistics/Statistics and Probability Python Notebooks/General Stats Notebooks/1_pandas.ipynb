{
 "cells": [
  {
   "cell_type": "markdown",
   "metadata": {},
   "source": [
    "# 7.1. Exploring a dataset with pandas and matplotlib"
   ]
  },
  {
   "cell_type": "code",
   "execution_count": 1,
   "metadata": {},
   "outputs": [],
   "source": [
    "from datetime import datetime\n",
    "import numpy as np\n",
    "import pandas as pd\n",
    "import matplotlib.pyplot as plt\n",
    "%matplotlib inline"
   ]
  },
  {
   "cell_type": "code",
   "execution_count": 2,
   "metadata": {},
   "outputs": [],
   "source": [
    "player = 'Roger Federer'\n",
    "df = pd.read_csv('https://github.com/ipython-books/'\n",
    "                 'cookbook-2nd-data/blob/master/'\n",
    "                 'federer.csv?raw=true',\n",
    "                 parse_dates=['start date'],\n",
    "                 dayfirst=True)"
   ]
  },
  {
   "cell_type": "code",
   "execution_count": 3,
   "metadata": {
    "podoc": {
     "output_text": "Output image"
    }
   },
   "outputs": [
    {
     "data": {
      "text/html": [
       "<div>\n",
       "<style scoped>\n",
       "    .dataframe tbody tr th:only-of-type {\n",
       "        vertical-align: middle;\n",
       "    }\n",
       "\n",
       "    .dataframe tbody tr th {\n",
       "        vertical-align: top;\n",
       "    }\n",
       "\n",
       "    .dataframe thead th {\n",
       "        text-align: right;\n",
       "    }\n",
       "</style>\n",
       "<table border=\"1\" class=\"dataframe\">\n",
       "  <thead>\n",
       "    <tr style=\"text-align: right;\">\n",
       "      <th></th>\n",
       "      <th>year</th>\n",
       "      <th>tournament</th>\n",
       "      <th>start date</th>\n",
       "      <th>type</th>\n",
       "      <th>surface</th>\n",
       "      <th>draw</th>\n",
       "      <th>atp points</th>\n",
       "      <th>atp ranking</th>\n",
       "      <th>tournament prize money</th>\n",
       "      <th>round</th>\n",
       "      <th>...</th>\n",
       "      <th>player2 2nd serve return points total</th>\n",
       "      <th>player2 break points converted won</th>\n",
       "      <th>player2 break points converted total</th>\n",
       "      <th>player2 return games played</th>\n",
       "      <th>player2 total service points won</th>\n",
       "      <th>player2 total service points total</th>\n",
       "      <th>player2 total return points won</th>\n",
       "      <th>player2 total return points total</th>\n",
       "      <th>player2 total points won</th>\n",
       "      <th>player2 total points total</th>\n",
       "    </tr>\n",
       "  </thead>\n",
       "  <tbody>\n",
       "    <tr>\n",
       "      <th>0</th>\n",
       "      <td>1998</td>\n",
       "      <td>Basel, Switzerland</td>\n",
       "      <td>1998-10-05</td>\n",
       "      <td>WS</td>\n",
       "      <td>Indoor: Hard</td>\n",
       "      <td>Draw: 32</td>\n",
       "      <td>1</td>\n",
       "      <td>396.0</td>\n",
       "      <td>$9,800</td>\n",
       "      <td>R32</td>\n",
       "      <td>...</td>\n",
       "      <td>22.0</td>\n",
       "      <td>4.0</td>\n",
       "      <td>8.0</td>\n",
       "      <td>8.0</td>\n",
       "      <td>36.0</td>\n",
       "      <td>50.0</td>\n",
       "      <td>26.0</td>\n",
       "      <td>53.0</td>\n",
       "      <td>62.0</td>\n",
       "      <td>103.0</td>\n",
       "    </tr>\n",
       "    <tr>\n",
       "      <th>1</th>\n",
       "      <td>1998</td>\n",
       "      <td>Toulouse, France</td>\n",
       "      <td>1998-09-28</td>\n",
       "      <td>WS</td>\n",
       "      <td>Indoor: Hard</td>\n",
       "      <td>Draw: 32</td>\n",
       "      <td>59</td>\n",
       "      <td>878.0</td>\n",
       "      <td>$10,800</td>\n",
       "      <td>R32</td>\n",
       "      <td>...</td>\n",
       "      <td>19.0</td>\n",
       "      <td>0.0</td>\n",
       "      <td>1.0</td>\n",
       "      <td>8.0</td>\n",
       "      <td>33.0</td>\n",
       "      <td>65.0</td>\n",
       "      <td>8.0</td>\n",
       "      <td>41.0</td>\n",
       "      <td>41.0</td>\n",
       "      <td>106.0</td>\n",
       "    </tr>\n",
       "    <tr>\n",
       "      <th>2</th>\n",
       "      <td>1998</td>\n",
       "      <td>Toulouse, France</td>\n",
       "      <td>1998-09-28</td>\n",
       "      <td>WS</td>\n",
       "      <td>Indoor: Hard</td>\n",
       "      <td>Draw: 32</td>\n",
       "      <td>59</td>\n",
       "      <td>878.0</td>\n",
       "      <td>$10,800</td>\n",
       "      <td>R16</td>\n",
       "      <td>...</td>\n",
       "      <td>30.0</td>\n",
       "      <td>0.0</td>\n",
       "      <td>4.0</td>\n",
       "      <td>10.0</td>\n",
       "      <td>46.0</td>\n",
       "      <td>75.0</td>\n",
       "      <td>23.0</td>\n",
       "      <td>73.0</td>\n",
       "      <td>69.0</td>\n",
       "      <td>148.0</td>\n",
       "    </tr>\n",
       "  </tbody>\n",
       "</table>\n",
       "<p>3 rows × 70 columns</p>\n",
       "</div>"
      ],
      "text/plain": [
       "   year          tournament start date type       surface      draw  \\\n",
       "0  1998  Basel, Switzerland 1998-10-05   WS  Indoor: Hard  Draw: 32   \n",
       "1  1998    Toulouse, France 1998-09-28   WS  Indoor: Hard  Draw: 32   \n",
       "2  1998    Toulouse, France 1998-09-28   WS  Indoor: Hard  Draw: 32   \n",
       "\n",
       "  atp points  atp ranking tournament prize money round  ...  \\\n",
       "0          1        396.0                 $9,800   R32  ...   \n",
       "1         59        878.0                $10,800   R32  ...   \n",
       "2         59        878.0                $10,800   R16  ...   \n",
       "\n",
       "  player2 2nd serve return points total player2 break points converted won  \\\n",
       "0                                  22.0                                4.0   \n",
       "1                                  19.0                                0.0   \n",
       "2                                  30.0                                0.0   \n",
       "\n",
       "  player2 break points converted total player2 return games played  \\\n",
       "0                                  8.0                         8.0   \n",
       "1                                  1.0                         8.0   \n",
       "2                                  4.0                        10.0   \n",
       "\n",
       "  player2 total service points won player2 total service points total  \\\n",
       "0                             36.0                               50.0   \n",
       "1                             33.0                               65.0   \n",
       "2                             46.0                               75.0   \n",
       "\n",
       "   player2 total return points won player2 total return points total  \\\n",
       "0                             26.0                              53.0   \n",
       "1                              8.0                              41.0   \n",
       "2                             23.0                              73.0   \n",
       "\n",
       "  player2 total points won player2 total points total  \n",
       "0                     62.0                      103.0  \n",
       "1                     41.0                      106.0  \n",
       "2                     69.0                      148.0  \n",
       "\n",
       "[3 rows x 70 columns]"
      ]
     },
     "execution_count": 3,
     "metadata": {},
     "output_type": "execute_result"
    }
   ],
   "source": [
    "df.head(3)"
   ]
  },
  {
   "cell_type": "code",
   "execution_count": 4,
   "metadata": {},
   "outputs": [
    {
     "data": {
      "text/plain": [
       "1174    False\n",
       "1175     True\n",
       "1176     True\n",
       "1177     True\n",
       "1178    False\n",
       "Name: win, dtype: bool"
      ]
     },
     "execution_count": 4,
     "metadata": {},
     "output_type": "execute_result"
    }
   ],
   "source": [
    "df['win'] = df['winner'] == player\n",
    "df['win'].tail()"
   ]
  },
  {
   "cell_type": "code",
   "execution_count": 5,
   "metadata": {},
   "outputs": [
    {
     "name": "stdout",
     "output_type": "stream",
     "text": [
      "Roger Federer has won 82% of his matches.\n"
     ]
    }
   ],
   "source": [
    "won = 100 * df['win'].mean()\n",
    "print(f\"{player} has won {won:.0f}% of his matches.\")"
   ]
  },
  {
   "cell_type": "code",
   "execution_count": 6,
   "metadata": {},
   "outputs": [],
   "source": [
    "date = df['start date']"
   ]
  },
  {
   "cell_type": "code",
   "execution_count": 7,
   "metadata": {},
   "outputs": [],
   "source": [
    "df['dblfaults'] = (df['player1 double faults'] /\n",
    "                   df['player1 total points total'])"
   ]
  },
  {
   "cell_type": "code",
   "execution_count": 8,
   "metadata": {},
   "outputs": [
    {
     "data": {
      "text/plain": [
       "1174    0.018116\n",
       "1175    0.000000\n",
       "1176    0.000000\n",
       "1177    0.011561\n",
       "1178         NaN\n",
       "Name: dblfaults, dtype: float64"
      ]
     },
     "execution_count": 8,
     "metadata": {},
     "output_type": "execute_result"
    }
   ],
   "source": [
    "df['dblfaults'].tail()"
   ]
  },
  {
   "cell_type": "code",
   "execution_count": 9,
   "metadata": {},
   "outputs": [
    {
     "data": {
      "text/plain": [
       "count    1027.000000\n",
       "mean        0.012129\n",
       "std         0.010797\n",
       "min         0.000000\n",
       "25%         0.004444\n",
       "50%         0.010000\n",
       "75%         0.018108\n",
       "max         0.060606\n",
       "Name: dblfaults, dtype: float64"
      ]
     },
     "execution_count": 9,
     "metadata": {},
     "output_type": "execute_result"
    }
   ],
   "source": [
    "df['dblfaults'].describe()"
   ]
  },
  {
   "cell_type": "code",
   "execution_count": 10,
   "metadata": {},
   "outputs": [
    {
     "data": {
      "text/plain": [
       "surface\n",
       "Indoor: Carpet    0.736842\n",
       "Indoor: Clay      0.833333\n",
       "Indoor: Hard      0.836283\n",
       "Outdoor: Clay     0.779116\n",
       "Outdoor: Grass    0.871429\n",
       "Outdoor: Hard     0.842324\n",
       "Name: win, dtype: float64"
      ]
     },
     "execution_count": 10,
     "metadata": {},
     "output_type": "execute_result"
    }
   ],
   "source": [
    "df.groupby('surface')['win'].mean()"
   ]
  },
  {
   "cell_type": "code",
   "execution_count": 11,
   "metadata": {},
   "outputs": [],
   "source": [
    "gb = df.groupby('year')"
   ]
  },
  {
   "cell_type": "code",
   "execution_count": 19,
   "metadata": {
    "podoc": {
     "output_text": "Output image"
    }
   },
   "outputs": [
    {
     "ename": "AttributeError",
     "evalue": "type object 'datetime.datetime' has no attribute 'astype'",
     "output_type": "error",
     "traceback": [
      "\u001b[0;31m---------------------------------------------------------------------------\u001b[0m",
      "\u001b[0;31mAttributeError\u001b[0m                            Traceback (most recent call last)",
      "\u001b[0;32m<ipython-input-19-88b73cac08d3>\u001b[0m in \u001b[0;36m<module>\u001b[0;34m\u001b[0m\n\u001b[1;32m      1\u001b[0m \u001b[0mfig\u001b[0m\u001b[0;34m,\u001b[0m \u001b[0max\u001b[0m \u001b[0;34m=\u001b[0m \u001b[0mplt\u001b[0m\u001b[0;34m.\u001b[0m\u001b[0msubplots\u001b[0m\u001b[0;34m(\u001b[0m\u001b[0;36m1\u001b[0m\u001b[0;34m,\u001b[0m \u001b[0;36m1\u001b[0m\u001b[0;34m)\u001b[0m\u001b[0;34m\u001b[0m\u001b[0m\n\u001b[0;32m----> 2\u001b[0;31m ax.plot_date(datetime.astype(datetime), df['dblfaults'],\n\u001b[0m\u001b[1;32m      3\u001b[0m              alpha=.25, lw=0)\n\u001b[1;32m      4\u001b[0m ax.plot_date(gb['start date'].max().astype(datetime),\n\u001b[1;32m      5\u001b[0m              gb['dblfaults'].mean(), '-', lw=3)\n",
      "\u001b[0;31mAttributeError\u001b[0m: type object 'datetime.datetime' has no attribute 'astype'"
     ]
    },
    {
     "data": {
      "image/png": "[encoded data removed]",
      "text/plain": [
       "<Figure size 432x288 with 1 Axes>"
      ]
     },
     "metadata": {
      "needs_background": "light"
     },
     "output_type": "display_data"
    }
   ],
   "source": [
    "fig, ax = plt.subplots(1, 1)\n",
    "ax.plot_date(datetime.astype(datetime), df['dblfaults'],\n",
    "             alpha=.25, lw=0)\n",
    "ax.plot_date(gb['start date'].max().astype(datetime),\n",
    "             gb['dblfaults'].mean(), '-', lw=3)\n",
    "ax.set_xlabel('Year')\n",
    "ax.set_ylabel('Double faults per match')\n",
    "ax.set_ylim(0)"
   ]
  },
  {
   "cell_type": "code",
   "execution_count": null,
   "metadata": {},
   "outputs": [],
   "source": []
  }
 ],
 "metadata": {
  "kernelspec": {
   "display_name": "Python 3",
   "language": "python",
   "name": "python3"
  },
  "language_info": {
   "codemirror_mode": {
    "name": "ipython",
    "version": 3
   },
   "file_extension": ".py",
   "mimetype": "text/x-python",
   "name": "python",
   "nbconvert_exporter": "python",
   "pygments_lexer": "ipython3",
   "version": "3.7.0"
  }
 },
 "nbformat": 4,
 "nbformat_minor": 2
}
