{
 "cells": [
  {
   "cell_type": "code",
   "execution_count": null,
   "id": "70e924ed",
   "metadata": {},
   "outputs": [],
   "source": []
  },
  {
   "cell_type": "code",
   "execution_count": 1,
   "id": "93202449",
   "metadata": {},
   "outputs": [
    {
     "name": "stdout",
     "output_type": "stream",
     "text": [
      "Union : {0, 1, 2, 3, 4, 5, 6, 8}\n",
      "Intersection : {2, 4}\n",
      "Difference : {1, 3, 5}\n",
      "Symmetric difference : {0, 1, 3, 5, 6, 8}\n"
     ]
    }
   ],
   "source": [
    "A = {1, 2, 3, 4, 5}; \n",
    "B = {8, 2, 0, 4, 6}; \n",
    "  \n",
    "# union \n",
    "print(\"Union :\", A | B) \n",
    "  \n",
    "# intersection \n",
    "print(\"Intersection :\", A & B) \n",
    "  \n",
    "# difference \n",
    "print(\"Difference :\", A - B) \n",
    "  \n",
    "# symmetric difference \n",
    "print(\"Symmetric difference :\", A ^ B) \n",
    "\n"
   ]
  },
  {
   "cell_type": "markdown",
   "id": "3f2fee92",
   "metadata": {},
   "source": [
    "# Binomial Theorem"
   ]
  },
  {
   "cell_type": "code",
   "execution_count": 36,
   "id": "8c2a6534",
   "metadata": {},
   "outputs": [],
   "source": [
    "from math import factorial \n",
    "\n",
    "def binomial_coeff(n=1, r=0):\n",
    "    result = factorial(n)/(factorial(n-r)*factorial(r))\n",
    "    return result\n",
    "\n",
    "\n",
    "\n",
    "def part2(x,expon, n=5,r=0):\n",
    "    total = 0\n",
    "    while expon >= 0: #n cannot take values lesser than zero\n",
    "\n",
    "        v = binomial_coeff(n, r) * ((x ** expon) * (y ** r))\n",
    "\n",
    "        total += v\n",
    "\n",
    "        r += 1 #r has to increase by 1 each time\n",
    "        expon -= 1 # n decreases by 1 each time\n",
    "\n",
    "    if n<0:\n",
    "        print(\"no result,negative n, run again with positive n\")\n",
    "    else:\n",
    "        print(\"binomial expansion of (\" + str(x)+ \" + \"+ str(y) + \")^\" + str(n) + \" gives \", total)   "
   ]
  },
  {
   "cell_type": "code",
   "execution_count": 37,
   "id": "d99dc7ab",
   "metadata": {},
   "outputs": [
    {
     "name": "stdout",
     "output_type": "stream",
     "text": [
      "binomial expansion of (4 + 5)^5 gives  51625.0\n"
     ]
    }
   ],
   "source": [
    "part2(4,3, n=5,r=2)"
   ]
  },
  {
   "cell_type": "markdown",
   "id": "564be8a7",
   "metadata": {},
   "source": [
    "## Birthday Problem"
   ]
  },
  {
   "cell_type": "code",
   "execution_count": 38,
   "id": "3f190547",
   "metadata": {},
   "outputs": [],
   "source": [
    "from math import factorial as f\n",
    "def permutes(n,k):\n",
    "    P = f(n)/f(n-k)\n",
    "    return P\n",
    "\n",
    "def bpro(k):\n",
    "    '''calculates probability of 'k' people having birthday on the same day, not considering feb 29th''' \n",
    "    p = (permutes(365,k))/ 365**k\n",
    "    q = 1 - p\n",
    "    return q\n"
   ]
  },
  {
   "cell_type": "markdown",
   "id": "0ce34773",
   "metadata": {},
   "source": [
    "# Combinations"
   ]
  },
  {
   "cell_type": "code",
   "execution_count": 42,
   "id": "42799fd2",
   "metadata": {},
   "outputs": [],
   "source": [
    "from itertools import combinations \n",
    "import numpy as np  \n",
    "def combos(l, r): \n",
    "    '''returns a list of all subsets of ur list 'l',  of length r '''\n",
    "    return list(combinations(l, r)) "
   ]
  },
  {
   "cell_type": "markdown",
   "id": "09974ebd",
   "metadata": {},
   "source": [
    "# Dealing with Dupilcates in Combinations"
   ]
  },
  {
   "cell_type": "code",
   "execution_count": 45,
   "id": "e17aaa56",
   "metadata": {},
   "outputs": [],
   "source": [
    "from itertools import combinations \n",
    "import numpy as np  \n",
    "def duplicatecomb(l, r): \n",
    "    '''returns a list of all subsets of ur list 'l',  of length r '''\n",
    "    return set(list(combinations(l, r)))"
   ]
  },
  {
   "cell_type": "code",
   "execution_count": 47,
   "id": "2dd4c86f",
   "metadata": {},
   "outputs": [
    {
     "data": {
      "text/plain": [
       "{(1, 2), (1, 4), (2, 2), (2, 4)}"
      ]
     },
     "execution_count": 47,
     "metadata": {},
     "output_type": "execute_result"
    }
   ],
   "source": [
    "l = [1,2,2,4] #2 is duplicated\n",
    "r = 2\n",
    "duplicatecomb(l, r)"
   ]
  },
  {
   "cell_type": "markdown",
   "id": "77a3eebf",
   "metadata": {},
   "source": [
    "# Bakers Problem: - Combos With Repetion\n",
    "Assume that we have a set A with n elements. Any selection of r objects from A, where each object can be selected more than \n",
    "once, is called a combination of n objects taken r at a time with repetition.\n"
   ]
  },
  {
   "cell_type": "markdown",
   "id": "6be0ed81",
   "metadata": {},
   "source": [
    "A bakery boasts eight varieties of doughnuts. If a box of doughnuts contains one dozen, \n",
    "how many different options are there for a box of doughnuts?"
   ]
  },
  {
   "cell_type": "markdown",
   "id": "309df904",
   "metadata": {},
   "source": [
    "Answer: (r+k-1)C(r)"
   ]
  },
  {
   "cell_type": "code",
   "execution_count": 52,
   "id": "a7bc2ecb",
   "metadata": {},
   "outputs": [
    {
     "name": "stdout",
     "output_type": "stream",
     "text": [
      "[4 2 5]\n"
     ]
    },
    {
     "data": {
      "text/plain": [
       "50388"
      ]
     },
     "execution_count": 52,
     "metadata": {},
     "output_type": "execute_result"
    }
   ],
   "source": [
    "import random\n",
    "q = []\n",
    "a = np.arange(1,9) #types of doughnuts = k = 8\n",
    "l = a.tolist()\n",
    "r = 12  # how many doughnuts we need in one box, r>k\n",
    "\n",
    "random.shuffle(a)\n",
    "b = a[:(8)]\n",
    "random.shuffle(a)\n",
    "d = a[:3]\n",
    "print(d)\n",
    "d = d.tolist()\n",
    "b = b.tolist()\n",
    "c = l + b  #join both the lists \n",
    "\n",
    "\n",
    "c+d #--> this is a multiset, where since 12>8, here len(c+d) = r=k-1 = 19, since in the end we need to calculate 19C12 \n",
    "\n",
    "#duplicates of any of the 8 available\n",
    "p = list(combinations(c+d,r)) #diff 1 dozen combos of 8 doughnut varieties\n",
    "len(p)"
   ]
  },
  {
   "cell_type": "markdown",
   "id": "01638ccb",
   "metadata": {},
   "source": [
    "# de Montmort’s matching problem\n"
   ]
  },
  {
   "cell_type": "code",
   "execution_count": 58,
   "id": "79131791",
   "metadata": {},
   "outputs": [],
   "source": [
    "import numpy as np\n",
    "\n",
    "def sample(n,k):#typically solved using inclusion-exclusion principle\n",
    "    s = 0\n",
    "    for i in range(0,k):\n",
    "        c= np.arange(0,100)\n",
    "        random.shuffle(c)\n",
    "        g = np.arange(0,100)\n",
    "        random.shuffle(g)\n",
    "\n",
    "        count=0\n",
    "        for j in range(100):\n",
    "            if c[j] == g[j]:\n",
    "                count = count + 1\n",
    "        if count >= 1:\n",
    "            s = s + 1\n",
    "    print(f's ={s}')\n",
    "    p = s/k\n",
    "    return f'required probability = {p}'\n"
   ]
  },
  {
   "cell_type": "code",
   "execution_count": 59,
   "id": "68a8f546",
   "metadata": {},
   "outputs": [
    {
     "name": "stdout",
     "output_type": "stream",
     "text": [
      "s =12\n"
     ]
    },
    {
     "data": {
      "text/plain": [
       "'required probability = 0.631578947368421'"
      ]
     },
     "execution_count": 59,
     "metadata": {},
     "output_type": "execute_result"
    }
   ],
   "source": [
    "sample(2,19)"
   ]
  },
  {
   "cell_type": "markdown",
   "id": "112581ec",
   "metadata": {},
   "source": [
    "# Pascal's formula: \n",
    "$_{n-1}C_{k-1} + _{n-1}C_k = _nC_k$"
   ]
  },
  {
   "cell_type": "code",
   "execution_count": 66,
   "id": "df22a7c4",
   "metadata": {},
   "outputs": [],
   "source": [
    "def pascals(n,r):\n",
    "    a = np.arange(1,n+1)\n",
    "    random.shuffle(a)\n",
    "    l = list(combinations(a,r)) \n",
    "    n = len(a)\n",
    "    random.shuffle(a)\n",
    "    p = a[:(n-1)]\n",
    "    k = list(combinations(p,r-1))\n",
    "    random.shuffle(a)\n",
    "    j = a[:(n-1)]\n",
    "    m = list(combinations(j,r))\n",
    "    #print(\" nCk : \", l)\n",
    "    #print(\"(n-1)Ck : \", m)\n",
    "    #print('(n-1)C(k-1) :', k)\n",
    "    print(\" nCk : \", len(l))\n",
    "    print('(n-1)Ck : ',  len(m))\n",
    "    print('(n-1)C(k-1):',  len(k))\n"
   ]
  },
  {
   "cell_type": "code",
   "execution_count": 67,
   "id": "a5861d78",
   "metadata": {},
   "outputs": [
    {
     "name": "stdout",
     "output_type": "stream",
     "text": [
      " nCk :  10\n",
      "(n-1)Ck :  6\n",
      "(n-1)C(k-1): 4\n"
     ]
    }
   ],
   "source": [
    "pascals(5,2)"
   ]
  },
  {
   "cell_type": "markdown",
   "id": "bd3b50d4",
   "metadata": {},
   "source": [
    "# Built in Permutations"
   ]
  },
  {
   "cell_type": "code",
   "execution_count": 68,
   "id": "9042154b",
   "metadata": {},
   "outputs": [
    {
     "name": "stdout",
     "output_type": "stream",
     "text": [
      "[(1, 2), (1, 3), (1, 4), (2, 1), (2, 3), (2, 4), (3, 1), (3, 2), (3, 4), (4, 1), (4, 2), (4, 3)]\n",
      "total number = 12\n"
     ]
    }
   ],
   "source": [
    "from itertools import permutations\n",
    "l = [1,2,3,4]\n",
    "r=2\n",
    "def perm(l, r): \n",
    "  \n",
    "    \n",
    "    return list(permutations(l, r)) \n",
    "print(perm(l, r))\n",
    "print(\"total number =\",len(perm(l, r)))\n",
    "\n",
    "\n"
   ]
  },
  {
   "cell_type": "code",
   "execution_count": null,
   "id": "546938ee",
   "metadata": {},
   "outputs": [],
   "source": []
  }
 ],
 "metadata": {
  "kernelspec": {
   "display_name": "Python 3 (ipykernel)",
   "language": "python",
   "name": "python3"
  },
  "language_info": {
   "codemirror_mode": {
    "name": "ipython",
    "version": 3
   },
   "file_extension": ".py",
   "mimetype": "text/x-python",
   "name": "python",
   "nbconvert_exporter": "python",
   "pygments_lexer": "ipython3",
   "version": "3.9.10"
  }
 },
 "nbformat": 4,
 "nbformat_minor": 5
}
