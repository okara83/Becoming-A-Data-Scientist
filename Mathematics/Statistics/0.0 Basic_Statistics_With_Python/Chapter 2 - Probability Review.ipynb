{
 "cells": [
  {
   "cell_type": "code",
   "execution_count": 1,
   "metadata": {},
   "outputs": [],
   "source": [
    "import sympy as sy\n",
    "import fractions as fr\n",
    "import matplotlib.pyplot as plt\n",
    "import scipy as sp\n",
    "import scipy.special\n",
    "from texttable import Texttable\n",
    "import scipy.stats\n",
    "import scipy.special\n",
    "import numpy as np\n",
    "import pandas as pd\n",
    "from mpl_toolkits.mplot3d import Axes3D\n",
    "plt.style.use('fivethirtyeight')\n",
    "np.set_printoptions(precision=4) \n",
    "np.set_printoptions(suppress=True) # suppress scientific notation"
   ]
  },
  {
   "cell_type": "markdown",
   "metadata": {},
   "source": [
    "To proceed with inferential statistics, there is no way to circumvent **probability theory** and it's undoubtedly the most important mathematical subject should you ever know in your life. Once probability view deeply implanted in your mind, you would have a revolutionary world view.\n",
    "\n",
    "Here we will review the probability theory in a textbook style, i.e. start from defining sets."
   ]
  },
  {
   "cell_type": "markdown",
   "metadata": {},
   "source": [
    "# <font face=\"gotham\" color=\"purple\"> Basic Concepts Refresh"
   ]
  },
  {
   "cell_type": "markdown",
   "metadata": {},
   "source": [
    "## <font face=\"gotham\" color=\"purple\"> Sets"
   ]
  },
  {
   "cell_type": "markdown",
   "metadata": {},
   "source": [
    "A set is a collection of _distinct elements_, for instance, $(1, 2, 3)$ is a set, but $(2, 2, 3)$ isn't. Here we will demonstrate a bit of **SymPy** library, only scratching the surface. SymPy is an extremely powerful library.\n",
    "\n",
    "We'll start from defining sets then basic operations. ```sy.``` is alias of ```sympy```."
   ]
  },
  {
   "cell_type": "code",
   "execution_count": 4,
   "metadata": {},
   "outputs": [
    {
     "data": {
      "text/latex": [
       "$\\displaystyle \\left\\{2, 3, 4, 5, 6\\right\\}$"
      ],
      "text/plain": [
       "{2, 3, 4, 5, 6}"
      ]
     },
     "execution_count": 4,
     "metadata": {},
     "output_type": "execute_result"
    }
   ],
   "source": [
    "s = sy.FiniteSet(2, 3, 4, 5, 6)\n",
    "s"
   ]
  },
  {
   "cell_type": "code",
   "execution_count": 5,
   "metadata": {},
   "outputs": [
    {
     "data": {
      "text/latex": [
       "$\\displaystyle \\left\\{\\frac{1}{2}, 0.5, 2, 8\\right\\}$"
      ],
      "text/plain": [
       "{1/2, 0.5, 2, 8}"
      ]
     },
     "execution_count": 5,
     "metadata": {},
     "output_type": "execute_result"
    }
   ],
   "source": [
    "s1 = sy.FiniteSet(2, 1/2, fr.Fraction(1,2), 8); s1 #Fraction subject can keep the fraction format"
   ]
  },
  {
   "cell_type": "markdown",
   "metadata": {},
   "source": [
    "Check if $2$ is in the set $S_1$"
   ]
  },
  {
   "cell_type": "code",
   "execution_count": 6,
   "metadata": {},
   "outputs": [
    {
     "name": "stdout",
     "output_type": "stream",
     "text": [
      "2 is in the set!\n"
     ]
    }
   ],
   "source": [
    "x = 2\n",
    "if x in s1:\n",
    "    print('{} is in the set!'.format(x))"
   ]
  },
  {
   "cell_type": "markdown",
   "metadata": {},
   "source": [
    "Convert a list into a set, the list needs unpacking with $*$."
   ]
  },
  {
   "cell_type": "code",
   "execution_count": 7,
   "metadata": {},
   "outputs": [
    {
     "data": {
      "text/latex": [
       "$\\displaystyle \\left\\{1, 3, 5, 7, 8\\right\\}$"
      ],
      "text/plain": [
       "{1, 3, 5, 7, 8}"
      ]
     },
     "execution_count": 7,
     "metadata": {},
     "output_type": "execute_result"
    }
   ],
   "source": [
    "s3_list = [1, 3, 5, 7, 8]\n",
    "s3 = sy.FiniteSet(*s3_list); s3"
   ]
  },
  {
   "cell_type": "markdown",
   "metadata": {},
   "source": [
    "## <font face=\"gotham\" color=\"purple\"> Subsets, Supersets and Power Sets"
   ]
  },
  {
   "cell_type": "markdown",
   "metadata": {},
   "source": [
    "Now define two sets, $a$ is a **superset** of $b$ ($a\\supseteq b$), then $b$ is called a **subset** of $a$ ($b\\subseteq a$). "
   ]
  },
  {
   "cell_type": "code",
   "execution_count": 8,
   "metadata": {},
   "outputs": [],
   "source": [
    "a = sy.FiniteSet(1,2,3,4,5)\n",
    "b = sy.FiniteSet(2,3,4)"
   ]
  },
  {
   "cell_type": "markdown",
   "metadata": {},
   "source": [
    "In this example, $a$ is a **proper superset** of $b$ denoted as $a\\supset b$, $b$ is a **proper subset** of $a$ denoted as $b\\subset a$.\n",
    "\n",
    "The methods ```is_subset``` and ```is_superset``` are doing exactly as their names say."
   ]
  },
  {
   "cell_type": "code",
   "execution_count": null,
   "metadata": {},
   "outputs": [],
   "source": [
    "b.is_subset(a)"
   ]
  },
  {
   "cell_type": "code",
   "execution_count": null,
   "metadata": {},
   "outputs": [],
   "source": [
    "a.is_superset(b)"
   ]
  },
  {
   "cell_type": "markdown",
   "metadata": {},
   "source": [
    "The **powerset** is set contains all subsets, including the empty set and itself."
   ]
  },
  {
   "cell_type": "code",
   "execution_count": null,
   "metadata": {},
   "outputs": [],
   "source": [
    "b.powerset()"
   ]
  },
  {
   "cell_type": "markdown",
   "metadata": {},
   "source": [
    "Any sets are their own subset, but not their proper subset."
   ]
  },
  {
   "cell_type": "code",
   "execution_count": null,
   "metadata": {},
   "outputs": [],
   "source": [
    "b.is_subset(b)"
   ]
  },
  {
   "cell_type": "code",
   "execution_count": null,
   "metadata": {},
   "outputs": [],
   "source": [
    "b.is_proper_subset(b)"
   ]
  },
  {
   "cell_type": "markdown",
   "metadata": {},
   "source": [
    "## <font face=\"gotham\" color=\"purple\"> Set Operations"
   ]
  },
  {
   "cell_type": "markdown",
   "metadata": {},
   "source": [
    "Define two sets again."
   ]
  },
  {
   "cell_type": "code",
   "execution_count": null,
   "metadata": {},
   "outputs": [],
   "source": [
    "a = sy.FiniteSet(1,2,3)\n",
    "b = sy.FiniteSet(2,3,4)\n",
    "display(a)\n",
    "display(b)"
   ]
  },
  {
   "cell_type": "markdown",
   "metadata": {},
   "source": [
    "**Union** and **intersection** are sympy object methods, the same as we've learned in high school."
   ]
  },
  {
   "cell_type": "code",
   "execution_count": null,
   "metadata": {},
   "outputs": [],
   "source": [
    "display(a.union(b))\n",
    "display(a.intersect(b))"
   ]
  },
  {
   "cell_type": "markdown",
   "metadata": {},
   "source": [
    "## <font face=\"gotham\" color=\"purple\"> Python Built-in Sets And Operations"
   ]
  },
  {
   "cell_type": "markdown",
   "metadata": {},
   "source": [
    "Sets operations are fairly common in general programming, therefore Python has built-in operations for sets. Here are examples using built-in function. \n",
    "\n",
    "We define sets in Python with ```{}```, which are the same for the dictionaries."
   ]
  },
  {
   "cell_type": "code",
   "execution_count": null,
   "metadata": {},
   "outputs": [],
   "source": [
    "a = {1, 3, 5, 7, 9}\n",
    "b = {1, 7, 10}"
   ]
  },
  {
   "cell_type": "code",
   "execution_count": null,
   "metadata": {},
   "outputs": [],
   "source": [
    "type(a)"
   ]
  },
  {
   "cell_type": "markdown",
   "metadata": {},
   "source": [
    "Union operation."
   ]
  },
  {
   "cell_type": "code",
   "execution_count": null,
   "metadata": {},
   "outputs": [],
   "source": [
    "a | b"
   ]
  },
  {
   "cell_type": "markdown",
   "metadata": {},
   "source": [
    "or"
   ]
  },
  {
   "cell_type": "code",
   "execution_count": null,
   "metadata": {},
   "outputs": [],
   "source": [
    "a.union(b)"
   ]
  },
  {
   "cell_type": "markdown",
   "metadata": {},
   "source": [
    "Intersection."
   ]
  },
  {
   "cell_type": "code",
   "execution_count": null,
   "metadata": {},
   "outputs": [],
   "source": [
    "a & b"
   ]
  },
  {
   "cell_type": "markdown",
   "metadata": {},
   "source": [
    "Or"
   ]
  },
  {
   "cell_type": "code",
   "execution_count": null,
   "metadata": {},
   "outputs": [],
   "source": [
    "a.intersection(b)"
   ]
  },
  {
   "cell_type": "markdown",
   "metadata": {},
   "source": [
    "Set difference."
   ]
  },
  {
   "cell_type": "code",
   "execution_count": null,
   "metadata": {},
   "outputs": [],
   "source": [
    "a - b"
   ]
  },
  {
   "cell_type": "code",
   "execution_count": null,
   "metadata": {},
   "outputs": [],
   "source": [
    "a.difference(b)"
   ]
  },
  {
   "cell_type": "markdown",
   "metadata": {},
   "source": [
    "## <font face=\"gotham\" color=\"purple\"> Cartesian Product"
   ]
  },
  {
   "cell_type": "markdown",
   "metadata": {},
   "source": [
    "The famous **Cartesian product** is defined mathematically as below.\n",
    "\n",
    "Two sets multiply each other, the result presents all the possible ordered paired, the first element from $A$, the second element from $B$."
   ]
  },
  {
   "cell_type": "markdown",
   "metadata": {},
   "source": [
    "$$\n",
    "A\\times B=\\{(a,b)\\mid a\\in A\\ {\\mbox{ and }}\\ b\\in B\\}\n",
    "$$"
   ]
  },
  {
   "cell_type": "markdown",
   "metadata": {},
   "source": [
    "A visual example would be helpful. Define two sets, then compute the Cartesian product by multiplication."
   ]
  },
  {
   "cell_type": "code",
   "execution_count": null,
   "metadata": {},
   "outputs": [],
   "source": [
    "x = sy.FiniteSet(*list(range(1, 6)))\n",
    "y = sy.FiniteSet(*list(range(2, 7)))\n",
    "z = x*y #Cartesian producet\n",
    "z"
   ]
  },
  {
   "cell_type": "code",
   "execution_count": null,
   "metadata": {},
   "outputs": [],
   "source": [
    "fig, ax = plt.subplots(figsize = (8, 8))\n",
    "\n",
    "for i in z:\n",
    "    ax.scatter(i[0], i[1], s = 100)\n",
    "\n",
    "ax.grid(True)\n",
    "ax.set_title('Cartesian Product', size = 15)\n",
    "plt.show()"
   ]
  },
  {
   "cell_type": "markdown",
   "metadata": {},
   "source": [
    "Here's a more concrete example of Cartesian product, suppose H&M has a type of dress with different parameters, a Cartesian product will show them all combinations they could have. For instance, a dress with parameters $( 'blue', 'polyester')$."
   ]
  },
  {
   "cell_type": "code",
   "execution_count": null,
   "metadata": {},
   "outputs": [],
   "source": [
    "colours = sy.FiniteSet('red', 'black', 'blue', 'white')\n",
    "material = sy.FiniteSet('wool', 'cotton', 'polyester')\n",
    "colours * material"
   ]
  },
  {
   "cell_type": "markdown",
   "metadata": {},
   "source": [
    "## <font face=\"gotham\" color=\"purple\"> Probability and Event"
   ]
  },
  {
   "cell_type": "markdown",
   "metadata": {},
   "source": [
    "After demonstrating so many sets theory, but how are they used in probability theory?\n",
    "\n",
    "Dice rolling problem never gets old. To answer the question: _what is the probability of rolling an odd number_? We will show how to answer the question with set operations."
   ]
  },
  {
   "cell_type": "code",
   "execution_count": null,
   "metadata": {},
   "outputs": [],
   "source": [
    "s = sy.FiniteSet(1,2,3,4,5,6) \n",
    "odd = sy.FiniteSet(1,3,5)\n",
    "p = len(odd)/len(s)\n",
    "p"
   ]
  },
  {
   "cell_type": "markdown",
   "metadata": {},
   "source": [
    "This is vastly intuitive, just the proportion of odd sides over all sides."
   ]
  },
  {
   "cell_type": "markdown",
   "metadata": {},
   "source": [
    "## <font face=\"gotham\" color=\"purple\"> Two Dice Problem"
   ]
  },
  {
   "cell_type": "markdown",
   "metadata": {},
   "source": [
    "Two dice problem is slightly more complicated. Now we are asking: _what's the probability of getting a $7$ while rolling them together_."
   ]
  },
  {
   "cell_type": "markdown",
   "metadata": {},
   "source": [
    "Create a dictionary to hold the Cartesian product of two dice and its sum. The ```.update``` function is for adding elements in the dictionary if the updated key didn't exist."
   ]
  },
  {
   "cell_type": "code",
   "execution_count": null,
   "metadata": {},
   "outputs": [],
   "source": [
    "dice_cartesian = {}\n",
    "for i in range(1,7):\n",
    "    for j in range(1,7):\n",
    "        dice_cartesian.update({(i, j):i + j})\n",
    "dice_cartesian"
   ]
  },
  {
   "cell_type": "markdown",
   "metadata": {},
   "source": [
    "Python dictionary has a method ```.items()``` that lists all key-value pairs in tuples. We'll make use of this method in the loop below."
   ]
  },
  {
   "cell_type": "code",
   "execution_count": null,
   "metadata": {},
   "outputs": [],
   "source": [
    "dice_cartesian.items()"
   ]
  },
  {
   "cell_type": "markdown",
   "metadata": {},
   "source": [
    "Use ```defaultdict``` from ```collections``` module, it creates a dictionary which doesn't report errors and suitable for counting. We pass ```list``` as the _default factory_, meaning initialising values as lists whenever the key is given. "
   ]
  },
  {
   "cell_type": "code",
   "execution_count": null,
   "metadata": {},
   "outputs": [],
   "source": [
    "from collections import defaultdict\n",
    "dice_count = defaultdict(list) \n",
    "for i,j in dice_cartesian.items():\n",
    "    dice_count[j].append(i)\n",
    "dice_count"
   ]
  },
  {
   "cell_type": "markdown",
   "metadata": {},
   "source": [
    "Create another dictionary holding all sums of dice and corresponding probabilities."
   ]
  },
  {
   "cell_type": "code",
   "execution_count": null,
   "metadata": {},
   "outputs": [],
   "source": [
    "Prob = {i:round(len(j)/6**2, 4) for i,j in dice_count.items()}; Prob"
   ]
  },
  {
   "cell_type": "markdown",
   "metadata": {},
   "source": [
    "The example above actually is more about Python techniques, it also can be conveniently solved without making a fuss, as below:"
   ]
  },
  {
   "cell_type": "code",
   "execution_count": null,
   "metadata": {},
   "outputs": [],
   "source": [
    "def dice_prob(number):\n",
    "    dice1, dice2 = list(range(1, 7)), list(range(1, 7))\n",
    "    cartesian_dice = [(i, j) for i in dice1 for j in dice2] # list comprehension to create Cartesian product\n",
    "    ocurrence = 0\n",
    "    for element in cartesian_dice:\n",
    "        if np.sum(list(element)) == number:\n",
    "            ocurrence += 1\n",
    "    print('The probability of {} while rolling two dice is {:.2f}%'.format(number, ocurrence/6**2*100))"
   ]
  },
  {
   "cell_type": "code",
   "execution_count": null,
   "metadata": {},
   "outputs": [],
   "source": [
    "dice_prob(7)"
   ]
  },
  {
   "cell_type": "markdown",
   "metadata": {},
   "source": [
    "## <font face=\"gotham\" color=\"purple\"> Combination And Permutation"
   ]
  },
  {
   "cell_type": "markdown",
   "metadata": {},
   "source": [
    "Again, high school skills, two question to help differentiate them. \n",
    "<ol>\n",
    "<li>Pick 3 letters from English alphabet, how many ways to choose? <i>Use combination.</i></li> \n",
    "<li>Pick 3 letters from English alphabet to construct a word (doesn't have to be meaningful), how many ways to choose? <i>Use permutation.</i><\\li>\n",
    "</ol>"
   ]
  },
  {
   "cell_type": "markdown",
   "metadata": {},
   "source": [
    "Just remember: whenever needs certain order, use permutation, like the second question above, 'dog' and 'god' are different words though letters are the same. We don't need to memorise formula, but still FYI"
   ]
  },
  {
   "cell_type": "markdown",
   "metadata": {},
   "source": [
    "$$\n",
    "_nC_N = \\frac{N!}{n!(N-n)!}\\\\\n",
    "_nP_N = \\frac{N!}{(N-n)!}\n",
    "$$"
   ]
  },
  {
   "cell_type": "code",
   "execution_count": null,
   "metadata": {},
   "outputs": [],
   "source": [
    "scipy.special.comb(26, 3) # combination"
   ]
  },
  {
   "cell_type": "code",
   "execution_count": null,
   "metadata": {},
   "outputs": [],
   "source": [
    "scipy.special.perm(26, 3) # permutation"
   ]
  },
  {
   "cell_type": "markdown",
   "metadata": {},
   "source": [
    "# <font face=\"gotham\" color=\"purple\"> Conditional Probability, Multiplication Law and Independence"
   ]
  },
  {
   "cell_type": "markdown",
   "metadata": {},
   "source": [
    "All above are just warm-up, from here on comes the real deal of probability theory."
   ]
  },
  {
   "cell_type": "markdown",
   "metadata": {},
   "source": [
    "The probability of A given B, so called **conditional probability**, defined as:\n",
    "\n",
    "\\begin{equation}\n",
    "\\frac{P(A\\cap B)}{P(B)}=P(A|B)\n",
    "\\end{equation}\n",
    "\n",
    "It is best to be demonstrated by a joint probability table, which is essentially a discrete numeric form of 3D distribution. \n",
    "\n",
    "Here I want to introduce a module of draw text-style table, particular useful when you working on shells. Install in jupyter with ```conda install -c conda-forge texttable```."
   ]
  },
  {
   "cell_type": "code",
   "execution_count": null,
   "metadata": {},
   "outputs": [],
   "source": [
    "table = Texttable()\n",
    "table.set_cols_align([\"l\", \"c\", \"c\", 'c'])  \n",
    "table.set_cols_valign([\"m\", \"m\", \"m\", 'm'])\n",
    "table.add_rows([[\"\", \"Have Ht. Disease\", \" Not Have \", ' Total '],\n",
    "                [\"Male\", 0.45, 0.06, 0.51],\n",
    "                [\"Femal\", 0.36, 0.13, 0.49],\n",
    "                [\"Total\", 0.81, 0.19, 1]])\n",
    "print(table.draw())"
   ]
  },
  {
   "cell_type": "markdown",
   "metadata": {},
   "source": [
    "**Marginal probability** is the key concepts, which got its name because located on the margin of a table, it is the sum of all probabilities from the same column or row.\n",
    "\n",
    "The marginal probability of having heart disease is $81\\%$ and marginal probability of not having is $19\\%$. \n",
    "\n",
    "Here is the question: _what is the probability of not having heart disease given the person is a woman_? Because the condition is that _the person must be a woman_. So the first step is to narrow down the table."
   ]
  },
  {
   "cell_type": "code",
   "execution_count": null,
   "metadata": {},
   "outputs": [],
   "source": [
    "table = Texttable()\n",
    "table.set_cols_align([\"l\", \"c\", \"c\", 'c'])  \n",
    "table.set_cols_valign([\"m\", \"m\", \"m\", 'm'])\n",
    "table.add_rows([[\"\", \"Have Ht. Disease\", \" Not Have \", ' Total '],\n",
    "                [\"Femal\", 0.36, 0.13, 0.49]])\n",
    "print(table.draw())"
   ]
  },
  {
   "cell_type": "markdown",
   "metadata": {},
   "source": [
    "So the conditional probability of a woman not having heart disease is\n",
    "$$\n",
    "\\frac{P(A\\cap B)}{P(B)} = \\frac{.13}{.49}\n",
    "$$"
   ]
  },
  {
   "cell_type": "code",
   "execution_count": null,
   "metadata": {},
   "outputs": [],
   "source": [
    "P_female = 0.49 # the marginal prob of being a women, this is P(B)\n",
    "P_female_no_disease = 0.13\n",
    "P_con = P_female_no_disease/P_female\n",
    "print('The probability of not having heart disease given the person is a woman is {0:.2f}%'.format(P_con*100))"
   ]
  },
  {
   "cell_type": "markdown",
   "metadata": {},
   "source": [
    "From conditional probability it is straightforward to deduct **multiplication law**, simply rearrange the formula\n",
    "$$\n",
    "P(A|B)P(B)=P(A\\cap B)\\\\\n",
    "P(B|A)P(A)=P(B\\cap A)\n",
    "$$"
   ]
  },
  {
   "cell_type": "markdown",
   "metadata": {},
   "source": [
    "Two events $A$ and $B$ are independent if \n",
    "$$\n",
    "P(A|B)=P(A)\\\\\n",
    "P(B|A)=P(B)\n",
    "$$\n",
    "\n",
    "Otherwise, the events are dependent.\n",
    "\n",
    "Then the **independent multiplication law** indicates\n",
    "$$\n",
    "P(A)P(B)=P(A\\cap B)\\\\\n",
    "P(B)P(A)=P(B\\cap A)\n",
    "$$"
   ]
  },
  {
   "cell_type": "markdown",
   "metadata": {},
   "source": [
    "We will not dive deep into probability problems for now, there will be a full-round training session on <a href='https://github.com/MacroAnalyst/Probability_Theory'>**Probability Theory**</a>."
   ]
  },
  {
   "cell_type": "markdown",
   "metadata": {},
   "source": [
    "# <font face=\"gotham\" color=\"purple\"> Distributions That You Should Know"
   ]
  },
  {
   "cell_type": "markdown",
   "metadata": {},
   "source": [
    "These are most important probability distributions that you should know by heart. "
   ]
  },
  {
   "cell_type": "markdown",
   "metadata": {},
   "source": [
    "## <font face=\"gotham\" color=\"purple\"> Binomial Distribution"
   ]
  },
  {
   "cell_type": "markdown",
   "metadata": {},
   "source": [
    "The first one is binomial distribution, we will give a it more extensive coverage, other distributions have similar functions in Python.\n",
    "\n",
    "A binomial experiment has 4 features:\n",
    "* A sequence of $n$ identical trials, e.g. throwing darts\n",
    "* Only two outcomes are possible: _success_ or _failure_, e.g. hitting bullseye or not\n",
    "* The probability of success $p$ does not change from trial to trial\n",
    "* Trials are independent events, e.g. first throw doesn't affect the second throw"
   ]
  },
  {
   "cell_type": "markdown",
   "metadata": {},
   "source": [
    "The **probability mass function(PMF)** of binomial distribution is \n",
    "\n",
    "<p style=\"font-size:17px\">\n",
    "$$\n",
    "f(k,n,p)=_nC_k p^kq^{n-k}\n",
    "$$\n",
    "<p>\n",
    "\n",
    "<table style=\"text-align:center; width:50%; text-align:center;font-size: 110% \">\n",
    "  <tr>\n",
    "    <th>parameters</th>\n",
    "    <th>meaning</th>\n",
    "  </tr>\n",
    "  <tr>\n",
    "    <td>$n$</td>\n",
    "    <td>number of trials</td>\n",
    "  </tr>\n",
    "  <tr>\n",
    "    <td>$k$</td>\n",
    "    <td>number of specific outcome</td>\n",
    "  </tr>\n",
    "  <tr>\n",
    "    <td>$p$</td>\n",
    "    <td>probability of success</td>\n",
    "  </tr>\n",
    "  <tr>\n",
    "    <td>$q$</td>\n",
    "    <td>probability of failure</td>\n",
    "  </tr>\n",
    "</table>"
   ]
  },
  {
   "cell_type": "markdown",
   "metadata": {},
   "source": [
    "Here's a simple example.\n",
    "\n",
    "A personal banker might meet 50 people enquiring for loan monthly, empirically 30% of them has bad credit history. So calculate probability from 1 to 50 people has bad credit history, meaning calculate 1 person out of 50 has bad credit, 2 persons out of 50 have bad credit, so on so forth till 50 persons (all of them)."
   ]
  },
  {
   "cell_type": "markdown",
   "metadata": {},
   "source": [
    "Start from a single number could be more intuitive, what's probability that a personal banker to encounter exact $14$ persons of bad credit history in a month?"
   ]
  },
  {
   "cell_type": "code",
   "execution_count": null,
   "metadata": {},
   "outputs": [],
   "source": [
    "n = 50\n",
    "k = 14 # what is the prob that exact 14 ppl she met had bad credit history?\n",
    "b = scipy.special.comb(50, 14)\n",
    "p = .3\n",
    "f_binomial = b*p**k*(1-p)**(n-k)\n",
    "print('The prob of meeting {0} persons who has bad credit history is {1:.2f}%.'.format(k, f_binomial * 100))"
   ]
  },
  {
   "cell_type": "markdown",
   "metadata": {},
   "source": [
    "We can use ```scipy.stats.binom.pmf``` to get an array of PMF."
   ]
  },
  {
   "cell_type": "code",
   "execution_count": null,
   "metadata": {},
   "outputs": [],
   "source": [
    "n = 50\n",
    "p = .3\n",
    "bad_credit_person = np.arange(1, 51)\n",
    "prob = sp.stats.binom.pmf(bad_credit_person, n, p)\n",
    "fig, ax = plt.subplots(figsize = (12, 4))\n",
    "ax.plot(bad_credit_person, prob, lw = 3, color = 'r', alpha = .5)\n",
    "ax.set_ylim([0, .13])\n",
    "ax.set_title('The probability that from 1 to 50 persons who have bad credit history', size = 16, x = .5, y = 1.02)\n",
    "ax.set_xlabel('Number of Person Who Has Bad Credit History', size = 12)\n",
    "ax.set_ylabel('Probability', size = 12)\n",
    "plt.show()"
   ]
  },
  {
   "cell_type": "markdown",
   "metadata": {},
   "source": [
    "We could interpret the plot with straightforward observation:\n",
    "<li>Most likely the personal banker would encounter $10$ to $20$ persons who have bad credit history.</li>\n",
    "<li>Encountering less than $5$ or more than $25$ person are less likely.</li>\n",
    "<li>The highest possibility is to encounter $50\\times .03 = 15$ persons with bad credit.</li>"
   ]
  },
  {
   "cell_type": "markdown",
   "metadata": {},
   "source": [
    "Next example we can formulate a question by using **cumulative probability distribution**, the SciPy function is ```scipy.stats.binom.cdf```. \n",
    "\n",
    "If a stock trader trades $n$ times a month, he has a $p%$ chance of winning the trade, find out the probability that he can win less than $k$ trades a month."
   ]
  },
  {
   "cell_type": "code",
   "execution_count": null,
   "metadata": {},
   "outputs": [],
   "source": [
    "n = 20\n",
    "p = .55\n",
    "k = 12\n",
    "k1, k2 = 14, 4\n",
    "\n",
    "win_less = sp.stats.binom.cdf(k, n, p)\n",
    "win_more = 1- sp.stats.binom.cdf(k, n, p)\n",
    "win_betw = sp.stats.binom.cdf(14, n, p) - sp.stats.binom.cdf(4, n, p)\n",
    "\n",
    "print(\"If a trader's winning rate is {:.0f}%, the probability of winning less than {} times is {:.1f}% if he trades {} per month.\".format(p*100, k, win_less*100, n))\n",
    "print(\"If a trader's winning rate is {:.0f}%, the probability of winning more than {} times is {:.1f}% if he trades {} per month.\".format(p*100, k, win_more*100, n))\n",
    "print(\"If a trader's winning rate is {:.0f}%, the probability of winning between {} and {} times is {:.1f}% if he trades {} per month.\".format(p*100, k1, k2, win_betw*100, n))"
   ]
  },
  {
   "cell_type": "markdown",
   "metadata": {},
   "source": [
    "Or present in the text table."
   ]
  },
  {
   "cell_type": "code",
   "execution_count": null,
   "metadata": {},
   "outputs": [],
   "source": [
    "table = Texttable()\n",
    "table.set_cols_align([ \"c\", \"c\", 'c'])  \n",
    "table.set_cols_valign([ \"m\", \"m\", 'm'])\n",
    "table.add_rows([[\"Win Less\", \" Win More \", ' Win btw 4~14 '],\n",
    "                [ win_less, win_more, win_betw]])\n",
    "print(table.draw())"
   ]
  },
  {
   "cell_type": "markdown",
   "metadata": {},
   "source": [
    "What if the probability of wining changing from 0.1 to 0.8, what is the probability that he wins less than 6 trades, assuming every month he trades 20 times."
   ]
  },
  {
   "cell_type": "code",
   "execution_count": null,
   "metadata": {},
   "outputs": [],
   "source": [
    "win_rate = np.arange(.1, .81, .05)\n",
    "win_less = sp.stats.binom.cdf(6, 20, win_rate)\n",
    "\n",
    "data_dict = {'win_rate':win_rate, 'win_less':win_less} # I am using annotation in matplotlib, so Pandas is used for easy tracking data points\n",
    "df = pd.DataFrame(data_dict)\n",
    "df"
   ]
  },
  {
   "cell_type": "markdown",
   "metadata": {},
   "source": [
    "According to the table above, if the trader has at least $60\\%$ winning rate, merely $0.6\\%$ probability that he wins less then $6$ trades. Marginally higher winning rates are even important for traders in the short run."
   ]
  },
  {
   "cell_type": "code",
   "execution_count": null,
   "metadata": {},
   "outputs": [],
   "source": [
    "fig, ax = plt.subplots(figsize = (12, 7))\n",
    "ax.scatter(win_rate, win_less)\n",
    "txt = 'This point means that if the winning rate is 40%,\\n then the probability of winning less\\n than 6 trades is 25%.'\n",
    "ax.annotate(txt, xy = (df.iloc[6][0], df.iloc[6][1]), xytext = (.35, .5), weight = 'bold', color  =  'r', size = 14,\n",
    "             arrowprops = dict(arrowstyle = '->', connectionstyle = 'arc3', color = 'b'))\n",
    "ax.set_xlabel('Winning Rate')\n",
    "ax.set_ylabel('Probabilit of winning Less than 6 trades')\n",
    "plt.show()"
   ]
  },
  {
   "cell_type": "markdown",
   "metadata": {},
   "source": [
    "### <font face=\"gotham\" color=\"purple\"> Binomial Random Variable Generator"
   ]
  },
  {
   "cell_type": "markdown",
   "metadata": {},
   "source": [
    "In Scipy library, every distribution has a random variable generator named ```.rvs```, we set parameters, the generator will return the randomly generated numbers."
   ]
  },
  {
   "cell_type": "code",
   "execution_count": null,
   "metadata": {},
   "outputs": [],
   "source": [
    "n = 100\n",
    "p = 0.3\n",
    "bino = sp.stats.binom.rvs(n, p, size = 10000)"
   ]
  },
  {
   "cell_type": "markdown",
   "metadata": {},
   "source": [
    "The red vertical line in the graph below is the mean, because binomial distribution is a symmetric distribution, thus the mean should theoretically have the highest draw as well."
   ]
  },
  {
   "cell_type": "code",
   "execution_count": null,
   "metadata": {},
   "outputs": [],
   "source": [
    "txt = 'This line is the $y =p \\cdot n$ \\n and where theoretical highest draw should be.'\n",
    "fig, ax = plt.subplots(figsize = (12, 8))\n",
    "h, bins, patches = ax.hist(bino, bins = 160)\n",
    "ax.axvline(p*n, color = 'r', ls = '--', lw = 3)\n",
    "ax.annotate(txt, xy = (p*n, h.max()*0.4), xytext = (p*n ,h.max()*0.7), weight = 'bold', color  =  'r', size = 14,\n",
    "             arrowprops = dict(arrowstyle = '->', connectionstyle = 'arc3', color = 'b'))\n",
    "ax.set_title('Generated Binomial R.V.s', size = 18)\n",
    "plt.show()"
   ]
  },
  {
   "cell_type": "markdown",
   "metadata": {},
   "source": [
    "But how to interpret the histogram? \n",
    "\n",
    "A concrete example: you are trying to shoot basketball into the basket, your chances of success is $30\\%$, what each day you can shoot $100$ rounds, but in the long run, you are mostly like to have $30$ successes each day, and it would be extremely unlikely that you would land a $50$-success."
   ]
  },
  {
   "cell_type": "markdown",
   "metadata": {},
   "source": [
    "### <font face=\"gotham\" color=\"purple\"> Moments of Binomial Distribution"
   ]
  },
  {
   "cell_type": "markdown",
   "metadata": {},
   "source": [
    "To return moments, use ```.stats``` functions with <code>moments = `msvk`</code>, it is short for _mean_, _skewness_, _variance_ and _kurtosis_."
   ]
  },
  {
   "cell_type": "code",
   "execution_count": null,
   "metadata": {},
   "outputs": [],
   "source": [
    "n = 100\n",
    "p = 0.3\n",
    "bino_stats = sp.stats.binom.stats(n, p, moments = 'mvsk')\n",
    "table = Texttable()\n",
    "table.set_cols_align([ \"c\", \"c\", 'c','c'])  \n",
    "table.set_cols_valign([ \"m\", \"m\", 'm','m'])\n",
    "table.add_rows([[\"mean\", \" variance \", ' skewness ', 'kurtosis '],\n",
    "                [ bino_stats[0], bino_stats[1], bino_stats[2], bino_stats[3]]])\n",
    "print(table.draw())"
   ]
  },
  {
   "cell_type": "markdown",
   "metadata": {},
   "source": [
    "## <font face=\"gotham\" color=\"purple\"> Poisson Distribution"
   ]
  },
  {
   "cell_type": "markdown",
   "metadata": {},
   "source": [
    "When $n\\rightarrow\\infty$ and $p\\rightarrow0$，a binomial distribution approaches a **Poisson distribution** asymptotically, i.e. when $n$ is large and $p$ is small, we can use Poisson to approximate Binomial.\n",
    "\n",
    "Again with trader's example, if a trader has $1/1000$ probability to encounter a 'wiped-out' in each trade (assume each trade is independent, actually not), and trades $20$ times per month, what is the probability that the trader will encounter twice 'wiped-out' within 5 years?\n",
    "\n",
    "This problem can be solved by Binomial, the formulation as below\n",
    "\n",
    "$$\n",
    "\\text{trades} = 20\\times 12\\times 5=1200\\\\\n",
    "P(x=2) = \\binom{1200}{2}\\Big(\\frac{1}{1000}\\Big)^2\\Big(\\frac{999}{1000}\\Big)^{1198}\n",
    "$$"
   ]
  },
  {
   "cell_type": "code",
   "execution_count": null,
   "metadata": {},
   "outputs": [],
   "source": [
    "sp.special.comb(1200, 2)*1/1000**2*(999/1000)**1198"
   ]
  },
  {
   "cell_type": "markdown",
   "metadata": {},
   "source": [
    "The result tells that if a trader keep a frequency of $20$ trades per month, there $21\\%$ possibility that he/she gets wiped out twice in next $5$ years."
   ]
  },
  {
   "cell_type": "markdown",
   "metadata": {},
   "source": [
    "As we mentioned, Poisson is the limit version of Binomial, it is a suitable case to use, calculate $\\lambda$\n",
    "\n",
    "\\begin{equation}\n",
    "\\lambda = np = 1200 \\times \\frac{1}{1000} = 1.2\n",
    "\\end{equation}\n",
    "\n",
    "it means every 5 years, there is in average 1.2 times of chance to get wiped out.\n",
    "\n",
    "\\begin{equation}\n",
    "P(x=2)=\\frac{\\lambda^ke^{-\\lambda}}{k!}=\\frac{1.2^2e^{-1.2}}{2!}\n",
    "\\end{equation}\n",
    "\n",
    "\n",
    "Formulate in Python"
   ]
  },
  {
   "cell_type": "code",
   "execution_count": null,
   "metadata": {},
   "outputs": [],
   "source": [
    "k = 2\n",
    "n = 20 * 12 * 5 # 20 times per month, and 5 years span\n",
    "p = 1/1000\n",
    "lambdaP = p * n # lambda in Poisson\n",
    "p = sp.stats.poisson.pmf(k, lambdaP)\n",
    "print('The probability of having {0} wiped-out shock(s) in a span of 5 years is {1:.2f}%.'.format(k, p*100))"
   ]
  },
  {
   "cell_type": "markdown",
   "metadata": {},
   "source": [
    "You probably have notices that Binomial and Poisson provide the same answer.\n",
    "\n",
    "Similarly what's the probability of having more than $k$ times wiped-out?"
   ]
  },
  {
   "cell_type": "code",
   "execution_count": null,
   "metadata": {},
   "outputs": [],
   "source": [
    "k = 2\n",
    "prob = 1 - sp.stats.poisson.cdf(k, lambdaP)\n",
    "print('The probability of having more than %1.0f BS shock in 5 years is %3.3f%%.' % (k, prob*100))"
   ]
  },
  {
   "cell_type": "markdown",
   "metadata": {},
   "source": [
    "### <font face=\"gotham\" color=\"purple\"> Poisson Random Variable Generator"
   ]
  },
  {
   "cell_type": "markdown",
   "metadata": {},
   "source": [
    "Use the parameters $\\lambda = 1.2$, we generate a frequency distribution with ```sp.stats.poisson.rvs``` function."
   ]
  },
  {
   "cell_type": "code",
   "execution_count": null,
   "metadata": {},
   "outputs": [],
   "source": [
    "lambdaP = 1.2\n",
    "poisson = sp.stats.poisson.rvs(lambdaP, size = 1000)\n",
    "\n",
    "fig, ax = plt.subplots(figsize = (12, 7))\n",
    "h, bins, patches = ax.hist(poisson, bins = 10)\n",
    "ax.set_title('Generated Poisson R.V. Distribution', size = 16)\n",
    "plt.show()"
   ]
  },
  {
   "cell_type": "markdown",
   "metadata": {},
   "source": [
    "### <font face=\"gotham\" color=\"purple\"> Moments of Poisson Distribution"
   ]
  },
  {
   "cell_type": "code",
   "execution_count": null,
   "metadata": {},
   "outputs": [],
   "source": [
    "lambdaP = 1.2\n",
    "poiss_stats = sp.stats.poisson.stats(lambdaP, moments = 'mvsk') # mean, variance, skewness, kurtosis\n",
    "table = Texttable()\n",
    "table.set_cols_align([ \"c\", \"c\", 'c','c'])  \n",
    "table.set_cols_valign([ \"m\", \"m\", 'm','m'])\n",
    "table.add_rows([[\"mean\", \" variance \", ' skewness ', 'kurtosis '],\n",
    "                [ poiss_stats[0], poiss_stats[1], poiss_stats[2], poiss_stats[3]]])\n",
    "print(table.draw())"
   ]
  },
  {
   "cell_type": "markdown",
   "metadata": {},
   "source": [
    "## <font face=\"gotham\" color=\"purple\"> Geometric Distribution"
   ]
  },
  {
   "cell_type": "markdown",
   "metadata": {},
   "source": [
    "The PMF of **Geometric Distribution** is \n",
    "$$\n",
    "f(k)=p(1-p)^k\n",
    "$$\n",
    "\n",
    "where  $k \\in  \\mathbb{Z}^+$ is a number of failures before first success, and $p$ is the probability of success.\n",
    "\n",
    "Geometric Distribution is to model the solutions to questions: '_How many times you have to fail in order to embrace the initial success?_'\n",
    "\n",
    "If you are shooting basketball to the basket, your success rate is $30\\%$, what's the probability of first success after $k$ times of trials?"
   ]
  },
  {
   "cell_type": "code",
   "execution_count": null,
   "metadata": {},
   "outputs": [],
   "source": [
    "k = 5\n",
    "p = .3\n",
    "\n",
    "geo_dist = (1 - p)**k * p\n",
    "print('The probability of observing exact {} times of failures trials before first success is {:.2f}%.'.format(k, geo_dist*100))"
   ]
  },
  {
   "cell_type": "markdown",
   "metadata": {},
   "source": [
    "```sp.stats.geom.pmf``` function will do the same trick."
   ]
  },
  {
   "cell_type": "code",
   "execution_count": null,
   "metadata": {},
   "outputs": [],
   "source": [
    "sp.stats.geom.pmf(k, p)"
   ]
  },
  {
   "cell_type": "markdown",
   "metadata": {},
   "source": [
    "However, you have noticed the same parameters didn't produce the same result. That's because Scipy has a slightly different definition of parameter, $k$ in Scipy means the total number of trials, therefore $k+1$ would work the same."
   ]
  },
  {
   "cell_type": "code",
   "execution_count": null,
   "metadata": {},
   "outputs": [],
   "source": [
    "sp.stats.geom.pmf(k+1, p)"
   ]
  },
  {
   "cell_type": "markdown",
   "metadata": {},
   "source": [
    "Again, CDF could answer the a question: _What's the probability of observing $k$ or less than $k$ times of failure before the first success?_"
   ]
  },
  {
   "cell_type": "code",
   "execution_count": null,
   "metadata": {},
   "outputs": [],
   "source": [
    "geom_cdf = sp.stats.geom.cdf(k+1, p)\n",
    "print('The probability of observing %1.0f or fewer than %1.0f times of failure before a first success is %3.3f%%.'%(k,k,geom_cdf*100))"
   ]
  },
  {
   "cell_type": "markdown",
   "metadata": {},
   "source": [
    "### <font face=\"gotham\" color=\"purple\"> Geometric Distribution Moments and Generator"
   ]
  },
  {
   "cell_type": "code",
   "execution_count": null,
   "metadata": {},
   "outputs": [],
   "source": [
    "mean, var, skew, kurt = sp.stats.geom.stats(p, moments='mvsk')\n",
    "table = Texttable()\n",
    "table.set_cols_align([ \"c\", \"c\", 'c','c', 'c', 'c'])  \n",
    "table.set_cols_valign([ \"m\", \"m\", 'm','m', 'm', 'm'])\n",
    "table.add_rows([['p','k',\"mean\", \" variance \", ' skewness ', ' kurtosis '],\n",
    "                [ p, k, mean, var, skew, kurt]])\n",
    "print(table.draw())"
   ]
  },
  {
   "cell_type": "code",
   "execution_count": null,
   "metadata": {},
   "outputs": [],
   "source": [
    "geometric = sp.stats.geom.rvs(p, size = 10000)\n",
    "fig, ax = plt.subplots(figsize = (12, 7))\n",
    "h, bins, patches = ax.hist(geometric, bins = 30)\n",
    "ax.set_title('Generated Geometric R.V. Distribution', size = 16)\n",
    "plt.show()"
   ]
  },
  {
   "cell_type": "markdown",
   "metadata": {},
   "source": [
    "## <font face=\"gotham\" color=\"purple\"> Hypergeometric Distribution"
   ]
  },
  {
   "cell_type": "markdown",
   "metadata": {},
   "source": [
    "The main difference between hypergeometric and binomial is that the former's sampling is not independent of each other, i.e. the  sampling is **without replacement**. \n",
    "\n",
    "The PMF of hypergeometric is \n",
    "\n",
    "$$\n",
    "f(x) =\\frac{{K\\choose k} {N-K \\choose n-k}}{{N\\choose n}} \n",
    "$$\n",
    "\n",
    "Read the PMF with this example: $100$ people live in a building, $20$ of them are stashing drugs, $80$ are clean, but we don't have information who is clean or not. In one field operation, police took away $5$ persons form the building, what is the probability of having exact $2$ persons .are drug stasher?\n",
    "\n",
    "Solution:\n",
    "$$\n",
    "\\frac{{20\\choose2}{80\\choose3}}{{100\\choose5}}\n",
    "$$\n",
    "To solve it:"
   ]
  },
  {
   "cell_type": "code",
   "execution_count": null,
   "metadata": {},
   "outputs": [],
   "source": [
    "k = 2\n",
    "n = 5\n",
    "K = 20\n",
    "N = 100\n",
    "hyper_geo = sp.special.comb(K, k)*sp.special.comb(N-K, n-k) /sp.special.comb(N, n)\n",
    "print('The probability of getting {} drug stashers by taking {} persons away is {:.2f}%.'.format(k, n, hyper_geo*100))"
   ]
  },
  {
   "cell_type": "markdown",
   "metadata": {},
   "source": [
    "Or use SciPy function"
   ]
  },
  {
   "cell_type": "code",
   "execution_count": null,
   "metadata": {},
   "outputs": [],
   "source": [
    "# pmf(x, M, N, n, loc=0)\n",
    "hgeo = sp.stats.hypergeom.pmf(k, N, K, n, loc = 0) # the argurment order the same as MATLAB, quite confusing\n",
    "hgeo"
   ]
  },
  {
   "cell_type": "markdown",
   "metadata": {},
   "source": [
    "A histogram would provide some intuitions of geometric distribution."
   ]
  },
  {
   "cell_type": "code",
   "execution_count": null,
   "metadata": {},
   "outputs": [],
   "source": [
    "hgeo_rv = sp.stats.hypergeom.rvs(100, 20, 5, size = 10000)\n",
    "fig, ax = plt.subplots(figsize = (12, 7))\n",
    "h, bins, patches = ax.hist(hgeo_rv, density = True)\n",
    "ax.set_title('Generated Hypergeometric R.V. Distribution', size = 16)\n",
    "s = '''    It can be interpreted as: if 100 persons in the building, \n",
    "    20 are drug stasher, take 5 out of 100.\n",
    "    \n",
    "    The probability of getting from 1 to 5 drug stashers, \n",
    "    is shown in the chart.\n",
    "    \n",
    "    As we can see it is nearly impossible \n",
    "    to get 4 or 5 drugs stasher. \n",
    "    But getting one is the most possible outcome.'''\n",
    "\n",
    "ax.text(1.6, .5, s, fontsize=14, color ='red')\n",
    "plt.show()"
   ]
  },
  {
   "cell_type": "code",
   "execution_count": null,
   "metadata": {},
   "outputs": [],
   "source": [
    "mean, var, skew, kurt = sp.stats.hypergeom.stats(N, K, n, moments='mvsk')\n",
    "table = Texttable()\n",
    "table.set_cols_align([ \"c\", \"c\", 'c','c', 'c', 'c'])  \n",
    "table.set_cols_valign([ \"m\", \"m\", 'm','m', 'm', 'm'])\n",
    "table.add_rows([['N','k',\"mean\", \" variance \", ' skewness ', ' kurtosis '],\n",
    "                [ N, k, mean, var, skew, kurt]])\n",
    "print(table.draw())"
   ]
  },
  {
   "cell_type": "markdown",
   "metadata": {},
   "source": [
    "## <font face=\"gotham\" color=\"purple\"> Discrete Uniform Distribution"
   ]
  },
  {
   "cell_type": "markdown",
   "metadata": {},
   "source": [
    "Rolling a die is the simplest **discrete uniform distribution** generator from $1$ to $6$."
   ]
  },
  {
   "cell_type": "code",
   "execution_count": null,
   "metadata": {},
   "outputs": [],
   "source": [
    "unif_d = sp.stats.randint.rvs(low = 0, high = 6, size = 1000)\n",
    "fig, ax = plt.subplots(figsize = (12, 7))\n",
    "h, bins, patches = ax.hist(unif_d, bins = 6, ec = 'k')\n",
    "ax.set_title('Discrete Uniform Frequency Distribution', size = 16)\n",
    "plt.show()"
   ]
  },
  {
   "cell_type": "markdown",
   "metadata": {},
   "source": [
    "### <font face=\"gotham\" color=\"purple\"> Discrete Probability Mass Function\n"
   ]
  },
  {
   "cell_type": "code",
   "execution_count": null,
   "metadata": {},
   "outputs": [],
   "source": [
    "x = np.arange(0, 8)\n",
    "l, h = 1, 7\n",
    "unif_pmf = sp.stats.randint.pmf(x, low = l, high = h)\n",
    "fig, ax = plt.subplots(figsize = (12, 6))\n",
    "ax.scatter(x, unif_pmf, s = 100, color = 'green', label =  'Low = {}, High = {}'.format(l, h-1))\n",
    "ax.plot(x,unif_pmf, lw = 3, color = 'k')\n",
    "ax.legend(fontsize = 18, loc = 'center')\n",
    "plt.show()"
   ]
  },
  {
   "cell_type": "markdown",
   "metadata": {},
   "source": [
    "## <font face=\"gotham\" color=\"purple\"> Continuous Uniform Distribution "
   ]
  },
  {
   "cell_type": "markdown",
   "metadata": {},
   "source": [
    "The PDF of *Continuous uniform distribution** is \n",
    "\n",
    "\\begin{equation}\n",
    "f(x)=\\frac{1}{b-a}\n",
    "\\end{equation}\n",
    "\n",
    "And its r.v. generator is one of the most commonly used function in NumPy."
   ]
  },
  {
   "cell_type": "code",
   "execution_count": null,
   "metadata": {},
   "outputs": [],
   "source": [
    "unif = np.random.rand(10000)\n",
    "fig, ax = plt.subplots(figsize = (12, 6))\n",
    "h, bins, patches = ax.hist(unif, density = True, bins = 30)\n",
    "ax.set_title('Continous Uniform Frequency Distribution', size = 16)\n",
    "plt.show()"
   ]
  },
  {
   "cell_type": "markdown",
   "metadata": {},
   "source": [
    "### <font face=\"gotham\" color=\"purple\"> CDF and PDF of Continuous Uniform Distribution "
   ]
  },
  {
   "cell_type": "markdown",
   "metadata": {},
   "source": [
    "The CDF and PDF of uniform distribution are ```sp.stats.uniform.cdf``` and ```sp.stats.uniform.pdf``` accordingly."
   ]
  },
  {
   "cell_type": "code",
   "execution_count": null,
   "metadata": {},
   "outputs": [],
   "source": [
    "# pdf(x, loc=0, scale=1)\n",
    "# cdf(x, loc=0, scale=1)\n",
    "x = np.linspace(-.2, 1.2, 100)\n",
    "unif_pdf = sp.stats.uniform.pdf(x)\n",
    "unif_cdf = sp.stats.uniform.cdf(x)\n",
    "fig, ax = plt.subplots(nrows = 1, ncols = 2, figsize = (17, 7))\n",
    "ax[0].plot(x,unif_pdf, lw = 4, label = 'PDF of Continous Uniform Distribution')\n",
    "ax[0].set_xlim([-.1, 1.1])\n",
    "ax[0].set_ylim([0, 2])\n",
    "ax[0].legend(fontsize = 16)\n",
    "\n",
    "ax[1].plot(x,unif_cdf, lw  = 4, label = 'CDF of Continous Uniform Distribution')\n",
    "ax[1].set_xlim([-.2, 1.2])\n",
    "ax[1].set_ylim([0, 2])\n",
    "ax[1].legend(fontsize = 16)\n",
    "plt.show()"
   ]
  },
  {
   "cell_type": "code",
   "execution_count": null,
   "metadata": {},
   "outputs": [],
   "source": [
    "mean, var, skew, kurt = sp.stats.uniform.stats(moments='mvsk')\n",
    "table = Texttable()\n",
    "table.set_cols_align([ \"c\", \"c\", 'c','c'])  \n",
    "table.set_cols_valign([ \"m\", \"m\", 'm','m'])\n",
    "table.add_rows([[\"mean\", \" variance \", ' skewness ', ' kurtosis '],\n",
    "                [ mean, var, skew, kurt]])\n",
    "print(table.draw())"
   ]
  },
  {
   "cell_type": "markdown",
   "metadata": {},
   "source": [
    "## <font face=\"gotham\" color=\"purple\"> Normal Distribution"
   ]
  },
  {
   "cell_type": "markdown",
   "metadata": {},
   "source": [
    "The **normal distribution** is the king of all distributions. The PDF of Normal distribution is\n",
    "$$\n",
    "f(x)=\\frac{1}{\\sigma \\sqrt{2 \\pi}} e^{-\\frac{1}{2}\\left(\\frac{x-\\mu}{\\sigma}\\right)^{2}}\n",
    "$$\n",
    "Below are the plots of CDF and PDF."
   ]
  },
  {
   "cell_type": "code",
   "execution_count": null,
   "metadata": {},
   "outputs": [],
   "source": [
    "mu = 2\n",
    "sigma = 1\n",
    "x = np.arange(-2, 6, 0.1)\n",
    "norm_pdf = sp.stats.norm.pdf(x, mu, sigma)\n",
    "norm_cdf = sp.stats.norm.cdf(x, mu, sigma)\n",
    "\n",
    "fig, ax = plt.subplots(nrows = 1, ncols = 2, figsize = (17, 7))\n",
    "ax[0].plot(x,norm_pdf, lw = 4, label = 'PDF of Normal Distribution', ls = '--')\n",
    "ax[0].legend(fontsize = 16, loc = 'lower left', framealpha=0.2)\n",
    "\n",
    "ax[1].plot(x,norm_cdf, lw  = 4, label = 'CDF of Normal Distribution')\n",
    "ax[1].legend(fontsize = 16,fancybox=True, framealpha=0.5)\n",
    "plt.show()"
   ]
  },
  {
   "cell_type": "markdown",
   "metadata": {},
   "source": [
    "### <font face=\"gotham\" color=\"purple\"> Inverse Normal CDF"
   ]
  },
  {
   "cell_type": "markdown",
   "metadata": {},
   "source": [
    "Here is a useful plot that you might have known by heart. The light blue area cover $95\\%$ of area under the bell curve, darker blue area on either side covers $2.5\\%$ respectively. If we want to search the point where $2.5\\%$ area is on its left, we simply need a inverse function of CDF, in SciPy ```.ppf``` (point percentage function) can provide us the location of any percentage that we specify."
   ]
  },
  {
   "cell_type": "code",
   "execution_count": null,
   "metadata": {},
   "outputs": [],
   "source": [
    "norm_95_r = sp.stats.norm.ppf(.975) # ppf mean point percentage function, actually inverse CDF\n",
    "norm_95_l = sp.stats.norm.ppf(.025)\n",
    "\n",
    "x = np.linspace(-5, 5, 200)\n",
    "y = sp.stats.norm.pdf(x)\n",
    "\n",
    "xl = np.linspace(-5, norm_95_l, 100)\n",
    "yl = sp.stats.norm.pdf(xl)\n",
    "xr = np.linspace(norm_95_r, 5, 100)\n",
    "yr = sp.stats.norm.pdf(xr)\n",
    "\n",
    "fig, ax = plt.subplots(figsize = (12, 7))\n",
    "ax.plot(x,y, lw = 4, label = 'PDF of Normal Distribution', ls = '-', color = '#CC4845')\n",
    "ax.set_ylim([0, .45])\n",
    "\n",
    "ax.fill_between(x, y, 0, alpha=0.6, color = '#2E86C3')\n",
    "ax.fill_between(xl,yl, 0, alpha=0.9, color = '#2E86C3')\n",
    "ax.fill_between(xr,yr, 0, alpha=0.9, color = '#2E86C3')\n",
    "\n",
    "ax.text(-.2, 0.15, '95%', fontsize = 20)\n",
    "ax.text(-2.3, 0.015, '2.5%', fontsize = 12, color = 'white')\n",
    "ax.text(2.01, 0.015, '2.5%', fontsize = 12, color = 'white')\n",
    "\n",
    "ax.annotate('±%.4f' %norm_95_r, xy = (norm_95_r, 0), xytext = (-.4, .05), weight = 'bold', color  =  '#CC4845', \n",
    "             arrowprops = dict(arrowstyle = '->', connectionstyle = 'arc3', color = '#757516'), fontsize = 16)\n",
    "ax.annotate('±%.4f' %norm_95_r, xy = (norm_95_l, 0), xytext = (-.4, .05), weight = 'bold', color  =  '#CC4845', \n",
    "             arrowprops = dict(arrowstyle = '->', connectionstyle = 'arc3', color = '#757516'), fontsize = 16)\n",
    "\n",
    "ax.set_title('Normal Distribution And 2.5% Shaded Area', size = 20)\n",
    "plt.show()"
   ]
  },
  {
   "cell_type": "markdown",
   "metadata": {},
   "source": [
    "### <font face=\"gotham\" color=\"purple\"> Normal Random Variable Generator"
   ]
  },
  {
   "cell_type": "code",
   "execution_count": null,
   "metadata": {},
   "outputs": [],
   "source": [
    "# rvs(loc=0, scale=1, size=1, random_state=None)\n",
    "norm_rv = sp.stats.norm.rvs(mu, sigma, size = 5000)\n",
    "fig, ax = plt.subplots(figsize = (12, 7))\n",
    "h, bins, patches = ax.hist(norm_rv, density = True, bins = 50)\n",
    "ax.set_title('Normal Frequency Distribution', size = 16)\n",
    "plt.show()"
   ]
  },
  {
   "cell_type": "code",
   "execution_count": null,
   "metadata": {},
   "outputs": [],
   "source": [
    "mean, var, skew, kurt = sp.stats.norm.stats(mu, sigma, moments='mvsk')\n",
    "table = Texttable()\n",
    "table.set_cols_align([ \"c\", \"c\", 'c','c'])  \n",
    "table.set_cols_valign([ \"m\", \"m\", 'm','m'])\n",
    "table.add_rows([[\"mean\", \" variance \", ' skewness ', ' kurtosis '],\n",
    "                [ mean, var, skew, kurt]])\n",
    "print(table.draw())"
   ]
  },
  {
   "cell_type": "markdown",
   "metadata": {},
   "source": [
    "## <font face=\"gotham\" color=\"purple\"> Bivariate Normal Distribution"
   ]
  },
  {
   "cell_type": "markdown",
   "metadata": {},
   "source": [
    "The most prevalent _multivariate normal distribution_ is **bivariate normal distribution**\n",
    "\n",
    "\\begin{equation}\n",
    "f_\\boldsymbol{X}(x_1,...,x_2)=\\frac{1}{\\sqrt{(2\\pi)^k|\\Sigma|}}\\exp{\\Big(-\\frac{(x-\\mu)^T\\Sigma^{-1}(x-\\mu)}{2}\\Big)}\n",
    "\\end{equation}\n",
    "\n",
    "<br>"
   ]
  },
  {
   "cell_type": "markdown",
   "metadata": {},
   "source": [
    "There are two ways of formulating a multivariate normal distribution in Python, use any one you see fit."
   ]
  },
  {
   "cell_type": "markdown",
   "metadata": {},
   "source": [
    "### <font face=\"gotham\" color=\"purple\"> 1st Method of Formulation"
   ]
  },
  {
   "cell_type": "code",
   "execution_count": null,
   "metadata": {},
   "outputs": [],
   "source": [
    "mu_x = 0\n",
    "sigma_x = 2\n",
    "\n",
    "mu_y = 0\n",
    "sigma_y = 2\n",
    "\n",
    "#Create grid and multivariate normal\n",
    "x = np.linspace(-10,10,500)\n",
    "y = np.linspace(-10,10,500)\n",
    "X, Y = np.meshgrid(x,y)\n",
    "pos = np.empty(X.shape + (2,))\n",
    "pos[:, :, 0] = X; pos[:, :, 1] = Y # more technical than next one\n",
    "norm = sp.stats.multivariate_normal([mu_x, mu_y], [[sigma_x, 0], [0, sigma_y]]) # frozen \n",
    "\n",
    "#Make a 3D plot\n",
    "fig = plt.figure(figsize = (12, 12))\n",
    "ax = fig.gca(projection='3d')\n",
    "ax.plot_surface(X, Y, norm.pdf(pos),cmap='viridis',linewidth=0)\n",
    "ax.set_xlabel('X axis')\n",
    "ax.set_ylabel('Y axis')\n",
    "ax.set_zlabel('Z axis')\n",
    "ax.set_title('Bivariate Normal Distribution', size = 22, y = 1)\n",
    "\n",
    "plt.show()"
   ]
  },
  {
   "cell_type": "markdown",
   "metadata": {},
   "source": [
    "### <font face=\"gotham\" color=\"purple\"> 2st Method of Formulation"
   ]
  },
  {
   "cell_type": "code",
   "execution_count": null,
   "metadata": {},
   "outputs": [],
   "source": [
    "#Parameters to set\n",
    "mu_x = 0\n",
    "sigma_x = 7\n",
    "\n",
    "mu_y = 0\n",
    "sigma_y = 15\n",
    "\n",
    "x = np.linspace(-10,10,500)\n",
    "y = np.linspace(-10,10,500)\n",
    "X,Y = np.meshgrid(x,y)\n",
    "\n",
    "pos = np.array([X.flatten(),Y.flatten()]).T  # more intuitive than former one\n",
    "\n",
    "rv = sp.stats.multivariate_normal([mu_x, mu_y], [[sigma_x, 0], [0, sigma_y]])\n",
    "\n",
    "fig = plt.figure(figsize=(10,10))\n",
    "ax0 = fig.add_subplot(111)\n",
    "ax0.contourf(X, Y, rv.pdf(pos).reshape(500,500),cmap='viridis')\n",
    "\n",
    "plt.show()"
   ]
  },
  {
   "cell_type": "markdown",
   "metadata": {},
   "source": [
    "## <font face=\"gotham\" color=\"purple\"> Beta Distribution"
   ]
  },
  {
   "cell_type": "markdown",
   "metadata": {},
   "source": [
    "The PDF of **Beta distribution** is \n",
    "\n",
    "\\begin{equation}\n",
    "f(x, a, b)=\\frac{\\Gamma(a+b) x^{a-1}(1-x)^{b-1}}{\\Gamma(a) \\Gamma(b)}\n",
    "\\end{equation}\n",
    "\n",
    "where $0\\leq x \\leq 1$ and $a>0$, $b>0$, $\\Gamma$ is the Gamma function, and $a$ and $b$ decide the shape of Beta PDF."
   ]
  },
  {
   "cell_type": "code",
   "execution_count": null,
   "metadata": {},
   "outputs": [],
   "source": [
    "x = np.linspace(0, 1, 100)\n",
    "\n",
    "fig = plt.figure(figsize=(12, 12))\n",
    "ax = fig.add_subplot(111)\n",
    "\n",
    "a = [.5, 5, 1, 2, 2, 3, 1] # these are values of parameter a\n",
    "b = [.5, 1, 5, 2, 3, 2, 1]\n",
    "\n",
    "for parameter in zip(a, b):\n",
    "    beta_pdf = sp.stats.beta.pdf(x, parameter[0], parameter[1])\n",
    "    ax.plot(x, beta_pdf, lw = 3, label = '$a = %.1f, b =  %.1f$' % (parameter[0], parameter[1]))\n",
    "    ax.legend()\n",
    "\n",
    "ax.set_title('PDF of Beta Distribution', size = 20)\n",
    "ax.axis([0, 1, 0, 3])\n",
    "plt.show()"
   ]
  },
  {
   "cell_type": "code",
   "execution_count": null,
   "metadata": {},
   "outputs": [],
   "source": [
    "x = np.linspace(0, 1, 100)\n",
    "\n",
    "fig = plt.figure(figsize=(12, 12))\n",
    "ax = fig.add_subplot(111)\n",
    "\n",
    "a = [.5, 5, 1, 2, 2, 3, 1] # these are values of parameter a\n",
    "b = [.5, 1, 5, 2, 3, 2, 1]\n",
    "\n",
    "for parameter in zip(a, b):\n",
    "    beta_pdf = sp.stats.beta.cdf(x, parameter[0], parameter[1])\n",
    "    ax.plot(x, beta_pdf, lw = 3, label = '$a = %.1f, b =  %.1f$' % (parameter[0], parameter[1]))\n",
    "    ax.legend()\n",
    "ax.set_title('CDF of Beta Distribution', size = 20)\n",
    "ax.axis([0, 1, 0, 1])\n",
    "plt.show()"
   ]
  },
  {
   "cell_type": "markdown",
   "metadata": {},
   "source": [
    "Beta distribution is mostly useful as **prior distribution** in Bayesian estimation, because it is bounded in $[0, 1]$, that is perfect for modeling the _probability distribution of probabilities_. In Bayesian estimation, we only care about the proportion between prior and posterior, by adjusting $a$ and $b$ we can use Beta distribution to express any kinds of prior beliefs including normal, uniform, exponential distribution and etc.\n",
    "\n",
    "\\begin{equation}\n",
    "f(x, a, b)\\propto x^{a-1}(1-x)^{b-1}\n",
    "\\end{equation}"
   ]
  },
  {
   "cell_type": "markdown",
   "metadata": {},
   "source": [
    "## <font face=\"gotham\" color=\"purple\"> $\\chi^2$ Distribution"
   ]
  },
  {
   "cell_type": "markdown",
   "metadata": {},
   "source": [
    "$\\chi^2$ distribution is closely connected with normal distributions, if $z$ has the standard normal distribution, then $z^2$ has the $\\chi^2$ distribution with $d.f.=1$. And further,if\n",
    "\n",
    "\\begin{equation}\n",
    "z_1, z_2, ..., z_k \\sim i.i.d. N(0, 1)\n",
    "\\end{equation}\n",
    "\n",
    "Then summation has a $\\chi^2$ distribution of $d.f. = k$:\n",
    "\n",
    "\\begin{equation}\n",
    "\\sum_{i=0}^k z_i^2 \\sim \\chi^2(k)\n",
    "\\end{equation}\n"
   ]
  },
  {
   "cell_type": "markdown",
   "metadata": {},
   "source": [
    "We will see in later chapters how $\\chi^2$ distribution is referred when performing hypothesis testing."
   ]
  },
  {
   "cell_type": "markdown",
   "metadata": {},
   "source": [
    "### <font face=\"gotham\" color=\"purple\"> $\\chi^2$ PDF and CDF"
   ]
  },
  {
   "cell_type": "code",
   "execution_count": null,
   "metadata": {},
   "outputs": [],
   "source": [
    "k = 1\n",
    "x = np.linspace(0, 5, 100)\n",
    "chi_pdf = sp.stats.chi2.pdf(x, k)\n",
    "\n",
    "fig, ax = plt.subplots(figsize = (12, 8))\n",
    "ax.plot(x, chi_pdf, lw = 3, c = 'r', label = '$\\chi^2$ distribution with d.f. = 1')\n",
    "ax.legend(fontsize = 18)\n",
    "plt.show()"
   ]
  },
  {
   "cell_type": "code",
   "execution_count": null,
   "metadata": {},
   "outputs": [],
   "source": [
    "fig, ax = plt.subplots(figsize = (12, 8))\n",
    "for i in range(1, 6):\n",
    "    x = np.linspace(0, 5, 100)\n",
    "    chi_pdf = sp.stats.chi2.pdf(x, i)\n",
    "    ax.plot(x, chi_pdf, lw = 3, label = '$\\chi^2$ distribution with d.f. = %.0d'%i)\n",
    "    ax.legend(fontsize = 12)\n",
    "    ax.axis([0, 5, 0, 1])\n",
    "plt.show()"
   ]
  },
  {
   "cell_type": "markdown",
   "metadata": {},
   "source": [
    "## <font face=\"gotham\" color=\"purple\"> F Distribution"
   ]
  },
  {
   "cell_type": "markdown",
   "metadata": {},
   "source": [
    "If $U_1$ has a $\\chi^2$ distribution with $\\nu_1$ d.f. and $U_2$ has a $\\chi^2$ distribution with $\\nu_2$ d.f., then\n",
    "\n",
    "\\begin{equation}\n",
    "\\frac{U_1/\\nu_1}{U_2/\\nu_2}\\sim F(\\nu_1, \\nu_2)\n",
    "\\end{equation}\n",
    "\n",
    "We are using $F$ distribution for ratios of variances."
   ]
  },
  {
   "cell_type": "code",
   "execution_count": null,
   "metadata": {},
   "outputs": [],
   "source": [
    "x = np.linspace(0, 5, 100)\n",
    "fig, ax = plt.subplots(figsize = (12, 8))\n",
    "\n",
    "df1 = [10, 5, 8, 15]\n",
    "df2 = [5, 10, 15, 8]\n",
    "\n",
    "for df in zip(df1, df2):\n",
    "    f_pdf = sp.stats.f.pdf(x, dfn = df[0], dfd = df[0])\n",
    "    ax.plot(x, f_pdf, lw =3, label = '$df_1 = %.d, df_2 = %.d$' %(df[0], df[1]))\n",
    "ax.legend(fontsize = 15)\n",
    "plt.show()"
   ]
  },
  {
   "cell_type": "markdown",
   "metadata": {},
   "source": [
    "$\\chi^2$ and $F$ distribution are mostly used for statistical testing, we will elaborate the topic later."
   ]
  },
  {
   "cell_type": "markdown",
   "metadata": {},
   "source": [
    "## <font face=\"gotham\" color=\"purple\"> Student's t Distribution"
   ]
  },
  {
   "cell_type": "markdown",
   "metadata": {},
   "source": [
    "The **t-distribution** is used when data are approximately normally distributed, which means the data follow a bell shape but the population variance is unknown. We will come back to this topic in chapter of estimation.\n",
    "\n",
    "The PDF of t-distribution is derived from normal and $\\chi^2$ distribution\n",
    "$$\n",
    "f(t)=\\frac{\\Gamma\\left(\\frac{\\nu+1}{2}\\right)}{\\sqrt{\\nu \\pi} \\Gamma\\left(\\frac{\\nu}{2}\\right)}\\left(1+\\frac{t^{2}}{\\nu}\\right)^{-\\frac{\\nu+1}{2}}\n",
    "$$\n",
    "No need to know the meaning of its components. But we do need a visual memory of the comparison of t-distribution and normal distribution."
   ]
  },
  {
   "cell_type": "markdown",
   "metadata": {},
   "source": [
    "If a sample has $n$ observations, then the degree of freedom (d.o.f.) of t-distribution is $n-1$, the larger the d.o.f. the closer to normal distribution."
   ]
  },
  {
   "cell_type": "code",
   "execution_count": null,
   "metadata": {},
   "outputs": [],
   "source": [
    "x = np.linspace(-3, 3, 100)\n",
    "y_norm = sp.stats.norm.pdf(x, loc=0, scale=1)\n",
    "fig, ax = plt.subplots(figsize = (12, 8))\n",
    "ax.plot(x, y_norm, label = 'Normal Distribution')\n",
    "for i in range(1, 11):\n",
    "    y_t = sp.stats.t.pdf(x, df = i, loc=0, scale=1)\n",
    "    ax.plot(x, y_t, color = 'tomato', alpha = .1*i, label = 't-Distribution with dof = {}'.format(i))\n",
    "ax.legend()\n",
    "plt.show()"
   ]
  }
 ],
 "metadata": {
  "kernelspec": {
   "display_name": "Python 3 (ipykernel)",
   "language": "python",
   "name": "python3"
  },
  "language_info": {
   "codemirror_mode": {
    "name": "ipython",
    "version": 3
   },
   "file_extension": ".py",
   "mimetype": "text/x-python",
   "name": "python",
   "nbconvert_exporter": "python",
   "pygments_lexer": "ipython3",
   "version": "3.9.12"
  },
  "toc": {
   "base_numbering": 1,
   "nav_menu": {},
   "number_sections": true,
   "sideBar": true,
   "skip_h1_title": false,
   "title_cell": "Table of Contents",
   "title_sidebar": "Contents",
   "toc_cell": false,
   "toc_position": {
    "height": "471.323px",
    "left": "161px",
    "top": "180px",
    "width": "209.396px"
   },
   "toc_section_display": true,
   "toc_window_display": true
  }
 },
 "nbformat": 4,
 "nbformat_minor": 4
}
