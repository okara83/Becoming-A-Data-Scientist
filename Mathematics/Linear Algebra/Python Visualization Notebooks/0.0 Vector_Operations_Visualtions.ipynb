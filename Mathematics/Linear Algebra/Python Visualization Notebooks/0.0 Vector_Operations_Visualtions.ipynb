{
 "cells": [
  {
   "cell_type": "code",
   "execution_count": null,
   "metadata": {
    "id": "bdOUC49sRrzd"
   },
   "outputs": [],
   "source": [
    "import numpy as np\n",
    "import matplotlib.pyplot as plt\n",
    "import seaborn as sns"
   ]
  },
  {
   "cell_type": "code",
   "execution_count": null,
   "metadata": {
    "id": "M2i-8UvOz2f4"
   },
   "outputs": [],
   "source": [
    "def plotVectors(vecs, cols, alpha=1):\n",
    "    \"\"\"\n",
    "    Plot set of vectors.\n",
    "\n",
    "    Parameters\n",
    "    ----------\n",
    "    vecs : array-like\n",
    "        Coordinates of the vectors to plot. Each vectors is in an array. For\n",
    "        instance: [[1, 3], [2, 2]] can be used to plot 2 vectors.\n",
    "    cols : array-like\n",
    "        Colors of the vectors. For instance: ['red', 'blue'] will display the\n",
    "        first vector in red and the second in blue.\n",
    "    alpha : float\n",
    "        Opacity of vectors\n",
    "\n",
    "    Returns:\n",
    "\n",
    "    fig : instance of matplotlib.figure.Figure\n",
    "        The figure of the vectors\n",
    "    \"\"\"\n",
    "    plt.axvline(x=0, color='#A9A9A9', zorder=0)\n",
    "    plt.axhline(y=0, color='#A9A9A9', zorder=0)\n",
    "\n",
    "    for i in range(len(vecs)):\n",
    "        if (isinstance(alpha, list)):\n",
    "            alpha_i = alpha[i]\n",
    "        else:\n",
    "            alpha_i = alpha\n",
    "        if (len(vecs[i])==2):\n",
    "            x = np.concatenate([[0,0],vecs[i]])\n",
    "        elif (len(vecs[i])==4):\n",
    "            x = vecs[i]\n",
    "        plt.quiver([x[0]],\n",
    "                   [x[1]],\n",
    "                   [x[2]],\n",
    "                   [x[3]],\n",
    "                   angles='xy', scale_units='xy', scale=1, color=cols[i],\n",
    "                  alpha=alpha_i)"
   ]
  },
  {
   "cell_type": "markdown",
   "metadata": {
    "id": "oYJiI1YlSJrK"
   },
   "source": [
    "## Plotting a single vector $\\vec u$\n",
    "$$ \\vec u= \\begin{bmatrix} 1 \\\\ 6 \\end{bmatrix} $$"
   ]
  },
  {
   "cell_type": "code",
   "execution_count": null,
   "metadata": {
    "id": "5O8rUVPGCZGK"
   },
   "outputs": [],
   "source": [
    "u = np.array([1, 6])"
   ]
  },
  {
   "cell_type": "code",
   "execution_count": null,
   "metadata": {
    "id": "pZaKtf7LUTT9"
   },
   "outputs": [],
   "source": [
    "u"
   ]
  },
  {
   "cell_type": "code",
   "execution_count": null,
   "metadata": {
    "id": "tDu6zPNTkCKH"
   },
   "outputs": [],
   "source": [
    "plt.ylim(-1, 7)\n",
    "plt.xlim(-1, 4)\n",
    "plotVectors([u], ['red'])"
   ]
  },
  {
   "cell_type": "markdown",
   "metadata": {
    "id": "-NEN4LvHSTq2"
   },
   "source": [
    " Add second vector $\\vec v$ and plot them together $$\\vec v = \\begin{bmatrix} 4 \\\\2 \\end{bmatrix}$$"
   ]
  },
  {
   "cell_type": "markdown",
   "metadata": {
    "id": "JCD_KaWjVKm5"
   },
   "source": [
    "Assign colors to vectors using sns and it's color palette options <br>(you could just as easily use `['red',blue']`<br>\n",
    "`colors = [sns.color_palette()[0],sns.color_palette()[1]]`"
   ]
  },
  {
   "cell_type": "code",
   "execution_count": null,
   "metadata": {
    "id": "miQZ7cy2Vfvb"
   },
   "outputs": [],
   "source": [
    "colors = [sns.color_palette()[0],sns.color_palette()[1]]"
   ]
  },
  {
   "cell_type": "code",
   "execution_count": null,
   "metadata": {
    "id": "ZdBDFY0IUifo"
   },
   "outputs": [],
   "source": [
    "plt.ylim(-1, 7)\n",
    "plt.xlim(-1, 5)\n",
    "plotVectors([u,v], [sns.color_palette()[0],sns.color_palette()[1]])"
   ]
  },
  {
   "cell_type": "code",
   "execution_count": null,
   "metadata": {
    "id": "VIhi1nvQRonC"
   },
   "outputs": [],
   "source": [
    "u = np.array([0,0,1,6])\n",
    "v = np.array([0,0,4,2])\n",
    "w = u+v\n",
    "\n",
    "u_bis = [u[2], u[3], v[2],v[3]]\n",
    "\n",
    "\n",
    "plotVectors([u, u_bis, w],\n",
    "            [sns.color_palette()[0],\n",
    "            sns.color_palette()[1],\n",
    "            sns.color_palette()[2]])\n",
    "\n",
    "plt.xlim(-2, 6)\n",
    "plt.ylim(-2, 9)\n",
    "\n",
    "plt.text(-1, 3.5, r'$||\\vec{u}||$', color=sns.color_palette()[0], size=20)\n",
    "plt.text(2.5, 7.5, r'$||\\vec{v}||$', color=sns.color_palette()[1], size=20)\n",
    "plt.text(2, 2, r'$||\\vec{u}+\\vec{v}||$', color=sns.color_palette()[2], size=20)\n",
    "\n",
    "plt.show()\n",
    "plt.close()"
   ]
  },
  {
   "cell_type": "code",
   "execution_count": null,
   "metadata": {
    "id": "-EaOUkq7TwOr"
   },
   "outputs": [],
   "source": []
  },
  {
   "cell_type": "markdown",
   "metadata": {
    "id": "nRiO9K3dXrp6"
   },
   "source": [
    "# $$A\\vec v \\text{ as a transform. Where the matrix will transform the vector into something new lets call it } \\vec b$$\n"
   ]
  },
  {
   "cell_type": "markdown",
   "metadata": {
    "id": "yCZ0EYoPXzK0"
   },
   "source": [
    "Given the vector $$\\vec v = \\begin{bmatrix} 2 \\\\ 1 \\end{bmatrix}$$"
   ]
  },
  {
   "cell_type": "code",
   "execution_count": null,
   "metadata": {
    "id": "voeIZ0k-XElU"
   },
   "outputs": [],
   "source": [
    "v = np.array([[2], [1]])\n",
    "v"
   ]
  },
  {
   "cell_type": "code",
   "execution_count": null,
   "metadata": {
    "id": "QMRYwgl2XEgY"
   },
   "outputs": [],
   "source": [
    "plotVectors([v.flatten()], ['#1190FF'])\n",
    "plt.ylim(-1, 3)\n",
    "plt.xlim(-1, 3)"
   ]
  },
  {
   "cell_type": "code",
   "execution_count": null,
   "metadata": {
    "id": "htpvwSCAXEit"
   },
   "outputs": [],
   "source": [
    "A = np.array([[-1, 3], [2, -2]])\n",
    "A"
   ]
  },
  {
   "cell_type": "markdown",
   "metadata": {
    "id": "8yCpuwm3ZHcR"
   },
   "source": [
    "$$ \\text{ Now definte the matrix } A \\text{ as } \\\\ \n",
    "A = \\begin{bmatrix} -1 & 3 \\\\ 2 &-2 \\end{bmatrix}$$"
   ]
  },
  {
   "cell_type": "markdown",
   "metadata": {
    "id": "js31qE87Z2gh"
   },
   "source": [
    "$$ \\text{Compute }  A\\vec v$$"
   ]
  },
  {
   "cell_type": "code",
   "execution_count": null,
   "metadata": {
    "id": "FRcp_p30XEna"
   },
   "outputs": [],
   "source": [
    "Av = np.matmul(A,v)"
   ]
  },
  {
   "cell_type": "code",
   "execution_count": null,
   "metadata": {
    "id": "8ztmyqJraNkA"
   },
   "outputs": [],
   "source": [
    "Av"
   ]
  },
  {
   "cell_type": "code",
   "execution_count": null,
   "metadata": {
    "id": "RAxx2LcXXEqF"
   },
   "outputs": [],
   "source": [
    "plotVectors([v.flatten(),Av.flatten()], ['#1190FF','#FF9A13'])\n",
    "plt.ylim(-1, 3)\n",
    "plt.xlim(-1, 3)"
   ]
  },
  {
   "cell_type": "code",
   "execution_count": null,
   "metadata": {
    "id": "MkA6Yv3paYYO"
   },
   "outputs": [],
   "source": []
  }
 ],
 "metadata": {
  "colab": {
   "collapsed_sections": [],
   "name": "Vector_Operations_Visualtions.ipynb",
   "private_outputs": true,
   "provenance": []
  },
  "kernelspec": {
   "display_name": "Python 3 (ipykernel)",
   "language": "python",
   "name": "python3"
  },
  "language_info": {
   "codemirror_mode": {
    "name": "ipython",
    "version": 3
   },
   "file_extension": ".py",
   "mimetype": "text/x-python",
   "name": "python",
   "nbconvert_exporter": "python",
   "pygments_lexer": "ipython3",
   "version": "3.9.10"
  }
 },
 "nbformat": 4,
 "nbformat_minor": 1
}
