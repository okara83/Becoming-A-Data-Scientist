{
 "cells": [
  {
   "cell_type": "code",
   "execution_count": 10,
   "id": "8f9aea50",
   "metadata": {},
   "outputs": [
    {
     "name": "stdout",
     "output_type": "stream",
     "text": [
      "s: 0\n",
      "t_1: nan\n",
      "t_2: -1.0\n"
     ]
    },
    {
     "name": "stderr",
     "output_type": "stream",
     "text": [
      "/var/folders/sd/1vc_q83x5rn9jjrd0x47_cc00000gn/T/ipykernel_92659/4172601782.py:14: RuntimeWarning: invalid value encountered in true_divide\n",
      "  return a/np.linalg.norm(a)\n"
     ]
    }
   ],
   "source": [
    "import numpy as np\n",
    "from skspatial.objects import plane\n",
    "from sympy import Plane\n",
    "\n",
    "def perpendicular(a):\n",
    "    b = np.empty_like(a)\n",
    "    b[0] = -a[1]\n",
    "    b[1] = a[0]\n",
    "    return b\n",
    "\n",
    "\n",
    "def normalize(a):\n",
    "    a = np.array(a)\n",
    "    return a/np.linalg.norm(a)\n",
    "\n",
    "\n",
    "def get2DProjection(origin, target_point):\n",
    "    points = [origin,\n",
    "              target_point,\n",
    "              [target_point[0], target_point[1], target_point[2] + 1]]  # add 1 in order not to be collinear\n",
    "\n",
    "    plane = Plane(points[0], points[1], points[2])\n",
    "    plane_normal = np.array(plane.normal_vector)\n",
    "\n",
    "    target_point, origin = np.array(target_point), np.array(origin)\n",
    "\n",
    "    x_axis = normalize(np.array([target_point[0], target_point[1], 0]))\n",
    "    y_axis = normalize(np.array([0, 0, 1]))\n",
    "\n",
    "    s = np.dot(plane_normal, target_point-origin)\n",
    "    x_coord = np.dot(x_axis, target_point-origin)\n",
    "    y_coord = np.dot(y_axis, target_point-origin)\n",
    "\n",
    "    return s, x_coord, y_coord\n",
    "\n",
    "\n",
    "if __name__ == \"__main__\":\n",
    "    target_point = [2, 2, 1]\n",
    "    origin = [0, 0, 0]\n",
    "    s, t_1, t_2 = get2DProjection(target_point, origin)\n",
    "\n",
    "    print(\"s:\", s)\n",
    "    print(\"t_1:\", t_1)\n",
    "    print(\"t_2:\", t_2)"
   ]
  },
  {
   "cell_type": "code",
   "execution_count": null,
   "id": "6dc59336",
   "metadata": {},
   "outputs": [],
   "source": []
  }
 ],
 "metadata": {
  "kernelspec": {
   "display_name": "Python 3 (ipykernel)",
   "language": "python",
   "name": "python3"
  },
  "language_info": {
   "codemirror_mode": {
    "name": "ipython",
    "version": 3
   },
   "file_extension": ".py",
   "mimetype": "text/x-python",
   "name": "python",
   "nbconvert_exporter": "python",
   "pygments_lexer": "ipython3",
   "version": "3.9.10"
  }
 },
 "nbformat": 4,
 "nbformat_minor": 5
}
