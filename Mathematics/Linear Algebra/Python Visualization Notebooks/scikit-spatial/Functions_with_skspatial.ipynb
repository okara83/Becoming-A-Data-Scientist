{
 "cells": [
  {
   "cell_type": "code",
   "execution_count": 24,
   "id": "199652d5",
   "metadata": {},
   "outputs": [],
   "source": [
    "import matplotlib.pyplot as plt\n",
    "import numpy as np\n",
    "\n",
    "from skspatial.objects import Line, Point\n",
    "from skspatial.plotting import plot_2d\n",
    "\n",
    "default_xsection = {\n",
    "    'points': [],\n",
    "    'bearing': None,\n",
    "    'length': None,\n",
    "    'plot_orientation': 'horizontal',  # scikit Line object\n",
    "    'line': None,\n",
    "}\n",
    "\n",
    "def xsection_from_points(p1, p2, width=30):\n",
    "\n",
    "    line = Line.from_points([p1[1], p1[0]], [p2[1], p2[0]])  # must send (lon, lat) to from_points()\n",
    "\n",
    "    xsection = default_xsection\n",
    "    xsection['points'] = [p1, p2]\n",
    "    xsection['line']: line\n",
    "\n",
    "    return xsection\n",
    "\n",
    "\n",
    "def xsection_from_origin(origin, bearing, km):\n",
    "\n",
    "    from vdapseisutils.maputils.utils.utils import sight_point_pyproj\n",
    "\n",
    "    p1 = sight_point_pyproj(origin, bearing+180, km, ellipse='WGS84')  # p1 returned as (lat, lon)\n",
    "    p2 = sight_point_pyproj(origin, bearing, km, ellipse='WGS84')  # p2 returns as (lat, lon)\n",
    "\n",
    "    xsection = xsection_from_points(p1, p2)\n",
    "    xsection['bearing'] = bearing\n",
    "\n",
    "    return xsection\n",
    "\n",
    "\n",
    "def xsection_project_points(xsection, latlons):\n",
    "\n",
    "    projected_points = []  # list of (lon, lat) for the projected points)\n",
    "    xs_distances = []  # Projected EQ location distance from beginning of cross-section\n",
    "    for latlon in latlons:\n",
    "        xy = (latlon[1], latlon[0])  # convert (lat, lon) to (x, y)\n",
    "        xy_ = xsection['line'].project_point(xy)\n",
    "        latlon_ = (xy_[1], xy_[0])  # reverse back to (lat, lon)\n",
    "        d_ = vdapseisutils.great_circle_distance(xsection['points'][0], latlon_)  # great circle distance between 2 points A1 and latlon_\n",
    "        projected_points.append(latlon_)\n",
    "        xs_distances.append(d_)\n",
    "    # remove negative distances\n",
    "    # remove distances greater than xs length\n",
    "\n",
    "    return projected_points, xs_distances\n",
    "\n",
    "def method_explained():\n",
    "\n",
    "    # Remember that everything needs to be in (lon, lat) for this!\n",
    "\n",
    "    # determine A1: volcano point + theta + 180 to n km\n",
    "    # determine A2: volcano point + theta to n km\n",
    "\n",
    "    A1 = (0, 0)  # First point of cross-section A-A'\n",
    "    A2 = (0, 0)  # Second point of cross-section A-A'\n",
    "    points = [(0, 0), (0, 0), (0, 0)]  # List of EQ epicenters\n",
    "\n",
    "    xsline = Line.from_points(A1, A2)  # cross-section line\n",
    "    xs_length = vdapseisutils.great_circle_distance(A1, A2)\n",
    "\n",
    "    projected_points = []  # list of (lon, lat) for the projected points)\n",
    "    eqxs_distances = []  # Projected EQ location distance from beginning of cross-section\n",
    "    for p in points:\n",
    "        p_ = xsline.project_point(p)  # projected (lon, lat) coordinates on the line\n",
    "        d_ = vdapseisutils.great_circle_distance(A1, p_)  # great circle distance between 2 points A1 and p_\n",
    "        projected_points.append(p_)\n",
    "        eqxs_distances.append(d_)\n",
    "\n",
    "    # remove negative distances\n",
    "    # remove distances greater than xs length\n",
    "\n",
    "    # draw cross-section on map\n",
    "    # add lables to map\n",
    "    # plot eq hypocenters cross-section"
   ]
  },
  {
   "cell_type": "code",
   "execution_count": 27,
   "id": "7b513912",
   "metadata": {},
   "outputs": [],
   "source": [
    "def plot_all():\n",
    "\n",
    "    plt.figure(figsize=(6, 6))\n",
    "\n",
    "    plt.plot((-10, 10), (0, 0), 'r')\n",
    "    plt.plot((0, 0), (-10, 10), 'k')\n",
    "    plt.plot((-5, 5), (-5, 5), 'k')\n",
    "\n",
    "    line = Line.from_points([-5, -5], [5, 5])\n",
    "    print(line)\n",
    "\n",
    "    a = Point([2.5, 0])\n",
    "    aa = line.project_point(a)\n",
    "\n",
    "    b = Point([-1, 5])\n",
    "    bb = line.project_point(b)\n",
    "\n",
    "    c = Point([-2.5, -8])\n",
    "    cc = line.project_point(c)\n",
    "\n",
    "    print(aa)\n",
    "    plt.plot(a[0], a[1], 'or')\n",
    "    plt.plot(aa[0], aa[1], '*r')\n",
    "    print()\n",
    "\n",
    "    print(bb)\n",
    "    plt.plot(b[0], b[1], 'ok')\n",
    "    plt.plot(bb[0], bb[1], '*k')\n",
    "    print()\n",
    "\n",
    "    print(cc)\n",
    "    plt.plot(c[0], c[1], 'og')\n",
    "    plt.plot(cc[0], cc[1], '*g')\n",
    "    print()\n",
    "\n",
    "    plt.show()"
   ]
  },
  {
   "cell_type": "code",
   "execution_count": 28,
   "id": "441dd887",
   "metadata": {},
   "outputs": [
    {
     "name": "stdout",
     "output_type": "stream",
     "text": [
      "Line(point=Point([-5, -5]), direction=Vector([10, 10]))\n",
      "[1.25 1.25]\n",
      "\n",
      "[2. 2.]\n",
      "\n",
      "[-5.25 -5.25]\n",
      "\n"
     ]
    },
    {
     "data": {
      "image/png": "[encoded data removed]",
      "text/plain": [
       "<Figure size 432x432 with 1 Axes>"
      ]
     },
     "metadata": {
      "needs_background": "light"
     },
     "output_type": "display_data"
    }
   ],
   "source": [
    "plot_all()"
   ]
  },
  {
   "cell_type": "code",
   "execution_count": null,
   "id": "b4edce9e",
   "metadata": {},
   "outputs": [],
   "source": []
  }
 ],
 "metadata": {
  "kernelspec": {
   "display_name": "Python 3 (ipykernel)",
   "language": "python",
   "name": "python3"
  },
  "language_info": {
   "codemirror_mode": {
    "name": "ipython",
    "version": 3
   },
   "file_extension": ".py",
   "mimetype": "text/x-python",
   "name": "python",
   "nbconvert_exporter": "python",
   "pygments_lexer": "ipython3",
   "version": "3.9.10"
  }
 },
 "nbformat": 4,
 "nbformat_minor": 5
}
