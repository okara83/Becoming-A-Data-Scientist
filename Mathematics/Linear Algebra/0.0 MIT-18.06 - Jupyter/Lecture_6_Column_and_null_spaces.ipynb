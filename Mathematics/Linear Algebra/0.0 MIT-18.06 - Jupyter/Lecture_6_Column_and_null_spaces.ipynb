{
 "cells": [
  {
   "cell_type": "code",
   "execution_count": 1,
   "metadata": {},
   "outputs": [
    {
     "data": {
      "text/html": [
       "<link href='http://fonts.googleapis.com/css?family=Alegreya+Sans:100,300,400,500,700,800,900,100italic,300italic,400italic,500italic,700italic,800italic,900italic' rel='stylesheet' type='text/css'>\n",
       "<link href='http://fonts.googleapis.com/css?family=Arvo:400,700,400italic' rel='stylesheet' type='text/css'>\n",
       "<link href='http://fonts.googleapis.com/css?family=PT+Mono' rel='stylesheet' type='text/css'>\n",
       "<link href='http://fonts.googleapis.com/css?family=Shadows+Into+Light' rel='stylesheet' type='text/css'>\n",
       "<link href='http://fonts.googleapis.com/css?family=Philosopher:400,700,400italic,700italic' rel='stylesheet' type='text/css'>\n",
       "\n",
       "<style>\n",
       "\n",
       "@font-face {\n",
       "    font-family: \"Computer Modern\";\n",
       "    src: url('http://mirrors.ctan.org/fonts/cm-unicode/fonts/otf/cmunss.otf');\n",
       "}\n",
       "\n",
       "\n",
       "\n",
       "/* Formatting for header cells */\n",
       ".text_cell_render h1 {\n",
       "    font-family: 'Philosopher', sans-serif;\n",
       "    font-weight: 400;\n",
       "    font-size: 2.2em;\n",
       "    line-height: 100%;\n",
       "    color: rgb(0, 80, 120);\n",
       "    margin-bottom: 0.1em;\n",
       "    margin-top: 0.1em;\n",
       "    display: block;\n",
       "}\t\n",
       ".text_cell_render h2 {\n",
       "    font-family: 'Philosopher', serif;\n",
       "    font-weight: 400;\n",
       "    font-size: 1.9em;\n",
       "    line-height: 100%;\n",
       "    color: rgb(245,179,64);\n",
       "    margin-bottom: 0.1em;\n",
       "    margin-top: 0.1em;\n",
       "    display: block;\n",
       "}\t\n",
       "\n",
       ".text_cell_render h3 {\n",
       "    font-family: 'Philosopher', serif;\n",
       "    margin-top:12px;\n",
       "    margin-bottom: 3px;\n",
       "    font-style: italic;\n",
       "    color: rgb(94,127,192);\n",
       "}\n",
       "\n",
       ".text_cell_render h4 {\n",
       "    font-family: 'Philosopher', serif;\n",
       "}\n",
       "\n",
       ".text_cell_render h5 {\n",
       "    font-family: 'Alegreya Sans', sans-serif;\n",
       "    font-weight: 300;\n",
       "    font-size: 16pt;\n",
       "    color: grey;\n",
       "    font-style: italic;\n",
       "    margin-bottom: .1em;\n",
       "    margin-top: 0.1em;\n",
       "    display: block;\n",
       "}\n",
       "\n",
       ".text_cell_render h6 {\n",
       "    font-family: 'PT Mono', sans-serif;\n",
       "    font-weight: 300;\n",
       "    font-size: 10pt;\n",
       "    color: grey;\n",
       "    margin-bottom: 1px;\n",
       "    margin-top: 1px;\n",
       "}\n",
       "\n",
       ".CodeMirror{\n",
       "        font-family: \"PT Mono\";\n",
       "        font-size: 100%;\n",
       "}\n",
       "\n",
       "</style>\n",
       "\n"
      ],
      "text/plain": [
       "<IPython.core.display.HTML object>"
      ]
     },
     "execution_count": 1,
     "metadata": {},
     "output_type": "execute_result"
    }
   ],
   "source": [
    "from IPython.core.display import HTML, Image\n",
    "css_file = 'style.css'\n",
    "HTML(open(css_file, 'r').read())"
   ]
  },
  {
   "cell_type": "code",
   "execution_count": 2,
   "metadata": {},
   "outputs": [],
   "source": [
    "from sympy import init_printing, Matrix, symbols, eye, Rational\n",
    "init_printing()"
   ]
  },
  {
   "cell_type": "markdown",
   "metadata": {},
   "source": [
    "# Columnspace and nullspace of a matrix"
   ]
  },
  {
   "cell_type": "markdown",
   "metadata": {},
   "source": [
    "## Columnspaces of matrices"
   ]
  },
  {
   "cell_type": "markdown",
   "metadata": {},
   "source": [
    "We saw in the previous lecture that columns of a matrix can be regarded as vectors."
   ]
  },
  {
   "cell_type": "markdown",
   "metadata": {},
   "source": [
    "Consider the following example matrix."
   ]
  },
  {
   "cell_type": "code",
   "execution_count": 5,
   "metadata": {},
   "outputs": [
    {
     "data": {
      "image/png": "[encoded data removed]",
      "text/latex": [
       "$$\\left[\\begin{matrix}1 & 1 & 2\\\\2 & 1 & 3\\\\3 & 1 & 4\\\\4 & 1 & 5\\end{matrix}\\right]$$"
      ],
      "text/plain": [
       "⎡1  1  2⎤\n",
       "⎢       ⎥\n",
       "⎢2  1  3⎥\n",
       "⎢       ⎥\n",
       "⎢3  1  4⎥\n",
       "⎢       ⎥\n",
       "⎣4  1  5⎦"
      ]
     },
     "execution_count": 5,
     "metadata": {},
     "output_type": "execute_result"
    }
   ],
   "source": [
    "A = Matrix([[1, 1, 2], [2, 1, 3], [3, 1, 4], [4, 1, 5]])\n",
    "A"
   ]
  },
  {
   "cell_type": "code",
   "execution_count": 8,
   "metadata": {},
   "outputs": [
    {
     "data": {
      "image/png": "[encoded data removed]",
      "text/latex": [
       "$$\\left[\\begin{matrix}1\\\\2\\\\3\\\\4\\end{matrix}\\right]$$"
      ],
      "text/plain": [
       "⎡1⎤\n",
       "⎢ ⎥\n",
       "⎢2⎥\n",
       "⎢ ⎥\n",
       "⎢3⎥\n",
       "⎢ ⎥\n",
       "⎣4⎦"
      ]
     },
     "execution_count": 8,
     "metadata": {},
     "output_type": "execute_result"
    }
   ],
   "source": [
    "b = Matrix([1, 2, 3, 4])\n",
    "b"
   ]
  },
  {
   "cell_type": "markdown",
   "metadata": {},
   "source": [
    "Each of the column spaces are vectors (column space) in $\\mathbb{R}^4$.  The linear combinations of all the column vectors form a subspace.  Is it the whole $V= \\mathbb{R}^4$, though?  The reason why we ask, is because we want to bring it back to a system of linear equations and ask the question: _Is there (always) a solution to_ (1)_?_"
   ]
  },
  {
   "cell_type": "markdown",
   "metadata": {},
   "source": [
    "$${A}\\underline{x}=\\underline{b}\\tag{1}$$"
   ]
  },
  {
   "cell_type": "markdown",
   "metadata": {},
   "source": [
    "In other words, which right-hand sides $\\underline{b}$ are allowed?  In our example above we are in $\\mathbb{R}^4$ and we ask if linear combination of all of them fill $\\mathbb{R}^4$."
   ]
  },
  {
   "cell_type": "markdown",
   "metadata": {},
   "source": [
    "From our example above some right-hand sides will be allowed (they form a subspace).  Let's look at an example for $\\underline{b}$."
   ]
  },
  {
   "cell_type": "code",
   "execution_count": 6,
   "metadata": {},
   "outputs": [
    {
     "data": {
      "image/png": "[encoded data removed]",
      "text/latex": [
       "$$\\left ( \\left[\\begin{matrix}1 & 1 & 2\\\\2 & 1 & 3\\\\3 & 1 & 4\\\\4 & 1 & 5\\end{matrix}\\right], \\quad \\left[\\begin{matrix}x_{1}\\\\x_{2}\\\\x_{3}\\end{matrix}\\right], \\quad \\left[\\begin{matrix}1\\\\2\\\\3\\\\4\\end{matrix}\\right]\\right )$$"
      ],
      "text/plain": [
       "⎛⎡1  1  2⎤        ⎡1⎤⎞\n",
       "⎜⎢       ⎥  ⎡x₁⎤  ⎢ ⎥⎟\n",
       "⎜⎢2  1  3⎥  ⎢  ⎥  ⎢2⎥⎟\n",
       "⎜⎢       ⎥, ⎢x₂⎥, ⎢ ⎥⎟\n",
       "⎜⎢3  1  4⎥  ⎢  ⎥  ⎢3⎥⎟\n",
       "⎜⎢       ⎥  ⎣x₃⎦  ⎢ ⎥⎟\n",
       "⎝⎣4  1  5⎦        ⎣4⎦⎠"
      ]
     },
     "execution_count": 6,
     "metadata": {},
     "output_type": "execute_result"
    }
   ],
   "source": [
    "x1, x2, x3 = symbols('x1, x2, x3')\n",
    "vec_x = Matrix([x1, x2, x3])\n",
    "b = Matrix([1, 2, 3, 4])\n",
    "A, vec_x, b"
   ]
  },
  {
   "cell_type": "code",
   "execution_count": 7,
   "metadata": {},
   "outputs": [
    {
     "data": {
      "image/png": "[encoded data removed]",
      "text/latex": [
       "$$\\left[\\begin{matrix}x_{1} + x_{2} + 2 x_{3}\\\\2 x_{1} + x_{2} + 3 x_{3}\\\\3 x_{1} + x_{2} + 4 x_{3}\\\\4 x_{1} + x_{2} + 5 x_{3}\\end{matrix}\\right]$$"
      ],
      "text/plain": [
       "⎡ x₁ + x₂ + 2⋅x₃ ⎤\n",
       "⎢                ⎥\n",
       "⎢2⋅x₁ + x₂ + 3⋅x₃⎥\n",
       "⎢                ⎥\n",
       "⎢3⋅x₁ + x₂ + 4⋅x₃⎥\n",
       "⎢                ⎥\n",
       "⎣4⋅x₁ + x₂ + 5⋅x₃⎦"
      ]
     },
     "execution_count": 7,
     "metadata": {},
     "output_type": "execute_result"
    }
   ],
   "source": [
    "A * vec_x"
   ]
  },
  {
   "cell_type": "markdown",
   "metadata": {},
   "source": [
    "While we can view this as a system of linear equation, we will prefer the column view.  By viewing the matrix of coefficients, with the columns as vectors, we are asking: _How many, $x_1$, of column $1$ plus how many, $x_2$, of columns $2$, plus how many, $x_3$ of column $3$ equals $\\underline{b}$_?  The question is easier to visualize when written as in (2)."
   ]
  },
  {
   "cell_type": "markdown",
   "metadata": {},
   "source": [
    "$$x_1\\begin{bmatrix}1\\\\2\\\\3\\\\4\\end{bmatrix}+x_2\\begin{bmatrix}1\\\\1\\\\1\\\\1\\end{bmatrix}+x_3\\begin{bmatrix}2\\\\3\\\\4\\\\5\\end{bmatrix}=\\underline{b}\\tag{2}$$"
   ]
  },
  {
   "cell_type": "markdown",
   "metadata": {},
   "source": [
    "Well, since $\\underline{b}$ is the same as the first column, $\\underline{x}$ would be as shown in (3)."
   ]
  },
  {
   "cell_type": "markdown",
   "metadata": {},
   "source": [
    "$$\\begin{bmatrix}1\\\\0\\\\0\\end{bmatrix}\\tag{3}$$"
   ]
  },
  {
   "cell_type": "code",
   "execution_count": 10,
   "metadata": {},
   "outputs": [
    {
     "data": {
      "text/plain": [
       "True"
      ]
     },
     "execution_count": 10,
     "metadata": {},
     "output_type": "execute_result"
    }
   ],
   "source": [
    "A * Matrix([1, 0, 0]) == b"
   ]
  },
  {
   "cell_type": "markdown",
   "metadata": {},
   "source": [
    "### Linear independence"
   ]
  },
  {
   "cell_type": "markdown",
   "metadata": {},
   "source": [
    "We really need to know if the columns above are linearly independent (not constant multiples or additions of each other).  We note that column three above is a linear combination of the first two, so adds nothing _new_.  Actually, we could also throw away the first one because it is column $3$ plus $-1$ times column $2$.  Same for column$2$.  We thus have two columns left and we say that the column space is of dimension $2$ (a 2-dimensional subspace of $\\mathbb{R}^4$)."
   ]
  },
  {
   "cell_type": "markdown",
   "metadata": {},
   "source": [
    "## The nullspace"
   ]
  },
  {
   "cell_type": "markdown",
   "metadata": {},
   "source": [
    "The null space contains all solutions of $\\underline{x}$ for $A\\underline{x}=\\underline{0}$.  This solution(s) is (are) in $\\mathbb{R}^3$."
   ]
  },
  {
   "cell_type": "code",
   "execution_count": 6,
   "metadata": {},
   "outputs": [
    {
     "data": {
      "text/latex": [
       "$$\\begin{pmatrix}\\left[\\begin{matrix}1 & 1 & 2\\\\2 & 1 & 3\\\\3 & 1 & 4\\\\4 & 1 & 5\\end{matrix}\\right], & \\left[\\begin{matrix}x_{1}\\\\x_{2}\\\\x_{3}\\end{matrix}\\right], & \\left[\\begin{matrix}0\\\\0\\\\0\\\\0\\end{matrix}\\right]\\end{pmatrix}$$"
      ],
      "text/plain": [
       "⎛⎡1  1  2⎤, ⎡x₁⎤, ⎡0⎤⎞\n",
       "⎜⎢       ⎥  ⎢  ⎥  ⎢ ⎥⎟\n",
       "⎜⎢2  1  3⎥  ⎢x₂⎥  ⎢0⎥⎟\n",
       "⎜⎢       ⎥  ⎢  ⎥  ⎢ ⎥⎟\n",
       "⎜⎢3  1  4⎥  ⎣x₃⎦  ⎢0⎥⎟\n",
       "⎜⎢       ⎥        ⎢ ⎥⎟\n",
       "⎝⎣4  1  5⎦        ⎣0⎦⎠"
      ]
     },
     "execution_count": 6,
     "metadata": {},
     "output_type": "execute_result"
    }
   ],
   "source": [
    "zero_b = Matrix([0, 0, 0, 0])\n",
    "A, vec_x, zero_b"
   ]
  },
  {
   "cell_type": "markdown",
   "metadata": {},
   "source": [
    "Some possible solutions are shown in (4)."
   ]
  },
  {
   "cell_type": "markdown",
   "metadata": {},
   "source": [
    "$$\\begin{bmatrix}0\\\\0\\\\0\\end{bmatrix},\\quad\\begin{bmatrix}1\\\\1\\\\-2\\end{bmatrix},\\quad\\begin{bmatrix}2\\\\2\\\\-2\\end{bmatrix}\\tag{4}$$"
   ]
  },
  {
   "cell_type": "markdown",
   "metadata": {},
   "source": [
    "In fact, fro any constant, $c$, these can all be written as in (5)."
   ]
  },
  {
   "cell_type": "markdown",
   "metadata": {},
   "source": [
    "$$ {c}\\begin{bmatrix}1\\\\1\\\\-1\\end{bmatrix}\\tag{5}$$"
   ]
  },
  {
   "cell_type": "markdown",
   "metadata": {},
   "source": [
    "__Always__ remember, for any space the rules of addition and scalar multiplication must hold for vectors to remain in that space."
   ]
  },
  {
   "cell_type": "code",
   "execution_count": null,
   "metadata": {},
   "outputs": [],
   "source": []
  }
 ],
 "metadata": {
  "kernelspec": {
   "display_name": "Python 3 (ipykernel)",
   "language": "python",
   "name": "python3"
  },
  "language_info": {
   "codemirror_mode": {
    "name": "ipython",
    "version": 3
   },
   "file_extension": ".py",
   "mimetype": "text/x-python",
   "name": "python",
   "nbconvert_exporter": "python",
   "pygments_lexer": "ipython3",
   "version": "3.9.10"
  }
 },
 "nbformat": 4,
 "nbformat_minor": 1
}
