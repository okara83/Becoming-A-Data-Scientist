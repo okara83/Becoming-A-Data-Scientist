{
 "cells": [
  {
   "cell_type": "code",
   "execution_count": 1,
   "metadata": {},
   "outputs": [
    {
     "data": {
      "text/html": [
       "<link href='http://fonts.googleapis.com/css?family=Alegreya+Sans:100,300,400,500,700,800,900,100italic,300italic,400italic,500italic,700italic,800italic,900italic' rel='stylesheet' type='text/css'>\n",
       "<link href='http://fonts.googleapis.com/css?family=Arvo:400,700,400italic' rel='stylesheet' type='text/css'>\n",
       "<link href='http://fonts.googleapis.com/css?family=PT+Mono' rel='stylesheet' type='text/css'>\n",
       "<link href='http://fonts.googleapis.com/css?family=Shadows+Into+Light' rel='stylesheet' type='text/css'>\n",
       "<link href='http://fonts.googleapis.com/css?family=Philosopher:400,700,400italic,700italic' rel='stylesheet' type='text/css'>\n",
       "\n",
       "<style>\n",
       "\n",
       "@font-face {\n",
       "    font-family: \"Computer Modern\";\n",
       "    src: url('http://mirrors.ctan.org/fonts/cm-unicode/fonts/otf/cmunss.otf');\n",
       "}\n",
       "\n",
       "\n",
       "\n",
       "/* Formatting for header cells */\n",
       ".text_cell_render h1 {\n",
       "    font-family: 'Philosopher', sans-serif;\n",
       "    font-weight: 400;\n",
       "    font-size: 2.2em;\n",
       "    line-height: 100%;\n",
       "    color: rgb(0, 80, 120);\n",
       "    margin-bottom: 0.1em;\n",
       "    margin-top: 0.1em;\n",
       "    display: block;\n",
       "}\t\n",
       ".text_cell_render h2 {\n",
       "    font-family: 'Philosopher', serif;\n",
       "    font-weight: 400;\n",
       "    font-size: 1.9em;\n",
       "    line-height: 100%;\n",
       "    color: rgb(245,179,64);\n",
       "    margin-bottom: 0.1em;\n",
       "    margin-top: 0.1em;\n",
       "    display: block;\n",
       "}\t\n",
       "\n",
       ".text_cell_render h3 {\n",
       "    font-family: 'Philosopher', serif;\n",
       "    margin-top:12px;\n",
       "    margin-bottom: 3px;\n",
       "    font-style: italic;\n",
       "    color: rgb(94,127,192);\n",
       "}\n",
       "\n",
       ".text_cell_render h4 {\n",
       "    font-family: 'Philosopher', serif;\n",
       "}\n",
       "\n",
       ".text_cell_render h5 {\n",
       "    font-family: 'Alegreya Sans', sans-serif;\n",
       "    font-weight: 300;\n",
       "    font-size: 16pt;\n",
       "    color: grey;\n",
       "    font-style: italic;\n",
       "    margin-bottom: .1em;\n",
       "    margin-top: 0.1em;\n",
       "    display: block;\n",
       "}\n",
       "\n",
       ".text_cell_render h6 {\n",
       "    font-family: 'PT Mono', sans-serif;\n",
       "    font-weight: 300;\n",
       "    font-size: 10pt;\n",
       "    color: grey;\n",
       "    margin-bottom: 1px;\n",
       "    margin-top: 1px;\n",
       "}\n",
       "\n",
       ".CodeMirror{\n",
       "        font-family: \"PT Mono\";\n",
       "        font-size: 100%;\n",
       "}\n",
       "\n",
       "</style>\n",
       "\n"
      ],
      "text/plain": [
       "<IPython.core.display.HTML object>"
      ]
     },
     "execution_count": 1,
     "metadata": {},
     "output_type": "execute_result"
    }
   ],
   "source": [
    "from IPython.core.display import HTML, Image\n",
    "css_file = 'style.css'\n",
    "HTML(open(css_file, 'r').read())"
   ]
  },
  {
   "cell_type": "code",
   "execution_count": 1,
   "metadata": {},
   "outputs": [],
   "source": [
    "# Imports\n",
    "from sympy import init_printing, Matrix, symbols, sqrt, Rational, acos\n",
    "from numpy import matrix, transpose, sqrt\n",
    "from numpy.linalg import pinv, inv, det, svd, norm\n",
    "from scipy.linalg import pinv2\n",
    "init_printing()"
   ]
  },
  {
   "cell_type": "markdown",
   "metadata": {},
   "source": [
    "# An overview of key ideas"
   ]
  },
  {
   "cell_type": "markdown",
   "metadata": {},
   "source": [
    "## Moving from vectors to matrices"
   ]
  },
  {
   "cell_type": "markdown",
   "metadata": {},
   "source": [
    "Consider two position vectors $\\underline{u} , \\underline{v} \\in \\mathbb{R}^{3}$.  They can be expressed as column vectors."
   ]
  },
  {
   "cell_type": "markdown",
   "metadata": {},
   "source": [
    "$$ \\underline{u}=\\begin{bmatrix}1\\\\-1\\\\0\\end{bmatrix} \\\\ \\underline{v}=\\begin{bmatrix}0\\\\1\\\\-1\\end{bmatrix} \\tag{1} $$"
   ]
  },
  {
   "cell_type": "markdown",
   "metadata": {},
   "source": [
    "We can add constant scalar multiples of these vectors, with the scalars $x_1$ and $x_2$."
   ]
  },
  {
   "cell_type": "markdown",
   "metadata": {},
   "source": [
    "$$ {x}_{1}\\underline{u}+{x}_{2}\\underline{v}=\\underline{b} \\tag{2} $$"
   ]
  },
  {
   "cell_type": "markdown",
   "metadata": {},
   "source": [
    "This is simple vector addition.  It's easy to visualize that if we combine all possible combinations, that we start filling a plane through the origin.  Adding a third vector that is not in this plane will, using all possible linear combinations, extend to fill all of three-dimensional space."
   ]
  },
  {
   "cell_type": "markdown",
   "metadata": {},
   "source": [
    "$$ \\underline{w}=\\begin{bmatrix}0\\\\0\\\\1\\end{bmatrix} \\tag{3} $$"
   ]
  },
  {
   "cell_type": "markdown",
   "metadata": {},
   "source": [
    "We now have (4) below."
   ]
  },
  {
   "cell_type": "markdown",
   "metadata": {},
   "source": [
    "$$ {x}_{1}\\underline{u}+{x}_{2}\\underline{v}+{x}_{3}\\underline{w}={b} \\tag{4} $$"
   ]
  },
  {
   "cell_type": "markdown",
   "metadata": {},
   "source": [
    "We can write the coefficients of the vectors as a vector of unknowns, $\\underline{x}$, shown in (5)."
   ]
  },
  {
   "cell_type": "markdown",
   "metadata": {},
   "source": [
    "$$ \\underline{x} = \\begin{bmatrix} x_1 \\\\ x_2 \\\\ x_3 \\end{bmatrix}\\tag{5}$$"
   ]
  },
  {
   "cell_type": "markdown",
   "metadata": {},
   "source": [
    "Let us now write (4) is the form $A \\underline{x} = \\underline{b}$."
   ]
  },
  {
   "cell_type": "markdown",
   "metadata": {},
   "source": [
    "$$ \\begin{bmatrix} 1 & 0 & 0 \\\\ -1 & 1 & 0 \\\\ 0 & -1 & 1 \\end{bmatrix}\\begin{bmatrix} { x }_{ 1 } \\\\ { x }_{ 2 } \\\\ { x }_{ 3 } \\end{bmatrix}=\\begin{bmatrix} { x }_{ 1 } \\\\ { x }_{ 2 }-{ x }_{ 1 } \\\\ { x }_{ 3 }-{ x }_{ 2 } \\end{bmatrix} \\tag{6} $$"
   ]
  },
  {
   "cell_type": "markdown",
   "metadata": {},
   "source": [
    "We create matrix $A$ in code below."
   ]
  },
  {
   "cell_type": "code",
   "execution_count": 2,
   "metadata": {},
   "outputs": [
    {
     "data": {
      "image/png": "[encoded data removed]",
      "text/latex": [
       "$\\displaystyle \\left[\\begin{matrix}1 & 0 & 0\\\\-1 & 1 & 0\\\\0 & -1 & 1\\end{matrix}\\right]$"
      ],
      "text/plain": [
       "⎡1   0   0⎤\n",
       "⎢         ⎥\n",
       "⎢-1  1   0⎥\n",
       "⎢         ⎥\n",
       "⎣0   -1  1⎦"
      ]
     },
     "execution_count": 2,
     "metadata": {},
     "output_type": "execute_result"
    }
   ],
   "source": [
    "A = Matrix([[1, 0, 0], [-1, 1, 0], [0, -1, 1]]) # Creating a matrix and putting\n",
    "# it into a computer variable called C\n",
    "A # Displaying it to the screen"
   ]
  },
  {
   "cell_type": "markdown",
   "metadata": {},
   "source": [
    "This is the column-view of matrix-vector multiplication as opposed to the row view.  Matrices are seen as column, representing vectors.  Each element of the column vector $\\underline{x}$ is a scalar multiple of the corresponding column in the matrix $A$."
   ]
  },
  {
   "cell_type": "markdown",
   "metadata": {},
   "source": [
    "$$ { x }_{ 1 }\\begin{bmatrix} 1 \\\\ -1 \\\\ 0 \\end{bmatrix}+{ x }_{ 2 }\\begin{bmatrix} 0 \\\\ 1 \\\\ -1 \\end{bmatrix}+{ x }_{ 3 }\\begin{bmatrix} 0 \\\\ 0 \\\\ 1 \\end{bmatrix}=\\begin{matrix} { x }_{ 1 } \\\\ -{ x }_{ 1 }+{ x }_{ 2 } \\\\ -{ x }_{ 2 }+{ x }_{ 3 } \\end{matrix} = {x}_{1}\\underline{u}+{x}_{2}\\underline{v}+{x}_{3}\\underline{w} \\tag{7}$$"
   ]
  },
  {
   "cell_type": "markdown",
   "metadata": {},
   "source": [
    "If we consider the solution vector, $\\underline{b}$, then we can write (8)."
   ]
  },
  {
   "cell_type": "markdown",
   "metadata": {},
   "source": [
    "$$ \\begin{bmatrix} { x }_{ 1 } \\\\ { x }_{ 2 }-{ x }_{ 1 } \\\\ { x }_{ 3 }-{ x }_{ 2 } \\end{bmatrix} = \\begin{bmatrix}{b}_{1}\\\\{b}_{2}\\\\{b}_{3}\\end{bmatrix} \\tag{8} $$"
   ]
  },
  {
   "cell_type": "markdown",
   "metadata": {},
   "source": [
    "By substitution this can be _converted_ to (9)."
   ]
  },
  {
   "cell_type": "markdown",
   "metadata": {},
   "source": [
    "$$ \\begin{bmatrix} { x }_{ 1 } \\\\ { x }_{ 2 } \\\\ { x }_{ 3 } \\end{bmatrix}=\\begin{bmatrix} { b }_{ 1 } \\\\ { b }_{ 1 }+{ b }_{ 2 } \\\\ { b }_{ 1 }+{ b }_{ 2 }+{ b }_{ 2 } \\end{bmatrix} \\tag{9} $$"
   ]
  },
  {
   "cell_type": "markdown",
   "metadata": {},
   "source": [
    "This is, in fact, a contrived example.  Looking closely, we can write the right-hand side of (9) as a matrix times $\\underline{b}$."
   ]
  },
  {
   "cell_type": "markdown",
   "metadata": {},
   "source": [
    "$$ \\begin{bmatrix}1&0&0\\\\1&1&0\\\\1&1&1\\end{bmatrix}\\begin{bmatrix}{b}_{1}\\\\{b}_{2}\\\\{b}_{3}\\end{bmatrix} \\tag{10} $$"
   ]
  },
  {
   "cell_type": "markdown",
   "metadata": {
    "collapsed": true
   },
   "source": [
    "This matrix is the inverse of $A$ such that $\\underline{x} = A^{-1} \\underline{b}$.  We will learn much more about matrix inverses and whether matrices are invertible.  The `sympy` library has a method called `.inv()` that will calculate the inverse."
   ]
  },
  {
   "cell_type": "code",
   "execution_count": 3,
   "metadata": {},
   "outputs": [
    {
     "data": {
      "image/png": "[encoded data removed]",
      "text/latex": [
       "$\\displaystyle 1$"
      ],
      "text/plain": [
       "1"
      ]
     },
     "execution_count": 3,
     "metadata": {},
     "output_type": "execute_result"
    }
   ],
   "source": [
    "A.det()"
   ]
  },
  {
   "cell_type": "code",
   "execution_count": 4,
   "metadata": {},
   "outputs": [
    {
     "data": {
      "image/png": "[encoded data removed]",
      "text/latex": [
       "$\\displaystyle \\left[\\begin{matrix}1 & 0 & 0\\\\1 & 1 & 0\\\\1 & 1 & 1\\end{matrix}\\right]$"
      ],
      "text/plain": [
       "⎡1  0  0⎤\n",
       "⎢       ⎥\n",
       "⎢1  1  0⎥\n",
       "⎢       ⎥\n",
       "⎣1  1  1⎦"
      ]
     },
     "execution_count": 4,
     "metadata": {},
     "output_type": "execute_result"
    }
   ],
   "source": [
    "A.inv()  # Inverse of matrix A"
   ]
  },
  {
   "cell_type": "markdown",
   "metadata": {},
   "source": [
    "Something else we will come across is _lower triangular form_.  Notice that all the values above the _main diagonal_ (values from the top-left to the bottom-right) as zero value.  This matrix is _lower triangular_."
   ]
  },
  {
   "cell_type": "markdown",
   "metadata": {},
   "source": [
    "Now, let's replace $\\underline{w}$ and create a matrix $M$.  Unlike our original $\\underline{w}$, this one is _special_ (for our purposes)."
   ]
  },
  {
   "cell_type": "code",
   "execution_count": 5,
   "metadata": {},
   "outputs": [],
   "source": [
    "x1, x2, x3, b1, b2, b3 = symbols('x1, x2, x3, b1, b2, b3') # Creating algebraic symbols\n",
    "# This reserves these symbols so as not to see them as computer variable names"
   ]
  },
  {
   "cell_type": "code",
   "execution_count": 6,
   "metadata": {},
   "outputs": [
    {
     "data": {
      "image/png": "[encoded data removed]",
      "text/latex": [
       "$\\displaystyle \\left[\\begin{matrix}1 & 0 & -1\\\\-1 & 1 & 0\\\\0 & -1 & 1\\end{matrix}\\right]$"
      ],
      "text/plain": [
       "⎡1   0   -1⎤\n",
       "⎢          ⎥\n",
       "⎢-1  1   0 ⎥\n",
       "⎢          ⎥\n",
       "⎣0   -1  1 ⎦"
      ]
     },
     "execution_count": 6,
     "metadata": {},
     "output_type": "execute_result"
    }
   ],
   "source": [
    "M = Matrix([[1, 0, -1], [-1, 1, 0], [0, -1, 1]]) # Creating a matrix and putting\n",
    "# it into a computer variable called M\n",
    "M # Displaying it to the screen"
   ]
  },
  {
   "cell_type": "markdown",
   "metadata": {},
   "source": [
    "And a vector of unknowns."
   ]
  },
  {
   "cell_type": "code",
   "execution_count": 7,
   "metadata": {},
   "outputs": [
    {
     "data": {
      "image/png": "[encoded data removed]",
      "text/latex": [
       "$\\displaystyle \\left[\\begin{matrix}x_{1}\\\\x_{2}\\\\x_{3}\\end{matrix}\\right]$"
      ],
      "text/plain": [
       "⎡x₁⎤\n",
       "⎢  ⎥\n",
       "⎢x₂⎥\n",
       "⎢  ⎥\n",
       "⎣x₃⎦"
      ]
     },
     "execution_count": 7,
     "metadata": {},
     "output_type": "execute_result"
    }
   ],
   "source": [
    "x_vect = Matrix([[x1], [x2], [x3]]) # Giving this columns vector a computer\n",
    "# variable name\n",
    "x_vect"
   ]
  },
  {
   "cell_type": "markdown",
   "metadata": {},
   "source": [
    "Now, $M \\underline{x}$ can be calculated."
   ]
  },
  {
   "cell_type": "code",
   "execution_count": 8,
   "metadata": {},
   "outputs": [
    {
     "data": {
      "image/png": "[encoded data removed]",
      "text/latex": [
       "$\\displaystyle \\left[\\begin{matrix}x_{1} - x_{3}\\\\- x_{1} + x_{2}\\\\- x_{2} + x_{3}\\end{matrix}\\right]$"
      ],
      "text/plain": [
       "⎡x₁ - x₃ ⎤\n",
       "⎢        ⎥\n",
       "⎢-x₁ + x₂⎥\n",
       "⎢        ⎥\n",
       "⎣-x₂ + x₃⎦"
      ]
     },
     "execution_count": 8,
     "metadata": {},
     "output_type": "execute_result"
    }
   ],
   "source": [
    "M * x_vect"
   ]
  },
  {
   "cell_type": "markdown",
   "metadata": {},
   "source": [
    "For the solution vector, we have three equations that we can create."
   ]
  },
  {
   "cell_type": "markdown",
   "metadata": {},
   "source": [
    "$$ { x }_{ 1 }-{ x }_{ 3 }={ b }_{ 1 }\\\\ { x }_{ 2 }-{ x }_{ 1 }={ b }_{ 2 }\\\\ { x }_{ 3 }-{ x }_{ 2 }={ b }_{ 3 } \\tag{11}$$"
   ]
  },
  {
   "cell_type": "markdown",
   "metadata": {},
   "source": [
    "Adding the left and righ-hand sides gives us $x_1 - x_3 + x_2 - x_1 + x_3 - x_2 = b_1 + b_2 + b_3$.  "
   ]
  },
  {
   "cell_type": "markdown",
   "metadata": {},
   "source": [
    "This leaves us with a constraint for $\\underline{b}$ such that $ 0={ b }_{ 1 }+{ b }_{ 2 }+{ b }_{ 3 } $."
   ]
  },
  {
   "cell_type": "markdown",
   "metadata": {},
   "source": [
    "The problem is clear to see geometrically as the new $\\underline{w}$ is in the same plane as $\\underline{u}$ and $\\underline{v}$.  In essence $\\underline{w}$ did not add anything.  All combinations of $\\underline{u}$, $\\underline{v}$, and $\\underline{w}$ will still be in the same plane."
   ]
  },
  {
   "cell_type": "markdown",
   "metadata": {},
   "source": [
    "The first $\\underline{w}$ above created a matrix with three independent columns and their linear combinations could fill all of three-dimensional space (they spanned $\\mathbb{R}^{3}$).  This made the first matrix what we will call _invertible_ as opposed to the second one, $M$, which is not invertible."
   ]
  },
  {
   "cell_type": "markdown",
   "metadata": {},
   "source": [
    "Below, we create the three column vectors and check that $- \\underline{u} + \\left( - \\underline{v} \\right) = \\underline{w}$.  A linear combination of columns (vectors) one and two, produces three."
   ]
  },
  {
   "cell_type": "code",
   "execution_count": 29,
   "metadata": {},
   "outputs": [
    {
     "data": {
      "image/png": "[encoded data removed]",
      "text/latex": [
       "$\\displaystyle \\left( \\left[\\begin{matrix}1\\\\-1\\\\0\\end{matrix}\\right], \\  \\left[\\begin{matrix}0\\\\1\\\\-1\\end{matrix}\\right], \\  \\left[\\begin{matrix}-1\\\\0\\\\1\\end{matrix}\\right]\\right)$"
      ],
      "text/plain": [
       "⎛⎡1 ⎤  ⎡0 ⎤  ⎡-1⎤⎞\n",
       "⎜⎢  ⎥  ⎢  ⎥  ⎢  ⎥⎟\n",
       "⎜⎢-1⎥, ⎢1 ⎥, ⎢0 ⎥⎟\n",
       "⎜⎢  ⎥  ⎢  ⎥  ⎢  ⎥⎟\n",
       "⎝⎣0 ⎦  ⎣-1⎦  ⎣1 ⎦⎠"
      ]
     },
     "execution_count": 29,
     "metadata": {},
     "output_type": "execute_result"
    }
   ],
   "source": [
    "u = Matrix([[1], [-1], [0]])\n",
    "v = Matrix([[0], [1], [-1]])\n",
    "w = Matrix([[-1], [0], [1]])\n",
    "u, v, w"
   ]
  },
  {
   "cell_type": "code",
   "execution_count": 46,
   "metadata": {},
   "outputs": [
    {
     "data": {
      "image/png": "[encoded data removed]",
      "text/latex": [
       "$\\displaystyle \\left[\\begin{matrix}-1\\\\1\\\\0\\end{matrix}\\right]$"
      ],
      "text/plain": [
       "⎡-1⎤\n",
       "⎢  ⎥\n",
       "⎢1 ⎥\n",
       "⎢  ⎥\n",
       "⎣0 ⎦"
      ]
     },
     "execution_count": 46,
     "metadata": {},
     "output_type": "execute_result"
    }
   ],
   "source": [
    "-u"
   ]
  },
  {
   "cell_type": "code",
   "execution_count": 47,
   "metadata": {},
   "outputs": [
    {
     "data": {
      "image/png": "[encoded data removed]",
      "text/latex": [
       "$\\displaystyle \\left[\\begin{matrix}0\\\\-1\\\\1\\end{matrix}\\right]$"
      ],
      "text/plain": [
       "⎡0 ⎤\n",
       "⎢  ⎥\n",
       "⎢-1⎥\n",
       "⎢  ⎥\n",
       "⎣1 ⎦"
      ]
     },
     "execution_count": 47,
     "metadata": {},
     "output_type": "execute_result"
    }
   ],
   "source": [
    "-v"
   ]
  },
  {
   "cell_type": "code",
   "execution_count": 49,
   "metadata": {},
   "outputs": [
    {
     "data": {
      "image/png": "[encoded data removed]",
      "text/latex": [
       "$\\displaystyle \\left[\\begin{matrix}-1\\\\0\\\\1\\end{matrix}\\right]$"
      ],
      "text/plain": [
       "⎡-1⎤\n",
       "⎢  ⎥\n",
       "⎢0 ⎥\n",
       "⎢  ⎥\n",
       "⎣1 ⎦"
      ]
     },
     "execution_count": 49,
     "metadata": {},
     "output_type": "execute_result"
    }
   ],
   "source": [
    "-u - v"
   ]
  },
  {
   "cell_type": "code",
   "execution_count": 44,
   "metadata": {},
   "outputs": [
    {
     "data": {
      "image/png": "[encoded data removed]",
      "text/latex": [
       "$\\displaystyle \\left[\\begin{matrix}-1\\\\0\\\\1\\end{matrix}\\right]$"
      ],
      "text/plain": [
       "⎡-1⎤\n",
       "⎢  ⎥\n",
       "⎢0 ⎥\n",
       "⎢  ⎥\n",
       "⎣1 ⎦"
      ]
     },
     "execution_count": 44,
     "metadata": {},
     "output_type": "execute_result"
    }
   ],
   "source": [
    "w"
   ]
  },
  {
   "cell_type": "code",
   "execution_count": 50,
   "metadata": {},
   "outputs": [
    {
     "data": {
      "text/plain": [
       "True"
      ]
     },
     "execution_count": 50,
     "metadata": {},
     "output_type": "execute_result"
    }
   ],
   "source": [
    "-u - v == w"
   ]
  },
  {
   "cell_type": "markdown",
   "metadata": {},
   "source": [
    "## Example problems"
   ]
  },
  {
   "cell_type": "markdown",
   "metadata": {},
   "source": [
    "### Example problem 1"
   ]
  },
  {
   "cell_type": "markdown",
   "metadata": {},
   "source": [
    "+ Suppose $A$ is a matrix with the following solution\n",
    "$$ {A}{\\underline{x}}=\\begin{bmatrix}1\\\\4\\\\1\\\\1\\end{bmatrix} \\\\ \\underline{x}=\\begin{bmatrix}0\\\\1\\\\1\\end{bmatrix}+{c}\\begin{bmatrix}0\\\\2\\\\1\\end{bmatrix} $$\n",
    "+ What can you say about the columns of $A$?"
   ]
  },
  {
   "cell_type": "markdown",
   "metadata": {},
   "source": [
    "#### Solution"
   ]
  },
  {
   "cell_type": "code",
   "execution_count": 51,
   "metadata": {},
   "outputs": [],
   "source": [
    "c = symbols('c')\n",
    "x_vect = Matrix([[0], [1 + 2 * c], [1 + c]])\n",
    "b = Matrix([[1], [4], [1], [1]])"
   ]
  },
  {
   "cell_type": "code",
   "execution_count": 52,
   "metadata": {},
   "outputs": [
    {
     "data": {
      "image/png": "[encoded data removed]",
      "text/latex": [
       "$\\displaystyle \\left[\\begin{matrix}0\\\\2 c + 1\\\\c + 1\\end{matrix}\\right]$"
      ],
      "text/plain": [
       "⎡   0   ⎤\n",
       "⎢       ⎥\n",
       "⎢2⋅c + 1⎥\n",
       "⎢       ⎥\n",
       "⎣ c + 1 ⎦"
      ]
     },
     "execution_count": 52,
     "metadata": {},
     "output_type": "execute_result"
    }
   ],
   "source": [
    "x_vect"
   ]
  },
  {
   "cell_type": "code",
   "execution_count": 53,
   "metadata": {},
   "outputs": [
    {
     "data": {
      "image/png": "[encoded data removed]",
      "text/latex": [
       "$\\displaystyle \\left[\\begin{matrix}1\\\\4\\\\1\\\\1\\end{matrix}\\right]$"
      ],
      "text/plain": [
       "⎡1⎤\n",
       "⎢ ⎥\n",
       "⎢4⎥\n",
       "⎢ ⎥\n",
       "⎢1⎥\n",
       "⎢ ⎥\n",
       "⎣1⎦"
      ]
     },
     "execution_count": 53,
     "metadata": {},
     "output_type": "execute_result"
    }
   ],
   "source": [
    "b"
   ]
  },
  {
   "cell_type": "markdown",
   "metadata": {},
   "source": [
    "Note the following:\n",
    "+ $\\underline{x}$ is of size $m \\times n$ and that is $ 3 \\times 1 $\n",
    "+ $\\underline{b}$ is of size $ 4 \\times 1 $\n",
    "+ Therefor, $A$ must be of size $ 4 \\times 3 $ and each column vector in $A$ is in $\\mathbb{R}^{4}$"
   ]
  },
  {
   "cell_type": "markdown",
   "metadata": {},
   "source": [
    "Let's call these columns of $A$ $C_1, C_2, C_3$, as illustrated in (12)."
   ]
  },
  {
   "cell_type": "markdown",
   "metadata": {},
   "source": [
    "$$ \\begin{bmatrix} \\vdots  & \\vdots  & \\vdots  \\\\ { C }_{ 1 } & { C }_{ 2 } & { C }_{ 3 } \\\\ \\vdots  & \\vdots  & \\vdots  \\\\ \\vdots  & \\vdots  & \\vdots  \\end{bmatrix} \\tag{12} $$"
   ]
  },
  {
   "cell_type": "markdown",
   "metadata": {},
   "source": [
    "With the particular way in which $\\underline{x}$ was written, we can say that we have a particular solution and a special solution, denoted as $ {A}\\left({x}_{p}+{c}\\cdot{x}_{s}\\right)= \\underline{b} $."
   ]
  },
  {
   "cell_type": "markdown",
   "metadata": {},
   "source": [
    "For $ c = 0 $ we have:\n",
    "$$ {A}{\\underline{x}}_{p}=b $$\n",
    "\n",
    "For $c = 1 $ we have:\n",
    "$$ \\begin{align} A{ x }_{ p }+A{ \\underline{x} }_{ s } &= b \\\\ \\because \\quad A{ \\underline{x} }_{ p } &= b \\\\ b+A{ \\underline{x} }_{ s } &= b \\\\ \\therefore \\quad A{ \\underline{x} }_{ s } &= 0 \\end{align} $$"
   ]
  },
  {
   "cell_type": "markdown",
   "metadata": {},
   "source": [
    "We also have that the following\n",
    "$$ { \\underline{x} }_{ p }=\\begin{bmatrix} 0 \\\\ 1 \\\\ 1 \\end{bmatrix},\\quad { \\underline{x} }_{ s }=\\begin{bmatrix} 0 \\\\ 2 \\\\ 1 \\end{bmatrix} $$"
   ]
  },
  {
   "cell_type": "markdown",
   "metadata": {},
   "source": [
    "For $ \\underline{x}_{p}$ we have the following:\n",
    "$$ \\begin{bmatrix} \\vdots  & \\vdots  & \\vdots  \\\\ { C }_{ 1 } & { C }_{ 2 } & { C }_{ 3 } \\\\ \\vdots  & \\vdots  & \\vdots  \\\\ \\vdots  & \\vdots  & \\vdots  \\end{bmatrix}\\begin{bmatrix} 0 \\\\ 1 \\\\ 1 \\end{bmatrix} = \\underline{b} \\quad \\Rightarrow \\quad { C }_{ 2 }+{ C }_{ 3 }= \\underline{b} $$\n",
    "\n",
    "For $ \\underline{x}_{s}$ we have the following:\n",
    "$$ \\begin{bmatrix} \\vdots  & \\vdots  & \\vdots  \\\\ { C }_{ 1 } & { C }_{ 2 } & { C }_{ 3 } \\\\ \\vdots  & \\vdots  & \\vdots  \\\\ \\vdots  & \\vdots  & \\vdots  \\end{bmatrix}\\begin{bmatrix} 0 \\\\ 2 \\\\ 1 \\end{bmatrix}=\\underline { 0 } \\quad \\Rightarrow \\quad 2{ C }_{ 2 }+{ C }_{ 3 } = \\underline{0} $$"
   ]
  },
  {
   "cell_type": "markdown",
   "metadata": {},
   "source": [
    "Solving for $C_2$ and $C_3$ we have the following:\n",
    "$$ \\begin{align} {C}_{3} &= -2{C}_{2} \\\\ {C}_{2}-2{C}_{2} &= b \\\\ {C}_{2} &= -b \\\\ {C}_{3} &= 2b \\end{align} $$"
   ]
  },
  {
   "cell_type": "markdown",
   "metadata": {},
   "source": [
    "As for the first column of $A$, we need to know more about ranks and subspaces.  We see, though, that columns two and three are already constant multiples of each other.  So, as long as column one is not a constant multiple of $\\underline{b}$, we are safe."
   ]
  },
  {
   "cell_type": "markdown",
   "metadata": {
    "collapsed": true
   },
   "source": [
    "$$ A=\\begin{bmatrix} \\vdots  & 1 & 2 \\\\ { C }_{ 1 } & 4 & 8 \\\\ \\vdots  & 1 & 2 \\\\ \\vdots  & 1 & 2 \\end{bmatrix} $$"
   ]
  },
  {
   "cell_type": "code",
   "execution_count": null,
   "metadata": {},
   "outputs": [],
   "source": []
  }
 ],
 "metadata": {
  "kernelspec": {
   "display_name": "Python 3 (ipykernel)",
   "language": "python",
   "name": "python3"
  },
  "language_info": {
   "codemirror_mode": {
    "name": "ipython",
    "version": 3
   },
   "file_extension": ".py",
   "mimetype": "text/x-python",
   "name": "python",
   "nbconvert_exporter": "python",
   "pygments_lexer": "ipython3",
   "version": "3.9.10"
  }
 },
 "nbformat": 4,
 "nbformat_minor": 1
}
