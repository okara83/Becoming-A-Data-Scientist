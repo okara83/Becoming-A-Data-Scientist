{
 "cells": [
  {
   "cell_type": "code",
   "execution_count": 1,
   "metadata": {},
   "outputs": [
    {
     "data": {
      "text/html": [
       "<link href='http://fonts.googleapis.com/css?family=Alegreya+Sans:100,300,400,500,700,800,900,100italic,300italic,400italic,500italic,700italic,800italic,900italic' rel='stylesheet' type='text/css'>\n",
       "<link href='http://fonts.googleapis.com/css?family=Arvo:400,700,400italic' rel='stylesheet' type='text/css'>\n",
       "<link href='http://fonts.googleapis.com/css?family=PT+Mono' rel='stylesheet' type='text/css'>\n",
       "<link href='http://fonts.googleapis.com/css?family=Shadows+Into+Light' rel='stylesheet' type='text/css'>\n",
       "<link href='http://fonts.googleapis.com/css?family=Philosopher:400,700,400italic,700italic' rel='stylesheet' type='text/css'>\n",
       "\n",
       "<style>\n",
       "\n",
       "@font-face {\n",
       "    font-family: \"Computer Modern\";\n",
       "    src: url('http://mirrors.ctan.org/fonts/cm-unicode/fonts/otf/cmunss.otf');\n",
       "}\n",
       "\n",
       "\n",
       "\n",
       "/* Formatting for header cells */\n",
       ".text_cell_render h1 {\n",
       "    font-family: 'Philosopher', sans-serif;\n",
       "    font-weight: 400;\n",
       "    font-size: 2.2em;\n",
       "    line-height: 100%;\n",
       "    color: rgb(0, 80, 120);\n",
       "    margin-bottom: 0.1em;\n",
       "    margin-top: 0.1em;\n",
       "    display: block;\n",
       "}\t\n",
       ".text_cell_render h2 {\n",
       "    font-family: 'Philosopher', serif;\n",
       "    font-weight: 400;\n",
       "    font-size: 1.9em;\n",
       "    line-height: 100%;\n",
       "    color: rgb(245,179,64);\n",
       "    margin-bottom: 0.1em;\n",
       "    margin-top: 0.1em;\n",
       "    display: block;\n",
       "}\t\n",
       "\n",
       ".text_cell_render h3 {\n",
       "    font-family: 'Philosopher', serif;\n",
       "    margin-top:12px;\n",
       "    margin-bottom: 3px;\n",
       "    font-style: italic;\n",
       "    color: rgb(94,127,192);\n",
       "}\n",
       "\n",
       ".text_cell_render h4 {\n",
       "    font-family: 'Philosopher', serif;\n",
       "}\n",
       "\n",
       ".text_cell_render h5 {\n",
       "    font-family: 'Alegreya Sans', sans-serif;\n",
       "    font-weight: 300;\n",
       "    font-size: 16pt;\n",
       "    color: grey;\n",
       "    font-style: italic;\n",
       "    margin-bottom: .1em;\n",
       "    margin-top: 0.1em;\n",
       "    display: block;\n",
       "}\n",
       "\n",
       ".text_cell_render h6 {\n",
       "    font-family: 'PT Mono', sans-serif;\n",
       "    font-weight: 300;\n",
       "    font-size: 10pt;\n",
       "    color: grey;\n",
       "    margin-bottom: 1px;\n",
       "    margin-top: 1px;\n",
       "}\n",
       "\n",
       ".CodeMirror{\n",
       "        font-family: \"PT Mono\";\n",
       "        font-size: 100%;\n",
       "}\n",
       "\n",
       "</style>\n",
       "\n"
      ],
      "text/plain": [
       "<IPython.core.display.HTML object>"
      ]
     },
     "execution_count": 1,
     "metadata": {},
     "output_type": "execute_result"
    }
   ],
   "source": [
    "from IPython.core.display import HTML, Image\n",
    "css_file = 'style.css'\n",
    "HTML(open(css_file, 'r').read())"
   ]
  },
  {
   "cell_type": "markdown",
   "metadata": {},
   "source": [
    "### Library import"
   ]
  },
  {
   "cell_type": "code",
   "execution_count": 2,
   "metadata": {},
   "outputs": [],
   "source": [
    "from sympy import init_printing, Matrix, symbols, eye, Rational\n",
    "init_printing()"
   ]
  },
  {
   "cell_type": "markdown",
   "metadata": {},
   "source": [
    "# Matrix multiplication, inverse and transpose"
   ]
  },
  {
   "cell_type": "markdown",
   "metadata": {},
   "source": [
    "## Multiplying matrices"
   ]
  },
  {
   "cell_type": "markdown",
   "metadata": {},
   "source": [
    "In this section we approach matrix multiplication on four ways.  Each method provides its own unique insight into the process of multiplication.  We also take a look at _block multiplication_, where a matrix can be _broken up_ into specifically sized blocks that make multiplication easier."
   ]
  },
  {
   "cell_type": "markdown",
   "metadata": {},
   "source": [
    "### Method 1"
   ]
  },
  {
   "cell_type": "markdown",
   "metadata": {},
   "source": [
    "Consider multiplying matrices $A$ and $B$ to result in $C$. We have already seen that the column size of the first must equal the row size of the second, $A_{n \\times m} B_{m \\times p} = C_{n \\times p}$."
   ]
  },
  {
   "cell_type": "markdown",
   "metadata": {},
   "source": [
    "Every element in $C$ (with a row value of $i$ and a column value of $j$) is the dot product of the corresponding row vector in $A$ and the column vector in $B$.  In (1) we take the dot product of row `2` in the first matrix and column `1` in the second matrix to get $C_{21}$."
   ]
  },
  {
   "cell_type": "markdown",
   "metadata": {},
   "source": [
    "$$ { \\begin{bmatrix} \\cdots  & \\cdots  & \\cdots  \\\\ 3 & 2 & -1 \\\\ \\cdots  & \\cdots  & \\cdots  \\\\ \\cdots  & \\cdots  & \\cdots  \\end{bmatrix} }_{ 4\\times 3 }{ \\begin{bmatrix} 1 & \\vdots  \\\\ 2 & \\vdots  \\\\ 1 & \\vdots  \\end{bmatrix} }_{ 3\\times 2 }={ \\begin{bmatrix} { c }_{ 11 } & { c }_{ 12 } \\\\ \\left( 3\\times 1 \\right) +\\left( 2\\times 2 \\right) +\\left( -1\\times 1 \\right)  & { c }_{ 22 } \\\\ { c }_{ 31 } & { c }_{ 32 } \\\\ { c }_{ 41 } & { c }_{ 42 } \\end{bmatrix} }_{ 4\\times 2 } \\tag{1}$$"
   ]
  },
  {
   "cell_type": "markdown",
   "metadata": {},
   "source": [
    "### Method 2"
   ]
  },
  {
   "cell_type": "markdown",
   "metadata": {},
   "source": [
    "Here we are concerned with the columns of $B$.  We note that each column in $C$ is the result of the matrix $A$ times the corresponding column in $B$.  In this example, it would be akin to a matrix multiplied by a vector $A \\underline{x} = \\underline{b}$.  $B$ is then made up from four column vectors."
   ]
  },
  {
   "cell_type": "markdown",
   "metadata": {},
   "source": [
    "### Method 3"
   ]
  },
  {
   "cell_type": "markdown",
   "metadata": {},
   "source": [
    "Here every row in $A$ produces the same numbered row in $C$ by multiplying it with the matrix $B$.  The rows of $C$ are linear combinations of $B$."
   ]
  },
  {
   "cell_type": "markdown",
   "metadata": {},
   "source": [
    "### Method 4"
   ]
  },
  {
   "cell_type": "markdown",
   "metadata": {},
   "source": [
    "In method 1 we looked at $\\text{row}_A \\times \\text{col}_B$, which produced a single number in $C$.  What if we did $\\text{col} \\times \\text{row}$?"
   ]
  },
  {
   "cell_type": "markdown",
   "metadata": {},
   "source": [
    "The size of a column in $A$ might be written as $r_A \\times 1$ and a row in $B$ as $1 \\times s_B$.  The result in $C$ would then be $r_A \\times s_B$.  Let's use `sympy` to investigate a simple example.  Here we have $A_{3 \\times 1}$ and $B_{1 \\times 2}$, with $C_{3 \\times 2}$."
   ]
  },
  {
   "cell_type": "code",
   "execution_count": 6,
   "metadata": {},
   "outputs": [
    {
     "data": {
      "image/png": "[encoded data removed]",
      "text/latex": [
       "$\\displaystyle \\left( \\left[\\begin{matrix}2\\\\3\\\\4\\end{matrix}\\right], \\  \\left[\\begin{matrix}1 & 6\\end{matrix}\\right]\\right)$"
      ],
      "text/plain": [
       "⎛⎡2⎤        ⎞\n",
       "⎜⎢ ⎥        ⎟\n",
       "⎜⎢3⎥, [1  6]⎟\n",
       "⎜⎢ ⎥        ⎟\n",
       "⎝⎣4⎦        ⎠"
      ]
     },
     "execution_count": 6,
     "metadata": {},
     "output_type": "execute_result"
    }
   ],
   "source": [
    "A = Matrix([[2], [3], [4]])\n",
    "B = Matrix([[1, 6]])\n",
    "A, B"
   ]
  },
  {
   "cell_type": "code",
   "execution_count": 8,
   "metadata": {},
   "outputs": [
    {
     "data": {
      "image/png": "[encoded data removed]",
      "text/latex": [
       "$\\displaystyle \\left[\\begin{matrix}2 & 12\\\\3 & 18\\\\4 & 24\\end{matrix}\\right]$"
      ],
      "text/plain": [
       "⎡2  12⎤\n",
       "⎢     ⎥\n",
       "⎢3  18⎥\n",
       "⎢     ⎥\n",
       "⎣4  24⎦"
      ]
     },
     "execution_count": 8,
     "metadata": {},
     "output_type": "execute_result"
    }
   ],
   "source": [
    "C = A * B\n",
    "C"
   ]
  },
  {
   "cell_type": "markdown",
   "metadata": {},
   "source": [
    "So in method 4, for the example below, $C$ is the sum of *the columns of* $A$ times *the rows of* $B$."
   ]
  },
  {
   "cell_type": "markdown",
   "metadata": {},
   "source": [
    "$$ \\begin{bmatrix} { a }_{ 11 } & { a }_{ 12 } \\\\ { a }_{ 21 } & { a }_{ 22 } \\\\ { a }_{ 31 } & { a }_{ 32 } \\end{bmatrix}\\begin{bmatrix} { b }_{ 11 } & { b }_{ 12 } \\\\ b_{ 21 } & { b }_{ 22 } \\end{bmatrix}=\\begin{bmatrix} { a }_{ 11 } \\\\ { a }_{ 21 } \\\\ { a }_{ 31 } \\end{bmatrix}\\begin{bmatrix} { b }_{ 11 } & { b }_{ 12 } \\end{bmatrix}+\\begin{bmatrix} { a }_{ 12 } \\\\ { a }_{ 22 } \\\\ { a }_{ 32 } \\end{bmatrix}\\begin{bmatrix} { b }_{ 21 } & { b }_{ 22 } \\end{bmatrix}  \\tag{2}$$"
   ]
  },
  {
   "cell_type": "markdown",
   "metadata": {},
   "source": [
    "### Block multiplication"
   ]
  },
  {
   "cell_type": "markdown",
   "metadata": {},
   "source": [
    "This is in essence, a combination of the above.  We do the following:  \n",
    "+ Both $A$ and $B$ can be broken into block of sizes that allow for multiplication\n",
    "\n",
    "We see an example of this in (3)."
   ]
  },
  {
   "cell_type": "markdown",
   "metadata": {},
   "source": [
    "$$ \\begin{bmatrix} { A }_{ 1 } & { A }_{ 2 } \\\\ { A }_{ 3 } & { A }_{ 4 } \\end{bmatrix}\\begin{bmatrix} { B }_{ 1 } & { B }_{ 2 } \\\\ { B }_{ 3 } & { B }_{ 4 } \\end{bmatrix}=\\begin{bmatrix} { A }_{ 1 }{ B }_{ 1 }+{ A }_{ 2 }{ B }_{ 3 } & { A }_{ 1 }{ B }_{ 2 }+{ A }_{ 2 }{ B }_{ 4 } \\\\ { A }_{ 3 }{ B }_{ 1 }+{ A }_{ 4 }{ B }_{ 3 } & { A }_{ 3 }{ B }_{ 2 }+{ A }_{ 4 }{ B }_{ 4 } \\end{bmatrix} \\tag{3}$$"
   ]
  },
  {
   "cell_type": "markdown",
   "metadata": {},
   "source": [
    "## Inverses"
   ]
  },
  {
   "cell_type": "markdown",
   "metadata": {},
   "source": [
    "W e know by now that **if** the inverse of a matrix $A$ exists then $A^{-1} A = I$, the identity matrix.  This is a _left inverse_, but what about a _right inverse_, $A A^{-1}$?  This is also equal to the identity matrix (given that $A$ is invertible).  Invertible matrices are also called *non-singular* matrices."
   ]
  },
  {
   "cell_type": "markdown",
   "metadata": {},
   "source": [
    "This brings the question: \"_What is a non-invertible matrix?_\".  Non-invertible matrices are called *singular* matrices.  An example is shown in (4)."
   ]
  },
  {
   "cell_type": "markdown",
   "metadata": {},
   "source": [
    "$$ \\begin{bmatrix}1&3\\\\2&6\\end{bmatrix} \\tag{4}$$"
   ]
  },
  {
   "cell_type": "markdown",
   "metadata": {},
   "source": [
    "Note how the elements of row `2` are just $2$ times the elements in row `1`.  The elements of row `2` are linear combinations of the elements in row `1`.  The same go for the columns, the first being a linear combination of the second, multiplying each element by $3$.  More profoundly, note that you could find a column vector $\\underline{x}$ such that $A \\times \\underline{x}= \\underline{0}$."
   ]
  },
  {
   "cell_type": "markdown",
   "metadata": {},
   "source": [
    "In (5) below we see that $3$ times column `1` in $A$ plus $-1$ times column `2` gives *nothing*, the zero vector."
   ]
  },
  {
   "cell_type": "markdown",
   "metadata": {},
   "source": [
    "$$ \\begin{bmatrix}1&3\\\\2&6\\end{bmatrix}\\begin{bmatrix}3\\\\-1\\end{bmatrix}=\\begin{bmatrix}0\\\\0\\end{bmatrix} \\tag{5}$$"
   ]
  },
  {
   "cell_type": "markdown",
   "metadata": {},
   "source": [
    "Let's construct as example, shown in (6) below as $A A^{-1} = I$ (given that $A^{-1}$ exists)."
   ]
  },
  {
   "cell_type": "markdown",
   "metadata": {},
   "source": [
    "$$ \\begin{bmatrix} 1 & 3 \\\\ 2 & 7 \\end{bmatrix}\\begin{bmatrix} a & c \\\\ b & d \\end{bmatrix}=\\begin{bmatrix} 1 & 0 \\\\ 0 & 1 \\end{bmatrix} \\tag{6}$$"
   ]
  },
  {
   "cell_type": "markdown",
   "metadata": {},
   "source": [
    "In essence, we have to solve two systems.  $A$ times column `1` of $A^{-1}$ is column `1` of $I$.  This is the Gauss-Jordan idea of solving two systems at once."
   ]
  },
  {
   "cell_type": "markdown",
   "metadata": {},
   "source": [
    "$$ \\begin{bmatrix} 1 & 3 \\\\ 2 & 7 \\end{bmatrix}\\begin{bmatrix} a \\\\ b \\end{bmatrix}=\\begin{bmatrix} 1 \\\\ 0 \\end{bmatrix}\\\\ \\begin{bmatrix} 1 & 3 \\\\ 2 & 7 \\end{bmatrix}\\begin{bmatrix} c \\\\ d \\end{bmatrix}=\\begin{bmatrix} 0 \\\\ 1 \\end{bmatrix} \\tag{7}$$"
   ]
  },
  {
   "cell_type": "markdown",
   "metadata": {},
   "source": [
    "This will give us the two columns of $I$.  We proceed by creating an augmented matrix of the coefficients (note carefully!)."
   ]
  },
  {
   "cell_type": "markdown",
   "metadata": {},
   "source": [
    "$$ \\begin{bmatrix} 1 & 3 & 1 & 0 \\\\ 2 & 7 & 0 & 1 \\end{bmatrix} \\tag{8}$$"
   ]
  },
  {
   "cell_type": "markdown",
   "metadata": {},
   "source": [
    "Now we use elementary row operations to reduced row-echelon form (leading $1$<sup>'s</sup> in the pivot positions, with $0$<sup>'s</sup> below and above each)."
   ]
  },
  {
   "cell_type": "markdown",
   "metadata": {},
   "source": [
    "$$ \\begin{bmatrix} 1 & 3 & 1 & 0 \\\\ 2 & 7 & 0 & 1 \\end{bmatrix}\\rightarrow \\begin{bmatrix} 1 & 3 & 1 & 0 \\\\ 0 & 1 & -2 & 1 \\end{bmatrix}\\rightarrow \\begin{bmatrix} 1 & 0 & 7 & -3 \\\\ 0 & 1 & -2 & 1 \\end{bmatrix} \\tag{9}$$"
   ]
  },
  {
   "cell_type": "markdown",
   "metadata": {},
   "source": [
    "We now read off the two columns of $A^{-1}$."
   ]
  },
  {
   "cell_type": "markdown",
   "metadata": {},
   "source": [
    " $$ \\begin{bmatrix}7&-3\\\\-2&1\\end{bmatrix} \\tag{10}$$"
   ]
  },
  {
   "cell_type": "markdown",
   "metadata": {},
   "source": [
    "## Example problems\n"
   ]
  },
  {
   "cell_type": "markdown",
   "metadata": {},
   "source": [
    "### Example problem 1"
   ]
  },
  {
   "cell_type": "markdown",
   "metadata": {},
   "source": [
    "Find the conditions on $a$ and $b$ that makes the matrix $A$ invertible and find $A^{-1}$.|"
   ]
  },
  {
   "cell_type": "markdown",
   "metadata": {},
   "source": [
    "$$ A=\\begin{bmatrix} a & b & b \\\\ a & a & b \\\\ a & a & a \\end{bmatrix} \\tag{11} $$"
   ]
  },
  {
   "cell_type": "markdown",
   "metadata": {},
   "source": [
    "#### Solution"
   ]
  },
  {
   "cell_type": "markdown",
   "metadata": {},
   "source": [
    "1. A matrix is singular (non-invertible) if we have a row or column of zeros, so $a \\ne 0$\n",
    "2. We can also not have similar columns, so $a \\ne b$"
   ]
  },
  {
   "cell_type": "markdown",
   "metadata": {},
   "source": [
    "Using Gauss-Jordan elimination we will have the following."
   ]
  },
  {
   "cell_type": "markdown",
   "metadata": {},
   "source": [
    "\n",
    "\n",
    "$$ \\begin{bmatrix} a & b & b & 1 & 0 & 0 \\\\ a & a & b & 0 & 1 & 0 \\\\ a & a & a & 0 & 0 & 1 \\end{bmatrix}\\rightarrow \\begin{bmatrix} a & b & b & 1 & 0 & 0 \\\\ 0 & a-b & 0 & -1 & 1 & 0 \\\\ 0 & a-b & a-b & -1 & 0 & 1 \\end{bmatrix}\\rightarrow \\begin{bmatrix} a & b & b & 1 & 0 & 0 \\\\ 0 & a-b & 0 & -1 & 1 & 0 \\\\ 0 & 0 & a-b & 0 & -1 & 1 \\end{bmatrix}\\\\ \\rightarrow \\begin{bmatrix} a & b & b & 1 & 0 & 0 \\\\ 0 & \\frac { a-b }{ a-b }  & 0 & \\frac { -1 }{ a-b }  & \\frac { 1 }{ a-b }  & 0 \\\\ 0 & 0 & \\frac { a-b }{ a-b }  & 0 & \\frac { -1 }{ a-b }  & \\frac { 1 }{ a-b }  \\end{bmatrix}\\rightarrow \\begin{bmatrix} a & b & b & 1 & 0 & 0 \\\\ 0 & 1 & 0 & \\frac { -1 }{ a-b }  & \\frac { 1 }{ a-b }  & 0 \\\\ 0 & 0 & 1 & 0 & \\frac { -1 }{ a-b }  & \\frac { 1 }{ a-b }  \\end{bmatrix}\\\\ \\rightarrow \\begin{bmatrix} a & b & 0 & 1 & \\frac { 1 }{ a-b } \\left( b \\right)  & -\\frac { 1 }{ a-b } \\left( b \\right)  \\\\ 0 & 1 & 0 & \\frac { -1 }{ a-b }  & \\frac { 1 }{ a-b }  & 0 \\\\ 0 & 0 & 1 & 0 & \\frac { -1 }{ a-b }  & \\frac { 1 }{ a-b }  \\end{bmatrix}\\rightarrow \\begin{bmatrix} a & 0 & 0 & 1+\\frac { b }{ a-b }  & 0 & -\\frac { 1 }{ a-b } \\left( b \\right)  \\\\ 0 & 1 & 0 & \\frac { -1 }{ a-b }  & \\frac { 1 }{ a-b }  & 0 \\\\ 0 & 0 & 1 & 0 & \\frac { -1 }{ a-b }  & \\frac { 1 }{ a-b }  \\end{bmatrix}\\\\ \\rightarrow \\begin{bmatrix} 1 & 0 & 0 & \\frac { 1 }{ a-b }  & 0 & -\\frac { 1 }{ a\\left( a-b \\right)  } \\left( b \\right)  \\\\ 0 & 1 & 0 & \\frac { -1 }{ a-b }  & \\frac { 1 }{ a-b }  & 0 \\\\ 0 & 0 & 1 & 0 & \\frac { -1 }{ a-b }  & \\frac { 1 }{ a-b }  \\end{bmatrix}\\\\ { A }^{ -1 }=\\frac { 1 }{ a-b } \\begin{bmatrix} 1 & 0 & \\frac { -b }{ a }  \\\\ -1 & 1 & 0 \\\\ 0 & -1 & 1 \\end{bmatrix} \\tag{12}$$"
   ]
  },
  {
   "cell_type": "markdown",
   "metadata": {},
   "source": [
    "If we were to construct this matrix using `sympy` and invert it using the `.inv()` method, we can deduce our findings through simple algebra, i.e. $a \\ne b$, $a \\ne 0$."
   ]
  },
  {
   "cell_type": "code",
   "execution_count": 9,
   "metadata": {},
   "outputs": [],
   "source": [
    "a, b = symbols('a b')"
   ]
  },
  {
   "cell_type": "code",
   "execution_count": 11,
   "metadata": {},
   "outputs": [
    {
     "data": {
      "image/png": "[encoded data removed]",
      "text/latex": [
       "$\\displaystyle \\left[\\begin{matrix}a & b & b\\\\a & a & b\\\\a & a & a\\end{matrix}\\right]$"
      ],
      "text/plain": [
       "⎡a  b  b⎤\n",
       "⎢       ⎥\n",
       "⎢a  a  b⎥\n",
       "⎢       ⎥\n",
       "⎣a  a  a⎦"
      ]
     },
     "execution_count": 11,
     "metadata": {},
     "output_type": "execute_result"
    }
   ],
   "source": [
    "A = Matrix([[a, b, b], [a, a, b], [a, a, a]])\n",
    "A"
   ]
  },
  {
   "cell_type": "code",
   "execution_count": 12,
   "metadata": {},
   "outputs": [
    {
     "data": {
      "image/png": "[encoded data removed]",
      "text/latex": [
       "$\\displaystyle \\left[\\begin{matrix}\\frac{a}{a^{2} - a b} & 0 & - \\frac{b}{a^{2} - a b}\\\\- \\frac{a}{a^{2} - a b} & \\frac{a}{a^{2} - a b} & 0\\\\0 & - \\frac{a}{a^{2} - a b} & \\frac{a}{a^{2} - a b}\\end{matrix}\\right]$"
      ],
      "text/plain": [
       "⎡   a                  -b    ⎤\n",
       "⎢────────     0      ────────⎥\n",
       "⎢ 2                   2      ⎥\n",
       "⎢a  - a⋅b            a  - a⋅b⎥\n",
       "⎢                            ⎥\n",
       "⎢  -a         a              ⎥\n",
       "⎢────────  ────────     0    ⎥\n",
       "⎢ 2         2                ⎥\n",
       "⎢a  - a⋅b  a  - a⋅b          ⎥\n",
       "⎢                            ⎥\n",
       "⎢            -a         a    ⎥\n",
       "⎢   0      ────────  ────────⎥\n",
       "⎢           2         2      ⎥\n",
       "⎣          a  - a⋅b  a  - a⋅b⎦"
      ]
     },
     "execution_count": 12,
     "metadata": {},
     "output_type": "execute_result"
    }
   ],
   "source": [
    "A.inv()"
   ]
  },
  {
   "cell_type": "code",
   "execution_count": null,
   "metadata": {},
   "outputs": [],
   "source": []
  }
 ],
 "metadata": {
  "kernelspec": {
   "display_name": "Python 3 (ipykernel)",
   "language": "python",
   "name": "python3"
  },
  "language_info": {
   "codemirror_mode": {
    "name": "ipython",
    "version": 3
   },
   "file_extension": ".py",
   "mimetype": "text/x-python",
   "name": "python",
   "nbconvert_exporter": "python",
   "pygments_lexer": "ipython3",
   "version": "3.9.10"
  }
 },
 "nbformat": 4,
 "nbformat_minor": 1
}
