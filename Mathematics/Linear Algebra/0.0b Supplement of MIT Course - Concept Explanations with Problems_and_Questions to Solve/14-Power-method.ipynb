{
 "cells": [
  {
   "cell_type": "markdown",
   "metadata": {},
   "source": [
    "# Power method"
   ]
  },
  {
   "cell_type": "markdown",
   "metadata": {},
   "source": [
    "![Creative Commons License](https://i.creativecommons.org/l/by/4.0/88x31.png)  \n",
    "This work by Jephian Lin is licensed under a [Creative Commons Attribution 4.0 International License](http://creativecommons.org/licenses/by/4.0/)."
   ]
  },
  {
   "cell_type": "code",
   "execution_count": null,
   "metadata": {},
   "outputs": [],
   "source": [
    "import numpy as np\n",
    "import matplotlib.pyplot as plt\n",
    "from scipy import linalg as LA"
   ]
  },
  {
   "cell_type": "markdown",
   "metadata": {},
   "source": [
    "## Main idea"
   ]
  },
  {
   "cell_type": "markdown",
   "metadata": {},
   "source": [
    "Let $A$ be a symmetric matrix with eigenvalues $\\lambda_0\\leq\\cdots\\leq\\lambda_{n-1}$ such that $\\lambda_{n-1}$ has the largest magnitude comparing to other distinct eigenvalues.  \n",
    "Then the following algorithm will approximate an eigenvector of $A$ with respect to $\\lambda_{n-1}$.\n",
    "1. Start with a random vector ${\\bf x}_0$ in $\\mathbb{R}^n$.\n",
    "2. Let ${\\bf x}_{k+1} = \\frac{A{\\bf x}_k}{\\|A{\\bf x}_k\\|}$.  \n",
    "\n",
    "When $k$ is large, ${\\bf x}_k$ is close to an eigenvector of $A$ with respect to $\\lambda_{n-1}$."
   ]
  },
  {
   "cell_type": "markdown",
   "metadata": {},
   "source": [
    "## Side stories"
   ]
  },
  {
   "cell_type": "markdown",
   "metadata": {},
   "source": [
    "- finding all eigenvalues\n",
    "- PageRank"
   ]
  },
  {
   "cell_type": "markdown",
   "metadata": {},
   "source": [
    "## Experiments"
   ]
  },
  {
   "cell_type": "markdown",
   "metadata": {},
   "source": [
    "###### Exercise 1\n",
    "Let  \n",
    "```python\n",
    "A = np.array([[0,1,0,0,1],\n",
    "              [1,0,1,0,0],\n",
    "              [0,1,0,1,0],\n",
    "              [0,0,1,0,1],\n",
    "              [1,0,0,1,0]])\n",
    "```"
   ]
  },
  {
   "cell_type": "markdown",
   "metadata": {},
   "source": [
    "###### 1(a)\n",
    "Pick a random vector ${\\bf x}_0$ in $\\mathbb{R}^5$.  "
   ]
  },
  {
   "cell_type": "code",
   "execution_count": null,
   "metadata": {},
   "outputs": [],
   "source": [
    "### your answer here"
   ]
  },
  {
   "cell_type": "markdown",
   "metadata": {},
   "source": [
    "###### 1(b)\n",
    "Apply the power method:\n",
    "- Let ${\\bf x}_{k+1} = \\frac{A{\\bf x}_k}{\\|A{\\bf x}_k\\|}$. \n",
    "\n",
    "Find ${\\bf x}_{1000}$."
   ]
  },
  {
   "cell_type": "code",
   "execution_count": null,
   "metadata": {},
   "outputs": [],
   "source": [
    "### your answer here"
   ]
  },
  {
   "cell_type": "markdown",
   "metadata": {},
   "source": [
    "###### 1(c)\n",
    "Check if your ${\\bf x}_{1000}$ looks like an eigenvector or not."
   ]
  },
  {
   "cell_type": "code",
   "execution_count": null,
   "metadata": {},
   "outputs": [],
   "source": [
    "### your answer here"
   ]
  },
  {
   "cell_type": "markdown",
   "metadata": {},
   "source": [
    "###### Exercise 2\n",
    "Let  \n",
    "```python\n",
    "A = np.array([[0,0,1,1,1],\n",
    "              [0,0,1,1,1],\n",
    "              [1,1,0,0,0],\n",
    "              [1,1,0,0,0],\n",
    "              [1,1,0,0,0]])\n",
    "```"
   ]
  },
  {
   "cell_type": "markdown",
   "metadata": {},
   "source": [
    "###### 2(a)\n",
    "Use the power method to find ${\\bf x}_{1000}$ and check if it is an eigenvector.  \n",
    "If no, what might go wrong?"
   ]
  },
  {
   "cell_type": "code",
   "execution_count": null,
   "metadata": {},
   "outputs": [],
   "source": [
    "### your answer here"
   ]
  },
  {
   "cell_type": "markdown",
   "metadata": {},
   "source": [
    "###### 2(b)\n",
    "Let  \n",
    "```python\n",
    "s = 10\n",
    "As = A + s*np.eye(5)\n",
    "```\n",
    "and apply the power method on $A_s$ to find ${\\bf x}_{1000}$.  \n",
    "Is it an eigenvector of $A_s$?  \n",
    "Is it an eigenvector of $A$?  \n",
    "What is the relation between the two eigenvalues?  \n",
    "\n",
    "(This workaround works whenever $s$ is large enough.  \n",
    "But how large?  \n",
    "In general, you may pick `s = np.abs(A).sum() + 1` .)"
   ]
  },
  {
   "cell_type": "code",
   "execution_count": null,
   "metadata": {},
   "outputs": [],
   "source": [
    "### your answer here"
   ]
  },
  {
   "cell_type": "markdown",
   "metadata": {},
   "source": [
    "## Exercises"
   ]
  },
  {
   "cell_type": "markdown",
   "metadata": {},
   "source": [
    "###### Exercise 3\n",
    "Write a function  \n",
    "```python\n",
    "def power_method(A, iter=1000):\n",
    "    do something\n",
    "```\n",
    "that generate the largest eigenvalue of a symmetric matrix $A$."
   ]
  },
  {
   "cell_type": "code",
   "execution_count": null,
   "metadata": {},
   "outputs": [],
   "source": [
    "### your answer here"
   ]
  },
  {
   "cell_type": "markdown",
   "metadata": {},
   "source": [
    "###### Exercise 4\n",
    "After you have found the largest few eigenvalues and their eigenvectors, you may apply the the enhanced version of the power method:\n",
    "1. Let $U$ be a matrix whose columns are the eigenvectors of length 1 for the largest few eigenvalues.\n",
    "2. Let $P = I -UU^\\top$ be the projection matrix onto the space orthogonal to $\\operatorname{Col}(U)$.\n",
    "2. Choose $s$ large enough and let $A_s = A+sI$.\n",
    "3. Pick a random vector ${\\bf x}_0$ and set ${\\bf x}\\leftarrow P{\\bf x}_0$.\n",
    "4. Let ${\\bf x}_{k+1} = \\frac{PA{\\bf x}_k}{\\|PA{\\bf x}_k\\|}$."
   ]
  },
  {
   "cell_type": "markdown",
   "metadata": {},
   "source": [
    "###### 4(a)\n",
    "Let  \n",
    "```python\n",
    "A = np.array([[0,1,0,0,1],\n",
    "              [1,0,1,0,0],\n",
    "              [0,1,0,1,0],\n",
    "              [0,0,1,0,1],\n",
    "              [1,0,0,1,0]])\n",
    "```\n",
    "Find all eigenvalues and eigenvectors of $A$."
   ]
  },
  {
   "cell_type": "code",
   "execution_count": null,
   "metadata": {},
   "outputs": [],
   "source": [
    "### your answer here"
   ]
  },
  {
   "cell_type": "markdown",
   "metadata": {},
   "source": [
    "###### 4(b)\n",
    "Let  \n",
    "```python\n",
    "A = np.array([[0,0,1,1,1],\n",
    "              [0,0,1,1,1],\n",
    "              [1,1,0,0,0],\n",
    "              [1,1,0,0,0],\n",
    "              [1,1,0,0,0]])\n",
    "```\n",
    "Find all eigenvalues and eigenvectors of $A$."
   ]
  },
  {
   "cell_type": "code",
   "execution_count": null,
   "metadata": {},
   "outputs": [],
   "source": [
    "### your answer here"
   ]
  },
  {
   "cell_type": "markdown",
   "metadata": {},
   "source": [
    "###### 4(c)\n",
    "Upgrade your previous function\n",
    "```python\n",
    "def power_method(A, iter=1000, U=None):\n",
    "    do something\n",
    "```\n",
    "to implement this enhanced power method."
   ]
  },
  {
   "cell_type": "code",
   "execution_count": null,
   "metadata": {},
   "outputs": [],
   "source": [
    "### your answer here"
   ]
  },
  {
   "cell_type": "markdown",
   "metadata": {},
   "source": [
    "##### Exercise 5\n",
    "Write a function  \n",
    "```python\n",
    "def my_eigh(A):\n",
    "    do something\n",
    "```\n",
    "that takes a symmetric matrix and returns its eigenvalues and eigenvectors."
   ]
  },
  {
   "cell_type": "code",
   "execution_count": null,
   "metadata": {},
   "outputs": [],
   "source": [
    "### your answer here"
   ]
  },
  {
   "cell_type": "markdown",
   "metadata": {},
   "source": [
    "##### Exercise 6\n",
    "Let   \n",
    "```python\n",
    "A = np.array([[0,1,0,0,1],\n",
    "              [1,0,1,0,0],\n",
    "              [0,1,0,1,0],\n",
    "              [0,0,1,0,1],\n",
    "              [1,0,0,1,0]])\n",
    "vals,vecs = LA.eigh(A)\n",
    "Q = vecs\n",
    "```\n",
    "Let ${\\bf x}_0,\\ldots,{\\bf x}_{10}$ be the vectors generated by the power method.  \n",
    "Print the following for $k = 0,\\ldots, 9$.  \n",
    "1. $Q^\\top {\\bf x}_k$\n",
    "2. $Q^\\top A{\\bf x}_k$  \n",
    "3. The entrywise ratio of the vector in 2 over the vector in 1.\n",
    "4. `vals`\n",
    "5. `\"-----\" to separate different $k$."
   ]
  },
  {
   "cell_type": "code",
   "execution_count": null,
   "metadata": {},
   "outputs": [],
   "source": [
    "### your answer here"
   ]
  },
  {
   "cell_type": "markdown",
   "metadata": {},
   "source": [
    "##### Exercise 7\n",
    "Let  \n",
    "```python\n",
    "A = np.array([[1,1,1,1,1],\n",
    "              [1,1,1,1,1],\n",
    "              [1,1,0,0,0],\n",
    "              [1,1,0,0,0],\n",
    "              [1,1,0,0,0]])\n",
    "M = A / A.sum(axis=0)\n",
    "```\n",
    "Here $M$ is called a **transition matrix** since all of its entries are nonnegative and the each column sum is one.  \n",
    "There are five nodes $0,\\ldots, 4$.  \n",
    "A vector ${\\bf x}_0 = (x_0, x_1, x_2, x_3, x_4)^\\top$ with $x_i\\geq 0$ and $\\sum_{i}x_i = 1$ can be viewed as a **state** that describes the probability of a person staying at each node.  \n",
    "\n",
    "The transition matrix $M = \\begin{bmatrix}m_{ij}\\end{bmatrix}$ describes the probability of a person starts from $j$ and walk to $i$ in the next step.  \n",
    "Therefore, ${\\bf x}_{k+1} = M{\\bf x}_k$ is the state of the next step.  \n",
    "\n",
    "Find ${\\bf x}_{1000}$.  \n",
    "(Note that you don't have to normalized the length now since the sum is always equal to one.)  \n",
    "\n",
    "You will find out $M{\\bf x}_{1000}$ is very close to ${\\bf x}_{1000}$.  \n",
    "We call such probability state a **stationary state** of this Markov chain."
   ]
  },
  {
   "cell_type": "code",
   "execution_count": null,
   "metadata": {},
   "outputs": [],
   "source": [
    "### your answer here"
   ]
  }
 ],
 "metadata": {
  "kernelspec": {
   "display_name": "Python 3",
   "language": "python",
   "name": "python3"
  },
  "language_info": {
   "codemirror_mode": {
    "name": "ipython",
    "version": 3
   },
   "file_extension": ".py",
   "mimetype": "text/x-python",
   "name": "python",
   "nbconvert_exporter": "python",
   "pygments_lexer": "ipython3",
   "version": "3.9.1"
  }
 },
 "nbformat": 4,
 "nbformat_minor": 4
}
