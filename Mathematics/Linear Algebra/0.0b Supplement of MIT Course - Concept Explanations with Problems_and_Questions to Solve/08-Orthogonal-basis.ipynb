{
 "cells": [
  {
   "cell_type": "markdown",
   "metadata": {},
   "source": [
    "# Orthogonal basis"
   ]
  },
  {
   "cell_type": "markdown",
   "metadata": {},
   "source": [
    "![Creative Commons License](https://i.creativecommons.org/l/by/4.0/88x31.png)  \n",
    "This work by Jephian Lin is licensed under a [Creative Commons Attribution 4.0 International License](http://creativecommons.org/licenses/by/4.0/)."
   ]
  },
  {
   "cell_type": "code",
   "execution_count": null,
   "metadata": {},
   "outputs": [],
   "source": [
    "import numpy as np\n",
    "import matplotlib.pyplot as plt"
   ]
  },
  {
   "cell_type": "markdown",
   "metadata": {},
   "source": [
    "## Main idea"
   ]
  },
  {
   "cell_type": "markdown",
   "metadata": {},
   "source": [
    "If $\\|{\\bf u}\\| = 1$, then the projection of ${\\bf v}$ onto ${\\bf u}$ is \n",
    "$$\\operatorname{proj}_{\\bf u}({\\bf v}) = \\langle{\\bf v}, {\\bf u}\\rangle{\\bf u}.$$\n",
    "\n",
    "If $S = \\{{\\bf u}_1,\\ldots, {\\bf u}_d\\}$ is a collection of mutually orthogonal vectors of length one, then the projection of ${\\bf v}$ onto $V = \\operatorname{span}(S)$ is \n",
    "$$\\operatorname{proj}_V({\\bf v}) = \\langle{\\bf v}, {\\bf u}_1\\rangle{\\bf u}_1 + \\cdots + \\langle{\\bf v}, {\\bf u}_d\\rangle{\\bf u}_d.$$\n",
    "We say such $S$ is an **orthonormal basis** of $V$."
   ]
  },
  {
   "cell_type": "markdown",
   "metadata": {},
   "source": [
    "Suppose $S = \\{{\\bf u}_1,\\ldots, {\\bf u}_d\\}$ is an orthonormal basis of $V = \\operatorname{span}(S)$.  \n",
    "Let \n",
    "\n",
    "$$\n",
    "    A = \\begin{bmatrix}\n",
    "     | & ~ & | \\\\\n",
    "     {\\bf u}_1 & \\cdots & {\\bf u}_d \\\\\n",
    "     | & ~ & | \\\\\n",
    "    \\end{bmatrix}.\n",
    "$$  \n",
    "\n",
    "Then $A^\\top A = I$ and the projection is  \n",
    "$$\\operatorname{proj}_V({\\bf v}) = AA^\\top{\\bf v}.$$"
   ]
  },
  {
   "cell_type": "markdown",
   "metadata": {},
   "source": [
    "Suppose  \n",
    "$${\\bf v} = c_1{\\bf u}_1 + \\cdots + c_d{\\bf u}_d$$\n",
    "is a vector in $\\operatorname{span}(S)$.  \n",
    "Then $A^\\top {\\bf v} = {\\bf c}$ and $A{\\bf c} = {\\bf v}$,  \n",
    "where  \n",
    "$${\\bf c} = \\begin{bmatrix} c_1 \\\\ \\vdots \\\\ c_d \\end{bmatrix} \\text{ and }  \n",
    "A = \\begin{bmatrix}\n",
    " | & ~ & | \\\\\n",
    " {\\bf u}_1 & \\cdots & {\\bf u}_d \\\\\n",
    " | & ~ & | \\\\\n",
    "\\end{bmatrix}.$$  \n",
    "\n",
    "\n",
    "Every space has an orthonormal basis."
   ]
  },
  {
   "cell_type": "markdown",
   "metadata": {},
   "source": [
    "## Side stories"
   ]
  },
  {
   "cell_type": "markdown",
   "metadata": {},
   "source": [
    "- projection\n",
    "- Gram--Schmidt process"
   ]
  },
  {
   "cell_type": "markdown",
   "metadata": {},
   "source": [
    "## Experiments"
   ]
  },
  {
   "cell_type": "markdown",
   "metadata": {},
   "source": [
    "###### Exercise 1\n",
    "Let  \n",
    "```python\n",
    "u = np.array([1,1])\n",
    "u = u / np.linalg.norm(u)\n",
    "v = np.array([3,4])\n",
    "```"
   ]
  },
  {
   "cell_type": "markdown",
   "metadata": {},
   "source": [
    "###### 1(a)\n",
    "Print $\\langle {\\bf v}, {\\bf u}\\rangle$."
   ]
  },
  {
   "cell_type": "code",
   "execution_count": null,
   "metadata": {},
   "outputs": [],
   "source": [
    "### your answer here"
   ]
  },
  {
   "cell_type": "markdown",
   "metadata": {},
   "source": [
    "###### 1(b)\n",
    "Draw a vector in black for ${\\bf u}$.  \n",
    "Draw a vector in blue for ${\\bf v}$.  \n",
    "Draw a vector in red with dashed line for its projection.  "
   ]
  },
  {
   "cell_type": "code",
   "execution_count": null,
   "metadata": {},
   "outputs": [],
   "source": [
    "### your answer here"
   ]
  },
  {
   "cell_type": "markdown",
   "metadata": {},
   "source": [
    "###### Exercise 2\n",
    "Let  \n",
    "```python\n",
    "u0 = np.array([1,-1,0])\n",
    "u0 = u0 / np.linalg.norm(u0)\n",
    "u1 = np.array([1,1,-2])\n",
    "u1 = u1 / np.linalg.norm(u1)\n",
    "v = np.array([1,0,0])\n",
    "```\n",
    "Let $V$ be the space spanned by $\\{{\\bf u}_0,{\\bf u}_1\\}$."
   ]
  },
  {
   "cell_type": "markdown",
   "metadata": {},
   "source": [
    "###### 2(a)\n",
    "Use the technique you learned in the previous lesson to find the projection of ${\\bf v}$ onto $V$."
   ]
  },
  {
   "cell_type": "code",
   "execution_count": null,
   "metadata": {},
   "outputs": [],
   "source": [
    "### your answer here"
   ]
  },
  {
   "cell_type": "markdown",
   "metadata": {},
   "source": [
    "###### 2(b)\n",
    "Compute $c_0 = \\langle {\\bf v},{\\bf u}_0\\rangle$ and $c_1 = \\langle {\\bf v},{\\bf u}_1\\rangle$.  \n",
    "Check if $c_0{\\bf u}_0 + c_1{\\bf u}_1$ is the same as your answer in 2(a)."
   ]
  },
  {
   "cell_type": "code",
   "execution_count": null,
   "metadata": {},
   "outputs": [],
   "source": [
    "### your answer here"
   ]
  },
  {
   "cell_type": "markdown",
   "metadata": {},
   "source": [
    "###### 2(c)\n",
    "Compute $A^\\top{\\bf v}$ and check if the output is the same as $c_0$ and $c_1$ you computed in 2(b)."
   ]
  },
  {
   "cell_type": "code",
   "execution_count": null,
   "metadata": {},
   "outputs": [],
   "source": [
    "### your answer here"
   ]
  },
  {
   "cell_type": "markdown",
   "metadata": {},
   "source": [
    "###### 2(d)\n",
    "Check if $AA^\\top{\\bf v}$ is again the same as the answer you computed in 2(b)."
   ]
  },
  {
   "cell_type": "code",
   "execution_count": null,
   "metadata": {},
   "outputs": [],
   "source": [
    "### your answer here"
   ]
  },
  {
   "cell_type": "markdown",
   "metadata": {},
   "source": [
    "## Exercises"
   ]
  },
  {
   "cell_type": "markdown",
   "metadata": {},
   "source": [
    "###### Exercise 3\n",
    "Let  \n",
    "```python\n",
    "u0 = np.array([1,-1,0])\n",
    "u1 = np.array([1,1,-2])\n",
    "u2 = np.array([1,1,1])\n",
    "u0 = u0 / np.linalg.norm(u0)\n",
    "u1 = u1 / np.linalg.norm(u1)\n",
    "u2 = u2 / np.linalg.norm(u2)\n",
    "```\n",
    "and $S = \\{{\\bf u}_0, {\\bf u}_1, {\\bf u}_2\\}$.  "
   ]
  },
  {
   "cell_type": "markdown",
   "metadata": {},
   "source": [
    "###### 3(a)\n",
    "Check if the vectors in $S$ are mutually orthogonal and al have length one.  \n",
    "Can you check it by $A^\\top A$ for some appropriate $A$?"
   ]
  },
  {
   "cell_type": "code",
   "execution_count": null,
   "metadata": {},
   "outputs": [],
   "source": [
    "### your answer here"
   ]
  },
  {
   "cell_type": "markdown",
   "metadata": {},
   "source": [
    "###### 3(b)\n",
    "Let  \n",
    "```python\n",
    "v = np.array([1,0,0])\n",
    "```\n",
    "Find $c_0,c_1,c_2$ such that ${\\bf v} = c_0{\\bf u}_0 + c_1{\\bf u}_1 + c_2{\\bf u}_2$."
   ]
  },
  {
   "cell_type": "code",
   "execution_count": null,
   "metadata": {},
   "outputs": [],
   "source": [
    "### your answer here"
   ]
  },
  {
   "cell_type": "markdown",
   "metadata": {},
   "source": [
    "###### 3(c)\n",
    "Draw the vectors ${\\bf v}$, ${\\bf u}_0$, ${\\bf u}_1$, and ${\\bf u}_2$."
   ]
  },
  {
   "cell_type": "code",
   "execution_count": null,
   "metadata": {},
   "outputs": [],
   "source": [
    "### your answer here"
   ]
  },
  {
   "cell_type": "markdown",
   "metadata": {},
   "source": [
    "##### Exercise 4\n",
    "Let  \n",
    "```python\n",
    "A = np.array([[1,1,1],\n",
    "              [-1,0,0], \n",
    "              [0,-1,0], \n",
    "              [0,0,-1]])\n",
    "```\n",
    "and ${\\bf u}_0, {\\bf u}_1, {\\bf u}_2$ the columns of $A$.  \n",
    "The following exercises lead you through the process of finding an orthnormal basis of $\\operatorname{Col}(A)$."
   ]
  },
  {
   "cell_type": "markdown",
   "metadata": {},
   "source": [
    "###### 4(a)\n",
    "Compute $\\hat{\\bf u}_0 = {\\bf u}_0 / \\|{\\bf u}_0\\|$. "
   ]
  },
  {
   "cell_type": "code",
   "execution_count": null,
   "metadata": {},
   "outputs": [],
   "source": [
    "### your answer here"
   ]
  },
  {
   "cell_type": "markdown",
   "metadata": {},
   "source": [
    "###### 4(b)\n",
    "Let $V_0$ be the space spanned by $\\{\\hat{\\bf u}_0\\}$.  \n",
    "Compute ${\\bf u}'_1 = {\\bf u}_1 - \\operatorname{proj}_{V_0}({\\bf u}_1)$ and $\\hat{\\bf u}_1 = {\\bf u}'_1 / \\|{\\bf u}'_1\\|$."
   ]
  },
  {
   "cell_type": "code",
   "execution_count": null,
   "metadata": {},
   "outputs": [],
   "source": [
    "### your answer here"
   ]
  },
  {
   "cell_type": "markdown",
   "metadata": {},
   "source": [
    "###### 4(c)\n",
    "Let $V_1$ be the space spanned by $\\{\\hat{\\bf u}_0,\\hat{\\bf u}_1\\}$.  \n",
    "Compute ${\\bf u}'_2 = {\\bf u}_2 - \\operatorname{proj}_{V_1}({\\bf u}_2)$ and $\\hat{\\bf u}_2 = {\\bf u}'_2 / \\|{\\bf u}'_2\\|$."
   ]
  },
  {
   "cell_type": "code",
   "execution_count": null,
   "metadata": {},
   "outputs": [],
   "source": [
    "### your answer here"
   ]
  },
  {
   "cell_type": "markdown",
   "metadata": {},
   "source": [
    "###### 4(d)\n",
    "Check if $\\hat{S} = \\{\\hat{\\bf u}_0, \\hat{\\bf u}_1, \\hat{\\bf u}_2\\}$ is an orthogonal basis of $\\operatorname{Col}(A)$."
   ]
  },
  {
   "cell_type": "code",
   "execution_count": null,
   "metadata": {},
   "outputs": [],
   "source": [
    "### your answer here"
   ]
  },
  {
   "cell_type": "markdown",
   "metadata": {},
   "source": [
    "#### Remark\n",
    "This process is called the **Gram--Schmidt process**.  \n",
    "It takes a basis $S = \\{{\\bf u}_0, \\ldots, {\\bf u}_{d-1}\\}$ and returns an orthogonal basis $\\hat{S} = \\{\\hat{\\bf u}_0, \\ldots, \\hat{\\bf u}_{d-1}\\}$ such that $\\operatorname{span}(S) = \\operatorname{span}(\\hat{S})$ by the following steps.\n",
    "1. $\\hat{\\bf u}_0 = {\\bf u}_0$\n",
    "2. Let $V_{k-1}$ be the space spanned by $\\{\\hat{\\bf u}_0,\\ldots, \\hat{\\bf u}_{k-1}\\}$.  Then $\\hat{\\bf u}_{k} = {\\bf u}_{k} - \\operatorname{proj}_{V_k}({\\bf u}_{k})$.  Repeat this step for $k = 1,\\ldots, d-1$.\n",
    "3. Normalize each vector of $\\{\\hat{\\bf u}_0, \\ldots, \\hat{\\bf u}_{d-1}\\}$ to length one."
   ]
  },
  {
   "cell_type": "markdown",
   "metadata": {},
   "source": [
    "##### Exercise 5\n",
    "Write a function that takes a basis (stored as the columns of $A$) and returns an orthogonal basis (stored as the columns of $B$)."
   ]
  },
  {
   "cell_type": "code",
   "execution_count": null,
   "metadata": {},
   "outputs": [],
   "source": [
    "### your answer here"
   ]
  }
 ],
 "metadata": {
  "kernelspec": {
   "display_name": "Python 3 (ipykernel)",
   "language": "python",
   "name": "python3"
  },
  "language_info": {
   "codemirror_mode": {
    "name": "ipython",
    "version": 3
   },
   "file_extension": ".py",
   "mimetype": "text/x-python",
   "name": "python",
   "nbconvert_exporter": "python",
   "pygments_lexer": "ipython3",
   "version": "3.10.2"
  }
 },
 "nbformat": 4,
 "nbformat_minor": 4
}
