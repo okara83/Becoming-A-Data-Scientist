{
 "cells": [
  {
   "cell_type": "markdown",
   "metadata": {},
   "source": [
    "# Change of basis for matrices"
   ]
  },
  {
   "cell_type": "markdown",
   "metadata": {},
   "source": [
    "![Creative Commons License](https://i.creativecommons.org/l/by/4.0/88x31.png)  \n",
    "This work by Jephian Lin is licensed under a [Creative Commons Attribution 4.0 International License](http://creativecommons.org/licenses/by/4.0/)."
   ]
  },
  {
   "cell_type": "code",
   "execution_count": null,
   "metadata": {},
   "outputs": [],
   "source": [
    "import numpy as np\n",
    "import matplotlib.pyplot as plt\n",
    "from mpl_toolkits import mplot3d"
   ]
  },
  {
   "cell_type": "markdown",
   "metadata": {},
   "source": [
    "## Main idea"
   ]
  },
  {
   "cell_type": "markdown",
   "metadata": {},
   "source": [
    "An $n\\times n$ matrix $A$ can be viewed as an operator  \n",
    "$$A{\\bf v}\\xleftarrow{A}{\\bf v}$$\n",
    "that sends ${\\bf v}$ to $A{\\bf v}$.  \n",
    "\n",
    "Suppose $\\beta$ is an orthonormal basis of $\\mathbb{R}^n$ and $Q$ the matrix whose columns are vectors in $\\beta$.  \n",
    "The action given by $A$ can be \"observed\" in the coordinates of $\\beta$.  \n",
    "That is, \n",
    "$$[A{\\bf v}]_\\beta\\xleftarrow{D}[{\\bf v}]_\\beta$$  \n",
    "or, equivalently,  \n",
    "$$Q^\\top A{\\bf v}\\xleftarrow{D} Q^\\top{\\bf v}.$$  \n",
    "\n",
    "In conclusion, $Q^\\top A{\\bf v} = DQ^\\top{\\bf v}$, $A = QDQ^\\top$, and $D = Q^\\top AQ$.  \n",
    "We call $[A]_\\beta = D$ the **representation** of $A$ with respect to the basis $\\beta$."
   ]
  },
  {
   "cell_type": "markdown",
   "metadata": {},
   "source": [
    "## Side stories"
   ]
  },
  {
   "cell_type": "markdown",
   "metadata": {},
   "source": [
    "- actions on new basis\n",
    "- change of basis (general basis)"
   ]
  },
  {
   "cell_type": "markdown",
   "metadata": {},
   "source": [
    "## Experiments"
   ]
  },
  {
   "cell_type": "markdown",
   "metadata": {},
   "source": [
    "###### Exercise 1\n",
    "Let  \n",
    "```python\n",
    "A = np.eye(3) - np.ones((3,3)) / 3\n",
    "Q = np.array([[1,1,1],\n",
    "              [-1,1,1],\n",
    "              [0,-2,1]])\n",
    "Q = Q / np.sqrt((Q**2).sum(axis=0))\n",
    "```\n",
    "and $\\beta$ the columns of $Q$.  \n",
    "Obverve $A$ from the point of view of $\\beta$.  \n",
    "That is, find $[A]_\\beta$.  \n",
    "What does the action $A$ do on a vector ${\\bf v}$?  "
   ]
  },
  {
   "cell_type": "code",
   "execution_count": null,
   "metadata": {},
   "outputs": [],
   "source": [
    "### your answer here"
   ]
  },
  {
   "cell_type": "markdown",
   "metadata": {},
   "source": [
    "###### Exercise 2\n",
    "Let  \n",
    "```python\n",
    "A = np.eye(3) - 2*np.ones((3,3)) / 3\n",
    "Q = np.array([[1,1,1],\n",
    "              [-1,1,1],\n",
    "              [0,-2,1]])\n",
    "Q = Q / np.sqrt((Q**2).sum(axis=0))\n",
    "```\n",
    "and $\\beta$ the columns of $Q$.  \n",
    "Obverve $A$ from the point of view of $\\beta$.  \n",
    "That is, find $[A]_\\beta$.  \n",
    "What does the action $A$ do on a vector ${\\bf v}$?  "
   ]
  },
  {
   "cell_type": "code",
   "execution_count": null,
   "metadata": {},
   "outputs": [],
   "source": [
    "### your answer here"
   ]
  },
  {
   "cell_type": "markdown",
   "metadata": {},
   "source": [
    "###### Exercise 3\n",
    "Let  \n",
    "```python\n",
    "A = np.array([[ 0.33333333, -0.24401694,  0.9106836 ],\n",
    "              [ 0.9106836 ,  0.33333333, -0.24401694],\n",
    "              [-0.24401694,  0.9106836 ,  0.33333333]])\n",
    "Q = np.array([[1,1,1],\n",
    "              [-1,1,1],\n",
    "              [0,-2,1]])\n",
    "Q = Q / np.sqrt((Q**2).sum(axis=0))\n",
    "```\n",
    "and $\\beta$ the columns of $Q$.  \n",
    "Obverve $A$ from the point of view of $\\beta$.  \n",
    "That is, find $[A]_\\beta$.  \n",
    "What does the action $A$ do on a vector ${\\bf v}$?  "
   ]
  },
  {
   "cell_type": "code",
   "execution_count": null,
   "metadata": {},
   "outputs": [],
   "source": [
    "### your answer here"
   ]
  },
  {
   "cell_type": "markdown",
   "metadata": {},
   "source": [
    "## Exercises"
   ]
  },
  {
   "cell_type": "markdown",
   "metadata": {},
   "source": [
    "###### Exercise 4\n",
    "Let  \n",
    "```python\n",
    "Q = np.array([[1,1,1],\n",
    "              [-1,1,1],\n",
    "              [0,-2,1]])\n",
    "Q = Q / np.sqrt((Q**2).sum(axis=0))\n",
    "```\n",
    "and $\\beta = \\{{\\bf u}_0,{\\bf u}_1,{\\bf u}_2\\}$ the columns of $Q$.  "
   ]
  },
  {
   "cell_type": "markdown",
   "metadata": {},
   "source": [
    "###### 4(a)\n",
    "Find a matrix $A$ such that  \n",
    "$A{\\bf u}_0 = {\\bf u}_0$  \n",
    "$A{\\bf u}_1 = {\\bf u}_1$  \n",
    "$A{\\bf u}_2 = {\\bf 0}$.  \n",
    "Thus, $A$ is the projection matrix for the ${\\bf u}_0,{\\bf u}_1$-plane."
   ]
  },
  {
   "cell_type": "code",
   "execution_count": null,
   "metadata": {},
   "outputs": [],
   "source": [
    "### your answer here"
   ]
  },
  {
   "cell_type": "markdown",
   "metadata": {},
   "source": [
    "###### 4(b)\n",
    "Find a matrix $A$ such that  \n",
    "$A{\\bf u}_0 = {\\bf u}_0$  \n",
    "$A{\\bf u}_1 = {\\bf u}_1$  \n",
    "$A{\\bf u}_2 = -{\\bf u}_2$.  \n",
    "Thus, $A$ is the reflection matrix for the ${\\bf u}_0,{\\bf u}_1$-plane."
   ]
  },
  {
   "cell_type": "code",
   "execution_count": null,
   "metadata": {},
   "outputs": [],
   "source": [
    "### your answer here"
   ]
  },
  {
   "cell_type": "markdown",
   "metadata": {},
   "source": [
    "###### 4(c)\n",
    "Let $\\theta = \\frac{\\pi}{2}$.  \n",
    "Find a matrix $A$ such that  \n",
    "$A{\\bf u}_0 = \\cos(\\theta){\\bf u}_0 + \\sin(\\theta){\\bf u}_1$  \n",
    "$A{\\bf u}_1 = -\\sin(\\theta){\\bf u}_0 + \\cos(\\theta){\\bf u}_1$  \n",
    "$A{\\bf u}_2 = {\\bf u}_2$.  \n",
    "Thus, $A$ is the rotation matrix from the direction of ${\\bf u}_0$ to the direction of ${\\bf u}_1$."
   ]
  },
  {
   "cell_type": "code",
   "execution_count": null,
   "metadata": {},
   "outputs": [],
   "source": [
    "### your answer here"
   ]
  },
  {
   "cell_type": "markdown",
   "metadata": {},
   "source": [
    "###### 4(d)\n",
    "Find a matrix $A$ such that  \n",
    "$A{\\bf u}_0 = 2{\\bf u}_0$  \n",
    "$A{\\bf u}_1 = 3{\\bf u}_1$  \n",
    "$A{\\bf u}_2 = 4{\\bf u}_2$.   "
   ]
  },
  {
   "cell_type": "code",
   "execution_count": null,
   "metadata": {},
   "outputs": [],
   "source": [
    "### your answer here"
   ]
  },
  {
   "cell_type": "markdown",
   "metadata": {},
   "source": [
    "##### Exercise 5\n",
    "Let  \n",
    "```python\n",
    "t = np.linspace(0, 2*np.pi, 36)\n",
    "vs = np.zeros((3,46))\n",
    "vs[0,:36] = 3 * np.cos(t)\n",
    "vs[1,:36] = np.sin(t)\n",
    "vs[2,36:] = np.linspace(0,2,10)\n",
    "c = np.hstack([t, -np.ones((10,))])\n",
    "\n",
    "Q = np.array([[1,1,1],\n",
    "              [-1,1,1],\n",
    "              [0,-2,1]])\n",
    "Q = Q / np.sqrt((Q**2).sum(axis=0))\n",
    "new_vs = Q.dot(vs)\n",
    "```"
   ]
  },
  {
   "cell_type": "markdown",
   "metadata": {},
   "source": [
    "###### 5(a)\n",
    "Plot the points (columns) of `new_vs` using the color `t` ."
   ]
  },
  {
   "cell_type": "code",
   "execution_count": null,
   "metadata": {},
   "outputs": [],
   "source": [
    "### your answer here"
   ]
  },
  {
   "cell_type": "markdown",
   "metadata": {},
   "source": [
    "###### 5(b)\n",
    "Let `A` be the matrix you found in 4(a).  \n",
    "Let `moved_vs = A.dot(new_vs)` .  \n",
    "Plot the points (columns) of `new_vs` using the color `t` ."
   ]
  },
  {
   "cell_type": "code",
   "execution_count": null,
   "metadata": {},
   "outputs": [],
   "source": [
    "### your answer here"
   ]
  },
  {
   "cell_type": "markdown",
   "metadata": {},
   "source": [
    "###### 5(c)\n",
    "Let `A` be the matrix you found in 4(b).  \n",
    "Let `moved_vs = A.dot(new_vs)` .  \n",
    "Plot the points (columns) of `new_vs` using the color `t` ."
   ]
  },
  {
   "cell_type": "code",
   "execution_count": null,
   "metadata": {},
   "outputs": [],
   "source": [
    "### your answer here"
   ]
  },
  {
   "cell_type": "markdown",
   "metadata": {},
   "source": [
    "###### 5(d)\n",
    "Let `A` be the matrix you found in 4(c).  \n",
    "Let `moved_vs = A.dot(new_vs)` .  \n",
    "Plot the points (columns) of `new_vs` using the color `t` ."
   ]
  },
  {
   "cell_type": "code",
   "execution_count": null,
   "metadata": {},
   "outputs": [],
   "source": [
    "### your answer here"
   ]
  },
  {
   "cell_type": "markdown",
   "metadata": {},
   "source": [
    "###### 5(e)\n",
    "Let `A` be the matrix you found in 4(d).  \n",
    "Let `moved_vs = A.dot(new_vs)` .  \n",
    "Plot the points (columns) of `new_vs` using the color `t` ."
   ]
  },
  {
   "cell_type": "code",
   "execution_count": null,
   "metadata": {},
   "outputs": [],
   "source": [
    "### your answer here"
   ]
  },
  {
   "cell_type": "markdown",
   "metadata": {},
   "source": [
    "##### Exercise 6\n",
    "In general, if $\\beta$ is a basis and $Q$ is the matrix whose columns are vectors in $\\beta$, then  \n",
    "$$Q[{\\bf v}]_\\beta = {\\bf v}\\text{ and }Q^{-1}{\\bf v} = [{\\bf v}]_\\beta.$$\n",
    "\n",
    "Therefore, the relations between $A$ and its representation with respect to the basis $\\beta$ are \n",
    "$$A = QDQ^{-1}\\text{ and }D = Q^{-1} AQ.$$\n",
    "\n",
    "Let  \n",
    "```python\n",
    "Q = np.array([[2,1],\n",
    "              [1,2]])\n",
    "```\n",
    "and $\\beta = \\{{\\bf u}_0,{\\bf u}_1\\}$ the columns of $Q$."
   ]
  },
  {
   "cell_type": "markdown",
   "metadata": {},
   "source": [
    "###### 6(a)\n",
    "Find a matrix $A$ such that  \n",
    "$A{\\bf u}_0 = 3{\\bf u}_0$  \n",
    "$A{\\bf u}_1 = {\\bf u}_1$."
   ]
  },
  {
   "cell_type": "code",
   "execution_count": null,
   "metadata": {},
   "outputs": [],
   "source": [
    "### your answer here"
   ]
  },
  {
   "cell_type": "markdown",
   "metadata": {},
   "source": [
    "###### 6(b)\n",
    "Let  \n",
    "```python\n",
    "t = np.linspace(0, 2*np.pi, 36)\n",
    "xs = np.cos(t)\n",
    "ys = np.sin(t)\n",
    "vs = np.vstack([xs,ys])\n",
    "Avs = A.dot(vs)\n",
    "```\n",
    "Draw the points (volumns) in `vs` .  \n",
    "Draw the points (volumns) in `Avs` ."
   ]
  },
  {
   "cell_type": "code",
   "execution_count": null,
   "metadata": {},
   "outputs": [],
   "source": [
    "### your answer here"
   ]
  }
 ],
 "metadata": {
  "kernelspec": {
   "display_name": "Python 3",
   "language": "python",
   "name": "python3"
  },
  "language_info": {
   "codemirror_mode": {
    "name": "ipython",
    "version": 3
   },
   "file_extension": ".py",
   "mimetype": "text/x-python",
   "name": "python",
   "nbconvert_exporter": "python",
   "pygments_lexer": "ipython3",
   "version": "3.9.2"
  }
 },
 "nbformat": 4,
 "nbformat_minor": 4
}
