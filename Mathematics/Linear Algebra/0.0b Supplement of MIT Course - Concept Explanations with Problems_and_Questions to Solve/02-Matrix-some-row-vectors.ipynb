{
 "cells": [
  {
   "cell_type": "markdown",
   "metadata": {},
   "source": [
    "# Matrix = some row vectors"
   ]
  },
  {
   "cell_type": "markdown",
   "metadata": {},
   "source": [
    "![Creative Commons License](https://i.creativecommons.org/l/by/4.0/88x31.png)  \n",
    "This work by Jephian Lin is licensed under a [Creative Commons Attribution 4.0 International License](http://creativecommons.org/licenses/by/4.0/)."
   ]
  },
  {
   "cell_type": "code",
   "execution_count": null,
   "metadata": {},
   "outputs": [],
   "source": [
    "import numpy as np\n",
    "import matplotlib.pyplot as plt\n",
    "from mpl_toolkits import mplot3d"
   ]
  },
  {
   "cell_type": "code",
   "execution_count": null,
   "metadata": {},
   "outputs": [],
   "source": [
    "def make_blobs(N=150, k=3, d=2, seed=None):\n",
    "    \"\"\"\n",
    "    Input:\n",
    "        N: an integer, number of samples\n",
    "        k: an integer, number of blobs\n",
    "        d: an integer, dimension of the space\n",
    "    Output:\n",
    "        a dataset X of shape (N, d)\n",
    "    \"\"\"\n",
    "    np.random.seed(seed)\n",
    "    X = np.random.randn(N,d)\n",
    "    blob_size = N // k\n",
    "    centers = np.random.randn(k, d) * 3\n",
    "    for i in range(k):\n",
    "        left = blob_size * i\n",
    "        right = blob_size * (i+1) if i != k-1 else N\n",
    "        X[left:right] += centers[i]\n",
    "    return X"
   ]
  },
  {
   "cell_type": "markdown",
   "metadata": {},
   "source": [
    "## Main idea"
   ]
  },
  {
   "cell_type": "markdown",
   "metadata": {},
   "source": [
    "The **inner product** of two vectors  \n",
    "$${\\bf x} = \\begin{bmatrix}x_1\\\\ \\vdots \\\\ x_n\\end{bmatrix}\\text{ and }\n",
    "{\\bf y} = \\begin{bmatrix}y_1\\\\ \\vdots \\\\ y_n\\end{bmatrix}$$  \n",
    "is  \n",
    "$$\\langle{\\bf x}, {\\bf y}\\rangle = \\sum_{i=1}^n x_iy_i.$$"
   ]
  },
  {
   "cell_type": "markdown",
   "metadata": {},
   "source": [
    "Let  \n",
    "$$A = \\begin{bmatrix} \n",
    " - & {\\bf r}_1 & - \\\\\n",
    " ~ & \\vdots & ~ \\\\\n",
    " - & {\\bf r}_m & - \\\\\n",
    "\\end{bmatrix}$$\n",
    "be an $m\\times n$ matrix and ${\\bf v}$ a vector in $\\mathbb{R}^n$.  \n",
    "\n",
    "Then  \n",
    "$$(A{\\bf v})_i = \\langle{\\bf r}_i, {\\bf v}\\rangle.$$"
   ]
  },
  {
   "cell_type": "markdown",
   "metadata": {},
   "source": [
    "## Side stories"
   ]
  },
  {
   "cell_type": "markdown",
   "metadata": {},
   "source": [
    "- Geometry of $\\langle{\\bf r}, {\\bf v}\\rangle = k$\n",
    "- hyperplane, affine plane, and their normal vectors\n",
    "- `np.random`, `plt.scatter`\n",
    "- mask in NumPy\n",
    "- classification"
   ]
  },
  {
   "cell_type": "markdown",
   "metadata": {},
   "source": [
    "## Experiments"
   ]
  },
  {
   "cell_type": "markdown",
   "metadata": {},
   "source": [
    "##### Exercise 1\n",
    "Let \n",
    "```python\n",
    "x = np.array([1,1,1])\n",
    "y = np.array([1,2,3])\n",
    "```"
   ]
  },
  {
   "cell_type": "markdown",
   "metadata": {},
   "source": [
    "###### 1(a)\n",
    "Use `np.dot` to find the inner product of `x` and `y`."
   ]
  },
  {
   "cell_type": "code",
   "execution_count": null,
   "metadata": {},
   "outputs": [],
   "source": [
    "### your answer here"
   ]
  },
  {
   "cell_type": "markdown",
   "metadata": {},
   "source": [
    "###### 1(b)\n",
    "Use `*` and `np.sum` to find the inner product of `x` and `y`."
   ]
  },
  {
   "cell_type": "code",
   "execution_count": null,
   "metadata": {},
   "outputs": [],
   "source": [
    "### your answer here"
   ]
  },
  {
   "cell_type": "markdown",
   "metadata": {},
   "source": [
    "###### 1(c)\n",
    "Reshape `y` to `(1,3)` and `x` to `(3,1)` .  \n",
    "Verify that ${\\bf y}^\\top{\\bf x} = \\langle{\\bf x}, {\\bf y}\\rangle$."
   ]
  },
  {
   "cell_type": "code",
   "execution_count": null,
   "metadata": {},
   "outputs": [],
   "source": [
    "### your answer here"
   ]
  },
  {
   "cell_type": "markdown",
   "metadata": {},
   "source": [
    "##### Exercise 2\n",
    "Let  \n",
    "```python\n",
    "vs = 5*np.random.randn(2,10000)\n",
    "r = np.array([1,1])\n",
    "```"
   ]
  },
  {
   "cell_type": "markdown",
   "metadata": {},
   "source": [
    "###### 2(a)\n",
    "Use `plt.scatter` to plot the 10000 points in `vs` and use `plt.arrow` to plot the vector `r` .  \n",
    "Note:  You might need to set `head_width` properly for drawing an arrow.  \n",
    "Note:  Put `plt.axis('equal')` at the beginning to make the two axes on the same scale."
   ]
  },
  {
   "cell_type": "code",
   "execution_count": null,
   "metadata": {},
   "outputs": [],
   "source": [
    "### your answer here"
   ]
  },
  {
   "cell_type": "markdown",
   "metadata": {},
   "source": [
    "###### 2(b)\n",
    "Let `prod = np.dot(r, vs)` .  \n",
    "Use the `c` and `cmap` keywords in `plt.scatter` to color each points in `vs` by the values in `prod` ."
   ]
  },
  {
   "cell_type": "code",
   "execution_count": null,
   "metadata": {},
   "outputs": [],
   "source": [
    "### your answer here"
   ]
  },
  {
   "cell_type": "markdown",
   "metadata": {},
   "source": [
    "###### 2(c)\n",
    "Let \n",
    "```python\n",
    "mask = (np.abs(prod) < 0.1)\n",
    "plane = vs[:, mask]\n",
    "```\n",
    "Plot the points in `plane`."
   ]
  },
  {
   "cell_type": "code",
   "execution_count": null,
   "metadata": {},
   "outputs": [],
   "source": [
    "### your answer here"
   ]
  },
  {
   "cell_type": "markdown",
   "metadata": {},
   "source": [
    "##### Exercise 3\n",
    "Run the following code.\n",
    "```python\n",
    "%matplotlib notebook\n",
    "vs = 5*np.random.randn(3,100000)\n",
    "r1 = np.array([1,-1,0])\n",
    "r2 = np.array([1,0,-1])\n",
    "r3 = np.array([0,1,-1])\n",
    "b1,b2,b3 = 5,0,0\n",
    "\n",
    "mask1 = (np.abs(np.dot(r1, vs) - b1) < 0.1)\n",
    "mask2 = (np.abs(np.dot(r2, vs) - b2) < 0.1)\n",
    "mask3 = (np.abs(np.dot(r3, vs) - b3) < 0.1)\n",
    "plane1 = vs[:,mask1]\n",
    "plane2 = vs[:,mask2]\n",
    "plane3 = vs[:,mask3]\n",
    "\n",
    "ax = plt.axes(projection='3d')\n",
    "ax.set_xlim(-5,5)\n",
    "ax.set_ylim(-5,5)\n",
    "ax.set_zlim(-5,5)\n",
    "ax.scatter(plane1[0], plane1[1], plane1[2])\n",
    "ax.scatter(plane2[0], plane2[1], plane2[2])\n",
    "ax.scatter(plane3[0], plane3[1], plane3[2])\n",
    "```\n",
    "Does there exist a solution to the system of linear equations?  \n",
    "$\\langle{\\bf r}_1, {\\bf v}\\rangle = b_1$  \n",
    "$\\langle{\\bf r}_2, {\\bf v}\\rangle = b_2$  \n",
    "$\\langle{\\bf r}_3, {\\bf v}\\rangle = b_3$  \n",
    "Play with other `r`'s and `b`'s."
   ]
  },
  {
   "cell_type": "code",
   "execution_count": null,
   "metadata": {},
   "outputs": [],
   "source": [
    "### your answer here"
   ]
  },
  {
   "cell_type": "markdown",
   "metadata": {},
   "source": [
    "## Exercises"
   ]
  },
  {
   "cell_type": "markdown",
   "metadata": {},
   "source": [
    "##### Exercise 4\n",
    "Let  \n",
    "```python\n",
    "x = np.array([0,0,1,1])\n",
    "y = np.array([1,1,1,1])\n",
    "```\n",
    "and $\\theta$ the angle between the two vectors."
   ]
  },
  {
   "cell_type": "markdown",
   "metadata": {},
   "source": [
    "###### 4(a)\n",
    "It is known that $\\langle{\\bf x}, {\\bf y}\\rangle = \\|{\\bf x}\\|\\|{\\bf y}\\|\\cos\\theta$ for any vectors, where $\\|{\\bf v}\\| = \\sqrt{\\langle{\\bf v}, {\\bf v}\\rangle}$ is the length of ${\\bf v}$.  \n",
    "Use `np.arccos` to find $\\theta$."
   ]
  },
  {
   "cell_type": "code",
   "execution_count": null,
   "metadata": {},
   "outputs": [],
   "source": [
    "### your answer here"
   ]
  },
  {
   "cell_type": "markdown",
   "metadata": {},
   "source": [
    "###### 4(b)\n",
    "Let ${\\bf z} = {\\bf x} - {\\bf y}$.  The [law of cosines](https://en.wikipedia.org/wiki/Law_of_cosines) says that  \n",
    "$$\\|{\\bf z}\\|^2  = \\|{\\bf x}\\|^2 + \\|{\\bf y}\\|^2 - 2\\|{\\bf x}\\|\\|{\\bf y}\\|\\cos\\theta.$$  \n",
    "Use the law of cosines to find $\\theta$."
   ]
  },
  {
   "cell_type": "code",
   "execution_count": null,
   "metadata": {},
   "outputs": [],
   "source": [
    "### your answer here"
   ]
  },
  {
   "cell_type": "markdown",
   "metadata": {},
   "source": [
    "##### Exercise 5\n",
    "Let  \n",
    "```python\n",
    "data = np.array([[20, 10], \n",
    "                 [16, 1], \n",
    "                 [16, 2], \n",
    "                 [14, 10], \n",
    "                 [13, 5]])\n",
    "```\n",
    "where the first colume is the temperature T and the second column is the wind speed V.  \n",
    "Suppose the apparent temperature is `AT = 1.04*T - 0.65*V` .  \n",
    "Generate a boolean array that indicate whether each sample has `AT > 15` or not."
   ]
  },
  {
   "cell_type": "code",
   "execution_count": null,
   "metadata": {},
   "outputs": [],
   "source": [
    "### your answer here"
   ]
  },
  {
   "cell_type": "markdown",
   "metadata": {},
   "source": [
    "##### Exercise 6\n",
    "Let `X = make_blobs(k=2)` .  \n",
    "Note that `X` has shape `(150,2)` ."
   ]
  },
  {
   "cell_type": "markdown",
   "metadata": {},
   "source": [
    "###### 6(a)\n",
    "Consider each row in `X` as a point.  \n",
    "Use the code below to plot them.  \n",
    "```python\n",
    "%matplotlib inline\n",
    "plt.axis('equal')\n",
    "plt.scatter(X[:,0], X[:,1])\n",
    "```"
   ]
  },
  {
   "cell_type": "code",
   "execution_count": null,
   "metadata": {},
   "outputs": [],
   "source": [
    "### your answer here"
   ]
  },
  {
   "cell_type": "markdown",
   "metadata": {},
   "source": [
    "###### 6(b)\n",
    "Based on your drawing, do you think there is a affine plane that can separate the two blobs?  \n",
    "If no, run `X = make_blobs(k=2)` again.  \n",
    "If yes, find a normal vector `r = np.array([?, ?])` and a bias `b` so that the affine plane $\\langle{\\bf r}, {\\bf x}\\rangle = b$ separates the two blobs.  \n",
    "Use `clr = np.sign(np.dot(X, r) - b)` to color the points."
   ]
  },
  {
   "cell_type": "code",
   "execution_count": null,
   "metadata": {},
   "outputs": [],
   "source": [
    "### your answer here"
   ]
  }
 ],
 "metadata": {
  "kernelspec": {
   "display_name": "Python 3",
   "language": "python",
   "name": "python3"
  },
  "language_info": {
   "codemirror_mode": {
    "name": "ipython",
    "version": 3
   },
   "file_extension": ".py",
   "mimetype": "text/x-python",
   "name": "python",
   "nbconvert_exporter": "python",
   "pygments_lexer": "ipython3",
   "version": "3.9.2"
  }
 },
 "nbformat": 4,
 "nbformat_minor": 4
}
