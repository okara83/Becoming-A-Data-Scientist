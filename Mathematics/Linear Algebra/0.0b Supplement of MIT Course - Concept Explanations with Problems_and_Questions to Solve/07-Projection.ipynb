{
 "cells": [
  {
   "cell_type": "markdown",
   "metadata": {},
   "source": [
    "# Projection"
   ]
  },
  {
   "cell_type": "markdown",
   "metadata": {},
   "source": [
    "![Creative Commons License](https://i.creativecommons.org/l/by/4.0/88x31.png)  \n",
    "This work by Jephian Lin is licensed under a [Creative Commons Attribution 4.0 International License](http://creativecommons.org/licenses/by/4.0/)."
   ]
  },
  {
   "cell_type": "code",
   "execution_count": null,
   "metadata": {},
   "outputs": [],
   "source": [
    "import numpy as np\n",
    "import matplotlib.pyplot as plt\n",
    "from mpl_toolkits import mplot3d"
   ]
  },
  {
   "cell_type": "markdown",
   "metadata": {},
   "source": [
    "## Main idea"
   ]
  },
  {
   "cell_type": "markdown",
   "metadata": {},
   "source": [
    "The **projection** of a vector ${\\bf b}$ onto the column space of $A$ is  \n",
    "$$A(A^\\top A)^{-1}A^\\top {\\bf b}.$$"
   ]
  },
  {
   "cell_type": "markdown",
   "metadata": {},
   "source": [
    "## Side stories"
   ]
  },
  {
   "cell_type": "markdown",
   "metadata": {},
   "source": [
    "- nearest solution\n",
    "- shortest solution\n",
    "- regression"
   ]
  },
  {
   "cell_type": "markdown",
   "metadata": {},
   "source": [
    "## Experiments"
   ]
  },
  {
   "cell_type": "markdown",
   "metadata": {},
   "source": [
    "###### Exercise 1\n",
    "Let  \n",
    "```python\n",
    "A = np.array([[1,1], \n",
    "              [-1,0], \n",
    "              [0,-1]])\n",
    "b = np.array([1,0,0])\n",
    "```"
   ]
  },
  {
   "cell_type": "markdown",
   "metadata": {},
   "source": [
    "###### 1(a)\n",
    "Find the projection of ${\\bf b}$ onto the column space of $A$.  \n",
    "Compare your answer to L3Q5."
   ]
  },
  {
   "cell_type": "code",
   "execution_count": null,
   "metadata": {},
   "outputs": [],
   "source": [
    "### your answer here"
   ]
  },
  {
   "cell_type": "markdown",
   "metadata": {},
   "source": [
    "###### 1(b)\n",
    "Draw the grid using the columns of $A$.  \n",
    "Draw a vector in blue for ${\\bf b}$.  \n",
    "Draw a vector in red for its projection.  \n",
    "Does the red vector lies on the grid?  \n",
    "Draw a vector in green from the head of the red vector to the head of the blue vector.  \n",
    "Is the green vector orthogonal to the grid?  "
   ]
  },
  {
   "cell_type": "code",
   "execution_count": null,
   "metadata": {},
   "outputs": [],
   "source": [
    "### your answer here"
   ]
  },
  {
   "cell_type": "markdown",
   "metadata": {},
   "source": [
    "###### 1(c)\n",
    "It looks like the equation $A{\\bf x} = {\\bf b}$ is inconsistent (and has no solution).  \n",
    "Find ${\\bf x}$ such that $\\|A{\\bf x} - {\\bf b}\\|$ is minimized."
   ]
  },
  {
   "cell_type": "code",
   "execution_count": null,
   "metadata": {},
   "outputs": [],
   "source": [
    "### your answer here"
   ]
  },
  {
   "cell_type": "markdown",
   "metadata": {},
   "source": [
    "## Exercises"
   ]
  },
  {
   "cell_type": "markdown",
   "metadata": {},
   "source": [
    "###### Exercise 2\n",
    "Let  \n",
    "```python\n",
    "x = np.array([1,2,3])\n",
    "y = np.array([1.1,1.9,3.1])\n",
    "A = np.vstack([np.ones_like(x), x]).T\n",
    "```"
   ]
  },
  {
   "cell_type": "markdown",
   "metadata": {},
   "source": [
    "###### 2(a)\n",
    "Find ${\\bf c}$ such that $\\|A{\\bf c} - {\\bf y}\\|$ is minimized."
   ]
  },
  {
   "cell_type": "code",
   "execution_count": null,
   "metadata": {},
   "outputs": [],
   "source": [
    "### your answer here"
   ]
  },
  {
   "cell_type": "markdown",
   "metadata": {},
   "source": [
    "###### 2(b)\n",
    "Let $f(x) = 1.5 + 0.5 x$.  \n",
    "Find a vector ${\\bf v}\\in\\mathbb{R}^2$ such that \n",
    "$$A{\\bf c} = \\begin{bmatrix} f(1) \\\\ f(2) \\\\ f(3) \\end{bmatrix}.$$"
   ]
  },
  {
   "cell_type": "code",
   "execution_count": null,
   "metadata": {},
   "outputs": [],
   "source": [
    "### your answer here"
   ]
  },
  {
   "cell_type": "markdown",
   "metadata": {},
   "source": [
    "###### 2(c)\n",
    "Let $f(x) = c_0 + c_1x$.  \n",
    "Find the coefficients $c_0$ and $c_1$ such that  \n",
    "$$\\sum_{i=0}^2 (f(x_i) - y_i)^2$$\n",
    "is minimized."
   ]
  },
  {
   "cell_type": "code",
   "execution_count": null,
   "metadata": {},
   "outputs": [],
   "source": [
    "### your answer here"
   ]
  },
  {
   "cell_type": "markdown",
   "metadata": {},
   "source": [
    "###### 2(d)\n",
    "Plot the points $(x_i,y_i)$ in blue.  \n",
    "Plot the points $(x_i,f(x_i))$ in red, where $f(x)$ is the one you found in 2(c).  "
   ]
  },
  {
   "cell_type": "code",
   "execution_count": null,
   "metadata": {},
   "outputs": [],
   "source": [
    "### your answer here"
   ]
  },
  {
   "cell_type": "markdown",
   "metadata": {},
   "source": [
    "###### Exercise 3\n",
    "Let  \n",
    "```python\n",
    "x = np.array([1,2,3,4,5])\n",
    "y = np.array([2.7,4.8,7.5,10,13.1])\n",
    "A = np.vstack([np.ones_like(x), x, x**2]).T\n",
    "```"
   ]
  },
  {
   "cell_type": "markdown",
   "metadata": {},
   "source": [
    "###### 3(a)\n",
    "Find ${\\bf c}$ such that $\\|A{\\bf c} - {\\bf y}\\|$ is minimized."
   ]
  },
  {
   "cell_type": "code",
   "execution_count": null,
   "metadata": {},
   "outputs": [],
   "source": [
    "### your answer here"
   ]
  },
  {
   "cell_type": "markdown",
   "metadata": {},
   "source": [
    "###### 3(b)\n",
    "Let $f(x) = 0.5 + 2 x + 0.1x^2$.  \n",
    "Find a vector ${\\bf v}\\in\\mathbb{R}^3$ such that \n",
    "$$A{\\bf c} = \\begin{bmatrix} f(1) \\\\ f(2) \\\\ f(3) \\\\ f(4) \\\\ f(5) \\end{bmatrix}.$$"
   ]
  },
  {
   "cell_type": "code",
   "execution_count": null,
   "metadata": {},
   "outputs": [],
   "source": [
    "### your answer here"
   ]
  },
  {
   "cell_type": "markdown",
   "metadata": {},
   "source": [
    "###### 3(c)\n",
    "Let $f(x) = c_0 + c_1x + c_2x^2$.  \n",
    "Find the coefficients $c_0,c_1,c_2$ such that  \n",
    "$$\\sum_{i=0}^2 (f(x_i) - y_i)^2$$\n",
    "is minimized."
   ]
  },
  {
   "cell_type": "code",
   "execution_count": null,
   "metadata": {},
   "outputs": [],
   "source": [
    "### your answer here"
   ]
  },
  {
   "cell_type": "markdown",
   "metadata": {},
   "source": [
    "###### 3(d)\n",
    "Plot the points $(x_i,y_i)$ in blue.  \n",
    "Plot the points $(x_i,f(x_i))$ in red, where $f(x)$ is the one you found in 3(c).  "
   ]
  },
  {
   "cell_type": "code",
   "execution_count": null,
   "metadata": {},
   "outputs": [],
   "source": [
    "### your answer here"
   ]
  },
  {
   "cell_type": "markdown",
   "metadata": {},
   "source": [
    "##### Exercise 4\n",
    "Let  \n",
    "```python\n",
    "u = np.array([1,1])\n",
    "```"
   ]
  },
  {
   "cell_type": "markdown",
   "metadata": {},
   "source": [
    "###### 4(a)\n",
    "Find the projection matrix $P$ such that $P{\\bf x}$ is the projection of ${\\bf x}$ onto the line spanned by ${\\bf u}$.  \n",
    "Can you find a formula of $P$ by ${\\bf u}$?"
   ]
  },
  {
   "cell_type": "code",
   "execution_count": null,
   "metadata": {},
   "outputs": [],
   "source": [
    "### your answer here"
   ]
  },
  {
   "cell_type": "markdown",
   "metadata": {},
   "source": [
    "###### 4(b)\n",
    "Let  \n",
    "```python\n",
    "u_hat = u / np.linalg.norm(u)\n",
    "```\n",
    "be a vector of length 1.  \n",
    "Check if the $P$ for $\\hat{\\bf u}$ is the same as the $P$ for ${\\bf u}$.  \n",
    "Can you find a formula of $P$ by $\\hat{\\bf u}$?"
   ]
  },
  {
   "cell_type": "code",
   "execution_count": null,
   "metadata": {},
   "outputs": [],
   "source": [
    "### your answer here"
   ]
  },
  {
   "cell_type": "markdown",
   "metadata": {},
   "source": [
    "#### Remark\n",
    "Think about the reasons behind the main idea.  \n",
    "1. One may write ${\\bf b} = {\\bf p} + {\\bf h}$ such that ${\\bf p}\\in\\operatorname{Col}(A)$ and ${\\bf h}\\perp\\operatorname{Col}(A)$.  This means the following:  \n",
    "    - ${\\bf p} = A{\\bf x}$ for some ${\\bf x}$\n",
    "    - $A^\\top {\\bf h} = {\\bf 0}$\n",
    "2. Then $A^\\top {\\bf b} = A^\\top{\\bf p} = A^\\top A{\\bf x}$ for some ${\\bf x}$.\n",
    "3. $(A^\\top A)^{-1}A^\\top{\\bf b} = {\\bf x}$\n",
    "4. $A(A^\\top A)^{-1}A^\\top{\\bf b} = A{\\bf x} = {\\bf p}$ is the projection."
   ]
  }
 ],
 "metadata": {
  "kernelspec": {
   "display_name": "Python 3",
   "language": "python",
   "name": "python3"
  },
  "language_info": {
   "codemirror_mode": {
    "name": "ipython",
    "version": 3
   },
   "file_extension": ".py",
   "mimetype": "text/x-python",
   "name": "python",
   "nbconvert_exporter": "python",
   "pygments_lexer": "ipython3",
   "version": "3.9.1"
  }
 },
 "nbformat": 4,
 "nbformat_minor": 4
}
