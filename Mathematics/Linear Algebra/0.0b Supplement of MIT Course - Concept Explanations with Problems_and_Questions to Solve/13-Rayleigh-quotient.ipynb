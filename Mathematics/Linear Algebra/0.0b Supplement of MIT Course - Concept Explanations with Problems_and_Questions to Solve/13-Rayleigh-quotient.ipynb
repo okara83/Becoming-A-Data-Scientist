{
 "cells": [
  {
   "cell_type": "markdown",
   "metadata": {},
   "source": [
    "# Rayleigh quotient"
   ]
  },
  {
   "cell_type": "markdown",
   "metadata": {},
   "source": [
    "![Creative Commons License](https://i.creativecommons.org/l/by/4.0/88x31.png)  \n",
    "This work by Jephian Lin is licensed under a [Creative Commons Attribution 4.0 International License](http://creativecommons.org/licenses/by/4.0/)."
   ]
  },
  {
   "cell_type": "code",
   "execution_count": null,
   "metadata": {},
   "outputs": [],
   "source": [
    "import numpy as np\n",
    "import matplotlib.pyplot as plt\n",
    "from scipy import linalg as LA"
   ]
  },
  {
   "cell_type": "markdown",
   "metadata": {},
   "source": [
    "## Main idea"
   ]
  },
  {
   "cell_type": "markdown",
   "metadata": {},
   "source": [
    "Suppose a symmetric matrix $A$ has eigenvalues  \n",
    "$$\\lambda_0\\leq \\cdots \\leq\\lambda_{n-1}.$$\n",
    "Then  \n",
    "$$\\max_{{\\bf x}\\neq {\\bf 0}}\\frac{{\\bf x}^\\top A{\\bf x}}{{\\bf x}^\\top {\\bf x}} = \\max_{\\|{\\bf x}\\| = 1} {\\bf x}^\\top A{\\bf x} = \\lambda_{n-1}$$\n",
    "and \n",
    "$$\\min_{{\\bf x}\\neq {\\bf 0}}\\frac{{\\bf x}^\\top A{\\bf x}}{{\\bf x}^\\top {\\bf x}} = \\min_{\\|{\\bf x}\\| = 1} {\\bf x}^\\top A{\\bf x} = \\lambda_{0}.$$\n",
    "The vector ${\\bf x}$ that achieve the maximum or the minimum is an eigenvector."
   ]
  },
  {
   "cell_type": "markdown",
   "metadata": {},
   "source": [
    "Moreover, if ${\\bf u}_0,\\ldots,{\\bf u}_{n-1}$ form an eigenbasis with respect to the eigenvalues $\\lambda_0,\\ldots,\\lambda_{n-1}$, then  \n",
    "$$\\max_{\\substack{{\\bf x}\\neq {\\bf 0}\\\\{\\bf x}\\perp U_k}}\\frac{{\\bf x}^\\top A{\\bf x}}{{\\bf x}^\\top {\\bf x}} = \\max_{\\substack{\\|{\\bf x}\\| = 1\\\\{\\bf x}\\perp U_k}} {\\bf x}^\\top A{\\bf x} = \\lambda_{k+1}$$\n",
    "and \n",
    "$$\\min_{\\substack{{\\bf x}\\neq {\\bf 0}\\\\{\\bf x}\\perp L_k}}\\frac{{\\bf x}^\\top A{\\bf x}}{{\\bf x}^\\top {\\bf x}} = \\min_{\\substack{\\|{\\bf x}\\| = 1\\\\{\\bf x}\\perp L_k}} {\\bf x}^\\top A{\\bf x} = \\lambda_{k-1},$$\n",
    "where $L_k = \\operatorname{span}(\\{{\\bf u}_0,\\ldots,{\\bf u}_k\\})$ and $U_k = \\operatorname{span}(\\{{\\bf u}_k,\\ldots,{\\bf u}_{n-1}\\})$."
   ]
  },
  {
   "cell_type": "markdown",
   "metadata": {},
   "source": [
    "## Side stories"
   ]
  },
  {
   "cell_type": "markdown",
   "metadata": {},
   "source": [
    "- Covariance matrix\n",
    "- Laplacian matrix and its Rayleigh quotient"
   ]
  },
  {
   "cell_type": "markdown",
   "metadata": {},
   "source": [
    "## Experiments"
   ]
  },
  {
   "cell_type": "markdown",
   "metadata": {},
   "source": [
    "###### Exercise 1\n",
    "Let  \n",
    "```python\n",
    "A = np.ones((3,3))\n",
    "vs = np.random.randn(3,100)\n",
    "vs = vs / np.linalg.norm(vs, axis=0)\n",
    "```"
   ]
  },
  {
   "cell_type": "markdown",
   "metadata": {},
   "source": [
    "###### 1(a)\n",
    "Generate an array of ${\\bf x}^\\top A{\\bf x}$, where ${\\bf x}$ runs through the columns of `vs` .  \n",
    "Find the minimum and the maximum.  \n",
    "Compare them to the smallest and the largest eigenvalues of $A$."
   ]
  },
  {
   "cell_type": "code",
   "execution_count": null,
   "metadata": {},
   "outputs": [],
   "source": [
    "### your answer here"
   ]
  },
  {
   "cell_type": "markdown",
   "metadata": {},
   "source": [
    "###### 1(b)\n",
    "It is known that \n",
    "```python\n",
    "u2 = np.array([1,1,1])\n",
    "```\n",
    "is the eigenvector for the largest eigenvalue $\\lambda_2 = 3$.  \n",
    "Generate 10000 random points of length 1 in $\\mathbb{R}^3$.  \n",
    "Select those that are (almost) perpendicular to `u2` .  \n",
    "Calculate the maximum of ${\\bf x}^\\top A{\\bf x}$ over these points ${\\bf x}$."
   ]
  },
  {
   "cell_type": "code",
   "execution_count": null,
   "metadata": {},
   "outputs": [],
   "source": [
    "### your answer here"
   ]
  },
  {
   "cell_type": "markdown",
   "metadata": {},
   "source": [
    "## Exercises"
   ]
  },
  {
   "cell_type": "markdown",
   "metadata": {},
   "source": [
    "###### Exercise 2\n",
    "Let  \n",
    "```python\n",
    "mu = np.array([0,0])\n",
    "cov = np.array([[1.1,1],\n",
    "                [1,1.1]])\n",
    "vs = np.random.multivariate_normal(mu, cov, 100)\n",
    "```"
   ]
  },
  {
   "cell_type": "markdown",
   "metadata": {},
   "source": [
    "###### 2(a)\n",
    "Plot the points (rows) in `vs` ."
   ]
  },
  {
   "cell_type": "code",
   "execution_count": null,
   "metadata": {},
   "outputs": [],
   "source": [
    "### your answer here"
   ]
  },
  {
   "cell_type": "markdown",
   "metadata": {},
   "source": [
    "###### 2(b)\n",
    "Find the center of mass over the points in `vs` .  \n",
    "Shift the points in `vs` so that the center is at the origin.  "
   ]
  },
  {
   "cell_type": "code",
   "execution_count": null,
   "metadata": {},
   "outputs": [],
   "source": [
    "### your answer here"
   ]
  },
  {
   "cell_type": "markdown",
   "metadata": {},
   "source": [
    "###### 2(c)\n",
    "Suppose $X$ is a $N\\times d$ data matrix whose rows are samples and columns are features.  \n",
    "If the rows are centered at the origin, then $\\frac{1}{N}X^\\top X$ is called the **covariance matrix** between the features.\n",
    "\n",
    "Thinking of `vs` as a data matrix whose rows are centered at the origin, find the covariance matrix `C` ."
   ]
  },
  {
   "cell_type": "code",
   "execution_count": null,
   "metadata": {},
   "outputs": [],
   "source": [
    "### your answer here"
   ]
  },
  {
   "cell_type": "markdown",
   "metadata": {},
   "source": [
    "###### 2(d)\n",
    "Let $C$ be the covariance matrix found in 2(c).  \n",
    "Generate 100 vectors of length 1 in $\\mathbb{R}^2$.  \n",
    "Find the smallest Rayleigh quotient of $C$ and the vector ${\\bf u}_0$ that achieve it.  \n",
    "Find the largest Rayleigh quotient of $C$ and the vector ${\\bf u}_1$ that achieve it.   "
   ]
  },
  {
   "cell_type": "code",
   "execution_count": null,
   "metadata": {},
   "outputs": [],
   "source": [
    "### your answer here"
   ]
  },
  {
   "cell_type": "markdown",
   "metadata": {},
   "source": [
    "###### 2(e)\n",
    "Plot the points in the shifted `vs` .  \n",
    "Draw the vectors ${\\bf u}_0$ and ${\\bf u}_1$."
   ]
  },
  {
   "cell_type": "code",
   "execution_count": null,
   "metadata": {},
   "outputs": [],
   "source": [
    "### your answer here"
   ]
  },
  {
   "cell_type": "markdown",
   "metadata": {},
   "source": [
    "###### Exercise 3\n",
    "Let  \n",
    "```python\n",
    "A = np.array([[0,1,0,0,0],\n",
    "              [1,0,1,0,0],\n",
    "              [0,1,0,1,0],\n",
    "              [0,0,1,0,1],\n",
    "              [0,0,0,1,0]])\n",
    "vals,vecs = LA.eigh(A)\n",
    "```\n",
    "Let $\\lambda_0,\\ldots,\\lambda_4$ be the values in `vals` .  \n",
    "Let $\\beta = \\{{\\bf u}_0,\\ldots, {\\bf u}_4\\}$ be the column vectors in `vecs` ."
   ]
  },
  {
   "cell_type": "markdown",
   "metadata": {},
   "source": [
    "###### 3(a)\n",
    "Pick a random vector ${\\bf x}$ of length 1 in $\\mathbb{R}^5$.  \n",
    "Compute ${\\bf c} = [{\\bf x}]_\\beta = (c_0,\\ldots, c_4)^\\top$.  "
   ]
  },
  {
   "cell_type": "code",
   "execution_count": null,
   "metadata": {},
   "outputs": [],
   "source": [
    "### your answer here"
   ]
  },
  {
   "cell_type": "markdown",
   "metadata": {},
   "source": [
    "###### 3(b)\n",
    "Check that $\\|{\\bf x}\\|^2 = c_0^2 + \\cdots + c_4^2$.  \n",
    "Therefore, the condition $\\|{\\bf x}\\| = 1$ is equivalent to $c_0^2 + \\cdots + c_4^2 = 1$."
   ]
  },
  {
   "cell_type": "code",
   "execution_count": null,
   "metadata": {},
   "outputs": [],
   "source": [
    "### your answer here"
   ]
  },
  {
   "cell_type": "markdown",
   "metadata": {},
   "source": [
    "###### 3(c)\n",
    "Check that  \n",
    "$A{\\bf x} = c_0\\lambda_0{\\bf u}_0 + \\cdots + c_4\\lambda_4{\\bf u}_4$ and  \n",
    "${\\bf x}^\\top A{\\bf x} = c_0^2\\lambda_0 + \\cdots c_4^2\\lambda_4$.  \n",
    "Therefore, under the condition that $c_0^2 + \\cdots + c_4^2 = 1$, the extrema of ${\\bf x}^\\top A{\\bf x}$ are $\\lambda_0$ and $\\lambda_4$."
   ]
  },
  {
   "cell_type": "code",
   "execution_count": null,
   "metadata": {},
   "outputs": [],
   "source": [
    "### your answer here"
   ]
  },
  {
   "cell_type": "markdown",
   "metadata": {},
   "source": [
    "###### Exercise 4\n",
    "Let  \n",
    "```python\n",
    "A = np.array([[1,-1,0,0,0],\n",
    "              [-1,2,-1,0,0],\n",
    "              [0,-1,2,-1,0],\n",
    "              [0,0,-1,2,-1],\n",
    "              [0,0,0,-1,1]])\n",
    "```"
   ]
  },
  {
   "cell_type": "markdown",
   "metadata": {},
   "source": [
    "###### 4(a)\n",
    "Pick a random vector ${\\bf x} = (x_0,x_1,x_2,x_3,x_4)^\\top$.  \n",
    "Check that \n",
    "$${\\bf x}^\\top A{\\bf x} = \\sum_{\\substack{i<j \\\\ (A)_{ij} = -1}}(x_i - x_j)^2.$$  \n",
    "For convenience, we call this value as $R({\\bf x})$."
   ]
  },
  {
   "cell_type": "code",
   "execution_count": null,
   "metadata": {},
   "outputs": [],
   "source": [
    "### your answer here"
   ]
  },
  {
   "cell_type": "markdown",
   "metadata": {},
   "source": [
    "###### 4(b)\n",
    "Pick 1000000 random vector ${\\bf x}$ of length 1 in $\\mathbb{R}^5$.  \n",
    "Find the one ${\\bf u}_0$ that achieve the minimum $R({\\bf x})$.  \n",
    "Can you guess the correct ${\\bf u}_0$ by the identity in 4(a)?"
   ]
  },
  {
   "cell_type": "code",
   "execution_count": null,
   "metadata": {},
   "outputs": [],
   "source": [
    "### your answer here"
   ]
  }
 ],
 "metadata": {
  "kernelspec": {
   "display_name": "Python 3",
   "language": "python",
   "name": "python3"
  },
  "language_info": {
   "codemirror_mode": {
    "name": "ipython",
    "version": 3
   },
   "file_extension": ".py",
   "mimetype": "text/x-python",
   "name": "python",
   "nbconvert_exporter": "python",
   "pygments_lexer": "ipython3",
   "version": "3.9.2"
  }
 },
 "nbformat": 4,
 "nbformat_minor": 4
}
