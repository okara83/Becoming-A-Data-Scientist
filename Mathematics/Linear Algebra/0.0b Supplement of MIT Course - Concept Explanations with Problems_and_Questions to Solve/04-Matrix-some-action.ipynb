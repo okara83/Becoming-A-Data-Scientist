{
 "cells": [
  {
   "cell_type": "markdown",
   "metadata": {},
   "source": [
    "# Matrix = some action"
   ]
  },
  {
   "cell_type": "markdown",
   "metadata": {},
   "source": [
    "![Creative Commons License](https://i.creativecommons.org/l/by/4.0/88x31.png)  \n",
    "This work by Jephian Lin is licensed under a [Creative Commons Attribution 4.0 International License](http://creativecommons.org/licenses/by/4.0/)."
   ]
  },
  {
   "cell_type": "code",
   "execution_count": null,
   "metadata": {},
   "outputs": [],
   "source": [
    "import numpy as np\n",
    "import matplotlib.pyplot as plt"
   ]
  },
  {
   "cell_type": "markdown",
   "metadata": {},
   "source": [
    "## Main idea"
   ]
  },
  {
   "cell_type": "markdown",
   "metadata": {},
   "source": [
    "Let $A$ be a matrix, ${\\bf x}$, ${\\bf y}$ some vectors, and $k$ a number.  Then\n",
    "$$A({\\bf x} + {\\bf y}) = A{\\bf x} + A{\\bf y}$$  \n",
    "and  \n",
    "$$A(k{\\bf x}) = k(A{\\bf x}).$$ \n",
    "A function that satisfies the two equalities above is said to be **linear**.\n",
    "\n",
    "Every linear function $f:\\mathbb{R}^n\\rightarrow\\mathbb{R}^m$ has a $m\\times n$ matrix $A$ such that  \n",
    "$$f({\\bf x}) = A{\\bf x}$$\n",
    "for all ${\\bf x}\\in\\mathbb{R}^n$.  "
   ]
  },
  {
   "cell_type": "markdown",
   "metadata": {},
   "source": [
    "## Side stories"
   ]
  },
  {
   "cell_type": "markdown",
   "metadata": {},
   "source": [
    "- matrix representation"
   ]
  },
  {
   "cell_type": "markdown",
   "metadata": {},
   "source": [
    "## Experiments"
   ]
  },
  {
   "cell_type": "markdown",
   "metadata": {},
   "source": [
    "##### Exercise 1\n",
    "Pick a random matrix $A$, two random vectors ${\\bf x}$, ${\\bf y}$, and a random number $k$.  \n",
    "Verify the equalities \n",
    "$A({\\bf x} + {\\bf y}) = A{\\bf x} + A{\\bf y}$ and $A(k{\\bf x}) = k(A{\\bf x})$.  \n",
    "You might need to focus on integer matrices and or use the function `np.isclose` . "
   ]
  },
  {
   "cell_type": "code",
   "execution_count": null,
   "metadata": {},
   "outputs": [],
   "source": [
    "### your answer here"
   ]
  },
  {
   "cell_type": "markdown",
   "metadata": {},
   "source": [
    "##### Exercise 2\n",
    "It is known that the rotation matrix \n",
    "$$R_\\theta = \\begin{bmatrix} \n",
    " \\cos\\theta & -\\sin\\theta \\\\\n",
    " \\sin\\theta & \\cos\\theta\n",
    "\\end{bmatrix}$$\n",
    "satisfies that $R_\\theta{\\bf x}$ is the vector obtained from ${\\bf x}$ by rotating counterclockwiely with angle $\\theta$.  \n",
    "Let $\\theta_1 = \\frac{1}{6}\\pi$ and $\\theta_2 = \\frac{2}{6}\\pi$.  \n",
    "Guess what is $R_{\\theta_2}R_{\\theta_1}$ and verify your answer.  \n",
    "```python\n",
    "def rotate(theta):\n",
    "    return np.array([[np.cos(theta), -np.sin(theta)], \n",
    "                    [np.sin(theta), np.cos(theta)]])\n",
    "```"
   ]
  },
  {
   "cell_type": "code",
   "execution_count": null,
   "metadata": {},
   "outputs": [],
   "source": [
    "### your answer here"
   ]
  },
  {
   "cell_type": "markdown",
   "metadata": {},
   "source": [
    "##### Exercise 3\n",
    "It is known that \n",
    "```python\n",
    "A = (1/3)*np.ones((3,3))\n",
    "```\n",
    "is a projection matrix such that $A{\\bf x}$ is the projection of ${\\bf x}$ onto the line $\\operatorname{span}(\\{(1,1,1)^\\top\\})$.  \n",
    "Guess what is  `A.dot(A)` and verify your answer."
   ]
  },
  {
   "cell_type": "code",
   "execution_count": null,
   "metadata": {},
   "outputs": [],
   "source": [
    "### your answer here"
   ]
  },
  {
   "cell_type": "markdown",
   "metadata": {},
   "source": [
    "## Exercises"
   ]
  },
  {
   "cell_type": "markdown",
   "metadata": {},
   "source": [
    "##### Exercise 4\n",
    "Let  \n",
    "```python\n",
    "x = np.linspace(0,np.pi,20)\n",
    "y = np.sin(x)\n",
    "```\n",
    "Generate the generate the following picture.\n",
    "![sin spiral](sinspiral.png \"sin spiral\")"
   ]
  },
  {
   "cell_type": "code",
   "execution_count": null,
   "metadata": {},
   "outputs": [],
   "source": [
    "### your answer here"
   ]
  },
  {
   "cell_type": "markdown",
   "metadata": {},
   "source": [
    "##### Exercise 5\n",
    "Let  \n",
    "```python\n",
    "def f(arr):\n",
    "    x,y,z = arr\n",
    "    return np.array([y,z,x])\n",
    "```"
   ]
  },
  {
   "cell_type": "markdown",
   "metadata": {},
   "source": [
    "###### 5(a)\n",
    "Check if $f({\\bf x} + {\\bf y}) = f({\\bf x}) + f({\\bf y})$ and $f(k{\\bf x}) = kf({\\bf x})$ for some random vectors ${\\bf x}, {\\bf y}$ and some random value $k$."
   ]
  },
  {
   "cell_type": "code",
   "execution_count": null,
   "metadata": {},
   "outputs": [],
   "source": [
    "### your answer here"
   ]
  },
  {
   "cell_type": "markdown",
   "metadata": {},
   "source": [
    "###### 5(b)\n",
    "As promised, there is a $3\\times 3$ matrix $A$ such that $f({\\bf x}) = A{\\bf x}$.  \n",
    "Can you guess what is $A$?  \n",
    "Hint: What does `f(np.array([1,0,0]))` mean?"
   ]
  },
  {
   "cell_type": "code",
   "execution_count": null,
   "metadata": {},
   "outputs": [],
   "source": [
    "### your answer here"
   ]
  },
  {
   "cell_type": "markdown",
   "metadata": {},
   "source": [
    "##### Exercise 6\n",
    "Let  \n",
    "$${\\bf u}_\\theta = \\begin{bmatrix} \\cos\\theta \\\\ \\sin\\theta \\end{bmatrix}$$  \n",
    "and $L = \\operatorname{span}(\\{{\\bf u}_\\theta\\})$.  \n",
    "It is not hard to see that the projection of ${\\bf x}$ onto $L$ is $\\langle {\\bf x}, {\\bf u}_\\theta\\rangle{\\bf u}_\\theta$."
   ]
  },
  {
   "cell_type": "markdown",
   "metadata": {},
   "source": [
    "###### 6(a)\n",
    "Let $\\theta = \\frac{1}{4}\\pi$ and\n",
    "```python\n",
    "def proj(x, theta=np.pi/4):\n",
    "    u = np.array([np.cos(theta), np.sin(theta)])\n",
    "    return x.dot(u) * u\n",
    "```\n",
    "Find a matrix $A$ such that `proj(x)` $= A{\\bf x}$."
   ]
  },
  {
   "cell_type": "code",
   "execution_count": null,
   "metadata": {},
   "outputs": [],
   "source": [
    "### your answer here"
   ]
  },
  {
   "cell_type": "markdown",
   "metadata": {},
   "source": [
    "###### 6(b)\n",
    "Write a function `proj_mtx(theta)` that returns the projection matrix of the projection onto ${\\bf u}_\\theta$."
   ]
  },
  {
   "cell_type": "code",
   "execution_count": null,
   "metadata": {},
   "outputs": [],
   "source": [
    "### your answer here"
   ]
  },
  {
   "cell_type": "markdown",
   "metadata": {},
   "source": [
    "###### 6(c)\n",
    "Some one-dimensional data will stay in a higher dimensional space with some noise.  \n",
    "For example, let  \n",
    "```python\n",
    "mu = np.array([0,1])\n",
    "cov = np.array([[1,1.9],\n",
    "                [1.9,4]])\n",
    "data = np.random.multivariate_normal(mu, cov, 100)\n",
    "```\n",
    "Plot the points (rows) in `data` .  \n",
    "Find a good `theta` so that `proj_mtx(theta).dot(data.T)` preserves most of the information in `data`."
   ]
  }
 ],
 "metadata": {
  "kernelspec": {
   "display_name": "Python 3",
   "language": "python",
   "name": "python3"
  },
  "language_info": {
   "codemirror_mode": {
    "name": "ipython",
    "version": 3
   },
   "file_extension": ".py",
   "mimetype": "text/x-python",
   "name": "python",
   "nbconvert_exporter": "python",
   "pygments_lexer": "ipython3",
   "version": "3.8.6"
  }
 },
 "nbformat": 4,
 "nbformat_minor": 4
}
