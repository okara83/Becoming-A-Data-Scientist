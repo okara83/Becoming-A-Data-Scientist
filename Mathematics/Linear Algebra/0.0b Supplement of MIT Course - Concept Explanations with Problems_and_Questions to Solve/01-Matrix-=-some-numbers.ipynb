{
 "cells": [
  {
   "cell_type": "markdown",
   "metadata": {},
   "source": [
    "# Matrix = some numbers"
   ]
  },
  {
   "cell_type": "markdown",
   "metadata": {},
   "source": [
    "![Creative Commons License](https://i.creativecommons.org/l/by/4.0/88x31.png)  \n",
    "This work by Jephian Lin is licensed under a [Creative Commons Attribution 4.0 International License](http://creativecommons.org/licenses/by/4.0/)."
   ]
  },
  {
   "cell_type": "code",
   "execution_count": null,
   "metadata": {},
   "outputs": [],
   "source": [
    "import numpy as np\n",
    "import matplotlib.pyplot as plt"
   ]
  },
  {
   "cell_type": "markdown",
   "metadata": {},
   "source": [
    "## Main idea"
   ]
  },
  {
   "cell_type": "markdown",
   "metadata": {},
   "source": [
    "Let  \n",
    "$$A = \\begin{bmatrix} \n",
    " a_{11} & a_{12} & \\cdots & a_{1n} \\\\\n",
    " \\vdots & \\vdots & ~ & \\vdots \\\\\n",
    " a_{m1} & a_{m2} & \\cdots & a_{mn}\n",
    "\\end{bmatrix}$$\n",
    "be an $m\\times n$ matrix.  Let  \n",
    "$${\\bf v} = \\begin{bmatrix}\n",
    " c_1 \\\\\n",
    " c_2 \\\\\n",
    " \\vdots \\\\\n",
    " c_n\n",
    "\\end{bmatrix}$$\n",
    "be a vector in $\\mathbb{R}^n$.  \n",
    "\n",
    "Then  \n",
    "$$(A{\\bf v})_i = \\sum_{j = 1}^n a_{ij}c_j.$$"
   ]
  },
  {
   "cell_type": "markdown",
   "metadata": {},
   "source": [
    "## Side stories"
   ]
  },
  {
   "cell_type": "markdown",
   "metadata": {},
   "source": [
    "- NumPy\n",
    "- weighted average\n",
    "- equations\n",
    "- polynomial coefficient --> polynomial evaluation"
   ]
  },
  {
   "cell_type": "markdown",
   "metadata": {},
   "source": [
    "## Experiments"
   ]
  },
  {
   "cell_type": "markdown",
   "metadata": {},
   "source": [
    "##### Exercise 1\n",
    "Consider the following table:  \n",
    "\n",
    " Mid1 | Mid2 | Final | HW1 | HW2 | HW3 | HW4 | HW5  \n",
    " ---  | ---  | ---   | --- | --- | --- | --- | ---  \n",
    " 30   | 40   | 50    | 2   | 6   | 14  | 14  | 6  \n",
    " 60   | 70   | 80    | 18  | 12  | 2   | 6   | 8  \n",
    " 46   | 61   | 70    | 2   | 6   | 14  | 14  | 6  \n",
    " \n",
    "```python\n",
    "a = np.array([\n",
    "    [30, 40, 50,  2,  6, 14, 14, 6],  \n",
    "    [60, 70, 80, 18, 12,  2,  6, 8],  \n",
    "    [46, 61, 70,  2,  6, 14, 14, 6]\n",
    "])\n",
    "```"
   ]
  },
  {
   "cell_type": "markdown",
   "metadata": {},
   "source": [
    "###### 1(a)\n",
    "Find a vector\n",
    "```python\n",
    "v = np.array([?, ? ,? ,? ,? ,? ,? ,?])\n",
    "```\n",
    "such that `np.dot(a, v)` outputs HW1 + ... + HW5 for each row."
   ]
  },
  {
   "cell_type": "code",
   "execution_count": null,
   "metadata": {},
   "outputs": [],
   "source": [
    "### your answer here"
   ]
  },
  {
   "cell_type": "markdown",
   "metadata": {},
   "source": [
    "###### 1(b)\n",
    "Find a vector\n",
    "```python\n",
    "v = np.array([?, ? ,? ,? ,? ,? ,? ,?])\n",
    "```\n",
    "such that `np.dot(a, v)` outputs the average of the three exams for each row."
   ]
  },
  {
   "cell_type": "code",
   "execution_count": null,
   "metadata": {},
   "outputs": [],
   "source": [
    "### your answer here"
   ]
  },
  {
   "cell_type": "markdown",
   "metadata": {},
   "source": [
    "###### 1(c)\n",
    "Find a vector\n",
    "```python\n",
    "v = np.array([?, ? ,? ,? ,? ,? ,? ,?])\n",
    "```\n",
    "such that `np.dot(a, v)` outputs the formula  \n",
    "`0.8 * (average of exams) + 0.2 * (sum of homework)`."
   ]
  },
  {
   "cell_type": "code",
   "execution_count": null,
   "metadata": {},
   "outputs": [],
   "source": [
    "### your answer here"
   ]
  },
  {
   "cell_type": "markdown",
   "metadata": {},
   "source": [
    "###### 1(d)\n",
    "Let `u` be the output of 1(c).  \n",
    "Try `u > 60` and guess the meaning."
   ]
  },
  {
   "cell_type": "code",
   "execution_count": null,
   "metadata": {},
   "outputs": [],
   "source": [
    "### your answer here"
   ]
  },
  {
   "cell_type": "markdown",
   "metadata": {},
   "source": [
    "## Exercises"
   ]
  },
  {
   "cell_type": "markdown",
   "metadata": {},
   "source": [
    "##### Exercise 2\n",
    "Let \n",
    "```python\n",
    "a = np.array([[ 1., 33.],\n",
    "              [ 1.,  7.],\n",
    "              [ 1., 89.],\n",
    "              [ 1., 90.],\n",
    "              [ 1., 22.]])\n",
    "```\n",
    "The first column is all-ones, while the second column is the degree in Celsius.  \n",
    "Find a vector `v` such that `np.dot(a, v)` outputs the corresponding temperature in Fahrenheit.  \n",
    "Note: `F = 32 + 1.8 * C`."
   ]
  },
  {
   "cell_type": "code",
   "execution_count": null,
   "metadata": {},
   "outputs": [],
   "source": [
    "### your answer here"
   ]
  },
  {
   "cell_type": "markdown",
   "metadata": {},
   "source": [
    "##### Exercise 3"
   ]
  },
  {
   "cell_type": "markdown",
   "metadata": {},
   "source": [
    "Let  \n",
    "```python\n",
    "a = np.array([[ 17, 241, 200],\n",
    "              [121, 111, 108],\n",
    "              [ 86, 213,  30],\n",
    "              [125,  91,  54],\n",
    "              [131,   2,  47]])\n",
    "```\n",
    "The three columns represent the R, G, B brightness of a pixel (each row).  \n",
    "Find a vector `v` such that `np.dot(a, v)` outputs the corresponding grayscale brightness.  \n",
    "Note: `Grayscale = 0.21*R + 0.72*G + 0.07*B`  \n",
    "(This is only an approximation.)"
   ]
  },
  {
   "cell_type": "code",
   "execution_count": null,
   "metadata": {},
   "outputs": [],
   "source": [
    "### your answer here"
   ]
  },
  {
   "cell_type": "markdown",
   "metadata": {},
   "source": [
    "##### Exercise 4\n",
    "Let \n",
    "```python\n",
    "a = np.array([[65., 83., 51.,  1.],\n",
    "              [89., 93., 16.,  1.],\n",
    "              [62., 34., 24.,  1.],\n",
    "              [70., 52., 22.,  1.],\n",
    "              [90., 50., 49.,  1.]])\n",
    "```\n",
    "The four columns represents the following.  \n",
    "`T: temperature in C`  \n",
    "`e: water vapour pressure in hPa (depending on pressure and temperature)`  \n",
    "`V: wind speed in m/s`  \n",
    "`1: a column of ones`.\n",
    "Find a vector `v` such that `np.dot(a, v)` outputs the corresponding apparent temperature.\n",
    "Note: `AT = 1.07*T + 0.2*e + 0.65*V - 2.7`."
   ]
  },
  {
   "cell_type": "code",
   "execution_count": null,
   "metadata": {},
   "outputs": [],
   "source": [
    "### your answer here"
   ]
  },
  {
   "cell_type": "markdown",
   "metadata": {},
   "source": [
    "##### Exercise 5\n",
    "Let  \n",
    "```python\n",
    "p = np.arange(4)\n",
    "x = np.arange(1,5)\n",
    "a = x[:,np.newaxis]**p\n",
    "b = np.array([4, 15, 40, 85])\n",
    "```\n",
    "Find a vector `v` such that `np.dot(a, v)` is `b`.\n",
    "\n",
    "Hint: Consider the system of linear equations  \n",
    "$x_0 + x_1 + x_2 + x_3 = 4$  \n",
    "$x_0 + 2x_1 + 4x_2 + 8x_3 = 15$  \n",
    "$x_0 + 3x_1 + 9x_2 + 27x_3 = 40$  \n",
    "$x_0 + 4x_1 + 16x_2 + 64x_3 = 85$"
   ]
  },
  {
   "cell_type": "code",
   "execution_count": null,
   "metadata": {},
   "outputs": [],
   "source": [
    "### your answer here"
   ]
  },
  {
   "cell_type": "markdown",
   "metadata": {},
   "source": [
    "##### Exercise 6\n",
    "Suppose $f(x) = c_0 + c_1x + c_2x^2 + c_3x^3$ is a polynomial such that  \n",
    "`f(1) = 4`  \n",
    "`f(2) = 15`  \n",
    "`f(3) = 40`  \n",
    "`f(4) = 85`.\n",
    "\n",
    "Find the vector `v` whose entries are $c_0,\\ldots,c_3$."
   ]
  },
  {
   "cell_type": "code",
   "execution_count": null,
   "metadata": {},
   "outputs": [],
   "source": [
    "### your answer here"
   ]
  },
  {
   "cell_type": "markdown",
   "metadata": {},
   "source": [
    "##### Exercise 7\n",
    "Convert an image to grayscale by the following steps."
   ]
  },
  {
   "cell_type": "markdown",
   "metadata": {},
   "source": [
    "###### 7(a)\n",
    "Use `img = plt.imread( ... )` to load the image `incrediville-side.jpg` (or the picture you like).  \n",
    "Print the shape of `img`."
   ]
  },
  {
   "cell_type": "code",
   "execution_count": null,
   "metadata": {},
   "outputs": [],
   "source": [
    "### your answer here"
   ]
  },
  {
   "cell_type": "markdown",
   "metadata": {},
   "source": [
    "###### 7(b)\n",
    "Use `pixels = img.reshape( ... )` to reshape `img` from `(h, w, 3)` to `(h*w, 3)` .  \n",
    "Print the shape of `pixels` ."
   ]
  },
  {
   "cell_type": "code",
   "execution_count": null,
   "metadata": {},
   "outputs": [],
   "source": [
    "### your answer here"
   ]
  },
  {
   "cell_type": "markdown",
   "metadata": {},
   "source": [
    "###### 7(c)\n",
    "Use matrix multiplication and the formula  \n",
    "`Grayscale = 0.21*R + 0.72*G + 0.07*B`  \n",
    "to create a vector `pixels_g` that consists of the grayscale brightness of each pixel."
   ]
  },
  {
   "cell_type": "code",
   "execution_count": null,
   "metadata": {},
   "outputs": [],
   "source": [
    "### your answer here"
   ]
  },
  {
   "cell_type": "markdown",
   "metadata": {},
   "source": [
    "###### 7(d)\n",
    "Reshape `pixels_g` back to `(h,w)` and name it as `img_g`.  "
   ]
  },
  {
   "cell_type": "code",
   "execution_count": null,
   "metadata": {},
   "outputs": [],
   "source": [
    "### your answer here"
   ]
  },
  {
   "cell_type": "markdown",
   "metadata": {},
   "source": [
    "###### 7(e)\n",
    "Use `plt.imshow( ... )` to show `img_g` .  \n",
    "Hint:  You might need to properly set `vmin`, `vmax`, and `cmap` .  \n",
    "(You may find a list of colormaps [here](https://matplotlib.org/3.1.1/gallery/color/colormap_reference.html).)"
   ]
  },
  {
   "cell_type": "code",
   "execution_count": null,
   "metadata": {},
   "outputs": [],
   "source": [
    "### your answer here"
   ]
  }
 ],
 "metadata": {
  "kernelspec": {
   "display_name": "Python 3 (ipykernel)",
   "language": "python",
   "name": "python3"
  },
  "language_info": {
   "codemirror_mode": {
    "name": "ipython",
    "version": 3
   },
   "file_extension": ".py",
   "mimetype": "text/x-python",
   "name": "python",
   "nbconvert_exporter": "python",
   "pygments_lexer": "ipython3",
   "version": "3.9.9"
  }
 },
 "nbformat": 4,
 "nbformat_minor": 4
}
