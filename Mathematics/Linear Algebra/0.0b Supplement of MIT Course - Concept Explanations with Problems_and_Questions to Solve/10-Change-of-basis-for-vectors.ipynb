{
 "cells": [
  {
   "cell_type": "markdown",
   "metadata": {},
   "source": [
    "# Change of basis for vectors"
   ]
  },
  {
   "cell_type": "markdown",
   "metadata": {},
   "source": [
    "![Creative Commons License](https://i.creativecommons.org/l/by/4.0/88x31.png)  \n",
    "This work by Jephian Lin is licensed under a [Creative Commons Attribution 4.0 International License](http://creativecommons.org/licenses/by/4.0/)."
   ]
  },
  {
   "cell_type": "code",
   "execution_count": null,
   "metadata": {},
   "outputs": [],
   "source": [
    "import numpy as np\n",
    "import matplotlib.pyplot as plt\n",
    "from mpl_toolkits import mplot3d\n",
    "from PIL import Image"
   ]
  },
  {
   "cell_type": "markdown",
   "metadata": {},
   "source": [
    "## Main idea"
   ]
  },
  {
   "cell_type": "markdown",
   "metadata": {},
   "source": [
    "Suppose $\\beta = \\{{\\bf u}_1, \\ldots, {\\bf u}_n\\}$ is an orthonormal basis of $\\mathbb{R}^n$.  \n",
    "Then every vector ${\\bf v}\\in\\mathbb{R}^n$ can be written as  \n",
    "\n",
    "$${\\bf v} = c_1{\\bf u}_1 + \\cdots + c_n{\\bf u}_n,$$  \n",
    "where $c_i = \\langle {\\bf v}, {\\bf u}_i \\rangle$.  \n",
    "We call  \n",
    "$$[{\\bf v}]_\\beta = \\begin{bmatrix} c_1 \\\\ \\vdots \\\\ c_n \\end{bmatrix}$$\n",
    "the **representation** of ${\\bf v}$ with respect to the basis $\\beta$.  "
   ]
  },
  {
   "cell_type": "markdown",
   "metadata": {},
   "source": [
    "Let $${\\bf c} = [{\\bf v}]_\\beta \\text{ and }  \n",
    "Q = \\begin{bmatrix}\n",
    " | & ~ & | \\\\\n",
    " {\\bf u}_1 & \\cdots & {\\bf u}_n \\\\\n",
    " | & ~ & | \\\\\n",
    "\\end{bmatrix}.$$  \n",
    "Then $Q^\\top {\\bf v} = {\\bf c}$ and $Q{\\bf c} = {\\bf v}$."
   ]
  },
  {
   "cell_type": "markdown",
   "metadata": {},
   "source": [
    "## Side stories"
   ]
  },
  {
   "cell_type": "markdown",
   "metadata": {},
   "source": [
    "- new basis = new coordinates\n",
    "- change of basis (general basis)"
   ]
  },
  {
   "cell_type": "markdown",
   "metadata": {},
   "source": [
    "## Experiments"
   ]
  },
  {
   "cell_type": "markdown",
   "metadata": {},
   "source": [
    "###### Exercise 1\n",
    "This exercise asks you to draw a new coordinates $\\mathbb{R}^2$ by the following steps.  \n",
    "Let  \n",
    "```python\n",
    "u0 = np.array([1,1])  / np.sqrt(2)\n",
    "u1 = np.array([-1,1]) / np.sqrt(2)\n",
    "```\n",
    "and $\\beta = \\{{\\bf u}_0, {\\bf u}_1\\}$."
   ]
  },
  {
   "cell_type": "markdown",
   "metadata": {},
   "source": [
    "###### 1(a)\n",
    "Draw the grid using ${\\bf u}_0$ and ${\\bf u}_1$.  \n",
    "Draw a red vector for $3{\\bf u}_0$.  \n",
    "Draw a blue vector for $3{\\bf u}_1$.  "
   ]
  },
  {
   "cell_type": "code",
   "execution_count": null,
   "metadata": {},
   "outputs": [],
   "source": [
    "### your answer here"
   ]
  },
  {
   "cell_type": "markdown",
   "metadata": {},
   "source": [
    "###### 1(b)\n",
    "Draw a green vector for  \n",
    "```python\n",
    "v = np.array([1,3]) / np.sqrt(2)\n",
    "```\n",
    "According to the graph, can you tell what is $[{\\bf v}]_\\beta$?"
   ]
  },
  {
   "cell_type": "code",
   "execution_count": null,
   "metadata": {},
   "outputs": [],
   "source": [
    "### your answer here"
   ]
  },
  {
   "cell_type": "markdown",
   "metadata": {},
   "source": [
    "###### 1(c)\n",
    "Find $[{\\bf v}]_\\beta$ by matrix multiplication."
   ]
  },
  {
   "cell_type": "code",
   "execution_count": null,
   "metadata": {},
   "outputs": [],
   "source": [
    "### your answer here"
   ]
  },
  {
   "cell_type": "markdown",
   "metadata": {},
   "source": [
    "###### 1(d)\n",
    "Draw a vector for  \n",
    "```python\n",
    "w = np.array([2,-1])\n",
    "```\n",
    "and find $[{\\bf w}]_\\beta$."
   ]
  },
  {
   "cell_type": "markdown",
   "metadata": {},
   "source": [
    "###### Exercise 2\n",
    "Let  \n",
    "```python\n",
    "theta = np.pi / 4\n",
    "Q = np.array([[np.cos(theta), -np.sin(theta)],\n",
    "              [np.sin(theta), np.cos(theta)]])\n",
    "mu = np.array([0,0])\n",
    "cov = np.array([[4.1,2],\n",
    "                [2,1.1]])\n",
    "vs = np.random.multivariate_normal(mu, cov, (100,))\n",
    "```\n",
    "Plot the data points (rows) of `vs` .  \n",
    "Draw the coordinates using the columns of $Q$.  \n",
    "Try and find an appropriate `theta` such that the data looks simple on the coordinates."
   ]
  },
  {
   "cell_type": "code",
   "execution_count": null,
   "metadata": {},
   "outputs": [],
   "source": [
    "### your answer here"
   ]
  },
  {
   "cell_type": "markdown",
   "metadata": {},
   "source": [
    "## Exercises"
   ]
  },
  {
   "cell_type": "markdown",
   "metadata": {},
   "source": [
    "###### Exercise 3\n",
    "Let  \n",
    "```python\n",
    "x = np.linspace(0, np.pi, 20)\n",
    "y = x**2 * np.sin(x)\n",
    "z = np.zeros_like(x)\n",
    "\n",
    "Q = np.array([[1,1,1],\n",
    "              [-1,1,1],\n",
    "              [0,-2,1]])\n",
    "Q = Q / np.sqrt((Q**2).sum(axis=0))\n",
    "```\n",
    "Use the columns of $Q$ as the coordinates to plot `x`, `y`, `z` ."
   ]
  },
  {
   "cell_type": "code",
   "execution_count": null,
   "metadata": {},
   "outputs": [],
   "source": [
    "### your answer here"
   ]
  },
  {
   "cell_type": "markdown",
   "metadata": {},
   "source": [
    "###### Exercise 4\n",
    "This exercise is similar to Exercise 1 but the basis is no more orthonormal.\n",
    "Let  \n",
    "```python\n",
    "u0 = np.array([2,1])\n",
    "u1 = np.array([1,2])\n",
    "```\n",
    "and $\\beta = \\{{\\bf u}_0, {\\bf u}_1\\}$."
   ]
  },
  {
   "cell_type": "markdown",
   "metadata": {},
   "source": [
    "###### 4(a)\n",
    "Draw the grid using ${\\bf u}_0$ and ${\\bf u}_1$.  \n",
    "Draw a red vector for $3{\\bf u}_0$.  \n",
    "Draw a blue vector for $3{\\bf u}_1$.  "
   ]
  },
  {
   "cell_type": "code",
   "execution_count": null,
   "metadata": {},
   "outputs": [],
   "source": [
    "### your answer here"
   ]
  },
  {
   "cell_type": "markdown",
   "metadata": {},
   "source": [
    "###### 4(b)\n",
    "Draw a green vector for  \n",
    "```python\n",
    "v = np.array([7,5])\n",
    "```\n",
    "According to the graph, can you tell what is $[{\\bf v}]_\\beta$?"
   ]
  },
  {
   "cell_type": "code",
   "execution_count": null,
   "metadata": {},
   "outputs": [],
   "source": [
    "### your answer here"
   ]
  },
  {
   "cell_type": "markdown",
   "metadata": {},
   "source": [
    "###### 4(c)\n",
    "Suppose your previous answer is $[{\\bf v}]_\\beta = (c_0, c_1)^\\top$.  \n",
    "Let $Q$ be the matrix whose columns are vectors in $\\beta$.  \n",
    "Then $Q[{\\bf v}]_\\beta = c_0{\\bf u}_0 + c_1{\\bf u}_1 = {\\bf v}$.  \n",
    "Plot $Q[{\\bf v}]_\\beta$ and double check if your answer is correct.  "
   ]
  },
  {
   "cell_type": "code",
   "execution_count": null,
   "metadata": {},
   "outputs": [],
   "source": [
    "### your answer here"
   ]
  },
  {
   "cell_type": "markdown",
   "metadata": {},
   "source": [
    "###### 4(d)\n",
    "If $\\beta$ is orthogonal, then $Q^{-1} =  Q^\\top$ and $Q^\\top{\\bf v} = Q^{-1}{\\bf v} = [{\\bf v}]_\\beta$, but not it is not the case.  \n",
    "However, the formula $Q^{-1}{\\bf v} = [{\\bf v}]_\\beta$ is still valid.  \n",
    "Use this formula to find $[{\\bf v}]_\\beta$ and compare your answer with 4(b)."
   ]
  },
  {
   "cell_type": "code",
   "execution_count": null,
   "metadata": {},
   "outputs": [],
   "source": [
    "### your answer here"
   ]
  },
  {
   "cell_type": "markdown",
   "metadata": {},
   "source": [
    "###### 4(e)\n",
    "Draw a vector for  \n",
    "```python\n",
    "w = np.array([2,-1])\n",
    "```\n",
    "and find $[{\\bf w}]_\\beta$."
   ]
  },
  {
   "cell_type": "code",
   "execution_count": null,
   "metadata": {},
   "outputs": [],
   "source": [
    "### your answer here"
   ]
  },
  {
   "cell_type": "markdown",
   "metadata": {},
   "source": [
    "##### Exercise 5\n",
    "This exercise ask you to put an image on the plane using the given coordinates.  \n",
    "Let  \n",
    "```python\n",
    "img = Image.open('incrediville-side.jpg')\n",
    "\n",
    "width,height = 200,150\n",
    "img = img.resize((width,height)).convert('L')\n",
    "arr = np.array(img)\n",
    "```"
   ]
  },
  {
   "cell_type": "markdown",
   "metadata": {},
   "source": [
    "###### 5(a)\n",
    "Let  \n",
    "```python\n",
    "unit = 0.1  \n",
    "xx,yy = np.meshgrid(unit*np.arange(width), unit*np.arange(height)) \n",
    "xx = xx.ravel()\n",
    "yy = -yy.ravel()\n",
    "```\n",
    "Make a scatter plot of `xx` and `yy` using the colors `arr.ravel()` .  \n",
    "Hint:  You need to set `cmap='Greys_r` to make it looks good."
   ]
  },
  {
   "cell_type": "code",
   "execution_count": null,
   "metadata": {},
   "outputs": [],
   "source": [
    "### your answer here"
   ]
  },
  {
   "cell_type": "markdown",
   "metadata": {},
   "source": [
    "###### 5(b)\n",
    "Let  \n",
    "```python\n",
    "Q = np.array([[1,1],\n",
    "              [-1,1],\n",
    "              [0,-2]])\n",
    "Q = Q / np.sqrt((Q**2).sum(axis=0))\n",
    "vs = np.vstack([xx,yy])\n",
    "new_vs = Q.dot(vs)\n",
    "```\n",
    "Make a scatter plot of points (columns) of `new_vs` using the same color setting."
   ]
  },
  {
   "cell_type": "code",
   "execution_count": null,
   "metadata": {},
   "outputs": [],
   "source": [
    "### your answer here"
   ]
  }
 ],
 "metadata": {
  "kernelspec": {
   "display_name": "Python 3",
   "language": "python",
   "name": "python3"
  },
  "language_info": {
   "codemirror_mode": {
    "name": "ipython",
    "version": 3
   },
   "file_extension": ".py",
   "mimetype": "text/x-python",
   "name": "python",
   "nbconvert_exporter": "python",
   "pygments_lexer": "ipython3",
   "version": "3.9.2"
  }
 },
 "nbformat": 4,
 "nbformat_minor": 4
}
