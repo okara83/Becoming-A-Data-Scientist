{
 "cells": [
  {
   "cell_type": "markdown",
   "metadata": {},
   "source": [
    "The Pebble Game\n",
    "\n",
    "Let's imagine right now, that rather than being on this zoom call we were all transported to the beaches of Monte Carlo. You can see it now, can't you? The beautiful clear blue sky and crystal clear water, and maybe even a cold brew. All of a sudden someone in the group has an idea... All excited, he/she grabs a stick and quickly draws a large square in the sand, and this person have a keen eye for measurements makes each side 2 meters.... The person says 'lets play a game...' OKay so we're going to play a game, a geeky game, but a game nonetheless. The game that's proposed, let's call it the 'pebble game', asks if we estimate the value of $\\pi$ by randomly throwing pebbles into the circle inscribed square in the sand? The rules of the game are - Pebbles are randomly thrown into the enclosed area (let's blindfold the guinea pig). The ratio of stones in the circle and the total number of thrown stones is a simple or direct sampling statistical estimate for the area of the pond."
   ]
  },
  {
   "cell_type": "markdown",
   "metadata": {},
   "source": [
    "\n",
    "Let there be a circle with radius 1 and centre (0,0).\n",
    "\n",
    "Surrounding the circle is a square with sides of length 2.\n",
    "<br>\n",
    "\n",
    "\\begin{align}\n",
    "A_{circle} = \\pi r^2 \\\\\n",
    "\\pi = \\frac{A_{circle}}{r^2} \\tag{1}\\\\\n",
    "A_{square} = (2r)^2 = 4r^2\\\\\n",
    "r=\\sqrt{\\frac{A_{square}}{4}} \\tag{2}\\\\\n",
    "\\text{substitute eq. 4 into eq. 2:}\\\\\n",
    "\\boxed{\\pi = 4\\left(\\frac{A_{circle}}{A_{square}}\\right)} \\tag{3}\\\\\n",
    "\\end{align}\n",
    "\n",
    "\n",
    "We can estimate the ratio $\\frac{A_{circle}}{A_{square}}$ by generating random points\n",
    "on the plane between (-1, 1). We count the number of points that land\n",
    "within the circle and the number of points outside the circle.\n",
    "Then, $\\frac{A_{circle}}{A_{square}} \\approx \\frac{Trials_{\\text{hits}}}{Trials_{total}}$.\n",
    "\n",
    "So, $\\pi \\approx 4 \\cdot \\frac{Trials_{\\text{hits}}}{Trials_{total}}$"
   ]
  },
  {
   "cell_type": "code",
   "execution_count": 35,
   "metadata": {},
   "outputs": [],
   "source": [
    "\n",
    "import random\n",
    "import numpy as np \n",
    "import matplotlib.pyplot as plt\n",
    "from matplotlib.animation import FuncAnimation\n",
    "import matplotlib.animation as animation\n",
    "from IPython.display import Video\n",
    "from random import choice\n",
    "import pandas as pd\n",
    "import math\n",
    "from IPython.display import display, Math\n",
    "%matplotlib inline\n",
    "\n",
    "def MonteCarloSim(num_trials, decimalplaces = 5):\n",
    "    '''returns dataframe with all the results of num_trials = trials of the Monte Carlo algo'''\n",
    "    df = pd.DataFrame(columns=['x', 'y', 'r', 'Location', 'piEstimate','Error','Color'])\n",
    "    df['x'] = 2*(np.random.rand(num_trials)-0.5)\n",
    "    df['y'] = 2*(np.random.rand(num_trials)-0.5)\n",
    "    df['r'] = np.sqrt(df['x']**2 + df['y']**2)\n",
    "    df.loc[df['r'] <= 1, 'Location'] = 'Inside'\n",
    "    df.loc[df['r'] > 1, 'Location'] = 'Outside'\n",
    "    df.loc[df['r'] <= 1, 'Color'] = 'green'\n",
    "    df.loc[df['r'] > 1, 'Color'] = 'red'\n",
    "    df['piEstimate'] = 4*(df['Location'] == 'Inside').cumsum()/(df.index-1) \n",
    "    df['Error'] = 4*(df['Location'] == 'Inside').cumsum()/(df.index-1) - math.pi\n",
    "\n",
    "    return df"
   ]
  },
  {
   "cell_type": "markdown",
   "metadata": {},
   "source": [
    "The Function below records each frame prior to throwing a new pebble, then the next frame displays the previous canvas with and additional pebble after the trial. These are strung together to make a movie  "
   ]
  },
  {
   "cell_type": "code",
   "execution_count": 43,
   "metadata": {
    "scrolled": false
   },
   "outputs": [],
   "source": [
    "def MonteCarloAnimation(Ntrials):\n",
    "    data=MonteCarloSim(Ntrials)\n",
    "    for estimate in data['piEstimate']:\n",
    "        print(f\"current estimate of \")\n",
    "        display(Math(f\" \\pi: {estimate}\"))\n",
    "    plt.rcParams['axes.facecolor'] = plt.rcParamsDefault['axes.facecolor']\n",
    "    plt.rcParams['axes.edgecolor'] = plt.rcParamsDefault['axes.edgecolor']\n",
    "    plt.rcParams['axes.grid'] = plt.rcParamsDefault['axes.grid']\n",
    "    plt.rcParams['grid.alpha'] = plt.rcParamsDefault['grid.alpha']\n",
    "    plt.rcParams['grid.color'] = plt.rcParamsDefault['grid.color']\n",
    "\n",
    "    circle = plt.Circle((0, 0), 1.0, color='g', linewidth=1, fill=False) ##define circle with built in circle object\n",
    "\n",
    "    plotfunc = plt.figure(figsize=(10,10))\n",
    "    plotfunc.subplots_adjust(top=0.8, wspace=0.025)\n",
    "    plotfunc.tight_layout()\n",
    "\n",
    "    ax1 = plt.subplot(111, xlim=(-1.0, 1), ylim=(-1.0, 1.0))\n",
    "    ax1.add_patch(circle)\n",
    "\n",
    "    scat = ax1.scatter(x=0, y=0, s=70, marker='o')\n",
    "\n",
    "    # Animation update function\n",
    "    def animationUpdate(k):\n",
    "        x=list(data['x'])[:k]\n",
    "        y = list(data['y'])[:k]\n",
    "        scat.set_offsets(np.c_[x,y])\n",
    "        scat.set_color(data['Color'][:k])\n",
    "        return scat,\n",
    "\n",
    "    anim = FuncAnimation(plotfunc, animationUpdate, frames=Ntrials, interval=400, blit=True) # function for creating animation\n",
    "\n",
    "    # Set up formatting for the movie files\n",
    "    Writer = animation.writers['ffmpeg']\n",
    "    writer = Writer(fps=10, bitrate=10000) #fps (frames per second) determines the speed of the movie\n",
    "    anim.save('animatedMonteCarlo.mp4', writer=writer)\n",
    "\n",
    "    Video('animatedMonteCarlo.mp4')"
   ]
  },
  {
   "cell_type": "code",
   "execution_count": 44,
   "metadata": {
    "scrolled": false
   },
   "outputs": [
    {
     "name": "stdout",
     "output_type": "stream",
     "text": [
      "current estimate of \n"
     ]
    },
    {
     "data": {
      "text/latex": [
       "$\\displaystyle  \\pi: -4.0$"
      ],
      "text/plain": [
       "<IPython.core.display.Math object>"
      ]
     },
     "metadata": {},
     "output_type": "display_data"
    },
    {
     "name": "stdout",
     "output_type": "stream",
     "text": [
      "current estimate of \n"
     ]
    },
    {
     "data": {
      "text/latex": [
       "$\\displaystyle  \\pi: inf$"
      ],
      "text/plain": [
       "<IPython.core.display.Math object>"
      ]
     },
     "metadata": {},
     "output_type": "display_data"
    },
    {
     "name": "stdout",
     "output_type": "stream",
     "text": [
      "current estimate of \n"
     ]
    },
    {
     "data": {
      "text/latex": [
       "$\\displaystyle  \\pi: 8.0$"
      ],
      "text/plain": [
       "<IPython.core.display.Math object>"
      ]
     },
     "metadata": {},
     "output_type": "display_data"
    },
    {
     "name": "stdout",
     "output_type": "stream",
     "text": [
      "current estimate of \n"
     ]
    },
    {
     "data": {
      "text/latex": [
       "$\\displaystyle  \\pi: 6.0$"
      ],
      "text/plain": [
       "<IPython.core.display.Math object>"
      ]
     },
     "metadata": {},
     "output_type": "display_data"
    },
    {
     "name": "stdout",
     "output_type": "stream",
     "text": [
      "current estimate of \n"
     ]
    },
    {
     "data": {
      "text/latex": [
       "$\\displaystyle  \\pi: 5.333333333333333$"
      ],
      "text/plain": [
       "<IPython.core.display.Math object>"
      ]
     },
     "metadata": {},
     "output_type": "display_data"
    },
    {
     "name": "stdout",
     "output_type": "stream",
     "text": [
      "current estimate of \n"
     ]
    },
    {
     "data": {
      "text/latex": [
       "$\\displaystyle  \\pi: 4.0$"
      ],
      "text/plain": [
       "<IPython.core.display.Math object>"
      ]
     },
     "metadata": {},
     "output_type": "display_data"
    },
    {
     "name": "stdout",
     "output_type": "stream",
     "text": [
      "current estimate of \n"
     ]
    },
    {
     "data": {
      "text/latex": [
       "$\\displaystyle  \\pi: 4.0$"
      ],
      "text/plain": [
       "<IPython.core.display.Math object>"
      ]
     },
     "metadata": {},
     "output_type": "display_data"
    },
    {
     "name": "stdout",
     "output_type": "stream",
     "text": [
      "current estimate of \n"
     ]
    },
    {
     "data": {
      "text/latex": [
       "$\\displaystyle  \\pi: 4.0$"
      ],
      "text/plain": [
       "<IPython.core.display.Math object>"
      ]
     },
     "metadata": {},
     "output_type": "display_data"
    },
    {
     "name": "stdout",
     "output_type": "stream",
     "text": [
      "current estimate of \n"
     ]
    },
    {
     "data": {
      "text/latex": [
       "$\\displaystyle  \\pi: 3.4285714285714284$"
      ],
      "text/plain": [
       "<IPython.core.display.Math object>"
      ]
     },
     "metadata": {},
     "output_type": "display_data"
    },
    {
     "name": "stdout",
     "output_type": "stream",
     "text": [
      "current estimate of \n"
     ]
    },
    {
     "data": {
      "text/latex": [
       "$\\displaystyle  \\pi: 3.5$"
      ],
      "text/plain": [
       "<IPython.core.display.Math object>"
      ]
     },
     "metadata": {},
     "output_type": "display_data"
    },
    {
     "name": "stdout",
     "output_type": "stream",
     "text": [
      "current estimate of \n"
     ]
    },
    {
     "data": {
      "text/latex": [
       "$\\displaystyle  \\pi: 3.5555555555555554$"
      ],
      "text/plain": [
       "<IPython.core.display.Math object>"
      ]
     },
     "metadata": {},
     "output_type": "display_data"
    },
    {
     "name": "stdout",
     "output_type": "stream",
     "text": [
      "current estimate of \n"
     ]
    },
    {
     "data": {
      "text/latex": [
       "$\\displaystyle  \\pi: 3.6$"
      ],
      "text/plain": [
       "<IPython.core.display.Math object>"
      ]
     },
     "metadata": {},
     "output_type": "display_data"
    },
    {
     "name": "stdout",
     "output_type": "stream",
     "text": [
      "current estimate of \n"
     ]
    },
    {
     "data": {
      "text/latex": [
       "$\\displaystyle  \\pi: 3.6363636363636362$"
      ],
      "text/plain": [
       "<IPython.core.display.Math object>"
      ]
     },
     "metadata": {},
     "output_type": "display_data"
    },
    {
     "name": "stdout",
     "output_type": "stream",
     "text": [
      "current estimate of \n"
     ]
    },
    {
     "data": {
      "text/latex": [
       "$\\displaystyle  \\pi: 3.6666666666666665$"
      ],
      "text/plain": [
       "<IPython.core.display.Math object>"
      ]
     },
     "metadata": {},
     "output_type": "display_data"
    },
    {
     "name": "stdout",
     "output_type": "stream",
     "text": [
      "current estimate of \n"
     ]
    },
    {
     "data": {
      "text/latex": [
       "$\\displaystyle  \\pi: 3.6923076923076925$"
      ],
      "text/plain": [
       "<IPython.core.display.Math object>"
      ]
     },
     "metadata": {},
     "output_type": "display_data"
    },
    {
     "name": "stdout",
     "output_type": "stream",
     "text": [
      "current estimate of \n"
     ]
    },
    {
     "data": {
      "text/latex": [
       "$\\displaystyle  \\pi: 3.4285714285714284$"
      ],
      "text/plain": [
       "<IPython.core.display.Math object>"
      ]
     },
     "metadata": {},
     "output_type": "display_data"
    },
    {
     "name": "stdout",
     "output_type": "stream",
     "text": [
      "current estimate of \n"
     ]
    },
    {
     "data": {
      "text/latex": [
       "$\\displaystyle  \\pi: 3.466666666666667$"
      ],
      "text/plain": [
       "<IPython.core.display.Math object>"
      ]
     },
     "metadata": {},
     "output_type": "display_data"
    },
    {
     "name": "stdout",
     "output_type": "stream",
     "text": [
      "current estimate of \n"
     ]
    },
    {
     "data": {
      "text/latex": [
       "$\\displaystyle  \\pi: 3.5$"
      ],
      "text/plain": [
       "<IPython.core.display.Math object>"
      ]
     },
     "metadata": {},
     "output_type": "display_data"
    },
    {
     "name": "stdout",
     "output_type": "stream",
     "text": [
      "current estimate of \n"
     ]
    },
    {
     "data": {
      "text/latex": [
       "$\\displaystyle  \\pi: 3.5294117647058822$"
      ],
      "text/plain": [
       "<IPython.core.display.Math object>"
      ]
     },
     "metadata": {},
     "output_type": "display_data"
    },
    {
     "name": "stdout",
     "output_type": "stream",
     "text": [
      "current estimate of \n"
     ]
    },
    {
     "data": {
      "text/latex": [
       "$\\displaystyle  \\pi: 3.5555555555555554$"
      ],
      "text/plain": [
       "<IPython.core.display.Math object>"
      ]
     },
     "metadata": {},
     "output_type": "display_data"
    },
    {
     "name": "stdout",
     "output_type": "stream",
     "text": [
      "current estimate of \n"
     ]
    },
    {
     "data": {
      "text/latex": [
       "$\\displaystyle  \\pi: 3.5789473684210527$"
      ],
      "text/plain": [
       "<IPython.core.display.Math object>"
      ]
     },
     "metadata": {},
     "output_type": "display_data"
    },
    {
     "name": "stdout",
     "output_type": "stream",
     "text": [
      "current estimate of \n"
     ]
    },
    {
     "data": {
      "text/latex": [
       "$\\displaystyle  \\pi: 3.6$"
      ],
      "text/plain": [
       "<IPython.core.display.Math object>"
      ]
     },
     "metadata": {},
     "output_type": "display_data"
    },
    {
     "name": "stdout",
     "output_type": "stream",
     "text": [
      "current estimate of \n"
     ]
    },
    {
     "data": {
      "text/latex": [
       "$\\displaystyle  \\pi: 3.619047619047619$"
      ],
      "text/plain": [
       "<IPython.core.display.Math object>"
      ]
     },
     "metadata": {},
     "output_type": "display_data"
    },
    {
     "name": "stdout",
     "output_type": "stream",
     "text": [
      "current estimate of \n"
     ]
    },
    {
     "data": {
      "text/latex": [
       "$\\displaystyle  \\pi: 3.6363636363636362$"
      ],
      "text/plain": [
       "<IPython.core.display.Math object>"
      ]
     },
     "metadata": {},
     "output_type": "display_data"
    },
    {
     "name": "stdout",
     "output_type": "stream",
     "text": [
      "current estimate of \n"
     ]
    },
    {
     "data": {
      "text/latex": [
       "$\\displaystyle  \\pi: 3.652173913043478$"
      ],
      "text/plain": [
       "<IPython.core.display.Math object>"
      ]
     },
     "metadata": {},
     "output_type": "display_data"
    },
    {
     "name": "stdout",
     "output_type": "stream",
     "text": [
      "current estimate of \n"
     ]
    },
    {
     "data": {
      "text/latex": [
       "$\\displaystyle  \\pi: 3.6666666666666665$"
      ],
      "text/plain": [
       "<IPython.core.display.Math object>"
      ]
     },
     "metadata": {},
     "output_type": "display_data"
    },
    {
     "name": "stdout",
     "output_type": "stream",
     "text": [
      "current estimate of \n"
     ]
    },
    {
     "data": {
      "text/latex": [
       "$\\displaystyle  \\pi: 3.68$"
      ],
      "text/plain": [
       "<IPython.core.display.Math object>"
      ]
     },
     "metadata": {},
     "output_type": "display_data"
    },
    {
     "name": "stdout",
     "output_type": "stream",
     "text": [
      "current estimate of \n"
     ]
    },
    {
     "data": {
      "text/latex": [
       "$\\displaystyle  \\pi: 3.5384615384615383$"
      ],
      "text/plain": [
       "<IPython.core.display.Math object>"
      ]
     },
     "metadata": {},
     "output_type": "display_data"
    },
    {
     "name": "stdout",
     "output_type": "stream",
     "text": [
      "current estimate of \n"
     ]
    },
    {
     "data": {
      "text/latex": [
       "$\\displaystyle  \\pi: 3.5555555555555554$"
      ],
      "text/plain": [
       "<IPython.core.display.Math object>"
      ]
     },
     "metadata": {},
     "output_type": "display_data"
    },
    {
     "name": "stdout",
     "output_type": "stream",
     "text": [
      "current estimate of \n"
     ]
    },
    {
     "data": {
      "text/latex": [
       "$\\displaystyle  \\pi: 3.4285714285714284$"
      ],
      "text/plain": [
       "<IPython.core.display.Math object>"
      ]
     },
     "metadata": {},
     "output_type": "display_data"
    },
    {
     "name": "stdout",
     "output_type": "stream",
     "text": [
      "current estimate of \n"
     ]
    },
    {
     "data": {
      "text/latex": [
       "$\\displaystyle  \\pi: 3.4482758620689653$"
      ],
      "text/plain": [
       "<IPython.core.display.Math object>"
      ]
     },
     "metadata": {},
     "output_type": "display_data"
    },
    {
     "name": "stdout",
     "output_type": "stream",
     "text": [
      "current estimate of \n"
     ]
    },
    {
     "data": {
      "text/latex": [
       "$\\displaystyle  \\pi: 3.466666666666667$"
      ],
      "text/plain": [
       "<IPython.core.display.Math object>"
      ]
     },
     "metadata": {},
     "output_type": "display_data"
    },
    {
     "name": "stdout",
     "output_type": "stream",
     "text": [
      "current estimate of \n"
     ]
    },
    {
     "data": {
      "text/latex": [
       "$\\displaystyle  \\pi: 3.4838709677419355$"
      ],
      "text/plain": [
       "<IPython.core.display.Math object>"
      ]
     },
     "metadata": {},
     "output_type": "display_data"
    },
    {
     "name": "stdout",
     "output_type": "stream",
     "text": [
      "current estimate of \n"
     ]
    },
    {
     "data": {
      "text/latex": [
       "$\\displaystyle  \\pi: 3.5$"
      ],
      "text/plain": [
       "<IPython.core.display.Math object>"
      ]
     },
     "metadata": {},
     "output_type": "display_data"
    },
    {
     "name": "stdout",
     "output_type": "stream",
     "text": [
      "current estimate of \n"
     ]
    },
    {
     "data": {
      "text/latex": [
       "$\\displaystyle  \\pi: 3.515151515151515$"
      ],
      "text/plain": [
       "<IPython.core.display.Math object>"
      ]
     },
     "metadata": {},
     "output_type": "display_data"
    },
    {
     "name": "stdout",
     "output_type": "stream",
     "text": [
      "current estimate of \n"
     ]
    },
    {
     "data": {
      "text/latex": [
       "$\\displaystyle  \\pi: 3.5294117647058822$"
      ],
      "text/plain": [
       "<IPython.core.display.Math object>"
      ]
     },
     "metadata": {},
     "output_type": "display_data"
    },
    {
     "name": "stdout",
     "output_type": "stream",
     "text": [
      "current estimate of \n"
     ]
    },
    {
     "data": {
      "text/latex": [
       "$\\displaystyle  \\pi: 3.5428571428571427$"
      ],
      "text/plain": [
       "<IPython.core.display.Math object>"
      ]
     },
     "metadata": {},
     "output_type": "display_data"
    },
    {
     "name": "stdout",
     "output_type": "stream",
     "text": [
      "current estimate of \n"
     ]
    },
    {
     "data": {
      "text/latex": [
       "$\\displaystyle  \\pi: 3.5555555555555554$"
      ],
      "text/plain": [
       "<IPython.core.display.Math object>"
      ]
     },
     "metadata": {},
     "output_type": "display_data"
    },
    {
     "name": "stdout",
     "output_type": "stream",
     "text": [
      "current estimate of \n"
     ]
    },
    {
     "data": {
      "text/latex": [
       "$\\displaystyle  \\pi: 3.5675675675675675$"
      ],
      "text/plain": [
       "<IPython.core.display.Math object>"
      ]
     },
     "metadata": {},
     "output_type": "display_data"
    },
    {
     "name": "stdout",
     "output_type": "stream",
     "text": [
      "current estimate of \n"
     ]
    },
    {
     "data": {
      "text/latex": [
       "$\\displaystyle  \\pi: 3.5789473684210527$"
      ],
      "text/plain": [
       "<IPython.core.display.Math object>"
      ]
     },
     "metadata": {},
     "output_type": "display_data"
    },
    {
     "name": "stdout",
     "output_type": "stream",
     "text": [
      "current estimate of \n"
     ]
    },
    {
     "data": {
      "text/latex": [
       "$\\displaystyle  \\pi: 3.4871794871794872$"
      ],
      "text/plain": [
       "<IPython.core.display.Math object>"
      ]
     },
     "metadata": {},
     "output_type": "display_data"
    },
    {
     "name": "stdout",
     "output_type": "stream",
     "text": [
      "current estimate of \n"
     ]
    },
    {
     "data": {
      "text/latex": [
       "$\\displaystyle  \\pi: 3.4$"
      ],
      "text/plain": [
       "<IPython.core.display.Math object>"
      ]
     },
     "metadata": {},
     "output_type": "display_data"
    },
    {
     "name": "stdout",
     "output_type": "stream",
     "text": [
      "current estimate of \n"
     ]
    },
    {
     "data": {
      "text/latex": [
       "$\\displaystyle  \\pi: 3.4146341463414633$"
      ],
      "text/plain": [
       "<IPython.core.display.Math object>"
      ]
     },
     "metadata": {},
     "output_type": "display_data"
    },
    {
     "name": "stdout",
     "output_type": "stream",
     "text": [
      "current estimate of \n"
     ]
    },
    {
     "data": {
      "text/latex": [
       "$\\displaystyle  \\pi: 3.3333333333333335$"
      ],
      "text/plain": [
       "<IPython.core.display.Math object>"
      ]
     },
     "metadata": {},
     "output_type": "display_data"
    },
    {
     "name": "stdout",
     "output_type": "stream",
     "text": [
      "current estimate of \n"
     ]
    },
    {
     "data": {
      "text/latex": [
       "$\\displaystyle  \\pi: 3.3488372093023258$"
      ],
      "text/plain": [
       "<IPython.core.display.Math object>"
      ]
     },
     "metadata": {},
     "output_type": "display_data"
    },
    {
     "name": "stdout",
     "output_type": "stream",
     "text": [
      "current estimate of \n"
     ]
    },
    {
     "data": {
      "text/latex": [
       "$\\displaystyle  \\pi: 3.3636363636363638$"
      ],
      "text/plain": [
       "<IPython.core.display.Math object>"
      ]
     },
     "metadata": {},
     "output_type": "display_data"
    },
    {
     "name": "stdout",
     "output_type": "stream",
     "text": [
      "current estimate of \n"
     ]
    },
    {
     "data": {
      "text/latex": [
       "$\\displaystyle  \\pi: 3.2888888888888888$"
      ],
      "text/plain": [
       "<IPython.core.display.Math object>"
      ]
     },
     "metadata": {},
     "output_type": "display_data"
    },
    {
     "name": "stdout",
     "output_type": "stream",
     "text": [
      "current estimate of \n"
     ]
    },
    {
     "data": {
      "text/latex": [
       "$\\displaystyle  \\pi: 3.217391304347826$"
      ],
      "text/plain": [
       "<IPython.core.display.Math object>"
      ]
     },
     "metadata": {},
     "output_type": "display_data"
    },
    {
     "name": "stdout",
     "output_type": "stream",
     "text": [
      "current estimate of \n"
     ]
    },
    {
     "data": {
      "text/latex": [
       "$\\displaystyle  \\pi: 3.148936170212766$"
      ],
      "text/plain": [
       "<IPython.core.display.Math object>"
      ]
     },
     "metadata": {},
     "output_type": "display_data"
    },
    {
     "name": "stdout",
     "output_type": "stream",
     "text": [
      "current estimate of \n"
     ]
    },
    {
     "data": {
      "text/latex": [
       "$\\displaystyle  \\pi: 3.0833333333333335$"
      ],
      "text/plain": [
       "<IPython.core.display.Math object>"
      ]
     },
     "metadata": {},
     "output_type": "display_data"
    },
    {
     "name": "stdout",
     "output_type": "stream",
     "text": [
      "current estimate of \n"
     ]
    },
    {
     "data": {
      "text/latex": [
       "$\\displaystyle  \\pi: 3.1020408163265305$"
      ],
      "text/plain": [
       "<IPython.core.display.Math object>"
      ]
     },
     "metadata": {},
     "output_type": "display_data"
    },
    {
     "name": "stdout",
     "output_type": "stream",
     "text": [
      "current estimate of \n"
     ]
    },
    {
     "data": {
      "text/latex": [
       "$\\displaystyle  \\pi: 3.12$"
      ],
      "text/plain": [
       "<IPython.core.display.Math object>"
      ]
     },
     "metadata": {},
     "output_type": "display_data"
    },
    {
     "name": "stdout",
     "output_type": "stream",
     "text": [
      "current estimate of \n"
     ]
    },
    {
     "data": {
      "text/latex": [
       "$\\displaystyle  \\pi: 3.1372549019607843$"
      ],
      "text/plain": [
       "<IPython.core.display.Math object>"
      ]
     },
     "metadata": {},
     "output_type": "display_data"
    },
    {
     "name": "stdout",
     "output_type": "stream",
     "text": [
      "current estimate of \n"
     ]
    },
    {
     "data": {
      "text/latex": [
       "$\\displaystyle  \\pi: 3.076923076923077$"
      ],
      "text/plain": [
       "<IPython.core.display.Math object>"
      ]
     },
     "metadata": {},
     "output_type": "display_data"
    },
    {
     "name": "stdout",
     "output_type": "stream",
     "text": [
      "current estimate of \n"
     ]
    },
    {
     "data": {
      "text/latex": [
       "$\\displaystyle  \\pi: 3.018867924528302$"
      ],
      "text/plain": [
       "<IPython.core.display.Math object>"
      ]
     },
     "metadata": {},
     "output_type": "display_data"
    },
    {
     "name": "stdout",
     "output_type": "stream",
     "text": [
      "current estimate of \n"
     ]
    },
    {
     "data": {
      "text/latex": [
       "$\\displaystyle  \\pi: 3.037037037037037$"
      ],
      "text/plain": [
       "<IPython.core.display.Math object>"
      ]
     },
     "metadata": {},
     "output_type": "display_data"
    },
    {
     "name": "stdout",
     "output_type": "stream",
     "text": [
      "current estimate of \n"
     ]
    },
    {
     "data": {
      "text/latex": [
       "$\\displaystyle  \\pi: 3.0545454545454547$"
      ],
      "text/plain": [
       "<IPython.core.display.Math object>"
      ]
     },
     "metadata": {},
     "output_type": "display_data"
    },
    {
     "name": "stdout",
     "output_type": "stream",
     "text": [
      "current estimate of \n"
     ]
    },
    {
     "data": {
      "text/latex": [
       "$\\displaystyle  \\pi: 3.0714285714285716$"
      ],
      "text/plain": [
       "<IPython.core.display.Math object>"
      ]
     },
     "metadata": {},
     "output_type": "display_data"
    },
    {
     "name": "stdout",
     "output_type": "stream",
     "text": [
      "current estimate of \n"
     ]
    },
    {
     "data": {
      "text/latex": [
       "$\\displaystyle  \\pi: 3.087719298245614$"
      ],
      "text/plain": [
       "<IPython.core.display.Math object>"
      ]
     },
     "metadata": {},
     "output_type": "display_data"
    },
    {
     "name": "stdout",
     "output_type": "stream",
     "text": [
      "current estimate of \n"
     ]
    },
    {
     "data": {
      "text/latex": [
       "$\\displaystyle  \\pi: 3.103448275862069$"
      ],
      "text/plain": [
       "<IPython.core.display.Math object>"
      ]
     },
     "metadata": {},
     "output_type": "display_data"
    },
    {
     "name": "stdout",
     "output_type": "stream",
     "text": [
      "current estimate of \n"
     ]
    },
    {
     "data": {
      "text/latex": [
       "$\\displaystyle  \\pi: 3.1186440677966103$"
      ],
      "text/plain": [
       "<IPython.core.display.Math object>"
      ]
     },
     "metadata": {},
     "output_type": "display_data"
    },
    {
     "name": "stdout",
     "output_type": "stream",
     "text": [
      "current estimate of \n"
     ]
    },
    {
     "data": {
      "text/latex": [
       "$\\displaystyle  \\pi: 3.1333333333333333$"
      ],
      "text/plain": [
       "<IPython.core.display.Math object>"
      ]
     },
     "metadata": {},
     "output_type": "display_data"
    },
    {
     "name": "stdout",
     "output_type": "stream",
     "text": [
      "current estimate of \n"
     ]
    },
    {
     "data": {
      "text/latex": [
       "$\\displaystyle  \\pi: 3.1475409836065573$"
      ],
      "text/plain": [
       "<IPython.core.display.Math object>"
      ]
     },
     "metadata": {},
     "output_type": "display_data"
    },
    {
     "name": "stdout",
     "output_type": "stream",
     "text": [
      "current estimate of \n"
     ]
    },
    {
     "data": {
      "text/latex": [
       "$\\displaystyle  \\pi: 3.161290322580645$"
      ],
      "text/plain": [
       "<IPython.core.display.Math object>"
      ]
     },
     "metadata": {},
     "output_type": "display_data"
    },
    {
     "name": "stdout",
     "output_type": "stream",
     "text": [
      "current estimate of \n"
     ]
    },
    {
     "data": {
      "text/latex": [
       "$\\displaystyle  \\pi: 3.1746031746031744$"
      ],
      "text/plain": [
       "<IPython.core.display.Math object>"
      ]
     },
     "metadata": {},
     "output_type": "display_data"
    },
    {
     "name": "stdout",
     "output_type": "stream",
     "text": [
      "current estimate of \n"
     ]
    },
    {
     "data": {
      "text/latex": [
       "$\\displaystyle  \\pi: 3.1875$"
      ],
      "text/plain": [
       "<IPython.core.display.Math object>"
      ]
     },
     "metadata": {},
     "output_type": "display_data"
    },
    {
     "name": "stdout",
     "output_type": "stream",
     "text": [
      "current estimate of \n"
     ]
    },
    {
     "data": {
      "text/latex": [
       "$\\displaystyle  \\pi: 3.2$"
      ],
      "text/plain": [
       "<IPython.core.display.Math object>"
      ]
     },
     "metadata": {},
     "output_type": "display_data"
    },
    {
     "name": "stdout",
     "output_type": "stream",
     "text": [
      "current estimate of \n"
     ]
    },
    {
     "data": {
      "text/latex": [
       "$\\displaystyle  \\pi: 3.1515151515151514$"
      ],
      "text/plain": [
       "<IPython.core.display.Math object>"
      ]
     },
     "metadata": {},
     "output_type": "display_data"
    },
    {
     "name": "stdout",
     "output_type": "stream",
     "text": [
      "current estimate of \n"
     ]
    },
    {
     "data": {
      "text/latex": [
       "$\\displaystyle  \\pi: 3.1641791044776117$"
      ],
      "text/plain": [
       "<IPython.core.display.Math object>"
      ]
     },
     "metadata": {},
     "output_type": "display_data"
    },
    {
     "name": "stdout",
     "output_type": "stream",
     "text": [
      "current estimate of \n"
     ]
    },
    {
     "data": {
      "text/latex": [
       "$\\displaystyle  \\pi: 3.1176470588235294$"
      ],
      "text/plain": [
       "<IPython.core.display.Math object>"
      ]
     },
     "metadata": {},
     "output_type": "display_data"
    },
    {
     "name": "stdout",
     "output_type": "stream",
     "text": [
      "current estimate of \n"
     ]
    },
    {
     "data": {
      "text/latex": [
       "$\\displaystyle  \\pi: 3.130434782608696$"
      ],
      "text/plain": [
       "<IPython.core.display.Math object>"
      ]
     },
     "metadata": {},
     "output_type": "display_data"
    },
    {
     "name": "stdout",
     "output_type": "stream",
     "text": [
      "current estimate of \n"
     ]
    },
    {
     "data": {
      "text/latex": [
       "$\\displaystyle  \\pi: 3.085714285714286$"
      ],
      "text/plain": [
       "<IPython.core.display.Math object>"
      ]
     },
     "metadata": {},
     "output_type": "display_data"
    },
    {
     "name": "stdout",
     "output_type": "stream",
     "text": [
      "current estimate of \n"
     ]
    },
    {
     "data": {
      "text/latex": [
       "$\\displaystyle  \\pi: 3.0985915492957745$"
      ],
      "text/plain": [
       "<IPython.core.display.Math object>"
      ]
     },
     "metadata": {},
     "output_type": "display_data"
    },
    {
     "name": "stdout",
     "output_type": "stream",
     "text": [
      "current estimate of \n"
     ]
    },
    {
     "data": {
      "text/latex": [
       "$\\displaystyle  \\pi: 3.111111111111111$"
      ],
      "text/plain": [
       "<IPython.core.display.Math object>"
      ]
     },
     "metadata": {},
     "output_type": "display_data"
    },
    {
     "name": "stdout",
     "output_type": "stream",
     "text": [
      "current estimate of \n"
     ]
    },
    {
     "data": {
      "text/latex": [
       "$\\displaystyle  \\pi: 3.1232876712328768$"
      ],
      "text/plain": [
       "<IPython.core.display.Math object>"
      ]
     },
     "metadata": {},
     "output_type": "display_data"
    },
    {
     "name": "stdout",
     "output_type": "stream",
     "text": [
      "current estimate of \n"
     ]
    },
    {
     "data": {
      "text/latex": [
       "$\\displaystyle  \\pi: 3.081081081081081$"
      ],
      "text/plain": [
       "<IPython.core.display.Math object>"
      ]
     },
     "metadata": {},
     "output_type": "display_data"
    },
    {
     "name": "stdout",
     "output_type": "stream",
     "text": [
      "current estimate of \n"
     ]
    },
    {
     "data": {
      "text/latex": [
       "$\\displaystyle  \\pi: 3.04$"
      ],
      "text/plain": [
       "<IPython.core.display.Math object>"
      ]
     },
     "metadata": {},
     "output_type": "display_data"
    },
    {
     "name": "stdout",
     "output_type": "stream",
     "text": [
      "current estimate of \n"
     ]
    },
    {
     "data": {
      "text/latex": [
       "$\\displaystyle  \\pi: 3.0526315789473686$"
      ],
      "text/plain": [
       "<IPython.core.display.Math object>"
      ]
     },
     "metadata": {},
     "output_type": "display_data"
    },
    {
     "name": "stdout",
     "output_type": "stream",
     "text": [
      "current estimate of \n"
     ]
    },
    {
     "data": {
      "text/latex": [
       "$\\displaystyle  \\pi: 3.064935064935065$"
      ],
      "text/plain": [
       "<IPython.core.display.Math object>"
      ]
     },
     "metadata": {},
     "output_type": "display_data"
    },
    {
     "name": "stdout",
     "output_type": "stream",
     "text": [
      "current estimate of \n"
     ]
    },
    {
     "data": {
      "text/latex": [
       "$\\displaystyle  \\pi: 3.076923076923077$"
      ],
      "text/plain": [
       "<IPython.core.display.Math object>"
      ]
     },
     "metadata": {},
     "output_type": "display_data"
    },
    {
     "name": "stdout",
     "output_type": "stream",
     "text": [
      "current estimate of \n"
     ]
    },
    {
     "data": {
      "text/latex": [
       "$\\displaystyle  \\pi: 3.088607594936709$"
      ],
      "text/plain": [
       "<IPython.core.display.Math object>"
      ]
     },
     "metadata": {},
     "output_type": "display_data"
    },
    {
     "name": "stdout",
     "output_type": "stream",
     "text": [
      "current estimate of \n"
     ]
    },
    {
     "data": {
      "text/latex": [
       "$\\displaystyle  \\pi: 3.1$"
      ],
      "text/plain": [
       "<IPython.core.display.Math object>"
      ]
     },
     "metadata": {},
     "output_type": "display_data"
    },
    {
     "name": "stdout",
     "output_type": "stream",
     "text": [
      "current estimate of \n"
     ]
    },
    {
     "data": {
      "text/latex": [
       "$\\displaystyle  \\pi: 3.111111111111111$"
      ],
      "text/plain": [
       "<IPython.core.display.Math object>"
      ]
     },
     "metadata": {},
     "output_type": "display_data"
    },
    {
     "name": "stdout",
     "output_type": "stream",
     "text": [
      "current estimate of \n"
     ]
    },
    {
     "data": {
      "text/latex": [
       "$\\displaystyle  \\pi: 3.1219512195121952$"
      ],
      "text/plain": [
       "<IPython.core.display.Math object>"
      ]
     },
     "metadata": {},
     "output_type": "display_data"
    },
    {
     "name": "stdout",
     "output_type": "stream",
     "text": [
      "current estimate of \n"
     ]
    },
    {
     "data": {
      "text/latex": [
       "$\\displaystyle  \\pi: 3.1325301204819276$"
      ],
      "text/plain": [
       "<IPython.core.display.Math object>"
      ]
     },
     "metadata": {},
     "output_type": "display_data"
    },
    {
     "name": "stdout",
     "output_type": "stream",
     "text": [
      "current estimate of \n"
     ]
    },
    {
     "data": {
      "text/latex": [
       "$\\displaystyle  \\pi: 3.0952380952380953$"
      ],
      "text/plain": [
       "<IPython.core.display.Math object>"
      ]
     },
     "metadata": {},
     "output_type": "display_data"
    },
    {
     "name": "stdout",
     "output_type": "stream",
     "text": [
      "current estimate of \n"
     ]
    },
    {
     "data": {
      "text/latex": [
       "$\\displaystyle  \\pi: 3.1058823529411765$"
      ],
      "text/plain": [
       "<IPython.core.display.Math object>"
      ]
     },
     "metadata": {},
     "output_type": "display_data"
    },
    {
     "name": "stdout",
     "output_type": "stream",
     "text": [
      "current estimate of \n"
     ]
    },
    {
     "data": {
      "text/latex": [
       "$\\displaystyle  \\pi: 3.116279069767442$"
      ],
      "text/plain": [
       "<IPython.core.display.Math object>"
      ]
     },
     "metadata": {},
     "output_type": "display_data"
    },
    {
     "name": "stdout",
     "output_type": "stream",
     "text": [
      "current estimate of \n"
     ]
    },
    {
     "data": {
      "text/latex": [
       "$\\displaystyle  \\pi: 3.0804597701149423$"
      ],
      "text/plain": [
       "<IPython.core.display.Math object>"
      ]
     },
     "metadata": {},
     "output_type": "display_data"
    },
    {
     "name": "stdout",
     "output_type": "stream",
     "text": [
      "current estimate of \n"
     ]
    },
    {
     "data": {
      "text/latex": [
       "$\\displaystyle  \\pi: 3.0454545454545454$"
      ],
      "text/plain": [
       "<IPython.core.display.Math object>"
      ]
     },
     "metadata": {},
     "output_type": "display_data"
    },
    {
     "name": "stdout",
     "output_type": "stream",
     "text": [
      "current estimate of \n"
     ]
    },
    {
     "data": {
      "text/latex": [
       "$\\displaystyle  \\pi: 3.056179775280899$"
      ],
      "text/plain": [
       "<IPython.core.display.Math object>"
      ]
     },
     "metadata": {},
     "output_type": "display_data"
    },
    {
     "name": "stdout",
     "output_type": "stream",
     "text": [
      "current estimate of \n"
     ]
    },
    {
     "data": {
      "text/latex": [
       "$\\displaystyle  \\pi: 3.066666666666667$"
      ],
      "text/plain": [
       "<IPython.core.display.Math object>"
      ]
     },
     "metadata": {},
     "output_type": "display_data"
    },
    {
     "name": "stdout",
     "output_type": "stream",
     "text": [
      "current estimate of \n"
     ]
    },
    {
     "data": {
      "text/latex": [
       "$\\displaystyle  \\pi: 3.076923076923077$"
      ],
      "text/plain": [
       "<IPython.core.display.Math object>"
      ]
     },
     "metadata": {},
     "output_type": "display_data"
    },
    {
     "name": "stdout",
     "output_type": "stream",
     "text": [
      "current estimate of \n"
     ]
    },
    {
     "data": {
      "text/latex": [
       "$\\displaystyle  \\pi: 3.0869565217391304$"
      ],
      "text/plain": [
       "<IPython.core.display.Math object>"
      ]
     },
     "metadata": {},
     "output_type": "display_data"
    },
    {
     "name": "stdout",
     "output_type": "stream",
     "text": [
      "current estimate of \n"
     ]
    },
    {
     "data": {
      "text/latex": [
       "$\\displaystyle  \\pi: 3.096774193548387$"
      ],
      "text/plain": [
       "<IPython.core.display.Math object>"
      ]
     },
     "metadata": {},
     "output_type": "display_data"
    },
    {
     "name": "stdout",
     "output_type": "stream",
     "text": [
      "current estimate of \n"
     ]
    },
    {
     "data": {
      "text/latex": [
       "$\\displaystyle  \\pi: 3.106382978723404$"
      ],
      "text/plain": [
       "<IPython.core.display.Math object>"
      ]
     },
     "metadata": {},
     "output_type": "display_data"
    },
    {
     "name": "stdout",
     "output_type": "stream",
     "text": [
      "current estimate of \n"
     ]
    },
    {
     "data": {
      "text/latex": [
       "$\\displaystyle  \\pi: 3.1157894736842104$"
      ],
      "text/plain": [
       "<IPython.core.display.Math object>"
      ]
     },
     "metadata": {},
     "output_type": "display_data"
    },
    {
     "name": "stdout",
     "output_type": "stream",
     "text": [
      "current estimate of \n"
     ]
    },
    {
     "data": {
      "text/latex": [
       "$\\displaystyle  \\pi: 3.125$"
      ],
      "text/plain": [
       "<IPython.core.display.Math object>"
      ]
     },
     "metadata": {},
     "output_type": "display_data"
    },
    {
     "name": "stdout",
     "output_type": "stream",
     "text": [
      "current estimate of \n"
     ]
    },
    {
     "data": {
      "text/latex": [
       "$\\displaystyle  \\pi: 3.134020618556701$"
      ],
      "text/plain": [
       "<IPython.core.display.Math object>"
      ]
     },
     "metadata": {},
     "output_type": "display_data"
    },
    {
     "name": "stdout",
     "output_type": "stream",
     "text": [
      "current estimate of \n"
     ]
    },
    {
     "data": {
      "text/latex": [
       "$\\displaystyle  \\pi: 3.142857142857143$"
      ],
      "text/plain": [
       "<IPython.core.display.Math object>"
      ]
     },
     "metadata": {},
     "output_type": "display_data"
    },
    {
     "name": "stdout",
     "output_type": "stream",
     "text": [
      "current estimate of \n"
     ]
    },
    {
     "data": {
      "text/latex": [
       "$\\displaystyle  \\pi: 3.1515151515151514$"
      ],
      "text/plain": [
       "<IPython.core.display.Math object>"
      ]
     },
     "metadata": {},
     "output_type": "display_data"
    },
    {
     "name": "stdout",
     "output_type": "stream",
     "text": [
      "current estimate of \n"
     ]
    },
    {
     "data": {
      "text/latex": [
       "$\\displaystyle  \\pi: 3.12$"
      ],
      "text/plain": [
       "<IPython.core.display.Math object>"
      ]
     },
     "metadata": {},
     "output_type": "display_data"
    },
    {
     "name": "stdout",
     "output_type": "stream",
     "text": [
      "current estimate of \n"
     ]
    },
    {
     "data": {
      "text/latex": [
       "$\\displaystyle  \\pi: 3.128712871287129$"
      ],
      "text/plain": [
       "<IPython.core.display.Math object>"
      ]
     },
     "metadata": {},
     "output_type": "display_data"
    },
    {
     "name": "stdout",
     "output_type": "stream",
     "text": [
      "current estimate of \n"
     ]
    },
    {
     "data": {
      "text/latex": [
       "$\\displaystyle  \\pi: 3.1372549019607843$"
      ],
      "text/plain": [
       "<IPython.core.display.Math object>"
      ]
     },
     "metadata": {},
     "output_type": "display_data"
    },
    {
     "name": "stdout",
     "output_type": "stream",
     "text": [
      "current estimate of \n"
     ]
    },
    {
     "data": {
      "text/latex": [
       "$\\displaystyle  \\pi: 3.145631067961165$"
      ],
      "text/plain": [
       "<IPython.core.display.Math object>"
      ]
     },
     "metadata": {},
     "output_type": "display_data"
    },
    {
     "name": "stdout",
     "output_type": "stream",
     "text": [
      "current estimate of \n"
     ]
    },
    {
     "data": {
      "text/latex": [
       "$\\displaystyle  \\pi: 3.1538461538461537$"
      ],
      "text/plain": [
       "<IPython.core.display.Math object>"
      ]
     },
     "metadata": {},
     "output_type": "display_data"
    },
    {
     "name": "stdout",
     "output_type": "stream",
     "text": [
      "current estimate of \n"
     ]
    },
    {
     "data": {
      "text/latex": [
       "$\\displaystyle  \\pi: 3.123809523809524$"
      ],
      "text/plain": [
       "<IPython.core.display.Math object>"
      ]
     },
     "metadata": {},
     "output_type": "display_data"
    },
    {
     "name": "stdout",
     "output_type": "stream",
     "text": [
      "current estimate of \n"
     ]
    },
    {
     "data": {
      "text/latex": [
       "$\\displaystyle  \\pi: 3.1320754716981134$"
      ],
      "text/plain": [
       "<IPython.core.display.Math object>"
      ]
     },
     "metadata": {},
     "output_type": "display_data"
    },
    {
     "name": "stdout",
     "output_type": "stream",
     "text": [
      "current estimate of \n"
     ]
    },
    {
     "data": {
      "text/latex": [
       "$\\displaystyle  \\pi: 3.1401869158878504$"
      ],
      "text/plain": [
       "<IPython.core.display.Math object>"
      ]
     },
     "metadata": {},
     "output_type": "display_data"
    },
    {
     "name": "stdout",
     "output_type": "stream",
     "text": [
      "current estimate of \n"
     ]
    },
    {
     "data": {
      "text/latex": [
       "$\\displaystyle  \\pi: 3.1481481481481484$"
      ],
      "text/plain": [
       "<IPython.core.display.Math object>"
      ]
     },
     "metadata": {},
     "output_type": "display_data"
    },
    {
     "name": "stdout",
     "output_type": "stream",
     "text": [
      "current estimate of \n"
     ]
    },
    {
     "data": {
      "text/latex": [
       "$\\displaystyle  \\pi: 3.1559633027522938$"
      ],
      "text/plain": [
       "<IPython.core.display.Math object>"
      ]
     },
     "metadata": {},
     "output_type": "display_data"
    },
    {
     "name": "stdout",
     "output_type": "stream",
     "text": [
      "current estimate of \n"
     ]
    },
    {
     "data": {
      "text/latex": [
       "$\\displaystyle  \\pi: 3.1272727272727274$"
      ],
      "text/plain": [
       "<IPython.core.display.Math object>"
      ]
     },
     "metadata": {},
     "output_type": "display_data"
    },
    {
     "name": "stdout",
     "output_type": "stream",
     "text": [
      "current estimate of \n"
     ]
    },
    {
     "data": {
      "text/latex": [
       "$\\displaystyle  \\pi: 3.135135135135135$"
      ],
      "text/plain": [
       "<IPython.core.display.Math object>"
      ]
     },
     "metadata": {},
     "output_type": "display_data"
    },
    {
     "name": "stdout",
     "output_type": "stream",
     "text": [
      "current estimate of \n"
     ]
    },
    {
     "data": {
      "text/latex": [
       "$\\displaystyle  \\pi: 3.142857142857143$"
      ],
      "text/plain": [
       "<IPython.core.display.Math object>"
      ]
     },
     "metadata": {},
     "output_type": "display_data"
    },
    {
     "name": "stdout",
     "output_type": "stream",
     "text": [
      "current estimate of \n"
     ]
    },
    {
     "data": {
      "text/latex": [
       "$\\displaystyle  \\pi: 3.150442477876106$"
      ],
      "text/plain": [
       "<IPython.core.display.Math object>"
      ]
     },
     "metadata": {},
     "output_type": "display_data"
    },
    {
     "name": "stdout",
     "output_type": "stream",
     "text": [
      "current estimate of \n"
     ]
    },
    {
     "data": {
      "text/latex": [
       "$\\displaystyle  \\pi: 3.1578947368421053$"
      ],
      "text/plain": [
       "<IPython.core.display.Math object>"
      ]
     },
     "metadata": {},
     "output_type": "display_data"
    },
    {
     "name": "stdout",
     "output_type": "stream",
     "text": [
      "current estimate of \n"
     ]
    },
    {
     "data": {
      "text/latex": [
       "$\\displaystyle  \\pi: 3.1652173913043478$"
      ],
      "text/plain": [
       "<IPython.core.display.Math object>"
      ]
     },
     "metadata": {},
     "output_type": "display_data"
    },
    {
     "name": "stdout",
     "output_type": "stream",
     "text": [
      "current estimate of \n"
     ]
    },
    {
     "data": {
      "text/latex": [
       "$\\displaystyle  \\pi: 3.1724137931034484$"
      ],
      "text/plain": [
       "<IPython.core.display.Math object>"
      ]
     },
     "metadata": {},
     "output_type": "display_data"
    },
    {
     "name": "stdout",
     "output_type": "stream",
     "text": [
      "current estimate of \n"
     ]
    },
    {
     "data": {
      "text/latex": [
       "$\\displaystyle  \\pi: 3.1452991452991452$"
      ],
      "text/plain": [
       "<IPython.core.display.Math object>"
      ]
     },
     "metadata": {},
     "output_type": "display_data"
    },
    {
     "name": "stdout",
     "output_type": "stream",
     "text": [
      "current estimate of \n"
     ]
    },
    {
     "data": {
      "text/latex": [
       "$\\displaystyle  \\pi: 3.152542372881356$"
      ],
      "text/plain": [
       "<IPython.core.display.Math object>"
      ]
     },
     "metadata": {},
     "output_type": "display_data"
    },
    {
     "name": "stdout",
     "output_type": "stream",
     "text": [
      "current estimate of \n"
     ]
    },
    {
     "data": {
      "text/latex": [
       "$\\displaystyle  \\pi: 3.1596638655462184$"
      ],
      "text/plain": [
       "<IPython.core.display.Math object>"
      ]
     },
     "metadata": {},
     "output_type": "display_data"
    },
    {
     "name": "stdout",
     "output_type": "stream",
     "text": [
      "current estimate of \n"
     ]
    },
    {
     "data": {
      "text/latex": [
       "$\\displaystyle  \\pi: 3.1666666666666665$"
      ],
      "text/plain": [
       "<IPython.core.display.Math object>"
      ]
     },
     "metadata": {},
     "output_type": "display_data"
    },
    {
     "name": "stdout",
     "output_type": "stream",
     "text": [
      "current estimate of \n"
     ]
    },
    {
     "data": {
      "text/latex": [
       "$\\displaystyle  \\pi: 3.1404958677685952$"
      ],
      "text/plain": [
       "<IPython.core.display.Math object>"
      ]
     },
     "metadata": {},
     "output_type": "display_data"
    },
    {
     "name": "stdout",
     "output_type": "stream",
     "text": [
      "current estimate of \n"
     ]
    },
    {
     "data": {
      "text/latex": [
       "$\\displaystyle  \\pi: 3.1475409836065573$"
      ],
      "text/plain": [
       "<IPython.core.display.Math object>"
      ]
     },
     "metadata": {},
     "output_type": "display_data"
    },
    {
     "name": "stdout",
     "output_type": "stream",
     "text": [
      "current estimate of \n"
     ]
    },
    {
     "data": {
      "text/latex": [
       "$\\displaystyle  \\pi: 3.154471544715447$"
      ],
      "text/plain": [
       "<IPython.core.display.Math object>"
      ]
     },
     "metadata": {},
     "output_type": "display_data"
    },
    {
     "name": "stdout",
     "output_type": "stream",
     "text": [
      "current estimate of \n"
     ]
    },
    {
     "data": {
      "text/latex": [
       "$\\displaystyle  \\pi: 3.129032258064516$"
      ],
      "text/plain": [
       "<IPython.core.display.Math object>"
      ]
     },
     "metadata": {},
     "output_type": "display_data"
    },
    {
     "name": "stdout",
     "output_type": "stream",
     "text": [
      "current estimate of \n"
     ]
    },
    {
     "data": {
      "text/latex": [
       "$\\displaystyle  \\pi: 3.136$"
      ],
      "text/plain": [
       "<IPython.core.display.Math object>"
      ]
     },
     "metadata": {},
     "output_type": "display_data"
    },
    {
     "name": "stdout",
     "output_type": "stream",
     "text": [
      "current estimate of \n"
     ]
    },
    {
     "data": {
      "text/latex": [
       "$\\displaystyle  \\pi: 3.142857142857143$"
      ],
      "text/plain": [
       "<IPython.core.display.Math object>"
      ]
     },
     "metadata": {},
     "output_type": "display_data"
    },
    {
     "name": "stdout",
     "output_type": "stream",
     "text": [
      "current estimate of \n"
     ]
    },
    {
     "data": {
      "text/latex": [
       "$\\displaystyle  \\pi: 3.1181102362204722$"
      ],
      "text/plain": [
       "<IPython.core.display.Math object>"
      ]
     },
     "metadata": {},
     "output_type": "display_data"
    },
    {
     "name": "stdout",
     "output_type": "stream",
     "text": [
      "current estimate of \n"
     ]
    },
    {
     "data": {
      "text/latex": [
       "$\\displaystyle  \\pi: 3.125$"
      ],
      "text/plain": [
       "<IPython.core.display.Math object>"
      ]
     },
     "metadata": {},
     "output_type": "display_data"
    },
    {
     "name": "stdout",
     "output_type": "stream",
     "text": [
      "current estimate of \n"
     ]
    },
    {
     "data": {
      "text/latex": [
       "$\\displaystyle  \\pi: 3.10077519379845$"
      ],
      "text/plain": [
       "<IPython.core.display.Math object>"
      ]
     },
     "metadata": {},
     "output_type": "display_data"
    },
    {
     "name": "stdout",
     "output_type": "stream",
     "text": [
      "current estimate of \n"
     ]
    },
    {
     "data": {
      "text/latex": [
       "$\\displaystyle  \\pi: 3.1076923076923078$"
      ],
      "text/plain": [
       "<IPython.core.display.Math object>"
      ]
     },
     "metadata": {},
     "output_type": "display_data"
    },
    {
     "name": "stdout",
     "output_type": "stream",
     "text": [
      "current estimate of \n"
     ]
    },
    {
     "data": {
      "text/latex": [
       "$\\displaystyle  \\pi: 3.114503816793893$"
      ],
      "text/plain": [
       "<IPython.core.display.Math object>"
      ]
     },
     "metadata": {},
     "output_type": "display_data"
    },
    {
     "name": "stdout",
     "output_type": "stream",
     "text": [
      "current estimate of \n"
     ]
    },
    {
     "data": {
      "text/latex": [
       "$\\displaystyle  \\pi: 3.121212121212121$"
      ],
      "text/plain": [
       "<IPython.core.display.Math object>"
      ]
     },
     "metadata": {},
     "output_type": "display_data"
    },
    {
     "name": "stdout",
     "output_type": "stream",
     "text": [
      "current estimate of \n"
     ]
    },
    {
     "data": {
      "text/latex": [
       "$\\displaystyle  \\pi: 3.0977443609022557$"
      ],
      "text/plain": [
       "<IPython.core.display.Math object>"
      ]
     },
     "metadata": {},
     "output_type": "display_data"
    },
    {
     "name": "stdout",
     "output_type": "stream",
     "text": [
      "current estimate of \n"
     ]
    },
    {
     "data": {
      "text/latex": [
       "$\\displaystyle  \\pi: 3.1044776119402986$"
      ],
      "text/plain": [
       "<IPython.core.display.Math object>"
      ]
     },
     "metadata": {},
     "output_type": "display_data"
    },
    {
     "name": "stdout",
     "output_type": "stream",
     "text": [
      "current estimate of \n"
     ]
    },
    {
     "data": {
      "text/latex": [
       "$\\displaystyle  \\pi: 3.111111111111111$"
      ],
      "text/plain": [
       "<IPython.core.display.Math object>"
      ]
     },
     "metadata": {},
     "output_type": "display_data"
    },
    {
     "name": "stdout",
     "output_type": "stream",
     "text": [
      "current estimate of \n"
     ]
    },
    {
     "data": {
      "text/latex": [
       "$\\displaystyle  \\pi: 3.088235294117647$"
      ],
      "text/plain": [
       "<IPython.core.display.Math object>"
      ]
     },
     "metadata": {},
     "output_type": "display_data"
    },
    {
     "name": "stdout",
     "output_type": "stream",
     "text": [
      "current estimate of \n"
     ]
    },
    {
     "data": {
      "text/latex": [
       "$\\displaystyle  \\pi: 3.0948905109489053$"
      ],
      "text/plain": [
       "<IPython.core.display.Math object>"
      ]
     },
     "metadata": {},
     "output_type": "display_data"
    },
    {
     "name": "stdout",
     "output_type": "stream",
     "text": [
      "current estimate of \n"
     ]
    },
    {
     "data": {
      "text/latex": [
       "$\\displaystyle  \\pi: 3.101449275362319$"
      ],
      "text/plain": [
       "<IPython.core.display.Math object>"
      ]
     },
     "metadata": {},
     "output_type": "display_data"
    },
    {
     "name": "stdout",
     "output_type": "stream",
     "text": [
      "current estimate of \n"
     ]
    },
    {
     "data": {
      "text/latex": [
       "$\\displaystyle  \\pi: 3.079136690647482$"
      ],
      "text/plain": [
       "<IPython.core.display.Math object>"
      ]
     },
     "metadata": {},
     "output_type": "display_data"
    },
    {
     "name": "stdout",
     "output_type": "stream",
     "text": [
      "current estimate of \n"
     ]
    },
    {
     "data": {
      "text/latex": [
       "$\\displaystyle  \\pi: 3.085714285714286$"
      ],
      "text/plain": [
       "<IPython.core.display.Math object>"
      ]
     },
     "metadata": {},
     "output_type": "display_data"
    },
    {
     "name": "stdout",
     "output_type": "stream",
     "text": [
      "current estimate of \n"
     ]
    },
    {
     "data": {
      "text/latex": [
       "$\\displaystyle  \\pi: 3.0638297872340425$"
      ],
      "text/plain": [
       "<IPython.core.display.Math object>"
      ]
     },
     "metadata": {},
     "output_type": "display_data"
    },
    {
     "name": "stdout",
     "output_type": "stream",
     "text": [
      "current estimate of \n"
     ]
    },
    {
     "data": {
      "text/latex": [
       "$\\displaystyle  \\pi: 3.0704225352112675$"
      ],
      "text/plain": [
       "<IPython.core.display.Math object>"
      ]
     },
     "metadata": {},
     "output_type": "display_data"
    },
    {
     "name": "stdout",
     "output_type": "stream",
     "text": [
      "current estimate of \n"
     ]
    },
    {
     "data": {
      "text/latex": [
       "$\\displaystyle  \\pi: 3.0489510489510487$"
      ],
      "text/plain": [
       "<IPython.core.display.Math object>"
      ]
     },
     "metadata": {},
     "output_type": "display_data"
    },
    {
     "name": "stdout",
     "output_type": "stream",
     "text": [
      "current estimate of \n"
     ]
    },
    {
     "data": {
      "text/latex": [
       "$\\displaystyle  \\pi: 3.0555555555555554$"
      ],
      "text/plain": [
       "<IPython.core.display.Math object>"
      ]
     },
     "metadata": {},
     "output_type": "display_data"
    },
    {
     "name": "stdout",
     "output_type": "stream",
     "text": [
      "current estimate of \n"
     ]
    },
    {
     "data": {
      "text/latex": [
       "$\\displaystyle  \\pi: 3.0620689655172413$"
      ],
      "text/plain": [
       "<IPython.core.display.Math object>"
      ]
     },
     "metadata": {},
     "output_type": "display_data"
    },
    {
     "name": "stdout",
     "output_type": "stream",
     "text": [
      "current estimate of \n"
     ]
    },
    {
     "data": {
      "text/latex": [
       "$\\displaystyle  \\pi: 3.0684931506849313$"
      ],
      "text/plain": [
       "<IPython.core.display.Math object>"
      ]
     },
     "metadata": {},
     "output_type": "display_data"
    },
    {
     "name": "stdout",
     "output_type": "stream",
     "text": [
      "current estimate of \n"
     ]
    },
    {
     "data": {
      "text/latex": [
       "$\\displaystyle  \\pi: 3.074829931972789$"
      ],
      "text/plain": [
       "<IPython.core.display.Math object>"
      ]
     },
     "metadata": {},
     "output_type": "display_data"
    },
    {
     "name": "stdout",
     "output_type": "stream",
     "text": [
      "current estimate of \n"
     ]
    },
    {
     "data": {
      "text/latex": [
       "$\\displaystyle  \\pi: 3.081081081081081$"
      ],
      "text/plain": [
       "<IPython.core.display.Math object>"
      ]
     },
     "metadata": {},
     "output_type": "display_data"
    },
    {
     "name": "stdout",
     "output_type": "stream",
     "text": [
      "current estimate of \n"
     ]
    },
    {
     "data": {
      "text/latex": [
       "$\\displaystyle  \\pi: 3.087248322147651$"
      ],
      "text/plain": [
       "<IPython.core.display.Math object>"
      ]
     },
     "metadata": {},
     "output_type": "display_data"
    },
    {
     "name": "stdout",
     "output_type": "stream",
     "text": [
      "current estimate of \n"
     ]
    },
    {
     "data": {
      "text/latex": [
       "$\\displaystyle  \\pi: 3.0933333333333333$"
      ],
      "text/plain": [
       "<IPython.core.display.Math object>"
      ]
     },
     "metadata": {},
     "output_type": "display_data"
    },
    {
     "name": "stdout",
     "output_type": "stream",
     "text": [
      "current estimate of \n"
     ]
    },
    {
     "data": {
      "text/latex": [
       "$\\displaystyle  \\pi: 3.0993377483443707$"
      ],
      "text/plain": [
       "<IPython.core.display.Math object>"
      ]
     },
     "metadata": {},
     "output_type": "display_data"
    },
    {
     "name": "stdout",
     "output_type": "stream",
     "text": [
      "current estimate of \n"
     ]
    },
    {
     "data": {
      "text/latex": [
       "$\\displaystyle  \\pi: 3.1052631578947367$"
      ],
      "text/plain": [
       "<IPython.core.display.Math object>"
      ]
     },
     "metadata": {},
     "output_type": "display_data"
    },
    {
     "name": "stdout",
     "output_type": "stream",
     "text": [
      "current estimate of \n"
     ]
    },
    {
     "data": {
      "text/latex": [
       "$\\displaystyle  \\pi: 3.111111111111111$"
      ],
      "text/plain": [
       "<IPython.core.display.Math object>"
      ]
     },
     "metadata": {},
     "output_type": "display_data"
    },
    {
     "name": "stdout",
     "output_type": "stream",
     "text": [
      "current estimate of \n"
     ]
    },
    {
     "data": {
      "text/latex": [
       "$\\displaystyle  \\pi: 3.116883116883117$"
      ],
      "text/plain": [
       "<IPython.core.display.Math object>"
      ]
     },
     "metadata": {},
     "output_type": "display_data"
    },
    {
     "name": "stdout",
     "output_type": "stream",
     "text": [
      "current estimate of \n"
     ]
    },
    {
     "data": {
      "text/latex": [
       "$\\displaystyle  \\pi: 3.1225806451612903$"
      ],
      "text/plain": [
       "<IPython.core.display.Math object>"
      ]
     },
     "metadata": {},
     "output_type": "display_data"
    },
    {
     "name": "stdout",
     "output_type": "stream",
     "text": [
      "current estimate of \n"
     ]
    },
    {
     "data": {
      "text/latex": [
       "$\\displaystyle  \\pi: 3.128205128205128$"
      ],
      "text/plain": [
       "<IPython.core.display.Math object>"
      ]
     },
     "metadata": {},
     "output_type": "display_data"
    },
    {
     "name": "stdout",
     "output_type": "stream",
     "text": [
      "current estimate of \n"
     ]
    },
    {
     "data": {
      "text/latex": [
       "$\\displaystyle  \\pi: 3.1337579617834397$"
      ],
      "text/plain": [
       "<IPython.core.display.Math object>"
      ]
     },
     "metadata": {},
     "output_type": "display_data"
    },
    {
     "name": "stdout",
     "output_type": "stream",
     "text": [
      "current estimate of \n"
     ]
    },
    {
     "data": {
      "text/latex": [
       "$\\displaystyle  \\pi: 3.1139240506329116$"
      ],
      "text/plain": [
       "<IPython.core.display.Math object>"
      ]
     },
     "metadata": {},
     "output_type": "display_data"
    },
    {
     "name": "stdout",
     "output_type": "stream",
     "text": [
      "current estimate of \n"
     ]
    },
    {
     "data": {
      "text/latex": [
       "$\\displaystyle  \\pi: 3.119496855345912$"
      ],
      "text/plain": [
       "<IPython.core.display.Math object>"
      ]
     },
     "metadata": {},
     "output_type": "display_data"
    },
    {
     "name": "stdout",
     "output_type": "stream",
     "text": [
      "current estimate of \n"
     ]
    },
    {
     "data": {
      "text/latex": [
       "$\\displaystyle  \\pi: 3.1$"
      ],
      "text/plain": [
       "<IPython.core.display.Math object>"
      ]
     },
     "metadata": {},
     "output_type": "display_data"
    },
    {
     "name": "stdout",
     "output_type": "stream",
     "text": [
      "current estimate of \n"
     ]
    },
    {
     "data": {
      "text/latex": [
       "$\\displaystyle  \\pi: 3.1055900621118013$"
      ],
      "text/plain": [
       "<IPython.core.display.Math object>"
      ]
     },
     "metadata": {},
     "output_type": "display_data"
    },
    {
     "name": "stdout",
     "output_type": "stream",
     "text": [
      "current estimate of \n"
     ]
    },
    {
     "data": {
      "text/latex": [
       "$\\displaystyle  \\pi: 3.0864197530864197$"
      ],
      "text/plain": [
       "<IPython.core.display.Math object>"
      ]
     },
     "metadata": {},
     "output_type": "display_data"
    },
    {
     "name": "stdout",
     "output_type": "stream",
     "text": [
      "current estimate of \n"
     ]
    },
    {
     "data": {
      "text/latex": [
       "$\\displaystyle  \\pi: 3.0920245398773005$"
      ],
      "text/plain": [
       "<IPython.core.display.Math object>"
      ]
     },
     "metadata": {},
     "output_type": "display_data"
    },
    {
     "name": "stdout",
     "output_type": "stream",
     "text": [
      "current estimate of \n"
     ]
    },
    {
     "data": {
      "text/latex": [
       "$\\displaystyle  \\pi: 3.073170731707317$"
      ],
      "text/plain": [
       "<IPython.core.display.Math object>"
      ]
     },
     "metadata": {},
     "output_type": "display_data"
    },
    {
     "name": "stdout",
     "output_type": "stream",
     "text": [
      "current estimate of \n"
     ]
    },
    {
     "data": {
      "text/latex": [
       "$\\displaystyle  \\pi: 3.0787878787878786$"
      ],
      "text/plain": [
       "<IPython.core.display.Math object>"
      ]
     },
     "metadata": {},
     "output_type": "display_data"
    },
    {
     "name": "stdout",
     "output_type": "stream",
     "text": [
      "current estimate of \n"
     ]
    },
    {
     "data": {
      "text/latex": [
       "$\\displaystyle  \\pi: 3.0843373493975905$"
      ],
      "text/plain": [
       "<IPython.core.display.Math object>"
      ]
     },
     "metadata": {},
     "output_type": "display_data"
    },
    {
     "name": "stdout",
     "output_type": "stream",
     "text": [
      "current estimate of \n"
     ]
    },
    {
     "data": {
      "text/latex": [
       "$\\displaystyle  \\pi: 3.065868263473054$"
      ],
      "text/plain": [
       "<IPython.core.display.Math object>"
      ]
     },
     "metadata": {},
     "output_type": "display_data"
    },
    {
     "name": "stdout",
     "output_type": "stream",
     "text": [
      "current estimate of \n"
     ]
    },
    {
     "data": {
      "text/latex": [
       "$\\displaystyle  \\pi: 3.0476190476190474$"
      ],
      "text/plain": [
       "<IPython.core.display.Math object>"
      ]
     },
     "metadata": {},
     "output_type": "display_data"
    },
    {
     "name": "stdout",
     "output_type": "stream",
     "text": [
      "current estimate of \n"
     ]
    },
    {
     "data": {
      "text/latex": [
       "$\\displaystyle  \\pi: 3.029585798816568$"
      ],
      "text/plain": [
       "<IPython.core.display.Math object>"
      ]
     },
     "metadata": {},
     "output_type": "display_data"
    },
    {
     "name": "stdout",
     "output_type": "stream",
     "text": [
      "current estimate of \n"
     ]
    },
    {
     "data": {
      "text/latex": [
       "$\\displaystyle  \\pi: 3.0352941176470587$"
      ],
      "text/plain": [
       "<IPython.core.display.Math object>"
      ]
     },
     "metadata": {},
     "output_type": "display_data"
    },
    {
     "name": "stdout",
     "output_type": "stream",
     "text": [
      "current estimate of \n"
     ]
    },
    {
     "data": {
      "text/latex": [
       "$\\displaystyle  \\pi: 3.017543859649123$"
      ],
      "text/plain": [
       "<IPython.core.display.Math object>"
      ]
     },
     "metadata": {},
     "output_type": "display_data"
    },
    {
     "name": "stdout",
     "output_type": "stream",
     "text": [
      "current estimate of \n"
     ]
    },
    {
     "data": {
      "text/latex": [
       "$\\displaystyle  \\pi: 3.0232558139534884$"
      ],
      "text/plain": [
       "<IPython.core.display.Math object>"
      ]
     },
     "metadata": {},
     "output_type": "display_data"
    },
    {
     "name": "stdout",
     "output_type": "stream",
     "text": [
      "current estimate of \n"
     ]
    },
    {
     "data": {
      "text/latex": [
       "$\\displaystyle  \\pi: 3.0289017341040463$"
      ],
      "text/plain": [
       "<IPython.core.display.Math object>"
      ]
     },
     "metadata": {},
     "output_type": "display_data"
    },
    {
     "name": "stdout",
     "output_type": "stream",
     "text": [
      "current estimate of \n"
     ]
    },
    {
     "data": {
      "text/latex": [
       "$\\displaystyle  \\pi: 3.0344827586206895$"
      ],
      "text/plain": [
       "<IPython.core.display.Math object>"
      ]
     },
     "metadata": {},
     "output_type": "display_data"
    },
    {
     "name": "stdout",
     "output_type": "stream",
     "text": [
      "current estimate of \n"
     ]
    },
    {
     "data": {
      "text/latex": [
       "$\\displaystyle  \\pi: 3.04$"
      ],
      "text/plain": [
       "<IPython.core.display.Math object>"
      ]
     },
     "metadata": {},
     "output_type": "display_data"
    },
    {
     "name": "stdout",
     "output_type": "stream",
     "text": [
      "current estimate of \n"
     ]
    },
    {
     "data": {
      "text/latex": [
       "$\\displaystyle  \\pi: 3.022727272727273$"
      ],
      "text/plain": [
       "<IPython.core.display.Math object>"
      ]
     },
     "metadata": {},
     "output_type": "display_data"
    },
    {
     "name": "stdout",
     "output_type": "stream",
     "text": [
      "current estimate of \n"
     ]
    },
    {
     "data": {
      "text/latex": [
       "$\\displaystyle  \\pi: 3.0282485875706215$"
      ],
      "text/plain": [
       "<IPython.core.display.Math object>"
      ]
     },
     "metadata": {},
     "output_type": "display_data"
    },
    {
     "name": "stdout",
     "output_type": "stream",
     "text": [
      "current estimate of \n"
     ]
    },
    {
     "data": {
      "text/latex": [
       "$\\displaystyle  \\pi: 3.033707865168539$"
      ],
      "text/plain": [
       "<IPython.core.display.Math object>"
      ]
     },
     "metadata": {},
     "output_type": "display_data"
    },
    {
     "name": "stdout",
     "output_type": "stream",
     "text": [
      "current estimate of \n"
     ]
    },
    {
     "data": {
      "text/latex": [
       "$\\displaystyle  \\pi: 3.0391061452513966$"
      ],
      "text/plain": [
       "<IPython.core.display.Math object>"
      ]
     },
     "metadata": {},
     "output_type": "display_data"
    },
    {
     "name": "stdout",
     "output_type": "stream",
     "text": [
      "current estimate of \n"
     ]
    },
    {
     "data": {
      "text/latex": [
       "$\\displaystyle  \\pi: 3.0444444444444443$"
      ],
      "text/plain": [
       "<IPython.core.display.Math object>"
      ]
     },
     "metadata": {},
     "output_type": "display_data"
    },
    {
     "name": "stdout",
     "output_type": "stream",
     "text": [
      "current estimate of \n"
     ]
    },
    {
     "data": {
      "text/latex": [
       "$\\displaystyle  \\pi: 3.027624309392265$"
      ],
      "text/plain": [
       "<IPython.core.display.Math object>"
      ]
     },
     "metadata": {},
     "output_type": "display_data"
    },
    {
     "name": "stdout",
     "output_type": "stream",
     "text": [
      "current estimate of \n"
     ]
    },
    {
     "data": {
      "text/latex": [
       "$\\displaystyle  \\pi: 3.032967032967033$"
      ],
      "text/plain": [
       "<IPython.core.display.Math object>"
      ]
     },
     "metadata": {},
     "output_type": "display_data"
    },
    {
     "name": "stdout",
     "output_type": "stream",
     "text": [
      "current estimate of \n"
     ]
    },
    {
     "data": {
      "text/latex": [
       "$\\displaystyle  \\pi: 3.0382513661202184$"
      ],
      "text/plain": [
       "<IPython.core.display.Math object>"
      ]
     },
     "metadata": {},
     "output_type": "display_data"
    },
    {
     "name": "stdout",
     "output_type": "stream",
     "text": [
      "current estimate of \n"
     ]
    },
    {
     "data": {
      "text/latex": [
       "$\\displaystyle  \\pi: 3.0217391304347827$"
      ],
      "text/plain": [
       "<IPython.core.display.Math object>"
      ]
     },
     "metadata": {},
     "output_type": "display_data"
    },
    {
     "name": "stdout",
     "output_type": "stream",
     "text": [
      "current estimate of \n"
     ]
    },
    {
     "data": {
      "text/latex": [
       "$\\displaystyle  \\pi: 3.027027027027027$"
      ],
      "text/plain": [
       "<IPython.core.display.Math object>"
      ]
     },
     "metadata": {},
     "output_type": "display_data"
    },
    {
     "name": "stdout",
     "output_type": "stream",
     "text": [
      "current estimate of \n"
     ]
    },
    {
     "data": {
      "text/latex": [
       "$\\displaystyle  \\pi: 3.032258064516129$"
      ],
      "text/plain": [
       "<IPython.core.display.Math object>"
      ]
     },
     "metadata": {},
     "output_type": "display_data"
    },
    {
     "name": "stdout",
     "output_type": "stream",
     "text": [
      "current estimate of \n"
     ]
    },
    {
     "data": {
      "text/latex": [
       "$\\displaystyle  \\pi: 3.016042780748663$"
      ],
      "text/plain": [
       "<IPython.core.display.Math object>"
      ]
     },
     "metadata": {},
     "output_type": "display_data"
    },
    {
     "name": "stdout",
     "output_type": "stream",
     "text": [
      "current estimate of \n"
     ]
    },
    {
     "data": {
      "text/latex": [
       "$\\displaystyle  \\pi: 3.021276595744681$"
      ],
      "text/plain": [
       "<IPython.core.display.Math object>"
      ]
     },
     "metadata": {},
     "output_type": "display_data"
    },
    {
     "name": "stdout",
     "output_type": "stream",
     "text": [
      "current estimate of \n"
     ]
    },
    {
     "data": {
      "text/latex": [
       "$\\displaystyle  \\pi: 3.0264550264550265$"
      ],
      "text/plain": [
       "<IPython.core.display.Math object>"
      ]
     },
     "metadata": {},
     "output_type": "display_data"
    },
    {
     "name": "stdout",
     "output_type": "stream",
     "text": [
      "current estimate of \n"
     ]
    },
    {
     "data": {
      "text/latex": [
       "$\\displaystyle  \\pi: 3.031578947368421$"
      ],
      "text/plain": [
       "<IPython.core.display.Math object>"
      ]
     },
     "metadata": {},
     "output_type": "display_data"
    },
    {
     "name": "stdout",
     "output_type": "stream",
     "text": [
      "current estimate of \n"
     ]
    },
    {
     "data": {
      "text/latex": [
       "$\\displaystyle  \\pi: 3.0366492146596857$"
      ],
      "text/plain": [
       "<IPython.core.display.Math object>"
      ]
     },
     "metadata": {},
     "output_type": "display_data"
    },
    {
     "name": "stdout",
     "output_type": "stream",
     "text": [
      "current estimate of \n"
     ]
    },
    {
     "data": {
      "text/latex": [
       "$\\displaystyle  \\pi: 3.0416666666666665$"
      ],
      "text/plain": [
       "<IPython.core.display.Math object>"
      ]
     },
     "metadata": {},
     "output_type": "display_data"
    },
    {
     "name": "stdout",
     "output_type": "stream",
     "text": [
      "current estimate of \n"
     ]
    },
    {
     "data": {
      "text/latex": [
       "$\\displaystyle  \\pi: 3.0466321243523318$"
      ],
      "text/plain": [
       "<IPython.core.display.Math object>"
      ]
     },
     "metadata": {},
     "output_type": "display_data"
    },
    {
     "name": "stdout",
     "output_type": "stream",
     "text": [
      "current estimate of \n"
     ]
    },
    {
     "data": {
      "text/latex": [
       "$\\displaystyle  \\pi: 3.0309278350515463$"
      ],
      "text/plain": [
       "<IPython.core.display.Math object>"
      ]
     },
     "metadata": {},
     "output_type": "display_data"
    },
    {
     "name": "stdout",
     "output_type": "stream",
     "text": [
      "current estimate of \n"
     ]
    },
    {
     "data": {
      "text/latex": [
       "$\\displaystyle  \\pi: 3.0358974358974358$"
      ],
      "text/plain": [
       "<IPython.core.display.Math object>"
      ]
     },
     "metadata": {},
     "output_type": "display_data"
    },
    {
     "name": "stdout",
     "output_type": "stream",
     "text": [
      "current estimate of \n"
     ]
    },
    {
     "data": {
      "text/latex": [
       "$\\displaystyle  \\pi: 3.0408163265306123$"
      ],
      "text/plain": [
       "<IPython.core.display.Math object>"
      ]
     },
     "metadata": {},
     "output_type": "display_data"
    },
    {
     "name": "stdout",
     "output_type": "stream",
     "text": [
      "current estimate of \n"
     ]
    },
    {
     "data": {
      "text/latex": [
       "$\\displaystyle  \\pi: 3.045685279187817$"
      ],
      "text/plain": [
       "<IPython.core.display.Math object>"
      ]
     },
     "metadata": {},
     "output_type": "display_data"
    },
    {
     "name": "stdout",
     "output_type": "stream",
     "text": [
      "current estimate of \n"
     ]
    },
    {
     "data": {
      "text/latex": [
       "$\\displaystyle  \\pi: 3.0303030303030303$"
      ],
      "text/plain": [
       "<IPython.core.display.Math object>"
      ]
     },
     "metadata": {},
     "output_type": "display_data"
    },
    {
     "name": "stdout",
     "output_type": "stream",
     "text": [
      "current estimate of \n"
     ]
    },
    {
     "data": {
      "text/latex": [
       "$\\displaystyle  \\pi: 3.0351758793969847$"
      ],
      "text/plain": [
       "<IPython.core.display.Math object>"
      ]
     },
     "metadata": {},
     "output_type": "display_data"
    },
    {
     "name": "stdout",
     "output_type": "stream",
     "text": [
      "current estimate of \n"
     ]
    },
    {
     "data": {
      "text/latex": [
       "$\\displaystyle  \\pi: 3.04$"
      ],
      "text/plain": [
       "<IPython.core.display.Math object>"
      ]
     },
     "metadata": {},
     "output_type": "display_data"
    },
    {
     "name": "stdout",
     "output_type": "stream",
     "text": [
      "current estimate of \n"
     ]
    },
    {
     "data": {
      "text/latex": [
       "$\\displaystyle  \\pi: 3.0248756218905473$"
      ],
      "text/plain": [
       "<IPython.core.display.Math object>"
      ]
     },
     "metadata": {},
     "output_type": "display_data"
    },
    {
     "name": "stdout",
     "output_type": "stream",
     "text": [
      "current estimate of \n"
     ]
    },
    {
     "data": {
      "text/latex": [
       "$\\displaystyle  \\pi: 3.0297029702970297$"
      ],
      "text/plain": [
       "<IPython.core.display.Math object>"
      ]
     },
     "metadata": {},
     "output_type": "display_data"
    },
    {
     "name": "stdout",
     "output_type": "stream",
     "text": [
      "current estimate of \n"
     ]
    },
    {
     "data": {
      "text/latex": [
       "$\\displaystyle  \\pi: 3.0344827586206895$"
      ],
      "text/plain": [
       "<IPython.core.display.Math object>"
      ]
     },
     "metadata": {},
     "output_type": "display_data"
    },
    {
     "name": "stdout",
     "output_type": "stream",
     "text": [
      "current estimate of \n"
     ]
    },
    {
     "data": {
      "text/latex": [
       "$\\displaystyle  \\pi: 3.019607843137255$"
      ],
      "text/plain": [
       "<IPython.core.display.Math object>"
      ]
     },
     "metadata": {},
     "output_type": "display_data"
    },
    {
     "name": "stdout",
     "output_type": "stream",
     "text": [
      "current estimate of \n"
     ]
    },
    {
     "data": {
      "text/latex": [
       "$\\displaystyle  \\pi: 3.024390243902439$"
      ],
      "text/plain": [
       "<IPython.core.display.Math object>"
      ]
     },
     "metadata": {},
     "output_type": "display_data"
    },
    {
     "name": "stdout",
     "output_type": "stream",
     "text": [
      "current estimate of \n"
     ]
    },
    {
     "data": {
      "text/latex": [
       "$\\displaystyle  \\pi: 3.029126213592233$"
      ],
      "text/plain": [
       "<IPython.core.display.Math object>"
      ]
     },
     "metadata": {},
     "output_type": "display_data"
    },
    {
     "name": "stdout",
     "output_type": "stream",
     "text": [
      "current estimate of \n"
     ]
    },
    {
     "data": {
      "text/latex": [
       "$\\displaystyle  \\pi: 3.033816425120773$"
      ],
      "text/plain": [
       "<IPython.core.display.Math object>"
      ]
     },
     "metadata": {},
     "output_type": "display_data"
    },
    {
     "name": "stdout",
     "output_type": "stream",
     "text": [
      "current estimate of \n"
     ]
    },
    {
     "data": {
      "text/latex": [
       "$\\displaystyle  \\pi: 3.0384615384615383$"
      ],
      "text/plain": [
       "<IPython.core.display.Math object>"
      ]
     },
     "metadata": {},
     "output_type": "display_data"
    },
    {
     "name": "stdout",
     "output_type": "stream",
     "text": [
      "current estimate of \n"
     ]
    },
    {
     "data": {
      "text/latex": [
       "$\\displaystyle  \\pi: 3.0430622009569377$"
      ],
      "text/plain": [
       "<IPython.core.display.Math object>"
      ]
     },
     "metadata": {},
     "output_type": "display_data"
    },
    {
     "name": "stdout",
     "output_type": "stream",
     "text": [
      "current estimate of \n"
     ]
    },
    {
     "data": {
      "text/latex": [
       "$\\displaystyle  \\pi: 3.0476190476190474$"
      ],
      "text/plain": [
       "<IPython.core.display.Math object>"
      ]
     },
     "metadata": {},
     "output_type": "display_data"
    },
    {
     "name": "stdout",
     "output_type": "stream",
     "text": [
      "current estimate of \n"
     ]
    },
    {
     "data": {
      "text/latex": [
       "$\\displaystyle  \\pi: 3.052132701421801$"
      ],
      "text/plain": [
       "<IPython.core.display.Math object>"
      ]
     },
     "metadata": {},
     "output_type": "display_data"
    },
    {
     "name": "stdout",
     "output_type": "stream",
     "text": [
      "current estimate of \n"
     ]
    },
    {
     "data": {
      "text/latex": [
       "$\\displaystyle  \\pi: 3.056603773584906$"
      ],
      "text/plain": [
       "<IPython.core.display.Math object>"
      ]
     },
     "metadata": {},
     "output_type": "display_data"
    },
    {
     "name": "stdout",
     "output_type": "stream",
     "text": [
      "current estimate of \n"
     ]
    },
    {
     "data": {
      "text/latex": [
       "$\\displaystyle  \\pi: 3.0610328638497655$"
      ],
      "text/plain": [
       "<IPython.core.display.Math object>"
      ]
     },
     "metadata": {},
     "output_type": "display_data"
    },
    {
     "name": "stdout",
     "output_type": "stream",
     "text": [
      "current estimate of \n"
     ]
    },
    {
     "data": {
      "text/latex": [
       "$\\displaystyle  \\pi: 3.0654205607476634$"
      ],
      "text/plain": [
       "<IPython.core.display.Math object>"
      ]
     },
     "metadata": {},
     "output_type": "display_data"
    },
    {
     "name": "stdout",
     "output_type": "stream",
     "text": [
      "current estimate of \n"
     ]
    },
    {
     "data": {
      "text/latex": [
       "$\\displaystyle  \\pi: 3.0697674418604652$"
      ],
      "text/plain": [
       "<IPython.core.display.Math object>"
      ]
     },
     "metadata": {},
     "output_type": "display_data"
    },
    {
     "name": "stdout",
     "output_type": "stream",
     "text": [
      "current estimate of \n"
     ]
    },
    {
     "data": {
      "text/latex": [
       "$\\displaystyle  \\pi: 3.074074074074074$"
      ],
      "text/plain": [
       "<IPython.core.display.Math object>"
      ]
     },
     "metadata": {},
     "output_type": "display_data"
    },
    {
     "name": "stdout",
     "output_type": "stream",
     "text": [
      "current estimate of \n"
     ]
    },
    {
     "data": {
      "text/latex": [
       "$\\displaystyle  \\pi: 3.0599078341013826$"
      ],
      "text/plain": [
       "<IPython.core.display.Math object>"
      ]
     },
     "metadata": {},
     "output_type": "display_data"
    },
    {
     "name": "stdout",
     "output_type": "stream",
     "text": [
      "current estimate of \n"
     ]
    },
    {
     "data": {
      "text/latex": [
       "$\\displaystyle  \\pi: 3.0642201834862384$"
      ],
      "text/plain": [
       "<IPython.core.display.Math object>"
      ]
     },
     "metadata": {},
     "output_type": "display_data"
    },
    {
     "name": "stdout",
     "output_type": "stream",
     "text": [
      "current estimate of \n"
     ]
    },
    {
     "data": {
      "text/latex": [
       "$\\displaystyle  \\pi: 3.0684931506849313$"
      ],
      "text/plain": [
       "<IPython.core.display.Math object>"
      ]
     },
     "metadata": {},
     "output_type": "display_data"
    },
    {
     "name": "stdout",
     "output_type": "stream",
     "text": [
      "current estimate of \n"
     ]
    },
    {
     "data": {
      "text/latex": [
       "$\\displaystyle  \\pi: 3.0727272727272728$"
      ],
      "text/plain": [
       "<IPython.core.display.Math object>"
      ]
     },
     "metadata": {},
     "output_type": "display_data"
    },
    {
     "name": "stdout",
     "output_type": "stream",
     "text": [
      "current estimate of \n"
     ]
    },
    {
     "data": {
      "text/latex": [
       "$\\displaystyle  \\pi: 3.076923076923077$"
      ],
      "text/plain": [
       "<IPython.core.display.Math object>"
      ]
     },
     "metadata": {},
     "output_type": "display_data"
    },
    {
     "name": "stdout",
     "output_type": "stream",
     "text": [
      "current estimate of \n"
     ]
    },
    {
     "data": {
      "text/latex": [
       "$\\displaystyle  \\pi: 3.081081081081081$"
      ],
      "text/plain": [
       "<IPython.core.display.Math object>"
      ]
     },
     "metadata": {},
     "output_type": "display_data"
    },
    {
     "name": "stdout",
     "output_type": "stream",
     "text": [
      "current estimate of \n"
     ]
    },
    {
     "data": {
      "text/latex": [
       "$\\displaystyle  \\pi: 3.085201793721973$"
      ],
      "text/plain": [
       "<IPython.core.display.Math object>"
      ]
     },
     "metadata": {},
     "output_type": "display_data"
    },
    {
     "name": "stdout",
     "output_type": "stream",
     "text": [
      "current estimate of \n"
     ]
    },
    {
     "data": {
      "text/latex": [
       "$\\displaystyle  \\pi: 3.0892857142857144$"
      ],
      "text/plain": [
       "<IPython.core.display.Math object>"
      ]
     },
     "metadata": {},
     "output_type": "display_data"
    },
    {
     "name": "stdout",
     "output_type": "stream",
     "text": [
      "current estimate of \n"
     ]
    },
    {
     "data": {
      "text/latex": [
       "$\\displaystyle  \\pi: 3.0933333333333333$"
      ],
      "text/plain": [
       "<IPython.core.display.Math object>"
      ]
     },
     "metadata": {},
     "output_type": "display_data"
    },
    {
     "name": "stdout",
     "output_type": "stream",
     "text": [
      "current estimate of \n"
     ]
    },
    {
     "data": {
      "text/latex": [
       "$\\displaystyle  \\pi: 3.0973451327433628$"
      ],
      "text/plain": [
       "<IPython.core.display.Math object>"
      ]
     },
     "metadata": {},
     "output_type": "display_data"
    },
    {
     "name": "stdout",
     "output_type": "stream",
     "text": [
      "current estimate of \n"
     ]
    },
    {
     "data": {
      "text/latex": [
       "$\\displaystyle  \\pi: 3.101321585903084$"
      ],
      "text/plain": [
       "<IPython.core.display.Math object>"
      ]
     },
     "metadata": {},
     "output_type": "display_data"
    },
    {
     "name": "stdout",
     "output_type": "stream",
     "text": [
      "current estimate of \n"
     ]
    },
    {
     "data": {
      "text/latex": [
       "$\\displaystyle  \\pi: 3.1052631578947367$"
      ],
      "text/plain": [
       "<IPython.core.display.Math object>"
      ]
     },
     "metadata": {},
     "output_type": "display_data"
    },
    {
     "name": "stdout",
     "output_type": "stream",
     "text": [
      "current estimate of \n"
     ]
    },
    {
     "data": {
      "text/latex": [
       "$\\displaystyle  \\pi: 3.109170305676856$"
      ],
      "text/plain": [
       "<IPython.core.display.Math object>"
      ]
     },
     "metadata": {},
     "output_type": "display_data"
    },
    {
     "name": "stdout",
     "output_type": "stream",
     "text": [
      "current estimate of \n"
     ]
    },
    {
     "data": {
      "text/latex": [
       "$\\displaystyle  \\pi: 3.1130434782608694$"
      ],
      "text/plain": [
       "<IPython.core.display.Math object>"
      ]
     },
     "metadata": {},
     "output_type": "display_data"
    },
    {
     "name": "stdout",
     "output_type": "stream",
     "text": [
      "current estimate of \n"
     ]
    },
    {
     "data": {
      "text/latex": [
       "$\\displaystyle  \\pi: 3.0995670995670994$"
      ],
      "text/plain": [
       "<IPython.core.display.Math object>"
      ]
     },
     "metadata": {},
     "output_type": "display_data"
    },
    {
     "name": "stdout",
     "output_type": "stream",
     "text": [
      "current estimate of \n"
     ]
    },
    {
     "data": {
      "text/latex": [
       "$\\displaystyle  \\pi: 3.103448275862069$"
      ],
      "text/plain": [
       "<IPython.core.display.Math object>"
      ]
     },
     "metadata": {},
     "output_type": "display_data"
    },
    {
     "name": "stdout",
     "output_type": "stream",
     "text": [
      "current estimate of \n"
     ]
    },
    {
     "data": {
      "text/latex": [
       "$\\displaystyle  \\pi: 3.107296137339056$"
      ],
      "text/plain": [
       "<IPython.core.display.Math object>"
      ]
     },
     "metadata": {},
     "output_type": "display_data"
    },
    {
     "name": "stdout",
     "output_type": "stream",
     "text": [
      "current estimate of \n"
     ]
    },
    {
     "data": {
      "text/latex": [
       "$\\displaystyle  \\pi: 3.094017094017094$"
      ],
      "text/plain": [
       "<IPython.core.display.Math object>"
      ]
     },
     "metadata": {},
     "output_type": "display_data"
    },
    {
     "name": "stdout",
     "output_type": "stream",
     "text": [
      "current estimate of \n"
     ]
    },
    {
     "data": {
      "text/latex": [
       "$\\displaystyle  \\pi: 3.097872340425532$"
      ],
      "text/plain": [
       "<IPython.core.display.Math object>"
      ]
     },
     "metadata": {},
     "output_type": "display_data"
    },
    {
     "name": "stdout",
     "output_type": "stream",
     "text": [
      "current estimate of \n"
     ]
    },
    {
     "data": {
      "text/latex": [
       "$\\displaystyle  \\pi: 3.0847457627118646$"
      ],
      "text/plain": [
       "<IPython.core.display.Math object>"
      ]
     },
     "metadata": {},
     "output_type": "display_data"
    },
    {
     "name": "stdout",
     "output_type": "stream",
     "text": [
      "current estimate of \n"
     ]
    },
    {
     "data": {
      "text/latex": [
       "$\\displaystyle  \\pi: 3.071729957805907$"
      ],
      "text/plain": [
       "<IPython.core.display.Math object>"
      ]
     },
     "metadata": {},
     "output_type": "display_data"
    },
    {
     "name": "stdout",
     "output_type": "stream",
     "text": [
      "current estimate of \n"
     ]
    },
    {
     "data": {
      "text/latex": [
       "$\\displaystyle  \\pi: 3.0756302521008405$"
      ],
      "text/plain": [
       "<IPython.core.display.Math object>"
      ]
     },
     "metadata": {},
     "output_type": "display_data"
    },
    {
     "name": "stdout",
     "output_type": "stream",
     "text": [
      "current estimate of \n"
     ]
    },
    {
     "data": {
      "text/latex": [
       "$\\displaystyle  \\pi: 3.062761506276151$"
      ],
      "text/plain": [
       "<IPython.core.display.Math object>"
      ]
     },
     "metadata": {},
     "output_type": "display_data"
    },
    {
     "name": "stdout",
     "output_type": "stream",
     "text": [
      "current estimate of \n"
     ]
    },
    {
     "data": {
      "text/latex": [
       "$\\displaystyle  \\pi: 3.05$"
      ],
      "text/plain": [
       "<IPython.core.display.Math object>"
      ]
     },
     "metadata": {},
     "output_type": "display_data"
    },
    {
     "name": "stdout",
     "output_type": "stream",
     "text": [
      "current estimate of \n"
     ]
    },
    {
     "data": {
      "text/latex": [
       "$\\displaystyle  \\pi: 3.0539419087136928$"
      ],
      "text/plain": [
       "<IPython.core.display.Math object>"
      ]
     },
     "metadata": {},
     "output_type": "display_data"
    },
    {
     "name": "stdout",
     "output_type": "stream",
     "text": [
      "current estimate of \n"
     ]
    },
    {
     "data": {
      "text/latex": [
       "$\\displaystyle  \\pi: 3.0578512396694215$"
      ],
      "text/plain": [
       "<IPython.core.display.Math object>"
      ]
     },
     "metadata": {},
     "output_type": "display_data"
    },
    {
     "name": "stdout",
     "output_type": "stream",
     "text": [
      "current estimate of \n"
     ]
    },
    {
     "data": {
      "text/latex": [
       "$\\displaystyle  \\pi: 3.0617283950617282$"
      ],
      "text/plain": [
       "<IPython.core.display.Math object>"
      ]
     },
     "metadata": {},
     "output_type": "display_data"
    },
    {
     "name": "stdout",
     "output_type": "stream",
     "text": [
      "current estimate of \n"
     ]
    },
    {
     "data": {
      "text/latex": [
       "$\\displaystyle  \\pi: 3.0655737704918034$"
      ],
      "text/plain": [
       "<IPython.core.display.Math object>"
      ]
     },
     "metadata": {},
     "output_type": "display_data"
    },
    {
     "name": "stdout",
     "output_type": "stream",
     "text": [
      "current estimate of \n"
     ]
    },
    {
     "data": {
      "text/latex": [
       "$\\displaystyle  \\pi: 3.0693877551020408$"
      ],
      "text/plain": [
       "<IPython.core.display.Math object>"
      ]
     },
     "metadata": {},
     "output_type": "display_data"
    },
    {
     "name": "stdout",
     "output_type": "stream",
     "text": [
      "current estimate of \n"
     ]
    },
    {
     "data": {
      "text/latex": [
       "$\\displaystyle  \\pi: 3.0569105691056913$"
      ],
      "text/plain": [
       "<IPython.core.display.Math object>"
      ]
     },
     "metadata": {},
     "output_type": "display_data"
    },
    {
     "name": "stdout",
     "output_type": "stream",
     "text": [
      "current estimate of \n"
     ]
    },
    {
     "data": {
      "text/latex": [
       "$\\displaystyle  \\pi: 3.0607287449392713$"
      ],
      "text/plain": [
       "<IPython.core.display.Math object>"
      ]
     },
     "metadata": {},
     "output_type": "display_data"
    },
    {
     "name": "stdout",
     "output_type": "stream",
     "text": [
      "current estimate of \n"
     ]
    },
    {
     "data": {
      "text/latex": [
       "$\\displaystyle  \\pi: 3.064516129032258$"
      ],
      "text/plain": [
       "<IPython.core.display.Math object>"
      ]
     },
     "metadata": {},
     "output_type": "display_data"
    },
    {
     "name": "stdout",
     "output_type": "stream",
     "text": [
      "current estimate of \n"
     ]
    },
    {
     "data": {
      "text/latex": [
       "$\\displaystyle  \\pi: 3.068273092369478$"
      ],
      "text/plain": [
       "<IPython.core.display.Math object>"
      ]
     },
     "metadata": {},
     "output_type": "display_data"
    },
    {
     "name": "stdout",
     "output_type": "stream",
     "text": [
      "current estimate of \n"
     ]
    },
    {
     "data": {
      "text/latex": [
       "$\\displaystyle  \\pi: 3.072$"
      ],
      "text/plain": [
       "<IPython.core.display.Math object>"
      ]
     },
     "metadata": {},
     "output_type": "display_data"
    },
    {
     "name": "stdout",
     "output_type": "stream",
     "text": [
      "current estimate of \n"
     ]
    },
    {
     "data": {
      "text/latex": [
       "$\\displaystyle  \\pi: 3.0756972111553784$"
      ],
      "text/plain": [
       "<IPython.core.display.Math object>"
      ]
     },
     "metadata": {},
     "output_type": "display_data"
    },
    {
     "name": "stdout",
     "output_type": "stream",
     "text": [
      "current estimate of \n"
     ]
    },
    {
     "data": {
      "text/latex": [
       "$\\displaystyle  \\pi: 3.0793650793650795$"
      ],
      "text/plain": [
       "<IPython.core.display.Math object>"
      ]
     },
     "metadata": {},
     "output_type": "display_data"
    },
    {
     "name": "stdout",
     "output_type": "stream",
     "text": [
      "current estimate of \n"
     ]
    },
    {
     "data": {
      "text/latex": [
       "$\\displaystyle  \\pi: 3.08300395256917$"
      ],
      "text/plain": [
       "<IPython.core.display.Math object>"
      ]
     },
     "metadata": {},
     "output_type": "display_data"
    },
    {
     "name": "stdout",
     "output_type": "stream",
     "text": [
      "current estimate of \n"
     ]
    },
    {
     "data": {
      "text/latex": [
       "$\\displaystyle  \\pi: 3.0866141732283463$"
      ],
      "text/plain": [
       "<IPython.core.display.Math object>"
      ]
     },
     "metadata": {},
     "output_type": "display_data"
    },
    {
     "name": "stdout",
     "output_type": "stream",
     "text": [
      "current estimate of \n"
     ]
    },
    {
     "data": {
      "text/latex": [
       "$\\displaystyle  \\pi: 3.0901960784313727$"
      ],
      "text/plain": [
       "<IPython.core.display.Math object>"
      ]
     },
     "metadata": {},
     "output_type": "display_data"
    },
    {
     "name": "stdout",
     "output_type": "stream",
     "text": [
      "current estimate of \n"
     ]
    },
    {
     "data": {
      "text/latex": [
       "$\\displaystyle  \\pi: 3.078125$"
      ],
      "text/plain": [
       "<IPython.core.display.Math object>"
      ]
     },
     "metadata": {},
     "output_type": "display_data"
    },
    {
     "name": "stdout",
     "output_type": "stream",
     "text": [
      "current estimate of \n"
     ]
    },
    {
     "data": {
      "text/latex": [
       "$\\displaystyle  \\pi: 3.0817120622568095$"
      ],
      "text/plain": [
       "<IPython.core.display.Math object>"
      ]
     },
     "metadata": {},
     "output_type": "display_data"
    },
    {
     "name": "stdout",
     "output_type": "stream",
     "text": [
      "current estimate of \n"
     ]
    },
    {
     "data": {
      "text/latex": [
       "$\\displaystyle  \\pi: 3.0852713178294575$"
      ],
      "text/plain": [
       "<IPython.core.display.Math object>"
      ]
     },
     "metadata": {},
     "output_type": "display_data"
    },
    {
     "name": "stdout",
     "output_type": "stream",
     "text": [
      "current estimate of \n"
     ]
    },
    {
     "data": {
      "text/latex": [
       "$\\displaystyle  \\pi: 3.088803088803089$"
      ],
      "text/plain": [
       "<IPython.core.display.Math object>"
      ]
     },
     "metadata": {},
     "output_type": "display_data"
    },
    {
     "name": "stdout",
     "output_type": "stream",
     "text": [
      "current estimate of \n"
     ]
    },
    {
     "data": {
      "text/latex": [
       "$\\displaystyle  \\pi: 3.0923076923076924$"
      ],
      "text/plain": [
       "<IPython.core.display.Math object>"
      ]
     },
     "metadata": {},
     "output_type": "display_data"
    },
    {
     "name": "stdout",
     "output_type": "stream",
     "text": [
      "current estimate of \n"
     ]
    },
    {
     "data": {
      "text/latex": [
       "$\\displaystyle  \\pi: 3.0957854406130267$"
      ],
      "text/plain": [
       "<IPython.core.display.Math object>"
      ]
     },
     "metadata": {},
     "output_type": "display_data"
    },
    {
     "name": "stdout",
     "output_type": "stream",
     "text": [
      "current estimate of \n"
     ]
    },
    {
     "data": {
      "text/latex": [
       "$\\displaystyle  \\pi: 3.0839694656488548$"
      ],
      "text/plain": [
       "<IPython.core.display.Math object>"
      ]
     },
     "metadata": {},
     "output_type": "display_data"
    },
    {
     "name": "stdout",
     "output_type": "stream",
     "text": [
      "current estimate of \n"
     ]
    },
    {
     "data": {
      "text/latex": [
       "$\\displaystyle  \\pi: 3.08745247148289$"
      ],
      "text/plain": [
       "<IPython.core.display.Math object>"
      ]
     },
     "metadata": {},
     "output_type": "display_data"
    },
    {
     "name": "stdout",
     "output_type": "stream",
     "text": [
      "current estimate of \n"
     ]
    },
    {
     "data": {
      "text/latex": [
       "$\\displaystyle  \\pi: 3.0757575757575757$"
      ],
      "text/plain": [
       "<IPython.core.display.Math object>"
      ]
     },
     "metadata": {},
     "output_type": "display_data"
    },
    {
     "name": "stdout",
     "output_type": "stream",
     "text": [
      "current estimate of \n"
     ]
    },
    {
     "data": {
      "text/latex": [
       "$\\displaystyle  \\pi: 3.079245283018868$"
      ],
      "text/plain": [
       "<IPython.core.display.Math object>"
      ]
     },
     "metadata": {},
     "output_type": "display_data"
    },
    {
     "name": "stdout",
     "output_type": "stream",
     "text": [
      "current estimate of \n"
     ]
    },
    {
     "data": {
      "text/latex": [
       "$\\displaystyle  \\pi: 3.082706766917293$"
      ],
      "text/plain": [
       "<IPython.core.display.Math object>"
      ]
     },
     "metadata": {},
     "output_type": "display_data"
    },
    {
     "name": "stdout",
     "output_type": "stream",
     "text": [
      "current estimate of \n"
     ]
    },
    {
     "data": {
      "text/latex": [
       "$\\displaystyle  \\pi: 3.0861423220973783$"
      ],
      "text/plain": [
       "<IPython.core.display.Math object>"
      ]
     },
     "metadata": {},
     "output_type": "display_data"
    },
    {
     "name": "stdout",
     "output_type": "stream",
     "text": [
      "current estimate of \n"
     ]
    },
    {
     "data": {
      "text/latex": [
       "$\\displaystyle  \\pi: 3.08955223880597$"
      ],
      "text/plain": [
       "<IPython.core.display.Math object>"
      ]
     },
     "metadata": {},
     "output_type": "display_data"
    },
    {
     "name": "stdout",
     "output_type": "stream",
     "text": [
      "current estimate of \n"
     ]
    },
    {
     "data": {
      "text/latex": [
       "$\\displaystyle  \\pi: 3.092936802973978$"
      ],
      "text/plain": [
       "<IPython.core.display.Math object>"
      ]
     },
     "metadata": {},
     "output_type": "display_data"
    },
    {
     "name": "stdout",
     "output_type": "stream",
     "text": [
      "current estimate of \n"
     ]
    },
    {
     "data": {
      "text/latex": [
       "$\\displaystyle  \\pi: 3.096296296296296$"
      ],
      "text/plain": [
       "<IPython.core.display.Math object>"
      ]
     },
     "metadata": {},
     "output_type": "display_data"
    },
    {
     "name": "stdout",
     "output_type": "stream",
     "text": [
      "current estimate of \n"
     ]
    },
    {
     "data": {
      "text/latex": [
       "$\\displaystyle  \\pi: 3.084870848708487$"
      ],
      "text/plain": [
       "<IPython.core.display.Math object>"
      ]
     },
     "metadata": {},
     "output_type": "display_data"
    },
    {
     "name": "stdout",
     "output_type": "stream",
     "text": [
      "current estimate of \n"
     ]
    },
    {
     "data": {
      "text/latex": [
       "$\\displaystyle  \\pi: 3.088235294117647$"
      ],
      "text/plain": [
       "<IPython.core.display.Math object>"
      ]
     },
     "metadata": {},
     "output_type": "display_data"
    },
    {
     "name": "stdout",
     "output_type": "stream",
     "text": [
      "current estimate of \n"
     ]
    },
    {
     "data": {
      "text/latex": [
       "$\\displaystyle  \\pi: 3.0915750915750917$"
      ],
      "text/plain": [
       "<IPython.core.display.Math object>"
      ]
     },
     "metadata": {},
     "output_type": "display_data"
    },
    {
     "name": "stdout",
     "output_type": "stream",
     "text": [
      "current estimate of \n"
     ]
    },
    {
     "data": {
      "text/latex": [
       "$\\displaystyle  \\pi: 3.0948905109489053$"
      ],
      "text/plain": [
       "<IPython.core.display.Math object>"
      ]
     },
     "metadata": {},
     "output_type": "display_data"
    },
    {
     "name": "stdout",
     "output_type": "stream",
     "text": [
      "current estimate of \n"
     ]
    },
    {
     "data": {
      "text/latex": [
       "$\\displaystyle  \\pi: 3.0836363636363635$"
      ],
      "text/plain": [
       "<IPython.core.display.Math object>"
      ]
     },
     "metadata": {},
     "output_type": "display_data"
    },
    {
     "name": "stdout",
     "output_type": "stream",
     "text": [
      "current estimate of \n"
     ]
    },
    {
     "data": {
      "text/latex": [
       "$\\displaystyle  \\pi: 3.0869565217391304$"
      ],
      "text/plain": [
       "<IPython.core.display.Math object>"
      ]
     },
     "metadata": {},
     "output_type": "display_data"
    },
    {
     "name": "stdout",
     "output_type": "stream",
     "text": [
      "current estimate of \n"
     ]
    },
    {
     "data": {
      "text/latex": [
       "$\\displaystyle  \\pi: 3.0902527075812274$"
      ],
      "text/plain": [
       "<IPython.core.display.Math object>"
      ]
     },
     "metadata": {},
     "output_type": "display_data"
    },
    {
     "name": "stdout",
     "output_type": "stream",
     "text": [
      "current estimate of \n"
     ]
    },
    {
     "data": {
      "text/latex": [
       "$\\displaystyle  \\pi: 3.093525179856115$"
      ],
      "text/plain": [
       "<IPython.core.display.Math object>"
      ]
     },
     "metadata": {},
     "output_type": "display_data"
    },
    {
     "name": "stdout",
     "output_type": "stream",
     "text": [
      "current estimate of \n"
     ]
    },
    {
     "data": {
      "text/latex": [
       "$\\displaystyle  \\pi: 3.082437275985663$"
      ],
      "text/plain": [
       "<IPython.core.display.Math object>"
      ]
     },
     "metadata": {},
     "output_type": "display_data"
    },
    {
     "name": "stdout",
     "output_type": "stream",
     "text": [
      "current estimate of \n"
     ]
    },
    {
     "data": {
      "text/latex": [
       "$\\displaystyle  \\pi: 3.085714285714286$"
      ],
      "text/plain": [
       "<IPython.core.display.Math object>"
      ]
     },
     "metadata": {},
     "output_type": "display_data"
    },
    {
     "name": "stdout",
     "output_type": "stream",
     "text": [
      "current estimate of \n"
     ]
    },
    {
     "data": {
      "text/latex": [
       "$\\displaystyle  \\pi: 3.088967971530249$"
      ],
      "text/plain": [
       "<IPython.core.display.Math object>"
      ]
     },
     "metadata": {},
     "output_type": "display_data"
    },
    {
     "name": "stdout",
     "output_type": "stream",
     "text": [
      "current estimate of \n"
     ]
    },
    {
     "data": {
      "text/latex": [
       "$\\displaystyle  \\pi: 3.078014184397163$"
      ],
      "text/plain": [
       "<IPython.core.display.Math object>"
      ]
     },
     "metadata": {},
     "output_type": "display_data"
    },
    {
     "name": "stdout",
     "output_type": "stream",
     "text": [
      "current estimate of \n"
     ]
    },
    {
     "data": {
      "text/latex": [
       "$\\displaystyle  \\pi: 3.067137809187279$"
      ],
      "text/plain": [
       "<IPython.core.display.Math object>"
      ]
     },
     "metadata": {},
     "output_type": "display_data"
    },
    {
     "name": "stdout",
     "output_type": "stream",
     "text": [
      "current estimate of \n"
     ]
    },
    {
     "data": {
      "text/latex": [
       "$\\displaystyle  \\pi: 3.0704225352112675$"
      ],
      "text/plain": [
       "<IPython.core.display.Math object>"
      ]
     },
     "metadata": {},
     "output_type": "display_data"
    },
    {
     "name": "stdout",
     "output_type": "stream",
     "text": [
      "current estimate of \n"
     ]
    },
    {
     "data": {
      "text/latex": [
       "$\\displaystyle  \\pi: 3.0736842105263156$"
      ],
      "text/plain": [
       "<IPython.core.display.Math object>"
      ]
     },
     "metadata": {},
     "output_type": "display_data"
    },
    {
     "name": "stdout",
     "output_type": "stream",
     "text": [
      "current estimate of \n"
     ]
    },
    {
     "data": {
      "text/latex": [
       "$\\displaystyle  \\pi: 3.062937062937063$"
      ],
      "text/plain": [
       "<IPython.core.display.Math object>"
      ]
     },
     "metadata": {},
     "output_type": "display_data"
    },
    {
     "name": "stdout",
     "output_type": "stream",
     "text": [
      "current estimate of \n"
     ]
    },
    {
     "data": {
      "text/latex": [
       "$\\displaystyle  \\pi: 3.0662020905923346$"
      ],
      "text/plain": [
       "<IPython.core.display.Math object>"
      ]
     },
     "metadata": {},
     "output_type": "display_data"
    },
    {
     "name": "stdout",
     "output_type": "stream",
     "text": [
      "current estimate of \n"
     ]
    },
    {
     "data": {
      "text/latex": [
       "$\\displaystyle  \\pi: 3.0694444444444446$"
      ],
      "text/plain": [
       "<IPython.core.display.Math object>"
      ]
     },
     "metadata": {},
     "output_type": "display_data"
    },
    {
     "name": "stdout",
     "output_type": "stream",
     "text": [
      "current estimate of \n"
     ]
    },
    {
     "data": {
      "text/latex": [
       "$\\displaystyle  \\pi: 3.0726643598615917$"
      ],
      "text/plain": [
       "<IPython.core.display.Math object>"
      ]
     },
     "metadata": {},
     "output_type": "display_data"
    },
    {
     "name": "stdout",
     "output_type": "stream",
     "text": [
      "current estimate of \n"
     ]
    },
    {
     "data": {
      "text/latex": [
       "$\\displaystyle  \\pi: 3.075862068965517$"
      ],
      "text/plain": [
       "<IPython.core.display.Math object>"
      ]
     },
     "metadata": {},
     "output_type": "display_data"
    },
    {
     "name": "stdout",
     "output_type": "stream",
     "text": [
      "current estimate of \n"
     ]
    },
    {
     "data": {
      "text/latex": [
       "$\\displaystyle  \\pi: 3.0652920962199315$"
      ],
      "text/plain": [
       "<IPython.core.display.Math object>"
      ]
     },
     "metadata": {},
     "output_type": "display_data"
    },
    {
     "name": "stdout",
     "output_type": "stream",
     "text": [
      "current estimate of \n"
     ]
    },
    {
     "data": {
      "text/latex": [
       "$\\displaystyle  \\pi: 3.0547945205479454$"
      ],
      "text/plain": [
       "<IPython.core.display.Math object>"
      ]
     },
     "metadata": {},
     "output_type": "display_data"
    },
    {
     "name": "stdout",
     "output_type": "stream",
     "text": [
      "current estimate of \n"
     ]
    },
    {
     "data": {
      "text/latex": [
       "$\\displaystyle  \\pi: 3.0580204778157$"
      ],
      "text/plain": [
       "<IPython.core.display.Math object>"
      ]
     },
     "metadata": {},
     "output_type": "display_data"
    },
    {
     "name": "stdout",
     "output_type": "stream",
     "text": [
      "current estimate of \n"
     ]
    },
    {
     "data": {
      "text/latex": [
       "$\\displaystyle  \\pi: 3.061224489795918$"
      ],
      "text/plain": [
       "<IPython.core.display.Math object>"
      ]
     },
     "metadata": {},
     "output_type": "display_data"
    },
    {
     "name": "stdout",
     "output_type": "stream",
     "text": [
      "current estimate of \n"
     ]
    },
    {
     "data": {
      "text/latex": [
       "$\\displaystyle  \\pi: 3.0508474576271185$"
      ],
      "text/plain": [
       "<IPython.core.display.Math object>"
      ]
     },
     "metadata": {},
     "output_type": "display_data"
    },
    {
     "name": "stdout",
     "output_type": "stream",
     "text": [
      "current estimate of \n"
     ]
    },
    {
     "data": {
      "text/latex": [
       "$\\displaystyle  \\pi: 3.054054054054054$"
      ],
      "text/plain": [
       "<IPython.core.display.Math object>"
      ]
     },
     "metadata": {},
     "output_type": "display_data"
    },
    {
     "name": "stdout",
     "output_type": "stream",
     "text": [
      "current estimate of \n"
     ]
    },
    {
     "data": {
      "text/latex": [
       "$\\displaystyle  \\pi: 3.057239057239057$"
      ],
      "text/plain": [
       "<IPython.core.display.Math object>"
      ]
     },
     "metadata": {},
     "output_type": "display_data"
    },
    {
     "name": "stdout",
     "output_type": "stream",
     "text": [
      "current estimate of \n"
     ]
    },
    {
     "data": {
      "text/latex": [
       "$\\displaystyle  \\pi: 3.0604026845637584$"
      ],
      "text/plain": [
       "<IPython.core.display.Math object>"
      ]
     },
     "metadata": {},
     "output_type": "display_data"
    },
    {
     "name": "stdout",
     "output_type": "stream",
     "text": [
      "current estimate of \n"
     ]
    },
    {
     "data": {
      "text/latex": [
       "$\\displaystyle  \\pi: 3.0635451505016724$"
      ],
      "text/plain": [
       "<IPython.core.display.Math object>"
      ]
     },
     "metadata": {},
     "output_type": "display_data"
    },
    {
     "name": "stdout",
     "output_type": "stream",
     "text": [
      "current estimate of \n"
     ]
    },
    {
     "data": {
      "text/latex": [
       "$\\displaystyle  \\pi: 3.066666666666667$"
      ],
      "text/plain": [
       "<IPython.core.display.Math object>"
      ]
     },
     "metadata": {},
     "output_type": "display_data"
    },
    {
     "name": "stdout",
     "output_type": "stream",
     "text": [
      "current estimate of \n"
     ]
    },
    {
     "data": {
      "text/latex": [
       "$\\displaystyle  \\pi: 3.0564784053156147$"
      ],
      "text/plain": [
       "<IPython.core.display.Math object>"
      ]
     },
     "metadata": {},
     "output_type": "display_data"
    },
    {
     "name": "stdout",
     "output_type": "stream",
     "text": [
      "current estimate of \n"
     ]
    },
    {
     "data": {
      "text/latex": [
       "$\\displaystyle  \\pi: 3.0463576158940397$"
      ],
      "text/plain": [
       "<IPython.core.display.Math object>"
      ]
     },
     "metadata": {},
     "output_type": "display_data"
    },
    {
     "name": "stdout",
     "output_type": "stream",
     "text": [
      "current estimate of \n"
     ]
    },
    {
     "data": {
      "text/latex": [
       "$\\displaystyle  \\pi: 3.0495049504950495$"
      ],
      "text/plain": [
       "<IPython.core.display.Math object>"
      ]
     },
     "metadata": {},
     "output_type": "display_data"
    },
    {
     "name": "stdout",
     "output_type": "stream",
     "text": [
      "current estimate of \n"
     ]
    },
    {
     "data": {
      "text/latex": [
       "$\\displaystyle  \\pi: 3.0526315789473686$"
      ],
      "text/plain": [
       "<IPython.core.display.Math object>"
      ]
     },
     "metadata": {},
     "output_type": "display_data"
    },
    {
     "name": "stdout",
     "output_type": "stream",
     "text": [
      "current estimate of \n"
     ]
    },
    {
     "data": {
      "text/latex": [
       "$\\displaystyle  \\pi: 3.042622950819672$"
      ],
      "text/plain": [
       "<IPython.core.display.Math object>"
      ]
     },
     "metadata": {},
     "output_type": "display_data"
    },
    {
     "name": "stdout",
     "output_type": "stream",
     "text": [
      "current estimate of \n"
     ]
    },
    {
     "data": {
      "text/latex": [
       "$\\displaystyle  \\pi: 3.045751633986928$"
      ],
      "text/plain": [
       "<IPython.core.display.Math object>"
      ]
     },
     "metadata": {},
     "output_type": "display_data"
    },
    {
     "name": "stdout",
     "output_type": "stream",
     "text": [
      "current estimate of \n"
     ]
    },
    {
     "data": {
      "text/latex": [
       "$\\displaystyle  \\pi: 3.04885993485342$"
      ],
      "text/plain": [
       "<IPython.core.display.Math object>"
      ]
     },
     "metadata": {},
     "output_type": "display_data"
    },
    {
     "name": "stdout",
     "output_type": "stream",
     "text": [
      "current estimate of \n"
     ]
    },
    {
     "data": {
      "text/latex": [
       "$\\displaystyle  \\pi: 3.051948051948052$"
      ],
      "text/plain": [
       "<IPython.core.display.Math object>"
      ]
     },
     "metadata": {},
     "output_type": "display_data"
    },
    {
     "name": "stdout",
     "output_type": "stream",
     "text": [
      "current estimate of \n"
     ]
    },
    {
     "data": {
      "text/latex": [
       "$\\displaystyle  \\pi: 3.0550161812297736$"
      ],
      "text/plain": [
       "<IPython.core.display.Math object>"
      ]
     },
     "metadata": {},
     "output_type": "display_data"
    },
    {
     "name": "stdout",
     "output_type": "stream",
     "text": [
      "current estimate of \n"
     ]
    },
    {
     "data": {
      "text/latex": [
       "$\\displaystyle  \\pi: 3.0580645161290323$"
      ],
      "text/plain": [
       "<IPython.core.display.Math object>"
      ]
     },
     "metadata": {},
     "output_type": "display_data"
    },
    {
     "name": "stdout",
     "output_type": "stream",
     "text": [
      "current estimate of \n"
     ]
    },
    {
     "data": {
      "text/latex": [
       "$\\displaystyle  \\pi: 3.0610932475884245$"
      ],
      "text/plain": [
       "<IPython.core.display.Math object>"
      ]
     },
     "metadata": {},
     "output_type": "display_data"
    },
    {
     "name": "stdout",
     "output_type": "stream",
     "text": [
      "current estimate of \n"
     ]
    },
    {
     "data": {
      "text/latex": [
       "$\\displaystyle  \\pi: 3.0641025641025643$"
      ],
      "text/plain": [
       "<IPython.core.display.Math object>"
      ]
     },
     "metadata": {},
     "output_type": "display_data"
    },
    {
     "name": "stdout",
     "output_type": "stream",
     "text": [
      "current estimate of \n"
     ]
    },
    {
     "data": {
      "text/latex": [
       "$\\displaystyle  \\pi: 3.0670926517571884$"
      ],
      "text/plain": [
       "<IPython.core.display.Math object>"
      ]
     },
     "metadata": {},
     "output_type": "display_data"
    },
    {
     "name": "stdout",
     "output_type": "stream",
     "text": [
      "current estimate of \n"
     ]
    },
    {
     "data": {
      "text/latex": [
       "$\\displaystyle  \\pi: 3.070063694267516$"
      ],
      "text/plain": [
       "<IPython.core.display.Math object>"
      ]
     },
     "metadata": {},
     "output_type": "display_data"
    },
    {
     "name": "stdout",
     "output_type": "stream",
     "text": [
      "current estimate of \n"
     ]
    },
    {
     "data": {
      "text/latex": [
       "$\\displaystyle  \\pi: 3.06031746031746$"
      ],
      "text/plain": [
       "<IPython.core.display.Math object>"
      ]
     },
     "metadata": {},
     "output_type": "display_data"
    },
    {
     "name": "stdout",
     "output_type": "stream",
     "text": [
      "current estimate of \n"
     ]
    },
    {
     "data": {
      "text/latex": [
       "$\\displaystyle  \\pi: 3.0632911392405062$"
      ],
      "text/plain": [
       "<IPython.core.display.Math object>"
      ]
     },
     "metadata": {},
     "output_type": "display_data"
    },
    {
     "name": "stdout",
     "output_type": "stream",
     "text": [
      "current estimate of \n"
     ]
    },
    {
     "data": {
      "text/latex": [
       "$\\displaystyle  \\pi: 3.0662460567823344$"
      ],
      "text/plain": [
       "<IPython.core.display.Math object>"
      ]
     },
     "metadata": {},
     "output_type": "display_data"
    },
    {
     "name": "stdout",
     "output_type": "stream",
     "text": [
      "current estimate of \n"
     ]
    },
    {
     "data": {
      "text/latex": [
       "$\\displaystyle  \\pi: 3.069182389937107$"
      ],
      "text/plain": [
       "<IPython.core.display.Math object>"
      ]
     },
     "metadata": {},
     "output_type": "display_data"
    },
    {
     "name": "stdout",
     "output_type": "stream",
     "text": [
      "current estimate of \n"
     ]
    },
    {
     "data": {
      "text/latex": [
       "$\\displaystyle  \\pi: 3.0595611285266457$"
      ],
      "text/plain": [
       "<IPython.core.display.Math object>"
      ]
     },
     "metadata": {},
     "output_type": "display_data"
    },
    {
     "name": "stdout",
     "output_type": "stream",
     "text": [
      "current estimate of \n"
     ]
    },
    {
     "data": {
      "text/latex": [
       "$\\displaystyle  \\pi: 3.0625$"
      ],
      "text/plain": [
       "<IPython.core.display.Math object>"
      ]
     },
     "metadata": {},
     "output_type": "display_data"
    },
    {
     "name": "stdout",
     "output_type": "stream",
     "text": [
      "current estimate of \n"
     ]
    },
    {
     "data": {
      "text/latex": [
       "$\\displaystyle  \\pi: 3.0654205607476634$"
      ],
      "text/plain": [
       "<IPython.core.display.Math object>"
      ]
     },
     "metadata": {},
     "output_type": "display_data"
    },
    {
     "name": "stdout",
     "output_type": "stream",
     "text": [
      "current estimate of \n"
     ]
    },
    {
     "data": {
      "text/latex": [
       "$\\displaystyle  \\pi: 3.0683229813664594$"
      ],
      "text/plain": [
       "<IPython.core.display.Math object>"
      ]
     },
     "metadata": {},
     "output_type": "display_data"
    },
    {
     "name": "stdout",
     "output_type": "stream",
     "text": [
      "current estimate of \n"
     ]
    },
    {
     "data": {
      "text/latex": [
       "$\\displaystyle  \\pi: 3.071207430340557$"
      ],
      "text/plain": [
       "<IPython.core.display.Math object>"
      ]
     },
     "metadata": {},
     "output_type": "display_data"
    },
    {
     "name": "stdout",
     "output_type": "stream",
     "text": [
      "current estimate of \n"
     ]
    },
    {
     "data": {
      "text/latex": [
       "$\\displaystyle  \\pi: 3.074074074074074$"
      ],
      "text/plain": [
       "<IPython.core.display.Math object>"
      ]
     },
     "metadata": {},
     "output_type": "display_data"
    },
    {
     "name": "stdout",
     "output_type": "stream",
     "text": [
      "current estimate of \n"
     ]
    },
    {
     "data": {
      "text/latex": [
       "$\\displaystyle  \\pi: 3.076923076923077$"
      ],
      "text/plain": [
       "<IPython.core.display.Math object>"
      ]
     },
     "metadata": {},
     "output_type": "display_data"
    },
    {
     "name": "stdout",
     "output_type": "stream",
     "text": [
      "current estimate of \n"
     ]
    },
    {
     "data": {
      "text/latex": [
       "$\\displaystyle  \\pi: 3.079754601226994$"
      ],
      "text/plain": [
       "<IPython.core.display.Math object>"
      ]
     },
     "metadata": {},
     "output_type": "display_data"
    },
    {
     "name": "stdout",
     "output_type": "stream",
     "text": [
      "current estimate of \n"
     ]
    },
    {
     "data": {
      "text/latex": [
       "$\\displaystyle  \\pi: 3.0825688073394497$"
      ],
      "text/plain": [
       "<IPython.core.display.Math object>"
      ]
     },
     "metadata": {},
     "output_type": "display_data"
    },
    {
     "name": "stdout",
     "output_type": "stream",
     "text": [
      "current estimate of \n"
     ]
    },
    {
     "data": {
      "text/latex": [
       "$\\displaystyle  \\pi: 3.0853658536585367$"
      ],
      "text/plain": [
       "<IPython.core.display.Math object>"
      ]
     },
     "metadata": {},
     "output_type": "display_data"
    },
    {
     "name": "stdout",
     "output_type": "stream",
     "text": [
      "current estimate of \n"
     ]
    },
    {
     "data": {
      "text/latex": [
       "$\\displaystyle  \\pi: 3.0759878419452886$"
      ],
      "text/plain": [
       "<IPython.core.display.Math object>"
      ]
     },
     "metadata": {},
     "output_type": "display_data"
    },
    {
     "name": "stdout",
     "output_type": "stream",
     "text": [
      "current estimate of \n"
     ]
    },
    {
     "data": {
      "text/latex": [
       "$\\displaystyle  \\pi: 3.0787878787878786$"
      ],
      "text/plain": [
       "<IPython.core.display.Math object>"
      ]
     },
     "metadata": {},
     "output_type": "display_data"
    },
    {
     "name": "stdout",
     "output_type": "stream",
     "text": [
      "current estimate of \n"
     ]
    },
    {
     "data": {
      "text/latex": [
       "$\\displaystyle  \\pi: 3.081570996978852$"
      ],
      "text/plain": [
       "<IPython.core.display.Math object>"
      ]
     },
     "metadata": {},
     "output_type": "display_data"
    },
    {
     "name": "stdout",
     "output_type": "stream",
     "text": [
      "current estimate of \n"
     ]
    },
    {
     "data": {
      "text/latex": [
       "$\\displaystyle  \\pi: 3.0843373493975905$"
      ],
      "text/plain": [
       "<IPython.core.display.Math object>"
      ]
     },
     "metadata": {},
     "output_type": "display_data"
    },
    {
     "name": "stdout",
     "output_type": "stream",
     "text": [
      "current estimate of \n"
     ]
    },
    {
     "data": {
      "text/latex": [
       "$\\displaystyle  \\pi: 3.0870870870870872$"
      ],
      "text/plain": [
       "<IPython.core.display.Math object>"
      ]
     },
     "metadata": {},
     "output_type": "display_data"
    },
    {
     "name": "stdout",
     "output_type": "stream",
     "text": [
      "current estimate of \n"
     ]
    },
    {
     "data": {
      "text/latex": [
       "$\\displaystyle  \\pi: 3.089820359281437$"
      ],
      "text/plain": [
       "<IPython.core.display.Math object>"
      ]
     },
     "metadata": {},
     "output_type": "display_data"
    },
    {
     "name": "stdout",
     "output_type": "stream",
     "text": [
      "current estimate of \n"
     ]
    },
    {
     "data": {
      "text/latex": [
       "$\\displaystyle  \\pi: 3.0925373134328358$"
      ],
      "text/plain": [
       "<IPython.core.display.Math object>"
      ]
     },
     "metadata": {},
     "output_type": "display_data"
    },
    {
     "name": "stdout",
     "output_type": "stream",
     "text": [
      "current estimate of \n"
     ]
    },
    {
     "data": {
      "text/latex": [
       "$\\displaystyle  \\pi: 3.0952380952380953$"
      ],
      "text/plain": [
       "<IPython.core.display.Math object>"
      ]
     },
     "metadata": {},
     "output_type": "display_data"
    },
    {
     "name": "stdout",
     "output_type": "stream",
     "text": [
      "current estimate of \n"
     ]
    },
    {
     "data": {
      "text/latex": [
       "$\\displaystyle  \\pi: 3.0979228486646884$"
      ],
      "text/plain": [
       "<IPython.core.display.Math object>"
      ]
     },
     "metadata": {},
     "output_type": "display_data"
    },
    {
     "name": "stdout",
     "output_type": "stream",
     "text": [
      "current estimate of \n"
     ]
    },
    {
     "data": {
      "text/latex": [
       "$\\displaystyle  \\pi: 3.088757396449704$"
      ],
      "text/plain": [
       "<IPython.core.display.Math object>"
      ]
     },
     "metadata": {},
     "output_type": "display_data"
    },
    {
     "name": "stdout",
     "output_type": "stream",
     "text": [
      "current estimate of \n"
     ]
    },
    {
     "data": {
      "text/latex": [
       "$\\displaystyle  \\pi: 3.0914454277286136$"
      ],
      "text/plain": [
       "<IPython.core.display.Math object>"
      ]
     },
     "metadata": {},
     "output_type": "display_data"
    },
    {
     "name": "stdout",
     "output_type": "stream",
     "text": [
      "current estimate of \n"
     ]
    },
    {
     "data": {
      "text/latex": [
       "$\\displaystyle  \\pi: 3.0941176470588236$"
      ],
      "text/plain": [
       "<IPython.core.display.Math object>"
      ]
     },
     "metadata": {},
     "output_type": "display_data"
    },
    {
     "name": "stdout",
     "output_type": "stream",
     "text": [
      "current estimate of \n"
     ]
    },
    {
     "data": {
      "text/latex": [
       "$\\displaystyle  \\pi: 3.096774193548387$"
      ],
      "text/plain": [
       "<IPython.core.display.Math object>"
      ]
     },
     "metadata": {},
     "output_type": "display_data"
    },
    {
     "name": "stdout",
     "output_type": "stream",
     "text": [
      "current estimate of \n"
     ]
    },
    {
     "data": {
      "text/latex": [
       "$\\displaystyle  \\pi: 3.0994152046783627$"
      ],
      "text/plain": [
       "<IPython.core.display.Math object>"
      ]
     },
     "metadata": {},
     "output_type": "display_data"
    },
    {
     "name": "stdout",
     "output_type": "stream",
     "text": [
      "current estimate of \n"
     ]
    },
    {
     "data": {
      "text/latex": [
       "$\\displaystyle  \\pi: 3.0903790087463556$"
      ],
      "text/plain": [
       "<IPython.core.display.Math object>"
      ]
     },
     "metadata": {},
     "output_type": "display_data"
    },
    {
     "name": "stdout",
     "output_type": "stream",
     "text": [
      "current estimate of \n"
     ]
    },
    {
     "data": {
      "text/latex": [
       "$\\displaystyle  \\pi: 3.0930232558139537$"
      ],
      "text/plain": [
       "<IPython.core.display.Math object>"
      ]
     },
     "metadata": {},
     "output_type": "display_data"
    },
    {
     "name": "stdout",
     "output_type": "stream",
     "text": [
      "current estimate of \n"
     ]
    },
    {
     "data": {
      "text/latex": [
       "$\\displaystyle  \\pi: 3.0956521739130434$"
      ],
      "text/plain": [
       "<IPython.core.display.Math object>"
      ]
     },
     "metadata": {},
     "output_type": "display_data"
    },
    {
     "name": "stdout",
     "output_type": "stream",
     "text": [
      "current estimate of \n"
     ]
    },
    {
     "data": {
      "text/latex": [
       "$\\displaystyle  \\pi: 3.098265895953757$"
      ],
      "text/plain": [
       "<IPython.core.display.Math object>"
      ]
     },
     "metadata": {},
     "output_type": "display_data"
    },
    {
     "name": "stdout",
     "output_type": "stream",
     "text": [
      "current estimate of \n"
     ]
    },
    {
     "data": {
      "text/latex": [
       "$\\displaystyle  \\pi: 3.1008645533141213$"
      ],
      "text/plain": [
       "<IPython.core.display.Math object>"
      ]
     },
     "metadata": {},
     "output_type": "display_data"
    },
    {
     "name": "stdout",
     "output_type": "stream",
     "text": [
      "current estimate of \n"
     ]
    },
    {
     "data": {
      "text/latex": [
       "$\\displaystyle  \\pi: 3.103448275862069$"
      ],
      "text/plain": [
       "<IPython.core.display.Math object>"
      ]
     },
     "metadata": {},
     "output_type": "display_data"
    },
    {
     "name": "stdout",
     "output_type": "stream",
     "text": [
      "current estimate of \n"
     ]
    },
    {
     "data": {
      "text/latex": [
       "$\\displaystyle  \\pi: 3.1060171919770774$"
      ],
      "text/plain": [
       "<IPython.core.display.Math object>"
      ]
     },
     "metadata": {},
     "output_type": "display_data"
    },
    {
     "name": "stdout",
     "output_type": "stream",
     "text": [
      "current estimate of \n"
     ]
    },
    {
     "data": {
      "text/latex": [
       "$\\displaystyle  \\pi: 3.1085714285714285$"
      ],
      "text/plain": [
       "<IPython.core.display.Math object>"
      ]
     },
     "metadata": {},
     "output_type": "display_data"
    },
    {
     "name": "stdout",
     "output_type": "stream",
     "text": [
      "current estimate of \n"
     ]
    },
    {
     "data": {
      "text/latex": [
       "$\\displaystyle  \\pi: 3.0997150997150995$"
      ],
      "text/plain": [
       "<IPython.core.display.Math object>"
      ]
     },
     "metadata": {},
     "output_type": "display_data"
    },
    {
     "name": "stdout",
     "output_type": "stream",
     "text": [
      "current estimate of \n"
     ]
    },
    {
     "data": {
      "text/latex": [
       "$\\displaystyle  \\pi: 3.102272727272727$"
      ],
      "text/plain": [
       "<IPython.core.display.Math object>"
      ]
     },
     "metadata": {},
     "output_type": "display_data"
    },
    {
     "name": "stdout",
     "output_type": "stream",
     "text": [
      "current estimate of \n"
     ]
    },
    {
     "data": {
      "text/latex": [
       "$\\displaystyle  \\pi: 3.104815864022663$"
      ],
      "text/plain": [
       "<IPython.core.display.Math object>"
      ]
     },
     "metadata": {},
     "output_type": "display_data"
    },
    {
     "name": "stdout",
     "output_type": "stream",
     "text": [
      "current estimate of \n"
     ]
    },
    {
     "data": {
      "text/latex": [
       "$\\displaystyle  \\pi: 3.1073446327683616$"
      ],
      "text/plain": [
       "<IPython.core.display.Math object>"
      ]
     },
     "metadata": {},
     "output_type": "display_data"
    },
    {
     "name": "stdout",
     "output_type": "stream",
     "text": [
      "current estimate of \n"
     ]
    },
    {
     "data": {
      "text/latex": [
       "$\\displaystyle  \\pi: 3.0985915492957745$"
      ],
      "text/plain": [
       "<IPython.core.display.Math object>"
      ]
     },
     "metadata": {},
     "output_type": "display_data"
    },
    {
     "name": "stdout",
     "output_type": "stream",
     "text": [
      "current estimate of \n"
     ]
    },
    {
     "data": {
      "text/latex": [
       "$\\displaystyle  \\pi: 3.101123595505618$"
      ],
      "text/plain": [
       "<IPython.core.display.Math object>"
      ]
     },
     "metadata": {},
     "output_type": "display_data"
    },
    {
     "name": "stdout",
     "output_type": "stream",
     "text": [
      "current estimate of \n"
     ]
    },
    {
     "data": {
      "text/latex": [
       "$\\displaystyle  \\pi: 3.103641456582633$"
      ],
      "text/plain": [
       "<IPython.core.display.Math object>"
      ]
     },
     "metadata": {},
     "output_type": "display_data"
    },
    {
     "name": "stdout",
     "output_type": "stream",
     "text": [
      "current estimate of \n"
     ]
    },
    {
     "data": {
      "text/latex": [
       "$\\displaystyle  \\pi: 3.106145251396648$"
      ],
      "text/plain": [
       "<IPython.core.display.Math object>"
      ]
     },
     "metadata": {},
     "output_type": "display_data"
    },
    {
     "name": "stdout",
     "output_type": "stream",
     "text": [
      "current estimate of \n"
     ]
    },
    {
     "data": {
      "text/latex": [
       "$\\displaystyle  \\pi: 3.1086350974930363$"
      ],
      "text/plain": [
       "<IPython.core.display.Math object>"
      ]
     },
     "metadata": {},
     "output_type": "display_data"
    },
    {
     "name": "stdout",
     "output_type": "stream",
     "text": [
      "current estimate of \n"
     ]
    },
    {
     "data": {
      "text/latex": [
       "$\\displaystyle  \\pi: 3.111111111111111$"
      ],
      "text/plain": [
       "<IPython.core.display.Math object>"
      ]
     },
     "metadata": {},
     "output_type": "display_data"
    },
    {
     "name": "stdout",
     "output_type": "stream",
     "text": [
      "current estimate of \n"
     ]
    },
    {
     "data": {
      "text/latex": [
       "$\\displaystyle  \\pi: 3.102493074792244$"
      ],
      "text/plain": [
       "<IPython.core.display.Math object>"
      ]
     },
     "metadata": {},
     "output_type": "display_data"
    },
    {
     "name": "stdout",
     "output_type": "stream",
     "text": [
      "current estimate of \n"
     ]
    },
    {
     "data": {
      "text/latex": [
       "$\\displaystyle  \\pi: 3.1049723756906076$"
      ],
      "text/plain": [
       "<IPython.core.display.Math object>"
      ]
     },
     "metadata": {},
     "output_type": "display_data"
    },
    {
     "name": "stdout",
     "output_type": "stream",
     "text": [
      "current estimate of \n"
     ]
    },
    {
     "data": {
      "text/latex": [
       "$\\displaystyle  \\pi: 3.1074380165289255$"
      ],
      "text/plain": [
       "<IPython.core.display.Math object>"
      ]
     },
     "metadata": {},
     "output_type": "display_data"
    },
    {
     "name": "stdout",
     "output_type": "stream",
     "text": [
      "current estimate of \n"
     ]
    },
    {
     "data": {
      "text/latex": [
       "$\\displaystyle  \\pi: 3.10989010989011$"
      ],
      "text/plain": [
       "<IPython.core.display.Math object>"
      ]
     },
     "metadata": {},
     "output_type": "display_data"
    },
    {
     "name": "stdout",
     "output_type": "stream",
     "text": [
      "current estimate of \n"
     ]
    },
    {
     "data": {
      "text/latex": [
       "$\\displaystyle  \\pi: 3.1013698630136988$"
      ],
      "text/plain": [
       "<IPython.core.display.Math object>"
      ]
     },
     "metadata": {},
     "output_type": "display_data"
    },
    {
     "name": "stdout",
     "output_type": "stream",
     "text": [
      "current estimate of \n"
     ]
    },
    {
     "data": {
      "text/latex": [
       "$\\displaystyle  \\pi: 3.092896174863388$"
      ],
      "text/plain": [
       "<IPython.core.display.Math object>"
      ]
     },
     "metadata": {},
     "output_type": "display_data"
    },
    {
     "name": "stdout",
     "output_type": "stream",
     "text": [
      "current estimate of \n"
     ]
    },
    {
     "data": {
      "text/latex": [
       "$\\displaystyle  \\pi: 3.095367847411444$"
      ],
      "text/plain": [
       "<IPython.core.display.Math object>"
      ]
     },
     "metadata": {},
     "output_type": "display_data"
    },
    {
     "name": "stdout",
     "output_type": "stream",
     "text": [
      "current estimate of \n"
     ]
    },
    {
     "data": {
      "text/latex": [
       "$\\displaystyle  \\pi: 3.097826086956522$"
      ],
      "text/plain": [
       "<IPython.core.display.Math object>"
      ]
     },
     "metadata": {},
     "output_type": "display_data"
    },
    {
     "name": "stdout",
     "output_type": "stream",
     "text": [
      "current estimate of \n"
     ]
    },
    {
     "data": {
      "text/latex": [
       "$\\displaystyle  \\pi: 3.100271002710027$"
      ],
      "text/plain": [
       "<IPython.core.display.Math object>"
      ]
     },
     "metadata": {},
     "output_type": "display_data"
    },
    {
     "name": "stdout",
     "output_type": "stream",
     "text": [
      "current estimate of \n"
     ]
    },
    {
     "data": {
      "text/latex": [
       "$\\displaystyle  \\pi: 3.091891891891892$"
      ],
      "text/plain": [
       "<IPython.core.display.Math object>"
      ]
     },
     "metadata": {},
     "output_type": "display_data"
    },
    {
     "name": "stdout",
     "output_type": "stream",
     "text": [
      "current estimate of \n"
     ]
    },
    {
     "data": {
      "text/latex": [
       "$\\displaystyle  \\pi: 3.0943396226415096$"
      ],
      "text/plain": [
       "<IPython.core.display.Math object>"
      ]
     },
     "metadata": {},
     "output_type": "display_data"
    },
    {
     "name": "stdout",
     "output_type": "stream",
     "text": [
      "current estimate of \n"
     ]
    },
    {
     "data": {
      "text/latex": [
       "$\\displaystyle  \\pi: 3.096774193548387$"
      ],
      "text/plain": [
       "<IPython.core.display.Math object>"
      ]
     },
     "metadata": {},
     "output_type": "display_data"
    },
    {
     "name": "stdout",
     "output_type": "stream",
     "text": [
      "current estimate of \n"
     ]
    },
    {
     "data": {
      "text/latex": [
       "$\\displaystyle  \\pi: 3.099195710455764$"
      ],
      "text/plain": [
       "<IPython.core.display.Math object>"
      ]
     },
     "metadata": {},
     "output_type": "display_data"
    },
    {
     "name": "stdout",
     "output_type": "stream",
     "text": [
      "current estimate of \n"
     ]
    },
    {
     "data": {
      "text/latex": [
       "$\\displaystyle  \\pi: 3.1016042780748663$"
      ],
      "text/plain": [
       "<IPython.core.display.Math object>"
      ]
     },
     "metadata": {},
     "output_type": "display_data"
    },
    {
     "name": "stdout",
     "output_type": "stream",
     "text": [
      "current estimate of \n"
     ]
    },
    {
     "data": {
      "text/latex": [
       "$\\displaystyle  \\pi: 3.104$"
      ],
      "text/plain": [
       "<IPython.core.display.Math object>"
      ]
     },
     "metadata": {},
     "output_type": "display_data"
    },
    {
     "name": "stdout",
     "output_type": "stream",
     "text": [
      "current estimate of \n"
     ]
    },
    {
     "data": {
      "text/latex": [
       "$\\displaystyle  \\pi: 3.106382978723404$"
      ],
      "text/plain": [
       "<IPython.core.display.Math object>"
      ]
     },
     "metadata": {},
     "output_type": "display_data"
    },
    {
     "name": "stdout",
     "output_type": "stream",
     "text": [
      "current estimate of \n"
     ]
    },
    {
     "data": {
      "text/latex": [
       "$\\displaystyle  \\pi: 3.1087533156498672$"
      ],
      "text/plain": [
       "<IPython.core.display.Math object>"
      ]
     },
     "metadata": {},
     "output_type": "display_data"
    },
    {
     "name": "stdout",
     "output_type": "stream",
     "text": [
      "current estimate of \n"
     ]
    },
    {
     "data": {
      "text/latex": [
       "$\\displaystyle  \\pi: 3.111111111111111$"
      ],
      "text/plain": [
       "<IPython.core.display.Math object>"
      ]
     },
     "metadata": {},
     "output_type": "display_data"
    },
    {
     "name": "stdout",
     "output_type": "stream",
     "text": [
      "current estimate of \n"
     ]
    },
    {
     "data": {
      "text/latex": [
       "$\\displaystyle  \\pi: 3.1029023746701845$"
      ],
      "text/plain": [
       "<IPython.core.display.Math object>"
      ]
     },
     "metadata": {},
     "output_type": "display_data"
    },
    {
     "name": "stdout",
     "output_type": "stream",
     "text": [
      "current estimate of \n"
     ]
    },
    {
     "data": {
      "text/latex": [
       "$\\displaystyle  \\pi: 3.1052631578947367$"
      ],
      "text/plain": [
       "<IPython.core.display.Math object>"
      ]
     },
     "metadata": {},
     "output_type": "display_data"
    },
    {
     "name": "stdout",
     "output_type": "stream",
     "text": [
      "current estimate of \n"
     ]
    },
    {
     "data": {
      "text/latex": [
       "$\\displaystyle  \\pi: 3.1076115485564304$"
      ],
      "text/plain": [
       "<IPython.core.display.Math object>"
      ]
     },
     "metadata": {},
     "output_type": "display_data"
    },
    {
     "name": "stdout",
     "output_type": "stream",
     "text": [
      "current estimate of \n"
     ]
    },
    {
     "data": {
      "text/latex": [
       "$\\displaystyle  \\pi: 3.099476439790576$"
      ],
      "text/plain": [
       "<IPython.core.display.Math object>"
      ]
     },
     "metadata": {},
     "output_type": "display_data"
    },
    {
     "name": "stdout",
     "output_type": "stream",
     "text": [
      "current estimate of \n"
     ]
    },
    {
     "data": {
      "text/latex": [
       "$\\displaystyle  \\pi: 3.0913838120104438$"
      ],
      "text/plain": [
       "<IPython.core.display.Math object>"
      ]
     },
     "metadata": {},
     "output_type": "display_data"
    },
    {
     "name": "stdout",
     "output_type": "stream",
     "text": [
      "current estimate of \n"
     ]
    },
    {
     "data": {
      "text/latex": [
       "$\\displaystyle  \\pi: 3.09375$"
      ],
      "text/plain": [
       "<IPython.core.display.Math object>"
      ]
     },
     "metadata": {},
     "output_type": "display_data"
    },
    {
     "name": "stdout",
     "output_type": "stream",
     "text": [
      "current estimate of \n"
     ]
    },
    {
     "data": {
      "text/latex": [
       "$\\displaystyle  \\pi: 3.0961038961038962$"
      ],
      "text/plain": [
       "<IPython.core.display.Math object>"
      ]
     },
     "metadata": {},
     "output_type": "display_data"
    },
    {
     "name": "stdout",
     "output_type": "stream",
     "text": [
      "current estimate of \n"
     ]
    },
    {
     "data": {
      "text/latex": [
       "$\\displaystyle  \\pi: 3.098445595854922$"
      ],
      "text/plain": [
       "<IPython.core.display.Math object>"
      ]
     },
     "metadata": {},
     "output_type": "display_data"
    },
    {
     "name": "stdout",
     "output_type": "stream",
     "text": [
      "current estimate of \n"
     ]
    },
    {
     "data": {
      "text/latex": [
       "$\\displaystyle  \\pi: 3.090439276485788$"
      ],
      "text/plain": [
       "<IPython.core.display.Math object>"
      ]
     },
     "metadata": {},
     "output_type": "display_data"
    },
    {
     "name": "stdout",
     "output_type": "stream",
     "text": [
      "current estimate of \n"
     ]
    },
    {
     "data": {
      "text/latex": [
       "$\\displaystyle  \\pi: 3.0927835051546393$"
      ],
      "text/plain": [
       "<IPython.core.display.Math object>"
      ]
     },
     "metadata": {},
     "output_type": "display_data"
    },
    {
     "name": "stdout",
     "output_type": "stream",
     "text": [
      "current estimate of \n"
     ]
    },
    {
     "data": {
      "text/latex": [
       "$\\displaystyle  \\pi: 3.0848329048843186$"
      ],
      "text/plain": [
       "<IPython.core.display.Math object>"
      ]
     },
     "metadata": {},
     "output_type": "display_data"
    },
    {
     "name": "stdout",
     "output_type": "stream",
     "text": [
      "current estimate of \n"
     ]
    },
    {
     "data": {
      "text/latex": [
       "$\\displaystyle  \\pi: 3.0871794871794873$"
      ],
      "text/plain": [
       "<IPython.core.display.Math object>"
      ]
     },
     "metadata": {},
     "output_type": "display_data"
    },
    {
     "name": "stdout",
     "output_type": "stream",
     "text": [
      "current estimate of \n"
     ]
    },
    {
     "data": {
      "text/latex": [
       "$\\displaystyle  \\pi: 3.079283887468031$"
      ],
      "text/plain": [
       "<IPython.core.display.Math object>"
      ]
     },
     "metadata": {},
     "output_type": "display_data"
    },
    {
     "name": "stdout",
     "output_type": "stream",
     "text": [
      "current estimate of \n"
     ]
    },
    {
     "data": {
      "text/latex": [
       "$\\displaystyle  \\pi: 3.0816326530612246$"
      ],
      "text/plain": [
       "<IPython.core.display.Math object>"
      ]
     },
     "metadata": {},
     "output_type": "display_data"
    },
    {
     "name": "stdout",
     "output_type": "stream",
     "text": [
      "current estimate of \n"
     ]
    },
    {
     "data": {
      "text/latex": [
       "$\\displaystyle  \\pi: 3.0839694656488548$"
      ],
      "text/plain": [
       "<IPython.core.display.Math object>"
      ]
     },
     "metadata": {},
     "output_type": "display_data"
    },
    {
     "name": "stdout",
     "output_type": "stream",
     "text": [
      "current estimate of \n"
     ]
    },
    {
     "data": {
      "text/latex": [
       "$\\displaystyle  \\pi: 3.0761421319796955$"
      ],
      "text/plain": [
       "<IPython.core.display.Math object>"
      ]
     },
     "metadata": {},
     "output_type": "display_data"
    },
    {
     "name": "stdout",
     "output_type": "stream",
     "text": [
      "current estimate of \n"
     ]
    },
    {
     "data": {
      "text/latex": [
       "$\\displaystyle  \\pi: 3.078481012658228$"
      ],
      "text/plain": [
       "<IPython.core.display.Math object>"
      ]
     },
     "metadata": {},
     "output_type": "display_data"
    },
    {
     "name": "stdout",
     "output_type": "stream",
     "text": [
      "current estimate of \n"
     ]
    },
    {
     "data": {
      "text/latex": [
       "$\\displaystyle  \\pi: 3.080808080808081$"
      ],
      "text/plain": [
       "<IPython.core.display.Math object>"
      ]
     },
     "metadata": {},
     "output_type": "display_data"
    },
    {
     "name": "stdout",
     "output_type": "stream",
     "text": [
      "current estimate of \n"
     ]
    },
    {
     "data": {
      "text/latex": [
       "$\\displaystyle  \\pi: 3.0831234256926954$"
      ],
      "text/plain": [
       "<IPython.core.display.Math object>"
      ]
     },
     "metadata": {},
     "output_type": "display_data"
    },
    {
     "name": "stdout",
     "output_type": "stream",
     "text": [
      "current estimate of \n"
     ]
    },
    {
     "data": {
      "text/latex": [
       "$\\displaystyle  \\pi: 3.0854271356783918$"
      ],
      "text/plain": [
       "<IPython.core.display.Math object>"
      ]
     },
     "metadata": {},
     "output_type": "display_data"
    },
    {
     "name": "stdout",
     "output_type": "stream",
     "text": [
      "current estimate of \n"
     ]
    },
    {
     "data": {
      "text/latex": [
       "$\\displaystyle  \\pi: 3.087719298245614$"
      ],
      "text/plain": [
       "<IPython.core.display.Math object>"
      ]
     },
     "metadata": {},
     "output_type": "display_data"
    },
    {
     "name": "stdout",
     "output_type": "stream",
     "text": [
      "current estimate of \n"
     ]
    },
    {
     "data": {
      "text/latex": [
       "$\\displaystyle  \\pi: 3.09$"
      ],
      "text/plain": [
       "<IPython.core.display.Math object>"
      ]
     },
     "metadata": {},
     "output_type": "display_data"
    },
    {
     "name": "stdout",
     "output_type": "stream",
     "text": [
      "current estimate of \n"
     ]
    },
    {
     "data": {
      "text/latex": [
       "$\\displaystyle  \\pi: 3.082294264339152$"
      ],
      "text/plain": [
       "<IPython.core.display.Math object>"
      ]
     },
     "metadata": {},
     "output_type": "display_data"
    },
    {
     "name": "stdout",
     "output_type": "stream",
     "text": [
      "current estimate of \n"
     ]
    },
    {
     "data": {
      "text/latex": [
       "$\\displaystyle  \\pi: 3.084577114427861$"
      ],
      "text/plain": [
       "<IPython.core.display.Math object>"
      ]
     },
     "metadata": {},
     "output_type": "display_data"
    },
    {
     "name": "stdout",
     "output_type": "stream",
     "text": [
      "current estimate of \n"
     ]
    },
    {
     "data": {
      "text/latex": [
       "$\\displaystyle  \\pi: 3.086848635235732$"
      ],
      "text/plain": [
       "<IPython.core.display.Math object>"
      ]
     },
     "metadata": {},
     "output_type": "display_data"
    },
    {
     "name": "stdout",
     "output_type": "stream",
     "text": [
      "current estimate of \n"
     ]
    },
    {
     "data": {
      "text/latex": [
       "$\\displaystyle  \\pi: 3.089108910891089$"
      ],
      "text/plain": [
       "<IPython.core.display.Math object>"
      ]
     },
     "metadata": {},
     "output_type": "display_data"
    },
    {
     "name": "stdout",
     "output_type": "stream",
     "text": [
      "current estimate of \n"
     ]
    },
    {
     "data": {
      "text/latex": [
       "$\\displaystyle  \\pi: 3.0814814814814815$"
      ],
      "text/plain": [
       "<IPython.core.display.Math object>"
      ]
     },
     "metadata": {},
     "output_type": "display_data"
    },
    {
     "name": "stdout",
     "output_type": "stream",
     "text": [
      "current estimate of \n"
     ]
    },
    {
     "data": {
      "text/latex": [
       "$\\displaystyle  \\pi: 3.0738916256157633$"
      ],
      "text/plain": [
       "<IPython.core.display.Math object>"
      ]
     },
     "metadata": {},
     "output_type": "display_data"
    },
    {
     "name": "stdout",
     "output_type": "stream",
     "text": [
      "current estimate of \n"
     ]
    },
    {
     "data": {
      "text/latex": [
       "$\\displaystyle  \\pi: 3.076167076167076$"
      ],
      "text/plain": [
       "<IPython.core.display.Math object>"
      ]
     },
     "metadata": {},
     "output_type": "display_data"
    },
    {
     "name": "stdout",
     "output_type": "stream",
     "text": [
      "current estimate of \n"
     ]
    },
    {
     "data": {
      "text/latex": [
       "$\\displaystyle  \\pi: 3.0784313725490198$"
      ],
      "text/plain": [
       "<IPython.core.display.Math object>"
      ]
     },
     "metadata": {},
     "output_type": "display_data"
    },
    {
     "name": "stdout",
     "output_type": "stream",
     "text": [
      "current estimate of \n"
     ]
    },
    {
     "data": {
      "text/latex": [
       "$\\displaystyle  \\pi: 3.0806845965770173$"
      ],
      "text/plain": [
       "<IPython.core.display.Math object>"
      ]
     },
     "metadata": {},
     "output_type": "display_data"
    },
    {
     "name": "stdout",
     "output_type": "stream",
     "text": [
      "current estimate of \n"
     ]
    },
    {
     "data": {
      "text/latex": [
       "$\\displaystyle  \\pi: 3.0829268292682928$"
      ],
      "text/plain": [
       "<IPython.core.display.Math object>"
      ]
     },
     "metadata": {},
     "output_type": "display_data"
    },
    {
     "name": "stdout",
     "output_type": "stream",
     "text": [
      "current estimate of \n"
     ]
    },
    {
     "data": {
      "text/latex": [
       "$\\displaystyle  \\pi: 3.0754257907542577$"
      ],
      "text/plain": [
       "<IPython.core.display.Math object>"
      ]
     },
     "metadata": {},
     "output_type": "display_data"
    },
    {
     "name": "stdout",
     "output_type": "stream",
     "text": [
      "current estimate of \n"
     ]
    },
    {
     "data": {
      "text/latex": [
       "$\\displaystyle  \\pi: 3.0776699029126213$"
      ],
      "text/plain": [
       "<IPython.core.display.Math object>"
      ]
     },
     "metadata": {},
     "output_type": "display_data"
    },
    {
     "name": "stdout",
     "output_type": "stream",
     "text": [
      "current estimate of \n"
     ]
    },
    {
     "data": {
      "text/latex": [
       "$\\displaystyle  \\pi: 3.070217917675545$"
      ],
      "text/plain": [
       "<IPython.core.display.Math object>"
      ]
     },
     "metadata": {},
     "output_type": "display_data"
    },
    {
     "name": "stdout",
     "output_type": "stream",
     "text": [
      "current estimate of \n"
     ]
    },
    {
     "data": {
      "text/latex": [
       "$\\displaystyle  \\pi: 3.072463768115942$"
      ],
      "text/plain": [
       "<IPython.core.display.Math object>"
      ]
     },
     "metadata": {},
     "output_type": "display_data"
    },
    {
     "name": "stdout",
     "output_type": "stream",
     "text": [
      "current estimate of \n"
     ]
    },
    {
     "data": {
      "text/latex": [
       "$\\displaystyle  \\pi: 3.0746987951807228$"
      ],
      "text/plain": [
       "<IPython.core.display.Math object>"
      ]
     },
     "metadata": {},
     "output_type": "display_data"
    },
    {
     "name": "stdout",
     "output_type": "stream",
     "text": [
      "current estimate of \n"
     ]
    },
    {
     "data": {
      "text/latex": [
       "$\\displaystyle  \\pi: 3.076923076923077$"
      ],
      "text/plain": [
       "<IPython.core.display.Math object>"
      ]
     },
     "metadata": {},
     "output_type": "display_data"
    },
    {
     "name": "stdout",
     "output_type": "stream",
     "text": [
      "current estimate of \n"
     ]
    },
    {
     "data": {
      "text/latex": [
       "$\\displaystyle  \\pi: 3.079136690647482$"
      ],
      "text/plain": [
       "<IPython.core.display.Math object>"
      ]
     },
     "metadata": {},
     "output_type": "display_data"
    },
    {
     "name": "stdout",
     "output_type": "stream",
     "text": [
      "current estimate of \n"
     ]
    },
    {
     "data": {
      "text/latex": [
       "$\\displaystyle  \\pi: 3.0813397129186604$"
      ],
      "text/plain": [
       "<IPython.core.display.Math object>"
      ]
     },
     "metadata": {},
     "output_type": "display_data"
    },
    {
     "name": "stdout",
     "output_type": "stream",
     "text": [
      "current estimate of \n"
     ]
    },
    {
     "data": {
      "text/latex": [
       "$\\displaystyle  \\pi: 3.0739856801909307$"
      ],
      "text/plain": [
       "<IPython.core.display.Math object>"
      ]
     },
     "metadata": {},
     "output_type": "display_data"
    },
    {
     "name": "stdout",
     "output_type": "stream",
     "text": [
      "current estimate of \n"
     ]
    },
    {
     "data": {
      "text/latex": [
       "$\\displaystyle  \\pi: 3.0761904761904764$"
      ],
      "text/plain": [
       "<IPython.core.display.Math object>"
      ]
     },
     "metadata": {},
     "output_type": "display_data"
    },
    {
     "name": "stdout",
     "output_type": "stream",
     "text": [
      "current estimate of \n"
     ]
    },
    {
     "data": {
      "text/latex": [
       "$\\displaystyle  \\pi: 3.0688836104513064$"
      ],
      "text/plain": [
       "<IPython.core.display.Math object>"
      ]
     },
     "metadata": {},
     "output_type": "display_data"
    },
    {
     "name": "stdout",
     "output_type": "stream",
     "text": [
      "current estimate of \n"
     ]
    },
    {
     "data": {
      "text/latex": [
       "$\\displaystyle  \\pi: 3.071090047393365$"
      ],
      "text/plain": [
       "<IPython.core.display.Math object>"
      ]
     },
     "metadata": {},
     "output_type": "display_data"
    },
    {
     "name": "stdout",
     "output_type": "stream",
     "text": [
      "current estimate of \n"
     ]
    },
    {
     "data": {
      "text/latex": [
       "$\\displaystyle  \\pi: 3.0732860520094563$"
      ],
      "text/plain": [
       "<IPython.core.display.Math object>"
      ]
     },
     "metadata": {},
     "output_type": "display_data"
    },
    {
     "name": "stdout",
     "output_type": "stream",
     "text": [
      "current estimate of \n"
     ]
    },
    {
     "data": {
      "text/latex": [
       "$\\displaystyle  \\pi: 3.0660377358490565$"
      ],
      "text/plain": [
       "<IPython.core.display.Math object>"
      ]
     },
     "metadata": {},
     "output_type": "display_data"
    },
    {
     "name": "stdout",
     "output_type": "stream",
     "text": [
      "current estimate of \n"
     ]
    },
    {
     "data": {
      "text/latex": [
       "$\\displaystyle  \\pi: 3.068235294117647$"
      ],
      "text/plain": [
       "<IPython.core.display.Math object>"
      ]
     },
     "metadata": {},
     "output_type": "display_data"
    },
    {
     "name": "stdout",
     "output_type": "stream",
     "text": [
      "current estimate of \n"
     ]
    },
    {
     "data": {
      "text/latex": [
       "$\\displaystyle  \\pi: 3.0704225352112675$"
      ],
      "text/plain": [
       "<IPython.core.display.Math object>"
      ]
     },
     "metadata": {},
     "output_type": "display_data"
    },
    {
     "name": "stdout",
     "output_type": "stream",
     "text": [
      "current estimate of \n"
     ]
    },
    {
     "data": {
      "text/latex": [
       "$\\displaystyle  \\pi: 3.063231850117096$"
      ],
      "text/plain": [
       "<IPython.core.display.Math object>"
      ]
     },
     "metadata": {},
     "output_type": "display_data"
    },
    {
     "name": "stdout",
     "output_type": "stream",
     "text": [
      "current estimate of \n"
     ]
    },
    {
     "data": {
      "text/latex": [
       "$\\displaystyle  \\pi: 3.0654205607476634$"
      ],
      "text/plain": [
       "<IPython.core.display.Math object>"
      ]
     },
     "metadata": {},
     "output_type": "display_data"
    },
    {
     "name": "stdout",
     "output_type": "stream",
     "text": [
      "current estimate of \n"
     ]
    },
    {
     "data": {
      "text/latex": [
       "$\\displaystyle  \\pi: 3.0675990675990676$"
      ],
      "text/plain": [
       "<IPython.core.display.Math object>"
      ]
     },
     "metadata": {},
     "output_type": "display_data"
    },
    {
     "name": "stdout",
     "output_type": "stream",
     "text": [
      "current estimate of \n"
     ]
    },
    {
     "data": {
      "text/latex": [
       "$\\displaystyle  \\pi: 3.0697674418604652$"
      ],
      "text/plain": [
       "<IPython.core.display.Math object>"
      ]
     },
     "metadata": {},
     "output_type": "display_data"
    },
    {
     "name": "stdout",
     "output_type": "stream",
     "text": [
      "current estimate of \n"
     ]
    },
    {
     "data": {
      "text/latex": [
       "$\\displaystyle  \\pi: 3.0719257540603246$"
      ],
      "text/plain": [
       "<IPython.core.display.Math object>"
      ]
     },
     "metadata": {},
     "output_type": "display_data"
    },
    {
     "name": "stdout",
     "output_type": "stream",
     "text": [
      "current estimate of \n"
     ]
    },
    {
     "data": {
      "text/latex": [
       "$\\displaystyle  \\pi: 3.074074074074074$"
      ],
      "text/plain": [
       "<IPython.core.display.Math object>"
      ]
     },
     "metadata": {},
     "output_type": "display_data"
    },
    {
     "name": "stdout",
     "output_type": "stream",
     "text": [
      "current estimate of \n"
     ]
    },
    {
     "data": {
      "text/latex": [
       "$\\displaystyle  \\pi: 3.07621247113164$"
      ],
      "text/plain": [
       "<IPython.core.display.Math object>"
      ]
     },
     "metadata": {},
     "output_type": "display_data"
    },
    {
     "name": "stdout",
     "output_type": "stream",
     "text": [
      "current estimate of \n"
     ]
    },
    {
     "data": {
      "text/latex": [
       "$\\displaystyle  \\pi: 3.078341013824885$"
      ],
      "text/plain": [
       "<IPython.core.display.Math object>"
      ]
     },
     "metadata": {},
     "output_type": "display_data"
    },
    {
     "name": "stdout",
     "output_type": "stream",
     "text": [
      "current estimate of \n"
     ]
    },
    {
     "data": {
      "text/latex": [
       "$\\displaystyle  \\pi: 3.0804597701149423$"
      ],
      "text/plain": [
       "<IPython.core.display.Math object>"
      ]
     },
     "metadata": {},
     "output_type": "display_data"
    },
    {
     "name": "stdout",
     "output_type": "stream",
     "text": [
      "current estimate of \n"
     ]
    },
    {
     "data": {
      "text/latex": [
       "$\\displaystyle  \\pi: 3.0825688073394497$"
      ],
      "text/plain": [
       "<IPython.core.display.Math object>"
      ]
     },
     "metadata": {},
     "output_type": "display_data"
    },
    {
     "name": "stdout",
     "output_type": "stream",
     "text": [
      "current estimate of \n"
     ]
    },
    {
     "data": {
      "text/latex": [
       "$\\displaystyle  \\pi: 3.0846681922196795$"
      ],
      "text/plain": [
       "<IPython.core.display.Math object>"
      ]
     },
     "metadata": {},
     "output_type": "display_data"
    },
    {
     "name": "stdout",
     "output_type": "stream",
     "text": [
      "current estimate of \n"
     ]
    },
    {
     "data": {
      "text/latex": [
       "$\\displaystyle  \\pi: 3.077625570776256$"
      ],
      "text/plain": [
       "<IPython.core.display.Math object>"
      ]
     },
     "metadata": {},
     "output_type": "display_data"
    },
    {
     "name": "stdout",
     "output_type": "stream",
     "text": [
      "current estimate of \n"
     ]
    },
    {
     "data": {
      "text/latex": [
       "$\\displaystyle  \\pi: 3.079726651480638$"
      ],
      "text/plain": [
       "<IPython.core.display.Math object>"
      ]
     },
     "metadata": {},
     "output_type": "display_data"
    },
    {
     "name": "stdout",
     "output_type": "stream",
     "text": [
      "current estimate of \n"
     ]
    },
    {
     "data": {
      "text/latex": [
       "$\\displaystyle  \\pi: 3.081818181818182$"
      ],
      "text/plain": [
       "<IPython.core.display.Math object>"
      ]
     },
     "metadata": {},
     "output_type": "display_data"
    },
    {
     "name": "stdout",
     "output_type": "stream",
     "text": [
      "current estimate of \n"
     ]
    },
    {
     "data": {
      "text/latex": [
       "$\\displaystyle  \\pi: 3.0839002267573696$"
      ],
      "text/plain": [
       "<IPython.core.display.Math object>"
      ]
     },
     "metadata": {},
     "output_type": "display_data"
    },
    {
     "name": "stdout",
     "output_type": "stream",
     "text": [
      "current estimate of \n"
     ]
    },
    {
     "data": {
      "text/latex": [
       "$\\displaystyle  \\pi: 3.085972850678733$"
      ],
      "text/plain": [
       "<IPython.core.display.Math object>"
      ]
     },
     "metadata": {},
     "output_type": "display_data"
    },
    {
     "name": "stdout",
     "output_type": "stream",
     "text": [
      "current estimate of \n"
     ]
    },
    {
     "data": {
      "text/latex": [
       "$\\displaystyle  \\pi: 3.0880361173814896$"
      ],
      "text/plain": [
       "<IPython.core.display.Math object>"
      ]
     },
     "metadata": {},
     "output_type": "display_data"
    },
    {
     "name": "stdout",
     "output_type": "stream",
     "text": [
      "current estimate of \n"
     ]
    },
    {
     "data": {
      "text/latex": [
       "$\\displaystyle  \\pi: 3.081081081081081$"
      ],
      "text/plain": [
       "<IPython.core.display.Math object>"
      ]
     },
     "metadata": {},
     "output_type": "display_data"
    },
    {
     "name": "stdout",
     "output_type": "stream",
     "text": [
      "current estimate of \n"
     ]
    },
    {
     "data": {
      "text/latex": [
       "$\\displaystyle  \\pi: 3.0741573033707863$"
      ],
      "text/plain": [
       "<IPython.core.display.Math object>"
      ]
     },
     "metadata": {},
     "output_type": "display_data"
    },
    {
     "name": "stdout",
     "output_type": "stream",
     "text": [
      "current estimate of \n"
     ]
    },
    {
     "data": {
      "text/latex": [
       "$\\displaystyle  \\pi: 3.0672645739910314$"
      ],
      "text/plain": [
       "<IPython.core.display.Math object>"
      ]
     },
     "metadata": {},
     "output_type": "display_data"
    },
    {
     "name": "stdout",
     "output_type": "stream",
     "text": [
      "current estimate of \n"
     ]
    },
    {
     "data": {
      "text/latex": [
       "$\\displaystyle  \\pi: 3.0604026845637584$"
      ],
      "text/plain": [
       "<IPython.core.display.Math object>"
      ]
     },
     "metadata": {},
     "output_type": "display_data"
    },
    {
     "name": "stdout",
     "output_type": "stream",
     "text": [
      "current estimate of \n"
     ]
    },
    {
     "data": {
      "text/latex": [
       "$\\displaystyle  \\pi: 3.0625$"
      ],
      "text/plain": [
       "<IPython.core.display.Math object>"
      ]
     },
     "metadata": {},
     "output_type": "display_data"
    },
    {
     "name": "stdout",
     "output_type": "stream",
     "text": [
      "current estimate of \n"
     ]
    },
    {
     "data": {
      "text/latex": [
       "$\\displaystyle  \\pi: 3.0645879732739423$"
      ],
      "text/plain": [
       "<IPython.core.display.Math object>"
      ]
     },
     "metadata": {},
     "output_type": "display_data"
    },
    {
     "name": "stdout",
     "output_type": "stream",
     "text": [
      "current estimate of \n"
     ]
    },
    {
     "data": {
      "text/latex": [
       "$\\displaystyle  \\pi: 3.066666666666667$"
      ],
      "text/plain": [
       "<IPython.core.display.Math object>"
      ]
     },
     "metadata": {},
     "output_type": "display_data"
    },
    {
     "name": "stdout",
     "output_type": "stream",
     "text": [
      "current estimate of \n"
     ]
    },
    {
     "data": {
      "text/latex": [
       "$\\displaystyle  \\pi: 3.0687361419068737$"
      ],
      "text/plain": [
       "<IPython.core.display.Math object>"
      ]
     },
     "metadata": {},
     "output_type": "display_data"
    },
    {
     "name": "stdout",
     "output_type": "stream",
     "text": [
      "current estimate of \n"
     ]
    },
    {
     "data": {
      "text/latex": [
       "$\\displaystyle  \\pi: 3.0707964601769913$"
      ],
      "text/plain": [
       "<IPython.core.display.Math object>"
      ]
     },
     "metadata": {},
     "output_type": "display_data"
    },
    {
     "name": "stdout",
     "output_type": "stream",
     "text": [
      "current estimate of \n"
     ]
    },
    {
     "data": {
      "text/latex": [
       "$\\displaystyle  \\pi: 3.0728476821192054$"
      ],
      "text/plain": [
       "<IPython.core.display.Math object>"
      ]
     },
     "metadata": {},
     "output_type": "display_data"
    },
    {
     "name": "stdout",
     "output_type": "stream",
     "text": [
      "current estimate of \n"
     ]
    },
    {
     "data": {
      "text/latex": [
       "$\\displaystyle  \\pi: 3.0748898678414096$"
      ],
      "text/plain": [
       "<IPython.core.display.Math object>"
      ]
     },
     "metadata": {},
     "output_type": "display_data"
    },
    {
     "name": "stdout",
     "output_type": "stream",
     "text": [
      "current estimate of \n"
     ]
    },
    {
     "data": {
      "text/latex": [
       "$\\displaystyle  \\pi: 3.076923076923077$"
      ],
      "text/plain": [
       "<IPython.core.display.Math object>"
      ]
     },
     "metadata": {},
     "output_type": "display_data"
    },
    {
     "name": "stdout",
     "output_type": "stream",
     "text": [
      "current estimate of \n"
     ]
    },
    {
     "data": {
      "text/latex": [
       "$\\displaystyle  \\pi: 3.0701754385964914$"
      ],
      "text/plain": [
       "<IPython.core.display.Math object>"
      ]
     },
     "metadata": {},
     "output_type": "display_data"
    },
    {
     "name": "stdout",
     "output_type": "stream",
     "text": [
      "current estimate of \n"
     ]
    },
    {
     "data": {
      "text/latex": [
       "$\\displaystyle  \\pi: 3.072210065645514$"
      ],
      "text/plain": [
       "<IPython.core.display.Math object>"
      ]
     },
     "metadata": {},
     "output_type": "display_data"
    },
    {
     "name": "stdout",
     "output_type": "stream",
     "text": [
      "current estimate of \n"
     ]
    },
    {
     "data": {
      "text/latex": [
       "$\\displaystyle  \\pi: 3.0655021834061134$"
      ],
      "text/plain": [
       "<IPython.core.display.Math object>"
      ]
     },
     "metadata": {},
     "output_type": "display_data"
    },
    {
     "name": "stdout",
     "output_type": "stream",
     "text": [
      "current estimate of \n"
     ]
    },
    {
     "data": {
      "text/latex": [
       "$\\displaystyle  \\pi: 3.0675381263616557$"
      ],
      "text/plain": [
       "<IPython.core.display.Math object>"
      ]
     },
     "metadata": {},
     "output_type": "display_data"
    },
    {
     "name": "stdout",
     "output_type": "stream",
     "text": [
      "current estimate of \n"
     ]
    },
    {
     "data": {
      "text/latex": [
       "$\\displaystyle  \\pi: 3.0695652173913044$"
      ],
      "text/plain": [
       "<IPython.core.display.Math object>"
      ]
     },
     "metadata": {},
     "output_type": "display_data"
    },
    {
     "name": "stdout",
     "output_type": "stream",
     "text": [
      "current estimate of \n"
     ]
    },
    {
     "data": {
      "text/latex": [
       "$\\displaystyle  \\pi: 3.071583514099783$"
      ],
      "text/plain": [
       "<IPython.core.display.Math object>"
      ]
     },
     "metadata": {},
     "output_type": "display_data"
    },
    {
     "name": "stdout",
     "output_type": "stream",
     "text": [
      "current estimate of \n"
     ]
    },
    {
     "data": {
      "text/latex": [
       "$\\displaystyle  \\pi: 3.0735930735930737$"
      ],
      "text/plain": [
       "<IPython.core.display.Math object>"
      ]
     },
     "metadata": {},
     "output_type": "display_data"
    },
    {
     "name": "stdout",
     "output_type": "stream",
     "text": [
      "current estimate of \n"
     ]
    },
    {
     "data": {
      "text/latex": [
       "$\\displaystyle  \\pi: 3.075593952483801$"
      ],
      "text/plain": [
       "<IPython.core.display.Math object>"
      ]
     },
     "metadata": {},
     "output_type": "display_data"
    },
    {
     "name": "stdout",
     "output_type": "stream",
     "text": [
      "current estimate of \n"
     ]
    },
    {
     "data": {
      "text/latex": [
       "$\\displaystyle  \\pi: 3.0775862068965516$"
      ],
      "text/plain": [
       "<IPython.core.display.Math object>"
      ]
     },
     "metadata": {},
     "output_type": "display_data"
    },
    {
     "name": "stdout",
     "output_type": "stream",
     "text": [
      "current estimate of \n"
     ]
    },
    {
     "data": {
      "text/latex": [
       "$\\displaystyle  \\pi: 3.0795698924731183$"
      ],
      "text/plain": [
       "<IPython.core.display.Math object>"
      ]
     },
     "metadata": {},
     "output_type": "display_data"
    },
    {
     "name": "stdout",
     "output_type": "stream",
     "text": [
      "current estimate of \n"
     ]
    },
    {
     "data": {
      "text/latex": [
       "$\\displaystyle  \\pi: 3.0815450643776825$"
      ],
      "text/plain": [
       "<IPython.core.display.Math object>"
      ]
     },
     "metadata": {},
     "output_type": "display_data"
    },
    {
     "name": "stdout",
     "output_type": "stream",
     "text": [
      "current estimate of \n"
     ]
    },
    {
     "data": {
      "text/latex": [
       "$\\displaystyle  \\pi: 3.0835117773019274$"
      ],
      "text/plain": [
       "<IPython.core.display.Math object>"
      ]
     },
     "metadata": {},
     "output_type": "display_data"
    },
    {
     "name": "stdout",
     "output_type": "stream",
     "text": [
      "current estimate of \n"
     ]
    },
    {
     "data": {
      "text/latex": [
       "$\\displaystyle  \\pi: 3.0854700854700856$"
      ],
      "text/plain": [
       "<IPython.core.display.Math object>"
      ]
     },
     "metadata": {},
     "output_type": "display_data"
    },
    {
     "name": "stdout",
     "output_type": "stream",
     "text": [
      "current estimate of \n"
     ]
    },
    {
     "data": {
      "text/latex": [
       "$\\displaystyle  \\pi: 3.0874200426439233$"
      ],
      "text/plain": [
       "<IPython.core.display.Math object>"
      ]
     },
     "metadata": {},
     "output_type": "display_data"
    },
    {
     "name": "stdout",
     "output_type": "stream",
     "text": [
      "current estimate of \n"
     ]
    },
    {
     "data": {
      "text/latex": [
       "$\\displaystyle  \\pi: 3.0893617021276594$"
      ],
      "text/plain": [
       "<IPython.core.display.Math object>"
      ]
     },
     "metadata": {},
     "output_type": "display_data"
    },
    {
     "name": "stdout",
     "output_type": "stream",
     "text": [
      "current estimate of \n"
     ]
    },
    {
     "data": {
      "text/latex": [
       "$\\displaystyle  \\pi: 3.091295116772824$"
      ],
      "text/plain": [
       "<IPython.core.display.Math object>"
      ]
     },
     "metadata": {},
     "output_type": "display_data"
    },
    {
     "name": "stdout",
     "output_type": "stream",
     "text": [
      "current estimate of \n"
     ]
    },
    {
     "data": {
      "text/latex": [
       "$\\displaystyle  \\pi: 3.0847457627118646$"
      ],
      "text/plain": [
       "<IPython.core.display.Math object>"
      ]
     },
     "metadata": {},
     "output_type": "display_data"
    },
    {
     "name": "stdout",
     "output_type": "stream",
     "text": [
      "current estimate of \n"
     ]
    },
    {
     "data": {
      "text/latex": [
       "$\\displaystyle  \\pi: 3.0866807610993656$"
      ],
      "text/plain": [
       "<IPython.core.display.Math object>"
      ]
     },
     "metadata": {},
     "output_type": "display_data"
    },
    {
     "name": "stdout",
     "output_type": "stream",
     "text": [
      "current estimate of \n"
     ]
    },
    {
     "data": {
      "text/latex": [
       "$\\displaystyle  \\pi: 3.088607594936709$"
      ],
      "text/plain": [
       "<IPython.core.display.Math object>"
      ]
     },
     "metadata": {},
     "output_type": "display_data"
    },
    {
     "name": "stdout",
     "output_type": "stream",
     "text": [
      "current estimate of \n"
     ]
    },
    {
     "data": {
      "text/latex": [
       "$\\displaystyle  \\pi: 3.090526315789474$"
      ],
      "text/plain": [
       "<IPython.core.display.Math object>"
      ]
     },
     "metadata": {},
     "output_type": "display_data"
    },
    {
     "name": "stdout",
     "output_type": "stream",
     "text": [
      "current estimate of \n"
     ]
    },
    {
     "data": {
      "text/latex": [
       "$\\displaystyle  \\pi: 3.092436974789916$"
      ],
      "text/plain": [
       "<IPython.core.display.Math object>"
      ]
     },
     "metadata": {},
     "output_type": "display_data"
    },
    {
     "name": "stdout",
     "output_type": "stream",
     "text": [
      "current estimate of \n"
     ]
    },
    {
     "data": {
      "text/latex": [
       "$\\displaystyle  \\pi: 3.0943396226415096$"
      ],
      "text/plain": [
       "<IPython.core.display.Math object>"
      ]
     },
     "metadata": {},
     "output_type": "display_data"
    },
    {
     "name": "stdout",
     "output_type": "stream",
     "text": [
      "current estimate of \n"
     ]
    },
    {
     "data": {
      "text/latex": [
       "$\\displaystyle  \\pi: 3.096234309623431$"
      ],
      "text/plain": [
       "<IPython.core.display.Math object>"
      ]
     },
     "metadata": {},
     "output_type": "display_data"
    },
    {
     "name": "stdout",
     "output_type": "stream",
     "text": [
      "current estimate of \n"
     ]
    },
    {
     "data": {
      "text/latex": [
       "$\\displaystyle  \\pi: 3.0981210855949897$"
      ],
      "text/plain": [
       "<IPython.core.display.Math object>"
      ]
     },
     "metadata": {},
     "output_type": "display_data"
    },
    {
     "name": "stdout",
     "output_type": "stream",
     "text": [
      "current estimate of \n"
     ]
    },
    {
     "data": {
      "text/latex": [
       "$\\displaystyle  \\pi: 3.091666666666667$"
      ],
      "text/plain": [
       "<IPython.core.display.Math object>"
      ]
     },
     "metadata": {},
     "output_type": "display_data"
    },
    {
     "name": "stdout",
     "output_type": "stream",
     "text": [
      "current estimate of \n"
     ]
    },
    {
     "data": {
      "text/latex": [
       "$\\displaystyle  \\pi: 3.0935550935550937$"
      ],
      "text/plain": [
       "<IPython.core.display.Math object>"
      ]
     },
     "metadata": {},
     "output_type": "display_data"
    },
    {
     "name": "stdout",
     "output_type": "stream",
     "text": [
      "current estimate of \n"
     ]
    },
    {
     "data": {
      "text/latex": [
       "$\\displaystyle  \\pi: 3.095435684647303$"
      ],
      "text/plain": [
       "<IPython.core.display.Math object>"
      ]
     },
     "metadata": {},
     "output_type": "display_data"
    },
    {
     "name": "stdout",
     "output_type": "stream",
     "text": [
      "current estimate of \n"
     ]
    },
    {
     "data": {
      "text/latex": [
       "$\\displaystyle  \\pi: 3.0973084886128364$"
      ],
      "text/plain": [
       "<IPython.core.display.Math object>"
      ]
     },
     "metadata": {},
     "output_type": "display_data"
    },
    {
     "name": "stdout",
     "output_type": "stream",
     "text": [
      "current estimate of \n"
     ]
    },
    {
     "data": {
      "text/latex": [
       "$\\displaystyle  \\pi: 3.0991735537190084$"
      ],
      "text/plain": [
       "<IPython.core.display.Math object>"
      ]
     },
     "metadata": {},
     "output_type": "display_data"
    },
    {
     "name": "stdout",
     "output_type": "stream",
     "text": [
      "current estimate of \n"
     ]
    },
    {
     "data": {
      "text/latex": [
       "$\\displaystyle  \\pi: 3.0927835051546393$"
      ],
      "text/plain": [
       "<IPython.core.display.Math object>"
      ]
     },
     "metadata": {},
     "output_type": "display_data"
    },
    {
     "name": "stdout",
     "output_type": "stream",
     "text": [
      "current estimate of \n"
     ]
    },
    {
     "data": {
      "text/latex": [
       "$\\displaystyle  \\pi: 3.094650205761317$"
      ],
      "text/plain": [
       "<IPython.core.display.Math object>"
      ]
     },
     "metadata": {},
     "output_type": "display_data"
    },
    {
     "name": "stdout",
     "output_type": "stream",
     "text": [
      "current estimate of \n"
     ]
    },
    {
     "data": {
      "text/latex": [
       "$\\displaystyle  \\pi: 3.0965092402464065$"
      ],
      "text/plain": [
       "<IPython.core.display.Math object>"
      ]
     },
     "metadata": {},
     "output_type": "display_data"
    },
    {
     "name": "stdout",
     "output_type": "stream",
     "text": [
      "current estimate of \n"
     ]
    },
    {
     "data": {
      "text/latex": [
       "$\\displaystyle  \\pi: 3.098360655737705$"
      ],
      "text/plain": [
       "<IPython.core.display.Math object>"
      ]
     },
     "metadata": {},
     "output_type": "display_data"
    },
    {
     "name": "stdout",
     "output_type": "stream",
     "text": [
      "current estimate of \n"
     ]
    },
    {
     "data": {
      "text/latex": [
       "$\\displaystyle  \\pi: 3.1002044989775053$"
      ],
      "text/plain": [
       "<IPython.core.display.Math object>"
      ]
     },
     "metadata": {},
     "output_type": "display_data"
    },
    {
     "name": "stdout",
     "output_type": "stream",
     "text": [
      "current estimate of \n"
     ]
    },
    {
     "data": {
      "text/latex": [
       "$\\displaystyle  \\pi: 3.1020408163265305$"
      ],
      "text/plain": [
       "<IPython.core.display.Math object>"
      ]
     },
     "metadata": {},
     "output_type": "display_data"
    },
    {
     "name": "stdout",
     "output_type": "stream",
     "text": [
      "current estimate of \n"
     ]
    },
    {
     "data": {
      "text/latex": [
       "$\\displaystyle  \\pi: 3.095723014256619$"
      ],
      "text/plain": [
       "<IPython.core.display.Math object>"
      ]
     },
     "metadata": {},
     "output_type": "display_data"
    },
    {
     "name": "stdout",
     "output_type": "stream",
     "text": [
      "current estimate of \n"
     ]
    },
    {
     "data": {
      "text/latex": [
       "$\\displaystyle  \\pi: 3.089430894308943$"
      ],
      "text/plain": [
       "<IPython.core.display.Math object>"
      ]
     },
     "metadata": {},
     "output_type": "display_data"
    },
    {
     "name": "stdout",
     "output_type": "stream",
     "text": [
      "current estimate of \n"
     ]
    },
    {
     "data": {
      "text/latex": [
       "$\\displaystyle  \\pi: 3.0912778904665315$"
      ],
      "text/plain": [
       "<IPython.core.display.Math object>"
      ]
     },
     "metadata": {},
     "output_type": "display_data"
    },
    {
     "name": "stdout",
     "output_type": "stream",
     "text": [
      "current estimate of \n"
     ]
    },
    {
     "data": {
      "text/latex": [
       "$\\displaystyle  \\pi: 3.0931174089068825$"
      ],
      "text/plain": [
       "<IPython.core.display.Math object>"
      ]
     },
     "metadata": {},
     "output_type": "display_data"
    },
    {
     "name": "stdout",
     "output_type": "stream",
     "text": [
      "current estimate of \n"
     ]
    },
    {
     "data": {
      "text/latex": [
       "$\\displaystyle  \\pi: 3.0868686868686868$"
      ],
      "text/plain": [
       "<IPython.core.display.Math object>"
      ]
     },
     "metadata": {},
     "output_type": "display_data"
    },
    {
     "name": "stdout",
     "output_type": "stream",
     "text": [
      "current estimate of \n"
     ]
    },
    {
     "data": {
      "text/latex": [
       "$\\displaystyle  \\pi: 3.088709677419355$"
      ],
      "text/plain": [
       "<IPython.core.display.Math object>"
      ]
     },
     "metadata": {},
     "output_type": "display_data"
    },
    {
     "name": "stdout",
     "output_type": "stream",
     "text": [
      "current estimate of \n"
     ]
    },
    {
     "data": {
      "text/latex": [
       "$\\displaystyle  \\pi: 3.090543259557344$"
      ],
      "text/plain": [
       "<IPython.core.display.Math object>"
      ]
     },
     "metadata": {},
     "output_type": "display_data"
    },
    {
     "name": "stdout",
     "output_type": "stream",
     "text": [
      "current estimate of \n"
     ]
    },
    {
     "data": {
      "text/latex": [
       "$\\displaystyle  \\pi: 3.0923694779116464$"
      ],
      "text/plain": [
       "<IPython.core.display.Math object>"
      ]
     },
     "metadata": {},
     "output_type": "display_data"
    },
    {
     "data": {
      "image/png": "[encoded data removed]",
      "text/plain": [
       "<Figure size 720x720 with 1 Axes>"
      ]
     },
     "metadata": {
      "needs_background": "light"
     },
     "output_type": "display_data"
    }
   ],
   "source": [
    "MonteCarloAnimation(500)"
   ]
  },
  {
   "cell_type": "code",
   "execution_count": null,
   "metadata": {},
   "outputs": [],
   "source": []
  },
  {
   "cell_type": "code",
   "execution_count": null,
   "metadata": {},
   "outputs": [],
   "source": []
  }
 ],
 "metadata": {
  "kernelspec": {
   "display_name": "Python 3 (ipykernel)",
   "language": "python",
   "name": "python3"
  },
  "language_info": {
   "codemirror_mode": {
    "name": "ipython",
    "version": 3
   },
   "file_extension": ".py",
   "mimetype": "text/x-python",
   "name": "python",
   "nbconvert_exporter": "python",
   "pygments_lexer": "ipython3",
   "version": "3.9.13"
  }
 },
 "nbformat": 4,
 "nbformat_minor": 4
}
