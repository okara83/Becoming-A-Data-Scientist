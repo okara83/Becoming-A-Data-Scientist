{
 "cells": [
  {
   "cell_type": "code",
   "execution_count": 13,
   "metadata": {},
   "outputs": [
    {
     "name": "stdout",
     "output_type": "stream",
     "text": [
      "\u001b[32m\u001b[1mActivating\u001b[22m\u001b[39m environment at `C:\\Users\\carsten\\Desktop\\Oulu2020\\Project.toml`\n"
     ]
    }
   ],
   "source": [
    "] activate ../../"
   ]
  },
  {
   "cell_type": "markdown",
   "metadata": {},
   "source": [
    "# STREAM Benchmark"
   ]
  },
  {
   "cell_type": "markdown",
   "metadata": {},
   "source": [
    "Resources: https://blogs.fau.de/hager/archives/8263, https://www.cs.virginia.edu/stream/"
   ]
  },
  {
   "cell_type": "markdown",
   "metadata": {},
   "source": [
    "Getting a realistic estimate of the achievable maximal memory bandwidth."
   ]
  },
  {
   "cell_type": "markdown",
   "metadata": {},
   "source": [
    "## Kernel"
   ]
  },
  {
   "cell_type": "code",
   "execution_count": 7,
   "metadata": {},
   "outputs": [
    {
     "data": {
      "text/plain": [
       "triad (generic function with 2 methods)"
      ]
     },
     "execution_count": 7,
     "metadata": {},
     "output_type": "execute_result"
    }
   ],
   "source": [
    "function copy(C,A)\n",
    "    @assert length(C) == length(A)\n",
    "    @inbounds for i in eachindex(C,A)\n",
    "        C[i] = A[i]\n",
    "    end\n",
    "    nothing\n",
    "end\n",
    "\n",
    "function scale(B,C,s)\n",
    "    @assert length(C) == length(B)\n",
    "    @inbounds for i in eachindex(C)\n",
    "        B[i] = s * C[i]\n",
    "    end\n",
    "    nothing\n",
    "end\n",
    "\n",
    "function add(C,A,B)\n",
    "    @assert length(C) == length(B) == length(A)\n",
    "    @inbounds for i in eachindex(C)\n",
    "        C[i] = A[i] + B[i]\n",
    "    end\n",
    "    nothing\n",
    "end\n",
    "\n",
    "function triad(A,B,C,s)\n",
    "    @assert length(C) == length(B) == length(A)\n",
    "    @inbounds for i in eachindex(C)\n",
    "        A[i] = B[i] + s*C[i]\n",
    "    end\n",
    "    nothing\n",
    "end"
   ]
  },
  {
   "cell_type": "code",
   "execution_count": 35,
   "metadata": {},
   "outputs": [],
   "source": [
    "using CpuId\n",
    "\n",
    "N = 2 * Int(4 * last(cachesize()) / 8) # rule of thumb\n",
    "A, B, C, D = zeros(N), zeros(N), zeros(N), zeros(N);\n",
    "s = rand();"
   ]
  },
  {
   "cell_type": "code",
   "execution_count": 41,
   "metadata": {},
   "outputs": [
    {
     "name": "stdout",
     "output_type": "stream",
     "text": [
      "COPY:  30.319661050982916 GB/s\n",
      "SCALE: 30.193547922664337 GB/s\n",
      "ADD:   27.856793759242 GB/s\n",
      "TRIAD: 28.070409637210343 GB/s\n"
     ]
    }
   ],
   "source": [
    "using BenchmarkTools\n",
    "\n",
    "#assuming write-allocate transfers below\n",
    "t_copy = @belapsed copy($C, $A)\n",
    "membw_copy = N*24*1e-9/t_copy\n",
    "println(\"COPY:  \", membw_copy, \" GB/s\")\n",
    "\n",
    "t_scale = @belapsed scale($B, $C, $s)\n",
    "membw_scale = N*24*1e-9/t_scale\n",
    "println(\"SCALE: \", membw_scale, \" GB/s\")\n",
    "\n",
    "t_add = @belapsed add($C, $A, $B)\n",
    "membw_add = N*32*1e-9/t_add\n",
    "println(\"ADD:   \", membw_add, \" GB/s\")\n",
    "\n",
    "t_triad = @belapsed triad($A, $B, $C, $s)\n",
    "membw_triad = N*32*1e-9/t_triad\n",
    "println(\"TRIAD: \", membw_triad, \" GB/s\")"
   ]
  },
  {
   "cell_type": "code",
   "execution_count": 50,
   "metadata": {},
   "outputs": [
    {
     "name": "stdout",
     "output_type": "stream",
     "text": [
      "Mean max. memory bandwidth: 29.11 GB/s\n"
     ]
    }
   ],
   "source": [
    "using Statistics\n",
    "membw_mean = mean([membw_copy, membw_scale, membw_add, membw_triad])\n",
    "println(\"Mean max. memory bandwidth: \", round(membw_mean, digits=2), \" GB/s\")"
   ]
  },
  {
   "cell_type": "markdown",
   "metadata": {},
   "source": [
    "Checking the [Intel specification for the i5-6600](https://ark.intel.com/content/www/de/de/ark/products/88188/intel-core-i5-6600-processor-6m-cache-up-to-3-90-ghz.html), we find that the theoretical maximal memory bandwidth is 34.1 GB/s,"
   ]
  },
  {
   "cell_type": "code",
   "execution_count": 53,
   "metadata": {},
   "outputs": [],
   "source": [
    "membw_theory = 34.1;"
   ]
  },
  {
   "cell_type": "code",
   "execution_count": 54,
   "metadata": {},
   "outputs": [
    {
     "data": {
      "text/plain": [
       "0.8536687123907595"
      ]
     },
     "execution_count": 54,
     "metadata": {},
     "output_type": "execute_result"
    }
   ],
   "source": [
    "membw_mean/membw_theory"
   ]
  }
 ],
 "metadata": {
  "kernelspec": {
   "display_name": "Julia (4 threads) 1.3.1",
   "language": "julia",
   "name": "julia-(4-threads)-1.3"
  },
  "language_info": {
   "file_extension": ".jl",
   "mimetype": "application/julia",
   "name": "julia",
   "version": "1.3.1"
  }
 },
 "nbformat": 4,
 "nbformat_minor": 4
}
