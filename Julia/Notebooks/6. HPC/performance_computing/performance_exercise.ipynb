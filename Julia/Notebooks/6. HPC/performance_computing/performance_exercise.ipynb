{
 "cells": [
  {
   "cell_type": "code",
   "execution_count": 7,
   "metadata": {},
   "outputs": [
    {
     "name": "stdout",
     "output_type": "stream",
     "text": [
      "\u001b[32m\u001b[1mActivating\u001b[22m\u001b[39m environment at `C:\\Users\\carsten\\Desktop\\Oulu2020\\Project.toml`\n"
     ]
    }
   ],
   "source": [
    "] activate ../../"
   ]
  },
  {
   "cell_type": "markdown",
   "metadata": {},
   "source": [
    "## Problem"
   ]
  },
  {
   "cell_type": "markdown",
   "metadata": {},
   "source": [
    "Optimize the following function."
   ]
  },
  {
   "cell_type": "code",
   "execution_count": 8,
   "metadata": {},
   "outputs": [
    {
     "data": {
      "text/plain": [
       "work (generic function with 1 method)"
      ]
     },
     "execution_count": 8,
     "metadata": {},
     "output_type": "execute_result"
    }
   ],
   "source": [
    "function work(mat, s, v, N)\n",
    "    val = 0.0\n",
    "    for i in 1:N\n",
    "        for j in 1:N\n",
    "            val = mod(v[i],256);\n",
    "            mat[i,j] = s[i,j]*(sin(val)*sin(val)-cos(val)*cos(val));\n",
    "        end\n",
    "    end;\n",
    "end"
   ]
  },
  {
   "cell_type": "code",
   "execution_count": 9,
   "metadata": {},
   "outputs": [
    {
     "data": {
      "text/plain": [
       "\u001b[32m\u001b[1mTest Passed\u001b[22m\u001b[39m"
      ]
     },
     "execution_count": 9,
     "metadata": {},
     "output_type": "execute_result"
    }
   ],
   "source": [
    "using Test\n",
    "x = rand()\n",
    "@test 1-2*cos(x)*cos(x) ≈ sin(x)*sin(x)-cos(x)*cos(x)\n",
    "@test -cos(2*x) ≈ sin(x)*sin(x)-cos(x)*cos(x)"
   ]
  },
  {
   "cell_type": "code",
   "execution_count": 10,
   "metadata": {},
   "outputs": [
    {
     "data": {
      "text/plain": [
       "opt1 (generic function with 1 method)"
      ]
     },
     "execution_count": 10,
     "metadata": {},
     "output_type": "execute_result"
    }
   ],
   "source": [
    "# pulling out + analytical opt\n",
    "function opt1(mat, s, v, N)\n",
    "    val = 0.0\n",
    "    @inbounds for i in 1:N\n",
    "        val = mod(v[i],256);\n",
    "        val = -cos(2*val)\n",
    "        for j in 1:N\n",
    "            mat[i,j] = s[i,j]*val;\n",
    "        end\n",
    "    end;\n",
    "    mat\n",
    "end"
   ]
  },
  {
   "cell_type": "code",
   "execution_count": 11,
   "metadata": {},
   "outputs": [
    {
     "data": {
      "text/plain": [
       "opt12 (generic function with 1 method)"
      ]
     },
     "execution_count": 11,
     "metadata": {},
     "output_type": "execute_result"
    }
   ],
   "source": [
    "# pulling out + analytical opt + allocate values\n",
    "function opt12(mat, s, v, N)\n",
    "    val = Vector{Float64}(undef, length(v))\n",
    "    @inbounds for i in eachindex(val)\n",
    "        val[i] = -cos(2*mod(v[i],256));\n",
    "    end\n",
    "    \n",
    "    @inbounds for i in 1:N\n",
    "        for j in 1:N\n",
    "            mat[i,j] = s[i,j]*val[i];\n",
    "        end\n",
    "    end;\n",
    "    mat\n",
    "end"
   ]
  },
  {
   "cell_type": "code",
   "execution_count": 12,
   "metadata": {},
   "outputs": [
    {
     "data": {
      "text/plain": [
       "opt2 (generic function with 1 method)"
      ]
     },
     "execution_count": 12,
     "metadata": {},
     "output_type": "execute_result"
    }
   ],
   "source": [
    "# reordering loops\n",
    "function opt2(mat, s, v, N)\n",
    "    val = 0.0\n",
    "    @inbounds for j in 1:N\n",
    "        for i in 1:N\n",
    "            val = mod(v[i],256);\n",
    "            val = -cos(2*val)\n",
    "            mat[i,j] = s[i,j]*val;\n",
    "        end\n",
    "    end;\n",
    "end"
   ]
  },
  {
   "cell_type": "code",
   "execution_count": 13,
   "metadata": {},
   "outputs": [
    {
     "data": {
      "text/plain": [
       "opt22 (generic function with 1 method)"
      ]
     },
     "execution_count": 13,
     "metadata": {},
     "output_type": "execute_result"
    }
   ],
   "source": [
    "# reordering loops + allocate values\n",
    "function opt22(mat, s, v, N)\n",
    "    val = Vector{Float64}(undef, length(v))\n",
    "    @inbounds for i in eachindex(val)\n",
    "        val[i] = -cos(2*mod(v[i],256));\n",
    "    end\n",
    "    \n",
    "    @inbounds for j in 1:N\n",
    "        for i in 1:N\n",
    "            mat[i,j] = s[i,j]*val[i];\n",
    "        end\n",
    "    end;\n",
    "end"
   ]
  },
  {
   "cell_type": "markdown",
   "metadata": {},
   "source": [
    "More optimizations: blocking, tabling values of `val`..."
   ]
  },
  {
   "cell_type": "markdown",
   "metadata": {},
   "source": [
    "## Single thread benchmarks"
   ]
  },
  {
   "cell_type": "code",
   "execution_count": 14,
   "metadata": {},
   "outputs": [],
   "source": [
    "using BenchmarkTools\n",
    "N = 4000\n",
    "mat = zeros(N,N)\n",
    "s = rand(N,N)\n",
    "v = rand(Int, N);"
   ]
  },
  {
   "cell_type": "code",
   "execution_count": 15,
   "metadata": {},
   "outputs": [
    {
     "name": "stdout",
     "output_type": "stream",
     "text": [
      "Performance: 18.8213549916939 MIt/s\n"
     ]
    }
   ],
   "source": [
    "runtime = @belapsed work($mat, $s, $v, $N);\n",
    "perf = N*N*1e-6/runtime # MIt/s\n",
    "println(\"Performance: $perf MIt/s\")"
   ]
  },
  {
   "cell_type": "code",
   "execution_count": 16,
   "metadata": {},
   "outputs": [
    {
     "name": "stdout",
     "output_type": "stream",
     "text": [
      "Performance: 73.55614989844126 MIt/s\n"
     ]
    }
   ],
   "source": [
    "runtime = @belapsed opt1($mat, $s, $v, $N);\n",
    "perf = N*N*1e-6/runtime # MIt/s\n",
    "println(\"Performance: $perf MIt/s\")"
   ]
  },
  {
   "cell_type": "code",
   "execution_count": 17,
   "metadata": {},
   "outputs": [
    {
     "name": "stdout",
     "output_type": "stream",
     "text": [
      "Performance: 69.98399553502108 MIt/s\n"
     ]
    }
   ],
   "source": [
    "runtime = @belapsed opt12($mat, $s, $v, $N);\n",
    "perf = N*N*1e-6/runtime # MIt/s\n",
    "println(\"Performance: $perf MIt/s\")"
   ]
  },
  {
   "cell_type": "code",
   "execution_count": 18,
   "metadata": {},
   "outputs": [
    {
     "name": "stdout",
     "output_type": "stream",
     "text": [
      "Performance: 54.70927169892555 MIt/s\n"
     ]
    }
   ],
   "source": [
    "runtime = @belapsed opt2($mat, $s, $v, $N);\n",
    "perf = N*N*1e-6/runtime # MIt/s\n",
    "println(\"Performance: $perf MIt/s\")"
   ]
  },
  {
   "cell_type": "code",
   "execution_count": 19,
   "metadata": {},
   "outputs": [
    {
     "name": "stdout",
     "output_type": "stream",
     "text": [
      "Performance: 1037.6404057173986 MIt/s\n"
     ]
    }
   ],
   "source": [
    "runtime = @belapsed opt22($mat, $s, $v, $N);\n",
    "perf = N*N*1e-6/runtime # MIt/s\n",
    "println(\"Performance: $perf MIt/s\")"
   ]
  },
  {
   "cell_type": "markdown",
   "metadata": {},
   "source": [
    "## Multi-threading"
   ]
  },
  {
   "cell_type": "code",
   "execution_count": 20,
   "metadata": {},
   "outputs": [
    {
     "data": {
      "text/plain": [
       "4"
      ]
     },
     "execution_count": 20,
     "metadata": {},
     "output_type": "execute_result"
    }
   ],
   "source": [
    "using Hwloc\n",
    "Hwloc.num_physical_cores()"
   ]
  },
  {
   "cell_type": "code",
   "execution_count": 21,
   "metadata": {},
   "outputs": [
    {
     "data": {
      "text/plain": [
       "4"
      ]
     },
     "execution_count": 21,
     "metadata": {},
     "output_type": "execute_result"
    }
   ],
   "source": [
    "Base.Threads.nthreads()"
   ]
  },
  {
   "cell_type": "code",
   "execution_count": 22,
   "metadata": {},
   "outputs": [
    {
     "data": {
      "text/plain": [
       "opt22_threaded (generic function with 1 method)"
      ]
     },
     "execution_count": 22,
     "metadata": {},
     "output_type": "execute_result"
    }
   ],
   "source": [
    "function opt22_threaded(mat, s, v, N)\n",
    "    val = Vector{Float64}(undef, length(v))\n",
    "    @inbounds for i in eachindex(val)\n",
    "        val[i] = -cos(2*mod(v[i],256));\n",
    "    end\n",
    "    \n",
    "    @inbounds Threads.@threads for j in 1:N\n",
    "        for i in 1:N\n",
    "            mat[i,j] = s[i,j]*val[i];\n",
    "        end\n",
    "    end;\n",
    "    mat\n",
    "end"
   ]
  },
  {
   "cell_type": "code",
   "execution_count": 23,
   "metadata": {},
   "outputs": [
    {
     "name": "stdout",
     "output_type": "stream",
     "text": [
      "Performance: 1070.9433002456476 MIt/s\n"
     ]
    }
   ],
   "source": [
    "runtime = @belapsed opt22_threaded($mat, $s, $v, $N);\n",
    "perf = N*N*1e-6/runtime # MIt/s\n",
    "println(\"Performance: $perf MIt/s\")"
   ]
  },
  {
   "cell_type": "markdown",
   "metadata": {},
   "source": [
    "## Maximal performance?"
   ]
  },
  {
   "cell_type": "code",
   "execution_count": 250,
   "metadata": {},
   "outputs": [
    {
     "name": "stdout",
     "output_type": "stream",
     "text": [
      "Memory bounded performance: 1.21 GIt/s\n"
     ]
    }
   ],
   "source": [
    "bs = 29 # [GB/s] max memory bandwidth (estimated from STREAM benchmark, 34 GB/s is the Intel value)\n",
    "flops = 1\n",
    "traffic = 24 # [B/iter] in each iteration we have: LOAD s, LOAD + STORE mat, each contributing 8 B\n",
    "I = flops / traffic\n",
    "println(\"Memory bounded performance: \", round(I*bs, digits=2), \" GIt/s\")"
   ]
  },
  {
   "cell_type": "markdown",
   "metadata": {},
   "source": [
    "#### \"Roofline model\""
   ]
  },
  {
   "cell_type": "code",
   "execution_count": 243,
   "metadata": {},
   "outputs": [
    {
     "data": {
      "text/plain": [
       "249.6"
      ]
     },
     "execution_count": 243,
     "metadata": {},
     "output_type": "execute_result"
    }
   ],
   "source": [
    "using CpuId\n",
    "clock = cpu_max_frequency() * 1e-3 # [GHz], turbo clock frequency\n",
    "\n",
    "fma_per_cycle = 2\n",
    "\n",
    "flops_per_fma = 4*2 # AVX2, 32 byte registers, 4 mul 4 add\n",
    "\n",
    "flops_per_cycle = flops_per_fma * fma_per_cycle\n",
    "\n",
    "ncores = cpucores() # used cores\n",
    "\n",
    "P_peak = clock * flops_per_cycle * ncores # Gflops/s"
   ]
  },
  {
   "cell_type": "markdown",
   "metadata": {},
   "source": [
    "Test realistic peak performance using `peakflops`, which is based on [LinearAlgebra.BLAS.gemm!](https://docs.julialang.org/en/latest/stdlib/LinearAlgebra/#LinearAlgebra.BLAS.gemm!), i.e. `C[i] = α*A[i]*B[i]+βC[i]`."
   ]
  },
  {
   "cell_type": "code",
   "execution_count": 161,
   "metadata": {},
   "outputs": [],
   "source": [
    "# using LinearAlgebra\n",
    "# using Statistics\n",
    "# BLAS.set_num_threads(4)\n",
    "# p = [peakflops(Int(i*1e3)) * 1e-9 for i in 1:12]\n",
    "# mean(p[end-2:end])"
   ]
  },
  {
   "cell_type": "code",
   "execution_count": 252,
   "metadata": {},
   "outputs": [
    {
     "data": {
      "image/svg+xml": [
       "<?xml version=\"1.0\" encoding=\"utf-8\"?>\n",
       "<svg xmlns=\"http://www.w3.org/2000/svg\" xmlns:xlink=\"http://www.w3.org/1999/xlink\" width=\"600\" height=\"400\" viewBox=\"0 0 2400 1600\">\n",
       "<defs>\n",
       "  <clipPath id=\"clip7900\">\n",
       "    <rect x=\"0\" y=\"0\" width=\"2400\" height=\"1600\"/>\n",
       "  </clipPath>\n",
       "</defs>\n",
       "<path clip-path=\"url(#clip7900)\" d=\"\n",
       "M0 1600 L2400 1600 L2400 0 L0 0  Z\n",
       "  \" fill=\"#ffffff\" fill-rule=\"evenodd\" fill-opacity=\"1\"/>\n",
       "<defs>\n",
       "  <clipPath id=\"clip7901\">\n",
       "    <rect x=\"480\" y=\"0\" width=\"1681\" height=\"1600\"/>\n",
       "  </clipPath>\n",
       "</defs>\n",
       "<path clip-path=\"url(#clip7900)\" d=\"\n",
       "M279.82 1425.62 L2352.76 1425.62 L2352.76 47.2441 L279.82 47.2441  Z\n",
       "  \" fill=\"#ffffff\" fill-rule=\"evenodd\" fill-opacity=\"1\"/>\n",
       "<defs>\n",
       "  <clipPath id=\"clip7902\">\n",
       "    <rect x=\"279\" y=\"47\" width=\"2074\" height=\"1379\"/>\n",
       "  </clipPath>\n",
       "</defs>\n",
       "<polyline clip-path=\"url(#clip7902)\" style=\"stroke:#000000; stroke-width:2; stroke-opacity:0.1; fill:none\" points=\"\n",
       "  598.733,1425.62 598.733,47.2441 \n",
       "  \"/>\n",
       "<polyline clip-path=\"url(#clip7902)\" style=\"stroke:#000000; stroke-width:2; stroke-opacity:0.1; fill:none\" points=\"\n",
       "  1077.1,1425.62 1077.1,47.2441 \n",
       "  \"/>\n",
       "<polyline clip-path=\"url(#clip7902)\" style=\"stroke:#000000; stroke-width:2; stroke-opacity:0.1; fill:none\" points=\"\n",
       "  1555.47,1425.62 1555.47,47.2441 \n",
       "  \"/>\n",
       "<polyline clip-path=\"url(#clip7902)\" style=\"stroke:#000000; stroke-width:2; stroke-opacity:0.1; fill:none\" points=\"\n",
       "  2033.84,1425.62 2033.84,47.2441 \n",
       "  \"/>\n",
       "<polyline clip-path=\"url(#clip7902)\" style=\"stroke:#000000; stroke-width:2; stroke-opacity:0.1; fill:none\" points=\"\n",
       "  279.82,1164.45 2352.76,1164.45 \n",
       "  \"/>\n",
       "<polyline clip-path=\"url(#clip7902)\" style=\"stroke:#000000; stroke-width:2; stroke-opacity:0.1; fill:none\" points=\"\n",
       "  279.82,875.482 2352.76,875.482 \n",
       "  \"/>\n",
       "<polyline clip-path=\"url(#clip7902)\" style=\"stroke:#000000; stroke-width:2; stroke-opacity:0.1; fill:none\" points=\"\n",
       "  279.82,586.515 2352.76,586.515 \n",
       "  \"/>\n",
       "<polyline clip-path=\"url(#clip7902)\" style=\"stroke:#000000; stroke-width:2; stroke-opacity:0.1; fill:none\" points=\"\n",
       "  279.82,297.547 2352.76,297.547 \n",
       "  \"/>\n",
       "<polyline clip-path=\"url(#clip7900)\" style=\"stroke:#000000; stroke-width:4; stroke-opacity:1; fill:none\" points=\"\n",
       "  279.82,1425.62 2352.76,1425.62 \n",
       "  \"/>\n",
       "<polyline clip-path=\"url(#clip7900)\" style=\"stroke:#000000; stroke-width:4; stroke-opacity:1; fill:none\" points=\"\n",
       "  279.82,1425.62 279.82,47.2441 \n",
       "  \"/>\n",
       "<polyline clip-path=\"url(#clip7900)\" style=\"stroke:#000000; stroke-width:4; stroke-opacity:1; fill:none\" points=\"\n",
       "  598.733,1425.62 598.733,1409.08 \n",
       "  \"/>\n",
       "<polyline clip-path=\"url(#clip7900)\" style=\"stroke:#000000; stroke-width:4; stroke-opacity:1; fill:none\" points=\"\n",
       "  1077.1,1425.62 1077.1,1409.08 \n",
       "  \"/>\n",
       "<polyline clip-path=\"url(#clip7900)\" style=\"stroke:#000000; stroke-width:4; stroke-opacity:1; fill:none\" points=\"\n",
       "  1555.47,1425.62 1555.47,1409.08 \n",
       "  \"/>\n",
       "<polyline clip-path=\"url(#clip7900)\" style=\"stroke:#000000; stroke-width:4; stroke-opacity:1; fill:none\" points=\"\n",
       "  2033.84,1425.62 2033.84,1409.08 \n",
       "  \"/>\n",
       "<polyline clip-path=\"url(#clip7900)\" style=\"stroke:#000000; stroke-width:4; stroke-opacity:1; fill:none\" points=\"\n",
       "  279.82,1164.45 304.695,1164.45 \n",
       "  \"/>\n",
       "<polyline clip-path=\"url(#clip7900)\" style=\"stroke:#000000; stroke-width:4; stroke-opacity:1; fill:none\" points=\"\n",
       "  279.82,875.482 304.695,875.482 \n",
       "  \"/>\n",
       "<polyline clip-path=\"url(#clip7900)\" style=\"stroke:#000000; stroke-width:4; stroke-opacity:1; fill:none\" points=\"\n",
       "  279.82,586.515 304.695,586.515 \n",
       "  \"/>\n",
       "<polyline clip-path=\"url(#clip7900)\" style=\"stroke:#000000; stroke-width:4; stroke-opacity:1; fill:none\" points=\"\n",
       "  279.82,297.547 304.695,297.547 \n",
       "  \"/>\n",
       "<g clip-path=\"url(#clip7900)\">\n",
       "<text style=\"fill:#000000; fill-opacity:1; font-family:Arial,Helvetica Neue,Helvetica,sans-serif; font-size:48px; text-anchor:start;\" transform=\"rotate(0, 544.243, 1500.63)\" x=\"544.243\" y=\"1500.63\">10</text>\n",
       "</g>\n",
       "<g clip-path=\"url(#clip7900)\">\n",
       "<text style=\"fill:#000000; fill-opacity:1; font-family:Arial,Helvetica Neue,Helvetica,sans-serif; font-size:38px; text-anchor:start;\" transform=\"rotate(0, 597.768, 1473.22)\" x=\"597.768\" y=\"1473.22\">-</text>\n",
       "</g>\n",
       "<g clip-path=\"url(#clip7900)\">\n",
       "<text style=\"fill:#000000; fill-opacity:1; font-family:Arial,Helvetica Neue,Helvetica,sans-serif; font-size:38px; text-anchor:start;\" transform=\"rotate(0, 620.607, 1473.22)\" x=\"620.607\" y=\"1473.22\">3 </text>\n",
       "</g>\n",
       "<g clip-path=\"url(#clip7900)\">\n",
       "<text style=\"fill:#000000; fill-opacity:1; font-family:Arial,Helvetica Neue,Helvetica,sans-serif; font-size:48px; text-anchor:start;\" transform=\"rotate(0, 1034.03, 1500.63)\" x=\"1034.03\" y=\"1500.63\">10</text>\n",
       "</g>\n",
       "<g clip-path=\"url(#clip7900)\">\n",
       "<text style=\"fill:#000000; fill-opacity:1; font-family:Arial,Helvetica Neue,Helvetica,sans-serif; font-size:38px; text-anchor:start;\" transform=\"rotate(0, 1087.56, 1473.22)\" x=\"1087.56\" y=\"1473.22\">0 </text>\n",
       "</g>\n",
       "<g clip-path=\"url(#clip7900)\">\n",
       "<text style=\"fill:#000000; fill-opacity:1; font-family:Arial,Helvetica Neue,Helvetica,sans-serif; font-size:48px; text-anchor:start;\" transform=\"rotate(0, 1512.4, 1500.63)\" x=\"1512.4\" y=\"1500.63\">10</text>\n",
       "</g>\n",
       "<g clip-path=\"url(#clip7900)\">\n",
       "<text style=\"fill:#000000; fill-opacity:1; font-family:Arial,Helvetica Neue,Helvetica,sans-serif; font-size:38px; text-anchor:start;\" transform=\"rotate(0, 1565.93, 1473.22)\" x=\"1565.93\" y=\"1473.22\">3 </text>\n",
       "</g>\n",
       "<g clip-path=\"url(#clip7900)\">\n",
       "<text style=\"fill:#000000; fill-opacity:1; font-family:Arial,Helvetica Neue,Helvetica,sans-serif; font-size:48px; text-anchor:start;\" transform=\"rotate(0, 1990.77, 1500.63)\" x=\"1990.77\" y=\"1500.63\">10</text>\n",
       "</g>\n",
       "<g clip-path=\"url(#clip7900)\">\n",
       "<text style=\"fill:#000000; fill-opacity:1; font-family:Arial,Helvetica Neue,Helvetica,sans-serif; font-size:38px; text-anchor:start;\" transform=\"rotate(0, 2044.3, 1473.22)\" x=\"2044.3\" y=\"1473.22\">6 </text>\n",
       "</g>\n",
       "<g clip-path=\"url(#clip7900)\">\n",
       "<text style=\"fill:#000000; fill-opacity:1; font-family:Arial,Helvetica Neue,Helvetica,sans-serif; font-size:48px; text-anchor:start;\" transform=\"rotate(0, 146.839, 1188.18)\" x=\"146.839\" y=\"1188.18\">10</text>\n",
       "</g>\n",
       "<g clip-path=\"url(#clip7900)\">\n",
       "<text style=\"fill:#000000; fill-opacity:1; font-family:Arial,Helvetica Neue,Helvetica,sans-serif; font-size:38px; text-anchor:start;\" transform=\"rotate(0, 200.364, 1160.77)\" x=\"200.364\" y=\"1160.77\">-</text>\n",
       "</g>\n",
       "<g clip-path=\"url(#clip7900)\">\n",
       "<text style=\"fill:#000000; fill-opacity:1; font-family:Arial,Helvetica Neue,Helvetica,sans-serif; font-size:38px; text-anchor:start;\" transform=\"rotate(0, 223.203, 1160.77)\" x=\"223.203\" y=\"1160.77\">2 </text>\n",
       "</g>\n",
       "<g clip-path=\"url(#clip7900)\">\n",
       "<text style=\"fill:#000000; fill-opacity:1; font-family:Arial,Helvetica Neue,Helvetica,sans-serif; font-size:48px; text-anchor:start;\" transform=\"rotate(0, 169.679, 899.21)\" x=\"169.679\" y=\"899.21\">10</text>\n",
       "</g>\n",
       "<g clip-path=\"url(#clip7900)\">\n",
       "<text style=\"fill:#000000; fill-opacity:1; font-family:Arial,Helvetica Neue,Helvetica,sans-serif; font-size:38px; text-anchor:start;\" transform=\"rotate(0, 223.203, 871.799)\" x=\"223.203\" y=\"871.799\">0 </text>\n",
       "</g>\n",
       "<g clip-path=\"url(#clip7900)\">\n",
       "<text style=\"fill:#000000; fill-opacity:1; font-family:Arial,Helvetica Neue,Helvetica,sans-serif; font-size:48px; text-anchor:start;\" transform=\"rotate(0, 169.679, 610.242)\" x=\"169.679\" y=\"610.242\">10</text>\n",
       "</g>\n",
       "<g clip-path=\"url(#clip7900)\">\n",
       "<text style=\"fill:#000000; fill-opacity:1; font-family:Arial,Helvetica Neue,Helvetica,sans-serif; font-size:38px; text-anchor:start;\" transform=\"rotate(0, 223.203, 582.832)\" x=\"223.203\" y=\"582.832\">2 </text>\n",
       "</g>\n",
       "<g clip-path=\"url(#clip7900)\">\n",
       "<text style=\"fill:#000000; fill-opacity:1; font-family:Arial,Helvetica Neue,Helvetica,sans-serif; font-size:48px; text-anchor:start;\" transform=\"rotate(0, 169.679, 321.275)\" x=\"169.679\" y=\"321.275\">10</text>\n",
       "</g>\n",
       "<g clip-path=\"url(#clip7900)\">\n",
       "<text style=\"fill:#000000; fill-opacity:1; font-family:Arial,Helvetica Neue,Helvetica,sans-serif; font-size:38px; text-anchor:start;\" transform=\"rotate(0, 223.203, 293.865)\" x=\"223.203\" y=\"293.865\">4 </text>\n",
       "</g>\n",
       "<polyline clip-path=\"url(#clip7902)\" style=\"stroke:#000000; stroke-width:4; stroke-opacity:1; fill:none\" points=\"\n",
       "  279.82,47.2441 2352.76,47.2441 \n",
       "  \"/>\n",
       "<polyline clip-path=\"url(#clip7902)\" style=\"stroke:#000000; stroke-width:4; stroke-opacity:1; fill:none\" points=\"\n",
       "  2352.76,1425.62 2352.76,47.2441 \n",
       "  \"/>\n",
       "<g clip-path=\"url(#clip7900)\">\n",
       "<text style=\"fill:#000000; fill-opacity:1; font-family:Arial,Helvetica Neue,Helvetica,sans-serif; font-size:66px; text-anchor:middle;\" transform=\"rotate(0, 1316.29, 1559.48)\" x=\"1316.29\" y=\"1559.48\">Intensity [flops/B]</text>\n",
       "</g>\n",
       "<g clip-path=\"url(#clip7900)\">\n",
       "<text style=\"fill:#000000; fill-opacity:1; font-family:Arial,Helvetica Neue,Helvetica,sans-serif; font-size:66px; text-anchor:middle;\" transform=\"rotate(-90, 89.2861, 736.431)\" x=\"89.2861\" y=\"736.431\">Performance [Gflops/s]</text>\n",
       "</g>\n",
       "<polyline clip-path=\"url(#clip7902)\" style=\"stroke:#0000ff; stroke-width:8; stroke-opacity:1; fill:none\" points=\"\n",
       "  279.82,1386.61 289.062,1378.23 374.517,1300.8 425.871,1254.27 469.291,1214.93 516.457,1172.19 559.94,1132.79 606.558,1090.55 660.57,1041.61 708.569,998.118 \n",
       "  750.66,959.98 796.551,918.398 842.714,876.57 893.753,830.323 942.316,786.32 992.81,740.568 1035.32,702.054 1087.21,655.032 1135.99,610.831 1214.14,540.017 \n",
       "  1226.17,529.119 \n",
       "  \"/>\n",
       "<polyline clip-path=\"url(#clip7902)\" style=\"stroke:#0000ff; stroke-width:8; stroke-opacity:1; fill:none\" stroke-dasharray=\"32, 20\" points=\"\n",
       "  1226.17,529.119 1400.17,371.459 1556.05,230.214 1585.85,203.215 1603.79,186.963 1619.12,173.068 1630.77,162.516 1641.4,152.883 1651.97,143.305 1660.17,135.87 \n",
       "  1666.65,130.005 1673.08,124.178 1678.99,118.817 1684.99,113.378 1690.26,108.608 1695.34,104.004 1699.35,100.375 1703.94,96.2103 1708,92.5328 1714.04,87.0566 \n",
       "  1714.93,86.2547 \n",
       "  \"/>\n",
       "<polyline clip-path=\"url(#clip7902)\" style=\"stroke:#008000; stroke-width:8; stroke-opacity:1; fill:none\" points=\"\n",
       "  1226.17,529.119 2352.76,529.119 \n",
       "  \"/>\n",
       "<polyline clip-path=\"url(#clip7902)\" style=\"stroke:#008000; stroke-width:8; stroke-opacity:1; fill:none\" stroke-dasharray=\"32, 20\" points=\"\n",
       "  279.82,529.119 1226.17,529.119 \n",
       "  \"/>\n",
       "<polyline clip-path=\"url(#clip7902)\" style=\"stroke:#ff0000; stroke-width:8; stroke-opacity:1; fill:none\" points=\"\n",
       "  857.019,1381.18 857.019,863.608 \n",
       "  \"/>\n",
       "<polyline clip-path=\"url(#clip7902)\" style=\"stroke:#ff0000; stroke-width:8; stroke-opacity:1; fill:none\" stroke-dasharray=\"32, 20\" points=\"\n",
       "  279.82,863.608 857.019,863.608 \n",
       "  \"/>\n",
       "<path clip-path=\"url(#clip7900)\" d=\"\n",
       "M1576.51 1281.62 L2280.76 1281.62 L2280.76 979.219 L1576.51 979.219  Z\n",
       "  \" fill=\"#ffffff\" fill-rule=\"evenodd\" fill-opacity=\"1\"/>\n",
       "<polyline clip-path=\"url(#clip7900)\" style=\"stroke:#000000; stroke-width:4; stroke-opacity:1; fill:none\" points=\"\n",
       "  1576.51,1281.62 2280.76,1281.62 2280.76,979.219 1576.51,979.219 1576.51,1281.62 \n",
       "  \"/>\n",
       "<polyline clip-path=\"url(#clip7900)\" style=\"stroke:#0000ff; stroke-width:8; stroke-opacity:1; fill:none\" points=\"\n",
       "  1600.51,1039.7 1744.51,1039.7 \n",
       "  \"/>\n",
       "<g clip-path=\"url(#clip7900)\">\n",
       "<text style=\"fill:#000000; fill-opacity:1; font-family:Arial,Helvetica Neue,Helvetica,sans-serif; font-size:48px; text-anchor:start;\" transform=\"rotate(0, 1768.51, 1057.2)\" x=\"1768.51\" y=\"1057.2\">Memory bound (I*bs)</text>\n",
       "</g>\n",
       "<polyline clip-path=\"url(#clip7900)\" style=\"stroke:#008000; stroke-width:8; stroke-opacity:1; fill:none\" points=\"\n",
       "  1600.51,1100.18 1744.51,1100.18 \n",
       "  \"/>\n",
       "<g clip-path=\"url(#clip7900)\">\n",
       "<text style=\"fill:#000000; fill-opacity:1; font-family:Arial,Helvetica Neue,Helvetica,sans-serif; font-size:48px; text-anchor:start;\" transform=\"rotate(0, 1768.51, 1117.68)\" x=\"1768.51\" y=\"1117.68\">CPU bound (P_peak)</text>\n",
       "</g>\n",
       "<polyline clip-path=\"url(#clip7900)\" style=\"stroke:#ff0000; stroke-width:8; stroke-opacity:1; fill:none\" points=\"\n",
       "  1600.51,1160.66 1744.51,1160.66 \n",
       "  \"/>\n",
       "<g clip-path=\"url(#clip7900)\">\n",
       "<text style=\"fill:#000000; fill-opacity:1; font-family:Arial,Helvetica Neue,Helvetica,sans-serif; font-size:48px; text-anchor:start;\" transform=\"rotate(0, 1768.51, 1178.16)\" x=\"1768.51\" y=\"1178.16\">Intensity (I)</text>\n",
       "</g>\n",
       "<polyline clip-path=\"url(#clip7900)\" style=\"stroke:#ff0000; stroke-width:8; stroke-opacity:1; fill:none\" stroke-dasharray=\"32, 20\" points=\"\n",
       "  1600.51,1221.14 1744.51,1221.14 \n",
       "  \"/>\n",
       "<g clip-path=\"url(#clip7900)\">\n",
       "<text style=\"fill:#000000; fill-opacity:1; font-family:Arial,Helvetica Neue,Helvetica,sans-serif; font-size:48px; text-anchor:start;\" transform=\"rotate(0, 1768.51, 1238.64)\" x=\"1768.51\" y=\"1238.64\">P_opt = 1.21 Gflops/s</text>\n",
       "</g>\n",
       "</svg>\n"
      ]
     },
     "execution_count": 252,
     "metadata": {},
     "output_type": "execute_result"
    }
   ],
   "source": [
    "using Plots\n",
    "# memory bound\n",
    "plot(x->bs*x, label=\"Memory bound (I*bs)\", frame=:box, color=:blue, xlim=(1e-5,P_peak/bs), lw=2, xscale=:log10, yscale=:log10, legend=:bottomright)\n",
    "plot!(x->bs*x, label=\"\", frame=:box, color=:blue, xlim=(P_peak/bs,1e4), linestyle=:dash, lw=2)\n",
    "\n",
    "# cpu bound\n",
    "plot!([P_peak / bs,1e8],[P_peak, P_peak], label=\"CPU bound (P_peak)\", color=:green, lw=2)\n",
    "plot!([1e-5,P_peak / bs],[P_peak, P_peak], label=\"\", color=:green, lw=2, ls=:dash)\n",
    "\n",
    "# intensity (our vecmul!)\n",
    "plot!([I,I],[10^(-3.5),I*bs], label=\"Intensity (I)\", color=:red, lw=2)\n",
    "# vline!([I], label=\"Intensity (I)\", color=:red, lw=2)\n",
    "\n",
    "# max memory bound performance\n",
    "plot!([1e-5,I],[I*bs,I*bs], label=\"P_opt = $(round(I*bs, digits=2)) Gflops/s\", color=:red, lw=2, ls=:dash)\n",
    "\n",
    "# ylims!(0,400)\n",
    "xlims!(1e-5,1e8)\n",
    "xlabel!(\"Intensity [flops/B]\")\n",
    "ylabel!(\"Performance [Gflops/s]\")"
   ]
  },
  {
   "cell_type": "markdown",
   "metadata": {},
   "source": [
    "According to expectation, our kernel computation is clearly memory bound."
   ]
  },
  {
   "cell_type": "code",
   "execution_count": 255,
   "metadata": {},
   "outputs": [
    {
     "data": {
      "text/plain": [
       "0.8862979036515706"
      ]
     },
     "execution_count": 255,
     "metadata": {},
     "output_type": "execute_result"
    }
   ],
   "source": [
    "# ratio\n",
    "perf*1e-3/(I*bs)"
   ]
  },
  {
   "cell_type": "markdown",
   "metadata": {},
   "source": [
    "Our best code above reaches the memory bound estimate to about 89%."
   ]
  }
 ],
 "metadata": {
  "kernelspec": {
   "display_name": "Julia (4 threads) 1.3.1",
   "language": "julia",
   "name": "julia-(4-threads)-1.3"
  },
  "language_info": {
   "file_extension": ".jl",
   "mimetype": "application/julia",
   "name": "julia",
   "version": "1.3.1"
  }
 },
 "nbformat": 4,
 "nbformat_minor": 4
}
