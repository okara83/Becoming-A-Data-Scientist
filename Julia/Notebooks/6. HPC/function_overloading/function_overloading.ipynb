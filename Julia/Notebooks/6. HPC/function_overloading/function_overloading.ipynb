{
 "cells": [
  {
   "cell_type": "markdown",
   "metadata": {},
   "source": [
    "# Isn't multiple dispatch just function overloading?"
   ]
  },
  {
   "cell_type": "markdown",
   "metadata": {},
   "source": [
    "Answer: No. Static types vs actual dynamic types."
   ]
  },
  {
   "cell_type": "code",
   "execution_count": null,
   "metadata": {},
   "outputs": [],
   "source": [
    "abstract type Pet end\n",
    "\n",
    "struct Dog <: Pet\n",
    "    name::String\n",
    "end\n",
    "struct Cat <: Pet\n",
    "    name::String\n",
    "end\n",
    "\n",
    "function encounter(a::Pet, b::Pet)\n",
    "    verb = meets(a,b)\n",
    "    println(\"$(a.name) meets $(b.name) and $verb.\")\n",
    "end\n",
    "\n",
    "meets(a::Dog, b::Dog) = \"sniffs\"\n",
    "meets(a::Dog, b::Cat) = \"chases\"\n",
    "meets(a::Cat, b::Dog) = \"hisses\"\n",
    "meets(a::Cat, b::Cat) = \"slinks\""
   ]
  },
  {
   "cell_type": "code",
   "execution_count": null,
   "metadata": {},
   "outputs": [],
   "source": [
    "fido     = Dog(\"fido\")\n",
    "rex      = Dog(\"rex\")\n",
    "whiskers = Cat(\"whiskers\")\n",
    "spots    = Cat(\"spots\")\n",
    "\n",
    "encounter(fido, rex);\n",
    "encounter(fido, whiskers);\n",
    "encounter(whiskers, rex);\n",
    "encounter(whiskers, spots);"
   ]
  },
  {
   "cell_type": "markdown",
   "metadata": {},
   "source": [
    "### Alright, let's try the same in, say, C++"
   ]
  },
  {
   "cell_type": "markdown",
   "metadata": {},
   "source": [
    "```C++\n",
    "#include <iostream>\n",
    "#include <string>\n",
    "\n",
    "using namespace std;\n",
    "\n",
    "class Pet {\n",
    "    public:\n",
    "        string name;\n",
    "};\n",
    "\n",
    "string meets(Pet a, Pet b) { return \"FALLBACK\"; }\n",
    "\n",
    "void encounter(Pet a, Pet b) {\n",
    "    string verb = meets(a,b);\n",
    "    cout << a.name << \" meets \" << b.name << \" and \" << verb << endl;\n",
    "}\n",
    "\n",
    "class Dog : public Pet {};\n",
    "class Cat : public Pet {};\n",
    "\n",
    "string meets(Dog a, Dog b) { return \"sniffs\"; }\n",
    "string meets(Dog a, Cat b) { return \"chases\"; }\n",
    "string meets(Cat a, Dog b) { return \"hisses\"; }\n",
    "string meets(Cat a, Cat b) { return \"slinks\"; }\n",
    "\n",
    "int main() {\n",
    "    Dog fido;     fido.name = \"Fido\";\n",
    "    Dog rex;      rex.name = \"Rex\";\n",
    "    Cat whiskers; whiskers.name = \"Whiskers\";\n",
    "    Cat spots;    spots.name = \"Spots\";\n",
    "\n",
    "    encounter(fido, rex);\n",
    "    encounter(fido, whiskers);\n",
    "    encounter(whiskers, rex);\n",
    "    encounter(whiskers, spots);\n",
    "\n",
    "    return 0;\n",
    "}\n",
    "```"
   ]
  },
  {
   "cell_type": "markdown",
   "metadata": {},
   "source": [
    "### What do you think this does?##"
   ]
  },
  {
   "cell_type": "markdown",
   "metadata": {},
   "source": [
    "<details>\n",
    "  <summary>Click to reveal (if Cxx doesn't work for you)</summary>\n",
    "<br>\n",
    "    \n",
    "```\n",
    "carsten@l91:~/Desktop/Oulu2020/backup/function_overloading$ clang++ pets.cpp -o pets && ./pets\n",
    "\n",
    "Fido meets Rex and FALLBACK\n",
    "Fido meets Whiskers and FALLBACK\n",
    "Whiskers meets Rex and FALLBACK\n",
    "Whiskers meets Spots and FALLBACK\n",
    "```\n",
    "</details>"
   ]
  },
  {
   "cell_type": "code",
   "execution_count": null,
   "metadata": {},
   "outputs": [],
   "source": [
    "using Cxx"
   ]
  },
  {
   "cell_type": "code",
   "execution_count": null,
   "metadata": {},
   "outputs": [],
   "source": [
    "cxx\"\"\"\n",
    "#include <iostream>\n",
    "#include <string>\n",
    "\n",
    "using namespace std;\n",
    "\n",
    "class Pet {\n",
    "    public:\n",
    "        string name;\n",
    "};\n",
    "\n",
    "string meets(Pet a, Pet b) { return \"FALLBACK\"; }\n",
    "\n",
    "void encounter(Pet a, Pet b) {\n",
    "    string verb = meets(a,b);\n",
    "    cout << a.name << \" meets \" << b.name << \" and \" << verb << endl;\n",
    "}\n",
    "\n",
    "class Dog : public Pet {};\n",
    "class Cat : public Pet {};\n",
    "\n",
    "string meets(Dog a, Dog b) { return \"sniffs\"; }\n",
    "string meets(Dog a, Cat b) { return \"chases\"; }\n",
    "string meets(Cat a, Dog b) { return \"hisses\"; }\n",
    "string meets(Cat a, Cat b) { return \"slinks\"; }\n",
    "\n",
    "int main() {\n",
    "    Dog fido;     fido.name = \"Fido\";\n",
    "    Dog rex;      rex.name = \"Rex\";\n",
    "    Cat whiskers; whiskers.name = \"Whiskers\";\n",
    "    Cat spots;    spots.name = \"Spots\";\n",
    "\n",
    "    encounter(fido, rex);\n",
    "    encounter(fido, whiskers);\n",
    "    encounter(whiskers, rex);\n",
    "    encounter(whiskers, spots);\n",
    "\n",
    "    return 0;\n",
    "}\n",
    "\"\"\""
   ]
  },
  {
   "cell_type": "code",
   "execution_count": null,
   "metadata": {},
   "outputs": [],
   "source": [
    "@cxx main()"
   ]
  },
  {
   "cell_type": "markdown",
   "metadata": {},
   "source": [
    "**What?! Why?**"
   ]
  },
  {
   "cell_type": "markdown",
   "metadata": {},
   "source": [
    "Templates get you a bit further, but the type information is still only static."
   ]
  },
  {
   "cell_type": "markdown",
   "metadata": {},
   "source": [
    "## Dynamic dispatch"
   ]
  },
  {
   "cell_type": "markdown",
   "metadata": {},
   "source": [
    "* In Julia, type computation can happen dynamically (at runtime) or statically (at JIT compile time).\n",
    "\n",
    "* The static type computation is equivalent to the C++ version"
   ]
  },
  {
   "cell_type": "code",
   "execution_count": 2,
   "metadata": {},
   "outputs": [
    {
     "data": {
      "text/plain": [
       "3-element Array{Any,1}:\n",
       " 1      \n",
       " 2.0    \n",
       "  [3, 4]"
      ]
     },
     "execution_count": 2,
     "metadata": {},
     "output_type": "execute_result"
    }
   ],
   "source": [
    "A1 = [1, 2.0, [3,4]]"
   ]
  },
  {
   "cell_type": "code",
   "execution_count": 3,
   "metadata": {},
   "outputs": [
    {
     "data": {
      "text/plain": [
       "3-element Array{Float64,1}:\n",
       " 1.0\n",
       " 2.0\n",
       " 5.0"
      ]
     },
     "execution_count": 3,
     "metadata": {},
     "output_type": "execute_result"
    }
   ],
   "source": [
    "using LinearAlgebra\n",
    "norm.(A1) # norm function is chosen at runtime, depending on actual content of the array"
   ]
  },
  {
   "cell_type": "markdown",
   "metadata": {},
   "source": [
    "In C++, this could be realized by using a common base class and a virtual norm function. Demonstrating this in a simple example:"
   ]
  },
  {
   "cell_type": "code",
   "execution_count": 1,
   "metadata": {},
   "outputs": [],
   "source": [
    "using Cxx"
   ]
  },
  {
   "cell_type": "code",
   "execution_count": 8,
   "metadata": {},
   "outputs": [
    {
     "data": {
      "text/plain": [
       "true"
      ]
     },
     "execution_count": 8,
     "metadata": {},
     "output_type": "execute_result"
    }
   ],
   "source": [
    "cxx\"\"\"\n",
    "#include <iostream>\n",
    "using namespace std;\n",
    "\n",
    "struct A {\n",
    "   void f() { cout << \"Class A\" << endl; }\n",
    "};\n",
    "\n",
    "struct B: A {\n",
    "   void f() { cout << \"Class B\" << endl; }\n",
    "};\n",
    "\n",
    "void g(A& arg) {\n",
    "   arg.f();\n",
    "}\n",
    "\n",
    "int main() {\n",
    "   B x;\n",
    "   g(x);\n",
    "}\n",
    "\"\"\""
   ]
  },
  {
   "cell_type": "code",
   "execution_count": 11,
   "metadata": {},
   "outputs": [
    {
     "name": "stdout",
     "output_type": "stream",
     "text": [
      "Class A\n"
     ]
    }
   ],
   "source": [
    "@cxx main(); # static dispatch"
   ]
  },
  {
   "cell_type": "code",
   "execution_count": 2,
   "metadata": {},
   "outputs": [
    {
     "data": {
      "text/plain": [
       "true"
      ]
     },
     "execution_count": 2,
     "metadata": {},
     "output_type": "execute_result"
    }
   ],
   "source": [
    "cxx\"\"\"\n",
    "#include <iostream>\n",
    "using namespace std;\n",
    "\n",
    "struct A {\n",
    "   virtual void f() { cout << \"Class A\" << endl; }\n",
    "};\n",
    "\n",
    "struct B: A {\n",
    "   void f() { cout << \"Class B\" << endl; }\n",
    "};\n",
    "\n",
    "void g(A& arg) {\n",
    "   arg.f();\n",
    "}\n",
    "\n",
    "int main() {\n",
    "   B x;\n",
    "   g(x);\n",
    "}\n",
    "\"\"\""
   ]
  },
  {
   "cell_type": "code",
   "execution_count": 3,
   "metadata": {},
   "outputs": [
    {
     "name": "stdout",
     "output_type": "stream",
     "text": [
      "Class B\n"
     ]
    }
   ],
   "source": [
    "@cxx main(); # dynamic dispatch"
   ]
  },
  {
   "cell_type": "markdown",
   "metadata": {},
   "source": [
    "* A virtual function cannot be global.\n",
    "* `arg.f()` is single dispatch"
   ]
  },
  {
   "cell_type": "markdown",
   "metadata": {},
   "source": [
    "In Julia:"
   ]
  },
  {
   "cell_type": "code",
   "execution_count": 1,
   "metadata": {},
   "outputs": [
    {
     "data": {
      "text/plain": [
       "\"Class B\""
      ]
     },
     "execution_count": 1,
     "metadata": {},
     "output_type": "execute_result"
    }
   ],
   "source": [
    "abstract type A end\n",
    "struct B <: A end\n",
    "\n",
    "f(::A) = \"Class A\"\n",
    "f(::B) = \"Class B\"\n",
    "\n",
    "g(arg::A) = f(arg)\n",
    "\n",
    "x = B()\n",
    "g(x)"
   ]
  },
  {
   "cell_type": "markdown",
   "metadata": {},
   "source": [
    "Julia implements *multiple dispatch*:"
   ]
  },
  {
   "cell_type": "code",
   "execution_count": 11,
   "metadata": {},
   "outputs": [
    {
     "data": {
      "text/plain": [
       "3-element Array{Any,1}:\n",
       " 1       \n",
       " 2.0     \n",
       "  \"hello\""
      ]
     },
     "execution_count": 11,
     "metadata": {},
     "output_type": "execute_result"
    }
   ],
   "source": [
    "A1 = [1, 2.0, \"hello\"]"
   ]
  },
  {
   "cell_type": "code",
   "execution_count": 12,
   "metadata": {},
   "outputs": [
    {
     "data": {
      "text/plain": [
       "3-element Array{Any,1}:\n",
       "   4.0f0   \n",
       " 0 + 5im   \n",
       "    \"world\""
      ]
     },
     "execution_count": 12,
     "metadata": {},
     "output_type": "execute_result"
    }
   ],
   "source": [
    "A2 = [4f0, 5im, \"world\"]"
   ]
  },
  {
   "cell_type": "code",
   "execution_count": 14,
   "metadata": {},
   "outputs": [
    {
     "data": {
      "text/plain": [
       "3-element Array{Any,1}:\n",
       "     4.0f0        \n",
       " 0.0 + 10.0im     \n",
       "      \"helloworld\""
      ]
     },
     "execution_count": 14,
     "metadata": {},
     "output_type": "execute_result"
    }
   ],
   "source": [
    "A1 .* A2 # dynamic dispatch based on both(!) arguments to *"
   ]
  }
 ],
 "metadata": {
  "@webio": {
   "lastCommId": null,
   "lastKernelId": null
  },
  "kernelspec": {
   "display_name": "Julia 1.3.1",
   "language": "julia",
   "name": "julia-1.3"
  },
  "language_info": {
   "file_extension": ".jl",
   "mimetype": "application/julia",
   "name": "julia",
   "version": "1.3.1"
  }
 },
 "nbformat": 4,
 "nbformat_minor": 4
}
