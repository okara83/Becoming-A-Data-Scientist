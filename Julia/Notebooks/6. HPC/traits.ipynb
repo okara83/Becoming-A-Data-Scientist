{
 "cells": [
  {
   "cell_type": "markdown",
   "metadata": {},
   "source": [
    "# Traits"
   ]
  },
  {
   "cell_type": "markdown",
   "metadata": {},
   "source": [
    "**Advantages** of traits\n",
    "\n",
    "* Can be defined after the type is declared (unlike a supertype).\n",
    "* Don't have to be created up-front, so types can be added later (unlike a Union).\n",
    "* Otherwise-unrelated types (unlike a supertype) can be used."
   ]
  },
  {
   "cell_type": "markdown",
   "metadata": {},
   "source": [
    "Traits have a few **key parts**:\n",
    "\n",
    "* Trait types: the different traits a type can have.\n",
    "* Trait function: what traits a type has.\n",
    "* Trait dispatch: using the traits."
   ]
  },
  {
   "cell_type": "markdown",
   "metadata": {},
   "source": [
    "To understand how traits work, it is important to understand the type of types in Julia. Types are values, so they have a type themselves: `DataType`. However, they also have the special pseudo-supertype `Type`, so a type `T` acts like `T<:Type{T}`."
   ]
  },
  {
   "cell_type": "code",
   "execution_count": null,
   "metadata": {},
   "outputs": [],
   "source": [
    "typeof(String) == DataType"
   ]
  },
  {
   "cell_type": "code",
   "execution_count": null,
   "metadata": {},
   "outputs": [],
   "source": [
    "String isa Type{String}"
   ]
  },
  {
   "cell_type": "code",
   "execution_count": null,
   "metadata": {},
   "outputs": [],
   "source": [
    "String isa Type{<:AbstractString}"
   ]
  },
  {
   "cell_type": "markdown",
   "metadata": {},
   "source": [
    "### Trait type"
   ]
  },
  {
   "cell_type": "markdown",
   "metadata": {},
   "source": [
    "This is the type that is used to attribute a particular trait."
   ]
  },
  {
   "cell_type": "code",
   "execution_count": null,
   "metadata": {},
   "outputs": [],
   "source": [
    "abstract type StatQualia end\n",
    "\n",
    "struct Continuous <: StatQualia end\n",
    "struct Categorical <: StatQualia end"
   ]
  },
  {
   "cell_type": "markdown",
   "metadata": {},
   "source": [
    "### Trait function"
   ]
  },
  {
   "cell_type": "markdown",
   "metadata": {},
   "source": [
    "The trait function takes a type as input, and returns an instance of the trait type. We use the trait function to declare what traits a particular type has. For example, we can say things like floats are continuous, booleans are categorical, etc."
   ]
  },
  {
   "cell_type": "code",
   "execution_count": null,
   "metadata": {},
   "outputs": [],
   "source": [
    "statqualia(::Type{<:AbstractFloat}) = Continuous()\n",
    "statqualia(::Type{<:Bool}) = Categorical()\n",
    "statqualia(::Type{<:AbstractString}) = Categorical()"
   ]
  },
  {
   "cell_type": "markdown",
   "metadata": {},
   "source": [
    "### Using Traits"
   ]
  },
  {
   "cell_type": "markdown",
   "metadata": {},
   "source": [
    "To use a trait we need to re-dispatch upon it. This is where we take the type of an input, and invoke the trait function on it to get objects of the trait type, then dispatch on those."
   ]
  },
  {
   "cell_type": "code",
   "execution_count": null,
   "metadata": {},
   "outputs": [],
   "source": [
    "using LinearAlgebra\n",
    "\n",
    "# This is the trait re-dispatch\n",
    "bounds(xs::AbstractVector{T}) where T = bounds(statqualia(T), xs)\n",
    "\n",
    "# Dispatch on the trait\n",
    "bounds(::Continuous, xs) = extrema(xs)\n",
    "bounds(::Categorical, xs) = unique(xs)"
   ]
  },
  {
   "cell_type": "code",
   "execution_count": null,
   "metadata": {},
   "outputs": [],
   "source": [
    "bounds([false, true, false, false, true])"
   ]
  },
  {
   "cell_type": "code",
   "execution_count": null,
   "metadata": {},
   "outputs": [],
   "source": [
    "bounds([1.2, 4.8, 3.1, 11.9])"
   ]
  },
  {
   "cell_type": "code",
   "execution_count": null,
   "metadata": {},
   "outputs": [],
   "source": [
    "@code_warntype debuginfo=:none bounds([1.2, 4.8, 3.1, 11.9])"
   ]
  },
  {
   "cell_type": "code",
   "execution_count": null,
   "metadata": {},
   "outputs": [],
   "source": [
    "@code_native debuginfo=:none bounds([1.2, 4.8, 3.1, 11.9])"
   ]
  },
  {
   "cell_type": "code",
   "execution_count": null,
   "metadata": {},
   "outputs": [],
   "source": [
    "@code_native debuginfo=:none extrema([1.2, 4.8, 3.1, 11.9])"
   ]
  },
  {
   "cell_type": "markdown",
   "metadata": {},
   "source": [
    "## Extending and using Traits"
   ]
  },
  {
   "cell_type": "markdown",
   "metadata": {},
   "source": [
    "### Indicate trait for new custom type"
   ]
  },
  {
   "cell_type": "code",
   "execution_count": null,
   "metadata": {},
   "outputs": [],
   "source": [
    "abstract type Color end\n",
    "struct Red <: Color end\n",
    "struct Blue <: Color end\n",
    "struct Green <: Color end\n",
    "\n",
    "statqualia(::Type{Color}) = Categorical()"
   ]
  },
  {
   "cell_type": "code",
   "execution_count": null,
   "metadata": {},
   "outputs": [],
   "source": [
    "bounds([Red(), Blue(), Blue(), Green()])"
   ]
  },
  {
   "cell_type": "code",
   "execution_count": null,
   "metadata": {},
   "outputs": [],
   "source": [
    "struct Measurement\n",
    "    x::Float64\n",
    "end\n",
    "\n",
    "statqualia(::Type{Measurement}) = Continuous()\n",
    "\n",
    "# make extrema work for our type\n",
    "Base.isless(a::Measurement, b::Measurement) = a.x < b.x"
   ]
  },
  {
   "cell_type": "code",
   "execution_count": null,
   "metadata": {},
   "outputs": [],
   "source": [
    "ms = Measurement.(rand(3))"
   ]
  },
  {
   "cell_type": "code",
   "execution_count": null,
   "metadata": {},
   "outputs": [],
   "source": [
    "bounds(ms)"
   ]
  },
  {
   "cell_type": "markdown",
   "metadata": {},
   "source": [
    "### Extend current set of trait options"
   ]
  },
  {
   "cell_type": "code",
   "execution_count": null,
   "metadata": {},
   "outputs": [],
   "source": [
    "# define new trait options\n",
    "struct Ordinal <: StatQualia end\n",
    "\n",
    "# define trait functions\n",
    "statqualia(::Type{<:Integer}) = Ordinal()\n",
    "\n",
    "# use new traits\n",
    "bounds(::Ordinal, xs) = extrema(xs)"
   ]
  },
  {
   "cell_type": "code",
   "execution_count": null,
   "metadata": {},
   "outputs": [],
   "source": [
    "bounds([1,2,3,4,5])"
   ]
  },
  {
   "cell_type": "markdown",
   "metadata": {},
   "source": [
    "## Example from Base: `IteratorSize`"
   ]
  },
  {
   "cell_type": "code",
   "execution_count": null,
   "metadata": {},
   "outputs": [],
   "source": [
    "?Base.IteratorSize"
   ]
  },
  {
   "cell_type": "code",
   "execution_count": null,
   "metadata": {},
   "outputs": [],
   "source": [
    "Base.IteratorSize(1:10)"
   ]
  },
  {
   "cell_type": "code",
   "execution_count": null,
   "metadata": {},
   "outputs": [],
   "source": [
    "Base.IteratorSize(rand(2,3))"
   ]
  },
  {
   "cell_type": "code",
   "execution_count": null,
   "metadata": {},
   "outputs": [],
   "source": [
    "@which Base.IteratorSize(rand(3))"
   ]
  },
  {
   "cell_type": "markdown",
   "metadata": {},
   "source": [
    "Where is this trait utilized?"
   ]
  },
  {
   "cell_type": "code",
   "execution_count": null,
   "metadata": {},
   "outputs": [],
   "source": [
    "BitArray(rand(Bool) for i in 1:3)"
   ]
  },
  {
   "cell_type": "code",
   "execution_count": null,
   "metadata": {},
   "outputs": [],
   "source": [
    "@which BitArray(rand(Bool) for i in 1:3)"
   ]
  },
  {
   "cell_type": "code",
   "execution_count": null,
   "metadata": {},
   "outputs": [],
   "source": [
    "Base.IteratorSize(rand(Bool) for i in 1:3)"
   ]
  },
  {
   "cell_type": "code",
   "execution_count": null,
   "metadata": {},
   "outputs": [],
   "source": [
    "BitArray(Iterators.repeated(1))"
   ]
  },
  {
   "cell_type": "code",
   "execution_count": null,
   "metadata": {},
   "outputs": [],
   "source": [
    "Base.IteratorSize(Iterators.repeated(1))"
   ]
  },
  {
   "cell_type": "code",
   "execution_count": null,
   "metadata": {},
   "outputs": [],
   "source": [
    "@which BitArray(Iterators.repeated(1))"
   ]
  },
  {
   "cell_type": "markdown",
   "metadata": {},
   "source": [
    "Resources:\n",
    "* \"Invented\" by Tim Holy in this [github issue](https://github.com/JuliaLang/julia/issues/2345#issuecomment-54537633).\n",
    "* See https://github.com/mauro3/Traits.jl#dispatch-on-traits for a detailed explanation and [SimpleTraits.jl](https://github.com/mauro3/SimpleTraits.jl) for a convenience implementation.\n",
    "* Based on these blog posts:\n",
    " * https://invenia.github.io/blog/2019/11/06/julialang-features-part-2/\n",
    " * https://ahsmart.com/pub/holy-traits-design-patterns-and-best-practice-book.html"
   ]
  }
 ],
 "metadata": {
  "@webio": {
   "lastCommId": null,
   "lastKernelId": null
  },
  "kernelspec": {
   "display_name": "Julia 1.3.1",
   "language": "julia",
   "name": "julia-1.3"
  },
  "language_info": {
   "file_extension": ".jl",
   "mimetype": "application/julia",
   "name": "julia",
   "version": "1.3.1"
  }
 },
 "nbformat": 4,
 "nbformat_minor": 2
}
