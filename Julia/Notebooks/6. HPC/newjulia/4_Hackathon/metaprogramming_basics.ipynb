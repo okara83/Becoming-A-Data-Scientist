{
 "cells": [
  {
   "cell_type": "markdown",
   "metadata": {},
   "source": [
    "# [Metaprogramming](https://docs.julialang.org/en/latest/manual/metaprogramming/#)\n",
    "\n",
    "A \"meta\" program is a program that manipulates programs.\n",
    "\n",
    "Most common use refers to a program that generates another program.\n",
    "\n",
    "Julia allows us to talk in a \"meta\" way (\"one level up\"), about Julia code, that is to **\"treat code as data\"** and manipulate it as just another object in Julia."
   ]
  },
  {
   "cell_type": "markdown",
   "metadata": {},
   "source": [
    "## Symbols and Expressions"
   ]
  },
  {
   "cell_type": "code",
   "execution_count": 146,
   "metadata": {},
   "outputs": [
    {
     "data": {
      "text/plain": [
       ":a"
      ]
     },
     "execution_count": 146,
     "metadata": {},
     "output_type": "execute_result"
    }
   ],
   "source": [
    ":a"
   ]
  },
  {
   "cell_type": "code",
   "execution_count": 147,
   "metadata": {},
   "outputs": [
    {
     "data": {
      "text/plain": [
       "Symbol"
      ]
     },
     "execution_count": 147,
     "metadata": {},
     "output_type": "execute_result"
    }
   ],
   "source": [
    "typeof(:a)"
   ]
  },
  {
   "cell_type": "code",
   "execution_count": 148,
   "metadata": {},
   "outputs": [
    {
     "ename": "UndefVarError",
     "evalue": "UndefVarError: a not defined",
     "output_type": "error",
     "traceback": [
      "UndefVarError: a not defined",
      "",
      "Stacktrace:",
      " [1] top-level scope",
      " [2] eval at .\\boot.jl:328 [inlined]",
      " [3] eval(::Symbol) at .\\client.jl:404",
      " [4] top-level scope at In[148]:1"
     ]
    }
   ],
   "source": [
    "eval(:a)"
   ]
  },
  {
   "cell_type": "code",
   "execution_count": 149,
   "metadata": {},
   "outputs": [
    {
     "data": {
      "text/plain": [
       "2"
      ]
     },
     "execution_count": 149,
     "metadata": {},
     "output_type": "execute_result"
    }
   ],
   "source": [
    "a = 2"
   ]
  },
  {
   "cell_type": "code",
   "execution_count": 150,
   "metadata": {},
   "outputs": [
    {
     "data": {
      "text/plain": [
       "2"
      ]
     },
     "execution_count": 150,
     "metadata": {},
     "output_type": "execute_result"
    }
   ],
   "source": [
    "eval(:a)"
   ]
  },
  {
   "cell_type": "code",
   "execution_count": 151,
   "metadata": {},
   "outputs": [
    {
     "data": {
      "text/plain": [
       "Symbol"
      ]
     },
     "execution_count": 151,
     "metadata": {},
     "output_type": "execute_result"
    }
   ],
   "source": [
    "typeof(:+)"
   ]
  },
  {
   "cell_type": "code",
   "execution_count": 152,
   "metadata": {},
   "outputs": [
    {
     "data": {
      "text/plain": [
       "Symbol"
      ]
     },
     "execution_count": 152,
     "metadata": {},
     "output_type": "execute_result"
    }
   ],
   "source": [
    "typeof(:sin)"
   ]
  },
  {
   "cell_type": "markdown",
   "metadata": {},
   "source": [
    "Symbols may be combined into *expressions*, which are the basic objects that represent pieces of Julia code:"
   ]
  },
  {
   "cell_type": "code",
   "execution_count": 153,
   "metadata": {},
   "outputs": [
    {
     "data": {
      "text/plain": [
       ":(a + b)"
      ]
     },
     "execution_count": 153,
     "metadata": {},
     "output_type": "execute_result"
    }
   ],
   "source": [
    "ex = :(a + b)  # the expression 'a + b'"
   ]
  },
  {
   "cell_type": "code",
   "execution_count": 154,
   "metadata": {},
   "outputs": [
    {
     "data": {
      "text/plain": [
       "Expr"
      ]
     },
     "execution_count": 154,
     "metadata": {},
     "output_type": "execute_result"
    }
   ],
   "source": [
    "typeof(ex)"
   ]
  },
  {
   "cell_type": "code",
   "execution_count": 155,
   "metadata": {},
   "outputs": [
    {
     "data": {
      "text/plain": [
       "9"
      ]
     },
     "execution_count": 155,
     "metadata": {},
     "output_type": "execute_result"
    }
   ],
   "source": [
    "b = 7\n",
    "eval(ex)"
   ]
  },
  {
   "cell_type": "markdown",
   "metadata": {},
   "source": [
    "An expression is just a Julia object, so we can introspect (find out information about it):"
   ]
  },
  {
   "cell_type": "code",
   "execution_count": 156,
   "metadata": {},
   "outputs": [
    {
     "name": "stdout",
     "output_type": "stream",
     "text": [
      "Expr\n",
      "  head: Symbol call\n",
      "  args: Array{Any}((3,))\n",
      "    1: Symbol +\n",
      "    2: Symbol a\n",
      "    3: Symbol b\n"
     ]
    }
   ],
   "source": [
    "dump(ex)"
   ]
  },
  {
   "cell_type": "code",
   "execution_count": 157,
   "metadata": {},
   "outputs": [
    {
     "name": "stdout",
     "output_type": "stream",
     "text": [
      "Expr\n",
      "  head: Symbol =\n",
      "  args: Array{Any}((2,))\n",
      "    1: Symbol x\n",
      "    2: Int64 3\n"
     ]
    }
   ],
   "source": [
    "dump(:(x = 3))"
   ]
  },
  {
   "cell_type": "markdown",
   "metadata": {},
   "source": [
    "The job of Julia's parser is to convert a sequence of characters into these `Expr` objects:"
   ]
  },
  {
   "cell_type": "code",
   "execution_count": 159,
   "metadata": {},
   "outputs": [
    {
     "data": {
      "text/plain": [
       ":(a + b)"
      ]
     },
     "execution_count": 159,
     "metadata": {},
     "output_type": "execute_result"
    }
   ],
   "source": [
    "Meta.parse(\"a + b\")"
   ]
  },
  {
   "cell_type": "markdown",
   "metadata": {},
   "source": [
    "More complicated expressions are represented as **\"abstract syntax trees\" (ASTs)**, consisting of expressions nested inside expressions:"
   ]
  },
  {
   "cell_type": "code",
   "execution_count": 160,
   "metadata": {},
   "outputs": [
    {
     "data": {
      "text/plain": [
       ":(sin(3a + 2 * b ^ 2))"
      ]
     },
     "execution_count": 160,
     "metadata": {},
     "output_type": "execute_result"
    }
   ],
   "source": [
    "ex = :( sin(3a + 2b^2) )"
   ]
  },
  {
   "cell_type": "code",
   "execution_count": 161,
   "metadata": {},
   "outputs": [
    {
     "name": "stdout",
     "output_type": "stream",
     "text": [
      "Expr\n",
      "  head: Symbol call\n",
      "  args: Array{Any}((2,))\n",
      "    1: Symbol sin\n",
      "    2: Expr\n",
      "      head: Symbol call\n",
      "      args: Array{Any}((3,))\n",
      "        1: Symbol +\n",
      "        2: Expr\n",
      "          head: Symbol call\n",
      "          args: Array{Any}((3,))\n",
      "            1: Symbol *\n",
      "            2: Int64 3\n",
      "            3: Symbol a\n",
      "        3: Expr\n",
      "          head: Symbol call\n",
      "          args: Array{Any}((3,))\n",
      "            1: Symbol *\n",
      "            2: Int64 2\n",
      "            3: Expr\n",
      "              head: Symbol call\n",
      "              args: Array{Any}((3,))\n",
      "                1: Symbol ^\n",
      "                2: Symbol b\n",
      "                3: Int64 2\n"
     ]
    }
   ],
   "source": [
    "dump(ex)"
   ]
  },
  {
   "cell_type": "markdown",
   "metadata": {},
   "source": [
    "We can also manipulate expressions"
   ]
  },
  {
   "cell_type": "code",
   "execution_count": 163,
   "metadata": {},
   "outputs": [
    {
     "data": {
      "text/plain": [
       "quote\n",
       "    #= In[163]:2 =#\n",
       "    println(\"Hello\")\n",
       "end"
      ]
     },
     "execution_count": 163,
     "metadata": {},
     "output_type": "execute_result"
    }
   ],
   "source": [
    "blk = quote # multi-line expression\n",
    "    println(\"Hello\")\n",
    "end"
   ]
  },
  {
   "cell_type": "code",
   "execution_count": 164,
   "metadata": {},
   "outputs": [
    {
     "name": "stdout",
     "output_type": "stream",
     "text": [
      "Hello\n"
     ]
    }
   ],
   "source": [
    "eval(blk)"
   ]
  },
  {
   "cell_type": "code",
   "execution_count": 165,
   "metadata": {},
   "outputs": [
    {
     "name": "stdout",
     "output_type": "stream",
     "text": [
      "Expr\n",
      "  head: Symbol block\n",
      "  args: Array{Any}((2,))\n",
      "    1: LineNumberNode\n",
      "      line: Int64 2\n",
      "      file: Symbol In[163]\n",
      "    2: Expr\n",
      "      head: Symbol call\n",
      "      args: Array{Any}((2,))\n",
      "        1: Symbol println\n",
      "        2: String \"Hello\"\n"
     ]
    }
   ],
   "source": [
    "dump(blk)"
   ]
  },
  {
   "cell_type": "code",
   "execution_count": 167,
   "metadata": {},
   "outputs": [
    {
     "data": {
      "text/plain": [
       "3-element Array{Any,1}:\n",
       " :(#= In[163]:2 =#) \n",
       " :(println(\"Hello\"))\n",
       " :(println(\"AFTER\"))"
      ]
     },
     "execution_count": 167,
     "metadata": {},
     "output_type": "execute_result"
    }
   ],
   "source": [
    "push!(blk.args, :(println(\"AFTER\")))"
   ]
  },
  {
   "cell_type": "code",
   "execution_count": 168,
   "metadata": {},
   "outputs": [
    {
     "data": {
      "text/plain": [
       "quote\n",
       "    #= In[163]:2 =#\n",
       "    println(\"Hello\")\n",
       "    println(\"AFTER\")\n",
       "end"
      ]
     },
     "execution_count": 168,
     "metadata": {},
     "output_type": "execute_result"
    }
   ],
   "source": [
    "blk"
   ]
  },
  {
   "cell_type": "code",
   "execution_count": 169,
   "metadata": {},
   "outputs": [
    {
     "name": "stdout",
     "output_type": "stream",
     "text": [
      "Hello\n",
      "AFTER\n"
     ]
    }
   ],
   "source": [
    "eval(blk)"
   ]
  },
  {
   "cell_type": "code",
   "execution_count": 179,
   "metadata": {},
   "outputs": [
    {
     "data": {
      "text/plain": [
       "2"
      ]
     },
     "execution_count": 179,
     "metadata": {},
     "output_type": "execute_result"
    }
   ],
   "source": [
    "x = 2"
   ]
  },
  {
   "cell_type": "code",
   "execution_count": 180,
   "metadata": {},
   "outputs": [
    {
     "data": {
      "text/plain": [
       ":(x + 2)"
      ]
     },
     "execution_count": 180,
     "metadata": {},
     "output_type": "execute_result"
    }
   ],
   "source": [
    ":(x + $x)"
   ]
  },
  {
   "cell_type": "code",
   "execution_count": 181,
   "metadata": {},
   "outputs": [
    {
     "data": {
      "text/plain": [
       ":y"
      ]
     },
     "execution_count": 181,
     "metadata": {},
     "output_type": "execute_result"
    }
   ],
   "source": [
    "x = :y"
   ]
  },
  {
   "cell_type": "code",
   "execution_count": 182,
   "metadata": {},
   "outputs": [
    {
     "data": {
      "text/plain": [
       ":(x + y)"
      ]
     },
     "execution_count": 182,
     "metadata": {},
     "output_type": "execute_result"
    }
   ],
   "source": [
    ":(x + $x)"
   ]
  },
  {
   "cell_type": "markdown",
   "metadata": {},
   "source": [
    "### Use case: Programmatically define methods"
   ]
  },
  {
   "cell_type": "code",
   "execution_count": 141,
   "metadata": {},
   "outputs": [],
   "source": [
    "struct MyNumber\n",
    "    x::Float64\n",
    "end\n",
    "\n",
    "for op = (:sin, :cos, :tan, :log, :exp)\n",
    "    eval(quote\n",
    "        Base.$op(a::MyNumber) = MyNumber($op(a.x))\n",
    "    end)\n",
    "end"
   ]
  },
  {
   "cell_type": "code",
   "execution_count": 145,
   "metadata": {},
   "outputs": [
    {
     "data": {
      "text/plain": [
       "MyNumber(1.0)"
      ]
     },
     "execution_count": 145,
     "metadata": {},
     "output_type": "execute_result"
    }
   ],
   "source": [
    "sin(MyNumber(pi/2))"
   ]
  },
  {
   "cell_type": "markdown",
   "metadata": {},
   "source": [
    "# Macros"
   ]
  },
  {
   "cell_type": "markdown",
   "metadata": {},
   "source": [
    "*Macros* provide a particular use pattern of metaprogramming: replacing one expression with another, in-place, right after parsing.\n",
    "\n",
    "Macros are useful in several cases:\n",
    "\n",
    "to provide a specific notation different than what can normally be written in the language\n",
    "e.g. https://github.com/JuliaOpt/JuMP.jl/blob/release-0.18/examples/sudoku.jl#L44\n",
    "* to rearrange or delay evaluation of code\n",
    "* to eliminate boilerplate (repetitive) code\n",
    "* to automatically generate complex code that would be painful by hand\n",
    "* to unroll loops for efficiency\n",
    "* to inline code for efficiency\n",
    "\n",
    "Macros are invoked using the @ sign, e.g."
   ]
  },
  {
   "cell_type": "markdown",
   "metadata": {},
   "source": [
    "A trivial example of defining a macro is the following, which runs whatever code it is passed two times."
   ]
  },
  {
   "cell_type": "code",
   "execution_count": 84,
   "metadata": {},
   "outputs": [
    {
     "data": {
      "text/plain": [
       "@twice (macro with 1 method)"
      ]
     },
     "execution_count": 84,
     "metadata": {},
     "output_type": "execute_result"
    }
   ],
   "source": [
    "macro twice(ex)\n",
    "    quote\n",
    "        $ex\n",
    "        $ex\n",
    "    end\n",
    "end"
   ]
  },
  {
   "cell_type": "code",
   "execution_count": 94,
   "metadata": {},
   "outputs": [
    {
     "name": "stdout",
     "output_type": "stream",
     "text": [
      "test\n",
      "test\n"
     ]
    }
   ],
   "source": [
    "@twice println(\"test\")"
   ]
  },
  {
   "cell_type": "code",
   "execution_count": 96,
   "metadata": {},
   "outputs": [
    {
     "data": {
      "text/plain": [
       "quote\n",
       "    #= In[84]:3 =#\n",
       "    (Main.println)(\"test\")\n",
       "    #= In[84]:4 =#\n",
       "    (Main.println)(\"test\")\n",
       "end"
      ]
     },
     "execution_count": 96,
     "metadata": {},
     "output_type": "execute_result"
    }
   ],
   "source": [
    "@macroexpand @twice println(\"test\")"
   ]
  },
  {
   "cell_type": "code",
   "execution_count": 97,
   "metadata": {},
   "outputs": [
    {
     "data": {
      "text/plain": [
       "quote\n",
       "    #= util.jl:154 =#\n",
       "    local #84#stats = (Base.gc_num)()\n",
       "    #= util.jl:155 =#\n",
       "    local #86#elapsedtime = (Base.time_ns)()\n",
       "    #= util.jl:156 =#\n",
       "    local #85#val = 2 + 2\n",
       "    #= util.jl:157 =#\n",
       "    #86#elapsedtime = (Base.time_ns)() - #86#elapsedtime\n",
       "    #= util.jl:158 =#\n",
       "    local #87#diff = (Base.GC_Diff)((Base.gc_num)(), #84#stats)\n",
       "    #= util.jl:159 =#\n",
       "    (Base.time_print)(#86#elapsedtime, (#87#diff).allocd, (#87#diff).total_time, (Base.gc_alloc_count)(#87#diff))\n",
       "    #= util.jl:161 =#\n",
       "    (Base.println)()\n",
       "    #= util.jl:162 =#\n",
       "    #85#val\n",
       "end"
      ]
     },
     "execution_count": 97,
     "metadata": {},
     "output_type": "execute_result"
    }
   ],
   "source": [
    "@macroexpand @time 2 + 2"
   ]
  },
  {
   "cell_type": "markdown",
   "metadata": {},
   "source": [
    "### [Macro Hygiene](https://docs.julialang.org/en/latest/manual/metaprogramming/#Hygiene-1)"
   ]
  },
  {
   "cell_type": "code",
   "execution_count": 124,
   "metadata": {},
   "outputs": [
    {
     "data": {
      "text/plain": [
       "@set_z (macro with 1 method)"
      ]
     },
     "execution_count": 124,
     "metadata": {},
     "output_type": "execute_result"
    }
   ],
   "source": [
    "macro set_z(val)\n",
    "    :(z = $val)\n",
    "end"
   ]
  },
  {
   "cell_type": "code",
   "execution_count": 131,
   "metadata": {},
   "outputs": [
    {
     "data": {
      "text/plain": [
       "3.0"
      ]
     },
     "execution_count": 131,
     "metadata": {},
     "output_type": "execute_result"
    }
   ],
   "source": [
    "@set_z(3.0)"
   ]
  },
  {
   "cell_type": "code",
   "execution_count": 132,
   "metadata": {},
   "outputs": [
    {
     "data": {
      "text/plain": [
       "3.0"
      ]
     },
     "execution_count": 132,
     "metadata": {},
     "output_type": "execute_result"
    }
   ],
   "source": [
    "z"
   ]
  },
  {
   "cell_type": "code",
   "execution_count": 133,
   "metadata": {},
   "outputs": [
    {
     "data": {
      "text/plain": [
       ":(#99#z = 3.0)"
      ]
     },
     "execution_count": 133,
     "metadata": {},
     "output_type": "execute_result"
    }
   ],
   "source": [
    "@macroexpand @set_z(3.0)"
   ]
  },
  {
   "cell_type": "code",
   "execution_count": 134,
   "metadata": {},
   "outputs": [
    {
     "data": {
      "text/plain": [
       "@set_z (macro with 1 method)"
      ]
     },
     "execution_count": 134,
     "metadata": {},
     "output_type": "execute_result"
    }
   ],
   "source": [
    "macro set_z(val)\n",
    "    :($(esc(:z)) = $val)\n",
    "end"
   ]
  },
  {
   "cell_type": "code",
   "execution_count": 135,
   "metadata": {},
   "outputs": [
    {
     "data": {
      "text/plain": [
       "3.0"
      ]
     },
     "execution_count": 135,
     "metadata": {},
     "output_type": "execute_result"
    }
   ],
   "source": [
    "@set_z(3.0)"
   ]
  },
  {
   "cell_type": "code",
   "execution_count": 136,
   "metadata": {},
   "outputs": [
    {
     "data": {
      "text/plain": [
       "3.0"
      ]
     },
     "execution_count": 136,
     "metadata": {},
     "output_type": "execute_result"
    }
   ],
   "source": [
    "z"
   ]
  },
  {
   "cell_type": "code",
   "execution_count": 137,
   "metadata": {},
   "outputs": [
    {
     "data": {
      "text/plain": [
       ":(z = 3.0)"
      ]
     },
     "execution_count": 137,
     "metadata": {},
     "output_type": "execute_result"
    }
   ],
   "source": [
    "@macroexpand @set_z(3.0)"
   ]
  },
  {
   "cell_type": "code",
   "execution_count": 138,
   "metadata": {},
   "outputs": [
    {
     "data": {
      "text/plain": [
       "3.0"
      ]
     },
     "execution_count": 138,
     "metadata": {},
     "output_type": "execute_result"
    }
   ],
   "source": [
    "z"
   ]
  },
  {
   "cell_type": "markdown",
   "metadata": {},
   "source": [
    "# Custom string literals"
   ]
  },
  {
   "cell_type": "code",
   "execution_count": 1,
   "metadata": {},
   "outputs": [],
   "source": [
    "struct KeepZerosFloat{T<:AbstractFloat}\n",
    "    x::T\n",
    "    n::Int64 # extra tail of n zeros\n",
    "end"
   ]
  },
  {
   "cell_type": "code",
   "execution_count": 2,
   "metadata": {},
   "outputs": [
    {
     "data": {
      "text/plain": [
       "KeepZerosFloat"
      ]
     },
     "execution_count": 2,
     "metadata": {},
     "output_type": "execute_result"
    }
   ],
   "source": [
    "KeepZerosFloat(z::T) where {T<:AbstractFloat} = KeepZerosFloat{T}(z, 0)"
   ]
  },
  {
   "cell_type": "code",
   "execution_count": 3,
   "metadata": {},
   "outputs": [
    {
     "data": {
      "text/plain": [
       "KeepZerosFloat{Float64}(3.0, 0)"
      ]
     },
     "execution_count": 3,
     "metadata": {},
     "output_type": "execute_result"
    }
   ],
   "source": [
    "KeepZerosFloat(3.0)"
   ]
  },
  {
   "cell_type": "code",
   "execution_count": 57,
   "metadata": {},
   "outputs": [],
   "source": [
    "Base.show(io::IO, z::KeepZerosFloat) = print(io, string(z.x) * join(fill('0', z.n)))"
   ]
  },
  {
   "cell_type": "code",
   "execution_count": 58,
   "metadata": {},
   "outputs": [
    {
     "data": {
      "text/plain": [
       "3.0"
      ]
     },
     "execution_count": 58,
     "metadata": {},
     "output_type": "execute_result"
    }
   ],
   "source": [
    "KeepZerosFloat(3.0)"
   ]
  },
  {
   "cell_type": "code",
   "execution_count": 59,
   "metadata": {},
   "outputs": [
    {
     "data": {
      "text/plain": [
       "3.0"
      ]
     },
     "execution_count": 59,
     "metadata": {},
     "output_type": "execute_result"
    }
   ],
   "source": [
    "KeepZerosFloat(3.0000)"
   ]
  },
  {
   "cell_type": "code",
   "execution_count": 77,
   "metadata": {},
   "outputs": [
    {
     "data": {
      "text/plain": [
       "@k_str (macro with 1 method)"
      ]
     },
     "execution_count": 77,
     "metadata": {},
     "output_type": "execute_result"
    }
   ],
   "source": [
    "macro k_str(x)\n",
    "    xF64 = parse(Float64, x)\n",
    "    s = string(xF64)\n",
    "    zeros_str = replace(x, s => \"\")\n",
    "    @assert zeros_str === join(fill('0', length(zeros_str)))\n",
    "    \n",
    "    KeepZerosFloat{Float64}(xF64, length(zeros_str))\n",
    "end"
   ]
  },
  {
   "cell_type": "code",
   "execution_count": 80,
   "metadata": {},
   "outputs": [
    {
     "data": {
      "text/plain": [
       "3.0"
      ]
     },
     "execution_count": 80,
     "metadata": {},
     "output_type": "execute_result"
    }
   ],
   "source": [
    "k\"3.0\""
   ]
  },
  {
   "cell_type": "code",
   "execution_count": 81,
   "metadata": {},
   "outputs": [
    {
     "data": {
      "text/plain": [
       "3.000"
      ]
     },
     "execution_count": 81,
     "metadata": {},
     "output_type": "execute_result"
    }
   ],
   "source": [
    "k\"3.000\""
   ]
  },
  {
   "cell_type": "code",
   "execution_count": 84,
   "metadata": {},
   "outputs": [
    {
     "data": {
      "text/plain": [
       "3.1410000000"
      ]
     },
     "execution_count": 84,
     "metadata": {},
     "output_type": "execute_result"
    }
   ],
   "source": [
    "x = k\"3.1410000000\""
   ]
  },
  {
   "cell_type": "code",
   "execution_count": 85,
   "metadata": {},
   "outputs": [
    {
     "data": {
      "text/plain": [
       "KeepZerosFloat{Float64}"
      ]
     },
     "execution_count": 85,
     "metadata": {},
     "output_type": "execute_result"
    }
   ],
   "source": [
    "typeof(x)"
   ]
  },
  {
   "cell_type": "markdown",
   "metadata": {},
   "source": [
    "# Unrolling"
   ]
  },
  {
   "cell_type": "markdown",
   "metadata": {},
   "source": [
    "There are many interesting examples of macros in Base. One that is accessible is Horner's method for evaluating a polynomial:\n",
    "\n",
    "$$p(x) = a_n x^n + a_{n-1} x^{n-1} + \\cdots + a_1 x^1 + a_0$$\n",
    "may be evaluated efficiently as\n",
    "\n",
    "$$p(x) = a_0 + x(a_1 + \\cdots x(a_{n-2} + \\cdots + x(a_{n-1} + x a_n) \\cdots ) ) $$\n",
    "with only $n$ multiplications.\n",
    "\n",
    "The obvious way to do this is with a for loop. But if we know the polynomial at **compile time**, this loop may be unrolled using metaprogramming. This is implemented in the Math module in math.jl in Base, so the name of the macro (which is not exported) is `@Base.Math.horner`."
   ]
  },
  {
   "cell_type": "code",
   "execution_count": 44,
   "metadata": {},
   "outputs": [
    {
     "data": {
      "text/plain": [
       "horner_loop (generic function with 1 method)"
      ]
     },
     "execution_count": 44,
     "metadata": {},
     "output_type": "execute_result"
    }
   ],
   "source": [
    "function horner_loop(x, a...)\n",
    "    r = a[end]\n",
    "    for i in length(a)-1:-1:1\n",
    "        r = a[i] + x*r\n",
    "    end\n",
    "    r\n",
    "end"
   ]
  },
  {
   "cell_type": "code",
   "execution_count": 45,
   "metadata": {},
   "outputs": [
    {
     "data": {
      "text/plain": [
       "182"
      ]
     },
     "execution_count": 45,
     "metadata": {},
     "output_type": "execute_result"
    }
   ],
   "source": [
    "horner_loop(x, 2, 3, 4, 5)"
   ]
  },
  {
   "cell_type": "markdown",
   "metadata": {},
   "source": [
    "### Macro version"
   ]
  },
  {
   "cell_type": "code",
   "execution_count": null,
   "metadata": {},
   "outputs": [],
   "source": [
    "# Modified from base/math.jl\n",
    "macro horner(x, a...)\n",
    "    ex = esc(a[end])\n",
    "    t = esc(x)\n",
    "    for i in length(a)-1:-1:1\n",
    "        ex = :( $(esc(a[i])) + $t * $ex )\n",
    "    end\n",
    "    ex\n",
    "end"
   ]
  },
  {
   "cell_type": "code",
   "execution_count": 13,
   "metadata": {},
   "outputs": [
    {
     "data": {
      "text/plain": [
       "182"
      ]
     },
     "execution_count": 13,
     "metadata": {},
     "output_type": "execute_result"
    }
   ],
   "source": [
    "x = 3\n",
    "@horner(x, 2, 3, 4, 5)"
   ]
  },
  {
   "cell_type": "code",
   "execution_count": 80,
   "metadata": {},
   "outputs": [
    {
     "data": {
      "text/plain": [
       ":(2 + x * (3 + x * (4 + x * 5)))"
      ]
     },
     "execution_count": 80,
     "metadata": {},
     "output_type": "execute_result"
    }
   ],
   "source": [
    "@macroexpand @horner(x, 2, 3, 4, 5)"
   ]
  },
  {
   "cell_type": "code",
   "execution_count": 81,
   "metadata": {},
   "outputs": [
    {
     "data": {
      "text/plain": [
       "horner (generic function with 1 method)"
      ]
     },
     "execution_count": 81,
     "metadata": {},
     "output_type": "execute_result"
    }
   ],
   "source": [
    "horner(x) = @horner(x, 2, 3, 4, 5)"
   ]
  },
  {
   "cell_type": "markdown",
   "metadata": {},
   "source": [
    "### Comparison"
   ]
  },
  {
   "cell_type": "code",
   "execution_count": 82,
   "metadata": {},
   "outputs": [
    {
     "name": "stdout",
     "output_type": "stream",
     "text": [
      "Body\u001b[36m::Int64\u001b[39m\n",
      "\u001b[90m1 ─\u001b[39m %1 = (Base.mul_int)(x, 5)\u001b[36m::Int64\u001b[39m\n",
      "\u001b[90m│  \u001b[39m %2 = (Base.add_int)(4, %1)\u001b[36m::Int64\u001b[39m\n",
      "\u001b[90m│  \u001b[39m %3 = (Base.mul_int)(x, %2)\u001b[36m::Int64\u001b[39m\n",
      "\u001b[90m│  \u001b[39m %4 = (Base.add_int)(3, %3)\u001b[36m::Int64\u001b[39m\n",
      "\u001b[90m│  \u001b[39m %5 = (Base.mul_int)(x, %4)\u001b[36m::Int64\u001b[39m\n",
      "\u001b[90m│  \u001b[39m %6 = (Base.add_int)(2, %5)\u001b[36m::Int64\u001b[39m\n",
      "\u001b[90m└──\u001b[39m      return %6\n"
     ]
    }
   ],
   "source": [
    "@code_warntype horner(x)"
   ]
  },
  {
   "cell_type": "code",
   "execution_count": 83,
   "metadata": {},
   "outputs": [
    {
     "name": "stdout",
     "output_type": "stream",
     "text": [
      "Body\u001b[36m::Int64\u001b[39m\n",
      "\u001b[90m1 ─\u001b[39m %1  = (Core.tuple)(2, 3, 4, 5, 6, 7, 8, 9, 10, 11, 12, 13, 14, 15, 16, 17, 18, 19, 20)\u001b[36m::Core.Compiler.Const((2, 3, 4, 5, 6, 7, 8, 9, 10, 11, 12, 13, 14, 15, 16, 17, 18, 19, 20), false)\u001b[39m\n",
      "\u001b[90m│  \u001b[39m       (Int64 <: Base.Signed)\n",
      "\u001b[90m└──\u001b[39m       goto #7 if not true\n",
      "\u001b[90m2 ┄\u001b[39m %4  = φ (#1 => 20, #6 => %9)\u001b[36m::Int64\u001b[39m\n",
      "\u001b[90m│  \u001b[39m %5  = φ (#1 => 18, #6 => %15)\u001b[36m::Int64\u001b[39m\n",
      "\u001b[90m│  \u001b[39m %6  = φ (#1 => 18, #6 => %16)\u001b[36m::Int64\u001b[39m\n",
      "\u001b[90m│  \u001b[39m %7  = (Base.getfield)(%1, %5, true)\u001b[36m::Int64\u001b[39m\n",
      "\u001b[90m│  \u001b[39m %8  = (Base.mul_int)(x, %4)\u001b[36m::Int64\u001b[39m\n",
      "\u001b[90m│  \u001b[39m %9  = (Base.add_int)(%7, %8)\u001b[36m::Int64\u001b[39m\n",
      "\u001b[90m│  \u001b[39m %10 = (%6 === 1)\u001b[36m::Bool\u001b[39m\n",
      "\u001b[90m└──\u001b[39m       goto #4 if not %10\n",
      "\u001b[90m3 ─\u001b[39m       goto #5\n",
      "\u001b[90m4 ─\u001b[39m %13 = (Base.add_int)(%6, -1)\u001b[36m::Int64\u001b[39m\n",
      "\u001b[90m└──\u001b[39m       goto #5\n",
      "\u001b[90m5 ┄\u001b[39m %15 = φ (#4 => %13)\u001b[36m::Int64\u001b[39m\n",
      "\u001b[90m│  \u001b[39m %16 = φ (#4 => %13)\u001b[36m::Int64\u001b[39m\n",
      "\u001b[90m│  \u001b[39m %17 = φ (#3 => true, #4 => false)\u001b[36m::Bool\u001b[39m\n",
      "\u001b[90m│  \u001b[39m %18 = (Base.not_int)(%17)\u001b[36m::Bool\u001b[39m\n",
      "\u001b[90m└──\u001b[39m       goto #7 if not %18\n",
      "\u001b[90m6 ─\u001b[39m       goto #2\n",
      "\u001b[90m7 ┄\u001b[39m %21 = φ (#5 => %9, #1 => 20)\u001b[36m::Int64\u001b[39m\n",
      "\u001b[90m└──\u001b[39m       goto #8\n",
      "\u001b[90m8 ─\u001b[39m       return %21\n"
     ]
    }
   ],
   "source": [
    "@code_warntype horner_loop(x)"
   ]
  },
  {
   "cell_type": "markdown",
   "metadata": {},
   "source": [
    "## Unroll.jl"
   ]
  },
  {
   "cell_type": "code",
   "execution_count": 182,
   "metadata": {},
   "outputs": [
    {
     "name": "stdout",
     "output_type": "stream",
     "text": [
      "\u001b[32m\u001b[1m   Cloning\u001b[22m\u001b[39m git-repo `https://github.com/StephenVavasis/Unroll.jl`\n",
      "\u001b[2K\u001b[?25h[1mFetching:\u001b[22m\u001b[39m [========================================>]  100.0 %.0 % %\u001b[32m\u001b[1m  Updating\u001b[22m\u001b[39m git-repo `https://github.com/StephenVavasis/Unroll.jl`\n",
      "\u001b[?25l\u001b[2K\u001b[?25h\u001b[32m\u001b[1m Resolving\u001b[22m\u001b[39m package versions...\n"
     ]
    },
    {
     "name": "stderr",
     "output_type": "stream",
     "text": [
      "┌ Info: Assigning UUID bec05c2e-cc06-5df2-90c3-340a513e71ff to Unroll\n",
      "└ @ Pkg.Types C:\\cygwin\\home\\Administrator\\buildbot\\worker\\package_win64\\build\\usr\\share\\julia\\stdlib\\v1.1\\Pkg\\src\\Types.jl:841\n"
     ]
    },
    {
     "name": "stdout",
     "output_type": "stream",
     "text": [
      "\u001b[32m\u001b[1m  Updating\u001b[22m\u001b[39m `C:\\Users\\carsten\\Desktop\\julia-workshop-2019\\Project.toml`\n",
      " \u001b[90m [bec05c2e]\u001b[39m\u001b[92m + Unroll v0.0.0 [`C:\\Users\\carsten\\.julia\\dev\\Unroll`]\u001b[39m\n",
      "\u001b[32m\u001b[1m  Updating\u001b[22m\u001b[39m `C:\\Users\\carsten\\Desktop\\julia-workshop-2019\\Manifest.toml`\n",
      " \u001b[90m [bec05c2e]\u001b[39m\u001b[92m + Unroll v0.0.0 [`C:\\Users\\carsten\\.julia\\dev\\Unroll`]\u001b[39m\n"
     ]
    }
   ],
   "source": [
    "] dev https://github.com/StephenVavasis/Unroll.jl"
   ]
  },
  {
   "cell_type": "code",
   "execution_count": 2,
   "metadata": {},
   "outputs": [
    {
     "name": "stderr",
     "output_type": "stream",
     "text": [
      "┌ Info: Recompiling stale cache file C:\\Users\\carsten\\.julia\\compiled\\v1.1\\Unroll\\GnJ37.ji for Unroll [bec05c2e-cc06-5df2-90c3-340a513e71ff]\n",
      "└ @ Base loading.jl:1184\n"
     ]
    }
   ],
   "source": [
    "using Unroll, BenchmarkTools"
   ]
  },
  {
   "cell_type": "code",
   "execution_count": 34,
   "metadata": {},
   "outputs": [
    {
     "data": {
      "text/plain": [
       "f (generic function with 1 method)"
      ]
     },
     "execution_count": 34,
     "metadata": {},
     "output_type": "execute_result"
    }
   ],
   "source": [
    "function f()\n",
    "    z = 1.0\n",
    "    for i in 1:10\n",
    "        z += i*rand()\n",
    "    end\n",
    "    z\n",
    "end"
   ]
  },
  {
   "cell_type": "code",
   "execution_count": 35,
   "metadata": {},
   "outputs": [
    {
     "name": "stdout",
     "output_type": "stream",
     "text": [
      "  0.012787 seconds (32.05 k allocations: 1.766 MiB)\n"
     ]
    },
    {
     "data": {
      "text/plain": [
       "30.116107186413537"
      ]
     },
     "execution_count": 35,
     "metadata": {},
     "output_type": "execute_result"
    }
   ],
   "source": [
    "@time f()"
   ]
  },
  {
   "cell_type": "code",
   "execution_count": 36,
   "metadata": {},
   "outputs": [
    {
     "data": {
      "text/plain": [
       "CodeInfo(\n",
       "\u001b[90m1 ─\u001b[39m       z = 1.0\n",
       "\u001b[90m│  \u001b[39m %2  = 1:10\n",
       "\u001b[90m│  \u001b[39m       #temp# = (Base.iterate)(%2)\n",
       "\u001b[90m│  \u001b[39m %4  = #temp# === nothing\n",
       "\u001b[90m│  \u001b[39m %5  = (Base.not_int)(%4)\n",
       "\u001b[90m└──\u001b[39m       goto #4 if not %5\n",
       "\u001b[90m2 ┄\u001b[39m %7  = #temp#\n",
       "\u001b[90m│  \u001b[39m       i = (Core.getfield)(%7, 1)\n",
       "\u001b[90m│  \u001b[39m %9  = (Core.getfield)(%7, 2)\n",
       "\u001b[90m│  \u001b[39m %10 = z\n",
       "\u001b[90m│  \u001b[39m %11 = i\n",
       "\u001b[90m│  \u001b[39m %12 = (Main.rand)()\n",
       "\u001b[90m│  \u001b[39m %13 = %11 * %12\n",
       "\u001b[90m│  \u001b[39m       z = %10 + %13\n",
       "\u001b[90m│  \u001b[39m       #temp# = (Base.iterate)(%2, %9)\n",
       "\u001b[90m│  \u001b[39m %16 = #temp# === nothing\n",
       "\u001b[90m│  \u001b[39m %17 = (Base.not_int)(%16)\n",
       "\u001b[90m└──\u001b[39m       goto #4 if not %17\n",
       "\u001b[90m3 ─\u001b[39m       goto #2\n",
       "\u001b[90m4 ┄\u001b[39m       return z\n",
       ")"
      ]
     },
     "execution_count": 36,
     "metadata": {},
     "output_type": "execute_result"
    }
   ],
   "source": [
    "@code_lowered f()"
   ]
  },
  {
   "cell_type": "code",
   "execution_count": 37,
   "metadata": {},
   "outputs": [
    {
     "name": "stdout",
     "output_type": "stream",
     "text": [
      "  21.642 ns (0 allocations: 0 bytes)\n"
     ]
    },
    {
     "data": {
      "text/plain": [
       "38.09206697201813"
      ]
     },
     "execution_count": 37,
     "metadata": {},
     "output_type": "execute_result"
    }
   ],
   "source": [
    "@btime f()"
   ]
  },
  {
   "cell_type": "code",
   "execution_count": 38,
   "metadata": {},
   "outputs": [
    {
     "data": {
      "text/plain": [
       "g (generic function with 1 method)"
      ]
     },
     "execution_count": 38,
     "metadata": {},
     "output_type": "execute_result"
    }
   ],
   "source": [
    "function g()\n",
    "    z = 1.0\n",
    "    @unroll for i in 1:10\n",
    "        z += i*rand()\n",
    "    end \n",
    "    z\n",
    "end"
   ]
  },
  {
   "cell_type": "code",
   "execution_count": 39,
   "metadata": {},
   "outputs": [
    {
     "name": "stdout",
     "output_type": "stream",
     "text": [
      "  0.029493 seconds (106.86 k allocations: 5.611 MiB)\n"
     ]
    },
    {
     "data": {
      "text/plain": [
       "41.343279050125766"
      ]
     },
     "execution_count": 39,
     "metadata": {},
     "output_type": "execute_result"
    }
   ],
   "source": [
    "@time g()"
   ]
  },
  {
   "cell_type": "code",
   "execution_count": 40,
   "metadata": {},
   "outputs": [
    {
     "name": "stdout",
     "output_type": "stream",
     "text": [
      "  18.218 ns (0 allocations: 0 bytes)\n"
     ]
    }
   ],
   "source": [
    "@btime g();"
   ]
  },
  {
   "cell_type": "code",
   "execution_count": 41,
   "metadata": {},
   "outputs": [
    {
     "data": {
      "text/plain": [
       "CodeInfo(\n",
       "\u001b[90m1 ─\u001b[39m       z = 1.0\n",
       "\u001b[90m│  \u001b[39m %2  = z\n",
       "\u001b[90m│  \u001b[39m %3  = (Main.rand)()\n",
       "\u001b[90m│  \u001b[39m %4  = 1 * %3\n",
       "\u001b[90m│  \u001b[39m       z = %2 + %4\n",
       "\u001b[90m│  \u001b[39m %6  = z\n",
       "\u001b[90m│  \u001b[39m %7  = (Main.rand)()\n",
       "\u001b[90m│  \u001b[39m %8  = 2 * %7\n",
       "\u001b[90m│  \u001b[39m       z = %6 + %8\n",
       "\u001b[90m│  \u001b[39m %10 = z\n",
       "\u001b[90m│  \u001b[39m %11 = (Main.rand)()\n",
       "\u001b[90m│  \u001b[39m %12 = 3 * %11\n",
       "\u001b[90m│  \u001b[39m       z = %10 + %12\n",
       "\u001b[90m│  \u001b[39m %14 = z\n",
       "\u001b[90m│  \u001b[39m %15 = (Main.rand)()\n",
       "\u001b[90m│  \u001b[39m %16 = 4 * %15\n",
       "\u001b[90m│  \u001b[39m       z = %14 + %16\n",
       "\u001b[90m│  \u001b[39m %18 = z\n",
       "\u001b[90m│  \u001b[39m %19 = (Main.rand)()\n",
       "\u001b[90m│  \u001b[39m %20 = 5 * %19\n",
       "\u001b[90m│  \u001b[39m       z = %18 + %20\n",
       "\u001b[90m│  \u001b[39m %22 = z\n",
       "\u001b[90m│  \u001b[39m %23 = (Main.rand)()\n",
       "\u001b[90m│  \u001b[39m %24 = 6 * %23\n",
       "\u001b[90m│  \u001b[39m       z = %22 + %24\n",
       "\u001b[90m│  \u001b[39m %26 = z\n",
       "\u001b[90m│  \u001b[39m %27 = (Main.rand)()\n",
       "\u001b[90m│  \u001b[39m %28 = 7 * %27\n",
       "\u001b[90m│  \u001b[39m       z = %26 + %28\n",
       "\u001b[90m│  \u001b[39m %30 = z\n",
       "\u001b[90m│  \u001b[39m %31 = (Main.rand)()\n",
       "\u001b[90m│  \u001b[39m %32 = 8 * %31\n",
       "\u001b[90m│  \u001b[39m       z = %30 + %32\n",
       "\u001b[90m│  \u001b[39m %34 = z\n",
       "\u001b[90m│  \u001b[39m %35 = (Main.rand)()\n",
       "\u001b[90m│  \u001b[39m %36 = 9 * %35\n",
       "\u001b[90m│  \u001b[39m       z = %34 + %36\n",
       "\u001b[90m│  \u001b[39m %38 = z\n",
       "\u001b[90m│  \u001b[39m %39 = (Main.rand)()\n",
       "\u001b[90m│  \u001b[39m %40 = 10 * %39\n",
       "\u001b[90m│  \u001b[39m       z = %38 + %40\n",
       "\u001b[90m└──\u001b[39m       return z\n",
       ")"
      ]
     },
     "execution_count": 41,
     "metadata": {},
     "output_type": "execute_result"
    }
   ],
   "source": [
    "@code_lowered g()"
   ]
  },
  {
   "cell_type": "code",
   "execution_count": null,
   "metadata": {},
   "outputs": [],
   "source": []
  },
  {
   "cell_type": "code",
   "execution_count": null,
   "metadata": {},
   "outputs": [],
   "source": []
  },
  {
   "cell_type": "markdown",
   "metadata": {},
   "source": [
    "Based on https://github.com/mitmath/18S096/blob/master/lectures/lecture7/Metaprogramming.ipynb"
   ]
  }
 ],
 "metadata": {
  "@webio": {
   "lastCommId": null,
   "lastKernelId": null
  },
  "kernelspec": {
   "display_name": "Julia 1.2.0",
   "language": "julia",
   "name": "julia-1.2"
  },
  "language_info": {
   "file_extension": ".jl",
   "mimetype": "application/julia",
   "name": "julia",
   "version": "1.2.0"
  }
 },
 "nbformat": 4,
 "nbformat_minor": 2
}
