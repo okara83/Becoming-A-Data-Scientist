{
 "cells": [
  {
   "cell_type": "markdown",
   "metadata": {},
   "source": [
    "# Some Packages"
   ]
  },
  {
   "cell_type": "markdown",
   "metadata": {},
   "source": [
    "Let's walk over a couple of packages that you might find useful.\n",
    "\n",
    "Most packages are tracked by https://juliaobserver.com/. Packages are grouped into categories.\n",
    "\n",
    "There is also https://pkg.julialang.org/docs/."
   ]
  },
  {
   "cell_type": "markdown",
   "metadata": {},
   "source": [
    "### [Parameters.jl](https://github.com/mauro3/Parameters.jl)"
   ]
  },
  {
   "cell_type": "code",
   "execution_count": 1,
   "metadata": {},
   "outputs": [],
   "source": [
    "using Parameters"
   ]
  },
  {
   "cell_type": "code",
   "execution_count": 2,
   "metadata": {},
   "outputs": [
    {
     "data": {
      "text/plain": [
       "MyParams"
      ]
     },
     "execution_count": 2,
     "metadata": {},
     "output_type": "execute_result"
    }
   ],
   "source": [
    "@with_kw struct MyParams\n",
    "    x::Int = 4\n",
    "    y::Float64\n",
    "end"
   ]
  },
  {
   "cell_type": "code",
   "execution_count": 3,
   "metadata": {},
   "outputs": [
    {
     "ename": "ErrorException",
     "evalue": "Field 'y' has no default, supply it with keyword.",
     "output_type": "error",
     "traceback": [
      "Field 'y' has no default, supply it with keyword.",
      "",
      "Stacktrace:",
      " [1] error(::String) at .\\error.jl:33",
      " [2] MyParams() at C:\\Users\\carsten\\.julia\\packages\\Parameters\\35RKe\\src\\Parameters.jl:462",
      " [3] top-level scope at In[3]:1"
     ]
    }
   ],
   "source": [
    "MyParams()"
   ]
  },
  {
   "cell_type": "code",
   "execution_count": 4,
   "metadata": {},
   "outputs": [
    {
     "data": {
      "text/plain": [
       "MyParams\n",
       "  x: Int64 4\n",
       "  y: Float64 2.0\n"
      ]
     },
     "execution_count": 4,
     "metadata": {},
     "output_type": "execute_result"
    }
   ],
   "source": [
    "MyParams(y = 2)"
   ]
  },
  {
   "cell_type": "code",
   "execution_count": 5,
   "metadata": {},
   "outputs": [
    {
     "data": {
      "text/plain": [
       "MyParams2"
      ]
     },
     "execution_count": 5,
     "metadata": {},
     "output_type": "execute_result"
    }
   ],
   "source": [
    "@with_kw struct MyParams2\n",
    "    x::Int = 4;\n",
    "    y::Float64 = 5.3\n",
    "    z::Int = floor(x+y)\n",
    "end"
   ]
  },
  {
   "cell_type": "code",
   "execution_count": 6,
   "metadata": {},
   "outputs": [
    {
     "data": {
      "text/plain": [
       "MyParams2\n",
       "  x: Int64 4\n",
       "  y: Float64 5.3\n",
       "  z: Int64 9\n"
      ]
     },
     "execution_count": 6,
     "metadata": {},
     "output_type": "execute_result"
    }
   ],
   "source": [
    "MyParams2()"
   ]
  },
  {
   "cell_type": "code",
   "execution_count": 7,
   "metadata": {},
   "outputs": [
    {
     "data": {
      "text/plain": [
       "MyParams3"
      ]
     },
     "execution_count": 7,
     "metadata": {},
     "output_type": "execute_result"
    }
   ],
   "source": [
    "@with_kw struct MyParams3\n",
    "    x::Int = 4; @assert x != 2\n",
    "    y::Float64 = 5.3\n",
    "    @assert x + y >= 9\n",
    "end"
   ]
  },
  {
   "cell_type": "code",
   "execution_count": 8,
   "metadata": {},
   "outputs": [
    {
     "ename": "AssertionError",
     "evalue": "AssertionError: x + y >= 9",
     "output_type": "error",
     "traceback": [
      "AssertionError: x + y >= 9",
      "",
      "Stacktrace:",
      " [1] Type at .\\none:0 [inlined]",
      " [2] #MyParams3#9 at C:\\Users\\carsten\\.julia\\packages\\Parameters\\35RKe\\src\\Parameters.jl:462 [inlined]",
      " [3] (::getfield(Core, Symbol(\"#kw#Type\")))(::NamedTuple{(:y,),Tuple{Int64}}, ::Type{MyParams3}) at .\\none:0",
      " [4] top-level scope at In[8]:1"
     ]
    }
   ],
   "source": [
    "MyParams3(y = 3)"
   ]
  },
  {
   "cell_type": "code",
   "execution_count": 9,
   "metadata": {},
   "outputs": [
    {
     "ename": "AssertionError",
     "evalue": "AssertionError: x != 2",
     "output_type": "error",
     "traceback": [
      "AssertionError: x != 2",
      "",
      "Stacktrace:",
      " [1] Type at .\\none:0 [inlined]",
      " [2] #MyParams3#9 at C:\\Users\\carsten\\.julia\\packages\\Parameters\\35RKe\\src\\Parameters.jl:462 [inlined]",
      " [3] (::getfield(Core, Symbol(\"#kw#Type\")))(::NamedTuple{(:x,),Tuple{Int64}}, ::Type{MyParams3}) at .\\none:0",
      " [4] top-level scope at In[9]:1"
     ]
    }
   ],
   "source": [
    "MyParams3(x = 2)"
   ]
  },
  {
   "cell_type": "code",
   "execution_count": 10,
   "metadata": {},
   "outputs": [
    {
     "data": {
      "text/plain": [
       "MyParams4"
      ]
     },
     "execution_count": 10,
     "metadata": {},
     "output_type": "execute_result"
    }
   ],
   "source": [
    "@with_kw mutable struct MyParams4 @deftype Int\n",
    "    x = 4;\n",
    "    y::Float64 = 5.3\n",
    "    z = floor(x+y)\n",
    "    a = 1\n",
    "    b = 2\n",
    "end"
   ]
  },
  {
   "cell_type": "markdown",
   "metadata": {},
   "source": [
    "### [ProgressMeter.jl](https://github.com/timholy/ProgressMeter.jl)"
   ]
  },
  {
   "cell_type": "code",
   "execution_count": 66,
   "metadata": {},
   "outputs": [],
   "source": [
    "using ProgressMeter"
   ]
  },
  {
   "cell_type": "code",
   "execution_count": null,
   "metadata": {},
   "outputs": [],
   "source": [
    "@showprogress .5 for i in 1:20\n",
    "    sleep(rand())\n",
    "end"
   ]
  },
  {
   "cell_type": "markdown",
   "metadata": {},
   "source": [
    "### [StaticArrays.jl](https://github.com/JuliaArrays/StaticArrays.jl)"
   ]
  },
  {
   "cell_type": "code",
   "execution_count": 1,
   "metadata": {},
   "outputs": [],
   "source": [
    "using StaticArrays"
   ]
  },
  {
   "cell_type": "code",
   "execution_count": 5,
   "metadata": {},
   "outputs": [
    {
     "data": {
      "text/plain": [
       "2×2 SArray{Tuple{2,2},Int64,2,4}:\n",
       " 1  3\n",
       " 2  4"
      ]
     },
     "execution_count": 5,
     "metadata": {},
     "output_type": "execute_result"
    }
   ],
   "source": [
    "m = SMatrix{2,2}(1, 2, 3, 4)"
   ]
  },
  {
   "cell_type": "code",
   "execution_count": 7,
   "metadata": {},
   "outputs": [
    {
     "data": {
      "text/plain": [
       "(2, 2)"
      ]
     },
     "execution_count": 7,
     "metadata": {},
     "output_type": "execute_result"
    }
   ],
   "source": [
    "size(m)"
   ]
  },
  {
   "cell_type": "code",
   "execution_count": 9,
   "metadata": {},
   "outputs": [
    {
     "data": {
      "text/plain": [
       "(2, 2)"
      ]
     },
     "execution_count": 9,
     "metadata": {},
     "output_type": "execute_result"
    }
   ],
   "source": [
    "size(typeof(m))"
   ]
  },
  {
   "cell_type": "code",
   "execution_count": 24,
   "metadata": {},
   "outputs": [
    {
     "ename": "MethodError",
     "evalue": "MethodError: no method matching size(::Type{Array{Int64,2}})\nClosest candidates are:\n  size(!Matched::BitArray{1}) at bitarray.jl:70\n  size(!Matched::BitArray{1}, !Matched::Any) at bitarray.jl:74\n  size(!Matched::Core.Compiler.StmtRange) at show.jl:1561\n  ...",
     "output_type": "error",
     "traceback": [
      "MethodError: no method matching size(::Type{Array{Int64,2}})\nClosest candidates are:\n  size(!Matched::BitArray{1}) at bitarray.jl:70\n  size(!Matched::BitArray{1}, !Matched::Any) at bitarray.jl:74\n  size(!Matched::Core.Compiler.StmtRange) at show.jl:1561\n  ...",
      "",
      "Stacktrace:",
      " [1] top-level scope at In[24]:3"
     ]
    }
   ],
   "source": [
    "# compare to\n",
    "M = Matrix(m)\n",
    "size(typeof(M))"
   ]
  },
  {
   "cell_type": "code",
   "execution_count": 31,
   "metadata": {},
   "outputs": [
    {
     "data": {
      "text/plain": [
       "2×2 SArray{Tuple{2,2},Int64,2,4}:\n",
       " 1  3\n",
       " 2  4"
      ]
     },
     "execution_count": 31,
     "metadata": {},
     "output_type": "execute_result"
    }
   ],
   "source": [
    "m2 = @SMatrix [ 1  3 ;\n",
    "                2  4 ]"
   ]
  },
  {
   "cell_type": "code",
   "execution_count": 32,
   "metadata": {},
   "outputs": [
    {
     "data": {
      "text/plain": [
       "4×4 SArray{Tuple{4,4},Float64,2,16}:\n",
       " 0.278213  0.455851  0.336642  0.154724\n",
       " 0.534905  0.333391  0.588661  0.754726\n",
       " 0.142001  0.879145  0.650837  0.343375\n",
       " 0.371889  0.748404  0.112358  0.272267"
      ]
     },
     "execution_count": 32,
     "metadata": {},
     "output_type": "execute_result"
    }
   ],
   "source": [
    "m3 = @SMatrix rand(4,4)"
   ]
  },
  {
   "cell_type": "code",
   "execution_count": 34,
   "metadata": {},
   "outputs": [
    {
     "data": {
      "text/plain": [
       "2×2×2 SArray{Tuple{2,2,2},Float64,3,8}:\n",
       "[:, :, 1] =\n",
       " -0.892293  1.80155\n",
       "  0.872782  1.2959 \n",
       "\n",
       "[:, :, 2] =\n",
       " 0.0617252  0.751006\n",
       " 0.813146   0.175316"
      ]
     },
     "execution_count": 34,
     "metadata": {},
     "output_type": "execute_result"
    }
   ],
   "source": [
    "a = @SArray randn(2, 2, 2)"
   ]
  },
  {
   "cell_type": "markdown",
   "metadata": {},
   "source": [
    "** Static arrays are fast ... **"
   ]
  },
  {
   "cell_type": "code",
   "execution_count": 13,
   "metadata": {},
   "outputs": [],
   "source": [
    "using BenchmarkTools, LinearAlgebra"
   ]
  },
  {
   "cell_type": "code",
   "execution_count": 26,
   "metadata": {},
   "outputs": [
    {
     "name": "stdout",
     "output_type": "stream",
     "text": [
      "Inversion\n",
      "  11.520 ns (0 allocations: 0 bytes)\n",
      "  665.815 ns (6 allocations: 1.50 KiB)\n"
     ]
    }
   ],
   "source": [
    "println(\"Inversion\")\n",
    "@btime inv($m);\n",
    "@btime inv($M);"
   ]
  },
  {
   "cell_type": "code",
   "execution_count": 28,
   "metadata": {},
   "outputs": [
    {
     "name": "stdout",
     "output_type": "stream",
     "text": [
      "Matrix x vector\n",
      "  6.400 ns (0 allocations: 0 bytes)\n",
      "  49.563 ns (1 allocation: 96 bytes)\n"
     ]
    }
   ],
   "source": [
    "println(\"Matrix x vector\")\n",
    "v = rand(2)\n",
    "@btime $m * $v;\n",
    "@btime $M * $v;"
   ]
  },
  {
   "cell_type": "markdown",
   "metadata": {},
   "source": [
    "*Benchmarks for 3×3 Float64 matrices:*\n",
    "\n",
    "| Operation | Speedup |\n",
    "| --- | --- |\n",
    "| Matrix multiplication | 8.2x |\n",
    "| Matrix multiplication (mutating)    | 3.1x |\n",
    "| Matrix addition                     | 45x |\n",
    "| Matrix addition (mutating)          | 5.1x |\n",
    "| Matrix determinant                  | 170x |\n",
    "| Matrix inverse                      | 125x |\n",
    "| Matrix symmetric eigendecomposition | 82x |\n",
    "| Matrix Cholesky decomposition       | 23.6x |"
   ]
  },
  {
   "cell_type": "markdown",
   "metadata": {},
   "source": [
    "** ... as long as they are not too large ** because they put a lot of stress on the compiler!"
   ]
  },
  {
   "cell_type": "code",
   "execution_count": 48,
   "metadata": {},
   "outputs": [
    {
     "name": "stdout",
     "output_type": "stream",
     "text": [
      "Inversion\n",
      "  288.854 μs (8 allocations: 65.00 KiB)\n",
      "  281.173 μs (6 allocations: 45.36 KiB)\n",
      "Matrix x vector\n",
      "  1.195 μs (0 allocations: 0 bytes)\n",
      "  497.409 ns (1 allocation: 544 bytes)\n"
     ]
    }
   ],
   "source": [
    "# takes a long time to compile and is slower\n",
    "N = 50\n",
    "M = rand(N,N);\n",
    "v = rand(N);\n",
    "m = SMatrix{N,N}(M);\n",
    "\n",
    "println(\"Inversion\")\n",
    "@btime inv($m);\n",
    "@btime inv($M);\n",
    "\n",
    "println(\"Matrix x vector\")\n",
    "@btime $m * $v;\n",
    "@btime $M * $v;"
   ]
  },
  {
   "cell_type": "markdown",
   "metadata": {},
   "source": [
    "### LsqFit.jl"
   ]
  },
  {
   "cell_type": "markdown",
   "metadata": {},
   "source": [
    "Least square fitting of data to a custom model."
   ]
  },
  {
   "cell_type": "code",
   "execution_count": 60,
   "metadata": {},
   "outputs": [],
   "source": [
    "using LsqFit"
   ]
  },
  {
   "cell_type": "code",
   "execution_count": null,
   "metadata": {},
   "outputs": [],
   "source": [
    "model(x, p) = p[1]*exp.(-x.*p[2]) # f(x) = α*exp(-γ*x)\n",
    "\n",
    "xdata = linspace(0, 10, 20)\n",
    "ydata = model(xdata, [1.0 2.0]) + 0.01*randn(length(xdata))\n",
    "p0 = [0.5, 0.5]\n",
    "\n",
    "fit = curve_fit(model, xdata, ydata, p0)\n",
    "\n",
    "fit.param\n",
    "\n",
    "# define function for fit result\n",
    "modelfit = x -> model(x, fit.param)\n",
    "modelfit(0.2)"
   ]
  },
  {
   "cell_type": "markdown",
   "metadata": {},
   "source": [
    "### Polynomials.jl"
   ]
  },
  {
   "cell_type": "markdown",
   "metadata": {},
   "source": [
    "Approximate data by a polynomial to be able to calculate roots, extrema, integrals, etcetera."
   ]
  },
  {
   "cell_type": "code",
   "execution_count": 52,
   "metadata": {},
   "outputs": [],
   "source": [
    "using Polynomials"
   ]
  },
  {
   "cell_type": "code",
   "execution_count": 55,
   "metadata": {},
   "outputs": [
    {
     "data": {
      "text/html": [
       "&#45;4.760636329592671e-13 &#45; 21.99999759993608&#8729;x &#43; 0.999999999913791&#8729;x^2 &#43; 334.3329608441714&#8729;x^3 &#43; 7.005207302692887e-9&#8729;x^4 &#45; 1666.6507461710623&#8729;x^5 &#45; 1.6706464272165978e-7&#8729;x^6 &#43; 3967.9599398668156&#8729;x^7 &#43; 1.8149244427710258e-6&#8729;x^8 &#45; 5508.630672075789&#8729;x^9 &#45; 1.0641025398490601e-5&#8729;x^10 &#43; 4994.732794653599&#8729;x^11 &#43; 3.6279625675568894e-5&#8729;x^12 &#45; 3159.321402395326&#8729;x^13 &#45; 7.366656379570021e-5&#8729;x^14 &#43; 1421.3562542609454&#8729;x^15 &#43; 8.734891320306257e-5&#8729;x^16 &#45; 426.6285653251695&#8729;x^17 &#45; 5.557334566101827e-5&#8729;x^18 &#43; 64.93747616353085&#8729;x^19 &#43; 1.4597617178244494e-5&#8729;x^20"
      ],
      "text/plain": [
       "Poly(-4.760636329592671e-13 - 21.99999759993608*x + 0.999999999913791*x^2 + 334.3329608441714*x^3 + 7.005207302692887e-9*x^4 - 1666.6507461710623*x^5 - 1.6706464272165978e-7*x^6 + 3967.9599398668156*x^7 + 1.8149244427710258e-6*x^8 - 5508.630672075789*x^9 - 1.0641025398490601e-5*x^10 + 4994.732794653599*x^11 + 3.6279625675568894e-5*x^12 - 3159.321402395326*x^13 - 7.366656379570021e-5*x^14 + 1421.3562542609454*x^15 + 8.734891320306257e-5*x^16 - 426.6285653251695*x^17 - 5.557334566101827e-5*x^18 + 64.93747616353085*x^19 + 1.4597617178244494e-5*x^20)"
      ]
     },
     "execution_count": 55,
     "metadata": {},
     "output_type": "execute_result"
    }
   ],
   "source": [
    "myp(x) = 3*x\n",
    "xdata = -1:.1:1\n",
    "ydata = myfunc.(xdata);\n",
    "p = polyfit(xdata, ydata)"
   ]
  },
  {
   "cell_type": "code",
   "execution_count": 56,
   "metadata": {},
   "outputs": [
    {
     "data": {
      "image/png": "[encoded data removed]",
      "text/plain": [
       "PyPlot.Figure(PyObject <Figure size 640x480 with 1 Axes>)"
      ]
     },
     "metadata": {},
     "output_type": "display_data"
    },
    {
     "data": {
      "text/plain": [
       "PyObject <matplotlib.legend.Legend object at 0x00000000026B41D0>"
      ]
     },
     "execution_count": 56,
     "metadata": {},
     "output_type": "execute_result"
    },
    {
     "name": "stderr",
     "output_type": "stream",
     "text": [
      "WARNING: both ApproxFun and Polynomials export \"roots\"; uses of it in module Main must be qualified\n"
     ]
    }
   ],
   "source": [
    "using PyPlot\n",
    "grid = linspace(-1, 1, 100)\n",
    "plot(grid, p.(grid), label=\"polynomial\")\n",
    "plot(xdata, ydata, \"o\", label=\"data\")\n",
    "legend()"
   ]
  },
  {
   "cell_type": "markdown",
   "metadata": {},
   "source": [
    "### FFTW.jl"
   ]
  },
  {
   "cell_type": "code",
   "execution_count": 6,
   "metadata": {},
   "outputs": [],
   "source": [
    "using FFTW"
   ]
  },
  {
   "cell_type": "code",
   "execution_count": 7,
   "metadata": {},
   "outputs": [
    {
     "data": {
      "text/plain": [
       "5-element Array{Complex{Float64},1}:\n",
       "    16.0+0.0im\n",
       " 6.82843+0.0im\n",
       "     0.0+0.0im\n",
       " 1.17157+0.0im\n",
       "     0.0+0.0im"
      ]
     },
     "execution_count": 7,
     "metadata": {},
     "output_type": "execute_result"
    }
   ],
   "source": [
    "x = [4,3,2,1,0,1,2,3]\n",
    "y = rfft(x)"
   ]
  },
  {
   "cell_type": "markdown",
   "metadata": {},
   "source": [
    "### Measurements.jl"
   ]
  },
  {
   "cell_type": "markdown",
   "metadata": {},
   "source": [
    "A package that allows you to define numbers with uncertainties, perform calculations involving them, and easily get the uncertainty of the result according to linear error propagation theory."
   ]
  },
  {
   "cell_type": "code",
   "execution_count": 22,
   "metadata": {},
   "outputs": [],
   "source": [
    "using Measurements"
   ]
  },
  {
   "cell_type": "code",
   "execution_count": 23,
   "metadata": {},
   "outputs": [
    {
     "data": {
      "text/latex": [
       "$4.0 \\pm 0.1$"
      ],
      "text/plain": [
       "4.0 ± 0.1"
      ]
     },
     "execution_count": 23,
     "metadata": {},
     "output_type": "execute_result"
    }
   ],
   "source": [
    "x = 4 ± 0.1"
   ]
  },
  {
   "cell_type": "code",
   "execution_count": 24,
   "metadata": {},
   "outputs": [
    {
     "data": {
      "text/plain": [
       "Measurement{Float64}"
      ]
     },
     "execution_count": 24,
     "metadata": {},
     "output_type": "execute_result"
    }
   ],
   "source": [
    "typeof(x)"
   ]
  },
  {
   "cell_type": "code",
   "execution_count": 25,
   "metadata": {},
   "outputs": [
    {
     "data": {
      "text/latex": [
       "$5.1 \\pm 0.2$"
      ],
      "text/plain": [
       "5.1 ± 0.2"
      ]
     },
     "execution_count": 25,
     "metadata": {},
     "output_type": "execute_result"
    }
   ],
   "source": [
    "y = measurement(5.1, 0.2)"
   ]
  },
  {
   "cell_type": "code",
   "execution_count": 26,
   "metadata": {},
   "outputs": [
    {
     "data": {
      "text/latex": [
       "$9.1 \\pm 0.223606797749979$"
      ],
      "text/plain": [
       "9.1 ± 0.223606797749979"
      ]
     },
     "execution_count": 26,
     "metadata": {},
     "output_type": "execute_result"
    }
   ],
   "source": [
    "x + y"
   ]
  },
  {
   "cell_type": "code",
   "execution_count": 27,
   "metadata": {},
   "outputs": [
    {
     "data": {
      "text/latex": [
       "$20.4 \\pm 0.9487360012142473$"
      ],
      "text/plain": [
       "20.4 ± 0.9487360012142473"
      ]
     },
     "execution_count": 27,
     "metadata": {},
     "output_type": "execute_result"
    }
   ],
   "source": [
    "x * y"
   ]
  },
  {
   "cell_type": "code",
   "execution_count": 28,
   "metadata": {},
   "outputs": [
    {
     "data": {
      "text/latex": [
       "$0.25 \\pm 0.00625$"
      ],
      "text/plain": [
       "0.25 ± 0.00625"
      ]
     },
     "execution_count": 28,
     "metadata": {},
     "output_type": "execute_result"
    }
   ],
   "source": [
    "1/x # Δ(1/x) = d(1/x)/dx * Δx"
   ]
  },
  {
   "cell_type": "markdown",
   "metadata": {},
   "source": [
    "Some properties to be aware of:"
   ]
  },
  {
   "cell_type": "code",
   "execution_count": 31,
   "metadata": {},
   "outputs": [
    {
     "data": {
      "text/plain": [
       "false"
      ]
     },
     "execution_count": 31,
     "metadata": {},
     "output_type": "execute_result"
    }
   ],
   "source": [
    "(3 ± 0.1) === (3 ± 0.1)"
   ]
  },
  {
   "cell_type": "code",
   "execution_count": 30,
   "metadata": {},
   "outputs": [
    {
     "data": {
      "text/latex": [
       "$1.0 \\pm 0.04714045207910317$"
      ],
      "text/plain": [
       "1.0 ± 0.04714045207910317"
      ]
     },
     "execution_count": 30,
     "metadata": {},
     "output_type": "execute_result"
    }
   ],
   "source": [
    "(3 ± 0.1) / (3 ± 0.1)"
   ]
  },
  {
   "cell_type": "markdown",
   "metadata": {},
   "source": [
    "### Unitful.jl"
   ]
  },
  {
   "cell_type": "code",
   "execution_count": 1,
   "metadata": {},
   "outputs": [],
   "source": [
    "using Unitful"
   ]
  },
  {
   "cell_type": "code",
   "execution_count": 3,
   "metadata": {},
   "outputs": [
    {
     "data": {
      "text/plain": [
       "1 kg"
      ]
     },
     "execution_count": 3,
     "metadata": {},
     "output_type": "execute_result"
    }
   ],
   "source": [
    "1u\"kg\""
   ]
  },
  {
   "cell_type": "code",
   "execution_count": 9,
   "metadata": {},
   "outputs": [
    {
     "data": {
      "text/plain": [
       "kg"
      ]
     },
     "execution_count": 9,
     "metadata": {},
     "output_type": "execute_result"
    }
   ],
   "source": [
    "unit(1u\"kg\")"
   ]
  },
  {
   "cell_type": "code",
   "execution_count": 11,
   "metadata": {},
   "outputs": [
    {
     "data": {
      "text/plain": [
       "1"
      ]
     },
     "execution_count": 11,
     "metadata": {},
     "output_type": "execute_result"
    }
   ],
   "source": [
    "ustrip(1u\"kg\") # strip the units"
   ]
  },
  {
   "cell_type": "code",
   "execution_count": 15,
   "metadata": {},
   "outputs": [
    {
     "data": {
      "text/plain": [
       "1000//1"
      ]
     },
     "execution_count": 15,
     "metadata": {},
     "output_type": "execute_result"
    }
   ],
   "source": [
    "uconvert(u\"g\", 1u\"kg\")"
   ]
  },
  {
   "cell_type": "code",
   "execution_count": 33,
   "metadata": {},
   "outputs": [
    {
     "data": {
      "text/plain": [
       "true"
      ]
     },
     "execution_count": 33,
     "metadata": {},
     "output_type": "execute_result"
    }
   ],
   "source": [
    "1u\"A\" * 2u\"Ω\" isa Unitful.Voltage"
   ]
  },
  {
   "cell_type": "markdown",
   "metadata": {},
   "source": [
    "Great, but can we avoid this `u\"kg\"` notation and make it more natural? Sure!"
   ]
  },
  {
   "cell_type": "code",
   "execution_count": 6,
   "metadata": {},
   "outputs": [],
   "source": [
    "using Unitful: ms, s, minute, hr, rad, °, mm, cm, m, km"
   ]
  },
  {
   "cell_type": "code",
   "execution_count": 7,
   "metadata": {},
   "outputs": [
    {
     "data": {
      "text/plain": [
       "1.0 s"
      ]
     },
     "execution_count": 7,
     "metadata": {},
     "output_type": "execute_result"
    }
   ],
   "source": [
    "t = 1.0s"
   ]
  },
  {
   "cell_type": "code",
   "execution_count": 8,
   "metadata": {},
   "outputs": [
    {
     "data": {
      "text/plain": [
       "3.0 s"
      ]
     },
     "execution_count": 8,
     "metadata": {},
     "output_type": "execute_result"
    }
   ],
   "source": [
    "t + 2s"
   ]
  },
  {
   "cell_type": "code",
   "execution_count": 9,
   "metadata": {},
   "outputs": [
    {
     "data": {
      "text/plain": [
       "2.0 s"
      ]
     },
     "execution_count": 9,
     "metadata": {},
     "output_type": "execute_result"
    }
   ],
   "source": [
    "2*t"
   ]
  },
  {
   "cell_type": "code",
   "execution_count": 10,
   "metadata": {},
   "outputs": [
    {
     "data": {
      "text/plain": [
       "1.0 s^2"
      ]
     },
     "execution_count": 10,
     "metadata": {},
     "output_type": "execute_result"
    }
   ],
   "source": [
    "t^2"
   ]
  },
  {
   "cell_type": "code",
   "execution_count": 11,
   "metadata": {},
   "outputs": [
    {
     "ename": "Unitful.DimensionError",
     "evalue": "DimensionError: 1.0 s and 1.0 s^2 are not dimensionally compatible.",
     "output_type": "error",
     "traceback": [
      "DimensionError: 1.0 s and 1.0 s^2 are not dimensionally compatible.",
      "",
      "Stacktrace:",
      " [1] +(::Quantity{Float64,Unitful.Dimensions{(Unitful.Dimension{:Time}(1//1),)},Unitful.FreeUnits{(Unitful.Unit{:Second,Unitful.Dimensions{(Unitful.Dimension{:Time}(1//1),)}}(0, 1//1),),Unitful.Dimensions{(Unitful.Dimension{:Time}(1//1),)}}}, ::Quantity{Float64,Unitful.Dimensions{(Unitful.Dimension{:Time}(2//1),)},Unitful.FreeUnits{(Unitful.Unit{:Second,Unitful.Dimensions{(Unitful.Dimension{:Time}(1//1),)}}(0, 2//1),),Unitful.Dimensions{(Unitful.Dimension{:Time}(2//1),)}}}) at C:\\Users\\carsten\\.julia\\packages\\Unitful\\RG8e9\\src\\quantities.jl:85",
      " [2] top-level scope at In[11]:1"
     ]
    }
   ],
   "source": [
    "t + t^2"
   ]
  },
  {
   "cell_type": "markdown",
   "metadata": {},
   "source": [
    "Note that in Julia using unitful quantities comes with only a minor overhead, in contrast to Python for example. For more information have a look at https://medium.com/@Jernfrost/defining-custom-units-in-julia-and-python-513c34a4c971."
   ]
  },
  {
   "cell_type": "markdown",
   "metadata": {},
   "source": [
    "Domain specific extensions available: [UnitfulAstro.jl](https://github.com/JuliaAstro/UnitfulAstro.jl), [UnitfulUS.jl](https://github.com/ajkeller34/UnitfulUS.jl), [UnitfulAngles.jl](https://github.com/yakir12/UnitfulAngles.jl)"
   ]
  },
  {
   "cell_type": "markdown",
   "metadata": {},
   "source": [
    "### PeriodicTable.jl"
   ]
  },
  {
   "cell_type": "code",
   "execution_count": 49,
   "metadata": {},
   "outputs": [],
   "source": [
    "using PeriodicTable"
   ]
  },
  {
   "cell_type": "code",
   "execution_count": 50,
   "metadata": {},
   "outputs": [
    {
     "data": {
      "text/plain": [
       "Elements(…119 elements…):\n",
       "H                                                  He \n",
       "Li Be                               B  C  N  O  F  Ne \n",
       "Na Mg                               Al Si P  S  Cl Ar \n",
       "K  Ca Sc Ti V  Cr Mn Fe Co Ni Cu Zn Ga Ge As Se Br Kr \n",
       "Rb Sr Y  Zr Nb Mo Tc Ru Rh Pd Ag Cd In Sn Sb Te I  Xe \n",
       "Cs Ba    Hf Ta W  Re Os Ir Pt Au Hg Tl Pb Bi Po At Rn \n",
       "Fr Ra    Rf Db Sg Bh Hs Mt Ds Rg Cn Nh Fl Mc Lv Ts Og \n",
       "Uue                                                   \n",
       "      La Ce Pr Nd Pm Sm Eu Gd Tb Dy Ho Er Tm Yb Lu    \n",
       "      Ac Th Pa U  Np Pu Am Cm Bk Cf Es Fm Md No Lr    \n"
      ]
     },
     "execution_count": 50,
     "metadata": {},
     "output_type": "execute_result"
    }
   ],
   "source": [
    "elements"
   ]
  },
  {
   "cell_type": "code",
   "execution_count": 51,
   "metadata": {},
   "outputs": [
    {
     "data": {
      "text/html": [
       "<style>\n",
       "th{text-align:right; padding:5px;}td{text-align:left; padding:5px}\n",
       "</style>\n",
       "Sodium (Na), number 11:\n",
       "<table>\n",
       "<tr><th>category</th><td>alkali metal</td></tr>\n",
       "<tr><th>atomic mass</th><td>22.989769282 u</td></tr>\n",
       "<tr><th>density</th><td>0.968 g/cm³</td></tr>\n",
       "<tr><th>molar heat</th><td>28.23 J/mol⋅K</td></tr>\n",
       "<tr><th>melting point</th><td>370.944 K</td></tr>\n",
       "<tr><th>boiling point</th><td>1156.09 K</td></tr>\n",
       "<tr><th>phase</th><td>Solid</td></tr>\n",
       "<tr><th>shells</th><td>[2, 8, 1]</td></tr>\n",
       "<tr><th>electron configuration</th><td>1s² 2s² 2p⁶ 3s¹</td></tr>\n",
       "<tr><th>appearance</th><td>silvery white metallic</td></tr>\n",
       "<tr><th>summary</th><td>Sodium /ˈsoʊdiəm/ is a chemical element with symbol Na (from Ancient Greek Νάτριο) and atomic number 11. It is a soft, silver-white, highly reactive metal. In the Periodic table it is in column 1 (alkali metals), and shares with the other six elements in that column that it has a single electron in its outer shell, which it readily donates, creating a positively charged atom - a cation.</td></tr>\n",
       "<tr><th>discovered by</th><td>Humphry Davy</td></tr>\n",
       "<tr><th>source</th><td><a href=\"https://en.wikipedia.org/wiki/Sodium\">https://en.wikipedia.org/wiki/Sodium</a></td></tr>\n",
       "</table>\n",
       "<img src=\"https://commons.wikimedia.org/w/index.php?title=Special:Redirect/file/Sodium_Spectra.jpg&width=500\" alt=\"Sodium_Spectra.jpg\">\n"
      ],
      "text/plain": [
       "Sodium (Na), number 11:\n",
       "        category: alkali metal\n",
       "     atomic mass: 22.989769282 u\n",
       "         density: 0.968 g/cm³\n",
       "      molar heat: 28.23 J/mol⋅K\n",
       "   melting point: 370.944 K\n",
       "   boiling point: 1156.09 K\n",
       "           phase: Solid\n",
       "          shells: [2, 8, 1]\n",
       "e⁻-configuration: 1s² 2s² 2p⁶ 3s¹\n",
       "      appearance: silvery white metallic\n",
       "         summary: Sodium /ˈsoʊdiəm/ is a chemical element with symbol Na (from Ancient Greek Νάτριο) and atomic number 11. It is a soft, silver-white, highly reactive metal. In the Periodic table it is in column 1 (alkali metals), and shares with the other six elements in that column that it has a single electron in its outer shell, which it readily donates, creating a positively charged atom - a cation.\n",
       "   discovered by: Humphry Davy\n",
       "          source: https://en.wikipedia.org/wiki/Sodium\n",
       "  spectral image: https://en.wikipedia.org/wiki/File:Sodium_Spectra.jpg\n"
      ]
     },
     "execution_count": 51,
     "metadata": {},
     "output_type": "execute_result"
    }
   ],
   "source": [
    "elements[\"Sodium\"] # or elements[:Na] or elements[11]"
   ]
  },
  {
   "cell_type": "markdown",
   "metadata": {},
   "source": [
    "### HDF5.jl"
   ]
  },
  {
   "cell_type": "code",
   "execution_count": 88,
   "metadata": {},
   "outputs": [],
   "source": [
    "using HDF5"
   ]
  },
  {
   "cell_type": "code",
   "execution_count": 144,
   "metadata": {},
   "outputs": [
    {
     "data": {
      "text/plain": [
       "2×3 Array{Float64,2}:\n",
       " 0.996711  0.0955898  0.3628  \n",
       " 0.831186  0.333382   0.504056"
      ]
     },
     "execution_count": 144,
     "metadata": {},
     "output_type": "execute_result"
    }
   ],
   "source": [
    "A = rand(2,3)"
   ]
  },
  {
   "cell_type": "code",
   "execution_count": 16,
   "metadata": {},
   "outputs": [
    {
     "ename": "UndefVarError",
     "evalue": "UndefVarError: h5write not defined",
     "output_type": "error",
     "traceback": [
      "UndefVarError: h5write not defined",
      "",
      "Stacktrace:",
      " [1] top-level scope at In[16]:1"
     ]
    }
   ],
   "source": [
    "h5write(\"test.h5\", \"A\", A)"
   ]
  },
  {
   "cell_type": "code",
   "execution_count": 146,
   "metadata": {},
   "outputs": [
    {
     "data": {
      "text/plain": [
       "2×3 Array{Float64,2}:\n",
       " 0.996711  0.0955898  0.3628  \n",
       " 0.831186  0.333382   0.504056"
      ]
     },
     "execution_count": 146,
     "metadata": {},
     "output_type": "execute_result"
    }
   ],
   "source": [
    "Aloaded = h5read(\"test.h5\", \"A\")"
   ]
  },
  {
   "cell_type": "markdown",
   "metadata": {},
   "source": [
    "If one wants to read/write multiple things at once one can do that like so:"
   ]
  },
  {
   "cell_type": "code",
   "execution_count": 147,
   "metadata": {},
   "outputs": [],
   "source": [
    "# r = read existing file\n",
    "# r+ = read and write existing file\n",
    "# w = overwrite existing / create new file\n",
    "h5open(\"test.h5\", \"r+\") do f\n",
    "    for k in 1:5\n",
    "        f[string(k)] = rand(2,2)\n",
    "        # or write(f, string(k), rand(2,2))\n",
    "    end\n",
    "end"
   ]
  },
  {
   "cell_type": "code",
   "execution_count": 148,
   "metadata": {},
   "outputs": [
    {
     "data": {
      "text/plain": [
       "HDF5 data file: test.h5"
      ]
     },
     "execution_count": 148,
     "metadata": {},
     "output_type": "execute_result"
    }
   ],
   "source": [
    "f = h5open(\"test.h5\", \"r+\")"
   ]
  },
  {
   "cell_type": "code",
   "execution_count": 149,
   "metadata": {},
   "outputs": [
    {
     "data": {
      "text/plain": [
       "6-element Array{String,1}:\n",
       " \"1\"\n",
       " \"2\"\n",
       " \"3\"\n",
       " \"4\"\n",
       " \"5\"\n",
       " \"A\""
      ]
     },
     "execution_count": 149,
     "metadata": {},
     "output_type": "execute_result"
    }
   ],
   "source": [
    "names(f)"
   ]
  },
  {
   "cell_type": "code",
   "execution_count": 150,
   "metadata": {},
   "outputs": [
    {
     "data": {
      "text/plain": [
       "HDF5 dataset: /A (file: test.h5xfer_mode: 0 )"
      ]
     },
     "execution_count": 150,
     "metadata": {},
     "output_type": "execute_result"
    }
   ],
   "source": [
    "f[\"A\"]"
   ]
  },
  {
   "cell_type": "code",
   "execution_count": 151,
   "metadata": {},
   "outputs": [
    {
     "data": {
      "text/plain": [
       "2×3 Array{Float64,2}:\n",
       " 0.996711  0.0955898  0.3628  \n",
       " 0.831186  0.333382   0.504056"
      ]
     },
     "execution_count": 151,
     "metadata": {},
     "output_type": "execute_result"
    }
   ],
   "source": [
    "read(f[\"A\"])"
   ]
  },
  {
   "cell_type": "markdown",
   "metadata": {},
   "source": [
    "HDF5 is nice and fine. It is supported by practically every programming language. However, some things are annoyingly complicated. For example, one can't just overwrite a dataset. Instead one has to check whether this dataset already exists, delete it if so, and then create a new dataset."
   ]
  },
  {
   "cell_type": "code",
   "execution_count": 124,
   "metadata": {},
   "outputs": [],
   "source": [
    "h5open(\"test.h5\", \"r+\") do f\n",
    "    HDF5.has(f, \"A\") && o_delete(f, \"A\")\n",
    "    f[\"A\"] = rand(2, 2)\n",
    "end"
   ]
  },
  {
   "cell_type": "markdown",
   "metadata": {},
   "source": [
    "Also, one can only store basic types like Float64, Int64, etc. (in an easy way)"
   ]
  },
  {
   "cell_type": "code",
   "execution_count": 153,
   "metadata": {},
   "outputs": [
    {
     "ename": "MethodError",
     "evalue": "MethodError: no method matching write(::HDF5File, ::String, ::Array{Complex{Float64},2})\nClosest candidates are:\n  write(::Union{HDF5File, HDF5Group}, ::String, ::Any, !Matched::String, !Matched::Any, !Matched::Any...) at C:\\Users\\carsten\\.julia\\packages\\HDF5\\b6QoH\\src\\HDF5.jl:1627\n  write(!Matched::AbstractString, ::Any, ::Any...) at io.jl:283\n  write(!Matched::IO, ::Any, ::Any...) at io.jl:500\n  ...",
     "output_type": "error",
     "traceback": [
      "MethodError: no method matching write(::HDF5File, ::String, ::Array{Complex{Float64},2})\nClosest candidates are:\n  write(::Union{HDF5File, HDF5Group}, ::String, ::Any, !Matched::String, !Matched::Any, !Matched::Any...) at C:\\Users\\carsten\\.julia\\packages\\HDF5\\b6QoH\\src\\HDF5.jl:1627\n  write(!Matched::AbstractString, ::Any, ::Any...) at io.jl:283\n  write(!Matched::IO, ::Any, ::Any...) at io.jl:500\n  ...",
      "",
      "Stacktrace:",
      " [1] h5write(::String, ::String, ::Array{Complex{Float64},2}) at C:\\Users\\carsten\\.julia\\packages\\HDF5\\b6QoH\\src\\HDF5.jl:720",
      " [2] top-level scope at In[153]:2"
     ]
    }
   ],
   "source": [
    "C = rand(ComplexF64, 2, 2)\n",
    "h5write(\"test.h5\", \"C\", C)"
   ]
  },
  {
   "cell_type": "code",
   "execution_count": 152,
   "metadata": {},
   "outputs": [],
   "source": [
    "close(f);\n",
    "rm(\"test.h5\");"
   ]
  },
  {
   "cell_type": "markdown",
   "metadata": {},
   "source": [
    "### JLD2.jl"
   ]
  },
  {
   "cell_type": "markdown",
   "metadata": {},
   "source": [
    "HDF5 based but can story arbitrary Julia objects."
   ]
  },
  {
   "cell_type": "code",
   "execution_count": 17,
   "metadata": {},
   "outputs": [],
   "source": [
    "using JLD2"
   ]
  },
  {
   "cell_type": "code",
   "execution_count": 18,
   "metadata": {},
   "outputs": [
    {
     "data": {
      "text/plain": [
       "2×3 Array{Float64,2}:\n",
       " 0.91899   0.125984  0.676983\n",
       " 0.709554  0.388086  0.584184"
      ]
     },
     "execution_count": 18,
     "metadata": {},
     "output_type": "execute_result"
    }
   ],
   "source": [
    "A = rand(2,3)"
   ]
  },
  {
   "cell_type": "code",
   "execution_count": 19,
   "metadata": {},
   "outputs": [],
   "source": [
    "@save \"test.jld2\" A"
   ]
  },
  {
   "cell_type": "code",
   "execution_count": 20,
   "metadata": {},
   "outputs": [
    {
     "data": {
      "text/plain": [
       "2×3 Array{Float64,2}:\n",
       " 0.644377  0.657205  0.0572491\n",
       " 0.565712  0.390731  0.160103 "
      ]
     },
     "execution_count": 20,
     "metadata": {},
     "output_type": "execute_result"
    }
   ],
   "source": [
    "B = rand(2,3)"
   ]
  },
  {
   "cell_type": "code",
   "execution_count": 35,
   "metadata": {},
   "outputs": [],
   "source": [
    "@save \"test.jld2\" B # overwrites(!) test.jld2 file"
   ]
  },
  {
   "cell_type": "code",
   "execution_count": 36,
   "metadata": {},
   "outputs": [
    {
     "data": {
      "text/plain": [
       "1-element Array{Symbol,1}:\n",
       " :B"
      ]
     },
     "execution_count": 36,
     "metadata": {},
     "output_type": "execute_result"
    }
   ],
   "source": [
    "@load \"test.jld2\" B # will load dataset \"B\" automatically to variable B"
   ]
  },
  {
   "cell_type": "markdown",
   "metadata": {},
   "source": [
    "To get more control, one can open/close the file as for HDF5:"
   ]
  },
  {
   "cell_type": "code",
   "execution_count": 37,
   "metadata": {},
   "outputs": [
    {
     "name": "stdout",
     "output_type": "stream",
     "text": [
      "f[\"B\"] = [0.644377 0.657205 0.0572491; 0.565712 0.390731 0.160103]\n",
      "f[\"C\"] = rand(ComplexF64, 2, 2) = Complex{Float64}[0.463698+0.745836im 0.733641+0.433613im; 0.49924+0.313831im 0.527326+0.161852im]\n"
     ]
    }
   ],
   "source": [
    "jldopen(\"test.jld2\", \"r+\") do f\n",
    "    @show f[\"B\"] # no read necessary\n",
    "    @show f[\"C\"] = rand(ComplexF64, 2, 2); # can store arbitrary Julia objects\n",
    "end;"
   ]
  },
  {
   "cell_type": "code",
   "execution_count": 38,
   "metadata": {},
   "outputs": [
    {
     "data": {
      "text/plain": [
       "2-element Array{Symbol,1}:\n",
       " :B\n",
       " :C"
      ]
     },
     "execution_count": 38,
     "metadata": {},
     "output_type": "execute_result"
    }
   ],
   "source": [
    "@load \"test.jld2\" # loads everything from file to variables"
   ]
  },
  {
   "cell_type": "code",
   "execution_count": 39,
   "metadata": {},
   "outputs": [
    {
     "data": {
      "text/plain": [
       "2×2 Array{Complex{Float64},2}:\n",
       " 0.463698+0.745836im  0.733641+0.433613im\n",
       "  0.49924+0.313831im  0.527326+0.161852im"
      ]
     },
     "execution_count": 39,
     "metadata": {},
     "output_type": "execute_result"
    }
   ],
   "source": [
    "C"
   ]
  },
  {
   "cell_type": "code",
   "execution_count": 40,
   "metadata": {},
   "outputs": [],
   "source": [
    "# clean up\n",
    "rm(\"test.jld2\")"
   ]
  },
  {
   "cell_type": "markdown",
   "metadata": {},
   "source": [
    "### PyCall.jl"
   ]
  },
  {
   "cell_type": "code",
   "execution_count": 21,
   "metadata": {},
   "outputs": [],
   "source": [
    "using PyCall"
   ]
  },
  {
   "cell_type": "code",
   "execution_count": 22,
   "metadata": {},
   "outputs": [
    {
     "data": {
      "text/plain": [
       "PyObject <module 'numpy' from 'C:\\\\Users\\\\carsten\\\\Anaconda3\\\\lib\\\\site-packages\\\\numpy\\\\__init__.py'>"
      ]
     },
     "execution_count": 22,
     "metadata": {},
     "output_type": "execute_result"
    }
   ],
   "source": [
    "np = pyimport(\"numpy\")"
   ]
  },
  {
   "cell_type": "code",
   "execution_count": 23,
   "metadata": {},
   "outputs": [
    {
     "data": {
      "text/plain": [
       "2×2 Array{Float64,2}:\n",
       " 0.0977143  0.0600382\n",
       " 0.958824   0.935757 "
      ]
     },
     "execution_count": 23,
     "metadata": {},
     "output_type": "execute_result"
    }
   ],
   "source": [
    "x = rand(2,2)"
   ]
  },
  {
   "cell_type": "code",
   "execution_count": 25,
   "metadata": {},
   "outputs": [
    {
     "data": {
      "text/plain": [
       "([0.0338849, 0.999587], [-0.685143 -0.0664236; 0.728408 -0.997792])"
      ]
     },
     "execution_count": 25,
     "metadata": {},
     "output_type": "execute_result"
    }
   ],
   "source": [
    "np.linalg.eig(x)"
   ]
  },
  {
   "cell_type": "markdown",
   "metadata": {},
   "source": [
    "### Distributions.jl"
   ]
  },
  {
   "cell_type": "code",
   "execution_count": 34,
   "metadata": {},
   "outputs": [],
   "source": [
    "using Distributions"
   ]
  },
  {
   "cell_type": "code",
   "execution_count": 43,
   "metadata": {},
   "outputs": [
    {
     "data": {
      "text/plain": [
       "Normal{Float64}(μ=0.0, σ=1.0)"
      ]
     },
     "execution_count": 43,
     "metadata": {},
     "output_type": "execute_result"
    }
   ],
   "source": [
    "d = Normal()"
   ]
  },
  {
   "cell_type": "code",
   "execution_count": 44,
   "metadata": {},
   "outputs": [
    {
     "data": {
      "text/plain": [
       "10-element Array{Float64,1}:\n",
       " -1.0822923462622904 \n",
       "  1.9523307297407675 \n",
       "  0.6280283309354753 \n",
       " -0.6856142235895836 \n",
       " -0.172672096945073  \n",
       " -0.03951834487053189\n",
       " -0.5918418013410142 \n",
       "  2.261491793574629  \n",
       " -1.023251616518853  \n",
       " -1.2536069238277145 "
      ]
     },
     "execution_count": 44,
     "metadata": {},
     "output_type": "execute_result"
    }
   ],
   "source": [
    "rand(d, 10)"
   ]
  },
  {
   "cell_type": "code",
   "execution_count": 41,
   "metadata": {},
   "outputs": [
    {
     "data": {
      "text/plain": [
       "Binomial{Float64}(n=1, p=0.5)"
      ]
     },
     "execution_count": 41,
     "metadata": {},
     "output_type": "execute_result"
    }
   ],
   "source": [
    "d = Binomial()"
   ]
  },
  {
   "cell_type": "code",
   "execution_count": 42,
   "metadata": {},
   "outputs": [
    {
     "data": {
      "text/plain": [
       "10-element Array{Int64,1}:\n",
       " 1\n",
       " 0\n",
       " 1\n",
       " 0\n",
       " 1\n",
       " 1\n",
       " 1\n",
       " 0\n",
       " 1\n",
       " 1"
      ]
     },
     "execution_count": 42,
     "metadata": {},
     "output_type": "execute_result"
    }
   ],
   "source": [
    "rand(d, 10)"
   ]
  },
  {
   "cell_type": "markdown",
   "metadata": {},
   "source": [
    "### StatsBase.jl"
   ]
  },
  {
   "cell_type": "code",
   "execution_count": 52,
   "metadata": {},
   "outputs": [],
   "source": [
    "using StatsBase, Random"
   ]
  },
  {
   "cell_type": "code",
   "execution_count": 53,
   "metadata": {},
   "outputs": [],
   "source": [
    "x = randn(100);"
   ]
  },
  {
   "cell_type": "code",
   "execution_count": 58,
   "metadata": {},
   "outputs": [
    {
     "data": {
      "text/plain": [
       "Histogram{Int64,1,Tuple{StepRangeLen{Float64,Base.TwicePrecision{Float64},Base.TwicePrecision{Float64}}}}\n",
       "edges:\n",
       "  0.0:0.1:1.0\n",
       "weights: [8, 12, 9, 9, 10, 12, 9, 10, 10, 11]\n",
       "closed: left\n",
       "isdensity: false"
      ]
     },
     "execution_count": 58,
     "metadata": {},
     "output_type": "execute_result"
    }
   ],
   "source": [
    "h = fit(Histogram, rand(100), nbins=10)"
   ]
  },
  {
   "cell_type": "code",
   "execution_count": 59,
   "metadata": {},
   "outputs": [
    {
     "data": {
      "text/plain": [
       "Dict{Int64,Int64} with 5 entries:\n",
       "  4 => 23\n",
       "  2 => 17\n",
       "  3 => 17\n",
       "  5 => 27\n",
       "  1 => 16"
      ]
     },
     "execution_count": 59,
     "metadata": {},
     "output_type": "execute_result"
    }
   ],
   "source": [
    "countmap(rand(1:5, 100))"
   ]
  },
  {
   "cell_type": "markdown",
   "metadata": {},
   "source": [
    "### [Revise.jl](https://github.com/timholy/Revise.jl)"
   ]
  },
  {
   "cell_type": "markdown",
   "metadata": {},
   "source": [
    "Among others Revise can track\n",
    "\n",
    "* any package that you load with `import` or `using`\n",
    "* any script you load with `includet`"
   ]
  },
  {
   "cell_type": "markdown",
   "metadata": {},
   "source": [
    "### [ITensors.jl](https://github.com/ITensor/ITensors.jl) (pre-release)"
   ]
  },
  {
   "cell_type": "code",
   "execution_count": 31,
   "metadata": {},
   "outputs": [
    {
     "name": "stderr",
     "output_type": "stream",
     "text": [
      "┌ Info: Precompiling ITensors [9136182c-28ba-11e9-034c-db9fb085ebd5]\n",
      "└ @ Base loading.jl:1186\n"
     ]
    }
   ],
   "source": [
    "using ITensors"
   ]
  },
  {
   "cell_type": "code",
   "execution_count": 32,
   "metadata": {},
   "outputs": [
    {
     "name": "stdout",
     "output_type": "stream",
     "text": [
      "hasinds(C, i, k, l) = true\n"
     ]
    },
    {
     "data": {
      "text/plain": [
       "ITensor ord=3 (3|id=39|i) (5|id=222|j) (4|id=558|k)\n",
       "Dense{Float64}"
      ]
     },
     "execution_count": 32,
     "metadata": {},
     "output_type": "execute_result"
    }
   ],
   "source": [
    "i = Index(3,\"i\")\n",
    "j = Index(5,\"j\")\n",
    "k = Index(4,\"k\")\n",
    "l = Index(7,\"l\")\n",
    "\n",
    "A = ITensor(i,j,k)\n",
    "B = ITensor(j,l)\n",
    "\n",
    "A[i(1),j(1),k(1)] = 11.1\n",
    "A[i(2),j(1),k(2)] = 21.2\n",
    "A[i(3),j(1),k(1)] = 31.1\n",
    "# ...\n",
    "\n",
    "# contract over index j\n",
    "C = A*B\n",
    "\n",
    "@show hasinds(C,i,k,l) # == true\n",
    "\n",
    "D = randomITensor(k,j,i)\n",
    "\n",
    "# add two ITensors\n",
    "R = A+D"
   ]
  },
  {
   "cell_type": "markdown",
   "metadata": {},
   "source": [
    "### [OMEinsum.jl](https://github.com/under-Peter/OMEinsum.jl) (pre-release)\n",
    "\n",
    "https://nextjournal.com/under-Peter/julia-summer-of-einsum"
   ]
  },
  {
   "cell_type": "code",
   "execution_count": 4,
   "metadata": {},
   "outputs": [
    {
     "name": "stderr",
     "output_type": "stream",
     "text": [
      "┌ Info: Recompiling stale cache file C:\\Users\\carsten\\.julia\\compiled\\v1.1\\OMEinsum\\rkjKX.ji for OMEinsum [ebe7aa44-baf0-506c-a96f-8464559b3922]\n",
      "└ @ Base loading.jl:1184\n"
     ]
    }
   ],
   "source": [
    "using OMEinsum"
   ]
  },
  {
   "cell_type": "code",
   "execution_count": 11,
   "metadata": {},
   "outputs": [],
   "source": [
    "x, y = rand(3), rand(3);"
   ]
  },
  {
   "cell_type": "code",
   "execution_count": 17,
   "metadata": {},
   "outputs": [
    {
     "data": {
      "text/plain": [
       "0-dimensional Array{Float64,0}:\n",
       "1.0395039986951555"
      ]
     },
     "execution_count": 17,
     "metadata": {},
     "output_type": "execute_result"
    }
   ],
   "source": [
    "ein\"i->\"(x)"
   ]
  },
  {
   "cell_type": "code",
   "execution_count": 18,
   "metadata": {},
   "outputs": [
    {
     "data": {
      "text/plain": [
       "0-dimensional Array{Float64,0}:\n",
       "0.29970319315362937"
      ]
     },
     "execution_count": 18,
     "metadata": {},
     "output_type": "execute_result"
    }
   ],
   "source": [
    "ein\"i,i->\"(x,y)"
   ]
  },
  {
   "cell_type": "code",
   "execution_count": 21,
   "metadata": {},
   "outputs": [
    {
     "data": {
      "text/plain": [
       "3×3 Array{Float64,2}:\n",
       " 0.221013  0.0437778  0.0264008\n",
       " 0.229176  0.0453947  0.0273758\n",
       " 0.278733  0.0552109  0.0332956"
      ]
     },
     "execution_count": 21,
     "metadata": {},
     "output_type": "execute_result"
    }
   ],
   "source": [
    "ein\"i,j->ij\"(x,y)"
   ]
  },
  {
   "cell_type": "code",
   "execution_count": 25,
   "metadata": {},
   "outputs": [
    {
     "data": {
      "text/plain": [
       "3×3 Array{Float64,2}:\n",
       " 0.221013  0.0437778  0.0264008\n",
       " 0.229176  0.0453947  0.0273758\n",
       " 0.278733  0.0552109  0.0332956"
      ]
     },
     "execution_count": 25,
     "metadata": {},
     "output_type": "execute_result"
    }
   ],
   "source": [
    "x*y'"
   ]
  },
  {
   "cell_type": "code",
   "execution_count": 5,
   "metadata": {},
   "outputs": [],
   "source": [
    "a, b = rand(2,2), rand(2,2);"
   ]
  },
  {
   "cell_type": "code",
   "execution_count": 10,
   "metadata": {},
   "outputs": [
    {
     "data": {
      "text/plain": [
       "0-dimensional Array{Float64,0}:\n",
       "1.2366188927926662"
      ]
     },
     "execution_count": 10,
     "metadata": {},
     "output_type": "execute_result"
    }
   ],
   "source": [
    "ein\"ij,jk->\"(a,b)"
   ]
  },
  {
   "cell_type": "code",
   "execution_count": 7,
   "metadata": {},
   "outputs": [
    {
     "data": {
      "text/plain": [
       "true"
      ]
     },
     "execution_count": 7,
     "metadata": {},
     "output_type": "execute_result"
    }
   ],
   "source": [
    "ein\"ij,jk->\"(a,b)[] ≈ sum(a * b)"
   ]
  },
  {
   "cell_type": "markdown",
   "metadata": {},
   "source": [
    "Note that there is also the more mature [Einsum.jl](https://github.com/ahwillia/Einsum.jl)"
   ]
  }
 ],
 "metadata": {
  "@webio": {
   "lastCommId": null,
   "lastKernelId": null
  },
  "kernelspec": {
   "display_name": "Julia 1.2.0",
   "language": "julia",
   "name": "julia-1.2"
  },
  "language_info": {
   "file_extension": ".jl",
   "mimetype": "application/julia",
   "name": "julia",
   "version": "1.2.0"
  }
 },
 "nbformat": 4,
 "nbformat_minor": 4
}
