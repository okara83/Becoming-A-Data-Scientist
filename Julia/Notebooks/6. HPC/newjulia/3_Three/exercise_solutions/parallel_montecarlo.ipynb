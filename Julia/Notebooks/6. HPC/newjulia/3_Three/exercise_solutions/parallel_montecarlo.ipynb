{
 "cells": [
  {
   "cell_type": "markdown",
   "metadata": {},
   "source": [
    "# Exercise: Parallel Monte Carlo"
   ]
  },
  {
   "cell_type": "markdown",
   "metadata": {},
   "source": [
    "Calculate the value of $\\pi$ through parallel direct Monte Carlo.\n",
    "\n",
    "A unit circle is inscribed inside a unit square with side length 2 (from -1 to 1). The area of the circle is $\\pi$, the area of the square is 4, and the ratio is $\\pi/4$. This means that, if you throw $N$ darts randomly at the square, approximately $M=N\\pi/4$ of those darts will land inside the unit circle.\n",
    "\n",
    "Throw darts randomly at a unit square and count how many of them ($M$) landed inside of a unit circle. Approximate $\\pi \\approx 4M/N$. Visualization:"
   ]
  },
  {
   "cell_type": "code",
   "execution_count": null,
   "metadata": {},
   "outputs": [],
   "source": [
    "using PyPlot, Distributions\n",
    "\n",
    "# plot circle\n",
    "phis = range(0, stop=2*pi, step=0.01)\n",
    "plot(cos.(phis), sin.(phis))\n",
    "\n",
    "# plot darts\n",
    "N = 400\n",
    "d = Uniform(-1, 1)\n",
    "scatter(rand(d, N), rand(d, N), marker=\".\", color=\"r\")\n",
    "\n",
    "# cosmetics\n",
    "ax = gca()\n",
    "ax[:set_aspect](\"equal\")\n",
    "xlim([-1, 1])\n",
    "ylim([-1, 1])\n",
    "xticks([-1, 0, 1])\n",
    "yticks([-1, 0, 1])\n",
    "nothing"
   ]
  },
  {
   "cell_type": "markdown",
   "metadata": {},
   "source": [
    "### Tasks\n",
    "\n",
    "1. Write a function `compute_pi(N::Int)` which computes $\\pi$ by throwing $N$ darts as described above.\n",
    "\n",
    "\n",
    "2. Based on 1), write a function `compute_pi_parallel(N::Int, nworkers::Int)` which does the same but divides the work among `ncores` processes.\n",
    "\n",
    "\n",
    "3. Benchmark and compare the methods from 1) and 2).\n",
    "\n",
    "\n",
    "4. Write a function `compute_pi_multiple(Ns::Vector{Int})` which computes $\\pi$ for all given $N$ values. The function should be serial and based on 1).\n",
    "\n",
    "\n",
    "5. Write a function `compute_pi_multiple_parallel(Ns::Vector{Int})` which does the same but in parallel. The function should also be based on 1).\n",
    "\n",
    "\n",
    "6. Benchmark and compare the methods from 4) and 5).\n",
    "\n",
    "\n",
    "7. Calculate $\\pi$ estimates for `Ns = ceil.(Int, exp10.(range(1, stop=8, length=50)))`. Plot $\\pi$ vs $N$ on a semi-log plot.\n",
    "\n",
    "\n",
    "8. Bonus: Write a function `compute_pi_multiple_double_parallel(Ns::Vector{Int})` which computes $\\pi$ for all given $N$ values. The calculation should be as parallel as possible. Multiple different values of $N$ should be calculated at the same time and every one of those calculations should be parallel as well.\n",
    "\n",
    "A reasonable value could be `N = 10_000_000`."
   ]
  },
  {
   "cell_type": "code",
   "execution_count": null,
   "metadata": {},
   "outputs": [],
   "source": [
    "using Distributed, BenchmarkTools, LinearAlgebra"
   ]
  },
  {
   "cell_type": "code",
   "execution_count": 5,
   "metadata": {},
   "outputs": [
    {
     "name": "stdout",
     "output_type": "stream",
     "text": [
      "  527.602 ms (10000000 allocations: 915.53 MiB)\n"
     ]
    },
    {
     "data": {
      "text/plain": [
       "3.1425536"
      ]
     },
     "execution_count": 5,
     "metadata": {},
     "output_type": "execute_result"
    }
   ],
   "source": [
    "# 1) + 3)\n",
    "function compute_pi(N::Int)\n",
    "    M = 0 # number of darts that landed in the circle\n",
    "    for i = 1:N\n",
    "        if norm(rand(2)) < 1.0\n",
    "            M += 1\n",
    "        end\n",
    "    end\n",
    "\n",
    "    return 4*M / N  \n",
    "end\n",
    "\n",
    "@btime compute_pi(10_000_000) # 55 s for 1 billion"
   ]
  },
  {
   "cell_type": "code",
   "execution_count": 6,
   "metadata": {},
   "outputs": [
    {
     "name": "stdout",
     "output_type": "stream",
     "text": [
      "  131.483 ms (450 allocations: 19.17 KiB)\n"
     ]
    },
    {
     "data": {
      "text/plain": [
       "3.1407515999999998"
      ]
     },
     "execution_count": 6,
     "metadata": {},
     "output_type": "execute_result"
    }
   ],
   "source": [
    "# 2) + 3)\n",
    "nworkers() == 1 ? addprocs(4) : nothing; # check if we have workers, if not add 4 of them\n",
    "\n",
    "@everywhere using LinearAlgebra\n",
    "\n",
    "@everywhere function compute_pi(N::Int)\n",
    "    M = 0 # number of darts that landed in the circle\n",
    "    for i = 1:N\n",
    "        if norm(rand(2)) < 1.0\n",
    "            M += 1\n",
    "        end\n",
    "    end\n",
    "\n",
    "    return 4*M / N  \n",
    "end\n",
    "\n",
    "function compute_pi_parallel(N::Int, nworkers::Int)\n",
    "    # distribute the dart throwing across ncores\n",
    "    sum_of_pis = @distributed (+) for i=1:nworkers\n",
    "        compute_pi(ceil(Int, N / nworkers))\n",
    "    end\n",
    "\n",
    "    return sum_of_pis / nworkers  # average value\n",
    "end\n",
    "\n",
    "@btime compute_pi_parallel(10_000_000, nworkers()) # 13 s for 1 billion"
   ]
  },
  {
   "cell_type": "code",
   "execution_count": 7,
   "metadata": {},
   "outputs": [
    {
     "name": "stdout",
     "output_type": "stream",
     "text": [
      "  596.615 ms (11000001 allocations: 1007.08 MiB)\n"
     ]
    },
    {
     "data": {
      "text/plain": [
       "2-element Array{Float64,1}:\n",
       " 3.138024 \n",
       " 3.1415868"
      ]
     },
     "execution_count": 7,
     "metadata": {},
     "output_type": "execute_result"
    }
   ],
   "source": [
    "# 4) + 6)\n",
    "function compute_pi_multiple(Ns::Vector{Int})\n",
    "    pis = zeros(length(Ns))\n",
    "\n",
    "    for i = 1:length(Ns)\n",
    "        pis[i] = compute_pi(Ns[i])\n",
    "    end\n",
    "\n",
    "    return pis\n",
    "end\n",
    "\n",
    "some_Ns = [1_000_000, 10_000_000]\n",
    "\n",
    "@btime compute_pi_multiple(some_Ns)"
   ]
  },
  {
   "cell_type": "code",
   "execution_count": 8,
   "metadata": {},
   "outputs": [
    {
     "name": "stdout",
     "output_type": "stream",
     "text": [
      "  517.301 ms (250 allocations: 9.64 KiB)\n"
     ]
    },
    {
     "data": {
      "text/plain": [
       "2-element Array{Float64,1}:\n",
       " 3.142844 \n",
       " 3.1421684"
      ]
     },
     "execution_count": 8,
     "metadata": {},
     "output_type": "execute_result"
    }
   ],
   "source": [
    "# 5) + 6)\n",
    "nworkers() == 1 ? addprocs(4) : nothing;\n",
    "\n",
    "@everywhere using LinearAlgebra\n",
    "\n",
    "@everywhere function compute_pi(N::Int)\n",
    "    M = 0 # number of darts that landed in the circle\n",
    "    for i = 1:N\n",
    "        if norm(rand(2)) < 1.0\n",
    "            M += 1\n",
    "        end\n",
    "    end\n",
    "\n",
    "    return 4*M / N  \n",
    "end\n",
    "\n",
    "function compute_pi_multiple_parallel(Ns::Vector{Int})\n",
    "    pmap(compute_pi, Ns)\n",
    "end\n",
    "\n",
    "some_Ns = [1_000_000, 10_000_000]\n",
    "\n",
    "@btime compute_pi_multiple_parallel($some_Ns)"
   ]
  },
  {
   "cell_type": "code",
   "execution_count": 11,
   "metadata": {},
   "outputs": [
    {
     "data": {
      "image/png": "[encoded data removed]",
      "text/plain": [
       "Figure(PyObject <Figure size 640x480 with 1 Axes>)"
      ]
     },
     "metadata": {},
     "output_type": "display_data"
    },
    {
     "name": "stdout",
     "output_type": "stream",
     "text": [
      "  9.016514 seconds (943.61 k allocations: 49.568 MiB, 0.16% gc time)\n"
     ]
    },
    {
     "data": {
      "text/plain": [
       "PyObject Text(0.5, 24.0, 'number of dart throws N')"
      ]
     },
     "execution_count": 11,
     "metadata": {},
     "output_type": "execute_result"
    }
   ],
   "source": [
    "# 7)\n",
    "Ns = ceil.(Int, exp10.(range(1, stop=8, length=50)))\n",
    "@time pis = compute_pi_multiple_parallel(Ns)\n",
    "\n",
    "# 4 local processes: ~ 7.8 seconds\n",
    "# 12 processes @ thp cluster: ~ 4.5 seconds\n",
    "\n",
    "semilogx(Ns, pis, \"ko-\", lw=1, label=\"MC\")\n",
    "axhline(y=pi, label=\"π\")\n",
    "legend()\n",
    "ylabel(\"π estimate\")\n",
    "xlabel(\"number of dart throws N\")"
   ]
  }
 ],
 "metadata": {
  "@webio": {
   "lastCommId": null,
   "lastKernelId": null
  },
  "kernelspec": {
   "display_name": "Julia 1.2.0",
   "language": "julia",
   "name": "julia-1.2"
  },
  "language_info": {
   "file_extension": ".jl",
   "mimetype": "application/julia",
   "name": "julia",
   "version": "1.2.0"
  }
 },
 "nbformat": 4,
 "nbformat_minor": 4
}
