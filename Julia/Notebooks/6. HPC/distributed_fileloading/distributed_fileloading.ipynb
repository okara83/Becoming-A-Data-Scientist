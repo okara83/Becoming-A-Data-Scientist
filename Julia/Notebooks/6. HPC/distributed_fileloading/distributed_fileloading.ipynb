{
 "cells": [
  {
   "cell_type": "code",
   "execution_count": 9,
   "metadata": {},
   "outputs": [
    {
     "name": "stdout",
     "output_type": "stream",
     "text": [
      "\u001b[32m\u001b[1mActivating\u001b[22m\u001b[39m environment at `C:\\Users\\carsten\\Desktop\\Oulu2020\\backup\\distributed_fileloading\\Project.toml`\n"
     ]
    },
    {
     "data": {
      "text/plain": [
       "4-element Array{Int64,1}:\n",
       " 2\n",
       " 3\n",
       " 4\n",
       " 5"
      ]
     },
     "execution_count": 9,
     "metadata": {},
     "output_type": "execute_result"
    }
   ],
   "source": [
    "using Distributed, Pkg\n",
    "Pkg.activate(\".\")\n",
    "withenv(\"JULIA_PROJECT\"=>pwd()) do\n",
    "    addprocs(4)\n",
    "end"
   ]
  },
  {
   "cell_type": "code",
   "execution_count": 10,
   "metadata": {},
   "outputs": [],
   "source": [
    "@everywhere using DistributedArrays\n",
    "@everywhere using Serialization"
   ]
  },
  {
   "cell_type": "code",
   "execution_count": 11,
   "metadata": {},
   "outputs": [],
   "source": [
    "# create fake data\n",
    "using Serialization\n",
    "for i in 1:4\n",
    "    serialize(\"$i.bin\", rand(1000)) # 8 GB chunks\n",
    "end"
   ]
  },
  {
   "cell_type": "code",
   "execution_count": 12,
   "metadata": {},
   "outputs": [
    {
     "data": {
      "text/plain": [
       "4-element Array{String,1}:\n",
       " \"1.bin\"\n",
       " \"2.bin\"\n",
       " \"3.bin\"\n",
       " \"4.bin\""
      ]
     },
     "execution_count": 12,
     "metadata": {},
     "output_type": "execute_result"
    }
   ],
   "source": [
    "# load in parallel\n",
    "fp = filter(x -> endswith(x, \".bin\"), readdir())"
   ]
  },
  {
   "cell_type": "code",
   "execution_count": 13,
   "metadata": {},
   "outputs": [
    {
     "data": {
      "text/plain": [
       "4-element DArray{String,1,Array{String,1}}:\n",
       " \"1.bin\"\n",
       " \"2.bin\"\n",
       " \"3.bin\"\n",
       " \"4.bin\""
      ]
     },
     "execution_count": 13,
     "metadata": {},
     "output_type": "execute_result"
    }
   ],
   "source": [
    "dfp = distribute(fp)"
   ]
  },
  {
   "cell_type": "code",
   "execution_count": 14,
   "metadata": {},
   "outputs": [],
   "source": [
    "xs = map(deserialize, dfp);"
   ]
  },
  {
   "cell_type": "code",
   "execution_count": 17,
   "metadata": {},
   "outputs": [
    {
     "name": "stdout",
     "output_type": "stream",
     "text": [
      "(1:0,)\n",
      "      From worker 2:\t(1:1,)\n",
      "      From worker 4:\t(3:3,)\n",
      "      From worker 5:\t(4:4,)\n",
      "      From worker 3:\t(2:2,)\n"
     ]
    }
   ],
   "source": [
    "@everywhere println(localindices($xs))"
   ]
  },
  {
   "cell_type": "code",
   "execution_count": 61,
   "metadata": {},
   "outputs": [
    {
     "data": {
      "text/plain": [
       "4-element DArray{Float64,1,Array{Float64,1}}:\n",
       " 729.5141517755486\n",
       " 722.0139261917391\n",
       " 712.6153786929397\n",
       " 728.0392946509859"
      ]
     },
     "execution_count": 61,
     "metadata": {},
     "output_type": "execute_result"
    }
   ],
   "source": [
    "map(x->sum(cos.(x).^2), xs)"
   ]
  }
 ],
 "metadata": {
  "kernelspec": {
   "display_name": "Julia 1.3.1",
   "language": "julia",
   "name": "julia-1.3"
  },
  "language_info": {
   "file_extension": ".jl",
   "mimetype": "application/julia",
   "name": "julia",
   "version": "1.3.1"
  }
 },
 "nbformat": 4,
 "nbformat_minor": 4
}
