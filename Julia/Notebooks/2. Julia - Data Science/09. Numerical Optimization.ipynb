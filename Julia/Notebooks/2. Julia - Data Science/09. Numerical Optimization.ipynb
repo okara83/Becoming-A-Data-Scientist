{
 "cells": [
  {
   "cell_type": "code",
   "execution_count": 1,
   "metadata": {},
   "outputs": [
    {
     "name": "stderr",
     "output_type": "stream",
     "text": [
      "┌ Info: Precompiling XLSX [fdbf4ff8-1666-58a4-91e7-1b58723a45e0]\n",
      "└ @ Base loading.jl:1317\n"
     ]
    }
   ],
   "source": [
    "using Pkg\n",
    "using Convex\n",
    "using SCS\n",
    "using XLSX\n",
    "using DataFrames\n",
    "using Plots\n",
    "using CSV\n",
    "using Statistics\n",
    "using Images\n",
    "using DelimitedFiles"
   ]
  },
  {
   "cell_type": "markdown",
   "metadata": {},
   "source": [
    "### 📈 Problem 1 Portfolio investment.\n",
    "Our first problem will be an investment problem. We will look at stock prices from three companies and decide how to spend an amount of $1000 on these three companies. Let's first load some data."
   ]
  },
  {
   "cell_type": "code",
   "execution_count": 2,
   "metadata": {},
   "outputs": [
    {
     "data": {
      "text/html": [
       "<table class=\"data-frame\"><thead><tr><th></th><th>MSFT</th><th>FB</th><th>AAPL</th></tr><tr><th></th><th>Any</th><th>Any</th><th>Any</th></tr></thead><tbody><p>13 rows × 3 columns</p><tr><th>1</th><td>101.93</td><td>137.95</td><td>148.26</td></tr><tr><th>2</th><td>102.8</td><td>143.8</td><td>152.29</td></tr><tr><th>3</th><td>107.71</td><td>150.04</td><td>156.82</td></tr><tr><th>4</th><td>107.17</td><td>149.01</td><td>157.76</td></tr><tr><th>5</th><td>102.78</td><td>165.71</td><td>166.52</td></tr><tr><th>6</th><td>105.67</td><td>167.33</td><td>170.41</td></tr><tr><th>7</th><td>108.22</td><td>162.5</td><td>170.42</td></tr><tr><th>8</th><td>110.97</td><td>161.89</td><td>172.97</td></tr><tr><th>9</th><td>112.53</td><td>162.28</td><td>174.97</td></tr><tr><th>10</th><td>110.51</td><td>169.6</td><td>172.91</td></tr><tr><th>11</th><td>115.91</td><td>165.98</td><td>186.12</td></tr><tr><th>12</th><td>117.05</td><td>164.34</td><td>191.05</td></tr><tr><th>13</th><td>117.94</td><td>166.69</td><td>189.95</td></tr></tbody></table>"
      ],
      "text/latex": [
       "\\begin{tabular}{r|ccc}\n",
       "\t& MSFT & FB & AAPL\\\\\n",
       "\t\\hline\n",
       "\t& Any & Any & Any\\\\\n",
       "\t\\hline\n",
       "\t1 & 101.93 & 137.95 & 148.26 \\\\\n",
       "\t2 & 102.8 & 143.8 & 152.29 \\\\\n",
       "\t3 & 107.71 & 150.04 & 156.82 \\\\\n",
       "\t4 & 107.17 & 149.01 & 157.76 \\\\\n",
       "\t5 & 102.78 & 165.71 & 166.52 \\\\\n",
       "\t6 & 105.67 & 167.33 & 170.41 \\\\\n",
       "\t7 & 108.22 & 162.5 & 170.42 \\\\\n",
       "\t8 & 110.97 & 161.89 & 172.97 \\\\\n",
       "\t9 & 112.53 & 162.28 & 174.97 \\\\\n",
       "\t10 & 110.51 & 169.6 & 172.91 \\\\\n",
       "\t11 & 115.91 & 165.98 & 186.12 \\\\\n",
       "\t12 & 117.05 & 164.34 & 191.05 \\\\\n",
       "\t13 & 117.94 & 166.69 & 189.95 \\\\\n",
       "\\end{tabular}\n"
      ],
      "text/plain": [
       "\u001b[1m13×3 DataFrame\u001b[0m\n",
       "\u001b[1m Row \u001b[0m│\u001b[1m MSFT   \u001b[0m\u001b[1m FB     \u001b[0m\u001b[1m AAPL   \u001b[0m\n",
       "\u001b[1m     \u001b[0m│\u001b[90m Any    \u001b[0m\u001b[90m Any    \u001b[0m\u001b[90m Any    \u001b[0m\n",
       "─────┼────────────────────────\n",
       "   1 │ 101.93  137.95  148.26\n",
       "   2 │ 102.8   143.8   152.29\n",
       "   3 │ 107.71  150.04  156.82\n",
       "   4 │ 107.17  149.01  157.76\n",
       "   5 │ 102.78  165.71  166.52\n",
       "   6 │ 105.67  167.33  170.41\n",
       "   7 │ 108.22  162.5   170.42\n",
       "   8 │ 110.97  161.89  172.97\n",
       "   9 │ 112.53  162.28  174.97\n",
       "  10 │ 110.51  169.6   172.91\n",
       "  11 │ 115.91  165.98  186.12\n",
       "  12 │ 117.05  164.34  191.05\n",
       "  13 │ 117.94  166.69  189.95"
      ]
     },
     "execution_count": 2,
     "metadata": {},
     "output_type": "execute_result"
    }
   ],
   "source": [
    "T = DataFrame(XLSX.readtable(\"data/stock_prices.xlsx\",\"Sheet2\")...)"
   ]
  },
  {
   "cell_type": "markdown",
   "metadata": {},
   "source": [
    "`T` is a `DataFrame` that has weekly stock prices value of three companies (Microsoft, Facebook, Apple) from the period of January 2019 - March 2019. We will first take a quick look at these prices in a quick plot."
   ]
  },
  {
   "cell_type": "code",
   "execution_count": 1,
   "metadata": {},
   "outputs": [
    {
     "ename": "LoadError",
     "evalue": "UndefVarError: T not defined",
     "output_type": "error",
     "traceback": [
      "UndefVarError: T not defined",
      "",
      "Stacktrace:",
      " [1] top-level scope",
      "   @ In[1]:1",
      " [2] eval",
      "   @ ./boot.jl:373 [inlined]",
      " [3] include_string(mapexpr::typeof(REPL.softscope), mod::Module, code::String, filename::String)",
      "   @ Base ./loading.jl:1196"
     ]
    }
   ],
   "source": [
    "plot(T[!,:MSFT],label=\"Microsoft\")\n",
    "plot!(T[!,:AAPL],label=\"Apple\")\n",
    "plot!(T[!,:FB],label=\"FB\")"
   ]
  },
  {
   "cell_type": "code",
   "execution_count": 2,
   "metadata": {},
   "outputs": [
    {
     "ename": "LoadError",
     "evalue": "UndefVarError: T not defined",
     "output_type": "error",
     "traceback": [
      "UndefVarError: T not defined",
      "",
      "Stacktrace:",
      " [1] top-level scope",
      "   @ In[2]:2",
      " [2] eval",
      "   @ ./boot.jl:373 [inlined]",
      " [3] include_string(mapexpr::typeof(REPL.softscope), mod::Module, code::String, filename::String)",
      "   @ Base ./loading.jl:1196"
     ]
    }
   ],
   "source": [
    "# convert the prices to a Matrix to be used later in the optimization problem\n",
    "prices_matrix = Matrix(T)"
   ]
  },
  {
   "cell_type": "markdown",
   "metadata": {},
   "source": [
    "To compute the weekly return, we will use the formula: `R[i,t] = (price[i,t] - price[i,t-1])/price[i,t-1]`. This is the return of stock `i` from week `t`."
   ]
  },
  {
   "cell_type": "code",
   "execution_count": 3,
   "metadata": {},
   "outputs": [
    {
     "ename": "LoadError",
     "evalue": "UndefVarError: prices_matrix not defined",
     "output_type": "error",
     "traceback": [
      "UndefVarError: prices_matrix not defined",
      "",
      "Stacktrace:",
      " [1] top-level scope",
      "   @ In[3]:1",
      " [2] eval",
      "   @ ./boot.jl:373 [inlined]",
      " [3] include_string(mapexpr::typeof(REPL.softscope), mod::Module, code::String, filename::String)",
      "   @ Base ./loading.jl:1196"
     ]
    }
   ],
   "source": [
    "M1 = prices_matrix[1:end-1,:]\n",
    "M2 = prices_matrix[2:end,:]\n",
    "R = (M2.-M1)./M1"
   ]
  },
  {
   "cell_type": "markdown",
   "metadata": {},
   "source": [
    "Now let's assume that the vector `x = [x1 x2 x3]` will contain the total number of dollars we will invest in these companies, i.e. `x1` is how much we will invest in the first company (MSFT), `x2` is how much we will invest in FB, and `x3` is how much we will invest in `AAPL`. The return on the investment will be `dot(r,x)`, where `r = [r1 r2 r3]` is the return from each of the companies.\n",
    "\n",
    "Here, `r` is a random variable and we will have to model it in terms of expected values. And the expected value `E(dot(r,x))` will be `E[dot(mean(R,dims=2),x)`. If we want a return of `10%` or more, then we need `dot(r,x) >= 0.1`.\n",
    "\n",
    "Next, we will model the risk matrix. We will skip the derivation of the risk matrix here, but you can read about it here: https://www.kdnuggets.com/2019/06/optimization-python-money-risk.html. The risk matrix will be the covariance matrix of the computed return prices (`R`)."
   ]
  },
  {
   "cell_type": "code",
   "execution_count": 4,
   "metadata": {},
   "outputs": [
    {
     "ename": "LoadError",
     "evalue": "UndefVarError: cov not defined",
     "output_type": "error",
     "traceback": [
      "UndefVarError: cov not defined",
      "",
      "Stacktrace:",
      " [1] top-level scope",
      "   @ In[4]:1",
      " [2] eval",
      "   @ ./boot.jl:373 [inlined]",
      " [3] include_string(mapexpr::typeof(REPL.softscope), mod::Module, code::String, filename::String)",
      "   @ Base ./loading.jl:1196"
     ]
    }
   ],
   "source": [
    "risk_matrix = cov(R)"
   ]
  },
  {
   "cell_type": "code",
   "execution_count": 5,
   "metadata": {},
   "outputs": [
    {
     "ename": "LoadError",
     "evalue": "UndefVarError: isposdef not defined",
     "output_type": "error",
     "traceback": [
      "UndefVarError: isposdef not defined",
      "",
      "Stacktrace:",
      " [1] top-level scope",
      "   @ In[5]:2",
      " [2] eval",
      "   @ ./boot.jl:373 [inlined]",
      " [3] include_string(mapexpr::typeof(REPL.softscope), mod::Module, code::String, filename::String)",
      "   @ Base ./loading.jl:1196"
     ]
    }
   ],
   "source": [
    "# note that the risk matrix is positive definite\n",
    "isposdef(risk_matrix)"
   ]
  },
  {
   "cell_type": "code",
   "execution_count": 6,
   "metadata": {},
   "outputs": [
    {
     "ename": "LoadError",
     "evalue": "UndefVarError: mean not defined",
     "output_type": "error",
     "traceback": [
      "UndefVarError: mean not defined",
      "",
      "Stacktrace:",
      " [1] top-level scope",
      "   @ In[6]:1",
      " [2] eval",
      "   @ ./boot.jl:373 [inlined]",
      " [3] include_string(mapexpr::typeof(REPL.softscope), mod::Module, code::String, filename::String)",
      "   @ Base ./loading.jl:1196"
     ]
    }
   ],
   "source": [
    "r = mean(R,dims=1)[:]"
   ]
  },
  {
   "cell_type": "markdown",
   "metadata": {},
   "source": [
    "Now let's solve the following problem: Someone gives you $1000 and tells you to spend them in the form of investment on these three compnaies such that you get a return of 2\\% on what you spent.\n",
    "\n",
    "The goal will be to minimize the risk, that is x'\\*risk_matrix\\*x.\n",
    "The constraints will be \n",
    "- `sum(x) = 1`, we will compute the percentage of investment rather than the exact amount\n",
    "- `dot(r,x) >= 0.02`\n",
    "- `x[i] >= 0`\n",
    "\n",
    "This problem is a convext problem, and we will use `Convex.jl` to it."
   ]
  },
  {
   "cell_type": "code",
   "execution_count": 7,
   "metadata": {},
   "outputs": [
    {
     "ename": "LoadError",
     "evalue": "UndefVarError: r not defined",
     "output_type": "error",
     "traceback": [
      "UndefVarError: r not defined",
      "",
      "Stacktrace:",
      " [1] top-level scope",
      "   @ In[7]:1",
      " [2] eval",
      "   @ ./boot.jl:373 [inlined]",
      " [3] include_string(mapexpr::typeof(REPL.softscope), mod::Module, code::String, filename::String)",
      "   @ Base ./loading.jl:1196"
     ]
    }
   ],
   "source": [
    "x = Variable(length(r))\n",
    "problem = minimize(x'*risk_matrix*x,[sum(x)==1;r'*x>=0.02;x.>=0])"
   ]
  },
  {
   "cell_type": "markdown",
   "metadata": {},
   "source": [
    "Note the `Convex.NotDcp` in the answer above and the warning. `Convex.jl` requires that we pass Dcp compliant problem (Disciplined convex programming). Learn more about the DCP ruleset here: http://cvxr.com/cvx/doc/dcp.html"
   ]
  },
  {
   "cell_type": "code",
   "execution_count": 8,
   "metadata": {},
   "outputs": [
    {
     "ename": "LoadError",
     "evalue": "UndefVarError: Convex not defined",
     "output_type": "error",
     "traceback": [
      "UndefVarError: Convex not defined",
      "",
      "Stacktrace:",
      " [1] top-level scope",
      "   @ In[8]:2",
      " [2] eval",
      "   @ ./boot.jl:373 [inlined]",
      " [3] include_string(mapexpr::typeof(REPL.softscope), mod::Module, code::String, filename::String)",
      "   @ Base ./loading.jl:1196"
     ]
    }
   ],
   "source": [
    "# make the problem DCP compliant\n",
    "problem = minimize(Convex.quadform(x,risk_matrix),[sum(x)==1;r'*x>=0.02;x.>=0])"
   ]
  },
  {
   "cell_type": "code",
   "execution_count": 9,
   "metadata": {},
   "outputs": [
    {
     "ename": "LoadError",
     "evalue": "UndefVarError: SCS not defined",
     "output_type": "error",
     "traceback": [
      "UndefVarError: SCS not defined",
      "",
      "Stacktrace:",
      " [1] top-level scope",
      "   @ In[9]:1",
      " [2] eval",
      "   @ ./boot.jl:373 [inlined]",
      " [3] include_string(mapexpr::typeof(REPL.softscope), mod::Module, code::String, filename::String)",
      "   @ Base ./loading.jl:1196"
     ]
    }
   ],
   "source": [
    "solve!(problem, SCS.Optimizer)"
   ]
  },
  {
   "cell_type": "code",
   "execution_count": 10,
   "metadata": {},
   "outputs": [
    {
     "ename": "LoadError",
     "evalue": "UndefVarError: x not defined",
     "output_type": "error",
     "traceback": [
      "UndefVarError: x not defined",
      "",
      "Stacktrace:",
      " [1] top-level scope",
      "   @ :0",
      " [2] eval",
      "   @ ./boot.jl:373 [inlined]",
      " [3] include_string(mapexpr::typeof(REPL.softscope), mod::Module, code::String, filename::String)",
      "   @ Base ./loading.jl:1196"
     ]
    }
   ],
   "source": [
    "x"
   ]
  },
  {
   "cell_type": "code",
   "execution_count": 11,
   "metadata": {},
   "outputs": [
    {
     "ename": "LoadError",
     "evalue": "UndefVarError: x not defined",
     "output_type": "error",
     "traceback": [
      "UndefVarError: x not defined",
      "",
      "Stacktrace:",
      " [1] top-level scope",
      "   @ In[11]:1",
      " [2] eval",
      "   @ ./boot.jl:373 [inlined]",
      " [3] include_string(mapexpr::typeof(REPL.softscope), mod::Module, code::String, filename::String)",
      "   @ Base ./loading.jl:1196"
     ]
    }
   ],
   "source": [
    "sum(x.value)"
   ]
  },
  {
   "cell_type": "code",
   "execution_count": 12,
   "metadata": {},
   "outputs": [
    {
     "ename": "LoadError",
     "evalue": "UndefVarError: r not defined",
     "output_type": "error",
     "traceback": [
      "UndefVarError: r not defined",
      "",
      "Stacktrace:",
      " [1] top-level scope",
      "   @ In[12]:2",
      " [2] eval",
      "   @ ./boot.jl:373 [inlined]",
      " [3] include_string(mapexpr::typeof(REPL.softscope), mod::Module, code::String, filename::String)",
      "   @ Base ./loading.jl:1196"
     ]
    }
   ],
   "source": [
    "# return \n",
    "r'*x.value "
   ]
  },
  {
   "cell_type": "code",
   "execution_count": 13,
   "metadata": {},
   "outputs": [
    {
     "ename": "LoadError",
     "evalue": "UndefVarError: x not defined",
     "output_type": "error",
     "traceback": [
      "UndefVarError: x not defined",
      "",
      "Stacktrace:",
      " [1] top-level scope",
      "   @ In[13]:1",
      " [2] eval",
      "   @ ./boot.jl:373 [inlined]",
      " [3] include_string(mapexpr::typeof(REPL.softscope), mod::Module, code::String, filename::String)",
      "   @ Base ./loading.jl:1196"
     ]
    }
   ],
   "source": [
    "x.value .* 1000"
   ]
  },
  {
   "cell_type": "markdown",
   "metadata": {},
   "source": [
    "The conclusion is that we should invest **67.9USD in Microsoft**, **122.3USD in Facebook**, and **809.7USD in Apple**."
   ]
  },
  {
   "cell_type": "markdown",
   "metadata": {},
   "source": [
    "---\n",
    "### 🖼️ Problem 2 Image recovery.\n",
    "In this problem, we are given an image where some of the pixels have been altered. The goal is to recover the unknonwn pixels by solving an optimization problem. Let's first load the figure."
   ]
  },
  {
   "cell_type": "code",
   "execution_count": 14,
   "metadata": {},
   "outputs": [
    {
     "ename": "LoadError",
     "evalue": "UndefVarError: load not defined",
     "output_type": "error",
     "traceback": [
      "UndefVarError: load not defined",
      "",
      "Stacktrace:",
      " [1] top-level scope",
      "   @ In[14]:1",
      " [2] eval",
      "   @ ./boot.jl:373 [inlined]",
      " [3] include_string(mapexpr::typeof(REPL.softscope), mod::Module, code::String, filename::String)",
      "   @ Base ./loading.jl:1196"
     ]
    }
   ],
   "source": [
    "Kref = load(\"data/khiam-small.jpg\")"
   ]
  },
  {
   "cell_type": "markdown",
   "metadata": {},
   "source": [
    "We will convert the image to gray scale and disrupt some of the pixels"
   ]
  },
  {
   "cell_type": "code",
   "execution_count": 15,
   "metadata": {},
   "outputs": [
    {
     "ename": "LoadError",
     "evalue": "UndefVarError: Kref not defined",
     "output_type": "error",
     "traceback": [
      "UndefVarError: Kref not defined",
      "",
      "Stacktrace:",
      " [1] top-level scope",
      "   @ In[15]:1",
      " [2] eval",
      "   @ ./boot.jl:373 [inlined]",
      " [3] include_string(mapexpr::typeof(REPL.softscope), mod::Module, code::String, filename::String)",
      "   @ Base ./loading.jl:1196"
     ]
    }
   ],
   "source": [
    "K = copy(Kref)\n",
    "p = prod(size(K))\n",
    "missingids = rand(1:p,400)\n",
    "K[missingids] .= RGBX{N0f8}(0.0,0.0,0.0)\n",
    "K\n",
    "Gray.(K)"
   ]
  },
  {
   "cell_type": "code",
   "execution_count": 16,
   "metadata": {},
   "outputs": [
    {
     "ename": "LoadError",
     "evalue": "UndefVarError: Gray not defined",
     "output_type": "error",
     "traceback": [
      "UndefVarError: Gray not defined",
      "",
      "Stacktrace:",
      " [1] top-level scope",
      "   @ In[16]:1",
      " [2] eval",
      "   @ ./boot.jl:373 [inlined]",
      " [3] include_string(mapexpr::typeof(REPL.softscope), mod::Module, code::String, filename::String)",
      "   @ Base ./loading.jl:1196"
     ]
    }
   ],
   "source": [
    "Y = Float64.(Gray.(K));"
   ]
  },
  {
   "cell_type": "markdown",
   "metadata": {},
   "source": [
    "Given this image, the goal is now to complete the matrix. We will use a common technique for this problem developed by Candes and Tao. The goal will be to create a new matrix `X` where we minimize the nuclear norm of `X` (i.e. the sum of the singular values of `X`), and such that the entries that are already known in `Y` remain the same in `X`. We will again use `Convex.jl` to solve this problem. Let's write it down below."
   ]
  },
  {
   "cell_type": "code",
   "execution_count": 17,
   "metadata": {},
   "outputs": [
    {
     "ename": "LoadError",
     "evalue": "UndefVarError: Y not defined",
     "output_type": "error",
     "traceback": [
      "UndefVarError: Y not defined",
      "",
      "Stacktrace:",
      " [1] top-level scope",
      "   @ In[17]:1",
      " [2] eval",
      "   @ ./boot.jl:373 [inlined]",
      " [3] include_string(mapexpr::typeof(REPL.softscope), mod::Module, code::String, filename::String)",
      "   @ Base ./loading.jl:1196"
     ]
    }
   ],
   "source": [
    "correctids = findall(Y[:].!=0)\n",
    "X = Convex.Variable(size(Y))\n",
    "problem = minimize(nuclearnorm(X))\n",
    "problem.constraints += X[correctids]==Y[correctids]"
   ]
  },
  {
   "cell_type": "code",
   "execution_count": 18,
   "metadata": {},
   "outputs": [
    {
     "ename": "LoadError",
     "evalue": "UndefVarError: SCS not defined",
     "output_type": "error",
     "traceback": [
      "UndefVarError: SCS not defined",
      "",
      "Stacktrace:",
      " [1] top-level scope",
      "   @ In[18]:1",
      " [2] eval",
      "   @ ./boot.jl:373 [inlined]",
      " [3] include_string(mapexpr::typeof(REPL.softscope), mod::Module, code::String, filename::String)",
      "   @ Base ./loading.jl:1196"
     ]
    }
   ],
   "source": [
    "solve!(problem, SCS.Optimizer(eps=1e-3, alpha=1.5))"
   ]
  },
  {
   "cell_type": "code",
   "execution_count": 19,
   "metadata": {},
   "outputs": [
    {
     "ename": "LoadError",
     "evalue": "UndefVarError: Gray not defined",
     "output_type": "error",
     "traceback": [
      "UndefVarError: Gray not defined",
      "",
      "Stacktrace:",
      " [1] top-level scope",
      "   @ show.jl:1047",
      " [2] eval",
      "   @ ./boot.jl:373 [inlined]",
      " [3] include_string(mapexpr::typeof(REPL.softscope), mod::Module, code::String, filename::String)",
      "   @ Base ./loading.jl:1196"
     ]
    }
   ],
   "source": [
    "@show norm(float.(Gray.(Kref))-X.value)\n",
    "@show norm(-X.value)\n",
    "colorview(Gray, X.value)"
   ]
  },
  {
   "cell_type": "code",
   "execution_count": 20,
   "metadata": {},
   "outputs": [
    {
     "ename": "LoadError",
     "evalue": "UndefVarError: Gray not defined",
     "output_type": "error",
     "traceback": [
      "UndefVarError: Gray not defined",
      "",
      "Stacktrace:",
      " [1] top-level scope",
      "   @ show.jl:1047",
      " [2] eval",
      "   @ ./boot.jl:373 [inlined]",
      " [3] include_string(mapexpr::typeof(REPL.softscope), mod::Module, code::String, filename::String)",
      "   @ Base ./loading.jl:1196"
     ]
    }
   ],
   "source": [
    "@show norm(float.(Gray.(Kref))-X.value)\n",
    "@show norm(-X.value)\n",
    "colorview(Gray, X.value)"
   ]
  },
  {
   "cell_type": "markdown",
   "metadata": {},
   "source": [
    "---\n",
    "### 🥒 Problem 3 Diet optimization problem.\n",
    "This is a common problem in Numerical Optimization, and you can find multiple references about it online. Here, we will use one of the examples in the JuMP package. Refer to this page for details: https://github.com/JuliaOpt/JuMP.jl/blob/master/examples/diet.jl.\n",
    "\n",
    "In this porblem we are given constraints on the number of (minimum, maximum) number of calories, protein, fat, and sodium to consume. We will first build a JuMP container to store this information and pass it as constraints later."
   ]
  },
  {
   "cell_type": "code",
   "execution_count": 21,
   "metadata": {},
   "outputs": [
    {
     "ename": "LoadError",
     "evalue": "ArgumentError: Package JuMP [4076af6c-e467-56ae-b986-b466b2749572] is required but does not seem to be installed:\n - Run `Pkg.instantiate()` to install all recorded dependencies.\n",
     "output_type": "error",
     "traceback": [
      "ArgumentError: Package JuMP [4076af6c-e467-56ae-b986-b466b2749572] is required but does not seem to be installed:\n - Run `Pkg.instantiate()` to install all recorded dependencies.\n",
      "",
      "Stacktrace:",
      " [1] _require(pkg::Base.PkgId)",
      "   @ Base ./loading.jl:1089",
      " [2] require(uuidkey::Base.PkgId)",
      "   @ Base ./loading.jl:1013",
      " [3] require(into::Module, mod::Symbol)",
      "   @ Base ./loading.jl:997",
      " [4] eval",
      "   @ ./boot.jl:373 [inlined]",
      " [5] include_string(mapexpr::typeof(REPL.softscope), mod::Module, code::String, filename::String)",
      "   @ Base ./loading.jl:1196"
     ]
    }
   ],
   "source": [
    "using JuMP\n",
    "using GLPK"
   ]
  },
  {
   "cell_type": "code",
   "execution_count": 22,
   "metadata": {},
   "outputs": [
    {
     "ename": "LoadError",
     "evalue": "UndefVarError: JuMP not defined",
     "output_type": "error",
     "traceback": [
      "UndefVarError: JuMP not defined",
      "",
      "Stacktrace:",
      " [1] top-level scope",
      "   @ In[22]:1",
      " [2] eval",
      "   @ ./boot.jl:373 [inlined]",
      " [3] include_string(mapexpr::typeof(REPL.softscope), mod::Module, code::String, filename::String)",
      "   @ Base ./loading.jl:1196"
     ]
    }
   ],
   "source": [
    "category_data = JuMP.Containers.DenseAxisArray(\n",
    "    [1800 2200;\n",
    "     91   Inf;\n",
    "     0    65;\n",
    "     0    1779], \n",
    "    [\"calories\", \"protein\", \"fat\", \"sodium\"], \n",
    "    [\"min\", \"max\"])"
   ]
  },
  {
   "cell_type": "markdown",
   "metadata": {},
   "source": [
    "You can think of this matrix as indexed by rows via the vector `[\"calories\", \"protein\", \"fat\", \"sodium\"]`, and indexed by columns via the vector `[\"min\", \"max\"]`. In fact, we can now checkout the values: `category_data[\"calories\",\"max\"]` or `category_data[\"fat\",\"min\"]`."
   ]
  },
  {
   "cell_type": "code",
   "execution_count": 23,
   "metadata": {},
   "outputs": [
    {
     "ename": "LoadError",
     "evalue": "UndefVarError: category_data not defined",
     "output_type": "error",
     "traceback": [
      "UndefVarError: category_data not defined",
      "",
      "Stacktrace:",
      " [1] top-level scope",
      "   @ show.jl:1047",
      " [2] eval",
      "   @ ./boot.jl:373 [inlined]",
      " [3] include_string(mapexpr::typeof(REPL.softscope), mod::Module, code::String, filename::String)",
      "   @ Base ./loading.jl:1196"
     ]
    }
   ],
   "source": [
    "@show category_data[\"calories\",\"max\"] \n",
    "@show category_data[\"fat\",\"min\"]\n",
    ";"
   ]
  },
  {
   "cell_type": "markdown",
   "metadata": {},
   "source": [
    "Next, we will encode some information about food data we have."
   ]
  },
  {
   "cell_type": "code",
   "execution_count": 24,
   "metadata": {},
   "outputs": [
    {
     "ename": "LoadError",
     "evalue": "UndefVarError: JuMP not defined",
     "output_type": "error",
     "traceback": [
      "UndefVarError: JuMP not defined",
      "",
      "Stacktrace:",
      " [1] top-level scope",
      "   @ In[24]:5",
      " [2] eval",
      "   @ ./boot.jl:373 [inlined]",
      " [3] include_string(mapexpr::typeof(REPL.softscope), mod::Module, code::String, filename::String)",
      "   @ Base ./loading.jl:1196"
     ]
    }
   ],
   "source": [
    "foods = [\"hamburger\", \"chicken\", \"hot dog\", \"fries\", \"macaroni\", \"pizza\",\"salad\", \"milk\", \"ice cream\"]\n",
    "\n",
    "# we will use the same concept we used above to create an array indexed \n",
    "# by foods this time to record the cost of each of these items\n",
    "cost = JuMP.Containers.DenseAxisArray(\n",
    "    [2.49, 2.89, 1.50, 1.89, 2.09, 1.99, 2.49, 0.89, 1.59],\n",
    "    foods)"
   ]
  },
  {
   "cell_type": "markdown",
   "metadata": {},
   "source": [
    "Next we will create a new matrix to encode the calories,protein, fat, and sodium present in each of these foods. This will be a matrix encoded by foods by rows, and `[\"calories\", \"protein\", \"fat\", \"sodium\"]` by columns."
   ]
  },
  {
   "cell_type": "code",
   "execution_count": 25,
   "metadata": {},
   "outputs": [
    {
     "ename": "LoadError",
     "evalue": "UndefVarError: JuMP not defined",
     "output_type": "error",
     "traceback": [
      "UndefVarError: JuMP not defined",
      "",
      "Stacktrace:",
      " [1] top-level scope",
      "   @ In[25]:1",
      " [2] eval",
      "   @ ./boot.jl:373 [inlined]",
      " [3] include_string(mapexpr::typeof(REPL.softscope), mod::Module, code::String, filename::String)",
      "   @ Base ./loading.jl:1196"
     ]
    }
   ],
   "source": [
    "food_data = JuMP.Containers.DenseAxisArray(\n",
    "    [410 24 26 730;\n",
    "     420 32 10 1190;\n",
    "     560 20 32 1800;\n",
    "     380  4 19 270;\n",
    "     320 12 10 930;\n",
    "     320 15 12 820;\n",
    "     320 31 12 1230;\n",
    "     100  8 2.5 125;\n",
    "     330  8 10 180], \n",
    "    foods, \n",
    "    [\"calories\", \"protein\", \"fat\", \"sodium\"])\n",
    "\n",
    "@show food_data[\"chicken\", \"fat\"]\n",
    "@show food_data[\"milk\", \"sodium\"]\n",
    ";"
   ]
  },
  {
   "cell_type": "markdown",
   "metadata": {},
   "source": [
    "And now, we will build the model."
   ]
  },
  {
   "cell_type": "code",
   "execution_count": 26,
   "metadata": {},
   "outputs": [
    {
     "ename": "LoadError",
     "evalue": "UndefVarError: GLPK not defined",
     "output_type": "error",
     "traceback": [
      "UndefVarError: GLPK not defined",
      "",
      "Stacktrace:",
      " [1] top-level scope",
      "   @ In[26]:2",
      " [2] eval",
      "   @ ./boot.jl:373 [inlined]",
      " [3] include_string(mapexpr::typeof(REPL.softscope), mod::Module, code::String, filename::String)",
      "   @ Base ./loading.jl:1196"
     ]
    }
   ],
   "source": [
    "# set up the model\n",
    "model = Model(GLPK.Optimizer)\n",
    "\n",
    "categories = [\"calories\", \"protein\", \"fat\", \"sodium\"]\n",
    "\n",
    "# add the variables\n",
    "@variables(model, begin\n",
    "    # Variables for nutrition info\n",
    "    category_data[c, \"min\"] <= nutrition[c = categories] <= category_data[c, \"max\"]\n",
    "    # Variables for which foods to buy\n",
    "    buy[foods] >= 0\n",
    "end)\n",
    "\n",
    "# Objective - minimize cost\n",
    "@objective(model, Min, sum(cost[f] * buy[f] for f in foods))\n",
    "\n",
    "# Nutrition constraints\n",
    "@constraint(model, [c in categories],\n",
    "    sum(food_data[f, c] * buy[f] for f in foods) == nutrition[c]\n",
    ")"
   ]
  },
  {
   "cell_type": "markdown",
   "metadata": {},
   "source": [
    "And finally, all what's left to be done is to solve the problem"
   ]
  },
  {
   "cell_type": "code",
   "execution_count": 27,
   "metadata": {},
   "outputs": [
    {
     "ename": "LoadError",
     "evalue": "UndefVarError: JuMP not defined",
     "output_type": "error",
     "traceback": [
      "UndefVarError: JuMP not defined",
      "",
      "Stacktrace:",
      " [1] top-level scope",
      "   @ In[27]:1",
      " [2] eval",
      "   @ ./boot.jl:373 [inlined]",
      " [3] include_string(mapexpr::typeof(REPL.softscope), mod::Module, code::String, filename::String)",
      "   @ Base ./loading.jl:1196"
     ]
    }
   ],
   "source": [
    "JuMP.optimize!(model)\n",
    "term_status = JuMP.termination_status(model)\n",
    "is_optimal = term_status == MOI.OPTIMAL\n",
    "@show JuMP.primal_status(model) == MOI.FEASIBLE_POINT\n",
    "@show JuMP.objective_value(model) ≈ 11.8288 atol = 1e-4"
   ]
  },
  {
   "cell_type": "markdown",
   "metadata": {},
   "source": [
    "And to actually look at the solution, we can look at the `buy` variable."
   ]
  },
  {
   "cell_type": "code",
   "execution_count": 28,
   "metadata": {},
   "outputs": [
    {
     "ename": "LoadError",
     "evalue": "UndefVarError: buy not defined",
     "output_type": "error",
     "traceback": [
      "UndefVarError: buy not defined",
      "",
      "Stacktrace:",
      " [1] top-level scope",
      "   @ In[28]:1",
      " [2] eval",
      "   @ ./boot.jl:373 [inlined]",
      " [3] include_string(mapexpr::typeof(REPL.softscope), mod::Module, code::String, filename::String)",
      "   @ Base ./loading.jl:1196"
     ]
    }
   ],
   "source": [
    "hcat(buy.data,JuMP.value.(buy.data))"
   ]
  },
  {
   "cell_type": "markdown",
   "metadata": {},
   "source": [
    "----\n",
    "### 🗺️ How many passports do you need to travel the world without obtaining a visa in advance?\n",
    "This problem is the same problem shown in the JuliaCon 2018 JuMP workshop, with updated code and data. The original post can be found here: https://github.com/juan-pablo-vielma/JuliaCon2018_JuMP_Workshop/blob/master/Introduction_Slides.ipynb.\n",
    "\n",
    "We will first get the data."
   ]
  },
  {
   "cell_type": "code",
   "execution_count": 29,
   "metadata": {},
   "outputs": [
    {
     "name": "stderr",
     "output_type": "stream",
     "text": [
      "Cloning into 'passport-index-dataset'...\n"
     ]
    }
   ],
   "source": [
    ";git clone https://github.com/ilyankou/passport-index-dataset.git"
   ]
  },
  {
   "cell_type": "markdown",
   "metadata": {},
   "source": [
    "The file we need is `passport-index-dataset/passport-index-matrix.csv`, and we will use the `DelimitedFiles` package to read it -- this is mainly because what we are loading is a matrix and we will have to extract the matrix out of the DataFrame if we use the `CSV` package. Both are viable options, this will just be quicker."
   ]
  },
  {
   "cell_type": "code",
   "execution_count": 30,
   "metadata": {},
   "outputs": [
    {
     "ename": "LoadError",
     "evalue": "UndefVarError: readdlm not defined",
     "output_type": "error",
     "traceback": [
      "UndefVarError: readdlm not defined",
      "",
      "Stacktrace:",
      " [1] top-level scope",
      "   @ In[30]:1",
      " [2] eval",
      "   @ ./boot.jl:373 [inlined]",
      " [3] include_string(mapexpr::typeof(REPL.softscope), mod::Module, code::String, filename::String)",
      "   @ Base ./loading.jl:1196"
     ]
    }
   ],
   "source": [
    "passportdata = readdlm(joinpath(\"passport-index-dataset\",\"passport-index-matrix.csv\"),',')"
   ]
  },
  {
   "cell_type": "markdown",
   "metadata": {},
   "source": [
    "These are the possible options in this matrix:\n",
    "\n",
    "| Value | Explanation |\n",
    "|---|---|\n",
    "|7-360| number of visa-free days|\n",
    "|VF| visa-free travel (where number of days is not applicable or known, eg freedom of movement)|\n",
    "|VOA| visa on arrival|\n",
    "|ETA| eTA (electronic travel authority) required|\n",
    "|VR| visa required|\n",
    "|-1| where passport=destination, in matrix files only|\n",
    "\n",
    "So anything that is a number or \"VF\" or \"VOA\", can be entered without a visa in advance."
   ]
  },
  {
   "cell_type": "code",
   "execution_count": 31,
   "metadata": {},
   "outputs": [
    {
     "ename": "LoadError",
     "evalue": "UndefVarError: passportdata not defined",
     "output_type": "error",
     "traceback": [
      "UndefVarError: passportdata not defined",
      "",
      "Stacktrace:",
      " [1] top-level scope",
      "   @ In[31]:1",
      " [2] eval",
      "   @ ./boot.jl:373 [inlined]",
      " [3] include_string(mapexpr::typeof(REPL.softscope), mod::Module, code::String, filename::String)",
      "   @ Base ./loading.jl:1196"
     ]
    }
   ],
   "source": [
    "cntr = passportdata[2:end,1]\n",
    "vf = (x ->  typeof(x)==Int64 || x == \"VF\" || x == \"VOA\" ? 1 : 0).(passportdata[2:end,2:end]);"
   ]
  },
  {
   "cell_type": "markdown",
   "metadata": {},
   "source": [
    "Set up the model"
   ]
  },
  {
   "cell_type": "code",
   "execution_count": 32,
   "metadata": {},
   "outputs": [
    {
     "ename": "LoadError",
     "evalue": "UndefVarError: GLPK not defined",
     "output_type": "error",
     "traceback": [
      "UndefVarError: GLPK not defined",
      "",
      "Stacktrace:",
      " [1] top-level scope",
      "   @ In[32]:1",
      " [2] eval",
      "   @ ./boot.jl:373 [inlined]",
      " [3] include_string(mapexpr::typeof(REPL.softscope), mod::Module, code::String, filename::String)",
      "   @ Base ./loading.jl:1196"
     ]
    }
   ],
   "source": [
    "model = Model(GLPK.Optimizer)"
   ]
  },
  {
   "cell_type": "markdown",
   "metadata": {},
   "source": [
    "Add the variables, constrains, and the objective function."
   ]
  },
  {
   "cell_type": "code",
   "execution_count": 33,
   "metadata": {},
   "outputs": [
    {
     "ename": "LoadError",
     "evalue": "LoadError: UndefVarError: @variable not defined\nin expression starting at In[33]:1",
     "output_type": "error",
     "traceback": [
      "LoadError: UndefVarError: @variable not defined\nin expression starting at In[33]:1",
      "",
      "Stacktrace:",
      " [1] top-level scope",
      "   @ :0",
      " [2] eval",
      "   @ ./boot.jl:373 [inlined]",
      " [3] include_string(mapexpr::typeof(REPL.softscope), mod::Module, code::String, filename::String)",
      "   @ Base ./loading.jl:1196"
     ]
    }
   ],
   "source": [
    "@variable(model, pass[1:length(cntr)], Bin)\n",
    "@constraint(model, [j=1:length(cntr)], sum( vf[i,j]*pass[i] for i in 1:length(cntr)) >= 1)\n",
    "@objective(model, Min, sum(pass))"
   ]
  },
  {
   "cell_type": "markdown",
   "metadata": {},
   "source": [
    "And finally, solve the problem"
   ]
  },
  {
   "cell_type": "code",
   "execution_count": 34,
   "metadata": {},
   "outputs": [
    {
     "ename": "LoadError",
     "evalue": "UndefVarError: JuMP not defined",
     "output_type": "error",
     "traceback": [
      "UndefVarError: JuMP not defined",
      "",
      "Stacktrace:",
      " [1] top-level scope",
      "   @ In[34]:1",
      " [2] eval",
      "   @ ./boot.jl:373 [inlined]",
      " [3] include_string(mapexpr::typeof(REPL.softscope), mod::Module, code::String, filename::String)",
      "   @ Base ./loading.jl:1196"
     ]
    }
   ],
   "source": [
    "JuMP.optimize!(model)"
   ]
  },
  {
   "cell_type": "code",
   "execution_count": 35,
   "metadata": {},
   "outputs": [
    {
     "ename": "LoadError",
     "evalue": "UndefVarError: JuMP not defined",
     "output_type": "error",
     "traceback": [
      "UndefVarError: JuMP not defined",
      "",
      "Stacktrace:",
      " [1] top-level scope",
      "   @ In[35]:1",
      " [2] eval",
      "   @ ./boot.jl:373 [inlined]",
      " [3] include_string(mapexpr::typeof(REPL.softscope), mod::Module, code::String, filename::String)",
      "   @ Base ./loading.jl:1196"
     ]
    }
   ],
   "source": [
    "print(JuMP.objective_value(model),\" passports: \",join(cntr[findall(JuMP.value.(pass) .== 1)],\", \"))"
   ]
  },
  {
   "cell_type": "markdown",
   "metadata": {},
   "source": [
    "# Finally...\n",
    "After finishing this notebook, you should be able to:\n",
    "- [ ] solve optimization problems via the Convex.jl package\n",
    "- [ ] solve optimization problems via the JuMP.jl package"
   ]
  }
 ],
 "metadata": {
  "kernelspec": {
   "display_name": "Julia 1.7.2",
   "language": "julia",
   "name": "julia-1.7"
  },
  "language_info": {
   "file_extension": ".jl",
   "mimetype": "application/julia",
   "name": "julia",
   "version": "1.7.2"
  }
 },
 "nbformat": 4,
 "nbformat_minor": 4
}
