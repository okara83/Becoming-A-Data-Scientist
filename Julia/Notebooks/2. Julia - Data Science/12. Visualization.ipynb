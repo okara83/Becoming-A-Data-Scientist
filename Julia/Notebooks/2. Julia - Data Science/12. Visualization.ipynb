{
 "cells": [
  {
   "cell_type": "markdown",
   "metadata": {},
   "source": [
    "## Visualization\n",
    "In this notebook, we will cover five visualizations and the hope is that each of them will reveal tips for you for your next plot. There is a wide range of visually pleasing plots you can generate with Julia and I strongly recommend envisioning what you want to plot beforehand and then figuring out how to accomplish it (most likely you will find all what you need in at least one julia plotting package). Here, we will be using the `Plots` package with a `gr()` backend"
   ]
  },
  {
   "cell_type": "code",
   "execution_count": null,
   "metadata": {},
   "outputs": [],
   "source": [
    "ENV[\"GKS_ENCODING\"] = \"utf-8\""
   ]
  },
  {
   "cell_type": "code",
   "execution_count": 2,
   "metadata": {},
   "outputs": [],
   "source": [
    "stateabbreviations = Dict(\"Alabama\" => \"AL\",\n",
    "    \"Alaska\" => \"AK\",\n",
    "    \"Arizona\" => \"AZ\",\n",
    "    \"Arkansas\" => \"AR\",\n",
    "    \"California\" => \"CA\",\n",
    "    \"Colorado\" => \"CO\",\n",
    "    \"Connecticut\" => \"CT\",\n",
    "    \"Delaware\" => \"DE\",\n",
    "    \"Florida\" => \"FL\",\n",
    "    \"Georgia\" => \"GA\",\n",
    "    \"Hawaii\" => \"HI\",\n",
    "    \"Idaho\" => \"ID\",\n",
    "    \"Illinois\" => \"IL\",\n",
    "    \"Indiana\" => \"IN\",\n",
    "    \"Iowa\" => \"IA\",\n",
    "    \"Kansas\" => \"KS\",\n",
    "    \"Kentucky\" => \"KY\",\n",
    "    \"Louisiana\" => \"LA\",\n",
    "    \"Maine\" => \"ME\",\n",
    "    \"Maryland\" => \"MD\",\n",
    "    \"Massachusetts\" => \"MA\",\n",
    "    \"Michigan\" => \"MI\",\n",
    "    \"Minnesota\" => \"MN\",\n",
    "    \"Mississippi\" => \"MS\",\n",
    "    \"Missouri\" => \"MO\",\n",
    "    \"Montana\" => \"MT\",\n",
    "    \"Nebraska\" => \"NE\",\n",
    "    \"Nevada\" => \"NV\",\n",
    "    \"New Hampshire\" => \"NH\",\n",
    "    \"New Jersey\" => \"NJ\",\n",
    "    \"New Mexico\" => \"NM\",\n",
    "    \"New York\" => \"NY\",\n",
    "    \"North Carolina\" => \"NC\",\n",
    "    \"North Dakota\" => \"ND\",\n",
    "    \"Ohio\" => \"OH\",\n",
    "    \"Oklahoma\" => \"OK\",\n",
    "    \"Oregon\" => \"OR\",\n",
    "    \"Pennsylvania\" => \"PA\",\n",
    "    \"Rhode Island\" => \"RI\",\n",
    "    \"South Carolina\" => \"SC\",\n",
    "    \"South Dakota\" => \"SD\",\n",
    "    \"Tennessee\" => \"TN\",\n",
    "    \"Texas\" => \"TX\",\n",
    "    \"Utah\" => \"UT\",\n",
    "    \"Vermont\" => \"VT\",\n",
    "    \"Virginia\" => \"VA\",\n",
    "    \"Washington\" => \"WA\",\n",
    "    \"West Virginia\" => \"WV\",\n",
    "    \"Wisconsin\" => \"WI\",\n",
    "    \"Wyoming\" => \"WY\", \n",
    "    \"District of Columbia\"=>\"DC\");"
   ]
  },
  {
   "cell_type": "code",
   "execution_count": 1,
   "metadata": {},
   "outputs": [
    {
     "ename": "LoadError",
     "evalue": "ArgumentError: Package Plots [91a5bcdd-55d7-5caf-9e0b-520d859cae80] is required but does not seem to be installed:\n - Run `Pkg.instantiate()` to install all recorded dependencies.\n",
     "output_type": "error",
     "traceback": [
      "ArgumentError: Package Plots [91a5bcdd-55d7-5caf-9e0b-520d859cae80] is required but does not seem to be installed:\n - Run `Pkg.instantiate()` to install all recorded dependencies.\n",
      "",
      "Stacktrace:",
      " [1] _require(pkg::Base.PkgId)",
      "   @ Base ./loading.jl:1089",
      " [2] require(uuidkey::Base.PkgId)",
      "   @ Base ./loading.jl:1013",
      " [3] require(into::Module, mod::Symbol)",
      "   @ Base ./loading.jl:997",
      " [4] eval",
      "   @ ./boot.jl:373 [inlined]",
      " [5] include_string(mapexpr::typeof(REPL.softscope), mod::Module, code::String, filename::String)",
      "   @ Base ./loading.jl:1196"
     ]
    }
   ],
   "source": [
    "using Plots\n",
    "using StatsPlots # this package provides stats specific plotting functions\n",
    "gr()"
   ]
  },
  {
   "cell_type": "code",
   "execution_count": 2,
   "metadata": {},
   "outputs": [
    {
     "ename": "LoadError",
     "evalue": "ArgumentError: Package StatsBase [2913bbd2-ae8a-5f71-8c99-4fb6c76f3a91] is required but does not seem to be installed:\n - Run `Pkg.instantiate()` to install all recorded dependencies.\n",
     "output_type": "error",
     "traceback": [
      "ArgumentError: Package StatsBase [2913bbd2-ae8a-5f71-8c99-4fb6c76f3a91] is required but does not seem to be installed:\n - Run `Pkg.instantiate()` to install all recorded dependencies.\n",
      "",
      "Stacktrace:",
      " [1] _require(pkg::Base.PkgId)",
      "   @ Base ./loading.jl:1089",
      " [2] require(uuidkey::Base.PkgId)",
      "   @ Base ./loading.jl:1013",
      " [3] require(into::Module, mod::Symbol)",
      "   @ Base ./loading.jl:997",
      " [4] eval",
      "   @ ./boot.jl:373 [inlined]",
      " [5] include_string(mapexpr::typeof(REPL.softscope), mod::Module, code::String, filename::String)",
      "   @ Base ./loading.jl:1196"
     ]
    }
   ],
   "source": [
    "using Statistics\n",
    "using StatsBase\n",
    "using MLBase"
   ]
  },
  {
   "cell_type": "markdown",
   "metadata": {},
   "source": [
    "Just a quick note about plotting with xlabels that are long and rotated. Currently, there seems to be an issue with using xticks labels that are rotated and long, like the plot I show next. As per this issue https://github.com/JuliaPlots/Plots.jl/issues/2107, this hasn't been fixed yet. But here, I create a quick function that will act as a \"hack\" to avoid this problem."
   ]
  },
  {
   "cell_type": "code",
   "execution_count": 3,
   "metadata": {},
   "outputs": [
    {
     "ename": "LoadError",
     "evalue": "UndefVarError: font not defined",
     "output_type": "error",
     "traceback": [
      "UndefVarError: font not defined",
      "",
      "Stacktrace:",
      " [1] top-level scope",
      "   @ In[3]:2",
      " [2] eval",
      "   @ ./boot.jl:373 [inlined]",
      " [3] include_string(mapexpr::typeof(REPL.softscope), mod::Module, code::String, filename::String)",
      "   @ Base ./loading.jl:1196"
     ]
    }
   ],
   "source": [
    "xtickslabels = [\"one\",\"five\",\"six\",\"fourteen\"]\n",
    "p = plot(rand(15),xticks = ([1,5,6,14],xtickslabels),xrotation=90,xtickfont=font(13))"
   ]
  },
  {
   "cell_type": "code",
   "execution_count": 4,
   "metadata": {},
   "outputs": [
    {
     "ename": "LoadError",
     "evalue": "LoadError: UndefVarError: @layout not defined\nin expression starting at In[4]:3",
     "output_type": "error",
     "traceback": [
      "LoadError: UndefVarError: @layout not defined\nin expression starting at In[4]:3",
      "",
      "Stacktrace:",
      " [1] top-level scope",
      "   @ :0",
      " [2] eval",
      "   @ ./boot.jl:373 [inlined]",
      " [3] include_string(mapexpr::typeof(REPL.softscope), mod::Module, code::String, filename::String)",
      "   @ Base ./loading.jl:1196"
     ]
    }
   ],
   "source": [
    "function pad_empty_plot(p)\n",
    "    ep = plot(grid=false,legend=false,axis=false,framestyle = :box)#empty plot\n",
    "    newplot = plot(p,ep,layout=@layout([a{0.99h};b{0.001h}]))\n",
    "    return newplot\n",
    "end\n",
    "pad_empty_plot(p)"
   ]
  },
  {
   "cell_type": "markdown",
   "metadata": {},
   "source": [
    "### Let us first get some data that we will use throughout this notebook"
   ]
  },
  {
   "cell_type": "code",
   "execution_count": 5,
   "metadata": {},
   "outputs": [
    {
     "ename": "LoadError",
     "evalue": "ArgumentError: Package XLSX [fdbf4ff8-1666-58a4-91e7-1b58723a45e0] is required but does not seem to be installed:\n - Run `Pkg.instantiate()` to install all recorded dependencies.\n",
     "output_type": "error",
     "traceback": [
      "ArgumentError: Package XLSX [fdbf4ff8-1666-58a4-91e7-1b58723a45e0] is required but does not seem to be installed:\n - Run `Pkg.instantiate()` to install all recorded dependencies.\n",
      "",
      "Stacktrace:",
      " [1] _require(pkg::Base.PkgId)",
      "   @ Base ./loading.jl:1089",
      " [2] require(uuidkey::Base.PkgId)",
      "   @ Base ./loading.jl:1013",
      " [3] require(into::Module, mod::Symbol)",
      "   @ Base ./loading.jl:997",
      " [4] eval",
      "   @ ./boot.jl:373 [inlined]",
      " [5] include_string(mapexpr::typeof(REPL.softscope), mod::Module, code::String, filename::String)",
      "   @ Base ./loading.jl:1196"
     ]
    }
   ],
   "source": [
    "using XLSX\n",
    "using DataFrames\n",
    "D = DataFrame(XLSX.readtable(\"data/zillow_data_download_april2020.xlsx\", \"Sales_median_price_city\")...);\n",
    "dropmissing!(D)\n",
    "states = D[:,:StateName];"
   ]
  },
  {
   "cell_type": "code",
   "execution_count": 6,
   "metadata": {},
   "outputs": [
    {
     "ename": "LoadError",
     "evalue": "UndefVarError: D not defined",
     "output_type": "error",
     "traceback": [
      "UndefVarError: D not defined",
      "",
      "Stacktrace:",
      " [1] top-level scope",
      "   @ In[6]:1",
      " [2] eval",
      "   @ ./boot.jl:373 [inlined]",
      " [3] include_string(mapexpr::typeof(REPL.softscope), mod::Module, code::String, filename::String)",
      "   @ Base ./loading.jl:1196"
     ]
    }
   ],
   "source": [
    "states = D[:,:StateName];"
   ]
  },
  {
   "cell_type": "markdown",
   "metadata": {},
   "source": [
    "We will use these three states as examples throughtout this notebook, so we will create a `DataFrame` for each of them to have them ready when we need them."
   ]
  },
  {
   "cell_type": "code",
   "execution_count": 7,
   "metadata": {},
   "outputs": [
    {
     "ename": "LoadError",
     "evalue": "UndefVarError: states not defined",
     "output_type": "error",
     "traceback": [
      "UndefVarError: states not defined",
      "",
      "Stacktrace:",
      " [1] top-level scope",
      "   @ In[7]:1",
      " [2] eval",
      "   @ ./boot.jl:373 [inlined]",
      " [3] include_string(mapexpr::typeof(REPL.softscope), mod::Module, code::String, filename::String)",
      "   @ Base ./loading.jl:1196"
     ]
    }
   ],
   "source": [
    "NYids = findall(states.==\"New York\")\n",
    "NYframe = dropmissing(D[NYids,:])\n",
    "CAids = findall(states.==\"California\")\n",
    "CAframe = dropmissing(D[CAids,:])\n",
    "FLids = findall(states.==\"Florida\")\n",
    "FLframe = dropmissing(D[FLids,:])"
   ]
  },
  {
   "cell_type": "markdown",
   "metadata": {},
   "source": [
    "### 🔴Plot 1: Symmetric violin plots and annotations\n",
    "We will get started by just picking the most recent data we have about these states and plot their violin plots to see the distribution of house prices."
   ]
  },
  {
   "cell_type": "code",
   "execution_count": 8,
   "metadata": {},
   "outputs": [
    {
     "ename": "LoadError",
     "evalue": "UndefVarError: CAframe not defined",
     "output_type": "error",
     "traceback": [
      "UndefVarError: CAframe not defined",
      "",
      "Stacktrace:",
      " [1] top-level scope",
      "   @ In[8]:2",
      " [2] eval",
      "   @ ./boot.jl:373 [inlined]",
      " [3] include_string(mapexpr::typeof(REPL.softscope), mod::Module, code::String, filename::String)",
      "   @ Base ./loading.jl:1196"
     ]
    }
   ],
   "source": [
    "# pick a year: 2020-02\n",
    "ca = CAframe[!,Symbol(\"2020-02\")]\n",
    "ny = NYframe[!,Symbol(\"2020-02\")]\n",
    "fl = FLframe[!,Symbol(\"2020-02\")]\n",
    "\n",
    "violin([\"New York\"], ny,legend=false,alpha=0.8)\n",
    "violin!([\"California\"], ca,alpha=0.8)\n",
    "violin!([\"Florida\"],fl,alpha=0.8)"
   ]
  },
  {
   "cell_type": "markdown",
   "metadata": {},
   "source": [
    "One concept I learned from reading one of Edward Tufte's books is the idea of avoiding symmetry. Here, as you can see, each violin plot is symmetric. We can probably fit more information there by making use of each side of the violin plot. And indeed, we will now compare housing prices in these states from February 2020 with housing prices from 10 years before that (February 2010)."
   ]
  },
  {
   "cell_type": "code",
   "execution_count": 9,
   "metadata": {},
   "outputs": [
    {
     "ename": "LoadError",
     "evalue": "UndefVarError: CAframe not defined",
     "output_type": "error",
     "traceback": [
      "UndefVarError: CAframe not defined",
      "",
      "Stacktrace:",
      " [1] top-level scope",
      "   @ In[9]:2",
      " [2] eval",
      "   @ ./boot.jl:373 [inlined]",
      " [3] include_string(mapexpr::typeof(REPL.softscope), mod::Module, code::String, filename::String)",
      "   @ Base ./loading.jl:1196"
     ]
    }
   ],
   "source": [
    "# 2020 data\n",
    "ca = CAframe[!,Symbol(\"2020-02\")]\n",
    "ny = NYframe[!,Symbol(\"2020-02\")]\n",
    "fl = FLframe[!,Symbol(\"2020-02\")]\n",
    "violin([\"New York\"], ny,legend=false,alpha=0.8,side=:right)\n",
    "violin!([\"California\"], ca,alpha=0.8,side=:right)\n",
    "violin!([\"Florida\"],fl,alpha=0.8,side=:right)\n",
    "\n",
    "### get the February 2010 data\n",
    "ca10 = CAframe[!,Symbol(\"2010-02\")]\n",
    "ny10 = NYframe[!,Symbol(\"2010-02\")]\n",
    "fl10 = FLframe[!,Symbol(\"2010-02\")]\n",
    "\n",
    "violin!([\"New York\"], ny10,legend=false,alpha=0.8,side=:left)\n",
    "violin!([\"California\"], ca10,alpha=0.8,side=:left)\n",
    "violin!([\"Florida\"],fl10,alpha=0.8,side=:left)"
   ]
  },
  {
   "cell_type": "markdown",
   "metadata": {},
   "source": [
    "This is really intersting... seems like the price distributions stayed very similar except that it shifted upwards after 10 years. Now let's make the plot more informative."
   ]
  },
  {
   "cell_type": "code",
   "execution_count": 10,
   "metadata": {},
   "outputs": [
    {
     "ename": "LoadError",
     "evalue": "UndefVarError: CAframe not defined",
     "output_type": "error",
     "traceback": [
      "UndefVarError: CAframe not defined",
      "",
      "Stacktrace:",
      " [1] top-level scope",
      "   @ In[10]:4",
      " [2] eval",
      "   @ ./boot.jl:373 [inlined]",
      " [3] include_string(mapexpr::typeof(REPL.softscope), mod::Module, code::String, filename::String)",
      "   @ Base ./loading.jl:1196"
     ]
    }
   ],
   "source": [
    "# No need for using many colors, let's just use one color for 2010, and one color for 2020\n",
    "\n",
    "# pick a year: 2019-02\n",
    "ca = CAframe[!,Symbol(\"2010-02\")]\n",
    "ny = NYframe[!,Symbol(\"2010-02\")]\n",
    "fl = FLframe[!,Symbol(\"2010-02\")]\n",
    "violin([\"New York\"], ny,alpha=0.8,side=:left,color=6,label=\"2010-02\")\n",
    "violin!([\"California\"], ca,alpha=0.8,side=:left,color=6,label=\"\")\n",
    "violin!([\"Florida\"],fl,alpha=0.8,side=:left,color=6,label=\"\")\n",
    "\n",
    "# pick a year: 2020-02\n",
    "ca = CAframe[!,Symbol(\"2020-02\")]\n",
    "ny = NYframe[!,Symbol(\"2020-02\")]\n",
    "fl = FLframe[!,Symbol(\"2020-02\")]\n",
    "violin!([\"New York\"], ny,alpha=0.8,side=:right,color=7,label=\"2020-02\")\n",
    "violin!([\"California\"], ca,alpha=0.8,side=:right,color=7,label=\"\")\n",
    "violin!([\"Florida\"],fl,alpha=0.8,side=:right,color=7,label=\"\")\n"
   ]
  },
  {
   "cell_type": "markdown",
   "metadata": {},
   "source": [
    "Violin plots are cool in that they show a distribution of values. Nevertheless, one really intersting value in each violin plot is the median. We can very easily annotate this value on top of these violin plots."
   ]
  },
  {
   "cell_type": "code",
   "execution_count": 11,
   "metadata": {},
   "outputs": [
    {
     "ename": "LoadError",
     "evalue": "UndefVarError: CAframe not defined",
     "output_type": "error",
     "traceback": [
      "UndefVarError: CAframe not defined",
      "",
      "Stacktrace:",
      " [1] top-level scope",
      "   @ In[11]:2",
      " [2] eval",
      "   @ ./boot.jl:373 [inlined]",
      " [3] include_string(mapexpr::typeof(REPL.softscope), mod::Module, code::String, filename::String)",
      "   @ Base ./loading.jl:1196"
     ]
    }
   ],
   "source": [
    "# pick a year: 2019-02\n",
    "ca = CAframe[!,Symbol(\"2010-02\")]\n",
    "ny = NYframe[!,Symbol(\"2010-02\")]\n",
    "fl = FLframe[!,Symbol(\"2010-02\")]\n",
    "violin([\"New York\"], ny,alpha=0.8,side=:left,color=6,label=\"2010-02\")\n",
    "violin!([\"California\"], ca,alpha=0.8,side=:left,color=6,label=\"\")\n",
    "violin!([\"Florida\"],fl,alpha=0.8,side=:left,color=6,label=\"\")\n",
    "\n",
    "# pick a year: 2020-02\n",
    "ca = CAframe[!,Symbol(\"2020-02\")]\n",
    "ny = NYframe[!,Symbol(\"2020-02\")]\n",
    "fl = FLframe[!,Symbol(\"2020-02\")]\n",
    "violin!([\"New York\"], ny,alpha=0.8,side=:right,color=7,label=\"2020-02\")\n",
    "violin!([\"California\"], ca,alpha=0.8,side=:right,color=7,label=\"\")\n",
    "violin!([\"Florida\"],fl,alpha=0.8,side=:right,color=7,label=\"\")\n",
    "\n",
    "\n",
    "m = median(ny)\n",
    "ep = 0.1\n",
    "annotate!([(0.5+ep,m+0.05,text(m/1000,10,:left))])\n",
    "\n",
    "m = median(ca)\n",
    "ep = 0.1\n",
    "annotate!([(1.5+ep,m+0.05,text(m/1000,10,:left))])\n",
    "\n",
    "m = median(fl)\n",
    "ep = 0.1\n",
    "annotate!([(2.5+ep,m+0.05,text(m/1000,10,:left))])\n",
    "\n",
    "plot!(xtickfont=font(10),size=(500,300))"
   ]
  },
  {
   "cell_type": "markdown",
   "metadata": {},
   "source": [
    "Now let's put all of this together and add annotations on both sides."
   ]
  },
  {
   "cell_type": "code",
   "execution_count": 12,
   "metadata": {},
   "outputs": [
    {
     "ename": "LoadError",
     "evalue": "UndefVarError: font not defined",
     "output_type": "error",
     "traceback": [
      "UndefVarError: font not defined",
      "",
      "Stacktrace:",
      " [1] top-level scope",
      "   @ In[12]:6",
      " [2] eval",
      "   @ ./boot.jl:373 [inlined]",
      " [3] include_string(mapexpr::typeof(REPL.softscope), mod::Module, code::String, filename::String)",
      "   @ Base ./loading.jl:1196"
     ]
    }
   ],
   "source": [
    "# putting it together.\n",
    "\n",
    "ep = 0.05 # will later be used in padding for annotations\n",
    "\n",
    "# set up the plot\n",
    "plot(xtickfont=font(10))\n",
    "\n",
    "states_of_interest = [\"New York\", \"California\", \"Florida\", \"Ohio\",\"Idaho\"]\n",
    "years_of_interst = [Symbol(\"2010-02\"),Symbol(\"2020-02\")]\n",
    "\n",
    "# year 1\n",
    "xstart = 0.5\n",
    "yi = years_of_interst[1]\n",
    "for si in states_of_interest\n",
    "    curids = findall(states.==si)\n",
    "    curFrame = D[curids,:]\n",
    "    curprices = curFrame[!,yi]\n",
    "    m = median(curprices)\n",
    "    annotate!([(xstart-ep,m+0.05,text(m/1000,8,:right))])\n",
    "    xstart += 1\n",
    "    violin!([si], curprices,alpha=0.8,side=:left,color=6,label=\"\")\n",
    "end\n",
    "plot!(Shape([],[]),color=6,label=yi)\n",
    "\n",
    "# year 2\n",
    "xstart = 0.5\n",
    "yi = years_of_interst[2]\n",
    "for si in states_of_interest\n",
    "    curids = findall(states.==si)\n",
    "    curFrame = D[curids,:]\n",
    "    curprices = curFrame[!,yi]\n",
    "    m = median(curprices)\n",
    "    annotate!([(xstart+ep,m+0.05,text(m/1000,8,:left))])\n",
    "    xstart += 1\n",
    "    violin!([si], curprices,alpha=0.8,side=:right,color=7,label=\"\")\n",
    "end\n",
    "plot!(Shape([],[]),color=7,label=yi)\n",
    "ylabel!(\"housing prices\")"
   ]
  },
  {
   "cell_type": "markdown",
   "metadata": {},
   "source": [
    "### 🔴Plot 2: Bar charts, histograms, and insets\n",
    "Now let's compare states based on the number of location entries they have in the data."
   ]
  },
  {
   "cell_type": "code",
   "execution_count": 13,
   "metadata": {},
   "outputs": [
    {
     "ename": "LoadError",
     "evalue": "UndefVarError: labelmap not defined",
     "output_type": "error",
     "traceback": [
      "UndefVarError: labelmap not defined",
      "",
      "Stacktrace:",
      " [1] top-level scope",
      "   @ In[13]:1",
      " [2] eval",
      "   @ ./boot.jl:373 [inlined]",
      " [3] include_string(mapexpr::typeof(REPL.softscope), mod::Module, code::String, filename::String)",
      "   @ Base ./loading.jl:1196"
     ]
    }
   ],
   "source": [
    "mapstates = labelmap(states)\n",
    "stateids = labelencode(mapstates, states)\n",
    "histogram(stateids,nbins=length(mapstates))"
   ]
  },
  {
   "cell_type": "markdown",
   "metadata": {},
   "source": [
    "There are a few problems with this histogram. First, unsorted histograms are often harder to read so the first thing we will do is rearrange this histogram. Next, we will add annotations to be able to map each bar to a state quickly."
   ]
  },
  {
   "cell_type": "code",
   "execution_count": 14,
   "metadata": {},
   "outputs": [
    {
     "ename": "LoadError",
     "evalue": "UndefVarError: mapstates not defined",
     "output_type": "error",
     "traceback": [
      "UndefVarError: mapstates not defined",
      "",
      "Stacktrace:",
      " [1] top-level scope",
      "   @ In[14]:2",
      " [2] eval",
      "   @ ./boot.jl:373 [inlined]",
      " [3] include_string(mapexpr::typeof(REPL.softscope), mod::Module, code::String, filename::String)",
      "   @ Base ./loading.jl:1196"
     ]
    }
   ],
   "source": [
    "# first we'll start with sorting\n",
    "h = fit(Histogram, stateids,nbins=length(mapstates))\n",
    "sortedids = sortperm(h.weights,rev=true)\n",
    "bar(h.weights[sortedids],legend=false)"
   ]
  },
  {
   "cell_type": "markdown",
   "metadata": {},
   "source": [
    "Next, we will arrange this plot horizontally (via the `orientation = :horizontal` argument) and add annotations."
   ]
  },
  {
   "cell_type": "code",
   "execution_count": 15,
   "metadata": {},
   "outputs": [
    {
     "ename": "LoadError",
     "evalue": "UndefVarError: h not defined",
     "output_type": "error",
     "traceback": [
      "UndefVarError: h not defined",
      "",
      "Stacktrace:",
      " [1] top-level scope",
      "   @ In[15]:1",
      " [2] eval",
      "   @ ./boot.jl:373 [inlined]",
      " [3] include_string(mapexpr::typeof(REPL.softscope), mod::Module, code::String, filename::String)",
      "   @ Base ./loading.jl:1196"
     ]
    }
   ],
   "source": [
    "bar(h.weights[sortedids],legend=false,orientation = :horizontal,yflip=true)"
   ]
  },
  {
   "cell_type": "code",
   "execution_count": 16,
   "metadata": {},
   "outputs": [
    {
     "ename": "LoadError",
     "evalue": "UndefVarError: h not defined",
     "output_type": "error",
     "traceback": [
      "UndefVarError: h not defined",
      "",
      "Stacktrace:",
      " [1] top-level scope",
      "   @ In[16]:2",
      " [2] eval",
      "   @ ./boot.jl:373 [inlined]",
      " [3] include_string(mapexpr::typeof(REPL.softscope), mod::Module, code::String, filename::String)",
      "   @ Base ./loading.jl:1196"
     ]
    }
   ],
   "source": [
    "# just an example of annotations\n",
    "bar(h.weights[sortedids],legend=false,orientation = :horizontal,yflip=true,size=(400,500))\n",
    "stateannotations = mapstates.vs[sortedids]\n",
    "for i = 1:3\n",
    "    annotate!([(h.weights[sortedids][i]-5,i,text(stateannotations[i],10,:left))])\n",
    "end\n",
    "plot!()"
   ]
  },
  {
   "cell_type": "markdown",
   "metadata": {},
   "source": [
    "Get rid of linewidth, and map the states to the two letters identifier."
   ]
  },
  {
   "cell_type": "code",
   "execution_count": 17,
   "metadata": {},
   "outputs": [
    {
     "ename": "LoadError",
     "evalue": "UndefVarError: h not defined",
     "output_type": "error",
     "traceback": [
      "UndefVarError: h not defined",
      "",
      "Stacktrace:",
      " [1] top-level scope",
      "   @ In[17]:1",
      " [2] eval",
      "   @ ./boot.jl:373 [inlined]",
      " [3] include_string(mapexpr::typeof(REPL.softscope), mod::Module, code::String, filename::String)",
      "   @ Base ./loading.jl:1196"
     ]
    }
   ],
   "source": [
    "bar(h.weights[sortedids],legend=false,orientation = :horizontal,yflip=true,linewidth=0,width=0,size=(400,500))\n",
    "stateannotations = mapstates.vs[sortedids]\n",
    "for i = 1:length(stateannotations)\n",
    "    annotate!([(h.weights[sortedids][i]-5,i,text(stateabbreviations[stateannotations[i]],5,:left))])\n",
    "end\n",
    "plot!()"
   ]
  },
  {
   "cell_type": "markdown",
   "metadata": {},
   "source": [
    "Since we are using one color, use a more neutral color (gray), and use Edward Tufte's strategy in his book \"The Visual Display of Quantitative Information\" to add grid lines on top of the bar charts."
   ]
  },
  {
   "cell_type": "code",
   "execution_count": 18,
   "metadata": {},
   "outputs": [
    {
     "ename": "LoadError",
     "evalue": "UndefVarError: h not defined",
     "output_type": "error",
     "traceback": [
      "UndefVarError: h not defined",
      "",
      "Stacktrace:",
      " [1] top-level scope",
      "   @ In[18]:1",
      " [2] eval",
      "   @ ./boot.jl:373 [inlined]",
      " [3] include_string(mapexpr::typeof(REPL.softscope), mod::Module, code::String, filename::String)",
      "   @ Base ./loading.jl:1196"
     ]
    }
   ],
   "source": [
    "bar(h.weights[sortedids],legend=false,orientation = :horizontal,\n",
    "        yflip=true,linewidth=0,width=0,color=:gray,alpha=0.8)\n",
    "stateannotations = mapstates.vs[sortedids]\n",
    "for i = 20:20:200\n",
    "    plot!([i,i],[50,0],color=:white)\n",
    "end\n",
    "for i = 1:length(stateannotations)\n",
    "    annotate!([(h.weights[sortedids][i]-5,i,text(stateabbreviations[stateannotations[i]],6,:left))])\n",
    "end\n",
    "plot!(grid=false,yaxis=false,xlim=(0,maximum(h.weights)),xticks = 0:20:200)\n",
    "xlabel!(\"number of listings\")"
   ]
  },
  {
   "cell_type": "markdown",
   "metadata": {},
   "source": [
    "Finally, we will fix sizes and add an inset figure to zoom in on the lower left corner."
   ]
  },
  {
   "cell_type": "code",
   "execution_count": 19,
   "metadata": {},
   "outputs": [
    {
     "ename": "LoadError",
     "evalue": "UndefVarError: h not defined",
     "output_type": "error",
     "traceback": [
      "UndefVarError: h not defined",
      "",
      "Stacktrace:",
      " [1] top-level scope",
      "   @ In[19]:1",
      " [2] eval",
      "   @ ./boot.jl:373 [inlined]",
      " [3] include_string(mapexpr::typeof(REPL.softscope), mod::Module, code::String, filename::String)",
      "   @ Base ./loading.jl:1196"
     ]
    }
   ],
   "source": [
    "bar(h.weights[sortedids],legend=false,orientation = :horizontal,\n",
    "        yflip=true,linewidth=0,color=:gray,alpha=0.8,size=(300,500))\n",
    "stateannotations = mapstates.vs[sortedids]\n",
    "ht = length(h.weights)\n",
    "for i = 20:20:200\n",
    "    plot!([i,i],[ht,0],color=:white)\n",
    "end\n",
    "for i = 1:length(stateannotations)\n",
    "    annotate!([(h.weights[sortedids][i]+2,i,text(stateabbreviations[stateannotations[i]],6,:left))])\n",
    "end\n",
    "plot!(grid=false,yaxis=false,xlim=(0,maximum(h.weights)+5),xticks = 0:20:200)\n",
    "xlabel!(\"number of listings\")\n",
    "\n",
    "f = Plots.plot!(inset = bbox(0.7,0.15,0.25,0.6,:top,:left))\n",
    "bar!(f[2],h.weights[sortedids][21:end],legend=false,orientation = :horizontal,\n",
    "        yflip=true,linewidth=0,width=0,color=:gray,alpha=0.8)\n",
    "for i = 21:length(stateannotations)\n",
    "    annotate!(f[2],[(h.weights[sortedids][i]+1,i-20,text(stateabbreviations[stateannotations[i]],6,:left))])\n",
    "end\n",
    "plot!(f[2],[10,10],[20,0],color=:white,xticks=0:10:20,yaxis=false,grid=false,xlim=(0,20))\n",
    "plot!()"
   ]
  },
  {
   "cell_type": "markdown",
   "metadata": {},
   "source": [
    "### 🔴Plot 3: Plots with error bars\n",
    "Next, we will compar state prices over the years and see how they have changed. we will use error bars too."
   ]
  },
  {
   "cell_type": "code",
   "execution_count": 20,
   "metadata": {},
   "outputs": [
    {
     "ename": "LoadError",
     "evalue": "UndefVarError: NYframe not defined",
     "output_type": "error",
     "traceback": [
      "UndefVarError: NYframe not defined",
      "",
      "Stacktrace:",
      " [1] top-level scope",
      "   @ In[20]:1",
      " [2] eval",
      "   @ ./boot.jl:373 [inlined]",
      " [3] include_string(mapexpr::typeof(REPL.softscope), mod::Module, code::String, filename::String)",
      "   @ Base ./loading.jl:1196"
     ]
    }
   ],
   "source": [
    "M = Matrix(NYframe[:,5:end])"
   ]
  },
  {
   "cell_type": "code",
   "execution_count": 21,
   "metadata": {},
   "outputs": [
    {
     "ename": "LoadError",
     "evalue": "UndefVarError: NYframe not defined",
     "output_type": "error",
     "traceback": [
      "UndefVarError: NYframe not defined",
      "",
      "Stacktrace:",
      " [1] top-level scope",
      "   @ In[21]:1",
      " [2] eval",
      "   @ ./boot.jl:373 [inlined]",
      " [3] include_string(mapexpr::typeof(REPL.softscope), mod::Module, code::String, filename::String)",
      "   @ Base ./loading.jl:1196"
     ]
    }
   ],
   "source": [
    "xtickslabels = string.(names(NYframe[!,5:end]))"
   ]
  },
  {
   "cell_type": "markdown",
   "metadata": {},
   "source": [
    "We will first get started with plotting the price changes over time for each region."
   ]
  },
  {
   "cell_type": "code",
   "execution_count": 22,
   "metadata": {},
   "outputs": [
    {
     "ename": "LoadError",
     "evalue": "UndefVarError: plot not defined",
     "output_type": "error",
     "traceback": [
      "UndefVarError: plot not defined",
      "",
      "Stacktrace:",
      " [1] top-level scope",
      "   @ In[22]:1",
      " [2] eval",
      "   @ ./boot.jl:373 [inlined]",
      " [3] include_string(mapexpr::typeof(REPL.softscope), mod::Module, code::String, filename::String)",
      "   @ Base ./loading.jl:1196"
     ]
    }
   ],
   "source": [
    "plot()\n",
    "for i = 1:size(M,1)\n",
    "    plot!(M[i,:],legend=false)\n",
    "end\n",
    "plot!()\n",
    "p = plot!(xticks = (1:4:length(xtickslabels),xtickslabels[1:4:end]),xrotation=90,xtickfont=font(8),grid=false)\n",
    "pad_empty_plot(p)"
   ]
  },
  {
   "cell_type": "markdown",
   "metadata": {},
   "source": [
    "A plot like this isn't indicative of how the price trend is going overall for New York. What we will do next is for each time point, we will find the median value as well as the 80th and 20th percentile and plot these values. Let's write the precentile functin first."
   ]
  },
  {
   "cell_type": "code",
   "execution_count": 23,
   "metadata": {},
   "outputs": [
    {
     "ename": "LoadError",
     "evalue": "UndefVarError: M not defined",
     "output_type": "error",
     "traceback": [
      "UndefVarError: M not defined",
      "",
      "Stacktrace:",
      " [1] top-level scope",
      "   @ In[23]:13",
      " [2] eval",
      "   @ ./boot.jl:373 [inlined]",
      " [3] include_string(mapexpr::typeof(REPL.softscope), mod::Module, code::String, filename::String)",
      "   @ Base ./loading.jl:1196"
     ]
    }
   ],
   "source": [
    "function find_percentile(M, pct)\n",
    "    r = zeros(size(M,2))\n",
    "    for i = 1:size(M,2)\n",
    "        v = M[:,i]\n",
    "        len = length(v)\n",
    "        ind = floor(Int64,pct*len)\n",
    "        newarr = sort(v);\n",
    "        r[i] = newarr[ind];\n",
    "    end\n",
    "    return r\n",
    "end\n",
    "\n",
    "md = find_percentile(M,0.5)\n",
    "mx = find_percentile(M,0.8)\n",
    "mn = find_percentile(M,0.2)\n",
    "plot(md,ribbon =(md.-mn,mx.-md),color = :blue,label=\"NY\",grid=false)\n",
    "p = plot!(xticks = (1:4:length(xtickslabels),xtickslabels[1:4:end]),xrotation=90,xtickfont=font(8))\n",
    "pad_empty_plot(p)"
   ]
  },
  {
   "cell_type": "markdown",
   "metadata": {},
   "source": [
    "Next, we will just put everything together in one function. note the `!` symbol at the end of the name -- this is because we will pass a plot canvas `plotid` as an argument, and this function will modify it."
   ]
  },
  {
   "cell_type": "code",
   "execution_count": 24,
   "metadata": {},
   "outputs": [
    {
     "data": {
      "text/plain": [
       "plot_individual_state! (generic function with 1 method)"
      ]
     },
     "execution_count": 24,
     "metadata": {},
     "output_type": "execute_result"
    }
   ],
   "source": [
    "function plot_individual_state!(plotid,statevalue,colorid)\n",
    "    curids = findall(states.==statevalue)\n",
    "    curFrame = D[curids,:]\n",
    "    M = Matrix(curFrame[:,5:end])\n",
    "    md = find_percentile(M,0.5)\n",
    "    mx = find_percentile(M,0.8)\n",
    "    mn = find_percentile(M,0.2)\n",
    "    plot!(plotid,md,ribbon =(md.-mn,mx.-md),color = colorid,label=stateabbreviations[statevalue],grid=false)\n",
    "    plot!(plotid,xticks = (1:4:length(xtickslabels),xtickslabels[1:4:end]),xrotation=90,xtickfont=font(8))\n",
    "end"
   ]
  },
  {
   "cell_type": "code",
   "execution_count": 25,
   "metadata": {},
   "outputs": [
    {
     "ename": "LoadError",
     "evalue": "UndefVarError: plot not defined",
     "output_type": "error",
     "traceback": [
      "UndefVarError: plot not defined",
      "",
      "Stacktrace:",
      " [1] top-level scope",
      "   @ In[25]:1",
      " [2] eval",
      "   @ ./boot.jl:373 [inlined]",
      " [3] include_string(mapexpr::typeof(REPL.softscope), mod::Module, code::String, filename::String)",
      "   @ Base ./loading.jl:1196"
     ]
    }
   ],
   "source": [
    "plotid = plot()\n",
    "plot_individual_state!(plotid,\"Indiana\",1)\n",
    "plot_individual_state!(plotid,\"Ohio\",2)\n",
    "plot_individual_state!(plotid,\"Idaho\",3)\n",
    "# plot_individual_state!(plotid,\"California\",4)\n",
    "ylabel!(\"prices\")\n",
    "pad_empty_plot(plotid)"
   ]
  },
  {
   "cell_type": "markdown",
   "metadata": {},
   "source": [
    "### 🔴Plot 4: Plots with double axes"
   ]
  },
  {
   "cell_type": "code",
   "execution_count": 26,
   "metadata": {},
   "outputs": [
    {
     "ename": "LoadError",
     "evalue": "UndefVarError: plot not defined",
     "output_type": "error",
     "traceback": [
      "UndefVarError: plot not defined",
      "",
      "Stacktrace:",
      " [1] top-level scope",
      "   @ In[26]:3",
      " [2] eval",
      "   @ ./boot.jl:373 [inlined]",
      " [3] include_string(mapexpr::typeof(REPL.softscope), mod::Module, code::String, filename::String)",
      "   @ Base ./loading.jl:1196"
     ]
    }
   ],
   "source": [
    "vector1 = rand(10)\n",
    "vector2 = rand(10)*100\n",
    "plot(vector1,label = \"b\",size=(300,200))\n",
    "plot!(twinx(), vector2,color=2,axis=false)"
   ]
  },
  {
   "cell_type": "code",
   "execution_count": 27,
   "metadata": {},
   "outputs": [
    {
     "ename": "LoadError",
     "evalue": "UndefVarError: NYframe not defined",
     "output_type": "error",
     "traceback": [
      "UndefVarError: NYframe not defined",
      "",
      "Stacktrace:",
      " [1] top-level scope",
      "   @ In[27]:1",
      " [2] eval",
      "   @ ./boot.jl:373 [inlined]",
      " [3] include_string(mapexpr::typeof(REPL.softscope), mod::Module, code::String, filename::String)",
      "   @ Base ./loading.jl:1196"
     ]
    }
   ],
   "source": [
    "xtickslabels = NYframe[!,:RegionName]"
   ]
  },
  {
   "cell_type": "code",
   "execution_count": 28,
   "metadata": {},
   "outputs": [
    {
     "ename": "LoadError",
     "evalue": "UndefVarError: NYframe not defined",
     "output_type": "error",
     "traceback": [
      "UndefVarError: NYframe not defined",
      "",
      "Stacktrace:",
      " [1] top-level scope",
      "   @ In[28]:1",
      " [2] eval",
      "   @ ./boot.jl:373 [inlined]",
      " [3] include_string(mapexpr::typeof(REPL.softscope), mod::Module, code::String, filename::String)",
      "   @ Base ./loading.jl:1196"
     ]
    }
   ],
   "source": [
    "sz = NYframe[!,:SizeRank]\n",
    "pc = NYframe[!,end]\n",
    "M = Matrix(NYframe[:,5:end])\n",
    "M = copy(M')\n",
    "md = find_percentile(M,0.9)\n",
    "\n",
    "md = find_percentile(M,0.5)\n",
    "mx = find_percentile(M,0.9)\n",
    "mn = find_percentile(M,0.1)\n",
    "vector1 = sz\n",
    "\n",
    "plot()\n",
    "plot!(md,ribbon =(md.-mn,mx.-md),color = 1,grid=false,label=\"\")\n",
    "\n",
    "plot!(xticks = (1:length(xtickslabels),xtickslabels),xrotation=90,xtickfont=font(10))\n",
    "plot!(twinx(), vector1,color=2,label=\"\",ylabel=\"rank\",grid=false,xticks=[],linewidth=2)\n",
    "plot!(Shape([0], [0]),color=1,label=\"Prices (left)\")\n",
    "p = plot!([],[],color=2,label=\"Rank (right)\")\n",
    "ep = plot(grid=false,legend=false,axis=false,framestyle = :box)#empty plot\n",
    "plot(p,ep,layout=@layout([a{0.85h};b{0.001h}]))"
   ]
  },
  {
   "cell_type": "markdown",
   "metadata": {},
   "source": [
    "Interesting! Seems like in general, lower rank regions have higher price and vice versa."
   ]
  },
  {
   "cell_type": "markdown",
   "metadata": {},
   "source": [
    "### 🔴Plot 5: High-dimensional data in a 2D plot\n",
    "We've seen a 3D plot in the Clustering notebook previously. I personally prefer 2D plots because they are often easier to read and is viewable in a print version more clearly. Here, we will explore how we can use color as a third dimension. Note that you can also use sizes as third dimension.\n",
    "\n",
    "We will use the California data, and plot the prices from 2010-02 on the x-axis and 2020-02 on the y-axis. We will then color code each data point by its current rank.\n",
    "\n",
    "Let's generate a quick scatter plot first."
   ]
  },
  {
   "cell_type": "code",
   "execution_count": 29,
   "metadata": {},
   "outputs": [
    {
     "ename": "LoadError",
     "evalue": "UndefVarError: CAframe not defined",
     "output_type": "error",
     "traceback": [
      "UndefVarError: CAframe not defined",
      "",
      "Stacktrace:",
      " [1] top-level scope",
      "   @ In[29]:1",
      " [2] eval",
      "   @ ./boot.jl:373 [inlined]",
      " [3] include_string(mapexpr::typeof(REPL.softscope), mod::Module, code::String, filename::String)",
      "   @ Base ./loading.jl:1196"
     ]
    }
   ],
   "source": [
    "CA202002 = CAframe[!,Symbol(\"2020-02\")]\n",
    "CA201002 = CAframe[!,Symbol(\"2010-02\")]\n",
    "scatter(CA201002,CA202002)"
   ]
  },
  {
   "cell_type": "code",
   "execution_count": 30,
   "metadata": {},
   "outputs": [
    {
     "ename": "LoadError",
     "evalue": "UndefVarError: CAframe not defined",
     "output_type": "error",
     "traceback": [
      "UndefVarError: CAframe not defined",
      "",
      "Stacktrace:",
      " [1] top-level scope",
      "   @ In[30]:1",
      " [2] eval",
      "   @ ./boot.jl:373 [inlined]",
      " [3] include_string(mapexpr::typeof(REPL.softscope), mod::Module, code::String, filename::String)",
      "   @ Base ./loading.jl:1196"
     ]
    }
   ],
   "source": [
    "CA202002 = CAframe[!,Symbol(\"2020-02\")]\n",
    "CA201002 = CAframe[!,Symbol(\"2010-02\")]\n",
    "CAranks = CAframe[!,:SizeRank]\n",
    "scatter(CA201002,CA202002,legend=false,markerstrokewidth=0,markersize=3,alpha=0.6,grid=false)"
   ]
  },
  {
   "cell_type": "markdown",
   "metadata": {},
   "source": [
    "Then, to work with colors we will make use of the package `ColorSchemes`."
   ]
  },
  {
   "cell_type": "code",
   "execution_count": 31,
   "metadata": {},
   "outputs": [
    {
     "ename": "LoadError",
     "evalue": "ArgumentError: Package ColorSchemes [35d6a980-a343-548e-a6ea-1d62b119f2f4] is required but does not seem to be installed:\n - Run `Pkg.instantiate()` to install all recorded dependencies.\n",
     "output_type": "error",
     "traceback": [
      "ArgumentError: Package ColorSchemes [35d6a980-a343-548e-a6ea-1d62b119f2f4] is required but does not seem to be installed:\n - Run `Pkg.instantiate()` to install all recorded dependencies.\n",
      "",
      "Stacktrace:",
      " [1] _require(pkg::Base.PkgId)",
      "   @ Base ./loading.jl:1089",
      " [2] require(uuidkey::Base.PkgId)",
      "   @ Base ./loading.jl:1013",
      " [3] require(into::Module, mod::Symbol)",
      "   @ Base ./loading.jl:997",
      " [4] eval",
      "   @ ./boot.jl:373 [inlined]",
      " [5] include_string(mapexpr::typeof(REPL.softscope), mod::Module, code::String, filename::String)",
      "   @ Base ./loading.jl:1196"
     ]
    }
   ],
   "source": [
    "using ColorSchemes"
   ]
  },
  {
   "cell_type": "code",
   "execution_count": 32,
   "metadata": {},
   "outputs": [
    {
     "ename": "LoadError",
     "evalue": "UndefVarError: CAranks not defined",
     "output_type": "error",
     "traceback": [
      "UndefVarError: CAranks not defined",
      "",
      "Stacktrace:",
      " [1] top-level scope",
      "   @ In[32]:2",
      " [2] eval",
      "   @ ./boot.jl:373 [inlined]",
      " [3] include_string(mapexpr::typeof(REPL.softscope), mod::Module, code::String, filename::String)",
      "   @ Base ./loading.jl:1196"
     ]
    }
   ],
   "source": [
    "# normalize the ranks to be between 0 and 1\n",
    "continuousranks = CAranks./maximum(CAranks)\n",
    "\n",
    "# create a placeholder vector that will store the color of each value\n",
    "colorsvec = Vector{RGB{Float64}}(undef,length(continuousranks))\n",
    "\n",
    "# and finally map the colors according to ColorSchemes.autumn1, there are many other schemes you can choose from\n",
    "map(i->colorsvec[i]=get(ColorSchemes.autumn1,continuousranks[i]),1:length(colorsvec))"
   ]
  },
  {
   "cell_type": "code",
   "execution_count": 33,
   "metadata": {},
   "outputs": [
    {
     "ename": "LoadError",
     "evalue": "UndefVarError: CAranks not defined",
     "output_type": "error",
     "traceback": [
      "UndefVarError: CAranks not defined",
      "",
      "Stacktrace:",
      " [1] top-level scope",
      "   @ In[33]:1",
      " [2] eval",
      "   @ ./boot.jl:373 [inlined]",
      " [3] include_string(mapexpr::typeof(REPL.softscope), mod::Module, code::String, filename::String)",
      "   @ Base ./loading.jl:1196"
     ]
    }
   ],
   "source": [
    "continuousdates = CAranks./maximum(CAranks)\n",
    "colorsvec = Vector{RGB{Float64}}(undef,length(continuousdates))\n",
    "map(i->colorsvec[i]=get(ColorSchemes.autumn1,continuousdates[i]),1:length(colorsvec))\n",
    "scatter(CA201002,CA202002,color=colorsvec,\n",
    "    legend=false,markerstrokewidth=0,markersize=3,grid=false)\n",
    "xlabel!(\"2010-02 prices\",xguidefontsize=10)\n",
    "ylabel!(\"2020-02 prices\",yguidefontsize=10)\n",
    "p1 = plot!()"
   ]
  },
  {
   "cell_type": "markdown",
   "metadata": {},
   "source": [
    "We have the colors, but we have no indication of what the color means. Next, we will create a new plot whose job will be to encode the ranks of these dots, and then we will pad the two plots together."
   ]
  },
  {
   "cell_type": "code",
   "execution_count": 34,
   "metadata": {},
   "outputs": [
    {
     "ename": "LoadError",
     "evalue": "UndefVarError: Shape not defined",
     "output_type": "error",
     "traceback": [
      "UndefVarError: Shape not defined",
      "",
      "Stacktrace:",
      " [1] top-level scope",
      "   @ In[34]:3",
      " [2] eval",
      "   @ ./boot.jl:373 [inlined]",
      " [3] include_string(mapexpr::typeof(REPL.softscope), mod::Module, code::String, filename::String)",
      "   @ Base ./loading.jl:1196"
     ]
    }
   ],
   "source": [
    "#set up the plot canvas\n",
    "xvals = 0:100\n",
    "s = Shape([0,1,1,0],[0,0,1,1])\n",
    "plot(s,color=ColorSchemes.autumn1[1],grid=false,axis=false,\n",
    "    legend=false,linewidth=0,linecolor=nothing)\n",
    "\n",
    "for i = 2:101\n",
    "    s = Shape([xvals[i],xvals[i]+1,xvals[i]+1,xvals[i]],[0,0,1,1])\n",
    "    plot!(s,color=ColorSchemes.autumn1[i],grid=false,axis=false,\n",
    "    legend=false,linewidth=0,linecolor=nothing)\n",
    "end\n",
    "\n",
    "mynormalizer = maximum(CAranks)\n",
    "xtickslabels = 0:div(mynormalizer,10):mynormalizer\n",
    "continuousdates = xtickslabels./mynormalizer\n",
    "xticksloc = round.(Int,continuousdates.*101)\n",
    "\n",
    "# annotate using the ranks\n",
    "rotatedfont = font(10, \"Helvetica\",rotation=90)\n",
    "for i = 1:length(xtickslabels)\n",
    "    annotate!(xticksloc[i],0.5,text(xtickslabels[i], rotatedfont))\n",
    "end\n",
    "p2 = plot!()"
   ]
  },
  {
   "cell_type": "markdown",
   "metadata": {},
   "source": [
    "And now pad together..."
   ]
  },
  {
   "cell_type": "code",
   "execution_count": 35,
   "metadata": {},
   "outputs": [
    {
     "ename": "LoadError",
     "evalue": "LoadError: UndefVarError: @layout not defined\nin expression starting at In[35]:1",
     "output_type": "error",
     "traceback": [
      "LoadError: UndefVarError: @layout not defined\nin expression starting at In[35]:1",
      "",
      "Stacktrace:",
      " [1] top-level scope",
      "   @ :0",
      " [2] eval",
      "   @ ./boot.jl:373 [inlined]",
      " [3] include_string(mapexpr::typeof(REPL.softscope), mod::Module, code::String, filename::String)",
      "   @ Base ./loading.jl:1196"
     ]
    }
   ],
   "source": [
    "mylayout = @layout([a{0.89h};b{0.1h}])\n",
    "plot(p1,p2,layout=mylayout)"
   ]
  },
  {
   "cell_type": "markdown",
   "metadata": {},
   "source": [
    "This agrees with what we saw earlier with the data from New York. Lower rank regions seem to have higher prices."
   ]
  },
  {
   "cell_type": "markdown",
   "metadata": {},
   "source": [
    "# Finally...\n",
    "After finishing this notebook, you should be able to:\n",
    "- [ ] create violin plots in julia\n",
    "- [ ] create bar charts\n",
    "- [ ] add annotations to your plots\n",
    "- [ ] create an inset figure for your plot\n",
    "- [ ] create plots with error margin\n",
    "- [ ] create plots with double axes\n",
    "- [ ] create a new color mapping to a given set of values\n",
    "- [ ] create two dimensional plots and use color to indicate a third dimension\n",
    "- [ ] pad multiple plots together"
   ]
  },
  {
   "cell_type": "code",
   "execution_count": null,
   "metadata": {},
   "outputs": [],
   "source": []
  }
 ],
 "metadata": {
  "kernelspec": {
   "display_name": "Julia 1.7.2",
   "language": "julia",
   "name": "julia-1.7"
  },
  "language_info": {
   "file_extension": ".jl",
   "mimetype": "application/julia",
   "name": "julia",
   "version": "1.7.2"
  }
 },
 "nbformat": 4,
 "nbformat_minor": 4
}
