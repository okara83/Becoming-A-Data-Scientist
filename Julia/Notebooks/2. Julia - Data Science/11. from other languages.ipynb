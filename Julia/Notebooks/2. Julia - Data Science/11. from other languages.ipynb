{
 "cells": [
  {
   "cell_type": "markdown",
   "metadata": {},
   "source": [
    "## Using other languages\n",
    "Often, I hear that the biggest challenge of moving from another language to Julia is giving up all the codes you have written in other languages or your favorite packages from other languages. **This notebook is not about data science, but it's about your next data science project** (if you're working on a data science project in Julia and you want to use functionality from other langages). Here, we will specifically cover Python, R, and C."
   ]
  },
  {
   "cell_type": "markdown",
   "metadata": {},
   "source": [
    "### ⚫Python"
   ]
  },
  {
   "cell_type": "code",
   "execution_count": 1,
   "metadata": {},
   "outputs": [
    {
     "ename": "LoadError",
     "evalue": "ArgumentError: Package PyCall [438e738f-606a-5dbb-bf0a-cddfbfd45ab0] is required but does not seem to be installed:\n - Run `Pkg.instantiate()` to install all recorded dependencies.\n",
     "output_type": "error",
     "traceback": [
      "ArgumentError: Package PyCall [438e738f-606a-5dbb-bf0a-cddfbfd45ab0] is required but does not seem to be installed:\n - Run `Pkg.instantiate()` to install all recorded dependencies.\n",
      "",
      "Stacktrace:",
      " [1] _require(pkg::Base.PkgId)",
      "   @ Base ./loading.jl:1089",
      " [2] require(uuidkey::Base.PkgId)",
      "   @ Base ./loading.jl:1013",
      " [3] require(into::Module, mod::Symbol)",
      "   @ Base ./loading.jl:997",
      " [4] eval",
      "   @ ./boot.jl:373 [inlined]",
      " [5] include_string(mapexpr::typeof(REPL.softscope), mod::Module, code::String, filename::String)",
      "   @ Base ./loading.jl:1196"
     ]
    }
   ],
   "source": [
    "using PyCall"
   ]
  },
  {
   "cell_type": "markdown",
   "metadata": {},
   "source": [
    "You can import any python package..."
   ]
  },
  {
   "cell_type": "code",
   "execution_count": 2,
   "metadata": {},
   "outputs": [
    {
     "ename": "LoadError",
     "evalue": "UndefVarError: pyimport not defined",
     "output_type": "error",
     "traceback": [
      "UndefVarError: pyimport not defined",
      "",
      "Stacktrace:",
      " [1] top-level scope",
      "   @ In[2]:1",
      " [2] eval",
      "   @ ./boot.jl:373 [inlined]",
      " [3] include_string(mapexpr::typeof(REPL.softscope), mod::Module, code::String, filename::String)",
      "   @ Base ./loading.jl:1196"
     ]
    }
   ],
   "source": [
    "math = pyimport(\"math\")\n",
    "math.sin(math.pi / 4) # returns ≈ 1/√2 = 0.70710678..."
   ]
  },
  {
   "cell_type": "markdown",
   "metadata": {},
   "source": [
    "Hint: you may need to do:\n",
    "```\n",
    "julia> using Conda\n",
    "julia> Conda.add(\"networkx\")\n",
    "```\n",
    "for the line below to work."
   ]
  },
  {
   "cell_type": "code",
   "execution_count": 3,
   "metadata": {},
   "outputs": [
    {
     "ename": "LoadError",
     "evalue": "UndefVarError: pyimport not defined",
     "output_type": "error",
     "traceback": [
      "UndefVarError: pyimport not defined",
      "",
      "Stacktrace:",
      " [1] top-level scope",
      "   @ In[3]:1",
      " [2] eval",
      "   @ ./boot.jl:373 [inlined]",
      " [3] include_string(mapexpr::typeof(REPL.softscope), mod::Module, code::String, filename::String)",
      "   @ Base ./loading.jl:1196"
     ]
    }
   ],
   "source": [
    "python_networkx = pyimport(\"networkx\")"
   ]
  },
  {
   "cell_type": "markdown",
   "metadata": {},
   "source": [
    "You can also write your own Python code as follows"
   ]
  },
  {
   "cell_type": "code",
   "execution_count": 4,
   "metadata": {},
   "outputs": [
    {
     "ename": "LoadError",
     "evalue": "LoadError: UndefVarError: @py_str not defined\nin expression starting at In[4]:1",
     "output_type": "error",
     "traceback": [
      "LoadError: UndefVarError: @py_str not defined\nin expression starting at In[4]:1",
      "",
      "Stacktrace:",
      " [1] top-level scope",
      "   @ :0",
      " [2] eval",
      "   @ ./boot.jl:373 [inlined]",
      " [3] include_string(mapexpr::typeof(REPL.softscope), mod::Module, code::String, filename::String)",
      "   @ Base ./loading.jl:1196"
     ]
    }
   ],
   "source": [
    "py\"\"\"\n",
    "import numpy\n",
    "def find_best_fit_python(xvals,yvals):\n",
    "    meanx = numpy.mean(xvals)\n",
    "    meany = numpy.mean(yvals)\n",
    "    stdx = numpy.std(xvals)\n",
    "    stdy = numpy.std(yvals)\n",
    "    r = numpy.corrcoef(xvals,yvals)[0][1]\n",
    "    a = r*stdy/stdx\n",
    "    b = meany - a*meanx\n",
    "    return a,b\n",
    "\"\"\""
   ]
  },
  {
   "cell_type": "code",
   "execution_count": 5,
   "metadata": {},
   "outputs": [
    {
     "ename": "LoadError",
     "evalue": "LoadError: UndefVarError: @py_str not defined\nin expression starting at In[5]:3",
     "output_type": "error",
     "traceback": [
      "LoadError: UndefVarError: @py_str not defined\nin expression starting at In[5]:3",
      "",
      "Stacktrace:",
      " [1] top-level scope",
      "   @ :0",
      " [2] eval",
      "   @ ./boot.jl:373 [inlined]",
      " [3] include_string(mapexpr::typeof(REPL.softscope), mod::Module, code::String, filename::String)",
      "   @ Base ./loading.jl:1196"
     ]
    }
   ],
   "source": [
    "xvals = repeat(1:0.5:10, inner=2)\n",
    "yvals = 3 .+ xvals .+ 2 .* rand(length(xvals)) .-1\n",
    "find_best_fit_python = py\"find_best_fit_python\"\n",
    "a,b = find_best_fit_python(xvals,yvals)"
   ]
  },
  {
   "cell_type": "markdown",
   "metadata": {},
   "source": [
    "If the above python code was in a file called `fit_linear.py`, you can call it as follows:\n",
    "```\n",
    "python_linear_fit = pyimport(\"fit_linear\") \n",
    "python_linear_fit.find_best_fit_python(xvals,yvals)```"
   ]
  },
  {
   "cell_type": "markdown",
   "metadata": {},
   "source": [
    "### ⚫R code"
   ]
  },
  {
   "cell_type": "code",
   "execution_count": 6,
   "metadata": {},
   "outputs": [
    {
     "ename": "LoadError",
     "evalue": "ArgumentError: Package RCall [6f49c342-dc21-5d91-9882-a32aef131414] is required but does not seem to be installed:\n - Run `Pkg.instantiate()` to install all recorded dependencies.\n",
     "output_type": "error",
     "traceback": [
      "ArgumentError: Package RCall [6f49c342-dc21-5d91-9882-a32aef131414] is required but does not seem to be installed:\n - Run `Pkg.instantiate()` to install all recorded dependencies.\n",
      "",
      "Stacktrace:",
      " [1] _require(pkg::Base.PkgId)",
      "   @ Base ./loading.jl:1089",
      " [2] require(uuidkey::Base.PkgId)",
      "   @ Base ./loading.jl:1013",
      " [3] require(into::Module, mod::Symbol)",
      "   @ Base ./loading.jl:997",
      " [4] eval",
      "   @ ./boot.jl:373 [inlined]",
      " [5] include_string(mapexpr::typeof(REPL.softscope), mod::Module, code::String, filename::String)",
      "   @ Base ./loading.jl:1196"
     ]
    }
   ],
   "source": [
    "using RCall"
   ]
  },
  {
   "cell_type": "markdown",
   "metadata": {},
   "source": [
    "`$` can switch to an `R` REPL from julia's REPL. We'll take a look..."
   ]
  },
  {
   "cell_type": "code",
   "execution_count": 7,
   "metadata": {},
   "outputs": [
    {
     "ename": "LoadError",
     "evalue": "UndefVarError: rcall not defined",
     "output_type": "error",
     "traceback": [
      "UndefVarError: rcall not defined",
      "",
      "Stacktrace:",
      " [1] top-level scope",
      "   @ In[7]:2",
      " [2] eval",
      "   @ ./boot.jl:373 [inlined]",
      " [3] include_string(mapexpr::typeof(REPL.softscope), mod::Module, code::String, filename::String)",
      "   @ Base ./loading.jl:1196"
     ]
    }
   ],
   "source": [
    "# we can use the rcall function\n",
    "r = rcall(:sum, Float64[1.0, 4.0, 6.0])"
   ]
  },
  {
   "cell_type": "code",
   "execution_count": 8,
   "metadata": {},
   "outputs": [
    {
     "ename": "LoadError",
     "evalue": "UndefVarError: r not defined",
     "output_type": "error",
     "traceback": [
      "UndefVarError: r not defined",
      "",
      "Stacktrace:",
      " [1] top-level scope",
      "   @ In[8]:1",
      " [2] eval",
      "   @ ./boot.jl:373 [inlined]",
      " [3] include_string(mapexpr::typeof(REPL.softscope), mod::Module, code::String, filename::String)",
      "   @ Base ./loading.jl:1196"
     ]
    }
   ],
   "source": [
    "typeof(r[1])"
   ]
  },
  {
   "cell_type": "markdown",
   "metadata": {},
   "source": [
    "The `@rput` allows you to put julia variable in the `R` context."
   ]
  },
  {
   "cell_type": "code",
   "execution_count": 9,
   "metadata": {},
   "outputs": [
    {
     "ename": "LoadError",
     "evalue": "LoadError: UndefVarError: @rput not defined\nin expression starting at In[9]:2",
     "output_type": "error",
     "traceback": [
      "LoadError: UndefVarError: @rput not defined\nin expression starting at In[9]:2",
      "",
      "Stacktrace:",
      " [1] top-level scope",
      "   @ :0",
      " [2] eval",
      "   @ ./boot.jl:373 [inlined]",
      " [3] include_string(mapexpr::typeof(REPL.softscope), mod::Module, code::String, filename::String)",
      "   @ Base ./loading.jl:1196"
     ]
    }
   ],
   "source": [
    "z = 1\n",
    "@rput z"
   ]
  },
  {
   "cell_type": "code",
   "execution_count": 10,
   "metadata": {},
   "outputs": [
    {
     "ename": "LoadError",
     "evalue": "LoadError: UndefVarError: @R_str not defined\nin expression starting at In[10]:1",
     "output_type": "error",
     "traceback": [
      "LoadError: UndefVarError: @R_str not defined\nin expression starting at In[10]:1",
      "",
      "Stacktrace:",
      " [1] top-level scope",
      "   @ :0",
      " [2] eval",
      "   @ ./boot.jl:373 [inlined]",
      " [3] include_string(mapexpr::typeof(REPL.softscope), mod::Module, code::String, filename::String)",
      "   @ Base ./loading.jl:1196"
     ]
    }
   ],
   "source": [
    "r = R\"z+z\""
   ]
  },
  {
   "cell_type": "code",
   "execution_count": 11,
   "metadata": {},
   "outputs": [
    {
     "ename": "LoadError",
     "evalue": "UndefVarError: r not defined",
     "output_type": "error",
     "traceback": [
      "UndefVarError: r not defined",
      "",
      "Stacktrace:",
      " [1] top-level scope",
      "   @ In[11]:1",
      " [2] eval",
      "   @ ./boot.jl:373 [inlined]",
      " [3] include_string(mapexpr::typeof(REPL.softscope), mod::Module, code::String, filename::String)",
      "   @ Base ./loading.jl:1196"
     ]
    }
   ],
   "source": [
    "r[1]"
   ]
  },
  {
   "cell_type": "code",
   "execution_count": null,
   "metadata": {},
   "outputs": [],
   "source": [
    "x = randn(10)"
   ]
  },
  {
   "cell_type": "markdown",
   "metadata": {},
   "source": [
    "You can apply R functions on julia variables"
   ]
  },
  {
   "cell_type": "code",
   "execution_count": null,
   "metadata": {},
   "outputs": [],
   "source": [
    "@rimport base as rbase\n",
    "rbase.sum([1, 2, 3])"
   ]
  },
  {
   "cell_type": "markdown",
   "metadata": {},
   "source": [
    "Hint: for the code below to work, you will need to type `$` in the REPL followed by:\n",
    "```\n",
    "install.packages(\"boot\")\n",
    "```\n",
    "the `$` will enter you into the R REPL mode."
   ]
  },
  {
   "cell_type": "code",
   "execution_count": null,
   "metadata": {},
   "outputs": [],
   "source": [
    "@rlibrary boot"
   ]
  },
  {
   "cell_type": "code",
   "execution_count": null,
   "metadata": {},
   "outputs": [],
   "source": [
    "R\"t.test($x)\""
   ]
  },
  {
   "cell_type": "markdown",
   "metadata": {},
   "source": [
    "The equivalent in Julia would be"
   ]
  },
  {
   "cell_type": "code",
   "execution_count": null,
   "metadata": {},
   "outputs": [],
   "source": [
    "using HypothesisTests\n",
    "OneSampleTTest(x)"
   ]
  },
  {
   "cell_type": "markdown",
   "metadata": {},
   "source": [
    "### ⚫C code\n",
    "Calling standard libraries is easy"
   ]
  },
  {
   "cell_type": "code",
   "execution_count": null,
   "metadata": {},
   "outputs": [],
   "source": [
    "t = ccall(:clock, Int32, ())"
   ]
  },
  {
   "cell_type": "markdown",
   "metadata": {},
   "source": [
    "Can look at Python and C/C++ examples here: https://github.com/xorJane/Excelling-at-Julia-Basics-and-Beyond/blob/master/JuliaCon2019_Huda/Julia%20Wrappers.ipynb\n",
    "```\n",
    "ccall((:hello_world_repeated,\"hello_world_lib.dylib\"),\n",
    "    Int64,\n",
    "    (Int64,),\n",
    "    10)\n",
    "    ```"
   ]
  },
  {
   "cell_type": "markdown",
   "metadata": {},
   "source": [
    "**Finally**, I would say that this is the only off-topic notebook in this course, and it's a topic that can be covered on its own in a standalone tutorial... Nevertheless, the goal of this notebook is to tell you that porting your code from Python, R, and C should be easy and straight forward in Julia. "
   ]
  },
  {
   "cell_type": "markdown",
   "metadata": {},
   "source": [
    "# Cool finding\n",
    "\n",
    "You can easily call Python, R, C, and Cpp code from Julia!"
   ]
  },
  {
   "cell_type": "code",
   "execution_count": null,
   "metadata": {},
   "outputs": [],
   "source": []
  },
  {
   "cell_type": "code",
   "execution_count": null,
   "metadata": {},
   "outputs": [],
   "source": []
  }
 ],
 "metadata": {
  "kernelspec": {
   "display_name": "Julia 1.7.2",
   "language": "julia",
   "name": "julia-1.7"
  },
  "language_info": {
   "file_extension": ".jl",
   "mimetype": "application/julia",
   "name": "julia",
   "version": "1.6.0"
  }
 },
 "nbformat": 4,
 "nbformat_minor": 4
}
