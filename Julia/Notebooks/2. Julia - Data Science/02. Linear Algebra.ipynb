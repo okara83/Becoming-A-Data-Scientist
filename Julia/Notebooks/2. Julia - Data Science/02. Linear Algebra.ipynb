{
 "cells": [
  {
   "cell_type": "markdown",
   "metadata": {},
   "source": [
    "## Linear Algebra\n",
    "A lot of the Data Science methods we will see in this tutorial require some understanding of linear algebra, and in this notebook we will focus on how Julia handles matrices, the types that exist, and how to call basic linear algebra tasks."
   ]
  },
  {
   "cell_type": "code",
   "execution_count": 1,
   "metadata": {},
   "outputs": [
    {
     "ename": "LoadError",
     "evalue": "ArgumentError: Package Images [916415d5-f1e6-5110-898d-aaa5f9f070e0] is required but does not seem to be installed:\n - Run `Pkg.instantiate()` to install all recorded dependencies.\n",
     "output_type": "error",
     "traceback": [
      "ArgumentError: Package Images [916415d5-f1e6-5110-898d-aaa5f9f070e0] is required but does not seem to be installed:\n - Run `Pkg.instantiate()` to install all recorded dependencies.\n",
      "",
      "Stacktrace:",
      " [1] _require(pkg::Base.PkgId)",
      "   @ Base ./loading.jl:1089",
      " [2] require(uuidkey::Base.PkgId)",
      "   @ Base ./loading.jl:1013",
      " [3] require(into::Module, mod::Symbol)",
      "   @ Base ./loading.jl:997",
      " [4] eval",
      "   @ ./boot.jl:373 [inlined]",
      " [5] include_string(mapexpr::typeof(REPL.softscope), mod::Module, code::String, filename::String)",
      "   @ Base ./loading.jl:1196"
     ]
    }
   ],
   "source": [
    "# some packages we will use\n",
    "using LinearAlgebra\n",
    "using SparseArrays\n",
    "using Images\n",
    "using MAT"
   ]
  },
  {
   "cell_type": "markdown",
   "metadata": {},
   "source": [
    "We will get started with creating a random matrix."
   ]
  },
  {
   "cell_type": "code",
   "execution_count": 2,
   "metadata": {},
   "outputs": [],
   "source": [
    "A = rand(10,10); # created a random matrix of size 10-by-10\n",
    "Atranspose = A' # matrix transpose\n",
    "A = A*Atranspose; # matrix multiplication"
   ]
  },
  {
   "cell_type": "code",
   "execution_count": 3,
   "metadata": {},
   "outputs": [
    {
     "name": "stdout",
     "output_type": "stream",
     "text": [
      "A[11] == A[1, 2] = true\n"
     ]
    }
   ],
   "source": [
    "@show A[11] == A[1,2];"
   ]
  },
  {
   "cell_type": "code",
   "execution_count": 4,
   "metadata": {},
   "outputs": [
    {
     "name": "stdout",
     "output_type": "stream",
     "text": [
      "norm(A * x - b) = 1.2732281025718309e-12\n"
     ]
    }
   ],
   "source": [
    "b = rand(10); #created a random vector of size 10\n",
    "x = A\\b; #x is the solutions to the linear system Ax=b\n",
    "@show norm(A*x-b)\n",
    ";"
   ]
  },
  {
   "cell_type": "markdown",
   "metadata": {},
   "source": [
    "A few things that are noteworthy: \n",
    "- `A` is a `Matrix` type, and `b` is a `Vector` type.\n",
    "- The transpose function creates a matrix of type `Adjoint`.\n",
    "- `\\` is always the recommended way to solve a linear system. You almost never want to call the `inv` function"
   ]
  },
  {
   "cell_type": "code",
   "execution_count": 5,
   "metadata": {},
   "outputs": [
    {
     "name": "stdout",
     "output_type": "stream",
     "text": [
      "typeof(A) = Matrix{Float64}\n",
      "typeof(b) = Vector{Float64}\n",
      "typeof(rand(1, 10)) = Matrix{Float64}\n",
      "typeof(Atranspose) = Adjoint{Float64, Matrix{Float64}}\n"
     ]
    }
   ],
   "source": [
    "@show typeof(A)\n",
    "@show typeof(b)\n",
    "@show typeof(rand(1,10))\n",
    "@show typeof(Atranspose)\n",
    ";"
   ]
  },
  {
   "cell_type": "code",
   "execution_count": 6,
   "metadata": {},
   "outputs": [
    {
     "data": {
      "text/plain": [
       "true"
      ]
     },
     "execution_count": 6,
     "metadata": {},
     "output_type": "execute_result"
    }
   ],
   "source": [
    "Matrix{Float64} == Array{Float64,2}"
   ]
  },
  {
   "cell_type": "code",
   "execution_count": 7,
   "metadata": {},
   "outputs": [
    {
     "data": {
      "text/plain": [
       "true"
      ]
     },
     "execution_count": 7,
     "metadata": {},
     "output_type": "execute_result"
    }
   ],
   "source": [
    "Vector{Float64} == Array{Float64,1}"
   ]
  },
  {
   "cell_type": "code",
   "execution_count": 8,
   "metadata": {},
   "outputs": [
    {
     "data": {
      "text/plain": [
       "10×10 adjoint(::Matrix{Float64}) with eltype Float64:\n",
       " 0.899095   0.567108  0.7495    …  0.342416   0.900006    0.478088\n",
       " 0.357385   0.542398  0.142717     0.186974   0.0105183   0.815349\n",
       " 0.609909   0.226176  0.603221     0.517351   0.874417    0.525564\n",
       " 0.24934    0.470222  0.215289     0.0368718  0.00414774  0.0520776\n",
       " 0.89089    0.740446  0.827303     0.517351   0.118662    0.608627\n",
       " 0.82993    0.883993  0.25841   …  0.0938996  0.873765    0.0213447\n",
       " 0.840542   0.620233  0.191332     0.968538   0.356105    0.255747\n",
       " 0.0631519  0.363387  0.202795     0.558146   0.498329    0.668233\n",
       " 0.694006   0.912154  0.570507     0.580043   0.680721    0.473689\n",
       " 0.574491   0.264694  0.881931     0.599961   0.650271    0.732514"
      ]
     },
     "execution_count": 8,
     "metadata": {},
     "output_type": "execute_result"
    }
   ],
   "source": [
    "Atranspose"
   ]
  },
  {
   "cell_type": "markdown",
   "metadata": {},
   "source": [
    "`adjoint` in julia is a lazy adjoint -- often, we can easily perform Linear Algebra operations such as `A*A'` without actually transposing the matrix."
   ]
  },
  {
   "cell_type": "code",
   "execution_count": 9,
   "metadata": {},
   "outputs": [
    {
     "name": "stdout",
     "output_type": "stream",
     "text": [
      "search: \u001b[0m\u001b[1ma\u001b[22m\u001b[0m\u001b[1md\u001b[22m\u001b[0m\u001b[1mj\u001b[22m\u001b[0m\u001b[1mo\u001b[22m\u001b[0m\u001b[1mi\u001b[22m\u001b[0m\u001b[1mn\u001b[22m\u001b[0m\u001b[1mt\u001b[22m \u001b[0m\u001b[1ma\u001b[22m\u001b[0m\u001b[1md\u001b[22m\u001b[0m\u001b[1mj\u001b[22m\u001b[0m\u001b[1mo\u001b[22m\u001b[0m\u001b[1mi\u001b[22m\u001b[0m\u001b[1mn\u001b[22m\u001b[0m\u001b[1mt\u001b[22m! \u001b[0m\u001b[1mA\u001b[22m\u001b[0m\u001b[1md\u001b[22m\u001b[0m\u001b[1mj\u001b[22m\u001b[0m\u001b[1mo\u001b[22m\u001b[0m\u001b[1mi\u001b[22m\u001b[0m\u001b[1mn\u001b[22m\u001b[0m\u001b[1mt\u001b[22m\n",
      "\n"
     ]
    },
    {
     "data": {
      "text/latex": [
       "\\begin{verbatim}\n",
       "A'\n",
       "adjoint(A)\n",
       "\\end{verbatim}\n",
       "Lazy adjoint (conjugate transposition). Note that \\texttt{adjoint} is applied recursively to elements.\n",
       "\n",
       "For number types, \\texttt{adjoint} returns the complex conjugate, and therefore it is equivalent to the identity function for real numbers.\n",
       "\n",
       "This operation is intended for linear algebra usage - for general data manipulation see \\href{@ref Base.permutedims}{\\texttt{permutedims}}.\n",
       "\n",
       "\\section{Examples}\n",
       "\\begin{verbatim}\n",
       "julia> A = [3+2im 9+2im; 8+7im  4+6im]\n",
       "2×2 Matrix{Complex{Int64}}:\n",
       " 3+2im  9+2im\n",
       " 8+7im  4+6im\n",
       "\n",
       "julia> adjoint(A)\n",
       "2×2 adjoint(::Matrix{Complex{Int64}}) with eltype Complex{Int64}:\n",
       " 3-2im  8-7im\n",
       " 9-2im  4-6im\n",
       "\n",
       "julia> x = [3, 4im]\n",
       "2-element Vector{Complex{Int64}}:\n",
       " 3 + 0im\n",
       " 0 + 4im\n",
       "\n",
       "julia> x'x\n",
       "25 + 0im\n",
       "\\end{verbatim}\n"
      ],
      "text/markdown": [
       "```\n",
       "A'\n",
       "adjoint(A)\n",
       "```\n",
       "\n",
       "Lazy adjoint (conjugate transposition). Note that `adjoint` is applied recursively to elements.\n",
       "\n",
       "For number types, `adjoint` returns the complex conjugate, and therefore it is equivalent to the identity function for real numbers.\n",
       "\n",
       "This operation is intended for linear algebra usage - for general data manipulation see [`permutedims`](@ref Base.permutedims).\n",
       "\n",
       "# Examples\n",
       "\n",
       "```jldoctest\n",
       "julia> A = [3+2im 9+2im; 8+7im  4+6im]\n",
       "2×2 Matrix{Complex{Int64}}:\n",
       " 3+2im  9+2im\n",
       " 8+7im  4+6im\n",
       "\n",
       "julia> adjoint(A)\n",
       "2×2 adjoint(::Matrix{Complex{Int64}}) with eltype Complex{Int64}:\n",
       " 3-2im  8-7im\n",
       " 9-2im  4-6im\n",
       "\n",
       "julia> x = [3, 4im]\n",
       "2-element Vector{Complex{Int64}}:\n",
       " 3 + 0im\n",
       " 0 + 4im\n",
       "\n",
       "julia> x'x\n",
       "25 + 0im\n",
       "```\n"
      ],
      "text/plain": [
       "\u001b[36m  A'\u001b[39m\n",
       "\u001b[36m  adjoint(A)\u001b[39m\n",
       "\n",
       "  Lazy adjoint (conjugate transposition). Note that \u001b[36madjoint\u001b[39m is applied\n",
       "  recursively to elements.\n",
       "\n",
       "  For number types, \u001b[36madjoint\u001b[39m returns the complex conjugate, and therefore it is\n",
       "  equivalent to the identity function for real numbers.\n",
       "\n",
       "  This operation is intended for linear algebra usage - for general data\n",
       "  manipulation see \u001b[36mpermutedims\u001b[39m.\n",
       "\n",
       "\u001b[1m  Examples\u001b[22m\n",
       "\u001b[1m  ≡≡≡≡≡≡≡≡≡≡\u001b[22m\n",
       "\n",
       "\u001b[36m  julia> A = [3+2im 9+2im; 8+7im  4+6im]\u001b[39m\n",
       "\u001b[36m  2×2 Matrix{Complex{Int64}}:\u001b[39m\n",
       "\u001b[36m   3+2im  9+2im\u001b[39m\n",
       "\u001b[36m   8+7im  4+6im\u001b[39m\n",
       "\u001b[36m  \u001b[39m\n",
       "\u001b[36m  julia> adjoint(A)\u001b[39m\n",
       "\u001b[36m  2×2 adjoint(::Matrix{Complex{Int64}}) with eltype Complex{Int64}:\u001b[39m\n",
       "\u001b[36m   3-2im  8-7im\u001b[39m\n",
       "\u001b[36m   9-2im  4-6im\u001b[39m\n",
       "\u001b[36m  \u001b[39m\n",
       "\u001b[36m  julia> x = [3, 4im]\u001b[39m\n",
       "\u001b[36m  2-element Vector{Complex{Int64}}:\u001b[39m\n",
       "\u001b[36m   3 + 0im\u001b[39m\n",
       "\u001b[36m   0 + 4im\u001b[39m\n",
       "\u001b[36m  \u001b[39m\n",
       "\u001b[36m  julia> x'x\u001b[39m\n",
       "\u001b[36m  25 + 0im\u001b[39m"
      ]
     },
     "execution_count": 9,
     "metadata": {},
     "output_type": "execute_result"
    }
   ],
   "source": [
    "?adjoint"
   ]
  },
  {
   "cell_type": "code",
   "execution_count": 10,
   "metadata": {},
   "outputs": [
    {
     "data": {
      "text/plain": [
       "10×10 Matrix{Float64}:\n",
       " 0.899095  0.357385   0.609909  0.24934     …  0.0631519  0.694006  0.574491\n",
       " 0.567108  0.542398   0.226176  0.470222       0.363387   0.912154  0.264694\n",
       " 0.7495    0.142717   0.603221  0.215289       0.202795   0.570507  0.881931\n",
       " 0.690899  0.0266786  0.157873  0.771487       0.47062    0.51957   0.687684\n",
       " 0.669825  0.272774   0.800388  0.976454       0.252502   0.583298  0.956372\n",
       " 0.487581  0.306493   0.730844  0.835914    …  0.912366   0.444309  0.665927\n",
       " 0.973518  0.953743   0.515818  0.267981       0.168941   0.200608  0.527866\n",
       " 0.342416  0.186974   0.517351  0.0368718      0.558146   0.580043  0.599961\n",
       " 0.900006  0.0105183  0.874417  0.00414774     0.498329   0.680721  0.650271\n",
       " 0.478088  0.815349   0.525564  0.0520776      0.668233   0.473689  0.732514"
      ]
     },
     "execution_count": 10,
     "metadata": {},
     "output_type": "execute_result"
    }
   ],
   "source": [
    "Atranspose.parent"
   ]
  },
  {
   "cell_type": "code",
   "execution_count": 11,
   "metadata": {},
   "outputs": [
    {
     "data": {
      "text/plain": [
       "800"
      ]
     },
     "execution_count": 11,
     "metadata": {},
     "output_type": "execute_result"
    }
   ],
   "source": [
    "sizeof(A)"
   ]
  },
  {
   "cell_type": "markdown",
   "metadata": {},
   "source": [
    "That's because it's an array of Float64's, each is of size 8 bytes, and there are 10*10 numbers."
   ]
  },
  {
   "cell_type": "code",
   "execution_count": 12,
   "metadata": {},
   "outputs": [
    {
     "data": {
      "text/plain": [
       "10×10 Matrix{Float64}:\n",
       " 0.899095   0.567108  0.7495    …  0.342416   0.900006    0.478088\n",
       " 0.357385   0.542398  0.142717     0.186974   0.0105183   0.815349\n",
       " 0.609909   0.226176  0.603221     0.517351   0.874417    0.525564\n",
       " 0.24934    0.470222  0.215289     0.0368718  0.00414774  0.0520776\n",
       " 0.89089    0.740446  0.827303     0.517351   0.118662    0.608627\n",
       " 0.82993    0.883993  0.25841   …  0.0938996  0.873765    0.0213447\n",
       " 0.840542   0.620233  0.191332     0.968538   0.356105    0.255747\n",
       " 0.0631519  0.363387  0.202795     0.558146   0.498329    0.668233\n",
       " 0.694006   0.912154  0.570507     0.580043   0.680721    0.473689\n",
       " 0.574491   0.264694  0.881931     0.599961   0.650271    0.732514"
      ]
     },
     "execution_count": 12,
     "metadata": {},
     "output_type": "execute_result"
    }
   ],
   "source": [
    "# To actually copy the matrix:\n",
    "B = copy(Atranspose)"
   ]
  },
  {
   "cell_type": "code",
   "execution_count": 13,
   "metadata": {},
   "outputs": [
    {
     "data": {
      "text/plain": [
       "800"
      ]
     },
     "execution_count": 13,
     "metadata": {},
     "output_type": "execute_result"
    }
   ],
   "source": [
    "sizeof(B)"
   ]
  },
  {
   "cell_type": "markdown",
   "metadata": {},
   "source": [
    "The `\\` operator allows you to solve a system of linear equations, and often uses a suitable matrix factorization to solve the problem. We will cover factorizations next."
   ]
  },
  {
   "cell_type": "code",
   "execution_count": 14,
   "metadata": {},
   "outputs": [
    {
     "name": "stdout",
     "output_type": "stream",
     "text": [
      "search: \u001b[0m\u001b[1m\\\u001b[22m\n",
      "\n"
     ]
    },
    {
     "data": {
      "text/latex": [
       "\\begin{verbatim}\n",
       "\\(x, y)\n",
       "\\end{verbatim}\n",
       "Left division operator: multiplication of \\texttt{y} by the inverse of \\texttt{x} on the left. Gives floating-point results for integer arguments.\n",
       "\n",
       "\\section{Examples}\n",
       "\\begin{verbatim}\n",
       "julia> 3 \\ 6\n",
       "2.0\n",
       "\n",
       "julia> inv(3) * 6\n",
       "2.0\n",
       "\n",
       "julia> A = [4 3; 2 1]; x = [5, 6];\n",
       "\n",
       "julia> A \\ x\n",
       "2-element Vector{Float64}:\n",
       "  6.5\n",
       " -7.0\n",
       "\n",
       "julia> inv(A) * x\n",
       "2-element Vector{Float64}:\n",
       "  6.5\n",
       " -7.0\n",
       "\\end{verbatim}\n",
       "\\rule{\\textwidth}{1pt}\n",
       "\\begin{verbatim}\n",
       "\\(A, B)\n",
       "\\end{verbatim}\n",
       "Matrix division using a polyalgorithm. For input matrices \\texttt{A} and \\texttt{B}, the result \\texttt{X} is such that \\texttt{A*X == B} when \\texttt{A} is square. The solver that is used depends upon the structure of \\texttt{A}.  If \\texttt{A} is upper or lower triangular (or diagonal), no factorization of \\texttt{A} is required and the system is solved with either forward or backward substitution. For non-triangular square matrices, an LU factorization is used.\n",
       "\n",
       "For rectangular \\texttt{A} the result is the minimum-norm least squares solution computed by a pivoted QR factorization of \\texttt{A} and a rank estimate of \\texttt{A} based on the R factor.\n",
       "\n",
       "When \\texttt{A} is sparse, a similar polyalgorithm is used. For indefinite matrices, the \\texttt{LDLt} factorization does not use pivoting during the numerical factorization and therefore the procedure can fail even for invertible matrices.\n",
       "\n",
       "See also: \\href{@ref}{\\texttt{factorize}}, \\href{@ref}{\\texttt{pinv}}.\n",
       "\n",
       "\\section{Examples}\n",
       "\\begin{verbatim}\n",
       "julia> A = [1 0; 1 -2]; B = [32; -4];\n",
       "\n",
       "julia> X = A \\ B\n",
       "2-element Vector{Float64}:\n",
       " 32.0\n",
       " 18.0\n",
       "\n",
       "julia> A * X == B\n",
       "true\n",
       "\\end{verbatim}\n",
       "\\rule{\\textwidth}{1pt}\n",
       "\\begin{verbatim}\n",
       "(\\)(F::QRSparse, B::StridedVecOrMat)\n",
       "\\end{verbatim}\n",
       "Solve the least squares problem $\\min\\|Ax - b\\|^2$ or the linear system of equations $Ax=b$ when \\texttt{F} is the sparse QR factorization of $A$. A basic solution is returned when the problem is underdetermined.\n",
       "\n",
       "\\section{Examples}\n",
       "\\begin{verbatim}\n",
       "julia> A = sparse([1,2,4], [1,1,1], [1.0,1.0,1.0], 4, 2)\n",
       "4×2 SparseMatrixCSC{Float64, Int64} with 3 stored entries:\n",
       " 1.0   ⋅\n",
       " 1.0   ⋅\n",
       "  ⋅    ⋅\n",
       " 1.0   ⋅\n",
       "\n",
       "julia> qr(A)\\fill(1.0, 4)\n",
       "2-element Vector{Float64}:\n",
       " 1.0\n",
       " 0.0\n",
       "\\end{verbatim}\n"
      ],
      "text/markdown": [
       "```\n",
       "\\(x, y)\n",
       "```\n",
       "\n",
       "Left division operator: multiplication of `y` by the inverse of `x` on the left. Gives floating-point results for integer arguments.\n",
       "\n",
       "# Examples\n",
       "\n",
       "```jldoctest\n",
       "julia> 3 \\ 6\n",
       "2.0\n",
       "\n",
       "julia> inv(3) * 6\n",
       "2.0\n",
       "\n",
       "julia> A = [4 3; 2 1]; x = [5, 6];\n",
       "\n",
       "julia> A \\ x\n",
       "2-element Vector{Float64}:\n",
       "  6.5\n",
       " -7.0\n",
       "\n",
       "julia> inv(A) * x\n",
       "2-element Vector{Float64}:\n",
       "  6.5\n",
       " -7.0\n",
       "```\n",
       "\n",
       "---\n",
       "\n",
       "```\n",
       "\\(A, B)\n",
       "```\n",
       "\n",
       "Matrix division using a polyalgorithm. For input matrices `A` and `B`, the result `X` is such that `A*X == B` when `A` is square. The solver that is used depends upon the structure of `A`.  If `A` is upper or lower triangular (or diagonal), no factorization of `A` is required and the system is solved with either forward or backward substitution. For non-triangular square matrices, an LU factorization is used.\n",
       "\n",
       "For rectangular `A` the result is the minimum-norm least squares solution computed by a pivoted QR factorization of `A` and a rank estimate of `A` based on the R factor.\n",
       "\n",
       "When `A` is sparse, a similar polyalgorithm is used. For indefinite matrices, the `LDLt` factorization does not use pivoting during the numerical factorization and therefore the procedure can fail even for invertible matrices.\n",
       "\n",
       "See also: [`factorize`](@ref), [`pinv`](@ref).\n",
       "\n",
       "# Examples\n",
       "\n",
       "```jldoctest\n",
       "julia> A = [1 0; 1 -2]; B = [32; -4];\n",
       "\n",
       "julia> X = A \\ B\n",
       "2-element Vector{Float64}:\n",
       " 32.0\n",
       " 18.0\n",
       "\n",
       "julia> A * X == B\n",
       "true\n",
       "```\n",
       "\n",
       "---\n",
       "\n",
       "```\n",
       "(\\)(F::QRSparse, B::StridedVecOrMat)\n",
       "```\n",
       "\n",
       "Solve the least squares problem $\\min\\|Ax - b\\|^2$ or the linear system of equations $Ax=b$ when `F` is the sparse QR factorization of $A$. A basic solution is returned when the problem is underdetermined.\n",
       "\n",
       "# Examples\n",
       "\n",
       "```jldoctest\n",
       "julia> A = sparse([1,2,4], [1,1,1], [1.0,1.0,1.0], 4, 2)\n",
       "4×2 SparseMatrixCSC{Float64, Int64} with 3 stored entries:\n",
       " 1.0   ⋅\n",
       " 1.0   ⋅\n",
       "  ⋅    ⋅\n",
       " 1.0   ⋅\n",
       "\n",
       "julia> qr(A)\\fill(1.0, 4)\n",
       "2-element Vector{Float64}:\n",
       " 1.0\n",
       " 0.0\n",
       "```\n"
      ],
      "text/plain": [
       "\u001b[36m  \\(x, y)\u001b[39m\n",
       "\n",
       "  Left division operator: multiplication of \u001b[36my\u001b[39m by the inverse of \u001b[36mx\u001b[39m on the left.\n",
       "  Gives floating-point results for integer arguments.\n",
       "\n",
       "\u001b[1m  Examples\u001b[22m\n",
       "\u001b[1m  ≡≡≡≡≡≡≡≡≡≡\u001b[22m\n",
       "\n",
       "\u001b[36m  julia> 3 \\ 6\u001b[39m\n",
       "\u001b[36m  2.0\u001b[39m\n",
       "\u001b[36m  \u001b[39m\n",
       "\u001b[36m  julia> inv(3) * 6\u001b[39m\n",
       "\u001b[36m  2.0\u001b[39m\n",
       "\u001b[36m  \u001b[39m\n",
       "\u001b[36m  julia> A = [4 3; 2 1]; x = [5, 6];\u001b[39m\n",
       "\u001b[36m  \u001b[39m\n",
       "\u001b[36m  julia> A \\ x\u001b[39m\n",
       "\u001b[36m  2-element Vector{Float64}:\u001b[39m\n",
       "\u001b[36m    6.5\u001b[39m\n",
       "\u001b[36m   -7.0\u001b[39m\n",
       "\u001b[36m  \u001b[39m\n",
       "\u001b[36m  julia> inv(A) * x\u001b[39m\n",
       "\u001b[36m  2-element Vector{Float64}:\u001b[39m\n",
       "\u001b[36m    6.5\u001b[39m\n",
       "\u001b[36m   -7.0\u001b[39m\n",
       "\n",
       "  ────────────────────────────────────────────────────────────────────────────\n",
       "\n",
       "\u001b[36m  \\(A, B)\u001b[39m\n",
       "\n",
       "  Matrix division using a polyalgorithm. For input matrices \u001b[36mA\u001b[39m and \u001b[36mB\u001b[39m, the\n",
       "  result \u001b[36mX\u001b[39m is such that \u001b[36mA*X == B\u001b[39m when \u001b[36mA\u001b[39m is square. The solver that is used\n",
       "  depends upon the structure of \u001b[36mA\u001b[39m. If \u001b[36mA\u001b[39m is upper or lower triangular (or\n",
       "  diagonal), no factorization of \u001b[36mA\u001b[39m is required and the system is solved with\n",
       "  either forward or backward substitution. For non-triangular square matrices,\n",
       "  an LU factorization is used.\n",
       "\n",
       "  For rectangular \u001b[36mA\u001b[39m the result is the minimum-norm least squares solution\n",
       "  computed by a pivoted QR factorization of \u001b[36mA\u001b[39m and a rank estimate of \u001b[36mA\u001b[39m based\n",
       "  on the R factor.\n",
       "\n",
       "  When \u001b[36mA\u001b[39m is sparse, a similar polyalgorithm is used. For indefinite matrices,\n",
       "  the \u001b[36mLDLt\u001b[39m factorization does not use pivoting during the numerical\n",
       "  factorization and therefore the procedure can fail even for invertible\n",
       "  matrices.\n",
       "\n",
       "  See also: \u001b[36mfactorize\u001b[39m, \u001b[36mpinv\u001b[39m.\n",
       "\n",
       "\u001b[1m  Examples\u001b[22m\n",
       "\u001b[1m  ≡≡≡≡≡≡≡≡≡≡\u001b[22m\n",
       "\n",
       "\u001b[36m  julia> A = [1 0; 1 -2]; B = [32; -4];\u001b[39m\n",
       "\u001b[36m  \u001b[39m\n",
       "\u001b[36m  julia> X = A \\ B\u001b[39m\n",
       "\u001b[36m  2-element Vector{Float64}:\u001b[39m\n",
       "\u001b[36m   32.0\u001b[39m\n",
       "\u001b[36m   18.0\u001b[39m\n",
       "\u001b[36m  \u001b[39m\n",
       "\u001b[36m  julia> A * X == B\u001b[39m\n",
       "\u001b[36m  true\u001b[39m\n",
       "\n",
       "  ────────────────────────────────────────────────────────────────────────────\n",
       "\n",
       "\u001b[36m  (\\)(F::QRSparse, B::StridedVecOrMat)\u001b[39m\n",
       "\n",
       "  Solve the least squares problem \u001b[35m\\min\\|Ax - b\\|^2\u001b[39m or the linear system of\n",
       "  equations \u001b[35mAx=b\u001b[39m when \u001b[36mF\u001b[39m is the sparse QR factorization of \u001b[35mA\u001b[39m. A basic solution\n",
       "  is returned when the problem is underdetermined.\n",
       "\n",
       "\u001b[1m  Examples\u001b[22m\n",
       "\u001b[1m  ≡≡≡≡≡≡≡≡≡≡\u001b[22m\n",
       "\n",
       "\u001b[36m  julia> A = sparse([1,2,4], [1,1,1], [1.0,1.0,1.0], 4, 2)\u001b[39m\n",
       "\u001b[36m  4×2 SparseMatrixCSC{Float64, Int64} with 3 stored entries:\u001b[39m\n",
       "\u001b[36m   1.0   ⋅\u001b[39m\n",
       "\u001b[36m   1.0   ⋅\u001b[39m\n",
       "\u001b[36m    ⋅    ⋅\u001b[39m\n",
       "\u001b[36m   1.0   ⋅\u001b[39m\n",
       "\u001b[36m  \u001b[39m\n",
       "\u001b[36m  julia> qr(A)\\fill(1.0, 4)\u001b[39m\n",
       "\u001b[36m  2-element Vector{Float64}:\u001b[39m\n",
       "\u001b[36m   1.0\u001b[39m\n",
       "\u001b[36m   0.0\u001b[39m"
      ]
     },
     "execution_count": 14,
     "metadata": {},
     "output_type": "execute_result"
    }
   ],
   "source": [
    "?\\"
   ]
  },
  {
   "cell_type": "markdown",
   "metadata": {},
   "source": [
    "### 🟢Factorizations\n",
    "A common tool used in Linear Algebra is matrix factorizations. These factorizations are often used to solve linear systems like `Ax=b`, and as we will see later in this tutorial... `Ax=b` comes up in a lot of Data Science problems"
   ]
  },
  {
   "cell_type": "markdown",
   "metadata": {},
   "source": [
    "#### LU factorization\n",
    "L\\*U = P\\*A"
   ]
  },
  {
   "cell_type": "code",
   "execution_count": 15,
   "metadata": {},
   "outputs": [
    {
     "data": {
      "text/plain": [
       "LU{Float64, Matrix{Float64}}\n",
       "L factor:\n",
       "10×10 Matrix{Float64}:\n",
       " 1.0        0.0          0.0        0.0        …   0.0        0.0        0.0\n",
       " 0.84153    1.0          0.0        0.0            0.0        0.0        0.0\n",
       " 0.725545  -0.267172     1.0        0.0            0.0        0.0        0.0\n",
       " 0.65913    0.458668     0.496967   1.0            0.0        0.0        0.0\n",
       " 0.958321   0.0720283    0.828623   0.580649       0.0        0.0        0.0\n",
       " 0.860511   0.708859     0.461131   0.788741   …   0.0        0.0        0.0\n",
       " 0.875501   0.112092    -0.230278   0.0821518      0.0        0.0        0.0\n",
       " 0.647973   0.00349253   0.270735   0.18293        1.0        0.0        0.0\n",
       " 0.766866  -0.0969748    0.362346   0.325745      -0.106514   1.0        0.0\n",
       " 0.599198   0.274241     0.943496  -0.298024       0.662348  -0.0165358  1.0\n",
       "U factor:\n",
       "10×10 Matrix{Float64}:\n",
       " 4.37491  3.68161    3.17419   2.88363   4.19256   …   3.35497     2.62144\n",
       " 0.0      0.538414  -0.143849  0.246953  0.038781     -0.0522126   0.147655\n",
       " 0.0      0.0        0.583113  0.289787  0.48318       0.211289    0.550165\n",
       " 0.0      0.0        0.0       0.55927   0.324739      0.182179   -0.166676\n",
       " 0.0      0.0        0.0       0.0       0.417152     -0.305984    0.0543979\n",
       " 0.0      0.0        0.0       0.0       0.0       …   0.436225    0.24623\n",
       " 0.0      0.0        0.0       0.0       0.0          -0.0699431   0.375596\n",
       " 0.0      0.0        0.0       0.0       0.0          -0.0682482   0.424395\n",
       " 0.0      0.0        0.0       0.0       0.0           0.298093   -0.00492922\n",
       " 0.0      0.0        0.0       0.0       0.0           0.0         0.00149172"
      ]
     },
     "execution_count": 15,
     "metadata": {},
     "output_type": "execute_result"
    }
   ],
   "source": [
    "luA = lu(A)"
   ]
  },
  {
   "cell_type": "code",
   "execution_count": 16,
   "metadata": {},
   "outputs": [
    {
     "data": {
      "text/plain": [
       "1.88411095042053e-15"
      ]
     },
     "execution_count": 16,
     "metadata": {},
     "output_type": "execute_result"
    }
   ],
   "source": [
    "norm(luA.L*luA.U - luA.P*A)"
   ]
  },
  {
   "cell_type": "markdown",
   "metadata": {},
   "source": [
    "#### QR factorization\n",
    "Q\\*R = A"
   ]
  },
  {
   "cell_type": "code",
   "execution_count": 17,
   "metadata": {},
   "outputs": [
    {
     "data": {
      "text/plain": [
       "LinearAlgebra.QRCompactWY{Float64, Matrix{Float64}}\n",
       "Q factor:\n",
       "10×10 LinearAlgebra.QRCompactWYQ{Float64, Matrix{Float64}}:\n",
       " -0.393402   0.240188    0.404577    0.155726   …   0.297149    0.626583\n",
       " -0.33106   -0.650887    0.167787    0.379969      -0.189573   -0.276244\n",
       " -0.285431   0.402168   -0.411695    0.176959       0.458561   -0.452107\n",
       " -0.259303  -0.232935   -0.185937   -0.580353       0.0970939   0.177018\n",
       " -0.377006   0.168736   -0.247324   -0.225245      -0.528909   -0.000122666\n",
       " -0.338527  -0.397982   -0.12074    -0.309283   …   0.406587    0.00606434\n",
       " -0.344424   0.114669    0.507876    0.0633789      0.015783   -0.294585\n",
       " -0.254914   0.152656    0.0581301  -0.0205874      0.0194476  -0.251674\n",
       " -0.301687   0.266913    0.0547462  -0.138236      -0.44734     0.00629991\n",
       " -0.235726  -0.0900111  -0.513846    0.541579      -0.1013      0.380985\n",
       "R factor:\n",
       "10×10 Matrix{Float64}:\n",
       " -11.1207  -9.74376   -8.6678    -8.33006   …  -9.2051    -7.84364\n",
       "   0.0     -0.631191   0.325737  -0.377954      0.151659   0.00463901\n",
       "   0.0      0.0       -0.776068  -0.498345     -0.222297  -0.807106\n",
       "   0.0      0.0        0.0       -0.648796     -0.310389   0.451627\n",
       "   0.0      0.0        0.0        0.0           0.746821  -0.0732324\n",
       "   0.0      0.0        0.0        0.0       …  -0.518971  -0.460795\n",
       "   0.0      0.0        0.0        0.0           0.110782  -0.320031\n",
       "   0.0      0.0        0.0        0.0           0.129665  -0.423519\n",
       "   0.0      0.0        0.0        0.0          -0.13285    0.00204567\n",
       "   0.0      0.0        0.0        0.0           0.0        0.000568324"
      ]
     },
     "execution_count": 17,
     "metadata": {},
     "output_type": "execute_result"
    }
   ],
   "source": [
    "qrA = qr(A)"
   ]
  },
  {
   "cell_type": "code",
   "execution_count": 18,
   "metadata": {},
   "outputs": [
    {
     "data": {
      "text/plain": [
       "1.1512108063996359e-14"
      ]
     },
     "execution_count": 18,
     "metadata": {},
     "output_type": "execute_result"
    }
   ],
   "source": [
    "norm(qrA.Q*qrA.R - A)"
   ]
  },
  {
   "cell_type": "markdown",
   "metadata": {},
   "source": [
    "#### Cholesky factorization, note that A needs to be symmetric positive definite\n",
    "L\\*L' = A "
   ]
  },
  {
   "cell_type": "code",
   "execution_count": 19,
   "metadata": {},
   "outputs": [
    {
     "data": {
      "text/plain": [
       "true"
      ]
     },
     "execution_count": 19,
     "metadata": {},
     "output_type": "execute_result"
    }
   ],
   "source": [
    "isposdef(A)"
   ]
  },
  {
   "cell_type": "code",
   "execution_count": 20,
   "metadata": {},
   "outputs": [
    {
     "data": {
      "text/plain": [
       "Cholesky{Float64, Matrix{Float64}}\n",
       "U factor:\n",
       "10×10 UpperTriangular{Float64, Matrix{Float64}}:\n",
       " 2.09163  1.76017    1.51757   …   1.35532     1.604       1.2533\n",
       "  ⋅       0.733767  -0.196042      0.0025627  -0.0711569   0.201229\n",
       "  ⋅        ⋅         0.763618      0.206738    0.276694    0.720471\n",
       "  ⋅        ⋅          ⋅            0.136803    0.243606   -0.222875\n",
       "  ⋅        ⋅          ⋅            0.0960975  -0.473753    0.0842238\n",
       "  ⋅        ⋅          ⋅        …   0.243754    0.601727    0.339648\n",
       "  ⋅        ⋅          ⋅           -0.189585   -0.0894905   0.480567\n",
       "  ⋅        ⋅          ⋅            0.800464   -0.0852608   0.530186\n",
       "  ⋅        ⋅          ⋅             ⋅          0.545979   -0.00902822\n",
       "  ⋅        ⋅          ⋅             ⋅           ⋅          0.0386228"
      ]
     },
     "execution_count": 20,
     "metadata": {},
     "output_type": "execute_result"
    }
   ],
   "source": [
    "cholA = cholesky(A)"
   ]
  },
  {
   "cell_type": "code",
   "execution_count": 21,
   "metadata": {},
   "outputs": [
    {
     "data": {
      "text/plain": [
       "1.7763568394002505e-15"
      ]
     },
     "execution_count": 21,
     "metadata": {},
     "output_type": "execute_result"
    }
   ],
   "source": [
    "norm(cholA.L*cholA.U - A)"
   ]
  },
  {
   "cell_type": "code",
   "execution_count": 22,
   "metadata": {},
   "outputs": [
    {
     "data": {
      "text/plain": [
       "10×10 LowerTriangular{Float64, Matrix{Float64}}:\n",
       " 2.09163    ⋅           ⋅        …    ⋅           ⋅           ⋅ \n",
       " 1.76017   0.733767     ⋅             ⋅           ⋅           ⋅ \n",
       " 1.51757  -0.196042    0.763618       ⋅           ⋅           ⋅ \n",
       " 1.37865   0.336555    0.379493       ⋅           ⋅           ⋅ \n",
       " 2.00445   0.052852    0.632751       ⋅           ⋅           ⋅ \n",
       " 1.79987   0.520137    0.352128  …    ⋅           ⋅           ⋅ \n",
       " 1.83122   0.0822494  -0.175845       ⋅           ⋅           ⋅ \n",
       " 1.35532   0.0025627   0.206738      0.800464     ⋅           ⋅ \n",
       " 1.604    -0.0711569   0.276694     -0.0852608   0.545979     ⋅ \n",
       " 1.2533    0.201229    0.720471      0.530186   -0.00902822  0.0386228"
      ]
     },
     "execution_count": 22,
     "metadata": {},
     "output_type": "execute_result"
    }
   ],
   "source": [
    "cholA.L"
   ]
  },
  {
   "cell_type": "code",
   "execution_count": 23,
   "metadata": {},
   "outputs": [
    {
     "data": {
      "text/plain": [
       "10×10 UpperTriangular{Float64, Matrix{Float64}}:\n",
       " 2.09163  1.76017    1.51757   …   1.35532     1.604       1.2533\n",
       "  ⋅       0.733767  -0.196042      0.0025627  -0.0711569   0.201229\n",
       "  ⋅        ⋅         0.763618      0.206738    0.276694    0.720471\n",
       "  ⋅        ⋅          ⋅            0.136803    0.243606   -0.222875\n",
       "  ⋅        ⋅          ⋅            0.0960975  -0.473753    0.0842238\n",
       "  ⋅        ⋅          ⋅        …   0.243754    0.601727    0.339648\n",
       "  ⋅        ⋅          ⋅           -0.189585   -0.0894905   0.480567\n",
       "  ⋅        ⋅          ⋅            0.800464   -0.0852608   0.530186\n",
       "  ⋅        ⋅          ⋅             ⋅          0.545979   -0.00902822\n",
       "  ⋅        ⋅          ⋅             ⋅           ⋅          0.0386228"
      ]
     },
     "execution_count": 23,
     "metadata": {},
     "output_type": "execute_result"
    }
   ],
   "source": [
    "cholA.U"
   ]
  },
  {
   "cell_type": "code",
   "execution_count": 24,
   "metadata": {},
   "outputs": [
    {
     "data": {
      "text/plain": [
       "Cholesky{Float64, Matrix{Float64}}\n",
       "U factor:\n",
       "10×10 UpperTriangular{Float64, Matrix{Float64}}:\n",
       " 2.09163  1.76017    1.51757   …   1.35532     1.604       1.2533\n",
       "  ⋅       0.733767  -0.196042      0.0025627  -0.0711569   0.201229\n",
       "  ⋅        ⋅         0.763618      0.206738    0.276694    0.720471\n",
       "  ⋅        ⋅          ⋅            0.136803    0.243606   -0.222875\n",
       "  ⋅        ⋅          ⋅            0.0960975  -0.473753    0.0842238\n",
       "  ⋅        ⋅          ⋅        …   0.243754    0.601727    0.339648\n",
       "  ⋅        ⋅          ⋅           -0.189585   -0.0894905   0.480567\n",
       "  ⋅        ⋅          ⋅            0.800464   -0.0852608   0.530186\n",
       "  ⋅        ⋅          ⋅             ⋅          0.545979   -0.00902822\n",
       "  ⋅        ⋅          ⋅             ⋅           ⋅          0.0386228"
      ]
     },
     "execution_count": 24,
     "metadata": {},
     "output_type": "execute_result"
    }
   ],
   "source": [
    "factorize(A)"
   ]
  },
  {
   "cell_type": "code",
   "execution_count": 25,
   "metadata": {},
   "outputs": [
    {
     "name": "stdout",
     "output_type": "stream",
     "text": [
      "search: \u001b[0m\u001b[1mf\u001b[22m\u001b[0m\u001b[1ma\u001b[22m\u001b[0m\u001b[1mc\u001b[22m\u001b[0m\u001b[1mt\u001b[22m\u001b[0m\u001b[1mo\u001b[22m\u001b[0m\u001b[1mr\u001b[22m\u001b[0m\u001b[1mi\u001b[22m\u001b[0m\u001b[1mz\u001b[22m\u001b[0m\u001b[1me\u001b[22m \u001b[0m\u001b[1mF\u001b[22m\u001b[0m\u001b[1ma\u001b[22m\u001b[0m\u001b[1mc\u001b[22m\u001b[0m\u001b[1mt\u001b[22m\u001b[0m\u001b[1mo\u001b[22m\u001b[0m\u001b[1mr\u001b[22m\u001b[0m\u001b[1mi\u001b[22m\u001b[0m\u001b[1mz\u001b[22mation \u001b[0m\u001b[1mf\u001b[22m\u001b[0m\u001b[1ma\u001b[22m\u001b[0m\u001b[1mc\u001b[22m\u001b[0m\u001b[1mt\u001b[22m\u001b[0m\u001b[1mo\u001b[22m\u001b[0m\u001b[1mr\u001b[22m\u001b[0m\u001b[1mi\u001b[22mal\n",
      "\n"
     ]
    },
    {
     "data": {
      "text/latex": [
       "\\begin{verbatim}\n",
       "factorize(A)\n",
       "\\end{verbatim}\n",
       "Compute a convenient factorization of \\texttt{A}, based upon the type of the input matrix. \\texttt{factorize} checks \\texttt{A} to see if it is symmetric/triangular/etc. if \\texttt{A} is passed as a generic matrix. \\texttt{factorize} checks every element of \\texttt{A} to verify/rule out each property. It will short-circuit as soon as it can rule out symmetry/triangular structure. The return value can be reused for efficient solving of multiple systems. For example: \\texttt{A=factorize(A); x=A{\\textbackslash}b; y=A{\\textbackslash}C}.\n",
       "\n",
       "\\begin{tabular}\n",
       "{l | l}\n",
       "Properties of \\texttt{A} & type of factorization \\\\\n",
       "\\hline\n",
       "Positive-definite & Cholesky (see \\href{@ref}{\\texttt{cholesky}}) \\\\\n",
       "Dense Symmetric/Hermitian & Bunch-Kaufman (see \\href{@ref}{\\texttt{bunchkaufman}}) \\\\\n",
       "Sparse Symmetric/Hermitian & LDLt (see \\href{@ref}{\\texttt{ldlt}}) \\\\\n",
       "Triangular & Triangular \\\\\n",
       "Diagonal & Diagonal \\\\\n",
       "Bidiagonal & Bidiagonal \\\\\n",
       "Tridiagonal & LU (see \\href{@ref}{\\texttt{lu}}) \\\\\n",
       "Symmetric real tridiagonal & LDLt (see \\href{@ref}{\\texttt{ldlt}}) \\\\\n",
       "General square & LU (see \\href{@ref}{\\texttt{lu}}) \\\\\n",
       "General non-square & QR (see \\href{@ref}{\\texttt{qr}}) \\\\\n",
       "\\end{tabular}\n",
       "If \\texttt{factorize} is called on a Hermitian positive-definite matrix, for instance, then \\texttt{factorize} will return a Cholesky factorization.\n",
       "\n",
       "\\section{Examples}\n",
       "\\begin{verbatim}\n",
       "julia> A = Array(Bidiagonal(fill(1.0, (5, 5)), :U))\n",
       "5×5 Matrix{Float64}:\n",
       " 1.0  1.0  0.0  0.0  0.0\n",
       " 0.0  1.0  1.0  0.0  0.0\n",
       " 0.0  0.0  1.0  1.0  0.0\n",
       " 0.0  0.0  0.0  1.0  1.0\n",
       " 0.0  0.0  0.0  0.0  1.0\n",
       "\n",
       "julia> factorize(A) # factorize will check to see that A is already factorized\n",
       "5×5 Bidiagonal{Float64, Vector{Float64}}:\n",
       " 1.0  1.0   ⋅    ⋅    ⋅\n",
       "  ⋅   1.0  1.0   ⋅    ⋅\n",
       "  ⋅    ⋅   1.0  1.0   ⋅\n",
       "  ⋅    ⋅    ⋅   1.0  1.0\n",
       "  ⋅    ⋅    ⋅    ⋅   1.0\n",
       "\\end{verbatim}\n",
       "This returns a \\texttt{5×5 Bidiagonal\\{Float64\\}}, which can now be passed to other linear algebra functions (e.g. eigensolvers) which will use specialized methods for \\texttt{Bidiagonal} types.\n",
       "\n"
      ],
      "text/markdown": [
       "```\n",
       "factorize(A)\n",
       "```\n",
       "\n",
       "Compute a convenient factorization of `A`, based upon the type of the input matrix. `factorize` checks `A` to see if it is symmetric/triangular/etc. if `A` is passed as a generic matrix. `factorize` checks every element of `A` to verify/rule out each property. It will short-circuit as soon as it can rule out symmetry/triangular structure. The return value can be reused for efficient solving of multiple systems. For example: `A=factorize(A); x=A\\b; y=A\\C`.\n",
       "\n",
       "| Properties of `A`          | type of factorization                      |\n",
       "|:-------------------------- |:------------------------------------------ |\n",
       "| Positive-definite          | Cholesky (see [`cholesky`](@ref))          |\n",
       "| Dense Symmetric/Hermitian  | Bunch-Kaufman (see [`bunchkaufman`](@ref)) |\n",
       "| Sparse Symmetric/Hermitian | LDLt (see [`ldlt`](@ref))                  |\n",
       "| Triangular                 | Triangular                                 |\n",
       "| Diagonal                   | Diagonal                                   |\n",
       "| Bidiagonal                 | Bidiagonal                                 |\n",
       "| Tridiagonal                | LU (see [`lu`](@ref))                      |\n",
       "| Symmetric real tridiagonal | LDLt (see [`ldlt`](@ref))                  |\n",
       "| General square             | LU (see [`lu`](@ref))                      |\n",
       "| General non-square         | QR (see [`qr`](@ref))                      |\n",
       "\n",
       "If `factorize` is called on a Hermitian positive-definite matrix, for instance, then `factorize` will return a Cholesky factorization.\n",
       "\n",
       "# Examples\n",
       "\n",
       "```jldoctest\n",
       "julia> A = Array(Bidiagonal(fill(1.0, (5, 5)), :U))\n",
       "5×5 Matrix{Float64}:\n",
       " 1.0  1.0  0.0  0.0  0.0\n",
       " 0.0  1.0  1.0  0.0  0.0\n",
       " 0.0  0.0  1.0  1.0  0.0\n",
       " 0.0  0.0  0.0  1.0  1.0\n",
       " 0.0  0.0  0.0  0.0  1.0\n",
       "\n",
       "julia> factorize(A) # factorize will check to see that A is already factorized\n",
       "5×5 Bidiagonal{Float64, Vector{Float64}}:\n",
       " 1.0  1.0   ⋅    ⋅    ⋅\n",
       "  ⋅   1.0  1.0   ⋅    ⋅\n",
       "  ⋅    ⋅   1.0  1.0   ⋅\n",
       "  ⋅    ⋅    ⋅   1.0  1.0\n",
       "  ⋅    ⋅    ⋅    ⋅   1.0\n",
       "```\n",
       "\n",
       "This returns a `5×5 Bidiagonal{Float64}`, which can now be passed to other linear algebra functions (e.g. eigensolvers) which will use specialized methods for `Bidiagonal` types.\n"
      ],
      "text/plain": [
       "\u001b[36m  factorize(A)\u001b[39m\n",
       "\n",
       "  Compute a convenient factorization of \u001b[36mA\u001b[39m, based upon the type of the input\n",
       "  matrix. \u001b[36mfactorize\u001b[39m checks \u001b[36mA\u001b[39m to see if it is symmetric/triangular/etc. if \u001b[36mA\u001b[39m is\n",
       "  passed as a generic matrix. \u001b[36mfactorize\u001b[39m checks every element of \u001b[36mA\u001b[39m to\n",
       "  verify/rule out each property. It will short-circuit as soon as it can rule\n",
       "  out symmetry/triangular structure. The return value can be reused for\n",
       "  efficient solving of multiple systems. For example: \u001b[36mA=factorize(A); x=A\\b;\n",
       "  y=A\\C\u001b[39m.\n",
       "\n",
       "  Properties of \u001b[36mA\u001b[39m            type of factorization           \n",
       "  –––––––––––––––––––––––––– ––––––––––––––––––––––––––––––––\n",
       "  Positive-definite          Cholesky (see \u001b[36mcholesky\u001b[39m)         \n",
       "  Dense Symmetric/Hermitian  Bunch-Kaufman (see \u001b[36mbunchkaufman\u001b[39m)\n",
       "  Sparse Symmetric/Hermitian LDLt (see \u001b[36mldlt\u001b[39m)                 \n",
       "  Triangular                 Triangular                      \n",
       "  Diagonal                   Diagonal                        \n",
       "  Bidiagonal                 Bidiagonal                      \n",
       "  Tridiagonal                LU (see \u001b[36mlu\u001b[39m)                     \n",
       "  Symmetric real tridiagonal LDLt (see \u001b[36mldlt\u001b[39m)                 \n",
       "  General square             LU (see \u001b[36mlu\u001b[39m)                     \n",
       "  General non-square         QR (see \u001b[36mqr\u001b[39m)                     \n",
       "\n",
       "  If \u001b[36mfactorize\u001b[39m is called on a Hermitian positive-definite matrix, for\n",
       "  instance, then \u001b[36mfactorize\u001b[39m will return a Cholesky factorization.\n",
       "\n",
       "\u001b[1m  Examples\u001b[22m\n",
       "\u001b[1m  ≡≡≡≡≡≡≡≡≡≡\u001b[22m\n",
       "\n",
       "\u001b[36m  julia> A = Array(Bidiagonal(fill(1.0, (5, 5)), :U))\u001b[39m\n",
       "\u001b[36m  5×5 Matrix{Float64}:\u001b[39m\n",
       "\u001b[36m   1.0  1.0  0.0  0.0  0.0\u001b[39m\n",
       "\u001b[36m   0.0  1.0  1.0  0.0  0.0\u001b[39m\n",
       "\u001b[36m   0.0  0.0  1.0  1.0  0.0\u001b[39m\n",
       "\u001b[36m   0.0  0.0  0.0  1.0  1.0\u001b[39m\n",
       "\u001b[36m   0.0  0.0  0.0  0.0  1.0\u001b[39m\n",
       "\u001b[36m  \u001b[39m\n",
       "\u001b[36m  julia> factorize(A) # factorize will check to see that A is already factorized\u001b[39m\n",
       "\u001b[36m  5×5 Bidiagonal{Float64, Vector{Float64}}:\u001b[39m\n",
       "\u001b[36m   1.0  1.0   ⋅    ⋅    ⋅\u001b[39m\n",
       "\u001b[36m    ⋅   1.0  1.0   ⋅    ⋅\u001b[39m\n",
       "\u001b[36m    ⋅    ⋅   1.0  1.0   ⋅\u001b[39m\n",
       "\u001b[36m    ⋅    ⋅    ⋅   1.0  1.0\u001b[39m\n",
       "\u001b[36m    ⋅    ⋅    ⋅    ⋅   1.0\u001b[39m\n",
       "\n",
       "  This returns a \u001b[36m5×5 Bidiagonal{Float64}\u001b[39m, which can now be passed to other\n",
       "  linear algebra functions (e.g. eigensolvers) which will use specialized\n",
       "  methods for \u001b[36mBidiagonal\u001b[39m types."
      ]
     },
     "execution_count": 25,
     "metadata": {},
     "output_type": "execute_result"
    }
   ],
   "source": [
    "?factorize"
   ]
  },
  {
   "cell_type": "code",
   "execution_count": 26,
   "metadata": {},
   "outputs": [
    {
     "name": "stdout",
     "output_type": "stream",
     "text": [
      "search: \u001b[0m\u001b[1md\u001b[22m\u001b[0m\u001b[1mi\u001b[22m\u001b[0m\u001b[1ma\u001b[22m\u001b[0m\u001b[1mg\u001b[22m\u001b[0m\u001b[1mm\u001b[22m sp\u001b[0m\u001b[1md\u001b[22m\u001b[0m\u001b[1mi\u001b[22m\u001b[0m\u001b[1ma\u001b[22m\u001b[0m\u001b[1mg\u001b[22m\u001b[0m\u001b[1mm\u001b[22m \u001b[0m\u001b[1md\u001b[22m\u001b[0m\u001b[1mi\u001b[22m\u001b[0m\u001b[1ma\u001b[22m\u001b[0m\u001b[1mg\u001b[22m \u001b[0m\u001b[1md\u001b[22m\u001b[0m\u001b[1mi\u001b[22m\u001b[0m\u001b[1ma\u001b[22m\u001b[0m\u001b[1mg\u001b[22mind \u001b[0m\u001b[1mD\u001b[22m\u001b[0m\u001b[1mi\u001b[22m\u001b[0m\u001b[1ma\u001b[22m\u001b[0m\u001b[1mg\u001b[22monal is\u001b[0m\u001b[1md\u001b[22m\u001b[0m\u001b[1mi\u001b[22m\u001b[0m\u001b[1ma\u001b[22m\u001b[0m\u001b[1mg\u001b[22m Bi\u001b[0m\u001b[1md\u001b[22m\u001b[0m\u001b[1mi\u001b[22m\u001b[0m\u001b[1ma\u001b[22m\u001b[0m\u001b[1mg\u001b[22monal Tri\u001b[0m\u001b[1md\u001b[22m\u001b[0m\u001b[1mi\u001b[22m\u001b[0m\u001b[1ma\u001b[22m\u001b[0m\u001b[1mg\u001b[22monal\n",
      "\n"
     ]
    },
    {
     "data": {
      "text/latex": [
       "\\begin{verbatim}\n",
       "diagm(kv::Pair{<:Integer,<:AbstractVector}...)\n",
       "diagm(m::Integer, n::Integer, kv::Pair{<:Integer,<:AbstractVector}...)\n",
       "\\end{verbatim}\n",
       "Construct a matrix from \\texttt{Pair}s of diagonals and vectors. Vector \\texttt{kv.second} will be placed on the \\texttt{kv.first} diagonal. By default the matrix is square and its size is inferred from \\texttt{kv}, but a non-square size \\texttt{m}×\\texttt{n} (padded with zeros as needed) can be specified by passing \\texttt{m,n} as the first arguments.\n",
       "\n",
       "\\texttt{diagm} constructs a full matrix; if you want storage-efficient versions with fast arithmetic, see \\href{@ref}{\\texttt{Diagonal}}, \\href{@ref}{\\texttt{Bidiagonal}} \\href{@ref}{\\texttt{Tridiagonal}} and \\href{@ref}{\\texttt{SymTridiagonal}}.\n",
       "\n",
       "\\section{Examples}\n",
       "\\begin{verbatim}\n",
       "julia> diagm(1 => [1,2,3])\n",
       "4×4 Matrix{Int64}:\n",
       " 0  1  0  0\n",
       " 0  0  2  0\n",
       " 0  0  0  3\n",
       " 0  0  0  0\n",
       "\n",
       "julia> diagm(1 => [1,2,3], -1 => [4,5])\n",
       "4×4 Matrix{Int64}:\n",
       " 0  1  0  0\n",
       " 4  0  2  0\n",
       " 0  5  0  3\n",
       " 0  0  0  0\n",
       "\\end{verbatim}\n",
       "\\rule{\\textwidth}{1pt}\n",
       "\\begin{verbatim}\n",
       "diagm(v::AbstractVector)\n",
       "diagm(m::Integer, n::Integer, v::AbstractVector)\n",
       "\\end{verbatim}\n",
       "Construct a matrix with elements of the vector as diagonal elements. By default, the matrix is square and its size is given by \\texttt{length(v)}, but a non-square size \\texttt{m}×\\texttt{n} can be specified by passing \\texttt{m,n} as the first arguments.\n",
       "\n",
       "\\section{Examples}\n",
       "\\begin{verbatim}\n",
       "julia> diagm([1,2,3])\n",
       "3×3 Matrix{Int64}:\n",
       " 1  0  0\n",
       " 0  2  0\n",
       " 0  0  3\n",
       "\\end{verbatim}\n"
      ],
      "text/markdown": [
       "```\n",
       "diagm(kv::Pair{<:Integer,<:AbstractVector}...)\n",
       "diagm(m::Integer, n::Integer, kv::Pair{<:Integer,<:AbstractVector}...)\n",
       "```\n",
       "\n",
       "Construct a matrix from `Pair`s of diagonals and vectors. Vector `kv.second` will be placed on the `kv.first` diagonal. By default the matrix is square and its size is inferred from `kv`, but a non-square size `m`×`n` (padded with zeros as needed) can be specified by passing `m,n` as the first arguments.\n",
       "\n",
       "`diagm` constructs a full matrix; if you want storage-efficient versions with fast arithmetic, see [`Diagonal`](@ref), [`Bidiagonal`](@ref) [`Tridiagonal`](@ref) and [`SymTridiagonal`](@ref).\n",
       "\n",
       "# Examples\n",
       "\n",
       "```jldoctest\n",
       "julia> diagm(1 => [1,2,3])\n",
       "4×4 Matrix{Int64}:\n",
       " 0  1  0  0\n",
       " 0  0  2  0\n",
       " 0  0  0  3\n",
       " 0  0  0  0\n",
       "\n",
       "julia> diagm(1 => [1,2,3], -1 => [4,5])\n",
       "4×4 Matrix{Int64}:\n",
       " 0  1  0  0\n",
       " 4  0  2  0\n",
       " 0  5  0  3\n",
       " 0  0  0  0\n",
       "```\n",
       "\n",
       "---\n",
       "\n",
       "```\n",
       "diagm(v::AbstractVector)\n",
       "diagm(m::Integer, n::Integer, v::AbstractVector)\n",
       "```\n",
       "\n",
       "Construct a matrix with elements of the vector as diagonal elements. By default, the matrix is square and its size is given by `length(v)`, but a non-square size `m`×`n` can be specified by passing `m,n` as the first arguments.\n",
       "\n",
       "# Examples\n",
       "\n",
       "```jldoctest\n",
       "julia> diagm([1,2,3])\n",
       "3×3 Matrix{Int64}:\n",
       " 1  0  0\n",
       " 0  2  0\n",
       " 0  0  3\n",
       "```\n"
      ],
      "text/plain": [
       "\u001b[36m  diagm(kv::Pair{<:Integer,<:AbstractVector}...)\u001b[39m\n",
       "\u001b[36m  diagm(m::Integer, n::Integer, kv::Pair{<:Integer,<:AbstractVector}...)\u001b[39m\n",
       "\n",
       "  Construct a matrix from \u001b[36mPair\u001b[39ms of diagonals and vectors. Vector \u001b[36mkv.second\u001b[39m\n",
       "  will be placed on the \u001b[36mkv.first\u001b[39m diagonal. By default the matrix is square and\n",
       "  its size is inferred from \u001b[36mkv\u001b[39m, but a non-square size \u001b[36mm\u001b[39m×\u001b[36mn\u001b[39m (padded with zeros\n",
       "  as needed) can be specified by passing \u001b[36mm,n\u001b[39m as the first arguments.\n",
       "\n",
       "  \u001b[36mdiagm\u001b[39m constructs a full matrix; if you want storage-efficient versions with\n",
       "  fast arithmetic, see \u001b[36mDiagonal\u001b[39m, \u001b[36mBidiagonal\u001b[39m \u001b[36mTridiagonal\u001b[39m and \u001b[36mSymTridiagonal\u001b[39m.\n",
       "\n",
       "\u001b[1m  Examples\u001b[22m\n",
       "\u001b[1m  ≡≡≡≡≡≡≡≡≡≡\u001b[22m\n",
       "\n",
       "\u001b[36m  julia> diagm(1 => [1,2,3])\u001b[39m\n",
       "\u001b[36m  4×4 Matrix{Int64}:\u001b[39m\n",
       "\u001b[36m   0  1  0  0\u001b[39m\n",
       "\u001b[36m   0  0  2  0\u001b[39m\n",
       "\u001b[36m   0  0  0  3\u001b[39m\n",
       "\u001b[36m   0  0  0  0\u001b[39m\n",
       "\u001b[36m  \u001b[39m\n",
       "\u001b[36m  julia> diagm(1 => [1,2,3], -1 => [4,5])\u001b[39m\n",
       "\u001b[36m  4×4 Matrix{Int64}:\u001b[39m\n",
       "\u001b[36m   0  1  0  0\u001b[39m\n",
       "\u001b[36m   4  0  2  0\u001b[39m\n",
       "\u001b[36m   0  5  0  3\u001b[39m\n",
       "\u001b[36m   0  0  0  0\u001b[39m\n",
       "\n",
       "  ────────────────────────────────────────────────────────────────────────────\n",
       "\n",
       "\u001b[36m  diagm(v::AbstractVector)\u001b[39m\n",
       "\u001b[36m  diagm(m::Integer, n::Integer, v::AbstractVector)\u001b[39m\n",
       "\n",
       "  Construct a matrix with elements of the vector as diagonal elements. By\n",
       "  default, the matrix is square and its size is given by \u001b[36mlength(v)\u001b[39m, but a\n",
       "  non-square size \u001b[36mm\u001b[39m×\u001b[36mn\u001b[39m can be specified by passing \u001b[36mm,n\u001b[39m as the first arguments.\n",
       "\n",
       "\u001b[1m  Examples\u001b[22m\n",
       "\u001b[1m  ≡≡≡≡≡≡≡≡≡≡\u001b[22m\n",
       "\n",
       "\u001b[36m  julia> diagm([1,2,3])\u001b[39m\n",
       "\u001b[36m  3×3 Matrix{Int64}:\u001b[39m\n",
       "\u001b[36m   1  0  0\u001b[39m\n",
       "\u001b[36m   0  2  0\u001b[39m\n",
       "\u001b[36m   0  0  3\u001b[39m"
      ]
     },
     "execution_count": 26,
     "metadata": {},
     "output_type": "execute_result"
    }
   ],
   "source": [
    "?diagm"
   ]
  },
  {
   "cell_type": "code",
   "execution_count": 27,
   "metadata": {},
   "outputs": [
    {
     "data": {
      "text/plain": [
       "3×3 Diagonal{Int64, Vector{Int64}}:\n",
       " 1  ⋅  ⋅\n",
       " ⋅  2  ⋅\n",
       " ⋅  ⋅  3"
      ]
     },
     "execution_count": 27,
     "metadata": {},
     "output_type": "execute_result"
    }
   ],
   "source": [
    "# convert(Diagonal{Int64,Array{Int64,1}},diagm([1,2,3]))\n",
    "Diagonal([1,2,3])"
   ]
  },
  {
   "cell_type": "markdown",
   "metadata": {},
   "source": [
    "`I` is a function"
   ]
  },
  {
   "cell_type": "code",
   "execution_count": 28,
   "metadata": {},
   "outputs": [
    {
     "data": {
      "text/plain": [
       "3×3 Diagonal{Bool, Vector{Bool}}:\n",
       " 1  ⋅  ⋅\n",
       " ⋅  1  ⋅\n",
       " ⋅  ⋅  1"
      ]
     },
     "execution_count": 28,
     "metadata": {},
     "output_type": "execute_result"
    }
   ],
   "source": [
    "I(3)"
   ]
  },
  {
   "cell_type": "markdown",
   "metadata": {},
   "source": [
    "### 🟢Sparse Linear Algebra\n",
    "Sparse matrices are stored in Compressed Sparse Column (CSC) form"
   ]
  },
  {
   "cell_type": "code",
   "execution_count": 29,
   "metadata": {},
   "outputs": [
    {
     "data": {
      "text/plain": [
       "5×5 SparseMatrixCSC{Float64, Int64} with 15 stored entries:\n",
       "  ⋅        0.88834      ⋅         ⋅         ⋅ \n",
       " 0.201926  0.338059     ⋅        0.606466  0.651857\n",
       "  ⋅        0.00870446  0.773248  0.166361  0.233344\n",
       "  ⋅        0.706706    0.743204   ⋅         ⋅ \n",
       " 0.463766  0.3396      0.86463   0.561428   ⋅ "
      ]
     },
     "execution_count": 29,
     "metadata": {},
     "output_type": "execute_result"
    }
   ],
   "source": [
    "using SparseArrays\n",
    "S = sprand(5,5,2/5)"
   ]
  },
  {
   "cell_type": "code",
   "execution_count": 30,
   "metadata": {},
   "outputs": [
    {
     "data": {
      "text/plain": [
       "15-element Vector{Int64}:\n",
       " 2\n",
       " 5\n",
       " 1\n",
       " 2\n",
       " 3\n",
       " 4\n",
       " 5\n",
       " 3\n",
       " 4\n",
       " 5\n",
       " 2\n",
       " 3\n",
       " 5\n",
       " 2\n",
       " 3"
      ]
     },
     "execution_count": 30,
     "metadata": {},
     "output_type": "execute_result"
    }
   ],
   "source": [
    "S.rowval"
   ]
  },
  {
   "cell_type": "code",
   "execution_count": 31,
   "metadata": {},
   "outputs": [
    {
     "data": {
      "text/plain": [
       "5×5 Matrix{Float64}:\n",
       " 0.0       0.88834     0.0       0.0       0.0\n",
       " 0.201926  0.338059    0.0       0.606466  0.651857\n",
       " 0.0       0.00870446  0.773248  0.166361  0.233344\n",
       " 0.0       0.706706    0.743204  0.0       0.0\n",
       " 0.463766  0.3396      0.86463   0.561428  0.0"
      ]
     },
     "execution_count": 31,
     "metadata": {},
     "output_type": "execute_result"
    }
   ],
   "source": [
    "Matrix(S)"
   ]
  },
  {
   "cell_type": "code",
   "execution_count": 32,
   "metadata": {},
   "outputs": [
    {
     "data": {
      "text/plain": [
       "6-element Vector{Int64}:\n",
       "  1\n",
       "  3\n",
       "  8\n",
       " 11\n",
       " 14\n",
       " 16"
      ]
     },
     "execution_count": 32,
     "metadata": {},
     "output_type": "execute_result"
    }
   ],
   "source": [
    "S.colptr"
   ]
  },
  {
   "cell_type": "code",
   "execution_count": 33,
   "metadata": {},
   "outputs": [
    {
     "data": {
      "text/plain": [
       "5"
      ]
     },
     "execution_count": 33,
     "metadata": {},
     "output_type": "execute_result"
    }
   ],
   "source": [
    "S.m"
   ]
  },
  {
   "cell_type": "markdown",
   "metadata": {},
   "source": [
    "### 🟢Images as matrices\n",
    "Let's get to the more \"data science-y\" side. We will do so by working with images (which can be viewed as matrices), and we will use the `SVD` decomposition.\n",
    "\n",
    "First let's load an image. I chose this image as it has a lot of details."
   ]
  },
  {
   "cell_type": "code",
   "execution_count": 34,
   "metadata": {},
   "outputs": [
    {
     "ename": "LoadError",
     "evalue": "UndefVarError: load not defined",
     "output_type": "error",
     "traceback": [
      "UndefVarError: load not defined",
      "",
      "Stacktrace:",
      " [1] top-level scope",
      "   @ In[34]:1",
      " [2] eval",
      "   @ ./boot.jl:373 [inlined]",
      " [3] include_string(mapexpr::typeof(REPL.softscope), mod::Module, code::String, filename::String)",
      "   @ Base ./loading.jl:1196"
     ]
    }
   ],
   "source": [
    "X1 = load(\"data/khiam-small.jpg\")"
   ]
  },
  {
   "cell_type": "code",
   "execution_count": 35,
   "metadata": {},
   "outputs": [
    {
     "ename": "LoadError",
     "evalue": "UndefVarError: X1 not defined",
     "output_type": "error",
     "traceback": [
      "UndefVarError: X1 not defined",
      "",
      "Stacktrace:",
      " [1] top-level scope",
      "   @ show.jl:1047",
      " [2] eval",
      "   @ ./boot.jl:373 [inlined]",
      " [3] include_string(mapexpr::typeof(REPL.softscope), mod::Module, code::String, filename::String)",
      "   @ Base ./loading.jl:1196"
     ]
    }
   ],
   "source": [
    "@show typeof(X1)\n",
    "X1[1,1] # this is pixel [1,1]"
   ]
  },
  {
   "cell_type": "markdown",
   "metadata": {},
   "source": [
    "We can easily convert this image to gray scale."
   ]
  },
  {
   "cell_type": "code",
   "execution_count": 36,
   "metadata": {},
   "outputs": [
    {
     "ename": "LoadError",
     "evalue": "UndefVarError: Gray not defined",
     "output_type": "error",
     "traceback": [
      "UndefVarError: Gray not defined",
      "",
      "Stacktrace:",
      " [1] top-level scope",
      "   @ In[36]:1",
      " [2] eval",
      "   @ ./boot.jl:373 [inlined]",
      " [3] include_string(mapexpr::typeof(REPL.softscope), mod::Module, code::String, filename::String)",
      "   @ Base ./loading.jl:1196"
     ]
    }
   ],
   "source": [
    "Xgray = Gray.(X1)"
   ]
  },
  {
   "cell_type": "markdown",
   "metadata": {},
   "source": [
    "We can easily extract the RGB layers from the image. We will make use of the `reshape` function below to reshape a vector to a matrix."
   ]
  },
  {
   "cell_type": "code",
   "execution_count": 37,
   "metadata": {},
   "outputs": [
    {
     "ename": "LoadError",
     "evalue": "UndefVarError: X1 not defined",
     "output_type": "error",
     "traceback": [
      "UndefVarError: X1 not defined",
      "",
      "Stacktrace:",
      " [1] top-level scope",
      "   @ In[37]:1",
      " [2] eval",
      "   @ ./boot.jl:373 [inlined]",
      " [3] include_string(mapexpr::typeof(REPL.softscope), mod::Module, code::String, filename::String)",
      "   @ Base ./loading.jl:1196"
     ]
    }
   ],
   "source": [
    "R = map(i->X1[i].r,1:length(X1))\n",
    "R = Float64.(reshape(R,size(X1)...))\n",
    "\n",
    "G = map(i->X1[i].g,1:length(X1))\n",
    "G = Float64.(reshape(G,size(X1)...))\n",
    "\n",
    "B = map(i->X1[i].b,1:length(X1))\n",
    "B = Float64.(reshape(B,size(X1)...))\n",
    ";"
   ]
  },
  {
   "cell_type": "code",
   "execution_count": 38,
   "metadata": {},
   "outputs": [
    {
     "ename": "LoadError",
     "evalue": "UndefVarError: R not defined",
     "output_type": "error",
     "traceback": [
      "UndefVarError: R not defined",
      "",
      "Stacktrace:",
      " [1] top-level scope",
      "   @ In[38]:1",
      " [2] eval",
      "   @ ./boot.jl:373 [inlined]",
      " [3] include_string(mapexpr::typeof(REPL.softscope), mod::Module, code::String, filename::String)",
      "   @ Base ./loading.jl:1196"
     ]
    }
   ],
   "source": [
    "Z = zeros(size(R)...) # just a matrix of all zeros of equal size as the image\n",
    "RGB.(Z,G,Z)"
   ]
  },
  {
   "cell_type": "markdown",
   "metadata": {},
   "source": [
    "We can easily obtain the `Float64` values of the grayscale image."
   ]
  },
  {
   "cell_type": "code",
   "execution_count": 39,
   "metadata": {},
   "outputs": [
    {
     "ename": "LoadError",
     "evalue": "UndefVarError: Xgray not defined",
     "output_type": "error",
     "traceback": [
      "UndefVarError: Xgray not defined",
      "",
      "Stacktrace:",
      " [1] top-level scope",
      "   @ In[39]:1",
      " [2] eval",
      "   @ ./boot.jl:373 [inlined]",
      " [3] include_string(mapexpr::typeof(REPL.softscope), mod::Module, code::String, filename::String)",
      "   @ Base ./loading.jl:1196"
     ]
    }
   ],
   "source": [
    "Xgrayvalues = Float64.(Xgray)"
   ]
  },
  {
   "cell_type": "markdown",
   "metadata": {},
   "source": [
    "Next, we will downsample this image using the SVD. First, let's obtain the SVD decomposition."
   ]
  },
  {
   "cell_type": "code",
   "execution_count": 40,
   "metadata": {},
   "outputs": [
    {
     "ename": "LoadError",
     "evalue": "UndefVarError: Xgrayvalues not defined",
     "output_type": "error",
     "traceback": [
      "UndefVarError: Xgrayvalues not defined",
      "",
      "Stacktrace:",
      " [1] top-level scope",
      "   @ In[40]:1",
      " [2] eval",
      "   @ ./boot.jl:373 [inlined]",
      " [3] include_string(mapexpr::typeof(REPL.softscope), mod::Module, code::String, filename::String)",
      "   @ Base ./loading.jl:1196"
     ]
    }
   ],
   "source": [
    "SVD_V = svd(Xgrayvalues)"
   ]
  },
  {
   "cell_type": "code",
   "execution_count": 41,
   "metadata": {},
   "outputs": [
    {
     "ename": "LoadError",
     "evalue": "UndefVarError: SVD_V not defined",
     "output_type": "error",
     "traceback": [
      "UndefVarError: SVD_V not defined",
      "",
      "Stacktrace:",
      " [1] top-level scope",
      "   @ In[41]:1",
      " [2] eval",
      "   @ ./boot.jl:373 [inlined]",
      " [3] include_string(mapexpr::typeof(REPL.softscope), mod::Module, code::String, filename::String)",
      "   @ Base ./loading.jl:1196"
     ]
    }
   ],
   "source": [
    "norm(SVD_V.U*diagm(SVD_V.S)*SVD_V.V' - Xgrayvalues)"
   ]
  },
  {
   "cell_type": "code",
   "execution_count": 42,
   "metadata": {},
   "outputs": [
    {
     "ename": "LoadError",
     "evalue": "UndefVarError: SVD_V not defined",
     "output_type": "error",
     "traceback": [
      "UndefVarError: SVD_V not defined",
      "",
      "Stacktrace:",
      " [1] top-level scope",
      "   @ In[42]:2",
      " [2] eval",
      "   @ ./boot.jl:373 [inlined]",
      " [3] include_string(mapexpr::typeof(REPL.softscope), mod::Module, code::String, filename::String)",
      "   @ Base ./loading.jl:1196"
     ]
    }
   ],
   "source": [
    "# use the top 4 singular vectors/values to form a new image\n",
    "u1 = SVD_V.U[:,1]\n",
    "v1 = SVD_V.V[:,1]\n",
    "img1 = SVD_V.S[1]*u1*v1'\n",
    "\n",
    "i = 2\n",
    "u1 = SVD_V.U[:,i]\n",
    "v1 = SVD_V.V[:,i]\n",
    "img1 += SVD_V.S[i]*u1*v1'\n",
    "\n",
    "i = 3\n",
    "u1 = SVD_V.U[:,i]\n",
    "v1 = SVD_V.V[:,i]\n",
    "img1 += SVD_V.S[i]*u1*v1'\n",
    "\n",
    "i = 4\n",
    "u1 = SVD_V.U[:,i]\n",
    "v1 = SVD_V.V[:,i]\n",
    "img1 += SVD_V.S[i]*u1*v1'"
   ]
  },
  {
   "cell_type": "code",
   "execution_count": 43,
   "metadata": {},
   "outputs": [
    {
     "ename": "LoadError",
     "evalue": "UndefVarError: Gray not defined",
     "output_type": "error",
     "traceback": [
      "UndefVarError: Gray not defined",
      "",
      "Stacktrace:",
      " [1] top-level scope",
      "   @ In[43]:1",
      " [2] eval",
      "   @ ./boot.jl:373 [inlined]",
      " [3] include_string(mapexpr::typeof(REPL.softscope), mod::Module, code::String, filename::String)",
      "   @ Base ./loading.jl:1196"
     ]
    }
   ],
   "source": [
    "Gray.(img1)"
   ]
  },
  {
   "cell_type": "markdown",
   "metadata": {},
   "source": [
    "As you can see, it's still far away from the original image. Let's try using 100 singular vectors/values."
   ]
  },
  {
   "cell_type": "code",
   "execution_count": 44,
   "metadata": {},
   "outputs": [
    {
     "ename": "LoadError",
     "evalue": "UndefVarError: SVD_V not defined",
     "output_type": "error",
     "traceback": [
      "UndefVarError: SVD_V not defined",
      "",
      "Stacktrace:",
      " [1] top-level scope",
      "   @ In[44]:2",
      " [2] eval",
      "   @ ./boot.jl:373 [inlined]",
      " [3] include_string(mapexpr::typeof(REPL.softscope), mod::Module, code::String, filename::String)",
      "   @ Base ./loading.jl:1196"
     ]
    }
   ],
   "source": [
    "i = 1:100\n",
    "u1 = SVD_V.U[:,i]\n",
    "v1 = SVD_V.V[:,i]\n",
    "img1 = u1*spdiagm(0=>SVD_V.S[i])*v1'\n",
    "Gray.(img1)"
   ]
  },
  {
   "cell_type": "markdown",
   "metadata": {},
   "source": [
    "This looks almost identical to the original image, even though it's not identical to the original image (and we can see that from the norm difference)."
   ]
  },
  {
   "cell_type": "code",
   "execution_count": 45,
   "metadata": {},
   "outputs": [
    {
     "ename": "LoadError",
     "evalue": "UndefVarError: Xgrayvalues not defined",
     "output_type": "error",
     "traceback": [
      "UndefVarError: Xgrayvalues not defined",
      "",
      "Stacktrace:",
      " [1] top-level scope",
      "   @ In[45]:1",
      " [2] eval",
      "   @ ./boot.jl:373 [inlined]",
      " [3] include_string(mapexpr::typeof(REPL.softscope), mod::Module, code::String, filename::String)",
      "   @ Base ./loading.jl:1196"
     ]
    }
   ],
   "source": [
    "norm(Xgrayvalues-img1)"
   ]
  },
  {
   "cell_type": "markdown",
   "metadata": {},
   "source": [
    "Our next problem will still be related to images, but this time we will solve a simple form of the face recognition problem. Let's get the data first."
   ]
  },
  {
   "cell_type": "code",
   "execution_count": 46,
   "metadata": {},
   "outputs": [
    {
     "ename": "LoadError",
     "evalue": "UndefVarError: matread not defined",
     "output_type": "error",
     "traceback": [
      "UndefVarError: matread not defined",
      "",
      "Stacktrace:",
      " [1] top-level scope",
      "   @ In[46]:1",
      " [2] eval",
      "   @ ./boot.jl:373 [inlined]",
      " [3] include_string(mapexpr::typeof(REPL.softscope), mod::Module, code::String, filename::String)",
      "   @ Base ./loading.jl:1196"
     ]
    }
   ],
   "source": [
    "M = matread(\"data/face_recog_qr.mat\")"
   ]
  },
  {
   "cell_type": "markdown",
   "metadata": {},
   "source": [
    "Each vector in `M[\"V2\"]` is a fase image. Let's reshape the first one and take a look."
   ]
  },
  {
   "cell_type": "code",
   "execution_count": 47,
   "metadata": {},
   "outputs": [
    {
     "ename": "LoadError",
     "evalue": "UndefVarError: M not defined",
     "output_type": "error",
     "traceback": [
      "UndefVarError: M not defined",
      "",
      "Stacktrace:",
      " [1] top-level scope",
      "   @ In[47]:1",
      " [2] eval",
      "   @ ./boot.jl:373 [inlined]",
      " [3] include_string(mapexpr::typeof(REPL.softscope), mod::Module, code::String, filename::String)",
      "   @ Base ./loading.jl:1196"
     ]
    }
   ],
   "source": [
    "q = reshape(M[\"V2\"][:,1],192,168)\n",
    "Gray.(q)"
   ]
  },
  {
   "cell_type": "markdown",
   "metadata": {},
   "source": [
    "Now we will go back to the vectorized version of this image, and try to select the images that are most similar to it from the \"dictionary\" matrix. Let's use `b = q[:]` to be the query image. Note that the notation `[:]` vectorizes a matrix column wise."
   ]
  },
  {
   "cell_type": "code",
   "execution_count": 48,
   "metadata": {},
   "outputs": [
    {
     "ename": "LoadError",
     "evalue": "UndefVarError: q not defined",
     "output_type": "error",
     "traceback": [
      "UndefVarError: q not defined",
      "",
      "Stacktrace:",
      " [1] top-level scope",
      "   @ In[48]:1",
      " [2] eval",
      "   @ ./boot.jl:373 [inlined]",
      " [3] include_string(mapexpr::typeof(REPL.softscope), mod::Module, code::String, filename::String)",
      "   @ Base ./loading.jl:1196"
     ]
    }
   ],
   "source": [
    "b = q[:]"
   ]
  },
  {
   "cell_type": "markdown",
   "metadata": {},
   "source": [
    "We will remove the first image from the dictionary. The goal is to find the solution of the linear system `Ax=b` where `A` is the dictionary of all images. In face recognition problem we really want to minimize the norm differece `norm(Ax-b)` but the `\\` actually solves a least squares problem when the matrix at hand is not invertible."
   ]
  },
  {
   "cell_type": "code",
   "execution_count": 49,
   "metadata": {},
   "outputs": [
    {
     "ename": "LoadError",
     "evalue": "UndefVarError: M not defined",
     "output_type": "error",
     "traceback": [
      "UndefVarError: M not defined",
      "",
      "Stacktrace:",
      " [1] top-level scope",
      "   @ In[49]:1",
      " [2] eval",
      "   @ ./boot.jl:373 [inlined]",
      " [3] include_string(mapexpr::typeof(REPL.softscope), mod::Module, code::String, filename::String)",
      "   @ Base ./loading.jl:1196"
     ]
    }
   ],
   "source": [
    "A = M[\"V2\"][:,2:end]\n",
    "x = A\\b #Ax=b\n",
    "Gray.(reshape(A*x,192,168))"
   ]
  },
  {
   "cell_type": "code",
   "execution_count": 50,
   "metadata": {},
   "outputs": [
    {
     "data": {
      "text/plain": [
       "1.2732281025718309e-12"
      ]
     },
     "execution_count": 50,
     "metadata": {},
     "output_type": "execute_result"
    }
   ],
   "source": [
    "norm(A*x-b)"
   ]
  },
  {
   "cell_type": "markdown",
   "metadata": {},
   "source": [
    "This was an easy problem. Let's try to make the picture harder to recover. We will add some random error."
   ]
  },
  {
   "cell_type": "code",
   "execution_count": 51,
   "metadata": {},
   "outputs": [
    {
     "ename": "LoadError",
     "evalue": "UndefVarError: q not defined",
     "output_type": "error",
     "traceback": [
      "UndefVarError: q not defined",
      "",
      "Stacktrace:",
      " [1] top-level scope",
      "   @ In[51]:1",
      " [2] eval",
      "   @ ./boot.jl:373 [inlined]",
      " [3] include_string(mapexpr::typeof(REPL.softscope), mod::Module, code::String, filename::String)",
      "   @ Base ./loading.jl:1196"
     ]
    }
   ],
   "source": [
    "qv = q+rand(size(q,1),size(q,2))*0.5\n",
    "qv = qv./maximum(qv)\n",
    "Gray.(qv)"
   ]
  },
  {
   "cell_type": "code",
   "execution_count": 52,
   "metadata": {},
   "outputs": [
    {
     "ename": "LoadError",
     "evalue": "UndefVarError: qv not defined",
     "output_type": "error",
     "traceback": [
      "UndefVarError: qv not defined",
      "",
      "Stacktrace:",
      " [1] top-level scope",
      "   @ In[52]:1",
      " [2] eval",
      "   @ ./boot.jl:373 [inlined]",
      " [3] include_string(mapexpr::typeof(REPL.softscope), mod::Module, code::String, filename::String)",
      "   @ Base ./loading.jl:1196"
     ]
    }
   ],
   "source": [
    "b = qv[:];"
   ]
  },
  {
   "cell_type": "code",
   "execution_count": 53,
   "metadata": {},
   "outputs": [
    {
     "data": {
      "text/plain": [
       "1.2732281025718309e-12"
      ]
     },
     "execution_count": 53,
     "metadata": {},
     "output_type": "execute_result"
    }
   ],
   "source": [
    "x = A\\b\n",
    "norm(A*x-b)"
   ]
  },
  {
   "cell_type": "markdown",
   "metadata": {},
   "source": [
    "The error is so much bigger this time."
   ]
  },
  {
   "cell_type": "code",
   "execution_count": 54,
   "metadata": {},
   "outputs": [
    {
     "ename": "LoadError",
     "evalue": "DimensionMismatch(\"new dimensions (192, 168) must be consistent with array size 10\")",
     "output_type": "error",
     "traceback": [
      "DimensionMismatch(\"new dimensions (192, 168) must be consistent with array size 10\")",
      "",
      "Stacktrace:",
      " [1] (::Base.var\"#throw_dmrsa#272\")(dims::Tuple{Int64, Int64}, len::Int64)",
      "   @ Base ./reshapedarray.jl:41",
      " [2] reshape",
      "   @ ./reshapedarray.jl:45 [inlined]",
      " [3] reshape(::Vector{Float64}, ::Int64, ::Int64)",
      "   @ Base ./reshapedarray.jl:116",
      " [4] top-level scope",
      "   @ In[54]:1",
      " [5] eval",
      "   @ ./boot.jl:373 [inlined]",
      " [6] include_string(mapexpr::typeof(REPL.softscope), mod::Module, code::String, filename::String)",
      "   @ Base ./loading.jl:1196"
     ]
    }
   ],
   "source": [
    "Gray.(reshape(A*x,192,168))"
   ]
  },
  {
   "cell_type": "markdown",
   "metadata": {},
   "source": [
    "# Finally...\n",
    "After finishing this notebook, you should be able to:\n",
    "- [ ] reshape and vectorize a matrix\n",
    "- [ ] apply basic linear algebra operations such as transpose, matrix-matrix product, and solve a linear systerm\n",
    "- [ ] call a linear algebra factorization on your matrix\n",
    "- [ ] use SVD to created a compressed version of an image\n",
    "- [ ] solve the face recognition problem via a least square approach\n",
    "- [ ] create a sparse matrix, and call the components of the Compressed Sparse Column storage\n",
    "- [ ] list a few types of matrices Julia uses (diagonal, upper triangular,...)\n",
    "- [ ] (unrelated to linear algebra): load an image, convert it to grayscale, and extract the RGB layers"
   ]
  }
 ],
 "metadata": {
  "kernelspec": {
   "display_name": "Julia 1.7.2",
   "language": "julia",
   "name": "julia-1.7"
  },
  "language_info": {
   "file_extension": ".jl",
   "mimetype": "application/julia",
   "name": "julia",
   "version": "1.7.2"
  }
 },
 "nbformat": 4,
 "nbformat_minor": 4
}
