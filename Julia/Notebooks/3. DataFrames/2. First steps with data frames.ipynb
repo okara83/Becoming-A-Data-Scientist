{
 "cells": [
  {
   "cell_type": "markdown",
   "metadata": {},
   "source": [
    "# First steps with DataFrames.jl\n",
    "\n",
    "\n",
    "In this notebook we will reproduce the classical Anscombe's quartert plot.\n",
    "\n",
    "Our objective is to produce a figure similar to this one (the plot is taken from https://upload.wikimedia.org/wikipedia/commons/e/ec/Anscombe%27s_quartet_3.svg):"
   ]
  },
  {
   "cell_type": "markdown",
   "metadata": {},
   "source": [
    "![Anscombe's quartet](https://upload.wikimedia.org/wikipedia/commons/e/ec/Anscombe%27s_quartet_3.svg)"
   ]
  },
  {
   "cell_type": "markdown",
   "metadata": {},
   "source": [
    "We start with loading of the required packages"
   ]
  },
  {
   "cell_type": "code",
   "execution_count": 23,
   "metadata": {},
   "outputs": [],
   "source": [
    "using DataFrames"
   ]
  },
  {
   "cell_type": "code",
   "execution_count": 24,
   "metadata": {},
   "outputs": [],
   "source": [
    "using Statistics"
   ]
  },
  {
   "cell_type": "code",
   "execution_count": 25,
   "metadata": {},
   "outputs": [
    {
     "name": "stdout",
     "output_type": "stream",
     "text": [
      "Collecting package metadata (current_repodata.json): ...working... done\n",
      "Solving environment: ...working... done\n",
      "\n",
      "## Package Plan ##\n",
      "\n",
      "  environment location: /Users/okara/.julia/conda/3\n",
      "\n",
      "  added / updated specs:\n",
      "    - pyqt\n",
      "\n",
      "\n",
      "The following packages will be downloaded:\n",
      "\n",
      "    package                    |            build\n",
      "    ---------------------------|-----------------\n",
      "    libclang-13.0.1            |default_he082bbe_0         8.0 MB  conda-forge\n",
      "    libllvm13-13.0.1           |       hd011deb_0        25.3 MB  conda-forge\n",
      "    mysql-common-8.0.28        |       h694c41f_0         1.8 MB  conda-forge\n",
      "    pyqt-5.12.3                |   py39h6e9494a_8          22 KB  conda-forge\n",
      "    ------------------------------------------------------------\n",
      "                                           Total:        35.1 MB\n",
      "\n",
      "The following NEW packages will be INSTALLED:\n",
      "\n",
      "  dbus               conda-forge/osx-64::dbus-1.13.6-h811a1a6_3\n",
      "  expat              conda-forge/osx-64::expat-2.4.4-he49afe7_0\n",
      "  gettext            conda-forge/osx-64::gettext-0.19.8.1-hd1a6beb_1008\n",
      "  icu                conda-forge/osx-64::icu-69.1-he49afe7_0\n",
      "  krb5               conda-forge/osx-64::krb5-1.19.2-hcfbf3a7_3\n",
      "  libclang           conda-forge/osx-64::libclang-13.0.1-default_he082bbe_0\n",
      "  libedit            conda-forge/osx-64::libedit-3.1.20191231-h0678c8f_2\n",
      "  libglib            conda-forge/osx-64::libglib-2.70.2-hf1fb8c0_4\n",
      "  libiconv           conda-forge/osx-64::libiconv-1.16-haf1e3a3_0\n",
      "  libllvm13          conda-forge/osx-64::libllvm13-13.0.1-hd011deb_0\n",
      "  libpq              conda-forge/osx-64::libpq-14.2-hea3049e_0\n",
      "  mysql-common       conda-forge/osx-64::mysql-common-8.0.28-h694c41f_0\n",
      "  mysql-libs         conda-forge/osx-64::mysql-libs-8.0.28-h115446f_0\n",
      "  nspr               conda-forge/osx-64::nspr-4.32-hcd9eead_1\n",
      "  nss                conda-forge/osx-64::nss-3.74-h31e2bf1_0\n",
      "  pcre               conda-forge/osx-64::pcre-8.45-he49afe7_0\n",
      "  pyqt               conda-forge/osx-64::pyqt-5.12.3-py39h6e9494a_8\n",
      "  pyqt-impl          conda-forge/osx-64::pyqt-impl-5.12.3-py39he44290a_8\n",
      "  pyqt5-sip          conda-forge/osx-64::pyqt5-sip-4.19.18-py39h15fb055_8\n",
      "  pyqtchart          conda-forge/osx-64::pyqtchart-5.12-py39he44290a_8\n",
      "  pyqtwebengine      conda-forge/osx-64::pyqtwebengine-5.12.1-py39he44290a_8\n",
      "  qt                 conda-forge/osx-64::qt-5.12.9-h2a607e2_5\n",
      "\n",
      "\n",
      "\n",
      "Downloading and Extracting Packages\n",
      "\r",
      "pyqt-5.12.3          | 22 KB     |                                      |   0% \r",
      "pyqt-5.12.3          | 22 KB     | #################################### | 100% \r",
      "pyqt-5.12.3          | 22 KB     | #################################### | 100% \n",
      "\r",
      "mysql-common-8.0.28  | 1.8 MB    |                                      |   0% \r",
      "mysql-common-8.0.28  | 1.8 MB    | #################################### | 100% \r",
      "mysql-common-8.0.28  | 1.8 MB    | #################################### | 100% \n",
      "\r",
      "libclang-13.0.1      | 8.0 MB    |                                      |   0% \r",
      "libclang-13.0.1      | 8.0 MB    | ############4                        |  34% \r",
      "libclang-13.0.1      | 8.0 MB    | #################################7   |  94% \r",
      "libclang-13.0.1      | 8.0 MB    | #################################### | 100% \n",
      "\r",
      "libllvm13-13.0.1     | 25.3 MB   |                                      |   0% \r",
      "libllvm13-13.0.1     | 25.3 MB   | ####5                                |  13% \r",
      "libllvm13-13.0.1     | 25.3 MB   | #############5                       |  38% \r",
      "libllvm13-13.0.1     | 25.3 MB   | ######################4              |  62% \r",
      "libllvm13-13.0.1     | 25.3 MB   | ##############################4      |  84% \r",
      "libllvm13-13.0.1     | 25.3 MB   | #################################### | 100% \n",
      "Preparing transaction: ...working... done\n",
      "Verifying transaction: ...working... done\n",
      "Executing transaction: ...working... done\n",
      "Rolling back transaction: ...working... done\n"
     ]
    },
    {
     "name": "stderr",
     "output_type": "stream",
     "text": [
      "┌ Info: Installing pyqt package to avoid buggy tkagg backend.\n",
      "└ @ PyPlot /Users/okara/.julia/packages/PyPlot/XaELc/src/init.jl:118\n",
      "┌ Info: Installing PyQt5 via the Conda pyqt package...\n",
      "└ @ PyCall /Users/okara/.julia/packages/PyCall/L0fLP/src/PyCall.jl:711\n",
      "┌ Info: Running `conda install -y pyqt` in root environment\n",
      "└ @ Conda /Users/okara/.julia/packages/Conda/1403Y/src/Conda.jl:129\n",
      "ERROR conda.core.link:_execute(699): An error occurred while installing package 'conda-forge::libiconv-1.16-haf1e3a3_0'.\n",
      "\n",
      "CondaError: Cannot link a source that does not exist. /Users/okara/.julia/conda/3/.condatmp/87f3a7c2-d5cd-4684-b3c8-091b09d02588\n",
      "Running `conda clean --packages` may resolve your problem.\n",
      "()\n",
      "\n"
     ]
    }
   ],
   "source": [
    "using PyPlot"
   ]
  },
  {
   "cell_type": "markdown",
   "metadata": {},
   "source": [
    "<div class=\"alert alert-block alert-info\">\n",
    "    <p><b>PyPlot.jl configuration:</b></p>\n",
    "    <p>In some environments automatic installation of PyPlot.jl might fail. If you encounter this ussue please refer to <a href=\"https://github.com/JuliaPy/PyPlot.jl#installation\">the PyPlot.jl installation instructions</a>. </p>\n",
    "</div>\n",
    "\n",
    "In particular typically executing the following commands:\n",
    "\n",
    "```\n",
    "using Pkg\n",
    "ENV[\"PYTHON\"]=\"\"\n",
    "Pkg.build(\"PyCall\")\n",
    "```\n",
    "\n",
    "should resolve the PyPlot.jl installation issues. However, on OS X sometimes more configuration steps are required. You can find the detailed instructions [here](https://github.com/JuliaPy/PyPlot.jl#os-x)."
   ]
  },
  {
   "cell_type": "code",
   "execution_count": 26,
   "metadata": {},
   "outputs": [
    {
     "ename": "LoadError",
     "evalue": "ArgumentError: Package GLM not found in current path:\n- Run `import Pkg; Pkg.add(\"GLM\")` to install the GLM package.\n",
     "output_type": "error",
     "traceback": [
      "ArgumentError: Package GLM not found in current path:\n- Run `import Pkg; Pkg.add(\"GLM\")` to install the GLM package.\n",
      "",
      "Stacktrace:",
      " [1] require(into::Module, mod::Symbol)",
      "   @ Base ./loading.jl:967",
      " [2] eval",
      "   @ ./boot.jl:373 [inlined]",
      " [3] include_string(mapexpr::typeof(REPL.softscope), mod::Module, code::String, filename::String)",
      "   @ Base ./loading.jl:1196"
     ]
    }
   ],
   "source": [
    "using GLM"
   ]
  },
  {
   "cell_type": "markdown",
   "metadata": {},
   "source": [
    "This is a matrix in which we store 8 columns representing Anscombe's quartet data"
   ]
  },
  {
   "cell_type": "code",
   "execution_count": 27,
   "metadata": {},
   "outputs": [
    {
     "data": {
      "text/plain": [
       "11×8 Matrix{Float64}:\n",
       " 10.0   8.04  10.0  9.14  10.0   7.46   8.0   6.58\n",
       "  8.0   6.95   8.0  8.14   8.0   6.77   8.0   5.76\n",
       " 13.0   7.58  13.0  8.74  13.0  12.74   8.0   7.71\n",
       "  9.0   8.81   9.0  8.77   9.0   7.11   8.0   8.84\n",
       " 11.0   8.33  11.0  9.26  11.0   7.81   8.0   8.47\n",
       " 14.0   9.96  14.0  8.1   14.0   8.84   8.0   7.04\n",
       "  6.0   7.24   6.0  6.13   6.0   6.08   8.0   5.25\n",
       "  4.0   4.26   4.0  3.1    4.0   5.39  19.0  12.5\n",
       " 12.0  10.84  12.0  9.13  12.0   8.15   8.0   5.56\n",
       "  7.0   4.82   7.0  7.26   7.0   6.42   8.0   7.91\n",
       "  5.0   5.68   5.0  4.74   5.0   5.73   8.0   6.89"
      ]
     },
     "execution_count": 27,
     "metadata": {},
     "output_type": "execute_result"
    }
   ],
   "source": [
    "aq = [10.0   8.04  10.0  9.14  10.0   7.46   8.0   6.58\n",
    "       8.0   6.95   8.0  8.14   8.0   6.77   8.0   5.76\n",
    "      13.0   7.58  13.0  8.74  13.0  12.74   8.0   7.71\n",
    "       9.0   8.81   9.0  8.77   9.0   7.11   8.0   8.84\n",
    "      11.0   8.33  11.0  9.26  11.0   7.81   8.0   8.47\n",
    "      14.0   9.96  14.0  8.1   14.0   8.84   8.0   7.04\n",
    "       6.0   7.24   6.0  6.13   6.0   6.08   8.0   5.25\n",
    "       4.0   4.26   4.0  3.1    4.0   5.39  19.0  12.50 \n",
    "      12.0  10.84  12.0  9.13  12.0   8.15   8.0   5.56\n",
    "       7.0   4.82   7.0  7.26   7.0   6.42   8.0   7.91\n",
    "       5.0   5.68   5.0  4.74   5.0   5.73   8.0   6.89]"
   ]
  },
  {
   "cell_type": "markdown",
   "metadata": {},
   "source": [
    "We can simply convert a maxtrx to a `DataFrame` by calling its constructor"
   ]
  },
  {
   "cell_type": "code",
   "execution_count": 28,
   "metadata": {},
   "outputs": [
    {
     "data": {
      "text/html": [
       "<div class=\"data-frame\"><p>11 rows × 8 columns</p><table class=\"data-frame\"><thead><tr><th></th><th>x1</th><th>x2</th><th>x3</th><th>x4</th><th>x5</th><th>x6</th><th>x7</th><th>x8</th></tr><tr><th></th><th title=\"Float64\">Float64</th><th title=\"Float64\">Float64</th><th title=\"Float64\">Float64</th><th title=\"Float64\">Float64</th><th title=\"Float64\">Float64</th><th title=\"Float64\">Float64</th><th title=\"Float64\">Float64</th><th title=\"Float64\">Float64</th></tr></thead><tbody><tr><th>1</th><td>10.0</td><td>8.04</td><td>10.0</td><td>9.14</td><td>10.0</td><td>7.46</td><td>8.0</td><td>6.58</td></tr><tr><th>2</th><td>8.0</td><td>6.95</td><td>8.0</td><td>8.14</td><td>8.0</td><td>6.77</td><td>8.0</td><td>5.76</td></tr><tr><th>3</th><td>13.0</td><td>7.58</td><td>13.0</td><td>8.74</td><td>13.0</td><td>12.74</td><td>8.0</td><td>7.71</td></tr><tr><th>4</th><td>9.0</td><td>8.81</td><td>9.0</td><td>8.77</td><td>9.0</td><td>7.11</td><td>8.0</td><td>8.84</td></tr><tr><th>5</th><td>11.0</td><td>8.33</td><td>11.0</td><td>9.26</td><td>11.0</td><td>7.81</td><td>8.0</td><td>8.47</td></tr><tr><th>6</th><td>14.0</td><td>9.96</td><td>14.0</td><td>8.1</td><td>14.0</td><td>8.84</td><td>8.0</td><td>7.04</td></tr><tr><th>7</th><td>6.0</td><td>7.24</td><td>6.0</td><td>6.13</td><td>6.0</td><td>6.08</td><td>8.0</td><td>5.25</td></tr><tr><th>8</th><td>4.0</td><td>4.26</td><td>4.0</td><td>3.1</td><td>4.0</td><td>5.39</td><td>19.0</td><td>12.5</td></tr><tr><th>9</th><td>12.0</td><td>10.84</td><td>12.0</td><td>9.13</td><td>12.0</td><td>8.15</td><td>8.0</td><td>5.56</td></tr><tr><th>10</th><td>7.0</td><td>4.82</td><td>7.0</td><td>7.26</td><td>7.0</td><td>6.42</td><td>8.0</td><td>7.91</td></tr><tr><th>11</th><td>5.0</td><td>5.68</td><td>5.0</td><td>4.74</td><td>5.0</td><td>5.73</td><td>8.0</td><td>6.89</td></tr></tbody></table></div>"
      ],
      "text/latex": [
       "\\begin{tabular}{r|cccccccc}\n",
       "\t& x1 & x2 & x3 & x4 & x5 & x6 & x7 & x8\\\\\n",
       "\t\\hline\n",
       "\t& Float64 & Float64 & Float64 & Float64 & Float64 & Float64 & Float64 & Float64\\\\\n",
       "\t\\hline\n",
       "\t1 & 10.0 & 8.04 & 10.0 & 9.14 & 10.0 & 7.46 & 8.0 & 6.58 \\\\\n",
       "\t2 & 8.0 & 6.95 & 8.0 & 8.14 & 8.0 & 6.77 & 8.0 & 5.76 \\\\\n",
       "\t3 & 13.0 & 7.58 & 13.0 & 8.74 & 13.0 & 12.74 & 8.0 & 7.71 \\\\\n",
       "\t4 & 9.0 & 8.81 & 9.0 & 8.77 & 9.0 & 7.11 & 8.0 & 8.84 \\\\\n",
       "\t5 & 11.0 & 8.33 & 11.0 & 9.26 & 11.0 & 7.81 & 8.0 & 8.47 \\\\\n",
       "\t6 & 14.0 & 9.96 & 14.0 & 8.1 & 14.0 & 8.84 & 8.0 & 7.04 \\\\\n",
       "\t7 & 6.0 & 7.24 & 6.0 & 6.13 & 6.0 & 6.08 & 8.0 & 5.25 \\\\\n",
       "\t8 & 4.0 & 4.26 & 4.0 & 3.1 & 4.0 & 5.39 & 19.0 & 12.5 \\\\\n",
       "\t9 & 12.0 & 10.84 & 12.0 & 9.13 & 12.0 & 8.15 & 8.0 & 5.56 \\\\\n",
       "\t10 & 7.0 & 4.82 & 7.0 & 7.26 & 7.0 & 6.42 & 8.0 & 7.91 \\\\\n",
       "\t11 & 5.0 & 5.68 & 5.0 & 4.74 & 5.0 & 5.73 & 8.0 & 6.89 \\\\\n",
       "\\end{tabular}\n"
      ],
      "text/plain": [
       "\u001b[1m11×8 DataFrame\u001b[0m\n",
       "\u001b[1m Row \u001b[0m│\u001b[1m x1      \u001b[0m\u001b[1m x2      \u001b[0m\u001b[1m x3      \u001b[0m\u001b[1m x4      \u001b[0m\u001b[1m x5      \u001b[0m\u001b[1m x6      \u001b[0m\u001b[1m x7      \u001b[0m\u001b[1m x8      \u001b[0m\n",
       "\u001b[1m     \u001b[0m│\u001b[90m Float64 \u001b[0m\u001b[90m Float64 \u001b[0m\u001b[90m Float64 \u001b[0m\u001b[90m Float64 \u001b[0m\u001b[90m Float64 \u001b[0m\u001b[90m Float64 \u001b[0m\u001b[90m Float64 \u001b[0m\u001b[90m Float64 \u001b[0m\n",
       "─────┼────────────────────────────────────────────────────────────────────────\n",
       "   1 │    10.0     8.04     10.0     9.14     10.0     7.46      8.0     6.58\n",
       "   2 │     8.0     6.95      8.0     8.14      8.0     6.77      8.0     5.76\n",
       "   3 │    13.0     7.58     13.0     8.74     13.0    12.74      8.0     7.71\n",
       "   4 │     9.0     8.81      9.0     8.77      9.0     7.11      8.0     8.84\n",
       "   5 │    11.0     8.33     11.0     9.26     11.0     7.81      8.0     8.47\n",
       "   6 │    14.0     9.96     14.0     8.1      14.0     8.84      8.0     7.04\n",
       "   7 │     6.0     7.24      6.0     6.13      6.0     6.08      8.0     5.25\n",
       "   8 │     4.0     4.26      4.0     3.1       4.0     5.39     19.0    12.5\n",
       "   9 │    12.0    10.84     12.0     9.13     12.0     8.15      8.0     5.56\n",
       "  10 │     7.0     4.82      7.0     7.26      7.0     6.42      8.0     7.91\n",
       "  11 │     5.0     5.68      5.0     4.74      5.0     5.73      8.0     6.89"
      ]
     },
     "execution_count": 28,
     "metadata": {},
     "output_type": "execute_result"
    }
   ],
   "source": [
    "df = DataFrame(aq, :auto)"
   ]
  },
  {
   "cell_type": "markdown",
   "metadata": {},
   "source": [
    "Note that the auto-generated column names are `x1`, `x2`, etc."
   ]
  },
  {
   "cell_type": "markdown",
   "metadata": {},
   "source": [
    "Next we replace automatically generated column names by proper ones."
   ]
  },
  {
   "cell_type": "code",
   "execution_count": 29,
   "metadata": {},
   "outputs": [
    {
     "data": {
      "text/plain": [
       "8-element Vector{String}:\n",
       " \"x1\"\n",
       " \"y1\"\n",
       " \"x2\"\n",
       " \"y2\"\n",
       " \"x3\"\n",
       " \"y3\"\n",
       " \"x4\"\n",
       " \"y4\""
      ]
     },
     "execution_count": 29,
     "metadata": {},
     "output_type": "execute_result"
    }
   ],
   "source": [
    "newnames = vec(string.([\"x\", \"y\"], [1 2 3 4]))"
   ]
  },
  {
   "cell_type": "code",
   "execution_count": 30,
   "metadata": {},
   "outputs": [
    {
     "data": {
      "text/html": [
       "<div class=\"data-frame\"><p>11 rows × 8 columns</p><table class=\"data-frame\"><thead><tr><th></th><th>x1</th><th>y1</th><th>x2</th><th>y2</th><th>x3</th><th>y3</th><th>x4</th><th>y4</th></tr><tr><th></th><th title=\"Float64\">Float64</th><th title=\"Float64\">Float64</th><th title=\"Float64\">Float64</th><th title=\"Float64\">Float64</th><th title=\"Float64\">Float64</th><th title=\"Float64\">Float64</th><th title=\"Float64\">Float64</th><th title=\"Float64\">Float64</th></tr></thead><tbody><tr><th>1</th><td>10.0</td><td>8.04</td><td>10.0</td><td>9.14</td><td>10.0</td><td>7.46</td><td>8.0</td><td>6.58</td></tr><tr><th>2</th><td>8.0</td><td>6.95</td><td>8.0</td><td>8.14</td><td>8.0</td><td>6.77</td><td>8.0</td><td>5.76</td></tr><tr><th>3</th><td>13.0</td><td>7.58</td><td>13.0</td><td>8.74</td><td>13.0</td><td>12.74</td><td>8.0</td><td>7.71</td></tr><tr><th>4</th><td>9.0</td><td>8.81</td><td>9.0</td><td>8.77</td><td>9.0</td><td>7.11</td><td>8.0</td><td>8.84</td></tr><tr><th>5</th><td>11.0</td><td>8.33</td><td>11.0</td><td>9.26</td><td>11.0</td><td>7.81</td><td>8.0</td><td>8.47</td></tr><tr><th>6</th><td>14.0</td><td>9.96</td><td>14.0</td><td>8.1</td><td>14.0</td><td>8.84</td><td>8.0</td><td>7.04</td></tr><tr><th>7</th><td>6.0</td><td>7.24</td><td>6.0</td><td>6.13</td><td>6.0</td><td>6.08</td><td>8.0</td><td>5.25</td></tr><tr><th>8</th><td>4.0</td><td>4.26</td><td>4.0</td><td>3.1</td><td>4.0</td><td>5.39</td><td>19.0</td><td>12.5</td></tr><tr><th>9</th><td>12.0</td><td>10.84</td><td>12.0</td><td>9.13</td><td>12.0</td><td>8.15</td><td>8.0</td><td>5.56</td></tr><tr><th>10</th><td>7.0</td><td>4.82</td><td>7.0</td><td>7.26</td><td>7.0</td><td>6.42</td><td>8.0</td><td>7.91</td></tr><tr><th>11</th><td>5.0</td><td>5.68</td><td>5.0</td><td>4.74</td><td>5.0</td><td>5.73</td><td>8.0</td><td>6.89</td></tr></tbody></table></div>"
      ],
      "text/latex": [
       "\\begin{tabular}{r|cccccccc}\n",
       "\t& x1 & y1 & x2 & y2 & x3 & y3 & x4 & y4\\\\\n",
       "\t\\hline\n",
       "\t& Float64 & Float64 & Float64 & Float64 & Float64 & Float64 & Float64 & Float64\\\\\n",
       "\t\\hline\n",
       "\t1 & 10.0 & 8.04 & 10.0 & 9.14 & 10.0 & 7.46 & 8.0 & 6.58 \\\\\n",
       "\t2 & 8.0 & 6.95 & 8.0 & 8.14 & 8.0 & 6.77 & 8.0 & 5.76 \\\\\n",
       "\t3 & 13.0 & 7.58 & 13.0 & 8.74 & 13.0 & 12.74 & 8.0 & 7.71 \\\\\n",
       "\t4 & 9.0 & 8.81 & 9.0 & 8.77 & 9.0 & 7.11 & 8.0 & 8.84 \\\\\n",
       "\t5 & 11.0 & 8.33 & 11.0 & 9.26 & 11.0 & 7.81 & 8.0 & 8.47 \\\\\n",
       "\t6 & 14.0 & 9.96 & 14.0 & 8.1 & 14.0 & 8.84 & 8.0 & 7.04 \\\\\n",
       "\t7 & 6.0 & 7.24 & 6.0 & 6.13 & 6.0 & 6.08 & 8.0 & 5.25 \\\\\n",
       "\t8 & 4.0 & 4.26 & 4.0 & 3.1 & 4.0 & 5.39 & 19.0 & 12.5 \\\\\n",
       "\t9 & 12.0 & 10.84 & 12.0 & 9.13 & 12.0 & 8.15 & 8.0 & 5.56 \\\\\n",
       "\t10 & 7.0 & 4.82 & 7.0 & 7.26 & 7.0 & 6.42 & 8.0 & 7.91 \\\\\n",
       "\t11 & 5.0 & 5.68 & 5.0 & 4.74 & 5.0 & 5.73 & 8.0 & 6.89 \\\\\n",
       "\\end{tabular}\n"
      ],
      "text/plain": [
       "\u001b[1m11×8 DataFrame\u001b[0m\n",
       "\u001b[1m Row \u001b[0m│\u001b[1m x1      \u001b[0m\u001b[1m y1      \u001b[0m\u001b[1m x2      \u001b[0m\u001b[1m y2      \u001b[0m\u001b[1m x3      \u001b[0m\u001b[1m y3      \u001b[0m\u001b[1m x4      \u001b[0m\u001b[1m y4      \u001b[0m\n",
       "\u001b[1m     \u001b[0m│\u001b[90m Float64 \u001b[0m\u001b[90m Float64 \u001b[0m\u001b[90m Float64 \u001b[0m\u001b[90m Float64 \u001b[0m\u001b[90m Float64 \u001b[0m\u001b[90m Float64 \u001b[0m\u001b[90m Float64 \u001b[0m\u001b[90m Float64 \u001b[0m\n",
       "─────┼────────────────────────────────────────────────────────────────────────\n",
       "   1 │    10.0     8.04     10.0     9.14     10.0     7.46      8.0     6.58\n",
       "   2 │     8.0     6.95      8.0     8.14      8.0     6.77      8.0     5.76\n",
       "   3 │    13.0     7.58     13.0     8.74     13.0    12.74      8.0     7.71\n",
       "   4 │     9.0     8.81      9.0     8.77      9.0     7.11      8.0     8.84\n",
       "   5 │    11.0     8.33     11.0     9.26     11.0     7.81      8.0     8.47\n",
       "   6 │    14.0     9.96     14.0     8.1      14.0     8.84      8.0     7.04\n",
       "   7 │     6.0     7.24      6.0     6.13      6.0     6.08      8.0     5.25\n",
       "   8 │     4.0     4.26      4.0     3.1       4.0     5.39     19.0    12.5\n",
       "   9 │    12.0    10.84     12.0     9.13     12.0     8.15      8.0     5.56\n",
       "  10 │     7.0     4.82      7.0     7.26      7.0     6.42      8.0     7.91\n",
       "  11 │     5.0     5.68      5.0     4.74      5.0     5.73      8.0     6.89"
      ]
     },
     "execution_count": 30,
     "metadata": {},
     "output_type": "execute_result"
    }
   ],
   "source": [
    "rename!(df, newnames)"
   ]
  },
  {
   "cell_type": "markdown",
   "metadata": {},
   "source": [
    "We could have also assigned the names to columns at the moment of data frame creation like this:"
   ]
  },
  {
   "cell_type": "code",
   "execution_count": 31,
   "metadata": {},
   "outputs": [
    {
     "data": {
      "text/html": [
       "<div class=\"data-frame\"><p>11 rows × 8 columns</p><table class=\"data-frame\"><thead><tr><th></th><th>x1</th><th>y1</th><th>x2</th><th>y2</th><th>x3</th><th>y3</th><th>x4</th><th>y4</th></tr><tr><th></th><th title=\"Float64\">Float64</th><th title=\"Float64\">Float64</th><th title=\"Float64\">Float64</th><th title=\"Float64\">Float64</th><th title=\"Float64\">Float64</th><th title=\"Float64\">Float64</th><th title=\"Float64\">Float64</th><th title=\"Float64\">Float64</th></tr></thead><tbody><tr><th>1</th><td>10.0</td><td>8.04</td><td>10.0</td><td>9.14</td><td>10.0</td><td>7.46</td><td>8.0</td><td>6.58</td></tr><tr><th>2</th><td>8.0</td><td>6.95</td><td>8.0</td><td>8.14</td><td>8.0</td><td>6.77</td><td>8.0</td><td>5.76</td></tr><tr><th>3</th><td>13.0</td><td>7.58</td><td>13.0</td><td>8.74</td><td>13.0</td><td>12.74</td><td>8.0</td><td>7.71</td></tr><tr><th>4</th><td>9.0</td><td>8.81</td><td>9.0</td><td>8.77</td><td>9.0</td><td>7.11</td><td>8.0</td><td>8.84</td></tr><tr><th>5</th><td>11.0</td><td>8.33</td><td>11.0</td><td>9.26</td><td>11.0</td><td>7.81</td><td>8.0</td><td>8.47</td></tr><tr><th>6</th><td>14.0</td><td>9.96</td><td>14.0</td><td>8.1</td><td>14.0</td><td>8.84</td><td>8.0</td><td>7.04</td></tr><tr><th>7</th><td>6.0</td><td>7.24</td><td>6.0</td><td>6.13</td><td>6.0</td><td>6.08</td><td>8.0</td><td>5.25</td></tr><tr><th>8</th><td>4.0</td><td>4.26</td><td>4.0</td><td>3.1</td><td>4.0</td><td>5.39</td><td>19.0</td><td>12.5</td></tr><tr><th>9</th><td>12.0</td><td>10.84</td><td>12.0</td><td>9.13</td><td>12.0</td><td>8.15</td><td>8.0</td><td>5.56</td></tr><tr><th>10</th><td>7.0</td><td>4.82</td><td>7.0</td><td>7.26</td><td>7.0</td><td>6.42</td><td>8.0</td><td>7.91</td></tr><tr><th>11</th><td>5.0</td><td>5.68</td><td>5.0</td><td>4.74</td><td>5.0</td><td>5.73</td><td>8.0</td><td>6.89</td></tr></tbody></table></div>"
      ],
      "text/latex": [
       "\\begin{tabular}{r|cccccccc}\n",
       "\t& x1 & y1 & x2 & y2 & x3 & y3 & x4 & y4\\\\\n",
       "\t\\hline\n",
       "\t& Float64 & Float64 & Float64 & Float64 & Float64 & Float64 & Float64 & Float64\\\\\n",
       "\t\\hline\n",
       "\t1 & 10.0 & 8.04 & 10.0 & 9.14 & 10.0 & 7.46 & 8.0 & 6.58 \\\\\n",
       "\t2 & 8.0 & 6.95 & 8.0 & 8.14 & 8.0 & 6.77 & 8.0 & 5.76 \\\\\n",
       "\t3 & 13.0 & 7.58 & 13.0 & 8.74 & 13.0 & 12.74 & 8.0 & 7.71 \\\\\n",
       "\t4 & 9.0 & 8.81 & 9.0 & 8.77 & 9.0 & 7.11 & 8.0 & 8.84 \\\\\n",
       "\t5 & 11.0 & 8.33 & 11.0 & 9.26 & 11.0 & 7.81 & 8.0 & 8.47 \\\\\n",
       "\t6 & 14.0 & 9.96 & 14.0 & 8.1 & 14.0 & 8.84 & 8.0 & 7.04 \\\\\n",
       "\t7 & 6.0 & 7.24 & 6.0 & 6.13 & 6.0 & 6.08 & 8.0 & 5.25 \\\\\n",
       "\t8 & 4.0 & 4.26 & 4.0 & 3.1 & 4.0 & 5.39 & 19.0 & 12.5 \\\\\n",
       "\t9 & 12.0 & 10.84 & 12.0 & 9.13 & 12.0 & 8.15 & 8.0 & 5.56 \\\\\n",
       "\t10 & 7.0 & 4.82 & 7.0 & 7.26 & 7.0 & 6.42 & 8.0 & 7.91 \\\\\n",
       "\t11 & 5.0 & 5.68 & 5.0 & 4.74 & 5.0 & 5.73 & 8.0 & 6.89 \\\\\n",
       "\\end{tabular}\n"
      ],
      "text/plain": [
       "\u001b[1m11×8 DataFrame\u001b[0m\n",
       "\u001b[1m Row \u001b[0m│\u001b[1m x1      \u001b[0m\u001b[1m y1      \u001b[0m\u001b[1m x2      \u001b[0m\u001b[1m y2      \u001b[0m\u001b[1m x3      \u001b[0m\u001b[1m y3      \u001b[0m\u001b[1m x4      \u001b[0m\u001b[1m y4      \u001b[0m\n",
       "\u001b[1m     \u001b[0m│\u001b[90m Float64 \u001b[0m\u001b[90m Float64 \u001b[0m\u001b[90m Float64 \u001b[0m\u001b[90m Float64 \u001b[0m\u001b[90m Float64 \u001b[0m\u001b[90m Float64 \u001b[0m\u001b[90m Float64 \u001b[0m\u001b[90m Float64 \u001b[0m\n",
       "─────┼────────────────────────────────────────────────────────────────────────\n",
       "   1 │    10.0     8.04     10.0     9.14     10.0     7.46      8.0     6.58\n",
       "   2 │     8.0     6.95      8.0     8.14      8.0     6.77      8.0     5.76\n",
       "   3 │    13.0     7.58     13.0     8.74     13.0    12.74      8.0     7.71\n",
       "   4 │     9.0     8.81      9.0     8.77      9.0     7.11      8.0     8.84\n",
       "   5 │    11.0     8.33     11.0     9.26     11.0     7.81      8.0     8.47\n",
       "   6 │    14.0     9.96     14.0     8.1      14.0     8.84      8.0     7.04\n",
       "   7 │     6.0     7.24      6.0     6.13      6.0     6.08      8.0     5.25\n",
       "   8 │     4.0     4.26      4.0     3.1       4.0     5.39     19.0    12.5\n",
       "   9 │    12.0    10.84     12.0     9.13     12.0     8.15      8.0     5.56\n",
       "  10 │     7.0     4.82      7.0     7.26      7.0     6.42      8.0     7.91\n",
       "  11 │     5.0     5.68      5.0     4.74      5.0     5.73      8.0     6.89"
      ]
     },
     "execution_count": 31,
     "metadata": {},
     "output_type": "execute_result"
    }
   ],
   "source": [
    "DataFrame(aq, [:x1, :y1, :x2, :y2, :x3, :y3, :x4, :y4])"
   ]
  },
  {
   "cell_type": "markdown",
   "metadata": {},
   "source": [
    "> You might have noticed that in the first example we used a string (e.g. `\"x1\"`) as column name and in the second one we used a `Symbol` (e.g. `:x1`). This was intentional. DataFrames.jl allows you to use either of them for column indexing.\n",
    "\n",
    "To see the above rule at work let us extract the second column `:y1` from this data frame. Here are several options how you can do it:"
   ]
  },
  {
   "cell_type": "code",
   "execution_count": 32,
   "metadata": {},
   "outputs": [
    {
     "data": {
      "text/plain": [
       "11-element Vector{Float64}:\n",
       "  8.04\n",
       "  6.95\n",
       "  7.58\n",
       "  8.81\n",
       "  8.33\n",
       "  9.96\n",
       "  7.24\n",
       "  4.26\n",
       " 10.84\n",
       "  4.82\n",
       "  5.68"
      ]
     },
     "execution_count": 32,
     "metadata": {},
     "output_type": "execute_result"
    }
   ],
   "source": [
    "df.y1"
   ]
  },
  {
   "cell_type": "code",
   "execution_count": 33,
   "metadata": {},
   "outputs": [
    {
     "data": {
      "text/plain": [
       "11-element Vector{Float64}:\n",
       "  8.04\n",
       "  6.95\n",
       "  7.58\n",
       "  8.81\n",
       "  8.33\n",
       "  9.96\n",
       "  7.24\n",
       "  4.26\n",
       " 10.84\n",
       "  4.82\n",
       "  5.68"
      ]
     },
     "execution_count": 33,
     "metadata": {},
     "output_type": "execute_result"
    }
   ],
   "source": [
    "df.\"y1\""
   ]
  },
  {
   "cell_type": "code",
   "execution_count": 34,
   "metadata": {},
   "outputs": [
    {
     "data": {
      "text/plain": [
       "11-element Vector{Float64}:\n",
       "  8.04\n",
       "  6.95\n",
       "  7.58\n",
       "  8.81\n",
       "  8.33\n",
       "  9.96\n",
       "  7.24\n",
       "  4.26\n",
       " 10.84\n",
       "  4.82\n",
       "  5.68"
      ]
     },
     "execution_count": 34,
     "metadata": {},
     "output_type": "execute_result"
    }
   ],
   "source": [
    "df[:, :y1]"
   ]
  },
  {
   "cell_type": "code",
   "execution_count": 35,
   "metadata": {},
   "outputs": [
    {
     "data": {
      "text/plain": [
       "11-element Vector{Float64}:\n",
       "  8.04\n",
       "  6.95\n",
       "  7.58\n",
       "  8.81\n",
       "  8.33\n",
       "  9.96\n",
       "  7.24\n",
       "  4.26\n",
       " 10.84\n",
       "  4.82\n",
       "  5.68"
      ]
     },
     "execution_count": 35,
     "metadata": {},
     "output_type": "execute_result"
    }
   ],
   "source": [
    "df[:, \"y1\"]"
   ]
  },
  {
   "cell_type": "markdown",
   "metadata": {},
   "source": [
    "Assume that now we want to reorder columns of the data frame `df` in-place by first grouping the \"x\"-columns and then \"y\" columns.\n",
    "\n",
    "This can be easiliy achieved with the `select!` function.\n",
    "\n",
    "Note that in column selection we can in particular use regular expressions like `r\"x\"` (matching all columns that have `\"x\"` in their name) and `:` which matches all columns (in this case only columns not having `\"x\"` in ther name are left)"
   ]
  },
  {
   "cell_type": "code",
   "execution_count": 36,
   "metadata": {},
   "outputs": [
    {
     "data": {
      "text/html": [
       "<div class=\"data-frame\"><p>11 rows × 8 columns</p><table class=\"data-frame\"><thead><tr><th></th><th>x1</th><th>x2</th><th>x3</th><th>x4</th><th>y1</th><th>y2</th><th>y3</th><th>y4</th></tr><tr><th></th><th title=\"Float64\">Float64</th><th title=\"Float64\">Float64</th><th title=\"Float64\">Float64</th><th title=\"Float64\">Float64</th><th title=\"Float64\">Float64</th><th title=\"Float64\">Float64</th><th title=\"Float64\">Float64</th><th title=\"Float64\">Float64</th></tr></thead><tbody><tr><th>1</th><td>10.0</td><td>10.0</td><td>10.0</td><td>8.0</td><td>8.04</td><td>9.14</td><td>7.46</td><td>6.58</td></tr><tr><th>2</th><td>8.0</td><td>8.0</td><td>8.0</td><td>8.0</td><td>6.95</td><td>8.14</td><td>6.77</td><td>5.76</td></tr><tr><th>3</th><td>13.0</td><td>13.0</td><td>13.0</td><td>8.0</td><td>7.58</td><td>8.74</td><td>12.74</td><td>7.71</td></tr><tr><th>4</th><td>9.0</td><td>9.0</td><td>9.0</td><td>8.0</td><td>8.81</td><td>8.77</td><td>7.11</td><td>8.84</td></tr><tr><th>5</th><td>11.0</td><td>11.0</td><td>11.0</td><td>8.0</td><td>8.33</td><td>9.26</td><td>7.81</td><td>8.47</td></tr><tr><th>6</th><td>14.0</td><td>14.0</td><td>14.0</td><td>8.0</td><td>9.96</td><td>8.1</td><td>8.84</td><td>7.04</td></tr><tr><th>7</th><td>6.0</td><td>6.0</td><td>6.0</td><td>8.0</td><td>7.24</td><td>6.13</td><td>6.08</td><td>5.25</td></tr><tr><th>8</th><td>4.0</td><td>4.0</td><td>4.0</td><td>19.0</td><td>4.26</td><td>3.1</td><td>5.39</td><td>12.5</td></tr><tr><th>9</th><td>12.0</td><td>12.0</td><td>12.0</td><td>8.0</td><td>10.84</td><td>9.13</td><td>8.15</td><td>5.56</td></tr><tr><th>10</th><td>7.0</td><td>7.0</td><td>7.0</td><td>8.0</td><td>4.82</td><td>7.26</td><td>6.42</td><td>7.91</td></tr><tr><th>11</th><td>5.0</td><td>5.0</td><td>5.0</td><td>8.0</td><td>5.68</td><td>4.74</td><td>5.73</td><td>6.89</td></tr></tbody></table></div>"
      ],
      "text/latex": [
       "\\begin{tabular}{r|cccccccc}\n",
       "\t& x1 & x2 & x3 & x4 & y1 & y2 & y3 & y4\\\\\n",
       "\t\\hline\n",
       "\t& Float64 & Float64 & Float64 & Float64 & Float64 & Float64 & Float64 & Float64\\\\\n",
       "\t\\hline\n",
       "\t1 & 10.0 & 10.0 & 10.0 & 8.0 & 8.04 & 9.14 & 7.46 & 6.58 \\\\\n",
       "\t2 & 8.0 & 8.0 & 8.0 & 8.0 & 6.95 & 8.14 & 6.77 & 5.76 \\\\\n",
       "\t3 & 13.0 & 13.0 & 13.0 & 8.0 & 7.58 & 8.74 & 12.74 & 7.71 \\\\\n",
       "\t4 & 9.0 & 9.0 & 9.0 & 8.0 & 8.81 & 8.77 & 7.11 & 8.84 \\\\\n",
       "\t5 & 11.0 & 11.0 & 11.0 & 8.0 & 8.33 & 9.26 & 7.81 & 8.47 \\\\\n",
       "\t6 & 14.0 & 14.0 & 14.0 & 8.0 & 9.96 & 8.1 & 8.84 & 7.04 \\\\\n",
       "\t7 & 6.0 & 6.0 & 6.0 & 8.0 & 7.24 & 6.13 & 6.08 & 5.25 \\\\\n",
       "\t8 & 4.0 & 4.0 & 4.0 & 19.0 & 4.26 & 3.1 & 5.39 & 12.5 \\\\\n",
       "\t9 & 12.0 & 12.0 & 12.0 & 8.0 & 10.84 & 9.13 & 8.15 & 5.56 \\\\\n",
       "\t10 & 7.0 & 7.0 & 7.0 & 8.0 & 4.82 & 7.26 & 6.42 & 7.91 \\\\\n",
       "\t11 & 5.0 & 5.0 & 5.0 & 8.0 & 5.68 & 4.74 & 5.73 & 6.89 \\\\\n",
       "\\end{tabular}\n"
      ],
      "text/plain": [
       "\u001b[1m11×8 DataFrame\u001b[0m\n",
       "\u001b[1m Row \u001b[0m│\u001b[1m x1      \u001b[0m\u001b[1m x2      \u001b[0m\u001b[1m x3      \u001b[0m\u001b[1m x4      \u001b[0m\u001b[1m y1      \u001b[0m\u001b[1m y2      \u001b[0m\u001b[1m y3      \u001b[0m\u001b[1m y4      \u001b[0m\n",
       "\u001b[1m     \u001b[0m│\u001b[90m Float64 \u001b[0m\u001b[90m Float64 \u001b[0m\u001b[90m Float64 \u001b[0m\u001b[90m Float64 \u001b[0m\u001b[90m Float64 \u001b[0m\u001b[90m Float64 \u001b[0m\u001b[90m Float64 \u001b[0m\u001b[90m Float64 \u001b[0m\n",
       "─────┼────────────────────────────────────────────────────────────────────────\n",
       "   1 │    10.0     10.0     10.0      8.0     8.04     9.14     7.46     6.58\n",
       "   2 │     8.0      8.0      8.0      8.0     6.95     8.14     6.77     5.76\n",
       "   3 │    13.0     13.0     13.0      8.0     7.58     8.74    12.74     7.71\n",
       "   4 │     9.0      9.0      9.0      8.0     8.81     8.77     7.11     8.84\n",
       "   5 │    11.0     11.0     11.0      8.0     8.33     9.26     7.81     8.47\n",
       "   6 │    14.0     14.0     14.0      8.0     9.96     8.1      8.84     7.04\n",
       "   7 │     6.0      6.0      6.0      8.0     7.24     6.13     6.08     5.25\n",
       "   8 │     4.0      4.0      4.0     19.0     4.26     3.1      5.39    12.5\n",
       "   9 │    12.0     12.0     12.0      8.0    10.84     9.13     8.15     5.56\n",
       "  10 │     7.0      7.0      7.0      8.0     4.82     7.26     6.42     7.91\n",
       "  11 │     5.0      5.0      5.0      8.0     5.68     4.74     5.73     6.89"
      ]
     },
     "execution_count": 36,
     "metadata": {},
     "output_type": "execute_result"
    }
   ],
   "source": [
    "select!(df, r\"x\", :)"
   ]
  },
  {
   "cell_type": "markdown",
   "metadata": {},
   "source": [
    "Note that we could have used `select` instead of `select!` function to create a new data frame (instead of mutating the data frame in question in-place)."
   ]
  },
  {
   "cell_type": "markdown",
   "metadata": {},
   "source": [
    "An interesting feature of Anscombe's quartet is that its variables have the same mean and variance.\n",
    "\n",
    "We can easily check this using the `describe` function."
   ]
  },
  {
   "cell_type": "code",
   "execution_count": 37,
   "metadata": {},
   "outputs": [
    {
     "data": {
      "text/html": [
       "<div class=\"data-frame\"><p>8 rows × 3 columns</p><table class=\"data-frame\"><thead><tr><th></th><th>variable</th><th>mean</th><th>std</th></tr><tr><th></th><th title=\"Symbol\">Symbol</th><th title=\"Float64\">Float64</th><th title=\"Float64\">Float64</th></tr></thead><tbody><tr><th>1</th><td>x1</td><td>9.0</td><td>3.31662</td></tr><tr><th>2</th><td>x2</td><td>9.0</td><td>3.31662</td></tr><tr><th>3</th><td>x3</td><td>9.0</td><td>3.31662</td></tr><tr><th>4</th><td>x4</td><td>9.0</td><td>3.31662</td></tr><tr><th>5</th><td>y1</td><td>7.50091</td><td>2.03157</td></tr><tr><th>6</th><td>y2</td><td>7.50091</td><td>2.03166</td></tr><tr><th>7</th><td>y3</td><td>7.5</td><td>2.03042</td></tr><tr><th>8</th><td>y4</td><td>7.50091</td><td>2.03058</td></tr></tbody></table></div>"
      ],
      "text/latex": [
       "\\begin{tabular}{r|ccc}\n",
       "\t& variable & mean & std\\\\\n",
       "\t\\hline\n",
       "\t& Symbol & Float64 & Float64\\\\\n",
       "\t\\hline\n",
       "\t1 & x1 & 9.0 & 3.31662 \\\\\n",
       "\t2 & x2 & 9.0 & 3.31662 \\\\\n",
       "\t3 & x3 & 9.0 & 3.31662 \\\\\n",
       "\t4 & x4 & 9.0 & 3.31662 \\\\\n",
       "\t5 & y1 & 7.50091 & 2.03157 \\\\\n",
       "\t6 & y2 & 7.50091 & 2.03166 \\\\\n",
       "\t7 & y3 & 7.5 & 2.03042 \\\\\n",
       "\t8 & y4 & 7.50091 & 2.03058 \\\\\n",
       "\\end{tabular}\n"
      ],
      "text/plain": [
       "\u001b[1m8×3 DataFrame\u001b[0m\n",
       "\u001b[1m Row \u001b[0m│\u001b[1m variable \u001b[0m\u001b[1m mean    \u001b[0m\u001b[1m std     \u001b[0m\n",
       "\u001b[1m     \u001b[0m│\u001b[90m Symbol   \u001b[0m\u001b[90m Float64 \u001b[0m\u001b[90m Float64 \u001b[0m\n",
       "─────┼────────────────────────────\n",
       "   1 │ x1        9.0      3.31662\n",
       "   2 │ x2        9.0      3.31662\n",
       "   3 │ x3        9.0      3.31662\n",
       "   4 │ x4        9.0      3.31662\n",
       "   5 │ y1        7.50091  2.03157\n",
       "   6 │ y2        7.50091  2.03166\n",
       "   7 │ y3        7.5      2.03042\n",
       "   8 │ y4        7.50091  2.03058"
      ]
     },
     "execution_count": 37,
     "metadata": {},
     "output_type": "execute_result"
    }
   ],
   "source": [
    "describe(df, mean => :mean, std => :std)"
   ]
  },
  {
   "cell_type": "markdown",
   "metadata": {},
   "source": [
    "Just to practice the string/`Symbol` duality let us write the same using strings for column names:"
   ]
  },
  {
   "cell_type": "code",
   "execution_count": 38,
   "metadata": {},
   "outputs": [
    {
     "data": {
      "text/html": [
       "<div class=\"data-frame\"><p>8 rows × 3 columns</p><table class=\"data-frame\"><thead><tr><th></th><th>variable</th><th>mean</th><th>std</th></tr><tr><th></th><th title=\"Symbol\">Symbol</th><th title=\"Float64\">Float64</th><th title=\"Float64\">Float64</th></tr></thead><tbody><tr><th>1</th><td>x1</td><td>9.0</td><td>3.31662</td></tr><tr><th>2</th><td>x2</td><td>9.0</td><td>3.31662</td></tr><tr><th>3</th><td>x3</td><td>9.0</td><td>3.31662</td></tr><tr><th>4</th><td>x4</td><td>9.0</td><td>3.31662</td></tr><tr><th>5</th><td>y1</td><td>7.50091</td><td>2.03157</td></tr><tr><th>6</th><td>y2</td><td>7.50091</td><td>2.03166</td></tr><tr><th>7</th><td>y3</td><td>7.5</td><td>2.03042</td></tr><tr><th>8</th><td>y4</td><td>7.50091</td><td>2.03058</td></tr></tbody></table></div>"
      ],
      "text/latex": [
       "\\begin{tabular}{r|ccc}\n",
       "\t& variable & mean & std\\\\\n",
       "\t\\hline\n",
       "\t& Symbol & Float64 & Float64\\\\\n",
       "\t\\hline\n",
       "\t1 & x1 & 9.0 & 3.31662 \\\\\n",
       "\t2 & x2 & 9.0 & 3.31662 \\\\\n",
       "\t3 & x3 & 9.0 & 3.31662 \\\\\n",
       "\t4 & x4 & 9.0 & 3.31662 \\\\\n",
       "\t5 & y1 & 7.50091 & 2.03157 \\\\\n",
       "\t6 & y2 & 7.50091 & 2.03166 \\\\\n",
       "\t7 & y3 & 7.5 & 2.03042 \\\\\n",
       "\t8 & y4 & 7.50091 & 2.03058 \\\\\n",
       "\\end{tabular}\n"
      ],
      "text/plain": [
       "\u001b[1m8×3 DataFrame\u001b[0m\n",
       "\u001b[1m Row \u001b[0m│\u001b[1m variable \u001b[0m\u001b[1m mean    \u001b[0m\u001b[1m std     \u001b[0m\n",
       "\u001b[1m     \u001b[0m│\u001b[90m Symbol   \u001b[0m\u001b[90m Float64 \u001b[0m\u001b[90m Float64 \u001b[0m\n",
       "─────┼────────────────────────────\n",
       "   1 │ x1        9.0      3.31662\n",
       "   2 │ x2        9.0      3.31662\n",
       "   3 │ x3        9.0      3.31662\n",
       "   4 │ x4        9.0      3.31662\n",
       "   5 │ y1        7.50091  2.03157\n",
       "   6 │ y2        7.50091  2.03166\n",
       "   7 │ y3        7.5      2.03042\n",
       "   8 │ y4        7.50091  2.03058"
      ]
     },
     "execution_count": 38,
     "metadata": {},
     "output_type": "execute_result"
    }
   ],
   "source": [
    "describe(df, mean => \"mean\", std => \"std\")"
   ]
  },
  {
   "cell_type": "markdown",
   "metadata": {},
   "source": [
    "Now let us add a new column `id` to the data frame that will just index its rows form 1 to number of rows."
   ]
  },
  {
   "cell_type": "code",
   "execution_count": 39,
   "metadata": {},
   "outputs": [
    {
     "data": {
      "text/html": [
       "<div class=\"data-frame\"><p>11 rows × 9 columns</p><table class=\"data-frame\"><thead><tr><th></th><th>x1</th><th>x2</th><th>x3</th><th>x4</th><th>y1</th><th>y2</th><th>y3</th><th>y4</th><th>id</th></tr><tr><th></th><th title=\"Float64\">Float64</th><th title=\"Float64\">Float64</th><th title=\"Float64\">Float64</th><th title=\"Float64\">Float64</th><th title=\"Float64\">Float64</th><th title=\"Float64\">Float64</th><th title=\"Float64\">Float64</th><th title=\"Float64\">Float64</th><th title=\"Int64\">Int64</th></tr></thead><tbody><tr><th>1</th><td>10.0</td><td>10.0</td><td>10.0</td><td>8.0</td><td>8.04</td><td>9.14</td><td>7.46</td><td>6.58</td><td>1</td></tr><tr><th>2</th><td>8.0</td><td>8.0</td><td>8.0</td><td>8.0</td><td>6.95</td><td>8.14</td><td>6.77</td><td>5.76</td><td>2</td></tr><tr><th>3</th><td>13.0</td><td>13.0</td><td>13.0</td><td>8.0</td><td>7.58</td><td>8.74</td><td>12.74</td><td>7.71</td><td>3</td></tr><tr><th>4</th><td>9.0</td><td>9.0</td><td>9.0</td><td>8.0</td><td>8.81</td><td>8.77</td><td>7.11</td><td>8.84</td><td>4</td></tr><tr><th>5</th><td>11.0</td><td>11.0</td><td>11.0</td><td>8.0</td><td>8.33</td><td>9.26</td><td>7.81</td><td>8.47</td><td>5</td></tr><tr><th>6</th><td>14.0</td><td>14.0</td><td>14.0</td><td>8.0</td><td>9.96</td><td>8.1</td><td>8.84</td><td>7.04</td><td>6</td></tr><tr><th>7</th><td>6.0</td><td>6.0</td><td>6.0</td><td>8.0</td><td>7.24</td><td>6.13</td><td>6.08</td><td>5.25</td><td>7</td></tr><tr><th>8</th><td>4.0</td><td>4.0</td><td>4.0</td><td>19.0</td><td>4.26</td><td>3.1</td><td>5.39</td><td>12.5</td><td>8</td></tr><tr><th>9</th><td>12.0</td><td>12.0</td><td>12.0</td><td>8.0</td><td>10.84</td><td>9.13</td><td>8.15</td><td>5.56</td><td>9</td></tr><tr><th>10</th><td>7.0</td><td>7.0</td><td>7.0</td><td>8.0</td><td>4.82</td><td>7.26</td><td>6.42</td><td>7.91</td><td>10</td></tr><tr><th>11</th><td>5.0</td><td>5.0</td><td>5.0</td><td>8.0</td><td>5.68</td><td>4.74</td><td>5.73</td><td>6.89</td><td>11</td></tr></tbody></table></div>"
      ],
      "text/latex": [
       "\\begin{tabular}{r|ccccccccc}\n",
       "\t& x1 & x2 & x3 & x4 & y1 & y2 & y3 & y4 & id\\\\\n",
       "\t\\hline\n",
       "\t& Float64 & Float64 & Float64 & Float64 & Float64 & Float64 & Float64 & Float64 & Int64\\\\\n",
       "\t\\hline\n",
       "\t1 & 10.0 & 10.0 & 10.0 & 8.0 & 8.04 & 9.14 & 7.46 & 6.58 & 1 \\\\\n",
       "\t2 & 8.0 & 8.0 & 8.0 & 8.0 & 6.95 & 8.14 & 6.77 & 5.76 & 2 \\\\\n",
       "\t3 & 13.0 & 13.0 & 13.0 & 8.0 & 7.58 & 8.74 & 12.74 & 7.71 & 3 \\\\\n",
       "\t4 & 9.0 & 9.0 & 9.0 & 8.0 & 8.81 & 8.77 & 7.11 & 8.84 & 4 \\\\\n",
       "\t5 & 11.0 & 11.0 & 11.0 & 8.0 & 8.33 & 9.26 & 7.81 & 8.47 & 5 \\\\\n",
       "\t6 & 14.0 & 14.0 & 14.0 & 8.0 & 9.96 & 8.1 & 8.84 & 7.04 & 6 \\\\\n",
       "\t7 & 6.0 & 6.0 & 6.0 & 8.0 & 7.24 & 6.13 & 6.08 & 5.25 & 7 \\\\\n",
       "\t8 & 4.0 & 4.0 & 4.0 & 19.0 & 4.26 & 3.1 & 5.39 & 12.5 & 8 \\\\\n",
       "\t9 & 12.0 & 12.0 & 12.0 & 8.0 & 10.84 & 9.13 & 8.15 & 5.56 & 9 \\\\\n",
       "\t10 & 7.0 & 7.0 & 7.0 & 8.0 & 4.82 & 7.26 & 6.42 & 7.91 & 10 \\\\\n",
       "\t11 & 5.0 & 5.0 & 5.0 & 8.0 & 5.68 & 4.74 & 5.73 & 6.89 & 11 \\\\\n",
       "\\end{tabular}\n"
      ],
      "text/plain": [
       "\u001b[1m11×9 DataFrame\u001b[0m\n",
       "\u001b[1m Row \u001b[0m│\u001b[1m x1      \u001b[0m\u001b[1m x2      \u001b[0m\u001b[1m x3      \u001b[0m\u001b[1m x4      \u001b[0m\u001b[1m y1      \u001b[0m\u001b[1m y2      \u001b[0m\u001b[1m y3      \u001b[0m\u001b[1m y4      \u001b[0m\u001b[1m\u001b[0m ⋯\n",
       "\u001b[1m     \u001b[0m│\u001b[90m Float64 \u001b[0m\u001b[90m Float64 \u001b[0m\u001b[90m Float64 \u001b[0m\u001b[90m Float64 \u001b[0m\u001b[90m Float64 \u001b[0m\u001b[90m Float64 \u001b[0m\u001b[90m Float64 \u001b[0m\u001b[90m Float64 \u001b[0m\u001b[90m\u001b[0m ⋯\n",
       "─────┼──────────────────────────────────────────────────────────────────────────\n",
       "   1 │    10.0     10.0     10.0      8.0     8.04     9.14     7.46     6.58  ⋯\n",
       "   2 │     8.0      8.0      8.0      8.0     6.95     8.14     6.77     5.76\n",
       "   3 │    13.0     13.0     13.0      8.0     7.58     8.74    12.74     7.71\n",
       "   4 │     9.0      9.0      9.0      8.0     8.81     8.77     7.11     8.84\n",
       "   5 │    11.0     11.0     11.0      8.0     8.33     9.26     7.81     8.47  ⋯\n",
       "   6 │    14.0     14.0     14.0      8.0     9.96     8.1      8.84     7.04\n",
       "   7 │     6.0      6.0      6.0      8.0     7.24     6.13     6.08     5.25\n",
       "   8 │     4.0      4.0      4.0     19.0     4.26     3.1      5.39    12.5\n",
       "   9 │    12.0     12.0     12.0      8.0    10.84     9.13     8.15     5.56  ⋯\n",
       "  10 │     7.0      7.0      7.0      8.0     4.82     7.26     6.42     7.91\n",
       "  11 │     5.0      5.0      5.0      8.0     5.68     4.74     5.73     6.89\n",
       "\u001b[36m                                                                1 column omitted\u001b[0m"
      ]
     },
     "execution_count": 39,
     "metadata": {},
     "output_type": "execute_result"
    }
   ],
   "source": [
    "df.id = 1:nrow(df) # also writing axes(df, 1) on the right hand side would work\n",
    "df"
   ]
  },
  {
   "cell_type": "markdown",
   "metadata": {},
   "source": [
    "Similarly to `nrow` which gives us a number of rows in a data frame, one can use `ncol` function to get its number of columns."
   ]
  },
  {
   "cell_type": "code",
   "execution_count": 40,
   "metadata": {},
   "outputs": [
    {
     "data": {
      "text/plain": [
       "9"
      ]
     },
     "execution_count": 40,
     "metadata": {},
     "output_type": "execute_result"
    }
   ],
   "source": [
    "ncol(df)"
   ]
  },
  {
   "cell_type": "markdown",
   "metadata": {},
   "source": [
    "In order to practice what we have already learnt let us create a new data frame which will have `:id` coumn in front of the remaining columns."
   ]
  },
  {
   "cell_type": "code",
   "execution_count": 41,
   "metadata": {},
   "outputs": [
    {
     "data": {
      "text/html": [
       "<div class=\"data-frame\"><p>11 rows × 9 columns</p><table class=\"data-frame\"><thead><tr><th></th><th>id</th><th>x1</th><th>x2</th><th>x3</th><th>x4</th><th>y1</th><th>y2</th><th>y3</th><th>y4</th></tr><tr><th></th><th title=\"Int64\">Int64</th><th title=\"Float64\">Float64</th><th title=\"Float64\">Float64</th><th title=\"Float64\">Float64</th><th title=\"Float64\">Float64</th><th title=\"Float64\">Float64</th><th title=\"Float64\">Float64</th><th title=\"Float64\">Float64</th><th title=\"Float64\">Float64</th></tr></thead><tbody><tr><th>1</th><td>1</td><td>10.0</td><td>10.0</td><td>10.0</td><td>8.0</td><td>8.04</td><td>9.14</td><td>7.46</td><td>6.58</td></tr><tr><th>2</th><td>2</td><td>8.0</td><td>8.0</td><td>8.0</td><td>8.0</td><td>6.95</td><td>8.14</td><td>6.77</td><td>5.76</td></tr><tr><th>3</th><td>3</td><td>13.0</td><td>13.0</td><td>13.0</td><td>8.0</td><td>7.58</td><td>8.74</td><td>12.74</td><td>7.71</td></tr><tr><th>4</th><td>4</td><td>9.0</td><td>9.0</td><td>9.0</td><td>8.0</td><td>8.81</td><td>8.77</td><td>7.11</td><td>8.84</td></tr><tr><th>5</th><td>5</td><td>11.0</td><td>11.0</td><td>11.0</td><td>8.0</td><td>8.33</td><td>9.26</td><td>7.81</td><td>8.47</td></tr><tr><th>6</th><td>6</td><td>14.0</td><td>14.0</td><td>14.0</td><td>8.0</td><td>9.96</td><td>8.1</td><td>8.84</td><td>7.04</td></tr><tr><th>7</th><td>7</td><td>6.0</td><td>6.0</td><td>6.0</td><td>8.0</td><td>7.24</td><td>6.13</td><td>6.08</td><td>5.25</td></tr><tr><th>8</th><td>8</td><td>4.0</td><td>4.0</td><td>4.0</td><td>19.0</td><td>4.26</td><td>3.1</td><td>5.39</td><td>12.5</td></tr><tr><th>9</th><td>9</td><td>12.0</td><td>12.0</td><td>12.0</td><td>8.0</td><td>10.84</td><td>9.13</td><td>8.15</td><td>5.56</td></tr><tr><th>10</th><td>10</td><td>7.0</td><td>7.0</td><td>7.0</td><td>8.0</td><td>4.82</td><td>7.26</td><td>6.42</td><td>7.91</td></tr><tr><th>11</th><td>11</td><td>5.0</td><td>5.0</td><td>5.0</td><td>8.0</td><td>5.68</td><td>4.74</td><td>5.73</td><td>6.89</td></tr></tbody></table></div>"
      ],
      "text/latex": [
       "\\begin{tabular}{r|ccccccccc}\n",
       "\t& id & x1 & x2 & x3 & x4 & y1 & y2 & y3 & y4\\\\\n",
       "\t\\hline\n",
       "\t& Int64 & Float64 & Float64 & Float64 & Float64 & Float64 & Float64 & Float64 & Float64\\\\\n",
       "\t\\hline\n",
       "\t1 & 1 & 10.0 & 10.0 & 10.0 & 8.0 & 8.04 & 9.14 & 7.46 & 6.58 \\\\\n",
       "\t2 & 2 & 8.0 & 8.0 & 8.0 & 8.0 & 6.95 & 8.14 & 6.77 & 5.76 \\\\\n",
       "\t3 & 3 & 13.0 & 13.0 & 13.0 & 8.0 & 7.58 & 8.74 & 12.74 & 7.71 \\\\\n",
       "\t4 & 4 & 9.0 & 9.0 & 9.0 & 8.0 & 8.81 & 8.77 & 7.11 & 8.84 \\\\\n",
       "\t5 & 5 & 11.0 & 11.0 & 11.0 & 8.0 & 8.33 & 9.26 & 7.81 & 8.47 \\\\\n",
       "\t6 & 6 & 14.0 & 14.0 & 14.0 & 8.0 & 9.96 & 8.1 & 8.84 & 7.04 \\\\\n",
       "\t7 & 7 & 6.0 & 6.0 & 6.0 & 8.0 & 7.24 & 6.13 & 6.08 & 5.25 \\\\\n",
       "\t8 & 8 & 4.0 & 4.0 & 4.0 & 19.0 & 4.26 & 3.1 & 5.39 & 12.5 \\\\\n",
       "\t9 & 9 & 12.0 & 12.0 & 12.0 & 8.0 & 10.84 & 9.13 & 8.15 & 5.56 \\\\\n",
       "\t10 & 10 & 7.0 & 7.0 & 7.0 & 8.0 & 4.82 & 7.26 & 6.42 & 7.91 \\\\\n",
       "\t11 & 11 & 5.0 & 5.0 & 5.0 & 8.0 & 5.68 & 4.74 & 5.73 & 6.89 \\\\\n",
       "\\end{tabular}\n"
      ],
      "text/plain": [
       "\u001b[1m11×9 DataFrame\u001b[0m\n",
       "\u001b[1m Row \u001b[0m│\u001b[1m id    \u001b[0m\u001b[1m x1      \u001b[0m\u001b[1m x2      \u001b[0m\u001b[1m x3      \u001b[0m\u001b[1m x4      \u001b[0m\u001b[1m y1      \u001b[0m\u001b[1m y2      \u001b[0m\u001b[1m y3      \u001b[0m\u001b[1m y\u001b[0m ⋯\n",
       "\u001b[1m     \u001b[0m│\u001b[90m Int64 \u001b[0m\u001b[90m Float64 \u001b[0m\u001b[90m Float64 \u001b[0m\u001b[90m Float64 \u001b[0m\u001b[90m Float64 \u001b[0m\u001b[90m Float64 \u001b[0m\u001b[90m Float64 \u001b[0m\u001b[90m Float64 \u001b[0m\u001b[90m F\u001b[0m ⋯\n",
       "─────┼──────────────────────────────────────────────────────────────────────────\n",
       "   1 │     1     10.0     10.0     10.0      8.0     8.04     9.14     7.46    ⋯\n",
       "   2 │     2      8.0      8.0      8.0      8.0     6.95     8.14     6.77\n",
       "   3 │     3     13.0     13.0     13.0      8.0     7.58     8.74    12.74\n",
       "   4 │     4      9.0      9.0      9.0      8.0     8.81     8.77     7.11\n",
       "   5 │     5     11.0     11.0     11.0      8.0     8.33     9.26     7.81    ⋯\n",
       "   6 │     6     14.0     14.0     14.0      8.0     9.96     8.1      8.84\n",
       "   7 │     7      6.0      6.0      6.0      8.0     7.24     6.13     6.08\n",
       "   8 │     8      4.0      4.0      4.0     19.0     4.26     3.1      5.39\n",
       "   9 │     9     12.0     12.0     12.0      8.0    10.84     9.13     8.15    ⋯\n",
       "  10 │    10      7.0      7.0      7.0      8.0     4.82     7.26     6.42\n",
       "  11 │    11      5.0      5.0      5.0      8.0     5.68     4.74     5.73\n",
       "\u001b[36m                                                                1 column omitted\u001b[0m"
      ]
     },
     "execution_count": 41,
     "metadata": {},
     "output_type": "execute_result"
    }
   ],
   "source": [
    "select(df, \"id\", :)"
   ]
  },
  {
   "cell_type": "markdown",
   "metadata": {},
   "source": [
    "Note that this time `df` data frame was not changed, as `select` makes a copy."
   ]
  },
  {
   "cell_type": "code",
   "execution_count": 42,
   "metadata": {},
   "outputs": [
    {
     "data": {
      "text/html": [
       "<div class=\"data-frame\"><p>11 rows × 9 columns</p><table class=\"data-frame\"><thead><tr><th></th><th>x1</th><th>x2</th><th>x3</th><th>x4</th><th>y1</th><th>y2</th><th>y3</th><th>y4</th><th>id</th></tr><tr><th></th><th title=\"Float64\">Float64</th><th title=\"Float64\">Float64</th><th title=\"Float64\">Float64</th><th title=\"Float64\">Float64</th><th title=\"Float64\">Float64</th><th title=\"Float64\">Float64</th><th title=\"Float64\">Float64</th><th title=\"Float64\">Float64</th><th title=\"Int64\">Int64</th></tr></thead><tbody><tr><th>1</th><td>10.0</td><td>10.0</td><td>10.0</td><td>8.0</td><td>8.04</td><td>9.14</td><td>7.46</td><td>6.58</td><td>1</td></tr><tr><th>2</th><td>8.0</td><td>8.0</td><td>8.0</td><td>8.0</td><td>6.95</td><td>8.14</td><td>6.77</td><td>5.76</td><td>2</td></tr><tr><th>3</th><td>13.0</td><td>13.0</td><td>13.0</td><td>8.0</td><td>7.58</td><td>8.74</td><td>12.74</td><td>7.71</td><td>3</td></tr><tr><th>4</th><td>9.0</td><td>9.0</td><td>9.0</td><td>8.0</td><td>8.81</td><td>8.77</td><td>7.11</td><td>8.84</td><td>4</td></tr><tr><th>5</th><td>11.0</td><td>11.0</td><td>11.0</td><td>8.0</td><td>8.33</td><td>9.26</td><td>7.81</td><td>8.47</td><td>5</td></tr><tr><th>6</th><td>14.0</td><td>14.0</td><td>14.0</td><td>8.0</td><td>9.96</td><td>8.1</td><td>8.84</td><td>7.04</td><td>6</td></tr><tr><th>7</th><td>6.0</td><td>6.0</td><td>6.0</td><td>8.0</td><td>7.24</td><td>6.13</td><td>6.08</td><td>5.25</td><td>7</td></tr><tr><th>8</th><td>4.0</td><td>4.0</td><td>4.0</td><td>19.0</td><td>4.26</td><td>3.1</td><td>5.39</td><td>12.5</td><td>8</td></tr><tr><th>9</th><td>12.0</td><td>12.0</td><td>12.0</td><td>8.0</td><td>10.84</td><td>9.13</td><td>8.15</td><td>5.56</td><td>9</td></tr><tr><th>10</th><td>7.0</td><td>7.0</td><td>7.0</td><td>8.0</td><td>4.82</td><td>7.26</td><td>6.42</td><td>7.91</td><td>10</td></tr><tr><th>11</th><td>5.0</td><td>5.0</td><td>5.0</td><td>8.0</td><td>5.68</td><td>4.74</td><td>5.73</td><td>6.89</td><td>11</td></tr></tbody></table></div>"
      ],
      "text/latex": [
       "\\begin{tabular}{r|ccccccccc}\n",
       "\t& x1 & x2 & x3 & x4 & y1 & y2 & y3 & y4 & id\\\\\n",
       "\t\\hline\n",
       "\t& Float64 & Float64 & Float64 & Float64 & Float64 & Float64 & Float64 & Float64 & Int64\\\\\n",
       "\t\\hline\n",
       "\t1 & 10.0 & 10.0 & 10.0 & 8.0 & 8.04 & 9.14 & 7.46 & 6.58 & 1 \\\\\n",
       "\t2 & 8.0 & 8.0 & 8.0 & 8.0 & 6.95 & 8.14 & 6.77 & 5.76 & 2 \\\\\n",
       "\t3 & 13.0 & 13.0 & 13.0 & 8.0 & 7.58 & 8.74 & 12.74 & 7.71 & 3 \\\\\n",
       "\t4 & 9.0 & 9.0 & 9.0 & 8.0 & 8.81 & 8.77 & 7.11 & 8.84 & 4 \\\\\n",
       "\t5 & 11.0 & 11.0 & 11.0 & 8.0 & 8.33 & 9.26 & 7.81 & 8.47 & 5 \\\\\n",
       "\t6 & 14.0 & 14.0 & 14.0 & 8.0 & 9.96 & 8.1 & 8.84 & 7.04 & 6 \\\\\n",
       "\t7 & 6.0 & 6.0 & 6.0 & 8.0 & 7.24 & 6.13 & 6.08 & 5.25 & 7 \\\\\n",
       "\t8 & 4.0 & 4.0 & 4.0 & 19.0 & 4.26 & 3.1 & 5.39 & 12.5 & 8 \\\\\n",
       "\t9 & 12.0 & 12.0 & 12.0 & 8.0 & 10.84 & 9.13 & 8.15 & 5.56 & 9 \\\\\n",
       "\t10 & 7.0 & 7.0 & 7.0 & 8.0 & 4.82 & 7.26 & 6.42 & 7.91 & 10 \\\\\n",
       "\t11 & 5.0 & 5.0 & 5.0 & 8.0 & 5.68 & 4.74 & 5.73 & 6.89 & 11 \\\\\n",
       "\\end{tabular}\n"
      ],
      "text/plain": [
       "\u001b[1m11×9 DataFrame\u001b[0m\n",
       "\u001b[1m Row \u001b[0m│\u001b[1m x1      \u001b[0m\u001b[1m x2      \u001b[0m\u001b[1m x3      \u001b[0m\u001b[1m x4      \u001b[0m\u001b[1m y1      \u001b[0m\u001b[1m y2      \u001b[0m\u001b[1m y3      \u001b[0m\u001b[1m y4      \u001b[0m\u001b[1m\u001b[0m ⋯\n",
       "\u001b[1m     \u001b[0m│\u001b[90m Float64 \u001b[0m\u001b[90m Float64 \u001b[0m\u001b[90m Float64 \u001b[0m\u001b[90m Float64 \u001b[0m\u001b[90m Float64 \u001b[0m\u001b[90m Float64 \u001b[0m\u001b[90m Float64 \u001b[0m\u001b[90m Float64 \u001b[0m\u001b[90m\u001b[0m ⋯\n",
       "─────┼──────────────────────────────────────────────────────────────────────────\n",
       "   1 │    10.0     10.0     10.0      8.0     8.04     9.14     7.46     6.58  ⋯\n",
       "   2 │     8.0      8.0      8.0      8.0     6.95     8.14     6.77     5.76\n",
       "   3 │    13.0     13.0     13.0      8.0     7.58     8.74    12.74     7.71\n",
       "   4 │     9.0      9.0      9.0      8.0     8.81     8.77     7.11     8.84\n",
       "   5 │    11.0     11.0     11.0      8.0     8.33     9.26     7.81     8.47  ⋯\n",
       "   6 │    14.0     14.0     14.0      8.0     9.96     8.1      8.84     7.04\n",
       "   7 │     6.0      6.0      6.0      8.0     7.24     6.13     6.08     5.25\n",
       "   8 │     4.0      4.0      4.0     19.0     4.26     3.1      5.39    12.5\n",
       "   9 │    12.0     12.0     12.0      8.0    10.84     9.13     8.15     5.56  ⋯\n",
       "  10 │     7.0      7.0      7.0      8.0     4.82     7.26     6.42     7.91\n",
       "  11 │     5.0      5.0      5.0      8.0     5.68     4.74     5.73     6.89\n",
       "\u001b[36m                                                                1 column omitted\u001b[0m"
      ]
     },
     "execution_count": 42,
     "metadata": {},
     "output_type": "execute_result"
    }
   ],
   "source": [
    "df"
   ]
  },
  {
   "cell_type": "markdown",
   "metadata": {},
   "source": [
    "It is also easy to transform a data frame back to a matrix using the `Matrix` function."
   ]
  },
  {
   "cell_type": "code",
   "execution_count": 43,
   "metadata": {},
   "outputs": [
    {
     "data": {
      "text/plain": [
       "11×9 Matrix{Float64}:\n",
       " 10.0  10.0  10.0   8.0   8.04  9.14   7.46   6.58   1.0\n",
       "  8.0   8.0   8.0   8.0   6.95  8.14   6.77   5.76   2.0\n",
       " 13.0  13.0  13.0   8.0   7.58  8.74  12.74   7.71   3.0\n",
       "  9.0   9.0   9.0   8.0   8.81  8.77   7.11   8.84   4.0\n",
       " 11.0  11.0  11.0   8.0   8.33  9.26   7.81   8.47   5.0\n",
       " 14.0  14.0  14.0   8.0   9.96  8.1    8.84   7.04   6.0\n",
       "  6.0   6.0   6.0   8.0   7.24  6.13   6.08   5.25   7.0\n",
       "  4.0   4.0   4.0  19.0   4.26  3.1    5.39  12.5    8.0\n",
       " 12.0  12.0  12.0   8.0  10.84  9.13   8.15   5.56   9.0\n",
       "  7.0   7.0   7.0   8.0   4.82  7.26   6.42   7.91  10.0\n",
       "  5.0   5.0   5.0   8.0   5.68  4.74   5.73   6.89  11.0"
      ]
     },
     "execution_count": 43,
     "metadata": {},
     "output_type": "execute_result"
    }
   ],
   "source": [
    "Matrix(df)"
   ]
  },
  {
   "cell_type": "markdown",
   "metadata": {},
   "source": [
    "We will use this feature to determine a plotting range for our data."
   ]
  },
  {
   "cell_type": "markdown",
   "metadata": {},
   "source": [
    " We take the extrema respectively of the \"x\" and \"y\" variables, add padding equal to 1, and finally collect them to vectors (without calling the `collect` our result would be a `Tuple`)"
   ]
  },
  {
   "cell_type": "code",
   "execution_count": 44,
   "metadata": {},
   "outputs": [
    {
     "data": {
      "text/plain": [
       "2-element Vector{Float64}:\n",
       "  3.0\n",
       " 20.0"
      ]
     },
     "execution_count": 44,
     "metadata": {},
     "output_type": "execute_result"
    }
   ],
   "source": [
    "xlims = collect(extrema(Matrix(select(df, r\"x\"))) .+ (-1, 1))"
   ]
  },
  {
   "cell_type": "code",
   "execution_count": 45,
   "metadata": {},
   "outputs": [
    {
     "data": {
      "text/plain": [
       "2-element Vector{Float64}:\n",
       "  2.1\n",
       " 13.74"
      ]
     },
     "execution_count": 45,
     "metadata": {},
     "output_type": "execute_result"
    }
   ],
   "source": [
    "ylims = collect(extrema(Matrix(select(df, r\"y\"))) .+ (-1, 1))"
   ]
  },
  {
   "cell_type": "markdown",
   "metadata": {},
   "source": [
    "Now we are ready to produce the final plots.\n",
    "\n",
    "Note that the GLM.jl package is integrated with DataFrames.jl and in `lm` and `predict` functions we can use data frame objects to pass data.\n",
    "\n",
    "Note though that as GLM.jl in general supports other tabular types than just DataFrames.jl it is more strict and accepts only `Symbol`s as column names (this is required when we use the `term` function)."
   ]
  },
  {
   "cell_type": "code",
   "execution_count": 46,
   "metadata": {},
   "outputs": [
    {
     "ename": "LoadError",
     "evalue": "UndefVarError: term not defined",
     "output_type": "error",
     "traceback": [
      "UndefVarError: term not defined",
      "",
      "Stacktrace:",
      " [1] top-level scope",
      "   @ ./In[46]:6",
      " [2] eval",
      "   @ ./boot.jl:373 [inlined]",
      " [3] include_string(mapexpr::typeof(REPL.softscope), mod::Module, code::String, filename::String)",
      "   @ Base ./loading.jl:1196"
     ]
    }
   ],
   "source": [
    "fig, axs = plt.subplots(2, 2)\n",
    "fig.tight_layout(pad=4.0)\n",
    "for i in 1:4\n",
    "    x = Symbol(\"x\", i)\n",
    "    y = Symbol(\"y\", i)\n",
    "    model = lm(term(y)~term(x), df)\n",
    "    axs[i].plot(xlims, predict(model, DataFrame(x => xlims)), color=\"orange\")\n",
    "    axs[i].scatter(df[:, x], df[:, y])\n",
    "    axs[i].set_xlim(xlims)\n",
    "    axs[i].set_ylim(ylims)\n",
    "    axs[i].set_xlabel(\"x$i\")\n",
    "    axs[i].set_ylabel(\"y$i\")\n",
    "    a, b = round.(coef(model), digits=2)\n",
    "    c = round(100 * r2(model), digits=2)\n",
    "    axs[i].set_title(string(\"R²=$c%, $y=$a+$b$x\"))\n",
    "end"
   ]
  },
  {
   "cell_type": "markdown",
   "metadata": {},
   "source": [
    "We note that in all cases the estimated models have exactly the same R² and estimated coefficients."
   ]
  },
  {
   "cell_type": "markdown",
   "metadata": {},
   "source": [
    "It is worth to highlight several important features of DataFrames.jl package functionality that we used in the above example."
   ]
  },
  {
   "cell_type": "markdown",
   "metadata": {},
   "source": [
    "First, it is easy to create a data frame from variables holding column names and values using `=>`. Here is one more example how this functionality can be used:"
   ]
  },
  {
   "cell_type": "code",
   "execution_count": 47,
   "metadata": {},
   "outputs": [
    {
     "data": {
      "text/html": [
       "<div class=\"data-frame\"><p>3 rows × 2 columns</p><table class=\"data-frame\"><thead><tr><th></th><th>var1</th><th>var2</th></tr><tr><th></th><th title=\"Int64\">Int64</th><th title=\"Int64\">Int64</th></tr></thead><tbody><tr><th>1</th><td>1</td><td>4</td></tr><tr><th>2</th><td>2</td><td>5</td></tr><tr><th>3</th><td>3</td><td>6</td></tr></tbody></table></div>"
      ],
      "text/latex": [
       "\\begin{tabular}{r|cc}\n",
       "\t& var1 & var2\\\\\n",
       "\t\\hline\n",
       "\t& Int64 & Int64\\\\\n",
       "\t\\hline\n",
       "\t1 & 1 & 4 \\\\\n",
       "\t2 & 2 & 5 \\\\\n",
       "\t3 & 3 & 6 \\\\\n",
       "\\end{tabular}\n"
      ],
      "text/plain": [
       "\u001b[1m3×2 DataFrame\u001b[0m\n",
       "\u001b[1m Row \u001b[0m│\u001b[1m var1  \u001b[0m\u001b[1m var2  \u001b[0m\n",
       "\u001b[1m     \u001b[0m│\u001b[90m Int64 \u001b[0m\u001b[90m Int64 \u001b[0m\n",
       "─────┼──────────────\n",
       "   1 │     1      4\n",
       "   2 │     2      5\n",
       "   3 │     3      6"
      ]
     },
     "execution_count": 47,
     "metadata": {},
     "output_type": "execute_result"
    }
   ],
   "source": [
    "x = :var1\n",
    "y = :var2\n",
    "xc = 1:3\n",
    "yc = 4:6\n",
    "DataFrame(x => xc, y => yc)"
   ]
  },
  {
   "cell_type": "markdown",
   "metadata": {},
   "source": [
    "Note that the same effect can be achieved with passing keyword arguments directly to `DataFrame` constructor:"
   ]
  },
  {
   "cell_type": "code",
   "execution_count": 48,
   "metadata": {},
   "outputs": [
    {
     "data": {
      "text/html": [
       "<div class=\"data-frame\"><p>3 rows × 2 columns</p><table class=\"data-frame\"><thead><tr><th></th><th>var1</th><th>var2</th></tr><tr><th></th><th title=\"Int64\">Int64</th><th title=\"Int64\">Int64</th></tr></thead><tbody><tr><th>1</th><td>1</td><td>4</td></tr><tr><th>2</th><td>2</td><td>5</td></tr><tr><th>3</th><td>3</td><td>6</td></tr></tbody></table></div>"
      ],
      "text/latex": [
       "\\begin{tabular}{r|cc}\n",
       "\t& var1 & var2\\\\\n",
       "\t\\hline\n",
       "\t& Int64 & Int64\\\\\n",
       "\t\\hline\n",
       "\t1 & 1 & 4 \\\\\n",
       "\t2 & 2 & 5 \\\\\n",
       "\t3 & 3 & 6 \\\\\n",
       "\\end{tabular}\n"
      ],
      "text/plain": [
       "\u001b[1m3×2 DataFrame\u001b[0m\n",
       "\u001b[1m Row \u001b[0m│\u001b[1m var1  \u001b[0m\u001b[1m var2  \u001b[0m\n",
       "\u001b[1m     \u001b[0m│\u001b[90m Int64 \u001b[0m\u001b[90m Int64 \u001b[0m\n",
       "─────┼──────────────\n",
       "   1 │     1      4\n",
       "   2 │     2      5\n",
       "   3 │     3      6"
      ]
     },
     "execution_count": 48,
     "metadata": {},
     "output_type": "execute_result"
    }
   ],
   "source": [
    "DataFrame(var1=xc, var2=yc)"
   ]
  },
  {
   "cell_type": "markdown",
   "metadata": {},
   "source": [
    "Another thing you might have noticed is the use of `df[:, x]` and `df[:, y]` indexing expressions to get columns from a data frame. Let us comment on the differences between `df.col` and `df[:, col]` syntaxes that we discussed above:"
   ]
  },
  {
   "cell_type": "code",
   "execution_count": 49,
   "metadata": {},
   "outputs": [
    {
     "data": {
      "text/plain": [
       "11-element Vector{Float64}:\n",
       " 10.0\n",
       "  8.0\n",
       " 13.0\n",
       "  9.0\n",
       " 11.0\n",
       " 14.0\n",
       "  6.0\n",
       "  4.0\n",
       " 12.0\n",
       "  7.0\n",
       "  5.0"
      ]
     },
     "execution_count": 49,
     "metadata": {},
     "output_type": "execute_result"
    }
   ],
   "source": [
    "# gives you a direct access to the column stored in `df` but x1 is a literal\n",
    "df.x1"
   ]
  },
  {
   "cell_type": "code",
   "execution_count": 50,
   "metadata": {},
   "outputs": [
    {
     "data": {
      "text/plain": [
       "11-element Vector{Float64}:\n",
       " 10.0\n",
       "  8.0\n",
       " 13.0\n",
       "  9.0\n",
       " 11.0\n",
       " 14.0\n",
       "  6.0\n",
       "  4.0\n",
       " 12.0\n",
       "  7.0\n",
       "  5.0"
      ]
     },
     "execution_count": 50,
     "metadata": {},
     "output_type": "execute_result"
    }
   ],
   "source": [
    "# now the column is copied, so this is the same as copy(df.x1)\n",
    "# in this case we could have used a variable instead of a literal for indexing\n",
    "df[:, :x1]"
   ]
  },
  {
   "cell_type": "markdown",
   "metadata": {},
   "source": [
    "So what if you want to select a column without copying it but want to use a variable holding its name. There is a special `!` row selector for this:"
   ]
  },
  {
   "cell_type": "code",
   "execution_count": 51,
   "metadata": {},
   "outputs": [
    {
     "data": {
      "text/plain": [
       ":x1"
      ]
     },
     "execution_count": 51,
     "metadata": {},
     "output_type": "execute_result"
    }
   ],
   "source": [
    "n = :x1"
   ]
  },
  {
   "cell_type": "code",
   "execution_count": 52,
   "metadata": {},
   "outputs": [
    {
     "data": {
      "text/plain": [
       "11-element Vector{Float64}:\n",
       " 10.0\n",
       "  8.0\n",
       " 13.0\n",
       "  9.0\n",
       " 11.0\n",
       " 14.0\n",
       "  6.0\n",
       "  4.0\n",
       " 12.0\n",
       "  7.0\n",
       "  5.0"
      ]
     },
     "execution_count": 52,
     "metadata": {},
     "output_type": "execute_result"
    }
   ],
   "source": [
    "v = df[!, n]"
   ]
  },
  {
   "cell_type": "markdown",
   "metadata": {},
   "source": [
    "Let us check that `!` does not copy:"
   ]
  },
  {
   "cell_type": "code",
   "execution_count": 53,
   "metadata": {},
   "outputs": [
    {
     "data": {
      "text/plain": [
       "true"
      ]
     },
     "execution_count": 53,
     "metadata": {},
     "output_type": "execute_result"
    }
   ],
   "source": [
    "v === df.x1"
   ]
  },
  {
   "cell_type": "markdown",
   "metadata": {},
   "source": [
    "Indexing of a data frame is very flexible. All rules governing this functionality can be found at https://juliadata.github.io/DataFrames.jl/stable/lib/indexing/."
   ]
  }
 ],
 "metadata": {
  "@webio": {
   "lastCommId": null,
   "lastKernelId": null
  },
  "kernelspec": {
   "display_name": "Julia 1.7.2",
   "language": "julia",
   "name": "julia-1.7"
  },
  "language_info": {
   "file_extension": ".jl",
   "mimetype": "application/julia",
   "name": "julia",
   "version": "1.7.2"
  }
 },
 "nbformat": 4,
 "nbformat_minor": 4
}
