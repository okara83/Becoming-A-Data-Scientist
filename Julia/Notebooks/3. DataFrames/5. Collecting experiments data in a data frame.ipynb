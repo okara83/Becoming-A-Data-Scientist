{
 "cells": [
  {
   "cell_type": "markdown",
   "metadata": {},
   "source": [
    "# Collecting experiments data in a data frame"
   ]
  },
  {
   "cell_type": "code",
   "execution_count": 43,
   "metadata": {},
   "outputs": [],
   "source": [
    "using DataFrames"
   ]
  },
  {
   "cell_type": "code",
   "execution_count": 46,
   "metadata": {},
   "outputs": [
    {
     "name": "stderr",
     "output_type": "stream",
     "text": [
      "\u001b[32m\u001b[1m    Updating\u001b[22m\u001b[39m registry at `~/.julia/registries/General.toml`\n",
      "\u001b[32m\u001b[1m   Resolving\u001b[22m\u001b[39m package versions...\n",
      "\u001b[32m\u001b[1m   Installed\u001b[22m\u001b[39m Conda ── v1.7.0\n",
      "\u001b[32m\u001b[1m   Installed\u001b[22m\u001b[39m JSON ─── v0.21.3\n",
      "\u001b[32m\u001b[1m   Installed\u001b[22m\u001b[39m PyCall ─ v1.93.0\n",
      "\u001b[32m\u001b[1m    Updating\u001b[22m\u001b[39m `~/Downloads/DataFrames-main/Project.toml`\n",
      " \u001b[90m [d330b81b] \u001b[39m\u001b[92m+ PyPlot v2.10.0\u001b[39m\n",
      "\u001b[32m\u001b[1m    Updating\u001b[22m\u001b[39m `~/Downloads/DataFrames-main/Manifest.toml`\n",
      " \u001b[90m [3da002f7] \u001b[39m\u001b[92m+ ColorTypes v0.11.0\u001b[39m\n",
      " \u001b[90m [5ae59095] \u001b[39m\u001b[92m+ Colors v0.12.8\u001b[39m\n",
      " \u001b[90m [8f4d0f93] \u001b[39m\u001b[92m+ Conda v1.7.0\u001b[39m\n",
      " \u001b[90m [53c48c17] \u001b[39m\u001b[92m+ FixedPointNumbers v0.8.4\u001b[39m\n",
      " \u001b[90m [682c06a0] \u001b[39m\u001b[92m+ JSON v0.21.3\u001b[39m\n",
      " \u001b[90m [b964fa9f] \u001b[39m\u001b[92m+ LaTeXStrings v1.3.0\u001b[39m\n",
      " \u001b[90m [1914dd2f] \u001b[39m\u001b[92m+ MacroTools v0.5.9\u001b[39m\n",
      " \u001b[90m [438e738f] \u001b[39m\u001b[92m+ PyCall v1.93.0\u001b[39m\n",
      " \u001b[90m [d330b81b] \u001b[39m\u001b[92m+ PyPlot v2.10.0\u001b[39m\n",
      " \u001b[90m [81def892] \u001b[39m\u001b[92m+ VersionParsing v1.3.0\u001b[39m\n",
      "\u001b[32m\u001b[1m    Building\u001b[22m\u001b[39m Conda ─→ `~/.julia/scratchspaces/44cfe95a-1eb2-52ea-b672-e2afdf69b78f/6e47d11ea2776bc5627421d59cdcc1296c058071/build.log`\n",
      "\u001b[32m\u001b[1m    Building\u001b[22m\u001b[39m PyCall → `~/.julia/scratchspaces/44cfe95a-1eb2-52ea-b672-e2afdf69b78f/71fd4022ecd0c6d20180e23ff1b3e05a143959c2/build.log`\n",
      "\u001b[32m\u001b[1mPrecompiling\u001b[22m\u001b[39m project...\n",
      "\u001b[32m  ✓ \u001b[39m\u001b[90mPyCall\u001b[39m\n",
      "\u001b[32m  ✓ \u001b[39mPyPlot\n",
      "  2 dependencies successfully precompiled in 6 seconds (61 already precompiled)\n"
     ]
    }
   ],
   "source": [
    "using Statistics"
   ]
  },
  {
   "cell_type": "code",
   "execution_count": 47,
   "metadata": {},
   "outputs": [
    {
     "name": "stdout",
     "output_type": "stream",
     "text": [
      "Collecting package metadata (current_repodata.json): ...working... done\n",
      "Solving environment: ...working... done\n",
      "\n",
      "## Package Plan ##\n",
      "\n",
      "  environment location: /Users/okara/.julia/conda/3\n",
      "\n",
      "  added / updated specs:\n",
      "    - matplotlib\n",
      "\n",
      "\n",
      "The following packages will be downloaded:\n",
      "\n",
      "    package                    |            build\n",
      "    ---------------------------|-----------------\n",
      "    brotli-1.0.9               |       h0d85af4_6          18 KB  conda-forge\n",
      "    brotli-bin-1.0.9           |       h0d85af4_6          17 KB  conda-forge\n",
      "    cycler-0.11.0              |     pyhd8ed1ab_0          10 KB  conda-forge\n",
      "    fonttools-4.29.1           |   py39h89e85a6_0         1.6 MB  conda-forge\n",
      "    freetype-2.10.4            |       h4cff582_1         890 KB  conda-forge\n",
      "    fribidi-1.0.10             |       hbcb3906_0          64 KB  conda-forge\n",
      "    giflib-5.2.1               |       hbcb3906_2          71 KB  conda-forge\n",
      "    jbig-2.1                   |    h0d85af4_2003          42 KB  conda-forge\n",
      "    jpeg-9e                    |       h0d85af4_0         252 KB  conda-forge\n",
      "    kiwisolver-1.3.2           |   py39hf018cea_1          59 KB  conda-forge\n",
      "    lcms2-2.12                 |       h577c468_0         404 KB  conda-forge\n",
      "    lerc-3.0                   |       he49afe7_0         170 KB  conda-forge\n",
      "    libbrotlicommon-1.0.9      |       h0d85af4_6          63 KB  conda-forge\n",
      "    libbrotlidec-1.0.9         |       h0d85af4_6          33 KB  conda-forge\n",
      "    libbrotlienc-1.0.9         |       h0d85af4_6         324 KB  conda-forge\n",
      "    libdeflate-1.10            |       h0d85af4_0          78 KB  conda-forge\n",
      "    libimagequant-2.17.0       |       h9bde063_1          47 KB  conda-forge\n",
      "    libpng-1.6.37              |       h7cec526_2         313 KB  conda-forge\n",
      "    libtiff-4.3.0              |       h17f2ce3_3         624 KB  conda-forge\n",
      "    libwebp-1.2.2              |       h28dabe5_0          79 KB  conda-forge\n",
      "    libwebp-base-1.2.2         |       h0d85af4_1         703 KB  conda-forge\n",
      "    libxcb-1.13                |    h0d85af4_1004         305 KB  conda-forge\n",
      "    lz4-c-1.9.3                |       he49afe7_1         155 KB  conda-forge\n",
      "    matplotlib-3.5.1           |   py39h6e9494a_0           6 KB  conda-forge\n",
      "    matplotlib-base-3.5.1      |   py39hb07454d_0         7.4 MB  conda-forge\n",
      "    munkres-1.1.4              |     pyh9f0ad1d_0          12 KB  conda-forge\n",
      "    openjpeg-2.4.0             |       h6e7aa92_1         374 KB  conda-forge\n",
      "    packaging-21.3             |     pyhd8ed1ab_0          36 KB  conda-forge\n",
      "    pillow-9.0.1               |   py39h768cb32_1        44.4 MB  conda-forge\n",
      "    pthread-stubs-0.4          |    hc929b4f_1001           6 KB  conda-forge\n",
      "    pyparsing-3.0.7            |     pyhd8ed1ab_0          79 KB  conda-forge\n",
      "    python-dateutil-2.8.2      |     pyhd8ed1ab_0         240 KB  conda-forge\n",
      "    tornado-6.1                |   py39h89e85a6_2         650 KB  conda-forge\n",
      "    unicodedata2-14.0.0        |   py39h89e85a6_0         487 KB  conda-forge\n",
      "    xorg-libxau-1.0.9          |       h35c211d_0          11 KB  conda-forge\n",
      "    xorg-libxdmcp-1.1.3        |       h35c211d_0          17 KB  conda-forge\n",
      "    zstd-1.5.2                 |       h582d3a0_0         450 KB  conda-forge\n",
      "    ------------------------------------------------------------\n",
      "                                           Total:        60.2 MB\n",
      "\n",
      "The following NEW packages will be INSTALLED:\n",
      "\n",
      "  brotli             conda-forge/osx-64::brotli-1.0.9-h0d85af4_6\n",
      "  brotli-bin         conda-forge/osx-64::brotli-bin-1.0.9-h0d85af4_6\n",
      "  cycler             conda-forge/noarch::cycler-0.11.0-pyhd8ed1ab_0\n",
      "  fonttools          conda-forge/osx-64::fonttools-4.29.1-py39h89e85a6_0\n",
      "  freetype           conda-forge/osx-64::freetype-2.10.4-h4cff582_1\n",
      "  fribidi            conda-forge/osx-64::fribidi-1.0.10-hbcb3906_0\n",
      "  giflib             conda-forge/osx-64::giflib-5.2.1-hbcb3906_2\n",
      "  jbig               conda-forge/osx-64::jbig-2.1-h0d85af4_2003\n",
      "  jpeg               conda-forge/osx-64::jpeg-9e-h0d85af4_0\n",
      "  kiwisolver         conda-forge/osx-64::kiwisolver-1.3.2-py39hf018cea_1\n",
      "  lcms2              conda-forge/osx-64::lcms2-2.12-h577c468_0\n",
      "  lerc               conda-forge/osx-64::lerc-3.0-he49afe7_0\n",
      "  libbrotlicommon    conda-forge/osx-64::libbrotlicommon-1.0.9-h0d85af4_6\n",
      "  libbrotlidec       conda-forge/osx-64::libbrotlidec-1.0.9-h0d85af4_6\n",
      "  libbrotlienc       conda-forge/osx-64::libbrotlienc-1.0.9-h0d85af4_6\n",
      "  libdeflate         conda-forge/osx-64::libdeflate-1.10-h0d85af4_0\n",
      "  libimagequant      conda-forge/osx-64::libimagequant-2.17.0-h9bde063_1\n",
      "  libpng             conda-forge/osx-64::libpng-1.6.37-h7cec526_2\n",
      "  libtiff            conda-forge/osx-64::libtiff-4.3.0-h17f2ce3_3\n",
      "  libwebp            conda-forge/osx-64::libwebp-1.2.2-h28dabe5_0\n",
      "  libwebp-base       conda-forge/osx-64::libwebp-base-1.2.2-h0d85af4_1\n",
      "  libxcb             conda-forge/osx-64::libxcb-1.13-h0d85af4_1004\n",
      "  lz4-c              conda-forge/osx-64::lz4-c-1.9.3-he49afe7_1\n",
      "  matplotlib         conda-forge/osx-64::matplotlib-3.5.1-py39h6e9494a_0\n",
      "  matplotlib-base    conda-forge/osx-64::matplotlib-base-3.5.1-py39hb07454d_0\n",
      "  munkres            conda-forge/noarch::munkres-1.1.4-pyh9f0ad1d_0\n",
      "  openjpeg           conda-forge/osx-64::openjpeg-2.4.0-h6e7aa92_1\n",
      "  packaging          conda-forge/noarch::packaging-21.3-pyhd8ed1ab_0\n",
      "  pillow             conda-forge/osx-64::pillow-9.0.1-py39h768cb32_1\n",
      "  pthread-stubs      conda-forge/osx-64::pthread-stubs-0.4-hc929b4f_1001\n",
      "  pyparsing          conda-forge/noarch::pyparsing-3.0.7-pyhd8ed1ab_0\n",
      "  python-dateutil    conda-forge/noarch::python-dateutil-2.8.2-pyhd8ed1ab_0\n",
      "  tornado            conda-forge/osx-64::tornado-6.1-py39h89e85a6_2\n",
      "  unicodedata2       conda-forge/osx-64::unicodedata2-14.0.0-py39h89e85a6_0\n",
      "  xorg-libxau        conda-forge/osx-64::xorg-libxau-1.0.9-h35c211d_0\n",
      "  xorg-libxdmcp      conda-forge/osx-64::xorg-libxdmcp-1.1.3-h35c211d_0\n",
      "  zstd               conda-forge/osx-64::zstd-1.5.2-h582d3a0_0\n",
      "\n",
      "\n",
      "\n",
      "Downloading and Extracting Packages\n",
      "\r",
      "lz4-c-1.9.3          | 155 KB    |                                      |   0% \r",
      "lz4-c-1.9.3          | 155 KB    | ###7                                 |  10% \r",
      "lz4-c-1.9.3          | 155 KB    | #################################### | 100% \n",
      "\r",
      "pyparsing-3.0.7      | 79 KB     |                                      |   0% \r",
      "pyparsing-3.0.7      | 79 KB     | #################################### | 100% \n",
      "\r",
      "xorg-libxau-1.0.9    | 11 KB     |                                      |   0% \r",
      "xorg-libxau-1.0.9    | 11 KB     | #################################### | 100% \n",
      "\r",
      "libwebp-base-1.2.2   | 703 KB    |                                      |   0% \r",
      "libwebp-base-1.2.2   | 703 KB    | #################################### | 100% \r",
      "libwebp-base-1.2.2   | 703 KB    | #################################### | 100% \n",
      "\r",
      "libbrotlidec-1.0.9   | 33 KB     |                                      |   0% \r",
      "libbrotlidec-1.0.9   | 33 KB     | #################################### | 100% \n",
      "\r",
      "xorg-libxdmcp-1.1.3  | 17 KB     |                                      |   0% \r",
      "xorg-libxdmcp-1.1.3  | 17 KB     | #################################### | 100% \n",
      "\r",
      "freetype-2.10.4      | 890 KB    |                                      |   0% \r",
      "freetype-2.10.4      | 890 KB    | #################################### | 100% \r",
      "freetype-2.10.4      | 890 KB    | #################################### | 100% \n",
      "\r",
      "libtiff-4.3.0        | 624 KB    |                                      |   0% \r",
      "libtiff-4.3.0        | 624 KB    | #################################### | 100% \r",
      "libtiff-4.3.0        | 624 KB    | #################################### | 100% \n",
      "\r",
      "lcms2-2.12           | 404 KB    |                                      |   0% \r",
      "lcms2-2.12           | 404 KB    | #################################### | 100% \r",
      "lcms2-2.12           | 404 KB    | #################################### | 100% \n",
      "\r",
      "packaging-21.3       | 36 KB     |                                      |   0% \r",
      "packaging-21.3       | 36 KB     | #################################### | 100% \n",
      "\r",
      "libpng-1.6.37        | 313 KB    |                                      |   0% \r",
      "libpng-1.6.37        | 313 KB    | #################################### | 100% \n",
      "\r",
      "python-dateutil-2.8. | 240 KB    |                                      |   0% \r",
      "python-dateutil-2.8. | 240 KB    | #################################### | 100% \n",
      "\r",
      "brotli-1.0.9         | 18 KB     |                                      |   0% \r",
      "brotli-1.0.9         | 18 KB     | #################################### | 100% \n",
      "\r",
      "libbrotlienc-1.0.9   | 324 KB    |                                      |   0% \r",
      "libbrotlienc-1.0.9   | 324 KB    | #################################### | 100% \n",
      "\r",
      "cycler-0.11.0        | 10 KB     |                                      |   0% \r",
      "cycler-0.11.0        | 10 KB     | #################################### | 100% \n",
      "\r",
      "munkres-1.1.4        | 12 KB     |                                      |   0% \r",
      "munkres-1.1.4        | 12 KB     | #################################### | 100% \n",
      "\r",
      "fribidi-1.0.10       | 64 KB     |                                      |   0% \r",
      "fribidi-1.0.10       | 64 KB     | #################################### | 100% \n",
      "\r",
      "unicodedata2-14.0.0  | 487 KB    |                                      |   0% \r",
      "unicodedata2-14.0.0  | 487 KB    | #################################### | 100% \r",
      "unicodedata2-14.0.0  | 487 KB    | #################################### | 100% \n",
      "\r",
      "brotli-bin-1.0.9     | 17 KB     |                                      |   0% \r",
      "brotli-bin-1.0.9     | 17 KB     | #################################### | 100% \n",
      "\r",
      "lerc-3.0             | 170 KB    |                                      |   0% \r",
      "lerc-3.0             | 170 KB    | #################################### | 100% \n",
      "\r",
      "matplotlib-base-3.5. | 7.4 MB    |                                      |   0% \r",
      "matplotlib-base-3.5. | 7.4 MB    | ########5                            |  24% \r",
      "matplotlib-base-3.5. | 7.4 MB    | #################################7   |  94% \r",
      "matplotlib-base-3.5. | 7.4 MB    | #################################### | 100% \n"
     ]
    },
    {
     "name": "stdout",
     "output_type": "stream",
     "text": [
      "\r",
      "openjpeg-2.4.0       | 374 KB    |                                      |   0% \r",
      "openjpeg-2.4.0       | 374 KB    | #################################### | 100% \r",
      "openjpeg-2.4.0       | 374 KB    | #################################### | 100% \n",
      "\r",
      "zstd-1.5.2           | 450 KB    |                                      |   0% \r",
      "zstd-1.5.2           | 450 KB    | #################################### | 100% \n",
      "\r",
      "jbig-2.1             | 42 KB     |                                      |   0% \r",
      "jbig-2.1             | 42 KB     | #################################### | 100% \n",
      "\r",
      "fonttools-4.29.1     | 1.6 MB    |                                      |   0% \r",
      "fonttools-4.29.1     | 1.6 MB    | #################################### | 100% \r",
      "fonttools-4.29.1     | 1.6 MB    | #################################### | 100% \n",
      "\r",
      "pillow-9.0.1         | 44.4 MB   |                                      |   0% \r",
      "pillow-9.0.1         | 44.4 MB   | 6                                    |   2% \r",
      "pillow-9.0.1         | 44.4 MB   | ###8                                 |  11% \r",
      "pillow-9.0.1         | 44.4 MB   | ######4                              |  18% \r",
      "pillow-9.0.1         | 44.4 MB   | ##########2                          |  29% \r",
      "pillow-9.0.1         | 44.4 MB   | ###############1                     |  42% \r",
      "pillow-9.0.1         | 44.4 MB   | ####################                 |  56% \r",
      "pillow-9.0.1         | 44.4 MB   | #########################1           |  70% \r",
      "pillow-9.0.1         | 44.4 MB   | #############################5       |  82% \r",
      "pillow-9.0.1         | 44.4 MB   | ##################################   |  95% \r",
      "pillow-9.0.1         | 44.4 MB   | #################################### | 100% \n",
      "\r",
      "libwebp-1.2.2        | 79 KB     |                                      |   0% \r",
      "libwebp-1.2.2        | 79 KB     | #################################### | 100% \n",
      "\r",
      "giflib-5.2.1         | 71 KB     |                                      |   0% \r",
      "giflib-5.2.1         | 71 KB     | #################################### | 100% \n",
      "\r",
      "jpeg-9e              | 252 KB    |                                      |   0% \r",
      "jpeg-9e              | 252 KB    | #################################### | 100% \r",
      "jpeg-9e              | 252 KB    | #################################### | 100% \n",
      "\r",
      "libbrotlicommon-1.0. | 63 KB     |                                      |   0% \r",
      "libbrotlicommon-1.0. | 63 KB     | #################################### | 100% \n",
      "\r",
      "pthread-stubs-0.4    | 6 KB      |                                      |   0% \r",
      "pthread-stubs-0.4    | 6 KB      | #################################### | 100% \n",
      "\r",
      "matplotlib-3.5.1     | 6 KB      |                                      |   0% \r",
      "matplotlib-3.5.1     | 6 KB      | #################################### | 100% \n",
      "\r",
      "libxcb-1.13          | 305 KB    |                                      |   0% \r",
      "libxcb-1.13          | 305 KB    | #################################### | 100% \r",
      "libxcb-1.13          | 305 KB    | #################################### | 100% \n",
      "\r",
      "libimagequant-2.17.0 | 47 KB     |                                      |   0% \r",
      "libimagequant-2.17.0 | 47 KB     | #################################### | 100% \n",
      "\r",
      "libdeflate-1.10      | 78 KB     |                                      |   0% \r",
      "libdeflate-1.10      | 78 KB     | #################################### | 100% \n",
      "\r",
      "kiwisolver-1.3.2     | 59 KB     |                                      |   0% \r",
      "kiwisolver-1.3.2     | 59 KB     | #################################### | 100% \n",
      "\r",
      "tornado-6.1          | 650 KB    |                                      |   0% \r",
      "tornado-6.1          | 650 KB    | #################################### | 100% \r",
      "tornado-6.1          | 650 KB    | #################################### | 100% \n",
      "Preparing transaction: ...working... done\n",
      "Verifying transaction: ...working... done\n",
      "Executing transaction: ...working... done\n",
      "Collecting package metadata (current_repodata.json): ...working... done\n",
      "Solving environment: ...working... done\n",
      "\n",
      "## Package Plan ##\n",
      "\n",
      "  environment location: /Users/okara/.julia/conda/3\n",
      "\n",
      "  added / updated specs:\n",
      "    - pyqt\n",
      "\n",
      "\n",
      "The following packages will be downloaded:\n",
      "\n",
      "    package                    |            build\n",
      "    ---------------------------|-----------------\n",
      "    dbus-1.13.6                |       h811a1a6_3         551 KB  conda-forge\n",
      "    expat-2.4.4                |       he49afe7_0         145 KB  conda-forge\n",
      "    gettext-0.19.8.1           |    hd1a6beb_1008         3.3 MB  conda-forge\n",
      "    icu-69.1                   |       he49afe7_0        12.9 MB  conda-forge\n",
      "    krb5-1.19.2                |       hcfbf3a7_3         1.2 MB  conda-forge\n",
      "    libclang-13.0.1            |default_he082bbe_0         8.0 MB  conda-forge\n",
      "    libedit-3.1.20191231       |       h0678c8f_2         103 KB  conda-forge\n",
      "    libglib-2.70.2             |       hf1fb8c0_4         2.8 MB  conda-forge\n",
      "    libiconv-1.16              |       haf1e3a3_0         1.3 MB  conda-forge\n",
      "    libllvm13-13.0.1           |       hd011deb_0        25.3 MB  conda-forge\n",
      "    libpq-14.2                 |       hea3049e_0         2.9 MB  conda-forge\n",
      "    mysql-common-8.0.28        |       h694c41f_0         1.8 MB  conda-forge\n",
      "    mysql-libs-8.0.28          |       h115446f_0         1.9 MB  conda-forge\n",
      "    nspr-4.32                  |       hcd9eead_1         247 KB  conda-forge\n",
      "    nss-3.74                   |       h31e2bf1_0         2.0 MB  conda-forge\n",
      "    pcre-8.45                  |       he49afe7_0         220 KB  conda-forge\n",
      "    pyqt-5.12.3                |   py39h6e9494a_8          22 KB  conda-forge\n",
      "    pyqt-impl-5.12.3           |   py39he44290a_8         4.7 MB  conda-forge\n",
      "    pyqt5-sip-4.19.18          |   py39h15fb055_8         275 KB  conda-forge\n",
      "    pyqtchart-5.12             |   py39he44290a_8         213 KB  conda-forge\n",
      "    pyqtwebengine-5.12.1       |   py39he44290a_8         140 KB  conda-forge\n",
      "    qt-5.12.9                  |       h2a607e2_5        87.9 MB  conda-forge\n",
      "    ------------------------------------------------------------\n",
      "                                           Total:       157.8 MB\n",
      "\n",
      "The following NEW packages will be INSTALLED:\n",
      "\n",
      "  dbus               conda-forge/osx-64::dbus-1.13.6-h811a1a6_3\n",
      "  expat              conda-forge/osx-64::expat-2.4.4-he49afe7_0\n",
      "  gettext            conda-forge/osx-64::gettext-0.19.8.1-hd1a6beb_1008\n",
      "  icu                conda-forge/osx-64::icu-69.1-he49afe7_0\n",
      "  krb5               conda-forge/osx-64::krb5-1.19.2-hcfbf3a7_3\n",
      "  libclang           conda-forge/osx-64::libclang-13.0.1-default_he082bbe_0\n",
      "  libedit            conda-forge/osx-64::libedit-3.1.20191231-h0678c8f_2\n",
      "  libglib            conda-forge/osx-64::libglib-2.70.2-hf1fb8c0_4\n",
      "  libiconv           conda-forge/osx-64::libiconv-1.16-haf1e3a3_0\n",
      "  libllvm13          conda-forge/osx-64::libllvm13-13.0.1-hd011deb_0\n",
      "  libpq              conda-forge/osx-64::libpq-14.2-hea3049e_0\n",
      "  mysql-common       conda-forge/osx-64::mysql-common-8.0.28-h694c41f_0\n",
      "  mysql-libs         conda-forge/osx-64::mysql-libs-8.0.28-h115446f_0\n",
      "  nspr               conda-forge/osx-64::nspr-4.32-hcd9eead_1\n",
      "  nss                conda-forge/osx-64::nss-3.74-h31e2bf1_0\n",
      "  pcre               conda-forge/osx-64::pcre-8.45-he49afe7_0\n",
      "  pyqt               conda-forge/osx-64::pyqt-5.12.3-py39h6e9494a_8\n",
      "  pyqt-impl          conda-forge/osx-64::pyqt-impl-5.12.3-py39he44290a_8\n",
      "  pyqt5-sip          conda-forge/osx-64::pyqt5-sip-4.19.18-py39h15fb055_8\n",
      "  pyqtchart          conda-forge/osx-64::pyqtchart-5.12-py39he44290a_8\n",
      "  pyqtwebengine      conda-forge/osx-64::pyqtwebengine-5.12.1-py39he44290a_8\n",
      "  qt                 conda-forge/osx-64::qt-5.12.9-h2a607e2_5\n",
      "\n",
      "\n",
      "\n",
      "Downloading and Extracting Packages\n",
      "\r",
      "pcre-8.45            | 220 KB    |                                      |   0% \r",
      "pcre-8.45            | 220 KB    | #################################### | 100% \r",
      "pcre-8.45            | 220 KB    | #################################### | 100% \n",
      "\r",
      "pyqt5-sip-4.19.18    | 275 KB    |                                      |   0% \r",
      "pyqt5-sip-4.19.18    | 275 KB    | #################################### | 100% \n",
      "\r",
      "libiconv-1.16        | 1.3 MB    |                                      |   0% \r",
      "libiconv-1.16        | 1.3 MB    | #################################### | 100% \r",
      "libiconv-1.16        | 1.3 MB    | #################################### | 100% \n",
      "\r",
      "krb5-1.19.2          | 1.2 MB    |                                      |   0% \r",
      "krb5-1.19.2          | 1.2 MB    | #################################### | 100% \r",
      "krb5-1.19.2          | 1.2 MB    | #################################### | 100% \n",
      "\r",
      "qt-5.12.9            | 87.9 MB   |                                      |   0% \r",
      "qt-5.12.9            | 87.9 MB   | #5                                   |   4% \r",
      "qt-5.12.9            | 87.9 MB   | ###7                                 |  10% \r",
      "qt-5.12.9            | 87.9 MB   | ######                               |  17% \r",
      "qt-5.12.9            | 87.9 MB   | ########1                            |  23% \r",
      "qt-5.12.9            | 87.9 MB   | ##########1                          |  28% \r",
      "qt-5.12.9            | 87.9 MB   | ############4                        |  35% \r",
      "qt-5.12.9            | 87.9 MB   | ##############9                      |  42% \r",
      "qt-5.12.9            | 87.9 MB   | #################2                   |  48% \r",
      "qt-5.12.9            | 87.9 MB   | ###################6                 |  55% \r",
      "qt-5.12.9            | 87.9 MB   | #####################9               |  61% \r",
      "qt-5.12.9            | 87.9 MB   | ########################2            |  67% \r",
      "qt-5.12.9            | 87.9 MB   | ###########################1         |  75% \r",
      "qt-5.12.9            | 87.9 MB   | #############################6       |  82% \r",
      "qt-5.12.9            | 87.9 MB   | ################################     |  89% \r",
      "qt-5.12.9            | 87.9 MB   | ##################################6  |  96% \r",
      "qt-5.12.9            | 87.9 MB   | #################################### | 100% \n",
      "\r",
      "pyqt-impl-5.12.3     | 4.7 MB    |                                      |   0% \r",
      "pyqt-impl-5.12.3     | 4.7 MB    | #####1                               |  14% \r",
      "pyqt-impl-5.12.3     | 4.7 MB    | #########3                           |  26% \r",
      "pyqt-impl-5.12.3     | 4.7 MB    | #################################### | 100% \r",
      "pyqt-impl-5.12.3     | 4.7 MB    | #################################### | 100% \n",
      "\r",
      "pyqtchart-5.12       | 213 KB    |                                      |   0% \r",
      "pyqtchart-5.12       | 213 KB    | #################################### | 100% \n"
     ]
    },
    {
     "name": "stdout",
     "output_type": "stream",
     "text": [
      "\r",
      "libpq-14.2           | 2.9 MB    |                                      |   0% \r",
      "libpq-14.2           | 2.9 MB    | #################################### | 100% \r",
      "libpq-14.2           | 2.9 MB    | #################################### | 100% \n",
      "\r",
      "icu-69.1             | 12.9 MB   |                                      |   0% \r",
      "icu-69.1             | 12.9 MB   | ###########1                         |  31% \r",
      "icu-69.1             | 12.9 MB   | ###########################4         |  76% \r",
      "icu-69.1             | 12.9 MB   | #################################### | 100% \n",
      "\r",
      "pyqtwebengine-5.12.1 | 140 KB    |                                      |   0% \r",
      "pyqtwebengine-5.12.1 | 140 KB    | #################################### | 100% \n",
      "\r",
      "expat-2.4.4          | 145 KB    |                                      |   0% \r",
      "expat-2.4.4          | 145 KB    | #################################### | 100% \n",
      "\r",
      "dbus-1.13.6          | 551 KB    |                                      |   0% \r",
      "dbus-1.13.6          | 551 KB    | #################################### | 100% \r",
      "dbus-1.13.6          | 551 KB    | #################################### | 100% \n",
      "\r",
      "nspr-4.32            | 247 KB    |                                      |   0% \r",
      "nspr-4.32            | 247 KB    | #################################### | 100% \n",
      "\r",
      "libglib-2.70.2       | 2.8 MB    |                                      |   0% \r",
      "libglib-2.70.2       | 2.8 MB    | #################################4   |  93% \r",
      "libglib-2.70.2       | 2.8 MB    | #################################### | 100% \n",
      "\r",
      "gettext-0.19.8.1     | 3.3 MB    |                                      |   0% \r",
      "gettext-0.19.8.1     | 3.3 MB    | ###9                                 |  11% \r",
      "gettext-0.19.8.1     | 3.3 MB    | ###########5                         |  32% \r",
      "gettext-0.19.8.1     | 3.3 MB    | ######################7              |  63% \r",
      "gettext-0.19.8.1     | 3.3 MB    | #################################### | 100% \r",
      "gettext-0.19.8.1     | 3.3 MB    | #################################### | 100% \n",
      "\r",
      "nss-3.74             | 2.0 MB    |                                      |   0% \r",
      "nss-3.74             | 2.0 MB    | ###########################          |  75% \r",
      "nss-3.74             | 2.0 MB    | #################################### | 100% \n",
      "\r",
      "mysql-libs-8.0.28    | 1.9 MB    |                                      |   0% \r",
      "mysql-libs-8.0.28    | 1.9 MB    | #################################### | 100% \r",
      "mysql-libs-8.0.28    | 1.9 MB    | #################################### | 100% \n",
      "\r",
      "libedit-3.1.20191231 | 103 KB    |                                      |   0% \r",
      "libedit-3.1.20191231 | 103 KB    | #################################### | 100% \n",
      "\r",
      "libclang-13.0.1      | 8.0 MB    |                                      |   0% \r",
      "libclang-13.0.1      | 8.0 MB    | #########                            |  25% \r",
      "libclang-13.0.1      | 8.0 MB    | #########################9           |  72% \r",
      "libclang-13.0.1      | 8.0 MB    | #################################### | 100% \n",
      "\r",
      "libllvm13-13.0.1     | 25.3 MB   |                                      |   0% \r",
      "libllvm13-13.0.1     | 25.3 MB   | #####                                |  14% \r",
      "libllvm13-13.0.1     | 25.3 MB   | ############9                        |  36% \r",
      "libllvm13-13.0.1     | 25.3 MB   | ######################5              |  63% \r",
      "libllvm13-13.0.1     | 25.3 MB   | ################################6    |  91% \r",
      "libllvm13-13.0.1     | 25.3 MB   | #################################### | 100% \n",
      "\r",
      "pyqt-5.12.3          | 22 KB     |                                      |   0% \r",
      "pyqt-5.12.3          | 22 KB     | #################################### | 100% \n",
      "\r",
      "mysql-common-8.0.28  | 1.8 MB    |                                      |   0% \r",
      "mysql-common-8.0.28  | 1.8 MB    | #################################### | 100% \r",
      "mysql-common-8.0.28  | 1.8 MB    | #################################### | 100% \n",
      "Preparing transaction: ...working... done\n",
      "Verifying transaction: ...working... done\n",
      "Executing transaction: ...working... done\n"
     ]
    },
    {
     "name": "stderr",
     "output_type": "stream",
     "text": [
      "┌ Info: Precompiling PyPlot [d330b81b-6aea-500a-939a-2ce795aea3ee]\n",
      "└ @ Base loading.jl:1423\n",
      "┌ Info: Installing matplotlib via the Conda matplotlib package...\n",
      "└ @ PyCall /Users/okara/.julia/packages/PyCall/L0fLP/src/PyCall.jl:711\n",
      "┌ Info: Running `conda install -y matplotlib` in root environment\n",
      "└ @ Conda /Users/okara/.julia/packages/Conda/1403Y/src/Conda.jl:129\n",
      "┌ Info: Installing pyqt package to avoid buggy tkagg backend.\n",
      "└ @ PyPlot /Users/okara/.julia/packages/PyPlot/XaELc/src/init.jl:118\n",
      "┌ Info: Installing PyQt5 via the Conda pyqt package...\n",
      "└ @ PyCall /Users/okara/.julia/packages/PyCall/L0fLP/src/PyCall.jl:711\n",
      "┌ Info: Running `conda install -y pyqt` in root environment\n",
      "└ @ Conda /Users/okara/.julia/packages/Conda/1403Y/src/Conda.jl:129\n",
      "\n",
      "SafetyError: The package for libllvm13 located at /Users/okara/.julia/conda/3/pkgs/libllvm13-13.0.1-hd011deb_0\n",
      "appears to be corrupted. The path 'lib/libLLVM-13.dylib'\n",
      "has an incorrect size.\n",
      "  reported size: 99574460 bytes\n",
      "  actual size: 20720128 bytes\n",
      "\n",
      "\n"
     ]
    }
   ],
   "source": [
    "using PyPlot"
   ]
  },
  {
   "cell_type": "markdown",
   "metadata": {},
   "source": [
    "<div class=\"alert alert-block alert-info\">\n",
    "    <p><b>PyPlot.jl configuration:</b></p>\n",
    "    <p>In some environments automatic installation of PyPlot.jl might fail. If you encounter this ussue please refer to <a href=\"https://github.com/JuliaPy/PyPlot.jl#installation\">the PyPlot.jl installation instructions</a>. </p>\n",
    "</div>\n",
    "\n",
    "In particular typically executing the following commands:\n",
    "\n",
    "```\n",
    "using Pkg\n",
    "ENV[\"PYTHON\"]=\"\"\n",
    "Pkg.build(\"PyCall\")\n",
    "```\n",
    "\n",
    "should resolve the PyPlot.jl installation issues. However, on OS X sometimes more configuration steps are required. You can find the detailed instructions [here](https://github.com/JuliaPy/PyPlot.jl#os-x)."
   ]
  },
  {
   "cell_type": "code",
   "execution_count": 48,
   "metadata": {},
   "outputs": [],
   "source": [
    "using Random"
   ]
  },
  {
   "cell_type": "code",
   "execution_count": 49,
   "metadata": {},
   "outputs": [],
   "source": [
    "using Pipe"
   ]
  },
  {
   "cell_type": "markdown",
   "metadata": {},
   "source": [
    "In this part we will run a simple Monte Carlo simulation so show examples how one can work with data frames."
   ]
  },
  {
   "cell_type": "markdown",
   "metadata": {},
   "source": [
    "Consider the following puzzle.\n",
    "\n",
    "We draw independent random numbers from $U(0,1)$ distribution. On the average, how many draws do we need, till the sum of these numbers exceeds $1$?"
   ]
  },
  {
   "cell_type": "markdown",
   "metadata": {},
   "source": [
    "Here is the code that runs this experiment once. For tutorial reasons we keep all the generated random numbers and recalculate their sum in each iteration (you can try to improve the efficiency of this code as an exercise)."
   ]
  },
  {
   "cell_type": "code",
   "execution_count": 50,
   "metadata": {},
   "outputs": [
    {
     "data": {
      "text/plain": [
       "sim_e (generic function with 1 method)"
      ]
     },
     "execution_count": 50,
     "metadata": {},
     "output_type": "execute_result"
    }
   ],
   "source": [
    "function sim_e()\n",
    "    draw = Float64[]\n",
    "    while true\n",
    "        push!(draw, rand())\n",
    "        sum(draw) > 1.0 && return draw\n",
    "    end\n",
    "end"
   ]
  },
  {
   "cell_type": "code",
   "execution_count": 51,
   "metadata": {},
   "outputs": [],
   "source": [
    "Random.seed!(1234); # just to make sure we get the same results if we are on the same version of Julia"
   ]
  },
  {
   "cell_type": "markdown",
   "metadata": {},
   "source": [
    "Let us run our simulation several times:"
   ]
  },
  {
   "cell_type": "code",
   "execution_count": 52,
   "metadata": {},
   "outputs": [
    {
     "data": {
      "text/plain": [
       "5-element Vector{Vector{Float64}}:\n",
       " [0.32597672886359486, 0.5490511363155669, 0.21858665481883066]\n",
       " [0.8942454282009883, 0.35311164439921205]\n",
       " [0.39425536741585077, 0.9531246272848422]\n",
       " [0.7955469475347194, 0.4942498668904206]\n",
       " [0.7484150218874741, 0.5782319465613976]"
      ]
     },
     "execution_count": 52,
     "metadata": {},
     "output_type": "execute_result"
    }
   ],
   "source": [
    "res = [sim_e() for _ in 1:5]"
   ]
  },
  {
   "cell_type": "markdown",
   "metadata": {},
   "source": [
    "and check that each time we finished just when we exceeded $1$:"
   ]
  },
  {
   "cell_type": "code",
   "execution_count": 53,
   "metadata": {},
   "outputs": [
    {
     "data": {
      "text/plain": [
       "5-element Vector{Float64}:\n",
       " 1.0936145199979923\n",
       " 1.2473570726002003\n",
       " 1.347379994700693\n",
       " 1.2897968144251402\n",
       " 1.3266469684488718"
      ]
     },
     "execution_count": 53,
     "metadata": {},
     "output_type": "execute_result"
    }
   ],
   "source": [
    "sum.(res)"
   ]
  },
  {
   "cell_type": "code",
   "execution_count": 54,
   "metadata": {},
   "outputs": [
    {
     "data": {
      "text/plain": [
       "5-element Vector{Float64}:\n",
       " 0.8750278651791616\n",
       " 0.8942454282009883\n",
       " 0.3942553674158509\n",
       " 0.7955469475347196\n",
       " 0.7484150218874741"
      ]
     },
     "execution_count": 54,
     "metadata": {},
     "output_type": "execute_result"
    }
   ],
   "source": [
    "@. sum(res) - last(res)"
   ]
  },
  {
   "cell_type": "markdown",
   "metadata": {},
   "source": [
    "All looks good so far! (and as a bonus we have just made a small exercise in broadcasting)"
   ]
  },
  {
   "cell_type": "markdown",
   "metadata": {},
   "source": [
    "Now let us populate a data frame with the results of our experiments"
   ]
  },
  {
   "cell_type": "code",
   "execution_count": 55,
   "metadata": {},
   "outputs": [
    {
     "name": "stdout",
     "output_type": "stream",
     "text": [
      " 10.516909 seconds (151.35 M allocations: 4.761 GiB, 37.74% gc time, 4.46% compilation time)\n"
     ]
    }
   ],
   "source": [
    "df = DataFrame()\n",
    "\n",
    "@time for i in 1:10^7\n",
    "    push!(df, (id=i, pos=sim_e()))\n",
    "end"
   ]
  },
  {
   "cell_type": "markdown",
   "metadata": {},
   "source": [
    "As you can see the process was quite fast, `push!`-ing data to a `DataFrame` is efficient."
   ]
  },
  {
   "cell_type": "code",
   "execution_count": 56,
   "metadata": {},
   "outputs": [
    {
     "data": {
      "text/html": [
       "<div class=\"data-frame\"><p>10,000,000 rows × 2 columns</p><table class=\"data-frame\"><thead><tr><th></th><th>id</th><th>pos</th></tr><tr><th></th><th title=\"Int64\">Int64</th><th title=\"Vector{Float64}\">Array…</th></tr></thead><tbody><tr><th>1</th><td>1</td><td>[0.727935, 0.00744801, 0.199377, 0.439243]</td></tr><tr><th>2</th><td>2</td><td>[0.682533, 0.956741]</td></tr><tr><th>3</th><td>3</td><td>[0.647855, 0.996665]</td></tr><tr><th>4</th><td>4</td><td>[0.749194, 0.110084, 0.491383]</td></tr><tr><th>5</th><td>5</td><td>[0.565145, 0.253812, 0.626794]</td></tr><tr><th>6</th><td>6</td><td>[0.234105, 0.124792, 0.609875, 0.672793]</td></tr><tr><th>7</th><td>7</td><td>[0.761916, 0.588872]</td></tr><tr><th>8</th><td>8</td><td>[0.365854, 0.131026, 0.946453]</td></tr><tr><th>9</th><td>9</td><td>[0.574323, 0.67765]</td></tr><tr><th>10</th><td>10</td><td>[0.571586, 0.0727161, 0.701116]</td></tr><tr><th>11</th><td>11</td><td>[0.0952175, 0.845515, 0.348995]</td></tr><tr><th>12</th><td>12</td><td>[0.768308, 0.26906]</td></tr><tr><th>13</th><td>13</td><td>[0.539631, 0.293905, 0.242195]</td></tr><tr><th>14</th><td>14</td><td>[0.97807, 0.853242]</td></tr><tr><th>15</th><td>15</td><td>[0.706065, 0.442139]</td></tr><tr><th>16</th><td>16</td><td>[0.884577, 0.520741]</td></tr><tr><th>17</th><td>17</td><td>[0.941831, 0.810699]</td></tr><tr><th>18</th><td>18</td><td>[0.464849, 0.977012]</td></tr><tr><th>19</th><td>19</td><td>[0.500161, 0.715846]</td></tr><tr><th>20</th><td>20</td><td>[0.18985, 0.376441, 0.565864]</td></tr><tr><th>21</th><td>21</td><td>[0.172236, 0.327351, 0.632108]</td></tr><tr><th>22</th><td>22</td><td>[0.374141, 0.728543]</td></tr><tr><th>23</th><td>23</td><td>[0.00277646, 0.134685, 0.531899, 0.0731709, 0.501756]</td></tr><tr><th>24</th><td>24</td><td>[0.906939, 0.116769]</td></tr><tr><th>25</th><td>25</td><td>[0.367198, 0.881163]</td></tr><tr><th>26</th><td>26</td><td>[0.67189, 0.479862]</td></tr><tr><th>27</th><td>27</td><td>[0.949968, 0.0262331, 0.347189]</td></tr><tr><th>28</th><td>28</td><td>[0.819254, 0.792831]</td></tr><tr><th>29</th><td>29</td><td>[0.96723, 0.471452]</td></tr><tr><th>30</th><td>30</td><td>[0.19378, 0.941781]</td></tr><tr><th>&vellip;</th><td>&vellip;</td><td>&vellip;</td></tr></tbody></table></div>"
      ],
      "text/latex": [
       "\\begin{tabular}{r|cc}\n",
       "\t& id & pos\\\\\n",
       "\t\\hline\n",
       "\t& Int64 & Array…\\\\\n",
       "\t\\hline\n",
       "\t1 & 1 & [0.727935, 0.00744801, 0.199377, 0.439243] \\\\\n",
       "\t2 & 2 & [0.682533, 0.956741] \\\\\n",
       "\t3 & 3 & [0.647855, 0.996665] \\\\\n",
       "\t4 & 4 & [0.749194, 0.110084, 0.491383] \\\\\n",
       "\t5 & 5 & [0.565145, 0.253812, 0.626794] \\\\\n",
       "\t6 & 6 & [0.234105, 0.124792, 0.609875, 0.672793] \\\\\n",
       "\t7 & 7 & [0.761916, 0.588872] \\\\\n",
       "\t8 & 8 & [0.365854, 0.131026, 0.946453] \\\\\n",
       "\t9 & 9 & [0.574323, 0.67765] \\\\\n",
       "\t10 & 10 & [0.571586, 0.0727161, 0.701116] \\\\\n",
       "\t11 & 11 & [0.0952175, 0.845515, 0.348995] \\\\\n",
       "\t12 & 12 & [0.768308, 0.26906] \\\\\n",
       "\t13 & 13 & [0.539631, 0.293905, 0.242195] \\\\\n",
       "\t14 & 14 & [0.97807, 0.853242] \\\\\n",
       "\t15 & 15 & [0.706065, 0.442139] \\\\\n",
       "\t16 & 16 & [0.884577, 0.520741] \\\\\n",
       "\t17 & 17 & [0.941831, 0.810699] \\\\\n",
       "\t18 & 18 & [0.464849, 0.977012] \\\\\n",
       "\t19 & 19 & [0.500161, 0.715846] \\\\\n",
       "\t20 & 20 & [0.18985, 0.376441, 0.565864] \\\\\n",
       "\t21 & 21 & [0.172236, 0.327351, 0.632108] \\\\\n",
       "\t22 & 22 & [0.374141, 0.728543] \\\\\n",
       "\t23 & 23 & [0.00277646, 0.134685, 0.531899, 0.0731709, 0.501756] \\\\\n",
       "\t24 & 24 & [0.906939, 0.116769] \\\\\n",
       "\t25 & 25 & [0.367198, 0.881163] \\\\\n",
       "\t26 & 26 & [0.67189, 0.479862] \\\\\n",
       "\t27 & 27 & [0.949968, 0.0262331, 0.347189] \\\\\n",
       "\t28 & 28 & [0.819254, 0.792831] \\\\\n",
       "\t29 & 29 & [0.96723, 0.471452] \\\\\n",
       "\t30 & 30 & [0.19378, 0.941781] \\\\\n",
       "\t$\\dots$ & $\\dots$ & $\\dots$ \\\\\n",
       "\\end{tabular}\n"
      ],
      "text/plain": [
       "\u001b[1m10000000×2 DataFrame\u001b[0m\n",
       "\u001b[1m      Row \u001b[0m│\u001b[1m id       \u001b[0m\u001b[1m pos                               \u001b[0m\n",
       "\u001b[1m          \u001b[0m│\u001b[90m Int64    \u001b[0m\u001b[90m Array…                            \u001b[0m\n",
       "──────────┼─────────────────────────────────────────────\n",
       "        1 │        1  [0.727935, 0.00744801, 0.199377,…\n",
       "        2 │        2  [0.682533, 0.956741]\n",
       "        3 │        3  [0.647855, 0.996665]\n",
       "        4 │        4  [0.749194, 0.110084, 0.491383]\n",
       "        5 │        5  [0.565145, 0.253812, 0.626794]\n",
       "        6 │        6  [0.234105, 0.124792, 0.609875, 0…\n",
       "        7 │        7  [0.761916, 0.588872]\n",
       "        8 │        8  [0.365854, 0.131026, 0.946453]\n",
       "        9 │        9  [0.574323, 0.67765]\n",
       "       10 │       10  [0.571586, 0.0727161, 0.701116]\n",
       "       11 │       11  [0.0952175, 0.845515, 0.348995]\n",
       "    ⋮     │    ⋮                      ⋮\n",
       "  9999991 │  9999991  [0.382258, 0.901623]\n",
       "  9999992 │  9999992  [0.640595, 0.916399]\n",
       "  9999993 │  9999993  [0.963508, 0.301685]\n",
       "  9999994 │  9999994  [0.846778, 0.328575]\n",
       "  9999995 │  9999995  [0.251749, 0.28344, 0.16416, 0.6…\n",
       "  9999996 │  9999996  [0.383316, 0.352557, 0.470778]\n",
       "  9999997 │  9999997  [0.362197, 0.639499]\n",
       "  9999998 │  9999998  [0.046897, 0.552855, 0.172669, 0…\n",
       "  9999999 │  9999999  [0.815608, 0.663247]\n",
       " 10000000 │ 10000000  [0.61177, 0.5798]\n",
       "\u001b[36m                                    9999979 rows omitted\u001b[0m"
      ]
     },
     "execution_count": 56,
     "metadata": {},
     "output_type": "execute_result"
    }
   ],
   "source": [
    "df"
   ]
  },
  {
   "cell_type": "markdown",
   "metadata": {},
   "source": [
    "Let us count the number of jumps we have made in each step using the `transform!` function:"
   ]
  },
  {
   "cell_type": "code",
   "execution_count": 57,
   "metadata": {
    "scrolled": true
   },
   "outputs": [
    {
     "data": {
      "text/html": [
       "<div class=\"data-frame\"><p>10,000,000 rows × 3 columns</p><table class=\"data-frame\"><thead><tr><th></th><th>id</th><th>pos</th><th>jumps</th></tr><tr><th></th><th title=\"Int64\">Int64</th><th title=\"Vector{Float64}\">Array…</th><th title=\"Int64\">Int64</th></tr></thead><tbody><tr><th>1</th><td>1</td><td>[0.727935, 0.00744801, 0.199377, 0.439243]</td><td>4</td></tr><tr><th>2</th><td>2</td><td>[0.682533, 0.956741]</td><td>2</td></tr><tr><th>3</th><td>3</td><td>[0.647855, 0.996665]</td><td>2</td></tr><tr><th>4</th><td>4</td><td>[0.749194, 0.110084, 0.491383]</td><td>3</td></tr><tr><th>5</th><td>5</td><td>[0.565145, 0.253812, 0.626794]</td><td>3</td></tr><tr><th>6</th><td>6</td><td>[0.234105, 0.124792, 0.609875, 0.672793]</td><td>4</td></tr><tr><th>7</th><td>7</td><td>[0.761916, 0.588872]</td><td>2</td></tr><tr><th>8</th><td>8</td><td>[0.365854, 0.131026, 0.946453]</td><td>3</td></tr><tr><th>9</th><td>9</td><td>[0.574323, 0.67765]</td><td>2</td></tr><tr><th>10</th><td>10</td><td>[0.571586, 0.0727161, 0.701116]</td><td>3</td></tr><tr><th>11</th><td>11</td><td>[0.0952175, 0.845515, 0.348995]</td><td>3</td></tr><tr><th>12</th><td>12</td><td>[0.768308, 0.26906]</td><td>2</td></tr><tr><th>13</th><td>13</td><td>[0.539631, 0.293905, 0.242195]</td><td>3</td></tr><tr><th>14</th><td>14</td><td>[0.97807, 0.853242]</td><td>2</td></tr><tr><th>15</th><td>15</td><td>[0.706065, 0.442139]</td><td>2</td></tr><tr><th>16</th><td>16</td><td>[0.884577, 0.520741]</td><td>2</td></tr><tr><th>17</th><td>17</td><td>[0.941831, 0.810699]</td><td>2</td></tr><tr><th>18</th><td>18</td><td>[0.464849, 0.977012]</td><td>2</td></tr><tr><th>19</th><td>19</td><td>[0.500161, 0.715846]</td><td>2</td></tr><tr><th>20</th><td>20</td><td>[0.18985, 0.376441, 0.565864]</td><td>3</td></tr><tr><th>21</th><td>21</td><td>[0.172236, 0.327351, 0.632108]</td><td>3</td></tr><tr><th>22</th><td>22</td><td>[0.374141, 0.728543]</td><td>2</td></tr><tr><th>23</th><td>23</td><td>[0.00277646, 0.134685, 0.531899, 0.0731709, 0.501756]</td><td>5</td></tr><tr><th>24</th><td>24</td><td>[0.906939, 0.116769]</td><td>2</td></tr><tr><th>25</th><td>25</td><td>[0.367198, 0.881163]</td><td>2</td></tr><tr><th>26</th><td>26</td><td>[0.67189, 0.479862]</td><td>2</td></tr><tr><th>27</th><td>27</td><td>[0.949968, 0.0262331, 0.347189]</td><td>3</td></tr><tr><th>28</th><td>28</td><td>[0.819254, 0.792831]</td><td>2</td></tr><tr><th>29</th><td>29</td><td>[0.96723, 0.471452]</td><td>2</td></tr><tr><th>30</th><td>30</td><td>[0.19378, 0.941781]</td><td>2</td></tr><tr><th>&vellip;</th><td>&vellip;</td><td>&vellip;</td><td>&vellip;</td></tr></tbody></table></div>"
      ],
      "text/latex": [
       "\\begin{tabular}{r|ccc}\n",
       "\t& id & pos & jumps\\\\\n",
       "\t\\hline\n",
       "\t& Int64 & Array… & Int64\\\\\n",
       "\t\\hline\n",
       "\t1 & 1 & [0.727935, 0.00744801, 0.199377, 0.439243] & 4 \\\\\n",
       "\t2 & 2 & [0.682533, 0.956741] & 2 \\\\\n",
       "\t3 & 3 & [0.647855, 0.996665] & 2 \\\\\n",
       "\t4 & 4 & [0.749194, 0.110084, 0.491383] & 3 \\\\\n",
       "\t5 & 5 & [0.565145, 0.253812, 0.626794] & 3 \\\\\n",
       "\t6 & 6 & [0.234105, 0.124792, 0.609875, 0.672793] & 4 \\\\\n",
       "\t7 & 7 & [0.761916, 0.588872] & 2 \\\\\n",
       "\t8 & 8 & [0.365854, 0.131026, 0.946453] & 3 \\\\\n",
       "\t9 & 9 & [0.574323, 0.67765] & 2 \\\\\n",
       "\t10 & 10 & [0.571586, 0.0727161, 0.701116] & 3 \\\\\n",
       "\t11 & 11 & [0.0952175, 0.845515, 0.348995] & 3 \\\\\n",
       "\t12 & 12 & [0.768308, 0.26906] & 2 \\\\\n",
       "\t13 & 13 & [0.539631, 0.293905, 0.242195] & 3 \\\\\n",
       "\t14 & 14 & [0.97807, 0.853242] & 2 \\\\\n",
       "\t15 & 15 & [0.706065, 0.442139] & 2 \\\\\n",
       "\t16 & 16 & [0.884577, 0.520741] & 2 \\\\\n",
       "\t17 & 17 & [0.941831, 0.810699] & 2 \\\\\n",
       "\t18 & 18 & [0.464849, 0.977012] & 2 \\\\\n",
       "\t19 & 19 & [0.500161, 0.715846] & 2 \\\\\n",
       "\t20 & 20 & [0.18985, 0.376441, 0.565864] & 3 \\\\\n",
       "\t21 & 21 & [0.172236, 0.327351, 0.632108] & 3 \\\\\n",
       "\t22 & 22 & [0.374141, 0.728543] & 2 \\\\\n",
       "\t23 & 23 & [0.00277646, 0.134685, 0.531899, 0.0731709, 0.501756] & 5 \\\\\n",
       "\t24 & 24 & [0.906939, 0.116769] & 2 \\\\\n",
       "\t25 & 25 & [0.367198, 0.881163] & 2 \\\\\n",
       "\t26 & 26 & [0.67189, 0.479862] & 2 \\\\\n",
       "\t27 & 27 & [0.949968, 0.0262331, 0.347189] & 3 \\\\\n",
       "\t28 & 28 & [0.819254, 0.792831] & 2 \\\\\n",
       "\t29 & 29 & [0.96723, 0.471452] & 2 \\\\\n",
       "\t30 & 30 & [0.19378, 0.941781] & 2 \\\\\n",
       "\t$\\dots$ & $\\dots$ & $\\dots$ & $\\dots$ \\\\\n",
       "\\end{tabular}\n"
      ],
      "text/plain": [
       "\u001b[1m10000000×3 DataFrame\u001b[0m\n",
       "\u001b[1m      Row \u001b[0m│\u001b[1m id       \u001b[0m\u001b[1m pos                               \u001b[0m\u001b[1m jumps \u001b[0m\n",
       "\u001b[1m          \u001b[0m│\u001b[90m Int64    \u001b[0m\u001b[90m Array…                            \u001b[0m\u001b[90m Int64 \u001b[0m\n",
       "──────────┼────────────────────────────────────────────────────\n",
       "        1 │        1  [0.727935, 0.00744801, 0.199377,…      4\n",
       "        2 │        2  [0.682533, 0.956741]                   2\n",
       "        3 │        3  [0.647855, 0.996665]                   2\n",
       "        4 │        4  [0.749194, 0.110084, 0.491383]         3\n",
       "        5 │        5  [0.565145, 0.253812, 0.626794]         3\n",
       "        6 │        6  [0.234105, 0.124792, 0.609875, 0…      4\n",
       "        7 │        7  [0.761916, 0.588872]                   2\n",
       "        8 │        8  [0.365854, 0.131026, 0.946453]         3\n",
       "        9 │        9  [0.574323, 0.67765]                    2\n",
       "       10 │       10  [0.571586, 0.0727161, 0.701116]        3\n",
       "       11 │       11  [0.0952175, 0.845515, 0.348995]        3\n",
       "    ⋮     │    ⋮                      ⋮                    ⋮\n",
       "  9999991 │  9999991  [0.382258, 0.901623]                   2\n",
       "  9999992 │  9999992  [0.640595, 0.916399]                   2\n",
       "  9999993 │  9999993  [0.963508, 0.301685]                   2\n",
       "  9999994 │  9999994  [0.846778, 0.328575]                   2\n",
       "  9999995 │  9999995  [0.251749, 0.28344, 0.16416, 0.6…      4\n",
       "  9999996 │  9999996  [0.383316, 0.352557, 0.470778]         3\n",
       "  9999997 │  9999997  [0.362197, 0.639499]                   2\n",
       "  9999998 │  9999998  [0.046897, 0.552855, 0.172669, 0…      5\n",
       "  9999999 │  9999999  [0.815608, 0.663247]                   2\n",
       " 10000000 │ 10000000  [0.61177, 0.5798]                      2\n",
       "\u001b[36m                                           9999979 rows omitted\u001b[0m"
      ]
     },
     "execution_count": 57,
     "metadata": {},
     "output_type": "execute_result"
    }
   ],
   "source": [
    "transform!(df, :pos => ByRow(length) => :jumps)"
   ]
  },
  {
   "cell_type": "markdown",
   "metadata": {},
   "source": [
    "Let us dissect what we have written above:\n",
    "* `transform!` adds columns to a data frame in-place\n",
    "* `:pos` is a source column\n",
    "* `ByRow(length)` tells us that we want to apply `length` function to each element for `:pos` column (without it `length` would be applied to the whole column - can you guess what would be the result?)\n",
    "* `:jumps` is the name of the column that should be created"
   ]
  },
  {
   "cell_type": "markdown",
   "metadata": {},
   "source": [
    "Now we are ready to find the average number of jumps that are made:"
   ]
  },
  {
   "cell_type": "code",
   "execution_count": 58,
   "metadata": {},
   "outputs": [
    {
     "data": {
      "text/plain": [
       "2.7183826"
      ]
     },
     "execution_count": 58,
     "metadata": {},
     "output_type": "execute_result"
    }
   ],
   "source": [
    "mean(df.jumps)"
   ]
  },
  {
   "cell_type": "markdown",
   "metadata": {},
   "source": [
    "or"
   ]
  },
  {
   "cell_type": "code",
   "execution_count": 59,
   "metadata": {},
   "outputs": [
    {
     "data": {
      "text/html": [
       "<div class=\"data-frame\"><p>1 rows × 1 columns</p><table class=\"data-frame\"><thead><tr><th></th><th>jumps_mean</th></tr><tr><th></th><th title=\"Float64\">Float64</th></tr></thead><tbody><tr><th>1</th><td>2.71838</td></tr></tbody></table></div>"
      ],
      "text/latex": [
       "\\begin{tabular}{r|c}\n",
       "\t& jumps\\_mean\\\\\n",
       "\t\\hline\n",
       "\t& Float64\\\\\n",
       "\t\\hline\n",
       "\t1 & 2.71838 \\\\\n",
       "\\end{tabular}\n"
      ],
      "text/plain": [
       "\u001b[1m1×1 DataFrame\u001b[0m\n",
       "\u001b[1m Row \u001b[0m│\u001b[1m jumps_mean \u001b[0m\n",
       "\u001b[1m     \u001b[0m│\u001b[90m Float64    \u001b[0m\n",
       "─────┼────────────\n",
       "   1 │    2.71838"
      ]
     },
     "execution_count": 59,
     "metadata": {},
     "output_type": "execute_result"
    }
   ],
   "source": [
    "combine(df, :jumps => mean)"
   ]
  },
  {
   "cell_type": "markdown",
   "metadata": {},
   "source": [
    "which happens to be very close to:"
   ]
  },
  {
   "cell_type": "code",
   "execution_count": 60,
   "metadata": {},
   "outputs": [
    {
     "data": {
      "text/plain": [
       "ℯ = 2.7182818284590..."
      ]
     },
     "execution_count": 60,
     "metadata": {},
     "output_type": "execute_result"
    }
   ],
   "source": [
    "MathConstants.e"
   ]
  },
  {
   "cell_type": "markdown",
   "metadata": {},
   "source": [
    "Let us now find a distribution of number of jumps:"
   ]
  },
  {
   "cell_type": "code",
   "execution_count": 61,
   "metadata": {},
   "outputs": [
    {
     "data": {
      "text/html": [
       "<div class=\"data-frame\"><p>10 rows × 2 columns</p><table class=\"data-frame\"><thead><tr><th></th><th>jumps</th><th>jumps_length</th></tr><tr><th></th><th title=\"Int64\">Int64</th><th title=\"Int64\">Int64</th></tr></thead><tbody><tr><th>1</th><td>2</td><td>5000265</td></tr><tr><th>2</th><td>3</td><td>3332702</td></tr><tr><th>3</th><td>4</td><td>1249879</td></tr><tr><th>4</th><td>5</td><td>333412</td></tr><tr><th>5</th><td>6</td><td>69869</td></tr><tr><th>6</th><td>7</td><td>11866</td></tr><tr><th>7</th><td>8</td><td>1754</td></tr><tr><th>8</th><td>9</td><td>227</td></tr><tr><th>9</th><td>10</td><td>23</td></tr><tr><th>10</th><td>11</td><td>3</td></tr></tbody></table></div>"
      ],
      "text/latex": [
       "\\begin{tabular}{r|cc}\n",
       "\t& jumps & jumps\\_length\\\\\n",
       "\t\\hline\n",
       "\t& Int64 & Int64\\\\\n",
       "\t\\hline\n",
       "\t1 & 2 & 5000265 \\\\\n",
       "\t2 & 3 & 3332702 \\\\\n",
       "\t3 & 4 & 1249879 \\\\\n",
       "\t4 & 5 & 333412 \\\\\n",
       "\t5 & 6 & 69869 \\\\\n",
       "\t6 & 7 & 11866 \\\\\n",
       "\t7 & 8 & 1754 \\\\\n",
       "\t8 & 9 & 227 \\\\\n",
       "\t9 & 10 & 23 \\\\\n",
       "\t10 & 11 & 3 \\\\\n",
       "\\end{tabular}\n"
      ],
      "text/plain": [
       "\u001b[1m10×2 DataFrame\u001b[0m\n",
       "\u001b[1m Row \u001b[0m│\u001b[1m jumps \u001b[0m\u001b[1m jumps_length \u001b[0m\n",
       "\u001b[1m     \u001b[0m│\u001b[90m Int64 \u001b[0m\u001b[90m Int64        \u001b[0m\n",
       "─────┼─────────────────────\n",
       "   1 │     2       5000265\n",
       "   2 │     3       3332702\n",
       "   3 │     4       1249879\n",
       "   4 │     5        333412\n",
       "   5 │     6         69869\n",
       "   6 │     7         11866\n",
       "   7 │     8          1754\n",
       "   8 │     9           227\n",
       "   9 │    10            23\n",
       "  10 │    11             3"
      ]
     },
     "execution_count": 61,
     "metadata": {},
     "output_type": "execute_result"
    }
   ],
   "source": [
    "jumps_agg = @pipe df |>\n",
    "                  groupby(_, :jumps, sort=true) |>\n",
    "                  combine(_, :jumps => length)"
   ]
  },
  {
   "cell_type": "markdown",
   "metadata": {},
   "source": [
    "and normalize it as a fraction (and at the same time calculate some theoretical result that we have *guessed* :)):"
   ]
  },
  {
   "cell_type": "code",
   "execution_count": 62,
   "metadata": {},
   "outputs": [
    {
     "data": {
      "text/html": [
       "<div class=\"data-frame\"><p>10 rows × 4 columns</p><table class=\"data-frame\"><thead><tr><th></th><th>jumps</th><th>jumps_length</th><th>simulation</th><th>theory</th></tr><tr><th></th><th title=\"Int64\">Int64</th><th title=\"Int64\">Int64</th><th title=\"Float64\">Float64</th><th title=\"Float64\">Float64</th></tr></thead><tbody><tr><th>1</th><td>2</td><td>5000265</td><td>0.500027</td><td>0.5</td></tr><tr><th>2</th><td>3</td><td>3332702</td><td>0.33327</td><td>0.333333</td></tr><tr><th>3</th><td>4</td><td>1249879</td><td>0.124988</td><td>0.125</td></tr><tr><th>4</th><td>5</td><td>333412</td><td>0.0333412</td><td>0.0333333</td></tr><tr><th>5</th><td>6</td><td>69869</td><td>0.0069869</td><td>0.00694444</td></tr><tr><th>6</th><td>7</td><td>11866</td><td>0.0011866</td><td>0.00119048</td></tr><tr><th>7</th><td>8</td><td>1754</td><td>0.0001754</td><td>0.000173611</td></tr><tr><th>8</th><td>9</td><td>227</td><td>2.27e-5</td><td>2.20459e-5</td></tr><tr><th>9</th><td>10</td><td>23</td><td>2.3e-6</td><td>2.48016e-6</td></tr><tr><th>10</th><td>11</td><td>3</td><td>3.0e-7</td><td>2.50521e-7</td></tr></tbody></table></div>"
      ],
      "text/latex": [
       "\\begin{tabular}{r|cccc}\n",
       "\t& jumps & jumps\\_length & simulation & theory\\\\\n",
       "\t\\hline\n",
       "\t& Int64 & Int64 & Float64 & Float64\\\\\n",
       "\t\\hline\n",
       "\t1 & 2 & 5000265 & 0.500027 & 0.5 \\\\\n",
       "\t2 & 3 & 3332702 & 0.33327 & 0.333333 \\\\\n",
       "\t3 & 4 & 1249879 & 0.124988 & 0.125 \\\\\n",
       "\t4 & 5 & 333412 & 0.0333412 & 0.0333333 \\\\\n",
       "\t5 & 6 & 69869 & 0.0069869 & 0.00694444 \\\\\n",
       "\t6 & 7 & 11866 & 0.0011866 & 0.00119048 \\\\\n",
       "\t7 & 8 & 1754 & 0.0001754 & 0.000173611 \\\\\n",
       "\t8 & 9 & 227 & 2.27e-5 & 2.20459e-5 \\\\\n",
       "\t9 & 10 & 23 & 2.3e-6 & 2.48016e-6 \\\\\n",
       "\t10 & 11 & 3 & 3.0e-7 & 2.50521e-7 \\\\\n",
       "\\end{tabular}\n"
      ],
      "text/plain": [
       "\u001b[1m10×4 DataFrame\u001b[0m\n",
       "\u001b[1m Row \u001b[0m│\u001b[1m jumps \u001b[0m\u001b[1m jumps_length \u001b[0m\u001b[1m simulation \u001b[0m\u001b[1m theory      \u001b[0m\n",
       "\u001b[1m     \u001b[0m│\u001b[90m Int64 \u001b[0m\u001b[90m Int64        \u001b[0m\u001b[90m Float64    \u001b[0m\u001b[90m Float64     \u001b[0m\n",
       "─────┼──────────────────────────────────────────────\n",
       "   1 │     2       5000265   0.500027   0.5\n",
       "   2 │     3       3332702   0.33327    0.333333\n",
       "   3 │     4       1249879   0.124988   0.125\n",
       "   4 │     5        333412   0.0333412  0.0333333\n",
       "   5 │     6         69869   0.0069869  0.00694444\n",
       "   6 │     7         11866   0.0011866  0.00119048\n",
       "   7 │     8          1754   0.0001754  0.000173611\n",
       "   8 │     9           227   2.27e-5    2.20459e-5\n",
       "   9 │    10            23   2.3e-6     2.48016e-6\n",
       "  10 │    11             3   3.0e-7     2.50521e-7"
      ]
     },
     "execution_count": 62,
     "metadata": {},
     "output_type": "execute_result"
    }
   ],
   "source": [
    "transform!(jumps_agg,\n",
    "           :jumps_length => (x -> x ./ sum(x)) => :simulation,\n",
    "           :jumps => ByRow(x -> (x-1) / factorial(x)) => :theory)"
   ]
  },
  {
   "cell_type": "markdown",
   "metadata": {},
   "source": [
    "Let us briefly justify how we have guessed it (you can safely skip the derivation):\n",
    "\n",
    "Formula\n",
    "$$\n",
    "p_n = \\frac{n-1}{n!}\n",
    "$$\n",
    "\n",
    "$$\n",
    "\\sum_{n=2}^{+\\infty}p_n=\\sum_{n=2}^{+\\infty} \\frac{n-1}{n!} = \\sum_{n=1}^{+\\infty} \\frac{1}{n!} - \\sum_{n=2}^{+\\infty} \\frac{1}{n!} = 1\n",
    "$$\n",
    "\n",
    "$$\n",
    "\\sum_{n=2}^{+\\infty}n\\cdot p_n=\\sum_{n=2}^{+\\infty} n\\frac{n-1}{n!} = \\sum_{n=2}^{+\\infty} \\frac{1}{(n-2)!} = e\n",
    "$$\n",
    "\n",
    "Now we note that:\n",
    "\n",
    "$$\n",
    "1-\\sum_{n=2}^k p_n = \\frac{1}{k!}\n",
    "$$\n",
    "which can be most easily justified by a geometric argument."
   ]
  },
  {
   "cell_type": "markdown",
   "metadata": {},
   "source": [
    "To finish this section of the tutorial let us check if random numbers generated using `rand()` were indeed $U(0,1)$."
   ]
  },
  {
   "cell_type": "markdown",
   "metadata": {},
   "source": [
    "To do this we will add some columns to `df` data frame."
   ]
  },
  {
   "cell_type": "code",
   "execution_count": 63,
   "metadata": {
    "scrolled": true
   },
   "outputs": [
    {
     "data": {
      "text/html": [
       "<div class=\"data-frame\"><p>10,000,000 rows × 3 columns</p><table class=\"data-frame\"><thead><tr><th></th><th>id</th><th>pos</th><th>jumps</th></tr><tr><th></th><th title=\"Int64\">Int64</th><th title=\"Vector{Float64}\">Array…</th><th title=\"Int64\">Int64</th></tr></thead><tbody><tr><th>1</th><td>1</td><td>[0.727935, 0.00744801, 0.199377, 0.439243]</td><td>4</td></tr><tr><th>2</th><td>2</td><td>[0.682533, 0.956741]</td><td>2</td></tr><tr><th>3</th><td>3</td><td>[0.647855, 0.996665]</td><td>2</td></tr><tr><th>4</th><td>4</td><td>[0.749194, 0.110084, 0.491383]</td><td>3</td></tr><tr><th>5</th><td>5</td><td>[0.565145, 0.253812, 0.626794]</td><td>3</td></tr><tr><th>6</th><td>6</td><td>[0.234105, 0.124792, 0.609875, 0.672793]</td><td>4</td></tr><tr><th>7</th><td>7</td><td>[0.761916, 0.588872]</td><td>2</td></tr><tr><th>8</th><td>8</td><td>[0.365854, 0.131026, 0.946453]</td><td>3</td></tr><tr><th>9</th><td>9</td><td>[0.574323, 0.67765]</td><td>2</td></tr><tr><th>10</th><td>10</td><td>[0.571586, 0.0727161, 0.701116]</td><td>3</td></tr><tr><th>11</th><td>11</td><td>[0.0952175, 0.845515, 0.348995]</td><td>3</td></tr><tr><th>12</th><td>12</td><td>[0.768308, 0.26906]</td><td>2</td></tr><tr><th>13</th><td>13</td><td>[0.539631, 0.293905, 0.242195]</td><td>3</td></tr><tr><th>14</th><td>14</td><td>[0.97807, 0.853242]</td><td>2</td></tr><tr><th>15</th><td>15</td><td>[0.706065, 0.442139]</td><td>2</td></tr><tr><th>16</th><td>16</td><td>[0.884577, 0.520741]</td><td>2</td></tr><tr><th>17</th><td>17</td><td>[0.941831, 0.810699]</td><td>2</td></tr><tr><th>18</th><td>18</td><td>[0.464849, 0.977012]</td><td>2</td></tr><tr><th>19</th><td>19</td><td>[0.500161, 0.715846]</td><td>2</td></tr><tr><th>20</th><td>20</td><td>[0.18985, 0.376441, 0.565864]</td><td>3</td></tr><tr><th>21</th><td>21</td><td>[0.172236, 0.327351, 0.632108]</td><td>3</td></tr><tr><th>22</th><td>22</td><td>[0.374141, 0.728543]</td><td>2</td></tr><tr><th>23</th><td>23</td><td>[0.00277646, 0.134685, 0.531899, 0.0731709, 0.501756]</td><td>5</td></tr><tr><th>24</th><td>24</td><td>[0.906939, 0.116769]</td><td>2</td></tr><tr><th>25</th><td>25</td><td>[0.367198, 0.881163]</td><td>2</td></tr><tr><th>26</th><td>26</td><td>[0.67189, 0.479862]</td><td>2</td></tr><tr><th>27</th><td>27</td><td>[0.949968, 0.0262331, 0.347189]</td><td>3</td></tr><tr><th>28</th><td>28</td><td>[0.819254, 0.792831]</td><td>2</td></tr><tr><th>29</th><td>29</td><td>[0.96723, 0.471452]</td><td>2</td></tr><tr><th>30</th><td>30</td><td>[0.19378, 0.941781]</td><td>2</td></tr><tr><th>&vellip;</th><td>&vellip;</td><td>&vellip;</td><td>&vellip;</td></tr></tbody></table></div>"
      ],
      "text/latex": [
       "\\begin{tabular}{r|ccc}\n",
       "\t& id & pos & jumps\\\\\n",
       "\t\\hline\n",
       "\t& Int64 & Array… & Int64\\\\\n",
       "\t\\hline\n",
       "\t1 & 1 & [0.727935, 0.00744801, 0.199377, 0.439243] & 4 \\\\\n",
       "\t2 & 2 & [0.682533, 0.956741] & 2 \\\\\n",
       "\t3 & 3 & [0.647855, 0.996665] & 2 \\\\\n",
       "\t4 & 4 & [0.749194, 0.110084, 0.491383] & 3 \\\\\n",
       "\t5 & 5 & [0.565145, 0.253812, 0.626794] & 3 \\\\\n",
       "\t6 & 6 & [0.234105, 0.124792, 0.609875, 0.672793] & 4 \\\\\n",
       "\t7 & 7 & [0.761916, 0.588872] & 2 \\\\\n",
       "\t8 & 8 & [0.365854, 0.131026, 0.946453] & 3 \\\\\n",
       "\t9 & 9 & [0.574323, 0.67765] & 2 \\\\\n",
       "\t10 & 10 & [0.571586, 0.0727161, 0.701116] & 3 \\\\\n",
       "\t11 & 11 & [0.0952175, 0.845515, 0.348995] & 3 \\\\\n",
       "\t12 & 12 & [0.768308, 0.26906] & 2 \\\\\n",
       "\t13 & 13 & [0.539631, 0.293905, 0.242195] & 3 \\\\\n",
       "\t14 & 14 & [0.97807, 0.853242] & 2 \\\\\n",
       "\t15 & 15 & [0.706065, 0.442139] & 2 \\\\\n",
       "\t16 & 16 & [0.884577, 0.520741] & 2 \\\\\n",
       "\t17 & 17 & [0.941831, 0.810699] & 2 \\\\\n",
       "\t18 & 18 & [0.464849, 0.977012] & 2 \\\\\n",
       "\t19 & 19 & [0.500161, 0.715846] & 2 \\\\\n",
       "\t20 & 20 & [0.18985, 0.376441, 0.565864] & 3 \\\\\n",
       "\t21 & 21 & [0.172236, 0.327351, 0.632108] & 3 \\\\\n",
       "\t22 & 22 & [0.374141, 0.728543] & 2 \\\\\n",
       "\t23 & 23 & [0.00277646, 0.134685, 0.531899, 0.0731709, 0.501756] & 5 \\\\\n",
       "\t24 & 24 & [0.906939, 0.116769] & 2 \\\\\n",
       "\t25 & 25 & [0.367198, 0.881163] & 2 \\\\\n",
       "\t26 & 26 & [0.67189, 0.479862] & 2 \\\\\n",
       "\t27 & 27 & [0.949968, 0.0262331, 0.347189] & 3 \\\\\n",
       "\t28 & 28 & [0.819254, 0.792831] & 2 \\\\\n",
       "\t29 & 29 & [0.96723, 0.471452] & 2 \\\\\n",
       "\t30 & 30 & [0.19378, 0.941781] & 2 \\\\\n",
       "\t$\\dots$ & $\\dots$ & $\\dots$ & $\\dots$ \\\\\n",
       "\\end{tabular}\n"
      ],
      "text/plain": [
       "\u001b[1m10000000×3 DataFrame\u001b[0m\n",
       "\u001b[1m      Row \u001b[0m│\u001b[1m id       \u001b[0m\u001b[1m pos                               \u001b[0m\u001b[1m jumps \u001b[0m\n",
       "\u001b[1m          \u001b[0m│\u001b[90m Int64    \u001b[0m\u001b[90m Array…                            \u001b[0m\u001b[90m Int64 \u001b[0m\n",
       "──────────┼────────────────────────────────────────────────────\n",
       "        1 │        1  [0.727935, 0.00744801, 0.199377,…      4\n",
       "        2 │        2  [0.682533, 0.956741]                   2\n",
       "        3 │        3  [0.647855, 0.996665]                   2\n",
       "        4 │        4  [0.749194, 0.110084, 0.491383]         3\n",
       "        5 │        5  [0.565145, 0.253812, 0.626794]         3\n",
       "        6 │        6  [0.234105, 0.124792, 0.609875, 0…      4\n",
       "        7 │        7  [0.761916, 0.588872]                   2\n",
       "        8 │        8  [0.365854, 0.131026, 0.946453]         3\n",
       "        9 │        9  [0.574323, 0.67765]                    2\n",
       "       10 │       10  [0.571586, 0.0727161, 0.701116]        3\n",
       "       11 │       11  [0.0952175, 0.845515, 0.348995]        3\n",
       "    ⋮     │    ⋮                      ⋮                    ⋮\n",
       "  9999991 │  9999991  [0.382258, 0.901623]                   2\n",
       "  9999992 │  9999992  [0.640595, 0.916399]                   2\n",
       "  9999993 │  9999993  [0.963508, 0.301685]                   2\n",
       "  9999994 │  9999994  [0.846778, 0.328575]                   2\n",
       "  9999995 │  9999995  [0.251749, 0.28344, 0.16416, 0.6…      4\n",
       "  9999996 │  9999996  [0.383316, 0.352557, 0.470778]         3\n",
       "  9999997 │  9999997  [0.362197, 0.639499]                   2\n",
       "  9999998 │  9999998  [0.046897, 0.552855, 0.172669, 0…      5\n",
       "  9999999 │  9999999  [0.815608, 0.663247]                   2\n",
       " 10000000 │ 10000000  [0.61177, 0.5798]                      2\n",
       "\u001b[36m                                           9999979 rows omitted\u001b[0m"
      ]
     },
     "execution_count": 63,
     "metadata": {},
     "output_type": "execute_result"
    }
   ],
   "source": [
    "df"
   ]
  },
  {
   "cell_type": "code",
   "execution_count": 64,
   "metadata": {},
   "outputs": [
    {
     "data": {
      "text/html": [
       "<div class=\"data-frame\"><p>10,000,000 rows × 2 columns</p><table class=\"data-frame\"><thead><tr><th></th><th>first</th><th>last</th></tr><tr><th></th><th title=\"Float64\">Float64</th><th title=\"Float64\">Float64</th></tr></thead><tbody><tr><th>1</th><td>0.727935</td><td>0.439243</td></tr><tr><th>2</th><td>0.682533</td><td>0.956741</td></tr><tr><th>3</th><td>0.647855</td><td>0.996665</td></tr><tr><th>4</th><td>0.749194</td><td>0.491383</td></tr><tr><th>5</th><td>0.565145</td><td>0.626794</td></tr><tr><th>6</th><td>0.234105</td><td>0.672793</td></tr><tr><th>7</th><td>0.761916</td><td>0.588872</td></tr><tr><th>8</th><td>0.365854</td><td>0.946453</td></tr><tr><th>9</th><td>0.574323</td><td>0.67765</td></tr><tr><th>10</th><td>0.571586</td><td>0.701116</td></tr><tr><th>11</th><td>0.0952175</td><td>0.348995</td></tr><tr><th>12</th><td>0.768308</td><td>0.26906</td></tr><tr><th>13</th><td>0.539631</td><td>0.242195</td></tr><tr><th>14</th><td>0.97807</td><td>0.853242</td></tr><tr><th>15</th><td>0.706065</td><td>0.442139</td></tr><tr><th>16</th><td>0.884577</td><td>0.520741</td></tr><tr><th>17</th><td>0.941831</td><td>0.810699</td></tr><tr><th>18</th><td>0.464849</td><td>0.977012</td></tr><tr><th>19</th><td>0.500161</td><td>0.715846</td></tr><tr><th>20</th><td>0.18985</td><td>0.565864</td></tr><tr><th>21</th><td>0.172236</td><td>0.632108</td></tr><tr><th>22</th><td>0.374141</td><td>0.728543</td></tr><tr><th>23</th><td>0.00277646</td><td>0.501756</td></tr><tr><th>24</th><td>0.906939</td><td>0.116769</td></tr><tr><th>25</th><td>0.367198</td><td>0.881163</td></tr><tr><th>26</th><td>0.67189</td><td>0.479862</td></tr><tr><th>27</th><td>0.949968</td><td>0.347189</td></tr><tr><th>28</th><td>0.819254</td><td>0.792831</td></tr><tr><th>29</th><td>0.96723</td><td>0.471452</td></tr><tr><th>30</th><td>0.19378</td><td>0.941781</td></tr><tr><th>&vellip;</th><td>&vellip;</td><td>&vellip;</td></tr></tbody></table></div>"
      ],
      "text/latex": [
       "\\begin{tabular}{r|cc}\n",
       "\t& first & last\\\\\n",
       "\t\\hline\n",
       "\t& Float64 & Float64\\\\\n",
       "\t\\hline\n",
       "\t1 & 0.727935 & 0.439243 \\\\\n",
       "\t2 & 0.682533 & 0.956741 \\\\\n",
       "\t3 & 0.647855 & 0.996665 \\\\\n",
       "\t4 & 0.749194 & 0.491383 \\\\\n",
       "\t5 & 0.565145 & 0.626794 \\\\\n",
       "\t6 & 0.234105 & 0.672793 \\\\\n",
       "\t7 & 0.761916 & 0.588872 \\\\\n",
       "\t8 & 0.365854 & 0.946453 \\\\\n",
       "\t9 & 0.574323 & 0.67765 \\\\\n",
       "\t10 & 0.571586 & 0.701116 \\\\\n",
       "\t11 & 0.0952175 & 0.348995 \\\\\n",
       "\t12 & 0.768308 & 0.26906 \\\\\n",
       "\t13 & 0.539631 & 0.242195 \\\\\n",
       "\t14 & 0.97807 & 0.853242 \\\\\n",
       "\t15 & 0.706065 & 0.442139 \\\\\n",
       "\t16 & 0.884577 & 0.520741 \\\\\n",
       "\t17 & 0.941831 & 0.810699 \\\\\n",
       "\t18 & 0.464849 & 0.977012 \\\\\n",
       "\t19 & 0.500161 & 0.715846 \\\\\n",
       "\t20 & 0.18985 & 0.565864 \\\\\n",
       "\t21 & 0.172236 & 0.632108 \\\\\n",
       "\t22 & 0.374141 & 0.728543 \\\\\n",
       "\t23 & 0.00277646 & 0.501756 \\\\\n",
       "\t24 & 0.906939 & 0.116769 \\\\\n",
       "\t25 & 0.367198 & 0.881163 \\\\\n",
       "\t26 & 0.67189 & 0.479862 \\\\\n",
       "\t27 & 0.949968 & 0.347189 \\\\\n",
       "\t28 & 0.819254 & 0.792831 \\\\\n",
       "\t29 & 0.96723 & 0.471452 \\\\\n",
       "\t30 & 0.19378 & 0.941781 \\\\\n",
       "\t$\\dots$ & $\\dots$ & $\\dots$ \\\\\n",
       "\\end{tabular}\n"
      ],
      "text/plain": [
       "\u001b[1m10000000×2 DataFrame\u001b[0m\n",
       "\u001b[1m      Row \u001b[0m│\u001b[1m first     \u001b[0m\u001b[1m last     \u001b[0m\n",
       "\u001b[1m          \u001b[0m│\u001b[90m Float64   \u001b[0m\u001b[90m Float64  \u001b[0m\n",
       "──────────┼─────────────────────\n",
       "        1 │ 0.727935   0.439243\n",
       "        2 │ 0.682533   0.956741\n",
       "        3 │ 0.647855   0.996665\n",
       "        4 │ 0.749194   0.491383\n",
       "        5 │ 0.565145   0.626794\n",
       "        6 │ 0.234105   0.672793\n",
       "        7 │ 0.761916   0.588872\n",
       "        8 │ 0.365854   0.946453\n",
       "        9 │ 0.574323   0.67765\n",
       "       10 │ 0.571586   0.701116\n",
       "       11 │ 0.0952175  0.348995\n",
       "    ⋮     │     ⋮         ⋮\n",
       "  9999991 │ 0.382258   0.901623\n",
       "  9999992 │ 0.640595   0.916399\n",
       "  9999993 │ 0.963508   0.301685\n",
       "  9999994 │ 0.846778   0.328575\n",
       "  9999995 │ 0.251749   0.618446\n",
       "  9999996 │ 0.383316   0.470778\n",
       "  9999997 │ 0.362197   0.639499\n",
       "  9999998 │ 0.046897   0.799254\n",
       "  9999999 │ 0.815608   0.663247\n",
       " 10000000 │ 0.61177    0.5798\n",
       "\u001b[36m            9999979 rows omitted\u001b[0m"
      ]
     },
     "execution_count": 64,
     "metadata": {},
     "output_type": "execute_result"
    }
   ],
   "source": [
    "df_test = select(df, :pos => ByRow(first) => :first, :pos => ByRow(last) => :last)"
   ]
  },
  {
   "cell_type": "code",
   "execution_count": 65,
   "metadata": {},
   "outputs": [
    {
     "data": {
      "image/png": "[encoded data removed]",
      "text/plain": [
       "Figure(PyObject <Figure size 640x480 with 1 Axes>)"
      ]
     },
     "metadata": {},
     "output_type": "display_data"
    },
    {
     "name": "stderr",
     "output_type": "stream",
     "text": [
      "┌ Warning: `vendor()` is deprecated, use `BLAS.get_config()` and inspect the output instead\n",
      "│   caller = npyinitialize() at numpy.jl:67\n",
      "└ @ PyCall /Users/okara/.julia/packages/PyCall/L0fLP/src/numpy.jl:67\n"
     ]
    }
   ],
   "source": [
    "hist(df_test.first, 100);"
   ]
  },
  {
   "cell_type": "markdown",
   "metadata": {},
   "source": [
    "So far all looks good. But let us look at the distribution of the last dawn random number:"
   ]
  },
  {
   "cell_type": "code",
   "execution_count": 66,
   "metadata": {},
   "outputs": [
    {
     "data": {
      "image/png": "[encoded data removed]",
      "text/plain": [
       "Figure(PyObject <Figure size 640x480 with 1 Axes>)"
      ]
     },
     "metadata": {},
     "output_type": "display_data"
    }
   ],
   "source": [
    "hist(df_test.last, 100);"
   ]
  },
  {
   "cell_type": "markdown",
   "metadata": {},
   "source": [
    "So - is the `rand()` function broken for the last generated random number in each sequence or something else has made the distribution stop being uniform?"
   ]
  },
  {
   "cell_type": "code",
   "execution_count": null,
   "metadata": {},
   "outputs": [],
   "source": []
  },
  {
   "cell_type": "code",
   "execution_count": null,
   "metadata": {},
   "outputs": [],
   "source": []
  },
  {
   "cell_type": "code",
   "execution_count": null,
   "metadata": {},
   "outputs": [],
   "source": []
  },
  {
   "cell_type": "code",
   "execution_count": null,
   "metadata": {},
   "outputs": [],
   "source": []
  },
  {
   "cell_type": "code",
   "execution_count": null,
   "metadata": {},
   "outputs": [],
   "source": []
  },
  {
   "cell_type": "code",
   "execution_count": null,
   "metadata": {},
   "outputs": [],
   "source": []
  }
 ],
 "metadata": {
  "kernelspec": {
   "display_name": "Julia 1.7.2",
   "language": "julia",
   "name": "julia-1.7"
  },
  "language_info": {
   "file_extension": ".jl",
   "mimetype": "application/julia",
   "name": "julia",
   "version": "1.7.2"
  }
 },
 "nbformat": 4,
 "nbformat_minor": 4
}
