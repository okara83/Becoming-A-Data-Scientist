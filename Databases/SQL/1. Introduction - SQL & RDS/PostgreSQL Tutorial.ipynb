{
 "cells": [
  {
   "cell_type": "markdown",
   "metadata": {
    "colab_type": "text",
    "id": "zNrLGnya0ErB"
   },
   "source": [
    "# PostgreSQL Tutorial - AWS RDS + Local pgAdmin Tool"
   ]
  },
  {
   "cell_type": "code",
   "execution_count": 1,
   "metadata": {
    "colab": {},
    "colab_type": "code",
    "id": "nn2oU1Mj0ErD"
   },
   "outputs": [],
   "source": [
    "import psycopg2"
   ]
  },
  {
   "cell_type": "markdown",
   "metadata": {
    "colab_type": "text",
    "id": "OYGQ4RK10ErI"
   },
   "source": [
    "# Connecting to the Database"
   ]
  },
  {
   "cell_type": "code",
   "execution_count": 2,
   "metadata": {
    "colab": {},
    "colab_type": "code",
    "id": "WDiIO2Ua0ErI"
   },
   "outputs": [],
   "source": [
    "def connect_to_db(database, hostname, port, userid, passwrd):\n",
    "    conn_string = \"host=\"+hostname+\" port=\"+port+\" dbname=\"+database+\" user=\"+userid+\" password=\"+passwrd\n",
    "    # connect to the database with the connection string\n",
    "    conn=psycopg2.connect(conn_string)\n",
    "    # commits all queries you execute\n",
    "    conn.autocommit = True\n",
    "    cursor = conn.cursor()\n",
    "    return conn, cursor"
   ]
  },
  {
   "cell_type": "code",
   "execution_count": 3,
   "metadata": {
    "colab": {},
    "colab_type": "code",
    "id": "B-eKEn5h0ErM"
   },
   "outputs": [],
   "source": [
    "conn, cursor = connect_to_db(\n",
    "    database=\"mytestdata\", #this is what you'll see referred to as 'Maintainence Database' on the pgAdmin tool \n",
    "    # and as \"DB name\" on aws  \n",
    "    hostname=\"database-8.cr1xhoidqnwh.us-east-1.rds.amazonaws.com\", \n",
    "    port=\"5432\", \n",
    "    userid=\"postgres\", # this is referred to as  to as 'username ' on the pgAdmin tool and as 'Master Username' on aws when creating the database instance\n",
    "    passwrd=\"password\")"
   ]
  },
  {
   "cell_type": "markdown",
   "metadata": {
    "colab_type": "text",
    "id": "G-yugTdQ0ErP"
   },
   "source": [
    "# Table Functions"
   ]
  },
  {
   "cell_type": "code",
   "execution_count": 51,
   "metadata": {
    "colab": {},
    "colab_type": "code",
    "id": "-Qg4Mln70ErQ"
   },
   "outputs": [],
   "source": [
    "# Creating a table\n",
    "# create table table_name(val type, val type...)\n",
    "sqlStatement = 'CREATE TABLE test_table (uid INT, name TEXT, adress TEXT, joining_date DATE);'\n",
    "cursor.execute(sqlStatement)"
   ]
  },
  {
   "cell_type": "code",
   "execution_count": 32,
   "metadata": {
    "colab": {},
    "colab_type": "code",
    "id": "le__RGuF0ErT"
   },
   "outputs": [],
   "source": [
    "# Inserting Values into the Table\n",
    "# \"INSERT INTO a_table (c1, c2, c3) VALUES(%s, %s, %s)\", (v1, v2, v3)\n",
    "sqlStatement = \"INSERT INTO test_table (uid, name, adress, joining_date) VALUES (30801, 'Sear', 'NYC', '2020-01-15');\"\n",
    "cursor.execute(sqlStatement)"
   ]
  },
  {
   "cell_type": "code",
   "execution_count": 38,
   "metadata": {
    "colab": {},
    "colab_type": "code",
    "id": "KSQiLfH60ErW"
   },
   "outputs": [],
   "source": [
    "# Get rows from the table\n",
    "sqlStatement = 'SELECT * FROM test_table';\n",
    "cursor.execute(sqlStatement)"
   ]
  },
  {
   "cell_type": "code",
   "execution_count": 39,
   "metadata": {
    "colab": {},
    "colab_type": "code",
    "id": "m11iCjF60ErZ",
    "outputId": "8e26f3fd-731b-4c83-ecae-b8ada41d3b0a"
   },
   "outputs": [
    {
     "data": {
      "text/plain": [
       "[(30801, 'Sear', 'NYC', datetime.date(2020, 1, 15))]"
      ]
     },
     "execution_count": 39,
     "metadata": {},
     "output_type": "execute_result"
    }
   ],
   "source": [
    "rows = cursor.fetchall();\n",
    "rows"
   ]
  },
  {
   "cell_type": "code",
   "execution_count": 40,
   "metadata": {},
   "outputs": [],
   "source": [
    "sqlStatement = \"INSERT INTO test_table (uid, name, adress, joining_date) VALUES (30806, 'Dear', 'Staten Island', '2020-01-17');\"\n",
    "cursor.execute(sqlStatement)\n",
    "sqlStatement = \"INSERT INTO test_table (uid, name, adress, joining_date) VALUES (30809, 'Lear', 'Staten Island', '2021-01-11');\"\n",
    "cursor.execute(sqlStatement)\n",
    "sqlStatement = \"INSERT INTO test_table (uid, name, adress, joining_date) VALUES (30803, 'Fear', 'Miami', '2020-03-17');\"\n",
    "cursor.execute(sqlStatement)"
   ]
  },
  {
   "cell_type": "code",
   "execution_count": 41,
   "metadata": {},
   "outputs": [],
   "source": [
    "sqlStatement = 'Select * from test_table';\n",
    "cursor.execute(sqlStatement)"
   ]
  },
  {
   "cell_type": "code",
   "execution_count": 42,
   "metadata": {},
   "outputs": [
    {
     "data": {
      "text/plain": [
       "[(30801, 'Sear', 'NYC', datetime.date(2020, 1, 15)),\n",
       " (30806, 'Dear', 'Staten Island', datetime.date(2020, 1, 17)),\n",
       " (30809, 'Lear', 'Staten Island', datetime.date(2021, 1, 11)),\n",
       " (30803, 'Fear', 'Miami', datetime.date(2020, 3, 17))]"
      ]
     },
     "execution_count": 42,
     "metadata": {},
     "output_type": "execute_result"
    }
   ],
   "source": [
    "rows = cursor.fetchall();\n",
    "rows"
   ]
  },
  {
   "cell_type": "code",
   "execution_count": 43,
   "metadata": {
    "colab": {},
    "colab_type": "code",
    "id": "CoxQQ06a0Erc",
    "outputId": "e4d9c41c-ac7e-4a8a-a5be-1d0952e33d12"
   },
   "outputs": [
    {
     "data": {
      "text/plain": [
       "[(30801, 'Sear', 'NYC', datetime.date(2020, 1, 15))]"
      ]
     },
     "execution_count": 43,
     "metadata": {},
     "output_type": "execute_result"
    }
   ],
   "source": [
    "sqlStatement = \"SELECT * FROM test_table WHERE adress = 'NYC'\";\n",
    "cursor.execute(sqlStatement)\n",
    "rows = cursor.fetchall();\n",
    "rows"
   ]
  },
  {
   "cell_type": "code",
   "execution_count": 44,
   "metadata": {
    "colab": {},
    "colab_type": "code",
    "id": "WdgmluID0Ere"
   },
   "outputs": [
    {
     "data": {
      "text/plain": [
       "[(30801, 'Sear', 'NYC', datetime.date(2020, 1, 15)),\n",
       " (30806, 'Dear', 'Staten Island', datetime.date(2020, 1, 17)),\n",
       " (30809, 'Lear', 'Staten Island', datetime.date(2021, 1, 11))]"
      ]
     },
     "execution_count": 44,
     "metadata": {},
     "output_type": "execute_result"
    }
   ],
   "source": [
    "sqlStatement = \"Select * FROM test_table WHERE adress IN ('NYC','Staten Island')\";\n",
    "cursor.execute(sqlStatement)\n",
    "rows = cursor.fetchall();\n",
    "rows"
   ]
  },
  {
   "cell_type": "code",
   "execution_count": 45,
   "metadata": {},
   "outputs": [],
   "source": [
    "sqlStatement = \"DELETE FROM test_table WHERE adress = 'Staten Island'\"\n",
    "cursor.execute(sqlStatement)"
   ]
  },
  {
   "cell_type": "code",
   "execution_count": 48,
   "metadata": {},
   "outputs": [
    {
     "data": {
      "text/plain": [
       "[(30801, 'Sear', 'NYC', datetime.date(2020, 1, 15)),\n",
       " (30803, 'Fear', 'Miami', datetime.date(2020, 3, 17))]"
      ]
     },
     "execution_count": 48,
     "metadata": {},
     "output_type": "execute_result"
    }
   ],
   "source": [
    "sqlStatement = \"SELECT * FROM test_table\";\n",
    "cursor.execute(sqlStatement)\n",
    "rows = cursor.fetchall();\n",
    "rows"
   ]
  },
  {
   "cell_type": "code",
   "execution_count": 49,
   "metadata": {},
   "outputs": [],
   "source": [
    "sqlStatement = \"INSERT INTO test_table (uid, name, adress, joining_date) VALUES (30806, 'Dear', 'Staten Island', '2020-01-17');\"\n",
    "cursor.execute(sqlStatement)\n",
    "sqlStatement = \"INSERT INTO test_table (uid, name, adress, joining_date) VALUES (30809, 'Lear', 'Staten Island', '2021-01-11');\"\n",
    "cursor.execute(sqlStatement)\n",
    "sqlStatement = \"INSERT INTO test_table (uid, name, adress, joining_date) VALUES (30844, 'Fear', 'Miami', '2022-01-17');\"\n",
    "cursor.execute(sqlStatement)"
   ]
  },
  {
   "cell_type": "code",
   "execution_count": 4,
   "metadata": {},
   "outputs": [
    {
     "data": {
      "text/plain": [
       "[(30801, 'Sear', 'NYC', datetime.date(2020, 1, 15)),\n",
       " (30803, 'Fear', 'Miami', datetime.date(2020, 3, 17)),\n",
       " (30806, 'Dear', 'Staten Island', datetime.date(2020, 1, 17)),\n",
       " (30809, 'Lear', 'Staten Island', datetime.date(2021, 1, 11)),\n",
       " (30844, 'Fear', 'Miami', datetime.date(2022, 1, 17)),\n",
       " (30806, 'Dear', 'Queens', datetime.date(2022, 1, 17))]"
      ]
     },
     "execution_count": 4,
     "metadata": {},
     "output_type": "execute_result"
    }
   ],
   "source": [
    "sqlStatement = \"SELECT * FROM test_table\";\n",
    "cursor.execute(sqlStatement)\n",
    "rows = cursor.fetchall();\n",
    "rows"
   ]
  },
  {
   "cell_type": "code",
   "execution_count": null,
   "metadata": {},
   "outputs": [],
   "source": []
  }
 ],
 "metadata": {
  "colab": {
   "name": "postgres_tutorial.ipynb",
   "provenance": []
  },
  "kernelspec": {
   "display_name": "Python 3 (ipykernel)",
   "language": "python",
   "name": "python3"
  },
  "language_info": {
   "codemirror_mode": {
    "name": "ipython",
    "version": 3
   },
   "file_extension": ".py",
   "mimetype": "text/x-python",
   "name": "python",
   "nbconvert_exporter": "python",
   "pygments_lexer": "ipython3",
   "version": "3.9.10"
  }
 },
 "nbformat": 4,
 "nbformat_minor": 1
}
