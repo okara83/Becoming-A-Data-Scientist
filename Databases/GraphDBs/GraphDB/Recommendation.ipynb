{
 "cells": [
  {
   "cell_type": "markdown",
   "metadata": {},
   "source": [
    "# Recommendation System with Graphs\n",
    "\n",
    "Based on https://arxiv.org/pdf/1004.1001.pdf"
   ]
  },
  {
   "cell_type": "code",
   "execution_count": 1,
   "metadata": {},
   "outputs": [],
   "source": [
    "from GraphDB.GraphDB import GraphDB\n",
    "import os\n",
    "if os.path.exists(\"traversal.sqlite\"):\n",
    "    os.remove(\"traversal.sqlite\")"
   ]
  },
  {
   "cell_type": "code",
   "execution_count": 2,
   "metadata": {},
   "outputs": [],
   "source": [
    "db = GraphDB(\"traversal.sqlite\")\n",
    "db.add_node({'name': 'p1', 'type': 'person', \"id\": 1})\n",
    "db.add_node({'name': 'p6', 'type': 'person', \"id\": 2})\n",
    "db.add_node({'name': 'p7', 'type': 'person', \"id\": 3})\n",
    "\n",
    "db.add_node({'name': 'r2', 'type': 'ressource', \"id\": 4})\n",
    "db.add_node({'name': 'r3', 'type': 'ressource', \"id\": 5})\n",
    "db.add_node({'name': 'r4', 'type': 'ressource', \"id\": 6})\n",
    "\n",
    "db.add_node({'name': 'f5', 'type': 'feature', \"id\": 7})\n",
    "db.add_node({'name': 'f8', 'type': 'feature', \"id\": 8})\n",
    "\n",
    "\n",
    "db.add_ege(1, 4, {'action': 'likes'})\n",
    "db.add_ege(2, 4, {'action': 'likes'})\n",
    "db.add_ege(2, 5, {'action': 'likes'})\n",
    "\n",
    "db.add_ege(3, 5, {'action': 'likes'})\n",
    "\n",
    "db.add_ege(1, 5, {'action': 'likes'})\n",
    "db.add_ege(1, 6, {'action': 'likes'})\n",
    "\n",
    "db.add_ege(4, 8, {'action': 'features'})\n",
    "db.add_ege(5, 8, {'action': 'features'})\n",
    "db.add_ege(6, 7, {'action': 'features'})\n"
   ]
  },
  {
   "cell_type": "markdown",
   "metadata": {},
   "source": [
    "# Draw Graph"
   ]
  },
  {
   "cell_type": "code",
   "execution_count": 3,
   "metadata": {},
   "outputs": [
    {
     "name": "stdout",
     "output_type": "stream",
     "text": [
      "{'name': 'p1', 'type': 'person', 'id': 1}\n",
      "{'name': 'p6', 'type': 'person', 'id': 2}\n",
      "{'name': 'p7', 'type': 'person', 'id': 3}\n",
      "{'name': 'r2', 'type': 'ressource', 'id': 4}\n",
      "{'name': 'r3', 'type': 'ressource', 'id': 5}\n",
      "{'name': 'r4', 'type': 'ressource', 'id': 6}\n",
      "{'name': 'f5', 'type': 'feature', 'id': 7}\n",
      "{'name': 'f8', 'type': 'feature', 'id': 8}\n"
     ]
    },
    {
     "data": {
      "image/png": "[encoded data removed]",
      "text/plain": [
       "<Figure size 432x288 with 1 Axes>"
      ]
     },
     "metadata": {},
     "output_type": "display_data"
    }
   ],
   "source": [
    "import networkx as nx\n",
    "G = db.to_networkx()\n",
    "nx.draw(G)"
   ]
  },
  {
   "cell_type": "markdown",
   "metadata": {},
   "source": [
    "# Content-Based Recommendation\n",
    "\n",
    "$f(i) = (\\epsilon^i_{\\epsilon-} \\circ v_{out} \\circ e^{feature}_{lab+} \\circ v_{in} e^{feature}_{lab+} \\circ e_{out})(i)$\n",
    "\n",
    "With $i=5$ (ressource 3)"
   ]
  },
  {
   "cell_type": "code",
   "execution_count": 4,
   "metadata": {},
   "outputs": [
    {
     "data": {
      "text/plain": [
       "[{'name': 'r2', 'type': 'ressource', 'id': 4}]"
      ]
     },
     "execution_count": 4,
     "metadata": {},
     "output_type": "execute_result"
    }
   ],
   "source": [
    "eout = db.get_edges(source=5, predicate={'action': 'features'})\n",
    "vin = db.get_target_nodes(eout)\n",
    "ein = db.get_edges(target=vin, predicate={'action': 'features'})\n",
    "vout = db.get_source_nodes(ein)\n",
    "vout = list(filter(lambda node: node[\"id\"] != 5, vout))\n",
    "vout"
   ]
  },
  {
   "cell_type": "markdown",
   "metadata": {},
   "source": [
    "# Collaborative Filtering\n",
    "\n",
    "$f(i)=\\left(\\epsilon_{\\epsilon-}^{i} \\circ v_{\\mathrm{out}} \\circ e_{\\mathrm{lab}+}^{\\mathrm{like}} \\circ e_{\\mathrm{in}} \\circ v_{\\mathrm{in}} \\circ e_{\\mathrm{lab}+}^{\\mathrm{like}} \\circ e_{\\mathrm{out}}\\right)(i)$\n",
    "\n",
    "$g(j)=\\left(v_{\\text {in }} \\circ e_{\\mathrm{lab}+}^{\\text {like }} \\circ e_{\\text {out }}\\right)(j)$\n",
    "\n",
    "and \n",
    "\n",
    "$(g \\circ f)(i)$\n",
    "\n",
    "with $i=1$ (person 1)"
   ]
  },
  {
   "cell_type": "code",
   "execution_count": 5,
   "metadata": {},
   "outputs": [
    {
     "data": {
      "text/plain": [
       "[{'name': 'r2', 'type': 'ressource', 'id': 4},\n",
       " {'name': 'r3', 'type': 'ressource', 'id': 5}]"
      ]
     },
     "execution_count": 5,
     "metadata": {},
     "output_type": "execute_result"
    }
   ],
   "source": [
    "eout = db.get_edges(source=1, predicate={'action': 'likes'})\n",
    "vin = db.get_target_nodes(eout)\n",
    "ein = db.get_edges(target=vin, predicate={'action': 'likes'})\n",
    "vout = db.get_source_nodes(ein)\n",
    "vout = list(filter(lambda node: node[\"id\"] != 1, vout))\n",
    "f = vout\n",
    "eout = db.get_edges(source=f, predicate={'action': 'likes'})\n",
    "vin = db.get_target_nodes(eout)\n",
    "vin"
   ]
  },
  {
   "cell_type": "code",
   "execution_count": null,
   "metadata": {},
   "outputs": [],
   "source": []
  },
  {
   "cell_type": "code",
   "execution_count": null,
   "metadata": {},
   "outputs": [],
   "source": []
  },
  {
   "cell_type": "code",
   "execution_count": null,
   "metadata": {},
   "outputs": [],
   "source": []
  }
 ],
 "metadata": {
  "kernelspec": {
   "display_name": "Python 3",
   "language": "python",
   "name": "python3"
  },
  "language_info": {
   "codemirror_mode": {
    "name": "ipython",
    "version": 3
   },
   "file_extension": ".py",
   "mimetype": "text/x-python",
   "name": "python",
   "nbconvert_exporter": "python",
   "pygments_lexer": "ipython3",
   "version": "3.7.9"
  }
 },
 "nbformat": 4,
 "nbformat_minor": 4
}
