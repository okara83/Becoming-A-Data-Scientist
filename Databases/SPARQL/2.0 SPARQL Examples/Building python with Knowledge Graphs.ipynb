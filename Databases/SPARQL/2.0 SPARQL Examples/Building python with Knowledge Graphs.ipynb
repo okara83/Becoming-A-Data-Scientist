{
 "cells": [
  {
   "cell_type": "markdown",
   "metadata": {
    "id": "npZT8H-aL7W_"
   },
   "source": [
    "# Querying a SPARQL endpoint (knowledge graph) in python\n",
    "The code below contains everything needed to execute a SPARQL query, manipulate the data it returns, and store the data in a file suitable for rendering with cytoscape.  Your goal is to get this to work locally and attempt to extend it by, for example, altering the query, sorting the results differently, or working with the output in cytoscape to build an informative visualization.  \n"
   ]
  },
  {
   "cell_type": "code",
   "execution_count": 1,
   "metadata": {
    "executionInfo": {
     "elapsed": 146,
     "status": "ok",
     "timestamp": 1644647000295,
     "user": {
      "displayName": "Onur Kara",
      "photoUrl": "https://lh3.googleusercontent.com/a-/AOh14GhD8yfuPKn7D2kG6KoGSsy_qZkAaPpq0fZB2mM7QQ=s64",
      "userId": "04428748629895168234"
     },
     "user_tz": 300
    },
    "id": "d7PqtNyfL7XC"
   },
   "outputs": [],
   "source": [
    "import pandas as pd\n",
    "\n",
    "from pandas.io.json import json_normalize\n",
    "from SPARQLWrapper import SPARQLWrapper, JSON"
   ]
  },
  {
   "cell_type": "markdown",
   "metadata": {
    "id": "3Z4IjLyGL7XE"
   },
   "source": [
    "## Create query function\n",
    "\n",
    "The function below takes a SPARQL query string, queries a sparql service, and returns the result as a pandas DataFrame (a table)."
   ]
  },
  {
   "cell_type": "code",
   "execution_count": null,
   "metadata": {
    "id": "BqzlmlZtmZZq"
   },
   "outputs": [],
   "source": []
  },
  {
   "cell_type": "code",
   "execution_count": null,
   "metadata": {
    "id": "EGTMxUj9L7XE"
   },
   "outputs": [],
   "source": [
    "def query_wikidata(sparql_query, sparql_service_url):\n",
    "    \"\"\"\n",
    "    Query the endpoint with the given query string and return the results as a pandas Dataframe.\n",
    "    \"\"\"\n",
    "    # create the connection to the endpoint\n",
    "    sparql = SPARQLWrapper(sparql_service_url)\n",
    "    \n",
    "    sparql.setQuery(sparql_query)\n",
    "    sparql.setReturnFormat(JSON)\n",
    "\n",
    "    # ask for the result\n",
    "    result = sparql.query().convert()\n",
    "    return json_normalize(result[\"results\"][\"bindings\"])"
   ]
  },
  {
   "cell_type": "markdown",
   "metadata": {
    "id": "0-kouLlVL7XF"
   },
   "source": [
    "## Run our SPARQL query\n",
    "The example here is the drug -> interacts with protein -> encoded by -> gene -> gwas -> disease query pattern. \n",
    "Test it here http://tinyurl.com/hwm9388 and explore the results to see you you might adapt it.  Other example queries for the wikidata service:  http://tinyurl.com/j222k6g ,  http://tinyurl.com/gpfr9kj "
   ]
  },
  {
   "cell_type": "code",
   "execution_count": null,
   "metadata": {
    "id": "vANejgXkL7XF",
    "outputId": "3f5f58f0-8b17-4580-9d32-6e8729436aed"
   },
   "outputs": [
    {
     "name": "stderr",
     "output_type": "stream",
     "text": [
      "<ipython-input-2-3c2b1717a014>:13: FutureWarning: pandas.io.json.json_normalize is deprecated, use pandas.json_normalize instead\n",
      "  return json_normalize(result[\"results\"][\"bindings\"])\n"
     ]
    }
   ],
   "source": [
    "sparql_query = \"\"\"SELECT ?drug ?drugLabel ?gene ?geneLabel ?entrez_id ?disease ?diseaseLabel WHERE {\n",
    "      ?drug wdt:P129 ?gene_product .   # drug interacts with a gene_product \n",
    "      ?gene_product wdt:P702 ?gene .  # gene_product is encoded by a gene\n",
    "      ?gene wdt:P2293 ?disease .    # gene is genetically associated with a disease \n",
    "      ?gene wdt:P351 ?entrez_id .  # get the entrez gene id for the gene \n",
    "      # add labels\n",
    "      SERVICE wikibase:label {\n",
    "            bd:serviceParam wikibase:language \"en\" .\n",
    "      }\n",
    "    }\n",
    "    limit 1000\n",
    "    \"\"\"\n",
    "#to query another endpoint, change the URL for the service and the query\n",
    "sparql_service_url = \"https://query.wikidata.org/sparql\"\n",
    "result_table = query_wikidata(sparql_query, sparql_service_url)"
   ]
  },
  {
   "cell_type": "markdown",
   "metadata": {
    "id": "7l-c_VpdL7XG"
   },
   "source": [
    "## From here on we are using the Python Data Analysis Library \"Pandas\"\n",
    "Look for an introduction like this http://synesthesiam.com/posts/an-introduction-to-pandas.html if you get stuck.."
   ]
  },
  {
   "cell_type": "markdown",
   "metadata": {
    "id": "UTfTA3jvL7XH"
   },
   "source": [
    "Now look at the results of our SPARQL query.  \"shape\" shows the dimensions (n rows by n cols).  head() shows the column headers (which will be important later) and a sample of the first few rows of data"
   ]
  },
  {
   "cell_type": "code",
   "execution_count": null,
   "metadata": {
    "id": "64Fa1wnQL7XH",
    "outputId": "812e2239-f14b-43e0-dba4-b88c440ab92f"
   },
   "outputs": [
    {
     "data": {
      "text/plain": [
       "(1000, 17)"
      ]
     },
     "execution_count": 4,
     "metadata": {},
     "output_type": "execute_result"
    }
   ],
   "source": [
    "result_table.shape"
   ]
  },
  {
   "cell_type": "code",
   "execution_count": null,
   "metadata": {
    "id": "5cX4fl-jL7XI",
    "outputId": "48017e60-bffc-426d-c812-3ea2d2c61d29",
    "scrolled": false
   },
   "outputs": [
    {
     "data": {
      "text/html": [
       "<div>\n",
       "<style scoped>\n",
       "    .dataframe tbody tr th:only-of-type {\n",
       "        vertical-align: middle;\n",
       "    }\n",
       "\n",
       "    .dataframe tbody tr th {\n",
       "        vertical-align: top;\n",
       "    }\n",
       "\n",
       "    .dataframe thead th {\n",
       "        text-align: right;\n",
       "    }\n",
       "</style>\n",
       "<table border=\"1\" class=\"dataframe\">\n",
       "  <thead>\n",
       "    <tr style=\"text-align: right;\">\n",
       "      <th></th>\n",
       "      <th>drug.type</th>\n",
       "      <th>drug.value</th>\n",
       "      <th>gene.type</th>\n",
       "      <th>gene.value</th>\n",
       "      <th>disease.type</th>\n",
       "      <th>disease.value</th>\n",
       "      <th>entrez_id.type</th>\n",
       "      <th>entrez_id.value</th>\n",
       "      <th>drugLabel.xml:lang</th>\n",
       "      <th>drugLabel.type</th>\n",
       "      <th>drugLabel.value</th>\n",
       "      <th>geneLabel.xml:lang</th>\n",
       "      <th>geneLabel.type</th>\n",
       "      <th>geneLabel.value</th>\n",
       "      <th>diseaseLabel.xml:lang</th>\n",
       "      <th>diseaseLabel.type</th>\n",
       "      <th>diseaseLabel.value</th>\n",
       "    </tr>\n",
       "  </thead>\n",
       "  <tbody>\n",
       "    <tr>\n",
       "      <th>0</th>\n",
       "      <td>uri</td>\n",
       "      <td>http://www.wikidata.org/entity/Q132621</td>\n",
       "      <td>uri</td>\n",
       "      <td>http://www.wikidata.org/entity/Q17710464</td>\n",
       "      <td>uri</td>\n",
       "      <td>http://www.wikidata.org/entity/Q61335</td>\n",
       "      <td>literal</td>\n",
       "      <td>146</td>\n",
       "      <td>en</td>\n",
       "      <td>literal</td>\n",
       "      <td>epinephrine</td>\n",
       "      <td>en</td>\n",
       "      <td>literal</td>\n",
       "      <td>ADRA1D</td>\n",
       "      <td>en</td>\n",
       "      <td>literal</td>\n",
       "      <td>pre-eclampsia</td>\n",
       "    </tr>\n",
       "    <tr>\n",
       "      <th>1</th>\n",
       "      <td>uri</td>\n",
       "      <td>http://www.wikidata.org/entity/Q186242</td>\n",
       "      <td>uri</td>\n",
       "      <td>http://www.wikidata.org/entity/Q17710464</td>\n",
       "      <td>uri</td>\n",
       "      <td>http://www.wikidata.org/entity/Q61335</td>\n",
       "      <td>literal</td>\n",
       "      <td>146</td>\n",
       "      <td>en</td>\n",
       "      <td>literal</td>\n",
       "      <td>norepinephrine</td>\n",
       "      <td>en</td>\n",
       "      <td>literal</td>\n",
       "      <td>ADRA1D</td>\n",
       "      <td>en</td>\n",
       "      <td>literal</td>\n",
       "      <td>pre-eclampsia</td>\n",
       "    </tr>\n",
       "    <tr>\n",
       "      <th>2</th>\n",
       "      <td>uri</td>\n",
       "      <td>http://www.wikidata.org/entity/Q221361</td>\n",
       "      <td>uri</td>\n",
       "      <td>http://www.wikidata.org/entity/Q17710464</td>\n",
       "      <td>uri</td>\n",
       "      <td>http://www.wikidata.org/entity/Q61335</td>\n",
       "      <td>literal</td>\n",
       "      <td>146</td>\n",
       "      <td>en</td>\n",
       "      <td>literal</td>\n",
       "      <td>clozapine</td>\n",
       "      <td>en</td>\n",
       "      <td>literal</td>\n",
       "      <td>ADRA1D</td>\n",
       "      <td>en</td>\n",
       "      <td>literal</td>\n",
       "      <td>pre-eclampsia</td>\n",
       "    </tr>\n",
       "    <tr>\n",
       "      <th>3</th>\n",
       "      <td>uri</td>\n",
       "      <td>http://www.wikidata.org/entity/Q280786</td>\n",
       "      <td>uri</td>\n",
       "      <td>http://www.wikidata.org/entity/Q17710464</td>\n",
       "      <td>uri</td>\n",
       "      <td>http://www.wikidata.org/entity/Q61335</td>\n",
       "      <td>literal</td>\n",
       "      <td>146</td>\n",
       "      <td>en</td>\n",
       "      <td>literal</td>\n",
       "      <td>terazosin</td>\n",
       "      <td>en</td>\n",
       "      <td>literal</td>\n",
       "      <td>ADRA1D</td>\n",
       "      <td>en</td>\n",
       "      <td>literal</td>\n",
       "      <td>pre-eclampsia</td>\n",
       "    </tr>\n",
       "    <tr>\n",
       "      <th>4</th>\n",
       "      <td>uri</td>\n",
       "      <td>http://www.wikidata.org/entity/Q408963</td>\n",
       "      <td>uri</td>\n",
       "      <td>http://www.wikidata.org/entity/Q17710464</td>\n",
       "      <td>uri</td>\n",
       "      <td>http://www.wikidata.org/entity/Q61335</td>\n",
       "      <td>literal</td>\n",
       "      <td>146</td>\n",
       "      <td>en</td>\n",
       "      <td>literal</td>\n",
       "      <td>indoramin</td>\n",
       "      <td>en</td>\n",
       "      <td>literal</td>\n",
       "      <td>ADRA1D</td>\n",
       "      <td>en</td>\n",
       "      <td>literal</td>\n",
       "      <td>pre-eclampsia</td>\n",
       "    </tr>\n",
       "    <tr>\n",
       "      <th>...</th>\n",
       "      <td>...</td>\n",
       "      <td>...</td>\n",
       "      <td>...</td>\n",
       "      <td>...</td>\n",
       "      <td>...</td>\n",
       "      <td>...</td>\n",
       "      <td>...</td>\n",
       "      <td>...</td>\n",
       "      <td>...</td>\n",
       "      <td>...</td>\n",
       "      <td>...</td>\n",
       "      <td>...</td>\n",
       "      <td>...</td>\n",
       "      <td>...</td>\n",
       "      <td>...</td>\n",
       "      <td>...</td>\n",
       "      <td>...</td>\n",
       "    </tr>\n",
       "    <tr>\n",
       "      <th>995</th>\n",
       "      <td>uri</td>\n",
       "      <td>http://www.wikidata.org/entity/Q21172597</td>\n",
       "      <td>uri</td>\n",
       "      <td>http://www.wikidata.org/entity/Q14911688</td>\n",
       "      <td>uri</td>\n",
       "      <td>http://www.wikidata.org/entity/Q827497</td>\n",
       "      <td>literal</td>\n",
       "      <td>4436</td>\n",
       "      <td>en</td>\n",
       "      <td>literal</td>\n",
       "      <td>Inclusion membrane protein CTL0184</td>\n",
       "      <td>en</td>\n",
       "      <td>literal</td>\n",
       "      <td>MSH2</td>\n",
       "      <td>en</td>\n",
       "      <td>literal</td>\n",
       "      <td>Muir-Torre syndrome</td>\n",
       "    </tr>\n",
       "    <tr>\n",
       "      <th>996</th>\n",
       "      <td>uri</td>\n",
       "      <td>http://www.wikidata.org/entity/Q21168330</td>\n",
       "      <td>uri</td>\n",
       "      <td>http://www.wikidata.org/entity/Q14911717</td>\n",
       "      <td>uri</td>\n",
       "      <td>http://www.wikidata.org/entity/Q188874</td>\n",
       "      <td>literal</td>\n",
       "      <td>2956</td>\n",
       "      <td>en</td>\n",
       "      <td>literal</td>\n",
       "      <td>Inclusion membrane protein CT_813</td>\n",
       "      <td>en</td>\n",
       "      <td>literal</td>\n",
       "      <td>MSH6</td>\n",
       "      <td>en</td>\n",
       "      <td>literal</td>\n",
       "      <td>colorectal cancer</td>\n",
       "    </tr>\n",
       "    <tr>\n",
       "      <th>997</th>\n",
       "      <td>uri</td>\n",
       "      <td>http://www.wikidata.org/entity/Q21172597</td>\n",
       "      <td>uri</td>\n",
       "      <td>http://www.wikidata.org/entity/Q14911717</td>\n",
       "      <td>uri</td>\n",
       "      <td>http://www.wikidata.org/entity/Q188874</td>\n",
       "      <td>literal</td>\n",
       "      <td>2956</td>\n",
       "      <td>en</td>\n",
       "      <td>literal</td>\n",
       "      <td>Inclusion membrane protein CTL0184</td>\n",
       "      <td>en</td>\n",
       "      <td>literal</td>\n",
       "      <td>MSH6</td>\n",
       "      <td>en</td>\n",
       "      <td>literal</td>\n",
       "      <td>colorectal cancer</td>\n",
       "    </tr>\n",
       "    <tr>\n",
       "      <th>998</th>\n",
       "      <td>uri</td>\n",
       "      <td>http://www.wikidata.org/entity/Q21168330</td>\n",
       "      <td>uri</td>\n",
       "      <td>http://www.wikidata.org/entity/Q14911717</td>\n",
       "      <td>uri</td>\n",
       "      <td>http://www.wikidata.org/entity/Q736633</td>\n",
       "      <td>literal</td>\n",
       "      <td>2956</td>\n",
       "      <td>en</td>\n",
       "      <td>literal</td>\n",
       "      <td>Inclusion membrane protein CT_813</td>\n",
       "      <td>en</td>\n",
       "      <td>literal</td>\n",
       "      <td>MSH6</td>\n",
       "      <td>en</td>\n",
       "      <td>literal</td>\n",
       "      <td>Mismatch repair cancer syndrome</td>\n",
       "    </tr>\n",
       "    <tr>\n",
       "      <th>999</th>\n",
       "      <td>uri</td>\n",
       "      <td>http://www.wikidata.org/entity/Q21172597</td>\n",
       "      <td>uri</td>\n",
       "      <td>http://www.wikidata.org/entity/Q14911717</td>\n",
       "      <td>uri</td>\n",
       "      <td>http://www.wikidata.org/entity/Q736633</td>\n",
       "      <td>literal</td>\n",
       "      <td>2956</td>\n",
       "      <td>en</td>\n",
       "      <td>literal</td>\n",
       "      <td>Inclusion membrane protein CTL0184</td>\n",
       "      <td>en</td>\n",
       "      <td>literal</td>\n",
       "      <td>MSH6</td>\n",
       "      <td>en</td>\n",
       "      <td>literal</td>\n",
       "      <td>Mismatch repair cancer syndrome</td>\n",
       "    </tr>\n",
       "  </tbody>\n",
       "</table>\n",
       "<p>1000 rows × 17 columns</p>\n",
       "</div>"
      ],
      "text/plain": [
       "    drug.type                                drug.value gene.type  \\\n",
       "0         uri    http://www.wikidata.org/entity/Q132621       uri   \n",
       "1         uri    http://www.wikidata.org/entity/Q186242       uri   \n",
       "2         uri    http://www.wikidata.org/entity/Q221361       uri   \n",
       "3         uri    http://www.wikidata.org/entity/Q280786       uri   \n",
       "4         uri    http://www.wikidata.org/entity/Q408963       uri   \n",
       "..        ...                                       ...       ...   \n",
       "995       uri  http://www.wikidata.org/entity/Q21172597       uri   \n",
       "996       uri  http://www.wikidata.org/entity/Q21168330       uri   \n",
       "997       uri  http://www.wikidata.org/entity/Q21172597       uri   \n",
       "998       uri  http://www.wikidata.org/entity/Q21168330       uri   \n",
       "999       uri  http://www.wikidata.org/entity/Q21172597       uri   \n",
       "\n",
       "                                   gene.value disease.type  \\\n",
       "0    http://www.wikidata.org/entity/Q17710464          uri   \n",
       "1    http://www.wikidata.org/entity/Q17710464          uri   \n",
       "2    http://www.wikidata.org/entity/Q17710464          uri   \n",
       "3    http://www.wikidata.org/entity/Q17710464          uri   \n",
       "4    http://www.wikidata.org/entity/Q17710464          uri   \n",
       "..                                        ...          ...   \n",
       "995  http://www.wikidata.org/entity/Q14911688          uri   \n",
       "996  http://www.wikidata.org/entity/Q14911717          uri   \n",
       "997  http://www.wikidata.org/entity/Q14911717          uri   \n",
       "998  http://www.wikidata.org/entity/Q14911717          uri   \n",
       "999  http://www.wikidata.org/entity/Q14911717          uri   \n",
       "\n",
       "                              disease.value entrez_id.type entrez_id.value  \\\n",
       "0     http://www.wikidata.org/entity/Q61335        literal             146   \n",
       "1     http://www.wikidata.org/entity/Q61335        literal             146   \n",
       "2     http://www.wikidata.org/entity/Q61335        literal             146   \n",
       "3     http://www.wikidata.org/entity/Q61335        literal             146   \n",
       "4     http://www.wikidata.org/entity/Q61335        literal             146   \n",
       "..                                      ...            ...             ...   \n",
       "995  http://www.wikidata.org/entity/Q827497        literal            4436   \n",
       "996  http://www.wikidata.org/entity/Q188874        literal            2956   \n",
       "997  http://www.wikidata.org/entity/Q188874        literal            2956   \n",
       "998  http://www.wikidata.org/entity/Q736633        literal            2956   \n",
       "999  http://www.wikidata.org/entity/Q736633        literal            2956   \n",
       "\n",
       "    drugLabel.xml:lang drugLabel.type                     drugLabel.value  \\\n",
       "0                   en        literal                         epinephrine   \n",
       "1                   en        literal                      norepinephrine   \n",
       "2                   en        literal                           clozapine   \n",
       "3                   en        literal                           terazosin   \n",
       "4                   en        literal                           indoramin   \n",
       "..                 ...            ...                                 ...   \n",
       "995                 en        literal  Inclusion membrane protein CTL0184   \n",
       "996                 en        literal   Inclusion membrane protein CT_813   \n",
       "997                 en        literal  Inclusion membrane protein CTL0184   \n",
       "998                 en        literal   Inclusion membrane protein CT_813   \n",
       "999                 en        literal  Inclusion membrane protein CTL0184   \n",
       "\n",
       "    geneLabel.xml:lang geneLabel.type geneLabel.value diseaseLabel.xml:lang  \\\n",
       "0                   en        literal          ADRA1D                    en   \n",
       "1                   en        literal          ADRA1D                    en   \n",
       "2                   en        literal          ADRA1D                    en   \n",
       "3                   en        literal          ADRA1D                    en   \n",
       "4                   en        literal          ADRA1D                    en   \n",
       "..                 ...            ...             ...                   ...   \n",
       "995                 en        literal            MSH2                    en   \n",
       "996                 en        literal            MSH6                    en   \n",
       "997                 en        literal            MSH6                    en   \n",
       "998                 en        literal            MSH6                    en   \n",
       "999                 en        literal            MSH6                    en   \n",
       "\n",
       "    diseaseLabel.type               diseaseLabel.value  \n",
       "0             literal                    pre-eclampsia  \n",
       "1             literal                    pre-eclampsia  \n",
       "2             literal                    pre-eclampsia  \n",
       "3             literal                    pre-eclampsia  \n",
       "4             literal                    pre-eclampsia  \n",
       "..                ...                              ...  \n",
       "995           literal              Muir-Torre syndrome  \n",
       "996           literal                colorectal cancer  \n",
       "997           literal                colorectal cancer  \n",
       "998           literal  Mismatch repair cancer syndrome  \n",
       "999           literal  Mismatch repair cancer syndrome  \n",
       "\n",
       "[1000 rows x 17 columns]"
      ]
     },
     "execution_count": 5,
     "metadata": {},
     "output_type": "execute_result"
    }
   ],
   "source": [
    "result_table"
   ]
  },
  {
   "cell_type": "markdown",
   "metadata": {
    "id": "4n1N0NzEL7XJ"
   },
   "source": [
    "Compare the column names to the first line of the SPARQL query:\n",
    "\n",
    "SELECT ?drug ?drugLabel ?gene ?geneLabel ?entrez_id ?disease ?diseaseLabel\n",
    "\n",
    "Each of the SELECTed items (e.g. ?drug) results in 2 columns: one for its data type (either uri or literal) and one for its value (the thing you are probably looking for).  String literal values for labels have an additional column indicating which language they are in.  \n",
    "\n",
    "For the purposes of this exercise, we can simplify this to focus only on the string names of the drug, disease and gene in each row in the results.  As follows."
   ]
  },
  {
   "cell_type": "markdown",
   "metadata": {
    "id": "MJS5uQKtL7XJ"
   },
   "source": [
    "## Extract only the columns we care about"
   ]
  },
  {
   "cell_type": "code",
   "execution_count": null,
   "metadata": {
    "id": "ShHSadapL7XJ"
   },
   "outputs": [],
   "source": [
    "simple_table = result_table[[\"drugLabel.value\", \"diseaseLabel.value\", \"geneLabel.value\"]]"
   ]
  },
  {
   "cell_type": "code",
   "execution_count": null,
   "metadata": {
    "id": "t4SDHDZwL7XK",
    "outputId": "49085194-9f26-447d-c3d0-92657fbd93c6"
   },
   "outputs": [
    {
     "data": {
      "text/html": [
       "<div>\n",
       "<style scoped>\n",
       "    .dataframe tbody tr th:only-of-type {\n",
       "        vertical-align: middle;\n",
       "    }\n",
       "\n",
       "    .dataframe tbody tr th {\n",
       "        vertical-align: top;\n",
       "    }\n",
       "\n",
       "    .dataframe thead th {\n",
       "        text-align: right;\n",
       "    }\n",
       "</style>\n",
       "<table border=\"1\" class=\"dataframe\">\n",
       "  <thead>\n",
       "    <tr style=\"text-align: right;\">\n",
       "      <th></th>\n",
       "      <th>drugLabel.value</th>\n",
       "      <th>diseaseLabel.value</th>\n",
       "      <th>geneLabel.value</th>\n",
       "    </tr>\n",
       "  </thead>\n",
       "  <tbody>\n",
       "    <tr>\n",
       "      <th>0</th>\n",
       "      <td>epinephrine</td>\n",
       "      <td>pre-eclampsia</td>\n",
       "      <td>ADRA1D</td>\n",
       "    </tr>\n",
       "    <tr>\n",
       "      <th>1</th>\n",
       "      <td>norepinephrine</td>\n",
       "      <td>pre-eclampsia</td>\n",
       "      <td>ADRA1D</td>\n",
       "    </tr>\n",
       "    <tr>\n",
       "      <th>2</th>\n",
       "      <td>clozapine</td>\n",
       "      <td>pre-eclampsia</td>\n",
       "      <td>ADRA1D</td>\n",
       "    </tr>\n",
       "    <tr>\n",
       "      <th>3</th>\n",
       "      <td>terazosin</td>\n",
       "      <td>pre-eclampsia</td>\n",
       "      <td>ADRA1D</td>\n",
       "    </tr>\n",
       "    <tr>\n",
       "      <th>4</th>\n",
       "      <td>indoramin</td>\n",
       "      <td>pre-eclampsia</td>\n",
       "      <td>ADRA1D</td>\n",
       "    </tr>\n",
       "  </tbody>\n",
       "</table>\n",
       "</div>"
      ],
      "text/plain": [
       "  drugLabel.value diseaseLabel.value geneLabel.value\n",
       "0     epinephrine      pre-eclampsia          ADRA1D\n",
       "1  norepinephrine      pre-eclampsia          ADRA1D\n",
       "2       clozapine      pre-eclampsia          ADRA1D\n",
       "3       terazosin      pre-eclampsia          ADRA1D\n",
       "4       indoramin      pre-eclampsia          ADRA1D"
      ]
     },
     "execution_count": 7,
     "metadata": {},
     "output_type": "execute_result"
    }
   ],
   "source": [
    "simple_table.head()"
   ]
  },
  {
   "cell_type": "markdown",
   "metadata": {
    "id": "LqVgNBphL7XK"
   },
   "source": [
    "### Rename the columns of our simple table\n",
    "\n",
    "Let's delete the \"Label.value\" portion from the column names."
   ]
  },
  {
   "cell_type": "code",
   "execution_count": null,
   "metadata": {
    "id": "KQPgCIXbL7XK",
    "scrolled": true
   },
   "outputs": [],
   "source": [
    "simple_table = simple_table.rename(columns = lambda col: col.replace(\"Label.value\", \"\"))"
   ]
  },
  {
   "cell_type": "code",
   "execution_count": null,
   "metadata": {
    "id": "dGW681UkL7XL",
    "outputId": "575cc263-f0df-4767-95e5-5927f6a76d9d"
   },
   "outputs": [
    {
     "data": {
      "text/html": [
       "<div>\n",
       "<style scoped>\n",
       "    .dataframe tbody tr th:only-of-type {\n",
       "        vertical-align: middle;\n",
       "    }\n",
       "\n",
       "    .dataframe tbody tr th {\n",
       "        vertical-align: top;\n",
       "    }\n",
       "\n",
       "    .dataframe thead th {\n",
       "        text-align: right;\n",
       "    }\n",
       "</style>\n",
       "<table border=\"1\" class=\"dataframe\">\n",
       "  <thead>\n",
       "    <tr style=\"text-align: right;\">\n",
       "      <th></th>\n",
       "      <th>drug</th>\n",
       "      <th>disease</th>\n",
       "      <th>gene</th>\n",
       "    </tr>\n",
       "  </thead>\n",
       "  <tbody>\n",
       "    <tr>\n",
       "      <th>0</th>\n",
       "      <td>epinephrine</td>\n",
       "      <td>pre-eclampsia</td>\n",
       "      <td>ADRA1D</td>\n",
       "    </tr>\n",
       "    <tr>\n",
       "      <th>1</th>\n",
       "      <td>norepinephrine</td>\n",
       "      <td>pre-eclampsia</td>\n",
       "      <td>ADRA1D</td>\n",
       "    </tr>\n",
       "    <tr>\n",
       "      <th>2</th>\n",
       "      <td>clozapine</td>\n",
       "      <td>pre-eclampsia</td>\n",
       "      <td>ADRA1D</td>\n",
       "    </tr>\n",
       "    <tr>\n",
       "      <th>3</th>\n",
       "      <td>terazosin</td>\n",
       "      <td>pre-eclampsia</td>\n",
       "      <td>ADRA1D</td>\n",
       "    </tr>\n",
       "    <tr>\n",
       "      <th>4</th>\n",
       "      <td>indoramin</td>\n",
       "      <td>pre-eclampsia</td>\n",
       "      <td>ADRA1D</td>\n",
       "    </tr>\n",
       "  </tbody>\n",
       "</table>\n",
       "</div>"
      ],
      "text/plain": [
       "             drug        disease    gene\n",
       "0     epinephrine  pre-eclampsia  ADRA1D\n",
       "1  norepinephrine  pre-eclampsia  ADRA1D\n",
       "2       clozapine  pre-eclampsia  ADRA1D\n",
       "3       terazosin  pre-eclampsia  ADRA1D\n",
       "4       indoramin  pre-eclampsia  ADRA1D"
      ]
     },
     "execution_count": 9,
     "metadata": {},
     "output_type": "execute_result"
    }
   ],
   "source": [
    "simple_table.head()"
   ]
  },
  {
   "cell_type": "markdown",
   "metadata": {
    "id": "WLtpm7-IL7XL"
   },
   "source": [
    "We have just grabbed the three columns we care about and renamed them."
   ]
  },
  {
   "cell_type": "markdown",
   "metadata": {
    "id": "EKvaPYGiL7XL"
   },
   "source": [
    "## Count the number of genes per (drug, disease) pair\n",
    "\n",
    "How many genes link each unique (drug, disease) pair? After counting, order the (drug, disease) pairs in descending order of number of linking genes.  This is one simple method for finding stronger connections between A and C concepts - based on the number of shared B concepts.  "
   ]
  },
  {
   "cell_type": "markdown",
   "metadata": {
    "id": "cfLxNZ4rL7XL"
   },
   "source": [
    "### Make unique (drug, disease) groups and count the number of genes for this group"
   ]
  },
  {
   "cell_type": "code",
   "execution_count": null,
   "metadata": {
    "id": "2CxhU7JZL7XM"
   },
   "outputs": [],
   "source": [
    "counts = simple_table.groupby([\"drug\", \"disease\"]).size()"
   ]
  },
  {
   "cell_type": "code",
   "execution_count": null,
   "metadata": {
    "id": "sVMNPHi9L7XM",
    "outputId": "5533e074-8380-4768-c68e-8ddc249fcce4"
   },
   "outputs": [
    {
     "data": {
      "text/plain": [
       "drug                            disease                                             \n",
       "(-)-pentazocine                 amyotrophic lateral sclerosis type 16                   1\n",
       "                                autosomal recessive distal spinal muscular atrophy 2    1\n",
       "                                coronary artery disease                                 1\n",
       "(25R)-cholest-5-ene-3β,26-diol  metabolic disease                                       1\n",
       "(RS)-methadone                  coronary artery disease                                 1\n",
       "dtype: int64"
      ]
     },
     "execution_count": 11,
     "metadata": {},
     "output_type": "execute_result"
    }
   ],
   "source": [
    "counts.head()"
   ]
  },
  {
   "cell_type": "markdown",
   "metadata": {
    "id": "PEniRNpML7XM"
   },
   "source": [
    "### Turn result into a Pandas data frame (fancy smart table)"
   ]
  },
  {
   "cell_type": "code",
   "execution_count": null,
   "metadata": {
    "id": "U0nxX_9JL7XM"
   },
   "outputs": [],
   "source": [
    "counts = counts.to_frame(\"gene_count\")"
   ]
  },
  {
   "cell_type": "code",
   "execution_count": null,
   "metadata": {
    "id": "COk0-qoRL7XM",
    "outputId": "6d744a61-b333-48c8-cd5b-5d30ed68490b"
   },
   "outputs": [
    {
     "data": {
      "text/html": [
       "<div>\n",
       "<style scoped>\n",
       "    .dataframe tbody tr th:only-of-type {\n",
       "        vertical-align: middle;\n",
       "    }\n",
       "\n",
       "    .dataframe tbody tr th {\n",
       "        vertical-align: top;\n",
       "    }\n",
       "\n",
       "    .dataframe thead th {\n",
       "        text-align: right;\n",
       "    }\n",
       "</style>\n",
       "<table border=\"1\" class=\"dataframe\">\n",
       "  <thead>\n",
       "    <tr style=\"text-align: right;\">\n",
       "      <th></th>\n",
       "      <th></th>\n",
       "      <th>gene_count</th>\n",
       "    </tr>\n",
       "    <tr>\n",
       "      <th>drug</th>\n",
       "      <th>disease</th>\n",
       "      <th></th>\n",
       "    </tr>\n",
       "  </thead>\n",
       "  <tbody>\n",
       "    <tr>\n",
       "      <th rowspan=\"3\" valign=\"top\">(-)-pentazocine</th>\n",
       "      <th>amyotrophic lateral sclerosis type 16</th>\n",
       "      <td>1</td>\n",
       "    </tr>\n",
       "    <tr>\n",
       "      <th>autosomal recessive distal spinal muscular atrophy 2</th>\n",
       "      <td>1</td>\n",
       "    </tr>\n",
       "    <tr>\n",
       "      <th>coronary artery disease</th>\n",
       "      <td>1</td>\n",
       "    </tr>\n",
       "    <tr>\n",
       "      <th>(25R)-cholest-5-ene-3β,26-diol</th>\n",
       "      <th>metabolic disease</th>\n",
       "      <td>1</td>\n",
       "    </tr>\n",
       "    <tr>\n",
       "      <th>(RS)-methadone</th>\n",
       "      <th>coronary artery disease</th>\n",
       "      <td>1</td>\n",
       "    </tr>\n",
       "  </tbody>\n",
       "</table>\n",
       "</div>"
      ],
      "text/plain": [
       "                                                                                   gene_count\n",
       "drug                           disease                                                       \n",
       "(-)-pentazocine                amyotrophic lateral sclerosis type 16                        1\n",
       "                               autosomal recessive distal spinal muscular atro...           1\n",
       "                               coronary artery disease                                      1\n",
       "(25R)-cholest-5-ene-3β,26-diol metabolic disease                                            1\n",
       "(RS)-methadone                 coronary artery disease                                      1"
      ]
     },
     "execution_count": 13,
     "metadata": {},
     "output_type": "execute_result"
    }
   ],
   "source": [
    "counts.head()"
   ]
  },
  {
   "cell_type": "markdown",
   "metadata": {
    "id": "FVNCdoNsL7XN"
   },
   "source": [
    "### Put the drug and disease labels back into columns"
   ]
  },
  {
   "cell_type": "code",
   "execution_count": null,
   "metadata": {
    "id": "9gExfHWQL7XN"
   },
   "outputs": [],
   "source": [
    "counts = counts.reset_index()"
   ]
  },
  {
   "cell_type": "code",
   "execution_count": null,
   "metadata": {
    "id": "IuYDLDoRL7XN",
    "outputId": "e55d889d-e66f-4f39-c0bb-fd2665482c7b"
   },
   "outputs": [
    {
     "data": {
      "text/html": [
       "<div>\n",
       "<style scoped>\n",
       "    .dataframe tbody tr th:only-of-type {\n",
       "        vertical-align: middle;\n",
       "    }\n",
       "\n",
       "    .dataframe tbody tr th {\n",
       "        vertical-align: top;\n",
       "    }\n",
       "\n",
       "    .dataframe thead th {\n",
       "        text-align: right;\n",
       "    }\n",
       "</style>\n",
       "<table border=\"1\" class=\"dataframe\">\n",
       "  <thead>\n",
       "    <tr style=\"text-align: right;\">\n",
       "      <th></th>\n",
       "      <th>drug</th>\n",
       "      <th>disease</th>\n",
       "      <th>gene_count</th>\n",
       "    </tr>\n",
       "  </thead>\n",
       "  <tbody>\n",
       "    <tr>\n",
       "      <th>0</th>\n",
       "      <td>(-)-pentazocine</td>\n",
       "      <td>amyotrophic lateral sclerosis type 16</td>\n",
       "      <td>1</td>\n",
       "    </tr>\n",
       "    <tr>\n",
       "      <th>1</th>\n",
       "      <td>(-)-pentazocine</td>\n",
       "      <td>autosomal recessive distal spinal muscular atr...</td>\n",
       "      <td>1</td>\n",
       "    </tr>\n",
       "    <tr>\n",
       "      <th>2</th>\n",
       "      <td>(-)-pentazocine</td>\n",
       "      <td>coronary artery disease</td>\n",
       "      <td>1</td>\n",
       "    </tr>\n",
       "    <tr>\n",
       "      <th>3</th>\n",
       "      <td>(25R)-cholest-5-ene-3β,26-diol</td>\n",
       "      <td>metabolic disease</td>\n",
       "      <td>1</td>\n",
       "    </tr>\n",
       "    <tr>\n",
       "      <th>4</th>\n",
       "      <td>(RS)-methadone</td>\n",
       "      <td>coronary artery disease</td>\n",
       "      <td>1</td>\n",
       "    </tr>\n",
       "  </tbody>\n",
       "</table>\n",
       "</div>"
      ],
      "text/plain": [
       "                             drug  \\\n",
       "0                 (-)-pentazocine   \n",
       "1                 (-)-pentazocine   \n",
       "2                 (-)-pentazocine   \n",
       "3  (25R)-cholest-5-ene-3β,26-diol   \n",
       "4                  (RS)-methadone   \n",
       "\n",
       "                                             disease  gene_count  \n",
       "0              amyotrophic lateral sclerosis type 16           1  \n",
       "1  autosomal recessive distal spinal muscular atr...           1  \n",
       "2                            coronary artery disease           1  \n",
       "3                                  metabolic disease           1  \n",
       "4                            coronary artery disease           1  "
      ]
     },
     "execution_count": 15,
     "metadata": {},
     "output_type": "execute_result"
    }
   ],
   "source": [
    "counts.head()"
   ]
  },
  {
   "cell_type": "markdown",
   "metadata": {
    "id": "H0yz3-8XL7XN"
   },
   "source": [
    "### Sort the table in descending order of genes"
   ]
  },
  {
   "cell_type": "code",
   "execution_count": null,
   "metadata": {
    "id": "lvDRQ70ZL7XN"
   },
   "outputs": [],
   "source": [
    "counts = counts.sort_values(\"gene_count\", ascending = False)"
   ]
  },
  {
   "cell_type": "code",
   "execution_count": null,
   "metadata": {
    "id": "B3aE3dvQL7XO",
    "outputId": "ef4d9a20-8d42-4399-e357-cfa63d68fe3f"
   },
   "outputs": [
    {
     "data": {
      "text/html": [
       "<div>\n",
       "<style scoped>\n",
       "    .dataframe tbody tr th:only-of-type {\n",
       "        vertical-align: middle;\n",
       "    }\n",
       "\n",
       "    .dataframe tbody tr th {\n",
       "        vertical-align: top;\n",
       "    }\n",
       "\n",
       "    .dataframe thead th {\n",
       "        text-align: right;\n",
       "    }\n",
       "</style>\n",
       "<table border=\"1\" class=\"dataframe\">\n",
       "  <thead>\n",
       "    <tr style=\"text-align: right;\">\n",
       "      <th></th>\n",
       "      <th>drug</th>\n",
       "      <th>disease</th>\n",
       "      <th>gene_count</th>\n",
       "    </tr>\n",
       "  </thead>\n",
       "  <tbody>\n",
       "    <tr>\n",
       "      <th>192</th>\n",
       "      <td>Nintedanib</td>\n",
       "      <td>Jackson–Weiss syndrome</td>\n",
       "      <td>2</td>\n",
       "    </tr>\n",
       "    <tr>\n",
       "      <th>609</th>\n",
       "      <td>linifanib</td>\n",
       "      <td>acute myeloid leukemia</td>\n",
       "      <td>2</td>\n",
       "    </tr>\n",
       "    <tr>\n",
       "      <th>888</th>\n",
       "      <td>sunitinib</td>\n",
       "      <td>acute myeloid leukemia</td>\n",
       "      <td>2</td>\n",
       "    </tr>\n",
       "    <tr>\n",
       "      <th>383</th>\n",
       "      <td>crenolanib</td>\n",
       "      <td>acute myeloid leukemia</td>\n",
       "      <td>2</td>\n",
       "    </tr>\n",
       "    <tr>\n",
       "      <th>351</th>\n",
       "      <td>cediranib</td>\n",
       "      <td>acute myeloid leukemia</td>\n",
       "      <td>2</td>\n",
       "    </tr>\n",
       "  </tbody>\n",
       "</table>\n",
       "</div>"
      ],
      "text/plain": [
       "           drug                 disease  gene_count\n",
       "192  Nintedanib  Jackson–Weiss syndrome           2\n",
       "609   linifanib  acute myeloid leukemia           2\n",
       "888   sunitinib  acute myeloid leukemia           2\n",
       "383  crenolanib  acute myeloid leukemia           2\n",
       "351   cediranib  acute myeloid leukemia           2"
      ]
     },
     "execution_count": 17,
     "metadata": {},
     "output_type": "execute_result"
    }
   ],
   "source": [
    "counts.head()"
   ]
  },
  {
   "cell_type": "markdown",
   "metadata": {
    "id": "W3qxlhVxL7XO"
   },
   "source": [
    "### Number the results from 0 onwards"
   ]
  },
  {
   "cell_type": "code",
   "execution_count": null,
   "metadata": {
    "id": "pKLzEuQ6L7XO"
   },
   "outputs": [],
   "source": [
    "counts = counts.reset_index(drop = True)"
   ]
  },
  {
   "cell_type": "code",
   "execution_count": null,
   "metadata": {
    "id": "mINfL4PSL7XO",
    "outputId": "e9335762-566d-4f79-9383-cad42937276a"
   },
   "outputs": [
    {
     "data": {
      "text/html": [
       "<div>\n",
       "<style scoped>\n",
       "    .dataframe tbody tr th:only-of-type {\n",
       "        vertical-align: middle;\n",
       "    }\n",
       "\n",
       "    .dataframe tbody tr th {\n",
       "        vertical-align: top;\n",
       "    }\n",
       "\n",
       "    .dataframe thead th {\n",
       "        text-align: right;\n",
       "    }\n",
       "</style>\n",
       "<table border=\"1\" class=\"dataframe\">\n",
       "  <thead>\n",
       "    <tr style=\"text-align: right;\">\n",
       "      <th></th>\n",
       "      <th>drug</th>\n",
       "      <th>disease</th>\n",
       "      <th>gene_count</th>\n",
       "    </tr>\n",
       "  </thead>\n",
       "  <tbody>\n",
       "    <tr>\n",
       "      <th>0</th>\n",
       "      <td>Nintedanib</td>\n",
       "      <td>Jackson–Weiss syndrome</td>\n",
       "      <td>2</td>\n",
       "    </tr>\n",
       "    <tr>\n",
       "      <th>1</th>\n",
       "      <td>linifanib</td>\n",
       "      <td>acute myeloid leukemia</td>\n",
       "      <td>2</td>\n",
       "    </tr>\n",
       "    <tr>\n",
       "      <th>2</th>\n",
       "      <td>sunitinib</td>\n",
       "      <td>acute myeloid leukemia</td>\n",
       "      <td>2</td>\n",
       "    </tr>\n",
       "    <tr>\n",
       "      <th>3</th>\n",
       "      <td>crenolanib</td>\n",
       "      <td>acute myeloid leukemia</td>\n",
       "      <td>2</td>\n",
       "    </tr>\n",
       "    <tr>\n",
       "      <th>4</th>\n",
       "      <td>cediranib</td>\n",
       "      <td>acute myeloid leukemia</td>\n",
       "      <td>2</td>\n",
       "    </tr>\n",
       "  </tbody>\n",
       "</table>\n",
       "</div>"
      ],
      "text/plain": [
       "         drug                 disease  gene_count\n",
       "0  Nintedanib  Jackson–Weiss syndrome           2\n",
       "1   linifanib  acute myeloid leukemia           2\n",
       "2   sunitinib  acute myeloid leukemia           2\n",
       "3  crenolanib  acute myeloid leukemia           2\n",
       "4   cediranib  acute myeloid leukemia           2"
      ]
     },
     "execution_count": 19,
     "metadata": {},
     "output_type": "execute_result"
    }
   ],
   "source": [
    "counts.head()"
   ]
  },
  {
   "cell_type": "markdown",
   "metadata": {
    "id": "MA1tF9BUL7XO"
   },
   "source": [
    "---"
   ]
  },
  {
   "cell_type": "markdown",
   "metadata": {
    "id": "hQRuAfYSL7XP"
   },
   "source": [
    "## Add the genes used to link each (drug, disease) pair\n",
    "\n",
    "Now add another column containing the actual genes linking each (drug, disease) pair."
   ]
  },
  {
   "cell_type": "markdown",
   "metadata": {
    "id": "7v_GsO-dL7XP"
   },
   "source": [
    "### Create a dictionary containing the linking genes for each unique pair"
   ]
  },
  {
   "cell_type": "code",
   "execution_count": null,
   "metadata": {
    "id": "Xm-YXYYYL7XP"
   },
   "outputs": [],
   "source": [
    "linking_genes = dict()\n",
    "for (drug, disease), small_table in simple_table.groupby([\"drug\", \"disease\"]):\n",
    "    linking_genes[(drug, disease)] = list(small_table[\"gene\"])"
   ]
  },
  {
   "cell_type": "markdown",
   "metadata": {
    "id": "FZ59UNvOL7XP"
   },
   "source": [
    "### Example: retrieve the linking genes for (caffeine, obesity)"
   ]
  },
  {
   "cell_type": "code",
   "execution_count": null,
   "metadata": {
    "id": "zuGmvEwTL7XP",
    "outputId": "36e898d3-145e-447e-e8f9-0e0827c3b116"
   },
   "outputs": [
    {
     "ename": "KeyError",
     "evalue": "('Caffeine', 'obesity')",
     "output_type": "error",
     "traceback": [
      "\u001b[0;31m---------------------------------------------------------------------------\u001b[0m",
      "\u001b[0;31mKeyError\u001b[0m                                  Traceback (most recent call last)",
      "\u001b[0;32m<ipython-input-21-b358ff4592a3>\u001b[0m in \u001b[0;36m<module>\u001b[0;34m\u001b[0m\n\u001b[0;32m----> 1\u001b[0;31m \u001b[0mlinking_genes\u001b[0m\u001b[0;34m[\u001b[0m\u001b[0;34m(\u001b[0m\u001b[0;34m\"Caffeine\"\u001b[0m\u001b[0;34m,\u001b[0m \u001b[0;34m\"obesity\"\u001b[0m\u001b[0;34m)\u001b[0m\u001b[0;34m]\u001b[0m\u001b[0;34m\u001b[0m\u001b[0;34m\u001b[0m\u001b[0m\n\u001b[0m",
      "\u001b[0;31mKeyError\u001b[0m: ('Caffeine', 'obesity')"
     ]
    }
   ],
   "source": [
    "linking_genes[(\"Caffeine\", \"obesity\")]"
   ]
  },
  {
   "cell_type": "markdown",
   "metadata": {
    "id": "JAcIK7tgL7XP"
   },
   "source": [
    "### Make a new column containing the linking genes"
   ]
  },
  {
   "cell_type": "code",
   "execution_count": null,
   "metadata": {
    "id": "nYJg0J1mL7XQ"
   },
   "outputs": [],
   "source": [
    "counts[\"genes\"] = counts[[\"drug\", \"disease\"]].apply(\n",
    "    lambda row: linking_genes[(row[\"drug\"], row[\"disease\"])],\n",
    "    axis = 1\n",
    ")"
   ]
  },
  {
   "cell_type": "code",
   "execution_count": null,
   "metadata": {
    "id": "hf4yRns2L7XQ"
   },
   "outputs": [],
   "source": [
    "counts.head()"
   ]
  },
  {
   "cell_type": "markdown",
   "metadata": {
    "id": "Y48SqnKkL7XQ"
   },
   "source": [
    "## Save to file"
   ]
  },
  {
   "cell_type": "code",
   "execution_count": null,
   "metadata": {
    "id": "7g0Q1SoVL7XQ"
   },
   "outputs": [],
   "source": [
    "counts.to_csv(\"drug_disease_count.tsv\", sep = '\\t', index = False, encoding = 'utf-8')"
   ]
  },
  {
   "cell_type": "markdown",
   "metadata": {
    "id": "y7agmpsqL7XQ"
   },
   "source": [
    "---"
   ]
  },
  {
   "cell_type": "markdown",
   "metadata": {
    "id": "Dv8zzb7rL7XQ"
   },
   "source": [
    "## Make cytoscape file\n",
    "\n",
    "For the example query, the sorting based on shared gene count seems unsatisfying.  Now, lets look at all the results in a network view to see if any interesting patterns emerge that might shed some light on the data and how we might process it more effectively.  \n",
    "\n",
    "Below we will create a file suitable for loading into cytoscape.  It will contain the three edge types of interest, linking drugs to genes, diseases to genes, and drugs to diseases e.g.:\n",
    "\n",
    "source_node\tsource_type\tedge_type\ttarget_node\ttarget_type\n"
   ]
  },
  {
   "cell_type": "markdown",
   "metadata": {
    "id": "1b9ej8-FL7XQ"
   },
   "source": [
    "### Start with the drug and gene pairs"
   ]
  },
  {
   "cell_type": "code",
   "execution_count": null,
   "metadata": {
    "id": "Sc_t7gDAL7XR"
   },
   "outputs": [],
   "source": [
    "drug_gene_links = simple_table[[\"drug\", \"gene\"]]"
   ]
  },
  {
   "cell_type": "code",
   "execution_count": null,
   "metadata": {
    "id": "t3gQ7v3iL7XR",
    "outputId": "ebc512a1-6c86-4b6b-8ebd-6d7b1ac07f00"
   },
   "outputs": [
    {
     "data": {
      "text/html": [
       "<div>\n",
       "<style scoped>\n",
       "    .dataframe tbody tr th:only-of-type {\n",
       "        vertical-align: middle;\n",
       "    }\n",
       "\n",
       "    .dataframe tbody tr th {\n",
       "        vertical-align: top;\n",
       "    }\n",
       "\n",
       "    .dataframe thead th {\n",
       "        text-align: right;\n",
       "    }\n",
       "</style>\n",
       "<table border=\"1\" class=\"dataframe\">\n",
       "  <thead>\n",
       "    <tr style=\"text-align: right;\">\n",
       "      <th></th>\n",
       "      <th>drug</th>\n",
       "      <th>gene</th>\n",
       "    </tr>\n",
       "  </thead>\n",
       "  <tbody>\n",
       "    <tr>\n",
       "      <th>0</th>\n",
       "      <td>epinephrine</td>\n",
       "      <td>ADRA1D</td>\n",
       "    </tr>\n",
       "    <tr>\n",
       "      <th>1</th>\n",
       "      <td>norepinephrine</td>\n",
       "      <td>ADRA1D</td>\n",
       "    </tr>\n",
       "    <tr>\n",
       "      <th>2</th>\n",
       "      <td>clozapine</td>\n",
       "      <td>ADRA1D</td>\n",
       "    </tr>\n",
       "    <tr>\n",
       "      <th>3</th>\n",
       "      <td>terazosin</td>\n",
       "      <td>ADRA1D</td>\n",
       "    </tr>\n",
       "    <tr>\n",
       "      <th>4</th>\n",
       "      <td>indoramin</td>\n",
       "      <td>ADRA1D</td>\n",
       "    </tr>\n",
       "  </tbody>\n",
       "</table>\n",
       "</div>"
      ],
      "text/plain": [
       "             drug    gene\n",
       "0     epinephrine  ADRA1D\n",
       "1  norepinephrine  ADRA1D\n",
       "2       clozapine  ADRA1D\n",
       "3       terazosin  ADRA1D\n",
       "4       indoramin  ADRA1D"
      ]
     },
     "execution_count": 24,
     "metadata": {},
     "output_type": "execute_result"
    }
   ],
   "source": [
    "drug_gene_links.head()"
   ]
  },
  {
   "cell_type": "markdown",
   "metadata": {
    "id": "HiCIOh0jL7XR"
   },
   "source": [
    "### Rename the columns"
   ]
  },
  {
   "cell_type": "code",
   "execution_count": null,
   "metadata": {
    "id": "0ZsszgrzL7XR"
   },
   "outputs": [],
   "source": [
    "drug_gene_links = drug_gene_links.rename(columns = {\"drug\": \"source_node\", \"gene\": \"target_node\"})"
   ]
  },
  {
   "cell_type": "code",
   "execution_count": null,
   "metadata": {
    "id": "6HXJ7TWqL7XR",
    "outputId": "f6fb5df1-f37b-4a16-b907-9ccf41e58ceb"
   },
   "outputs": [
    {
     "data": {
      "text/html": [
       "<div>\n",
       "<style scoped>\n",
       "    .dataframe tbody tr th:only-of-type {\n",
       "        vertical-align: middle;\n",
       "    }\n",
       "\n",
       "    .dataframe tbody tr th {\n",
       "        vertical-align: top;\n",
       "    }\n",
       "\n",
       "    .dataframe thead th {\n",
       "        text-align: right;\n",
       "    }\n",
       "</style>\n",
       "<table border=\"1\" class=\"dataframe\">\n",
       "  <thead>\n",
       "    <tr style=\"text-align: right;\">\n",
       "      <th></th>\n",
       "      <th>source_node</th>\n",
       "      <th>target_node</th>\n",
       "    </tr>\n",
       "  </thead>\n",
       "  <tbody>\n",
       "    <tr>\n",
       "      <th>0</th>\n",
       "      <td>epinephrine</td>\n",
       "      <td>ADRA1D</td>\n",
       "    </tr>\n",
       "    <tr>\n",
       "      <th>1</th>\n",
       "      <td>norepinephrine</td>\n",
       "      <td>ADRA1D</td>\n",
       "    </tr>\n",
       "    <tr>\n",
       "      <th>2</th>\n",
       "      <td>clozapine</td>\n",
       "      <td>ADRA1D</td>\n",
       "    </tr>\n",
       "    <tr>\n",
       "      <th>3</th>\n",
       "      <td>terazosin</td>\n",
       "      <td>ADRA1D</td>\n",
       "    </tr>\n",
       "    <tr>\n",
       "      <th>4</th>\n",
       "      <td>indoramin</td>\n",
       "      <td>ADRA1D</td>\n",
       "    </tr>\n",
       "  </tbody>\n",
       "</table>\n",
       "</div>"
      ],
      "text/plain": [
       "      source_node target_node\n",
       "0     epinephrine      ADRA1D\n",
       "1  norepinephrine      ADRA1D\n",
       "2       clozapine      ADRA1D\n",
       "3       terazosin      ADRA1D\n",
       "4       indoramin      ADRA1D"
      ]
     },
     "execution_count": 26,
     "metadata": {},
     "output_type": "execute_result"
    }
   ],
   "source": [
    "drug_gene_links.head()"
   ]
  },
  {
   "cell_type": "markdown",
   "metadata": {
    "id": "cF7JfKbEL7XR"
   },
   "source": [
    "### Create a new column specifying the source node type"
   ]
  },
  {
   "cell_type": "code",
   "execution_count": null,
   "metadata": {
    "id": "0IPKMA2AL7XR"
   },
   "outputs": [],
   "source": [
    "drug_gene_links[\"source_type\"] = \"drug\""
   ]
  },
  {
   "cell_type": "code",
   "execution_count": null,
   "metadata": {
    "id": "JVtO9PWsL7XS",
    "outputId": "7e21c931-1243-41a5-e6cd-baafe497c7cc"
   },
   "outputs": [
    {
     "data": {
      "text/html": [
       "<div>\n",
       "<style scoped>\n",
       "    .dataframe tbody tr th:only-of-type {\n",
       "        vertical-align: middle;\n",
       "    }\n",
       "\n",
       "    .dataframe tbody tr th {\n",
       "        vertical-align: top;\n",
       "    }\n",
       "\n",
       "    .dataframe thead th {\n",
       "        text-align: right;\n",
       "    }\n",
       "</style>\n",
       "<table border=\"1\" class=\"dataframe\">\n",
       "  <thead>\n",
       "    <tr style=\"text-align: right;\">\n",
       "      <th></th>\n",
       "      <th>source_node</th>\n",
       "      <th>target_node</th>\n",
       "      <th>source_type</th>\n",
       "    </tr>\n",
       "  </thead>\n",
       "  <tbody>\n",
       "    <tr>\n",
       "      <th>0</th>\n",
       "      <td>epinephrine</td>\n",
       "      <td>ADRA1D</td>\n",
       "      <td>drug</td>\n",
       "    </tr>\n",
       "    <tr>\n",
       "      <th>1</th>\n",
       "      <td>norepinephrine</td>\n",
       "      <td>ADRA1D</td>\n",
       "      <td>drug</td>\n",
       "    </tr>\n",
       "    <tr>\n",
       "      <th>2</th>\n",
       "      <td>clozapine</td>\n",
       "      <td>ADRA1D</td>\n",
       "      <td>drug</td>\n",
       "    </tr>\n",
       "    <tr>\n",
       "      <th>3</th>\n",
       "      <td>terazosin</td>\n",
       "      <td>ADRA1D</td>\n",
       "      <td>drug</td>\n",
       "    </tr>\n",
       "    <tr>\n",
       "      <th>4</th>\n",
       "      <td>indoramin</td>\n",
       "      <td>ADRA1D</td>\n",
       "      <td>drug</td>\n",
       "    </tr>\n",
       "  </tbody>\n",
       "</table>\n",
       "</div>"
      ],
      "text/plain": [
       "      source_node target_node source_type\n",
       "0     epinephrine      ADRA1D        drug\n",
       "1  norepinephrine      ADRA1D        drug\n",
       "2       clozapine      ADRA1D        drug\n",
       "3       terazosin      ADRA1D        drug\n",
       "4       indoramin      ADRA1D        drug"
      ]
     },
     "execution_count": 28,
     "metadata": {},
     "output_type": "execute_result"
    }
   ],
   "source": [
    "drug_gene_links.head()"
   ]
  },
  {
   "cell_type": "markdown",
   "metadata": {
    "id": "xP-XedF8L7XS"
   },
   "source": [
    "### Create a new column containing the edge type"
   ]
  },
  {
   "cell_type": "code",
   "execution_count": null,
   "metadata": {
    "id": "Qit6gLOxL7XS"
   },
   "outputs": [],
   "source": [
    "drug_gene_links[\"edge_type\"] = \"interacts_with\""
   ]
  },
  {
   "cell_type": "code",
   "execution_count": null,
   "metadata": {
    "id": "Wi4o-6HYL7XS",
    "outputId": "b57fe4dc-e426-4663-b5f4-a1f4a2167df9"
   },
   "outputs": [
    {
     "data": {
      "text/html": [
       "<div>\n",
       "<style scoped>\n",
       "    .dataframe tbody tr th:only-of-type {\n",
       "        vertical-align: middle;\n",
       "    }\n",
       "\n",
       "    .dataframe tbody tr th {\n",
       "        vertical-align: top;\n",
       "    }\n",
       "\n",
       "    .dataframe thead th {\n",
       "        text-align: right;\n",
       "    }\n",
       "</style>\n",
       "<table border=\"1\" class=\"dataframe\">\n",
       "  <thead>\n",
       "    <tr style=\"text-align: right;\">\n",
       "      <th></th>\n",
       "      <th>source_node</th>\n",
       "      <th>target_node</th>\n",
       "      <th>source_type</th>\n",
       "      <th>edge_type</th>\n",
       "    </tr>\n",
       "  </thead>\n",
       "  <tbody>\n",
       "    <tr>\n",
       "      <th>0</th>\n",
       "      <td>epinephrine</td>\n",
       "      <td>ADRA1D</td>\n",
       "      <td>drug</td>\n",
       "      <td>interacts_with</td>\n",
       "    </tr>\n",
       "    <tr>\n",
       "      <th>1</th>\n",
       "      <td>norepinephrine</td>\n",
       "      <td>ADRA1D</td>\n",
       "      <td>drug</td>\n",
       "      <td>interacts_with</td>\n",
       "    </tr>\n",
       "    <tr>\n",
       "      <th>2</th>\n",
       "      <td>clozapine</td>\n",
       "      <td>ADRA1D</td>\n",
       "      <td>drug</td>\n",
       "      <td>interacts_with</td>\n",
       "    </tr>\n",
       "    <tr>\n",
       "      <th>3</th>\n",
       "      <td>terazosin</td>\n",
       "      <td>ADRA1D</td>\n",
       "      <td>drug</td>\n",
       "      <td>interacts_with</td>\n",
       "    </tr>\n",
       "    <tr>\n",
       "      <th>4</th>\n",
       "      <td>indoramin</td>\n",
       "      <td>ADRA1D</td>\n",
       "      <td>drug</td>\n",
       "      <td>interacts_with</td>\n",
       "    </tr>\n",
       "  </tbody>\n",
       "</table>\n",
       "</div>"
      ],
      "text/plain": [
       "      source_node target_node source_type       edge_type\n",
       "0     epinephrine      ADRA1D        drug  interacts_with\n",
       "1  norepinephrine      ADRA1D        drug  interacts_with\n",
       "2       clozapine      ADRA1D        drug  interacts_with\n",
       "3       terazosin      ADRA1D        drug  interacts_with\n",
       "4       indoramin      ADRA1D        drug  interacts_with"
      ]
     },
     "execution_count": 30,
     "metadata": {},
     "output_type": "execute_result"
    }
   ],
   "source": [
    "drug_gene_links.head()"
   ]
  },
  {
   "cell_type": "markdown",
   "metadata": {
    "id": "R5lq4eRFL7XS"
   },
   "source": [
    "### Create a new column containing the target type"
   ]
  },
  {
   "cell_type": "code",
   "execution_count": null,
   "metadata": {
    "id": "e4lnTd5fL7XS"
   },
   "outputs": [],
   "source": [
    "drug_gene_links[\"target_type\"] = \"gene\""
   ]
  },
  {
   "cell_type": "code",
   "execution_count": null,
   "metadata": {
    "id": "kxd6Mg0pL7XT",
    "outputId": "9d4c4329-414b-41bc-daac-625faf5eb83d"
   },
   "outputs": [
    {
     "data": {
      "text/html": [
       "<div>\n",
       "<style scoped>\n",
       "    .dataframe tbody tr th:only-of-type {\n",
       "        vertical-align: middle;\n",
       "    }\n",
       "\n",
       "    .dataframe tbody tr th {\n",
       "        vertical-align: top;\n",
       "    }\n",
       "\n",
       "    .dataframe thead th {\n",
       "        text-align: right;\n",
       "    }\n",
       "</style>\n",
       "<table border=\"1\" class=\"dataframe\">\n",
       "  <thead>\n",
       "    <tr style=\"text-align: right;\">\n",
       "      <th></th>\n",
       "      <th>source_node</th>\n",
       "      <th>target_node</th>\n",
       "      <th>source_type</th>\n",
       "      <th>edge_type</th>\n",
       "      <th>target_type</th>\n",
       "    </tr>\n",
       "  </thead>\n",
       "  <tbody>\n",
       "    <tr>\n",
       "      <th>0</th>\n",
       "      <td>epinephrine</td>\n",
       "      <td>ADRA1D</td>\n",
       "      <td>drug</td>\n",
       "      <td>interacts_with</td>\n",
       "      <td>gene</td>\n",
       "    </tr>\n",
       "    <tr>\n",
       "      <th>1</th>\n",
       "      <td>norepinephrine</td>\n",
       "      <td>ADRA1D</td>\n",
       "      <td>drug</td>\n",
       "      <td>interacts_with</td>\n",
       "      <td>gene</td>\n",
       "    </tr>\n",
       "    <tr>\n",
       "      <th>2</th>\n",
       "      <td>clozapine</td>\n",
       "      <td>ADRA1D</td>\n",
       "      <td>drug</td>\n",
       "      <td>interacts_with</td>\n",
       "      <td>gene</td>\n",
       "    </tr>\n",
       "    <tr>\n",
       "      <th>3</th>\n",
       "      <td>terazosin</td>\n",
       "      <td>ADRA1D</td>\n",
       "      <td>drug</td>\n",
       "      <td>interacts_with</td>\n",
       "      <td>gene</td>\n",
       "    </tr>\n",
       "    <tr>\n",
       "      <th>4</th>\n",
       "      <td>indoramin</td>\n",
       "      <td>ADRA1D</td>\n",
       "      <td>drug</td>\n",
       "      <td>interacts_with</td>\n",
       "      <td>gene</td>\n",
       "    </tr>\n",
       "  </tbody>\n",
       "</table>\n",
       "</div>"
      ],
      "text/plain": [
       "      source_node target_node source_type       edge_type target_type\n",
       "0     epinephrine      ADRA1D        drug  interacts_with        gene\n",
       "1  norepinephrine      ADRA1D        drug  interacts_with        gene\n",
       "2       clozapine      ADRA1D        drug  interacts_with        gene\n",
       "3       terazosin      ADRA1D        drug  interacts_with        gene\n",
       "4       indoramin      ADRA1D        drug  interacts_with        gene"
      ]
     },
     "execution_count": 32,
     "metadata": {},
     "output_type": "execute_result"
    }
   ],
   "source": [
    "drug_gene_links.head()"
   ]
  },
  {
   "cell_type": "markdown",
   "metadata": {
    "id": "V454ufxkL7XT"
   },
   "source": [
    "## Repeat for disease gene pairs"
   ]
  },
  {
   "cell_type": "code",
   "execution_count": null,
   "metadata": {
    "id": "rAe6Rs9VL7XT"
   },
   "outputs": [],
   "source": [
    "disease_gene_links = simple_table[[\"disease\", \"gene\"]]"
   ]
  },
  {
   "cell_type": "code",
   "execution_count": null,
   "metadata": {
    "id": "dMXMqv0vL7XT",
    "outputId": "d6ff9b44-123f-4057-ea8d-48e7a46f5e45"
   },
   "outputs": [
    {
     "data": {
      "text/html": [
       "<div>\n",
       "<style scoped>\n",
       "    .dataframe tbody tr th:only-of-type {\n",
       "        vertical-align: middle;\n",
       "    }\n",
       "\n",
       "    .dataframe tbody tr th {\n",
       "        vertical-align: top;\n",
       "    }\n",
       "\n",
       "    .dataframe thead th {\n",
       "        text-align: right;\n",
       "    }\n",
       "</style>\n",
       "<table border=\"1\" class=\"dataframe\">\n",
       "  <thead>\n",
       "    <tr style=\"text-align: right;\">\n",
       "      <th></th>\n",
       "      <th>disease</th>\n",
       "      <th>gene</th>\n",
       "    </tr>\n",
       "  </thead>\n",
       "  <tbody>\n",
       "    <tr>\n",
       "      <th>0</th>\n",
       "      <td>pre-eclampsia</td>\n",
       "      <td>ADRA1D</td>\n",
       "    </tr>\n",
       "    <tr>\n",
       "      <th>1</th>\n",
       "      <td>pre-eclampsia</td>\n",
       "      <td>ADRA1D</td>\n",
       "    </tr>\n",
       "    <tr>\n",
       "      <th>2</th>\n",
       "      <td>pre-eclampsia</td>\n",
       "      <td>ADRA1D</td>\n",
       "    </tr>\n",
       "    <tr>\n",
       "      <th>3</th>\n",
       "      <td>pre-eclampsia</td>\n",
       "      <td>ADRA1D</td>\n",
       "    </tr>\n",
       "    <tr>\n",
       "      <th>4</th>\n",
       "      <td>pre-eclampsia</td>\n",
       "      <td>ADRA1D</td>\n",
       "    </tr>\n",
       "  </tbody>\n",
       "</table>\n",
       "</div>"
      ],
      "text/plain": [
       "         disease    gene\n",
       "0  pre-eclampsia  ADRA1D\n",
       "1  pre-eclampsia  ADRA1D\n",
       "2  pre-eclampsia  ADRA1D\n",
       "3  pre-eclampsia  ADRA1D\n",
       "4  pre-eclampsia  ADRA1D"
      ]
     },
     "execution_count": 34,
     "metadata": {},
     "output_type": "execute_result"
    }
   ],
   "source": [
    "disease_gene_links.head()"
   ]
  },
  {
   "cell_type": "markdown",
   "metadata": {
    "id": "C5tZsJC_L7XT"
   },
   "source": [
    "## Rename the columns"
   ]
  },
  {
   "cell_type": "code",
   "execution_count": null,
   "metadata": {
    "id": "L0Y0apKNL7XT"
   },
   "outputs": [],
   "source": [
    "disease_gene_links = disease_gene_links.rename(columns = {\"disease\": \"source_node\", \"gene\": \"target_node\"})"
   ]
  },
  {
   "cell_type": "code",
   "execution_count": null,
   "metadata": {
    "id": "MmBf89c-L7XT",
    "outputId": "ee940d6b-1eb2-457c-e41c-23ac31af1bbb"
   },
   "outputs": [
    {
     "data": {
      "text/html": [
       "<div>\n",
       "<style scoped>\n",
       "    .dataframe tbody tr th:only-of-type {\n",
       "        vertical-align: middle;\n",
       "    }\n",
       "\n",
       "    .dataframe tbody tr th {\n",
       "        vertical-align: top;\n",
       "    }\n",
       "\n",
       "    .dataframe thead th {\n",
       "        text-align: right;\n",
       "    }\n",
       "</style>\n",
       "<table border=\"1\" class=\"dataframe\">\n",
       "  <thead>\n",
       "    <tr style=\"text-align: right;\">\n",
       "      <th></th>\n",
       "      <th>source_node</th>\n",
       "      <th>target_node</th>\n",
       "    </tr>\n",
       "  </thead>\n",
       "  <tbody>\n",
       "    <tr>\n",
       "      <th>0</th>\n",
       "      <td>pre-eclampsia</td>\n",
       "      <td>ADRA1D</td>\n",
       "    </tr>\n",
       "    <tr>\n",
       "      <th>1</th>\n",
       "      <td>pre-eclampsia</td>\n",
       "      <td>ADRA1D</td>\n",
       "    </tr>\n",
       "    <tr>\n",
       "      <th>2</th>\n",
       "      <td>pre-eclampsia</td>\n",
       "      <td>ADRA1D</td>\n",
       "    </tr>\n",
       "    <tr>\n",
       "      <th>3</th>\n",
       "      <td>pre-eclampsia</td>\n",
       "      <td>ADRA1D</td>\n",
       "    </tr>\n",
       "    <tr>\n",
       "      <th>4</th>\n",
       "      <td>pre-eclampsia</td>\n",
       "      <td>ADRA1D</td>\n",
       "    </tr>\n",
       "  </tbody>\n",
       "</table>\n",
       "</div>"
      ],
      "text/plain": [
       "     source_node target_node\n",
       "0  pre-eclampsia      ADRA1D\n",
       "1  pre-eclampsia      ADRA1D\n",
       "2  pre-eclampsia      ADRA1D\n",
       "3  pre-eclampsia      ADRA1D\n",
       "4  pre-eclampsia      ADRA1D"
      ]
     },
     "execution_count": 36,
     "metadata": {},
     "output_type": "execute_result"
    }
   ],
   "source": [
    "disease_gene_links.head()"
   ]
  },
  {
   "cell_type": "markdown",
   "metadata": {
    "id": "dIL2tCASL7XU"
   },
   "source": [
    "### Create the new columns"
   ]
  },
  {
   "cell_type": "code",
   "execution_count": null,
   "metadata": {
    "id": "Q4puxBZKL7XU"
   },
   "outputs": [],
   "source": [
    "disease_gene_links[\"source_type\"] = \"disease\"\n",
    "disease_gene_links[\"edge_type\"] = \"associated_with\"\n",
    "disease_gene_links[\"target_type\"] = \"gene\""
   ]
  },
  {
   "cell_type": "code",
   "execution_count": null,
   "metadata": {
    "id": "MEkcm0D0L7XU",
    "outputId": "56a79d0b-f3d9-45f0-8004-6f5da5d6860f"
   },
   "outputs": [
    {
     "data": {
      "text/html": [
       "<div>\n",
       "<style scoped>\n",
       "    .dataframe tbody tr th:only-of-type {\n",
       "        vertical-align: middle;\n",
       "    }\n",
       "\n",
       "    .dataframe tbody tr th {\n",
       "        vertical-align: top;\n",
       "    }\n",
       "\n",
       "    .dataframe thead th {\n",
       "        text-align: right;\n",
       "    }\n",
       "</style>\n",
       "<table border=\"1\" class=\"dataframe\">\n",
       "  <thead>\n",
       "    <tr style=\"text-align: right;\">\n",
       "      <th></th>\n",
       "      <th>source_node</th>\n",
       "      <th>target_node</th>\n",
       "      <th>source_type</th>\n",
       "      <th>edge_type</th>\n",
       "      <th>target_type</th>\n",
       "    </tr>\n",
       "  </thead>\n",
       "  <tbody>\n",
       "    <tr>\n",
       "      <th>0</th>\n",
       "      <td>pre-eclampsia</td>\n",
       "      <td>ADRA1D</td>\n",
       "      <td>disease</td>\n",
       "      <td>associated_with</td>\n",
       "      <td>gene</td>\n",
       "    </tr>\n",
       "    <tr>\n",
       "      <th>1</th>\n",
       "      <td>pre-eclampsia</td>\n",
       "      <td>ADRA1D</td>\n",
       "      <td>disease</td>\n",
       "      <td>associated_with</td>\n",
       "      <td>gene</td>\n",
       "    </tr>\n",
       "    <tr>\n",
       "      <th>2</th>\n",
       "      <td>pre-eclampsia</td>\n",
       "      <td>ADRA1D</td>\n",
       "      <td>disease</td>\n",
       "      <td>associated_with</td>\n",
       "      <td>gene</td>\n",
       "    </tr>\n",
       "    <tr>\n",
       "      <th>3</th>\n",
       "      <td>pre-eclampsia</td>\n",
       "      <td>ADRA1D</td>\n",
       "      <td>disease</td>\n",
       "      <td>associated_with</td>\n",
       "      <td>gene</td>\n",
       "    </tr>\n",
       "    <tr>\n",
       "      <th>4</th>\n",
       "      <td>pre-eclampsia</td>\n",
       "      <td>ADRA1D</td>\n",
       "      <td>disease</td>\n",
       "      <td>associated_with</td>\n",
       "      <td>gene</td>\n",
       "    </tr>\n",
       "  </tbody>\n",
       "</table>\n",
       "</div>"
      ],
      "text/plain": [
       "     source_node target_node source_type        edge_type target_type\n",
       "0  pre-eclampsia      ADRA1D     disease  associated_with        gene\n",
       "1  pre-eclampsia      ADRA1D     disease  associated_with        gene\n",
       "2  pre-eclampsia      ADRA1D     disease  associated_with        gene\n",
       "3  pre-eclampsia      ADRA1D     disease  associated_with        gene\n",
       "4  pre-eclampsia      ADRA1D     disease  associated_with        gene"
      ]
     },
     "execution_count": 38,
     "metadata": {},
     "output_type": "execute_result"
    }
   ],
   "source": [
    "disease_gene_links.head()"
   ]
  },
  {
   "cell_type": "code",
   "execution_count": null,
   "metadata": {
    "id": "ZZS562BtL7XU"
   },
   "outputs": [],
   "source": [
    "drug_disease_links = (simple_table\n",
    "    [[\"drug\", \"disease\"]]\n",
    "    .assign(\n",
    "        source_type = \"drug\",\n",
    "        edge_type = \"may treat\",\n",
    "        target_type = \"disease\"\n",
    "    )\n",
    "    .rename(columns = {\"drug\": \"source_node\", \"disease\": \"target_node\"})\n",
    ")"
   ]
  },
  {
   "cell_type": "markdown",
   "metadata": {
    "id": "jKOjE9dBL7XU"
   },
   "source": [
    "# Join the (disease, gene), (drug, gene), and (drug, disease) tables together"
   ]
  },
  {
   "cell_type": "markdown",
   "metadata": {
    "id": "crB1PgIDL7XU"
   },
   "source": [
    "### Number of rows of each table"
   ]
  },
  {
   "cell_type": "code",
   "execution_count": null,
   "metadata": {
    "id": "BUyII-cjL7XU",
    "outputId": "f92866ea-7ab6-4beb-f210-fba24239cf7d"
   },
   "outputs": [
    {
     "data": {
      "text/plain": [
       "1000"
      ]
     },
     "execution_count": 40,
     "metadata": {},
     "output_type": "execute_result"
    }
   ],
   "source": [
    "len(drug_gene_links)"
   ]
  },
  {
   "cell_type": "code",
   "execution_count": null,
   "metadata": {
    "id": "CQrPDHo4L7XV",
    "outputId": "e3137984-dc9a-465c-c1a2-403f8e3c1501"
   },
   "outputs": [
    {
     "data": {
      "text/plain": [
       "1000"
      ]
     },
     "execution_count": 41,
     "metadata": {},
     "output_type": "execute_result"
    }
   ],
   "source": [
    "len(disease_gene_links)"
   ]
  },
  {
   "cell_type": "code",
   "execution_count": null,
   "metadata": {
    "id": "R-7Aoai9L7XV",
    "outputId": "80f2abcb-4754-4875-8854-fea85c247dff"
   },
   "outputs": [
    {
     "data": {
      "text/plain": [
       "1000"
      ]
     },
     "execution_count": 42,
     "metadata": {},
     "output_type": "execute_result"
    }
   ],
   "source": [
    "len(drug_disease_links)"
   ]
  },
  {
   "cell_type": "markdown",
   "metadata": {
    "id": "QBpGWz4SL7XV"
   },
   "source": [
    "### Join all three tables together"
   ]
  },
  {
   "cell_type": "code",
   "execution_count": null,
   "metadata": {
    "id": "a607uPgRL7XV"
   },
   "outputs": [],
   "source": [
    "cytoscape_edges = pd.concat([drug_gene_links, disease_gene_links, drug_disease_links])"
   ]
  },
  {
   "cell_type": "code",
   "execution_count": null,
   "metadata": {
    "id": "yv4kWvTML7XV",
    "outputId": "04adc70f-ad10-4f9d-ba44-3ff402ec0a9b"
   },
   "outputs": [
    {
     "data": {
      "text/html": [
       "<div>\n",
       "<style scoped>\n",
       "    .dataframe tbody tr th:only-of-type {\n",
       "        vertical-align: middle;\n",
       "    }\n",
       "\n",
       "    .dataframe tbody tr th {\n",
       "        vertical-align: top;\n",
       "    }\n",
       "\n",
       "    .dataframe thead th {\n",
       "        text-align: right;\n",
       "    }\n",
       "</style>\n",
       "<table border=\"1\" class=\"dataframe\">\n",
       "  <thead>\n",
       "    <tr style=\"text-align: right;\">\n",
       "      <th></th>\n",
       "      <th>source_node</th>\n",
       "      <th>target_node</th>\n",
       "      <th>source_type</th>\n",
       "      <th>edge_type</th>\n",
       "      <th>target_type</th>\n",
       "    </tr>\n",
       "  </thead>\n",
       "  <tbody>\n",
       "    <tr>\n",
       "      <th>0</th>\n",
       "      <td>epinephrine</td>\n",
       "      <td>ADRA1D</td>\n",
       "      <td>drug</td>\n",
       "      <td>interacts_with</td>\n",
       "      <td>gene</td>\n",
       "    </tr>\n",
       "    <tr>\n",
       "      <th>1</th>\n",
       "      <td>norepinephrine</td>\n",
       "      <td>ADRA1D</td>\n",
       "      <td>drug</td>\n",
       "      <td>interacts_with</td>\n",
       "      <td>gene</td>\n",
       "    </tr>\n",
       "    <tr>\n",
       "      <th>2</th>\n",
       "      <td>clozapine</td>\n",
       "      <td>ADRA1D</td>\n",
       "      <td>drug</td>\n",
       "      <td>interacts_with</td>\n",
       "      <td>gene</td>\n",
       "    </tr>\n",
       "    <tr>\n",
       "      <th>3</th>\n",
       "      <td>terazosin</td>\n",
       "      <td>ADRA1D</td>\n",
       "      <td>drug</td>\n",
       "      <td>interacts_with</td>\n",
       "      <td>gene</td>\n",
       "    </tr>\n",
       "    <tr>\n",
       "      <th>4</th>\n",
       "      <td>indoramin</td>\n",
       "      <td>ADRA1D</td>\n",
       "      <td>drug</td>\n",
       "      <td>interacts_with</td>\n",
       "      <td>gene</td>\n",
       "    </tr>\n",
       "  </tbody>\n",
       "</table>\n",
       "</div>"
      ],
      "text/plain": [
       "      source_node target_node source_type       edge_type target_type\n",
       "0     epinephrine      ADRA1D        drug  interacts_with        gene\n",
       "1  norepinephrine      ADRA1D        drug  interacts_with        gene\n",
       "2       clozapine      ADRA1D        drug  interacts_with        gene\n",
       "3       terazosin      ADRA1D        drug  interacts_with        gene\n",
       "4       indoramin      ADRA1D        drug  interacts_with        gene"
      ]
     },
     "execution_count": 44,
     "metadata": {},
     "output_type": "execute_result"
    }
   ],
   "source": [
    "cytoscape_edges.head()"
   ]
  },
  {
   "cell_type": "code",
   "execution_count": null,
   "metadata": {
    "id": "L3-L_c7QL7XV",
    "outputId": "02c9374d-eaf1-4ffe-b4d0-d2c7cff97186"
   },
   "outputs": [
    {
     "data": {
      "text/plain": [
       "3000"
      ]
     },
     "execution_count": 45,
     "metadata": {},
     "output_type": "execute_result"
    }
   ],
   "source": [
    "len(cytoscape_edges)"
   ]
  },
  {
   "cell_type": "markdown",
   "metadata": {
    "id": "6el0_czNL7XV"
   },
   "source": [
    "Note that the final result has 1785 (= 595 * 3) rows. (595 was the original number of results returned)"
   ]
  },
  {
   "cell_type": "markdown",
   "metadata": {
    "id": "37chRUpgL7XW"
   },
   "source": [
    "### Reorder columns"
   ]
  },
  {
   "cell_type": "code",
   "execution_count": null,
   "metadata": {
    "id": "9NrK9oiBL7XW"
   },
   "outputs": [],
   "source": [
    "cytoscape_edges = cytoscape_edges[[\"source_node\", \"source_type\", \"edge_type\", \"target_node\", \"target_type\"]]"
   ]
  },
  {
   "cell_type": "code",
   "execution_count": null,
   "metadata": {
    "id": "Q1c5MshdL7XW",
    "outputId": "adf1afbd-e907-452d-d09d-66ae613cd758"
   },
   "outputs": [
    {
     "data": {
      "text/html": [
       "<div>\n",
       "<style scoped>\n",
       "    .dataframe tbody tr th:only-of-type {\n",
       "        vertical-align: middle;\n",
       "    }\n",
       "\n",
       "    .dataframe tbody tr th {\n",
       "        vertical-align: top;\n",
       "    }\n",
       "\n",
       "    .dataframe thead th {\n",
       "        text-align: right;\n",
       "    }\n",
       "</style>\n",
       "<table border=\"1\" class=\"dataframe\">\n",
       "  <thead>\n",
       "    <tr style=\"text-align: right;\">\n",
       "      <th></th>\n",
       "      <th>source_node</th>\n",
       "      <th>source_type</th>\n",
       "      <th>edge_type</th>\n",
       "      <th>target_node</th>\n",
       "      <th>target_type</th>\n",
       "    </tr>\n",
       "  </thead>\n",
       "  <tbody>\n",
       "    <tr>\n",
       "      <th>0</th>\n",
       "      <td>epinephrine</td>\n",
       "      <td>drug</td>\n",
       "      <td>interacts_with</td>\n",
       "      <td>ADRA1D</td>\n",
       "      <td>gene</td>\n",
       "    </tr>\n",
       "    <tr>\n",
       "      <th>1</th>\n",
       "      <td>norepinephrine</td>\n",
       "      <td>drug</td>\n",
       "      <td>interacts_with</td>\n",
       "      <td>ADRA1D</td>\n",
       "      <td>gene</td>\n",
       "    </tr>\n",
       "    <tr>\n",
       "      <th>2</th>\n",
       "      <td>clozapine</td>\n",
       "      <td>drug</td>\n",
       "      <td>interacts_with</td>\n",
       "      <td>ADRA1D</td>\n",
       "      <td>gene</td>\n",
       "    </tr>\n",
       "    <tr>\n",
       "      <th>3</th>\n",
       "      <td>terazosin</td>\n",
       "      <td>drug</td>\n",
       "      <td>interacts_with</td>\n",
       "      <td>ADRA1D</td>\n",
       "      <td>gene</td>\n",
       "    </tr>\n",
       "    <tr>\n",
       "      <th>4</th>\n",
       "      <td>indoramin</td>\n",
       "      <td>drug</td>\n",
       "      <td>interacts_with</td>\n",
       "      <td>ADRA1D</td>\n",
       "      <td>gene</td>\n",
       "    </tr>\n",
       "  </tbody>\n",
       "</table>\n",
       "</div>"
      ],
      "text/plain": [
       "      source_node source_type       edge_type target_node target_type\n",
       "0     epinephrine        drug  interacts_with      ADRA1D        gene\n",
       "1  norepinephrine        drug  interacts_with      ADRA1D        gene\n",
       "2       clozapine        drug  interacts_with      ADRA1D        gene\n",
       "3       terazosin        drug  interacts_with      ADRA1D        gene\n",
       "4       indoramin        drug  interacts_with      ADRA1D        gene"
      ]
     },
     "execution_count": 47,
     "metadata": {},
     "output_type": "execute_result"
    }
   ],
   "source": [
    "cytoscape_edges.head()"
   ]
  },
  {
   "cell_type": "markdown",
   "metadata": {
    "id": "sLyucXOCL7XW"
   },
   "source": [
    "## Save file to disk"
   ]
  },
  {
   "cell_type": "code",
   "execution_count": null,
   "metadata": {
    "id": "B7-KExF9L7XW"
   },
   "outputs": [],
   "source": [
    "cytoscape_edges.to_csv(\"drug_gene_disease_network.txt\", sep = '\\t', index = False, encoding = 'utf-8')"
   ]
  },
  {
   "cell_type": "markdown",
   "metadata": {
    "id": "asChOox_L7XW"
   },
   "source": [
    "#open a new network in cytoscape and load the file by: File..Import..Network\n",
    "#use Cytoscape to develop a visualization \n",
    "#submit the tab-delimited output files, an image of your network, and an explanation of what you did as your assignment\n",
    "#Are there any notable hubs in the network?\n",
    "#Could you extend the code to identify them automatically?\n",
    "#can you adapt the code to search for a specific drug or a specific disease?"
   ]
  },
  {
   "cell_type": "code",
   "execution_count": null,
   "metadata": {
    "id": "IR43MGH6L7XZ"
   },
   "outputs": [],
   "source": []
  }
 ],
 "metadata": {
  "colab": {
   "collapsed_sections": [
    "cfLxNZ4rL7XL",
    "PEniRNpML7XM",
    "FVNCdoNsL7XN",
    "H0yz3-8XL7XN",
    "W3qxlhVxL7XO",
    "7v_GsO-dL7XP",
    "FZ59UNvOL7XP",
    "JAcIK7tgL7XP",
    "1b9ej8-FL7XQ",
    "HiCIOh0jL7XR",
    "cF7JfKbEL7XR",
    "xP-XedF8L7XS",
    "R5lq4eRFL7XS",
    "dIL2tCASL7XU",
    "crB1PgIDL7XU",
    "QBpGWz4SL7XV",
    "37chRUpgL7XW"
   ],
   "name": "SPARQL_pandas.ipynb",
   "provenance": []
  },
  "kernelspec": {
   "display_name": "Python 3 (ipykernel)",
   "language": "python",
   "name": "python3"
  },
  "language_info": {
   "codemirror_mode": {
    "name": "ipython",
    "version": 3
   },
   "file_extension": ".py",
   "mimetype": "text/x-python",
   "name": "python",
   "nbconvert_exporter": "python",
   "pygments_lexer": "ipython3",
   "version": "3.9.10"
  }
 },
 "nbformat": 4,
 "nbformat_minor": 1
}
