{
 "cells": [
  {
   "cell_type": "markdown",
   "metadata": {},
   "source": [
    "# Querying Wikidata using SPARQL\n",
    "\n",
    "[Wikidata](https://www.wikidata.org) is a collaboratively edited multilingual knowledge graph hosted by the [Wikimedia Foundation](https://www.wikimedia.org/). It is a common source of open data that Wikimedia projects such as Wikipedia can use, and anyone else, under a public domain license. \n",
    "\n",
    "\n",
    "Wikidata is ...\n",
    "- a Wikimedia projectlike Wikipedia and Wikimedia Commons;represented and supported by the Wikimedia Foundation (WMF)\n",
    "- a datasetthat can be downloaded and freely used and distributed\n",
    "- a websitethrough which the data can be viewed and modified\n",
    "- a communityof volunteer editors that creates and controls all content\n",
    "\n",
    "The used data model is the [Resource Description Framework](https://www.w3schools.com/xml/xml_rdf.asp). "
   ]
  },
  {
   "cell_type": "markdown",
   "metadata": {},
   "source": [
    "The Resource Description Framework (RDF) is a framework for **semantic data** used to represent information about resources in form of a graph. \n",
    "\n",
    "Semantic Data Model. A method of organizing data that reflects the basic meaning of data items and the relationships among them.\n",
    "\n",
    "![](https://study.com/cimages/multimages/16/0e671e99-7522-4ad4-80ee-14b3c0d0c2ac_semantic_model_example.png)\n",
    "\n",
    "\n",
    "![](https://www.w3.org/TR/rdf11-primer/example-graph.jpg)"
   ]
  },
  {
   "cell_type": "markdown",
   "metadata": {},
   "source": [
    "## Wikidata Item\n",
    "\n",
    "<img src=https://upload.wikimedia.org/wikipedia/commons/a/ae/Datamodel_in_Wikidata.svg width=800 />\n",
    "\n",
    "<img src=https://i.imgur.com/uvry9a5.png width=500>\n",
    "\n",
    "\n",
    "### Items and their data are interconnected.\n",
    "\n",
    "![](https://upload.wikimedia.org/wikipedia/commons/6/60/Linked_Data_-_San_Francisco.svg)\n",
    "\n",
    "\n",
    "## Inference\n",
    "\n",
    "The process of inference involves the automated discovery of new facts based on a combination of data and rules for understanding that data. Inference is the process of inferring or discovering new facts about your data based on a set of rules. Inference with semantic triples means that automatic procedures can generate new relationships (new facts) from existing triples.\n",
    "\n",
    "```\n",
    "All men are mortal.\n",
    "\n",
    "Socrates is a man.\n",
    "\n",
    "——–\n",
    "\n",
    "Therefore, Socrates is mortal.\n",
    "```\n",
    "\n",
    "\n",
    "## SPARQL\n",
    "\n",
    "SPARQL is an RDF query language—that is, a semantic query language for databases—able to retrieve and manipulate data stored in Resource Description Framework format.\n",
    "\n",
    "\n",
    "```\n",
    "SERVICE wikibase:label { bd:serviceParam wikibase:language \"[AUTO_LANGUAGE]\". }\n",
    "```"
   ]
  },
  {
   "cell_type": "markdown",
   "metadata": {},
   "source": [
    "### For Practice:\n",
    "\n",
    "Players who represented indian cricket team as well as CSK.\n",
    "\n",
    "Female cricketers who have won Arjuna Award.\n",
    "\n",
    "Father-son who have played cricket.\n",
    "\n",
    "List of states in india by order of population\n",
    "\n",
    "List all descendants of mahatama gandhi\n",
    "\n",
    "List countries in order of no. of noble prize winners"
   ]
  },
  {
   "cell_type": "markdown",
   "metadata": {},
   "source": [
    "## References\n",
    "\n",
    "- [Wikidata Query Service](https://query.wikidata.org/)\n",
    "- [Wikidata SPARQL](https://www.wikidata.org/wiki/Wikidata:SPARQL_tutorial)"
   ]
  },
  {
   "cell_type": "code",
   "execution_count": null,
   "metadata": {},
   "outputs": [],
   "source": []
  }
 ],
 "metadata": {
  "kernelspec": {
   "display_name": "Python 3 (ipykernel)",
   "language": "python",
   "name": "python3"
  },
  "language_info": {
   "codemirror_mode": {
    "name": "ipython",
    "version": 3
   },
   "file_extension": ".py",
   "mimetype": "text/x-python",
   "name": "python",
   "nbconvert_exporter": "python",
   "pygments_lexer": "ipython3",
   "version": "3.9.10"
  }
 },
 "nbformat": 4,
 "nbformat_minor": 4
}
