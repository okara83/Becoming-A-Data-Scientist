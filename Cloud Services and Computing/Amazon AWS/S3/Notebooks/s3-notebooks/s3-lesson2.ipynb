{
 "cells": [
  {
   "cell_type": "code",
   "execution_count": null,
   "id": "phantom-watson",
   "metadata": {},
   "outputs": [],
   "source": [
    "import logging\n",
    "import boto3\n",
    "from botocore.exceptions import ClientError\n",
    "import zipfile"
   ]
  },
  {
   "cell_type": "markdown",
   "id": "palestinian-accordance",
   "metadata": {},
   "source": [
    "# Creating a New Bucket"
   ]
  },
  {
   "cell_type": "code",
   "execution_count": null,
   "id": "completed-inspection",
   "metadata": {},
   "outputs": [],
   "source": [
    "def create_bucket(bucket_name, region=None):\n",
    "    \"\"\"Create an S3 bucket in a specified region\n",
    "\n",
    "    If a region is not specified, the bucket is created in the S3 default\n",
    "    region (us-east-1).\n",
    "\n",
    "    :param bucket_name: Bucket to create\n",
    "    :param region: String region to create bucket in, e.g., 'us-west-2'\n",
    "    :return: True if bucket created, else False\n",
    "    \"\"\"\n",
    "\n",
    "    # Create bucket\n",
    "    try:\n",
    "        if region is None:\n",
    "            s3_client = boto3.client('s3')\n",
    "            s3_client.create_bucket(Bucket=bucket_name)\n",
    "        else:\n",
    "            s3_client = boto3.client('s3', region_name=region)\n",
    "            location = {'LocationConstraint': region}\n",
    "            s3_client.create_bucket(Bucket=bucket_name,\n",
    "                                    CreateBucketConfiguration=location)\n",
    "    except ClientError as e:\n",
    "        logging.error(e)\n",
    "        return False\n",
    "    return True"
   ]
  },
  {
   "cell_type": "code",
   "execution_count": null,
   "id": "suspected-screen",
   "metadata": {},
   "outputs": [],
   "source": [
    "create_bucket(\"mytestbuckettraining1\",region='us-west-1')"
   ]
  },
  {
   "cell_type": "code",
   "execution_count": null,
   "id": "resistant-spider",
   "metadata": {},
   "outputs": [],
   "source": []
  },
  {
   "cell_type": "markdown",
   "id": "sufficient-progressive",
   "metadata": {},
   "source": [
    "# Reading the first csv file and store it in an RDD"
   ]
  },
  {
   "cell_type": "code",
   "execution_count": null,
   "id": "medieval-yield",
   "metadata": {},
   "outputs": [],
   "source": [
    "import io\n",
    "\n",
    "\n",
    "class S3File(io.RawIOBase):\n",
    "    def __init__(self, s3_object):\n",
    "        self.s3_object = s3_object\n",
    "        self.position = 0\n",
    "\n",
    "    def __repr__(self):\n",
    "        return \"<%s s3_object=%r>\" % (type(self).__name__, self.s3_object)\n",
    "\n",
    "    @property\n",
    "    def size(self):\n",
    "        return self.s3_object.content_length\n",
    "\n",
    "    def tell(self):\n",
    "        return self.position\n",
    "\n",
    "    def seek(self, offset, whence=io.SEEK_SET):\n",
    "        if whence == io.SEEK_SET:\n",
    "            self.position = offset\n",
    "        elif whence == io.SEEK_CUR:\n",
    "            self.position += offset\n",
    "        elif whence == io.SEEK_END:\n",
    "            self.position = self.size + offset\n",
    "        else:\n",
    "            raise ValueError(\"invalid whence (%r, should be %d, %d, %d)\" % (\n",
    "                whence, io.SEEK_SET, io.SEEK_CUR, io.SEEK_END\n",
    "            ))\n",
    "\n",
    "        return self.position\n",
    "\n",
    "    def seekable(self):\n",
    "        return True\n",
    "\n",
    "    def read(self, size=-1):\n",
    "        if size == -1:\n",
    "            # Read to the end of the file\n",
    "            range_header = \"bytes=%d-\" % self.position\n",
    "            self.seek(offset=0, whence=io.SEEK_END)\n",
    "        else:\n",
    "            new_position = self.position + size\n",
    "\n",
    "            # If we're going to read beyond the end of the object, return\n",
    "            # the entire object.\n",
    "            if new_position >= self.size:\n",
    "                return self.read()\n",
    "\n",
    "            range_header = \"bytes=%d-%d\" % (self.position, new_position - 1)\n",
    "            self.seek(offset=size, whence=io.SEEK_CUR)\n",
    "\n",
    "        return self.s3_object.get(Range=range_header)[\"Body\"].read()\n",
    "\n",
    "    def readable(self):\n",
    "        return True"
   ]
  },
  {
   "cell_type": "markdown",
   "id": "shared-communications",
   "metadata": {},
   "source": [
    "removing the first row as it contains the header"
   ]
  },
  {
   "cell_type": "code",
   "execution_count": null,
   "id": "urban-converter",
   "metadata": {},
   "outputs": [],
   "source": [
    "if __name__ == \"__main__\":\n",
    "    s3 = boto3.resource(\"s3\")\n",
    "    s3_object = s3.Object(bucket_name=\"bmsorganic\", key=\"bms-molecular-translation.zip\")\n",
    "    s3_file = S3File(s3_object)\n",
    "    with zipfile.ZipFile(s3_file) as zf:\n",
    "        print(zf.namelist())"
   ]
  },
  {
   "cell_type": "markdown",
   "id": "double-morris",
   "metadata": {},
   "source": []
  }
 ],
 "metadata": {
  "kernelspec": {
   "display_name": "Python 3",
   "language": "python",
   "name": "python3"
  },
  "language_info": {
   "codemirror_mode": {
    "name": "ipython",
    "version": 3
   },
   "file_extension": ".py",
   "mimetype": "text/x-python",
   "name": "python",
   "nbconvert_exporter": "python",
   "pygments_lexer": "ipython3",
   "version": "3.8.2"
  }
 },
 "nbformat": 4,
 "nbformat_minor": 5
}
