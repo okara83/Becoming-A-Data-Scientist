{
 "cells": [
  {
   "cell_type": "markdown",
   "id": "6320476a",
   "metadata": {},
   "source": [
    "# Store API Credentials Easily and Securely in Jupyter Notebooks\n",
    "\n",
    "Keep your credentials securely stored on your own machine and pull them into your notebook through a dialog window:\n"
   ]
  },
  {
   "cell_type": "markdown",
   "id": "67a871ea",
   "metadata": {},
   "source": [
    "Some scripts rely on pulling raw data from APIs provided by some data partner, and then pushing the data to a data warehouse on AWS. These resources require login credentials, which I do not want to share with the public for obvious reasons. So how can I store these credentials in a separate file, hidden on my local drive, and automatically import them into a Python script without exposing the name or the location of my credentials file?\n",
    "Here is the simplest solution that I found. First, create a credentials file in a text or JSON format. I prefer JSON because it is easy to read and parse in Python. A JSON format is really just a Python dictionary file using double quotes, not single quotes, around the key and value names.<br><br> This is what it would look like:\n",
    "```{\"data_api_username\":\"johndoe\",\n",
    "\"data_api_key\":\"123asdaw2#$\",\n",
    "\"aws_access_key\":\"there'sAladyWHO'SsureALLthatGLITTERSisGOLD\",\n",
    "\"aws_secret_key\":\"ANDshe'sBUYINGaSTAIRWAYtoHEAVEN\"\n",
    "}```"
   ]
  },
  {
   "cell_type": "markdown",
   "id": "c4af592c",
   "metadata": {},
   "source": [
    "Then give it a appropriate file name. Most people use something like 'credentials.json'. But you could call it anything, even “myfavoritesongs.json”, if you wanted to hide it from a potential hacker.\n",
    "Normally, you would use the Python Open function to grab this file. But then you have to expose the file path in your code. Instead, you could use a GUI package included in Python called Tkinter. Within Tkinter, the FileDialog module allows you to open a window to select a file.\n",
    "Here is the code you could use if you are running Jupyter from your local machine:"
   ]
  },
  {
   "cell_type": "raw",
   "id": "ec3d8cfa",
   "metadata": {},
   "source": [
    "from tkinter import *\n",
    "from tkinter import filedialog\n",
    "from tkinter import Tk\n",
    "import json\n",
    "\n",
    "\\# Quickly get rid of the root window popup>\n",
    "root = Tk()\n",
    "root.withdraw()\n",
    "\n",
    "\\# Use Filedialog.askopenfilename to open a dialog window where you can select your credentials file.\n",
    "filepath = filedialog.askopenfilename()\n",
    "file = open(filepath, 'r')\n",
    "\n",
    "\\# Open the credentials file with json.load\n",
    "credentials = json.load(file)\n",
    "file.close()\n",
    "\n",
    "\\# Do something with credentials, or\n",
    "print(credentials)\n",
    "\n",
    "\\# Use Python list comprehension to save each credential to a separate variable.\n",
    "username = list(credentials.values())[0]\n",
    "api_key = list(credentials.values())[1]\n",
    "aws_access_key = list(credentials.values())[2]\n",
    "aws_secret_key = list(credentials.values())[3]\n",
    "\n",
    "print(\"username:\", username)\n",
    "print(\"api key:\", api_key)\n",
    "print(\"aws key:\", aws_access_key)\n",
    "print(\"aws secret key:\", aws_secret_key)"
   ]
  },
  {
   "cell_type": "code",
   "execution_count": null,
   "id": "899104f4",
   "metadata": {},
   "outputs": [],
   "source": []
  },
  {
   "cell_type": "code",
   "execution_count": null,
   "id": "b7f97163",
   "metadata": {},
   "outputs": [],
   "source": []
  },
  {
   "cell_type": "markdown",
   "id": "d6eb9b34",
   "metadata": {},
   "source": [
    "Or if you are running your Jupyter notebook from Google Colab, the process is slightly different, but just as easy. Here is the code you could use for that platform:\n"
   ]
  },
  {
   "cell_type": "code",
   "execution_count": 1,
   "id": "9824ec81",
   "metadata": {},
   "outputs": [
    {
     "ename": "NameError",
     "evalue": "name 'files' is not defined",
     "output_type": "error",
     "traceback": [
      "\u001b[0;31m---------------------------------------------------------------------------\u001b[0m",
      "\u001b[0;31mNameError\u001b[0m                                 Traceback (most recent call last)",
      "\u001b[0;32m/var/folders/sd/1vc_q83x5rn9jjrd0x47_cc00000gn/T/ipykernel_48933/1139291012.py\u001b[0m in \u001b[0;36m<module>\u001b[0;34m\u001b[0m\n\u001b[1;32m      4\u001b[0m \u001b[0;34m\u001b[0m\u001b[0m\n\u001b[1;32m      5\u001b[0m \u001b[0;31m# Use files.upload to produce the \"Choose Files\" button below, then select your file.\u001b[0m\u001b[0;34m\u001b[0m\u001b[0;34m\u001b[0m\u001b[0m\n\u001b[0;32m----> 6\u001b[0;31m \u001b[0muploaded\u001b[0m \u001b[0;34m=\u001b[0m \u001b[0mfiles\u001b[0m\u001b[0;34m.\u001b[0m\u001b[0mupload\u001b[0m\u001b[0;34m(\u001b[0m\u001b[0;34m)\u001b[0m\u001b[0;34m\u001b[0m\u001b[0;34m\u001b[0m\u001b[0m\n\u001b[0m\u001b[1;32m      7\u001b[0m \u001b[0;34m\u001b[0m\u001b[0m\n\u001b[1;32m      8\u001b[0m \u001b[0;31m# Use io.BytesIO to decode the file, then json.load to open it.\u001b[0m\u001b[0;34m\u001b[0m\u001b[0;34m\u001b[0m\u001b[0m\n",
      "\u001b[0;31mNameError\u001b[0m: name 'files' is not defined"
     ]
    }
   ],
   "source": [
    "# from google.colab import files\n",
    "import io\n",
    "import json\n",
    "\n",
    "# Use files.upload to produce the \"Choose Files\" button below, then select your file.\n",
    "uploaded = files.upload()\n",
    "\n",
    "# Use io.BytesIO to decode the file, then json.load to open it.\n",
    "file = io.BytesIO(uploaded['sample_credentials.json'])\n",
    "credentials = json.load(file)\n",
    "\n",
    "# Do something with the credentials.\n",
    "print(credentials)"
   ]
  },
  {
   "cell_type": "markdown",
   "id": "a57384db",
   "metadata": {},
   "source": [
    "This module will produce a 'Choose File' button right inside the Colab notebook cell, like this:"
   ]
  },
  {
   "cell_type": "markdown",
   "id": "5c9b8f1a",
   "metadata": {},
   "source": [
    "<img src=\"choosefile.png\">"
   ]
  },
  {
   "cell_type": "code",
   "execution_count": null,
   "id": "d119f44e",
   "metadata": {},
   "outputs": [],
   "source": []
  }
 ],
 "metadata": {
  "kernelspec": {
   "display_name": "Python 3 (ipykernel)",
   "language": "python",
   "name": "python3"
  },
  "language_info": {
   "codemirror_mode": {
    "name": "ipython",
    "version": 3
   },
   "file_extension": ".py",
   "mimetype": "text/x-python",
   "name": "python",
   "nbconvert_exporter": "python",
   "pygments_lexer": "ipython3",
   "version": "3.9.9"
  }
 },
 "nbformat": 4,
 "nbformat_minor": 5
}
