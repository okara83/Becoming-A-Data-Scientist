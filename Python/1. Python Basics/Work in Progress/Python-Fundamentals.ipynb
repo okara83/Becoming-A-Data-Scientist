{
 "cells": [
  {
   "cell_type": "code",
   "execution_count": 1,
   "metadata": {},
   "outputs": [
    {
     "data": {
      "text/html": [
       "<style>.container { width:100% !important; }</style>"
      ],
      "text/plain": [
       "<IPython.core.display.HTML object>"
      ]
     },
     "metadata": {},
     "output_type": "display_data"
    }
   ],
   "source": [
    "\"Beginners, ignore this first cell\"\n",
    "from IPython.display import display, HTML\n",
    "display(HTML(\"<style>.container { width:100% !important; }</style>\"))"
   ]
  },
  {
   "cell_type": "markdown",
   "metadata": {},
   "source": [
    "***"
   ]
  },
  {
   "cell_type": "markdown",
   "metadata": {},
   "source": [
    "<div class=\"alert alert-block alert-warning\"><center>\n",
    "<span style=\"font-size: 34px;\">Python Primer</span></div>"
   ]
  },
  {
   "cell_type": "markdown",
   "metadata": {},
   "source": [
    "<ul id=\"markdown-toc\"> <li>1. Python</li> <li>2. Python versions</li> <li>3. Python style guide</li> <li>4. Python notebooks: Jupyter and Colab</li> <li>5. The Zen of Python</li> <li>6. Indentation</li> <li>7. Code comments</li> <li>8. Variables</li> <li>9. Print function</li> <li>10. Input function</li> <li>11. Order of operations</li> <li> 12. Basic data types <ul> <li> a. Numbers </li> <ul><li>Use Underscores to Format Large Numbers</li> </ul> <li>b. Booleans</li> <li>c. Strings <ul> <li>String formatting <ul> <li>Old style/pre-Python 2.6</li> <li>New style/Python 2.6</li> <li>f-strings</li> </ul> </li> <li>Padding and aligning strings</li> <li>Truncating long strings</li> <li>Combining truncating and padding</li> <li>Numbers</li> <li>Padding numbers</li> <li>Index of a Substring in a Python String</li> <li>Replace One String with Another String Using Regular Expressions</li> </ul> </li> </ul> </li> <li>13. Containers <ul> <li> a. Lists <ul> <li>Iterate over a list</li> <li>List comprehensions <ul> <li>From loops to comprehensions</li> <li>Nested Loops</li> </ul> </li> <li>Slicing</li> <li>List functions</li> </ul> </li> <li> b. Dictionaries <ul> <li>Accessing a non-existent key</li> <li><code class=\"language-plaintext highlighter-rouge\">&lt;dict&gt;.get()</code></li> <li><code class=\"language-plaintext highlighter-rouge\">defaultdict</code></li> <li>Key membership check</li> <li>Iterating over keys</li> <li><code class=\"language-plaintext highlighter-rouge\">del</code></li> <li>Key datatypes</li> <li>Iterate over a dictionary</li> <li>Dictionary comprehensions</li> </ul> </li> <li> c. Sets <ul> <li>Set operations</li> <li>Iterating over a set</li> <li>Set comprehensions</li> </ul> </li> <li> d. Tuples</li> </ul> </li> <li>14. Type hinting <ul> <li>Type aliases</li> <li>Any</li> <li>Tuple</li> <li>List</li> <li>Union</li> <li>Optional</li> </ul> </li> <li>15. Control flow <ul> <li><code class=\"language-plaintext highlighter-rouge\">if</code> statement <ul> <li>Conditional expression</li> </ul> </li> <li><code class=\"language-plaintext highlighter-rouge\">for</code> loop <ul> <li><code class=\"language-plaintext highlighter-rouge\">else</code> clause</li> </ul> </li> <li><code class=\"language-plaintext highlighter-rouge\">while</code> loop</li> </ul> </li> <li>16. Lambda functions <ul> <li>Lambda function use-cases</li> <li>The pros and cons of lambda functions</li> <li>Misuse and overuse scenarios <ul> <li>Misuse: naming lambda expressions</li> <li>Misuse: needless function calls</li> <li>Overuse: simple, but non-trivial functions</li> <li>Overuse: when multiple lines would help</li> <li>Overuse: lambda with map and filter</li> <li>Misuse: sometimes you don’t even need to pass a function</li> <li>Overuse: using lambda for very simple operations</li> <li>Overuse: when higher order functions add confusion</li> </ul> </li> </ul> </li> <li>17. The Iterator Protocol: How <code class=\"language-plaintext highlighter-rouge\">for</code> loops work in Python <ul> <li>Looping with indexes</li> <li>Iterables</li> <li>Iterators</li> <li>Iterators are also iterables</li> <li>The Iterator Protocol</li> <li>Looping with iterators</li> <li>Putting it all together</li> <li>Creating a custom iterator <ul> <li>Why make an iterator?</li> <li>Making an iterator: the object-oriented way</li> </ul> </li> </ul> </li> <li>18.Generators <ul> <li>Generator functions</li> <li> Generator expressions</li> <li>Generator expressions vs. generator functions</li> </ul> </li> <li>19. Decorators</li> <li>20. Functions</li> <li>21. Nested functions <ul> <li>Defining a nonlocal variable in a nested function using <code class=\"language-plaintext highlighter-rouge\">nonlocal</code></li> <li>Closure</li> <li>Defining a global variable using <code class=\"language-plaintext highlighter-rouge\">global</code></li> </ul> </li> <li>22. File I/O <ul> <li>Files</li>  <li> Opening Files in Python</li> <ul> <li>Closing Files in Python</li> <li>Writing to Files in Python</li> <li>Reading Files in Python <ul> <li><code class=\"language-plaintext highlighter-rouge\">read()</code></li> <li><code class=\"language-plaintext highlighter-rouge\">for</code> loop</li> <li><code class=\"language-plaintext highlighter-rouge\">readline()</code></li> <li><code class=\"language-plaintext highlighter-rouge\">readlines()</code></li> </ul> </li> <li>Python File Methods</li> </ul> </li> <li>23. Magic methods <ul> <li>Common magic methods <ul> <li>Construction and initialization</li> <li>Comparison magic methods</li> <li>Numeric magic methods <ul> <li>Unary operators and functions</li> <li>Normal arithmetic operators</li> </ul> </li> </ul> </li> <li>Creating custom sequences <ul> <li>Requirements</li> <li>The magic behind containers</li> <li>Example</li> </ul> </li> <li>Making operators work on custom classes</li> <li>Common magic methods scenarios</li> </ul> </li> <li>24. Exceptions <ul> <li>Exception handling</li> <li>Multiple <code class=\"language-plaintext highlighter-rouge\">except</code> clauses</li> <li>Custom exceptions</li> <li>Clean-up actions (<code class=\"language-plaintext highlighter-rouge\">try</code> ... <code class=\"language-plaintext highlighter-rouge\">finally</code>)</li> <li>Combining <code class=\"language-plaintext highlighter-rouge\">try</code>, <code class=\"language-plaintext highlighter-rouge\">except</code> and <code class=\"language-plaintext highlighter-rouge\">finally</code></li> <li>Handle exceptions with a <code class=\"language-plaintext highlighter-rouge\">try/except</code> block</li> <li><code class=\"language-plaintext highlighter-rouge\">else</code> clause</li> <li><code class=\"language-plaintext highlighter-rouge\">with</code> statement</li> <li>Handling nested exceptions</li> <li>Built-in exceptions</li> </ul> </li> <li>25. Modules <ul> <li>Modules vs. Packages</li> </ul> </li> <li>26. Classes <ul> <li>Inheritance <ul> <li>Multiple inheritance</li> </ul> </li> </ul> </li> <li>27. Selected built-ins <ul> <li><code class=\"language-plaintext highlighter-rouge\">any</code>/<code class=\"language-plaintext highlighter-rouge\">all</code></li> <li><code class=\"language-plaintext highlighter-rouge\">dir</code></li> <li><code class=\"language-plaintext highlighter-rouge\">eval</code></li> <li><code class=\"language-plaintext highlighter-rouge\">filter</code></li> <li><code class=\"language-plaintext highlighter-rouge\">isinstance</code></li> <li><code class=\"language-plaintext highlighter-rouge\">issubclass</code></li> <li><code class=\"language-plaintext highlighter-rouge\">iter</code></li> <li><code class=\"language-plaintext highlighter-rouge\">len</code></li> <li><code class=\"language-plaintext highlighter-rouge\">range</code></li> <li><code class=\"language-plaintext highlighter-rouge\">reversed</code></li> <li><code class=\"language-plaintext highlighter-rouge\">sort</code> <ul> <li>Basics</li> <li>Sort Key</li> </ul> </li> </ul> </li> </ul>\n"
   ]
  },
  {
   "cell_type": "markdown",
   "metadata": {},
   "source": [
    "\n",
    "* [Section 1 - The Python Programming Language](#section1)\n",
    "\n",
    "* [Section 2 - Python versions](#section2)\n",
    "\n",
    "* [Section 3 - Python style guide](#section3)\n",
    "\n",
    "* [Section 4 - Python notebooks: Jupyter, Jupyterlab and Colab](#section4)\n",
    "\n",
    "* [Section 5 - The Zen of Python](#section5)\n",
    "\n",
    "* [Section 6 - Indentation and Syntax](#section6)\n",
    "\n",
    "* [Section 7 - Code Comments](#section7)\n",
    "\n",
    "    * [Section 7.1 - Commenting Single Lines With Hash](#section7.1)\n",
    "\n",
    "    * [Section 7.2 - Commenting Multiple Lines By Encapselating Quotes](#section7.2)\n",
    "\n",
    "* [Section 8 - Variables and How to Use Them](#section8)\n",
    "\n",
    "* [Section 9 - Print Function](#section9)\n",
    "\n",
    "* [Section 10 - Input Function](#section10)\n",
    "\n",
    "* [Section 11 - Order of Operations](#section11)\n",
    "\n",
    "* [Section 12 - Python Data Types](#section12)\n",
    "\n",
    "    * [Section 12.1 - Numbers](#section12.1)\n",
    "    \n",
    "        * [Section 12.1.1 -Integers (int)](#section12.1.1)\n",
    "        \n",
    "        * [Section 12.1.2 - Floats (float)](#section12.1.2)\n",
    "    \n",
    "    * [Section 12.2 - Booleans](#section12.2)\n",
    "    \n",
    "    * [Section 12.3- Strings](#section12.3)\n",
    "         * [Section 12.3.1 - String formatting](#section12.3.1)\n",
    "             * [Section 12.3.1.1 - Legacy Methods: Pythons built-in `.format()` method](#section12.3.1.1)\n",
    "             * [Section 12.3.1.2 - f-strings](#section12.3.1.2)\n",
    "        * [Section 12.3.3 - Operations on Strings](#section12.3.3)\n",
    "            * [Section 12.3.3.1 - Index of a Substring in a Python String](#section12.3.3.1)\n",
    "            * [Section 12.3.3.2 - Replace One String with Another String Using Regular Expressions](#section12.3.3.2)\n",
    "           \n",
    "    * [Section 12.4 - Containers](#section13)\n",
    "         * [Section 12.4.1 - `Tuples ()` ](#section12.4.1)\n",
    "         * [Section 12.4.2 - `Lists []` ](#section12.4.2)\n",
    "         * [Section 12.4.3 - `Sets {}` ](#section12.4.3)\n",
    "         * [Section 12.4.4 - `Dicts {\"a\":\"b\"}` ](#section12.4.4)\n",
    "\n",
    "\n",
    "    [Section 12.5 -Type Hinting](#section14)\n"
   ]
  },
  {
   "cell_type": "markdown",
   "metadata": {},
   "source": [
    " <center><div class=\"alert alert-block alert-info\">\n",
    "\n",
    " # 1. <a id=\"section1\">The Python Programming Language</a>\n",
    " \n",
    "Python is a high-level, dynamically typed multiparadigm programming language, created by Guido van Rossum in the early 90s. It is now one of the most popular languages in existence.\n",
    "Python’s syntactic clarity allows you to express very powerful ideas in very few lines of code while being very readable. It’s basically executable pseudocode!\n",
    "As an example, here is an implementation of the classic Quicksort algorithm in Python:"
   ]
  },
  {
   "cell_type": "code",
   "execution_count": 103,
   "metadata": {},
   "outputs": [],
   "source": [
    "def quicksort(arr):\n",
    "    if len(arr) <= 1:\n",
    "        return arr\n",
    "    pivot = arr[len(arr) // 2]\n",
    "    left = [x for x in arr if x < pivot]\n",
    "    middle = [x for x in arr if x == pivot]\n",
    "    right = [x for x in arr if x > pivot]\n",
    "    return quicksort(left) + middle + quicksort(right)"
   ]
  },
  {
   "cell_type": "code",
   "execution_count": 104,
   "metadata": {},
   "outputs": [
    {
     "data": {
      "text/plain": [
       "[1, 1, 2, 3, 6, 8, 10]"
      ]
     },
     "execution_count": 104,
     "metadata": {},
     "output_type": "execute_result"
    }
   ],
   "source": [
    "quicksort([3, 6, 8, 10, 1, 2, 1]) \n",
    "# Returns \"[1, 1, 2, 3, 6, 8, 10]\""
   ]
  },
  {
   "cell_type": "markdown",
   "metadata": {},
   "source": [
    "<center> <div class=\"alert alert-block alert-info\">\n",
    "    \n",
    "# 2. <a id=\"section2\">Python Versions</a>\n",
    "As of Janurary 1, 2020, Python has officially dropped support for Python 2.\n",
    "If you haven’t experimented with Python at all and are just starting off, we recommend you begin with the latest version of Python 3.\n",
    "You can double-check your Python version at the command line after activating your environment by running python --version."
   ]
  },
  {
   "cell_type": "code",
   "execution_count": 12,
   "metadata": {},
   "outputs": [],
   "source": [
    "# python -v\n",
    "# python --version"
   ]
  },
  {
   "cell_type": "markdown",
   "metadata": {},
   "source": [
    " <center> <div class=\"alert alert-block alert-info\">\n",
    "    \n",
    "# 3. <a id=\"section3\">Python Style Guide</a>\n",
    "Google’s Python Style Guide is a fantastic resource with a list of dos and don’ts for formatting Python code that is commonly followed in the industry.</div>"
   ]
  },
  {
   "cell_type": "markdown",
   "metadata": {},
   "source": [
    "<center>  <div class=\"alert alert-block alert-info\">   \n",
    "\n",
    "# 4.  <a id=\"section4\">Python notebooks: Jupyter, Jupyterlab and Colab</a>\n",
    "\n",
    "* Before we dive into Python, we’d like to briefly talk about notebooks and creating virtual environments.\n",
    "* If you’re looking to work on different projects, you’ll likely be utilizing different versions of Python modules. In this case, it is a good practice to have multiple virtual environments to work on different projects.\n",
    "* Python Setup: Remote vs. Local offers an in-depth coverage of the various remote and local options available.</div>"
   ]
  },
  {
   "cell_type": "markdown",
   "metadata": {},
   "source": [
    " <center> <div class=\"alert alert-block alert-info\">   \n",
    "\n",
    "# 5.  <a id=\"section5\">The Zen of Python</a>\n",
    "<span style=\"font-size:20px\"><b>The Zen of Python</b></span> by Tim Peters are 19 guidelines for the design of the Python language. Your Python code doesn’t necessarily have to follow these guidelines, but they’re good to keep in mind. The Zen of Python is an Easter egg, or hidden joke, that appears if you run\n",
    "\n",
    "`import this`"
   ]
  },
  {
   "cell_type": "code",
   "execution_count": 1,
   "metadata": {},
   "outputs": [
    {
     "name": "stdout",
     "output_type": "stream",
     "text": [
      "The Zen of Python, by Tim Peters\n",
      "\n",
      "Beautiful is better than ugly.\n",
      "Explicit is better than implicit.\n",
      "Simple is better than complex.\n",
      "Complex is better than complicated.\n",
      "Flat is better than nested.\n",
      "Sparse is better than dense.\n",
      "Readability counts.\n",
      "Special cases aren't special enough to break the rules.\n",
      "Although practicality beats purity.\n",
      "Errors should never pass silently.\n",
      "Unless explicitly silenced.\n",
      "In the face of ambiguity, refuse the temptation to guess.\n",
      "There should be one-- and preferably only one --obvious way to do it.\n",
      "Although that way may not be obvious at first unless you're Dutch.\n",
      "Now is better than never.\n",
      "Although never is often better than *right* now.\n",
      "If the implementation is hard to explain, it's a bad idea.\n",
      "If the implementation is easy to explain, it may be a good idea.\n",
      "Namespaces are one honking great idea -- let's do more of those!\n"
     ]
    }
   ],
   "source": [
    "import this"
   ]
  },
  {
   "cell_type": "markdown",
   "metadata": {},
   "source": [
    " * <span style=\"font-size:24px\"> For additional stylistic best practices and coding principles like those above, refer to [The Zen of Python, Explained](https://inventwithpython.com/blog/2018/08/17/the-zen-of-python-explained/).</span>"
   ]
  },
  {
   "cell_type": "markdown",
   "metadata": {},
   "source": [
    " <center> <div class=\"alert alert-block alert-info\">   \n",
    "\n",
    "# 6.  <a id=\"section6\">Indentation and Syntax</a>\n",
    "Python is big on indentation! Where in other programming languages the indentation in code is to improve readability, Python uses indentation to indicate a block of code.\n",
    "The convention is to use $\\textbf{four spaces, not tabs}$.\n"
   ]
  },
  {
   "cell_type": "markdown",
   "metadata": {},
   "source": []
  },
  {
   "cell_type": "markdown",
   "metadata": {},
   "source": [
    " <center> <div class=\"alert alert-block alert-info\">   \n",
    "\n",
    "# 7.  <a id=\"section7\">Code Comments</a>\n",
    "Python supports two types of comments: single-line and multi-line, as detailed below:\n"
   ]
  },
  {
   "cell_type": "markdown",
   "metadata": {},
   "source": [
    "<center>\n",
    "<div class=\"alert alert-block alert-info\">   \n",
    "\n",
    "## 7.1  <a id=\"section7.1\">Commenting Single Lines With Hash</a>"
   ]
  },
  {
   "cell_type": "raw",
   "metadata": {},
   "source": [
    "# Single line comments start with a number symbol."
   ]
  },
  {
   "cell_type": "markdown",
   "metadata": {},
   "source": [
    "<center>\n",
    " <div class=\"alert alert-block alert-info\">   \n",
    "\n",
    "## 7.2  <a id=\"section7.2\">Commenting Multiple Lines By Encapselating Quotes</a>"
   ]
  },
  {
   "cell_type": "code",
   "execution_count": 3,
   "metadata": {},
   "outputs": [
    {
     "data": {
      "text/plain": [
       "' Multiline strings can be written using three double quotes, \\n    and are often used for documentation (hence called \"docstrings\").\\n    They are also the closest concept to multi-line comments in other languages.\\n'"
      ]
     },
     "execution_count": 3,
     "metadata": {},
     "output_type": "execute_result"
    }
   ],
   "source": [
    "\"\"\" Multiline strings can be written using three double quotes, \n",
    "    and are often used for documentation (hence called \"docstrings\").\n",
    "    They are also the closest concept to multi-line comments in other languages.\n",
    "\"\"\""
   ]
  },
  {
   "cell_type": "markdown",
   "metadata": {},
   "source": [
    "<center>\n",
    " <div class=\"alert alert-block alert-info\">   \n",
    "\n",
    "# 8. <a id=\"section8\"> Variables</a>\n",
    "In Python, there are no declarations unlike C/C++; only assignments:"
   ]
  },
  {
   "cell_type": "code",
   "execution_count": 4,
   "metadata": {},
   "outputs": [
    {
     "data": {
      "text/plain": [
       "5"
      ]
     },
     "execution_count": 4,
     "metadata": {},
     "output_type": "execute_result"
    }
   ],
   "source": [
    "some_var = 5\n",
    "some_var # Returns 5"
   ]
  },
  {
   "cell_type": "markdown",
   "metadata": {},
   "source": [
    "### Accessing a previously unassigned variable leads to a NameError exception:"
   ]
  },
  {
   "cell_type": "code",
   "execution_count": 5,
   "metadata": {},
   "outputs": [
    {
     "ename": "NameError",
     "evalue": "name 'some_unknown_var' is not defined",
     "output_type": "error",
     "traceback": [
      "\u001b[0;31m---------------------------------------------------------------------------\u001b[0m",
      "\u001b[0;31mNameError\u001b[0m                                 Traceback (most recent call last)",
      "\u001b[0;32m/var/folders/sd/1vc_q83x5rn9jjrd0x47_cc00000gn/T/ipykernel_50201/825428370.py\u001b[0m in \u001b[0;36m<module>\u001b[0;34m\u001b[0m\n\u001b[0;32m----> 1\u001b[0;31m \u001b[0msome_unknown_var\u001b[0m \u001b[0;31m# Raises a NameError\u001b[0m\u001b[0;34m\u001b[0m\u001b[0;34m\u001b[0m\u001b[0m\n\u001b[0m",
      "\u001b[0;31mNameError\u001b[0m: name 'some_unknown_var' is not defined"
     ]
    }
   ],
   "source": [
    "some_unknown_var # Raises a NameError"
   ]
  },
  {
   "cell_type": "markdown",
   "metadata": {},
   "source": [
    "### `Variables` are `names` in Python that simply refer to `objects`. This implies that you can make another variable point to an object by assigning it the original variable that was pointing to the same object.\n"
   ]
  },
  {
   "cell_type": "code",
   "execution_count": 6,
   "metadata": {},
   "outputs": [
    {
     "data": {
      "text/plain": [
       "[1, 2, 3, 4]"
      ]
     },
     "execution_count": 6,
     "metadata": {},
     "output_type": "execute_result"
    }
   ],
   "source": [
    "a = [1, 2, 3] # Point \"a\" at a new list, [1, 2, 3, 4]\n",
    "b = a         # Point \"b\" at what \"a\" is pointing to\n",
    "b += [4]      # Extend the list pointed by \"a\" and \"b\" by adding \"4\" to it\n",
    "a             # Returns \"[1, 2, 3, 4]\""
   ]
  },
  {
   "cell_type": "code",
   "execution_count": 7,
   "metadata": {},
   "outputs": [
    {
     "data": {
      "text/plain": [
       "[1, 2, 3, 4]"
      ]
     },
     "execution_count": 7,
     "metadata": {},
     "output_type": "execute_result"
    }
   ],
   "source": [
    "b             # Also returns \"[1, 2, 3, 4]\""
   ]
  },
  {
   "cell_type": "markdown",
   "metadata": {},
   "source": [
    "`is` checks if two variables refer to the same object, `while ==` checks if the objects that the variables point to have the same values:"
   ]
  },
  {
   "cell_type": "code",
   "execution_count": 8,
   "metadata": {},
   "outputs": [
    {
     "data": {
      "text/plain": [
       "True"
      ]
     },
     "execution_count": 8,
     "metadata": {},
     "output_type": "execute_result"
    }
   ],
   "source": [
    "a = [1, 2, 3, 4] # Point \"a\" at a new list, [1, 2, 3, 4]\n",
    "b = a            # Point \"b\" at what a is pointing to\n",
    "b is a           # Returns True, \"a\" and \"b\" refer to the *same* object"
   ]
  },
  {
   "cell_type": "code",
   "execution_count": 9,
   "metadata": {},
   "outputs": [
    {
     "data": {
      "text/plain": [
       "True"
      ]
     },
     "execution_count": 9,
     "metadata": {},
     "output_type": "execute_result"
    }
   ],
   "source": [
    "b == a    # Returns True, the objects that \"a\" and \"b\" are pointing to are *equal*"
   ]
  },
  {
   "cell_type": "code",
   "execution_count": 10,
   "metadata": {},
   "outputs": [
    {
     "data": {
      "text/plain": [
       "False"
      ]
     },
     "execution_count": 10,
     "metadata": {},
     "output_type": "execute_result"
    }
   ],
   "source": [
    "b = [1, 2, 3, 4] # Point b at a new list, [1, 2, 3, 4]\n",
    "b is a           # Returns False, \"a\" and \"b\" do not refer to the *same* object"
   ]
  },
  {
   "cell_type": "code",
   "execution_count": 11,
   "metadata": {},
   "outputs": [
    {
     "data": {
      "text/plain": [
       "True"
      ]
     },
     "execution_count": 11,
     "metadata": {},
     "output_type": "execute_result"
    }
   ],
   "source": [
    "b == a           # Returns True, the objects that \"a\" and \"b\" are pointing to are *equal*"
   ]
  },
  {
   "cell_type": "markdown",
   "metadata": {
    "tags": []
   },
   "source": []
  },
  {
   "cell_type": "markdown",
   "metadata": {},
   "source": [
    " ## <center ><div class=\"alert alert-block alert-danger\"> <span style=\"color:black; font-size: 36px;\">When working in Python, we </span> <code style=\"background:yellow;color:black\"><b>MUST REMEMBER</b> </code><span style=\"color:black; font-size: 36px;\">that in the</span> $\\newline$<span style=\"color:blue; font-size: 36px;\"> <code style=\"background:yellow;color:black\"><b>Python</b> programming language</code></span>,\n",
    "## <center > <code style=\"background:yellow;color:black\"><span style=\"color:blue; font-size: 36px;\"><b><u>EVERYTHING</u></b></span> <span style=\"color:black; font-size: 36px;\">is an </span><span style=\"color:blue; font-size: 36px;\"><b>OBJECT</b></span></code>$\\newline$<center>This means that even `None` (which is used to denote that the variable doesn’t point to an object yet) is also an object\n"
   ]
  },
  {
   "cell_type": "markdown",
   "metadata": {},
   "source": [
    "### * NOTE: DO NOT use the equality `==` symbol to compare objects to None\n",
    "### * Instead, use `is`. This checks for equality of object identity."
   ]
  },
  {
   "cell_type": "code",
   "execution_count": 286,
   "metadata": {},
   "outputs": [
    {
     "name": "stderr",
     "output_type": "stream",
     "text": [
      "<>:1: SyntaxWarning: \"is\" with a literal. Did you mean \"==\"?\n",
      "<>:1: SyntaxWarning: \"is\" with a literal. Did you mean \"==\"?\n",
      "/var/folders/sd/1vc_q83x5rn9jjrd0x47_cc00000gn/T/ipykernel_38616/2939876990.py:1: SyntaxWarning: \"is\" with a literal. Did you mean \"==\"?\n",
      "  \"etc\" is None # Returns False\n"
     ]
    },
    {
     "data": {
      "text/plain": [
       "False"
      ]
     },
     "execution_count": 286,
     "metadata": {},
     "output_type": "execute_result"
    }
   ],
   "source": [
    "\"etc\" is None # Returns False"
   ]
  },
  {
   "cell_type": "code",
   "execution_count": 226,
   "metadata": {},
   "outputs": [
    {
     "data": {
      "text/plain": [
       "True"
      ]
     },
     "execution_count": 226,
     "metadata": {},
     "output_type": "execute_result"
    }
   ],
   "source": [
    "None is None  # Returns True"
   ]
  },
  {
   "cell_type": "markdown",
   "metadata": {},
   "source": []
  },
  {
   "cell_type": "markdown",
   "metadata": {},
   "source": [
    "## Python has `local` and `global` variables. \n",
    "\n",
    "Here’s an example of local vs. global variable scope:"
   ]
  },
  {
   "cell_type": "code",
   "execution_count": 118,
   "metadata": {},
   "outputs": [],
   "source": [
    "x = 5\n",
    "\n",
    "def set_x(num):\n",
    "    # Local var x not the same as global variable x\n",
    "    x = num  # Returns 43\n",
    "    return x        # Returns 43\n",
    "\n",
    "def set_global_x(num):\n",
    "    global x\n",
    "    x        # Returns 5\n",
    "    x = num  # global var x is now set to 6\n",
    "    return x        # Returns 6"
   ]
  },
  {
   "cell_type": "code",
   "execution_count": 119,
   "metadata": {},
   "outputs": [
    {
     "data": {
      "text/plain": [
       "43"
      ]
     },
     "execution_count": 119,
     "metadata": {},
     "output_type": "execute_result"
    }
   ],
   "source": [
    "set_x(43)"
   ]
  },
  {
   "cell_type": "code",
   "execution_count": 120,
   "metadata": {},
   "outputs": [
    {
     "data": {
      "text/plain": [
       "6"
      ]
     },
     "execution_count": 120,
     "metadata": {},
     "output_type": "execute_result"
    }
   ],
   "source": [
    "set_global_x(6)"
   ]
  },
  {
   "cell_type": "markdown",
   "metadata": {},
   "source": [
    " <center><div class=\"alert alert-block alert-info\">   \n",
    "\n",
    "# 9.  <a id=\"section9\">Print Function</a>\n",
    "\n",
    "Python has a `print function`"
   ]
  },
  {
   "cell_type": "code",
   "execution_count": 121,
   "metadata": {},
   "outputs": [
    {
     "name": "stdout",
     "output_type": "stream",
     "text": [
      "I'm a machine! Nice to meet you!\n"
     ]
    }
   ],
   "source": [
    "print(\"I'm a machine! Nice to meet you!\") # Returns I'm a machine! Nice to meet you!"
   ]
  },
  {
   "cell_type": "markdown",
   "metadata": {},
   "source": [
    "### By default, the print function also prints out a newline at the end. \n",
    "\n",
    "`Override the optional argument` end to modify this behavior:"
   ]
  },
  {
   "cell_type": "code",
   "execution_count": 122,
   "metadata": {},
   "outputs": [
    {
     "name": "stdout",
     "output_type": "stream",
     "text": [
      "Hello, World!"
     ]
    }
   ],
   "source": [
    "print(\"Hello, World\", end=\"!\") # Returns Hello, World!"
   ]
  },
  {
   "cell_type": "markdown",
   "metadata": {},
   "source": [
    "  <center><div class=\"alert alert-block alert-info\">   \n",
    "\n",
    "# 10.  <a id=\"section10\">Input Function</a>\n",
    "\n",
    "Python offers a simple way to get input data from console"
   ]
  },
  {
   "cell_type": "code",
   "execution_count": 125,
   "metadata": {},
   "outputs": [
    {
     "name": "stdin",
     "output_type": "stream",
     "text": [
      "Enter some data:  \n"
     ]
    }
   ],
   "source": [
    "input_string_var = input(\"Enter some data: \") # Returns the data as a string"
   ]
  },
  {
   "cell_type": "markdown",
   "metadata": {},
   "source": [
    "  <center> <div class=\"alert alert-block alert-info\">   \n",
    "\n",
    "# 11. <a id=\"section11\"> Order of Operations</a>\n",
    "    \n",
    "Just like mathematical operations in other languages, Python uses the PEMDAS rule to ascertain operator precedence."
   ]
  },
  {
   "cell_type": "code",
   "execution_count": 126,
   "metadata": {},
   "outputs": [
    {
     "data": {
      "text/plain": [
       "7"
      ]
     },
     "execution_count": 126,
     "metadata": {},
     "output_type": "execute_result"
    }
   ],
   "source": [
    "1 + 3 * 2 # Returns 7"
   ]
  },
  {
   "cell_type": "markdown",
   "metadata": {},
   "source": [
    "### To bypass PEMDAS, <b>enforce precedence with parentheses</b>"
   ]
  },
  {
   "cell_type": "code",
   "execution_count": 127,
   "metadata": {},
   "outputs": [
    {
     "data": {
      "text/plain": [
       "8"
      ]
     },
     "execution_count": 127,
     "metadata": {},
     "output_type": "execute_result"
    }
   ],
   "source": [
    "(1 + 3) * 2 # Returns 8"
   ]
  },
  {
   "cell_type": "markdown",
   "metadata": {},
   "source": [
    " <center> <div class=\"alert alert-block alert-info\">   \n",
    "\n",
    "# 12.  <a id=\"section12\">Basic Data Types</a>\n",
    "Like most languages, Python has a number of basic types including integers, floats, booleans, and strings.\n",
    "\n"
   ]
  },
  {
   "cell_type": "code",
   "execution_count": null,
   "metadata": {},
   "outputs": [],
   "source": []
  },
  {
   "cell_type": "markdown",
   "metadata": {},
   "source": [
    " <center><div class=\"alert alert-block alert-success\">\n",
    "    \n",
    "##  12.1.  <a id=\"section12.1\"> `Numbers`</a> (int and float)\n",
    "Main types of numbers: `Integers (int)` and `Floats (float)`\n",
    "\n",
    "Integers work as you would expect from other languages"
   ]
  },
  {
   "cell_type": "markdown",
   "metadata": {},
   "source": [
    " <center><div class=\"alert alert-block alert-success\">\n",
    "    \n",
    "##  12.1.1. <a id=\"section12.1.1\">  `Integers (int)`</a>"
   ]
  },
  {
   "cell_type": "code",
   "execution_count": 217,
   "metadata": {},
   "outputs": [
    {
     "data": {
      "text/plain": [
       "3"
      ]
     },
     "execution_count": 217,
     "metadata": {},
     "output_type": "execute_result"
    }
   ],
   "source": [
    "x = 3   \n",
    "x       # prints 3"
   ]
  },
  {
   "cell_type": "code",
   "execution_count": 129,
   "metadata": {},
   "outputs": [
    {
     "data": {
      "text/plain": [
       "int"
      ]
     },
     "execution_count": 129,
     "metadata": {},
     "output_type": "execute_result"
    }
   ],
   "source": [
    "type(x) # prints <class 'int'>"
   ]
  },
  {
   "cell_type": "code",
   "execution_count": 130,
   "metadata": {},
   "outputs": [
    {
     "data": {
      "text/plain": [
       "4"
      ]
     },
     "execution_count": 130,
     "metadata": {},
     "output_type": "execute_result"
    }
   ],
   "source": [
    "x + 1   # Addition; returns 4"
   ]
  },
  {
   "cell_type": "code",
   "execution_count": 131,
   "metadata": {},
   "outputs": [
    {
     "data": {
      "text/plain": [
       "2"
      ]
     },
     "execution_count": 131,
     "metadata": {},
     "output_type": "execute_result"
    }
   ],
   "source": [
    "x - 1   # Subtraction; returns 2"
   ]
  },
  {
   "cell_type": "code",
   "execution_count": 132,
   "metadata": {},
   "outputs": [
    {
     "data": {
      "text/plain": [
       "6"
      ]
     },
     "execution_count": 132,
     "metadata": {},
     "output_type": "execute_result"
    }
   ],
   "source": [
    "x * 2   # Multiplication; returns 6"
   ]
  },
  {
   "cell_type": "code",
   "execution_count": 133,
   "metadata": {},
   "outputs": [
    {
     "data": {
      "text/plain": [
       "3"
      ]
     },
     "execution_count": 133,
     "metadata": {},
     "output_type": "execute_result"
    }
   ],
   "source": [
    "x ** 2  # Exponentiation; returns 9\n",
    "x"
   ]
  },
  {
   "cell_type": "code",
   "execution_count": 134,
   "metadata": {},
   "outputs": [
    {
     "data": {
      "text/plain": [
       "4"
      ]
     },
     "execution_count": 134,
     "metadata": {},
     "output_type": "execute_result"
    }
   ],
   "source": [
    "x += 1  # Returns 4\n",
    "x"
   ]
  },
  {
   "cell_type": "code",
   "execution_count": 135,
   "metadata": {},
   "outputs": [
    {
     "data": {
      "text/plain": [
       "8"
      ]
     },
     "execution_count": 135,
     "metadata": {},
     "output_type": "execute_result"
    }
   ],
   "source": [
    "x *= 2  # Returns 8\n",
    "x"
   ]
  },
  {
   "cell_type": "code",
   "execution_count": 136,
   "metadata": {},
   "outputs": [
    {
     "data": {
      "text/plain": [
       "11"
      ]
     },
     "execution_count": 136,
     "metadata": {},
     "output_type": "execute_result"
    }
   ],
   "source": [
    "x+=3\n",
    "x"
   ]
  },
  {
   "cell_type": "code",
   "execution_count": 137,
   "metadata": {},
   "outputs": [
    {
     "data": {
      "text/plain": [
       "3"
      ]
     },
     "execution_count": 137,
     "metadata": {},
     "output_type": "execute_result"
    }
   ],
   "source": [
    "x % 4   # Modulo operation; returns \"3\""
   ]
  },
  {
   "cell_type": "markdown",
   "metadata": {},
   "source": [
    " <center><div class=\"alert alert-block alert-success\">\n",
    "    \n",
    "##  12.1.2. <a id=\"section12.1.2\">  `Floats (float)`</a>"
   ]
  },
  {
   "cell_type": "markdown",
   "metadata": {},
   "source": [
    "### Floats also behave similar to other languages:"
   ]
  },
  {
   "cell_type": "code",
   "execution_count": 209,
   "metadata": {},
   "outputs": [
    {
     "data": {
      "text/plain": [
       "float"
      ]
     },
     "execution_count": 209,
     "metadata": {},
     "output_type": "execute_result"
    }
   ],
   "source": [
    "y = 2.5\n",
    "type(y)     # returns <class 'float'>"
   ]
  },
  {
   "cell_type": "code",
   "execution_count": 210,
   "metadata": {},
   "outputs": [
    {
     "data": {
      "text/plain": [
       "(2.5, 3.5, 5.0, 6.25)"
      ]
     },
     "execution_count": 210,
     "metadata": {},
     "output_type": "execute_result"
    }
   ],
   "source": [
    "y, y + 1, y * 2, y ** 2 # returns (2.5, 3.5, 5.0, 6.25)"
   ]
  },
  {
   "cell_type": "markdown",
   "metadata": {},
   "source": [
    "## Some nuances in integer/float division that you should take note of"
   ]
  },
  {
   "cell_type": "code",
   "execution_count": 211,
   "metadata": {},
   "outputs": [
    {
     "data": {
      "text/plain": [
       "1.5"
      ]
     },
     "execution_count": 211,
     "metadata": {},
     "output_type": "execute_result"
    }
   ],
   "source": [
    "3 / 2       # Float division in Python 3, returns \"1.5\"; integer division in Python 2, returns \"1\""
   ]
  },
  {
   "cell_type": "code",
   "execution_count": 212,
   "metadata": {},
   "outputs": [
    {
     "data": {
      "text/plain": [
       "1"
      ]
     },
     "execution_count": 212,
     "metadata": {},
     "output_type": "execute_result"
    }
   ],
   "source": [
    "3 // 2      # Integer division in both Python 2 and 3, returns \"1\""
   ]
  },
  {
   "cell_type": "code",
   "execution_count": 213,
   "metadata": {},
   "outputs": [
    {
     "data": {
      "text/plain": [
       "3.3333333333333335"
      ]
     },
     "execution_count": 213,
     "metadata": {},
     "output_type": "execute_result"
    }
   ],
   "source": [
    "10.0 / 3    # Float division in both Python 2 and 3, returns \"3.33..\""
   ]
  },
  {
   "cell_type": "markdown",
   "metadata": {},
   "source": [
    "### Integer division rounds down for both positive and negative numbers"
   ]
  },
  {
   "cell_type": "code",
   "execution_count": 214,
   "metadata": {},
   "outputs": [
    {
     "data": {
      "text/plain": [
       "-2"
      ]
     },
     "execution_count": 214,
     "metadata": {},
     "output_type": "execute_result"
    }
   ],
   "source": [
    "-5 // 3     # -2"
   ]
  },
  {
   "cell_type": "code",
   "execution_count": 215,
   "metadata": {},
   "outputs": [
    {
     "data": {
      "text/plain": [
       "1.0"
      ]
     },
     "execution_count": 215,
     "metadata": {},
     "output_type": "execute_result"
    }
   ],
   "source": [
    "5.0 // 3.0  # 1.0"
   ]
  },
  {
   "cell_type": "code",
   "execution_count": 239,
   "metadata": {},
   "outputs": [
    {
     "data": {
      "text/plain": [
       "-2.0"
      ]
     },
     "execution_count": 239,
     "metadata": {},
     "output_type": "execute_result"
    }
   ],
   "source": [
    "-5.0 // 3.0 # -2.0"
   ]
  },
  {
   "cell_type": "markdown",
   "metadata": {},
   "source": [
    "## NOTE: that unlike many languages, Python does not have unary increment (x++) or decrement (x--) operators, but accepts the += and -= operators.\n",
    "\n",
    "$\\textbf{Python also has built-in types}$ for `complex numbers`"
   ]
  },
  {
   "cell_type": "markdown",
   "metadata": {},
   "source": [
    "## NOTE: <code style=\"background:yellow;color:black\">Use Underscores to Format Large Numbers</code>\n",
    "\n",
    "When working with a large number in Python, it can be difficult to figure out how many digits that number has. Python 3.6 and above allows you to use underscores as visual separators to group digits.\n",
    "\n",
    "In the example below, underscores are used to group decimal numbers by thousands."
   ]
  },
  {
   "cell_type": "code",
   "execution_count": 240,
   "metadata": {},
   "outputs": [
    {
     "data": {
      "text/plain": [
       "1000000"
      ]
     },
     "execution_count": 240,
     "metadata": {},
     "output_type": "execute_result"
    }
   ],
   "source": [
    "large_num = 1_000_000\n",
    "large_num # Returns 1000000"
   ]
  },
  {
   "cell_type": "markdown",
   "metadata": {},
   "source": [
    " <center>\n",
    "<div class=\"alert alert-block alert-success\">\n",
    "    \n",
    "## 12b. `Booleans`\n",
    "\n",
    "Python implements all of the usual operators for Boolean logic, but uses English words rather than symbols (&&, ||, etc.):"
   ]
  },
  {
   "cell_type": "code",
   "execution_count": 241,
   "metadata": {},
   "outputs": [],
   "source": [
    "t = True\n",
    "f = False"
   ]
  },
  {
   "cell_type": "code",
   "execution_count": 242,
   "metadata": {},
   "outputs": [
    {
     "data": {
      "text/plain": [
       "bool"
      ]
     },
     "execution_count": 242,
     "metadata": {},
     "output_type": "execute_result"
    }
   ],
   "source": [
    "type(t) # Returns <class 'bool'>"
   ]
  },
  {
   "cell_type": "code",
   "execution_count": 243,
   "metadata": {},
   "outputs": [
    {
     "data": {
      "text/plain": [
       "False"
      ]
     },
     "execution_count": 243,
     "metadata": {},
     "output_type": "execute_result"
    }
   ],
   "source": [
    "t and f # Logical AND; returns \"False\""
   ]
  },
  {
   "cell_type": "code",
   "execution_count": 244,
   "metadata": {},
   "outputs": [
    {
     "data": {
      "text/plain": [
       "True"
      ]
     },
     "execution_count": 244,
     "metadata": {},
     "output_type": "execute_result"
    }
   ],
   "source": [
    "t or f  # Logical OR; returns \"True\""
   ]
  },
  {
   "cell_type": "code",
   "execution_count": 245,
   "metadata": {},
   "outputs": [
    {
     "data": {
      "text/plain": [
       "False"
      ]
     },
     "execution_count": 245,
     "metadata": {},
     "output_type": "execute_result"
    }
   ],
   "source": [
    "not t   # Logical NOT; returns \"False\""
   ]
  },
  {
   "cell_type": "code",
   "execution_count": 246,
   "metadata": {},
   "outputs": [
    {
     "data": {
      "text/plain": [
       "True"
      ]
     },
     "execution_count": 246,
     "metadata": {},
     "output_type": "execute_result"
    }
   ],
   "source": [
    "t != f  # Logical XOR; returns \"True\""
   ]
  },
  {
   "cell_type": "markdown",
   "metadata": {},
   "source": [
    "# NOTE: The numerical value of <code style=\"background:yellow;color:black\">True and False</code>  is <code style=\"background:yellow;color:black\">1 and 0:</code>\n"
   ]
  },
  {
   "cell_type": "code",
   "execution_count": 247,
   "metadata": {},
   "outputs": [
    {
     "data": {
      "text/plain": [
       "2"
      ]
     },
     "execution_count": 247,
     "metadata": {},
     "output_type": "execute_result"
    }
   ],
   "source": [
    "True + True # Returns 2"
   ]
  },
  {
   "cell_type": "code",
   "execution_count": 248,
   "metadata": {},
   "outputs": [
    {
     "data": {
      "text/plain": [
       "8"
      ]
     },
     "execution_count": 248,
     "metadata": {},
     "output_type": "execute_result"
    }
   ],
   "source": [
    "True * 8    # Returns 8"
   ]
  },
  {
   "cell_type": "code",
   "execution_count": 249,
   "metadata": {},
   "outputs": [
    {
     "data": {
      "text/plain": [
       "-5"
      ]
     },
     "execution_count": 249,
     "metadata": {},
     "output_type": "execute_result"
    }
   ],
   "source": [
    "False - 5   # Returns -5"
   ]
  },
  {
   "cell_type": "markdown",
   "metadata": {},
   "source": [
    "### Comparison operators look at the numerical value of True and False:"
   ]
  },
  {
   "cell_type": "code",
   "execution_count": 250,
   "metadata": {},
   "outputs": [
    {
     "data": {
      "text/plain": [
       "True"
      ]
     },
     "execution_count": 250,
     "metadata": {},
     "output_type": "execute_result"
    }
   ],
   "source": [
    "0 == False  # Returns True"
   ]
  },
  {
   "cell_type": "code",
   "execution_count": 251,
   "metadata": {},
   "outputs": [
    {
     "data": {
      "text/plain": [
       "True"
      ]
     },
     "execution_count": 251,
     "metadata": {},
     "output_type": "execute_result"
    }
   ],
   "source": [
    "1 == True   # Returns True"
   ]
  },
  {
   "cell_type": "code",
   "execution_count": 252,
   "metadata": {},
   "outputs": [
    {
     "data": {
      "text/plain": [
       "False"
      ]
     },
     "execution_count": 252,
     "metadata": {},
     "output_type": "execute_result"
    }
   ],
   "source": [
    "2 == True   # Returns False"
   ]
  },
  {
   "cell_type": "code",
   "execution_count": 253,
   "metadata": {},
   "outputs": [
    {
     "data": {
      "text/plain": [
       "True"
      ]
     },
     "execution_count": 253,
     "metadata": {},
     "output_type": "execute_result"
    }
   ],
   "source": [
    "-5 != False # Returns True"
   ]
  },
  {
   "cell_type": "markdown",
   "metadata": {},
   "source": [
    "<div class=\"alert alert-block alert-success\">\n",
    "\n",
    "\n",
    "## NOTE: \n",
    "\n",
    "<span style=\"color:black; font-size: 24px;\"> <b> `None`, `0`, `empty strings`, `empty lists`, `empty dicts`, and `empty tuples`</b></span> <span style=\"color:red; font-size: 24px;\"> <b>ALL </span> evaluate to <span style=\"color:red; font-size: 24px;\">False</b></span>. \n",
    "\n",
    "### <span style=\"color:blue; font-size: 24px;\"> ALL other</span> values are <span style=\"color:blue; font-size: 24px;\"> True</span>\n"
   ]
  },
  {
   "cell_type": "code",
   "execution_count": null,
   "metadata": {},
   "outputs": [],
   "source": []
  },
  {
   "cell_type": "markdown",
   "metadata": {},
   "source": [
    "### Evaluating Boolean with `0` value"
   ]
  },
  {
   "cell_type": "code",
   "execution_count": 254,
   "metadata": {},
   "outputs": [
    {
     "data": {
      "text/plain": [
       "False"
      ]
     },
     "execution_count": 254,
     "metadata": {},
     "output_type": "execute_result"
    }
   ],
   "source": [
    "bool(0)  # Returns False "
   ]
  },
  {
   "cell_type": "markdown",
   "metadata": {},
   "source": [
    "### Evaluating Boolean with `Empty String` value"
   ]
  },
  {
   "cell_type": "code",
   "execution_count": 255,
   "metadata": {},
   "outputs": [
    {
     "data": {
      "text/plain": [
       "False"
      ]
     },
     "execution_count": 255,
     "metadata": {},
     "output_type": "execute_result"
    }
   ],
   "source": [
    "bool(\"\") # Returns False"
   ]
  },
  {
   "cell_type": "markdown",
   "metadata": {},
   "source": [
    "### Evaluating Boolean with `Empty List` value"
   ]
  },
  {
   "cell_type": "code",
   "execution_count": 256,
   "metadata": {},
   "outputs": [
    {
     "data": {
      "text/plain": [
       "False"
      ]
     },
     "execution_count": 256,
     "metadata": {},
     "output_type": "execute_result"
    }
   ],
   "source": [
    "bool([]) # Returns False"
   ]
  },
  {
   "cell_type": "markdown",
   "metadata": {},
   "source": [
    "### Evaluating Boolean with `Empty Dict` value"
   ]
  },
  {
   "cell_type": "code",
   "execution_count": 257,
   "metadata": {},
   "outputs": [
    {
     "data": {
      "text/plain": [
       "False"
      ]
     },
     "execution_count": 257,
     "metadata": {},
     "output_type": "execute_result"
    }
   ],
   "source": [
    "bool({}) # Returns False"
   ]
  },
  {
   "cell_type": "markdown",
   "metadata": {},
   "source": [
    "### Evaluating Boolean with `Empty Tuple` value"
   ]
  },
  {
   "cell_type": "code",
   "execution_count": 258,
   "metadata": {},
   "outputs": [
    {
     "data": {
      "text/plain": [
       "False"
      ]
     },
     "execution_count": 258,
     "metadata": {},
     "output_type": "execute_result"
    }
   ],
   "source": [
    "bool(()) # Returns False"
   ]
  },
  {
   "cell_type": "markdown",
   "metadata": {},
   "source": [
    "### Equality comparisons yield boolean outputs:"
   ]
  },
  {
   "cell_type": "markdown",
   "metadata": {},
   "source": [
    "### `Equality` is `==`"
   ]
  },
  {
   "cell_type": "code",
   "execution_count": 259,
   "metadata": {},
   "outputs": [
    {
     "data": {
      "text/plain": [
       "True"
      ]
     },
     "execution_count": 259,
     "metadata": {},
     "output_type": "execute_result"
    }
   ],
   "source": [
    "1 == 1 # Returns True"
   ]
  },
  {
   "cell_type": "code",
   "execution_count": 260,
   "metadata": {},
   "outputs": [
    {
     "data": {
      "text/plain": [
       "False"
      ]
     },
     "execution_count": 260,
     "metadata": {},
     "output_type": "execute_result"
    }
   ],
   "source": [
    "2 == 1 # Returns False"
   ]
  },
  {
   "cell_type": "markdown",
   "metadata": {},
   "source": [
    "### `Inequality` is `!=`"
   ]
  },
  {
   "cell_type": "code",
   "execution_count": 261,
   "metadata": {},
   "outputs": [
    {
     "data": {
      "text/plain": [
       "False"
      ]
     },
     "execution_count": 261,
     "metadata": {},
     "output_type": "execute_result"
    }
   ],
   "source": [
    "1 != 1 # Returns False"
   ]
  },
  {
   "cell_type": "code",
   "execution_count": 262,
   "metadata": {},
   "outputs": [
    {
     "data": {
      "text/plain": [
       "True"
      ]
     },
     "execution_count": 262,
     "metadata": {},
     "output_type": "execute_result"
    }
   ],
   "source": [
    "2 != 1 # Returns True"
   ]
  },
  {
   "cell_type": "markdown",
   "metadata": {},
   "source": [
    "### Some More Comparisons"
   ]
  },
  {
   "cell_type": "code",
   "execution_count": 263,
   "metadata": {},
   "outputs": [
    {
     "data": {
      "text/plain": [
       "True"
      ]
     },
     "execution_count": 263,
     "metadata": {},
     "output_type": "execute_result"
    }
   ],
   "source": [
    "1 < 10 # Returns True"
   ]
  },
  {
   "cell_type": "code",
   "execution_count": 264,
   "metadata": {},
   "outputs": [
    {
     "data": {
      "text/plain": [
       "False"
      ]
     },
     "execution_count": 264,
     "metadata": {},
     "output_type": "execute_result"
    }
   ],
   "source": [
    "1 > 10 # Returns False"
   ]
  },
  {
   "cell_type": "code",
   "execution_count": 265,
   "metadata": {},
   "outputs": [
    {
     "data": {
      "text/plain": [
       "(True, True)"
      ]
     },
     "execution_count": 265,
     "metadata": {},
     "output_type": "execute_result"
    }
   ],
   "source": [
    "2 <= 2, 2 >= 2 # Returns (True, True)"
   ]
  },
  {
   "cell_type": "markdown",
   "metadata": {},
   "source": [
    "## Check whether a value is in a range"
   ]
  },
  {
   "cell_type": "code",
   "execution_count": 266,
   "metadata": {},
   "outputs": [
    {
     "data": {
      "text/plain": [
       "True"
      ]
     },
     "execution_count": 266,
     "metadata": {},
     "output_type": "execute_result"
    }
   ],
   "source": [
    "1 < 2 and 2 < 3 # Returns True"
   ]
  },
  {
   "cell_type": "code",
   "execution_count": 267,
   "metadata": {},
   "outputs": [
    {
     "data": {
      "text/plain": [
       "False"
      ]
     },
     "execution_count": 267,
     "metadata": {},
     "output_type": "execute_result"
    }
   ],
   "source": [
    "2 < 3 and 3 < 2 # Returns False"
   ]
  },
  {
   "cell_type": "markdown",
   "metadata": {},
   "source": [
    "### Chaining makes the above look nicer"
   ]
  },
  {
   "cell_type": "code",
   "execution_count": 268,
   "metadata": {},
   "outputs": [
    {
     "data": {
      "text/plain": [
       "True"
      ]
     },
     "execution_count": 268,
     "metadata": {},
     "output_type": "execute_result"
    }
   ],
   "source": [
    "1 < 2 < 3 # Returns True"
   ]
  },
  {
   "cell_type": "code",
   "execution_count": 269,
   "metadata": {},
   "outputs": [
    {
     "data": {
      "text/plain": [
       "False"
      ]
     },
     "execution_count": 269,
     "metadata": {},
     "output_type": "execute_result"
    }
   ],
   "source": [
    "2 < 3 < 2 # Returns False"
   ]
  },
  {
   "cell_type": "markdown",
   "metadata": {},
   "source": [
    "### Casting integers as booleans transforms a non-zero integer to True, while zeros get transformed to False:\n"
   ]
  },
  {
   "cell_type": "code",
   "execution_count": 270,
   "metadata": {},
   "outputs": [
    {
     "data": {
      "text/plain": [
       "False"
      ]
     },
     "execution_count": 270,
     "metadata": {},
     "output_type": "execute_result"
    }
   ],
   "source": [
    "bool(0)  # Returns False"
   ]
  },
  {
   "cell_type": "code",
   "execution_count": 271,
   "metadata": {},
   "outputs": [
    {
     "data": {
      "text/plain": [
       "True"
      ]
     },
     "execution_count": 271,
     "metadata": {},
     "output_type": "execute_result"
    }
   ],
   "source": [
    "bool(4)  # Returns True"
   ]
  },
  {
   "cell_type": "code",
   "execution_count": 272,
   "metadata": {},
   "outputs": [
    {
     "data": {
      "text/plain": [
       "True"
      ]
     },
     "execution_count": 272,
     "metadata": {},
     "output_type": "execute_result"
    }
   ],
   "source": [
    "bool(-6) # Returns True"
   ]
  },
  {
   "cell_type": "markdown",
   "metadata": {},
   "source": [
    "## NOTE: Using logical operators with integers casts them to booleans for evaluation, using the same rules as mentioned above. \n",
    "\n",
    "### NOTE: that the original pre-cast value is returned."
   ]
  },
  {
   "cell_type": "code",
   "execution_count": 273,
   "metadata": {},
   "outputs": [
    {
     "data": {
      "text/plain": [
       "0"
      ]
     },
     "execution_count": 273,
     "metadata": {},
     "output_type": "execute_result"
    }
   ],
   "source": [
    "0 and 2 # Returns 0"
   ]
  },
  {
   "cell_type": "code",
   "execution_count": 274,
   "metadata": {},
   "outputs": [
    {
     "data": {
      "text/plain": [
       "-5"
      ]
     },
     "execution_count": 274,
     "metadata": {},
     "output_type": "execute_result"
    }
   ],
   "source": [
    "-5 or 0 # Returns -5"
   ]
  },
  {
   "cell_type": "markdown",
   "metadata": {},
   "source": [
    "<center><div class=\"alert alert-block alert-success\">\n",
    "    \n",
    "## 12c. `Strings`\n",
    "\n",
    "Python has great support for strings -"
   ]
  },
  {
   "cell_type": "code",
   "execution_count": 275,
   "metadata": {},
   "outputs": [],
   "source": [
    "hello = 'hello'                 # String literals can use single quotes\n",
    "world = \"world\"                 # or double quotes; it does not matter."
   ]
  },
  {
   "cell_type": "markdown",
   "metadata": {},
   "source": [
    "## NOTE: You can nest one in another, for e.g., 'a\"x\"b' and \"a'x'b\"\n"
   ]
  },
  {
   "cell_type": "code",
   "execution_count": 276,
   "metadata": {},
   "outputs": [
    {
     "name": "stdout",
     "output_type": "stream",
     "text": [
      "hello\n"
     ]
    },
    {
     "data": {
      "text/plain": [
       "5"
      ]
     },
     "execution_count": 276,
     "metadata": {},
     "output_type": "execute_result"
    }
   ],
   "source": [
    "print(hello)                    # Prints \"hello\"\n",
    "len(hello)                      # String length; returns \"5\""
   ]
  },
  {
   "cell_type": "code",
   "execution_count": 277,
   "metadata": {},
   "outputs": [
    {
     "data": {
      "text/plain": [
       "'hello world'"
      ]
     },
     "execution_count": 277,
     "metadata": {},
     "output_type": "execute_result"
    }
   ],
   "source": [
    "hello[0]                        # A string can be treated like a list of characters, returns 'h'\n",
    "hello + ' ' + world             # String concatenation using '+', returns \"hello world\""
   ]
  },
  {
   "cell_type": "code",
   "execution_count": 278,
   "metadata": {},
   "outputs": [
    {
     "data": {
      "text/plain": [
       "'hello world'"
      ]
     },
     "execution_count": 278,
     "metadata": {},
     "output_type": "execute_result"
    }
   ],
   "source": [
    "\"hello \" \"world\"                # String literals (but not variables) can be concatenated without using '+', returns \"hello world\""
   ]
  },
  {
   "cell_type": "code",
   "execution_count": 279,
   "metadata": {},
   "outputs": [
    {
     "data": {
      "text/plain": [
       "'hello world 12'"
      ]
     },
     "execution_count": 279,
     "metadata": {},
     "output_type": "execute_result"
    }
   ],
   "source": [
    "'%s %s %d' % (hello, world, 12) # sprintf style string formatting, returns \"hello world 12\""
   ]
  },
  {
   "cell_type": "markdown",
   "metadata": {},
   "source": [
    "## String Methods/Operations\n",
    "\n",
    "### String objects have a bunch of useful methods; for example:\n"
   ]
  },
  {
   "cell_type": "code",
   "execution_count": 280,
   "metadata": {},
   "outputs": [
    {
     "data": {
      "text/plain": [
       "'Hello'"
      ]
     },
     "execution_count": 280,
     "metadata": {},
     "output_type": "execute_result"
    }
   ],
   "source": [
    "s = \"hello\"\n",
    "s.capitalize()          # Capitalize a string; returns \"Hello\""
   ]
  },
  {
   "cell_type": "code",
   "execution_count": 281,
   "metadata": {},
   "outputs": [
    {
     "data": {
      "text/plain": [
       "'HELLO'"
      ]
     },
     "execution_count": 281,
     "metadata": {},
     "output_type": "execute_result"
    }
   ],
   "source": [
    "s.upper()               # Convert a string to uppercase; prints \"HELLO\""
   ]
  },
  {
   "cell_type": "code",
   "execution_count": 282,
   "metadata": {},
   "outputs": [
    {
     "data": {
      "text/plain": [
       "'  hello'"
      ]
     },
     "execution_count": 282,
     "metadata": {},
     "output_type": "execute_result"
    }
   ],
   "source": [
    "s.rjust(7)              # Right-justify a string, padding with spaces; returns \"  hello\""
   ]
  },
  {
   "cell_type": "code",
   "execution_count": 283,
   "metadata": {},
   "outputs": [
    {
     "data": {
      "text/plain": [
       "' hello '"
      ]
     },
     "execution_count": 283,
     "metadata": {},
     "output_type": "execute_result"
    }
   ],
   "source": [
    "s.center(7)             # Center a string, padding with spaces; returns \" hello \""
   ]
  },
  {
   "cell_type": "code",
   "execution_count": 284,
   "metadata": {},
   "outputs": [
    {
     "data": {
      "text/plain": [
       "'he(ell)(ell)o'"
      ]
     },
     "execution_count": 284,
     "metadata": {},
     "output_type": "execute_result"
    }
   ],
   "source": [
    "s.replace('l', '(ell)') # Replace all instances of one substring with another;\n",
    "                        # returns \"he(ell)(ell)o\""
   ]
  },
  {
   "cell_type": "code",
   "execution_count": 285,
   "metadata": {},
   "outputs": [
    {
     "data": {
      "text/plain": [
       "'world'"
      ]
     },
     "execution_count": 285,
     "metadata": {},
     "output_type": "execute_result"
    }
   ],
   "source": [
    "'  world '.strip()      # Strip leading and trailing whitespace; returns \"world\""
   ]
  },
  {
   "cell_type": "markdown",
   "metadata": {},
   "source": [
    "### You can find a list of all string methods in the Python documentation."
   ]
  },
  {
   "cell_type": "markdown",
   "metadata": {},
   "source": [
    "## String Formatting\n",
    "\n",
    "Python has several different ways of formatting strings. Simple positional formatting is probably the most common use-case. Use it if the order of your arguments is not likely to change and you only have very few elements you want to concatenate. Since the elements are not represented by something as descriptive as a name this simple style should only be used to format a relatively small number of elements."
   ]
  },
  {
   "cell_type": "code",
   "execution_count": null,
   "metadata": {},
   "outputs": [],
   "source": []
  },
  {
   "cell_type": "code",
   "execution_count": null,
   "metadata": {},
   "outputs": [],
   "source": []
  },
  {
   "cell_type": "code",
   "execution_count": null,
   "metadata": {},
   "outputs": [],
   "source": []
  },
  {
   "cell_type": "code",
   "execution_count": null,
   "metadata": {},
   "outputs": [],
   "source": []
  },
  {
   "cell_type": "code",
   "execution_count": null,
   "metadata": {},
   "outputs": [],
   "source": []
  },
  {
   "cell_type": "code",
   "execution_count": null,
   "metadata": {},
   "outputs": [],
   "source": []
  },
  {
   "cell_type": "code",
   "execution_count": null,
   "metadata": {},
   "outputs": [],
   "source": []
  },
  {
   "cell_type": "code",
   "execution_count": null,
   "metadata": {},
   "outputs": [],
   "source": []
  },
  {
   "cell_type": "code",
   "execution_count": null,
   "metadata": {},
   "outputs": [],
   "source": []
  },
  {
   "cell_type": "code",
   "execution_count": null,
   "metadata": {},
   "outputs": [],
   "source": []
  },
  {
   "cell_type": "code",
   "execution_count": null,
   "metadata": {},
   "outputs": [],
   "source": []
  },
  {
   "cell_type": "code",
   "execution_count": null,
   "metadata": {},
   "outputs": [],
   "source": []
  },
  {
   "cell_type": "code",
   "execution_count": null,
   "metadata": {},
   "outputs": [],
   "source": []
  },
  {
   "cell_type": "code",
   "execution_count": null,
   "metadata": {},
   "outputs": [],
   "source": []
  },
  {
   "cell_type": "code",
   "execution_count": null,
   "metadata": {},
   "outputs": [],
   "source": []
  },
  {
   "cell_type": "code",
   "execution_count": null,
   "metadata": {},
   "outputs": [],
   "source": []
  },
  {
   "cell_type": "code",
   "execution_count": null,
   "metadata": {},
   "outputs": [],
   "source": []
  },
  {
   "cell_type": "markdown",
   "metadata": {},
   "source": [
    " <center> <div class=\"alert alert-block alert-info\">   \n",
    "\n",
    "# 13. Containers\n",
    "Like most languages, Python has a number of basic types including integers, floats, booleans, and strings.\n",
    "\n"
   ]
  },
  {
   "cell_type": "markdown",
   "metadata": {},
   "source": [
    " <center> <div class=\"alert alert-block alert-info\">   \n",
    "\n",
    "# 14. Type hinting\n",
    "Like most languages, Python has a number of basic types including integers, floats, booleans, and strings.\n",
    "\n"
   ]
  },
  {
   "cell_type": "markdown",
   "metadata": {},
   "source": [
    " <center> <div class=\"alert alert-block alert-info\">   \n",
    "\n",
    "# 15. Control Flow\n",
    "Like most languages, Python has a number of basic types including integers, floats, booleans, and strings.\n",
    "\n"
   ]
  },
  {
   "cell_type": "markdown",
   "metadata": {},
   "source": [
    " <center> <div class=\"alert alert-block alert-info\">   \n",
    "\n",
    "# 16. Lambda functions\n",
    "Like most languages, Python has a number of basic types including integers, floats, booleans, and strings.\n",
    "\n"
   ]
  },
  {
   "cell_type": "markdown",
   "metadata": {},
   "source": [
    " <center> <div class=\"alert alert-block alert-info\">   \n",
    "\n",
    "# 17. Generators\n",
    "Like most languages, Python has a number of basic types including integers, floats, booleans, and strings.\n",
    "\n"
   ]
  },
  {
   "cell_type": "markdown",
   "metadata": {},
   "source": [
    " <center> <div class=\"alert alert-block alert-info\">   \n",
    "\n",
    "# 18. Decorators\n",
    "Like most languages, Python has a number of basic types including integers, floats, booleans, and strings.\n",
    "\n"
   ]
  },
  {
   "cell_type": "markdown",
   "metadata": {},
   "source": [
    " <center> <div class=\"alert alert-block alert-info\">   \n",
    "\n",
    "# 19. Functions\n",
    "Like most languages, Python has a number of basic types including integers, floats, booleans, and strings.\n",
    "\n"
   ]
  },
  {
   "cell_type": "markdown",
   "metadata": {},
   "source": [
    " <center> <div class=\"alert alert-block alert-info\">   \n",
    "\n",
    "# 20. Nested Functions\n",
    "Like most languages, Python has a number of basic types including integers, floats, booleans, and strings.\n",
    "\n"
   ]
  },
  {
   "cell_type": "markdown",
   "metadata": {},
   "source": [
    " <center> <div class=\"alert alert-block alert-info\">   \n",
    "\n",
    "# 21. File I/O\n",
    "Like most languages, Python has a number of basic types including integers, floats, booleans, and strings.\n",
    "\n"
   ]
  },
  {
   "cell_type": "markdown",
   "metadata": {},
   "source": [
    " <center> <div class=\"alert alert-block alert-info\">   \n",
    "\n",
    "# 22. Opening Files in Python\n",
    "Like most languages, Python has a number of basic types including integers, floats, booleans, and strings.\n",
    "\n"
   ]
  },
  {
   "cell_type": "markdown",
   "metadata": {},
   "source": [
    " <center> <div class=\"alert alert-block alert-info\">   \n",
    "\n",
    "# 23. Magic Methods\n",
    "Like most languages, Python has a number of basic types including integers, floats, booleans, and strings.\n",
    "\n"
   ]
  },
  {
   "cell_type": "markdown",
   "metadata": {},
   "source": [
    " <center> <div class=\"alert alert-block alert-info\">   \n",
    "\n",
    "# 24. Exceptions\n",
    "Like most languages, Python has a number of basic types including integers, floats, booleans, and strings.\n",
    "\n"
   ]
  },
  {
   "cell_type": "markdown",
   "metadata": {},
   "source": [
    " <center> <div class=\"alert alert-block alert-info\">   \n",
    "\n",
    "# 25. Modules\n",
    "Like most languages, Python has a number of basic types including integers, floats, booleans, and strings.\n",
    "\n"
   ]
  },
  {
   "cell_type": "markdown",
   "metadata": {},
   "source": [
    " <center> <div class=\"alert alert-block alert-info\">   \n",
    "\n",
    "# 26. Classes\n",
    "Like most languages, Python has a number of basic types including integers, floats, booleans, and strings.\n",
    "\n"
   ]
  },
  {
   "cell_type": "markdown",
   "metadata": {},
   "source": [
    " <center> <div class=\"alert alert-block alert-info\">   \n",
    "\n",
    "# 26. Selected Built-ins\n",
    "Like most languages, Python has a number of basic types including integers, floats, booleans, and strings."
   ]
  },
  {
   "cell_type": "code",
   "execution_count": null,
   "metadata": {},
   "outputs": [],
   "source": []
  },
  {
   "cell_type": "code",
   "execution_count": null,
   "metadata": {},
   "outputs": [],
   "source": []
  },
  {
   "cell_type": "code",
   "execution_count": null,
   "metadata": {},
   "outputs": [],
   "source": []
  },
  {
   "cell_type": "code",
   "execution_count": null,
   "metadata": {},
   "outputs": [],
   "source": []
  }
 ],
 "metadata": {
  "kernelspec": {
   "display_name": "Python 3 (ipykernel)",
   "language": "python",
   "name": "python3"
  },
  "language_info": {
   "codemirror_mode": {
    "name": "ipython",
    "version": 3
   },
   "file_extension": ".py",
   "mimetype": "text/x-python",
   "name": "python",
   "nbconvert_exporter": "python",
   "pygments_lexer": "ipython3",
   "version": "3.7.6"
  },
  "widgets": {
   "application/vnd.jupyter.widget-state+json": {
    "state": {},
    "version_major": 2,
    "version_minor": 0
   }
  }
 },
 "nbformat": 4,
 "nbformat_minor": 5
}
