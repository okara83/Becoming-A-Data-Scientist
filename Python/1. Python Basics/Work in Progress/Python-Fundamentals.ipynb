{
 "cells": [
  {
   "cell_type": "code",
   "execution_count": 1,
   "id": "688ef90f-7ab6-4dd6-b1da-8768649a2407",
   "metadata": {},
   "outputs": [
    {
     "data": {
      "text/html": [
       "<style>.container { width:100% !important; }</style>"
      ],
      "text/plain": [
       "<IPython.core.display.HTML object>"
      ]
     },
     "metadata": {},
     "output_type": "display_data"
    }
   ],
   "source": [
    "\"Beginners, ignore this first cell\"\n",
    "from IPython.display import display, HTML\n",
    "display(HTML(\"<style>.container { width:100% !important; }</style>\"))"
   ]
  },
  {
   "cell_type": "markdown",
   "id": "94b2a02b-d9a5-477c-a88a-d83fe7ea508e",
   "metadata": {},
   "source": [
    "***"
   ]
  },
  {
   "cell_type": "markdown",
   "id": "5306c6f3",
   "metadata": {},
   "source": [
    "<div class=\"alert alert-block alert-warning\"><center>\n",
    "<span style=\"font-size: 34px;\">Python Primer</span></div>"
   ]
  },
  {
   "cell_type": "markdown",
   "id": "ec1be32a",
   "metadata": {},
   "source": [
    "<ul id=\"markdown-toc\"> <li>1. Python</li> <li>2. Python versions</li> <li>3. Python style guide</li> <li>4. Python notebooks: Jupyter and Colab</li> <li>5. The Zen of Python</li> <li>6. Indentation</li> <li>7. Code comments</li> <li>8. Variables</li> <li>9. Print function</li> <li>10. Input function</li> <li>11. Order of operations</li> <li> 12. Basic data types <ul> <li> a. Numbers </li> <ul><li>Use Underscores to Format Large Numbers</li> </ul> <li>b. Booleans</li> <li>c. Strings <ul> <li>String formatting <ul> <li>Old style/pre-Python 2.6</li> <li>New style/Python 2.6</li> <li>f-strings</li> </ul> </li> <li>Padding and aligning strings</li> <li>Truncating long strings</li> <li>Combining truncating and padding</li> <li>Numbers</li> <li>Padding numbers</li> <li>Index of a Substring in a Python String</li> <li>Replace One String with Another String Using Regular Expressions</li> </ul> </li> </ul> </li> <li>13. Containers <ul> <li> a. Lists <ul> <li>Iterate over a list</li> <li>List comprehensions <ul> <li>From loops to comprehensions</li> <li>Nested Loops</li> </ul> </li> <li>Slicing</li> <li>List functions</li> </ul> </li> <li> b. Dictionaries <ul> <li>Accessing a non-existent key</li> <li><code class=\"language-plaintext highlighter-rouge\">&lt;dict&gt;.get()</code></li> <li><code class=\"language-plaintext highlighter-rouge\">defaultdict</code></li> <li>Key membership check</li> <li>Iterating over keys</li> <li><code class=\"language-plaintext highlighter-rouge\">del</code></li> <li>Key datatypes</li> <li>Iterate over a dictionary</li> <li>Dictionary comprehensions</li> </ul> </li> <li> c. Sets <ul> <li>Set operations</li> <li>Iterating over a set</li> <li>Set comprehensions</li> </ul> </li> <li> d. Tuples</li> </ul> </li> <li>14. Type hinting <ul> <li>Type aliases</li> <li>Any</li> <li>Tuple</li> <li>List</li> <li>Union</li> <li>Optional</li> </ul> </li> <li>15. Control flow <ul> <li><code class=\"language-plaintext highlighter-rouge\">if</code> statement <ul> <li>Conditional expression</li> </ul> </li> <li><code class=\"language-plaintext highlighter-rouge\">for</code> loop <ul> <li><code class=\"language-plaintext highlighter-rouge\">else</code> clause</li> </ul> </li> <li><code class=\"language-plaintext highlighter-rouge\">while</code> loop</li> </ul> </li> <li>16. Lambda functions <ul> <li>Lambda function use-cases</li> <li>The pros and cons of lambda functions</li> <li>Misuse and overuse scenarios <ul> <li>Misuse: naming lambda expressions</li> <li>Misuse: needless function calls</li> <li>Overuse: simple, but non-trivial functions</li> <li>Overuse: when multiple lines would help</li> <li>Overuse: lambda with map and filter</li> <li>Misuse: sometimes you don’t even need to pass a function</li> <li>Overuse: using lambda for very simple operations</li> <li>Overuse: when higher order functions add confusion</li> </ul> </li> </ul> </li> <li>17. The Iterator Protocol: How <code class=\"language-plaintext highlighter-rouge\">for</code> loops work in Python <ul> <li>Looping with indexes</li> <li>Iterables</li> <li>Iterators</li> <li>Iterators are also iterables</li> <li>The Iterator Protocol</li> <li>Looping with iterators</li> <li>Putting it all together</li> <li>Creating a custom iterator <ul> <li>Why make an iterator?</li> <li>Making an iterator: the object-oriented way</li> </ul> </li> </ul> </li> <li>18.Generators <ul> <li>Generator functions</li> <li> Generator expressions</li> <li>Generator expressions vs. generator functions</li> </ul> </li> <li>19. Decorators</li> <li>20. Functions</li> <li>21. Nested functions <ul> <li>Defining a nonlocal variable in a nested function using <code class=\"language-plaintext highlighter-rouge\">nonlocal</code></li> <li>Closure</li> <li>Defining a global variable using <code class=\"language-plaintext highlighter-rouge\">global</code></li> </ul> </li> <li>22. File I/O <ul> <li>Files</li>  <li> Opening Files in Python</li> <ul> <li>Closing Files in Python</li> <li>Writing to Files in Python</li> <li>Reading Files in Python <ul> <li><code class=\"language-plaintext highlighter-rouge\">read()</code></li> <li><code class=\"language-plaintext highlighter-rouge\">for</code> loop</li> <li><code class=\"language-plaintext highlighter-rouge\">readline()</code></li> <li><code class=\"language-plaintext highlighter-rouge\">readlines()</code></li> </ul> </li> <li>Python File Methods</li> </ul> </li> <li>23. Magic methods <ul> <li>Common magic methods <ul> <li>Construction and initialization</li> <li>Comparison magic methods</li> <li>Numeric magic methods <ul> <li>Unary operators and functions</li> <li>Normal arithmetic operators</li> </ul> </li> </ul> </li> <li>Creating custom sequences <ul> <li>Requirements</li> <li>The magic behind containers</li> <li>Example</li> </ul> </li> <li>Making operators work on custom classes</li> <li>Common magic methods scenarios</li> </ul> </li> <li>24. Exceptions <ul> <li>Exception handling</li> <li>Multiple <code class=\"language-plaintext highlighter-rouge\">except</code> clauses</li> <li>Custom exceptions</li> <li>Clean-up actions (<code class=\"language-plaintext highlighter-rouge\">try</code> ... <code class=\"language-plaintext highlighter-rouge\">finally</code>)</li> <li>Combining <code class=\"language-plaintext highlighter-rouge\">try</code>, <code class=\"language-plaintext highlighter-rouge\">except</code> and <code class=\"language-plaintext highlighter-rouge\">finally</code></li> <li>Handle exceptions with a <code class=\"language-plaintext highlighter-rouge\">try/except</code> block</li> <li><code class=\"language-plaintext highlighter-rouge\">else</code> clause</li> <li><code class=\"language-plaintext highlighter-rouge\">with</code> statement</li> <li>Handling nested exceptions</li> <li>Built-in exceptions</li> </ul> </li> <li>25. Modules <ul> <li>Modules vs. Packages</li> </ul> </li> <li>26. Classes <ul> <li>Inheritance <ul> <li>Multiple inheritance</li> </ul> </li> </ul> </li> <li>27. Selected built-ins <ul> <li><code class=\"language-plaintext highlighter-rouge\">any</code>/<code class=\"language-plaintext highlighter-rouge\">all</code></li> <li><code class=\"language-plaintext highlighter-rouge\">dir</code></li> <li><code class=\"language-plaintext highlighter-rouge\">eval</code></li> <li><code class=\"language-plaintext highlighter-rouge\">filter</code></li> <li><code class=\"language-plaintext highlighter-rouge\">isinstance</code></li> <li><code class=\"language-plaintext highlighter-rouge\">issubclass</code></li> <li><code class=\"language-plaintext highlighter-rouge\">iter</code></li> <li><code class=\"language-plaintext highlighter-rouge\">len</code></li> <li><code class=\"language-plaintext highlighter-rouge\">range</code></li> <li><code class=\"language-plaintext highlighter-rouge\">reversed</code></li> <li><code class=\"language-plaintext highlighter-rouge\">sort</code> <ul> <li>Basics</li> <li>Sort Key</li> </ul> </li> </ul> </li> </ul>\n"
   ]
  },
  {
   "cell_type": "markdown",
   "id": "044fd3b0-0ded-4ca4-9bbb-abd4ff0123d1",
   "metadata": {},
   "source": [
    "\n",
    "* [Section 1 - The Python Programming Language](#section1)\n",
    "\n",
    "* [Section 2 - Python versions](#section2)\n",
    "\n",
    "* [Section 3 - Python style guide](#section3)\n",
    "\n",
    "* [Section 4 - Python notebooks: Jupyter, Jupyterlab and Colab](#section4)\n",
    "\n",
    "* [Section 5 - The Zen of Python](#section5)\n",
    "\n",
    "* [Section 6 - Indentation and Syntax](#section6)\n",
    "\n",
    "* [Section 7 - Code Comments](#section7)\n",
    "\n",
    "    * [Section 7.1 - Commenting Single Lines With Hash](#section7.1)\n",
    "\n",
    "    * [Section 7.2 - Commenting Multiple Lines By Encapselating Quotes](#section7.2)\n",
    "\n",
    "* [Section 8 - Variables and How to Use Them](#section8)\n",
    "\n",
    "* [Section 9 - Print Function](#section9)\n",
    "\n",
    "* [Section 10 - Input Function](#section10)\n",
    "\n",
    "* [Section 11 - Order of Operations](#section11)\n",
    "\n",
    "* [Section 12 - Python Data Types](#section12)\n",
    "\n",
    "    * [Section 12.1 - Numbers](#section12.1)\n",
    "    \n",
    "        * [Section 12.1.1 -Integers (int)](#section12.1.1)\n",
    "        \n",
    "        * [Section 12.1.2 - Floats (float)](#section12.1.2)\n",
    "    \n",
    "    * [Section 12.2 - Booleans](#section12.2)\n",
    "    \n",
    "    * [Section 12.3- Strings](#section12.3)\n",
    "         * [Section 12.3.1 - String formatting](#section12.3.1)\n",
    "             * [Section 12.3.1.1 - Legacy Methods: Pythons built-in `.format()` method](#section12.3.1.1)\n",
    "             * [Section 12.3.1.2 - f-strings](#section12.3.1.2)\n",
    "        * [Section 12.3.3 - Operations on Strings](#section12.3.3)\n",
    "            * [Section 12.3.3.1 - Index of a Substring in a Python String](#section12.3.3.1)\n",
    "            * [Section 12.3.3.2 - Replace One String with Another String Using Regular Expressions](#section12.3.3.2)\n",
    "           \n",
    "    * [Section 12.4 - Containers](#section13)\n",
    "         * [Section 12.4.1 - `Tuples ()` ](#section12.4.1)\n",
    "         * [Section 12.4.2 - `Lists []` ](#section12.4.2)\n",
    "         * [Section 12.4.3 - `Sets {}` ](#section12.4.3)\n",
    "         * [Section 12.4.4 - `Dicts {\"a\":\"b\"}` ](#section12.4.4)\n",
    "\n",
    "\n",
    "    [Section 12.5 -Type Hinting](#section14)\n"
   ]
  },
  {
   "cell_type": "markdown",
   "id": "271033fa",
   "metadata": {},
   "source": [
    " <center><div class=\"alert alert-block alert-info\">\n",
    "\n",
    " # 1. <a id=\"section1\">The Python Programming Language</a>\n",
    " \n",
    "Python is a high-level, dynamically typed multiparadigm programming language, created by Guido van Rossum in the early 90s. It is now one of the most popular languages in existence.\n",
    "Python’s syntactic clarity allows you to express very powerful ideas in very few lines of code while being very readable. It’s basically executable pseudocode!\n",
    "As an example, here is an implementation of the classic Quicksort algorithm in Python:"
   ]
  },
  {
   "cell_type": "code",
   "execution_count": 103,
   "id": "3bbfdde4",
   "metadata": {},
   "outputs": [],
   "source": [
    "def quicksort(arr):\n",
    "    if len(arr) <= 1:\n",
    "        return arr\n",
    "    pivot = arr[len(arr) // 2]\n",
    "    left = [x for x in arr if x < pivot]\n",
    "    middle = [x for x in arr if x == pivot]\n",
    "    right = [x for x in arr if x > pivot]\n",
    "    return quicksort(left) + middle + quicksort(right)"
   ]
  },
  {
   "cell_type": "code",
   "execution_count": 104,
   "id": "373082f2",
   "metadata": {},
   "outputs": [
    {
     "data": {
      "text/plain": [
       "[1, 1, 2, 3, 6, 8, 10]"
      ]
     },
     "execution_count": 104,
     "metadata": {},
     "output_type": "execute_result"
    }
   ],
   "source": [
    "quicksort([3, 6, 8, 10, 1, 2, 1]) \n",
    "# Returns \"[1, 1, 2, 3, 6, 8, 10]\""
   ]
  },
  {
   "cell_type": "markdown",
   "id": "44b0179b",
   "metadata": {},
   "source": [
    "<center> <div class=\"alert alert-block alert-info\">\n",
    "    \n",
    "# 2. <a id=\"section2\">Python Versions</a>\n",
    "As of Janurary 1, 2020, Python has officially dropped support for Python 2.\n",
    "If you haven’t experimented with Python at all and are just starting off, we recommend you begin with the latest version of Python 3.\n",
    "You can double-check your Python version at the command line after activating your environment by running python --version."
   ]
  },
  {
   "cell_type": "code",
   "execution_count": 12,
   "id": "d5fabf29",
   "metadata": {},
   "outputs": [],
   "source": [
    "# python -v\n",
    "# python --version"
   ]
  },
  {
   "cell_type": "markdown",
   "id": "b615d64a",
   "metadata": {},
   "source": [
    " <center> <div class=\"alert alert-block alert-info\">\n",
    "    \n",
    "# 3. <a id=\"section3\">Python Style Guide</a>\n",
    "Google’s Python Style Guide is a fantastic resource with a list of dos and don’ts for formatting Python code that is commonly followed in the industry.</div>"
   ]
  },
  {
   "cell_type": "markdown",
   "id": "ab6640b8",
   "metadata": {},
   "source": [
    "<center>  <div class=\"alert alert-block alert-info\">   \n",
    "\n",
    "# 4.  <a id=\"section4\">Python notebooks: Jupyter, Jupyterlab and Colab</a>\n",
    "\n",
    "* Before we dive into Python, we’d like to briefly talk about notebooks and creating virtual environments.\n",
    "* If you’re looking to work on different projects, you’ll likely be utilizing different versions of Python modules. In this case, it is a good practice to have multiple virtual environments to work on different projects.\n",
    "* Python Setup: Remote vs. Local offers an in-depth coverage of the various remote and local options available.</div>"
   ]
  },
  {
   "cell_type": "markdown",
   "id": "2c336e6c",
   "metadata": {},
   "source": [
    " <center> <div class=\"alert alert-block alert-info\">   \n",
    "\n",
    "# 5.  <a id=\"section5\">The Zen of Python</a>\n",
    "<span style=\"font-size:20px\"><b>The Zen of Python</b></span> by Tim Peters are 19 guidelines for the design of the Python language. Your Python code doesn’t necessarily have to follow these guidelines, but they’re good to keep in mind. The Zen of Python is an Easter egg, or hidden joke, that appears if you run\n",
    "\n",
    "`import this`"
   ]
  },
  {
   "cell_type": "code",
   "execution_count": 224,
   "id": "6a6578fc-1876-4d92-9069-28ff76e14e45",
   "metadata": {},
   "outputs": [],
   "source": [
    "import this"
   ]
  },
  {
   "cell_type": "markdown",
   "id": "a7fe9342-e175-4550-b7e4-1811fc0b3fbf",
   "metadata": {},
   "source": [
    " * <span style=\"font-size:24px\"> For additional stylistic best practices and coding principles like those above, refer to [The Zen of Python, Explained](https://inventwithpython.com/blog/2018/08/17/the-zen-of-python-explained/).</span>"
   ]
  },
  {
   "cell_type": "markdown",
   "id": "9af101ea",
   "metadata": {},
   "source": [
    " <center> <div class=\"alert alert-block alert-info\">   \n",
    "\n",
    "# 6.  <a id=\"section6\">Indentation and Syntax</a>\n",
    "Python is big on indentation! Where in other programming languages the indentation in code is to improve readability, Python uses indentation to indicate a block of code.\n",
    "The convention is to use $\\textbf{four spaces, not tabs}$.\n"
   ]
  },
  {
   "cell_type": "markdown",
   "id": "26d8ae31-7cac-4e7a-b542-04539e2879b8",
   "metadata": {},
   "source": []
  },
  {
   "cell_type": "markdown",
   "id": "27633809",
   "metadata": {},
   "source": [
    " <center> <div class=\"alert alert-block alert-info\">   \n",
    "\n",
    "# 7.  <a id=\"section7\">Code Comments</a>\n",
    "Python supports two types of comments: single-line and multi-line, as detailed below:\n"
   ]
  },
  {
   "cell_type": "markdown",
   "id": "188f7c7a",
   "metadata": {},
   "source": [
    "<center>\n",
    "<div class=\"alert alert-block alert-info\">   \n",
    "\n",
    "## 7.1  <a id=\"section7.1\">Commenting Single Lines With Hash</a>"
   ]
  },
  {
   "cell_type": "raw",
   "id": "7af0192b",
   "metadata": {},
   "source": [
    "# Single line comments start with a number symbol."
   ]
  },
  {
   "cell_type": "markdown",
   "id": "7054bd7a",
   "metadata": {},
   "source": [
    "<center>\n",
    " <div class=\"alert alert-block alert-info\">   \n",
    "\n",
    "## 7.2  <a id=\"section7.2\">Commenting Multiple Lines By Encapselating Quotes</a>"
   ]
  },
  {
   "cell_type": "code",
   "execution_count": 3,
   "id": "a215efd2",
   "metadata": {},
   "outputs": [
    {
     "data": {
      "text/plain": [
       "' Multiline strings can be written using three double quotes, \\n    and are often used for documentation (hence called \"docstrings\").\\n    They are also the closest concept to multi-line comments in other languages.\\n'"
      ]
     },
     "execution_count": 3,
     "metadata": {},
     "output_type": "execute_result"
    }
   ],
   "source": [
    "\"\"\" Multiline strings can be written using three double quotes, \n",
    "    and are often used for documentation (hence called \"docstrings\").\n",
    "    They are also the closest concept to multi-line comments in other languages.\n",
    "\"\"\""
   ]
  },
  {
   "cell_type": "markdown",
   "id": "09d903a5-27e5-4898-a491-6d5dab43d64c",
   "metadata": {},
   "source": [
    "<center>\n",
    " <div class=\"alert alert-block alert-info\">   \n",
    "\n",
    "# 8. <a id=\"section8\"> Variables</a>\n",
    "In Python, there are no declarations unlike C/C++; only assignments:"
   ]
  },
  {
   "cell_type": "code",
   "execution_count": 4,
   "id": "f83f3ba9-26cf-461c-9216-f770dfc445a3",
   "metadata": {},
   "outputs": [
    {
     "data": {
      "text/plain": [
       "5"
      ]
     },
     "execution_count": 4,
     "metadata": {},
     "output_type": "execute_result"
    }
   ],
   "source": [
    "some_var = 5\n",
    "some_var # Returns 5"
   ]
  },
  {
   "cell_type": "markdown",
   "id": "b59ef3d4-fa6c-4317-bfca-26b8c1d4fbb0",
   "metadata": {},
   "source": [
    "### Accessing a previously unassigned variable leads to a NameError exception:"
   ]
  },
  {
   "cell_type": "code",
   "execution_count": 5,
   "id": "782c7804",
   "metadata": {},
   "outputs": [
    {
     "ename": "NameError",
     "evalue": "name 'some_unknown_var' is not defined",
     "output_type": "error",
     "traceback": [
      "\u001b[0;31m---------------------------------------------------------------------------\u001b[0m",
      "\u001b[0;31mNameError\u001b[0m                                 Traceback (most recent call last)",
      "\u001b[0;32m/var/folders/sd/1vc_q83x5rn9jjrd0x47_cc00000gn/T/ipykernel_50201/825428370.py\u001b[0m in \u001b[0;36m<module>\u001b[0;34m\u001b[0m\n\u001b[0;32m----> 1\u001b[0;31m \u001b[0msome_unknown_var\u001b[0m \u001b[0;31m# Raises a NameError\u001b[0m\u001b[0;34m\u001b[0m\u001b[0;34m\u001b[0m\u001b[0m\n\u001b[0m",
      "\u001b[0;31mNameError\u001b[0m: name 'some_unknown_var' is not defined"
     ]
    }
   ],
   "source": [
    "some_unknown_var # Raises a NameError"
   ]
  },
  {
   "cell_type": "markdown",
   "id": "58cf54e9-e9b3-4cee-840c-49f84e5dce33",
   "metadata": {},
   "source": [
    "### `Variables` are `names` in Python that simply refer to `objects`. This implies that you can make another variable point to an object by assigning it the original variable that was pointing to the same object.\n"
   ]
  },
  {
   "cell_type": "code",
   "execution_count": 6,
   "id": "1f00bbc5-a765-4276-9bf3-033226e4df71",
   "metadata": {},
   "outputs": [
    {
     "data": {
      "text/plain": [
       "[1, 2, 3, 4]"
      ]
     },
     "execution_count": 6,
     "metadata": {},
     "output_type": "execute_result"
    }
   ],
   "source": [
    "a = [1, 2, 3] # Point \"a\" at a new list, [1, 2, 3, 4]\n",
    "b = a         # Point \"b\" at what \"a\" is pointing to\n",
    "b += [4]      # Extend the list pointed by \"a\" and \"b\" by adding \"4\" to it\n",
    "a             # Returns \"[1, 2, 3, 4]\""
   ]
  },
  {
   "cell_type": "code",
   "execution_count": 7,
   "id": "abd0d3eb-54de-455e-84be-6279b35bb173",
   "metadata": {},
   "outputs": [
    {
     "data": {
      "text/plain": [
       "[1, 2, 3, 4]"
      ]
     },
     "execution_count": 7,
     "metadata": {},
     "output_type": "execute_result"
    }
   ],
   "source": [
    "b             # Also returns \"[1, 2, 3, 4]\""
   ]
  },
  {
   "cell_type": "markdown",
   "id": "45d093bb-26dd-4e4b-bd87-059e561d9271",
   "metadata": {},
   "source": [
    "`is` checks if two variables refer to the same object, `while ==` checks if the objects that the variables point to have the same values:"
   ]
  },
  {
   "cell_type": "code",
   "execution_count": 8,
   "id": "61a2c90a-a6e9-4d4f-b896-c8b37d86c516",
   "metadata": {},
   "outputs": [
    {
     "data": {
      "text/plain": [
       "True"
      ]
     },
     "execution_count": 8,
     "metadata": {},
     "output_type": "execute_result"
    }
   ],
   "source": [
    "a = [1, 2, 3, 4] # Point \"a\" at a new list, [1, 2, 3, 4]\n",
    "b = a            # Point \"b\" at what a is pointing to\n",
    "b is a           # Returns True, \"a\" and \"b\" refer to the *same* object"
   ]
  },
  {
   "cell_type": "code",
   "execution_count": 9,
   "id": "5995d4e0-1f43-47ab-95b8-4c793ca52a34",
   "metadata": {},
   "outputs": [
    {
     "data": {
      "text/plain": [
       "True"
      ]
     },
     "execution_count": 9,
     "metadata": {},
     "output_type": "execute_result"
    }
   ],
   "source": [
    "b == a    # Returns True, the objects that \"a\" and \"b\" are pointing to are *equal*"
   ]
  },
  {
   "cell_type": "code",
   "execution_count": 10,
   "id": "c035e89b-6600-40fd-aa37-742d6bc2e320",
   "metadata": {},
   "outputs": [
    {
     "data": {
      "text/plain": [
       "False"
      ]
     },
     "execution_count": 10,
     "metadata": {},
     "output_type": "execute_result"
    }
   ],
   "source": [
    "b = [1, 2, 3, 4] # Point b at a new list, [1, 2, 3, 4]\n",
    "b is a           # Returns False, \"a\" and \"b\" do not refer to the *same* object"
   ]
  },
  {
   "cell_type": "code",
   "execution_count": 11,
   "id": "d4d1db95-4cb3-460b-8269-96fcd1bc00cd",
   "metadata": {},
   "outputs": [
    {
     "data": {
      "text/plain": [
       "True"
      ]
     },
     "execution_count": 11,
     "metadata": {},
     "output_type": "execute_result"
    }
   ],
   "source": [
    "b == a           # Returns True, the objects that \"a\" and \"b\" are pointing to are *equal*"
   ]
  },
  {
   "cell_type": "markdown",
   "id": "d2bba461-6015-4aca-b3c0-22e1f7bdccd4",
   "metadata": {
    "tags": []
   },
   "source": []
  },
  {
   "cell_type": "markdown",
   "id": "7e255a00-073b-460a-bcdb-4b22124666b6",
   "metadata": {},
   "source": [
    " ## <center ><div class=\"alert alert-block alert-danger\"> <span style=\"color:black; font-size: 36px;\">When working in Python, we </span> <code style=\"background:yellow;color:black\"><b>MUST REMEMBER</b> </code><span style=\"color:black; font-size: 36px;\">that in the</span> $\\newline$<span style=\"color:blue; font-size: 36px;\"> <code style=\"background:yellow;color:black\"><b>Python</b> programming language</code></span>,\n",
    "## <center > <code style=\"background:yellow;color:black\"><span style=\"color:blue; font-size: 36px;\"><b><u>EVERYTHING</u></b></span> <span style=\"color:black; font-size: 36px;\">is an </span><span style=\"color:blue; font-size: 36px;\"><b>OBJECT</b></span></code>$\\newline$<center>This means that even `None` (which is used to denote that the variable doesn’t point to an object yet) is also an object\n"
   ]
  },
  {
   "cell_type": "markdown",
   "id": "69ff91b8-e831-4856-90fb-2ff3845962b5",
   "metadata": {},
   "source": [
    "### * NOTE: DO NOT use the equality `==` symbol to compare objects to None\n",
    "### * Instead, use `is`. This checks for equality of object identity."
   ]
  },
  {
   "cell_type": "code",
   "execution_count": 286,
   "id": "bc5961ee-2b43-4566-836e-712fee9a8379",
   "metadata": {},
   "outputs": [
    {
     "name": "stderr",
     "output_type": "stream",
     "text": [
      "<>:1: SyntaxWarning: \"is\" with a literal. Did you mean \"==\"?\n",
      "<>:1: SyntaxWarning: \"is\" with a literal. Did you mean \"==\"?\n",
      "/var/folders/sd/1vc_q83x5rn9jjrd0x47_cc00000gn/T/ipykernel_38616/2939876990.py:1: SyntaxWarning: \"is\" with a literal. Did you mean \"==\"?\n",
      "  \"etc\" is None # Returns False\n"
     ]
    },
    {
     "data": {
      "text/plain": [
       "False"
      ]
     },
     "execution_count": 286,
     "metadata": {},
     "output_type": "execute_result"
    }
   ],
   "source": [
    "\"etc\" is None # Returns False"
   ]
  },
  {
   "cell_type": "code",
   "execution_count": 226,
   "id": "6d21ace9-7689-48ed-82e2-98782b597593",
   "metadata": {},
   "outputs": [
    {
     "data": {
      "text/plain": [
       "True"
      ]
     },
     "execution_count": 226,
     "metadata": {},
     "output_type": "execute_result"
    }
   ],
   "source": [
    "None is None  # Returns True"
   ]
  },
  {
   "cell_type": "markdown",
   "id": "f0448bf8-2cff-4a16-a888-006d4750eab1",
   "metadata": {},
   "source": []
  },
  {
   "cell_type": "markdown",
   "id": "faa57477-a30b-42a3-97f3-1a41846850cc",
   "metadata": {},
   "source": [
    "## Python has `local` and `global` variables. \n",
    "\n",
    "Here’s an example of local vs. global variable scope:"
   ]
  },
  {
   "cell_type": "code",
   "execution_count": 118,
   "id": "0b57c42f-1612-4096-97ed-2688248c8523",
   "metadata": {},
   "outputs": [],
   "source": [
    "x = 5\n",
    "\n",
    "def set_x(num):\n",
    "    # Local var x not the same as global variable x\n",
    "    x = num  # Returns 43\n",
    "    return x        # Returns 43\n",
    "\n",
    "def set_global_x(num):\n",
    "    global x\n",
    "    x        # Returns 5\n",
    "    x = num  # global var x is now set to 6\n",
    "    return x        # Returns 6"
   ]
  },
  {
   "cell_type": "code",
   "execution_count": 119,
   "id": "42812ee9-5e82-4433-9a62-0d3d7fa9609f",
   "metadata": {},
   "outputs": [
    {
     "data": {
      "text/plain": [
       "43"
      ]
     },
     "execution_count": 119,
     "metadata": {},
     "output_type": "execute_result"
    }
   ],
   "source": [
    "set_x(43)"
   ]
  },
  {
   "cell_type": "code",
   "execution_count": 120,
   "id": "bf319709-63a8-4263-ab1a-7ba7fb823f81",
   "metadata": {},
   "outputs": [
    {
     "data": {
      "text/plain": [
       "6"
      ]
     },
     "execution_count": 120,
     "metadata": {},
     "output_type": "execute_result"
    }
   ],
   "source": [
    "set_global_x(6)"
   ]
  },
  {
   "cell_type": "markdown",
   "id": "f43c8314-d1c9-4413-8f25-5400de724716",
   "metadata": {},
   "source": [
    " <center><div class=\"alert alert-block alert-info\">   \n",
    "\n",
    "# 9.  <a id=\"section9\">Print Function</a>\n",
    "\n",
    "Python has a `print function`"
   ]
  },
  {
   "cell_type": "code",
   "execution_count": 121,
   "id": "29615156-6830-4c1c-b66e-351d1b4010e1",
   "metadata": {},
   "outputs": [
    {
     "name": "stdout",
     "output_type": "stream",
     "text": [
      "I'm a machine! Nice to meet you!\n"
     ]
    }
   ],
   "source": [
    "print(\"I'm a machine! Nice to meet you!\") # Returns I'm Python. Nice to meet you!"
   ]
  },
  {
   "cell_type": "markdown",
   "id": "3009c84a-c1d4-4085-8bae-1394c839fc18",
   "metadata": {},
   "source": [
    "### By default, the print function also prints out a newline at the end. \n",
    "\n",
    "`Override the optional argument` end to modify this behavior:"
   ]
  },
  {
   "cell_type": "code",
   "execution_count": 122,
   "id": "c177f2fb-7d39-46e9-a0a2-ba3088334ebe",
   "metadata": {},
   "outputs": [
    {
     "name": "stdout",
     "output_type": "stream",
     "text": [
      "Hello, World!"
     ]
    }
   ],
   "source": [
    "print(\"Hello, World\", end=\"!\") # Returns Hello, World!"
   ]
  },
  {
   "cell_type": "markdown",
   "id": "738187b9-b340-44ee-a0ed-cf685e2fa0a1",
   "metadata": {},
   "source": [
    "  <center><div class=\"alert alert-block alert-info\">   \n",
    "\n",
    "# 10.  <a id=\"section10\">Input Function</a>\n",
    "\n",
    "Python offers a simple way to get input data from console"
   ]
  },
  {
   "cell_type": "code",
   "execution_count": 125,
   "id": "64edf318-07ac-4ba0-9d38-b7f8b91fcbc7",
   "metadata": {},
   "outputs": [
    {
     "name": "stdin",
     "output_type": "stream",
     "text": [
      "Enter some data:  \n"
     ]
    }
   ],
   "source": [
    "input_string_var = input(\"Enter some data: \") # Returns the data as a string"
   ]
  },
  {
   "cell_type": "markdown",
   "id": "9f9009cb-0361-4d1c-a9b3-5fbb16cbd305",
   "metadata": {},
   "source": [
    "  <center> <div class=\"alert alert-block alert-info\">   \n",
    "\n",
    "# 11. <a id=\"section11\"> Order of Operations</a>\n",
    "    \n",
    "Just like mathematical operations in other languages, Python uses the PEMDAS rule to ascertain operator precedence."
   ]
  },
  {
   "cell_type": "code",
   "execution_count": 126,
   "id": "b92b989c-0008-49e2-be44-8b4702f38261",
   "metadata": {},
   "outputs": [
    {
     "data": {
      "text/plain": [
       "7"
      ]
     },
     "execution_count": 126,
     "metadata": {},
     "output_type": "execute_result"
    }
   ],
   "source": [
    "1 + 3 * 2 # Returns 7"
   ]
  },
  {
   "cell_type": "markdown",
   "id": "e6a6a998-9b0f-4bb0-a91b-7bcf576147e1",
   "metadata": {},
   "source": [
    "### To bypass PEMDAS, <b>enforce precedence with parentheses</b>"
   ]
  },
  {
   "cell_type": "code",
   "execution_count": 127,
   "id": "1ea41ab2-a8ef-4732-930b-c6146ec0cca5",
   "metadata": {},
   "outputs": [
    {
     "data": {
      "text/plain": [
       "8"
      ]
     },
     "execution_count": 127,
     "metadata": {},
     "output_type": "execute_result"
    }
   ],
   "source": [
    "(1 + 3) * 2 # Returns 8"
   ]
  },
  {
   "cell_type": "markdown",
   "id": "ec046c90-f02c-4640-b23e-7bebc874cabb",
   "metadata": {},
   "source": [
    " <center> <div class=\"alert alert-block alert-info\">   \n",
    "\n",
    "# 12.  <a id=\"section12\">Basic Data Types</a>\n",
    "Like most languages, Python has a number of basic types including integers, floats, booleans, and strings.\n",
    "\n"
   ]
  },
  {
   "cell_type": "code",
   "execution_count": null,
   "id": "5dc4339d-9935-4795-aac8-17806feb2d5b",
   "metadata": {},
   "outputs": [],
   "source": []
  },
  {
   "cell_type": "markdown",
   "id": "2d5afe71-ad50-4115-8eb0-30c201e07214",
   "metadata": {},
   "source": [
    " <center><div class=\"alert alert-block alert-success\">\n",
    "    \n",
    "##  12.1.  <a id=\"section12.1\"> `Numbers`</a> (int and float)\n",
    "Main types of numbers: `Integers (int)` and `Floats (float)`\n",
    "\n",
    "Integers work as you would expect from other languages"
   ]
  },
  {
   "cell_type": "markdown",
   "id": "5711f81d-7b72-420b-8b35-cbde5d205a4c",
   "metadata": {},
   "source": [
    " <center><div class=\"alert alert-block alert-success\">\n",
    "    \n",
    "##  12.1.1. <a id=\"section12.1.1\">  `Integers (int)`</a>"
   ]
  },
  {
   "cell_type": "code",
   "execution_count": 217,
   "id": "b831e2e0-c319-4f57-805c-5f552c72bccb",
   "metadata": {},
   "outputs": [
    {
     "data": {
      "text/plain": [
       "3"
      ]
     },
     "execution_count": 217,
     "metadata": {},
     "output_type": "execute_result"
    }
   ],
   "source": [
    "x = 3   \n",
    "x       # prints 3"
   ]
  },
  {
   "cell_type": "code",
   "execution_count": 129,
   "id": "f0ea68f6-f817-4365-a54b-7ac392624c65",
   "metadata": {},
   "outputs": [
    {
     "data": {
      "text/plain": [
       "int"
      ]
     },
     "execution_count": 129,
     "metadata": {},
     "output_type": "execute_result"
    }
   ],
   "source": [
    "type(x) # prints <class 'int'>"
   ]
  },
  {
   "cell_type": "code",
   "execution_count": 130,
   "id": "064256a9-c162-4a4a-a360-18c49b19b852",
   "metadata": {},
   "outputs": [
    {
     "data": {
      "text/plain": [
       "4"
      ]
     },
     "execution_count": 130,
     "metadata": {},
     "output_type": "execute_result"
    }
   ],
   "source": [
    "x + 1   # Addition; returns 4"
   ]
  },
  {
   "cell_type": "code",
   "execution_count": 131,
   "id": "b8e3e2e3-f412-4ac4-a4d8-e63b11870915",
   "metadata": {},
   "outputs": [
    {
     "data": {
      "text/plain": [
       "2"
      ]
     },
     "execution_count": 131,
     "metadata": {},
     "output_type": "execute_result"
    }
   ],
   "source": [
    "x - 1   # Subtraction; returns 2"
   ]
  },
  {
   "cell_type": "code",
   "execution_count": 132,
   "id": "8cabf40e-79a9-4293-bf94-4b57dcd1ab73",
   "metadata": {},
   "outputs": [
    {
     "data": {
      "text/plain": [
       "6"
      ]
     },
     "execution_count": 132,
     "metadata": {},
     "output_type": "execute_result"
    }
   ],
   "source": [
    "x * 2   # Multiplication; returns 6"
   ]
  },
  {
   "cell_type": "code",
   "execution_count": 133,
   "id": "af2b24b0-653f-49da-83db-0a7148fb8791",
   "metadata": {},
   "outputs": [
    {
     "data": {
      "text/plain": [
       "3"
      ]
     },
     "execution_count": 133,
     "metadata": {},
     "output_type": "execute_result"
    }
   ],
   "source": [
    "x ** 2  # Exponentiation; returns 9\n",
    "x"
   ]
  },
  {
   "cell_type": "code",
   "execution_count": 134,
   "id": "bcf4148e-b145-4503-b093-5f2c0b620057",
   "metadata": {},
   "outputs": [
    {
     "data": {
      "text/plain": [
       "4"
      ]
     },
     "execution_count": 134,
     "metadata": {},
     "output_type": "execute_result"
    }
   ],
   "source": [
    "x += 1  # Returns 4\n",
    "x"
   ]
  },
  {
   "cell_type": "code",
   "execution_count": 135,
   "id": "2286bfe4-c263-4a5c-ac66-fd0bfb0975db",
   "metadata": {},
   "outputs": [
    {
     "data": {
      "text/plain": [
       "8"
      ]
     },
     "execution_count": 135,
     "metadata": {},
     "output_type": "execute_result"
    }
   ],
   "source": [
    "x *= 2  # Returns 8\n",
    "x"
   ]
  },
  {
   "cell_type": "code",
   "execution_count": 136,
   "id": "e20fcad3-c7ac-466e-ab13-b56e1ff4096c",
   "metadata": {},
   "outputs": [
    {
     "data": {
      "text/plain": [
       "11"
      ]
     },
     "execution_count": 136,
     "metadata": {},
     "output_type": "execute_result"
    }
   ],
   "source": [
    "x+=3\n",
    "x"
   ]
  },
  {
   "cell_type": "code",
   "execution_count": 137,
   "id": "173efff3-9773-4eae-8668-b2e4b7a24d6a",
   "metadata": {},
   "outputs": [
    {
     "data": {
      "text/plain": [
       "3"
      ]
     },
     "execution_count": 137,
     "metadata": {},
     "output_type": "execute_result"
    }
   ],
   "source": [
    "x % 4   # Modulo operation; returns \"3\""
   ]
  },
  {
   "cell_type": "markdown",
   "id": "e7385cdb-9447-4725-ace0-312918efc995",
   "metadata": {},
   "source": [
    " <center><div class=\"alert alert-block alert-success\">\n",
    "    \n",
    "##  12.1.2. <a id=\"section12.1.2\">  `Floats (float)`</a>"
   ]
  },
  {
   "cell_type": "markdown",
   "id": "9494e6b4-c8b3-4528-bf6e-40a8b306f363",
   "metadata": {},
   "source": [
    "### Floats also behave similar to other languages:"
   ]
  },
  {
   "cell_type": "code",
   "execution_count": 209,
   "id": "a6e6c528-1c1e-43bb-9b47-a284e7c6d32c",
   "metadata": {},
   "outputs": [
    {
     "data": {
      "text/plain": [
       "float"
      ]
     },
     "execution_count": 209,
     "metadata": {},
     "output_type": "execute_result"
    }
   ],
   "source": [
    "y = 2.5\n",
    "type(y)     # returns <class 'float'>"
   ]
  },
  {
   "cell_type": "code",
   "execution_count": 210,
   "id": "7bc67911-1a78-446f-bfba-f650f9aadaeb",
   "metadata": {},
   "outputs": [
    {
     "data": {
      "text/plain": [
       "(2.5, 3.5, 5.0, 6.25)"
      ]
     },
     "execution_count": 210,
     "metadata": {},
     "output_type": "execute_result"
    }
   ],
   "source": [
    "y, y + 1, y * 2, y ** 2 # returns (2.5, 3.5, 5.0, 6.25)"
   ]
  },
  {
   "cell_type": "markdown",
   "id": "d1a756e0-0749-4482-9f1b-bda9199072a8",
   "metadata": {},
   "source": [
    "## Some nuances in integer/float division that you should take note of"
   ]
  },
  {
   "cell_type": "code",
   "execution_count": 211,
   "id": "3a35bca0-03aa-4467-82c4-c76ec16efe46",
   "metadata": {},
   "outputs": [
    {
     "data": {
      "text/plain": [
       "1.5"
      ]
     },
     "execution_count": 211,
     "metadata": {},
     "output_type": "execute_result"
    }
   ],
   "source": [
    "3 / 2       # Float division in Python 3, returns \"1.5\"; integer division in Python 2, returns \"1\""
   ]
  },
  {
   "cell_type": "code",
   "execution_count": 212,
   "id": "028ab22c-7b73-46a0-ad11-5365d37d4181",
   "metadata": {},
   "outputs": [
    {
     "data": {
      "text/plain": [
       "1"
      ]
     },
     "execution_count": 212,
     "metadata": {},
     "output_type": "execute_result"
    }
   ],
   "source": [
    "3 // 2      # Integer division in both Python 2 and 3, returns \"1\""
   ]
  },
  {
   "cell_type": "code",
   "execution_count": 213,
   "id": "2f05ea1d-40cf-40b0-98c4-cadf56bac1de",
   "metadata": {},
   "outputs": [
    {
     "data": {
      "text/plain": [
       "3.3333333333333335"
      ]
     },
     "execution_count": 213,
     "metadata": {},
     "output_type": "execute_result"
    }
   ],
   "source": [
    "10.0 / 3    # Float division in both Python 2 and 3, returns \"3.33..\""
   ]
  },
  {
   "cell_type": "markdown",
   "id": "3e5c26a6-6653-4f17-8600-678931e1f860",
   "metadata": {},
   "source": [
    "### Integer division rounds down for both positive and negative numbers"
   ]
  },
  {
   "cell_type": "code",
   "execution_count": 214,
   "id": "b3924171-ffc8-4c12-b051-49610c9c9350",
   "metadata": {},
   "outputs": [
    {
     "data": {
      "text/plain": [
       "-2"
      ]
     },
     "execution_count": 214,
     "metadata": {},
     "output_type": "execute_result"
    }
   ],
   "source": [
    "-5 // 3     # -2"
   ]
  },
  {
   "cell_type": "code",
   "execution_count": 215,
   "id": "72df3270-a6d8-4c38-b809-47f6784f1465",
   "metadata": {},
   "outputs": [
    {
     "data": {
      "text/plain": [
       "1.0"
      ]
     },
     "execution_count": 215,
     "metadata": {},
     "output_type": "execute_result"
    }
   ],
   "source": [
    "5.0 // 3.0  # 1.0"
   ]
  },
  {
   "cell_type": "code",
   "execution_count": 239,
   "id": "72a6724b-bcc6-4ac6-ad87-5b970eaaa3d3",
   "metadata": {},
   "outputs": [
    {
     "data": {
      "text/plain": [
       "-2.0"
      ]
     },
     "execution_count": 239,
     "metadata": {},
     "output_type": "execute_result"
    }
   ],
   "source": [
    "-5.0 // 3.0 # -2.0"
   ]
  },
  {
   "cell_type": "markdown",
   "id": "9b79cd47-ecb8-4935-83b6-7001684e2f4d",
   "metadata": {},
   "source": [
    "## NOTE: that unlike many languages, Python does not have unary increment (x++) or decrement (x--) operators, but accepts the += and -= operators.\n",
    "\n",
    "$\\textbf{Python also has built-in types}$ for `complex numbers`"
   ]
  },
  {
   "cell_type": "markdown",
   "id": "cdcb9f99-83e4-4701-904b-8433388bf9e2",
   "metadata": {},
   "source": [
    "## NOTE: <code style=\"background:yellow;color:black\">Use Underscores to Format Large Numbers</code>\n",
    "\n",
    "When working with a large number in Python, it can be difficult to figure out how many digits that number has. Python 3.6 and above allows you to use underscores as visual separators to group digits.\n",
    "\n",
    "In the example below, underscores are used to group decimal numbers by thousands."
   ]
  },
  {
   "cell_type": "code",
   "execution_count": 240,
   "id": "041e8f9e-3b26-4810-98b0-f55ba5d99c59",
   "metadata": {},
   "outputs": [
    {
     "data": {
      "text/plain": [
       "1000000"
      ]
     },
     "execution_count": 240,
     "metadata": {},
     "output_type": "execute_result"
    }
   ],
   "source": [
    "large_num = 1_000_000\n",
    "large_num # Returns 1000000"
   ]
  },
  {
   "cell_type": "markdown",
   "id": "7b02dc65-eb2b-49fb-a8e7-44ff2e3dabb4",
   "metadata": {},
   "source": [
    " <center>\n",
    "<div class=\"alert alert-block alert-success\">\n",
    "    \n",
    "## 12b. `Booleans`\n",
    "\n",
    "Python implements all of the usual operators for Boolean logic, but uses English words rather than symbols (&&, ||, etc.):"
   ]
  },
  {
   "cell_type": "code",
   "execution_count": 241,
   "id": "d30d421c-eb2a-411d-a2fd-0b5a20fc942e",
   "metadata": {},
   "outputs": [],
   "source": [
    "t = True\n",
    "f = False"
   ]
  },
  {
   "cell_type": "code",
   "execution_count": 242,
   "id": "122cfee8-e350-47b9-8c1e-d5ce0cddfc38",
   "metadata": {},
   "outputs": [
    {
     "data": {
      "text/plain": [
       "bool"
      ]
     },
     "execution_count": 242,
     "metadata": {},
     "output_type": "execute_result"
    }
   ],
   "source": [
    "type(t) # Returns <class 'bool'>"
   ]
  },
  {
   "cell_type": "code",
   "execution_count": 243,
   "id": "e387703c-ec6c-477f-a209-3a8db64001de",
   "metadata": {},
   "outputs": [
    {
     "data": {
      "text/plain": [
       "False"
      ]
     },
     "execution_count": 243,
     "metadata": {},
     "output_type": "execute_result"
    }
   ],
   "source": [
    "t and f # Logical AND; returns \"False\""
   ]
  },
  {
   "cell_type": "code",
   "execution_count": 244,
   "id": "49f202b7-afd4-4550-9b7b-d40684f17d91",
   "metadata": {},
   "outputs": [
    {
     "data": {
      "text/plain": [
       "True"
      ]
     },
     "execution_count": 244,
     "metadata": {},
     "output_type": "execute_result"
    }
   ],
   "source": [
    "t or f  # Logical OR; returns \"True\""
   ]
  },
  {
   "cell_type": "code",
   "execution_count": 245,
   "id": "b728924f-3d3d-4b8b-b1ac-c45ca8684ea6",
   "metadata": {},
   "outputs": [
    {
     "data": {
      "text/plain": [
       "False"
      ]
     },
     "execution_count": 245,
     "metadata": {},
     "output_type": "execute_result"
    }
   ],
   "source": [
    "not t   # Logical NOT; returns \"False\""
   ]
  },
  {
   "cell_type": "code",
   "execution_count": 246,
   "id": "aa233936-d1bd-4712-aa62-3a8a6553ba40",
   "metadata": {},
   "outputs": [
    {
     "data": {
      "text/plain": [
       "True"
      ]
     },
     "execution_count": 246,
     "metadata": {},
     "output_type": "execute_result"
    }
   ],
   "source": [
    "t != f  # Logical XOR; returns \"True\""
   ]
  },
  {
   "cell_type": "markdown",
   "id": "8ad3001c-fe00-4477-bb25-fd08a6e6025d",
   "metadata": {},
   "source": [
    "# NOTE: The numerical value of <code style=\"background:yellow;color:black\">True and False</code>  is <code style=\"background:yellow;color:black\">1 and 0:</code>\n"
   ]
  },
  {
   "cell_type": "code",
   "execution_count": 247,
   "id": "d26e4b33-4a69-40bd-83eb-165cabdeb202",
   "metadata": {},
   "outputs": [
    {
     "data": {
      "text/plain": [
       "2"
      ]
     },
     "execution_count": 247,
     "metadata": {},
     "output_type": "execute_result"
    }
   ],
   "source": [
    "True + True # Returns 2"
   ]
  },
  {
   "cell_type": "code",
   "execution_count": 248,
   "id": "f6a38cc9-f584-4805-9176-53ebf1b95084",
   "metadata": {},
   "outputs": [
    {
     "data": {
      "text/plain": [
       "8"
      ]
     },
     "execution_count": 248,
     "metadata": {},
     "output_type": "execute_result"
    }
   ],
   "source": [
    "True * 8    # Returns 8"
   ]
  },
  {
   "cell_type": "code",
   "execution_count": 249,
   "id": "327ac156-34d8-43fd-8fba-7697b6c66cc3",
   "metadata": {},
   "outputs": [
    {
     "data": {
      "text/plain": [
       "-5"
      ]
     },
     "execution_count": 249,
     "metadata": {},
     "output_type": "execute_result"
    }
   ],
   "source": [
    "False - 5   # Returns -5"
   ]
  },
  {
   "cell_type": "markdown",
   "id": "c1ae4757-0b58-4eeb-9145-0742ea3650cd",
   "metadata": {},
   "source": [
    "### Comparison operators look at the numerical value of True and False:"
   ]
  },
  {
   "cell_type": "code",
   "execution_count": 250,
   "id": "482cf39a-6962-4a79-a0d6-c4f0e3cc1524",
   "metadata": {},
   "outputs": [
    {
     "data": {
      "text/plain": [
       "True"
      ]
     },
     "execution_count": 250,
     "metadata": {},
     "output_type": "execute_result"
    }
   ],
   "source": [
    "0 == False  # Returns True"
   ]
  },
  {
   "cell_type": "code",
   "execution_count": 251,
   "id": "fbfc9c02-fb46-4d6d-b7ab-a099091d7330",
   "metadata": {},
   "outputs": [
    {
     "data": {
      "text/plain": [
       "True"
      ]
     },
     "execution_count": 251,
     "metadata": {},
     "output_type": "execute_result"
    }
   ],
   "source": [
    "1 == True   # Returns True"
   ]
  },
  {
   "cell_type": "code",
   "execution_count": 252,
   "id": "ef2624f9-ca75-4042-b38b-5370febc03fd",
   "metadata": {},
   "outputs": [
    {
     "data": {
      "text/plain": [
       "False"
      ]
     },
     "execution_count": 252,
     "metadata": {},
     "output_type": "execute_result"
    }
   ],
   "source": [
    "2 == True   # Returns False"
   ]
  },
  {
   "cell_type": "code",
   "execution_count": 253,
   "id": "8a395233-d687-4937-b2c5-8a0fb18facb3",
   "metadata": {},
   "outputs": [
    {
     "data": {
      "text/plain": [
       "True"
      ]
     },
     "execution_count": 253,
     "metadata": {},
     "output_type": "execute_result"
    }
   ],
   "source": [
    "-5 != False # Returns True"
   ]
  },
  {
   "cell_type": "markdown",
   "id": "c8024053-25be-4bc4-9627-39a25b454cbd",
   "metadata": {},
   "source": [
    "<div class=\"alert alert-block alert-success\">\n",
    "\n",
    "\n",
    "## NOTE: \n",
    "\n",
    "<span style=\"color:black; font-size: 24px;\"> <b> `None`, `0`, `empty strings`, `empty lists`, `empty dicts`, and `empty tuples`</b></span> <span style=\"color:red; font-size: 24px;\"> <b>ALL </span> evaluate to <span style=\"color:red; font-size: 24px;\">False</b></span>. \n",
    "\n",
    "### <span style=\"color:blue; font-size: 24px;\"> ALL other</span> values are <span style=\"color:blue; font-size: 24px;\"> True</span>\n"
   ]
  },
  {
   "cell_type": "code",
   "execution_count": null,
   "id": "dc20d2fc-4f82-41b8-8530-a487f2abd31b",
   "metadata": {},
   "outputs": [],
   "source": []
  },
  {
   "cell_type": "markdown",
   "id": "61f75870-c724-4763-879a-53818ed99842",
   "metadata": {},
   "source": [
    "### Evaluating Boolean with `0` value"
   ]
  },
  {
   "cell_type": "code",
   "execution_count": 254,
   "id": "445a4fc4-c58c-4b65-964e-3a6d7dfff261",
   "metadata": {},
   "outputs": [
    {
     "data": {
      "text/plain": [
       "False"
      ]
     },
     "execution_count": 254,
     "metadata": {},
     "output_type": "execute_result"
    }
   ],
   "source": [
    "bool(0)  # Returns False "
   ]
  },
  {
   "cell_type": "markdown",
   "id": "64547f21-ec0f-4622-bc1c-39fd4616d1a9",
   "metadata": {},
   "source": [
    "### Evaluating Boolean with `Empty String` value"
   ]
  },
  {
   "cell_type": "code",
   "execution_count": 255,
   "id": "bd46f03e-aca5-4bb6-80e9-89da9fa78963",
   "metadata": {},
   "outputs": [
    {
     "data": {
      "text/plain": [
       "False"
      ]
     },
     "execution_count": 255,
     "metadata": {},
     "output_type": "execute_result"
    }
   ],
   "source": [
    "bool(\"\") # Returns False"
   ]
  },
  {
   "cell_type": "markdown",
   "id": "346a479e-e89a-4694-a3bf-1f4e8775649d",
   "metadata": {},
   "source": [
    "### Evaluating Boolean with `Empty List` value"
   ]
  },
  {
   "cell_type": "code",
   "execution_count": 256,
   "id": "ba1e5fe5-77ef-43c1-9e73-9c991eefdd4a",
   "metadata": {},
   "outputs": [
    {
     "data": {
      "text/plain": [
       "False"
      ]
     },
     "execution_count": 256,
     "metadata": {},
     "output_type": "execute_result"
    }
   ],
   "source": [
    "bool([]) # Returns False"
   ]
  },
  {
   "cell_type": "markdown",
   "id": "2b11c624-0743-4ec6-9d36-599f68fc9def",
   "metadata": {},
   "source": [
    "### Evaluating Boolean with `Empty Dict` value"
   ]
  },
  {
   "cell_type": "code",
   "execution_count": 257,
   "id": "da4fe048-5007-4341-9532-e41596442e74",
   "metadata": {},
   "outputs": [
    {
     "data": {
      "text/plain": [
       "False"
      ]
     },
     "execution_count": 257,
     "metadata": {},
     "output_type": "execute_result"
    }
   ],
   "source": [
    "bool({}) # Returns False"
   ]
  },
  {
   "cell_type": "markdown",
   "id": "652d2ad1-b9cf-4447-93ea-6b88a5feb3ba",
   "metadata": {},
   "source": [
    "### Evaluating Boolean with `Empty Tuple` value"
   ]
  },
  {
   "cell_type": "code",
   "execution_count": 258,
   "id": "ff728ab7-f4d6-4817-84d5-5e45c97ce768",
   "metadata": {},
   "outputs": [
    {
     "data": {
      "text/plain": [
       "False"
      ]
     },
     "execution_count": 258,
     "metadata": {},
     "output_type": "execute_result"
    }
   ],
   "source": [
    "bool(()) # Returns False"
   ]
  },
  {
   "cell_type": "markdown",
   "id": "d038b6f9-f791-4159-bfd2-1e8d3b4f1cd1",
   "metadata": {},
   "source": [
    "### Equality comparisons yield boolean outputs:"
   ]
  },
  {
   "cell_type": "markdown",
   "id": "1d1da332-894c-4845-8b5c-bf0c95124810",
   "metadata": {},
   "source": [
    "### `Equality` is `==`"
   ]
  },
  {
   "cell_type": "code",
   "execution_count": 259,
   "id": "1b7fa627-1d3d-4c97-94ca-775d6b96ea00",
   "metadata": {},
   "outputs": [
    {
     "data": {
      "text/plain": [
       "True"
      ]
     },
     "execution_count": 259,
     "metadata": {},
     "output_type": "execute_result"
    }
   ],
   "source": [
    "1 == 1 # Returns True"
   ]
  },
  {
   "cell_type": "code",
   "execution_count": 260,
   "id": "5f12e4f4-3e85-4d3b-8f82-bd7da5cbc1c0",
   "metadata": {},
   "outputs": [
    {
     "data": {
      "text/plain": [
       "False"
      ]
     },
     "execution_count": 260,
     "metadata": {},
     "output_type": "execute_result"
    }
   ],
   "source": [
    "2 == 1 # Returns False"
   ]
  },
  {
   "cell_type": "markdown",
   "id": "eb7a83c1-a043-4e95-bdd2-ca4cf7bff3c9",
   "metadata": {},
   "source": [
    "### `Inequality` is `!=`"
   ]
  },
  {
   "cell_type": "code",
   "execution_count": 261,
   "id": "58b7ef53-e728-4dcc-98da-59d8b155aafa",
   "metadata": {},
   "outputs": [
    {
     "data": {
      "text/plain": [
       "False"
      ]
     },
     "execution_count": 261,
     "metadata": {},
     "output_type": "execute_result"
    }
   ],
   "source": [
    "1 != 1 # Returns False"
   ]
  },
  {
   "cell_type": "code",
   "execution_count": 262,
   "id": "87746626-da7a-429d-bbd1-88e45fcc286f",
   "metadata": {},
   "outputs": [
    {
     "data": {
      "text/plain": [
       "True"
      ]
     },
     "execution_count": 262,
     "metadata": {},
     "output_type": "execute_result"
    }
   ],
   "source": [
    "2 != 1 # Returns True"
   ]
  },
  {
   "cell_type": "markdown",
   "id": "7b72d9f5-2275-47a8-8930-f434fcf751c9",
   "metadata": {},
   "source": [
    "### Some More Comparisons"
   ]
  },
  {
   "cell_type": "code",
   "execution_count": 263,
   "id": "a964f041-df97-416a-93a7-9365aa81ba80",
   "metadata": {},
   "outputs": [
    {
     "data": {
      "text/plain": [
       "True"
      ]
     },
     "execution_count": 263,
     "metadata": {},
     "output_type": "execute_result"
    }
   ],
   "source": [
    "1 < 10 # Returns True"
   ]
  },
  {
   "cell_type": "code",
   "execution_count": 264,
   "id": "4fce5655-1dd9-4e66-8871-80427949e4e4",
   "metadata": {},
   "outputs": [
    {
     "data": {
      "text/plain": [
       "False"
      ]
     },
     "execution_count": 264,
     "metadata": {},
     "output_type": "execute_result"
    }
   ],
   "source": [
    "1 > 10 # Returns False"
   ]
  },
  {
   "cell_type": "code",
   "execution_count": 265,
   "id": "637eb083-66b5-4b60-8790-6b234a37830d",
   "metadata": {},
   "outputs": [
    {
     "data": {
      "text/plain": [
       "(True, True)"
      ]
     },
     "execution_count": 265,
     "metadata": {},
     "output_type": "execute_result"
    }
   ],
   "source": [
    "2 <= 2, 2 >= 2 # Returns (True, True)"
   ]
  },
  {
   "cell_type": "markdown",
   "id": "eedd3256-cf0c-422a-8446-9a5cfd2b727c",
   "metadata": {},
   "source": [
    "## Check whether a value is in a range"
   ]
  },
  {
   "cell_type": "code",
   "execution_count": 266,
   "id": "90cb6fc7-5024-4483-81a9-1fd92f160620",
   "metadata": {},
   "outputs": [
    {
     "data": {
      "text/plain": [
       "True"
      ]
     },
     "execution_count": 266,
     "metadata": {},
     "output_type": "execute_result"
    }
   ],
   "source": [
    "1 < 2 and 2 < 3 # Returns True"
   ]
  },
  {
   "cell_type": "code",
   "execution_count": 267,
   "id": "5f1b6d42-7160-49ba-bd37-19639b6c0bed",
   "metadata": {},
   "outputs": [
    {
     "data": {
      "text/plain": [
       "False"
      ]
     },
     "execution_count": 267,
     "metadata": {},
     "output_type": "execute_result"
    }
   ],
   "source": [
    "2 < 3 and 3 < 2 # Returns False"
   ]
  },
  {
   "cell_type": "markdown",
   "id": "5e737e40-7746-473e-8eb5-6ea6aca0278d",
   "metadata": {},
   "source": [
    "### Chaining makes the above look nicer"
   ]
  },
  {
   "cell_type": "code",
   "execution_count": 268,
   "id": "faa1b787-dcd2-4fb5-8c46-9751ef892e55",
   "metadata": {},
   "outputs": [
    {
     "data": {
      "text/plain": [
       "True"
      ]
     },
     "execution_count": 268,
     "metadata": {},
     "output_type": "execute_result"
    }
   ],
   "source": [
    "1 < 2 < 3 # Returns True"
   ]
  },
  {
   "cell_type": "code",
   "execution_count": 269,
   "id": "0ed12e4c-c900-4393-b27e-6efd5dff0be2",
   "metadata": {},
   "outputs": [
    {
     "data": {
      "text/plain": [
       "False"
      ]
     },
     "execution_count": 269,
     "metadata": {},
     "output_type": "execute_result"
    }
   ],
   "source": [
    "2 < 3 < 2 # Returns False"
   ]
  },
  {
   "cell_type": "markdown",
   "id": "5150147f-db3e-4bdc-b77e-d57a3d062da0",
   "metadata": {},
   "source": [
    "### Casting integers as booleans transforms a non-zero integer to True, while zeros get transformed to False:\n"
   ]
  },
  {
   "cell_type": "code",
   "execution_count": 270,
   "id": "9e42a722-3c61-4b82-81ba-ab750ceab024",
   "metadata": {},
   "outputs": [
    {
     "data": {
      "text/plain": [
       "False"
      ]
     },
     "execution_count": 270,
     "metadata": {},
     "output_type": "execute_result"
    }
   ],
   "source": [
    "bool(0)  # Returns False"
   ]
  },
  {
   "cell_type": "code",
   "execution_count": 271,
   "id": "41c4422e-33a8-454a-a1af-455460fea4b5",
   "metadata": {},
   "outputs": [
    {
     "data": {
      "text/plain": [
       "True"
      ]
     },
     "execution_count": 271,
     "metadata": {},
     "output_type": "execute_result"
    }
   ],
   "source": [
    "bool(4)  # Returns True"
   ]
  },
  {
   "cell_type": "code",
   "execution_count": 272,
   "id": "74f6ea07-e8be-4e53-b153-6fbc10d837d8",
   "metadata": {},
   "outputs": [
    {
     "data": {
      "text/plain": [
       "True"
      ]
     },
     "execution_count": 272,
     "metadata": {},
     "output_type": "execute_result"
    }
   ],
   "source": [
    "bool(-6) # Returns True"
   ]
  },
  {
   "cell_type": "markdown",
   "id": "7db77880-1455-4173-b331-95bc499dd07a",
   "metadata": {},
   "source": [
    "## NOTE: Using logical operators with integers casts them to booleans for evaluation, using the same rules as mentioned above. \n",
    "\n",
    "### NOTE: that the original pre-cast value is returned."
   ]
  },
  {
   "cell_type": "code",
   "execution_count": 273,
   "id": "adb31cfb-82f4-4284-9ab7-a2a4be103d89",
   "metadata": {},
   "outputs": [
    {
     "data": {
      "text/plain": [
       "0"
      ]
     },
     "execution_count": 273,
     "metadata": {},
     "output_type": "execute_result"
    }
   ],
   "source": [
    "0 and 2 # Returns 0"
   ]
  },
  {
   "cell_type": "code",
   "execution_count": 274,
   "id": "776e0e97-fecb-4081-90fb-48e9e9f3bf89",
   "metadata": {},
   "outputs": [
    {
     "data": {
      "text/plain": [
       "-5"
      ]
     },
     "execution_count": 274,
     "metadata": {},
     "output_type": "execute_result"
    }
   ],
   "source": [
    "-5 or 0 # Returns -5"
   ]
  },
  {
   "cell_type": "markdown",
   "id": "f64b5bb2-6375-4430-8482-b89bb9216d19",
   "metadata": {},
   "source": [
    "<center><div class=\"alert alert-block alert-success\">\n",
    "    \n",
    "## 12c. `Strings`\n",
    "\n",
    "Python has great support for strings -"
   ]
  },
  {
   "cell_type": "code",
   "execution_count": 275,
   "id": "a6d5d42d-ca71-4a37-9075-8c2af82a4139",
   "metadata": {},
   "outputs": [],
   "source": [
    "hello = 'hello'                 # String literals can use single quotes\n",
    "world = \"world\"                 # or double quotes; it does not matter."
   ]
  },
  {
   "cell_type": "markdown",
   "id": "9a8b4ee6-d8e0-4556-b92c-1e79822eb098",
   "metadata": {},
   "source": [
    "## NOTE: You can nest one in another, for e.g., 'a\"x\"b' and \"a'x'b\"\n"
   ]
  },
  {
   "cell_type": "code",
   "execution_count": 276,
   "id": "09402092-ab2e-4f77-8d56-2977ede948a3",
   "metadata": {},
   "outputs": [
    {
     "name": "stdout",
     "output_type": "stream",
     "text": [
      "hello\n"
     ]
    },
    {
     "data": {
      "text/plain": [
       "5"
      ]
     },
     "execution_count": 276,
     "metadata": {},
     "output_type": "execute_result"
    }
   ],
   "source": [
    "print(hello)                    # Prints \"hello\"\n",
    "len(hello)                      # String length; returns \"5\""
   ]
  },
  {
   "cell_type": "code",
   "execution_count": 277,
   "id": "07232e92-604b-4acc-8084-4196b15140ac",
   "metadata": {},
   "outputs": [
    {
     "data": {
      "text/plain": [
       "'hello world'"
      ]
     },
     "execution_count": 277,
     "metadata": {},
     "output_type": "execute_result"
    }
   ],
   "source": [
    "hello[0]                        # A string can be treated like a list of characters, returns 'h'\n",
    "hello + ' ' + world             # String concatenation using '+', returns \"hello world\""
   ]
  },
  {
   "cell_type": "code",
   "execution_count": 278,
   "id": "a3c7033c-63dc-444e-b053-60b11daef608",
   "metadata": {},
   "outputs": [
    {
     "data": {
      "text/plain": [
       "'hello world'"
      ]
     },
     "execution_count": 278,
     "metadata": {},
     "output_type": "execute_result"
    }
   ],
   "source": [
    "\"hello \" \"world\"                # String literals (but not variables) can be concatenated without using '+', returns \"hello world\""
   ]
  },
  {
   "cell_type": "code",
   "execution_count": 279,
   "id": "4eaf62ec-44f7-4d68-aa91-b5469205269d",
   "metadata": {},
   "outputs": [
    {
     "data": {
      "text/plain": [
       "'hello world 12'"
      ]
     },
     "execution_count": 279,
     "metadata": {},
     "output_type": "execute_result"
    }
   ],
   "source": [
    "'%s %s %d' % (hello, world, 12) # sprintf style string formatting, returns \"hello world 12\""
   ]
  },
  {
   "cell_type": "markdown",
   "id": "a7cb98f4-e991-4bac-9c1d-f13ccc333743",
   "metadata": {},
   "source": [
    "## String Methods/Operations\n",
    "\n",
    "### String objects have a bunch of useful methods; for example:\n"
   ]
  },
  {
   "cell_type": "code",
   "execution_count": 280,
   "id": "efeff74b-f8dd-4319-b26e-7d2e6886afa6",
   "metadata": {},
   "outputs": [
    {
     "data": {
      "text/plain": [
       "'Hello'"
      ]
     },
     "execution_count": 280,
     "metadata": {},
     "output_type": "execute_result"
    }
   ],
   "source": [
    "s = \"hello\"\n",
    "s.capitalize()          # Capitalize a string; returns \"Hello\""
   ]
  },
  {
   "cell_type": "code",
   "execution_count": 281,
   "id": "5c38cb9f-a5fd-4684-9b57-589e1091049b",
   "metadata": {},
   "outputs": [
    {
     "data": {
      "text/plain": [
       "'HELLO'"
      ]
     },
     "execution_count": 281,
     "metadata": {},
     "output_type": "execute_result"
    }
   ],
   "source": [
    "s.upper()               # Convert a string to uppercase; prints \"HELLO\""
   ]
  },
  {
   "cell_type": "code",
   "execution_count": 282,
   "id": "85473480-4f09-4bf0-8082-dd167def0568",
   "metadata": {},
   "outputs": [
    {
     "data": {
      "text/plain": [
       "'  hello'"
      ]
     },
     "execution_count": 282,
     "metadata": {},
     "output_type": "execute_result"
    }
   ],
   "source": [
    "s.rjust(7)              # Right-justify a string, padding with spaces; returns \"  hello\""
   ]
  },
  {
   "cell_type": "code",
   "execution_count": 283,
   "id": "0da48416-d15f-4254-a11a-54c153ac61b0",
   "metadata": {},
   "outputs": [
    {
     "data": {
      "text/plain": [
       "' hello '"
      ]
     },
     "execution_count": 283,
     "metadata": {},
     "output_type": "execute_result"
    }
   ],
   "source": [
    "s.center(7)             # Center a string, padding with spaces; returns \" hello \""
   ]
  },
  {
   "cell_type": "code",
   "execution_count": 284,
   "id": "9b13d167-3237-4b42-ab50-cc26205d1d7c",
   "metadata": {},
   "outputs": [
    {
     "data": {
      "text/plain": [
       "'he(ell)(ell)o'"
      ]
     },
     "execution_count": 284,
     "metadata": {},
     "output_type": "execute_result"
    }
   ],
   "source": [
    "s.replace('l', '(ell)') # Replace all instances of one substring with another;\n",
    "                        # returns \"he(ell)(ell)o\""
   ]
  },
  {
   "cell_type": "code",
   "execution_count": 285,
   "id": "e0b8797a-82f2-431b-8d34-621230312641",
   "metadata": {},
   "outputs": [
    {
     "data": {
      "text/plain": [
       "'world'"
      ]
     },
     "execution_count": 285,
     "metadata": {},
     "output_type": "execute_result"
    }
   ],
   "source": [
    "'  world '.strip()      # Strip leading and trailing whitespace; returns \"world\""
   ]
  },
  {
   "cell_type": "markdown",
   "id": "6b24705e-70f7-4000-85e7-4b93b08db807",
   "metadata": {},
   "source": [
    "### You can find a list of all string methods in the Python documentation."
   ]
  },
  {
   "cell_type": "markdown",
   "id": "be121368-8e91-4cfa-896c-5862718ec618",
   "metadata": {},
   "source": [
    "## String Formatting\n",
    "\n",
    "Python has several different ways of formatting strings. Simple positional formatting is probably the most common use-case. Use it if the order of your arguments is not likely to change and you only have very few elements you want to concatenate. Since the elements are not represented by something as descriptive as a name this simple style should only be used to format a relatively small number of elements."
   ]
  },
  {
   "cell_type": "code",
   "execution_count": null,
   "id": "12243557-47a7-4c6c-a87c-02e67cb1231c",
   "metadata": {},
   "outputs": [],
   "source": []
  },
  {
   "cell_type": "code",
   "execution_count": null,
   "id": "3c91afbf-081a-4726-8547-f0f790d5ee4f",
   "metadata": {},
   "outputs": [],
   "source": []
  },
  {
   "cell_type": "markdown",
   "id": "891c870a-8ccf-4f0f-8590-486af435a802",
   "metadata": {},
   "source": [
    " <center> <div class=\"alert alert-block alert-info\">   \n",
    "\n",
    "# 13. Containers\n",
    "Like most languages, Python has a number of basic types including integers, floats, booleans, and strings.\n",
    "\n"
   ]
  },
  {
   "cell_type": "markdown",
   "id": "4f1b52cd-f25b-4627-b39a-9bc7d2ba4c70",
   "metadata": {},
   "source": [
    "* Containers are any object that holds an arbitrary number of other objects. Generally, containers provide a way to access the contained objects and to iterate over them.\n",
    "* Python includes several built-in container types: lists, dictionaries, sets, and tuples:"
   ]
  },
  {
   "cell_type": "code",
   "execution_count": 5,
   "id": "b974119c-aa6f-4abf-a592-c4d617d57d42",
   "metadata": {},
   "outputs": [],
   "source": [
    "import collections"
   ]
  },
  {
   "cell_type": "code",
   "execution_count": 7,
   "id": "9627dbdf-d533-4b69-8f38-da3ddb13f043",
   "metadata": {},
   "outputs": [
    {
     "data": {
      "text/plain": [
       "True"
      ]
     },
     "execution_count": 7,
     "metadata": {},
     "output_type": "execute_result"
    }
   ],
   "source": [
    "isinstance(list(), collections.Container)  # Prints True"
   ]
  },
  {
   "cell_type": "code",
   "execution_count": 8,
   "id": "3a1b47d8-4c2a-40eb-a9ed-1dc809dfb436",
   "metadata": {},
   "outputs": [
    {
     "data": {
      "text/plain": [
       "True"
      ]
     },
     "execution_count": 8,
     "metadata": {},
     "output_type": "execute_result"
    }
   ],
   "source": [
    "isinstance(tuple(), collections.Container) # Prints True"
   ]
  },
  {
   "cell_type": "code",
   "execution_count": 9,
   "id": "596077a4-ccbd-4f79-acbc-7e695b1171d8",
   "metadata": {},
   "outputs": [
    {
     "data": {
      "text/plain": [
       "True"
      ]
     },
     "execution_count": 9,
     "metadata": {},
     "output_type": "execute_result"
    }
   ],
   "source": [
    "isinstance(set(), collections.Container)   # Prints True"
   ]
  },
  {
   "cell_type": "code",
   "execution_count": 10,
   "id": "9d129ca2-2d0f-4c64-9d34-caae61f2888c",
   "metadata": {},
   "outputs": [
    {
     "data": {
      "text/plain": [
       "True"
      ]
     },
     "execution_count": 10,
     "metadata": {},
     "output_type": "execute_result"
    }
   ],
   "source": [
    "isinstance(dict(), collections.Container)  # Prints True"
   ]
  },
  {
   "cell_type": "markdown",
   "id": "5ddae14f-7f3d-4782-bc66-07cd3fe40950",
   "metadata": {},
   "source": [
    "## NOTE: that the <code style=\"background:yellow;color:black\">\"dict\" datatype is also a mapping datatype (along with being a container)</code>"
   ]
  },
  {
   "cell_type": "code",
   "execution_count": 12,
   "id": "e31090ba-12b7-4d4e-a813-bd89dd6d387e",
   "metadata": {},
   "outputs": [
    {
     "data": {
      "text/plain": [
       "True"
      ]
     },
     "execution_count": 12,
     "metadata": {},
     "output_type": "execute_result"
    }
   ],
   "source": [
    "isinstance(dict(), collections.Mapping) # Prints True"
   ]
  },
  {
   "cell_type": "code",
   "execution_count": null,
   "id": "f0eef840-9f9d-4da5-b568-212529b5c352",
   "metadata": {},
   "outputs": [],
   "source": []
  },
  {
   "cell_type": "code",
   "execution_count": null,
   "id": "7f31e85d-430f-4342-9605-0380d0721aae",
   "metadata": {},
   "outputs": [],
   "source": []
  },
  {
   "cell_type": "code",
   "execution_count": null,
   "id": "8cadcdde-ffca-48d7-afec-7f945896c3ed",
   "metadata": {},
   "outputs": [],
   "source": []
  },
  {
   "cell_type": "code",
   "execution_count": null,
   "id": "081d8a1e-7700-4461-9b73-2912dc5b729d",
   "metadata": {},
   "outputs": [],
   "source": []
  },
  {
   "cell_type": "code",
   "execution_count": null,
   "id": "db3b4741-3066-4d0b-9d56-527a0d37cf6b",
   "metadata": {},
   "outputs": [],
   "source": []
  },
  {
   "cell_type": "code",
   "execution_count": null,
   "id": "bbd3f81a-75fb-4692-b43f-caf66b34f769",
   "metadata": {},
   "outputs": [],
   "source": []
  },
  {
   "cell_type": "code",
   "execution_count": null,
   "id": "0d769949-95d8-4163-a22a-4930bc7060c3",
   "metadata": {},
   "outputs": [],
   "source": []
  },
  {
   "cell_type": "markdown",
   "id": "4fdb7a1f-a760-4f94-ae58-510580d3bd04",
   "metadata": {},
   "source": []
  },
  {
   "cell_type": "markdown",
   "id": "bb08eae8-d137-4a6c-989a-3ad35551c9db",
   "metadata": {},
   "source": [
    " <center> <div class=\"alert alert-block alert-info\">   \n",
    "\n",
    "# 14. Type hinting\n",
    "Like most languages, Python has a number of basic types including integers, floats, booleans, and strings.\n",
    "\n"
   ]
  },
  {
   "cell_type": "markdown",
   "id": "12dab525-aed7-431b-aab9-b1645b2aedcd",
   "metadata": {},
   "source": [
    " <center> <div class=\"alert alert-block alert-info\">   \n",
    "\n",
    "# 15. Control Flow\n",
    "Like most languages, Python has a number of basic types including integers, floats, booleans, and strings.\n",
    "\n"
   ]
  },
  {
   "cell_type": "markdown",
   "id": "8a0602e3-eb54-41ab-be84-6050258c2115",
   "metadata": {},
   "source": [
    " <center> <div class=\"alert alert-block alert-info\">   \n",
    "\n",
    "# 16. Lambda functions\n",
    "Like most languages, Python has a number of basic types including integers, floats, booleans, and strings.\n",
    "\n"
   ]
  },
  {
   "cell_type": "markdown",
   "id": "c1c6309d-bdcf-41c5-a5d9-89286612c760",
   "metadata": {},
   "source": [
    " <center> <div class=\"alert alert-block alert-info\">   \n",
    "\n",
    "# 17. Generators\n",
    "Like most languages, Python has a number of basic types including integers, floats, booleans, and strings.\n",
    "\n"
   ]
  },
  {
   "cell_type": "markdown",
   "id": "e4c75acc-04ec-4106-a747-77f70b97beef",
   "metadata": {},
   "source": [
    " <center> <div class=\"alert alert-block alert-info\">   \n",
    "\n",
    "# 18. Decorators\n",
    "Like most languages, Python has a number of basic types including integers, floats, booleans, and strings.\n",
    "\n"
   ]
  },
  {
   "cell_type": "markdown",
   "id": "b0617151-4442-4ee8-abb4-bd6413122993",
   "metadata": {},
   "source": [
    " <center> <div class=\"alert alert-block alert-info\">   \n",
    "\n",
    "# 19. Functions\n",
    "Like most languages, Python has a number of basic types including integers, floats, booleans, and strings.\n",
    "\n"
   ]
  },
  {
   "cell_type": "markdown",
   "id": "3e51a742-cae1-49d8-bf5a-680a860b5c99",
   "metadata": {},
   "source": [
    " <center> <div class=\"alert alert-block alert-info\">   \n",
    "\n",
    "# 20. Nested Functions\n",
    "Like most languages, Python has a number of basic types including integers, floats, booleans, and strings.\n",
    "\n"
   ]
  },
  {
   "cell_type": "markdown",
   "id": "d89a61bf-c565-43b9-be77-ea95cc87a8ce",
   "metadata": {},
   "source": [
    " <center> <div class=\"alert alert-block alert-info\">   \n",
    "\n",
    "# 21. File I/O\n",
    "Like most languages, Python has a number of basic types including integers, floats, booleans, and strings.\n",
    "\n"
   ]
  },
  {
   "cell_type": "markdown",
   "id": "7b984d4c-3a9c-4932-a853-26a1412dbce6",
   "metadata": {},
   "source": [
    " <center> <div class=\"alert alert-block alert-info\">   \n",
    "\n",
    "# 22. Opening Files in Python\n",
    "Like most languages, Python has a number of basic types including integers, floats, booleans, and strings.\n",
    "\n"
   ]
  },
  {
   "cell_type": "markdown",
   "id": "947033fc-81a3-49d1-9cb9-161aa29d16bf",
   "metadata": {},
   "source": [
    " <center> <div class=\"alert alert-block alert-info\">   \n",
    "\n",
    "# 23. Magic Methods\n",
    "Like most languages, Python has a number of basic types including integers, floats, booleans, and strings.\n",
    "\n"
   ]
  },
  {
   "cell_type": "markdown",
   "id": "90b0fcab-fb82-4ae4-9934-4be200309d78",
   "metadata": {},
   "source": [
    " <center> <div class=\"alert alert-block alert-info\">   \n",
    "\n",
    "# 24. Exceptions\n",
    "Like most languages, Python has a number of basic types including integers, floats, booleans, and strings.\n",
    "\n"
   ]
  },
  {
   "cell_type": "markdown",
   "id": "9a943e64-7e70-4483-aba3-f2d467dc83f7",
   "metadata": {},
   "source": [
    " <center> <div class=\"alert alert-block alert-info\">   \n",
    "\n",
    "# 25. Modules\n",
    "Like most languages, Python has a number of basic types including integers, floats, booleans, and strings.\n",
    "\n"
   ]
  },
  {
   "cell_type": "markdown",
   "id": "0eb9aba3-17cc-4e37-84ce-38f5bd515a41",
   "metadata": {},
   "source": [
    " <center> <div class=\"alert alert-block alert-info\">   \n",
    "\n",
    "# 26. Classes\n",
    "Like most languages, Python has a number of basic types including integers, floats, booleans, and strings.\n",
    "\n"
   ]
  },
  {
   "cell_type": "markdown",
   "id": "51bfa0b2-2060-4cba-a18a-0f6f264e2536",
   "metadata": {},
   "source": [
    " <center> <div class=\"alert alert-block alert-info\">   \n",
    "\n",
    "# 26. Selected Built-ins\n",
    "Like most languages, Python has a number of basic types including integers, floats, booleans, and strings."
   ]
  },
  {
   "cell_type": "code",
   "execution_count": null,
   "id": "8b63a8af-9649-4194-8df9-30f60e1085d9",
   "metadata": {},
   "outputs": [],
   "source": []
  },
  {
   "cell_type": "code",
   "execution_count": null,
   "id": "b681d80b-809c-4805-9c8f-7f06ecd68685",
   "metadata": {},
   "outputs": [],
   "source": []
  },
  {
   "cell_type": "code",
   "execution_count": null,
   "id": "6e7da24b-f2e0-43be-9f33-512f225a7fbd",
   "metadata": {},
   "outputs": [],
   "source": []
  },
  {
   "cell_type": "code",
   "execution_count": null,
   "id": "bcd8ad42-ccf5-493b-a3b7-811d3f40269b",
   "metadata": {},
   "outputs": [],
   "source": []
  }
 ],
 "metadata": {
  "kernelspec": {
   "display_name": "Python 3 (ipykernel)",
   "language": "python",
   "name": "python3"
  },
  "language_info": {
   "codemirror_mode": {
    "name": "ipython",
    "version": 3
   },
   "file_extension": ".py",
   "mimetype": "text/x-python",
   "name": "python",
   "nbconvert_exporter": "python",
   "pygments_lexer": "ipython3",
   "version": "3.9.13"
  },
  "widgets": {
   "application/vnd.jupyter.widget-state+json": {
    "state": {},
    "version_major": 2,
    "version_minor": 0
   }
  }
 },
 "nbformat": 4,
 "nbformat_minor": 5
}
