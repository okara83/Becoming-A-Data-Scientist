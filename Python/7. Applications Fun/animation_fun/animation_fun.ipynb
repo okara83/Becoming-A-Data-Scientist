{
 "cells": [
  {
   "cell_type": "code",
   "execution_count": null,
   "id": "06a7eb5d",
   "metadata": {},
   "outputs": [],
   "source": [
    "from turtle import Screen, Turtle\n",
    "\n",
    "SIDES = 6\n",
    "\n",
    "COLORS = (\"blue\", \"red\", \"green\", \"white\", \"yellow\", \"purple\")\n",
    "\n",
    "screen = Screen()\n",
    "screen.bgcolor(\"black\")\n",
    "\n",
    "turtle = Turtle()\n",
    "\n",
    "for x in range(360):\n",
    "    turtle.pencolor(COLORS[(x % SIDES) % len(COLORS)])\n",
    "    turtle.forward(x*3 / SIDES + x)\n",
    "    turtle.left(360 / SIDES+1)\n",
    "    turtle.width(x * SIDES/200)\n",
    "screen.exitonclick()"
   ]
  },
  {
   "cell_type": "code",
   "execution_count": null,
   "id": "21a17a2f",
   "metadata": {},
   "outputs": [],
   "source": []
  },
  {
   "cell_type": "code",
   "execution_count": null,
   "id": "b758e30c",
   "metadata": {},
   "outputs": [],
   "source": []
  }
 ],
 "metadata": {
  "kernelspec": {
   "display_name": "Python 3 (ipykernel)",
   "language": "python",
   "name": "python3"
  },
  "language_info": {
   "codemirror_mode": {
    "name": "ipython",
    "version": 3
   },
   "file_extension": ".py",
   "mimetype": "text/x-python",
   "name": "python",
   "nbconvert_exporter": "python",
   "pygments_lexer": "ipython3",
   "version": "3.9.9"
  }
 },
 "nbformat": 4,
 "nbformat_minor": 5
}
