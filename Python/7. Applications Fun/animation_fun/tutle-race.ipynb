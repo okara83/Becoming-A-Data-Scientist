{
 "cells": [
  {
   "cell_type": "markdown",
   "id": "49f191de",
   "metadata": {},
   "source": [
    "# Create a simple Animation using Turtle in Python\n"
   ]
  },
  {
   "cell_type": "markdown",
   "id": "91089b51",
   "metadata": {},
   "source": [
    "\n",
    "Turtle is a Python feature like a drawing board, which lets us command a turtle to draw all over it! We can use functions like turtle.forward(…) and turtle.right(…) which can move the turtle around. Let’s create a basic animation where different little turtles race around a track created for them.\n"
   ]
  },
  {
   "cell_type": "markdown",
   "id": "9970bf05",
   "metadata": {},
   "source": [
    "\n",
    " - There are different shapes of pointer available in the turtle module(like arrow, classic and turtle). As this is a “Turtle Race”, we need the ‘turtle’ and ‘classic’ shape.\n",
    " - We’ll use the classic shape to draw the racing track.\n",
    " - List the specs of the first turtle, enter the turtle in the track and set the turtle ready for the race.\n",
    " - Do the same for the rest of the turtles.\n",
    " - Use the randint() to set the speed of the turtles.\n"
   ]
  },
  {
   "cell_type": "markdown",
   "id": "16a2b944",
   "metadata": {},
   "source": [
    "Below is the implementation:"
   ]
  },
  {
   "cell_type": "code",
   "execution_count": 3,
   "id": "34859519",
   "metadata": {},
   "outputs": [],
   "source": [
    "from turtle import * \n",
    "from random import randint"
   ]
  },
  {
   "cell_type": "code",
   "execution_count": 4,
   "id": "ea0d2561",
   "metadata": {},
   "outputs": [
    {
     "ename": "Terminator",
     "evalue": "",
     "output_type": "error",
     "traceback": [
      "\u001b[0;31m---------------------------------------------------------------------------\u001b[0m",
      "\u001b[0;31mTerminator\u001b[0m                                Traceback (most recent call last)",
      "\u001b[0;32m/var/folders/sd/1vc_q83x5rn9jjrd0x47_cc00000gn/T/ipykernel_15724/3628805865.py\u001b[0m in \u001b[0;36m<module>\u001b[0;34m\u001b[0m\n\u001b[1;32m     12\u001b[0m     \u001b[0;32mfor\u001b[0m \u001b[0mnum\u001b[0m \u001b[0;32min\u001b[0m \u001b[0mrange\u001b[0m\u001b[0;34m(\u001b[0m\u001b[0;36m8\u001b[0m\u001b[0;34m)\u001b[0m\u001b[0;34m:\u001b[0m\u001b[0;34m\u001b[0m\u001b[0;34m\u001b[0m\u001b[0m\n\u001b[1;32m     13\u001b[0m         \u001b[0mpenup\u001b[0m\u001b[0;34m(\u001b[0m\u001b[0;34m)\u001b[0m\u001b[0;34m\u001b[0m\u001b[0;34m\u001b[0m\u001b[0m\n\u001b[0;32m---> 14\u001b[0;31m         \u001b[0mforward\u001b[0m\u001b[0;34m(\u001b[0m\u001b[0;36m10\u001b[0m\u001b[0;34m)\u001b[0m\u001b[0;34m\u001b[0m\u001b[0;34m\u001b[0m\u001b[0m\n\u001b[0m\u001b[1;32m     15\u001b[0m         \u001b[0mpendown\u001b[0m\u001b[0;34m(\u001b[0m\u001b[0;34m)\u001b[0m\u001b[0;34m\u001b[0m\u001b[0;34m\u001b[0m\u001b[0m\n\u001b[1;32m     16\u001b[0m         \u001b[0mforward\u001b[0m\u001b[0;34m(\u001b[0m\u001b[0;36m10\u001b[0m\u001b[0;34m)\u001b[0m\u001b[0;34m\u001b[0m\u001b[0;34m\u001b[0m\u001b[0m\n",
      "\u001b[0;32m/usr/local/Cellar/python@3.9/3.9.9/Frameworks/Python.framework/Versions/3.9/lib/python3.9/turtle.py\u001b[0m in \u001b[0;36mforward\u001b[0;34m(distance)\u001b[0m\n",
      "\u001b[0;31mTerminator\u001b[0m: "
     ]
    }
   ],
   "source": [
    "# classic shape turtle\n",
    "speed(0)\n",
    "penup()\n",
    "goto(-140, 140)\n",
    "   \n",
    "# racing track\n",
    "  \n",
    "for step in range(15):\n",
    "    write(step, align ='center')\n",
    "    right(90)\n",
    "      \n",
    "    for num in range(8):\n",
    "        penup()\n",
    "        forward(10)\n",
    "        pendown()\n",
    "        forward(10)\n",
    "          \n",
    "    penup()\n",
    "    backward(160)\n",
    "    left(90)\n",
    "    forward(20)\n",
    "\n",
    "# first player details\n",
    "player_1 = Turtle()\n",
    "player_1.color('red')\n",
    "player_1.shape('turtle')\n",
    "   \n",
    "# first player proceeds to racing track\n",
    "player_1.penup()\n",
    "player_1.goto(-160, 100)\n",
    "player_1.pendown()\n",
    "   \n",
    "# 360 degree turn\n",
    "for turn in range(10):\n",
    "    player_1.right(36)\n",
    "    \n",
    "# second player details\n",
    "player_2 = Turtle()\n",
    "player_2.color('blue')\n",
    "player_2.shape('turtle')\n",
    "   \n",
    "# second player enters in the racing track\n",
    "player_2.penup()\n",
    "player_2.goto(-160, 70)\n",
    "player_2.pendown()\n",
    "   \n",
    "# 360 degree turn\n",
    "for turn in range(72):\n",
    "    player_2.left(5)\n",
    "    \n",
    "# third player details\n",
    "player_3 = Turtle()\n",
    "player_3.shape('turtle')\n",
    "player_3.color('green')\n",
    "   \n",
    "# third player enters in the racing track\n",
    "player_3.penup()\n",
    "player_3.goto(-160, 40)\n",
    "player_3.pendown()\n",
    "   \n",
    "# 360 degree turn\n",
    "for turn in range(60):\n",
    "    player_3.right(6)\n",
    "    \n",
    "# fourth player details\n",
    "player_4 = Turtle()\n",
    "player_4.shape('turtle')\n",
    "player_4.color('orange')\n",
    "   \n",
    "# fourth player enters in the racing track\n",
    "player_4.penup()\n",
    "player_4.goto(-160, 10)\n",
    "player_4.pendown()\n",
    "   \n",
    "# 360 degree turn\n",
    "for turn in range(30):\n",
    "    player_4.left(12)\n",
    "    \n",
    "# turtles run at random speeds\n",
    "for turn in range(100):\n",
    "    player_1.forward(randint(1, 5))\n",
    "    player_2.forward(randint(1, 5))\n",
    "    player_3.forward(randint(1, 5))\n",
    "    player_4.forward(randint(1, 5))"
   ]
  },
  {
   "cell_type": "code",
   "execution_count": null,
   "id": "970e0128",
   "metadata": {},
   "outputs": [],
   "source": []
  }
 ],
 "metadata": {
  "kernelspec": {
   "display_name": "Python 3 (ipykernel)",
   "language": "python",
   "name": "python3"
  },
  "language_info": {
   "codemirror_mode": {
    "name": "ipython",
    "version": 3
   },
   "file_extension": ".py",
   "mimetype": "text/x-python",
   "name": "python",
   "nbconvert_exporter": "python",
   "pygments_lexer": "ipython3",
   "version": "3.9.9"
  }
 },
 "nbformat": 4,
 "nbformat_minor": 5
}
