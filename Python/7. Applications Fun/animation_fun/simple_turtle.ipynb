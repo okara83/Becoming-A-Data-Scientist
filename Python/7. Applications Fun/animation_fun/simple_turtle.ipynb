{
 "cells": [
  {
   "cell_type": "code",
   "execution_count": 2,
   "id": "89423c72",
   "metadata": {},
   "outputs": [],
   "source": [
    "import turtle"
   ]
  },
  {
   "cell_type": "markdown",
   "id": "b1991bf2",
   "metadata": {},
   "source": [
    "# Draw simple Square motion"
   ]
  },
  {
   "cell_type": "code",
   "execution_count": 2,
   "id": "24440495",
   "metadata": {},
   "outputs": [],
   "source": [
    "  # motion\n",
    "turtle.forward(100)\n",
    "turtle.right(90)\n",
    "turtle.forward(100)\n",
    "turtle.right(90)\n",
    "turtle.forward(100)\n",
    "  \n",
    "# clear the drawing and remain turtle \n",
    "turtle.clear()"
   ]
  },
  {
   "cell_type": "markdown",
   "id": "13c3e415",
   "metadata": {},
   "source": [
    "# Drawing Circles with Directionality"
   ]
  },
  {
   "cell_type": "code",
   "execution_count": 3,
   "id": "4c963e24",
   "metadata": {},
   "outputs": [],
   "source": [
    "  \n",
    "# make a turtle object\n",
    "# and do some drawing\n",
    "t1 = turtle.Turtle()\n",
    "t1.up()\n",
    "t1.setpos(-100, 50)\n",
    "t1.down()\n",
    "t1.circle(50)\n",
    "  \n",
    "# make a turtle object\n",
    "# and do some drawing\n",
    "t2 = turtle.Turtle()\n",
    "t2.up()\n",
    "t2.setpos(50, 50)\n",
    "t2.down()\n",
    "t2.circle(50)\n",
    "  \n",
    "# make a turtle object\n",
    "# and do some drawing\n",
    "t3 = turtle.Turtle()\n",
    "t3.up()\n",
    "t3.setpos(50, -100)\n",
    "t3.down()\n",
    "t3.circle(50)\n",
    "  \n",
    "# make a turtle object\n",
    "# and do some drawing\n",
    "t4 = turtle.Turtle()\n",
    "t4.up()\n",
    "t4.setpos(-100, -100)\n",
    "t4.down()\n",
    "t4.circle(50)\n",
    "  \n",
    "# here we clear the work done by turtle \n",
    "# objects : t1 and t3 only but turtle \n",
    "# shape remain as it is\n",
    "t1.clear()\n",
    "t3.clear()"
   ]
  },
  {
   "cell_type": "code",
   "execution_count": null,
   "id": "dfca1421",
   "metadata": {},
   "outputs": [],
   "source": []
  }
 ],
 "metadata": {
  "kernelspec": {
   "display_name": "Python 3 (ipykernel)",
   "language": "python",
   "name": "python3"
  },
  "language_info": {
   "codemirror_mode": {
    "name": "ipython",
    "version": 3
   },
   "file_extension": ".py",
   "mimetype": "text/x-python",
   "name": "python",
   "nbconvert_exporter": "python",
   "pygments_lexer": "ipython3",
   "version": "3.9.9"
  }
 },
 "nbformat": 4,
 "nbformat_minor": 5
}
