{
 "cells": [
  {
   "cell_type": "markdown",
   "id": "c96ac4e9",
   "metadata": {},
   "source": [
    "# Pong Skeleton"
   ]
  },
  {
   "cell_type": "code",
   "execution_count": 3,
   "id": "4348da0c",
   "metadata": {},
   "outputs": [],
   "source": [
    "import pygame, sys, random"
   ]
  },
  {
   "cell_type": "code",
   "execution_count": 4,
   "id": "cc345403",
   "metadata": {},
   "outputs": [
    {
     "ename": "SystemExit",
     "evalue": "",
     "output_type": "error",
     "traceback": [
      "An exception has occurred, use %tb to see the full traceback.\n",
      "\u001b[0;31mSystemExit\u001b[0m\n"
     ]
    }
   ],
   "source": [
    "def ball_animation():\n",
    "    global ball_speed_x, ball_speed_y\n",
    "    ball.x += ball_speed_x\n",
    "    ball.y += ball_speed_y\n",
    "\n",
    "    if ball.top <= 0 or ball.bottom >= screen_height:\n",
    "        ball_speed_y *= -1\n",
    "    if ball.left <=0 or ball.right >= screen_width:\n",
    "        ball_restart()\n",
    "    \n",
    "    if ball.colliderect(player) or ball.colliderect(opponent):\n",
    "        ball_speed_x *= -1\n",
    "\n",
    "def player_animation():\n",
    "    global player_speed\n",
    "    player.y += player_speed\n",
    "    if player.top <= 0:\n",
    "        player.top = 0\n",
    "    if player.bottom >= screen_height:\n",
    "        player.bottom = screen_height\n",
    "\n",
    "def opponent_ai():\n",
    "    global opponent_speed\n",
    "    if opponent.top < ball.y:\n",
    "        opponent.top += opponent_speed\n",
    "    if opponent.bottom > ball.y:\n",
    "        opponent.top -= opponent_speed\n",
    "    if opponent.top <= 0:\n",
    "        opponent.top = 0\n",
    "    if opponent.bottom >= screen_height:\n",
    "        opponent.bottom = screen_height\n",
    "\n",
    "def ball_restart():\n",
    "    global ball_speed_x, ball_speed_y\n",
    "    ball.center = (screen_width / 2, screen_height / 2)\n",
    "    ball_speed_y *= random.choice((1, -1))\n",
    "    ball_speed_x *= random.choice((1, -1))\n",
    "\n",
    "# General setup\n",
    "pygame.init()\n",
    "clock = pygame.time.Clock()\n",
    "\n",
    "# Setting up the main window\n",
    "screen_width = 1280\n",
    "screen_height = 960\n",
    "screen = pygame.display.set_mode((screen_width, screen_height))\n",
    "pygame.display.set_caption(\"Pong\")\n",
    "\n",
    "# Game Rectangles\n",
    "ball = pygame.Rect(screen_width / 2 - 15, screen_height / 2 - 15, 30, 30)\n",
    "player = pygame.Rect(screen_width - 20, screen_height / 2 - 70, 10, 140)\n",
    "opponent = pygame.Rect(10, screen_height / 2 - 70, 10, 140)\n",
    "\n",
    "bg_color = pygame.Color('grey12')\n",
    "light_grey = (200, 200, 200)\n",
    "\n",
    "ball_speed_x = 7 * random.choice((1, -1))\n",
    "ball_speed_y = 7 * random.choice((1, -1))\n",
    "player_speed = 0\n",
    "opponent_speed = 7\n",
    "\n",
    "while True:\n",
    "    # Handling input\n",
    "    for event in pygame.event.get():\n",
    "        if event.type == pygame.QUIT:\n",
    "            pygame.quit()\n",
    "            sys.exit()\n",
    "\n",
    "        if event.type == pygame.KEYDOWN:\n",
    "            if event.key == pygame.K_DOWN:\n",
    "                player_speed += 7\n",
    "            if event.key == pygame.K_UP:\n",
    "                player_speed -= 7\n",
    "        if event.type == pygame.KEYUP:\n",
    "            if event.key == pygame.K_DOWN:\n",
    "                player_speed -= 7\n",
    "            if event.key == pygame.K_UP:\n",
    "                player_speed += 7\n",
    "\n",
    "    ball_animation()\n",
    "    player_animation()\n",
    "    opponent_ai()\n",
    "\n",
    "    # Visuals\n",
    "    screen.fill(bg_color)\n",
    "    pygame.draw.rect(screen, light_grey, player)\n",
    "    pygame.draw.rect(screen, light_grey, opponent)\n",
    "    pygame.draw.ellipse(screen, light_grey, ball)\n",
    "    pygame.draw.aaline(screen, light_grey, (screen_width / 2, 0), (screen_width / 2, screen_height))\n",
    "\n",
    "\n",
    "    # Updating window\n",
    "    pygame.display.flip()\n",
    "    clock.tick(60)"
   ]
  },
  {
   "cell_type": "code",
   "execution_count": null,
   "id": "d9d769bf",
   "metadata": {},
   "outputs": [],
   "source": []
  }
 ],
 "metadata": {
  "kernelspec": {
   "display_name": "Python 3 (ipykernel)",
   "language": "python",
   "name": "python3"
  },
  "language_info": {
   "codemirror_mode": {
    "name": "ipython",
    "version": 3
   },
   "file_extension": ".py",
   "mimetype": "text/x-python",
   "name": "python",
   "nbconvert_exporter": "python",
   "pygments_lexer": "ipython3",
   "version": "3.9.9"
  }
 },
 "nbformat": 4,
 "nbformat_minor": 5
}
