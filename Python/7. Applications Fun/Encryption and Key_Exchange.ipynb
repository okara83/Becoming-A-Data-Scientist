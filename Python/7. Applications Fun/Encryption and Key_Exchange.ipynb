{
 "cells": [
  {
   "cell_type": "markdown",
   "metadata": {
    "colab_type": "text",
    "id": "6h4kJqvllcNt"
   },
   "source": [
    "# Diffie–Hellman key exchange - Wikipedia\n",
    "`Allows two (or more) parties that have no prior knowledge of each other to establish a shared secret key over an insecure channel. The key can be used to encrypt subsequent communication`\n",
    "\n",
    "Adversary\n",
    "\n",
    "Party A (Alice)\n",
    "- Secret Value: a \n",
    "\n",
    "> > Chooses a prime number $p$ and base $g$.\n",
    "> > Compute $g^{a}$ mod $p$ \n",
    "\n",
    "\n",
    "\n",
    "Party B (Bob)\n",
    "- Secret Value: b\n",
    "> >  Compute $(g^{a}$ mod $p)^{b}$ mod $p$    \n",
    "\n"
   ]
  },
  {
   "cell_type": "markdown",
   "metadata": {},
   "source": [
    "Wikipedia Summary:<br>\n",
    "    Diffie–Hellman key exchange[nb 1] is a method of securely exchanging cryptographic keys over a public channel and was one of the first public-key protocols as conceived by Ralph Merkle and named after Whitfield Diffie and Martin Hellman.[1][2] DH is one of the earliest practical examples of public key exchange implemented within the field of cryptography. Published in 1976 by Diffie and Hellman, this is the earliest publicly known work that proposed the idea of a private key and a corresponding public key.\n",
    "\n",
    "Traditionally, secure encrypted communication between two parties required that they first exchange keys by some secure physical means, such as paper key lists transported by a trusted courier. The Diffie–Hellman key exchange method allows two parties that have no prior knowledge of each other to jointly establish a shared secret key over an insecure channel. This key can then be used to encrypt subsequent communications using a symmetric-key cipher.\n",
    "\n",
    "Diffie–Hellman is used to secure a variety of Internet services. However, research published in October 2015 suggests that the parameters in use for many DH Internet applications at that time are not strong enough to prevent compromise by very well-funded attackers, such as the security services of some countries.[3]\n",
    "\n",
    "The scheme was published by Whitfield Diffie and Martin Hellman in 1976,[2] but in 1997 it was revealed that James H. Ellis,[4] Clifford Cocks, and Malcolm J. Williamson of GCHQ, the British signals intelligence agency, had previously shown in 1969[5] how public-key cryptography could be achieved.[6]\n",
    "\n",
    "Although Diffie–Hellman key agreement itself is a non-authenticated key-agreement protocol, it provides the basis for a variety of authenticated protocols, and is used to provide forward secrecy in Transport Layer Security's ephemeral modes (referred to as EDH or DHE depending on the cipher suite).\n",
    "\n",
    "The method was followed shortly afterwards by RSA, an implementation of public-key cryptography using asymmetric algorithms.\n",
    "\n",
    "Expired U.S. Patent 4,200,770 from 1977 describes the now public-domain algorithm. It credits Hellman, Diffie, and Merkle as inventors."
   ]
  },
  {
   "cell_type": "markdown",
   "metadata": {},
   "source": [
    "NOTE:"
   ]
  },
  {
   "cell_type": "code",
   "execution_count": 28,
   "metadata": {},
   "outputs": [],
   "source": [
    "import random"
   ]
  },
  {
   "cell_type": "code",
   "execution_count": 7,
   "metadata": {
    "colab": {},
    "colab_type": "code",
    "id": "gFABuZ7smIGq"
   },
   "outputs": [],
   "source": [
    "def gcd(a,b):\n",
    "    '''Greatest Common Divisor (gcd) function'''\n",
    "    a,b = max(a,b),min(a,b)\n",
    "    c=1\n",
    "    while c:\n",
    "        c = a%b\n",
    "        a = b\n",
    "        b=c\n",
    "    return a\n",
    "\n",
    "def coprime(p):\n",
    "    '''return the list of numbers that are coprime to p up to p-1'''\n",
    "    phi = [] #create an empty list\n",
    "    x = 1  #initial value\n",
    "    while x < p:  #check for gcd of x and p\n",
    "        if gcd(x,p)==1:\n",
    "            phi.append(x) # if gcd is indeed 1, add number to list phi\n",
    "        x += 1\n",
    "    return phi"
   ]
  },
  {
   "cell_type": "code",
   "execution_count": 8,
   "metadata": {
    "colab": {
     "base_uri": "https://localhost:8080/",
     "height": 34
    },
    "colab_type": "code",
    "id": "z29NJBDtofYq",
    "outputId": "13b7e925-9a08-44d8-f016-ecccb0be1bf9"
   },
   "outputs": [
    {
     "data": {
      "text/plain": [
       "[1, 5]"
      ]
     },
     "execution_count": 8,
     "metadata": {},
     "output_type": "execute_result"
    }
   ],
   "source": [
    "coprime(6)"
   ]
  },
  {
   "cell_type": "code",
   "execution_count": 46,
   "metadata": {
    "colab": {},
    "colab_type": "code",
    "id": "y6cwHAA5s7m2"
   },
   "outputs": [],
   "source": [
    "def prime_root(p):\n",
    "    '''return the list of primes root of p'''\n",
    "    coprime_list = coprime(p)           #obtain the list of coprime of p\n",
    "    roots = []                          # prepare an empty list\n",
    "    for x in coprime_list:\n",
    "        y = 1\n",
    "        while (x**y) % p != 1:          # check the condition\n",
    "            y +=1\n",
    "        if y == len(coprime_list):\n",
    "            roots.append(x)\n",
    "    return roots"
   ]
  },
  {
   "cell_type": "code",
   "execution_count": 47,
   "metadata": {
    "colab": {
     "base_uri": "https://localhost:8080/",
     "height": 34
    },
    "colab_type": "code",
    "id": "sUEr2YJNwgNH",
    "outputId": "cb2a2d22-5cf1-4e76-9f07-72dda1c0d84e"
   },
   "outputs": [
    {
     "data": {
      "text/plain": [
       "[3, 7]"
      ]
     },
     "execution_count": 47,
     "metadata": {},
     "output_type": "execute_result"
    }
   ],
   "source": [
    "prime_root(10)"
   ]
  },
  {
   "cell_type": "markdown",
   "metadata": {
    "colab_type": "text",
    "id": "yJ52BwX7o0N7"
   },
   "source": [
    "# ELGamal encryption (asymmetric)\n",
    "\n",
    "\n",
    "---\n",
    "\n",
    "## Idea: Alice publishes a public key which is accessible to everyone and can be used to encrypt messages.\n",
    "\n",
    "## To decrypt, Alice has a secret key. We face here a so-called public-key encryption scheme\n",
    "\n",
    "\n",
    "---\n",
    "\n",
    "\n",
    "There are several algorithms:\n",
    "\n",
    "1.   Key Generation: Alice picks a 'large' prime number $p$ and generator $ g \\in \\{2, \\ldots, p-1\\}$ of 'large' order. Let this order be $g$.\n",
    "\n",
    "2.   Next, Aice picks a random number $a \\in \\{1, \\ldots, q\\}$ which is her secret key and publishes $(\\, g^{\\,a} \\, \\text{mod} \\,\\,p \\,)$ which is her public key along with ($\\,p$ and $g\\,$)\n",
    "\n",
    "3. Encryption: suppose Bob wants to send a message $m$ to Alice. Let's assume $m$ is a number mod $p$. He picks a random $k \\in \\{2, \\ldots, g\\}$ and sends $g^{\\,k} \\text{ mod } p, (g^{\\,a})^{k} \\times m \\text{ mod } p$ to Alice\n",
    "\n",
    "4. Decryption: Alice computes $(g^{\\,k})^{a}$ mod $p$ and recovers m = $(g^{\\,ak})^{-1} \\cdot (g^{\\,ak} \\cdot m) $ mod $p$\n",
    "\n",
    "\n",
    "\n",
    "---\n",
    "\n",
    "How can Alice compute an inverse $\\text{ mod }p$? \n",
    "\n",
    "\n",
    "\n",
    "> Fermat's Little theorem ensures the following: \n",
    "\n",
    "> $x^{\\, p-1} =1 \\text{ mod } p \\,\\, \\forall \\, x \\in \\{1, \\ldots, p-1\\}$. Hence $(x \\cdot x^{\\, p-2})= (x \\cdot x^{\\, -1}) =( 1 \\text{ mod } p)$\n",
    "\n",
    "\n"
   ]
  },
  {
   "cell_type": "markdown",
   "metadata": {},
   "source": [
    "### ELGamal encrryption with p = 23 and g = 5"
   ]
  },
  {
   "cell_type": "code",
   "execution_count": 51,
   "metadata": {
    "colab": {
     "base_uri": "https://localhost:8080/",
     "height": 34
    },
    "colab_type": "code",
    "id": "JeAMq-Z6pJ6C",
    "outputId": "fad0c75c-5aff-49c9-9a51-a5ba434ea452"
   },
   "outputs": [
    {
     "data": {
      "text/plain": [
       "(16, 8)"
      ]
     },
     "execution_count": 51,
     "metadata": {},
     "output_type": "execute_result"
    }
   ],
   "source": [
    "def key_gen(p, g):\n",
    "    '''produce public key and secret key for ELGamal'''\n",
    "    secret = random.randint(1, p-1)\n",
    "    public = pow(g, secret, p) #https://docs.python.org/3/library/functions.html, used for exponentation with powers\n",
    "    return (public, secret)\n",
    "key_gen(23,5)"
   ]
  },
  {
   "cell_type": "code",
   "execution_count": null,
   "metadata": {},
   "outputs": [],
   "source": []
  },
  {
   "cell_type": "code",
   "execution_count": 52,
   "metadata": {
    "colab": {},
    "colab_type": "code",
    "id": "sjdnRTJ2xdMD"
   },
   "outputs": [],
   "source": [
    "def encrypt(pk,m,p=23,g=5):\n",
    "    '''encrypt message m with public key pk'''\n",
    "    secret=random.randint(1,p-1)\n",
    "    gk=pow(g,secret,p)\n",
    "    gak=pow(pk,secret,p)\n",
    "    return (gk, (gak*m)%p)\n",
    "\n",
    "def decrypt(sk,c,p=23,g=5):\n",
    "    '''decrypt ElGamal ciphertext c'''\n",
    "    gak=pow(c[0],sk,p)\n",
    "    gak_inv=pow(gak, p-2, p)\n",
    "    return (gak_inv*c[1])%p"
   ]
  },
  {
   "cell_type": "code",
   "execution_count": null,
   "metadata": {},
   "outputs": [],
   "source": []
  }
 ],
 "metadata": {
  "accelerator": "GPU",
  "colab": {
   "collapsed_sections": [],
   "name": "Key-Exchange.ipynb",
   "provenance": [],
   "version": "0.3.2"
  },
  "kernelspec": {
   "display_name": "Python 3 (ipykernel)",
   "language": "python",
   "name": "python3"
  },
  "language_info": {
   "codemirror_mode": {
    "name": "ipython",
    "version": 3
   },
   "file_extension": ".py",
   "mimetype": "text/x-python",
   "name": "python",
   "nbconvert_exporter": "python",
   "pygments_lexer": "ipython3",
   "version": "3.9.9"
  }
 },
 "nbformat": 4,
 "nbformat_minor": 1
}
