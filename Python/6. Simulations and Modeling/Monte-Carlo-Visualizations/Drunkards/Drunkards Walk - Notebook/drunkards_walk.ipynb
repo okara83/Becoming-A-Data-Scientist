{
 "cells": [
  {
   "cell_type": "markdown",
   "metadata": {
    "id": "TqcaH7lsZgdR"
   },
   "source": [
    "# Drunkard Walk Notebook\n",
    "\n",
    "This notebook provides a demonstration of a random walk using a Markov chain simulation. An algorithm devised to calculate a probability of the drunk's steps is presented, taking into account that the drunk can arrival at both destinations is possible regardless of where he starts.  Canonical, Fundamental Matrix and Spectral Decomposition are used. After analysis of the results, we obtain the values of the highest probability of the drunkards position in the limit of a large number of steps. <br>\n",
    "We assume this walk is done on a single axis moving only left or right with user assigned probabilities for each directions."
   ]
  },
  {
   "cell_type": "markdown",
   "metadata": {
    "id": "XleBJZtDZsQ5"
   },
   "source": [
    "### Modulos"
   ]
  },
  {
   "cell_type": "code",
   "execution_count": 1,
   "metadata": {
    "id": "_02-SjhFZWiQ"
   },
   "outputs": [],
   "source": [
    "import numpy as np\n",
    "import matplotlib.pyplot as plt\n",
    "import random"
   ]
  },
  {
   "cell_type": "markdown",
   "metadata": {
    "id": "qPurYoayaMT3"
   },
   "source": [
    "## Function to generate Transition Matrix."
   ]
  },
  {
   "cell_type": "code",
   "execution_count": 2,
   "metadata": {
    "colab": {
     "base_uri": "https://localhost:8080/"
    },
    "id": "GVzoqMsWaYSS",
    "outputId": "e9ec00fa-fc15-44db-d612-e21baf620b96"
   },
   "outputs": [],
   "source": [
    "def generate_transition_matrix(right, dimension):\n",
    "    left = 1 - right\n",
    "    transition_matrix= np.diag(left*np.ones(dimension), k=-1) + np.diag(right*np.ones(dimension), k=1) \n",
    "    transition_matrix[0, :] = 0\n",
    "    transition_matrix[0, 0] = 1\n",
    "    transition_matrix[dimension, :] = 0\n",
    "    transition_matrix[dimension, dimension] = 1\n",
    "    return transition_matrix"
   ]
  },
  {
   "cell_type": "code",
   "execution_count": 3,
   "metadata": {},
   "outputs": [
    {
     "name": "stdout",
     "output_type": "stream",
     "text": [
      "Probability of moving right: 0.45\n",
      "Probability of moving left: 0.55\n",
      "Location of Home (some integer values): 600\n",
      "Location of Bar (some integer values): 0\n"
     ]
    }
   ],
   "source": [
    "X = float(input('Probability of moving right: '))\n",
    "print(f'Probability of moving left: {1-X:.2f}')\n",
    "Y = int(input('Location of Home (some integer values): '))\n",
    "bar = int(input('Location of Bar (some integer values): '))\n",
    "trans_matrix = generate_transition_matrix(X,Y)"
   ]
  },
  {
   "cell_type": "markdown",
   "metadata": {
    "id": "yaHDVcmVfAx3"
   },
   "source": [
    "### Transition Matrix"
   ]
  },
  {
   "cell_type": "code",
   "execution_count": 4,
   "metadata": {
    "colab": {
     "base_uri": "https://localhost:8080/"
    },
    "id": "UVAA7VUAfEsI",
    "outputId": "a09d6113-a360-4692-f595-a01a13a253a6"
   },
   "outputs": [
    {
     "data": {
      "text/plain": [
       "array([[1.  , 0.  , 0.  , ..., 0.  , 0.  , 0.  ],\n",
       "       [0.55, 0.  , 0.45, ..., 0.  , 0.  , 0.  ],\n",
       "       [0.  , 0.55, 0.  , ..., 0.  , 0.  , 0.  ],\n",
       "       ...,\n",
       "       [0.  , 0.  , 0.  , ..., 0.  , 0.45, 0.  ],\n",
       "       [0.  , 0.  , 0.  , ..., 0.55, 0.  , 0.45],\n",
       "       [0.  , 0.  , 0.  , ..., 0.  , 0.  , 1.  ]])"
      ]
     },
     "execution_count": 4,
     "metadata": {},
     "output_type": "execute_result"
    }
   ],
   "source": [
    "trans_matrix"
   ]
  },
  {
   "cell_type": "markdown",
   "metadata": {
    "id": "vVGCxaOtlQUV"
   },
   "source": [
    "### Canonical Form"
   ]
  },
  {
   "cell_type": "code",
   "execution_count": 5,
   "metadata": {
    "colab": {
     "base_uri": "https://localhost:8080/"
    },
    "id": "xs41RmgMlWhy",
    "outputId": "aaeb354d-f84e-451b-b4d5-0ac2bb1c9d4f"
   },
   "outputs": [
    {
     "name": "stdout",
     "output_type": "stream",
     "text": [
      "\n",
      "Transient matrix:\n",
      "[[0.   0.45 0.   ... 0.   0.   0.  ]\n",
      " [0.55 0.   0.45 ... 0.   0.   0.  ]\n",
      " [0.   0.55 0.   ... 0.   0.   0.  ]\n",
      " ...\n",
      " [0.   0.   0.   ... 0.   0.45 0.  ]\n",
      " [0.   0.   0.   ... 0.55 0.   0.45]\n",
      " [0.   0.   0.   ... 0.   0.55 0.  ]]\n",
      "\n",
      "Transient Matrix --> Absorbent:\n",
      "[[0.55 0.  ]\n",
      " [0.   0.  ]\n",
      " [0.   0.  ]\n",
      " ...\n",
      " [0.   0.  ]\n",
      " [0.   0.  ]\n",
      " [0.   0.45]]\n",
      "\n",
      "Null Matrix:\n",
      "[[0. 0. 0. ... 0. 0. 0.]\n",
      " [0. 0. 0. ... 0. 0. 0.]]\n",
      "\n",
      "Identity matrix:\n",
      "[[1. 0.]\n",
      " [0. 1.]]\n"
     ]
    }
   ],
   "source": [
    "A = [0, Y]\n",
    "B = range(1, Y)\n",
    "P = generate_transition_matrix(X,Y)\n",
    "identity_matrix = P[np.ix_(A, A)]\n",
    "absorbent_matrix = P[np.ix_(B, A)]\n",
    "transient_matrix = P[np.ix_(B, B)]\n",
    "null_matrix = np.zeros([len(identity_matrix),len(transient_matrix)])\n",
    "print(f\"\\nTransient matrix:\\n{transient_matrix}\\n\\nTransient Matrix --> Absorbent:\\n{absorbent_matrix}\\n\\nNull Matrix:\\n{null_matrix}\\n\\nIdentity matrix:\\n{identity_matrix}\")"
   ]
  },
  {
   "cell_type": "markdown",
   "metadata": {
    "id": "uJgnTJk4n4en"
   },
   "source": [
    "### Fundamental Matrix"
   ]
  },
  {
   "cell_type": "code",
   "execution_count": 6,
   "metadata": {
    "colab": {
     "base_uri": "https://localhost:8080/"
    },
    "id": "T18HmbuqoAvG",
    "outputId": "fc75a1cb-4770-4be8-89c8-6c142190aed6"
   },
   "outputs": [
    {
     "name": "stdout",
     "output_type": "stream",
     "text": [
      "Fundamental Matrix:\n",
      "[[1.818 1.488 1.217 ... 0.    0.    0.   ]\n",
      " [1.818 3.306 2.705 ... 0.    0.    0.   ]\n",
      " [1.818 3.306 4.523 ... 0.    0.    0.   ]\n",
      " ...\n",
      " [0.822 1.495 2.046 ... 4.523 2.705 1.217]\n",
      " [0.601 1.093 1.495 ... 3.306 3.306 1.488]\n",
      " [0.331 0.601 0.822 ... 1.818 1.818 1.818]]\n",
      "\n",
      "Vector t:\n",
      "[  10.      20.      30.      40.      50.      60.      70.      80.\n",
      "   90.     100.     110.     120.     130.     140.     150.     160.\n",
      "  170.     180.     190.     200.     210.     220.     230.     240.\n",
      "  250.     260.     270.     280.     290.     300.     310.     320.\n",
      "  330.     340.     350.     360.     370.     380.     390.     400.\n",
      "  410.     420.     430.     440.     450.     460.     470.     480.\n",
      "  490.     500.     510.     520.     530.     540.     550.     560.\n",
      "  570.     580.     590.     600.     610.     620.     630.     640.\n",
      "  650.     660.     670.     680.     690.     700.     710.     720.\n",
      "  730.     740.     750.     760.     770.     780.     790.     800.\n",
      "  810.     820.     830.     840.     850.     860.     870.     880.\n",
      "  890.     900.     910.     920.     930.     940.     950.     960.\n",
      "  970.     980.     990.    1000.    1010.    1020.    1030.    1040.\n",
      " 1050.    1060.    1070.    1080.    1090.    1100.    1110.    1120.\n",
      " 1130.    1140.    1150.    1160.    1170.    1180.    1190.    1200.\n",
      " 1210.    1220.    1230.    1240.    1250.    1260.    1270.    1280.\n",
      " 1290.    1300.    1310.    1320.    1330.    1340.    1350.    1360.\n",
      " 1370.    1380.    1390.    1400.    1410.    1420.    1430.    1440.\n",
      " 1450.    1460.    1470.    1480.    1490.    1500.    1510.    1520.\n",
      " 1530.    1540.    1550.    1560.    1570.    1580.    1590.    1600.\n",
      " 1610.    1620.    1630.    1640.    1650.    1660.    1670.    1680.\n",
      " 1690.    1700.    1710.    1720.    1730.    1740.    1750.    1760.\n",
      " 1770.    1780.    1790.    1800.    1810.    1820.    1830.    1840.\n",
      " 1850.    1860.    1870.    1880.    1890.    1900.    1910.    1920.\n",
      " 1930.    1940.    1950.    1960.    1970.    1980.    1990.    2000.\n",
      " 2010.    2020.    2030.    2040.    2050.    2060.    2070.    2080.\n",
      " 2090.    2100.    2110.    2120.    2130.    2140.    2150.    2160.\n",
      " 2170.    2180.    2190.    2200.    2210.    2220.    2230.    2240.\n",
      " 2250.    2260.    2270.    2280.    2290.    2300.    2310.    2320.\n",
      " 2330.    2340.    2350.    2360.    2370.    2380.    2390.    2400.\n",
      " 2410.    2420.    2430.    2440.    2450.    2460.    2470.    2480.\n",
      " 2490.    2500.    2510.    2520.    2530.    2540.    2550.    2560.\n",
      " 2570.    2580.    2590.    2600.    2610.    2620.    2630.    2640.\n",
      " 2650.    2660.    2670.    2680.    2690.    2700.    2710.    2720.\n",
      " 2730.    2740.    2750.    2760.    2770.    2780.    2790.    2800.\n",
      " 2810.    2820.    2830.    2840.    2850.    2860.    2870.    2880.\n",
      " 2890.    2900.    2910.    2920.    2930.    2940.    2950.    2960.\n",
      " 2970.    2980.    2990.    3000.    3010.    3020.    3030.    3040.\n",
      " 3050.    3060.    3070.    3080.    3090.    3100.    3110.    3120.\n",
      " 3130.    3140.    3150.    3160.    3170.    3180.    3190.    3200.\n",
      " 3210.    3220.    3230.    3240.    3250.    3260.    3270.    3280.\n",
      " 3290.    3300.    3310.    3320.    3330.    3340.    3350.    3360.\n",
      " 3370.    3380.    3390.    3400.    3410.    3420.    3430.    3440.\n",
      " 3450.    3460.    3470.    3480.    3490.    3500.    3510.    3520.\n",
      " 3530.    3540.    3550.    3560.    3570.    3580.    3590.    3600.\n",
      " 3610.    3620.    3630.    3640.    3650.    3660.    3670.    3680.\n",
      " 3690.    3700.    3710.    3720.    3730.    3740.    3750.    3760.\n",
      " 3770.    3780.    3790.    3800.    3810.    3820.    3830.    3840.\n",
      " 3850.    3860.    3870.    3880.    3890.    3900.    3910.    3920.\n",
      " 3930.    3940.    3950.    3960.    3970.    3980.    3990.    4000.\n",
      " 4010.    4020.    4030.    4040.    4050.    4060.    4070.    4080.\n",
      " 4090.    4100.    4110.    4120.    4130.    4140.    4150.    4160.\n",
      " 4170.    4180.    4190.    4200.    4210.    4220.    4230.    4240.\n",
      " 4250.    4260.    4270.    4280.    4290.    4300.    4310.    4320.\n",
      " 4330.    4340.    4350.    4360.    4370.    4380.    4390.    4400.\n",
      " 4410.    4420.    4430.    4440.    4450.    4460.    4470.    4480.\n",
      " 4490.    4500.    4510.    4520.    4530.    4540.    4550.    4560.\n",
      " 4570.    4580.    4590.    4600.    4610.    4620.    4630.    4640.\n",
      " 4650.    4660.    4670.    4680.    4690.    4700.    4710.    4720.\n",
      " 4730.    4740.    4750.    4760.    4770.    4780.    4790.    4800.\n",
      " 4810.    4820.    4830.    4840.    4850.    4860.    4870.    4880.\n",
      " 4890.    4900.    4910.    4920.    4930.    4940.    4950.    4960.\n",
      " 4970.    4980.    4990.    5000.    5010.    5020.    5030.    5040.\n",
      " 5050.    5060.    5070.    5080.    5090.    5100.    5110.    5120.\n",
      " 5130.    5140.    5150.    5160.    5170.    5180.    5189.999 5199.999\n",
      " 5209.999 5219.999 5229.999 5239.999 5249.998 5259.998 5269.997 5279.997\n",
      " 5289.996 5299.995 5309.994 5319.993 5329.991 5339.989 5349.987 5359.984\n",
      " 5369.981 5379.976 5389.971 5399.965 5409.957 5419.947 5429.935 5439.921\n",
      " 5449.903 5459.882 5469.856 5479.824 5489.784 5499.737 5509.678 5519.607\n",
      " 5529.519 5539.412 5549.282 5559.122 5568.927 5578.688 5588.397 5598.041\n",
      " 5607.605 5617.073 5626.422 5635.627 5644.656 5653.468 5662.016 5670.242\n",
      " 5678.074 5685.424 5692.185 5698.226 5703.387 5707.473 5710.245 5711.41\n",
      " 5710.612 5707.415 5701.285 5691.57  5677.475 5658.025 5632.031 5598.037\n",
      " 5554.268 5498.55  5428.227 5340.055 5230.068 5093.416 4924.175 4715.103\n",
      " 4457.348 4140.092 3750.113 3271.249 2683.749 1963.471 1080.909]\n",
      "\n",
      "Matrix B:\n",
      "[[1.    0.   ]\n",
      " [1.    0.   ]\n",
      " [1.    0.   ]\n",
      " ...\n",
      " [0.452 0.548]\n",
      " [0.331 0.669]\n",
      " [0.182 0.818]]\n"
     ]
    }
   ],
   "source": [
    "fundamental_matrix_ind= (np.eye(len(transient_matrix)))\n",
    "subtraction = np.subtract(fundamental_matrix_ind,transient_matrix)\n",
    "fundamental_matrix = np.linalg.inv(subtraction)\n",
    "np.set_printoptions(suppress = True, precision=3)\n",
    "vector_t = fundamental_matrix.sum(axis=1)\n",
    "matrix_b = np.dot(fundamental_matrix,absorbent_matrix)\n",
    "print(f\"Fundamental Matrix:\\n{fundamental_matrix}\\n\\nVector t:\\n{vector_t}\\n\\nMatrix B:\\n{matrix_b}\")"
   ]
  },
  {
   "cell_type": "markdown",
   "metadata": {
    "id": "eLT5GW3kQzgW"
   },
   "source": [
    "### Calculation of Eigenvalues and Eigenvectors"
   ]
  },
  {
   "cell_type": "code",
   "execution_count": 7,
   "metadata": {
    "colab": {
     "base_uri": "https://localhost:8080/"
    },
    "id": "KIcSV050RCyG",
    "outputId": "ffa53850-a859-4f98-ba62-e82673a85230"
   },
   "outputs": [
    {
     "name": "stdout",
     "output_type": "stream",
     "text": [
      "Eigenvalues:\n",
      "[ 1.   +0.j     1.   +0.j    -0.966+0.002j -0.966-0.002j -0.968+0.001j\n",
      " -0.968-0.001j -0.97 +0.j    -0.97 -0.j    -0.978+0.j    -0.98 +0.j\n",
      " -0.981+0.j    -0.982+0.j    -0.983+0.j    -0.988+0.j    -0.988+0.j\n",
      " -0.989+0.j    -0.989-0.j    -0.992+0.j    -0.993+0.001j -0.993-0.001j\n",
      " -0.994+0.001j -0.994-0.001j -0.995+0.001j -0.995-0.001j -0.995+0.j\n",
      " -0.995-0.j    -0.995+0.001j -0.995-0.001j -0.994+0.j     0.945+0.j\n",
      "  0.962+0.j     0.965+0.j     0.966+0.j     0.971+0.j     0.973+0.j\n",
      "  0.976+0.j     0.977+0.j     0.978+0.j     0.979+0.j     0.98 +0.j\n",
      "  0.981+0.j     0.983+0.j     0.983+0.j     0.989+0.j     0.99 +0.001j\n",
      "  0.99 -0.001j  0.991+0.001j  0.991-0.001j  0.992+0.001j  0.992-0.001j\n",
      "  0.993+0.j     0.994+0.j     0.995+0.j     0.995-0.j     0.995+0.j\n",
      "  0.995-0.j     0.995+0.j     0.994+0.j     0.994-0.j     0.914+0.001j\n",
      "  0.914-0.001j  0.921+0.j     0.924+0.j     0.926+0.j     0.932+0.j\n",
      "  0.947+0.j     0.949+0.j    -0.935+0.j    -0.939+0.j    -0.941+0.j\n",
      " -0.944+0.j    -0.946+0.j     0.968+0.j    -0.955+0.j    -0.96 +0.j\n",
      " -0.963+0.001j -0.963-0.001j  0.995+0.j     0.982+0.j     0.994+0.j\n",
      "  0.993+0.j     0.986+0.j     0.986+0.j     0.988+0.j     0.985+0.j\n",
      "  0.993+0.j     0.993+0.j    -0.976+0.j     0.987+0.j    -0.985+0.j\n",
      " -0.993+0.j    -0.99 +0.j    -0.987+0.j    -0.986+0.j    -0.992+0.j\n",
      " -0.992+0.j    -0.991+0.j    -0.984+0.j    -0.986+0.j    -0.991+0.j\n",
      " -0.992+0.j    -0.984+0.j     0.984+0.j     0.988+0.j    -0.794+0.001j\n",
      " -0.794-0.001j -0.932+0.j    -0.949+0.j    -0.951+0.j    -0.973+0.001j\n",
      " -0.973-0.001j -0.98 +0.j    -0.978+0.j    -0.976+0.j    -0.975+0.j\n",
      "  0.882+0.j     0.894+0.j     0.896+0.j     0.911+0.j     0.929+0.j\n",
      "  0.951+0.j     0.976+0.j     0.957+0.j     0.956+0.j     0.96 +0.j\n",
      "  0.968+0.j     0.974+0.j     0.953+0.001j  0.953-0.001j  0.961+0.j\n",
      "  0.972+0.j     0.97 +0.j     0.837+0.j     0.891+0.j     0.905+0.j\n",
      "  0.964+0.j     0.934+0.j     0.937+0.001j  0.937-0.001j  0.942+0.001j\n",
      "  0.942-0.001j -0.867+0.j    -0.872+0.j    -0.897+0.001j -0.897-0.001j\n",
      " -0.902+0.002j -0.902-0.002j -0.906+0.j    -0.907+0.j    -0.919+0.j\n",
      " -0.931+0.j    -0.926+0.j    -0.961+0.j    -0.922+0.001j -0.922-0.001j\n",
      " -0.929+0.j     0.94 +0.j    -0.958+0.j    -0.954+0.j    -0.958+0.j\n",
      " -0.953+0.j     0.866+0.001j  0.866-0.001j  0.919+0.j     0.958+0.j\n",
      " -0.874+0.j    -0.914+0.j    -0.935+0.j    -0.939+0.j    -0.948+0.j\n",
      "  0.802+0.j     0.805+0.j    -0.8  +0.j     0.851+0.j    -0.859+0.j\n",
      " -0.877+0.j     0.9  +0.j    -0.886+0.j     0.907+0.j    -0.944+0.j\n",
      " -0.909+0.j     0.919+0.j     0.925+0.j     0.931+0.j     0.948+0.j\n",
      "  0.783+0.j     0.82 +0.j     0.84 +0.j     0.854+0.j     0.861+0.j\n",
      " -0.852+0.j    -0.854+0.j     0.885+0.j    -0.862+0.j    -0.914+0.j\n",
      " -0.882+0.j    -0.917+0.j     0.909+0.j     0.898+0.j    -0.927+0.j\n",
      " -0.893+0.j     0.886+0.j    -0.803+0.j    -0.809+0.j    -0.811+0.j\n",
      " -0.817+0.j    -0.91 +0.j    -0.889+0.j    -0.891+0.j     0.786+0.j\n",
      "  0.811+0.j     0.843+0.j    -0.884+0.j     0.889+0.j     0.903+0.j\n",
      "  0.878+0.j     0.873+0.001j  0.873-0.001j  0.879+0.j     0.869+0.j\n",
      "  0.737+0.002j  0.737-0.002j  0.762+0.003j  0.762-0.003j -0.857+0.j\n",
      " -0.864+0.j     0.792+0.j    -0.869+0.j    -0.879+0.j     0.856+0.j\n",
      "  0.859+0.j    -0.668+0.002j -0.668-0.002j  0.745+0.003j  0.745-0.003j\n",
      " -0.725+0.j    -0.73 +0.j     0.835+0.j     0.826+0.j     0.829+0.j\n",
      "  0.817+0.j     0.848+0.j    -0.837+0.j     0.846+0.j    -0.822+0.j\n",
      " -0.841+0.001j -0.841-0.001j -0.821+0.j    -0.847+0.001j -0.847-0.001j\n",
      " -0.826+0.j     0.64 +0.001j  0.64 -0.001j  0.681+0.j     0.7  +0.j\n",
      "  0.751+0.j     0.823+0.j     0.832+0.j     0.796+0.j     0.798+0.j\n",
      "  0.769+0.001j  0.769-0.001j  0.808+0.j     0.776+0.j     0.774+0.j\n",
      " -0.645+0.002j -0.645-0.002j -0.681+0.j    -0.834+0.j    -0.786+0.j\n",
      " -0.741+0.003j -0.741-0.003j -0.783+0.j    -0.829+0.j    -0.765+0.j\n",
      " -0.778+0.j    -0.832+0.j    -0.75 +0.003j -0.75 -0.003j -0.773+0.j\n",
      " -0.769+0.j    -0.749+0.j    -0.759+0.003j -0.759-0.003j -0.624+0.004j\n",
      " -0.624-0.004j  0.689+0.j    -0.677+0.j     0.704+0.j     0.715+0.j\n",
      "  0.717+0.j     0.723+0.j    -0.814+0.j    -0.803+0.j     0.79 +0.j\n",
      "  0.814+0.j    -0.583+0.005j -0.583-0.005j  0.655+0.j     0.696+0.j\n",
      "  0.707+0.j    -0.685+0.j    -0.696+0.j    -0.7  +0.j    -0.722+0.j\n",
      "  0.754+0.003j  0.754-0.003j  0.78 +0.j    -0.779+0.j    -0.789+0.j\n",
      "  0.677+0.j     0.685+0.j     0.724+0.j     0.661+0.j     0.729+0.j\n",
      "  0.668+0.001j  0.668-0.001j -0.767+0.j    -0.689+0.j    -0.734+0.j\n",
      " -0.704+0.j    -0.707+0.j    -0.715+0.j    -0.718+0.j     0.732+0.j\n",
      " -0.732+0.j    -0.711+0.j     0.513+0.002j  0.513-0.002j  0.622+0.j\n",
      " -0.656+0.j    -0.661+0.j     0.674+0.j     0.711+0.j    -0.524+0.j\n",
      " -0.53 +0.j    -0.56 +0.j    -0.573+0.004j -0.573-0.004j -0.607+0.002j\n",
      " -0.607-0.002j  0.523+0.j     0.551+0.j     0.568+0.j     0.574+0.j\n",
      "  0.6  +0.002j  0.6  -0.002j  0.618+0.j    -0.675+0.j     0.648+0.j\n",
      "  0.648-0.j     0.692+0.j     0.416+0.003j  0.416-0.003j -0.431+0.001j\n",
      " -0.431-0.001j -0.502+0.j     0.555+0.j    -0.692+0.j    -0.65 +0.j\n",
      " -0.616+0.003j -0.616-0.003j  0.634+0.j     0.614+0.j    -0.657+0.j\n",
      "  0.627+0.j    -0.398+0.001j -0.398-0.001j  0.406+0.j     0.447+0.j\n",
      "  0.658+0.j    -0.635+0.002j -0.635-0.002j  0.574+0.j     0.591+0.003j\n",
      "  0.591-0.003j  0.582+0.003j  0.582-0.003j -0.566+0.j    -0.551+0.j\n",
      " -0.554+0.j    -0.595+0.004j -0.595-0.004j -0.591+0.j    -0.604+0.j\n",
      "  0.61 +0.j     0.63 +0.j     0.607+0.j     0.461+0.j     0.559+0.j\n",
      "  0.475+0.j     0.503+0.j    -0.633+0.j     0.479+0.j     0.528+0.j\n",
      "  0.546+0.j     0.484+0.j     0.488+0.j     0.497+0.j     0.534+0.j\n",
      "  0.542+0.j    -0.405+0.j    -0.41 +0.j    -0.423+0.j    -0.546+0.j\n",
      " -0.492+0.006j -0.492-0.006j -0.462+0.j    -0.481+0.007j -0.481-0.007j\n",
      " -0.51 +0.j    -0.538+0.j     0.537+0.j    -0.471+0.005j -0.471-0.005j\n",
      " -0.518+0.001j -0.518-0.001j -0.542+0.j     0.411+0.j     0.451+0.j\n",
      " -0.418+0.j    -0.504+0.j    -0.463+0.j     0.505+0.j     0.564+0.j\n",
      "  0.522+0.j    -0.564+0.j    -0.532+0.j    -0.503+0.j     0.457+0.j\n",
      "  0.433+0.j    -0.452+0.j     0.47 +0.j     0.466+0.j     0.443+0.j\n",
      " -0.447+0.j    -0.442+0.j    -0.456+0.j     0.437+0.j    -0.439+0.j\n",
      "  0.429+0.j     0.493+0.j    -0.415+0.j     0.401+0.008j  0.401-0.008j\n",
      "  0.39 +0.011j  0.39 -0.011j -0.39 +0.j     0.377+0.j    -0.387+0.j\n",
      "  0.377+0.013j  0.377-0.013j -0.378+0.005j -0.378-0.005j  0.365+0.014j\n",
      "  0.365-0.014j -0.376+0.j    -0.366+0.01j  -0.366-0.01j   0.353+0.015j\n",
      "  0.353-0.015j -0.353+0.011j -0.353-0.011j -0.313+0.01j  -0.313-0.01j\n",
      " -0.34 +0.011j -0.34 -0.011j -0.326+0.011j -0.326-0.011j -0.348+0.j\n",
      "  0.34 +0.015j  0.34 -0.015j -0.329+0.j     0.349+0.j     0.33 +0.j\n",
      "  0.316+0.016j  0.316-0.016j  0.328+0.016j  0.328-0.016j  0.295+0.j\n",
      "  0.303+0.016j  0.303-0.016j  0.291+0.016j  0.291-0.016j -0.299+0.009j\n",
      " -0.299-0.009j  0.278+0.016j  0.278-0.016j  0.265+0.016j  0.265-0.016j\n",
      "  0.253+0.015j  0.253-0.015j -0.295+0.j     0.2  +0.008j  0.2  -0.008j\n",
      "  0.214+0.01j   0.214-0.01j   0.241+0.014j  0.241-0.014j -0.285+0.009j\n",
      " -0.285-0.009j  0.24 +0.j     0.126+0.006j  0.126-0.006j -0.26 +0.01j\n",
      " -0.26 -0.01j   0.083+0.j    -0.248+0.009j -0.248-0.009j -0.209+0.j\n",
      " -0.234+0.007j -0.234-0.007j  0.078+0.j    -0.191+0.j    -0.241+0.j\n",
      " -0.171+0.j    -0.152+0.j    -0.144+0.005j -0.144-0.005j  0.057+0.j\n",
      "  0.052+0.j    -0.186+0.j    -0.077+0.j    -0.084+0.j     0.021+0.j\n",
      "  0.005+0.j    -0.182+0.j     0.016+0.j    -0.005+0.j    -0.099+0.j\n",
      " -0.021+0.j    -0.016+0.j    -0.046+0.j    -0.057+0.j    -0.01 +0.j\n",
      "  0.01 +0.j    -0.053+0.j    -0.272+0.009j -0.272-0.009j -0.225+0.j\n",
      " -0.176+0.j    -0.132+0.005j -0.132-0.005j -0.121+0.003j -0.121-0.003j\n",
      "  0.228+0.012j  0.228-0.012j -0.105+0.j     0.102+0.j     0.073+0.j\n",
      "  0.047+0.j     0.187+0.005j  0.187-0.005j  0.137+0.007j  0.137-0.007j\n",
      "  0.149+0.006j  0.149-0.006j  0.179+0.003j  0.179-0.003j  0.166+0.003j\n",
      "  0.166-0.003j  0.042+0.j    -0.108+0.j     0.115+0.j    -0.042+0.j\n",
      " -0.026+0.j     0.026+0.j    -0.22 +0.005j -0.22 -0.005j  0.424+0.j\n",
      " -0.307+0.j     0.278+0.j     0.223+0.j    -0.278+0.j    -0.208+0.j\n",
      " -0.197+0.j    -0.161+0.j     0.202+0.j    -0.202+0.j     0.112+0.j\n",
      "  0.1  +0.j    -0.114+0.j    -0.073+0.j     0.088+0.j    -0.156+0.j\n",
      "  0.156+0.j     0.115+0.j    -0.088+0.j     0.036+0.j    -0.036+0.j\n",
      " -0.062+0.j     0.068+0.j     0.094+0.j     0.062+0.j    -0.068+0.j\n",
      " -0.094+0.j     0.031+0.j    -0.031+0.j    -0.166+0.j     0.166+0.j\n",
      "  0.   +0.j   ]\n",
      "\n",
      "Matrix of normalized eigenvectors:\n",
      "[[ 1.   +0.j     0.   +0.j     0.042+0.001j ...  0.258+0.j\n",
      "   0.35 +0.j    -0.302+0.j   ]\n",
      " [ 0.   +0.j     0.   +0.j    -0.149-0.002j ... -0.548+0.j\n",
      "  -0.531+0.j     0.548+0.j   ]\n",
      " [ 0.   +0.j     0.   +0.j     0.261+0.003j ...  0.165+0.j\n",
      "  -0.16 +0.j    -0.   +0.j   ]\n",
      " ...\n",
      " [ 0.   +0.j     0.   +0.j    -0.   -0.j    ...  0.   +0.j\n",
      "  -0.   +0.j    -0.   +0.j   ]\n",
      " [ 0.   +0.j     0.   +0.j     0.   +0.j    ...  0.   +0.j\n",
      "  -0.   +0.j     0.   +0.j   ]\n",
      " [ 0.   +0.j     1.   +0.j    -0.   -0.j    ... -0.   +0.j\n",
      "   0.   +0.j    -0.   +0.j   ]]\n"
     ]
    }
   ],
   "source": [
    "np.set_printoptions(suppress= True,precision=3)\n",
    "eigenvalue, eigenvector = np.linalg.eig(trans_matrix.T)\n",
    "print(f'Eigenvalues:\\n{eigenvalue}\\n\\nMatrix of normalized eigenvectors:\\n{eigenvector}')"
   ]
  },
  {
   "cell_type": "markdown",
   "metadata": {
    "id": "jrx8AyrWrfxR"
   },
   "source": [
    "### Spectral Decomposition (Eigenvalue - Eigenvector Decomposition of a Matrix)"
   ]
  },
  {
   "cell_type": "code",
   "execution_count": 8,
   "metadata": {
    "colab": {
     "base_uri": "https://localhost:8080/"
    },
    "id": "4tIszfLgrsfz",
    "outputId": "afac156c-4f88-40ed-ca92-7a98567a9440"
   },
   "outputs": [
    {
     "name": "stdout",
     "output_type": "stream",
     "text": [
      "S (eigenvector) Matrix:\n",
      "[[ 1.   +0.j     0.   +0.j     0.042+0.001j ...  0.258+0.j\n",
      "   0.35 +0.j    -0.302+0.j   ]\n",
      " [ 0.   +0.j     0.   +0.j    -0.149-0.002j ... -0.548+0.j\n",
      "  -0.531+0.j     0.548+0.j   ]\n",
      " [ 0.   +0.j     0.   +0.j     0.261+0.003j ...  0.165+0.j\n",
      "  -0.16 +0.j    -0.   +0.j   ]\n",
      " ...\n",
      " [ 0.   +0.j     0.   +0.j    -0.   -0.j    ...  0.   +0.j\n",
      "  -0.   +0.j    -0.   +0.j   ]\n",
      " [ 0.   +0.j     0.   +0.j     0.   +0.j    ...  0.   +0.j\n",
      "  -0.   +0.j     0.   +0.j   ]\n",
      " [ 0.   +0.j     1.   +0.j    -0.   -0.j    ... -0.   +0.j\n",
      "   0.   +0.j    -0.   +0.j   ]]\n",
      "Diagonal Matrix (Λ):\n",
      "[[ 1.   +0.j     0.   +0.j     0.   +0.j    ...  0.   +0.j\n",
      "   0.   +0.j     0.   +0.j   ]\n",
      " [ 0.   +0.j     1.   +0.j     0.   +0.j    ...  0.   +0.j\n",
      "   0.   +0.j     0.   +0.j   ]\n",
      " [ 0.   +0.j     0.   +0.j    -0.966+0.002j ...  0.   +0.j\n",
      "   0.   +0.j     0.   +0.j   ]\n",
      " ...\n",
      " [ 0.   +0.j     0.   +0.j     0.   +0.j    ... -0.166+0.j\n",
      "   0.   +0.j     0.   +0.j   ]\n",
      " [ 0.   +0.j     0.   +0.j     0.   +0.j    ...  0.   +0.j\n",
      "   0.166+0.j     0.   +0.j   ]\n",
      " [ 0.   +0.j     0.   +0.j     0.   +0.j    ...  0.   +0.j\n",
      "   0.   +0.j     0.   +0.j   ]]\n",
      "Inverse eigenvector Matrix (S-¹):\n",
      "[[ 1.000e+00+0.000e+00j  1.000e+00-3.815e-06j  1.000e+00-5.469e-06j ...\n",
      "   1.005e+08+5.384e+08j  5.442e+09+9.673e+08j  0.000e+00+0.000e+00j]\n",
      " [ 0.000e+00-0.000e+00j  1.642e-16+1.118e-16j  1.914e-16-8.551e-17j ...\n",
      "   6.477e-02+3.555e-02j  2.204e-01+4.964e-02j  1.000e+00-0.000e+00j]\n",
      " [-0.000e+00+0.000e+00j  4.467e+06-2.236e+06j  3.824e+06-8.944e+06j ...\n",
      "   1.567e+20+1.628e+21j -1.545e+21+3.657e+21j -0.000e+00+0.000e+00j]\n",
      " ...\n",
      " [ 0.000e+00+0.000e+00j -7.301e+01-1.484e+01j -6.368e+01+4.729e+01j ...\n",
      "  -1.414e+16-3.666e+16j  3.005e+16-1.357e+16j  0.000e+00+0.000e+00j]\n",
      " [-0.000e+00+0.000e+00j -1.418e+01+7.197e+00j -1.035e+02+8.943e+01j ...\n",
      "  -1.127e+16-1.607e+16j -2.529e+16+5.424e+15j -0.000e+00+0.000e+00j]\n",
      " [-0.000e+00+0.000e+00j -2.778e+01+3.636e+01j -8.360e+01+1.893e+01j ...\n",
      "  -1.296e+16+5.098e+14j -6.197e+16+3.092e+15j -0.000e+00+0.000e+00j]]\n",
      "Factorized/Decomposed (SΛS-¹):\n",
      "[[ 1.000e+00+0.000e+00j  5.500e-01-3.058e-07j  7.527e-10+8.756e-08j ...\n",
      "  -5.563e+07-6.148e+07j  2.501e+08+1.110e+08j  0.000e+00+0.000e+00j]\n",
      " [ 0.000e+00+0.000e+00j -2.434e-07-9.295e-07j  5.500e-01-1.247e-06j ...\n",
      "   1.085e+08+3.356e+07j -1.231e+08-6.104e+07j  0.000e+00+0.000e+00j]\n",
      " [ 0.000e+00+0.000e+00j  4.500e-01-1.583e-06j  8.451e-07+2.600e-06j ...\n",
      "  -1.357e+08-2.565e+08j  1.083e+09-2.343e+08j  0.000e+00+0.000e+00j]\n",
      " ...\n",
      " [ 0.000e+00+0.000e+00j  2.548e-16+1.841e-16j  1.879e-16-5.724e-16j ...\n",
      "  -9.507e-02+1.851e-01j  2.308e-02+9.305e-02j  0.000e+00+0.000e+00j]\n",
      " [ 0.000e+00+0.000e+00j -3.476e-16+1.207e-16j -4.723e-16+5.257e-16j ...\n",
      "  -3.946e-02-1.229e-01j  3.725e-02-1.283e-01j  0.000e+00+0.000e+00j]\n",
      " [ 0.000e+00+0.000e+00j  1.810e-16+5.796e-17j  2.662e-16-1.623e-16j ...\n",
      "   3.240e-02+6.034e-02j  2.221e-01+4.838e-02j  1.000e+00+0.000e+00j]]\n"
     ]
    }
   ],
   "source": [
    "np.set_printoptions(suppress= True,precision=3)\n",
    "diagonalmatrix = np.diag(eigenvalue)\n",
    "inverse_eigenvector_matrix = np.linalg.inv(eigenvector)\n",
    "decomposed_sas = np.matmul(np.matmul(eigenvector,diagonalmatrix),np.linalg.inv(eigenvector))\n",
    "print(f'S (eigenvector) Matrix:\\n{eigenvector}\\nDiagonal Matrix (Λ):\\n{diagonalmatrix}\\nInverse eigenvector Matrix (S-¹):\\n{inverse_eigenvector_matrix}\\nFactorized/Decomposed (SΛS-¹):\\n{decomposed_sas}')"
   ]
  },
  {
   "cell_type": "markdown",
   "metadata": {
    "id": "Hr7Gg2cpfOkP"
   },
   "source": [
    "# Simulating the Drunkard's Walk\n"
   ]
  },
  {
   "cell_type": "code",
   "execution_count": 13,
   "metadata": {
    "colab": {
     "base_uri": "https://localhost:8080/",
     "height": 267
    },
    "id": "-FuOtyRefYst",
    "outputId": "3141198e-9829-41ce-c5eb-dd0ed9732733"
   },
   "outputs": [
    {
     "name": "stdout",
     "output_type": "stream",
     "text": [
      "Starting Position 244\n",
      "\n"
     ]
    },
    {
     "data": {
      "image/png": "[encoded data removed]",
      "text/plain": [
       "<Figure size 432x288 with 1 Axes>"
      ]
     },
     "metadata": {
      "needs_background": "light"
     },
     "output_type": "display_data"
    },
    {
     "name": "stdout",
     "output_type": "stream",
     "text": [
      "Drunkard arrives at Bar 2478 steps.\n"
     ]
    }
   ],
   "source": [
    "table=[]\n",
    "while True:\n",
    "    pos_initial = int(input('Starting Position '))\n",
    "    print()\n",
    "    if (pos_initial>=Y or pos_initial<=0):\n",
    "        print('Invalid Input Value')\n",
    "    else:\n",
    "        actual_value=pos_initial\n",
    "        table.append(actual_value)\n",
    "        break\n",
    "end = 0\n",
    "while True:\n",
    "    end +=1\n",
    "    random_val = random.random()\n",
    "    if (random_val > X):\n",
    "        actual_value-=1\n",
    "        table.append(actual_value)\n",
    "    else:\n",
    "        actual_value+=1\n",
    "        table.append(actual_value)\n",
    "\n",
    "    if (actual_value == Y or actual_value == bar):\n",
    "        break\n",
    "\n",
    "\n",
    "plt.title(\"The Drunkard's Walk\",fontsize = 10, c='b')\n",
    "plt.plot(table,c='r', lw=0.2, ls=' ',marker='.')\n",
    "plt.axis([0,end,bar,Y])\n",
    "plt.xlabel(\"Steps\",fontsize = 10)\n",
    "plt.ylabel(\"Position (x)\",fontsize = 10)\n",
    "plt.show()\n",
    "steps = 0\n",
    "for i in table:\n",
    "    steps += 1\n",
    "if table[-1] == bar:\n",
    "    print(f'Drunkard arrives at Bar {steps-1} steps.') \n",
    "else:\n",
    "    print(f'Drunkard arrives Home {steps-1} steps.') "
   ]
  },
  {
   "cell_type": "code",
   "execution_count": null,
   "metadata": {},
   "outputs": [],
   "source": []
  }
 ],
 "metadata": {
  "colab": {
   "collapsed_sections": [],
   "name": "Drunkard_walk_ALC.ipynb",
   "provenance": []
  },
  "kernelspec": {
   "display_name": "Python 3 (ipykernel)",
   "language": "python",
   "name": "python3"
  },
  "language_info": {
   "codemirror_mode": {
    "name": "ipython",
    "version": 3
   },
   "file_extension": ".py",
   "mimetype": "text/x-python",
   "name": "python",
   "nbconvert_exporter": "python",
   "pygments_lexer": "ipython3",
   "version": "3.9.9"
  }
 },
 "nbformat": 4,
 "nbformat_minor": 1
}
