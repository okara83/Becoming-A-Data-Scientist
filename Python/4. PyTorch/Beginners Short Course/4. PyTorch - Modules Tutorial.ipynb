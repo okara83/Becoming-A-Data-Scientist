{
 "cells": [
  {
   "cell_type": "markdown",
   "metadata": {},
   "source": [
    "# PyTorch Modules"
   ]
  },
  {
   "cell_type": "markdown",
   "metadata": {},
   "source": [
    "### What is this notebook about?\n",
    "\n",
    "In this notebook, we will learning about PyTorch modules and the great functionalities they provide. Later on, we'll create a small a multilayer perceptron to perform image classification on MNIST."
   ]
  },
  {
   "cell_type": "markdown",
   "metadata": {},
   "source": [
    "___"
   ]
  },
  {
   "cell_type": "code",
   "execution_count": 1,
   "metadata": {},
   "outputs": [
    {
     "name": "stdout",
     "output_type": "stream",
     "text": [
      "Torch version: 1.8.1\n"
     ]
    }
   ],
   "source": [
    "import torch\n",
    "import torch.nn as nn\n",
    "\n",
    "print(\"Torch version:\", torch.__version__)"
   ]
  },
  {
   "cell_type": "code",
   "execution_count": 2,
   "metadata": {},
   "outputs": [],
   "source": [
    "import matplotlib.pyplot as plt"
   ]
  },
  {
   "cell_type": "markdown",
   "metadata": {},
   "source": [
    "In PyTorch, there are many predefined layer like Convolutions, RNN, Pooling, Linear, etc.\n",
    "\n",
    "These functions are wrapped in **modules** and inherit from the **torch.nn.Module** base class.\n",
    "\n",
    "When designing a custom model in PyTorch, you should follow this strategy and derive your class from **torch.nn.Module**."
   ]
  },
  {
   "cell_type": "markdown",
   "metadata": {},
   "source": [
    "## Modules"
   ]
  },
  {
   "cell_type": "code",
   "execution_count": 3,
   "metadata": {},
   "outputs": [
    {
     "name": "stdout",
     "output_type": "stream",
     "text": [
      "Base class for all neural network modules.\n",
      "\n",
      "    Your models should also subclass this class.\n",
      "\n",
      "    Modules can also contain other Modules, allowing to nest them in\n",
      "    a tree structure. You can assign the submodules as regular attributes::\n",
      "\n",
      "        import torch.nn as nn\n",
      "        import torch.nn.functional as F\n",
      "\n",
      "        class Model(nn.Module):\n",
      "            def __init__(self):\n",
      "                super(Model, self).__init__()\n",
      "                self.conv1 = nn.Conv2d(1, 20, 5)\n",
      "                self.conv2 = nn.Conv2d(20, 20, 5)\n",
      "\n",
      "            def forward(self, x):\n",
      "                x = F.relu(self.conv1(x))\n",
      "                return F.relu(self.conv2(x))\n",
      "\n",
      "    Submodules assigned in this way will be registered, and will have their\n",
      "    parameters converted too when you call :meth:`to`, etc.\n",
      "\n",
      "    :ivar training: Boolean represents whether this module is in training or\n",
      "                    evaluation mode.\n",
      "    :vartype training: bool\n",
      "    \n"
     ]
    }
   ],
   "source": [
    "print(torch.nn.Module.__doc__)"
   ]
  },
  {
   "cell_type": "markdown",
   "metadata": {},
   "source": [
    "### Modules are doing a lot of \"magic\" under the hood.\n",
    "\n",
    "- It registers all the parameters of your model.\n",
    "- It simplifies the saving/loading of your model.\n",
    "- It provides helper functions to reset/freeze/update the gradients.\n",
    "- It provides helper functions to put all parameters on a device (GPU)."
   ]
  },
  {
   "cell_type": "markdown",
   "metadata": {},
   "source": [
    "### What is a torch.nn.Parameter?"
   ]
  },
  {
   "cell_type": "markdown",
   "metadata": {},
   "source": [
    "A Parameter is a Tensor with `requires_grad` to `True` by default, and which is automatically added to the list of parameters when used within a model."
   ]
  },
  {
   "cell_type": "markdown",
   "metadata": {},
   "source": [
    "Let's have a look at the documentation ([torch.nn.Paramter](https://pytorch.org/docs/stable/_modules/torch/nn/parameter.html))"
   ]
  },
  {
   "cell_type": "code",
   "execution_count": 4,
   "metadata": {},
   "outputs": [
    {
     "name": "stdout",
     "output_type": "stream",
     "text": [
      "A kind of Tensor that is to be considered a module parameter.\n",
      "\n",
      "    Parameters are :class:`~torch.Tensor` subclasses, that have a\n",
      "    very special property when used with :class:`Module` s - when they're\n",
      "    assigned as Module attributes they are automatically added to the list of\n",
      "    its parameters, and will appear e.g. in :meth:`~Module.parameters` iterator.\n",
      "    Assigning a Tensor doesn't have such effect. This is because one might\n",
      "    want to cache some temporary state, like last hidden state of the RNN, in\n",
      "    the model. If there was no such class as :class:`Parameter`, these\n",
      "    temporaries would get registered too.\n",
      "\n",
      "    Args:\n",
      "        data (Tensor): parameter tensor.\n",
      "        requires_grad (bool, optional): if the parameter requires gradient. See\n",
      "            :ref:`excluding-subgraphs` for more details. Default: `True`\n",
      "    \n"
     ]
    }
   ],
   "source": [
    "print(torch.nn.Parameter.__doc__)"
   ]
  },
  {
   "cell_type": "code",
   "execution_count": 5,
   "metadata": {},
   "outputs": [
    {
     "name": "stdout",
     "output_type": "stream",
     "text": [
      "Parameter containing:\n",
      "tensor([[[ 0.1298,  0.0524, -0.1290],\n",
      "         [-0.0567,  0.1473, -0.0531],\n",
      "         [ 0.0073,  0.0719, -0.0574],\n",
      "         [ 0.0886, -0.1597, -0.1412],\n",
      "         [ 0.1473,  0.0241,  0.1327],\n",
      "         [ 0.1616,  0.1068, -0.0470],\n",
      "         [ 0.0583, -0.0447,  0.1725],\n",
      "         [-0.0637,  0.0226, -0.1506],\n",
      "         [-0.1346,  0.1367,  0.0353],\n",
      "         [ 0.1608,  0.0469,  0.0471]],\n",
      "\n",
      "        [[ 0.1786, -0.0198, -0.0396],\n",
      "         [-0.0411, -0.0913,  0.1395],\n",
      "         [ 0.0676,  0.0985, -0.1526],\n",
      "         [ 0.1145, -0.1714,  0.0719],\n",
      "         [-0.0277, -0.0695, -0.0858],\n",
      "         [ 0.0315,  0.0787, -0.0018],\n",
      "         [ 0.1740,  0.1260,  0.0424],\n",
      "         [ 0.0992, -0.1607,  0.0398],\n",
      "         [-0.1488,  0.1038, -0.1538],\n",
      "         [-0.1808, -0.0983,  0.1499]]], requires_grad=True)\n"
     ]
    }
   ],
   "source": [
    "mod = nn.Conv1d(10, 2, 3)\n",
    "print(mod.weight)"
   ]
  },
  {
   "cell_type": "markdown",
   "metadata": {},
   "source": [
    "___"
   ]
  },
  {
   "cell_type": "markdown",
   "metadata": {},
   "source": [
    "## Very simple example of a module"
   ]
  },
  {
   "cell_type": "markdown",
   "metadata": {},
   "source": [
    "A module has to implement two functions:\n",
    "\n",
    "- the `__init__` function, where you define all the layers that have learnable parameters. In the `__init__` function, you are just specifying each layer and not how it is connected to others, so it does not need to be in order of execution. Since your model's submodules and parameters are instantiated in the `__init__` function, PyTorch knows that they exist and registers them.  \n",
    "Also, don't forget to always call the `super()` method.  \n",
    "\n",
    "\n",
    "- the `forward` function, which is the method that defines what has to be executed during the forward pass and especially how the layers are connected. This is where you call the layers that you defined inside the `__init__` function.\n"
   ]
  },
  {
   "cell_type": "code",
   "execution_count": 6,
   "metadata": {},
   "outputs": [],
   "source": [
    "# A simple module\n",
    "class MySuperSimpleModule(nn.Module):\n",
    "    def __init__(self, input_size, num_classes):\n",
    "        super(MySuperSimpleModule, self).__init__()  # Mandatory call to super\n",
    "        self.linear = nn.Linear(input_size, num_classes)  # Define one Linear layer\n",
    "    \n",
    "    def forward(self, x):\n",
    "        out = self.linear(x)\n",
    "        return out"
   ]
  },
  {
   "cell_type": "markdown",
   "metadata": {},
   "source": [
    "You can use the print function to list a model's submodules and parameters defined inside `init`:"
   ]
  },
  {
   "cell_type": "code",
   "execution_count": 7,
   "metadata": {},
   "outputs": [
    {
     "name": "stdout",
     "output_type": "stream",
     "text": [
      "MySuperSimpleModule(\n",
      "  (linear): Linear(in_features=20, out_features=5, bias=True)\n",
      ")\n"
     ]
    }
   ],
   "source": [
    "model = MySuperSimpleModule(input_size=20, num_classes=5)\n",
    "print(model)"
   ]
  },
  {
   "cell_type": "markdown",
   "metadata": {},
   "source": [
    "You can use **`model.parameters()`** to get the list of parameters of your model automatically inferred by PyTorch."
   ]
  },
  {
   "cell_type": "code",
   "execution_count": 8,
   "metadata": {},
   "outputs": [
    {
     "name": "stdout",
     "output_type": "stream",
     "text": [
      "linear.weight :\n",
      " Parameter containing:\n",
      "tensor([[-0.2092, -0.2158, -0.1571,  0.1210,  0.1703,  0.1786,  0.0464,  0.0610,\n",
      "         -0.0591, -0.1066,  0.1458, -0.2059,  0.0137, -0.0449,  0.0502,  0.1368,\n",
      "          0.0740, -0.1378, -0.1900, -0.0716],\n",
      "        [ 0.0298, -0.0670,  0.0363, -0.2158, -0.1778,  0.0976, -0.1958, -0.0949,\n",
      "          0.1569, -0.1026,  0.1140,  0.1114, -0.0965, -0.0304,  0.0407, -0.0853,\n",
      "         -0.1585,  0.2209, -0.0397,  0.0873],\n",
      "        [-0.1736,  0.0010,  0.0280, -0.0973, -0.0643,  0.2153, -0.0264, -0.0434,\n",
      "          0.1823,  0.0655, -0.1103,  0.0834,  0.0029,  0.0931, -0.0588,  0.1137,\n",
      "          0.1608, -0.0088, -0.1908,  0.2144],\n",
      "        [-0.0294, -0.2181,  0.0694,  0.1346,  0.1748, -0.0276,  0.1998,  0.0325,\n",
      "          0.0867, -0.0088, -0.0170,  0.0427,  0.0257, -0.0500, -0.0204, -0.2004,\n",
      "          0.1869,  0.0137, -0.1999,  0.1990],\n",
      "        [-0.2204,  0.0302, -0.1912, -0.1565, -0.1815, -0.0027,  0.1276, -0.0529,\n",
      "         -0.2055, -0.0304, -0.0805, -0.1128,  0.2076, -0.2046,  0.1664,  0.0136,\n",
      "          0.2143, -0.1483, -0.0243, -0.1390]], requires_grad=True)\n",
      "linear.bias :\n",
      " Parameter containing:\n",
      "tensor([-0.1589,  0.1254,  0.1625,  0.0493, -0.2235], requires_grad=True)\n"
     ]
    }
   ],
   "source": [
    "for name, p in model.named_parameters():  # Here we use a sligtly different version of the parameters() function\n",
    "    print(name, \":\\n\", p)                 # which also returns the parameter name"
   ]
  },
  {
   "cell_type": "markdown",
   "metadata": {},
   "source": [
    "___"
   ]
  },
  {
   "cell_type": "markdown",
   "metadata": {},
   "source": [
    "# Deeper Dive:\n",
    "\n",
    "### Simple network for image classification"
   ]
  },
  {
   "cell_type": "markdown",
   "metadata": {},
   "source": [
    "### Let's create a more complex model."
   ]
  },
  {
   "cell_type": "markdown",
   "metadata": {},
   "source": [
    "Implement a simple multilayer perceptron with two hidden layers and the following structure:"
   ]
  },
  {
   "cell_type": "markdown",
   "metadata": {},
   "source": [
    "![](https://raw.githubusercontent.com/ledell/sldm4-h2o/master/mlp_network.png)"
   ]
  },
  {
   "cell_type": "markdown",
   "metadata": {},
   "source": [
    "- Input-size: *input_size*\n",
    "- 1st hidden layer: 75\n",
    "- 2nd hidden layer: 50\n",
    "- Output layer: *num_classes*\n",
    "\n",
    "Additionally, we use `ReLU`s as activation functions."
   ]
  },
  {
   "cell_type": "markdown",
   "metadata": {},
   "source": [
    "You will need some PyTorch NN modules - Find them in the [PyTorch doc](https://pytorch.org/docs/master/nn.html) (especially nn.Linear)!"
   ]
  },
  {
   "cell_type": "markdown",
   "metadata": {},
   "source": [
    "### Excercise:"
   ]
  },
  {
   "cell_type": "code",
   "execution_count": 9,
   "metadata": {},
   "outputs": [
    {
     "ename": "SyntaxError",
     "evalue": "invalid syntax (3832536501.py, line 13)",
     "output_type": "error",
     "traceback": [
      "\u001b[0;36m  File \u001b[0;32m\"/var/folders/sd/1vc_q83x5rn9jjrd0x47_cc00000gn/T/ipykernel_35238/3832536501.py\"\u001b[0;36m, line \u001b[0;32m13\u001b[0m\n\u001b[0;31m    self.linear_2 = # <YOUR CODE>\u001b[0m\n\u001b[0m                    ^\u001b[0m\n\u001b[0;31mSyntaxError\u001b[0m\u001b[0;31m:\u001b[0m invalid syntax\n"
     ]
    }
   ],
   "source": [
    "from torch.nn import Parameter\n",
    "import torch.nn.functional as F  # provides some helper functions like Relu's, Sigmoids, Tanh, etc.\n",
    "\n",
    "\n",
    "class MyMultilayerPerceptron(nn.Module):\n",
    "    def __init__(self, input_size, num_classes):\n",
    "        super(MyMultilayerPerceptron, self).__init__()\n",
    "        \n",
    "        self.input_size = input_size\n",
    "        self.num_classes = num_classes\n",
    "        \n",
    "        self.linear_1 = nn.Linear(input_size, 75)\n",
    "        self.linear_2 = # <YOUR CODE>\n",
    "        self.linear_3 = nn.Linear(50, num_classes)\n",
    "        \n",
    "    \n",
    "    def forward(self, x):\n",
    "        out = F.relu(self.linear_1(x))\n",
    "        out = # <YOUR CODE>\n",
    "        out = # <YOUR CODE>\n",
    "        return out"
   ]
  },
  {
   "cell_type": "markdown",
   "metadata": {},
   "source": [
    "### Print your network's parameters"
   ]
  },
  {
   "cell_type": "code",
   "execution_count": null,
   "metadata": {},
   "outputs": [],
   "source": [
    "model = MyMultilayerPerceptron(784, 10)\n",
    "print(model)"
   ]
  },
  {
   "cell_type": "markdown",
   "metadata": {},
   "source": [
    "### Feed an input to your network"
   ]
  },
  {
   "cell_type": "code",
   "execution_count": null,
   "metadata": {
    "scrolled": false
   },
   "outputs": [],
   "source": [
    "x = torch.rand(16, 784)  # the first dimension is reserved for the 'batch_size'\n",
    "out = model(x)  # equivalent to model.forward(x)\n",
    "out[0, :]"
   ]
  },
  {
   "cell_type": "markdown",
   "metadata": {},
   "source": [
    "___"
   ]
  },
  {
   "cell_type": "markdown",
   "metadata": {},
   "source": [
    "## Training a model"
   ]
  },
  {
   "cell_type": "markdown",
   "metadata": {},
   "source": [
    "Most of the functions to train a model follow a similar pattern in PyTorch.\n",
    "In most of the cases in consists of the following steps:\n",
    "- Loop over data (in batches)\n",
    "- Forward pass\n",
    "- Zero gradients!\n",
    "- Backward pass\n",
    "- Parameter update (Optimizer)"
   ]
  },
  {
   "cell_type": "code",
   "execution_count": 10,
   "metadata": {},
   "outputs": [],
   "source": [
    "def train(model, num_epochs, data_loader, device):\n",
    "    model = model.to(device)\n",
    "    \n",
    "    # Define the Loss function and Optimizer that you want to use\n",
    "    criterion = nn.CrossEntropyLoss()  \n",
    "    optimizer = torch.optim.Adam(model.parameters(), lr=1e-3)  # NOTE: model.parameters()\n",
    "    \n",
    "    # Outter training loop\n",
    "    for epoch in range(num_epochs):\n",
    "        # Inner training loop\n",
    "        cum_loss = 0\n",
    "        for (inputs, labels) in data_loader:\n",
    "            # Prepare inputs and labels for processing by the model (e.g. reshape, move to device, ...)\n",
    "            inputs = inputs.to(device)\n",
    "            labels = labels.to(device)\n",
    "            \n",
    "            # original shape is [batch_size, 28, 28] because it's an image of size 28x28\n",
    "            inputs = inputs.view(-1, 28*28)\n",
    "\n",
    "            # Do Forward -> Loss Computation -> Backward -> Optimization\n",
    "            optimizer.zero_grad()\n",
    "            outputs = model(inputs)\n",
    "            loss = criterion(outputs, labels)\n",
    "            loss.backward()\n",
    "            optimizer.step()\n",
    "            \n",
    "            cum_loss += loss.item()\n",
    "        print(\"Epoch %d, Loss=%.4f\" % (epoch+1, cum_loss/len(train_loader)))"
   ]
  },
  {
   "cell_type": "markdown",
   "metadata": {},
   "source": [
    "Note:\n",
    "- we can use the `.to` function on the model directly. Indeed, since PyTorch knows all the model parameters, it can put all the parameters on the correct device.\n",
    "- we use `model.parameters()` to get all the parameters of the model and we can instantiate an optimizer that will optimize these parameters `torch.optim.SGD(model.parameters())`.\n",
    "- to apply the forward function of the module, we write `model(input)`. In most cases, `model.forward(inputs)` would also work, but there is a slight difference : PyTorch allows you to register hook functions for a model that are automatically called when you do a forward pass on your model. Using `model(input)` will call these hooks and then call the forward function, while using `model.forward(inputs)` will just silently ignore them.\n",
    "\n",
    "Do you feel the power of Modules ?"
   ]
  },
  {
   "cell_type": "markdown",
   "metadata": {},
   "source": [
    "## Loss functions"
   ]
  },
  {
   "cell_type": "markdown",
   "metadata": {},
   "source": [
    "PyTorch comes with a lot of predefined loss functions :\n",
    "- L1Loss\n",
    "- MSELoss\n",
    "- CrossEntropyLoss\n",
    "- NLLLoss\n",
    "- PoissonNLLLoss\n",
    "- KLDivLoss\n",
    "- BCELoss\n",
    "- MarginRankingLoss\n",
    "- HingeEmbeddingLoss\n",
    "- MultiLabelMarginLoss\n",
    "- CosineEmbeddingLoss\n",
    "- TripletMarginLoss\n",
    "- ...\n",
    "\n",
    "Check out the [PyTorch Documentation](https://pytorch.org/docs/master/nn.html#loss-functions)."
   ]
  },
  {
   "cell_type": "markdown",
   "metadata": {},
   "source": [
    "___"
   ]
  },
  {
   "cell_type": "markdown",
   "metadata": {},
   "source": [
    "## Let's train our model on the MNIST digit classification task\n"
   ]
  },
  {
   "cell_type": "markdown",
   "metadata": {},
   "source": [
    "![MNIST](figures/mnist.jpeg)"
   ]
  },
  {
   "cell_type": "markdown",
   "metadata": {},
   "source": [
    "First, we have to load the training and test images. MNIST is a widely used dataset, therefore the torchvision package provides simple functionalities to load images from it."
   ]
  },
  {
   "cell_type": "code",
   "execution_count": null,
   "metadata": {},
   "outputs": [],
   "source": [
    "import torchvision.datasets as datasets\n",
    "import torchvision.transforms as transforms\n",
    "\n",
    "batch_size = 64\n",
    "\n",
    "# MNIST Dataset (Images and Labels)\n",
    "train_dataset = datasets.MNIST(root='./data', train=True, transform=transforms.ToTensor(), download=True)\n",
    "test_dataset = datasets.MNIST(root='./data', train=False, transform=transforms.ToTensor())\n",
    "\n",
    "# Dataset Loader (Input Batcher)\n",
    "train_loader = torch.utils.data.DataLoader(dataset=train_dataset, batch_size=batch_size, shuffle=True)\n",
    "test_loader = torch.utils.data.DataLoader(dataset=test_dataset, batch_size=batch_size, shuffle=False)"
   ]
  },
  {
   "cell_type": "markdown",
   "metadata": {},
   "source": [
    "In PyTorch, `Dataset` and `Dataloaders` are classes that can help to quickly define how to access and iterate over your data. This is specially interesting when your data is distributed over several files (for instance, if you have several images in some directory structure)."
   ]
  },
  {
   "cell_type": "markdown",
   "metadata": {},
   "source": [
    "### Call the actual training function"
   ]
  },
  {
   "cell_type": "code",
   "execution_count": null,
   "metadata": {},
   "outputs": [],
   "source": [
    "device = torch.device('cuda' if torch.cuda.is_available() else 'cpu')\n",
    "model = MyMultilayerPerceptron(input_size=784, num_classes=10)\n",
    "num_epochs = 5\n",
    "\n",
    "train(model, num_epochs, train_loader, device)"
   ]
  },
  {
   "cell_type": "markdown",
   "metadata": {},
   "source": [
    "### How can we now assess the model's performance?"
   ]
  },
  {
   "cell_type": "markdown",
   "metadata": {},
   "source": [
    "This function loops over another `data_loader` (usually containing test/validation data) and computes the model's accuracy on it."
   ]
  },
  {
   "cell_type": "code",
   "execution_count": null,
   "metadata": {},
   "outputs": [],
   "source": [
    "def accuracy(model, data_loader, device):\n",
    "    with torch.no_grad(): # during model evaluation, we don't need the autograd mechanism (speeds things up)\n",
    "        correct = 0\n",
    "        total = 0\n",
    "        for inputs, labels in data_loader:\n",
    "            inputs = inputs.to(device)     \n",
    "            inputs = inputs.view(-1, 28*28)\n",
    "            \n",
    "            outputs = model(inputs)\n",
    "            _, predicted = outputs.max(1)\n",
    "            \n",
    "            correct += (predicted.cpu() == labels).sum().item()\n",
    "            total += labels.size(0)\n",
    "            \n",
    "    acc = correct / total\n",
    "    return acc"
   ]
  },
  {
   "cell_type": "code",
   "execution_count": null,
   "metadata": {},
   "outputs": [],
   "source": [
    "accuracy(model, test_loader, device)  # look at: accuracy(model, train_loader, device)"
   ]
  },
  {
   "cell_type": "markdown",
   "metadata": {},
   "source": [
    "### We get an accuracy of ~97.9%, can we do better?"
   ]
  },
  {
   "cell_type": "markdown",
   "metadata": {},
   "source": [
    "____"
   ]
  },
  {
   "cell_type": "markdown",
   "metadata": {},
   "source": [
    "## How can we now store our trained model?"
   ]
  },
  {
   "cell_type": "code",
   "execution_count": null,
   "metadata": {},
   "outputs": [],
   "source": [
    "torch.save(model, \"my_model.pt\")"
   ]
  },
  {
   "cell_type": "code",
   "execution_count": null,
   "metadata": {},
   "outputs": [],
   "source": [
    "my_model_loaded = torch.load(\"my_model.pt\")"
   ]
  },
  {
   "cell_type": "code",
   "execution_count": null,
   "metadata": {},
   "outputs": [],
   "source": [
    "model.linear_3.bias, my_model_loaded.linear_3.bias"
   ]
  }
 ],
 "metadata": {
  "kernelspec": {
   "display_name": "Python 3 (ipykernel)",
   "language": "python",
   "name": "python3"
  },
  "language_info": {
   "codemirror_mode": {
    "name": "ipython",
    "version": 3
   },
   "file_extension": ".py",
   "mimetype": "text/x-python",
   "name": "python",
   "nbconvert_exporter": "python",
   "pygments_lexer": "ipython3",
   "version": "3.9.10"
  }
 },
 "nbformat": 4,
 "nbformat_minor": 2
}
