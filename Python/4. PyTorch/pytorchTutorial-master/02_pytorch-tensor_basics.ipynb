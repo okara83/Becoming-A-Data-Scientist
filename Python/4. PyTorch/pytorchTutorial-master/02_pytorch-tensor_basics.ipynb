{
 "cells": [
  {
   "cell_type": "code",
   "execution_count": 39,
   "id": "51873d11",
   "metadata": {},
   "outputs": [],
   "source": [
    "import torch\n",
    "import numpy as np"
   ]
  },
  {
   "cell_type": "markdown",
   "id": "0ea73996",
   "metadata": {},
   "source": [
    "* Everything in pytorch is based on Tensor operations.\n",
    "* Tensors are multidimensional arrays of scalars. vectors, matrices, aand tensors themselves."
   ]
  },
  {
   "cell_type": "code",
   "execution_count": 2,
   "id": "5076c037",
   "metadata": {},
   "outputs": [
    {
     "name": "stdout",
     "output_type": "stream",
     "text": [
      "tensor([7.0065e-45])\n",
      "tensor([0.0000e+00, 5.8413e-06, 6.7720e-36])\n",
      "tensor([[0.0000e+00, 0.0000e+00, 1.4013e-45],\n",
      "        [0.0000e+00, 1.4013e-45, 0.0000e+00]])\n",
      "tensor([[[ 0.0000e+00, -2.5244e-29, -3.0864e+03],\n",
      "         [-2.8629e-42,  9.8091e-45,  0.0000e+00]],\n",
      "\n",
      "        [[ 0.0000e+00,  0.0000e+00,  1.4013e-45],\n",
      "         [ 0.0000e+00,  0.0000e+00,  0.0000e+00]]])\n"
     ]
    }
   ],
   "source": [
    "# torch.empty(size): uninitiallized\n",
    "x = torch.empty(1) # scalar\n",
    "print(x)\n",
    "x = torch.empty(3) # vector, 1D\n",
    "print(x)\n",
    "x = torch.empty(2,3) # matrix, 2D\n",
    "print(x)\n",
    "x = torch.empty(2,2,3) # tensor, 3 dimensions\n",
    "#x = torch.empty(2,2,2,3) # tensor, 4 dimensions\n",
    "print(x)"
   ]
  },
  {
   "cell_type": "markdown",
   "id": "8b3b1481",
   "metadata": {},
   "source": [
    "# `torch.rand(size)`  selects random numbers on [0, 1] interval"
   ]
  },
  {
   "cell_type": "code",
   "execution_count": 46,
   "id": "7339b66e",
   "metadata": {},
   "outputs": [
    {
     "name": "stdout",
     "output_type": "stream",
     "text": [
      "tensor([[0.1214, 0.9225, 0.5356],\n",
      "        [0.0525, 0.4890, 0.6811],\n",
      "        [0.7607, 0.2002, 0.2133],\n",
      "        [0.1111, 0.5151, 0.8164],\n",
      "        [0.5809, 0.1996, 0.5084]])\n"
     ]
    }
   ],
   "source": [
    "x = torch.rand(5, 3)\n",
    "print(x)"
   ]
  },
  {
   "cell_type": "markdown",
   "id": "bd20c363",
   "metadata": {},
   "source": [
    "# Special/Convenient Built in Matrix Templates\n",
    "\n",
    "### torch.zeros(size), fill with 0\n",
    "### torch.ones(size), fill with 1\n",
    "### torch.eye(size), Identity Matrix of Dimension:    $$ \\text{size} \\cdot \\text{size   (dimension of Identity Matrix)}$$"
   ]
  },
  {
   "cell_type": "code",
   "execution_count": 11,
   "id": "5b9a8359",
   "metadata": {},
   "outputs": [
    {
     "name": "stdout",
     "output_type": "stream",
     "text": [
      "tensor([[0., 0., 0.],\n",
      "        [0., 0., 0.],\n",
      "        [0., 0., 0.],\n",
      "        [0., 0., 0.],\n",
      "        [0., 0., 0.]])\n"
     ]
    }
   ],
   "source": [
    "x = torch.zeros(5, 3)\n",
    "print(x)"
   ]
  },
  {
   "cell_type": "code",
   "execution_count": 12,
   "id": "0e86825b",
   "metadata": {},
   "outputs": [],
   "source": [
    "y = torch.ones(3,5)"
   ]
  },
  {
   "cell_type": "code",
   "execution_count": 13,
   "id": "5ba71611",
   "metadata": {},
   "outputs": [],
   "source": [
    "z = torch.eye(3)"
   ]
  },
  {
   "cell_type": "markdown",
   "id": "a079a6d1",
   "metadata": {},
   "source": [
    "## Check tensor size"
   ]
  },
  {
   "cell_type": "code",
   "execution_count": 20,
   "id": "73df6aa8",
   "metadata": {},
   "outputs": [
    {
     "name": "stdout",
     "output_type": "stream",
     "text": [
      "torch.Size([5, 3]) torch.Size([3, 5]) torch.Size([3, 3])\n"
     ]
    }
   ],
   "source": [
    "print(x.size(),y.size(),z.size())"
   ]
  },
  {
   "cell_type": "markdown",
   "id": "ba1715a2",
   "metadata": {},
   "source": [
    "## Check data type"
   ]
  },
  {
   "cell_type": "code",
   "execution_count": 21,
   "id": "c0ae870a",
   "metadata": {},
   "outputs": [
    {
     "data": {
      "text/plain": [
       "torch.float32"
      ]
     },
     "execution_count": 21,
     "metadata": {},
     "output_type": "execute_result"
    }
   ],
   "source": [
    "x.dtype"
   ]
  },
  {
   "cell_type": "code",
   "execution_count": 22,
   "id": "55216919",
   "metadata": {},
   "outputs": [
    {
     "name": "stdout",
     "output_type": "stream",
     "text": [
      "tensor([[0., 0., 0.],\n",
      "        [0., 0., 0.],\n",
      "        [0., 0., 0.],\n",
      "        [0., 0., 0.],\n",
      "        [0., 0., 0.]], dtype=torch.float16)\n"
     ]
    }
   ],
   "source": [
    "# specify types, float32 default\n",
    "x = torch.zeros(5, 3, dtype=torch.float16)\n",
    "print(x)"
   ]
  },
  {
   "cell_type": "code",
   "execution_count": 23,
   "id": "52280dbe",
   "metadata": {},
   "outputs": [
    {
     "name": "stdout",
     "output_type": "stream",
     "text": [
      "torch.float16\n"
     ]
    }
   ],
   "source": [
    "# check type\n",
    "print(x.dtype)"
   ]
  },
  {
   "cell_type": "code",
   "execution_count": 24,
   "id": "5d7cb1a6",
   "metadata": {},
   "outputs": [
    {
     "name": "stdout",
     "output_type": "stream",
     "text": [
      "torch.Size([2])\n"
     ]
    }
   ],
   "source": [
    "# construct from data\n",
    "x = torch.tensor([5.5, 3])\n",
    "print(x.size())"
   ]
  },
  {
   "cell_type": "code",
   "execution_count": 25,
   "id": "9b10d14f",
   "metadata": {},
   "outputs": [],
   "source": [
    "# requires_grad argument\n",
    "# This will tell pytorch that it will need to calculate the gradients for this tensor\n",
    "# later in your optimization steps\n",
    "# i.e. this is a variable in your model that you want to optimize\n",
    "x = torch.tensor([5.5, 3], requires_grad=True)\n",
    "\n",
    "# Operations\n",
    "y = torch.rand(2, 2)\n",
    "x = torch.rand(2, 2)"
   ]
  },
  {
   "cell_type": "code",
   "execution_count": 26,
   "id": "7f159284",
   "metadata": {},
   "outputs": [],
   "source": [
    "# elementwise addition\n",
    "z = x + y\n",
    "# torch.add(x,y)"
   ]
  },
  {
   "cell_type": "markdown",
   "id": "8d7d728c",
   "metadata": {},
   "source": [
    "In place addition, everything with a trailing underscore is an inplace operation\n",
    "\n",
    "i.e. it will modify the variable `y.add_(x)`"
   ]
  },
  {
   "cell_type": "markdown",
   "id": "1cbfcf1a",
   "metadata": {},
   "source": [
    "## Substraction"
   ]
  },
  {
   "cell_type": "code",
   "execution_count": 27,
   "id": "1ec574fc",
   "metadata": {},
   "outputs": [],
   "source": [
    "z = x - y\n",
    "z = torch.sub(x, y)"
   ]
  },
  {
   "cell_type": "markdown",
   "id": "a2c27811",
   "metadata": {},
   "source": [
    "## Multiplication"
   ]
  },
  {
   "cell_type": "code",
   "execution_count": 28,
   "id": "130ae067",
   "metadata": {},
   "outputs": [],
   "source": [
    "z = x * y\n",
    "z = torch.mul(x,y)"
   ]
  },
  {
   "cell_type": "markdown",
   "id": "6cbc8682",
   "metadata": {},
   "source": [
    "## Division"
   ]
  },
  {
   "cell_type": "code",
   "execution_count": 29,
   "id": "8e559f76",
   "metadata": {},
   "outputs": [],
   "source": [
    "z = x / y\n",
    "z = torch.div(x,y)"
   ]
  },
  {
   "cell_type": "markdown",
   "id": "ba639f42",
   "metadata": {},
   "source": [
    "# Slicing"
   ]
  },
  {
   "cell_type": "code",
   "execution_count": 30,
   "id": "335e88e8",
   "metadata": {},
   "outputs": [
    {
     "name": "stdout",
     "output_type": "stream",
     "text": [
      "tensor([[0.6080, 0.2258, 0.3429],\n",
      "        [0.3226, 0.0156, 0.3600],\n",
      "        [0.6174, 0.0527, 0.7392],\n",
      "        [0.0096, 0.3552, 0.8920],\n",
      "        [0.8735, 0.2024, 0.2316]])\n"
     ]
    }
   ],
   "source": [
    "x = torch.rand(5,3)\n",
    "print(x)"
   ]
  },
  {
   "cell_type": "code",
   "execution_count": 31,
   "id": "2b2181d8",
   "metadata": {},
   "outputs": [
    {
     "name": "stdout",
     "output_type": "stream",
     "text": [
      "tensor([0.6080, 0.3226, 0.6174, 0.0096, 0.8735])\n",
      "tensor([0.3226, 0.0156, 0.3600])\n",
      "tensor(0.0156)\n"
     ]
    }
   ],
   "source": [
    "print(x[:, 0]) # all rows, column 0\n",
    "print(x[1, :]) # row 1, all columns\n",
    "print(x[1,1]) # element at 1, 1"
   ]
  },
  {
   "cell_type": "markdown",
   "id": "ef430edd",
   "metadata": {},
   "source": [
    "## Get the actual value if only 1 element in your tensor"
   ]
  },
  {
   "cell_type": "code",
   "execution_count": 32,
   "id": "4680597e",
   "metadata": {},
   "outputs": [
    {
     "name": "stdout",
     "output_type": "stream",
     "text": [
      "0.015591979026794434\n"
     ]
    }
   ],
   "source": [
    "print(x[1,1].item())"
   ]
  },
  {
   "cell_type": "markdown",
   "id": "782ca508",
   "metadata": {},
   "source": [
    "# Reshape with `torch.view()`"
   ]
  },
  {
   "cell_type": "code",
   "execution_count": 34,
   "id": "bc5ee887",
   "metadata": {},
   "outputs": [
    {
     "name": "stdout",
     "output_type": "stream",
     "text": [
      "torch.Size([4, 4]) torch.Size([16]) torch.Size([2, 8])\n"
     ]
    }
   ],
   "source": [
    "x = torch.randn(4, 4)\n",
    "y = x.view(16)\n",
    "z = x.view(-1, 8)  # the size -1 is inferred from other dimensions\n",
    "# if -1 it pytorch will automatically determine the necessary size\n",
    "print(x.size(), y.size(), z.size())"
   ]
  },
  {
   "cell_type": "markdown",
   "id": "dcdf10ac",
   "metadata": {},
   "source": [
    "# Numpy\n",
    "## Converting a Torch Tensor to a NumPy array and vice versa is very easy\n"
   ]
  },
  {
   "cell_type": "code",
   "execution_count": 35,
   "id": "5073acc4",
   "metadata": {},
   "outputs": [
    {
     "name": "stdout",
     "output_type": "stream",
     "text": [
      "tensor([1., 1., 1., 1., 1.])\n"
     ]
    }
   ],
   "source": [
    "a = torch.ones(5)\n",
    "print(a)"
   ]
  },
  {
   "cell_type": "markdown",
   "id": "8a5bff33",
   "metadata": {},
   "source": [
    "## torch to numpy with `.numpy()`\n"
   ]
  },
  {
   "cell_type": "code",
   "execution_count": 36,
   "id": "4cb2b600",
   "metadata": {},
   "outputs": [
    {
     "name": "stdout",
     "output_type": "stream",
     "text": [
      "[1. 1. 1. 1. 1.]\n",
      "<class 'numpy.ndarray'>\n"
     ]
    }
   ],
   "source": [
    "b = a.numpy()\n",
    "print(b)\n",
    "print(type(b))"
   ]
  },
  {
   "cell_type": "markdown",
   "id": "4a28f56f",
   "metadata": {},
   "source": [
    "### NOTE: If the Tensor is on the CPU and not the GPU,both objects will share the same memory location, so changing one will also change the other"
   ]
  },
  {
   "cell_type": "code",
   "execution_count": 38,
   "id": "e64c49e6",
   "metadata": {},
   "outputs": [
    {
     "name": "stdout",
     "output_type": "stream",
     "text": [
      "tensor([2., 2., 2., 2., 2.])\n",
      "[2. 2. 2. 2. 2.]\n"
     ]
    }
   ],
   "source": [
    "a.add_(1)\n",
    "print(a)\n",
    "print(b)"
   ]
  },
  {
   "cell_type": "markdown",
   "id": "95160f3f",
   "metadata": {},
   "source": [
    "# numpy to torch with\n",
    "# `.from_numpy(x)`\n"
   ]
  },
  {
   "cell_type": "code",
   "execution_count": 40,
   "id": "04f310cf",
   "metadata": {},
   "outputs": [
    {
     "name": "stdout",
     "output_type": "stream",
     "text": [
      "[1. 1. 1. 1. 1.]\n",
      "tensor([1., 1., 1., 1., 1.], dtype=torch.float64)\n"
     ]
    }
   ],
   "source": [
    "a = np.ones(5)\n",
    "b = torch.from_numpy(a)\n",
    "print(a)\n",
    "print(b)"
   ]
  },
  {
   "cell_type": "markdown",
   "id": "8dd5b033",
   "metadata": {},
   "source": [
    "### BE CAREFUL when modifying below!"
   ]
  },
  {
   "cell_type": "code",
   "execution_count": 41,
   "id": "fbbc0d5f",
   "metadata": {},
   "outputs": [
    {
     "name": "stdout",
     "output_type": "stream",
     "text": [
      "[2. 2. 2. 2. 2.]\n",
      "tensor([2., 2., 2., 2., 2.], dtype=torch.float64)\n"
     ]
    }
   ],
   "source": [
    "a += 1\n",
    "print(a)\n",
    "print(b)"
   ]
  },
  {
   "cell_type": "markdown",
   "id": "e803fccf",
   "metadata": {},
   "source": [
    "## by default all tensors are created on the CPU, but you can also move them to the `GPU `(only if it's available )"
   ]
  },
  {
   "cell_type": "code",
   "execution_count": 42,
   "id": "b5027aa2",
   "metadata": {},
   "outputs": [],
   "source": [
    "if torch.cuda.is_available():\n",
    "    device = torch.device(\"cuda\")          # a CUDA device object\n",
    "    y = torch.ones_like(x, device=device)  # directly create a tensor on GPU\n",
    "    x = x.to(device)                       # or just use strings '.to(\"cuda\")'\n",
    "    z = x + y\n",
    "    # z = z.numpy() # not possible because numpy cannot handle GPU tenors\n",
    "    # move to CPU again\n",
    "    z.to(\"cpu\")       # '.to'  can also change dtype together!"
   ]
  },
  {
   "cell_type": "code",
   "execution_count": 43,
   "id": "337c92b7",
   "metadata": {},
   "outputs": [],
   "source": [
    "z = z.numpy()"
   ]
  },
  {
   "cell_type": "code",
   "execution_count": 44,
   "id": "151c364f",
   "metadata": {},
   "outputs": [
    {
     "data": {
      "text/plain": [
       "array([[ 0.2596848 ,  1.1230211 ,  0.54667455,  0.96422154,  0.18915969,\n",
       "         1.0448366 ,  0.50658983,  0.5532421 ],\n",
       "       [-0.9476617 ,  0.0901087 ,  0.41670004,  1.2089915 , -1.0845256 ,\n",
       "        -1.7596781 , -0.8572808 , -0.24197435]], dtype=float32)"
      ]
     },
     "execution_count": 44,
     "metadata": {},
     "output_type": "execute_result"
    }
   ],
   "source": [
    "z"
   ]
  },
  {
   "cell_type": "code",
   "execution_count": null,
   "id": "fe1c5874",
   "metadata": {},
   "outputs": [],
   "source": []
  }
 ],
 "metadata": {
  "kernelspec": {
   "display_name": "Python 3 (ipykernel)",
   "language": "python",
   "name": "python3"
  },
  "language_info": {
   "codemirror_mode": {
    "name": "ipython",
    "version": 3
   },
   "file_extension": ".py",
   "mimetype": "text/x-python",
   "name": "python",
   "nbconvert_exporter": "python",
   "pygments_lexer": "ipython3",
   "version": "3.9.13"
  }
 },
 "nbformat": 4,
 "nbformat_minor": 5
}
