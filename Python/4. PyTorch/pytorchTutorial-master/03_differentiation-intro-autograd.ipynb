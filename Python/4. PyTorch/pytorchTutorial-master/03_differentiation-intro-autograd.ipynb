{
 "cells": [
  {
   "cell_type": "code",
   "execution_count": 2,
   "id": "7ade0e1c",
   "metadata": {},
   "outputs": [],
   "source": [
    "import torch"
   ]
  },
  {
   "cell_type": "markdown",
   "id": "4cfa5c16",
   "metadata": {},
   "source": [
    "# The `autograd` package provides automatic differentiation for all operations on tensors\n",
    "\n",
    "### `requires_grad = True` -> tracks all operations on the tensor. "
   ]
  },
  {
   "cell_type": "code",
   "execution_count": 3,
   "id": "01670110",
   "metadata": {},
   "outputs": [],
   "source": [
    "x = torch.randn(3, requires_grad=True)\n",
    "y = x + 2"
   ]
  },
  {
   "cell_type": "markdown",
   "id": "351bedba",
   "metadata": {},
   "source": [
    "## NOTE: `y` was created as a result of an operation $\\therefore$ it has a `grad_fn` attribute\n",
    "\n",
    "## `grad_fn` -> references a Function that has created the Tensor\n"
   ]
  },
  {
   "cell_type": "code",
   "execution_count": 6,
   "id": "229084e3",
   "metadata": {},
   "outputs": [
    {
     "name": "stdout",
     "output_type": "stream",
     "text": [
      "tensor([-0.2455,  1.5564,  1.3749], requires_grad=True)\n",
      "tensor([1.7545, 3.5564, 3.3749], grad_fn=<AddBackward0>)\n",
      "<AddBackward0 object at 0x10d1cd0d0>\n"
     ]
    }
   ],
   "source": [
    "print(x) # created by the user -> grad_fn is None\n",
    "print(y)\n",
    "print(y.grad_fn)"
   ]
  },
  {
   "cell_type": "markdown",
   "id": "de0e07c6",
   "metadata": {},
   "source": [
    "### Operating some more on `y`"
   ]
  },
  {
   "cell_type": "code",
   "execution_count": 9,
   "id": "9fdcc1de",
   "metadata": {},
   "outputs": [
    {
     "name": "stdout",
     "output_type": "stream",
     "text": [
      "tensor([ 9.2344, 37.9442, 34.1698], grad_fn=<MulBackward0>)\n",
      "tensor(27.1161, grad_fn=<MeanBackward0>)\n"
     ]
    }
   ],
   "source": [
    "z = y * y * 3\n",
    "print(z)\n",
    "z = z.mean()\n",
    "print(z)"
   ]
  },
  {
   "cell_type": "markdown",
   "id": "3957909e",
   "metadata": {},
   "source": [
    "# Computing the gradients with `backpropagation`\n",
    "\n",
    "### When we finish our computation we can call ` .backward()` and have all the gradients computed automatically.\n",
    "\n",
    "* The gradient for this tensor will be accumulated into `.grad attribute`.\n",
    "* * It is the partial derivate of the function w.r.t. the tensor"
   ]
  },
  {
   "cell_type": "code",
   "execution_count": 10,
   "id": "18df6ac6",
   "metadata": {},
   "outputs": [
    {
     "name": "stdout",
     "output_type": "stream",
     "text": [
      "tensor([3.5089, 7.1128, 6.7498])\n"
     ]
    }
   ],
   "source": [
    "z.backward()\n",
    "print(x.grad) # dz/dx"
   ]
  },
  {
   "cell_type": "markdown",
   "id": "c6be4580",
   "metadata": {},
   "source": [
    "* Generally speaking, `torch.autograd` is an engine for computing `vector-Jacobian product`\n",
    "\n",
    "* It computes partial derivates while applying the chain rule"
   ]
  },
  {
   "cell_type": "markdown",
   "id": "46486036",
   "metadata": {},
   "source": [
    "# Model with non-scalar output:\n",
    "\n",
    " <u> If a Tensor is non-scalar</u>(more than 1 elements), we need to specify arguments for `backward() ` \n",
    " \n",
    " * specify a gradient argument that is a tensor of matching shape needed for vector-Jacobian product\n"
   ]
  },
  {
   "cell_type": "code",
   "execution_count": 11,
   "id": "ca3a4bae",
   "metadata": {},
   "outputs": [],
   "source": [
    "x = torch.randn(3, requires_grad=True)\n",
    "\n",
    "y = x * 2"
   ]
  },
  {
   "cell_type": "code",
   "execution_count": 12,
   "id": "ef197581",
   "metadata": {},
   "outputs": [
    {
     "name": "stdout",
     "output_type": "stream",
     "text": [
      "tensor([2530.4995, -730.6630,  812.3691], grad_fn=<MulBackward0>)\n",
      "torch.Size([3])\n"
     ]
    }
   ],
   "source": [
    "for _ in range(10):\n",
    "    y = y * 2\n",
    "\n",
    "\n",
    "print(y)\n",
    "print(y.shape)"
   ]
  },
  {
   "cell_type": "code",
   "execution_count": null,
   "id": "17a8d0f1",
   "metadata": {},
   "outputs": [],
   "source": [
    "v = torch.tensor([0.1, 1.0, 0.0001], dtype=torch.float32)\n",
    "y.backward(v)\n",
    "print(x.grad)"
   ]
  },
  {
   "cell_type": "markdown",
   "id": "d3708997",
   "metadata": {},
   "source": [
    "# Stop a tensor from tracking history:\n",
    "\n",
    " For example during our training loop when we want to update our weights then this update operation should not be part of the gradient computation\n",
    "*  x.requires_grad_(False)\n",
    "*  x.detach()\n",
    "\n",
    "wrap in `with torch.no_grad()`:\n",
    "\n",
    "# `.requires_grad_(...)` changes an existing flag in-place."
   ]
  },
  {
   "cell_type": "code",
   "execution_count": 13,
   "id": "7a107ead",
   "metadata": {},
   "outputs": [
    {
     "name": "stdout",
     "output_type": "stream",
     "text": [
      "False\n",
      "None\n",
      "True\n",
      "<SumBackward0 object at 0x10d1d3910>\n"
     ]
    }
   ],
   "source": [
    "a = torch.randn(2, 2)\n",
    "print(a.requires_grad)\n",
    "b = ((a * 3) / (a - 1))\n",
    "print(b.grad_fn)\n",
    "a.requires_grad_(True)\n",
    "print(a.requires_grad)\n",
    "b = (a * a).sum()\n",
    "print(b.grad_fn)"
   ]
  },
  {
   "cell_type": "code",
   "execution_count": 14,
   "id": "e6dd6e42",
   "metadata": {},
   "outputs": [
    {
     "name": "stdout",
     "output_type": "stream",
     "text": [
      "True\n",
      "False\n"
     ]
    }
   ],
   "source": [
    "# .detach(): get a new Tensor with the same content but no gradient computation:\n",
    "a = torch.randn(2, 2, requires_grad=True)\n",
    "print(a.requires_grad)\n",
    "b = a.detach()\n",
    "print(b.requires_grad)"
   ]
  },
  {
   "cell_type": "code",
   "execution_count": 15,
   "id": "370cdfd2",
   "metadata": {},
   "outputs": [
    {
     "name": "stdout",
     "output_type": "stream",
     "text": [
      "True\n",
      "False\n"
     ]
    }
   ],
   "source": [
    "# wrap in 'with torch.no_grad():'\n",
    "a = torch.randn(2, 2, requires_grad=True)\n",
    "print(a.requires_grad)\n",
    "with torch.no_grad():\n",
    "    print((x ** 2).requires_grad)"
   ]
  },
  {
   "cell_type": "markdown",
   "id": "c2c3f5df",
   "metadata": {},
   "source": [
    "# `backward()` accumulates the gradient for this tensor into .grad attribute.\n",
    "\n",
    "# NOTE: We need to be careful during optimization!\n",
    "\n",
    "* Use `.zero_()` to empty the gradients before a new optimization step!"
   ]
  },
  {
   "cell_type": "code",
   "execution_count": 16,
   "id": "49caf77d",
   "metadata": {},
   "outputs": [
    {
     "name": "stdout",
     "output_type": "stream",
     "text": [
      "tensor([3., 3., 3., 3.])\n",
      "tensor([3., 3., 3., 3.])\n",
      "tensor([3., 3., 3., 3.])\n",
      "tensor([0.1000, 0.1000, 0.1000, 0.1000], requires_grad=True)\n",
      "tensor(4.8000, grad_fn=<SumBackward0>)\n"
     ]
    }
   ],
   "source": [
    "weights = torch.ones(4, requires_grad=True)\n",
    "\n",
    "for epoch in range(3):\n",
    "    # just a dummy example\n",
    "    model_output = (weights*3).sum()\n",
    "    model_output.backward()\n",
    "    \n",
    "    print(weights.grad)\n",
    "\n",
    "    # optimize model, i.e. adjust weights...\n",
    "    with torch.no_grad():\n",
    "        weights -= 0.1 * weights.grad\n",
    "\n",
    "    # this is important! It affects the final weights & output\n",
    "    weights.grad.zero_()\n",
    "\n",
    "print(weights)\n",
    "print(model_output)"
   ]
  },
  {
   "cell_type": "markdown",
   "id": "1c262db6",
   "metadata": {},
   "source": [
    "## Optimizer has `zero_grad()` method"
   ]
  },
  {
   "cell_type": "code",
   "execution_count": null,
   "id": "de99ecb8",
   "metadata": {},
   "outputs": [],
   "source": [
    "# optimizer = torch.optim.SGD([weights], lr=0.1)"
   ]
  },
  {
   "cell_type": "markdown",
   "id": "3092a31a",
   "metadata": {},
   "source": [
    "# During training:"
   ]
  },
  {
   "cell_type": "code",
   "execution_count": 17,
   "id": "5da4d740",
   "metadata": {},
   "outputs": [],
   "source": [
    "# optimizer.step()\n",
    "# optimizer.zero_grad()"
   ]
  },
  {
   "cell_type": "code",
   "execution_count": null,
   "id": "6170850e",
   "metadata": {},
   "outputs": [],
   "source": []
  }
 ],
 "metadata": {
  "kernelspec": {
   "display_name": "Python 3 (ipykernel)",
   "language": "python",
   "name": "python3"
  },
  "language_info": {
   "codemirror_mode": {
    "name": "ipython",
    "version": 3
   },
   "file_extension": ".py",
   "mimetype": "text/x-python",
   "name": "python",
   "nbconvert_exporter": "python",
   "pygments_lexer": "ipython3",
   "version": "3.9.13"
  }
 },
 "nbformat": 4,
 "nbformat_minor": 5
}
