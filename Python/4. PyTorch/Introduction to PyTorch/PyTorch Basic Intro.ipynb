{
 "cells": [
  {
   "cell_type": "markdown",
   "metadata": {},
   "source": [
    "# PyTorch Intro"
   ]
  },
  {
   "cell_type": "markdown",
   "metadata": {},
   "source": [
    "## Tensors"
   ]
  },
  {
   "cell_type": "code",
   "execution_count": 1,
   "metadata": {
    "ExecuteTime": {
     "end_time": "2020-08-02T21:25:36.069100Z",
     "start_time": "2020-08-02T21:25:35.586844Z"
    }
   },
   "outputs": [],
   "source": [
    "import torch\n",
    "import numpy "
   ]
  },
  {
   "cell_type": "code",
   "execution_count": 2,
   "metadata": {
    "ExecuteTime": {
     "end_time": "2020-08-02T21:25:36.759306Z",
     "start_time": "2020-08-02T21:25:36.728711Z"
    }
   },
   "outputs": [
    {
     "data": {
      "text/plain": [
       "array([[0.1, 1.2],\n",
       "       [2.2, 3.1],\n",
       "       [4.9, 5.2]])"
      ]
     },
     "execution_count": 2,
     "metadata": {},
     "output_type": "execute_result"
    }
   ],
   "source": [
    "numpy.array([[0.1, 1.2], [2.2, 3.1], [4.9, 5.2]])"
   ]
  },
  {
   "cell_type": "code",
   "execution_count": 3,
   "metadata": {
    "ExecuteTime": {
     "end_time": "2020-08-02T21:25:37.977559Z",
     "start_time": "2020-08-02T21:25:37.950755Z"
    }
   },
   "outputs": [
    {
     "data": {
      "text/plain": [
       "tensor([[0.1000, 1.2000],\n",
       "        [2.2000, 3.1000],\n",
       "        [4.9000, 5.2000]])"
      ]
     },
     "execution_count": 3,
     "metadata": {},
     "output_type": "execute_result"
    }
   ],
   "source": [
    "torch.tensor([[0.1, 1.2], [2.2, 3.1], [4.9, 5.2]])"
   ]
  },
  {
   "cell_type": "code",
   "execution_count": 4,
   "metadata": {
    "ExecuteTime": {
     "end_time": "2020-08-02T21:25:38.536463Z",
     "start_time": "2020-08-02T21:25:38.526103Z"
    }
   },
   "outputs": [
    {
     "name": "stdout",
     "output_type": "stream",
     "text": [
      "tensor([[5.0840e-37, 1.4013e-45, 5.0962e-37],\n",
      "        [1.4013e-45, 0.0000e+00, 4.6566e-10],\n",
      "        [6.3479e+12, 3.6902e+19, 1.1571e-38]]) \n",
      " torch.Size([3, 3]) \n",
      "\n"
     ]
    }
   ],
   "source": [
    "w = torch.empty(3, 3)\n",
    "print(w,'\\n', w.shape, '\\n')"
   ]
  },
  {
   "cell_type": "code",
   "execution_count": 5,
   "metadata": {
    "ExecuteTime": {
     "end_time": "2020-08-02T21:25:39.196348Z",
     "start_time": "2020-08-02T21:25:39.191865Z"
    }
   },
   "outputs": [
    {
     "name": "stdout",
     "output_type": "stream",
     "text": [
      "tensor([[[ 3.2582e-04,  8.9048e-01,  2.7812e-01, -1.3834e+00,  1.5269e+00,\n",
      "          -1.8949e-01, -2.6646e+00],\n",
      "         [-1.1075e+00, -2.5119e+00, -1.9347e+00,  7.8902e-01,  1.7050e-01,\n",
      "           8.0616e-01, -4.8775e-01],\n",
      "         [ 1.7073e+00, -4.6947e-01, -3.0276e-01, -3.8050e-02, -8.3227e-01,\n",
      "          -8.5200e-01, -1.9580e+00]],\n",
      "\n",
      "        [[ 8.5239e-01,  5.1725e-01,  5.8629e-01,  1.9032e+00, -3.1129e-01,\n",
      "           2.2456e-01,  6.4807e-01],\n",
      "         [ 7.7014e-01,  1.7855e-01, -8.7985e-01,  1.8048e-01, -2.9490e-01,\n",
      "           1.0022e-01, -4.7015e-01],\n",
      "         [ 2.6078e-01, -1.4962e+00,  2.6233e-01, -1.3797e+00,  4.6124e-01,\n",
      "          -9.5407e-01, -8.4457e-01]],\n",
      "\n",
      "        [[ 1.9652e+00,  2.1839e-01, -1.1005e+00,  1.2854e-01,  4.9538e-01,\n",
      "           6.7895e-01, -8.3334e-01],\n",
      "         [-2.2411e-01, -9.2231e-01,  1.9939e+00, -1.3030e+00, -7.0058e-01,\n",
      "           8.7591e-01,  2.6500e-01],\n",
      "         [ 6.4533e-01, -2.7089e-01, -5.4857e-01, -4.0479e-01,  6.7704e-01,\n",
      "           7.8164e-01,  2.9270e-01]]]) \n",
      " torch.Size([3, 3, 7]) \n",
      "\n"
     ]
    }
   ],
   "source": [
    "x = torch.randn(3, 3, 7)\n",
    "print(x,'\\n', x.shape, '\\n')"
   ]
  },
  {
   "cell_type": "code",
   "execution_count": 6,
   "metadata": {
    "ExecuteTime": {
     "end_time": "2020-08-02T21:25:41.109967Z",
     "start_time": "2020-08-02T21:25:41.106951Z"
    }
   },
   "outputs": [
    {
     "name": "stdout",
     "output_type": "stream",
     "text": [
      "tensor([[0., 0., 0.],\n",
      "        [0., 0., 0.],\n",
      "        [0., 0., 0.]]) \n",
      " torch.Size([3, 3]) \n",
      "\n"
     ]
    }
   ],
   "source": [
    "y = torch.zeros(3, 3)\n",
    "print(y,'\\n', y.shape, '\\n')"
   ]
  },
  {
   "cell_type": "code",
   "execution_count": 7,
   "metadata": {
    "ExecuteTime": {
     "end_time": "2020-08-02T21:25:41.709270Z",
     "start_time": "2020-08-02T21:25:41.699007Z"
    }
   },
   "outputs": [
    {
     "name": "stdout",
     "output_type": "stream",
     "text": [
      "tensor([[1., 1., 1.],\n",
      "        [1., 1., 1.],\n",
      "        [1., 1., 1.]]) \n",
      " torch.Size([3, 3]) \n",
      "\n"
     ]
    }
   ],
   "source": [
    "z = torch.ones(3, 3)\n",
    "print(z,'\\n', z.shape, '\\n')"
   ]
  },
  {
   "cell_type": "markdown",
   "metadata": {},
   "source": [
    "## Shape and View\n"
   ]
  },
  {
   "cell_type": "code",
   "execution_count": 8,
   "metadata": {
    "ExecuteTime": {
     "end_time": "2020-08-02T21:25:45.156719Z",
     "start_time": "2020-08-02T21:25:45.149096Z"
    }
   },
   "outputs": [
    {
     "name": "stdout",
     "output_type": "stream",
     "text": [
      "torch.Size([100, 50])\n"
     ]
    }
   ],
   "source": [
    "x = torch.rand(100,50)\n",
    "print(x.shape)"
   ]
  },
  {
   "cell_type": "code",
   "execution_count": 9,
   "metadata": {
    "ExecuteTime": {
     "end_time": "2020-08-02T21:25:45.743691Z",
     "start_time": "2020-08-02T21:25:45.736681Z"
    }
   },
   "outputs": [
    {
     "name": "stdout",
     "output_type": "stream",
     "text": [
      "torch.Size([20, 5, 50])\n"
     ]
    }
   ],
   "source": [
    "y=x.view(20,5,50)\n",
    "print(y.shape)"
   ]
  },
  {
   "cell_type": "code",
   "execution_count": 10,
   "metadata": {
    "ExecuteTime": {
     "end_time": "2020-08-02T21:25:46.218220Z",
     "start_time": "2020-08-02T21:25:46.210845Z"
    }
   },
   "outputs": [
    {
     "name": "stdout",
     "output_type": "stream",
     "text": [
      "torch.Size([20, 5, 50])\n"
     ]
    }
   ],
   "source": [
    "z=x.view(-1,5,50)\n",
    "print(z.shape)"
   ]
  },
  {
   "cell_type": "markdown",
   "metadata": {},
   "source": [
    "# Tensors in CPU and GPU"
   ]
  },
  {
   "cell_type": "code",
   "execution_count": 13,
   "metadata": {
    "ExecuteTime": {
     "end_time": "2020-08-02T21:25:50.028237Z",
     "start_time": "2020-08-02T21:25:47.128782Z"
    }
   },
   "outputs": [
    {
     "name": "stdout",
     "output_type": "stream",
     "text": [
      "CPU: cpu\n"
     ]
    }
   ],
   "source": [
    "cpu=torch.device(\"cpu\")\n",
    "# gpu=torch.device(\"cuda:0\") # GPU 0\n",
    "\n",
    "# Create tensor with CPU\n",
    "x=torch.ones(3,3, device=cpu)\n",
    "print(\"CPU:\",x.device)\n",
    "\n",
    "# x=torch.ones(3,3, device=gpu)\n",
    "# print(\"GPU:\",x.device)\n",
    "\n",
    "# x=torch.ones(3,3).cuda(0)\n",
    "# print(\"CPU to GPU:\",x.device)\n",
    "\n",
    "# x=torch.ones(3,3, device=gpu).cpu()\n",
    "# print(\"GPU to CPU:\",x.device)"
   ]
  },
  {
   "cell_type": "code",
   "execution_count": 14,
   "metadata": {
    "ExecuteTime": {
     "end_time": "2020-08-02T21:25:51.120395Z",
     "start_time": "2020-08-02T21:25:50.029445Z"
    }
   },
   "outputs": [],
   "source": [
    "x=torch.rand(10000,10000)\n",
    "y=torch.rand(10000,10000)"
   ]
  },
  {
   "cell_type": "markdown",
   "metadata": {},
   "source": [
    "Time in CPU"
   ]
  },
  {
   "cell_type": "code",
   "execution_count": 15,
   "metadata": {
    "ExecuteTime": {
     "end_time": "2020-08-02T21:25:56.438453Z",
     "start_time": "2020-08-02T21:25:52.247586Z"
    }
   },
   "outputs": [
    {
     "name": "stdout",
     "output_type": "stream",
     "text": [
      "17.082894802093506\n"
     ]
    }
   ],
   "source": [
    "import time \n",
    "\n",
    "t = time.time()\n",
    "z=x@y\n",
    "t = time.time()-t\n",
    "print(t)"
   ]
  },
  {
   "cell_type": "markdown",
   "metadata": {},
   "source": [
    "Time in GPU"
   ]
  },
  {
   "cell_type": "code",
   "execution_count": null,
   "metadata": {
    "ExecuteTime": {
     "end_time": "2020-08-02T21:26:16.964634Z",
     "start_time": "2020-08-02T21:26:16.802959Z"
    }
   },
   "outputs": [],
   "source": [
    "# xc=x.cuda(0)\n",
    "# yc=y.cuda(0)\n",
    "# t = time.time()\n",
    "# z=xc@yc\n",
    "# t = time.time()-t\n",
    "# print(t)"
   ]
  },
  {
   "cell_type": "markdown",
   "metadata": {},
   "source": [
    "# Numpy to PyTorch"
   ]
  },
  {
   "cell_type": "code",
   "execution_count": 16,
   "metadata": {
    "ExecuteTime": {
     "end_time": "2020-08-02T21:27:27.973679Z",
     "start_time": "2020-08-02T21:27:27.966834Z"
    }
   },
   "outputs": [
    {
     "name": "stdout",
     "output_type": "stream",
     "text": [
      "a: [1. 1. 1. 1. 1.]\n",
      "b: tensor([1., 1., 1., 1., 1.], dtype=torch.float64)\n"
     ]
    }
   ],
   "source": [
    "a = np.ones(5)\n",
    "b = torch.from_numpy(a)\n",
    "print('a:',a)\n",
    "print('b:',b)"
   ]
  },
  {
   "cell_type": "markdown",
   "metadata": {},
   "source": [
    "# Autograd"
   ]
  },
  {
   "cell_type": "code",
   "execution_count": 17,
   "metadata": {
    "ExecuteTime": {
     "end_time": "2020-08-02T21:27:58.200219Z",
     "start_time": "2020-08-02T21:27:58.183678Z"
    }
   },
   "outputs": [
    {
     "name": "stdout",
     "output_type": "stream",
     "text": [
      "x^T = tensor([[0., 1., 2., 3.]], grad_fn=<TBackward0>)\n"
     ]
    },
    {
     "data": {
      "text/plain": [
       "tensor([[0.],\n",
       "        [1.],\n",
       "        [2.],\n",
       "        [3.]])"
      ]
     },
     "execution_count": 17,
     "metadata": {},
     "output_type": "execute_result"
    }
   ],
   "source": [
    "x = torch.arange(4.).view(4,1)\n",
    "x.requires_grad=True\n",
    "print('x^T =',x.t())\n",
    "\n",
    "y=0.5*x.t()@x\n",
    "\n",
    "y.backward()\n",
    "x.grad"
   ]
  },
  {
   "cell_type": "markdown",
   "metadata": {},
   "source": [
    "# Example"
   ]
  },
  {
   "cell_type": "code",
   "execution_count": 18,
   "metadata": {
    "ExecuteTime": {
     "end_time": "2020-08-02T21:28:15.285733Z",
     "start_time": "2020-08-02T21:28:14.556657Z"
    }
   },
   "outputs": [
    {
     "data": {
      "text/plain": [
       "<matplotlib.collections.PathCollection at 0x14c8e6490>"
      ]
     },
     "execution_count": 18,
     "metadata": {},
     "output_type": "execute_result"
    },
    {
     "data": {
      "image/png": "[encoded data removed]",
      "text/plain": [
       "<Figure size 432x288 with 1 Axes>"
      ]
     },
     "metadata": {
      "needs_background": "light"
     },
     "output_type": "display_data"
    }
   ],
   "source": [
    "import sklearn.datasets as datasets\n",
    "import matplotlib.pyplot as plt\n",
    "dat, lbs = datasets.make_circles(n_samples=1000, shuffle=True, noise=0.05, random_state=True, factor=0.7)\n",
    "\n",
    "plt.scatter(dat[:,0], dat[:,1], c=lbs)"
   ]
  },
  {
   "cell_type": "code",
   "execution_count": 20,
   "metadata": {
    "ExecuteTime": {
     "end_time": "2020-08-02T21:28:21.926224Z",
     "start_time": "2020-08-02T21:28:21.912951Z"
    }
   },
   "outputs": [
    {
     "data": {
      "text/plain": [
       "Net(\n",
       "  (fc1): Linear(in_features=2, out_features=100, bias=True)\n",
       "  (fc2): Linear(in_features=100, out_features=2, bias=True)\n",
       ")"
      ]
     },
     "execution_count": 20,
     "metadata": {},
     "output_type": "execute_result"
    }
   ],
   "source": [
    "import torch.nn as nn\n",
    "import torch.nn.functional as F\n",
    "\n",
    "#Subclassing nn.Module\n",
    "class Net(nn.Module):\n",
    "    def __init__(self):\n",
    "        super(Net, self).__init__()\n",
    "        self.fc1=nn.Linear(2,100)\n",
    "        self.fc2=nn.Linear(100,2)\n",
    "\n",
    "    def forward(self, x):\n",
    "      \n",
    "        x=F.relu(self.fc1(x))\n",
    "        x=self.fc2(x)\n",
    "        return F.softmax(x, dim=1)\n",
    "    \n",
    "net=Net()\n",
    "\n",
    "net"
   ]
  },
  {
   "cell_type": "code",
   "execution_count": 24,
   "metadata": {
    "ExecuteTime": {
     "end_time": "2020-08-02T21:28:29.912364Z",
     "start_time": "2020-08-02T21:28:29.906455Z"
    }
   },
   "outputs": [
    {
     "name": "stdout",
     "output_type": "stream",
     "text": [
      "Train shape: torch.Size([80, 10, 2])\n",
      "test shape:  torch.Size([200, 2])\n"
     ]
    }
   ],
   "source": [
    "#Split into training and test set\n",
    "torch.set_default_dtype(torch.float32)\n",
    "# input=torch.tensor(dat, dtype=torch.float32).cuda()\n",
    "input=torch.tensor(dat, dtype=torch.float32)\n",
    "train = input[:800]\n",
    "# lab_train=torch.tensor(lbs[:800]).cuda()\n",
    "lab_train=torch.tensor(lbs[:800])\n",
    "\n",
    "\n",
    "test  = input[800:]\n",
    "# lab_test =torch.tensor(lbs[800:]).cuda()\n",
    "lab_test =torch.tensor(lbs[800:])\n",
    "\n",
    "#Split the training and test set into batches\n",
    "\n",
    "train = train.view(-1,10,2)\n",
    "lab_train=lab_train.view(-1,10)\n",
    "test  = test.view(-1,2)\n",
    "lab_test=lab_test\n",
    "\n",
    "print(\"Train shape:\", train.shape)\n",
    "print(\"test shape: \", test.shape)"
   ]
  },
  {
   "cell_type": "code",
   "execution_count": 25,
   "metadata": {
    "ExecuteTime": {
     "end_time": "2020-08-02T21:28:40.649996Z",
     "start_time": "2020-08-02T21:28:39.295117Z"
    }
   },
   "outputs": [
    {
     "name": "stdout",
     "output_type": "stream",
     "text": [
      "Epoch : 1\t  Batch: 10\t loss: 0.683\n",
      "Epoch : 1\t  Batch: 20\t loss: 0.691\n",
      "Epoch : 1\t  Batch: 30\t loss: 0.684\n",
      "Epoch : 1\t  Batch: 40\t loss: 0.687\n",
      "Epoch : 1\t  Batch: 50\t loss: 0.679\n",
      "Epoch : 1\t  Batch: 60\t loss: 0.687\n",
      "Epoch : 1\t  Batch: 70\t loss: 0.688\n",
      "Epoch : 1\t  Batch: 80\t loss: 0.682\n",
      "Epoch : 2\t  Batch: 10\t loss: 0.681\n",
      "Epoch : 2\t  Batch: 20\t loss: 0.688\n",
      "Epoch : 2\t  Batch: 30\t loss: 0.678\n",
      "Epoch : 2\t  Batch: 40\t loss: 0.683\n",
      "Epoch : 2\t  Batch: 50\t loss: 0.675\n",
      "Epoch : 2\t  Batch: 60\t loss: 0.685\n",
      "Epoch : 2\t  Batch: 70\t loss: 0.684\n",
      "Epoch : 2\t  Batch: 80\t loss: 0.678\n",
      "Epoch : 3\t  Batch: 10\t loss: 0.678\n",
      "Epoch : 3\t  Batch: 20\t loss: 0.685\n",
      "Epoch : 3\t  Batch: 30\t loss: 0.675\n",
      "Epoch : 3\t  Batch: 40\t loss: 0.680\n",
      "Epoch : 3\t  Batch: 50\t loss: 0.672\n",
      "Epoch : 3\t  Batch: 60\t loss: 0.681\n",
      "Epoch : 3\t  Batch: 70\t loss: 0.680\n",
      "Epoch : 3\t  Batch: 80\t loss: 0.674\n",
      "Epoch : 4\t  Batch: 10\t loss: 0.675\n",
      "Epoch : 4\t  Batch: 20\t loss: 0.681\n",
      "Epoch : 4\t  Batch: 30\t loss: 0.671\n",
      "Epoch : 4\t  Batch: 40\t loss: 0.676\n",
      "Epoch : 4\t  Batch: 50\t loss: 0.670\n",
      "Epoch : 4\t  Batch: 60\t loss: 0.678\n",
      "Epoch : 4\t  Batch: 70\t loss: 0.676\n",
      "Epoch : 4\t  Batch: 80\t loss: 0.671\n",
      "Epoch : 5\t  Batch: 10\t loss: 0.672\n",
      "Epoch : 5\t  Batch: 20\t loss: 0.677\n",
      "Epoch : 5\t  Batch: 30\t loss: 0.668\n",
      "Epoch : 5\t  Batch: 40\t loss: 0.673\n",
      "Epoch : 5\t  Batch: 50\t loss: 0.667\n",
      "Epoch : 5\t  Batch: 60\t loss: 0.675\n",
      "Epoch : 5\t  Batch: 70\t loss: 0.673\n",
      "Epoch : 5\t  Batch: 80\t loss: 0.667\n",
      "Epoch : 6\t  Batch: 10\t loss: 0.669\n",
      "Epoch : 6\t  Batch: 20\t loss: 0.674\n",
      "Epoch : 6\t  Batch: 30\t loss: 0.665\n",
      "Epoch : 6\t  Batch: 40\t loss: 0.670\n",
      "Epoch : 6\t  Batch: 50\t loss: 0.664\n",
      "Epoch : 6\t  Batch: 60\t loss: 0.672\n",
      "Epoch : 6\t  Batch: 70\t loss: 0.669\n",
      "Epoch : 6\t  Batch: 80\t loss: 0.664\n",
      "Epoch : 7\t  Batch: 10\t loss: 0.666\n",
      "Epoch : 7\t  Batch: 20\t loss: 0.670\n",
      "Epoch : 7\t  Batch: 30\t loss: 0.661\n",
      "Epoch : 7\t  Batch: 40\t loss: 0.667\n",
      "Epoch : 7\t  Batch: 50\t loss: 0.661\n",
      "Epoch : 7\t  Batch: 60\t loss: 0.668\n",
      "Epoch : 7\t  Batch: 70\t loss: 0.666\n",
      "Epoch : 7\t  Batch: 80\t loss: 0.660\n",
      "Epoch : 8\t  Batch: 10\t loss: 0.663\n",
      "Epoch : 8\t  Batch: 20\t loss: 0.667\n",
      "Epoch : 8\t  Batch: 30\t loss: 0.658\n",
      "Epoch : 8\t  Batch: 40\t loss: 0.664\n",
      "Epoch : 8\t  Batch: 50\t loss: 0.658\n",
      "Epoch : 8\t  Batch: 60\t loss: 0.665\n",
      "Epoch : 8\t  Batch: 70\t loss: 0.662\n",
      "Epoch : 8\t  Batch: 80\t loss: 0.657\n",
      "Epoch : 9\t  Batch: 10\t loss: 0.660\n",
      "Epoch : 9\t  Batch: 20\t loss: 0.664\n",
      "Epoch : 9\t  Batch: 30\t loss: 0.655\n",
      "Epoch : 9\t  Batch: 40\t loss: 0.661\n",
      "Epoch : 9\t  Batch: 50\t loss: 0.655\n",
      "Epoch : 9\t  Batch: 60\t loss: 0.662\n",
      "Epoch : 9\t  Batch: 70\t loss: 0.659\n",
      "Epoch : 9\t  Batch: 80\t loss: 0.654\n",
      "Epoch : 10\t  Batch: 10\t loss: 0.656\n",
      "Epoch : 10\t  Batch: 20\t loss: 0.660\n",
      "Epoch : 10\t  Batch: 30\t loss: 0.651\n",
      "Epoch : 10\t  Batch: 40\t loss: 0.658\n",
      "Epoch : 10\t  Batch: 50\t loss: 0.652\n",
      "Epoch : 10\t  Batch: 60\t loss: 0.659\n",
      "Epoch : 10\t  Batch: 70\t loss: 0.656\n",
      "Epoch : 10\t  Batch: 80\t loss: 0.650\n",
      "Epoch : 11\t  Batch: 10\t loss: 0.653\n",
      "Epoch : 11\t  Batch: 20\t loss: 0.657\n",
      "Epoch : 11\t  Batch: 30\t loss: 0.648\n",
      "Epoch : 11\t  Batch: 40\t loss: 0.654\n",
      "Epoch : 11\t  Batch: 50\t loss: 0.648\n",
      "Epoch : 11\t  Batch: 60\t loss: 0.656\n",
      "Epoch : 11\t  Batch: 70\t loss: 0.653\n",
      "Epoch : 11\t  Batch: 80\t loss: 0.647\n",
      "Epoch : 12\t  Batch: 10\t loss: 0.650\n",
      "Epoch : 12\t  Batch: 20\t loss: 0.654\n",
      "Epoch : 12\t  Batch: 30\t loss: 0.645\n",
      "Epoch : 12\t  Batch: 40\t loss: 0.651\n",
      "Epoch : 12\t  Batch: 50\t loss: 0.645\n",
      "Epoch : 12\t  Batch: 60\t loss: 0.653\n",
      "Epoch : 12\t  Batch: 70\t loss: 0.649\n",
      "Epoch : 12\t  Batch: 80\t loss: 0.644\n",
      "Epoch : 13\t  Batch: 10\t loss: 0.647\n",
      "Epoch : 13\t  Batch: 20\t loss: 0.651\n",
      "Epoch : 13\t  Batch: 30\t loss: 0.641\n",
      "Epoch : 13\t  Batch: 40\t loss: 0.648\n",
      "Epoch : 13\t  Batch: 50\t loss: 0.642\n",
      "Epoch : 13\t  Batch: 60\t loss: 0.650\n",
      "Epoch : 13\t  Batch: 70\t loss: 0.646\n",
      "Epoch : 13\t  Batch: 80\t loss: 0.640\n",
      "Epoch : 14\t  Batch: 10\t loss: 0.644\n",
      "Epoch : 14\t  Batch: 20\t loss: 0.647\n",
      "Epoch : 14\t  Batch: 30\t loss: 0.638\n",
      "Epoch : 14\t  Batch: 40\t loss: 0.645\n",
      "Epoch : 14\t  Batch: 50\t loss: 0.639\n",
      "Epoch : 14\t  Batch: 60\t loss: 0.647\n",
      "Epoch : 14\t  Batch: 70\t loss: 0.643\n",
      "Epoch : 14\t  Batch: 80\t loss: 0.637\n",
      "Epoch : 15\t  Batch: 10\t loss: 0.640\n",
      "Epoch : 15\t  Batch: 20\t loss: 0.644\n",
      "Epoch : 15\t  Batch: 30\t loss: 0.635\n",
      "Epoch : 15\t  Batch: 40\t loss: 0.642\n",
      "Epoch : 15\t  Batch: 50\t loss: 0.636\n",
      "Epoch : 15\t  Batch: 60\t loss: 0.644\n",
      "Epoch : 15\t  Batch: 70\t loss: 0.640\n",
      "Epoch : 15\t  Batch: 80\t loss: 0.634\n",
      "Epoch : 16\t  Batch: 10\t loss: 0.637\n",
      "Epoch : 16\t  Batch: 20\t loss: 0.641\n",
      "Epoch : 16\t  Batch: 30\t loss: 0.631\n",
      "Epoch : 16\t  Batch: 40\t loss: 0.639\n",
      "Epoch : 16\t  Batch: 50\t loss: 0.632\n",
      "Epoch : 16\t  Batch: 60\t loss: 0.641\n",
      "Epoch : 16\t  Batch: 70\t loss: 0.636\n",
      "Epoch : 16\t  Batch: 80\t loss: 0.631\n",
      "Epoch : 17\t  Batch: 10\t loss: 0.634\n",
      "Epoch : 17\t  Batch: 20\t loss: 0.638\n",
      "Epoch : 17\t  Batch: 30\t loss: 0.628\n",
      "Epoch : 17\t  Batch: 40\t loss: 0.636\n",
      "Epoch : 17\t  Batch: 50\t loss: 0.629\n",
      "Epoch : 17\t  Batch: 60\t loss: 0.638\n",
      "Epoch : 17\t  Batch: 70\t loss: 0.633\n",
      "Epoch : 17\t  Batch: 80\t loss: 0.627\n",
      "Epoch : 18\t  Batch: 10\t loss: 0.631\n",
      "Epoch : 18\t  Batch: 20\t loss: 0.635\n",
      "Epoch : 18\t  Batch: 30\t loss: 0.624\n",
      "Epoch : 18\t  Batch: 40\t loss: 0.632\n",
      "Epoch : 18\t  Batch: 50\t loss: 0.626\n",
      "Epoch : 18\t  Batch: 60\t loss: 0.635\n",
      "Epoch : 18\t  Batch: 70\t loss: 0.630\n",
      "Epoch : 18\t  Batch: 80\t loss: 0.624\n",
      "Epoch : 19\t  Batch: 10\t loss: 0.627\n",
      "Epoch : 19\t  Batch: 20\t loss: 0.632\n",
      "Epoch : 19\t  Batch: 30\t loss: 0.621\n",
      "Epoch : 19\t  Batch: 40\t loss: 0.629\n",
      "Epoch : 19\t  Batch: 50\t loss: 0.623\n",
      "Epoch : 19\t  Batch: 60\t loss: 0.631\n",
      "Epoch : 19\t  Batch: 70\t loss: 0.627\n",
      "Epoch : 19\t  Batch: 80\t loss: 0.621\n",
      "Epoch : 20\t  Batch: 10\t loss: 0.624\n",
      "Epoch : 20\t  Batch: 20\t loss: 0.628\n",
      "Epoch : 20\t  Batch: 30\t loss: 0.618\n",
      "Epoch : 20\t  Batch: 40\t loss: 0.626\n",
      "Epoch : 20\t  Batch: 50\t loss: 0.619\n",
      "Epoch : 20\t  Batch: 60\t loss: 0.628\n",
      "Epoch : 20\t  Batch: 70\t loss: 0.623\n",
      "Epoch : 20\t  Batch: 80\t loss: 0.617\n"
     ]
    }
   ],
   "source": [
    "import torch.optim as optim\n",
    "\n",
    "#Define loss function\n",
    "criterion = nn.CrossEntropyLoss()\n",
    "\n",
    "#Use stochastic gradient descent to optimize the function\n",
    "optimizer = optim.SGD(net.parameters(), lr=0.001, momentum=0.9)\n",
    "\n",
    "#Training\n",
    "for epoch in range(20):\n",
    "\n",
    "    loss_promedio = 0.0\n",
    "    for i, data in enumerate(zip(train, lab_train)):\n",
    "        inputs, labels = data\n",
    "        \n",
    "        # Set the gradient in zero to clear the gradient in the last iteration\n",
    "        optimizer.zero_grad()\n",
    "\n",
    "        # Feed the inputs to the neural network\n",
    "        outputs = net(inputs)\n",
    "        \n",
    "        # Calculation the loss\n",
    "        loss = criterion(outputs, labels)\n",
    "\n",
    "        # Backpropagation to calculate the gradient\n",
    "        loss.backward()\n",
    "\n",
    "        # Apply stochastic gradient descent to minimize the loss\n",
    "        optimizer.step()\n",
    "\n",
    "        # Show the average loss for every 10 iterations\n",
    "        loss_promedio += loss.item()\n",
    "        if i % 10 == 9:\n",
    "            print('Epoch : %d\\t  Batch: %d\\t loss: %.3f' %(epoch + 1, i + 1, loss_promedio / 10))\n",
    "            \n",
    "            loss_promedio = 0.001"
   ]
  },
  {
   "cell_type": "code",
   "execution_count": 26,
   "metadata": {
    "ExecuteTime": {
     "end_time": "2020-08-02T21:28:45.922788Z",
     "start_time": "2020-08-02T21:28:45.913713Z"
    }
   },
   "outputs": [
    {
     "name": "stdout",
     "output_type": "stream",
     "text": [
      "Test accuracy: 0.995\n"
     ]
    }
   ],
   "source": [
    "outputs=net(test)\n",
    "\n",
    "# Choose the prediction with higher probability\n",
    "_, predicted = torch.max(outputs, 1)\n",
    "\n",
    "# Find the average accuracy of all the examples in the test\n",
    "acc=(lab_test==predicted).sum().double()/200\n",
    "print(\"Test accuracy:\",acc.item())"
   ]
  },
  {
   "cell_type": "code",
   "execution_count": null,
   "metadata": {},
   "outputs": [],
   "source": []
  }
 ],
 "metadata": {
  "kernelspec": {
   "display_name": "Python 3 (ipykernel)",
   "language": "python",
   "name": "python3"
  },
  "language_info": {
   "codemirror_mode": {
    "name": "ipython",
    "version": 3
   },
   "file_extension": ".py",
   "mimetype": "text/x-python",
   "name": "python",
   "nbconvert_exporter": "python",
   "pygments_lexer": "ipython3",
   "version": "3.9.9"
  },
  "latex_envs": {
   "LaTeX_envs_menu_present": true,
   "autoclose": false,
   "autocomplete": true,
   "bibliofile": "biblio.bib",
   "cite_by": "apalike",
   "current_citInitial": 1,
   "eqLabelWithNumbers": true,
   "eqNumInitial": 1,
   "hotkeys": {
    "equation": "Ctrl-E",
    "itemize": "Ctrl-I"
   },
   "labels_anchors": false,
   "latex_user_defs": false,
   "report_style_numbering": false,
   "user_envs_cfg": false
  },
  "toc": {
   "base_numbering": 1,
   "nav_menu": {},
   "number_sections": true,
   "sideBar": true,
   "skip_h1_title": false,
   "title_cell": "Table of Contents",
   "title_sidebar": "Contents",
   "toc_cell": false,
   "toc_position": {},
   "toc_section_display": true,
   "toc_window_display": false
  }
 },
 "nbformat": 4,
 "nbformat_minor": 4
}
