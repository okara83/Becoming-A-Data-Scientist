{
 "cells": [
  {
   "cell_type": "markdown",
   "metadata": {},
   "source": [
    "# Matrix Manipulations in Python"
   ]
  },
  {
   "cell_type": "markdown",
   "metadata": {},
   "source": [
    "## Numpy Arrays and Matrices\n",
    "In many algorithms, data is represented mathematically as a *vector* or a *matrix*. Conceptually, a vector is just a list of numbers, and a matrix is a two-dimensional list of numbers (a list of lists). This means that in theory, we can perform linear algebra operations using the structures and python methods that we already encountered (lists, arithmetic operations, loops, etc.) However, if we use those stuff, even computing basic operations like matrix multiplication are cumbersome to implement and slow to execute.\n",
    "\n",
    "We use numpy which implemented more optimized methods for performing basic routines."
   ]
  },
  {
   "cell_type": "code",
   "execution_count": 1,
   "metadata": {
    "ExecuteTime": {
     "end_time": "2021-07-29T09:26:59.519481Z",
     "start_time": "2021-07-29T09:26:58.586081Z"
    }
   },
   "outputs": [],
   "source": [
    "import numpy as np "
   ]
  },
  {
   "cell_type": "markdown",
   "metadata": {},
   "source": [
    "#### Creating 1-D arrays"
   ]
  },
  {
   "cell_type": "code",
   "execution_count": 2,
   "metadata": {
    "ExecuteTime": {
     "end_time": "2021-07-29T09:26:59.535424Z",
     "start_time": "2021-07-29T09:26:59.524455Z"
    }
   },
   "outputs": [
    {
     "data": {
      "text/plain": [
       "array([1, 4, 3])"
      ]
     },
     "execution_count": 2,
     "metadata": {},
     "output_type": "execute_result"
    }
   ],
   "source": [
    "# Create a 1-D array by wrapping a list with NumPy's array() function.\n",
    "a = np.array([1, 4, 3])\n",
    "a"
   ]
  },
  {
   "cell_type": "code",
   "execution_count": 3,
   "metadata": {
    "ExecuteTime": {
     "end_time": "2021-07-29T09:26:59.546722Z",
     "start_time": "2021-07-29T09:26:59.540711Z"
    },
    "scrolled": true
   },
   "outputs": [
    {
     "name": "stdout",
     "output_type": "stream",
     "text": [
      "[1 4 3]\n"
     ]
    }
   ],
   "source": [
    "print(a)"
   ]
  },
  {
   "cell_type": "markdown",
   "metadata": {},
   "source": [
    "Notice that the displayed values in the print statement do not contain commas."
   ]
  },
  {
   "cell_type": "markdown",
   "metadata": {},
   "source": [
    "#### Creating 2-D arrays"
   ]
  },
  {
   "cell_type": "code",
   "execution_count": 4,
   "metadata": {
    "ExecuteTime": {
     "end_time": "2021-07-29T09:26:59.563331Z",
     "start_time": "2021-07-29T09:26:59.555437Z"
    }
   },
   "outputs": [
    {
     "data": {
      "text/plain": [
       "array([[1, 4, 3],\n",
       "       [2, 0, 3]])"
      ]
     },
     "execution_count": 4,
     "metadata": {},
     "output_type": "execute_result"
    }
   ],
   "source": [
    "# Create a 2-D array by wrapping a list of lists with NumPy's array() function.\n",
    "A = np.array([[1, 4, 3],\n",
    "              [2, 0, 3]])\n",
    "A"
   ]
  },
  {
   "cell_type": "code",
   "execution_count": 5,
   "metadata": {
    "ExecuteTime": {
     "end_time": "2021-07-29T09:26:59.575763Z",
     "start_time": "2021-07-29T09:26:59.569477Z"
    }
   },
   "outputs": [
    {
     "name": "stdout",
     "output_type": "stream",
     "text": [
      "[[1 4 3]\n",
      " [2 0 3]]\n"
     ]
    }
   ],
   "source": [
    "print(A)"
   ]
  },
  {
   "cell_type": "markdown",
   "metadata": {},
   "source": [
    "## Basic Operations on Arrays\n",
    "\n",
    "### Adding, Subtracting, Multiplying, and Dividing a Scalar To An Array"
   ]
  },
  {
   "cell_type": "code",
   "execution_count": 6,
   "metadata": {
    "ExecuteTime": {
     "end_time": "2021-07-29T09:26:59.598215Z",
     "start_time": "2021-07-29T09:26:59.578299Z"
    }
   },
   "outputs": [
    {
     "name": "stdout",
     "output_type": "stream",
     "text": [
      "[1 4 3]\n",
      "[6 9 8]\n"
     ]
    }
   ],
   "source": [
    "print(a)\n",
    "print(a + 5)"
   ]
  },
  {
   "cell_type": "code",
   "execution_count": 7,
   "metadata": {
    "ExecuteTime": {
     "end_time": "2021-07-29T09:26:59.624265Z",
     "start_time": "2021-07-29T09:26:59.610501Z"
    }
   },
   "outputs": [
    {
     "name": "stdout",
     "output_type": "stream",
     "text": [
      "[6 9 8]\n"
     ]
    }
   ],
   "source": [
    "# this is also commutative\n",
    "print(5 + a)"
   ]
  },
  {
   "cell_type": "code",
   "execution_count": 8,
   "metadata": {
    "ExecuteTime": {
     "end_time": "2021-07-29T09:26:59.641211Z",
     "start_time": "2021-07-29T09:26:59.634766Z"
    }
   },
   "outputs": [
    {
     "name": "stdout",
     "output_type": "stream",
     "text": [
      "[ 5 20 15]\n"
     ]
    }
   ],
   "source": [
    "# same thing for multiplication\n",
    "print(a * 5)"
   ]
  },
  {
   "cell_type": "code",
   "execution_count": 9,
   "metadata": {
    "ExecuteTime": {
     "end_time": "2021-07-29T09:26:59.657422Z",
     "start_time": "2021-07-29T09:26:59.644247Z"
    }
   },
   "outputs": [
    {
     "data": {
      "text/plain": [
       "array([-4, -1, -2])"
      ]
     },
     "execution_count": 9,
     "metadata": {},
     "output_type": "execute_result"
    }
   ],
   "source": [
    "# \n",
    "a - 5"
   ]
  },
  {
   "cell_type": "code",
   "execution_count": 10,
   "metadata": {
    "ExecuteTime": {
     "end_time": "2021-07-29T09:26:59.673072Z",
     "start_time": "2021-07-29T09:26:59.663417Z"
    }
   },
   "outputs": [
    {
     "data": {
      "text/plain": [
       "array([0.2, 0.8, 0.6])"
      ]
     },
     "execution_count": 10,
     "metadata": {},
     "output_type": "execute_result"
    }
   ],
   "source": [
    "a / 5"
   ]
  },
  {
   "cell_type": "markdown",
   "metadata": {},
   "source": [
    "<div class=\"alert alert-info\">\n",
    "    Note: All arithmetic operations between an array and a scalar applies the operation element-wise on the array.\n",
    "</div>"
   ]
  },
  {
   "cell_type": "markdown",
   "metadata": {},
   "source": [
    "### Operations on Arrays with Same Dimensions"
   ]
  },
  {
   "cell_type": "code",
   "execution_count": 11,
   "metadata": {
    "ExecuteTime": {
     "end_time": "2021-07-29T09:26:59.683498Z",
     "start_time": "2021-07-29T09:26:59.677873Z"
    }
   },
   "outputs": [
    {
     "data": {
      "text/plain": [
       "array([1, 4, 3])"
      ]
     },
     "execution_count": 11,
     "metadata": {},
     "output_type": "execute_result"
    }
   ],
   "source": [
    "a"
   ]
  },
  {
   "cell_type": "code",
   "execution_count": 12,
   "metadata": {
    "ExecuteTime": {
     "end_time": "2021-07-29T09:26:59.698611Z",
     "start_time": "2021-07-29T09:26:59.686957Z"
    }
   },
   "outputs": [
    {
     "name": "stdout",
     "output_type": "stream",
     "text": [
      "[1 4 3]\n",
      "[2 0 3]\n"
     ]
    }
   ],
   "source": [
    "b = np.array([2, 0, 3])\n",
    "\n",
    "print(a)\n",
    "print(b)"
   ]
  },
  {
   "cell_type": "code",
   "execution_count": 13,
   "metadata": {
    "ExecuteTime": {
     "end_time": "2021-07-29T09:26:59.714709Z",
     "start_time": "2021-07-29T09:26:59.707737Z"
    }
   },
   "outputs": [
    {
     "data": {
      "text/plain": [
       "array([3, 4, 6])"
      ]
     },
     "execution_count": 13,
     "metadata": {},
     "output_type": "execute_result"
    }
   ],
   "source": [
    "a + b"
   ]
  },
  {
   "cell_type": "code",
   "execution_count": 14,
   "metadata": {
    "ExecuteTime": {
     "end_time": "2021-07-29T09:26:59.729269Z",
     "start_time": "2021-07-29T09:26:59.718110Z"
    }
   },
   "outputs": [
    {
     "data": {
      "text/plain": [
       "array([-1,  4,  0])"
      ]
     },
     "execution_count": 14,
     "metadata": {},
     "output_type": "execute_result"
    }
   ],
   "source": [
    "a - b"
   ]
  },
  {
   "cell_type": "code",
   "execution_count": 15,
   "metadata": {
    "ExecuteTime": {
     "end_time": "2021-07-29T09:26:59.738053Z",
     "start_time": "2021-07-29T09:26:59.731822Z"
    }
   },
   "outputs": [
    {
     "data": {
      "text/plain": [
       "array([2, 0, 9])"
      ]
     },
     "execution_count": 15,
     "metadata": {},
     "output_type": "execute_result"
    }
   ],
   "source": [
    "a * b"
   ]
  },
  {
   "cell_type": "code",
   "execution_count": 16,
   "metadata": {
    "ExecuteTime": {
     "end_time": "2021-07-29T09:26:59.747423Z",
     "start_time": "2021-07-29T09:26:59.740664Z"
    }
   },
   "outputs": [
    {
     "name": "stderr",
     "output_type": "stream",
     "text": [
      "/var/folders/sd/1vc_q83x5rn9jjrd0x47_cc00000gn/T/ipykernel_66251/1286629031.py:1: RuntimeWarning: divide by zero encountered in true_divide\n",
      "  a / b\n"
     ]
    },
    {
     "data": {
      "text/plain": [
       "array([0.5, inf, 1. ])"
      ]
     },
     "execution_count": 16,
     "metadata": {},
     "output_type": "execute_result"
    }
   ],
   "source": [
    "a / b"
   ]
  },
  {
   "cell_type": "markdown",
   "metadata": {},
   "source": [
    "<div class=\"alert alert-danger\">\n",
    "    Note: Dividing by zero will give you a warning like the one above. Also, the output shows <b>inf</b> which is the data type used to represent the results when dividing by 0.\n",
    "</div>"
   ]
  },
  {
   "cell_type": "code",
   "execution_count": 17,
   "metadata": {
    "ExecuteTime": {
     "end_time": "2021-07-29T09:26:59.756058Z",
     "start_time": "2021-07-29T09:26:59.751601Z"
    }
   },
   "outputs": [
    {
     "data": {
      "text/plain": [
       "array([ 1,  1, 27])"
      ]
     },
     "execution_count": 17,
     "metadata": {},
     "output_type": "execute_result"
    }
   ],
   "source": [
    "a ** b"
   ]
  },
  {
   "cell_type": "code",
   "execution_count": 18,
   "metadata": {
    "ExecuteTime": {
     "end_time": "2021-07-29T09:26:59.767858Z",
     "start_time": "2021-07-29T09:26:59.759797Z"
    }
   },
   "outputs": [
    {
     "name": "stderr",
     "output_type": "stream",
     "text": [
      "/var/folders/sd/1vc_q83x5rn9jjrd0x47_cc00000gn/T/ipykernel_66251/2189094906.py:1: RuntimeWarning: divide by zero encountered in remainder\n",
      "  a % b\n"
     ]
    },
    {
     "data": {
      "text/plain": [
       "array([1, 0, 0])"
      ]
     },
     "execution_count": 18,
     "metadata": {},
     "output_type": "execute_result"
    }
   ],
   "source": [
    "a % b"
   ]
  },
  {
   "cell_type": "code",
   "execution_count": 19,
   "metadata": {
    "ExecuteTime": {
     "end_time": "2021-07-29T09:26:59.780561Z",
     "start_time": "2021-07-29T09:26:59.771441Z"
    }
   },
   "outputs": [
    {
     "name": "stdout",
     "output_type": "stream",
     "text": [
      "Matrix A:\n",
      "[[1 4 3]\n",
      " [2 0 3]]\n",
      "\n",
      "Matrix B:\n",
      "[[3 1 7]\n",
      " [1 5 4]]\n"
     ]
    }
   ],
   "source": [
    "# Let's set a 2-D array to perform operations\n",
    "B = np.array([[3, 1, 7],\n",
    "              [1, 5, 4]])\n",
    "\n",
    "print('Matrix A:')\n",
    "print(A)\n",
    "print()\n",
    "print('Matrix B:')\n",
    "print(B)"
   ]
  },
  {
   "cell_type": "code",
   "execution_count": 20,
   "metadata": {
    "ExecuteTime": {
     "end_time": "2021-07-29T09:26:59.794716Z",
     "start_time": "2021-07-29T09:26:59.787417Z"
    }
   },
   "outputs": [
    {
     "data": {
      "text/plain": [
       "array([[ 4,  5, 10],\n",
       "       [ 3,  5,  7]])"
      ]
     },
     "execution_count": 20,
     "metadata": {},
     "output_type": "execute_result"
    }
   ],
   "source": [
    "A + B"
   ]
  },
  {
   "cell_type": "code",
   "execution_count": 21,
   "metadata": {
    "ExecuteTime": {
     "end_time": "2021-07-29T09:26:59.805444Z",
     "start_time": "2021-07-29T09:26:59.798341Z"
    }
   },
   "outputs": [
    {
     "data": {
      "text/plain": [
       "array([[-2,  3, -4],\n",
       "       [ 1, -5, -1]])"
      ]
     },
     "execution_count": 21,
     "metadata": {},
     "output_type": "execute_result"
    }
   ],
   "source": [
    "A - B"
   ]
  },
  {
   "cell_type": "code",
   "execution_count": 22,
   "metadata": {
    "ExecuteTime": {
     "end_time": "2021-07-29T09:26:59.821689Z",
     "start_time": "2021-07-29T09:26:59.815176Z"
    }
   },
   "outputs": [
    {
     "data": {
      "text/plain": [
       "array([[ 3,  4, 21],\n",
       "       [ 2,  0, 12]])"
      ]
     },
     "execution_count": 22,
     "metadata": {},
     "output_type": "execute_result"
    }
   ],
   "source": [
    "A * B"
   ]
  },
  {
   "cell_type": "code",
   "execution_count": 23,
   "metadata": {
    "ExecuteTime": {
     "end_time": "2021-07-29T09:26:59.836305Z",
     "start_time": "2021-07-29T09:26:59.829587Z"
    }
   },
   "outputs": [
    {
     "data": {
      "text/plain": [
       "array([[0.33333333, 4.        , 0.42857143],\n",
       "       [2.        , 0.        , 0.75      ]])"
      ]
     },
     "execution_count": 23,
     "metadata": {},
     "output_type": "execute_result"
    }
   ],
   "source": [
    "A / B"
   ]
  },
  {
   "cell_type": "code",
   "execution_count": 24,
   "metadata": {
    "ExecuteTime": {
     "end_time": "2021-07-29T09:26:59.847447Z",
     "start_time": "2021-07-29T09:26:59.838705Z"
    }
   },
   "outputs": [
    {
     "data": {
      "text/plain": [
       "array([[   1,    4, 2187],\n",
       "       [   2,    0,   81]])"
      ]
     },
     "execution_count": 24,
     "metadata": {},
     "output_type": "execute_result"
    }
   ],
   "source": [
    "A ** B"
   ]
  },
  {
   "cell_type": "code",
   "execution_count": 25,
   "metadata": {
    "ExecuteTime": {
     "end_time": "2021-07-29T09:26:59.861095Z",
     "start_time": "2021-07-29T09:26:59.854246Z"
    }
   },
   "outputs": [
    {
     "data": {
      "text/plain": [
       "array([[1, 0, 3],\n",
       "       [0, 0, 3]])"
      ]
     },
     "execution_count": 25,
     "metadata": {},
     "output_type": "execute_result"
    }
   ],
   "source": [
    "A % B"
   ]
  },
  {
   "cell_type": "markdown",
   "metadata": {},
   "source": [
    "Note that both a and A are both `numpy ndarray` types. Think of it as n-dimensional arrays with different values for n."
   ]
  },
  {
   "cell_type": "code",
   "execution_count": 26,
   "metadata": {
    "ExecuteTime": {
     "end_time": "2021-07-29T09:26:59.874726Z",
     "start_time": "2021-07-29T09:26:59.867057Z"
    }
   },
   "outputs": [
    {
     "data": {
      "text/plain": [
       "numpy.ndarray"
      ]
     },
     "execution_count": 26,
     "metadata": {},
     "output_type": "execute_result"
    }
   ],
   "source": [
    "type(a)"
   ]
  },
  {
   "cell_type": "code",
   "execution_count": 27,
   "metadata": {
    "ExecuteTime": {
     "end_time": "2021-07-29T09:26:59.885502Z",
     "start_time": "2021-07-29T09:26:59.879192Z"
    }
   },
   "outputs": [
    {
     "data": {
      "text/plain": [
       "numpy.ndarray"
      ]
     },
     "execution_count": 27,
     "metadata": {},
     "output_type": "execute_result"
    }
   ],
   "source": [
    "type(A)"
   ]
  },
  {
   "cell_type": "markdown",
   "metadata": {},
   "source": [
    "### Multiplying Arrays\n",
    "\n",
    "Matrix multiplication is done using the `.dot()` method"
   ]
  },
  {
   "cell_type": "code",
   "execution_count": 28,
   "metadata": {
    "ExecuteTime": {
     "end_time": "2021-07-29T09:26:59.892813Z",
     "start_time": "2021-07-29T09:26:59.888116Z"
    }
   },
   "outputs": [
    {
     "data": {
      "text/plain": [
       "array([26, 11])"
      ]
     },
     "execution_count": 28,
     "metadata": {},
     "output_type": "execute_result"
    }
   ],
   "source": [
    "A.dot(a)"
   ]
  },
  {
   "cell_type": "markdown",
   "metadata": {},
   "source": [
    "### Getting The Transpose\n",
    "for transpose, use the attribute `.T`"
   ]
  },
  {
   "cell_type": "code",
   "execution_count": 29,
   "metadata": {
    "ExecuteTime": {
     "end_time": "2021-07-29T09:26:59.902630Z",
     "start_time": "2021-07-29T09:26:59.895654Z"
    }
   },
   "outputs": [
    {
     "data": {
      "text/plain": [
       "array([[1, 2],\n",
       "       [4, 0],\n",
       "       [3, 3]])"
      ]
     },
     "execution_count": 29,
     "metadata": {},
     "output_type": "execute_result"
    }
   ],
   "source": [
    "A.T"
   ]
  },
  {
   "cell_type": "markdown",
   "metadata": {},
   "source": [
    "### Array Attributes\n",
    "\n",
    "```Python\n",
    "dtype  - # The type of the elements in the array\n",
    "ndim   - # The number of axes (dimensions) of the array\n",
    "shape  - # A tuple of integers indicating the size of each dimension\n",
    "size   - # The total numer of elements in the array\n",
    "```"
   ]
  },
  {
   "cell_type": "code",
   "execution_count": 30,
   "metadata": {
    "ExecuteTime": {
     "end_time": "2021-07-29T09:26:59.913929Z",
     "start_time": "2021-07-29T09:26:59.906764Z"
    }
   },
   "outputs": [
    {
     "data": {
      "text/plain": [
       "dtype('int64')"
      ]
     },
     "execution_count": 30,
     "metadata": {},
     "output_type": "execute_result"
    }
   ],
   "source": [
    "a.dtype"
   ]
  },
  {
   "cell_type": "code",
   "execution_count": 31,
   "metadata": {
    "ExecuteTime": {
     "end_time": "2021-07-29T09:26:59.927790Z",
     "start_time": "2021-07-29T09:26:59.917091Z"
    }
   },
   "outputs": [
    {
     "data": {
      "text/plain": [
       "dtype('int64')"
      ]
     },
     "execution_count": 31,
     "metadata": {},
     "output_type": "execute_result"
    }
   ],
   "source": [
    "A.dtype"
   ]
  },
  {
   "cell_type": "code",
   "execution_count": 32,
   "metadata": {
    "ExecuteTime": {
     "end_time": "2021-07-29T09:26:59.938080Z",
     "start_time": "2021-07-29T09:26:59.931173Z"
    }
   },
   "outputs": [
    {
     "data": {
      "text/plain": [
       "1"
      ]
     },
     "execution_count": 32,
     "metadata": {},
     "output_type": "execute_result"
    }
   ],
   "source": [
    "a.ndim"
   ]
  },
  {
   "cell_type": "code",
   "execution_count": 33,
   "metadata": {
    "ExecuteTime": {
     "end_time": "2021-07-29T09:26:59.948532Z",
     "start_time": "2021-07-29T09:26:59.942149Z"
    }
   },
   "outputs": [
    {
     "data": {
      "text/plain": [
       "2"
      ]
     },
     "execution_count": 33,
     "metadata": {},
     "output_type": "execute_result"
    }
   ],
   "source": [
    "A.ndim"
   ]
  },
  {
   "cell_type": "code",
   "execution_count": 34,
   "metadata": {
    "ExecuteTime": {
     "end_time": "2021-07-29T09:26:59.959330Z",
     "start_time": "2021-07-29T09:26:59.952877Z"
    }
   },
   "outputs": [
    {
     "data": {
      "text/plain": [
       "(3,)"
      ]
     },
     "execution_count": 34,
     "metadata": {},
     "output_type": "execute_result"
    }
   ],
   "source": [
    "a.shape"
   ]
  },
  {
   "cell_type": "code",
   "execution_count": 35,
   "metadata": {
    "ExecuteTime": {
     "end_time": "2021-07-29T09:26:59.977134Z",
     "start_time": "2021-07-29T09:26:59.964320Z"
    }
   },
   "outputs": [
    {
     "data": {
      "text/plain": [
       "(2, 3)"
      ]
     },
     "execution_count": 35,
     "metadata": {},
     "output_type": "execute_result"
    }
   ],
   "source": [
    "A.shape"
   ]
  },
  {
   "cell_type": "code",
   "execution_count": 36,
   "metadata": {
    "ExecuteTime": {
     "end_time": "2021-07-29T09:26:59.991159Z",
     "start_time": "2021-07-29T09:26:59.983446Z"
    }
   },
   "outputs": [
    {
     "data": {
      "text/plain": [
       "3"
      ]
     },
     "execution_count": 36,
     "metadata": {},
     "output_type": "execute_result"
    }
   ],
   "source": [
    "a.size"
   ]
  },
  {
   "cell_type": "code",
   "execution_count": 37,
   "metadata": {
    "ExecuteTime": {
     "end_time": "2021-07-29T09:27:00.000254Z",
     "start_time": "2021-07-29T09:26:59.993778Z"
    }
   },
   "outputs": [
    {
     "data": {
      "text/plain": [
       "6"
      ]
     },
     "execution_count": 37,
     "metadata": {},
     "output_type": "execute_result"
    }
   ],
   "source": [
    "A.size"
   ]
  },
  {
   "cell_type": "markdown",
   "metadata": {},
   "source": [
    "### Array Creation Routines\n",
    "Aside from casting other structures such as list as arrays using np.array(), Numpy also have ways to generate commonly used structures."
   ]
  },
  {
   "cell_type": "code",
   "execution_count": 38,
   "metadata": {
    "ExecuteTime": {
     "end_time": "2021-07-29T09:27:00.009643Z",
     "start_time": "2021-07-29T09:27:00.003708Z"
    }
   },
   "outputs": [
    {
     "data": {
      "text/plain": [
       "array([0, 1, 2, 3, 4, 5, 6, 7, 8, 9])"
      ]
     },
     "execution_count": 38,
     "metadata": {},
     "output_type": "execute_result"
    }
   ],
   "source": [
    "np.arange(10)"
   ]
  },
  {
   "cell_type": "code",
   "execution_count": 39,
   "metadata": {
    "ExecuteTime": {
     "end_time": "2021-07-29T09:27:00.019494Z",
     "start_time": "2021-07-29T09:27:00.012868Z"
    }
   },
   "outputs": [
    {
     "data": {
      "text/plain": [
       "array([[1., 0., 0.],\n",
       "       [0., 1., 0.],\n",
       "       [0., 0., 1.]])"
      ]
     },
     "execution_count": 39,
     "metadata": {},
     "output_type": "execute_result"
    }
   ],
   "source": [
    "I = np.eye(3)\n",
    "I"
   ]
  },
  {
   "cell_type": "code",
   "execution_count": 40,
   "metadata": {
    "ExecuteTime": {
     "end_time": "2021-07-29T09:27:00.030676Z",
     "start_time": "2021-07-29T09:27:00.023904Z"
    }
   },
   "outputs": [
    {
     "data": {
      "text/plain": [
       "array([[1., 1., 1., 1.],\n",
       "       [1., 1., 1., 1.],\n",
       "       [1., 1., 1., 1.],\n",
       "       [1., 1., 1., 1.]])"
      ]
     },
     "execution_count": 40,
     "metadata": {},
     "output_type": "execute_result"
    }
   ],
   "source": [
    "ones = np.ones((4, 4))\n",
    "ones"
   ]
  },
  {
   "cell_type": "code",
   "execution_count": 41,
   "metadata": {
    "ExecuteTime": {
     "end_time": "2021-07-29T09:27:00.044068Z",
     "start_time": "2021-07-29T09:27:00.033421Z"
    }
   },
   "outputs": [
    {
     "data": {
      "text/plain": [
       "array([[0., 0., 0.],\n",
       "       [0., 0., 0.],\n",
       "       [0., 0., 0.],\n",
       "       [0., 0., 0.]])"
      ]
     },
     "execution_count": 41,
     "metadata": {},
     "output_type": "execute_result"
    }
   ],
   "source": [
    "zeros = np.zeros((4, 3))\n",
    "zeros"
   ]
  },
  {
   "cell_type": "markdown",
   "metadata": {},
   "source": [
    "<div class=\"alert alert-danger\">\n",
    "    Note: Elements in a numpy array must have a uniform data type (all ints, all floats, etc.).\n",
    "</div>"
   ]
  },
  {
   "cell_type": "code",
   "execution_count": 42,
   "metadata": {
    "ExecuteTime": {
     "end_time": "2021-07-29T09:27:00.054785Z",
     "start_time": "2021-07-29T09:27:00.050505Z"
    }
   },
   "outputs": [],
   "source": [
    "# to change data types, you can use the astype() method"
   ]
  },
  {
   "cell_type": "code",
   "execution_count": 43,
   "metadata": {
    "ExecuteTime": {
     "end_time": "2021-07-29T09:27:00.067844Z",
     "start_time": "2021-07-29T09:27:00.058661Z"
    }
   },
   "outputs": [
    {
     "data": {
      "text/plain": [
       "dtype('float64')"
      ]
     },
     "execution_count": 43,
     "metadata": {},
     "output_type": "execute_result"
    }
   ],
   "source": [
    "I.dtype"
   ]
  },
  {
   "cell_type": "code",
   "execution_count": 44,
   "metadata": {
    "ExecuteTime": {
     "end_time": "2021-07-29T09:27:00.081521Z",
     "start_time": "2021-07-29T09:27:00.073069Z"
    }
   },
   "outputs": [
    {
     "data": {
      "text/plain": [
       "array([[1, 0, 0],\n",
       "       [0, 1, 0],\n",
       "       [0, 0, 1]])"
      ]
     },
     "execution_count": 44,
     "metadata": {},
     "output_type": "execute_result"
    }
   ],
   "source": [
    "I.astype(int)"
   ]
  },
  {
   "cell_type": "markdown",
   "metadata": {},
   "source": [
    "You can also get the **diagonal**, **lower-triangular portion**, and **upper-triangular portion** of a matrix."
   ]
  },
  {
   "cell_type": "code",
   "execution_count": 45,
   "metadata": {
    "ExecuteTime": {
     "end_time": "2021-07-29T09:27:00.091457Z",
     "start_time": "2021-07-29T09:27:00.085602Z"
    }
   },
   "outputs": [
    {
     "data": {
      "text/plain": [
       "array([[1., 1., 1., 1.],\n",
       "       [1., 1., 1., 1.],\n",
       "       [1., 1., 1., 1.],\n",
       "       [1., 1., 1., 1.]])"
      ]
     },
     "execution_count": 45,
     "metadata": {},
     "output_type": "execute_result"
    }
   ],
   "source": [
    "ones"
   ]
  },
  {
   "cell_type": "code",
   "execution_count": 46,
   "metadata": {
    "ExecuteTime": {
     "end_time": "2021-07-29T09:27:00.101839Z",
     "start_time": "2021-07-29T09:27:00.095400Z"
    }
   },
   "outputs": [
    {
     "data": {
      "text/plain": [
       "array([[1., 1., 1., 1.],\n",
       "       [0., 1., 1., 1.],\n",
       "       [0., 0., 1., 1.],\n",
       "       [0., 0., 0., 1.]])"
      ]
     },
     "execution_count": 46,
     "metadata": {},
     "output_type": "execute_result"
    }
   ],
   "source": [
    "np.triu(ones)"
   ]
  },
  {
   "cell_type": "code",
   "execution_count": 47,
   "metadata": {
    "ExecuteTime": {
     "end_time": "2021-07-29T09:27:00.114975Z",
     "start_time": "2021-07-29T09:27:00.105483Z"
    }
   },
   "outputs": [
    {
     "data": {
      "text/plain": [
       "array([[1., 0., 0., 0.],\n",
       "       [1., 1., 0., 0.],\n",
       "       [1., 1., 1., 0.],\n",
       "       [1., 1., 1., 1.]])"
      ]
     },
     "execution_count": 47,
     "metadata": {},
     "output_type": "execute_result"
    }
   ],
   "source": [
    "np.tril(ones)"
   ]
  },
  {
   "cell_type": "code",
   "execution_count": 48,
   "metadata": {
    "ExecuteTime": {
     "end_time": "2021-07-29T09:27:00.135160Z",
     "start_time": "2021-07-29T09:27:00.127121Z"
    }
   },
   "outputs": [
    {
     "data": {
      "text/plain": [
       "array([1., 1., 1., 1.])"
      ]
     },
     "execution_count": 48,
     "metadata": {},
     "output_type": "execute_result"
    }
   ],
   "source": [
    "np.diag(ones)"
   ]
  },
  {
   "cell_type": "markdown",
   "metadata": {},
   "source": [
    "<div class=\"alert alert-success\">\n",
    "    Create the following matrices below without using np.array()\n",
    "</div>"
   ]
  },
  {
   "cell_type": "code",
   "execution_count": 49,
   "metadata": {
    "ExecuteTime": {
     "end_time": "2021-07-29T09:27:00.151438Z",
     "start_time": "2021-07-29T09:27:00.143361Z"
    }
   },
   "outputs": [
    {
     "data": {
      "text/plain": [
       "array([[1, 1, 1],\n",
       "       [0, 1, 1],\n",
       "       [0, 0, 1]])"
      ]
     },
     "execution_count": 49,
     "metadata": {},
     "output_type": "execute_result"
    }
   ],
   "source": [
    "np.array([[1, 1, 1], [0, 1, 1], [0, 0, 1]])"
   ]
  },
  {
   "cell_type": "code",
   "execution_count": 50,
   "metadata": {
    "ExecuteTime": {
     "end_time": "2021-07-29T09:27:00.164029Z",
     "start_time": "2021-07-29T09:27:00.157032Z"
    }
   },
   "outputs": [
    {
     "data": {
      "text/plain": [
       "array([[-2,  3,  3],\n",
       "       [-2, -2,  3],\n",
       "       [-2, -2, -2]])"
      ]
     },
     "execution_count": 50,
     "metadata": {},
     "output_type": "execute_result"
    }
   ],
   "source": [
    "np.array([[-2, 3, 3], [-2, -2, 3], [-2, -2, -2]])"
   ]
  },
  {
   "cell_type": "markdown",
   "metadata": {},
   "source": [
    "### Slicing and Indexing Arrays\n",
    "\n",
    "#### Indexing 1-D arrays\n",
    "Indexing 1-D arrays is the same syntax as in lists. That is, it follows the following format:\n",
    "\n",
    "`x[start:stop:step]`"
   ]
  },
  {
   "cell_type": "code",
   "execution_count": 51,
   "metadata": {
    "ExecuteTime": {
     "end_time": "2021-07-29T09:27:00.176986Z",
     "start_time": "2021-07-29T09:27:00.169676Z"
    }
   },
   "outputs": [
    {
     "data": {
      "text/plain": [
       "array([0, 1, 2, 3, 4, 5, 6, 7, 8, 9])"
      ]
     },
     "execution_count": 51,
     "metadata": {},
     "output_type": "execute_result"
    }
   ],
   "source": [
    "# example\n",
    "x = np.arange(10)\n",
    "x"
   ]
  },
  {
   "cell_type": "code",
   "execution_count": 52,
   "metadata": {
    "ExecuteTime": {
     "end_time": "2021-07-29T09:27:00.187858Z",
     "start_time": "2021-07-29T09:27:00.181166Z"
    }
   },
   "outputs": [
    {
     "data": {
      "text/plain": [
       "3"
      ]
     },
     "execution_count": 52,
     "metadata": {},
     "output_type": "execute_result"
    }
   ],
   "source": [
    "# access an element by indexing\n",
    "x[3]"
   ]
  },
  {
   "cell_type": "code",
   "execution_count": 53,
   "metadata": {
    "ExecuteTime": {
     "end_time": "2021-07-29T09:27:00.196974Z",
     "start_time": "2021-07-29T09:27:00.190670Z"
    }
   },
   "outputs": [
    {
     "data": {
      "text/plain": [
       "array([0, 1, 2, 3])"
      ]
     },
     "execution_count": 53,
     "metadata": {},
     "output_type": "execute_result"
    }
   ],
   "source": [
    "# access the first 4 elements\n",
    "x[0:4]"
   ]
  },
  {
   "cell_type": "code",
   "execution_count": 54,
   "metadata": {
    "ExecuteTime": {
     "end_time": "2021-07-29T09:27:00.205967Z",
     "start_time": "2021-07-29T09:27:00.200221Z"
    }
   },
   "outputs": [
    {
     "data": {
      "text/plain": [
       "array([0, 1, 2, 3])"
      ]
     },
     "execution_count": 54,
     "metadata": {},
     "output_type": "execute_result"
    }
   ],
   "source": [
    "# alternative\n",
    "x[:4]"
   ]
  },
  {
   "cell_type": "code",
   "execution_count": 55,
   "metadata": {
    "ExecuteTime": {
     "end_time": "2021-07-29T09:27:00.215518Z",
     "start_time": "2021-07-29T09:27:00.209624Z"
    }
   },
   "outputs": [
    {
     "data": {
      "text/plain": [
       "array([3, 4, 5, 6, 7])"
      ]
     },
     "execution_count": 55,
     "metadata": {},
     "output_type": "execute_result"
    }
   ],
   "source": [
    "# getting elements from 3 to 9\n",
    "x[3:8]"
   ]
  },
  {
   "cell_type": "markdown",
   "metadata": {},
   "source": [
    "#### Indexing 2-D arrays\n",
    "\n",
    "Correspondingly, for 2D arrays the following are the syntax:"
   ]
  },
  {
   "cell_type": "code",
   "execution_count": 56,
   "metadata": {
    "ExecuteTime": {
     "end_time": "2021-07-29T09:27:00.225984Z",
     "start_time": "2021-07-29T09:27:00.219921Z"
    }
   },
   "outputs": [
    {
     "data": {
      "text/plain": [
       "array([[1, 2, 3, 4],\n",
       "       [5, 6, 7, 8]])"
      ]
     },
     "execution_count": 56,
     "metadata": {},
     "output_type": "execute_result"
    }
   ],
   "source": [
    "# create a sample 2D array\n",
    "A = np.array([[1, 2, 3, 4], [5, 6, 7, 8]])\n",
    "A"
   ]
  },
  {
   "cell_type": "code",
   "execution_count": 57,
   "metadata": {
    "ExecuteTime": {
     "end_time": "2021-07-29T09:27:00.235950Z",
     "start_time": "2021-07-29T09:27:00.230202Z"
    }
   },
   "outputs": [
    {
     "data": {
      "text/plain": [
       "array([1, 2, 3, 4])"
      ]
     },
     "execution_count": 57,
     "metadata": {},
     "output_type": "execute_result"
    }
   ],
   "source": [
    "# access the first row\n",
    "A[0]"
   ]
  },
  {
   "cell_type": "code",
   "execution_count": 58,
   "metadata": {
    "ExecuteTime": {
     "end_time": "2021-07-29T09:27:00.244269Z",
     "start_time": "2021-07-29T09:27:00.239426Z"
    }
   },
   "outputs": [
    {
     "data": {
      "text/plain": [
       "array([5, 6, 7, 8])"
      ]
     },
     "execution_count": 58,
     "metadata": {},
     "output_type": "execute_result"
    }
   ],
   "source": [
    "# access the second row\n",
    "A[1]"
   ]
  },
  {
   "cell_type": "code",
   "execution_count": 59,
   "metadata": {
    "ExecuteTime": {
     "end_time": "2021-07-29T09:27:24.728632Z",
     "start_time": "2021-07-29T09:27:24.718450Z"
    }
   },
   "outputs": [
    {
     "ename": "IndexError",
     "evalue": "index 2 is out of bounds for axis 0 with size 2",
     "output_type": "error",
     "traceback": [
      "\u001b[0;31m---------------------------------------------------------------------------\u001b[0m",
      "\u001b[0;31mIndexError\u001b[0m                                Traceback (most recent call last)",
      "\u001b[0;32m/var/folders/sd/1vc_q83x5rn9jjrd0x47_cc00000gn/T/ipykernel_66251/119407165.py\u001b[0m in \u001b[0;36m<module>\u001b[0;34m\u001b[0m\n\u001b[1;32m      1\u001b[0m \u001b[0;31m# there is no third row\u001b[0m\u001b[0;34m\u001b[0m\u001b[0;34m\u001b[0m\u001b[0m\n\u001b[0;32m----> 2\u001b[0;31m \u001b[0mA\u001b[0m\u001b[0;34m[\u001b[0m\u001b[0;36m2\u001b[0m\u001b[0;34m]\u001b[0m\u001b[0;34m\u001b[0m\u001b[0;34m\u001b[0m\u001b[0m\n\u001b[0m",
      "\u001b[0;31mIndexError\u001b[0m: index 2 is out of bounds for axis 0 with size 2"
     ]
    }
   ],
   "source": [
    "# there is no third row\n",
    "A[2]"
   ]
  },
  {
   "cell_type": "markdown",
   "metadata": {},
   "source": [
    "When we try to get an index which is beyond the dimensions of our array, we get the error above."
   ]
  },
  {
   "cell_type": "code",
   "execution_count": null,
   "metadata": {
    "ExecuteTime": {
     "end_time": "2021-07-29T09:27:24.732721Z",
     "start_time": "2021-07-29T09:27:24.719Z"
    }
   },
   "outputs": [],
   "source": [
    "# accessing column 0\n",
    "A[:, 0]"
   ]
  },
  {
   "cell_type": "code",
   "execution_count": null,
   "metadata": {
    "ExecuteTime": {
     "end_time": "2021-07-29T09:27:24.734927Z",
     "start_time": "2021-07-29T09:27:24.722Z"
    }
   },
   "outputs": [],
   "source": [
    "# accessing column 1\n",
    "A[:, 1]"
   ]
  },
  {
   "cell_type": "code",
   "execution_count": null,
   "metadata": {
    "ExecuteTime": {
     "end_time": "2021-07-29T09:27:24.737175Z",
     "start_time": "2021-07-29T09:27:24.725Z"
    }
   },
   "outputs": [],
   "source": [
    "# accessing element in row 1, column 2\n",
    "A[1, 2]"
   ]
  },
  {
   "cell_type": "code",
   "execution_count": null,
   "metadata": {
    "ExecuteTime": {
     "end_time": "2021-07-29T09:27:24.739240Z",
     "start_time": "2021-07-29T09:27:24.727Z"
    }
   },
   "outputs": [],
   "source": [
    "# accessing all rows from column 2 onwards\n",
    "A[:, 2:]"
   ]
  },
  {
   "cell_type": "markdown",
   "metadata": {},
   "source": [
    "### Shaping Arrays\n",
    "\n",
    "You can reshape numpy arrays using the `reshape()` array method."
   ]
  },
  {
   "cell_type": "code",
   "execution_count": null,
   "metadata": {
    "ExecuteTime": {
     "end_time": "2021-07-29T09:27:24.848815Z",
     "start_time": "2021-07-29T09:27:24.842625Z"
    }
   },
   "outputs": [],
   "source": [
    "A"
   ]
  },
  {
   "cell_type": "code",
   "execution_count": null,
   "metadata": {
    "ExecuteTime": {
     "end_time": "2021-07-29T09:27:24.856114Z",
     "start_time": "2021-07-29T09:27:24.851365Z"
    }
   },
   "outputs": [],
   "source": [
    "A.shape"
   ]
  },
  {
   "cell_type": "code",
   "execution_count": null,
   "metadata": {
    "ExecuteTime": {
     "end_time": "2021-07-29T09:27:24.863993Z",
     "start_time": "2021-07-29T09:27:24.859160Z"
    }
   },
   "outputs": [],
   "source": [
    "# reshape into 1 x 8\n",
    "A.reshape((1, 8))"
   ]
  },
  {
   "cell_type": "code",
   "execution_count": null,
   "metadata": {
    "ExecuteTime": {
     "end_time": "2021-07-29T09:27:24.871285Z",
     "start_time": "2021-07-29T09:27:24.866112Z"
    }
   },
   "outputs": [],
   "source": [
    "# reshape into 1 x 8\n",
    "A.reshape((8, 1))"
   ]
  },
  {
   "cell_type": "code",
   "execution_count": null,
   "metadata": {
    "ExecuteTime": {
     "end_time": "2021-07-29T09:27:24.882065Z",
     "start_time": "2021-07-29T09:27:24.875061Z"
    }
   },
   "outputs": [],
   "source": [
    "A.reshape((4, 2))"
   ]
  },
  {
   "cell_type": "markdown",
   "metadata": {},
   "source": [
    "### Flatten\n",
    "You can convert a 2-D array into a 1-D array using the `ravel()` method"
   ]
  },
  {
   "cell_type": "code",
   "execution_count": null,
   "metadata": {
    "ExecuteTime": {
     "end_time": "2021-07-29T09:27:24.890672Z",
     "start_time": "2021-07-29T09:27:24.884309Z"
    }
   },
   "outputs": [],
   "source": [
    "A.ravel()"
   ]
  },
  {
   "cell_type": "code",
   "execution_count": null,
   "metadata": {
    "ExecuteTime": {
     "end_time": "2021-07-29T09:27:24.901985Z",
     "start_time": "2021-07-29T09:27:24.894300Z"
    }
   },
   "outputs": [],
   "source": [
    "A.reshape(8)"
   ]
  },
  {
   "cell_type": "markdown",
   "metadata": {},
   "source": [
    "## Numerical Computing With Numpy\n",
    "\n",
    "### Universal Functions\n",
    "A *universal function* is one that operates in the entire array in an element-wise manner.\n",
    "\n",
    "np.exp() / np.log - # element-wise exponentiation and natural log\n",
    "np.minimum() / np.maximum() - # element-wise minimum and maximum of two arrays\n",
    "np.sqrt() - # positive square root element-wise\n",
    "np.sin(), np.cos(), np.tan(), etc. - # element-wise trigonometric operations"
   ]
  },
  {
   "cell_type": "code",
   "execution_count": null,
   "metadata": {
    "ExecuteTime": {
     "end_time": "2021-07-29T09:27:24.912288Z",
     "start_time": "2021-07-29T09:27:24.905256Z"
    }
   },
   "outputs": [],
   "source": [
    "# calculate the absolute value element-wise\n",
    "np.abs(A)"
   ]
  },
  {
   "cell_type": "code",
   "execution_count": null,
   "metadata": {
    "ExecuteTime": {
     "end_time": "2021-07-29T09:27:24.920639Z",
     "start_time": "2021-07-29T09:27:24.914782Z"
    }
   },
   "outputs": [],
   "source": [
    "# calculate element-wise exponential\n",
    "np.exp(A)"
   ]
  },
  {
   "cell_type": "code",
   "execution_count": null,
   "metadata": {
    "ExecuteTime": {
     "end_time": "2021-07-29T09:27:24.929390Z",
     "start_time": "2021-07-29T09:27:24.924078Z"
    }
   },
   "outputs": [],
   "source": [
    "np.log(A)"
   ]
  },
  {
   "cell_type": "code",
   "execution_count": null,
   "metadata": {
    "ExecuteTime": {
     "end_time": "2021-07-29T09:27:24.939680Z",
     "start_time": "2021-07-29T09:27:24.933992Z"
    }
   },
   "outputs": [],
   "source": [
    "np.minimum(np.ones((3, 3)), np.eye(3))"
   ]
  },
  {
   "cell_type": "code",
   "execution_count": null,
   "metadata": {
    "ExecuteTime": {
     "end_time": "2021-07-29T09:27:24.949662Z",
     "start_time": "2021-07-29T09:27:24.943636Z"
    }
   },
   "outputs": [],
   "source": [
    "np.maximum(np.ones((3, 3)), np.eye(3))"
   ]
  },
  {
   "cell_type": "code",
   "execution_count": null,
   "metadata": {
    "ExecuteTime": {
     "end_time": "2021-07-29T09:27:24.960148Z",
     "start_time": "2021-07-29T09:27:24.954165Z"
    }
   },
   "outputs": [],
   "source": [
    "np.sqrt(A)"
   ]
  },
  {
   "cell_type": "code",
   "execution_count": null,
   "metadata": {
    "ExecuteTime": {
     "end_time": "2021-07-29T09:27:24.969408Z",
     "start_time": "2021-07-29T09:27:24.964005Z"
    }
   },
   "outputs": [],
   "source": [
    "# trigonometric functions\n",
    "np.sin(A)"
   ]
  },
  {
   "cell_type": "markdown",
   "metadata": {},
   "source": [
    "<div class=\"alert alert-info\">\n",
    "    Tip: Always use universal numpy functions when working with arrays rather than using the math package.\n",
    "</div>"
   ]
  },
  {
   "cell_type": "markdown",
   "metadata": {},
   "source": [
    "### Other Useful Array Methods"
   ]
  },
  {
   "cell_type": "code",
   "execution_count": null,
   "metadata": {
    "ExecuteTime": {
     "end_time": "2021-07-29T09:27:24.978058Z",
     "start_time": "2021-07-29T09:27:24.972964Z"
    }
   },
   "outputs": [],
   "source": [
    "A"
   ]
  },
  {
   "cell_type": "code",
   "execution_count": null,
   "metadata": {
    "ExecuteTime": {
     "end_time": "2021-07-29T09:27:24.986987Z",
     "start_time": "2021-07-29T09:27:24.981777Z"
    }
   },
   "outputs": [],
   "source": [
    "np.all(A > 0)"
   ]
  },
  {
   "cell_type": "code",
   "execution_count": null,
   "metadata": {
    "ExecuteTime": {
     "end_time": "2021-07-29T09:27:24.995487Z",
     "start_time": "2021-07-29T09:27:24.990252Z"
    }
   },
   "outputs": [],
   "source": [
    "np.any(A <= 0)"
   ]
  },
  {
   "cell_type": "code",
   "execution_count": null,
   "metadata": {
    "ExecuteTime": {
     "end_time": "2021-07-29T09:27:25.009267Z",
     "start_time": "2021-07-29T09:27:25.002688Z"
    }
   },
   "outputs": [],
   "source": [
    "A.max()"
   ]
  },
  {
   "cell_type": "code",
   "execution_count": null,
   "metadata": {
    "ExecuteTime": {
     "end_time": "2021-07-29T09:27:25.017975Z",
     "start_time": "2021-07-29T09:27:25.011784Z"
    }
   },
   "outputs": [],
   "source": [
    "A.max(axis=1)"
   ]
  },
  {
   "cell_type": "code",
   "execution_count": null,
   "metadata": {
    "ExecuteTime": {
     "end_time": "2021-07-29T09:27:25.027437Z",
     "start_time": "2021-07-29T09:27:25.021074Z"
    }
   },
   "outputs": [],
   "source": [
    "A.max(axis=0)"
   ]
  },
  {
   "cell_type": "code",
   "execution_count": null,
   "metadata": {
    "ExecuteTime": {
     "end_time": "2021-07-29T09:27:25.036976Z",
     "start_time": "2021-07-29T09:27:25.030722Z"
    }
   },
   "outputs": [],
   "source": [
    "A.min()"
   ]
  },
  {
   "cell_type": "code",
   "execution_count": null,
   "metadata": {
    "ExecuteTime": {
     "end_time": "2021-07-29T09:27:25.047302Z",
     "start_time": "2021-07-29T09:27:25.039925Z"
    }
   },
   "outputs": [],
   "source": [
    "A.min(axis=1)"
   ]
  },
  {
   "cell_type": "code",
   "execution_count": null,
   "metadata": {
    "ExecuteTime": {
     "end_time": "2021-07-29T09:27:25.058769Z",
     "start_time": "2021-07-29T09:27:25.051771Z"
    }
   },
   "outputs": [],
   "source": [
    "A.min(axis=0)"
   ]
  },
  {
   "cell_type": "code",
   "execution_count": null,
   "metadata": {
    "ExecuteTime": {
     "end_time": "2021-07-29T09:27:25.073410Z",
     "start_time": "2021-07-29T09:27:25.065231Z"
    }
   },
   "outputs": [],
   "source": [
    "A.mean()"
   ]
  },
  {
   "cell_type": "code",
   "execution_count": null,
   "metadata": {
    "ExecuteTime": {
     "end_time": "2021-07-29T09:27:25.084721Z",
     "start_time": "2021-07-29T09:27:25.077523Z"
    }
   },
   "outputs": [],
   "source": [
    "A.mean(axis=1)"
   ]
  },
  {
   "cell_type": "code",
   "execution_count": null,
   "metadata": {
    "ExecuteTime": {
     "end_time": "2021-07-29T09:27:25.094313Z",
     "start_time": "2021-07-29T09:27:25.087728Z"
    }
   },
   "outputs": [],
   "source": [
    "A.mean(axis=0)"
   ]
  },
  {
   "cell_type": "code",
   "execution_count": null,
   "metadata": {
    "ExecuteTime": {
     "end_time": "2021-07-29T09:27:25.110478Z",
     "start_time": "2021-07-29T09:27:25.101171Z"
    }
   },
   "outputs": [],
   "source": [
    "A.std()"
   ]
  },
  {
   "cell_type": "code",
   "execution_count": null,
   "metadata": {
    "ExecuteTime": {
     "end_time": "2021-07-29T09:27:25.122475Z",
     "start_time": "2021-07-29T09:27:25.115665Z"
    }
   },
   "outputs": [],
   "source": [
    "A.std(axis=1)"
   ]
  },
  {
   "cell_type": "code",
   "execution_count": null,
   "metadata": {
    "ExecuteTime": {
     "end_time": "2021-07-29T09:27:25.129040Z",
     "start_time": "2021-07-29T09:27:25.124995Z"
    }
   },
   "outputs": [],
   "source": [
    "A.std(axis=0)"
   ]
  },
  {
   "cell_type": "markdown",
   "metadata": {},
   "source": [
    "### Generating Random Numbers"
   ]
  },
  {
   "cell_type": "code",
   "execution_count": null,
   "metadata": {
    "ExecuteTime": {
     "end_time": "2021-07-29T09:27:25.136913Z",
     "start_time": "2021-07-29T09:27:25.131705Z"
    },
    "scrolled": true
   },
   "outputs": [],
   "source": [
    "# generate random number from standard normal distribution\n",
    "M_random = np.random.randn(3, 4)\n",
    "M_random"
   ]
  },
  {
   "cell_type": "markdown",
   "metadata": {},
   "source": [
    "## Basic Transformations\n",
    "\n",
    "To demonstrate basic transformations, let's first plot a unit circle which is a matrix represented by a 2 x 200 numpy array s.t. \n",
    "\n",
    "$x = \\cos(\\theta)$,\n",
    "$y = \\sin(\\theta)$, and\n",
    "$\\theta \\in [0, 2\\pi]$"
   ]
  },
  {
   "cell_type": "code",
   "execution_count": null,
   "metadata": {
    "ExecuteTime": {
     "end_time": "2021-07-29T09:27:25.143214Z",
     "start_time": "2021-07-29T09:27:25.139615Z"
    }
   },
   "outputs": [],
   "source": [
    "theta = 2 * np.pi * (np.arange(0, 200) / 200)\n",
    "x = np.cos(theta)\n",
    "y = np.sin(theta)"
   ]
  },
  {
   "cell_type": "markdown",
   "metadata": {},
   "source": [
    "The most basic way of plotting in python is using the `matplotlib` package. The simplest way to create a scatter plot of points is shown below:"
   ]
  },
  {
   "cell_type": "code",
   "execution_count": null,
   "metadata": {
    "ExecuteTime": {
     "end_time": "2021-07-29T09:27:26.665913Z",
     "start_time": "2021-07-29T09:27:25.146169Z"
    }
   },
   "outputs": [],
   "source": [
    "import matplotlib.pyplot as plt # import plotting module\n",
    "\n",
    "# ensure that your plot stays in the jupyter notebook instead of popping up\n",
    "%matplotlib inline"
   ]
  },
  {
   "cell_type": "code",
   "execution_count": null,
   "metadata": {
    "ExecuteTime": {
     "end_time": "2021-07-29T09:27:26.990922Z",
     "start_time": "2021-07-29T09:27:26.671355Z"
    }
   },
   "outputs": [],
   "source": [
    "plt.plot(x, y)\n",
    "plt.axis('equal')"
   ]
  },
  {
   "cell_type": "markdown",
   "metadata": {},
   "source": [
    "Next, we also need to define basis vectors so we can observe rotations."
   ]
  },
  {
   "cell_type": "code",
   "execution_count": null,
   "metadata": {
    "ExecuteTime": {
     "end_time": "2021-07-29T09:27:27.167247Z",
     "start_time": "2021-07-29T09:27:26.995872Z"
    }
   },
   "outputs": [],
   "source": [
    "x_b1 = [0, 0]\n",
    "y_b1 = [0, 1]\n",
    "\n",
    "x_b2 = [0, 1]\n",
    "y_b2 = [0, 0]\n",
    "\n",
    "plt.plot(x_b1, y_b1, color='k')\n",
    "plt.plot(x_b2, y_b2, color='k')\n",
    "plt.axis('equal')"
   ]
  },
  {
   "cell_type": "code",
   "execution_count": null,
   "metadata": {
    "ExecuteTime": {
     "end_time": "2021-07-29T09:27:27.173027Z",
     "start_time": "2021-07-29T09:27:27.169174Z"
    }
   },
   "outputs": [],
   "source": [
    "# combining both\n",
    "def plot(x_circle, y_circle, x_b1, y_b1, x_b2, y_b2):\n",
    "    plt.plot(x_circle, y_circle)\n",
    "    plt.plot(x_b1, y_b1, color='k')\n",
    "    plt.plot(x_b2, y_b2, color='k')\n",
    "    plt.axis('equal')"
   ]
  },
  {
   "cell_type": "code",
   "execution_count": null,
   "metadata": {
    "ExecuteTime": {
     "end_time": "2021-07-29T09:27:27.384333Z",
     "start_time": "2021-07-29T09:27:27.175799Z"
    }
   },
   "outputs": [],
   "source": [
    "plot(x, y, x_b1, y_b1, x_b2, y_b2)"
   ]
  },
  {
   "cell_type": "markdown",
   "metadata": {},
   "source": [
    "### Stretch\n",
    "\n",
    "```Python\n",
    "np.array([[a, 0],\n",
    "          [0, b]])\n",
    "```"
   ]
  },
  {
   "cell_type": "code",
   "execution_count": null,
   "metadata": {
    "ExecuteTime": {
     "end_time": "2021-07-29T09:27:27.392228Z",
     "start_time": "2021-07-29T09:27:27.386970Z"
    }
   },
   "outputs": [],
   "source": [
    "def stretch(A, a, b):\n",
    "    s = np.array([[a, 0], [0, b]])\n",
    "    return s.dot(A)"
   ]
  },
  {
   "cell_type": "code",
   "execution_count": null,
   "metadata": {
    "ExecuteTime": {
     "end_time": "2021-07-29T09:27:27.401421Z",
     "start_time": "2021-07-29T09:27:27.394797Z"
    }
   },
   "outputs": [],
   "source": [
    "circle = np.array([x, y])\n",
    "circle.shape"
   ]
  },
  {
   "cell_type": "code",
   "execution_count": null,
   "metadata": {
    "ExecuteTime": {
     "end_time": "2021-07-29T09:27:27.408375Z",
     "start_time": "2021-07-29T09:27:27.403856Z"
    }
   },
   "outputs": [],
   "source": [
    "basis1 = np.array([x_b1, y_b1])\n",
    "basis2 = np.array([x_b2, y_b2])"
   ]
  },
  {
   "cell_type": "code",
   "execution_count": null,
   "metadata": {
    "ExecuteTime": {
     "end_time": "2021-07-29T09:27:27.418246Z",
     "start_time": "2021-07-29T09:27:27.413032Z"
    }
   },
   "outputs": [],
   "source": [
    "circle_s = stretch(circle, 3, 2)\n",
    "basis1_s = stretch(basis1, 3, 2)\n",
    "basis2_s = stretch(basis2, 3, 2)"
   ]
  },
  {
   "cell_type": "code",
   "execution_count": null,
   "metadata": {
    "ExecuteTime": {
     "end_time": "2021-07-29T09:27:27.610236Z",
     "start_time": "2021-07-29T09:27:27.422950Z"
    }
   },
   "outputs": [],
   "source": [
    "plot(circle_s[0], circle_s[1],\n",
    "     basis1_s[0], basis1_s[1],\n",
    "     basis2_s[0], basis2_s[1])"
   ]
  },
  {
   "cell_type": "markdown",
   "metadata": {},
   "source": [
    "### Shear\n",
    "\n",
    "Horizontal shear\n",
    "```Python\n",
    "np.array([[1, a],\n",
    "          [0, 1]])\n",
    "```\n",
    "\n",
    "Vertical shear\n",
    "```Python\n",
    "np.array([[1, 0],\n",
    "          [b, 1]])\n",
    "```"
   ]
  },
  {
   "cell_type": "code",
   "execution_count": null,
   "metadata": {
    "ExecuteTime": {
     "end_time": "2021-07-29T09:27:27.620775Z",
     "start_time": "2021-07-29T09:27:27.617727Z"
    }
   },
   "outputs": [],
   "source": [
    "def hshear(A, a):\n",
    "    s = np.array([[1, a], [0, 1]])\n",
    "    return s.dot(A)"
   ]
  },
  {
   "cell_type": "code",
   "execution_count": null,
   "metadata": {
    "ExecuteTime": {
     "end_time": "2021-07-29T09:27:27.778420Z",
     "start_time": "2021-07-29T09:27:27.623868Z"
    }
   },
   "outputs": [],
   "source": [
    "circle_h = hshear(circle, 2)\n",
    "basis1_h = hshear(basis1, 2)\n",
    "basis2_h = hshear(basis2, 2)\n",
    "\n",
    "plot(circle_h[0], circle_h[1],\n",
    "     basis1_h[0], basis1_h[1],\n",
    "     basis2_h[0], basis2_h[1])"
   ]
  },
  {
   "cell_type": "code",
   "execution_count": null,
   "metadata": {
    "ExecuteTime": {
     "end_time": "2021-07-29T09:27:27.929625Z",
     "start_time": "2021-07-29T09:27:27.784496Z"
    }
   },
   "outputs": [],
   "source": [
    "def vshear(A, b):\n",
    "    s = np.array([[1, 0], [b, 1]])\n",
    "    return s.dot(A)\n",
    "\n",
    "circle_v = vshear(circle, 2)\n",
    "basis1_v = vshear(basis1, 2)\n",
    "basis2_v = vshear(basis2, 2)\n",
    "\n",
    "plot(circle_v[0], circle_v[1],\n",
    "     basis1_v[0], basis1_v[1],\n",
    "     basis2_v[0], basis2_v[1])"
   ]
  },
  {
   "cell_type": "markdown",
   "metadata": {},
   "source": [
    "### Reflection\n",
    "```Python\n",
    "(1/(a**2 + b**1)) * np.array([[a**2 - b**2, 2*a*b],\n",
    "                              [2*a*b, b**2 - a**2]])\n",
    "```"
   ]
  },
  {
   "cell_type": "code",
   "execution_count": null,
   "metadata": {
    "ExecuteTime": {
     "end_time": "2021-07-29T09:27:28.099459Z",
     "start_time": "2021-07-29T09:27:27.934773Z"
    },
    "scrolled": true
   },
   "outputs": [],
   "source": [
    "def reflection(A, a, b):\n",
    "    r = (1/(a**2 + b**1)) * np.array([[a**2 - b**2, 2*a*b],\n",
    "                              [2*a*b, b**2 - a**2]])\n",
    "    return r.dot(A)\n",
    "\n",
    "circle_r = reflection(circle, 1, 0)\n",
    "basis1_r = reflection(basis1, 1, 0)\n",
    "basis2_r = reflection(basis2, 1, 0)\n",
    "\n",
    "plot(circle_r[0], circle_r[1],\n",
    "     basis1_r[0], basis1_r[1],\n",
    "     basis2_r[0], basis2_r[1])"
   ]
  },
  {
   "cell_type": "markdown",
   "metadata": {},
   "source": [
    "### Rotation\n",
    "```Python\n",
    "np.array([[cos(theta), -sin(theta)],\n",
    "          [sin(theta), cos(theta)]])\n",
    "```"
   ]
  },
  {
   "cell_type": "code",
   "execution_count": null,
   "metadata": {
    "ExecuteTime": {
     "end_time": "2021-07-29T09:27:28.375189Z",
     "start_time": "2021-07-29T09:27:28.103293Z"
    }
   },
   "outputs": [],
   "source": [
    "def rotation(A, theta):\n",
    "    r = np.array([[np.cos(theta), -np.sin(theta)],\n",
    "                  [np.sin(theta), np.cos(theta)]])\n",
    "    return r.dot(A)\n",
    "\n",
    "circle_r = rotation(circle, np.pi / 4)\n",
    "basis1_r = rotation(basis1, np.pi / 4)\n",
    "basis2_r = rotation(basis2, np.pi / 4)\n",
    "\n",
    "plot(circle_r[0], circle_r[1],\n",
    "     basis1_r[0], basis1_r[1],\n",
    "     basis2_r[0], basis2_r[1])"
   ]
  },
  {
   "cell_type": "code",
   "execution_count": null,
   "metadata": {},
   "outputs": [],
   "source": []
  }
 ],
 "metadata": {
  "hide_input": false,
  "kernelspec": {
   "display_name": "Python 3 (ipykernel)",
   "language": "python",
   "name": "python3"
  },
  "language_info": {
   "codemirror_mode": {
    "name": "ipython",
    "version": 3
   },
   "file_extension": ".py",
   "mimetype": "text/x-python",
   "name": "python",
   "nbconvert_exporter": "python",
   "pygments_lexer": "ipython3",
   "version": "3.9.10"
  },
  "toc": {
   "base_numbering": 1,
   "nav_menu": {},
   "number_sections": true,
   "sideBar": true,
   "skip_h1_title": false,
   "title_cell": "Table of Contents",
   "title_sidebar": "Contents",
   "toc_cell": false,
   "toc_position": {},
   "toc_section_display": true,
   "toc_window_display": false
  }
 },
 "nbformat": 4,
 "nbformat_minor": 4
}
