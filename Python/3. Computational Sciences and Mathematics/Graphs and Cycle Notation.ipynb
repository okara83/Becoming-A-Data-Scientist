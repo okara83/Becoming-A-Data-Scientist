{
 "cells": [
  {
   "cell_type": "markdown",
   "metadata": {
    "colab_type": "text",
    "id": "d0D_PX3wdXVT"
   },
   "source": [
    "# Cycle Notation\n",
    "\n",
    "p1 = [0, 1, 2, 3, 4, 5, 6, 7]\n",
    "\n",
    "p2 = [5, 3, 7, 2, 1 6, 0, 4,]\n",
    "\n",
    "can be written as:\n",
    "\n",
    "(056) (13274)"
   ]
  },
  {
   "cell_type": "markdown",
   "metadata": {
    "colab_type": "text",
    "id": "deG4Rk_ecuzI"
   },
   "source": [
    "![alt text](https://upload.wikimedia.org/wikipedia/commons/thumb/8/86/Symmetric_group_4%3B_Cayley_graph_4%2C9%3B_numbers.svg/2000px-Symmetric_group_4%3B_Cayley_graph_4%2C9%3B_numbers.svg.png)"
   ]
  },
  {
   "cell_type": "code",
   "execution_count": null,
   "metadata": {
    "colab": {},
    "colab_type": "code",
    "id": "UhkpcnUgc-Dw"
   },
   "outputs": [],
   "source": []
  },
  {
   "cell_type": "markdown",
   "metadata": {
    "colab_type": "text",
    "id": "LzA6srFJfBBe"
   },
   "source": [
    "## Task\n",
    "\n",
    "**Write a function with one argument that takes a permutation the returns a list of cycles in disjoint cycle notation.**"
   ]
  },
  {
   "cell_type": "code",
   "execution_count": 2,
   "metadata": {
    "colab": {
     "base_uri": "https://localhost:8080/",
     "height": 34
    },
    "colab_type": "code",
    "id": "EvsNz8qxfOmd",
    "outputId": "e540a612-583e-4b39-a790-b2251530f920"
   },
   "outputs": [],
   "source": [
    "def table2cycle(perm):\n",
    "    \"\"\"convert table to a list of disjoint cycles\"\"\"\n",
    "    to_do = perm[:]  # numbers still to be processed\n",
    "    cycles = []  # eventually holds the list of cycles\n",
    "\n",
    "    while len(to_do) > 0:  # work still needs to be done\n",
    "        cycle = (\n",
    "            []\n",
    "        )  # stores the final list of cycles so it can be returned as a single variable at the end\n",
    "        image = to_do[0]  # pick a starting element for a new cycle\n",
    "\n",
    "        while not (image in cycle):\n",
    "            cycle.append(image)  # add an element  to curent cycle\n",
    "            to_do.remove(image)  # remove the element added from to_do list\n",
    "            image = perm[image]  # find next cycle entry\n",
    "\n",
    "        cycles.append(cycle)  # store complete cycle\n",
    "    return cycles  # return result"
   ]
  },
  {
   "cell_type": "code",
   "execution_count": 3,
   "metadata": {},
   "outputs": [
    {
     "data": {
      "text/plain": [
       "[[1, 2, 3, 0], [6, 4], [5]]"
      ]
     },
     "execution_count": 3,
     "metadata": {},
     "output_type": "execute_result"
    }
   ],
   "source": [
    "table2cycle([1, 2, 3, 0, 6, 5, 4])"
   ]
  },
  {
   "cell_type": "code",
   "execution_count": null,
   "metadata": {},
   "outputs": [],
   "source": []
  }
 ],
 "metadata": {
  "colab": {
   "collapsed_sections": [],
   "name": "CycleNotation.ipynb",
   "provenance": [],
   "version": "0.3.2"
  },
  "kernelspec": {
   "display_name": "Python 3 (ipykernel)",
   "language": "python",
   "name": "python3"
  },
  "language_info": {
   "codemirror_mode": {
    "name": "ipython",
    "version": 3
   },
   "file_extension": ".py",
   "mimetype": "text/x-python",
   "name": "python",
   "nbconvert_exporter": "python",
   "pygments_lexer": "ipython3",
   "version": "3.9.9"
  }
 },
 "nbformat": 4,
 "nbformat_minor": 1
}
