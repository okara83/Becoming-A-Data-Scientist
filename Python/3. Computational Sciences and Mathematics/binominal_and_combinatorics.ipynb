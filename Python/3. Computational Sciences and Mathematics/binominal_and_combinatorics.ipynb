{
 "cells": [
  {
   "cell_type": "code",
   "execution_count": 1,
   "id": "06be0da9",
   "metadata": {},
   "outputs": [],
   "source": [
    "from math import factorial"
   ]
  },
  {
   "cell_type": "markdown",
   "id": "58bff51d",
   "metadata": {},
   "source": [
    "The notation $ {n \\choose k}$ is convenient in handwriting but inconvenient for typewriters and computer terminals. The binomial coefficient is implemented in SciPy as <b>scipy.special.comb</b>\n",
    "\n",
    "Naive implementations of the factorial formula, such as the following snippet in Python:"
   ]
  },
  {
   "cell_type": "code",
   "execution_count": 2,
   "id": "0eee5a6f",
   "metadata": {},
   "outputs": [],
   "source": [
    "def binomial_coefficient(n: int, k: int) -> int:\n",
    "    return factorial(n) // (factorial(k) * factorial(n - k))"
   ]
  },
  {
   "cell_type": "code",
   "execution_count": 3,
   "id": "77ccbf86",
   "metadata": {},
   "outputs": [
    {
     "data": {
      "text/plain": [
       "10"
      ]
     },
     "execution_count": 3,
     "metadata": {},
     "output_type": "execute_result"
    }
   ],
   "source": [
    "binomial_coefficient(5,2)"
   ]
  },
  {
   "cell_type": "markdown",
   "id": "628f1eb8",
   "metadata": {},
   "source": [
    "A direct implementation of the multiplicative formula works well:"
   ]
  },
  {
   "cell_type": "code",
   "execution_count": 4,
   "id": "ceae65a5",
   "metadata": {},
   "outputs": [],
   "source": [
    "def binomial_coefficient_2(n: int, k: int) -> int:\n",
    "    if k < 0 or k > n:\n",
    "        return 0\n",
    "    if k == 0 or k == n:\n",
    "        return 1\n",
    "    k = min(k, n - k) # Take advantage of symmetry\n",
    "    c = 1\n",
    "    for i in range(k):\n",
    "        c = c * (n - i) / (i + 1)\n",
    "    return c\n"
   ]
  },
  {
   "cell_type": "code",
   "execution_count": 5,
   "id": "e6be6179",
   "metadata": {},
   "outputs": [
    {
     "data": {
      "text/plain": [
       "10.0"
      ]
     },
     "execution_count": 5,
     "metadata": {},
     "output_type": "execute_result"
    }
   ],
   "source": [
    "binomial_coefficient_2(5,2)"
   ]
  },
  {
   "cell_type": "markdown",
   "id": "7c0a0cb9",
   "metadata": {},
   "source": [
    "Pascal's rule provides a recursive definition which can also be implemented in Python, although it is less efficient:"
   ]
  },
  {
   "cell_type": "code",
   "execution_count": 6,
   "id": "3e9cc05f",
   "metadata": {},
   "outputs": [],
   "source": [
    "\n",
    "def binomial_coefficient_3(n: int, k: int) -> int:\n",
    "    if k < 0 or k > n:\n",
    "        return 0\n",
    "    if k > n - k: # Take advantage of symmetry\n",
    "        k = n - k\n",
    "    if k == 0 or n <= 1:\n",
    "        return 1\n",
    "    return binomial_coefficient(n - 1, k) + binomial_coefficient(n - 1, k - 1)"
   ]
  },
  {
   "cell_type": "code",
   "execution_count": 7,
   "id": "357be1d8",
   "metadata": {},
   "outputs": [
    {
     "data": {
      "text/plain": [
       "10"
      ]
     },
     "execution_count": 7,
     "metadata": {},
     "output_type": "execute_result"
    }
   ],
   "source": [
    "binomial_coefficient_3(5,2)"
   ]
  }
 ],
 "metadata": {
  "kernelspec": {
   "display_name": "Python 3 (ipykernel)",
   "language": "python",
   "name": "python3"
  },
  "language_info": {
   "codemirror_mode": {
    "name": "ipython",
    "version": 3
   },
   "file_extension": ".py",
   "mimetype": "text/x-python",
   "name": "python",
   "nbconvert_exporter": "python",
   "pygments_lexer": "ipython3",
   "version": "3.9.9"
  }
 },
 "nbformat": 4,
 "nbformat_minor": 5
}
