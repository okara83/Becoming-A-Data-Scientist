{
 "cells": [
  {
   "cell_type": "markdown",
   "id": "fde45262",
   "metadata": {},
   "source": [
    "# Introduction\n",
    "The Diffie-Hellman key exchange protocol is an algorithm that allows two parties to generate a unique secret key together. No sensitive information is shared between the two parties during this process."
   ]
  },
  {
   "cell_type": "markdown",
   "id": "4bc63586",
   "metadata": {},
   "source": [
    "Point of this notebook is:\n",
    "<b>You don't need to be a math wizard to understand cryptography</b>\n",
    "\n",
    "\n"
   ]
  },
  {
   "cell_type": "markdown",
   "id": "a69683c9",
   "metadata": {},
   "source": [
    "# Modulo Mathematics\n",
    "In a nutshell, modular maths is a system where numbers “wraps-around” upon exceeding a certain value. Most of us do this everyday when converting from 24-hour format to 12-hour format – 14:00 becomes 2:00pm.\n"
   ]
  },
  {
   "cell_type": "markdown",
   "id": "da06cad7",
   "metadata": {},
   "source": [
    "Example: $14 \\bmod 12=2$\n",
    "The set of integers that exists in $\\bmod p$ is $0,1,2 \\ldots p-1$. i.e.\n",
    "$$\n",
    "\\mathbb{Z}_{\\mathfrak{p}}=0,1,2,3, \\ldots, p-1\n",
    "$$\n",
    "Modulo mathematics is significant in Diffie-Hellman (and cryptography in general) because it allows us to create finite fields of integers, which is the foundation of today's public-key cryptosystems.\n",
    "Exponent Rules\n",
    "$$\n",
    "\\begin{aligned}\n",
    "\\left(g^{a}\\right)^{b} &=g^{a b} \\\\\n",
    "\\left(g^{a} \\bmod p\\right)^{b} \\bmod p &=g^{a b} \\bmod p\n",
    "\\end{aligned}\n",
    "$$\n"
   ]
  },
  {
   "cell_type": "markdown",
   "id": "35357b82",
   "metadata": {},
   "source": [
    "# Greatest Common Divisor (GCD)\n",
    "Greatest Common Divisor (GCD)\n",
    "The greatest common divisor between two numbers is the largest integer that will divide both numbers.\n",
    "Example: $\\operatorname{gcd}(3,9)=3$.\n",
    "If one of the numbers in the gcd is a prime number, then the gcd will always be 1 . Prime numbers are used heavily in cryptography because they can't be factorized (i.e. the gcd of the prime number with any other number is 1 ), making the process of cracking the code that much harder.\n",
    "\n",
    "# Diddie-Hellman\n",
    "### Algorthm\n",
    "The diffie-hellman key exchange protocol goes like so:\n",
    "1. Generator $(g)$ and base $(p)$ are given a random prime number\n",
    "2. Alice generates a secret key $\\left(s k_{a}\\right)$ with a random value\n",
    "3. Alice generates a public key $\\left(p k_{a}\\right)$ from the secret key $\\left(s k_{a}\\right)$ using the formula: $p k_{a}=g^{s k_{a}} \\bmod p$\n",
    "4. Bob does the same thing - he generates $s k_{a}$ and derives $p k_{a}$ from it\n",
    "5. Alice sends $p k_{a}$ to Bob, and Bob sends $p k_{b}$ to Alice\n",
    "6. Alice generates the shared secret key using the formula: $p k_{b}^{s k_{a}} \\bmod p$\n",
    "7. Bob generates the shared secret key using the formula: $p k_{a}^{s k_{b}} \\bmod p$\n",
    "\n",
    "It might not seem like it, but the keys generated from steps 6 and 7 are actually the same! Why is that so though?"
   ]
  },
  {
   "cell_type": "markdown",
   "id": "43095034",
   "metadata": {},
   "source": [
    "# Diffie-Hellman\n",
    "Algorithm\n",
    "The diffie-hellman key exchange protocol goes like so:\n",
    "1. Generator $(g)$ and base $(p)$ are given a random prime number\n",
    "2. Alice generates a secret key $\\left(s k_{a}\\right)$ with a random value\n",
    "3. Alice generates a public key $\\left(p k_{a}\\right)$ from the secret key $\\left(s k_{a}\\right)$ using the formula: $p k_{a}=g^{s k_{a}} \\bmod p$\n",
    "4. Bob does the same thing - he generates $s k_{a}$ and derives $p k_{a}$ from it\n",
    "5. Alice sends $p k_{a}$ to Bob, and Bob sends $p k_{b}$ to Alice\n",
    "6. Alice generates the shared secret key using the formula: $p k_{b}^{s k_{a}} \\bmod p$\n",
    "7. Bob generates the shared secret key using the formula: $p k_{a}^{s k_{b}} \\bmod p$\n",
    "It might not seem like it, but the keys generated from steps 6 and 7 are actually the same! Why is that so though?"
   ]
  },
  {
   "cell_type": "markdown",
   "id": "31238802",
   "metadata": {},
   "source": [
    "# Why Does Diffie-Hellman Work?\n",
    "Recall that the public keys are generated using the following formula:\n",
    "$$\n",
    "\\begin{aligned}\n",
    "p k_{a} &=g^{s k_{a}} \\bmod p \\\\\n",
    "p k_{b} &=g^{s k_{b}} \\bmod p\n",
    "\\end{aligned}\n",
    "$$\n",
    "And that the shared secret key is generated using these formulas:\n",
    "$$\n",
    "\\begin{aligned}\n",
    "&S_{\\text {alice }}=p k_{a}^{s k_{b}} \\bmod p \\\\\n",
    "&S_{b o b}=p k_{b}^{s k_{a}} \\bmod p\n",
    "\\end{aligned}\n",
    "$$\n",
    "If we substitute $p k_{a}$ for $g^{s k_{a}} \\bmod p$ and $p k_{b}$ for $g^{s k_{b}} \\bmod p$, we get:\n",
    "$$\n",
    "\\begin{aligned}\n",
    "&S_{\\text {alice }}=\\left(g^{s k_{a}} \\bmod p\\right)^{s k_{b}} \\bmod p \\\\\n",
    "&S_{b o b}=\\left(g^{s k_{b}} \\bmod p\\right)^{s k_{a}} \\bmod p\n",
    "\\end{aligned}\n",
    "$$\n",
    "We can simplify that equation using the exponent rule (2), which gives us:\n",
    "$$\n",
    "\\begin{aligned}\n",
    "&S_{\\text {alice }}=g^{s k_{a} \\cdot s k_{b}} \\bmod p \\\\\n",
    "&S_{b o b}=g^{s k_{b} \\cdot s k_{a}} \\bmod p\n",
    "\\end{aligned}\n",
    "$$\n",
    "Since multiplication is associative, we end up with the same result: $g^{s k_{b} \\cdot s k_{a}} \\bmod p=g^{s k_{a} \\cdot s k_{b}} \\bmod p$"
   ]
  },
  {
   "cell_type": "code",
   "execution_count": null,
   "id": "3ad4a867",
   "metadata": {},
   "outputs": [],
   "source": []
  },
  {
   "cell_type": "code",
   "execution_count": 8,
   "id": "d5582f55",
   "metadata": {},
   "outputs": [
    {
     "name": "stdout",
     "output_type": "stream",
     "text": [
      "Shared secret generation successful!\n"
     ]
    }
   ],
   "source": [
    "## 1. We need to first establish our generator (g) and\n",
    "## base (p) (both of which are arbitrarily large prime numbers)\n",
    "p = 7\n",
    "g = 11\n",
    "\n",
    "## 2. Alice creates a secret key with a random value\n",
    "secret_a = 8\n",
    "\n",
    "## 3. Alice generates a public key from the secret key using\n",
    "## the following formula: public = g^secret mod p\n",
    "public_a = g**secret_a % p\n",
    "\n",
    "## 4. Bob does the same thing\n",
    "secret_b = 4\n",
    "public_b = g**secret_b % p\n",
    "\n",
    "## 5. Alice sends her public key to Bob, and Bob does the same thing\n",
    "## Alice and Bob will now generate the shared secret key using\n",
    "## the following formula: shared_secret = public^secret mod p\n",
    "\n",
    "shared_secret_alice = public_b**secret_a % p\n",
    "shared_secret_bob   = public_a**secret_b % p\n",
    "\n",
    "## 6. Both of the generated shared secrets should contain the same value\n",
    "if shared_secret_alice == shared_secret_bob:\n",
    "    print('Shared secret generation successful!')\n",
    "else:\n",
    "    print('Shared secret generation failed :(')"
   ]
  },
  {
   "cell_type": "markdown",
   "id": "6cae30e8",
   "metadata": {},
   "source": [
    "# This works because of the underlying mathematics<br>\n",
    "This works because of the underlying math<br> \n",
    "Recall:<br>\n",
    "$\\begin{align*}\n",
    "&\\text{ Exponent rule:} (g^{a})^{b} = g^{a*b}\\\\ \n",
    "&\\text{ Modulus rule}: (g^{a} \\mod p)^{b} \\mod p = g^{a*b} \\mod p\\\\\n",
    "\\text{So,}\\\\\n",
    "&\\text{ public}_a = g^{secret_a} \\mod p\\\\ \n",
    "\\end{align*}$\n",
    "<br>\n",
    "<br>\n",
    "${\\rule{24cm}{0.4pt}}$\n",
    "<br>\n",
    "<br>\n",
    "$\\begin{align*}\n",
    " \\text{shared_secret_bob}&= \\text{public}_a^{\\text{secret}_b} \\mod p\\\\\n",
    " &= {g^{\\text{secret}_a} \\mod p}^{\\text{secret}_b} \\mod p\\\\\n",
    " &= g^{\\text{secret}_a * \\text{secret_b}} \\mod p \\\\\n",
    "\\text{shared_secret_alice} &= \\text{public}_b^{secret_a} \\mod p\\\\\n",
    "&= g^{\\text{secret}_b} \\mod p^{\\text{secret}_a} \\mod p \\\\\n",
    "&= g^{(\\text{secret}_b * \\text{secret}_a)} \\mod p\n",
    "\\end{align*}$"
   ]
  },
  {
   "cell_type": "markdown",
   "id": "6668663b",
   "metadata": {},
   "source": []
  }
 ],
 "metadata": {
  "kernelspec": {
   "display_name": "Python 3 (ipykernel)",
   "language": "python",
   "name": "python3"
  },
  "language_info": {
   "codemirror_mode": {
    "name": "ipython",
    "version": 3
   },
   "file_extension": ".py",
   "mimetype": "text/x-python",
   "name": "python",
   "nbconvert_exporter": "python",
   "pygments_lexer": "ipython3",
   "version": "3.9.9"
  }
 },
 "nbformat": 4,
 "nbformat_minor": 5
}
