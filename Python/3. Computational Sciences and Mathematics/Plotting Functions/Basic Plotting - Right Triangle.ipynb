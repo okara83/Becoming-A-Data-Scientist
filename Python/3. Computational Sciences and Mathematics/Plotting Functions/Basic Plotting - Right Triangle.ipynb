{
 "cells": [
  {
   "cell_type": "code",
   "execution_count": 1,
   "metadata": {},
   "outputs": [],
   "source": [
    "import numpy as np\n",
    "from matplotlib import pyplot as plt"
   ]
  },
  {
   "cell_type": "code",
   "execution_count": 2,
   "metadata": {},
   "outputs": [],
   "source": [
    "def find_hypotenuse(p1, p2):\n",
    "    p3 = round( (p1**2 + p2**2)**0.5, 8)\n",
    "    return p3\n",
    "\n",
    "def find_trig(adjacent, opposite, hypotenuse):\n",
    "    '''Returns the tuple (sin, cos, tan)'''\n",
    "    return opposite/hypotenuse, adjacent/hypotenuse, opposite/adjacent"
   ]
  },
  {
   "cell_type": "code",
   "execution_count": 3,
   "metadata": {},
   "outputs": [],
   "source": [
    "def plot_triangle(p1, p2, lw=5):\n",
    "    x = [0, p1, 0]\n",
    "    y = [0, 0, p2]\n",
    "    n = ['0', 'p1', 'p2']\n",
    "\n",
    "    fig, ax = plt.subplots(figsize=(p1,p2))\n",
    "    # plot points\n",
    "    ax.scatter(x, y,  s=400, c=\"#8C4799\", alpha=0.4)\n",
    "    ax.annotate(find_hypotenuse(p1,p2),(p1/2,p2/2))\n",
    "    \n",
    "    # plot edges\n",
    "    ax.plot([0, p1], [0, 0], lw=lw, color='r')\n",
    "    ax.plot([0, 0], [0, p2], lw=lw, color='b')\n",
    "    ax.plot([0, p1], [p2, 0], lw=lw, color='y')\n",
    "\n",
    "    for i, txt in enumerate(n):\n",
    "        ax.annotate(txt, (x[i], y[i]), va='center')#, ha='center')"
   ]
  },
  {
   "cell_type": "code",
   "execution_count": 4,
   "metadata": {},
   "outputs": [
    {
     "name": "stdout",
     "output_type": "stream",
     "text": [
      "(0.707106781123095, 0.707106781123095, 1.0)\n"
     ]
    },
    {
     "data": {
      "image/png": "[encoded data removed]",
      "text/plain": [
       "<Figure size 288x288 with 1 Axes>"
      ]
     },
     "metadata": {
      "needs_background": "light"
     },
     "output_type": "display_data"
    }
   ],
   "source": [
    "p01 = 4\n",
    "p02 = 4\n",
    "\n",
    "print(find_trig(p01,p02,find_hypotenuse(p01,p02)))\n",
    "plot_triangle(p01,p02)"
   ]
  },
  {
   "cell_type": "code",
   "execution_count": 5,
   "metadata": {},
   "outputs": [
    {
     "name": "stdout",
     "output_type": "stream",
     "text": [
      "0.7071067811865475 0.7071067811865476 0.9999999999999999\n"
     ]
    }
   ],
   "source": [
    "print(np.sin(np.pi/4), np.cos(np.pi/4), np.tan(np.pi/4))"
   ]
  },
  {
   "cell_type": "code",
   "execution_count": 1,
   "metadata": {},
   "outputs": [
    {
     "ename": "NameError",
     "evalue": "name 'np' is not defined",
     "output_type": "error",
     "traceback": [
      "\u001b[0;31m---------------------------------------------------------------------------\u001b[0m",
      "\u001b[0;31mNameError\u001b[0m                                 Traceback (most recent call last)",
      "\u001b[0;32m/var/folders/sd/1vc_q83x5rn9jjrd0x47_cc00000gn/T/ipykernel_11546/2304064241.py\u001b[0m in \u001b[0;36m<module>\u001b[0;34m\u001b[0m\n\u001b[0;32m----> 1\u001b[0;31m \u001b[0mx\u001b[0m \u001b[0;34m=\u001b[0m \u001b[0mnp\u001b[0m\u001b[0;34m.\u001b[0m\u001b[0mlinspace\u001b[0m\u001b[0;34m(\u001b[0m\u001b[0;36m0\u001b[0m\u001b[0;34m,\u001b[0m \u001b[0;36m10\u001b[0m\u001b[0;34m,\u001b[0m \u001b[0;36m200\u001b[0m\u001b[0;34m)\u001b[0m\u001b[0;34m\u001b[0m\u001b[0;34m\u001b[0m\u001b[0m\n\u001b[0m\u001b[1;32m      2\u001b[0m \u001b[0;34m\u001b[0m\u001b[0m\n\u001b[1;32m      3\u001b[0m \u001b[0msin\u001b[0m \u001b[0;34m=\u001b[0m \u001b[0mnp\u001b[0m\u001b[0;34m.\u001b[0m\u001b[0msin\u001b[0m\u001b[0;34m(\u001b[0m\u001b[0mx\u001b[0m\u001b[0;34m)\u001b[0m\u001b[0;34m\u001b[0m\u001b[0;34m\u001b[0m\u001b[0m\n\u001b[1;32m      4\u001b[0m \u001b[0mcos\u001b[0m \u001b[0;34m=\u001b[0m \u001b[0mnp\u001b[0m\u001b[0;34m.\u001b[0m\u001b[0mcos\u001b[0m\u001b[0;34m(\u001b[0m\u001b[0mx\u001b[0m\u001b[0;34m)\u001b[0m\u001b[0;34m\u001b[0m\u001b[0;34m\u001b[0m\u001b[0m\n\u001b[1;32m      5\u001b[0m \u001b[0;34m\u001b[0m\u001b[0m\n",
      "\u001b[0;31mNameError\u001b[0m: name 'np' is not defined"
     ]
    }
   ],
   "source": [
    "x = np.linspace(0, 10, 200)\n",
    "\n",
    "sin = np.sin(x)\n",
    "cos = np.cos(x)\n",
    "\n",
    "plt.xticks([0, np.pi/2, np.pi, 3*np.pi/2, 2*np.pi, 5*np.pi/2, 3*np.pi],\n",
    "           ['0','','\\u03C0','','2\\u03C0','','3\\u03C0'])\n",
    "\n",
    "\n",
    "plt.plot(x, sin, marker='o', label='sin')\n",
    "plt.plot(x, cos, marker='x', label='cos')\n",
    "\n",
    "plt.legend(loc=\"upper left\")\n",
    "plt.ylim(-1.1, 1.6)\n",
    "plt.show()"
   ]
  },
  {
   "cell_type": "code",
   "execution_count": null,
   "metadata": {},
   "outputs": [],
   "source": []
  }
 ],
 "metadata": {
  "kernelspec": {
   "display_name": "Python 3 (ipykernel)",
   "language": "python",
   "name": "python3"
  },
  "language_info": {
   "codemirror_mode": {
    "name": "ipython",
    "version": 3
   },
   "file_extension": ".py",
   "mimetype": "text/x-python",
   "name": "python",
   "nbconvert_exporter": "python",
   "pygments_lexer": "ipython3",
   "version": "3.9.9"
  }
 },
 "nbformat": 4,
 "nbformat_minor": 2
}
