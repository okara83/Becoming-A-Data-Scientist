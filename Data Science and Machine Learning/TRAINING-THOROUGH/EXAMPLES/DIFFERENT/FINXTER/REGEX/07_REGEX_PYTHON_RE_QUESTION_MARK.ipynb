{
 "cells": [
  {
   "cell_type": "markdown",
   "metadata": {},
   "source": [
    "# 07 REGEX: PYTHON RE QUESTION MARK"
   ]
  },
  {
   "cell_type": "code",
   "execution_count": 1,
   "metadata": {},
   "outputs": [],
   "source": [
    "import re"
   ]
  },
  {
   "cell_type": "markdown",
   "metadata": {},
   "source": [
    "## What's the Python Re ? Quantifier"
   ]
  },
  {
   "cell_type": "markdown",
   "metadata": {},
   "source": [
    "When applied to regular expression A, Python's A? quantifier matches either zero or one occurrences of A. The ? quantifier always applies only to the preceding regular expression.\n",
    "\n",
    "For example, the regular expression 'hey?' matches both strings 'he' and 'hey'. But it does not match the empty string because the ? quantifier does not apply to the whole regex 'hey' but only to the preceding regex 'y'."
   ]
  },
  {
   "cell_type": "code",
   "execution_count": 2,
   "metadata": {},
   "outputs": [
    {
     "data": {
      "text/plain": [
       "['aac', 'aa', 'aad']"
      ]
     },
     "execution_count": 2,
     "metadata": {},
     "output_type": "execute_result"
    }
   ],
   "source": [
    "re.findall('aa[cde]?', 'aacde aa aadcde')"
   ]
  },
  {
   "cell_type": "code",
   "execution_count": 3,
   "metadata": {},
   "outputs": [
    {
     "data": {
      "text/plain": [
       "['a', 'a', 'a']"
      ]
     },
     "execution_count": 3,
     "metadata": {},
     "output_type": "execute_result"
    }
   ],
   "source": [
    "re.findall('aa?', 'accccacccac')"
   ]
  },
  {
   "cell_type": "code",
   "execution_count": 4,
   "metadata": {},
   "outputs": [
    {
     "data": {
      "text/plain": [
       "['cc', 'c', '', 'dd', '', 'e', 'e', '']"
      ]
     },
     "execution_count": 4,
     "metadata": {},
     "output_type": "execute_result"
    }
   ],
   "source": [
    "re.findall('[cd]?[cde]?', 'ccc dd ee')"
   ]
  },
  {
   "cell_type": "markdown",
   "metadata": {},
   "source": [
    "Don't worry if you had problems understanding those examples. You'll learn about them next. Here's the first example:"
   ]
  },
  {
   "cell_type": "code",
   "execution_count": 5,
   "metadata": {},
   "outputs": [
    {
     "data": {
      "text/plain": [
       "['aac', 'aa', 'aad']"
      ]
     },
     "execution_count": 5,
     "metadata": {},
     "output_type": "execute_result"
    }
   ],
   "source": [
    "re.findall('aa[cde]?', 'aacde aa aadcde')"
   ]
  },
  {
   "cell_type": "markdown",
   "metadata": {},
   "source": [
    "You use the re.findall() method. In case you don't know it, here's the definition:\n",
    "\n",
    "The re.findall(pattern, string) method finds all occurrences of the pattern in the string and returns a list of all matching substrings.\n",
    "\n",
    "The first argument is the regular expression pattern 'aa[cde]?'. The second argument is the string to be searched for the pattern. In plain English, you want to find all patterns that start with two 'a' characters, followed by one optional character---which can be either 'c', 'd', or 'e'."
   ]
  },
  {
   "cell_type": "markdown",
   "metadata": {},
   "source": [
    "The findall() method returns three matching substrings:\n",
    "\n",
    "* First, string 'aac' matches the pattern. After Python consumes the matched substring, the remaining substring is 'de aa aadcde'.\n",
    "* Second, string 'aa' matches the pattern. Python consumes it which leads to the remaining substring ' aadcde'.\n",
    "* Third, string 'aad' matches the pattern in the remaining substring. What remains is 'cde' which doesn't contain a matching substring anymore.\n"
   ]
  },
  {
   "cell_type": "code",
   "execution_count": 6,
   "metadata": {},
   "outputs": [
    {
     "data": {
      "text/plain": [
       "['a', 'a', 'a']"
      ]
     },
     "execution_count": 6,
     "metadata": {},
     "output_type": "execute_result"
    }
   ],
   "source": [
    "re.findall('aa?', 'accccacccac')"
   ]
  },
  {
   "cell_type": "markdown",
   "metadata": {},
   "source": [
    "In this example, you're looking at the simple pattern 'aa?'. You want to find all occurrences of character 'a' followed by an optional second 'a'. But be aware that the optional second 'a' is not needed for the pattern to match.\n",
    "\n",
    "Therefore, the regex engine finds three matches: the characters 'a'."
   ]
  },
  {
   "cell_type": "code",
   "execution_count": 7,
   "metadata": {},
   "outputs": [
    {
     "data": {
      "text/plain": [
       "['cc', 'c', '', 'dd', '', 'e', 'e', '']"
      ]
     },
     "execution_count": 7,
     "metadata": {},
     "output_type": "execute_result"
    }
   ],
   "source": [
    "re.findall('[cd]?[cde]?', 'ccc dd ee')"
   ]
  },
  {
   "cell_type": "markdown",
   "metadata": {},
   "source": [
    "This regex pattern looks complicated: '[cd]?[cde]?'. But is it really?\n",
    "\n",
    "Let's break it down step-by-step:\n",
    "\n",
    "The first part of the regex [cd]? defines a character class [cd] which reads as \"match either c or d\". The question mark quantifier indicates that you want to match either one or zero occurrences of this pattern.\n",
    "\n",
    "The second part of the regex [cde]? defines a character class [cde] which reads as \"match either c, d, or e\". Again, the question mark indicates the zero-or-one matching requirement.\n",
    "\n",
    "As both parts are optional, the empty string matches the regex pattern. However, the Python regex engine attempts as much as possible."
   ]
  },
  {
   "cell_type": "markdown",
   "metadata": {},
   "source": [
    "Thus, the regex engine performs the following steps:"
   ]
  },
  {
   "cell_type": "markdown",
   "metadata": {},
   "source": [
    "1. The first match in the string 'ccc dd ee' is 'cc'. The regex engine consumes the matched substring, so the string 'c dd ee' remains.\n",
    "2. The second match in the remaining string is the character 'c'. The empty space ' ' does not match the regex so the second part of the regex [cde] does not match. Because of the question mark quantifier, this is okay for the regex engine. The remaining string is ' dd ee'.\n",
    "3. The third match is the empty string ''. Of course, Python does not attempt to match the same position twice. Thus, it moves on to process the remaining string 'dd ee'.\n",
    "4. The fourth match is the string 'dd'. The remaining string is ' ee'.\n",
    "5. The fifth match is the string ''. The remaining string is 'ee'.\n",
    "6. The sixth match is the string 'e'. The remaining string is 'e'.\n",
    "7.The seventh match is the string 'e'. The remaining string is ''.\n",
    "8. The eighth match is the string ''. Nothing remains."
   ]
  },
  {
   "cell_type": "code",
   "execution_count": null,
   "metadata": {},
   "outputs": [],
   "source": []
  },
  {
   "cell_type": "code",
   "execution_count": null,
   "metadata": {},
   "outputs": [],
   "source": []
  }
 ],
 "metadata": {
  "kernelspec": {
   "display_name": "Python 3",
   "language": "python",
   "name": "python3"
  },
  "language_info": {
   "codemirror_mode": {
    "name": "ipython",
    "version": 3
   },
   "file_extension": ".py",
   "mimetype": "text/x-python",
   "name": "python",
   "nbconvert_exporter": "python",
   "pygments_lexer": "ipython3",
   "version": "3.7.9"
  }
 },
 "nbformat": 4,
 "nbformat_minor": 4
}
