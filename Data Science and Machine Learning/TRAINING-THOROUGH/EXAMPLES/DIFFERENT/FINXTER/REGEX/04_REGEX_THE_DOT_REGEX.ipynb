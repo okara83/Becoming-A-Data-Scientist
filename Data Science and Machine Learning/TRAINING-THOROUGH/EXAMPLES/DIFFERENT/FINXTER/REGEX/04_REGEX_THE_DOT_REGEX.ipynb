{
 "cells": [
  {
   "cell_type": "markdown",
   "metadata": {},
   "source": [
    "# 04 REGEX THE DOT REGEX"
   ]
  },
  {
   "cell_type": "markdown",
   "metadata": {},
   "source": [
    "**The dot regex . matches all characters except the newline character.**"
   ]
  },
  {
   "cell_type": "markdown",
   "metadata": {},
   "source": [
    "For example, the regular expression '...' matches strings 'hey' and 'tom'. \n",
    "\n",
    "But it does not match the string 'yo\\ntom' which contains the newline character '\\n'."
   ]
  },
  {
   "cell_type": "markdown",
   "metadata": {},
   "source": [
    "You first import Python’s re library for regular expression handling."
   ]
  },
  {
   "cell_type": "code",
   "execution_count": 2,
   "metadata": {},
   "outputs": [],
   "source": [
    "import re"
   ]
  },
  {
   "cell_type": "markdown",
   "metadata": {},
   "source": [
    "Then, you create a multi-line text using the triple string quotes.\n"
   ]
  },
  {
   "cell_type": "code",
   "execution_count": 3,
   "metadata": {},
   "outputs": [],
   "source": [
    "text = '''But then I saw no harm, and then I heard\n",
    "Each syllable that breath made up between them.'''\n"
   ]
  },
  {
   "cell_type": "markdown",
   "metadata": {},
   "source": [
    "You use the re.findall(pattern, string) method that finds all occurrences of \n",
    "the pattern in the string and returns a list of all matching substrings."
   ]
  },
  {
   "cell_type": "markdown",
   "metadata": {},
   "source": [
    "* The first argument is the regular expression pattern 'B..'. \n",
    "The second argument is the string to be searched for the pattern. \n",
    "You want to find all patterns starting with the 'B' character, followed by two arbitrary characters except the newline character. \n",
    "The findall() method finds only one such occurrence: the string 'But'."
   ]
  },
  {
   "cell_type": "code",
   "execution_count": 4,
   "metadata": {},
   "outputs": [
    {
     "data": {
      "text/plain": [
       "['But']"
      ]
     },
     "execution_count": 4,
     "metadata": {},
     "output_type": "execute_result"
    }
   ],
   "source": [
    "re.findall('B..', text)"
   ]
  },
  {
   "cell_type": "markdown",
   "metadata": {},
   "source": [
    "* The second example shows that the dot operator does not match the newline character. \n",
    "You’re looking at the simple pattern 'heard.Each'. \n",
    "You want to find all occurrences of string 'heard' followed by an arbitrary non-whitespace character, \n",
    "followed by the string 'Each'. \n",
    "But such a pattern does not exist! Many coders intuitively read the dot regex as an arbitrary character. \n",
    "You must be aware that the correct definition of the dot regex is an arbitrary character except the newline. \n",
    "This is a source of many bugs in regular expressions."
   ]
  },
  {
   "cell_type": "code",
   "execution_count": 5,
   "metadata": {},
   "outputs": [
    {
     "data": {
      "text/plain": [
       "[]"
      ]
     },
     "execution_count": 5,
     "metadata": {},
     "output_type": "execute_result"
    }
   ],
   "source": [
    "re.findall('heard.Each', text)"
   ]
  },
  {
   "cell_type": "markdown",
   "metadata": {},
   "source": [
    "* The third example shows you how to explicitly match the newline character ‘\\n’ instead: re.findall('heard\\nEach', text).\n",
    "Here, the regex engine matches the substring."
   ]
  },
  {
   "cell_type": "code",
   "execution_count": 6,
   "metadata": {},
   "outputs": [
    {
     "data": {
      "text/plain": [
       "['heard\\nEach']"
      ]
     },
     "execution_count": 6,
     "metadata": {},
     "output_type": "execute_result"
    }
   ],
   "source": [
    "re.findall('heard\\nEach', text)"
   ]
  },
  {
   "cell_type": "code",
   "execution_count": null,
   "metadata": {},
   "outputs": [],
   "source": []
  },
  {
   "cell_type": "code",
   "execution_count": null,
   "metadata": {},
   "outputs": [],
   "source": []
  }
 ],
 "metadata": {
  "kernelspec": {
   "display_name": "Python 3",
   "language": "python",
   "name": "python3"
  },
  "language_info": {
   "codemirror_mode": {
    "name": "ipython",
    "version": 3
   },
   "file_extension": ".py",
   "mimetype": "text/x-python",
   "name": "python",
   "nbconvert_exporter": "python",
   "pygments_lexer": "ipython3",
   "version": "3.7.9"
  }
 },
 "nbformat": 4,
 "nbformat_minor": 4
}
