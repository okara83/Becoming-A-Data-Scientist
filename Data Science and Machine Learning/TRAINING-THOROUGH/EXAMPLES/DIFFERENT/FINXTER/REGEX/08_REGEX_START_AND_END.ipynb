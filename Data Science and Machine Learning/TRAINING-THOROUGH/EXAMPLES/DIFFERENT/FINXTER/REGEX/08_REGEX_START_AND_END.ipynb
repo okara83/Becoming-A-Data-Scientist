{
 "cells": [
  {
   "cell_type": "markdown",
   "metadata": {},
   "source": [
    "# 08 REGEX START ^ AND END $"
   ]
  },
  {
   "cell_type": "code",
   "execution_count": 2,
   "metadata": {},
   "outputs": [],
   "source": [
    "import re"
   ]
  },
  {
   "cell_type": "markdown",
   "metadata": {},
   "source": [
    "This article is all about the start of line ^ and end of line $ regular expressions in Python's re library.\n",
    "\n",
    "These two regexes are fundamental to all regular expressions---even outside the Python world. So invest 5 minutes now and master them once and for all!\n",
    "\n",
    "**Python Re Start-of-String (^) Regex**\n",
    "\n",
    "You can use the caret operator ^ to match the beginning of the string. For example, this is useful if you want to ensure that a pattern appears at the beginning of a string."
   ]
  },
  {
   "cell_type": "code",
   "execution_count": 3,
   "metadata": {},
   "outputs": [
    {
     "data": {
      "text/plain": [
       "['PYTHON']"
      ]
     },
     "execution_count": 3,
     "metadata": {},
     "output_type": "execute_result"
    }
   ],
   "source": [
    "re.findall('^PYTHON', 'PYTHON is fun.')"
   ]
  },
  {
   "cell_type": "markdown",
   "metadata": {},
   "source": [
    "The **findall(pattern, string)** method finds all occurrences of the pattern in the string.\n",
    "\n",
    "The caret at the beginning of the pattern **'^PYTHON'** ensures that you match the word Python only at the beginning of the string. In the previous example, this doesn't make any difference. But in the next example, it does:\n"
   ]
  },
  {
   "cell_type": "code",
   "execution_count": 4,
   "metadata": {},
   "outputs": [
    {
     "data": {
      "text/plain": [
       "['PYTHON']"
      ]
     },
     "execution_count": 4,
     "metadata": {},
     "output_type": "execute_result"
    }
   ],
   "source": [
    "re.findall('^PYTHON', 'PYTHON! PYTHON is fun')"
   ]
  },
  {
   "cell_type": "markdown",
   "metadata": {},
   "source": [
    "Although there are two occurrences of the substring **'PYTHON'**, there's only one matching substring---at the beginning of the string.\n",
    "\n",
    "But what if you want to match not only at the beginning of the string but at the beginning of each line in a multi-line string?\n",
    "\n",
    "**Python Re Start-of-Line (^) Regex**\n",
    "\n",
    "The caret operator, per default, only applies to the start of a string. So if you've got a multi-line string---for example, when reading a text file---it will still only match once: at the beginning of the string.\n",
    "\n",
    "However, you may want to match at the beginning of each line. For example, you may want to find all lines that start with **'Python'** in a given string.\n",
    "\n",
    "You can specify that the caret operator matches the beginning of each line via the **re.MULTILINE** flag. Here's an example showing both usages---without and with setting the **re.MULTILINE** flag:\n"
   ]
  },
  {
   "cell_type": "code",
   "execution_count": 5,
   "metadata": {},
   "outputs": [],
   "source": [
    "text = '''\n",
    "Python is great.\n",
    "Python is the fastest growing\n",
    "major programming language in\n",
    "the world.\n",
    "Pythonistas thrive.'''"
   ]
  },
  {
   "cell_type": "code",
   "execution_count": 6,
   "metadata": {},
   "outputs": [
    {
     "data": {
      "text/plain": [
       "[]"
      ]
     },
     "execution_count": 6,
     "metadata": {},
     "output_type": "execute_result"
    }
   ],
   "source": [
    "re.findall('^Python', text)"
   ]
  },
  {
   "cell_type": "code",
   "execution_count": 7,
   "metadata": {},
   "outputs": [
    {
     "data": {
      "text/plain": [
       "['Python', 'Python', 'Python']"
      ]
     },
     "execution_count": 7,
     "metadata": {},
     "output_type": "execute_result"
    }
   ],
   "source": [
    "re.findall('^Python', text, re.MULTILINE)"
   ]
  },
  {
   "cell_type": "markdown",
   "metadata": {},
   "source": [
    "The first output is the empty list because the string **'Python'** does not appear at the beginning of the string.\n",
    "\n",
    "The second output is the list of three matching substrings because the string **'Python'** appears three times at the beginning of a line.\n",
    "\n",
    "**Python Re End of String ($) Regex**\n",
    "\n",
    "Similarly, you can use the dollar-sign operator **$** to match the end of the string. Here's an example:"
   ]
  },
  {
   "cell_type": "code",
   "execution_count": 8,
   "metadata": {},
   "outputs": [
    {
     "data": {
      "text/plain": [
       "['fun']"
      ]
     },
     "execution_count": 8,
     "metadata": {},
     "output_type": "execute_result"
    }
   ],
   "source": [
    "re.findall('fun$', 'PYTHON is fun')"
   ]
  },
  {
   "cell_type": "markdown",
   "metadata": {},
   "source": [
    "The **findall()** method finds all occurrences of the pattern in the string---although the trailing dollar-sign $ ensures that the regex matches only at the end of the string.\n",
    "\n",
    "This can significantly alter the meaning of your regex as you can see in the next example:"
   ]
  },
  {
   "cell_type": "code",
   "execution_count": null,
   "metadata": {},
   "outputs": [],
   "source": [
    "re.findall('fun$', 'fun fun fun')"
   ]
  },
  {
   "cell_type": "markdown",
   "metadata": {},
   "source": [
    "Although, there are three occurrences of the substring **'fun'**, there's only one matching substring---at the end of the string.\n",
    "\n",
    "But what if you want to match not only at the end of the string but at the end of each line in a multi-line string?\n",
    "\n",
    "**Python Re End of Line ($)**\n",
    "\n",
    "The dollar-sign operator, per default, only applies to the end of a string. So if you've got a multi-line string---for example, when reading a text file---it will still only match once: at the end of the string.\n",
    "\n",
    "However, you may want to match at the end of each line. For example, you may want to find all lines that end with **'.py'**.\n",
    "\n",
    "To achieve this, you can specify that the dollar-sign operator matches the end of each line via the **re.MULTILINE** flag. Here's an example showing both usages---without and with setting the **re.MULTILINE** flag:"
   ]
  },
  {
   "cell_type": "code",
   "execution_count": 9,
   "metadata": {},
   "outputs": [],
   "source": [
    "text = '''\n",
    "Coding is fun\n",
    "Python is fun\n",
    "Games are fun\n",
    "Agreed?'''"
   ]
  },
  {
   "cell_type": "code",
   "execution_count": 10,
   "metadata": {},
   "outputs": [
    {
     "data": {
      "text/plain": [
       "[]"
      ]
     },
     "execution_count": 10,
     "metadata": {},
     "output_type": "execute_result"
    }
   ],
   "source": [
    "re.findall('fun$', text)"
   ]
  },
  {
   "cell_type": "code",
   "execution_count": 11,
   "metadata": {},
   "outputs": [
    {
     "data": {
      "text/plain": [
       "['fun', 'fun', 'fun']"
      ]
     },
     "execution_count": 11,
     "metadata": {},
     "output_type": "execute_result"
    }
   ],
   "source": [
    "re.findall('fun$', text, flags=re.MULTILINE)"
   ]
  },
  {
   "cell_type": "markdown",
   "metadata": {},
   "source": [
    "The first output is the empty list because the string **'fun'** does not appear at the end of the string.\n",
    "\n",
    "The second output is the list of three matching substrings because the string **'fun'** appears three times at the end of a line."
   ]
  },
  {
   "cell_type": "code",
   "execution_count": null,
   "metadata": {},
   "outputs": [],
   "source": []
  },
  {
   "cell_type": "code",
   "execution_count": null,
   "metadata": {},
   "outputs": [],
   "source": []
  },
  {
   "cell_type": "code",
   "execution_count": null,
   "metadata": {},
   "outputs": [],
   "source": []
  },
  {
   "cell_type": "code",
   "execution_count": null,
   "metadata": {},
   "outputs": [],
   "source": []
  }
 ],
 "metadata": {
  "kernelspec": {
   "display_name": "Python 3",
   "language": "python",
   "name": "python3"
  },
  "language_info": {
   "codemirror_mode": {
    "name": "ipython",
    "version": 3
   },
   "file_extension": ".py",
   "mimetype": "text/x-python",
   "name": "python",
   "nbconvert_exporter": "python",
   "pygments_lexer": "ipython3",
   "version": "3.7.9"
  }
 },
 "nbformat": 4,
 "nbformat_minor": 4
}
