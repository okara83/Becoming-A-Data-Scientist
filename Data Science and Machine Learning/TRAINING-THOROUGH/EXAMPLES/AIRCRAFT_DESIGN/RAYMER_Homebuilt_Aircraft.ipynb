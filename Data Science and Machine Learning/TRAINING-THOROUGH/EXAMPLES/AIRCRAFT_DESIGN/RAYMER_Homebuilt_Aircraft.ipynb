{
 "cells": [
  {
   "cell_type": "markdown",
   "metadata": {},
   "source": [
    "# HOMEBUILT AIRCRAFT DESIGN"
   ]
  },
  {
   "cell_type": "markdown",
   "metadata": {},
   "source": [
    "### Important Notice:"
   ]
  },
  {
   "cell_type": "markdown",
   "metadata": {},
   "source": [
    "!!! This is not an aircraft design practice but PYTHON !!!"
   ]
  },
  {
   "cell_type": "code",
   "execution_count": null,
   "metadata": {},
   "outputs": [],
   "source": []
  },
  {
   "cell_type": "markdown",
   "metadata": {},
   "source": [
    "# Work in progress"
   ]
  },
  {
   "cell_type": "markdown",
   "metadata": {},
   "source": [
    "Daniel P. Raymer\n",
    "\n",
    "Simplified Aircraft Design for Homebuilders-\n",
    "\n",
    "Design Dimension Press (2002)"
   ]
  },
  {
   "cell_type": "code",
   "execution_count": null,
   "metadata": {},
   "outputs": [],
   "source": []
  },
  {
   "cell_type": "code",
   "execution_count": 8,
   "metadata": {},
   "outputs": [],
   "source": [
    "import math"
   ]
  },
  {
   "cell_type": "markdown",
   "metadata": {},
   "source": [
    "determine the air density (rho) provided the altitude in feet."
   ]
  },
  {
   "cell_type": "code",
   "execution_count": 9,
   "metadata": {},
   "outputs": [],
   "source": [
    "def solverho(h):\n",
    "\n",
    "    temp = 59 - 0.00356 * h\n",
    "    press = 2116 * ((temp + 459.7) / 518.6) ** 5.256\n",
    "    rho = press / (1718 * (temp + 459.7))\n",
    "\n",
    "    return rho"
   ]
  },
  {
   "cell_type": "markdown",
   "metadata": {},
   "source": [
    "This section of code determines power loading."
   ]
  },
  {
   "cell_type": "code",
   "execution_count": 11,
   "metadata": {},
   "outputs": [
    {
     "name": "stdout",
     "output_type": "stream",
     "text": [
      "Enter desired maximum velocity in knots:100\n"
     ]
    }
   ],
   "source": [
    "Vmax = int(input(\"Enter desired maximum velocity in knots:\"))\n",
    "Whp = 680 * Vmax ** -0.79               # Weight to HP ratio smooth, retractable"
   ]
  },
  {
   "cell_type": "code",
   "execution_count": null,
   "metadata": {},
   "outputs": [],
   "source": []
  },
  {
   "cell_type": "markdown",
   "metadata": {},
   "source": [
    "This section of code determines wing loading."
   ]
  },
  {
   "cell_type": "code",
   "execution_count": 12,
   "metadata": {},
   "outputs": [
    {
     "name": "stdout",
     "output_type": "stream",
     "text": [
      "Enter desired stall velocity in knots:60\n"
     ]
    }
   ],
   "source": [
    "Vstall = int(input(\"Enter desired stall velocity in knots:\"))"
   ]
  },
  {
   "cell_type": "code",
   "execution_count": 5,
   "metadata": {},
   "outputs": [],
   "source": [
    "h = 0                       # Represents sea level\n",
    "rho = solverho(h)\n",
    "qstall = 0.5 * rho * ((Vstall * 1.689) ** 2) # dynamic pressure\n",
    "Clmax = 1.5                 # maximum lift coefficient\n",
    "WS = qstall * Clmax         # Weight to Wing area ratio\n"
   ]
  },
  {
   "cell_type": "code",
   "execution_count": null,
   "metadata": {},
   "outputs": [],
   "source": []
  },
  {
   "cell_type": "markdown",
   "metadata": {},
   "source": [
    "This section of code determines airplane sizing."
   ]
  },
  {
   "cell_type": "code",
   "execution_count": 7,
   "metadata": {},
   "outputs": [
    {
     "name": "stdout",
     "output_type": "stream",
     "text": [
      "W/hp: 30.92591865942867\n",
      "W/S: 8.136861338289435\n",
      "Lift/Drag 6.461586603519158\n",
      "Range: 3767120\n",
      "Wf/W0: 0.21070381533433963\n",
      "W0: 2309.322089479477\n",
      "HP: 74.67270786393965\n",
      "Propeller Diameter: 4.409422706391322\n",
      "Tip Speed: 676.1091618051904\n",
      "Wing Area (ft^2): 283.80993524033096\n",
      "Wing Span (ft): 47.64954860145737\n",
      "Root Chord: 7.4452419689777125\n",
      "Tip Chord: 4.467145181386627\n",
      "Mean Aerodynamic Chord: 6.0802809413317975\n",
      "coefficient of lift (cruise): 0.13103853312013095\n",
      "Alpha incidence angle: -2.594777969278396\n"
     ]
    }
   ],
   "source": [
    "SwetSref = 3.8              # Single engine Conventional design\n",
    "\n",
    "Cfe = 0.005                 # Single engine, retractable gear, smooth design\n",
    "Cd0 = Cfe * SwetSref\n",
    "A = 8\n",
    "\n",
    "#A = float(input(\"Enter Aspect Ratio:\"))         # Aspect ratio\n",
    "K = 0.424 / A               # Drag due to lift factor\n",
    "Vcruise = 155\n",
    "#Vcruise = int(input(\"Enter cruise velocity (kts):\"))  # desired cruise velocity\n",
    "Vcr = Vcruise * 1.689\n",
    "h = 9000\n",
    "#h = float(input(\"Enter cruise altitude in feet:\"))\n",
    "rho = solverho(h)           # air density @ 9000 ft, slugs/ft^3\n",
    "qcruise = 0.5 * rho * (Vcr ** 2) # dynamic pressure\n",
    "LD = 1/ ((qcruise * Cd0 / (WS * 0.98)) + ((WS * 0.98) * K / qcruise))\n",
    "\n",
    "cbhp = 0.5 / 3600 # SFC lbs/hr/hp to lbs/sec/hp\n",
    "\n",
    "np = 0.75 # propeller efficiency\n",
    "Range = Vcruise * 4 * 6076 # 4 hour cruise range in feet\n",
    "WfW0 = (1 - 0.975 * 2.7183 ** -((Range * cbhp) / (550 * np * LD))) * 1.06\n",
    "\n",
    "a = 1.15 # Composite Single Engine\n",
    "\n",
    "for W0g in range(250, 3000):\n",
    "    WeW0 = a * W0g ** -0.09\n",
    "    W0 = 500 / (1 - WeW0 - WfW0)\n",
    "    if W0 - W0g < 1:\n",
    "        break\n",
    "\n",
    "HP = W0 / Whp\n",
    "\n",
    "D3 = 1.50 * HP ** 0.25\n",
    "n = 2700 / 60\n",
    "Vtip = math.sqrt((Vcr ** 2) + (math.pi * n * D3)**2)\n",
    "\n",
    "S = W0 / WS\n",
    "b = math.sqrt(A * S)\n",
    "\n",
    "lamda = 0.6\n",
    "Croot = (2 * S) / (b * (1 + lamda))\n",
    "Ctip = lamda * Croot\n",
    "MAC = (2 / 3) * Croot * ((1 + lamda + lamda ** 2) / (1 + lamda))\n",
    "\n",
    "Ccr = WS / qcruise\n",
    "\n",
    "alpha = Ccr * (10 + 18 / A) + -4.2\n",
    "\n",
    "\n",
    "print(\"W/hp:\", Whp)\n",
    "print(\"W/S:\", WS)\n",
    "print(\"Lift/Drag\", LD)\n",
    "print(\"Range:\", Range)\n",
    "print(\"Wf/W0:\", WfW0)\n",
    "print(\"W0:\", W0)\n",
    "print(\"HP:\", HP)\n",
    "print(\"Propeller Diameter:\", D3)\n",
    "print(\"Tip Speed:\", Vtip)\n",
    "print(\"Wing Area (ft^2):\", S)\n",
    "print(\"Wing Span (ft):\", b)\n",
    "print(\"Root Chord:\", Croot)\n",
    "print(\"Tip Chord:\", Ctip)\n",
    "print(\"Mean Aerodynamic Chord:\", MAC)\n",
    "print(\"coefficient of lift (cruise):\", Ccr)\n",
    "print(\"Alpha incidence angle:\", alpha)\n",
    "\n",
    "# NASA/Langley LS(1)-0413 Airfoil co-ordinates\n",
    "AFx = [0.0000, 0.0020, 0.0050, 0.0125, 0.0250, 0.0375, 0.0500, 0.0750, \\\n",
    "0.1000, 0.1250, 0.1500, 0.1750, 0.2000, 0.2250, 0.2500, 0.2750, 0.3000, \\\n",
    "0.3250, 0.3500, 0.3750, 0.4000, 0.4250, 0.4500, 0.4750, 0.5000, 0.5250, \\\n",
    "0.5500, 0.5750, 0.6000, 0.6250, 0.6500, 0.6750, 0.7000, 0.7250, 0.7500, \\\n",
    "0.7750, 0.8000, 0.8250, 0.8500, 0.8750, 0.9000, 0.9250, 0.9500, 0.9750, \\\n",
    "1.0000, 0.00000, .00200, .00500, .01250, .02500, .03750, .05000, .07500, \\\n",
    "0.10000, .12500, .15000, .17500, .20000, .22500, .25000, .27500, .30000, \\\n",
    "0.32500, .35000, .37500, .40000, .42500, .45000, .47500, .50000, .52500, \\\n",
    "0.55000, .57500, .60000, .62500, .65000, .67500, .70000, .72500, .75000, \\\n",
    "0.77500, .80000, .82500, .85000, .87500, .90000, .92500, .95000, .97500, \\\n",
    "1.00000]\n",
    "\n",
    "AFy = [0.0000, 0.0104, 0.0159, 0.0242, 0.0332, 0.0397, 0.0448, 0.0526, \\\n",
    "0.0586, 0.0635, 0.0675, 0.0710, 0.0740, 0.0765, 0.0786, 0.0803, 0.0818, \\\n",
    "0.0830, 0.0838, 0.0843, 0.0846, 0.0846, 0.0844, 0.0838, 0.0829, 0.0817, \\\n",
    "0.0802, 0.0783, 0.0761, 0.0733, 0.0702, 0.0667, 0.0629, 0.0587, 0.0542, \\\n",
    "0.0495, 0.0445, 0.0393, 0.0340, 0.0284, 0.0227, 0.0169, 0.0110, 0.0048, \\\n",
    "-0.0016, 0.0000, -.0050, -.0094, -.0145, -.0191, -.0223, -.0250, -.0294, \\\n",
    "-.03280, -.03560, -.03790, -.03980, -.04140, -.04270, -.04370, -.04430, \\\n",
    "-.04480, -.04510, -.04520, -.04500, -.04470, -.04420, -.04350, -.04260, \\\n",
    "-.04140, -.03990, -.03810, -.03590, -.03330, -.03050, -.02740, -.02420, \\\n",
    "-.02100, -.01770, -.01440, -.01130, -.00830, -.00570, -.00350, -.00180, \\\n",
    "-.00080, -.00060, -.00130, -.00340, -.00710]\n"
   ]
  },
  {
   "cell_type": "code",
   "execution_count": null,
   "metadata": {},
   "outputs": [],
   "source": []
  },
  {
   "cell_type": "code",
   "execution_count": null,
   "metadata": {},
   "outputs": [],
   "source": []
  },
  {
   "cell_type": "code",
   "execution_count": null,
   "metadata": {},
   "outputs": [],
   "source": []
  },
  {
   "cell_type": "code",
   "execution_count": null,
   "metadata": {},
   "outputs": [],
   "source": []
  },
  {
   "cell_type": "code",
   "execution_count": null,
   "metadata": {},
   "outputs": [],
   "source": []
  },
  {
   "cell_type": "code",
   "execution_count": null,
   "metadata": {},
   "outputs": [],
   "source": []
  },
  {
   "cell_type": "code",
   "execution_count": null,
   "metadata": {},
   "outputs": [],
   "source": []
  },
  {
   "cell_type": "code",
   "execution_count": null,
   "metadata": {},
   "outputs": [],
   "source": []
  },
  {
   "cell_type": "code",
   "execution_count": null,
   "metadata": {},
   "outputs": [],
   "source": []
  },
  {
   "cell_type": "code",
   "execution_count": null,
   "metadata": {},
   "outputs": [],
   "source": []
  }
 ],
 "metadata": {
  "kernelspec": {
   "display_name": "Python 3",
   "language": "python",
   "name": "python3"
  },
  "language_info": {
   "codemirror_mode": {
    "name": "ipython",
    "version": 3
   },
   "file_extension": ".py",
   "mimetype": "text/x-python",
   "name": "python",
   "nbconvert_exporter": "python",
   "pygments_lexer": "ipython3",
   "version": "3.7.6"
  }
 },
 "nbformat": 4,
 "nbformat_minor": 4
}
