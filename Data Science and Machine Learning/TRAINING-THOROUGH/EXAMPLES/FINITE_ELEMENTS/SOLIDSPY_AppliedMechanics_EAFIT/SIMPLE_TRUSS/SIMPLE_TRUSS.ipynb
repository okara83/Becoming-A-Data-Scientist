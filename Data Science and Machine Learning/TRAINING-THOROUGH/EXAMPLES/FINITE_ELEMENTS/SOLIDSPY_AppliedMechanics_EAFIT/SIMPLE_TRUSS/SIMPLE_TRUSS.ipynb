{
 "cells": [
  {
   "cell_type": "markdown",
   "metadata": {},
   "source": [
    "# Solution of a simple truss in SolidsPy\n",
    "\n",
    "Let's find the displacements for a simple truss made with three bars forming\n",
    "a triangle with angles 30°, 60° and 90°."
   ]
  },
  {
   "cell_type": "code",
   "execution_count": null,
   "metadata": {},
   "outputs": [],
   "source": []
  },
  {
   "cell_type": "code",
   "execution_count": 1,
   "metadata": {},
   "outputs": [],
   "source": [
    "#pip install solidspy"
   ]
  },
  {
   "cell_type": "code",
   "execution_count": 2,
   "metadata": {},
   "outputs": [],
   "source": [
    "from __future__ import division, print_function\n",
    "import numpy as np\n",
    "import matplotlib.pyplot as plt\n",
    "import solidspy.postprocesor as pos\n",
    "import solidspy.assemutil as ass\n",
    "import solidspy.solutil as sol\n",
    "import solidspy.uelutil as uel"
   ]
  },
  {
   "cell_type": "code",
   "execution_count": 3,
   "metadata": {},
   "outputs": [],
   "source": [
    "#% matplotlib notebook\n"
   ]
  },
  {
   "cell_type": "markdown",
   "metadata": {},
   "source": [
    "## Input\n",
    "\n",
    "The problem of interest is represented in the following image,\n",
    "\n",
    "<center><img src=\"img/simple_truss.svg\" alt=\"Problem of interes\" style=\"width:400px\"></center>\n",
    "\n",
    "the section of each bar is $A = \\frac{1}{100}\\text{ m}^2$ and the Young\n",
    "modulus $E = 10^6\\text{ Pa}$.\n",
    "\n",
    "### Nodes\n",
    "\n",
    "First, let's define the nodes array for this problem. Each row is of the form\n",
    "\n",
    "    node_id coord_x coord_y cons_x cons_y\n",
    "    \n",
    "where:\n",
    "\n",
    "- ``node_id``: is the node identifier;\n",
    "- ``coord_x``: is the $x$ coordinate of the node;\n",
    "- ``coord_y``: is the $y$ coordinate of the node;\n",
    "- ``cons_x``: tells us if the node is constrained in the $x$ direction;\n",
    "- ``cons_y``: tells us if the node is constrained in $y$;\n",
    "\n",
    "-1 means constrained and 0 unconstrained."
   ]
  },
  {
   "cell_type": "code",
   "execution_count": 4,
   "metadata": {},
   "outputs": [],
   "source": [
    "nodes = np.array([\n",
    "    [0, 5.0, 0.0, 0, 0],\n",
    "    [1, 0.0, 10*np.sqrt(3)/2, -1, 0],\n",
    "    [2, 0.0, 0.0, -1, -1]])"
   ]
  },
  {
   "cell_type": "markdown",
   "metadata": {},
   "source": [
    "### Materials\n",
    "\n",
    "Now, let's define the \"materials\" array, in this array we put the information\n",
    "related to thickness and Young modulus for each bar. Each element can have\n",
    "different values. The form for each row is\n",
    "\n",
    "    young area\n",
    "\n",
    "with:\n",
    "\n",
    "- ``young``: Young modulus of the bar.\n",
    "- ``area``: cross-sectional area of the bar;"
   ]
  },
  {
   "cell_type": "code",
   "execution_count": 5,
   "metadata": {},
   "outputs": [],
   "source": [
    "mats = np.array([\n",
    "    [1e6, 0.01],\n",
    "    [1e6, 0.01],\n",
    "    [1e6, 0.01]])"
   ]
  },
  {
   "cell_type": "markdown",
   "metadata": {},
   "source": [
    "### Elements\n",
    "\n",
    "The elements array provide the connectivity between nodes, material profile,\n",
    "and type of element for each element. The form for each row is\n",
    "\n",
    "    el_id el_type mat_profile node_ini node_end\n",
    "\n",
    "where:\n",
    "\n",
    "- ``el_id``: element identifier;\n",
    "- ``el_type``: element type (6 for truss elements);\n",
    "- ``mat_profile``: material profile, in this case we have one material profile\n",
    "  for each element;\n",
    "- ``node_ini``: first node of the bar;\n",
    "- ``node_end``: last node of the bar."
   ]
  },
  {
   "cell_type": "code",
   "execution_count": 6,
   "metadata": {},
   "outputs": [],
   "source": [
    "eles = np.array([\n",
    "    [0, 6, 0, 2, 0],\n",
    "    [1, 6, 1, 0, 1],\n",
    "    [2, 6, 2, 1, 2]])"
   ]
  },
  {
   "cell_type": "markdown",
   "metadata": {},
   "source": [
    "### Loads\n",
    "\n",
    "The loads array should have the number of node and the components\n",
    "of the forms, in the following form\n",
    "\n",
    "    node_id force_x force_y"
   ]
  },
  {
   "cell_type": "code",
   "execution_count": 7,
   "metadata": {},
   "outputs": [],
   "source": [
    "loads = np.array([\n",
    "    [0, 0.0, -20.0],\n",
    "    [1, 0.0, 0.0]])"
   ]
  },
  {
   "cell_type": "markdown",
   "metadata": {},
   "source": [
    "Now, let's plot a graphic of the truss given by our arrays to double-check."
   ]
  },
  {
   "cell_type": "code",
   "execution_count": 8,
   "metadata": {},
   "outputs": [],
   "source": [
    "def plot_truss(nodes, elements, mats, color=\"green\"):\n",
    "    \"\"\"\n",
    "    Plot a truss\n",
    "    \"\"\"\n",
    "    areas = mats[:, 1]\n",
    "    min_area = areas.min()\n",
    "    max_area = areas.max()\n",
    "    max_val = 4\n",
    "    min_val = 0.5\n",
    "    if max_area - min_area > 1e-6:\n",
    "        widths = (max_val - min_val)*(areas - min_area)/(max_area - min_area)\\\n",
    "            + min_val\n",
    "    else:\n",
    "        widths = 3*np.ones_like(areas)\n",
    "    for el in elements:\n",
    "        ini, end = el[3:]\n",
    "        plt.plot([nodes[ini, 1], nodes[end, 1]],\n",
    "                [nodes[ini, 2], nodes[end, 2]],\n",
    "                color=color, lw=widths[el[2]])\n",
    "    plt.axis(\"image\")"
   ]
  },
  {
   "cell_type": "code",
   "execution_count": 9,
   "metadata": {},
   "outputs": [
    {
     "data": {
      "image/png": "[encoded data removed]",
      "text/plain": [
       "<Figure size 432x288 with 1 Axes>"
      ]
     },
     "metadata": {
      "needs_background": "light"
     },
     "output_type": "display_data"
    }
   ],
   "source": [
    "plt.figure()\n",
    "plot_truss(nodes, eles, mats, color=\"green\");"
   ]
  },
  {
   "cell_type": "markdown",
   "metadata": {},
   "source": [
    "## Elemental matrices\n",
    "\n",
    "The first step to solve the problem is to compute the stiffness matrices\n",
    "for each member of the truss in global coordinates. These matrices\n",
    "are given by\n",
    "\n",
    "$$K_0 = \\frac{2000}{\\sqrt{3}}\\begin{bmatrix}\n",
    "1 &0 &-1 &0\\\\\n",
    "0 &0 &0 &0\\\\\n",
    "1 &0 &-1 &0\\\\\n",
    "0 &0 &0 &0\\end{bmatrix}$$\n",
    "\n",
    "$$K_1 = 250\\begin{bmatrix}\n",
    "3 &-\\sqrt{3} &-3 &\\sqrt{3}\\\\\n",
    "\\sqrt{3} &1 &\\sqrt{3} &-1\\\\\n",
    "-3 &\\sqrt{3} &3 &-\\sqrt{3}\\\\\n",
    "\\sqrt{3} &-1 &-\\sqrt{3} &1\\end{bmatrix}$$\n",
    "\n",
    "$$K_2 = 2000\\begin{bmatrix}\n",
    "0 &0 &0 &0\\\\\n",
    "0 &1 &0 &1\\\\\n",
    "0 &0 &0 &0\\\\\n",
    "0 &-1 &0 &1\\end{bmatrix}$$\n",
    "\n",
    "We can double-check that this result is correct printing the matrices\n",
    "returned by ``uel.ueltruss2D`` from ``solidspy``."
   ]
  },
  {
   "cell_type": "code",
   "execution_count": 10,
   "metadata": {},
   "outputs": [
    {
     "name": "stdout",
     "output_type": "stream",
     "text": [
      "Element 0\n",
      " [[ 2000.     0. -2000.     0.]\n",
      " [    0.     0.     0.     0.]\n",
      " [-2000.     0.  2000.     0.]\n",
      " [    0.     0.     0.     0.]]\n",
      "Element 1\n",
      " [[ 250. -433. -250.  433.]\n",
      " [-433.  750.  433. -750.]\n",
      " [-250.  433.  250. -433.]\n",
      " [ 433. -750. -433.  750.]]\n",
      "Element 2\n",
      " [[    0.     0.     0.     0.]\n",
      " [    0.  1155.     0. -1155.]\n",
      " [    0.     0.     0.     0.]\n",
      " [    0. -1155.     0.  1155.]]\n"
     ]
    }
   ],
   "source": [
    "for cont in range(3):\n",
    "    Kloc = uel.ueltruss2D(nodes[eles[cont, 3:], 1:3], *mats[cont, :])\n",
    "    print(\"Element {}\\n\".format(cont), np.round(Kloc))"
   ]
  },
  {
   "cell_type": "markdown",
   "metadata": {},
   "source": [
    "## System assembly\n",
    "\n",
    "Once we have the elemental matrices we can form the global system of\n",
    "equations to obtain the global matrix.\n",
    "\n",
    "### Unconstrained matrix\n",
    "\n",
    "Let's consider, for now, that none of the nodes is contrained. From a\n",
    "physics point of view, that might be unsound, since that would render\n",
    "the problem undetermined. We will solve that problem later on.\n",
    "\n",
    "The global matrix (for unconstrained nodes) is\n",
    "\n",
    "$$K_\\text{total} = 250 \\begin{bmatrix}\n",
    "\\frac{8}{\\sqrt{3}} + 3 &-\\sqrt{3} &3 &\\sqrt{3} &-\\frac{8}{\\sqrt{3}} &0\\\\\n",
    "-\\sqrt{3} &1 &\\sqrt{3} &-1 &0 &0\\\\\n",
    "3 &\\sqrt{3} &3 &-\\sqrt{3} &0 &0\\\\\n",
    "\\sqrt{3} &-1 &-\\sqrt{3} &9 &0 &-8\\\\\n",
    "-\\frac{8}{\\sqrt{3}} &0 &0 &0 &\\frac{8}{\\sqrt{3}} &0\\\\\n",
    "0 &0 &0 &-8 &0 &8\n",
    "\\end{bmatrix}$$\n",
    "\n",
    "To check that step we can use the ``solidspy`` as well, considering a different\n",
    "nodes array."
   ]
  },
  {
   "cell_type": "code",
   "execution_count": 11,
   "metadata": {},
   "outputs": [
    {
     "name": "stdout",
     "output_type": "stream",
     "text": [
      "[[ 2250.  -433.  -250.   433. -2000.     0.]\n",
      " [ -433.   750.   433.  -750.     0.     0.]\n",
      " [ -250.   433.   250.  -433.     0.     0.]\n",
      " [  433.  -750.  -433.  1905.     0. -1155.]\n",
      " [-2000.     0.     0.     0.  2000.     0.]\n",
      " [    0.     0.     0. -1155.     0.  1155.]]\n"
     ]
    }
   ],
   "source": [
    "nodes_uncon = np.array([\n",
    "    [0, 5.0, 0.0, 0, 0],\n",
    "    [1, 0.0, 10*np.sqrt(3)/2, 0, 0],\n",
    "    [2, 0.0, 0.0, 0, 0]])\n",
    "DME , IBC , neq = ass.DME(nodes_uncon, eles)\n",
    "KG_uncon = ass.assembler(eles, mats, nodes_uncon, neq, DME, sparse=False)\n",
    "print(np.round(KG_uncon))"
   ]
  },
  {
   "cell_type": "markdown",
   "metadata": {},
   "source": [
    "### Constrained matrix\n",
    "\n",
    "In our problem, we are interested in the constrained stiffness matrix.\n",
    "First, because the underlying system of equations has a unique solution.\n",
    "Second, because that would make it smaller.\n",
    "\n",
    "The constrained matrix is the following\n",
    "\n",
    "$$K_\\text{total}^\\text{cons} = 250 \\begin{bmatrix}\n",
    "\\frac{8}{\\sqrt{3}} + 3 &-\\sqrt{3} &\\sqrt{3}\\\\\n",
    "-\\sqrt{3} &1  &-1 \\\\\n",
    "\\sqrt{3} &-1 &9\\\\\n",
    "\\end{bmatrix}$$\n",
    "\n",
    "We can check that result with ``solidspy`` as well."
   ]
  },
  {
   "cell_type": "code",
   "execution_count": 12,
   "metadata": {},
   "outputs": [],
   "source": [
    "# System assembly\n",
    "DME , IBC , neq = ass.DME(nodes, eles)\n",
    "stiff = ass.assembler(eles, mats, nodes, neq, DME, sparse=False)\n",
    "load_vec = ass.loadasem(loads, IBC, neq) # right-hand-side"
   ]
  },
  {
   "cell_type": "code",
   "execution_count": 13,
   "metadata": {},
   "outputs": [
    {
     "name": "stdout",
     "output_type": "stream",
     "text": [
      "[[2250. -433.  433.]\n",
      " [-433.  750. -750.]\n",
      " [ 433. -750. 1905.]]\n"
     ]
    }
   ],
   "source": [
    "print(np.round(stiff))"
   ]
  },
  {
   "cell_type": "code",
   "execution_count": 14,
   "metadata": {},
   "outputs": [
    {
     "name": "stdout",
     "output_type": "stream",
     "text": [
      "[  0. -20.   0.]\n"
     ]
    }
   ],
   "source": [
    "print(load_vec)"
   ]
  },
  {
   "cell_type": "code",
   "execution_count": 15,
   "metadata": {},
   "outputs": [
    {
     "data": {
      "text/plain": [
       "array([-0.0057735 , -0.04732051, -0.01732051])"
      ]
     },
     "execution_count": 15,
     "metadata": {},
     "output_type": "execute_result"
    }
   ],
   "source": [
    "# System solution\n",
    "disp = sol.static_sol(stiff, load_vec)\n",
    "disp"
   ]
  },
  {
   "cell_type": "code",
   "execution_count": 16,
   "metadata": {
    "scrolled": true
   },
   "outputs": [
    {
     "data": {
      "text/plain": [
       "array([[-0.0057735 , -0.04732051],\n",
       "       [ 0.        , -0.01732051],\n",
       "       [ 0.        ,  0.        ]])"
      ]
     },
     "execution_count": 16,
     "metadata": {},
     "output_type": "execute_result"
    }
   ],
   "source": [
    "# Post-processing\n",
    "disp_complete = pos.complete_disp(IBC, nodes, disp)\n",
    "disp_complete"
   ]
  },
  {
   "cell_type": "code",
   "execution_count": null,
   "metadata": {},
   "outputs": [],
   "source": []
  },
  {
   "cell_type": "code",
   "execution_count": 17,
   "metadata": {},
   "outputs": [
    {
     "data": {
      "text/html": [
       "\n",
       "<link href='http://fonts.googleapis.com/css?family=Fenix' rel='stylesheet' type='text/css'>\n",
       "<link href='http://fonts.googleapis.com/css?family=Alegreya+Sans:100,300,400,500,700,800,900,100italic,300italic,400italic,500italic,700italic,800italic,900italic' rel='stylesheet' type='text/css'>\n",
       "<link href='http://fonts.googleapis.com/css?family=Source+Code+Pro:300,400' rel='stylesheet' type='text/css'>\n",
       "<style>\n",
       "/* Based on Lorena Barba template available at: https://github.com/barbagroup/AeroPython/blob/master/styles/custom.css*/\n",
       "@font-face {\n",
       "font-family: \"Computer Modern\";\n",
       "src: url('http://mirrors.ctan.org/fonts/cm-unicode/fonts/otf/cmunss.otf');\n",
       "}\n",
       "div.cell{\n",
       "width:800px;\n",
       "margin-left:16% !important;\n",
       "margin-right:auto;\n",
       "}\n",
       "h1 {\n",
       "font-family: 'Alegreya Sans', sans-serif;\n",
       "}\n",
       "h2 {\n",
       "font-family: 'Fenix', serif;\n",
       "}\n",
       "h3{\n",
       "font-family: 'Fenix', serif;\n",
       "margin-top:12px;\n",
       "margin-bottom: 3px;\n",
       "}\n",
       "h4{\n",
       "font-family: 'Fenix', serif;\n",
       "}\n",
       "h5 {\n",
       "font-family: 'Alegreya Sans', sans-serif;\n",
       "}\t\n",
       "div.text_cell_render{\n",
       "font-family: 'Alegreya Sans',Computer Modern, \"Helvetica Neue\", Arial, Helvetica, Geneva, sans-serif;\n",
       "line-height: 135%;\n",
       "font-size: 120%;\n",
       "width:600px;\n",
       "margin-left:auto;\n",
       "margin-right:auto;\n",
       "}\n",
       ".CodeMirror{\n",
       "font-family: \"Source Code Pro\";\n",
       "font-size: 90%;\n",
       "}\n",
       "/* .prompt{\n",
       "display: None;\n",
       "}*/\n",
       ".text_cell_render h1 {\n",
       "font-weight: 200;\n",
       "font-size: 50pt;\n",
       "line-height: 100%;\n",
       "color:#CD2305;\n",
       "margin-bottom: 0.5em;\n",
       "margin-top: 0.5em;\n",
       "display: block;\n",
       "}\t\n",
       ".text_cell_render h5 {\n",
       "font-weight: 300;\n",
       "font-size: 16pt;\n",
       "color: #CD2305;\n",
       "font-style: italic;\n",
       "margin-bottom: .5em;\n",
       "margin-top: 0.5em;\n",
       "display: block;\n",
       "}\n",
       ".warning{\n",
       "color: rgb( 240, 20, 20 )\n",
       "}\n",
       "</style>\n",
       "<script>\n",
       "MathJax.Hub.Config({\n",
       "TeX: {\n",
       "extensions: [\"AMSmath.js\"]\n",
       "},\n",
       "tex2jax: {\n",
       "inlineMath: [ ['$','$'], [\"\\\\(\",\"\\\\)\"] ],\n",
       "displayMath: [ ['$$','$$'], [\"\\\\[\",\"\\\\]\"] ]\n",
       "},\n",
       "displayAlign: 'center', // Change this to 'center' to center equations.\n",
       "\"HTML-CSS\": {\n",
       "styles: {'.MathJax_Display': {\"margin\": 4}}\n",
       "}\n",
       "});\n",
       "</script>\n",
       "\n"
      ],
      "text/plain": [
       "<IPython.core.display.HTML object>"
      ]
     },
     "execution_count": 17,
     "metadata": {},
     "output_type": "execute_result"
    }
   ],
   "source": [
    "from IPython.core.display import HTML\n",
    "def css_styling():\n",
    "    styles = open('../custom_barba.css', 'r').read()\n",
    "    return HTML(styles)\n",
    "css_styling()"
   ]
  }
 ],
 "metadata": {
  "kernelspec": {
   "display_name": "Python 3",
   "language": "python",
   "name": "python3"
  },
  "language_info": {
   "codemirror_mode": {
    "name": "ipython",
    "version": 3
   },
   "file_extension": ".py",
   "mimetype": "text/x-python",
   "name": "python",
   "nbconvert_exporter": "python",
   "pygments_lexer": "ipython3",
   "version": "3.7.9"
  }
 },
 "nbformat": 4,
 "nbformat_minor": 2
}
