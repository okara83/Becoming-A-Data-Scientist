{
 "cells": [
  {
   "cell_type": "markdown",
   "metadata": {
    "raw_mimetype": "text/latex"
   },
   "source": [
    "(c) Juan Gomez 2019. Thanks to Universidad EAFIT for support. This material is part of the course Introduction to Finite Element Analysis"
   ]
  },
  {
   "cell_type": "markdown",
   "metadata": {},
   "source": [
    "# Application: Visualization in a Full Domain"
   ]
  },
  {
   "cell_type": "markdown",
   "metadata": {},
   "source": [
    "## Introduction"
   ]
  },
  {
   "cell_type": "markdown",
   "metadata": {},
   "source": [
    "This Notebook formalizes the concept of **finite element** as a canonical interpolation domain. For that purpose we use as example, the interpolation ideas discussed so far in the visualization of a function over a two-dimensional space. We first introduce an empriric definition of a **mesh** as a discretization of the computational space into many non-overlapping quadrilaterals or **finite elements**. To perform the visualization the selected (arbitrary) function will be evaluated at the nodal points of each element. These resulting nodal values would later be used to conduct interpolation one element at a time. The nodal values, together with the mesh information (coordinates of the nodal points and relevant element data), are then passed into a set of plotting subroutines based on interpolation. We will not take care of the interpolation ourselves but instead will use Python's own libraries.\n",
    "\n",
    "The notebook covers then the first approximation to meshes and its representation into elements and nodal arrays. Here we will use a mesh that has been previously created and is available in memory and is given in terms of text files. **After completing this notebook you should be able to:**\n",
    "\n",
    "* Identify a finite element as a general interpolation space.\n",
    "\n",
    "* Recognize the concept of a mesh and its representation in terms of nodal and elemental data.\n",
    "\n",
    "* Use Python's Triangulation objects as a tool to perform interpolation operations.\n",
    "\n",
    "* Apply SolidsPy post-processing subroutines in the visualiazation of functions.\n"
   ]
  },
  {
   "cell_type": "markdown",
   "metadata": {},
   "source": [
    "## Finite element discretization of a two-dimensional domain\n",
    "The figure below shows a square domain which has been discretized (or covered) by a number of non-overlapping quadrilateral elements. These elements are analogous to the single quadrilateral domains covered in previous notebooks.\n",
    "\n",
    "\n",
    "<center><img src=\"img/mydomain.png\" alt=\"mesh\" style=\"width:600px\"></center>\n",
    "\n",
    "The **mesh** or set of **finite elements** is defined by 2 basic geometric entities namely, the **nodal points** and the **elements**.The relavant data for a nodal point is defined by a nodal identifier (usually an integer) and by its corresponding space coordinates. Similarly an element is defined by and ordered arrangement of 4-nodal points, called the element **connectivities**. The order of the nodal points defining an element must be consistent with the pre-defined order of the shape functions in the canonical element. In summary a mesh is defined by the identifiers and spatial coordinates of all the nodal points and by the connectivities of all the elements coverig the computational domain.\n",
    "\n",
    "A common way to pass a mesh into a finite element program is through text files. In the current example the mesh is represented by two text files (**Vnodes.txt** and **Veles.txt** available in the **files** folder of the Repo) which contain the nodal point coordinates and the list of nodal connectivities conforming each element. The figure below shows the typical structure of text files used in finite element codes. The file on the left is a **nodes** file where the first column contains the nodal identifier defined by an integer, while columns 2 and 3 contain the spatial coordinates for each node. The file on the right is an **elements** file. The first column contains an integer with the element identifier; columns 2 and 3 store parameters (not relevant in this example) and columnss 4 to 7 contain integer numbers defining the nodal connectivities for the specific element. At this point we won't focus in how to create these specific text files but will assume that they reside in memory.\n",
    "\n",
    "**Questions:**\n",
    "\n",
    "**Write a Python script that reads files like the ones shown in the figure and stores the data in numpy arrays**"
   ]
  },
  {
   "cell_type": "markdown",
   "metadata": {},
   "source": [
    "<center><img src=\"img/textfiles.png\" alt=\"files\" style=\"width:600px\"></center>"
   ]
  },
  {
   "cell_type": "markdown",
   "metadata": {},
   "source": [
    "## Visualization of a function in the two-dimensonal domain.\n",
    "Using a mesh like the one described above we want to use computational tools based on two-dimensional interpolation theory to visualize the scalar function:\n",
    "\n",
    "$$f(x,y) = (x^2 + y^2)^p$$\n",
    "\n",
    "over a rectangular domain. For that purpose we will develop the following steps:\n",
    "\n",
    "* Create the mesh or set of nodal points arranged into non-overlapping quadrilateral finite elements.\n",
    "\n",
    "* Evaluate the function in each nodal point of the mesh.\n",
    "\n",
    "* Using the nodal values of the function interpolate over each element to obtain the solutions at a set of points scattered throughout the element.\n",
    "\n",
    "* Visualize the solution over the full domain.\n",
    "\n",
    "\n",
    "The resulting Python code will be composed by a main program and a set of subroutines used to perform the interpolation at the element level and to visualize the solution over the complete doamin."
   ]
  },
  {
   "cell_type": "markdown",
   "metadata": {},
   "source": [
    "#### Function defintion\n",
    "\n",
    "In this initial block of code we import required modules and define the function to be visualized corresponding to:\n",
    "\n",
    "$$f(x,y) = (x^2 + y^2)^p$$\n",
    "\n",
    "where $p$ is a parameter.\n",
    "\n",
    "**Try running the code with different functions**"
   ]
  },
  {
   "cell_type": "code",
   "execution_count": 1,
   "metadata": {},
   "outputs": [],
   "source": [
    "%matplotlib inline        \n",
    "import matplotlib.pyplot as plt\n",
    "from matplotlib.tri import Triangulation, CubicTriInterpolator\n",
    "import numpy as np\n",
    "import sympy as sym\n",
    "#\n",
    "def myfunction(x, y, p):\n",
    "    ux=(x**2.+y**2.)**p\n",
    "    return ux"
   ]
  },
  {
   "cell_type": "markdown",
   "metadata": {},
   "source": [
    "#### Interpolation and visualization subroutines\n",
    "For the visualization per se we will use subroutines extracted from the post-processing modules in the finite element code [SolidsPY](https://github.com/AppliedMechanics-EAFIT/SolidsPy). These subroutines use a Python [Triangulation object](https://matplotlib.org/api/tri_api.html) where each quadrilateral element is divided into triangles. Python takes each triangle, together with the nodal values of the variables and conducts local interpolation.\n",
    "\n",
    "The first subrouine from the postprocessing module (called **plot_SFIELD()**) receives as inputs the solution array **UC** storing the value of the function at each nodal point in the mesh; the mesh (defined in terms of the arrays **nodes** and **elements**) and additional plotting paramters. This subroutine calls a second subroutine called **mesh2tri()** which divides each square into triangles as described next.\n",
    "\n",
    "**Questions:**\n",
    "\n",
    "**(i) Document the following subroutine by adding a definition of each input and output parameter indicating the type of data in each case and the definition of the parameter within the current context. Follow the example included for the case of UC.**\n",
    "\n",
    "**(ii) Indicate how the plot_SFIELD() needs to be modified in order to plot a vecrtor field.**"
   ]
  },
  {
   "cell_type": "code",
   "execution_count": 2,
   "metadata": {},
   "outputs": [],
   "source": [
    "def plot_SFIELD(UC, nodes, elements, Ngra, plt_type=\"contourf\",  levels=12,\n",
    "               savefigs=False, title=\"Solution:\"  ):\n",
    "    \"\"\"Plots a user defined scalar field using a triangulation.\n",
    "    Parameters\n",
    "    ----------\n",
    "    UC : ndarray (float)\n",
    "      Array with the nodal solution.\n",
    "\n",
    "    \"\"\"\n",
    "    tri = mesh2tri(nodes, elements)\n",
    "    tri_plot(tri, UC , Ngra , title=r'$U_{var}$',\n",
    "             figtitle=title + \"User variable\",\n",
    "             levels=levels, plt_type=plt_type, savefigs=savefigs,\n",
    "             filename=\"uservar.pdf\")"
   ]
  },
  {
   "cell_type": "markdown",
   "metadata": {},
   "source": [
    "Subroutine **mesh2tri()** takes as input parameters the arrays **nodes** and **elements** and use them to convert the finite element mesh into Triangulation objects, which are represented here by the list **tri**. The figure below displays a quad element conformed by 4 nodal points, namely $4 , 5, 6, 2$. Subroutine **mesh2tri()** splits the quad element into two triangles with 3 nodal points $6, 2 , 4$ and $4, 5, 6$. Details about triangular grids in matplotlib can be found [here](https://matplotlib.org/api/tri_api.html).\n",
    "\n",
    "\n",
    "\n",
    "<center><img src=\"img/Triangular.png\" alt=\"triangle\" style=\"width:600px\"></center>\n",
    "\n",
    "All the resulting triangles are stored in the list **triangs** which is later passed in to the Pyhton function **Triangulation()** together with the complete list of nodal coordinates."
   ]
  },
  {
   "cell_type": "code",
   "execution_count": 3,
   "metadata": {},
   "outputs": [],
   "source": [
    "def mesh2tri(nodes, elements):\n",
    "    \"\"\"Generates a matplotlib.tri.Triangulation object from the mesh\n",
    "\n",
    "    Parameters\n",
    "    ----------\n",
    "    nodes : ndarray (float)\n",
    "      Array with number and nodes coordinates:\n",
    "        `number coordX coordY BCX BCY`\n",
    "    elements : ndarray (int)\n",
    "      Array with the node number for the nodes that correspond to each\n",
    "      element.\n",
    "\n",
    "    Returns\n",
    "    -------\n",
    "    tri : Triangulation\n",
    "        An unstructured triangular grid consisting of npoints points\n",
    "        and ntri triangles.\n",
    "\n",
    "    \"\"\"\n",
    "    x = nodes[:, 1]\n",
    "    y = nodes[:, 2]\n",
    "    triangs = []\n",
    "    for el in elements:\n",
    "        if el[1]==3:\n",
    "            triangs.append(el[[3, 4, 5]])\n",
    "            triangs.append(el[[5, 6, 3]])\n",
    "        if el[1]==9:\n",
    "            triangs.append(el[[3, 6, 8]])\n",
    "            triangs.append(el[[6, 7, 8]])\n",
    "            triangs.append(el[[6, 4, 7]])\n",
    "            triangs.append(el[[7, 5, 8]])\n",
    "        if el[1]==2:\n",
    "            triangs.append(el[3:])\n",
    "\n",
    "    tri = Triangulation(x, y, np.array(triangs))\n",
    "#\n",
    "    return tri"
   ]
  },
  {
   "cell_type": "markdown",
   "metadata": {},
   "source": [
    "Once the triangulization has been performed the resulting object, labeled **tri**, is passed to the plotting function (**tri_plot**) together with the solution vector, to perform the final visualization operation.\n",
    "\n",
    "**Questions:**\n",
    "\n",
    "**Document the following subroutine by adding a definition of each input and output parameter indicating the type of data in each case and the definition of the parameter within the current context.**"
   ]
  },
  {
   "cell_type": "code",
   "execution_count": 4,
   "metadata": {},
   "outputs": [],
   "source": [
    "def tri_plot(tri, field, Ngra ,  title=\"\", figtitle=\"\", levels=12, savefigs=False,\n",
    "             plt_type=\"contourf\" , filename=\"solution_plot.pdf\"  ):\n",
    "\n",
    "    plt.figure(Ngra)\n",
    "    if plt_type==\"pcolor\":\n",
    "        disp_plot = plt.tripcolor\n",
    "    elif plt_type==\"contourf\":\n",
    "        disp_plot = plt.tricontourf\n",
    "    plt.figure(figtitle)\n",
    "    disp_plot(tri, field, levels, shading=\"gouraud\")\n",
    "    plt.title(title)\n",
    "    plt.colorbar(orientation='vertical')\n",
    "    plt.axis(\"image\")\n",
    "    plt.grid()"
   ]
  },
  {
   "cell_type": "markdown",
   "metadata": {},
   "source": [
    "#### Main program: mesh reading and function evaluation"
   ]
  },
  {
   "cell_type": "markdown",
   "metadata": {},
   "source": [
    "We now read the mesh which is stored in the text files **Vnodes.txt** and **Veles.txt** avaialable in the **files** folder of this Repo. The numpy function **loadtxt** reads the text files and convert them into arrays **nodes** and **elements** respectively."
   ]
  },
  {
   "cell_type": "code",
   "execution_count": 5,
   "metadata": {},
   "outputs": [],
   "source": [
    "nodes        = np.loadtxt('files/'+'Vnodes.txt')\n",
    "elements     = np.loadtxt('files/'+'Veles.txt')\n",
    "nn =len(nodes[:,0])"
   ]
  },
  {
   "cell_type": "markdown",
   "metadata": {},
   "source": [
    "The main code follows with the extraction of the nodal coordinates from the primary **nodes** array and the initialization of the solution array **SOL[]**."
   ]
  },
  {
   "cell_type": "code",
   "execution_count": 6,
   "metadata": {},
   "outputs": [],
   "source": [
    "coords=np.zeros([nn,2])\n",
    "coords[:,0]=nodes[:,1]\n",
    "coords[:,1]=nodes[:,2]\n",
    "SOL = np.zeros([nn])"
   ]
  },
  {
   "cell_type": "markdown",
   "metadata": {},
   "source": [
    "Now evaluate the solution at each point of coordinates $(x , y)$ and store the result in **SOL[]**.\n",
    "\n",
    "**Try different values of the power parameter $p$**"
   ]
  },
  {
   "cell_type": "code",
   "execution_count": 7,
   "metadata": {},
   "outputs": [],
   "source": [
    "par1 = 2.0\n",
    "for i in range(0,nn):\n",
    "    x = coords[i,0]\n",
    "    y = coords[i,1]\n",
    "    uu =myfunction(x,y,par1)\n",
    "    SOL[i] = uu"
   ]
  },
  {
   "cell_type": "markdown",
   "metadata": {},
   "source": [
    "In the final step **SOL[]** is passed to **plot_SFIELD()** to conduct the final visualization operation as discussed above."
   ]
  },
  {
   "cell_type": "code",
   "execution_count": 8,
   "metadata": {},
   "outputs": [
    {
     "name": "stderr",
     "output_type": "stream",
     "text": [
      "C:\\Users\\TURBULENCE\\anaconda3\\lib\\site-packages\\ipykernel_launcher.py:10: UserWarning: The following kwargs were not used by contour: 'shading'\n",
      "  # Remove the CWD from sys.path while we load stuff.\n"
     ]
    },
    {
     "data": {
      "text/plain": [
       "<Figure size 432x288 with 0 Axes>"
      ]
     },
     "metadata": {},
     "output_type": "display_data"
    },
    {
     "data": {
      "image/png": "[encoded data removed]",
      "text/plain": [
       "<Figure size 432x288 with 2 Axes>"
      ]
     },
     "metadata": {
      "needs_background": "light"
     },
     "output_type": "display_data"
    }
   ],
   "source": [
    "plot_SFIELD(SOL , nodes , elements, 0 , plt_type =\"contourf\", levels = 12 )"
   ]
  },
  {
   "cell_type": "markdown",
   "metadata": {},
   "source": [
    "### Glossary of terms.\n",
    "\n",
    "**Finite element:** Interpolation space of predefined geometry and its associated interpolation functions.\n",
    "\n",
    "**Element connectivities:** Ordered list of integers identifying nodal points conforming a given finite element.\n",
    "\n",
    "**Finite element mesh:** A finite number of non-overlapping finite elements covering a complete computational domain.\n",
    "\n",
    "**SolidsPy:** Finite element solver for the stress analysis of two-dimensional arbitrary domains written in Python."
   ]
  },
  {
   "cell_type": "markdown",
   "metadata": {},
   "source": [
    "### Class activity\n",
    "Consider the theory of elasticity solution for a cantilever beam of height $h = 2c$, length $2\\ell$ and moment of inertia $I$, subjected to a uniformly distributed load of intensity $q$ (Timoshenko and Goodier, 2011):\n",
    "\n",
    "$$\\sigma_{xx}=-\\frac q{2I}\\left(x^2y-\\frac23y^3\\right)$$\n",
    "\n",
    "$$\\sigma_{yy}=-\\frac q{2I}\\left(\\frac13y^3-c^2y+\\frac23c^3\\right)$$\n",
    "\n",
    "$$\\tau_{xy}=-\\frac q{2I}\\left(c^2-y^2\\right)x$$\n",
    "\n",
    "\n",
    "\n",
    "<center><img src=\"img/beam.png\" alt=\"beam\" style=\"width:600px\"></center>\n",
    "\n",
    "\n",
    "* Identify the problem domain  and use the free three-dimensional mesh generator [Gmsh](http://gmsh.info/) to create a finite element mesh of this domain.\n",
    "\n",
    "* Use the Python module [meshio](https://github.com/nschloe/meshio) to read the mesh from the **.msh** created file and convert it into the appropriate text files for nodes and elements.\n",
    "\n",
    "* Use the interpolation and visualization subroutines discussed in the notebook to create an independent script (or notebook) and visualize the principal stresses over the computational domain.\n",
    "\n",
    "The attached video (in spanish) shows simple steps in the creation and reading of a model combining  [Gmsh](http://gmsh.info/) and [meshio](https://github.com/nschloe/meshio)."
   ]
  },
  {
   "cell_type": "code",
   "execution_count": 9,
   "metadata": {},
   "outputs": [
    {
     "data": {
      "image/jpeg": "[encoded data removed]",
      "text/html": [
       "\n",
       "        <iframe\n",
       "            width=\"400\"\n",
       "            height=\"300\"\n",
       "            src=\"https://www.youtube.com/embed/ibeIKaSYG2U\"\n",
       "            frameborder=\"0\"\n",
       "            allowfullscreen\n",
       "        ></iframe>\n",
       "        "
      ],
      "text/plain": [
       "<IPython.lib.display.YouTubeVideo at 0x165b6478ac8>"
      ]
     },
     "execution_count": 9,
     "metadata": {},
     "output_type": "execute_result"
    }
   ],
   "source": [
    "from IPython.display import YouTubeVideo\n",
    "YouTubeVideo('ibeIKaSYG2U')"
   ]
  },
  {
   "cell_type": "markdown",
   "metadata": {},
   "source": [
    "### References\n",
    "\n",
    "* Juan Gómez, Nicolás Guarín-Zapata (2018). SolidsPy: 2D-Finite Element Analysis with Python, <https://github.com/AppliedMechanics-EAFIT/SolidsPy>.\n",
    "\n",
    "* Timoshenko, S.P., and Goodier, J.N. (1976). Theory of Elasticity. International Student Edition. McGraw-Hill International."
   ]
  },
  {
   "cell_type": "code",
   "execution_count": 10,
   "metadata": {},
   "outputs": [
    {
     "data": {
      "text/html": [
       "\n",
       "<link href='http://fonts.googleapis.com/css?family=Fenix' rel='stylesheet' type='text/css'>\n",
       "<link href='http://fonts.googleapis.com/css?family=Alegreya+Sans:100,300,400,500,700,800,900,100italic,300italic,400italic,500italic,700italic,800italic,900italic' rel='stylesheet' type='text/css'>\n",
       "<link href='http://fonts.googleapis.com/css?family=Source+Code+Pro:300,400' rel='stylesheet' type='text/css'>\n",
       "\n",
       "<style>\n",
       "\n",
       "/*\n",
       "Template for Notebooks for ModelaciÃ³n computacional.\n",
       "\n",
       "Based on Lorena Barba template available at:\n",
       "\n",
       "    https://github.com/barbagroup/AeroPython/blob/master/styles/custom.css\n",
       "*/\n",
       "\n",
       "/* Fonts */\n",
       "@font-face {\n",
       "font-family: \"Computer Modern\";\n",
       "src: url('http://mirrors.ctan.org/fonts/cm-unicode/fonts/otf/cmunss.otf');\n",
       "}\n",
       "\n",
       "/* Text */\n",
       "div.cell{\n",
       "width:800px;\n",
       "margin-left:16% !important;\n",
       "margin-right:auto;\n",
       "}\n",
       "h1 {\n",
       "font-family: 'Alegreya Sans', sans-serif;\n",
       "}\n",
       "h2 {\n",
       "font-family: 'Fenix', serif;\n",
       "}\n",
       "h3{\n",
       "font-family: 'Fenix', serif;\n",
       "margin-top:12px;\n",
       "margin-bottom: 3px;\n",
       "}\n",
       "h4{\n",
       "font-family: 'Fenix', serif;\n",
       "}\n",
       "h5 {\n",
       "font-family: 'Alegreya Sans', sans-serif;\n",
       "}\t\n",
       "div.text_cell_render{\n",
       "font-family: 'Alegreya Sans',Computer Modern, \"Helvetica Neue\", Arial, Helvetica, Geneva, sans-serif;\n",
       "line-height: 135%;\n",
       "font-size: 120%;\n",
       "width:600px;\n",
       "margin-left:auto;\n",
       "margin-right:auto;\n",
       "}\n",
       ".CodeMirror{\n",
       "font-family: \"Source Code Pro\";\n",
       "font-size: 90%;\n",
       "}\n",
       "/* .prompt{\n",
       "display: None;\n",
       "}*/\n",
       ".text_cell_render h1 {\n",
       "font-weight: 200;\n",
       "font-size: 50pt;\n",
       "line-height: 100%;\n",
       "color:#CD2305;\n",
       "margin-bottom: 0.5em;\n",
       "margin-top: 0.5em;\n",
       "display: block;\n",
       "}\t\n",
       ".text_cell_render h5 {\n",
       "font-weight: 300;\n",
       "font-size: 16pt;\n",
       "color: #CD2305;\n",
       "font-style: italic;\n",
       "margin-bottom: .5em;\n",
       "margin-top: 0.5em;\n",
       "display: block;\n",
       "}\n",
       ".warning{\n",
       "color: rgb( 240, 20, 20 )\n",
       "}\n",
       "</style>\n",
       "\n",
       "<script>\n",
       "/* Equations */\n",
       "\n",
       "MathJax.Hub.Config({\n",
       "TeX: {\n",
       "extensions: [\"AMSmath.js\"]\n",
       "},\n",
       "tex2jax: {\n",
       "inlineMath: [ ['$','$'], [\"\\\\(\",\"\\\\)\"] ],\n",
       "displayMath: [ ['$$','$$'], [\"\\\\[\",\"\\\\]\"] ]\n",
       "},\n",
       "displayAlign: 'center', // Change this to 'center' to center equations.\n",
       "\"HTML-CSS\": {\n",
       "styles: {'.MathJax_Display': {\"margin\": 4}}\n",
       "}\n",
       "});\n",
       "</script>\n",
       "\n",
       "\n"
      ],
      "text/plain": [
       "<IPython.core.display.HTML object>"
      ]
     },
     "execution_count": 10,
     "metadata": {},
     "output_type": "execute_result"
    }
   ],
   "source": [
    "from IPython.core.display import HTML\n",
    "def css_styling():\n",
    "    styles = open('./nb_style.css', 'r').read()\n",
    "    return HTML(styles)\n",
    "css_styling()"
   ]
  },
  {
   "cell_type": "code",
   "execution_count": null,
   "metadata": {},
   "outputs": [],
   "source": []
  }
 ],
 "metadata": {
  "celltoolbar": "Raw Cell Format",
  "kernelspec": {
   "display_name": "Python 3",
   "language": "python",
   "name": "python3"
  },
  "language_info": {
   "codemirror_mode": {
    "name": "ipython",
    "version": 3
   },
   "file_extension": ".py",
   "mimetype": "text/x-python",
   "name": "python",
   "nbconvert_exporter": "python",
   "pygments_lexer": "ipython3",
   "version": "3.7.9"
  },
  "varInspector": {
   "cols": {
    "lenName": 16,
    "lenType": 16,
    "lenVar": 40
   },
   "kernels_config": {
    "python": {
     "delete_cmd_postfix": "",
     "delete_cmd_prefix": "del ",
     "library": "var_list.py",
     "varRefreshCmd": "print(var_dic_list())"
    },
    "r": {
     "delete_cmd_postfix": ") ",
     "delete_cmd_prefix": "rm(",
     "library": "var_list.r",
     "varRefreshCmd": "cat(var_dic_list()) "
    }
   },
   "types_to_exclude": [
    "module",
    "function",
    "builtin_function_or_method",
    "instance",
    "_Feature"
   ],
   "window_display": false
  }
 },
 "nbformat": 4,
 "nbformat_minor": 1
}
