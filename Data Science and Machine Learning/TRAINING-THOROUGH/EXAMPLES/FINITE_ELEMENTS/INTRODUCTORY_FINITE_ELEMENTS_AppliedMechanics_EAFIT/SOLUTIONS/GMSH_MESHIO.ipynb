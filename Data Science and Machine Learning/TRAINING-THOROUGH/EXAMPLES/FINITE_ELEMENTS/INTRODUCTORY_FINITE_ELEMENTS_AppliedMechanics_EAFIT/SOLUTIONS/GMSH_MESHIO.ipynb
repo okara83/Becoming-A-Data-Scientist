{
 "cells": [
  {
   "cell_type": "markdown",
   "metadata": {
    "raw_mimetype": "text/latex"
   },
   "source": [
    "(c) Juan Gomez 2019. Thanks to Universidad EAFIT for support. This material is part of the course Introduction to Finite Element Analysis"
   ]
  },
  {
   "cell_type": "markdown",
   "metadata": {},
   "source": [
    "# Creating a finite element discretization using gmsh and meshio"
   ]
  },
  {
   "cell_type": "markdown",
   "metadata": {},
   "source": [
    "## Introduction"
   ]
  },
  {
   "cell_type": "markdown",
   "metadata": {},
   "source": [
    "This Notebook describes basic steps in the creation of a two-dimensional finite element model using the mesh generation software gmsh. It also discusses the conversion of the resulting mesh into text files as requiered in many open source finite element code. In this case we will follow the format from SolidsPy.\n",
    "\n",
    " **After completing this notebook you should be able to:**\n",
    "\n",
    "* Create finite element discretizations of simple two-dimensional computational domains using gmsh.\n",
    "\n",
    "* Convert the mesh into text files using Python functions built on meshio.\n"
   ]
  },
  {
   "cell_type": "markdown",
   "metadata": {},
   "source": [
    "## The model\n",
    "\n",
    "The model is a simple rectangular domain fabricated of two different materials as indicated in the figure. The plate is loaded on the top surface by a uniform load of intensity $W$ units of force per unit of length. Recall that the plane strain assumption implies an infinite extension in the direction perpendicular to the plane of the model. The displacement boundary conditions correspond to roller supports along the lateral vertical surfaces and the bottom horizontal surface. In this tutorial we will focus only on the creation of the model without consideration of the stress analysis yet.\n",
    "\n",
    "\n",
    "<center><img src=\"img/the_model.png\" alt=\"mesh\" style=\"width:400px\"></center>"
   ]
  },
  {
   "cell_type": "markdown",
   "metadata": {},
   "source": [
    "## The gmsh model\n",
    "\n",
    "The definition of a model in gmsh involves 2 basic steps as follows:\n",
    "\n",
    "* Geometry definition (file of extension .geo)\n",
    "\n",
    "* Mesh definition: discretizastion of the geometry  into finite elements(file of extension .msh)\n",
    "\n",
    "In gmsh a geometry is created through the definition and combination of hierarchical objects such as:\n",
    "\n",
    "* Points (defined by its space coordinates in a reference system)\n",
    "\n",
    "* Lines (defined by the ordered union of several points)\n",
    "\n",
    "* Plane surfaces (also called  “line loops”) defined by the union of several lines forming a closed figure.\n",
    "\n",
    "The figure shows the points numbered from $1$ through $6$, the lines numbered from $1$ through $7$ (note that each line is defined by an initial and a final point) and the plane surfaces or line loops defined by a group of nodes. The ordering of the group of nodes defines the direction of the loop. This direction will affect the node ordering in the finite elements assigned to the surface. Note that the in the definition of the loop $10$ line $7$ appears with a minus sign. This is to indicate that this line is being traversed in the negative direction.\n",
    "\n",
    "**With the help of the instructor use gmsh to define the required points, lines and plane surfaces and to produce a finite element mesh.**"
   ]
  },
  {
   "cell_type": "markdown",
   "metadata": {},
   "source": [
    "<center><img src=\"img/the_geometry.png\" alt=\"mesh\" style=\"width:400px\"></center>"
   ]
  },
  {
   "cell_type": "markdown",
   "metadata": {},
   "source": [
    "The geometric model is stored in a text file like the one shown below. The model has been parametrized in terms of the length $L$, height $H$ and characteristic finite element side $0.1$.\n",
    "\n",
    "<center><img src=\"img/the_file.png\" alt=\"mesh\" style=\"width:400px\"></center>"
   ]
  },
  {
   "cell_type": "markdown",
   "metadata": {},
   "source": [
    "The geometric model and resulting mesh is shown in the figure.\n",
    "\n",
    "<center><img src=\"img/the_mesh.png\" alt=\"mesh\" style=\"width:600px\"></center>"
   ]
  },
  {
   "cell_type": "markdown",
   "metadata": {},
   "source": [
    "## Using meshio to convert the mesh file into text files.\n",
    "\n",
    "**meshio** is a Python package with a series of functions to conduct input/output operations upon many mesh formats including those of gmsh. We have used some of those functions to create subroutines or pseudo-commands to facilitate the conversion of the gmsh mesh file into SolidsPy required format. In this tutorial we will describe only the use of the subroutines necessary to write the nodes and elements files. The complete work flow is described in the figure.\n",
    "\n",
    "\n",
    "<center><img src=\"img/the_pipe.png\" alt=\"mesh\" style=\"width:600px\"></center>\n",
    "\n",
    "\n",
    "The **mesh** or set of **finite elements** is defined by 2 basic geometric entities namely, the **nodal points** and the **elements**.The relavant data for a nodal point is defined by a nodal identifier (usually an integer) and by its corresponding space coordinates. Similarly an element is defined by and ordered arrangement of nodal points, called the element **connectivities**. The order of the nodal points defining an element must be consistent with the pre-defined order of the shape functions in the canonical element. In summary a mesh is defined by the identifiers and spatial coordinates of all the nodal points and by the connectivities of all the elements covering the computational domain. Some of the elements avialble in SolidsPy are shown below.\n",
    "\n",
    "\n",
    "<center><img src=\"img/the_library.png\" alt=\"mesh\" style=\"width:600px\"></center>"
   ]
  },
  {
   "cell_type": "markdown",
   "metadata": {},
   "source": [
    "The preprocessor module in SolidsPy contains a set of subroutines that can directly interpret the mesh and write the required text files. In the following block of code we show these nodal writing and element writing subroutines.\n",
    "\n",
    "We include the subroutines for the purpose of explanation- However they can be used directly after importing the preprocesor module from SolidsPy."
   ]
  },
  {
   "cell_type": "code",
   "execution_count": 1,
   "metadata": {},
   "outputs": [],
   "source": [
    "%matplotlib notebook\n",
    "import numpy as np\n",
    "import matplotlib.pyplot as plt\n",
    "from matplotlib.tri import Triangulation, CubicTriInterpolator\n",
    "import meshio\n",
    "#import solidspy.preprocesor as msh"
   ]
  },
  {
   "cell_type": "code",
   "execution_count": 2,
   "metadata": {},
   "outputs": [],
   "source": [
    "def node_writer(points , point_data):\n",
    "    \"\"\"Write nodal data as required by SolidsPy\n",
    "\n",
    "    Parameters\n",
    "    ----------\n",
    "    points : dictionary\n",
    "        Nodal points\n",
    "    point_data : dictionary\n",
    "        Physical data associatted to the nodes.\n",
    "\n",
    "    Returns\n",
    "    -------\n",
    "    nodes_array : ndarray (int)\n",
    "        Array with the nodal data according to SolidsPy.\n",
    "\n",
    "    \"\"\"\n",
    "    nodes_array = np.zeros([points.shape[0], 5])\n",
    "    nodes_array[:, 0] = range(points.shape[0])\n",
    "    nodes_array[:, 1:3] = points[:, :2]\n",
    "    return nodes_array"
   ]
  },
  {
   "cell_type": "code",
   "execution_count": 3,
   "metadata": {},
   "outputs": [],
   "source": [
    "def ele_writer(cells, cell_data, ele_tag, phy_sur,  ele_type, mat_tag, nini):\n",
    "    \"\"\"\n",
    "    Extracts a subset of elements from a complete mesh according to the\n",
    "    physical surface  phy_sur and writes down the proper fields into an\n",
    "    elements array.\n",
    "\n",
    "    Parameters\n",
    "    ----------\n",
    "        cell : dictionary\n",
    "            Dictionary created by meshio with cells information.\n",
    "        cell_data: dictionary\n",
    "            Dictionary created by meshio with cells data information.\n",
    "        ele_tag : string\n",
    "            Element type according to meshio convention,\n",
    "            e.g., quad9 or line3.\n",
    "        phy_sur : int\n",
    "            Physical surface for the subset.\n",
    "        ele_type: int\n",
    "            Element type.\n",
    "        mat_tag : int\n",
    "            Material profile for the subset.\n",
    "        ndof : int\n",
    "            Number of degrees of freedom for the elements.\n",
    "        nnode : int\n",
    "            Number of nodes for the element.\n",
    "        nini : int\n",
    "            Element id for the first element in the set.\n",
    "\n",
    "    Returns\n",
    "    -------\n",
    "        nf : int\n",
    "            Element id for the last element in the set\n",
    "        els_array : int\n",
    "            Elemental data.\n",
    "\n",
    "    \"\"\"\n",
    "    eles = cells[ele_tag]\n",
    "    dict_nnode = {'triangle': 3,\n",
    "                  'triangle6': 6,\n",
    "                  'quad': 4}\n",
    "    nnode = dict_nnode[ele_tag]\n",
    "    phy_surface = cell_data[ele_tag]['gmsh:physical']\n",
    "    ele_id = [cont for cont, _ in enumerate(phy_surface[:])\n",
    "              if phy_surface[cont] == phy_sur]\n",
    "    els_array = np.zeros([len(ele_id) , 3 + nnode], dtype=int)\n",
    "    els_array[: , 0] = range(nini , len(ele_id) + nini )\n",
    "    els_array[: , 1] = ele_type\n",
    "    els_array[: , 2] = mat_tag\n",
    "    els_array[: , 3::] = eles[ele_id, :]\n",
    "    nf = nini + len(ele_id)\n",
    "    return nf , els_array"
   ]
  },
  {
   "cell_type": "markdown",
   "metadata": {},
   "source": [
    "The text files generation script follows next. In the first block of code we read the gmsh file, in this case inter_template.msh."
   ]
  },
  {
   "cell_type": "code",
   "execution_count": 4,
   "metadata": {},
   "outputs": [],
   "source": [
    "mesh = meshio.read(\"files/inter_template.msh\")\n",
    "points = mesh.points\n",
    "cells  = mesh.cells\n",
    "point_data = mesh.point_data\n",
    "cell_data  = mesh.cell_data\n",
    "field_data = mesh.field_data"
   ]
  },
  {
   "cell_type": "markdown",
   "metadata": {},
   "source": [
    "We now form the nodes array and leave it ready to be written in the text file."
   ]
  },
  {
   "cell_type": "code",
   "execution_count": 5,
   "metadata": {},
   "outputs": [],
   "source": [
    "nodes_array    = node_writer(points, point_data)"
   ]
  },
  {
   "cell_type": "markdown",
   "metadata": {},
   "source": [
    "The next block forms arrays storing the elemental data. In the first line we form the array **els1_array()** storing the elements along the first physical surface with identifier $100$. The element counter will start at $0$ and will end in **nf**."
   ]
  },
  {
   "cell_type": "code",
   "execution_count": 6,
   "metadata": {},
   "outputs": [
    {
     "ename": "TypeError",
     "evalue": "list indices must be integers or slices, not str",
     "output_type": "error",
     "traceback": [
      "\u001b[1;31m---------------------------------------------------------------------------\u001b[0m",
      "\u001b[1;31mTypeError\u001b[0m                                 Traceback (most recent call last)",
      "\u001b[1;32m<ipython-input-6-750ad860f272>\u001b[0m in \u001b[0;36m<module>\u001b[1;34m\u001b[0m\n\u001b[1;32m----> 1\u001b[1;33m \u001b[0mnf\u001b[0m\u001b[1;33m,\u001b[0m \u001b[0mels1_array\u001b[0m \u001b[1;33m=\u001b[0m \u001b[0mele_writer\u001b[0m\u001b[1;33m(\u001b[0m\u001b[0mcells\u001b[0m\u001b[1;33m,\u001b[0m \u001b[0mcell_data\u001b[0m\u001b[1;33m,\u001b[0m \u001b[1;34m\"triangle\"\u001b[0m\u001b[1;33m,\u001b[0m \u001b[1;36m100\u001b[0m\u001b[1;33m,\u001b[0m \u001b[1;36m3\u001b[0m\u001b[1;33m,\u001b[0m \u001b[1;36m0\u001b[0m\u001b[1;33m,\u001b[0m \u001b[1;36m0\u001b[0m\u001b[1;33m)\u001b[0m\u001b[1;33m\u001b[0m\u001b[1;33m\u001b[0m\u001b[0m\n\u001b[0m",
      "\u001b[1;32m<ipython-input-3-f0ccd6208240>\u001b[0m in \u001b[0;36mele_writer\u001b[1;34m(cells, cell_data, ele_tag, phy_sur, ele_type, mat_tag, nini)\u001b[0m\n\u001b[0;32m     35\u001b[0m \u001b[1;33m\u001b[0m\u001b[0m\n\u001b[0;32m     36\u001b[0m     \"\"\"\n\u001b[1;32m---> 37\u001b[1;33m     \u001b[0meles\u001b[0m \u001b[1;33m=\u001b[0m \u001b[0mcells\u001b[0m\u001b[1;33m[\u001b[0m\u001b[0mele_tag\u001b[0m\u001b[1;33m]\u001b[0m\u001b[1;33m\u001b[0m\u001b[1;33m\u001b[0m\u001b[0m\n\u001b[0m\u001b[0;32m     38\u001b[0m     dict_nnode = {'triangle': 3,\n\u001b[0;32m     39\u001b[0m                   \u001b[1;34m'triangle6'\u001b[0m\u001b[1;33m:\u001b[0m \u001b[1;36m6\u001b[0m\u001b[1;33m,\u001b[0m\u001b[1;33m\u001b[0m\u001b[1;33m\u001b[0m\u001b[0m\n",
      "\u001b[1;31mTypeError\u001b[0m: list indices must be integers or slices, not str"
     ]
    }
   ],
   "source": [
    "nf, els1_array = ele_writer(cells, cell_data, \"triangle\", 100, 3, 0, 0)"
   ]
  },
  {
   "cell_type": "markdown",
   "metadata": {},
   "source": [
    "The next line will create the array **els2_array()** storing the elements along the second physical surface with identifier $200$. The element counter will start at **nini = nf** where **nf** is the last element from the previous surface"
   ]
  },
  {
   "cell_type": "code",
   "execution_count": null,
   "metadata": {},
   "outputs": [],
   "source": [
    "nini = nf\n",
    "nf, els2_array = ele_writer(cells, cell_data, \"triangle\", 200, 3, 1, nini)"
   ]
  },
  {
   "cell_type": "markdown",
   "metadata": {},
   "source": [
    "In the final line both elements arrays are collapsed into a single one using the numpy method append."
   ]
  },
  {
   "cell_type": "code",
   "execution_count": null,
   "metadata": {},
   "outputs": [],
   "source": [
    "els_array      = np.append(els1_array, els2_array, axis=0)"
   ]
  },
  {
   "cell_type": "markdown",
   "metadata": {},
   "source": [
    "As a final step we write the arrays into the corresponding text files."
   ]
  },
  {
   "cell_type": "code",
   "execution_count": null,
   "metadata": {},
   "outputs": [],
   "source": [
    "np.savetxt(\"files/Peles.txt\", els_array, fmt=\"%d\")\n",
    "np.savetxt(\"files/Pnodes.txt\", nodes_array, fmt=(\"%d\", \"%.4f\", \"%.4f\", \"%d\", \"%d\"))"
   ]
  },
  {
   "cell_type": "markdown",
   "metadata": {},
   "source": [
    "#### Visualize the mesh"
   ]
  },
  {
   "cell_type": "code",
   "execution_count": null,
   "metadata": {},
   "outputs": [],
   "source": [
    "def viewmesh(nodes , elements , view = False):\n",
    "    #\n",
    "    \"\"\"Generates and displays a matplotlib.tri.Triangulation object created from a\n",
    "       user defined finite element mesh given by nodes and elements.\n",
    "\n",
    "    Parameters\n",
    "    ----------\n",
    "    nodes : ndarray (float)\n",
    "      Array with number and nodes coordinates:\n",
    "        `number coordX coordY BCX BCY`\n",
    "    elements : ndarray (int)\n",
    "      Array with the node number for the nodes that correspond to each\n",
    "      element.\n",
    "\n",
    "    Returns\n",
    "    -------\n",
    "    tri : Triangulation\n",
    "        An unstructured triangular grid consisting of npoints points\n",
    "        and ntri triangles.\n",
    "\n",
    "    \"\"\"\n",
    "    x = nodes[:, 1]\n",
    "    y = nodes[:, 2]\n",
    "    triangs = []\n",
    "    for el in elements:\n",
    "        if el[1]==2:\n",
    "            triangs.append(el[[3, 4, 5]])\n",
    "            triangs.append(el[[5, 6, 3]])\n",
    "        if el[1]==9:\n",
    "            triangs.append(el[[3, 6, 8]])\n",
    "            triangs.append(el[[6, 7, 8]])\n",
    "            triangs.append(el[[6, 4, 7]])\n",
    "            triangs.append(el[[7, 5, 8]])\n",
    "        if el[1]==3:\n",
    "            triangs.append(el[3:])\n",
    "\n",
    "    tri = Triangulation(x, y, np.array(triangs))\n",
    "#\n",
    "    if view:\n",
    "        plt.figure()\n",
    "        plt.gca().set_aspect('equal')\n",
    "        plt.triplot(tri, lw=0.5, color='red')\n",
    "\n",
    "    return tri"
   ]
  },
  {
   "cell_type": "code",
   "execution_count": null,
   "metadata": {},
   "outputs": [],
   "source": [
    "nodes        = np.loadtxt('files/'+'Pnodes.txt')\n",
    "elements     = np.loadtxt('files/'+'Peles.txt')\n",
    "trii = viewmesh(nodes , elements , True)"
   ]
  },
  {
   "cell_type": "markdown",
   "metadata": {},
   "source": [
    "### Glossary of terms.\n",
    "\n",
    "**Finite element:** Interpolation space of predefined geometry and its associated interpolation functions.\n",
    "\n",
    "**Element connectivities:** Ordered list of integers identifying nodal points conforming a given finite element.\n",
    "\n",
    "**Finite element mesh:** A finite number of non-overlapping finite elements covering a complete computational domain.\n",
    "\n",
    "**SolidsPy:** Finite element solver for the stress analysis of two-dimensional arbitrary domains written in Python."
   ]
  },
  {
   "cell_type": "code",
   "execution_count": null,
   "metadata": {},
   "outputs": [],
   "source": [
    "from IPython.display import YouTubeVideo\n",
    "YouTubeVideo('ibeIKaSYG2U')"
   ]
  },
  {
   "cell_type": "markdown",
   "metadata": {},
   "source": [
    "### References\n",
    "\n",
    "* Juan Gómez, Nicolás Guarín-Zapata (2018). SolidsPy: 2D-Finite Element Analysis with Python, <https://github.com/AppliedMechanics-EAFIT/SolidsPy>.\n",
    "\n",
    "* Timoshenko, S.P., and Goodier, J.N. (1976). Theory of Elasticity. International Student Edition. McGraw-Hill International."
   ]
  },
  {
   "cell_type": "code",
   "execution_count": null,
   "metadata": {},
   "outputs": [],
   "source": [
    "from IPython.core.display import HTML\n",
    "def css_styling():\n",
    "    styles = open('nb_style.css', 'r').read()\n",
    "    return HTML(styles)\n",
    "css_styling()"
   ]
  },
  {
   "cell_type": "code",
   "execution_count": null,
   "metadata": {},
   "outputs": [],
   "source": []
  }
 ],
 "metadata": {
  "celltoolbar": "Raw Cell Format",
  "kernelspec": {
   "display_name": "Python 3",
   "language": "python",
   "name": "python3"
  },
  "language_info": {
   "codemirror_mode": {
    "name": "ipython",
    "version": 3
   },
   "file_extension": ".py",
   "mimetype": "text/x-python",
   "name": "python",
   "nbconvert_exporter": "python",
   "pygments_lexer": "ipython3",
   "version": "3.7.9"
  },
  "varInspector": {
   "cols": {
    "lenName": 16,
    "lenType": 16,
    "lenVar": 40
   },
   "kernels_config": {
    "python": {
     "delete_cmd_postfix": "",
     "delete_cmd_prefix": "del ",
     "library": "var_list.py",
     "varRefreshCmd": "print(var_dic_list())"
    },
    "r": {
     "delete_cmd_postfix": ") ",
     "delete_cmd_prefix": "rm(",
     "library": "var_list.r",
     "varRefreshCmd": "cat(var_dic_list()) "
    }
   },
   "types_to_exclude": [
    "module",
    "function",
    "builtin_function_or_method",
    "instance",
    "_Feature"
   ],
   "window_display": false
  }
 },
 "nbformat": 4,
 "nbformat_minor": 1
}
