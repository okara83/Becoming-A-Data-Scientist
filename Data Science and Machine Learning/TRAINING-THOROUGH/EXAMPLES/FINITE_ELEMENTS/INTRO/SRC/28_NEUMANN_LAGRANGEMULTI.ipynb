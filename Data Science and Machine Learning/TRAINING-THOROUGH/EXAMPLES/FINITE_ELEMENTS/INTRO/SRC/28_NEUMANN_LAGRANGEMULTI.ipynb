{
 "cells": [
  {
   "cell_type": "code",
   "execution_count": null,
   "metadata": {},
   "outputs": [],
   "source": [
    "from dolfin import * \n",
    "\n",
    "mesh = UnitSquareMesh(10,10) \n",
    "L = FiniteElement(\"Lagrange\", mesh.ufl_cell(), 1) \n",
    "R = FiniteElement(\"R\", mesh.ufl_cell(),  0)\n",
    "W = FunctionSpace(mesh, L*R)\n",
    "\n",
    "(u,c) = TrialFunction(W) \n",
    "(v,d) = TestFunction(W)\n",
    "\n",
    "n = FacetNormal(mesh)\n",
    "\n",
    "f = Expression(\"pow(3.14,2)*cos(3.14*x[0])+1\", degree=4) \n",
    "ue = Expression(\"cos(3.14*x[0])-1\", degree=4)\n",
    "du = Expression([\"3.14*sin(3.14*x[0])\", \"0\"], degree=4)\n",
    "\n",
    "a = dot(grad(v), grad(u))*dx + c*v*dx  + d*u*dx  \n",
    "L = v*f*dx + inner(du,n)*v*ds \n",
    "\n",
    "w = Function(W)\n",
    "solve(a == L, w) \n",
    "(u,c) = w.split()\n",
    "\n",
    "u.rename(\"u lagrange\", \"\")\n",
    "ufile = File(\"u_lagrange.pvd\")\n",
    "ufile << u\n",
    "\n",
    "\n"
   ]
  },
  {
   "cell_type": "code",
   "execution_count": null,
   "metadata": {},
   "outputs": [],
   "source": []
  }
 ],
 "metadata": {
  "kernelspec": {
   "display_name": "Python 3",
   "language": "python",
   "name": "python3"
  },
  "language_info": {
   "codemirror_mode": {
    "name": "ipython",
    "version": 3
   },
   "file_extension": ".py",
   "mimetype": "text/x-python",
   "name": "python",
   "nbconvert_exporter": "python",
   "pygments_lexer": "ipython3",
   "version": "3.7.9"
  }
 },
 "nbformat": 4,
 "nbformat_minor": 4
}
