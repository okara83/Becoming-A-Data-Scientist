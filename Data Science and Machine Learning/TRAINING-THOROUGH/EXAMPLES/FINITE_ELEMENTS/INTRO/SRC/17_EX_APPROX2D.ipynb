{
 "cells": [
  {
   "cell_type": "code",
   "execution_count": 2,
   "metadata": {},
   "outputs": [],
   "source": [
    "\"\"\"\n",
    "Examples on approximating functions by global basis functions,\n",
    "using the approx2D.py module.\n",
    "\"\"\"\n",
    "from approx2D import *\n",
    "import sympy as sym\n",
    "import sys\n",
    "x, y = sym.symbols('x y')\n",
    "\n",
    "\n",
    "def sines(x, y, Nx, Ny):\n",
    "    return [sym.sin(sym.pi*(i+1)*x)*sym.sin(sym.pi*(j+1)*y)\n",
    "            for i in range(Nx+1) for j in range(Ny+1)]\n",
    "\n",
    "def taylor(x, y, Nx, Ny):\n",
    "    return [x**i*y**j for i in range(Nx+1) for j in range(Ny+1)]\n",
    "\n",
    "\n",
    "# ----------------------------------------------------------------------\n",
    "\n",
    "def run_linear():\n",
    "    f = (1+x**2)*(1+2*y**2)\n",
    "    psi = taylor(x, y, 1, 1)\n",
    "    print(psi)\n",
    "    Omega = [[0, 2], [0, 2]]\n",
    "    u = least_squares(f, psi, Omega)\n",
    "    comparison_plot(f, u, Omega, plotfile='approx2D_bilinear')\n",
    "    print('\\n\\n**** Include second order terms:')\n",
    "    psi = taylor(x, y, 2, 2)\n",
    "    u = least_squares(f, psi, Omega)\n",
    "\n",
    "\n",
    "if __name__ == '__main__':\n",
    "    # Run from command line:\n",
    "    # python ex_approx2D.py run_linear\n",
    "    cmd = sys.argv[1]\n",
    "    args = ''\n",
    "    if len(sys.argv) > 2:\n",
    "        args = ','.join(sys.argv[2:])\n",
    "    eval('{0}({1})'.format(cmd, args))\n"
   ]
  },
  {
   "cell_type": "code",
   "execution_count": null,
   "metadata": {},
   "outputs": [],
   "source": []
  }
 ],
 "metadata": {
  "kernelspec": {
   "display_name": "Python 3",
   "language": "python",
   "name": "python3"
  },
  "language_info": {
   "codemirror_mode": {
    "name": "ipython",
    "version": 3
   },
   "file_extension": ".py",
   "mimetype": "text/x-python",
   "name": "python",
   "nbconvert_exporter": "python",
   "pygments_lexer": "ipython3",
   "version": "3.7.9"
  }
 },
 "nbformat": 4,
 "nbformat_minor": 4
}
