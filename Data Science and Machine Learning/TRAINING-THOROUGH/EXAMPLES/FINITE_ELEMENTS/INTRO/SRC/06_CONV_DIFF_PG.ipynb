{
 "cells": [
  {
   "cell_type": "code",
   "execution_count": null,
   "metadata": {},
   "outputs": [],
   "source": [
    "from dolfin import *\n",
    "import matplotlib.pyplot as plt\n",
    "\n",
    "for N in [10]:\n",
    "\n",
    "  mesh = UnitIntervalMesh(N)\n",
    "  V = FunctionSpace(mesh, \"CG\", 1)\n",
    "\n",
    "  u = TrialFunction(V)\n",
    "  v = TestFunction(V)\n",
    "\n",
    "  alpha_value = 1.0e-2\n",
    "  alpha = Constant(alpha_value)\n",
    "  beta_value = 0.5\n",
    "  beta = Constant(beta_value)\n",
    "  f = Constant(0)\n",
    "  h = mesh.hmin()\n",
    "  v = v - beta*h*v.dx(0)\n",
    "\n",
    "  a = (-u.dx(0)*v + alpha*u.dx(0)*v.dx(0))*dx\n",
    "  L = f*v*dx\n",
    "\n",
    "  u_analytical = Expression(\"(exp(-x[0]/%e) - 1)/ (exp(-1/%e) - 1)\" % (alpha_value, alpha_value), degree=1)\n",
    "  def boundary(x):\n",
    "      return x[0] < DOLFIN_EPS or x[0] > 1.0 - DOLFIN_EPS\n",
    "\n",
    "  bc = DirichletBC(V, u_analytical, boundary)\n",
    "\n",
    "  U = Function(V)\n",
    "  solve(a == L, U, bc)\n",
    "\n",
    "  U_analytical = project(u_analytical, V)\n",
    "\n",
    "  plt.plot(U.vector().get_local())\n",
    "  plt.plot(U_analytical.vector().get_local())\n",
    "  plt.legend([\"Numerical Solution\", \"Analytical Solution\"], loc=\"lower left\")\n",
    "  plt.savefig('fenics_conv_diff_stab.png'); plt.savefig('fenics_conv_diff_stab.pdf')\n",
    "  plt.show()\n"
   ]
  },
  {
   "cell_type": "code",
   "execution_count": null,
   "metadata": {},
   "outputs": [],
   "source": []
  }
 ],
 "metadata": {
  "kernelspec": {
   "display_name": "Python 3",
   "language": "python",
   "name": "python3"
  },
  "language_info": {
   "codemirror_mode": {
    "name": "ipython",
    "version": 3
   },
   "file_extension": ".py",
   "mimetype": "text/x-python",
   "name": "python",
   "nbconvert_exporter": "python",
   "pygments_lexer": "ipython3",
   "version": "3.7.9"
  }
 },
 "nbformat": 4,
 "nbformat_minor": 4
}
