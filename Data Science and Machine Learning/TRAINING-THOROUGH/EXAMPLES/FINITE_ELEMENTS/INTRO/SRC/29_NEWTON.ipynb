{
 "cells": [
  {
   "cell_type": "code",
   "execution_count": null,
   "metadata": {},
   "outputs": [],
   "source": [
    "import sys\n",
    "import matplotlib.pyplot as plt\n",
    "from numpy import *\n",
    "\n",
    "from sys import argv\n",
    "if not len(argv) == 6:\n",
    "  print(\"usage: > Newton_demo.py f dfx x0 xmin xmax \")\n",
    "  sys.exit(0)\n",
    "\n",
    "f_str = argv[1]\n",
    "dfdx_str = argv[2]\n",
    "x0 = float(argv[3])\n",
    "xmin = float(argv[4])\n",
    "xmax = float(argv[5])\n",
    "\n",
    "i = 0\n",
    "tol = 1.0e-9\n",
    "maxit = 100\n",
    "x = x0\n",
    "f = eval(f_str, vars())\n",
    "dfdx = eval(dfdx_str, vars())\n",
    "xs = []\n",
    "fs = []\n",
    "xs.append(x)\n",
    "fs.append(f)\n",
    "print((\"x=%.3e   f=%.3e   dfdx=%.3e \" %  (x, f, dfdx)))\n",
    "while abs(f) > tol and i <= maxit and x > xmin and x < xmax :\n",
    "  x = x0 - f/dfdx\n",
    "  f = eval(f_str, vars())\n",
    "  dfdx = eval(dfdx_str, vars())\n",
    "  x0 = x\n",
    "  xs.append(x0)\n",
    "  fs.append(f)\n",
    "  i = i+1\n",
    "  print((\"x=%.3e   f=%.3e   dfdx=%.3e \" %  (x, f, dfdx)))\n",
    "\n",
    "x = arange(xmin, xmax, (xmax-xmin)/100.0)\n",
    "f = eval(f_str, vars())\n",
    "\n",
    "plt.plot(x, f, \"g\")\n",
    "plt.plot(xs, fs, \"bo\")\n",
    "plt.plot(xs, fs, \"b\")\n",
    "plt.show()\n"
   ]
  },
  {
   "cell_type": "code",
   "execution_count": null,
   "metadata": {},
   "outputs": [],
   "source": []
  }
 ],
 "metadata": {
  "kernelspec": {
   "display_name": "Python 3",
   "language": "python",
   "name": "python3"
  },
  "language_info": {
   "codemirror_mode": {
    "name": "ipython",
    "version": 3
   },
   "file_extension": ".py",
   "mimetype": "text/x-python",
   "name": "python",
   "nbconvert_exporter": "python",
   "pygments_lexer": "ipython3",
   "version": "3.7.9"
  }
 },
 "nbformat": 4,
 "nbformat_minor": 4
}
