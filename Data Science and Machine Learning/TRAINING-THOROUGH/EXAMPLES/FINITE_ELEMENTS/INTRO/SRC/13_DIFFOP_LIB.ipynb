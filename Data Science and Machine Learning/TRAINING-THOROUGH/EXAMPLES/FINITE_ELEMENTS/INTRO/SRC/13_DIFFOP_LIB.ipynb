{
 "cells": [
  {
   "cell_type": "code",
   "execution_count": null,
   "metadata": {},
   "outputs": [],
   "source": [
    "\n",
    "from sympy import *\n",
    "t, dt, n, w = symbols('t dt n w', real=True)\n",
    "\n",
    "# Finite difference operators\n",
    "\n",
    "def D_t_forward(u):\n",
    "    return (u(t + dt) - u(t))/dt\n",
    "\n",
    "def D_t_backward(u):\n",
    "    return (u(t) - u(t-dt))/dt\n",
    "\n",
    "def D_t_centered(u):\n",
    "    return (u(t + dt/2) - u(t-dt/2))/dt\n",
    "\n",
    "def D_2t_centered(u):\n",
    "    return (u(t + dt) - u(t-dt))/(2*dt)\n",
    "\n",
    "def D_t_D_t(u):\n",
    "    return (u(t + dt) - 2*u(t) + u(t-dt))/(dt**2)\n",
    "\n",
    "\n",
    "op_list = [D_t_forward, D_t_backward,\n",
    "           D_t_centered, D_2t_centered, D_t_D_t]\n",
    "\n",
    "def ft1(t):\n",
    "    return t\n",
    "\n",
    "def ft2(t):\n",
    "    return t**2\n",
    "\n",
    "def ft3(t):\n",
    "    return t**3\n",
    "\n",
    "def f_expiwt(t):\n",
    "    return exp(I*w*t)\n",
    "\n",
    "def f_expwt(t):\n",
    "    return exp(w*t)\n",
    "\n",
    "func_list = [ft1, ft2, ft3, f_expiwt, f_expwt]\n",
    "import inspect\n",
    "\n",
    "for func in func_list:\n",
    "    print(('\\n--- Function:', inspect.getsource(func), '---'))\n",
    "    for op in op_list:\n",
    "        print(('\\nOperator:', op.__name__))\n",
    "        f = func\n",
    "        e = op(f)\n",
    "        e = simplify(expand(e))\n",
    "        print(('simplify(expand(operator(function)):', e))\n",
    "        if func in [f_expiwt, f_expwt]:\n",
    "            e = e/f(t)\n",
    "        e = e.subs(t, n*dt)\n",
    "        print(('t -> n*dt:', expand(e)))\n",
    "        print(('factor(simplify(expand(e))):', factor(simplify(expand(e)))))\n",
    "        \n",
    "        \n",
    "# https://github.com/sympy/sympy/wiki/Generating-tables-of-derivatives-and-integrals"
   ]
  },
  {
   "cell_type": "code",
   "execution_count": null,
   "metadata": {},
   "outputs": [],
   "source": []
  }
 ],
 "metadata": {
  "kernelspec": {
   "display_name": "Python 3",
   "language": "python",
   "name": "python3"
  },
  "language_info": {
   "codemirror_mode": {
    "name": "ipython",
    "version": 3
   },
   "file_extension": ".py",
   "mimetype": "text/x-python",
   "name": "python",
   "nbconvert_exporter": "python",
   "pygments_lexer": "ipython3",
   "version": "3.7.9"
  }
 },
 "nbformat": 4,
 "nbformat_minor": 4
}
