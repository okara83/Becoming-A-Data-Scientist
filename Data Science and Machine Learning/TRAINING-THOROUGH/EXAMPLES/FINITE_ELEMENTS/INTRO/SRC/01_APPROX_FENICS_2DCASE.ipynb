{
 "cells": [
  {
   "cell_type": "code",
   "execution_count": null,
   "metadata": {},
   "outputs": [],
   "source": [
    "\"\"\"\n",
    "Special 2D approximation case using FEniCS.\n",
    "An even more general code is found in approx_fenics.py.\n",
    "\"\"\"\n",
    "from fenics import *\n",
    "\n",
    "def approx(f, V):\n",
    "     \"\"\"Return Galerkin approximation to f in V.\"\"\"\n",
    "     u = TrialFunction(V)\n",
    "     v = TestFunction(V)\n",
    "     a = u*v*dx\n",
    "     L = f*v*dx\n",
    "     u = Function(V)\n",
    "     solve(a == L, u)\n",
    "     return u\n",
    "\n",
    "def problem():\n",
    "    f = Expression('2*x[0]*x[1] - pow(x[0], 2)', degree=2)\n",
    "    mesh = RectangleMesh(Point(0,-1), Point(2,1), 8, 8)\n",
    "\n",
    "    V1 = FunctionSpace(mesh, 'P', 1)\n",
    "    u1 = approx(f, V1)\n",
    "    u1.rename('u1', 'u1')\n",
    "    u1_error = errornorm(f, u1, 'L2')\n",
    "    u1_norm = norm(u1, 'L2')\n",
    "\n",
    "    V2 = FunctionSpace(mesh, 'P', 2)\n",
    "    u2 = approx(f, V2)\n",
    "    u2.rename('u2', 'u2')\n",
    "    u2_error = errornorm(f, u2, 'L2')\n",
    "    u2_norm = norm(u2, 'L2')\n",
    "\n",
    "    print(('L2 errors: e1=%g, e2=%g' % (u1_error, u2_error)))\n",
    "    print(('L2 norms:  n1=%g, n2=%g' % (u1_norm, u2_norm)))\n",
    "    # Simple plotting\n",
    "    import matplotlib.pyplot as plt\n",
    "    plot(f, title='f', mesh=mesh)\n",
    "    plt.show()\n",
    "    plot(u1, title='u1')\n",
    "    plt.show()\n",
    "    plot(u2, title='u2')\n",
    "    plt.show()\n",
    "\n",
    "if __name__ == '__main__':\n",
    "    problem()"
   ]
  },
  {
   "cell_type": "code",
   "execution_count": null,
   "metadata": {},
   "outputs": [],
   "source": []
  }
 ],
 "metadata": {
  "kernelspec": {
   "display_name": "Python 3",
   "language": "python",
   "name": "python3"
  },
  "language_info": {
   "codemirror_mode": {
    "name": "ipython",
    "version": 3
   },
   "file_extension": ".py",
   "mimetype": "text/x-python",
   "name": "python",
   "nbconvert_exporter": "python",
   "pygments_lexer": "ipython3",
   "version": "3.7.9"
  }
 },
 "nbformat": 4,
 "nbformat_minor": 4
}
