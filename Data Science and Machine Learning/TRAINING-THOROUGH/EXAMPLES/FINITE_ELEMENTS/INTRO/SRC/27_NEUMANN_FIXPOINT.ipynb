{
 "cells": [
  {
   "cell_type": "code",
   "execution_count": null,
   "metadata": {},
   "outputs": [],
   "source": [
    "import matplotlib.pyplot as plt \n",
    "from dolfin import * \n",
    "\n",
    "def boundary(x, on_boundary): \n",
    "  if near(x[0],0.3) and near(x[1],0): return True\n",
    "  return False\n",
    "\n",
    "mesh = UnitSquareMesh(10,10) \n",
    "V = FunctionSpace(mesh, \"Lagrange\", 1) \n",
    "u = TrialFunction(V) \n",
    "v = TestFunction(V)\n",
    "\n",
    "n = FacetNormal(mesh)\n",
    "f = Expression(\"pow(3.14,2)*cos(3.14*x[0])+1\", degree=4) \n",
    "ue = Expression(\"cos(3.14*x[0])-1\", degree=4)\n",
    "du = Expression([\"3.14*sin(3.14*x[0])\", \"0\"], degree=4)\n",
    "\n",
    "a = dot(grad(v), grad(u))*dx \n",
    "L = v*f*dx + inner(du,n)*v*ds \n",
    "\n",
    "point_condition = DirichletBC(V, ue, boundary, \"pointwise\")\n",
    "u = Function(V, name=\"u\")\n",
    "solve(a == L, u, point_condition) \n",
    "\n",
    "\n",
    "# plot \n",
    "plot(u)\n",
    "plt.show()\n",
    "\n",
    "ue = interpolate(ue, V)\n",
    "ue.rename(\"ue\", \"\")\n",
    "plot(ue)\n",
    "plt.show()\n",
    "\n"
   ]
  },
  {
   "cell_type": "code",
   "execution_count": null,
   "metadata": {},
   "outputs": [],
   "source": []
  }
 ],
 "metadata": {
  "kernelspec": {
   "display_name": "Python 3",
   "language": "python",
   "name": "python3"
  },
  "language_info": {
   "codemirror_mode": {
    "name": "ipython",
    "version": 3
   },
   "file_extension": ".py",
   "mimetype": "text/x-python",
   "name": "python",
   "nbconvert_exporter": "python",
   "pygments_lexer": "ipython3",
   "version": "3.7.9"
  }
 },
 "nbformat": 4,
 "nbformat_minor": 4
}
