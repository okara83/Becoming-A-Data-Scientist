{
 "cells": [
  {
   "cell_type": "code",
   "execution_count": 1,
   "metadata": {},
   "outputs": [
    {
     "name": "stdout",
     "output_type": "stream",
     "text": [
      "-2 + (-2*h**2*i**2 + h**2*(i - 1)**2 + h**2*(i + 1)**2 + 2*h*i*(2*N*h + b_L) - h*(i - 1)*(2*N*h + b_L) - h*(i + 1)*(2*N*h + b_L))/h**2\n",
      "0\n",
      "-b_L/h - 1 + (-N**2*h**2 + N*h*(2*N*h + b_L) + h**2*(N - 1)**2 - h*(N - 1)*(2*N*h + b_L))/h**2\n",
      "0\n"
     ]
    }
   ],
   "source": [
    "from sympy import *\n",
    "i, b_L, b_0, h, N = symbols('i b_L b_0 h N')\n",
    "L = N*h\n",
    "x_i = i*h\n",
    "u_i = -x_i**2 + (b_L + 2*L)*x_i + b_0\n",
    "u_im1 = u_i.subs(i, i-1)\n",
    "u_ip1 = u_i.subs(i, i+1)\n",
    "\n",
    "# General equation\n",
    "R = 1/h**2*(-u_im1 + 2*u_i - u_ip1) - 2\n",
    "print(R)\n",
    "R = simplify(R)\n",
    "print(R)\n",
    "\n",
    "# Right boundary equation\n",
    "R = 1/h**2*(-u_im1 + u_i) - b_L/h - 1\n",
    "R = R.subs(i, N)\n",
    "print(R)\n",
    "R = simplify(R)\n",
    "print(R)"
   ]
  },
  {
   "cell_type": "code",
   "execution_count": null,
   "metadata": {},
   "outputs": [],
   "source": []
  }
 ],
 "metadata": {
  "kernelspec": {
   "display_name": "Python 3",
   "language": "python",
   "name": "python3"
  },
  "language_info": {
   "codemirror_mode": {
    "name": "ipython",
    "version": 3
   },
   "file_extension": ".py",
   "mimetype": "text/x-python",
   "name": "python",
   "nbconvert_exporter": "python",
   "pygments_lexer": "ipython3",
   "version": "3.7.9"
  }
 },
 "nbformat": 4,
 "nbformat_minor": 4
}
