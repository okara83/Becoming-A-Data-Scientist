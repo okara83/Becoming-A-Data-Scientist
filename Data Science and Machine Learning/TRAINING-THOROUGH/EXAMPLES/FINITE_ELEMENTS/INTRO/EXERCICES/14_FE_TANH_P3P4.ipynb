{
 "cells": [
  {
   "cell_type": "code",
   "execution_count": null,
   "metadata": {},
   "outputs": [],
   "source": [
    "import sys, os\n",
    "sys.path.insert(0, os.path.join(os.pardir, 'src'))\n",
    "from fe_approx1D_numint import approximate, u_glob\n",
    "from sympy import tanh, Symbol, lambdify\n",
    "x = Symbol('x')\n",
    "\n",
    "steepness = 20\n",
    "arg = steepness*(x-0.5)\n",
    "\n",
    "approximate(tanh(arg), symbolic=False, numint='GaussLegendre4',\n",
    "            d=3, N_e=1, filename='fe_p3_tanh_1e')\n",
    "approximate(tanh(arg), symbolic=False, numint='GaussLegendre4',\n",
    "            d=3, N_e=2, filename='fe_p3_tanh_2e')\n",
    "approximate(tanh(arg), symbolic=False, numint='GaussLegendre4',\n",
    "            d=3, N_e=4, filename='fe_p3_tanh_4e')\n",
    "approximate(tanh(arg), symbolic=False, numint='GaussLegendre5',\n",
    "            d=4, N_e=1, filename='fe_p4_tanh_1e')\n",
    "approximate(tanh(arg), symbolic=False, numint='GaussLegendre5',\n",
    "            d=4, N_e=2, filename='fe_p4_tanh_2e')\n",
    "approximate(tanh(arg), symbolic=False, numint='GaussLegendre5',\n",
    "            d=4, N_e=4, filename='fe_p4_tanh_4e')\n",
    "\n",
    "# Interpolation method\n",
    "import numpy as np\n",
    "import matplotlib.pyplot as plt\n",
    "f = lambdify([x], tanh(arg), modules='numpy')\n",
    "\n",
    "# Compute exact f on a fine mesh\n",
    "x_fine = np.linspace(0, 1, 101)\n",
    "f_fine = f(x_fine)\n",
    "\n",
    "for d in 3, 4:\n",
    "    for N_e in 1, 2, 4:\n",
    "        h = 1.0/N_e  # element length\n",
    "        vertices = [i*h for i in range(N_e+1)]\n",
    "        cells = [[e, e+1] for e in range(N_e)]\n",
    "        dof_map = [[d*e + i for i in range(d+1)] for e in range(N_e)]\n",
    "        N_n = d*N_e + 1  # Number of nodes\n",
    "        x_nodes = np.linspace(0, 1, N_n)  # Node coordinates\n",
    "        U = f(x_nodes)  # Interpolation method samples node values\n",
    "        x, u, _ = u_glob(U, vertices, cells, dof_map,\n",
    "                         resolution_per_element=51)\n",
    "        plt.figure()\n",
    "        plt.plot(x, u, '-', x_fine, f_fine, '--',\n",
    "                 x_nodes, U, 'bo')\n",
    "        plt.legend(['%d P%d elements' % (N_e, d),\n",
    "                    'exact', 'interpolation points'],\n",
    "                   loc='upper left')\n",
    "        plt.savefig('tmp_%d_P%d.pdf' % (N_e, d))\n",
    "        plt.savefig('tmp_%d_P%d.png' % (N_e, d))\n",
    "plt.show()\n",
    "\n"
   ]
  }
 ],
 "metadata": {
  "kernelspec": {
   "display_name": "Python 3",
   "language": "python",
   "name": "python3"
  },
  "language_info": {
   "codemirror_mode": {
    "name": "ipython",
    "version": 3
   },
   "file_extension": ".py",
   "mimetype": "text/x-python",
   "name": "python",
   "nbconvert_exporter": "python",
   "pygments_lexer": "ipython3",
   "version": "3.7.9"
  }
 },
 "nbformat": 4,
 "nbformat_minor": 4
}
