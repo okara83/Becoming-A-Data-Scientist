{
 "cells": [
  {
   "cell_type": "code",
   "execution_count": null,
   "metadata": {},
   "outputs": [],
   "source": [
    "import sys, os\n",
    "sys.path.insert(0, os.path.join(os.pardir, 'src'))\n",
    "from fe_approx1D_numint import approximate\n",
    "from sympy import tanh, Symbol\n",
    "x = Symbol('x')\n",
    "\n",
    "steepness = 20\n",
    "arg = steepness*(x-0.5)\n",
    "approximate(tanh(arg), symbolic=False, numint='GaussLegendre2',\n",
    "            d=1, N_e=4, filename='fe_p1_tanh_4e')\n",
    "approximate(tanh(arg), symbolic=False, numint='GaussLegendre2',\n",
    "            d=1, N_e=8, filename='fe_p1_tanh_8e')\n",
    "approximate(tanh(arg), symbolic=False, numint='GaussLegendre2',\n",
    "            d=1, N_e=16, filename='fe_p1_tanh_16e')\n",
    "approximate(tanh(arg), symbolic=False, numint='GaussLegendre3',\n",
    "            d=2, N_e=2, filename='fe_p2_tanh_2e')\n",
    "approximate(tanh(arg), symbolic=False, numint='GaussLegendre3',\n",
    "            d=2, N_e=4, filename='fe_p2_tanh_4e')\n",
    "approximate(tanh(arg), symbolic=False, numint='GaussLegendre3',\n",
    "            d=2, N_e=8, filename='fe_p2_tanh_8e')\n",
    "\n"
   ]
  }
 ],
 "metadata": {
  "kernelspec": {
   "display_name": "Python 3",
   "language": "python",
   "name": "python3"
  },
  "language_info": {
   "codemirror_mode": {
    "name": "ipython",
    "version": 3
   },
   "file_extension": ".py",
   "mimetype": "text/x-python",
   "name": "python",
   "nbconvert_exporter": "python",
   "pygments_lexer": "ipython3",
   "version": "3.7.9"
  }
 },
 "nbformat": 4,
 "nbformat_minor": 4
}
