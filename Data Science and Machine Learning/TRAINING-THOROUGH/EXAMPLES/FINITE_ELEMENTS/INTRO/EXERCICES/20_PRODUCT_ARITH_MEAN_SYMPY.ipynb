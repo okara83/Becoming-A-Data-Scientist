{
 "cells": [
  {
   "cell_type": "code",
   "execution_count": 1,
   "metadata": {},
   "outputs": [
    {
     "name": "stdout",
     "output_type": "stream",
     "text": [
      "P(0) + dt*Subs(Derivative(P(_x), _x), _x, 0)/2 + dt**2*Subs(Derivative(P(_x), (_x, 2)), _x, 0)/8 + dt**3*Subs(Derivative(P(_x), (_x, 3)), _x, 0)/48 + dt**4*Subs(Derivative(P(_x), (_x, 4)), _x, 0)/384 + dt**5*Subs(Derivative(P(_x), (_x, 5)), _x, 0)/3840 + O(dt**6)\n",
      "P(0) - dt*Subs(Derivative(P(_x), _x), _x, 0)/2 + dt**2*Subs(Derivative(P(_x), (_x, 2)), _x, 0)/8 - dt**3*Subs(Derivative(P(_x), (_x, 3)), _x, 0)/48 + dt**4*Subs(Derivative(P(_x), (_x, 4)), _x, 0)/384 - dt**5*Subs(Derivative(P(_x), (_x, 5)), _x, 0)/3840 + O(dt**6)\n",
      "Q(0) + dt*Subs(Derivative(Q(_x), _x), _x, 0)/2 + dt**2*Subs(Derivative(Q(_x), (_x, 2)), _x, 0)/8 + dt**3*Subs(Derivative(Q(_x), (_x, 3)), _x, 0)/48 + dt**4*Subs(Derivative(Q(_x), (_x, 4)), _x, 0)/384 + dt**5*Subs(Derivative(Q(_x), (_x, 5)), _x, 0)/3840 + O(dt**6)\n",
      "Q(0) - dt*Subs(Derivative(Q(_x), _x), _x, 0)/2 + dt**2*Subs(Derivative(Q(_x), (_x, 2)), _x, 0)/8 - dt**3*Subs(Derivative(Q(_x), (_x, 3)), _x, 0)/48 + dt**4*Subs(Derivative(Q(_x), (_x, 4)), _x, 0)/384 - dt**5*Subs(Derivative(Q(_x), (_x, 5)), _x, 0)/3840 + O(dt**6)\n",
      "('product_mean_error:', dt**2*Subs(Derivative(P(_x), _x), _x, 0)*Subs(Derivative(Q(_x), _x), _x, 0)/4 + dt**2*Q(0)*Subs(Derivative(P(_x), (_x, 2)), _x, 0)/8 + dt**2*P(0)*Subs(Derivative(Q(_x), (_x, 2)), _x, 0)/8 + dt**4*Subs(Derivative(P(_x), (_x, 3)), _x, 0)*Subs(Derivative(Q(_x), _x), _x, 0)/96 + dt**4*Subs(Derivative(P(_x), (_x, 2)), _x, 0)*Subs(Derivative(Q(_x), (_x, 2)), _x, 0)/64 + dt**4*Subs(Derivative(P(_x), _x), _x, 0)*Subs(Derivative(Q(_x), (_x, 3)), _x, 0)/96 + dt**4*Q(0)*Subs(Derivative(P(_x), (_x, 4)), _x, 0)/384 + dt**4*P(0)*Subs(Derivative(Q(_x), (_x, 4)), _x, 0)/384 + O(dt**6))\n",
      "('factor_mean_error:', dt**2*Q(0)*Subs(Derivative(P(_x), (_x, 2)), _x, 0)/8 + dt**2*P(0)*Subs(Derivative(Q(_x), (_x, 2)), _x, 0)/8 + dt**4*Subs(Derivative(P(_x), (_x, 2)), _x, 0)*Subs(Derivative(Q(_x), (_x, 2)), _x, 0)/64 + dt**4*Q(0)*Subs(Derivative(P(_x), (_x, 4)), _x, 0)/384 + dt**4*P(0)*Subs(Derivative(Q(_x), (_x, 4)), _x, 0)/384 + O(dt**6))\n"
     ]
    }
   ],
   "source": [
    "from sympy import *\n",
    "t, dt = symbols('t dt')\n",
    "P, Q = symbols('P Q', cls=Function)\n",
    "\n",
    "# Target expression P(t_{n+1/2})*Q(t_{n+1/2})\n",
    "# Simpler: P(0)*Q(0)\n",
    "# Arithmetic means of each factor:\n",
    "# 1/4*(P(-dt/2) + P(dt/2))*(Q(-dt/2) + Q(dt/2))\n",
    "# Arithmetic mean of the product:\n",
    "# 1/2*(P(-dt/2)*Q(-dt/2) + P(dt/2)*Q(dt/2))\n",
    "# Let's Taylor expand to compare\n",
    "\n",
    "target = P(0)*Q(0)\n",
    "num_terms = 6\n",
    "P_p = P(t).series(t, 0, num_terms).subs(t, dt/2)\n",
    "print(P_p)\n",
    "P_m = P(t).series(t, 0, num_terms).subs(t, -dt/2)\n",
    "print(P_m)\n",
    "Q_p = Q(t).series(t, 0, num_terms).subs(t, dt/2)\n",
    "print(Q_p)\n",
    "Q_m = Q(t).series(t, 0, num_terms).subs(t, -dt/2)\n",
    "print(Q_m)\n",
    "\n",
    "product_mean = Rational(1,2)*(P_m*Q_m + P_p*Q_p)\n",
    "product_mean = simplify(expand(product_mean))\n",
    "product_mean_error = product_mean - target\n",
    "\n",
    "factor_mean = Rational(1,2)*(P_m + P_p)*Rational(1,2)*(Q_m + Q_p)\n",
    "factor_mean = simplify(expand(factor_mean))\n",
    "factor_mean_error = factor_mean - target\n",
    "\n",
    "print(('product_mean_error:', product_mean_error))\n",
    "print(('factor_mean_error:', factor_mean_error))\n"
   ]
  },
  {
   "cell_type": "code",
   "execution_count": null,
   "metadata": {},
   "outputs": [],
   "source": []
  }
 ],
 "metadata": {
  "kernelspec": {
   "display_name": "Python 3",
   "language": "python",
   "name": "python3"
  },
  "language_info": {
   "codemirror_mode": {
    "name": "ipython",
    "version": 3
   },
   "file_extension": ".py",
   "mimetype": "text/x-python",
   "name": "python",
   "nbconvert_exporter": "python",
   "pygments_lexer": "ipython3",
   "version": "3.7.9"
  }
 },
 "nbformat": 4,
 "nbformat_minor": 4
}
