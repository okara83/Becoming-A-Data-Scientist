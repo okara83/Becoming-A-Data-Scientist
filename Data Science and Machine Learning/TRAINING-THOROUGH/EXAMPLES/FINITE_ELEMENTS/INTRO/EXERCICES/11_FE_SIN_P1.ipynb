{
 "cells": [
  {
   "cell_type": "code",
   "execution_count": 1,
   "metadata": {},
   "outputs": [
    {
     "name": "stdout",
     "output_type": "stream",
     "text": [
      "('A:\\n', Matrix([\n",
      "[ pi/6, pi/12,     0],\n",
      "[pi/12,  pi/3, pi/12],\n",
      "[    0, pi/12,  pi/6]]))\n",
      "('b:\\n', Matrix([\n",
      "[1 - 2/pi],\n",
      "[    4/pi],\n",
      "[1 - 2/pi]]))\n",
      "('c:\\n', Matrix([\n",
      "[      6*(4/3 - 4/pi)/pi],\n",
      "[24*(-7/6 + 7/pi)/(7*pi)],\n",
      "[ 7*(8/7 - 24/(7*pi))/pi]]))\n",
      "c[0]=0.114771\n",
      "c[1]=1.15847\n",
      "c[2]=0.114771\n",
      "u(pi/2)=1.15847\n",
      "\\left[\\begin{matrix}\\frac{\\pi}{6} & \\frac{\\pi}{12} & 0\\\\\\frac{\\pi}{12} & \\frac{\\pi}{3} & \\frac{\\pi}{12}\\\\0 & \\frac{\\pi}{12} & \\frac{\\pi}{6}\\end{matrix}\\right]\n",
      "\\left[\\begin{matrix}1 - \\frac{2}{\\pi}\\\\\\frac{4}{\\pi}\\\\1 - \\frac{2}{\\pi}\\end{matrix}\\right]\n",
      "\\left[\\begin{matrix}\\frac{6 \\left(\\frac{4}{3} - \\frac{4}{\\pi}\\right)}{\\pi}\\\\\\frac{24 \\left(- \\frac{7}{6} + \\frac{7}{\\pi}\\right)}{7 \\pi}\\\\\\frac{7 \\left(\\frac{8}{7} - \\frac{24}{7 \\pi}\\right)}{\\pi}\\end{matrix}\\right]\n"
     ]
    }
   ],
   "source": [
    "import sympy as sym\n",
    "# Mesh: |--------|-------|\n",
    "#       0      pi/2      pi\n",
    "#\n",
    "# Basis functions:\n",
    "#\n",
    "#   phi_0   phi_1   phi_2\n",
    "#     \\      /\\      /\n",
    "#      \\    /  \\    /\n",
    "#       \\  /    \\  /\n",
    "#        \\/      \\/\n",
    "#     |-------|-------|\n",
    "#     0      pi/2     pi\n",
    "\n",
    "x = sym.Symbol('x')\n",
    "A = sym.zeros(3,3)\n",
    "f = sym.sin\n",
    "\n",
    "phi_0 = 1 - (2*x)/sym.pi\n",
    "phi_1l = 2*x/sym.pi          # left part of phi_1\n",
    "phi_1r = 2 - (2*x)/sym.pi    # right part of phi_1\n",
    "phi_2 = x/(sym.pi/2) - 1\n",
    "node_0 = 0\n",
    "node_1 = sym.pi/2\n",
    "node_2 = sym.pi\n",
    "\n",
    "# Diagonal terms\n",
    "A[0,0] = sym.integrate(phi_0**2,  (x, node_0, node_1))\n",
    "A[1,1] = sym.integrate(phi_1l**2, (x, node_0, node_1)) + \\\n",
    "         sym.integrate(phi_1r**2, (x, node_1, node_2))\n",
    "A[2,2] = sym.integrate(phi_2**2,  (x, node_1, node_2))\n",
    "\n",
    "# Off-diagonal terms\n",
    "A[0,1] = sym.integrate(phi_0*phi_1l, (x, node_0, node_1))\n",
    "A[1,0] = A[0,1]\n",
    "\n",
    "A[1,2] = sym.integrate(phi_1r*phi_2, (x, node_1, node_2))\n",
    "A[2,1] = A[1,2]\n",
    "\n",
    "print(('A:\\n', A))  # Can compare with general matrix, h=pi/2\n",
    "\n",
    "b = sym.zeros(3,1)\n",
    "\n",
    "b[0] = sym.integrate(phi_0*f(x),  (x, node_0, node_1))\n",
    "b[1] = sym.integrate(phi_1l*f(x), (x, node_0, node_1)) + \\\n",
    "       sym.integrate(phi_1r*f(x), (x, node_1, node_2))\n",
    "b[2] = sym.integrate(phi_2*f(x),  (x, node_1, node_2))\n",
    "\n",
    "print(('b:\\n', b))\n",
    "\n",
    "c = A.LUsolve(b)\n",
    "print(('c:\\n', c))\n",
    "\n",
    "for i in range(len(c)):\n",
    "    print(('c[%d]=%g' % (i, c[i].evalf())))\n",
    "print(('u(pi/2)=%g' % c[1]))\n",
    "\n",
    "# For reports\n",
    "print((sym.latex(A)))\n",
    "print((sym.latex(b)))\n",
    "print((sym.latex(c)))\n"
   ]
  },
  {
   "cell_type": "code",
   "execution_count": null,
   "metadata": {},
   "outputs": [],
   "source": []
  }
 ],
 "metadata": {
  "kernelspec": {
   "display_name": "Python 3",
   "language": "python",
   "name": "python3"
  },
  "language_info": {
   "codemirror_mode": {
    "name": "ipython",
    "version": 3
   },
   "file_extension": ".py",
   "mimetype": "text/x-python",
   "name": "python",
   "nbconvert_exporter": "python",
   "pygments_lexer": "ipython3",
   "version": "3.7.9"
  }
 },
 "nbformat": 4,
 "nbformat_minor": 4
}
