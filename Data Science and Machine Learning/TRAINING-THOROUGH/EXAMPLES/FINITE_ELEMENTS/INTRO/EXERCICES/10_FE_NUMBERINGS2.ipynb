{
 "cells": [
  {
   "cell_type": "code",
   "execution_count": 1,
   "metadata": {},
   "outputs": [],
   "source": [
    "# P1 elements\n",
    "# Left to right numbering\n",
    "\"\"\"\n",
    "elements: |--0--|--1--|--2--|\n",
    "vertices: 0     1     2     3\n",
    "dofs:     0     1     2     3\n",
    "\"\"\"\n",
    "# elements:   0   1   2\n",
    "# vertices: 0   1   2   3\n",
    "\n",
    "vertices = [0, 1, 1.2, 2]\n",
    "cells    = [[0,1], [1,2], [2,3]]\n",
    "dof_map  = [[0,1], [1,2], [2,3]]\n",
    "\n",
    "# Right to left numbering\n",
    "\"\"\"\n",
    "elements: |--2--|--1--|--0--|\n",
    "vertices: 3     2     1     0\n",
    "dofs:     3     2     1     0\n",
    "\"\"\"\n",
    "\n",
    "vertices = [2, 1.2, 1, 0]\n",
    "cells    = [[1,0], [2,1], [3,2]]\n",
    "dof_map  = [[1,0], [2,1], [3,2]]\n",
    "\n",
    "\n",
    "# P2 elements\n",
    "\n",
    "# Left to right numbering\n",
    "# elements:   0   1   2\n",
    "\"\"\"\n",
    "elements: |--0--|--1--|--2--|\n",
    "vertices: 0     1     2     3\n",
    "dofs:     0  1  2  3  4  5  6\n",
    "\"\"\"\n",
    "\n",
    "vertices = [0, 1, 1.2, 2]\n",
    "cells    = [[0,1], [1,2], [2,3]]\n",
    "dof_map  = [[0,1,2], [2,3,4], [4,5,6]]\n",
    "\n",
    "# Right to left numbering\n",
    "# elements:   2   1   0\n",
    "\"\"\"\n",
    "elements: |--2--|--1--|--0--|\n",
    "vertices: 3     2     1     0\n",
    "dofs:     6  5  4  3  2  1  0\n",
    "\"\"\"\n",
    "\n",
    "vertices = [2, 1.2, 1, 0]\n",
    "cells    = [[1,0], [2,1], [3,2]]\n",
    "dof_map  = [[2,1,0], [4,3,2], [6,5,4]]\n",
    "\n"
   ]
  },
  {
   "cell_type": "code",
   "execution_count": null,
   "metadata": {},
   "outputs": [],
   "source": []
  }
 ],
 "metadata": {
  "kernelspec": {
   "display_name": "Python 3",
   "language": "python",
   "name": "python3"
  },
  "language_info": {
   "codemirror_mode": {
    "name": "ipython",
    "version": 3
   },
   "file_extension": ".py",
   "mimetype": "text/x-python",
   "name": "python",
   "nbconvert_exporter": "python",
   "pygments_lexer": "ipython3",
   "version": "3.7.9"
  }
 },
 "nbformat": 4,
 "nbformat_minor": 4
}
