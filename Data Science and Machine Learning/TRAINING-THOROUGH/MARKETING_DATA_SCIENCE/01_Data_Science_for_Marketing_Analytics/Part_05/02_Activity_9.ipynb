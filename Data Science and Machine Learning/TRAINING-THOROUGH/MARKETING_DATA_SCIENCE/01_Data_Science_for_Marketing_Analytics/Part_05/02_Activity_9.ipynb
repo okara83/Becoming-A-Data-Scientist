{
 "cells": [
  {
   "cell_type": "code",
   "execution_count": 1,
   "metadata": {},
   "outputs": [
    {
     "data": {
      "text/html": [
       "<div>\n",
       "<style scoped>\n",
       "    .dataframe tbody tr th:only-of-type {\n",
       "        vertical-align: middle;\n",
       "    }\n",
       "\n",
       "    .dataframe tbody tr th {\n",
       "        vertical-align: top;\n",
       "    }\n",
       "\n",
       "    .dataframe thead th {\n",
       "        text-align: right;\n",
       "    }\n",
       "</style>\n",
       "<table border=\"1\" class=\"dataframe\">\n",
       "  <thead>\n",
       "    <tr style=\"text-align: right;\">\n",
       "      <th></th>\n",
       "      <th>revenue</th>\n",
       "      <th>num_competitors</th>\n",
       "      <th>median_income</th>\n",
       "      <th>num_loyalty_members</th>\n",
       "      <th>population_density</th>\n",
       "      <th>location_age</th>\n",
       "    </tr>\n",
       "  </thead>\n",
       "  <tbody>\n",
       "    <tr>\n",
       "      <th>0</th>\n",
       "      <td>42247.80</td>\n",
       "      <td>3.0</td>\n",
       "      <td>30527.57</td>\n",
       "      <td>1407.0</td>\n",
       "      <td>3302.0</td>\n",
       "      <td>12.0</td>\n",
       "    </tr>\n",
       "    <tr>\n",
       "      <th>1</th>\n",
       "      <td>38628.37</td>\n",
       "      <td>3.0</td>\n",
       "      <td>30185.49</td>\n",
       "      <td>1025.0</td>\n",
       "      <td>4422.0</td>\n",
       "      <td>11.0</td>\n",
       "    </tr>\n",
       "    <tr>\n",
       "      <th>2</th>\n",
       "      <td>39715.16</td>\n",
       "      <td>1.0</td>\n",
       "      <td>32182.24</td>\n",
       "      <td>1498.0</td>\n",
       "      <td>3260.0</td>\n",
       "      <td>12.0</td>\n",
       "    </tr>\n",
       "    <tr>\n",
       "      <th>3</th>\n",
       "      <td>35593.30</td>\n",
       "      <td>5.0</td>\n",
       "      <td>29728.65</td>\n",
       "      <td>2340.0</td>\n",
       "      <td>4325.0</td>\n",
       "      <td>10.0</td>\n",
       "    </tr>\n",
       "    <tr>\n",
       "      <th>4</th>\n",
       "      <td>35128.18</td>\n",
       "      <td>4.0</td>\n",
       "      <td>30691.17</td>\n",
       "      <td>847.0</td>\n",
       "      <td>3774.0</td>\n",
       "      <td>11.0</td>\n",
       "    </tr>\n",
       "  </tbody>\n",
       "</table>\n",
       "</div>"
      ],
      "text/plain": [
       "    revenue  num_competitors  median_income  num_loyalty_members  \\\n",
       "0  42247.80              3.0       30527.57               1407.0   \n",
       "1  38628.37              3.0       30185.49               1025.0   \n",
       "2  39715.16              1.0       32182.24               1498.0   \n",
       "3  35593.30              5.0       29728.65               2340.0   \n",
       "4  35128.18              4.0       30691.17                847.0   \n",
       "\n",
       "   population_density  location_age  \n",
       "0              3302.0          12.0  \n",
       "1              4422.0          11.0  \n",
       "2              3260.0          12.0  \n",
       "3              4325.0          10.0  \n",
       "4              3774.0          11.0  "
      ]
     },
     "execution_count": 1,
     "metadata": {},
     "output_type": "execute_result"
    }
   ],
   "source": [
    "import pandas as pd\n",
    "df = pd.read_csv('location_rev.csv')\n",
    "\n",
    "df.head()"
   ]
  },
  {
   "cell_type": "code",
   "execution_count": 2,
   "metadata": {},
   "outputs": [],
   "source": [
    "X = df[['num_competitors',\n",
    "       'median_income',\n",
    "       'num_loyalty_members',\n",
    "       'population_density',\n",
    "       'location_age'\n",
    "       ]]\n",
    "y = df['revenue']"
   ]
  },
  {
   "cell_type": "code",
   "execution_count": 3,
   "metadata": {},
   "outputs": [],
   "source": [
    "from sklearn.model_selection import train_test_split\n",
    "\n",
    "X_train, X_test, y_train, y_test = train_test_split(X, y, random_state = 100)"
   ]
  },
  {
   "cell_type": "code",
   "execution_count": 4,
   "metadata": {},
   "outputs": [
    {
     "data": {
      "text/plain": [
       "LinearRegression()"
      ]
     },
     "execution_count": 4,
     "metadata": {},
     "output_type": "execute_result"
    }
   ],
   "source": [
    "from sklearn.linear_model import LinearRegression\n",
    "\n",
    "model = LinearRegression()\n",
    "model.fit(X_train,y_train)"
   ]
  },
  {
   "cell_type": "code",
   "execution_count": 5,
   "metadata": {},
   "outputs": [
    {
     "data": {
      "text/plain": [
       "array([-2.14765128e+03,  1.71903196e+00,  3.50665069e+00,  4.31777912e+00,\n",
       "        2.06703103e+03])"
      ]
     },
     "execution_count": 5,
     "metadata": {},
     "output_type": "execute_result"
    }
   ],
   "source": [
    "model.coef_"
   ]
  },
  {
   "cell_type": "code",
   "execution_count": 6,
   "metadata": {},
   "outputs": [
    {
     "data": {
      "text/plain": [
       "-51068.63644236389"
      ]
     },
     "execution_count": 6,
     "metadata": {},
     "output_type": "execute_result"
    }
   ],
   "source": [
    "model.intercept_"
   ]
  },
  {
   "cell_type": "code",
   "execution_count": 7,
   "metadata": {},
   "outputs": [
    {
     "data": {
      "text/plain": [
       "array([27573.21782447])"
      ]
     },
     "execution_count": 7,
     "metadata": {},
     "output_type": "execute_result"
    }
   ],
   "source": [
    "single_location = pd.DataFrame({\n",
    "    'num_competitors': [3],\n",
    "    'median_income': [30000],\n",
    "    'num_loyalty_members': [1200],\n",
    "    'population_density': [2000],\n",
    "    'location_age': [10]\n",
    "})\n",
    "\n",
    "model.predict(single_location)"
   ]
  },
  {
   "cell_type": "code",
   "execution_count": 8,
   "metadata": {},
   "outputs": [
    {
     "data": {
      "text/plain": [
       "num_competitors            3.3970\n",
       "median_income          31360.6685\n",
       "num_loyalty_members     1597.2000\n",
       "population_density      3351.1990\n",
       "location_age              11.0410\n",
       "dtype: float64"
      ]
     },
     "execution_count": 8,
     "metadata": {},
     "output_type": "execute_result"
    }
   ],
   "source": [
    "X.mean()"
   ]
  },
  {
   "cell_type": "code",
   "execution_count": 9,
   "metadata": {},
   "outputs": [
    {
     "data": {
      "image/png": "[encoded data removed]",
      "text/plain": [
       "<Figure size 432x288 with 1 Axes>"
      ]
     },
     "metadata": {
      "needs_background": "light"
     },
     "output_type": "display_data"
    }
   ],
   "source": [
    "import matplotlib.pyplot as plt\n",
    "%matplotlib inline\n",
    "\n",
    "plt.scatter(model.predict(X_test),y_test)\n",
    "plt.xlabel('Model Predictions')\n",
    "plt.ylabel('True Value')\n",
    "plt.plot([0, 100000], [0, 100000], 'k-', color = 'r')\n",
    "plt.show()"
   ]
  },
  {
   "cell_type": "code",
   "execution_count": 10,
   "metadata": {},
   "outputs": [
    {
     "data": {
      "text/plain": [
       "(0.9061597827907563, 1.1552714895196922e-94)"
      ]
     },
     "execution_count": 10,
     "metadata": {},
     "output_type": "execute_result"
    }
   ],
   "source": [
    "from scipy.stats.stats import pearsonr\n",
    "\n",
    "pearsonr(model.predict(X_test),y_test)"
   ]
  },
  {
   "cell_type": "code",
   "execution_count": null,
   "metadata": {},
   "outputs": [],
   "source": []
  }
 ],
 "metadata": {
  "kernelspec": {
   "display_name": "Python 3",
   "language": "python",
   "name": "python3"
  },
  "language_info": {
   "codemirror_mode": {
    "name": "ipython",
    "version": 3
   },
   "file_extension": ".py",
   "mimetype": "text/x-python",
   "name": "python",
   "nbconvert_exporter": "python",
   "pygments_lexer": "ipython3",
   "version": "3.7.9"
  }
 },
 "nbformat": 4,
 "nbformat_minor": 2
}
