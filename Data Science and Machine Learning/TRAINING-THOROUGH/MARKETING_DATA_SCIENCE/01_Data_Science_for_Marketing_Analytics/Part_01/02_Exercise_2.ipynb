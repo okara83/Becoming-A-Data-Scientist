{
 "cells": [
  {
   "cell_type": "code",
   "execution_count": 1,
   "metadata": {},
   "outputs": [],
   "source": [
    "import pandas as pd"
   ]
  },
  {
   "cell_type": "code",
   "execution_count": 2,
   "metadata": {},
   "outputs": [],
   "source": [
    "campaign_data = pd.read_csv(\"data.csv\") "
   ]
  },
  {
   "cell_type": "code",
   "execution_count": 3,
   "metadata": {},
   "outputs": [
    {
     "data": {
      "text/html": [
       "<div>\n",
       "<style scoped>\n",
       "    .dataframe tbody tr th:only-of-type {\n",
       "        vertical-align: middle;\n",
       "    }\n",
       "\n",
       "    .dataframe tbody tr th {\n",
       "        vertical-align: top;\n",
       "    }\n",
       "\n",
       "    .dataframe thead th {\n",
       "        text-align: right;\n",
       "    }\n",
       "</style>\n",
       "<table border=\"1\" class=\"dataframe\">\n",
       "  <thead>\n",
       "    <tr style=\"text-align: right;\">\n",
       "      <th></th>\n",
       "      <th>Campaign Data</th>\n",
       "    </tr>\n",
       "  </thead>\n",
       "  <tbody>\n",
       "    <tr>\n",
       "      <th>views</th>\n",
       "      <td>likes</td>\n",
       "    </tr>\n",
       "    <tr>\n",
       "      <th>90006</th>\n",
       "      <td>402</td>\n",
       "    </tr>\n",
       "    <tr>\n",
       "      <th>101141</th>\n",
       "      <td>389</td>\n",
       "    </tr>\n",
       "    <tr>\n",
       "      <th>97297</th>\n",
       "      <td>403</td>\n",
       "    </tr>\n",
       "    <tr>\n",
       "      <th>117182</th>\n",
       "      <td>397</td>\n",
       "    </tr>\n",
       "  </tbody>\n",
       "</table>\n",
       "</div>"
      ],
      "text/plain": [
       "       Campaign Data\n",
       "views          likes\n",
       "90006            402\n",
       "101141           389\n",
       "97297            403\n",
       "117182           397"
      ]
     },
     "execution_count": 3,
     "metadata": {},
     "output_type": "execute_result"
    }
   ],
   "source": [
    "campaign_data.head() "
   ]
  },
  {
   "cell_type": "code",
   "execution_count": 4,
   "metadata": {},
   "outputs": [],
   "source": [
    "campaign_data = pd.read_csv(\"data.csv\", header = 1) "
   ]
  },
  {
   "cell_type": "code",
   "execution_count": 5,
   "metadata": {},
   "outputs": [
    {
     "data": {
      "text/html": [
       "<div>\n",
       "<style scoped>\n",
       "    .dataframe tbody tr th:only-of-type {\n",
       "        vertical-align: middle;\n",
       "    }\n",
       "\n",
       "    .dataframe tbody tr th {\n",
       "        vertical-align: top;\n",
       "    }\n",
       "\n",
       "    .dataframe thead th {\n",
       "        text-align: right;\n",
       "    }\n",
       "</style>\n",
       "<table border=\"1\" class=\"dataframe\">\n",
       "  <thead>\n",
       "    <tr style=\"text-align: right;\">\n",
       "      <th></th>\n",
       "      <th>views</th>\n",
       "      <th>likes</th>\n",
       "    </tr>\n",
       "  </thead>\n",
       "  <tbody>\n",
       "    <tr>\n",
       "      <th>0</th>\n",
       "      <td>90006</td>\n",
       "      <td>402</td>\n",
       "    </tr>\n",
       "    <tr>\n",
       "      <th>1</th>\n",
       "      <td>101141</td>\n",
       "      <td>389</td>\n",
       "    </tr>\n",
       "    <tr>\n",
       "      <th>2</th>\n",
       "      <td>97297</td>\n",
       "      <td>403</td>\n",
       "    </tr>\n",
       "    <tr>\n",
       "      <th>3</th>\n",
       "      <td>117182</td>\n",
       "      <td>397</td>\n",
       "    </tr>\n",
       "    <tr>\n",
       "      <th>4</th>\n",
       "      <td>99637</td>\n",
       "      <td>404</td>\n",
       "    </tr>\n",
       "  </tbody>\n",
       "</table>\n",
       "</div>"
      ],
      "text/plain": [
       "    views  likes\n",
       "0   90006    402\n",
       "1  101141    389\n",
       "2   97297    403\n",
       "3  117182    397\n",
       "4   99637    404"
      ]
     },
     "execution_count": 5,
     "metadata": {},
     "output_type": "execute_result"
    }
   ],
   "source": [
    "campaign_data.head() "
   ]
  },
  {
   "cell_type": "code",
   "execution_count": 6,
   "metadata": {},
   "outputs": [
    {
     "data": {
      "text/html": [
       "<div>\n",
       "<style scoped>\n",
       "    .dataframe tbody tr th:only-of-type {\n",
       "        vertical-align: middle;\n",
       "    }\n",
       "\n",
       "    .dataframe tbody tr th {\n",
       "        vertical-align: top;\n",
       "    }\n",
       "\n",
       "    .dataframe thead th {\n",
       "        text-align: right;\n",
       "    }\n",
       "</style>\n",
       "<table border=\"1\" class=\"dataframe\">\n",
       "  <thead>\n",
       "    <tr style=\"text-align: right;\">\n",
       "      <th></th>\n",
       "      <th>views</th>\n",
       "      <th>likes</th>\n",
       "    </tr>\n",
       "  </thead>\n",
       "  <tbody>\n",
       "    <tr>\n",
       "      <th>95</th>\n",
       "      <td>100464</td>\n",
       "      <td>391</td>\n",
       "    </tr>\n",
       "    <tr>\n",
       "      <th>96</th>\n",
       "      <td>96382</td>\n",
       "      <td>387</td>\n",
       "    </tr>\n",
       "    <tr>\n",
       "      <th>97</th>\n",
       "      <td>94971</td>\n",
       "      <td>389</td>\n",
       "    </tr>\n",
       "    <tr>\n",
       "      <th>98</th>\n",
       "      <td>103070</td>\n",
       "      <td>410</td>\n",
       "    </tr>\n",
       "    <tr>\n",
       "      <th>99</th>\n",
       "      <td>110387</td>\n",
       "      <td>411</td>\n",
       "    </tr>\n",
       "  </tbody>\n",
       "</table>\n",
       "</div>"
      ],
      "text/plain": [
       "     views  likes\n",
       "95  100464    391\n",
       "96   96382    387\n",
       "97   94971    389\n",
       "98  103070    410\n",
       "99  110387    411"
      ]
     },
     "execution_count": 6,
     "metadata": {},
     "output_type": "execute_result"
    }
   ],
   "source": [
    "campaign_data.tail()"
   ]
  },
  {
   "cell_type": "code",
   "execution_count": 7,
   "metadata": {},
   "outputs": [
    {
     "name": "stdout",
     "output_type": "stream",
     "text": [
      "<class 'pandas.core.frame.DataFrame'>\n",
      "RangeIndex: 100 entries, 0 to 99\n",
      "Data columns (total 2 columns):\n",
      " #   Column  Non-Null Count  Dtype\n",
      "---  ------  --------------  -----\n",
      " 0   views   100 non-null    int64\n",
      " 1   likes   100 non-null    int64\n",
      "dtypes: int64(2)\n",
      "memory usage: 1.7 KB\n"
     ]
    }
   ],
   "source": [
    "campaign_data.info()"
   ]
  },
  {
   "cell_type": "code",
   "execution_count": 8,
   "metadata": {},
   "outputs": [
    {
     "data": {
      "text/plain": [
       "(100, 2)"
      ]
     },
     "execution_count": 8,
     "metadata": {},
     "output_type": "execute_result"
    }
   ],
   "source": [
    "campaign_data.shape"
   ]
  },
  {
   "cell_type": "code",
   "execution_count": 9,
   "metadata": {},
   "outputs": [],
   "source": [
    "sales = pd.read_excel(\"sales.xlsx\")"
   ]
  },
  {
   "cell_type": "code",
   "execution_count": 10,
   "metadata": {
    "scrolled": false
   },
   "outputs": [
    {
     "data": {
      "text/html": [
       "<div>\n",
       "<style scoped>\n",
       "    .dataframe tbody tr th:only-of-type {\n",
       "        vertical-align: middle;\n",
       "    }\n",
       "\n",
       "    .dataframe tbody tr th {\n",
       "        vertical-align: top;\n",
       "    }\n",
       "\n",
       "    .dataframe thead th {\n",
       "        text-align: right;\n",
       "    }\n",
       "</style>\n",
       "<table border=\"1\" class=\"dataframe\">\n",
       "  <thead>\n",
       "    <tr style=\"text-align: right;\">\n",
       "      <th></th>\n",
       "      <th>Year</th>\n",
       "      <th>Product</th>\n",
       "      <th>line</th>\n",
       "      <th>Product.1</th>\n",
       "      <th>type</th>\n",
       "      <th>Product.2</th>\n",
       "      <th>Order</th>\n",
       "      <th>method</th>\n",
       "      <th>type.1</th>\n",
       "      <th>Retailer</th>\n",
       "      <th>...</th>\n",
       "      <th>Quantity</th>\n",
       "      <th>Unit</th>\n",
       "      <th>cost.1</th>\n",
       "      <th>Unit.1</th>\n",
       "      <th>price</th>\n",
       "      <th>Gross</th>\n",
       "      <th>profit</th>\n",
       "      <th>Unit.2</th>\n",
       "      <th>sale</th>\n",
       "      <th>price.1</th>\n",
       "    </tr>\n",
       "  </thead>\n",
       "  <tbody>\n",
       "    <tr>\n",
       "      <th>0</th>\n",
       "      <td>2004</td>\n",
       "      <td>Camping</td>\n",
       "      <td>Equipment</td>\n",
       "      <td>Cooking</td>\n",
       "      <td>Gear</td>\n",
       "      <td>TrailChef</td>\n",
       "      <td>Water</td>\n",
       "      <td>Bag</td>\n",
       "      <td>Telephone</td>\n",
       "      <td>United</td>\n",
       "      <td>...</td>\n",
       "      <td>6.59</td>\n",
       "      <td>156672.570</td>\n",
       "      <td>5.195714</td>\n",
       "      <td>NaN</td>\n",
       "      <td>NaN</td>\n",
       "      <td>NaN</td>\n",
       "      <td>NaN</td>\n",
       "      <td>NaN</td>\n",
       "      <td>NaN</td>\n",
       "      <td>NaN</td>\n",
       "    </tr>\n",
       "    <tr>\n",
       "      <th>1</th>\n",
       "      <td>2004</td>\n",
       "      <td>Camping</td>\n",
       "      <td>Equipment</td>\n",
       "      <td>Cooking</td>\n",
       "      <td>Gear</td>\n",
       "      <td>TrailChef</td>\n",
       "      <td>Water</td>\n",
       "      <td>Bag</td>\n",
       "      <td>Telephone</td>\n",
       "      <td>Canada</td>\n",
       "      <td>...</td>\n",
       "      <td>7145.88</td>\n",
       "      <td>6.190</td>\n",
       "      <td>NaN</td>\n",
       "      <td>NaN</td>\n",
       "      <td>NaN</td>\n",
       "      <td>NaN</td>\n",
       "      <td>NaN</td>\n",
       "      <td>NaN</td>\n",
       "      <td>NaN</td>\n",
       "      <td>NaN</td>\n",
       "    </tr>\n",
       "    <tr>\n",
       "      <th>2</th>\n",
       "      <td>2004</td>\n",
       "      <td>Camping</td>\n",
       "      <td>Equipment</td>\n",
       "      <td>Cooking</td>\n",
       "      <td>Gear</td>\n",
       "      <td>TrailChef</td>\n",
       "      <td>Water</td>\n",
       "      <td>Bag</td>\n",
       "      <td>Telephone</td>\n",
       "      <td>Mexico</td>\n",
       "      <td>...</td>\n",
       "      <td>NaN</td>\n",
       "      <td>NaN</td>\n",
       "      <td>NaN</td>\n",
       "      <td>NaN</td>\n",
       "      <td>NaN</td>\n",
       "      <td>NaN</td>\n",
       "      <td>NaN</td>\n",
       "      <td>NaN</td>\n",
       "      <td>NaN</td>\n",
       "      <td>NaN</td>\n",
       "    </tr>\n",
       "    <tr>\n",
       "      <th>3</th>\n",
       "      <td>2004</td>\n",
       "      <td>Camping</td>\n",
       "      <td>Equipment</td>\n",
       "      <td>Cooking</td>\n",
       "      <td>Gear</td>\n",
       "      <td>TrailChef</td>\n",
       "      <td>Water</td>\n",
       "      <td>Bag</td>\n",
       "      <td>Telephone</td>\n",
       "      <td>Brazil</td>\n",
       "      <td>...</td>\n",
       "      <td>NaN</td>\n",
       "      <td>NaN</td>\n",
       "      <td>NaN</td>\n",
       "      <td>NaN</td>\n",
       "      <td>NaN</td>\n",
       "      <td>NaN</td>\n",
       "      <td>NaN</td>\n",
       "      <td>NaN</td>\n",
       "      <td>NaN</td>\n",
       "      <td>NaN</td>\n",
       "    </tr>\n",
       "    <tr>\n",
       "      <th>4</th>\n",
       "      <td>2004</td>\n",
       "      <td>Camping</td>\n",
       "      <td>Equipment</td>\n",
       "      <td>Cooking</td>\n",
       "      <td>Gear</td>\n",
       "      <td>TrailChef</td>\n",
       "      <td>Water</td>\n",
       "      <td>Bag</td>\n",
       "      <td>Telephone</td>\n",
       "      <td>Japan</td>\n",
       "      <td>...</td>\n",
       "      <td>91707.18</td>\n",
       "      <td>5.488</td>\n",
       "      <td>NaN</td>\n",
       "      <td>NaN</td>\n",
       "      <td>NaN</td>\n",
       "      <td>NaN</td>\n",
       "      <td>NaN</td>\n",
       "      <td>NaN</td>\n",
       "      <td>NaN</td>\n",
       "      <td>NaN</td>\n",
       "    </tr>\n",
       "  </tbody>\n",
       "</table>\n",
       "<p>5 rows × 26 columns</p>\n",
       "</div>"
      ],
      "text/plain": [
       "   Year  Product       line Product.1  type  Product.2  Order method  \\\n",
       "0  2004  Camping  Equipment   Cooking  Gear  TrailChef  Water    Bag   \n",
       "1  2004  Camping  Equipment   Cooking  Gear  TrailChef  Water    Bag   \n",
       "2  2004  Camping  Equipment   Cooking  Gear  TrailChef  Water    Bag   \n",
       "3  2004  Camping  Equipment   Cooking  Gear  TrailChef  Water    Bag   \n",
       "4  2004  Camping  Equipment   Cooking  Gear  TrailChef  Water    Bag   \n",
       "\n",
       "      type.1 Retailer  ...  Quantity        Unit    cost.1 Unit.1 price  \\\n",
       "0  Telephone   United  ...      6.59  156672.570  5.195714    NaN   NaN   \n",
       "1  Telephone   Canada  ...   7145.88       6.190       NaN    NaN   NaN   \n",
       "2  Telephone   Mexico  ...       NaN         NaN       NaN    NaN   NaN   \n",
       "3  Telephone   Brazil  ...       NaN         NaN       NaN    NaN   NaN   \n",
       "4  Telephone    Japan  ...  91707.18       5.488       NaN    NaN   NaN   \n",
       "\n",
       "   Gross  profit  Unit.2  sale  price.1  \n",
       "0    NaN     NaN     NaN   NaN      NaN  \n",
       "1    NaN     NaN     NaN   NaN      NaN  \n",
       "2    NaN     NaN     NaN   NaN      NaN  \n",
       "3    NaN     NaN     NaN   NaN      NaN  \n",
       "4    NaN     NaN     NaN   NaN      NaN  \n",
       "\n",
       "[5 rows x 26 columns]"
      ]
     },
     "execution_count": 10,
     "metadata": {},
     "output_type": "execute_result"
    }
   ],
   "source": [
    "sales.head()"
   ]
  },
  {
   "cell_type": "code",
   "execution_count": 11,
   "metadata": {},
   "outputs": [
    {
     "data": {
      "text/plain": [
       "Year           int64\n",
       "Product       object\n",
       "line          object\n",
       "Product.1     object\n",
       "type          object\n",
       "Product.2     object\n",
       "Order         object\n",
       "method        object\n",
       "type.1        object\n",
       "Retailer      object\n",
       "country       object\n",
       "Revenue       object\n",
       "Planned       object\n",
       "revenue       object\n",
       "Product.3     object\n",
       "cost         float64\n",
       "Quantity     float64\n",
       "Unit         float64\n",
       "cost.1       float64\n",
       "Unit.1       float64\n",
       "price        float64\n",
       "Gross        float64\n",
       "profit       float64\n",
       "Unit.2       float64\n",
       "sale         float64\n",
       "price.1      float64\n",
       "dtype: object"
      ]
     },
     "execution_count": 11,
     "metadata": {},
     "output_type": "execute_result"
    }
   ],
   "source": [
    "sales.dtypes"
   ]
  },
  {
   "cell_type": "code",
   "execution_count": 12,
   "metadata": {
    "scrolled": false
   },
   "outputs": [
    {
     "name": "stdout",
     "output_type": "stream",
     "text": [
      "<class 'pandas.core.frame.DataFrame'>\n",
      "RangeIndex: 65535 entries, 0 to 65534\n",
      "Data columns (total 26 columns):\n",
      " #   Column     Non-Null Count  Dtype  \n",
      "---  ------     --------------  -----  \n",
      " 0   Year       65535 non-null  int64  \n",
      " 1   Product    65535 non-null  object \n",
      " 2   line       65535 non-null  object \n",
      " 3   Product.1  65535 non-null  object \n",
      " 4   type       65535 non-null  object \n",
      " 5   Product.2  65535 non-null  object \n",
      " 6   Order      65535 non-null  object \n",
      " 7   method     61083 non-null  object \n",
      " 8   type.1     46709 non-null  object \n",
      " 9   Retailer   32525 non-null  object \n",
      " 10  country    24135 non-null  object \n",
      " 11  Revenue    21494 non-null  object \n",
      " 12  Planned    20925 non-null  object \n",
      " 13  revenue    20645 non-null  object \n",
      " 14  Product.3  20588 non-null  object \n",
      " 15  cost       19224 non-null  float64\n",
      " 16  Quantity   13663 non-null  float64\n",
      " 17  Unit       7046 non-null   float64\n",
      " 18  cost.1     2403 non-null   float64\n",
      " 19  Unit.1     650 non-null    float64\n",
      " 20  price      233 non-null    float64\n",
      " 21  Gross      46 non-null     float64\n",
      " 22  profit     4 non-null      float64\n",
      " 23  Unit.2     0 non-null      float64\n",
      " 24  sale       0 non-null      float64\n",
      " 25  price.1    0 non-null      float64\n",
      "dtypes: float64(11), int64(1), object(14)\n",
      "memory usage: 13.0+ MB\n"
     ]
    }
   ],
   "source": [
    "sales.info()"
   ]
  },
  {
   "cell_type": "code",
   "execution_count": null,
   "metadata": {},
   "outputs": [],
   "source": [
    "sales = pd.read_excel(\"sales.xlsx\", names = [\"Year\", \"Product line\", \"Product type\", \"Product\", \"Order method type\",\n",
    "                                             \"Retailer Country\", \"Revenue\", \"Planned revenue\", \"Product cost\", \"Quantity\",\n",
    "                                             \"Unit cost\", \"Unit price\", \"Gross Profit\", \"Unit sale price\"])"
   ]
  },
  {
   "cell_type": "code",
   "execution_count": null,
   "metadata": {},
   "outputs": [],
   "source": [
    "sales.shape"
   ]
  },
  {
   "cell_type": "code",
   "execution_count": null,
   "metadata": {},
   "outputs": [],
   "source": []
  }
 ],
 "metadata": {
  "kernelspec": {
   "display_name": "Python 3",
   "language": "python",
   "name": "python3"
  },
  "language_info": {
   "codemirror_mode": {
    "name": "ipython",
    "version": 3
   },
   "file_extension": ".py",
   "mimetype": "text/x-python",
   "name": "python",
   "nbconvert_exporter": "python",
   "pygments_lexer": "ipython3",
   "version": "3.7.9"
  }
 },
 "nbformat": 4,
 "nbformat_minor": 2
}
