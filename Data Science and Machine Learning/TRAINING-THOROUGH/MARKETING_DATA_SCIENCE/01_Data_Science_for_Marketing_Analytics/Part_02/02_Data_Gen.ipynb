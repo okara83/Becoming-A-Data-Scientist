{
 "cells": [
  {
   "cell_type": "code",
   "execution_count": 1,
   "metadata": {},
   "outputs": [],
   "source": [
    "import matplotlib.pyplot as plt\n",
    "import pandas as pd"
   ]
  },
  {
   "cell_type": "code",
   "execution_count": 2,
   "metadata": {},
   "outputs": [
    {
     "data": {
      "text/html": [
       "<div>\n",
       "<style scoped>\n",
       "    .dataframe tbody tr th:only-of-type {\n",
       "        vertical-align: middle;\n",
       "    }\n",
       "\n",
       "    .dataframe tbody tr th {\n",
       "        vertical-align: top;\n",
       "    }\n",
       "\n",
       "    .dataframe thead th {\n",
       "        text-align: right;\n",
       "    }\n",
       "</style>\n",
       "<table border=\"1\" class=\"dataframe\">\n",
       "  <thead>\n",
       "    <tr style=\"text-align: right;\">\n",
       "      <th></th>\n",
       "      <th>P Cost</th>\n",
       "      <th>P Views</th>\n",
       "      <th>Q Cost</th>\n",
       "      <th>Q Views</th>\n",
       "      <th>R Cost</th>\n",
       "      <th>R Views</th>\n",
       "    </tr>\n",
       "  </thead>\n",
       "  <tbody>\n",
       "    <tr>\n",
       "      <th>Monday</th>\n",
       "      <td>50</td>\n",
       "      <td>20000</td>\n",
       "      <td>150</td>\n",
       "      <td>200000</td>\n",
       "      <td>50</td>\n",
       "      <td>10000</td>\n",
       "    </tr>\n",
       "    <tr>\n",
       "      <th>Tuesday</th>\n",
       "      <td>50</td>\n",
       "      <td>15000</td>\n",
       "      <td>150</td>\n",
       "      <td>210000</td>\n",
       "      <td>50</td>\n",
       "      <td>20000</td>\n",
       "    </tr>\n",
       "    <tr>\n",
       "      <th>Wednesday</th>\n",
       "      <td>50</td>\n",
       "      <td>23000</td>\n",
       "      <td>150</td>\n",
       "      <td>175000</td>\n",
       "      <td>50</td>\n",
       "      <td>20000</td>\n",
       "    </tr>\n",
       "    <tr>\n",
       "      <th>Thursday</th>\n",
       "      <td>50</td>\n",
       "      <td>20000</td>\n",
       "      <td>150</td>\n",
       "      <td>230000</td>\n",
       "      <td>50</td>\n",
       "      <td>14000</td>\n",
       "    </tr>\n",
       "    <tr>\n",
       "      <th>Friday</th>\n",
       "      <td>75</td>\n",
       "      <td>19000</td>\n",
       "      <td>200</td>\n",
       "      <td>150000</td>\n",
       "      <td>75</td>\n",
       "      <td>23000</td>\n",
       "    </tr>\n",
       "    <tr>\n",
       "      <th>Saturday</th>\n",
       "      <td>100</td>\n",
       "      <td>30000</td>\n",
       "      <td>300</td>\n",
       "      <td>500000</td>\n",
       "      <td>100</td>\n",
       "      <td>22000</td>\n",
       "    </tr>\n",
       "    <tr>\n",
       "      <th>Sunday</th>\n",
       "      <td>100</td>\n",
       "      <td>40000</td>\n",
       "      <td>300</td>\n",
       "      <td>450000</td>\n",
       "      <td>100</td>\n",
       "      <td>25000</td>\n",
       "    </tr>\n",
       "  </tbody>\n",
       "</table>\n",
       "</div>"
      ],
      "text/plain": [
       "           P Cost  P Views  Q Cost  Q Views  R Cost  R Views\n",
       "Monday         50    20000     150   200000      50    10000\n",
       "Tuesday        50    15000     150   210000      50    20000\n",
       "Wednesday      50    23000     150   175000      50    20000\n",
       "Thursday       50    20000     150   230000      50    14000\n",
       "Friday         75    19000     200   150000      75    23000\n",
       "Saturday      100    30000     300   500000     100    22000\n",
       "Sunday        100    40000     300   450000     100    25000"
      ]
     },
     "execution_count": 2,
     "metadata": {},
     "output_type": "execute_result"
    }
   ],
   "source": [
    "df = pd.DataFrame({\n",
    "    'P Cost': [50,50,50,50,75,100,100],\n",
    "    'P Views': [20000, 15000, 23000, 20000, 19000, 30000, 40000],\n",
    "    'Q Cost': [150, 150, 150, 150, 200, 300, 300],\n",
    "    'Q Views': [200000, 210000, 175000, 230000, 150000, 500000, 450000],\n",
    "    'R Cost': [50,50,50,50,75,100,100],\n",
    "    'R Views': [10000, 20000, 20000, 14000, 23000, 22000, 25000]\n",
    "}, index= ['Monday', 'Tuesday', 'Wednesday', 'Thursday', 'Friday', 'Saturday', 'Sunday'])\n",
    "df"
   ]
  },
  {
   "cell_type": "code",
   "execution_count": 3,
   "metadata": {},
   "outputs": [
    {
     "data": {
      "text/html": [
       "<div>\n",
       "<style scoped>\n",
       "    .dataframe tbody tr th:only-of-type {\n",
       "        vertical-align: middle;\n",
       "    }\n",
       "\n",
       "    .dataframe tbody tr th {\n",
       "        vertical-align: top;\n",
       "    }\n",
       "\n",
       "    .dataframe thead th {\n",
       "        text-align: right;\n",
       "    }\n",
       "</style>\n",
       "<table border=\"1\" class=\"dataframe\">\n",
       "  <thead>\n",
       "    <tr style=\"text-align: right;\">\n",
       "      <th></th>\n",
       "      <th>P Cost</th>\n",
       "      <th>P Views</th>\n",
       "      <th>Q Cost</th>\n",
       "      <th>Q Views</th>\n",
       "      <th>R Cost</th>\n",
       "      <th>R Views</th>\n",
       "    </tr>\n",
       "  </thead>\n",
       "  <tbody>\n",
       "    <tr>\n",
       "      <th>count</th>\n",
       "      <td>7.000000</td>\n",
       "      <td>7.000000</td>\n",
       "      <td>7.000000</td>\n",
       "      <td>7.000000</td>\n",
       "      <td>7.000000</td>\n",
       "      <td>7.000000</td>\n",
       "    </tr>\n",
       "    <tr>\n",
       "      <th>mean</th>\n",
       "      <td>67.857143</td>\n",
       "      <td>23857.142857</td>\n",
       "      <td>200.000000</td>\n",
       "      <td>273571.428571</td>\n",
       "      <td>67.857143</td>\n",
       "      <td>19142.857143</td>\n",
       "    </tr>\n",
       "    <tr>\n",
       "      <th>std</th>\n",
       "      <td>23.779743</td>\n",
       "      <td>8474.050024</td>\n",
       "      <td>70.710678</td>\n",
       "      <td>140674.396086</td>\n",
       "      <td>23.779743</td>\n",
       "      <td>5304.984179</td>\n",
       "    </tr>\n",
       "    <tr>\n",
       "      <th>min</th>\n",
       "      <td>50.000000</td>\n",
       "      <td>15000.000000</td>\n",
       "      <td>150.000000</td>\n",
       "      <td>150000.000000</td>\n",
       "      <td>50.000000</td>\n",
       "      <td>10000.000000</td>\n",
       "    </tr>\n",
       "    <tr>\n",
       "      <th>25%</th>\n",
       "      <td>50.000000</td>\n",
       "      <td>19500.000000</td>\n",
       "      <td>150.000000</td>\n",
       "      <td>187500.000000</td>\n",
       "      <td>50.000000</td>\n",
       "      <td>17000.000000</td>\n",
       "    </tr>\n",
       "    <tr>\n",
       "      <th>50%</th>\n",
       "      <td>50.000000</td>\n",
       "      <td>20000.000000</td>\n",
       "      <td>150.000000</td>\n",
       "      <td>210000.000000</td>\n",
       "      <td>50.000000</td>\n",
       "      <td>20000.000000</td>\n",
       "    </tr>\n",
       "    <tr>\n",
       "      <th>75%</th>\n",
       "      <td>87.500000</td>\n",
       "      <td>26500.000000</td>\n",
       "      <td>250.000000</td>\n",
       "      <td>340000.000000</td>\n",
       "      <td>87.500000</td>\n",
       "      <td>22500.000000</td>\n",
       "    </tr>\n",
       "    <tr>\n",
       "      <th>max</th>\n",
       "      <td>100.000000</td>\n",
       "      <td>40000.000000</td>\n",
       "      <td>300.000000</td>\n",
       "      <td>500000.000000</td>\n",
       "      <td>100.000000</td>\n",
       "      <td>25000.000000</td>\n",
       "    </tr>\n",
       "  </tbody>\n",
       "</table>\n",
       "</div>"
      ],
      "text/plain": [
       "           P Cost       P Views      Q Cost        Q Views      R Cost  \\\n",
       "count    7.000000      7.000000    7.000000       7.000000    7.000000   \n",
       "mean    67.857143  23857.142857  200.000000  273571.428571   67.857143   \n",
       "std     23.779743   8474.050024   70.710678  140674.396086   23.779743   \n",
       "min     50.000000  15000.000000  150.000000  150000.000000   50.000000   \n",
       "25%     50.000000  19500.000000  150.000000  187500.000000   50.000000   \n",
       "50%     50.000000  20000.000000  150.000000  210000.000000   50.000000   \n",
       "75%     87.500000  26500.000000  250.000000  340000.000000   87.500000   \n",
       "max    100.000000  40000.000000  300.000000  500000.000000  100.000000   \n",
       "\n",
       "            R Views  \n",
       "count      7.000000  \n",
       "mean   19142.857143  \n",
       "std     5304.984179  \n",
       "min    10000.000000  \n",
       "25%    17000.000000  \n",
       "50%    20000.000000  \n",
       "75%    22500.000000  \n",
       "max    25000.000000  "
      ]
     },
     "execution_count": 3,
     "metadata": {},
     "output_type": "execute_result"
    }
   ],
   "source": [
    "df.describe()"
   ]
  },
  {
   "cell_type": "code",
   "execution_count": 4,
   "metadata": {},
   "outputs": [
    {
     "data": {
      "text/plain": [
       "P Cost         475\n",
       "P Views     167000\n",
       "Q Cost        1400\n",
       "Q Views    1915000\n",
       "R Cost         475\n",
       "R Views     134000\n",
       "dtype: int64"
      ]
     },
     "execution_count": 4,
     "metadata": {},
     "output_type": "execute_result"
    }
   ],
   "source": [
    "df.sum()"
   ]
  },
  {
   "cell_type": "code",
   "execution_count": 5,
   "metadata": {},
   "outputs": [
    {
     "data": {
      "text/plain": [
       "Monday        83.333333\n",
       "Tuesday       83.333333\n",
       "Wednesday     83.333333\n",
       "Thursday      83.333333\n",
       "Friday       116.666667\n",
       "Saturday     166.666667\n",
       "Sunday       166.666667\n",
       "dtype: float64"
      ]
     },
     "execution_count": 5,
     "metadata": {},
     "output_type": "execute_result"
    }
   ],
   "source": [
    "df[['P Cost', 'Q Cost', 'R Cost']].mean(axis=1)"
   ]
  },
  {
   "cell_type": "code",
   "execution_count": 6,
   "metadata": {},
   "outputs": [],
   "source": [
    "df.to_csv(\"newspaper_prices.csv\", index = False)"
   ]
  },
  {
   "cell_type": "code",
   "execution_count": 7,
   "metadata": {},
   "outputs": [],
   "source": [
    "dates = pd.date_range('2018-01', periods=200, freq='D')"
   ]
  },
  {
   "cell_type": "code",
   "execution_count": 8,
   "metadata": {},
   "outputs": [
    {
     "data": {
      "text/plain": [
       "DatetimeIndex(['2018-01-01', '2018-01-02', '2018-01-03', '2018-01-04',\n",
       "               '2018-01-05', '2018-01-06', '2018-01-07', '2018-01-08',\n",
       "               '2018-01-09', '2018-01-10',\n",
       "               ...\n",
       "               '2018-07-10', '2018-07-11', '2018-07-12', '2018-07-13',\n",
       "               '2018-07-14', '2018-07-15', '2018-07-16', '2018-07-17',\n",
       "               '2018-07-18', '2018-07-19'],\n",
       "              dtype='datetime64[ns]', length=200, freq='D')"
      ]
     },
     "execution_count": 8,
     "metadata": {},
     "output_type": "execute_result"
    }
   ],
   "source": [
    "dates"
   ]
  },
  {
   "cell_type": "code",
   "execution_count": 9,
   "metadata": {},
   "outputs": [],
   "source": [
    "ads = pd.read_csv(\"Advertising.csv\", )"
   ]
  },
  {
   "cell_type": "code",
   "execution_count": 10,
   "metadata": {},
   "outputs": [
    {
     "data": {
      "text/plain": [
       "Date         200\n",
       "TV           200\n",
       "newspaper    200\n",
       "radio        200\n",
       "sales        200\n",
       "dtype: int64"
      ]
     },
     "execution_count": 10,
     "metadata": {},
     "output_type": "execute_result"
    }
   ],
   "source": [
    "ads.count()"
   ]
  },
  {
   "cell_type": "code",
   "execution_count": 11,
   "metadata": {},
   "outputs": [
    {
     "data": {
      "text/html": [
       "<div>\n",
       "<style scoped>\n",
       "    .dataframe tbody tr th:only-of-type {\n",
       "        vertical-align: middle;\n",
       "    }\n",
       "\n",
       "    .dataframe tbody tr th {\n",
       "        vertical-align: top;\n",
       "    }\n",
       "\n",
       "    .dataframe thead th {\n",
       "        text-align: right;\n",
       "    }\n",
       "</style>\n",
       "<table border=\"1\" class=\"dataframe\">\n",
       "  <thead>\n",
       "    <tr style=\"text-align: right;\">\n",
       "      <th></th>\n",
       "      <th>Date</th>\n",
       "      <th>TV</th>\n",
       "      <th>newspaper</th>\n",
       "      <th>radio</th>\n",
       "      <th>sales</th>\n",
       "    </tr>\n",
       "  </thead>\n",
       "  <tbody>\n",
       "    <tr>\n",
       "      <th>0</th>\n",
       "      <td>2018-01-01</td>\n",
       "      <td>230100000.0</td>\n",
       "      <td>69200000.0</td>\n",
       "      <td>37800000.0</td>\n",
       "      <td>22100000.0</td>\n",
       "    </tr>\n",
       "    <tr>\n",
       "      <th>1</th>\n",
       "      <td>2018-01-02</td>\n",
       "      <td>44500000.0</td>\n",
       "      <td>45100000.0</td>\n",
       "      <td>39300000.0</td>\n",
       "      <td>10400000.0</td>\n",
       "    </tr>\n",
       "    <tr>\n",
       "      <th>2</th>\n",
       "      <td>2018-01-03</td>\n",
       "      <td>17200000.0</td>\n",
       "      <td>69300000.0</td>\n",
       "      <td>45900000.0</td>\n",
       "      <td>9300000.0</td>\n",
       "    </tr>\n",
       "    <tr>\n",
       "      <th>3</th>\n",
       "      <td>2018-01-04</td>\n",
       "      <td>151500000.0</td>\n",
       "      <td>58500000.0</td>\n",
       "      <td>41300000.0</td>\n",
       "      <td>18500000.0</td>\n",
       "    </tr>\n",
       "    <tr>\n",
       "      <th>4</th>\n",
       "      <td>2018-01-05</td>\n",
       "      <td>180800000.0</td>\n",
       "      <td>58400000.0</td>\n",
       "      <td>10800000.0</td>\n",
       "      <td>12900000.0</td>\n",
       "    </tr>\n",
       "  </tbody>\n",
       "</table>\n",
       "</div>"
      ],
      "text/plain": [
       "         Date           TV   newspaper       radio       sales\n",
       "0  2018-01-01  230100000.0  69200000.0  37800000.0  22100000.0\n",
       "1  2018-01-02   44500000.0  45100000.0  39300000.0  10400000.0\n",
       "2  2018-01-03   17200000.0  69300000.0  45900000.0   9300000.0\n",
       "3  2018-01-04  151500000.0  58500000.0  41300000.0  18500000.0\n",
       "4  2018-01-05  180800000.0  58400000.0  10800000.0  12900000.0"
      ]
     },
     "execution_count": 11,
     "metadata": {},
     "output_type": "execute_result"
    }
   ],
   "source": [
    "ads.head()"
   ]
  },
  {
   "cell_type": "code",
   "execution_count": 12,
   "metadata": {},
   "outputs": [
    {
     "data": {
      "text/plain": [
       "array([2.301e+08, 4.450e+07, 1.720e+07, 1.515e+08, 1.808e+08, 8.700e+06,\n",
       "       5.750e+07, 1.202e+08, 8.600e+06, 1.998e+08, 6.610e+07, 2.147e+08,\n",
       "       2.380e+07, 9.750e+07, 2.041e+08, 1.954e+08, 6.780e+07, 2.814e+08,\n",
       "       6.920e+07, 1.473e+08, 2.184e+08, 2.374e+08, 1.320e+07, 2.283e+08,\n",
       "       6.230e+07, 2.629e+08, 1.429e+08, 2.401e+08, 2.488e+08, 7.060e+07,\n",
       "       2.929e+08, 1.129e+08, 9.720e+07, 2.656e+08, 9.570e+07, 2.907e+08,\n",
       "       2.669e+08, 7.470e+07, 4.310e+07, 2.280e+08, 2.025e+08, 1.770e+08,\n",
       "       2.936e+08, 2.069e+08, 2.510e+07, 1.751e+08, 8.970e+07, 2.399e+08,\n",
       "       2.272e+08, 6.690e+07, 1.998e+08, 1.004e+08, 2.164e+08, 1.826e+08,\n",
       "       2.627e+08, 1.989e+08, 7.300e+06, 1.362e+08, 2.108e+08, 2.107e+08,\n",
       "       5.350e+07, 2.613e+08, 2.393e+08, 1.027e+08, 1.311e+08, 6.900e+07,\n",
       "       3.150e+07, 1.393e+08, 2.374e+08, 2.168e+08, 1.991e+08, 1.098e+08,\n",
       "       2.680e+07, 1.294e+08, 2.134e+08, 1.690e+07, 2.750e+07, 1.205e+08,\n",
       "       5.400e+06, 1.160e+08, 7.640e+07, 2.398e+08, 7.530e+07, 6.840e+07,\n",
       "       2.135e+08, 1.932e+08, 7.630e+07, 1.107e+08, 8.830e+07, 1.098e+08,\n",
       "       1.343e+08, 2.860e+07, 2.177e+08, 2.509e+08, 1.074e+08, 1.633e+08,\n",
       "       1.976e+08, 1.849e+08, 2.897e+08, 1.352e+08, 2.224e+08, 2.964e+08,\n",
       "       2.802e+08, 1.879e+08, 2.382e+08, 1.379e+08, 2.500e+07, 9.040e+07,\n",
       "       1.310e+07, 2.554e+08, 2.258e+08, 2.417e+08, 1.757e+08, 2.096e+08,\n",
       "       7.820e+07, 7.510e+07, 1.392e+08, 7.640e+07, 1.257e+08, 1.940e+07,\n",
       "       1.413e+08, 1.880e+07, 2.240e+08, 1.231e+08, 2.295e+08, 8.720e+07,\n",
       "       7.800e+06, 8.020e+07, 2.203e+08, 5.960e+07, 7.000e+05, 2.652e+08,\n",
       "       8.400e+06, 2.198e+08, 3.690e+07, 4.830e+07, 2.560e+07, 2.737e+08,\n",
       "       4.300e+07, 1.849e+08, 7.340e+07, 1.937e+08, 2.205e+08, 1.046e+08,\n",
       "       9.620e+07, 1.403e+08, 2.401e+08, 2.432e+08, 3.800e+07, 4.470e+07,\n",
       "       2.807e+08, 1.210e+08, 1.976e+08, 1.713e+08, 1.878e+08, 4.100e+06,\n",
       "       9.390e+07, 1.498e+08, 1.170e+07, 1.317e+08, 1.725e+08, 8.570e+07,\n",
       "       1.884e+08, 1.635e+08, 1.172e+08, 2.345e+08, 1.790e+07, 2.068e+08,\n",
       "       2.154e+08, 2.843e+08, 5.000e+07, 1.645e+08, 1.960e+07, 1.684e+08,\n",
       "       2.224e+08, 2.769e+08, 2.484e+08, 1.702e+08, 2.767e+08, 1.656e+08,\n",
       "       1.566e+08, 2.185e+08, 5.620e+07, 2.876e+08, 2.538e+08, 2.050e+08,\n",
       "       1.395e+08, 1.911e+08, 2.860e+08, 1.870e+07, 3.950e+07, 7.550e+07,\n",
       "       1.720e+07, 1.668e+08, 1.497e+08, 3.820e+07, 9.420e+07, 1.770e+08,\n",
       "       2.836e+08, 2.321e+08])"
      ]
     },
     "execution_count": 12,
     "metadata": {},
     "output_type": "execute_result"
    }
   ],
   "source": [
    "ads['TV'].values "
   ]
  },
  {
   "cell_type": "code",
   "execution_count": 13,
   "metadata": {},
   "outputs": [],
   "source": [
    "df = pd.DataFrame({\n",
    "    \"TV\": ads.TV.values*1000,\n",
    "    \"radio\": ads.radio.values*1000,\n",
    "    \"newspaper\": ads.newspaper.values*1000,\n",
    "    \"sales\": ads.sales.values*1000\n",
    "}, index = dates)"
   ]
  },
  {
   "cell_type": "code",
   "execution_count": 14,
   "metadata": {},
   "outputs": [
    {
     "data": {
      "text/html": [
       "<div>\n",
       "<style scoped>\n",
       "    .dataframe tbody tr th:only-of-type {\n",
       "        vertical-align: middle;\n",
       "    }\n",
       "\n",
       "    .dataframe tbody tr th {\n",
       "        vertical-align: top;\n",
       "    }\n",
       "\n",
       "    .dataframe thead th {\n",
       "        text-align: right;\n",
       "    }\n",
       "</style>\n",
       "<table border=\"1\" class=\"dataframe\">\n",
       "  <thead>\n",
       "    <tr style=\"text-align: right;\">\n",
       "      <th></th>\n",
       "      <th>TV</th>\n",
       "      <th>radio</th>\n",
       "      <th>newspaper</th>\n",
       "      <th>sales</th>\n",
       "    </tr>\n",
       "  </thead>\n",
       "  <tbody>\n",
       "    <tr>\n",
       "      <th>2018-01-01</th>\n",
       "      <td>2.301000e+11</td>\n",
       "      <td>3.780000e+10</td>\n",
       "      <td>6.920000e+10</td>\n",
       "      <td>2.210000e+10</td>\n",
       "    </tr>\n",
       "    <tr>\n",
       "      <th>2018-01-02</th>\n",
       "      <td>4.450000e+10</td>\n",
       "      <td>3.930000e+10</td>\n",
       "      <td>4.510000e+10</td>\n",
       "      <td>1.040000e+10</td>\n",
       "    </tr>\n",
       "    <tr>\n",
       "      <th>2018-01-03</th>\n",
       "      <td>1.720000e+10</td>\n",
       "      <td>4.590000e+10</td>\n",
       "      <td>6.930000e+10</td>\n",
       "      <td>9.300000e+09</td>\n",
       "    </tr>\n",
       "    <tr>\n",
       "      <th>2018-01-04</th>\n",
       "      <td>1.515000e+11</td>\n",
       "      <td>4.130000e+10</td>\n",
       "      <td>5.850000e+10</td>\n",
       "      <td>1.850000e+10</td>\n",
       "    </tr>\n",
       "    <tr>\n",
       "      <th>2018-01-05</th>\n",
       "      <td>1.808000e+11</td>\n",
       "      <td>1.080000e+10</td>\n",
       "      <td>5.840000e+10</td>\n",
       "      <td>1.290000e+10</td>\n",
       "    </tr>\n",
       "    <tr>\n",
       "      <th>...</th>\n",
       "      <td>...</td>\n",
       "      <td>...</td>\n",
       "      <td>...</td>\n",
       "      <td>...</td>\n",
       "    </tr>\n",
       "    <tr>\n",
       "      <th>2018-07-15</th>\n",
       "      <td>3.820000e+10</td>\n",
       "      <td>3.700000e+09</td>\n",
       "      <td>1.380000e+10</td>\n",
       "      <td>7.600000e+09</td>\n",
       "    </tr>\n",
       "    <tr>\n",
       "      <th>2018-07-16</th>\n",
       "      <td>9.420000e+10</td>\n",
       "      <td>4.900000e+09</td>\n",
       "      <td>8.100000e+09</td>\n",
       "      <td>9.700000e+09</td>\n",
       "    </tr>\n",
       "    <tr>\n",
       "      <th>2018-07-17</th>\n",
       "      <td>1.770000e+11</td>\n",
       "      <td>9.300000e+09</td>\n",
       "      <td>6.400000e+09</td>\n",
       "      <td>1.280000e+10</td>\n",
       "    </tr>\n",
       "    <tr>\n",
       "      <th>2018-07-18</th>\n",
       "      <td>2.836000e+11</td>\n",
       "      <td>4.200000e+10</td>\n",
       "      <td>6.620000e+10</td>\n",
       "      <td>2.550000e+10</td>\n",
       "    </tr>\n",
       "    <tr>\n",
       "      <th>2018-07-19</th>\n",
       "      <td>2.321000e+11</td>\n",
       "      <td>8.600000e+09</td>\n",
       "      <td>8.700000e+09</td>\n",
       "      <td>1.340000e+10</td>\n",
       "    </tr>\n",
       "  </tbody>\n",
       "</table>\n",
       "<p>200 rows × 4 columns</p>\n",
       "</div>"
      ],
      "text/plain": [
       "                      TV         radio     newspaper         sales\n",
       "2018-01-01  2.301000e+11  3.780000e+10  6.920000e+10  2.210000e+10\n",
       "2018-01-02  4.450000e+10  3.930000e+10  4.510000e+10  1.040000e+10\n",
       "2018-01-03  1.720000e+10  4.590000e+10  6.930000e+10  9.300000e+09\n",
       "2018-01-04  1.515000e+11  4.130000e+10  5.850000e+10  1.850000e+10\n",
       "2018-01-05  1.808000e+11  1.080000e+10  5.840000e+10  1.290000e+10\n",
       "...                  ...           ...           ...           ...\n",
       "2018-07-15  3.820000e+10  3.700000e+09  1.380000e+10  7.600000e+09\n",
       "2018-07-16  9.420000e+10  4.900000e+09  8.100000e+09  9.700000e+09\n",
       "2018-07-17  1.770000e+11  9.300000e+09  6.400000e+09  1.280000e+10\n",
       "2018-07-18  2.836000e+11  4.200000e+10  6.620000e+10  2.550000e+10\n",
       "2018-07-19  2.321000e+11  8.600000e+09  8.700000e+09  1.340000e+10\n",
       "\n",
       "[200 rows x 4 columns]"
      ]
     },
     "execution_count": 14,
     "metadata": {},
     "output_type": "execute_result"
    }
   ],
   "source": [
    "df"
   ]
  },
  {
   "cell_type": "code",
   "execution_count": null,
   "metadata": {},
   "outputs": [],
   "source": []
  }
 ],
 "metadata": {
  "kernelspec": {
   "display_name": "Python 3",
   "language": "python",
   "name": "python3"
  },
  "language_info": {
   "codemirror_mode": {
    "name": "ipython",
    "version": 3
   },
   "file_extension": ".py",
   "mimetype": "text/x-python",
   "name": "python",
   "nbconvert_exporter": "python",
   "pygments_lexer": "ipython3",
   "version": "3.7.9"
  }
 },
 "nbformat": 4,
 "nbformat_minor": 2
}
