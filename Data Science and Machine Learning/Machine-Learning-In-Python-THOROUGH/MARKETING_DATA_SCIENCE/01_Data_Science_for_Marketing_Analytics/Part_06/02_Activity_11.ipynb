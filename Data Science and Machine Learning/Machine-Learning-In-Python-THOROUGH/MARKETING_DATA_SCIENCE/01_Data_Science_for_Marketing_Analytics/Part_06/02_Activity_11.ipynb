{
 "cells": [
  {
   "cell_type": "code",
   "execution_count": 1,
   "metadata": {},
   "outputs": [
    {
     "data": {
      "text/html": [
       "<div>\n",
       "<style scoped>\n",
       "    .dataframe tbody tr th:only-of-type {\n",
       "        vertical-align: middle;\n",
       "    }\n",
       "\n",
       "    .dataframe tbody tr th {\n",
       "        vertical-align: top;\n",
       "    }\n",
       "\n",
       "    .dataframe thead th {\n",
       "        text-align: right;\n",
       "    }\n",
       "</style>\n",
       "<table border=\"1\" class=\"dataframe\">\n",
       "  <thead>\n",
       "    <tr style=\"text-align: right;\">\n",
       "      <th></th>\n",
       "      <th>cur_year_spend</th>\n",
       "      <th>prev_year_spend</th>\n",
       "      <th>days_since_last_purchase</th>\n",
       "      <th>days_since_first_purchase</th>\n",
       "      <th>total_transactions</th>\n",
       "      <th>age</th>\n",
       "      <th>income</th>\n",
       "      <th>engagement_score</th>\n",
       "    </tr>\n",
       "  </thead>\n",
       "  <tbody>\n",
       "    <tr>\n",
       "      <th>0</th>\n",
       "      <td>5536.46</td>\n",
       "      <td>1681.26</td>\n",
       "      <td>7</td>\n",
       "      <td>61</td>\n",
       "      <td>34</td>\n",
       "      <td>61</td>\n",
       "      <td>97914.93</td>\n",
       "      <td>-0.652392</td>\n",
       "    </tr>\n",
       "    <tr>\n",
       "      <th>1</th>\n",
       "      <td>871.41</td>\n",
       "      <td>1366.74</td>\n",
       "      <td>12</td>\n",
       "      <td>34</td>\n",
       "      <td>33</td>\n",
       "      <td>68</td>\n",
       "      <td>30904.69</td>\n",
       "      <td>0.007327</td>\n",
       "    </tr>\n",
       "    <tr>\n",
       "      <th>2</th>\n",
       "      <td>2046.74</td>\n",
       "      <td>1419.38</td>\n",
       "      <td>10</td>\n",
       "      <td>81</td>\n",
       "      <td>22</td>\n",
       "      <td>54</td>\n",
       "      <td>48194.59</td>\n",
       "      <td>0.221666</td>\n",
       "    </tr>\n",
       "    <tr>\n",
       "      <th>3</th>\n",
       "      <td>4662.70</td>\n",
       "      <td>1561.21</td>\n",
       "      <td>12</td>\n",
       "      <td>32</td>\n",
       "      <td>34</td>\n",
       "      <td>49</td>\n",
       "      <td>93551.98</td>\n",
       "      <td>1.149641</td>\n",
       "    </tr>\n",
       "    <tr>\n",
       "      <th>4</th>\n",
       "      <td>3539.46</td>\n",
       "      <td>1397.60</td>\n",
       "      <td>17</td>\n",
       "      <td>72</td>\n",
       "      <td>34</td>\n",
       "      <td>66</td>\n",
       "      <td>66267.57</td>\n",
       "      <td>0.835834</td>\n",
       "    </tr>\n",
       "  </tbody>\n",
       "</table>\n",
       "</div>"
      ],
      "text/plain": [
       "   cur_year_spend  prev_year_spend  days_since_last_purchase  \\\n",
       "0         5536.46          1681.26                         7   \n",
       "1          871.41          1366.74                        12   \n",
       "2         2046.74          1419.38                        10   \n",
       "3         4662.70          1561.21                        12   \n",
       "4         3539.46          1397.60                        17   \n",
       "\n",
       "   days_since_first_purchase  total_transactions  age    income  \\\n",
       "0                         61                  34   61  97914.93   \n",
       "1                         34                  33   68  30904.69   \n",
       "2                         81                  22   54  48194.59   \n",
       "3                         32                  34   49  93551.98   \n",
       "4                         72                  34   66  66267.57   \n",
       "\n",
       "   engagement_score  \n",
       "0         -0.652392  \n",
       "1          0.007327  \n",
       "2          0.221666  \n",
       "3          1.149641  \n",
       "4          0.835834  "
      ]
     },
     "execution_count": 1,
     "metadata": {},
     "output_type": "execute_result"
    }
   ],
   "source": [
    "import pandas as pd\n",
    "\n",
    "df = pd.read_csv('customer_spend.csv')\n",
    "df.head()"
   ]
  },
  {
   "cell_type": "code",
   "execution_count": null,
   "metadata": {},
   "outputs": [],
   "source": [
    "from sklearn.model_selection import train_test_split\n",
    "\n",
    "cols = df.columns[1:]\n",
    "X = df[cols]\n",
    "\n",
    "y = df['cur_year_spend']\n",
    "\n",
    "X_train, X_test, y_train, y_test = train_test_split(X, y, random_state = 100)"
   ]
  },
  {
   "cell_type": "code",
   "execution_count": null,
   "metadata": {},
   "outputs": [],
   "source": [
    "from sklearn.linear_model import Lasso\n",
    "\n",
    "lasso_model = Lasso(normalize=True, random_state=10)\n",
    "lasso_model.fit(X_train,y_train)"
   ]
  },
  {
   "cell_type": "code",
   "execution_count": null,
   "metadata": {},
   "outputs": [],
   "source": [
    "coefs = lasso_model.coef_\n",
    "selected_features = cols[coefs > 0]\n",
    "selected_coefs = coefs[coefs > 0]"
   ]
  },
  {
   "cell_type": "code",
   "execution_count": null,
   "metadata": {},
   "outputs": [],
   "source": [
    "for coef, feature in zip(selected_coefs, selected_features):\n",
    "    print(feature + ' coefficient: ' + str(coef))"
   ]
  },
  {
   "cell_type": "code",
   "execution_count": null,
   "metadata": {},
   "outputs": [],
   "source": []
  }
 ],
 "metadata": {
  "kernelspec": {
   "display_name": "Python 3",
   "language": "python",
   "name": "python3"
  },
  "language_info": {
   "codemirror_mode": {
    "name": "ipython",
    "version": 3
   },
   "file_extension": ".py",
   "mimetype": "text/x-python",
   "name": "python",
   "nbconvert_exporter": "python",
   "pygments_lexer": "ipython3",
   "version": "3.7.9"
  },
  "toc": {
   "base_numbering": 1,
   "nav_menu": {},
   "number_sections": true,
   "sideBar": true,
   "skip_h1_title": false,
   "title_cell": "Table of Contents",
   "title_sidebar": "Contents",
   "toc_cell": false,
   "toc_position": {},
   "toc_section_display": true,
   "toc_window_display": false
  }
 },
 "nbformat": 4,
 "nbformat_minor": 2
}
