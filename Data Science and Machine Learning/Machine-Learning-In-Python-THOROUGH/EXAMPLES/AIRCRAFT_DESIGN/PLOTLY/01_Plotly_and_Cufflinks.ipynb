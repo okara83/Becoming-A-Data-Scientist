{
 "cells": [
  {
   "cell_type": "markdown",
   "metadata": {},
   "source": [
    "\n",
    "___\n",
    "# Plotly and Cufflinks"
   ]
  },
  {
   "cell_type": "markdown",
   "metadata": {},
   "source": [
    "Plotly is a library that allows you to create interactive plots that you can use in dashboards or websites (you can save them as html files or static images).\n",
    "\n",
    "## Installation\n",
    "\n",
    "In order for this all to work, you'll need to install plotly and cufflinks to call plots directly off of a pandas dataframe. These libraries are not currently available through **conda** but are available through **pip**. Install the libraries at your command line/terminal using:\n",
    "\n",
    "    pip install plotly\n",
    "    pip install cufflinks\n",
    "\n",
    "** NOTE: Make sure you only have one installation of Python on your computer when you do this, otherwise the installation may not work. **\n",
    "\n",
    "## Imports and Set-up"
   ]
  },
  {
   "cell_type": "code",
   "execution_count": 5,
   "metadata": {},
   "outputs": [
    {
     "name": "stdout",
     "output_type": "stream",
     "text": [
      "Requirement already satisfied: plotly in c:\\users\\turbulence\\anaconda3\\lib\\site-packages (4.14.1)\n",
      "Requirement already satisfied: six in c:\\users\\turbulence\\anaconda3\\lib\\site-packages (from plotly) (1.15.0)\n",
      "Requirement already satisfied: retrying>=1.3.3 in c:\\users\\turbulence\\anaconda3\\lib\\site-packages (from plotly) (1.3.3)\n",
      "Requirement already satisfied: six in c:\\users\\turbulence\\anaconda3\\lib\\site-packages (from plotly) (1.15.0)\n",
      "Note: you may need to restart the kernel to use updated packages.\n"
     ]
    }
   ],
   "source": [
    "#pip install plotly"
   ]
  },
  {
   "cell_type": "code",
   "execution_count": 6,
   "metadata": {},
   "outputs": [
    {
     "name": "stdout",
     "output_type": "stream",
     "text": [
      "Collecting cufflinksNote: you may need to restart the kernel to use updated packages.\n",
      "  Downloading cufflinks-0.17.3.tar.gz (81 kB)\n",
      "Requirement already satisfied: numpy>=1.9.2 in c:\\users\\turbulence\\anaconda3\\lib\\site-packages (from cufflinks) (1.19.3)\n",
      "Requirement already satisfied: pandas>=0.19.2 in c:\\users\\turbulence\\anaconda3\\lib\\site-packages (from cufflinks) (1.1.3)\n",
      "Requirement already satisfied: plotly>=4.1.1 in c:\\users\\turbulence\\anaconda3\\lib\\site-packages (from cufflinks) (4.14.1)\n",
      "Requirement already satisfied: six>=1.9.0 in c:\\users\\turbulence\\anaconda3\\lib\\site-packages (from cufflinks) (1.15.0)\n",
      "Requirement already satisfied: setuptools>=34.4.1 in c:\\users\\turbulence\\anaconda3\\lib\\site-packages (from cufflinks) (51.0.0.post20201207)\n",
      "Requirement already satisfied: ipython>=5.3.0 in c:\\users\\turbulence\\anaconda3\\lib\\site-packages (from cufflinks) (7.19.0)\n",
      "Requirement already satisfied: ipywidgets>=7.0.0 in c:\\users\\turbulence\\anaconda3\\lib\\site-packages (from cufflinks) (7.5.1)\n",
      "Collecting colorlover>=0.2.1\n",
      "  Downloading colorlover-0.3.0-py3-none-any.whl (8.9 kB)\n",
      "Requirement already satisfied: pygments in c:\\users\\turbulence\\anaconda3\\lib\\site-packages (from ipython>=5.3.0->cufflinks) (2.7.3)\n",
      "Requirement already satisfied: pickleshare in c:\\users\\turbulence\\anaconda3\\lib\\site-packages (from ipython>=5.3.0->cufflinks) (0.7.5)\n",
      "Requirement already satisfied: prompt-toolkit!=3.0.0,!=3.0.1,<3.1.0,>=2.0.0 in c:\\users\\turbulence\\anaconda3\\lib\\site-packages (from ipython>=5.3.0->cufflinks) (3.0.8)\n",
      "Requirement already satisfied: setuptools>=34.4.1 in c:\\users\\turbulence\\anaconda3\\lib\\site-packages (from cufflinks) (51.0.0.post20201207)\n",
      "Requirement already satisfied: backcall in c:\\users\\turbulence\\anaconda3\\lib\\site-packages (from ipython>=5.3.0->cufflinks) (0.2.0)\n",
      "Requirement already satisfied: colorama in c:\\users\\turbulence\\anaconda3\\lib\\site-packages (from ipython>=5.3.0->cufflinks) (0.4.4)\n",
      "Requirement already satisfied: decorator in c:\\users\\turbulence\\anaconda3\\lib\\site-packages (from ipython>=5.3.0->cufflinks) (4.4.2)\n",
      "Requirement already satisfied: traitlets>=4.2 in c:\\users\\turbulence\\anaconda3\\lib\\site-packages (from ipython>=5.3.0->cufflinks) (5.0.5)\n",
      "Requirement already satisfied: jedi>=0.10 in c:\\users\\turbulence\\anaconda3\\lib\\site-packages (from ipython>=5.3.0->cufflinks) (0.14.1)\n",
      "Requirement already satisfied: ipykernel>=4.5.1 in c:\\users\\turbulence\\anaconda3\\lib\\site-packages (from ipywidgets>=7.0.0->cufflinks) (5.3.4)\n",
      "Requirement already satisfied: widgetsnbextension~=3.5.0 in c:\\users\\turbulence\\anaconda3\\lib\\site-packages (from ipywidgets>=7.0.0->cufflinks) (3.5.1)\n",
      "Requirement already satisfied: traitlets>=4.2 in c:\\users\\turbulence\\anaconda3\\lib\\site-packages (from ipython>=5.3.0->cufflinks) (5.0.5)\n",
      "Requirement already satisfied: nbformat>=4.2.0 in c:\\users\\turbulence\\anaconda3\\lib\\site-packages (from ipywidgets>=7.0.0->cufflinks) (5.0.8)\n",
      "Requirement already satisfied: ipython>=5.3.0 in c:\\users\\turbulence\\anaconda3\\lib\\site-packages (from cufflinks) (7.19.0)\n",
      "Requirement already satisfied: traitlets>=4.2 in c:\\users\\turbulence\\anaconda3\\lib\\site-packages (from ipython>=5.3.0->cufflinks) (5.0.5)\n",
      "Requirement already satisfied: ipython>=5.3.0 in c:\\users\\turbulence\\anaconda3\\lib\\site-packages (from cufflinks) (7.19.0)\n",
      "Requirement already satisfied: tornado>=4.2 in c:\\users\\turbulence\\anaconda3\\lib\\site-packages (from ipykernel>=4.5.1->ipywidgets>=7.0.0->cufflinks) (6.1)\n",
      "Requirement already satisfied: jupyter-client in c:\\users\\turbulence\\anaconda3\\lib\\site-packages (from ipykernel>=4.5.1->ipywidgets>=7.0.0->cufflinks) (6.1.7)\n",
      "Requirement already satisfied: parso>=0.5.0 in c:\\users\\turbulence\\anaconda3\\lib\\site-packages (from jedi>=0.10->ipython>=5.3.0->cufflinks) (0.5.2)\n",
      "Requirement already satisfied: traitlets>=4.2 in c:\\users\\turbulence\\anaconda3\\lib\\site-packages (from ipython>=5.3.0->cufflinks) (5.0.5)\n",
      "Requirement already satisfied: tornado>=4.2 in c:\\users\\turbulence\\anaconda3\\lib\\site-packages (from ipykernel>=4.5.1->ipywidgets>=7.0.0->cufflinks) (6.1)\n",
      "Requirement already satisfied: pyzmq>=13 in c:\\users\\turbulence\\anaconda3\\lib\\site-packages (from jupyter-client->ipykernel>=4.5.1->ipywidgets>=7.0.0->cufflinks) (20.0.0)\n",
      "Requirement already satisfied: jupyter-core>=4.6.0 in c:\\users\\turbulence\\anaconda3\\lib\\site-packages (from jupyter-client->ipykernel>=4.5.1->ipywidgets>=7.0.0->cufflinks) (4.7.0)\n",
      "Requirement already satisfied: python-dateutil>=2.1 in c:\\users\\turbulence\\anaconda3\\lib\\site-packages (from jupyter-client->ipykernel>=4.5.1->ipywidgets>=7.0.0->cufflinks) (2.8.1)\n",
      "Requirement already satisfied: traitlets>=4.2 in c:\\users\\turbulence\\anaconda3\\lib\\site-packages (from ipython>=5.3.0->cufflinks) (5.0.5)\n",
      "Requirement already satisfied: pywin32>=1.0 in c:\\users\\turbulence\\anaconda3\\lib\\site-packages (from jupyter-core>=4.6.0->jupyter-client->ipykernel>=4.5.1->ipywidgets>=7.0.0->cufflinks) (227)\n",
      "Requirement already satisfied: traitlets>=4.2 in c:\\users\\turbulence\\anaconda3\\lib\\site-packages (from ipython>=5.3.0->cufflinks) (5.0.5)\n",
      "Requirement already satisfied: ipython-genutils in c:\\users\\turbulence\\anaconda3\\lib\\site-packages (from nbformat>=4.2.0->ipywidgets>=7.0.0->cufflinks) (0.2.0)\n",
      "Requirement already satisfied: jupyter-core>=4.6.0 in c:\\users\\turbulence\\anaconda3\\lib\\site-packages (from jupyter-client->ipykernel>=4.5.1->ipywidgets>=7.0.0->cufflinks) (4.7.0)\n",
      "Requirement already satisfied: jsonschema!=2.5.0,>=2.4 in c:\\users\\turbulence\\anaconda3\\lib\\site-packages (from nbformat>=4.2.0->ipywidgets>=7.0.0->cufflinks) (3.2.0)\n",
      "Requirement already satisfied: attrs>=17.4.0 in c:\\users\\turbulence\\anaconda3\\lib\\site-packages (from jsonschema!=2.5.0,>=2.4->nbformat>=4.2.0->ipywidgets>=7.0.0->cufflinks) (20.3.0)\n",
      "Requirement already satisfied: setuptools>=34.4.1 in c:\\users\\turbulence\\anaconda3\\lib\\site-packages (from cufflinks) (51.0.0.post20201207)\n",
      "Requirement already satisfied: pyrsistent>=0.14.0 in c:\\users\\turbulence\\anaconda3\\lib\\site-packages (from jsonschema!=2.5.0,>=2.4->nbformat>=4.2.0->ipywidgets>=7.0.0->cufflinks) (0.17.3)\n",
      "Requirement already satisfied: importlib-metadata in c:\\users\\turbulence\\anaconda3\\lib\\site-packages (from jsonschema!=2.5.0,>=2.4->nbformat>=4.2.0->ipywidgets>=7.0.0->cufflinks) (2.0.0)\n",
      "Requirement already satisfied: six>=1.9.0 in c:\\users\\turbulence\\anaconda3\\lib\\site-packages (from cufflinks) (1.15.0)\n",
      "Requirement already satisfied: zipp>=0.5 in c:\\users\\turbulence\\anaconda3\\lib\\site-packages (from importlib-metadata->jsonschema!=2.5.0,>=2.4->nbformat>=4.2.0->ipywidgets>=7.0.0->cufflinks) (3.4.0)\n",
      "Requirement already satisfied: pytz>=2017.2 in c:\\users\\turbulence\\anaconda3\\lib\\site-packages (from pandas>=0.19.2->cufflinks) (2020.4)\n",
      "Requirement already satisfied: python-dateutil>=2.1 in c:\\users\\turbulence\\anaconda3\\lib\\site-packages (from jupyter-client->ipykernel>=4.5.1->ipywidgets>=7.0.0->cufflinks) (2.8.1)\n",
      "Requirement already satisfied: numpy>=1.9.2 in c:\\users\\turbulence\\anaconda3\\lib\\site-packages (from cufflinks) (1.19.3)\n",
      "Requirement already satisfied: retrying>=1.3.3 in c:\\users\\turbulence\\anaconda3\\lib\\site-packages (from plotly>=4.1.1->cufflinks) (1.3.3)\n",
      "Requirement already satisfied: six>=1.9.0 in c:\\users\\turbulence\\anaconda3\\lib\\site-packages (from cufflinks) (1.15.0)\n",
      "Requirement already satisfied: wcwidth in c:\\users\\turbulence\\anaconda3\\lib\\site-packages (from prompt-toolkit!=3.0.0,!=3.0.1,<3.1.0,>=2.0.0->ipython>=5.3.0->cufflinks) (0.2.5)\n",
      "Requirement already satisfied: six>=1.9.0 in c:\\users\\turbulence\\anaconda3\\lib\\site-packages (from cufflinks) (1.15.0)\n",
      "Requirement already satisfied: six>=1.9.0 in c:\\users\\turbulence\\anaconda3\\lib\\site-packages (from cufflinks) (1.15.0)\n",
      "Requirement already satisfied: ipython-genutils in c:\\users\\turbulence\\anaconda3\\lib\\site-packages (from nbformat>=4.2.0->ipywidgets>=7.0.0->cufflinks) (0.2.0)\n",
      "Requirement already satisfied: notebook>=4.4.1 in c:\\users\\turbulence\\anaconda3\\lib\\site-packages (from widgetsnbextension~=3.5.0->ipywidgets>=7.0.0->cufflinks) (6.1.4)\n",
      "Requirement already satisfied: pyzmq>=13 in c:\\users\\turbulence\\anaconda3\\lib\\site-packages (from jupyter-client->ipykernel>=4.5.1->ipywidgets>=7.0.0->cufflinks) (20.0.0)\n",
      "Requirement already satisfied: jinja2 in c:\\users\\turbulence\\anaconda3\\lib\\site-packages (from notebook>=4.4.1->widgetsnbextension~=3.5.0->ipywidgets>=7.0.0->cufflinks) (2.11.2)\n",
      "Requirement already satisfied: terminado>=0.8.3 in c:\\users\\turbulence\\anaconda3\\lib\\site-packages (from notebook>=4.4.1->widgetsnbextension~=3.5.0->ipywidgets>=7.0.0->cufflinks) (0.9.1)\n",
      "Requirement already satisfied: tornado>=4.2 in c:\\users\\turbulence\\anaconda3\\lib\\site-packages (from ipykernel>=4.5.1->ipywidgets>=7.0.0->cufflinks) (6.1)\n",
      "Requirement already satisfied: traitlets>=4.2 in c:\\users\\turbulence\\anaconda3\\lib\\site-packages (from ipython>=5.3.0->cufflinks) (5.0.5)\n",
      "Requirement already satisfied: Send2Trash in c:\\users\\turbulence\\anaconda3\\lib\\site-packages (from notebook>=4.4.1->widgetsnbextension~=3.5.0->ipywidgets>=7.0.0->cufflinks) (1.5.0)\n",
      "Requirement already satisfied: jupyter-core>=4.6.0 in c:\\users\\turbulence\\anaconda3\\lib\\site-packages (from jupyter-client->ipykernel>=4.5.1->ipywidgets>=7.0.0->cufflinks) (4.7.0)\n",
      "Requirement already satisfied: nbconvert in c:\\users\\turbulence\\anaconda3\\lib\\site-packages (from notebook>=4.4.1->widgetsnbextension~=3.5.0->ipywidgets>=7.0.0->cufflinks) (6.0.7)\n",
      "Requirement already satisfied: argon2-cffi in c:\\users\\turbulence\\anaconda3\\lib\\site-packages (from notebook>=4.4.1->widgetsnbextension~=3.5.0->ipywidgets>=7.0.0->cufflinks) (20.1.0)\n",
      "Requirement already satisfied: ipykernel>=4.5.1 in c:\\users\\turbulence\\anaconda3\\lib\\site-packages (from ipywidgets>=7.0.0->cufflinks) (5.3.4)\n",
      "Requirement already satisfied: prometheus-client in c:\\users\\turbulence\\anaconda3\\lib\\site-packages (from notebook>=4.4.1->widgetsnbextension~=3.5.0->ipywidgets>=7.0.0->cufflinks) (0.9.0)\n",
      "Requirement already satisfied: ipython-genutils in c:\\users\\turbulence\\anaconda3\\lib\\site-packages (from nbformat>=4.2.0->ipywidgets>=7.0.0->cufflinks) (0.2.0)\n",
      "Requirement already satisfied: nbformat>=4.2.0 in c:\\users\\turbulence\\anaconda3\\lib\\site-packages (from ipywidgets>=7.0.0->cufflinks) (5.0.8)\n",
      "Requirement already satisfied: jupyter-client in c:\\users\\turbulence\\anaconda3\\lib\\site-packages (from ipykernel>=4.5.1->ipywidgets>=7.0.0->cufflinks) (6.1.7)\n",
      "Requirement already satisfied: cffi>=1.0.0 in c:\\users\\turbulence\\anaconda3\\lib\\site-packages (from argon2-cffi->notebook>=4.4.1->widgetsnbextension~=3.5.0->ipywidgets>=7.0.0->cufflinks) (1.14.4)\n",
      "\n"
     ]
    },
    {
     "name": "stdout",
     "output_type": "stream",
     "text": [
      "Requirement already satisfied: six>=1.9.0 in c:\\users\\turbulence\\anaconda3\\lib\\site-packages (from cufflinks) (1.15.0)\n",
      "Requirement already satisfied: pycparser in c:\\users\\turbulence\\anaconda3\\lib\\site-packages (from cffi>=1.0.0->argon2-cffi->notebook>=4.4.1->widgetsnbextension~=3.5.0->ipywidgets>=7.0.0->cufflinks) (2.20)\n",
      "Requirement already satisfied: MarkupSafe>=0.23 in c:\\users\\turbulence\\anaconda3\\lib\\site-packages (from jinja2->notebook>=4.4.1->widgetsnbextension~=3.5.0->ipywidgets>=7.0.0->cufflinks) (1.1.1)\n",
      "Requirement already satisfied: jupyter-core>=4.6.0 in c:\\users\\turbulence\\anaconda3\\lib\\site-packages (from jupyter-client->ipykernel>=4.5.1->ipywidgets>=7.0.0->cufflinks) (4.7.0)\n",
      "Requirement already satisfied: entrypoints>=0.2.2 in c:\\users\\turbulence\\anaconda3\\lib\\site-packages (from nbconvert->notebook>=4.4.1->widgetsnbextension~=3.5.0->ipywidgets>=7.0.0->cufflinks) (0.3)\n",
      "Requirement already satisfied: pygments in c:\\users\\turbulence\\anaconda3\\lib\\site-packages (from ipython>=5.3.0->cufflinks) (2.7.3)\n",
      "Requirement already satisfied: defusedxml in c:\\users\\turbulence\\anaconda3\\lib\\site-packages (from nbconvert->notebook>=4.4.1->widgetsnbextension~=3.5.0->ipywidgets>=7.0.0->cufflinks) (0.6.0)\n",
      "Requirement already satisfied: bleach in c:\\users\\turbulence\\anaconda3\\lib\\site-packages (from nbconvert->notebook>=4.4.1->widgetsnbextension~=3.5.0->ipywidgets>=7.0.0->cufflinks) (3.2.1)\n",
      "Requirement already satisfied: traitlets>=4.2 in c:\\users\\turbulence\\anaconda3\\lib\\site-packages (from ipython>=5.3.0->cufflinks) (5.0.5)\n",
      "Requirement already satisfied: jupyterlab-pygments in c:\\users\\turbulence\\anaconda3\\lib\\site-packages (from nbconvert->notebook>=4.4.1->widgetsnbextension~=3.5.0->ipywidgets>=7.0.0->cufflinks) (0.1.2)\n",
      "Requirement already satisfied: nbclient<0.6.0,>=0.5.0 in c:\\users\\turbulence\\anaconda3\\lib\\site-packages (from nbconvert->notebook>=4.4.1->widgetsnbextension~=3.5.0->ipywidgets>=7.0.0->cufflinks) (0.5.1)\n",
      "Requirement already satisfied: jinja2 in c:\\users\\turbulence\\anaconda3\\lib\\site-packages (from notebook>=4.4.1->widgetsnbextension~=3.5.0->ipywidgets>=7.0.0->cufflinks) (2.11.2)\n",
      "Requirement already satisfied: mistune<2,>=0.8.1 in c:\\users\\turbulence\\anaconda3\\lib\\site-packages (from nbconvert->notebook>=4.4.1->widgetsnbextension~=3.5.0->ipywidgets>=7.0.0->cufflinks) (0.8.4)\n",
      "Requirement already satisfied: pandocfilters>=1.4.1 in c:\\users\\turbulence\\anaconda3\\lib\\site-packages (from nbconvert->notebook>=4.4.1->widgetsnbextension~=3.5.0->ipywidgets>=7.0.0->cufflinks) (1.4.3)\n",
      "Requirement already satisfied: testpath in c:\\users\\turbulence\\anaconda3\\lib\\site-packages (from nbconvert->notebook>=4.4.1->widgetsnbextension~=3.5.0->ipywidgets>=7.0.0->cufflinks) (0.4.4)\n",
      "Requirement already satisfied: nbformat>=4.2.0 in c:\\users\\turbulence\\anaconda3\\lib\\site-packages (from ipywidgets>=7.0.0->cufflinks) (5.0.8)\n",
      "Requirement already satisfied: packaging in c:\\users\\turbulence\\anaconda3\\lib\\site-packages (from bleach->nbconvert->notebook>=4.4.1->widgetsnbextension~=3.5.0->ipywidgets>=7.0.0->cufflinks) (20.7)\n",
      "Requirement already satisfied: webencodings in c:\\users\\turbulence\\anaconda3\\lib\\site-packages (from bleach->nbconvert->notebook>=4.4.1->widgetsnbextension~=3.5.0->ipywidgets>=7.0.0->cufflinks) (0.5.1)\n",
      "Requirement already satisfied: six>=1.9.0 in c:\\users\\turbulence\\anaconda3\\lib\\site-packages (from cufflinks) (1.15.0)\n",
      "Requirement already satisfied: pygments in c:\\users\\turbulence\\anaconda3\\lib\\site-packages (from ipython>=5.3.0->cufflinks) (2.7.3)\n",
      "Requirement already satisfied: nest-asyncio in c:\\users\\turbulence\\anaconda3\\lib\\site-packages (from nbclient<0.6.0,>=0.5.0->nbconvert->notebook>=4.4.1->widgetsnbextension~=3.5.0->ipywidgets>=7.0.0->cufflinks) (1.4.3)\n",
      "Requirement already satisfied: jupyter-client in c:\\users\\turbulence\\anaconda3\\lib\\site-packages (from ipykernel>=4.5.1->ipywidgets>=7.0.0->cufflinks) (6.1.7)\n",
      "Requirement already satisfied: nbformat>=4.2.0 in c:\\users\\turbulence\\anaconda3\\lib\\site-packages (from ipywidgets>=7.0.0->cufflinks) (5.0.8)\n",
      "Requirement already satisfied: async-generator in c:\\users\\turbulence\\anaconda3\\lib\\site-packages (from nbclient<0.6.0,>=0.5.0->nbconvert->notebook>=4.4.1->widgetsnbextension~=3.5.0->ipywidgets>=7.0.0->cufflinks) (1.10)\n",
      "Requirement already satisfied: traitlets>=4.2 in c:\\users\\turbulence\\anaconda3\\lib\\site-packages (from ipython>=5.3.0->cufflinks) (5.0.5)\n",
      "Requirement already satisfied: pyparsing>=2.0.2 in c:\\users\\turbulence\\anaconda3\\lib\\site-packages (from packaging->bleach->nbconvert->notebook>=4.4.1->widgetsnbextension~=3.5.0->ipywidgets>=7.0.0->cufflinks) (2.4.7)\n",
      "Requirement already satisfied: tornado>=4.2 in c:\\users\\turbulence\\anaconda3\\lib\\site-packages (from ipykernel>=4.5.1->ipywidgets>=7.0.0->cufflinks) (6.1)\n",
      "Requirement already satisfied: pywinpty>=0.5 in c:\\users\\turbulence\\anaconda3\\lib\\site-packages (from terminado>=0.8.3->notebook>=4.4.1->widgetsnbextension~=3.5.0->ipywidgets>=7.0.0->cufflinks) (0.5.7)\n",
      "Building wheels for collected packages: cufflinks\n",
      "  Building wheel for cufflinks (setup.py): started\n",
      "  Building wheel for cufflinks (setup.py): finished with status 'done'\n",
      "  Created wheel for cufflinks: filename=cufflinks-0.17.3-py3-none-any.whl size=68722 sha256=a715544ebe6d7d5c123f8769010ec65d3e22f0ea869ea7b0825799d00f75a1b3\n",
      "  Stored in directory: c:\\users\\turbulence\\appdata\\local\\pip\\cache\\wheels\\e1\\27\\13\\3fe67fa7ea7be444b831d117220b3b586b872c9acd4df480d0\n",
      "Successfully built cufflinks\n",
      "Installing collected packages: colorlover, cufflinks\n",
      "Successfully installed colorlover-0.3.0 cufflinks-0.17.3\n"
     ]
    }
   ],
   "source": [
    "#pip install cufflinks"
   ]
  },
  {
   "cell_type": "code",
   "execution_count": 25,
   "metadata": {},
   "outputs": [],
   "source": [
    "import pandas as pd\n",
    "import numpy as np\n",
    "%matplotlib inline\n",
    "\n",
    "import warnings\n",
    "warnings.filterwarnings(\"ignore\")"
   ]
  },
  {
   "cell_type": "code",
   "execution_count": 26,
   "metadata": {},
   "outputs": [
    {
     "name": "stdout",
     "output_type": "stream",
     "text": [
      "4.14.1\n"
     ]
    }
   ],
   "source": [
    "from plotly import __version__\n",
    "from plotly.offline import download_plotlyjs, init_notebook_mode, plot, iplot\n",
    "\n",
    "print(__version__) # requires version >= 1.9.0"
   ]
  },
  {
   "cell_type": "code",
   "execution_count": 27,
   "metadata": {},
   "outputs": [],
   "source": [
    "import cufflinks as cf"
   ]
  },
  {
   "cell_type": "code",
   "execution_count": 28,
   "metadata": {},
   "outputs": [
    {
     "data": {
      "text/html": [
       "        <script type=\"text/javascript\">\n",
       "        window.PlotlyConfig = {MathJaxConfig: 'local'};\n",
       "        if (window.MathJax) {MathJax.Hub.Config({SVG: {font: \"STIX-Web\"}});}\n",
       "        if (typeof require !== 'undefined') {\n",
       "        require.undef(\"plotly\");\n",
       "        requirejs.config({\n",
       "            paths: {\n",
       "                'plotly': ['https://cdn.plot.ly/plotly-latest.min']\n",
       "            }\n",
       "        });\n",
       "        require(['plotly'], function(Plotly) {\n",
       "            window._Plotly = Plotly;\n",
       "        });\n",
       "        }\n",
       "        </script>\n",
       "        "
      ]
     },
     "metadata": {},
     "output_type": "display_data"
    }
   ],
   "source": [
    "# For Notebooks\n",
    "init_notebook_mode(connected=True)"
   ]
  },
  {
   "cell_type": "code",
   "execution_count": 29,
   "metadata": {},
   "outputs": [
    {
     "data": {
      "text/html": [
       "        <script type=\"text/javascript\">\n",
       "        window.PlotlyConfig = {MathJaxConfig: 'local'};\n",
       "        if (window.MathJax) {MathJax.Hub.Config({SVG: {font: \"STIX-Web\"}});}\n",
       "        if (typeof require !== 'undefined') {\n",
       "        require.undef(\"plotly\");\n",
       "        requirejs.config({\n",
       "            paths: {\n",
       "                'plotly': ['https://cdn.plot.ly/plotly-latest.min']\n",
       "            }\n",
       "        });\n",
       "        require(['plotly'], function(Plotly) {\n",
       "            window._Plotly = Plotly;\n",
       "        });\n",
       "        }\n",
       "        </script>\n",
       "        "
      ]
     },
     "metadata": {},
     "output_type": "display_data"
    }
   ],
   "source": [
    "# For offline use\n",
    "cf.go_offline()"
   ]
  },
  {
   "cell_type": "markdown",
   "metadata": {},
   "source": [
    "### Fake Data"
   ]
  },
  {
   "cell_type": "code",
   "execution_count": 30,
   "metadata": {},
   "outputs": [],
   "source": [
    "df = pd.DataFrame(np.random.randn(100,4),columns='A B C D'.split())"
   ]
  },
  {
   "cell_type": "code",
   "execution_count": 31,
   "metadata": {},
   "outputs": [
    {
     "data": {
      "text/html": [
       "<div>\n",
       "<style scoped>\n",
       "    .dataframe tbody tr th:only-of-type {\n",
       "        vertical-align: middle;\n",
       "    }\n",
       "\n",
       "    .dataframe tbody tr th {\n",
       "        vertical-align: top;\n",
       "    }\n",
       "\n",
       "    .dataframe thead th {\n",
       "        text-align: right;\n",
       "    }\n",
       "</style>\n",
       "<table border=\"1\" class=\"dataframe\">\n",
       "  <thead>\n",
       "    <tr style=\"text-align: right;\">\n",
       "      <th></th>\n",
       "      <th>A</th>\n",
       "      <th>B</th>\n",
       "      <th>C</th>\n",
       "      <th>D</th>\n",
       "    </tr>\n",
       "  </thead>\n",
       "  <tbody>\n",
       "    <tr>\n",
       "      <th>0</th>\n",
       "      <td>0.555924</td>\n",
       "      <td>0.229031</td>\n",
       "      <td>0.462965</td>\n",
       "      <td>0.956634</td>\n",
       "    </tr>\n",
       "    <tr>\n",
       "      <th>1</th>\n",
       "      <td>0.165312</td>\n",
       "      <td>-1.043884</td>\n",
       "      <td>1.243214</td>\n",
       "      <td>0.975227</td>\n",
       "    </tr>\n",
       "    <tr>\n",
       "      <th>2</th>\n",
       "      <td>-0.810110</td>\n",
       "      <td>-0.439953</td>\n",
       "      <td>0.809950</td>\n",
       "      <td>0.254712</td>\n",
       "    </tr>\n",
       "    <tr>\n",
       "      <th>3</th>\n",
       "      <td>-1.397432</td>\n",
       "      <td>-0.463338</td>\n",
       "      <td>0.138248</td>\n",
       "      <td>-1.015822</td>\n",
       "    </tr>\n",
       "    <tr>\n",
       "      <th>4</th>\n",
       "      <td>1.613617</td>\n",
       "      <td>-1.565488</td>\n",
       "      <td>-0.515403</td>\n",
       "      <td>-0.792465</td>\n",
       "    </tr>\n",
       "  </tbody>\n",
       "</table>\n",
       "</div>"
      ],
      "text/plain": [
       "          A         B         C         D\n",
       "0  0.555924  0.229031  0.462965  0.956634\n",
       "1  0.165312 -1.043884  1.243214  0.975227\n",
       "2 -0.810110 -0.439953  0.809950  0.254712\n",
       "3 -1.397432 -0.463338  0.138248 -1.015822\n",
       "4  1.613617 -1.565488 -0.515403 -0.792465"
      ]
     },
     "execution_count": 31,
     "metadata": {},
     "output_type": "execute_result"
    }
   ],
   "source": [
    "df.head()"
   ]
  },
  {
   "cell_type": "code",
   "execution_count": 32,
   "metadata": {},
   "outputs": [],
   "source": [
    "df2 = pd.DataFrame({'Category':['A','B','C'],'Values':[32,43,50]})"
   ]
  },
  {
   "cell_type": "code",
   "execution_count": 33,
   "metadata": {},
   "outputs": [
    {
     "data": {
      "text/html": [
       "<div>\n",
       "<style scoped>\n",
       "    .dataframe tbody tr th:only-of-type {\n",
       "        vertical-align: middle;\n",
       "    }\n",
       "\n",
       "    .dataframe tbody tr th {\n",
       "        vertical-align: top;\n",
       "    }\n",
       "\n",
       "    .dataframe thead th {\n",
       "        text-align: right;\n",
       "    }\n",
       "</style>\n",
       "<table border=\"1\" class=\"dataframe\">\n",
       "  <thead>\n",
       "    <tr style=\"text-align: right;\">\n",
       "      <th></th>\n",
       "      <th>Category</th>\n",
       "      <th>Values</th>\n",
       "    </tr>\n",
       "  </thead>\n",
       "  <tbody>\n",
       "    <tr>\n",
       "      <th>0</th>\n",
       "      <td>A</td>\n",
       "      <td>32</td>\n",
       "    </tr>\n",
       "    <tr>\n",
       "      <th>1</th>\n",
       "      <td>B</td>\n",
       "      <td>43</td>\n",
       "    </tr>\n",
       "    <tr>\n",
       "      <th>2</th>\n",
       "      <td>C</td>\n",
       "      <td>50</td>\n",
       "    </tr>\n",
       "  </tbody>\n",
       "</table>\n",
       "</div>"
      ],
      "text/plain": [
       "  Category  Values\n",
       "0        A      32\n",
       "1        B      43\n",
       "2        C      50"
      ]
     },
     "execution_count": 33,
     "metadata": {},
     "output_type": "execute_result"
    }
   ],
   "source": [
    "df2.head()"
   ]
  },
  {
   "cell_type": "markdown",
   "metadata": {},
   "source": [
    "## Using Cufflinks and iplot()\n",
    "\n",
    "* scatter\n",
    "* bar\n",
    "* box\n",
    "* spread\n",
    "* ratio\n",
    "* heatmap\n",
    "* surface\n",
    "* histogram\n",
    "* bubble"
   ]
  },
  {
   "cell_type": "markdown",
   "metadata": {},
   "source": [
    "## Scatter"
   ]
  },
  {
   "cell_type": "code",
   "execution_count": 34,
   "metadata": {},
   "outputs": [
    {
     "data": {
      "application/vnd.plotly.v1+json": {
       "config": {
        "linkText": "Export to plot.ly",
        "plotlyServerURL": "https://plot.ly",
        "showLink": true
       },
       "data": [
        {
         "line": {
          "color": "rgba(255, 153, 51, 1.0)",
          "dash": "solid",
          "shape": "linear",
          "width": 1.3
         },
         "marker": {
          "size": 10,
          "symbol": "circle"
         },
         "mode": "markers",
         "name": "B",
         "text": "",
         "type": "scatter",
         "x": [
          0.5559244215996016,
          0.16531247499681323,
          -0.8101100169139632,
          -1.3974320065743162,
          1.6136174804983556,
          -0.3211925649236798,
          -0.3708134451358885,
          0.7768683958236318,
          0.9185436802928186,
          1.2762372604361978,
          0.4127563834151255,
          -0.9193064276735416,
          -1.5395019336205855,
          -0.5305376223271864,
          -0.9903403728567307,
          0.14647506819357678,
          -0.1763519726139724,
          0.36008109401573163,
          -0.3176404768055409,
          -0.19412325558431157,
          -0.0904221223832305,
          -0.5945023504586406,
          -0.03895869264617371,
          0.5901436910604915,
          -0.7996642304747691,
          1.0301076261885471,
          0.9621354965051399,
          0.30578234381497704,
          -0.724902498511663,
          -0.21758223505728244,
          0.32225672399278027,
          0.16816746481521705,
          -0.3052736668837778,
          -0.3751381721108554,
          0.827811394916156,
          -1.1823153331521996,
          0.05309296545930296,
          0.7949550338463784,
          0.009844956835440979,
          -0.421073670238091,
          -0.9065419444857088,
          0.5772849324123647,
          -2.0877670198322047,
          1.3868161621120656,
          -0.702588197611849,
          0.162538412371124,
          -0.003047648967196274,
          0.18507428698394549,
          -0.2390219605970498,
          0.07847295052663021,
          -0.246121472387244,
          0.7798289383401936,
          1.4968068545020095,
          -0.7877805920356816,
          -1.126634990257943,
          0.11719360333798196,
          -1.5602947784857861,
          1.298860409475295,
          -1.8056312905844059,
          1.1832197109271312,
          1.4331767165642602,
          -0.2911593460243957,
          0.1574901335703895,
          0.06854985942307727,
          1.4231140740707144,
          -2.04463937159396,
          -1.8251943251991503,
          0.14962534578078765,
          0.0813071065438157,
          -1.0863368122861674,
          0.9565864600231273,
          0.6642827660389123,
          -1.4831517966951513,
          -0.39828961293614407,
          0.22927634606915795,
          0.22238917753957502,
          0.7686846529091509,
          1.47119939628487,
          -1.556400814871271,
          -2.735284320598148,
          0.07069490963218183,
          0.23495848143046277,
          1.9148595400160937,
          0.6174926889282726,
          -1.4203144589579582,
          1.1619629955318764,
          -0.5601347720040485,
          -0.6703767522970148,
          0.17875077451214946,
          0.08181724511550104,
          -0.3519235217399932,
          1.3203913019856222,
          1.8460431102673394,
          -0.14262827208374368,
          0.6250080835386731,
          1.9614289138545555,
          0.4434327783663857,
          1.6393596269936033,
          1.530107027081265,
          1.6215780684288195
         ],
         "y": [
          0.22903146892060294,
          -1.0438839554806172,
          -0.4399526952827415,
          -0.4633382480861902,
          -1.5654877913797267,
          1.2377698503523018,
          -0.007528301571093346,
          -0.7821574542974872,
          0.1932979535681084,
          0.16383400694923386,
          -0.10457958055017953,
          -0.5483224720829957,
          0.3901467033850892,
          0.8733391491473266,
          -1.8148002875494058,
          -0.0759623941349184,
          -1.5726465344150269,
          -0.6082787903749993,
          0.3214224546316616,
          0.4511156558335474,
          -0.2819159475893012,
          -0.03168586915965763,
          0.4153575859846248,
          -0.8519307093778403,
          -0.18818870118555994,
          -1.4230368693782596,
          -1.1061437380428527,
          -0.4788898790879405,
          -0.30961021649646114,
          0.826955287725046,
          1.2056289154607636,
          -0.70084903580063,
          0.8209283555060617,
          -0.5298851830413455,
          0.1451874152781941,
          -1.5865763699281297,
          1.6520160207008723,
          -0.6106005545270637,
          -0.4657338792251926,
          -1.613208567945061,
          -0.3358265022436321,
          -0.19539723810652976,
          -0.10857198778945001,
          -0.5686738836571239,
          0.026700284464226395,
          0.060562223568401255,
          -1.322550194123688,
          -1.1478889418544014,
          -0.6747492167943674,
          1.4978851912884552,
          -0.8144161797427335,
          -0.6614153305732594,
          -1.9119357727283888,
          -1.164014883430049,
          0.5595234352487303,
          0.108328681661955,
          -0.9706109249546176,
          0.47099451136202414,
          0.9089019866312754,
          -0.4955207283130792,
          -1.125571044511677,
          -1.259705874458263,
          0.9499971437675632,
          -1.0807709308166202,
          0.3365070500166459,
          1.2321842350594938,
          -1.4903302832650034,
          0.3514723761902005,
          0.08623718249227429,
          -0.20931093736104614,
          -0.9741715973174373,
          -0.5308998848264274,
          -2.410083026327852,
          -0.1899938700628958,
          1.7683431358180248,
          -0.47597742609579835,
          -0.0013692778474197807,
          -3.381411728787464,
          0.2096704289056021,
          0.017403841169861784,
          0.40583638946018025,
          -0.6750001314794015,
          0.15150861459613177,
          0.17204801196444056,
          1.2690154822774866,
          -2.289782485465693,
          -0.12230747952833376,
          -1.2401555231539811,
          0.6775438389699542,
          0.748663635094293,
          -1.0291210942321232,
          0.11491042839811323,
          0.6149875024612116,
          -0.6752388716699234,
          -1.0210089048464344,
          -1.306395759730055,
          -0.8897696845214655,
          1.9783178499112062,
          0.7937356305287727,
          -0.30826255509155437
         ]
        }
       ],
       "layout": {
        "legend": {
         "bgcolor": "#F5F6F9",
         "font": {
          "color": "#4D5663"
         }
        },
        "paper_bgcolor": "#F5F6F9",
        "plot_bgcolor": "#F5F6F9",
        "template": {
         "data": {
          "bar": [
           {
            "error_x": {
             "color": "#2a3f5f"
            },
            "error_y": {
             "color": "#2a3f5f"
            },
            "marker": {
             "line": {
              "color": "#E5ECF6",
              "width": 0.5
             }
            },
            "type": "bar"
           }
          ],
          "barpolar": [
           {
            "marker": {
             "line": {
              "color": "#E5ECF6",
              "width": 0.5
             }
            },
            "type": "barpolar"
           }
          ],
          "carpet": [
           {
            "aaxis": {
             "endlinecolor": "#2a3f5f",
             "gridcolor": "white",
             "linecolor": "white",
             "minorgridcolor": "white",
             "startlinecolor": "#2a3f5f"
            },
            "baxis": {
             "endlinecolor": "#2a3f5f",
             "gridcolor": "white",
             "linecolor": "white",
             "minorgridcolor": "white",
             "startlinecolor": "#2a3f5f"
            },
            "type": "carpet"
           }
          ],
          "choropleth": [
           {
            "colorbar": {
             "outlinewidth": 0,
             "ticks": ""
            },
            "type": "choropleth"
           }
          ],
          "contour": [
           {
            "colorbar": {
             "outlinewidth": 0,
             "ticks": ""
            },
            "colorscale": [
             [
              0,
              "#0d0887"
             ],
             [
              0.1111111111111111,
              "#46039f"
             ],
             [
              0.2222222222222222,
              "#7201a8"
             ],
             [
              0.3333333333333333,
              "#9c179e"
             ],
             [
              0.4444444444444444,
              "#bd3786"
             ],
             [
              0.5555555555555556,
              "#d8576b"
             ],
             [
              0.6666666666666666,
              "#ed7953"
             ],
             [
              0.7777777777777778,
              "#fb9f3a"
             ],
             [
              0.8888888888888888,
              "#fdca26"
             ],
             [
              1,
              "#f0f921"
             ]
            ],
            "type": "contour"
           }
          ],
          "contourcarpet": [
           {
            "colorbar": {
             "outlinewidth": 0,
             "ticks": ""
            },
            "type": "contourcarpet"
           }
          ],
          "heatmap": [
           {
            "colorbar": {
             "outlinewidth": 0,
             "ticks": ""
            },
            "colorscale": [
             [
              0,
              "#0d0887"
             ],
             [
              0.1111111111111111,
              "#46039f"
             ],
             [
              0.2222222222222222,
              "#7201a8"
             ],
             [
              0.3333333333333333,
              "#9c179e"
             ],
             [
              0.4444444444444444,
              "#bd3786"
             ],
             [
              0.5555555555555556,
              "#d8576b"
             ],
             [
              0.6666666666666666,
              "#ed7953"
             ],
             [
              0.7777777777777778,
              "#fb9f3a"
             ],
             [
              0.8888888888888888,
              "#fdca26"
             ],
             [
              1,
              "#f0f921"
             ]
            ],
            "type": "heatmap"
           }
          ],
          "heatmapgl": [
           {
            "colorbar": {
             "outlinewidth": 0,
             "ticks": ""
            },
            "colorscale": [
             [
              0,
              "#0d0887"
             ],
             [
              0.1111111111111111,
              "#46039f"
             ],
             [
              0.2222222222222222,
              "#7201a8"
             ],
             [
              0.3333333333333333,
              "#9c179e"
             ],
             [
              0.4444444444444444,
              "#bd3786"
             ],
             [
              0.5555555555555556,
              "#d8576b"
             ],
             [
              0.6666666666666666,
              "#ed7953"
             ],
             [
              0.7777777777777778,
              "#fb9f3a"
             ],
             [
              0.8888888888888888,
              "#fdca26"
             ],
             [
              1,
              "#f0f921"
             ]
            ],
            "type": "heatmapgl"
           }
          ],
          "histogram": [
           {
            "marker": {
             "colorbar": {
              "outlinewidth": 0,
              "ticks": ""
             }
            },
            "type": "histogram"
           }
          ],
          "histogram2d": [
           {
            "colorbar": {
             "outlinewidth": 0,
             "ticks": ""
            },
            "colorscale": [
             [
              0,
              "#0d0887"
             ],
             [
              0.1111111111111111,
              "#46039f"
             ],
             [
              0.2222222222222222,
              "#7201a8"
             ],
             [
              0.3333333333333333,
              "#9c179e"
             ],
             [
              0.4444444444444444,
              "#bd3786"
             ],
             [
              0.5555555555555556,
              "#d8576b"
             ],
             [
              0.6666666666666666,
              "#ed7953"
             ],
             [
              0.7777777777777778,
              "#fb9f3a"
             ],
             [
              0.8888888888888888,
              "#fdca26"
             ],
             [
              1,
              "#f0f921"
             ]
            ],
            "type": "histogram2d"
           }
          ],
          "histogram2dcontour": [
           {
            "colorbar": {
             "outlinewidth": 0,
             "ticks": ""
            },
            "colorscale": [
             [
              0,
              "#0d0887"
             ],
             [
              0.1111111111111111,
              "#46039f"
             ],
             [
              0.2222222222222222,
              "#7201a8"
             ],
             [
              0.3333333333333333,
              "#9c179e"
             ],
             [
              0.4444444444444444,
              "#bd3786"
             ],
             [
              0.5555555555555556,
              "#d8576b"
             ],
             [
              0.6666666666666666,
              "#ed7953"
             ],
             [
              0.7777777777777778,
              "#fb9f3a"
             ],
             [
              0.8888888888888888,
              "#fdca26"
             ],
             [
              1,
              "#f0f921"
             ]
            ],
            "type": "histogram2dcontour"
           }
          ],
          "mesh3d": [
           {
            "colorbar": {
             "outlinewidth": 0,
             "ticks": ""
            },
            "type": "mesh3d"
           }
          ],
          "parcoords": [
           {
            "line": {
             "colorbar": {
              "outlinewidth": 0,
              "ticks": ""
             }
            },
            "type": "parcoords"
           }
          ],
          "pie": [
           {
            "automargin": true,
            "type": "pie"
           }
          ],
          "scatter": [
           {
            "marker": {
             "colorbar": {
              "outlinewidth": 0,
              "ticks": ""
             }
            },
            "type": "scatter"
           }
          ],
          "scatter3d": [
           {
            "line": {
             "colorbar": {
              "outlinewidth": 0,
              "ticks": ""
             }
            },
            "marker": {
             "colorbar": {
              "outlinewidth": 0,
              "ticks": ""
             }
            },
            "type": "scatter3d"
           }
          ],
          "scattercarpet": [
           {
            "marker": {
             "colorbar": {
              "outlinewidth": 0,
              "ticks": ""
             }
            },
            "type": "scattercarpet"
           }
          ],
          "scattergeo": [
           {
            "marker": {
             "colorbar": {
              "outlinewidth": 0,
              "ticks": ""
             }
            },
            "type": "scattergeo"
           }
          ],
          "scattergl": [
           {
            "marker": {
             "colorbar": {
              "outlinewidth": 0,
              "ticks": ""
             }
            },
            "type": "scattergl"
           }
          ],
          "scattermapbox": [
           {
            "marker": {
             "colorbar": {
              "outlinewidth": 0,
              "ticks": ""
             }
            },
            "type": "scattermapbox"
           }
          ],
          "scatterpolar": [
           {
            "marker": {
             "colorbar": {
              "outlinewidth": 0,
              "ticks": ""
             }
            },
            "type": "scatterpolar"
           }
          ],
          "scatterpolargl": [
           {
            "marker": {
             "colorbar": {
              "outlinewidth": 0,
              "ticks": ""
             }
            },
            "type": "scatterpolargl"
           }
          ],
          "scatterternary": [
           {
            "marker": {
             "colorbar": {
              "outlinewidth": 0,
              "ticks": ""
             }
            },
            "type": "scatterternary"
           }
          ],
          "surface": [
           {
            "colorbar": {
             "outlinewidth": 0,
             "ticks": ""
            },
            "colorscale": [
             [
              0,
              "#0d0887"
             ],
             [
              0.1111111111111111,
              "#46039f"
             ],
             [
              0.2222222222222222,
              "#7201a8"
             ],
             [
              0.3333333333333333,
              "#9c179e"
             ],
             [
              0.4444444444444444,
              "#bd3786"
             ],
             [
              0.5555555555555556,
              "#d8576b"
             ],
             [
              0.6666666666666666,
              "#ed7953"
             ],
             [
              0.7777777777777778,
              "#fb9f3a"
             ],
             [
              0.8888888888888888,
              "#fdca26"
             ],
             [
              1,
              "#f0f921"
             ]
            ],
            "type": "surface"
           }
          ],
          "table": [
           {
            "cells": {
             "fill": {
              "color": "#EBF0F8"
             },
             "line": {
              "color": "white"
             }
            },
            "header": {
             "fill": {
              "color": "#C8D4E3"
             },
             "line": {
              "color": "white"
             }
            },
            "type": "table"
           }
          ]
         },
         "layout": {
          "annotationdefaults": {
           "arrowcolor": "#2a3f5f",
           "arrowhead": 0,
           "arrowwidth": 1
          },
          "autotypenumbers": "strict",
          "coloraxis": {
           "colorbar": {
            "outlinewidth": 0,
            "ticks": ""
           }
          },
          "colorscale": {
           "diverging": [
            [
             0,
             "#8e0152"
            ],
            [
             0.1,
             "#c51b7d"
            ],
            [
             0.2,
             "#de77ae"
            ],
            [
             0.3,
             "#f1b6da"
            ],
            [
             0.4,
             "#fde0ef"
            ],
            [
             0.5,
             "#f7f7f7"
            ],
            [
             0.6,
             "#e6f5d0"
            ],
            [
             0.7,
             "#b8e186"
            ],
            [
             0.8,
             "#7fbc41"
            ],
            [
             0.9,
             "#4d9221"
            ],
            [
             1,
             "#276419"
            ]
           ],
           "sequential": [
            [
             0,
             "#0d0887"
            ],
            [
             0.1111111111111111,
             "#46039f"
            ],
            [
             0.2222222222222222,
             "#7201a8"
            ],
            [
             0.3333333333333333,
             "#9c179e"
            ],
            [
             0.4444444444444444,
             "#bd3786"
            ],
            [
             0.5555555555555556,
             "#d8576b"
            ],
            [
             0.6666666666666666,
             "#ed7953"
            ],
            [
             0.7777777777777778,
             "#fb9f3a"
            ],
            [
             0.8888888888888888,
             "#fdca26"
            ],
            [
             1,
             "#f0f921"
            ]
           ],
           "sequentialminus": [
            [
             0,
             "#0d0887"
            ],
            [
             0.1111111111111111,
             "#46039f"
            ],
            [
             0.2222222222222222,
             "#7201a8"
            ],
            [
             0.3333333333333333,
             "#9c179e"
            ],
            [
             0.4444444444444444,
             "#bd3786"
            ],
            [
             0.5555555555555556,
             "#d8576b"
            ],
            [
             0.6666666666666666,
             "#ed7953"
            ],
            [
             0.7777777777777778,
             "#fb9f3a"
            ],
            [
             0.8888888888888888,
             "#fdca26"
            ],
            [
             1,
             "#f0f921"
            ]
           ]
          },
          "colorway": [
           "#636efa",
           "#EF553B",
           "#00cc96",
           "#ab63fa",
           "#FFA15A",
           "#19d3f3",
           "#FF6692",
           "#B6E880",
           "#FF97FF",
           "#FECB52"
          ],
          "font": {
           "color": "#2a3f5f"
          },
          "geo": {
           "bgcolor": "white",
           "lakecolor": "white",
           "landcolor": "#E5ECF6",
           "showlakes": true,
           "showland": true,
           "subunitcolor": "white"
          },
          "hoverlabel": {
           "align": "left"
          },
          "hovermode": "closest",
          "mapbox": {
           "style": "light"
          },
          "paper_bgcolor": "white",
          "plot_bgcolor": "#E5ECF6",
          "polar": {
           "angularaxis": {
            "gridcolor": "white",
            "linecolor": "white",
            "ticks": ""
           },
           "bgcolor": "#E5ECF6",
           "radialaxis": {
            "gridcolor": "white",
            "linecolor": "white",
            "ticks": ""
           }
          },
          "scene": {
           "xaxis": {
            "backgroundcolor": "#E5ECF6",
            "gridcolor": "white",
            "gridwidth": 2,
            "linecolor": "white",
            "showbackground": true,
            "ticks": "",
            "zerolinecolor": "white"
           },
           "yaxis": {
            "backgroundcolor": "#E5ECF6",
            "gridcolor": "white",
            "gridwidth": 2,
            "linecolor": "white",
            "showbackground": true,
            "ticks": "",
            "zerolinecolor": "white"
           },
           "zaxis": {
            "backgroundcolor": "#E5ECF6",
            "gridcolor": "white",
            "gridwidth": 2,
            "linecolor": "white",
            "showbackground": true,
            "ticks": "",
            "zerolinecolor": "white"
           }
          },
          "shapedefaults": {
           "line": {
            "color": "#2a3f5f"
           }
          },
          "ternary": {
           "aaxis": {
            "gridcolor": "white",
            "linecolor": "white",
            "ticks": ""
           },
           "baxis": {
            "gridcolor": "white",
            "linecolor": "white",
            "ticks": ""
           },
           "bgcolor": "#E5ECF6",
           "caxis": {
            "gridcolor": "white",
            "linecolor": "white",
            "ticks": ""
           }
          },
          "title": {
           "x": 0.05
          },
          "xaxis": {
           "automargin": true,
           "gridcolor": "white",
           "linecolor": "white",
           "ticks": "",
           "title": {
            "standoff": 15
           },
           "zerolinecolor": "white",
           "zerolinewidth": 2
          },
          "yaxis": {
           "automargin": true,
           "gridcolor": "white",
           "linecolor": "white",
           "ticks": "",
           "title": {
            "standoff": 15
           },
           "zerolinecolor": "white",
           "zerolinewidth": 2
          }
         }
        },
        "title": {
         "font": {
          "color": "#4D5663"
         }
        },
        "xaxis": {
         "gridcolor": "#E1E5ED",
         "showgrid": true,
         "tickfont": {
          "color": "#4D5663"
         },
         "title": {
          "font": {
           "color": "#4D5663"
          },
          "text": ""
         },
         "zerolinecolor": "#E1E5ED"
        },
        "yaxis": {
         "gridcolor": "#E1E5ED",
         "showgrid": true,
         "tickfont": {
          "color": "#4D5663"
         },
         "title": {
          "font": {
           "color": "#4D5663"
          },
          "text": ""
         },
         "zerolinecolor": "#E1E5ED"
        }
       }
      },
      "text/html": [
       "<div>                            <div id=\"5901e18a-2b2b-44d0-8d18-09c3db854bed\" class=\"plotly-graph-div\" style=\"height:525px; width:100%;\"></div>            <script type=\"text/javascript\">                require([\"plotly\"], function(Plotly) {                    window.PLOTLYENV=window.PLOTLYENV || {};\n",
       "                    window.PLOTLYENV.BASE_URL='https://plot.ly';                                    if (document.getElementById(\"5901e18a-2b2b-44d0-8d18-09c3db854bed\")) {                    Plotly.newPlot(                        \"5901e18a-2b2b-44d0-8d18-09c3db854bed\",                        [{\"line\": {\"color\": \"rgba(255, 153, 51, 1.0)\", \"dash\": \"solid\", \"shape\": \"linear\", \"width\": 1.3}, \"marker\": {\"size\": 10, \"symbol\": \"circle\"}, \"mode\": \"markers\", \"name\": \"B\", \"text\": \"\", \"type\": \"scatter\", \"x\": [0.5559244215996016, 0.16531247499681323, -0.8101100169139632, -1.3974320065743162, 1.6136174804983556, -0.3211925649236798, -0.3708134451358885, 0.7768683958236318, 0.9185436802928186, 1.2762372604361978, 0.4127563834151255, -0.9193064276735416, -1.5395019336205855, -0.5305376223271864, -0.9903403728567307, 0.14647506819357678, -0.1763519726139724, 0.36008109401573163, -0.3176404768055409, -0.19412325558431157, -0.0904221223832305, -0.5945023504586406, -0.03895869264617371, 0.5901436910604915, -0.7996642304747691, 1.0301076261885471, 0.9621354965051399, 0.30578234381497704, -0.724902498511663, -0.21758223505728244, 0.32225672399278027, 0.16816746481521705, -0.3052736668837778, -0.3751381721108554, 0.827811394916156, -1.1823153331521996, 0.05309296545930296, 0.7949550338463784, 0.009844956835440979, -0.421073670238091, -0.9065419444857088, 0.5772849324123647, -2.0877670198322047, 1.3868161621120656, -0.702588197611849, 0.162538412371124, -0.003047648967196274, 0.18507428698394549, -0.2390219605970498, 0.07847295052663021, -0.246121472387244, 0.7798289383401936, 1.4968068545020095, -0.7877805920356816, -1.126634990257943, 0.11719360333798196, -1.5602947784857861, 1.298860409475295, -1.8056312905844059, 1.1832197109271312, 1.4331767165642602, -0.2911593460243957, 0.1574901335703895, 0.06854985942307727, 1.4231140740707144, -2.04463937159396, -1.8251943251991503, 0.14962534578078765, 0.0813071065438157, -1.0863368122861674, 0.9565864600231273, 0.6642827660389123, -1.4831517966951513, -0.39828961293614407, 0.22927634606915795, 0.22238917753957502, 0.7686846529091509, 1.47119939628487, -1.556400814871271, -2.735284320598148, 0.07069490963218183, 0.23495848143046277, 1.9148595400160937, 0.6174926889282726, -1.4203144589579582, 1.1619629955318764, -0.5601347720040485, -0.6703767522970148, 0.17875077451214946, 0.08181724511550104, -0.3519235217399932, 1.3203913019856222, 1.8460431102673394, -0.14262827208374368, 0.6250080835386731, 1.9614289138545555, 0.4434327783663857, 1.6393596269936033, 1.530107027081265, 1.6215780684288195], \"y\": [0.22903146892060294, -1.0438839554806172, -0.4399526952827415, -0.4633382480861902, -1.5654877913797267, 1.2377698503523018, -0.007528301571093346, -0.7821574542974872, 0.1932979535681084, 0.16383400694923386, -0.10457958055017953, -0.5483224720829957, 0.3901467033850892, 0.8733391491473266, -1.8148002875494058, -0.0759623941349184, -1.5726465344150269, -0.6082787903749993, 0.3214224546316616, 0.4511156558335474, -0.2819159475893012, -0.03168586915965763, 0.4153575859846248, -0.8519307093778403, -0.18818870118555994, -1.4230368693782596, -1.1061437380428527, -0.4788898790879405, -0.30961021649646114, 0.826955287725046, 1.2056289154607636, -0.70084903580063, 0.8209283555060617, -0.5298851830413455, 0.1451874152781941, -1.5865763699281297, 1.6520160207008723, -0.6106005545270637, -0.4657338792251926, -1.613208567945061, -0.3358265022436321, -0.19539723810652976, -0.10857198778945001, -0.5686738836571239, 0.026700284464226395, 0.060562223568401255, -1.322550194123688, -1.1478889418544014, -0.6747492167943674, 1.4978851912884552, -0.8144161797427335, -0.6614153305732594, -1.9119357727283888, -1.164014883430049, 0.5595234352487303, 0.108328681661955, -0.9706109249546176, 0.47099451136202414, 0.9089019866312754, -0.4955207283130792, -1.125571044511677, -1.259705874458263, 0.9499971437675632, -1.0807709308166202, 0.3365070500166459, 1.2321842350594938, -1.4903302832650034, 0.3514723761902005, 0.08623718249227429, -0.20931093736104614, -0.9741715973174373, -0.5308998848264274, -2.410083026327852, -0.1899938700628958, 1.7683431358180248, -0.47597742609579835, -0.0013692778474197807, -3.381411728787464, 0.2096704289056021, 0.017403841169861784, 0.40583638946018025, -0.6750001314794015, 0.15150861459613177, 0.17204801196444056, 1.2690154822774866, -2.289782485465693, -0.12230747952833376, -1.2401555231539811, 0.6775438389699542, 0.748663635094293, -1.0291210942321232, 0.11491042839811323, 0.6149875024612116, -0.6752388716699234, -1.0210089048464344, -1.306395759730055, -0.8897696845214655, 1.9783178499112062, 0.7937356305287727, -0.30826255509155437]}],                        {\"legend\": {\"bgcolor\": \"#F5F6F9\", \"font\": {\"color\": \"#4D5663\"}}, \"paper_bgcolor\": \"#F5F6F9\", \"plot_bgcolor\": \"#F5F6F9\", \"template\": {\"data\": {\"bar\": [{\"error_x\": {\"color\": \"#2a3f5f\"}, \"error_y\": {\"color\": \"#2a3f5f\"}, \"marker\": {\"line\": {\"color\": \"#E5ECF6\", \"width\": 0.5}}, \"type\": \"bar\"}], \"barpolar\": [{\"marker\": {\"line\": {\"color\": \"#E5ECF6\", \"width\": 0.5}}, \"type\": \"barpolar\"}], \"carpet\": [{\"aaxis\": {\"endlinecolor\": \"#2a3f5f\", \"gridcolor\": \"white\", \"linecolor\": \"white\", \"minorgridcolor\": \"white\", \"startlinecolor\": \"#2a3f5f\"}, \"baxis\": {\"endlinecolor\": \"#2a3f5f\", \"gridcolor\": \"white\", \"linecolor\": \"white\", \"minorgridcolor\": \"white\", \"startlinecolor\": \"#2a3f5f\"}, \"type\": \"carpet\"}], \"choropleth\": [{\"colorbar\": {\"outlinewidth\": 0, \"ticks\": \"\"}, \"type\": \"choropleth\"}], \"contour\": [{\"colorbar\": {\"outlinewidth\": 0, \"ticks\": \"\"}, \"colorscale\": [[0.0, \"#0d0887\"], [0.1111111111111111, \"#46039f\"], [0.2222222222222222, \"#7201a8\"], [0.3333333333333333, \"#9c179e\"], [0.4444444444444444, \"#bd3786\"], [0.5555555555555556, \"#d8576b\"], [0.6666666666666666, \"#ed7953\"], [0.7777777777777778, \"#fb9f3a\"], [0.8888888888888888, \"#fdca26\"], [1.0, \"#f0f921\"]], \"type\": \"contour\"}], \"contourcarpet\": [{\"colorbar\": {\"outlinewidth\": 0, \"ticks\": \"\"}, \"type\": \"contourcarpet\"}], \"heatmap\": [{\"colorbar\": {\"outlinewidth\": 0, \"ticks\": \"\"}, \"colorscale\": [[0.0, \"#0d0887\"], [0.1111111111111111, \"#46039f\"], [0.2222222222222222, \"#7201a8\"], [0.3333333333333333, \"#9c179e\"], [0.4444444444444444, \"#bd3786\"], [0.5555555555555556, \"#d8576b\"], [0.6666666666666666, \"#ed7953\"], [0.7777777777777778, \"#fb9f3a\"], [0.8888888888888888, \"#fdca26\"], [1.0, \"#f0f921\"]], \"type\": \"heatmap\"}], \"heatmapgl\": [{\"colorbar\": {\"outlinewidth\": 0, \"ticks\": \"\"}, \"colorscale\": [[0.0, \"#0d0887\"], [0.1111111111111111, \"#46039f\"], [0.2222222222222222, \"#7201a8\"], [0.3333333333333333, \"#9c179e\"], [0.4444444444444444, \"#bd3786\"], [0.5555555555555556, \"#d8576b\"], [0.6666666666666666, \"#ed7953\"], [0.7777777777777778, \"#fb9f3a\"], [0.8888888888888888, \"#fdca26\"], [1.0, \"#f0f921\"]], \"type\": \"heatmapgl\"}], \"histogram\": [{\"marker\": {\"colorbar\": {\"outlinewidth\": 0, \"ticks\": \"\"}}, \"type\": \"histogram\"}], \"histogram2d\": [{\"colorbar\": {\"outlinewidth\": 0, \"ticks\": \"\"}, \"colorscale\": [[0.0, \"#0d0887\"], [0.1111111111111111, \"#46039f\"], [0.2222222222222222, \"#7201a8\"], [0.3333333333333333, \"#9c179e\"], [0.4444444444444444, \"#bd3786\"], [0.5555555555555556, \"#d8576b\"], [0.6666666666666666, \"#ed7953\"], [0.7777777777777778, \"#fb9f3a\"], [0.8888888888888888, \"#fdca26\"], [1.0, \"#f0f921\"]], \"type\": \"histogram2d\"}], \"histogram2dcontour\": [{\"colorbar\": {\"outlinewidth\": 0, \"ticks\": \"\"}, \"colorscale\": [[0.0, \"#0d0887\"], [0.1111111111111111, \"#46039f\"], [0.2222222222222222, \"#7201a8\"], [0.3333333333333333, \"#9c179e\"], [0.4444444444444444, \"#bd3786\"], [0.5555555555555556, \"#d8576b\"], [0.6666666666666666, \"#ed7953\"], [0.7777777777777778, \"#fb9f3a\"], [0.8888888888888888, \"#fdca26\"], [1.0, \"#f0f921\"]], \"type\": \"histogram2dcontour\"}], \"mesh3d\": [{\"colorbar\": {\"outlinewidth\": 0, \"ticks\": \"\"}, \"type\": \"mesh3d\"}], \"parcoords\": [{\"line\": {\"colorbar\": {\"outlinewidth\": 0, \"ticks\": \"\"}}, \"type\": \"parcoords\"}], \"pie\": [{\"automargin\": true, \"type\": \"pie\"}], \"scatter\": [{\"marker\": {\"colorbar\": {\"outlinewidth\": 0, \"ticks\": \"\"}}, \"type\": \"scatter\"}], \"scatter3d\": [{\"line\": {\"colorbar\": {\"outlinewidth\": 0, \"ticks\": \"\"}}, \"marker\": {\"colorbar\": {\"outlinewidth\": 0, \"ticks\": \"\"}}, \"type\": \"scatter3d\"}], \"scattercarpet\": [{\"marker\": {\"colorbar\": {\"outlinewidth\": 0, \"ticks\": \"\"}}, \"type\": \"scattercarpet\"}], \"scattergeo\": [{\"marker\": {\"colorbar\": {\"outlinewidth\": 0, \"ticks\": \"\"}}, \"type\": \"scattergeo\"}], \"scattergl\": [{\"marker\": {\"colorbar\": {\"outlinewidth\": 0, \"ticks\": \"\"}}, \"type\": \"scattergl\"}], \"scattermapbox\": [{\"marker\": {\"colorbar\": {\"outlinewidth\": 0, \"ticks\": \"\"}}, \"type\": \"scattermapbox\"}], \"scatterpolar\": [{\"marker\": {\"colorbar\": {\"outlinewidth\": 0, \"ticks\": \"\"}}, \"type\": \"scatterpolar\"}], \"scatterpolargl\": [{\"marker\": {\"colorbar\": {\"outlinewidth\": 0, \"ticks\": \"\"}}, \"type\": \"scatterpolargl\"}], \"scatterternary\": [{\"marker\": {\"colorbar\": {\"outlinewidth\": 0, \"ticks\": \"\"}}, \"type\": \"scatterternary\"}], \"surface\": [{\"colorbar\": {\"outlinewidth\": 0, \"ticks\": \"\"}, \"colorscale\": [[0.0, \"#0d0887\"], [0.1111111111111111, \"#46039f\"], [0.2222222222222222, \"#7201a8\"], [0.3333333333333333, \"#9c179e\"], [0.4444444444444444, \"#bd3786\"], [0.5555555555555556, \"#d8576b\"], [0.6666666666666666, \"#ed7953\"], [0.7777777777777778, \"#fb9f3a\"], [0.8888888888888888, \"#fdca26\"], [1.0, \"#f0f921\"]], \"type\": \"surface\"}], \"table\": [{\"cells\": {\"fill\": {\"color\": \"#EBF0F8\"}, \"line\": {\"color\": \"white\"}}, \"header\": {\"fill\": {\"color\": \"#C8D4E3\"}, \"line\": {\"color\": \"white\"}}, \"type\": \"table\"}]}, \"layout\": {\"annotationdefaults\": {\"arrowcolor\": \"#2a3f5f\", \"arrowhead\": 0, \"arrowwidth\": 1}, \"autotypenumbers\": \"strict\", \"coloraxis\": {\"colorbar\": {\"outlinewidth\": 0, \"ticks\": \"\"}}, \"colorscale\": {\"diverging\": [[0, \"#8e0152\"], [0.1, \"#c51b7d\"], [0.2, \"#de77ae\"], [0.3, \"#f1b6da\"], [0.4, \"#fde0ef\"], [0.5, \"#f7f7f7\"], [0.6, \"#e6f5d0\"], [0.7, \"#b8e186\"], [0.8, \"#7fbc41\"], [0.9, \"#4d9221\"], [1, \"#276419\"]], \"sequential\": [[0.0, \"#0d0887\"], [0.1111111111111111, \"#46039f\"], [0.2222222222222222, \"#7201a8\"], [0.3333333333333333, \"#9c179e\"], [0.4444444444444444, \"#bd3786\"], [0.5555555555555556, \"#d8576b\"], [0.6666666666666666, \"#ed7953\"], [0.7777777777777778, \"#fb9f3a\"], [0.8888888888888888, \"#fdca26\"], [1.0, \"#f0f921\"]], \"sequentialminus\": [[0.0, \"#0d0887\"], [0.1111111111111111, \"#46039f\"], [0.2222222222222222, \"#7201a8\"], [0.3333333333333333, \"#9c179e\"], [0.4444444444444444, \"#bd3786\"], [0.5555555555555556, \"#d8576b\"], [0.6666666666666666, \"#ed7953\"], [0.7777777777777778, \"#fb9f3a\"], [0.8888888888888888, \"#fdca26\"], [1.0, \"#f0f921\"]]}, \"colorway\": [\"#636efa\", \"#EF553B\", \"#00cc96\", \"#ab63fa\", \"#FFA15A\", \"#19d3f3\", \"#FF6692\", \"#B6E880\", \"#FF97FF\", \"#FECB52\"], \"font\": {\"color\": \"#2a3f5f\"}, \"geo\": {\"bgcolor\": \"white\", \"lakecolor\": \"white\", \"landcolor\": \"#E5ECF6\", \"showlakes\": true, \"showland\": true, \"subunitcolor\": \"white\"}, \"hoverlabel\": {\"align\": \"left\"}, \"hovermode\": \"closest\", \"mapbox\": {\"style\": \"light\"}, \"paper_bgcolor\": \"white\", \"plot_bgcolor\": \"#E5ECF6\", \"polar\": {\"angularaxis\": {\"gridcolor\": \"white\", \"linecolor\": \"white\", \"ticks\": \"\"}, \"bgcolor\": \"#E5ECF6\", \"radialaxis\": {\"gridcolor\": \"white\", \"linecolor\": \"white\", \"ticks\": \"\"}}, \"scene\": {\"xaxis\": {\"backgroundcolor\": \"#E5ECF6\", \"gridcolor\": \"white\", \"gridwidth\": 2, \"linecolor\": \"white\", \"showbackground\": true, \"ticks\": \"\", \"zerolinecolor\": \"white\"}, \"yaxis\": {\"backgroundcolor\": \"#E5ECF6\", \"gridcolor\": \"white\", \"gridwidth\": 2, \"linecolor\": \"white\", \"showbackground\": true, \"ticks\": \"\", \"zerolinecolor\": \"white\"}, \"zaxis\": {\"backgroundcolor\": \"#E5ECF6\", \"gridcolor\": \"white\", \"gridwidth\": 2, \"linecolor\": \"white\", \"showbackground\": true, \"ticks\": \"\", \"zerolinecolor\": \"white\"}}, \"shapedefaults\": {\"line\": {\"color\": \"#2a3f5f\"}}, \"ternary\": {\"aaxis\": {\"gridcolor\": \"white\", \"linecolor\": \"white\", \"ticks\": \"\"}, \"baxis\": {\"gridcolor\": \"white\", \"linecolor\": \"white\", \"ticks\": \"\"}, \"bgcolor\": \"#E5ECF6\", \"caxis\": {\"gridcolor\": \"white\", \"linecolor\": \"white\", \"ticks\": \"\"}}, \"title\": {\"x\": 0.05}, \"xaxis\": {\"automargin\": true, \"gridcolor\": \"white\", \"linecolor\": \"white\", \"ticks\": \"\", \"title\": {\"standoff\": 15}, \"zerolinecolor\": \"white\", \"zerolinewidth\": 2}, \"yaxis\": {\"automargin\": true, \"gridcolor\": \"white\", \"linecolor\": \"white\", \"ticks\": \"\", \"title\": {\"standoff\": 15}, \"zerolinecolor\": \"white\", \"zerolinewidth\": 2}}}, \"title\": {\"font\": {\"color\": \"#4D5663\"}}, \"xaxis\": {\"gridcolor\": \"#E1E5ED\", \"showgrid\": true, \"tickfont\": {\"color\": \"#4D5663\"}, \"title\": {\"font\": {\"color\": \"#4D5663\"}, \"text\": \"\"}, \"zerolinecolor\": \"#E1E5ED\"}, \"yaxis\": {\"gridcolor\": \"#E1E5ED\", \"showgrid\": true, \"tickfont\": {\"color\": \"#4D5663\"}, \"title\": {\"font\": {\"color\": \"#4D5663\"}, \"text\": \"\"}, \"zerolinecolor\": \"#E1E5ED\"}},                        {\"showLink\": true, \"linkText\": \"Export to plot.ly\", \"plotlyServerURL\": \"https://plot.ly\", \"responsive\": true}                    ).then(function(){\n",
       "                            \n",
       "var gd = document.getElementById('5901e18a-2b2b-44d0-8d18-09c3db854bed');\n",
       "var x = new MutationObserver(function (mutations, observer) {{\n",
       "        var display = window.getComputedStyle(gd).display;\n",
       "        if (!display || display === 'none') {{\n",
       "            console.log([gd, 'removed!']);\n",
       "            Plotly.purge(gd);\n",
       "            observer.disconnect();\n",
       "        }}\n",
       "}});\n",
       "\n",
       "// Listen for the removal of the full notebook cells\n",
       "var notebookContainer = gd.closest('#notebook-container');\n",
       "if (notebookContainer) {{\n",
       "    x.observe(notebookContainer, {childList: true});\n",
       "}}\n",
       "\n",
       "// Listen for the clearing of the current output cell\n",
       "var outputEl = gd.closest('.output');\n",
       "if (outputEl) {{\n",
       "    x.observe(outputEl, {childList: true});\n",
       "}}\n",
       "\n",
       "                        })                };                });            </script>        </div>"
      ]
     },
     "metadata": {},
     "output_type": "display_data"
    }
   ],
   "source": [
    "df.iplot(kind='scatter',x='A',y='B',mode='markers',size=10)"
   ]
  },
  {
   "cell_type": "markdown",
   "metadata": {},
   "source": [
    "## Bar Plots"
   ]
  },
  {
   "cell_type": "code",
   "execution_count": 35,
   "metadata": {},
   "outputs": [
    {
     "data": {
      "application/vnd.plotly.v1+json": {
       "config": {
        "linkText": "Export to plot.ly",
        "plotlyServerURL": "https://plot.ly",
        "showLink": true
       },
       "data": [
        {
         "marker": {
          "color": "rgba(255, 153, 51, 0.6)",
          "line": {
           "color": "rgba(255, 153, 51, 1.0)",
           "width": 1
          }
         },
         "name": "Values",
         "orientation": "v",
         "text": "",
         "type": "bar",
         "x": [
          "A",
          "B",
          "C"
         ],
         "y": [
          32,
          43,
          50
         ]
        }
       ],
       "layout": {
        "legend": {
         "bgcolor": "#F5F6F9",
         "font": {
          "color": "#4D5663"
         }
        },
        "paper_bgcolor": "#F5F6F9",
        "plot_bgcolor": "#F5F6F9",
        "template": {
         "data": {
          "bar": [
           {
            "error_x": {
             "color": "#2a3f5f"
            },
            "error_y": {
             "color": "#2a3f5f"
            },
            "marker": {
             "line": {
              "color": "#E5ECF6",
              "width": 0.5
             }
            },
            "type": "bar"
           }
          ],
          "barpolar": [
           {
            "marker": {
             "line": {
              "color": "#E5ECF6",
              "width": 0.5
             }
            },
            "type": "barpolar"
           }
          ],
          "carpet": [
           {
            "aaxis": {
             "endlinecolor": "#2a3f5f",
             "gridcolor": "white",
             "linecolor": "white",
             "minorgridcolor": "white",
             "startlinecolor": "#2a3f5f"
            },
            "baxis": {
             "endlinecolor": "#2a3f5f",
             "gridcolor": "white",
             "linecolor": "white",
             "minorgridcolor": "white",
             "startlinecolor": "#2a3f5f"
            },
            "type": "carpet"
           }
          ],
          "choropleth": [
           {
            "colorbar": {
             "outlinewidth": 0,
             "ticks": ""
            },
            "type": "choropleth"
           }
          ],
          "contour": [
           {
            "colorbar": {
             "outlinewidth": 0,
             "ticks": ""
            },
            "colorscale": [
             [
              0,
              "#0d0887"
             ],
             [
              0.1111111111111111,
              "#46039f"
             ],
             [
              0.2222222222222222,
              "#7201a8"
             ],
             [
              0.3333333333333333,
              "#9c179e"
             ],
             [
              0.4444444444444444,
              "#bd3786"
             ],
             [
              0.5555555555555556,
              "#d8576b"
             ],
             [
              0.6666666666666666,
              "#ed7953"
             ],
             [
              0.7777777777777778,
              "#fb9f3a"
             ],
             [
              0.8888888888888888,
              "#fdca26"
             ],
             [
              1,
              "#f0f921"
             ]
            ],
            "type": "contour"
           }
          ],
          "contourcarpet": [
           {
            "colorbar": {
             "outlinewidth": 0,
             "ticks": ""
            },
            "type": "contourcarpet"
           }
          ],
          "heatmap": [
           {
            "colorbar": {
             "outlinewidth": 0,
             "ticks": ""
            },
            "colorscale": [
             [
              0,
              "#0d0887"
             ],
             [
              0.1111111111111111,
              "#46039f"
             ],
             [
              0.2222222222222222,
              "#7201a8"
             ],
             [
              0.3333333333333333,
              "#9c179e"
             ],
             [
              0.4444444444444444,
              "#bd3786"
             ],
             [
              0.5555555555555556,
              "#d8576b"
             ],
             [
              0.6666666666666666,
              "#ed7953"
             ],
             [
              0.7777777777777778,
              "#fb9f3a"
             ],
             [
              0.8888888888888888,
              "#fdca26"
             ],
             [
              1,
              "#f0f921"
             ]
            ],
            "type": "heatmap"
           }
          ],
          "heatmapgl": [
           {
            "colorbar": {
             "outlinewidth": 0,
             "ticks": ""
            },
            "colorscale": [
             [
              0,
              "#0d0887"
             ],
             [
              0.1111111111111111,
              "#46039f"
             ],
             [
              0.2222222222222222,
              "#7201a8"
             ],
             [
              0.3333333333333333,
              "#9c179e"
             ],
             [
              0.4444444444444444,
              "#bd3786"
             ],
             [
              0.5555555555555556,
              "#d8576b"
             ],
             [
              0.6666666666666666,
              "#ed7953"
             ],
             [
              0.7777777777777778,
              "#fb9f3a"
             ],
             [
              0.8888888888888888,
              "#fdca26"
             ],
             [
              1,
              "#f0f921"
             ]
            ],
            "type": "heatmapgl"
           }
          ],
          "histogram": [
           {
            "marker": {
             "colorbar": {
              "outlinewidth": 0,
              "ticks": ""
             }
            },
            "type": "histogram"
           }
          ],
          "histogram2d": [
           {
            "colorbar": {
             "outlinewidth": 0,
             "ticks": ""
            },
            "colorscale": [
             [
              0,
              "#0d0887"
             ],
             [
              0.1111111111111111,
              "#46039f"
             ],
             [
              0.2222222222222222,
              "#7201a8"
             ],
             [
              0.3333333333333333,
              "#9c179e"
             ],
             [
              0.4444444444444444,
              "#bd3786"
             ],
             [
              0.5555555555555556,
              "#d8576b"
             ],
             [
              0.6666666666666666,
              "#ed7953"
             ],
             [
              0.7777777777777778,
              "#fb9f3a"
             ],
             [
              0.8888888888888888,
              "#fdca26"
             ],
             [
              1,
              "#f0f921"
             ]
            ],
            "type": "histogram2d"
           }
          ],
          "histogram2dcontour": [
           {
            "colorbar": {
             "outlinewidth": 0,
             "ticks": ""
            },
            "colorscale": [
             [
              0,
              "#0d0887"
             ],
             [
              0.1111111111111111,
              "#46039f"
             ],
             [
              0.2222222222222222,
              "#7201a8"
             ],
             [
              0.3333333333333333,
              "#9c179e"
             ],
             [
              0.4444444444444444,
              "#bd3786"
             ],
             [
              0.5555555555555556,
              "#d8576b"
             ],
             [
              0.6666666666666666,
              "#ed7953"
             ],
             [
              0.7777777777777778,
              "#fb9f3a"
             ],
             [
              0.8888888888888888,
              "#fdca26"
             ],
             [
              1,
              "#f0f921"
             ]
            ],
            "type": "histogram2dcontour"
           }
          ],
          "mesh3d": [
           {
            "colorbar": {
             "outlinewidth": 0,
             "ticks": ""
            },
            "type": "mesh3d"
           }
          ],
          "parcoords": [
           {
            "line": {
             "colorbar": {
              "outlinewidth": 0,
              "ticks": ""
             }
            },
            "type": "parcoords"
           }
          ],
          "pie": [
           {
            "automargin": true,
            "type": "pie"
           }
          ],
          "scatter": [
           {
            "marker": {
             "colorbar": {
              "outlinewidth": 0,
              "ticks": ""
             }
            },
            "type": "scatter"
           }
          ],
          "scatter3d": [
           {
            "line": {
             "colorbar": {
              "outlinewidth": 0,
              "ticks": ""
             }
            },
            "marker": {
             "colorbar": {
              "outlinewidth": 0,
              "ticks": ""
             }
            },
            "type": "scatter3d"
           }
          ],
          "scattercarpet": [
           {
            "marker": {
             "colorbar": {
              "outlinewidth": 0,
              "ticks": ""
             }
            },
            "type": "scattercarpet"
           }
          ],
          "scattergeo": [
           {
            "marker": {
             "colorbar": {
              "outlinewidth": 0,
              "ticks": ""
             }
            },
            "type": "scattergeo"
           }
          ],
          "scattergl": [
           {
            "marker": {
             "colorbar": {
              "outlinewidth": 0,
              "ticks": ""
             }
            },
            "type": "scattergl"
           }
          ],
          "scattermapbox": [
           {
            "marker": {
             "colorbar": {
              "outlinewidth": 0,
              "ticks": ""
             }
            },
            "type": "scattermapbox"
           }
          ],
          "scatterpolar": [
           {
            "marker": {
             "colorbar": {
              "outlinewidth": 0,
              "ticks": ""
             }
            },
            "type": "scatterpolar"
           }
          ],
          "scatterpolargl": [
           {
            "marker": {
             "colorbar": {
              "outlinewidth": 0,
              "ticks": ""
             }
            },
            "type": "scatterpolargl"
           }
          ],
          "scatterternary": [
           {
            "marker": {
             "colorbar": {
              "outlinewidth": 0,
              "ticks": ""
             }
            },
            "type": "scatterternary"
           }
          ],
          "surface": [
           {
            "colorbar": {
             "outlinewidth": 0,
             "ticks": ""
            },
            "colorscale": [
             [
              0,
              "#0d0887"
             ],
             [
              0.1111111111111111,
              "#46039f"
             ],
             [
              0.2222222222222222,
              "#7201a8"
             ],
             [
              0.3333333333333333,
              "#9c179e"
             ],
             [
              0.4444444444444444,
              "#bd3786"
             ],
             [
              0.5555555555555556,
              "#d8576b"
             ],
             [
              0.6666666666666666,
              "#ed7953"
             ],
             [
              0.7777777777777778,
              "#fb9f3a"
             ],
             [
              0.8888888888888888,
              "#fdca26"
             ],
             [
              1,
              "#f0f921"
             ]
            ],
            "type": "surface"
           }
          ],
          "table": [
           {
            "cells": {
             "fill": {
              "color": "#EBF0F8"
             },
             "line": {
              "color": "white"
             }
            },
            "header": {
             "fill": {
              "color": "#C8D4E3"
             },
             "line": {
              "color": "white"
             }
            },
            "type": "table"
           }
          ]
         },
         "layout": {
          "annotationdefaults": {
           "arrowcolor": "#2a3f5f",
           "arrowhead": 0,
           "arrowwidth": 1
          },
          "autotypenumbers": "strict",
          "coloraxis": {
           "colorbar": {
            "outlinewidth": 0,
            "ticks": ""
           }
          },
          "colorscale": {
           "diverging": [
            [
             0,
             "#8e0152"
            ],
            [
             0.1,
             "#c51b7d"
            ],
            [
             0.2,
             "#de77ae"
            ],
            [
             0.3,
             "#f1b6da"
            ],
            [
             0.4,
             "#fde0ef"
            ],
            [
             0.5,
             "#f7f7f7"
            ],
            [
             0.6,
             "#e6f5d0"
            ],
            [
             0.7,
             "#b8e186"
            ],
            [
             0.8,
             "#7fbc41"
            ],
            [
             0.9,
             "#4d9221"
            ],
            [
             1,
             "#276419"
            ]
           ],
           "sequential": [
            [
             0,
             "#0d0887"
            ],
            [
             0.1111111111111111,
             "#46039f"
            ],
            [
             0.2222222222222222,
             "#7201a8"
            ],
            [
             0.3333333333333333,
             "#9c179e"
            ],
            [
             0.4444444444444444,
             "#bd3786"
            ],
            [
             0.5555555555555556,
             "#d8576b"
            ],
            [
             0.6666666666666666,
             "#ed7953"
            ],
            [
             0.7777777777777778,
             "#fb9f3a"
            ],
            [
             0.8888888888888888,
             "#fdca26"
            ],
            [
             1,
             "#f0f921"
            ]
           ],
           "sequentialminus": [
            [
             0,
             "#0d0887"
            ],
            [
             0.1111111111111111,
             "#46039f"
            ],
            [
             0.2222222222222222,
             "#7201a8"
            ],
            [
             0.3333333333333333,
             "#9c179e"
            ],
            [
             0.4444444444444444,
             "#bd3786"
            ],
            [
             0.5555555555555556,
             "#d8576b"
            ],
            [
             0.6666666666666666,
             "#ed7953"
            ],
            [
             0.7777777777777778,
             "#fb9f3a"
            ],
            [
             0.8888888888888888,
             "#fdca26"
            ],
            [
             1,
             "#f0f921"
            ]
           ]
          },
          "colorway": [
           "#636efa",
           "#EF553B",
           "#00cc96",
           "#ab63fa",
           "#FFA15A",
           "#19d3f3",
           "#FF6692",
           "#B6E880",
           "#FF97FF",
           "#FECB52"
          ],
          "font": {
           "color": "#2a3f5f"
          },
          "geo": {
           "bgcolor": "white",
           "lakecolor": "white",
           "landcolor": "#E5ECF6",
           "showlakes": true,
           "showland": true,
           "subunitcolor": "white"
          },
          "hoverlabel": {
           "align": "left"
          },
          "hovermode": "closest",
          "mapbox": {
           "style": "light"
          },
          "paper_bgcolor": "white",
          "plot_bgcolor": "#E5ECF6",
          "polar": {
           "angularaxis": {
            "gridcolor": "white",
            "linecolor": "white",
            "ticks": ""
           },
           "bgcolor": "#E5ECF6",
           "radialaxis": {
            "gridcolor": "white",
            "linecolor": "white",
            "ticks": ""
           }
          },
          "scene": {
           "xaxis": {
            "backgroundcolor": "#E5ECF6",
            "gridcolor": "white",
            "gridwidth": 2,
            "linecolor": "white",
            "showbackground": true,
            "ticks": "",
            "zerolinecolor": "white"
           },
           "yaxis": {
            "backgroundcolor": "#E5ECF6",
            "gridcolor": "white",
            "gridwidth": 2,
            "linecolor": "white",
            "showbackground": true,
            "ticks": "",
            "zerolinecolor": "white"
           },
           "zaxis": {
            "backgroundcolor": "#E5ECF6",
            "gridcolor": "white",
            "gridwidth": 2,
            "linecolor": "white",
            "showbackground": true,
            "ticks": "",
            "zerolinecolor": "white"
           }
          },
          "shapedefaults": {
           "line": {
            "color": "#2a3f5f"
           }
          },
          "ternary": {
           "aaxis": {
            "gridcolor": "white",
            "linecolor": "white",
            "ticks": ""
           },
           "baxis": {
            "gridcolor": "white",
            "linecolor": "white",
            "ticks": ""
           },
           "bgcolor": "#E5ECF6",
           "caxis": {
            "gridcolor": "white",
            "linecolor": "white",
            "ticks": ""
           }
          },
          "title": {
           "x": 0.05
          },
          "xaxis": {
           "automargin": true,
           "gridcolor": "white",
           "linecolor": "white",
           "ticks": "",
           "title": {
            "standoff": 15
           },
           "zerolinecolor": "white",
           "zerolinewidth": 2
          },
          "yaxis": {
           "automargin": true,
           "gridcolor": "white",
           "linecolor": "white",
           "ticks": "",
           "title": {
            "standoff": 15
           },
           "zerolinecolor": "white",
           "zerolinewidth": 2
          }
         }
        },
        "title": {
         "font": {
          "color": "#4D5663"
         }
        },
        "xaxis": {
         "gridcolor": "#E1E5ED",
         "showgrid": true,
         "tickfont": {
          "color": "#4D5663"
         },
         "title": {
          "font": {
           "color": "#4D5663"
          },
          "text": ""
         },
         "zerolinecolor": "#E1E5ED"
        },
        "yaxis": {
         "gridcolor": "#E1E5ED",
         "showgrid": true,
         "tickfont": {
          "color": "#4D5663"
         },
         "title": {
          "font": {
           "color": "#4D5663"
          },
          "text": ""
         },
         "zerolinecolor": "#E1E5ED"
        }
       }
      },
      "text/html": [
       "<div>                            <div id=\"0e9ba9b5-8393-4468-96b1-35b716d3c285\" class=\"plotly-graph-div\" style=\"height:525px; width:100%;\"></div>            <script type=\"text/javascript\">                require([\"plotly\"], function(Plotly) {                    window.PLOTLYENV=window.PLOTLYENV || {};\n",
       "                    window.PLOTLYENV.BASE_URL='https://plot.ly';                                    if (document.getElementById(\"0e9ba9b5-8393-4468-96b1-35b716d3c285\")) {                    Plotly.newPlot(                        \"0e9ba9b5-8393-4468-96b1-35b716d3c285\",                        [{\"marker\": {\"color\": \"rgba(255, 153, 51, 0.6)\", \"line\": {\"color\": \"rgba(255, 153, 51, 1.0)\", \"width\": 1}}, \"name\": \"Values\", \"orientation\": \"v\", \"text\": \"\", \"type\": \"bar\", \"x\": [\"A\", \"B\", \"C\"], \"y\": [32, 43, 50]}],                        {\"legend\": {\"bgcolor\": \"#F5F6F9\", \"font\": {\"color\": \"#4D5663\"}}, \"paper_bgcolor\": \"#F5F6F9\", \"plot_bgcolor\": \"#F5F6F9\", \"template\": {\"data\": {\"bar\": [{\"error_x\": {\"color\": \"#2a3f5f\"}, \"error_y\": {\"color\": \"#2a3f5f\"}, \"marker\": {\"line\": {\"color\": \"#E5ECF6\", \"width\": 0.5}}, \"type\": \"bar\"}], \"barpolar\": [{\"marker\": {\"line\": {\"color\": \"#E5ECF6\", \"width\": 0.5}}, \"type\": \"barpolar\"}], \"carpet\": [{\"aaxis\": {\"endlinecolor\": \"#2a3f5f\", \"gridcolor\": \"white\", \"linecolor\": \"white\", \"minorgridcolor\": \"white\", \"startlinecolor\": \"#2a3f5f\"}, \"baxis\": {\"endlinecolor\": \"#2a3f5f\", \"gridcolor\": \"white\", \"linecolor\": \"white\", \"minorgridcolor\": \"white\", \"startlinecolor\": \"#2a3f5f\"}, \"type\": \"carpet\"}], \"choropleth\": [{\"colorbar\": {\"outlinewidth\": 0, \"ticks\": \"\"}, \"type\": \"choropleth\"}], \"contour\": [{\"colorbar\": {\"outlinewidth\": 0, \"ticks\": \"\"}, \"colorscale\": [[0.0, \"#0d0887\"], [0.1111111111111111, \"#46039f\"], [0.2222222222222222, \"#7201a8\"], [0.3333333333333333, \"#9c179e\"], [0.4444444444444444, \"#bd3786\"], [0.5555555555555556, \"#d8576b\"], [0.6666666666666666, \"#ed7953\"], [0.7777777777777778, \"#fb9f3a\"], [0.8888888888888888, \"#fdca26\"], [1.0, \"#f0f921\"]], \"type\": \"contour\"}], \"contourcarpet\": [{\"colorbar\": {\"outlinewidth\": 0, \"ticks\": \"\"}, \"type\": \"contourcarpet\"}], \"heatmap\": [{\"colorbar\": {\"outlinewidth\": 0, \"ticks\": \"\"}, \"colorscale\": [[0.0, \"#0d0887\"], [0.1111111111111111, \"#46039f\"], [0.2222222222222222, \"#7201a8\"], [0.3333333333333333, \"#9c179e\"], [0.4444444444444444, \"#bd3786\"], [0.5555555555555556, \"#d8576b\"], [0.6666666666666666, \"#ed7953\"], [0.7777777777777778, \"#fb9f3a\"], [0.8888888888888888, \"#fdca26\"], [1.0, \"#f0f921\"]], \"type\": \"heatmap\"}], \"heatmapgl\": [{\"colorbar\": {\"outlinewidth\": 0, \"ticks\": \"\"}, \"colorscale\": [[0.0, \"#0d0887\"], [0.1111111111111111, \"#46039f\"], [0.2222222222222222, \"#7201a8\"], [0.3333333333333333, \"#9c179e\"], [0.4444444444444444, \"#bd3786\"], [0.5555555555555556, \"#d8576b\"], [0.6666666666666666, \"#ed7953\"], [0.7777777777777778, \"#fb9f3a\"], [0.8888888888888888, \"#fdca26\"], [1.0, \"#f0f921\"]], \"type\": \"heatmapgl\"}], \"histogram\": [{\"marker\": {\"colorbar\": {\"outlinewidth\": 0, \"ticks\": \"\"}}, \"type\": \"histogram\"}], \"histogram2d\": [{\"colorbar\": {\"outlinewidth\": 0, \"ticks\": \"\"}, \"colorscale\": [[0.0, \"#0d0887\"], [0.1111111111111111, \"#46039f\"], [0.2222222222222222, \"#7201a8\"], [0.3333333333333333, \"#9c179e\"], [0.4444444444444444, \"#bd3786\"], [0.5555555555555556, \"#d8576b\"], [0.6666666666666666, \"#ed7953\"], [0.7777777777777778, \"#fb9f3a\"], [0.8888888888888888, \"#fdca26\"], [1.0, \"#f0f921\"]], \"type\": \"histogram2d\"}], \"histogram2dcontour\": [{\"colorbar\": {\"outlinewidth\": 0, \"ticks\": \"\"}, \"colorscale\": [[0.0, \"#0d0887\"], [0.1111111111111111, \"#46039f\"], [0.2222222222222222, \"#7201a8\"], [0.3333333333333333, \"#9c179e\"], [0.4444444444444444, \"#bd3786\"], [0.5555555555555556, \"#d8576b\"], [0.6666666666666666, \"#ed7953\"], [0.7777777777777778, \"#fb9f3a\"], [0.8888888888888888, \"#fdca26\"], [1.0, \"#f0f921\"]], \"type\": \"histogram2dcontour\"}], \"mesh3d\": [{\"colorbar\": {\"outlinewidth\": 0, \"ticks\": \"\"}, \"type\": \"mesh3d\"}], \"parcoords\": [{\"line\": {\"colorbar\": {\"outlinewidth\": 0, \"ticks\": \"\"}}, \"type\": \"parcoords\"}], \"pie\": [{\"automargin\": true, \"type\": \"pie\"}], \"scatter\": [{\"marker\": {\"colorbar\": {\"outlinewidth\": 0, \"ticks\": \"\"}}, \"type\": \"scatter\"}], \"scatter3d\": [{\"line\": {\"colorbar\": {\"outlinewidth\": 0, \"ticks\": \"\"}}, \"marker\": {\"colorbar\": {\"outlinewidth\": 0, \"ticks\": \"\"}}, \"type\": \"scatter3d\"}], \"scattercarpet\": [{\"marker\": {\"colorbar\": {\"outlinewidth\": 0, \"ticks\": \"\"}}, \"type\": \"scattercarpet\"}], \"scattergeo\": [{\"marker\": {\"colorbar\": {\"outlinewidth\": 0, \"ticks\": \"\"}}, \"type\": \"scattergeo\"}], \"scattergl\": [{\"marker\": {\"colorbar\": {\"outlinewidth\": 0, \"ticks\": \"\"}}, \"type\": \"scattergl\"}], \"scattermapbox\": [{\"marker\": {\"colorbar\": {\"outlinewidth\": 0, \"ticks\": \"\"}}, \"type\": \"scattermapbox\"}], \"scatterpolar\": [{\"marker\": {\"colorbar\": {\"outlinewidth\": 0, \"ticks\": \"\"}}, \"type\": \"scatterpolar\"}], \"scatterpolargl\": [{\"marker\": {\"colorbar\": {\"outlinewidth\": 0, \"ticks\": \"\"}}, \"type\": \"scatterpolargl\"}], \"scatterternary\": [{\"marker\": {\"colorbar\": {\"outlinewidth\": 0, \"ticks\": \"\"}}, \"type\": \"scatterternary\"}], \"surface\": [{\"colorbar\": {\"outlinewidth\": 0, \"ticks\": \"\"}, \"colorscale\": [[0.0, \"#0d0887\"], [0.1111111111111111, \"#46039f\"], [0.2222222222222222, \"#7201a8\"], [0.3333333333333333, \"#9c179e\"], [0.4444444444444444, \"#bd3786\"], [0.5555555555555556, \"#d8576b\"], [0.6666666666666666, \"#ed7953\"], [0.7777777777777778, \"#fb9f3a\"], [0.8888888888888888, \"#fdca26\"], [1.0, \"#f0f921\"]], \"type\": \"surface\"}], \"table\": [{\"cells\": {\"fill\": {\"color\": \"#EBF0F8\"}, \"line\": {\"color\": \"white\"}}, \"header\": {\"fill\": {\"color\": \"#C8D4E3\"}, \"line\": {\"color\": \"white\"}}, \"type\": \"table\"}]}, \"layout\": {\"annotationdefaults\": {\"arrowcolor\": \"#2a3f5f\", \"arrowhead\": 0, \"arrowwidth\": 1}, \"autotypenumbers\": \"strict\", \"coloraxis\": {\"colorbar\": {\"outlinewidth\": 0, \"ticks\": \"\"}}, \"colorscale\": {\"diverging\": [[0, \"#8e0152\"], [0.1, \"#c51b7d\"], [0.2, \"#de77ae\"], [0.3, \"#f1b6da\"], [0.4, \"#fde0ef\"], [0.5, \"#f7f7f7\"], [0.6, \"#e6f5d0\"], [0.7, \"#b8e186\"], [0.8, \"#7fbc41\"], [0.9, \"#4d9221\"], [1, \"#276419\"]], \"sequential\": [[0.0, \"#0d0887\"], [0.1111111111111111, \"#46039f\"], [0.2222222222222222, \"#7201a8\"], [0.3333333333333333, \"#9c179e\"], [0.4444444444444444, \"#bd3786\"], [0.5555555555555556, \"#d8576b\"], [0.6666666666666666, \"#ed7953\"], [0.7777777777777778, \"#fb9f3a\"], [0.8888888888888888, \"#fdca26\"], [1.0, \"#f0f921\"]], \"sequentialminus\": [[0.0, \"#0d0887\"], [0.1111111111111111, \"#46039f\"], [0.2222222222222222, \"#7201a8\"], [0.3333333333333333, \"#9c179e\"], [0.4444444444444444, \"#bd3786\"], [0.5555555555555556, \"#d8576b\"], [0.6666666666666666, \"#ed7953\"], [0.7777777777777778, \"#fb9f3a\"], [0.8888888888888888, \"#fdca26\"], [1.0, \"#f0f921\"]]}, \"colorway\": [\"#636efa\", \"#EF553B\", \"#00cc96\", \"#ab63fa\", \"#FFA15A\", \"#19d3f3\", \"#FF6692\", \"#B6E880\", \"#FF97FF\", \"#FECB52\"], \"font\": {\"color\": \"#2a3f5f\"}, \"geo\": {\"bgcolor\": \"white\", \"lakecolor\": \"white\", \"landcolor\": \"#E5ECF6\", \"showlakes\": true, \"showland\": true, \"subunitcolor\": \"white\"}, \"hoverlabel\": {\"align\": \"left\"}, \"hovermode\": \"closest\", \"mapbox\": {\"style\": \"light\"}, \"paper_bgcolor\": \"white\", \"plot_bgcolor\": \"#E5ECF6\", \"polar\": {\"angularaxis\": {\"gridcolor\": \"white\", \"linecolor\": \"white\", \"ticks\": \"\"}, \"bgcolor\": \"#E5ECF6\", \"radialaxis\": {\"gridcolor\": \"white\", \"linecolor\": \"white\", \"ticks\": \"\"}}, \"scene\": {\"xaxis\": {\"backgroundcolor\": \"#E5ECF6\", \"gridcolor\": \"white\", \"gridwidth\": 2, \"linecolor\": \"white\", \"showbackground\": true, \"ticks\": \"\", \"zerolinecolor\": \"white\"}, \"yaxis\": {\"backgroundcolor\": \"#E5ECF6\", \"gridcolor\": \"white\", \"gridwidth\": 2, \"linecolor\": \"white\", \"showbackground\": true, \"ticks\": \"\", \"zerolinecolor\": \"white\"}, \"zaxis\": {\"backgroundcolor\": \"#E5ECF6\", \"gridcolor\": \"white\", \"gridwidth\": 2, \"linecolor\": \"white\", \"showbackground\": true, \"ticks\": \"\", \"zerolinecolor\": \"white\"}}, \"shapedefaults\": {\"line\": {\"color\": \"#2a3f5f\"}}, \"ternary\": {\"aaxis\": {\"gridcolor\": \"white\", \"linecolor\": \"white\", \"ticks\": \"\"}, \"baxis\": {\"gridcolor\": \"white\", \"linecolor\": \"white\", \"ticks\": \"\"}, \"bgcolor\": \"#E5ECF6\", \"caxis\": {\"gridcolor\": \"white\", \"linecolor\": \"white\", \"ticks\": \"\"}}, \"title\": {\"x\": 0.05}, \"xaxis\": {\"automargin\": true, \"gridcolor\": \"white\", \"linecolor\": \"white\", \"ticks\": \"\", \"title\": {\"standoff\": 15}, \"zerolinecolor\": \"white\", \"zerolinewidth\": 2}, \"yaxis\": {\"automargin\": true, \"gridcolor\": \"white\", \"linecolor\": \"white\", \"ticks\": \"\", \"title\": {\"standoff\": 15}, \"zerolinecolor\": \"white\", \"zerolinewidth\": 2}}}, \"title\": {\"font\": {\"color\": \"#4D5663\"}}, \"xaxis\": {\"gridcolor\": \"#E1E5ED\", \"showgrid\": true, \"tickfont\": {\"color\": \"#4D5663\"}, \"title\": {\"font\": {\"color\": \"#4D5663\"}, \"text\": \"\"}, \"zerolinecolor\": \"#E1E5ED\"}, \"yaxis\": {\"gridcolor\": \"#E1E5ED\", \"showgrid\": true, \"tickfont\": {\"color\": \"#4D5663\"}, \"title\": {\"font\": {\"color\": \"#4D5663\"}, \"text\": \"\"}, \"zerolinecolor\": \"#E1E5ED\"}},                        {\"showLink\": true, \"linkText\": \"Export to plot.ly\", \"plotlyServerURL\": \"https://plot.ly\", \"responsive\": true}                    ).then(function(){\n",
       "                            \n",
       "var gd = document.getElementById('0e9ba9b5-8393-4468-96b1-35b716d3c285');\n",
       "var x = new MutationObserver(function (mutations, observer) {{\n",
       "        var display = window.getComputedStyle(gd).display;\n",
       "        if (!display || display === 'none') {{\n",
       "            console.log([gd, 'removed!']);\n",
       "            Plotly.purge(gd);\n",
       "            observer.disconnect();\n",
       "        }}\n",
       "}});\n",
       "\n",
       "// Listen for the removal of the full notebook cells\n",
       "var notebookContainer = gd.closest('#notebook-container');\n",
       "if (notebookContainer) {{\n",
       "    x.observe(notebookContainer, {childList: true});\n",
       "}}\n",
       "\n",
       "// Listen for the clearing of the current output cell\n",
       "var outputEl = gd.closest('.output');\n",
       "if (outputEl) {{\n",
       "    x.observe(outputEl, {childList: true});\n",
       "}}\n",
       "\n",
       "                        })                };                });            </script>        </div>"
      ]
     },
     "metadata": {},
     "output_type": "display_data"
    }
   ],
   "source": [
    "df2.iplot(kind='bar',x='Category',y='Values')"
   ]
  },
  {
   "cell_type": "code",
   "execution_count": 36,
   "metadata": {},
   "outputs": [
    {
     "data": {
      "application/vnd.plotly.v1+json": {
       "config": {
        "linkText": "Export to plot.ly",
        "plotlyServerURL": "https://plot.ly",
        "showLink": true
       },
       "data": [
        {
         "marker": {
          "color": "rgba(255, 153, 51, 0.6)",
          "line": {
           "color": "rgba(255, 153, 51, 1.0)",
           "width": 1
          }
         },
         "name": "None",
         "orientation": "v",
         "text": "",
         "type": "bar",
         "x": [
          "A",
          "B",
          "C",
          "D"
         ],
         "y": [
          100,
          100,
          100,
          100
         ]
        }
       ],
       "layout": {
        "legend": {
         "bgcolor": "#F5F6F9",
         "font": {
          "color": "#4D5663"
         }
        },
        "paper_bgcolor": "#F5F6F9",
        "plot_bgcolor": "#F5F6F9",
        "template": {
         "data": {
          "bar": [
           {
            "error_x": {
             "color": "#2a3f5f"
            },
            "error_y": {
             "color": "#2a3f5f"
            },
            "marker": {
             "line": {
              "color": "#E5ECF6",
              "width": 0.5
             }
            },
            "type": "bar"
           }
          ],
          "barpolar": [
           {
            "marker": {
             "line": {
              "color": "#E5ECF6",
              "width": 0.5
             }
            },
            "type": "barpolar"
           }
          ],
          "carpet": [
           {
            "aaxis": {
             "endlinecolor": "#2a3f5f",
             "gridcolor": "white",
             "linecolor": "white",
             "minorgridcolor": "white",
             "startlinecolor": "#2a3f5f"
            },
            "baxis": {
             "endlinecolor": "#2a3f5f",
             "gridcolor": "white",
             "linecolor": "white",
             "minorgridcolor": "white",
             "startlinecolor": "#2a3f5f"
            },
            "type": "carpet"
           }
          ],
          "choropleth": [
           {
            "colorbar": {
             "outlinewidth": 0,
             "ticks": ""
            },
            "type": "choropleth"
           }
          ],
          "contour": [
           {
            "colorbar": {
             "outlinewidth": 0,
             "ticks": ""
            },
            "colorscale": [
             [
              0,
              "#0d0887"
             ],
             [
              0.1111111111111111,
              "#46039f"
             ],
             [
              0.2222222222222222,
              "#7201a8"
             ],
             [
              0.3333333333333333,
              "#9c179e"
             ],
             [
              0.4444444444444444,
              "#bd3786"
             ],
             [
              0.5555555555555556,
              "#d8576b"
             ],
             [
              0.6666666666666666,
              "#ed7953"
             ],
             [
              0.7777777777777778,
              "#fb9f3a"
             ],
             [
              0.8888888888888888,
              "#fdca26"
             ],
             [
              1,
              "#f0f921"
             ]
            ],
            "type": "contour"
           }
          ],
          "contourcarpet": [
           {
            "colorbar": {
             "outlinewidth": 0,
             "ticks": ""
            },
            "type": "contourcarpet"
           }
          ],
          "heatmap": [
           {
            "colorbar": {
             "outlinewidth": 0,
             "ticks": ""
            },
            "colorscale": [
             [
              0,
              "#0d0887"
             ],
             [
              0.1111111111111111,
              "#46039f"
             ],
             [
              0.2222222222222222,
              "#7201a8"
             ],
             [
              0.3333333333333333,
              "#9c179e"
             ],
             [
              0.4444444444444444,
              "#bd3786"
             ],
             [
              0.5555555555555556,
              "#d8576b"
             ],
             [
              0.6666666666666666,
              "#ed7953"
             ],
             [
              0.7777777777777778,
              "#fb9f3a"
             ],
             [
              0.8888888888888888,
              "#fdca26"
             ],
             [
              1,
              "#f0f921"
             ]
            ],
            "type": "heatmap"
           }
          ],
          "heatmapgl": [
           {
            "colorbar": {
             "outlinewidth": 0,
             "ticks": ""
            },
            "colorscale": [
             [
              0,
              "#0d0887"
             ],
             [
              0.1111111111111111,
              "#46039f"
             ],
             [
              0.2222222222222222,
              "#7201a8"
             ],
             [
              0.3333333333333333,
              "#9c179e"
             ],
             [
              0.4444444444444444,
              "#bd3786"
             ],
             [
              0.5555555555555556,
              "#d8576b"
             ],
             [
              0.6666666666666666,
              "#ed7953"
             ],
             [
              0.7777777777777778,
              "#fb9f3a"
             ],
             [
              0.8888888888888888,
              "#fdca26"
             ],
             [
              1,
              "#f0f921"
             ]
            ],
            "type": "heatmapgl"
           }
          ],
          "histogram": [
           {
            "marker": {
             "colorbar": {
              "outlinewidth": 0,
              "ticks": ""
             }
            },
            "type": "histogram"
           }
          ],
          "histogram2d": [
           {
            "colorbar": {
             "outlinewidth": 0,
             "ticks": ""
            },
            "colorscale": [
             [
              0,
              "#0d0887"
             ],
             [
              0.1111111111111111,
              "#46039f"
             ],
             [
              0.2222222222222222,
              "#7201a8"
             ],
             [
              0.3333333333333333,
              "#9c179e"
             ],
             [
              0.4444444444444444,
              "#bd3786"
             ],
             [
              0.5555555555555556,
              "#d8576b"
             ],
             [
              0.6666666666666666,
              "#ed7953"
             ],
             [
              0.7777777777777778,
              "#fb9f3a"
             ],
             [
              0.8888888888888888,
              "#fdca26"
             ],
             [
              1,
              "#f0f921"
             ]
            ],
            "type": "histogram2d"
           }
          ],
          "histogram2dcontour": [
           {
            "colorbar": {
             "outlinewidth": 0,
             "ticks": ""
            },
            "colorscale": [
             [
              0,
              "#0d0887"
             ],
             [
              0.1111111111111111,
              "#46039f"
             ],
             [
              0.2222222222222222,
              "#7201a8"
             ],
             [
              0.3333333333333333,
              "#9c179e"
             ],
             [
              0.4444444444444444,
              "#bd3786"
             ],
             [
              0.5555555555555556,
              "#d8576b"
             ],
             [
              0.6666666666666666,
              "#ed7953"
             ],
             [
              0.7777777777777778,
              "#fb9f3a"
             ],
             [
              0.8888888888888888,
              "#fdca26"
             ],
             [
              1,
              "#f0f921"
             ]
            ],
            "type": "histogram2dcontour"
           }
          ],
          "mesh3d": [
           {
            "colorbar": {
             "outlinewidth": 0,
             "ticks": ""
            },
            "type": "mesh3d"
           }
          ],
          "parcoords": [
           {
            "line": {
             "colorbar": {
              "outlinewidth": 0,
              "ticks": ""
             }
            },
            "type": "parcoords"
           }
          ],
          "pie": [
           {
            "automargin": true,
            "type": "pie"
           }
          ],
          "scatter": [
           {
            "marker": {
             "colorbar": {
              "outlinewidth": 0,
              "ticks": ""
             }
            },
            "type": "scatter"
           }
          ],
          "scatter3d": [
           {
            "line": {
             "colorbar": {
              "outlinewidth": 0,
              "ticks": ""
             }
            },
            "marker": {
             "colorbar": {
              "outlinewidth": 0,
              "ticks": ""
             }
            },
            "type": "scatter3d"
           }
          ],
          "scattercarpet": [
           {
            "marker": {
             "colorbar": {
              "outlinewidth": 0,
              "ticks": ""
             }
            },
            "type": "scattercarpet"
           }
          ],
          "scattergeo": [
           {
            "marker": {
             "colorbar": {
              "outlinewidth": 0,
              "ticks": ""
             }
            },
            "type": "scattergeo"
           }
          ],
          "scattergl": [
           {
            "marker": {
             "colorbar": {
              "outlinewidth": 0,
              "ticks": ""
             }
            },
            "type": "scattergl"
           }
          ],
          "scattermapbox": [
           {
            "marker": {
             "colorbar": {
              "outlinewidth": 0,
              "ticks": ""
             }
            },
            "type": "scattermapbox"
           }
          ],
          "scatterpolar": [
           {
            "marker": {
             "colorbar": {
              "outlinewidth": 0,
              "ticks": ""
             }
            },
            "type": "scatterpolar"
           }
          ],
          "scatterpolargl": [
           {
            "marker": {
             "colorbar": {
              "outlinewidth": 0,
              "ticks": ""
             }
            },
            "type": "scatterpolargl"
           }
          ],
          "scatterternary": [
           {
            "marker": {
             "colorbar": {
              "outlinewidth": 0,
              "ticks": ""
             }
            },
            "type": "scatterternary"
           }
          ],
          "surface": [
           {
            "colorbar": {
             "outlinewidth": 0,
             "ticks": ""
            },
            "colorscale": [
             [
              0,
              "#0d0887"
             ],
             [
              0.1111111111111111,
              "#46039f"
             ],
             [
              0.2222222222222222,
              "#7201a8"
             ],
             [
              0.3333333333333333,
              "#9c179e"
             ],
             [
              0.4444444444444444,
              "#bd3786"
             ],
             [
              0.5555555555555556,
              "#d8576b"
             ],
             [
              0.6666666666666666,
              "#ed7953"
             ],
             [
              0.7777777777777778,
              "#fb9f3a"
             ],
             [
              0.8888888888888888,
              "#fdca26"
             ],
             [
              1,
              "#f0f921"
             ]
            ],
            "type": "surface"
           }
          ],
          "table": [
           {
            "cells": {
             "fill": {
              "color": "#EBF0F8"
             },
             "line": {
              "color": "white"
             }
            },
            "header": {
             "fill": {
              "color": "#C8D4E3"
             },
             "line": {
              "color": "white"
             }
            },
            "type": "table"
           }
          ]
         },
         "layout": {
          "annotationdefaults": {
           "arrowcolor": "#2a3f5f",
           "arrowhead": 0,
           "arrowwidth": 1
          },
          "autotypenumbers": "strict",
          "coloraxis": {
           "colorbar": {
            "outlinewidth": 0,
            "ticks": ""
           }
          },
          "colorscale": {
           "diverging": [
            [
             0,
             "#8e0152"
            ],
            [
             0.1,
             "#c51b7d"
            ],
            [
             0.2,
             "#de77ae"
            ],
            [
             0.3,
             "#f1b6da"
            ],
            [
             0.4,
             "#fde0ef"
            ],
            [
             0.5,
             "#f7f7f7"
            ],
            [
             0.6,
             "#e6f5d0"
            ],
            [
             0.7,
             "#b8e186"
            ],
            [
             0.8,
             "#7fbc41"
            ],
            [
             0.9,
             "#4d9221"
            ],
            [
             1,
             "#276419"
            ]
           ],
           "sequential": [
            [
             0,
             "#0d0887"
            ],
            [
             0.1111111111111111,
             "#46039f"
            ],
            [
             0.2222222222222222,
             "#7201a8"
            ],
            [
             0.3333333333333333,
             "#9c179e"
            ],
            [
             0.4444444444444444,
             "#bd3786"
            ],
            [
             0.5555555555555556,
             "#d8576b"
            ],
            [
             0.6666666666666666,
             "#ed7953"
            ],
            [
             0.7777777777777778,
             "#fb9f3a"
            ],
            [
             0.8888888888888888,
             "#fdca26"
            ],
            [
             1,
             "#f0f921"
            ]
           ],
           "sequentialminus": [
            [
             0,
             "#0d0887"
            ],
            [
             0.1111111111111111,
             "#46039f"
            ],
            [
             0.2222222222222222,
             "#7201a8"
            ],
            [
             0.3333333333333333,
             "#9c179e"
            ],
            [
             0.4444444444444444,
             "#bd3786"
            ],
            [
             0.5555555555555556,
             "#d8576b"
            ],
            [
             0.6666666666666666,
             "#ed7953"
            ],
            [
             0.7777777777777778,
             "#fb9f3a"
            ],
            [
             0.8888888888888888,
             "#fdca26"
            ],
            [
             1,
             "#f0f921"
            ]
           ]
          },
          "colorway": [
           "#636efa",
           "#EF553B",
           "#00cc96",
           "#ab63fa",
           "#FFA15A",
           "#19d3f3",
           "#FF6692",
           "#B6E880",
           "#FF97FF",
           "#FECB52"
          ],
          "font": {
           "color": "#2a3f5f"
          },
          "geo": {
           "bgcolor": "white",
           "lakecolor": "white",
           "landcolor": "#E5ECF6",
           "showlakes": true,
           "showland": true,
           "subunitcolor": "white"
          },
          "hoverlabel": {
           "align": "left"
          },
          "hovermode": "closest",
          "mapbox": {
           "style": "light"
          },
          "paper_bgcolor": "white",
          "plot_bgcolor": "#E5ECF6",
          "polar": {
           "angularaxis": {
            "gridcolor": "white",
            "linecolor": "white",
            "ticks": ""
           },
           "bgcolor": "#E5ECF6",
           "radialaxis": {
            "gridcolor": "white",
            "linecolor": "white",
            "ticks": ""
           }
          },
          "scene": {
           "xaxis": {
            "backgroundcolor": "#E5ECF6",
            "gridcolor": "white",
            "gridwidth": 2,
            "linecolor": "white",
            "showbackground": true,
            "ticks": "",
            "zerolinecolor": "white"
           },
           "yaxis": {
            "backgroundcolor": "#E5ECF6",
            "gridcolor": "white",
            "gridwidth": 2,
            "linecolor": "white",
            "showbackground": true,
            "ticks": "",
            "zerolinecolor": "white"
           },
           "zaxis": {
            "backgroundcolor": "#E5ECF6",
            "gridcolor": "white",
            "gridwidth": 2,
            "linecolor": "white",
            "showbackground": true,
            "ticks": "",
            "zerolinecolor": "white"
           }
          },
          "shapedefaults": {
           "line": {
            "color": "#2a3f5f"
           }
          },
          "ternary": {
           "aaxis": {
            "gridcolor": "white",
            "linecolor": "white",
            "ticks": ""
           },
           "baxis": {
            "gridcolor": "white",
            "linecolor": "white",
            "ticks": ""
           },
           "bgcolor": "#E5ECF6",
           "caxis": {
            "gridcolor": "white",
            "linecolor": "white",
            "ticks": ""
           }
          },
          "title": {
           "x": 0.05
          },
          "xaxis": {
           "automargin": true,
           "gridcolor": "white",
           "linecolor": "white",
           "ticks": "",
           "title": {
            "standoff": 15
           },
           "zerolinecolor": "white",
           "zerolinewidth": 2
          },
          "yaxis": {
           "automargin": true,
           "gridcolor": "white",
           "linecolor": "white",
           "ticks": "",
           "title": {
            "standoff": 15
           },
           "zerolinecolor": "white",
           "zerolinewidth": 2
          }
         }
        },
        "title": {
         "font": {
          "color": "#4D5663"
         }
        },
        "xaxis": {
         "gridcolor": "#E1E5ED",
         "showgrid": true,
         "tickfont": {
          "color": "#4D5663"
         },
         "title": {
          "font": {
           "color": "#4D5663"
          },
          "text": ""
         },
         "zerolinecolor": "#E1E5ED"
        },
        "yaxis": {
         "gridcolor": "#E1E5ED",
         "showgrid": true,
         "tickfont": {
          "color": "#4D5663"
         },
         "title": {
          "font": {
           "color": "#4D5663"
          },
          "text": ""
         },
         "zerolinecolor": "#E1E5ED"
        }
       }
      },
      "text/html": [
       "<div>                            <div id=\"e2ccf850-fead-429f-a205-80faeb0aa787\" class=\"plotly-graph-div\" style=\"height:525px; width:100%;\"></div>            <script type=\"text/javascript\">                require([\"plotly\"], function(Plotly) {                    window.PLOTLYENV=window.PLOTLYENV || {};\n",
       "                    window.PLOTLYENV.BASE_URL='https://plot.ly';                                    if (document.getElementById(\"e2ccf850-fead-429f-a205-80faeb0aa787\")) {                    Plotly.newPlot(                        \"e2ccf850-fead-429f-a205-80faeb0aa787\",                        [{\"marker\": {\"color\": \"rgba(255, 153, 51, 0.6)\", \"line\": {\"color\": \"rgba(255, 153, 51, 1.0)\", \"width\": 1}}, \"name\": \"None\", \"orientation\": \"v\", \"text\": \"\", \"type\": \"bar\", \"x\": [\"A\", \"B\", \"C\", \"D\"], \"y\": [100, 100, 100, 100]}],                        {\"legend\": {\"bgcolor\": \"#F5F6F9\", \"font\": {\"color\": \"#4D5663\"}}, \"paper_bgcolor\": \"#F5F6F9\", \"plot_bgcolor\": \"#F5F6F9\", \"template\": {\"data\": {\"bar\": [{\"error_x\": {\"color\": \"#2a3f5f\"}, \"error_y\": {\"color\": \"#2a3f5f\"}, \"marker\": {\"line\": {\"color\": \"#E5ECF6\", \"width\": 0.5}}, \"type\": \"bar\"}], \"barpolar\": [{\"marker\": {\"line\": {\"color\": \"#E5ECF6\", \"width\": 0.5}}, \"type\": \"barpolar\"}], \"carpet\": [{\"aaxis\": {\"endlinecolor\": \"#2a3f5f\", \"gridcolor\": \"white\", \"linecolor\": \"white\", \"minorgridcolor\": \"white\", \"startlinecolor\": \"#2a3f5f\"}, \"baxis\": {\"endlinecolor\": \"#2a3f5f\", \"gridcolor\": \"white\", \"linecolor\": \"white\", \"minorgridcolor\": \"white\", \"startlinecolor\": \"#2a3f5f\"}, \"type\": \"carpet\"}], \"choropleth\": [{\"colorbar\": {\"outlinewidth\": 0, \"ticks\": \"\"}, \"type\": \"choropleth\"}], \"contour\": [{\"colorbar\": {\"outlinewidth\": 0, \"ticks\": \"\"}, \"colorscale\": [[0.0, \"#0d0887\"], [0.1111111111111111, \"#46039f\"], [0.2222222222222222, \"#7201a8\"], [0.3333333333333333, \"#9c179e\"], [0.4444444444444444, \"#bd3786\"], [0.5555555555555556, \"#d8576b\"], [0.6666666666666666, \"#ed7953\"], [0.7777777777777778, \"#fb9f3a\"], [0.8888888888888888, \"#fdca26\"], [1.0, \"#f0f921\"]], \"type\": \"contour\"}], \"contourcarpet\": [{\"colorbar\": {\"outlinewidth\": 0, \"ticks\": \"\"}, \"type\": \"contourcarpet\"}], \"heatmap\": [{\"colorbar\": {\"outlinewidth\": 0, \"ticks\": \"\"}, \"colorscale\": [[0.0, \"#0d0887\"], [0.1111111111111111, \"#46039f\"], [0.2222222222222222, \"#7201a8\"], [0.3333333333333333, \"#9c179e\"], [0.4444444444444444, \"#bd3786\"], [0.5555555555555556, \"#d8576b\"], [0.6666666666666666, \"#ed7953\"], [0.7777777777777778, \"#fb9f3a\"], [0.8888888888888888, \"#fdca26\"], [1.0, \"#f0f921\"]], \"type\": \"heatmap\"}], \"heatmapgl\": [{\"colorbar\": {\"outlinewidth\": 0, \"ticks\": \"\"}, \"colorscale\": [[0.0, \"#0d0887\"], [0.1111111111111111, \"#46039f\"], [0.2222222222222222, \"#7201a8\"], [0.3333333333333333, \"#9c179e\"], [0.4444444444444444, \"#bd3786\"], [0.5555555555555556, \"#d8576b\"], [0.6666666666666666, \"#ed7953\"], [0.7777777777777778, \"#fb9f3a\"], [0.8888888888888888, \"#fdca26\"], [1.0, \"#f0f921\"]], \"type\": \"heatmapgl\"}], \"histogram\": [{\"marker\": {\"colorbar\": {\"outlinewidth\": 0, \"ticks\": \"\"}}, \"type\": \"histogram\"}], \"histogram2d\": [{\"colorbar\": {\"outlinewidth\": 0, \"ticks\": \"\"}, \"colorscale\": [[0.0, \"#0d0887\"], [0.1111111111111111, \"#46039f\"], [0.2222222222222222, \"#7201a8\"], [0.3333333333333333, \"#9c179e\"], [0.4444444444444444, \"#bd3786\"], [0.5555555555555556, \"#d8576b\"], [0.6666666666666666, \"#ed7953\"], [0.7777777777777778, \"#fb9f3a\"], [0.8888888888888888, \"#fdca26\"], [1.0, \"#f0f921\"]], \"type\": \"histogram2d\"}], \"histogram2dcontour\": [{\"colorbar\": {\"outlinewidth\": 0, \"ticks\": \"\"}, \"colorscale\": [[0.0, \"#0d0887\"], [0.1111111111111111, \"#46039f\"], [0.2222222222222222, \"#7201a8\"], [0.3333333333333333, \"#9c179e\"], [0.4444444444444444, \"#bd3786\"], [0.5555555555555556, \"#d8576b\"], [0.6666666666666666, \"#ed7953\"], [0.7777777777777778, \"#fb9f3a\"], [0.8888888888888888, \"#fdca26\"], [1.0, \"#f0f921\"]], \"type\": \"histogram2dcontour\"}], \"mesh3d\": [{\"colorbar\": {\"outlinewidth\": 0, \"ticks\": \"\"}, \"type\": \"mesh3d\"}], \"parcoords\": [{\"line\": {\"colorbar\": {\"outlinewidth\": 0, \"ticks\": \"\"}}, \"type\": \"parcoords\"}], \"pie\": [{\"automargin\": true, \"type\": \"pie\"}], \"scatter\": [{\"marker\": {\"colorbar\": {\"outlinewidth\": 0, \"ticks\": \"\"}}, \"type\": \"scatter\"}], \"scatter3d\": [{\"line\": {\"colorbar\": {\"outlinewidth\": 0, \"ticks\": \"\"}}, \"marker\": {\"colorbar\": {\"outlinewidth\": 0, \"ticks\": \"\"}}, \"type\": \"scatter3d\"}], \"scattercarpet\": [{\"marker\": {\"colorbar\": {\"outlinewidth\": 0, \"ticks\": \"\"}}, \"type\": \"scattercarpet\"}], \"scattergeo\": [{\"marker\": {\"colorbar\": {\"outlinewidth\": 0, \"ticks\": \"\"}}, \"type\": \"scattergeo\"}], \"scattergl\": [{\"marker\": {\"colorbar\": {\"outlinewidth\": 0, \"ticks\": \"\"}}, \"type\": \"scattergl\"}], \"scattermapbox\": [{\"marker\": {\"colorbar\": {\"outlinewidth\": 0, \"ticks\": \"\"}}, \"type\": \"scattermapbox\"}], \"scatterpolar\": [{\"marker\": {\"colorbar\": {\"outlinewidth\": 0, \"ticks\": \"\"}}, \"type\": \"scatterpolar\"}], \"scatterpolargl\": [{\"marker\": {\"colorbar\": {\"outlinewidth\": 0, \"ticks\": \"\"}}, \"type\": \"scatterpolargl\"}], \"scatterternary\": [{\"marker\": {\"colorbar\": {\"outlinewidth\": 0, \"ticks\": \"\"}}, \"type\": \"scatterternary\"}], \"surface\": [{\"colorbar\": {\"outlinewidth\": 0, \"ticks\": \"\"}, \"colorscale\": [[0.0, \"#0d0887\"], [0.1111111111111111, \"#46039f\"], [0.2222222222222222, \"#7201a8\"], [0.3333333333333333, \"#9c179e\"], [0.4444444444444444, \"#bd3786\"], [0.5555555555555556, \"#d8576b\"], [0.6666666666666666, \"#ed7953\"], [0.7777777777777778, \"#fb9f3a\"], [0.8888888888888888, \"#fdca26\"], [1.0, \"#f0f921\"]], \"type\": \"surface\"}], \"table\": [{\"cells\": {\"fill\": {\"color\": \"#EBF0F8\"}, \"line\": {\"color\": \"white\"}}, \"header\": {\"fill\": {\"color\": \"#C8D4E3\"}, \"line\": {\"color\": \"white\"}}, \"type\": \"table\"}]}, \"layout\": {\"annotationdefaults\": {\"arrowcolor\": \"#2a3f5f\", \"arrowhead\": 0, \"arrowwidth\": 1}, \"autotypenumbers\": \"strict\", \"coloraxis\": {\"colorbar\": {\"outlinewidth\": 0, \"ticks\": \"\"}}, \"colorscale\": {\"diverging\": [[0, \"#8e0152\"], [0.1, \"#c51b7d\"], [0.2, \"#de77ae\"], [0.3, \"#f1b6da\"], [0.4, \"#fde0ef\"], [0.5, \"#f7f7f7\"], [0.6, \"#e6f5d0\"], [0.7, \"#b8e186\"], [0.8, \"#7fbc41\"], [0.9, \"#4d9221\"], [1, \"#276419\"]], \"sequential\": [[0.0, \"#0d0887\"], [0.1111111111111111, \"#46039f\"], [0.2222222222222222, \"#7201a8\"], [0.3333333333333333, \"#9c179e\"], [0.4444444444444444, \"#bd3786\"], [0.5555555555555556, \"#d8576b\"], [0.6666666666666666, \"#ed7953\"], [0.7777777777777778, \"#fb9f3a\"], [0.8888888888888888, \"#fdca26\"], [1.0, \"#f0f921\"]], \"sequentialminus\": [[0.0, \"#0d0887\"], [0.1111111111111111, \"#46039f\"], [0.2222222222222222, \"#7201a8\"], [0.3333333333333333, \"#9c179e\"], [0.4444444444444444, \"#bd3786\"], [0.5555555555555556, \"#d8576b\"], [0.6666666666666666, \"#ed7953\"], [0.7777777777777778, \"#fb9f3a\"], [0.8888888888888888, \"#fdca26\"], [1.0, \"#f0f921\"]]}, \"colorway\": [\"#636efa\", \"#EF553B\", \"#00cc96\", \"#ab63fa\", \"#FFA15A\", \"#19d3f3\", \"#FF6692\", \"#B6E880\", \"#FF97FF\", \"#FECB52\"], \"font\": {\"color\": \"#2a3f5f\"}, \"geo\": {\"bgcolor\": \"white\", \"lakecolor\": \"white\", \"landcolor\": \"#E5ECF6\", \"showlakes\": true, \"showland\": true, \"subunitcolor\": \"white\"}, \"hoverlabel\": {\"align\": \"left\"}, \"hovermode\": \"closest\", \"mapbox\": {\"style\": \"light\"}, \"paper_bgcolor\": \"white\", \"plot_bgcolor\": \"#E5ECF6\", \"polar\": {\"angularaxis\": {\"gridcolor\": \"white\", \"linecolor\": \"white\", \"ticks\": \"\"}, \"bgcolor\": \"#E5ECF6\", \"radialaxis\": {\"gridcolor\": \"white\", \"linecolor\": \"white\", \"ticks\": \"\"}}, \"scene\": {\"xaxis\": {\"backgroundcolor\": \"#E5ECF6\", \"gridcolor\": \"white\", \"gridwidth\": 2, \"linecolor\": \"white\", \"showbackground\": true, \"ticks\": \"\", \"zerolinecolor\": \"white\"}, \"yaxis\": {\"backgroundcolor\": \"#E5ECF6\", \"gridcolor\": \"white\", \"gridwidth\": 2, \"linecolor\": \"white\", \"showbackground\": true, \"ticks\": \"\", \"zerolinecolor\": \"white\"}, \"zaxis\": {\"backgroundcolor\": \"#E5ECF6\", \"gridcolor\": \"white\", \"gridwidth\": 2, \"linecolor\": \"white\", \"showbackground\": true, \"ticks\": \"\", \"zerolinecolor\": \"white\"}}, \"shapedefaults\": {\"line\": {\"color\": \"#2a3f5f\"}}, \"ternary\": {\"aaxis\": {\"gridcolor\": \"white\", \"linecolor\": \"white\", \"ticks\": \"\"}, \"baxis\": {\"gridcolor\": \"white\", \"linecolor\": \"white\", \"ticks\": \"\"}, \"bgcolor\": \"#E5ECF6\", \"caxis\": {\"gridcolor\": \"white\", \"linecolor\": \"white\", \"ticks\": \"\"}}, \"title\": {\"x\": 0.05}, \"xaxis\": {\"automargin\": true, \"gridcolor\": \"white\", \"linecolor\": \"white\", \"ticks\": \"\", \"title\": {\"standoff\": 15}, \"zerolinecolor\": \"white\", \"zerolinewidth\": 2}, \"yaxis\": {\"automargin\": true, \"gridcolor\": \"white\", \"linecolor\": \"white\", \"ticks\": \"\", \"title\": {\"standoff\": 15}, \"zerolinecolor\": \"white\", \"zerolinewidth\": 2}}}, \"title\": {\"font\": {\"color\": \"#4D5663\"}}, \"xaxis\": {\"gridcolor\": \"#E1E5ED\", \"showgrid\": true, \"tickfont\": {\"color\": \"#4D5663\"}, \"title\": {\"font\": {\"color\": \"#4D5663\"}, \"text\": \"\"}, \"zerolinecolor\": \"#E1E5ED\"}, \"yaxis\": {\"gridcolor\": \"#E1E5ED\", \"showgrid\": true, \"tickfont\": {\"color\": \"#4D5663\"}, \"title\": {\"font\": {\"color\": \"#4D5663\"}, \"text\": \"\"}, \"zerolinecolor\": \"#E1E5ED\"}},                        {\"showLink\": true, \"linkText\": \"Export to plot.ly\", \"plotlyServerURL\": \"https://plot.ly\", \"responsive\": true}                    ).then(function(){\n",
       "                            \n",
       "var gd = document.getElementById('e2ccf850-fead-429f-a205-80faeb0aa787');\n",
       "var x = new MutationObserver(function (mutations, observer) {{\n",
       "        var display = window.getComputedStyle(gd).display;\n",
       "        if (!display || display === 'none') {{\n",
       "            console.log([gd, 'removed!']);\n",
       "            Plotly.purge(gd);\n",
       "            observer.disconnect();\n",
       "        }}\n",
       "}});\n",
       "\n",
       "// Listen for the removal of the full notebook cells\n",
       "var notebookContainer = gd.closest('#notebook-container');\n",
       "if (notebookContainer) {{\n",
       "    x.observe(notebookContainer, {childList: true});\n",
       "}}\n",
       "\n",
       "// Listen for the clearing of the current output cell\n",
       "var outputEl = gd.closest('.output');\n",
       "if (outputEl) {{\n",
       "    x.observe(outputEl, {childList: true});\n",
       "}}\n",
       "\n",
       "                        })                };                });            </script>        </div>"
      ]
     },
     "metadata": {},
     "output_type": "display_data"
    }
   ],
   "source": [
    "df.count().iplot(kind='bar')"
   ]
  },
  {
   "cell_type": "markdown",
   "metadata": {},
   "source": [
    "## Boxplots"
   ]
  },
  {
   "cell_type": "code",
   "execution_count": 37,
   "metadata": {},
   "outputs": [
    {
     "data": {
      "application/vnd.plotly.v1+json": {
       "config": {
        "linkText": "Export to plot.ly",
        "plotlyServerURL": "https://plot.ly",
        "showLink": true
       },
       "data": [
        {
         "boxpoints": false,
         "line": {
          "width": 1.3
         },
         "marker": {
          "color": "rgba(255, 153, 51, 1.0)"
         },
         "name": "A",
         "orientation": "v",
         "type": "box",
         "y": [
          0.5559244215996016,
          0.16531247499681323,
          -0.8101100169139632,
          -1.3974320065743162,
          1.6136174804983556,
          -0.3211925649236798,
          -0.3708134451358885,
          0.7768683958236318,
          0.9185436802928186,
          1.2762372604361978,
          0.4127563834151255,
          -0.9193064276735416,
          -1.5395019336205855,
          -0.5305376223271864,
          -0.9903403728567307,
          0.14647506819357678,
          -0.1763519726139724,
          0.36008109401573163,
          -0.3176404768055409,
          -0.19412325558431157,
          -0.0904221223832305,
          -0.5945023504586406,
          -0.03895869264617371,
          0.5901436910604915,
          -0.7996642304747691,
          1.0301076261885471,
          0.9621354965051399,
          0.30578234381497704,
          -0.724902498511663,
          -0.21758223505728244,
          0.32225672399278027,
          0.16816746481521705,
          -0.3052736668837778,
          -0.3751381721108554,
          0.827811394916156,
          -1.1823153331521996,
          0.05309296545930296,
          0.7949550338463784,
          0.009844956835440979,
          -0.421073670238091,
          -0.9065419444857088,
          0.5772849324123647,
          -2.0877670198322047,
          1.3868161621120656,
          -0.702588197611849,
          0.162538412371124,
          -0.003047648967196274,
          0.18507428698394549,
          -0.2390219605970498,
          0.07847295052663021,
          -0.246121472387244,
          0.7798289383401936,
          1.4968068545020095,
          -0.7877805920356816,
          -1.126634990257943,
          0.11719360333798196,
          -1.5602947784857861,
          1.298860409475295,
          -1.8056312905844059,
          1.1832197109271312,
          1.4331767165642602,
          -0.2911593460243957,
          0.1574901335703895,
          0.06854985942307727,
          1.4231140740707144,
          -2.04463937159396,
          -1.8251943251991503,
          0.14962534578078765,
          0.0813071065438157,
          -1.0863368122861674,
          0.9565864600231273,
          0.6642827660389123,
          -1.4831517966951513,
          -0.39828961293614407,
          0.22927634606915795,
          0.22238917753957502,
          0.7686846529091509,
          1.47119939628487,
          -1.556400814871271,
          -2.735284320598148,
          0.07069490963218183,
          0.23495848143046277,
          1.9148595400160937,
          0.6174926889282726,
          -1.4203144589579582,
          1.1619629955318764,
          -0.5601347720040485,
          -0.6703767522970148,
          0.17875077451214946,
          0.08181724511550104,
          -0.3519235217399932,
          1.3203913019856222,
          1.8460431102673394,
          -0.14262827208374368,
          0.6250080835386731,
          1.9614289138545555,
          0.4434327783663857,
          1.6393596269936033,
          1.530107027081265,
          1.6215780684288195
         ]
        },
        {
         "boxpoints": false,
         "line": {
          "width": 1.3
         },
         "marker": {
          "color": "rgba(55, 128, 191, 1.0)"
         },
         "name": "B",
         "orientation": "v",
         "type": "box",
         "y": [
          0.22903146892060294,
          -1.0438839554806172,
          -0.4399526952827415,
          -0.4633382480861902,
          -1.5654877913797267,
          1.2377698503523018,
          -0.007528301571093346,
          -0.7821574542974872,
          0.1932979535681084,
          0.16383400694923386,
          -0.10457958055017953,
          -0.5483224720829957,
          0.3901467033850892,
          0.8733391491473266,
          -1.8148002875494058,
          -0.0759623941349184,
          -1.5726465344150269,
          -0.6082787903749993,
          0.3214224546316616,
          0.4511156558335474,
          -0.2819159475893012,
          -0.03168586915965763,
          0.4153575859846248,
          -0.8519307093778403,
          -0.18818870118555994,
          -1.4230368693782596,
          -1.1061437380428527,
          -0.4788898790879405,
          -0.30961021649646114,
          0.826955287725046,
          1.2056289154607636,
          -0.70084903580063,
          0.8209283555060617,
          -0.5298851830413455,
          0.1451874152781941,
          -1.5865763699281297,
          1.6520160207008723,
          -0.6106005545270637,
          -0.4657338792251926,
          -1.613208567945061,
          -0.3358265022436321,
          -0.19539723810652976,
          -0.10857198778945001,
          -0.5686738836571239,
          0.026700284464226395,
          0.060562223568401255,
          -1.322550194123688,
          -1.1478889418544014,
          -0.6747492167943674,
          1.4978851912884552,
          -0.8144161797427335,
          -0.6614153305732594,
          -1.9119357727283888,
          -1.164014883430049,
          0.5595234352487303,
          0.108328681661955,
          -0.9706109249546176,
          0.47099451136202414,
          0.9089019866312754,
          -0.4955207283130792,
          -1.125571044511677,
          -1.259705874458263,
          0.9499971437675632,
          -1.0807709308166202,
          0.3365070500166459,
          1.2321842350594938,
          -1.4903302832650034,
          0.3514723761902005,
          0.08623718249227429,
          -0.20931093736104614,
          -0.9741715973174373,
          -0.5308998848264274,
          -2.410083026327852,
          -0.1899938700628958,
          1.7683431358180248,
          -0.47597742609579835,
          -0.0013692778474197807,
          -3.381411728787464,
          0.2096704289056021,
          0.017403841169861784,
          0.40583638946018025,
          -0.6750001314794015,
          0.15150861459613177,
          0.17204801196444056,
          1.2690154822774866,
          -2.289782485465693,
          -0.12230747952833376,
          -1.2401555231539811,
          0.6775438389699542,
          0.748663635094293,
          -1.0291210942321232,
          0.11491042839811323,
          0.6149875024612116,
          -0.6752388716699234,
          -1.0210089048464344,
          -1.306395759730055,
          -0.8897696845214655,
          1.9783178499112062,
          0.7937356305287727,
          -0.30826255509155437
         ]
        },
        {
         "boxpoints": false,
         "line": {
          "width": 1.3
         },
         "marker": {
          "color": "rgba(50, 171, 96, 1.0)"
         },
         "name": "C",
         "orientation": "v",
         "type": "box",
         "y": [
          0.4629650831240414,
          1.2432135481517856,
          0.8099501451062239,
          0.1382476099400311,
          -0.5154026319412417,
          0.01871441788108343,
          -0.011318421257373985,
          0.8997367977141505,
          0.19798817852148798,
          1.227914769137976,
          1.7379485580258134,
          0.42892217420970613,
          0.20340147554498844,
          0.24971057903503524,
          0.06972433460899556,
          1.189275642338663,
          -0.11289626706206705,
          0.5600001985476502,
          2.159603991817565,
          0.685760780652771,
          -0.13250937465100862,
          -1.0005898298079836,
          -0.5455463179941619,
          -0.6634397282942427,
          -1.172793974038636,
          -0.6146863592524869,
          1.2545117087633786,
          1.810225976194417,
          -1.6180670620973294,
          0.8020135407322048,
          -0.8890970478686254,
          0.06499422027038193,
          0.6670990117028622,
          1.7356490282523986,
          0.796747636969668,
          -2.426433187651039,
          -0.656971298519989,
          -0.8018771380965526,
          0.3501239459155337,
          0.5104044537718762,
          -1.0626969165902538,
          0.27587906239094884,
          0.461427426694262,
          0.8642141071263638,
          -1.1368633104424197,
          0.23571352299260587,
          -1.41147913150561,
          0.18487560219439148,
          0.2942054281917523,
          -1.000566948724494,
          -0.015567094312226748,
          1.908929042016413,
          0.1425737823223032,
          0.19401535413460727,
          0.4442046417314635,
          0.00027377006526494086,
          -0.4755280280667671,
          -0.753897728358789,
          0.3659206700685624,
          -0.5330363161499501,
          0.6382566330246041,
          -0.456307183670805,
          0.7546581512841992,
          0.1482526872460123,
          -1.7531740846115724,
          1.4595558264664916,
          -0.8787601291928155,
          -0.21027015241269978,
          -1.1150046643876077,
          0.3863476148840286,
          -0.942987481816664,
          -0.34967426195611645,
          -0.3364368063222968,
          0.8356096134435225,
          -0.27623845964780536,
          -0.6396679427505394,
          -0.0783000050386576,
          1.2773351946961333,
          1.5080473538185435,
          -2.208762143527387,
          -0.05426234264447516,
          -1.6212717242738082,
          -1.226652303134024,
          0.05891595576367844,
          -0.05054948629707698,
          1.9624210131288033,
          -2.120294151184495,
          0.7015974550860965,
          0.6995976037822227,
          0.515724084571619,
          -2.0381566520932117,
          0.41526417456896164,
          -0.8962651149784191,
          0.41889656387466795,
          0.010619121916224918,
          -1.1723343112708058,
          0.641977470437457,
          0.7040460415157107,
          0.8865903399240732,
          1.1036104791548647
         ]
        },
        {
         "boxpoints": false,
         "line": {
          "width": 1.3
         },
         "marker": {
          "color": "rgba(128, 0, 128, 1.0)"
         },
         "name": "D",
         "orientation": "v",
         "type": "box",
         "y": [
          0.9566340233601011,
          0.9752272371596018,
          0.25471208094517367,
          -1.0158218101622745,
          -0.7924648542306763,
          0.7775073536253685,
          1.2574604453562042,
          -0.20964870966875607,
          -0.5223766524406891,
          0.2259491847170473,
          0.8248538895184206,
          0.016758077526463154,
          0.10902216804538557,
          0.6085067436935758,
          1.6450800144915723,
          0.8931981539250716,
          -0.707115356082297,
          1.4335819766153604,
          -0.07759183971276323,
          0.33856225002590273,
          0.42494473618377954,
          -0.17429113846586008,
          1.2830742049278938,
          0.04828345934486168,
          -1.926854629040082,
          -0.7407755453742538,
          0.7450775444959586,
          -0.1026061368346683,
          -0.6484475929036851,
          0.06855889332908584,
          1.0370374221687333,
          0.1903577292058355,
          -1.511700688298228,
          1.0838177472206347,
          0.3744087968016041,
          -1.1581106007843722,
          -0.10453278472917485,
          1.8510861077664962,
          -0.4791729085079475,
          -0.5198683639209097,
          -0.7108458765342246,
          -0.0950606313776447,
          -0.0074793868710777865,
          1.0488371002415722,
          -0.6548033323991714,
          1.5415408526071412,
          0.3297099786353898,
          1.5826209575514578,
          -0.08170373012353173,
          -0.2835283525681258,
          0.050642186363222576,
          -0.25565790851061854,
          -0.7436769775209057,
          -0.09523811959144006,
          0.7969184138199794,
          0.7470827570769997,
          0.643725350756142,
          -0.7096267509235492,
          -0.15009894781844454,
          -0.5256163440059519,
          0.27285854740684506,
          0.009462526147125042,
          1.142522392174448,
          0.4470300709007983,
          0.9967991099106255,
          1.9529853143703666,
          -0.44701697188847445,
          -0.19647652959445977,
          -0.1407605351294186,
          -1.5675485404685603,
          -0.49721091509735466,
          -1.7258348142557858,
          0.14462048078221715,
          -0.5063664861687264,
          -0.3754047448975229,
          0.04381885963561633,
          0.6718516491664974,
          -1.5852399213846535,
          0.1393045043335795,
          0.3531536136556921,
          -1.1029780003070717,
          0.7401808660652972,
          -1.59837780916017,
          -1.1697883199556967,
          1.2480958704889384,
          0.2580986750086237,
          -0.25369440869036197,
          -1.413927021948406,
          0.334800615143296,
          2.3825514581378022,
          0.08092257910546233,
          -0.32631159055221765,
          -1.6778982215163736,
          -1.246575379630572,
          0.5421789496873197,
          -0.7136285780807672,
          -0.41477094917710483,
          -1.204218540974015,
          1.2002265721424572,
          0.16760124103241722
         ]
        }
       ],
       "layout": {
        "legend": {
         "bgcolor": "#F5F6F9",
         "font": {
          "color": "#4D5663"
         }
        },
        "paper_bgcolor": "#F5F6F9",
        "plot_bgcolor": "#F5F6F9",
        "template": {
         "data": {
          "bar": [
           {
            "error_x": {
             "color": "#2a3f5f"
            },
            "error_y": {
             "color": "#2a3f5f"
            },
            "marker": {
             "line": {
              "color": "#E5ECF6",
              "width": 0.5
             }
            },
            "type": "bar"
           }
          ],
          "barpolar": [
           {
            "marker": {
             "line": {
              "color": "#E5ECF6",
              "width": 0.5
             }
            },
            "type": "barpolar"
           }
          ],
          "carpet": [
           {
            "aaxis": {
             "endlinecolor": "#2a3f5f",
             "gridcolor": "white",
             "linecolor": "white",
             "minorgridcolor": "white",
             "startlinecolor": "#2a3f5f"
            },
            "baxis": {
             "endlinecolor": "#2a3f5f",
             "gridcolor": "white",
             "linecolor": "white",
             "minorgridcolor": "white",
             "startlinecolor": "#2a3f5f"
            },
            "type": "carpet"
           }
          ],
          "choropleth": [
           {
            "colorbar": {
             "outlinewidth": 0,
             "ticks": ""
            },
            "type": "choropleth"
           }
          ],
          "contour": [
           {
            "colorbar": {
             "outlinewidth": 0,
             "ticks": ""
            },
            "colorscale": [
             [
              0,
              "#0d0887"
             ],
             [
              0.1111111111111111,
              "#46039f"
             ],
             [
              0.2222222222222222,
              "#7201a8"
             ],
             [
              0.3333333333333333,
              "#9c179e"
             ],
             [
              0.4444444444444444,
              "#bd3786"
             ],
             [
              0.5555555555555556,
              "#d8576b"
             ],
             [
              0.6666666666666666,
              "#ed7953"
             ],
             [
              0.7777777777777778,
              "#fb9f3a"
             ],
             [
              0.8888888888888888,
              "#fdca26"
             ],
             [
              1,
              "#f0f921"
             ]
            ],
            "type": "contour"
           }
          ],
          "contourcarpet": [
           {
            "colorbar": {
             "outlinewidth": 0,
             "ticks": ""
            },
            "type": "contourcarpet"
           }
          ],
          "heatmap": [
           {
            "colorbar": {
             "outlinewidth": 0,
             "ticks": ""
            },
            "colorscale": [
             [
              0,
              "#0d0887"
             ],
             [
              0.1111111111111111,
              "#46039f"
             ],
             [
              0.2222222222222222,
              "#7201a8"
             ],
             [
              0.3333333333333333,
              "#9c179e"
             ],
             [
              0.4444444444444444,
              "#bd3786"
             ],
             [
              0.5555555555555556,
              "#d8576b"
             ],
             [
              0.6666666666666666,
              "#ed7953"
             ],
             [
              0.7777777777777778,
              "#fb9f3a"
             ],
             [
              0.8888888888888888,
              "#fdca26"
             ],
             [
              1,
              "#f0f921"
             ]
            ],
            "type": "heatmap"
           }
          ],
          "heatmapgl": [
           {
            "colorbar": {
             "outlinewidth": 0,
             "ticks": ""
            },
            "colorscale": [
             [
              0,
              "#0d0887"
             ],
             [
              0.1111111111111111,
              "#46039f"
             ],
             [
              0.2222222222222222,
              "#7201a8"
             ],
             [
              0.3333333333333333,
              "#9c179e"
             ],
             [
              0.4444444444444444,
              "#bd3786"
             ],
             [
              0.5555555555555556,
              "#d8576b"
             ],
             [
              0.6666666666666666,
              "#ed7953"
             ],
             [
              0.7777777777777778,
              "#fb9f3a"
             ],
             [
              0.8888888888888888,
              "#fdca26"
             ],
             [
              1,
              "#f0f921"
             ]
            ],
            "type": "heatmapgl"
           }
          ],
          "histogram": [
           {
            "marker": {
             "colorbar": {
              "outlinewidth": 0,
              "ticks": ""
             }
            },
            "type": "histogram"
           }
          ],
          "histogram2d": [
           {
            "colorbar": {
             "outlinewidth": 0,
             "ticks": ""
            },
            "colorscale": [
             [
              0,
              "#0d0887"
             ],
             [
              0.1111111111111111,
              "#46039f"
             ],
             [
              0.2222222222222222,
              "#7201a8"
             ],
             [
              0.3333333333333333,
              "#9c179e"
             ],
             [
              0.4444444444444444,
              "#bd3786"
             ],
             [
              0.5555555555555556,
              "#d8576b"
             ],
             [
              0.6666666666666666,
              "#ed7953"
             ],
             [
              0.7777777777777778,
              "#fb9f3a"
             ],
             [
              0.8888888888888888,
              "#fdca26"
             ],
             [
              1,
              "#f0f921"
             ]
            ],
            "type": "histogram2d"
           }
          ],
          "histogram2dcontour": [
           {
            "colorbar": {
             "outlinewidth": 0,
             "ticks": ""
            },
            "colorscale": [
             [
              0,
              "#0d0887"
             ],
             [
              0.1111111111111111,
              "#46039f"
             ],
             [
              0.2222222222222222,
              "#7201a8"
             ],
             [
              0.3333333333333333,
              "#9c179e"
             ],
             [
              0.4444444444444444,
              "#bd3786"
             ],
             [
              0.5555555555555556,
              "#d8576b"
             ],
             [
              0.6666666666666666,
              "#ed7953"
             ],
             [
              0.7777777777777778,
              "#fb9f3a"
             ],
             [
              0.8888888888888888,
              "#fdca26"
             ],
             [
              1,
              "#f0f921"
             ]
            ],
            "type": "histogram2dcontour"
           }
          ],
          "mesh3d": [
           {
            "colorbar": {
             "outlinewidth": 0,
             "ticks": ""
            },
            "type": "mesh3d"
           }
          ],
          "parcoords": [
           {
            "line": {
             "colorbar": {
              "outlinewidth": 0,
              "ticks": ""
             }
            },
            "type": "parcoords"
           }
          ],
          "pie": [
           {
            "automargin": true,
            "type": "pie"
           }
          ],
          "scatter": [
           {
            "marker": {
             "colorbar": {
              "outlinewidth": 0,
              "ticks": ""
             }
            },
            "type": "scatter"
           }
          ],
          "scatter3d": [
           {
            "line": {
             "colorbar": {
              "outlinewidth": 0,
              "ticks": ""
             }
            },
            "marker": {
             "colorbar": {
              "outlinewidth": 0,
              "ticks": ""
             }
            },
            "type": "scatter3d"
           }
          ],
          "scattercarpet": [
           {
            "marker": {
             "colorbar": {
              "outlinewidth": 0,
              "ticks": ""
             }
            },
            "type": "scattercarpet"
           }
          ],
          "scattergeo": [
           {
            "marker": {
             "colorbar": {
              "outlinewidth": 0,
              "ticks": ""
             }
            },
            "type": "scattergeo"
           }
          ],
          "scattergl": [
           {
            "marker": {
             "colorbar": {
              "outlinewidth": 0,
              "ticks": ""
             }
            },
            "type": "scattergl"
           }
          ],
          "scattermapbox": [
           {
            "marker": {
             "colorbar": {
              "outlinewidth": 0,
              "ticks": ""
             }
            },
            "type": "scattermapbox"
           }
          ],
          "scatterpolar": [
           {
            "marker": {
             "colorbar": {
              "outlinewidth": 0,
              "ticks": ""
             }
            },
            "type": "scatterpolar"
           }
          ],
          "scatterpolargl": [
           {
            "marker": {
             "colorbar": {
              "outlinewidth": 0,
              "ticks": ""
             }
            },
            "type": "scatterpolargl"
           }
          ],
          "scatterternary": [
           {
            "marker": {
             "colorbar": {
              "outlinewidth": 0,
              "ticks": ""
             }
            },
            "type": "scatterternary"
           }
          ],
          "surface": [
           {
            "colorbar": {
             "outlinewidth": 0,
             "ticks": ""
            },
            "colorscale": [
             [
              0,
              "#0d0887"
             ],
             [
              0.1111111111111111,
              "#46039f"
             ],
             [
              0.2222222222222222,
              "#7201a8"
             ],
             [
              0.3333333333333333,
              "#9c179e"
             ],
             [
              0.4444444444444444,
              "#bd3786"
             ],
             [
              0.5555555555555556,
              "#d8576b"
             ],
             [
              0.6666666666666666,
              "#ed7953"
             ],
             [
              0.7777777777777778,
              "#fb9f3a"
             ],
             [
              0.8888888888888888,
              "#fdca26"
             ],
             [
              1,
              "#f0f921"
             ]
            ],
            "type": "surface"
           }
          ],
          "table": [
           {
            "cells": {
             "fill": {
              "color": "#EBF0F8"
             },
             "line": {
              "color": "white"
             }
            },
            "header": {
             "fill": {
              "color": "#C8D4E3"
             },
             "line": {
              "color": "white"
             }
            },
            "type": "table"
           }
          ]
         },
         "layout": {
          "annotationdefaults": {
           "arrowcolor": "#2a3f5f",
           "arrowhead": 0,
           "arrowwidth": 1
          },
          "autotypenumbers": "strict",
          "coloraxis": {
           "colorbar": {
            "outlinewidth": 0,
            "ticks": ""
           }
          },
          "colorscale": {
           "diverging": [
            [
             0,
             "#8e0152"
            ],
            [
             0.1,
             "#c51b7d"
            ],
            [
             0.2,
             "#de77ae"
            ],
            [
             0.3,
             "#f1b6da"
            ],
            [
             0.4,
             "#fde0ef"
            ],
            [
             0.5,
             "#f7f7f7"
            ],
            [
             0.6,
             "#e6f5d0"
            ],
            [
             0.7,
             "#b8e186"
            ],
            [
             0.8,
             "#7fbc41"
            ],
            [
             0.9,
             "#4d9221"
            ],
            [
             1,
             "#276419"
            ]
           ],
           "sequential": [
            [
             0,
             "#0d0887"
            ],
            [
             0.1111111111111111,
             "#46039f"
            ],
            [
             0.2222222222222222,
             "#7201a8"
            ],
            [
             0.3333333333333333,
             "#9c179e"
            ],
            [
             0.4444444444444444,
             "#bd3786"
            ],
            [
             0.5555555555555556,
             "#d8576b"
            ],
            [
             0.6666666666666666,
             "#ed7953"
            ],
            [
             0.7777777777777778,
             "#fb9f3a"
            ],
            [
             0.8888888888888888,
             "#fdca26"
            ],
            [
             1,
             "#f0f921"
            ]
           ],
           "sequentialminus": [
            [
             0,
             "#0d0887"
            ],
            [
             0.1111111111111111,
             "#46039f"
            ],
            [
             0.2222222222222222,
             "#7201a8"
            ],
            [
             0.3333333333333333,
             "#9c179e"
            ],
            [
             0.4444444444444444,
             "#bd3786"
            ],
            [
             0.5555555555555556,
             "#d8576b"
            ],
            [
             0.6666666666666666,
             "#ed7953"
            ],
            [
             0.7777777777777778,
             "#fb9f3a"
            ],
            [
             0.8888888888888888,
             "#fdca26"
            ],
            [
             1,
             "#f0f921"
            ]
           ]
          },
          "colorway": [
           "#636efa",
           "#EF553B",
           "#00cc96",
           "#ab63fa",
           "#FFA15A",
           "#19d3f3",
           "#FF6692",
           "#B6E880",
           "#FF97FF",
           "#FECB52"
          ],
          "font": {
           "color": "#2a3f5f"
          },
          "geo": {
           "bgcolor": "white",
           "lakecolor": "white",
           "landcolor": "#E5ECF6",
           "showlakes": true,
           "showland": true,
           "subunitcolor": "white"
          },
          "hoverlabel": {
           "align": "left"
          },
          "hovermode": "closest",
          "mapbox": {
           "style": "light"
          },
          "paper_bgcolor": "white",
          "plot_bgcolor": "#E5ECF6",
          "polar": {
           "angularaxis": {
            "gridcolor": "white",
            "linecolor": "white",
            "ticks": ""
           },
           "bgcolor": "#E5ECF6",
           "radialaxis": {
            "gridcolor": "white",
            "linecolor": "white",
            "ticks": ""
           }
          },
          "scene": {
           "xaxis": {
            "backgroundcolor": "#E5ECF6",
            "gridcolor": "white",
            "gridwidth": 2,
            "linecolor": "white",
            "showbackground": true,
            "ticks": "",
            "zerolinecolor": "white"
           },
           "yaxis": {
            "backgroundcolor": "#E5ECF6",
            "gridcolor": "white",
            "gridwidth": 2,
            "linecolor": "white",
            "showbackground": true,
            "ticks": "",
            "zerolinecolor": "white"
           },
           "zaxis": {
            "backgroundcolor": "#E5ECF6",
            "gridcolor": "white",
            "gridwidth": 2,
            "linecolor": "white",
            "showbackground": true,
            "ticks": "",
            "zerolinecolor": "white"
           }
          },
          "shapedefaults": {
           "line": {
            "color": "#2a3f5f"
           }
          },
          "ternary": {
           "aaxis": {
            "gridcolor": "white",
            "linecolor": "white",
            "ticks": ""
           },
           "baxis": {
            "gridcolor": "white",
            "linecolor": "white",
            "ticks": ""
           },
           "bgcolor": "#E5ECF6",
           "caxis": {
            "gridcolor": "white",
            "linecolor": "white",
            "ticks": ""
           }
          },
          "title": {
           "x": 0.05
          },
          "xaxis": {
           "automargin": true,
           "gridcolor": "white",
           "linecolor": "white",
           "ticks": "",
           "title": {
            "standoff": 15
           },
           "zerolinecolor": "white",
           "zerolinewidth": 2
          },
          "yaxis": {
           "automargin": true,
           "gridcolor": "white",
           "linecolor": "white",
           "ticks": "",
           "title": {
            "standoff": 15
           },
           "zerolinecolor": "white",
           "zerolinewidth": 2
          }
         }
        },
        "title": {
         "font": {
          "color": "#4D5663"
         }
        },
        "xaxis": {
         "gridcolor": "#E1E5ED",
         "showgrid": true,
         "tickfont": {
          "color": "#4D5663"
         },
         "title": {
          "font": {
           "color": "#4D5663"
          },
          "text": ""
         },
         "zerolinecolor": "#E1E5ED"
        },
        "yaxis": {
         "gridcolor": "#E1E5ED",
         "showgrid": true,
         "tickfont": {
          "color": "#4D5663"
         },
         "title": {
          "font": {
           "color": "#4D5663"
          },
          "text": ""
         },
         "zerolinecolor": "#E1E5ED"
        }
       }
      },
      "text/html": [
       "<div>                            <div id=\"8088538d-2b7d-497b-8359-990dfaf01e3c\" class=\"plotly-graph-div\" style=\"height:525px; width:100%;\"></div>            <script type=\"text/javascript\">                require([\"plotly\"], function(Plotly) {                    window.PLOTLYENV=window.PLOTLYENV || {};\n",
       "                    window.PLOTLYENV.BASE_URL='https://plot.ly';                                    if (document.getElementById(\"8088538d-2b7d-497b-8359-990dfaf01e3c\")) {                    Plotly.newPlot(                        \"8088538d-2b7d-497b-8359-990dfaf01e3c\",                        [{\"boxpoints\": false, \"line\": {\"width\": 1.3}, \"marker\": {\"color\": \"rgba(255, 153, 51, 1.0)\"}, \"name\": \"A\", \"orientation\": \"v\", \"type\": \"box\", \"y\": [0.5559244215996016, 0.16531247499681323, -0.8101100169139632, -1.3974320065743162, 1.6136174804983556, -0.3211925649236798, -0.3708134451358885, 0.7768683958236318, 0.9185436802928186, 1.2762372604361978, 0.4127563834151255, -0.9193064276735416, -1.5395019336205855, -0.5305376223271864, -0.9903403728567307, 0.14647506819357678, -0.1763519726139724, 0.36008109401573163, -0.3176404768055409, -0.19412325558431157, -0.0904221223832305, -0.5945023504586406, -0.03895869264617371, 0.5901436910604915, -0.7996642304747691, 1.0301076261885471, 0.9621354965051399, 0.30578234381497704, -0.724902498511663, -0.21758223505728244, 0.32225672399278027, 0.16816746481521705, -0.3052736668837778, -0.3751381721108554, 0.827811394916156, -1.1823153331521996, 0.05309296545930296, 0.7949550338463784, 0.009844956835440979, -0.421073670238091, -0.9065419444857088, 0.5772849324123647, -2.0877670198322047, 1.3868161621120656, -0.702588197611849, 0.162538412371124, -0.003047648967196274, 0.18507428698394549, -0.2390219605970498, 0.07847295052663021, -0.246121472387244, 0.7798289383401936, 1.4968068545020095, -0.7877805920356816, -1.126634990257943, 0.11719360333798196, -1.5602947784857861, 1.298860409475295, -1.8056312905844059, 1.1832197109271312, 1.4331767165642602, -0.2911593460243957, 0.1574901335703895, 0.06854985942307727, 1.4231140740707144, -2.04463937159396, -1.8251943251991503, 0.14962534578078765, 0.0813071065438157, -1.0863368122861674, 0.9565864600231273, 0.6642827660389123, -1.4831517966951513, -0.39828961293614407, 0.22927634606915795, 0.22238917753957502, 0.7686846529091509, 1.47119939628487, -1.556400814871271, -2.735284320598148, 0.07069490963218183, 0.23495848143046277, 1.9148595400160937, 0.6174926889282726, -1.4203144589579582, 1.1619629955318764, -0.5601347720040485, -0.6703767522970148, 0.17875077451214946, 0.08181724511550104, -0.3519235217399932, 1.3203913019856222, 1.8460431102673394, -0.14262827208374368, 0.6250080835386731, 1.9614289138545555, 0.4434327783663857, 1.6393596269936033, 1.530107027081265, 1.6215780684288195]}, {\"boxpoints\": false, \"line\": {\"width\": 1.3}, \"marker\": {\"color\": \"rgba(55, 128, 191, 1.0)\"}, \"name\": \"B\", \"orientation\": \"v\", \"type\": \"box\", \"y\": [0.22903146892060294, -1.0438839554806172, -0.4399526952827415, -0.4633382480861902, -1.5654877913797267, 1.2377698503523018, -0.007528301571093346, -0.7821574542974872, 0.1932979535681084, 0.16383400694923386, -0.10457958055017953, -0.5483224720829957, 0.3901467033850892, 0.8733391491473266, -1.8148002875494058, -0.0759623941349184, -1.5726465344150269, -0.6082787903749993, 0.3214224546316616, 0.4511156558335474, -0.2819159475893012, -0.03168586915965763, 0.4153575859846248, -0.8519307093778403, -0.18818870118555994, -1.4230368693782596, -1.1061437380428527, -0.4788898790879405, -0.30961021649646114, 0.826955287725046, 1.2056289154607636, -0.70084903580063, 0.8209283555060617, -0.5298851830413455, 0.1451874152781941, -1.5865763699281297, 1.6520160207008723, -0.6106005545270637, -0.4657338792251926, -1.613208567945061, -0.3358265022436321, -0.19539723810652976, -0.10857198778945001, -0.5686738836571239, 0.026700284464226395, 0.060562223568401255, -1.322550194123688, -1.1478889418544014, -0.6747492167943674, 1.4978851912884552, -0.8144161797427335, -0.6614153305732594, -1.9119357727283888, -1.164014883430049, 0.5595234352487303, 0.108328681661955, -0.9706109249546176, 0.47099451136202414, 0.9089019866312754, -0.4955207283130792, -1.125571044511677, -1.259705874458263, 0.9499971437675632, -1.0807709308166202, 0.3365070500166459, 1.2321842350594938, -1.4903302832650034, 0.3514723761902005, 0.08623718249227429, -0.20931093736104614, -0.9741715973174373, -0.5308998848264274, -2.410083026327852, -0.1899938700628958, 1.7683431358180248, -0.47597742609579835, -0.0013692778474197807, -3.381411728787464, 0.2096704289056021, 0.017403841169861784, 0.40583638946018025, -0.6750001314794015, 0.15150861459613177, 0.17204801196444056, 1.2690154822774866, -2.289782485465693, -0.12230747952833376, -1.2401555231539811, 0.6775438389699542, 0.748663635094293, -1.0291210942321232, 0.11491042839811323, 0.6149875024612116, -0.6752388716699234, -1.0210089048464344, -1.306395759730055, -0.8897696845214655, 1.9783178499112062, 0.7937356305287727, -0.30826255509155437]}, {\"boxpoints\": false, \"line\": {\"width\": 1.3}, \"marker\": {\"color\": \"rgba(50, 171, 96, 1.0)\"}, \"name\": \"C\", \"orientation\": \"v\", \"type\": \"box\", \"y\": [0.4629650831240414, 1.2432135481517856, 0.8099501451062239, 0.1382476099400311, -0.5154026319412417, 0.01871441788108343, -0.011318421257373985, 0.8997367977141505, 0.19798817852148798, 1.227914769137976, 1.7379485580258134, 0.42892217420970613, 0.20340147554498844, 0.24971057903503524, 0.06972433460899556, 1.189275642338663, -0.11289626706206705, 0.5600001985476502, 2.159603991817565, 0.685760780652771, -0.13250937465100862, -1.0005898298079836, -0.5455463179941619, -0.6634397282942427, -1.172793974038636, -0.6146863592524869, 1.2545117087633786, 1.810225976194417, -1.6180670620973294, 0.8020135407322048, -0.8890970478686254, 0.06499422027038193, 0.6670990117028622, 1.7356490282523986, 0.796747636969668, -2.426433187651039, -0.656971298519989, -0.8018771380965526, 0.3501239459155337, 0.5104044537718762, -1.0626969165902538, 0.27587906239094884, 0.461427426694262, 0.8642141071263638, -1.1368633104424197, 0.23571352299260587, -1.41147913150561, 0.18487560219439148, 0.2942054281917523, -1.000566948724494, -0.015567094312226748, 1.908929042016413, 0.1425737823223032, 0.19401535413460727, 0.4442046417314635, 0.00027377006526494086, -0.4755280280667671, -0.753897728358789, 0.3659206700685624, -0.5330363161499501, 0.6382566330246041, -0.456307183670805, 0.7546581512841992, 0.1482526872460123, -1.7531740846115724, 1.4595558264664916, -0.8787601291928155, -0.21027015241269978, -1.1150046643876077, 0.3863476148840286, -0.942987481816664, -0.34967426195611645, -0.3364368063222968, 0.8356096134435225, -0.27623845964780536, -0.6396679427505394, -0.0783000050386576, 1.2773351946961333, 1.5080473538185435, -2.208762143527387, -0.05426234264447516, -1.6212717242738082, -1.226652303134024, 0.05891595576367844, -0.05054948629707698, 1.9624210131288033, -2.120294151184495, 0.7015974550860965, 0.6995976037822227, 0.515724084571619, -2.0381566520932117, 0.41526417456896164, -0.8962651149784191, 0.41889656387466795, 0.010619121916224918, -1.1723343112708058, 0.641977470437457, 0.7040460415157107, 0.8865903399240732, 1.1036104791548647]}, {\"boxpoints\": false, \"line\": {\"width\": 1.3}, \"marker\": {\"color\": \"rgba(128, 0, 128, 1.0)\"}, \"name\": \"D\", \"orientation\": \"v\", \"type\": \"box\", \"y\": [0.9566340233601011, 0.9752272371596018, 0.25471208094517367, -1.0158218101622745, -0.7924648542306763, 0.7775073536253685, 1.2574604453562042, -0.20964870966875607, -0.5223766524406891, 0.2259491847170473, 0.8248538895184206, 0.016758077526463154, 0.10902216804538557, 0.6085067436935758, 1.6450800144915723, 0.8931981539250716, -0.707115356082297, 1.4335819766153604, -0.07759183971276323, 0.33856225002590273, 0.42494473618377954, -0.17429113846586008, 1.2830742049278938, 0.04828345934486168, -1.926854629040082, -0.7407755453742538, 0.7450775444959586, -0.1026061368346683, -0.6484475929036851, 0.06855889332908584, 1.0370374221687333, 0.1903577292058355, -1.511700688298228, 1.0838177472206347, 0.3744087968016041, -1.1581106007843722, -0.10453278472917485, 1.8510861077664962, -0.4791729085079475, -0.5198683639209097, -0.7108458765342246, -0.0950606313776447, -0.0074793868710777865, 1.0488371002415722, -0.6548033323991714, 1.5415408526071412, 0.3297099786353898, 1.5826209575514578, -0.08170373012353173, -0.2835283525681258, 0.050642186363222576, -0.25565790851061854, -0.7436769775209057, -0.09523811959144006, 0.7969184138199794, 0.7470827570769997, 0.643725350756142, -0.7096267509235492, -0.15009894781844454, -0.5256163440059519, 0.27285854740684506, 0.009462526147125042, 1.142522392174448, 0.4470300709007983, 0.9967991099106255, 1.9529853143703666, -0.44701697188847445, -0.19647652959445977, -0.1407605351294186, -1.5675485404685603, -0.49721091509735466, -1.7258348142557858, 0.14462048078221715, -0.5063664861687264, -0.3754047448975229, 0.04381885963561633, 0.6718516491664974, -1.5852399213846535, 0.1393045043335795, 0.3531536136556921, -1.1029780003070717, 0.7401808660652972, -1.59837780916017, -1.1697883199556967, 1.2480958704889384, 0.2580986750086237, -0.25369440869036197, -1.413927021948406, 0.334800615143296, 2.3825514581378022, 0.08092257910546233, -0.32631159055221765, -1.6778982215163736, -1.246575379630572, 0.5421789496873197, -0.7136285780807672, -0.41477094917710483, -1.204218540974015, 1.2002265721424572, 0.16760124103241722]}],                        {\"legend\": {\"bgcolor\": \"#F5F6F9\", \"font\": {\"color\": \"#4D5663\"}}, \"paper_bgcolor\": \"#F5F6F9\", \"plot_bgcolor\": \"#F5F6F9\", \"template\": {\"data\": {\"bar\": [{\"error_x\": {\"color\": \"#2a3f5f\"}, \"error_y\": {\"color\": \"#2a3f5f\"}, \"marker\": {\"line\": {\"color\": \"#E5ECF6\", \"width\": 0.5}}, \"type\": \"bar\"}], \"barpolar\": [{\"marker\": {\"line\": {\"color\": \"#E5ECF6\", \"width\": 0.5}}, \"type\": \"barpolar\"}], \"carpet\": [{\"aaxis\": {\"endlinecolor\": \"#2a3f5f\", \"gridcolor\": \"white\", \"linecolor\": \"white\", \"minorgridcolor\": \"white\", \"startlinecolor\": \"#2a3f5f\"}, \"baxis\": {\"endlinecolor\": \"#2a3f5f\", \"gridcolor\": \"white\", \"linecolor\": \"white\", \"minorgridcolor\": \"white\", \"startlinecolor\": \"#2a3f5f\"}, \"type\": \"carpet\"}], \"choropleth\": [{\"colorbar\": {\"outlinewidth\": 0, \"ticks\": \"\"}, \"type\": \"choropleth\"}], \"contour\": [{\"colorbar\": {\"outlinewidth\": 0, \"ticks\": \"\"}, \"colorscale\": [[0.0, \"#0d0887\"], [0.1111111111111111, \"#46039f\"], [0.2222222222222222, \"#7201a8\"], [0.3333333333333333, \"#9c179e\"], [0.4444444444444444, \"#bd3786\"], [0.5555555555555556, \"#d8576b\"], [0.6666666666666666, \"#ed7953\"], [0.7777777777777778, \"#fb9f3a\"], [0.8888888888888888, \"#fdca26\"], [1.0, \"#f0f921\"]], \"type\": \"contour\"}], \"contourcarpet\": [{\"colorbar\": {\"outlinewidth\": 0, \"ticks\": \"\"}, \"type\": \"contourcarpet\"}], \"heatmap\": [{\"colorbar\": {\"outlinewidth\": 0, \"ticks\": \"\"}, \"colorscale\": [[0.0, \"#0d0887\"], [0.1111111111111111, \"#46039f\"], [0.2222222222222222, \"#7201a8\"], [0.3333333333333333, \"#9c179e\"], [0.4444444444444444, \"#bd3786\"], [0.5555555555555556, \"#d8576b\"], [0.6666666666666666, \"#ed7953\"], [0.7777777777777778, \"#fb9f3a\"], [0.8888888888888888, \"#fdca26\"], [1.0, \"#f0f921\"]], \"type\": \"heatmap\"}], \"heatmapgl\": [{\"colorbar\": {\"outlinewidth\": 0, \"ticks\": \"\"}, \"colorscale\": [[0.0, \"#0d0887\"], [0.1111111111111111, \"#46039f\"], [0.2222222222222222, \"#7201a8\"], [0.3333333333333333, \"#9c179e\"], [0.4444444444444444, \"#bd3786\"], [0.5555555555555556, \"#d8576b\"], [0.6666666666666666, \"#ed7953\"], [0.7777777777777778, \"#fb9f3a\"], [0.8888888888888888, \"#fdca26\"], [1.0, \"#f0f921\"]], \"type\": \"heatmapgl\"}], \"histogram\": [{\"marker\": {\"colorbar\": {\"outlinewidth\": 0, \"ticks\": \"\"}}, \"type\": \"histogram\"}], \"histogram2d\": [{\"colorbar\": {\"outlinewidth\": 0, \"ticks\": \"\"}, \"colorscale\": [[0.0, \"#0d0887\"], [0.1111111111111111, \"#46039f\"], [0.2222222222222222, \"#7201a8\"], [0.3333333333333333, \"#9c179e\"], [0.4444444444444444, \"#bd3786\"], [0.5555555555555556, \"#d8576b\"], [0.6666666666666666, \"#ed7953\"], [0.7777777777777778, \"#fb9f3a\"], [0.8888888888888888, \"#fdca26\"], [1.0, \"#f0f921\"]], \"type\": \"histogram2d\"}], \"histogram2dcontour\": [{\"colorbar\": {\"outlinewidth\": 0, \"ticks\": \"\"}, \"colorscale\": [[0.0, \"#0d0887\"], [0.1111111111111111, \"#46039f\"], [0.2222222222222222, \"#7201a8\"], [0.3333333333333333, \"#9c179e\"], [0.4444444444444444, \"#bd3786\"], [0.5555555555555556, \"#d8576b\"], [0.6666666666666666, \"#ed7953\"], [0.7777777777777778, \"#fb9f3a\"], [0.8888888888888888, \"#fdca26\"], [1.0, \"#f0f921\"]], \"type\": \"histogram2dcontour\"}], \"mesh3d\": [{\"colorbar\": {\"outlinewidth\": 0, \"ticks\": \"\"}, \"type\": \"mesh3d\"}], \"parcoords\": [{\"line\": {\"colorbar\": {\"outlinewidth\": 0, \"ticks\": \"\"}}, \"type\": \"parcoords\"}], \"pie\": [{\"automargin\": true, \"type\": \"pie\"}], \"scatter\": [{\"marker\": {\"colorbar\": {\"outlinewidth\": 0, \"ticks\": \"\"}}, \"type\": \"scatter\"}], \"scatter3d\": [{\"line\": {\"colorbar\": {\"outlinewidth\": 0, \"ticks\": \"\"}}, \"marker\": {\"colorbar\": {\"outlinewidth\": 0, \"ticks\": \"\"}}, \"type\": \"scatter3d\"}], \"scattercarpet\": [{\"marker\": {\"colorbar\": {\"outlinewidth\": 0, \"ticks\": \"\"}}, \"type\": \"scattercarpet\"}], \"scattergeo\": [{\"marker\": {\"colorbar\": {\"outlinewidth\": 0, \"ticks\": \"\"}}, \"type\": \"scattergeo\"}], \"scattergl\": [{\"marker\": {\"colorbar\": {\"outlinewidth\": 0, \"ticks\": \"\"}}, \"type\": \"scattergl\"}], \"scattermapbox\": [{\"marker\": {\"colorbar\": {\"outlinewidth\": 0, \"ticks\": \"\"}}, \"type\": \"scattermapbox\"}], \"scatterpolar\": [{\"marker\": {\"colorbar\": {\"outlinewidth\": 0, \"ticks\": \"\"}}, \"type\": \"scatterpolar\"}], \"scatterpolargl\": [{\"marker\": {\"colorbar\": {\"outlinewidth\": 0, \"ticks\": \"\"}}, \"type\": \"scatterpolargl\"}], \"scatterternary\": [{\"marker\": {\"colorbar\": {\"outlinewidth\": 0, \"ticks\": \"\"}}, \"type\": \"scatterternary\"}], \"surface\": [{\"colorbar\": {\"outlinewidth\": 0, \"ticks\": \"\"}, \"colorscale\": [[0.0, \"#0d0887\"], [0.1111111111111111, \"#46039f\"], [0.2222222222222222, \"#7201a8\"], [0.3333333333333333, \"#9c179e\"], [0.4444444444444444, \"#bd3786\"], [0.5555555555555556, \"#d8576b\"], [0.6666666666666666, \"#ed7953\"], [0.7777777777777778, \"#fb9f3a\"], [0.8888888888888888, \"#fdca26\"], [1.0, \"#f0f921\"]], \"type\": \"surface\"}], \"table\": [{\"cells\": {\"fill\": {\"color\": \"#EBF0F8\"}, \"line\": {\"color\": \"white\"}}, \"header\": {\"fill\": {\"color\": \"#C8D4E3\"}, \"line\": {\"color\": \"white\"}}, \"type\": \"table\"}]}, \"layout\": {\"annotationdefaults\": {\"arrowcolor\": \"#2a3f5f\", \"arrowhead\": 0, \"arrowwidth\": 1}, \"autotypenumbers\": \"strict\", \"coloraxis\": {\"colorbar\": {\"outlinewidth\": 0, \"ticks\": \"\"}}, \"colorscale\": {\"diverging\": [[0, \"#8e0152\"], [0.1, \"#c51b7d\"], [0.2, \"#de77ae\"], [0.3, \"#f1b6da\"], [0.4, \"#fde0ef\"], [0.5, \"#f7f7f7\"], [0.6, \"#e6f5d0\"], [0.7, \"#b8e186\"], [0.8, \"#7fbc41\"], [0.9, \"#4d9221\"], [1, \"#276419\"]], \"sequential\": [[0.0, \"#0d0887\"], [0.1111111111111111, \"#46039f\"], [0.2222222222222222, \"#7201a8\"], [0.3333333333333333, \"#9c179e\"], [0.4444444444444444, \"#bd3786\"], [0.5555555555555556, \"#d8576b\"], [0.6666666666666666, \"#ed7953\"], [0.7777777777777778, \"#fb9f3a\"], [0.8888888888888888, \"#fdca26\"], [1.0, \"#f0f921\"]], \"sequentialminus\": [[0.0, \"#0d0887\"], [0.1111111111111111, \"#46039f\"], [0.2222222222222222, \"#7201a8\"], [0.3333333333333333, \"#9c179e\"], [0.4444444444444444, \"#bd3786\"], [0.5555555555555556, \"#d8576b\"], [0.6666666666666666, \"#ed7953\"], [0.7777777777777778, \"#fb9f3a\"], [0.8888888888888888, \"#fdca26\"], [1.0, \"#f0f921\"]]}, \"colorway\": [\"#636efa\", \"#EF553B\", \"#00cc96\", \"#ab63fa\", \"#FFA15A\", \"#19d3f3\", \"#FF6692\", \"#B6E880\", \"#FF97FF\", \"#FECB52\"], \"font\": {\"color\": \"#2a3f5f\"}, \"geo\": {\"bgcolor\": \"white\", \"lakecolor\": \"white\", \"landcolor\": \"#E5ECF6\", \"showlakes\": true, \"showland\": true, \"subunitcolor\": \"white\"}, \"hoverlabel\": {\"align\": \"left\"}, \"hovermode\": \"closest\", \"mapbox\": {\"style\": \"light\"}, \"paper_bgcolor\": \"white\", \"plot_bgcolor\": \"#E5ECF6\", \"polar\": {\"angularaxis\": {\"gridcolor\": \"white\", \"linecolor\": \"white\", \"ticks\": \"\"}, \"bgcolor\": \"#E5ECF6\", \"radialaxis\": {\"gridcolor\": \"white\", \"linecolor\": \"white\", \"ticks\": \"\"}}, \"scene\": {\"xaxis\": {\"backgroundcolor\": \"#E5ECF6\", \"gridcolor\": \"white\", \"gridwidth\": 2, \"linecolor\": \"white\", \"showbackground\": true, \"ticks\": \"\", \"zerolinecolor\": \"white\"}, \"yaxis\": {\"backgroundcolor\": \"#E5ECF6\", \"gridcolor\": \"white\", \"gridwidth\": 2, \"linecolor\": \"white\", \"showbackground\": true, \"ticks\": \"\", \"zerolinecolor\": \"white\"}, \"zaxis\": {\"backgroundcolor\": \"#E5ECF6\", \"gridcolor\": \"white\", \"gridwidth\": 2, \"linecolor\": \"white\", \"showbackground\": true, \"ticks\": \"\", \"zerolinecolor\": \"white\"}}, \"shapedefaults\": {\"line\": {\"color\": \"#2a3f5f\"}}, \"ternary\": {\"aaxis\": {\"gridcolor\": \"white\", \"linecolor\": \"white\", \"ticks\": \"\"}, \"baxis\": {\"gridcolor\": \"white\", \"linecolor\": \"white\", \"ticks\": \"\"}, \"bgcolor\": \"#E5ECF6\", \"caxis\": {\"gridcolor\": \"white\", \"linecolor\": \"white\", \"ticks\": \"\"}}, \"title\": {\"x\": 0.05}, \"xaxis\": {\"automargin\": true, \"gridcolor\": \"white\", \"linecolor\": \"white\", \"ticks\": \"\", \"title\": {\"standoff\": 15}, \"zerolinecolor\": \"white\", \"zerolinewidth\": 2}, \"yaxis\": {\"automargin\": true, \"gridcolor\": \"white\", \"linecolor\": \"white\", \"ticks\": \"\", \"title\": {\"standoff\": 15}, \"zerolinecolor\": \"white\", \"zerolinewidth\": 2}}}, \"title\": {\"font\": {\"color\": \"#4D5663\"}}, \"xaxis\": {\"gridcolor\": \"#E1E5ED\", \"showgrid\": true, \"tickfont\": {\"color\": \"#4D5663\"}, \"title\": {\"font\": {\"color\": \"#4D5663\"}, \"text\": \"\"}, \"zerolinecolor\": \"#E1E5ED\"}, \"yaxis\": {\"gridcolor\": \"#E1E5ED\", \"showgrid\": true, \"tickfont\": {\"color\": \"#4D5663\"}, \"title\": {\"font\": {\"color\": \"#4D5663\"}, \"text\": \"\"}, \"zerolinecolor\": \"#E1E5ED\"}},                        {\"showLink\": true, \"linkText\": \"Export to plot.ly\", \"plotlyServerURL\": \"https://plot.ly\", \"responsive\": true}                    ).then(function(){\n",
       "                            \n",
       "var gd = document.getElementById('8088538d-2b7d-497b-8359-990dfaf01e3c');\n",
       "var x = new MutationObserver(function (mutations, observer) {{\n",
       "        var display = window.getComputedStyle(gd).display;\n",
       "        if (!display || display === 'none') {{\n",
       "            console.log([gd, 'removed!']);\n",
       "            Plotly.purge(gd);\n",
       "            observer.disconnect();\n",
       "        }}\n",
       "}});\n",
       "\n",
       "// Listen for the removal of the full notebook cells\n",
       "var notebookContainer = gd.closest('#notebook-container');\n",
       "if (notebookContainer) {{\n",
       "    x.observe(notebookContainer, {childList: true});\n",
       "}}\n",
       "\n",
       "// Listen for the clearing of the current output cell\n",
       "var outputEl = gd.closest('.output');\n",
       "if (outputEl) {{\n",
       "    x.observe(outputEl, {childList: true});\n",
       "}}\n",
       "\n",
       "                        })                };                });            </script>        </div>"
      ]
     },
     "metadata": {},
     "output_type": "display_data"
    }
   ],
   "source": [
    "df.iplot(kind='box')"
   ]
  },
  {
   "cell_type": "markdown",
   "metadata": {},
   "source": [
    "## 3d Surface"
   ]
  },
  {
   "cell_type": "code",
   "execution_count": 38,
   "metadata": {},
   "outputs": [
    {
     "data": {
      "application/vnd.plotly.v1+json": {
       "config": {
        "linkText": "Export to plot.ly",
        "plotlyServerURL": "https://plot.ly",
        "showLink": true
       },
       "data": [
        {
         "colorscale": [
          [
           0,
           "rgb(165,0,38)"
          ],
          [
           0.1,
           "rgb(215,48,39)"
          ],
          [
           0.2,
           "rgb(244,109,67)"
          ],
          [
           0.3,
           "rgb(253,174,97)"
          ],
          [
           0.4,
           "rgb(254,224,144)"
          ],
          [
           0.5,
           "rgb(255,255,191)"
          ],
          [
           0.6,
           "rgb(224,243,248)"
          ],
          [
           0.7,
           "rgb(171,217,233)"
          ],
          [
           0.8,
           "rgb(116,173,209)"
          ],
          [
           0.9,
           "rgb(69,117,180)"
          ],
          [
           1,
           "rgb(49,54,149)"
          ]
         ],
         "type": "surface",
         "x": [
          0,
          1,
          2,
          3,
          4
         ],
         "y": [
          "x",
          "y",
          "z"
         ],
         "z": [
          [
           1,
           2,
           3,
           4,
           5
          ],
          [
           10,
           20,
           30,
           20,
           10
          ],
          [
           5,
           4,
           3,
           2,
           1
          ]
         ]
        }
       ],
       "layout": {
        "legend": {
         "bgcolor": "#F5F6F9",
         "font": {
          "color": "#4D5663"
         }
        },
        "paper_bgcolor": "#F5F6F9",
        "plot_bgcolor": "#F5F6F9",
        "template": {
         "data": {
          "bar": [
           {
            "error_x": {
             "color": "#2a3f5f"
            },
            "error_y": {
             "color": "#2a3f5f"
            },
            "marker": {
             "line": {
              "color": "#E5ECF6",
              "width": 0.5
             }
            },
            "type": "bar"
           }
          ],
          "barpolar": [
           {
            "marker": {
             "line": {
              "color": "#E5ECF6",
              "width": 0.5
             }
            },
            "type": "barpolar"
           }
          ],
          "carpet": [
           {
            "aaxis": {
             "endlinecolor": "#2a3f5f",
             "gridcolor": "white",
             "linecolor": "white",
             "minorgridcolor": "white",
             "startlinecolor": "#2a3f5f"
            },
            "baxis": {
             "endlinecolor": "#2a3f5f",
             "gridcolor": "white",
             "linecolor": "white",
             "minorgridcolor": "white",
             "startlinecolor": "#2a3f5f"
            },
            "type": "carpet"
           }
          ],
          "choropleth": [
           {
            "colorbar": {
             "outlinewidth": 0,
             "ticks": ""
            },
            "type": "choropleth"
           }
          ],
          "contour": [
           {
            "colorbar": {
             "outlinewidth": 0,
             "ticks": ""
            },
            "colorscale": [
             [
              0,
              "#0d0887"
             ],
             [
              0.1111111111111111,
              "#46039f"
             ],
             [
              0.2222222222222222,
              "#7201a8"
             ],
             [
              0.3333333333333333,
              "#9c179e"
             ],
             [
              0.4444444444444444,
              "#bd3786"
             ],
             [
              0.5555555555555556,
              "#d8576b"
             ],
             [
              0.6666666666666666,
              "#ed7953"
             ],
             [
              0.7777777777777778,
              "#fb9f3a"
             ],
             [
              0.8888888888888888,
              "#fdca26"
             ],
             [
              1,
              "#f0f921"
             ]
            ],
            "type": "contour"
           }
          ],
          "contourcarpet": [
           {
            "colorbar": {
             "outlinewidth": 0,
             "ticks": ""
            },
            "type": "contourcarpet"
           }
          ],
          "heatmap": [
           {
            "colorbar": {
             "outlinewidth": 0,
             "ticks": ""
            },
            "colorscale": [
             [
              0,
              "#0d0887"
             ],
             [
              0.1111111111111111,
              "#46039f"
             ],
             [
              0.2222222222222222,
              "#7201a8"
             ],
             [
              0.3333333333333333,
              "#9c179e"
             ],
             [
              0.4444444444444444,
              "#bd3786"
             ],
             [
              0.5555555555555556,
              "#d8576b"
             ],
             [
              0.6666666666666666,
              "#ed7953"
             ],
             [
              0.7777777777777778,
              "#fb9f3a"
             ],
             [
              0.8888888888888888,
              "#fdca26"
             ],
             [
              1,
              "#f0f921"
             ]
            ],
            "type": "heatmap"
           }
          ],
          "heatmapgl": [
           {
            "colorbar": {
             "outlinewidth": 0,
             "ticks": ""
            },
            "colorscale": [
             [
              0,
              "#0d0887"
             ],
             [
              0.1111111111111111,
              "#46039f"
             ],
             [
              0.2222222222222222,
              "#7201a8"
             ],
             [
              0.3333333333333333,
              "#9c179e"
             ],
             [
              0.4444444444444444,
              "#bd3786"
             ],
             [
              0.5555555555555556,
              "#d8576b"
             ],
             [
              0.6666666666666666,
              "#ed7953"
             ],
             [
              0.7777777777777778,
              "#fb9f3a"
             ],
             [
              0.8888888888888888,
              "#fdca26"
             ],
             [
              1,
              "#f0f921"
             ]
            ],
            "type": "heatmapgl"
           }
          ],
          "histogram": [
           {
            "marker": {
             "colorbar": {
              "outlinewidth": 0,
              "ticks": ""
             }
            },
            "type": "histogram"
           }
          ],
          "histogram2d": [
           {
            "colorbar": {
             "outlinewidth": 0,
             "ticks": ""
            },
            "colorscale": [
             [
              0,
              "#0d0887"
             ],
             [
              0.1111111111111111,
              "#46039f"
             ],
             [
              0.2222222222222222,
              "#7201a8"
             ],
             [
              0.3333333333333333,
              "#9c179e"
             ],
             [
              0.4444444444444444,
              "#bd3786"
             ],
             [
              0.5555555555555556,
              "#d8576b"
             ],
             [
              0.6666666666666666,
              "#ed7953"
             ],
             [
              0.7777777777777778,
              "#fb9f3a"
             ],
             [
              0.8888888888888888,
              "#fdca26"
             ],
             [
              1,
              "#f0f921"
             ]
            ],
            "type": "histogram2d"
           }
          ],
          "histogram2dcontour": [
           {
            "colorbar": {
             "outlinewidth": 0,
             "ticks": ""
            },
            "colorscale": [
             [
              0,
              "#0d0887"
             ],
             [
              0.1111111111111111,
              "#46039f"
             ],
             [
              0.2222222222222222,
              "#7201a8"
             ],
             [
              0.3333333333333333,
              "#9c179e"
             ],
             [
              0.4444444444444444,
              "#bd3786"
             ],
             [
              0.5555555555555556,
              "#d8576b"
             ],
             [
              0.6666666666666666,
              "#ed7953"
             ],
             [
              0.7777777777777778,
              "#fb9f3a"
             ],
             [
              0.8888888888888888,
              "#fdca26"
             ],
             [
              1,
              "#f0f921"
             ]
            ],
            "type": "histogram2dcontour"
           }
          ],
          "mesh3d": [
           {
            "colorbar": {
             "outlinewidth": 0,
             "ticks": ""
            },
            "type": "mesh3d"
           }
          ],
          "parcoords": [
           {
            "line": {
             "colorbar": {
              "outlinewidth": 0,
              "ticks": ""
             }
            },
            "type": "parcoords"
           }
          ],
          "pie": [
           {
            "automargin": true,
            "type": "pie"
           }
          ],
          "scatter": [
           {
            "marker": {
             "colorbar": {
              "outlinewidth": 0,
              "ticks": ""
             }
            },
            "type": "scatter"
           }
          ],
          "scatter3d": [
           {
            "line": {
             "colorbar": {
              "outlinewidth": 0,
              "ticks": ""
             }
            },
            "marker": {
             "colorbar": {
              "outlinewidth": 0,
              "ticks": ""
             }
            },
            "type": "scatter3d"
           }
          ],
          "scattercarpet": [
           {
            "marker": {
             "colorbar": {
              "outlinewidth": 0,
              "ticks": ""
             }
            },
            "type": "scattercarpet"
           }
          ],
          "scattergeo": [
           {
            "marker": {
             "colorbar": {
              "outlinewidth": 0,
              "ticks": ""
             }
            },
            "type": "scattergeo"
           }
          ],
          "scattergl": [
           {
            "marker": {
             "colorbar": {
              "outlinewidth": 0,
              "ticks": ""
             }
            },
            "type": "scattergl"
           }
          ],
          "scattermapbox": [
           {
            "marker": {
             "colorbar": {
              "outlinewidth": 0,
              "ticks": ""
             }
            },
            "type": "scattermapbox"
           }
          ],
          "scatterpolar": [
           {
            "marker": {
             "colorbar": {
              "outlinewidth": 0,
              "ticks": ""
             }
            },
            "type": "scatterpolar"
           }
          ],
          "scatterpolargl": [
           {
            "marker": {
             "colorbar": {
              "outlinewidth": 0,
              "ticks": ""
             }
            },
            "type": "scatterpolargl"
           }
          ],
          "scatterternary": [
           {
            "marker": {
             "colorbar": {
              "outlinewidth": 0,
              "ticks": ""
             }
            },
            "type": "scatterternary"
           }
          ],
          "surface": [
           {
            "colorbar": {
             "outlinewidth": 0,
             "ticks": ""
            },
            "colorscale": [
             [
              0,
              "#0d0887"
             ],
             [
              0.1111111111111111,
              "#46039f"
             ],
             [
              0.2222222222222222,
              "#7201a8"
             ],
             [
              0.3333333333333333,
              "#9c179e"
             ],
             [
              0.4444444444444444,
              "#bd3786"
             ],
             [
              0.5555555555555556,
              "#d8576b"
             ],
             [
              0.6666666666666666,
              "#ed7953"
             ],
             [
              0.7777777777777778,
              "#fb9f3a"
             ],
             [
              0.8888888888888888,
              "#fdca26"
             ],
             [
              1,
              "#f0f921"
             ]
            ],
            "type": "surface"
           }
          ],
          "table": [
           {
            "cells": {
             "fill": {
              "color": "#EBF0F8"
             },
             "line": {
              "color": "white"
             }
            },
            "header": {
             "fill": {
              "color": "#C8D4E3"
             },
             "line": {
              "color": "white"
             }
            },
            "type": "table"
           }
          ]
         },
         "layout": {
          "annotationdefaults": {
           "arrowcolor": "#2a3f5f",
           "arrowhead": 0,
           "arrowwidth": 1
          },
          "autotypenumbers": "strict",
          "coloraxis": {
           "colorbar": {
            "outlinewidth": 0,
            "ticks": ""
           }
          },
          "colorscale": {
           "diverging": [
            [
             0,
             "#8e0152"
            ],
            [
             0.1,
             "#c51b7d"
            ],
            [
             0.2,
             "#de77ae"
            ],
            [
             0.3,
             "#f1b6da"
            ],
            [
             0.4,
             "#fde0ef"
            ],
            [
             0.5,
             "#f7f7f7"
            ],
            [
             0.6,
             "#e6f5d0"
            ],
            [
             0.7,
             "#b8e186"
            ],
            [
             0.8,
             "#7fbc41"
            ],
            [
             0.9,
             "#4d9221"
            ],
            [
             1,
             "#276419"
            ]
           ],
           "sequential": [
            [
             0,
             "#0d0887"
            ],
            [
             0.1111111111111111,
             "#46039f"
            ],
            [
             0.2222222222222222,
             "#7201a8"
            ],
            [
             0.3333333333333333,
             "#9c179e"
            ],
            [
             0.4444444444444444,
             "#bd3786"
            ],
            [
             0.5555555555555556,
             "#d8576b"
            ],
            [
             0.6666666666666666,
             "#ed7953"
            ],
            [
             0.7777777777777778,
             "#fb9f3a"
            ],
            [
             0.8888888888888888,
             "#fdca26"
            ],
            [
             1,
             "#f0f921"
            ]
           ],
           "sequentialminus": [
            [
             0,
             "#0d0887"
            ],
            [
             0.1111111111111111,
             "#46039f"
            ],
            [
             0.2222222222222222,
             "#7201a8"
            ],
            [
             0.3333333333333333,
             "#9c179e"
            ],
            [
             0.4444444444444444,
             "#bd3786"
            ],
            [
             0.5555555555555556,
             "#d8576b"
            ],
            [
             0.6666666666666666,
             "#ed7953"
            ],
            [
             0.7777777777777778,
             "#fb9f3a"
            ],
            [
             0.8888888888888888,
             "#fdca26"
            ],
            [
             1,
             "#f0f921"
            ]
           ]
          },
          "colorway": [
           "#636efa",
           "#EF553B",
           "#00cc96",
           "#ab63fa",
           "#FFA15A",
           "#19d3f3",
           "#FF6692",
           "#B6E880",
           "#FF97FF",
           "#FECB52"
          ],
          "font": {
           "color": "#2a3f5f"
          },
          "geo": {
           "bgcolor": "white",
           "lakecolor": "white",
           "landcolor": "#E5ECF6",
           "showlakes": true,
           "showland": true,
           "subunitcolor": "white"
          },
          "hoverlabel": {
           "align": "left"
          },
          "hovermode": "closest",
          "mapbox": {
           "style": "light"
          },
          "paper_bgcolor": "white",
          "plot_bgcolor": "#E5ECF6",
          "polar": {
           "angularaxis": {
            "gridcolor": "white",
            "linecolor": "white",
            "ticks": ""
           },
           "bgcolor": "#E5ECF6",
           "radialaxis": {
            "gridcolor": "white",
            "linecolor": "white",
            "ticks": ""
           }
          },
          "scene": {
           "xaxis": {
            "backgroundcolor": "#E5ECF6",
            "gridcolor": "white",
            "gridwidth": 2,
            "linecolor": "white",
            "showbackground": true,
            "ticks": "",
            "zerolinecolor": "white"
           },
           "yaxis": {
            "backgroundcolor": "#E5ECF6",
            "gridcolor": "white",
            "gridwidth": 2,
            "linecolor": "white",
            "showbackground": true,
            "ticks": "",
            "zerolinecolor": "white"
           },
           "zaxis": {
            "backgroundcolor": "#E5ECF6",
            "gridcolor": "white",
            "gridwidth": 2,
            "linecolor": "white",
            "showbackground": true,
            "ticks": "",
            "zerolinecolor": "white"
           }
          },
          "shapedefaults": {
           "line": {
            "color": "#2a3f5f"
           }
          },
          "ternary": {
           "aaxis": {
            "gridcolor": "white",
            "linecolor": "white",
            "ticks": ""
           },
           "baxis": {
            "gridcolor": "white",
            "linecolor": "white",
            "ticks": ""
           },
           "bgcolor": "#E5ECF6",
           "caxis": {
            "gridcolor": "white",
            "linecolor": "white",
            "ticks": ""
           }
          },
          "title": {
           "x": 0.05
          },
          "xaxis": {
           "automargin": true,
           "gridcolor": "white",
           "linecolor": "white",
           "ticks": "",
           "title": {
            "standoff": 15
           },
           "zerolinecolor": "white",
           "zerolinewidth": 2
          },
          "yaxis": {
           "automargin": true,
           "gridcolor": "white",
           "linecolor": "white",
           "ticks": "",
           "title": {
            "standoff": 15
           },
           "zerolinecolor": "white",
           "zerolinewidth": 2
          }
         }
        },
        "title": {
         "font": {
          "color": "#4D5663"
         }
        },
        "xaxis": {
         "gridcolor": "#E1E5ED",
         "showgrid": true,
         "tickfont": {
          "color": "#4D5663"
         },
         "title": {
          "font": {
           "color": "#4D5663"
          },
          "text": ""
         },
         "zerolinecolor": "#E1E5ED"
        },
        "yaxis": {
         "gridcolor": "#E1E5ED",
         "showgrid": true,
         "tickfont": {
          "color": "#4D5663"
         },
         "title": {
          "font": {
           "color": "#4D5663"
          },
          "text": ""
         },
         "zerolinecolor": "#E1E5ED"
        }
       }
      },
      "text/html": [
       "<div>                            <div id=\"fd437f6c-0ecb-411f-97aa-a5cc898aefb7\" class=\"plotly-graph-div\" style=\"height:525px; width:100%;\"></div>            <script type=\"text/javascript\">                require([\"plotly\"], function(Plotly) {                    window.PLOTLYENV=window.PLOTLYENV || {};\n",
       "                    window.PLOTLYENV.BASE_URL='https://plot.ly';                                    if (document.getElementById(\"fd437f6c-0ecb-411f-97aa-a5cc898aefb7\")) {                    Plotly.newPlot(                        \"fd437f6c-0ecb-411f-97aa-a5cc898aefb7\",                        [{\"colorscale\": [[0.0, \"rgb(165,0,38)\"], [0.1, \"rgb(215,48,39)\"], [0.2, \"rgb(244,109,67)\"], [0.3, \"rgb(253,174,97)\"], [0.4, \"rgb(254,224,144)\"], [0.5, \"rgb(255,255,191)\"], [0.6, \"rgb(224,243,248)\"], [0.7, \"rgb(171,217,233)\"], [0.8, \"rgb(116,173,209)\"], [0.9, \"rgb(69,117,180)\"], [1.0, \"rgb(49,54,149)\"]], \"type\": \"surface\", \"x\": [0, 1, 2, 3, 4], \"y\": [\"x\", \"y\", \"z\"], \"z\": [[1, 2, 3, 4, 5], [10, 20, 30, 20, 10], [5, 4, 3, 2, 1]]}],                        {\"legend\": {\"bgcolor\": \"#F5F6F9\", \"font\": {\"color\": \"#4D5663\"}}, \"paper_bgcolor\": \"#F5F6F9\", \"plot_bgcolor\": \"#F5F6F9\", \"template\": {\"data\": {\"bar\": [{\"error_x\": {\"color\": \"#2a3f5f\"}, \"error_y\": {\"color\": \"#2a3f5f\"}, \"marker\": {\"line\": {\"color\": \"#E5ECF6\", \"width\": 0.5}}, \"type\": \"bar\"}], \"barpolar\": [{\"marker\": {\"line\": {\"color\": \"#E5ECF6\", \"width\": 0.5}}, \"type\": \"barpolar\"}], \"carpet\": [{\"aaxis\": {\"endlinecolor\": \"#2a3f5f\", \"gridcolor\": \"white\", \"linecolor\": \"white\", \"minorgridcolor\": \"white\", \"startlinecolor\": \"#2a3f5f\"}, \"baxis\": {\"endlinecolor\": \"#2a3f5f\", \"gridcolor\": \"white\", \"linecolor\": \"white\", \"minorgridcolor\": \"white\", \"startlinecolor\": \"#2a3f5f\"}, \"type\": \"carpet\"}], \"choropleth\": [{\"colorbar\": {\"outlinewidth\": 0, \"ticks\": \"\"}, \"type\": \"choropleth\"}], \"contour\": [{\"colorbar\": {\"outlinewidth\": 0, \"ticks\": \"\"}, \"colorscale\": [[0.0, \"#0d0887\"], [0.1111111111111111, \"#46039f\"], [0.2222222222222222, \"#7201a8\"], [0.3333333333333333, \"#9c179e\"], [0.4444444444444444, \"#bd3786\"], [0.5555555555555556, \"#d8576b\"], [0.6666666666666666, \"#ed7953\"], [0.7777777777777778, \"#fb9f3a\"], [0.8888888888888888, \"#fdca26\"], [1.0, \"#f0f921\"]], \"type\": \"contour\"}], \"contourcarpet\": [{\"colorbar\": {\"outlinewidth\": 0, \"ticks\": \"\"}, \"type\": \"contourcarpet\"}], \"heatmap\": [{\"colorbar\": {\"outlinewidth\": 0, \"ticks\": \"\"}, \"colorscale\": [[0.0, \"#0d0887\"], [0.1111111111111111, \"#46039f\"], [0.2222222222222222, \"#7201a8\"], [0.3333333333333333, \"#9c179e\"], [0.4444444444444444, \"#bd3786\"], [0.5555555555555556, \"#d8576b\"], [0.6666666666666666, \"#ed7953\"], [0.7777777777777778, \"#fb9f3a\"], [0.8888888888888888, \"#fdca26\"], [1.0, \"#f0f921\"]], \"type\": \"heatmap\"}], \"heatmapgl\": [{\"colorbar\": {\"outlinewidth\": 0, \"ticks\": \"\"}, \"colorscale\": [[0.0, \"#0d0887\"], [0.1111111111111111, \"#46039f\"], [0.2222222222222222, \"#7201a8\"], [0.3333333333333333, \"#9c179e\"], [0.4444444444444444, \"#bd3786\"], [0.5555555555555556, \"#d8576b\"], [0.6666666666666666, \"#ed7953\"], [0.7777777777777778, \"#fb9f3a\"], [0.8888888888888888, \"#fdca26\"], [1.0, \"#f0f921\"]], \"type\": \"heatmapgl\"}], \"histogram\": [{\"marker\": {\"colorbar\": {\"outlinewidth\": 0, \"ticks\": \"\"}}, \"type\": \"histogram\"}], \"histogram2d\": [{\"colorbar\": {\"outlinewidth\": 0, \"ticks\": \"\"}, \"colorscale\": [[0.0, \"#0d0887\"], [0.1111111111111111, \"#46039f\"], [0.2222222222222222, \"#7201a8\"], [0.3333333333333333, \"#9c179e\"], [0.4444444444444444, \"#bd3786\"], [0.5555555555555556, \"#d8576b\"], [0.6666666666666666, \"#ed7953\"], [0.7777777777777778, \"#fb9f3a\"], [0.8888888888888888, \"#fdca26\"], [1.0, \"#f0f921\"]], \"type\": \"histogram2d\"}], \"histogram2dcontour\": [{\"colorbar\": {\"outlinewidth\": 0, \"ticks\": \"\"}, \"colorscale\": [[0.0, \"#0d0887\"], [0.1111111111111111, \"#46039f\"], [0.2222222222222222, \"#7201a8\"], [0.3333333333333333, \"#9c179e\"], [0.4444444444444444, \"#bd3786\"], [0.5555555555555556, \"#d8576b\"], [0.6666666666666666, \"#ed7953\"], [0.7777777777777778, \"#fb9f3a\"], [0.8888888888888888, \"#fdca26\"], [1.0, \"#f0f921\"]], \"type\": \"histogram2dcontour\"}], \"mesh3d\": [{\"colorbar\": {\"outlinewidth\": 0, \"ticks\": \"\"}, \"type\": \"mesh3d\"}], \"parcoords\": [{\"line\": {\"colorbar\": {\"outlinewidth\": 0, \"ticks\": \"\"}}, \"type\": \"parcoords\"}], \"pie\": [{\"automargin\": true, \"type\": \"pie\"}], \"scatter\": [{\"marker\": {\"colorbar\": {\"outlinewidth\": 0, \"ticks\": \"\"}}, \"type\": \"scatter\"}], \"scatter3d\": [{\"line\": {\"colorbar\": {\"outlinewidth\": 0, \"ticks\": \"\"}}, \"marker\": {\"colorbar\": {\"outlinewidth\": 0, \"ticks\": \"\"}}, \"type\": \"scatter3d\"}], \"scattercarpet\": [{\"marker\": {\"colorbar\": {\"outlinewidth\": 0, \"ticks\": \"\"}}, \"type\": \"scattercarpet\"}], \"scattergeo\": [{\"marker\": {\"colorbar\": {\"outlinewidth\": 0, \"ticks\": \"\"}}, \"type\": \"scattergeo\"}], \"scattergl\": [{\"marker\": {\"colorbar\": {\"outlinewidth\": 0, \"ticks\": \"\"}}, \"type\": \"scattergl\"}], \"scattermapbox\": [{\"marker\": {\"colorbar\": {\"outlinewidth\": 0, \"ticks\": \"\"}}, \"type\": \"scattermapbox\"}], \"scatterpolar\": [{\"marker\": {\"colorbar\": {\"outlinewidth\": 0, \"ticks\": \"\"}}, \"type\": \"scatterpolar\"}], \"scatterpolargl\": [{\"marker\": {\"colorbar\": {\"outlinewidth\": 0, \"ticks\": \"\"}}, \"type\": \"scatterpolargl\"}], \"scatterternary\": [{\"marker\": {\"colorbar\": {\"outlinewidth\": 0, \"ticks\": \"\"}}, \"type\": \"scatterternary\"}], \"surface\": [{\"colorbar\": {\"outlinewidth\": 0, \"ticks\": \"\"}, \"colorscale\": [[0.0, \"#0d0887\"], [0.1111111111111111, \"#46039f\"], [0.2222222222222222, \"#7201a8\"], [0.3333333333333333, \"#9c179e\"], [0.4444444444444444, \"#bd3786\"], [0.5555555555555556, \"#d8576b\"], [0.6666666666666666, \"#ed7953\"], [0.7777777777777778, \"#fb9f3a\"], [0.8888888888888888, \"#fdca26\"], [1.0, \"#f0f921\"]], \"type\": \"surface\"}], \"table\": [{\"cells\": {\"fill\": {\"color\": \"#EBF0F8\"}, \"line\": {\"color\": \"white\"}}, \"header\": {\"fill\": {\"color\": \"#C8D4E3\"}, \"line\": {\"color\": \"white\"}}, \"type\": \"table\"}]}, \"layout\": {\"annotationdefaults\": {\"arrowcolor\": \"#2a3f5f\", \"arrowhead\": 0, \"arrowwidth\": 1}, \"autotypenumbers\": \"strict\", \"coloraxis\": {\"colorbar\": {\"outlinewidth\": 0, \"ticks\": \"\"}}, \"colorscale\": {\"diverging\": [[0, \"#8e0152\"], [0.1, \"#c51b7d\"], [0.2, \"#de77ae\"], [0.3, \"#f1b6da\"], [0.4, \"#fde0ef\"], [0.5, \"#f7f7f7\"], [0.6, \"#e6f5d0\"], [0.7, \"#b8e186\"], [0.8, \"#7fbc41\"], [0.9, \"#4d9221\"], [1, \"#276419\"]], \"sequential\": [[0.0, \"#0d0887\"], [0.1111111111111111, \"#46039f\"], [0.2222222222222222, \"#7201a8\"], [0.3333333333333333, \"#9c179e\"], [0.4444444444444444, \"#bd3786\"], [0.5555555555555556, \"#d8576b\"], [0.6666666666666666, \"#ed7953\"], [0.7777777777777778, \"#fb9f3a\"], [0.8888888888888888, \"#fdca26\"], [1.0, \"#f0f921\"]], \"sequentialminus\": [[0.0, \"#0d0887\"], [0.1111111111111111, \"#46039f\"], [0.2222222222222222, \"#7201a8\"], [0.3333333333333333, \"#9c179e\"], [0.4444444444444444, \"#bd3786\"], [0.5555555555555556, \"#d8576b\"], [0.6666666666666666, \"#ed7953\"], [0.7777777777777778, \"#fb9f3a\"], [0.8888888888888888, \"#fdca26\"], [1.0, \"#f0f921\"]]}, \"colorway\": [\"#636efa\", \"#EF553B\", \"#00cc96\", \"#ab63fa\", \"#FFA15A\", \"#19d3f3\", \"#FF6692\", \"#B6E880\", \"#FF97FF\", \"#FECB52\"], \"font\": {\"color\": \"#2a3f5f\"}, \"geo\": {\"bgcolor\": \"white\", \"lakecolor\": \"white\", \"landcolor\": \"#E5ECF6\", \"showlakes\": true, \"showland\": true, \"subunitcolor\": \"white\"}, \"hoverlabel\": {\"align\": \"left\"}, \"hovermode\": \"closest\", \"mapbox\": {\"style\": \"light\"}, \"paper_bgcolor\": \"white\", \"plot_bgcolor\": \"#E5ECF6\", \"polar\": {\"angularaxis\": {\"gridcolor\": \"white\", \"linecolor\": \"white\", \"ticks\": \"\"}, \"bgcolor\": \"#E5ECF6\", \"radialaxis\": {\"gridcolor\": \"white\", \"linecolor\": \"white\", \"ticks\": \"\"}}, \"scene\": {\"xaxis\": {\"backgroundcolor\": \"#E5ECF6\", \"gridcolor\": \"white\", \"gridwidth\": 2, \"linecolor\": \"white\", \"showbackground\": true, \"ticks\": \"\", \"zerolinecolor\": \"white\"}, \"yaxis\": {\"backgroundcolor\": \"#E5ECF6\", \"gridcolor\": \"white\", \"gridwidth\": 2, \"linecolor\": \"white\", \"showbackground\": true, \"ticks\": \"\", \"zerolinecolor\": \"white\"}, \"zaxis\": {\"backgroundcolor\": \"#E5ECF6\", \"gridcolor\": \"white\", \"gridwidth\": 2, \"linecolor\": \"white\", \"showbackground\": true, \"ticks\": \"\", \"zerolinecolor\": \"white\"}}, \"shapedefaults\": {\"line\": {\"color\": \"#2a3f5f\"}}, \"ternary\": {\"aaxis\": {\"gridcolor\": \"white\", \"linecolor\": \"white\", \"ticks\": \"\"}, \"baxis\": {\"gridcolor\": \"white\", \"linecolor\": \"white\", \"ticks\": \"\"}, \"bgcolor\": \"#E5ECF6\", \"caxis\": {\"gridcolor\": \"white\", \"linecolor\": \"white\", \"ticks\": \"\"}}, \"title\": {\"x\": 0.05}, \"xaxis\": {\"automargin\": true, \"gridcolor\": \"white\", \"linecolor\": \"white\", \"ticks\": \"\", \"title\": {\"standoff\": 15}, \"zerolinecolor\": \"white\", \"zerolinewidth\": 2}, \"yaxis\": {\"automargin\": true, \"gridcolor\": \"white\", \"linecolor\": \"white\", \"ticks\": \"\", \"title\": {\"standoff\": 15}, \"zerolinecolor\": \"white\", \"zerolinewidth\": 2}}}, \"title\": {\"font\": {\"color\": \"#4D5663\"}}, \"xaxis\": {\"gridcolor\": \"#E1E5ED\", \"showgrid\": true, \"tickfont\": {\"color\": \"#4D5663\"}, \"title\": {\"font\": {\"color\": \"#4D5663\"}, \"text\": \"\"}, \"zerolinecolor\": \"#E1E5ED\"}, \"yaxis\": {\"gridcolor\": \"#E1E5ED\", \"showgrid\": true, \"tickfont\": {\"color\": \"#4D5663\"}, \"title\": {\"font\": {\"color\": \"#4D5663\"}, \"text\": \"\"}, \"zerolinecolor\": \"#E1E5ED\"}},                        {\"showLink\": true, \"linkText\": \"Export to plot.ly\", \"plotlyServerURL\": \"https://plot.ly\", \"responsive\": true}                    ).then(function(){\n",
       "                            \n",
       "var gd = document.getElementById('fd437f6c-0ecb-411f-97aa-a5cc898aefb7');\n",
       "var x = new MutationObserver(function (mutations, observer) {{\n",
       "        var display = window.getComputedStyle(gd).display;\n",
       "        if (!display || display === 'none') {{\n",
       "            console.log([gd, 'removed!']);\n",
       "            Plotly.purge(gd);\n",
       "            observer.disconnect();\n",
       "        }}\n",
       "}});\n",
       "\n",
       "// Listen for the removal of the full notebook cells\n",
       "var notebookContainer = gd.closest('#notebook-container');\n",
       "if (notebookContainer) {{\n",
       "    x.observe(notebookContainer, {childList: true});\n",
       "}}\n",
       "\n",
       "// Listen for the clearing of the current output cell\n",
       "var outputEl = gd.closest('.output');\n",
       "if (outputEl) {{\n",
       "    x.observe(outputEl, {childList: true});\n",
       "}}\n",
       "\n",
       "                        })                };                });            </script>        </div>"
      ]
     },
     "metadata": {},
     "output_type": "display_data"
    }
   ],
   "source": [
    "df3 = pd.DataFrame({'x':[1,2,3,4,5],'y':[10,20,30,20,10],'z':[5,4,3,2,1]})\n",
    "df3.iplot(kind='surface',colorscale='rdylbu')"
   ]
  },
  {
   "cell_type": "markdown",
   "metadata": {},
   "source": [
    "## Spread"
   ]
  },
  {
   "cell_type": "code",
   "execution_count": 39,
   "metadata": {},
   "outputs": [
    {
     "data": {
      "application/vnd.plotly.v1+json": {
       "config": {
        "linkText": "Export to plot.ly",
        "plotlyServerURL": "https://plot.ly",
        "showLink": true
       },
       "data": [
        {
         "line": {
          "color": "rgba(255, 153, 51, 1.0)",
          "dash": "solid",
          "shape": "linear",
          "width": 1.3
         },
         "mode": "lines",
         "name": "A",
         "text": "",
         "type": "scatter",
         "x": [
          0,
          1,
          2,
          3,
          4,
          5,
          6,
          7,
          8,
          9,
          10,
          11,
          12,
          13,
          14,
          15,
          16,
          17,
          18,
          19,
          20,
          21,
          22,
          23,
          24,
          25,
          26,
          27,
          28,
          29,
          30,
          31,
          32,
          33,
          34,
          35,
          36,
          37,
          38,
          39,
          40,
          41,
          42,
          43,
          44,
          45,
          46,
          47,
          48,
          49,
          50,
          51,
          52,
          53,
          54,
          55,
          56,
          57,
          58,
          59,
          60,
          61,
          62,
          63,
          64,
          65,
          66,
          67,
          68,
          69,
          70,
          71,
          72,
          73,
          74,
          75,
          76,
          77,
          78,
          79,
          80,
          81,
          82,
          83,
          84,
          85,
          86,
          87,
          88,
          89,
          90,
          91,
          92,
          93,
          94,
          95,
          96,
          97,
          98,
          99
         ],
         "y": [
          0.5559244215996016,
          0.16531247499681323,
          -0.8101100169139632,
          -1.3974320065743162,
          1.6136174804983556,
          -0.3211925649236798,
          -0.3708134451358885,
          0.7768683958236318,
          0.9185436802928186,
          1.2762372604361978,
          0.4127563834151255,
          -0.9193064276735416,
          -1.5395019336205855,
          -0.5305376223271864,
          -0.9903403728567307,
          0.14647506819357678,
          -0.1763519726139724,
          0.36008109401573163,
          -0.3176404768055409,
          -0.19412325558431157,
          -0.0904221223832305,
          -0.5945023504586406,
          -0.03895869264617371,
          0.5901436910604915,
          -0.7996642304747691,
          1.0301076261885471,
          0.9621354965051399,
          0.30578234381497704,
          -0.724902498511663,
          -0.21758223505728244,
          0.32225672399278027,
          0.16816746481521705,
          -0.3052736668837778,
          -0.3751381721108554,
          0.827811394916156,
          -1.1823153331521996,
          0.05309296545930296,
          0.7949550338463784,
          0.009844956835440979,
          -0.421073670238091,
          -0.9065419444857088,
          0.5772849324123647,
          -2.0877670198322047,
          1.3868161621120656,
          -0.702588197611849,
          0.162538412371124,
          -0.003047648967196274,
          0.18507428698394549,
          -0.2390219605970498,
          0.07847295052663021,
          -0.246121472387244,
          0.7798289383401936,
          1.4968068545020095,
          -0.7877805920356816,
          -1.126634990257943,
          0.11719360333798196,
          -1.5602947784857861,
          1.298860409475295,
          -1.8056312905844059,
          1.1832197109271312,
          1.4331767165642602,
          -0.2911593460243957,
          0.1574901335703895,
          0.06854985942307727,
          1.4231140740707144,
          -2.04463937159396,
          -1.8251943251991503,
          0.14962534578078765,
          0.0813071065438157,
          -1.0863368122861674,
          0.9565864600231273,
          0.6642827660389123,
          -1.4831517966951513,
          -0.39828961293614407,
          0.22927634606915795,
          0.22238917753957502,
          0.7686846529091509,
          1.47119939628487,
          -1.556400814871271,
          -2.735284320598148,
          0.07069490963218183,
          0.23495848143046277,
          1.9148595400160937,
          0.6174926889282726,
          -1.4203144589579582,
          1.1619629955318764,
          -0.5601347720040485,
          -0.6703767522970148,
          0.17875077451214946,
          0.08181724511550104,
          -0.3519235217399932,
          1.3203913019856222,
          1.8460431102673394,
          -0.14262827208374368,
          0.6250080835386731,
          1.9614289138545555,
          0.4434327783663857,
          1.6393596269936033,
          1.530107027081265,
          1.6215780684288195
         ]
        },
        {
         "line": {
          "color": "rgba(55, 128, 191, 1.0)",
          "dash": "solid",
          "shape": "linear",
          "width": 1.3
         },
         "mode": "lines",
         "name": "B",
         "text": "",
         "type": "scatter",
         "x": [
          0,
          1,
          2,
          3,
          4,
          5,
          6,
          7,
          8,
          9,
          10,
          11,
          12,
          13,
          14,
          15,
          16,
          17,
          18,
          19,
          20,
          21,
          22,
          23,
          24,
          25,
          26,
          27,
          28,
          29,
          30,
          31,
          32,
          33,
          34,
          35,
          36,
          37,
          38,
          39,
          40,
          41,
          42,
          43,
          44,
          45,
          46,
          47,
          48,
          49,
          50,
          51,
          52,
          53,
          54,
          55,
          56,
          57,
          58,
          59,
          60,
          61,
          62,
          63,
          64,
          65,
          66,
          67,
          68,
          69,
          70,
          71,
          72,
          73,
          74,
          75,
          76,
          77,
          78,
          79,
          80,
          81,
          82,
          83,
          84,
          85,
          86,
          87,
          88,
          89,
          90,
          91,
          92,
          93,
          94,
          95,
          96,
          97,
          98,
          99
         ],
         "y": [
          0.22903146892060294,
          -1.0438839554806172,
          -0.4399526952827415,
          -0.4633382480861902,
          -1.5654877913797267,
          1.2377698503523018,
          -0.007528301571093346,
          -0.7821574542974872,
          0.1932979535681084,
          0.16383400694923386,
          -0.10457958055017953,
          -0.5483224720829957,
          0.3901467033850892,
          0.8733391491473266,
          -1.8148002875494058,
          -0.0759623941349184,
          -1.5726465344150269,
          -0.6082787903749993,
          0.3214224546316616,
          0.4511156558335474,
          -0.2819159475893012,
          -0.03168586915965763,
          0.4153575859846248,
          -0.8519307093778403,
          -0.18818870118555994,
          -1.4230368693782596,
          -1.1061437380428527,
          -0.4788898790879405,
          -0.30961021649646114,
          0.826955287725046,
          1.2056289154607636,
          -0.70084903580063,
          0.8209283555060617,
          -0.5298851830413455,
          0.1451874152781941,
          -1.5865763699281297,
          1.6520160207008723,
          -0.6106005545270637,
          -0.4657338792251926,
          -1.613208567945061,
          -0.3358265022436321,
          -0.19539723810652976,
          -0.10857198778945001,
          -0.5686738836571239,
          0.026700284464226395,
          0.060562223568401255,
          -1.322550194123688,
          -1.1478889418544014,
          -0.6747492167943674,
          1.4978851912884552,
          -0.8144161797427335,
          -0.6614153305732594,
          -1.9119357727283888,
          -1.164014883430049,
          0.5595234352487303,
          0.108328681661955,
          -0.9706109249546176,
          0.47099451136202414,
          0.9089019866312754,
          -0.4955207283130792,
          -1.125571044511677,
          -1.259705874458263,
          0.9499971437675632,
          -1.0807709308166202,
          0.3365070500166459,
          1.2321842350594938,
          -1.4903302832650034,
          0.3514723761902005,
          0.08623718249227429,
          -0.20931093736104614,
          -0.9741715973174373,
          -0.5308998848264274,
          -2.410083026327852,
          -0.1899938700628958,
          1.7683431358180248,
          -0.47597742609579835,
          -0.0013692778474197807,
          -3.381411728787464,
          0.2096704289056021,
          0.017403841169861784,
          0.40583638946018025,
          -0.6750001314794015,
          0.15150861459613177,
          0.17204801196444056,
          1.2690154822774866,
          -2.289782485465693,
          -0.12230747952833376,
          -1.2401555231539811,
          0.6775438389699542,
          0.748663635094293,
          -1.0291210942321232,
          0.11491042839811323,
          0.6149875024612116,
          -0.6752388716699234,
          -1.0210089048464344,
          -1.306395759730055,
          -0.8897696845214655,
          1.9783178499112062,
          0.7937356305287727,
          -0.30826255509155437
         ]
        },
        {
         "connectgaps": false,
         "fill": "tozeroy",
         "line": {
          "color": "green",
          "dash": "solid",
          "shape": "linear",
          "width": 0.5
         },
         "mode": "lines",
         "name": "Spread",
         "showlegend": false,
         "type": "scatter",
         "x": [
          0,
          1,
          2,
          3,
          4,
          5,
          6,
          7,
          8,
          9,
          10,
          11,
          12,
          13,
          14,
          15,
          16,
          17,
          18,
          19,
          20,
          21,
          22,
          23,
          24,
          25,
          26,
          27,
          28,
          29,
          30,
          31,
          32,
          33,
          34,
          35,
          36,
          37,
          38,
          39,
          40,
          41,
          42,
          43,
          44,
          45,
          46,
          47,
          48,
          49,
          50,
          51,
          52,
          53,
          54,
          55,
          56,
          57,
          58,
          59,
          60,
          61,
          62,
          63,
          64,
          65,
          66,
          67,
          68,
          69,
          70,
          71,
          72,
          73,
          74,
          75,
          76,
          77,
          78,
          79,
          80,
          81,
          82,
          83,
          84,
          85,
          86,
          87,
          88,
          89,
          90,
          91,
          92,
          93,
          94,
          95,
          96,
          97,
          98,
          99
         ],
         "xaxis": "x2",
         "y": [
          0.3268929526789987,
          1.2091964304774305,
          "",
          "",
          3.1791052718780826,
          "",
          "",
          1.559025850121119,
          0.7252457267247102,
          1.112403253486964,
          0.517335963965305,
          "",
          "",
          "",
          0.8244599146926751,
          0.22243746232849518,
          1.3962945618010545,
          0.968359884390731,
          "",
          "",
          0.19149382520607072,
          "",
          "",
          1.4420744004383317,
          "",
          2.4531444955668067,
          2.0682792345479926,
          0.7846722229029175,
          "",
          "",
          "",
          0.869016500615847,
          "",
          0.1547470109304901,
          0.6826239796379618,
          0.40426103677593006,
          "",
          1.405555588373442,
          0.47557883606063356,
          1.19213489770697,
          "",
          0.7726821705188944,
          "",
          1.9554900457691895,
          "",
          0.10197618880272276,
          1.3195025451564917,
          1.3329632288383468,
          0.43572725619731756,
          "",
          0.5682947073554895,
          1.441244268913453,
          3.4087426272303984,
          0.37623429139436737,
          "",
          0.008864921676026954,
          "",
          0.8278658981132707,
          "",
          1.6787404392402103,
          2.5587477610759373,
          0.9685465284338672,
          "",
          1.1493207902396976,
          1.0866070240540686,
          "",
          "",
          "",
          "",
          "",
          1.9307580573405647,
          1.1951826508653398,
          0.9269312296327008,
          "",
          "",
          0.6983666036353734,
          0.7700539307565707,
          4.852611125072334,
          "",
          "",
          "",
          0.9099586129098642,
          1.763350925419962,
          0.44544467696383205,
          "",
          3.4517454809975696,
          "",
          0.5697787708569664,
          "",
          "",
          0.67719757249213,
          1.2054808735875089,
          1.2310556078061277,
          0.5326105995861796,
          1.6460169883851075,
          3.2678246735846104,
          1.3332024628878512,
          "",
          0.7363713965524922,
          1.9298406235203738
         ],
         "yaxis": "y2"
        },
        {
         "connectgaps": false,
         "fill": "tozeroy",
         "line": {
          "color": "red",
          "dash": "solid",
          "shape": "linear",
          "width": 0.5
         },
         "mode": "lines",
         "name": "Spread",
         "showlegend": false,
         "type": "scatter",
         "x": [
          0,
          1,
          2,
          3,
          4,
          5,
          6,
          7,
          8,
          9,
          10,
          11,
          12,
          13,
          14,
          15,
          16,
          17,
          18,
          19,
          20,
          21,
          22,
          23,
          24,
          25,
          26,
          27,
          28,
          29,
          30,
          31,
          32,
          33,
          34,
          35,
          36,
          37,
          38,
          39,
          40,
          41,
          42,
          43,
          44,
          45,
          46,
          47,
          48,
          49,
          50,
          51,
          52,
          53,
          54,
          55,
          56,
          57,
          58,
          59,
          60,
          61,
          62,
          63,
          64,
          65,
          66,
          67,
          68,
          69,
          70,
          71,
          72,
          73,
          74,
          75,
          76,
          77,
          78,
          79,
          80,
          81,
          82,
          83,
          84,
          85,
          86,
          87,
          88,
          89,
          90,
          91,
          92,
          93,
          94,
          95,
          96,
          97,
          98,
          99
         ],
         "xaxis": "x2",
         "y": [
          "",
          "",
          -0.3701573216312217,
          -0.934093758488126,
          "",
          -1.5589624152759816,
          -0.36328514356479513,
          "",
          "",
          "",
          "",
          -0.370983955590546,
          -1.9296486370056747,
          -1.403876771474513,
          "",
          "",
          "",
          "",
          -0.6390629314372025,
          -0.6452389114178589,
          "",
          -0.562816481298983,
          -0.4543162786307985,
          "",
          -0.6114755292892091,
          "",
          "",
          "",
          -0.41529228201520185,
          -1.0445375227823284,
          -0.8833721914679833,
          "",
          -1.1262020223898395,
          "",
          "",
          "",
          -1.5989230552415694,
          "",
          "",
          "",
          -0.5707154422420767,
          "",
          -1.9791950320427547,
          "",
          -0.7292884820760753,
          "",
          "",
          "",
          "",
          -1.419412240761825,
          "",
          "",
          "",
          "",
          -1.6861584255066733,
          "",
          -0.5896838535311685,
          "",
          -2.7145332772156814,
          "",
          "",
          "",
          -0.7925070101971736,
          "",
          "",
          -3.276823606653454,
          -0.33486404193414687,
          -0.20184703040941285,
          -0.0049300759484585815,
          -0.8770258749251213,
          "",
          "",
          "",
          -0.20829574287324826,
          -1.5390667897488668,
          "",
          "",
          "",
          -1.766071243776873,
          -2.7526881617680097,
          -0.3351414798279984,
          "",
          "",
          "",
          -2.689329941235445,
          "",
          -0.4378272924757147,
          "",
          -0.4987930644578047,
          -0.666846389978792,
          "",
          "",
          "",
          "",
          "",
          "",
          "",
          -0.3389582229176029,
          "",
          ""
         ],
         "yaxis": "y2"
        }
       ],
       "layout": {
        "hovermode": "x",
        "legend": {
         "bgcolor": "#F5F6F9",
         "font": {
          "color": "#4D5663"
         }
        },
        "paper_bgcolor": "#F5F6F9",
        "plot_bgcolor": "#F5F6F9",
        "template": {
         "data": {
          "bar": [
           {
            "error_x": {
             "color": "#2a3f5f"
            },
            "error_y": {
             "color": "#2a3f5f"
            },
            "marker": {
             "line": {
              "color": "#E5ECF6",
              "width": 0.5
             }
            },
            "type": "bar"
           }
          ],
          "barpolar": [
           {
            "marker": {
             "line": {
              "color": "#E5ECF6",
              "width": 0.5
             }
            },
            "type": "barpolar"
           }
          ],
          "carpet": [
           {
            "aaxis": {
             "endlinecolor": "#2a3f5f",
             "gridcolor": "white",
             "linecolor": "white",
             "minorgridcolor": "white",
             "startlinecolor": "#2a3f5f"
            },
            "baxis": {
             "endlinecolor": "#2a3f5f",
             "gridcolor": "white",
             "linecolor": "white",
             "minorgridcolor": "white",
             "startlinecolor": "#2a3f5f"
            },
            "type": "carpet"
           }
          ],
          "choropleth": [
           {
            "colorbar": {
             "outlinewidth": 0,
             "ticks": ""
            },
            "type": "choropleth"
           }
          ],
          "contour": [
           {
            "colorbar": {
             "outlinewidth": 0,
             "ticks": ""
            },
            "colorscale": [
             [
              0,
              "#0d0887"
             ],
             [
              0.1111111111111111,
              "#46039f"
             ],
             [
              0.2222222222222222,
              "#7201a8"
             ],
             [
              0.3333333333333333,
              "#9c179e"
             ],
             [
              0.4444444444444444,
              "#bd3786"
             ],
             [
              0.5555555555555556,
              "#d8576b"
             ],
             [
              0.6666666666666666,
              "#ed7953"
             ],
             [
              0.7777777777777778,
              "#fb9f3a"
             ],
             [
              0.8888888888888888,
              "#fdca26"
             ],
             [
              1,
              "#f0f921"
             ]
            ],
            "type": "contour"
           }
          ],
          "contourcarpet": [
           {
            "colorbar": {
             "outlinewidth": 0,
             "ticks": ""
            },
            "type": "contourcarpet"
           }
          ],
          "heatmap": [
           {
            "colorbar": {
             "outlinewidth": 0,
             "ticks": ""
            },
            "colorscale": [
             [
              0,
              "#0d0887"
             ],
             [
              0.1111111111111111,
              "#46039f"
             ],
             [
              0.2222222222222222,
              "#7201a8"
             ],
             [
              0.3333333333333333,
              "#9c179e"
             ],
             [
              0.4444444444444444,
              "#bd3786"
             ],
             [
              0.5555555555555556,
              "#d8576b"
             ],
             [
              0.6666666666666666,
              "#ed7953"
             ],
             [
              0.7777777777777778,
              "#fb9f3a"
             ],
             [
              0.8888888888888888,
              "#fdca26"
             ],
             [
              1,
              "#f0f921"
             ]
            ],
            "type": "heatmap"
           }
          ],
          "heatmapgl": [
           {
            "colorbar": {
             "outlinewidth": 0,
             "ticks": ""
            },
            "colorscale": [
             [
              0,
              "#0d0887"
             ],
             [
              0.1111111111111111,
              "#46039f"
             ],
             [
              0.2222222222222222,
              "#7201a8"
             ],
             [
              0.3333333333333333,
              "#9c179e"
             ],
             [
              0.4444444444444444,
              "#bd3786"
             ],
             [
              0.5555555555555556,
              "#d8576b"
             ],
             [
              0.6666666666666666,
              "#ed7953"
             ],
             [
              0.7777777777777778,
              "#fb9f3a"
             ],
             [
              0.8888888888888888,
              "#fdca26"
             ],
             [
              1,
              "#f0f921"
             ]
            ],
            "type": "heatmapgl"
           }
          ],
          "histogram": [
           {
            "marker": {
             "colorbar": {
              "outlinewidth": 0,
              "ticks": ""
             }
            },
            "type": "histogram"
           }
          ],
          "histogram2d": [
           {
            "colorbar": {
             "outlinewidth": 0,
             "ticks": ""
            },
            "colorscale": [
             [
              0,
              "#0d0887"
             ],
             [
              0.1111111111111111,
              "#46039f"
             ],
             [
              0.2222222222222222,
              "#7201a8"
             ],
             [
              0.3333333333333333,
              "#9c179e"
             ],
             [
              0.4444444444444444,
              "#bd3786"
             ],
             [
              0.5555555555555556,
              "#d8576b"
             ],
             [
              0.6666666666666666,
              "#ed7953"
             ],
             [
              0.7777777777777778,
              "#fb9f3a"
             ],
             [
              0.8888888888888888,
              "#fdca26"
             ],
             [
              1,
              "#f0f921"
             ]
            ],
            "type": "histogram2d"
           }
          ],
          "histogram2dcontour": [
           {
            "colorbar": {
             "outlinewidth": 0,
             "ticks": ""
            },
            "colorscale": [
             [
              0,
              "#0d0887"
             ],
             [
              0.1111111111111111,
              "#46039f"
             ],
             [
              0.2222222222222222,
              "#7201a8"
             ],
             [
              0.3333333333333333,
              "#9c179e"
             ],
             [
              0.4444444444444444,
              "#bd3786"
             ],
             [
              0.5555555555555556,
              "#d8576b"
             ],
             [
              0.6666666666666666,
              "#ed7953"
             ],
             [
              0.7777777777777778,
              "#fb9f3a"
             ],
             [
              0.8888888888888888,
              "#fdca26"
             ],
             [
              1,
              "#f0f921"
             ]
            ],
            "type": "histogram2dcontour"
           }
          ],
          "mesh3d": [
           {
            "colorbar": {
             "outlinewidth": 0,
             "ticks": ""
            },
            "type": "mesh3d"
           }
          ],
          "parcoords": [
           {
            "line": {
             "colorbar": {
              "outlinewidth": 0,
              "ticks": ""
             }
            },
            "type": "parcoords"
           }
          ],
          "pie": [
           {
            "automargin": true,
            "type": "pie"
           }
          ],
          "scatter": [
           {
            "marker": {
             "colorbar": {
              "outlinewidth": 0,
              "ticks": ""
             }
            },
            "type": "scatter"
           }
          ],
          "scatter3d": [
           {
            "line": {
             "colorbar": {
              "outlinewidth": 0,
              "ticks": ""
             }
            },
            "marker": {
             "colorbar": {
              "outlinewidth": 0,
              "ticks": ""
             }
            },
            "type": "scatter3d"
           }
          ],
          "scattercarpet": [
           {
            "marker": {
             "colorbar": {
              "outlinewidth": 0,
              "ticks": ""
             }
            },
            "type": "scattercarpet"
           }
          ],
          "scattergeo": [
           {
            "marker": {
             "colorbar": {
              "outlinewidth": 0,
              "ticks": ""
             }
            },
            "type": "scattergeo"
           }
          ],
          "scattergl": [
           {
            "marker": {
             "colorbar": {
              "outlinewidth": 0,
              "ticks": ""
             }
            },
            "type": "scattergl"
           }
          ],
          "scattermapbox": [
           {
            "marker": {
             "colorbar": {
              "outlinewidth": 0,
              "ticks": ""
             }
            },
            "type": "scattermapbox"
           }
          ],
          "scatterpolar": [
           {
            "marker": {
             "colorbar": {
              "outlinewidth": 0,
              "ticks": ""
             }
            },
            "type": "scatterpolar"
           }
          ],
          "scatterpolargl": [
           {
            "marker": {
             "colorbar": {
              "outlinewidth": 0,
              "ticks": ""
             }
            },
            "type": "scatterpolargl"
           }
          ],
          "scatterternary": [
           {
            "marker": {
             "colorbar": {
              "outlinewidth": 0,
              "ticks": ""
             }
            },
            "type": "scatterternary"
           }
          ],
          "surface": [
           {
            "colorbar": {
             "outlinewidth": 0,
             "ticks": ""
            },
            "colorscale": [
             [
              0,
              "#0d0887"
             ],
             [
              0.1111111111111111,
              "#46039f"
             ],
             [
              0.2222222222222222,
              "#7201a8"
             ],
             [
              0.3333333333333333,
              "#9c179e"
             ],
             [
              0.4444444444444444,
              "#bd3786"
             ],
             [
              0.5555555555555556,
              "#d8576b"
             ],
             [
              0.6666666666666666,
              "#ed7953"
             ],
             [
              0.7777777777777778,
              "#fb9f3a"
             ],
             [
              0.8888888888888888,
              "#fdca26"
             ],
             [
              1,
              "#f0f921"
             ]
            ],
            "type": "surface"
           }
          ],
          "table": [
           {
            "cells": {
             "fill": {
              "color": "#EBF0F8"
             },
             "line": {
              "color": "white"
             }
            },
            "header": {
             "fill": {
              "color": "#C8D4E3"
             },
             "line": {
              "color": "white"
             }
            },
            "type": "table"
           }
          ]
         },
         "layout": {
          "annotationdefaults": {
           "arrowcolor": "#2a3f5f",
           "arrowhead": 0,
           "arrowwidth": 1
          },
          "autotypenumbers": "strict",
          "coloraxis": {
           "colorbar": {
            "outlinewidth": 0,
            "ticks": ""
           }
          },
          "colorscale": {
           "diverging": [
            [
             0,
             "#8e0152"
            ],
            [
             0.1,
             "#c51b7d"
            ],
            [
             0.2,
             "#de77ae"
            ],
            [
             0.3,
             "#f1b6da"
            ],
            [
             0.4,
             "#fde0ef"
            ],
            [
             0.5,
             "#f7f7f7"
            ],
            [
             0.6,
             "#e6f5d0"
            ],
            [
             0.7,
             "#b8e186"
            ],
            [
             0.8,
             "#7fbc41"
            ],
            [
             0.9,
             "#4d9221"
            ],
            [
             1,
             "#276419"
            ]
           ],
           "sequential": [
            [
             0,
             "#0d0887"
            ],
            [
             0.1111111111111111,
             "#46039f"
            ],
            [
             0.2222222222222222,
             "#7201a8"
            ],
            [
             0.3333333333333333,
             "#9c179e"
            ],
            [
             0.4444444444444444,
             "#bd3786"
            ],
            [
             0.5555555555555556,
             "#d8576b"
            ],
            [
             0.6666666666666666,
             "#ed7953"
            ],
            [
             0.7777777777777778,
             "#fb9f3a"
            ],
            [
             0.8888888888888888,
             "#fdca26"
            ],
            [
             1,
             "#f0f921"
            ]
           ],
           "sequentialminus": [
            [
             0,
             "#0d0887"
            ],
            [
             0.1111111111111111,
             "#46039f"
            ],
            [
             0.2222222222222222,
             "#7201a8"
            ],
            [
             0.3333333333333333,
             "#9c179e"
            ],
            [
             0.4444444444444444,
             "#bd3786"
            ],
            [
             0.5555555555555556,
             "#d8576b"
            ],
            [
             0.6666666666666666,
             "#ed7953"
            ],
            [
             0.7777777777777778,
             "#fb9f3a"
            ],
            [
             0.8888888888888888,
             "#fdca26"
            ],
            [
             1,
             "#f0f921"
            ]
           ]
          },
          "colorway": [
           "#636efa",
           "#EF553B",
           "#00cc96",
           "#ab63fa",
           "#FFA15A",
           "#19d3f3",
           "#FF6692",
           "#B6E880",
           "#FF97FF",
           "#FECB52"
          ],
          "font": {
           "color": "#2a3f5f"
          },
          "geo": {
           "bgcolor": "white",
           "lakecolor": "white",
           "landcolor": "#E5ECF6",
           "showlakes": true,
           "showland": true,
           "subunitcolor": "white"
          },
          "hoverlabel": {
           "align": "left"
          },
          "hovermode": "closest",
          "mapbox": {
           "style": "light"
          },
          "paper_bgcolor": "white",
          "plot_bgcolor": "#E5ECF6",
          "polar": {
           "angularaxis": {
            "gridcolor": "white",
            "linecolor": "white",
            "ticks": ""
           },
           "bgcolor": "#E5ECF6",
           "radialaxis": {
            "gridcolor": "white",
            "linecolor": "white",
            "ticks": ""
           }
          },
          "scene": {
           "xaxis": {
            "backgroundcolor": "#E5ECF6",
            "gridcolor": "white",
            "gridwidth": 2,
            "linecolor": "white",
            "showbackground": true,
            "ticks": "",
            "zerolinecolor": "white"
           },
           "yaxis": {
            "backgroundcolor": "#E5ECF6",
            "gridcolor": "white",
            "gridwidth": 2,
            "linecolor": "white",
            "showbackground": true,
            "ticks": "",
            "zerolinecolor": "white"
           },
           "zaxis": {
            "backgroundcolor": "#E5ECF6",
            "gridcolor": "white",
            "gridwidth": 2,
            "linecolor": "white",
            "showbackground": true,
            "ticks": "",
            "zerolinecolor": "white"
           }
          },
          "shapedefaults": {
           "line": {
            "color": "#2a3f5f"
           }
          },
          "ternary": {
           "aaxis": {
            "gridcolor": "white",
            "linecolor": "white",
            "ticks": ""
           },
           "baxis": {
            "gridcolor": "white",
            "linecolor": "white",
            "ticks": ""
           },
           "bgcolor": "#E5ECF6",
           "caxis": {
            "gridcolor": "white",
            "linecolor": "white",
            "ticks": ""
           }
          },
          "title": {
           "x": 0.05
          },
          "xaxis": {
           "automargin": true,
           "gridcolor": "white",
           "linecolor": "white",
           "ticks": "",
           "title": {
            "standoff": 15
           },
           "zerolinecolor": "white",
           "zerolinewidth": 2
          },
          "yaxis": {
           "automargin": true,
           "gridcolor": "white",
           "linecolor": "white",
           "ticks": "",
           "title": {
            "standoff": 15
           },
           "zerolinecolor": "white",
           "zerolinewidth": 2
          }
         }
        },
        "title": {
         "font": {
          "color": "#4D5663"
         }
        },
        "xaxis": {
         "gridcolor": "#E1E5ED",
         "showgrid": true,
         "tickfont": {
          "color": "#4D5663"
         },
         "title": {
          "font": {
           "color": "#4D5663"
          },
          "text": ""
         },
         "zerolinecolor": "#E1E5ED"
        },
        "xaxis2": {
         "anchor": "y2",
         "gridcolor": "#E1E5ED",
         "showgrid": true,
         "showticklabels": false,
         "tickfont": {
          "color": "#4D5663"
         },
         "title": {
          "font": {
           "color": "#4D5663"
          },
          "text": ""
         },
         "zerolinecolor": "#E1E5ED"
        },
        "yaxis": {
         "domain": [
          0.3,
          1
         ],
         "gridcolor": "#E1E5ED",
         "showgrid": true,
         "tickfont": {
          "color": "#4D5663"
         },
         "title": {
          "font": {
           "color": "#4D5663"
          },
          "text": ""
         },
         "zerolinecolor": "#E1E5ED"
        },
        "yaxis2": {
         "domain": [
          0,
          0.25
         ],
         "gridcolor": "#E1E5ED",
         "showgrid": true,
         "tickfont": {
          "color": "#4D5663"
         },
         "title": {
          "font": {
           "color": "#4D5663"
          },
          "text": "Spread"
         },
         "zerolinecolor": "#E1E5ED"
        }
       }
      },
      "text/html": [
       "<div>                            <div id=\"b22396f9-4567-4cec-a07e-d1dba801ebd4\" class=\"plotly-graph-div\" style=\"height:525px; width:100%;\"></div>            <script type=\"text/javascript\">                require([\"plotly\"], function(Plotly) {                    window.PLOTLYENV=window.PLOTLYENV || {};\n",
       "                    window.PLOTLYENV.BASE_URL='https://plot.ly';                                    if (document.getElementById(\"b22396f9-4567-4cec-a07e-d1dba801ebd4\")) {                    Plotly.newPlot(                        \"b22396f9-4567-4cec-a07e-d1dba801ebd4\",                        [{\"line\": {\"color\": \"rgba(255, 153, 51, 1.0)\", \"dash\": \"solid\", \"shape\": \"linear\", \"width\": 1.3}, \"mode\": \"lines\", \"name\": \"A\", \"text\": \"\", \"type\": \"scatter\", \"x\": [0, 1, 2, 3, 4, 5, 6, 7, 8, 9, 10, 11, 12, 13, 14, 15, 16, 17, 18, 19, 20, 21, 22, 23, 24, 25, 26, 27, 28, 29, 30, 31, 32, 33, 34, 35, 36, 37, 38, 39, 40, 41, 42, 43, 44, 45, 46, 47, 48, 49, 50, 51, 52, 53, 54, 55, 56, 57, 58, 59, 60, 61, 62, 63, 64, 65, 66, 67, 68, 69, 70, 71, 72, 73, 74, 75, 76, 77, 78, 79, 80, 81, 82, 83, 84, 85, 86, 87, 88, 89, 90, 91, 92, 93, 94, 95, 96, 97, 98, 99], \"y\": [0.5559244215996016, 0.16531247499681323, -0.8101100169139632, -1.3974320065743162, 1.6136174804983556, -0.3211925649236798, -0.3708134451358885, 0.7768683958236318, 0.9185436802928186, 1.2762372604361978, 0.4127563834151255, -0.9193064276735416, -1.5395019336205855, -0.5305376223271864, -0.9903403728567307, 0.14647506819357678, -0.1763519726139724, 0.36008109401573163, -0.3176404768055409, -0.19412325558431157, -0.0904221223832305, -0.5945023504586406, -0.03895869264617371, 0.5901436910604915, -0.7996642304747691, 1.0301076261885471, 0.9621354965051399, 0.30578234381497704, -0.724902498511663, -0.21758223505728244, 0.32225672399278027, 0.16816746481521705, -0.3052736668837778, -0.3751381721108554, 0.827811394916156, -1.1823153331521996, 0.05309296545930296, 0.7949550338463784, 0.009844956835440979, -0.421073670238091, -0.9065419444857088, 0.5772849324123647, -2.0877670198322047, 1.3868161621120656, -0.702588197611849, 0.162538412371124, -0.003047648967196274, 0.18507428698394549, -0.2390219605970498, 0.07847295052663021, -0.246121472387244, 0.7798289383401936, 1.4968068545020095, -0.7877805920356816, -1.126634990257943, 0.11719360333798196, -1.5602947784857861, 1.298860409475295, -1.8056312905844059, 1.1832197109271312, 1.4331767165642602, -0.2911593460243957, 0.1574901335703895, 0.06854985942307727, 1.4231140740707144, -2.04463937159396, -1.8251943251991503, 0.14962534578078765, 0.0813071065438157, -1.0863368122861674, 0.9565864600231273, 0.6642827660389123, -1.4831517966951513, -0.39828961293614407, 0.22927634606915795, 0.22238917753957502, 0.7686846529091509, 1.47119939628487, -1.556400814871271, -2.735284320598148, 0.07069490963218183, 0.23495848143046277, 1.9148595400160937, 0.6174926889282726, -1.4203144589579582, 1.1619629955318764, -0.5601347720040485, -0.6703767522970148, 0.17875077451214946, 0.08181724511550104, -0.3519235217399932, 1.3203913019856222, 1.8460431102673394, -0.14262827208374368, 0.6250080835386731, 1.9614289138545555, 0.4434327783663857, 1.6393596269936033, 1.530107027081265, 1.6215780684288195]}, {\"line\": {\"color\": \"rgba(55, 128, 191, 1.0)\", \"dash\": \"solid\", \"shape\": \"linear\", \"width\": 1.3}, \"mode\": \"lines\", \"name\": \"B\", \"text\": \"\", \"type\": \"scatter\", \"x\": [0, 1, 2, 3, 4, 5, 6, 7, 8, 9, 10, 11, 12, 13, 14, 15, 16, 17, 18, 19, 20, 21, 22, 23, 24, 25, 26, 27, 28, 29, 30, 31, 32, 33, 34, 35, 36, 37, 38, 39, 40, 41, 42, 43, 44, 45, 46, 47, 48, 49, 50, 51, 52, 53, 54, 55, 56, 57, 58, 59, 60, 61, 62, 63, 64, 65, 66, 67, 68, 69, 70, 71, 72, 73, 74, 75, 76, 77, 78, 79, 80, 81, 82, 83, 84, 85, 86, 87, 88, 89, 90, 91, 92, 93, 94, 95, 96, 97, 98, 99], \"y\": [0.22903146892060294, -1.0438839554806172, -0.4399526952827415, -0.4633382480861902, -1.5654877913797267, 1.2377698503523018, -0.007528301571093346, -0.7821574542974872, 0.1932979535681084, 0.16383400694923386, -0.10457958055017953, -0.5483224720829957, 0.3901467033850892, 0.8733391491473266, -1.8148002875494058, -0.0759623941349184, -1.5726465344150269, -0.6082787903749993, 0.3214224546316616, 0.4511156558335474, -0.2819159475893012, -0.03168586915965763, 0.4153575859846248, -0.8519307093778403, -0.18818870118555994, -1.4230368693782596, -1.1061437380428527, -0.4788898790879405, -0.30961021649646114, 0.826955287725046, 1.2056289154607636, -0.70084903580063, 0.8209283555060617, -0.5298851830413455, 0.1451874152781941, -1.5865763699281297, 1.6520160207008723, -0.6106005545270637, -0.4657338792251926, -1.613208567945061, -0.3358265022436321, -0.19539723810652976, -0.10857198778945001, -0.5686738836571239, 0.026700284464226395, 0.060562223568401255, -1.322550194123688, -1.1478889418544014, -0.6747492167943674, 1.4978851912884552, -0.8144161797427335, -0.6614153305732594, -1.9119357727283888, -1.164014883430049, 0.5595234352487303, 0.108328681661955, -0.9706109249546176, 0.47099451136202414, 0.9089019866312754, -0.4955207283130792, -1.125571044511677, -1.259705874458263, 0.9499971437675632, -1.0807709308166202, 0.3365070500166459, 1.2321842350594938, -1.4903302832650034, 0.3514723761902005, 0.08623718249227429, -0.20931093736104614, -0.9741715973174373, -0.5308998848264274, -2.410083026327852, -0.1899938700628958, 1.7683431358180248, -0.47597742609579835, -0.0013692778474197807, -3.381411728787464, 0.2096704289056021, 0.017403841169861784, 0.40583638946018025, -0.6750001314794015, 0.15150861459613177, 0.17204801196444056, 1.2690154822774866, -2.289782485465693, -0.12230747952833376, -1.2401555231539811, 0.6775438389699542, 0.748663635094293, -1.0291210942321232, 0.11491042839811323, 0.6149875024612116, -0.6752388716699234, -1.0210089048464344, -1.306395759730055, -0.8897696845214655, 1.9783178499112062, 0.7937356305287727, -0.30826255509155437]}, {\"connectgaps\": false, \"fill\": \"tozeroy\", \"line\": {\"color\": \"green\", \"dash\": \"solid\", \"shape\": \"linear\", \"width\": 0.5}, \"mode\": \"lines\", \"name\": \"Spread\", \"showlegend\": false, \"type\": \"scatter\", \"x\": [0, 1, 2, 3, 4, 5, 6, 7, 8, 9, 10, 11, 12, 13, 14, 15, 16, 17, 18, 19, 20, 21, 22, 23, 24, 25, 26, 27, 28, 29, 30, 31, 32, 33, 34, 35, 36, 37, 38, 39, 40, 41, 42, 43, 44, 45, 46, 47, 48, 49, 50, 51, 52, 53, 54, 55, 56, 57, 58, 59, 60, 61, 62, 63, 64, 65, 66, 67, 68, 69, 70, 71, 72, 73, 74, 75, 76, 77, 78, 79, 80, 81, 82, 83, 84, 85, 86, 87, 88, 89, 90, 91, 92, 93, 94, 95, 96, 97, 98, 99], \"xaxis\": \"x2\", \"y\": [0.3268929526789987, 1.2091964304774305, \"\", \"\", 3.1791052718780826, \"\", \"\", 1.559025850121119, 0.7252457267247102, 1.112403253486964, 0.517335963965305, \"\", \"\", \"\", 0.8244599146926751, 0.22243746232849518, 1.3962945618010545, 0.968359884390731, \"\", \"\", 0.19149382520607072, \"\", \"\", 1.4420744004383317, \"\", 2.4531444955668067, 2.0682792345479926, 0.7846722229029175, \"\", \"\", \"\", 0.869016500615847, \"\", 0.1547470109304901, 0.6826239796379618, 0.40426103677593006, \"\", 1.405555588373442, 0.47557883606063356, 1.19213489770697, \"\", 0.7726821705188944, \"\", 1.9554900457691895, \"\", 0.10197618880272276, 1.3195025451564917, 1.3329632288383468, 0.43572725619731756, \"\", 0.5682947073554895, 1.441244268913453, 3.4087426272303984, 0.37623429139436737, \"\", 0.008864921676026954, \"\", 0.8278658981132707, \"\", 1.6787404392402103, 2.5587477610759373, 0.9685465284338672, \"\", 1.1493207902396976, 1.0866070240540686, \"\", \"\", \"\", \"\", \"\", 1.9307580573405647, 1.1951826508653398, 0.9269312296327008, \"\", \"\", 0.6983666036353734, 0.7700539307565707, 4.852611125072334, \"\", \"\", \"\", 0.9099586129098642, 1.763350925419962, 0.44544467696383205, \"\", 3.4517454809975696, \"\", 0.5697787708569664, \"\", \"\", 0.67719757249213, 1.2054808735875089, 1.2310556078061277, 0.5326105995861796, 1.6460169883851075, 3.2678246735846104, 1.3332024628878512, \"\", 0.7363713965524922, 1.9298406235203738], \"yaxis\": \"y2\"}, {\"connectgaps\": false, \"fill\": \"tozeroy\", \"line\": {\"color\": \"red\", \"dash\": \"solid\", \"shape\": \"linear\", \"width\": 0.5}, \"mode\": \"lines\", \"name\": \"Spread\", \"showlegend\": false, \"type\": \"scatter\", \"x\": [0, 1, 2, 3, 4, 5, 6, 7, 8, 9, 10, 11, 12, 13, 14, 15, 16, 17, 18, 19, 20, 21, 22, 23, 24, 25, 26, 27, 28, 29, 30, 31, 32, 33, 34, 35, 36, 37, 38, 39, 40, 41, 42, 43, 44, 45, 46, 47, 48, 49, 50, 51, 52, 53, 54, 55, 56, 57, 58, 59, 60, 61, 62, 63, 64, 65, 66, 67, 68, 69, 70, 71, 72, 73, 74, 75, 76, 77, 78, 79, 80, 81, 82, 83, 84, 85, 86, 87, 88, 89, 90, 91, 92, 93, 94, 95, 96, 97, 98, 99], \"xaxis\": \"x2\", \"y\": [\"\", \"\", -0.3701573216312217, -0.934093758488126, \"\", -1.5589624152759816, -0.36328514356479513, \"\", \"\", \"\", \"\", -0.370983955590546, -1.9296486370056747, -1.403876771474513, \"\", \"\", \"\", \"\", -0.6390629314372025, -0.6452389114178589, \"\", -0.562816481298983, -0.4543162786307985, \"\", -0.6114755292892091, \"\", \"\", \"\", -0.41529228201520185, -1.0445375227823284, -0.8833721914679833, \"\", -1.1262020223898395, \"\", \"\", \"\", -1.5989230552415694, \"\", \"\", \"\", -0.5707154422420767, \"\", -1.9791950320427547, \"\", -0.7292884820760753, \"\", \"\", \"\", \"\", -1.419412240761825, \"\", \"\", \"\", \"\", -1.6861584255066733, \"\", -0.5896838535311685, \"\", -2.7145332772156814, \"\", \"\", \"\", -0.7925070101971736, \"\", \"\", -3.276823606653454, -0.33486404193414687, -0.20184703040941285, -0.0049300759484585815, -0.8770258749251213, \"\", \"\", \"\", -0.20829574287324826, -1.5390667897488668, \"\", \"\", \"\", -1.766071243776873, -2.7526881617680097, -0.3351414798279984, \"\", \"\", \"\", -2.689329941235445, \"\", -0.4378272924757147, \"\", -0.4987930644578047, -0.666846389978792, \"\", \"\", \"\", \"\", \"\", \"\", \"\", -0.3389582229176029, \"\", \"\"], \"yaxis\": \"y2\"}],                        {\"hovermode\": \"x\", \"legend\": {\"bgcolor\": \"#F5F6F9\", \"font\": {\"color\": \"#4D5663\"}}, \"paper_bgcolor\": \"#F5F6F9\", \"plot_bgcolor\": \"#F5F6F9\", \"template\": {\"data\": {\"bar\": [{\"error_x\": {\"color\": \"#2a3f5f\"}, \"error_y\": {\"color\": \"#2a3f5f\"}, \"marker\": {\"line\": {\"color\": \"#E5ECF6\", \"width\": 0.5}}, \"type\": \"bar\"}], \"barpolar\": [{\"marker\": {\"line\": {\"color\": \"#E5ECF6\", \"width\": 0.5}}, \"type\": \"barpolar\"}], \"carpet\": [{\"aaxis\": {\"endlinecolor\": \"#2a3f5f\", \"gridcolor\": \"white\", \"linecolor\": \"white\", \"minorgridcolor\": \"white\", \"startlinecolor\": \"#2a3f5f\"}, \"baxis\": {\"endlinecolor\": \"#2a3f5f\", \"gridcolor\": \"white\", \"linecolor\": \"white\", \"minorgridcolor\": \"white\", \"startlinecolor\": \"#2a3f5f\"}, \"type\": \"carpet\"}], \"choropleth\": [{\"colorbar\": {\"outlinewidth\": 0, \"ticks\": \"\"}, \"type\": \"choropleth\"}], \"contour\": [{\"colorbar\": {\"outlinewidth\": 0, \"ticks\": \"\"}, \"colorscale\": [[0.0, \"#0d0887\"], [0.1111111111111111, \"#46039f\"], [0.2222222222222222, \"#7201a8\"], [0.3333333333333333, \"#9c179e\"], [0.4444444444444444, \"#bd3786\"], [0.5555555555555556, \"#d8576b\"], [0.6666666666666666, \"#ed7953\"], [0.7777777777777778, \"#fb9f3a\"], [0.8888888888888888, \"#fdca26\"], [1.0, \"#f0f921\"]], \"type\": \"contour\"}], \"contourcarpet\": [{\"colorbar\": {\"outlinewidth\": 0, \"ticks\": \"\"}, \"type\": \"contourcarpet\"}], \"heatmap\": [{\"colorbar\": {\"outlinewidth\": 0, \"ticks\": \"\"}, \"colorscale\": [[0.0, \"#0d0887\"], [0.1111111111111111, \"#46039f\"], [0.2222222222222222, \"#7201a8\"], [0.3333333333333333, \"#9c179e\"], [0.4444444444444444, \"#bd3786\"], [0.5555555555555556, \"#d8576b\"], [0.6666666666666666, \"#ed7953\"], [0.7777777777777778, \"#fb9f3a\"], [0.8888888888888888, \"#fdca26\"], [1.0, \"#f0f921\"]], \"type\": \"heatmap\"}], \"heatmapgl\": [{\"colorbar\": {\"outlinewidth\": 0, \"ticks\": \"\"}, \"colorscale\": [[0.0, \"#0d0887\"], [0.1111111111111111, \"#46039f\"], [0.2222222222222222, \"#7201a8\"], [0.3333333333333333, \"#9c179e\"], [0.4444444444444444, \"#bd3786\"], [0.5555555555555556, \"#d8576b\"], [0.6666666666666666, \"#ed7953\"], [0.7777777777777778, \"#fb9f3a\"], [0.8888888888888888, \"#fdca26\"], [1.0, \"#f0f921\"]], \"type\": \"heatmapgl\"}], \"histogram\": [{\"marker\": {\"colorbar\": {\"outlinewidth\": 0, \"ticks\": \"\"}}, \"type\": \"histogram\"}], \"histogram2d\": [{\"colorbar\": {\"outlinewidth\": 0, \"ticks\": \"\"}, \"colorscale\": [[0.0, \"#0d0887\"], [0.1111111111111111, \"#46039f\"], [0.2222222222222222, \"#7201a8\"], [0.3333333333333333, \"#9c179e\"], [0.4444444444444444, \"#bd3786\"], [0.5555555555555556, \"#d8576b\"], [0.6666666666666666, \"#ed7953\"], [0.7777777777777778, \"#fb9f3a\"], [0.8888888888888888, \"#fdca26\"], [1.0, \"#f0f921\"]], \"type\": \"histogram2d\"}], \"histogram2dcontour\": [{\"colorbar\": {\"outlinewidth\": 0, \"ticks\": \"\"}, \"colorscale\": [[0.0, \"#0d0887\"], [0.1111111111111111, \"#46039f\"], [0.2222222222222222, \"#7201a8\"], [0.3333333333333333, \"#9c179e\"], [0.4444444444444444, \"#bd3786\"], [0.5555555555555556, \"#d8576b\"], [0.6666666666666666, \"#ed7953\"], [0.7777777777777778, \"#fb9f3a\"], [0.8888888888888888, \"#fdca26\"], [1.0, \"#f0f921\"]], \"type\": \"histogram2dcontour\"}], \"mesh3d\": [{\"colorbar\": {\"outlinewidth\": 0, \"ticks\": \"\"}, \"type\": \"mesh3d\"}], \"parcoords\": [{\"line\": {\"colorbar\": {\"outlinewidth\": 0, \"ticks\": \"\"}}, \"type\": \"parcoords\"}], \"pie\": [{\"automargin\": true, \"type\": \"pie\"}], \"scatter\": [{\"marker\": {\"colorbar\": {\"outlinewidth\": 0, \"ticks\": \"\"}}, \"type\": \"scatter\"}], \"scatter3d\": [{\"line\": {\"colorbar\": {\"outlinewidth\": 0, \"ticks\": \"\"}}, \"marker\": {\"colorbar\": {\"outlinewidth\": 0, \"ticks\": \"\"}}, \"type\": \"scatter3d\"}], \"scattercarpet\": [{\"marker\": {\"colorbar\": {\"outlinewidth\": 0, \"ticks\": \"\"}}, \"type\": \"scattercarpet\"}], \"scattergeo\": [{\"marker\": {\"colorbar\": {\"outlinewidth\": 0, \"ticks\": \"\"}}, \"type\": \"scattergeo\"}], \"scattergl\": [{\"marker\": {\"colorbar\": {\"outlinewidth\": 0, \"ticks\": \"\"}}, \"type\": \"scattergl\"}], \"scattermapbox\": [{\"marker\": {\"colorbar\": {\"outlinewidth\": 0, \"ticks\": \"\"}}, \"type\": \"scattermapbox\"}], \"scatterpolar\": [{\"marker\": {\"colorbar\": {\"outlinewidth\": 0, \"ticks\": \"\"}}, \"type\": \"scatterpolar\"}], \"scatterpolargl\": [{\"marker\": {\"colorbar\": {\"outlinewidth\": 0, \"ticks\": \"\"}}, \"type\": \"scatterpolargl\"}], \"scatterternary\": [{\"marker\": {\"colorbar\": {\"outlinewidth\": 0, \"ticks\": \"\"}}, \"type\": \"scatterternary\"}], \"surface\": [{\"colorbar\": {\"outlinewidth\": 0, \"ticks\": \"\"}, \"colorscale\": [[0.0, \"#0d0887\"], [0.1111111111111111, \"#46039f\"], [0.2222222222222222, \"#7201a8\"], [0.3333333333333333, \"#9c179e\"], [0.4444444444444444, \"#bd3786\"], [0.5555555555555556, \"#d8576b\"], [0.6666666666666666, \"#ed7953\"], [0.7777777777777778, \"#fb9f3a\"], [0.8888888888888888, \"#fdca26\"], [1.0, \"#f0f921\"]], \"type\": \"surface\"}], \"table\": [{\"cells\": {\"fill\": {\"color\": \"#EBF0F8\"}, \"line\": {\"color\": \"white\"}}, \"header\": {\"fill\": {\"color\": \"#C8D4E3\"}, \"line\": {\"color\": \"white\"}}, \"type\": \"table\"}]}, \"layout\": {\"annotationdefaults\": {\"arrowcolor\": \"#2a3f5f\", \"arrowhead\": 0, \"arrowwidth\": 1}, \"autotypenumbers\": \"strict\", \"coloraxis\": {\"colorbar\": {\"outlinewidth\": 0, \"ticks\": \"\"}}, \"colorscale\": {\"diverging\": [[0, \"#8e0152\"], [0.1, \"#c51b7d\"], [0.2, \"#de77ae\"], [0.3, \"#f1b6da\"], [0.4, \"#fde0ef\"], [0.5, \"#f7f7f7\"], [0.6, \"#e6f5d0\"], [0.7, \"#b8e186\"], [0.8, \"#7fbc41\"], [0.9, \"#4d9221\"], [1, \"#276419\"]], \"sequential\": [[0.0, \"#0d0887\"], [0.1111111111111111, \"#46039f\"], [0.2222222222222222, \"#7201a8\"], [0.3333333333333333, \"#9c179e\"], [0.4444444444444444, \"#bd3786\"], [0.5555555555555556, \"#d8576b\"], [0.6666666666666666, \"#ed7953\"], [0.7777777777777778, \"#fb9f3a\"], [0.8888888888888888, \"#fdca26\"], [1.0, \"#f0f921\"]], \"sequentialminus\": [[0.0, \"#0d0887\"], [0.1111111111111111, \"#46039f\"], [0.2222222222222222, \"#7201a8\"], [0.3333333333333333, \"#9c179e\"], [0.4444444444444444, \"#bd3786\"], [0.5555555555555556, \"#d8576b\"], [0.6666666666666666, \"#ed7953\"], [0.7777777777777778, \"#fb9f3a\"], [0.8888888888888888, \"#fdca26\"], [1.0, \"#f0f921\"]]}, \"colorway\": [\"#636efa\", \"#EF553B\", \"#00cc96\", \"#ab63fa\", \"#FFA15A\", \"#19d3f3\", \"#FF6692\", \"#B6E880\", \"#FF97FF\", \"#FECB52\"], \"font\": {\"color\": \"#2a3f5f\"}, \"geo\": {\"bgcolor\": \"white\", \"lakecolor\": \"white\", \"landcolor\": \"#E5ECF6\", \"showlakes\": true, \"showland\": true, \"subunitcolor\": \"white\"}, \"hoverlabel\": {\"align\": \"left\"}, \"hovermode\": \"closest\", \"mapbox\": {\"style\": \"light\"}, \"paper_bgcolor\": \"white\", \"plot_bgcolor\": \"#E5ECF6\", \"polar\": {\"angularaxis\": {\"gridcolor\": \"white\", \"linecolor\": \"white\", \"ticks\": \"\"}, \"bgcolor\": \"#E5ECF6\", \"radialaxis\": {\"gridcolor\": \"white\", \"linecolor\": \"white\", \"ticks\": \"\"}}, \"scene\": {\"xaxis\": {\"backgroundcolor\": \"#E5ECF6\", \"gridcolor\": \"white\", \"gridwidth\": 2, \"linecolor\": \"white\", \"showbackground\": true, \"ticks\": \"\", \"zerolinecolor\": \"white\"}, \"yaxis\": {\"backgroundcolor\": \"#E5ECF6\", \"gridcolor\": \"white\", \"gridwidth\": 2, \"linecolor\": \"white\", \"showbackground\": true, \"ticks\": \"\", \"zerolinecolor\": \"white\"}, \"zaxis\": {\"backgroundcolor\": \"#E5ECF6\", \"gridcolor\": \"white\", \"gridwidth\": 2, \"linecolor\": \"white\", \"showbackground\": true, \"ticks\": \"\", \"zerolinecolor\": \"white\"}}, \"shapedefaults\": {\"line\": {\"color\": \"#2a3f5f\"}}, \"ternary\": {\"aaxis\": {\"gridcolor\": \"white\", \"linecolor\": \"white\", \"ticks\": \"\"}, \"baxis\": {\"gridcolor\": \"white\", \"linecolor\": \"white\", \"ticks\": \"\"}, \"bgcolor\": \"#E5ECF6\", \"caxis\": {\"gridcolor\": \"white\", \"linecolor\": \"white\", \"ticks\": \"\"}}, \"title\": {\"x\": 0.05}, \"xaxis\": {\"automargin\": true, \"gridcolor\": \"white\", \"linecolor\": \"white\", \"ticks\": \"\", \"title\": {\"standoff\": 15}, \"zerolinecolor\": \"white\", \"zerolinewidth\": 2}, \"yaxis\": {\"automargin\": true, \"gridcolor\": \"white\", \"linecolor\": \"white\", \"ticks\": \"\", \"title\": {\"standoff\": 15}, \"zerolinecolor\": \"white\", \"zerolinewidth\": 2}}}, \"title\": {\"font\": {\"color\": \"#4D5663\"}}, \"xaxis\": {\"gridcolor\": \"#E1E5ED\", \"showgrid\": true, \"tickfont\": {\"color\": \"#4D5663\"}, \"title\": {\"font\": {\"color\": \"#4D5663\"}, \"text\": \"\"}, \"zerolinecolor\": \"#E1E5ED\"}, \"xaxis2\": {\"anchor\": \"y2\", \"gridcolor\": \"#E1E5ED\", \"showgrid\": true, \"showticklabels\": false, \"tickfont\": {\"color\": \"#4D5663\"}, \"title\": {\"font\": {\"color\": \"#4D5663\"}, \"text\": \"\"}, \"zerolinecolor\": \"#E1E5ED\"}, \"yaxis\": {\"domain\": [0.3, 1], \"gridcolor\": \"#E1E5ED\", \"showgrid\": true, \"tickfont\": {\"color\": \"#4D5663\"}, \"title\": {\"font\": {\"color\": \"#4D5663\"}, \"text\": \"\"}, \"zerolinecolor\": \"#E1E5ED\"}, \"yaxis2\": {\"domain\": [0, 0.25], \"gridcolor\": \"#E1E5ED\", \"showgrid\": true, \"tickfont\": {\"color\": \"#4D5663\"}, \"title\": {\"font\": {\"color\": \"#4D5663\"}, \"text\": \"Spread\"}, \"zerolinecolor\": \"#E1E5ED\"}},                        {\"showLink\": true, \"linkText\": \"Export to plot.ly\", \"plotlyServerURL\": \"https://plot.ly\", \"responsive\": true}                    ).then(function(){\n",
       "                            \n",
       "var gd = document.getElementById('b22396f9-4567-4cec-a07e-d1dba801ebd4');\n",
       "var x = new MutationObserver(function (mutations, observer) {{\n",
       "        var display = window.getComputedStyle(gd).display;\n",
       "        if (!display || display === 'none') {{\n",
       "            console.log([gd, 'removed!']);\n",
       "            Plotly.purge(gd);\n",
       "            observer.disconnect();\n",
       "        }}\n",
       "}});\n",
       "\n",
       "// Listen for the removal of the full notebook cells\n",
       "var notebookContainer = gd.closest('#notebook-container');\n",
       "if (notebookContainer) {{\n",
       "    x.observe(notebookContainer, {childList: true});\n",
       "}}\n",
       "\n",
       "// Listen for the clearing of the current output cell\n",
       "var outputEl = gd.closest('.output');\n",
       "if (outputEl) {{\n",
       "    x.observe(outputEl, {childList: true});\n",
       "}}\n",
       "\n",
       "                        })                };                });            </script>        </div>"
      ]
     },
     "metadata": {},
     "output_type": "display_data"
    }
   ],
   "source": [
    "df[['A','B']].iplot(kind='spread')"
   ]
  },
  {
   "cell_type": "markdown",
   "metadata": {},
   "source": [
    "## histogram"
   ]
  },
  {
   "cell_type": "code",
   "execution_count": 40,
   "metadata": {},
   "outputs": [
    {
     "data": {
      "application/vnd.plotly.v1+json": {
       "config": {
        "linkText": "Export to plot.ly",
        "plotlyServerURL": "https://plot.ly",
        "showLink": true
       },
       "data": [
        {
         "histfunc": "count",
         "histnorm": "",
         "marker": {
          "color": "rgba(255, 153, 51, 1.0)",
          "line": {
           "color": "#4D5663",
           "width": 1.3
          }
         },
         "name": "A",
         "nbinsx": 25,
         "opacity": 0.8,
         "orientation": "v",
         "type": "histogram",
         "x": [
          0.5559244215996016,
          0.16531247499681323,
          -0.8101100169139632,
          -1.3974320065743162,
          1.6136174804983556,
          -0.3211925649236798,
          -0.3708134451358885,
          0.7768683958236318,
          0.9185436802928186,
          1.2762372604361978,
          0.4127563834151255,
          -0.9193064276735416,
          -1.5395019336205855,
          -0.5305376223271864,
          -0.9903403728567307,
          0.14647506819357678,
          -0.1763519726139724,
          0.36008109401573163,
          -0.3176404768055409,
          -0.19412325558431157,
          -0.0904221223832305,
          -0.5945023504586406,
          -0.03895869264617371,
          0.5901436910604915,
          -0.7996642304747691,
          1.0301076261885471,
          0.9621354965051399,
          0.30578234381497704,
          -0.724902498511663,
          -0.21758223505728244,
          0.32225672399278027,
          0.16816746481521705,
          -0.3052736668837778,
          -0.3751381721108554,
          0.827811394916156,
          -1.1823153331521996,
          0.05309296545930296,
          0.7949550338463784,
          0.009844956835440979,
          -0.421073670238091,
          -0.9065419444857088,
          0.5772849324123647,
          -2.0877670198322047,
          1.3868161621120656,
          -0.702588197611849,
          0.162538412371124,
          -0.003047648967196274,
          0.18507428698394549,
          -0.2390219605970498,
          0.07847295052663021,
          -0.246121472387244,
          0.7798289383401936,
          1.4968068545020095,
          -0.7877805920356816,
          -1.126634990257943,
          0.11719360333798196,
          -1.5602947784857861,
          1.298860409475295,
          -1.8056312905844059,
          1.1832197109271312,
          1.4331767165642602,
          -0.2911593460243957,
          0.1574901335703895,
          0.06854985942307727,
          1.4231140740707144,
          -2.04463937159396,
          -1.8251943251991503,
          0.14962534578078765,
          0.0813071065438157,
          -1.0863368122861674,
          0.9565864600231273,
          0.6642827660389123,
          -1.4831517966951513,
          -0.39828961293614407,
          0.22927634606915795,
          0.22238917753957502,
          0.7686846529091509,
          1.47119939628487,
          -1.556400814871271,
          -2.735284320598148,
          0.07069490963218183,
          0.23495848143046277,
          1.9148595400160937,
          0.6174926889282726,
          -1.4203144589579582,
          1.1619629955318764,
          -0.5601347720040485,
          -0.6703767522970148,
          0.17875077451214946,
          0.08181724511550104,
          -0.3519235217399932,
          1.3203913019856222,
          1.8460431102673394,
          -0.14262827208374368,
          0.6250080835386731,
          1.9614289138545555,
          0.4434327783663857,
          1.6393596269936033,
          1.530107027081265,
          1.6215780684288195
         ]
        }
       ],
       "layout": {
        "barmode": "overlay",
        "legend": {
         "bgcolor": "#F5F6F9",
         "font": {
          "color": "#4D5663"
         }
        },
        "paper_bgcolor": "#F5F6F9",
        "plot_bgcolor": "#F5F6F9",
        "template": {
         "data": {
          "bar": [
           {
            "error_x": {
             "color": "#2a3f5f"
            },
            "error_y": {
             "color": "#2a3f5f"
            },
            "marker": {
             "line": {
              "color": "#E5ECF6",
              "width": 0.5
             }
            },
            "type": "bar"
           }
          ],
          "barpolar": [
           {
            "marker": {
             "line": {
              "color": "#E5ECF6",
              "width": 0.5
             }
            },
            "type": "barpolar"
           }
          ],
          "carpet": [
           {
            "aaxis": {
             "endlinecolor": "#2a3f5f",
             "gridcolor": "white",
             "linecolor": "white",
             "minorgridcolor": "white",
             "startlinecolor": "#2a3f5f"
            },
            "baxis": {
             "endlinecolor": "#2a3f5f",
             "gridcolor": "white",
             "linecolor": "white",
             "minorgridcolor": "white",
             "startlinecolor": "#2a3f5f"
            },
            "type": "carpet"
           }
          ],
          "choropleth": [
           {
            "colorbar": {
             "outlinewidth": 0,
             "ticks": ""
            },
            "type": "choropleth"
           }
          ],
          "contour": [
           {
            "colorbar": {
             "outlinewidth": 0,
             "ticks": ""
            },
            "colorscale": [
             [
              0,
              "#0d0887"
             ],
             [
              0.1111111111111111,
              "#46039f"
             ],
             [
              0.2222222222222222,
              "#7201a8"
             ],
             [
              0.3333333333333333,
              "#9c179e"
             ],
             [
              0.4444444444444444,
              "#bd3786"
             ],
             [
              0.5555555555555556,
              "#d8576b"
             ],
             [
              0.6666666666666666,
              "#ed7953"
             ],
             [
              0.7777777777777778,
              "#fb9f3a"
             ],
             [
              0.8888888888888888,
              "#fdca26"
             ],
             [
              1,
              "#f0f921"
             ]
            ],
            "type": "contour"
           }
          ],
          "contourcarpet": [
           {
            "colorbar": {
             "outlinewidth": 0,
             "ticks": ""
            },
            "type": "contourcarpet"
           }
          ],
          "heatmap": [
           {
            "colorbar": {
             "outlinewidth": 0,
             "ticks": ""
            },
            "colorscale": [
             [
              0,
              "#0d0887"
             ],
             [
              0.1111111111111111,
              "#46039f"
             ],
             [
              0.2222222222222222,
              "#7201a8"
             ],
             [
              0.3333333333333333,
              "#9c179e"
             ],
             [
              0.4444444444444444,
              "#bd3786"
             ],
             [
              0.5555555555555556,
              "#d8576b"
             ],
             [
              0.6666666666666666,
              "#ed7953"
             ],
             [
              0.7777777777777778,
              "#fb9f3a"
             ],
             [
              0.8888888888888888,
              "#fdca26"
             ],
             [
              1,
              "#f0f921"
             ]
            ],
            "type": "heatmap"
           }
          ],
          "heatmapgl": [
           {
            "colorbar": {
             "outlinewidth": 0,
             "ticks": ""
            },
            "colorscale": [
             [
              0,
              "#0d0887"
             ],
             [
              0.1111111111111111,
              "#46039f"
             ],
             [
              0.2222222222222222,
              "#7201a8"
             ],
             [
              0.3333333333333333,
              "#9c179e"
             ],
             [
              0.4444444444444444,
              "#bd3786"
             ],
             [
              0.5555555555555556,
              "#d8576b"
             ],
             [
              0.6666666666666666,
              "#ed7953"
             ],
             [
              0.7777777777777778,
              "#fb9f3a"
             ],
             [
              0.8888888888888888,
              "#fdca26"
             ],
             [
              1,
              "#f0f921"
             ]
            ],
            "type": "heatmapgl"
           }
          ],
          "histogram": [
           {
            "marker": {
             "colorbar": {
              "outlinewidth": 0,
              "ticks": ""
             }
            },
            "type": "histogram"
           }
          ],
          "histogram2d": [
           {
            "colorbar": {
             "outlinewidth": 0,
             "ticks": ""
            },
            "colorscale": [
             [
              0,
              "#0d0887"
             ],
             [
              0.1111111111111111,
              "#46039f"
             ],
             [
              0.2222222222222222,
              "#7201a8"
             ],
             [
              0.3333333333333333,
              "#9c179e"
             ],
             [
              0.4444444444444444,
              "#bd3786"
             ],
             [
              0.5555555555555556,
              "#d8576b"
             ],
             [
              0.6666666666666666,
              "#ed7953"
             ],
             [
              0.7777777777777778,
              "#fb9f3a"
             ],
             [
              0.8888888888888888,
              "#fdca26"
             ],
             [
              1,
              "#f0f921"
             ]
            ],
            "type": "histogram2d"
           }
          ],
          "histogram2dcontour": [
           {
            "colorbar": {
             "outlinewidth": 0,
             "ticks": ""
            },
            "colorscale": [
             [
              0,
              "#0d0887"
             ],
             [
              0.1111111111111111,
              "#46039f"
             ],
             [
              0.2222222222222222,
              "#7201a8"
             ],
             [
              0.3333333333333333,
              "#9c179e"
             ],
             [
              0.4444444444444444,
              "#bd3786"
             ],
             [
              0.5555555555555556,
              "#d8576b"
             ],
             [
              0.6666666666666666,
              "#ed7953"
             ],
             [
              0.7777777777777778,
              "#fb9f3a"
             ],
             [
              0.8888888888888888,
              "#fdca26"
             ],
             [
              1,
              "#f0f921"
             ]
            ],
            "type": "histogram2dcontour"
           }
          ],
          "mesh3d": [
           {
            "colorbar": {
             "outlinewidth": 0,
             "ticks": ""
            },
            "type": "mesh3d"
           }
          ],
          "parcoords": [
           {
            "line": {
             "colorbar": {
              "outlinewidth": 0,
              "ticks": ""
             }
            },
            "type": "parcoords"
           }
          ],
          "pie": [
           {
            "automargin": true,
            "type": "pie"
           }
          ],
          "scatter": [
           {
            "marker": {
             "colorbar": {
              "outlinewidth": 0,
              "ticks": ""
             }
            },
            "type": "scatter"
           }
          ],
          "scatter3d": [
           {
            "line": {
             "colorbar": {
              "outlinewidth": 0,
              "ticks": ""
             }
            },
            "marker": {
             "colorbar": {
              "outlinewidth": 0,
              "ticks": ""
             }
            },
            "type": "scatter3d"
           }
          ],
          "scattercarpet": [
           {
            "marker": {
             "colorbar": {
              "outlinewidth": 0,
              "ticks": ""
             }
            },
            "type": "scattercarpet"
           }
          ],
          "scattergeo": [
           {
            "marker": {
             "colorbar": {
              "outlinewidth": 0,
              "ticks": ""
             }
            },
            "type": "scattergeo"
           }
          ],
          "scattergl": [
           {
            "marker": {
             "colorbar": {
              "outlinewidth": 0,
              "ticks": ""
             }
            },
            "type": "scattergl"
           }
          ],
          "scattermapbox": [
           {
            "marker": {
             "colorbar": {
              "outlinewidth": 0,
              "ticks": ""
             }
            },
            "type": "scattermapbox"
           }
          ],
          "scatterpolar": [
           {
            "marker": {
             "colorbar": {
              "outlinewidth": 0,
              "ticks": ""
             }
            },
            "type": "scatterpolar"
           }
          ],
          "scatterpolargl": [
           {
            "marker": {
             "colorbar": {
              "outlinewidth": 0,
              "ticks": ""
             }
            },
            "type": "scatterpolargl"
           }
          ],
          "scatterternary": [
           {
            "marker": {
             "colorbar": {
              "outlinewidth": 0,
              "ticks": ""
             }
            },
            "type": "scatterternary"
           }
          ],
          "surface": [
           {
            "colorbar": {
             "outlinewidth": 0,
             "ticks": ""
            },
            "colorscale": [
             [
              0,
              "#0d0887"
             ],
             [
              0.1111111111111111,
              "#46039f"
             ],
             [
              0.2222222222222222,
              "#7201a8"
             ],
             [
              0.3333333333333333,
              "#9c179e"
             ],
             [
              0.4444444444444444,
              "#bd3786"
             ],
             [
              0.5555555555555556,
              "#d8576b"
             ],
             [
              0.6666666666666666,
              "#ed7953"
             ],
             [
              0.7777777777777778,
              "#fb9f3a"
             ],
             [
              0.8888888888888888,
              "#fdca26"
             ],
             [
              1,
              "#f0f921"
             ]
            ],
            "type": "surface"
           }
          ],
          "table": [
           {
            "cells": {
             "fill": {
              "color": "#EBF0F8"
             },
             "line": {
              "color": "white"
             }
            },
            "header": {
             "fill": {
              "color": "#C8D4E3"
             },
             "line": {
              "color": "white"
             }
            },
            "type": "table"
           }
          ]
         },
         "layout": {
          "annotationdefaults": {
           "arrowcolor": "#2a3f5f",
           "arrowhead": 0,
           "arrowwidth": 1
          },
          "autotypenumbers": "strict",
          "coloraxis": {
           "colorbar": {
            "outlinewidth": 0,
            "ticks": ""
           }
          },
          "colorscale": {
           "diverging": [
            [
             0,
             "#8e0152"
            ],
            [
             0.1,
             "#c51b7d"
            ],
            [
             0.2,
             "#de77ae"
            ],
            [
             0.3,
             "#f1b6da"
            ],
            [
             0.4,
             "#fde0ef"
            ],
            [
             0.5,
             "#f7f7f7"
            ],
            [
             0.6,
             "#e6f5d0"
            ],
            [
             0.7,
             "#b8e186"
            ],
            [
             0.8,
             "#7fbc41"
            ],
            [
             0.9,
             "#4d9221"
            ],
            [
             1,
             "#276419"
            ]
           ],
           "sequential": [
            [
             0,
             "#0d0887"
            ],
            [
             0.1111111111111111,
             "#46039f"
            ],
            [
             0.2222222222222222,
             "#7201a8"
            ],
            [
             0.3333333333333333,
             "#9c179e"
            ],
            [
             0.4444444444444444,
             "#bd3786"
            ],
            [
             0.5555555555555556,
             "#d8576b"
            ],
            [
             0.6666666666666666,
             "#ed7953"
            ],
            [
             0.7777777777777778,
             "#fb9f3a"
            ],
            [
             0.8888888888888888,
             "#fdca26"
            ],
            [
             1,
             "#f0f921"
            ]
           ],
           "sequentialminus": [
            [
             0,
             "#0d0887"
            ],
            [
             0.1111111111111111,
             "#46039f"
            ],
            [
             0.2222222222222222,
             "#7201a8"
            ],
            [
             0.3333333333333333,
             "#9c179e"
            ],
            [
             0.4444444444444444,
             "#bd3786"
            ],
            [
             0.5555555555555556,
             "#d8576b"
            ],
            [
             0.6666666666666666,
             "#ed7953"
            ],
            [
             0.7777777777777778,
             "#fb9f3a"
            ],
            [
             0.8888888888888888,
             "#fdca26"
            ],
            [
             1,
             "#f0f921"
            ]
           ]
          },
          "colorway": [
           "#636efa",
           "#EF553B",
           "#00cc96",
           "#ab63fa",
           "#FFA15A",
           "#19d3f3",
           "#FF6692",
           "#B6E880",
           "#FF97FF",
           "#FECB52"
          ],
          "font": {
           "color": "#2a3f5f"
          },
          "geo": {
           "bgcolor": "white",
           "lakecolor": "white",
           "landcolor": "#E5ECF6",
           "showlakes": true,
           "showland": true,
           "subunitcolor": "white"
          },
          "hoverlabel": {
           "align": "left"
          },
          "hovermode": "closest",
          "mapbox": {
           "style": "light"
          },
          "paper_bgcolor": "white",
          "plot_bgcolor": "#E5ECF6",
          "polar": {
           "angularaxis": {
            "gridcolor": "white",
            "linecolor": "white",
            "ticks": ""
           },
           "bgcolor": "#E5ECF6",
           "radialaxis": {
            "gridcolor": "white",
            "linecolor": "white",
            "ticks": ""
           }
          },
          "scene": {
           "xaxis": {
            "backgroundcolor": "#E5ECF6",
            "gridcolor": "white",
            "gridwidth": 2,
            "linecolor": "white",
            "showbackground": true,
            "ticks": "",
            "zerolinecolor": "white"
           },
           "yaxis": {
            "backgroundcolor": "#E5ECF6",
            "gridcolor": "white",
            "gridwidth": 2,
            "linecolor": "white",
            "showbackground": true,
            "ticks": "",
            "zerolinecolor": "white"
           },
           "zaxis": {
            "backgroundcolor": "#E5ECF6",
            "gridcolor": "white",
            "gridwidth": 2,
            "linecolor": "white",
            "showbackground": true,
            "ticks": "",
            "zerolinecolor": "white"
           }
          },
          "shapedefaults": {
           "line": {
            "color": "#2a3f5f"
           }
          },
          "ternary": {
           "aaxis": {
            "gridcolor": "white",
            "linecolor": "white",
            "ticks": ""
           },
           "baxis": {
            "gridcolor": "white",
            "linecolor": "white",
            "ticks": ""
           },
           "bgcolor": "#E5ECF6",
           "caxis": {
            "gridcolor": "white",
            "linecolor": "white",
            "ticks": ""
           }
          },
          "title": {
           "x": 0.05
          },
          "xaxis": {
           "automargin": true,
           "gridcolor": "white",
           "linecolor": "white",
           "ticks": "",
           "title": {
            "standoff": 15
           },
           "zerolinecolor": "white",
           "zerolinewidth": 2
          },
          "yaxis": {
           "automargin": true,
           "gridcolor": "white",
           "linecolor": "white",
           "ticks": "",
           "title": {
            "standoff": 15
           },
           "zerolinecolor": "white",
           "zerolinewidth": 2
          }
         }
        },
        "title": {
         "font": {
          "color": "#4D5663"
         }
        },
        "xaxis": {
         "gridcolor": "#E1E5ED",
         "showgrid": true,
         "tickfont": {
          "color": "#4D5663"
         },
         "title": {
          "font": {
           "color": "#4D5663"
          },
          "text": ""
         },
         "zerolinecolor": "#E1E5ED"
        },
        "yaxis": {
         "gridcolor": "#E1E5ED",
         "showgrid": true,
         "tickfont": {
          "color": "#4D5663"
         },
         "title": {
          "font": {
           "color": "#4D5663"
          },
          "text": ""
         },
         "zerolinecolor": "#E1E5ED"
        }
       }
      },
      "text/html": [
       "<div>                            <div id=\"71335743-0897-458d-ab76-7eea618458de\" class=\"plotly-graph-div\" style=\"height:525px; width:100%;\"></div>            <script type=\"text/javascript\">                require([\"plotly\"], function(Plotly) {                    window.PLOTLYENV=window.PLOTLYENV || {};\n",
       "                    window.PLOTLYENV.BASE_URL='https://plot.ly';                                    if (document.getElementById(\"71335743-0897-458d-ab76-7eea618458de\")) {                    Plotly.newPlot(                        \"71335743-0897-458d-ab76-7eea618458de\",                        [{\"histfunc\": \"count\", \"histnorm\": \"\", \"marker\": {\"color\": \"rgba(255, 153, 51, 1.0)\", \"line\": {\"color\": \"#4D5663\", \"width\": 1.3}}, \"name\": \"A\", \"nbinsx\": 25, \"opacity\": 0.8, \"orientation\": \"v\", \"type\": \"histogram\", \"x\": [0.5559244215996016, 0.16531247499681323, -0.8101100169139632, -1.3974320065743162, 1.6136174804983556, -0.3211925649236798, -0.3708134451358885, 0.7768683958236318, 0.9185436802928186, 1.2762372604361978, 0.4127563834151255, -0.9193064276735416, -1.5395019336205855, -0.5305376223271864, -0.9903403728567307, 0.14647506819357678, -0.1763519726139724, 0.36008109401573163, -0.3176404768055409, -0.19412325558431157, -0.0904221223832305, -0.5945023504586406, -0.03895869264617371, 0.5901436910604915, -0.7996642304747691, 1.0301076261885471, 0.9621354965051399, 0.30578234381497704, -0.724902498511663, -0.21758223505728244, 0.32225672399278027, 0.16816746481521705, -0.3052736668837778, -0.3751381721108554, 0.827811394916156, -1.1823153331521996, 0.05309296545930296, 0.7949550338463784, 0.009844956835440979, -0.421073670238091, -0.9065419444857088, 0.5772849324123647, -2.0877670198322047, 1.3868161621120656, -0.702588197611849, 0.162538412371124, -0.003047648967196274, 0.18507428698394549, -0.2390219605970498, 0.07847295052663021, -0.246121472387244, 0.7798289383401936, 1.4968068545020095, -0.7877805920356816, -1.126634990257943, 0.11719360333798196, -1.5602947784857861, 1.298860409475295, -1.8056312905844059, 1.1832197109271312, 1.4331767165642602, -0.2911593460243957, 0.1574901335703895, 0.06854985942307727, 1.4231140740707144, -2.04463937159396, -1.8251943251991503, 0.14962534578078765, 0.0813071065438157, -1.0863368122861674, 0.9565864600231273, 0.6642827660389123, -1.4831517966951513, -0.39828961293614407, 0.22927634606915795, 0.22238917753957502, 0.7686846529091509, 1.47119939628487, -1.556400814871271, -2.735284320598148, 0.07069490963218183, 0.23495848143046277, 1.9148595400160937, 0.6174926889282726, -1.4203144589579582, 1.1619629955318764, -0.5601347720040485, -0.6703767522970148, 0.17875077451214946, 0.08181724511550104, -0.3519235217399932, 1.3203913019856222, 1.8460431102673394, -0.14262827208374368, 0.6250080835386731, 1.9614289138545555, 0.4434327783663857, 1.6393596269936033, 1.530107027081265, 1.6215780684288195]}],                        {\"barmode\": \"overlay\", \"legend\": {\"bgcolor\": \"#F5F6F9\", \"font\": {\"color\": \"#4D5663\"}}, \"paper_bgcolor\": \"#F5F6F9\", \"plot_bgcolor\": \"#F5F6F9\", \"template\": {\"data\": {\"bar\": [{\"error_x\": {\"color\": \"#2a3f5f\"}, \"error_y\": {\"color\": \"#2a3f5f\"}, \"marker\": {\"line\": {\"color\": \"#E5ECF6\", \"width\": 0.5}}, \"type\": \"bar\"}], \"barpolar\": [{\"marker\": {\"line\": {\"color\": \"#E5ECF6\", \"width\": 0.5}}, \"type\": \"barpolar\"}], \"carpet\": [{\"aaxis\": {\"endlinecolor\": \"#2a3f5f\", \"gridcolor\": \"white\", \"linecolor\": \"white\", \"minorgridcolor\": \"white\", \"startlinecolor\": \"#2a3f5f\"}, \"baxis\": {\"endlinecolor\": \"#2a3f5f\", \"gridcolor\": \"white\", \"linecolor\": \"white\", \"minorgridcolor\": \"white\", \"startlinecolor\": \"#2a3f5f\"}, \"type\": \"carpet\"}], \"choropleth\": [{\"colorbar\": {\"outlinewidth\": 0, \"ticks\": \"\"}, \"type\": \"choropleth\"}], \"contour\": [{\"colorbar\": {\"outlinewidth\": 0, \"ticks\": \"\"}, \"colorscale\": [[0.0, \"#0d0887\"], [0.1111111111111111, \"#46039f\"], [0.2222222222222222, \"#7201a8\"], [0.3333333333333333, \"#9c179e\"], [0.4444444444444444, \"#bd3786\"], [0.5555555555555556, \"#d8576b\"], [0.6666666666666666, \"#ed7953\"], [0.7777777777777778, \"#fb9f3a\"], [0.8888888888888888, \"#fdca26\"], [1.0, \"#f0f921\"]], \"type\": \"contour\"}], \"contourcarpet\": [{\"colorbar\": {\"outlinewidth\": 0, \"ticks\": \"\"}, \"type\": \"contourcarpet\"}], \"heatmap\": [{\"colorbar\": {\"outlinewidth\": 0, \"ticks\": \"\"}, \"colorscale\": [[0.0, \"#0d0887\"], [0.1111111111111111, \"#46039f\"], [0.2222222222222222, \"#7201a8\"], [0.3333333333333333, \"#9c179e\"], [0.4444444444444444, \"#bd3786\"], [0.5555555555555556, \"#d8576b\"], [0.6666666666666666, \"#ed7953\"], [0.7777777777777778, \"#fb9f3a\"], [0.8888888888888888, \"#fdca26\"], [1.0, \"#f0f921\"]], \"type\": \"heatmap\"}], \"heatmapgl\": [{\"colorbar\": {\"outlinewidth\": 0, \"ticks\": \"\"}, \"colorscale\": [[0.0, \"#0d0887\"], [0.1111111111111111, \"#46039f\"], [0.2222222222222222, \"#7201a8\"], [0.3333333333333333, \"#9c179e\"], [0.4444444444444444, \"#bd3786\"], [0.5555555555555556, \"#d8576b\"], [0.6666666666666666, \"#ed7953\"], [0.7777777777777778, \"#fb9f3a\"], [0.8888888888888888, \"#fdca26\"], [1.0, \"#f0f921\"]], \"type\": \"heatmapgl\"}], \"histogram\": [{\"marker\": {\"colorbar\": {\"outlinewidth\": 0, \"ticks\": \"\"}}, \"type\": \"histogram\"}], \"histogram2d\": [{\"colorbar\": {\"outlinewidth\": 0, \"ticks\": \"\"}, \"colorscale\": [[0.0, \"#0d0887\"], [0.1111111111111111, \"#46039f\"], [0.2222222222222222, \"#7201a8\"], [0.3333333333333333, \"#9c179e\"], [0.4444444444444444, \"#bd3786\"], [0.5555555555555556, \"#d8576b\"], [0.6666666666666666, \"#ed7953\"], [0.7777777777777778, \"#fb9f3a\"], [0.8888888888888888, \"#fdca26\"], [1.0, \"#f0f921\"]], \"type\": \"histogram2d\"}], \"histogram2dcontour\": [{\"colorbar\": {\"outlinewidth\": 0, \"ticks\": \"\"}, \"colorscale\": [[0.0, \"#0d0887\"], [0.1111111111111111, \"#46039f\"], [0.2222222222222222, \"#7201a8\"], [0.3333333333333333, \"#9c179e\"], [0.4444444444444444, \"#bd3786\"], [0.5555555555555556, \"#d8576b\"], [0.6666666666666666, \"#ed7953\"], [0.7777777777777778, \"#fb9f3a\"], [0.8888888888888888, \"#fdca26\"], [1.0, \"#f0f921\"]], \"type\": \"histogram2dcontour\"}], \"mesh3d\": [{\"colorbar\": {\"outlinewidth\": 0, \"ticks\": \"\"}, \"type\": \"mesh3d\"}], \"parcoords\": [{\"line\": {\"colorbar\": {\"outlinewidth\": 0, \"ticks\": \"\"}}, \"type\": \"parcoords\"}], \"pie\": [{\"automargin\": true, \"type\": \"pie\"}], \"scatter\": [{\"marker\": {\"colorbar\": {\"outlinewidth\": 0, \"ticks\": \"\"}}, \"type\": \"scatter\"}], \"scatter3d\": [{\"line\": {\"colorbar\": {\"outlinewidth\": 0, \"ticks\": \"\"}}, \"marker\": {\"colorbar\": {\"outlinewidth\": 0, \"ticks\": \"\"}}, \"type\": \"scatter3d\"}], \"scattercarpet\": [{\"marker\": {\"colorbar\": {\"outlinewidth\": 0, \"ticks\": \"\"}}, \"type\": \"scattercarpet\"}], \"scattergeo\": [{\"marker\": {\"colorbar\": {\"outlinewidth\": 0, \"ticks\": \"\"}}, \"type\": \"scattergeo\"}], \"scattergl\": [{\"marker\": {\"colorbar\": {\"outlinewidth\": 0, \"ticks\": \"\"}}, \"type\": \"scattergl\"}], \"scattermapbox\": [{\"marker\": {\"colorbar\": {\"outlinewidth\": 0, \"ticks\": \"\"}}, \"type\": \"scattermapbox\"}], \"scatterpolar\": [{\"marker\": {\"colorbar\": {\"outlinewidth\": 0, \"ticks\": \"\"}}, \"type\": \"scatterpolar\"}], \"scatterpolargl\": [{\"marker\": {\"colorbar\": {\"outlinewidth\": 0, \"ticks\": \"\"}}, \"type\": \"scatterpolargl\"}], \"scatterternary\": [{\"marker\": {\"colorbar\": {\"outlinewidth\": 0, \"ticks\": \"\"}}, \"type\": \"scatterternary\"}], \"surface\": [{\"colorbar\": {\"outlinewidth\": 0, \"ticks\": \"\"}, \"colorscale\": [[0.0, \"#0d0887\"], [0.1111111111111111, \"#46039f\"], [0.2222222222222222, \"#7201a8\"], [0.3333333333333333, \"#9c179e\"], [0.4444444444444444, \"#bd3786\"], [0.5555555555555556, \"#d8576b\"], [0.6666666666666666, \"#ed7953\"], [0.7777777777777778, \"#fb9f3a\"], [0.8888888888888888, \"#fdca26\"], [1.0, \"#f0f921\"]], \"type\": \"surface\"}], \"table\": [{\"cells\": {\"fill\": {\"color\": \"#EBF0F8\"}, \"line\": {\"color\": \"white\"}}, \"header\": {\"fill\": {\"color\": \"#C8D4E3\"}, \"line\": {\"color\": \"white\"}}, \"type\": \"table\"}]}, \"layout\": {\"annotationdefaults\": {\"arrowcolor\": \"#2a3f5f\", \"arrowhead\": 0, \"arrowwidth\": 1}, \"autotypenumbers\": \"strict\", \"coloraxis\": {\"colorbar\": {\"outlinewidth\": 0, \"ticks\": \"\"}}, \"colorscale\": {\"diverging\": [[0, \"#8e0152\"], [0.1, \"#c51b7d\"], [0.2, \"#de77ae\"], [0.3, \"#f1b6da\"], [0.4, \"#fde0ef\"], [0.5, \"#f7f7f7\"], [0.6, \"#e6f5d0\"], [0.7, \"#b8e186\"], [0.8, \"#7fbc41\"], [0.9, \"#4d9221\"], [1, \"#276419\"]], \"sequential\": [[0.0, \"#0d0887\"], [0.1111111111111111, \"#46039f\"], [0.2222222222222222, \"#7201a8\"], [0.3333333333333333, \"#9c179e\"], [0.4444444444444444, \"#bd3786\"], [0.5555555555555556, \"#d8576b\"], [0.6666666666666666, \"#ed7953\"], [0.7777777777777778, \"#fb9f3a\"], [0.8888888888888888, \"#fdca26\"], [1.0, \"#f0f921\"]], \"sequentialminus\": [[0.0, \"#0d0887\"], [0.1111111111111111, \"#46039f\"], [0.2222222222222222, \"#7201a8\"], [0.3333333333333333, \"#9c179e\"], [0.4444444444444444, \"#bd3786\"], [0.5555555555555556, \"#d8576b\"], [0.6666666666666666, \"#ed7953\"], [0.7777777777777778, \"#fb9f3a\"], [0.8888888888888888, \"#fdca26\"], [1.0, \"#f0f921\"]]}, \"colorway\": [\"#636efa\", \"#EF553B\", \"#00cc96\", \"#ab63fa\", \"#FFA15A\", \"#19d3f3\", \"#FF6692\", \"#B6E880\", \"#FF97FF\", \"#FECB52\"], \"font\": {\"color\": \"#2a3f5f\"}, \"geo\": {\"bgcolor\": \"white\", \"lakecolor\": \"white\", \"landcolor\": \"#E5ECF6\", \"showlakes\": true, \"showland\": true, \"subunitcolor\": \"white\"}, \"hoverlabel\": {\"align\": \"left\"}, \"hovermode\": \"closest\", \"mapbox\": {\"style\": \"light\"}, \"paper_bgcolor\": \"white\", \"plot_bgcolor\": \"#E5ECF6\", \"polar\": {\"angularaxis\": {\"gridcolor\": \"white\", \"linecolor\": \"white\", \"ticks\": \"\"}, \"bgcolor\": \"#E5ECF6\", \"radialaxis\": {\"gridcolor\": \"white\", \"linecolor\": \"white\", \"ticks\": \"\"}}, \"scene\": {\"xaxis\": {\"backgroundcolor\": \"#E5ECF6\", \"gridcolor\": \"white\", \"gridwidth\": 2, \"linecolor\": \"white\", \"showbackground\": true, \"ticks\": \"\", \"zerolinecolor\": \"white\"}, \"yaxis\": {\"backgroundcolor\": \"#E5ECF6\", \"gridcolor\": \"white\", \"gridwidth\": 2, \"linecolor\": \"white\", \"showbackground\": true, \"ticks\": \"\", \"zerolinecolor\": \"white\"}, \"zaxis\": {\"backgroundcolor\": \"#E5ECF6\", \"gridcolor\": \"white\", \"gridwidth\": 2, \"linecolor\": \"white\", \"showbackground\": true, \"ticks\": \"\", \"zerolinecolor\": \"white\"}}, \"shapedefaults\": {\"line\": {\"color\": \"#2a3f5f\"}}, \"ternary\": {\"aaxis\": {\"gridcolor\": \"white\", \"linecolor\": \"white\", \"ticks\": \"\"}, \"baxis\": {\"gridcolor\": \"white\", \"linecolor\": \"white\", \"ticks\": \"\"}, \"bgcolor\": \"#E5ECF6\", \"caxis\": {\"gridcolor\": \"white\", \"linecolor\": \"white\", \"ticks\": \"\"}}, \"title\": {\"x\": 0.05}, \"xaxis\": {\"automargin\": true, \"gridcolor\": \"white\", \"linecolor\": \"white\", \"ticks\": \"\", \"title\": {\"standoff\": 15}, \"zerolinecolor\": \"white\", \"zerolinewidth\": 2}, \"yaxis\": {\"automargin\": true, \"gridcolor\": \"white\", \"linecolor\": \"white\", \"ticks\": \"\", \"title\": {\"standoff\": 15}, \"zerolinecolor\": \"white\", \"zerolinewidth\": 2}}}, \"title\": {\"font\": {\"color\": \"#4D5663\"}}, \"xaxis\": {\"gridcolor\": \"#E1E5ED\", \"showgrid\": true, \"tickfont\": {\"color\": \"#4D5663\"}, \"title\": {\"font\": {\"color\": \"#4D5663\"}, \"text\": \"\"}, \"zerolinecolor\": \"#E1E5ED\"}, \"yaxis\": {\"gridcolor\": \"#E1E5ED\", \"showgrid\": true, \"tickfont\": {\"color\": \"#4D5663\"}, \"title\": {\"font\": {\"color\": \"#4D5663\"}, \"text\": \"\"}, \"zerolinecolor\": \"#E1E5ED\"}},                        {\"showLink\": true, \"linkText\": \"Export to plot.ly\", \"plotlyServerURL\": \"https://plot.ly\", \"responsive\": true}                    ).then(function(){\n",
       "                            \n",
       "var gd = document.getElementById('71335743-0897-458d-ab76-7eea618458de');\n",
       "var x = new MutationObserver(function (mutations, observer) {{\n",
       "        var display = window.getComputedStyle(gd).display;\n",
       "        if (!display || display === 'none') {{\n",
       "            console.log([gd, 'removed!']);\n",
       "            Plotly.purge(gd);\n",
       "            observer.disconnect();\n",
       "        }}\n",
       "}});\n",
       "\n",
       "// Listen for the removal of the full notebook cells\n",
       "var notebookContainer = gd.closest('#notebook-container');\n",
       "if (notebookContainer) {{\n",
       "    x.observe(notebookContainer, {childList: true});\n",
       "}}\n",
       "\n",
       "// Listen for the clearing of the current output cell\n",
       "var outputEl = gd.closest('.output');\n",
       "if (outputEl) {{\n",
       "    x.observe(outputEl, {childList: true});\n",
       "}}\n",
       "\n",
       "                        })                };                });            </script>        </div>"
      ]
     },
     "metadata": {},
     "output_type": "display_data"
    }
   ],
   "source": [
    "df['A'].iplot(kind='hist',bins=25)"
   ]
  },
  {
   "cell_type": "code",
   "execution_count": 41,
   "metadata": {},
   "outputs": [
    {
     "data": {
      "application/vnd.plotly.v1+json": {
       "config": {
        "linkText": "Export to plot.ly",
        "plotlyServerURL": "https://plot.ly",
        "showLink": true
       },
       "data": [
        {
         "marker": {
          "color": [
           "rgb(255, 153, 51)",
           "rgb(55, 128, 191)",
           "rgb(50, 171, 96)",
           "rgb(128, 0, 128)",
           "rgb(219, 64, 82)",
           "rgb(0, 128, 128)",
           "rgb(255, 255, 51)",
           "rgb(128, 128, 0)",
           "rgb(251, 128, 114)",
           "rgb(128, 177, 211)"
          ],
          "line": {
           "width": 1.3
          },
          "size": [
           75,
           92,
           82,
           67,
           53,
           65,
           64,
           84,
           69,
           91,
           102,
           74,
           69,
           70,
           66,
           90,
           62,
           77,
           112,
           79,
           62,
           43,
           53,
           50,
           39,
           51,
           92,
           104,
           29,
           82,
           45,
           66,
           79,
           102,
           82,
           12,
           50,
           47,
           72,
           76,
           41,
           70,
           74,
           83,
           40,
           70,
           34,
           68,
           71,
           43,
           64,
           106,
           68,
           69,
           74,
           64,
           54,
           48,
           72,
           53,
           78,
           54,
           81,
           68,
           26,
           96,
           45,
           60,
           40,
           73,
           44,
           57,
           57,
           83,
           58,
           50,
           63,
           92,
           97,
           16,
           63,
           29,
           38,
           66,
           63,
           107,
           18,
           80,
           80,
           76,
           20,
           73,
           45,
           74,
           65,
           39,
           78,
           80,
           84,
           88
          ],
          "symbol": "circle"
         },
         "mode": "markers",
         "text": "",
         "type": "scatter",
         "x": [
          0.5559244215996016,
          0.16531247499681323,
          -0.8101100169139632,
          -1.3974320065743162,
          1.6136174804983556,
          -0.3211925649236798,
          -0.3708134451358885,
          0.7768683958236318,
          0.9185436802928186,
          1.2762372604361978,
          0.4127563834151255,
          -0.9193064276735416,
          -1.5395019336205855,
          -0.5305376223271864,
          -0.9903403728567307,
          0.14647506819357678,
          -0.1763519726139724,
          0.36008109401573163,
          -0.3176404768055409,
          -0.19412325558431157,
          -0.0904221223832305,
          -0.5945023504586406,
          -0.03895869264617371,
          0.5901436910604915,
          -0.7996642304747691,
          1.0301076261885471,
          0.9621354965051399,
          0.30578234381497704,
          -0.724902498511663,
          -0.21758223505728244,
          0.32225672399278027,
          0.16816746481521705,
          -0.3052736668837778,
          -0.3751381721108554,
          0.827811394916156,
          -1.1823153331521996,
          0.05309296545930296,
          0.7949550338463784,
          0.009844956835440979,
          -0.421073670238091,
          -0.9065419444857088,
          0.5772849324123647,
          -2.0877670198322047,
          1.3868161621120656,
          -0.702588197611849,
          0.162538412371124,
          -0.003047648967196274,
          0.18507428698394549,
          -0.2390219605970498,
          0.07847295052663021,
          -0.246121472387244,
          0.7798289383401936,
          1.4968068545020095,
          -0.7877805920356816,
          -1.126634990257943,
          0.11719360333798196,
          -1.5602947784857861,
          1.298860409475295,
          -1.8056312905844059,
          1.1832197109271312,
          1.4331767165642602,
          -0.2911593460243957,
          0.1574901335703895,
          0.06854985942307727,
          1.4231140740707144,
          -2.04463937159396,
          -1.8251943251991503,
          0.14962534578078765,
          0.0813071065438157,
          -1.0863368122861674,
          0.9565864600231273,
          0.6642827660389123,
          -1.4831517966951513,
          -0.39828961293614407,
          0.22927634606915795,
          0.22238917753957502,
          0.7686846529091509,
          1.47119939628487,
          -1.556400814871271,
          -2.735284320598148,
          0.07069490963218183,
          0.23495848143046277,
          1.9148595400160937,
          0.6174926889282726,
          -1.4203144589579582,
          1.1619629955318764,
          -0.5601347720040485,
          -0.6703767522970148,
          0.17875077451214946,
          0.08181724511550104,
          -0.3519235217399932,
          1.3203913019856222,
          1.8460431102673394,
          -0.14262827208374368,
          0.6250080835386731,
          1.9614289138545555,
          0.4434327783663857,
          1.6393596269936033,
          1.530107027081265,
          1.6215780684288195
         ],
         "y": [
          0.22903146892060294,
          -1.0438839554806172,
          -0.4399526952827415,
          -0.4633382480861902,
          -1.5654877913797267,
          1.2377698503523018,
          -0.007528301571093346,
          -0.7821574542974872,
          0.1932979535681084,
          0.16383400694923386,
          -0.10457958055017953,
          -0.5483224720829957,
          0.3901467033850892,
          0.8733391491473266,
          -1.8148002875494058,
          -0.0759623941349184,
          -1.5726465344150269,
          -0.6082787903749993,
          0.3214224546316616,
          0.4511156558335474,
          -0.2819159475893012,
          -0.03168586915965763,
          0.4153575859846248,
          -0.8519307093778403,
          -0.18818870118555994,
          -1.4230368693782596,
          -1.1061437380428527,
          -0.4788898790879405,
          -0.30961021649646114,
          0.826955287725046,
          1.2056289154607636,
          -0.70084903580063,
          0.8209283555060617,
          -0.5298851830413455,
          0.1451874152781941,
          -1.5865763699281297,
          1.6520160207008723,
          -0.6106005545270637,
          -0.4657338792251926,
          -1.613208567945061,
          -0.3358265022436321,
          -0.19539723810652976,
          -0.10857198778945001,
          -0.5686738836571239,
          0.026700284464226395,
          0.060562223568401255,
          -1.322550194123688,
          -1.1478889418544014,
          -0.6747492167943674,
          1.4978851912884552,
          -0.8144161797427335,
          -0.6614153305732594,
          -1.9119357727283888,
          -1.164014883430049,
          0.5595234352487303,
          0.108328681661955,
          -0.9706109249546176,
          0.47099451136202414,
          0.9089019866312754,
          -0.4955207283130792,
          -1.125571044511677,
          -1.259705874458263,
          0.9499971437675632,
          -1.0807709308166202,
          0.3365070500166459,
          1.2321842350594938,
          -1.4903302832650034,
          0.3514723761902005,
          0.08623718249227429,
          -0.20931093736104614,
          -0.9741715973174373,
          -0.5308998848264274,
          -2.410083026327852,
          -0.1899938700628958,
          1.7683431358180248,
          -0.47597742609579835,
          -0.0013692778474197807,
          -3.381411728787464,
          0.2096704289056021,
          0.017403841169861784,
          0.40583638946018025,
          -0.6750001314794015,
          0.15150861459613177,
          0.17204801196444056,
          1.2690154822774866,
          -2.289782485465693,
          -0.12230747952833376,
          -1.2401555231539811,
          0.6775438389699542,
          0.748663635094293,
          -1.0291210942321232,
          0.11491042839811323,
          0.6149875024612116,
          -0.6752388716699234,
          -1.0210089048464344,
          -1.306395759730055,
          -0.8897696845214655,
          1.9783178499112062,
          0.7937356305287727,
          -0.30826255509155437
         ]
        }
       ],
       "layout": {
        "legend": {
         "bgcolor": "#F5F6F9",
         "font": {
          "color": "#4D5663"
         }
        },
        "paper_bgcolor": "#F5F6F9",
        "plot_bgcolor": "#F5F6F9",
        "template": {
         "data": {
          "bar": [
           {
            "error_x": {
             "color": "#2a3f5f"
            },
            "error_y": {
             "color": "#2a3f5f"
            },
            "marker": {
             "line": {
              "color": "#E5ECF6",
              "width": 0.5
             }
            },
            "type": "bar"
           }
          ],
          "barpolar": [
           {
            "marker": {
             "line": {
              "color": "#E5ECF6",
              "width": 0.5
             }
            },
            "type": "barpolar"
           }
          ],
          "carpet": [
           {
            "aaxis": {
             "endlinecolor": "#2a3f5f",
             "gridcolor": "white",
             "linecolor": "white",
             "minorgridcolor": "white",
             "startlinecolor": "#2a3f5f"
            },
            "baxis": {
             "endlinecolor": "#2a3f5f",
             "gridcolor": "white",
             "linecolor": "white",
             "minorgridcolor": "white",
             "startlinecolor": "#2a3f5f"
            },
            "type": "carpet"
           }
          ],
          "choropleth": [
           {
            "colorbar": {
             "outlinewidth": 0,
             "ticks": ""
            },
            "type": "choropleth"
           }
          ],
          "contour": [
           {
            "colorbar": {
             "outlinewidth": 0,
             "ticks": ""
            },
            "colorscale": [
             [
              0,
              "#0d0887"
             ],
             [
              0.1111111111111111,
              "#46039f"
             ],
             [
              0.2222222222222222,
              "#7201a8"
             ],
             [
              0.3333333333333333,
              "#9c179e"
             ],
             [
              0.4444444444444444,
              "#bd3786"
             ],
             [
              0.5555555555555556,
              "#d8576b"
             ],
             [
              0.6666666666666666,
              "#ed7953"
             ],
             [
              0.7777777777777778,
              "#fb9f3a"
             ],
             [
              0.8888888888888888,
              "#fdca26"
             ],
             [
              1,
              "#f0f921"
             ]
            ],
            "type": "contour"
           }
          ],
          "contourcarpet": [
           {
            "colorbar": {
             "outlinewidth": 0,
             "ticks": ""
            },
            "type": "contourcarpet"
           }
          ],
          "heatmap": [
           {
            "colorbar": {
             "outlinewidth": 0,
             "ticks": ""
            },
            "colorscale": [
             [
              0,
              "#0d0887"
             ],
             [
              0.1111111111111111,
              "#46039f"
             ],
             [
              0.2222222222222222,
              "#7201a8"
             ],
             [
              0.3333333333333333,
              "#9c179e"
             ],
             [
              0.4444444444444444,
              "#bd3786"
             ],
             [
              0.5555555555555556,
              "#d8576b"
             ],
             [
              0.6666666666666666,
              "#ed7953"
             ],
             [
              0.7777777777777778,
              "#fb9f3a"
             ],
             [
              0.8888888888888888,
              "#fdca26"
             ],
             [
              1,
              "#f0f921"
             ]
            ],
            "type": "heatmap"
           }
          ],
          "heatmapgl": [
           {
            "colorbar": {
             "outlinewidth": 0,
             "ticks": ""
            },
            "colorscale": [
             [
              0,
              "#0d0887"
             ],
             [
              0.1111111111111111,
              "#46039f"
             ],
             [
              0.2222222222222222,
              "#7201a8"
             ],
             [
              0.3333333333333333,
              "#9c179e"
             ],
             [
              0.4444444444444444,
              "#bd3786"
             ],
             [
              0.5555555555555556,
              "#d8576b"
             ],
             [
              0.6666666666666666,
              "#ed7953"
             ],
             [
              0.7777777777777778,
              "#fb9f3a"
             ],
             [
              0.8888888888888888,
              "#fdca26"
             ],
             [
              1,
              "#f0f921"
             ]
            ],
            "type": "heatmapgl"
           }
          ],
          "histogram": [
           {
            "marker": {
             "colorbar": {
              "outlinewidth": 0,
              "ticks": ""
             }
            },
            "type": "histogram"
           }
          ],
          "histogram2d": [
           {
            "colorbar": {
             "outlinewidth": 0,
             "ticks": ""
            },
            "colorscale": [
             [
              0,
              "#0d0887"
             ],
             [
              0.1111111111111111,
              "#46039f"
             ],
             [
              0.2222222222222222,
              "#7201a8"
             ],
             [
              0.3333333333333333,
              "#9c179e"
             ],
             [
              0.4444444444444444,
              "#bd3786"
             ],
             [
              0.5555555555555556,
              "#d8576b"
             ],
             [
              0.6666666666666666,
              "#ed7953"
             ],
             [
              0.7777777777777778,
              "#fb9f3a"
             ],
             [
              0.8888888888888888,
              "#fdca26"
             ],
             [
              1,
              "#f0f921"
             ]
            ],
            "type": "histogram2d"
           }
          ],
          "histogram2dcontour": [
           {
            "colorbar": {
             "outlinewidth": 0,
             "ticks": ""
            },
            "colorscale": [
             [
              0,
              "#0d0887"
             ],
             [
              0.1111111111111111,
              "#46039f"
             ],
             [
              0.2222222222222222,
              "#7201a8"
             ],
             [
              0.3333333333333333,
              "#9c179e"
             ],
             [
              0.4444444444444444,
              "#bd3786"
             ],
             [
              0.5555555555555556,
              "#d8576b"
             ],
             [
              0.6666666666666666,
              "#ed7953"
             ],
             [
              0.7777777777777778,
              "#fb9f3a"
             ],
             [
              0.8888888888888888,
              "#fdca26"
             ],
             [
              1,
              "#f0f921"
             ]
            ],
            "type": "histogram2dcontour"
           }
          ],
          "mesh3d": [
           {
            "colorbar": {
             "outlinewidth": 0,
             "ticks": ""
            },
            "type": "mesh3d"
           }
          ],
          "parcoords": [
           {
            "line": {
             "colorbar": {
              "outlinewidth": 0,
              "ticks": ""
             }
            },
            "type": "parcoords"
           }
          ],
          "pie": [
           {
            "automargin": true,
            "type": "pie"
           }
          ],
          "scatter": [
           {
            "marker": {
             "colorbar": {
              "outlinewidth": 0,
              "ticks": ""
             }
            },
            "type": "scatter"
           }
          ],
          "scatter3d": [
           {
            "line": {
             "colorbar": {
              "outlinewidth": 0,
              "ticks": ""
             }
            },
            "marker": {
             "colorbar": {
              "outlinewidth": 0,
              "ticks": ""
             }
            },
            "type": "scatter3d"
           }
          ],
          "scattercarpet": [
           {
            "marker": {
             "colorbar": {
              "outlinewidth": 0,
              "ticks": ""
             }
            },
            "type": "scattercarpet"
           }
          ],
          "scattergeo": [
           {
            "marker": {
             "colorbar": {
              "outlinewidth": 0,
              "ticks": ""
             }
            },
            "type": "scattergeo"
           }
          ],
          "scattergl": [
           {
            "marker": {
             "colorbar": {
              "outlinewidth": 0,
              "ticks": ""
             }
            },
            "type": "scattergl"
           }
          ],
          "scattermapbox": [
           {
            "marker": {
             "colorbar": {
              "outlinewidth": 0,
              "ticks": ""
             }
            },
            "type": "scattermapbox"
           }
          ],
          "scatterpolar": [
           {
            "marker": {
             "colorbar": {
              "outlinewidth": 0,
              "ticks": ""
             }
            },
            "type": "scatterpolar"
           }
          ],
          "scatterpolargl": [
           {
            "marker": {
             "colorbar": {
              "outlinewidth": 0,
              "ticks": ""
             }
            },
            "type": "scatterpolargl"
           }
          ],
          "scatterternary": [
           {
            "marker": {
             "colorbar": {
              "outlinewidth": 0,
              "ticks": ""
             }
            },
            "type": "scatterternary"
           }
          ],
          "surface": [
           {
            "colorbar": {
             "outlinewidth": 0,
             "ticks": ""
            },
            "colorscale": [
             [
              0,
              "#0d0887"
             ],
             [
              0.1111111111111111,
              "#46039f"
             ],
             [
              0.2222222222222222,
              "#7201a8"
             ],
             [
              0.3333333333333333,
              "#9c179e"
             ],
             [
              0.4444444444444444,
              "#bd3786"
             ],
             [
              0.5555555555555556,
              "#d8576b"
             ],
             [
              0.6666666666666666,
              "#ed7953"
             ],
             [
              0.7777777777777778,
              "#fb9f3a"
             ],
             [
              0.8888888888888888,
              "#fdca26"
             ],
             [
              1,
              "#f0f921"
             ]
            ],
            "type": "surface"
           }
          ],
          "table": [
           {
            "cells": {
             "fill": {
              "color": "#EBF0F8"
             },
             "line": {
              "color": "white"
             }
            },
            "header": {
             "fill": {
              "color": "#C8D4E3"
             },
             "line": {
              "color": "white"
             }
            },
            "type": "table"
           }
          ]
         },
         "layout": {
          "annotationdefaults": {
           "arrowcolor": "#2a3f5f",
           "arrowhead": 0,
           "arrowwidth": 1
          },
          "autotypenumbers": "strict",
          "coloraxis": {
           "colorbar": {
            "outlinewidth": 0,
            "ticks": ""
           }
          },
          "colorscale": {
           "diverging": [
            [
             0,
             "#8e0152"
            ],
            [
             0.1,
             "#c51b7d"
            ],
            [
             0.2,
             "#de77ae"
            ],
            [
             0.3,
             "#f1b6da"
            ],
            [
             0.4,
             "#fde0ef"
            ],
            [
             0.5,
             "#f7f7f7"
            ],
            [
             0.6,
             "#e6f5d0"
            ],
            [
             0.7,
             "#b8e186"
            ],
            [
             0.8,
             "#7fbc41"
            ],
            [
             0.9,
             "#4d9221"
            ],
            [
             1,
             "#276419"
            ]
           ],
           "sequential": [
            [
             0,
             "#0d0887"
            ],
            [
             0.1111111111111111,
             "#46039f"
            ],
            [
             0.2222222222222222,
             "#7201a8"
            ],
            [
             0.3333333333333333,
             "#9c179e"
            ],
            [
             0.4444444444444444,
             "#bd3786"
            ],
            [
             0.5555555555555556,
             "#d8576b"
            ],
            [
             0.6666666666666666,
             "#ed7953"
            ],
            [
             0.7777777777777778,
             "#fb9f3a"
            ],
            [
             0.8888888888888888,
             "#fdca26"
            ],
            [
             1,
             "#f0f921"
            ]
           ],
           "sequentialminus": [
            [
             0,
             "#0d0887"
            ],
            [
             0.1111111111111111,
             "#46039f"
            ],
            [
             0.2222222222222222,
             "#7201a8"
            ],
            [
             0.3333333333333333,
             "#9c179e"
            ],
            [
             0.4444444444444444,
             "#bd3786"
            ],
            [
             0.5555555555555556,
             "#d8576b"
            ],
            [
             0.6666666666666666,
             "#ed7953"
            ],
            [
             0.7777777777777778,
             "#fb9f3a"
            ],
            [
             0.8888888888888888,
             "#fdca26"
            ],
            [
             1,
             "#f0f921"
            ]
           ]
          },
          "colorway": [
           "#636efa",
           "#EF553B",
           "#00cc96",
           "#ab63fa",
           "#FFA15A",
           "#19d3f3",
           "#FF6692",
           "#B6E880",
           "#FF97FF",
           "#FECB52"
          ],
          "font": {
           "color": "#2a3f5f"
          },
          "geo": {
           "bgcolor": "white",
           "lakecolor": "white",
           "landcolor": "#E5ECF6",
           "showlakes": true,
           "showland": true,
           "subunitcolor": "white"
          },
          "hoverlabel": {
           "align": "left"
          },
          "hovermode": "closest",
          "mapbox": {
           "style": "light"
          },
          "paper_bgcolor": "white",
          "plot_bgcolor": "#E5ECF6",
          "polar": {
           "angularaxis": {
            "gridcolor": "white",
            "linecolor": "white",
            "ticks": ""
           },
           "bgcolor": "#E5ECF6",
           "radialaxis": {
            "gridcolor": "white",
            "linecolor": "white",
            "ticks": ""
           }
          },
          "scene": {
           "xaxis": {
            "backgroundcolor": "#E5ECF6",
            "gridcolor": "white",
            "gridwidth": 2,
            "linecolor": "white",
            "showbackground": true,
            "ticks": "",
            "zerolinecolor": "white"
           },
           "yaxis": {
            "backgroundcolor": "#E5ECF6",
            "gridcolor": "white",
            "gridwidth": 2,
            "linecolor": "white",
            "showbackground": true,
            "ticks": "",
            "zerolinecolor": "white"
           },
           "zaxis": {
            "backgroundcolor": "#E5ECF6",
            "gridcolor": "white",
            "gridwidth": 2,
            "linecolor": "white",
            "showbackground": true,
            "ticks": "",
            "zerolinecolor": "white"
           }
          },
          "shapedefaults": {
           "line": {
            "color": "#2a3f5f"
           }
          },
          "ternary": {
           "aaxis": {
            "gridcolor": "white",
            "linecolor": "white",
            "ticks": ""
           },
           "baxis": {
            "gridcolor": "white",
            "linecolor": "white",
            "ticks": ""
           },
           "bgcolor": "#E5ECF6",
           "caxis": {
            "gridcolor": "white",
            "linecolor": "white",
            "ticks": ""
           }
          },
          "title": {
           "x": 0.05
          },
          "xaxis": {
           "automargin": true,
           "gridcolor": "white",
           "linecolor": "white",
           "ticks": "",
           "title": {
            "standoff": 15
           },
           "zerolinecolor": "white",
           "zerolinewidth": 2
          },
          "yaxis": {
           "automargin": true,
           "gridcolor": "white",
           "linecolor": "white",
           "ticks": "",
           "title": {
            "standoff": 15
           },
           "zerolinecolor": "white",
           "zerolinewidth": 2
          }
         }
        },
        "title": {
         "font": {
          "color": "#4D5663"
         }
        },
        "xaxis": {
         "gridcolor": "#E1E5ED",
         "showgrid": true,
         "tickfont": {
          "color": "#4D5663"
         },
         "title": {
          "font": {
           "color": "#4D5663"
          },
          "text": ""
         },
         "zerolinecolor": "#E1E5ED"
        },
        "yaxis": {
         "gridcolor": "#E1E5ED",
         "showgrid": true,
         "tickfont": {
          "color": "#4D5663"
         },
         "title": {
          "font": {
           "color": "#4D5663"
          },
          "text": ""
         },
         "zerolinecolor": "#E1E5ED"
        }
       }
      },
      "text/html": [
       "<div>                            <div id=\"fac2321d-418d-41d7-a0a3-e5ed0b06d452\" class=\"plotly-graph-div\" style=\"height:525px; width:100%;\"></div>            <script type=\"text/javascript\">                require([\"plotly\"], function(Plotly) {                    window.PLOTLYENV=window.PLOTLYENV || {};\n",
       "                    window.PLOTLYENV.BASE_URL='https://plot.ly';                                    if (document.getElementById(\"fac2321d-418d-41d7-a0a3-e5ed0b06d452\")) {                    Plotly.newPlot(                        \"fac2321d-418d-41d7-a0a3-e5ed0b06d452\",                        [{\"marker\": {\"color\": [\"rgb(255, 153, 51)\", \"rgb(55, 128, 191)\", \"rgb(50, 171, 96)\", \"rgb(128, 0, 128)\", \"rgb(219, 64, 82)\", \"rgb(0, 128, 128)\", \"rgb(255, 255, 51)\", \"rgb(128, 128, 0)\", \"rgb(251, 128, 114)\", \"rgb(128, 177, 211)\"], \"line\": {\"width\": 1.3}, \"size\": [75, 92, 82, 67, 53, 65, 64, 84, 69, 91, 102, 74, 69, 70, 66, 90, 62, 77, 112, 79, 62, 43, 53, 50, 39, 51, 92, 104, 29, 82, 45, 66, 79, 102, 82, 12, 50, 47, 72, 76, 41, 70, 74, 83, 40, 70, 34, 68, 71, 43, 64, 106, 68, 69, 74, 64, 54, 48, 72, 53, 78, 54, 81, 68, 26, 96, 45, 60, 40, 73, 44, 57, 57, 83, 58, 50, 63, 92, 97, 16, 63, 29, 38, 66, 63, 107, 18, 80, 80, 76, 20, 73, 45, 74, 65, 39, 78, 80, 84, 88], \"symbol\": \"circle\"}, \"mode\": \"markers\", \"text\": \"\", \"type\": \"scatter\", \"x\": [0.5559244215996016, 0.16531247499681323, -0.8101100169139632, -1.3974320065743162, 1.6136174804983556, -0.3211925649236798, -0.3708134451358885, 0.7768683958236318, 0.9185436802928186, 1.2762372604361978, 0.4127563834151255, -0.9193064276735416, -1.5395019336205855, -0.5305376223271864, -0.9903403728567307, 0.14647506819357678, -0.1763519726139724, 0.36008109401573163, -0.3176404768055409, -0.19412325558431157, -0.0904221223832305, -0.5945023504586406, -0.03895869264617371, 0.5901436910604915, -0.7996642304747691, 1.0301076261885471, 0.9621354965051399, 0.30578234381497704, -0.724902498511663, -0.21758223505728244, 0.32225672399278027, 0.16816746481521705, -0.3052736668837778, -0.3751381721108554, 0.827811394916156, -1.1823153331521996, 0.05309296545930296, 0.7949550338463784, 0.009844956835440979, -0.421073670238091, -0.9065419444857088, 0.5772849324123647, -2.0877670198322047, 1.3868161621120656, -0.702588197611849, 0.162538412371124, -0.003047648967196274, 0.18507428698394549, -0.2390219605970498, 0.07847295052663021, -0.246121472387244, 0.7798289383401936, 1.4968068545020095, -0.7877805920356816, -1.126634990257943, 0.11719360333798196, -1.5602947784857861, 1.298860409475295, -1.8056312905844059, 1.1832197109271312, 1.4331767165642602, -0.2911593460243957, 0.1574901335703895, 0.06854985942307727, 1.4231140740707144, -2.04463937159396, -1.8251943251991503, 0.14962534578078765, 0.0813071065438157, -1.0863368122861674, 0.9565864600231273, 0.6642827660389123, -1.4831517966951513, -0.39828961293614407, 0.22927634606915795, 0.22238917753957502, 0.7686846529091509, 1.47119939628487, -1.556400814871271, -2.735284320598148, 0.07069490963218183, 0.23495848143046277, 1.9148595400160937, 0.6174926889282726, -1.4203144589579582, 1.1619629955318764, -0.5601347720040485, -0.6703767522970148, 0.17875077451214946, 0.08181724511550104, -0.3519235217399932, 1.3203913019856222, 1.8460431102673394, -0.14262827208374368, 0.6250080835386731, 1.9614289138545555, 0.4434327783663857, 1.6393596269936033, 1.530107027081265, 1.6215780684288195], \"y\": [0.22903146892060294, -1.0438839554806172, -0.4399526952827415, -0.4633382480861902, -1.5654877913797267, 1.2377698503523018, -0.007528301571093346, -0.7821574542974872, 0.1932979535681084, 0.16383400694923386, -0.10457958055017953, -0.5483224720829957, 0.3901467033850892, 0.8733391491473266, -1.8148002875494058, -0.0759623941349184, -1.5726465344150269, -0.6082787903749993, 0.3214224546316616, 0.4511156558335474, -0.2819159475893012, -0.03168586915965763, 0.4153575859846248, -0.8519307093778403, -0.18818870118555994, -1.4230368693782596, -1.1061437380428527, -0.4788898790879405, -0.30961021649646114, 0.826955287725046, 1.2056289154607636, -0.70084903580063, 0.8209283555060617, -0.5298851830413455, 0.1451874152781941, -1.5865763699281297, 1.6520160207008723, -0.6106005545270637, -0.4657338792251926, -1.613208567945061, -0.3358265022436321, -0.19539723810652976, -0.10857198778945001, -0.5686738836571239, 0.026700284464226395, 0.060562223568401255, -1.322550194123688, -1.1478889418544014, -0.6747492167943674, 1.4978851912884552, -0.8144161797427335, -0.6614153305732594, -1.9119357727283888, -1.164014883430049, 0.5595234352487303, 0.108328681661955, -0.9706109249546176, 0.47099451136202414, 0.9089019866312754, -0.4955207283130792, -1.125571044511677, -1.259705874458263, 0.9499971437675632, -1.0807709308166202, 0.3365070500166459, 1.2321842350594938, -1.4903302832650034, 0.3514723761902005, 0.08623718249227429, -0.20931093736104614, -0.9741715973174373, -0.5308998848264274, -2.410083026327852, -0.1899938700628958, 1.7683431358180248, -0.47597742609579835, -0.0013692778474197807, -3.381411728787464, 0.2096704289056021, 0.017403841169861784, 0.40583638946018025, -0.6750001314794015, 0.15150861459613177, 0.17204801196444056, 1.2690154822774866, -2.289782485465693, -0.12230747952833376, -1.2401555231539811, 0.6775438389699542, 0.748663635094293, -1.0291210942321232, 0.11491042839811323, 0.6149875024612116, -0.6752388716699234, -1.0210089048464344, -1.306395759730055, -0.8897696845214655, 1.9783178499112062, 0.7937356305287727, -0.30826255509155437]}],                        {\"legend\": {\"bgcolor\": \"#F5F6F9\", \"font\": {\"color\": \"#4D5663\"}}, \"paper_bgcolor\": \"#F5F6F9\", \"plot_bgcolor\": \"#F5F6F9\", \"template\": {\"data\": {\"bar\": [{\"error_x\": {\"color\": \"#2a3f5f\"}, \"error_y\": {\"color\": \"#2a3f5f\"}, \"marker\": {\"line\": {\"color\": \"#E5ECF6\", \"width\": 0.5}}, \"type\": \"bar\"}], \"barpolar\": [{\"marker\": {\"line\": {\"color\": \"#E5ECF6\", \"width\": 0.5}}, \"type\": \"barpolar\"}], \"carpet\": [{\"aaxis\": {\"endlinecolor\": \"#2a3f5f\", \"gridcolor\": \"white\", \"linecolor\": \"white\", \"minorgridcolor\": \"white\", \"startlinecolor\": \"#2a3f5f\"}, \"baxis\": {\"endlinecolor\": \"#2a3f5f\", \"gridcolor\": \"white\", \"linecolor\": \"white\", \"minorgridcolor\": \"white\", \"startlinecolor\": \"#2a3f5f\"}, \"type\": \"carpet\"}], \"choropleth\": [{\"colorbar\": {\"outlinewidth\": 0, \"ticks\": \"\"}, \"type\": \"choropleth\"}], \"contour\": [{\"colorbar\": {\"outlinewidth\": 0, \"ticks\": \"\"}, \"colorscale\": [[0.0, \"#0d0887\"], [0.1111111111111111, \"#46039f\"], [0.2222222222222222, \"#7201a8\"], [0.3333333333333333, \"#9c179e\"], [0.4444444444444444, \"#bd3786\"], [0.5555555555555556, \"#d8576b\"], [0.6666666666666666, \"#ed7953\"], [0.7777777777777778, \"#fb9f3a\"], [0.8888888888888888, \"#fdca26\"], [1.0, \"#f0f921\"]], \"type\": \"contour\"}], \"contourcarpet\": [{\"colorbar\": {\"outlinewidth\": 0, \"ticks\": \"\"}, \"type\": \"contourcarpet\"}], \"heatmap\": [{\"colorbar\": {\"outlinewidth\": 0, \"ticks\": \"\"}, \"colorscale\": [[0.0, \"#0d0887\"], [0.1111111111111111, \"#46039f\"], [0.2222222222222222, \"#7201a8\"], [0.3333333333333333, \"#9c179e\"], [0.4444444444444444, \"#bd3786\"], [0.5555555555555556, \"#d8576b\"], [0.6666666666666666, \"#ed7953\"], [0.7777777777777778, \"#fb9f3a\"], [0.8888888888888888, \"#fdca26\"], [1.0, \"#f0f921\"]], \"type\": \"heatmap\"}], \"heatmapgl\": [{\"colorbar\": {\"outlinewidth\": 0, \"ticks\": \"\"}, \"colorscale\": [[0.0, \"#0d0887\"], [0.1111111111111111, \"#46039f\"], [0.2222222222222222, \"#7201a8\"], [0.3333333333333333, \"#9c179e\"], [0.4444444444444444, \"#bd3786\"], [0.5555555555555556, \"#d8576b\"], [0.6666666666666666, \"#ed7953\"], [0.7777777777777778, \"#fb9f3a\"], [0.8888888888888888, \"#fdca26\"], [1.0, \"#f0f921\"]], \"type\": \"heatmapgl\"}], \"histogram\": [{\"marker\": {\"colorbar\": {\"outlinewidth\": 0, \"ticks\": \"\"}}, \"type\": \"histogram\"}], \"histogram2d\": [{\"colorbar\": {\"outlinewidth\": 0, \"ticks\": \"\"}, \"colorscale\": [[0.0, \"#0d0887\"], [0.1111111111111111, \"#46039f\"], [0.2222222222222222, \"#7201a8\"], [0.3333333333333333, \"#9c179e\"], [0.4444444444444444, \"#bd3786\"], [0.5555555555555556, \"#d8576b\"], [0.6666666666666666, \"#ed7953\"], [0.7777777777777778, \"#fb9f3a\"], [0.8888888888888888, \"#fdca26\"], [1.0, \"#f0f921\"]], \"type\": \"histogram2d\"}], \"histogram2dcontour\": [{\"colorbar\": {\"outlinewidth\": 0, \"ticks\": \"\"}, \"colorscale\": [[0.0, \"#0d0887\"], [0.1111111111111111, \"#46039f\"], [0.2222222222222222, \"#7201a8\"], [0.3333333333333333, \"#9c179e\"], [0.4444444444444444, \"#bd3786\"], [0.5555555555555556, \"#d8576b\"], [0.6666666666666666, \"#ed7953\"], [0.7777777777777778, \"#fb9f3a\"], [0.8888888888888888, \"#fdca26\"], [1.0, \"#f0f921\"]], \"type\": \"histogram2dcontour\"}], \"mesh3d\": [{\"colorbar\": {\"outlinewidth\": 0, \"ticks\": \"\"}, \"type\": \"mesh3d\"}], \"parcoords\": [{\"line\": {\"colorbar\": {\"outlinewidth\": 0, \"ticks\": \"\"}}, \"type\": \"parcoords\"}], \"pie\": [{\"automargin\": true, \"type\": \"pie\"}], \"scatter\": [{\"marker\": {\"colorbar\": {\"outlinewidth\": 0, \"ticks\": \"\"}}, \"type\": \"scatter\"}], \"scatter3d\": [{\"line\": {\"colorbar\": {\"outlinewidth\": 0, \"ticks\": \"\"}}, \"marker\": {\"colorbar\": {\"outlinewidth\": 0, \"ticks\": \"\"}}, \"type\": \"scatter3d\"}], \"scattercarpet\": [{\"marker\": {\"colorbar\": {\"outlinewidth\": 0, \"ticks\": \"\"}}, \"type\": \"scattercarpet\"}], \"scattergeo\": [{\"marker\": {\"colorbar\": {\"outlinewidth\": 0, \"ticks\": \"\"}}, \"type\": \"scattergeo\"}], \"scattergl\": [{\"marker\": {\"colorbar\": {\"outlinewidth\": 0, \"ticks\": \"\"}}, \"type\": \"scattergl\"}], \"scattermapbox\": [{\"marker\": {\"colorbar\": {\"outlinewidth\": 0, \"ticks\": \"\"}}, \"type\": \"scattermapbox\"}], \"scatterpolar\": [{\"marker\": {\"colorbar\": {\"outlinewidth\": 0, \"ticks\": \"\"}}, \"type\": \"scatterpolar\"}], \"scatterpolargl\": [{\"marker\": {\"colorbar\": {\"outlinewidth\": 0, \"ticks\": \"\"}}, \"type\": \"scatterpolargl\"}], \"scatterternary\": [{\"marker\": {\"colorbar\": {\"outlinewidth\": 0, \"ticks\": \"\"}}, \"type\": \"scatterternary\"}], \"surface\": [{\"colorbar\": {\"outlinewidth\": 0, \"ticks\": \"\"}, \"colorscale\": [[0.0, \"#0d0887\"], [0.1111111111111111, \"#46039f\"], [0.2222222222222222, \"#7201a8\"], [0.3333333333333333, \"#9c179e\"], [0.4444444444444444, \"#bd3786\"], [0.5555555555555556, \"#d8576b\"], [0.6666666666666666, \"#ed7953\"], [0.7777777777777778, \"#fb9f3a\"], [0.8888888888888888, \"#fdca26\"], [1.0, \"#f0f921\"]], \"type\": \"surface\"}], \"table\": [{\"cells\": {\"fill\": {\"color\": \"#EBF0F8\"}, \"line\": {\"color\": \"white\"}}, \"header\": {\"fill\": {\"color\": \"#C8D4E3\"}, \"line\": {\"color\": \"white\"}}, \"type\": \"table\"}]}, \"layout\": {\"annotationdefaults\": {\"arrowcolor\": \"#2a3f5f\", \"arrowhead\": 0, \"arrowwidth\": 1}, \"autotypenumbers\": \"strict\", \"coloraxis\": {\"colorbar\": {\"outlinewidth\": 0, \"ticks\": \"\"}}, \"colorscale\": {\"diverging\": [[0, \"#8e0152\"], [0.1, \"#c51b7d\"], [0.2, \"#de77ae\"], [0.3, \"#f1b6da\"], [0.4, \"#fde0ef\"], [0.5, \"#f7f7f7\"], [0.6, \"#e6f5d0\"], [0.7, \"#b8e186\"], [0.8, \"#7fbc41\"], [0.9, \"#4d9221\"], [1, \"#276419\"]], \"sequential\": [[0.0, \"#0d0887\"], [0.1111111111111111, \"#46039f\"], [0.2222222222222222, \"#7201a8\"], [0.3333333333333333, \"#9c179e\"], [0.4444444444444444, \"#bd3786\"], [0.5555555555555556, \"#d8576b\"], [0.6666666666666666, \"#ed7953\"], [0.7777777777777778, \"#fb9f3a\"], [0.8888888888888888, \"#fdca26\"], [1.0, \"#f0f921\"]], \"sequentialminus\": [[0.0, \"#0d0887\"], [0.1111111111111111, \"#46039f\"], [0.2222222222222222, \"#7201a8\"], [0.3333333333333333, \"#9c179e\"], [0.4444444444444444, \"#bd3786\"], [0.5555555555555556, \"#d8576b\"], [0.6666666666666666, \"#ed7953\"], [0.7777777777777778, \"#fb9f3a\"], [0.8888888888888888, \"#fdca26\"], [1.0, \"#f0f921\"]]}, \"colorway\": [\"#636efa\", \"#EF553B\", \"#00cc96\", \"#ab63fa\", \"#FFA15A\", \"#19d3f3\", \"#FF6692\", \"#B6E880\", \"#FF97FF\", \"#FECB52\"], \"font\": {\"color\": \"#2a3f5f\"}, \"geo\": {\"bgcolor\": \"white\", \"lakecolor\": \"white\", \"landcolor\": \"#E5ECF6\", \"showlakes\": true, \"showland\": true, \"subunitcolor\": \"white\"}, \"hoverlabel\": {\"align\": \"left\"}, \"hovermode\": \"closest\", \"mapbox\": {\"style\": \"light\"}, \"paper_bgcolor\": \"white\", \"plot_bgcolor\": \"#E5ECF6\", \"polar\": {\"angularaxis\": {\"gridcolor\": \"white\", \"linecolor\": \"white\", \"ticks\": \"\"}, \"bgcolor\": \"#E5ECF6\", \"radialaxis\": {\"gridcolor\": \"white\", \"linecolor\": \"white\", \"ticks\": \"\"}}, \"scene\": {\"xaxis\": {\"backgroundcolor\": \"#E5ECF6\", \"gridcolor\": \"white\", \"gridwidth\": 2, \"linecolor\": \"white\", \"showbackground\": true, \"ticks\": \"\", \"zerolinecolor\": \"white\"}, \"yaxis\": {\"backgroundcolor\": \"#E5ECF6\", \"gridcolor\": \"white\", \"gridwidth\": 2, \"linecolor\": \"white\", \"showbackground\": true, \"ticks\": \"\", \"zerolinecolor\": \"white\"}, \"zaxis\": {\"backgroundcolor\": \"#E5ECF6\", \"gridcolor\": \"white\", \"gridwidth\": 2, \"linecolor\": \"white\", \"showbackground\": true, \"ticks\": \"\", \"zerolinecolor\": \"white\"}}, \"shapedefaults\": {\"line\": {\"color\": \"#2a3f5f\"}}, \"ternary\": {\"aaxis\": {\"gridcolor\": \"white\", \"linecolor\": \"white\", \"ticks\": \"\"}, \"baxis\": {\"gridcolor\": \"white\", \"linecolor\": \"white\", \"ticks\": \"\"}, \"bgcolor\": \"#E5ECF6\", \"caxis\": {\"gridcolor\": \"white\", \"linecolor\": \"white\", \"ticks\": \"\"}}, \"title\": {\"x\": 0.05}, \"xaxis\": {\"automargin\": true, \"gridcolor\": \"white\", \"linecolor\": \"white\", \"ticks\": \"\", \"title\": {\"standoff\": 15}, \"zerolinecolor\": \"white\", \"zerolinewidth\": 2}, \"yaxis\": {\"automargin\": true, \"gridcolor\": \"white\", \"linecolor\": \"white\", \"ticks\": \"\", \"title\": {\"standoff\": 15}, \"zerolinecolor\": \"white\", \"zerolinewidth\": 2}}}, \"title\": {\"font\": {\"color\": \"#4D5663\"}}, \"xaxis\": {\"gridcolor\": \"#E1E5ED\", \"showgrid\": true, \"tickfont\": {\"color\": \"#4D5663\"}, \"title\": {\"font\": {\"color\": \"#4D5663\"}, \"text\": \"\"}, \"zerolinecolor\": \"#E1E5ED\"}, \"yaxis\": {\"gridcolor\": \"#E1E5ED\", \"showgrid\": true, \"tickfont\": {\"color\": \"#4D5663\"}, \"title\": {\"font\": {\"color\": \"#4D5663\"}, \"text\": \"\"}, \"zerolinecolor\": \"#E1E5ED\"}},                        {\"showLink\": true, \"linkText\": \"Export to plot.ly\", \"plotlyServerURL\": \"https://plot.ly\", \"responsive\": true}                    ).then(function(){\n",
       "                            \n",
       "var gd = document.getElementById('fac2321d-418d-41d7-a0a3-e5ed0b06d452');\n",
       "var x = new MutationObserver(function (mutations, observer) {{\n",
       "        var display = window.getComputedStyle(gd).display;\n",
       "        if (!display || display === 'none') {{\n",
       "            console.log([gd, 'removed!']);\n",
       "            Plotly.purge(gd);\n",
       "            observer.disconnect();\n",
       "        }}\n",
       "}});\n",
       "\n",
       "// Listen for the removal of the full notebook cells\n",
       "var notebookContainer = gd.closest('#notebook-container');\n",
       "if (notebookContainer) {{\n",
       "    x.observe(notebookContainer, {childList: true});\n",
       "}}\n",
       "\n",
       "// Listen for the clearing of the current output cell\n",
       "var outputEl = gd.closest('.output');\n",
       "if (outputEl) {{\n",
       "    x.observe(outputEl, {childList: true});\n",
       "}}\n",
       "\n",
       "                        })                };                });            </script>        </div>"
      ]
     },
     "metadata": {},
     "output_type": "display_data"
    }
   ],
   "source": [
    "df.iplot(kind='bubble',x='A',y='B',size='C')"
   ]
  },
  {
   "cell_type": "markdown",
   "metadata": {},
   "source": [
    "## scatter_matrix()\n",
    "\n",
    "Similar to sns.pairplot()"
   ]
  },
  {
   "cell_type": "code",
   "execution_count": 42,
   "metadata": {},
   "outputs": [
    {
     "data": {
      "application/vnd.plotly.v1+json": {
       "config": {
        "linkText": "Export to plot.ly",
        "plotlyServerURL": "https://plot.ly",
        "showLink": true
       },
       "data": [
        {
         "histfunc": "count",
         "histnorm": "",
         "marker": {
          "color": "rgba(255, 153, 51, 1.0)",
          "line": {
           "color": "#4D5663",
           "width": 1.3
          }
         },
         "name": "A",
         "nbinsx": 10,
         "opacity": 0.8,
         "orientation": "v",
         "type": "histogram",
         "x": [
          0.5559244215996016,
          0.16531247499681323,
          -0.8101100169139632,
          -1.3974320065743162,
          1.6136174804983556,
          -0.3211925649236798,
          -0.3708134451358885,
          0.7768683958236318,
          0.9185436802928186,
          1.2762372604361978,
          0.4127563834151255,
          -0.9193064276735416,
          -1.5395019336205855,
          -0.5305376223271864,
          -0.9903403728567307,
          0.14647506819357678,
          -0.1763519726139724,
          0.36008109401573163,
          -0.3176404768055409,
          -0.19412325558431157,
          -0.0904221223832305,
          -0.5945023504586406,
          -0.03895869264617371,
          0.5901436910604915,
          -0.7996642304747691,
          1.0301076261885471,
          0.9621354965051399,
          0.30578234381497704,
          -0.724902498511663,
          -0.21758223505728244,
          0.32225672399278027,
          0.16816746481521705,
          -0.3052736668837778,
          -0.3751381721108554,
          0.827811394916156,
          -1.1823153331521996,
          0.05309296545930296,
          0.7949550338463784,
          0.009844956835440979,
          -0.421073670238091,
          -0.9065419444857088,
          0.5772849324123647,
          -2.0877670198322047,
          1.3868161621120656,
          -0.702588197611849,
          0.162538412371124,
          -0.003047648967196274,
          0.18507428698394549,
          -0.2390219605970498,
          0.07847295052663021,
          -0.246121472387244,
          0.7798289383401936,
          1.4968068545020095,
          -0.7877805920356816,
          -1.126634990257943,
          0.11719360333798196,
          -1.5602947784857861,
          1.298860409475295,
          -1.8056312905844059,
          1.1832197109271312,
          1.4331767165642602,
          -0.2911593460243957,
          0.1574901335703895,
          0.06854985942307727,
          1.4231140740707144,
          -2.04463937159396,
          -1.8251943251991503,
          0.14962534578078765,
          0.0813071065438157,
          -1.0863368122861674,
          0.9565864600231273,
          0.6642827660389123,
          -1.4831517966951513,
          -0.39828961293614407,
          0.22927634606915795,
          0.22238917753957502,
          0.7686846529091509,
          1.47119939628487,
          -1.556400814871271,
          -2.735284320598148,
          0.07069490963218183,
          0.23495848143046277,
          1.9148595400160937,
          0.6174926889282726,
          -1.4203144589579582,
          1.1619629955318764,
          -0.5601347720040485,
          -0.6703767522970148,
          0.17875077451214946,
          0.08181724511550104,
          -0.3519235217399932,
          1.3203913019856222,
          1.8460431102673394,
          -0.14262827208374368,
          0.6250080835386731,
          1.9614289138545555,
          0.4434327783663857,
          1.6393596269936033,
          1.530107027081265,
          1.6215780684288195
         ],
         "xaxis": "x",
         "yaxis": "y"
        },
        {
         "line": {
          "color": "rgba(128, 128, 128, 1.0)",
          "dash": "solid",
          "shape": "linear",
          "width": 1.3
         },
         "marker": {
          "size": 2,
          "symbol": "circle"
         },
         "mode": "markers",
         "name": "A",
         "text": "",
         "type": "scatter",
         "x": [
          0.22903146892060294,
          -1.0438839554806172,
          -0.4399526952827415,
          -0.4633382480861902,
          -1.5654877913797267,
          1.2377698503523018,
          -0.007528301571093346,
          -0.7821574542974872,
          0.1932979535681084,
          0.16383400694923386,
          -0.10457958055017953,
          -0.5483224720829957,
          0.3901467033850892,
          0.8733391491473266,
          -1.8148002875494058,
          -0.0759623941349184,
          -1.5726465344150269,
          -0.6082787903749993,
          0.3214224546316616,
          0.4511156558335474,
          -0.2819159475893012,
          -0.03168586915965763,
          0.4153575859846248,
          -0.8519307093778403,
          -0.18818870118555994,
          -1.4230368693782596,
          -1.1061437380428527,
          -0.4788898790879405,
          -0.30961021649646114,
          0.826955287725046,
          1.2056289154607636,
          -0.70084903580063,
          0.8209283555060617,
          -0.5298851830413455,
          0.1451874152781941,
          -1.5865763699281297,
          1.6520160207008723,
          -0.6106005545270637,
          -0.4657338792251926,
          -1.613208567945061,
          -0.3358265022436321,
          -0.19539723810652976,
          -0.10857198778945001,
          -0.5686738836571239,
          0.026700284464226395,
          0.060562223568401255,
          -1.322550194123688,
          -1.1478889418544014,
          -0.6747492167943674,
          1.4978851912884552,
          -0.8144161797427335,
          -0.6614153305732594,
          -1.9119357727283888,
          -1.164014883430049,
          0.5595234352487303,
          0.108328681661955,
          -0.9706109249546176,
          0.47099451136202414,
          0.9089019866312754,
          -0.4955207283130792,
          -1.125571044511677,
          -1.259705874458263,
          0.9499971437675632,
          -1.0807709308166202,
          0.3365070500166459,
          1.2321842350594938,
          -1.4903302832650034,
          0.3514723761902005,
          0.08623718249227429,
          -0.20931093736104614,
          -0.9741715973174373,
          -0.5308998848264274,
          -2.410083026327852,
          -0.1899938700628958,
          1.7683431358180248,
          -0.47597742609579835,
          -0.0013692778474197807,
          -3.381411728787464,
          0.2096704289056021,
          0.017403841169861784,
          0.40583638946018025,
          -0.6750001314794015,
          0.15150861459613177,
          0.17204801196444056,
          1.2690154822774866,
          -2.289782485465693,
          -0.12230747952833376,
          -1.2401555231539811,
          0.6775438389699542,
          0.748663635094293,
          -1.0291210942321232,
          0.11491042839811323,
          0.6149875024612116,
          -0.6752388716699234,
          -1.0210089048464344,
          -1.306395759730055,
          -0.8897696845214655,
          1.9783178499112062,
          0.7937356305287727,
          -0.30826255509155437
         ],
         "xaxis": "x2",
         "y": [
          0.5559244215996016,
          0.16531247499681323,
          -0.8101100169139632,
          -1.3974320065743162,
          1.6136174804983556,
          -0.3211925649236798,
          -0.3708134451358885,
          0.7768683958236318,
          0.9185436802928186,
          1.2762372604361978,
          0.4127563834151255,
          -0.9193064276735416,
          -1.5395019336205855,
          -0.5305376223271864,
          -0.9903403728567307,
          0.14647506819357678,
          -0.1763519726139724,
          0.36008109401573163,
          -0.3176404768055409,
          -0.19412325558431157,
          -0.0904221223832305,
          -0.5945023504586406,
          -0.03895869264617371,
          0.5901436910604915,
          -0.7996642304747691,
          1.0301076261885471,
          0.9621354965051399,
          0.30578234381497704,
          -0.724902498511663,
          -0.21758223505728244,
          0.32225672399278027,
          0.16816746481521705,
          -0.3052736668837778,
          -0.3751381721108554,
          0.827811394916156,
          -1.1823153331521996,
          0.05309296545930296,
          0.7949550338463784,
          0.009844956835440979,
          -0.421073670238091,
          -0.9065419444857088,
          0.5772849324123647,
          -2.0877670198322047,
          1.3868161621120656,
          -0.702588197611849,
          0.162538412371124,
          -0.003047648967196274,
          0.18507428698394549,
          -0.2390219605970498,
          0.07847295052663021,
          -0.246121472387244,
          0.7798289383401936,
          1.4968068545020095,
          -0.7877805920356816,
          -1.126634990257943,
          0.11719360333798196,
          -1.5602947784857861,
          1.298860409475295,
          -1.8056312905844059,
          1.1832197109271312,
          1.4331767165642602,
          -0.2911593460243957,
          0.1574901335703895,
          0.06854985942307727,
          1.4231140740707144,
          -2.04463937159396,
          -1.8251943251991503,
          0.14962534578078765,
          0.0813071065438157,
          -1.0863368122861674,
          0.9565864600231273,
          0.6642827660389123,
          -1.4831517966951513,
          -0.39828961293614407,
          0.22927634606915795,
          0.22238917753957502,
          0.7686846529091509,
          1.47119939628487,
          -1.556400814871271,
          -2.735284320598148,
          0.07069490963218183,
          0.23495848143046277,
          1.9148595400160937,
          0.6174926889282726,
          -1.4203144589579582,
          1.1619629955318764,
          -0.5601347720040485,
          -0.6703767522970148,
          0.17875077451214946,
          0.08181724511550104,
          -0.3519235217399932,
          1.3203913019856222,
          1.8460431102673394,
          -0.14262827208374368,
          0.6250080835386731,
          1.9614289138545555,
          0.4434327783663857,
          1.6393596269936033,
          1.530107027081265,
          1.6215780684288195
         ],
         "yaxis": "y2"
        },
        {
         "line": {
          "color": "rgba(128, 128, 128, 1.0)",
          "dash": "solid",
          "shape": "linear",
          "width": 1.3
         },
         "marker": {
          "size": 2,
          "symbol": "circle"
         },
         "mode": "markers",
         "name": "A",
         "text": "",
         "type": "scatter",
         "x": [
          0.4629650831240414,
          1.2432135481517856,
          0.8099501451062239,
          0.1382476099400311,
          -0.5154026319412417,
          0.01871441788108343,
          -0.011318421257373985,
          0.8997367977141505,
          0.19798817852148798,
          1.227914769137976,
          1.7379485580258134,
          0.42892217420970613,
          0.20340147554498844,
          0.24971057903503524,
          0.06972433460899556,
          1.189275642338663,
          -0.11289626706206705,
          0.5600001985476502,
          2.159603991817565,
          0.685760780652771,
          -0.13250937465100862,
          -1.0005898298079836,
          -0.5455463179941619,
          -0.6634397282942427,
          -1.172793974038636,
          -0.6146863592524869,
          1.2545117087633786,
          1.810225976194417,
          -1.6180670620973294,
          0.8020135407322048,
          -0.8890970478686254,
          0.06499422027038193,
          0.6670990117028622,
          1.7356490282523986,
          0.796747636969668,
          -2.426433187651039,
          -0.656971298519989,
          -0.8018771380965526,
          0.3501239459155337,
          0.5104044537718762,
          -1.0626969165902538,
          0.27587906239094884,
          0.461427426694262,
          0.8642141071263638,
          -1.1368633104424197,
          0.23571352299260587,
          -1.41147913150561,
          0.18487560219439148,
          0.2942054281917523,
          -1.000566948724494,
          -0.015567094312226748,
          1.908929042016413,
          0.1425737823223032,
          0.19401535413460727,
          0.4442046417314635,
          0.00027377006526494086,
          -0.4755280280667671,
          -0.753897728358789,
          0.3659206700685624,
          -0.5330363161499501,
          0.6382566330246041,
          -0.456307183670805,
          0.7546581512841992,
          0.1482526872460123,
          -1.7531740846115724,
          1.4595558264664916,
          -0.8787601291928155,
          -0.21027015241269978,
          -1.1150046643876077,
          0.3863476148840286,
          -0.942987481816664,
          -0.34967426195611645,
          -0.3364368063222968,
          0.8356096134435225,
          -0.27623845964780536,
          -0.6396679427505394,
          -0.0783000050386576,
          1.2773351946961333,
          1.5080473538185435,
          -2.208762143527387,
          -0.05426234264447516,
          -1.6212717242738082,
          -1.226652303134024,
          0.05891595576367844,
          -0.05054948629707698,
          1.9624210131288033,
          -2.120294151184495,
          0.7015974550860965,
          0.6995976037822227,
          0.515724084571619,
          -2.0381566520932117,
          0.41526417456896164,
          -0.8962651149784191,
          0.41889656387466795,
          0.010619121916224918,
          -1.1723343112708058,
          0.641977470437457,
          0.7040460415157107,
          0.8865903399240732,
          1.1036104791548647
         ],
         "xaxis": "x3",
         "y": [
          0.5559244215996016,
          0.16531247499681323,
          -0.8101100169139632,
          -1.3974320065743162,
          1.6136174804983556,
          -0.3211925649236798,
          -0.3708134451358885,
          0.7768683958236318,
          0.9185436802928186,
          1.2762372604361978,
          0.4127563834151255,
          -0.9193064276735416,
          -1.5395019336205855,
          -0.5305376223271864,
          -0.9903403728567307,
          0.14647506819357678,
          -0.1763519726139724,
          0.36008109401573163,
          -0.3176404768055409,
          -0.19412325558431157,
          -0.0904221223832305,
          -0.5945023504586406,
          -0.03895869264617371,
          0.5901436910604915,
          -0.7996642304747691,
          1.0301076261885471,
          0.9621354965051399,
          0.30578234381497704,
          -0.724902498511663,
          -0.21758223505728244,
          0.32225672399278027,
          0.16816746481521705,
          -0.3052736668837778,
          -0.3751381721108554,
          0.827811394916156,
          -1.1823153331521996,
          0.05309296545930296,
          0.7949550338463784,
          0.009844956835440979,
          -0.421073670238091,
          -0.9065419444857088,
          0.5772849324123647,
          -2.0877670198322047,
          1.3868161621120656,
          -0.702588197611849,
          0.162538412371124,
          -0.003047648967196274,
          0.18507428698394549,
          -0.2390219605970498,
          0.07847295052663021,
          -0.246121472387244,
          0.7798289383401936,
          1.4968068545020095,
          -0.7877805920356816,
          -1.126634990257943,
          0.11719360333798196,
          -1.5602947784857861,
          1.298860409475295,
          -1.8056312905844059,
          1.1832197109271312,
          1.4331767165642602,
          -0.2911593460243957,
          0.1574901335703895,
          0.06854985942307727,
          1.4231140740707144,
          -2.04463937159396,
          -1.8251943251991503,
          0.14962534578078765,
          0.0813071065438157,
          -1.0863368122861674,
          0.9565864600231273,
          0.6642827660389123,
          -1.4831517966951513,
          -0.39828961293614407,
          0.22927634606915795,
          0.22238917753957502,
          0.7686846529091509,
          1.47119939628487,
          -1.556400814871271,
          -2.735284320598148,
          0.07069490963218183,
          0.23495848143046277,
          1.9148595400160937,
          0.6174926889282726,
          -1.4203144589579582,
          1.1619629955318764,
          -0.5601347720040485,
          -0.6703767522970148,
          0.17875077451214946,
          0.08181724511550104,
          -0.3519235217399932,
          1.3203913019856222,
          1.8460431102673394,
          -0.14262827208374368,
          0.6250080835386731,
          1.9614289138545555,
          0.4434327783663857,
          1.6393596269936033,
          1.530107027081265,
          1.6215780684288195
         ],
         "yaxis": "y3"
        },
        {
         "line": {
          "color": "rgba(128, 128, 128, 1.0)",
          "dash": "solid",
          "shape": "linear",
          "width": 1.3
         },
         "marker": {
          "size": 2,
          "symbol": "circle"
         },
         "mode": "markers",
         "name": "A",
         "text": "",
         "type": "scatter",
         "x": [
          0.9566340233601011,
          0.9752272371596018,
          0.25471208094517367,
          -1.0158218101622745,
          -0.7924648542306763,
          0.7775073536253685,
          1.2574604453562042,
          -0.20964870966875607,
          -0.5223766524406891,
          0.2259491847170473,
          0.8248538895184206,
          0.016758077526463154,
          0.10902216804538557,
          0.6085067436935758,
          1.6450800144915723,
          0.8931981539250716,
          -0.707115356082297,
          1.4335819766153604,
          -0.07759183971276323,
          0.33856225002590273,
          0.42494473618377954,
          -0.17429113846586008,
          1.2830742049278938,
          0.04828345934486168,
          -1.926854629040082,
          -0.7407755453742538,
          0.7450775444959586,
          -0.1026061368346683,
          -0.6484475929036851,
          0.06855889332908584,
          1.0370374221687333,
          0.1903577292058355,
          -1.511700688298228,
          1.0838177472206347,
          0.3744087968016041,
          -1.1581106007843722,
          -0.10453278472917485,
          1.8510861077664962,
          -0.4791729085079475,
          -0.5198683639209097,
          -0.7108458765342246,
          -0.0950606313776447,
          -0.0074793868710777865,
          1.0488371002415722,
          -0.6548033323991714,
          1.5415408526071412,
          0.3297099786353898,
          1.5826209575514578,
          -0.08170373012353173,
          -0.2835283525681258,
          0.050642186363222576,
          -0.25565790851061854,
          -0.7436769775209057,
          -0.09523811959144006,
          0.7969184138199794,
          0.7470827570769997,
          0.643725350756142,
          -0.7096267509235492,
          -0.15009894781844454,
          -0.5256163440059519,
          0.27285854740684506,
          0.009462526147125042,
          1.142522392174448,
          0.4470300709007983,
          0.9967991099106255,
          1.9529853143703666,
          -0.44701697188847445,
          -0.19647652959445977,
          -0.1407605351294186,
          -1.5675485404685603,
          -0.49721091509735466,
          -1.7258348142557858,
          0.14462048078221715,
          -0.5063664861687264,
          -0.3754047448975229,
          0.04381885963561633,
          0.6718516491664974,
          -1.5852399213846535,
          0.1393045043335795,
          0.3531536136556921,
          -1.1029780003070717,
          0.7401808660652972,
          -1.59837780916017,
          -1.1697883199556967,
          1.2480958704889384,
          0.2580986750086237,
          -0.25369440869036197,
          -1.413927021948406,
          0.334800615143296,
          2.3825514581378022,
          0.08092257910546233,
          -0.32631159055221765,
          -1.6778982215163736,
          -1.246575379630572,
          0.5421789496873197,
          -0.7136285780807672,
          -0.41477094917710483,
          -1.204218540974015,
          1.2002265721424572,
          0.16760124103241722
         ],
         "xaxis": "x4",
         "y": [
          0.5559244215996016,
          0.16531247499681323,
          -0.8101100169139632,
          -1.3974320065743162,
          1.6136174804983556,
          -0.3211925649236798,
          -0.3708134451358885,
          0.7768683958236318,
          0.9185436802928186,
          1.2762372604361978,
          0.4127563834151255,
          -0.9193064276735416,
          -1.5395019336205855,
          -0.5305376223271864,
          -0.9903403728567307,
          0.14647506819357678,
          -0.1763519726139724,
          0.36008109401573163,
          -0.3176404768055409,
          -0.19412325558431157,
          -0.0904221223832305,
          -0.5945023504586406,
          -0.03895869264617371,
          0.5901436910604915,
          -0.7996642304747691,
          1.0301076261885471,
          0.9621354965051399,
          0.30578234381497704,
          -0.724902498511663,
          -0.21758223505728244,
          0.32225672399278027,
          0.16816746481521705,
          -0.3052736668837778,
          -0.3751381721108554,
          0.827811394916156,
          -1.1823153331521996,
          0.05309296545930296,
          0.7949550338463784,
          0.009844956835440979,
          -0.421073670238091,
          -0.9065419444857088,
          0.5772849324123647,
          -2.0877670198322047,
          1.3868161621120656,
          -0.702588197611849,
          0.162538412371124,
          -0.003047648967196274,
          0.18507428698394549,
          -0.2390219605970498,
          0.07847295052663021,
          -0.246121472387244,
          0.7798289383401936,
          1.4968068545020095,
          -0.7877805920356816,
          -1.126634990257943,
          0.11719360333798196,
          -1.5602947784857861,
          1.298860409475295,
          -1.8056312905844059,
          1.1832197109271312,
          1.4331767165642602,
          -0.2911593460243957,
          0.1574901335703895,
          0.06854985942307727,
          1.4231140740707144,
          -2.04463937159396,
          -1.8251943251991503,
          0.14962534578078765,
          0.0813071065438157,
          -1.0863368122861674,
          0.9565864600231273,
          0.6642827660389123,
          -1.4831517966951513,
          -0.39828961293614407,
          0.22927634606915795,
          0.22238917753957502,
          0.7686846529091509,
          1.47119939628487,
          -1.556400814871271,
          -2.735284320598148,
          0.07069490963218183,
          0.23495848143046277,
          1.9148595400160937,
          0.6174926889282726,
          -1.4203144589579582,
          1.1619629955318764,
          -0.5601347720040485,
          -0.6703767522970148,
          0.17875077451214946,
          0.08181724511550104,
          -0.3519235217399932,
          1.3203913019856222,
          1.8460431102673394,
          -0.14262827208374368,
          0.6250080835386731,
          1.9614289138545555,
          0.4434327783663857,
          1.6393596269936033,
          1.530107027081265,
          1.6215780684288195
         ],
         "yaxis": "y4"
        },
        {
         "line": {
          "color": "rgba(128, 128, 128, 1.0)",
          "dash": "solid",
          "shape": "linear",
          "width": 1.3
         },
         "marker": {
          "size": 2,
          "symbol": "circle"
         },
         "mode": "markers",
         "name": "B",
         "text": "",
         "type": "scatter",
         "x": [
          0.5559244215996016,
          0.16531247499681323,
          -0.8101100169139632,
          -1.3974320065743162,
          1.6136174804983556,
          -0.3211925649236798,
          -0.3708134451358885,
          0.7768683958236318,
          0.9185436802928186,
          1.2762372604361978,
          0.4127563834151255,
          -0.9193064276735416,
          -1.5395019336205855,
          -0.5305376223271864,
          -0.9903403728567307,
          0.14647506819357678,
          -0.1763519726139724,
          0.36008109401573163,
          -0.3176404768055409,
          -0.19412325558431157,
          -0.0904221223832305,
          -0.5945023504586406,
          -0.03895869264617371,
          0.5901436910604915,
          -0.7996642304747691,
          1.0301076261885471,
          0.9621354965051399,
          0.30578234381497704,
          -0.724902498511663,
          -0.21758223505728244,
          0.32225672399278027,
          0.16816746481521705,
          -0.3052736668837778,
          -0.3751381721108554,
          0.827811394916156,
          -1.1823153331521996,
          0.05309296545930296,
          0.7949550338463784,
          0.009844956835440979,
          -0.421073670238091,
          -0.9065419444857088,
          0.5772849324123647,
          -2.0877670198322047,
          1.3868161621120656,
          -0.702588197611849,
          0.162538412371124,
          -0.003047648967196274,
          0.18507428698394549,
          -0.2390219605970498,
          0.07847295052663021,
          -0.246121472387244,
          0.7798289383401936,
          1.4968068545020095,
          -0.7877805920356816,
          -1.126634990257943,
          0.11719360333798196,
          -1.5602947784857861,
          1.298860409475295,
          -1.8056312905844059,
          1.1832197109271312,
          1.4331767165642602,
          -0.2911593460243957,
          0.1574901335703895,
          0.06854985942307727,
          1.4231140740707144,
          -2.04463937159396,
          -1.8251943251991503,
          0.14962534578078765,
          0.0813071065438157,
          -1.0863368122861674,
          0.9565864600231273,
          0.6642827660389123,
          -1.4831517966951513,
          -0.39828961293614407,
          0.22927634606915795,
          0.22238917753957502,
          0.7686846529091509,
          1.47119939628487,
          -1.556400814871271,
          -2.735284320598148,
          0.07069490963218183,
          0.23495848143046277,
          1.9148595400160937,
          0.6174926889282726,
          -1.4203144589579582,
          1.1619629955318764,
          -0.5601347720040485,
          -0.6703767522970148,
          0.17875077451214946,
          0.08181724511550104,
          -0.3519235217399932,
          1.3203913019856222,
          1.8460431102673394,
          -0.14262827208374368,
          0.6250080835386731,
          1.9614289138545555,
          0.4434327783663857,
          1.6393596269936033,
          1.530107027081265,
          1.6215780684288195
         ],
         "xaxis": "x5",
         "y": [
          0.22903146892060294,
          -1.0438839554806172,
          -0.4399526952827415,
          -0.4633382480861902,
          -1.5654877913797267,
          1.2377698503523018,
          -0.007528301571093346,
          -0.7821574542974872,
          0.1932979535681084,
          0.16383400694923386,
          -0.10457958055017953,
          -0.5483224720829957,
          0.3901467033850892,
          0.8733391491473266,
          -1.8148002875494058,
          -0.0759623941349184,
          -1.5726465344150269,
          -0.6082787903749993,
          0.3214224546316616,
          0.4511156558335474,
          -0.2819159475893012,
          -0.03168586915965763,
          0.4153575859846248,
          -0.8519307093778403,
          -0.18818870118555994,
          -1.4230368693782596,
          -1.1061437380428527,
          -0.4788898790879405,
          -0.30961021649646114,
          0.826955287725046,
          1.2056289154607636,
          -0.70084903580063,
          0.8209283555060617,
          -0.5298851830413455,
          0.1451874152781941,
          -1.5865763699281297,
          1.6520160207008723,
          -0.6106005545270637,
          -0.4657338792251926,
          -1.613208567945061,
          -0.3358265022436321,
          -0.19539723810652976,
          -0.10857198778945001,
          -0.5686738836571239,
          0.026700284464226395,
          0.060562223568401255,
          -1.322550194123688,
          -1.1478889418544014,
          -0.6747492167943674,
          1.4978851912884552,
          -0.8144161797427335,
          -0.6614153305732594,
          -1.9119357727283888,
          -1.164014883430049,
          0.5595234352487303,
          0.108328681661955,
          -0.9706109249546176,
          0.47099451136202414,
          0.9089019866312754,
          -0.4955207283130792,
          -1.125571044511677,
          -1.259705874458263,
          0.9499971437675632,
          -1.0807709308166202,
          0.3365070500166459,
          1.2321842350594938,
          -1.4903302832650034,
          0.3514723761902005,
          0.08623718249227429,
          -0.20931093736104614,
          -0.9741715973174373,
          -0.5308998848264274,
          -2.410083026327852,
          -0.1899938700628958,
          1.7683431358180248,
          -0.47597742609579835,
          -0.0013692778474197807,
          -3.381411728787464,
          0.2096704289056021,
          0.017403841169861784,
          0.40583638946018025,
          -0.6750001314794015,
          0.15150861459613177,
          0.17204801196444056,
          1.2690154822774866,
          -2.289782485465693,
          -0.12230747952833376,
          -1.2401555231539811,
          0.6775438389699542,
          0.748663635094293,
          -1.0291210942321232,
          0.11491042839811323,
          0.6149875024612116,
          -0.6752388716699234,
          -1.0210089048464344,
          -1.306395759730055,
          -0.8897696845214655,
          1.9783178499112062,
          0.7937356305287727,
          -0.30826255509155437
         ],
         "yaxis": "y5"
        },
        {
         "histfunc": "count",
         "histnorm": "",
         "marker": {
          "color": "rgba(55, 128, 191, 1.0)",
          "line": {
           "color": "#4D5663",
           "width": 1.3
          }
         },
         "name": "B",
         "nbinsx": 10,
         "opacity": 0.8,
         "orientation": "v",
         "type": "histogram",
         "x": [
          0.22903146892060294,
          -1.0438839554806172,
          -0.4399526952827415,
          -0.4633382480861902,
          -1.5654877913797267,
          1.2377698503523018,
          -0.007528301571093346,
          -0.7821574542974872,
          0.1932979535681084,
          0.16383400694923386,
          -0.10457958055017953,
          -0.5483224720829957,
          0.3901467033850892,
          0.8733391491473266,
          -1.8148002875494058,
          -0.0759623941349184,
          -1.5726465344150269,
          -0.6082787903749993,
          0.3214224546316616,
          0.4511156558335474,
          -0.2819159475893012,
          -0.03168586915965763,
          0.4153575859846248,
          -0.8519307093778403,
          -0.18818870118555994,
          -1.4230368693782596,
          -1.1061437380428527,
          -0.4788898790879405,
          -0.30961021649646114,
          0.826955287725046,
          1.2056289154607636,
          -0.70084903580063,
          0.8209283555060617,
          -0.5298851830413455,
          0.1451874152781941,
          -1.5865763699281297,
          1.6520160207008723,
          -0.6106005545270637,
          -0.4657338792251926,
          -1.613208567945061,
          -0.3358265022436321,
          -0.19539723810652976,
          -0.10857198778945001,
          -0.5686738836571239,
          0.026700284464226395,
          0.060562223568401255,
          -1.322550194123688,
          -1.1478889418544014,
          -0.6747492167943674,
          1.4978851912884552,
          -0.8144161797427335,
          -0.6614153305732594,
          -1.9119357727283888,
          -1.164014883430049,
          0.5595234352487303,
          0.108328681661955,
          -0.9706109249546176,
          0.47099451136202414,
          0.9089019866312754,
          -0.4955207283130792,
          -1.125571044511677,
          -1.259705874458263,
          0.9499971437675632,
          -1.0807709308166202,
          0.3365070500166459,
          1.2321842350594938,
          -1.4903302832650034,
          0.3514723761902005,
          0.08623718249227429,
          -0.20931093736104614,
          -0.9741715973174373,
          -0.5308998848264274,
          -2.410083026327852,
          -0.1899938700628958,
          1.7683431358180248,
          -0.47597742609579835,
          -0.0013692778474197807,
          -3.381411728787464,
          0.2096704289056021,
          0.017403841169861784,
          0.40583638946018025,
          -0.6750001314794015,
          0.15150861459613177,
          0.17204801196444056,
          1.2690154822774866,
          -2.289782485465693,
          -0.12230747952833376,
          -1.2401555231539811,
          0.6775438389699542,
          0.748663635094293,
          -1.0291210942321232,
          0.11491042839811323,
          0.6149875024612116,
          -0.6752388716699234,
          -1.0210089048464344,
          -1.306395759730055,
          -0.8897696845214655,
          1.9783178499112062,
          0.7937356305287727,
          -0.30826255509155437
         ],
         "xaxis": "x6",
         "yaxis": "y6"
        },
        {
         "line": {
          "color": "rgba(128, 128, 128, 1.0)",
          "dash": "solid",
          "shape": "linear",
          "width": 1.3
         },
         "marker": {
          "size": 2,
          "symbol": "circle"
         },
         "mode": "markers",
         "name": "B",
         "text": "",
         "type": "scatter",
         "x": [
          0.4629650831240414,
          1.2432135481517856,
          0.8099501451062239,
          0.1382476099400311,
          -0.5154026319412417,
          0.01871441788108343,
          -0.011318421257373985,
          0.8997367977141505,
          0.19798817852148798,
          1.227914769137976,
          1.7379485580258134,
          0.42892217420970613,
          0.20340147554498844,
          0.24971057903503524,
          0.06972433460899556,
          1.189275642338663,
          -0.11289626706206705,
          0.5600001985476502,
          2.159603991817565,
          0.685760780652771,
          -0.13250937465100862,
          -1.0005898298079836,
          -0.5455463179941619,
          -0.6634397282942427,
          -1.172793974038636,
          -0.6146863592524869,
          1.2545117087633786,
          1.810225976194417,
          -1.6180670620973294,
          0.8020135407322048,
          -0.8890970478686254,
          0.06499422027038193,
          0.6670990117028622,
          1.7356490282523986,
          0.796747636969668,
          -2.426433187651039,
          -0.656971298519989,
          -0.8018771380965526,
          0.3501239459155337,
          0.5104044537718762,
          -1.0626969165902538,
          0.27587906239094884,
          0.461427426694262,
          0.8642141071263638,
          -1.1368633104424197,
          0.23571352299260587,
          -1.41147913150561,
          0.18487560219439148,
          0.2942054281917523,
          -1.000566948724494,
          -0.015567094312226748,
          1.908929042016413,
          0.1425737823223032,
          0.19401535413460727,
          0.4442046417314635,
          0.00027377006526494086,
          -0.4755280280667671,
          -0.753897728358789,
          0.3659206700685624,
          -0.5330363161499501,
          0.6382566330246041,
          -0.456307183670805,
          0.7546581512841992,
          0.1482526872460123,
          -1.7531740846115724,
          1.4595558264664916,
          -0.8787601291928155,
          -0.21027015241269978,
          -1.1150046643876077,
          0.3863476148840286,
          -0.942987481816664,
          -0.34967426195611645,
          -0.3364368063222968,
          0.8356096134435225,
          -0.27623845964780536,
          -0.6396679427505394,
          -0.0783000050386576,
          1.2773351946961333,
          1.5080473538185435,
          -2.208762143527387,
          -0.05426234264447516,
          -1.6212717242738082,
          -1.226652303134024,
          0.05891595576367844,
          -0.05054948629707698,
          1.9624210131288033,
          -2.120294151184495,
          0.7015974550860965,
          0.6995976037822227,
          0.515724084571619,
          -2.0381566520932117,
          0.41526417456896164,
          -0.8962651149784191,
          0.41889656387466795,
          0.010619121916224918,
          -1.1723343112708058,
          0.641977470437457,
          0.7040460415157107,
          0.8865903399240732,
          1.1036104791548647
         ],
         "xaxis": "x7",
         "y": [
          0.22903146892060294,
          -1.0438839554806172,
          -0.4399526952827415,
          -0.4633382480861902,
          -1.5654877913797267,
          1.2377698503523018,
          -0.007528301571093346,
          -0.7821574542974872,
          0.1932979535681084,
          0.16383400694923386,
          -0.10457958055017953,
          -0.5483224720829957,
          0.3901467033850892,
          0.8733391491473266,
          -1.8148002875494058,
          -0.0759623941349184,
          -1.5726465344150269,
          -0.6082787903749993,
          0.3214224546316616,
          0.4511156558335474,
          -0.2819159475893012,
          -0.03168586915965763,
          0.4153575859846248,
          -0.8519307093778403,
          -0.18818870118555994,
          -1.4230368693782596,
          -1.1061437380428527,
          -0.4788898790879405,
          -0.30961021649646114,
          0.826955287725046,
          1.2056289154607636,
          -0.70084903580063,
          0.8209283555060617,
          -0.5298851830413455,
          0.1451874152781941,
          -1.5865763699281297,
          1.6520160207008723,
          -0.6106005545270637,
          -0.4657338792251926,
          -1.613208567945061,
          -0.3358265022436321,
          -0.19539723810652976,
          -0.10857198778945001,
          -0.5686738836571239,
          0.026700284464226395,
          0.060562223568401255,
          -1.322550194123688,
          -1.1478889418544014,
          -0.6747492167943674,
          1.4978851912884552,
          -0.8144161797427335,
          -0.6614153305732594,
          -1.9119357727283888,
          -1.164014883430049,
          0.5595234352487303,
          0.108328681661955,
          -0.9706109249546176,
          0.47099451136202414,
          0.9089019866312754,
          -0.4955207283130792,
          -1.125571044511677,
          -1.259705874458263,
          0.9499971437675632,
          -1.0807709308166202,
          0.3365070500166459,
          1.2321842350594938,
          -1.4903302832650034,
          0.3514723761902005,
          0.08623718249227429,
          -0.20931093736104614,
          -0.9741715973174373,
          -0.5308998848264274,
          -2.410083026327852,
          -0.1899938700628958,
          1.7683431358180248,
          -0.47597742609579835,
          -0.0013692778474197807,
          -3.381411728787464,
          0.2096704289056021,
          0.017403841169861784,
          0.40583638946018025,
          -0.6750001314794015,
          0.15150861459613177,
          0.17204801196444056,
          1.2690154822774866,
          -2.289782485465693,
          -0.12230747952833376,
          -1.2401555231539811,
          0.6775438389699542,
          0.748663635094293,
          -1.0291210942321232,
          0.11491042839811323,
          0.6149875024612116,
          -0.6752388716699234,
          -1.0210089048464344,
          -1.306395759730055,
          -0.8897696845214655,
          1.9783178499112062,
          0.7937356305287727,
          -0.30826255509155437
         ],
         "yaxis": "y7"
        },
        {
         "line": {
          "color": "rgba(128, 128, 128, 1.0)",
          "dash": "solid",
          "shape": "linear",
          "width": 1.3
         },
         "marker": {
          "size": 2,
          "symbol": "circle"
         },
         "mode": "markers",
         "name": "B",
         "text": "",
         "type": "scatter",
         "x": [
          0.9566340233601011,
          0.9752272371596018,
          0.25471208094517367,
          -1.0158218101622745,
          -0.7924648542306763,
          0.7775073536253685,
          1.2574604453562042,
          -0.20964870966875607,
          -0.5223766524406891,
          0.2259491847170473,
          0.8248538895184206,
          0.016758077526463154,
          0.10902216804538557,
          0.6085067436935758,
          1.6450800144915723,
          0.8931981539250716,
          -0.707115356082297,
          1.4335819766153604,
          -0.07759183971276323,
          0.33856225002590273,
          0.42494473618377954,
          -0.17429113846586008,
          1.2830742049278938,
          0.04828345934486168,
          -1.926854629040082,
          -0.7407755453742538,
          0.7450775444959586,
          -0.1026061368346683,
          -0.6484475929036851,
          0.06855889332908584,
          1.0370374221687333,
          0.1903577292058355,
          -1.511700688298228,
          1.0838177472206347,
          0.3744087968016041,
          -1.1581106007843722,
          -0.10453278472917485,
          1.8510861077664962,
          -0.4791729085079475,
          -0.5198683639209097,
          -0.7108458765342246,
          -0.0950606313776447,
          -0.0074793868710777865,
          1.0488371002415722,
          -0.6548033323991714,
          1.5415408526071412,
          0.3297099786353898,
          1.5826209575514578,
          -0.08170373012353173,
          -0.2835283525681258,
          0.050642186363222576,
          -0.25565790851061854,
          -0.7436769775209057,
          -0.09523811959144006,
          0.7969184138199794,
          0.7470827570769997,
          0.643725350756142,
          -0.7096267509235492,
          -0.15009894781844454,
          -0.5256163440059519,
          0.27285854740684506,
          0.009462526147125042,
          1.142522392174448,
          0.4470300709007983,
          0.9967991099106255,
          1.9529853143703666,
          -0.44701697188847445,
          -0.19647652959445977,
          -0.1407605351294186,
          -1.5675485404685603,
          -0.49721091509735466,
          -1.7258348142557858,
          0.14462048078221715,
          -0.5063664861687264,
          -0.3754047448975229,
          0.04381885963561633,
          0.6718516491664974,
          -1.5852399213846535,
          0.1393045043335795,
          0.3531536136556921,
          -1.1029780003070717,
          0.7401808660652972,
          -1.59837780916017,
          -1.1697883199556967,
          1.2480958704889384,
          0.2580986750086237,
          -0.25369440869036197,
          -1.413927021948406,
          0.334800615143296,
          2.3825514581378022,
          0.08092257910546233,
          -0.32631159055221765,
          -1.6778982215163736,
          -1.246575379630572,
          0.5421789496873197,
          -0.7136285780807672,
          -0.41477094917710483,
          -1.204218540974015,
          1.2002265721424572,
          0.16760124103241722
         ],
         "xaxis": "x8",
         "y": [
          0.22903146892060294,
          -1.0438839554806172,
          -0.4399526952827415,
          -0.4633382480861902,
          -1.5654877913797267,
          1.2377698503523018,
          -0.007528301571093346,
          -0.7821574542974872,
          0.1932979535681084,
          0.16383400694923386,
          -0.10457958055017953,
          -0.5483224720829957,
          0.3901467033850892,
          0.8733391491473266,
          -1.8148002875494058,
          -0.0759623941349184,
          -1.5726465344150269,
          -0.6082787903749993,
          0.3214224546316616,
          0.4511156558335474,
          -0.2819159475893012,
          -0.03168586915965763,
          0.4153575859846248,
          -0.8519307093778403,
          -0.18818870118555994,
          -1.4230368693782596,
          -1.1061437380428527,
          -0.4788898790879405,
          -0.30961021649646114,
          0.826955287725046,
          1.2056289154607636,
          -0.70084903580063,
          0.8209283555060617,
          -0.5298851830413455,
          0.1451874152781941,
          -1.5865763699281297,
          1.6520160207008723,
          -0.6106005545270637,
          -0.4657338792251926,
          -1.613208567945061,
          -0.3358265022436321,
          -0.19539723810652976,
          -0.10857198778945001,
          -0.5686738836571239,
          0.026700284464226395,
          0.060562223568401255,
          -1.322550194123688,
          -1.1478889418544014,
          -0.6747492167943674,
          1.4978851912884552,
          -0.8144161797427335,
          -0.6614153305732594,
          -1.9119357727283888,
          -1.164014883430049,
          0.5595234352487303,
          0.108328681661955,
          -0.9706109249546176,
          0.47099451136202414,
          0.9089019866312754,
          -0.4955207283130792,
          -1.125571044511677,
          -1.259705874458263,
          0.9499971437675632,
          -1.0807709308166202,
          0.3365070500166459,
          1.2321842350594938,
          -1.4903302832650034,
          0.3514723761902005,
          0.08623718249227429,
          -0.20931093736104614,
          -0.9741715973174373,
          -0.5308998848264274,
          -2.410083026327852,
          -0.1899938700628958,
          1.7683431358180248,
          -0.47597742609579835,
          -0.0013692778474197807,
          -3.381411728787464,
          0.2096704289056021,
          0.017403841169861784,
          0.40583638946018025,
          -0.6750001314794015,
          0.15150861459613177,
          0.17204801196444056,
          1.2690154822774866,
          -2.289782485465693,
          -0.12230747952833376,
          -1.2401555231539811,
          0.6775438389699542,
          0.748663635094293,
          -1.0291210942321232,
          0.11491042839811323,
          0.6149875024612116,
          -0.6752388716699234,
          -1.0210089048464344,
          -1.306395759730055,
          -0.8897696845214655,
          1.9783178499112062,
          0.7937356305287727,
          -0.30826255509155437
         ],
         "yaxis": "y8"
        },
        {
         "line": {
          "color": "rgba(128, 128, 128, 1.0)",
          "dash": "solid",
          "shape": "linear",
          "width": 1.3
         },
         "marker": {
          "size": 2,
          "symbol": "circle"
         },
         "mode": "markers",
         "name": "C",
         "text": "",
         "type": "scatter",
         "x": [
          0.5559244215996016,
          0.16531247499681323,
          -0.8101100169139632,
          -1.3974320065743162,
          1.6136174804983556,
          -0.3211925649236798,
          -0.3708134451358885,
          0.7768683958236318,
          0.9185436802928186,
          1.2762372604361978,
          0.4127563834151255,
          -0.9193064276735416,
          -1.5395019336205855,
          -0.5305376223271864,
          -0.9903403728567307,
          0.14647506819357678,
          -0.1763519726139724,
          0.36008109401573163,
          -0.3176404768055409,
          -0.19412325558431157,
          -0.0904221223832305,
          -0.5945023504586406,
          -0.03895869264617371,
          0.5901436910604915,
          -0.7996642304747691,
          1.0301076261885471,
          0.9621354965051399,
          0.30578234381497704,
          -0.724902498511663,
          -0.21758223505728244,
          0.32225672399278027,
          0.16816746481521705,
          -0.3052736668837778,
          -0.3751381721108554,
          0.827811394916156,
          -1.1823153331521996,
          0.05309296545930296,
          0.7949550338463784,
          0.009844956835440979,
          -0.421073670238091,
          -0.9065419444857088,
          0.5772849324123647,
          -2.0877670198322047,
          1.3868161621120656,
          -0.702588197611849,
          0.162538412371124,
          -0.003047648967196274,
          0.18507428698394549,
          -0.2390219605970498,
          0.07847295052663021,
          -0.246121472387244,
          0.7798289383401936,
          1.4968068545020095,
          -0.7877805920356816,
          -1.126634990257943,
          0.11719360333798196,
          -1.5602947784857861,
          1.298860409475295,
          -1.8056312905844059,
          1.1832197109271312,
          1.4331767165642602,
          -0.2911593460243957,
          0.1574901335703895,
          0.06854985942307727,
          1.4231140740707144,
          -2.04463937159396,
          -1.8251943251991503,
          0.14962534578078765,
          0.0813071065438157,
          -1.0863368122861674,
          0.9565864600231273,
          0.6642827660389123,
          -1.4831517966951513,
          -0.39828961293614407,
          0.22927634606915795,
          0.22238917753957502,
          0.7686846529091509,
          1.47119939628487,
          -1.556400814871271,
          -2.735284320598148,
          0.07069490963218183,
          0.23495848143046277,
          1.9148595400160937,
          0.6174926889282726,
          -1.4203144589579582,
          1.1619629955318764,
          -0.5601347720040485,
          -0.6703767522970148,
          0.17875077451214946,
          0.08181724511550104,
          -0.3519235217399932,
          1.3203913019856222,
          1.8460431102673394,
          -0.14262827208374368,
          0.6250080835386731,
          1.9614289138545555,
          0.4434327783663857,
          1.6393596269936033,
          1.530107027081265,
          1.6215780684288195
         ],
         "xaxis": "x9",
         "y": [
          0.4629650831240414,
          1.2432135481517856,
          0.8099501451062239,
          0.1382476099400311,
          -0.5154026319412417,
          0.01871441788108343,
          -0.011318421257373985,
          0.8997367977141505,
          0.19798817852148798,
          1.227914769137976,
          1.7379485580258134,
          0.42892217420970613,
          0.20340147554498844,
          0.24971057903503524,
          0.06972433460899556,
          1.189275642338663,
          -0.11289626706206705,
          0.5600001985476502,
          2.159603991817565,
          0.685760780652771,
          -0.13250937465100862,
          -1.0005898298079836,
          -0.5455463179941619,
          -0.6634397282942427,
          -1.172793974038636,
          -0.6146863592524869,
          1.2545117087633786,
          1.810225976194417,
          -1.6180670620973294,
          0.8020135407322048,
          -0.8890970478686254,
          0.06499422027038193,
          0.6670990117028622,
          1.7356490282523986,
          0.796747636969668,
          -2.426433187651039,
          -0.656971298519989,
          -0.8018771380965526,
          0.3501239459155337,
          0.5104044537718762,
          -1.0626969165902538,
          0.27587906239094884,
          0.461427426694262,
          0.8642141071263638,
          -1.1368633104424197,
          0.23571352299260587,
          -1.41147913150561,
          0.18487560219439148,
          0.2942054281917523,
          -1.000566948724494,
          -0.015567094312226748,
          1.908929042016413,
          0.1425737823223032,
          0.19401535413460727,
          0.4442046417314635,
          0.00027377006526494086,
          -0.4755280280667671,
          -0.753897728358789,
          0.3659206700685624,
          -0.5330363161499501,
          0.6382566330246041,
          -0.456307183670805,
          0.7546581512841992,
          0.1482526872460123,
          -1.7531740846115724,
          1.4595558264664916,
          -0.8787601291928155,
          -0.21027015241269978,
          -1.1150046643876077,
          0.3863476148840286,
          -0.942987481816664,
          -0.34967426195611645,
          -0.3364368063222968,
          0.8356096134435225,
          -0.27623845964780536,
          -0.6396679427505394,
          -0.0783000050386576,
          1.2773351946961333,
          1.5080473538185435,
          -2.208762143527387,
          -0.05426234264447516,
          -1.6212717242738082,
          -1.226652303134024,
          0.05891595576367844,
          -0.05054948629707698,
          1.9624210131288033,
          -2.120294151184495,
          0.7015974550860965,
          0.6995976037822227,
          0.515724084571619,
          -2.0381566520932117,
          0.41526417456896164,
          -0.8962651149784191,
          0.41889656387466795,
          0.010619121916224918,
          -1.1723343112708058,
          0.641977470437457,
          0.7040460415157107,
          0.8865903399240732,
          1.1036104791548647
         ],
         "yaxis": "y9"
        },
        {
         "line": {
          "color": "rgba(128, 128, 128, 1.0)",
          "dash": "solid",
          "shape": "linear",
          "width": 1.3
         },
         "marker": {
          "size": 2,
          "symbol": "circle"
         },
         "mode": "markers",
         "name": "C",
         "text": "",
         "type": "scatter",
         "x": [
          0.22903146892060294,
          -1.0438839554806172,
          -0.4399526952827415,
          -0.4633382480861902,
          -1.5654877913797267,
          1.2377698503523018,
          -0.007528301571093346,
          -0.7821574542974872,
          0.1932979535681084,
          0.16383400694923386,
          -0.10457958055017953,
          -0.5483224720829957,
          0.3901467033850892,
          0.8733391491473266,
          -1.8148002875494058,
          -0.0759623941349184,
          -1.5726465344150269,
          -0.6082787903749993,
          0.3214224546316616,
          0.4511156558335474,
          -0.2819159475893012,
          -0.03168586915965763,
          0.4153575859846248,
          -0.8519307093778403,
          -0.18818870118555994,
          -1.4230368693782596,
          -1.1061437380428527,
          -0.4788898790879405,
          -0.30961021649646114,
          0.826955287725046,
          1.2056289154607636,
          -0.70084903580063,
          0.8209283555060617,
          -0.5298851830413455,
          0.1451874152781941,
          -1.5865763699281297,
          1.6520160207008723,
          -0.6106005545270637,
          -0.4657338792251926,
          -1.613208567945061,
          -0.3358265022436321,
          -0.19539723810652976,
          -0.10857198778945001,
          -0.5686738836571239,
          0.026700284464226395,
          0.060562223568401255,
          -1.322550194123688,
          -1.1478889418544014,
          -0.6747492167943674,
          1.4978851912884552,
          -0.8144161797427335,
          -0.6614153305732594,
          -1.9119357727283888,
          -1.164014883430049,
          0.5595234352487303,
          0.108328681661955,
          -0.9706109249546176,
          0.47099451136202414,
          0.9089019866312754,
          -0.4955207283130792,
          -1.125571044511677,
          -1.259705874458263,
          0.9499971437675632,
          -1.0807709308166202,
          0.3365070500166459,
          1.2321842350594938,
          -1.4903302832650034,
          0.3514723761902005,
          0.08623718249227429,
          -0.20931093736104614,
          -0.9741715973174373,
          -0.5308998848264274,
          -2.410083026327852,
          -0.1899938700628958,
          1.7683431358180248,
          -0.47597742609579835,
          -0.0013692778474197807,
          -3.381411728787464,
          0.2096704289056021,
          0.017403841169861784,
          0.40583638946018025,
          -0.6750001314794015,
          0.15150861459613177,
          0.17204801196444056,
          1.2690154822774866,
          -2.289782485465693,
          -0.12230747952833376,
          -1.2401555231539811,
          0.6775438389699542,
          0.748663635094293,
          -1.0291210942321232,
          0.11491042839811323,
          0.6149875024612116,
          -0.6752388716699234,
          -1.0210089048464344,
          -1.306395759730055,
          -0.8897696845214655,
          1.9783178499112062,
          0.7937356305287727,
          -0.30826255509155437
         ],
         "xaxis": "x10",
         "y": [
          0.4629650831240414,
          1.2432135481517856,
          0.8099501451062239,
          0.1382476099400311,
          -0.5154026319412417,
          0.01871441788108343,
          -0.011318421257373985,
          0.8997367977141505,
          0.19798817852148798,
          1.227914769137976,
          1.7379485580258134,
          0.42892217420970613,
          0.20340147554498844,
          0.24971057903503524,
          0.06972433460899556,
          1.189275642338663,
          -0.11289626706206705,
          0.5600001985476502,
          2.159603991817565,
          0.685760780652771,
          -0.13250937465100862,
          -1.0005898298079836,
          -0.5455463179941619,
          -0.6634397282942427,
          -1.172793974038636,
          -0.6146863592524869,
          1.2545117087633786,
          1.810225976194417,
          -1.6180670620973294,
          0.8020135407322048,
          -0.8890970478686254,
          0.06499422027038193,
          0.6670990117028622,
          1.7356490282523986,
          0.796747636969668,
          -2.426433187651039,
          -0.656971298519989,
          -0.8018771380965526,
          0.3501239459155337,
          0.5104044537718762,
          -1.0626969165902538,
          0.27587906239094884,
          0.461427426694262,
          0.8642141071263638,
          -1.1368633104424197,
          0.23571352299260587,
          -1.41147913150561,
          0.18487560219439148,
          0.2942054281917523,
          -1.000566948724494,
          -0.015567094312226748,
          1.908929042016413,
          0.1425737823223032,
          0.19401535413460727,
          0.4442046417314635,
          0.00027377006526494086,
          -0.4755280280667671,
          -0.753897728358789,
          0.3659206700685624,
          -0.5330363161499501,
          0.6382566330246041,
          -0.456307183670805,
          0.7546581512841992,
          0.1482526872460123,
          -1.7531740846115724,
          1.4595558264664916,
          -0.8787601291928155,
          -0.21027015241269978,
          -1.1150046643876077,
          0.3863476148840286,
          -0.942987481816664,
          -0.34967426195611645,
          -0.3364368063222968,
          0.8356096134435225,
          -0.27623845964780536,
          -0.6396679427505394,
          -0.0783000050386576,
          1.2773351946961333,
          1.5080473538185435,
          -2.208762143527387,
          -0.05426234264447516,
          -1.6212717242738082,
          -1.226652303134024,
          0.05891595576367844,
          -0.05054948629707698,
          1.9624210131288033,
          -2.120294151184495,
          0.7015974550860965,
          0.6995976037822227,
          0.515724084571619,
          -2.0381566520932117,
          0.41526417456896164,
          -0.8962651149784191,
          0.41889656387466795,
          0.010619121916224918,
          -1.1723343112708058,
          0.641977470437457,
          0.7040460415157107,
          0.8865903399240732,
          1.1036104791548647
         ],
         "yaxis": "y10"
        },
        {
         "histfunc": "count",
         "histnorm": "",
         "marker": {
          "color": "rgba(50, 171, 96, 1.0)",
          "line": {
           "color": "#4D5663",
           "width": 1.3
          }
         },
         "name": "C",
         "nbinsx": 10,
         "opacity": 0.8,
         "orientation": "v",
         "type": "histogram",
         "x": [
          0.4629650831240414,
          1.2432135481517856,
          0.8099501451062239,
          0.1382476099400311,
          -0.5154026319412417,
          0.01871441788108343,
          -0.011318421257373985,
          0.8997367977141505,
          0.19798817852148798,
          1.227914769137976,
          1.7379485580258134,
          0.42892217420970613,
          0.20340147554498844,
          0.24971057903503524,
          0.06972433460899556,
          1.189275642338663,
          -0.11289626706206705,
          0.5600001985476502,
          2.159603991817565,
          0.685760780652771,
          -0.13250937465100862,
          -1.0005898298079836,
          -0.5455463179941619,
          -0.6634397282942427,
          -1.172793974038636,
          -0.6146863592524869,
          1.2545117087633786,
          1.810225976194417,
          -1.6180670620973294,
          0.8020135407322048,
          -0.8890970478686254,
          0.06499422027038193,
          0.6670990117028622,
          1.7356490282523986,
          0.796747636969668,
          -2.426433187651039,
          -0.656971298519989,
          -0.8018771380965526,
          0.3501239459155337,
          0.5104044537718762,
          -1.0626969165902538,
          0.27587906239094884,
          0.461427426694262,
          0.8642141071263638,
          -1.1368633104424197,
          0.23571352299260587,
          -1.41147913150561,
          0.18487560219439148,
          0.2942054281917523,
          -1.000566948724494,
          -0.015567094312226748,
          1.908929042016413,
          0.1425737823223032,
          0.19401535413460727,
          0.4442046417314635,
          0.00027377006526494086,
          -0.4755280280667671,
          -0.753897728358789,
          0.3659206700685624,
          -0.5330363161499501,
          0.6382566330246041,
          -0.456307183670805,
          0.7546581512841992,
          0.1482526872460123,
          -1.7531740846115724,
          1.4595558264664916,
          -0.8787601291928155,
          -0.21027015241269978,
          -1.1150046643876077,
          0.3863476148840286,
          -0.942987481816664,
          -0.34967426195611645,
          -0.3364368063222968,
          0.8356096134435225,
          -0.27623845964780536,
          -0.6396679427505394,
          -0.0783000050386576,
          1.2773351946961333,
          1.5080473538185435,
          -2.208762143527387,
          -0.05426234264447516,
          -1.6212717242738082,
          -1.226652303134024,
          0.05891595576367844,
          -0.05054948629707698,
          1.9624210131288033,
          -2.120294151184495,
          0.7015974550860965,
          0.6995976037822227,
          0.515724084571619,
          -2.0381566520932117,
          0.41526417456896164,
          -0.8962651149784191,
          0.41889656387466795,
          0.010619121916224918,
          -1.1723343112708058,
          0.641977470437457,
          0.7040460415157107,
          0.8865903399240732,
          1.1036104791548647
         ],
         "xaxis": "x11",
         "yaxis": "y11"
        },
        {
         "line": {
          "color": "rgba(128, 128, 128, 1.0)",
          "dash": "solid",
          "shape": "linear",
          "width": 1.3
         },
         "marker": {
          "size": 2,
          "symbol": "circle"
         },
         "mode": "markers",
         "name": "C",
         "text": "",
         "type": "scatter",
         "x": [
          0.9566340233601011,
          0.9752272371596018,
          0.25471208094517367,
          -1.0158218101622745,
          -0.7924648542306763,
          0.7775073536253685,
          1.2574604453562042,
          -0.20964870966875607,
          -0.5223766524406891,
          0.2259491847170473,
          0.8248538895184206,
          0.016758077526463154,
          0.10902216804538557,
          0.6085067436935758,
          1.6450800144915723,
          0.8931981539250716,
          -0.707115356082297,
          1.4335819766153604,
          -0.07759183971276323,
          0.33856225002590273,
          0.42494473618377954,
          -0.17429113846586008,
          1.2830742049278938,
          0.04828345934486168,
          -1.926854629040082,
          -0.7407755453742538,
          0.7450775444959586,
          -0.1026061368346683,
          -0.6484475929036851,
          0.06855889332908584,
          1.0370374221687333,
          0.1903577292058355,
          -1.511700688298228,
          1.0838177472206347,
          0.3744087968016041,
          -1.1581106007843722,
          -0.10453278472917485,
          1.8510861077664962,
          -0.4791729085079475,
          -0.5198683639209097,
          -0.7108458765342246,
          -0.0950606313776447,
          -0.0074793868710777865,
          1.0488371002415722,
          -0.6548033323991714,
          1.5415408526071412,
          0.3297099786353898,
          1.5826209575514578,
          -0.08170373012353173,
          -0.2835283525681258,
          0.050642186363222576,
          -0.25565790851061854,
          -0.7436769775209057,
          -0.09523811959144006,
          0.7969184138199794,
          0.7470827570769997,
          0.643725350756142,
          -0.7096267509235492,
          -0.15009894781844454,
          -0.5256163440059519,
          0.27285854740684506,
          0.009462526147125042,
          1.142522392174448,
          0.4470300709007983,
          0.9967991099106255,
          1.9529853143703666,
          -0.44701697188847445,
          -0.19647652959445977,
          -0.1407605351294186,
          -1.5675485404685603,
          -0.49721091509735466,
          -1.7258348142557858,
          0.14462048078221715,
          -0.5063664861687264,
          -0.3754047448975229,
          0.04381885963561633,
          0.6718516491664974,
          -1.5852399213846535,
          0.1393045043335795,
          0.3531536136556921,
          -1.1029780003070717,
          0.7401808660652972,
          -1.59837780916017,
          -1.1697883199556967,
          1.2480958704889384,
          0.2580986750086237,
          -0.25369440869036197,
          -1.413927021948406,
          0.334800615143296,
          2.3825514581378022,
          0.08092257910546233,
          -0.32631159055221765,
          -1.6778982215163736,
          -1.246575379630572,
          0.5421789496873197,
          -0.7136285780807672,
          -0.41477094917710483,
          -1.204218540974015,
          1.2002265721424572,
          0.16760124103241722
         ],
         "xaxis": "x12",
         "y": [
          0.4629650831240414,
          1.2432135481517856,
          0.8099501451062239,
          0.1382476099400311,
          -0.5154026319412417,
          0.01871441788108343,
          -0.011318421257373985,
          0.8997367977141505,
          0.19798817852148798,
          1.227914769137976,
          1.7379485580258134,
          0.42892217420970613,
          0.20340147554498844,
          0.24971057903503524,
          0.06972433460899556,
          1.189275642338663,
          -0.11289626706206705,
          0.5600001985476502,
          2.159603991817565,
          0.685760780652771,
          -0.13250937465100862,
          -1.0005898298079836,
          -0.5455463179941619,
          -0.6634397282942427,
          -1.172793974038636,
          -0.6146863592524869,
          1.2545117087633786,
          1.810225976194417,
          -1.6180670620973294,
          0.8020135407322048,
          -0.8890970478686254,
          0.06499422027038193,
          0.6670990117028622,
          1.7356490282523986,
          0.796747636969668,
          -2.426433187651039,
          -0.656971298519989,
          -0.8018771380965526,
          0.3501239459155337,
          0.5104044537718762,
          -1.0626969165902538,
          0.27587906239094884,
          0.461427426694262,
          0.8642141071263638,
          -1.1368633104424197,
          0.23571352299260587,
          -1.41147913150561,
          0.18487560219439148,
          0.2942054281917523,
          -1.000566948724494,
          -0.015567094312226748,
          1.908929042016413,
          0.1425737823223032,
          0.19401535413460727,
          0.4442046417314635,
          0.00027377006526494086,
          -0.4755280280667671,
          -0.753897728358789,
          0.3659206700685624,
          -0.5330363161499501,
          0.6382566330246041,
          -0.456307183670805,
          0.7546581512841992,
          0.1482526872460123,
          -1.7531740846115724,
          1.4595558264664916,
          -0.8787601291928155,
          -0.21027015241269978,
          -1.1150046643876077,
          0.3863476148840286,
          -0.942987481816664,
          -0.34967426195611645,
          -0.3364368063222968,
          0.8356096134435225,
          -0.27623845964780536,
          -0.6396679427505394,
          -0.0783000050386576,
          1.2773351946961333,
          1.5080473538185435,
          -2.208762143527387,
          -0.05426234264447516,
          -1.6212717242738082,
          -1.226652303134024,
          0.05891595576367844,
          -0.05054948629707698,
          1.9624210131288033,
          -2.120294151184495,
          0.7015974550860965,
          0.6995976037822227,
          0.515724084571619,
          -2.0381566520932117,
          0.41526417456896164,
          -0.8962651149784191,
          0.41889656387466795,
          0.010619121916224918,
          -1.1723343112708058,
          0.641977470437457,
          0.7040460415157107,
          0.8865903399240732,
          1.1036104791548647
         ],
         "yaxis": "y12"
        },
        {
         "line": {
          "color": "rgba(128, 128, 128, 1.0)",
          "dash": "solid",
          "shape": "linear",
          "width": 1.3
         },
         "marker": {
          "size": 2,
          "symbol": "circle"
         },
         "mode": "markers",
         "name": "D",
         "text": "",
         "type": "scatter",
         "x": [
          0.5559244215996016,
          0.16531247499681323,
          -0.8101100169139632,
          -1.3974320065743162,
          1.6136174804983556,
          -0.3211925649236798,
          -0.3708134451358885,
          0.7768683958236318,
          0.9185436802928186,
          1.2762372604361978,
          0.4127563834151255,
          -0.9193064276735416,
          -1.5395019336205855,
          -0.5305376223271864,
          -0.9903403728567307,
          0.14647506819357678,
          -0.1763519726139724,
          0.36008109401573163,
          -0.3176404768055409,
          -0.19412325558431157,
          -0.0904221223832305,
          -0.5945023504586406,
          -0.03895869264617371,
          0.5901436910604915,
          -0.7996642304747691,
          1.0301076261885471,
          0.9621354965051399,
          0.30578234381497704,
          -0.724902498511663,
          -0.21758223505728244,
          0.32225672399278027,
          0.16816746481521705,
          -0.3052736668837778,
          -0.3751381721108554,
          0.827811394916156,
          -1.1823153331521996,
          0.05309296545930296,
          0.7949550338463784,
          0.009844956835440979,
          -0.421073670238091,
          -0.9065419444857088,
          0.5772849324123647,
          -2.0877670198322047,
          1.3868161621120656,
          -0.702588197611849,
          0.162538412371124,
          -0.003047648967196274,
          0.18507428698394549,
          -0.2390219605970498,
          0.07847295052663021,
          -0.246121472387244,
          0.7798289383401936,
          1.4968068545020095,
          -0.7877805920356816,
          -1.126634990257943,
          0.11719360333798196,
          -1.5602947784857861,
          1.298860409475295,
          -1.8056312905844059,
          1.1832197109271312,
          1.4331767165642602,
          -0.2911593460243957,
          0.1574901335703895,
          0.06854985942307727,
          1.4231140740707144,
          -2.04463937159396,
          -1.8251943251991503,
          0.14962534578078765,
          0.0813071065438157,
          -1.0863368122861674,
          0.9565864600231273,
          0.6642827660389123,
          -1.4831517966951513,
          -0.39828961293614407,
          0.22927634606915795,
          0.22238917753957502,
          0.7686846529091509,
          1.47119939628487,
          -1.556400814871271,
          -2.735284320598148,
          0.07069490963218183,
          0.23495848143046277,
          1.9148595400160937,
          0.6174926889282726,
          -1.4203144589579582,
          1.1619629955318764,
          -0.5601347720040485,
          -0.6703767522970148,
          0.17875077451214946,
          0.08181724511550104,
          -0.3519235217399932,
          1.3203913019856222,
          1.8460431102673394,
          -0.14262827208374368,
          0.6250080835386731,
          1.9614289138545555,
          0.4434327783663857,
          1.6393596269936033,
          1.530107027081265,
          1.6215780684288195
         ],
         "xaxis": "x13",
         "y": [
          0.9566340233601011,
          0.9752272371596018,
          0.25471208094517367,
          -1.0158218101622745,
          -0.7924648542306763,
          0.7775073536253685,
          1.2574604453562042,
          -0.20964870966875607,
          -0.5223766524406891,
          0.2259491847170473,
          0.8248538895184206,
          0.016758077526463154,
          0.10902216804538557,
          0.6085067436935758,
          1.6450800144915723,
          0.8931981539250716,
          -0.707115356082297,
          1.4335819766153604,
          -0.07759183971276323,
          0.33856225002590273,
          0.42494473618377954,
          -0.17429113846586008,
          1.2830742049278938,
          0.04828345934486168,
          -1.926854629040082,
          -0.7407755453742538,
          0.7450775444959586,
          -0.1026061368346683,
          -0.6484475929036851,
          0.06855889332908584,
          1.0370374221687333,
          0.1903577292058355,
          -1.511700688298228,
          1.0838177472206347,
          0.3744087968016041,
          -1.1581106007843722,
          -0.10453278472917485,
          1.8510861077664962,
          -0.4791729085079475,
          -0.5198683639209097,
          -0.7108458765342246,
          -0.0950606313776447,
          -0.0074793868710777865,
          1.0488371002415722,
          -0.6548033323991714,
          1.5415408526071412,
          0.3297099786353898,
          1.5826209575514578,
          -0.08170373012353173,
          -0.2835283525681258,
          0.050642186363222576,
          -0.25565790851061854,
          -0.7436769775209057,
          -0.09523811959144006,
          0.7969184138199794,
          0.7470827570769997,
          0.643725350756142,
          -0.7096267509235492,
          -0.15009894781844454,
          -0.5256163440059519,
          0.27285854740684506,
          0.009462526147125042,
          1.142522392174448,
          0.4470300709007983,
          0.9967991099106255,
          1.9529853143703666,
          -0.44701697188847445,
          -0.19647652959445977,
          -0.1407605351294186,
          -1.5675485404685603,
          -0.49721091509735466,
          -1.7258348142557858,
          0.14462048078221715,
          -0.5063664861687264,
          -0.3754047448975229,
          0.04381885963561633,
          0.6718516491664974,
          -1.5852399213846535,
          0.1393045043335795,
          0.3531536136556921,
          -1.1029780003070717,
          0.7401808660652972,
          -1.59837780916017,
          -1.1697883199556967,
          1.2480958704889384,
          0.2580986750086237,
          -0.25369440869036197,
          -1.413927021948406,
          0.334800615143296,
          2.3825514581378022,
          0.08092257910546233,
          -0.32631159055221765,
          -1.6778982215163736,
          -1.246575379630572,
          0.5421789496873197,
          -0.7136285780807672,
          -0.41477094917710483,
          -1.204218540974015,
          1.2002265721424572,
          0.16760124103241722
         ],
         "yaxis": "y13"
        },
        {
         "line": {
          "color": "rgba(128, 128, 128, 1.0)",
          "dash": "solid",
          "shape": "linear",
          "width": 1.3
         },
         "marker": {
          "size": 2,
          "symbol": "circle"
         },
         "mode": "markers",
         "name": "D",
         "text": "",
         "type": "scatter",
         "x": [
          0.22903146892060294,
          -1.0438839554806172,
          -0.4399526952827415,
          -0.4633382480861902,
          -1.5654877913797267,
          1.2377698503523018,
          -0.007528301571093346,
          -0.7821574542974872,
          0.1932979535681084,
          0.16383400694923386,
          -0.10457958055017953,
          -0.5483224720829957,
          0.3901467033850892,
          0.8733391491473266,
          -1.8148002875494058,
          -0.0759623941349184,
          -1.5726465344150269,
          -0.6082787903749993,
          0.3214224546316616,
          0.4511156558335474,
          -0.2819159475893012,
          -0.03168586915965763,
          0.4153575859846248,
          -0.8519307093778403,
          -0.18818870118555994,
          -1.4230368693782596,
          -1.1061437380428527,
          -0.4788898790879405,
          -0.30961021649646114,
          0.826955287725046,
          1.2056289154607636,
          -0.70084903580063,
          0.8209283555060617,
          -0.5298851830413455,
          0.1451874152781941,
          -1.5865763699281297,
          1.6520160207008723,
          -0.6106005545270637,
          -0.4657338792251926,
          -1.613208567945061,
          -0.3358265022436321,
          -0.19539723810652976,
          -0.10857198778945001,
          -0.5686738836571239,
          0.026700284464226395,
          0.060562223568401255,
          -1.322550194123688,
          -1.1478889418544014,
          -0.6747492167943674,
          1.4978851912884552,
          -0.8144161797427335,
          -0.6614153305732594,
          -1.9119357727283888,
          -1.164014883430049,
          0.5595234352487303,
          0.108328681661955,
          -0.9706109249546176,
          0.47099451136202414,
          0.9089019866312754,
          -0.4955207283130792,
          -1.125571044511677,
          -1.259705874458263,
          0.9499971437675632,
          -1.0807709308166202,
          0.3365070500166459,
          1.2321842350594938,
          -1.4903302832650034,
          0.3514723761902005,
          0.08623718249227429,
          -0.20931093736104614,
          -0.9741715973174373,
          -0.5308998848264274,
          -2.410083026327852,
          -0.1899938700628958,
          1.7683431358180248,
          -0.47597742609579835,
          -0.0013692778474197807,
          -3.381411728787464,
          0.2096704289056021,
          0.017403841169861784,
          0.40583638946018025,
          -0.6750001314794015,
          0.15150861459613177,
          0.17204801196444056,
          1.2690154822774866,
          -2.289782485465693,
          -0.12230747952833376,
          -1.2401555231539811,
          0.6775438389699542,
          0.748663635094293,
          -1.0291210942321232,
          0.11491042839811323,
          0.6149875024612116,
          -0.6752388716699234,
          -1.0210089048464344,
          -1.306395759730055,
          -0.8897696845214655,
          1.9783178499112062,
          0.7937356305287727,
          -0.30826255509155437
         ],
         "xaxis": "x14",
         "y": [
          0.9566340233601011,
          0.9752272371596018,
          0.25471208094517367,
          -1.0158218101622745,
          -0.7924648542306763,
          0.7775073536253685,
          1.2574604453562042,
          -0.20964870966875607,
          -0.5223766524406891,
          0.2259491847170473,
          0.8248538895184206,
          0.016758077526463154,
          0.10902216804538557,
          0.6085067436935758,
          1.6450800144915723,
          0.8931981539250716,
          -0.707115356082297,
          1.4335819766153604,
          -0.07759183971276323,
          0.33856225002590273,
          0.42494473618377954,
          -0.17429113846586008,
          1.2830742049278938,
          0.04828345934486168,
          -1.926854629040082,
          -0.7407755453742538,
          0.7450775444959586,
          -0.1026061368346683,
          -0.6484475929036851,
          0.06855889332908584,
          1.0370374221687333,
          0.1903577292058355,
          -1.511700688298228,
          1.0838177472206347,
          0.3744087968016041,
          -1.1581106007843722,
          -0.10453278472917485,
          1.8510861077664962,
          -0.4791729085079475,
          -0.5198683639209097,
          -0.7108458765342246,
          -0.0950606313776447,
          -0.0074793868710777865,
          1.0488371002415722,
          -0.6548033323991714,
          1.5415408526071412,
          0.3297099786353898,
          1.5826209575514578,
          -0.08170373012353173,
          -0.2835283525681258,
          0.050642186363222576,
          -0.25565790851061854,
          -0.7436769775209057,
          -0.09523811959144006,
          0.7969184138199794,
          0.7470827570769997,
          0.643725350756142,
          -0.7096267509235492,
          -0.15009894781844454,
          -0.5256163440059519,
          0.27285854740684506,
          0.009462526147125042,
          1.142522392174448,
          0.4470300709007983,
          0.9967991099106255,
          1.9529853143703666,
          -0.44701697188847445,
          -0.19647652959445977,
          -0.1407605351294186,
          -1.5675485404685603,
          -0.49721091509735466,
          -1.7258348142557858,
          0.14462048078221715,
          -0.5063664861687264,
          -0.3754047448975229,
          0.04381885963561633,
          0.6718516491664974,
          -1.5852399213846535,
          0.1393045043335795,
          0.3531536136556921,
          -1.1029780003070717,
          0.7401808660652972,
          -1.59837780916017,
          -1.1697883199556967,
          1.2480958704889384,
          0.2580986750086237,
          -0.25369440869036197,
          -1.413927021948406,
          0.334800615143296,
          2.3825514581378022,
          0.08092257910546233,
          -0.32631159055221765,
          -1.6778982215163736,
          -1.246575379630572,
          0.5421789496873197,
          -0.7136285780807672,
          -0.41477094917710483,
          -1.204218540974015,
          1.2002265721424572,
          0.16760124103241722
         ],
         "yaxis": "y14"
        },
        {
         "line": {
          "color": "rgba(128, 128, 128, 1.0)",
          "dash": "solid",
          "shape": "linear",
          "width": 1.3
         },
         "marker": {
          "size": 2,
          "symbol": "circle"
         },
         "mode": "markers",
         "name": "D",
         "text": "",
         "type": "scatter",
         "x": [
          0.4629650831240414,
          1.2432135481517856,
          0.8099501451062239,
          0.1382476099400311,
          -0.5154026319412417,
          0.01871441788108343,
          -0.011318421257373985,
          0.8997367977141505,
          0.19798817852148798,
          1.227914769137976,
          1.7379485580258134,
          0.42892217420970613,
          0.20340147554498844,
          0.24971057903503524,
          0.06972433460899556,
          1.189275642338663,
          -0.11289626706206705,
          0.5600001985476502,
          2.159603991817565,
          0.685760780652771,
          -0.13250937465100862,
          -1.0005898298079836,
          -0.5455463179941619,
          -0.6634397282942427,
          -1.172793974038636,
          -0.6146863592524869,
          1.2545117087633786,
          1.810225976194417,
          -1.6180670620973294,
          0.8020135407322048,
          -0.8890970478686254,
          0.06499422027038193,
          0.6670990117028622,
          1.7356490282523986,
          0.796747636969668,
          -2.426433187651039,
          -0.656971298519989,
          -0.8018771380965526,
          0.3501239459155337,
          0.5104044537718762,
          -1.0626969165902538,
          0.27587906239094884,
          0.461427426694262,
          0.8642141071263638,
          -1.1368633104424197,
          0.23571352299260587,
          -1.41147913150561,
          0.18487560219439148,
          0.2942054281917523,
          -1.000566948724494,
          -0.015567094312226748,
          1.908929042016413,
          0.1425737823223032,
          0.19401535413460727,
          0.4442046417314635,
          0.00027377006526494086,
          -0.4755280280667671,
          -0.753897728358789,
          0.3659206700685624,
          -0.5330363161499501,
          0.6382566330246041,
          -0.456307183670805,
          0.7546581512841992,
          0.1482526872460123,
          -1.7531740846115724,
          1.4595558264664916,
          -0.8787601291928155,
          -0.21027015241269978,
          -1.1150046643876077,
          0.3863476148840286,
          -0.942987481816664,
          -0.34967426195611645,
          -0.3364368063222968,
          0.8356096134435225,
          -0.27623845964780536,
          -0.6396679427505394,
          -0.0783000050386576,
          1.2773351946961333,
          1.5080473538185435,
          -2.208762143527387,
          -0.05426234264447516,
          -1.6212717242738082,
          -1.226652303134024,
          0.05891595576367844,
          -0.05054948629707698,
          1.9624210131288033,
          -2.120294151184495,
          0.7015974550860965,
          0.6995976037822227,
          0.515724084571619,
          -2.0381566520932117,
          0.41526417456896164,
          -0.8962651149784191,
          0.41889656387466795,
          0.010619121916224918,
          -1.1723343112708058,
          0.641977470437457,
          0.7040460415157107,
          0.8865903399240732,
          1.1036104791548647
         ],
         "xaxis": "x15",
         "y": [
          0.9566340233601011,
          0.9752272371596018,
          0.25471208094517367,
          -1.0158218101622745,
          -0.7924648542306763,
          0.7775073536253685,
          1.2574604453562042,
          -0.20964870966875607,
          -0.5223766524406891,
          0.2259491847170473,
          0.8248538895184206,
          0.016758077526463154,
          0.10902216804538557,
          0.6085067436935758,
          1.6450800144915723,
          0.8931981539250716,
          -0.707115356082297,
          1.4335819766153604,
          -0.07759183971276323,
          0.33856225002590273,
          0.42494473618377954,
          -0.17429113846586008,
          1.2830742049278938,
          0.04828345934486168,
          -1.926854629040082,
          -0.7407755453742538,
          0.7450775444959586,
          -0.1026061368346683,
          -0.6484475929036851,
          0.06855889332908584,
          1.0370374221687333,
          0.1903577292058355,
          -1.511700688298228,
          1.0838177472206347,
          0.3744087968016041,
          -1.1581106007843722,
          -0.10453278472917485,
          1.8510861077664962,
          -0.4791729085079475,
          -0.5198683639209097,
          -0.7108458765342246,
          -0.0950606313776447,
          -0.0074793868710777865,
          1.0488371002415722,
          -0.6548033323991714,
          1.5415408526071412,
          0.3297099786353898,
          1.5826209575514578,
          -0.08170373012353173,
          -0.2835283525681258,
          0.050642186363222576,
          -0.25565790851061854,
          -0.7436769775209057,
          -0.09523811959144006,
          0.7969184138199794,
          0.7470827570769997,
          0.643725350756142,
          -0.7096267509235492,
          -0.15009894781844454,
          -0.5256163440059519,
          0.27285854740684506,
          0.009462526147125042,
          1.142522392174448,
          0.4470300709007983,
          0.9967991099106255,
          1.9529853143703666,
          -0.44701697188847445,
          -0.19647652959445977,
          -0.1407605351294186,
          -1.5675485404685603,
          -0.49721091509735466,
          -1.7258348142557858,
          0.14462048078221715,
          -0.5063664861687264,
          -0.3754047448975229,
          0.04381885963561633,
          0.6718516491664974,
          -1.5852399213846535,
          0.1393045043335795,
          0.3531536136556921,
          -1.1029780003070717,
          0.7401808660652972,
          -1.59837780916017,
          -1.1697883199556967,
          1.2480958704889384,
          0.2580986750086237,
          -0.25369440869036197,
          -1.413927021948406,
          0.334800615143296,
          2.3825514581378022,
          0.08092257910546233,
          -0.32631159055221765,
          -1.6778982215163736,
          -1.246575379630572,
          0.5421789496873197,
          -0.7136285780807672,
          -0.41477094917710483,
          -1.204218540974015,
          1.2002265721424572,
          0.16760124103241722
         ],
         "yaxis": "y15"
        },
        {
         "histfunc": "count",
         "histnorm": "",
         "marker": {
          "color": "rgba(128, 0, 128, 1.0)",
          "line": {
           "color": "#4D5663",
           "width": 1.3
          }
         },
         "name": "D",
         "nbinsx": 10,
         "opacity": 0.8,
         "orientation": "v",
         "type": "histogram",
         "x": [
          0.9566340233601011,
          0.9752272371596018,
          0.25471208094517367,
          -1.0158218101622745,
          -0.7924648542306763,
          0.7775073536253685,
          1.2574604453562042,
          -0.20964870966875607,
          -0.5223766524406891,
          0.2259491847170473,
          0.8248538895184206,
          0.016758077526463154,
          0.10902216804538557,
          0.6085067436935758,
          1.6450800144915723,
          0.8931981539250716,
          -0.707115356082297,
          1.4335819766153604,
          -0.07759183971276323,
          0.33856225002590273,
          0.42494473618377954,
          -0.17429113846586008,
          1.2830742049278938,
          0.04828345934486168,
          -1.926854629040082,
          -0.7407755453742538,
          0.7450775444959586,
          -0.1026061368346683,
          -0.6484475929036851,
          0.06855889332908584,
          1.0370374221687333,
          0.1903577292058355,
          -1.511700688298228,
          1.0838177472206347,
          0.3744087968016041,
          -1.1581106007843722,
          -0.10453278472917485,
          1.8510861077664962,
          -0.4791729085079475,
          -0.5198683639209097,
          -0.7108458765342246,
          -0.0950606313776447,
          -0.0074793868710777865,
          1.0488371002415722,
          -0.6548033323991714,
          1.5415408526071412,
          0.3297099786353898,
          1.5826209575514578,
          -0.08170373012353173,
          -0.2835283525681258,
          0.050642186363222576,
          -0.25565790851061854,
          -0.7436769775209057,
          -0.09523811959144006,
          0.7969184138199794,
          0.7470827570769997,
          0.643725350756142,
          -0.7096267509235492,
          -0.15009894781844454,
          -0.5256163440059519,
          0.27285854740684506,
          0.009462526147125042,
          1.142522392174448,
          0.4470300709007983,
          0.9967991099106255,
          1.9529853143703666,
          -0.44701697188847445,
          -0.19647652959445977,
          -0.1407605351294186,
          -1.5675485404685603,
          -0.49721091509735466,
          -1.7258348142557858,
          0.14462048078221715,
          -0.5063664861687264,
          -0.3754047448975229,
          0.04381885963561633,
          0.6718516491664974,
          -1.5852399213846535,
          0.1393045043335795,
          0.3531536136556921,
          -1.1029780003070717,
          0.7401808660652972,
          -1.59837780916017,
          -1.1697883199556967,
          1.2480958704889384,
          0.2580986750086237,
          -0.25369440869036197,
          -1.413927021948406,
          0.334800615143296,
          2.3825514581378022,
          0.08092257910546233,
          -0.32631159055221765,
          -1.6778982215163736,
          -1.246575379630572,
          0.5421789496873197,
          -0.7136285780807672,
          -0.41477094917710483,
          -1.204218540974015,
          1.2002265721424572,
          0.16760124103241722
         ],
         "xaxis": "x16",
         "yaxis": "y16"
        }
       ],
       "layout": {
        "bargap": 0.02,
        "legend": {
         "bgcolor": "#F5F6F9",
         "font": {
          "color": "#4D5663"
         }
        },
        "paper_bgcolor": "#F5F6F9",
        "plot_bgcolor": "#F5F6F9",
        "showlegend": false,
        "template": {
         "data": {
          "bar": [
           {
            "error_x": {
             "color": "#2a3f5f"
            },
            "error_y": {
             "color": "#2a3f5f"
            },
            "marker": {
             "line": {
              "color": "#E5ECF6",
              "width": 0.5
             }
            },
            "type": "bar"
           }
          ],
          "barpolar": [
           {
            "marker": {
             "line": {
              "color": "#E5ECF6",
              "width": 0.5
             }
            },
            "type": "barpolar"
           }
          ],
          "carpet": [
           {
            "aaxis": {
             "endlinecolor": "#2a3f5f",
             "gridcolor": "white",
             "linecolor": "white",
             "minorgridcolor": "white",
             "startlinecolor": "#2a3f5f"
            },
            "baxis": {
             "endlinecolor": "#2a3f5f",
             "gridcolor": "white",
             "linecolor": "white",
             "minorgridcolor": "white",
             "startlinecolor": "#2a3f5f"
            },
            "type": "carpet"
           }
          ],
          "choropleth": [
           {
            "colorbar": {
             "outlinewidth": 0,
             "ticks": ""
            },
            "type": "choropleth"
           }
          ],
          "contour": [
           {
            "colorbar": {
             "outlinewidth": 0,
             "ticks": ""
            },
            "colorscale": [
             [
              0,
              "#0d0887"
             ],
             [
              0.1111111111111111,
              "#46039f"
             ],
             [
              0.2222222222222222,
              "#7201a8"
             ],
             [
              0.3333333333333333,
              "#9c179e"
             ],
             [
              0.4444444444444444,
              "#bd3786"
             ],
             [
              0.5555555555555556,
              "#d8576b"
             ],
             [
              0.6666666666666666,
              "#ed7953"
             ],
             [
              0.7777777777777778,
              "#fb9f3a"
             ],
             [
              0.8888888888888888,
              "#fdca26"
             ],
             [
              1,
              "#f0f921"
             ]
            ],
            "type": "contour"
           }
          ],
          "contourcarpet": [
           {
            "colorbar": {
             "outlinewidth": 0,
             "ticks": ""
            },
            "type": "contourcarpet"
           }
          ],
          "heatmap": [
           {
            "colorbar": {
             "outlinewidth": 0,
             "ticks": ""
            },
            "colorscale": [
             [
              0,
              "#0d0887"
             ],
             [
              0.1111111111111111,
              "#46039f"
             ],
             [
              0.2222222222222222,
              "#7201a8"
             ],
             [
              0.3333333333333333,
              "#9c179e"
             ],
             [
              0.4444444444444444,
              "#bd3786"
             ],
             [
              0.5555555555555556,
              "#d8576b"
             ],
             [
              0.6666666666666666,
              "#ed7953"
             ],
             [
              0.7777777777777778,
              "#fb9f3a"
             ],
             [
              0.8888888888888888,
              "#fdca26"
             ],
             [
              1,
              "#f0f921"
             ]
            ],
            "type": "heatmap"
           }
          ],
          "heatmapgl": [
           {
            "colorbar": {
             "outlinewidth": 0,
             "ticks": ""
            },
            "colorscale": [
             [
              0,
              "#0d0887"
             ],
             [
              0.1111111111111111,
              "#46039f"
             ],
             [
              0.2222222222222222,
              "#7201a8"
             ],
             [
              0.3333333333333333,
              "#9c179e"
             ],
             [
              0.4444444444444444,
              "#bd3786"
             ],
             [
              0.5555555555555556,
              "#d8576b"
             ],
             [
              0.6666666666666666,
              "#ed7953"
             ],
             [
              0.7777777777777778,
              "#fb9f3a"
             ],
             [
              0.8888888888888888,
              "#fdca26"
             ],
             [
              1,
              "#f0f921"
             ]
            ],
            "type": "heatmapgl"
           }
          ],
          "histogram": [
           {
            "marker": {
             "colorbar": {
              "outlinewidth": 0,
              "ticks": ""
             }
            },
            "type": "histogram"
           }
          ],
          "histogram2d": [
           {
            "colorbar": {
             "outlinewidth": 0,
             "ticks": ""
            },
            "colorscale": [
             [
              0,
              "#0d0887"
             ],
             [
              0.1111111111111111,
              "#46039f"
             ],
             [
              0.2222222222222222,
              "#7201a8"
             ],
             [
              0.3333333333333333,
              "#9c179e"
             ],
             [
              0.4444444444444444,
              "#bd3786"
             ],
             [
              0.5555555555555556,
              "#d8576b"
             ],
             [
              0.6666666666666666,
              "#ed7953"
             ],
             [
              0.7777777777777778,
              "#fb9f3a"
             ],
             [
              0.8888888888888888,
              "#fdca26"
             ],
             [
              1,
              "#f0f921"
             ]
            ],
            "type": "histogram2d"
           }
          ],
          "histogram2dcontour": [
           {
            "colorbar": {
             "outlinewidth": 0,
             "ticks": ""
            },
            "colorscale": [
             [
              0,
              "#0d0887"
             ],
             [
              0.1111111111111111,
              "#46039f"
             ],
             [
              0.2222222222222222,
              "#7201a8"
             ],
             [
              0.3333333333333333,
              "#9c179e"
             ],
             [
              0.4444444444444444,
              "#bd3786"
             ],
             [
              0.5555555555555556,
              "#d8576b"
             ],
             [
              0.6666666666666666,
              "#ed7953"
             ],
             [
              0.7777777777777778,
              "#fb9f3a"
             ],
             [
              0.8888888888888888,
              "#fdca26"
             ],
             [
              1,
              "#f0f921"
             ]
            ],
            "type": "histogram2dcontour"
           }
          ],
          "mesh3d": [
           {
            "colorbar": {
             "outlinewidth": 0,
             "ticks": ""
            },
            "type": "mesh3d"
           }
          ],
          "parcoords": [
           {
            "line": {
             "colorbar": {
              "outlinewidth": 0,
              "ticks": ""
             }
            },
            "type": "parcoords"
           }
          ],
          "pie": [
           {
            "automargin": true,
            "type": "pie"
           }
          ],
          "scatter": [
           {
            "marker": {
             "colorbar": {
              "outlinewidth": 0,
              "ticks": ""
             }
            },
            "type": "scatter"
           }
          ],
          "scatter3d": [
           {
            "line": {
             "colorbar": {
              "outlinewidth": 0,
              "ticks": ""
             }
            },
            "marker": {
             "colorbar": {
              "outlinewidth": 0,
              "ticks": ""
             }
            },
            "type": "scatter3d"
           }
          ],
          "scattercarpet": [
           {
            "marker": {
             "colorbar": {
              "outlinewidth": 0,
              "ticks": ""
             }
            },
            "type": "scattercarpet"
           }
          ],
          "scattergeo": [
           {
            "marker": {
             "colorbar": {
              "outlinewidth": 0,
              "ticks": ""
             }
            },
            "type": "scattergeo"
           }
          ],
          "scattergl": [
           {
            "marker": {
             "colorbar": {
              "outlinewidth": 0,
              "ticks": ""
             }
            },
            "type": "scattergl"
           }
          ],
          "scattermapbox": [
           {
            "marker": {
             "colorbar": {
              "outlinewidth": 0,
              "ticks": ""
             }
            },
            "type": "scattermapbox"
           }
          ],
          "scatterpolar": [
           {
            "marker": {
             "colorbar": {
              "outlinewidth": 0,
              "ticks": ""
             }
            },
            "type": "scatterpolar"
           }
          ],
          "scatterpolargl": [
           {
            "marker": {
             "colorbar": {
              "outlinewidth": 0,
              "ticks": ""
             }
            },
            "type": "scatterpolargl"
           }
          ],
          "scatterternary": [
           {
            "marker": {
             "colorbar": {
              "outlinewidth": 0,
              "ticks": ""
             }
            },
            "type": "scatterternary"
           }
          ],
          "surface": [
           {
            "colorbar": {
             "outlinewidth": 0,
             "ticks": ""
            },
            "colorscale": [
             [
              0,
              "#0d0887"
             ],
             [
              0.1111111111111111,
              "#46039f"
             ],
             [
              0.2222222222222222,
              "#7201a8"
             ],
             [
              0.3333333333333333,
              "#9c179e"
             ],
             [
              0.4444444444444444,
              "#bd3786"
             ],
             [
              0.5555555555555556,
              "#d8576b"
             ],
             [
              0.6666666666666666,
              "#ed7953"
             ],
             [
              0.7777777777777778,
              "#fb9f3a"
             ],
             [
              0.8888888888888888,
              "#fdca26"
             ],
             [
              1,
              "#f0f921"
             ]
            ],
            "type": "surface"
           }
          ],
          "table": [
           {
            "cells": {
             "fill": {
              "color": "#EBF0F8"
             },
             "line": {
              "color": "white"
             }
            },
            "header": {
             "fill": {
              "color": "#C8D4E3"
             },
             "line": {
              "color": "white"
             }
            },
            "type": "table"
           }
          ]
         },
         "layout": {
          "annotationdefaults": {
           "arrowcolor": "#2a3f5f",
           "arrowhead": 0,
           "arrowwidth": 1
          },
          "autotypenumbers": "strict",
          "coloraxis": {
           "colorbar": {
            "outlinewidth": 0,
            "ticks": ""
           }
          },
          "colorscale": {
           "diverging": [
            [
             0,
             "#8e0152"
            ],
            [
             0.1,
             "#c51b7d"
            ],
            [
             0.2,
             "#de77ae"
            ],
            [
             0.3,
             "#f1b6da"
            ],
            [
             0.4,
             "#fde0ef"
            ],
            [
             0.5,
             "#f7f7f7"
            ],
            [
             0.6,
             "#e6f5d0"
            ],
            [
             0.7,
             "#b8e186"
            ],
            [
             0.8,
             "#7fbc41"
            ],
            [
             0.9,
             "#4d9221"
            ],
            [
             1,
             "#276419"
            ]
           ],
           "sequential": [
            [
             0,
             "#0d0887"
            ],
            [
             0.1111111111111111,
             "#46039f"
            ],
            [
             0.2222222222222222,
             "#7201a8"
            ],
            [
             0.3333333333333333,
             "#9c179e"
            ],
            [
             0.4444444444444444,
             "#bd3786"
            ],
            [
             0.5555555555555556,
             "#d8576b"
            ],
            [
             0.6666666666666666,
             "#ed7953"
            ],
            [
             0.7777777777777778,
             "#fb9f3a"
            ],
            [
             0.8888888888888888,
             "#fdca26"
            ],
            [
             1,
             "#f0f921"
            ]
           ],
           "sequentialminus": [
            [
             0,
             "#0d0887"
            ],
            [
             0.1111111111111111,
             "#46039f"
            ],
            [
             0.2222222222222222,
             "#7201a8"
            ],
            [
             0.3333333333333333,
             "#9c179e"
            ],
            [
             0.4444444444444444,
             "#bd3786"
            ],
            [
             0.5555555555555556,
             "#d8576b"
            ],
            [
             0.6666666666666666,
             "#ed7953"
            ],
            [
             0.7777777777777778,
             "#fb9f3a"
            ],
            [
             0.8888888888888888,
             "#fdca26"
            ],
            [
             1,
             "#f0f921"
            ]
           ]
          },
          "colorway": [
           "#636efa",
           "#EF553B",
           "#00cc96",
           "#ab63fa",
           "#FFA15A",
           "#19d3f3",
           "#FF6692",
           "#B6E880",
           "#FF97FF",
           "#FECB52"
          ],
          "font": {
           "color": "#2a3f5f"
          },
          "geo": {
           "bgcolor": "white",
           "lakecolor": "white",
           "landcolor": "#E5ECF6",
           "showlakes": true,
           "showland": true,
           "subunitcolor": "white"
          },
          "hoverlabel": {
           "align": "left"
          },
          "hovermode": "closest",
          "mapbox": {
           "style": "light"
          },
          "paper_bgcolor": "white",
          "plot_bgcolor": "#E5ECF6",
          "polar": {
           "angularaxis": {
            "gridcolor": "white",
            "linecolor": "white",
            "ticks": ""
           },
           "bgcolor": "#E5ECF6",
           "radialaxis": {
            "gridcolor": "white",
            "linecolor": "white",
            "ticks": ""
           }
          },
          "scene": {
           "xaxis": {
            "backgroundcolor": "#E5ECF6",
            "gridcolor": "white",
            "gridwidth": 2,
            "linecolor": "white",
            "showbackground": true,
            "ticks": "",
            "zerolinecolor": "white"
           },
           "yaxis": {
            "backgroundcolor": "#E5ECF6",
            "gridcolor": "white",
            "gridwidth": 2,
            "linecolor": "white",
            "showbackground": true,
            "ticks": "",
            "zerolinecolor": "white"
           },
           "zaxis": {
            "backgroundcolor": "#E5ECF6",
            "gridcolor": "white",
            "gridwidth": 2,
            "linecolor": "white",
            "showbackground": true,
            "ticks": "",
            "zerolinecolor": "white"
           }
          },
          "shapedefaults": {
           "line": {
            "color": "#2a3f5f"
           }
          },
          "ternary": {
           "aaxis": {
            "gridcolor": "white",
            "linecolor": "white",
            "ticks": ""
           },
           "baxis": {
            "gridcolor": "white",
            "linecolor": "white",
            "ticks": ""
           },
           "bgcolor": "#E5ECF6",
           "caxis": {
            "gridcolor": "white",
            "linecolor": "white",
            "ticks": ""
           }
          },
          "title": {
           "x": 0.05
          },
          "xaxis": {
           "automargin": true,
           "gridcolor": "white",
           "linecolor": "white",
           "ticks": "",
           "title": {
            "standoff": 15
           },
           "zerolinecolor": "white",
           "zerolinewidth": 2
          },
          "yaxis": {
           "automargin": true,
           "gridcolor": "white",
           "linecolor": "white",
           "ticks": "",
           "title": {
            "standoff": 15
           },
           "zerolinecolor": "white",
           "zerolinewidth": 2
          }
         }
        },
        "title": {
         "font": {
          "color": "#4D5663"
         }
        },
        "xaxis": {
         "anchor": "y",
         "domain": [
          0,
          0.2125
         ],
         "gridcolor": "#E1E5ED",
         "showgrid": false,
         "tickfont": {
          "color": "#4D5663"
         },
         "title": {
          "font": {
           "color": "#4D5663"
          },
          "text": ""
         },
         "zerolinecolor": "#E1E5ED"
        },
        "xaxis10": {
         "anchor": "y10",
         "domain": [
          0.2625,
          0.475
         ],
         "gridcolor": "#E1E5ED",
         "showgrid": false,
         "tickfont": {
          "color": "#4D5663"
         },
         "title": {
          "font": {
           "color": "#4D5663"
          },
          "text": ""
         },
         "zerolinecolor": "#E1E5ED"
        },
        "xaxis11": {
         "anchor": "y11",
         "domain": [
          0.525,
          0.7375
         ],
         "gridcolor": "#E1E5ED",
         "showgrid": false,
         "tickfont": {
          "color": "#4D5663"
         },
         "title": {
          "font": {
           "color": "#4D5663"
          },
          "text": ""
         },
         "zerolinecolor": "#E1E5ED"
        },
        "xaxis12": {
         "anchor": "y12",
         "domain": [
          0.7875,
          1
         ],
         "gridcolor": "#E1E5ED",
         "showgrid": false,
         "tickfont": {
          "color": "#4D5663"
         },
         "title": {
          "font": {
           "color": "#4D5663"
          },
          "text": ""
         },
         "zerolinecolor": "#E1E5ED"
        },
        "xaxis13": {
         "anchor": "y13",
         "domain": [
          0,
          0.2125
         ],
         "gridcolor": "#E1E5ED",
         "showgrid": false,
         "tickfont": {
          "color": "#4D5663"
         },
         "title": {
          "font": {
           "color": "#4D5663"
          },
          "text": ""
         },
         "zerolinecolor": "#E1E5ED"
        },
        "xaxis14": {
         "anchor": "y14",
         "domain": [
          0.2625,
          0.475
         ],
         "gridcolor": "#E1E5ED",
         "showgrid": false,
         "tickfont": {
          "color": "#4D5663"
         },
         "title": {
          "font": {
           "color": "#4D5663"
          },
          "text": ""
         },
         "zerolinecolor": "#E1E5ED"
        },
        "xaxis15": {
         "anchor": "y15",
         "domain": [
          0.525,
          0.7375
         ],
         "gridcolor": "#E1E5ED",
         "showgrid": false,
         "tickfont": {
          "color": "#4D5663"
         },
         "title": {
          "font": {
           "color": "#4D5663"
          },
          "text": ""
         },
         "zerolinecolor": "#E1E5ED"
        },
        "xaxis16": {
         "anchor": "y16",
         "domain": [
          0.7875,
          1
         ],
         "gridcolor": "#E1E5ED",
         "showgrid": false,
         "tickfont": {
          "color": "#4D5663"
         },
         "title": {
          "font": {
           "color": "#4D5663"
          },
          "text": ""
         },
         "zerolinecolor": "#E1E5ED"
        },
        "xaxis2": {
         "anchor": "y2",
         "domain": [
          0.2625,
          0.475
         ],
         "gridcolor": "#E1E5ED",
         "showgrid": false,
         "tickfont": {
          "color": "#4D5663"
         },
         "title": {
          "font": {
           "color": "#4D5663"
          },
          "text": ""
         },
         "zerolinecolor": "#E1E5ED"
        },
        "xaxis3": {
         "anchor": "y3",
         "domain": [
          0.525,
          0.7375
         ],
         "gridcolor": "#E1E5ED",
         "showgrid": false,
         "tickfont": {
          "color": "#4D5663"
         },
         "title": {
          "font": {
           "color": "#4D5663"
          },
          "text": ""
         },
         "zerolinecolor": "#E1E5ED"
        },
        "xaxis4": {
         "anchor": "y4",
         "domain": [
          0.7875,
          1
         ],
         "gridcolor": "#E1E5ED",
         "showgrid": false,
         "tickfont": {
          "color": "#4D5663"
         },
         "title": {
          "font": {
           "color": "#4D5663"
          },
          "text": ""
         },
         "zerolinecolor": "#E1E5ED"
        },
        "xaxis5": {
         "anchor": "y5",
         "domain": [
          0,
          0.2125
         ],
         "gridcolor": "#E1E5ED",
         "showgrid": false,
         "tickfont": {
          "color": "#4D5663"
         },
         "title": {
          "font": {
           "color": "#4D5663"
          },
          "text": ""
         },
         "zerolinecolor": "#E1E5ED"
        },
        "xaxis6": {
         "anchor": "y6",
         "domain": [
          0.2625,
          0.475
         ],
         "gridcolor": "#E1E5ED",
         "showgrid": false,
         "tickfont": {
          "color": "#4D5663"
         },
         "title": {
          "font": {
           "color": "#4D5663"
          },
          "text": ""
         },
         "zerolinecolor": "#E1E5ED"
        },
        "xaxis7": {
         "anchor": "y7",
         "domain": [
          0.525,
          0.7375
         ],
         "gridcolor": "#E1E5ED",
         "showgrid": false,
         "tickfont": {
          "color": "#4D5663"
         },
         "title": {
          "font": {
           "color": "#4D5663"
          },
          "text": ""
         },
         "zerolinecolor": "#E1E5ED"
        },
        "xaxis8": {
         "anchor": "y8",
         "domain": [
          0.7875,
          1
         ],
         "gridcolor": "#E1E5ED",
         "showgrid": false,
         "tickfont": {
          "color": "#4D5663"
         },
         "title": {
          "font": {
           "color": "#4D5663"
          },
          "text": ""
         },
         "zerolinecolor": "#E1E5ED"
        },
        "xaxis9": {
         "anchor": "y9",
         "domain": [
          0,
          0.2125
         ],
         "gridcolor": "#E1E5ED",
         "showgrid": false,
         "tickfont": {
          "color": "#4D5663"
         },
         "title": {
          "font": {
           "color": "#4D5663"
          },
          "text": ""
         },
         "zerolinecolor": "#E1E5ED"
        },
        "yaxis": {
         "anchor": "x",
         "domain": [
          0.8025,
          1
         ],
         "gridcolor": "#E1E5ED",
         "showgrid": false,
         "tickfont": {
          "color": "#4D5663"
         },
         "title": {
          "font": {
           "color": "#4D5663"
          },
          "text": ""
         },
         "zerolinecolor": "#E1E5ED"
        },
        "yaxis10": {
         "anchor": "x10",
         "domain": [
          0.2675,
          0.465
         ],
         "gridcolor": "#E1E5ED",
         "showgrid": false,
         "tickfont": {
          "color": "#4D5663"
         },
         "title": {
          "font": {
           "color": "#4D5663"
          },
          "text": ""
         },
         "zerolinecolor": "#E1E5ED"
        },
        "yaxis11": {
         "anchor": "x11",
         "domain": [
          0.2675,
          0.465
         ],
         "gridcolor": "#E1E5ED",
         "showgrid": false,
         "tickfont": {
          "color": "#4D5663"
         },
         "title": {
          "font": {
           "color": "#4D5663"
          },
          "text": ""
         },
         "zerolinecolor": "#E1E5ED"
        },
        "yaxis12": {
         "anchor": "x12",
         "domain": [
          0.2675,
          0.465
         ],
         "gridcolor": "#E1E5ED",
         "showgrid": false,
         "tickfont": {
          "color": "#4D5663"
         },
         "title": {
          "font": {
           "color": "#4D5663"
          },
          "text": ""
         },
         "zerolinecolor": "#E1E5ED"
        },
        "yaxis13": {
         "anchor": "x13",
         "domain": [
          0,
          0.1975
         ],
         "gridcolor": "#E1E5ED",
         "showgrid": false,
         "tickfont": {
          "color": "#4D5663"
         },
         "title": {
          "font": {
           "color": "#4D5663"
          },
          "text": ""
         },
         "zerolinecolor": "#E1E5ED"
        },
        "yaxis14": {
         "anchor": "x14",
         "domain": [
          0,
          0.1975
         ],
         "gridcolor": "#E1E5ED",
         "showgrid": false,
         "tickfont": {
          "color": "#4D5663"
         },
         "title": {
          "font": {
           "color": "#4D5663"
          },
          "text": ""
         },
         "zerolinecolor": "#E1E5ED"
        },
        "yaxis15": {
         "anchor": "x15",
         "domain": [
          0,
          0.1975
         ],
         "gridcolor": "#E1E5ED",
         "showgrid": false,
         "tickfont": {
          "color": "#4D5663"
         },
         "title": {
          "font": {
           "color": "#4D5663"
          },
          "text": ""
         },
         "zerolinecolor": "#E1E5ED"
        },
        "yaxis16": {
         "anchor": "x16",
         "domain": [
          0,
          0.1975
         ],
         "gridcolor": "#E1E5ED",
         "showgrid": false,
         "tickfont": {
          "color": "#4D5663"
         },
         "title": {
          "font": {
           "color": "#4D5663"
          },
          "text": ""
         },
         "zerolinecolor": "#E1E5ED"
        },
        "yaxis2": {
         "anchor": "x2",
         "domain": [
          0.8025,
          1
         ],
         "gridcolor": "#E1E5ED",
         "showgrid": false,
         "tickfont": {
          "color": "#4D5663"
         },
         "title": {
          "font": {
           "color": "#4D5663"
          },
          "text": ""
         },
         "zerolinecolor": "#E1E5ED"
        },
        "yaxis3": {
         "anchor": "x3",
         "domain": [
          0.8025,
          1
         ],
         "gridcolor": "#E1E5ED",
         "showgrid": false,
         "tickfont": {
          "color": "#4D5663"
         },
         "title": {
          "font": {
           "color": "#4D5663"
          },
          "text": ""
         },
         "zerolinecolor": "#E1E5ED"
        },
        "yaxis4": {
         "anchor": "x4",
         "domain": [
          0.8025,
          1
         ],
         "gridcolor": "#E1E5ED",
         "showgrid": false,
         "tickfont": {
          "color": "#4D5663"
         },
         "title": {
          "font": {
           "color": "#4D5663"
          },
          "text": ""
         },
         "zerolinecolor": "#E1E5ED"
        },
        "yaxis5": {
         "anchor": "x5",
         "domain": [
          0.535,
          0.7325
         ],
         "gridcolor": "#E1E5ED",
         "showgrid": false,
         "tickfont": {
          "color": "#4D5663"
         },
         "title": {
          "font": {
           "color": "#4D5663"
          },
          "text": ""
         },
         "zerolinecolor": "#E1E5ED"
        },
        "yaxis6": {
         "anchor": "x6",
         "domain": [
          0.535,
          0.7325
         ],
         "gridcolor": "#E1E5ED",
         "showgrid": false,
         "tickfont": {
          "color": "#4D5663"
         },
         "title": {
          "font": {
           "color": "#4D5663"
          },
          "text": ""
         },
         "zerolinecolor": "#E1E5ED"
        },
        "yaxis7": {
         "anchor": "x7",
         "domain": [
          0.535,
          0.7325
         ],
         "gridcolor": "#E1E5ED",
         "showgrid": false,
         "tickfont": {
          "color": "#4D5663"
         },
         "title": {
          "font": {
           "color": "#4D5663"
          },
          "text": ""
         },
         "zerolinecolor": "#E1E5ED"
        },
        "yaxis8": {
         "anchor": "x8",
         "domain": [
          0.535,
          0.7325
         ],
         "gridcolor": "#E1E5ED",
         "showgrid": false,
         "tickfont": {
          "color": "#4D5663"
         },
         "title": {
          "font": {
           "color": "#4D5663"
          },
          "text": ""
         },
         "zerolinecolor": "#E1E5ED"
        },
        "yaxis9": {
         "anchor": "x9",
         "domain": [
          0.2675,
          0.465
         ],
         "gridcolor": "#E1E5ED",
         "showgrid": false,
         "tickfont": {
          "color": "#4D5663"
         },
         "title": {
          "font": {
           "color": "#4D5663"
          },
          "text": ""
         },
         "zerolinecolor": "#E1E5ED"
        }
       }
      },
      "text/html": [
       "<div>                            <div id=\"da1ba8f3-675f-4cf9-8e57-60b9cd9caedf\" class=\"plotly-graph-div\" style=\"height:525px; width:100%;\"></div>            <script type=\"text/javascript\">                require([\"plotly\"], function(Plotly) {                    window.PLOTLYENV=window.PLOTLYENV || {};\n",
       "                    window.PLOTLYENV.BASE_URL='https://plot.ly';                                    if (document.getElementById(\"da1ba8f3-675f-4cf9-8e57-60b9cd9caedf\")) {                    Plotly.newPlot(                        \"da1ba8f3-675f-4cf9-8e57-60b9cd9caedf\",                        [{\"histfunc\": \"count\", \"histnorm\": \"\", \"marker\": {\"color\": \"rgba(255, 153, 51, 1.0)\", \"line\": {\"color\": \"#4D5663\", \"width\": 1.3}}, \"name\": \"A\", \"nbinsx\": 10, \"opacity\": 0.8, \"orientation\": \"v\", \"type\": \"histogram\", \"x\": [0.5559244215996016, 0.16531247499681323, -0.8101100169139632, -1.3974320065743162, 1.6136174804983556, -0.3211925649236798, -0.3708134451358885, 0.7768683958236318, 0.9185436802928186, 1.2762372604361978, 0.4127563834151255, -0.9193064276735416, -1.5395019336205855, -0.5305376223271864, -0.9903403728567307, 0.14647506819357678, -0.1763519726139724, 0.36008109401573163, -0.3176404768055409, -0.19412325558431157, -0.0904221223832305, -0.5945023504586406, -0.03895869264617371, 0.5901436910604915, -0.7996642304747691, 1.0301076261885471, 0.9621354965051399, 0.30578234381497704, -0.724902498511663, -0.21758223505728244, 0.32225672399278027, 0.16816746481521705, -0.3052736668837778, -0.3751381721108554, 0.827811394916156, -1.1823153331521996, 0.05309296545930296, 0.7949550338463784, 0.009844956835440979, -0.421073670238091, -0.9065419444857088, 0.5772849324123647, -2.0877670198322047, 1.3868161621120656, -0.702588197611849, 0.162538412371124, -0.003047648967196274, 0.18507428698394549, -0.2390219605970498, 0.07847295052663021, -0.246121472387244, 0.7798289383401936, 1.4968068545020095, -0.7877805920356816, -1.126634990257943, 0.11719360333798196, -1.5602947784857861, 1.298860409475295, -1.8056312905844059, 1.1832197109271312, 1.4331767165642602, -0.2911593460243957, 0.1574901335703895, 0.06854985942307727, 1.4231140740707144, -2.04463937159396, -1.8251943251991503, 0.14962534578078765, 0.0813071065438157, -1.0863368122861674, 0.9565864600231273, 0.6642827660389123, -1.4831517966951513, -0.39828961293614407, 0.22927634606915795, 0.22238917753957502, 0.7686846529091509, 1.47119939628487, -1.556400814871271, -2.735284320598148, 0.07069490963218183, 0.23495848143046277, 1.9148595400160937, 0.6174926889282726, -1.4203144589579582, 1.1619629955318764, -0.5601347720040485, -0.6703767522970148, 0.17875077451214946, 0.08181724511550104, -0.3519235217399932, 1.3203913019856222, 1.8460431102673394, -0.14262827208374368, 0.6250080835386731, 1.9614289138545555, 0.4434327783663857, 1.6393596269936033, 1.530107027081265, 1.6215780684288195], \"xaxis\": \"x\", \"yaxis\": \"y\"}, {\"line\": {\"color\": \"rgba(128, 128, 128, 1.0)\", \"dash\": \"solid\", \"shape\": \"linear\", \"width\": 1.3}, \"marker\": {\"size\": 2, \"symbol\": \"circle\"}, \"mode\": \"markers\", \"name\": \"A\", \"text\": \"\", \"type\": \"scatter\", \"x\": [0.22903146892060294, -1.0438839554806172, -0.4399526952827415, -0.4633382480861902, -1.5654877913797267, 1.2377698503523018, -0.007528301571093346, -0.7821574542974872, 0.1932979535681084, 0.16383400694923386, -0.10457958055017953, -0.5483224720829957, 0.3901467033850892, 0.8733391491473266, -1.8148002875494058, -0.0759623941349184, -1.5726465344150269, -0.6082787903749993, 0.3214224546316616, 0.4511156558335474, -0.2819159475893012, -0.03168586915965763, 0.4153575859846248, -0.8519307093778403, -0.18818870118555994, -1.4230368693782596, -1.1061437380428527, -0.4788898790879405, -0.30961021649646114, 0.826955287725046, 1.2056289154607636, -0.70084903580063, 0.8209283555060617, -0.5298851830413455, 0.1451874152781941, -1.5865763699281297, 1.6520160207008723, -0.6106005545270637, -0.4657338792251926, -1.613208567945061, -0.3358265022436321, -0.19539723810652976, -0.10857198778945001, -0.5686738836571239, 0.026700284464226395, 0.060562223568401255, -1.322550194123688, -1.1478889418544014, -0.6747492167943674, 1.4978851912884552, -0.8144161797427335, -0.6614153305732594, -1.9119357727283888, -1.164014883430049, 0.5595234352487303, 0.108328681661955, -0.9706109249546176, 0.47099451136202414, 0.9089019866312754, -0.4955207283130792, -1.125571044511677, -1.259705874458263, 0.9499971437675632, -1.0807709308166202, 0.3365070500166459, 1.2321842350594938, -1.4903302832650034, 0.3514723761902005, 0.08623718249227429, -0.20931093736104614, -0.9741715973174373, -0.5308998848264274, -2.410083026327852, -0.1899938700628958, 1.7683431358180248, -0.47597742609579835, -0.0013692778474197807, -3.381411728787464, 0.2096704289056021, 0.017403841169861784, 0.40583638946018025, -0.6750001314794015, 0.15150861459613177, 0.17204801196444056, 1.2690154822774866, -2.289782485465693, -0.12230747952833376, -1.2401555231539811, 0.6775438389699542, 0.748663635094293, -1.0291210942321232, 0.11491042839811323, 0.6149875024612116, -0.6752388716699234, -1.0210089048464344, -1.306395759730055, -0.8897696845214655, 1.9783178499112062, 0.7937356305287727, -0.30826255509155437], \"xaxis\": \"x2\", \"y\": [0.5559244215996016, 0.16531247499681323, -0.8101100169139632, -1.3974320065743162, 1.6136174804983556, -0.3211925649236798, -0.3708134451358885, 0.7768683958236318, 0.9185436802928186, 1.2762372604361978, 0.4127563834151255, -0.9193064276735416, -1.5395019336205855, -0.5305376223271864, -0.9903403728567307, 0.14647506819357678, -0.1763519726139724, 0.36008109401573163, -0.3176404768055409, -0.19412325558431157, -0.0904221223832305, -0.5945023504586406, -0.03895869264617371, 0.5901436910604915, -0.7996642304747691, 1.0301076261885471, 0.9621354965051399, 0.30578234381497704, -0.724902498511663, -0.21758223505728244, 0.32225672399278027, 0.16816746481521705, -0.3052736668837778, -0.3751381721108554, 0.827811394916156, -1.1823153331521996, 0.05309296545930296, 0.7949550338463784, 0.009844956835440979, -0.421073670238091, -0.9065419444857088, 0.5772849324123647, -2.0877670198322047, 1.3868161621120656, -0.702588197611849, 0.162538412371124, -0.003047648967196274, 0.18507428698394549, -0.2390219605970498, 0.07847295052663021, -0.246121472387244, 0.7798289383401936, 1.4968068545020095, -0.7877805920356816, -1.126634990257943, 0.11719360333798196, -1.5602947784857861, 1.298860409475295, -1.8056312905844059, 1.1832197109271312, 1.4331767165642602, -0.2911593460243957, 0.1574901335703895, 0.06854985942307727, 1.4231140740707144, -2.04463937159396, -1.8251943251991503, 0.14962534578078765, 0.0813071065438157, -1.0863368122861674, 0.9565864600231273, 0.6642827660389123, -1.4831517966951513, -0.39828961293614407, 0.22927634606915795, 0.22238917753957502, 0.7686846529091509, 1.47119939628487, -1.556400814871271, -2.735284320598148, 0.07069490963218183, 0.23495848143046277, 1.9148595400160937, 0.6174926889282726, -1.4203144589579582, 1.1619629955318764, -0.5601347720040485, -0.6703767522970148, 0.17875077451214946, 0.08181724511550104, -0.3519235217399932, 1.3203913019856222, 1.8460431102673394, -0.14262827208374368, 0.6250080835386731, 1.9614289138545555, 0.4434327783663857, 1.6393596269936033, 1.530107027081265, 1.6215780684288195], \"yaxis\": \"y2\"}, {\"line\": {\"color\": \"rgba(128, 128, 128, 1.0)\", \"dash\": \"solid\", \"shape\": \"linear\", \"width\": 1.3}, \"marker\": {\"size\": 2, \"symbol\": \"circle\"}, \"mode\": \"markers\", \"name\": \"A\", \"text\": \"\", \"type\": \"scatter\", \"x\": [0.4629650831240414, 1.2432135481517856, 0.8099501451062239, 0.1382476099400311, -0.5154026319412417, 0.01871441788108343, -0.011318421257373985, 0.8997367977141505, 0.19798817852148798, 1.227914769137976, 1.7379485580258134, 0.42892217420970613, 0.20340147554498844, 0.24971057903503524, 0.06972433460899556, 1.189275642338663, -0.11289626706206705, 0.5600001985476502, 2.159603991817565, 0.685760780652771, -0.13250937465100862, -1.0005898298079836, -0.5455463179941619, -0.6634397282942427, -1.172793974038636, -0.6146863592524869, 1.2545117087633786, 1.810225976194417, -1.6180670620973294, 0.8020135407322048, -0.8890970478686254, 0.06499422027038193, 0.6670990117028622, 1.7356490282523986, 0.796747636969668, -2.426433187651039, -0.656971298519989, -0.8018771380965526, 0.3501239459155337, 0.5104044537718762, -1.0626969165902538, 0.27587906239094884, 0.461427426694262, 0.8642141071263638, -1.1368633104424197, 0.23571352299260587, -1.41147913150561, 0.18487560219439148, 0.2942054281917523, -1.000566948724494, -0.015567094312226748, 1.908929042016413, 0.1425737823223032, 0.19401535413460727, 0.4442046417314635, 0.00027377006526494086, -0.4755280280667671, -0.753897728358789, 0.3659206700685624, -0.5330363161499501, 0.6382566330246041, -0.456307183670805, 0.7546581512841992, 0.1482526872460123, -1.7531740846115724, 1.4595558264664916, -0.8787601291928155, -0.21027015241269978, -1.1150046643876077, 0.3863476148840286, -0.942987481816664, -0.34967426195611645, -0.3364368063222968, 0.8356096134435225, -0.27623845964780536, -0.6396679427505394, -0.0783000050386576, 1.2773351946961333, 1.5080473538185435, -2.208762143527387, -0.05426234264447516, -1.6212717242738082, -1.226652303134024, 0.05891595576367844, -0.05054948629707698, 1.9624210131288033, -2.120294151184495, 0.7015974550860965, 0.6995976037822227, 0.515724084571619, -2.0381566520932117, 0.41526417456896164, -0.8962651149784191, 0.41889656387466795, 0.010619121916224918, -1.1723343112708058, 0.641977470437457, 0.7040460415157107, 0.8865903399240732, 1.1036104791548647], \"xaxis\": \"x3\", \"y\": [0.5559244215996016, 0.16531247499681323, -0.8101100169139632, -1.3974320065743162, 1.6136174804983556, -0.3211925649236798, -0.3708134451358885, 0.7768683958236318, 0.9185436802928186, 1.2762372604361978, 0.4127563834151255, -0.9193064276735416, -1.5395019336205855, -0.5305376223271864, -0.9903403728567307, 0.14647506819357678, -0.1763519726139724, 0.36008109401573163, -0.3176404768055409, -0.19412325558431157, -0.0904221223832305, -0.5945023504586406, -0.03895869264617371, 0.5901436910604915, -0.7996642304747691, 1.0301076261885471, 0.9621354965051399, 0.30578234381497704, -0.724902498511663, -0.21758223505728244, 0.32225672399278027, 0.16816746481521705, -0.3052736668837778, -0.3751381721108554, 0.827811394916156, -1.1823153331521996, 0.05309296545930296, 0.7949550338463784, 0.009844956835440979, -0.421073670238091, -0.9065419444857088, 0.5772849324123647, -2.0877670198322047, 1.3868161621120656, -0.702588197611849, 0.162538412371124, -0.003047648967196274, 0.18507428698394549, -0.2390219605970498, 0.07847295052663021, -0.246121472387244, 0.7798289383401936, 1.4968068545020095, -0.7877805920356816, -1.126634990257943, 0.11719360333798196, -1.5602947784857861, 1.298860409475295, -1.8056312905844059, 1.1832197109271312, 1.4331767165642602, -0.2911593460243957, 0.1574901335703895, 0.06854985942307727, 1.4231140740707144, -2.04463937159396, -1.8251943251991503, 0.14962534578078765, 0.0813071065438157, -1.0863368122861674, 0.9565864600231273, 0.6642827660389123, -1.4831517966951513, -0.39828961293614407, 0.22927634606915795, 0.22238917753957502, 0.7686846529091509, 1.47119939628487, -1.556400814871271, -2.735284320598148, 0.07069490963218183, 0.23495848143046277, 1.9148595400160937, 0.6174926889282726, -1.4203144589579582, 1.1619629955318764, -0.5601347720040485, -0.6703767522970148, 0.17875077451214946, 0.08181724511550104, -0.3519235217399932, 1.3203913019856222, 1.8460431102673394, -0.14262827208374368, 0.6250080835386731, 1.9614289138545555, 0.4434327783663857, 1.6393596269936033, 1.530107027081265, 1.6215780684288195], \"yaxis\": \"y3\"}, {\"line\": {\"color\": \"rgba(128, 128, 128, 1.0)\", \"dash\": \"solid\", \"shape\": \"linear\", \"width\": 1.3}, \"marker\": {\"size\": 2, \"symbol\": \"circle\"}, \"mode\": \"markers\", \"name\": \"A\", \"text\": \"\", \"type\": \"scatter\", \"x\": [0.9566340233601011, 0.9752272371596018, 0.25471208094517367, -1.0158218101622745, -0.7924648542306763, 0.7775073536253685, 1.2574604453562042, -0.20964870966875607, -0.5223766524406891, 0.2259491847170473, 0.8248538895184206, 0.016758077526463154, 0.10902216804538557, 0.6085067436935758, 1.6450800144915723, 0.8931981539250716, -0.707115356082297, 1.4335819766153604, -0.07759183971276323, 0.33856225002590273, 0.42494473618377954, -0.17429113846586008, 1.2830742049278938, 0.04828345934486168, -1.926854629040082, -0.7407755453742538, 0.7450775444959586, -0.1026061368346683, -0.6484475929036851, 0.06855889332908584, 1.0370374221687333, 0.1903577292058355, -1.511700688298228, 1.0838177472206347, 0.3744087968016041, -1.1581106007843722, -0.10453278472917485, 1.8510861077664962, -0.4791729085079475, -0.5198683639209097, -0.7108458765342246, -0.0950606313776447, -0.0074793868710777865, 1.0488371002415722, -0.6548033323991714, 1.5415408526071412, 0.3297099786353898, 1.5826209575514578, -0.08170373012353173, -0.2835283525681258, 0.050642186363222576, -0.25565790851061854, -0.7436769775209057, -0.09523811959144006, 0.7969184138199794, 0.7470827570769997, 0.643725350756142, -0.7096267509235492, -0.15009894781844454, -0.5256163440059519, 0.27285854740684506, 0.009462526147125042, 1.142522392174448, 0.4470300709007983, 0.9967991099106255, 1.9529853143703666, -0.44701697188847445, -0.19647652959445977, -0.1407605351294186, -1.5675485404685603, -0.49721091509735466, -1.7258348142557858, 0.14462048078221715, -0.5063664861687264, -0.3754047448975229, 0.04381885963561633, 0.6718516491664974, -1.5852399213846535, 0.1393045043335795, 0.3531536136556921, -1.1029780003070717, 0.7401808660652972, -1.59837780916017, -1.1697883199556967, 1.2480958704889384, 0.2580986750086237, -0.25369440869036197, -1.413927021948406, 0.334800615143296, 2.3825514581378022, 0.08092257910546233, -0.32631159055221765, -1.6778982215163736, -1.246575379630572, 0.5421789496873197, -0.7136285780807672, -0.41477094917710483, -1.204218540974015, 1.2002265721424572, 0.16760124103241722], \"xaxis\": \"x4\", \"y\": [0.5559244215996016, 0.16531247499681323, -0.8101100169139632, -1.3974320065743162, 1.6136174804983556, -0.3211925649236798, -0.3708134451358885, 0.7768683958236318, 0.9185436802928186, 1.2762372604361978, 0.4127563834151255, -0.9193064276735416, -1.5395019336205855, -0.5305376223271864, -0.9903403728567307, 0.14647506819357678, -0.1763519726139724, 0.36008109401573163, -0.3176404768055409, -0.19412325558431157, -0.0904221223832305, -0.5945023504586406, -0.03895869264617371, 0.5901436910604915, -0.7996642304747691, 1.0301076261885471, 0.9621354965051399, 0.30578234381497704, -0.724902498511663, -0.21758223505728244, 0.32225672399278027, 0.16816746481521705, -0.3052736668837778, -0.3751381721108554, 0.827811394916156, -1.1823153331521996, 0.05309296545930296, 0.7949550338463784, 0.009844956835440979, -0.421073670238091, -0.9065419444857088, 0.5772849324123647, -2.0877670198322047, 1.3868161621120656, -0.702588197611849, 0.162538412371124, -0.003047648967196274, 0.18507428698394549, -0.2390219605970498, 0.07847295052663021, -0.246121472387244, 0.7798289383401936, 1.4968068545020095, -0.7877805920356816, -1.126634990257943, 0.11719360333798196, -1.5602947784857861, 1.298860409475295, -1.8056312905844059, 1.1832197109271312, 1.4331767165642602, -0.2911593460243957, 0.1574901335703895, 0.06854985942307727, 1.4231140740707144, -2.04463937159396, -1.8251943251991503, 0.14962534578078765, 0.0813071065438157, -1.0863368122861674, 0.9565864600231273, 0.6642827660389123, -1.4831517966951513, -0.39828961293614407, 0.22927634606915795, 0.22238917753957502, 0.7686846529091509, 1.47119939628487, -1.556400814871271, -2.735284320598148, 0.07069490963218183, 0.23495848143046277, 1.9148595400160937, 0.6174926889282726, -1.4203144589579582, 1.1619629955318764, -0.5601347720040485, -0.6703767522970148, 0.17875077451214946, 0.08181724511550104, -0.3519235217399932, 1.3203913019856222, 1.8460431102673394, -0.14262827208374368, 0.6250080835386731, 1.9614289138545555, 0.4434327783663857, 1.6393596269936033, 1.530107027081265, 1.6215780684288195], \"yaxis\": \"y4\"}, {\"line\": {\"color\": \"rgba(128, 128, 128, 1.0)\", \"dash\": \"solid\", \"shape\": \"linear\", \"width\": 1.3}, \"marker\": {\"size\": 2, \"symbol\": \"circle\"}, \"mode\": \"markers\", \"name\": \"B\", \"text\": \"\", \"type\": \"scatter\", \"x\": [0.5559244215996016, 0.16531247499681323, -0.8101100169139632, -1.3974320065743162, 1.6136174804983556, -0.3211925649236798, -0.3708134451358885, 0.7768683958236318, 0.9185436802928186, 1.2762372604361978, 0.4127563834151255, -0.9193064276735416, -1.5395019336205855, -0.5305376223271864, -0.9903403728567307, 0.14647506819357678, -0.1763519726139724, 0.36008109401573163, -0.3176404768055409, -0.19412325558431157, -0.0904221223832305, -0.5945023504586406, -0.03895869264617371, 0.5901436910604915, -0.7996642304747691, 1.0301076261885471, 0.9621354965051399, 0.30578234381497704, -0.724902498511663, -0.21758223505728244, 0.32225672399278027, 0.16816746481521705, -0.3052736668837778, -0.3751381721108554, 0.827811394916156, -1.1823153331521996, 0.05309296545930296, 0.7949550338463784, 0.009844956835440979, -0.421073670238091, -0.9065419444857088, 0.5772849324123647, -2.0877670198322047, 1.3868161621120656, -0.702588197611849, 0.162538412371124, -0.003047648967196274, 0.18507428698394549, -0.2390219605970498, 0.07847295052663021, -0.246121472387244, 0.7798289383401936, 1.4968068545020095, -0.7877805920356816, -1.126634990257943, 0.11719360333798196, -1.5602947784857861, 1.298860409475295, -1.8056312905844059, 1.1832197109271312, 1.4331767165642602, -0.2911593460243957, 0.1574901335703895, 0.06854985942307727, 1.4231140740707144, -2.04463937159396, -1.8251943251991503, 0.14962534578078765, 0.0813071065438157, -1.0863368122861674, 0.9565864600231273, 0.6642827660389123, -1.4831517966951513, -0.39828961293614407, 0.22927634606915795, 0.22238917753957502, 0.7686846529091509, 1.47119939628487, -1.556400814871271, -2.735284320598148, 0.07069490963218183, 0.23495848143046277, 1.9148595400160937, 0.6174926889282726, -1.4203144589579582, 1.1619629955318764, -0.5601347720040485, -0.6703767522970148, 0.17875077451214946, 0.08181724511550104, -0.3519235217399932, 1.3203913019856222, 1.8460431102673394, -0.14262827208374368, 0.6250080835386731, 1.9614289138545555, 0.4434327783663857, 1.6393596269936033, 1.530107027081265, 1.6215780684288195], \"xaxis\": \"x5\", \"y\": [0.22903146892060294, -1.0438839554806172, -0.4399526952827415, -0.4633382480861902, -1.5654877913797267, 1.2377698503523018, -0.007528301571093346, -0.7821574542974872, 0.1932979535681084, 0.16383400694923386, -0.10457958055017953, -0.5483224720829957, 0.3901467033850892, 0.8733391491473266, -1.8148002875494058, -0.0759623941349184, -1.5726465344150269, -0.6082787903749993, 0.3214224546316616, 0.4511156558335474, -0.2819159475893012, -0.03168586915965763, 0.4153575859846248, -0.8519307093778403, -0.18818870118555994, -1.4230368693782596, -1.1061437380428527, -0.4788898790879405, -0.30961021649646114, 0.826955287725046, 1.2056289154607636, -0.70084903580063, 0.8209283555060617, -0.5298851830413455, 0.1451874152781941, -1.5865763699281297, 1.6520160207008723, -0.6106005545270637, -0.4657338792251926, -1.613208567945061, -0.3358265022436321, -0.19539723810652976, -0.10857198778945001, -0.5686738836571239, 0.026700284464226395, 0.060562223568401255, -1.322550194123688, -1.1478889418544014, -0.6747492167943674, 1.4978851912884552, -0.8144161797427335, -0.6614153305732594, -1.9119357727283888, -1.164014883430049, 0.5595234352487303, 0.108328681661955, -0.9706109249546176, 0.47099451136202414, 0.9089019866312754, -0.4955207283130792, -1.125571044511677, -1.259705874458263, 0.9499971437675632, -1.0807709308166202, 0.3365070500166459, 1.2321842350594938, -1.4903302832650034, 0.3514723761902005, 0.08623718249227429, -0.20931093736104614, -0.9741715973174373, -0.5308998848264274, -2.410083026327852, -0.1899938700628958, 1.7683431358180248, -0.47597742609579835, -0.0013692778474197807, -3.381411728787464, 0.2096704289056021, 0.017403841169861784, 0.40583638946018025, -0.6750001314794015, 0.15150861459613177, 0.17204801196444056, 1.2690154822774866, -2.289782485465693, -0.12230747952833376, -1.2401555231539811, 0.6775438389699542, 0.748663635094293, -1.0291210942321232, 0.11491042839811323, 0.6149875024612116, -0.6752388716699234, -1.0210089048464344, -1.306395759730055, -0.8897696845214655, 1.9783178499112062, 0.7937356305287727, -0.30826255509155437], \"yaxis\": \"y5\"}, {\"histfunc\": \"count\", \"histnorm\": \"\", \"marker\": {\"color\": \"rgba(55, 128, 191, 1.0)\", \"line\": {\"color\": \"#4D5663\", \"width\": 1.3}}, \"name\": \"B\", \"nbinsx\": 10, \"opacity\": 0.8, \"orientation\": \"v\", \"type\": \"histogram\", \"x\": [0.22903146892060294, -1.0438839554806172, -0.4399526952827415, -0.4633382480861902, -1.5654877913797267, 1.2377698503523018, -0.007528301571093346, -0.7821574542974872, 0.1932979535681084, 0.16383400694923386, -0.10457958055017953, -0.5483224720829957, 0.3901467033850892, 0.8733391491473266, -1.8148002875494058, -0.0759623941349184, -1.5726465344150269, -0.6082787903749993, 0.3214224546316616, 0.4511156558335474, -0.2819159475893012, -0.03168586915965763, 0.4153575859846248, -0.8519307093778403, -0.18818870118555994, -1.4230368693782596, -1.1061437380428527, -0.4788898790879405, -0.30961021649646114, 0.826955287725046, 1.2056289154607636, -0.70084903580063, 0.8209283555060617, -0.5298851830413455, 0.1451874152781941, -1.5865763699281297, 1.6520160207008723, -0.6106005545270637, -0.4657338792251926, -1.613208567945061, -0.3358265022436321, -0.19539723810652976, -0.10857198778945001, -0.5686738836571239, 0.026700284464226395, 0.060562223568401255, -1.322550194123688, -1.1478889418544014, -0.6747492167943674, 1.4978851912884552, -0.8144161797427335, -0.6614153305732594, -1.9119357727283888, -1.164014883430049, 0.5595234352487303, 0.108328681661955, -0.9706109249546176, 0.47099451136202414, 0.9089019866312754, -0.4955207283130792, -1.125571044511677, -1.259705874458263, 0.9499971437675632, -1.0807709308166202, 0.3365070500166459, 1.2321842350594938, -1.4903302832650034, 0.3514723761902005, 0.08623718249227429, -0.20931093736104614, -0.9741715973174373, -0.5308998848264274, -2.410083026327852, -0.1899938700628958, 1.7683431358180248, -0.47597742609579835, -0.0013692778474197807, -3.381411728787464, 0.2096704289056021, 0.017403841169861784, 0.40583638946018025, -0.6750001314794015, 0.15150861459613177, 0.17204801196444056, 1.2690154822774866, -2.289782485465693, -0.12230747952833376, -1.2401555231539811, 0.6775438389699542, 0.748663635094293, -1.0291210942321232, 0.11491042839811323, 0.6149875024612116, -0.6752388716699234, -1.0210089048464344, -1.306395759730055, -0.8897696845214655, 1.9783178499112062, 0.7937356305287727, -0.30826255509155437], \"xaxis\": \"x6\", \"yaxis\": \"y6\"}, {\"line\": {\"color\": \"rgba(128, 128, 128, 1.0)\", \"dash\": \"solid\", \"shape\": \"linear\", \"width\": 1.3}, \"marker\": {\"size\": 2, \"symbol\": \"circle\"}, \"mode\": \"markers\", \"name\": \"B\", \"text\": \"\", \"type\": \"scatter\", \"x\": [0.4629650831240414, 1.2432135481517856, 0.8099501451062239, 0.1382476099400311, -0.5154026319412417, 0.01871441788108343, -0.011318421257373985, 0.8997367977141505, 0.19798817852148798, 1.227914769137976, 1.7379485580258134, 0.42892217420970613, 0.20340147554498844, 0.24971057903503524, 0.06972433460899556, 1.189275642338663, -0.11289626706206705, 0.5600001985476502, 2.159603991817565, 0.685760780652771, -0.13250937465100862, -1.0005898298079836, -0.5455463179941619, -0.6634397282942427, -1.172793974038636, -0.6146863592524869, 1.2545117087633786, 1.810225976194417, -1.6180670620973294, 0.8020135407322048, -0.8890970478686254, 0.06499422027038193, 0.6670990117028622, 1.7356490282523986, 0.796747636969668, -2.426433187651039, -0.656971298519989, -0.8018771380965526, 0.3501239459155337, 0.5104044537718762, -1.0626969165902538, 0.27587906239094884, 0.461427426694262, 0.8642141071263638, -1.1368633104424197, 0.23571352299260587, -1.41147913150561, 0.18487560219439148, 0.2942054281917523, -1.000566948724494, -0.015567094312226748, 1.908929042016413, 0.1425737823223032, 0.19401535413460727, 0.4442046417314635, 0.00027377006526494086, -0.4755280280667671, -0.753897728358789, 0.3659206700685624, -0.5330363161499501, 0.6382566330246041, -0.456307183670805, 0.7546581512841992, 0.1482526872460123, -1.7531740846115724, 1.4595558264664916, -0.8787601291928155, -0.21027015241269978, -1.1150046643876077, 0.3863476148840286, -0.942987481816664, -0.34967426195611645, -0.3364368063222968, 0.8356096134435225, -0.27623845964780536, -0.6396679427505394, -0.0783000050386576, 1.2773351946961333, 1.5080473538185435, -2.208762143527387, -0.05426234264447516, -1.6212717242738082, -1.226652303134024, 0.05891595576367844, -0.05054948629707698, 1.9624210131288033, -2.120294151184495, 0.7015974550860965, 0.6995976037822227, 0.515724084571619, -2.0381566520932117, 0.41526417456896164, -0.8962651149784191, 0.41889656387466795, 0.010619121916224918, -1.1723343112708058, 0.641977470437457, 0.7040460415157107, 0.8865903399240732, 1.1036104791548647], \"xaxis\": \"x7\", \"y\": [0.22903146892060294, -1.0438839554806172, -0.4399526952827415, -0.4633382480861902, -1.5654877913797267, 1.2377698503523018, -0.007528301571093346, -0.7821574542974872, 0.1932979535681084, 0.16383400694923386, -0.10457958055017953, -0.5483224720829957, 0.3901467033850892, 0.8733391491473266, -1.8148002875494058, -0.0759623941349184, -1.5726465344150269, -0.6082787903749993, 0.3214224546316616, 0.4511156558335474, -0.2819159475893012, -0.03168586915965763, 0.4153575859846248, -0.8519307093778403, -0.18818870118555994, -1.4230368693782596, -1.1061437380428527, -0.4788898790879405, -0.30961021649646114, 0.826955287725046, 1.2056289154607636, -0.70084903580063, 0.8209283555060617, -0.5298851830413455, 0.1451874152781941, -1.5865763699281297, 1.6520160207008723, -0.6106005545270637, -0.4657338792251926, -1.613208567945061, -0.3358265022436321, -0.19539723810652976, -0.10857198778945001, -0.5686738836571239, 0.026700284464226395, 0.060562223568401255, -1.322550194123688, -1.1478889418544014, -0.6747492167943674, 1.4978851912884552, -0.8144161797427335, -0.6614153305732594, -1.9119357727283888, -1.164014883430049, 0.5595234352487303, 0.108328681661955, -0.9706109249546176, 0.47099451136202414, 0.9089019866312754, -0.4955207283130792, -1.125571044511677, -1.259705874458263, 0.9499971437675632, -1.0807709308166202, 0.3365070500166459, 1.2321842350594938, -1.4903302832650034, 0.3514723761902005, 0.08623718249227429, -0.20931093736104614, -0.9741715973174373, -0.5308998848264274, -2.410083026327852, -0.1899938700628958, 1.7683431358180248, -0.47597742609579835, -0.0013692778474197807, -3.381411728787464, 0.2096704289056021, 0.017403841169861784, 0.40583638946018025, -0.6750001314794015, 0.15150861459613177, 0.17204801196444056, 1.2690154822774866, -2.289782485465693, -0.12230747952833376, -1.2401555231539811, 0.6775438389699542, 0.748663635094293, -1.0291210942321232, 0.11491042839811323, 0.6149875024612116, -0.6752388716699234, -1.0210089048464344, -1.306395759730055, -0.8897696845214655, 1.9783178499112062, 0.7937356305287727, -0.30826255509155437], \"yaxis\": \"y7\"}, {\"line\": {\"color\": \"rgba(128, 128, 128, 1.0)\", \"dash\": \"solid\", \"shape\": \"linear\", \"width\": 1.3}, \"marker\": {\"size\": 2, \"symbol\": \"circle\"}, \"mode\": \"markers\", \"name\": \"B\", \"text\": \"\", \"type\": \"scatter\", \"x\": [0.9566340233601011, 0.9752272371596018, 0.25471208094517367, -1.0158218101622745, -0.7924648542306763, 0.7775073536253685, 1.2574604453562042, -0.20964870966875607, -0.5223766524406891, 0.2259491847170473, 0.8248538895184206, 0.016758077526463154, 0.10902216804538557, 0.6085067436935758, 1.6450800144915723, 0.8931981539250716, -0.707115356082297, 1.4335819766153604, -0.07759183971276323, 0.33856225002590273, 0.42494473618377954, -0.17429113846586008, 1.2830742049278938, 0.04828345934486168, -1.926854629040082, -0.7407755453742538, 0.7450775444959586, -0.1026061368346683, -0.6484475929036851, 0.06855889332908584, 1.0370374221687333, 0.1903577292058355, -1.511700688298228, 1.0838177472206347, 0.3744087968016041, -1.1581106007843722, -0.10453278472917485, 1.8510861077664962, -0.4791729085079475, -0.5198683639209097, -0.7108458765342246, -0.0950606313776447, -0.0074793868710777865, 1.0488371002415722, -0.6548033323991714, 1.5415408526071412, 0.3297099786353898, 1.5826209575514578, -0.08170373012353173, -0.2835283525681258, 0.050642186363222576, -0.25565790851061854, -0.7436769775209057, -0.09523811959144006, 0.7969184138199794, 0.7470827570769997, 0.643725350756142, -0.7096267509235492, -0.15009894781844454, -0.5256163440059519, 0.27285854740684506, 0.009462526147125042, 1.142522392174448, 0.4470300709007983, 0.9967991099106255, 1.9529853143703666, -0.44701697188847445, -0.19647652959445977, -0.1407605351294186, -1.5675485404685603, -0.49721091509735466, -1.7258348142557858, 0.14462048078221715, -0.5063664861687264, -0.3754047448975229, 0.04381885963561633, 0.6718516491664974, -1.5852399213846535, 0.1393045043335795, 0.3531536136556921, -1.1029780003070717, 0.7401808660652972, -1.59837780916017, -1.1697883199556967, 1.2480958704889384, 0.2580986750086237, -0.25369440869036197, -1.413927021948406, 0.334800615143296, 2.3825514581378022, 0.08092257910546233, -0.32631159055221765, -1.6778982215163736, -1.246575379630572, 0.5421789496873197, -0.7136285780807672, -0.41477094917710483, -1.204218540974015, 1.2002265721424572, 0.16760124103241722], \"xaxis\": \"x8\", \"y\": [0.22903146892060294, -1.0438839554806172, -0.4399526952827415, -0.4633382480861902, -1.5654877913797267, 1.2377698503523018, -0.007528301571093346, -0.7821574542974872, 0.1932979535681084, 0.16383400694923386, -0.10457958055017953, -0.5483224720829957, 0.3901467033850892, 0.8733391491473266, -1.8148002875494058, -0.0759623941349184, -1.5726465344150269, -0.6082787903749993, 0.3214224546316616, 0.4511156558335474, -0.2819159475893012, -0.03168586915965763, 0.4153575859846248, -0.8519307093778403, -0.18818870118555994, -1.4230368693782596, -1.1061437380428527, -0.4788898790879405, -0.30961021649646114, 0.826955287725046, 1.2056289154607636, -0.70084903580063, 0.8209283555060617, -0.5298851830413455, 0.1451874152781941, -1.5865763699281297, 1.6520160207008723, -0.6106005545270637, -0.4657338792251926, -1.613208567945061, -0.3358265022436321, -0.19539723810652976, -0.10857198778945001, -0.5686738836571239, 0.026700284464226395, 0.060562223568401255, -1.322550194123688, -1.1478889418544014, -0.6747492167943674, 1.4978851912884552, -0.8144161797427335, -0.6614153305732594, -1.9119357727283888, -1.164014883430049, 0.5595234352487303, 0.108328681661955, -0.9706109249546176, 0.47099451136202414, 0.9089019866312754, -0.4955207283130792, -1.125571044511677, -1.259705874458263, 0.9499971437675632, -1.0807709308166202, 0.3365070500166459, 1.2321842350594938, -1.4903302832650034, 0.3514723761902005, 0.08623718249227429, -0.20931093736104614, -0.9741715973174373, -0.5308998848264274, -2.410083026327852, -0.1899938700628958, 1.7683431358180248, -0.47597742609579835, -0.0013692778474197807, -3.381411728787464, 0.2096704289056021, 0.017403841169861784, 0.40583638946018025, -0.6750001314794015, 0.15150861459613177, 0.17204801196444056, 1.2690154822774866, -2.289782485465693, -0.12230747952833376, -1.2401555231539811, 0.6775438389699542, 0.748663635094293, -1.0291210942321232, 0.11491042839811323, 0.6149875024612116, -0.6752388716699234, -1.0210089048464344, -1.306395759730055, -0.8897696845214655, 1.9783178499112062, 0.7937356305287727, -0.30826255509155437], \"yaxis\": \"y8\"}, {\"line\": {\"color\": \"rgba(128, 128, 128, 1.0)\", \"dash\": \"solid\", \"shape\": \"linear\", \"width\": 1.3}, \"marker\": {\"size\": 2, \"symbol\": \"circle\"}, \"mode\": \"markers\", \"name\": \"C\", \"text\": \"\", \"type\": \"scatter\", \"x\": [0.5559244215996016, 0.16531247499681323, -0.8101100169139632, -1.3974320065743162, 1.6136174804983556, -0.3211925649236798, -0.3708134451358885, 0.7768683958236318, 0.9185436802928186, 1.2762372604361978, 0.4127563834151255, -0.9193064276735416, -1.5395019336205855, -0.5305376223271864, -0.9903403728567307, 0.14647506819357678, -0.1763519726139724, 0.36008109401573163, -0.3176404768055409, -0.19412325558431157, -0.0904221223832305, -0.5945023504586406, -0.03895869264617371, 0.5901436910604915, -0.7996642304747691, 1.0301076261885471, 0.9621354965051399, 0.30578234381497704, -0.724902498511663, -0.21758223505728244, 0.32225672399278027, 0.16816746481521705, -0.3052736668837778, -0.3751381721108554, 0.827811394916156, -1.1823153331521996, 0.05309296545930296, 0.7949550338463784, 0.009844956835440979, -0.421073670238091, -0.9065419444857088, 0.5772849324123647, -2.0877670198322047, 1.3868161621120656, -0.702588197611849, 0.162538412371124, -0.003047648967196274, 0.18507428698394549, -0.2390219605970498, 0.07847295052663021, -0.246121472387244, 0.7798289383401936, 1.4968068545020095, -0.7877805920356816, -1.126634990257943, 0.11719360333798196, -1.5602947784857861, 1.298860409475295, -1.8056312905844059, 1.1832197109271312, 1.4331767165642602, -0.2911593460243957, 0.1574901335703895, 0.06854985942307727, 1.4231140740707144, -2.04463937159396, -1.8251943251991503, 0.14962534578078765, 0.0813071065438157, -1.0863368122861674, 0.9565864600231273, 0.6642827660389123, -1.4831517966951513, -0.39828961293614407, 0.22927634606915795, 0.22238917753957502, 0.7686846529091509, 1.47119939628487, -1.556400814871271, -2.735284320598148, 0.07069490963218183, 0.23495848143046277, 1.9148595400160937, 0.6174926889282726, -1.4203144589579582, 1.1619629955318764, -0.5601347720040485, -0.6703767522970148, 0.17875077451214946, 0.08181724511550104, -0.3519235217399932, 1.3203913019856222, 1.8460431102673394, -0.14262827208374368, 0.6250080835386731, 1.9614289138545555, 0.4434327783663857, 1.6393596269936033, 1.530107027081265, 1.6215780684288195], \"xaxis\": \"x9\", \"y\": [0.4629650831240414, 1.2432135481517856, 0.8099501451062239, 0.1382476099400311, -0.5154026319412417, 0.01871441788108343, -0.011318421257373985, 0.8997367977141505, 0.19798817852148798, 1.227914769137976, 1.7379485580258134, 0.42892217420970613, 0.20340147554498844, 0.24971057903503524, 0.06972433460899556, 1.189275642338663, -0.11289626706206705, 0.5600001985476502, 2.159603991817565, 0.685760780652771, -0.13250937465100862, -1.0005898298079836, -0.5455463179941619, -0.6634397282942427, -1.172793974038636, -0.6146863592524869, 1.2545117087633786, 1.810225976194417, -1.6180670620973294, 0.8020135407322048, -0.8890970478686254, 0.06499422027038193, 0.6670990117028622, 1.7356490282523986, 0.796747636969668, -2.426433187651039, -0.656971298519989, -0.8018771380965526, 0.3501239459155337, 0.5104044537718762, -1.0626969165902538, 0.27587906239094884, 0.461427426694262, 0.8642141071263638, -1.1368633104424197, 0.23571352299260587, -1.41147913150561, 0.18487560219439148, 0.2942054281917523, -1.000566948724494, -0.015567094312226748, 1.908929042016413, 0.1425737823223032, 0.19401535413460727, 0.4442046417314635, 0.00027377006526494086, -0.4755280280667671, -0.753897728358789, 0.3659206700685624, -0.5330363161499501, 0.6382566330246041, -0.456307183670805, 0.7546581512841992, 0.1482526872460123, -1.7531740846115724, 1.4595558264664916, -0.8787601291928155, -0.21027015241269978, -1.1150046643876077, 0.3863476148840286, -0.942987481816664, -0.34967426195611645, -0.3364368063222968, 0.8356096134435225, -0.27623845964780536, -0.6396679427505394, -0.0783000050386576, 1.2773351946961333, 1.5080473538185435, -2.208762143527387, -0.05426234264447516, -1.6212717242738082, -1.226652303134024, 0.05891595576367844, -0.05054948629707698, 1.9624210131288033, -2.120294151184495, 0.7015974550860965, 0.6995976037822227, 0.515724084571619, -2.0381566520932117, 0.41526417456896164, -0.8962651149784191, 0.41889656387466795, 0.010619121916224918, -1.1723343112708058, 0.641977470437457, 0.7040460415157107, 0.8865903399240732, 1.1036104791548647], \"yaxis\": \"y9\"}, {\"line\": {\"color\": \"rgba(128, 128, 128, 1.0)\", \"dash\": \"solid\", \"shape\": \"linear\", \"width\": 1.3}, \"marker\": {\"size\": 2, \"symbol\": \"circle\"}, \"mode\": \"markers\", \"name\": \"C\", \"text\": \"\", \"type\": \"scatter\", \"x\": [0.22903146892060294, -1.0438839554806172, -0.4399526952827415, -0.4633382480861902, -1.5654877913797267, 1.2377698503523018, -0.007528301571093346, -0.7821574542974872, 0.1932979535681084, 0.16383400694923386, -0.10457958055017953, -0.5483224720829957, 0.3901467033850892, 0.8733391491473266, -1.8148002875494058, -0.0759623941349184, -1.5726465344150269, -0.6082787903749993, 0.3214224546316616, 0.4511156558335474, -0.2819159475893012, -0.03168586915965763, 0.4153575859846248, -0.8519307093778403, -0.18818870118555994, -1.4230368693782596, -1.1061437380428527, -0.4788898790879405, -0.30961021649646114, 0.826955287725046, 1.2056289154607636, -0.70084903580063, 0.8209283555060617, -0.5298851830413455, 0.1451874152781941, -1.5865763699281297, 1.6520160207008723, -0.6106005545270637, -0.4657338792251926, -1.613208567945061, -0.3358265022436321, -0.19539723810652976, -0.10857198778945001, -0.5686738836571239, 0.026700284464226395, 0.060562223568401255, -1.322550194123688, -1.1478889418544014, -0.6747492167943674, 1.4978851912884552, -0.8144161797427335, -0.6614153305732594, -1.9119357727283888, -1.164014883430049, 0.5595234352487303, 0.108328681661955, -0.9706109249546176, 0.47099451136202414, 0.9089019866312754, -0.4955207283130792, -1.125571044511677, -1.259705874458263, 0.9499971437675632, -1.0807709308166202, 0.3365070500166459, 1.2321842350594938, -1.4903302832650034, 0.3514723761902005, 0.08623718249227429, -0.20931093736104614, -0.9741715973174373, -0.5308998848264274, -2.410083026327852, -0.1899938700628958, 1.7683431358180248, -0.47597742609579835, -0.0013692778474197807, -3.381411728787464, 0.2096704289056021, 0.017403841169861784, 0.40583638946018025, -0.6750001314794015, 0.15150861459613177, 0.17204801196444056, 1.2690154822774866, -2.289782485465693, -0.12230747952833376, -1.2401555231539811, 0.6775438389699542, 0.748663635094293, -1.0291210942321232, 0.11491042839811323, 0.6149875024612116, -0.6752388716699234, -1.0210089048464344, -1.306395759730055, -0.8897696845214655, 1.9783178499112062, 0.7937356305287727, -0.30826255509155437], \"xaxis\": \"x10\", \"y\": [0.4629650831240414, 1.2432135481517856, 0.8099501451062239, 0.1382476099400311, -0.5154026319412417, 0.01871441788108343, -0.011318421257373985, 0.8997367977141505, 0.19798817852148798, 1.227914769137976, 1.7379485580258134, 0.42892217420970613, 0.20340147554498844, 0.24971057903503524, 0.06972433460899556, 1.189275642338663, -0.11289626706206705, 0.5600001985476502, 2.159603991817565, 0.685760780652771, -0.13250937465100862, -1.0005898298079836, -0.5455463179941619, -0.6634397282942427, -1.172793974038636, -0.6146863592524869, 1.2545117087633786, 1.810225976194417, -1.6180670620973294, 0.8020135407322048, -0.8890970478686254, 0.06499422027038193, 0.6670990117028622, 1.7356490282523986, 0.796747636969668, -2.426433187651039, -0.656971298519989, -0.8018771380965526, 0.3501239459155337, 0.5104044537718762, -1.0626969165902538, 0.27587906239094884, 0.461427426694262, 0.8642141071263638, -1.1368633104424197, 0.23571352299260587, -1.41147913150561, 0.18487560219439148, 0.2942054281917523, -1.000566948724494, -0.015567094312226748, 1.908929042016413, 0.1425737823223032, 0.19401535413460727, 0.4442046417314635, 0.00027377006526494086, -0.4755280280667671, -0.753897728358789, 0.3659206700685624, -0.5330363161499501, 0.6382566330246041, -0.456307183670805, 0.7546581512841992, 0.1482526872460123, -1.7531740846115724, 1.4595558264664916, -0.8787601291928155, -0.21027015241269978, -1.1150046643876077, 0.3863476148840286, -0.942987481816664, -0.34967426195611645, -0.3364368063222968, 0.8356096134435225, -0.27623845964780536, -0.6396679427505394, -0.0783000050386576, 1.2773351946961333, 1.5080473538185435, -2.208762143527387, -0.05426234264447516, -1.6212717242738082, -1.226652303134024, 0.05891595576367844, -0.05054948629707698, 1.9624210131288033, -2.120294151184495, 0.7015974550860965, 0.6995976037822227, 0.515724084571619, -2.0381566520932117, 0.41526417456896164, -0.8962651149784191, 0.41889656387466795, 0.010619121916224918, -1.1723343112708058, 0.641977470437457, 0.7040460415157107, 0.8865903399240732, 1.1036104791548647], \"yaxis\": \"y10\"}, {\"histfunc\": \"count\", \"histnorm\": \"\", \"marker\": {\"color\": \"rgba(50, 171, 96, 1.0)\", \"line\": {\"color\": \"#4D5663\", \"width\": 1.3}}, \"name\": \"C\", \"nbinsx\": 10, \"opacity\": 0.8, \"orientation\": \"v\", \"type\": \"histogram\", \"x\": [0.4629650831240414, 1.2432135481517856, 0.8099501451062239, 0.1382476099400311, -0.5154026319412417, 0.01871441788108343, -0.011318421257373985, 0.8997367977141505, 0.19798817852148798, 1.227914769137976, 1.7379485580258134, 0.42892217420970613, 0.20340147554498844, 0.24971057903503524, 0.06972433460899556, 1.189275642338663, -0.11289626706206705, 0.5600001985476502, 2.159603991817565, 0.685760780652771, -0.13250937465100862, -1.0005898298079836, -0.5455463179941619, -0.6634397282942427, -1.172793974038636, -0.6146863592524869, 1.2545117087633786, 1.810225976194417, -1.6180670620973294, 0.8020135407322048, -0.8890970478686254, 0.06499422027038193, 0.6670990117028622, 1.7356490282523986, 0.796747636969668, -2.426433187651039, -0.656971298519989, -0.8018771380965526, 0.3501239459155337, 0.5104044537718762, -1.0626969165902538, 0.27587906239094884, 0.461427426694262, 0.8642141071263638, -1.1368633104424197, 0.23571352299260587, -1.41147913150561, 0.18487560219439148, 0.2942054281917523, -1.000566948724494, -0.015567094312226748, 1.908929042016413, 0.1425737823223032, 0.19401535413460727, 0.4442046417314635, 0.00027377006526494086, -0.4755280280667671, -0.753897728358789, 0.3659206700685624, -0.5330363161499501, 0.6382566330246041, -0.456307183670805, 0.7546581512841992, 0.1482526872460123, -1.7531740846115724, 1.4595558264664916, -0.8787601291928155, -0.21027015241269978, -1.1150046643876077, 0.3863476148840286, -0.942987481816664, -0.34967426195611645, -0.3364368063222968, 0.8356096134435225, -0.27623845964780536, -0.6396679427505394, -0.0783000050386576, 1.2773351946961333, 1.5080473538185435, -2.208762143527387, -0.05426234264447516, -1.6212717242738082, -1.226652303134024, 0.05891595576367844, -0.05054948629707698, 1.9624210131288033, -2.120294151184495, 0.7015974550860965, 0.6995976037822227, 0.515724084571619, -2.0381566520932117, 0.41526417456896164, -0.8962651149784191, 0.41889656387466795, 0.010619121916224918, -1.1723343112708058, 0.641977470437457, 0.7040460415157107, 0.8865903399240732, 1.1036104791548647], \"xaxis\": \"x11\", \"yaxis\": \"y11\"}, {\"line\": {\"color\": \"rgba(128, 128, 128, 1.0)\", \"dash\": \"solid\", \"shape\": \"linear\", \"width\": 1.3}, \"marker\": {\"size\": 2, \"symbol\": \"circle\"}, \"mode\": \"markers\", \"name\": \"C\", \"text\": \"\", \"type\": \"scatter\", \"x\": [0.9566340233601011, 0.9752272371596018, 0.25471208094517367, -1.0158218101622745, -0.7924648542306763, 0.7775073536253685, 1.2574604453562042, -0.20964870966875607, -0.5223766524406891, 0.2259491847170473, 0.8248538895184206, 0.016758077526463154, 0.10902216804538557, 0.6085067436935758, 1.6450800144915723, 0.8931981539250716, -0.707115356082297, 1.4335819766153604, -0.07759183971276323, 0.33856225002590273, 0.42494473618377954, -0.17429113846586008, 1.2830742049278938, 0.04828345934486168, -1.926854629040082, -0.7407755453742538, 0.7450775444959586, -0.1026061368346683, -0.6484475929036851, 0.06855889332908584, 1.0370374221687333, 0.1903577292058355, -1.511700688298228, 1.0838177472206347, 0.3744087968016041, -1.1581106007843722, -0.10453278472917485, 1.8510861077664962, -0.4791729085079475, -0.5198683639209097, -0.7108458765342246, -0.0950606313776447, -0.0074793868710777865, 1.0488371002415722, -0.6548033323991714, 1.5415408526071412, 0.3297099786353898, 1.5826209575514578, -0.08170373012353173, -0.2835283525681258, 0.050642186363222576, -0.25565790851061854, -0.7436769775209057, -0.09523811959144006, 0.7969184138199794, 0.7470827570769997, 0.643725350756142, -0.7096267509235492, -0.15009894781844454, -0.5256163440059519, 0.27285854740684506, 0.009462526147125042, 1.142522392174448, 0.4470300709007983, 0.9967991099106255, 1.9529853143703666, -0.44701697188847445, -0.19647652959445977, -0.1407605351294186, -1.5675485404685603, -0.49721091509735466, -1.7258348142557858, 0.14462048078221715, -0.5063664861687264, -0.3754047448975229, 0.04381885963561633, 0.6718516491664974, -1.5852399213846535, 0.1393045043335795, 0.3531536136556921, -1.1029780003070717, 0.7401808660652972, -1.59837780916017, -1.1697883199556967, 1.2480958704889384, 0.2580986750086237, -0.25369440869036197, -1.413927021948406, 0.334800615143296, 2.3825514581378022, 0.08092257910546233, -0.32631159055221765, -1.6778982215163736, -1.246575379630572, 0.5421789496873197, -0.7136285780807672, -0.41477094917710483, -1.204218540974015, 1.2002265721424572, 0.16760124103241722], \"xaxis\": \"x12\", \"y\": [0.4629650831240414, 1.2432135481517856, 0.8099501451062239, 0.1382476099400311, -0.5154026319412417, 0.01871441788108343, -0.011318421257373985, 0.8997367977141505, 0.19798817852148798, 1.227914769137976, 1.7379485580258134, 0.42892217420970613, 0.20340147554498844, 0.24971057903503524, 0.06972433460899556, 1.189275642338663, -0.11289626706206705, 0.5600001985476502, 2.159603991817565, 0.685760780652771, -0.13250937465100862, -1.0005898298079836, -0.5455463179941619, -0.6634397282942427, -1.172793974038636, -0.6146863592524869, 1.2545117087633786, 1.810225976194417, -1.6180670620973294, 0.8020135407322048, -0.8890970478686254, 0.06499422027038193, 0.6670990117028622, 1.7356490282523986, 0.796747636969668, -2.426433187651039, -0.656971298519989, -0.8018771380965526, 0.3501239459155337, 0.5104044537718762, -1.0626969165902538, 0.27587906239094884, 0.461427426694262, 0.8642141071263638, -1.1368633104424197, 0.23571352299260587, -1.41147913150561, 0.18487560219439148, 0.2942054281917523, -1.000566948724494, -0.015567094312226748, 1.908929042016413, 0.1425737823223032, 0.19401535413460727, 0.4442046417314635, 0.00027377006526494086, -0.4755280280667671, -0.753897728358789, 0.3659206700685624, -0.5330363161499501, 0.6382566330246041, -0.456307183670805, 0.7546581512841992, 0.1482526872460123, -1.7531740846115724, 1.4595558264664916, -0.8787601291928155, -0.21027015241269978, -1.1150046643876077, 0.3863476148840286, -0.942987481816664, -0.34967426195611645, -0.3364368063222968, 0.8356096134435225, -0.27623845964780536, -0.6396679427505394, -0.0783000050386576, 1.2773351946961333, 1.5080473538185435, -2.208762143527387, -0.05426234264447516, -1.6212717242738082, -1.226652303134024, 0.05891595576367844, -0.05054948629707698, 1.9624210131288033, -2.120294151184495, 0.7015974550860965, 0.6995976037822227, 0.515724084571619, -2.0381566520932117, 0.41526417456896164, -0.8962651149784191, 0.41889656387466795, 0.010619121916224918, -1.1723343112708058, 0.641977470437457, 0.7040460415157107, 0.8865903399240732, 1.1036104791548647], \"yaxis\": \"y12\"}, {\"line\": {\"color\": \"rgba(128, 128, 128, 1.0)\", \"dash\": \"solid\", \"shape\": \"linear\", \"width\": 1.3}, \"marker\": {\"size\": 2, \"symbol\": \"circle\"}, \"mode\": \"markers\", \"name\": \"D\", \"text\": \"\", \"type\": \"scatter\", \"x\": [0.5559244215996016, 0.16531247499681323, -0.8101100169139632, -1.3974320065743162, 1.6136174804983556, -0.3211925649236798, -0.3708134451358885, 0.7768683958236318, 0.9185436802928186, 1.2762372604361978, 0.4127563834151255, -0.9193064276735416, -1.5395019336205855, -0.5305376223271864, -0.9903403728567307, 0.14647506819357678, -0.1763519726139724, 0.36008109401573163, -0.3176404768055409, -0.19412325558431157, -0.0904221223832305, -0.5945023504586406, -0.03895869264617371, 0.5901436910604915, -0.7996642304747691, 1.0301076261885471, 0.9621354965051399, 0.30578234381497704, -0.724902498511663, -0.21758223505728244, 0.32225672399278027, 0.16816746481521705, -0.3052736668837778, -0.3751381721108554, 0.827811394916156, -1.1823153331521996, 0.05309296545930296, 0.7949550338463784, 0.009844956835440979, -0.421073670238091, -0.9065419444857088, 0.5772849324123647, -2.0877670198322047, 1.3868161621120656, -0.702588197611849, 0.162538412371124, -0.003047648967196274, 0.18507428698394549, -0.2390219605970498, 0.07847295052663021, -0.246121472387244, 0.7798289383401936, 1.4968068545020095, -0.7877805920356816, -1.126634990257943, 0.11719360333798196, -1.5602947784857861, 1.298860409475295, -1.8056312905844059, 1.1832197109271312, 1.4331767165642602, -0.2911593460243957, 0.1574901335703895, 0.06854985942307727, 1.4231140740707144, -2.04463937159396, -1.8251943251991503, 0.14962534578078765, 0.0813071065438157, -1.0863368122861674, 0.9565864600231273, 0.6642827660389123, -1.4831517966951513, -0.39828961293614407, 0.22927634606915795, 0.22238917753957502, 0.7686846529091509, 1.47119939628487, -1.556400814871271, -2.735284320598148, 0.07069490963218183, 0.23495848143046277, 1.9148595400160937, 0.6174926889282726, -1.4203144589579582, 1.1619629955318764, -0.5601347720040485, -0.6703767522970148, 0.17875077451214946, 0.08181724511550104, -0.3519235217399932, 1.3203913019856222, 1.8460431102673394, -0.14262827208374368, 0.6250080835386731, 1.9614289138545555, 0.4434327783663857, 1.6393596269936033, 1.530107027081265, 1.6215780684288195], \"xaxis\": \"x13\", \"y\": [0.9566340233601011, 0.9752272371596018, 0.25471208094517367, -1.0158218101622745, -0.7924648542306763, 0.7775073536253685, 1.2574604453562042, -0.20964870966875607, -0.5223766524406891, 0.2259491847170473, 0.8248538895184206, 0.016758077526463154, 0.10902216804538557, 0.6085067436935758, 1.6450800144915723, 0.8931981539250716, -0.707115356082297, 1.4335819766153604, -0.07759183971276323, 0.33856225002590273, 0.42494473618377954, -0.17429113846586008, 1.2830742049278938, 0.04828345934486168, -1.926854629040082, -0.7407755453742538, 0.7450775444959586, -0.1026061368346683, -0.6484475929036851, 0.06855889332908584, 1.0370374221687333, 0.1903577292058355, -1.511700688298228, 1.0838177472206347, 0.3744087968016041, -1.1581106007843722, -0.10453278472917485, 1.8510861077664962, -0.4791729085079475, -0.5198683639209097, -0.7108458765342246, -0.0950606313776447, -0.0074793868710777865, 1.0488371002415722, -0.6548033323991714, 1.5415408526071412, 0.3297099786353898, 1.5826209575514578, -0.08170373012353173, -0.2835283525681258, 0.050642186363222576, -0.25565790851061854, -0.7436769775209057, -0.09523811959144006, 0.7969184138199794, 0.7470827570769997, 0.643725350756142, -0.7096267509235492, -0.15009894781844454, -0.5256163440059519, 0.27285854740684506, 0.009462526147125042, 1.142522392174448, 0.4470300709007983, 0.9967991099106255, 1.9529853143703666, -0.44701697188847445, -0.19647652959445977, -0.1407605351294186, -1.5675485404685603, -0.49721091509735466, -1.7258348142557858, 0.14462048078221715, -0.5063664861687264, -0.3754047448975229, 0.04381885963561633, 0.6718516491664974, -1.5852399213846535, 0.1393045043335795, 0.3531536136556921, -1.1029780003070717, 0.7401808660652972, -1.59837780916017, -1.1697883199556967, 1.2480958704889384, 0.2580986750086237, -0.25369440869036197, -1.413927021948406, 0.334800615143296, 2.3825514581378022, 0.08092257910546233, -0.32631159055221765, -1.6778982215163736, -1.246575379630572, 0.5421789496873197, -0.7136285780807672, -0.41477094917710483, -1.204218540974015, 1.2002265721424572, 0.16760124103241722], \"yaxis\": \"y13\"}, {\"line\": {\"color\": \"rgba(128, 128, 128, 1.0)\", \"dash\": \"solid\", \"shape\": \"linear\", \"width\": 1.3}, \"marker\": {\"size\": 2, \"symbol\": \"circle\"}, \"mode\": \"markers\", \"name\": \"D\", \"text\": \"\", \"type\": \"scatter\", \"x\": [0.22903146892060294, -1.0438839554806172, -0.4399526952827415, -0.4633382480861902, -1.5654877913797267, 1.2377698503523018, -0.007528301571093346, -0.7821574542974872, 0.1932979535681084, 0.16383400694923386, -0.10457958055017953, -0.5483224720829957, 0.3901467033850892, 0.8733391491473266, -1.8148002875494058, -0.0759623941349184, -1.5726465344150269, -0.6082787903749993, 0.3214224546316616, 0.4511156558335474, -0.2819159475893012, -0.03168586915965763, 0.4153575859846248, -0.8519307093778403, -0.18818870118555994, -1.4230368693782596, -1.1061437380428527, -0.4788898790879405, -0.30961021649646114, 0.826955287725046, 1.2056289154607636, -0.70084903580063, 0.8209283555060617, -0.5298851830413455, 0.1451874152781941, -1.5865763699281297, 1.6520160207008723, -0.6106005545270637, -0.4657338792251926, -1.613208567945061, -0.3358265022436321, -0.19539723810652976, -0.10857198778945001, -0.5686738836571239, 0.026700284464226395, 0.060562223568401255, -1.322550194123688, -1.1478889418544014, -0.6747492167943674, 1.4978851912884552, -0.8144161797427335, -0.6614153305732594, -1.9119357727283888, -1.164014883430049, 0.5595234352487303, 0.108328681661955, -0.9706109249546176, 0.47099451136202414, 0.9089019866312754, -0.4955207283130792, -1.125571044511677, -1.259705874458263, 0.9499971437675632, -1.0807709308166202, 0.3365070500166459, 1.2321842350594938, -1.4903302832650034, 0.3514723761902005, 0.08623718249227429, -0.20931093736104614, -0.9741715973174373, -0.5308998848264274, -2.410083026327852, -0.1899938700628958, 1.7683431358180248, -0.47597742609579835, -0.0013692778474197807, -3.381411728787464, 0.2096704289056021, 0.017403841169861784, 0.40583638946018025, -0.6750001314794015, 0.15150861459613177, 0.17204801196444056, 1.2690154822774866, -2.289782485465693, -0.12230747952833376, -1.2401555231539811, 0.6775438389699542, 0.748663635094293, -1.0291210942321232, 0.11491042839811323, 0.6149875024612116, -0.6752388716699234, -1.0210089048464344, -1.306395759730055, -0.8897696845214655, 1.9783178499112062, 0.7937356305287727, -0.30826255509155437], \"xaxis\": \"x14\", \"y\": [0.9566340233601011, 0.9752272371596018, 0.25471208094517367, -1.0158218101622745, -0.7924648542306763, 0.7775073536253685, 1.2574604453562042, -0.20964870966875607, -0.5223766524406891, 0.2259491847170473, 0.8248538895184206, 0.016758077526463154, 0.10902216804538557, 0.6085067436935758, 1.6450800144915723, 0.8931981539250716, -0.707115356082297, 1.4335819766153604, -0.07759183971276323, 0.33856225002590273, 0.42494473618377954, -0.17429113846586008, 1.2830742049278938, 0.04828345934486168, -1.926854629040082, -0.7407755453742538, 0.7450775444959586, -0.1026061368346683, -0.6484475929036851, 0.06855889332908584, 1.0370374221687333, 0.1903577292058355, -1.511700688298228, 1.0838177472206347, 0.3744087968016041, -1.1581106007843722, -0.10453278472917485, 1.8510861077664962, -0.4791729085079475, -0.5198683639209097, -0.7108458765342246, -0.0950606313776447, -0.0074793868710777865, 1.0488371002415722, -0.6548033323991714, 1.5415408526071412, 0.3297099786353898, 1.5826209575514578, -0.08170373012353173, -0.2835283525681258, 0.050642186363222576, -0.25565790851061854, -0.7436769775209057, -0.09523811959144006, 0.7969184138199794, 0.7470827570769997, 0.643725350756142, -0.7096267509235492, -0.15009894781844454, -0.5256163440059519, 0.27285854740684506, 0.009462526147125042, 1.142522392174448, 0.4470300709007983, 0.9967991099106255, 1.9529853143703666, -0.44701697188847445, -0.19647652959445977, -0.1407605351294186, -1.5675485404685603, -0.49721091509735466, -1.7258348142557858, 0.14462048078221715, -0.5063664861687264, -0.3754047448975229, 0.04381885963561633, 0.6718516491664974, -1.5852399213846535, 0.1393045043335795, 0.3531536136556921, -1.1029780003070717, 0.7401808660652972, -1.59837780916017, -1.1697883199556967, 1.2480958704889384, 0.2580986750086237, -0.25369440869036197, -1.413927021948406, 0.334800615143296, 2.3825514581378022, 0.08092257910546233, -0.32631159055221765, -1.6778982215163736, -1.246575379630572, 0.5421789496873197, -0.7136285780807672, -0.41477094917710483, -1.204218540974015, 1.2002265721424572, 0.16760124103241722], \"yaxis\": \"y14\"}, {\"line\": {\"color\": \"rgba(128, 128, 128, 1.0)\", \"dash\": \"solid\", \"shape\": \"linear\", \"width\": 1.3}, \"marker\": {\"size\": 2, \"symbol\": \"circle\"}, \"mode\": \"markers\", \"name\": \"D\", \"text\": \"\", \"type\": \"scatter\", \"x\": [0.4629650831240414, 1.2432135481517856, 0.8099501451062239, 0.1382476099400311, -0.5154026319412417, 0.01871441788108343, -0.011318421257373985, 0.8997367977141505, 0.19798817852148798, 1.227914769137976, 1.7379485580258134, 0.42892217420970613, 0.20340147554498844, 0.24971057903503524, 0.06972433460899556, 1.189275642338663, -0.11289626706206705, 0.5600001985476502, 2.159603991817565, 0.685760780652771, -0.13250937465100862, -1.0005898298079836, -0.5455463179941619, -0.6634397282942427, -1.172793974038636, -0.6146863592524869, 1.2545117087633786, 1.810225976194417, -1.6180670620973294, 0.8020135407322048, -0.8890970478686254, 0.06499422027038193, 0.6670990117028622, 1.7356490282523986, 0.796747636969668, -2.426433187651039, -0.656971298519989, -0.8018771380965526, 0.3501239459155337, 0.5104044537718762, -1.0626969165902538, 0.27587906239094884, 0.461427426694262, 0.8642141071263638, -1.1368633104424197, 0.23571352299260587, -1.41147913150561, 0.18487560219439148, 0.2942054281917523, -1.000566948724494, -0.015567094312226748, 1.908929042016413, 0.1425737823223032, 0.19401535413460727, 0.4442046417314635, 0.00027377006526494086, -0.4755280280667671, -0.753897728358789, 0.3659206700685624, -0.5330363161499501, 0.6382566330246041, -0.456307183670805, 0.7546581512841992, 0.1482526872460123, -1.7531740846115724, 1.4595558264664916, -0.8787601291928155, -0.21027015241269978, -1.1150046643876077, 0.3863476148840286, -0.942987481816664, -0.34967426195611645, -0.3364368063222968, 0.8356096134435225, -0.27623845964780536, -0.6396679427505394, -0.0783000050386576, 1.2773351946961333, 1.5080473538185435, -2.208762143527387, -0.05426234264447516, -1.6212717242738082, -1.226652303134024, 0.05891595576367844, -0.05054948629707698, 1.9624210131288033, -2.120294151184495, 0.7015974550860965, 0.6995976037822227, 0.515724084571619, -2.0381566520932117, 0.41526417456896164, -0.8962651149784191, 0.41889656387466795, 0.010619121916224918, -1.1723343112708058, 0.641977470437457, 0.7040460415157107, 0.8865903399240732, 1.1036104791548647], \"xaxis\": \"x15\", \"y\": [0.9566340233601011, 0.9752272371596018, 0.25471208094517367, -1.0158218101622745, -0.7924648542306763, 0.7775073536253685, 1.2574604453562042, -0.20964870966875607, -0.5223766524406891, 0.2259491847170473, 0.8248538895184206, 0.016758077526463154, 0.10902216804538557, 0.6085067436935758, 1.6450800144915723, 0.8931981539250716, -0.707115356082297, 1.4335819766153604, -0.07759183971276323, 0.33856225002590273, 0.42494473618377954, -0.17429113846586008, 1.2830742049278938, 0.04828345934486168, -1.926854629040082, -0.7407755453742538, 0.7450775444959586, -0.1026061368346683, -0.6484475929036851, 0.06855889332908584, 1.0370374221687333, 0.1903577292058355, -1.511700688298228, 1.0838177472206347, 0.3744087968016041, -1.1581106007843722, -0.10453278472917485, 1.8510861077664962, -0.4791729085079475, -0.5198683639209097, -0.7108458765342246, -0.0950606313776447, -0.0074793868710777865, 1.0488371002415722, -0.6548033323991714, 1.5415408526071412, 0.3297099786353898, 1.5826209575514578, -0.08170373012353173, -0.2835283525681258, 0.050642186363222576, -0.25565790851061854, -0.7436769775209057, -0.09523811959144006, 0.7969184138199794, 0.7470827570769997, 0.643725350756142, -0.7096267509235492, -0.15009894781844454, -0.5256163440059519, 0.27285854740684506, 0.009462526147125042, 1.142522392174448, 0.4470300709007983, 0.9967991099106255, 1.9529853143703666, -0.44701697188847445, -0.19647652959445977, -0.1407605351294186, -1.5675485404685603, -0.49721091509735466, -1.7258348142557858, 0.14462048078221715, -0.5063664861687264, -0.3754047448975229, 0.04381885963561633, 0.6718516491664974, -1.5852399213846535, 0.1393045043335795, 0.3531536136556921, -1.1029780003070717, 0.7401808660652972, -1.59837780916017, -1.1697883199556967, 1.2480958704889384, 0.2580986750086237, -0.25369440869036197, -1.413927021948406, 0.334800615143296, 2.3825514581378022, 0.08092257910546233, -0.32631159055221765, -1.6778982215163736, -1.246575379630572, 0.5421789496873197, -0.7136285780807672, -0.41477094917710483, -1.204218540974015, 1.2002265721424572, 0.16760124103241722], \"yaxis\": \"y15\"}, {\"histfunc\": \"count\", \"histnorm\": \"\", \"marker\": {\"color\": \"rgba(128, 0, 128, 1.0)\", \"line\": {\"color\": \"#4D5663\", \"width\": 1.3}}, \"name\": \"D\", \"nbinsx\": 10, \"opacity\": 0.8, \"orientation\": \"v\", \"type\": \"histogram\", \"x\": [0.9566340233601011, 0.9752272371596018, 0.25471208094517367, -1.0158218101622745, -0.7924648542306763, 0.7775073536253685, 1.2574604453562042, -0.20964870966875607, -0.5223766524406891, 0.2259491847170473, 0.8248538895184206, 0.016758077526463154, 0.10902216804538557, 0.6085067436935758, 1.6450800144915723, 0.8931981539250716, -0.707115356082297, 1.4335819766153604, -0.07759183971276323, 0.33856225002590273, 0.42494473618377954, -0.17429113846586008, 1.2830742049278938, 0.04828345934486168, -1.926854629040082, -0.7407755453742538, 0.7450775444959586, -0.1026061368346683, -0.6484475929036851, 0.06855889332908584, 1.0370374221687333, 0.1903577292058355, -1.511700688298228, 1.0838177472206347, 0.3744087968016041, -1.1581106007843722, -0.10453278472917485, 1.8510861077664962, -0.4791729085079475, -0.5198683639209097, -0.7108458765342246, -0.0950606313776447, -0.0074793868710777865, 1.0488371002415722, -0.6548033323991714, 1.5415408526071412, 0.3297099786353898, 1.5826209575514578, -0.08170373012353173, -0.2835283525681258, 0.050642186363222576, -0.25565790851061854, -0.7436769775209057, -0.09523811959144006, 0.7969184138199794, 0.7470827570769997, 0.643725350756142, -0.7096267509235492, -0.15009894781844454, -0.5256163440059519, 0.27285854740684506, 0.009462526147125042, 1.142522392174448, 0.4470300709007983, 0.9967991099106255, 1.9529853143703666, -0.44701697188847445, -0.19647652959445977, -0.1407605351294186, -1.5675485404685603, -0.49721091509735466, -1.7258348142557858, 0.14462048078221715, -0.5063664861687264, -0.3754047448975229, 0.04381885963561633, 0.6718516491664974, -1.5852399213846535, 0.1393045043335795, 0.3531536136556921, -1.1029780003070717, 0.7401808660652972, -1.59837780916017, -1.1697883199556967, 1.2480958704889384, 0.2580986750086237, -0.25369440869036197, -1.413927021948406, 0.334800615143296, 2.3825514581378022, 0.08092257910546233, -0.32631159055221765, -1.6778982215163736, -1.246575379630572, 0.5421789496873197, -0.7136285780807672, -0.41477094917710483, -1.204218540974015, 1.2002265721424572, 0.16760124103241722], \"xaxis\": \"x16\", \"yaxis\": \"y16\"}],                        {\"bargap\": 0.02, \"legend\": {\"bgcolor\": \"#F5F6F9\", \"font\": {\"color\": \"#4D5663\"}}, \"paper_bgcolor\": \"#F5F6F9\", \"plot_bgcolor\": \"#F5F6F9\", \"showlegend\": false, \"template\": {\"data\": {\"bar\": [{\"error_x\": {\"color\": \"#2a3f5f\"}, \"error_y\": {\"color\": \"#2a3f5f\"}, \"marker\": {\"line\": {\"color\": \"#E5ECF6\", \"width\": 0.5}}, \"type\": \"bar\"}], \"barpolar\": [{\"marker\": {\"line\": {\"color\": \"#E5ECF6\", \"width\": 0.5}}, \"type\": \"barpolar\"}], \"carpet\": [{\"aaxis\": {\"endlinecolor\": \"#2a3f5f\", \"gridcolor\": \"white\", \"linecolor\": \"white\", \"minorgridcolor\": \"white\", \"startlinecolor\": \"#2a3f5f\"}, \"baxis\": {\"endlinecolor\": \"#2a3f5f\", \"gridcolor\": \"white\", \"linecolor\": \"white\", \"minorgridcolor\": \"white\", \"startlinecolor\": \"#2a3f5f\"}, \"type\": \"carpet\"}], \"choropleth\": [{\"colorbar\": {\"outlinewidth\": 0, \"ticks\": \"\"}, \"type\": \"choropleth\"}], \"contour\": [{\"colorbar\": {\"outlinewidth\": 0, \"ticks\": \"\"}, \"colorscale\": [[0.0, \"#0d0887\"], [0.1111111111111111, \"#46039f\"], [0.2222222222222222, \"#7201a8\"], [0.3333333333333333, \"#9c179e\"], [0.4444444444444444, \"#bd3786\"], [0.5555555555555556, \"#d8576b\"], [0.6666666666666666, \"#ed7953\"], [0.7777777777777778, \"#fb9f3a\"], [0.8888888888888888, \"#fdca26\"], [1.0, \"#f0f921\"]], \"type\": \"contour\"}], \"contourcarpet\": [{\"colorbar\": {\"outlinewidth\": 0, \"ticks\": \"\"}, \"type\": \"contourcarpet\"}], \"heatmap\": [{\"colorbar\": {\"outlinewidth\": 0, \"ticks\": \"\"}, \"colorscale\": [[0.0, \"#0d0887\"], [0.1111111111111111, \"#46039f\"], [0.2222222222222222, \"#7201a8\"], [0.3333333333333333, \"#9c179e\"], [0.4444444444444444, \"#bd3786\"], [0.5555555555555556, \"#d8576b\"], [0.6666666666666666, \"#ed7953\"], [0.7777777777777778, \"#fb9f3a\"], [0.8888888888888888, \"#fdca26\"], [1.0, \"#f0f921\"]], \"type\": \"heatmap\"}], \"heatmapgl\": [{\"colorbar\": {\"outlinewidth\": 0, \"ticks\": \"\"}, \"colorscale\": [[0.0, \"#0d0887\"], [0.1111111111111111, \"#46039f\"], [0.2222222222222222, \"#7201a8\"], [0.3333333333333333, \"#9c179e\"], [0.4444444444444444, \"#bd3786\"], [0.5555555555555556, \"#d8576b\"], [0.6666666666666666, \"#ed7953\"], [0.7777777777777778, \"#fb9f3a\"], [0.8888888888888888, \"#fdca26\"], [1.0, \"#f0f921\"]], \"type\": \"heatmapgl\"}], \"histogram\": [{\"marker\": {\"colorbar\": {\"outlinewidth\": 0, \"ticks\": \"\"}}, \"type\": \"histogram\"}], \"histogram2d\": [{\"colorbar\": {\"outlinewidth\": 0, \"ticks\": \"\"}, \"colorscale\": [[0.0, \"#0d0887\"], [0.1111111111111111, \"#46039f\"], [0.2222222222222222, \"#7201a8\"], [0.3333333333333333, \"#9c179e\"], [0.4444444444444444, \"#bd3786\"], [0.5555555555555556, \"#d8576b\"], [0.6666666666666666, \"#ed7953\"], [0.7777777777777778, \"#fb9f3a\"], [0.8888888888888888, \"#fdca26\"], [1.0, \"#f0f921\"]], \"type\": \"histogram2d\"}], \"histogram2dcontour\": [{\"colorbar\": {\"outlinewidth\": 0, \"ticks\": \"\"}, \"colorscale\": [[0.0, \"#0d0887\"], [0.1111111111111111, \"#46039f\"], [0.2222222222222222, \"#7201a8\"], [0.3333333333333333, \"#9c179e\"], [0.4444444444444444, \"#bd3786\"], [0.5555555555555556, \"#d8576b\"], [0.6666666666666666, \"#ed7953\"], [0.7777777777777778, \"#fb9f3a\"], [0.8888888888888888, \"#fdca26\"], [1.0, \"#f0f921\"]], \"type\": \"histogram2dcontour\"}], \"mesh3d\": [{\"colorbar\": {\"outlinewidth\": 0, \"ticks\": \"\"}, \"type\": \"mesh3d\"}], \"parcoords\": [{\"line\": {\"colorbar\": {\"outlinewidth\": 0, \"ticks\": \"\"}}, \"type\": \"parcoords\"}], \"pie\": [{\"automargin\": true, \"type\": \"pie\"}], \"scatter\": [{\"marker\": {\"colorbar\": {\"outlinewidth\": 0, \"ticks\": \"\"}}, \"type\": \"scatter\"}], \"scatter3d\": [{\"line\": {\"colorbar\": {\"outlinewidth\": 0, \"ticks\": \"\"}}, \"marker\": {\"colorbar\": {\"outlinewidth\": 0, \"ticks\": \"\"}}, \"type\": \"scatter3d\"}], \"scattercarpet\": [{\"marker\": {\"colorbar\": {\"outlinewidth\": 0, \"ticks\": \"\"}}, \"type\": \"scattercarpet\"}], \"scattergeo\": [{\"marker\": {\"colorbar\": {\"outlinewidth\": 0, \"ticks\": \"\"}}, \"type\": \"scattergeo\"}], \"scattergl\": [{\"marker\": {\"colorbar\": {\"outlinewidth\": 0, \"ticks\": \"\"}}, \"type\": \"scattergl\"}], \"scattermapbox\": [{\"marker\": {\"colorbar\": {\"outlinewidth\": 0, \"ticks\": \"\"}}, \"type\": \"scattermapbox\"}], \"scatterpolar\": [{\"marker\": {\"colorbar\": {\"outlinewidth\": 0, \"ticks\": \"\"}}, \"type\": \"scatterpolar\"}], \"scatterpolargl\": [{\"marker\": {\"colorbar\": {\"outlinewidth\": 0, \"ticks\": \"\"}}, \"type\": \"scatterpolargl\"}], \"scatterternary\": [{\"marker\": {\"colorbar\": {\"outlinewidth\": 0, \"ticks\": \"\"}}, \"type\": \"scatterternary\"}], \"surface\": [{\"colorbar\": {\"outlinewidth\": 0, \"ticks\": \"\"}, \"colorscale\": [[0.0, \"#0d0887\"], [0.1111111111111111, \"#46039f\"], [0.2222222222222222, \"#7201a8\"], [0.3333333333333333, \"#9c179e\"], [0.4444444444444444, \"#bd3786\"], [0.5555555555555556, \"#d8576b\"], [0.6666666666666666, \"#ed7953\"], [0.7777777777777778, \"#fb9f3a\"], [0.8888888888888888, \"#fdca26\"], [1.0, \"#f0f921\"]], \"type\": \"surface\"}], \"table\": [{\"cells\": {\"fill\": {\"color\": \"#EBF0F8\"}, \"line\": {\"color\": \"white\"}}, \"header\": {\"fill\": {\"color\": \"#C8D4E3\"}, \"line\": {\"color\": \"white\"}}, \"type\": \"table\"}]}, \"layout\": {\"annotationdefaults\": {\"arrowcolor\": \"#2a3f5f\", \"arrowhead\": 0, \"arrowwidth\": 1}, \"autotypenumbers\": \"strict\", \"coloraxis\": {\"colorbar\": {\"outlinewidth\": 0, \"ticks\": \"\"}}, \"colorscale\": {\"diverging\": [[0, \"#8e0152\"], [0.1, \"#c51b7d\"], [0.2, \"#de77ae\"], [0.3, \"#f1b6da\"], [0.4, \"#fde0ef\"], [0.5, \"#f7f7f7\"], [0.6, \"#e6f5d0\"], [0.7, \"#b8e186\"], [0.8, \"#7fbc41\"], [0.9, \"#4d9221\"], [1, \"#276419\"]], \"sequential\": [[0.0, \"#0d0887\"], [0.1111111111111111, \"#46039f\"], [0.2222222222222222, \"#7201a8\"], [0.3333333333333333, \"#9c179e\"], [0.4444444444444444, \"#bd3786\"], [0.5555555555555556, \"#d8576b\"], [0.6666666666666666, \"#ed7953\"], [0.7777777777777778, \"#fb9f3a\"], [0.8888888888888888, \"#fdca26\"], [1.0, \"#f0f921\"]], \"sequentialminus\": [[0.0, \"#0d0887\"], [0.1111111111111111, \"#46039f\"], [0.2222222222222222, \"#7201a8\"], [0.3333333333333333, \"#9c179e\"], [0.4444444444444444, \"#bd3786\"], [0.5555555555555556, \"#d8576b\"], [0.6666666666666666, \"#ed7953\"], [0.7777777777777778, \"#fb9f3a\"], [0.8888888888888888, \"#fdca26\"], [1.0, \"#f0f921\"]]}, \"colorway\": [\"#636efa\", \"#EF553B\", \"#00cc96\", \"#ab63fa\", \"#FFA15A\", \"#19d3f3\", \"#FF6692\", \"#B6E880\", \"#FF97FF\", \"#FECB52\"], \"font\": {\"color\": \"#2a3f5f\"}, \"geo\": {\"bgcolor\": \"white\", \"lakecolor\": \"white\", \"landcolor\": \"#E5ECF6\", \"showlakes\": true, \"showland\": true, \"subunitcolor\": \"white\"}, \"hoverlabel\": {\"align\": \"left\"}, \"hovermode\": \"closest\", \"mapbox\": {\"style\": \"light\"}, \"paper_bgcolor\": \"white\", \"plot_bgcolor\": \"#E5ECF6\", \"polar\": {\"angularaxis\": {\"gridcolor\": \"white\", \"linecolor\": \"white\", \"ticks\": \"\"}, \"bgcolor\": \"#E5ECF6\", \"radialaxis\": {\"gridcolor\": \"white\", \"linecolor\": \"white\", \"ticks\": \"\"}}, \"scene\": {\"xaxis\": {\"backgroundcolor\": \"#E5ECF6\", \"gridcolor\": \"white\", \"gridwidth\": 2, \"linecolor\": \"white\", \"showbackground\": true, \"ticks\": \"\", \"zerolinecolor\": \"white\"}, \"yaxis\": {\"backgroundcolor\": \"#E5ECF6\", \"gridcolor\": \"white\", \"gridwidth\": 2, \"linecolor\": \"white\", \"showbackground\": true, \"ticks\": \"\", \"zerolinecolor\": \"white\"}, \"zaxis\": {\"backgroundcolor\": \"#E5ECF6\", \"gridcolor\": \"white\", \"gridwidth\": 2, \"linecolor\": \"white\", \"showbackground\": true, \"ticks\": \"\", \"zerolinecolor\": \"white\"}}, \"shapedefaults\": {\"line\": {\"color\": \"#2a3f5f\"}}, \"ternary\": {\"aaxis\": {\"gridcolor\": \"white\", \"linecolor\": \"white\", \"ticks\": \"\"}, \"baxis\": {\"gridcolor\": \"white\", \"linecolor\": \"white\", \"ticks\": \"\"}, \"bgcolor\": \"#E5ECF6\", \"caxis\": {\"gridcolor\": \"white\", \"linecolor\": \"white\", \"ticks\": \"\"}}, \"title\": {\"x\": 0.05}, \"xaxis\": {\"automargin\": true, \"gridcolor\": \"white\", \"linecolor\": \"white\", \"ticks\": \"\", \"title\": {\"standoff\": 15}, \"zerolinecolor\": \"white\", \"zerolinewidth\": 2}, \"yaxis\": {\"automargin\": true, \"gridcolor\": \"white\", \"linecolor\": \"white\", \"ticks\": \"\", \"title\": {\"standoff\": 15}, \"zerolinecolor\": \"white\", \"zerolinewidth\": 2}}}, \"title\": {\"font\": {\"color\": \"#4D5663\"}}, \"xaxis\": {\"anchor\": \"y\", \"domain\": [0.0, 0.2125], \"gridcolor\": \"#E1E5ED\", \"showgrid\": false, \"tickfont\": {\"color\": \"#4D5663\"}, \"title\": {\"font\": {\"color\": \"#4D5663\"}, \"text\": \"\"}, \"zerolinecolor\": \"#E1E5ED\"}, \"xaxis10\": {\"anchor\": \"y10\", \"domain\": [0.2625, 0.475], \"gridcolor\": \"#E1E5ED\", \"showgrid\": false, \"tickfont\": {\"color\": \"#4D5663\"}, \"title\": {\"font\": {\"color\": \"#4D5663\"}, \"text\": \"\"}, \"zerolinecolor\": \"#E1E5ED\"}, \"xaxis11\": {\"anchor\": \"y11\", \"domain\": [0.525, 0.7375], \"gridcolor\": \"#E1E5ED\", \"showgrid\": false, \"tickfont\": {\"color\": \"#4D5663\"}, \"title\": {\"font\": {\"color\": \"#4D5663\"}, \"text\": \"\"}, \"zerolinecolor\": \"#E1E5ED\"}, \"xaxis12\": {\"anchor\": \"y12\", \"domain\": [0.7875, 1.0], \"gridcolor\": \"#E1E5ED\", \"showgrid\": false, \"tickfont\": {\"color\": \"#4D5663\"}, \"title\": {\"font\": {\"color\": \"#4D5663\"}, \"text\": \"\"}, \"zerolinecolor\": \"#E1E5ED\"}, \"xaxis13\": {\"anchor\": \"y13\", \"domain\": [0.0, 0.2125], \"gridcolor\": \"#E1E5ED\", \"showgrid\": false, \"tickfont\": {\"color\": \"#4D5663\"}, \"title\": {\"font\": {\"color\": \"#4D5663\"}, \"text\": \"\"}, \"zerolinecolor\": \"#E1E5ED\"}, \"xaxis14\": {\"anchor\": \"y14\", \"domain\": [0.2625, 0.475], \"gridcolor\": \"#E1E5ED\", \"showgrid\": false, \"tickfont\": {\"color\": \"#4D5663\"}, \"title\": {\"font\": {\"color\": \"#4D5663\"}, \"text\": \"\"}, \"zerolinecolor\": \"#E1E5ED\"}, \"xaxis15\": {\"anchor\": \"y15\", \"domain\": [0.525, 0.7375], \"gridcolor\": \"#E1E5ED\", \"showgrid\": false, \"tickfont\": {\"color\": \"#4D5663\"}, \"title\": {\"font\": {\"color\": \"#4D5663\"}, \"text\": \"\"}, \"zerolinecolor\": \"#E1E5ED\"}, \"xaxis16\": {\"anchor\": \"y16\", \"domain\": [0.7875, 1.0], \"gridcolor\": \"#E1E5ED\", \"showgrid\": false, \"tickfont\": {\"color\": \"#4D5663\"}, \"title\": {\"font\": {\"color\": \"#4D5663\"}, \"text\": \"\"}, \"zerolinecolor\": \"#E1E5ED\"}, \"xaxis2\": {\"anchor\": \"y2\", \"domain\": [0.2625, 0.475], \"gridcolor\": \"#E1E5ED\", \"showgrid\": false, \"tickfont\": {\"color\": \"#4D5663\"}, \"title\": {\"font\": {\"color\": \"#4D5663\"}, \"text\": \"\"}, \"zerolinecolor\": \"#E1E5ED\"}, \"xaxis3\": {\"anchor\": \"y3\", \"domain\": [0.525, 0.7375], \"gridcolor\": \"#E1E5ED\", \"showgrid\": false, \"tickfont\": {\"color\": \"#4D5663\"}, \"title\": {\"font\": {\"color\": \"#4D5663\"}, \"text\": \"\"}, \"zerolinecolor\": \"#E1E5ED\"}, \"xaxis4\": {\"anchor\": \"y4\", \"domain\": [0.7875, 1.0], \"gridcolor\": \"#E1E5ED\", \"showgrid\": false, \"tickfont\": {\"color\": \"#4D5663\"}, \"title\": {\"font\": {\"color\": \"#4D5663\"}, \"text\": \"\"}, \"zerolinecolor\": \"#E1E5ED\"}, \"xaxis5\": {\"anchor\": \"y5\", \"domain\": [0.0, 0.2125], \"gridcolor\": \"#E1E5ED\", \"showgrid\": false, \"tickfont\": {\"color\": \"#4D5663\"}, \"title\": {\"font\": {\"color\": \"#4D5663\"}, \"text\": \"\"}, \"zerolinecolor\": \"#E1E5ED\"}, \"xaxis6\": {\"anchor\": \"y6\", \"domain\": [0.2625, 0.475], \"gridcolor\": \"#E1E5ED\", \"showgrid\": false, \"tickfont\": {\"color\": \"#4D5663\"}, \"title\": {\"font\": {\"color\": \"#4D5663\"}, \"text\": \"\"}, \"zerolinecolor\": \"#E1E5ED\"}, \"xaxis7\": {\"anchor\": \"y7\", \"domain\": [0.525, 0.7375], \"gridcolor\": \"#E1E5ED\", \"showgrid\": false, \"tickfont\": {\"color\": \"#4D5663\"}, \"title\": {\"font\": {\"color\": \"#4D5663\"}, \"text\": \"\"}, \"zerolinecolor\": \"#E1E5ED\"}, \"xaxis8\": {\"anchor\": \"y8\", \"domain\": [0.7875, 1.0], \"gridcolor\": \"#E1E5ED\", \"showgrid\": false, \"tickfont\": {\"color\": \"#4D5663\"}, \"title\": {\"font\": {\"color\": \"#4D5663\"}, \"text\": \"\"}, \"zerolinecolor\": \"#E1E5ED\"}, \"xaxis9\": {\"anchor\": \"y9\", \"domain\": [0.0, 0.2125], \"gridcolor\": \"#E1E5ED\", \"showgrid\": false, \"tickfont\": {\"color\": \"#4D5663\"}, \"title\": {\"font\": {\"color\": \"#4D5663\"}, \"text\": \"\"}, \"zerolinecolor\": \"#E1E5ED\"}, \"yaxis\": {\"anchor\": \"x\", \"domain\": [0.8025, 1.0], \"gridcolor\": \"#E1E5ED\", \"showgrid\": false, \"tickfont\": {\"color\": \"#4D5663\"}, \"title\": {\"font\": {\"color\": \"#4D5663\"}, \"text\": \"\"}, \"zerolinecolor\": \"#E1E5ED\"}, \"yaxis10\": {\"anchor\": \"x10\", \"domain\": [0.2675, 0.465], \"gridcolor\": \"#E1E5ED\", \"showgrid\": false, \"tickfont\": {\"color\": \"#4D5663\"}, \"title\": {\"font\": {\"color\": \"#4D5663\"}, \"text\": \"\"}, \"zerolinecolor\": \"#E1E5ED\"}, \"yaxis11\": {\"anchor\": \"x11\", \"domain\": [0.2675, 0.465], \"gridcolor\": \"#E1E5ED\", \"showgrid\": false, \"tickfont\": {\"color\": \"#4D5663\"}, \"title\": {\"font\": {\"color\": \"#4D5663\"}, \"text\": \"\"}, \"zerolinecolor\": \"#E1E5ED\"}, \"yaxis12\": {\"anchor\": \"x12\", \"domain\": [0.2675, 0.465], \"gridcolor\": \"#E1E5ED\", \"showgrid\": false, \"tickfont\": {\"color\": \"#4D5663\"}, \"title\": {\"font\": {\"color\": \"#4D5663\"}, \"text\": \"\"}, \"zerolinecolor\": \"#E1E5ED\"}, \"yaxis13\": {\"anchor\": \"x13\", \"domain\": [0.0, 0.1975], \"gridcolor\": \"#E1E5ED\", \"showgrid\": false, \"tickfont\": {\"color\": \"#4D5663\"}, \"title\": {\"font\": {\"color\": \"#4D5663\"}, \"text\": \"\"}, \"zerolinecolor\": \"#E1E5ED\"}, \"yaxis14\": {\"anchor\": \"x14\", \"domain\": [0.0, 0.1975], \"gridcolor\": \"#E1E5ED\", \"showgrid\": false, \"tickfont\": {\"color\": \"#4D5663\"}, \"title\": {\"font\": {\"color\": \"#4D5663\"}, \"text\": \"\"}, \"zerolinecolor\": \"#E1E5ED\"}, \"yaxis15\": {\"anchor\": \"x15\", \"domain\": [0.0, 0.1975], \"gridcolor\": \"#E1E5ED\", \"showgrid\": false, \"tickfont\": {\"color\": \"#4D5663\"}, \"title\": {\"font\": {\"color\": \"#4D5663\"}, \"text\": \"\"}, \"zerolinecolor\": \"#E1E5ED\"}, \"yaxis16\": {\"anchor\": \"x16\", \"domain\": [0.0, 0.1975], \"gridcolor\": \"#E1E5ED\", \"showgrid\": false, \"tickfont\": {\"color\": \"#4D5663\"}, \"title\": {\"font\": {\"color\": \"#4D5663\"}, \"text\": \"\"}, \"zerolinecolor\": \"#E1E5ED\"}, \"yaxis2\": {\"anchor\": \"x2\", \"domain\": [0.8025, 1.0], \"gridcolor\": \"#E1E5ED\", \"showgrid\": false, \"tickfont\": {\"color\": \"#4D5663\"}, \"title\": {\"font\": {\"color\": \"#4D5663\"}, \"text\": \"\"}, \"zerolinecolor\": \"#E1E5ED\"}, \"yaxis3\": {\"anchor\": \"x3\", \"domain\": [0.8025, 1.0], \"gridcolor\": \"#E1E5ED\", \"showgrid\": false, \"tickfont\": {\"color\": \"#4D5663\"}, \"title\": {\"font\": {\"color\": \"#4D5663\"}, \"text\": \"\"}, \"zerolinecolor\": \"#E1E5ED\"}, \"yaxis4\": {\"anchor\": \"x4\", \"domain\": [0.8025, 1.0], \"gridcolor\": \"#E1E5ED\", \"showgrid\": false, \"tickfont\": {\"color\": \"#4D5663\"}, \"title\": {\"font\": {\"color\": \"#4D5663\"}, \"text\": \"\"}, \"zerolinecolor\": \"#E1E5ED\"}, \"yaxis5\": {\"anchor\": \"x5\", \"domain\": [0.535, 0.7325], \"gridcolor\": \"#E1E5ED\", \"showgrid\": false, \"tickfont\": {\"color\": \"#4D5663\"}, \"title\": {\"font\": {\"color\": \"#4D5663\"}, \"text\": \"\"}, \"zerolinecolor\": \"#E1E5ED\"}, \"yaxis6\": {\"anchor\": \"x6\", \"domain\": [0.535, 0.7325], \"gridcolor\": \"#E1E5ED\", \"showgrid\": false, \"tickfont\": {\"color\": \"#4D5663\"}, \"title\": {\"font\": {\"color\": \"#4D5663\"}, \"text\": \"\"}, \"zerolinecolor\": \"#E1E5ED\"}, \"yaxis7\": {\"anchor\": \"x7\", \"domain\": [0.535, 0.7325], \"gridcolor\": \"#E1E5ED\", \"showgrid\": false, \"tickfont\": {\"color\": \"#4D5663\"}, \"title\": {\"font\": {\"color\": \"#4D5663\"}, \"text\": \"\"}, \"zerolinecolor\": \"#E1E5ED\"}, \"yaxis8\": {\"anchor\": \"x8\", \"domain\": [0.535, 0.7325], \"gridcolor\": \"#E1E5ED\", \"showgrid\": false, \"tickfont\": {\"color\": \"#4D5663\"}, \"title\": {\"font\": {\"color\": \"#4D5663\"}, \"text\": \"\"}, \"zerolinecolor\": \"#E1E5ED\"}, \"yaxis9\": {\"anchor\": \"x9\", \"domain\": [0.2675, 0.465], \"gridcolor\": \"#E1E5ED\", \"showgrid\": false, \"tickfont\": {\"color\": \"#4D5663\"}, \"title\": {\"font\": {\"color\": \"#4D5663\"}, \"text\": \"\"}, \"zerolinecolor\": \"#E1E5ED\"}},                        {\"showLink\": true, \"linkText\": \"Export to plot.ly\", \"plotlyServerURL\": \"https://plot.ly\", \"responsive\": true}                    ).then(function(){\n",
       "                            \n",
       "var gd = document.getElementById('da1ba8f3-675f-4cf9-8e57-60b9cd9caedf');\n",
       "var x = new MutationObserver(function (mutations, observer) {{\n",
       "        var display = window.getComputedStyle(gd).display;\n",
       "        if (!display || display === 'none') {{\n",
       "            console.log([gd, 'removed!']);\n",
       "            Plotly.purge(gd);\n",
       "            observer.disconnect();\n",
       "        }}\n",
       "}});\n",
       "\n",
       "// Listen for the removal of the full notebook cells\n",
       "var notebookContainer = gd.closest('#notebook-container');\n",
       "if (notebookContainer) {{\n",
       "    x.observe(notebookContainer, {childList: true});\n",
       "}}\n",
       "\n",
       "// Listen for the clearing of the current output cell\n",
       "var outputEl = gd.closest('.output');\n",
       "if (outputEl) {{\n",
       "    x.observe(outputEl, {childList: true});\n",
       "}}\n",
       "\n",
       "                        })                };                });            </script>        </div>"
      ]
     },
     "metadata": {},
     "output_type": "display_data"
    }
   ],
   "source": [
    "df.scatter_matrix()"
   ]
  },
  {
   "cell_type": "markdown",
   "metadata": {
    "collapsed": true
   },
   "source": [
    "# Great Job!"
   ]
  }
 ],
 "metadata": {
  "kernelspec": {
   "display_name": "Python 3",
   "language": "python",
   "name": "python3"
  },
  "language_info": {
   "codemirror_mode": {
    "name": "ipython",
    "version": 3
   },
   "file_extension": ".py",
   "mimetype": "text/x-python",
   "name": "python",
   "nbconvert_exporter": "python",
   "pygments_lexer": "ipython3",
   "version": "3.7.9"
  }
 },
 "nbformat": 4,
 "nbformat_minor": 1
}
