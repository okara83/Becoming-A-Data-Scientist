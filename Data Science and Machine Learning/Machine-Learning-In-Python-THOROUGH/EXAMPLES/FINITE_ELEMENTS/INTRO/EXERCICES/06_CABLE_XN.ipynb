{
 "cells": [
  {
   "cell_type": "code",
   "execution_count": 1,
   "metadata": {},
   "outputs": [
    {
     "name": "stdout",
     "output_type": "stream",
     "text": [
      "...evaluating matrix... (0,0): 1\n",
      "(0,1): 2*x\n",
      "(0,2): 3*x**2\n",
      "(0,3): 4*x**3\n",
      "(0,4): 5*x**4\n",
      "rhs: -x\n",
      "(1,1): 4*x**2\n",
      "(1,2): 6*x**3\n",
      "(1,3): 8*x**4\n",
      "(1,4): 10*x**5\n",
      "rhs: -x**2\n",
      "(2,2): 9*x**4\n",
      "(2,3): 12*x**5\n",
      "(2,4): 15*x**6\n",
      "rhs: -x**3\n",
      "(3,3): 16*x**6\n",
      "(3,4): 20*x**7\n",
      "rhs: -x**4\n",
      "(4,4): 25*x**8\n",
      "rhs: -x**5\n",
      "\n",
      "A:\n",
      " Matrix([[1, 1, 1, 1, 1], [1, 4/3, 3/2, 8/5, 5/3], [1, 3/2, 9/5, 2, 15/7], [1, 8/5, 2, 16/7, 5/2], [1, 5/3, 15/7, 5/2, 25/9]]) \n",
      "b:\n",
      " Matrix([[-1/2], [-1/3], [-1/4], [-1/5], [-1/6]])\n",
      "coeff: [-1, 1/2, 0, 0, 0]\n",
      "approximation: x**2/2 - x\n",
      "('Galerkin solution u:', x*(x - 2)/2)\n"
     ]
    }
   ],
   "source": [
    "import os, sys\n",
    "sys.path.insert(0, os.path.join(os.pardir, 'src'))\n",
    "from varform1D import solver\n",
    "import sympy as sym\n",
    "x, b = sym.symbols('x b')\n",
    "f = 1\n",
    "\n",
    "# Compute basis functions and their derivatives\n",
    "N = 4\n",
    "psi = {0: [x**(i+1) for i in range(N+1)]}\n",
    "psi[1] = [sym.diff(psi_i, x) for psi_i in psi[0]]\n",
    "\n",
    "# Galerkin\n",
    "\n",
    "def integrand_lhs(psi, i, j):\n",
    "    return psi[1][i]*psi[1][j]\n",
    "\n",
    "def integrand_rhs(psi, i):\n",
    "    return -f*psi[0][i]\n",
    "\n",
    "Omega = [0, 1]\n",
    "\n",
    "u, c = solver(integrand_lhs, integrand_rhs, psi, Omega,\n",
    "              verbose=True, symbolic=True)\n",
    "print(('Galerkin solution u:', sym.simplify(sym.expand(u))))\n",
    "\n",
    "# Least squares\n",
    "psi = {0: [x**(i+2) for i in range(N+1)]}\n",
    "psi[1] = [sym.diff(psi_i, x) for psi_i in psi[0]]\n",
    "psi[2] = [sym.diff(psi_i, x) for psi_i in psi[1]]\n",
    "\n",
    "def integrand_lhs(psi, i, j):\n",
    "    return psi[2][i]*psi[2][j]\n",
    "\n",
    "def integrand_rhs(psi, i):\n",
    "    return -f*psi[2][i]\n",
    "\n",
    "Omega = [0, 1]\n"
   ]
  },
  {
   "cell_type": "code",
   "execution_count": null,
   "metadata": {},
   "outputs": [],
   "source": []
  }
 ],
 "metadata": {
  "kernelspec": {
   "display_name": "Python 3",
   "language": "python",
   "name": "python3"
  },
  "language_info": {
   "codemirror_mode": {
    "name": "ipython",
    "version": 3
   },
   "file_extension": ".py",
   "mimetype": "text/x-python",
   "name": "python",
   "nbconvert_exporter": "python",
   "pygments_lexer": "ipython3",
   "version": "3.7.9"
  }
 },
 "nbformat": 4,
 "nbformat_minor": 4
}
