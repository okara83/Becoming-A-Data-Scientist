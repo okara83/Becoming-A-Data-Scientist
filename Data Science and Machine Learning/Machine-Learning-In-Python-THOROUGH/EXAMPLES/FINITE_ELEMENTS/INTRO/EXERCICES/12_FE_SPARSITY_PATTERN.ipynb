{
 "cells": [
  {
   "cell_type": "code",
   "execution_count": 1,
   "metadata": {},
   "outputs": [
    {
     "name": "stdout",
     "output_type": "stream",
     "text": [
      "\n",
      "P1 elements, left-to-right numbering\n",
      "X X 0 0\n",
      "X X X 0\n",
      "0 X X X\n",
      "0 0 X X\n",
      "\n",
      "P1 elements, right-to-left numbering\n",
      "X X 0 0\n",
      "X X X 0\n",
      "0 X X X\n",
      "0 0 X X\n",
      "\n",
      "P2 elements, left-to-right numbering\n",
      "X X X 0 0 0 0\n",
      "X X X 0 0 0 0\n",
      "X X X X X 0 0\n",
      "0 0 X X X 0 0\n",
      "0 0 X X X X X\n",
      "0 0 0 0 X X X\n",
      "0 0 0 0 X X X\n",
      "\n",
      "P1 elements, right-to-left numbering\n",
      "X X X 0 0 0 0\n",
      "X X X 0 0 0 0\n",
      "X X X X X 0 0\n",
      "0 0 X X X 0 0\n",
      "0 0 X X X X X\n",
      "0 0 0 0 X X X\n",
      "0 0 0 0 X X X\n"
     ]
    }
   ],
   "source": [
    "def sparsity_pattern(elements, N_n):\n",
    "    import numpy as np\n",
    "    matrix = np.zeros((N_n, N_n), dtype=str)\n",
    "    matrix[:,:] = '0'\n",
    "    for e in elements:\n",
    "        for i in e:\n",
    "            for j in e:\n",
    "                matrix[i,j] = 'X'\n",
    "    matrix = matrix.tolist()\n",
    "    matrix = '\\n'.join([' '.join([matrix[i][j]\n",
    "                                  for j in range(len(matrix[i]))])\n",
    "                        for i in range(len(matrix))])\n",
    "    return matrix\n",
    "\n",
    "\n",
    "print('\\nP1 elements, left-to-right numbering')\n",
    "N_n = 4\n",
    "elements = [[0,1], [1,2], [2,3]]\n",
    "print((sparsity_pattern(elements, N_n)))\n",
    "\n",
    "print('\\nP1 elements, right-to-left numbering')\n",
    "elements = [[1,0], [2,1], [3,2]]\n",
    "print((sparsity_pattern(elements, N_n)))\n",
    "\n",
    "print('\\nP2 elements, left-to-right numbering')\n",
    "N_n = 7\n",
    "elements = [[0,1,2], [2,3,4], [4,5,6]]\n",
    "print((sparsity_pattern(elements, N_n)))\n",
    "\n",
    "print('\\nP1 elements, right-to-left numbering')\n",
    "elements = [[2,1,0], [4,3,2], [6,5,4]]\n",
    "print((sparsity_pattern(elements, N_n)))\n"
   ]
  },
  {
   "cell_type": "code",
   "execution_count": null,
   "metadata": {},
   "outputs": [],
   "source": []
  }
 ],
 "metadata": {
  "kernelspec": {
   "display_name": "Python 3",
   "language": "python",
   "name": "python3"
  },
  "language_info": {
   "codemirror_mode": {
    "name": "ipython",
    "version": 3
   },
   "file_extension": ".py",
   "mimetype": "text/x-python",
   "name": "python",
   "nbconvert_exporter": "python",
   "pygments_lexer": "ipython3",
   "version": "3.7.9"
  }
 },
 "nbformat": 4,
 "nbformat_minor": 4
}
