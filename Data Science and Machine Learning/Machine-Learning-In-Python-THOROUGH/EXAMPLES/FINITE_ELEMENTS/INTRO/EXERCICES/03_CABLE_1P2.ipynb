{
 "cells": [
  {
   "cell_type": "code",
   "execution_count": 1,
   "metadata": {},
   "outputs": [
    {
     "name": "stdout",
     "output_type": "stream",
     "text": [
      "[[7/(3*h) -8/(3*h) 1/(3*h)]\n",
      " [-8/(3*h) 16/(3*h) -8/(3*h)]\n",
      " [1/(3*h) -8/(3*h) 7/(3*h)]]\n",
      "[-h/6 -2*h/3 -h/6]\n"
     ]
    }
   ],
   "source": [
    "import sympy as sym\n",
    "X, h = sym.symbols('X h')\n",
    "half = sym.Rational(1, 2)\n",
    "psi = [half*(X-1)*X, 1-X**2, half*(X+1)*X]\n",
    "dpsi_dX = [sym.diff(psi[r], X) for r in range(len(psi))]\n",
    "\n",
    "# Element matrix\n",
    "# (2/h)*dpsi_dX[r]*(2/h)*dpsi_dX[s]*h/2\n",
    "import numpy as np\n",
    "d = 2\n",
    "# Use a numpy matrix with general objects to hold A\n",
    "A = np.empty((d+1, d+1), dtype=object)\n",
    "for r in range(d+1):\n",
    "    for s in range(d+1):\n",
    "        integrand = dpsi_dX[r]*dpsi_dX[s]*2/h\n",
    "        A[r,s] = sym.integrate(integrand, (X, -1, 1))\n",
    "print(A)\n",
    "\n",
    "# Element vector\n",
    "# f*psi[r]*h/2, f=1\n",
    "d = 2\n",
    "b = np.empty(d+1, dtype=object)\n",
    "for r in range(d+1):\n",
    "    integrand = -psi[r]*h/2\n",
    "    b[r] = sym.integrate(integrand, (X, -1, 1))\n",
    "print(b)\n"
   ]
  },
  {
   "cell_type": "code",
   "execution_count": null,
   "metadata": {},
   "outputs": [],
   "source": []
  }
 ],
 "metadata": {
  "kernelspec": {
   "display_name": "Python 3",
   "language": "python",
   "name": "python3"
  },
  "language_info": {
   "codemirror_mode": {
    "name": "ipython",
    "version": 3
   },
   "file_extension": ".py",
   "mimetype": "text/x-python",
   "name": "python",
   "nbconvert_exporter": "python",
   "pygments_lexer": "ipython3",
   "version": "3.7.9"
  }
 },
 "nbformat": 4,
 "nbformat_minor": 4
}
