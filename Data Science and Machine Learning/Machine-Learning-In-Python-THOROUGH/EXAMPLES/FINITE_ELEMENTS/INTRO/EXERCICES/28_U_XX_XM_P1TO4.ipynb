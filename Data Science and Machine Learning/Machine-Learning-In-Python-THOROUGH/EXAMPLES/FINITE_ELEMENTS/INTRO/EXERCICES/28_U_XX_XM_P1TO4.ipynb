{
 "cells": [
  {
   "cell_type": "code",
   "execution_count": null,
   "metadata": {},
   "outputs": [],
   "source": [
    "import sys, os\n",
    "sys.path.insert(0, os.path.join(os.pardir, 'src'))\n",
    "from u_xx_f_sympy import model2, x\n",
    "import sympy as sym\n",
    "import numpy as np\n",
    "from fe1D import finite_element1D, mesh_uniform, u_glob\n",
    "import matplotlib.pyplot as plt\n",
    "\n",
    "C = 5\n",
    "D = 2\n",
    "L = 4\n",
    "\n",
    "m_values = [0, 1, 2, 3, 4]\n",
    "d_values = [1, 2, 3, 4]\n",
    "for m in m_values:\n",
    "    u = model2(x**m, L, C, D)\n",
    "    print(('\\nm=%d, u: %s' % (m, u)))\n",
    "    u_exact = sym.lambdify([x], u)\n",
    "\n",
    "    for d in d_values:\n",
    "        vertices, cells, dof_map = mesh_uniform(\n",
    "            N_e=2, d=d, Omega=[0,L], symbolic=False)\n",
    "        vertices[1] = 3  # displace vertex\n",
    "        essbc = {}\n",
    "        essbc[dof_map[-1][-1]] = D\n",
    "\n",
    "        c, A, b, timing = finite_element1D(\n",
    "            vertices, cells, dof_map,\n",
    "            essbc,\n",
    "            ilhs=lambda e, phi, r, s, X, x, h:\n",
    "            phi[1][r](X, h)*phi[1][s](X, h),\n",
    "            irhs=lambda e, phi, r, X, x, h:\n",
    "            x**m*phi[0][r](X),\n",
    "            blhs=lambda e, phi, r, s, X, x, h: 0,\n",
    "            brhs=lambda e, phi, r, X, x, h:\n",
    "            -C*phi[0][r](-1) if e == 0 else 0,\n",
    "            intrule='GaussLegendre')\n",
    "\n",
    "        # Visualize\n",
    "        # (Recall that x is a symbol, use xc for coordinates)\n",
    "        xc, u, nodes = u_glob(c, vertices, cells, dof_map)\n",
    "        u_e = u_exact(xc)\n",
    "        print(('Max diff at nodes, d=%d:' % d, \\\n",
    "              np.abs(u_exact(nodes) - c).max()))\n",
    "        plt.figure()\n",
    "        plt.plot(xc, u, 'b-', xc, u_e, 'r--')\n",
    "        plt.legend(['finite elements, d=%d' %d, 'exact'],\n",
    "                   loc='lower left')\n",
    "        figname = 'tmp_%d_%d' % (m, d)\n",
    "        plt.savefig(figname + '.png'); plt.savefig(figname + '.pdf')\n",
    "    for ext in 'pdf', 'png':\n",
    "        cmd = 'doconce combine_images -2 '\n",
    "        cmd += ' '.join(['tmp_%d_%d.' % (m, d) + ext\n",
    "                         for d in d_values])\n",
    "        cmd += ' u_xx_xm%d_P1to4.' % m + ext\n",
    "        print(cmd)\n",
    "        os.system(cmd)\n",
    "\n",
    "#plt.show()\n"
   ]
  },
  {
   "cell_type": "code",
   "execution_count": null,
   "metadata": {},
   "outputs": [],
   "source": []
  }
 ],
 "metadata": {
  "kernelspec": {
   "display_name": "Python 3",
   "language": "python",
   "name": "python3"
  },
  "language_info": {
   "codemirror_mode": {
    "name": "ipython",
    "version": 3
   },
   "file_extension": ".py",
   "mimetype": "text/x-python",
   "name": "python",
   "nbconvert_exporter": "python",
   "pygments_lexer": "ipython3",
   "version": "3.7.9"
  }
 },
 "nbformat": 4,
 "nbformat_minor": 4
}
