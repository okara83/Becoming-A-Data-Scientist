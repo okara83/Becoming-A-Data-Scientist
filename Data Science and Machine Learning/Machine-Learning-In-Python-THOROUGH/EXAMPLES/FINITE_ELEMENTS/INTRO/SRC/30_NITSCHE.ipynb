{
 "cells": [
  {
   "cell_type": "code",
   "execution_count": null,
   "metadata": {},
   "outputs": [],
   "source": [
    "import matplotlib.pyplot as plt\n",
    "from dolfin import * \n",
    "\n",
    "mesh = UnitIntervalMesh(100) \n",
    "V = FunctionSpace(mesh, \"Lagrange\", 1) \n",
    "u = TrialFunction(V) \n",
    "v = TestFunction(V)\n",
    "\n",
    "lams = [1.001, 1.01, 1.1, 2, 10, 100]\n",
    "for lam in lams: \n",
    "    lam = Constant(lam) \n",
    "    h = CellDiameter(mesh)\n",
    "    n = FacetNormal(mesh)\n",
    "    f = Expression(\"-12*pow(x[0], 2)\", degree=2) \n",
    "    u0 = Expression(\"pow(x[0],4)\", degree=4)\n",
    "\n",
    "    a = dot(grad(v), grad(u))*dx \\\n",
    "       - dot(grad(v), u*n)*ds \\\n",
    "       - dot(v*n, grad(u))*ds \\\n",
    "       + (lam/h)*v*u*ds\n",
    "    L = v*f*dx - u0*dot(grad(v), n)*ds + (lam/h)*u0*v*ds\n",
    "\n",
    "    U = Function(V)\n",
    "    solve(a == L, U) \n",
    "\n",
    "    plt.plot(V.tabulate_dof_coordinates(), U.vector().get_local())\n",
    "\n",
    "plt.legend([\"lam=%4.3f\" %lam for lam in lams], loc=2)\n",
    "plt.show()"
   ]
  },
  {
   "cell_type": "code",
   "execution_count": null,
   "metadata": {},
   "outputs": [],
   "source": []
  }
 ],
 "metadata": {
  "kernelspec": {
   "display_name": "Python 3",
   "language": "python",
   "name": "python3"
  },
  "language_info": {
   "codemirror_mode": {
    "name": "ipython",
    "version": 3
   },
   "file_extension": ".py",
   "mimetype": "text/x-python",
   "name": "python",
   "nbconvert_exporter": "python",
   "pygments_lexer": "ipython3",
   "version": "3.7.9"
  }
 },
 "nbformat": 4,
 "nbformat_minor": 4
}
