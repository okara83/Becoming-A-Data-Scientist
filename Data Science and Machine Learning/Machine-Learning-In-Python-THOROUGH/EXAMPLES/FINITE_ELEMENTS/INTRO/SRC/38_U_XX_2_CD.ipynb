{
 "cells": [
  {
   "cell_type": "code",
   "execution_count": 1,
   "metadata": {},
   "outputs": [
    {
     "name": "stdout",
     "output_type": "stream",
     "text": [
      "('A_ij:', (i + 1)*(j + 1)/(i + j + 1))\n",
      "('b_i:', ((-C + D)*(i + 2) + 2)/(i + 2))\n",
      "('fresh b:', Matrix([\n",
      "[0, 0],\n",
      "[0, 0]]))\n",
      "('A:', Matrix([\n",
      "[1,   1],\n",
      "[1, 4/3]]))\n",
      "('b:', Matrix([\n",
      "[  -C + D + 1],\n",
      "[-C + D + 2/3]]))\n",
      "('c:', Matrix([\n",
      "[-C + D + 2],\n",
      "[        -1]]))\n",
      "('u:', C*x - C + D - x**2 + 1)\n",
      "(\"u'':\", -2)\n",
      "('BC x=0:', C)\n",
      "('BC x=1:', D)\n"
     ]
    }
   ],
   "source": [
    "from sympy import *\n",
    "x, C, D = symbols('x C D')\n",
    "i, j = symbols('i j', integer=True, positive=True)\n",
    "psi_i = (1-x)**(i+1)\n",
    "psi_j = psi_i.subs(i, j)\n",
    "integrand = diff(psi_i, x)*diff(psi_j, x)\n",
    "integrand = simplify(integrand)\n",
    "A_ij = integrate(integrand, (x, 0, 1))\n",
    "A_ij = simplify(A_ij)\n",
    "print(('A_ij:', A_ij))\n",
    "f = 2\n",
    "b_i = integrate(f*psi_i, (x, 0, 1)) - \\\n",
    "      integrate(diff(D*x, x)*diff(psi_i, x), (x, 0, 1)) - \\\n",
    "      C*psi_i.subs(x, 0)\n",
    "b_i = simplify(b_i)\n",
    "print(('b_i:', b_i))\n",
    "N = 1\n",
    "A = zeros(N+1, N+1)\n",
    "b = zeros(N+1)\n",
    "print(('fresh b:', b))\n",
    "for r in range(N+1):\n",
    "    for s in range(N+1):\n",
    "        A[r,s] = A_ij.subs(i, r).subs(j, s)\n",
    "    b[r,0] = b_i.subs(i, r)\n",
    "print(('A:', A))\n",
    "print(('b:', b[:,0]))\n",
    "c = A.LUsolve(b)\n",
    "print(('c:', c[:,0]))\n",
    "u = sum(c[r,0]*psi_i.subs(i, r) for r in range(N+1)) + D*x\n",
    "print(('u:', simplify(u)))\n",
    "print((\"u'':\", simplify(diff(u, x, x))))\n",
    "print(('BC x=0:', simplify(diff(u, x).subs(x, 0))))\n",
    "print(('BC x=1:', simplify(u.subs(x, 1))))\n"
   ]
  },
  {
   "cell_type": "code",
   "execution_count": null,
   "metadata": {},
   "outputs": [],
   "source": []
  }
 ],
 "metadata": {
  "kernelspec": {
   "display_name": "Python 3",
   "language": "python",
   "name": "python3"
  },
  "language_info": {
   "codemirror_mode": {
    "name": "ipython",
    "version": 3
   },
   "file_extension": ".py",
   "mimetype": "text/x-python",
   "name": "python",
   "nbconvert_exporter": "python",
   "pygments_lexer": "ipython3",
   "version": "3.7.9"
  }
 },
 "nbformat": 4,
 "nbformat_minor": 4
}
