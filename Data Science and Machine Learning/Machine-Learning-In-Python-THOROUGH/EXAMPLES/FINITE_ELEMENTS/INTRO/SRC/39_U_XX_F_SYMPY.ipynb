{
 "cells": [
  {
   "cell_type": "code",
   "execution_count": 1,
   "metadata": {},
   "outputs": [
    {
     "name": "stdout",
     "output_type": "stream",
     "text": [
      "('model1:', x*(D + L*(L - x))/L, 0, D)\n",
      "\\frac{x \\left(D + L \\left(L - x\\right)\\right)}{L}\n",
      "('model2:', -C*L + C*x + D + L**2 - x**2, C, D)\n",
      "- C L + C x + D + L^{2} - x^{2}\n",
      "('model3:', (C*atan(L) - C*atan(x) + D*atan(x))/atan(L), C, D)\n",
      "\\frac{C \\operatorname{atan}{\\left(L \\right)} - C \\operatorname{atan}{\\left(x \\right)} + D \\operatorname{atan}{\\left(x \\right)}}{\\operatorname{atan}{\\left(L \\right)}}\n"
     ]
    }
   ],
   "source": [
    "import sympy as sym\n",
    "x, L, C, D, c_0, c_1, = sym.symbols('x L C D c_0 c_1')\n",
    "\n",
    "def model1(f, L, D):\n",
    "    \"\"\"Solve -u'' = f(x), u(0)=0, u(L)=D.\"\"\"\n",
    "    # Integrate twice\n",
    "    u_x = - sym.integrate(f, (x, 0, x)) + c_0\n",
    "    u = sym.integrate(u_x, (x, 0, x)) + c_1\n",
    "    # Set up 2 equations from the 2 boundary conditions and solve\n",
    "    # with respect to the integration constants c_0, c_1\n",
    "    r = sym.solve([u.subs(x, 0)-0,  # x=0 condition\n",
    "                   u.subs(x,L)-D],  # x=L condition\n",
    "                  [c_0, c_1])       # unknowns\n",
    "    # Substitute the integration constants in the solution\n",
    "    u = u.subs(c_0, r[c_0]).subs(c_1, r[c_1])\n",
    "    u = sym.simplify(sym.expand(u))\n",
    "    return u\n",
    "\n",
    "def model2(f, L, C, D):\n",
    "    \"\"\"Solve -u'' = f(x), u'(0)=C, u(L)=D.\"\"\"\n",
    "    u_x = - sym.integrate(f, (x, 0, x)) + c_0\n",
    "    u = sym.integrate(u_x, (x, 0, x)) + c_1\n",
    "    r = sym.solve([sym.diff(u,x).subs(x, 0)-C,  # x=0 cond.\n",
    "                   u.subs(x,L)-D],              # x=L cond.\n",
    "                  [c_0, c_1])\n",
    "    u = u.subs(c_0, r[c_0]).subs(c_1, r[c_1])\n",
    "    u = sym.simplify(sym.expand(u))\n",
    "    return u\n",
    "\n",
    "def model3(f, a, L, C, D):\n",
    "    \"\"\"Solve -(a*u')' = f(x), u(0)=C, u(L)=D.\"\"\"\n",
    "    au_x = - sym.integrate(f, (x, 0, x)) + c_0\n",
    "    u = sym.integrate(au_x/a, (x, 0, x)) + c_1\n",
    "    r = sym.solve([u.subs(x, 0)-C,\n",
    "                   u.subs(x,L)-D],\n",
    "                  [c_0, c_1])\n",
    "    u = u.subs(c_0, r[c_0]).subs(c_1, r[c_1])\n",
    "    u = sym.simplify(sym.expand(u))\n",
    "    return u\n",
    "\n",
    "\n",
    "def demo():\n",
    "    f = 2\n",
    "    u = model1(f, L, D)\n",
    "    print(('model1:', u, u.subs(x, 0), u.subs(x, L)))\n",
    "    print((sym.latex(u, mode='plain')))\n",
    "    u = model2(f, L, C, D)\n",
    "    #f = x\n",
    "    #u = model2(f, L, C, D)\n",
    "    print(('model2:', u, sym.diff(u, x).subs(x, 0), u.subs(x, L)))\n",
    "    print((sym.latex(u, mode='plain')))\n",
    "    u = model3(0, 1+x**2, L, C, D)\n",
    "    print(('model3:', u, u.subs(x, 0), u.subs(x, L)))\n",
    "    print((sym.latex(u, mode='plain')))\n",
    "\n",
    "if __name__ == '__main__':\n",
    "    demo()\n",
    "\n",
    "\n"
   ]
  },
  {
   "cell_type": "code",
   "execution_count": null,
   "metadata": {},
   "outputs": [],
   "source": []
  }
 ],
 "metadata": {
  "kernelspec": {
   "display_name": "Python 3",
   "language": "python",
   "name": "python3"
  },
  "language_info": {
   "codemirror_mode": {
    "name": "ipython",
    "version": 3
   },
   "file_extension": ".py",
   "mimetype": "text/x-python",
   "name": "python",
   "nbconvert_exporter": "python",
   "pygments_lexer": "ipython3",
   "version": "3.7.9"
  }
 },
 "nbformat": 4,
 "nbformat_minor": 4
}
