{
 "cells": [
  {
   "cell_type": "code",
   "execution_count": null,
   "metadata": {},
   "outputs": [],
   "source": [
    "\n",
    "# check convergence rate of fem, similar to \n",
    "# previous global func  \n",
    "\n",
    "\n",
    "import sympy as sym\n",
    "import numpy as np\n",
    "from fe_approx1D_numint import *\n",
    "\n",
    "\n",
    "\n",
    "Omega = [-1, 1]\n",
    "symbolic = False\n",
    "N = 10\n",
    "\n",
    "vertices, cells, dof_map = mesh_uniform(N, 2, Omega, symbolic)  \n",
    "\n",
    "\n",
    "x = sym.Symbol(\"x\")\n",
    "gauss_exact = sym.exp(-x**2) - sym.exp(-1)\n",
    "\n",
    "u = approximate(gauss_exact, symbolic, 1, N, None, Omega) \n",
    "\n",
    "vertices = np.array(vertices)\n",
    "gauss_bell = np.exp(-vertices**2)\n",
    "gauss_bell -= gauss_bell[0]\n",
    "\n",
    "\n",
    "import pylab \n",
    "pylab.plot(gauss_bell)\n",
    "pylab.plot(u)\n",
    "pylab.show()\n",
    "\n",
    "\n"
   ]
  },
  {
   "cell_type": "code",
   "execution_count": null,
   "metadata": {},
   "outputs": [],
   "source": []
  }
 ],
 "metadata": {
  "kernelspec": {
   "display_name": "Python 3",
   "language": "python",
   "name": "python3"
  },
  "language_info": {
   "codemirror_mode": {
    "name": "ipython",
    "version": 3
   },
   "file_extension": ".py",
   "mimetype": "text/x-python",
   "name": "python",
   "nbconvert_exporter": "python",
   "pygments_lexer": "ipython3",
   "version": "3.7.9"
  }
 },
 "nbformat": 4,
 "nbformat_minor": 4
}
