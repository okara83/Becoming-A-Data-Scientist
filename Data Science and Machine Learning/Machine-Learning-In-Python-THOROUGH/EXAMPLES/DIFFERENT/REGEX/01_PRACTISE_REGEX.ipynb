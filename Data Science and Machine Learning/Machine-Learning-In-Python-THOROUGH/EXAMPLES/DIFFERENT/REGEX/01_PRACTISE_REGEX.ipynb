{
 "cells": [
  {
   "cell_type": "code",
   "execution_count": 1,
   "metadata": {},
   "outputs": [],
   "source": [
    "import re"
   ]
  },
  {
   "cell_type": "markdown",
   "metadata": {},
   "source": [
    "* `findall`\tReturns a list containing all matches\n",
    "* `search`\tReturns a Match object if there is a match anywhere in the string\n",
    "* `split`\tReturns a list where the string has been split at each match\n",
    "* `sub`\t    Replaces one or many matches with a string"
   ]
  },
  {
   "cell_type": "code",
   "execution_count": 31,
   "metadata": {},
   "outputs": [],
   "source": [
    "txt = \"The rain in Spain\""
   ]
  },
  {
   "cell_type": "markdown",
   "metadata": {},
   "source": [
    "**search**"
   ]
  },
  {
   "cell_type": "code",
   "execution_count": 32,
   "metadata": {},
   "outputs": [
    {
     "data": {
      "text/plain": [
       "<re.Match object; span=(0, 17), match='The rain in Spain'>"
      ]
     },
     "execution_count": 32,
     "metadata": {},
     "output_type": "execute_result"
    }
   ],
   "source": [
    "re.search(\"^The.*Spain$\", txt)"
   ]
  },
  {
   "cell_type": "code",
   "execution_count": 33,
   "metadata": {},
   "outputs": [
    {
     "data": {
      "text/plain": [
       "<re.Match object; span=(3, 4), match=' '>"
      ]
     },
     "execution_count": 33,
     "metadata": {},
     "output_type": "execute_result"
    }
   ],
   "source": [
    "re.search(\"\\s\", txt)"
   ]
  },
  {
   "cell_type": "code",
   "execution_count": 53,
   "metadata": {},
   "outputs": [
    {
     "data": {
      "text/plain": [
       "<re.Match object; span=(5, 7), match='ai'>"
      ]
     },
     "execution_count": 53,
     "metadata": {},
     "output_type": "execute_result"
    }
   ],
   "source": [
    "re.search(\"ai\", txt)"
   ]
  },
  {
   "cell_type": "code",
   "execution_count": 56,
   "metadata": {},
   "outputs": [
    {
     "data": {
      "text/plain": [
       "<re.Match object; span=(12, 17), match='Spain'>"
      ]
     },
     "execution_count": 56,
     "metadata": {},
     "output_type": "execute_result"
    }
   ],
   "source": [
    "re.search(r\"\\bS\\w+\", txt)"
   ]
  },
  {
   "cell_type": "code",
   "execution_count": 102,
   "metadata": {},
   "outputs": [
    {
     "data": {
      "text/plain": [
       "'Spain'"
      ]
     },
     "execution_count": 102,
     "metadata": {},
     "output_type": "execute_result"
    }
   ],
   "source": [
    "txt[12:17]"
   ]
  },
  {
   "cell_type": "markdown",
   "metadata": {},
   "source": [
    "**span-start-end**"
   ]
  },
  {
   "cell_type": "code",
   "execution_count": 62,
   "metadata": {},
   "outputs": [
    {
     "data": {
      "text/plain": [
       "(12, 17)"
      ]
     },
     "execution_count": 62,
     "metadata": {},
     "output_type": "execute_result"
    }
   ],
   "source": [
    "# \\b Matches the boundary (or empty string) at the start and end of a word\n",
    "\n",
    "re.search(r\"\\bS\\w+\", txt).span()"
   ]
  },
  {
   "cell_type": "code",
   "execution_count": 58,
   "metadata": {},
   "outputs": [
    {
     "data": {
      "text/plain": [
       "(12, 17)"
      ]
     },
     "execution_count": 58,
     "metadata": {},
     "output_type": "execute_result"
    }
   ],
   "source": [
    "re.search(r\"\\bS\\w+\", txt).start(), re.search(r\"\\bS\\w+\", txt).end()"
   ]
  },
  {
   "cell_type": "markdown",
   "metadata": {},
   "source": [
    "**findall**"
   ]
  },
  {
   "cell_type": "code",
   "execution_count": 35,
   "metadata": {},
   "outputs": [
    {
     "data": {
      "text/plain": [
       "['ai', 'ai']"
      ]
     },
     "execution_count": 35,
     "metadata": {},
     "output_type": "execute_result"
    }
   ],
   "source": [
    "re.findall(\"ai\", txt)"
   ]
  },
  {
   "cell_type": "code",
   "execution_count": 11,
   "metadata": {
    "scrolled": true
   },
   "outputs": [
    {
     "data": {
      "text/plain": [
       "[]"
      ]
     },
     "execution_count": 11,
     "metadata": {},
     "output_type": "execute_result"
    }
   ],
   "source": [
    "re.findall(\"Portugal\", txt)"
   ]
  },
  {
   "cell_type": "code",
   "execution_count": 174,
   "metadata": {},
   "outputs": [
    {
     "data": {
      "text/plain": [
       "['a', '', 'a', '', '', '', '', '', '', 'abbccA_', '']"
      ]
     },
     "execution_count": 174,
     "metadata": {},
     "output_type": "execute_result"
    }
   ],
   "source": [
    "t = \"a-a------abbccA_\"\n",
    "re.findall(\"\\w*\", t)"
   ]
  },
  {
   "cell_type": "markdown",
   "metadata": {},
   "source": [
    "**split**"
   ]
  },
  {
   "cell_type": "code",
   "execution_count": 40,
   "metadata": {},
   "outputs": [
    {
     "data": {
      "text/plain": [
       "['The', 'rain', 'in', 'Spain']"
      ]
     },
     "execution_count": 40,
     "metadata": {},
     "output_type": "execute_result"
    }
   ],
   "source": [
    "re.split(\"\\s\", txt)  # txt.split()"
   ]
  },
  {
   "cell_type": "code",
   "execution_count": 45,
   "metadata": {
    "scrolled": true
   },
   "outputs": [
    {
     "data": {
      "text/plain": [
       "['The', 'rain in Spain']"
      ]
     },
     "execution_count": 45,
     "metadata": {},
     "output_type": "execute_result"
    }
   ],
   "source": [
    "re.split(\"\\s\", txt, 1)"
   ]
  },
  {
   "cell_type": "markdown",
   "metadata": {},
   "source": [
    "**sub**"
   ]
  },
  {
   "cell_type": "code",
   "execution_count": 51,
   "metadata": {},
   "outputs": [
    {
     "data": {
      "text/plain": [
       "'The_rain_in_Spain'"
      ]
     },
     "execution_count": 51,
     "metadata": {},
     "output_type": "execute_result"
    }
   ],
   "source": [
    "re.sub(\"\\s\", \"_\", txt)"
   ]
  },
  {
   "cell_type": "code",
   "execution_count": 52,
   "metadata": {},
   "outputs": [
    {
     "data": {
      "text/plain": [
       "'The*rain*in Spain'"
      ]
     },
     "execution_count": 52,
     "metadata": {},
     "output_type": "execute_result"
    }
   ],
   "source": [
    "re.sub(\"\\s\", \"*\", txt, 2)"
   ]
  },
  {
   "cell_type": "markdown",
   "metadata": {},
   "source": [
    "**string**"
   ]
  },
  {
   "cell_type": "code",
   "execution_count": 68,
   "metadata": {},
   "outputs": [
    {
     "name": "stdout",
     "output_type": "stream",
     "text": [
      "The rain in Spain\n"
     ]
    }
   ],
   "source": [
    "x = re.search(r\"\\bS\\w+\", txt)\n",
    "print(x.string)"
   ]
  },
  {
   "cell_type": "markdown",
   "metadata": {},
   "source": [
    "**group**"
   ]
  },
  {
   "cell_type": "code",
   "execution_count": 115,
   "metadata": {},
   "outputs": [
    {
     "data": {
      "text/plain": [
       "'rain'"
      ]
     },
     "execution_count": 115,
     "metadata": {},
     "output_type": "execute_result"
    }
   ],
   "source": [
    "re.search(r\"\\w+n\\b\", txt).group()"
   ]
  },
  {
   "cell_type": "code",
   "execution_count": 113,
   "metadata": {},
   "outputs": [
    {
     "data": {
      "text/plain": [
       "'in'"
      ]
     },
     "execution_count": 113,
     "metadata": {},
     "output_type": "execute_result"
    }
   ],
   "source": [
    "re.search(r\"\\s?in\", txt).group()"
   ]
  },
  {
   "cell_type": "code",
   "execution_count": 112,
   "metadata": {},
   "outputs": [
    {
     "data": {
      "text/plain": [
       "'Spain'"
      ]
     },
     "execution_count": 112,
     "metadata": {},
     "output_type": "execute_result"
    }
   ],
   "source": [
    "re.search(r\"\\w+n$\", txt).group()"
   ]
  },
  {
   "cell_type": "markdown",
   "metadata": {},
   "source": [
    "**compile & match**"
   ]
  },
  {
   "cell_type": "code",
   "execution_count": 119,
   "metadata": {},
   "outputs": [
    {
     "data": {
      "text/plain": [
       "<re.Match object; span=(0, 5), match='hello'>"
      ]
     },
     "execution_count": 119,
     "metadata": {},
     "output_type": "execute_result"
    }
   ],
   "source": [
    "h = re.compile('hello')\n",
    "h.match('hello world')"
   ]
  },
  {
   "cell_type": "code",
   "execution_count": 123,
   "metadata": {},
   "outputs": [
    {
     "data": {
      "text/plain": [
       "<re.Match object; span=(0, 5), match='hello'>"
      ]
     },
     "execution_count": 123,
     "metadata": {},
     "output_type": "execute_result"
    }
   ],
   "source": [
    "re.match('hello', 'hello world')"
   ]
  },
  {
   "cell_type": "code",
   "execution_count": 140,
   "metadata": {},
   "outputs": [
    {
     "name": "stdout",
     "output_type": "stream",
     "text": [
      "1 AB01\n",
      "2 AB01\n",
      "3 AB\n",
      "4 \n",
      "5 01\n"
     ]
    }
   ],
   "source": [
    "a = \"AB01\"\n",
    "m = re.compile(r\"([A-Z]{2})(\\s?_?\\s?)([0-9]{2})\")  # note raw string\n",
    "g = m.match(a)\n",
    "if g:\n",
    "    print(1,g.group()) # For 0 or blank returns the entire match.\n",
    "    print(2,g.group(0)) # For 0 returns the entire match.\n",
    "    print(3,g.group(1))\n",
    "    print(4,g.group(2))\n",
    "    print(5,g.group(3))    "
   ]
  },
  {
   "cell_type": "code",
   "execution_count": 160,
   "metadata": {},
   "outputs": [],
   "source": [
    "txt='Strider is a sick little puppy \\nhttp://apps.facebook.com/dogbook/profile/view/5248435\\\n",
    "\\n@mangaaa I hope they will increase the capacity fast, yesterday was such a pain.'"
   ]
  },
  {
   "cell_type": "code",
   "execution_count": 161,
   "metadata": {},
   "outputs": [
    {
     "data": {
      "text/plain": [
       "<re.Match object; span=(0, 17), match='Strider is a sick'>"
      ]
     },
     "execution_count": 161,
     "metadata": {},
     "output_type": "execute_result"
    }
   ],
   "source": [
    "re.match(r\"\\bS.+k\\b\",txt)"
   ]
  },
  {
   "cell_type": "code",
   "execution_count": 162,
   "metadata": {},
   "outputs": [
    {
     "name": "stdout",
     "output_type": "stream",
     "text": [
      "Strider is a sick\n",
      "(0, 17)\n"
     ]
    }
   ],
   "source": [
    "pattern = r\"\\bS.+k\\b\"\n",
    "w = re.compile(pattern)\n",
    "print(w.match(txt).group())\n",
    "print(w.match(txt).span())"
   ]
  },
  {
   "cell_type": "code",
   "execution_count": 163,
   "metadata": {},
   "outputs": [
    {
     "data": {
      "text/plain": [
       "'Strider is a sick'"
      ]
     },
     "execution_count": 163,
     "metadata": {},
     "output_type": "execute_result"
    }
   ],
   "source": [
    "txt[0:17]"
   ]
  },
  {
   "cell_type": "code",
   "execution_count": 164,
   "metadata": {},
   "outputs": [
    {
     "name": "stdout",
     "output_type": "stream",
     "text": [
      "['http://apps.facebook.com/dogbook/profile/view/5248435']\n",
      "['@mangaaa']\n"
     ]
    }
   ],
   "source": [
    "for tweet in txt.split(\"\\n\"):\n",
    "    # Write regex to match http links and print out result\n",
    "    if re.findall(\"http\\S+\", tweet):\n",
    "        print(re.findall(\"http\\S+\", tweet))\n",
    "        \n",
    "    #Write regex to match user mentions and print out result\n",
    "    if re.findall(\"@\\w+\", tweet): \n",
    "        print(re.findall(\"@\\w+\", tweet))"
   ]
  },
  {
   "cell_type": "markdown",
   "metadata": {},
   "source": [
    "**find dates**"
   ]
  },
  {
   "cell_type": "code",
   "execution_count": 165,
   "metadata": {},
   "outputs": [],
   "source": [
    "sentiment_analysis = ['I would like to apologize for the repeated Video Games Live related tweets. 32 minutes ago',\n",
    "                     '@zaydia but i cant figure out how to get there / back / pay for a hotel 1stY0_  2019',\n",
    "                     'FML: So much for seniority, bc of technological ineptness 23rd June 2018 17:54']"
   ]
  },
  {
   "cell_type": "code",
   "execution_count": 171,
   "metadata": {},
   "outputs": [
    {
     "name": "stdout",
     "output_type": "stream",
     "text": [
      "[]\n",
      "[]\n",
      "['23rd June 2018']\n"
     ]
    }
   ],
   "source": [
    "for date in sentiment_analysis:\n",
    "    print(re.findall(\"\\d{1,2}\\w*\\s[a-zA-Z0-9_]+\\s\\d{4}\", date)) #[a-zA-Z0-9_] = \\w"
   ]
  },
  {
   "cell_type": "code",
   "execution_count": 172,
   "metadata": {},
   "outputs": [
    {
     "data": {
      "text/plain": [
       "['23rd June 2018']"
      ]
     },
     "execution_count": 172,
     "metadata": {},
     "output_type": "execute_result"
    }
   ],
   "source": [
    "re.findall(\"\\d{1,2}\\w*\\s\\w+\\s\\d{4}\", ' '.join(sentiment_analysis))"
   ]
  },
  {
   "cell_type": "code",
   "execution_count": 173,
   "metadata": {},
   "outputs": [
    {
     "data": {
      "text/plain": [
       "['23rd June 2018 17:54']"
      ]
     },
     "execution_count": 173,
     "metadata": {},
     "output_type": "execute_result"
    }
   ],
   "source": [
    "re.findall(\"\\d{1,2}\\w*\\s\\w+\\s\\d{4}\\s\\d{2}:\\d{2}\", ' '.join(sentiment_analysis))"
   ]
  },
  {
   "cell_type": "markdown",
   "metadata": {},
   "source": [
    "**email**"
   ]
  },
  {
   "cell_type": "code",
   "execution_count": 182,
   "metadata": {},
   "outputs": [
    {
     "name": "stdout",
     "output_type": "stream",
     "text": [
      "n.john.smith@gmail.com is VALID\n",
      "87victory@hotmail.com is VALID\n",
      "!#mary-=@msca.com is VALID\n"
     ]
    }
   ],
   "source": [
    "emails = ['n.john.smith@gmail.com', '87victory@hotmail.com', '!#mary-=@msca.com']\n",
    "regex = \"[a-zA-Z.0-9\\W]+@\\w+\\.com\"\n",
    "\n",
    "for email in emails:\n",
    "    if re.match(regex, email): print(\"{} is VALID\".format(email))       \n",
    "    else: print(\"{} is INVALID\".format(email)) "
   ]
  },
  {
   "cell_type": "markdown",
   "metadata": {},
   "source": [
    "**passwords**\n",
    "* passwords containing uppercase, lowercase, punctuation and number are valid, otherwise invalid."
   ]
  },
  {
   "cell_type": "code",
   "execution_count": 186,
   "metadata": {},
   "outputs": [
    {
     "data": {
      "text/plain": [
       "'!\"#$%&\\'()*+,-./:;<=>?@[\\\\]^_`{|}~'"
      ]
     },
     "execution_count": 186,
     "metadata": {},
     "output_type": "execute_result"
    }
   ],
   "source": [
    "from string import punctuation as punc\n",
    "punc"
   ]
  },
  {
   "cell_type": "code",
   "execution_count": 253,
   "metadata": {},
   "outputs": [
    {
     "name": "stdout",
     "output_type": "stream",
     "text": [
      "\u001b[92mApple34!. is a VALID\n",
      "\u001b[92mMyhou52#$ is a VALID\n",
      "\u001b[92m1qaz.2WSX@ is a VALID\n",
      "\u001b[92m@secreT2020 is a VALID\n",
      "\u001b[91mAbc123 is INVALID\n",
      "\u001b[91maK2. is INVALID\n",
      "\u001b[91mAa0? is INVALID\n"
     ]
    }
   ],
   "source": [
    "passwords = ['Apple34!.', 'Myhou52#$', '1qaz.2WSX@','@secreT2020','Abc123','aK2.','Aa0?']\n",
    "regex = [\"[A-Z]+\",\"[a-z]+\",\"[0-9]+\",\"[#$%!@&.]+\",\"[a-zA-Z0-9*#$%!@&.]{8,20}\"]\n",
    "\n",
    "g,r,b='\\033[92m', '\\033[91m','\\033[94m'\n",
    "for password in passwords:\n",
    "    \n",
    "    if all([1 if re.search(i, password) else 0 for i in regex]): \n",
    "        print(f\"{g}{password} is a VALID\")\n",
    "    else: \n",
    "        print(f\"{r}{password} is INVALID\") "
   ]
  },
  {
   "cell_type": "markdown",
   "metadata": {},
   "source": [
    "**lazy & greedy**\n",
    "* The ? makes the + \"lazy\" instead of \"greedy\". This means it tries to match as few times as possible, instead of trying to match as many times as possible."
   ]
  },
  {
   "cell_type": "code",
   "execution_count": 272,
   "metadata": {},
   "outputs": [],
   "source": [
    "sentiment_analysis = \"Was intending to finish editing my 53888886-page novel manuscript tonight,\\\n",
    "(but I forget the name of the site.) And only 12 pages are left. (I'm crying)\""
   ]
  },
  {
   "cell_type": "code",
   "execution_count": 273,
   "metadata": {},
   "outputs": [
    {
     "data": {
      "text/plain": [
       "['5', '3', '8', '8', '8', '8', '8', '6', '1', '2']"
      ]
     },
     "execution_count": 273,
     "metadata": {},
     "output_type": "execute_result"
    }
   ],
   "source": [
    "re.findall(\"\\d+?\", sentiment_analysis)"
   ]
  },
  {
   "cell_type": "code",
   "execution_count": 277,
   "metadata": {},
   "outputs": [
    {
     "data": {
      "text/plain": [
       "['53888886', '12']"
      ]
     },
     "execution_count": 277,
     "metadata": {},
     "output_type": "execute_result"
    }
   ],
   "source": [
    "re.findall(\"\\d+\", sentiment_analysis) #lazy"
   ]
  },
  {
   "cell_type": "code",
   "execution_count": 278,
   "metadata": {},
   "outputs": [
    {
     "data": {
      "text/plain": [
       "[\"(but I forget the name of the site.) And only 12 pages are left. (I'm crying)\"]"
      ]
     },
     "execution_count": 278,
     "metadata": {},
     "output_type": "execute_result"
    }
   ],
   "source": [
    "re.findall(\"\\(.+\\)\", sentiment_analysis)"
   ]
  },
  {
   "cell_type": "code",
   "execution_count": 279,
   "metadata": {},
   "outputs": [
    {
     "data": {
      "text/plain": [
       "['(but I forget the name of the site.)', \"(I'm crying)\"]"
      ]
     },
     "execution_count": 279,
     "metadata": {},
     "output_type": "execute_result"
    }
   ],
   "source": [
    "re.findall(\"\\(.+?\\)\", sentiment_analysis) #lazy"
   ]
  },
  {
   "cell_type": "markdown",
   "metadata": {},
   "source": [
    "**eliminate HTML tags**\n",
    "* The ? makes the + \"lazy\" instead of \"greedy\". This means it tries to match as few times as possible, instead of trying to match as many times as possible."
   ]
  },
  {
   "cell_type": "code",
   "execution_count": 256,
   "metadata": {},
   "outputs": [
    {
     "data": {
      "text/plain": [
       "'I want to see that <strong>amazing show</strong> again!'"
      ]
     },
     "execution_count": 256,
     "metadata": {},
     "output_type": "execute_result"
    }
   ],
   "source": [
    "string = 'I want to see that <strong>amazing show</strong> again!'\n",
    "string"
   ]
  },
  {
   "cell_type": "code",
   "execution_count": 261,
   "metadata": {},
   "outputs": [
    {
     "data": {
      "text/plain": [
       "'I want to see that  again!'"
      ]
     },
     "execution_count": 261,
     "metadata": {},
     "output_type": "execute_result"
    }
   ],
   "source": [
    "re.sub(\"<.+>\", \"\", string) # greedy"
   ]
  },
  {
   "cell_type": "code",
   "execution_count": 263,
   "metadata": {},
   "outputs": [
    {
     "data": {
      "text/plain": [
       "'I want to see that amazing show again!'"
      ]
     },
     "execution_count": 263,
     "metadata": {},
     "output_type": "execute_result"
    }
   ],
   "source": [
    "re.sub(\"<.+?>\", \"\", string) # lazy"
   ]
  },
  {
   "cell_type": "code",
   "execution_count": null,
   "metadata": {},
   "outputs": [],
   "source": []
  }
 ],
 "metadata": {
  "kernelspec": {
   "display_name": "Python 3",
   "language": "python",
   "name": "python3"
  },
  "language_info": {
   "codemirror_mode": {
    "name": "ipython",
    "version": 3
   },
   "file_extension": ".py",
   "mimetype": "text/x-python",
   "name": "python",
   "nbconvert_exporter": "python",
   "pygments_lexer": "ipython3",
   "version": "3.8.5"
  }
 },
 "nbformat": 4,
 "nbformat_minor": 4
}
