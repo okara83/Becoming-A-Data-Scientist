{
 "cells": [
  {
   "cell_type": "code",
   "execution_count": null,
   "metadata": {},
   "outputs": [],
   "source": []
  },
  {
   "cell_type": "code",
   "execution_count": 2,
   "metadata": {},
   "outputs": [],
   "source": [
    "import re"
   ]
  },
  {
   "cell_type": "markdown",
   "metadata": {},
   "source": [
    "### What's the Python Re + Quantifier?"
   ]
  },
  {
   "cell_type": "markdown",
   "metadata": {},
   "source": [
    "Say, you have any regular expression A. The regular expression (regex) A+ then matches one or more occurrences of A.\n",
    "\n",
    "I call the + symbol the **at-least-once quantifier** because it requires at least one occurrence of the preceding regex.\n",
    "\n",
    "For example, the regular expression 'yes+' matches strings 'yes', 'yess', and 'yesssssss'. But it does neither match the string 'ye', nor the empty string '' because the plus quantifier + does not apply to the whole regex 'yes' but only to the preceding regex 's'.\n",
    "\n",
    "Let's study some examples to help you gain a deeper understanding.\n"
   ]
  },
  {
   "cell_type": "markdown",
   "metadata": {},
   "source": [
    "### Greedy Plus (+) Quantifiers"
   ]
  },
  {
   "cell_type": "code",
   "execution_count": 3,
   "metadata": {},
   "outputs": [
    {
     "data": {
      "text/plain": [
       "['aaaaaab']"
      ]
     },
     "execution_count": 3,
     "metadata": {},
     "output_type": "execute_result"
    }
   ],
   "source": [
    "re.findall('a+b', 'aaaaaab')"
   ]
  },
  {
   "cell_type": "markdown",
   "metadata": {},
   "source": [
    "You use the re.findall() method that finds all occurrences of the pattern in the string and returns a list of all matching substrings.\n",
    "\n",
    "The first argument is the regular expression pattern 'a+b' and the second argument is the string to be searched. In plain English, you want to find all patterns in the string that start with at least one, but possibly many, characters 'a', followed by the character 'b'.\n",
    "\n",
    "The findall() method returns the matching substring: 'aaaaaab'.\n",
    "\n",
    "**The asterisk quantifier + is greedy**. This means that it tries to match as many occurrences of the preceding regex as possible.\n",
    "\n",
    "So in our case, it wants to match as many arbitrary characters as possible so that the pattern is still matched. Therefore, the regex engine \"consumes\" the whole sentence.\n"
   ]
  },
  {
   "cell_type": "code",
   "execution_count": 4,
   "metadata": {},
   "outputs": [
    {
     "data": {
      "text/plain": [
       "['abb']"
      ]
     },
     "execution_count": 4,
     "metadata": {},
     "output_type": "execute_result"
    }
   ],
   "source": [
    "re.findall('ab+', 'aaaaaabb') "
   ]
  },
  {
   "cell_type": "markdown",
   "metadata": {},
   "source": [
    "You search for the character 'a' followed by at least one character 'b'. As the plus (+) quantifier is greedy, it matches as many 'b's as it can lay its hands on."
   ]
  },
  {
   "cell_type": "markdown",
   "metadata": {},
   "source": [
    "### Non-Greedy Plus (+) Quantifiers"
   ]
  },
  {
   "cell_type": "markdown",
   "metadata": {},
   "source": [
    "But what if you want to match at least one occurrence of a regex in a non-greedy manner? \n",
    "And you don't want the regex engine to consume more and more as long as it can but returns as quickly as it can from the processing."
   ]
  },
  {
   "cell_type": "code",
   "execution_count": 5,
   "metadata": {},
   "outputs": [
    {
     "data": {
      "text/plain": [
       "['abbbbb']"
      ]
     },
     "execution_count": 5,
     "metadata": {},
     "output_type": "execute_result"
    }
   ],
   "source": [
    "re.findall('ab+', 'aaaaaabbbbb')"
   ]
  },
  {
   "cell_type": "markdown",
   "metadata": {},
   "source": [
    "The regex engine starts with the first character 'a' and finds that it's a partial match. So, it moves on to match the second 'a'---which violates the pattern 'ab+' that allows only for a single character 'a'.\n",
    "\n",
    "So it moves on to the third character, and so on, until it reaches the last character 'a' in the string 'aaaaaabbbbb'. It's a partial match, so it moves on to the first occurrence of the character 'b'. It realizes that the 'b' character can be matched by the part of the regex 'b+'. Thus, the engine starts matching 'b's. And it greedily matches 'b's until it cannot match any further character.\n",
    "\n",
    "At this point it looks at the result and sees that it has found a matching substring which is the result of the operation.\n",
    "\n",
    "However, it could have stopped far earlier to produce a non-greedy match after matching the first character 'b'. Here's an example of the non-greedy quantifier '+?' (both symbols together form one regex expression)."
   ]
  },
  {
   "cell_type": "code",
   "execution_count": 6,
   "metadata": {},
   "outputs": [
    {
     "data": {
      "text/plain": [
       "['ab']"
      ]
     },
     "execution_count": 6,
     "metadata": {},
     "output_type": "execute_result"
    }
   ],
   "source": [
    "re.findall('ab+?', 'aaaaaabbbbb')"
   ]
  },
  {
   "cell_type": "code",
   "execution_count": 9,
   "metadata": {},
   "outputs": [
    {
     "data": {
      "text/plain": [
       "['ab', 'ab']"
      ]
     },
     "execution_count": 9,
     "metadata": {},
     "output_type": "execute_result"
    }
   ],
   "source": [
    "re.findall('ab+?', 'aaaaaabcccabbbb')"
   ]
  },
  {
   "cell_type": "markdown",
   "metadata": {},
   "source": [
    "Now, the regex engine does not greedily \"consume\" as many 'b' characters as possible. Instead, it stops as soon as the pattern is matched (non-greedy)."
   ]
  },
  {
   "cell_type": "code",
   "execution_count": null,
   "metadata": {},
   "outputs": [],
   "source": []
  }
 ],
 "metadata": {
  "kernelspec": {
   "display_name": "Python 3",
   "language": "python",
   "name": "python3"
  },
  "language_info": {
   "codemirror_mode": {
    "name": "ipython",
    "version": 3
   },
   "file_extension": ".py",
   "mimetype": "text/x-python",
   "name": "python",
   "nbconvert_exporter": "python",
   "pygments_lexer": "ipython3",
   "version": "3.7.9"
  }
 },
 "nbformat": 4,
 "nbformat_minor": 4
}
