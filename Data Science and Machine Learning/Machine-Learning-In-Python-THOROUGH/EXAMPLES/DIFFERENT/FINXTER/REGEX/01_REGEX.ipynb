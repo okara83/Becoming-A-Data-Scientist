{
 "cells": [
  {
   "cell_type": "code",
   "execution_count": null,
   "metadata": {},
   "outputs": [],
   "source": []
  },
  {
   "cell_type": "code",
   "execution_count": 6,
   "metadata": {},
   "outputs": [],
   "source": [
    "import re"
   ]
  },
  {
   "cell_type": "code",
   "execution_count": 7,
   "metadata": {},
   "outputs": [],
   "source": [
    "text = '''\n",
    "LADY CAPULET\n",
    "\n",
    "    Alack the day, she's dead, she's dead, she's dead!\n",
    "\n",
    "CAPULET\n",
    "\n",
    "    Ha! let me see her: out, alas! she's cold:\n",
    "    Her blood is settled, and her joints are stiff;\n",
    "    Life and these lips have long been separated:\n",
    "    Death lies on her like an untimely frost\n",
    "    Upon the sweetest flower of all the field.\n",
    "\n",
    "Nurse\n",
    "\n",
    "    O lamentable day!\n",
    "'''"
   ]
  },
  {
   "cell_type": "code",
   "execution_count": 8,
   "metadata": {},
   "outputs": [
    {
     "name": "stdout",
     "output_type": "stream",
     "text": [
      "['she', 'she', 'she', 'she']\n"
     ]
    },
    {
     "data": {
      "text/plain": [
       "\"\\nFinds the pattern 'she' four times in the text:\\n\\n['she', 'she', 'she', 'she']\\n\""
      ]
     },
     "execution_count": 8,
     "metadata": {},
     "output_type": "execute_result"
    }
   ],
   "source": [
    "print(re.findall('she', text))\n",
    "'''\n",
    "Finds the pattern 'she' four times in the text:\n",
    "\n",
    "['she', 'she', 'she', 'she']\n",
    "'''"
   ]
  },
  {
   "cell_type": "code",
   "execution_count": null,
   "metadata": {},
   "outputs": [],
   "source": []
  },
  {
   "cell_type": "code",
   "execution_count": 9,
   "metadata": {},
   "outputs": [
    {
     "name": "stdout",
     "output_type": "stream",
     "text": [
      "<re.Match object; span=(34, 37), match='she'>\n"
     ]
    },
    {
     "data": {
      "text/plain": [
       "\"\\nFinds the first match of 'she' in the text:\\n\\n<re.Match object; span=(34, 37), match='she'>\\n\\nThe match object contains important information\\nsuch as the matched position.\\n\""
      ]
     },
     "execution_count": 9,
     "metadata": {},
     "output_type": "execute_result"
    }
   ],
   "source": [
    "\n",
    "print(re.search('she', text))\n",
    "'''\n",
    "Finds the first match of 'she' in the text:\n",
    "\n",
    "<re.Match object; span=(34, 37), match='she'>\n",
    "\n",
    "The match object contains important information\n",
    "such as the matched position.\n",
    "'''\n",
    "\n"
   ]
  },
  {
   "cell_type": "code",
   "execution_count": 10,
   "metadata": {},
   "outputs": [
    {
     "name": "stdout",
     "output_type": "stream",
     "text": [
      "None\n"
     ]
    },
    {
     "data": {
      "text/plain": [
       "'\\nTries to match any string prefix -- but nothing found:\\n\\nNone\\n'"
      ]
     },
     "execution_count": 10,
     "metadata": {},
     "output_type": "execute_result"
    }
   ],
   "source": [
    "\n",
    "print(re.match('she', text))\n",
    "'''\n",
    "Tries to match any string prefix -- but nothing found:\n",
    "\n",
    "None\n",
    "'''\n",
    "\n"
   ]
  },
  {
   "cell_type": "code",
   "execution_count": 11,
   "metadata": {},
   "outputs": [
    {
     "name": "stdout",
     "output_type": "stream",
     "text": [
      "None\n"
     ]
    },
    {
     "data": {
      "text/plain": [
       "\"\\nFails to match the whole string with the pattern 'she':\\n\\nNone\\n\""
      ]
     },
     "execution_count": 11,
     "metadata": {},
     "output_type": "execute_result"
    }
   ],
   "source": [
    "\n",
    "print(re.fullmatch('she', text))\n",
    "'''\n",
    "Fails to match the whole string with the pattern 'she':\n",
    "\n",
    "None\n",
    "'''\n",
    "\n"
   ]
  },
  {
   "cell_type": "code",
   "execution_count": 12,
   "metadata": {},
   "outputs": [
    {
     "name": "stdout",
     "output_type": "stream",
     "text": [
      "['', 'LADY CAPULET', '', \"    Alack the day, she's dead, she's dead, she's dead!\", '', 'CAPULET', '', \"    Ha! let me see her: out, alas! she's cold:\", '    Her blood is settled, and her joints are stiff;', '    Life and these lips have long been separated:', '    Death lies on her like an untimely frost', '    Upon the sweetest flower of all the field.', '', 'Nurse', '', '    O lamentable day!', '']\n"
     ]
    },
    {
     "data": {
      "text/plain": [
       "'\\nSplits the whole string on the new line delimiter \\'\\n\\':\\n\\n[\\'\\', \\'LADY CAPULET\\', \\'\\',\\n\"    Alack the day, she\\'s dead, she\\'s dead, she\\'s dead!\",\\n\\'\\', \\'CAPULET\\', \\'\\',\\n\"    Ha! let me see her: out, alas! she\\'s cold:\",\\n\\'    Her blood is settled, and her joints are stiff;\\',\\n\\'    Life and these lips have long been separated:\\',\\n\\'    Death lies on her like an untimely frost\\',\\n\\'    Upon the sweetest flower of all the field.\\', \\'\\',\\n\\'Nurse\\', \\'\\', \\'    O lamentable day!\\', \\'\\']\\n'"
      ]
     },
     "execution_count": 12,
     "metadata": {},
     "output_type": "execute_result"
    }
   ],
   "source": [
    "\n",
    "print(re.split('\\n', text))\n",
    "'''\n",
    "Splits the whole string on the new line delimiter '\\n':\n",
    "\n",
    "['', 'LADY CAPULET', '',\n",
    "\"    Alack the day, she's dead, she's dead, she's dead!\",\n",
    "'', 'CAPULET', '',\n",
    "\"    Ha! let me see her: out, alas! she's cold:\",\n",
    "'    Her blood is settled, and her joints are stiff;',\n",
    "'    Life and these lips have long been separated:',\n",
    "'    Death lies on her like an untimely frost',\n",
    "'    Upon the sweetest flower of all the field.', '',\n",
    "'Nurse', '', '    O lamentable day!', '']\n",
    "'''\n",
    "\n"
   ]
  },
  {
   "cell_type": "code",
   "execution_count": 13,
   "metadata": {},
   "outputs": [
    {
     "name": "stdout",
     "output_type": "stream",
     "text": [
      "\n",
      "LADY CAPULET\n",
      "\n",
      "    Alack the day, he's dead, he's dead, he's dead!\n",
      "\n",
      "CAPULET\n",
      "\n",
      "    Ha! let me see her: out, alas! he's cold:\n",
      "    Her blood is settled, and her joints are stiff;\n",
      "    Life and these lips have long been separated:\n",
      "    Death lies on her like an untimely frost\n",
      "    Upon the sweetest flower of all the field.\n",
      "\n",
      "Nurse\n",
      "\n",
      "    O lamentable day!\n",
      "\n"
     ]
    },
    {
     "data": {
      "text/plain": [
       "\"\\nReplaces all occurrences of 'she' with 'he':\\n\\nLADY CAPULET\\n\\n    Alack the day, he's dead, he's dead, he's dead!\\n\\nCAPULET\\n\\n    Ha! let me see her: out, alas! he's cold:\\n    Her blood is settled, and her joints are stiff;\\n    Life and these lips have long been separated:\\n    Death lies on her like an untimely frost\\n    Upon the sweetest flower of all the field.\\n\\nNurse\\n\\n    O lamentable day!\\n\""
      ]
     },
     "execution_count": 13,
     "metadata": {},
     "output_type": "execute_result"
    }
   ],
   "source": [
    "print(re.sub('she', 'he', text))\n",
    "'''\n",
    "Replaces all occurrences of 'she' with 'he':\n",
    "\n",
    "LADY CAPULET\n",
    "\n",
    "    Alack the day, he's dead, he's dead, he's dead!\n",
    "\n",
    "CAPULET\n",
    "\n",
    "    Ha! let me see her: out, alas! he's cold:\n",
    "    Her blood is settled, and her joints are stiff;\n",
    "    Life and these lips have long been separated:\n",
    "    Death lies on her like an untimely frost\n",
    "    Upon the sweetest flower of all the field.\n",
    "\n",
    "Nurse\n",
    "\n",
    "    O lamentable day!\n",
    "'''"
   ]
  },
  {
   "cell_type": "code",
   "execution_count": null,
   "metadata": {},
   "outputs": [],
   "source": []
  },
  {
   "cell_type": "code",
   "execution_count": null,
   "metadata": {},
   "outputs": [],
   "source": []
  },
  {
   "cell_type": "code",
   "execution_count": null,
   "metadata": {},
   "outputs": [],
   "source": []
  },
  {
   "cell_type": "code",
   "execution_count": null,
   "metadata": {},
   "outputs": [],
   "source": []
  },
  {
   "cell_type": "code",
   "execution_count": null,
   "metadata": {},
   "outputs": [],
   "source": []
  }
 ],
 "metadata": {
  "kernelspec": {
   "display_name": "Python 3",
   "language": "python",
   "name": "python3"
  },
  "language_info": {
   "codemirror_mode": {
    "name": "ipython",
    "version": 3
   },
   "file_extension": ".py",
   "mimetype": "text/x-python",
   "name": "python",
   "nbconvert_exporter": "python",
   "pygments_lexer": "ipython3",
   "version": "3.7.9"
  }
 },
 "nbformat": 4,
 "nbformat_minor": 4
}
