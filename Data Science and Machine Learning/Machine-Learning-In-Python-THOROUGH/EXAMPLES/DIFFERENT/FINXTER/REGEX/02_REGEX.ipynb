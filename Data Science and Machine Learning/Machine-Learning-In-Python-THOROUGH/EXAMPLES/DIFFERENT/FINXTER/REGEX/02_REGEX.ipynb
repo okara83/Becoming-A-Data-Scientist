{
 "cells": [
  {
   "cell_type": "code",
   "execution_count": 1,
   "metadata": {},
   "outputs": [],
   "source": [
    "import re\n"
   ]
  },
  {
   "cell_type": "code",
   "execution_count": 2,
   "metadata": {},
   "outputs": [],
   "source": [
    "text = '''\n",
    "    Ha! let me see her: out, alas! he's cold:\n",
    "    Her blood is settled, and her joints are stiff;\n",
    "    Life and these lips have long been separated:\n",
    "    Death lies on her like an untimely frost\n",
    "    Upon the sweetest flower of all the field.\n",
    "'''"
   ]
  },
  {
   "cell_type": "code",
   "execution_count": 3,
   "metadata": {},
   "outputs": [
    {
     "name": "stdout",
     "output_type": "stream",
     "text": [
      "['Ha!']\n"
     ]
    },
    {
     "data": {
      "text/plain": [
       "\"\\nFinds all occurrences of an arbitrary character that is\\nfollowed by the character sequence 'a!'.\\n['Ha!']\\n\""
      ]
     },
     "execution_count": 3,
     "metadata": {},
     "output_type": "execute_result"
    }
   ],
   "source": [
    "print(re.findall('.a!', text))\n",
    "'''\n",
    "Finds all occurrences of an arbitrary character that is\n",
    "followed by the character sequence 'a!'.\n",
    "['Ha!']\n",
    "'''"
   ]
  },
  {
   "cell_type": "code",
   "execution_count": 4,
   "metadata": {},
   "outputs": [
    {
     "name": "stdout",
     "output_type": "stream",
     "text": [
      "['is settled, and']\n"
     ]
    },
    {
     "data": {
      "text/plain": [
       "\"\\nFinds all occurrences of the word 'is',\\nfollowed by an arbitrary number of characters\\nand the word 'and'.\\n['is settled, and']\\n\""
      ]
     },
     "execution_count": 4,
     "metadata": {},
     "output_type": "execute_result"
    }
   ],
   "source": [
    "print(re.findall('is.*and', text))\n",
    "'''\n",
    "Finds all occurrences of the word 'is',\n",
    "followed by an arbitrary number of characters\n",
    "and the word 'and'.\n",
    "['is settled, and']\n",
    "'''"
   ]
  },
  {
   "cell_type": "code",
   "execution_count": 5,
   "metadata": {},
   "outputs": [
    {
     "name": "stdout",
     "output_type": "stream",
     "text": [
      "['her:', 'her', 'her']\n"
     ]
    },
    {
     "data": {
      "text/plain": [
       "\"\\nFinds all occurrences of the word 'her',\\nfollowed by zero or one occurrences of the colon ':'.\\n['her:', 'her', 'her']\\n\""
      ]
     },
     "execution_count": 5,
     "metadata": {},
     "output_type": "execute_result"
    }
   ],
   "source": [
    "print(re.findall('her:?', text))\n",
    "'''\n",
    "Finds all occurrences of the word 'her',\n",
    "followed by zero or one occurrences of the colon ':'.\n",
    "['her:', 'her', 'her']\n",
    "'''"
   ]
  },
  {
   "cell_type": "code",
   "execution_count": 6,
   "metadata": {},
   "outputs": [
    {
     "name": "stdout",
     "output_type": "stream",
     "text": [
      "['her:']\n"
     ]
    },
    {
     "data": {
      "text/plain": [
       "\"\\nFinds all occurrences of the word 'her',\\nfollowed by one or more occurrences of the colon ':'.\\n['her:']\\n\""
      ]
     },
     "execution_count": 6,
     "metadata": {},
     "output_type": "execute_result"
    }
   ],
   "source": [
    "print(re.findall('her:+', text))\n",
    "'''\n",
    "Finds all occurrences of the word 'her',\n",
    "followed by one or more occurrences of the colon ':'.\n",
    "['her:']\n",
    "'''\n"
   ]
  },
  {
   "cell_type": "code",
   "execution_count": 7,
   "metadata": {},
   "outputs": [
    {
     "name": "stdout",
     "output_type": "stream",
     "text": [
      "[]\n"
     ]
    },
    {
     "data": {
      "text/plain": [
       "\"\\nFinds all occurrences where the string starts with\\nthe character sequence 'Ha', followed by an arbitrary\\nnumber of characters except for the new-line character. \\nCan you figure out why Python doesn't find any?\\n[]\\n\""
      ]
     },
     "execution_count": 7,
     "metadata": {},
     "output_type": "execute_result"
    }
   ],
   "source": [
    "print(re.findall('^Ha.*', text))\n",
    "'''\n",
    "Finds all occurrences where the string starts with\n",
    "the character sequence 'Ha', followed by an arbitrary\n",
    "number of characters except for the new-line character. \n",
    "Can you figure out why Python doesn't find any?\n",
    "[]\n",
    "'''"
   ]
  },
  {
   "cell_type": "code",
   "execution_count": 8,
   "metadata": {},
   "outputs": [
    {
     "name": "stdout",
     "output_type": "stream",
     "text": [
      "['\\n']\n"
     ]
    },
    {
     "data": {
      "text/plain": [
       "\"\\nFinds all occurrences where the new-line character '\\n'\\noccurs at the end of the string.\\n['\\n']\\n\""
      ]
     },
     "execution_count": 8,
     "metadata": {},
     "output_type": "execute_result"
    }
   ],
   "source": [
    "print(re.findall('\\n$', text))\n",
    "'''\n",
    "Finds all occurrences where the new-line character '\\n'\n",
    "occurs at the end of the string.\n",
    "['\\n']\n",
    "'''"
   ]
  },
  {
   "cell_type": "code",
   "execution_count": 9,
   "metadata": {},
   "outputs": [
    {
     "name": "stdout",
     "output_type": "stream",
     "text": [
      "['Life', 'Death']\n"
     ]
    },
    {
     "data": {
      "text/plain": [
       "\"\\nFinds all occurrences of either the word 'Life' or the\\nword 'Death'.\\n['Life', 'Death']\\n\""
      ]
     },
     "execution_count": 9,
     "metadata": {},
     "output_type": "execute_result"
    }
   ],
   "source": [
    "print(re.findall('(Life|Death)', text))\n",
    "'''\n",
    "Finds all occurrences of either the word 'Life' or the\n",
    "word 'Death'.\n",
    "['Life', 'Death']\n",
    "'''"
   ]
  },
  {
   "cell_type": "code",
   "execution_count": null,
   "metadata": {},
   "outputs": [],
   "source": []
  },
  {
   "cell_type": "code",
   "execution_count": null,
   "metadata": {},
   "outputs": [],
   "source": []
  }
 ],
 "metadata": {
  "kernelspec": {
   "display_name": "Python 3",
   "language": "python",
   "name": "python3"
  },
  "language_info": {
   "codemirror_mode": {
    "name": "ipython",
    "version": 3
   },
   "file_extension": ".py",
   "mimetype": "text/x-python",
   "name": "python",
   "nbconvert_exporter": "python",
   "pygments_lexer": "ipython3",
   "version": "3.7.9"
  }
 },
 "nbformat": 4,
 "nbformat_minor": 4
}
