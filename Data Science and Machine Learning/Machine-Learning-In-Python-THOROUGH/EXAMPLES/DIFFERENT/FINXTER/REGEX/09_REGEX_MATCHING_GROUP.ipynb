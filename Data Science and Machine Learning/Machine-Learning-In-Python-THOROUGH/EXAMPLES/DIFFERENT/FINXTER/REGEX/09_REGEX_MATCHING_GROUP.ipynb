{
 "cells": [
  {
   "cell_type": "code",
   "execution_count": 1,
   "metadata": {},
   "outputs": [],
   "source": [
    "import re"
   ]
  },
  {
   "cell_type": "markdown",
   "metadata": {},
   "source": [
    "**What's a matching group?**\n",
    "\n",
    "Like you use parentheses to structure mathematical expressions, **(2 + 2) * 2** versus **2 + (2 * 2)**, you use parentheses to structure regular expressions.\n",
    "\n",
    "An example regex that does this is **'a(b|c)'**.\n",
    "\n",
    "The whole content enclosed in the opening and closing parentheses is called matching group (or capture group). You can have multiple matching groups in a single regex. And you can even have hierarchical matching groups, for example **'a(b|(cd))'**.\n",
    "\n",
    "One big advantage of a matching group is that it captures the matched substring. You can retrieve it in other parts of the regular expression---or after analyzing the result of the whole regex matching.\n",
    "\n",
    "Let's have a short example for the most basic use of a matching group---to structure the regex.\n",
    "\n",
    "Say you create regex b?(a.)* with the matching group (a.) that matches all patterns starting with zero or one occurrence of character 'b' and an arbitrary number of two-character-sequences starting with the character 'a'.\n",
    "\n",
    "Hence, the strings **'bacacaca', 'aaaa', ''** (the empty string), and **'Xababababab'** all match your regex.\n",
    "\n",
    "The use of the parentheses for structuring the regular expression is intuitive and should come naturally to you because the same rules apply as for arithmetic operations. However, there's a more advanced use of regex groups: **retrieval**.\n",
    "\n",
    "You can retrieve the matched content of each matching group. So the next question naturally arises:\n",
    "\n",
    "**How to Get the First Matching Group?**\n",
    "\n",
    "There are two scenarios when you want to access the content of your matching groups:\n",
    "\n",
    " 1. Access the matching group in the regex pattern to reuse partially matched text from one group somewhere else.\n",
    " 2. Access the matching group after the whole match operation to analyze the matched text in your Python code.\n",
    "\n",
    "In the first case, you simply get the first matching group with the **\\number** special sequence. For example, to get the first matching group, you'd use the special sequence."
   ]
  },
  {
   "cell_type": "code",
   "execution_count": 2,
   "metadata": {},
   "outputs": [
    {
     "data": {
      "text/plain": [
       "<re.Match object; span=(0, 7), match='jon is '>"
      ]
     },
     "execution_count": 2,
     "metadata": {},
     "output_type": "execute_result"
    }
   ],
   "source": [
    "re.search(r'(j.n) is ','jon is jon')"
   ]
  },
  {
   "cell_type": "markdown",
   "metadata": {},
   "source": [
    "You'll use this feature a lot because it gives you much more expression power: for example, you can search for a name in a text and then process specifically this name in the rest of the text (and not all other names that would also fit the pattern).\n",
    "\n",
    "Note that the numbering of the groups start with 1 and not with 0 -- a rare exception to the rule that in programming, all numbering starts with 0.\n",
    "\n",
    "In the second case, you want to know the contents of the first group after the whole match. How do you do that?\n",
    "\n",
    "The answer is also simple: use the m.group(0) method on the matching object m. Here's an example:"
   ]
  },
  {
   "cell_type": "code",
   "execution_count": 3,
   "metadata": {},
   "outputs": [],
   "source": [
    "m = re.search(r'(j.n)','jon is jon')"
   ]
  },
  {
   "cell_type": "code",
   "execution_count": 4,
   "metadata": {},
   "outputs": [
    {
     "data": {
      "text/plain": [
       "'jon'"
      ]
     },
     "execution_count": 4,
     "metadata": {},
     "output_type": "execute_result"
    }
   ],
   "source": [
    "m.group(1)"
   ]
  },
  {
   "cell_type": "markdown",
   "metadata": {},
   "source": [
    "The numbering works consistently with the previously introduced regex group numbering: start with identifier 1 to access the contents of the first group.\n",
    "\n",
    "**How to Get All Other Matching Groups?**\n",
    "\n",
    "Again, there are two different intentions when asking this question:\n",
    "\n",
    " 1. Access the matching group in the regex pattern to reuse partially matched text from one group somewhere else.\n",
    " 2. Access the matching group after the whole match operation to analyze the matched text in your Python code.\n",
    "\n",
    "In the first case, you use the special sequence to access the second matching group, to access the third matching group, and 9 to access the ninety-ninth matching group.\n",
    "\n",
    "Here's an example:\n"
   ]
  },
  {
   "cell_type": "code",
   "execution_count": null,
   "metadata": {},
   "outputs": [],
   "source": []
  },
  {
   "cell_type": "code",
   "execution_count": 5,
   "metadata": {},
   "outputs": [
    {
     "data": {
      "text/plain": [
       "<re.Match object; span=(0, 8), match='jon jim '>"
      ]
     },
     "execution_count": 5,
     "metadata": {},
     "output_type": "execute_result"
    }
   ],
   "source": [
    "re.search(r'(j..) (j..)\\s+', 'jon jim jim')"
   ]
  },
  {
   "cell_type": "code",
   "execution_count": 6,
   "metadata": {},
   "outputs": [
    {
     "data": {
      "text/plain": [
       "<re.Match object; span=(0, 8), match='jon jim '>"
      ]
     },
     "execution_count": 6,
     "metadata": {},
     "output_type": "execute_result"
    }
   ],
   "source": [
    "re.search(r'(j..) (j..)\\s+', 'jon jim jon')"
   ]
  },
  {
   "cell_type": "markdown",
   "metadata": {},
   "source": [
    "As you can see, the special sequence refers to the matching contents of the second group **'jim'**.\n",
    "\n",
    "In the second case, you can simply increase the identifier too to access the other matching groups in your Python code:"
   ]
  },
  {
   "cell_type": "code",
   "execution_count": 7,
   "metadata": {},
   "outputs": [],
   "source": [
    "m =  re.search(r'(j..) (j..)\\s+', 'jon jim jim')"
   ]
  },
  {
   "cell_type": "code",
   "execution_count": 8,
   "metadata": {},
   "outputs": [
    {
     "data": {
      "text/plain": [
       "'jon jim '"
      ]
     },
     "execution_count": 8,
     "metadata": {},
     "output_type": "execute_result"
    }
   ],
   "source": [
    "m.group(0)"
   ]
  },
  {
   "cell_type": "code",
   "execution_count": 9,
   "metadata": {},
   "outputs": [
    {
     "data": {
      "text/plain": [
       "'jon'"
      ]
     },
     "execution_count": 9,
     "metadata": {},
     "output_type": "execute_result"
    }
   ],
   "source": [
    "m.group(1)"
   ]
  },
  {
   "cell_type": "code",
   "execution_count": 10,
   "metadata": {},
   "outputs": [
    {
     "data": {
      "text/plain": [
       "'jim'"
      ]
     },
     "execution_count": 10,
     "metadata": {},
     "output_type": "execute_result"
    }
   ],
   "source": [
    "m.group(2)"
   ]
  },
  {
   "cell_type": "markdown",
   "metadata": {},
   "source": [
    "This code also shows an interesting feature: if you use the identifier 0 as an argument to the **m.group(0)** method, the regex module will give you the contents of the whole match. You can think of it as the first group being the whole match."
   ]
  },
  {
   "cell_type": "code",
   "execution_count": null,
   "metadata": {},
   "outputs": [],
   "source": []
  },
  {
   "cell_type": "code",
   "execution_count": null,
   "metadata": {},
   "outputs": [],
   "source": []
  },
  {
   "cell_type": "code",
   "execution_count": null,
   "metadata": {},
   "outputs": [],
   "source": []
  },
  {
   "cell_type": "code",
   "execution_count": null,
   "metadata": {},
   "outputs": [],
   "source": []
  },
  {
   "cell_type": "code",
   "execution_count": null,
   "metadata": {},
   "outputs": [],
   "source": []
  },
  {
   "cell_type": "code",
   "execution_count": null,
   "metadata": {},
   "outputs": [],
   "source": []
  }
 ],
 "metadata": {
  "kernelspec": {
   "display_name": "Python 3",
   "language": "python",
   "name": "python3"
  },
  "language_info": {
   "codemirror_mode": {
    "name": "ipython",
    "version": 3
   },
   "file_extension": ".py",
   "mimetype": "text/x-python",
   "name": "python",
   "nbconvert_exporter": "python",
   "pygments_lexer": "ipython3",
   "version": "3.7.9"
  }
 },
 "nbformat": 4,
 "nbformat_minor": 4
}
