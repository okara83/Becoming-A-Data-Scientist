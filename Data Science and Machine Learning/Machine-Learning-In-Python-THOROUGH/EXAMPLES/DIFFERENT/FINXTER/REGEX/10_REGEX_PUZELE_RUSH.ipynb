{
 "cells": [
  {
   "cell_type": "code",
   "execution_count": null,
   "metadata": {},
   "outputs": [],
   "source": []
  },
  {
   "cell_type": "code",
   "execution_count": 1,
   "metadata": {},
   "outputs": [
    {
     "name": "stdout",
     "output_type": "stream",
     "text": [
      "match\n"
     ]
    }
   ],
   "source": [
    "# Puzzle 1\n",
    "import re\n",
    "\n",
    "m = re.match('.', 'Regex')\n",
    "result = 'match' if m else 'nothing'\n",
    "\n",
    "print(result)"
   ]
  },
  {
   "cell_type": "code",
   "execution_count": null,
   "metadata": {},
   "outputs": [],
   "source": []
  },
  {
   "cell_type": "code",
   "execution_count": 2,
   "metadata": {},
   "outputs": [
    {
     "name": "stdout",
     "output_type": "stream",
     "text": [
      "3\n"
     ]
    }
   ],
   "source": [
    "# Puzzle 2\n",
    "import re\n",
    "\n",
    "text = 'Spiderman'\n",
    "matches = re.findall('...', text)\n",
    "result = len(matches[2])\n",
    "\n",
    "print(result)"
   ]
  },
  {
   "cell_type": "code",
   "execution_count": null,
   "metadata": {},
   "outputs": [],
   "source": []
  },
  {
   "cell_type": "code",
   "execution_count": 3,
   "metadata": {},
   "outputs": [
    {
     "name": "stdout",
     "output_type": "stream",
     "text": [
      "2\n"
     ]
    }
   ],
   "source": [
    "# Puzzle 3\n",
    "import re\n",
    "\n",
    "fruits = [\n",
    "    \"apple\",\n",
    "    \"banana\",\n",
    "    \"orange\",\n",
    "    \"kiwi\"\n",
    "]\n",
    "lx = lambda x: re.match(\".?a\", x)\n",
    "result = list(filter(lx, fruits))\n",
    "\n",
    "print(len(result))"
   ]
  },
  {
   "cell_type": "code",
   "execution_count": null,
   "metadata": {},
   "outputs": [],
   "source": []
  },
  {
   "cell_type": "code",
   "execution_count": 4,
   "metadata": {},
   "outputs": [
    {
     "name": "stdout",
     "output_type": "stream",
     "text": [
      "banana\n"
     ]
    }
   ],
   "source": [
    "# Puzzle 4\n",
    "import re\n",
    "\n",
    "fruits = [\n",
    "    \"apple\",\n",
    "    \"banana\",\n",
    "    \"orange\",\n",
    "    \"bananas\"\n",
    "]\n",
    "\n",
    "result = [x for x in fruits if re.fullmatch(\"b.+a\", x)]\n",
    "\n",
    "print(result[0])"
   ]
  },
  {
   "cell_type": "code",
   "execution_count": null,
   "metadata": {},
   "outputs": [],
   "source": []
  },
  {
   "cell_type": "code",
   "execution_count": 5,
   "metadata": {},
   "outputs": [
    {
     "name": "stdout",
     "output_type": "stream",
     "text": [
      "4\n"
     ]
    }
   ],
   "source": [
    "# Puzzle 5\n",
    "import re\n",
    "\n",
    "regex = '^(https?:\\/\\/)?(www\\.)?[a-zA-Z0-9]{1,256}\\.[a-zA-Z]{1,6}$'\n",
    "\n",
    "urls = [\n",
    "    'https://de.wikipedia.org',\n",
    "    'nytimes.com',\n",
    "    'https://www.google.de/?client=safari',\n",
    "    'www.mywebsite.info',\n",
    "    'https://www.google.de/?client=safari',\n",
    "    'https://www.wayfair.de/v/checkout/basket'\n",
    "]\n",
    "\n",
    "rejected = [url for url in urls if not re.match(regex, url)]\n",
    "print(len(rejected))"
   ]
  },
  {
   "cell_type": "code",
   "execution_count": null,
   "metadata": {},
   "outputs": [],
   "source": []
  },
  {
   "cell_type": "markdown",
   "metadata": {},
   "source": [
    "## Thanks to FINXTER!!!!"
   ]
  },
  {
   "cell_type": "markdown",
   "metadata": {},
   "source": [
    "## You can find many useful informations about PYTHON:\n",
    "\n",
    "   ##  * https://blog.finxter.com/about/\n",
    "    \n",
    "   ## * https://github.com/finxter"
   ]
  },
  {
   "cell_type": "code",
   "execution_count": null,
   "metadata": {},
   "outputs": [],
   "source": []
  },
  {
   "cell_type": "code",
   "execution_count": null,
   "metadata": {},
   "outputs": [],
   "source": []
  },
  {
   "cell_type": "code",
   "execution_count": null,
   "metadata": {},
   "outputs": [],
   "source": []
  },
  {
   "cell_type": "code",
   "execution_count": null,
   "metadata": {},
   "outputs": [],
   "source": []
  },
  {
   "cell_type": "code",
   "execution_count": null,
   "metadata": {},
   "outputs": [],
   "source": []
  }
 ],
 "metadata": {
  "kernelspec": {
   "display_name": "Python 3",
   "language": "python",
   "name": "python3"
  },
  "language_info": {
   "codemirror_mode": {
    "name": "ipython",
    "version": 3
   },
   "file_extension": ".py",
   "mimetype": "text/x-python",
   "name": "python",
   "nbconvert_exporter": "python",
   "pygments_lexer": "ipython3",
   "version": "3.7.9"
  }
 },
 "nbformat": 4,
 "nbformat_minor": 4
}
